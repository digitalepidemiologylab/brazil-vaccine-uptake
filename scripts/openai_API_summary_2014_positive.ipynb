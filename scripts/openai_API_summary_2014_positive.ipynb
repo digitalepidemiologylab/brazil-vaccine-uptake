{
 "cells": [
  {
   "cell_type": "markdown",
   "id": "e90b7c28",
   "metadata": {},
   "source": [
    "# Import libraries and data"
   ]
  },
  {
   "cell_type": "code",
   "execution_count": 1,
   "id": "433219e8-8f66-4be5-a3b8-e39fca644032",
   "metadata": {
    "tags": []
   },
   "outputs": [],
   "source": [
    "# Import libraries\n",
    "import os\n",
    "import openai\n",
    "import pandas as pd\n",
    "import numpy as np\n",
    "import openpyxl"
   ]
  },
  {
   "cell_type": "code",
   "execution_count": 2,
   "id": "2c68f056-74fe-4f29-9daf-6bdef5cc0701",
   "metadata": {},
   "outputs": [],
   "source": [
    "# Get OpenAI API secret key (change this file with your own OpenAI key)\n",
    "open_ai_key = open('../data/local/openai_key.txt', 'r').read()\n",
    "openai.api_key = open_ai_key\n",
    "#openai.Model.list()"
   ]
  },
  {
   "cell_type": "code",
   "execution_count": 3,
   "id": "aa3d0327",
   "metadata": {},
   "outputs": [],
   "source": [
    "# Prompt for GPT\n",
    "prompt_raw = \"I would like to summarise in maximum 300 characters and in English what the following sentences in Portuguese talk about. \\\n",
    "Do not use aspects mentioned only in one sentence as part of the summary: TWEETS\""
   ]
  },
  {
   "cell_type": "markdown",
   "id": "3c7787f4",
   "metadata": {},
   "source": [
    "# 2014 positive"
   ]
  },
  {
   "cell_type": "markdown",
   "id": "c0101e21",
   "metadata": {},
   "source": [
    "## January"
   ]
  },
  {
   "cell_type": "code",
   "execution_count": 4,
   "id": "0b3f06fc",
   "metadata": {
    "scrolled": true,
    "tags": []
   },
   "outputs": [
    {
     "name": "stdout",
     "output_type": "stream",
     "text": [
      "<class 'pandas.core.frame.DataFrame'>\n",
      "RangeIndex: 2019 entries, 0 to 2018\n",
      "Data columns (total 53 columns):\n",
      " #   Column                  Non-Null Count  Dtype  \n",
      "---  ------                  --------------  -----  \n",
      " 0   index                   2019 non-null   int64  \n",
      " 1   LocationCode            2019 non-null   object \n",
      " 2   LocationName            2019 non-null   object \n",
      " 3   StatesCode              2019 non-null   object \n",
      " 4   ...4                    2019 non-null   int64  \n",
      " 5   id                      2019 non-null   float64\n",
      " 6   text                    2019 non-null   object \n",
      " 7   label                   2019 non-null   object \n",
      " 8   in_reply_to_status_id   103 non-null    float64\n",
      " 9   in_reply_to_user_id     111 non-null    float64\n",
      " 10  quoted_user_id          0 non-null      float64\n",
      " 11  quoted_status_id        0 non-null      float64\n",
      " 12  retweeted_user_id       558 non-null    float64\n",
      " 13  retweeted_status_id     558 non-null    float64\n",
      " 14  created_at              2019 non-null   object \n",
      " 15  entities.user_mentions  809 non-null    object \n",
      " 16  user.id                 2019 non-null   int64  \n",
      " 17  user.screen_name        2019 non-null   object \n",
      " 18  user.name               2019 non-null   object \n",
      " 19  user.description        1806 non-null   object \n",
      " 20  user.timezone           0 non-null      float64\n",
      " 21  user.location           2010 non-null   object \n",
      " 22  user.num_followers      2019 non-null   int64  \n",
      " 23  user.num_following      2019 non-null   int64  \n",
      " 24  user.created_at         2019 non-null   object \n",
      " 25  user.statuses_count     2019 non-null   int64  \n",
      " 26  user.is_verified        2019 non-null   bool   \n",
      " 27  lang                    2019 non-null   object \n",
      " 28  token_count             2019 non-null   int64  \n",
      " 29  is_retweet              2019 non-null   bool   \n",
      " 30  has_quote               2019 non-null   bool   \n",
      " 31  is_reply                2019 non-null   bool   \n",
      " 32  contains_keywords       2019 non-null   bool   \n",
      " 33  longitude               2019 non-null   float64\n",
      " 34  latitude                2019 non-null   float64\n",
      " 35  country_code            2019 non-null   object \n",
      " 36  geoname_id              1982 non-null   float64\n",
      " 37  location_type           2019 non-null   object \n",
      " 38  geo_type                2019 non-null   int64  \n",
      " 39  region                  2019 non-null   object \n",
      " 40  subregion               2019 non-null   object \n",
      " 41  num_quotes              2019 non-null   int64  \n",
      " 42  num_replies             2019 non-null   int64  \n",
      " 43  num_retweets            2019 non-null   int64  \n",
      " 44  sent_gpt                2019 non-null   object \n",
      " 45  gpt_sent_presence       2019 non-null   int64  \n",
      " 46  cleaned_text_lem        2019 non-null   object \n",
      " 47  cleaned_text            2019 non-null   object \n",
      " 48  month                   2019 non-null   int64  \n",
      " 49  year                    2019 non-null   int64  \n",
      " 50  week                    2019 non-null   int64  \n",
      " 51  year_month              2019 non-null   object \n",
      " 52  year_week               2019 non-null   object \n",
      "dtypes: bool(5), float64(11), int64(15), object(22)\n",
      "memory usage: 767.1+ KB\n"
     ]
    }
   ],
   "source": [
    "# Get monthly data\n",
    "df_2014_01_pos = pd.read_csv('../data/local/df_pos_2014-01.csv').reset_index()\n",
    "df_2014_01_pos.info()"
   ]
  },
  {
   "cell_type": "markdown",
   "id": "98d4ddaf",
   "metadata": {},
   "source": [
    "### Representative sample based on week and location"
   ]
  },
  {
   "cell_type": "code",
   "execution_count": 5,
   "id": "85b2559c",
   "metadata": {},
   "outputs": [
    {
     "data": {
      "text/html": [
       "<div>\n",
       "<style scoped>\n",
       "    .dataframe tbody tr th:only-of-type {\n",
       "        vertical-align: middle;\n",
       "    }\n",
       "\n",
       "    .dataframe tbody tr th {\n",
       "        vertical-align: top;\n",
       "    }\n",
       "\n",
       "    .dataframe thead th {\n",
       "        text-align: right;\n",
       "    }\n",
       "</style>\n",
       "<table border=\"1\" class=\"dataframe\">\n",
       "  <thead>\n",
       "    <tr style=\"text-align: right;\">\n",
       "      <th></th>\n",
       "      <th>year_week</th>\n",
       "      <th>LocationName</th>\n",
       "      <th>group_size</th>\n",
       "      <th>proportion</th>\n",
       "    </tr>\n",
       "  </thead>\n",
       "  <tbody>\n",
       "    <tr>\n",
       "      <th>0</th>\n",
       "      <td>2014-w01</td>\n",
       "      <td>Amapa</td>\n",
       "      <td>3</td>\n",
       "      <td>0.001486</td>\n",
       "    </tr>\n",
       "    <tr>\n",
       "      <th>1</th>\n",
       "      <td>2014-w01</td>\n",
       "      <td>Amazonas</td>\n",
       "      <td>5</td>\n",
       "      <td>0.002476</td>\n",
       "    </tr>\n",
       "    <tr>\n",
       "      <th>2</th>\n",
       "      <td>2014-w01</td>\n",
       "      <td>Bahia</td>\n",
       "      <td>14</td>\n",
       "      <td>0.006934</td>\n",
       "    </tr>\n",
       "    <tr>\n",
       "      <th>3</th>\n",
       "      <td>2014-w01</td>\n",
       "      <td>Ceara</td>\n",
       "      <td>7</td>\n",
       "      <td>0.003467</td>\n",
       "    </tr>\n",
       "    <tr>\n",
       "      <th>4</th>\n",
       "      <td>2014-w01</td>\n",
       "      <td>Distrito Federal</td>\n",
       "      <td>10</td>\n",
       "      <td>0.004953</td>\n",
       "    </tr>\n",
       "    <tr>\n",
       "      <th>...</th>\n",
       "      <td>...</td>\n",
       "      <td>...</td>\n",
       "      <td>...</td>\n",
       "      <td>...</td>\n",
       "    </tr>\n",
       "    <tr>\n",
       "      <th>102</th>\n",
       "      <td>2014-w05</td>\n",
       "      <td>Rio De Janeiro</td>\n",
       "      <td>1</td>\n",
       "      <td>0.000495</td>\n",
       "    </tr>\n",
       "    <tr>\n",
       "      <th>103</th>\n",
       "      <td>2014-w05</td>\n",
       "      <td>Rio Grande Do Sul</td>\n",
       "      <td>23</td>\n",
       "      <td>0.011392</td>\n",
       "    </tr>\n",
       "    <tr>\n",
       "      <th>104</th>\n",
       "      <td>2014-w05</td>\n",
       "      <td>Rondonia</td>\n",
       "      <td>2</td>\n",
       "      <td>0.000991</td>\n",
       "    </tr>\n",
       "    <tr>\n",
       "      <th>105</th>\n",
       "      <td>2014-w05</td>\n",
       "      <td>Santa Catarina</td>\n",
       "      <td>6</td>\n",
       "      <td>0.002972</td>\n",
       "    </tr>\n",
       "    <tr>\n",
       "      <th>106</th>\n",
       "      <td>2014-w05</td>\n",
       "      <td>Sao Paulo</td>\n",
       "      <td>64</td>\n",
       "      <td>0.031699</td>\n",
       "    </tr>\n",
       "  </tbody>\n",
       "</table>\n",
       "<p>107 rows × 4 columns</p>\n",
       "</div>"
      ],
      "text/plain": [
       "    year_week       LocationName  group_size  proportion\n",
       "0    2014-w01              Amapa           3    0.001486\n",
       "1    2014-w01           Amazonas           5    0.002476\n",
       "2    2014-w01              Bahia          14    0.006934\n",
       "3    2014-w01              Ceara           7    0.003467\n",
       "4    2014-w01   Distrito Federal          10    0.004953\n",
       "..        ...                ...         ...         ...\n",
       "102  2014-w05     Rio De Janeiro           1    0.000495\n",
       "103  2014-w05  Rio Grande Do Sul          23    0.011392\n",
       "104  2014-w05           Rondonia           2    0.000991\n",
       "105  2014-w05     Santa Catarina           6    0.002972\n",
       "106  2014-w05          Sao Paulo          64    0.031699\n",
       "\n",
       "[107 rows x 4 columns]"
      ]
     },
     "execution_count": 5,
     "metadata": {},
     "output_type": "execute_result"
    }
   ],
   "source": [
    "# Step 1: Calculate the size of each group (year_week, LocationName)\n",
    "group_sizes = df_2014_01_pos.groupby(['year_week', 'LocationName']).size().reset_index(name='group_size')\n",
    "\n",
    "# Step 2: Calculate the proportion of each group in the dataset\n",
    "total_rows = len(df_2014_01_pos)\n",
    "group_sizes['proportion'] = group_sizes['group_size'] / total_rows\n",
    "group_sizes"
   ]
  },
  {
   "cell_type": "code",
   "execution_count": 6,
   "id": "3fac3240",
   "metadata": {},
   "outputs": [
    {
     "data": {
      "text/html": [
       "<div>\n",
       "<style scoped>\n",
       "    .dataframe tbody tr th:only-of-type {\n",
       "        vertical-align: middle;\n",
       "    }\n",
       "\n",
       "    .dataframe tbody tr th {\n",
       "        vertical-align: top;\n",
       "    }\n",
       "\n",
       "    .dataframe thead th {\n",
       "        text-align: right;\n",
       "    }\n",
       "</style>\n",
       "<table border=\"1\" class=\"dataframe\">\n",
       "  <thead>\n",
       "    <tr style=\"text-align: right;\">\n",
       "      <th></th>\n",
       "      <th>year_week</th>\n",
       "      <th>LocationName</th>\n",
       "      <th>group_size</th>\n",
       "      <th>proportion</th>\n",
       "      <th>sample_size</th>\n",
       "    </tr>\n",
       "  </thead>\n",
       "  <tbody>\n",
       "    <tr>\n",
       "      <th>0</th>\n",
       "      <td>2014-w01</td>\n",
       "      <td>Amapa</td>\n",
       "      <td>3</td>\n",
       "      <td>0.001486</td>\n",
       "      <td>3</td>\n",
       "    </tr>\n",
       "    <tr>\n",
       "      <th>1</th>\n",
       "      <td>2014-w01</td>\n",
       "      <td>Amazonas</td>\n",
       "      <td>5</td>\n",
       "      <td>0.002476</td>\n",
       "      <td>6</td>\n",
       "    </tr>\n",
       "    <tr>\n",
       "      <th>2</th>\n",
       "      <td>2014-w01</td>\n",
       "      <td>Bahia</td>\n",
       "      <td>14</td>\n",
       "      <td>0.006934</td>\n",
       "      <td>16</td>\n",
       "    </tr>\n",
       "    <tr>\n",
       "      <th>3</th>\n",
       "      <td>2014-w01</td>\n",
       "      <td>Ceara</td>\n",
       "      <td>7</td>\n",
       "      <td>0.003467</td>\n",
       "      <td>8</td>\n",
       "    </tr>\n",
       "    <tr>\n",
       "      <th>4</th>\n",
       "      <td>2014-w01</td>\n",
       "      <td>Distrito Federal</td>\n",
       "      <td>10</td>\n",
       "      <td>0.004953</td>\n",
       "      <td>12</td>\n",
       "    </tr>\n",
       "    <tr>\n",
       "      <th>...</th>\n",
       "      <td>...</td>\n",
       "      <td>...</td>\n",
       "      <td>...</td>\n",
       "      <td>...</td>\n",
       "      <td>...</td>\n",
       "    </tr>\n",
       "    <tr>\n",
       "      <th>102</th>\n",
       "      <td>2014-w05</td>\n",
       "      <td>Rio De Janeiro</td>\n",
       "      <td>1</td>\n",
       "      <td>0.000495</td>\n",
       "      <td>1</td>\n",
       "    </tr>\n",
       "    <tr>\n",
       "      <th>103</th>\n",
       "      <td>2014-w05</td>\n",
       "      <td>Rio Grande Do Sul</td>\n",
       "      <td>23</td>\n",
       "      <td>0.011392</td>\n",
       "      <td>27</td>\n",
       "    </tr>\n",
       "    <tr>\n",
       "      <th>104</th>\n",
       "      <td>2014-w05</td>\n",
       "      <td>Rondonia</td>\n",
       "      <td>2</td>\n",
       "      <td>0.000991</td>\n",
       "      <td>2</td>\n",
       "    </tr>\n",
       "    <tr>\n",
       "      <th>105</th>\n",
       "      <td>2014-w05</td>\n",
       "      <td>Santa Catarina</td>\n",
       "      <td>6</td>\n",
       "      <td>0.002972</td>\n",
       "      <td>7</td>\n",
       "    </tr>\n",
       "    <tr>\n",
       "      <th>106</th>\n",
       "      <td>2014-w05</td>\n",
       "      <td>Sao Paulo</td>\n",
       "      <td>64</td>\n",
       "      <td>0.031699</td>\n",
       "      <td>77</td>\n",
       "    </tr>\n",
       "  </tbody>\n",
       "</table>\n",
       "<p>107 rows × 5 columns</p>\n",
       "</div>"
      ],
      "text/plain": [
       "    year_week       LocationName  group_size  proportion  sample_size\n",
       "0    2014-w01              Amapa           3    0.001486            3\n",
       "1    2014-w01           Amazonas           5    0.002476            6\n",
       "2    2014-w01              Bahia          14    0.006934           16\n",
       "3    2014-w01              Ceara           7    0.003467            8\n",
       "4    2014-w01   Distrito Federal          10    0.004953           12\n",
       "..        ...                ...         ...         ...          ...\n",
       "102  2014-w05     Rio De Janeiro           1    0.000495            1\n",
       "103  2014-w05  Rio Grande Do Sul          23    0.011392           27\n",
       "104  2014-w05           Rondonia           2    0.000991            2\n",
       "105  2014-w05     Santa Catarina           6    0.002972            7\n",
       "106  2014-w05          Sao Paulo          64    0.031699           77\n",
       "\n",
       "[107 rows x 5 columns]"
      ]
     },
     "execution_count": 6,
     "metadata": {},
     "output_type": "execute_result"
    }
   ],
   "source": [
    "# Step 3: Define the target sample size\n",
    "target_sample_size = 2450\n",
    "\n",
    "# Step 4: Calculate the sample size for each group (based on its proportion)\n",
    "group_sizes['sample_size'] = np.floor(group_sizes['proportion'] * target_sample_size).astype(int)\n",
    "group_sizes"
   ]
  },
  {
   "cell_type": "code",
   "execution_count": 7,
   "id": "c7469167",
   "metadata": {},
   "outputs": [],
   "source": [
    "# Step 5: Merge this sample size information back to the original DataFrame\n",
    "df_2014_01_pos_sample_size = pd.merge(df_2014_01_pos, group_sizes[['year_week', 'LocationName', 'sample_size']], \n",
    "                               on=['year_week', 'LocationName'], how='left')"
   ]
  },
  {
   "cell_type": "code",
   "execution_count": 8,
   "id": "9c4475e7",
   "metadata": {},
   "outputs": [
    {
     "name": "stdout",
     "output_type": "stream",
     "text": [
      "Sampled 2019 rows.\n"
     ]
    }
   ],
   "source": [
    "# Step 6: Perform the stratified sampling\n",
    "#df_2014_01_pos_sample = df_2014_01_pos_sample_size.groupby(['year_week', 'LocationName']).apply(\n",
    " #   lambda group: group.sample(n=group['sample_size'].iloc[0], random_state=42)\n",
    "#).reset_index(drop=True)\n",
    "df_2014_01_pos_sample = df_2014_01_pos\n",
    "# Step 7: Check the result\n",
    "print(f\"Sampled {len(df_2014_01_pos_sample)} rows.\")\n"
   ]
  },
  {
   "cell_type": "code",
   "execution_count": 9,
   "id": "c4ec1d65",
   "metadata": {},
   "outputs": [],
   "source": [
    "text_gpt_2014_01_pos = '\\n'.join(df_2014_01_pos_sample['text'].astype(str))"
   ]
  },
  {
   "cell_type": "markdown",
   "id": "5dc8c377",
   "metadata": {},
   "source": [
    "### Prompts and loops"
   ]
  },
  {
   "cell_type": "code",
   "execution_count": 10,
   "id": "a269fd14",
   "metadata": {},
   "outputs": [],
   "source": [
    "prompt_1 = prompt_raw.replace('TWEETS', text_gpt_2014_01_pos)"
   ]
  },
  {
   "cell_type": "code",
   "execution_count": 11,
   "id": "132f0e60",
   "metadata": {
    "scrolled": false
   },
   "outputs": [],
   "source": [
    "response = openai.ChatCompletion.create(\n",
    "    model=\"gpt-4o-mini\",  \n",
    "    messages = [\n",
    "        {\"role\": \"user\", \"content\": prompt_1}\n",
    "    ],\n",
    "    max_tokens=400,  # Maximum number of tokens in the response\n",
    "    temperature=0.7  # Controls the randomness of the output\n",
    ")"
   ]
  },
  {
   "cell_type": "code",
   "execution_count": 12,
   "id": "8b87399c",
   "metadata": {},
   "outputs": [
    {
     "data": {
      "text/plain": [
       "'The provided texts discuss the introduction of a nasal vaccine for whooping cough, the successful testing of this vaccine in humans, and the implementation of a public vaccination campaign against HPV in Brazil starting March 10, 2014. The HPV vaccine will be offered for free to girls aged 11 to 13, aiming to prevent cervical cancer. Additionally, vaccination efforts are being made for Haitian immigrants and general vaccination initiatives within the health system.'"
      ]
     },
     "execution_count": 12,
     "metadata": {},
     "output_type": "execute_result"
    }
   ],
   "source": [
    "response.choices[0].message.content"
   ]
  },
  {
   "cell_type": "code",
   "execution_count": 13,
   "id": "177a2bd7",
   "metadata": {},
   "outputs": [],
   "source": [
    "summary = []\n",
    "dataset = []"
   ]
  },
  {
   "cell_type": "code",
   "execution_count": 14,
   "id": "005c717a",
   "metadata": {},
   "outputs": [],
   "source": [
    "dataset.append(\"2014_01_positive\")"
   ]
  },
  {
   "cell_type": "code",
   "execution_count": 15,
   "id": "b3580ec6",
   "metadata": {},
   "outputs": [],
   "source": [
    "summary.append(response.choices[0].message.content)"
   ]
  },
  {
   "cell_type": "code",
   "execution_count": 16,
   "id": "24c5caaa",
   "metadata": {
    "tags": []
   },
   "outputs": [
    {
     "name": "stdout",
     "output_type": "stream",
     "text": [
      "<class 'pandas.core.frame.DataFrame'>\n",
      "RangeIndex: 1 entries, 0 to 0\n",
      "Data columns (total 2 columns):\n",
      " #   Column   Non-Null Count  Dtype \n",
      "---  ------   --------------  ----- \n",
      " 0   dataset  1 non-null      object\n",
      " 1   summary  1 non-null      object\n",
      "dtypes: object(2)\n",
      "memory usage: 144.0+ bytes\n"
     ]
    }
   ],
   "source": [
    "df_2014_pos = pd.DataFrame(list(zip(dataset, summary)),\n",
    "                            columns = ['dataset', 'summary'])\n",
    "df_2014_pos.info()"
   ]
  },
  {
   "cell_type": "code",
   "execution_count": 17,
   "id": "5bcf3f7f",
   "metadata": {},
   "outputs": [
    {
     "data": {
      "text/html": [
       "<div>\n",
       "<style scoped>\n",
       "    .dataframe tbody tr th:only-of-type {\n",
       "        vertical-align: middle;\n",
       "    }\n",
       "\n",
       "    .dataframe tbody tr th {\n",
       "        vertical-align: top;\n",
       "    }\n",
       "\n",
       "    .dataframe thead th {\n",
       "        text-align: right;\n",
       "    }\n",
       "</style>\n",
       "<table border=\"1\" class=\"dataframe\">\n",
       "  <thead>\n",
       "    <tr style=\"text-align: right;\">\n",
       "      <th></th>\n",
       "      <th>dataset</th>\n",
       "      <th>summary</th>\n",
       "    </tr>\n",
       "  </thead>\n",
       "  <tbody>\n",
       "    <tr>\n",
       "      <th>0</th>\n",
       "      <td>2014_01_positive</td>\n",
       "      <td>The provided texts discuss the introduction of...</td>\n",
       "    </tr>\n",
       "  </tbody>\n",
       "</table>\n",
       "</div>"
      ],
      "text/plain": [
       "            dataset                                            summary\n",
       "0  2014_01_positive  The provided texts discuss the introduction of..."
      ]
     },
     "execution_count": 17,
     "metadata": {},
     "output_type": "execute_result"
    }
   ],
   "source": [
    "df_2014_pos.tail(14)"
   ]
  },
  {
   "cell_type": "code",
   "execution_count": 18,
   "id": "df702099",
   "metadata": {},
   "outputs": [
    {
     "data": {
      "text/plain": [
       "<OpenAIObject chat.completion id=chatcmpl-AUdHEF1clgwLmB8hT6JVMj4pSijRF at 0x1d359530400> JSON: {\n",
       "  \"choices\": [\n",
       "    {\n",
       "      \"finish_reason\": \"stop\",\n",
       "      \"index\": 0,\n",
       "      \"logprobs\": null,\n",
       "      \"message\": {\n",
       "        \"content\": \"The provided texts discuss the introduction of a nasal vaccine for whooping cough, the successful testing of this vaccine in humans, and the implementation of a public vaccination campaign against HPV in Brazil starting March 10, 2014. The HPV vaccine will be offered for free to girls aged 11 to 13, aiming to prevent cervical cancer. Additionally, vaccination efforts are being made for Haitian immigrants and general vaccination initiatives within the health system.\",\n",
       "        \"refusal\": null,\n",
       "        \"role\": \"assistant\"\n",
       "      }\n",
       "    }\n",
       "  ],\n",
       "  \"created\": 1731864184,\n",
       "  \"id\": \"chatcmpl-AUdHEF1clgwLmB8hT6JVMj4pSijRF\",\n",
       "  \"model\": \"gpt-4o-mini-2024-07-18\",\n",
       "  \"object\": \"chat.completion\",\n",
       "  \"system_fingerprint\": \"fp_0ba0d124f1\",\n",
       "  \"usage\": {\n",
       "    \"completion_tokens\": 87,\n",
       "    \"completion_tokens_details\": {\n",
       "      \"accepted_prediction_tokens\": 0,\n",
       "      \"audio_tokens\": 0,\n",
       "      \"reasoning_tokens\": 0,\n",
       "      \"rejected_prediction_tokens\": 0\n",
       "    },\n",
       "    \"prompt_tokens\": 48241,\n",
       "    \"prompt_tokens_details\": {\n",
       "      \"audio_tokens\": 0,\n",
       "      \"cached_tokens\": 0\n",
       "    },\n",
       "    \"total_tokens\": 48328\n",
       "  }\n",
       "}"
      ]
     },
     "execution_count": 18,
     "metadata": {},
     "output_type": "execute_result"
    }
   ],
   "source": [
    "response"
   ]
  },
  {
   "cell_type": "markdown",
   "id": "f2468aac",
   "metadata": {},
   "source": [
    "## February"
   ]
  },
  {
   "cell_type": "code",
   "execution_count": 19,
   "id": "5ea58abd",
   "metadata": {
    "scrolled": true,
    "tags": []
   },
   "outputs": [
    {
     "name": "stdout",
     "output_type": "stream",
     "text": [
      "<class 'pandas.core.frame.DataFrame'>\n",
      "RangeIndex: 2234 entries, 0 to 2233\n",
      "Data columns (total 53 columns):\n",
      " #   Column                  Non-Null Count  Dtype  \n",
      "---  ------                  --------------  -----  \n",
      " 0   index                   2234 non-null   int64  \n",
      " 1   LocationCode            2234 non-null   object \n",
      " 2   LocationName            2234 non-null   object \n",
      " 3   StatesCode              2234 non-null   object \n",
      " 4   ...4                    2234 non-null   int64  \n",
      " 5   id                      2234 non-null   float64\n",
      " 6   text                    2234 non-null   object \n",
      " 7   label                   2234 non-null   object \n",
      " 8   in_reply_to_status_id   67 non-null     float64\n",
      " 9   in_reply_to_user_id     89 non-null     float64\n",
      " 10  quoted_user_id          0 non-null      float64\n",
      " 11  quoted_status_id        0 non-null      float64\n",
      " 12  retweeted_user_id       559 non-null    float64\n",
      " 13  retweeted_status_id     559 non-null    float64\n",
      " 14  created_at              2234 non-null   object \n",
      " 15  entities.user_mentions  798 non-null    object \n",
      " 16  user.id                 2234 non-null   int64  \n",
      " 17  user.screen_name        2234 non-null   object \n",
      " 18  user.name               2234 non-null   object \n",
      " 19  user.description        1954 non-null   object \n",
      " 20  user.timezone           0 non-null      float64\n",
      " 21  user.location           2225 non-null   object \n",
      " 22  user.num_followers      2234 non-null   int64  \n",
      " 23  user.num_following      2234 non-null   int64  \n",
      " 24  user.created_at         2234 non-null   object \n",
      " 25  user.statuses_count     2234 non-null   int64  \n",
      " 26  user.is_verified        2234 non-null   bool   \n",
      " 27  lang                    2234 non-null   object \n",
      " 28  token_count             2234 non-null   int64  \n",
      " 29  is_retweet              2234 non-null   bool   \n",
      " 30  has_quote               2234 non-null   bool   \n",
      " 31  is_reply                2234 non-null   bool   \n",
      " 32  contains_keywords       2234 non-null   bool   \n",
      " 33  longitude               2234 non-null   float64\n",
      " 34  latitude                2234 non-null   float64\n",
      " 35  country_code            2234 non-null   object \n",
      " 36  geoname_id              2209 non-null   float64\n",
      " 37  location_type           2234 non-null   object \n",
      " 38  geo_type                2234 non-null   int64  \n",
      " 39  region                  2234 non-null   object \n",
      " 40  subregion               2234 non-null   object \n",
      " 41  num_quotes              2234 non-null   int64  \n",
      " 42  num_replies             2234 non-null   int64  \n",
      " 43  num_retweets            2234 non-null   int64  \n",
      " 44  sent_gpt                2234 non-null   object \n",
      " 45  gpt_sent_presence       2234 non-null   int64  \n",
      " 46  cleaned_text_lem        2234 non-null   object \n",
      " 47  cleaned_text            2234 non-null   object \n",
      " 48  month                   2234 non-null   int64  \n",
      " 49  year                    2234 non-null   int64  \n",
      " 50  week                    2234 non-null   int64  \n",
      " 51  year_month              2234 non-null   object \n",
      " 52  year_week               2234 non-null   object \n",
      "dtypes: bool(5), float64(11), int64(15), object(22)\n",
      "memory usage: 848.8+ KB\n"
     ]
    }
   ],
   "source": [
    "# Get monthly data\n",
    "df_2014_02_pos = pd.read_csv('../data/local/df_pos_2014-02.csv').reset_index()\n",
    "df_2014_02_pos.info()"
   ]
  },
  {
   "cell_type": "markdown",
   "id": "1131f48c",
   "metadata": {},
   "source": [
    "### Representative sample based on week and location"
   ]
  },
  {
   "cell_type": "code",
   "execution_count": 20,
   "id": "2ef3d681",
   "metadata": {},
   "outputs": [
    {
     "data": {
      "text/html": [
       "<div>\n",
       "<style scoped>\n",
       "    .dataframe tbody tr th:only-of-type {\n",
       "        vertical-align: middle;\n",
       "    }\n",
       "\n",
       "    .dataframe tbody tr th {\n",
       "        vertical-align: top;\n",
       "    }\n",
       "\n",
       "    .dataframe thead th {\n",
       "        text-align: right;\n",
       "    }\n",
       "</style>\n",
       "<table border=\"1\" class=\"dataframe\">\n",
       "  <thead>\n",
       "    <tr style=\"text-align: right;\">\n",
       "      <th></th>\n",
       "      <th>year_week</th>\n",
       "      <th>LocationName</th>\n",
       "      <th>group_size</th>\n",
       "      <th>proportion</th>\n",
       "    </tr>\n",
       "  </thead>\n",
       "  <tbody>\n",
       "    <tr>\n",
       "      <th>0</th>\n",
       "      <td>2014-w05</td>\n",
       "      <td>Alagoas</td>\n",
       "      <td>4</td>\n",
       "      <td>0.001791</td>\n",
       "    </tr>\n",
       "    <tr>\n",
       "      <th>1</th>\n",
       "      <td>2014-w05</td>\n",
       "      <td>Amapa</td>\n",
       "      <td>1</td>\n",
       "      <td>0.000448</td>\n",
       "    </tr>\n",
       "    <tr>\n",
       "      <th>2</th>\n",
       "      <td>2014-w05</td>\n",
       "      <td>Amazonas</td>\n",
       "      <td>8</td>\n",
       "      <td>0.003581</td>\n",
       "    </tr>\n",
       "    <tr>\n",
       "      <th>3</th>\n",
       "      <td>2014-w05</td>\n",
       "      <td>Bahia</td>\n",
       "      <td>6</td>\n",
       "      <td>0.002686</td>\n",
       "    </tr>\n",
       "    <tr>\n",
       "      <th>4</th>\n",
       "      <td>2014-w05</td>\n",
       "      <td>Ceara</td>\n",
       "      <td>24</td>\n",
       "      <td>0.010743</td>\n",
       "    </tr>\n",
       "    <tr>\n",
       "      <th>...</th>\n",
       "      <td>...</td>\n",
       "      <td>...</td>\n",
       "      <td>...</td>\n",
       "      <td>...</td>\n",
       "    </tr>\n",
       "    <tr>\n",
       "      <th>106</th>\n",
       "      <td>2014-w09</td>\n",
       "      <td>Piaui</td>\n",
       "      <td>1</td>\n",
       "      <td>0.000448</td>\n",
       "    </tr>\n",
       "    <tr>\n",
       "      <th>107</th>\n",
       "      <td>2014-w09</td>\n",
       "      <td>Rio Grande Do Sul</td>\n",
       "      <td>11</td>\n",
       "      <td>0.004924</td>\n",
       "    </tr>\n",
       "    <tr>\n",
       "      <th>108</th>\n",
       "      <td>2014-w09</td>\n",
       "      <td>Santa Catarina</td>\n",
       "      <td>4</td>\n",
       "      <td>0.001791</td>\n",
       "    </tr>\n",
       "    <tr>\n",
       "      <th>109</th>\n",
       "      <td>2014-w09</td>\n",
       "      <td>Sao Paulo</td>\n",
       "      <td>36</td>\n",
       "      <td>0.016115</td>\n",
       "    </tr>\n",
       "    <tr>\n",
       "      <th>110</th>\n",
       "      <td>2014-w09</td>\n",
       "      <td>Sergipe</td>\n",
       "      <td>4</td>\n",
       "      <td>0.001791</td>\n",
       "    </tr>\n",
       "  </tbody>\n",
       "</table>\n",
       "<p>111 rows × 4 columns</p>\n",
       "</div>"
      ],
      "text/plain": [
       "    year_week       LocationName  group_size  proportion\n",
       "0    2014-w05            Alagoas           4    0.001791\n",
       "1    2014-w05              Amapa           1    0.000448\n",
       "2    2014-w05           Amazonas           8    0.003581\n",
       "3    2014-w05              Bahia           6    0.002686\n",
       "4    2014-w05              Ceara          24    0.010743\n",
       "..        ...                ...         ...         ...\n",
       "106  2014-w09              Piaui           1    0.000448\n",
       "107  2014-w09  Rio Grande Do Sul          11    0.004924\n",
       "108  2014-w09     Santa Catarina           4    0.001791\n",
       "109  2014-w09          Sao Paulo          36    0.016115\n",
       "110  2014-w09            Sergipe           4    0.001791\n",
       "\n",
       "[111 rows x 4 columns]"
      ]
     },
     "execution_count": 20,
     "metadata": {},
     "output_type": "execute_result"
    }
   ],
   "source": [
    "# Step 1: Calculate the size of each group (year_week, LocationName)\n",
    "group_sizes = df_2014_02_pos.groupby(['year_week', 'LocationName']).size().reset_index(name='group_size')\n",
    "\n",
    "# Step 2: Calculate the proportion of each group in the dataset\n",
    "total_rows = len(df_2014_02_pos)\n",
    "group_sizes['proportion'] = group_sizes['group_size'] / total_rows\n",
    "group_sizes"
   ]
  },
  {
   "cell_type": "code",
   "execution_count": 21,
   "id": "adee9c98",
   "metadata": {},
   "outputs": [
    {
     "data": {
      "text/html": [
       "<div>\n",
       "<style scoped>\n",
       "    .dataframe tbody tr th:only-of-type {\n",
       "        vertical-align: middle;\n",
       "    }\n",
       "\n",
       "    .dataframe tbody tr th {\n",
       "        vertical-align: top;\n",
       "    }\n",
       "\n",
       "    .dataframe thead th {\n",
       "        text-align: right;\n",
       "    }\n",
       "</style>\n",
       "<table border=\"1\" class=\"dataframe\">\n",
       "  <thead>\n",
       "    <tr style=\"text-align: right;\">\n",
       "      <th></th>\n",
       "      <th>year_week</th>\n",
       "      <th>LocationName</th>\n",
       "      <th>group_size</th>\n",
       "      <th>proportion</th>\n",
       "      <th>sample_size</th>\n",
       "    </tr>\n",
       "  </thead>\n",
       "  <tbody>\n",
       "    <tr>\n",
       "      <th>0</th>\n",
       "      <td>2014-w05</td>\n",
       "      <td>Alagoas</td>\n",
       "      <td>4</td>\n",
       "      <td>0.001791</td>\n",
       "      <td>4</td>\n",
       "    </tr>\n",
       "    <tr>\n",
       "      <th>1</th>\n",
       "      <td>2014-w05</td>\n",
       "      <td>Amapa</td>\n",
       "      <td>1</td>\n",
       "      <td>0.000448</td>\n",
       "      <td>1</td>\n",
       "    </tr>\n",
       "    <tr>\n",
       "      <th>2</th>\n",
       "      <td>2014-w05</td>\n",
       "      <td>Amazonas</td>\n",
       "      <td>8</td>\n",
       "      <td>0.003581</td>\n",
       "      <td>8</td>\n",
       "    </tr>\n",
       "    <tr>\n",
       "      <th>3</th>\n",
       "      <td>2014-w05</td>\n",
       "      <td>Bahia</td>\n",
       "      <td>6</td>\n",
       "      <td>0.002686</td>\n",
       "      <td>6</td>\n",
       "    </tr>\n",
       "    <tr>\n",
       "      <th>4</th>\n",
       "      <td>2014-w05</td>\n",
       "      <td>Ceara</td>\n",
       "      <td>24</td>\n",
       "      <td>0.010743</td>\n",
       "      <td>26</td>\n",
       "    </tr>\n",
       "    <tr>\n",
       "      <th>...</th>\n",
       "      <td>...</td>\n",
       "      <td>...</td>\n",
       "      <td>...</td>\n",
       "      <td>...</td>\n",
       "      <td>...</td>\n",
       "    </tr>\n",
       "    <tr>\n",
       "      <th>106</th>\n",
       "      <td>2014-w09</td>\n",
       "      <td>Piaui</td>\n",
       "      <td>1</td>\n",
       "      <td>0.000448</td>\n",
       "      <td>1</td>\n",
       "    </tr>\n",
       "    <tr>\n",
       "      <th>107</th>\n",
       "      <td>2014-w09</td>\n",
       "      <td>Rio Grande Do Sul</td>\n",
       "      <td>11</td>\n",
       "      <td>0.004924</td>\n",
       "      <td>12</td>\n",
       "    </tr>\n",
       "    <tr>\n",
       "      <th>108</th>\n",
       "      <td>2014-w09</td>\n",
       "      <td>Santa Catarina</td>\n",
       "      <td>4</td>\n",
       "      <td>0.001791</td>\n",
       "      <td>4</td>\n",
       "    </tr>\n",
       "    <tr>\n",
       "      <th>109</th>\n",
       "      <td>2014-w09</td>\n",
       "      <td>Sao Paulo</td>\n",
       "      <td>36</td>\n",
       "      <td>0.016115</td>\n",
       "      <td>39</td>\n",
       "    </tr>\n",
       "    <tr>\n",
       "      <th>110</th>\n",
       "      <td>2014-w09</td>\n",
       "      <td>Sergipe</td>\n",
       "      <td>4</td>\n",
       "      <td>0.001791</td>\n",
       "      <td>4</td>\n",
       "    </tr>\n",
       "  </tbody>\n",
       "</table>\n",
       "<p>111 rows × 5 columns</p>\n",
       "</div>"
      ],
      "text/plain": [
       "    year_week       LocationName  group_size  proportion  sample_size\n",
       "0    2014-w05            Alagoas           4    0.001791            4\n",
       "1    2014-w05              Amapa           1    0.000448            1\n",
       "2    2014-w05           Amazonas           8    0.003581            8\n",
       "3    2014-w05              Bahia           6    0.002686            6\n",
       "4    2014-w05              Ceara          24    0.010743           26\n",
       "..        ...                ...         ...         ...          ...\n",
       "106  2014-w09              Piaui           1    0.000448            1\n",
       "107  2014-w09  Rio Grande Do Sul          11    0.004924           12\n",
       "108  2014-w09     Santa Catarina           4    0.001791            4\n",
       "109  2014-w09          Sao Paulo          36    0.016115           39\n",
       "110  2014-w09            Sergipe           4    0.001791            4\n",
       "\n",
       "[111 rows x 5 columns]"
      ]
     },
     "execution_count": 21,
     "metadata": {},
     "output_type": "execute_result"
    }
   ],
   "source": [
    "# Step 3: Define the target sample size\n",
    "target_sample_size = 2450\n",
    "\n",
    "# Step 4: Calculate the sample size for each group (based on its proportion)\n",
    "group_sizes['sample_size'] = np.floor(group_sizes['proportion'] * target_sample_size).astype(int)\n",
    "group_sizes"
   ]
  },
  {
   "cell_type": "code",
   "execution_count": 22,
   "id": "a7b8b23f",
   "metadata": {},
   "outputs": [],
   "source": [
    "# Step 5: Merge this sample size information back to the original DataFrame\n",
    "df_2014_02_pos_sample_size = pd.merge(df_2014_02_pos, group_sizes[['year_week', 'LocationName', 'sample_size']], \n",
    "                               on=['year_week', 'LocationName'], how='left')"
   ]
  },
  {
   "cell_type": "code",
   "execution_count": 23,
   "id": "46c74cd1",
   "metadata": {},
   "outputs": [
    {
     "name": "stdout",
     "output_type": "stream",
     "text": [
      "Sampled 2234 rows.\n"
     ]
    }
   ],
   "source": [
    "# Step 6: Perform the stratified sampling\n",
    "#df_2014_02_pos_sample = df_2014_02_pos_sample_size.groupby(['year_week', 'LocationName']).apply(\n",
    " #   lambda group: group.sample(n=group['sample_size'].iloc[0], random_state=42)\n",
    "#).reset_index(drop=True)\n",
    "df_2014_02_pos_sample = df_2014_02_pos\n",
    "# Step 7: Check the result\n",
    "print(f\"Sampled {len(df_2014_02_pos_sample)} rows.\")\n"
   ]
  },
  {
   "cell_type": "code",
   "execution_count": 24,
   "id": "80e9765e",
   "metadata": {},
   "outputs": [],
   "source": [
    "text_gpt_2014_02_pos = '\\n'.join(df_2014_02_pos_sample['text'].astype(str))"
   ]
  },
  {
   "cell_type": "markdown",
   "id": "b22f256e",
   "metadata": {},
   "source": [
    "### Prompts and loops"
   ]
  },
  {
   "cell_type": "code",
   "execution_count": 25,
   "id": "95c22639",
   "metadata": {},
   "outputs": [],
   "source": [
    "prompt_2 = prompt_raw.replace('TWEETS', text_gpt_2014_02_pos)"
   ]
  },
  {
   "cell_type": "code",
   "execution_count": 26,
   "id": "b172834e",
   "metadata": {
    "scrolled": false
   },
   "outputs": [],
   "source": [
    "response = openai.ChatCompletion.create(\n",
    "    model=\"gpt-4o-mini\",  \n",
    "    messages = [\n",
    "        {\"role\": \"user\", \"content\": prompt_2}\n",
    "    ],\n",
    "    max_tokens=400,  # Maximum number of tokens in the response\n",
    "    temperature=0.7  # Controls the randomness of the output\n",
    ")"
   ]
  },
  {
   "cell_type": "code",
   "execution_count": 27,
   "id": "86d7f1a3",
   "metadata": {},
   "outputs": [
    {
     "data": {
      "text/plain": [
       "'The texts discuss various vaccination campaigns and research in Brazil, particularly focusing on the HPV vaccine for girls aged 11 to 13, which will be available in schools starting in March. Additionally, there are advancements in HIV vaccine research, with successful tests on monkeys and plans for human trials within three years.'"
      ]
     },
     "execution_count": 27,
     "metadata": {},
     "output_type": "execute_result"
    }
   ],
   "source": [
    "response.choices[0].message.content"
   ]
  },
  {
   "cell_type": "code",
   "execution_count": 28,
   "id": "44a76dbb",
   "metadata": {},
   "outputs": [],
   "source": [
    "#summary = []\n",
    "#dataset = []"
   ]
  },
  {
   "cell_type": "code",
   "execution_count": 29,
   "id": "9da8b8a2",
   "metadata": {},
   "outputs": [],
   "source": [
    "dataset.append(\"2014_02_positive\")"
   ]
  },
  {
   "cell_type": "code",
   "execution_count": 30,
   "id": "4d33e327",
   "metadata": {},
   "outputs": [],
   "source": [
    "summary.append(response.choices[0].message.content)"
   ]
  },
  {
   "cell_type": "code",
   "execution_count": 31,
   "id": "725c0f71",
   "metadata": {
    "tags": []
   },
   "outputs": [
    {
     "name": "stdout",
     "output_type": "stream",
     "text": [
      "<class 'pandas.core.frame.DataFrame'>\n",
      "RangeIndex: 2 entries, 0 to 1\n",
      "Data columns (total 2 columns):\n",
      " #   Column   Non-Null Count  Dtype \n",
      "---  ------   --------------  ----- \n",
      " 0   dataset  2 non-null      object\n",
      " 1   summary  2 non-null      object\n",
      "dtypes: object(2)\n",
      "memory usage: 160.0+ bytes\n"
     ]
    }
   ],
   "source": [
    "df_2014_pos = pd.DataFrame(list(zip(dataset, summary)),\n",
    "                            columns = ['dataset', 'summary'])\n",
    "df_2014_pos.info()"
   ]
  },
  {
   "cell_type": "code",
   "execution_count": 32,
   "id": "90cdb4de",
   "metadata": {},
   "outputs": [
    {
     "data": {
      "text/html": [
       "<div>\n",
       "<style scoped>\n",
       "    .dataframe tbody tr th:only-of-type {\n",
       "        vertical-align: middle;\n",
       "    }\n",
       "\n",
       "    .dataframe tbody tr th {\n",
       "        vertical-align: top;\n",
       "    }\n",
       "\n",
       "    .dataframe thead th {\n",
       "        text-align: right;\n",
       "    }\n",
       "</style>\n",
       "<table border=\"1\" class=\"dataframe\">\n",
       "  <thead>\n",
       "    <tr style=\"text-align: right;\">\n",
       "      <th></th>\n",
       "      <th>dataset</th>\n",
       "      <th>summary</th>\n",
       "    </tr>\n",
       "  </thead>\n",
       "  <tbody>\n",
       "    <tr>\n",
       "      <th>0</th>\n",
       "      <td>2014_01_positive</td>\n",
       "      <td>The provided texts discuss the introduction of...</td>\n",
       "    </tr>\n",
       "    <tr>\n",
       "      <th>1</th>\n",
       "      <td>2014_02_positive</td>\n",
       "      <td>The texts discuss various vaccination campaign...</td>\n",
       "    </tr>\n",
       "  </tbody>\n",
       "</table>\n",
       "</div>"
      ],
      "text/plain": [
       "            dataset                                            summary\n",
       "0  2014_01_positive  The provided texts discuss the introduction of...\n",
       "1  2014_02_positive  The texts discuss various vaccination campaign..."
      ]
     },
     "execution_count": 32,
     "metadata": {},
     "output_type": "execute_result"
    }
   ],
   "source": [
    "df_2014_pos.tail(14)"
   ]
  },
  {
   "cell_type": "code",
   "execution_count": 33,
   "id": "8b79e3e6",
   "metadata": {},
   "outputs": [
    {
     "data": {
      "text/plain": [
       "<OpenAIObject chat.completion id=chatcmpl-AUdHLvSeApov7mJRiUPnDNqUwviEQ at 0x1d359716e00> JSON: {\n",
       "  \"choices\": [\n",
       "    {\n",
       "      \"finish_reason\": \"stop\",\n",
       "      \"index\": 0,\n",
       "      \"logprobs\": null,\n",
       "      \"message\": {\n",
       "        \"content\": \"The texts discuss various vaccination campaigns and research in Brazil, particularly focusing on the HPV vaccine for girls aged 11 to 13, which will be available in schools starting in March. Additionally, there are advancements in HIV vaccine research, with successful tests on monkeys and plans for human trials within three years.\",\n",
       "        \"refusal\": null,\n",
       "        \"role\": \"assistant\"\n",
       "      }\n",
       "    }\n",
       "  ],\n",
       "  \"created\": 1731864191,\n",
       "  \"id\": \"chatcmpl-AUdHLvSeApov7mJRiUPnDNqUwviEQ\",\n",
       "  \"model\": \"gpt-4o-mini-2024-07-18\",\n",
       "  \"object\": \"chat.completion\",\n",
       "  \"system_fingerprint\": \"fp_0ba0d124f1\",\n",
       "  \"usage\": {\n",
       "    \"completion_tokens\": 60,\n",
       "    \"completion_tokens_details\": {\n",
       "      \"accepted_prediction_tokens\": 0,\n",
       "      \"audio_tokens\": 0,\n",
       "      \"reasoning_tokens\": 0,\n",
       "      \"rejected_prediction_tokens\": 0\n",
       "    },\n",
       "    \"prompt_tokens\": 50142,\n",
       "    \"prompt_tokens_details\": {\n",
       "      \"audio_tokens\": 0,\n",
       "      \"cached_tokens\": 0\n",
       "    },\n",
       "    \"total_tokens\": 50202\n",
       "  }\n",
       "}"
      ]
     },
     "execution_count": 33,
     "metadata": {},
     "output_type": "execute_result"
    }
   ],
   "source": [
    "response"
   ]
  },
  {
   "cell_type": "markdown",
   "id": "83cfd4fe",
   "metadata": {},
   "source": [
    "## March"
   ]
  },
  {
   "cell_type": "code",
   "execution_count": 34,
   "id": "8aecef5f",
   "metadata": {
    "scrolled": true,
    "tags": []
   },
   "outputs": [
    {
     "name": "stdout",
     "output_type": "stream",
     "text": [
      "<class 'pandas.core.frame.DataFrame'>\n",
      "RangeIndex: 4045 entries, 0 to 4044\n",
      "Data columns (total 53 columns):\n",
      " #   Column                  Non-Null Count  Dtype  \n",
      "---  ------                  --------------  -----  \n",
      " 0   index                   4045 non-null   int64  \n",
      " 1   LocationCode            4045 non-null   object \n",
      " 2   LocationName            4045 non-null   object \n",
      " 3   StatesCode              4045 non-null   object \n",
      " 4   ...4                    4045 non-null   int64  \n",
      " 5   id                      4045 non-null   float64\n",
      " 6   text                    4045 non-null   object \n",
      " 7   label                   4045 non-null   object \n",
      " 8   in_reply_to_status_id   177 non-null    float64\n",
      " 9   in_reply_to_user_id     234 non-null    float64\n",
      " 10  quoted_user_id          0 non-null      float64\n",
      " 11  quoted_status_id        0 non-null      float64\n",
      " 12  retweeted_user_id       937 non-null    float64\n",
      " 13  retweeted_status_id     937 non-null    float64\n",
      " 14  created_at              4045 non-null   object \n",
      " 15  entities.user_mentions  1402 non-null   object \n",
      " 16  user.id                 4045 non-null   int64  \n",
      " 17  user.screen_name        4045 non-null   object \n",
      " 18  user.name               4042 non-null   object \n",
      " 19  user.description        3581 non-null   object \n",
      " 20  user.timezone           0 non-null      float64\n",
      " 21  user.location           4012 non-null   object \n",
      " 22  user.num_followers      4045 non-null   int64  \n",
      " 23  user.num_following      4045 non-null   int64  \n",
      " 24  user.created_at         4045 non-null   object \n",
      " 25  user.statuses_count     4045 non-null   int64  \n",
      " 26  user.is_verified        4045 non-null   bool   \n",
      " 27  lang                    4045 non-null   object \n",
      " 28  token_count             4045 non-null   int64  \n",
      " 29  is_retweet              4045 non-null   bool   \n",
      " 30  has_quote               4045 non-null   bool   \n",
      " 31  is_reply                4045 non-null   bool   \n",
      " 32  contains_keywords       4045 non-null   bool   \n",
      " 33  longitude               4045 non-null   float64\n",
      " 34  latitude                4045 non-null   float64\n",
      " 35  country_code            4045 non-null   object \n",
      " 36  geoname_id              3950 non-null   float64\n",
      " 37  location_type           4045 non-null   object \n",
      " 38  geo_type                4045 non-null   int64  \n",
      " 39  region                  4045 non-null   object \n",
      " 40  subregion               4045 non-null   object \n",
      " 41  num_quotes              4045 non-null   int64  \n",
      " 42  num_replies             4045 non-null   int64  \n",
      " 43  num_retweets            4045 non-null   int64  \n",
      " 44  sent_gpt                4045 non-null   object \n",
      " 45  gpt_sent_presence       4045 non-null   int64  \n",
      " 46  cleaned_text_lem        4045 non-null   object \n",
      " 47  cleaned_text            4045 non-null   object \n",
      " 48  month                   4045 non-null   int64  \n",
      " 49  year                    4045 non-null   int64  \n",
      " 50  week                    4045 non-null   int64  \n",
      " 51  year_month              4045 non-null   object \n",
      " 52  year_week               4045 non-null   object \n",
      "dtypes: bool(5), float64(11), int64(15), object(22)\n",
      "memory usage: 1.5+ MB\n"
     ]
    }
   ],
   "source": [
    "# Get monthly data\n",
    "df_2014_03_pos = pd.read_csv('../data/local/df_pos_2014-03.csv').reset_index()\n",
    "df_2014_03_pos.info()"
   ]
  },
  {
   "cell_type": "markdown",
   "id": "9d8793b8",
   "metadata": {},
   "source": [
    "### Representative sample based on week and location"
   ]
  },
  {
   "cell_type": "code",
   "execution_count": 35,
   "id": "849b56c5",
   "metadata": {},
   "outputs": [
    {
     "data": {
      "text/html": [
       "<div>\n",
       "<style scoped>\n",
       "    .dataframe tbody tr th:only-of-type {\n",
       "        vertical-align: middle;\n",
       "    }\n",
       "\n",
       "    .dataframe tbody tr th {\n",
       "        vertical-align: top;\n",
       "    }\n",
       "\n",
       "    .dataframe thead th {\n",
       "        text-align: right;\n",
       "    }\n",
       "</style>\n",
       "<table border=\"1\" class=\"dataframe\">\n",
       "  <thead>\n",
       "    <tr style=\"text-align: right;\">\n",
       "      <th></th>\n",
       "      <th>year_week</th>\n",
       "      <th>LocationName</th>\n",
       "      <th>group_size</th>\n",
       "      <th>proportion</th>\n",
       "    </tr>\n",
       "  </thead>\n",
       "  <tbody>\n",
       "    <tr>\n",
       "      <th>0</th>\n",
       "      <td>2014-w09</td>\n",
       "      <td>Alagoas</td>\n",
       "      <td>1</td>\n",
       "      <td>0.000247</td>\n",
       "    </tr>\n",
       "    <tr>\n",
       "      <th>1</th>\n",
       "      <td>2014-w09</td>\n",
       "      <td>Amapa</td>\n",
       "      <td>1</td>\n",
       "      <td>0.000247</td>\n",
       "    </tr>\n",
       "    <tr>\n",
       "      <th>2</th>\n",
       "      <td>2014-w09</td>\n",
       "      <td>Amazonas</td>\n",
       "      <td>5</td>\n",
       "      <td>0.001236</td>\n",
       "    </tr>\n",
       "    <tr>\n",
       "      <th>3</th>\n",
       "      <td>2014-w09</td>\n",
       "      <td>Bahia</td>\n",
       "      <td>13</td>\n",
       "      <td>0.003214</td>\n",
       "    </tr>\n",
       "    <tr>\n",
       "      <th>4</th>\n",
       "      <td>2014-w09</td>\n",
       "      <td>Ceara</td>\n",
       "      <td>8</td>\n",
       "      <td>0.001978</td>\n",
       "    </tr>\n",
       "    <tr>\n",
       "      <th>...</th>\n",
       "      <td>...</td>\n",
       "      <td>...</td>\n",
       "      <td>...</td>\n",
       "      <td>...</td>\n",
       "    </tr>\n",
       "    <tr>\n",
       "      <th>112</th>\n",
       "      <td>2014-w13</td>\n",
       "      <td>Roraima</td>\n",
       "      <td>7</td>\n",
       "      <td>0.001731</td>\n",
       "    </tr>\n",
       "    <tr>\n",
       "      <th>113</th>\n",
       "      <td>2014-w13</td>\n",
       "      <td>Santa Catarina</td>\n",
       "      <td>10</td>\n",
       "      <td>0.002472</td>\n",
       "    </tr>\n",
       "    <tr>\n",
       "      <th>114</th>\n",
       "      <td>2014-w13</td>\n",
       "      <td>Sao Paulo</td>\n",
       "      <td>88</td>\n",
       "      <td>0.021755</td>\n",
       "    </tr>\n",
       "    <tr>\n",
       "      <th>115</th>\n",
       "      <td>2014-w13</td>\n",
       "      <td>Sergipe</td>\n",
       "      <td>3</td>\n",
       "      <td>0.000742</td>\n",
       "    </tr>\n",
       "    <tr>\n",
       "      <th>116</th>\n",
       "      <td>2014-w13</td>\n",
       "      <td>Tocantins</td>\n",
       "      <td>1</td>\n",
       "      <td>0.000247</td>\n",
       "    </tr>\n",
       "  </tbody>\n",
       "</table>\n",
       "<p>117 rows × 4 columns</p>\n",
       "</div>"
      ],
      "text/plain": [
       "    year_week    LocationName  group_size  proportion\n",
       "0    2014-w09         Alagoas           1    0.000247\n",
       "1    2014-w09           Amapa           1    0.000247\n",
       "2    2014-w09        Amazonas           5    0.001236\n",
       "3    2014-w09           Bahia          13    0.003214\n",
       "4    2014-w09           Ceara           8    0.001978\n",
       "..        ...             ...         ...         ...\n",
       "112  2014-w13         Roraima           7    0.001731\n",
       "113  2014-w13  Santa Catarina          10    0.002472\n",
       "114  2014-w13       Sao Paulo          88    0.021755\n",
       "115  2014-w13         Sergipe           3    0.000742\n",
       "116  2014-w13       Tocantins           1    0.000247\n",
       "\n",
       "[117 rows x 4 columns]"
      ]
     },
     "execution_count": 35,
     "metadata": {},
     "output_type": "execute_result"
    }
   ],
   "source": [
    "# Step 1: Calculate the size of each group (year_week, LocationName)\n",
    "group_sizes = df_2014_03_pos.groupby(['year_week', 'LocationName']).size().reset_index(name='group_size')\n",
    "\n",
    "# Step 2: Calculate the proportion of each group in the dataset\n",
    "total_rows = len(df_2014_03_pos)\n",
    "group_sizes['proportion'] = group_sizes['group_size'] / total_rows\n",
    "group_sizes"
   ]
  },
  {
   "cell_type": "code",
   "execution_count": 36,
   "id": "aef8698d",
   "metadata": {},
   "outputs": [
    {
     "data": {
      "text/html": [
       "<div>\n",
       "<style scoped>\n",
       "    .dataframe tbody tr th:only-of-type {\n",
       "        vertical-align: middle;\n",
       "    }\n",
       "\n",
       "    .dataframe tbody tr th {\n",
       "        vertical-align: top;\n",
       "    }\n",
       "\n",
       "    .dataframe thead th {\n",
       "        text-align: right;\n",
       "    }\n",
       "</style>\n",
       "<table border=\"1\" class=\"dataframe\">\n",
       "  <thead>\n",
       "    <tr style=\"text-align: right;\">\n",
       "      <th></th>\n",
       "      <th>year_week</th>\n",
       "      <th>LocationName</th>\n",
       "      <th>group_size</th>\n",
       "      <th>proportion</th>\n",
       "      <th>sample_size</th>\n",
       "    </tr>\n",
       "  </thead>\n",
       "  <tbody>\n",
       "    <tr>\n",
       "      <th>0</th>\n",
       "      <td>2014-w09</td>\n",
       "      <td>Alagoas</td>\n",
       "      <td>1</td>\n",
       "      <td>0.000247</td>\n",
       "      <td>0</td>\n",
       "    </tr>\n",
       "    <tr>\n",
       "      <th>1</th>\n",
       "      <td>2014-w09</td>\n",
       "      <td>Amapa</td>\n",
       "      <td>1</td>\n",
       "      <td>0.000247</td>\n",
       "      <td>0</td>\n",
       "    </tr>\n",
       "    <tr>\n",
       "      <th>2</th>\n",
       "      <td>2014-w09</td>\n",
       "      <td>Amazonas</td>\n",
       "      <td>5</td>\n",
       "      <td>0.001236</td>\n",
       "      <td>3</td>\n",
       "    </tr>\n",
       "    <tr>\n",
       "      <th>3</th>\n",
       "      <td>2014-w09</td>\n",
       "      <td>Bahia</td>\n",
       "      <td>13</td>\n",
       "      <td>0.003214</td>\n",
       "      <td>7</td>\n",
       "    </tr>\n",
       "    <tr>\n",
       "      <th>4</th>\n",
       "      <td>2014-w09</td>\n",
       "      <td>Ceara</td>\n",
       "      <td>8</td>\n",
       "      <td>0.001978</td>\n",
       "      <td>4</td>\n",
       "    </tr>\n",
       "    <tr>\n",
       "      <th>...</th>\n",
       "      <td>...</td>\n",
       "      <td>...</td>\n",
       "      <td>...</td>\n",
       "      <td>...</td>\n",
       "      <td>...</td>\n",
       "    </tr>\n",
       "    <tr>\n",
       "      <th>112</th>\n",
       "      <td>2014-w13</td>\n",
       "      <td>Roraima</td>\n",
       "      <td>7</td>\n",
       "      <td>0.001731</td>\n",
       "      <td>4</td>\n",
       "    </tr>\n",
       "    <tr>\n",
       "      <th>113</th>\n",
       "      <td>2014-w13</td>\n",
       "      <td>Santa Catarina</td>\n",
       "      <td>10</td>\n",
       "      <td>0.002472</td>\n",
       "      <td>6</td>\n",
       "    </tr>\n",
       "    <tr>\n",
       "      <th>114</th>\n",
       "      <td>2014-w13</td>\n",
       "      <td>Sao Paulo</td>\n",
       "      <td>88</td>\n",
       "      <td>0.021755</td>\n",
       "      <td>53</td>\n",
       "    </tr>\n",
       "    <tr>\n",
       "      <th>115</th>\n",
       "      <td>2014-w13</td>\n",
       "      <td>Sergipe</td>\n",
       "      <td>3</td>\n",
       "      <td>0.000742</td>\n",
       "      <td>1</td>\n",
       "    </tr>\n",
       "    <tr>\n",
       "      <th>116</th>\n",
       "      <td>2014-w13</td>\n",
       "      <td>Tocantins</td>\n",
       "      <td>1</td>\n",
       "      <td>0.000247</td>\n",
       "      <td>0</td>\n",
       "    </tr>\n",
       "  </tbody>\n",
       "</table>\n",
       "<p>117 rows × 5 columns</p>\n",
       "</div>"
      ],
      "text/plain": [
       "    year_week    LocationName  group_size  proportion  sample_size\n",
       "0    2014-w09         Alagoas           1    0.000247            0\n",
       "1    2014-w09           Amapa           1    0.000247            0\n",
       "2    2014-w09        Amazonas           5    0.001236            3\n",
       "3    2014-w09           Bahia          13    0.003214            7\n",
       "4    2014-w09           Ceara           8    0.001978            4\n",
       "..        ...             ...         ...         ...          ...\n",
       "112  2014-w13         Roraima           7    0.001731            4\n",
       "113  2014-w13  Santa Catarina          10    0.002472            6\n",
       "114  2014-w13       Sao Paulo          88    0.021755           53\n",
       "115  2014-w13         Sergipe           3    0.000742            1\n",
       "116  2014-w13       Tocantins           1    0.000247            0\n",
       "\n",
       "[117 rows x 5 columns]"
      ]
     },
     "execution_count": 36,
     "metadata": {},
     "output_type": "execute_result"
    }
   ],
   "source": [
    "# Step 3: Define the target sample size\n",
    "target_sample_size = 2450\n",
    "\n",
    "# Step 4: Calculate the sample size for each group (based on its proportion)\n",
    "group_sizes['sample_size'] = np.floor(group_sizes['proportion'] * target_sample_size).astype(int)\n",
    "group_sizes"
   ]
  },
  {
   "cell_type": "code",
   "execution_count": 37,
   "id": "64497bce",
   "metadata": {},
   "outputs": [],
   "source": [
    "# Step 5: Merge this sample size information back to the original DataFrame\n",
    "df_2014_03_pos_sample_size = pd.merge(df_2014_03_pos, group_sizes[['year_week', 'LocationName', 'sample_size']], \n",
    "                               on=['year_week', 'LocationName'], how='left')"
   ]
  },
  {
   "cell_type": "code",
   "execution_count": 38,
   "id": "b66deaed",
   "metadata": {},
   "outputs": [
    {
     "name": "stdout",
     "output_type": "stream",
     "text": [
      "Sampled 4045 rows.\n"
     ]
    }
   ],
   "source": [
    "# Step 6: Perform the stratified sampling\n",
    "#df_2014_03_pos_sample = df_2014_03_pos_sample_size.groupby(['year_week', 'LocationName']).apply(\n",
    " #   lambda group: group.sample(n=group['sample_size'].iloc[0], random_state=42)\n",
    "#).reset_index(drop=True)\n",
    "df_2014_03_pos_sample = df_2014_03_pos\n",
    "# Step 7: Check the result\n",
    "print(f\"Sampled {len(df_2014_03_pos_sample)} rows.\")\n"
   ]
  },
  {
   "cell_type": "code",
   "execution_count": 39,
   "id": "cacd5bfb",
   "metadata": {},
   "outputs": [],
   "source": [
    "text_gpt_2014_03_pos = '\\n'.join(df_2014_03_pos_sample['text'].astype(str))"
   ]
  },
  {
   "cell_type": "markdown",
   "id": "677054ce",
   "metadata": {},
   "source": [
    "### Prompts and loops"
   ]
  },
  {
   "cell_type": "code",
   "execution_count": 40,
   "id": "3e74eba3",
   "metadata": {},
   "outputs": [],
   "source": [
    "prompt_3 = prompt_raw.replace('TWEETS', text_gpt_2014_03_pos)"
   ]
  },
  {
   "cell_type": "code",
   "execution_count": 41,
   "id": "709224ed",
   "metadata": {
    "scrolled": false
   },
   "outputs": [],
   "source": [
    "response = openai.ChatCompletion.create(\n",
    "    model=\"gpt-4o-mini\",  \n",
    "    messages = [\n",
    "        {\"role\": \"user\", \"content\": prompt_3}\n",
    "    ],\n",
    "    max_tokens=400,  # Maximum number of tokens in the response\n",
    "    temperature=0.7  # Controls the randomness of the output\n",
    ")"
   ]
  },
  {
   "cell_type": "code",
   "execution_count": 42,
   "id": "b8776166",
   "metadata": {},
   "outputs": [
    {
     "data": {
      "text/plain": [
       "'The text discusses the upcoming nationwide vaccination campaign in Brazil against HPV, targeting girls aged 11 to 13, starting from March 10. It emphasizes the importance of vaccination in preventing cervical cancer, highlights the availability of the vaccine through public health systems, and encourages parents to ensure their daughters receive the vaccine. Concerns about vaccine safety are addressed, with authorities assuring the public of its efficacy and necessity. The campaign aims to raise awareness and increase participation among the target age group.'"
      ]
     },
     "execution_count": 42,
     "metadata": {},
     "output_type": "execute_result"
    }
   ],
   "source": [
    "response.choices[0].message.content"
   ]
  },
  {
   "cell_type": "code",
   "execution_count": 43,
   "id": "f03966cf",
   "metadata": {},
   "outputs": [],
   "source": [
    "#summary = []\n",
    "#dataset = []"
   ]
  },
  {
   "cell_type": "code",
   "execution_count": 44,
   "id": "bde868f6",
   "metadata": {},
   "outputs": [],
   "source": [
    "dataset.append(\"2014_03_positive\")"
   ]
  },
  {
   "cell_type": "code",
   "execution_count": 45,
   "id": "7a940cb2",
   "metadata": {},
   "outputs": [],
   "source": [
    "summary.append(response.choices[0].message.content)"
   ]
  },
  {
   "cell_type": "code",
   "execution_count": 46,
   "id": "fdf1b907",
   "metadata": {
    "tags": []
   },
   "outputs": [
    {
     "name": "stdout",
     "output_type": "stream",
     "text": [
      "<class 'pandas.core.frame.DataFrame'>\n",
      "RangeIndex: 3 entries, 0 to 2\n",
      "Data columns (total 2 columns):\n",
      " #   Column   Non-Null Count  Dtype \n",
      "---  ------   --------------  ----- \n",
      " 0   dataset  3 non-null      object\n",
      " 1   summary  3 non-null      object\n",
      "dtypes: object(2)\n",
      "memory usage: 176.0+ bytes\n"
     ]
    }
   ],
   "source": [
    "df_2014_pos = pd.DataFrame(list(zip(dataset, summary)),\n",
    "                            columns = ['dataset', 'summary'])\n",
    "df_2014_pos.info()"
   ]
  },
  {
   "cell_type": "code",
   "execution_count": 47,
   "id": "b44227e1",
   "metadata": {},
   "outputs": [
    {
     "data": {
      "text/html": [
       "<div>\n",
       "<style scoped>\n",
       "    .dataframe tbody tr th:only-of-type {\n",
       "        vertical-align: middle;\n",
       "    }\n",
       "\n",
       "    .dataframe tbody tr th {\n",
       "        vertical-align: top;\n",
       "    }\n",
       "\n",
       "    .dataframe thead th {\n",
       "        text-align: right;\n",
       "    }\n",
       "</style>\n",
       "<table border=\"1\" class=\"dataframe\">\n",
       "  <thead>\n",
       "    <tr style=\"text-align: right;\">\n",
       "      <th></th>\n",
       "      <th>dataset</th>\n",
       "      <th>summary</th>\n",
       "    </tr>\n",
       "  </thead>\n",
       "  <tbody>\n",
       "    <tr>\n",
       "      <th>0</th>\n",
       "      <td>2014_01_positive</td>\n",
       "      <td>The provided texts discuss the introduction of...</td>\n",
       "    </tr>\n",
       "    <tr>\n",
       "      <th>1</th>\n",
       "      <td>2014_02_positive</td>\n",
       "      <td>The texts discuss various vaccination campaign...</td>\n",
       "    </tr>\n",
       "    <tr>\n",
       "      <th>2</th>\n",
       "      <td>2014_03_positive</td>\n",
       "      <td>The text discusses the upcoming nationwide vac...</td>\n",
       "    </tr>\n",
       "  </tbody>\n",
       "</table>\n",
       "</div>"
      ],
      "text/plain": [
       "            dataset                                            summary\n",
       "0  2014_01_positive  The provided texts discuss the introduction of...\n",
       "1  2014_02_positive  The texts discuss various vaccination campaign...\n",
       "2  2014_03_positive  The text discusses the upcoming nationwide vac..."
      ]
     },
     "execution_count": 47,
     "metadata": {},
     "output_type": "execute_result"
    }
   ],
   "source": [
    "df_2014_pos.tail(14)"
   ]
  },
  {
   "cell_type": "code",
   "execution_count": 48,
   "id": "8528ad17",
   "metadata": {},
   "outputs": [
    {
     "data": {
      "text/plain": [
       "<OpenAIObject chat.completion id=chatcmpl-AUdHS6SuYsWFOWfCrO1ZA0a9xbvl8 at 0x1d35971c680> JSON: {\n",
       "  \"choices\": [\n",
       "    {\n",
       "      \"finish_reason\": \"stop\",\n",
       "      \"index\": 0,\n",
       "      \"logprobs\": null,\n",
       "      \"message\": {\n",
       "        \"content\": \"The text discusses the upcoming nationwide vaccination campaign in Brazil against HPV, targeting girls aged 11 to 13, starting from March 10. It emphasizes the importance of vaccination in preventing cervical cancer, highlights the availability of the vaccine through public health systems, and encourages parents to ensure their daughters receive the vaccine. Concerns about vaccine safety are addressed, with authorities assuring the public of its efficacy and necessity. The campaign aims to raise awareness and increase participation among the target age group.\",\n",
       "        \"refusal\": null,\n",
       "        \"role\": \"assistant\"\n",
       "      }\n",
       "    }\n",
       "  ],\n",
       "  \"created\": 1731864198,\n",
       "  \"id\": \"chatcmpl-AUdHS6SuYsWFOWfCrO1ZA0a9xbvl8\",\n",
       "  \"model\": \"gpt-4o-mini-2024-07-18\",\n",
       "  \"object\": \"chat.completion\",\n",
       "  \"system_fingerprint\": \"fp_0ba0d124f1\",\n",
       "  \"usage\": {\n",
       "    \"completion_tokens\": 95,\n",
       "    \"completion_tokens_details\": {\n",
       "      \"accepted_prediction_tokens\": 0,\n",
       "      \"audio_tokens\": 0,\n",
       "      \"reasoning_tokens\": 0,\n",
       "      \"rejected_prediction_tokens\": 0\n",
       "    },\n",
       "    \"prompt_tokens\": 95461,\n",
       "    \"prompt_tokens_details\": {\n",
       "      \"audio_tokens\": 0,\n",
       "      \"cached_tokens\": 0\n",
       "    },\n",
       "    \"total_tokens\": 95556\n",
       "  }\n",
       "}"
      ]
     },
     "execution_count": 48,
     "metadata": {},
     "output_type": "execute_result"
    }
   ],
   "source": [
    "response"
   ]
  },
  {
   "cell_type": "markdown",
   "id": "a57159e2",
   "metadata": {},
   "source": [
    "## April"
   ]
  },
  {
   "cell_type": "code",
   "execution_count": 49,
   "id": "b84f949f",
   "metadata": {
    "scrolled": true,
    "tags": []
   },
   "outputs": [
    {
     "name": "stdout",
     "output_type": "stream",
     "text": [
      "<class 'pandas.core.frame.DataFrame'>\n",
      "RangeIndex: 2761 entries, 0 to 2760\n",
      "Data columns (total 53 columns):\n",
      " #   Column                  Non-Null Count  Dtype  \n",
      "---  ------                  --------------  -----  \n",
      " 0   index                   2761 non-null   int64  \n",
      " 1   LocationCode            2761 non-null   object \n",
      " 2   LocationName            2761 non-null   object \n",
      " 3   StatesCode              2761 non-null   object \n",
      " 4   ...4                    2761 non-null   int64  \n",
      " 5   id                      2761 non-null   float64\n",
      " 6   text                    2761 non-null   object \n",
      " 7   label                   2761 non-null   object \n",
      " 8   in_reply_to_status_id   86 non-null     float64\n",
      " 9   in_reply_to_user_id     101 non-null    float64\n",
      " 10  quoted_user_id          0 non-null      float64\n",
      " 11  quoted_status_id        0 non-null      float64\n",
      " 12  retweeted_user_id       639 non-null    float64\n",
      " 13  retweeted_status_id     639 non-null    float64\n",
      " 14  created_at              2761 non-null   object \n",
      " 15  entities.user_mentions  942 non-null    object \n",
      " 16  user.id                 2761 non-null   int64  \n",
      " 17  user.screen_name        2761 non-null   object \n",
      " 18  user.name               2759 non-null   object \n",
      " 19  user.description        2426 non-null   object \n",
      " 20  user.timezone           0 non-null      float64\n",
      " 21  user.location           2752 non-null   object \n",
      " 22  user.num_followers      2761 non-null   int64  \n",
      " 23  user.num_following      2761 non-null   int64  \n",
      " 24  user.created_at         2761 non-null   object \n",
      " 25  user.statuses_count     2761 non-null   int64  \n",
      " 26  user.is_verified        2761 non-null   bool   \n",
      " 27  lang                    2761 non-null   object \n",
      " 28  token_count             2761 non-null   int64  \n",
      " 29  is_retweet              2761 non-null   bool   \n",
      " 30  has_quote               2761 non-null   bool   \n",
      " 31  is_reply                2761 non-null   bool   \n",
      " 32  contains_keywords       2761 non-null   bool   \n",
      " 33  longitude               2761 non-null   float64\n",
      " 34  latitude                2761 non-null   float64\n",
      " 35  country_code            2761 non-null   object \n",
      " 36  geoname_id              2719 non-null   float64\n",
      " 37  location_type           2761 non-null   object \n",
      " 38  geo_type                2761 non-null   int64  \n",
      " 39  region                  2761 non-null   object \n",
      " 40  subregion               2761 non-null   object \n",
      " 41  num_quotes              2761 non-null   int64  \n",
      " 42  num_replies             2761 non-null   int64  \n",
      " 43  num_retweets            2761 non-null   int64  \n",
      " 44  sent_gpt                2761 non-null   object \n",
      " 45  gpt_sent_presence       2761 non-null   int64  \n",
      " 46  cleaned_text_lem        2761 non-null   object \n",
      " 47  cleaned_text            2761 non-null   object \n",
      " 48  month                   2761 non-null   int64  \n",
      " 49  year                    2761 non-null   int64  \n",
      " 50  week                    2761 non-null   int64  \n",
      " 51  year_month              2761 non-null   object \n",
      " 52  year_week               2761 non-null   object \n",
      "dtypes: bool(5), float64(11), int64(15), object(22)\n",
      "memory usage: 1.0+ MB\n"
     ]
    }
   ],
   "source": [
    "# Get monthly data\n",
    "df_2014_04_pos = pd.read_csv('../data/local/df_pos_2014-04.csv').reset_index()\n",
    "df_2014_04_pos.info()"
   ]
  },
  {
   "cell_type": "markdown",
   "id": "66b76111",
   "metadata": {},
   "source": [
    "### Representative sample based on week and location"
   ]
  },
  {
   "cell_type": "code",
   "execution_count": 50,
   "id": "e2923a82",
   "metadata": {},
   "outputs": [
    {
     "data": {
      "text/html": [
       "<div>\n",
       "<style scoped>\n",
       "    .dataframe tbody tr th:only-of-type {\n",
       "        vertical-align: middle;\n",
       "    }\n",
       "\n",
       "    .dataframe tbody tr th {\n",
       "        vertical-align: top;\n",
       "    }\n",
       "\n",
       "    .dataframe thead th {\n",
       "        text-align: right;\n",
       "    }\n",
       "</style>\n",
       "<table border=\"1\" class=\"dataframe\">\n",
       "  <thead>\n",
       "    <tr style=\"text-align: right;\">\n",
       "      <th></th>\n",
       "      <th>year_week</th>\n",
       "      <th>LocationName</th>\n",
       "      <th>group_size</th>\n",
       "      <th>proportion</th>\n",
       "    </tr>\n",
       "  </thead>\n",
       "  <tbody>\n",
       "    <tr>\n",
       "      <th>0</th>\n",
       "      <td>2014-w13</td>\n",
       "      <td>Alagoas</td>\n",
       "      <td>3</td>\n",
       "      <td>0.001087</td>\n",
       "    </tr>\n",
       "    <tr>\n",
       "      <th>1</th>\n",
       "      <td>2014-w13</td>\n",
       "      <td>Bahia</td>\n",
       "      <td>10</td>\n",
       "      <td>0.003622</td>\n",
       "    </tr>\n",
       "    <tr>\n",
       "      <th>2</th>\n",
       "      <td>2014-w13</td>\n",
       "      <td>Ceara</td>\n",
       "      <td>2</td>\n",
       "      <td>0.000724</td>\n",
       "    </tr>\n",
       "    <tr>\n",
       "      <th>3</th>\n",
       "      <td>2014-w13</td>\n",
       "      <td>Distrito Federal</td>\n",
       "      <td>2</td>\n",
       "      <td>0.000724</td>\n",
       "    </tr>\n",
       "    <tr>\n",
       "      <th>4</th>\n",
       "      <td>2014-w13</td>\n",
       "      <td>Goias</td>\n",
       "      <td>1</td>\n",
       "      <td>0.000362</td>\n",
       "    </tr>\n",
       "    <tr>\n",
       "      <th>...</th>\n",
       "      <td>...</td>\n",
       "      <td>...</td>\n",
       "      <td>...</td>\n",
       "      <td>...</td>\n",
       "    </tr>\n",
       "    <tr>\n",
       "      <th>121</th>\n",
       "      <td>2014-w18</td>\n",
       "      <td>Pernambuco</td>\n",
       "      <td>3</td>\n",
       "      <td>0.001087</td>\n",
       "    </tr>\n",
       "    <tr>\n",
       "      <th>122</th>\n",
       "      <td>2014-w18</td>\n",
       "      <td>Rio Grande Do Sul</td>\n",
       "      <td>9</td>\n",
       "      <td>0.003260</td>\n",
       "    </tr>\n",
       "    <tr>\n",
       "      <th>123</th>\n",
       "      <td>2014-w18</td>\n",
       "      <td>Santa Catarina</td>\n",
       "      <td>5</td>\n",
       "      <td>0.001811</td>\n",
       "    </tr>\n",
       "    <tr>\n",
       "      <th>124</th>\n",
       "      <td>2014-w18</td>\n",
       "      <td>Sao Paulo</td>\n",
       "      <td>15</td>\n",
       "      <td>0.005433</td>\n",
       "    </tr>\n",
       "    <tr>\n",
       "      <th>125</th>\n",
       "      <td>2014-w18</td>\n",
       "      <td>Tocantins</td>\n",
       "      <td>1</td>\n",
       "      <td>0.000362</td>\n",
       "    </tr>\n",
       "  </tbody>\n",
       "</table>\n",
       "<p>126 rows × 4 columns</p>\n",
       "</div>"
      ],
      "text/plain": [
       "    year_week       LocationName  group_size  proportion\n",
       "0    2014-w13            Alagoas           3    0.001087\n",
       "1    2014-w13              Bahia          10    0.003622\n",
       "2    2014-w13              Ceara           2    0.000724\n",
       "3    2014-w13   Distrito Federal           2    0.000724\n",
       "4    2014-w13              Goias           1    0.000362\n",
       "..        ...                ...         ...         ...\n",
       "121  2014-w18         Pernambuco           3    0.001087\n",
       "122  2014-w18  Rio Grande Do Sul           9    0.003260\n",
       "123  2014-w18     Santa Catarina           5    0.001811\n",
       "124  2014-w18          Sao Paulo          15    0.005433\n",
       "125  2014-w18          Tocantins           1    0.000362\n",
       "\n",
       "[126 rows x 4 columns]"
      ]
     },
     "execution_count": 50,
     "metadata": {},
     "output_type": "execute_result"
    }
   ],
   "source": [
    "# Step 1: Calculate the size of each group (year_week, LocationName)\n",
    "group_sizes = df_2014_04_pos.groupby(['year_week', 'LocationName']).size().reset_index(name='group_size')\n",
    "\n",
    "# Step 2: Calculate the proportion of each group in the dataset\n",
    "total_rows = len(df_2014_04_pos)\n",
    "group_sizes['proportion'] = group_sizes['group_size'] / total_rows\n",
    "group_sizes"
   ]
  },
  {
   "cell_type": "code",
   "execution_count": 51,
   "id": "5e52798c",
   "metadata": {},
   "outputs": [
    {
     "data": {
      "text/html": [
       "<div>\n",
       "<style scoped>\n",
       "    .dataframe tbody tr th:only-of-type {\n",
       "        vertical-align: middle;\n",
       "    }\n",
       "\n",
       "    .dataframe tbody tr th {\n",
       "        vertical-align: top;\n",
       "    }\n",
       "\n",
       "    .dataframe thead th {\n",
       "        text-align: right;\n",
       "    }\n",
       "</style>\n",
       "<table border=\"1\" class=\"dataframe\">\n",
       "  <thead>\n",
       "    <tr style=\"text-align: right;\">\n",
       "      <th></th>\n",
       "      <th>year_week</th>\n",
       "      <th>LocationName</th>\n",
       "      <th>group_size</th>\n",
       "      <th>proportion</th>\n",
       "      <th>sample_size</th>\n",
       "    </tr>\n",
       "  </thead>\n",
       "  <tbody>\n",
       "    <tr>\n",
       "      <th>0</th>\n",
       "      <td>2014-w13</td>\n",
       "      <td>Alagoas</td>\n",
       "      <td>3</td>\n",
       "      <td>0.001087</td>\n",
       "      <td>2</td>\n",
       "    </tr>\n",
       "    <tr>\n",
       "      <th>1</th>\n",
       "      <td>2014-w13</td>\n",
       "      <td>Bahia</td>\n",
       "      <td>10</td>\n",
       "      <td>0.003622</td>\n",
       "      <td>8</td>\n",
       "    </tr>\n",
       "    <tr>\n",
       "      <th>2</th>\n",
       "      <td>2014-w13</td>\n",
       "      <td>Ceara</td>\n",
       "      <td>2</td>\n",
       "      <td>0.000724</td>\n",
       "      <td>1</td>\n",
       "    </tr>\n",
       "    <tr>\n",
       "      <th>3</th>\n",
       "      <td>2014-w13</td>\n",
       "      <td>Distrito Federal</td>\n",
       "      <td>2</td>\n",
       "      <td>0.000724</td>\n",
       "      <td>1</td>\n",
       "    </tr>\n",
       "    <tr>\n",
       "      <th>4</th>\n",
       "      <td>2014-w13</td>\n",
       "      <td>Goias</td>\n",
       "      <td>1</td>\n",
       "      <td>0.000362</td>\n",
       "      <td>0</td>\n",
       "    </tr>\n",
       "    <tr>\n",
       "      <th>...</th>\n",
       "      <td>...</td>\n",
       "      <td>...</td>\n",
       "      <td>...</td>\n",
       "      <td>...</td>\n",
       "      <td>...</td>\n",
       "    </tr>\n",
       "    <tr>\n",
       "      <th>121</th>\n",
       "      <td>2014-w18</td>\n",
       "      <td>Pernambuco</td>\n",
       "      <td>3</td>\n",
       "      <td>0.001087</td>\n",
       "      <td>2</td>\n",
       "    </tr>\n",
       "    <tr>\n",
       "      <th>122</th>\n",
       "      <td>2014-w18</td>\n",
       "      <td>Rio Grande Do Sul</td>\n",
       "      <td>9</td>\n",
       "      <td>0.003260</td>\n",
       "      <td>7</td>\n",
       "    </tr>\n",
       "    <tr>\n",
       "      <th>123</th>\n",
       "      <td>2014-w18</td>\n",
       "      <td>Santa Catarina</td>\n",
       "      <td>5</td>\n",
       "      <td>0.001811</td>\n",
       "      <td>4</td>\n",
       "    </tr>\n",
       "    <tr>\n",
       "      <th>124</th>\n",
       "      <td>2014-w18</td>\n",
       "      <td>Sao Paulo</td>\n",
       "      <td>15</td>\n",
       "      <td>0.005433</td>\n",
       "      <td>13</td>\n",
       "    </tr>\n",
       "    <tr>\n",
       "      <th>125</th>\n",
       "      <td>2014-w18</td>\n",
       "      <td>Tocantins</td>\n",
       "      <td>1</td>\n",
       "      <td>0.000362</td>\n",
       "      <td>0</td>\n",
       "    </tr>\n",
       "  </tbody>\n",
       "</table>\n",
       "<p>126 rows × 5 columns</p>\n",
       "</div>"
      ],
      "text/plain": [
       "    year_week       LocationName  group_size  proportion  sample_size\n",
       "0    2014-w13            Alagoas           3    0.001087            2\n",
       "1    2014-w13              Bahia          10    0.003622            8\n",
       "2    2014-w13              Ceara           2    0.000724            1\n",
       "3    2014-w13   Distrito Federal           2    0.000724            1\n",
       "4    2014-w13              Goias           1    0.000362            0\n",
       "..        ...                ...         ...         ...          ...\n",
       "121  2014-w18         Pernambuco           3    0.001087            2\n",
       "122  2014-w18  Rio Grande Do Sul           9    0.003260            7\n",
       "123  2014-w18     Santa Catarina           5    0.001811            4\n",
       "124  2014-w18          Sao Paulo          15    0.005433           13\n",
       "125  2014-w18          Tocantins           1    0.000362            0\n",
       "\n",
       "[126 rows x 5 columns]"
      ]
     },
     "execution_count": 51,
     "metadata": {},
     "output_type": "execute_result"
    }
   ],
   "source": [
    "# Step 3: Define the target sample size\n",
    "target_sample_size = 2450\n",
    "\n",
    "# Step 4: Calculate the sample size for each group (based on its proportion)\n",
    "group_sizes['sample_size'] = np.floor(group_sizes['proportion'] * target_sample_size).astype(int)\n",
    "group_sizes"
   ]
  },
  {
   "cell_type": "code",
   "execution_count": 52,
   "id": "c66b1eeb",
   "metadata": {},
   "outputs": [],
   "source": [
    "# Step 5: Merge this sample size information back to the original DataFrame\n",
    "df_2014_04_pos_sample_size = pd.merge(df_2014_04_pos, group_sizes[['year_week', 'LocationName', 'sample_size']], \n",
    "                               on=['year_week', 'LocationName'], how='left')"
   ]
  },
  {
   "cell_type": "code",
   "execution_count": 53,
   "id": "53f14ba0",
   "metadata": {},
   "outputs": [
    {
     "name": "stdout",
     "output_type": "stream",
     "text": [
      "Sampled 2761 rows.\n"
     ]
    }
   ],
   "source": [
    "# Step 6: Perform the stratified sampling\n",
    "#df_2014_04_pos_sample = df_2014_04_pos_sample_size.groupby(['year_week', 'LocationName']).apply(\n",
    " #   lambda group: group.sample(n=group['sample_size'].iloc[0], random_state=42)\n",
    "#).reset_index(drop=True)\n",
    "df_2014_04_pos_sample = df_2014_04_pos\n",
    "# Step 7: Check the result\n",
    "print(f\"Sampled {len(df_2014_04_pos_sample)} rows.\")\n"
   ]
  },
  {
   "cell_type": "code",
   "execution_count": 54,
   "id": "480bf650",
   "metadata": {},
   "outputs": [],
   "source": [
    "text_gpt_2014_04_pos = '\\n'.join(df_2014_04_pos_sample['text'].astype(str))"
   ]
  },
  {
   "cell_type": "markdown",
   "id": "08689181",
   "metadata": {},
   "source": [
    "### Prompts and loops"
   ]
  },
  {
   "cell_type": "code",
   "execution_count": 55,
   "id": "3d2f9387",
   "metadata": {},
   "outputs": [],
   "source": [
    "prompt_4 = prompt_raw.replace('TWEETS', text_gpt_2014_04_pos)"
   ]
  },
  {
   "cell_type": "code",
   "execution_count": 56,
   "id": "6bf06ef1",
   "metadata": {
    "scrolled": false
   },
   "outputs": [],
   "source": [
    "response = openai.ChatCompletion.create(\n",
    "    model=\"gpt-4o-mini\",  \n",
    "    messages = [\n",
    "        {\"role\": \"user\", \"content\": prompt_4}\n",
    "    ],\n",
    "    max_tokens=400,  # Maximum number of tokens in the response\n",
    "    temperature=0.7  # Controls the randomness of the output\n",
    ")"
   ]
  },
  {
   "cell_type": "code",
   "execution_count": 57,
   "id": "2c572149",
   "metadata": {},
   "outputs": [
    {
     "data": {
      "text/plain": [
       "'The sentences discuss vaccination campaigns in Brazil, focusing on the importance of vaccines for children, pregnant women, and specific diseases like HPV and influenza. Key details include the start dates for various vaccination campaigns, the groups targeted (such as children under 5 and young girls for HPV), and efforts to increase vaccination rates nationwide. The messages emphasize the safety and necessity of vaccinations in preventing serious diseases.'"
      ]
     },
     "execution_count": 57,
     "metadata": {},
     "output_type": "execute_result"
    }
   ],
   "source": [
    "response.choices[0].message.content"
   ]
  },
  {
   "cell_type": "code",
   "execution_count": 58,
   "id": "e3b9c3a6",
   "metadata": {},
   "outputs": [],
   "source": [
    "#summary = []\n",
    "#dataset = []"
   ]
  },
  {
   "cell_type": "code",
   "execution_count": 59,
   "id": "87ae0b14",
   "metadata": {},
   "outputs": [],
   "source": [
    "dataset.append(\"2014_04_positive\")"
   ]
  },
  {
   "cell_type": "code",
   "execution_count": 60,
   "id": "265b4d20",
   "metadata": {},
   "outputs": [],
   "source": [
    "summary.append(response.choices[0].message.content)"
   ]
  },
  {
   "cell_type": "code",
   "execution_count": 61,
   "id": "b2c62be9",
   "metadata": {
    "tags": []
   },
   "outputs": [
    {
     "name": "stdout",
     "output_type": "stream",
     "text": [
      "<class 'pandas.core.frame.DataFrame'>\n",
      "RangeIndex: 4 entries, 0 to 3\n",
      "Data columns (total 2 columns):\n",
      " #   Column   Non-Null Count  Dtype \n",
      "---  ------   --------------  ----- \n",
      " 0   dataset  4 non-null      object\n",
      " 1   summary  4 non-null      object\n",
      "dtypes: object(2)\n",
      "memory usage: 192.0+ bytes\n"
     ]
    }
   ],
   "source": [
    "df_2014_pos = pd.DataFrame(list(zip(dataset, summary)),\n",
    "                            columns = ['dataset', 'summary'])\n",
    "df_2014_pos.info()"
   ]
  },
  {
   "cell_type": "code",
   "execution_count": 62,
   "id": "53fcd76e",
   "metadata": {},
   "outputs": [
    {
     "data": {
      "text/html": [
       "<div>\n",
       "<style scoped>\n",
       "    .dataframe tbody tr th:only-of-type {\n",
       "        vertical-align: middle;\n",
       "    }\n",
       "\n",
       "    .dataframe tbody tr th {\n",
       "        vertical-align: top;\n",
       "    }\n",
       "\n",
       "    .dataframe thead th {\n",
       "        text-align: right;\n",
       "    }\n",
       "</style>\n",
       "<table border=\"1\" class=\"dataframe\">\n",
       "  <thead>\n",
       "    <tr style=\"text-align: right;\">\n",
       "      <th></th>\n",
       "      <th>dataset</th>\n",
       "      <th>summary</th>\n",
       "    </tr>\n",
       "  </thead>\n",
       "  <tbody>\n",
       "    <tr>\n",
       "      <th>0</th>\n",
       "      <td>2014_01_positive</td>\n",
       "      <td>The provided texts discuss the introduction of...</td>\n",
       "    </tr>\n",
       "    <tr>\n",
       "      <th>1</th>\n",
       "      <td>2014_02_positive</td>\n",
       "      <td>The texts discuss various vaccination campaign...</td>\n",
       "    </tr>\n",
       "    <tr>\n",
       "      <th>2</th>\n",
       "      <td>2014_03_positive</td>\n",
       "      <td>The text discusses the upcoming nationwide vac...</td>\n",
       "    </tr>\n",
       "    <tr>\n",
       "      <th>3</th>\n",
       "      <td>2014_04_positive</td>\n",
       "      <td>The sentences discuss vaccination campaigns in...</td>\n",
       "    </tr>\n",
       "  </tbody>\n",
       "</table>\n",
       "</div>"
      ],
      "text/plain": [
       "            dataset                                            summary\n",
       "0  2014_01_positive  The provided texts discuss the introduction of...\n",
       "1  2014_02_positive  The texts discuss various vaccination campaign...\n",
       "2  2014_03_positive  The text discusses the upcoming nationwide vac...\n",
       "3  2014_04_positive  The sentences discuss vaccination campaigns in..."
      ]
     },
     "execution_count": 62,
     "metadata": {},
     "output_type": "execute_result"
    }
   ],
   "source": [
    "df_2014_pos.tail(14)"
   ]
  },
  {
   "cell_type": "code",
   "execution_count": 63,
   "id": "9bc8461d",
   "metadata": {},
   "outputs": [
    {
     "data": {
      "text/plain": [
       "<OpenAIObject chat.completion id=chatcmpl-AUdHeqSRKIqHpnYe2IexbvG5qgH7Y at 0x1d359bddae0> JSON: {\n",
       "  \"choices\": [\n",
       "    {\n",
       "      \"finish_reason\": \"stop\",\n",
       "      \"index\": 0,\n",
       "      \"logprobs\": null,\n",
       "      \"message\": {\n",
       "        \"content\": \"The sentences discuss vaccination campaigns in Brazil, focusing on the importance of vaccines for children, pregnant women, and specific diseases like HPV and influenza. Key details include the start dates for various vaccination campaigns, the groups targeted (such as children under 5 and young girls for HPV), and efforts to increase vaccination rates nationwide. The messages emphasize the safety and necessity of vaccinations in preventing serious diseases.\",\n",
       "        \"refusal\": null,\n",
       "        \"role\": \"assistant\"\n",
       "      }\n",
       "    }\n",
       "  ],\n",
       "  \"created\": 1731864210,\n",
       "  \"id\": \"chatcmpl-AUdHeqSRKIqHpnYe2IexbvG5qgH7Y\",\n",
       "  \"model\": \"gpt-4o-mini-2024-07-18\",\n",
       "  \"object\": \"chat.completion\",\n",
       "  \"system_fingerprint\": \"fp_f8dd36be86\",\n",
       "  \"usage\": {\n",
       "    \"completion_tokens\": 77,\n",
       "    \"completion_tokens_details\": {\n",
       "      \"accepted_prediction_tokens\": 0,\n",
       "      \"audio_tokens\": 0,\n",
       "      \"reasoning_tokens\": 0,\n",
       "      \"rejected_prediction_tokens\": 0\n",
       "    },\n",
       "    \"prompt_tokens\": 66838,\n",
       "    \"prompt_tokens_details\": {\n",
       "      \"audio_tokens\": 0,\n",
       "      \"cached_tokens\": 0\n",
       "    },\n",
       "    \"total_tokens\": 66915\n",
       "  }\n",
       "}"
      ]
     },
     "execution_count": 63,
     "metadata": {},
     "output_type": "execute_result"
    }
   ],
   "source": [
    "response"
   ]
  },
  {
   "cell_type": "markdown",
   "id": "e492f6d4",
   "metadata": {},
   "source": [
    "## May"
   ]
  },
  {
   "cell_type": "code",
   "execution_count": 64,
   "id": "f38b435e",
   "metadata": {
    "scrolled": true,
    "tags": []
   },
   "outputs": [
    {
     "name": "stdout",
     "output_type": "stream",
     "text": [
      "<class 'pandas.core.frame.DataFrame'>\n",
      "RangeIndex: 2155 entries, 0 to 2154\n",
      "Data columns (total 53 columns):\n",
      " #   Column                  Non-Null Count  Dtype  \n",
      "---  ------                  --------------  -----  \n",
      " 0   index                   2155 non-null   int64  \n",
      " 1   LocationCode            2155 non-null   object \n",
      " 2   LocationName            2155 non-null   object \n",
      " 3   StatesCode              2155 non-null   object \n",
      " 4   ...4                    2155 non-null   int64  \n",
      " 5   id                      2155 non-null   float64\n",
      " 6   text                    2155 non-null   object \n",
      " 7   label                   2155 non-null   object \n",
      " 8   in_reply_to_status_id   106 non-null    float64\n",
      " 9   in_reply_to_user_id     124 non-null    float64\n",
      " 10  quoted_user_id          0 non-null      float64\n",
      " 11  quoted_status_id        0 non-null      float64\n",
      " 12  retweeted_user_id       482 non-null    float64\n",
      " 13  retweeted_status_id     482 non-null    float64\n",
      " 14  created_at              2155 non-null   object \n",
      " 15  entities.user_mentions  714 non-null    object \n",
      " 16  user.id                 2155 non-null   int64  \n",
      " 17  user.screen_name        2155 non-null   object \n",
      " 18  user.name               2153 non-null   object \n",
      " 19  user.description        1925 non-null   object \n",
      " 20  user.timezone           0 non-null      float64\n",
      " 21  user.location           2144 non-null   object \n",
      " 22  user.num_followers      2155 non-null   int64  \n",
      " 23  user.num_following      2155 non-null   int64  \n",
      " 24  user.created_at         2155 non-null   object \n",
      " 25  user.statuses_count     2155 non-null   int64  \n",
      " 26  user.is_verified        2155 non-null   bool   \n",
      " 27  lang                    2155 non-null   object \n",
      " 28  token_count             2155 non-null   int64  \n",
      " 29  is_retweet              2155 non-null   bool   \n",
      " 30  has_quote               2155 non-null   bool   \n",
      " 31  is_reply                2155 non-null   bool   \n",
      " 32  contains_keywords       2155 non-null   bool   \n",
      " 33  longitude               2155 non-null   float64\n",
      " 34  latitude                2155 non-null   float64\n",
      " 35  country_code            2155 non-null   object \n",
      " 36  geoname_id              2107 non-null   float64\n",
      " 37  location_type           2155 non-null   object \n",
      " 38  geo_type                2155 non-null   int64  \n",
      " 39  region                  2155 non-null   object \n",
      " 40  subregion               2155 non-null   object \n",
      " 41  num_quotes              2155 non-null   int64  \n",
      " 42  num_replies             2155 non-null   int64  \n",
      " 43  num_retweets            2155 non-null   int64  \n",
      " 44  sent_gpt                2155 non-null   object \n",
      " 45  gpt_sent_presence       2155 non-null   int64  \n",
      " 46  cleaned_text_lem        2155 non-null   object \n",
      " 47  cleaned_text            2155 non-null   object \n",
      " 48  month                   2155 non-null   int64  \n",
      " 49  year                    2155 non-null   int64  \n",
      " 50  week                    2155 non-null   int64  \n",
      " 51  year_month              2155 non-null   object \n",
      " 52  year_week               2155 non-null   object \n",
      "dtypes: bool(5), float64(11), int64(15), object(22)\n",
      "memory usage: 818.8+ KB\n"
     ]
    }
   ],
   "source": [
    "# Get monthly data\n",
    "df_2014_05_pos = pd.read_csv('../data/local/df_pos_2014-05.csv').reset_index()\n",
    "df_2014_05_pos.info()"
   ]
  },
  {
   "cell_type": "markdown",
   "id": "67e6748f",
   "metadata": {},
   "source": [
    "### Representative sample based on week and location"
   ]
  },
  {
   "cell_type": "code",
   "execution_count": 65,
   "id": "744659bb",
   "metadata": {},
   "outputs": [
    {
     "data": {
      "text/html": [
       "<div>\n",
       "<style scoped>\n",
       "    .dataframe tbody tr th:only-of-type {\n",
       "        vertical-align: middle;\n",
       "    }\n",
       "\n",
       "    .dataframe tbody tr th {\n",
       "        vertical-align: top;\n",
       "    }\n",
       "\n",
       "    .dataframe thead th {\n",
       "        text-align: right;\n",
       "    }\n",
       "</style>\n",
       "<table border=\"1\" class=\"dataframe\">\n",
       "  <thead>\n",
       "    <tr style=\"text-align: right;\">\n",
       "      <th></th>\n",
       "      <th>year_week</th>\n",
       "      <th>LocationName</th>\n",
       "      <th>group_size</th>\n",
       "      <th>proportion</th>\n",
       "    </tr>\n",
       "  </thead>\n",
       "  <tbody>\n",
       "    <tr>\n",
       "      <th>0</th>\n",
       "      <td>2014-w18</td>\n",
       "      <td>Acre</td>\n",
       "      <td>1</td>\n",
       "      <td>0.000464</td>\n",
       "    </tr>\n",
       "    <tr>\n",
       "      <th>1</th>\n",
       "      <td>2014-w18</td>\n",
       "      <td>Alagoas</td>\n",
       "      <td>8</td>\n",
       "      <td>0.003712</td>\n",
       "    </tr>\n",
       "    <tr>\n",
       "      <th>2</th>\n",
       "      <td>2014-w18</td>\n",
       "      <td>Amapa</td>\n",
       "      <td>3</td>\n",
       "      <td>0.001392</td>\n",
       "    </tr>\n",
       "    <tr>\n",
       "      <th>3</th>\n",
       "      <td>2014-w18</td>\n",
       "      <td>Amazonas</td>\n",
       "      <td>8</td>\n",
       "      <td>0.003712</td>\n",
       "    </tr>\n",
       "    <tr>\n",
       "      <th>4</th>\n",
       "      <td>2014-w18</td>\n",
       "      <td>Bahia</td>\n",
       "      <td>32</td>\n",
       "      <td>0.014849</td>\n",
       "    </tr>\n",
       "    <tr>\n",
       "      <th>...</th>\n",
       "      <td>...</td>\n",
       "      <td>...</td>\n",
       "      <td>...</td>\n",
       "      <td>...</td>\n",
       "    </tr>\n",
       "    <tr>\n",
       "      <th>107</th>\n",
       "      <td>2014-w22</td>\n",
       "      <td>Roraima</td>\n",
       "      <td>1</td>\n",
       "      <td>0.000464</td>\n",
       "    </tr>\n",
       "    <tr>\n",
       "      <th>108</th>\n",
       "      <td>2014-w22</td>\n",
       "      <td>Santa Catarina</td>\n",
       "      <td>2</td>\n",
       "      <td>0.000928</td>\n",
       "    </tr>\n",
       "    <tr>\n",
       "      <th>109</th>\n",
       "      <td>2014-w22</td>\n",
       "      <td>Sao Paulo</td>\n",
       "      <td>35</td>\n",
       "      <td>0.016241</td>\n",
       "    </tr>\n",
       "    <tr>\n",
       "      <th>110</th>\n",
       "      <td>2014-w22</td>\n",
       "      <td>Sergipe</td>\n",
       "      <td>7</td>\n",
       "      <td>0.003248</td>\n",
       "    </tr>\n",
       "    <tr>\n",
       "      <th>111</th>\n",
       "      <td>2014-w22</td>\n",
       "      <td>Tocantins</td>\n",
       "      <td>5</td>\n",
       "      <td>0.002320</td>\n",
       "    </tr>\n",
       "  </tbody>\n",
       "</table>\n",
       "<p>112 rows × 4 columns</p>\n",
       "</div>"
      ],
      "text/plain": [
       "    year_week    LocationName  group_size  proportion\n",
       "0    2014-w18            Acre           1    0.000464\n",
       "1    2014-w18         Alagoas           8    0.003712\n",
       "2    2014-w18           Amapa           3    0.001392\n",
       "3    2014-w18        Amazonas           8    0.003712\n",
       "4    2014-w18           Bahia          32    0.014849\n",
       "..        ...             ...         ...         ...\n",
       "107  2014-w22         Roraima           1    0.000464\n",
       "108  2014-w22  Santa Catarina           2    0.000928\n",
       "109  2014-w22       Sao Paulo          35    0.016241\n",
       "110  2014-w22         Sergipe           7    0.003248\n",
       "111  2014-w22       Tocantins           5    0.002320\n",
       "\n",
       "[112 rows x 4 columns]"
      ]
     },
     "execution_count": 65,
     "metadata": {},
     "output_type": "execute_result"
    }
   ],
   "source": [
    "# Step 1: Calculate the size of each group (year_week, LocationName)\n",
    "group_sizes = df_2014_05_pos.groupby(['year_week', 'LocationName']).size().reset_index(name='group_size')\n",
    "\n",
    "# Step 2: Calculate the proportion of each group in the dataset\n",
    "total_rows = len(df_2014_05_pos)\n",
    "group_sizes['proportion'] = group_sizes['group_size'] / total_rows\n",
    "group_sizes"
   ]
  },
  {
   "cell_type": "code",
   "execution_count": 66,
   "id": "eccffc5e",
   "metadata": {},
   "outputs": [
    {
     "data": {
      "text/html": [
       "<div>\n",
       "<style scoped>\n",
       "    .dataframe tbody tr th:only-of-type {\n",
       "        vertical-align: middle;\n",
       "    }\n",
       "\n",
       "    .dataframe tbody tr th {\n",
       "        vertical-align: top;\n",
       "    }\n",
       "\n",
       "    .dataframe thead th {\n",
       "        text-align: right;\n",
       "    }\n",
       "</style>\n",
       "<table border=\"1\" class=\"dataframe\">\n",
       "  <thead>\n",
       "    <tr style=\"text-align: right;\">\n",
       "      <th></th>\n",
       "      <th>year_week</th>\n",
       "      <th>LocationName</th>\n",
       "      <th>group_size</th>\n",
       "      <th>proportion</th>\n",
       "      <th>sample_size</th>\n",
       "    </tr>\n",
       "  </thead>\n",
       "  <tbody>\n",
       "    <tr>\n",
       "      <th>0</th>\n",
       "      <td>2014-w18</td>\n",
       "      <td>Acre</td>\n",
       "      <td>1</td>\n",
       "      <td>0.000464</td>\n",
       "      <td>1</td>\n",
       "    </tr>\n",
       "    <tr>\n",
       "      <th>1</th>\n",
       "      <td>2014-w18</td>\n",
       "      <td>Alagoas</td>\n",
       "      <td>8</td>\n",
       "      <td>0.003712</td>\n",
       "      <td>9</td>\n",
       "    </tr>\n",
       "    <tr>\n",
       "      <th>2</th>\n",
       "      <td>2014-w18</td>\n",
       "      <td>Amapa</td>\n",
       "      <td>3</td>\n",
       "      <td>0.001392</td>\n",
       "      <td>3</td>\n",
       "    </tr>\n",
       "    <tr>\n",
       "      <th>3</th>\n",
       "      <td>2014-w18</td>\n",
       "      <td>Amazonas</td>\n",
       "      <td>8</td>\n",
       "      <td>0.003712</td>\n",
       "      <td>9</td>\n",
       "    </tr>\n",
       "    <tr>\n",
       "      <th>4</th>\n",
       "      <td>2014-w18</td>\n",
       "      <td>Bahia</td>\n",
       "      <td>32</td>\n",
       "      <td>0.014849</td>\n",
       "      <td>36</td>\n",
       "    </tr>\n",
       "    <tr>\n",
       "      <th>...</th>\n",
       "      <td>...</td>\n",
       "      <td>...</td>\n",
       "      <td>...</td>\n",
       "      <td>...</td>\n",
       "      <td>...</td>\n",
       "    </tr>\n",
       "    <tr>\n",
       "      <th>107</th>\n",
       "      <td>2014-w22</td>\n",
       "      <td>Roraima</td>\n",
       "      <td>1</td>\n",
       "      <td>0.000464</td>\n",
       "      <td>1</td>\n",
       "    </tr>\n",
       "    <tr>\n",
       "      <th>108</th>\n",
       "      <td>2014-w22</td>\n",
       "      <td>Santa Catarina</td>\n",
       "      <td>2</td>\n",
       "      <td>0.000928</td>\n",
       "      <td>2</td>\n",
       "    </tr>\n",
       "    <tr>\n",
       "      <th>109</th>\n",
       "      <td>2014-w22</td>\n",
       "      <td>Sao Paulo</td>\n",
       "      <td>35</td>\n",
       "      <td>0.016241</td>\n",
       "      <td>39</td>\n",
       "    </tr>\n",
       "    <tr>\n",
       "      <th>110</th>\n",
       "      <td>2014-w22</td>\n",
       "      <td>Sergipe</td>\n",
       "      <td>7</td>\n",
       "      <td>0.003248</td>\n",
       "      <td>7</td>\n",
       "    </tr>\n",
       "    <tr>\n",
       "      <th>111</th>\n",
       "      <td>2014-w22</td>\n",
       "      <td>Tocantins</td>\n",
       "      <td>5</td>\n",
       "      <td>0.002320</td>\n",
       "      <td>5</td>\n",
       "    </tr>\n",
       "  </tbody>\n",
       "</table>\n",
       "<p>112 rows × 5 columns</p>\n",
       "</div>"
      ],
      "text/plain": [
       "    year_week    LocationName  group_size  proportion  sample_size\n",
       "0    2014-w18            Acre           1    0.000464            1\n",
       "1    2014-w18         Alagoas           8    0.003712            9\n",
       "2    2014-w18           Amapa           3    0.001392            3\n",
       "3    2014-w18        Amazonas           8    0.003712            9\n",
       "4    2014-w18           Bahia          32    0.014849           36\n",
       "..        ...             ...         ...         ...          ...\n",
       "107  2014-w22         Roraima           1    0.000464            1\n",
       "108  2014-w22  Santa Catarina           2    0.000928            2\n",
       "109  2014-w22       Sao Paulo          35    0.016241           39\n",
       "110  2014-w22         Sergipe           7    0.003248            7\n",
       "111  2014-w22       Tocantins           5    0.002320            5\n",
       "\n",
       "[112 rows x 5 columns]"
      ]
     },
     "execution_count": 66,
     "metadata": {},
     "output_type": "execute_result"
    }
   ],
   "source": [
    "# Step 3: Define the target sample size\n",
    "target_sample_size = 2450\n",
    "\n",
    "# Step 4: Calculate the sample size for each group (based on its proportion)\n",
    "group_sizes['sample_size'] = np.floor(group_sizes['proportion'] * target_sample_size).astype(int)\n",
    "group_sizes"
   ]
  },
  {
   "cell_type": "code",
   "execution_count": 67,
   "id": "1f16b08e",
   "metadata": {},
   "outputs": [],
   "source": [
    "# Step 5: Merge this sample size information back to the original DataFrame\n",
    "df_2014_05_pos_sample_size = pd.merge(df_2014_05_pos, group_sizes[['year_week', 'LocationName', 'sample_size']], \n",
    "                               on=['year_week', 'LocationName'], how='left')"
   ]
  },
  {
   "cell_type": "code",
   "execution_count": 69,
   "id": "6ec4f741",
   "metadata": {},
   "outputs": [
    {
     "name": "stdout",
     "output_type": "stream",
     "text": [
      "Sampled 2155 rows.\n"
     ]
    }
   ],
   "source": [
    "# Step 6: Perform the stratified sampling\n",
    "#df_2014_05_pos_sample = df_2014_05_pos_sample_size.groupby(['year_week', 'LocationName']).apply(\n",
    " #   lambda group: group.sample(n=group['sample_size'].iloc[0], random_state=42)\n",
    "#).reset_index(drop=True)\n",
    "df_2014_05_pos_sample = df_2014_05_pos\n",
    "# Step 7: Check the result\n",
    "print(f\"Sampled {len(df_2014_05_pos_sample)} rows.\")\n"
   ]
  },
  {
   "cell_type": "code",
   "execution_count": 70,
   "id": "b861921a",
   "metadata": {},
   "outputs": [],
   "source": [
    "text_gpt_2014_05_pos = '\\n'.join(df_2014_05_pos_sample['text'].astype(str))"
   ]
  },
  {
   "cell_type": "markdown",
   "id": "a71ff6b0",
   "metadata": {},
   "source": [
    "### Prompts and loops"
   ]
  },
  {
   "cell_type": "code",
   "execution_count": 71,
   "id": "6e6a91ed",
   "metadata": {},
   "outputs": [],
   "source": [
    "prompt_5 = prompt_raw.replace('TWEETS', text_gpt_2014_05_pos)"
   ]
  },
  {
   "cell_type": "code",
   "execution_count": 72,
   "id": "14941427",
   "metadata": {
    "scrolled": false
   },
   "outputs": [],
   "source": [
    "response = openai.ChatCompletion.create(\n",
    "    model=\"gpt-4o-mini\",  \n",
    "    messages = [\n",
    "        {\"role\": \"user\", \"content\": prompt_5}\n",
    "    ],\n",
    "    max_tokens=400,  # Maximum number of tokens in the response\n",
    "    temperature=0.7  # Controls the randomness of the output\n",
    ")"
   ]
  },
  {
   "cell_type": "code",
   "execution_count": 73,
   "id": "d34b2bcc",
   "metadata": {},
   "outputs": [
    {
     "data": {
      "text/plain": [
       "'The text discusses various vaccination campaigns in Brazil, focusing mainly on the influenza vaccine and the importance of immunization against diseases like HPV and measles. It highlights government efforts to extend vaccination deadlines and achieve vaccination targets, as well as the development of new vaccines for diseases like malaria and cancer. The public is encouraged to participate in vaccination drives to protect against illnesses and maintain community health.'"
      ]
     },
     "execution_count": 73,
     "metadata": {},
     "output_type": "execute_result"
    }
   ],
   "source": [
    "response.choices[0].message.content"
   ]
  },
  {
   "cell_type": "code",
   "execution_count": 74,
   "id": "f8f67be8",
   "metadata": {},
   "outputs": [],
   "source": [
    "#summary = []\n",
    "#dataset = []"
   ]
  },
  {
   "cell_type": "code",
   "execution_count": 75,
   "id": "0eb94e56",
   "metadata": {},
   "outputs": [],
   "source": [
    "dataset.append(\"2014_05_positive\")"
   ]
  },
  {
   "cell_type": "code",
   "execution_count": 76,
   "id": "c9c68d6a",
   "metadata": {},
   "outputs": [],
   "source": [
    "summary.append(response.choices[0].message.content)"
   ]
  },
  {
   "cell_type": "code",
   "execution_count": 77,
   "id": "5716826b",
   "metadata": {
    "tags": []
   },
   "outputs": [
    {
     "name": "stdout",
     "output_type": "stream",
     "text": [
      "<class 'pandas.core.frame.DataFrame'>\n",
      "RangeIndex: 5 entries, 0 to 4\n",
      "Data columns (total 2 columns):\n",
      " #   Column   Non-Null Count  Dtype \n",
      "---  ------   --------------  ----- \n",
      " 0   dataset  5 non-null      object\n",
      " 1   summary  5 non-null      object\n",
      "dtypes: object(2)\n",
      "memory usage: 208.0+ bytes\n"
     ]
    }
   ],
   "source": [
    "df_2014_pos = pd.DataFrame(list(zip(dataset, summary)),\n",
    "                            columns = ['dataset', 'summary'])\n",
    "df_2014_pos.info()"
   ]
  },
  {
   "cell_type": "code",
   "execution_count": 78,
   "id": "8acf11d6",
   "metadata": {},
   "outputs": [
    {
     "data": {
      "text/html": [
       "<div>\n",
       "<style scoped>\n",
       "    .dataframe tbody tr th:only-of-type {\n",
       "        vertical-align: middle;\n",
       "    }\n",
       "\n",
       "    .dataframe tbody tr th {\n",
       "        vertical-align: top;\n",
       "    }\n",
       "\n",
       "    .dataframe thead th {\n",
       "        text-align: right;\n",
       "    }\n",
       "</style>\n",
       "<table border=\"1\" class=\"dataframe\">\n",
       "  <thead>\n",
       "    <tr style=\"text-align: right;\">\n",
       "      <th></th>\n",
       "      <th>dataset</th>\n",
       "      <th>summary</th>\n",
       "    </tr>\n",
       "  </thead>\n",
       "  <tbody>\n",
       "    <tr>\n",
       "      <th>0</th>\n",
       "      <td>2014_01_positive</td>\n",
       "      <td>The provided texts discuss the introduction of...</td>\n",
       "    </tr>\n",
       "    <tr>\n",
       "      <th>1</th>\n",
       "      <td>2014_02_positive</td>\n",
       "      <td>The texts discuss various vaccination campaign...</td>\n",
       "    </tr>\n",
       "    <tr>\n",
       "      <th>2</th>\n",
       "      <td>2014_03_positive</td>\n",
       "      <td>The text discusses the upcoming nationwide vac...</td>\n",
       "    </tr>\n",
       "    <tr>\n",
       "      <th>3</th>\n",
       "      <td>2014_04_positive</td>\n",
       "      <td>The sentences discuss vaccination campaigns in...</td>\n",
       "    </tr>\n",
       "    <tr>\n",
       "      <th>4</th>\n",
       "      <td>2014_05_positive</td>\n",
       "      <td>The text discusses various vaccination campaig...</td>\n",
       "    </tr>\n",
       "  </tbody>\n",
       "</table>\n",
       "</div>"
      ],
      "text/plain": [
       "            dataset                                            summary\n",
       "0  2014_01_positive  The provided texts discuss the introduction of...\n",
       "1  2014_02_positive  The texts discuss various vaccination campaign...\n",
       "2  2014_03_positive  The text discusses the upcoming nationwide vac...\n",
       "3  2014_04_positive  The sentences discuss vaccination campaigns in...\n",
       "4  2014_05_positive  The text discusses various vaccination campaig..."
      ]
     },
     "execution_count": 78,
     "metadata": {},
     "output_type": "execute_result"
    }
   ],
   "source": [
    "df_2014_pos.tail(14)"
   ]
  },
  {
   "cell_type": "code",
   "execution_count": 79,
   "id": "2c2b96e9",
   "metadata": {},
   "outputs": [
    {
     "data": {
      "text/plain": [
       "<OpenAIObject chat.completion id=chatcmpl-AUdJGLmlFZioeCgaeFaRgf9sFhdAo at 0x1d35f2c2e00> JSON: {\n",
       "  \"choices\": [\n",
       "    {\n",
       "      \"finish_reason\": \"stop\",\n",
       "      \"index\": 0,\n",
       "      \"logprobs\": null,\n",
       "      \"message\": {\n",
       "        \"content\": \"The text discusses various vaccination campaigns in Brazil, focusing mainly on the influenza vaccine and the importance of immunization against diseases like HPV and measles. It highlights government efforts to extend vaccination deadlines and achieve vaccination targets, as well as the development of new vaccines for diseases like malaria and cancer. The public is encouraged to participate in vaccination drives to protect against illnesses and maintain community health.\",\n",
       "        \"refusal\": null,\n",
       "        \"role\": \"assistant\"\n",
       "      }\n",
       "    }\n",
       "  ],\n",
       "  \"created\": 1731864310,\n",
       "  \"id\": \"chatcmpl-AUdJGLmlFZioeCgaeFaRgf9sFhdAo\",\n",
       "  \"model\": \"gpt-4o-mini-2024-07-18\",\n",
       "  \"object\": \"chat.completion\",\n",
       "  \"system_fingerprint\": \"fp_0ba0d124f1\",\n",
       "  \"usage\": {\n",
       "    \"completion_tokens\": 75,\n",
       "    \"completion_tokens_details\": {\n",
       "      \"accepted_prediction_tokens\": 0,\n",
       "      \"audio_tokens\": 0,\n",
       "      \"reasoning_tokens\": 0,\n",
       "      \"rejected_prediction_tokens\": 0\n",
       "    },\n",
       "    \"prompt_tokens\": 52024,\n",
       "    \"prompt_tokens_details\": {\n",
       "      \"audio_tokens\": 0,\n",
       "      \"cached_tokens\": 0\n",
       "    },\n",
       "    \"total_tokens\": 52099\n",
       "  }\n",
       "}"
      ]
     },
     "execution_count": 79,
     "metadata": {},
     "output_type": "execute_result"
    }
   ],
   "source": [
    "response"
   ]
  },
  {
   "cell_type": "markdown",
   "id": "6756d045",
   "metadata": {},
   "source": [
    "## June"
   ]
  },
  {
   "cell_type": "code",
   "execution_count": 80,
   "id": "e994e0a9",
   "metadata": {
    "scrolled": true,
    "tags": []
   },
   "outputs": [
    {
     "name": "stdout",
     "output_type": "stream",
     "text": [
      "<class 'pandas.core.frame.DataFrame'>\n",
      "RangeIndex: 1272 entries, 0 to 1271\n",
      "Data columns (total 53 columns):\n",
      " #   Column                  Non-Null Count  Dtype  \n",
      "---  ------                  --------------  -----  \n",
      " 0   index                   1272 non-null   int64  \n",
      " 1   LocationCode            1272 non-null   object \n",
      " 2   LocationName            1272 non-null   object \n",
      " 3   StatesCode              1272 non-null   object \n",
      " 4   ...4                    1272 non-null   int64  \n",
      " 5   id                      1272 non-null   float64\n",
      " 6   text                    1272 non-null   object \n",
      " 7   label                   1272 non-null   object \n",
      " 8   in_reply_to_status_id   89 non-null     float64\n",
      " 9   in_reply_to_user_id     95 non-null     float64\n",
      " 10  quoted_user_id          0 non-null      float64\n",
      " 11  quoted_status_id        0 non-null      float64\n",
      " 12  retweeted_user_id       211 non-null    float64\n",
      " 13  retweeted_status_id     211 non-null    float64\n",
      " 14  created_at              1272 non-null   object \n",
      " 15  entities.user_mentions  442 non-null    object \n",
      " 16  user.id                 1272 non-null   int64  \n",
      " 17  user.screen_name        1272 non-null   object \n",
      " 18  user.name               1271 non-null   object \n",
      " 19  user.description        1114 non-null   object \n",
      " 20  user.timezone           0 non-null      float64\n",
      " 21  user.location           1266 non-null   object \n",
      " 22  user.num_followers      1272 non-null   int64  \n",
      " 23  user.num_following      1272 non-null   int64  \n",
      " 24  user.created_at         1272 non-null   object \n",
      " 25  user.statuses_count     1272 non-null   int64  \n",
      " 26  user.is_verified        1272 non-null   bool   \n",
      " 27  lang                    1272 non-null   object \n",
      " 28  token_count             1272 non-null   int64  \n",
      " 29  is_retweet              1272 non-null   bool   \n",
      " 30  has_quote               1272 non-null   bool   \n",
      " 31  is_reply                1272 non-null   bool   \n",
      " 32  contains_keywords       1272 non-null   bool   \n",
      " 33  longitude               1272 non-null   float64\n",
      " 34  latitude                1272 non-null   float64\n",
      " 35  country_code            1272 non-null   object \n",
      " 36  geoname_id              1245 non-null   float64\n",
      " 37  location_type           1272 non-null   object \n",
      " 38  geo_type                1272 non-null   int64  \n",
      " 39  region                  1272 non-null   object \n",
      " 40  subregion               1272 non-null   object \n",
      " 41  num_quotes              1272 non-null   int64  \n",
      " 42  num_replies             1272 non-null   int64  \n",
      " 43  num_retweets            1272 non-null   int64  \n",
      " 44  sent_gpt                1272 non-null   object \n",
      " 45  gpt_sent_presence       1272 non-null   int64  \n",
      " 46  cleaned_text_lem        1272 non-null   object \n",
      " 47  cleaned_text            1272 non-null   object \n",
      " 48  month                   1272 non-null   int64  \n",
      " 49  year                    1272 non-null   int64  \n",
      " 50  week                    1272 non-null   int64  \n",
      " 51  year_month              1272 non-null   object \n",
      " 52  year_week               1272 non-null   object \n",
      "dtypes: bool(5), float64(11), int64(15), object(22)\n",
      "memory usage: 483.3+ KB\n"
     ]
    }
   ],
   "source": [
    "# Get monthly data\n",
    "df_2014_06_pos = pd.read_csv('../data/local/df_pos_2014-06.csv').reset_index()\n",
    "df_2014_06_pos.info()"
   ]
  },
  {
   "cell_type": "markdown",
   "id": "57bf0007",
   "metadata": {},
   "source": [
    "### Representative sample based on week and location"
   ]
  },
  {
   "cell_type": "code",
   "execution_count": 81,
   "id": "59042a70",
   "metadata": {},
   "outputs": [
    {
     "data": {
      "text/html": [
       "<div>\n",
       "<style scoped>\n",
       "    .dataframe tbody tr th:only-of-type {\n",
       "        vertical-align: middle;\n",
       "    }\n",
       "\n",
       "    .dataframe tbody tr th {\n",
       "        vertical-align: top;\n",
       "    }\n",
       "\n",
       "    .dataframe thead th {\n",
       "        text-align: right;\n",
       "    }\n",
       "</style>\n",
       "<table border=\"1\" class=\"dataframe\">\n",
       "  <thead>\n",
       "    <tr style=\"text-align: right;\">\n",
       "      <th></th>\n",
       "      <th>year_week</th>\n",
       "      <th>LocationName</th>\n",
       "      <th>group_size</th>\n",
       "      <th>proportion</th>\n",
       "    </tr>\n",
       "  </thead>\n",
       "  <tbody>\n",
       "    <tr>\n",
       "      <th>0</th>\n",
       "      <td>2014-w22</td>\n",
       "      <td>Acre</td>\n",
       "      <td>2</td>\n",
       "      <td>0.001572</td>\n",
       "    </tr>\n",
       "    <tr>\n",
       "      <th>1</th>\n",
       "      <td>2014-w22</td>\n",
       "      <td>Amapa</td>\n",
       "      <td>4</td>\n",
       "      <td>0.003145</td>\n",
       "    </tr>\n",
       "    <tr>\n",
       "      <th>2</th>\n",
       "      <td>2014-w22</td>\n",
       "      <td>Amazonas</td>\n",
       "      <td>8</td>\n",
       "      <td>0.006289</td>\n",
       "    </tr>\n",
       "    <tr>\n",
       "      <th>3</th>\n",
       "      <td>2014-w22</td>\n",
       "      <td>Bahia</td>\n",
       "      <td>15</td>\n",
       "      <td>0.011792</td>\n",
       "    </tr>\n",
       "    <tr>\n",
       "      <th>4</th>\n",
       "      <td>2014-w22</td>\n",
       "      <td>Ceara</td>\n",
       "      <td>4</td>\n",
       "      <td>0.003145</td>\n",
       "    </tr>\n",
       "    <tr>\n",
       "      <th>...</th>\n",
       "      <td>...</td>\n",
       "      <td>...</td>\n",
       "      <td>...</td>\n",
       "      <td>...</td>\n",
       "    </tr>\n",
       "    <tr>\n",
       "      <th>102</th>\n",
       "      <td>2014-w26</td>\n",
       "      <td>Roraima</td>\n",
       "      <td>3</td>\n",
       "      <td>0.002358</td>\n",
       "    </tr>\n",
       "    <tr>\n",
       "      <th>103</th>\n",
       "      <td>2014-w26</td>\n",
       "      <td>Santa Catarina</td>\n",
       "      <td>2</td>\n",
       "      <td>0.001572</td>\n",
       "    </tr>\n",
       "    <tr>\n",
       "      <th>104</th>\n",
       "      <td>2014-w26</td>\n",
       "      <td>Sao Paulo</td>\n",
       "      <td>55</td>\n",
       "      <td>0.043239</td>\n",
       "    </tr>\n",
       "    <tr>\n",
       "      <th>105</th>\n",
       "      <td>2014-w26</td>\n",
       "      <td>Sergipe</td>\n",
       "      <td>2</td>\n",
       "      <td>0.001572</td>\n",
       "    </tr>\n",
       "    <tr>\n",
       "      <th>106</th>\n",
       "      <td>2014-w26</td>\n",
       "      <td>Tocantins</td>\n",
       "      <td>2</td>\n",
       "      <td>0.001572</td>\n",
       "    </tr>\n",
       "  </tbody>\n",
       "</table>\n",
       "<p>107 rows × 4 columns</p>\n",
       "</div>"
      ],
      "text/plain": [
       "    year_week    LocationName  group_size  proportion\n",
       "0    2014-w22            Acre           2    0.001572\n",
       "1    2014-w22           Amapa           4    0.003145\n",
       "2    2014-w22        Amazonas           8    0.006289\n",
       "3    2014-w22           Bahia          15    0.011792\n",
       "4    2014-w22           Ceara           4    0.003145\n",
       "..        ...             ...         ...         ...\n",
       "102  2014-w26         Roraima           3    0.002358\n",
       "103  2014-w26  Santa Catarina           2    0.001572\n",
       "104  2014-w26       Sao Paulo          55    0.043239\n",
       "105  2014-w26         Sergipe           2    0.001572\n",
       "106  2014-w26       Tocantins           2    0.001572\n",
       "\n",
       "[107 rows x 4 columns]"
      ]
     },
     "execution_count": 81,
     "metadata": {},
     "output_type": "execute_result"
    }
   ],
   "source": [
    "# Step 1: Calculate the size of each group (year_week, LocationName)\n",
    "group_sizes = df_2014_06_pos.groupby(['year_week', 'LocationName']).size().reset_index(name='group_size')\n",
    "\n",
    "# Step 2: Calculate the proportion of each group in the dataset\n",
    "total_rows = len(df_2014_06_pos)\n",
    "group_sizes['proportion'] = group_sizes['group_size'] / total_rows\n",
    "group_sizes"
   ]
  },
  {
   "cell_type": "code",
   "execution_count": 82,
   "id": "371bde15",
   "metadata": {},
   "outputs": [
    {
     "data": {
      "text/html": [
       "<div>\n",
       "<style scoped>\n",
       "    .dataframe tbody tr th:only-of-type {\n",
       "        vertical-align: middle;\n",
       "    }\n",
       "\n",
       "    .dataframe tbody tr th {\n",
       "        vertical-align: top;\n",
       "    }\n",
       "\n",
       "    .dataframe thead th {\n",
       "        text-align: right;\n",
       "    }\n",
       "</style>\n",
       "<table border=\"1\" class=\"dataframe\">\n",
       "  <thead>\n",
       "    <tr style=\"text-align: right;\">\n",
       "      <th></th>\n",
       "      <th>year_week</th>\n",
       "      <th>LocationName</th>\n",
       "      <th>group_size</th>\n",
       "      <th>proportion</th>\n",
       "      <th>sample_size</th>\n",
       "    </tr>\n",
       "  </thead>\n",
       "  <tbody>\n",
       "    <tr>\n",
       "      <th>0</th>\n",
       "      <td>2014-w22</td>\n",
       "      <td>Acre</td>\n",
       "      <td>2</td>\n",
       "      <td>0.001572</td>\n",
       "      <td>3</td>\n",
       "    </tr>\n",
       "    <tr>\n",
       "      <th>1</th>\n",
       "      <td>2014-w22</td>\n",
       "      <td>Amapa</td>\n",
       "      <td>4</td>\n",
       "      <td>0.003145</td>\n",
       "      <td>7</td>\n",
       "    </tr>\n",
       "    <tr>\n",
       "      <th>2</th>\n",
       "      <td>2014-w22</td>\n",
       "      <td>Amazonas</td>\n",
       "      <td>8</td>\n",
       "      <td>0.006289</td>\n",
       "      <td>15</td>\n",
       "    </tr>\n",
       "    <tr>\n",
       "      <th>3</th>\n",
       "      <td>2014-w22</td>\n",
       "      <td>Bahia</td>\n",
       "      <td>15</td>\n",
       "      <td>0.011792</td>\n",
       "      <td>28</td>\n",
       "    </tr>\n",
       "    <tr>\n",
       "      <th>4</th>\n",
       "      <td>2014-w22</td>\n",
       "      <td>Ceara</td>\n",
       "      <td>4</td>\n",
       "      <td>0.003145</td>\n",
       "      <td>7</td>\n",
       "    </tr>\n",
       "    <tr>\n",
       "      <th>...</th>\n",
       "      <td>...</td>\n",
       "      <td>...</td>\n",
       "      <td>...</td>\n",
       "      <td>...</td>\n",
       "      <td>...</td>\n",
       "    </tr>\n",
       "    <tr>\n",
       "      <th>102</th>\n",
       "      <td>2014-w26</td>\n",
       "      <td>Roraima</td>\n",
       "      <td>3</td>\n",
       "      <td>0.002358</td>\n",
       "      <td>5</td>\n",
       "    </tr>\n",
       "    <tr>\n",
       "      <th>103</th>\n",
       "      <td>2014-w26</td>\n",
       "      <td>Santa Catarina</td>\n",
       "      <td>2</td>\n",
       "      <td>0.001572</td>\n",
       "      <td>3</td>\n",
       "    </tr>\n",
       "    <tr>\n",
       "      <th>104</th>\n",
       "      <td>2014-w26</td>\n",
       "      <td>Sao Paulo</td>\n",
       "      <td>55</td>\n",
       "      <td>0.043239</td>\n",
       "      <td>105</td>\n",
       "    </tr>\n",
       "    <tr>\n",
       "      <th>105</th>\n",
       "      <td>2014-w26</td>\n",
       "      <td>Sergipe</td>\n",
       "      <td>2</td>\n",
       "      <td>0.001572</td>\n",
       "      <td>3</td>\n",
       "    </tr>\n",
       "    <tr>\n",
       "      <th>106</th>\n",
       "      <td>2014-w26</td>\n",
       "      <td>Tocantins</td>\n",
       "      <td>2</td>\n",
       "      <td>0.001572</td>\n",
       "      <td>3</td>\n",
       "    </tr>\n",
       "  </tbody>\n",
       "</table>\n",
       "<p>107 rows × 5 columns</p>\n",
       "</div>"
      ],
      "text/plain": [
       "    year_week    LocationName  group_size  proportion  sample_size\n",
       "0    2014-w22            Acre           2    0.001572            3\n",
       "1    2014-w22           Amapa           4    0.003145            7\n",
       "2    2014-w22        Amazonas           8    0.006289           15\n",
       "3    2014-w22           Bahia          15    0.011792           28\n",
       "4    2014-w22           Ceara           4    0.003145            7\n",
       "..        ...             ...         ...         ...          ...\n",
       "102  2014-w26         Roraima           3    0.002358            5\n",
       "103  2014-w26  Santa Catarina           2    0.001572            3\n",
       "104  2014-w26       Sao Paulo          55    0.043239          105\n",
       "105  2014-w26         Sergipe           2    0.001572            3\n",
       "106  2014-w26       Tocantins           2    0.001572            3\n",
       "\n",
       "[107 rows x 5 columns]"
      ]
     },
     "execution_count": 82,
     "metadata": {},
     "output_type": "execute_result"
    }
   ],
   "source": [
    "# Step 3: Define the target sample size\n",
    "target_sample_size = 2450\n",
    "\n",
    "# Step 4: Calculate the sample size for each group (based on its proportion)\n",
    "group_sizes['sample_size'] = np.floor(group_sizes['proportion'] * target_sample_size).astype(int)\n",
    "group_sizes"
   ]
  },
  {
   "cell_type": "code",
   "execution_count": 83,
   "id": "63e28728",
   "metadata": {},
   "outputs": [],
   "source": [
    "# Step 5: Merge this sample size information back to the original DataFrame\n",
    "df_2014_06_pos_sample_size = pd.merge(df_2014_06_pos, group_sizes[['year_week', 'LocationName', 'sample_size']], \n",
    "                               on=['year_week', 'LocationName'], how='left')"
   ]
  },
  {
   "cell_type": "code",
   "execution_count": 84,
   "id": "d929406c",
   "metadata": {},
   "outputs": [
    {
     "name": "stdout",
     "output_type": "stream",
     "text": [
      "Sampled 1272 rows.\n"
     ]
    }
   ],
   "source": [
    "# Step 6: Perform the stratified sampling\n",
    "#df_2014_06_pos_sample = df_2014_06_pos_sample_size.groupby(['year_week', 'LocationName']).apply(\n",
    " #   lambda group: group.sample(n=group['sample_size'].iloc[0], random_state=42)\n",
    "#).reset_index(drop=True)\n",
    "df_2014_06_pos_sample = df_2014_06_pos\n",
    "# Step 7: Check the result\n",
    "print(f\"Sampled {len(df_2014_06_pos_sample)} rows.\")\n"
   ]
  },
  {
   "cell_type": "code",
   "execution_count": 85,
   "id": "e9aa1932",
   "metadata": {},
   "outputs": [],
   "source": [
    "text_gpt_2014_06_pos = '\\n'.join(df_2014_06_pos_sample['text'].astype(str))"
   ]
  },
  {
   "cell_type": "markdown",
   "id": "1f2f44e4",
   "metadata": {},
   "source": [
    "### Prompts and loops"
   ]
  },
  {
   "cell_type": "code",
   "execution_count": 86,
   "id": "2faa24e8",
   "metadata": {},
   "outputs": [],
   "source": [
    "prompt_6 = prompt_raw.replace('TWEETS', text_gpt_2014_06_pos)"
   ]
  },
  {
   "cell_type": "code",
   "execution_count": 87,
   "id": "bc6051bc",
   "metadata": {
    "scrolled": false
   },
   "outputs": [],
   "source": [
    "response = openai.ChatCompletion.create(\n",
    "    model=\"gpt-4o-mini\",  \n",
    "    messages = [\n",
    "        {\"role\": \"user\", \"content\": prompt_6}\n",
    "    ],\n",
    "    max_tokens=400,  # Maximum number of tokens in the response\n",
    "    temperature=0.7  # Controls the randomness of the output\n",
    ")"
   ]
  },
  {
   "cell_type": "code",
   "execution_count": 88,
   "id": "71cfa37a",
   "metadata": {},
   "outputs": [
    {
     "data": {
      "text/plain": [
       "'The text discusses various vaccination campaigns and initiatives in Brazil, emphasizing the importance of vaccinations against diseases like HPV, influenza, and coqueluche. It highlights statistics on coverage rates, ongoing campaigns, and the benefits of vaccination for both individuals and public health. The overall message promotes awareness and participation in vaccination programs.'"
      ]
     },
     "execution_count": 88,
     "metadata": {},
     "output_type": "execute_result"
    }
   ],
   "source": [
    "response.choices[0].message.content"
   ]
  },
  {
   "cell_type": "code",
   "execution_count": 89,
   "id": "e05c6917",
   "metadata": {},
   "outputs": [],
   "source": [
    "#summary = []\n",
    "#dataset = []"
   ]
  },
  {
   "cell_type": "code",
   "execution_count": 90,
   "id": "a222eb1f",
   "metadata": {},
   "outputs": [],
   "source": [
    "dataset.append(\"2014_06_positive\")"
   ]
  },
  {
   "cell_type": "code",
   "execution_count": 91,
   "id": "16cc4629",
   "metadata": {},
   "outputs": [],
   "source": [
    "summary.append(response.choices[0].message.content)"
   ]
  },
  {
   "cell_type": "code",
   "execution_count": 92,
   "id": "06ae8742",
   "metadata": {
    "tags": []
   },
   "outputs": [
    {
     "name": "stdout",
     "output_type": "stream",
     "text": [
      "<class 'pandas.core.frame.DataFrame'>\n",
      "RangeIndex: 6 entries, 0 to 5\n",
      "Data columns (total 2 columns):\n",
      " #   Column   Non-Null Count  Dtype \n",
      "---  ------   --------------  ----- \n",
      " 0   dataset  6 non-null      object\n",
      " 1   summary  6 non-null      object\n",
      "dtypes: object(2)\n",
      "memory usage: 224.0+ bytes\n"
     ]
    }
   ],
   "source": [
    "df_2014_pos = pd.DataFrame(list(zip(dataset, summary)),\n",
    "                            columns = ['dataset', 'summary'])\n",
    "df_2014_pos.info()"
   ]
  },
  {
   "cell_type": "code",
   "execution_count": 93,
   "id": "116b4d78",
   "metadata": {},
   "outputs": [
    {
     "data": {
      "text/html": [
       "<div>\n",
       "<style scoped>\n",
       "    .dataframe tbody tr th:only-of-type {\n",
       "        vertical-align: middle;\n",
       "    }\n",
       "\n",
       "    .dataframe tbody tr th {\n",
       "        vertical-align: top;\n",
       "    }\n",
       "\n",
       "    .dataframe thead th {\n",
       "        text-align: right;\n",
       "    }\n",
       "</style>\n",
       "<table border=\"1\" class=\"dataframe\">\n",
       "  <thead>\n",
       "    <tr style=\"text-align: right;\">\n",
       "      <th></th>\n",
       "      <th>dataset</th>\n",
       "      <th>summary</th>\n",
       "    </tr>\n",
       "  </thead>\n",
       "  <tbody>\n",
       "    <tr>\n",
       "      <th>0</th>\n",
       "      <td>2014_01_positive</td>\n",
       "      <td>The provided texts discuss the introduction of...</td>\n",
       "    </tr>\n",
       "    <tr>\n",
       "      <th>1</th>\n",
       "      <td>2014_02_positive</td>\n",
       "      <td>The texts discuss various vaccination campaign...</td>\n",
       "    </tr>\n",
       "    <tr>\n",
       "      <th>2</th>\n",
       "      <td>2014_03_positive</td>\n",
       "      <td>The text discusses the upcoming nationwide vac...</td>\n",
       "    </tr>\n",
       "    <tr>\n",
       "      <th>3</th>\n",
       "      <td>2014_04_positive</td>\n",
       "      <td>The sentences discuss vaccination campaigns in...</td>\n",
       "    </tr>\n",
       "    <tr>\n",
       "      <th>4</th>\n",
       "      <td>2014_05_positive</td>\n",
       "      <td>The text discusses various vaccination campaig...</td>\n",
       "    </tr>\n",
       "    <tr>\n",
       "      <th>5</th>\n",
       "      <td>2014_06_positive</td>\n",
       "      <td>The text discusses various vaccination campaig...</td>\n",
       "    </tr>\n",
       "  </tbody>\n",
       "</table>\n",
       "</div>"
      ],
      "text/plain": [
       "            dataset                                            summary\n",
       "0  2014_01_positive  The provided texts discuss the introduction of...\n",
       "1  2014_02_positive  The texts discuss various vaccination campaign...\n",
       "2  2014_03_positive  The text discusses the upcoming nationwide vac...\n",
       "3  2014_04_positive  The sentences discuss vaccination campaigns in...\n",
       "4  2014_05_positive  The text discusses various vaccination campaig...\n",
       "5  2014_06_positive  The text discusses various vaccination campaig..."
      ]
     },
     "execution_count": 93,
     "metadata": {},
     "output_type": "execute_result"
    }
   ],
   "source": [
    "df_2014_pos.tail(14)"
   ]
  },
  {
   "cell_type": "code",
   "execution_count": 94,
   "id": "7668e23f",
   "metadata": {},
   "outputs": [
    {
     "data": {
      "text/plain": [
       "<OpenAIObject chat.completion id=chatcmpl-AUdJNz3GxL1cpDk5zuNruhrNRGkeQ at 0x1d35f3d8860> JSON: {\n",
       "  \"choices\": [\n",
       "    {\n",
       "      \"finish_reason\": \"stop\",\n",
       "      \"index\": 0,\n",
       "      \"logprobs\": null,\n",
       "      \"message\": {\n",
       "        \"content\": \"The text discusses various vaccination campaigns and initiatives in Brazil, emphasizing the importance of vaccinations against diseases like HPV, influenza, and coqueluche. It highlights statistics on coverage rates, ongoing campaigns, and the benefits of vaccination for both individuals and public health. The overall message promotes awareness and participation in vaccination programs.\",\n",
       "        \"refusal\": null,\n",
       "        \"role\": \"assistant\"\n",
       "      }\n",
       "    }\n",
       "  ],\n",
       "  \"created\": 1731864317,\n",
       "  \"id\": \"chatcmpl-AUdJNz3GxL1cpDk5zuNruhrNRGkeQ\",\n",
       "  \"model\": \"gpt-4o-mini-2024-07-18\",\n",
       "  \"object\": \"chat.completion\",\n",
       "  \"system_fingerprint\": \"fp_0ba0d124f1\",\n",
       "  \"usage\": {\n",
       "    \"completion_tokens\": 61,\n",
       "    \"completion_tokens_details\": {\n",
       "      \"accepted_prediction_tokens\": 0,\n",
       "      \"audio_tokens\": 0,\n",
       "      \"reasoning_tokens\": 0,\n",
       "      \"rejected_prediction_tokens\": 0\n",
       "    },\n",
       "    \"prompt_tokens\": 29112,\n",
       "    \"prompt_tokens_details\": {\n",
       "      \"audio_tokens\": 0,\n",
       "      \"cached_tokens\": 0\n",
       "    },\n",
       "    \"total_tokens\": 29173\n",
       "  }\n",
       "}"
      ]
     },
     "execution_count": 94,
     "metadata": {},
     "output_type": "execute_result"
    }
   ],
   "source": [
    "response"
   ]
  },
  {
   "cell_type": "markdown",
   "id": "1b5c5a9b",
   "metadata": {},
   "source": [
    "## July"
   ]
  },
  {
   "cell_type": "code",
   "execution_count": 95,
   "id": "5096b4ba",
   "metadata": {
    "scrolled": true,
    "tags": []
   },
   "outputs": [
    {
     "name": "stdout",
     "output_type": "stream",
     "text": [
      "<class 'pandas.core.frame.DataFrame'>\n",
      "RangeIndex: 1901 entries, 0 to 1900\n",
      "Data columns (total 53 columns):\n",
      " #   Column                  Non-Null Count  Dtype  \n",
      "---  ------                  --------------  -----  \n",
      " 0   index                   1901 non-null   int64  \n",
      " 1   LocationCode            1901 non-null   object \n",
      " 2   LocationName            1901 non-null   object \n",
      " 3   StatesCode              1901 non-null   object \n",
      " 4   ...4                    1901 non-null   int64  \n",
      " 5   id                      1901 non-null   float64\n",
      " 6   text                    1901 non-null   object \n",
      " 7   label                   1901 non-null   object \n",
      " 8   in_reply_to_status_id   80 non-null     float64\n",
      " 9   in_reply_to_user_id     84 non-null     float64\n",
      " 10  quoted_user_id          0 non-null      float64\n",
      " 11  quoted_status_id        0 non-null      float64\n",
      " 12  retweeted_user_id       420 non-null    float64\n",
      " 13  retweeted_status_id     420 non-null    float64\n",
      " 14  created_at              1901 non-null   object \n",
      " 15  entities.user_mentions  711 non-null    object \n",
      " 16  user.id                 1901 non-null   int64  \n",
      " 17  user.screen_name        1901 non-null   object \n",
      " 18  user.name               1901 non-null   object \n",
      " 19  user.description        1650 non-null   object \n",
      " 20  user.timezone           0 non-null      float64\n",
      " 21  user.location           1899 non-null   object \n",
      " 22  user.num_followers      1901 non-null   int64  \n",
      " 23  user.num_following      1901 non-null   int64  \n",
      " 24  user.created_at         1901 non-null   object \n",
      " 25  user.statuses_count     1901 non-null   int64  \n",
      " 26  user.is_verified        1901 non-null   bool   \n",
      " 27  lang                    1901 non-null   object \n",
      " 28  token_count             1901 non-null   int64  \n",
      " 29  is_retweet              1901 non-null   bool   \n",
      " 30  has_quote               1901 non-null   bool   \n",
      " 31  is_reply                1901 non-null   bool   \n",
      " 32  contains_keywords       1901 non-null   bool   \n",
      " 33  longitude               1901 non-null   float64\n",
      " 34  latitude                1901 non-null   float64\n",
      " 35  country_code            1901 non-null   object \n",
      " 36  geoname_id              1880 non-null   float64\n",
      " 37  location_type           1901 non-null   object \n",
      " 38  geo_type                1901 non-null   int64  \n",
      " 39  region                  1901 non-null   object \n",
      " 40  subregion               1901 non-null   object \n",
      " 41  num_quotes              1901 non-null   int64  \n",
      " 42  num_replies             1901 non-null   int64  \n",
      " 43  num_retweets            1901 non-null   int64  \n",
      " 44  sent_gpt                1901 non-null   object \n",
      " 45  gpt_sent_presence       1901 non-null   int64  \n",
      " 46  cleaned_text_lem        1901 non-null   object \n",
      " 47  cleaned_text            1901 non-null   object \n",
      " 48  month                   1901 non-null   int64  \n",
      " 49  year                    1901 non-null   int64  \n",
      " 50  week                    1901 non-null   int64  \n",
      " 51  year_month              1901 non-null   object \n",
      " 52  year_week               1901 non-null   object \n",
      "dtypes: bool(5), float64(11), int64(15), object(22)\n",
      "memory usage: 722.3+ KB\n"
     ]
    }
   ],
   "source": [
    "# Get monthly data\n",
    "df_2014_07_pos = pd.read_csv('../data/local/df_pos_2014-07.csv').reset_index()\n",
    "df_2014_07_pos.info()"
   ]
  },
  {
   "cell_type": "markdown",
   "id": "bdd1752b",
   "metadata": {},
   "source": [
    "### Representative sample based on week and location"
   ]
  },
  {
   "cell_type": "code",
   "execution_count": 96,
   "id": "e62e79b6",
   "metadata": {},
   "outputs": [
    {
     "data": {
      "text/html": [
       "<div>\n",
       "<style scoped>\n",
       "    .dataframe tbody tr th:only-of-type {\n",
       "        vertical-align: middle;\n",
       "    }\n",
       "\n",
       "    .dataframe tbody tr th {\n",
       "        vertical-align: top;\n",
       "    }\n",
       "\n",
       "    .dataframe thead th {\n",
       "        text-align: right;\n",
       "    }\n",
       "</style>\n",
       "<table border=\"1\" class=\"dataframe\">\n",
       "  <thead>\n",
       "    <tr style=\"text-align: right;\">\n",
       "      <th></th>\n",
       "      <th>year_week</th>\n",
       "      <th>LocationName</th>\n",
       "      <th>group_size</th>\n",
       "      <th>proportion</th>\n",
       "    </tr>\n",
       "  </thead>\n",
       "  <tbody>\n",
       "    <tr>\n",
       "      <th>0</th>\n",
       "      <td>2014-w26</td>\n",
       "      <td>Bahia</td>\n",
       "      <td>8</td>\n",
       "      <td>0.004208</td>\n",
       "    </tr>\n",
       "    <tr>\n",
       "      <th>1</th>\n",
       "      <td>2014-w26</td>\n",
       "      <td>Ceara</td>\n",
       "      <td>2</td>\n",
       "      <td>0.001052</td>\n",
       "    </tr>\n",
       "    <tr>\n",
       "      <th>2</th>\n",
       "      <td>2014-w26</td>\n",
       "      <td>Distrito Federal</td>\n",
       "      <td>2</td>\n",
       "      <td>0.001052</td>\n",
       "    </tr>\n",
       "    <tr>\n",
       "      <th>3</th>\n",
       "      <td>2014-w26</td>\n",
       "      <td>Goias</td>\n",
       "      <td>3</td>\n",
       "      <td>0.001578</td>\n",
       "    </tr>\n",
       "    <tr>\n",
       "      <th>4</th>\n",
       "      <td>2014-w26</td>\n",
       "      <td>Maranhao</td>\n",
       "      <td>3</td>\n",
       "      <td>0.001578</td>\n",
       "    </tr>\n",
       "    <tr>\n",
       "      <th>...</th>\n",
       "      <td>...</td>\n",
       "      <td>...</td>\n",
       "      <td>...</td>\n",
       "      <td>...</td>\n",
       "    </tr>\n",
       "    <tr>\n",
       "      <th>123</th>\n",
       "      <td>2014-w31</td>\n",
       "      <td>Rio Grande Do Sul</td>\n",
       "      <td>12</td>\n",
       "      <td>0.006312</td>\n",
       "    </tr>\n",
       "    <tr>\n",
       "      <th>124</th>\n",
       "      <td>2014-w31</td>\n",
       "      <td>Roraima</td>\n",
       "      <td>2</td>\n",
       "      <td>0.001052</td>\n",
       "    </tr>\n",
       "    <tr>\n",
       "      <th>125</th>\n",
       "      <td>2014-w31</td>\n",
       "      <td>Santa Catarina</td>\n",
       "      <td>9</td>\n",
       "      <td>0.004734</td>\n",
       "    </tr>\n",
       "    <tr>\n",
       "      <th>126</th>\n",
       "      <td>2014-w31</td>\n",
       "      <td>Sao Paulo</td>\n",
       "      <td>44</td>\n",
       "      <td>0.023146</td>\n",
       "    </tr>\n",
       "    <tr>\n",
       "      <th>127</th>\n",
       "      <td>2014-w31</td>\n",
       "      <td>Sergipe</td>\n",
       "      <td>1</td>\n",
       "      <td>0.000526</td>\n",
       "    </tr>\n",
       "  </tbody>\n",
       "</table>\n",
       "<p>128 rows × 4 columns</p>\n",
       "</div>"
      ],
      "text/plain": [
       "    year_week       LocationName  group_size  proportion\n",
       "0    2014-w26              Bahia           8    0.004208\n",
       "1    2014-w26              Ceara           2    0.001052\n",
       "2    2014-w26   Distrito Federal           2    0.001052\n",
       "3    2014-w26              Goias           3    0.001578\n",
       "4    2014-w26           Maranhao           3    0.001578\n",
       "..        ...                ...         ...         ...\n",
       "123  2014-w31  Rio Grande Do Sul          12    0.006312\n",
       "124  2014-w31            Roraima           2    0.001052\n",
       "125  2014-w31     Santa Catarina           9    0.004734\n",
       "126  2014-w31          Sao Paulo          44    0.023146\n",
       "127  2014-w31            Sergipe           1    0.000526\n",
       "\n",
       "[128 rows x 4 columns]"
      ]
     },
     "execution_count": 96,
     "metadata": {},
     "output_type": "execute_result"
    }
   ],
   "source": [
    "# Step 1: Calculate the size of each group (year_week, LocationName)\n",
    "group_sizes = df_2014_07_pos.groupby(['year_week', 'LocationName']).size().reset_index(name='group_size')\n",
    "\n",
    "# Step 2: Calculate the proportion of each group in the dataset\n",
    "total_rows = len(df_2014_07_pos)\n",
    "group_sizes['proportion'] = group_sizes['group_size'] / total_rows\n",
    "group_sizes"
   ]
  },
  {
   "cell_type": "code",
   "execution_count": 97,
   "id": "97b60716",
   "metadata": {},
   "outputs": [],
   "source": [
    "# Step 3: Define the target sample size\n",
    "#target_sample_size = 2450\n",
    "\n",
    "# Step 4: Calculate the sample size for each group (based on its proportion)\n",
    "#group_sizes['sample_size'] = np.floor(group_sizes['proportion'] * target_sample_size).astype(int)\n",
    "#group_sizes\n",
    "# Include all samples since there are not many tweets"
   ]
  },
  {
   "cell_type": "code",
   "execution_count": 98,
   "id": "4c991d80",
   "metadata": {},
   "outputs": [],
   "source": [
    "# Step 5: Merge this sample size information back to the original DataFrame\n",
    "#df_2014_07_pos_sample_size = pd.merge(df_2014_07_pos, group_sizes[['year_week', 'LocationName', 'sample_size']], \n",
    " #                              on=['year_week', 'LocationName'], how='left')"
   ]
  },
  {
   "cell_type": "code",
   "execution_count": 99,
   "id": "deab4678",
   "metadata": {},
   "outputs": [
    {
     "name": "stdout",
     "output_type": "stream",
     "text": [
      "Sampled 1901 rows.\n"
     ]
    }
   ],
   "source": [
    "# Step 6: Perform the stratified sampling\n",
    "#df_2014_07_pos_sample = df_2014_07_pos_sample_size.groupby(['year_week', 'LocationName']).apply(\n",
    "#    lambda group: group.sample(n=group['sample_size'].iloc[0], random_state=42)\n",
    "#).reset_index(drop=True)\n",
    "df_2014_07_pos_sample = df_2014_07_pos\n",
    "# Step 7: Check the result\n",
    "print(f\"Sampled {len(df_2014_07_pos_sample)} rows.\")\n"
   ]
  },
  {
   "cell_type": "code",
   "execution_count": 100,
   "id": "33656dea",
   "metadata": {},
   "outputs": [],
   "source": [
    "text_gpt_2014_07_pos = '\\n'.join(df_2014_07_pos_sample['text'].astype(str))"
   ]
  },
  {
   "cell_type": "markdown",
   "id": "92d7e0ea",
   "metadata": {},
   "source": [
    "### Prompts and loops"
   ]
  },
  {
   "cell_type": "code",
   "execution_count": 101,
   "id": "349334a9",
   "metadata": {},
   "outputs": [],
   "source": [
    "prompt_7 = prompt_raw.replace('TWEETS', text_gpt_2014_07_pos)"
   ]
  },
  {
   "cell_type": "code",
   "execution_count": 102,
   "id": "ff46a08b",
   "metadata": {
    "scrolled": false
   },
   "outputs": [],
   "source": [
    "response = openai.ChatCompletion.create(\n",
    "    model=\"gpt-4o-mini\",  \n",
    "    messages = [\n",
    "        {\"role\": \"user\", \"content\": prompt_7}\n",
    "    ],\n",
    "    max_tokens=400,  # Maximum number of tokens in the response\n",
    "    temperature=0.7  # Controls the randomness of the output\n",
    ")"
   ]
  },
  {
   "cell_type": "code",
   "execution_count": 103,
   "id": "6723c1d4",
   "metadata": {},
   "outputs": [
    {
     "data": {
      "text/plain": [
       "'The text discusses various vaccination campaigns in Brazil, highlighting the effectiveness of a dengue vaccine showing 88% efficacy in hemorrhagic cases. It notes the inclusion of the hepatitis A vaccine in the national immunization schedule, with plans to reach children aged 1-2 years. Additionally, it mentions significant vaccination rates against influenza and the need for public awareness regarding hepatitis vaccinations.'"
      ]
     },
     "execution_count": 103,
     "metadata": {},
     "output_type": "execute_result"
    }
   ],
   "source": [
    "response.choices[0].message.content"
   ]
  },
  {
   "cell_type": "code",
   "execution_count": 104,
   "id": "d3081509",
   "metadata": {},
   "outputs": [],
   "source": [
    "#summary = []\n",
    "#dataset = []"
   ]
  },
  {
   "cell_type": "code",
   "execution_count": 105,
   "id": "1ba0dacb",
   "metadata": {},
   "outputs": [],
   "source": [
    "dataset.append(\"2014_07_positive\")"
   ]
  },
  {
   "cell_type": "code",
   "execution_count": 106,
   "id": "cadb0bde",
   "metadata": {},
   "outputs": [],
   "source": [
    "summary.append(response.choices[0].message.content)"
   ]
  },
  {
   "cell_type": "code",
   "execution_count": 107,
   "id": "b80e1e4e",
   "metadata": {
    "tags": []
   },
   "outputs": [
    {
     "name": "stdout",
     "output_type": "stream",
     "text": [
      "<class 'pandas.core.frame.DataFrame'>\n",
      "RangeIndex: 7 entries, 0 to 6\n",
      "Data columns (total 2 columns):\n",
      " #   Column   Non-Null Count  Dtype \n",
      "---  ------   --------------  ----- \n",
      " 0   dataset  7 non-null      object\n",
      " 1   summary  7 non-null      object\n",
      "dtypes: object(2)\n",
      "memory usage: 240.0+ bytes\n"
     ]
    }
   ],
   "source": [
    "df_2014_pos = pd.DataFrame(list(zip(dataset, summary)),\n",
    "                            columns = ['dataset', 'summary'])\n",
    "df_2014_pos.info()"
   ]
  },
  {
   "cell_type": "code",
   "execution_count": 108,
   "id": "de211f05",
   "metadata": {},
   "outputs": [
    {
     "data": {
      "text/html": [
       "<div>\n",
       "<style scoped>\n",
       "    .dataframe tbody tr th:only-of-type {\n",
       "        vertical-align: middle;\n",
       "    }\n",
       "\n",
       "    .dataframe tbody tr th {\n",
       "        vertical-align: top;\n",
       "    }\n",
       "\n",
       "    .dataframe thead th {\n",
       "        text-align: right;\n",
       "    }\n",
       "</style>\n",
       "<table border=\"1\" class=\"dataframe\">\n",
       "  <thead>\n",
       "    <tr style=\"text-align: right;\">\n",
       "      <th></th>\n",
       "      <th>dataset</th>\n",
       "      <th>summary</th>\n",
       "    </tr>\n",
       "  </thead>\n",
       "  <tbody>\n",
       "    <tr>\n",
       "      <th>0</th>\n",
       "      <td>2014_01_positive</td>\n",
       "      <td>The provided texts discuss the introduction of...</td>\n",
       "    </tr>\n",
       "    <tr>\n",
       "      <th>1</th>\n",
       "      <td>2014_02_positive</td>\n",
       "      <td>The texts discuss various vaccination campaign...</td>\n",
       "    </tr>\n",
       "    <tr>\n",
       "      <th>2</th>\n",
       "      <td>2014_03_positive</td>\n",
       "      <td>The text discusses the upcoming nationwide vac...</td>\n",
       "    </tr>\n",
       "    <tr>\n",
       "      <th>3</th>\n",
       "      <td>2014_04_positive</td>\n",
       "      <td>The sentences discuss vaccination campaigns in...</td>\n",
       "    </tr>\n",
       "    <tr>\n",
       "      <th>4</th>\n",
       "      <td>2014_05_positive</td>\n",
       "      <td>The text discusses various vaccination campaig...</td>\n",
       "    </tr>\n",
       "    <tr>\n",
       "      <th>5</th>\n",
       "      <td>2014_06_positive</td>\n",
       "      <td>The text discusses various vaccination campaig...</td>\n",
       "    </tr>\n",
       "    <tr>\n",
       "      <th>6</th>\n",
       "      <td>2014_07_positive</td>\n",
       "      <td>The text discusses various vaccination campaig...</td>\n",
       "    </tr>\n",
       "  </tbody>\n",
       "</table>\n",
       "</div>"
      ],
      "text/plain": [
       "            dataset                                            summary\n",
       "0  2014_01_positive  The provided texts discuss the introduction of...\n",
       "1  2014_02_positive  The texts discuss various vaccination campaign...\n",
       "2  2014_03_positive  The text discusses the upcoming nationwide vac...\n",
       "3  2014_04_positive  The sentences discuss vaccination campaigns in...\n",
       "4  2014_05_positive  The text discusses various vaccination campaig...\n",
       "5  2014_06_positive  The text discusses various vaccination campaig...\n",
       "6  2014_07_positive  The text discusses various vaccination campaig..."
      ]
     },
     "execution_count": 108,
     "metadata": {},
     "output_type": "execute_result"
    }
   ],
   "source": [
    "df_2014_pos.tail(14)"
   ]
  },
  {
   "cell_type": "code",
   "execution_count": 109,
   "id": "19075d74",
   "metadata": {},
   "outputs": [
    {
     "data": {
      "text/plain": [
       "<OpenAIObject chat.completion id=chatcmpl-AUdJVgQYAD7B9gArlS4P8X6vtZVbN at 0x1d35f27ee50> JSON: {\n",
       "  \"choices\": [\n",
       "    {\n",
       "      \"finish_reason\": \"stop\",\n",
       "      \"index\": 0,\n",
       "      \"logprobs\": null,\n",
       "      \"message\": {\n",
       "        \"content\": \"The text discusses various vaccination campaigns in Brazil, highlighting the effectiveness of a dengue vaccine showing 88% efficacy in hemorrhagic cases. It notes the inclusion of the hepatitis A vaccine in the national immunization schedule, with plans to reach children aged 1-2 years. Additionally, it mentions significant vaccination rates against influenza and the need for public awareness regarding hepatitis vaccinations.\",\n",
       "        \"refusal\": null,\n",
       "        \"role\": \"assistant\"\n",
       "      }\n",
       "    }\n",
       "  ],\n",
       "  \"created\": 1731864325,\n",
       "  \"id\": \"chatcmpl-AUdJVgQYAD7B9gArlS4P8X6vtZVbN\",\n",
       "  \"model\": \"gpt-4o-mini-2024-07-18\",\n",
       "  \"object\": \"chat.completion\",\n",
       "  \"system_fingerprint\": \"fp_0ba0d124f1\",\n",
       "  \"usage\": {\n",
       "    \"completion_tokens\": 74,\n",
       "    \"completion_tokens_details\": {\n",
       "      \"accepted_prediction_tokens\": 0,\n",
       "      \"audio_tokens\": 0,\n",
       "      \"reasoning_tokens\": 0,\n",
       "      \"rejected_prediction_tokens\": 0\n",
       "    },\n",
       "    \"prompt_tokens\": 44120,\n",
       "    \"prompt_tokens_details\": {\n",
       "      \"audio_tokens\": 0,\n",
       "      \"cached_tokens\": 0\n",
       "    },\n",
       "    \"total_tokens\": 44194\n",
       "  }\n",
       "}"
      ]
     },
     "execution_count": 109,
     "metadata": {},
     "output_type": "execute_result"
    }
   ],
   "source": [
    "response"
   ]
  },
  {
   "cell_type": "markdown",
   "id": "9d083d2a",
   "metadata": {},
   "source": [
    "## August"
   ]
  },
  {
   "cell_type": "code",
   "execution_count": 110,
   "id": "0ed2a943",
   "metadata": {
    "scrolled": true,
    "tags": []
   },
   "outputs": [
    {
     "name": "stdout",
     "output_type": "stream",
     "text": [
      "<class 'pandas.core.frame.DataFrame'>\n",
      "RangeIndex: 1653 entries, 0 to 1652\n",
      "Data columns (total 53 columns):\n",
      " #   Column                  Non-Null Count  Dtype  \n",
      "---  ------                  --------------  -----  \n",
      " 0   index                   1653 non-null   int64  \n",
      " 1   LocationCode            1653 non-null   object \n",
      " 2   LocationName            1653 non-null   object \n",
      " 3   StatesCode              1653 non-null   object \n",
      " 4   ...4                    1653 non-null   int64  \n",
      " 5   id                      1653 non-null   float64\n",
      " 6   text                    1653 non-null   object \n",
      " 7   label                   1653 non-null   object \n",
      " 8   in_reply_to_status_id   69 non-null     float64\n",
      " 9   in_reply_to_user_id     138 non-null    float64\n",
      " 10  quoted_user_id          0 non-null      float64\n",
      " 11  quoted_status_id        0 non-null      float64\n",
      " 12  retweeted_user_id       385 non-null    float64\n",
      " 13  retweeted_status_id     385 non-null    float64\n",
      " 14  created_at              1653 non-null   object \n",
      " 15  entities.user_mentions  615 non-null    object \n",
      " 16  user.id                 1653 non-null   int64  \n",
      " 17  user.screen_name        1653 non-null   object \n",
      " 18  user.name               1653 non-null   object \n",
      " 19  user.description        1383 non-null   object \n",
      " 20  user.timezone           0 non-null      float64\n",
      " 21  user.location           1647 non-null   object \n",
      " 22  user.num_followers      1653 non-null   int64  \n",
      " 23  user.num_following      1653 non-null   int64  \n",
      " 24  user.created_at         1653 non-null   object \n",
      " 25  user.statuses_count     1653 non-null   int64  \n",
      " 26  user.is_verified        1653 non-null   bool   \n",
      " 27  lang                    1653 non-null   object \n",
      " 28  token_count             1653 non-null   int64  \n",
      " 29  is_retweet              1653 non-null   bool   \n",
      " 30  has_quote               1653 non-null   bool   \n",
      " 31  is_reply                1653 non-null   bool   \n",
      " 32  contains_keywords       1653 non-null   bool   \n",
      " 33  longitude               1653 non-null   float64\n",
      " 34  latitude                1653 non-null   float64\n",
      " 35  country_code            1653 non-null   object \n",
      " 36  geoname_id              1634 non-null   float64\n",
      " 37  location_type           1653 non-null   object \n",
      " 38  geo_type                1653 non-null   int64  \n",
      " 39  region                  1653 non-null   object \n",
      " 40  subregion               1653 non-null   object \n",
      " 41  num_quotes              1653 non-null   int64  \n",
      " 42  num_replies             1653 non-null   int64  \n",
      " 43  num_retweets            1653 non-null   int64  \n",
      " 44  sent_gpt                1653 non-null   object \n",
      " 45  gpt_sent_presence       1653 non-null   int64  \n",
      " 46  cleaned_text_lem        1653 non-null   object \n",
      " 47  cleaned_text            1653 non-null   object \n",
      " 48  month                   1653 non-null   int64  \n",
      " 49  year                    1653 non-null   int64  \n",
      " 50  week                    1653 non-null   int64  \n",
      " 51  year_month              1653 non-null   object \n",
      " 52  year_week               1653 non-null   object \n",
      "dtypes: bool(5), float64(11), int64(15), object(22)\n",
      "memory usage: 628.1+ KB\n"
     ]
    }
   ],
   "source": [
    "# Get monthly data\n",
    "df_2014_08_pos = pd.read_csv('../data/local/df_pos_2014-08.csv').reset_index()\n",
    "df_2014_08_pos.info()"
   ]
  },
  {
   "cell_type": "markdown",
   "id": "3c035145",
   "metadata": {},
   "source": [
    "### Representative sample based on week and location"
   ]
  },
  {
   "cell_type": "code",
   "execution_count": 111,
   "id": "ebf072ee",
   "metadata": {},
   "outputs": [
    {
     "data": {
      "text/html": [
       "<div>\n",
       "<style scoped>\n",
       "    .dataframe tbody tr th:only-of-type {\n",
       "        vertical-align: middle;\n",
       "    }\n",
       "\n",
       "    .dataframe tbody tr th {\n",
       "        vertical-align: top;\n",
       "    }\n",
       "\n",
       "    .dataframe thead th {\n",
       "        text-align: right;\n",
       "    }\n",
       "</style>\n",
       "<table border=\"1\" class=\"dataframe\">\n",
       "  <thead>\n",
       "    <tr style=\"text-align: right;\">\n",
       "      <th></th>\n",
       "      <th>year_week</th>\n",
       "      <th>LocationName</th>\n",
       "      <th>group_size</th>\n",
       "      <th>proportion</th>\n",
       "    </tr>\n",
       "  </thead>\n",
       "  <tbody>\n",
       "    <tr>\n",
       "      <th>0</th>\n",
       "      <td>2014-w31</td>\n",
       "      <td>Alagoas</td>\n",
       "      <td>1</td>\n",
       "      <td>0.000605</td>\n",
       "    </tr>\n",
       "    <tr>\n",
       "      <th>1</th>\n",
       "      <td>2014-w31</td>\n",
       "      <td>Amapa</td>\n",
       "      <td>3</td>\n",
       "      <td>0.001815</td>\n",
       "    </tr>\n",
       "    <tr>\n",
       "      <th>2</th>\n",
       "      <td>2014-w31</td>\n",
       "      <td>Amazonas</td>\n",
       "      <td>13</td>\n",
       "      <td>0.007864</td>\n",
       "    </tr>\n",
       "    <tr>\n",
       "      <th>3</th>\n",
       "      <td>2014-w31</td>\n",
       "      <td>Bahia</td>\n",
       "      <td>38</td>\n",
       "      <td>0.022989</td>\n",
       "    </tr>\n",
       "    <tr>\n",
       "      <th>4</th>\n",
       "      <td>2014-w31</td>\n",
       "      <td>Ceara</td>\n",
       "      <td>6</td>\n",
       "      <td>0.003630</td>\n",
       "    </tr>\n",
       "    <tr>\n",
       "      <th>...</th>\n",
       "      <td>...</td>\n",
       "      <td>...</td>\n",
       "      <td>...</td>\n",
       "      <td>...</td>\n",
       "    </tr>\n",
       "    <tr>\n",
       "      <th>105</th>\n",
       "      <td>2014-w35</td>\n",
       "      <td>Roraima</td>\n",
       "      <td>2</td>\n",
       "      <td>0.001210</td>\n",
       "    </tr>\n",
       "    <tr>\n",
       "      <th>106</th>\n",
       "      <td>2014-w35</td>\n",
       "      <td>Santa Catarina</td>\n",
       "      <td>6</td>\n",
       "      <td>0.003630</td>\n",
       "    </tr>\n",
       "    <tr>\n",
       "      <th>107</th>\n",
       "      <td>2014-w35</td>\n",
       "      <td>Sao Paulo</td>\n",
       "      <td>69</td>\n",
       "      <td>0.041742</td>\n",
       "    </tr>\n",
       "    <tr>\n",
       "      <th>108</th>\n",
       "      <td>2014-w35</td>\n",
       "      <td>Sergipe</td>\n",
       "      <td>3</td>\n",
       "      <td>0.001815</td>\n",
       "    </tr>\n",
       "    <tr>\n",
       "      <th>109</th>\n",
       "      <td>2014-w35</td>\n",
       "      <td>Tocantins</td>\n",
       "      <td>2</td>\n",
       "      <td>0.001210</td>\n",
       "    </tr>\n",
       "  </tbody>\n",
       "</table>\n",
       "<p>110 rows × 4 columns</p>\n",
       "</div>"
      ],
      "text/plain": [
       "    year_week    LocationName  group_size  proportion\n",
       "0    2014-w31         Alagoas           1    0.000605\n",
       "1    2014-w31           Amapa           3    0.001815\n",
       "2    2014-w31        Amazonas          13    0.007864\n",
       "3    2014-w31           Bahia          38    0.022989\n",
       "4    2014-w31           Ceara           6    0.003630\n",
       "..        ...             ...         ...         ...\n",
       "105  2014-w35         Roraima           2    0.001210\n",
       "106  2014-w35  Santa Catarina           6    0.003630\n",
       "107  2014-w35       Sao Paulo          69    0.041742\n",
       "108  2014-w35         Sergipe           3    0.001815\n",
       "109  2014-w35       Tocantins           2    0.001210\n",
       "\n",
       "[110 rows x 4 columns]"
      ]
     },
     "execution_count": 111,
     "metadata": {},
     "output_type": "execute_result"
    }
   ],
   "source": [
    "# Step 1: Calculate the size of each group (year_week, LocationName)\n",
    "group_sizes = df_2014_08_pos.groupby(['year_week', 'LocationName']).size().reset_index(name='group_size')\n",
    "\n",
    "# Step 2: Calculate the proportion of each group in the dataset\n",
    "total_rows = len(df_2014_08_pos)\n",
    "group_sizes['proportion'] = group_sizes['group_size'] / total_rows\n",
    "group_sizes"
   ]
  },
  {
   "cell_type": "code",
   "execution_count": 112,
   "id": "c3bc6232",
   "metadata": {},
   "outputs": [
    {
     "data": {
      "text/html": [
       "<div>\n",
       "<style scoped>\n",
       "    .dataframe tbody tr th:only-of-type {\n",
       "        vertical-align: middle;\n",
       "    }\n",
       "\n",
       "    .dataframe tbody tr th {\n",
       "        vertical-align: top;\n",
       "    }\n",
       "\n",
       "    .dataframe thead th {\n",
       "        text-align: right;\n",
       "    }\n",
       "</style>\n",
       "<table border=\"1\" class=\"dataframe\">\n",
       "  <thead>\n",
       "    <tr style=\"text-align: right;\">\n",
       "      <th></th>\n",
       "      <th>year_week</th>\n",
       "      <th>LocationName</th>\n",
       "      <th>group_size</th>\n",
       "      <th>proportion</th>\n",
       "      <th>sample_size</th>\n",
       "    </tr>\n",
       "  </thead>\n",
       "  <tbody>\n",
       "    <tr>\n",
       "      <th>0</th>\n",
       "      <td>2014-w31</td>\n",
       "      <td>Alagoas</td>\n",
       "      <td>1</td>\n",
       "      <td>0.000605</td>\n",
       "      <td>1</td>\n",
       "    </tr>\n",
       "    <tr>\n",
       "      <th>1</th>\n",
       "      <td>2014-w31</td>\n",
       "      <td>Amapa</td>\n",
       "      <td>3</td>\n",
       "      <td>0.001815</td>\n",
       "      <td>4</td>\n",
       "    </tr>\n",
       "    <tr>\n",
       "      <th>2</th>\n",
       "      <td>2014-w31</td>\n",
       "      <td>Amazonas</td>\n",
       "      <td>13</td>\n",
       "      <td>0.007864</td>\n",
       "      <td>19</td>\n",
       "    </tr>\n",
       "    <tr>\n",
       "      <th>3</th>\n",
       "      <td>2014-w31</td>\n",
       "      <td>Bahia</td>\n",
       "      <td>38</td>\n",
       "      <td>0.022989</td>\n",
       "      <td>56</td>\n",
       "    </tr>\n",
       "    <tr>\n",
       "      <th>4</th>\n",
       "      <td>2014-w31</td>\n",
       "      <td>Ceara</td>\n",
       "      <td>6</td>\n",
       "      <td>0.003630</td>\n",
       "      <td>8</td>\n",
       "    </tr>\n",
       "    <tr>\n",
       "      <th>...</th>\n",
       "      <td>...</td>\n",
       "      <td>...</td>\n",
       "      <td>...</td>\n",
       "      <td>...</td>\n",
       "      <td>...</td>\n",
       "    </tr>\n",
       "    <tr>\n",
       "      <th>105</th>\n",
       "      <td>2014-w35</td>\n",
       "      <td>Roraima</td>\n",
       "      <td>2</td>\n",
       "      <td>0.001210</td>\n",
       "      <td>2</td>\n",
       "    </tr>\n",
       "    <tr>\n",
       "      <th>106</th>\n",
       "      <td>2014-w35</td>\n",
       "      <td>Santa Catarina</td>\n",
       "      <td>6</td>\n",
       "      <td>0.003630</td>\n",
       "      <td>8</td>\n",
       "    </tr>\n",
       "    <tr>\n",
       "      <th>107</th>\n",
       "      <td>2014-w35</td>\n",
       "      <td>Sao Paulo</td>\n",
       "      <td>69</td>\n",
       "      <td>0.041742</td>\n",
       "      <td>102</td>\n",
       "    </tr>\n",
       "    <tr>\n",
       "      <th>108</th>\n",
       "      <td>2014-w35</td>\n",
       "      <td>Sergipe</td>\n",
       "      <td>3</td>\n",
       "      <td>0.001815</td>\n",
       "      <td>4</td>\n",
       "    </tr>\n",
       "    <tr>\n",
       "      <th>109</th>\n",
       "      <td>2014-w35</td>\n",
       "      <td>Tocantins</td>\n",
       "      <td>2</td>\n",
       "      <td>0.001210</td>\n",
       "      <td>2</td>\n",
       "    </tr>\n",
       "  </tbody>\n",
       "</table>\n",
       "<p>110 rows × 5 columns</p>\n",
       "</div>"
      ],
      "text/plain": [
       "    year_week    LocationName  group_size  proportion  sample_size\n",
       "0    2014-w31         Alagoas           1    0.000605            1\n",
       "1    2014-w31           Amapa           3    0.001815            4\n",
       "2    2014-w31        Amazonas          13    0.007864           19\n",
       "3    2014-w31           Bahia          38    0.022989           56\n",
       "4    2014-w31           Ceara           6    0.003630            8\n",
       "..        ...             ...         ...         ...          ...\n",
       "105  2014-w35         Roraima           2    0.001210            2\n",
       "106  2014-w35  Santa Catarina           6    0.003630            8\n",
       "107  2014-w35       Sao Paulo          69    0.041742          102\n",
       "108  2014-w35         Sergipe           3    0.001815            4\n",
       "109  2014-w35       Tocantins           2    0.001210            2\n",
       "\n",
       "[110 rows x 5 columns]"
      ]
     },
     "execution_count": 112,
     "metadata": {},
     "output_type": "execute_result"
    }
   ],
   "source": [
    "# Step 3: Define the target sample size\n",
    "target_sample_size = 2450\n",
    "\n",
    "# Step 4: Calculate the sample size for each group (based on its proportion)\n",
    "group_sizes['sample_size'] = np.floor(group_sizes['proportion'] * target_sample_size).astype(int)\n",
    "group_sizes"
   ]
  },
  {
   "cell_type": "code",
   "execution_count": 113,
   "id": "2f55ef03",
   "metadata": {},
   "outputs": [],
   "source": [
    "# Step 5: Merge this sample size information back to the original DataFrame\n",
    "df_2014_08_pos_sample_size = pd.merge(df_2014_08_pos, group_sizes[['year_week', 'LocationName', 'sample_size']], \n",
    "                               on=['year_week', 'LocationName'], how='left')"
   ]
  },
  {
   "cell_type": "code",
   "execution_count": 114,
   "id": "2aa2083a",
   "metadata": {},
   "outputs": [
    {
     "name": "stdout",
     "output_type": "stream",
     "text": [
      "Sampled 1653 rows.\n"
     ]
    }
   ],
   "source": [
    "# Step 6: Perform the stratified sampling\n",
    "#df_2014_08_pos_sample = df_2014_08_pos_sample_size.groupby(['year_week', 'LocationName']).apply(\n",
    " #   lambda group: group.sample(n=group['sample_size'].iloc[0], random_state=42)\n",
    "#).reset_index(drop=True)\n",
    "df_2014_08_pos_sample = df_2014_08_pos\n",
    "# Step 7: Check the result\n",
    "print(f\"Sampled {len(df_2014_08_pos_sample)} rows.\")\n"
   ]
  },
  {
   "cell_type": "code",
   "execution_count": 115,
   "id": "3eb70c20",
   "metadata": {},
   "outputs": [],
   "source": [
    "text_gpt_2014_08_pos = '\\n'.join(df_2014_08_pos_sample['text'].astype(str))"
   ]
  },
  {
   "cell_type": "markdown",
   "id": "20c12a08",
   "metadata": {},
   "source": [
    "### Prompts and loops"
   ]
  },
  {
   "cell_type": "code",
   "execution_count": 116,
   "id": "6cbedf14",
   "metadata": {},
   "outputs": [],
   "source": [
    "prompt_8 = prompt_raw.replace('TWEETS', text_gpt_2014_08_pos)"
   ]
  },
  {
   "cell_type": "code",
   "execution_count": 117,
   "id": "6312a680",
   "metadata": {
    "scrolled": false
   },
   "outputs": [],
   "source": [
    "response = openai.ChatCompletion.create(\n",
    "    model=\"gpt-4o-mini\",  \n",
    "    messages = [\n",
    "        {\"role\": \"user\", \"content\": prompt_8}\n",
    "    ],\n",
    "    max_tokens=400,  # Maximum number of tokens in the response\n",
    "    temperature=0.7  # Controls the randomness of the output\n",
    ")"
   ]
  },
  {
   "cell_type": "code",
   "execution_count": 118,
   "id": "1af4a697",
   "metadata": {},
   "outputs": [
    {
     "data": {
      "text/plain": [
       "'The text covers various announcements regarding vaccines for different diseases, including dengue, rabies, HPV, hepatitis A, and Ebola. It highlights the introduction of new vaccines, the start of vaccination campaigns in multiple states, and the importance of vaccinating children and pets. Additionally, it discusses ongoing vaccine trials for Ebola and chikungunya, emphasizing public health initiatives and the necessity of vaccinations to prevent disease spread.'"
      ]
     },
     "execution_count": 118,
     "metadata": {},
     "output_type": "execute_result"
    }
   ],
   "source": [
    "response.choices[0].message.content"
   ]
  },
  {
   "cell_type": "code",
   "execution_count": 119,
   "id": "c2df0aba",
   "metadata": {},
   "outputs": [],
   "source": [
    "#summary = []\n",
    "#dataset = []"
   ]
  },
  {
   "cell_type": "code",
   "execution_count": 120,
   "id": "9714a127",
   "metadata": {},
   "outputs": [],
   "source": [
    "dataset.append(\"2014_08_positive\")"
   ]
  },
  {
   "cell_type": "code",
   "execution_count": 121,
   "id": "7118fbc6",
   "metadata": {},
   "outputs": [],
   "source": [
    "summary.append(response.choices[0].message.content)"
   ]
  },
  {
   "cell_type": "code",
   "execution_count": 122,
   "id": "626416cc",
   "metadata": {
    "tags": []
   },
   "outputs": [
    {
     "name": "stdout",
     "output_type": "stream",
     "text": [
      "<class 'pandas.core.frame.DataFrame'>\n",
      "RangeIndex: 8 entries, 0 to 7\n",
      "Data columns (total 2 columns):\n",
      " #   Column   Non-Null Count  Dtype \n",
      "---  ------   --------------  ----- \n",
      " 0   dataset  8 non-null      object\n",
      " 1   summary  8 non-null      object\n",
      "dtypes: object(2)\n",
      "memory usage: 256.0+ bytes\n"
     ]
    }
   ],
   "source": [
    "df_2014_pos = pd.DataFrame(list(zip(dataset, summary)),\n",
    "                            columns = ['dataset', 'summary'])\n",
    "df_2014_pos.info()"
   ]
  },
  {
   "cell_type": "code",
   "execution_count": 123,
   "id": "c9811a57",
   "metadata": {},
   "outputs": [
    {
     "data": {
      "text/html": [
       "<div>\n",
       "<style scoped>\n",
       "    .dataframe tbody tr th:only-of-type {\n",
       "        vertical-align: middle;\n",
       "    }\n",
       "\n",
       "    .dataframe tbody tr th {\n",
       "        vertical-align: top;\n",
       "    }\n",
       "\n",
       "    .dataframe thead th {\n",
       "        text-align: right;\n",
       "    }\n",
       "</style>\n",
       "<table border=\"1\" class=\"dataframe\">\n",
       "  <thead>\n",
       "    <tr style=\"text-align: right;\">\n",
       "      <th></th>\n",
       "      <th>dataset</th>\n",
       "      <th>summary</th>\n",
       "    </tr>\n",
       "  </thead>\n",
       "  <tbody>\n",
       "    <tr>\n",
       "      <th>0</th>\n",
       "      <td>2014_01_positive</td>\n",
       "      <td>The provided texts discuss the introduction of...</td>\n",
       "    </tr>\n",
       "    <tr>\n",
       "      <th>1</th>\n",
       "      <td>2014_02_positive</td>\n",
       "      <td>The texts discuss various vaccination campaign...</td>\n",
       "    </tr>\n",
       "    <tr>\n",
       "      <th>2</th>\n",
       "      <td>2014_03_positive</td>\n",
       "      <td>The text discusses the upcoming nationwide vac...</td>\n",
       "    </tr>\n",
       "    <tr>\n",
       "      <th>3</th>\n",
       "      <td>2014_04_positive</td>\n",
       "      <td>The sentences discuss vaccination campaigns in...</td>\n",
       "    </tr>\n",
       "    <tr>\n",
       "      <th>4</th>\n",
       "      <td>2014_05_positive</td>\n",
       "      <td>The text discusses various vaccination campaig...</td>\n",
       "    </tr>\n",
       "    <tr>\n",
       "      <th>5</th>\n",
       "      <td>2014_06_positive</td>\n",
       "      <td>The text discusses various vaccination campaig...</td>\n",
       "    </tr>\n",
       "    <tr>\n",
       "      <th>6</th>\n",
       "      <td>2014_07_positive</td>\n",
       "      <td>The text discusses various vaccination campaig...</td>\n",
       "    </tr>\n",
       "    <tr>\n",
       "      <th>7</th>\n",
       "      <td>2014_08_positive</td>\n",
       "      <td>The text covers various announcements regardin...</td>\n",
       "    </tr>\n",
       "  </tbody>\n",
       "</table>\n",
       "</div>"
      ],
      "text/plain": [
       "            dataset                                            summary\n",
       "0  2014_01_positive  The provided texts discuss the introduction of...\n",
       "1  2014_02_positive  The texts discuss various vaccination campaign...\n",
       "2  2014_03_positive  The text discusses the upcoming nationwide vac...\n",
       "3  2014_04_positive  The sentences discuss vaccination campaigns in...\n",
       "4  2014_05_positive  The text discusses various vaccination campaig...\n",
       "5  2014_06_positive  The text discusses various vaccination campaig...\n",
       "6  2014_07_positive  The text discusses various vaccination campaig...\n",
       "7  2014_08_positive  The text covers various announcements regardin..."
      ]
     },
     "execution_count": 123,
     "metadata": {},
     "output_type": "execute_result"
    }
   ],
   "source": [
    "df_2014_pos.tail(14)"
   ]
  },
  {
   "cell_type": "code",
   "execution_count": 124,
   "id": "cd10153f",
   "metadata": {},
   "outputs": [
    {
     "data": {
      "text/plain": [
       "<OpenAIObject chat.completion id=chatcmpl-AUdJZSkGYp4aZXIIio9xnPxHvP2tn at 0x1d35f66f810> JSON: {\n",
       "  \"choices\": [\n",
       "    {\n",
       "      \"finish_reason\": \"stop\",\n",
       "      \"index\": 0,\n",
       "      \"logprobs\": null,\n",
       "      \"message\": {\n",
       "        \"content\": \"The text covers various announcements regarding vaccines for different diseases, including dengue, rabies, HPV, hepatitis A, and Ebola. It highlights the introduction of new vaccines, the start of vaccination campaigns in multiple states, and the importance of vaccinating children and pets. Additionally, it discusses ongoing vaccine trials for Ebola and chikungunya, emphasizing public health initiatives and the necessity of vaccinations to prevent disease spread.\",\n",
       "        \"refusal\": null,\n",
       "        \"role\": \"assistant\"\n",
       "      }\n",
       "    }\n",
       "  ],\n",
       "  \"created\": 1731864329,\n",
       "  \"id\": \"chatcmpl-AUdJZSkGYp4aZXIIio9xnPxHvP2tn\",\n",
       "  \"model\": \"gpt-4o-mini-2024-07-18\",\n",
       "  \"object\": \"chat.completion\",\n",
       "  \"system_fingerprint\": \"fp_9b78b61c52\",\n",
       "  \"usage\": {\n",
       "    \"completion_tokens\": 80,\n",
       "    \"completion_tokens_details\": {\n",
       "      \"accepted_prediction_tokens\": 0,\n",
       "      \"audio_tokens\": 0,\n",
       "      \"reasoning_tokens\": 0,\n",
       "      \"rejected_prediction_tokens\": 0\n",
       "    },\n",
       "    \"prompt_tokens\": 39373,\n",
       "    \"prompt_tokens_details\": {\n",
       "      \"audio_tokens\": 0,\n",
       "      \"cached_tokens\": 0\n",
       "    },\n",
       "    \"total_tokens\": 39453\n",
       "  }\n",
       "}"
      ]
     },
     "execution_count": 124,
     "metadata": {},
     "output_type": "execute_result"
    }
   ],
   "source": [
    "response"
   ]
  },
  {
   "cell_type": "markdown",
   "id": "1a0c859d",
   "metadata": {},
   "source": [
    "## September"
   ]
  },
  {
   "cell_type": "code",
   "execution_count": 125,
   "id": "46970275",
   "metadata": {
    "scrolled": true,
    "tags": []
   },
   "outputs": [
    {
     "name": "stdout",
     "output_type": "stream",
     "text": [
      "<class 'pandas.core.frame.DataFrame'>\n",
      "RangeIndex: 2535 entries, 0 to 2534\n",
      "Data columns (total 53 columns):\n",
      " #   Column                  Non-Null Count  Dtype  \n",
      "---  ------                  --------------  -----  \n",
      " 0   index                   2535 non-null   int64  \n",
      " 1   LocationCode            2535 non-null   object \n",
      " 2   LocationName            2535 non-null   object \n",
      " 3   StatesCode              2535 non-null   object \n",
      " 4   ...4                    2535 non-null   int64  \n",
      " 5   id                      2535 non-null   float64\n",
      " 6   text                    2535 non-null   object \n",
      " 7   label                   2535 non-null   object \n",
      " 8   in_reply_to_status_id   140 non-null    float64\n",
      " 9   in_reply_to_user_id     158 non-null    float64\n",
      " 10  quoted_user_id          0 non-null      float64\n",
      " 11  quoted_status_id        0 non-null      float64\n",
      " 12  retweeted_user_id       571 non-null    float64\n",
      " 13  retweeted_status_id     571 non-null    float64\n",
      " 14  created_at              2535 non-null   object \n",
      " 15  entities.user_mentions  860 non-null    object \n",
      " 16  user.id                 2535 non-null   int64  \n",
      " 17  user.screen_name        2535 non-null   object \n",
      " 18  user.name               2535 non-null   object \n",
      " 19  user.description        2138 non-null   object \n",
      " 20  user.timezone           0 non-null      float64\n",
      " 21  user.location           2528 non-null   object \n",
      " 22  user.num_followers      2535 non-null   int64  \n",
      " 23  user.num_following      2535 non-null   int64  \n",
      " 24  user.created_at         2535 non-null   object \n",
      " 25  user.statuses_count     2535 non-null   int64  \n",
      " 26  user.is_verified        2535 non-null   bool   \n",
      " 27  lang                    2535 non-null   object \n",
      " 28  token_count             2535 non-null   int64  \n",
      " 29  is_retweet              2535 non-null   bool   \n",
      " 30  has_quote               2535 non-null   bool   \n",
      " 31  is_reply                2535 non-null   bool   \n",
      " 32  contains_keywords       2535 non-null   bool   \n",
      " 33  longitude               2535 non-null   float64\n",
      " 34  latitude                2535 non-null   float64\n",
      " 35  country_code            2535 non-null   object \n",
      " 36  geoname_id              2505 non-null   float64\n",
      " 37  location_type           2535 non-null   object \n",
      " 38  geo_type                2535 non-null   int64  \n",
      " 39  region                  2535 non-null   object \n",
      " 40  subregion               2535 non-null   object \n",
      " 41  num_quotes              2535 non-null   int64  \n",
      " 42  num_replies             2535 non-null   int64  \n",
      " 43  num_retweets            2535 non-null   int64  \n",
      " 44  sent_gpt                2535 non-null   object \n",
      " 45  gpt_sent_presence       2535 non-null   int64  \n",
      " 46  cleaned_text_lem        2535 non-null   object \n",
      " 47  cleaned_text            2535 non-null   object \n",
      " 48  month                   2535 non-null   int64  \n",
      " 49  year                    2535 non-null   int64  \n",
      " 50  week                    2535 non-null   int64  \n",
      " 51  year_month              2535 non-null   object \n",
      " 52  year_week               2535 non-null   object \n",
      "dtypes: bool(5), float64(11), int64(15), object(22)\n",
      "memory usage: 963.1+ KB\n"
     ]
    }
   ],
   "source": [
    "# Get monthly data\n",
    "df_2014_09_pos = pd.read_csv('../data/local/df_pos_2014-09.csv').reset_index()\n",
    "df_2014_09_pos.info()"
   ]
  },
  {
   "cell_type": "markdown",
   "id": "6d6d95b1",
   "metadata": {},
   "source": [
    "### Representative sample based on week and location"
   ]
  },
  {
   "cell_type": "code",
   "execution_count": 126,
   "id": "1c64358d",
   "metadata": {},
   "outputs": [
    {
     "data": {
      "text/html": [
       "<div>\n",
       "<style scoped>\n",
       "    .dataframe tbody tr th:only-of-type {\n",
       "        vertical-align: middle;\n",
       "    }\n",
       "\n",
       "    .dataframe tbody tr th {\n",
       "        vertical-align: top;\n",
       "    }\n",
       "\n",
       "    .dataframe thead th {\n",
       "        text-align: right;\n",
       "    }\n",
       "</style>\n",
       "<table border=\"1\" class=\"dataframe\">\n",
       "  <thead>\n",
       "    <tr style=\"text-align: right;\">\n",
       "      <th></th>\n",
       "      <th>year_week</th>\n",
       "      <th>LocationName</th>\n",
       "      <th>group_size</th>\n",
       "      <th>proportion</th>\n",
       "    </tr>\n",
       "  </thead>\n",
       "  <tbody>\n",
       "    <tr>\n",
       "      <th>0</th>\n",
       "      <td>2014-w35</td>\n",
       "      <td>Acre</td>\n",
       "      <td>2</td>\n",
       "      <td>0.000789</td>\n",
       "    </tr>\n",
       "    <tr>\n",
       "      <th>1</th>\n",
       "      <td>2014-w35</td>\n",
       "      <td>Alagoas</td>\n",
       "      <td>5</td>\n",
       "      <td>0.001972</td>\n",
       "    </tr>\n",
       "    <tr>\n",
       "      <th>2</th>\n",
       "      <td>2014-w35</td>\n",
       "      <td>Amapa</td>\n",
       "      <td>2</td>\n",
       "      <td>0.000789</td>\n",
       "    </tr>\n",
       "    <tr>\n",
       "      <th>3</th>\n",
       "      <td>2014-w35</td>\n",
       "      <td>Amazonas</td>\n",
       "      <td>10</td>\n",
       "      <td>0.003945</td>\n",
       "    </tr>\n",
       "    <tr>\n",
       "      <th>4</th>\n",
       "      <td>2014-w35</td>\n",
       "      <td>Bahia</td>\n",
       "      <td>29</td>\n",
       "      <td>0.011440</td>\n",
       "    </tr>\n",
       "    <tr>\n",
       "      <th>...</th>\n",
       "      <td>...</td>\n",
       "      <td>...</td>\n",
       "      <td>...</td>\n",
       "      <td>...</td>\n",
       "    </tr>\n",
       "    <tr>\n",
       "      <th>110</th>\n",
       "      <td>2014-w39</td>\n",
       "      <td>Rio Grande Do Sul</td>\n",
       "      <td>27</td>\n",
       "      <td>0.010651</td>\n",
       "    </tr>\n",
       "    <tr>\n",
       "      <th>111</th>\n",
       "      <td>2014-w39</td>\n",
       "      <td>Roraima</td>\n",
       "      <td>5</td>\n",
       "      <td>0.001972</td>\n",
       "    </tr>\n",
       "    <tr>\n",
       "      <th>112</th>\n",
       "      <td>2014-w39</td>\n",
       "      <td>Santa Catarina</td>\n",
       "      <td>8</td>\n",
       "      <td>0.003156</td>\n",
       "    </tr>\n",
       "    <tr>\n",
       "      <th>113</th>\n",
       "      <td>2014-w39</td>\n",
       "      <td>Sao Paulo</td>\n",
       "      <td>45</td>\n",
       "      <td>0.017751</td>\n",
       "    </tr>\n",
       "    <tr>\n",
       "      <th>114</th>\n",
       "      <td>2014-w39</td>\n",
       "      <td>Sergipe</td>\n",
       "      <td>15</td>\n",
       "      <td>0.005917</td>\n",
       "    </tr>\n",
       "  </tbody>\n",
       "</table>\n",
       "<p>115 rows × 4 columns</p>\n",
       "</div>"
      ],
      "text/plain": [
       "    year_week       LocationName  group_size  proportion\n",
       "0    2014-w35               Acre           2    0.000789\n",
       "1    2014-w35            Alagoas           5    0.001972\n",
       "2    2014-w35              Amapa           2    0.000789\n",
       "3    2014-w35           Amazonas          10    0.003945\n",
       "4    2014-w35              Bahia          29    0.011440\n",
       "..        ...                ...         ...         ...\n",
       "110  2014-w39  Rio Grande Do Sul          27    0.010651\n",
       "111  2014-w39            Roraima           5    0.001972\n",
       "112  2014-w39     Santa Catarina           8    0.003156\n",
       "113  2014-w39          Sao Paulo          45    0.017751\n",
       "114  2014-w39            Sergipe          15    0.005917\n",
       "\n",
       "[115 rows x 4 columns]"
      ]
     },
     "execution_count": 126,
     "metadata": {},
     "output_type": "execute_result"
    }
   ],
   "source": [
    "# Step 1: Calculate the size of each group (year_week, LocationName)\n",
    "group_sizes = df_2014_09_pos.groupby(['year_week', 'LocationName']).size().reset_index(name='group_size')\n",
    "\n",
    "# Step 2: Calculate the proportion of each group in the dataset\n",
    "total_rows = len(df_2014_09_pos)\n",
    "group_sizes['proportion'] = group_sizes['group_size'] / total_rows\n",
    "group_sizes"
   ]
  },
  {
   "cell_type": "code",
   "execution_count": 127,
   "id": "0f70bf42",
   "metadata": {},
   "outputs": [],
   "source": [
    "# Step 3: Define the target sample size\n",
    "#target_sample_size = 2450\n",
    "\n",
    "# Step 4: Calculate the sample size for each group (based on its proportion)\n",
    "#group_sizes['sample_size'] = np.floor(group_sizes['proportion'] * target_sample_size).astype(int)\n",
    "#group_sizes\n",
    "# Taking all tweets since there were not enough for sampling"
   ]
  },
  {
   "cell_type": "code",
   "execution_count": 128,
   "id": "1fbb0b3e",
   "metadata": {},
   "outputs": [],
   "source": [
    "# Step 5: Merge this sample size information back to the original DataFrame\n",
    "#df_2014_09_pos_sample_size = pd.merge(df_2014_09_pos, group_sizes[['year_week', 'LocationName', 'sample_size']], \n",
    " #                              on=['year_week', 'LocationName'], how='left')"
   ]
  },
  {
   "cell_type": "code",
   "execution_count": 129,
   "id": "e62cb3ac",
   "metadata": {},
   "outputs": [
    {
     "name": "stdout",
     "output_type": "stream",
     "text": [
      "Sampled 2535 rows.\n"
     ]
    }
   ],
   "source": [
    "# Step 6: Perform the stratified sampling\n",
    "#df_2014_09_pos_sample = df_2014_09_pos_sample_size.groupby(['year_week', 'LocationName']).apply(\n",
    " #   lambda group: group.sample(n=group['sample_size'].iloc[0], random_state=42)\n",
    "#).reset_index(drop=True)\n",
    "df_2014_09_pos_sample = df_2014_09_pos\n",
    "# Step 7: Check the result\n",
    "print(f\"Sampled {len(df_2014_09_pos_sample)} rows.\")\n"
   ]
  },
  {
   "cell_type": "code",
   "execution_count": 130,
   "id": "f94fe9d7",
   "metadata": {},
   "outputs": [],
   "source": [
    "text_gpt_2014_09_pos = '\\n'.join(df_2014_09_pos_sample['text'].astype(str))"
   ]
  },
  {
   "cell_type": "markdown",
   "id": "b7904a7f",
   "metadata": {},
   "source": [
    "### Prompts and loops"
   ]
  },
  {
   "cell_type": "code",
   "execution_count": 131,
   "id": "71bbca85",
   "metadata": {},
   "outputs": [],
   "source": [
    "prompt_9 = prompt_raw.replace('TWEETS', text_gpt_2014_09_pos)"
   ]
  },
  {
   "cell_type": "code",
   "execution_count": 132,
   "id": "b7ae259f",
   "metadata": {
    "scrolled": false
   },
   "outputs": [],
   "source": [
    "response = openai.ChatCompletion.create(\n",
    "    model=\"gpt-4o-mini\",  \n",
    "    messages = [\n",
    "        {\"role\": \"user\", \"content\": prompt_9}\n",
    "    ],\n",
    "    max_tokens=400,  # Maximum number of tokens in the response\n",
    "    temperature=0.7  # Controls the randomness of the output\n",
    ")"
   ]
  },
  {
   "cell_type": "code",
   "execution_count": 133,
   "id": "8653eccf",
   "metadata": {},
   "outputs": [
    {
     "data": {
      "text/plain": [
       "'The texts discuss various vaccination campaigns and their significance, including the availability of HPV vaccines for girls aged 11-13, the effectiveness of the dengue vaccine showing 60.8% efficacy, and the ongoing efforts to develop and test vaccines against Ebola. They emphasize the importance of timely vaccinations for both humans and pets, and the role of vaccines in preventing diseases. Additionally, there are mentions of new vaccines for hepatitis A and meningitis, and the need for public health initiatives to encourage vaccination.'"
      ]
     },
     "execution_count": 133,
     "metadata": {},
     "output_type": "execute_result"
    }
   ],
   "source": [
    "response.choices[0].message.content"
   ]
  },
  {
   "cell_type": "code",
   "execution_count": 134,
   "id": "6be7b347",
   "metadata": {},
   "outputs": [],
   "source": [
    "#summary = []\n",
    "#dataset = []"
   ]
  },
  {
   "cell_type": "code",
   "execution_count": 135,
   "id": "550a921f",
   "metadata": {},
   "outputs": [],
   "source": [
    "dataset.append(\"2014_09_positive\")"
   ]
  },
  {
   "cell_type": "code",
   "execution_count": 136,
   "id": "83240506",
   "metadata": {},
   "outputs": [],
   "source": [
    "summary.append(response.choices[0].message.content)"
   ]
  },
  {
   "cell_type": "code",
   "execution_count": 137,
   "id": "0c75735b",
   "metadata": {
    "tags": []
   },
   "outputs": [
    {
     "name": "stdout",
     "output_type": "stream",
     "text": [
      "<class 'pandas.core.frame.DataFrame'>\n",
      "RangeIndex: 9 entries, 0 to 8\n",
      "Data columns (total 2 columns):\n",
      " #   Column   Non-Null Count  Dtype \n",
      "---  ------   --------------  ----- \n",
      " 0   dataset  9 non-null      object\n",
      " 1   summary  9 non-null      object\n",
      "dtypes: object(2)\n",
      "memory usage: 272.0+ bytes\n"
     ]
    }
   ],
   "source": [
    "df_2014_pos = pd.DataFrame(list(zip(dataset, summary)),\n",
    "                            columns = ['dataset', 'summary'])\n",
    "df_2014_pos.info()"
   ]
  },
  {
   "cell_type": "code",
   "execution_count": 138,
   "id": "fa955f73",
   "metadata": {},
   "outputs": [
    {
     "data": {
      "text/html": [
       "<div>\n",
       "<style scoped>\n",
       "    .dataframe tbody tr th:only-of-type {\n",
       "        vertical-align: middle;\n",
       "    }\n",
       "\n",
       "    .dataframe tbody tr th {\n",
       "        vertical-align: top;\n",
       "    }\n",
       "\n",
       "    .dataframe thead th {\n",
       "        text-align: right;\n",
       "    }\n",
       "</style>\n",
       "<table border=\"1\" class=\"dataframe\">\n",
       "  <thead>\n",
       "    <tr style=\"text-align: right;\">\n",
       "      <th></th>\n",
       "      <th>dataset</th>\n",
       "      <th>summary</th>\n",
       "    </tr>\n",
       "  </thead>\n",
       "  <tbody>\n",
       "    <tr>\n",
       "      <th>0</th>\n",
       "      <td>2014_01_positive</td>\n",
       "      <td>The provided texts discuss the introduction of...</td>\n",
       "    </tr>\n",
       "    <tr>\n",
       "      <th>1</th>\n",
       "      <td>2014_02_positive</td>\n",
       "      <td>The texts discuss various vaccination campaign...</td>\n",
       "    </tr>\n",
       "    <tr>\n",
       "      <th>2</th>\n",
       "      <td>2014_03_positive</td>\n",
       "      <td>The text discusses the upcoming nationwide vac...</td>\n",
       "    </tr>\n",
       "    <tr>\n",
       "      <th>3</th>\n",
       "      <td>2014_04_positive</td>\n",
       "      <td>The sentences discuss vaccination campaigns in...</td>\n",
       "    </tr>\n",
       "    <tr>\n",
       "      <th>4</th>\n",
       "      <td>2014_05_positive</td>\n",
       "      <td>The text discusses various vaccination campaig...</td>\n",
       "    </tr>\n",
       "    <tr>\n",
       "      <th>5</th>\n",
       "      <td>2014_06_positive</td>\n",
       "      <td>The text discusses various vaccination campaig...</td>\n",
       "    </tr>\n",
       "    <tr>\n",
       "      <th>6</th>\n",
       "      <td>2014_07_positive</td>\n",
       "      <td>The text discusses various vaccination campaig...</td>\n",
       "    </tr>\n",
       "    <tr>\n",
       "      <th>7</th>\n",
       "      <td>2014_08_positive</td>\n",
       "      <td>The text covers various announcements regardin...</td>\n",
       "    </tr>\n",
       "    <tr>\n",
       "      <th>8</th>\n",
       "      <td>2014_09_positive</td>\n",
       "      <td>The texts discuss various vaccination campaign...</td>\n",
       "    </tr>\n",
       "  </tbody>\n",
       "</table>\n",
       "</div>"
      ],
      "text/plain": [
       "            dataset                                            summary\n",
       "0  2014_01_positive  The provided texts discuss the introduction of...\n",
       "1  2014_02_positive  The texts discuss various vaccination campaign...\n",
       "2  2014_03_positive  The text discusses the upcoming nationwide vac...\n",
       "3  2014_04_positive  The sentences discuss vaccination campaigns in...\n",
       "4  2014_05_positive  The text discusses various vaccination campaig...\n",
       "5  2014_06_positive  The text discusses various vaccination campaig...\n",
       "6  2014_07_positive  The text discusses various vaccination campaig...\n",
       "7  2014_08_positive  The text covers various announcements regardin...\n",
       "8  2014_09_positive  The texts discuss various vaccination campaign..."
      ]
     },
     "execution_count": 138,
     "metadata": {},
     "output_type": "execute_result"
    }
   ],
   "source": [
    "df_2014_pos.tail(14)"
   ]
  },
  {
   "cell_type": "code",
   "execution_count": 139,
   "id": "4c204870",
   "metadata": {},
   "outputs": [
    {
     "data": {
      "text/plain": [
       "<OpenAIObject chat.completion id=chatcmpl-AUdJgmSkXBE4agGmF0QiXsIFxzK1I at 0x1d35f828860> JSON: {\n",
       "  \"choices\": [\n",
       "    {\n",
       "      \"finish_reason\": \"stop\",\n",
       "      \"index\": 0,\n",
       "      \"logprobs\": null,\n",
       "      \"message\": {\n",
       "        \"content\": \"The texts discuss various vaccination campaigns and their significance, including the availability of HPV vaccines for girls aged 11-13, the effectiveness of the dengue vaccine showing 60.8% efficacy, and the ongoing efforts to develop and test vaccines against Ebola. They emphasize the importance of timely vaccinations for both humans and pets, and the role of vaccines in preventing diseases. Additionally, there are mentions of new vaccines for hepatitis A and meningitis, and the need for public health initiatives to encourage vaccination.\",\n",
       "        \"refusal\": null,\n",
       "        \"role\": \"assistant\"\n",
       "      }\n",
       "    }\n",
       "  ],\n",
       "  \"created\": 1731864336,\n",
       "  \"id\": \"chatcmpl-AUdJgmSkXBE4agGmF0QiXsIFxzK1I\",\n",
       "  \"model\": \"gpt-4o-mini-2024-07-18\",\n",
       "  \"object\": \"chat.completion\",\n",
       "  \"system_fingerprint\": \"fp_0ba0d124f1\",\n",
       "  \"usage\": {\n",
       "    \"completion_tokens\": 98,\n",
       "    \"completion_tokens_details\": {\n",
       "      \"accepted_prediction_tokens\": 0,\n",
       "      \"audio_tokens\": 0,\n",
       "      \"reasoning_tokens\": 0,\n",
       "      \"rejected_prediction_tokens\": 0\n",
       "    },\n",
       "    \"prompt_tokens\": 59224,\n",
       "    \"prompt_tokens_details\": {\n",
       "      \"audio_tokens\": 0,\n",
       "      \"cached_tokens\": 0\n",
       "    },\n",
       "    \"total_tokens\": 59322\n",
       "  }\n",
       "}"
      ]
     },
     "execution_count": 139,
     "metadata": {},
     "output_type": "execute_result"
    }
   ],
   "source": [
    "response"
   ]
  },
  {
   "cell_type": "markdown",
   "id": "43f969b1",
   "metadata": {},
   "source": [
    "## October"
   ]
  },
  {
   "cell_type": "code",
   "execution_count": 140,
   "id": "28cedc2b",
   "metadata": {
    "scrolled": true,
    "tags": []
   },
   "outputs": [
    {
     "name": "stdout",
     "output_type": "stream",
     "text": [
      "<class 'pandas.core.frame.DataFrame'>\n",
      "RangeIndex: 2330 entries, 0 to 2329\n",
      "Data columns (total 53 columns):\n",
      " #   Column                  Non-Null Count  Dtype  \n",
      "---  ------                  --------------  -----  \n",
      " 0   index                   2330 non-null   int64  \n",
      " 1   LocationCode            2330 non-null   object \n",
      " 2   LocationName            2330 non-null   object \n",
      " 3   StatesCode              2330 non-null   object \n",
      " 4   ...4                    2330 non-null   int64  \n",
      " 5   id                      2330 non-null   float64\n",
      " 6   text                    2330 non-null   object \n",
      " 7   label                   2330 non-null   object \n",
      " 8   in_reply_to_status_id   141 non-null    float64\n",
      " 9   in_reply_to_user_id     164 non-null    float64\n",
      " 10  quoted_user_id          0 non-null      float64\n",
      " 11  quoted_status_id        0 non-null      float64\n",
      " 12  retweeted_user_id       840 non-null    float64\n",
      " 13  retweeted_status_id     840 non-null    float64\n",
      " 14  created_at              2330 non-null   object \n",
      " 15  entities.user_mentions  1129 non-null   object \n",
      " 16  user.id                 2330 non-null   int64  \n",
      " 17  user.screen_name        2330 non-null   object \n",
      " 18  user.name               2329 non-null   object \n",
      " 19  user.description        2056 non-null   object \n",
      " 20  user.timezone           0 non-null      float64\n",
      " 21  user.location           2312 non-null   object \n",
      " 22  user.num_followers      2330 non-null   int64  \n",
      " 23  user.num_following      2330 non-null   int64  \n",
      " 24  user.created_at         2330 non-null   object \n",
      " 25  user.statuses_count     2330 non-null   int64  \n",
      " 26  user.is_verified        2330 non-null   bool   \n",
      " 27  lang                    2330 non-null   object \n",
      " 28  token_count             2330 non-null   int64  \n",
      " 29  is_retweet              2330 non-null   bool   \n",
      " 30  has_quote               2330 non-null   bool   \n",
      " 31  is_reply                2330 non-null   bool   \n",
      " 32  contains_keywords       2330 non-null   bool   \n",
      " 33  longitude               2330 non-null   float64\n",
      " 34  latitude                2330 non-null   float64\n",
      " 35  country_code            2330 non-null   object \n",
      " 36  geoname_id              2255 non-null   float64\n",
      " 37  location_type           2330 non-null   object \n",
      " 38  geo_type                2330 non-null   int64  \n",
      " 39  region                  2330 non-null   object \n",
      " 40  subregion               2330 non-null   object \n",
      " 41  num_quotes              2330 non-null   int64  \n",
      " 42  num_replies             2330 non-null   int64  \n",
      " 43  num_retweets            2330 non-null   int64  \n",
      " 44  sent_gpt                2330 non-null   object \n",
      " 45  gpt_sent_presence       2330 non-null   int64  \n",
      " 46  cleaned_text_lem        2330 non-null   object \n",
      " 47  cleaned_text            2330 non-null   object \n",
      " 48  month                   2330 non-null   int64  \n",
      " 49  year                    2330 non-null   int64  \n",
      " 50  week                    2330 non-null   int64  \n",
      " 51  year_month              2330 non-null   object \n",
      " 52  year_week               2330 non-null   object \n",
      "dtypes: bool(5), float64(11), int64(15), object(22)\n",
      "memory usage: 885.3+ KB\n"
     ]
    }
   ],
   "source": [
    "# Get monthly data\n",
    "df_2014_10_pos = pd.read_csv('../data/local/df_pos_2014-10.csv').reset_index()\n",
    "df_2014_10_pos.info()"
   ]
  },
  {
   "cell_type": "markdown",
   "id": "616f674a",
   "metadata": {},
   "source": [
    "### Representative sample based on week and location"
   ]
  },
  {
   "cell_type": "code",
   "execution_count": 141,
   "id": "9cb193cd",
   "metadata": {},
   "outputs": [
    {
     "data": {
      "text/html": [
       "<div>\n",
       "<style scoped>\n",
       "    .dataframe tbody tr th:only-of-type {\n",
       "        vertical-align: middle;\n",
       "    }\n",
       "\n",
       "    .dataframe tbody tr th {\n",
       "        vertical-align: top;\n",
       "    }\n",
       "\n",
       "    .dataframe thead th {\n",
       "        text-align: right;\n",
       "    }\n",
       "</style>\n",
       "<table border=\"1\" class=\"dataframe\">\n",
       "  <thead>\n",
       "    <tr style=\"text-align: right;\">\n",
       "      <th></th>\n",
       "      <th>year_week</th>\n",
       "      <th>LocationName</th>\n",
       "      <th>group_size</th>\n",
       "      <th>proportion</th>\n",
       "    </tr>\n",
       "  </thead>\n",
       "  <tbody>\n",
       "    <tr>\n",
       "      <th>0</th>\n",
       "      <td>2014-w40</td>\n",
       "      <td>Alagoas</td>\n",
       "      <td>2</td>\n",
       "      <td>0.000858</td>\n",
       "    </tr>\n",
       "    <tr>\n",
       "      <th>1</th>\n",
       "      <td>2014-w40</td>\n",
       "      <td>Amapa</td>\n",
       "      <td>2</td>\n",
       "      <td>0.000858</td>\n",
       "    </tr>\n",
       "    <tr>\n",
       "      <th>2</th>\n",
       "      <td>2014-w40</td>\n",
       "      <td>Amazonas</td>\n",
       "      <td>5</td>\n",
       "      <td>0.002146</td>\n",
       "    </tr>\n",
       "    <tr>\n",
       "      <th>3</th>\n",
       "      <td>2014-w40</td>\n",
       "      <td>Bahia</td>\n",
       "      <td>11</td>\n",
       "      <td>0.004721</td>\n",
       "    </tr>\n",
       "    <tr>\n",
       "      <th>4</th>\n",
       "      <td>2014-w40</td>\n",
       "      <td>Ceara</td>\n",
       "      <td>7</td>\n",
       "      <td>0.003004</td>\n",
       "    </tr>\n",
       "    <tr>\n",
       "      <th>...</th>\n",
       "      <td>...</td>\n",
       "      <td>...</td>\n",
       "      <td>...</td>\n",
       "      <td>...</td>\n",
       "    </tr>\n",
       "    <tr>\n",
       "      <th>101</th>\n",
       "      <td>2014-w44</td>\n",
       "      <td>Rondonia</td>\n",
       "      <td>2</td>\n",
       "      <td>0.000858</td>\n",
       "    </tr>\n",
       "    <tr>\n",
       "      <th>102</th>\n",
       "      <td>2014-w44</td>\n",
       "      <td>Santa Catarina</td>\n",
       "      <td>5</td>\n",
       "      <td>0.002146</td>\n",
       "    </tr>\n",
       "    <tr>\n",
       "      <th>103</th>\n",
       "      <td>2014-w44</td>\n",
       "      <td>Sao Paulo</td>\n",
       "      <td>54</td>\n",
       "      <td>0.023176</td>\n",
       "    </tr>\n",
       "    <tr>\n",
       "      <th>104</th>\n",
       "      <td>2014-w44</td>\n",
       "      <td>Sergipe</td>\n",
       "      <td>1</td>\n",
       "      <td>0.000429</td>\n",
       "    </tr>\n",
       "    <tr>\n",
       "      <th>105</th>\n",
       "      <td>2014-w44</td>\n",
       "      <td>Tocantins</td>\n",
       "      <td>1</td>\n",
       "      <td>0.000429</td>\n",
       "    </tr>\n",
       "  </tbody>\n",
       "</table>\n",
       "<p>106 rows × 4 columns</p>\n",
       "</div>"
      ],
      "text/plain": [
       "    year_week    LocationName  group_size  proportion\n",
       "0    2014-w40         Alagoas           2    0.000858\n",
       "1    2014-w40           Amapa           2    0.000858\n",
       "2    2014-w40        Amazonas           5    0.002146\n",
       "3    2014-w40           Bahia          11    0.004721\n",
       "4    2014-w40           Ceara           7    0.003004\n",
       "..        ...             ...         ...         ...\n",
       "101  2014-w44        Rondonia           2    0.000858\n",
       "102  2014-w44  Santa Catarina           5    0.002146\n",
       "103  2014-w44       Sao Paulo          54    0.023176\n",
       "104  2014-w44         Sergipe           1    0.000429\n",
       "105  2014-w44       Tocantins           1    0.000429\n",
       "\n",
       "[106 rows x 4 columns]"
      ]
     },
     "execution_count": 141,
     "metadata": {},
     "output_type": "execute_result"
    }
   ],
   "source": [
    "# Step 1: Calculate the size of each group (year_week, LocationName)\n",
    "group_sizes = df_2014_10_pos.groupby(['year_week', 'LocationName']).size().reset_index(name='group_size')\n",
    "\n",
    "# Step 2: Calculate the proportion of each group in the dataset\n",
    "total_rows = len(df_2014_10_pos)\n",
    "group_sizes['proportion'] = group_sizes['group_size'] / total_rows\n",
    "group_sizes"
   ]
  },
  {
   "cell_type": "code",
   "execution_count": 142,
   "id": "610efcf6",
   "metadata": {},
   "outputs": [
    {
     "data": {
      "text/html": [
       "<div>\n",
       "<style scoped>\n",
       "    .dataframe tbody tr th:only-of-type {\n",
       "        vertical-align: middle;\n",
       "    }\n",
       "\n",
       "    .dataframe tbody tr th {\n",
       "        vertical-align: top;\n",
       "    }\n",
       "\n",
       "    .dataframe thead th {\n",
       "        text-align: right;\n",
       "    }\n",
       "</style>\n",
       "<table border=\"1\" class=\"dataframe\">\n",
       "  <thead>\n",
       "    <tr style=\"text-align: right;\">\n",
       "      <th></th>\n",
       "      <th>year_week</th>\n",
       "      <th>LocationName</th>\n",
       "      <th>group_size</th>\n",
       "      <th>proportion</th>\n",
       "      <th>sample_size</th>\n",
       "    </tr>\n",
       "  </thead>\n",
       "  <tbody>\n",
       "    <tr>\n",
       "      <th>0</th>\n",
       "      <td>2014-w40</td>\n",
       "      <td>Alagoas</td>\n",
       "      <td>2</td>\n",
       "      <td>0.000858</td>\n",
       "      <td>2</td>\n",
       "    </tr>\n",
       "    <tr>\n",
       "      <th>1</th>\n",
       "      <td>2014-w40</td>\n",
       "      <td>Amapa</td>\n",
       "      <td>2</td>\n",
       "      <td>0.000858</td>\n",
       "      <td>2</td>\n",
       "    </tr>\n",
       "    <tr>\n",
       "      <th>2</th>\n",
       "      <td>2014-w40</td>\n",
       "      <td>Amazonas</td>\n",
       "      <td>5</td>\n",
       "      <td>0.002146</td>\n",
       "      <td>5</td>\n",
       "    </tr>\n",
       "    <tr>\n",
       "      <th>3</th>\n",
       "      <td>2014-w40</td>\n",
       "      <td>Bahia</td>\n",
       "      <td>11</td>\n",
       "      <td>0.004721</td>\n",
       "      <td>11</td>\n",
       "    </tr>\n",
       "    <tr>\n",
       "      <th>4</th>\n",
       "      <td>2014-w40</td>\n",
       "      <td>Ceara</td>\n",
       "      <td>7</td>\n",
       "      <td>0.003004</td>\n",
       "      <td>7</td>\n",
       "    </tr>\n",
       "    <tr>\n",
       "      <th>...</th>\n",
       "      <td>...</td>\n",
       "      <td>...</td>\n",
       "      <td>...</td>\n",
       "      <td>...</td>\n",
       "      <td>...</td>\n",
       "    </tr>\n",
       "    <tr>\n",
       "      <th>101</th>\n",
       "      <td>2014-w44</td>\n",
       "      <td>Rondonia</td>\n",
       "      <td>2</td>\n",
       "      <td>0.000858</td>\n",
       "      <td>2</td>\n",
       "    </tr>\n",
       "    <tr>\n",
       "      <th>102</th>\n",
       "      <td>2014-w44</td>\n",
       "      <td>Santa Catarina</td>\n",
       "      <td>5</td>\n",
       "      <td>0.002146</td>\n",
       "      <td>5</td>\n",
       "    </tr>\n",
       "    <tr>\n",
       "      <th>103</th>\n",
       "      <td>2014-w44</td>\n",
       "      <td>Sao Paulo</td>\n",
       "      <td>54</td>\n",
       "      <td>0.023176</td>\n",
       "      <td>56</td>\n",
       "    </tr>\n",
       "    <tr>\n",
       "      <th>104</th>\n",
       "      <td>2014-w44</td>\n",
       "      <td>Sergipe</td>\n",
       "      <td>1</td>\n",
       "      <td>0.000429</td>\n",
       "      <td>1</td>\n",
       "    </tr>\n",
       "    <tr>\n",
       "      <th>105</th>\n",
       "      <td>2014-w44</td>\n",
       "      <td>Tocantins</td>\n",
       "      <td>1</td>\n",
       "      <td>0.000429</td>\n",
       "      <td>1</td>\n",
       "    </tr>\n",
       "  </tbody>\n",
       "</table>\n",
       "<p>106 rows × 5 columns</p>\n",
       "</div>"
      ],
      "text/plain": [
       "    year_week    LocationName  group_size  proportion  sample_size\n",
       "0    2014-w40         Alagoas           2    0.000858            2\n",
       "1    2014-w40           Amapa           2    0.000858            2\n",
       "2    2014-w40        Amazonas           5    0.002146            5\n",
       "3    2014-w40           Bahia          11    0.004721           11\n",
       "4    2014-w40           Ceara           7    0.003004            7\n",
       "..        ...             ...         ...         ...          ...\n",
       "101  2014-w44        Rondonia           2    0.000858            2\n",
       "102  2014-w44  Santa Catarina           5    0.002146            5\n",
       "103  2014-w44       Sao Paulo          54    0.023176           56\n",
       "104  2014-w44         Sergipe           1    0.000429            1\n",
       "105  2014-w44       Tocantins           1    0.000429            1\n",
       "\n",
       "[106 rows x 5 columns]"
      ]
     },
     "execution_count": 142,
     "metadata": {},
     "output_type": "execute_result"
    }
   ],
   "source": [
    "# Step 3: Define the target sample size\n",
    "target_sample_size = 2450\n",
    "\n",
    "# Step 4: Calculate the sample size for each group (based on its proportion)\n",
    "group_sizes['sample_size'] = np.floor(group_sizes['proportion'] * target_sample_size).astype(int)\n",
    "group_sizes"
   ]
  },
  {
   "cell_type": "code",
   "execution_count": 143,
   "id": "361d2734",
   "metadata": {},
   "outputs": [],
   "source": [
    "# Step 5: Merge this sample size information back to the original DataFrame\n",
    "#df_2014_10_pos_sample_size = pd.merge(df_2014_10_pos, group_sizes[['year_week', 'LocationName', 'sample_size']], \n",
    " #                              on=['year_week', 'LocationName'], how='left')\n",
    "# Taking all tweets for not having enough tweets for sampling"
   ]
  },
  {
   "cell_type": "code",
   "execution_count": 144,
   "id": "cd34d6e4",
   "metadata": {},
   "outputs": [
    {
     "name": "stdout",
     "output_type": "stream",
     "text": [
      "Sampled 2330 rows.\n"
     ]
    }
   ],
   "source": [
    "# Step 6: Perform the stratified sampling\n",
    "#df_2014_10_pos_sample = df_2014_10_pos_sample_size.groupby(['year_week', 'LocationName']).apply(\n",
    " #   lambda group: group.sample(n=group['sample_size'].iloc[0], random_state=42)\n",
    "#).reset_index(drop=True)\n",
    "df_2014_10_pos_sample = df_2014_10_pos\n",
    "# Step 7: Check the result\n",
    "print(f\"Sampled {len(df_2014_10_pos_sample)} rows.\")\n"
   ]
  },
  {
   "cell_type": "code",
   "execution_count": 145,
   "id": "853aa7a6",
   "metadata": {},
   "outputs": [],
   "source": [
    "text_gpt_2014_10_pos = '\\n'.join(df_2014_10_pos_sample['text'].astype(str))"
   ]
  },
  {
   "cell_type": "markdown",
   "id": "0e857dd6",
   "metadata": {},
   "source": [
    "### Prompts and loops"
   ]
  },
  {
   "cell_type": "code",
   "execution_count": 146,
   "id": "997a28ad",
   "metadata": {},
   "outputs": [],
   "source": [
    "prompt_10 = prompt_raw.replace('TWEETS', text_gpt_2014_10_pos)"
   ]
  },
  {
   "cell_type": "code",
   "execution_count": 147,
   "id": "0ad6cb21",
   "metadata": {
    "scrolled": false
   },
   "outputs": [],
   "source": [
    "response = openai.ChatCompletion.create(\n",
    "    model=\"gpt-4o-mini\",  \n",
    "    messages = [\n",
    "        {\"role\": \"user\", \"content\": prompt_10}\n",
    "    ],\n",
    "    max_tokens=400,  # Maximum number of tokens in the response\n",
    "    temperature=0.7  # Controls the randomness of the output\n",
    ")"
   ]
  },
  {
   "cell_type": "code",
   "execution_count": 148,
   "id": "f98d14d4",
   "metadata": {},
   "outputs": [
    {
     "data": {
      "text/plain": [
       "'The text discusses various vaccination campaigns and initiatives in Brazil, including vaccinations against polio, measles, HPV, and rabies. It highlights the urgency and importance of these vaccinations, especially in light of potential epidemics like Ebola. It also mentions the testing of an Ebola vaccine in Canada and Switzerland, and emphasizes the role of vaccinations in public health and disease prevention.'"
      ]
     },
     "execution_count": 148,
     "metadata": {},
     "output_type": "execute_result"
    }
   ],
   "source": [
    "response.choices[0].message.content"
   ]
  },
  {
   "cell_type": "code",
   "execution_count": 149,
   "id": "148185bf",
   "metadata": {},
   "outputs": [],
   "source": [
    "#summary = []\n",
    "#dataset = []"
   ]
  },
  {
   "cell_type": "code",
   "execution_count": 150,
   "id": "91999070",
   "metadata": {},
   "outputs": [],
   "source": [
    "dataset.append(\"2014_10_positive\")"
   ]
  },
  {
   "cell_type": "code",
   "execution_count": 151,
   "id": "ca0c8fcc",
   "metadata": {},
   "outputs": [],
   "source": [
    "summary.append(response.choices[0].message.content)"
   ]
  },
  {
   "cell_type": "code",
   "execution_count": 152,
   "id": "75de78c6",
   "metadata": {
    "tags": []
   },
   "outputs": [
    {
     "name": "stdout",
     "output_type": "stream",
     "text": [
      "<class 'pandas.core.frame.DataFrame'>\n",
      "RangeIndex: 10 entries, 0 to 9\n",
      "Data columns (total 2 columns):\n",
      " #   Column   Non-Null Count  Dtype \n",
      "---  ------   --------------  ----- \n",
      " 0   dataset  10 non-null     object\n",
      " 1   summary  10 non-null     object\n",
      "dtypes: object(2)\n",
      "memory usage: 288.0+ bytes\n"
     ]
    }
   ],
   "source": [
    "df_2014_pos = pd.DataFrame(list(zip(dataset, summary)),\n",
    "                            columns = ['dataset', 'summary'])\n",
    "df_2014_pos.info()"
   ]
  },
  {
   "cell_type": "code",
   "execution_count": 153,
   "id": "33f398cf",
   "metadata": {},
   "outputs": [
    {
     "data": {
      "text/html": [
       "<div>\n",
       "<style scoped>\n",
       "    .dataframe tbody tr th:only-of-type {\n",
       "        vertical-align: middle;\n",
       "    }\n",
       "\n",
       "    .dataframe tbody tr th {\n",
       "        vertical-align: top;\n",
       "    }\n",
       "\n",
       "    .dataframe thead th {\n",
       "        text-align: right;\n",
       "    }\n",
       "</style>\n",
       "<table border=\"1\" class=\"dataframe\">\n",
       "  <thead>\n",
       "    <tr style=\"text-align: right;\">\n",
       "      <th></th>\n",
       "      <th>dataset</th>\n",
       "      <th>summary</th>\n",
       "    </tr>\n",
       "  </thead>\n",
       "  <tbody>\n",
       "    <tr>\n",
       "      <th>0</th>\n",
       "      <td>2014_01_positive</td>\n",
       "      <td>The provided texts discuss the introduction of...</td>\n",
       "    </tr>\n",
       "    <tr>\n",
       "      <th>1</th>\n",
       "      <td>2014_02_positive</td>\n",
       "      <td>The texts discuss various vaccination campaign...</td>\n",
       "    </tr>\n",
       "    <tr>\n",
       "      <th>2</th>\n",
       "      <td>2014_03_positive</td>\n",
       "      <td>The text discusses the upcoming nationwide vac...</td>\n",
       "    </tr>\n",
       "    <tr>\n",
       "      <th>3</th>\n",
       "      <td>2014_04_positive</td>\n",
       "      <td>The sentences discuss vaccination campaigns in...</td>\n",
       "    </tr>\n",
       "    <tr>\n",
       "      <th>4</th>\n",
       "      <td>2014_05_positive</td>\n",
       "      <td>The text discusses various vaccination campaig...</td>\n",
       "    </tr>\n",
       "    <tr>\n",
       "      <th>5</th>\n",
       "      <td>2014_06_positive</td>\n",
       "      <td>The text discusses various vaccination campaig...</td>\n",
       "    </tr>\n",
       "    <tr>\n",
       "      <th>6</th>\n",
       "      <td>2014_07_positive</td>\n",
       "      <td>The text discusses various vaccination campaig...</td>\n",
       "    </tr>\n",
       "    <tr>\n",
       "      <th>7</th>\n",
       "      <td>2014_08_positive</td>\n",
       "      <td>The text covers various announcements regardin...</td>\n",
       "    </tr>\n",
       "    <tr>\n",
       "      <th>8</th>\n",
       "      <td>2014_09_positive</td>\n",
       "      <td>The texts discuss various vaccination campaign...</td>\n",
       "    </tr>\n",
       "    <tr>\n",
       "      <th>9</th>\n",
       "      <td>2014_10_positive</td>\n",
       "      <td>The text discusses various vaccination campaig...</td>\n",
       "    </tr>\n",
       "  </tbody>\n",
       "</table>\n",
       "</div>"
      ],
      "text/plain": [
       "            dataset                                            summary\n",
       "0  2014_01_positive  The provided texts discuss the introduction of...\n",
       "1  2014_02_positive  The texts discuss various vaccination campaign...\n",
       "2  2014_03_positive  The text discusses the upcoming nationwide vac...\n",
       "3  2014_04_positive  The sentences discuss vaccination campaigns in...\n",
       "4  2014_05_positive  The text discusses various vaccination campaig...\n",
       "5  2014_06_positive  The text discusses various vaccination campaig...\n",
       "6  2014_07_positive  The text discusses various vaccination campaig...\n",
       "7  2014_08_positive  The text covers various announcements regardin...\n",
       "8  2014_09_positive  The texts discuss various vaccination campaign...\n",
       "9  2014_10_positive  The text discusses various vaccination campaig..."
      ]
     },
     "execution_count": 153,
     "metadata": {},
     "output_type": "execute_result"
    }
   ],
   "source": [
    "df_2014_pos.tail(14)"
   ]
  },
  {
   "cell_type": "code",
   "execution_count": 154,
   "id": "c9aa4469",
   "metadata": {},
   "outputs": [
    {
     "data": {
      "text/plain": [
       "<OpenAIObject chat.completion id=chatcmpl-AUdJuYLpRj5iByuK7yeapCUxZPHUt at 0x1d35f9d0590> JSON: {\n",
       "  \"choices\": [\n",
       "    {\n",
       "      \"finish_reason\": \"stop\",\n",
       "      \"index\": 0,\n",
       "      \"logprobs\": null,\n",
       "      \"message\": {\n",
       "        \"content\": \"The text discusses various vaccination campaigns and initiatives in Brazil, including vaccinations against polio, measles, HPV, and rabies. It highlights the urgency and importance of these vaccinations, especially in light of potential epidemics like Ebola. It also mentions the testing of an Ebola vaccine in Canada and Switzerland, and emphasizes the role of vaccinations in public health and disease prevention.\",\n",
       "        \"refusal\": null,\n",
       "        \"role\": \"assistant\"\n",
       "      }\n",
       "    }\n",
       "  ],\n",
       "  \"created\": 1731864350,\n",
       "  \"id\": \"chatcmpl-AUdJuYLpRj5iByuK7yeapCUxZPHUt\",\n",
       "  \"model\": \"gpt-4o-mini-2024-07-18\",\n",
       "  \"object\": \"chat.completion\",\n",
       "  \"system_fingerprint\": \"fp_9b78b61c52\",\n",
       "  \"usage\": {\n",
       "    \"completion_tokens\": 73,\n",
       "    \"completion_tokens_details\": {\n",
       "      \"accepted_prediction_tokens\": 0,\n",
       "      \"audio_tokens\": 0,\n",
       "      \"reasoning_tokens\": 0,\n",
       "      \"rejected_prediction_tokens\": 0\n",
       "    },\n",
       "    \"prompt_tokens\": 51741,\n",
       "    \"prompt_tokens_details\": {\n",
       "      \"audio_tokens\": 0,\n",
       "      \"cached_tokens\": 0\n",
       "    },\n",
       "    \"total_tokens\": 51814\n",
       "  }\n",
       "}"
      ]
     },
     "execution_count": 154,
     "metadata": {},
     "output_type": "execute_result"
    }
   ],
   "source": [
    "response"
   ]
  },
  {
   "cell_type": "markdown",
   "id": "d476f7a3",
   "metadata": {},
   "source": [
    "## November"
   ]
  },
  {
   "cell_type": "code",
   "execution_count": 155,
   "id": "63dc91c7",
   "metadata": {
    "scrolled": true,
    "tags": []
   },
   "outputs": [
    {
     "name": "stdout",
     "output_type": "stream",
     "text": [
      "<class 'pandas.core.frame.DataFrame'>\n",
      "RangeIndex: 4173 entries, 0 to 4172\n",
      "Data columns (total 53 columns):\n",
      " #   Column                  Non-Null Count  Dtype  \n",
      "---  ------                  --------------  -----  \n",
      " 0   index                   4173 non-null   int64  \n",
      " 1   LocationCode            4173 non-null   object \n",
      " 2   LocationName            4173 non-null   object \n",
      " 3   StatesCode              4173 non-null   object \n",
      " 4   ...4                    4173 non-null   int64  \n",
      " 5   id                      4173 non-null   float64\n",
      " 6   text                    4173 non-null   object \n",
      " 7   label                   4173 non-null   object \n",
      " 8   in_reply_to_status_id   85 non-null     float64\n",
      " 9   in_reply_to_user_id     99 non-null     float64\n",
      " 10  quoted_user_id          0 non-null      float64\n",
      " 11  quoted_status_id        0 non-null      float64\n",
      " 12  retweeted_user_id       919 non-null    float64\n",
      " 13  retweeted_status_id     919 non-null    float64\n",
      " 14  created_at              4173 non-null   object \n",
      " 15  entities.user_mentions  1325 non-null   object \n",
      " 16  user.id                 4173 non-null   int64  \n",
      " 17  user.screen_name        4173 non-null   object \n",
      " 18  user.name               4173 non-null   object \n",
      " 19  user.description        3497 non-null   object \n",
      " 20  user.timezone           0 non-null      float64\n",
      " 21  user.location           4153 non-null   object \n",
      " 22  user.num_followers      4173 non-null   int64  \n",
      " 23  user.num_following      4173 non-null   int64  \n",
      " 24  user.created_at         4173 non-null   object \n",
      " 25  user.statuses_count     4173 non-null   int64  \n",
      " 26  user.is_verified        4173 non-null   bool   \n",
      " 27  lang                    4173 non-null   object \n",
      " 28  token_count             4173 non-null   int64  \n",
      " 29  is_retweet              4173 non-null   bool   \n",
      " 30  has_quote               4173 non-null   bool   \n",
      " 31  is_reply                4173 non-null   bool   \n",
      " 32  contains_keywords       4173 non-null   bool   \n",
      " 33  longitude               4173 non-null   float64\n",
      " 34  latitude                4173 non-null   float64\n",
      " 35  country_code            4173 non-null   object \n",
      " 36  geoname_id              4086 non-null   float64\n",
      " 37  location_type           4173 non-null   object \n",
      " 38  geo_type                4173 non-null   int64  \n",
      " 39  region                  4173 non-null   object \n",
      " 40  subregion               4173 non-null   object \n",
      " 41  num_quotes              4173 non-null   int64  \n",
      " 42  num_replies             4173 non-null   int64  \n",
      " 43  num_retweets            4173 non-null   int64  \n",
      " 44  sent_gpt                4173 non-null   object \n",
      " 45  gpt_sent_presence       4173 non-null   int64  \n",
      " 46  cleaned_text_lem        4173 non-null   object \n",
      " 47  cleaned_text            4173 non-null   object \n",
      " 48  month                   4173 non-null   int64  \n",
      " 49  year                    4173 non-null   int64  \n",
      " 50  week                    4173 non-null   int64  \n",
      " 51  year_month              4173 non-null   object \n",
      " 52  year_week               4173 non-null   object \n",
      "dtypes: bool(5), float64(11), int64(15), object(22)\n",
      "memory usage: 1.5+ MB\n"
     ]
    }
   ],
   "source": [
    "# Get monthly data\n",
    "df_2014_11_pos = pd.read_csv('../data/local/df_pos_2014-11.csv').reset_index()\n",
    "df_2014_11_pos.info()"
   ]
  },
  {
   "cell_type": "markdown",
   "id": "e44ca951",
   "metadata": {},
   "source": [
    "### Representative sample based on week and location"
   ]
  },
  {
   "cell_type": "code",
   "execution_count": 156,
   "id": "58f0a8ff",
   "metadata": {},
   "outputs": [
    {
     "data": {
      "text/html": [
       "<div>\n",
       "<style scoped>\n",
       "    .dataframe tbody tr th:only-of-type {\n",
       "        vertical-align: middle;\n",
       "    }\n",
       "\n",
       "    .dataframe tbody tr th {\n",
       "        vertical-align: top;\n",
       "    }\n",
       "\n",
       "    .dataframe thead th {\n",
       "        text-align: right;\n",
       "    }\n",
       "</style>\n",
       "<table border=\"1\" class=\"dataframe\">\n",
       "  <thead>\n",
       "    <tr style=\"text-align: right;\">\n",
       "      <th></th>\n",
       "      <th>year_week</th>\n",
       "      <th>LocationName</th>\n",
       "      <th>group_size</th>\n",
       "      <th>proportion</th>\n",
       "    </tr>\n",
       "  </thead>\n",
       "  <tbody>\n",
       "    <tr>\n",
       "      <th>0</th>\n",
       "      <td>2014-w44</td>\n",
       "      <td>Acre</td>\n",
       "      <td>4</td>\n",
       "      <td>0.000959</td>\n",
       "    </tr>\n",
       "    <tr>\n",
       "      <th>1</th>\n",
       "      <td>2014-w44</td>\n",
       "      <td>Alagoas</td>\n",
       "      <td>14</td>\n",
       "      <td>0.003355</td>\n",
       "    </tr>\n",
       "    <tr>\n",
       "      <th>2</th>\n",
       "      <td>2014-w44</td>\n",
       "      <td>Amapa</td>\n",
       "      <td>3</td>\n",
       "      <td>0.000719</td>\n",
       "    </tr>\n",
       "    <tr>\n",
       "      <th>3</th>\n",
       "      <td>2014-w44</td>\n",
       "      <td>Amazonas</td>\n",
       "      <td>10</td>\n",
       "      <td>0.002396</td>\n",
       "    </tr>\n",
       "    <tr>\n",
       "      <th>4</th>\n",
       "      <td>2014-w44</td>\n",
       "      <td>Bahia</td>\n",
       "      <td>62</td>\n",
       "      <td>0.014857</td>\n",
       "    </tr>\n",
       "    <tr>\n",
       "      <th>...</th>\n",
       "      <td>...</td>\n",
       "      <td>...</td>\n",
       "      <td>...</td>\n",
       "      <td>...</td>\n",
       "    </tr>\n",
       "    <tr>\n",
       "      <th>117</th>\n",
       "      <td>2014-w48</td>\n",
       "      <td>Roraima</td>\n",
       "      <td>7</td>\n",
       "      <td>0.001677</td>\n",
       "    </tr>\n",
       "    <tr>\n",
       "      <th>118</th>\n",
       "      <td>2014-w48</td>\n",
       "      <td>Santa Catarina</td>\n",
       "      <td>9</td>\n",
       "      <td>0.002157</td>\n",
       "    </tr>\n",
       "    <tr>\n",
       "      <th>119</th>\n",
       "      <td>2014-w48</td>\n",
       "      <td>Sao Paulo</td>\n",
       "      <td>80</td>\n",
       "      <td>0.019171</td>\n",
       "    </tr>\n",
       "    <tr>\n",
       "      <th>120</th>\n",
       "      <td>2014-w48</td>\n",
       "      <td>Sergipe</td>\n",
       "      <td>3</td>\n",
       "      <td>0.000719</td>\n",
       "    </tr>\n",
       "    <tr>\n",
       "      <th>121</th>\n",
       "      <td>2014-w48</td>\n",
       "      <td>Tocantins</td>\n",
       "      <td>1</td>\n",
       "      <td>0.000240</td>\n",
       "    </tr>\n",
       "  </tbody>\n",
       "</table>\n",
       "<p>122 rows × 4 columns</p>\n",
       "</div>"
      ],
      "text/plain": [
       "    year_week    LocationName  group_size  proportion\n",
       "0    2014-w44            Acre           4    0.000959\n",
       "1    2014-w44         Alagoas          14    0.003355\n",
       "2    2014-w44           Amapa           3    0.000719\n",
       "3    2014-w44        Amazonas          10    0.002396\n",
       "4    2014-w44           Bahia          62    0.014857\n",
       "..        ...             ...         ...         ...\n",
       "117  2014-w48         Roraima           7    0.001677\n",
       "118  2014-w48  Santa Catarina           9    0.002157\n",
       "119  2014-w48       Sao Paulo          80    0.019171\n",
       "120  2014-w48         Sergipe           3    0.000719\n",
       "121  2014-w48       Tocantins           1    0.000240\n",
       "\n",
       "[122 rows x 4 columns]"
      ]
     },
     "execution_count": 156,
     "metadata": {},
     "output_type": "execute_result"
    }
   ],
   "source": [
    "# Step 1: Calculate the size of each group (year_week, LocationName)\n",
    "group_sizes = df_2014_11_pos.groupby(['year_week', 'LocationName']).size().reset_index(name='group_size')\n",
    "\n",
    "# Step 2: Calculate the proportion of each group in the dataset\n",
    "total_rows = len(df_2014_11_pos)\n",
    "group_sizes['proportion'] = group_sizes['group_size'] / total_rows\n",
    "group_sizes"
   ]
  },
  {
   "cell_type": "code",
   "execution_count": 157,
   "id": "52c7e839",
   "metadata": {},
   "outputs": [
    {
     "data": {
      "text/html": [
       "<div>\n",
       "<style scoped>\n",
       "    .dataframe tbody tr th:only-of-type {\n",
       "        vertical-align: middle;\n",
       "    }\n",
       "\n",
       "    .dataframe tbody tr th {\n",
       "        vertical-align: top;\n",
       "    }\n",
       "\n",
       "    .dataframe thead th {\n",
       "        text-align: right;\n",
       "    }\n",
       "</style>\n",
       "<table border=\"1\" class=\"dataframe\">\n",
       "  <thead>\n",
       "    <tr style=\"text-align: right;\">\n",
       "      <th></th>\n",
       "      <th>year_week</th>\n",
       "      <th>LocationName</th>\n",
       "      <th>group_size</th>\n",
       "      <th>proportion</th>\n",
       "      <th>sample_size</th>\n",
       "    </tr>\n",
       "  </thead>\n",
       "  <tbody>\n",
       "    <tr>\n",
       "      <th>0</th>\n",
       "      <td>2014-w44</td>\n",
       "      <td>Acre</td>\n",
       "      <td>4</td>\n",
       "      <td>0.000959</td>\n",
       "      <td>2</td>\n",
       "    </tr>\n",
       "    <tr>\n",
       "      <th>1</th>\n",
       "      <td>2014-w44</td>\n",
       "      <td>Alagoas</td>\n",
       "      <td>14</td>\n",
       "      <td>0.003355</td>\n",
       "      <td>8</td>\n",
       "    </tr>\n",
       "    <tr>\n",
       "      <th>2</th>\n",
       "      <td>2014-w44</td>\n",
       "      <td>Amapa</td>\n",
       "      <td>3</td>\n",
       "      <td>0.000719</td>\n",
       "      <td>1</td>\n",
       "    </tr>\n",
       "    <tr>\n",
       "      <th>3</th>\n",
       "      <td>2014-w44</td>\n",
       "      <td>Amazonas</td>\n",
       "      <td>10</td>\n",
       "      <td>0.002396</td>\n",
       "      <td>5</td>\n",
       "    </tr>\n",
       "    <tr>\n",
       "      <th>4</th>\n",
       "      <td>2014-w44</td>\n",
       "      <td>Bahia</td>\n",
       "      <td>62</td>\n",
       "      <td>0.014857</td>\n",
       "      <td>36</td>\n",
       "    </tr>\n",
       "    <tr>\n",
       "      <th>...</th>\n",
       "      <td>...</td>\n",
       "      <td>...</td>\n",
       "      <td>...</td>\n",
       "      <td>...</td>\n",
       "      <td>...</td>\n",
       "    </tr>\n",
       "    <tr>\n",
       "      <th>117</th>\n",
       "      <td>2014-w48</td>\n",
       "      <td>Roraima</td>\n",
       "      <td>7</td>\n",
       "      <td>0.001677</td>\n",
       "      <td>4</td>\n",
       "    </tr>\n",
       "    <tr>\n",
       "      <th>118</th>\n",
       "      <td>2014-w48</td>\n",
       "      <td>Santa Catarina</td>\n",
       "      <td>9</td>\n",
       "      <td>0.002157</td>\n",
       "      <td>5</td>\n",
       "    </tr>\n",
       "    <tr>\n",
       "      <th>119</th>\n",
       "      <td>2014-w48</td>\n",
       "      <td>Sao Paulo</td>\n",
       "      <td>80</td>\n",
       "      <td>0.019171</td>\n",
       "      <td>46</td>\n",
       "    </tr>\n",
       "    <tr>\n",
       "      <th>120</th>\n",
       "      <td>2014-w48</td>\n",
       "      <td>Sergipe</td>\n",
       "      <td>3</td>\n",
       "      <td>0.000719</td>\n",
       "      <td>1</td>\n",
       "    </tr>\n",
       "    <tr>\n",
       "      <th>121</th>\n",
       "      <td>2014-w48</td>\n",
       "      <td>Tocantins</td>\n",
       "      <td>1</td>\n",
       "      <td>0.000240</td>\n",
       "      <td>0</td>\n",
       "    </tr>\n",
       "  </tbody>\n",
       "</table>\n",
       "<p>122 rows × 5 columns</p>\n",
       "</div>"
      ],
      "text/plain": [
       "    year_week    LocationName  group_size  proportion  sample_size\n",
       "0    2014-w44            Acre           4    0.000959            2\n",
       "1    2014-w44         Alagoas          14    0.003355            8\n",
       "2    2014-w44           Amapa           3    0.000719            1\n",
       "3    2014-w44        Amazonas          10    0.002396            5\n",
       "4    2014-w44           Bahia          62    0.014857           36\n",
       "..        ...             ...         ...         ...          ...\n",
       "117  2014-w48         Roraima           7    0.001677            4\n",
       "118  2014-w48  Santa Catarina           9    0.002157            5\n",
       "119  2014-w48       Sao Paulo          80    0.019171           46\n",
       "120  2014-w48         Sergipe           3    0.000719            1\n",
       "121  2014-w48       Tocantins           1    0.000240            0\n",
       "\n",
       "[122 rows x 5 columns]"
      ]
     },
     "execution_count": 157,
     "metadata": {},
     "output_type": "execute_result"
    }
   ],
   "source": [
    "# Step 3: Define the target sample size\n",
    "target_sample_size = 2450\n",
    "\n",
    "# Step 4: Calculate the sample size for each group (based on its proportion)\n",
    "group_sizes['sample_size'] = np.floor(group_sizes['proportion'] * target_sample_size).astype(int)\n",
    "group_sizes"
   ]
  },
  {
   "cell_type": "code",
   "execution_count": 158,
   "id": "47bfacf4",
   "metadata": {},
   "outputs": [],
   "source": [
    "# Step 5: Merge this sample size information back to the original DataFrame\n",
    "df_2014_11_pos_sample_size = pd.merge(df_2014_11_pos, group_sizes[['year_week', 'LocationName', 'sample_size']], \n",
    "                               on=['year_week', 'LocationName'], how='left')"
   ]
  },
  {
   "cell_type": "code",
   "execution_count": 159,
   "id": "3127c68e",
   "metadata": {},
   "outputs": [
    {
     "name": "stdout",
     "output_type": "stream",
     "text": [
      "Sampled 4173 rows.\n"
     ]
    }
   ],
   "source": [
    "# Step 6: Perform the stratified sampling\n",
    "#df_2014_11_pos_sample = df_2014_11_pos_sample_size.groupby(['year_week', 'LocationName']).apply(\n",
    " #   lambda group: group.sample(n=group['sample_size'].iloc[0], random_state=42)\n",
    "#).reset_index(drop=True)\n",
    "df_2014_11_pos_sample = df_2014_11_pos\n",
    "# Step 7: Check the result\n",
    "print(f\"Sampled {len(df_2014_11_pos_sample)} rows.\")\n"
   ]
  },
  {
   "cell_type": "code",
   "execution_count": 160,
   "id": "a5fc3ad1",
   "metadata": {},
   "outputs": [],
   "source": [
    "text_gpt_2014_11_pos = '\\n'.join(df_2014_11_pos_sample['text'].astype(str))"
   ]
  },
  {
   "cell_type": "markdown",
   "id": "8df94c41",
   "metadata": {},
   "source": [
    "### Prompts and loops"
   ]
  },
  {
   "cell_type": "code",
   "execution_count": 161,
   "id": "b2c43f66",
   "metadata": {},
   "outputs": [],
   "source": [
    "prompt_11 = prompt_raw.replace('TWEETS', text_gpt_2014_11_pos)"
   ]
  },
  {
   "cell_type": "code",
   "execution_count": 162,
   "id": "87bbf147",
   "metadata": {
    "scrolled": false
   },
   "outputs": [],
   "source": [
    "response = openai.ChatCompletion.create(\n",
    "    model=\"gpt-4o-mini\",  \n",
    "    messages = [\n",
    "        {\"role\": \"user\", \"content\": prompt_11}\n",
    "    ],\n",
    "    max_tokens=400,  # Maximum number of tokens in the response\n",
    "    temperature=0.7  # Controls the randomness of the output\n",
    ")"
   ]
  },
  {
   "cell_type": "code",
   "execution_count": 163,
   "id": "99d409e9",
   "metadata": {},
   "outputs": [
    {
     "data": {
      "text/plain": [
       "'The provided sentences in Portuguese discuss various vaccination campaigns in Brazil, focusing on the importance of keeping vaccinations up to date for children, pregnant women, and pets. Key topics include the launch of vaccines for diseases like dengue, polio, measles, and whooping cough, with emphasis on specific campaigns and deadlines for immunization. Additionally, advancements in vaccine development, including one against Ebola, and the introduction of health apps to track vaccination schedules are highlighted.'"
      ]
     },
     "execution_count": 163,
     "metadata": {},
     "output_type": "execute_result"
    }
   ],
   "source": [
    "response.choices[0].message.content"
   ]
  },
  {
   "cell_type": "code",
   "execution_count": 164,
   "id": "c1cb7d55",
   "metadata": {},
   "outputs": [],
   "source": [
    "#summary = []\n",
    "#dataset = []"
   ]
  },
  {
   "cell_type": "code",
   "execution_count": 165,
   "id": "0b5f7bbc",
   "metadata": {},
   "outputs": [],
   "source": [
    "dataset.append(\"2014_11_positive\")"
   ]
  },
  {
   "cell_type": "code",
   "execution_count": 166,
   "id": "25b7e5ff",
   "metadata": {},
   "outputs": [],
   "source": [
    "summary.append(response.choices[0].message.content)"
   ]
  },
  {
   "cell_type": "code",
   "execution_count": 167,
   "id": "10f2f273",
   "metadata": {
    "tags": []
   },
   "outputs": [
    {
     "name": "stdout",
     "output_type": "stream",
     "text": [
      "<class 'pandas.core.frame.DataFrame'>\n",
      "RangeIndex: 11 entries, 0 to 10\n",
      "Data columns (total 2 columns):\n",
      " #   Column   Non-Null Count  Dtype \n",
      "---  ------   --------------  ----- \n",
      " 0   dataset  11 non-null     object\n",
      " 1   summary  11 non-null     object\n",
      "dtypes: object(2)\n",
      "memory usage: 304.0+ bytes\n"
     ]
    }
   ],
   "source": [
    "df_2014_pos = pd.DataFrame(list(zip(dataset, summary)),\n",
    "                            columns = ['dataset', 'summary'])\n",
    "df_2014_pos.info()"
   ]
  },
  {
   "cell_type": "code",
   "execution_count": 168,
   "id": "89ced529",
   "metadata": {},
   "outputs": [
    {
     "data": {
      "text/html": [
       "<div>\n",
       "<style scoped>\n",
       "    .dataframe tbody tr th:only-of-type {\n",
       "        vertical-align: middle;\n",
       "    }\n",
       "\n",
       "    .dataframe tbody tr th {\n",
       "        vertical-align: top;\n",
       "    }\n",
       "\n",
       "    .dataframe thead th {\n",
       "        text-align: right;\n",
       "    }\n",
       "</style>\n",
       "<table border=\"1\" class=\"dataframe\">\n",
       "  <thead>\n",
       "    <tr style=\"text-align: right;\">\n",
       "      <th></th>\n",
       "      <th>dataset</th>\n",
       "      <th>summary</th>\n",
       "    </tr>\n",
       "  </thead>\n",
       "  <tbody>\n",
       "    <tr>\n",
       "      <th>0</th>\n",
       "      <td>2014_01_positive</td>\n",
       "      <td>The provided texts discuss the introduction of...</td>\n",
       "    </tr>\n",
       "    <tr>\n",
       "      <th>1</th>\n",
       "      <td>2014_02_positive</td>\n",
       "      <td>The texts discuss various vaccination campaign...</td>\n",
       "    </tr>\n",
       "    <tr>\n",
       "      <th>2</th>\n",
       "      <td>2014_03_positive</td>\n",
       "      <td>The text discusses the upcoming nationwide vac...</td>\n",
       "    </tr>\n",
       "    <tr>\n",
       "      <th>3</th>\n",
       "      <td>2014_04_positive</td>\n",
       "      <td>The sentences discuss vaccination campaigns in...</td>\n",
       "    </tr>\n",
       "    <tr>\n",
       "      <th>4</th>\n",
       "      <td>2014_05_positive</td>\n",
       "      <td>The text discusses various vaccination campaig...</td>\n",
       "    </tr>\n",
       "    <tr>\n",
       "      <th>5</th>\n",
       "      <td>2014_06_positive</td>\n",
       "      <td>The text discusses various vaccination campaig...</td>\n",
       "    </tr>\n",
       "    <tr>\n",
       "      <th>6</th>\n",
       "      <td>2014_07_positive</td>\n",
       "      <td>The text discusses various vaccination campaig...</td>\n",
       "    </tr>\n",
       "    <tr>\n",
       "      <th>7</th>\n",
       "      <td>2014_08_positive</td>\n",
       "      <td>The text covers various announcements regardin...</td>\n",
       "    </tr>\n",
       "    <tr>\n",
       "      <th>8</th>\n",
       "      <td>2014_09_positive</td>\n",
       "      <td>The texts discuss various vaccination campaign...</td>\n",
       "    </tr>\n",
       "    <tr>\n",
       "      <th>9</th>\n",
       "      <td>2014_10_positive</td>\n",
       "      <td>The text discusses various vaccination campaig...</td>\n",
       "    </tr>\n",
       "    <tr>\n",
       "      <th>10</th>\n",
       "      <td>2014_11_positive</td>\n",
       "      <td>The provided sentences in Portuguese discuss v...</td>\n",
       "    </tr>\n",
       "  </tbody>\n",
       "</table>\n",
       "</div>"
      ],
      "text/plain": [
       "             dataset                                            summary\n",
       "0   2014_01_positive  The provided texts discuss the introduction of...\n",
       "1   2014_02_positive  The texts discuss various vaccination campaign...\n",
       "2   2014_03_positive  The text discusses the upcoming nationwide vac...\n",
       "3   2014_04_positive  The sentences discuss vaccination campaigns in...\n",
       "4   2014_05_positive  The text discusses various vaccination campaig...\n",
       "5   2014_06_positive  The text discusses various vaccination campaig...\n",
       "6   2014_07_positive  The text discusses various vaccination campaig...\n",
       "7   2014_08_positive  The text covers various announcements regardin...\n",
       "8   2014_09_positive  The texts discuss various vaccination campaign...\n",
       "9   2014_10_positive  The text discusses various vaccination campaig...\n",
       "10  2014_11_positive  The provided sentences in Portuguese discuss v..."
      ]
     },
     "execution_count": 168,
     "metadata": {},
     "output_type": "execute_result"
    }
   ],
   "source": [
    "df_2014_pos.tail(14)"
   ]
  },
  {
   "cell_type": "code",
   "execution_count": 169,
   "id": "952c4bca",
   "metadata": {},
   "outputs": [
    {
     "data": {
      "text/plain": [
       "<OpenAIObject chat.completion id=chatcmpl-AUdK2J89AuxYc1ZId3DE3tm3UcgEg at 0x1d35fc54310> JSON: {\n",
       "  \"choices\": [\n",
       "    {\n",
       "      \"finish_reason\": \"stop\",\n",
       "      \"index\": 0,\n",
       "      \"logprobs\": null,\n",
       "      \"message\": {\n",
       "        \"content\": \"The provided sentences in Portuguese discuss various vaccination campaigns in Brazil, focusing on the importance of keeping vaccinations up to date for children, pregnant women, and pets. Key topics include the launch of vaccines for diseases like dengue, polio, measles, and whooping cough, with emphasis on specific campaigns and deadlines for immunization. Additionally, advancements in vaccine development, including one against Ebola, and the introduction of health apps to track vaccination schedules are highlighted.\",\n",
       "        \"refusal\": null,\n",
       "        \"role\": \"assistant\"\n",
       "      }\n",
       "    }\n",
       "  ],\n",
       "  \"created\": 1731864358,\n",
       "  \"id\": \"chatcmpl-AUdK2J89AuxYc1ZId3DE3tm3UcgEg\",\n",
       "  \"model\": \"gpt-4o-mini-2024-07-18\",\n",
       "  \"object\": \"chat.completion\",\n",
       "  \"system_fingerprint\": \"fp_0ba0d124f1\",\n",
       "  \"usage\": {\n",
       "    \"completion_tokens\": 90,\n",
       "    \"completion_tokens_details\": {\n",
       "      \"accepted_prediction_tokens\": 0,\n",
       "      \"audio_tokens\": 0,\n",
       "      \"reasoning_tokens\": 0,\n",
       "      \"rejected_prediction_tokens\": 0\n",
       "    },\n",
       "    \"prompt_tokens\": 98849,\n",
       "    \"prompt_tokens_details\": {\n",
       "      \"audio_tokens\": 0,\n",
       "      \"cached_tokens\": 0\n",
       "    },\n",
       "    \"total_tokens\": 98939\n",
       "  }\n",
       "}"
      ]
     },
     "execution_count": 169,
     "metadata": {},
     "output_type": "execute_result"
    }
   ],
   "source": [
    "response"
   ]
  },
  {
   "cell_type": "markdown",
   "id": "46613a39",
   "metadata": {},
   "source": [
    "## December"
   ]
  },
  {
   "cell_type": "code",
   "execution_count": 170,
   "id": "3f6bde3b",
   "metadata": {
    "scrolled": true,
    "tags": []
   },
   "outputs": [
    {
     "name": "stdout",
     "output_type": "stream",
     "text": [
      "<class 'pandas.core.frame.DataFrame'>\n",
      "RangeIndex: 1160 entries, 0 to 1159\n",
      "Data columns (total 53 columns):\n",
      " #   Column                  Non-Null Count  Dtype  \n",
      "---  ------                  --------------  -----  \n",
      " 0   index                   1160 non-null   int64  \n",
      " 1   LocationCode            1160 non-null   object \n",
      " 2   LocationName            1160 non-null   object \n",
      " 3   StatesCode              1160 non-null   object \n",
      " 4   ...4                    1160 non-null   int64  \n",
      " 5   id                      1160 non-null   float64\n",
      " 6   text                    1160 non-null   object \n",
      " 7   label                   1160 non-null   object \n",
      " 8   in_reply_to_status_id   58 non-null     float64\n",
      " 9   in_reply_to_user_id     65 non-null     float64\n",
      " 10  quoted_user_id          0 non-null      float64\n",
      " 11  quoted_status_id        0 non-null      float64\n",
      " 12  retweeted_user_id       203 non-null    float64\n",
      " 13  retweeted_status_id     203 non-null    float64\n",
      " 14  created_at              1160 non-null   object \n",
      " 15  entities.user_mentions  335 non-null    object \n",
      " 16  user.id                 1160 non-null   int64  \n",
      " 17  user.screen_name        1160 non-null   object \n",
      " 18  user.name               1160 non-null   object \n",
      " 19  user.description        989 non-null    object \n",
      " 20  user.timezone           0 non-null      float64\n",
      " 21  user.location           1144 non-null   object \n",
      " 22  user.num_followers      1160 non-null   int64  \n",
      " 23  user.num_following      1160 non-null   int64  \n",
      " 24  user.created_at         1160 non-null   object \n",
      " 25  user.statuses_count     1160 non-null   int64  \n",
      " 26  user.is_verified        1160 non-null   bool   \n",
      " 27  lang                    1160 non-null   object \n",
      " 28  token_count             1160 non-null   int64  \n",
      " 29  is_retweet              1160 non-null   bool   \n",
      " 30  has_quote               1160 non-null   bool   \n",
      " 31  is_reply                1160 non-null   bool   \n",
      " 32  contains_keywords       1160 non-null   bool   \n",
      " 33  longitude               1160 non-null   float64\n",
      " 34  latitude                1160 non-null   float64\n",
      " 35  country_code            1160 non-null   object \n",
      " 36  geoname_id              1118 non-null   float64\n",
      " 37  location_type           1160 non-null   object \n",
      " 38  geo_type                1160 non-null   int64  \n",
      " 39  region                  1160 non-null   object \n",
      " 40  subregion               1160 non-null   object \n",
      " 41  num_quotes              1160 non-null   int64  \n",
      " 42  num_replies             1160 non-null   int64  \n",
      " 43  num_retweets            1160 non-null   int64  \n",
      " 44  sent_gpt                1160 non-null   object \n",
      " 45  gpt_sent_presence       1160 non-null   int64  \n",
      " 46  cleaned_text_lem        1160 non-null   object \n",
      " 47  cleaned_text            1160 non-null   object \n",
      " 48  month                   1160 non-null   int64  \n",
      " 49  year                    1160 non-null   int64  \n",
      " 50  week                    1160 non-null   int64  \n",
      " 51  year_month              1160 non-null   object \n",
      " 52  year_week               1160 non-null   object \n",
      "dtypes: bool(5), float64(11), int64(15), object(22)\n",
      "memory usage: 440.8+ KB\n"
     ]
    }
   ],
   "source": [
    "# Get monthly data\n",
    "df_2014_12_pos = pd.read_csv('../data/local/df_pos_2014-12.csv').reset_index()\n",
    "df_2014_12_pos.info()"
   ]
  },
  {
   "cell_type": "markdown",
   "id": "4658d918",
   "metadata": {},
   "source": [
    "### Representative sample based on week and location"
   ]
  },
  {
   "cell_type": "code",
   "execution_count": 171,
   "id": "fcdbb1e9",
   "metadata": {},
   "outputs": [
    {
     "data": {
      "text/html": [
       "<div>\n",
       "<style scoped>\n",
       "    .dataframe tbody tr th:only-of-type {\n",
       "        vertical-align: middle;\n",
       "    }\n",
       "\n",
       "    .dataframe tbody tr th {\n",
       "        vertical-align: top;\n",
       "    }\n",
       "\n",
       "    .dataframe thead th {\n",
       "        text-align: right;\n",
       "    }\n",
       "</style>\n",
       "<table border=\"1\" class=\"dataframe\">\n",
       "  <thead>\n",
       "    <tr style=\"text-align: right;\">\n",
       "      <th></th>\n",
       "      <th>year_week</th>\n",
       "      <th>LocationName</th>\n",
       "      <th>group_size</th>\n",
       "      <th>proportion</th>\n",
       "    </tr>\n",
       "  </thead>\n",
       "  <tbody>\n",
       "    <tr>\n",
       "      <th>0</th>\n",
       "      <td>2014-w48</td>\n",
       "      <td>Alagoas</td>\n",
       "      <td>1</td>\n",
       "      <td>0.000862</td>\n",
       "    </tr>\n",
       "    <tr>\n",
       "      <th>1</th>\n",
       "      <td>2014-w48</td>\n",
       "      <td>Amazonas</td>\n",
       "      <td>3</td>\n",
       "      <td>0.002586</td>\n",
       "    </tr>\n",
       "    <tr>\n",
       "      <th>2</th>\n",
       "      <td>2014-w48</td>\n",
       "      <td>Bahia</td>\n",
       "      <td>4</td>\n",
       "      <td>0.003448</td>\n",
       "    </tr>\n",
       "    <tr>\n",
       "      <th>3</th>\n",
       "      <td>2014-w48</td>\n",
       "      <td>Ceara</td>\n",
       "      <td>9</td>\n",
       "      <td>0.007759</td>\n",
       "    </tr>\n",
       "    <tr>\n",
       "      <th>4</th>\n",
       "      <td>2014-w48</td>\n",
       "      <td>Distrito Federal</td>\n",
       "      <td>2</td>\n",
       "      <td>0.001724</td>\n",
       "    </tr>\n",
       "    <tr>\n",
       "      <th>...</th>\n",
       "      <td>...</td>\n",
       "      <td>...</td>\n",
       "      <td>...</td>\n",
       "      <td>...</td>\n",
       "    </tr>\n",
       "    <tr>\n",
       "      <th>100</th>\n",
       "      <td>2014-w53</td>\n",
       "      <td>Mato Grosso</td>\n",
       "      <td>1</td>\n",
       "      <td>0.000862</td>\n",
       "    </tr>\n",
       "    <tr>\n",
       "      <th>101</th>\n",
       "      <td>2014-w53</td>\n",
       "      <td>Minas Gerais</td>\n",
       "      <td>1</td>\n",
       "      <td>0.000862</td>\n",
       "    </tr>\n",
       "    <tr>\n",
       "      <th>102</th>\n",
       "      <td>2014-w53</td>\n",
       "      <td>Piaui</td>\n",
       "      <td>1</td>\n",
       "      <td>0.000862</td>\n",
       "    </tr>\n",
       "    <tr>\n",
       "      <th>103</th>\n",
       "      <td>2014-w53</td>\n",
       "      <td>Rio Grande Do Sul</td>\n",
       "      <td>2</td>\n",
       "      <td>0.001724</td>\n",
       "    </tr>\n",
       "    <tr>\n",
       "      <th>104</th>\n",
       "      <td>2014-w53</td>\n",
       "      <td>Sao Paulo</td>\n",
       "      <td>5</td>\n",
       "      <td>0.004310</td>\n",
       "    </tr>\n",
       "  </tbody>\n",
       "</table>\n",
       "<p>105 rows × 4 columns</p>\n",
       "</div>"
      ],
      "text/plain": [
       "    year_week       LocationName  group_size  proportion\n",
       "0    2014-w48            Alagoas           1    0.000862\n",
       "1    2014-w48           Amazonas           3    0.002586\n",
       "2    2014-w48              Bahia           4    0.003448\n",
       "3    2014-w48              Ceara           9    0.007759\n",
       "4    2014-w48   Distrito Federal           2    0.001724\n",
       "..        ...                ...         ...         ...\n",
       "100  2014-w53        Mato Grosso           1    0.000862\n",
       "101  2014-w53       Minas Gerais           1    0.000862\n",
       "102  2014-w53              Piaui           1    0.000862\n",
       "103  2014-w53  Rio Grande Do Sul           2    0.001724\n",
       "104  2014-w53          Sao Paulo           5    0.004310\n",
       "\n",
       "[105 rows x 4 columns]"
      ]
     },
     "execution_count": 171,
     "metadata": {},
     "output_type": "execute_result"
    }
   ],
   "source": [
    "# Step 1: Calculate the size of each group (year_week, LocationName)\n",
    "group_sizes = df_2014_12_pos.groupby(['year_week', 'LocationName']).size().reset_index(name='group_size')\n",
    "\n",
    "# Step 2: Calculate the proportion of each group in the dataset\n",
    "total_rows = len(df_2014_12_pos)\n",
    "group_sizes['proportion'] = group_sizes['group_size'] / total_rows\n",
    "group_sizes"
   ]
  },
  {
   "cell_type": "code",
   "execution_count": 172,
   "id": "bbf24049",
   "metadata": {},
   "outputs": [
    {
     "data": {
      "text/html": [
       "<div>\n",
       "<style scoped>\n",
       "    .dataframe tbody tr th:only-of-type {\n",
       "        vertical-align: middle;\n",
       "    }\n",
       "\n",
       "    .dataframe tbody tr th {\n",
       "        vertical-align: top;\n",
       "    }\n",
       "\n",
       "    .dataframe thead th {\n",
       "        text-align: right;\n",
       "    }\n",
       "</style>\n",
       "<table border=\"1\" class=\"dataframe\">\n",
       "  <thead>\n",
       "    <tr style=\"text-align: right;\">\n",
       "      <th></th>\n",
       "      <th>year_week</th>\n",
       "      <th>LocationName</th>\n",
       "      <th>group_size</th>\n",
       "      <th>proportion</th>\n",
       "      <th>sample_size</th>\n",
       "    </tr>\n",
       "  </thead>\n",
       "  <tbody>\n",
       "    <tr>\n",
       "      <th>0</th>\n",
       "      <td>2014-w48</td>\n",
       "      <td>Alagoas</td>\n",
       "      <td>1</td>\n",
       "      <td>0.000862</td>\n",
       "      <td>2</td>\n",
       "    </tr>\n",
       "    <tr>\n",
       "      <th>1</th>\n",
       "      <td>2014-w48</td>\n",
       "      <td>Amazonas</td>\n",
       "      <td>3</td>\n",
       "      <td>0.002586</td>\n",
       "      <td>6</td>\n",
       "    </tr>\n",
       "    <tr>\n",
       "      <th>2</th>\n",
       "      <td>2014-w48</td>\n",
       "      <td>Bahia</td>\n",
       "      <td>4</td>\n",
       "      <td>0.003448</td>\n",
       "      <td>8</td>\n",
       "    </tr>\n",
       "    <tr>\n",
       "      <th>3</th>\n",
       "      <td>2014-w48</td>\n",
       "      <td>Ceara</td>\n",
       "      <td>9</td>\n",
       "      <td>0.007759</td>\n",
       "      <td>19</td>\n",
       "    </tr>\n",
       "    <tr>\n",
       "      <th>4</th>\n",
       "      <td>2014-w48</td>\n",
       "      <td>Distrito Federal</td>\n",
       "      <td>2</td>\n",
       "      <td>0.001724</td>\n",
       "      <td>4</td>\n",
       "    </tr>\n",
       "    <tr>\n",
       "      <th>...</th>\n",
       "      <td>...</td>\n",
       "      <td>...</td>\n",
       "      <td>...</td>\n",
       "      <td>...</td>\n",
       "      <td>...</td>\n",
       "    </tr>\n",
       "    <tr>\n",
       "      <th>100</th>\n",
       "      <td>2014-w53</td>\n",
       "      <td>Mato Grosso</td>\n",
       "      <td>1</td>\n",
       "      <td>0.000862</td>\n",
       "      <td>2</td>\n",
       "    </tr>\n",
       "    <tr>\n",
       "      <th>101</th>\n",
       "      <td>2014-w53</td>\n",
       "      <td>Minas Gerais</td>\n",
       "      <td>1</td>\n",
       "      <td>0.000862</td>\n",
       "      <td>2</td>\n",
       "    </tr>\n",
       "    <tr>\n",
       "      <th>102</th>\n",
       "      <td>2014-w53</td>\n",
       "      <td>Piaui</td>\n",
       "      <td>1</td>\n",
       "      <td>0.000862</td>\n",
       "      <td>2</td>\n",
       "    </tr>\n",
       "    <tr>\n",
       "      <th>103</th>\n",
       "      <td>2014-w53</td>\n",
       "      <td>Rio Grande Do Sul</td>\n",
       "      <td>2</td>\n",
       "      <td>0.001724</td>\n",
       "      <td>4</td>\n",
       "    </tr>\n",
       "    <tr>\n",
       "      <th>104</th>\n",
       "      <td>2014-w53</td>\n",
       "      <td>Sao Paulo</td>\n",
       "      <td>5</td>\n",
       "      <td>0.004310</td>\n",
       "      <td>10</td>\n",
       "    </tr>\n",
       "  </tbody>\n",
       "</table>\n",
       "<p>105 rows × 5 columns</p>\n",
       "</div>"
      ],
      "text/plain": [
       "    year_week       LocationName  group_size  proportion  sample_size\n",
       "0    2014-w48            Alagoas           1    0.000862            2\n",
       "1    2014-w48           Amazonas           3    0.002586            6\n",
       "2    2014-w48              Bahia           4    0.003448            8\n",
       "3    2014-w48              Ceara           9    0.007759           19\n",
       "4    2014-w48   Distrito Federal           2    0.001724            4\n",
       "..        ...                ...         ...         ...          ...\n",
       "100  2014-w53        Mato Grosso           1    0.000862            2\n",
       "101  2014-w53       Minas Gerais           1    0.000862            2\n",
       "102  2014-w53              Piaui           1    0.000862            2\n",
       "103  2014-w53  Rio Grande Do Sul           2    0.001724            4\n",
       "104  2014-w53          Sao Paulo           5    0.004310           10\n",
       "\n",
       "[105 rows x 5 columns]"
      ]
     },
     "execution_count": 172,
     "metadata": {},
     "output_type": "execute_result"
    }
   ],
   "source": [
    "# Step 3: Define the target sample size\n",
    "target_sample_size = 2450\n",
    "\n",
    "# Step 4: Calculate the sample size for each group (based on its proportion)\n",
    "group_sizes['sample_size'] = np.floor(group_sizes['proportion'] * target_sample_size).astype(int)\n",
    "group_sizes"
   ]
  },
  {
   "cell_type": "code",
   "execution_count": 173,
   "id": "c207c408",
   "metadata": {},
   "outputs": [],
   "source": [
    "# Step 5: Merge this sample size information back to the original DataFrame\n",
    "df_2014_12_pos_sample_size = pd.merge(df_2014_12_pos, group_sizes[['year_week', 'LocationName', 'sample_size']], \n",
    "                               on=['year_week', 'LocationName'], how='left')"
   ]
  },
  {
   "cell_type": "code",
   "execution_count": 174,
   "id": "66d74acb",
   "metadata": {},
   "outputs": [
    {
     "name": "stdout",
     "output_type": "stream",
     "text": [
      "Sampled 1160 rows.\n"
     ]
    }
   ],
   "source": [
    "# Step 6: Perform the stratified sampling\n",
    "#df_2014_12_pos_sample = df_2014_12_pos_sample_size.groupby(['year_week', 'LocationName']).apply(\n",
    " #   lambda group: group.sample(n=group['sample_size'].iloc[0], random_state=42)\n",
    "#).reset_index(drop=True)\n",
    "df_2014_12_pos_sample = df_2014_12_pos\n",
    "# Step 7: Check the result\n",
    "print(f\"Sampled {len(df_2014_12_pos_sample)} rows.\")\n"
   ]
  },
  {
   "cell_type": "code",
   "execution_count": 175,
   "id": "b23befcc",
   "metadata": {},
   "outputs": [],
   "source": [
    "text_gpt_2014_12_pos = '\\n'.join(df_2014_12_pos_sample['text'].astype(str))"
   ]
  },
  {
   "cell_type": "markdown",
   "id": "d3650c4b",
   "metadata": {},
   "source": [
    "### Prompts and loops"
   ]
  },
  {
   "cell_type": "code",
   "execution_count": 176,
   "id": "791b4fd6",
   "metadata": {},
   "outputs": [],
   "source": [
    "prompt_12 = prompt_raw.replace('TWEETS', text_gpt_2014_12_pos)"
   ]
  },
  {
   "cell_type": "code",
   "execution_count": 177,
   "id": "def2b9de",
   "metadata": {
    "scrolled": false
   },
   "outputs": [],
   "source": [
    "response = openai.ChatCompletion.create(\n",
    "    model=\"gpt-4o-mini\",  \n",
    "    messages = [\n",
    "        {\"role\": \"user\", \"content\": prompt_12}\n",
    "    ],\n",
    "    max_tokens=400,  # Maximum number of tokens in the response\n",
    "    temperature=0.7  # Controls the randomness of the output\n",
    ")"
   ]
  },
  {
   "cell_type": "code",
   "execution_count": 178,
   "id": "eb10f5ec",
   "metadata": {},
   "outputs": [
    {
     "data": {
      "text/plain": [
       "'The text discusses various vaccination campaigns in Brazil, focusing on the vaccination against polio, measles, and other diseases such as dengue and HPV. It highlights the importance of public health initiatives, with many cities achieving significant coverage rates. Additionally, it mentions the development and testing of vaccines for diseases like Ebola and cancer, emphasizing the necessity of staying updated with vaccinations for children and pets.'"
      ]
     },
     "execution_count": 178,
     "metadata": {},
     "output_type": "execute_result"
    }
   ],
   "source": [
    "response.choices[0].message.content"
   ]
  },
  {
   "cell_type": "code",
   "execution_count": 179,
   "id": "82e7aa4c",
   "metadata": {},
   "outputs": [],
   "source": [
    "#summary = []\n",
    "#dataset = []"
   ]
  },
  {
   "cell_type": "code",
   "execution_count": 180,
   "id": "2a9d076b",
   "metadata": {},
   "outputs": [],
   "source": [
    "dataset.append(\"2014_12_positive\")"
   ]
  },
  {
   "cell_type": "code",
   "execution_count": 181,
   "id": "8a057dbe",
   "metadata": {},
   "outputs": [],
   "source": [
    "summary.append(response.choices[0].message.content)"
   ]
  },
  {
   "cell_type": "code",
   "execution_count": 182,
   "id": "3bb6bfbd",
   "metadata": {
    "tags": []
   },
   "outputs": [
    {
     "name": "stdout",
     "output_type": "stream",
     "text": [
      "<class 'pandas.core.frame.DataFrame'>\n",
      "RangeIndex: 12 entries, 0 to 11\n",
      "Data columns (total 2 columns):\n",
      " #   Column   Non-Null Count  Dtype \n",
      "---  ------   --------------  ----- \n",
      " 0   dataset  12 non-null     object\n",
      " 1   summary  12 non-null     object\n",
      "dtypes: object(2)\n",
      "memory usage: 320.0+ bytes\n"
     ]
    }
   ],
   "source": [
    "df_2014_pos = pd.DataFrame(list(zip(dataset, summary)),\n",
    "                            columns = ['dataset', 'summary'])\n",
    "df_2014_pos.info()"
   ]
  },
  {
   "cell_type": "code",
   "execution_count": 183,
   "id": "893bd100",
   "metadata": {},
   "outputs": [
    {
     "data": {
      "text/html": [
       "<div>\n",
       "<style scoped>\n",
       "    .dataframe tbody tr th:only-of-type {\n",
       "        vertical-align: middle;\n",
       "    }\n",
       "\n",
       "    .dataframe tbody tr th {\n",
       "        vertical-align: top;\n",
       "    }\n",
       "\n",
       "    .dataframe thead th {\n",
       "        text-align: right;\n",
       "    }\n",
       "</style>\n",
       "<table border=\"1\" class=\"dataframe\">\n",
       "  <thead>\n",
       "    <tr style=\"text-align: right;\">\n",
       "      <th></th>\n",
       "      <th>dataset</th>\n",
       "      <th>summary</th>\n",
       "    </tr>\n",
       "  </thead>\n",
       "  <tbody>\n",
       "    <tr>\n",
       "      <th>0</th>\n",
       "      <td>2014_01_positive</td>\n",
       "      <td>The provided texts discuss the introduction of...</td>\n",
       "    </tr>\n",
       "    <tr>\n",
       "      <th>1</th>\n",
       "      <td>2014_02_positive</td>\n",
       "      <td>The texts discuss various vaccination campaign...</td>\n",
       "    </tr>\n",
       "    <tr>\n",
       "      <th>2</th>\n",
       "      <td>2014_03_positive</td>\n",
       "      <td>The text discusses the upcoming nationwide vac...</td>\n",
       "    </tr>\n",
       "    <tr>\n",
       "      <th>3</th>\n",
       "      <td>2014_04_positive</td>\n",
       "      <td>The sentences discuss vaccination campaigns in...</td>\n",
       "    </tr>\n",
       "    <tr>\n",
       "      <th>4</th>\n",
       "      <td>2014_05_positive</td>\n",
       "      <td>The text discusses various vaccination campaig...</td>\n",
       "    </tr>\n",
       "    <tr>\n",
       "      <th>5</th>\n",
       "      <td>2014_06_positive</td>\n",
       "      <td>The text discusses various vaccination campaig...</td>\n",
       "    </tr>\n",
       "    <tr>\n",
       "      <th>6</th>\n",
       "      <td>2014_07_positive</td>\n",
       "      <td>The text discusses various vaccination campaig...</td>\n",
       "    </tr>\n",
       "    <tr>\n",
       "      <th>7</th>\n",
       "      <td>2014_08_positive</td>\n",
       "      <td>The text covers various announcements regardin...</td>\n",
       "    </tr>\n",
       "    <tr>\n",
       "      <th>8</th>\n",
       "      <td>2014_09_positive</td>\n",
       "      <td>The texts discuss various vaccination campaign...</td>\n",
       "    </tr>\n",
       "    <tr>\n",
       "      <th>9</th>\n",
       "      <td>2014_10_positive</td>\n",
       "      <td>The text discusses various vaccination campaig...</td>\n",
       "    </tr>\n",
       "    <tr>\n",
       "      <th>10</th>\n",
       "      <td>2014_11_positive</td>\n",
       "      <td>The provided sentences in Portuguese discuss v...</td>\n",
       "    </tr>\n",
       "    <tr>\n",
       "      <th>11</th>\n",
       "      <td>2014_12_positive</td>\n",
       "      <td>The text discusses various vaccination campaig...</td>\n",
       "    </tr>\n",
       "  </tbody>\n",
       "</table>\n",
       "</div>"
      ],
      "text/plain": [
       "             dataset                                            summary\n",
       "0   2014_01_positive  The provided texts discuss the introduction of...\n",
       "1   2014_02_positive  The texts discuss various vaccination campaign...\n",
       "2   2014_03_positive  The text discusses the upcoming nationwide vac...\n",
       "3   2014_04_positive  The sentences discuss vaccination campaigns in...\n",
       "4   2014_05_positive  The text discusses various vaccination campaig...\n",
       "5   2014_06_positive  The text discusses various vaccination campaig...\n",
       "6   2014_07_positive  The text discusses various vaccination campaig...\n",
       "7   2014_08_positive  The text covers various announcements regardin...\n",
       "8   2014_09_positive  The texts discuss various vaccination campaign...\n",
       "9   2014_10_positive  The text discusses various vaccination campaig...\n",
       "10  2014_11_positive  The provided sentences in Portuguese discuss v...\n",
       "11  2014_12_positive  The text discusses various vaccination campaig..."
      ]
     },
     "execution_count": 183,
     "metadata": {},
     "output_type": "execute_result"
    }
   ],
   "source": [
    "df_2014_pos.tail(14)"
   ]
  },
  {
   "cell_type": "code",
   "execution_count": 184,
   "id": "20bf36e0",
   "metadata": {},
   "outputs": [
    {
     "data": {
      "text/plain": [
       "<OpenAIObject chat.completion id=chatcmpl-AUdKC9QGY6CjXjILO1CR4ZSCQzVfP at 0x1d35fe59040> JSON: {\n",
       "  \"choices\": [\n",
       "    {\n",
       "      \"finish_reason\": \"stop\",\n",
       "      \"index\": 0,\n",
       "      \"logprobs\": null,\n",
       "      \"message\": {\n",
       "        \"content\": \"The text discusses various vaccination campaigns in Brazil, focusing on the vaccination against polio, measles, and other diseases such as dengue and HPV. It highlights the importance of public health initiatives, with many cities achieving significant coverage rates. Additionally, it mentions the development and testing of vaccines for diseases like Ebola and cancer, emphasizing the necessity of staying updated with vaccinations for children and pets.\",\n",
       "        \"refusal\": null,\n",
       "        \"role\": \"assistant\"\n",
       "      }\n",
       "    }\n",
       "  ],\n",
       "  \"created\": 1731864368,\n",
       "  \"id\": \"chatcmpl-AUdKC9QGY6CjXjILO1CR4ZSCQzVfP\",\n",
       "  \"model\": \"gpt-4o-mini-2024-07-18\",\n",
       "  \"object\": \"chat.completion\",\n",
       "  \"system_fingerprint\": \"fp_0ba0d124f1\",\n",
       "  \"usage\": {\n",
       "    \"completion_tokens\": 76,\n",
       "    \"completion_tokens_details\": {\n",
       "      \"accepted_prediction_tokens\": 0,\n",
       "      \"audio_tokens\": 0,\n",
       "      \"reasoning_tokens\": 0,\n",
       "      \"rejected_prediction_tokens\": 0\n",
       "    },\n",
       "    \"prompt_tokens\": 28777,\n",
       "    \"prompt_tokens_details\": {\n",
       "      \"audio_tokens\": 0,\n",
       "      \"cached_tokens\": 0\n",
       "    },\n",
       "    \"total_tokens\": 28853\n",
       "  }\n",
       "}"
      ]
     },
     "execution_count": 184,
     "metadata": {},
     "output_type": "execute_result"
    }
   ],
   "source": [
    "response"
   ]
  },
  {
   "cell_type": "markdown",
   "id": "4b2eea35",
   "metadata": {},
   "source": [
    "## All 2014 positive"
   ]
  },
  {
   "cell_type": "code",
   "execution_count": 185,
   "id": "76b26dc9",
   "metadata": {},
   "outputs": [],
   "source": [
    "df_2014_pos.to_csv('../data/summary_2014_positive_tweets.csv')"
   ]
  }
 ],
 "metadata": {
  "kernelspec": {
   "display_name": "Python 3 (ipykernel)",
   "language": "python",
   "name": "python3"
  },
  "language_info": {
   "codemirror_mode": {
    "name": "ipython",
    "version": 3
   },
   "file_extension": ".py",
   "mimetype": "text/x-python",
   "name": "python",
   "nbconvert_exporter": "python",
   "pygments_lexer": "ipython3",
   "version": "3.9.12"
  }
 },
 "nbformat": 4,
 "nbformat_minor": 5
}
