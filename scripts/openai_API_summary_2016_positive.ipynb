{
 "cells": [
  {
   "cell_type": "markdown",
   "id": "e90b7c28",
   "metadata": {},
   "source": [
    "# Import libraries and data"
   ]
  },
  {
   "cell_type": "code",
   "execution_count": 1,
   "id": "433219e8-8f66-4be5-a3b8-e39fca644032",
   "metadata": {
    "tags": []
   },
   "outputs": [],
   "source": [
    "# Import libraries\n",
    "import os\n",
    "import openai\n",
    "import pandas as pd\n",
    "import numpy as np\n",
    "import openpyxl"
   ]
  },
  {
   "cell_type": "code",
   "execution_count": 2,
   "id": "2c68f056-74fe-4f29-9daf-6bdef5cc0701",
   "metadata": {},
   "outputs": [],
   "source": [
    "# Get OpenAI API secret key (change this file with your own OpenAI key)\n",
    "open_ai_key = open('../data/local/openai_key.txt', 'r').read()\n",
    "openai.api_key = open_ai_key\n",
    "#openai.Model.list()"
   ]
  },
  {
   "cell_type": "code",
   "execution_count": 3,
   "id": "aa3d0327",
   "metadata": {},
   "outputs": [],
   "source": [
    "# Prompt for GPT\n",
    "prompt_raw = \"I would like to summarise in maximum 300 characters and in English what the following sentences in Portuguese talk about. \\\n",
    "Do not use aspects mentioned only in one sentence as part of the summary: TWEETS\""
   ]
  },
  {
   "cell_type": "markdown",
   "id": "3c7787f4",
   "metadata": {},
   "source": [
    "# 2016 positive"
   ]
  },
  {
   "cell_type": "markdown",
   "id": "c0101e21",
   "metadata": {},
   "source": [
    "## January"
   ]
  },
  {
   "cell_type": "code",
   "execution_count": 4,
   "id": "0b3f06fc",
   "metadata": {
    "scrolled": true,
    "tags": []
   },
   "outputs": [
    {
     "name": "stdout",
     "output_type": "stream",
     "text": [
      "<class 'pandas.core.frame.DataFrame'>\n",
      "RangeIndex: 1910 entries, 0 to 1909\n",
      "Data columns (total 53 columns):\n",
      " #   Column                  Non-Null Count  Dtype  \n",
      "---  ------                  --------------  -----  \n",
      " 0   index                   1910 non-null   int64  \n",
      " 1   LocationCode            1910 non-null   object \n",
      " 2   LocationName            1910 non-null   object \n",
      " 3   StatesCode              1910 non-null   object \n",
      " 4   ...4                    1910 non-null   int64  \n",
      " 5   id                      1910 non-null   float64\n",
      " 6   text                    1910 non-null   object \n",
      " 7   label                   1910 non-null   object \n",
      " 8   in_reply_to_status_id   105 non-null    float64\n",
      " 9   in_reply_to_user_id     114 non-null    float64\n",
      " 10  quoted_user_id          15 non-null     float64\n",
      " 11  quoted_status_id        15 non-null     float64\n",
      " 12  retweeted_user_id       612 non-null    float64\n",
      " 13  retweeted_status_id     612 non-null    float64\n",
      " 14  created_at              1910 non-null   object \n",
      " 15  entities.user_mentions  870 non-null    object \n",
      " 16  user.id                 1910 non-null   int64  \n",
      " 17  user.screen_name        1910 non-null   object \n",
      " 18  user.name               1910 non-null   object \n",
      " 19  user.description        1656 non-null   object \n",
      " 20  user.timezone           0 non-null      float64\n",
      " 21  user.location           1887 non-null   object \n",
      " 22  user.num_followers      1910 non-null   int64  \n",
      " 23  user.num_following      1910 non-null   int64  \n",
      " 24  user.created_at         1910 non-null   object \n",
      " 25  user.statuses_count     1910 non-null   int64  \n",
      " 26  user.is_verified        1910 non-null   bool   \n",
      " 27  lang                    1910 non-null   object \n",
      " 28  token_count             1910 non-null   int64  \n",
      " 29  is_retweet              1910 non-null   bool   \n",
      " 30  has_quote               1910 non-null   bool   \n",
      " 31  is_reply                1910 non-null   bool   \n",
      " 32  contains_keywords       1910 non-null   bool   \n",
      " 33  longitude               1910 non-null   float64\n",
      " 34  latitude                1910 non-null   float64\n",
      " 35  country_code            1910 non-null   object \n",
      " 36  geoname_id              1807 non-null   float64\n",
      " 37  location_type           1910 non-null   object \n",
      " 38  geo_type                1910 non-null   int64  \n",
      " 39  region                  1910 non-null   object \n",
      " 40  subregion               1910 non-null   object \n",
      " 41  num_quotes              1910 non-null   int64  \n",
      " 42  num_replies             1910 non-null   int64  \n",
      " 43  num_retweets            1910 non-null   int64  \n",
      " 44  sent_gpt                1910 non-null   object \n",
      " 45  gpt_sent_presence       1910 non-null   int64  \n",
      " 46  cleaned_text_lem        1910 non-null   object \n",
      " 47  cleaned_text            1910 non-null   object \n",
      " 48  month                   1910 non-null   int64  \n",
      " 49  year                    1910 non-null   int64  \n",
      " 50  week                    1910 non-null   int64  \n",
      " 51  year_month              1910 non-null   object \n",
      " 52  year_week               1910 non-null   object \n",
      "dtypes: bool(5), float64(11), int64(15), object(22)\n",
      "memory usage: 725.7+ KB\n"
     ]
    }
   ],
   "source": [
    "# Get monthly data\n",
    "df_2016_01_pos = pd.read_csv('../data/local/df_pos_2016-01.csv').reset_index()\n",
    "df_2016_01_pos.info()"
   ]
  },
  {
   "cell_type": "markdown",
   "id": "98d4ddaf",
   "metadata": {},
   "source": [
    "### Representative sample based on week and location"
   ]
  },
  {
   "cell_type": "code",
   "execution_count": 5,
   "id": "85b2559c",
   "metadata": {},
   "outputs": [
    {
     "data": {
      "text/html": [
       "<div>\n",
       "<style scoped>\n",
       "    .dataframe tbody tr th:only-of-type {\n",
       "        vertical-align: middle;\n",
       "    }\n",
       "\n",
       "    .dataframe tbody tr th {\n",
       "        vertical-align: top;\n",
       "    }\n",
       "\n",
       "    .dataframe thead th {\n",
       "        text-align: right;\n",
       "    }\n",
       "</style>\n",
       "<table border=\"1\" class=\"dataframe\">\n",
       "  <thead>\n",
       "    <tr style=\"text-align: right;\">\n",
       "      <th></th>\n",
       "      <th>year_week</th>\n",
       "      <th>LocationName</th>\n",
       "      <th>group_size</th>\n",
       "      <th>proportion</th>\n",
       "    </tr>\n",
       "  </thead>\n",
       "  <tbody>\n",
       "    <tr>\n",
       "      <th>0</th>\n",
       "      <td>2016-w01</td>\n",
       "      <td>Alagoas</td>\n",
       "      <td>1</td>\n",
       "      <td>0.000524</td>\n",
       "    </tr>\n",
       "    <tr>\n",
       "      <th>1</th>\n",
       "      <td>2016-w01</td>\n",
       "      <td>Amazonas</td>\n",
       "      <td>5</td>\n",
       "      <td>0.002618</td>\n",
       "    </tr>\n",
       "    <tr>\n",
       "      <th>2</th>\n",
       "      <td>2016-w01</td>\n",
       "      <td>Bahia</td>\n",
       "      <td>16</td>\n",
       "      <td>0.008377</td>\n",
       "    </tr>\n",
       "    <tr>\n",
       "      <th>3</th>\n",
       "      <td>2016-w01</td>\n",
       "      <td>Ceara</td>\n",
       "      <td>3</td>\n",
       "      <td>0.001571</td>\n",
       "    </tr>\n",
       "    <tr>\n",
       "      <th>4</th>\n",
       "      <td>2016-w01</td>\n",
       "      <td>Distrito Federal</td>\n",
       "      <td>12</td>\n",
       "      <td>0.006283</td>\n",
       "    </tr>\n",
       "    <tr>\n",
       "      <th>...</th>\n",
       "      <td>...</td>\n",
       "      <td>...</td>\n",
       "      <td>...</td>\n",
       "      <td>...</td>\n",
       "    </tr>\n",
       "    <tr>\n",
       "      <th>109</th>\n",
       "      <td>2016-w05</td>\n",
       "      <td>Roraima</td>\n",
       "      <td>4</td>\n",
       "      <td>0.002094</td>\n",
       "    </tr>\n",
       "    <tr>\n",
       "      <th>110</th>\n",
       "      <td>2016-w05</td>\n",
       "      <td>Santa Catarina</td>\n",
       "      <td>3</td>\n",
       "      <td>0.001571</td>\n",
       "    </tr>\n",
       "    <tr>\n",
       "      <th>111</th>\n",
       "      <td>2016-w05</td>\n",
       "      <td>Sao Paulo</td>\n",
       "      <td>75</td>\n",
       "      <td>0.039267</td>\n",
       "    </tr>\n",
       "    <tr>\n",
       "      <th>112</th>\n",
       "      <td>2016-w05</td>\n",
       "      <td>Sergipe</td>\n",
       "      <td>5</td>\n",
       "      <td>0.002618</td>\n",
       "    </tr>\n",
       "    <tr>\n",
       "      <th>113</th>\n",
       "      <td>2016-w05</td>\n",
       "      <td>Tocantins</td>\n",
       "      <td>1</td>\n",
       "      <td>0.000524</td>\n",
       "    </tr>\n",
       "  </tbody>\n",
       "</table>\n",
       "<p>114 rows × 4 columns</p>\n",
       "</div>"
      ],
      "text/plain": [
       "    year_week      LocationName  group_size  proportion\n",
       "0    2016-w01           Alagoas           1    0.000524\n",
       "1    2016-w01          Amazonas           5    0.002618\n",
       "2    2016-w01             Bahia          16    0.008377\n",
       "3    2016-w01             Ceara           3    0.001571\n",
       "4    2016-w01  Distrito Federal          12    0.006283\n",
       "..        ...               ...         ...         ...\n",
       "109  2016-w05           Roraima           4    0.002094\n",
       "110  2016-w05    Santa Catarina           3    0.001571\n",
       "111  2016-w05         Sao Paulo          75    0.039267\n",
       "112  2016-w05           Sergipe           5    0.002618\n",
       "113  2016-w05         Tocantins           1    0.000524\n",
       "\n",
       "[114 rows x 4 columns]"
      ]
     },
     "execution_count": 5,
     "metadata": {},
     "output_type": "execute_result"
    }
   ],
   "source": [
    "# Step 1: Calculate the size of each group (year_week, LocationName)\n",
    "group_sizes = df_2016_01_pos.groupby(['year_week', 'LocationName']).size().reset_index(name='group_size')\n",
    "\n",
    "# Step 2: Calculate the proportion of each group in the dataset\n",
    "total_rows = len(df_2016_01_pos)\n",
    "group_sizes['proportion'] = group_sizes['group_size'] / total_rows\n",
    "group_sizes"
   ]
  },
  {
   "cell_type": "code",
   "execution_count": 6,
   "id": "3fac3240",
   "metadata": {},
   "outputs": [
    {
     "data": {
      "text/html": [
       "<div>\n",
       "<style scoped>\n",
       "    .dataframe tbody tr th:only-of-type {\n",
       "        vertical-align: middle;\n",
       "    }\n",
       "\n",
       "    .dataframe tbody tr th {\n",
       "        vertical-align: top;\n",
       "    }\n",
       "\n",
       "    .dataframe thead th {\n",
       "        text-align: right;\n",
       "    }\n",
       "</style>\n",
       "<table border=\"1\" class=\"dataframe\">\n",
       "  <thead>\n",
       "    <tr style=\"text-align: right;\">\n",
       "      <th></th>\n",
       "      <th>year_week</th>\n",
       "      <th>LocationName</th>\n",
       "      <th>group_size</th>\n",
       "      <th>proportion</th>\n",
       "      <th>sample_size</th>\n",
       "    </tr>\n",
       "  </thead>\n",
       "  <tbody>\n",
       "    <tr>\n",
       "      <th>0</th>\n",
       "      <td>2016-w01</td>\n",
       "      <td>Alagoas</td>\n",
       "      <td>1</td>\n",
       "      <td>0.000524</td>\n",
       "      <td>1</td>\n",
       "    </tr>\n",
       "    <tr>\n",
       "      <th>1</th>\n",
       "      <td>2016-w01</td>\n",
       "      <td>Amazonas</td>\n",
       "      <td>5</td>\n",
       "      <td>0.002618</td>\n",
       "      <td>6</td>\n",
       "    </tr>\n",
       "    <tr>\n",
       "      <th>2</th>\n",
       "      <td>2016-w01</td>\n",
       "      <td>Bahia</td>\n",
       "      <td>16</td>\n",
       "      <td>0.008377</td>\n",
       "      <td>20</td>\n",
       "    </tr>\n",
       "    <tr>\n",
       "      <th>3</th>\n",
       "      <td>2016-w01</td>\n",
       "      <td>Ceara</td>\n",
       "      <td>3</td>\n",
       "      <td>0.001571</td>\n",
       "      <td>3</td>\n",
       "    </tr>\n",
       "    <tr>\n",
       "      <th>4</th>\n",
       "      <td>2016-w01</td>\n",
       "      <td>Distrito Federal</td>\n",
       "      <td>12</td>\n",
       "      <td>0.006283</td>\n",
       "      <td>15</td>\n",
       "    </tr>\n",
       "    <tr>\n",
       "      <th>...</th>\n",
       "      <td>...</td>\n",
       "      <td>...</td>\n",
       "      <td>...</td>\n",
       "      <td>...</td>\n",
       "      <td>...</td>\n",
       "    </tr>\n",
       "    <tr>\n",
       "      <th>109</th>\n",
       "      <td>2016-w05</td>\n",
       "      <td>Roraima</td>\n",
       "      <td>4</td>\n",
       "      <td>0.002094</td>\n",
       "      <td>5</td>\n",
       "    </tr>\n",
       "    <tr>\n",
       "      <th>110</th>\n",
       "      <td>2016-w05</td>\n",
       "      <td>Santa Catarina</td>\n",
       "      <td>3</td>\n",
       "      <td>0.001571</td>\n",
       "      <td>3</td>\n",
       "    </tr>\n",
       "    <tr>\n",
       "      <th>111</th>\n",
       "      <td>2016-w05</td>\n",
       "      <td>Sao Paulo</td>\n",
       "      <td>75</td>\n",
       "      <td>0.039267</td>\n",
       "      <td>96</td>\n",
       "    </tr>\n",
       "    <tr>\n",
       "      <th>112</th>\n",
       "      <td>2016-w05</td>\n",
       "      <td>Sergipe</td>\n",
       "      <td>5</td>\n",
       "      <td>0.002618</td>\n",
       "      <td>6</td>\n",
       "    </tr>\n",
       "    <tr>\n",
       "      <th>113</th>\n",
       "      <td>2016-w05</td>\n",
       "      <td>Tocantins</td>\n",
       "      <td>1</td>\n",
       "      <td>0.000524</td>\n",
       "      <td>1</td>\n",
       "    </tr>\n",
       "  </tbody>\n",
       "</table>\n",
       "<p>114 rows × 5 columns</p>\n",
       "</div>"
      ],
      "text/plain": [
       "    year_week      LocationName  group_size  proportion  sample_size\n",
       "0    2016-w01           Alagoas           1    0.000524            1\n",
       "1    2016-w01          Amazonas           5    0.002618            6\n",
       "2    2016-w01             Bahia          16    0.008377           20\n",
       "3    2016-w01             Ceara           3    0.001571            3\n",
       "4    2016-w01  Distrito Federal          12    0.006283           15\n",
       "..        ...               ...         ...         ...          ...\n",
       "109  2016-w05           Roraima           4    0.002094            5\n",
       "110  2016-w05    Santa Catarina           3    0.001571            3\n",
       "111  2016-w05         Sao Paulo          75    0.039267           96\n",
       "112  2016-w05           Sergipe           5    0.002618            6\n",
       "113  2016-w05         Tocantins           1    0.000524            1\n",
       "\n",
       "[114 rows x 5 columns]"
      ]
     },
     "execution_count": 6,
     "metadata": {},
     "output_type": "execute_result"
    }
   ],
   "source": [
    "# Step 3: Define the target sample size\n",
    "target_sample_size = 2450\n",
    "\n",
    "# Step 4: Calculate the sample size for each group (based on its proportion)\n",
    "group_sizes['sample_size'] = np.floor(group_sizes['proportion'] * target_sample_size).astype(int)\n",
    "group_sizes"
   ]
  },
  {
   "cell_type": "code",
   "execution_count": 7,
   "id": "c7469167",
   "metadata": {},
   "outputs": [],
   "source": [
    "# Step 5: Merge this sample size information back to the original DataFrame\n",
    "df_2016_01_pos_sample_size = pd.merge(df_2016_01_pos, group_sizes[['year_week', 'LocationName', 'sample_size']], \n",
    "                               on=['year_week', 'LocationName'], how='left')"
   ]
  },
  {
   "cell_type": "code",
   "execution_count": 9,
   "id": "9c4475e7",
   "metadata": {},
   "outputs": [
    {
     "name": "stdout",
     "output_type": "stream",
     "text": [
      "Sampled 1910 rows.\n"
     ]
    }
   ],
   "source": [
    "# Step 6: Perform the stratified sampling\n",
    "#df_2016_01_pos_sample = df_2016_01_pos_sample_size.groupby(['year_week', 'LocationName']).apply(\n",
    " #   lambda group: group.sample(n=group['sample_size'].iloc[0], random_state=42)\n",
    "#).reset_index(drop=True)\n",
    "df_2016_01_pos_sample = df_2016_01_pos\n",
    "# Step 7: Check the result\n",
    "print(f\"Sampled {len(df_2016_01_pos_sample)} rows.\")\n"
   ]
  },
  {
   "cell_type": "code",
   "execution_count": 10,
   "id": "c4ec1d65",
   "metadata": {},
   "outputs": [],
   "source": [
    "text_gpt_2016_01_pos = '\\n'.join(df_2016_01_pos_sample['text'].astype(str))"
   ]
  },
  {
   "cell_type": "markdown",
   "id": "5dc8c377",
   "metadata": {},
   "source": [
    "### Prompts and loops"
   ]
  },
  {
   "cell_type": "code",
   "execution_count": 11,
   "id": "a269fd14",
   "metadata": {},
   "outputs": [],
   "source": [
    "prompt_1 = prompt_raw.replace('TWEETS', text_gpt_2016_01_pos)"
   ]
  },
  {
   "cell_type": "code",
   "execution_count": 12,
   "id": "132f0e60",
   "metadata": {
    "scrolled": false
   },
   "outputs": [],
   "source": [
    "response = openai.ChatCompletion.create(\n",
    "    model=\"gpt-4o-mini\",  \n",
    "    messages = [\n",
    "        {\"role\": \"user\", \"content\": prompt_1}\n",
    "    ],\n",
    "    max_tokens=400,  # Maximum number of tokens in the response\n",
    "    temperature=0.7  # Controls the randomness of the output\n",
    ")"
   ]
  },
  {
   "cell_type": "code",
   "execution_count": 13,
   "id": "8b87399c",
   "metadata": {},
   "outputs": [
    {
     "data": {
      "text/plain": [
       "'The sentences discuss various aspects of vaccination and public health initiatives in Brazil, including the importance of vaccines against diseases like Zika, dengue, and HPV. They highlight partnerships between countries, such as Brazil and the USA, to develop new vaccines, and emphasize the significance of vaccination campaigns to prevent outbreaks. Additionally, the text notes the global acknowledgment of handwashing as a critical health measure.'"
      ]
     },
     "execution_count": 13,
     "metadata": {},
     "output_type": "execute_result"
    }
   ],
   "source": [
    "response.choices[0].message.content"
   ]
  },
  {
   "cell_type": "code",
   "execution_count": 14,
   "id": "177a2bd7",
   "metadata": {},
   "outputs": [],
   "source": [
    "summary = []\n",
    "dataset = []"
   ]
  },
  {
   "cell_type": "code",
   "execution_count": 15,
   "id": "005c717a",
   "metadata": {},
   "outputs": [],
   "source": [
    "dataset.append(\"2016_01_positive\")"
   ]
  },
  {
   "cell_type": "code",
   "execution_count": 16,
   "id": "b3580ec6",
   "metadata": {},
   "outputs": [],
   "source": [
    "summary.append(response.choices[0].message.content)"
   ]
  },
  {
   "cell_type": "code",
   "execution_count": 17,
   "id": "24c5caaa",
   "metadata": {
    "tags": []
   },
   "outputs": [
    {
     "name": "stdout",
     "output_type": "stream",
     "text": [
      "<class 'pandas.core.frame.DataFrame'>\n",
      "RangeIndex: 1 entries, 0 to 0\n",
      "Data columns (total 2 columns):\n",
      " #   Column   Non-Null Count  Dtype \n",
      "---  ------   --------------  ----- \n",
      " 0   dataset  1 non-null      object\n",
      " 1   summary  1 non-null      object\n",
      "dtypes: object(2)\n",
      "memory usage: 144.0+ bytes\n"
     ]
    }
   ],
   "source": [
    "df_2016_pos = pd.DataFrame(list(zip(dataset, summary)),\n",
    "                            columns = ['dataset', 'summary'])\n",
    "df_2016_pos.info()"
   ]
  },
  {
   "cell_type": "code",
   "execution_count": 18,
   "id": "5bcf3f7f",
   "metadata": {},
   "outputs": [
    {
     "data": {
      "text/html": [
       "<div>\n",
       "<style scoped>\n",
       "    .dataframe tbody tr th:only-of-type {\n",
       "        vertical-align: middle;\n",
       "    }\n",
       "\n",
       "    .dataframe tbody tr th {\n",
       "        vertical-align: top;\n",
       "    }\n",
       "\n",
       "    .dataframe thead th {\n",
       "        text-align: right;\n",
       "    }\n",
       "</style>\n",
       "<table border=\"1\" class=\"dataframe\">\n",
       "  <thead>\n",
       "    <tr style=\"text-align: right;\">\n",
       "      <th></th>\n",
       "      <th>dataset</th>\n",
       "      <th>summary</th>\n",
       "    </tr>\n",
       "  </thead>\n",
       "  <tbody>\n",
       "    <tr>\n",
       "      <th>0</th>\n",
       "      <td>2016_01_positive</td>\n",
       "      <td>The sentences discuss various aspects of vacci...</td>\n",
       "    </tr>\n",
       "  </tbody>\n",
       "</table>\n",
       "</div>"
      ],
      "text/plain": [
       "            dataset                                            summary\n",
       "0  2016_01_positive  The sentences discuss various aspects of vacci..."
      ]
     },
     "execution_count": 18,
     "metadata": {},
     "output_type": "execute_result"
    }
   ],
   "source": [
    "df_2016_pos.tail(14)"
   ]
  },
  {
   "cell_type": "code",
   "execution_count": 19,
   "id": "df702099",
   "metadata": {},
   "outputs": [
    {
     "data": {
      "text/plain": [
       "<OpenAIObject chat.completion id=chatcmpl-AUcrR5jhMNeo9yGAqVYvnwoiFapsK at 0x2107f0c5a40> JSON: {\n",
       "  \"choices\": [\n",
       "    {\n",
       "      \"finish_reason\": \"stop\",\n",
       "      \"index\": 0,\n",
       "      \"logprobs\": null,\n",
       "      \"message\": {\n",
       "        \"content\": \"The sentences discuss various aspects of vaccination and public health initiatives in Brazil, including the importance of vaccines against diseases like Zika, dengue, and HPV. They highlight partnerships between countries, such as Brazil and the USA, to develop new vaccines, and emphasize the significance of vaccination campaigns to prevent outbreaks. Additionally, the text notes the global acknowledgment of handwashing as a critical health measure.\",\n",
       "        \"refusal\": null,\n",
       "        \"role\": \"assistant\"\n",
       "      }\n",
       "    }\n",
       "  ],\n",
       "  \"created\": 1731862585,\n",
       "  \"id\": \"chatcmpl-AUcrR5jhMNeo9yGAqVYvnwoiFapsK\",\n",
       "  \"model\": \"gpt-4o-mini-2024-07-18\",\n",
       "  \"object\": \"chat.completion\",\n",
       "  \"system_fingerprint\": \"fp_0ba0d124f1\",\n",
       "  \"usage\": {\n",
       "    \"completion_tokens\": 76,\n",
       "    \"completion_tokens_details\": {\n",
       "      \"accepted_prediction_tokens\": 0,\n",
       "      \"audio_tokens\": 0,\n",
       "      \"reasoning_tokens\": 0,\n",
       "      \"rejected_prediction_tokens\": 0\n",
       "    },\n",
       "    \"prompt_tokens\": 43179,\n",
       "    \"prompt_tokens_details\": {\n",
       "      \"audio_tokens\": 0,\n",
       "      \"cached_tokens\": 0\n",
       "    },\n",
       "    \"total_tokens\": 43255\n",
       "  }\n",
       "}"
      ]
     },
     "execution_count": 19,
     "metadata": {},
     "output_type": "execute_result"
    }
   ],
   "source": [
    "response"
   ]
  },
  {
   "cell_type": "markdown",
   "id": "f2468aac",
   "metadata": {},
   "source": [
    "## February"
   ]
  },
  {
   "cell_type": "code",
   "execution_count": 20,
   "id": "5ea58abd",
   "metadata": {
    "scrolled": true,
    "tags": []
   },
   "outputs": [
    {
     "name": "stdout",
     "output_type": "stream",
     "text": [
      "<class 'pandas.core.frame.DataFrame'>\n",
      "RangeIndex: 3118 entries, 0 to 3117\n",
      "Data columns (total 53 columns):\n",
      " #   Column                  Non-Null Count  Dtype  \n",
      "---  ------                  --------------  -----  \n",
      " 0   index                   3118 non-null   int64  \n",
      " 1   LocationCode            3118 non-null   object \n",
      " 2   LocationName            3118 non-null   object \n",
      " 3   StatesCode              3118 non-null   object \n",
      " 4   ...4                    3118 non-null   int64  \n",
      " 5   id                      3118 non-null   float64\n",
      " 6   text                    3118 non-null   object \n",
      " 7   label                   3118 non-null   object \n",
      " 8   in_reply_to_status_id   103 non-null    float64\n",
      " 9   in_reply_to_user_id     124 non-null    float64\n",
      " 10  quoted_user_id          14 non-null     float64\n",
      " 11  quoted_status_id        14 non-null     float64\n",
      " 12  retweeted_user_id       969 non-null    float64\n",
      " 13  retweeted_status_id     969 non-null    float64\n",
      " 14  created_at              3118 non-null   object \n",
      " 15  entities.user_mentions  1333 non-null   object \n",
      " 16  user.id                 3118 non-null   float64\n",
      " 17  user.screen_name        3118 non-null   object \n",
      " 18  user.name               3118 non-null   object \n",
      " 19  user.description        2656 non-null   object \n",
      " 20  user.timezone           0 non-null      float64\n",
      " 21  user.location           3101 non-null   object \n",
      " 22  user.num_followers      3118 non-null   int64  \n",
      " 23  user.num_following      3118 non-null   int64  \n",
      " 24  user.created_at         3118 non-null   object \n",
      " 25  user.statuses_count     3118 non-null   int64  \n",
      " 26  user.is_verified        3118 non-null   bool   \n",
      " 27  lang                    3118 non-null   object \n",
      " 28  token_count             3118 non-null   int64  \n",
      " 29  is_retweet              3118 non-null   bool   \n",
      " 30  has_quote               3118 non-null   bool   \n",
      " 31  is_reply                3118 non-null   bool   \n",
      " 32  contains_keywords       3118 non-null   bool   \n",
      " 33  longitude               3118 non-null   float64\n",
      " 34  latitude                3118 non-null   float64\n",
      " 35  country_code            3118 non-null   object \n",
      " 36  geoname_id              2995 non-null   float64\n",
      " 37  location_type           3118 non-null   object \n",
      " 38  geo_type                3118 non-null   int64  \n",
      " 39  region                  3118 non-null   object \n",
      " 40  subregion               3118 non-null   object \n",
      " 41  num_quotes              3118 non-null   int64  \n",
      " 42  num_replies             3118 non-null   int64  \n",
      " 43  num_retweets            3118 non-null   int64  \n",
      " 44  sent_gpt                3118 non-null   object \n",
      " 45  gpt_sent_presence       3118 non-null   int64  \n",
      " 46  cleaned_text_lem        3118 non-null   object \n",
      " 47  cleaned_text            3118 non-null   object \n",
      " 48  month                   3118 non-null   int64  \n",
      " 49  year                    3118 non-null   int64  \n",
      " 50  week                    3118 non-null   int64  \n",
      " 51  year_month              3118 non-null   object \n",
      " 52  year_week               3118 non-null   object \n",
      "dtypes: bool(5), float64(12), int64(14), object(22)\n",
      "memory usage: 1.2+ MB\n"
     ]
    }
   ],
   "source": [
    "# Get monthly data\n",
    "df_2016_02_pos = pd.read_csv('../data/local/df_pos_2016-02.csv').reset_index()\n",
    "df_2016_02_pos.info()"
   ]
  },
  {
   "cell_type": "markdown",
   "id": "1131f48c",
   "metadata": {},
   "source": [
    "### Representative sample based on week and location"
   ]
  },
  {
   "cell_type": "code",
   "execution_count": 21,
   "id": "2ef3d681",
   "metadata": {},
   "outputs": [
    {
     "data": {
      "text/html": [
       "<div>\n",
       "<style scoped>\n",
       "    .dataframe tbody tr th:only-of-type {\n",
       "        vertical-align: middle;\n",
       "    }\n",
       "\n",
       "    .dataframe tbody tr th {\n",
       "        vertical-align: top;\n",
       "    }\n",
       "\n",
       "    .dataframe thead th {\n",
       "        text-align: right;\n",
       "    }\n",
       "</style>\n",
       "<table border=\"1\" class=\"dataframe\">\n",
       "  <thead>\n",
       "    <tr style=\"text-align: right;\">\n",
       "      <th></th>\n",
       "      <th>year_week</th>\n",
       "      <th>LocationName</th>\n",
       "      <th>group_size</th>\n",
       "      <th>proportion</th>\n",
       "    </tr>\n",
       "  </thead>\n",
       "  <tbody>\n",
       "    <tr>\n",
       "      <th>0</th>\n",
       "      <td>2016-w05</td>\n",
       "      <td>Acre</td>\n",
       "      <td>1</td>\n",
       "      <td>0.000321</td>\n",
       "    </tr>\n",
       "    <tr>\n",
       "      <th>1</th>\n",
       "      <td>2016-w05</td>\n",
       "      <td>Alagoas</td>\n",
       "      <td>3</td>\n",
       "      <td>0.000962</td>\n",
       "    </tr>\n",
       "    <tr>\n",
       "      <th>2</th>\n",
       "      <td>2016-w05</td>\n",
       "      <td>Amapa</td>\n",
       "      <td>5</td>\n",
       "      <td>0.001604</td>\n",
       "    </tr>\n",
       "    <tr>\n",
       "      <th>3</th>\n",
       "      <td>2016-w05</td>\n",
       "      <td>Amazonas</td>\n",
       "      <td>17</td>\n",
       "      <td>0.005452</td>\n",
       "    </tr>\n",
       "    <tr>\n",
       "      <th>4</th>\n",
       "      <td>2016-w05</td>\n",
       "      <td>Bahia</td>\n",
       "      <td>41</td>\n",
       "      <td>0.013149</td>\n",
       "    </tr>\n",
       "    <tr>\n",
       "      <th>...</th>\n",
       "      <td>...</td>\n",
       "      <td>...</td>\n",
       "      <td>...</td>\n",
       "      <td>...</td>\n",
       "    </tr>\n",
       "    <tr>\n",
       "      <th>113</th>\n",
       "      <td>2016-w09</td>\n",
       "      <td>Roraima</td>\n",
       "      <td>2</td>\n",
       "      <td>0.000641</td>\n",
       "    </tr>\n",
       "    <tr>\n",
       "      <th>114</th>\n",
       "      <td>2016-w09</td>\n",
       "      <td>Santa Catarina</td>\n",
       "      <td>3</td>\n",
       "      <td>0.000962</td>\n",
       "    </tr>\n",
       "    <tr>\n",
       "      <th>115</th>\n",
       "      <td>2016-w09</td>\n",
       "      <td>Sao Paulo</td>\n",
       "      <td>38</td>\n",
       "      <td>0.012187</td>\n",
       "    </tr>\n",
       "    <tr>\n",
       "      <th>116</th>\n",
       "      <td>2016-w09</td>\n",
       "      <td>Sergipe</td>\n",
       "      <td>3</td>\n",
       "      <td>0.000962</td>\n",
       "    </tr>\n",
       "    <tr>\n",
       "      <th>117</th>\n",
       "      <td>2016-w09</td>\n",
       "      <td>Tocantins</td>\n",
       "      <td>9</td>\n",
       "      <td>0.002886</td>\n",
       "    </tr>\n",
       "  </tbody>\n",
       "</table>\n",
       "<p>118 rows × 4 columns</p>\n",
       "</div>"
      ],
      "text/plain": [
       "    year_week    LocationName  group_size  proportion\n",
       "0    2016-w05            Acre           1    0.000321\n",
       "1    2016-w05         Alagoas           3    0.000962\n",
       "2    2016-w05           Amapa           5    0.001604\n",
       "3    2016-w05        Amazonas          17    0.005452\n",
       "4    2016-w05           Bahia          41    0.013149\n",
       "..        ...             ...         ...         ...\n",
       "113  2016-w09         Roraima           2    0.000641\n",
       "114  2016-w09  Santa Catarina           3    0.000962\n",
       "115  2016-w09       Sao Paulo          38    0.012187\n",
       "116  2016-w09         Sergipe           3    0.000962\n",
       "117  2016-w09       Tocantins           9    0.002886\n",
       "\n",
       "[118 rows x 4 columns]"
      ]
     },
     "execution_count": 21,
     "metadata": {},
     "output_type": "execute_result"
    }
   ],
   "source": [
    "# Step 1: Calculate the size of each group (year_week, LocationName)\n",
    "group_sizes = df_2016_02_pos.groupby(['year_week', 'LocationName']).size().reset_index(name='group_size')\n",
    "\n",
    "# Step 2: Calculate the proportion of each group in the dataset\n",
    "total_rows = len(df_2016_02_pos)\n",
    "group_sizes['proportion'] = group_sizes['group_size'] / total_rows\n",
    "group_sizes"
   ]
  },
  {
   "cell_type": "code",
   "execution_count": 22,
   "id": "adee9c98",
   "metadata": {},
   "outputs": [
    {
     "data": {
      "text/html": [
       "<div>\n",
       "<style scoped>\n",
       "    .dataframe tbody tr th:only-of-type {\n",
       "        vertical-align: middle;\n",
       "    }\n",
       "\n",
       "    .dataframe tbody tr th {\n",
       "        vertical-align: top;\n",
       "    }\n",
       "\n",
       "    .dataframe thead th {\n",
       "        text-align: right;\n",
       "    }\n",
       "</style>\n",
       "<table border=\"1\" class=\"dataframe\">\n",
       "  <thead>\n",
       "    <tr style=\"text-align: right;\">\n",
       "      <th></th>\n",
       "      <th>year_week</th>\n",
       "      <th>LocationName</th>\n",
       "      <th>group_size</th>\n",
       "      <th>proportion</th>\n",
       "      <th>sample_size</th>\n",
       "    </tr>\n",
       "  </thead>\n",
       "  <tbody>\n",
       "    <tr>\n",
       "      <th>0</th>\n",
       "      <td>2016-w05</td>\n",
       "      <td>Acre</td>\n",
       "      <td>1</td>\n",
       "      <td>0.000321</td>\n",
       "      <td>0</td>\n",
       "    </tr>\n",
       "    <tr>\n",
       "      <th>1</th>\n",
       "      <td>2016-w05</td>\n",
       "      <td>Alagoas</td>\n",
       "      <td>3</td>\n",
       "      <td>0.000962</td>\n",
       "      <td>2</td>\n",
       "    </tr>\n",
       "    <tr>\n",
       "      <th>2</th>\n",
       "      <td>2016-w05</td>\n",
       "      <td>Amapa</td>\n",
       "      <td>5</td>\n",
       "      <td>0.001604</td>\n",
       "      <td>3</td>\n",
       "    </tr>\n",
       "    <tr>\n",
       "      <th>3</th>\n",
       "      <td>2016-w05</td>\n",
       "      <td>Amazonas</td>\n",
       "      <td>17</td>\n",
       "      <td>0.005452</td>\n",
       "      <td>13</td>\n",
       "    </tr>\n",
       "    <tr>\n",
       "      <th>4</th>\n",
       "      <td>2016-w05</td>\n",
       "      <td>Bahia</td>\n",
       "      <td>41</td>\n",
       "      <td>0.013149</td>\n",
       "      <td>32</td>\n",
       "    </tr>\n",
       "    <tr>\n",
       "      <th>...</th>\n",
       "      <td>...</td>\n",
       "      <td>...</td>\n",
       "      <td>...</td>\n",
       "      <td>...</td>\n",
       "      <td>...</td>\n",
       "    </tr>\n",
       "    <tr>\n",
       "      <th>113</th>\n",
       "      <td>2016-w09</td>\n",
       "      <td>Roraima</td>\n",
       "      <td>2</td>\n",
       "      <td>0.000641</td>\n",
       "      <td>1</td>\n",
       "    </tr>\n",
       "    <tr>\n",
       "      <th>114</th>\n",
       "      <td>2016-w09</td>\n",
       "      <td>Santa Catarina</td>\n",
       "      <td>3</td>\n",
       "      <td>0.000962</td>\n",
       "      <td>2</td>\n",
       "    </tr>\n",
       "    <tr>\n",
       "      <th>115</th>\n",
       "      <td>2016-w09</td>\n",
       "      <td>Sao Paulo</td>\n",
       "      <td>38</td>\n",
       "      <td>0.012187</td>\n",
       "      <td>29</td>\n",
       "    </tr>\n",
       "    <tr>\n",
       "      <th>116</th>\n",
       "      <td>2016-w09</td>\n",
       "      <td>Sergipe</td>\n",
       "      <td>3</td>\n",
       "      <td>0.000962</td>\n",
       "      <td>2</td>\n",
       "    </tr>\n",
       "    <tr>\n",
       "      <th>117</th>\n",
       "      <td>2016-w09</td>\n",
       "      <td>Tocantins</td>\n",
       "      <td>9</td>\n",
       "      <td>0.002886</td>\n",
       "      <td>7</td>\n",
       "    </tr>\n",
       "  </tbody>\n",
       "</table>\n",
       "<p>118 rows × 5 columns</p>\n",
       "</div>"
      ],
      "text/plain": [
       "    year_week    LocationName  group_size  proportion  sample_size\n",
       "0    2016-w05            Acre           1    0.000321            0\n",
       "1    2016-w05         Alagoas           3    0.000962            2\n",
       "2    2016-w05           Amapa           5    0.001604            3\n",
       "3    2016-w05        Amazonas          17    0.005452           13\n",
       "4    2016-w05           Bahia          41    0.013149           32\n",
       "..        ...             ...         ...         ...          ...\n",
       "113  2016-w09         Roraima           2    0.000641            1\n",
       "114  2016-w09  Santa Catarina           3    0.000962            2\n",
       "115  2016-w09       Sao Paulo          38    0.012187           29\n",
       "116  2016-w09         Sergipe           3    0.000962            2\n",
       "117  2016-w09       Tocantins           9    0.002886            7\n",
       "\n",
       "[118 rows x 5 columns]"
      ]
     },
     "execution_count": 22,
     "metadata": {},
     "output_type": "execute_result"
    }
   ],
   "source": [
    "# Step 3: Define the target sample size\n",
    "target_sample_size = 2450\n",
    "\n",
    "# Step 4: Calculate the sample size for each group (based on its proportion)\n",
    "group_sizes['sample_size'] = np.floor(group_sizes['proportion'] * target_sample_size).astype(int)\n",
    "group_sizes"
   ]
  },
  {
   "cell_type": "code",
   "execution_count": 23,
   "id": "a7b8b23f",
   "metadata": {},
   "outputs": [],
   "source": [
    "# Step 5: Merge this sample size information back to the original DataFrame\n",
    "df_2016_02_pos_sample_size = pd.merge(df_2016_02_pos, group_sizes[['year_week', 'LocationName', 'sample_size']], \n",
    "                               on=['year_week', 'LocationName'], how='left')"
   ]
  },
  {
   "cell_type": "code",
   "execution_count": 24,
   "id": "46c74cd1",
   "metadata": {},
   "outputs": [
    {
     "name": "stdout",
     "output_type": "stream",
     "text": [
      "Sampled 2392 rows.\n"
     ]
    }
   ],
   "source": [
    "# Step 6: Perform the stratified sampling\n",
    "df_2016_02_pos_sample = df_2016_02_pos_sample_size.groupby(['year_week', 'LocationName']).apply(\n",
    "    lambda group: group.sample(n=group['sample_size'].iloc[0], random_state=42)\n",
    ").reset_index(drop=True)\n",
    "\n",
    "# Step 7: Check the result\n",
    "print(f\"Sampled {len(df_2016_02_pos_sample)} rows.\")\n"
   ]
  },
  {
   "cell_type": "code",
   "execution_count": 25,
   "id": "80e9765e",
   "metadata": {},
   "outputs": [],
   "source": [
    "text_gpt_2016_02_pos = '\\n'.join(df_2016_02_pos_sample['text'].astype(str))"
   ]
  },
  {
   "cell_type": "markdown",
   "id": "b22f256e",
   "metadata": {},
   "source": [
    "### Prompts and loops"
   ]
  },
  {
   "cell_type": "code",
   "execution_count": 26,
   "id": "95c22639",
   "metadata": {},
   "outputs": [],
   "source": [
    "prompt_2 = prompt_raw.replace('TWEETS', text_gpt_2016_02_pos)"
   ]
  },
  {
   "cell_type": "code",
   "execution_count": 27,
   "id": "b172834e",
   "metadata": {
    "scrolled": false
   },
   "outputs": [],
   "source": [
    "response = openai.ChatCompletion.create(\n",
    "    model=\"gpt-4o-mini\",  \n",
    "    messages = [\n",
    "        {\"role\": \"user\", \"content\": prompt_2}\n",
    "    ],\n",
    "    max_tokens=400,  # Maximum number of tokens in the response\n",
    "    temperature=0.7  # Controls the randomness of the output\n",
    ")"
   ]
  },
  {
   "cell_type": "code",
   "execution_count": 28,
   "id": "86d7f1a3",
   "metadata": {},
   "outputs": [
    {
     "data": {
      "text/plain": [
       "'The excerpts discuss the urgent need for a vaccine against the Zika virus, highlighting efforts by Brazil and the United States to develop one. They mention partnerships with various laboratories and research institutions, including the Butantan Institute and the University of Texas. There are references to ongoing studies and the adaptation of existing dengue vaccines for Zika. Additionally, the texts caution against misinformation regarding vaccines and emphasize the importance of combating the Aedes aegypti mosquito while vaccine development is underway.'"
      ]
     },
     "execution_count": 28,
     "metadata": {},
     "output_type": "execute_result"
    }
   ],
   "source": [
    "response.choices[0].message.content"
   ]
  },
  {
   "cell_type": "code",
   "execution_count": 29,
   "id": "44a76dbb",
   "metadata": {},
   "outputs": [],
   "source": [
    "#summary = []\n",
    "#dataset = []"
   ]
  },
  {
   "cell_type": "code",
   "execution_count": 30,
   "id": "9da8b8a2",
   "metadata": {},
   "outputs": [],
   "source": [
    "dataset.append(\"2016_02_positive\")"
   ]
  },
  {
   "cell_type": "code",
   "execution_count": 31,
   "id": "4d33e327",
   "metadata": {},
   "outputs": [],
   "source": [
    "summary.append(response.choices[0].message.content)"
   ]
  },
  {
   "cell_type": "code",
   "execution_count": 32,
   "id": "725c0f71",
   "metadata": {
    "tags": []
   },
   "outputs": [
    {
     "name": "stdout",
     "output_type": "stream",
     "text": [
      "<class 'pandas.core.frame.DataFrame'>\n",
      "RangeIndex: 2 entries, 0 to 1\n",
      "Data columns (total 2 columns):\n",
      " #   Column   Non-Null Count  Dtype \n",
      "---  ------   --------------  ----- \n",
      " 0   dataset  2 non-null      object\n",
      " 1   summary  2 non-null      object\n",
      "dtypes: object(2)\n",
      "memory usage: 160.0+ bytes\n"
     ]
    }
   ],
   "source": [
    "df_2016_pos = pd.DataFrame(list(zip(dataset, summary)),\n",
    "                            columns = ['dataset', 'summary'])\n",
    "df_2016_pos.info()"
   ]
  },
  {
   "cell_type": "code",
   "execution_count": 33,
   "id": "90cdb4de",
   "metadata": {},
   "outputs": [
    {
     "data": {
      "text/html": [
       "<div>\n",
       "<style scoped>\n",
       "    .dataframe tbody tr th:only-of-type {\n",
       "        vertical-align: middle;\n",
       "    }\n",
       "\n",
       "    .dataframe tbody tr th {\n",
       "        vertical-align: top;\n",
       "    }\n",
       "\n",
       "    .dataframe thead th {\n",
       "        text-align: right;\n",
       "    }\n",
       "</style>\n",
       "<table border=\"1\" class=\"dataframe\">\n",
       "  <thead>\n",
       "    <tr style=\"text-align: right;\">\n",
       "      <th></th>\n",
       "      <th>dataset</th>\n",
       "      <th>summary</th>\n",
       "    </tr>\n",
       "  </thead>\n",
       "  <tbody>\n",
       "    <tr>\n",
       "      <th>0</th>\n",
       "      <td>2016_01_positive</td>\n",
       "      <td>The sentences discuss various aspects of vacci...</td>\n",
       "    </tr>\n",
       "    <tr>\n",
       "      <th>1</th>\n",
       "      <td>2016_02_positive</td>\n",
       "      <td>The excerpts discuss the urgent need for a vac...</td>\n",
       "    </tr>\n",
       "  </tbody>\n",
       "</table>\n",
       "</div>"
      ],
      "text/plain": [
       "            dataset                                            summary\n",
       "0  2016_01_positive  The sentences discuss various aspects of vacci...\n",
       "1  2016_02_positive  The excerpts discuss the urgent need for a vac..."
      ]
     },
     "execution_count": 33,
     "metadata": {},
     "output_type": "execute_result"
    }
   ],
   "source": [
    "df_2016_pos.tail(14)"
   ]
  },
  {
   "cell_type": "code",
   "execution_count": 34,
   "id": "8b79e3e6",
   "metadata": {},
   "outputs": [
    {
     "data": {
      "text/plain": [
       "<OpenAIObject chat.completion id=chatcmpl-AUcrXytBLGZcjYEFoz18J89Xv91od at 0x2107f2a5d10> JSON: {\n",
       "  \"choices\": [\n",
       "    {\n",
       "      \"finish_reason\": \"stop\",\n",
       "      \"index\": 0,\n",
       "      \"logprobs\": null,\n",
       "      \"message\": {\n",
       "        \"content\": \"The excerpts discuss the urgent need for a vaccine against the Zika virus, highlighting efforts by Brazil and the United States to develop one. They mention partnerships with various laboratories and research institutions, including the Butantan Institute and the University of Texas. There are references to ongoing studies and the adaptation of existing dengue vaccines for Zika. Additionally, the texts caution against misinformation regarding vaccines and emphasize the importance of combating the Aedes aegypti mosquito while vaccine development is underway.\",\n",
       "        \"refusal\": null,\n",
       "        \"role\": \"assistant\"\n",
       "      }\n",
       "    }\n",
       "  ],\n",
       "  \"created\": 1731862591,\n",
       "  \"id\": \"chatcmpl-AUcrXytBLGZcjYEFoz18J89Xv91od\",\n",
       "  \"model\": \"gpt-4o-mini-2024-07-18\",\n",
       "  \"object\": \"chat.completion\",\n",
       "  \"system_fingerprint\": \"fp_0ba0d124f1\",\n",
       "  \"usage\": {\n",
       "    \"completion_tokens\": 93,\n",
       "    \"completion_tokens_details\": {\n",
       "      \"accepted_prediction_tokens\": 0,\n",
       "      \"audio_tokens\": 0,\n",
       "      \"reasoning_tokens\": 0,\n",
       "      \"rejected_prediction_tokens\": 0\n",
       "    },\n",
       "    \"prompt_tokens\": 55284,\n",
       "    \"prompt_tokens_details\": {\n",
       "      \"audio_tokens\": 0,\n",
       "      \"cached_tokens\": 0\n",
       "    },\n",
       "    \"total_tokens\": 55377\n",
       "  }\n",
       "}"
      ]
     },
     "execution_count": 34,
     "metadata": {},
     "output_type": "execute_result"
    }
   ],
   "source": [
    "response"
   ]
  },
  {
   "cell_type": "markdown",
   "id": "83cfd4fe",
   "metadata": {},
   "source": [
    "## March"
   ]
  },
  {
   "cell_type": "code",
   "execution_count": 35,
   "id": "8aecef5f",
   "metadata": {
    "scrolled": true,
    "tags": []
   },
   "outputs": [
    {
     "name": "stdout",
     "output_type": "stream",
     "text": [
      "<class 'pandas.core.frame.DataFrame'>\n",
      "RangeIndex: 2567 entries, 0 to 2566\n",
      "Data columns (total 53 columns):\n",
      " #   Column                  Non-Null Count  Dtype  \n",
      "---  ------                  --------------  -----  \n",
      " 0   index                   2567 non-null   int64  \n",
      " 1   LocationCode            2567 non-null   object \n",
      " 2   LocationName            2567 non-null   object \n",
      " 3   StatesCode              2567 non-null   object \n",
      " 4   ...4                    2567 non-null   int64  \n",
      " 5   id                      2567 non-null   float64\n",
      " 6   text                    2567 non-null   object \n",
      " 7   label                   2567 non-null   object \n",
      " 8   in_reply_to_status_id   95 non-null     float64\n",
      " 9   in_reply_to_user_id     105 non-null    float64\n",
      " 10  quoted_user_id          37 non-null     float64\n",
      " 11  quoted_status_id        37 non-null     float64\n",
      " 12  retweeted_user_id       1022 non-null   float64\n",
      " 13  retweeted_status_id     1022 non-null   float64\n",
      " 14  created_at              2567 non-null   object \n",
      " 15  entities.user_mentions  1227 non-null   object \n",
      " 16  user.id                 2567 non-null   float64\n",
      " 17  user.screen_name        2567 non-null   object \n",
      " 18  user.name               2567 non-null   object \n",
      " 19  user.description        2174 non-null   object \n",
      " 20  user.timezone           0 non-null      float64\n",
      " 21  user.location           2548 non-null   object \n",
      " 22  user.num_followers      2567 non-null   int64  \n",
      " 23  user.num_following      2567 non-null   int64  \n",
      " 24  user.created_at         2567 non-null   object \n",
      " 25  user.statuses_count     2567 non-null   int64  \n",
      " 26  user.is_verified        2567 non-null   bool   \n",
      " 27  lang                    2567 non-null   object \n",
      " 28  token_count             2567 non-null   int64  \n",
      " 29  is_retweet              2567 non-null   bool   \n",
      " 30  has_quote               2567 non-null   bool   \n",
      " 31  is_reply                2567 non-null   bool   \n",
      " 32  contains_keywords       2567 non-null   bool   \n",
      " 33  longitude               2567 non-null   float64\n",
      " 34  latitude                2567 non-null   float64\n",
      " 35  country_code            2567 non-null   object \n",
      " 36  geoname_id              2477 non-null   float64\n",
      " 37  location_type           2567 non-null   object \n",
      " 38  geo_type                2567 non-null   int64  \n",
      " 39  region                  2567 non-null   object \n",
      " 40  subregion               2567 non-null   object \n",
      " 41  num_quotes              2567 non-null   int64  \n",
      " 42  num_replies             2567 non-null   int64  \n",
      " 43  num_retweets            2567 non-null   int64  \n",
      " 44  sent_gpt                2567 non-null   object \n",
      " 45  gpt_sent_presence       2567 non-null   int64  \n",
      " 46  cleaned_text_lem        2567 non-null   object \n",
      " 47  cleaned_text            2567 non-null   object \n",
      " 48  month                   2567 non-null   int64  \n",
      " 49  year                    2567 non-null   int64  \n",
      " 50  week                    2567 non-null   int64  \n",
      " 51  year_month              2567 non-null   object \n",
      " 52  year_week               2567 non-null   object \n",
      "dtypes: bool(5), float64(12), int64(14), object(22)\n",
      "memory usage: 975.3+ KB\n"
     ]
    }
   ],
   "source": [
    "# Get monthly data\n",
    "df_2016_03_pos = pd.read_csv('../data/local/df_pos_2016-03.csv').reset_index()\n",
    "df_2016_03_pos.info()"
   ]
  },
  {
   "cell_type": "markdown",
   "id": "9d8793b8",
   "metadata": {},
   "source": [
    "### Representative sample based on week and location"
   ]
  },
  {
   "cell_type": "code",
   "execution_count": 36,
   "id": "849b56c5",
   "metadata": {},
   "outputs": [
    {
     "data": {
      "text/html": [
       "<div>\n",
       "<style scoped>\n",
       "    .dataframe tbody tr th:only-of-type {\n",
       "        vertical-align: middle;\n",
       "    }\n",
       "\n",
       "    .dataframe tbody tr th {\n",
       "        vertical-align: top;\n",
       "    }\n",
       "\n",
       "    .dataframe thead th {\n",
       "        text-align: right;\n",
       "    }\n",
       "</style>\n",
       "<table border=\"1\" class=\"dataframe\">\n",
       "  <thead>\n",
       "    <tr style=\"text-align: right;\">\n",
       "      <th></th>\n",
       "      <th>year_week</th>\n",
       "      <th>LocationName</th>\n",
       "      <th>group_size</th>\n",
       "      <th>proportion</th>\n",
       "    </tr>\n",
       "  </thead>\n",
       "  <tbody>\n",
       "    <tr>\n",
       "      <th>0</th>\n",
       "      <td>2016-w09</td>\n",
       "      <td>Acre</td>\n",
       "      <td>1</td>\n",
       "      <td>0.000390</td>\n",
       "    </tr>\n",
       "    <tr>\n",
       "      <th>1</th>\n",
       "      <td>2016-w09</td>\n",
       "      <td>Alagoas</td>\n",
       "      <td>3</td>\n",
       "      <td>0.001169</td>\n",
       "    </tr>\n",
       "    <tr>\n",
       "      <th>2</th>\n",
       "      <td>2016-w09</td>\n",
       "      <td>Amapa</td>\n",
       "      <td>3</td>\n",
       "      <td>0.001169</td>\n",
       "    </tr>\n",
       "    <tr>\n",
       "      <th>3</th>\n",
       "      <td>2016-w09</td>\n",
       "      <td>Amazonas</td>\n",
       "      <td>4</td>\n",
       "      <td>0.001558</td>\n",
       "    </tr>\n",
       "    <tr>\n",
       "      <th>4</th>\n",
       "      <td>2016-w09</td>\n",
       "      <td>Bahia</td>\n",
       "      <td>15</td>\n",
       "      <td>0.005843</td>\n",
       "    </tr>\n",
       "    <tr>\n",
       "      <th>...</th>\n",
       "      <td>...</td>\n",
       "      <td>...</td>\n",
       "      <td>...</td>\n",
       "      <td>...</td>\n",
       "    </tr>\n",
       "    <tr>\n",
       "      <th>108</th>\n",
       "      <td>2016-w13</td>\n",
       "      <td>Roraima</td>\n",
       "      <td>2</td>\n",
       "      <td>0.000779</td>\n",
       "    </tr>\n",
       "    <tr>\n",
       "      <th>109</th>\n",
       "      <td>2016-w13</td>\n",
       "      <td>Santa Catarina</td>\n",
       "      <td>18</td>\n",
       "      <td>0.007012</td>\n",
       "    </tr>\n",
       "    <tr>\n",
       "      <th>110</th>\n",
       "      <td>2016-w13</td>\n",
       "      <td>Sao Paulo</td>\n",
       "      <td>144</td>\n",
       "      <td>0.056097</td>\n",
       "    </tr>\n",
       "    <tr>\n",
       "      <th>111</th>\n",
       "      <td>2016-w13</td>\n",
       "      <td>Sergipe</td>\n",
       "      <td>9</td>\n",
       "      <td>0.003506</td>\n",
       "    </tr>\n",
       "    <tr>\n",
       "      <th>112</th>\n",
       "      <td>2016-w13</td>\n",
       "      <td>Tocantins</td>\n",
       "      <td>2</td>\n",
       "      <td>0.000779</td>\n",
       "    </tr>\n",
       "  </tbody>\n",
       "</table>\n",
       "<p>113 rows × 4 columns</p>\n",
       "</div>"
      ],
      "text/plain": [
       "    year_week    LocationName  group_size  proportion\n",
       "0    2016-w09            Acre           1    0.000390\n",
       "1    2016-w09         Alagoas           3    0.001169\n",
       "2    2016-w09           Amapa           3    0.001169\n",
       "3    2016-w09        Amazonas           4    0.001558\n",
       "4    2016-w09           Bahia          15    0.005843\n",
       "..        ...             ...         ...         ...\n",
       "108  2016-w13         Roraima           2    0.000779\n",
       "109  2016-w13  Santa Catarina          18    0.007012\n",
       "110  2016-w13       Sao Paulo         144    0.056097\n",
       "111  2016-w13         Sergipe           9    0.003506\n",
       "112  2016-w13       Tocantins           2    0.000779\n",
       "\n",
       "[113 rows x 4 columns]"
      ]
     },
     "execution_count": 36,
     "metadata": {},
     "output_type": "execute_result"
    }
   ],
   "source": [
    "# Step 1: Calculate the size of each group (year_week, LocationName)\n",
    "group_sizes = df_2016_03_pos.groupby(['year_week', 'LocationName']).size().reset_index(name='group_size')\n",
    "\n",
    "# Step 2: Calculate the proportion of each group in the dataset\n",
    "total_rows = len(df_2016_03_pos)\n",
    "group_sizes['proportion'] = group_sizes['group_size'] / total_rows\n",
    "group_sizes"
   ]
  },
  {
   "cell_type": "code",
   "execution_count": 37,
   "id": "aef8698d",
   "metadata": {},
   "outputs": [
    {
     "data": {
      "text/html": [
       "<div>\n",
       "<style scoped>\n",
       "    .dataframe tbody tr th:only-of-type {\n",
       "        vertical-align: middle;\n",
       "    }\n",
       "\n",
       "    .dataframe tbody tr th {\n",
       "        vertical-align: top;\n",
       "    }\n",
       "\n",
       "    .dataframe thead th {\n",
       "        text-align: right;\n",
       "    }\n",
       "</style>\n",
       "<table border=\"1\" class=\"dataframe\">\n",
       "  <thead>\n",
       "    <tr style=\"text-align: right;\">\n",
       "      <th></th>\n",
       "      <th>year_week</th>\n",
       "      <th>LocationName</th>\n",
       "      <th>group_size</th>\n",
       "      <th>proportion</th>\n",
       "      <th>sample_size</th>\n",
       "    </tr>\n",
       "  </thead>\n",
       "  <tbody>\n",
       "    <tr>\n",
       "      <th>0</th>\n",
       "      <td>2016-w09</td>\n",
       "      <td>Acre</td>\n",
       "      <td>1</td>\n",
       "      <td>0.000390</td>\n",
       "      <td>0</td>\n",
       "    </tr>\n",
       "    <tr>\n",
       "      <th>1</th>\n",
       "      <td>2016-w09</td>\n",
       "      <td>Alagoas</td>\n",
       "      <td>3</td>\n",
       "      <td>0.001169</td>\n",
       "      <td>2</td>\n",
       "    </tr>\n",
       "    <tr>\n",
       "      <th>2</th>\n",
       "      <td>2016-w09</td>\n",
       "      <td>Amapa</td>\n",
       "      <td>3</td>\n",
       "      <td>0.001169</td>\n",
       "      <td>2</td>\n",
       "    </tr>\n",
       "    <tr>\n",
       "      <th>3</th>\n",
       "      <td>2016-w09</td>\n",
       "      <td>Amazonas</td>\n",
       "      <td>4</td>\n",
       "      <td>0.001558</td>\n",
       "      <td>3</td>\n",
       "    </tr>\n",
       "    <tr>\n",
       "      <th>4</th>\n",
       "      <td>2016-w09</td>\n",
       "      <td>Bahia</td>\n",
       "      <td>15</td>\n",
       "      <td>0.005843</td>\n",
       "      <td>14</td>\n",
       "    </tr>\n",
       "    <tr>\n",
       "      <th>...</th>\n",
       "      <td>...</td>\n",
       "      <td>...</td>\n",
       "      <td>...</td>\n",
       "      <td>...</td>\n",
       "      <td>...</td>\n",
       "    </tr>\n",
       "    <tr>\n",
       "      <th>108</th>\n",
       "      <td>2016-w13</td>\n",
       "      <td>Roraima</td>\n",
       "      <td>2</td>\n",
       "      <td>0.000779</td>\n",
       "      <td>1</td>\n",
       "    </tr>\n",
       "    <tr>\n",
       "      <th>109</th>\n",
       "      <td>2016-w13</td>\n",
       "      <td>Santa Catarina</td>\n",
       "      <td>18</td>\n",
       "      <td>0.007012</td>\n",
       "      <td>17</td>\n",
       "    </tr>\n",
       "    <tr>\n",
       "      <th>110</th>\n",
       "      <td>2016-w13</td>\n",
       "      <td>Sao Paulo</td>\n",
       "      <td>144</td>\n",
       "      <td>0.056097</td>\n",
       "      <td>137</td>\n",
       "    </tr>\n",
       "    <tr>\n",
       "      <th>111</th>\n",
       "      <td>2016-w13</td>\n",
       "      <td>Sergipe</td>\n",
       "      <td>9</td>\n",
       "      <td>0.003506</td>\n",
       "      <td>8</td>\n",
       "    </tr>\n",
       "    <tr>\n",
       "      <th>112</th>\n",
       "      <td>2016-w13</td>\n",
       "      <td>Tocantins</td>\n",
       "      <td>2</td>\n",
       "      <td>0.000779</td>\n",
       "      <td>1</td>\n",
       "    </tr>\n",
       "  </tbody>\n",
       "</table>\n",
       "<p>113 rows × 5 columns</p>\n",
       "</div>"
      ],
      "text/plain": [
       "    year_week    LocationName  group_size  proportion  sample_size\n",
       "0    2016-w09            Acre           1    0.000390            0\n",
       "1    2016-w09         Alagoas           3    0.001169            2\n",
       "2    2016-w09           Amapa           3    0.001169            2\n",
       "3    2016-w09        Amazonas           4    0.001558            3\n",
       "4    2016-w09           Bahia          15    0.005843           14\n",
       "..        ...             ...         ...         ...          ...\n",
       "108  2016-w13         Roraima           2    0.000779            1\n",
       "109  2016-w13  Santa Catarina          18    0.007012           17\n",
       "110  2016-w13       Sao Paulo         144    0.056097          137\n",
       "111  2016-w13         Sergipe           9    0.003506            8\n",
       "112  2016-w13       Tocantins           2    0.000779            1\n",
       "\n",
       "[113 rows x 5 columns]"
      ]
     },
     "execution_count": 37,
     "metadata": {},
     "output_type": "execute_result"
    }
   ],
   "source": [
    "# Step 3: Define the target sample size\n",
    "target_sample_size = 2450\n",
    "\n",
    "# Step 4: Calculate the sample size for each group (based on its proportion)\n",
    "group_sizes['sample_size'] = np.floor(group_sizes['proportion'] * target_sample_size).astype(int)\n",
    "group_sizes"
   ]
  },
  {
   "cell_type": "code",
   "execution_count": 38,
   "id": "64497bce",
   "metadata": {},
   "outputs": [],
   "source": [
    "# Step 5: Merge this sample size information back to the original DataFrame\n",
    "df_2016_03_pos_sample_size = pd.merge(df_2016_03_pos, group_sizes[['year_week', 'LocationName', 'sample_size']], \n",
    "                               on=['year_week', 'LocationName'], how='left')"
   ]
  },
  {
   "cell_type": "code",
   "execution_count": 39,
   "id": "b66deaed",
   "metadata": {},
   "outputs": [
    {
     "name": "stdout",
     "output_type": "stream",
     "text": [
      "Sampled 2375 rows.\n"
     ]
    }
   ],
   "source": [
    "# Step 6: Perform the stratified sampling\n",
    "df_2016_03_pos_sample = df_2016_03_pos_sample_size.groupby(['year_week', 'LocationName']).apply(\n",
    "    lambda group: group.sample(n=group['sample_size'].iloc[0], random_state=42)\n",
    ").reset_index(drop=True)\n",
    "\n",
    "# Step 7: Check the result\n",
    "print(f\"Sampled {len(df_2016_03_pos_sample)} rows.\")\n"
   ]
  },
  {
   "cell_type": "code",
   "execution_count": 40,
   "id": "cacd5bfb",
   "metadata": {},
   "outputs": [],
   "source": [
    "text_gpt_2016_03_pos = '\\n'.join(df_2016_03_pos_sample['text'].astype(str))"
   ]
  },
  {
   "cell_type": "markdown",
   "id": "677054ce",
   "metadata": {},
   "source": [
    "### Prompts and loops"
   ]
  },
  {
   "cell_type": "code",
   "execution_count": 41,
   "id": "3e74eba3",
   "metadata": {},
   "outputs": [],
   "source": [
    "prompt_3 = prompt_raw.replace('TWEETS', text_gpt_2016_03_pos)"
   ]
  },
  {
   "cell_type": "code",
   "execution_count": 42,
   "id": "709224ed",
   "metadata": {
    "scrolled": false
   },
   "outputs": [],
   "source": [
    "response = openai.ChatCompletion.create(\n",
    "    model=\"gpt-4o-mini\",  \n",
    "    messages = [\n",
    "        {\"role\": \"user\", \"content\": prompt_3}\n",
    "    ],\n",
    "    max_tokens=400,  # Maximum number of tokens in the response\n",
    "    temperature=0.7  # Controls the randomness of the output\n",
    ")"
   ]
  },
  {
   "cell_type": "code",
   "execution_count": 43,
   "id": "b8776166",
   "metadata": {},
   "outputs": [
    {
     "data": {
      "text/plain": [
       "'In Brazil, there is a strong emphasis on vaccination, particularly against HPV for boys and girls aged 9 to 13, as advocated by a Nobel Prize-winning doctor. Additionally, campaigns for rabies vaccination in pets and national initiatives against diseases like dengue and H1N1 are underway. Vaccination is highlighted as crucial for public health, with ongoing efforts to enhance awareness and accessibility.'"
      ]
     },
     "execution_count": 43,
     "metadata": {},
     "output_type": "execute_result"
    }
   ],
   "source": [
    "response.choices[0].message.content"
   ]
  },
  {
   "cell_type": "code",
   "execution_count": 44,
   "id": "f03966cf",
   "metadata": {},
   "outputs": [],
   "source": [
    "#summary = []\n",
    "#dataset = []"
   ]
  },
  {
   "cell_type": "code",
   "execution_count": 45,
   "id": "bde868f6",
   "metadata": {},
   "outputs": [],
   "source": [
    "dataset.append(\"2016_03_positive\")"
   ]
  },
  {
   "cell_type": "code",
   "execution_count": 46,
   "id": "7a940cb2",
   "metadata": {},
   "outputs": [],
   "source": [
    "summary.append(response.choices[0].message.content)"
   ]
  },
  {
   "cell_type": "code",
   "execution_count": 47,
   "id": "fdf1b907",
   "metadata": {
    "tags": []
   },
   "outputs": [
    {
     "name": "stdout",
     "output_type": "stream",
     "text": [
      "<class 'pandas.core.frame.DataFrame'>\n",
      "RangeIndex: 3 entries, 0 to 2\n",
      "Data columns (total 2 columns):\n",
      " #   Column   Non-Null Count  Dtype \n",
      "---  ------   --------------  ----- \n",
      " 0   dataset  3 non-null      object\n",
      " 1   summary  3 non-null      object\n",
      "dtypes: object(2)\n",
      "memory usage: 176.0+ bytes\n"
     ]
    }
   ],
   "source": [
    "df_2016_pos = pd.DataFrame(list(zip(dataset, summary)),\n",
    "                            columns = ['dataset', 'summary'])\n",
    "df_2016_pos.info()"
   ]
  },
  {
   "cell_type": "code",
   "execution_count": 48,
   "id": "b44227e1",
   "metadata": {},
   "outputs": [
    {
     "data": {
      "text/html": [
       "<div>\n",
       "<style scoped>\n",
       "    .dataframe tbody tr th:only-of-type {\n",
       "        vertical-align: middle;\n",
       "    }\n",
       "\n",
       "    .dataframe tbody tr th {\n",
       "        vertical-align: top;\n",
       "    }\n",
       "\n",
       "    .dataframe thead th {\n",
       "        text-align: right;\n",
       "    }\n",
       "</style>\n",
       "<table border=\"1\" class=\"dataframe\">\n",
       "  <thead>\n",
       "    <tr style=\"text-align: right;\">\n",
       "      <th></th>\n",
       "      <th>dataset</th>\n",
       "      <th>summary</th>\n",
       "    </tr>\n",
       "  </thead>\n",
       "  <tbody>\n",
       "    <tr>\n",
       "      <th>0</th>\n",
       "      <td>2016_01_positive</td>\n",
       "      <td>The sentences discuss various aspects of vacci...</td>\n",
       "    </tr>\n",
       "    <tr>\n",
       "      <th>1</th>\n",
       "      <td>2016_02_positive</td>\n",
       "      <td>The excerpts discuss the urgent need for a vac...</td>\n",
       "    </tr>\n",
       "    <tr>\n",
       "      <th>2</th>\n",
       "      <td>2016_03_positive</td>\n",
       "      <td>In Brazil, there is a strong emphasis on vacci...</td>\n",
       "    </tr>\n",
       "  </tbody>\n",
       "</table>\n",
       "</div>"
      ],
      "text/plain": [
       "            dataset                                            summary\n",
       "0  2016_01_positive  The sentences discuss various aspects of vacci...\n",
       "1  2016_02_positive  The excerpts discuss the urgent need for a vac...\n",
       "2  2016_03_positive  In Brazil, there is a strong emphasis on vacci..."
      ]
     },
     "execution_count": 48,
     "metadata": {},
     "output_type": "execute_result"
    }
   ],
   "source": [
    "df_2016_pos.tail(14)"
   ]
  },
  {
   "cell_type": "code",
   "execution_count": 49,
   "id": "8528ad17",
   "metadata": {},
   "outputs": [
    {
     "data": {
      "text/plain": [
       "<OpenAIObject chat.completion id=chatcmpl-AUcrdQl7qWhX9GOlwYxSj3vLF4JrA at 0x2107f2a5e50> JSON: {\n",
       "  \"choices\": [\n",
       "    {\n",
       "      \"finish_reason\": \"stop\",\n",
       "      \"index\": 0,\n",
       "      \"logprobs\": null,\n",
       "      \"message\": {\n",
       "        \"content\": \"In Brazil, there is a strong emphasis on vaccination, particularly against HPV for boys and girls aged 9 to 13, as advocated by a Nobel Prize-winning doctor. Additionally, campaigns for rabies vaccination in pets and national initiatives against diseases like dengue and H1N1 are underway. Vaccination is highlighted as crucial for public health, with ongoing efforts to enhance awareness and accessibility.\",\n",
       "        \"refusal\": null,\n",
       "        \"role\": \"assistant\"\n",
       "      }\n",
       "    }\n",
       "  ],\n",
       "  \"created\": 1731862597,\n",
       "  \"id\": \"chatcmpl-AUcrdQl7qWhX9GOlwYxSj3vLF4JrA\",\n",
       "  \"model\": \"gpt-4o-mini-2024-07-18\",\n",
       "  \"object\": \"chat.completion\",\n",
       "  \"system_fingerprint\": \"fp_0ba0d124f1\",\n",
       "  \"usage\": {\n",
       "    \"completion_tokens\": 77,\n",
       "    \"completion_tokens_details\": {\n",
       "      \"accepted_prediction_tokens\": 0,\n",
       "      \"audio_tokens\": 0,\n",
       "      \"reasoning_tokens\": 0,\n",
       "      \"rejected_prediction_tokens\": 0\n",
       "    },\n",
       "    \"prompt_tokens\": 51534,\n",
       "    \"prompt_tokens_details\": {\n",
       "      \"audio_tokens\": 0,\n",
       "      \"cached_tokens\": 0\n",
       "    },\n",
       "    \"total_tokens\": 51611\n",
       "  }\n",
       "}"
      ]
     },
     "execution_count": 49,
     "metadata": {},
     "output_type": "execute_result"
    }
   ],
   "source": [
    "response"
   ]
  },
  {
   "cell_type": "markdown",
   "id": "a57159e2",
   "metadata": {},
   "source": [
    "## April"
   ]
  },
  {
   "cell_type": "code",
   "execution_count": 50,
   "id": "b84f949f",
   "metadata": {
    "scrolled": true,
    "tags": []
   },
   "outputs": [
    {
     "name": "stdout",
     "output_type": "stream",
     "text": [
      "<class 'pandas.core.frame.DataFrame'>\n",
      "RangeIndex: 5617 entries, 0 to 5616\n",
      "Data columns (total 53 columns):\n",
      " #   Column                  Non-Null Count  Dtype  \n",
      "---  ------                  --------------  -----  \n",
      " 0   index                   5617 non-null   int64  \n",
      " 1   LocationCode            5617 non-null   object \n",
      " 2   LocationName            5617 non-null   object \n",
      " 3   StatesCode              5617 non-null   object \n",
      " 4   ...4                    5617 non-null   int64  \n",
      " 5   id                      5617 non-null   float64\n",
      " 6   text                    5617 non-null   object \n",
      " 7   label                   5617 non-null   object \n",
      " 8   in_reply_to_status_id   245 non-null    float64\n",
      " 9   in_reply_to_user_id     314 non-null    float64\n",
      " 10  quoted_user_id          62 non-null     float64\n",
      " 11  quoted_status_id        62 non-null     float64\n",
      " 12  retweeted_user_id       1252 non-null   float64\n",
      " 13  retweeted_status_id     1252 non-null   float64\n",
      " 14  created_at              5617 non-null   object \n",
      " 15  entities.user_mentions  1975 non-null   object \n",
      " 16  user.id                 5617 non-null   float64\n",
      " 17  user.screen_name        5617 non-null   object \n",
      " 18  user.name               5617 non-null   object \n",
      " 19  user.description        4872 non-null   object \n",
      " 20  user.timezone           0 non-null      float64\n",
      " 21  user.location           5553 non-null   object \n",
      " 22  user.num_followers      5617 non-null   int64  \n",
      " 23  user.num_following      5617 non-null   int64  \n",
      " 24  user.created_at         5617 non-null   object \n",
      " 25  user.statuses_count     5617 non-null   int64  \n",
      " 26  user.is_verified        5617 non-null   bool   \n",
      " 27  lang                    5617 non-null   object \n",
      " 28  token_count             5617 non-null   int64  \n",
      " 29  is_retweet              5617 non-null   bool   \n",
      " 30  has_quote               5617 non-null   bool   \n",
      " 31  is_reply                5617 non-null   bool   \n",
      " 32  contains_keywords       5617 non-null   bool   \n",
      " 33  longitude               5617 non-null   float64\n",
      " 34  latitude                5617 non-null   float64\n",
      " 35  country_code            5617 non-null   object \n",
      " 36  geoname_id              5290 non-null   float64\n",
      " 37  location_type           5617 non-null   object \n",
      " 38  geo_type                5617 non-null   int64  \n",
      " 39  region                  5617 non-null   object \n",
      " 40  subregion               5617 non-null   object \n",
      " 41  num_quotes              5617 non-null   int64  \n",
      " 42  num_replies             5617 non-null   int64  \n",
      " 43  num_retweets            5617 non-null   int64  \n",
      " 44  sent_gpt                5617 non-null   object \n",
      " 45  gpt_sent_presence       5617 non-null   int64  \n",
      " 46  cleaned_text_lem        5617 non-null   object \n",
      " 47  cleaned_text            5617 non-null   object \n",
      " 48  month                   5617 non-null   int64  \n",
      " 49  year                    5617 non-null   int64  \n",
      " 50  week                    5617 non-null   int64  \n",
      " 51  year_month              5617 non-null   object \n",
      " 52  year_week               5617 non-null   object \n",
      "dtypes: bool(5), float64(12), int64(14), object(22)\n",
      "memory usage: 2.1+ MB\n"
     ]
    }
   ],
   "source": [
    "# Get monthly data\n",
    "df_2016_04_pos = pd.read_csv('../data/local/df_pos_2016-04.csv').reset_index()\n",
    "df_2016_04_pos.info()"
   ]
  },
  {
   "cell_type": "markdown",
   "id": "66b76111",
   "metadata": {},
   "source": [
    "### Representative sample based on week and location"
   ]
  },
  {
   "cell_type": "code",
   "execution_count": 51,
   "id": "e2923a82",
   "metadata": {},
   "outputs": [
    {
     "data": {
      "text/html": [
       "<div>\n",
       "<style scoped>\n",
       "    .dataframe tbody tr th:only-of-type {\n",
       "        vertical-align: middle;\n",
       "    }\n",
       "\n",
       "    .dataframe tbody tr th {\n",
       "        vertical-align: top;\n",
       "    }\n",
       "\n",
       "    .dataframe thead th {\n",
       "        text-align: right;\n",
       "    }\n",
       "</style>\n",
       "<table border=\"1\" class=\"dataframe\">\n",
       "  <thead>\n",
       "    <tr style=\"text-align: right;\">\n",
       "      <th></th>\n",
       "      <th>year_week</th>\n",
       "      <th>LocationName</th>\n",
       "      <th>group_size</th>\n",
       "      <th>proportion</th>\n",
       "    </tr>\n",
       "  </thead>\n",
       "  <tbody>\n",
       "    <tr>\n",
       "      <th>0</th>\n",
       "      <td>2016-w14</td>\n",
       "      <td>Acre</td>\n",
       "      <td>2</td>\n",
       "      <td>0.000356</td>\n",
       "    </tr>\n",
       "    <tr>\n",
       "      <th>1</th>\n",
       "      <td>2016-w14</td>\n",
       "      <td>Alagoas</td>\n",
       "      <td>14</td>\n",
       "      <td>0.002492</td>\n",
       "    </tr>\n",
       "    <tr>\n",
       "      <th>2</th>\n",
       "      <td>2016-w14</td>\n",
       "      <td>Amapa</td>\n",
       "      <td>17</td>\n",
       "      <td>0.003027</td>\n",
       "    </tr>\n",
       "    <tr>\n",
       "      <th>3</th>\n",
       "      <td>2016-w14</td>\n",
       "      <td>Amazonas</td>\n",
       "      <td>23</td>\n",
       "      <td>0.004095</td>\n",
       "    </tr>\n",
       "    <tr>\n",
       "      <th>4</th>\n",
       "      <td>2016-w14</td>\n",
       "      <td>Bahia</td>\n",
       "      <td>58</td>\n",
       "      <td>0.010326</td>\n",
       "    </tr>\n",
       "    <tr>\n",
       "      <th>...</th>\n",
       "      <td>...</td>\n",
       "      <td>...</td>\n",
       "      <td>...</td>\n",
       "      <td>...</td>\n",
       "    </tr>\n",
       "    <tr>\n",
       "      <th>123</th>\n",
       "      <td>2016-w18</td>\n",
       "      <td>Roraima</td>\n",
       "      <td>2</td>\n",
       "      <td>0.000356</td>\n",
       "    </tr>\n",
       "    <tr>\n",
       "      <th>124</th>\n",
       "      <td>2016-w18</td>\n",
       "      <td>Santa Catarina</td>\n",
       "      <td>22</td>\n",
       "      <td>0.003917</td>\n",
       "    </tr>\n",
       "    <tr>\n",
       "      <th>125</th>\n",
       "      <td>2016-w18</td>\n",
       "      <td>Sao Paulo</td>\n",
       "      <td>100</td>\n",
       "      <td>0.017803</td>\n",
       "    </tr>\n",
       "    <tr>\n",
       "      <th>126</th>\n",
       "      <td>2016-w18</td>\n",
       "      <td>Sergipe</td>\n",
       "      <td>12</td>\n",
       "      <td>0.002136</td>\n",
       "    </tr>\n",
       "    <tr>\n",
       "      <th>127</th>\n",
       "      <td>2016-w18</td>\n",
       "      <td>Tocantins</td>\n",
       "      <td>2</td>\n",
       "      <td>0.000356</td>\n",
       "    </tr>\n",
       "  </tbody>\n",
       "</table>\n",
       "<p>128 rows × 4 columns</p>\n",
       "</div>"
      ],
      "text/plain": [
       "    year_week    LocationName  group_size  proportion\n",
       "0    2016-w14            Acre           2    0.000356\n",
       "1    2016-w14         Alagoas          14    0.002492\n",
       "2    2016-w14           Amapa          17    0.003027\n",
       "3    2016-w14        Amazonas          23    0.004095\n",
       "4    2016-w14           Bahia          58    0.010326\n",
       "..        ...             ...         ...         ...\n",
       "123  2016-w18         Roraima           2    0.000356\n",
       "124  2016-w18  Santa Catarina          22    0.003917\n",
       "125  2016-w18       Sao Paulo         100    0.017803\n",
       "126  2016-w18         Sergipe          12    0.002136\n",
       "127  2016-w18       Tocantins           2    0.000356\n",
       "\n",
       "[128 rows x 4 columns]"
      ]
     },
     "execution_count": 51,
     "metadata": {},
     "output_type": "execute_result"
    }
   ],
   "source": [
    "# Step 1: Calculate the size of each group (year_week, LocationName)\n",
    "group_sizes = df_2016_04_pos.groupby(['year_week', 'LocationName']).size().reset_index(name='group_size')\n",
    "\n",
    "# Step 2: Calculate the proportion of each group in the dataset\n",
    "total_rows = len(df_2016_04_pos)\n",
    "group_sizes['proportion'] = group_sizes['group_size'] / total_rows\n",
    "group_sizes"
   ]
  },
  {
   "cell_type": "code",
   "execution_count": 52,
   "id": "5e52798c",
   "metadata": {},
   "outputs": [
    {
     "data": {
      "text/html": [
       "<div>\n",
       "<style scoped>\n",
       "    .dataframe tbody tr th:only-of-type {\n",
       "        vertical-align: middle;\n",
       "    }\n",
       "\n",
       "    .dataframe tbody tr th {\n",
       "        vertical-align: top;\n",
       "    }\n",
       "\n",
       "    .dataframe thead th {\n",
       "        text-align: right;\n",
       "    }\n",
       "</style>\n",
       "<table border=\"1\" class=\"dataframe\">\n",
       "  <thead>\n",
       "    <tr style=\"text-align: right;\">\n",
       "      <th></th>\n",
       "      <th>year_week</th>\n",
       "      <th>LocationName</th>\n",
       "      <th>group_size</th>\n",
       "      <th>proportion</th>\n",
       "      <th>sample_size</th>\n",
       "    </tr>\n",
       "  </thead>\n",
       "  <tbody>\n",
       "    <tr>\n",
       "      <th>0</th>\n",
       "      <td>2016-w14</td>\n",
       "      <td>Acre</td>\n",
       "      <td>2</td>\n",
       "      <td>0.000356</td>\n",
       "      <td>0</td>\n",
       "    </tr>\n",
       "    <tr>\n",
       "      <th>1</th>\n",
       "      <td>2016-w14</td>\n",
       "      <td>Alagoas</td>\n",
       "      <td>14</td>\n",
       "      <td>0.002492</td>\n",
       "      <td>6</td>\n",
       "    </tr>\n",
       "    <tr>\n",
       "      <th>2</th>\n",
       "      <td>2016-w14</td>\n",
       "      <td>Amapa</td>\n",
       "      <td>17</td>\n",
       "      <td>0.003027</td>\n",
       "      <td>7</td>\n",
       "    </tr>\n",
       "    <tr>\n",
       "      <th>3</th>\n",
       "      <td>2016-w14</td>\n",
       "      <td>Amazonas</td>\n",
       "      <td>23</td>\n",
       "      <td>0.004095</td>\n",
       "      <td>10</td>\n",
       "    </tr>\n",
       "    <tr>\n",
       "      <th>4</th>\n",
       "      <td>2016-w14</td>\n",
       "      <td>Bahia</td>\n",
       "      <td>58</td>\n",
       "      <td>0.010326</td>\n",
       "      <td>25</td>\n",
       "    </tr>\n",
       "    <tr>\n",
       "      <th>...</th>\n",
       "      <td>...</td>\n",
       "      <td>...</td>\n",
       "      <td>...</td>\n",
       "      <td>...</td>\n",
       "      <td>...</td>\n",
       "    </tr>\n",
       "    <tr>\n",
       "      <th>123</th>\n",
       "      <td>2016-w18</td>\n",
       "      <td>Roraima</td>\n",
       "      <td>2</td>\n",
       "      <td>0.000356</td>\n",
       "      <td>0</td>\n",
       "    </tr>\n",
       "    <tr>\n",
       "      <th>124</th>\n",
       "      <td>2016-w18</td>\n",
       "      <td>Santa Catarina</td>\n",
       "      <td>22</td>\n",
       "      <td>0.003917</td>\n",
       "      <td>9</td>\n",
       "    </tr>\n",
       "    <tr>\n",
       "      <th>125</th>\n",
       "      <td>2016-w18</td>\n",
       "      <td>Sao Paulo</td>\n",
       "      <td>100</td>\n",
       "      <td>0.017803</td>\n",
       "      <td>43</td>\n",
       "    </tr>\n",
       "    <tr>\n",
       "      <th>126</th>\n",
       "      <td>2016-w18</td>\n",
       "      <td>Sergipe</td>\n",
       "      <td>12</td>\n",
       "      <td>0.002136</td>\n",
       "      <td>5</td>\n",
       "    </tr>\n",
       "    <tr>\n",
       "      <th>127</th>\n",
       "      <td>2016-w18</td>\n",
       "      <td>Tocantins</td>\n",
       "      <td>2</td>\n",
       "      <td>0.000356</td>\n",
       "      <td>0</td>\n",
       "    </tr>\n",
       "  </tbody>\n",
       "</table>\n",
       "<p>128 rows × 5 columns</p>\n",
       "</div>"
      ],
      "text/plain": [
       "    year_week    LocationName  group_size  proportion  sample_size\n",
       "0    2016-w14            Acre           2    0.000356            0\n",
       "1    2016-w14         Alagoas          14    0.002492            6\n",
       "2    2016-w14           Amapa          17    0.003027            7\n",
       "3    2016-w14        Amazonas          23    0.004095           10\n",
       "4    2016-w14           Bahia          58    0.010326           25\n",
       "..        ...             ...         ...         ...          ...\n",
       "123  2016-w18         Roraima           2    0.000356            0\n",
       "124  2016-w18  Santa Catarina          22    0.003917            9\n",
       "125  2016-w18       Sao Paulo         100    0.017803           43\n",
       "126  2016-w18         Sergipe          12    0.002136            5\n",
       "127  2016-w18       Tocantins           2    0.000356            0\n",
       "\n",
       "[128 rows x 5 columns]"
      ]
     },
     "execution_count": 52,
     "metadata": {},
     "output_type": "execute_result"
    }
   ],
   "source": [
    "# Step 3: Define the target sample size\n",
    "target_sample_size = 2450\n",
    "\n",
    "# Step 4: Calculate the sample size for each group (based on its proportion)\n",
    "group_sizes['sample_size'] = np.floor(group_sizes['proportion'] * target_sample_size).astype(int)\n",
    "group_sizes"
   ]
  },
  {
   "cell_type": "code",
   "execution_count": 53,
   "id": "c66b1eeb",
   "metadata": {},
   "outputs": [],
   "source": [
    "# Step 5: Merge this sample size information back to the original DataFrame\n",
    "df_2016_04_pos_sample_size = pd.merge(df_2016_04_pos, group_sizes[['year_week', 'LocationName', 'sample_size']], \n",
    "                               on=['year_week', 'LocationName'], how='left')"
   ]
  },
  {
   "cell_type": "code",
   "execution_count": 54,
   "id": "53f14ba0",
   "metadata": {},
   "outputs": [
    {
     "name": "stdout",
     "output_type": "stream",
     "text": [
      "Sampled 2392 rows.\n"
     ]
    }
   ],
   "source": [
    "# Step 6: Perform the stratified sampling\n",
    "df_2016_04_pos_sample = df_2016_04_pos_sample_size.groupby(['year_week', 'LocationName']).apply(\n",
    "    lambda group: group.sample(n=group['sample_size'].iloc[0], random_state=42)\n",
    ").reset_index(drop=True)\n",
    "\n",
    "# Step 7: Check the result\n",
    "print(f\"Sampled {len(df_2016_04_pos_sample)} rows.\")\n"
   ]
  },
  {
   "cell_type": "code",
   "execution_count": 55,
   "id": "480bf650",
   "metadata": {},
   "outputs": [],
   "source": [
    "text_gpt_2016_04_pos = '\\n'.join(df_2016_04_pos_sample['text'].astype(str))"
   ]
  },
  {
   "cell_type": "markdown",
   "id": "08689181",
   "metadata": {},
   "source": [
    "### Prompts and loops"
   ]
  },
  {
   "cell_type": "code",
   "execution_count": 56,
   "id": "3d2f9387",
   "metadata": {},
   "outputs": [],
   "source": [
    "prompt_4 = prompt_raw.replace('TWEETS', text_gpt_2016_04_pos)"
   ]
  },
  {
   "cell_type": "code",
   "execution_count": 57,
   "id": "6bf06ef1",
   "metadata": {
    "scrolled": false
   },
   "outputs": [],
   "source": [
    "response = openai.ChatCompletion.create(\n",
    "    model=\"gpt-4o-mini\",  \n",
    "    messages = [\n",
    "        {\"role\": \"user\", \"content\": prompt_4}\n",
    "    ],\n",
    "    max_tokens=400,  # Maximum number of tokens in the response\n",
    "    temperature=0.7  # Controls the randomness of the output\n",
    ")"
   ]
  },
  {
   "cell_type": "code",
   "execution_count": 58,
   "id": "2c572149",
   "metadata": {},
   "outputs": [
    {
     "data": {
      "text/plain": [
       "'The text discusses various vaccination campaigns in Brazil, focusing on the importance of vaccinations against HPV and H1N1. It highlights efforts by health authorities to encourage girls to get vaccinated against HPV, the organization of vaccination days for the flu, and the urgency of vaccination in response to outbreaks. Additionally, it mentions the vaccination of pets against rabies and public health initiatives to ensure widespread immunization among vulnerable groups.'"
      ]
     },
     "execution_count": 58,
     "metadata": {},
     "output_type": "execute_result"
    }
   ],
   "source": [
    "response.choices[0].message.content"
   ]
  },
  {
   "cell_type": "code",
   "execution_count": 59,
   "id": "e3b9c3a6",
   "metadata": {},
   "outputs": [],
   "source": [
    "#summary = []\n",
    "#dataset = []"
   ]
  },
  {
   "cell_type": "code",
   "execution_count": 60,
   "id": "87ae0b14",
   "metadata": {},
   "outputs": [],
   "source": [
    "dataset.append(\"2016_04_positive\")"
   ]
  },
  {
   "cell_type": "code",
   "execution_count": 61,
   "id": "265b4d20",
   "metadata": {},
   "outputs": [],
   "source": [
    "summary.append(response.choices[0].message.content)"
   ]
  },
  {
   "cell_type": "code",
   "execution_count": 62,
   "id": "b2c62be9",
   "metadata": {
    "tags": []
   },
   "outputs": [
    {
     "name": "stdout",
     "output_type": "stream",
     "text": [
      "<class 'pandas.core.frame.DataFrame'>\n",
      "RangeIndex: 4 entries, 0 to 3\n",
      "Data columns (total 2 columns):\n",
      " #   Column   Non-Null Count  Dtype \n",
      "---  ------   --------------  ----- \n",
      " 0   dataset  4 non-null      object\n",
      " 1   summary  4 non-null      object\n",
      "dtypes: object(2)\n",
      "memory usage: 192.0+ bytes\n"
     ]
    }
   ],
   "source": [
    "df_2016_pos = pd.DataFrame(list(zip(dataset, summary)),\n",
    "                            columns = ['dataset', 'summary'])\n",
    "df_2016_pos.info()"
   ]
  },
  {
   "cell_type": "code",
   "execution_count": 63,
   "id": "53fcd76e",
   "metadata": {},
   "outputs": [
    {
     "data": {
      "text/html": [
       "<div>\n",
       "<style scoped>\n",
       "    .dataframe tbody tr th:only-of-type {\n",
       "        vertical-align: middle;\n",
       "    }\n",
       "\n",
       "    .dataframe tbody tr th {\n",
       "        vertical-align: top;\n",
       "    }\n",
       "\n",
       "    .dataframe thead th {\n",
       "        text-align: right;\n",
       "    }\n",
       "</style>\n",
       "<table border=\"1\" class=\"dataframe\">\n",
       "  <thead>\n",
       "    <tr style=\"text-align: right;\">\n",
       "      <th></th>\n",
       "      <th>dataset</th>\n",
       "      <th>summary</th>\n",
       "    </tr>\n",
       "  </thead>\n",
       "  <tbody>\n",
       "    <tr>\n",
       "      <th>0</th>\n",
       "      <td>2016_01_positive</td>\n",
       "      <td>The sentences discuss various aspects of vacci...</td>\n",
       "    </tr>\n",
       "    <tr>\n",
       "      <th>1</th>\n",
       "      <td>2016_02_positive</td>\n",
       "      <td>The excerpts discuss the urgent need for a vac...</td>\n",
       "    </tr>\n",
       "    <tr>\n",
       "      <th>2</th>\n",
       "      <td>2016_03_positive</td>\n",
       "      <td>In Brazil, there is a strong emphasis on vacci...</td>\n",
       "    </tr>\n",
       "    <tr>\n",
       "      <th>3</th>\n",
       "      <td>2016_04_positive</td>\n",
       "      <td>The text discusses various vaccination campaig...</td>\n",
       "    </tr>\n",
       "  </tbody>\n",
       "</table>\n",
       "</div>"
      ],
      "text/plain": [
       "            dataset                                            summary\n",
       "0  2016_01_positive  The sentences discuss various aspects of vacci...\n",
       "1  2016_02_positive  The excerpts discuss the urgent need for a vac...\n",
       "2  2016_03_positive  In Brazil, there is a strong emphasis on vacci...\n",
       "3  2016_04_positive  The text discusses various vaccination campaig..."
      ]
     },
     "execution_count": 63,
     "metadata": {},
     "output_type": "execute_result"
    }
   ],
   "source": [
    "df_2016_pos.tail(14)"
   ]
  },
  {
   "cell_type": "code",
   "execution_count": 64,
   "id": "9bc8461d",
   "metadata": {},
   "outputs": [
    {
     "data": {
      "text/plain": [
       "<OpenAIObject chat.completion id=chatcmpl-AUcrjHoj75z8WZ0kMpYtzzDIOn6fK at 0x210000175e0> JSON: {\n",
       "  \"choices\": [\n",
       "    {\n",
       "      \"finish_reason\": \"stop\",\n",
       "      \"index\": 0,\n",
       "      \"logprobs\": null,\n",
       "      \"message\": {\n",
       "        \"content\": \"The text discusses various vaccination campaigns in Brazil, focusing on the importance of vaccinations against HPV and H1N1. It highlights efforts by health authorities to encourage girls to get vaccinated against HPV, the organization of vaccination days for the flu, and the urgency of vaccination in response to outbreaks. Additionally, it mentions the vaccination of pets against rabies and public health initiatives to ensure widespread immunization among vulnerable groups.\",\n",
       "        \"refusal\": null,\n",
       "        \"role\": \"assistant\"\n",
       "      }\n",
       "    }\n",
       "  ],\n",
       "  \"created\": 1731862603,\n",
       "  \"id\": \"chatcmpl-AUcrjHoj75z8WZ0kMpYtzzDIOn6fK\",\n",
       "  \"model\": \"gpt-4o-mini-2024-07-18\",\n",
       "  \"object\": \"chat.completion\",\n",
       "  \"system_fingerprint\": \"fp_0ba0d124f1\",\n",
       "  \"usage\": {\n",
       "    \"completion_tokens\": 81,\n",
       "    \"completion_tokens_details\": {\n",
       "      \"accepted_prediction_tokens\": 0,\n",
       "      \"audio_tokens\": 0,\n",
       "      \"reasoning_tokens\": 0,\n",
       "      \"rejected_prediction_tokens\": 0\n",
       "    },\n",
       "    \"prompt_tokens\": 58807,\n",
       "    \"prompt_tokens_details\": {\n",
       "      \"audio_tokens\": 0,\n",
       "      \"cached_tokens\": 0\n",
       "    },\n",
       "    \"total_tokens\": 58888\n",
       "  }\n",
       "}"
      ]
     },
     "execution_count": 64,
     "metadata": {},
     "output_type": "execute_result"
    }
   ],
   "source": [
    "response"
   ]
  },
  {
   "cell_type": "markdown",
   "id": "e492f6d4",
   "metadata": {},
   "source": [
    "## May"
   ]
  },
  {
   "cell_type": "code",
   "execution_count": 65,
   "id": "f38b435e",
   "metadata": {
    "scrolled": true,
    "tags": []
   },
   "outputs": [
    {
     "name": "stdout",
     "output_type": "stream",
     "text": [
      "<class 'pandas.core.frame.DataFrame'>\n",
      "RangeIndex: 4577 entries, 0 to 4576\n",
      "Data columns (total 53 columns):\n",
      " #   Column                  Non-Null Count  Dtype  \n",
      "---  ------                  --------------  -----  \n",
      " 0   index                   4577 non-null   int64  \n",
      " 1   LocationCode            4577 non-null   object \n",
      " 2   LocationName            4577 non-null   object \n",
      " 3   StatesCode              4577 non-null   object \n",
      " 4   ...4                    4577 non-null   int64  \n",
      " 5   id                      4577 non-null   float64\n",
      " 6   text                    4577 non-null   object \n",
      " 7   label                   4577 non-null   object \n",
      " 8   in_reply_to_status_id   224 non-null    float64\n",
      " 9   in_reply_to_user_id     276 non-null    float64\n",
      " 10  quoted_user_id          68 non-null     float64\n",
      " 11  quoted_status_id        68 non-null     float64\n",
      " 12  retweeted_user_id       1194 non-null   float64\n",
      " 13  retweeted_status_id     1194 non-null   float64\n",
      " 14  created_at              4577 non-null   object \n",
      " 15  entities.user_mentions  1822 non-null   object \n",
      " 16  user.id                 4577 non-null   float64\n",
      " 17  user.screen_name        4577 non-null   object \n",
      " 18  user.name               4577 non-null   object \n",
      " 19  user.description        3975 non-null   object \n",
      " 20  user.timezone           0 non-null      float64\n",
      " 21  user.location           4523 non-null   object \n",
      " 22  user.num_followers      4577 non-null   int64  \n",
      " 23  user.num_following      4577 non-null   int64  \n",
      " 24  user.created_at         4577 non-null   object \n",
      " 25  user.statuses_count     4577 non-null   int64  \n",
      " 26  user.is_verified        4577 non-null   bool   \n",
      " 27  lang                    4577 non-null   object \n",
      " 28  token_count             4577 non-null   int64  \n",
      " 29  is_retweet              4577 non-null   bool   \n",
      " 30  has_quote               4577 non-null   bool   \n",
      " 31  is_reply                4577 non-null   bool   \n",
      " 32  contains_keywords       4577 non-null   bool   \n",
      " 33  longitude               4577 non-null   float64\n",
      " 34  latitude                4577 non-null   float64\n",
      " 35  country_code            4577 non-null   object \n",
      " 36  geoname_id              4304 non-null   float64\n",
      " 37  location_type           4577 non-null   object \n",
      " 38  geo_type                4577 non-null   int64  \n",
      " 39  region                  4577 non-null   object \n",
      " 40  subregion               4577 non-null   object \n",
      " 41  num_quotes              4577 non-null   int64  \n",
      " 42  num_replies             4577 non-null   int64  \n",
      " 43  num_retweets            4577 non-null   int64  \n",
      " 44  sent_gpt                4577 non-null   object \n",
      " 45  gpt_sent_presence       4577 non-null   int64  \n",
      " 46  cleaned_text_lem        4577 non-null   object \n",
      " 47  cleaned_text            4577 non-null   object \n",
      " 48  month                   4577 non-null   int64  \n",
      " 49  year                    4577 non-null   int64  \n",
      " 50  week                    4577 non-null   int64  \n",
      " 51  year_month              4577 non-null   object \n",
      " 52  year_week               4577 non-null   object \n",
      "dtypes: bool(5), float64(12), int64(14), object(22)\n",
      "memory usage: 1.7+ MB\n"
     ]
    }
   ],
   "source": [
    "# Get monthly data\n",
    "df_2016_05_pos = pd.read_csv('../data/local/df_pos_2016-05.csv').reset_index()\n",
    "df_2016_05_pos.info()"
   ]
  },
  {
   "cell_type": "markdown",
   "id": "67e6748f",
   "metadata": {},
   "source": [
    "### Representative sample based on week and location"
   ]
  },
  {
   "cell_type": "code",
   "execution_count": 66,
   "id": "744659bb",
   "metadata": {},
   "outputs": [
    {
     "data": {
      "text/html": [
       "<div>\n",
       "<style scoped>\n",
       "    .dataframe tbody tr th:only-of-type {\n",
       "        vertical-align: middle;\n",
       "    }\n",
       "\n",
       "    .dataframe tbody tr th {\n",
       "        vertical-align: top;\n",
       "    }\n",
       "\n",
       "    .dataframe thead th {\n",
       "        text-align: right;\n",
       "    }\n",
       "</style>\n",
       "<table border=\"1\" class=\"dataframe\">\n",
       "  <thead>\n",
       "    <tr style=\"text-align: right;\">\n",
       "      <th></th>\n",
       "      <th>year_week</th>\n",
       "      <th>LocationName</th>\n",
       "      <th>group_size</th>\n",
       "      <th>proportion</th>\n",
       "    </tr>\n",
       "  </thead>\n",
       "  <tbody>\n",
       "    <tr>\n",
       "      <th>0</th>\n",
       "      <td>2016-w18</td>\n",
       "      <td>Alagoas</td>\n",
       "      <td>9</td>\n",
       "      <td>0.001966</td>\n",
       "    </tr>\n",
       "    <tr>\n",
       "      <th>1</th>\n",
       "      <td>2016-w18</td>\n",
       "      <td>Amapa</td>\n",
       "      <td>2</td>\n",
       "      <td>0.000437</td>\n",
       "    </tr>\n",
       "    <tr>\n",
       "      <th>2</th>\n",
       "      <td>2016-w18</td>\n",
       "      <td>Amazonas</td>\n",
       "      <td>15</td>\n",
       "      <td>0.003277</td>\n",
       "    </tr>\n",
       "    <tr>\n",
       "      <th>3</th>\n",
       "      <td>2016-w18</td>\n",
       "      <td>Bahia</td>\n",
       "      <td>33</td>\n",
       "      <td>0.007210</td>\n",
       "    </tr>\n",
       "    <tr>\n",
       "      <th>4</th>\n",
       "      <td>2016-w18</td>\n",
       "      <td>Ceara</td>\n",
       "      <td>41</td>\n",
       "      <td>0.008958</td>\n",
       "    </tr>\n",
       "    <tr>\n",
       "      <th>...</th>\n",
       "      <td>...</td>\n",
       "      <td>...</td>\n",
       "      <td>...</td>\n",
       "      <td>...</td>\n",
       "    </tr>\n",
       "    <tr>\n",
       "      <th>117</th>\n",
       "      <td>2016-w22</td>\n",
       "      <td>Rondonia</td>\n",
       "      <td>2</td>\n",
       "      <td>0.000437</td>\n",
       "    </tr>\n",
       "    <tr>\n",
       "      <th>118</th>\n",
       "      <td>2016-w22</td>\n",
       "      <td>Roraima</td>\n",
       "      <td>1</td>\n",
       "      <td>0.000218</td>\n",
       "    </tr>\n",
       "    <tr>\n",
       "      <th>119</th>\n",
       "      <td>2016-w22</td>\n",
       "      <td>Santa Catarina</td>\n",
       "      <td>8</td>\n",
       "      <td>0.001748</td>\n",
       "    </tr>\n",
       "    <tr>\n",
       "      <th>120</th>\n",
       "      <td>2016-w22</td>\n",
       "      <td>Sao Paulo</td>\n",
       "      <td>51</td>\n",
       "      <td>0.011143</td>\n",
       "    </tr>\n",
       "    <tr>\n",
       "      <th>121</th>\n",
       "      <td>2016-w22</td>\n",
       "      <td>Sergipe</td>\n",
       "      <td>2</td>\n",
       "      <td>0.000437</td>\n",
       "    </tr>\n",
       "  </tbody>\n",
       "</table>\n",
       "<p>122 rows × 4 columns</p>\n",
       "</div>"
      ],
      "text/plain": [
       "    year_week    LocationName  group_size  proportion\n",
       "0    2016-w18         Alagoas           9    0.001966\n",
       "1    2016-w18           Amapa           2    0.000437\n",
       "2    2016-w18        Amazonas          15    0.003277\n",
       "3    2016-w18           Bahia          33    0.007210\n",
       "4    2016-w18           Ceara          41    0.008958\n",
       "..        ...             ...         ...         ...\n",
       "117  2016-w22        Rondonia           2    0.000437\n",
       "118  2016-w22         Roraima           1    0.000218\n",
       "119  2016-w22  Santa Catarina           8    0.001748\n",
       "120  2016-w22       Sao Paulo          51    0.011143\n",
       "121  2016-w22         Sergipe           2    0.000437\n",
       "\n",
       "[122 rows x 4 columns]"
      ]
     },
     "execution_count": 66,
     "metadata": {},
     "output_type": "execute_result"
    }
   ],
   "source": [
    "# Step 1: Calculate the size of each group (year_week, LocationName)\n",
    "group_sizes = df_2016_05_pos.groupby(['year_week', 'LocationName']).size().reset_index(name='group_size')\n",
    "\n",
    "# Step 2: Calculate the proportion of each group in the dataset\n",
    "total_rows = len(df_2016_05_pos)\n",
    "group_sizes['proportion'] = group_sizes['group_size'] / total_rows\n",
    "group_sizes"
   ]
  },
  {
   "cell_type": "code",
   "execution_count": 67,
   "id": "eccffc5e",
   "metadata": {},
   "outputs": [
    {
     "data": {
      "text/html": [
       "<div>\n",
       "<style scoped>\n",
       "    .dataframe tbody tr th:only-of-type {\n",
       "        vertical-align: middle;\n",
       "    }\n",
       "\n",
       "    .dataframe tbody tr th {\n",
       "        vertical-align: top;\n",
       "    }\n",
       "\n",
       "    .dataframe thead th {\n",
       "        text-align: right;\n",
       "    }\n",
       "</style>\n",
       "<table border=\"1\" class=\"dataframe\">\n",
       "  <thead>\n",
       "    <tr style=\"text-align: right;\">\n",
       "      <th></th>\n",
       "      <th>year_week</th>\n",
       "      <th>LocationName</th>\n",
       "      <th>group_size</th>\n",
       "      <th>proportion</th>\n",
       "      <th>sample_size</th>\n",
       "    </tr>\n",
       "  </thead>\n",
       "  <tbody>\n",
       "    <tr>\n",
       "      <th>0</th>\n",
       "      <td>2016-w18</td>\n",
       "      <td>Alagoas</td>\n",
       "      <td>9</td>\n",
       "      <td>0.001966</td>\n",
       "      <td>4</td>\n",
       "    </tr>\n",
       "    <tr>\n",
       "      <th>1</th>\n",
       "      <td>2016-w18</td>\n",
       "      <td>Amapa</td>\n",
       "      <td>2</td>\n",
       "      <td>0.000437</td>\n",
       "      <td>1</td>\n",
       "    </tr>\n",
       "    <tr>\n",
       "      <th>2</th>\n",
       "      <td>2016-w18</td>\n",
       "      <td>Amazonas</td>\n",
       "      <td>15</td>\n",
       "      <td>0.003277</td>\n",
       "      <td>8</td>\n",
       "    </tr>\n",
       "    <tr>\n",
       "      <th>3</th>\n",
       "      <td>2016-w18</td>\n",
       "      <td>Bahia</td>\n",
       "      <td>33</td>\n",
       "      <td>0.007210</td>\n",
       "      <td>17</td>\n",
       "    </tr>\n",
       "    <tr>\n",
       "      <th>4</th>\n",
       "      <td>2016-w18</td>\n",
       "      <td>Ceara</td>\n",
       "      <td>41</td>\n",
       "      <td>0.008958</td>\n",
       "      <td>21</td>\n",
       "    </tr>\n",
       "    <tr>\n",
       "      <th>...</th>\n",
       "      <td>...</td>\n",
       "      <td>...</td>\n",
       "      <td>...</td>\n",
       "      <td>...</td>\n",
       "      <td>...</td>\n",
       "    </tr>\n",
       "    <tr>\n",
       "      <th>117</th>\n",
       "      <td>2016-w22</td>\n",
       "      <td>Rondonia</td>\n",
       "      <td>2</td>\n",
       "      <td>0.000437</td>\n",
       "      <td>1</td>\n",
       "    </tr>\n",
       "    <tr>\n",
       "      <th>118</th>\n",
       "      <td>2016-w22</td>\n",
       "      <td>Roraima</td>\n",
       "      <td>1</td>\n",
       "      <td>0.000218</td>\n",
       "      <td>0</td>\n",
       "    </tr>\n",
       "    <tr>\n",
       "      <th>119</th>\n",
       "      <td>2016-w22</td>\n",
       "      <td>Santa Catarina</td>\n",
       "      <td>8</td>\n",
       "      <td>0.001748</td>\n",
       "      <td>4</td>\n",
       "    </tr>\n",
       "    <tr>\n",
       "      <th>120</th>\n",
       "      <td>2016-w22</td>\n",
       "      <td>Sao Paulo</td>\n",
       "      <td>51</td>\n",
       "      <td>0.011143</td>\n",
       "      <td>27</td>\n",
       "    </tr>\n",
       "    <tr>\n",
       "      <th>121</th>\n",
       "      <td>2016-w22</td>\n",
       "      <td>Sergipe</td>\n",
       "      <td>2</td>\n",
       "      <td>0.000437</td>\n",
       "      <td>1</td>\n",
       "    </tr>\n",
       "  </tbody>\n",
       "</table>\n",
       "<p>122 rows × 5 columns</p>\n",
       "</div>"
      ],
      "text/plain": [
       "    year_week    LocationName  group_size  proportion  sample_size\n",
       "0    2016-w18         Alagoas           9    0.001966            4\n",
       "1    2016-w18           Amapa           2    0.000437            1\n",
       "2    2016-w18        Amazonas          15    0.003277            8\n",
       "3    2016-w18           Bahia          33    0.007210           17\n",
       "4    2016-w18           Ceara          41    0.008958           21\n",
       "..        ...             ...         ...         ...          ...\n",
       "117  2016-w22        Rondonia           2    0.000437            1\n",
       "118  2016-w22         Roraima           1    0.000218            0\n",
       "119  2016-w22  Santa Catarina           8    0.001748            4\n",
       "120  2016-w22       Sao Paulo          51    0.011143           27\n",
       "121  2016-w22         Sergipe           2    0.000437            1\n",
       "\n",
       "[122 rows x 5 columns]"
      ]
     },
     "execution_count": 67,
     "metadata": {},
     "output_type": "execute_result"
    }
   ],
   "source": [
    "# Step 3: Define the target sample size\n",
    "target_sample_size = 2450\n",
    "\n",
    "# Step 4: Calculate the sample size for each group (based on its proportion)\n",
    "group_sizes['sample_size'] = np.floor(group_sizes['proportion'] * target_sample_size).astype(int)\n",
    "group_sizes"
   ]
  },
  {
   "cell_type": "code",
   "execution_count": 68,
   "id": "1f16b08e",
   "metadata": {},
   "outputs": [],
   "source": [
    "# Step 5: Merge this sample size information back to the original DataFrame\n",
    "df_2016_05_pos_sample_size = pd.merge(df_2016_05_pos, group_sizes[['year_week', 'LocationName', 'sample_size']], \n",
    "                               on=['year_week', 'LocationName'], how='left')"
   ]
  },
  {
   "cell_type": "code",
   "execution_count": 69,
   "id": "6ec4f741",
   "metadata": {},
   "outputs": [
    {
     "name": "stdout",
     "output_type": "stream",
     "text": [
      "Sampled 2389 rows.\n"
     ]
    }
   ],
   "source": [
    "# Step 6: Perform the stratified sampling\n",
    "df_2016_05_pos_sample = df_2016_05_pos_sample_size.groupby(['year_week', 'LocationName']).apply(\n",
    "    lambda group: group.sample(n=group['sample_size'].iloc[0], random_state=42)\n",
    ").reset_index(drop=True)\n",
    "\n",
    "# Step 7: Check the result\n",
    "print(f\"Sampled {len(df_2016_05_pos_sample)} rows.\")\n"
   ]
  },
  {
   "cell_type": "code",
   "execution_count": 70,
   "id": "b861921a",
   "metadata": {},
   "outputs": [],
   "source": [
    "text_gpt_2016_05_pos = '\\n'.join(df_2016_05_pos_sample['text'].astype(str))"
   ]
  },
  {
   "cell_type": "markdown",
   "id": "a71ff6b0",
   "metadata": {},
   "source": [
    "### Prompts and loops"
   ]
  },
  {
   "cell_type": "code",
   "execution_count": 71,
   "id": "6e6a91ed",
   "metadata": {},
   "outputs": [],
   "source": [
    "prompt_5 = prompt_raw.replace('TWEETS', text_gpt_2016_05_pos)"
   ]
  },
  {
   "cell_type": "code",
   "execution_count": 72,
   "id": "14941427",
   "metadata": {
    "scrolled": false
   },
   "outputs": [],
   "source": [
    "response = openai.ChatCompletion.create(\n",
    "    model=\"gpt-4o-mini\",  \n",
    "    messages = [\n",
    "        {\"role\": \"user\", \"content\": prompt_5}\n",
    "    ],\n",
    "    max_tokens=400,  # Maximum number of tokens in the response\n",
    "    temperature=0.7  # Controls the randomness of the output\n",
    ")"
   ]
  },
  {
   "cell_type": "code",
   "execution_count": 73,
   "id": "d34b2bcc",
   "metadata": {},
   "outputs": [
    {
     "data": {
      "text/plain": [
       "'The text discusses various vaccination campaigns in Brazil, particularly against influenza (H1N1) and foot-and-mouth disease for livestock. It emphasizes the importance of vaccination for specific groups, such as children, pregnant women, and the elderly. There are mentions of vaccination rates, the availability of vaccines, and health authorities encouraging the public to get vaccinated to prevent outbreaks. The campaigns aim to achieve high coverage rates and have reported significant participation from the public.'"
      ]
     },
     "execution_count": 73,
     "metadata": {},
     "output_type": "execute_result"
    }
   ],
   "source": [
    "response.choices[0].message.content"
   ]
  },
  {
   "cell_type": "code",
   "execution_count": 74,
   "id": "f8f67be8",
   "metadata": {},
   "outputs": [],
   "source": [
    "#summary = []\n",
    "#dataset = []"
   ]
  },
  {
   "cell_type": "code",
   "execution_count": 75,
   "id": "0eb94e56",
   "metadata": {},
   "outputs": [],
   "source": [
    "dataset.append(\"2016_05_positive\")"
   ]
  },
  {
   "cell_type": "code",
   "execution_count": 76,
   "id": "c9c68d6a",
   "metadata": {},
   "outputs": [],
   "source": [
    "summary.append(response.choices[0].message.content)"
   ]
  },
  {
   "cell_type": "code",
   "execution_count": 77,
   "id": "5716826b",
   "metadata": {
    "tags": []
   },
   "outputs": [
    {
     "name": "stdout",
     "output_type": "stream",
     "text": [
      "<class 'pandas.core.frame.DataFrame'>\n",
      "RangeIndex: 5 entries, 0 to 4\n",
      "Data columns (total 2 columns):\n",
      " #   Column   Non-Null Count  Dtype \n",
      "---  ------   --------------  ----- \n",
      " 0   dataset  5 non-null      object\n",
      " 1   summary  5 non-null      object\n",
      "dtypes: object(2)\n",
      "memory usage: 208.0+ bytes\n"
     ]
    }
   ],
   "source": [
    "df_2016_pos = pd.DataFrame(list(zip(dataset, summary)),\n",
    "                            columns = ['dataset', 'summary'])\n",
    "df_2016_pos.info()"
   ]
  },
  {
   "cell_type": "code",
   "execution_count": 78,
   "id": "8acf11d6",
   "metadata": {},
   "outputs": [
    {
     "data": {
      "text/html": [
       "<div>\n",
       "<style scoped>\n",
       "    .dataframe tbody tr th:only-of-type {\n",
       "        vertical-align: middle;\n",
       "    }\n",
       "\n",
       "    .dataframe tbody tr th {\n",
       "        vertical-align: top;\n",
       "    }\n",
       "\n",
       "    .dataframe thead th {\n",
       "        text-align: right;\n",
       "    }\n",
       "</style>\n",
       "<table border=\"1\" class=\"dataframe\">\n",
       "  <thead>\n",
       "    <tr style=\"text-align: right;\">\n",
       "      <th></th>\n",
       "      <th>dataset</th>\n",
       "      <th>summary</th>\n",
       "    </tr>\n",
       "  </thead>\n",
       "  <tbody>\n",
       "    <tr>\n",
       "      <th>0</th>\n",
       "      <td>2016_01_positive</td>\n",
       "      <td>The sentences discuss various aspects of vacci...</td>\n",
       "    </tr>\n",
       "    <tr>\n",
       "      <th>1</th>\n",
       "      <td>2016_02_positive</td>\n",
       "      <td>The excerpts discuss the urgent need for a vac...</td>\n",
       "    </tr>\n",
       "    <tr>\n",
       "      <th>2</th>\n",
       "      <td>2016_03_positive</td>\n",
       "      <td>In Brazil, there is a strong emphasis on vacci...</td>\n",
       "    </tr>\n",
       "    <tr>\n",
       "      <th>3</th>\n",
       "      <td>2016_04_positive</td>\n",
       "      <td>The text discusses various vaccination campaig...</td>\n",
       "    </tr>\n",
       "    <tr>\n",
       "      <th>4</th>\n",
       "      <td>2016_05_positive</td>\n",
       "      <td>The text discusses various vaccination campaig...</td>\n",
       "    </tr>\n",
       "  </tbody>\n",
       "</table>\n",
       "</div>"
      ],
      "text/plain": [
       "            dataset                                            summary\n",
       "0  2016_01_positive  The sentences discuss various aspects of vacci...\n",
       "1  2016_02_positive  The excerpts discuss the urgent need for a vac...\n",
       "2  2016_03_positive  In Brazil, there is a strong emphasis on vacci...\n",
       "3  2016_04_positive  The text discusses various vaccination campaig...\n",
       "4  2016_05_positive  The text discusses various vaccination campaig..."
      ]
     },
     "execution_count": 78,
     "metadata": {},
     "output_type": "execute_result"
    }
   ],
   "source": [
    "df_2016_pos.tail(14)"
   ]
  },
  {
   "cell_type": "code",
   "execution_count": 79,
   "id": "2c2b96e9",
   "metadata": {},
   "outputs": [
    {
     "data": {
      "text/plain": [
       "<OpenAIObject chat.completion id=chatcmpl-AUcrpFh5AxmCTZnJjTOaa3naw8E7j at 0x21000027810> JSON: {\n",
       "  \"choices\": [\n",
       "    {\n",
       "      \"finish_reason\": \"stop\",\n",
       "      \"index\": 0,\n",
       "      \"logprobs\": null,\n",
       "      \"message\": {\n",
       "        \"content\": \"The text discusses various vaccination campaigns in Brazil, particularly against influenza (H1N1) and foot-and-mouth disease for livestock. It emphasizes the importance of vaccination for specific groups, such as children, pregnant women, and the elderly. There are mentions of vaccination rates, the availability of vaccines, and health authorities encouraging the public to get vaccinated to prevent outbreaks. The campaigns aim to achieve high coverage rates and have reported significant participation from the public.\",\n",
       "        \"refusal\": null,\n",
       "        \"role\": \"assistant\"\n",
       "      }\n",
       "    }\n",
       "  ],\n",
       "  \"created\": 1731862609,\n",
       "  \"id\": \"chatcmpl-AUcrpFh5AxmCTZnJjTOaa3naw8E7j\",\n",
       "  \"model\": \"gpt-4o-mini-2024-07-18\",\n",
       "  \"object\": \"chat.completion\",\n",
       "  \"system_fingerprint\": \"fp_0ba0d124f1\",\n",
       "  \"usage\": {\n",
       "    \"completion_tokens\": 89,\n",
       "    \"completion_tokens_details\": {\n",
       "      \"accepted_prediction_tokens\": 0,\n",
       "      \"audio_tokens\": 0,\n",
       "      \"reasoning_tokens\": 0,\n",
       "      \"rejected_prediction_tokens\": 0\n",
       "    },\n",
       "    \"prompt_tokens\": 60686,\n",
       "    \"prompt_tokens_details\": {\n",
       "      \"audio_tokens\": 0,\n",
       "      \"cached_tokens\": 0\n",
       "    },\n",
       "    \"total_tokens\": 60775\n",
       "  }\n",
       "}"
      ]
     },
     "execution_count": 79,
     "metadata": {},
     "output_type": "execute_result"
    }
   ],
   "source": [
    "response"
   ]
  },
  {
   "cell_type": "markdown",
   "id": "6756d045",
   "metadata": {},
   "source": [
    "## June"
   ]
  },
  {
   "cell_type": "code",
   "execution_count": 80,
   "id": "e994e0a9",
   "metadata": {
    "scrolled": true,
    "tags": []
   },
   "outputs": [
    {
     "name": "stdout",
     "output_type": "stream",
     "text": [
      "<class 'pandas.core.frame.DataFrame'>\n",
      "RangeIndex: 2676 entries, 0 to 2675\n",
      "Data columns (total 53 columns):\n",
      " #   Column                  Non-Null Count  Dtype  \n",
      "---  ------                  --------------  -----  \n",
      " 0   index                   2676 non-null   int64  \n",
      " 1   LocationCode            2676 non-null   object \n",
      " 2   LocationName            2676 non-null   object \n",
      " 3   StatesCode              2676 non-null   object \n",
      " 4   ...4                    2676 non-null   int64  \n",
      " 5   id                      2676 non-null   float64\n",
      " 6   text                    2676 non-null   object \n",
      " 7   label                   2676 non-null   object \n",
      " 8   in_reply_to_status_id   95 non-null     float64\n",
      " 9   in_reply_to_user_id     106 non-null    float64\n",
      " 10  quoted_user_id          30 non-null     float64\n",
      " 11  quoted_status_id        30 non-null     float64\n",
      " 12  retweeted_user_id       640 non-null    float64\n",
      " 13  retweeted_status_id     640 non-null    float64\n",
      " 14  created_at              2676 non-null   object \n",
      " 15  entities.user_mentions  914 non-null    object \n",
      " 16  user.id                 2676 non-null   float64\n",
      " 17  user.screen_name        2676 non-null   object \n",
      " 18  user.name               2676 non-null   object \n",
      " 19  user.description        2363 non-null   object \n",
      " 20  user.timezone           0 non-null      float64\n",
      " 21  user.location           2651 non-null   object \n",
      " 22  user.num_followers      2676 non-null   int64  \n",
      " 23  user.num_following      2676 non-null   int64  \n",
      " 24  user.created_at         2676 non-null   object \n",
      " 25  user.statuses_count     2676 non-null   int64  \n",
      " 26  user.is_verified        2676 non-null   bool   \n",
      " 27  lang                    2676 non-null   object \n",
      " 28  token_count             2676 non-null   int64  \n",
      " 29  is_retweet              2676 non-null   bool   \n",
      " 30  has_quote               2676 non-null   bool   \n",
      " 31  is_reply                2676 non-null   bool   \n",
      " 32  contains_keywords       2676 non-null   bool   \n",
      " 33  longitude               2676 non-null   float64\n",
      " 34  latitude                2676 non-null   float64\n",
      " 35  country_code            2676 non-null   object \n",
      " 36  geoname_id              2552 non-null   float64\n",
      " 37  location_type           2676 non-null   object \n",
      " 38  geo_type                2676 non-null   int64  \n",
      " 39  region                  2676 non-null   object \n",
      " 40  subregion               2676 non-null   object \n",
      " 41  num_quotes              2676 non-null   int64  \n",
      " 42  num_replies             2676 non-null   int64  \n",
      " 43  num_retweets            2676 non-null   int64  \n",
      " 44  sent_gpt                2676 non-null   object \n",
      " 45  gpt_sent_presence       2676 non-null   int64  \n",
      " 46  cleaned_text_lem        2676 non-null   object \n",
      " 47  cleaned_text            2676 non-null   object \n",
      " 48  month                   2676 non-null   int64  \n",
      " 49  year                    2676 non-null   int64  \n",
      " 50  week                    2676 non-null   int64  \n",
      " 51  year_month              2676 non-null   object \n",
      " 52  year_week               2676 non-null   object \n",
      "dtypes: bool(5), float64(12), int64(14), object(22)\n",
      "memory usage: 1016.7+ KB\n"
     ]
    }
   ],
   "source": [
    "# Get monthly data\n",
    "df_2016_06_pos = pd.read_csv('../data/local/df_pos_2016-06.csv').reset_index()\n",
    "df_2016_06_pos.info()"
   ]
  },
  {
   "cell_type": "markdown",
   "id": "57bf0007",
   "metadata": {},
   "source": [
    "### Representative sample based on week and location"
   ]
  },
  {
   "cell_type": "code",
   "execution_count": 81,
   "id": "59042a70",
   "metadata": {},
   "outputs": [
    {
     "data": {
      "text/html": [
       "<div>\n",
       "<style scoped>\n",
       "    .dataframe tbody tr th:only-of-type {\n",
       "        vertical-align: middle;\n",
       "    }\n",
       "\n",
       "    .dataframe tbody tr th {\n",
       "        vertical-align: top;\n",
       "    }\n",
       "\n",
       "    .dataframe thead th {\n",
       "        text-align: right;\n",
       "    }\n",
       "</style>\n",
       "<table border=\"1\" class=\"dataframe\">\n",
       "  <thead>\n",
       "    <tr style=\"text-align: right;\">\n",
       "      <th></th>\n",
       "      <th>year_week</th>\n",
       "      <th>LocationName</th>\n",
       "      <th>group_size</th>\n",
       "      <th>proportion</th>\n",
       "    </tr>\n",
       "  </thead>\n",
       "  <tbody>\n",
       "    <tr>\n",
       "      <th>0</th>\n",
       "      <td>2016-w22</td>\n",
       "      <td>Acre</td>\n",
       "      <td>1</td>\n",
       "      <td>0.000374</td>\n",
       "    </tr>\n",
       "    <tr>\n",
       "      <th>1</th>\n",
       "      <td>2016-w22</td>\n",
       "      <td>Alagoas</td>\n",
       "      <td>7</td>\n",
       "      <td>0.002616</td>\n",
       "    </tr>\n",
       "    <tr>\n",
       "      <th>2</th>\n",
       "      <td>2016-w22</td>\n",
       "      <td>Amazonas</td>\n",
       "      <td>6</td>\n",
       "      <td>0.002242</td>\n",
       "    </tr>\n",
       "    <tr>\n",
       "      <th>3</th>\n",
       "      <td>2016-w22</td>\n",
       "      <td>Bahia</td>\n",
       "      <td>20</td>\n",
       "      <td>0.007474</td>\n",
       "    </tr>\n",
       "    <tr>\n",
       "      <th>4</th>\n",
       "      <td>2016-w22</td>\n",
       "      <td>Ceara</td>\n",
       "      <td>4</td>\n",
       "      <td>0.001495</td>\n",
       "    </tr>\n",
       "    <tr>\n",
       "      <th>...</th>\n",
       "      <td>...</td>\n",
       "      <td>...</td>\n",
       "      <td>...</td>\n",
       "      <td>...</td>\n",
       "    </tr>\n",
       "    <tr>\n",
       "      <th>111</th>\n",
       "      <td>2016-w26</td>\n",
       "      <td>Roraima</td>\n",
       "      <td>7</td>\n",
       "      <td>0.002616</td>\n",
       "    </tr>\n",
       "    <tr>\n",
       "      <th>112</th>\n",
       "      <td>2016-w26</td>\n",
       "      <td>Santa Catarina</td>\n",
       "      <td>14</td>\n",
       "      <td>0.005232</td>\n",
       "    </tr>\n",
       "    <tr>\n",
       "      <th>113</th>\n",
       "      <td>2016-w26</td>\n",
       "      <td>Sao Paulo</td>\n",
       "      <td>149</td>\n",
       "      <td>0.055680</td>\n",
       "    </tr>\n",
       "    <tr>\n",
       "      <th>114</th>\n",
       "      <td>2016-w26</td>\n",
       "      <td>Sergipe</td>\n",
       "      <td>5</td>\n",
       "      <td>0.001868</td>\n",
       "    </tr>\n",
       "    <tr>\n",
       "      <th>115</th>\n",
       "      <td>2016-w26</td>\n",
       "      <td>Tocantins</td>\n",
       "      <td>2</td>\n",
       "      <td>0.000747</td>\n",
       "    </tr>\n",
       "  </tbody>\n",
       "</table>\n",
       "<p>116 rows × 4 columns</p>\n",
       "</div>"
      ],
      "text/plain": [
       "    year_week    LocationName  group_size  proportion\n",
       "0    2016-w22            Acre           1    0.000374\n",
       "1    2016-w22         Alagoas           7    0.002616\n",
       "2    2016-w22        Amazonas           6    0.002242\n",
       "3    2016-w22           Bahia          20    0.007474\n",
       "4    2016-w22           Ceara           4    0.001495\n",
       "..        ...             ...         ...         ...\n",
       "111  2016-w26         Roraima           7    0.002616\n",
       "112  2016-w26  Santa Catarina          14    0.005232\n",
       "113  2016-w26       Sao Paulo         149    0.055680\n",
       "114  2016-w26         Sergipe           5    0.001868\n",
       "115  2016-w26       Tocantins           2    0.000747\n",
       "\n",
       "[116 rows x 4 columns]"
      ]
     },
     "execution_count": 81,
     "metadata": {},
     "output_type": "execute_result"
    }
   ],
   "source": [
    "# Step 1: Calculate the size of each group (year_week, LocationName)\n",
    "group_sizes = df_2016_06_pos.groupby(['year_week', 'LocationName']).size().reset_index(name='group_size')\n",
    "\n",
    "# Step 2: Calculate the proportion of each group in the dataset\n",
    "total_rows = len(df_2016_06_pos)\n",
    "group_sizes['proportion'] = group_sizes['group_size'] / total_rows\n",
    "group_sizes"
   ]
  },
  {
   "cell_type": "code",
   "execution_count": 82,
   "id": "371bde15",
   "metadata": {},
   "outputs": [
    {
     "data": {
      "text/html": [
       "<div>\n",
       "<style scoped>\n",
       "    .dataframe tbody tr th:only-of-type {\n",
       "        vertical-align: middle;\n",
       "    }\n",
       "\n",
       "    .dataframe tbody tr th {\n",
       "        vertical-align: top;\n",
       "    }\n",
       "\n",
       "    .dataframe thead th {\n",
       "        text-align: right;\n",
       "    }\n",
       "</style>\n",
       "<table border=\"1\" class=\"dataframe\">\n",
       "  <thead>\n",
       "    <tr style=\"text-align: right;\">\n",
       "      <th></th>\n",
       "      <th>year_week</th>\n",
       "      <th>LocationName</th>\n",
       "      <th>group_size</th>\n",
       "      <th>proportion</th>\n",
       "      <th>sample_size</th>\n",
       "    </tr>\n",
       "  </thead>\n",
       "  <tbody>\n",
       "    <tr>\n",
       "      <th>0</th>\n",
       "      <td>2016-w22</td>\n",
       "      <td>Acre</td>\n",
       "      <td>1</td>\n",
       "      <td>0.000374</td>\n",
       "      <td>0</td>\n",
       "    </tr>\n",
       "    <tr>\n",
       "      <th>1</th>\n",
       "      <td>2016-w22</td>\n",
       "      <td>Alagoas</td>\n",
       "      <td>7</td>\n",
       "      <td>0.002616</td>\n",
       "      <td>6</td>\n",
       "    </tr>\n",
       "    <tr>\n",
       "      <th>2</th>\n",
       "      <td>2016-w22</td>\n",
       "      <td>Amazonas</td>\n",
       "      <td>6</td>\n",
       "      <td>0.002242</td>\n",
       "      <td>5</td>\n",
       "    </tr>\n",
       "    <tr>\n",
       "      <th>3</th>\n",
       "      <td>2016-w22</td>\n",
       "      <td>Bahia</td>\n",
       "      <td>20</td>\n",
       "      <td>0.007474</td>\n",
       "      <td>18</td>\n",
       "    </tr>\n",
       "    <tr>\n",
       "      <th>4</th>\n",
       "      <td>2016-w22</td>\n",
       "      <td>Ceara</td>\n",
       "      <td>4</td>\n",
       "      <td>0.001495</td>\n",
       "      <td>3</td>\n",
       "    </tr>\n",
       "    <tr>\n",
       "      <th>...</th>\n",
       "      <td>...</td>\n",
       "      <td>...</td>\n",
       "      <td>...</td>\n",
       "      <td>...</td>\n",
       "      <td>...</td>\n",
       "    </tr>\n",
       "    <tr>\n",
       "      <th>111</th>\n",
       "      <td>2016-w26</td>\n",
       "      <td>Roraima</td>\n",
       "      <td>7</td>\n",
       "      <td>0.002616</td>\n",
       "      <td>6</td>\n",
       "    </tr>\n",
       "    <tr>\n",
       "      <th>112</th>\n",
       "      <td>2016-w26</td>\n",
       "      <td>Santa Catarina</td>\n",
       "      <td>14</td>\n",
       "      <td>0.005232</td>\n",
       "      <td>12</td>\n",
       "    </tr>\n",
       "    <tr>\n",
       "      <th>113</th>\n",
       "      <td>2016-w26</td>\n",
       "      <td>Sao Paulo</td>\n",
       "      <td>149</td>\n",
       "      <td>0.055680</td>\n",
       "      <td>136</td>\n",
       "    </tr>\n",
       "    <tr>\n",
       "      <th>114</th>\n",
       "      <td>2016-w26</td>\n",
       "      <td>Sergipe</td>\n",
       "      <td>5</td>\n",
       "      <td>0.001868</td>\n",
       "      <td>4</td>\n",
       "    </tr>\n",
       "    <tr>\n",
       "      <th>115</th>\n",
       "      <td>2016-w26</td>\n",
       "      <td>Tocantins</td>\n",
       "      <td>2</td>\n",
       "      <td>0.000747</td>\n",
       "      <td>1</td>\n",
       "    </tr>\n",
       "  </tbody>\n",
       "</table>\n",
       "<p>116 rows × 5 columns</p>\n",
       "</div>"
      ],
      "text/plain": [
       "    year_week    LocationName  group_size  proportion  sample_size\n",
       "0    2016-w22            Acre           1    0.000374            0\n",
       "1    2016-w22         Alagoas           7    0.002616            6\n",
       "2    2016-w22        Amazonas           6    0.002242            5\n",
       "3    2016-w22           Bahia          20    0.007474           18\n",
       "4    2016-w22           Ceara           4    0.001495            3\n",
       "..        ...             ...         ...         ...          ...\n",
       "111  2016-w26         Roraima           7    0.002616            6\n",
       "112  2016-w26  Santa Catarina          14    0.005232           12\n",
       "113  2016-w26       Sao Paulo         149    0.055680          136\n",
       "114  2016-w26         Sergipe           5    0.001868            4\n",
       "115  2016-w26       Tocantins           2    0.000747            1\n",
       "\n",
       "[116 rows x 5 columns]"
      ]
     },
     "execution_count": 82,
     "metadata": {},
     "output_type": "execute_result"
    }
   ],
   "source": [
    "# Step 3: Define the target sample size\n",
    "target_sample_size = 2450\n",
    "\n",
    "# Step 4: Calculate the sample size for each group (based on its proportion)\n",
    "group_sizes['sample_size'] = np.floor(group_sizes['proportion'] * target_sample_size).astype(int)\n",
    "group_sizes"
   ]
  },
  {
   "cell_type": "code",
   "execution_count": 83,
   "id": "63e28728",
   "metadata": {},
   "outputs": [],
   "source": [
    "# Step 5: Merge this sample size information back to the original DataFrame\n",
    "df_2016_06_pos_sample_size = pd.merge(df_2016_06_pos, group_sizes[['year_week', 'LocationName', 'sample_size']], \n",
    "                               on=['year_week', 'LocationName'], how='left')"
   ]
  },
  {
   "cell_type": "code",
   "execution_count": 84,
   "id": "d929406c",
   "metadata": {},
   "outputs": [
    {
     "name": "stdout",
     "output_type": "stream",
     "text": [
      "Sampled 2380 rows.\n"
     ]
    }
   ],
   "source": [
    "# Step 6: Perform the stratified sampling\n",
    "df_2016_06_pos_sample = df_2016_06_pos_sample_size.groupby(['year_week', 'LocationName']).apply(\n",
    "    lambda group: group.sample(n=group['sample_size'].iloc[0], random_state=42)\n",
    ").reset_index(drop=True)\n",
    "\n",
    "# Step 7: Check the result\n",
    "print(f\"Sampled {len(df_2016_06_pos_sample)} rows.\")\n"
   ]
  },
  {
   "cell_type": "code",
   "execution_count": 85,
   "id": "e9aa1932",
   "metadata": {},
   "outputs": [],
   "source": [
    "text_gpt_2016_06_pos = '\\n'.join(df_2016_06_pos_sample['text'].astype(str))"
   ]
  },
  {
   "cell_type": "markdown",
   "id": "1f2f44e4",
   "metadata": {},
   "source": [
    "### Prompts and loops"
   ]
  },
  {
   "cell_type": "code",
   "execution_count": 86,
   "id": "2faa24e8",
   "metadata": {},
   "outputs": [],
   "source": [
    "prompt_6 = prompt_raw.replace('TWEETS', text_gpt_2016_06_pos)"
   ]
  },
  {
   "cell_type": "code",
   "execution_count": 87,
   "id": "bc6051bc",
   "metadata": {
    "scrolled": false
   },
   "outputs": [],
   "source": [
    "response = openai.ChatCompletion.create(\n",
    "    model=\"gpt-4o-mini\",  \n",
    "    messages = [\n",
    "        {\"role\": \"user\", \"content\": prompt_6}\n",
    "    ],\n",
    "    max_tokens=400,  # Maximum number of tokens in the response\n",
    "    temperature=0.7  # Controls the randomness of the output\n",
    ")"
   ]
  },
  {
   "cell_type": "code",
   "execution_count": 88,
   "id": "71cfa37a",
   "metadata": {},
   "outputs": [
    {
     "data": {
      "text/plain": [
       "'The texts discuss various vaccination initiatives and studies in Brazil. Highlights include the availability of the H1N1 vaccine for children, significant vaccination coverage achievements in various municipalities, and promising research on cancer vaccines. Additionally, there are mentions of the development of vaccines for diseases like dengue and zika, emphasizing the importance of vaccination in public health.'"
      ]
     },
     "execution_count": 88,
     "metadata": {},
     "output_type": "execute_result"
    }
   ],
   "source": [
    "response.choices[0].message.content"
   ]
  },
  {
   "cell_type": "code",
   "execution_count": 89,
   "id": "e05c6917",
   "metadata": {},
   "outputs": [],
   "source": [
    "#summary = []\n",
    "#dataset = []"
   ]
  },
  {
   "cell_type": "code",
   "execution_count": 90,
   "id": "a222eb1f",
   "metadata": {},
   "outputs": [],
   "source": [
    "dataset.append(\"2016_06_positive\")"
   ]
  },
  {
   "cell_type": "code",
   "execution_count": 91,
   "id": "16cc4629",
   "metadata": {},
   "outputs": [],
   "source": [
    "summary.append(response.choices[0].message.content)"
   ]
  },
  {
   "cell_type": "code",
   "execution_count": 92,
   "id": "06ae8742",
   "metadata": {
    "tags": []
   },
   "outputs": [
    {
     "name": "stdout",
     "output_type": "stream",
     "text": [
      "<class 'pandas.core.frame.DataFrame'>\n",
      "RangeIndex: 6 entries, 0 to 5\n",
      "Data columns (total 2 columns):\n",
      " #   Column   Non-Null Count  Dtype \n",
      "---  ------   --------------  ----- \n",
      " 0   dataset  6 non-null      object\n",
      " 1   summary  6 non-null      object\n",
      "dtypes: object(2)\n",
      "memory usage: 224.0+ bytes\n"
     ]
    }
   ],
   "source": [
    "df_2016_pos = pd.DataFrame(list(zip(dataset, summary)),\n",
    "                            columns = ['dataset', 'summary'])\n",
    "df_2016_pos.info()"
   ]
  },
  {
   "cell_type": "code",
   "execution_count": 93,
   "id": "116b4d78",
   "metadata": {},
   "outputs": [
    {
     "data": {
      "text/html": [
       "<div>\n",
       "<style scoped>\n",
       "    .dataframe tbody tr th:only-of-type {\n",
       "        vertical-align: middle;\n",
       "    }\n",
       "\n",
       "    .dataframe tbody tr th {\n",
       "        vertical-align: top;\n",
       "    }\n",
       "\n",
       "    .dataframe thead th {\n",
       "        text-align: right;\n",
       "    }\n",
       "</style>\n",
       "<table border=\"1\" class=\"dataframe\">\n",
       "  <thead>\n",
       "    <tr style=\"text-align: right;\">\n",
       "      <th></th>\n",
       "      <th>dataset</th>\n",
       "      <th>summary</th>\n",
       "    </tr>\n",
       "  </thead>\n",
       "  <tbody>\n",
       "    <tr>\n",
       "      <th>0</th>\n",
       "      <td>2016_01_positive</td>\n",
       "      <td>The sentences discuss various aspects of vacci...</td>\n",
       "    </tr>\n",
       "    <tr>\n",
       "      <th>1</th>\n",
       "      <td>2016_02_positive</td>\n",
       "      <td>The excerpts discuss the urgent need for a vac...</td>\n",
       "    </tr>\n",
       "    <tr>\n",
       "      <th>2</th>\n",
       "      <td>2016_03_positive</td>\n",
       "      <td>In Brazil, there is a strong emphasis on vacci...</td>\n",
       "    </tr>\n",
       "    <tr>\n",
       "      <th>3</th>\n",
       "      <td>2016_04_positive</td>\n",
       "      <td>The text discusses various vaccination campaig...</td>\n",
       "    </tr>\n",
       "    <tr>\n",
       "      <th>4</th>\n",
       "      <td>2016_05_positive</td>\n",
       "      <td>The text discusses various vaccination campaig...</td>\n",
       "    </tr>\n",
       "    <tr>\n",
       "      <th>5</th>\n",
       "      <td>2016_06_positive</td>\n",
       "      <td>The texts discuss various vaccination initiati...</td>\n",
       "    </tr>\n",
       "  </tbody>\n",
       "</table>\n",
       "</div>"
      ],
      "text/plain": [
       "            dataset                                            summary\n",
       "0  2016_01_positive  The sentences discuss various aspects of vacci...\n",
       "1  2016_02_positive  The excerpts discuss the urgent need for a vac...\n",
       "2  2016_03_positive  In Brazil, there is a strong emphasis on vacci...\n",
       "3  2016_04_positive  The text discusses various vaccination campaig...\n",
       "4  2016_05_positive  The text discusses various vaccination campaig...\n",
       "5  2016_06_positive  The texts discuss various vaccination initiati..."
      ]
     },
     "execution_count": 93,
     "metadata": {},
     "output_type": "execute_result"
    }
   ],
   "source": [
    "df_2016_pos.tail(14)"
   ]
  },
  {
   "cell_type": "code",
   "execution_count": 94,
   "id": "7668e23f",
   "metadata": {},
   "outputs": [
    {
     "data": {
      "text/plain": [
       "<OpenAIObject chat.completion id=chatcmpl-AUcrw9u7GXD87ClXYJUd9v1UAb2jJ at 0x2100182a4f0> JSON: {\n",
       "  \"choices\": [\n",
       "    {\n",
       "      \"finish_reason\": \"stop\",\n",
       "      \"index\": 0,\n",
       "      \"logprobs\": null,\n",
       "      \"message\": {\n",
       "        \"content\": \"The texts discuss various vaccination initiatives and studies in Brazil. Highlights include the availability of the H1N1 vaccine for children, significant vaccination coverage achievements in various municipalities, and promising research on cancer vaccines. Additionally, there are mentions of the development of vaccines for diseases like dengue and zika, emphasizing the importance of vaccination in public health.\",\n",
       "        \"refusal\": null,\n",
       "        \"role\": \"assistant\"\n",
       "      }\n",
       "    }\n",
       "  ],\n",
       "  \"created\": 1731862616,\n",
       "  \"id\": \"chatcmpl-AUcrw9u7GXD87ClXYJUd9v1UAb2jJ\",\n",
       "  \"model\": \"gpt-4o-mini-2024-07-18\",\n",
       "  \"object\": \"chat.completion\",\n",
       "  \"system_fingerprint\": \"fp_0ba0d124f1\",\n",
       "  \"usage\": {\n",
       "    \"completion_tokens\": 67,\n",
       "    \"completion_tokens_details\": {\n",
       "      \"accepted_prediction_tokens\": 0,\n",
       "      \"audio_tokens\": 0,\n",
       "      \"reasoning_tokens\": 0,\n",
       "      \"rejected_prediction_tokens\": 0\n",
       "    },\n",
       "    \"prompt_tokens\": 56047,\n",
       "    \"prompt_tokens_details\": {\n",
       "      \"audio_tokens\": 0,\n",
       "      \"cached_tokens\": 0\n",
       "    },\n",
       "    \"total_tokens\": 56114\n",
       "  }\n",
       "}"
      ]
     },
     "execution_count": 94,
     "metadata": {},
     "output_type": "execute_result"
    }
   ],
   "source": [
    "response"
   ]
  },
  {
   "cell_type": "markdown",
   "id": "1b5c5a9b",
   "metadata": {},
   "source": [
    "## July"
   ]
  },
  {
   "cell_type": "code",
   "execution_count": 95,
   "id": "5096b4ba",
   "metadata": {
    "scrolled": true,
    "tags": []
   },
   "outputs": [
    {
     "name": "stdout",
     "output_type": "stream",
     "text": [
      "<class 'pandas.core.frame.DataFrame'>\n",
      "RangeIndex: 2181 entries, 0 to 2180\n",
      "Data columns (total 53 columns):\n",
      " #   Column                  Non-Null Count  Dtype  \n",
      "---  ------                  --------------  -----  \n",
      " 0   index                   2181 non-null   int64  \n",
      " 1   LocationCode            2181 non-null   object \n",
      " 2   LocationName            2181 non-null   object \n",
      " 3   StatesCode              2181 non-null   object \n",
      " 4   ...4                    2181 non-null   int64  \n",
      " 5   id                      2181 non-null   float64\n",
      " 6   text                    2181 non-null   object \n",
      " 7   label                   2181 non-null   object \n",
      " 8   in_reply_to_status_id   94 non-null     float64\n",
      " 9   in_reply_to_user_id     108 non-null    float64\n",
      " 10  quoted_user_id          18 non-null     float64\n",
      " 11  quoted_status_id        18 non-null     float64\n",
      " 12  retweeted_user_id       665 non-null    float64\n",
      " 13  retweeted_status_id     665 non-null    float64\n",
      " 14  created_at              2181 non-null   object \n",
      " 15  entities.user_mentions  923 non-null    object \n",
      " 16  user.id                 2181 non-null   float64\n",
      " 17  user.screen_name        2181 non-null   object \n",
      " 18  user.name               2181 non-null   object \n",
      " 19  user.description        1963 non-null   object \n",
      " 20  user.timezone           0 non-null      float64\n",
      " 21  user.location           2165 non-null   object \n",
      " 22  user.num_followers      2181 non-null   int64  \n",
      " 23  user.num_following      2181 non-null   int64  \n",
      " 24  user.created_at         2181 non-null   object \n",
      " 25  user.statuses_count     2181 non-null   int64  \n",
      " 26  user.is_verified        2181 non-null   bool   \n",
      " 27  lang                    2181 non-null   object \n",
      " 28  token_count             2181 non-null   int64  \n",
      " 29  is_retweet              2181 non-null   bool   \n",
      " 30  has_quote               2181 non-null   bool   \n",
      " 31  is_reply                2181 non-null   bool   \n",
      " 32  contains_keywords       2181 non-null   bool   \n",
      " 33  longitude               2181 non-null   float64\n",
      " 34  latitude                2181 non-null   float64\n",
      " 35  country_code            2181 non-null   object \n",
      " 36  geoname_id              2089 non-null   float64\n",
      " 37  location_type           2181 non-null   object \n",
      " 38  geo_type                2181 non-null   int64  \n",
      " 39  region                  2181 non-null   object \n",
      " 40  subregion               2181 non-null   object \n",
      " 41  num_quotes              2181 non-null   int64  \n",
      " 42  num_replies             2181 non-null   int64  \n",
      " 43  num_retweets            2181 non-null   int64  \n",
      " 44  sent_gpt                2181 non-null   object \n",
      " 45  gpt_sent_presence       2181 non-null   int64  \n",
      " 46  cleaned_text_lem        2181 non-null   object \n",
      " 47  cleaned_text            2181 non-null   object \n",
      " 48  month                   2181 non-null   int64  \n",
      " 49  year                    2181 non-null   int64  \n",
      " 50  week                    2181 non-null   int64  \n",
      " 51  year_month              2181 non-null   object \n",
      " 52  year_week               2181 non-null   object \n",
      "dtypes: bool(5), float64(12), int64(14), object(22)\n",
      "memory usage: 828.6+ KB\n"
     ]
    }
   ],
   "source": [
    "# Get monthly data\n",
    "df_2016_07_pos = pd.read_csv('../data/local/df_pos_2016-07.csv').reset_index()\n",
    "df_2016_07_pos.info()"
   ]
  },
  {
   "cell_type": "markdown",
   "id": "bdd1752b",
   "metadata": {},
   "source": [
    "### Representative sample based on week and location"
   ]
  },
  {
   "cell_type": "code",
   "execution_count": 96,
   "id": "e62e79b6",
   "metadata": {},
   "outputs": [
    {
     "data": {
      "text/html": [
       "<div>\n",
       "<style scoped>\n",
       "    .dataframe tbody tr th:only-of-type {\n",
       "        vertical-align: middle;\n",
       "    }\n",
       "\n",
       "    .dataframe tbody tr th {\n",
       "        vertical-align: top;\n",
       "    }\n",
       "\n",
       "    .dataframe thead th {\n",
       "        text-align: right;\n",
       "    }\n",
       "</style>\n",
       "<table border=\"1\" class=\"dataframe\">\n",
       "  <thead>\n",
       "    <tr style=\"text-align: right;\">\n",
       "      <th></th>\n",
       "      <th>year_week</th>\n",
       "      <th>LocationName</th>\n",
       "      <th>group_size</th>\n",
       "      <th>proportion</th>\n",
       "    </tr>\n",
       "  </thead>\n",
       "  <tbody>\n",
       "    <tr>\n",
       "      <th>0</th>\n",
       "      <td>2016-w27</td>\n",
       "      <td>Acre</td>\n",
       "      <td>2</td>\n",
       "      <td>0.000917</td>\n",
       "    </tr>\n",
       "    <tr>\n",
       "      <th>1</th>\n",
       "      <td>2016-w27</td>\n",
       "      <td>Alagoas</td>\n",
       "      <td>5</td>\n",
       "      <td>0.002293</td>\n",
       "    </tr>\n",
       "    <tr>\n",
       "      <th>2</th>\n",
       "      <td>2016-w27</td>\n",
       "      <td>Amapa</td>\n",
       "      <td>2</td>\n",
       "      <td>0.000917</td>\n",
       "    </tr>\n",
       "    <tr>\n",
       "      <th>3</th>\n",
       "      <td>2016-w27</td>\n",
       "      <td>Amazonas</td>\n",
       "      <td>11</td>\n",
       "      <td>0.005044</td>\n",
       "    </tr>\n",
       "    <tr>\n",
       "      <th>4</th>\n",
       "      <td>2016-w27</td>\n",
       "      <td>Bahia</td>\n",
       "      <td>20</td>\n",
       "      <td>0.009170</td>\n",
       "    </tr>\n",
       "    <tr>\n",
       "      <th>...</th>\n",
       "      <td>...</td>\n",
       "      <td>...</td>\n",
       "      <td>...</td>\n",
       "      <td>...</td>\n",
       "    </tr>\n",
       "    <tr>\n",
       "      <th>107</th>\n",
       "      <td>2016-w31</td>\n",
       "      <td>Roraima</td>\n",
       "      <td>1</td>\n",
       "      <td>0.000459</td>\n",
       "    </tr>\n",
       "    <tr>\n",
       "      <th>108</th>\n",
       "      <td>2016-w31</td>\n",
       "      <td>Santa Catarina</td>\n",
       "      <td>2</td>\n",
       "      <td>0.000917</td>\n",
       "    </tr>\n",
       "    <tr>\n",
       "      <th>109</th>\n",
       "      <td>2016-w31</td>\n",
       "      <td>Sao Paulo</td>\n",
       "      <td>27</td>\n",
       "      <td>0.012380</td>\n",
       "    </tr>\n",
       "    <tr>\n",
       "      <th>110</th>\n",
       "      <td>2016-w31</td>\n",
       "      <td>Sergipe</td>\n",
       "      <td>4</td>\n",
       "      <td>0.001834</td>\n",
       "    </tr>\n",
       "    <tr>\n",
       "      <th>111</th>\n",
       "      <td>2016-w31</td>\n",
       "      <td>Tocantins</td>\n",
       "      <td>1</td>\n",
       "      <td>0.000459</td>\n",
       "    </tr>\n",
       "  </tbody>\n",
       "</table>\n",
       "<p>112 rows × 4 columns</p>\n",
       "</div>"
      ],
      "text/plain": [
       "    year_week    LocationName  group_size  proportion\n",
       "0    2016-w27            Acre           2    0.000917\n",
       "1    2016-w27         Alagoas           5    0.002293\n",
       "2    2016-w27           Amapa           2    0.000917\n",
       "3    2016-w27        Amazonas          11    0.005044\n",
       "4    2016-w27           Bahia          20    0.009170\n",
       "..        ...             ...         ...         ...\n",
       "107  2016-w31         Roraima           1    0.000459\n",
       "108  2016-w31  Santa Catarina           2    0.000917\n",
       "109  2016-w31       Sao Paulo          27    0.012380\n",
       "110  2016-w31         Sergipe           4    0.001834\n",
       "111  2016-w31       Tocantins           1    0.000459\n",
       "\n",
       "[112 rows x 4 columns]"
      ]
     },
     "execution_count": 96,
     "metadata": {},
     "output_type": "execute_result"
    }
   ],
   "source": [
    "# Step 1: Calculate the size of each group (year_week, LocationName)\n",
    "group_sizes = df_2016_07_pos.groupby(['year_week', 'LocationName']).size().reset_index(name='group_size')\n",
    "\n",
    "# Step 2: Calculate the proportion of each group in the dataset\n",
    "total_rows = len(df_2016_07_pos)\n",
    "group_sizes['proportion'] = group_sizes['group_size'] / total_rows\n",
    "group_sizes"
   ]
  },
  {
   "cell_type": "code",
   "execution_count": 97,
   "id": "97b60716",
   "metadata": {},
   "outputs": [],
   "source": [
    "# Step 3: Define the target sample size\n",
    "#target_sample_size = 2450\n",
    "\n",
    "# Step 4: Calculate the sample size for each group (based on its proportion)\n",
    "#group_sizes['sample_size'] = np.floor(group_sizes['proportion'] * target_sample_size).astype(int)\n",
    "#group_sizes\n",
    "# Include all samples since there are not many tweets"
   ]
  },
  {
   "cell_type": "code",
   "execution_count": 98,
   "id": "4c991d80",
   "metadata": {},
   "outputs": [],
   "source": [
    "# Step 5: Merge this sample size information back to the original DataFrame\n",
    "#df_2016_07_pos_sample_size = pd.merge(df_2016_07_pos, group_sizes[['year_week', 'LocationName', 'sample_size']], \n",
    " #                              on=['year_week', 'LocationName'], how='left')"
   ]
  },
  {
   "cell_type": "code",
   "execution_count": 99,
   "id": "deab4678",
   "metadata": {},
   "outputs": [
    {
     "name": "stdout",
     "output_type": "stream",
     "text": [
      "Sampled 2181 rows.\n"
     ]
    }
   ],
   "source": [
    "# Step 6: Perform the stratified sampling\n",
    "#df_2016_07_pos_sample = df_2016_07_pos_sample_size.groupby(['year_week', 'LocationName']).apply(\n",
    "#    lambda group: group.sample(n=group['sample_size'].iloc[0], random_state=42)\n",
    "#).reset_index(drop=True)\n",
    "df_2016_07_pos_sample = df_2016_07_pos\n",
    "# Step 7: Check the result\n",
    "print(f\"Sampled {len(df_2016_07_pos_sample)} rows.\")\n"
   ]
  },
  {
   "cell_type": "code",
   "execution_count": 100,
   "id": "33656dea",
   "metadata": {},
   "outputs": [],
   "source": [
    "text_gpt_2016_07_pos = '\\n'.join(df_2016_07_pos_sample['text'].astype(str))"
   ]
  },
  {
   "cell_type": "markdown",
   "id": "92d7e0ea",
   "metadata": {},
   "source": [
    "### Prompts and loops"
   ]
  },
  {
   "cell_type": "code",
   "execution_count": 101,
   "id": "349334a9",
   "metadata": {},
   "outputs": [],
   "source": [
    "prompt_7 = prompt_raw.replace('TWEETS', text_gpt_2016_07_pos)"
   ]
  },
  {
   "cell_type": "code",
   "execution_count": 102,
   "id": "ff46a08b",
   "metadata": {
    "scrolled": false
   },
   "outputs": [],
   "source": [
    "response = openai.ChatCompletion.create(\n",
    "    model=\"gpt-4o-mini\",  \n",
    "    messages = [\n",
    "        {\"role\": \"user\", \"content\": prompt_7}\n",
    "    ],\n",
    "    max_tokens=400,  # Maximum number of tokens in the response\n",
    "    temperature=0.7  # Controls the randomness of the output\n",
    ")"
   ]
  },
  {
   "cell_type": "code",
   "execution_count": 103,
   "id": "6723c1d4",
   "metadata": {},
   "outputs": [
    {
     "data": {
      "text/plain": [
       "\"The text discusses various aspects of vaccination, including the development and testing of vaccines against diseases like Zika, dengue, hepatitis, and HPV. It emphasizes the importance of vaccination for public health, mentions specific vaccination campaigns in Brazil, and highlights personal anecdotes about vaccination experiences. There's also discussion about the necessity of keeping vaccination records up to date and the role of vaccines in preventing outbreaks of diseases like yellow fever and rabies.\""
      ]
     },
     "execution_count": 103,
     "metadata": {},
     "output_type": "execute_result"
    }
   ],
   "source": [
    "response.choices[0].message.content"
   ]
  },
  {
   "cell_type": "code",
   "execution_count": 104,
   "id": "d3081509",
   "metadata": {},
   "outputs": [],
   "source": [
    "#summary = []\n",
    "#dataset = []"
   ]
  },
  {
   "cell_type": "code",
   "execution_count": 105,
   "id": "1ba0dacb",
   "metadata": {},
   "outputs": [],
   "source": [
    "dataset.append(\"2016_07_positive\")"
   ]
  },
  {
   "cell_type": "code",
   "execution_count": 106,
   "id": "cadb0bde",
   "metadata": {},
   "outputs": [],
   "source": [
    "summary.append(response.choices[0].message.content)"
   ]
  },
  {
   "cell_type": "code",
   "execution_count": 107,
   "id": "b80e1e4e",
   "metadata": {
    "tags": []
   },
   "outputs": [
    {
     "name": "stdout",
     "output_type": "stream",
     "text": [
      "<class 'pandas.core.frame.DataFrame'>\n",
      "RangeIndex: 7 entries, 0 to 6\n",
      "Data columns (total 2 columns):\n",
      " #   Column   Non-Null Count  Dtype \n",
      "---  ------   --------------  ----- \n",
      " 0   dataset  7 non-null      object\n",
      " 1   summary  7 non-null      object\n",
      "dtypes: object(2)\n",
      "memory usage: 240.0+ bytes\n"
     ]
    }
   ],
   "source": [
    "df_2016_pos = pd.DataFrame(list(zip(dataset, summary)),\n",
    "                            columns = ['dataset', 'summary'])\n",
    "df_2016_pos.info()"
   ]
  },
  {
   "cell_type": "code",
   "execution_count": 108,
   "id": "de211f05",
   "metadata": {},
   "outputs": [
    {
     "data": {
      "text/html": [
       "<div>\n",
       "<style scoped>\n",
       "    .dataframe tbody tr th:only-of-type {\n",
       "        vertical-align: middle;\n",
       "    }\n",
       "\n",
       "    .dataframe tbody tr th {\n",
       "        vertical-align: top;\n",
       "    }\n",
       "\n",
       "    .dataframe thead th {\n",
       "        text-align: right;\n",
       "    }\n",
       "</style>\n",
       "<table border=\"1\" class=\"dataframe\">\n",
       "  <thead>\n",
       "    <tr style=\"text-align: right;\">\n",
       "      <th></th>\n",
       "      <th>dataset</th>\n",
       "      <th>summary</th>\n",
       "    </tr>\n",
       "  </thead>\n",
       "  <tbody>\n",
       "    <tr>\n",
       "      <th>0</th>\n",
       "      <td>2016_01_positive</td>\n",
       "      <td>The sentences discuss various aspects of vacci...</td>\n",
       "    </tr>\n",
       "    <tr>\n",
       "      <th>1</th>\n",
       "      <td>2016_02_positive</td>\n",
       "      <td>The excerpts discuss the urgent need for a vac...</td>\n",
       "    </tr>\n",
       "    <tr>\n",
       "      <th>2</th>\n",
       "      <td>2016_03_positive</td>\n",
       "      <td>In Brazil, there is a strong emphasis on vacci...</td>\n",
       "    </tr>\n",
       "    <tr>\n",
       "      <th>3</th>\n",
       "      <td>2016_04_positive</td>\n",
       "      <td>The text discusses various vaccination campaig...</td>\n",
       "    </tr>\n",
       "    <tr>\n",
       "      <th>4</th>\n",
       "      <td>2016_05_positive</td>\n",
       "      <td>The text discusses various vaccination campaig...</td>\n",
       "    </tr>\n",
       "    <tr>\n",
       "      <th>5</th>\n",
       "      <td>2016_06_positive</td>\n",
       "      <td>The texts discuss various vaccination initiati...</td>\n",
       "    </tr>\n",
       "    <tr>\n",
       "      <th>6</th>\n",
       "      <td>2016_07_positive</td>\n",
       "      <td>The text discusses various aspects of vaccinat...</td>\n",
       "    </tr>\n",
       "  </tbody>\n",
       "</table>\n",
       "</div>"
      ],
      "text/plain": [
       "            dataset                                            summary\n",
       "0  2016_01_positive  The sentences discuss various aspects of vacci...\n",
       "1  2016_02_positive  The excerpts discuss the urgent need for a vac...\n",
       "2  2016_03_positive  In Brazil, there is a strong emphasis on vacci...\n",
       "3  2016_04_positive  The text discusses various vaccination campaig...\n",
       "4  2016_05_positive  The text discusses various vaccination campaig...\n",
       "5  2016_06_positive  The texts discuss various vaccination initiati...\n",
       "6  2016_07_positive  The text discusses various aspects of vaccinat..."
      ]
     },
     "execution_count": 108,
     "metadata": {},
     "output_type": "execute_result"
    }
   ],
   "source": [
    "df_2016_pos.tail(14)"
   ]
  },
  {
   "cell_type": "code",
   "execution_count": 109,
   "id": "19075d74",
   "metadata": {},
   "outputs": [
    {
     "data": {
      "text/plain": [
       "<OpenAIObject chat.completion id=chatcmpl-AUcs1HAdZqxJ7J01bke7P9w1r2Xmx at 0x2107f2aa680> JSON: {\n",
       "  \"choices\": [\n",
       "    {\n",
       "      \"finish_reason\": \"stop\",\n",
       "      \"index\": 0,\n",
       "      \"logprobs\": null,\n",
       "      \"message\": {\n",
       "        \"content\": \"The text discusses various aspects of vaccination, including the development and testing of vaccines against diseases like Zika, dengue, hepatitis, and HPV. It emphasizes the importance of vaccination for public health, mentions specific vaccination campaigns in Brazil, and highlights personal anecdotes about vaccination experiences. There's also discussion about the necessity of keeping vaccination records up to date and the role of vaccines in preventing outbreaks of diseases like yellow fever and rabies.\",\n",
       "        \"refusal\": null,\n",
       "        \"role\": \"assistant\"\n",
       "      }\n",
       "    }\n",
       "  ],\n",
       "  \"created\": 1731862621,\n",
       "  \"id\": \"chatcmpl-AUcs1HAdZqxJ7J01bke7P9w1r2Xmx\",\n",
       "  \"model\": \"gpt-4o-mini-2024-07-18\",\n",
       "  \"object\": \"chat.completion\",\n",
       "  \"system_fingerprint\": \"fp_0ba0d124f1\",\n",
       "  \"usage\": {\n",
       "    \"completion_tokens\": 83,\n",
       "    \"completion_tokens_details\": {\n",
       "      \"accepted_prediction_tokens\": 0,\n",
       "      \"audio_tokens\": 0,\n",
       "      \"reasoning_tokens\": 0,\n",
       "      \"rejected_prediction_tokens\": 0\n",
       "    },\n",
       "    \"prompt_tokens\": 56180,\n",
       "    \"prompt_tokens_details\": {\n",
       "      \"audio_tokens\": 0,\n",
       "      \"cached_tokens\": 0\n",
       "    },\n",
       "    \"total_tokens\": 56263\n",
       "  }\n",
       "}"
      ]
     },
     "execution_count": 109,
     "metadata": {},
     "output_type": "execute_result"
    }
   ],
   "source": [
    "response"
   ]
  },
  {
   "cell_type": "markdown",
   "id": "9d083d2a",
   "metadata": {},
   "source": [
    "## August"
   ]
  },
  {
   "cell_type": "code",
   "execution_count": 110,
   "id": "0ed2a943",
   "metadata": {
    "scrolled": true,
    "tags": []
   },
   "outputs": [
    {
     "name": "stdout",
     "output_type": "stream",
     "text": [
      "<class 'pandas.core.frame.DataFrame'>\n",
      "RangeIndex: 1958 entries, 0 to 1957\n",
      "Data columns (total 53 columns):\n",
      " #   Column                  Non-Null Count  Dtype  \n",
      "---  ------                  --------------  -----  \n",
      " 0   index                   1958 non-null   int64  \n",
      " 1   LocationCode            1958 non-null   object \n",
      " 2   LocationName            1958 non-null   object \n",
      " 3   StatesCode              1958 non-null   object \n",
      " 4   ...4                    1958 non-null   int64  \n",
      " 5   id                      1958 non-null   float64\n",
      " 6   text                    1958 non-null   object \n",
      " 7   label                   1958 non-null   object \n",
      " 8   in_reply_to_status_id   92 non-null     float64\n",
      " 9   in_reply_to_user_id     98 non-null     float64\n",
      " 10  quoted_user_id          25 non-null     float64\n",
      " 11  quoted_status_id        25 non-null     float64\n",
      " 12  retweeted_user_id       429 non-null    float64\n",
      " 13  retweeted_status_id     429 non-null    float64\n",
      " 14  created_at              1958 non-null   object \n",
      " 15  entities.user_mentions  612 non-null    object \n",
      " 16  user.id                 1958 non-null   float64\n",
      " 17  user.screen_name        1958 non-null   object \n",
      " 18  user.name               1958 non-null   object \n",
      " 19  user.description        1730 non-null   object \n",
      " 20  user.timezone           0 non-null      float64\n",
      " 21  user.location           1941 non-null   object \n",
      " 22  user.num_followers      1958 non-null   int64  \n",
      " 23  user.num_following      1958 non-null   int64  \n",
      " 24  user.created_at         1958 non-null   object \n",
      " 25  user.statuses_count     1958 non-null   int64  \n",
      " 26  user.is_verified        1958 non-null   bool   \n",
      " 27  lang                    1958 non-null   object \n",
      " 28  token_count             1958 non-null   int64  \n",
      " 29  is_retweet              1958 non-null   bool   \n",
      " 30  has_quote               1958 non-null   bool   \n",
      " 31  is_reply                1958 non-null   bool   \n",
      " 32  contains_keywords       1958 non-null   bool   \n",
      " 33  longitude               1958 non-null   float64\n",
      " 34  latitude                1958 non-null   float64\n",
      " 35  country_code            1958 non-null   object \n",
      " 36  geoname_id              1856 non-null   float64\n",
      " 37  location_type           1958 non-null   object \n",
      " 38  geo_type                1958 non-null   int64  \n",
      " 39  region                  1958 non-null   object \n",
      " 40  subregion               1958 non-null   object \n",
      " 41  num_quotes              1958 non-null   int64  \n",
      " 42  num_replies             1958 non-null   int64  \n",
      " 43  num_retweets            1958 non-null   int64  \n",
      " 44  sent_gpt                1958 non-null   object \n",
      " 45  gpt_sent_presence       1958 non-null   int64  \n",
      " 46  cleaned_text_lem        1958 non-null   object \n",
      " 47  cleaned_text            1958 non-null   object \n",
      " 48  month                   1958 non-null   int64  \n",
      " 49  year                    1958 non-null   int64  \n",
      " 50  week                    1958 non-null   int64  \n",
      " 51  year_month              1958 non-null   object \n",
      " 52  year_week               1958 non-null   object \n",
      "dtypes: bool(5), float64(12), int64(14), object(22)\n",
      "memory usage: 743.9+ KB\n"
     ]
    }
   ],
   "source": [
    "# Get monthly data\n",
    "df_2016_08_pos = pd.read_csv('../data/local/df_pos_2016-08.csv').reset_index()\n",
    "df_2016_08_pos.info()"
   ]
  },
  {
   "cell_type": "markdown",
   "id": "3c035145",
   "metadata": {},
   "source": [
    "### Representative sample based on week and location"
   ]
  },
  {
   "cell_type": "code",
   "execution_count": 111,
   "id": "ebf072ee",
   "metadata": {},
   "outputs": [
    {
     "data": {
      "text/html": [
       "<div>\n",
       "<style scoped>\n",
       "    .dataframe tbody tr th:only-of-type {\n",
       "        vertical-align: middle;\n",
       "    }\n",
       "\n",
       "    .dataframe tbody tr th {\n",
       "        vertical-align: top;\n",
       "    }\n",
       "\n",
       "    .dataframe thead th {\n",
       "        text-align: right;\n",
       "    }\n",
       "</style>\n",
       "<table border=\"1\" class=\"dataframe\">\n",
       "  <thead>\n",
       "    <tr style=\"text-align: right;\">\n",
       "      <th></th>\n",
       "      <th>year_week</th>\n",
       "      <th>LocationName</th>\n",
       "      <th>group_size</th>\n",
       "      <th>proportion</th>\n",
       "    </tr>\n",
       "  </thead>\n",
       "  <tbody>\n",
       "    <tr>\n",
       "      <th>0</th>\n",
       "      <td>2016-w31</td>\n",
       "      <td>Alagoas</td>\n",
       "      <td>7</td>\n",
       "      <td>0.003575</td>\n",
       "    </tr>\n",
       "    <tr>\n",
       "      <th>1</th>\n",
       "      <td>2016-w31</td>\n",
       "      <td>Amapa</td>\n",
       "      <td>3</td>\n",
       "      <td>0.001532</td>\n",
       "    </tr>\n",
       "    <tr>\n",
       "      <th>2</th>\n",
       "      <td>2016-w31</td>\n",
       "      <td>Amazonas</td>\n",
       "      <td>12</td>\n",
       "      <td>0.006129</td>\n",
       "    </tr>\n",
       "    <tr>\n",
       "      <th>3</th>\n",
       "      <td>2016-w31</td>\n",
       "      <td>Bahia</td>\n",
       "      <td>31</td>\n",
       "      <td>0.015832</td>\n",
       "    </tr>\n",
       "    <tr>\n",
       "      <th>4</th>\n",
       "      <td>2016-w31</td>\n",
       "      <td>Ceara</td>\n",
       "      <td>7</td>\n",
       "      <td>0.003575</td>\n",
       "    </tr>\n",
       "    <tr>\n",
       "      <th>...</th>\n",
       "      <td>...</td>\n",
       "      <td>...</td>\n",
       "      <td>...</td>\n",
       "      <td>...</td>\n",
       "    </tr>\n",
       "    <tr>\n",
       "      <th>98</th>\n",
       "      <td>2016-w35</td>\n",
       "      <td>Rondonia</td>\n",
       "      <td>6</td>\n",
       "      <td>0.003064</td>\n",
       "    </tr>\n",
       "    <tr>\n",
       "      <th>99</th>\n",
       "      <td>2016-w35</td>\n",
       "      <td>Roraima</td>\n",
       "      <td>5</td>\n",
       "      <td>0.002554</td>\n",
       "    </tr>\n",
       "    <tr>\n",
       "      <th>100</th>\n",
       "      <td>2016-w35</td>\n",
       "      <td>Santa Catarina</td>\n",
       "      <td>4</td>\n",
       "      <td>0.002043</td>\n",
       "    </tr>\n",
       "    <tr>\n",
       "      <th>101</th>\n",
       "      <td>2016-w35</td>\n",
       "      <td>Sao Paulo</td>\n",
       "      <td>62</td>\n",
       "      <td>0.031665</td>\n",
       "    </tr>\n",
       "    <tr>\n",
       "      <th>102</th>\n",
       "      <td>2016-w35</td>\n",
       "      <td>Sergipe</td>\n",
       "      <td>2</td>\n",
       "      <td>0.001021</td>\n",
       "    </tr>\n",
       "  </tbody>\n",
       "</table>\n",
       "<p>103 rows × 4 columns</p>\n",
       "</div>"
      ],
      "text/plain": [
       "    year_week    LocationName  group_size  proportion\n",
       "0    2016-w31         Alagoas           7    0.003575\n",
       "1    2016-w31           Amapa           3    0.001532\n",
       "2    2016-w31        Amazonas          12    0.006129\n",
       "3    2016-w31           Bahia          31    0.015832\n",
       "4    2016-w31           Ceara           7    0.003575\n",
       "..        ...             ...         ...         ...\n",
       "98   2016-w35        Rondonia           6    0.003064\n",
       "99   2016-w35         Roraima           5    0.002554\n",
       "100  2016-w35  Santa Catarina           4    0.002043\n",
       "101  2016-w35       Sao Paulo          62    0.031665\n",
       "102  2016-w35         Sergipe           2    0.001021\n",
       "\n",
       "[103 rows x 4 columns]"
      ]
     },
     "execution_count": 111,
     "metadata": {},
     "output_type": "execute_result"
    }
   ],
   "source": [
    "# Step 1: Calculate the size of each group (year_week, LocationName)\n",
    "group_sizes = df_2016_08_pos.groupby(['year_week', 'LocationName']).size().reset_index(name='group_size')\n",
    "\n",
    "# Step 2: Calculate the proportion of each group in the dataset\n",
    "total_rows = len(df_2016_08_pos)\n",
    "group_sizes['proportion'] = group_sizes['group_size'] / total_rows\n",
    "group_sizes"
   ]
  },
  {
   "cell_type": "code",
   "execution_count": 112,
   "id": "c3bc6232",
   "metadata": {},
   "outputs": [
    {
     "data": {
      "text/html": [
       "<div>\n",
       "<style scoped>\n",
       "    .dataframe tbody tr th:only-of-type {\n",
       "        vertical-align: middle;\n",
       "    }\n",
       "\n",
       "    .dataframe tbody tr th {\n",
       "        vertical-align: top;\n",
       "    }\n",
       "\n",
       "    .dataframe thead th {\n",
       "        text-align: right;\n",
       "    }\n",
       "</style>\n",
       "<table border=\"1\" class=\"dataframe\">\n",
       "  <thead>\n",
       "    <tr style=\"text-align: right;\">\n",
       "      <th></th>\n",
       "      <th>year_week</th>\n",
       "      <th>LocationName</th>\n",
       "      <th>group_size</th>\n",
       "      <th>proportion</th>\n",
       "      <th>sample_size</th>\n",
       "    </tr>\n",
       "  </thead>\n",
       "  <tbody>\n",
       "    <tr>\n",
       "      <th>0</th>\n",
       "      <td>2016-w31</td>\n",
       "      <td>Alagoas</td>\n",
       "      <td>7</td>\n",
       "      <td>0.003575</td>\n",
       "      <td>8</td>\n",
       "    </tr>\n",
       "    <tr>\n",
       "      <th>1</th>\n",
       "      <td>2016-w31</td>\n",
       "      <td>Amapa</td>\n",
       "      <td>3</td>\n",
       "      <td>0.001532</td>\n",
       "      <td>3</td>\n",
       "    </tr>\n",
       "    <tr>\n",
       "      <th>2</th>\n",
       "      <td>2016-w31</td>\n",
       "      <td>Amazonas</td>\n",
       "      <td>12</td>\n",
       "      <td>0.006129</td>\n",
       "      <td>15</td>\n",
       "    </tr>\n",
       "    <tr>\n",
       "      <th>3</th>\n",
       "      <td>2016-w31</td>\n",
       "      <td>Bahia</td>\n",
       "      <td>31</td>\n",
       "      <td>0.015832</td>\n",
       "      <td>38</td>\n",
       "    </tr>\n",
       "    <tr>\n",
       "      <th>4</th>\n",
       "      <td>2016-w31</td>\n",
       "      <td>Ceara</td>\n",
       "      <td>7</td>\n",
       "      <td>0.003575</td>\n",
       "      <td>8</td>\n",
       "    </tr>\n",
       "    <tr>\n",
       "      <th>...</th>\n",
       "      <td>...</td>\n",
       "      <td>...</td>\n",
       "      <td>...</td>\n",
       "      <td>...</td>\n",
       "      <td>...</td>\n",
       "    </tr>\n",
       "    <tr>\n",
       "      <th>98</th>\n",
       "      <td>2016-w35</td>\n",
       "      <td>Rondonia</td>\n",
       "      <td>6</td>\n",
       "      <td>0.003064</td>\n",
       "      <td>7</td>\n",
       "    </tr>\n",
       "    <tr>\n",
       "      <th>99</th>\n",
       "      <td>2016-w35</td>\n",
       "      <td>Roraima</td>\n",
       "      <td>5</td>\n",
       "      <td>0.002554</td>\n",
       "      <td>6</td>\n",
       "    </tr>\n",
       "    <tr>\n",
       "      <th>100</th>\n",
       "      <td>2016-w35</td>\n",
       "      <td>Santa Catarina</td>\n",
       "      <td>4</td>\n",
       "      <td>0.002043</td>\n",
       "      <td>5</td>\n",
       "    </tr>\n",
       "    <tr>\n",
       "      <th>101</th>\n",
       "      <td>2016-w35</td>\n",
       "      <td>Sao Paulo</td>\n",
       "      <td>62</td>\n",
       "      <td>0.031665</td>\n",
       "      <td>77</td>\n",
       "    </tr>\n",
       "    <tr>\n",
       "      <th>102</th>\n",
       "      <td>2016-w35</td>\n",
       "      <td>Sergipe</td>\n",
       "      <td>2</td>\n",
       "      <td>0.001021</td>\n",
       "      <td>2</td>\n",
       "    </tr>\n",
       "  </tbody>\n",
       "</table>\n",
       "<p>103 rows × 5 columns</p>\n",
       "</div>"
      ],
      "text/plain": [
       "    year_week    LocationName  group_size  proportion  sample_size\n",
       "0    2016-w31         Alagoas           7    0.003575            8\n",
       "1    2016-w31           Amapa           3    0.001532            3\n",
       "2    2016-w31        Amazonas          12    0.006129           15\n",
       "3    2016-w31           Bahia          31    0.015832           38\n",
       "4    2016-w31           Ceara           7    0.003575            8\n",
       "..        ...             ...         ...         ...          ...\n",
       "98   2016-w35        Rondonia           6    0.003064            7\n",
       "99   2016-w35         Roraima           5    0.002554            6\n",
       "100  2016-w35  Santa Catarina           4    0.002043            5\n",
       "101  2016-w35       Sao Paulo          62    0.031665           77\n",
       "102  2016-w35         Sergipe           2    0.001021            2\n",
       "\n",
       "[103 rows x 5 columns]"
      ]
     },
     "execution_count": 112,
     "metadata": {},
     "output_type": "execute_result"
    }
   ],
   "source": [
    "# Step 3: Define the target sample size\n",
    "target_sample_size = 2450\n",
    "\n",
    "# Step 4: Calculate the sample size for each group (based on its proportion)\n",
    "group_sizes['sample_size'] = np.floor(group_sizes['proportion'] * target_sample_size).astype(int)\n",
    "group_sizes"
   ]
  },
  {
   "cell_type": "code",
   "execution_count": 113,
   "id": "2f55ef03",
   "metadata": {},
   "outputs": [],
   "source": [
    "# Step 5: Merge this sample size information back to the original DataFrame\n",
    "df_2016_08_pos_sample_size = pd.merge(df_2016_08_pos, group_sizes[['year_week', 'LocationName', 'sample_size']], \n",
    "                               on=['year_week', 'LocationName'], how='left')"
   ]
  },
  {
   "cell_type": "code",
   "execution_count": 115,
   "id": "2aa2083a",
   "metadata": {},
   "outputs": [
    {
     "name": "stdout",
     "output_type": "stream",
     "text": [
      "Sampled 1958 rows.\n"
     ]
    }
   ],
   "source": [
    "# Step 6: Perform the stratified sampling\n",
    "#df_2016_08_pos_sample = df_2016_08_pos_sample_size.groupby(['year_week', 'LocationName']).apply(\n",
    " #   lambda group: group.sample(n=group['sample_size'].iloc[0], random_state=42)\n",
    "#).reset_index(drop=True)\n",
    "df_2016_08_pos_sample = df_2016_08_pos\n",
    "# Step 7: Check the result\n",
    "print(f\"Sampled {len(df_2016_08_pos_sample)} rows.\")\n"
   ]
  },
  {
   "cell_type": "code",
   "execution_count": 116,
   "id": "3eb70c20",
   "metadata": {},
   "outputs": [],
   "source": [
    "text_gpt_2016_08_pos = '\\n'.join(df_2016_08_pos_sample['text'].astype(str))"
   ]
  },
  {
   "cell_type": "markdown",
   "id": "20c12a08",
   "metadata": {},
   "source": [
    "### Prompts and loops"
   ]
  },
  {
   "cell_type": "code",
   "execution_count": 117,
   "id": "6cbedf14",
   "metadata": {},
   "outputs": [],
   "source": [
    "prompt_8 = prompt_raw.replace('TWEETS', text_gpt_2016_08_pos)"
   ]
  },
  {
   "cell_type": "code",
   "execution_count": 118,
   "id": "6312a680",
   "metadata": {
    "scrolled": false
   },
   "outputs": [],
   "source": [
    "response = openai.ChatCompletion.create(\n",
    "    model=\"gpt-4o-mini\",  \n",
    "    messages = [\n",
    "        {\"role\": \"user\", \"content\": prompt_8}\n",
    "    ],\n",
    "    max_tokens=400,  # Maximum number of tokens in the response\n",
    "    temperature=0.7  # Controls the randomness of the output\n",
    ")"
   ]
  },
  {
   "cell_type": "code",
   "execution_count": 119,
   "id": "1af4a697",
   "metadata": {},
   "outputs": [
    {
     "data": {
      "text/plain": [
       "'The texts discuss various vaccines currently in development or available in Brazil, including those against Zika, dengue, and esquistossomose. The U.S. has initiated human trials for a Zika vaccine, while Brazil is rolling out dengue vaccination campaigns. There are also mentions of vaccination against diseases like HPV, rubella, and rabies, emphasizing the importance of vaccination for public health.'"
      ]
     },
     "execution_count": 119,
     "metadata": {},
     "output_type": "execute_result"
    }
   ],
   "source": [
    "response.choices[0].message.content"
   ]
  },
  {
   "cell_type": "code",
   "execution_count": 120,
   "id": "c2df0aba",
   "metadata": {},
   "outputs": [],
   "source": [
    "#summary = []\n",
    "#dataset = []"
   ]
  },
  {
   "cell_type": "code",
   "execution_count": 121,
   "id": "9714a127",
   "metadata": {},
   "outputs": [],
   "source": [
    "dataset.append(\"2016_08_positive\")"
   ]
  },
  {
   "cell_type": "code",
   "execution_count": 122,
   "id": "7118fbc6",
   "metadata": {},
   "outputs": [],
   "source": [
    "summary.append(response.choices[0].message.content)"
   ]
  },
  {
   "cell_type": "code",
   "execution_count": 123,
   "id": "626416cc",
   "metadata": {
    "tags": []
   },
   "outputs": [
    {
     "name": "stdout",
     "output_type": "stream",
     "text": [
      "<class 'pandas.core.frame.DataFrame'>\n",
      "RangeIndex: 8 entries, 0 to 7\n",
      "Data columns (total 2 columns):\n",
      " #   Column   Non-Null Count  Dtype \n",
      "---  ------   --------------  ----- \n",
      " 0   dataset  8 non-null      object\n",
      " 1   summary  8 non-null      object\n",
      "dtypes: object(2)\n",
      "memory usage: 256.0+ bytes\n"
     ]
    }
   ],
   "source": [
    "df_2016_pos = pd.DataFrame(list(zip(dataset, summary)),\n",
    "                            columns = ['dataset', 'summary'])\n",
    "df_2016_pos.info()"
   ]
  },
  {
   "cell_type": "code",
   "execution_count": 124,
   "id": "c9811a57",
   "metadata": {},
   "outputs": [
    {
     "data": {
      "text/html": [
       "<div>\n",
       "<style scoped>\n",
       "    .dataframe tbody tr th:only-of-type {\n",
       "        vertical-align: middle;\n",
       "    }\n",
       "\n",
       "    .dataframe tbody tr th {\n",
       "        vertical-align: top;\n",
       "    }\n",
       "\n",
       "    .dataframe thead th {\n",
       "        text-align: right;\n",
       "    }\n",
       "</style>\n",
       "<table border=\"1\" class=\"dataframe\">\n",
       "  <thead>\n",
       "    <tr style=\"text-align: right;\">\n",
       "      <th></th>\n",
       "      <th>dataset</th>\n",
       "      <th>summary</th>\n",
       "    </tr>\n",
       "  </thead>\n",
       "  <tbody>\n",
       "    <tr>\n",
       "      <th>0</th>\n",
       "      <td>2016_01_positive</td>\n",
       "      <td>The sentences discuss various aspects of vacci...</td>\n",
       "    </tr>\n",
       "    <tr>\n",
       "      <th>1</th>\n",
       "      <td>2016_02_positive</td>\n",
       "      <td>The excerpts discuss the urgent need for a vac...</td>\n",
       "    </tr>\n",
       "    <tr>\n",
       "      <th>2</th>\n",
       "      <td>2016_03_positive</td>\n",
       "      <td>In Brazil, there is a strong emphasis on vacci...</td>\n",
       "    </tr>\n",
       "    <tr>\n",
       "      <th>3</th>\n",
       "      <td>2016_04_positive</td>\n",
       "      <td>The text discusses various vaccination campaig...</td>\n",
       "    </tr>\n",
       "    <tr>\n",
       "      <th>4</th>\n",
       "      <td>2016_05_positive</td>\n",
       "      <td>The text discusses various vaccination campaig...</td>\n",
       "    </tr>\n",
       "    <tr>\n",
       "      <th>5</th>\n",
       "      <td>2016_06_positive</td>\n",
       "      <td>The texts discuss various vaccination initiati...</td>\n",
       "    </tr>\n",
       "    <tr>\n",
       "      <th>6</th>\n",
       "      <td>2016_07_positive</td>\n",
       "      <td>The text discusses various aspects of vaccinat...</td>\n",
       "    </tr>\n",
       "    <tr>\n",
       "      <th>7</th>\n",
       "      <td>2016_08_positive</td>\n",
       "      <td>The texts discuss various vaccines currently i...</td>\n",
       "    </tr>\n",
       "  </tbody>\n",
       "</table>\n",
       "</div>"
      ],
      "text/plain": [
       "            dataset                                            summary\n",
       "0  2016_01_positive  The sentences discuss various aspects of vacci...\n",
       "1  2016_02_positive  The excerpts discuss the urgent need for a vac...\n",
       "2  2016_03_positive  In Brazil, there is a strong emphasis on vacci...\n",
       "3  2016_04_positive  The text discusses various vaccination campaig...\n",
       "4  2016_05_positive  The text discusses various vaccination campaig...\n",
       "5  2016_06_positive  The texts discuss various vaccination initiati...\n",
       "6  2016_07_positive  The text discusses various aspects of vaccinat...\n",
       "7  2016_08_positive  The texts discuss various vaccines currently i..."
      ]
     },
     "execution_count": 124,
     "metadata": {},
     "output_type": "execute_result"
    }
   ],
   "source": [
    "df_2016_pos.tail(14)"
   ]
  },
  {
   "cell_type": "code",
   "execution_count": 125,
   "id": "cd10153f",
   "metadata": {},
   "outputs": [
    {
     "data": {
      "text/plain": [
       "<OpenAIObject chat.completion id=chatcmpl-AUcsVPzxuQjLt4TYqWiH5wIfDdgRD at 0x2100133ed60> JSON: {\n",
       "  \"choices\": [\n",
       "    {\n",
       "      \"finish_reason\": \"stop\",\n",
       "      \"index\": 0,\n",
       "      \"logprobs\": null,\n",
       "      \"message\": {\n",
       "        \"content\": \"The texts discuss various vaccines currently in development or available in Brazil, including those against Zika, dengue, and esquistossomose. The U.S. has initiated human trials for a Zika vaccine, while Brazil is rolling out dengue vaccination campaigns. There are also mentions of vaccination against diseases like HPV, rubella, and rabies, emphasizing the importance of vaccination for public health.\",\n",
       "        \"refusal\": null,\n",
       "        \"role\": \"assistant\"\n",
       "      }\n",
       "    }\n",
       "  ],\n",
       "  \"created\": 1731862651,\n",
       "  \"id\": \"chatcmpl-AUcsVPzxuQjLt4TYqWiH5wIfDdgRD\",\n",
       "  \"model\": \"gpt-4o-mini-2024-07-18\",\n",
       "  \"object\": \"chat.completion\",\n",
       "  \"system_fingerprint\": \"fp_0ba0d124f1\",\n",
       "  \"usage\": {\n",
       "    \"completion_tokens\": 78,\n",
       "    \"completion_tokens_details\": {\n",
       "      \"accepted_prediction_tokens\": 0,\n",
       "      \"audio_tokens\": 0,\n",
       "      \"reasoning_tokens\": 0,\n",
       "      \"rejected_prediction_tokens\": 0\n",
       "    },\n",
       "    \"prompt_tokens\": 48608,\n",
       "    \"prompt_tokens_details\": {\n",
       "      \"audio_tokens\": 0,\n",
       "      \"cached_tokens\": 0\n",
       "    },\n",
       "    \"total_tokens\": 48686\n",
       "  }\n",
       "}"
      ]
     },
     "execution_count": 125,
     "metadata": {},
     "output_type": "execute_result"
    }
   ],
   "source": [
    "response"
   ]
  },
  {
   "cell_type": "markdown",
   "id": "1a0c859d",
   "metadata": {},
   "source": [
    "## September"
   ]
  },
  {
   "cell_type": "code",
   "execution_count": 126,
   "id": "46970275",
   "metadata": {
    "scrolled": true,
    "tags": []
   },
   "outputs": [
    {
     "name": "stdout",
     "output_type": "stream",
     "text": [
      "<class 'pandas.core.frame.DataFrame'>\n",
      "RangeIndex: 3200 entries, 0 to 3199\n",
      "Data columns (total 53 columns):\n",
      " #   Column                  Non-Null Count  Dtype  \n",
      "---  ------                  --------------  -----  \n",
      " 0   index                   3200 non-null   int64  \n",
      " 1   LocationCode            3200 non-null   object \n",
      " 2   LocationName            3200 non-null   object \n",
      " 3   StatesCode              3200 non-null   object \n",
      " 4   ...4                    3200 non-null   int64  \n",
      " 5   id                      3200 non-null   float64\n",
      " 6   text                    3200 non-null   object \n",
      " 7   label                   3200 non-null   object \n",
      " 8   in_reply_to_status_id   125 non-null    float64\n",
      " 9   in_reply_to_user_id     130 non-null    float64\n",
      " 10  quoted_user_id          65 non-null     float64\n",
      " 11  quoted_status_id        65 non-null     float64\n",
      " 12  retweeted_user_id       1000 non-null   float64\n",
      " 13  retweeted_status_id     1000 non-null   float64\n",
      " 14  created_at              3200 non-null   object \n",
      " 15  entities.user_mentions  1280 non-null   object \n",
      " 16  user.id                 3200 non-null   float64\n",
      " 17  user.screen_name        3200 non-null   object \n",
      " 18  user.name               3200 non-null   object \n",
      " 19  user.description        2804 non-null   object \n",
      " 20  user.timezone           0 non-null      float64\n",
      " 21  user.location           3174 non-null   object \n",
      " 22  user.num_followers      3200 non-null   int64  \n",
      " 23  user.num_following      3200 non-null   int64  \n",
      " 24  user.created_at         3200 non-null   object \n",
      " 25  user.statuses_count     3200 non-null   int64  \n",
      " 26  user.is_verified        3200 non-null   bool   \n",
      " 27  lang                    3200 non-null   object \n",
      " 28  token_count             3200 non-null   int64  \n",
      " 29  is_retweet              3200 non-null   bool   \n",
      " 30  has_quote               3200 non-null   bool   \n",
      " 31  is_reply                3200 non-null   bool   \n",
      " 32  contains_keywords       3200 non-null   bool   \n",
      " 33  longitude               3200 non-null   float64\n",
      " 34  latitude                3200 non-null   float64\n",
      " 35  country_code            3200 non-null   object \n",
      " 36  geoname_id              3048 non-null   float64\n",
      " 37  location_type           3200 non-null   object \n",
      " 38  geo_type                3200 non-null   int64  \n",
      " 39  region                  3200 non-null   object \n",
      " 40  subregion               3200 non-null   object \n",
      " 41  num_quotes              3200 non-null   int64  \n",
      " 42  num_replies             3200 non-null   int64  \n",
      " 43  num_retweets            3200 non-null   int64  \n",
      " 44  sent_gpt                3200 non-null   object \n",
      " 45  gpt_sent_presence       3200 non-null   int64  \n",
      " 46  cleaned_text_lem        3200 non-null   object \n",
      " 47  cleaned_text            3200 non-null   object \n",
      " 48  month                   3200 non-null   int64  \n",
      " 49  year                    3200 non-null   int64  \n",
      " 50  week                    3200 non-null   int64  \n",
      " 51  year_month              3200 non-null   object \n",
      " 52  year_week               3200 non-null   object \n",
      "dtypes: bool(5), float64(12), int64(14), object(22)\n",
      "memory usage: 1.2+ MB\n"
     ]
    }
   ],
   "source": [
    "# Get monthly data\n",
    "df_2016_09_pos = pd.read_csv('../data/local/df_pos_2016-09.csv').reset_index()\n",
    "df_2016_09_pos.info()"
   ]
  },
  {
   "cell_type": "markdown",
   "id": "6d6d95b1",
   "metadata": {},
   "source": [
    "### Representative sample based on week and location"
   ]
  },
  {
   "cell_type": "code",
   "execution_count": 127,
   "id": "1c64358d",
   "metadata": {},
   "outputs": [
    {
     "data": {
      "text/html": [
       "<div>\n",
       "<style scoped>\n",
       "    .dataframe tbody tr th:only-of-type {\n",
       "        vertical-align: middle;\n",
       "    }\n",
       "\n",
       "    .dataframe tbody tr th {\n",
       "        vertical-align: top;\n",
       "    }\n",
       "\n",
       "    .dataframe thead th {\n",
       "        text-align: right;\n",
       "    }\n",
       "</style>\n",
       "<table border=\"1\" class=\"dataframe\">\n",
       "  <thead>\n",
       "    <tr style=\"text-align: right;\">\n",
       "      <th></th>\n",
       "      <th>year_week</th>\n",
       "      <th>LocationName</th>\n",
       "      <th>group_size</th>\n",
       "      <th>proportion</th>\n",
       "    </tr>\n",
       "  </thead>\n",
       "  <tbody>\n",
       "    <tr>\n",
       "      <th>0</th>\n",
       "      <td>2016-w35</td>\n",
       "      <td>Amapa</td>\n",
       "      <td>3</td>\n",
       "      <td>0.000937</td>\n",
       "    </tr>\n",
       "    <tr>\n",
       "      <th>1</th>\n",
       "      <td>2016-w35</td>\n",
       "      <td>Amazonas</td>\n",
       "      <td>1</td>\n",
       "      <td>0.000313</td>\n",
       "    </tr>\n",
       "    <tr>\n",
       "      <th>2</th>\n",
       "      <td>2016-w35</td>\n",
       "      <td>Bahia</td>\n",
       "      <td>2</td>\n",
       "      <td>0.000625</td>\n",
       "    </tr>\n",
       "    <tr>\n",
       "      <th>3</th>\n",
       "      <td>2016-w35</td>\n",
       "      <td>Ceara</td>\n",
       "      <td>1</td>\n",
       "      <td>0.000313</td>\n",
       "    </tr>\n",
       "    <tr>\n",
       "      <th>4</th>\n",
       "      <td>2016-w35</td>\n",
       "      <td>Espirito Santo</td>\n",
       "      <td>3</td>\n",
       "      <td>0.000937</td>\n",
       "    </tr>\n",
       "    <tr>\n",
       "      <th>...</th>\n",
       "      <td>...</td>\n",
       "      <td>...</td>\n",
       "      <td>...</td>\n",
       "      <td>...</td>\n",
       "    </tr>\n",
       "    <tr>\n",
       "      <th>122</th>\n",
       "      <td>2016-w40</td>\n",
       "      <td>Pernambuco</td>\n",
       "      <td>2</td>\n",
       "      <td>0.000625</td>\n",
       "    </tr>\n",
       "    <tr>\n",
       "      <th>123</th>\n",
       "      <td>2016-w40</td>\n",
       "      <td>Rio Grande Do Sul</td>\n",
       "      <td>6</td>\n",
       "      <td>0.001875</td>\n",
       "    </tr>\n",
       "    <tr>\n",
       "      <th>124</th>\n",
       "      <td>2016-w40</td>\n",
       "      <td>Santa Catarina</td>\n",
       "      <td>3</td>\n",
       "      <td>0.000937</td>\n",
       "    </tr>\n",
       "    <tr>\n",
       "      <th>125</th>\n",
       "      <td>2016-w40</td>\n",
       "      <td>Sao Paulo</td>\n",
       "      <td>11</td>\n",
       "      <td>0.003438</td>\n",
       "    </tr>\n",
       "    <tr>\n",
       "      <th>126</th>\n",
       "      <td>2016-w40</td>\n",
       "      <td>Sergipe</td>\n",
       "      <td>2</td>\n",
       "      <td>0.000625</td>\n",
       "    </tr>\n",
       "  </tbody>\n",
       "</table>\n",
       "<p>127 rows × 4 columns</p>\n",
       "</div>"
      ],
      "text/plain": [
       "    year_week       LocationName  group_size  proportion\n",
       "0    2016-w35              Amapa           3    0.000937\n",
       "1    2016-w35           Amazonas           1    0.000313\n",
       "2    2016-w35              Bahia           2    0.000625\n",
       "3    2016-w35              Ceara           1    0.000313\n",
       "4    2016-w35     Espirito Santo           3    0.000937\n",
       "..        ...                ...         ...         ...\n",
       "122  2016-w40         Pernambuco           2    0.000625\n",
       "123  2016-w40  Rio Grande Do Sul           6    0.001875\n",
       "124  2016-w40     Santa Catarina           3    0.000937\n",
       "125  2016-w40          Sao Paulo          11    0.003438\n",
       "126  2016-w40            Sergipe           2    0.000625\n",
       "\n",
       "[127 rows x 4 columns]"
      ]
     },
     "execution_count": 127,
     "metadata": {},
     "output_type": "execute_result"
    }
   ],
   "source": [
    "# Step 1: Calculate the size of each group (year_week, LocationName)\n",
    "group_sizes = df_2016_09_pos.groupby(['year_week', 'LocationName']).size().reset_index(name='group_size')\n",
    "\n",
    "# Step 2: Calculate the proportion of each group in the dataset\n",
    "total_rows = len(df_2016_09_pos)\n",
    "group_sizes['proportion'] = group_sizes['group_size'] / total_rows\n",
    "group_sizes"
   ]
  },
  {
   "cell_type": "code",
   "execution_count": 128,
   "id": "0f70bf42",
   "metadata": {},
   "outputs": [],
   "source": [
    "# Step 3: Define the target sample size\n",
    "#target_sample_size = 2450\n",
    "\n",
    "# Step 4: Calculate the sample size for each group (based on its proportion)\n",
    "#group_sizes['sample_size'] = np.floor(group_sizes['proportion'] * target_sample_size).astype(int)\n",
    "#group_sizes\n",
    "# Taking all tweets since there were not enough for sampling"
   ]
  },
  {
   "cell_type": "code",
   "execution_count": 129,
   "id": "1fbb0b3e",
   "metadata": {},
   "outputs": [],
   "source": [
    "# Step 5: Merge this sample size information back to the original DataFrame\n",
    "#df_2016_09_pos_sample_size = pd.merge(df_2016_09_pos, group_sizes[['year_week', 'LocationName', 'sample_size']], \n",
    " #                              on=['year_week', 'LocationName'], how='left')"
   ]
  },
  {
   "cell_type": "code",
   "execution_count": 130,
   "id": "e62cb3ac",
   "metadata": {},
   "outputs": [
    {
     "name": "stdout",
     "output_type": "stream",
     "text": [
      "Sampled 3200 rows.\n"
     ]
    }
   ],
   "source": [
    "# Step 6: Perform the stratified sampling\n",
    "#df_2016_09_pos_sample = df_2016_09_pos_sample_size.groupby(['year_week', 'LocationName']).apply(\n",
    " #   lambda group: group.sample(n=group['sample_size'].iloc[0], random_state=42)\n",
    "#).reset_index(drop=True)\n",
    "df_2016_09_pos_sample = df_2016_09_pos\n",
    "# Step 7: Check the result\n",
    "print(f\"Sampled {len(df_2016_09_pos_sample)} rows.\")\n"
   ]
  },
  {
   "cell_type": "code",
   "execution_count": 131,
   "id": "f94fe9d7",
   "metadata": {},
   "outputs": [],
   "source": [
    "text_gpt_2016_09_pos = '\\n'.join(df_2016_09_pos_sample['text'].astype(str))"
   ]
  },
  {
   "cell_type": "markdown",
   "id": "b7904a7f",
   "metadata": {},
   "source": [
    "### Prompts and loops"
   ]
  },
  {
   "cell_type": "code",
   "execution_count": 132,
   "id": "71bbca85",
   "metadata": {},
   "outputs": [],
   "source": [
    "prompt_9 = prompt_raw.replace('TWEETS', text_gpt_2016_09_pos)"
   ]
  },
  {
   "cell_type": "code",
   "execution_count": 133,
   "id": "b7ae259f",
   "metadata": {
    "scrolled": false
   },
   "outputs": [],
   "source": [
    "response = openai.ChatCompletion.create(\n",
    "    model=\"gpt-4o-mini\",  \n",
    "    messages = [\n",
    "        {\"role\": \"user\", \"content\": prompt_9}\n",
    "    ],\n",
    "    max_tokens=400,  # Maximum number of tokens in the response\n",
    "    temperature=0.7  # Controls the randomness of the output\n",
    ")"
   ]
  },
  {
   "cell_type": "code",
   "execution_count": 134,
   "id": "8653eccf",
   "metadata": {},
   "outputs": [
    {
     "data": {
      "text/plain": [
       "'Brazilian researchers have developed a vaccine against cocaine addiction, which is currently being tested on animals. Meanwhile, a national vaccination campaign for children and adolescents, featuring Zé Gotinha and Carreta Furacão, begins on September 19, aiming to update vaccination records and promote health awareness.'"
      ]
     },
     "execution_count": 134,
     "metadata": {},
     "output_type": "execute_result"
    }
   ],
   "source": [
    "response.choices[0].message.content"
   ]
  },
  {
   "cell_type": "code",
   "execution_count": 135,
   "id": "6be7b347",
   "metadata": {},
   "outputs": [],
   "source": [
    "#summary = []\n",
    "#dataset = []"
   ]
  },
  {
   "cell_type": "code",
   "execution_count": 136,
   "id": "550a921f",
   "metadata": {},
   "outputs": [],
   "source": [
    "dataset.append(\"2016_09_positive\")"
   ]
  },
  {
   "cell_type": "code",
   "execution_count": 137,
   "id": "83240506",
   "metadata": {},
   "outputs": [],
   "source": [
    "summary.append(response.choices[0].message.content)"
   ]
  },
  {
   "cell_type": "code",
   "execution_count": 138,
   "id": "0c75735b",
   "metadata": {
    "tags": []
   },
   "outputs": [
    {
     "name": "stdout",
     "output_type": "stream",
     "text": [
      "<class 'pandas.core.frame.DataFrame'>\n",
      "RangeIndex: 9 entries, 0 to 8\n",
      "Data columns (total 2 columns):\n",
      " #   Column   Non-Null Count  Dtype \n",
      "---  ------   --------------  ----- \n",
      " 0   dataset  9 non-null      object\n",
      " 1   summary  9 non-null      object\n",
      "dtypes: object(2)\n",
      "memory usage: 272.0+ bytes\n"
     ]
    }
   ],
   "source": [
    "df_2016_pos = pd.DataFrame(list(zip(dataset, summary)),\n",
    "                            columns = ['dataset', 'summary'])\n",
    "df_2016_pos.info()"
   ]
  },
  {
   "cell_type": "code",
   "execution_count": 139,
   "id": "fa955f73",
   "metadata": {},
   "outputs": [
    {
     "data": {
      "text/html": [
       "<div>\n",
       "<style scoped>\n",
       "    .dataframe tbody tr th:only-of-type {\n",
       "        vertical-align: middle;\n",
       "    }\n",
       "\n",
       "    .dataframe tbody tr th {\n",
       "        vertical-align: top;\n",
       "    }\n",
       "\n",
       "    .dataframe thead th {\n",
       "        text-align: right;\n",
       "    }\n",
       "</style>\n",
       "<table border=\"1\" class=\"dataframe\">\n",
       "  <thead>\n",
       "    <tr style=\"text-align: right;\">\n",
       "      <th></th>\n",
       "      <th>dataset</th>\n",
       "      <th>summary</th>\n",
       "    </tr>\n",
       "  </thead>\n",
       "  <tbody>\n",
       "    <tr>\n",
       "      <th>0</th>\n",
       "      <td>2016_01_positive</td>\n",
       "      <td>The sentences discuss various aspects of vacci...</td>\n",
       "    </tr>\n",
       "    <tr>\n",
       "      <th>1</th>\n",
       "      <td>2016_02_positive</td>\n",
       "      <td>The excerpts discuss the urgent need for a vac...</td>\n",
       "    </tr>\n",
       "    <tr>\n",
       "      <th>2</th>\n",
       "      <td>2016_03_positive</td>\n",
       "      <td>In Brazil, there is a strong emphasis on vacci...</td>\n",
       "    </tr>\n",
       "    <tr>\n",
       "      <th>3</th>\n",
       "      <td>2016_04_positive</td>\n",
       "      <td>The text discusses various vaccination campaig...</td>\n",
       "    </tr>\n",
       "    <tr>\n",
       "      <th>4</th>\n",
       "      <td>2016_05_positive</td>\n",
       "      <td>The text discusses various vaccination campaig...</td>\n",
       "    </tr>\n",
       "    <tr>\n",
       "      <th>5</th>\n",
       "      <td>2016_06_positive</td>\n",
       "      <td>The texts discuss various vaccination initiati...</td>\n",
       "    </tr>\n",
       "    <tr>\n",
       "      <th>6</th>\n",
       "      <td>2016_07_positive</td>\n",
       "      <td>The text discusses various aspects of vaccinat...</td>\n",
       "    </tr>\n",
       "    <tr>\n",
       "      <th>7</th>\n",
       "      <td>2016_08_positive</td>\n",
       "      <td>The texts discuss various vaccines currently i...</td>\n",
       "    </tr>\n",
       "    <tr>\n",
       "      <th>8</th>\n",
       "      <td>2016_09_positive</td>\n",
       "      <td>Brazilian researchers have developed a vaccine...</td>\n",
       "    </tr>\n",
       "  </tbody>\n",
       "</table>\n",
       "</div>"
      ],
      "text/plain": [
       "            dataset                                            summary\n",
       "0  2016_01_positive  The sentences discuss various aspects of vacci...\n",
       "1  2016_02_positive  The excerpts discuss the urgent need for a vac...\n",
       "2  2016_03_positive  In Brazil, there is a strong emphasis on vacci...\n",
       "3  2016_04_positive  The text discusses various vaccination campaig...\n",
       "4  2016_05_positive  The text discusses various vaccination campaig...\n",
       "5  2016_06_positive  The texts discuss various vaccination initiati...\n",
       "6  2016_07_positive  The text discusses various aspects of vaccinat...\n",
       "7  2016_08_positive  The texts discuss various vaccines currently i...\n",
       "8  2016_09_positive  Brazilian researchers have developed a vaccine..."
      ]
     },
     "execution_count": 139,
     "metadata": {},
     "output_type": "execute_result"
    }
   ],
   "source": [
    "df_2016_pos.tail(14)"
   ]
  },
  {
   "cell_type": "code",
   "execution_count": 140,
   "id": "4c204870",
   "metadata": {},
   "outputs": [
    {
     "data": {
      "text/plain": [
       "<OpenAIObject chat.completion id=chatcmpl-AUcsca0RCxcej0FRJPkJPfvJPwkaX at 0x2100133dc70> JSON: {\n",
       "  \"choices\": [\n",
       "    {\n",
       "      \"finish_reason\": \"stop\",\n",
       "      \"index\": 0,\n",
       "      \"logprobs\": null,\n",
       "      \"message\": {\n",
       "        \"content\": \"Brazilian researchers have developed a vaccine against cocaine addiction, which is currently being tested on animals. Meanwhile, a national vaccination campaign for children and adolescents, featuring Z\\u00e9 Gotinha and Carreta Furac\\u00e3o, begins on September 19, aiming to update vaccination records and promote health awareness.\",\n",
       "        \"refusal\": null,\n",
       "        \"role\": \"assistant\"\n",
       "      }\n",
       "    }\n",
       "  ],\n",
       "  \"created\": 1731862658,\n",
       "  \"id\": \"chatcmpl-AUcsca0RCxcej0FRJPkJPfvJPwkaX\",\n",
       "  \"model\": \"gpt-4o-mini-2024-07-18\",\n",
       "  \"object\": \"chat.completion\",\n",
       "  \"system_fingerprint\": \"fp_0ba0d124f1\",\n",
       "  \"usage\": {\n",
       "    \"completion_tokens\": 58,\n",
       "    \"completion_tokens_details\": {\n",
       "      \"accepted_prediction_tokens\": 0,\n",
       "      \"audio_tokens\": 0,\n",
       "      \"reasoning_tokens\": 0,\n",
       "      \"rejected_prediction_tokens\": 0\n",
       "    },\n",
       "    \"prompt_tokens\": 79660,\n",
       "    \"prompt_tokens_details\": {\n",
       "      \"audio_tokens\": 0,\n",
       "      \"cached_tokens\": 0\n",
       "    },\n",
       "    \"total_tokens\": 79718\n",
       "  }\n",
       "}"
      ]
     },
     "execution_count": 140,
     "metadata": {},
     "output_type": "execute_result"
    }
   ],
   "source": [
    "response"
   ]
  },
  {
   "cell_type": "markdown",
   "id": "43f969b1",
   "metadata": {},
   "source": [
    "## October"
   ]
  },
  {
   "cell_type": "code",
   "execution_count": 141,
   "id": "28cedc2b",
   "metadata": {
    "scrolled": true,
    "tags": []
   },
   "outputs": [
    {
     "name": "stdout",
     "output_type": "stream",
     "text": [
      "<class 'pandas.core.frame.DataFrame'>\n",
      "RangeIndex: 1985 entries, 0 to 1984\n",
      "Data columns (total 53 columns):\n",
      " #   Column                  Non-Null Count  Dtype  \n",
      "---  ------                  --------------  -----  \n",
      " 0   index                   1985 non-null   int64  \n",
      " 1   LocationCode            1985 non-null   object \n",
      " 2   LocationName            1985 non-null   object \n",
      " 3   StatesCode              1985 non-null   object \n",
      " 4   ...4                    1985 non-null   int64  \n",
      " 5   id                      1985 non-null   float64\n",
      " 6   text                    1985 non-null   object \n",
      " 7   label                   1985 non-null   object \n",
      " 8   in_reply_to_status_id   105 non-null    float64\n",
      " 9   in_reply_to_user_id     113 non-null    float64\n",
      " 10  quoted_user_id          37 non-null     float64\n",
      " 11  quoted_status_id        37 non-null     float64\n",
      " 12  retweeted_user_id       585 non-null    float64\n",
      " 13  retweeted_status_id     585 non-null    float64\n",
      " 14  created_at              1985 non-null   object \n",
      " 15  entities.user_mentions  760 non-null    object \n",
      " 16  user.id                 1985 non-null   float64\n",
      " 17  user.screen_name        1985 non-null   object \n",
      " 18  user.name               1985 non-null   object \n",
      " 19  user.description        1773 non-null   object \n",
      " 20  user.timezone           0 non-null      float64\n",
      " 21  user.location           1969 non-null   object \n",
      " 22  user.num_followers      1985 non-null   int64  \n",
      " 23  user.num_following      1985 non-null   int64  \n",
      " 24  user.created_at         1985 non-null   object \n",
      " 25  user.statuses_count     1985 non-null   int64  \n",
      " 26  user.is_verified        1985 non-null   bool   \n",
      " 27  lang                    1985 non-null   object \n",
      " 28  token_count             1985 non-null   int64  \n",
      " 29  is_retweet              1985 non-null   bool   \n",
      " 30  has_quote               1985 non-null   bool   \n",
      " 31  is_reply                1985 non-null   bool   \n",
      " 32  contains_keywords       1985 non-null   bool   \n",
      " 33  longitude               1985 non-null   float64\n",
      " 34  latitude                1985 non-null   float64\n",
      " 35  country_code            1985 non-null   object \n",
      " 36  geoname_id              1897 non-null   float64\n",
      " 37  location_type           1985 non-null   object \n",
      " 38  geo_type                1985 non-null   int64  \n",
      " 39  region                  1985 non-null   object \n",
      " 40  subregion               1985 non-null   object \n",
      " 41  num_quotes              1985 non-null   int64  \n",
      " 42  num_replies             1985 non-null   int64  \n",
      " 43  num_retweets            1985 non-null   int64  \n",
      " 44  sent_gpt                1985 non-null   object \n",
      " 45  gpt_sent_presence       1985 non-null   int64  \n",
      " 46  cleaned_text_lem        1985 non-null   object \n",
      " 47  cleaned_text            1985 non-null   object \n",
      " 48  month                   1985 non-null   int64  \n",
      " 49  year                    1985 non-null   int64  \n",
      " 50  week                    1985 non-null   int64  \n",
      " 51  year_month              1985 non-null   object \n",
      " 52  year_week               1985 non-null   object \n",
      "dtypes: bool(5), float64(12), int64(14), object(22)\n",
      "memory usage: 754.2+ KB\n"
     ]
    }
   ],
   "source": [
    "# Get monthly data\n",
    "df_2016_10_pos = pd.read_csv('../data/local/df_pos_2016-10.csv').reset_index()\n",
    "df_2016_10_pos.info()"
   ]
  },
  {
   "cell_type": "markdown",
   "id": "616f674a",
   "metadata": {},
   "source": [
    "### Representative sample based on week and location"
   ]
  },
  {
   "cell_type": "code",
   "execution_count": 142,
   "id": "9cb193cd",
   "metadata": {},
   "outputs": [
    {
     "data": {
      "text/html": [
       "<div>\n",
       "<style scoped>\n",
       "    .dataframe tbody tr th:only-of-type {\n",
       "        vertical-align: middle;\n",
       "    }\n",
       "\n",
       "    .dataframe tbody tr th {\n",
       "        vertical-align: top;\n",
       "    }\n",
       "\n",
       "    .dataframe thead th {\n",
       "        text-align: right;\n",
       "    }\n",
       "</style>\n",
       "<table border=\"1\" class=\"dataframe\">\n",
       "  <thead>\n",
       "    <tr style=\"text-align: right;\">\n",
       "      <th></th>\n",
       "      <th>year_week</th>\n",
       "      <th>LocationName</th>\n",
       "      <th>group_size</th>\n",
       "      <th>proportion</th>\n",
       "    </tr>\n",
       "  </thead>\n",
       "  <tbody>\n",
       "    <tr>\n",
       "      <th>0</th>\n",
       "      <td>2016-w40</td>\n",
       "      <td>Alagoas</td>\n",
       "      <td>2</td>\n",
       "      <td>0.001008</td>\n",
       "    </tr>\n",
       "    <tr>\n",
       "      <th>1</th>\n",
       "      <td>2016-w40</td>\n",
       "      <td>Amapa</td>\n",
       "      <td>1</td>\n",
       "      <td>0.000504</td>\n",
       "    </tr>\n",
       "    <tr>\n",
       "      <th>2</th>\n",
       "      <td>2016-w40</td>\n",
       "      <td>Amazonas</td>\n",
       "      <td>15</td>\n",
       "      <td>0.007557</td>\n",
       "    </tr>\n",
       "    <tr>\n",
       "      <th>3</th>\n",
       "      <td>2016-w40</td>\n",
       "      <td>Bahia</td>\n",
       "      <td>17</td>\n",
       "      <td>0.008564</td>\n",
       "    </tr>\n",
       "    <tr>\n",
       "      <th>4</th>\n",
       "      <td>2016-w40</td>\n",
       "      <td>Distrito Federal</td>\n",
       "      <td>4</td>\n",
       "      <td>0.002015</td>\n",
       "    </tr>\n",
       "    <tr>\n",
       "      <th>...</th>\n",
       "      <td>...</td>\n",
       "      <td>...</td>\n",
       "      <td>...</td>\n",
       "      <td>...</td>\n",
       "    </tr>\n",
       "    <tr>\n",
       "      <th>100</th>\n",
       "      <td>2016-w44</td>\n",
       "      <td>Rio Grande Do Sul</td>\n",
       "      <td>7</td>\n",
       "      <td>0.003526</td>\n",
       "    </tr>\n",
       "    <tr>\n",
       "      <th>101</th>\n",
       "      <td>2016-w44</td>\n",
       "      <td>Rondonia</td>\n",
       "      <td>2</td>\n",
       "      <td>0.001008</td>\n",
       "    </tr>\n",
       "    <tr>\n",
       "      <th>102</th>\n",
       "      <td>2016-w44</td>\n",
       "      <td>Santa Catarina</td>\n",
       "      <td>1</td>\n",
       "      <td>0.000504</td>\n",
       "    </tr>\n",
       "    <tr>\n",
       "      <th>103</th>\n",
       "      <td>2016-w44</td>\n",
       "      <td>Sao Paulo</td>\n",
       "      <td>31</td>\n",
       "      <td>0.015617</td>\n",
       "    </tr>\n",
       "    <tr>\n",
       "      <th>104</th>\n",
       "      <td>2016-w44</td>\n",
       "      <td>Tocantins</td>\n",
       "      <td>1</td>\n",
       "      <td>0.000504</td>\n",
       "    </tr>\n",
       "  </tbody>\n",
       "</table>\n",
       "<p>105 rows × 4 columns</p>\n",
       "</div>"
      ],
      "text/plain": [
       "    year_week       LocationName  group_size  proportion\n",
       "0    2016-w40            Alagoas           2    0.001008\n",
       "1    2016-w40              Amapa           1    0.000504\n",
       "2    2016-w40           Amazonas          15    0.007557\n",
       "3    2016-w40              Bahia          17    0.008564\n",
       "4    2016-w40   Distrito Federal           4    0.002015\n",
       "..        ...                ...         ...         ...\n",
       "100  2016-w44  Rio Grande Do Sul           7    0.003526\n",
       "101  2016-w44           Rondonia           2    0.001008\n",
       "102  2016-w44     Santa Catarina           1    0.000504\n",
       "103  2016-w44          Sao Paulo          31    0.015617\n",
       "104  2016-w44          Tocantins           1    0.000504\n",
       "\n",
       "[105 rows x 4 columns]"
      ]
     },
     "execution_count": 142,
     "metadata": {},
     "output_type": "execute_result"
    }
   ],
   "source": [
    "# Step 1: Calculate the size of each group (year_week, LocationName)\n",
    "group_sizes = df_2016_10_pos.groupby(['year_week', 'LocationName']).size().reset_index(name='group_size')\n",
    "\n",
    "# Step 2: Calculate the proportion of each group in the dataset\n",
    "total_rows = len(df_2016_10_pos)\n",
    "group_sizes['proportion'] = group_sizes['group_size'] / total_rows\n",
    "group_sizes"
   ]
  },
  {
   "cell_type": "code",
   "execution_count": 143,
   "id": "610efcf6",
   "metadata": {},
   "outputs": [
    {
     "data": {
      "text/html": [
       "<div>\n",
       "<style scoped>\n",
       "    .dataframe tbody tr th:only-of-type {\n",
       "        vertical-align: middle;\n",
       "    }\n",
       "\n",
       "    .dataframe tbody tr th {\n",
       "        vertical-align: top;\n",
       "    }\n",
       "\n",
       "    .dataframe thead th {\n",
       "        text-align: right;\n",
       "    }\n",
       "</style>\n",
       "<table border=\"1\" class=\"dataframe\">\n",
       "  <thead>\n",
       "    <tr style=\"text-align: right;\">\n",
       "      <th></th>\n",
       "      <th>year_week</th>\n",
       "      <th>LocationName</th>\n",
       "      <th>group_size</th>\n",
       "      <th>proportion</th>\n",
       "      <th>sample_size</th>\n",
       "    </tr>\n",
       "  </thead>\n",
       "  <tbody>\n",
       "    <tr>\n",
       "      <th>0</th>\n",
       "      <td>2016-w40</td>\n",
       "      <td>Alagoas</td>\n",
       "      <td>2</td>\n",
       "      <td>0.001008</td>\n",
       "      <td>2</td>\n",
       "    </tr>\n",
       "    <tr>\n",
       "      <th>1</th>\n",
       "      <td>2016-w40</td>\n",
       "      <td>Amapa</td>\n",
       "      <td>1</td>\n",
       "      <td>0.000504</td>\n",
       "      <td>1</td>\n",
       "    </tr>\n",
       "    <tr>\n",
       "      <th>2</th>\n",
       "      <td>2016-w40</td>\n",
       "      <td>Amazonas</td>\n",
       "      <td>15</td>\n",
       "      <td>0.007557</td>\n",
       "      <td>18</td>\n",
       "    </tr>\n",
       "    <tr>\n",
       "      <th>3</th>\n",
       "      <td>2016-w40</td>\n",
       "      <td>Bahia</td>\n",
       "      <td>17</td>\n",
       "      <td>0.008564</td>\n",
       "      <td>20</td>\n",
       "    </tr>\n",
       "    <tr>\n",
       "      <th>4</th>\n",
       "      <td>2016-w40</td>\n",
       "      <td>Distrito Federal</td>\n",
       "      <td>4</td>\n",
       "      <td>0.002015</td>\n",
       "      <td>4</td>\n",
       "    </tr>\n",
       "    <tr>\n",
       "      <th>...</th>\n",
       "      <td>...</td>\n",
       "      <td>...</td>\n",
       "      <td>...</td>\n",
       "      <td>...</td>\n",
       "      <td>...</td>\n",
       "    </tr>\n",
       "    <tr>\n",
       "      <th>100</th>\n",
       "      <td>2016-w44</td>\n",
       "      <td>Rio Grande Do Sul</td>\n",
       "      <td>7</td>\n",
       "      <td>0.003526</td>\n",
       "      <td>8</td>\n",
       "    </tr>\n",
       "    <tr>\n",
       "      <th>101</th>\n",
       "      <td>2016-w44</td>\n",
       "      <td>Rondonia</td>\n",
       "      <td>2</td>\n",
       "      <td>0.001008</td>\n",
       "      <td>2</td>\n",
       "    </tr>\n",
       "    <tr>\n",
       "      <th>102</th>\n",
       "      <td>2016-w44</td>\n",
       "      <td>Santa Catarina</td>\n",
       "      <td>1</td>\n",
       "      <td>0.000504</td>\n",
       "      <td>1</td>\n",
       "    </tr>\n",
       "    <tr>\n",
       "      <th>103</th>\n",
       "      <td>2016-w44</td>\n",
       "      <td>Sao Paulo</td>\n",
       "      <td>31</td>\n",
       "      <td>0.015617</td>\n",
       "      <td>38</td>\n",
       "    </tr>\n",
       "    <tr>\n",
       "      <th>104</th>\n",
       "      <td>2016-w44</td>\n",
       "      <td>Tocantins</td>\n",
       "      <td>1</td>\n",
       "      <td>0.000504</td>\n",
       "      <td>1</td>\n",
       "    </tr>\n",
       "  </tbody>\n",
       "</table>\n",
       "<p>105 rows × 5 columns</p>\n",
       "</div>"
      ],
      "text/plain": [
       "    year_week       LocationName  group_size  proportion  sample_size\n",
       "0    2016-w40            Alagoas           2    0.001008            2\n",
       "1    2016-w40              Amapa           1    0.000504            1\n",
       "2    2016-w40           Amazonas          15    0.007557           18\n",
       "3    2016-w40              Bahia          17    0.008564           20\n",
       "4    2016-w40   Distrito Federal           4    0.002015            4\n",
       "..        ...                ...         ...         ...          ...\n",
       "100  2016-w44  Rio Grande Do Sul           7    0.003526            8\n",
       "101  2016-w44           Rondonia           2    0.001008            2\n",
       "102  2016-w44     Santa Catarina           1    0.000504            1\n",
       "103  2016-w44          Sao Paulo          31    0.015617           38\n",
       "104  2016-w44          Tocantins           1    0.000504            1\n",
       "\n",
       "[105 rows x 5 columns]"
      ]
     },
     "execution_count": 143,
     "metadata": {},
     "output_type": "execute_result"
    }
   ],
   "source": [
    "# Step 3: Define the target sample size\n",
    "target_sample_size = 2450\n",
    "\n",
    "# Step 4: Calculate the sample size for each group (based on its proportion)\n",
    "group_sizes['sample_size'] = np.floor(group_sizes['proportion'] * target_sample_size).astype(int)\n",
    "group_sizes"
   ]
  },
  {
   "cell_type": "code",
   "execution_count": 144,
   "id": "361d2734",
   "metadata": {},
   "outputs": [],
   "source": [
    "# Step 5: Merge this sample size information back to the original DataFrame\n",
    "#df_2016_10_pos_sample_size = pd.merge(df_2016_10_pos, group_sizes[['year_week', 'LocationName', 'sample_size']], \n",
    " #                              on=['year_week', 'LocationName'], how='left')\n",
    "# Taking all tweets for not having enough tweets for sampling"
   ]
  },
  {
   "cell_type": "code",
   "execution_count": 145,
   "id": "cd34d6e4",
   "metadata": {},
   "outputs": [
    {
     "name": "stdout",
     "output_type": "stream",
     "text": [
      "Sampled 1985 rows.\n"
     ]
    }
   ],
   "source": [
    "# Step 6: Perform the stratified sampling\n",
    "#df_2016_10_pos_sample = df_2016_10_pos_sample_size.groupby(['year_week', 'LocationName']).apply(\n",
    " #   lambda group: group.sample(n=group['sample_size'].iloc[0], random_state=42)\n",
    "#).reset_index(drop=True)\n",
    "df_2016_10_pos_sample = df_2016_10_pos\n",
    "# Step 7: Check the result\n",
    "print(f\"Sampled {len(df_2016_10_pos_sample)} rows.\")\n"
   ]
  },
  {
   "cell_type": "code",
   "execution_count": 146,
   "id": "853aa7a6",
   "metadata": {},
   "outputs": [],
   "source": [
    "text_gpt_2016_10_pos = '\\n'.join(df_2016_10_pos_sample['text'].astype(str))"
   ]
  },
  {
   "cell_type": "markdown",
   "id": "0e857dd6",
   "metadata": {},
   "source": [
    "### Prompts and loops"
   ]
  },
  {
   "cell_type": "code",
   "execution_count": 147,
   "id": "997a28ad",
   "metadata": {},
   "outputs": [],
   "source": [
    "prompt_10 = prompt_raw.replace('TWEETS', text_gpt_2016_10_pos)"
   ]
  },
  {
   "cell_type": "code",
   "execution_count": 148,
   "id": "0ad6cb21",
   "metadata": {
    "scrolled": false
   },
   "outputs": [],
   "source": [
    "response = openai.ChatCompletion.create(\n",
    "    model=\"gpt-4o-mini\",  \n",
    "    messages = [\n",
    "        {\"role\": \"user\", \"content\": prompt_10}\n",
    "    ],\n",
    "    max_tokens=400,  # Maximum number of tokens in the response\n",
    "    temperature=0.7  # Controls the randomness of the output\n",
    ")"
   ]
  },
  {
   "cell_type": "code",
   "execution_count": 149,
   "id": "f98d14d4",
   "metadata": {},
   "outputs": [
    {
     "data": {
      "text/plain": [
       "'The sentences discuss various vaccination campaigns and recommendations in Brazil, emphasizing the importance of vaccinations for children, especially against HPV and rabies. Specific age groups, such as girls aged 9-13 and boys aged 12-13, are highlighted for HPV vaccination. Additionally, there are mentions of new vaccine developments, including those for dengue and cancer, as well as the role of organizations like Fiocruz in these initiatives. The overall message stresses the necessity of maintaining updated vaccination records to ensure health and prevent diseases.'"
      ]
     },
     "execution_count": 149,
     "metadata": {},
     "output_type": "execute_result"
    }
   ],
   "source": [
    "response.choices[0].message.content"
   ]
  },
  {
   "cell_type": "code",
   "execution_count": 150,
   "id": "148185bf",
   "metadata": {},
   "outputs": [],
   "source": [
    "#summary = []\n",
    "#dataset = []"
   ]
  },
  {
   "cell_type": "code",
   "execution_count": 151,
   "id": "91999070",
   "metadata": {},
   "outputs": [],
   "source": [
    "dataset.append(\"2016_10_positive\")"
   ]
  },
  {
   "cell_type": "code",
   "execution_count": 152,
   "id": "ca0c8fcc",
   "metadata": {},
   "outputs": [],
   "source": [
    "summary.append(response.choices[0].message.content)"
   ]
  },
  {
   "cell_type": "code",
   "execution_count": 153,
   "id": "75de78c6",
   "metadata": {
    "tags": []
   },
   "outputs": [
    {
     "name": "stdout",
     "output_type": "stream",
     "text": [
      "<class 'pandas.core.frame.DataFrame'>\n",
      "RangeIndex: 10 entries, 0 to 9\n",
      "Data columns (total 2 columns):\n",
      " #   Column   Non-Null Count  Dtype \n",
      "---  ------   --------------  ----- \n",
      " 0   dataset  10 non-null     object\n",
      " 1   summary  10 non-null     object\n",
      "dtypes: object(2)\n",
      "memory usage: 288.0+ bytes\n"
     ]
    }
   ],
   "source": [
    "df_2016_pos = pd.DataFrame(list(zip(dataset, summary)),\n",
    "                            columns = ['dataset', 'summary'])\n",
    "df_2016_pos.info()"
   ]
  },
  {
   "cell_type": "code",
   "execution_count": 154,
   "id": "33f398cf",
   "metadata": {},
   "outputs": [
    {
     "data": {
      "text/html": [
       "<div>\n",
       "<style scoped>\n",
       "    .dataframe tbody tr th:only-of-type {\n",
       "        vertical-align: middle;\n",
       "    }\n",
       "\n",
       "    .dataframe tbody tr th {\n",
       "        vertical-align: top;\n",
       "    }\n",
       "\n",
       "    .dataframe thead th {\n",
       "        text-align: right;\n",
       "    }\n",
       "</style>\n",
       "<table border=\"1\" class=\"dataframe\">\n",
       "  <thead>\n",
       "    <tr style=\"text-align: right;\">\n",
       "      <th></th>\n",
       "      <th>dataset</th>\n",
       "      <th>summary</th>\n",
       "    </tr>\n",
       "  </thead>\n",
       "  <tbody>\n",
       "    <tr>\n",
       "      <th>0</th>\n",
       "      <td>2016_01_positive</td>\n",
       "      <td>The sentences discuss various aspects of vacci...</td>\n",
       "    </tr>\n",
       "    <tr>\n",
       "      <th>1</th>\n",
       "      <td>2016_02_positive</td>\n",
       "      <td>The excerpts discuss the urgent need for a vac...</td>\n",
       "    </tr>\n",
       "    <tr>\n",
       "      <th>2</th>\n",
       "      <td>2016_03_positive</td>\n",
       "      <td>In Brazil, there is a strong emphasis on vacci...</td>\n",
       "    </tr>\n",
       "    <tr>\n",
       "      <th>3</th>\n",
       "      <td>2016_04_positive</td>\n",
       "      <td>The text discusses various vaccination campaig...</td>\n",
       "    </tr>\n",
       "    <tr>\n",
       "      <th>4</th>\n",
       "      <td>2016_05_positive</td>\n",
       "      <td>The text discusses various vaccination campaig...</td>\n",
       "    </tr>\n",
       "    <tr>\n",
       "      <th>5</th>\n",
       "      <td>2016_06_positive</td>\n",
       "      <td>The texts discuss various vaccination initiati...</td>\n",
       "    </tr>\n",
       "    <tr>\n",
       "      <th>6</th>\n",
       "      <td>2016_07_positive</td>\n",
       "      <td>The text discusses various aspects of vaccinat...</td>\n",
       "    </tr>\n",
       "    <tr>\n",
       "      <th>7</th>\n",
       "      <td>2016_08_positive</td>\n",
       "      <td>The texts discuss various vaccines currently i...</td>\n",
       "    </tr>\n",
       "    <tr>\n",
       "      <th>8</th>\n",
       "      <td>2016_09_positive</td>\n",
       "      <td>Brazilian researchers have developed a vaccine...</td>\n",
       "    </tr>\n",
       "    <tr>\n",
       "      <th>9</th>\n",
       "      <td>2016_10_positive</td>\n",
       "      <td>The sentences discuss various vaccination camp...</td>\n",
       "    </tr>\n",
       "  </tbody>\n",
       "</table>\n",
       "</div>"
      ],
      "text/plain": [
       "            dataset                                            summary\n",
       "0  2016_01_positive  The sentences discuss various aspects of vacci...\n",
       "1  2016_02_positive  The excerpts discuss the urgent need for a vac...\n",
       "2  2016_03_positive  In Brazil, there is a strong emphasis on vacci...\n",
       "3  2016_04_positive  The text discusses various vaccination campaig...\n",
       "4  2016_05_positive  The text discusses various vaccination campaig...\n",
       "5  2016_06_positive  The texts discuss various vaccination initiati...\n",
       "6  2016_07_positive  The text discusses various aspects of vaccinat...\n",
       "7  2016_08_positive  The texts discuss various vaccines currently i...\n",
       "8  2016_09_positive  Brazilian researchers have developed a vaccine...\n",
       "9  2016_10_positive  The sentences discuss various vaccination camp..."
      ]
     },
     "execution_count": 154,
     "metadata": {},
     "output_type": "execute_result"
    }
   ],
   "source": [
    "df_2016_pos.tail(14)"
   ]
  },
  {
   "cell_type": "code",
   "execution_count": 155,
   "id": "c9aa4469",
   "metadata": {},
   "outputs": [
    {
     "data": {
      "text/plain": [
       "<OpenAIObject chat.completion id=chatcmpl-AUcsiN7nf5hkLJ60VYOxQZA775Avh at 0x210021d5a90> JSON: {\n",
       "  \"choices\": [\n",
       "    {\n",
       "      \"finish_reason\": \"stop\",\n",
       "      \"index\": 0,\n",
       "      \"logprobs\": null,\n",
       "      \"message\": {\n",
       "        \"content\": \"The sentences discuss various vaccination campaigns and recommendations in Brazil, emphasizing the importance of vaccinations for children, especially against HPV and rabies. Specific age groups, such as girls aged 9-13 and boys aged 12-13, are highlighted for HPV vaccination. Additionally, there are mentions of new vaccine developments, including those for dengue and cancer, as well as the role of organizations like Fiocruz in these initiatives. The overall message stresses the necessity of maintaining updated vaccination records to ensure health and prevent diseases.\",\n",
       "        \"refusal\": null,\n",
       "        \"role\": \"assistant\"\n",
       "      }\n",
       "    }\n",
       "  ],\n",
       "  \"created\": 1731862664,\n",
       "  \"id\": \"chatcmpl-AUcsiN7nf5hkLJ60VYOxQZA775Avh\",\n",
       "  \"model\": \"gpt-4o-mini-2024-07-18\",\n",
       "  \"object\": \"chat.completion\",\n",
       "  \"system_fingerprint\": \"fp_0ba0d124f1\",\n",
       "  \"usage\": {\n",
       "    \"completion_tokens\": 102,\n",
       "    \"completion_tokens_details\": {\n",
       "      \"accepted_prediction_tokens\": 0,\n",
       "      \"audio_tokens\": 0,\n",
       "      \"reasoning_tokens\": 0,\n",
       "      \"rejected_prediction_tokens\": 0\n",
       "    },\n",
       "    \"prompt_tokens\": 51867,\n",
       "    \"prompt_tokens_details\": {\n",
       "      \"audio_tokens\": 0,\n",
       "      \"cached_tokens\": 0\n",
       "    },\n",
       "    \"total_tokens\": 51969\n",
       "  }\n",
       "}"
      ]
     },
     "execution_count": 155,
     "metadata": {},
     "output_type": "execute_result"
    }
   ],
   "source": [
    "response"
   ]
  },
  {
   "cell_type": "markdown",
   "id": "d476f7a3",
   "metadata": {},
   "source": [
    "## November"
   ]
  },
  {
   "cell_type": "code",
   "execution_count": 156,
   "id": "63dc91c7",
   "metadata": {
    "scrolled": true,
    "tags": []
   },
   "outputs": [
    {
     "name": "stdout",
     "output_type": "stream",
     "text": [
      "<class 'pandas.core.frame.DataFrame'>\n",
      "RangeIndex: 1228 entries, 0 to 1227\n",
      "Data columns (total 53 columns):\n",
      " #   Column                  Non-Null Count  Dtype  \n",
      "---  ------                  --------------  -----  \n",
      " 0   index                   1228 non-null   int64  \n",
      " 1   LocationCode            1228 non-null   object \n",
      " 2   LocationName            1228 non-null   object \n",
      " 3   StatesCode              1228 non-null   object \n",
      " 4   ...4                    1228 non-null   int64  \n",
      " 5   id                      1228 non-null   float64\n",
      " 6   text                    1228 non-null   object \n",
      " 7   label                   1228 non-null   object \n",
      " 8   in_reply_to_status_id   104 non-null    float64\n",
      " 9   in_reply_to_user_id     110 non-null    float64\n",
      " 10  quoted_user_id          51 non-null     float64\n",
      " 11  quoted_status_id        51 non-null     float64\n",
      " 12  retweeted_user_id       348 non-null    float64\n",
      " 13  retweeted_status_id     348 non-null    float64\n",
      " 14  created_at              1228 non-null   object \n",
      " 15  entities.user_mentions  494 non-null    object \n",
      " 16  user.id                 1228 non-null   float64\n",
      " 17  user.screen_name        1228 non-null   object \n",
      " 18  user.name               1228 non-null   object \n",
      " 19  user.description        1103 non-null   object \n",
      " 20  user.timezone           0 non-null      float64\n",
      " 21  user.location           1208 non-null   object \n",
      " 22  user.num_followers      1228 non-null   int64  \n",
      " 23  user.num_following      1228 non-null   int64  \n",
      " 24  user.created_at         1228 non-null   object \n",
      " 25  user.statuses_count     1228 non-null   int64  \n",
      " 26  user.is_verified        1228 non-null   bool   \n",
      " 27  lang                    1228 non-null   object \n",
      " 28  token_count             1228 non-null   int64  \n",
      " 29  is_retweet              1228 non-null   bool   \n",
      " 30  has_quote               1228 non-null   bool   \n",
      " 31  is_reply                1228 non-null   bool   \n",
      " 32  contains_keywords       1228 non-null   bool   \n",
      " 33  longitude               1228 non-null   float64\n",
      " 34  latitude                1228 non-null   float64\n",
      " 35  country_code            1228 non-null   object \n",
      " 36  geoname_id              1137 non-null   float64\n",
      " 37  location_type           1228 non-null   object \n",
      " 38  geo_type                1228 non-null   int64  \n",
      " 39  region                  1228 non-null   object \n",
      " 40  subregion               1228 non-null   object \n",
      " 41  num_quotes              1228 non-null   int64  \n",
      " 42  num_replies             1228 non-null   int64  \n",
      " 43  num_retweets            1228 non-null   int64  \n",
      " 44  sent_gpt                1228 non-null   object \n",
      " 45  gpt_sent_presence       1228 non-null   int64  \n",
      " 46  cleaned_text_lem        1228 non-null   object \n",
      " 47  cleaned_text            1228 non-null   object \n",
      " 48  month                   1228 non-null   int64  \n",
      " 49  year                    1228 non-null   int64  \n",
      " 50  week                    1228 non-null   int64  \n",
      " 51  year_month              1228 non-null   object \n",
      " 52  year_week               1228 non-null   object \n",
      "dtypes: bool(5), float64(12), int64(14), object(22)\n",
      "memory usage: 466.6+ KB\n"
     ]
    }
   ],
   "source": [
    "# Get monthly data\n",
    "df_2016_11_pos = pd.read_csv('../data/local/df_pos_2016-11.csv').reset_index()\n",
    "df_2016_11_pos.info()"
   ]
  },
  {
   "cell_type": "markdown",
   "id": "e44ca951",
   "metadata": {},
   "source": [
    "### Representative sample based on week and location"
   ]
  },
  {
   "cell_type": "code",
   "execution_count": 157,
   "id": "58f0a8ff",
   "metadata": {},
   "outputs": [
    {
     "data": {
      "text/html": [
       "<div>\n",
       "<style scoped>\n",
       "    .dataframe tbody tr th:only-of-type {\n",
       "        vertical-align: middle;\n",
       "    }\n",
       "\n",
       "    .dataframe tbody tr th {\n",
       "        vertical-align: top;\n",
       "    }\n",
       "\n",
       "    .dataframe thead th {\n",
       "        text-align: right;\n",
       "    }\n",
       "</style>\n",
       "<table border=\"1\" class=\"dataframe\">\n",
       "  <thead>\n",
       "    <tr style=\"text-align: right;\">\n",
       "      <th></th>\n",
       "      <th>year_week</th>\n",
       "      <th>LocationName</th>\n",
       "      <th>group_size</th>\n",
       "      <th>proportion</th>\n",
       "    </tr>\n",
       "  </thead>\n",
       "  <tbody>\n",
       "    <tr>\n",
       "      <th>0</th>\n",
       "      <td>2016-w44</td>\n",
       "      <td>Alagoas</td>\n",
       "      <td>2</td>\n",
       "      <td>0.001629</td>\n",
       "    </tr>\n",
       "    <tr>\n",
       "      <th>1</th>\n",
       "      <td>2016-w44</td>\n",
       "      <td>Amazonas</td>\n",
       "      <td>4</td>\n",
       "      <td>0.003257</td>\n",
       "    </tr>\n",
       "    <tr>\n",
       "      <th>2</th>\n",
       "      <td>2016-w44</td>\n",
       "      <td>Bahia</td>\n",
       "      <td>2</td>\n",
       "      <td>0.001629</td>\n",
       "    </tr>\n",
       "    <tr>\n",
       "      <th>3</th>\n",
       "      <td>2016-w44</td>\n",
       "      <td>Ceara</td>\n",
       "      <td>4</td>\n",
       "      <td>0.003257</td>\n",
       "    </tr>\n",
       "    <tr>\n",
       "      <th>4</th>\n",
       "      <td>2016-w44</td>\n",
       "      <td>Distrito Federal</td>\n",
       "      <td>1</td>\n",
       "      <td>0.000814</td>\n",
       "    </tr>\n",
       "    <tr>\n",
       "      <th>...</th>\n",
       "      <td>...</td>\n",
       "      <td>...</td>\n",
       "      <td>...</td>\n",
       "      <td>...</td>\n",
       "    </tr>\n",
       "    <tr>\n",
       "      <th>101</th>\n",
       "      <td>2016-w48</td>\n",
       "      <td>Roraima</td>\n",
       "      <td>1</td>\n",
       "      <td>0.000814</td>\n",
       "    </tr>\n",
       "    <tr>\n",
       "      <th>102</th>\n",
       "      <td>2016-w48</td>\n",
       "      <td>Santa Catarina</td>\n",
       "      <td>5</td>\n",
       "      <td>0.004072</td>\n",
       "    </tr>\n",
       "    <tr>\n",
       "      <th>103</th>\n",
       "      <td>2016-w48</td>\n",
       "      <td>Sao Paulo</td>\n",
       "      <td>57</td>\n",
       "      <td>0.046417</td>\n",
       "    </tr>\n",
       "    <tr>\n",
       "      <th>104</th>\n",
       "      <td>2016-w48</td>\n",
       "      <td>Sergipe</td>\n",
       "      <td>2</td>\n",
       "      <td>0.001629</td>\n",
       "    </tr>\n",
       "    <tr>\n",
       "      <th>105</th>\n",
       "      <td>2016-w48</td>\n",
       "      <td>Tocantins</td>\n",
       "      <td>1</td>\n",
       "      <td>0.000814</td>\n",
       "    </tr>\n",
       "  </tbody>\n",
       "</table>\n",
       "<p>106 rows × 4 columns</p>\n",
       "</div>"
      ],
      "text/plain": [
       "    year_week      LocationName  group_size  proportion\n",
       "0    2016-w44           Alagoas           2    0.001629\n",
       "1    2016-w44          Amazonas           4    0.003257\n",
       "2    2016-w44             Bahia           2    0.001629\n",
       "3    2016-w44             Ceara           4    0.003257\n",
       "4    2016-w44  Distrito Federal           1    0.000814\n",
       "..        ...               ...         ...         ...\n",
       "101  2016-w48           Roraima           1    0.000814\n",
       "102  2016-w48    Santa Catarina           5    0.004072\n",
       "103  2016-w48         Sao Paulo          57    0.046417\n",
       "104  2016-w48           Sergipe           2    0.001629\n",
       "105  2016-w48         Tocantins           1    0.000814\n",
       "\n",
       "[106 rows x 4 columns]"
      ]
     },
     "execution_count": 157,
     "metadata": {},
     "output_type": "execute_result"
    }
   ],
   "source": [
    "# Step 1: Calculate the size of each group (year_week, LocationName)\n",
    "group_sizes = df_2016_11_pos.groupby(['year_week', 'LocationName']).size().reset_index(name='group_size')\n",
    "\n",
    "# Step 2: Calculate the proportion of each group in the dataset\n",
    "total_rows = len(df_2016_11_pos)\n",
    "group_sizes['proportion'] = group_sizes['group_size'] / total_rows\n",
    "group_sizes"
   ]
  },
  {
   "cell_type": "code",
   "execution_count": 158,
   "id": "52c7e839",
   "metadata": {},
   "outputs": [
    {
     "data": {
      "text/html": [
       "<div>\n",
       "<style scoped>\n",
       "    .dataframe tbody tr th:only-of-type {\n",
       "        vertical-align: middle;\n",
       "    }\n",
       "\n",
       "    .dataframe tbody tr th {\n",
       "        vertical-align: top;\n",
       "    }\n",
       "\n",
       "    .dataframe thead th {\n",
       "        text-align: right;\n",
       "    }\n",
       "</style>\n",
       "<table border=\"1\" class=\"dataframe\">\n",
       "  <thead>\n",
       "    <tr style=\"text-align: right;\">\n",
       "      <th></th>\n",
       "      <th>year_week</th>\n",
       "      <th>LocationName</th>\n",
       "      <th>group_size</th>\n",
       "      <th>proportion</th>\n",
       "      <th>sample_size</th>\n",
       "    </tr>\n",
       "  </thead>\n",
       "  <tbody>\n",
       "    <tr>\n",
       "      <th>0</th>\n",
       "      <td>2016-w44</td>\n",
       "      <td>Alagoas</td>\n",
       "      <td>2</td>\n",
       "      <td>0.001629</td>\n",
       "      <td>3</td>\n",
       "    </tr>\n",
       "    <tr>\n",
       "      <th>1</th>\n",
       "      <td>2016-w44</td>\n",
       "      <td>Amazonas</td>\n",
       "      <td>4</td>\n",
       "      <td>0.003257</td>\n",
       "      <td>7</td>\n",
       "    </tr>\n",
       "    <tr>\n",
       "      <th>2</th>\n",
       "      <td>2016-w44</td>\n",
       "      <td>Bahia</td>\n",
       "      <td>2</td>\n",
       "      <td>0.001629</td>\n",
       "      <td>3</td>\n",
       "    </tr>\n",
       "    <tr>\n",
       "      <th>3</th>\n",
       "      <td>2016-w44</td>\n",
       "      <td>Ceara</td>\n",
       "      <td>4</td>\n",
       "      <td>0.003257</td>\n",
       "      <td>7</td>\n",
       "    </tr>\n",
       "    <tr>\n",
       "      <th>4</th>\n",
       "      <td>2016-w44</td>\n",
       "      <td>Distrito Federal</td>\n",
       "      <td>1</td>\n",
       "      <td>0.000814</td>\n",
       "      <td>1</td>\n",
       "    </tr>\n",
       "    <tr>\n",
       "      <th>...</th>\n",
       "      <td>...</td>\n",
       "      <td>...</td>\n",
       "      <td>...</td>\n",
       "      <td>...</td>\n",
       "      <td>...</td>\n",
       "    </tr>\n",
       "    <tr>\n",
       "      <th>101</th>\n",
       "      <td>2016-w48</td>\n",
       "      <td>Roraima</td>\n",
       "      <td>1</td>\n",
       "      <td>0.000814</td>\n",
       "      <td>1</td>\n",
       "    </tr>\n",
       "    <tr>\n",
       "      <th>102</th>\n",
       "      <td>2016-w48</td>\n",
       "      <td>Santa Catarina</td>\n",
       "      <td>5</td>\n",
       "      <td>0.004072</td>\n",
       "      <td>9</td>\n",
       "    </tr>\n",
       "    <tr>\n",
       "      <th>103</th>\n",
       "      <td>2016-w48</td>\n",
       "      <td>Sao Paulo</td>\n",
       "      <td>57</td>\n",
       "      <td>0.046417</td>\n",
       "      <td>113</td>\n",
       "    </tr>\n",
       "    <tr>\n",
       "      <th>104</th>\n",
       "      <td>2016-w48</td>\n",
       "      <td>Sergipe</td>\n",
       "      <td>2</td>\n",
       "      <td>0.001629</td>\n",
       "      <td>3</td>\n",
       "    </tr>\n",
       "    <tr>\n",
       "      <th>105</th>\n",
       "      <td>2016-w48</td>\n",
       "      <td>Tocantins</td>\n",
       "      <td>1</td>\n",
       "      <td>0.000814</td>\n",
       "      <td>1</td>\n",
       "    </tr>\n",
       "  </tbody>\n",
       "</table>\n",
       "<p>106 rows × 5 columns</p>\n",
       "</div>"
      ],
      "text/plain": [
       "    year_week      LocationName  group_size  proportion  sample_size\n",
       "0    2016-w44           Alagoas           2    0.001629            3\n",
       "1    2016-w44          Amazonas           4    0.003257            7\n",
       "2    2016-w44             Bahia           2    0.001629            3\n",
       "3    2016-w44             Ceara           4    0.003257            7\n",
       "4    2016-w44  Distrito Federal           1    0.000814            1\n",
       "..        ...               ...         ...         ...          ...\n",
       "101  2016-w48           Roraima           1    0.000814            1\n",
       "102  2016-w48    Santa Catarina           5    0.004072            9\n",
       "103  2016-w48         Sao Paulo          57    0.046417          113\n",
       "104  2016-w48           Sergipe           2    0.001629            3\n",
       "105  2016-w48         Tocantins           1    0.000814            1\n",
       "\n",
       "[106 rows x 5 columns]"
      ]
     },
     "execution_count": 158,
     "metadata": {},
     "output_type": "execute_result"
    }
   ],
   "source": [
    "# Step 3: Define the target sample size\n",
    "target_sample_size = 2450\n",
    "\n",
    "# Step 4: Calculate the sample size for each group (based on its proportion)\n",
    "group_sizes['sample_size'] = np.floor(group_sizes['proportion'] * target_sample_size).astype(int)\n",
    "group_sizes"
   ]
  },
  {
   "cell_type": "code",
   "execution_count": 159,
   "id": "47bfacf4",
   "metadata": {},
   "outputs": [],
   "source": [
    "# Step 5: Merge this sample size information back to the original DataFrame\n",
    "df_2016_11_pos_sample_size = pd.merge(df_2016_11_pos, group_sizes[['year_week', 'LocationName', 'sample_size']], \n",
    "                               on=['year_week', 'LocationName'], how='left')"
   ]
  },
  {
   "cell_type": "code",
   "execution_count": 160,
   "id": "3127c68e",
   "metadata": {},
   "outputs": [
    {
     "name": "stdout",
     "output_type": "stream",
     "text": [
      "Sampled 1228 rows.\n"
     ]
    }
   ],
   "source": [
    "# Step 6: Perform the stratified sampling\n",
    "#df_2016_11_pos_sample = df_2016_11_pos_sample_size.groupby(['year_week', 'LocationName']).apply(\n",
    " #   lambda group: group.sample(n=group['sample_size'].iloc[0], random_state=42)\n",
    "#).reset_index(drop=True)\n",
    "df_2016_11_pos_sample = df_2016_11_pos\n",
    "# Step 7: Check the result\n",
    "print(f\"Sampled {len(df_2016_11_pos_sample)} rows.\")\n"
   ]
  },
  {
   "cell_type": "code",
   "execution_count": 161,
   "id": "a5fc3ad1",
   "metadata": {},
   "outputs": [],
   "source": [
    "text_gpt_2016_11_pos = '\\n'.join(df_2016_11_pos_sample['text'].astype(str))"
   ]
  },
  {
   "cell_type": "markdown",
   "id": "8df94c41",
   "metadata": {},
   "source": [
    "### Prompts and loops"
   ]
  },
  {
   "cell_type": "code",
   "execution_count": 162,
   "id": "b2c43f66",
   "metadata": {},
   "outputs": [],
   "source": [
    "prompt_11 = prompt_raw.replace('TWEETS', text_gpt_2016_11_pos)"
   ]
  },
  {
   "cell_type": "code",
   "execution_count": 163,
   "id": "87bbf147",
   "metadata": {
    "scrolled": false
   },
   "outputs": [],
   "source": [
    "response = openai.ChatCompletion.create(\n",
    "    model=\"gpt-4o-mini\",  \n",
    "    messages = [\n",
    "        {\"role\": \"user\", \"content\": prompt_11}\n",
    "    ],\n",
    "    max_tokens=400,  # Maximum number of tokens in the response\n",
    "    temperature=0.7  # Controls the randomness of the output\n",
    ")"
   ]
  },
  {
   "cell_type": "code",
   "execution_count": 164,
   "id": "99d409e9",
   "metadata": {},
   "outputs": [
    {
     "data": {
      "text/plain": [
       "'The content discusses various vaccination campaigns and initiatives in Brazil, emphasizing the importance of vaccinating both animals and humans against diseases like foot-and-mouth disease, rabies, HPV, and dengue. It highlights upcoming vaccination days, availability of vaccines, and the need for public awareness in maintaining vaccination schedules for pets and livestock.'"
      ]
     },
     "execution_count": 164,
     "metadata": {},
     "output_type": "execute_result"
    }
   ],
   "source": [
    "response.choices[0].message.content"
   ]
  },
  {
   "cell_type": "code",
   "execution_count": 165,
   "id": "c1cb7d55",
   "metadata": {},
   "outputs": [],
   "source": [
    "#summary = []\n",
    "#dataset = []"
   ]
  },
  {
   "cell_type": "code",
   "execution_count": 166,
   "id": "0b5f7bbc",
   "metadata": {},
   "outputs": [],
   "source": [
    "dataset.append(\"2016_11_positive\")"
   ]
  },
  {
   "cell_type": "code",
   "execution_count": 167,
   "id": "25b7e5ff",
   "metadata": {},
   "outputs": [],
   "source": [
    "summary.append(response.choices[0].message.content)"
   ]
  },
  {
   "cell_type": "code",
   "execution_count": 168,
   "id": "10f2f273",
   "metadata": {
    "tags": []
   },
   "outputs": [
    {
     "name": "stdout",
     "output_type": "stream",
     "text": [
      "<class 'pandas.core.frame.DataFrame'>\n",
      "RangeIndex: 11 entries, 0 to 10\n",
      "Data columns (total 2 columns):\n",
      " #   Column   Non-Null Count  Dtype \n",
      "---  ------   --------------  ----- \n",
      " 0   dataset  11 non-null     object\n",
      " 1   summary  11 non-null     object\n",
      "dtypes: object(2)\n",
      "memory usage: 304.0+ bytes\n"
     ]
    }
   ],
   "source": [
    "df_2016_pos = pd.DataFrame(list(zip(dataset, summary)),\n",
    "                            columns = ['dataset', 'summary'])\n",
    "df_2016_pos.info()"
   ]
  },
  {
   "cell_type": "code",
   "execution_count": 169,
   "id": "89ced529",
   "metadata": {},
   "outputs": [
    {
     "data": {
      "text/html": [
       "<div>\n",
       "<style scoped>\n",
       "    .dataframe tbody tr th:only-of-type {\n",
       "        vertical-align: middle;\n",
       "    }\n",
       "\n",
       "    .dataframe tbody tr th {\n",
       "        vertical-align: top;\n",
       "    }\n",
       "\n",
       "    .dataframe thead th {\n",
       "        text-align: right;\n",
       "    }\n",
       "</style>\n",
       "<table border=\"1\" class=\"dataframe\">\n",
       "  <thead>\n",
       "    <tr style=\"text-align: right;\">\n",
       "      <th></th>\n",
       "      <th>dataset</th>\n",
       "      <th>summary</th>\n",
       "    </tr>\n",
       "  </thead>\n",
       "  <tbody>\n",
       "    <tr>\n",
       "      <th>0</th>\n",
       "      <td>2016_01_positive</td>\n",
       "      <td>The sentences discuss various aspects of vacci...</td>\n",
       "    </tr>\n",
       "    <tr>\n",
       "      <th>1</th>\n",
       "      <td>2016_02_positive</td>\n",
       "      <td>The excerpts discuss the urgent need for a vac...</td>\n",
       "    </tr>\n",
       "    <tr>\n",
       "      <th>2</th>\n",
       "      <td>2016_03_positive</td>\n",
       "      <td>In Brazil, there is a strong emphasis on vacci...</td>\n",
       "    </tr>\n",
       "    <tr>\n",
       "      <th>3</th>\n",
       "      <td>2016_04_positive</td>\n",
       "      <td>The text discusses various vaccination campaig...</td>\n",
       "    </tr>\n",
       "    <tr>\n",
       "      <th>4</th>\n",
       "      <td>2016_05_positive</td>\n",
       "      <td>The text discusses various vaccination campaig...</td>\n",
       "    </tr>\n",
       "    <tr>\n",
       "      <th>5</th>\n",
       "      <td>2016_06_positive</td>\n",
       "      <td>The texts discuss various vaccination initiati...</td>\n",
       "    </tr>\n",
       "    <tr>\n",
       "      <th>6</th>\n",
       "      <td>2016_07_positive</td>\n",
       "      <td>The text discusses various aspects of vaccinat...</td>\n",
       "    </tr>\n",
       "    <tr>\n",
       "      <th>7</th>\n",
       "      <td>2016_08_positive</td>\n",
       "      <td>The texts discuss various vaccines currently i...</td>\n",
       "    </tr>\n",
       "    <tr>\n",
       "      <th>8</th>\n",
       "      <td>2016_09_positive</td>\n",
       "      <td>Brazilian researchers have developed a vaccine...</td>\n",
       "    </tr>\n",
       "    <tr>\n",
       "      <th>9</th>\n",
       "      <td>2016_10_positive</td>\n",
       "      <td>The sentences discuss various vaccination camp...</td>\n",
       "    </tr>\n",
       "    <tr>\n",
       "      <th>10</th>\n",
       "      <td>2016_11_positive</td>\n",
       "      <td>The content discusses various vaccination camp...</td>\n",
       "    </tr>\n",
       "  </tbody>\n",
       "</table>\n",
       "</div>"
      ],
      "text/plain": [
       "             dataset                                            summary\n",
       "0   2016_01_positive  The sentences discuss various aspects of vacci...\n",
       "1   2016_02_positive  The excerpts discuss the urgent need for a vac...\n",
       "2   2016_03_positive  In Brazil, there is a strong emphasis on vacci...\n",
       "3   2016_04_positive  The text discusses various vaccination campaig...\n",
       "4   2016_05_positive  The text discusses various vaccination campaig...\n",
       "5   2016_06_positive  The texts discuss various vaccination initiati...\n",
       "6   2016_07_positive  The text discusses various aspects of vaccinat...\n",
       "7   2016_08_positive  The texts discuss various vaccines currently i...\n",
       "8   2016_09_positive  Brazilian researchers have developed a vaccine...\n",
       "9   2016_10_positive  The sentences discuss various vaccination camp...\n",
       "10  2016_11_positive  The content discusses various vaccination camp..."
      ]
     },
     "execution_count": 169,
     "metadata": {},
     "output_type": "execute_result"
    }
   ],
   "source": [
    "df_2016_pos.tail(14)"
   ]
  },
  {
   "cell_type": "code",
   "execution_count": 170,
   "id": "952c4bca",
   "metadata": {},
   "outputs": [
    {
     "data": {
      "text/plain": [
       "<OpenAIObject chat.completion id=chatcmpl-AUcsniIbTl3MAgoj7hMXz75CaAbk9 at 0x21001d0c860> JSON: {\n",
       "  \"choices\": [\n",
       "    {\n",
       "      \"finish_reason\": \"stop\",\n",
       "      \"index\": 0,\n",
       "      \"logprobs\": null,\n",
       "      \"message\": {\n",
       "        \"content\": \"The content discusses various vaccination campaigns and initiatives in Brazil, emphasizing the importance of vaccinating both animals and humans against diseases like foot-and-mouth disease, rabies, HPV, and dengue. It highlights upcoming vaccination days, availability of vaccines, and the need for public awareness in maintaining vaccination schedules for pets and livestock.\",\n",
       "        \"refusal\": null,\n",
       "        \"role\": \"assistant\"\n",
       "      }\n",
       "    }\n",
       "  ],\n",
       "  \"created\": 1731862669,\n",
       "  \"id\": \"chatcmpl-AUcsniIbTl3MAgoj7hMXz75CaAbk9\",\n",
       "  \"model\": \"gpt-4o-mini-2024-07-18\",\n",
       "  \"object\": \"chat.completion\",\n",
       "  \"system_fingerprint\": \"fp_f8dd36be86\",\n",
       "  \"usage\": {\n",
       "    \"completion_tokens\": 62,\n",
       "    \"completion_tokens_details\": {\n",
       "      \"accepted_prediction_tokens\": 0,\n",
       "      \"audio_tokens\": 0,\n",
       "      \"reasoning_tokens\": 0,\n",
       "      \"rejected_prediction_tokens\": 0\n",
       "    },\n",
       "    \"prompt_tokens\": 30968,\n",
       "    \"prompt_tokens_details\": {\n",
       "      \"audio_tokens\": 0,\n",
       "      \"cached_tokens\": 0\n",
       "    },\n",
       "    \"total_tokens\": 31030\n",
       "  }\n",
       "}"
      ]
     },
     "execution_count": 170,
     "metadata": {},
     "output_type": "execute_result"
    }
   ],
   "source": [
    "response"
   ]
  },
  {
   "cell_type": "markdown",
   "id": "46613a39",
   "metadata": {},
   "source": [
    "## December"
   ]
  },
  {
   "cell_type": "code",
   "execution_count": 171,
   "id": "3f6bde3b",
   "metadata": {
    "scrolled": true,
    "tags": []
   },
   "outputs": [
    {
     "name": "stdout",
     "output_type": "stream",
     "text": [
      "<class 'pandas.core.frame.DataFrame'>\n",
      "RangeIndex: 1293 entries, 0 to 1292\n",
      "Data columns (total 53 columns):\n",
      " #   Column                  Non-Null Count  Dtype  \n",
      "---  ------                  --------------  -----  \n",
      " 0   index                   1293 non-null   int64  \n",
      " 1   LocationCode            1293 non-null   object \n",
      " 2   LocationName            1293 non-null   object \n",
      " 3   StatesCode              1293 non-null   object \n",
      " 4   ...4                    1293 non-null   int64  \n",
      " 5   id                      1293 non-null   float64\n",
      " 6   text                    1293 non-null   object \n",
      " 7   label                   1293 non-null   object \n",
      " 8   in_reply_to_status_id   84 non-null     float64\n",
      " 9   in_reply_to_user_id     91 non-null     float64\n",
      " 10  quoted_user_id          42 non-null     float64\n",
      " 11  quoted_status_id        42 non-null     float64\n",
      " 12  retweeted_user_id       343 non-null    float64\n",
      " 13  retweeted_status_id     343 non-null    float64\n",
      " 14  created_at              1293 non-null   object \n",
      " 15  entities.user_mentions  544 non-null    object \n",
      " 16  user.id                 1293 non-null   float64\n",
      " 17  user.screen_name        1293 non-null   object \n",
      " 18  user.name               1293 non-null   object \n",
      " 19  user.description        1136 non-null   object \n",
      " 20  user.timezone           0 non-null      float64\n",
      " 21  user.location           1279 non-null   object \n",
      " 22  user.num_followers      1293 non-null   int64  \n",
      " 23  user.num_following      1293 non-null   int64  \n",
      " 24  user.created_at         1293 non-null   object \n",
      " 25  user.statuses_count     1293 non-null   int64  \n",
      " 26  user.is_verified        1293 non-null   bool   \n",
      " 27  lang                    1293 non-null   object \n",
      " 28  token_count             1293 non-null   int64  \n",
      " 29  is_retweet              1293 non-null   bool   \n",
      " 30  has_quote               1293 non-null   bool   \n",
      " 31  is_reply                1293 non-null   bool   \n",
      " 32  contains_keywords       1293 non-null   bool   \n",
      " 33  longitude               1293 non-null   float64\n",
      " 34  latitude                1293 non-null   float64\n",
      " 35  country_code            1293 non-null   object \n",
      " 36  geoname_id              1231 non-null   float64\n",
      " 37  location_type           1293 non-null   object \n",
      " 38  geo_type                1293 non-null   int64  \n",
      " 39  region                  1293 non-null   object \n",
      " 40  subregion               1293 non-null   object \n",
      " 41  num_quotes              1293 non-null   int64  \n",
      " 42  num_replies             1293 non-null   int64  \n",
      " 43  num_retweets            1293 non-null   int64  \n",
      " 44  sent_gpt                1293 non-null   object \n",
      " 45  gpt_sent_presence       1293 non-null   int64  \n",
      " 46  cleaned_text_lem        1293 non-null   object \n",
      " 47  cleaned_text            1293 non-null   object \n",
      " 48  month                   1293 non-null   int64  \n",
      " 49  year                    1293 non-null   int64  \n",
      " 50  week                    1293 non-null   int64  \n",
      " 51  year_month              1293 non-null   object \n",
      " 52  year_week               1293 non-null   object \n",
      "dtypes: bool(5), float64(12), int64(14), object(22)\n",
      "memory usage: 491.3+ KB\n"
     ]
    }
   ],
   "source": [
    "# Get monthly data\n",
    "df_2016_12_pos = pd.read_csv('../data/local/df_pos_2016-12.csv').reset_index()\n",
    "df_2016_12_pos.info()"
   ]
  },
  {
   "cell_type": "markdown",
   "id": "4658d918",
   "metadata": {},
   "source": [
    "### Representative sample based on week and location"
   ]
  },
  {
   "cell_type": "code",
   "execution_count": 172,
   "id": "fcdbb1e9",
   "metadata": {},
   "outputs": [
    {
     "data": {
      "text/html": [
       "<div>\n",
       "<style scoped>\n",
       "    .dataframe tbody tr th:only-of-type {\n",
       "        vertical-align: middle;\n",
       "    }\n",
       "\n",
       "    .dataframe tbody tr th {\n",
       "        vertical-align: top;\n",
       "    }\n",
       "\n",
       "    .dataframe thead th {\n",
       "        text-align: right;\n",
       "    }\n",
       "</style>\n",
       "<table border=\"1\" class=\"dataframe\">\n",
       "  <thead>\n",
       "    <tr style=\"text-align: right;\">\n",
       "      <th></th>\n",
       "      <th>year_week</th>\n",
       "      <th>LocationName</th>\n",
       "      <th>group_size</th>\n",
       "      <th>proportion</th>\n",
       "    </tr>\n",
       "  </thead>\n",
       "  <tbody>\n",
       "    <tr>\n",
       "      <th>0</th>\n",
       "      <td>2016-w48</td>\n",
       "      <td>Amapa</td>\n",
       "      <td>1</td>\n",
       "      <td>0.000773</td>\n",
       "    </tr>\n",
       "    <tr>\n",
       "      <th>1</th>\n",
       "      <td>2016-w48</td>\n",
       "      <td>Bahia</td>\n",
       "      <td>2</td>\n",
       "      <td>0.001547</td>\n",
       "    </tr>\n",
       "    <tr>\n",
       "      <th>2</th>\n",
       "      <td>2016-w48</td>\n",
       "      <td>Distrito Federal</td>\n",
       "      <td>1</td>\n",
       "      <td>0.000773</td>\n",
       "    </tr>\n",
       "    <tr>\n",
       "      <th>3</th>\n",
       "      <td>2016-w48</td>\n",
       "      <td>Espirito Santo</td>\n",
       "      <td>1</td>\n",
       "      <td>0.000773</td>\n",
       "    </tr>\n",
       "    <tr>\n",
       "      <th>4</th>\n",
       "      <td>2016-w48</td>\n",
       "      <td>Goias</td>\n",
       "      <td>1</td>\n",
       "      <td>0.000773</td>\n",
       "    </tr>\n",
       "    <tr>\n",
       "      <th>...</th>\n",
       "      <td>...</td>\n",
       "      <td>...</td>\n",
       "      <td>...</td>\n",
       "      <td>...</td>\n",
       "    </tr>\n",
       "    <tr>\n",
       "      <th>106</th>\n",
       "      <td>2016-w53</td>\n",
       "      <td>Parana</td>\n",
       "      <td>3</td>\n",
       "      <td>0.002320</td>\n",
       "    </tr>\n",
       "    <tr>\n",
       "      <th>107</th>\n",
       "      <td>2016-w53</td>\n",
       "      <td>Pernambuco</td>\n",
       "      <td>2</td>\n",
       "      <td>0.001547</td>\n",
       "    </tr>\n",
       "    <tr>\n",
       "      <th>108</th>\n",
       "      <td>2016-w53</td>\n",
       "      <td>Rio Grande Do Sul</td>\n",
       "      <td>1</td>\n",
       "      <td>0.000773</td>\n",
       "    </tr>\n",
       "    <tr>\n",
       "      <th>109</th>\n",
       "      <td>2016-w53</td>\n",
       "      <td>Santa Catarina</td>\n",
       "      <td>2</td>\n",
       "      <td>0.001547</td>\n",
       "    </tr>\n",
       "    <tr>\n",
       "      <th>110</th>\n",
       "      <td>2016-w53</td>\n",
       "      <td>Sao Paulo</td>\n",
       "      <td>8</td>\n",
       "      <td>0.006187</td>\n",
       "    </tr>\n",
       "  </tbody>\n",
       "</table>\n",
       "<p>111 rows × 4 columns</p>\n",
       "</div>"
      ],
      "text/plain": [
       "    year_week       LocationName  group_size  proportion\n",
       "0    2016-w48              Amapa           1    0.000773\n",
       "1    2016-w48              Bahia           2    0.001547\n",
       "2    2016-w48   Distrito Federal           1    0.000773\n",
       "3    2016-w48     Espirito Santo           1    0.000773\n",
       "4    2016-w48              Goias           1    0.000773\n",
       "..        ...                ...         ...         ...\n",
       "106  2016-w53             Parana           3    0.002320\n",
       "107  2016-w53         Pernambuco           2    0.001547\n",
       "108  2016-w53  Rio Grande Do Sul           1    0.000773\n",
       "109  2016-w53     Santa Catarina           2    0.001547\n",
       "110  2016-w53          Sao Paulo           8    0.006187\n",
       "\n",
       "[111 rows x 4 columns]"
      ]
     },
     "execution_count": 172,
     "metadata": {},
     "output_type": "execute_result"
    }
   ],
   "source": [
    "# Step 1: Calculate the size of each group (year_week, LocationName)\n",
    "group_sizes = df_2016_12_pos.groupby(['year_week', 'LocationName']).size().reset_index(name='group_size')\n",
    "\n",
    "# Step 2: Calculate the proportion of each group in the dataset\n",
    "total_rows = len(df_2016_12_pos)\n",
    "group_sizes['proportion'] = group_sizes['group_size'] / total_rows\n",
    "group_sizes"
   ]
  },
  {
   "cell_type": "code",
   "execution_count": 173,
   "id": "bbf24049",
   "metadata": {},
   "outputs": [
    {
     "data": {
      "text/html": [
       "<div>\n",
       "<style scoped>\n",
       "    .dataframe tbody tr th:only-of-type {\n",
       "        vertical-align: middle;\n",
       "    }\n",
       "\n",
       "    .dataframe tbody tr th {\n",
       "        vertical-align: top;\n",
       "    }\n",
       "\n",
       "    .dataframe thead th {\n",
       "        text-align: right;\n",
       "    }\n",
       "</style>\n",
       "<table border=\"1\" class=\"dataframe\">\n",
       "  <thead>\n",
       "    <tr style=\"text-align: right;\">\n",
       "      <th></th>\n",
       "      <th>year_week</th>\n",
       "      <th>LocationName</th>\n",
       "      <th>group_size</th>\n",
       "      <th>proportion</th>\n",
       "      <th>sample_size</th>\n",
       "    </tr>\n",
       "  </thead>\n",
       "  <tbody>\n",
       "    <tr>\n",
       "      <th>0</th>\n",
       "      <td>2016-w48</td>\n",
       "      <td>Amapa</td>\n",
       "      <td>1</td>\n",
       "      <td>0.000773</td>\n",
       "      <td>1</td>\n",
       "    </tr>\n",
       "    <tr>\n",
       "      <th>1</th>\n",
       "      <td>2016-w48</td>\n",
       "      <td>Bahia</td>\n",
       "      <td>2</td>\n",
       "      <td>0.001547</td>\n",
       "      <td>3</td>\n",
       "    </tr>\n",
       "    <tr>\n",
       "      <th>2</th>\n",
       "      <td>2016-w48</td>\n",
       "      <td>Distrito Federal</td>\n",
       "      <td>1</td>\n",
       "      <td>0.000773</td>\n",
       "      <td>1</td>\n",
       "    </tr>\n",
       "    <tr>\n",
       "      <th>3</th>\n",
       "      <td>2016-w48</td>\n",
       "      <td>Espirito Santo</td>\n",
       "      <td>1</td>\n",
       "      <td>0.000773</td>\n",
       "      <td>1</td>\n",
       "    </tr>\n",
       "    <tr>\n",
       "      <th>4</th>\n",
       "      <td>2016-w48</td>\n",
       "      <td>Goias</td>\n",
       "      <td>1</td>\n",
       "      <td>0.000773</td>\n",
       "      <td>1</td>\n",
       "    </tr>\n",
       "    <tr>\n",
       "      <th>...</th>\n",
       "      <td>...</td>\n",
       "      <td>...</td>\n",
       "      <td>...</td>\n",
       "      <td>...</td>\n",
       "      <td>...</td>\n",
       "    </tr>\n",
       "    <tr>\n",
       "      <th>106</th>\n",
       "      <td>2016-w53</td>\n",
       "      <td>Parana</td>\n",
       "      <td>3</td>\n",
       "      <td>0.002320</td>\n",
       "      <td>5</td>\n",
       "    </tr>\n",
       "    <tr>\n",
       "      <th>107</th>\n",
       "      <td>2016-w53</td>\n",
       "      <td>Pernambuco</td>\n",
       "      <td>2</td>\n",
       "      <td>0.001547</td>\n",
       "      <td>3</td>\n",
       "    </tr>\n",
       "    <tr>\n",
       "      <th>108</th>\n",
       "      <td>2016-w53</td>\n",
       "      <td>Rio Grande Do Sul</td>\n",
       "      <td>1</td>\n",
       "      <td>0.000773</td>\n",
       "      <td>1</td>\n",
       "    </tr>\n",
       "    <tr>\n",
       "      <th>109</th>\n",
       "      <td>2016-w53</td>\n",
       "      <td>Santa Catarina</td>\n",
       "      <td>2</td>\n",
       "      <td>0.001547</td>\n",
       "      <td>3</td>\n",
       "    </tr>\n",
       "    <tr>\n",
       "      <th>110</th>\n",
       "      <td>2016-w53</td>\n",
       "      <td>Sao Paulo</td>\n",
       "      <td>8</td>\n",
       "      <td>0.006187</td>\n",
       "      <td>15</td>\n",
       "    </tr>\n",
       "  </tbody>\n",
       "</table>\n",
       "<p>111 rows × 5 columns</p>\n",
       "</div>"
      ],
      "text/plain": [
       "    year_week       LocationName  group_size  proportion  sample_size\n",
       "0    2016-w48              Amapa           1    0.000773            1\n",
       "1    2016-w48              Bahia           2    0.001547            3\n",
       "2    2016-w48   Distrito Federal           1    0.000773            1\n",
       "3    2016-w48     Espirito Santo           1    0.000773            1\n",
       "4    2016-w48              Goias           1    0.000773            1\n",
       "..        ...                ...         ...         ...          ...\n",
       "106  2016-w53             Parana           3    0.002320            5\n",
       "107  2016-w53         Pernambuco           2    0.001547            3\n",
       "108  2016-w53  Rio Grande Do Sul           1    0.000773            1\n",
       "109  2016-w53     Santa Catarina           2    0.001547            3\n",
       "110  2016-w53          Sao Paulo           8    0.006187           15\n",
       "\n",
       "[111 rows x 5 columns]"
      ]
     },
     "execution_count": 173,
     "metadata": {},
     "output_type": "execute_result"
    }
   ],
   "source": [
    "# Step 3: Define the target sample size\n",
    "target_sample_size = 2450\n",
    "\n",
    "# Step 4: Calculate the sample size for each group (based on its proportion)\n",
    "group_sizes['sample_size'] = np.floor(group_sizes['proportion'] * target_sample_size).astype(int)\n",
    "group_sizes"
   ]
  },
  {
   "cell_type": "code",
   "execution_count": 174,
   "id": "c207c408",
   "metadata": {},
   "outputs": [],
   "source": [
    "# Step 5: Merge this sample size information back to the original DataFrame\n",
    "df_2016_12_pos_sample_size = pd.merge(df_2016_12_pos, group_sizes[['year_week', 'LocationName', 'sample_size']], \n",
    "                               on=['year_week', 'LocationName'], how='left')"
   ]
  },
  {
   "cell_type": "code",
   "execution_count": 175,
   "id": "66d74acb",
   "metadata": {},
   "outputs": [
    {
     "name": "stdout",
     "output_type": "stream",
     "text": [
      "Sampled 1293 rows.\n"
     ]
    }
   ],
   "source": [
    "# Step 6: Perform the stratified sampling\n",
    "#df_2016_12_pos_sample = df_2016_12_pos_sample_size.groupby(['year_week', 'LocationName']).apply(\n",
    " #   lambda group: group.sample(n=group['sample_size'].iloc[0], random_state=42)\n",
    "#).reset_index(drop=True)\n",
    "df_2016_12_pos_sample = df_2016_12_pos\n",
    "# Step 7: Check the result\n",
    "print(f\"Sampled {len(df_2016_12_pos_sample)} rows.\")\n"
   ]
  },
  {
   "cell_type": "code",
   "execution_count": 176,
   "id": "b23befcc",
   "metadata": {},
   "outputs": [],
   "source": [
    "text_gpt_2016_12_pos = '\\n'.join(df_2016_12_pos_sample['text'].astype(str))"
   ]
  },
  {
   "cell_type": "markdown",
   "id": "d3650c4b",
   "metadata": {},
   "source": [
    "### Prompts and loops"
   ]
  },
  {
   "cell_type": "code",
   "execution_count": 177,
   "id": "791b4fd6",
   "metadata": {},
   "outputs": [],
   "source": [
    "prompt_12 = prompt_raw.replace('TWEETS', text_gpt_2016_12_pos)"
   ]
  },
  {
   "cell_type": "code",
   "execution_count": 178,
   "id": "def2b9de",
   "metadata": {
    "scrolled": false
   },
   "outputs": [],
   "source": [
    "response = openai.ChatCompletion.create(\n",
    "    model=\"gpt-4o-mini\",  \n",
    "    messages = [\n",
    "        {\"role\": \"user\", \"content\": prompt_12}\n",
    "    ],\n",
    "    max_tokens=400,  # Maximum number of tokens in the response\n",
    "    temperature=0.7  # Controls the randomness of the output\n",
    ")"
   ]
  },
  {
   "cell_type": "code",
   "execution_count": 179,
   "id": "eb10f5ec",
   "metadata": {},
   "outputs": [
    {
     "data": {
      "text/plain": [
       "'The text discusses various vaccination efforts in Brazil, including the introduction of a dengue vaccine being tested by the Butantan Institute, the high vaccination rates against foot-and-mouth disease in livestock, and the importance of vaccinations for both humans and pets. It also highlights the effectiveness of the Ebola vaccine, which has shown 100% efficacy in trials. The text emphasizes the significance of vaccinations in preventing diseases and the ongoing campaigns to promote vaccination awareness.'"
      ]
     },
     "execution_count": 179,
     "metadata": {},
     "output_type": "execute_result"
    }
   ],
   "source": [
    "response.choices[0].message.content"
   ]
  },
  {
   "cell_type": "code",
   "execution_count": 180,
   "id": "82e7aa4c",
   "metadata": {},
   "outputs": [],
   "source": [
    "#summary = []\n",
    "#dataset = []"
   ]
  },
  {
   "cell_type": "code",
   "execution_count": 181,
   "id": "2a9d076b",
   "metadata": {},
   "outputs": [],
   "source": [
    "dataset.append(\"2016_12_positive\")"
   ]
  },
  {
   "cell_type": "code",
   "execution_count": 182,
   "id": "8a057dbe",
   "metadata": {},
   "outputs": [],
   "source": [
    "summary.append(response.choices[0].message.content)"
   ]
  },
  {
   "cell_type": "code",
   "execution_count": 183,
   "id": "3bb6bfbd",
   "metadata": {
    "tags": []
   },
   "outputs": [
    {
     "name": "stdout",
     "output_type": "stream",
     "text": [
      "<class 'pandas.core.frame.DataFrame'>\n",
      "RangeIndex: 12 entries, 0 to 11\n",
      "Data columns (total 2 columns):\n",
      " #   Column   Non-Null Count  Dtype \n",
      "---  ------   --------------  ----- \n",
      " 0   dataset  12 non-null     object\n",
      " 1   summary  12 non-null     object\n",
      "dtypes: object(2)\n",
      "memory usage: 320.0+ bytes\n"
     ]
    }
   ],
   "source": [
    "df_2016_pos = pd.DataFrame(list(zip(dataset, summary)),\n",
    "                            columns = ['dataset', 'summary'])\n",
    "df_2016_pos.info()"
   ]
  },
  {
   "cell_type": "code",
   "execution_count": 184,
   "id": "893bd100",
   "metadata": {},
   "outputs": [
    {
     "data": {
      "text/html": [
       "<div>\n",
       "<style scoped>\n",
       "    .dataframe tbody tr th:only-of-type {\n",
       "        vertical-align: middle;\n",
       "    }\n",
       "\n",
       "    .dataframe tbody tr th {\n",
       "        vertical-align: top;\n",
       "    }\n",
       "\n",
       "    .dataframe thead th {\n",
       "        text-align: right;\n",
       "    }\n",
       "</style>\n",
       "<table border=\"1\" class=\"dataframe\">\n",
       "  <thead>\n",
       "    <tr style=\"text-align: right;\">\n",
       "      <th></th>\n",
       "      <th>dataset</th>\n",
       "      <th>summary</th>\n",
       "    </tr>\n",
       "  </thead>\n",
       "  <tbody>\n",
       "    <tr>\n",
       "      <th>0</th>\n",
       "      <td>2016_01_positive</td>\n",
       "      <td>The sentences discuss various aspects of vacci...</td>\n",
       "    </tr>\n",
       "    <tr>\n",
       "      <th>1</th>\n",
       "      <td>2016_02_positive</td>\n",
       "      <td>The excerpts discuss the urgent need for a vac...</td>\n",
       "    </tr>\n",
       "    <tr>\n",
       "      <th>2</th>\n",
       "      <td>2016_03_positive</td>\n",
       "      <td>In Brazil, there is a strong emphasis on vacci...</td>\n",
       "    </tr>\n",
       "    <tr>\n",
       "      <th>3</th>\n",
       "      <td>2016_04_positive</td>\n",
       "      <td>The text discusses various vaccination campaig...</td>\n",
       "    </tr>\n",
       "    <tr>\n",
       "      <th>4</th>\n",
       "      <td>2016_05_positive</td>\n",
       "      <td>The text discusses various vaccination campaig...</td>\n",
       "    </tr>\n",
       "    <tr>\n",
       "      <th>5</th>\n",
       "      <td>2016_06_positive</td>\n",
       "      <td>The texts discuss various vaccination initiati...</td>\n",
       "    </tr>\n",
       "    <tr>\n",
       "      <th>6</th>\n",
       "      <td>2016_07_positive</td>\n",
       "      <td>The text discusses various aspects of vaccinat...</td>\n",
       "    </tr>\n",
       "    <tr>\n",
       "      <th>7</th>\n",
       "      <td>2016_08_positive</td>\n",
       "      <td>The texts discuss various vaccines currently i...</td>\n",
       "    </tr>\n",
       "    <tr>\n",
       "      <th>8</th>\n",
       "      <td>2016_09_positive</td>\n",
       "      <td>Brazilian researchers have developed a vaccine...</td>\n",
       "    </tr>\n",
       "    <tr>\n",
       "      <th>9</th>\n",
       "      <td>2016_10_positive</td>\n",
       "      <td>The sentences discuss various vaccination camp...</td>\n",
       "    </tr>\n",
       "    <tr>\n",
       "      <th>10</th>\n",
       "      <td>2016_11_positive</td>\n",
       "      <td>The content discusses various vaccination camp...</td>\n",
       "    </tr>\n",
       "    <tr>\n",
       "      <th>11</th>\n",
       "      <td>2016_12_positive</td>\n",
       "      <td>The text discusses various vaccination efforts...</td>\n",
       "    </tr>\n",
       "  </tbody>\n",
       "</table>\n",
       "</div>"
      ],
      "text/plain": [
       "             dataset                                            summary\n",
       "0   2016_01_positive  The sentences discuss various aspects of vacci...\n",
       "1   2016_02_positive  The excerpts discuss the urgent need for a vac...\n",
       "2   2016_03_positive  In Brazil, there is a strong emphasis on vacci...\n",
       "3   2016_04_positive  The text discusses various vaccination campaig...\n",
       "4   2016_05_positive  The text discusses various vaccination campaig...\n",
       "5   2016_06_positive  The texts discuss various vaccination initiati...\n",
       "6   2016_07_positive  The text discusses various aspects of vaccinat...\n",
       "7   2016_08_positive  The texts discuss various vaccines currently i...\n",
       "8   2016_09_positive  Brazilian researchers have developed a vaccine...\n",
       "9   2016_10_positive  The sentences discuss various vaccination camp...\n",
       "10  2016_11_positive  The content discusses various vaccination camp...\n",
       "11  2016_12_positive  The text discusses various vaccination efforts..."
      ]
     },
     "execution_count": 184,
     "metadata": {},
     "output_type": "execute_result"
    }
   ],
   "source": [
    "df_2016_pos.tail(14)"
   ]
  },
  {
   "cell_type": "code",
   "execution_count": 185,
   "id": "20bf36e0",
   "metadata": {},
   "outputs": [
    {
     "data": {
      "text/plain": [
       "<OpenAIObject chat.completion id=chatcmpl-AUcsrujZSJJV28KyTrSaAZ4pR8kPH at 0x21001dfb400> JSON: {\n",
       "  \"choices\": [\n",
       "    {\n",
       "      \"finish_reason\": \"stop\",\n",
       "      \"index\": 0,\n",
       "      \"logprobs\": null,\n",
       "      \"message\": {\n",
       "        \"content\": \"The text discusses various vaccination efforts in Brazil, including the introduction of a dengue vaccine being tested by the Butantan Institute, the high vaccination rates against foot-and-mouth disease in livestock, and the importance of vaccinations for both humans and pets. It also highlights the effectiveness of the Ebola vaccine, which has shown 100% efficacy in trials. The text emphasizes the significance of vaccinations in preventing diseases and the ongoing campaigns to promote vaccination awareness.\",\n",
       "        \"refusal\": null,\n",
       "        \"role\": \"assistant\"\n",
       "      }\n",
       "    }\n",
       "  ],\n",
       "  \"created\": 1731862673,\n",
       "  \"id\": \"chatcmpl-AUcsrujZSJJV28KyTrSaAZ4pR8kPH\",\n",
       "  \"model\": \"gpt-4o-mini-2024-07-18\",\n",
       "  \"object\": \"chat.completion\",\n",
       "  \"system_fingerprint\": \"fp_0ba0d124f1\",\n",
       "  \"usage\": {\n",
       "    \"completion_tokens\": 86,\n",
       "    \"completion_tokens_details\": {\n",
       "      \"accepted_prediction_tokens\": 0,\n",
       "      \"audio_tokens\": 0,\n",
       "      \"reasoning_tokens\": 0,\n",
       "      \"rejected_prediction_tokens\": 0\n",
       "    },\n",
       "    \"prompt_tokens\": 29524,\n",
       "    \"prompt_tokens_details\": {\n",
       "      \"audio_tokens\": 0,\n",
       "      \"cached_tokens\": 0\n",
       "    },\n",
       "    \"total_tokens\": 29610\n",
       "  }\n",
       "}"
      ]
     },
     "execution_count": 185,
     "metadata": {},
     "output_type": "execute_result"
    }
   ],
   "source": [
    "response"
   ]
  },
  {
   "cell_type": "markdown",
   "id": "4b2eea35",
   "metadata": {},
   "source": [
    "## All 2016 positive"
   ]
  },
  {
   "cell_type": "code",
   "execution_count": 186,
   "id": "76b26dc9",
   "metadata": {},
   "outputs": [],
   "source": [
    "df_2016_pos.to_csv('../data/summary_2016_positive_tweets.csv')"
   ]
  }
 ],
 "metadata": {
  "kernelspec": {
   "display_name": "Python 3 (ipykernel)",
   "language": "python",
   "name": "python3"
  },
  "language_info": {
   "codemirror_mode": {
    "name": "ipython",
    "version": 3
   },
   "file_extension": ".py",
   "mimetype": "text/x-python",
   "name": "python",
   "nbconvert_exporter": "python",
   "pygments_lexer": "ipython3",
   "version": "3.9.12"
  }
 },
 "nbformat": 4,
 "nbformat_minor": 5
}
