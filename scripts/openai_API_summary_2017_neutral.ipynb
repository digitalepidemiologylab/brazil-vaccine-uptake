{
 "cells": [
  {
   "cell_type": "markdown",
   "id": "e90b7c28",
   "metadata": {},
   "source": [
    "# Import libraries and data"
   ]
  },
  {
   "cell_type": "code",
   "execution_count": 1,
   "id": "433219e8-8f66-4be5-a3b8-e39fca644032",
   "metadata": {
    "tags": []
   },
   "outputs": [],
   "source": [
    "# Import libraries\n",
    "import os\n",
    "import openai\n",
    "import pandas as pd\n",
    "import numpy as np\n",
    "import openpyxl"
   ]
  },
  {
   "cell_type": "code",
   "execution_count": 2,
   "id": "2c68f056-74fe-4f29-9daf-6bdef5cc0701",
   "metadata": {},
   "outputs": [],
   "source": [
    "# Get OpenAI API secret key (change this file with your own OpenAI key)\n",
    "open_ai_key = open('../data/local/openai_key.txt', 'r').read()\n",
    "openai.api_key = open_ai_key\n",
    "#openai.Model.list()"
   ]
  },
  {
   "cell_type": "code",
   "execution_count": 3,
   "id": "aa3d0327",
   "metadata": {},
   "outputs": [],
   "source": [
    "# Prompt for GPT\n",
    "prompt_raw = \"I would like to summarise in maximum 300 characters and in English what the following sentences in Portuguese talk about. \\\n",
    "Do not use aspects mentioned only in one sentence as part of the summary: TWEETS\""
   ]
  },
  {
   "cell_type": "markdown",
   "id": "3c7787f4",
   "metadata": {},
   "source": [
    "# 2017 neutral"
   ]
  },
  {
   "cell_type": "markdown",
   "id": "2a04f7fe",
   "metadata": {},
   "source": [
    "## January"
   ]
  },
  {
   "cell_type": "code",
   "execution_count": 4,
   "id": "6663b9cf",
   "metadata": {
    "scrolled": true,
    "tags": []
   },
   "outputs": [
    {
     "name": "stdout",
     "output_type": "stream",
     "text": [
      "<class 'pandas.core.frame.DataFrame'>\n",
      "RangeIndex: 6097 entries, 0 to 6096\n",
      "Data columns (total 53 columns):\n",
      " #   Column                  Non-Null Count  Dtype  \n",
      "---  ------                  --------------  -----  \n",
      " 0   index                   6097 non-null   int64  \n",
      " 1   LocationCode            6097 non-null   object \n",
      " 2   LocationName            6097 non-null   object \n",
      " 3   StatesCode              6097 non-null   object \n",
      " 4   ...4                    6097 non-null   int64  \n",
      " 5   id                      6097 non-null   float64\n",
      " 6   text                    6097 non-null   object \n",
      " 7   label                   6097 non-null   object \n",
      " 8   in_reply_to_status_id   458 non-null    float64\n",
      " 9   in_reply_to_user_id     490 non-null    float64\n",
      " 10  quoted_user_id          101 non-null    float64\n",
      " 11  quoted_status_id        101 non-null    float64\n",
      " 12  retweeted_user_id       1200 non-null   float64\n",
      " 13  retweeted_status_id     1200 non-null   float64\n",
      " 14  created_at              6097 non-null   object \n",
      " 15  entities.user_mentions  1789 non-null   object \n",
      " 16  user.id                 6097 non-null   float64\n",
      " 17  user.screen_name        6097 non-null   object \n",
      " 18  user.name               6097 non-null   object \n",
      " 19  user.description        5449 non-null   object \n",
      " 20  user.timezone           0 non-null      float64\n",
      " 21  user.location           6011 non-null   object \n",
      " 22  user.num_followers      6097 non-null   int64  \n",
      " 23  user.num_following      6097 non-null   int64  \n",
      " 24  user.created_at         6097 non-null   object \n",
      " 25  user.statuses_count     6097 non-null   int64  \n",
      " 26  user.is_verified        6097 non-null   bool   \n",
      " 27  lang                    6097 non-null   object \n",
      " 28  token_count             6097 non-null   int64  \n",
      " 29  is_retweet              6097 non-null   bool   \n",
      " 30  has_quote               6097 non-null   bool   \n",
      " 31  is_reply                6097 non-null   bool   \n",
      " 32  contains_keywords       6097 non-null   bool   \n",
      " 33  longitude               6097 non-null   float64\n",
      " 34  latitude                6097 non-null   float64\n",
      " 35  country_code            6097 non-null   object \n",
      " 36  geoname_id              5531 non-null   float64\n",
      " 37  location_type           6097 non-null   object \n",
      " 38  geo_type                6097 non-null   int64  \n",
      " 39  region                  6097 non-null   object \n",
      " 40  subregion               6097 non-null   object \n",
      " 41  num_quotes              6097 non-null   int64  \n",
      " 42  num_replies             6097 non-null   int64  \n",
      " 43  num_retweets            6097 non-null   int64  \n",
      " 44  sent_gpt                6097 non-null   object \n",
      " 45  gpt_sent_presence       6097 non-null   int64  \n",
      " 46  cleaned_text_lem        6097 non-null   object \n",
      " 47  cleaned_text            6097 non-null   object \n",
      " 48  month                   6097 non-null   int64  \n",
      " 49  year                    6097 non-null   int64  \n",
      " 50  week                    6097 non-null   int64  \n",
      " 51  year_month              6097 non-null   object \n",
      " 52  year_week               6097 non-null   object \n",
      "dtypes: bool(5), float64(12), int64(14), object(22)\n",
      "memory usage: 2.3+ MB\n"
     ]
    }
   ],
   "source": [
    "# Get monthly data\n",
    "df_2017_01_neu = pd.read_csv('../data/local/df_neu_2017-01.csv').reset_index()\n",
    "df_2017_01_neu.info()"
   ]
  },
  {
   "cell_type": "markdown",
   "id": "76f621ec",
   "metadata": {},
   "source": [
    "### Representative sample based on week and location"
   ]
  },
  {
   "cell_type": "code",
   "execution_count": 5,
   "id": "921a735a",
   "metadata": {},
   "outputs": [
    {
     "data": {
      "text/html": [
       "<div>\n",
       "<style scoped>\n",
       "    .dataframe tbody tr th:only-of-type {\n",
       "        vertical-align: middle;\n",
       "    }\n",
       "\n",
       "    .dataframe tbody tr th {\n",
       "        vertical-align: top;\n",
       "    }\n",
       "\n",
       "    .dataframe thead th {\n",
       "        text-align: right;\n",
       "    }\n",
       "</style>\n",
       "<table border=\"1\" class=\"dataframe\">\n",
       "  <thead>\n",
       "    <tr style=\"text-align: right;\">\n",
       "      <th></th>\n",
       "      <th>year_week</th>\n",
       "      <th>LocationName</th>\n",
       "      <th>group_size</th>\n",
       "      <th>proportion</th>\n",
       "    </tr>\n",
       "  </thead>\n",
       "  <tbody>\n",
       "    <tr>\n",
       "      <th>0</th>\n",
       "      <td>2017-w01</td>\n",
       "      <td>Acre</td>\n",
       "      <td>3</td>\n",
       "      <td>0.000492</td>\n",
       "    </tr>\n",
       "    <tr>\n",
       "      <th>1</th>\n",
       "      <td>2017-w01</td>\n",
       "      <td>Alagoas</td>\n",
       "      <td>10</td>\n",
       "      <td>0.001640</td>\n",
       "    </tr>\n",
       "    <tr>\n",
       "      <th>2</th>\n",
       "      <td>2017-w01</td>\n",
       "      <td>Amapa</td>\n",
       "      <td>3</td>\n",
       "      <td>0.000492</td>\n",
       "    </tr>\n",
       "    <tr>\n",
       "      <th>3</th>\n",
       "      <td>2017-w01</td>\n",
       "      <td>Amazonas</td>\n",
       "      <td>15</td>\n",
       "      <td>0.002460</td>\n",
       "    </tr>\n",
       "    <tr>\n",
       "      <th>4</th>\n",
       "      <td>2017-w01</td>\n",
       "      <td>Bahia</td>\n",
       "      <td>66</td>\n",
       "      <td>0.010825</td>\n",
       "    </tr>\n",
       "    <tr>\n",
       "      <th>...</th>\n",
       "      <td>...</td>\n",
       "      <td>...</td>\n",
       "      <td>...</td>\n",
       "      <td>...</td>\n",
       "    </tr>\n",
       "    <tr>\n",
       "      <th>116</th>\n",
       "      <td>2017-w05</td>\n",
       "      <td>Roraima</td>\n",
       "      <td>3</td>\n",
       "      <td>0.000492</td>\n",
       "    </tr>\n",
       "    <tr>\n",
       "      <th>117</th>\n",
       "      <td>2017-w05</td>\n",
       "      <td>Santa Catarina</td>\n",
       "      <td>6</td>\n",
       "      <td>0.000984</td>\n",
       "    </tr>\n",
       "    <tr>\n",
       "      <th>118</th>\n",
       "      <td>2017-w05</td>\n",
       "      <td>Sao Paulo</td>\n",
       "      <td>89</td>\n",
       "      <td>0.014597</td>\n",
       "    </tr>\n",
       "    <tr>\n",
       "      <th>119</th>\n",
       "      <td>2017-w05</td>\n",
       "      <td>Sergipe</td>\n",
       "      <td>3</td>\n",
       "      <td>0.000492</td>\n",
       "    </tr>\n",
       "    <tr>\n",
       "      <th>120</th>\n",
       "      <td>2017-w05</td>\n",
       "      <td>Tocantins</td>\n",
       "      <td>2</td>\n",
       "      <td>0.000328</td>\n",
       "    </tr>\n",
       "  </tbody>\n",
       "</table>\n",
       "<p>121 rows × 4 columns</p>\n",
       "</div>"
      ],
      "text/plain": [
       "    year_week    LocationName  group_size  proportion\n",
       "0    2017-w01            Acre           3    0.000492\n",
       "1    2017-w01         Alagoas          10    0.001640\n",
       "2    2017-w01           Amapa           3    0.000492\n",
       "3    2017-w01        Amazonas          15    0.002460\n",
       "4    2017-w01           Bahia          66    0.010825\n",
       "..        ...             ...         ...         ...\n",
       "116  2017-w05         Roraima           3    0.000492\n",
       "117  2017-w05  Santa Catarina           6    0.000984\n",
       "118  2017-w05       Sao Paulo          89    0.014597\n",
       "119  2017-w05         Sergipe           3    0.000492\n",
       "120  2017-w05       Tocantins           2    0.000328\n",
       "\n",
       "[121 rows x 4 columns]"
      ]
     },
     "execution_count": 5,
     "metadata": {},
     "output_type": "execute_result"
    }
   ],
   "source": [
    "# Step 1: Calculate the size of each group (year_week, LocationName)\n",
    "group_sizes = df_2017_01_neu.groupby(['year_week', 'LocationName']).size().reset_index(name='group_size')\n",
    "\n",
    "# Step 2: Calculate the proportion of each group in the dataset\n",
    "total_rows = len(df_2017_01_neu)\n",
    "group_sizes['proportion'] = group_sizes['group_size'] / total_rows\n",
    "group_sizes"
   ]
  },
  {
   "cell_type": "code",
   "execution_count": 6,
   "id": "89b38fef",
   "metadata": {},
   "outputs": [
    {
     "data": {
      "text/html": [
       "<div>\n",
       "<style scoped>\n",
       "    .dataframe tbody tr th:only-of-type {\n",
       "        vertical-align: middle;\n",
       "    }\n",
       "\n",
       "    .dataframe tbody tr th {\n",
       "        vertical-align: top;\n",
       "    }\n",
       "\n",
       "    .dataframe thead th {\n",
       "        text-align: right;\n",
       "    }\n",
       "</style>\n",
       "<table border=\"1\" class=\"dataframe\">\n",
       "  <thead>\n",
       "    <tr style=\"text-align: right;\">\n",
       "      <th></th>\n",
       "      <th>year_week</th>\n",
       "      <th>LocationName</th>\n",
       "      <th>group_size</th>\n",
       "      <th>proportion</th>\n",
       "      <th>sample_size</th>\n",
       "    </tr>\n",
       "  </thead>\n",
       "  <tbody>\n",
       "    <tr>\n",
       "      <th>0</th>\n",
       "      <td>2017-w01</td>\n",
       "      <td>Acre</td>\n",
       "      <td>3</td>\n",
       "      <td>0.000492</td>\n",
       "      <td>1</td>\n",
       "    </tr>\n",
       "    <tr>\n",
       "      <th>1</th>\n",
       "      <td>2017-w01</td>\n",
       "      <td>Alagoas</td>\n",
       "      <td>10</td>\n",
       "      <td>0.001640</td>\n",
       "      <td>4</td>\n",
       "    </tr>\n",
       "    <tr>\n",
       "      <th>2</th>\n",
       "      <td>2017-w01</td>\n",
       "      <td>Amapa</td>\n",
       "      <td>3</td>\n",
       "      <td>0.000492</td>\n",
       "      <td>1</td>\n",
       "    </tr>\n",
       "    <tr>\n",
       "      <th>3</th>\n",
       "      <td>2017-w01</td>\n",
       "      <td>Amazonas</td>\n",
       "      <td>15</td>\n",
       "      <td>0.002460</td>\n",
       "      <td>6</td>\n",
       "    </tr>\n",
       "    <tr>\n",
       "      <th>4</th>\n",
       "      <td>2017-w01</td>\n",
       "      <td>Bahia</td>\n",
       "      <td>66</td>\n",
       "      <td>0.010825</td>\n",
       "      <td>26</td>\n",
       "    </tr>\n",
       "    <tr>\n",
       "      <th>...</th>\n",
       "      <td>...</td>\n",
       "      <td>...</td>\n",
       "      <td>...</td>\n",
       "      <td>...</td>\n",
       "      <td>...</td>\n",
       "    </tr>\n",
       "    <tr>\n",
       "      <th>116</th>\n",
       "      <td>2017-w05</td>\n",
       "      <td>Roraima</td>\n",
       "      <td>3</td>\n",
       "      <td>0.000492</td>\n",
       "      <td>1</td>\n",
       "    </tr>\n",
       "    <tr>\n",
       "      <th>117</th>\n",
       "      <td>2017-w05</td>\n",
       "      <td>Santa Catarina</td>\n",
       "      <td>6</td>\n",
       "      <td>0.000984</td>\n",
       "      <td>2</td>\n",
       "    </tr>\n",
       "    <tr>\n",
       "      <th>118</th>\n",
       "      <td>2017-w05</td>\n",
       "      <td>Sao Paulo</td>\n",
       "      <td>89</td>\n",
       "      <td>0.014597</td>\n",
       "      <td>35</td>\n",
       "    </tr>\n",
       "    <tr>\n",
       "      <th>119</th>\n",
       "      <td>2017-w05</td>\n",
       "      <td>Sergipe</td>\n",
       "      <td>3</td>\n",
       "      <td>0.000492</td>\n",
       "      <td>1</td>\n",
       "    </tr>\n",
       "    <tr>\n",
       "      <th>120</th>\n",
       "      <td>2017-w05</td>\n",
       "      <td>Tocantins</td>\n",
       "      <td>2</td>\n",
       "      <td>0.000328</td>\n",
       "      <td>0</td>\n",
       "    </tr>\n",
       "  </tbody>\n",
       "</table>\n",
       "<p>121 rows × 5 columns</p>\n",
       "</div>"
      ],
      "text/plain": [
       "    year_week    LocationName  group_size  proportion  sample_size\n",
       "0    2017-w01            Acre           3    0.000492            1\n",
       "1    2017-w01         Alagoas          10    0.001640            4\n",
       "2    2017-w01           Amapa           3    0.000492            1\n",
       "3    2017-w01        Amazonas          15    0.002460            6\n",
       "4    2017-w01           Bahia          66    0.010825           26\n",
       "..        ...             ...         ...         ...          ...\n",
       "116  2017-w05         Roraima           3    0.000492            1\n",
       "117  2017-w05  Santa Catarina           6    0.000984            2\n",
       "118  2017-w05       Sao Paulo          89    0.014597           35\n",
       "119  2017-w05         Sergipe           3    0.000492            1\n",
       "120  2017-w05       Tocantins           2    0.000328            0\n",
       "\n",
       "[121 rows x 5 columns]"
      ]
     },
     "execution_count": 6,
     "metadata": {},
     "output_type": "execute_result"
    }
   ],
   "source": [
    "# Step 3: Define the target sample size\n",
    "target_sample_size = 2450\n",
    "\n",
    "# Step 4: Calculate the sample size for each group (based on its proportion)\n",
    "group_sizes['sample_size'] = np.floor(group_sizes['proportion'] * target_sample_size).astype(int)\n",
    "group_sizes"
   ]
  },
  {
   "cell_type": "code",
   "execution_count": 7,
   "id": "a50fe53a",
   "metadata": {},
   "outputs": [],
   "source": [
    "# Step 5: Merge this sample size information back to the original DataFrame\n",
    "df_2017_01_neu_sample_size = pd.merge(df_2017_01_neu, group_sizes[['year_week', 'LocationName', 'sample_size']], \n",
    "                               on=['year_week', 'LocationName'], how='left')"
   ]
  },
  {
   "cell_type": "code",
   "execution_count": 8,
   "id": "85555ac0",
   "metadata": {},
   "outputs": [
    {
     "name": "stdout",
     "output_type": "stream",
     "text": [
      "Sampled 2393 rows.\n"
     ]
    }
   ],
   "source": [
    "# Step 6: Perform the stratified sampling\n",
    "df_2017_01_neu_sample = df_2017_01_neu_sample_size.groupby(['year_week', 'LocationName']).apply(\n",
    "    lambda group: group.sample(n=group['sample_size'].iloc[0], random_state=42)\n",
    ").reset_index(drop=True)\n",
    "\n",
    "# Step 7: Check the result\n",
    "print(f\"Sampled {len(df_2017_01_neu_sample)} rows.\")\n"
   ]
  },
  {
   "cell_type": "code",
   "execution_count": 9,
   "id": "0346bf41",
   "metadata": {},
   "outputs": [],
   "source": [
    "text_gpt_2017_01_neu = '\\n'.join(df_2017_01_neu_sample['text'].astype(str))"
   ]
  },
  {
   "cell_type": "markdown",
   "id": "b89facff",
   "metadata": {},
   "source": [
    "### Prompts and loops"
   ]
  },
  {
   "cell_type": "code",
   "execution_count": 10,
   "id": "d131b6c4",
   "metadata": {},
   "outputs": [],
   "source": [
    "prompt_1 = prompt_raw.replace('TWEETS', text_gpt_2017_01_neu)"
   ]
  },
  {
   "cell_type": "code",
   "execution_count": 11,
   "id": "7b46f355",
   "metadata": {
    "scrolled": false
   },
   "outputs": [],
   "source": [
    "response = openai.ChatCompletion.create(\n",
    "    model=\"gpt-4o-mini\",  \n",
    "    messages = [\n",
    "        {\"role\": \"user\", \"content\": prompt_1}\n",
    "    ],\n",
    "    max_tokens=400,  # Maximum number of tokens in the response\n",
    "    temperature=0.7  # Controls the randomness of the output\n",
    ")"
   ]
  },
  {
   "cell_type": "code",
   "execution_count": 12,
   "id": "18c76466",
   "metadata": {},
   "outputs": [
    {
     "data": {
      "text/plain": [
       "'The sentences discuss the importance and logistics of vaccinations, particularly focusing on the HPV vaccine being made available for boys aged 12 to 13 in Brazil. There are also mentions of the ongoing vaccination campaigns against yellow fever, with increased public concern leading to higher demand for vaccines. The narrative reflects personal experiences, humor, and societal attitudes towards vaccinations.'"
      ]
     },
     "execution_count": 12,
     "metadata": {},
     "output_type": "execute_result"
    }
   ],
   "source": [
    "response.choices[0].message.content"
   ]
  },
  {
   "cell_type": "code",
   "execution_count": 13,
   "id": "b89927f0",
   "metadata": {},
   "outputs": [],
   "source": [
    "summary = []\n",
    "dataset = []"
   ]
  },
  {
   "cell_type": "code",
   "execution_count": 14,
   "id": "b4adcee9",
   "metadata": {},
   "outputs": [],
   "source": [
    "dataset.append(\"2017_01_neutral\")"
   ]
  },
  {
   "cell_type": "code",
   "execution_count": 15,
   "id": "7ab412b2",
   "metadata": {},
   "outputs": [],
   "source": [
    "summary.append(response.choices[0].message.content)"
   ]
  },
  {
   "cell_type": "code",
   "execution_count": 16,
   "id": "8731c5c8",
   "metadata": {
    "tags": []
   },
   "outputs": [
    {
     "name": "stdout",
     "output_type": "stream",
     "text": [
      "<class 'pandas.core.frame.DataFrame'>\n",
      "RangeIndex: 1 entries, 0 to 0\n",
      "Data columns (total 2 columns):\n",
      " #   Column   Non-Null Count  Dtype \n",
      "---  ------   --------------  ----- \n",
      " 0   dataset  1 non-null      object\n",
      " 1   summary  1 non-null      object\n",
      "dtypes: object(2)\n",
      "memory usage: 144.0+ bytes\n"
     ]
    }
   ],
   "source": [
    "df_2017_neu = pd.DataFrame(list(zip(dataset, summary)),\n",
    "                            columns = ['dataset', 'summary'])\n",
    "df_2017_neu.info()"
   ]
  },
  {
   "cell_type": "code",
   "execution_count": 17,
   "id": "3165ba66",
   "metadata": {},
   "outputs": [
    {
     "data": {
      "text/html": [
       "<div>\n",
       "<style scoped>\n",
       "    .dataframe tbody tr th:only-of-type {\n",
       "        vertical-align: middle;\n",
       "    }\n",
       "\n",
       "    .dataframe tbody tr th {\n",
       "        vertical-align: top;\n",
       "    }\n",
       "\n",
       "    .dataframe thead th {\n",
       "        text-align: right;\n",
       "    }\n",
       "</style>\n",
       "<table border=\"1\" class=\"dataframe\">\n",
       "  <thead>\n",
       "    <tr style=\"text-align: right;\">\n",
       "      <th></th>\n",
       "      <th>dataset</th>\n",
       "      <th>summary</th>\n",
       "    </tr>\n",
       "  </thead>\n",
       "  <tbody>\n",
       "    <tr>\n",
       "      <th>0</th>\n",
       "      <td>2017_01_neuitive</td>\n",
       "      <td>The sentences discuss the importance and logis...</td>\n",
       "    </tr>\n",
       "  </tbody>\n",
       "</table>\n",
       "</div>"
      ],
      "text/plain": [
       "            dataset                                            summary\n",
       "0  2017_01_neuitive  The sentences discuss the importance and logis..."
      ]
     },
     "execution_count": 17,
     "metadata": {},
     "output_type": "execute_result"
    }
   ],
   "source": [
    "df_2017_neu.tail(14)"
   ]
  },
  {
   "cell_type": "code",
   "execution_count": 18,
   "id": "2877d37e",
   "metadata": {},
   "outputs": [
    {
     "data": {
      "text/plain": [
       "<OpenAIObject chat.completion id=chatcmpl-AUBbk8u3uhbTPeiNUclxuzrCTXVl1 at 0x2159229bd60> JSON: {\n",
       "  \"choices\": [\n",
       "    {\n",
       "      \"finish_reason\": \"stop\",\n",
       "      \"index\": 0,\n",
       "      \"logprobs\": null,\n",
       "      \"message\": {\n",
       "        \"content\": \"The sentences discuss the importance and logistics of vaccinations, particularly focusing on the HPV vaccine being made available for boys aged 12 to 13 in Brazil. There are also mentions of the ongoing vaccination campaigns against yellow fever, with increased public concern leading to higher demand for vaccines. The narrative reflects personal experiences, humor, and societal attitudes towards vaccinations.\",\n",
       "        \"refusal\": null,\n",
       "        \"role\": \"assistant\"\n",
       "      }\n",
       "    }\n",
       "  ],\n",
       "  \"created\": 1731757824,\n",
       "  \"id\": \"chatcmpl-AUBbk8u3uhbTPeiNUclxuzrCTXVl1\",\n",
       "  \"model\": \"gpt-4o-mini-2024-07-18\",\n",
       "  \"object\": \"chat.completion\",\n",
       "  \"system_fingerprint\": \"fp_0ba0d124f1\",\n",
       "  \"usage\": {\n",
       "    \"completion_tokens\": 68,\n",
       "    \"completion_tokens_details\": {\n",
       "      \"accepted_prediction_tokens\": 0,\n",
       "      \"audio_tokens\": 0,\n",
       "      \"reasoning_tokens\": 0,\n",
       "      \"rejected_prediction_tokens\": 0\n",
       "    },\n",
       "    \"prompt_tokens\": 51358,\n",
       "    \"prompt_tokens_details\": {\n",
       "      \"audio_tokens\": 0,\n",
       "      \"cached_tokens\": 0\n",
       "    },\n",
       "    \"total_tokens\": 51426\n",
       "  }\n",
       "}"
      ]
     },
     "execution_count": 18,
     "metadata": {},
     "output_type": "execute_result"
    }
   ],
   "source": [
    "response"
   ]
  },
  {
   "cell_type": "markdown",
   "id": "000d2343",
   "metadata": {},
   "source": [
    "## February"
   ]
  },
  {
   "cell_type": "code",
   "execution_count": 19,
   "id": "ad27d675",
   "metadata": {
    "scrolled": true,
    "tags": []
   },
   "outputs": [
    {
     "name": "stdout",
     "output_type": "stream",
     "text": [
      "<class 'pandas.core.frame.DataFrame'>\n",
      "RangeIndex: 4971 entries, 0 to 4970\n",
      "Data columns (total 53 columns):\n",
      " #   Column                  Non-Null Count  Dtype  \n",
      "---  ------                  --------------  -----  \n",
      " 0   index                   4971 non-null   int64  \n",
      " 1   LocationCode            4971 non-null   object \n",
      " 2   LocationName            4971 non-null   object \n",
      " 3   StatesCode              4971 non-null   object \n",
      " 4   ...4                    4971 non-null   int64  \n",
      " 5   id                      4971 non-null   float64\n",
      " 6   text                    4971 non-null   object \n",
      " 7   label                   4971 non-null   object \n",
      " 8   in_reply_to_status_id   367 non-null    float64\n",
      " 9   in_reply_to_user_id     396 non-null    float64\n",
      " 10  quoted_user_id          77 non-null     float64\n",
      " 11  quoted_status_id        77 non-null     float64\n",
      " 12  retweeted_user_id       921 non-null    float64\n",
      " 13  retweeted_status_id     921 non-null    float64\n",
      " 14  created_at              4971 non-null   object \n",
      " 15  entities.user_mentions  1404 non-null   object \n",
      " 16  user.id                 4971 non-null   float64\n",
      " 17  user.screen_name        4971 non-null   object \n",
      " 18  user.name               4971 non-null   object \n",
      " 19  user.description        4489 non-null   object \n",
      " 20  user.timezone           0 non-null      float64\n",
      " 21  user.location           4910 non-null   object \n",
      " 22  user.num_followers      4971 non-null   int64  \n",
      " 23  user.num_following      4971 non-null   int64  \n",
      " 24  user.created_at         4971 non-null   object \n",
      " 25  user.statuses_count     4971 non-null   int64  \n",
      " 26  user.is_verified        4971 non-null   bool   \n",
      " 27  lang                    4971 non-null   object \n",
      " 28  token_count             4971 non-null   int64  \n",
      " 29  is_retweet              4971 non-null   bool   \n",
      " 30  has_quote               4971 non-null   bool   \n",
      " 31  is_reply                4971 non-null   bool   \n",
      " 32  contains_keywords       4971 non-null   bool   \n",
      " 33  longitude               4971 non-null   float64\n",
      " 34  latitude                4971 non-null   float64\n",
      " 35  country_code            4971 non-null   object \n",
      " 36  geoname_id              4564 non-null   float64\n",
      " 37  location_type           4971 non-null   object \n",
      " 38  geo_type                4971 non-null   int64  \n",
      " 39  region                  4971 non-null   object \n",
      " 40  subregion               4971 non-null   object \n",
      " 41  num_quotes              4971 non-null   int64  \n",
      " 42  num_replies             4971 non-null   int64  \n",
      " 43  num_retweets            4971 non-null   int64  \n",
      " 44  sent_gpt                4971 non-null   object \n",
      " 45  gpt_sent_presence       4971 non-null   int64  \n",
      " 46  cleaned_text_lem        4971 non-null   object \n",
      " 47  cleaned_text            4971 non-null   object \n",
      " 48  month                   4971 non-null   int64  \n",
      " 49  year                    4971 non-null   int64  \n",
      " 50  week                    4971 non-null   int64  \n",
      " 51  year_month              4971 non-null   object \n",
      " 52  year_week               4971 non-null   object \n",
      "dtypes: bool(5), float64(12), int64(14), object(22)\n",
      "memory usage: 1.8+ MB\n"
     ]
    }
   ],
   "source": [
    "# Get monthly data\n",
    "df_2017_02_neu = pd.read_csv('../data/local/df_neu_2017-02.csv').reset_index()\n",
    "df_2017_02_neu.info()"
   ]
  },
  {
   "cell_type": "markdown",
   "id": "d39b7c34",
   "metadata": {},
   "source": [
    "### Representative sample based on week and location"
   ]
  },
  {
   "cell_type": "code",
   "execution_count": 20,
   "id": "06a2f945",
   "metadata": {},
   "outputs": [
    {
     "data": {
      "text/html": [
       "<div>\n",
       "<style scoped>\n",
       "    .dataframe tbody tr th:only-of-type {\n",
       "        vertical-align: middle;\n",
       "    }\n",
       "\n",
       "    .dataframe tbody tr th {\n",
       "        vertical-align: top;\n",
       "    }\n",
       "\n",
       "    .dataframe thead th {\n",
       "        text-align: right;\n",
       "    }\n",
       "</style>\n",
       "<table border=\"1\" class=\"dataframe\">\n",
       "  <thead>\n",
       "    <tr style=\"text-align: right;\">\n",
       "      <th></th>\n",
       "      <th>year_week</th>\n",
       "      <th>LocationName</th>\n",
       "      <th>group_size</th>\n",
       "      <th>proportion</th>\n",
       "    </tr>\n",
       "  </thead>\n",
       "  <tbody>\n",
       "    <tr>\n",
       "      <th>0</th>\n",
       "      <td>2017-w05</td>\n",
       "      <td>Acre</td>\n",
       "      <td>4</td>\n",
       "      <td>0.000805</td>\n",
       "    </tr>\n",
       "    <tr>\n",
       "      <th>1</th>\n",
       "      <td>2017-w05</td>\n",
       "      <td>Alagoas</td>\n",
       "      <td>17</td>\n",
       "      <td>0.003420</td>\n",
       "    </tr>\n",
       "    <tr>\n",
       "      <th>2</th>\n",
       "      <td>2017-w05</td>\n",
       "      <td>Amapa</td>\n",
       "      <td>2</td>\n",
       "      <td>0.000402</td>\n",
       "    </tr>\n",
       "    <tr>\n",
       "      <th>3</th>\n",
       "      <td>2017-w05</td>\n",
       "      <td>Amazonas</td>\n",
       "      <td>14</td>\n",
       "      <td>0.002816</td>\n",
       "    </tr>\n",
       "    <tr>\n",
       "      <th>4</th>\n",
       "      <td>2017-w05</td>\n",
       "      <td>Bahia</td>\n",
       "      <td>72</td>\n",
       "      <td>0.014484</td>\n",
       "    </tr>\n",
       "    <tr>\n",
       "      <th>...</th>\n",
       "      <td>...</td>\n",
       "      <td>...</td>\n",
       "      <td>...</td>\n",
       "      <td>...</td>\n",
       "    </tr>\n",
       "    <tr>\n",
       "      <th>111</th>\n",
       "      <td>2017-w09</td>\n",
       "      <td>Pernambuco</td>\n",
       "      <td>1</td>\n",
       "      <td>0.000201</td>\n",
       "    </tr>\n",
       "    <tr>\n",
       "      <th>112</th>\n",
       "      <td>2017-w09</td>\n",
       "      <td>Rio Grande Do Sul</td>\n",
       "      <td>5</td>\n",
       "      <td>0.001006</td>\n",
       "    </tr>\n",
       "    <tr>\n",
       "      <th>113</th>\n",
       "      <td>2017-w09</td>\n",
       "      <td>Santa Catarina</td>\n",
       "      <td>1</td>\n",
       "      <td>0.000201</td>\n",
       "    </tr>\n",
       "    <tr>\n",
       "      <th>114</th>\n",
       "      <td>2017-w09</td>\n",
       "      <td>Sao Paulo</td>\n",
       "      <td>16</td>\n",
       "      <td>0.003219</td>\n",
       "    </tr>\n",
       "    <tr>\n",
       "      <th>115</th>\n",
       "      <td>2017-w09</td>\n",
       "      <td>Sergipe</td>\n",
       "      <td>1</td>\n",
       "      <td>0.000201</td>\n",
       "    </tr>\n",
       "  </tbody>\n",
       "</table>\n",
       "<p>116 rows × 4 columns</p>\n",
       "</div>"
      ],
      "text/plain": [
       "    year_week       LocationName  group_size  proportion\n",
       "0    2017-w05               Acre           4    0.000805\n",
       "1    2017-w05            Alagoas          17    0.003420\n",
       "2    2017-w05              Amapa           2    0.000402\n",
       "3    2017-w05           Amazonas          14    0.002816\n",
       "4    2017-w05              Bahia          72    0.014484\n",
       "..        ...                ...         ...         ...\n",
       "111  2017-w09         Pernambuco           1    0.000201\n",
       "112  2017-w09  Rio Grande Do Sul           5    0.001006\n",
       "113  2017-w09     Santa Catarina           1    0.000201\n",
       "114  2017-w09          Sao Paulo          16    0.003219\n",
       "115  2017-w09            Sergipe           1    0.000201\n",
       "\n",
       "[116 rows x 4 columns]"
      ]
     },
     "execution_count": 20,
     "metadata": {},
     "output_type": "execute_result"
    }
   ],
   "source": [
    "# Step 1: Calculate the size of each group (year_week, LocationName)\n",
    "group_sizes = df_2017_02_neu.groupby(['year_week', 'LocationName']).size().reset_index(name='group_size')\n",
    "\n",
    "# Step 2: Calculate the proportion of each group in the dataset\n",
    "total_rows = len(df_2017_02_neu)\n",
    "group_sizes['proportion'] = group_sizes['group_size'] / total_rows\n",
    "group_sizes"
   ]
  },
  {
   "cell_type": "code",
   "execution_count": 21,
   "id": "75fb67fb",
   "metadata": {},
   "outputs": [
    {
     "data": {
      "text/html": [
       "<div>\n",
       "<style scoped>\n",
       "    .dataframe tbody tr th:only-of-type {\n",
       "        vertical-align: middle;\n",
       "    }\n",
       "\n",
       "    .dataframe tbody tr th {\n",
       "        vertical-align: top;\n",
       "    }\n",
       "\n",
       "    .dataframe thead th {\n",
       "        text-align: right;\n",
       "    }\n",
       "</style>\n",
       "<table border=\"1\" class=\"dataframe\">\n",
       "  <thead>\n",
       "    <tr style=\"text-align: right;\">\n",
       "      <th></th>\n",
       "      <th>year_week</th>\n",
       "      <th>LocationName</th>\n",
       "      <th>group_size</th>\n",
       "      <th>proportion</th>\n",
       "      <th>sample_size</th>\n",
       "    </tr>\n",
       "  </thead>\n",
       "  <tbody>\n",
       "    <tr>\n",
       "      <th>0</th>\n",
       "      <td>2017-w05</td>\n",
       "      <td>Acre</td>\n",
       "      <td>4</td>\n",
       "      <td>0.000805</td>\n",
       "      <td>1</td>\n",
       "    </tr>\n",
       "    <tr>\n",
       "      <th>1</th>\n",
       "      <td>2017-w05</td>\n",
       "      <td>Alagoas</td>\n",
       "      <td>17</td>\n",
       "      <td>0.003420</td>\n",
       "      <td>8</td>\n",
       "    </tr>\n",
       "    <tr>\n",
       "      <th>2</th>\n",
       "      <td>2017-w05</td>\n",
       "      <td>Amapa</td>\n",
       "      <td>2</td>\n",
       "      <td>0.000402</td>\n",
       "      <td>0</td>\n",
       "    </tr>\n",
       "    <tr>\n",
       "      <th>3</th>\n",
       "      <td>2017-w05</td>\n",
       "      <td>Amazonas</td>\n",
       "      <td>14</td>\n",
       "      <td>0.002816</td>\n",
       "      <td>6</td>\n",
       "    </tr>\n",
       "    <tr>\n",
       "      <th>4</th>\n",
       "      <td>2017-w05</td>\n",
       "      <td>Bahia</td>\n",
       "      <td>72</td>\n",
       "      <td>0.014484</td>\n",
       "      <td>35</td>\n",
       "    </tr>\n",
       "    <tr>\n",
       "      <th>...</th>\n",
       "      <td>...</td>\n",
       "      <td>...</td>\n",
       "      <td>...</td>\n",
       "      <td>...</td>\n",
       "      <td>...</td>\n",
       "    </tr>\n",
       "    <tr>\n",
       "      <th>111</th>\n",
       "      <td>2017-w09</td>\n",
       "      <td>Pernambuco</td>\n",
       "      <td>1</td>\n",
       "      <td>0.000201</td>\n",
       "      <td>0</td>\n",
       "    </tr>\n",
       "    <tr>\n",
       "      <th>112</th>\n",
       "      <td>2017-w09</td>\n",
       "      <td>Rio Grande Do Sul</td>\n",
       "      <td>5</td>\n",
       "      <td>0.001006</td>\n",
       "      <td>2</td>\n",
       "    </tr>\n",
       "    <tr>\n",
       "      <th>113</th>\n",
       "      <td>2017-w09</td>\n",
       "      <td>Santa Catarina</td>\n",
       "      <td>1</td>\n",
       "      <td>0.000201</td>\n",
       "      <td>0</td>\n",
       "    </tr>\n",
       "    <tr>\n",
       "      <th>114</th>\n",
       "      <td>2017-w09</td>\n",
       "      <td>Sao Paulo</td>\n",
       "      <td>16</td>\n",
       "      <td>0.003219</td>\n",
       "      <td>7</td>\n",
       "    </tr>\n",
       "    <tr>\n",
       "      <th>115</th>\n",
       "      <td>2017-w09</td>\n",
       "      <td>Sergipe</td>\n",
       "      <td>1</td>\n",
       "      <td>0.000201</td>\n",
       "      <td>0</td>\n",
       "    </tr>\n",
       "  </tbody>\n",
       "</table>\n",
       "<p>116 rows × 5 columns</p>\n",
       "</div>"
      ],
      "text/plain": [
       "    year_week       LocationName  group_size  proportion  sample_size\n",
       "0    2017-w05               Acre           4    0.000805            1\n",
       "1    2017-w05            Alagoas          17    0.003420            8\n",
       "2    2017-w05              Amapa           2    0.000402            0\n",
       "3    2017-w05           Amazonas          14    0.002816            6\n",
       "4    2017-w05              Bahia          72    0.014484           35\n",
       "..        ...                ...         ...         ...          ...\n",
       "111  2017-w09         Pernambuco           1    0.000201            0\n",
       "112  2017-w09  Rio Grande Do Sul           5    0.001006            2\n",
       "113  2017-w09     Santa Catarina           1    0.000201            0\n",
       "114  2017-w09          Sao Paulo          16    0.003219            7\n",
       "115  2017-w09            Sergipe           1    0.000201            0\n",
       "\n",
       "[116 rows x 5 columns]"
      ]
     },
     "execution_count": 21,
     "metadata": {},
     "output_type": "execute_result"
    }
   ],
   "source": [
    "# Step 3: Define the target sample size\n",
    "target_sample_size = 2450\n",
    "\n",
    "# Step 4: Calculate the sample size for each group (based on its proportion)\n",
    "group_sizes['sample_size'] = np.floor(group_sizes['proportion'] * target_sample_size).astype(int)\n",
    "group_sizes"
   ]
  },
  {
   "cell_type": "code",
   "execution_count": 22,
   "id": "fefa193d",
   "metadata": {},
   "outputs": [],
   "source": [
    "# Step 5: Merge this sample size information back to the original DataFrame\n",
    "df_2017_02_neu_sample_size = pd.merge(df_2017_02_neu, group_sizes[['year_week', 'LocationName', 'sample_size']], \n",
    "                               on=['year_week', 'LocationName'], how='left')"
   ]
  },
  {
   "cell_type": "code",
   "execution_count": 23,
   "id": "6f5cc94c",
   "metadata": {},
   "outputs": [
    {
     "name": "stdout",
     "output_type": "stream",
     "text": [
      "Sampled 2377 rows.\n"
     ]
    }
   ],
   "source": [
    "# Step 6: Perform the stratified sampling\n",
    "df_2017_02_neu_sample = df_2017_02_neu_sample_size.groupby(['year_week', 'LocationName']).apply(\n",
    "    lambda group: group.sample(n=group['sample_size'].iloc[0], random_state=42)\n",
    ").reset_index(drop=True)\n",
    "\n",
    "# Step 7: Check the result\n",
    "print(f\"Sampled {len(df_2017_02_neu_sample)} rows.\")\n"
   ]
  },
  {
   "cell_type": "code",
   "execution_count": 24,
   "id": "8ceb36c4",
   "metadata": {},
   "outputs": [],
   "source": [
    "text_gpt_2017_02_neu = '\\n'.join(df_2017_02_neu_sample['text'].astype(str))"
   ]
  },
  {
   "cell_type": "markdown",
   "id": "473bbfd3",
   "metadata": {},
   "source": [
    "### Prompts and loops"
   ]
  },
  {
   "cell_type": "code",
   "execution_count": 25,
   "id": "f84faf23",
   "metadata": {},
   "outputs": [],
   "source": [
    "prompt_2 = prompt_raw.replace('TWEETS', text_gpt_2017_02_neu)"
   ]
  },
  {
   "cell_type": "code",
   "execution_count": 26,
   "id": "d763f6d1",
   "metadata": {
    "scrolled": false
   },
   "outputs": [],
   "source": [
    "response = openai.ChatCompletion.create(\n",
    "    model=\"gpt-4o-mini\",  \n",
    "    messages = [\n",
    "        {\"role\": \"user\", \"content\": prompt_2}\n",
    "    ],\n",
    "    max_tokens=400,  # Maximum number of tokens in the response\n",
    "    temperature=0.7  # Controls the randomness of the output\n",
    ")"
   ]
  },
  {
   "cell_type": "code",
   "execution_count": 27,
   "id": "7d8ad460",
   "metadata": {},
   "outputs": [
    {
     "data": {
      "text/plain": [
       "\"The text discusses the importance of vaccination against yellow fever, especially in relation to travel requirements, health recommendations, and the necessity of having proof of vaccination for certain destinations like Panama and Nicaragua. It also highlights the ongoing efforts and challenges in providing vaccines, the public's reactions to vaccination, and the various health guidelines associated with the vaccine, such as contraindications for specific populations.\""
      ]
     },
     "execution_count": 27,
     "metadata": {},
     "output_type": "execute_result"
    }
   ],
   "source": [
    "response.choices[0].message.content"
   ]
  },
  {
   "cell_type": "code",
   "execution_count": 28,
   "id": "6d9e27ea",
   "metadata": {},
   "outputs": [],
   "source": [
    "#summary = []\n",
    "#dataset = []"
   ]
  },
  {
   "cell_type": "code",
   "execution_count": 29,
   "id": "79aeb4d0",
   "metadata": {},
   "outputs": [],
   "source": [
    "dataset.append(\"2017_02_neutral\")"
   ]
  },
  {
   "cell_type": "code",
   "execution_count": 30,
   "id": "cfd6061e",
   "metadata": {},
   "outputs": [],
   "source": [
    "summary.append(response.choices[0].message.content)"
   ]
  },
  {
   "cell_type": "code",
   "execution_count": 31,
   "id": "8327de13",
   "metadata": {
    "tags": []
   },
   "outputs": [
    {
     "name": "stdout",
     "output_type": "stream",
     "text": [
      "<class 'pandas.core.frame.DataFrame'>\n",
      "RangeIndex: 2 entries, 0 to 1\n",
      "Data columns (total 2 columns):\n",
      " #   Column   Non-Null Count  Dtype \n",
      "---  ------   --------------  ----- \n",
      " 0   dataset  2 non-null      object\n",
      " 1   summary  2 non-null      object\n",
      "dtypes: object(2)\n",
      "memory usage: 160.0+ bytes\n"
     ]
    }
   ],
   "source": [
    "df_2017_neu = pd.DataFrame(list(zip(dataset, summary)),\n",
    "                            columns = ['dataset', 'summary'])\n",
    "df_2017_neu.info()"
   ]
  },
  {
   "cell_type": "code",
   "execution_count": 32,
   "id": "65a464a6",
   "metadata": {},
   "outputs": [
    {
     "data": {
      "text/html": [
       "<div>\n",
       "<style scoped>\n",
       "    .dataframe tbody tr th:only-of-type {\n",
       "        vertical-align: middle;\n",
       "    }\n",
       "\n",
       "    .dataframe tbody tr th {\n",
       "        vertical-align: top;\n",
       "    }\n",
       "\n",
       "    .dataframe thead th {\n",
       "        text-align: right;\n",
       "    }\n",
       "</style>\n",
       "<table border=\"1\" class=\"dataframe\">\n",
       "  <thead>\n",
       "    <tr style=\"text-align: right;\">\n",
       "      <th></th>\n",
       "      <th>dataset</th>\n",
       "      <th>summary</th>\n",
       "    </tr>\n",
       "  </thead>\n",
       "  <tbody>\n",
       "    <tr>\n",
       "      <th>0</th>\n",
       "      <td>2017_01_neuitive</td>\n",
       "      <td>The sentences discuss the importance and logis...</td>\n",
       "    </tr>\n",
       "    <tr>\n",
       "      <th>1</th>\n",
       "      <td>2017_02_neuitive</td>\n",
       "      <td>The text discusses the importance of vaccinati...</td>\n",
       "    </tr>\n",
       "  </tbody>\n",
       "</table>\n",
       "</div>"
      ],
      "text/plain": [
       "            dataset                                            summary\n",
       "0  2017_01_neuitive  The sentences discuss the importance and logis...\n",
       "1  2017_02_neuitive  The text discusses the importance of vaccinati..."
      ]
     },
     "execution_count": 32,
     "metadata": {},
     "output_type": "execute_result"
    }
   ],
   "source": [
    "df_2017_neu.tail(14)"
   ]
  },
  {
   "cell_type": "code",
   "execution_count": 33,
   "id": "2553c395",
   "metadata": {},
   "outputs": [
    {
     "data": {
      "text/plain": [
       "<OpenAIObject chat.completion id=chatcmpl-AUBbpizn4gC1GjatsP9jkpRtoFgRD at 0x21592367d10> JSON: {\n",
       "  \"choices\": [\n",
       "    {\n",
       "      \"finish_reason\": \"stop\",\n",
       "      \"index\": 0,\n",
       "      \"logprobs\": null,\n",
       "      \"message\": {\n",
       "        \"content\": \"The text discusses the importance of vaccination against yellow fever, especially in relation to travel requirements, health recommendations, and the necessity of having proof of vaccination for certain destinations like Panama and Nicaragua. It also highlights the ongoing efforts and challenges in providing vaccines, the public's reactions to vaccination, and the various health guidelines associated with the vaccine, such as contraindications for specific populations.\",\n",
       "        \"refusal\": null,\n",
       "        \"role\": \"assistant\"\n",
       "      }\n",
       "    }\n",
       "  ],\n",
       "  \"created\": 1731757829,\n",
       "  \"id\": \"chatcmpl-AUBbpizn4gC1GjatsP9jkpRtoFgRD\",\n",
       "  \"model\": \"gpt-4o-mini-2024-07-18\",\n",
       "  \"object\": \"chat.completion\",\n",
       "  \"system_fingerprint\": \"fp_0ba0d124f1\",\n",
       "  \"usage\": {\n",
       "    \"completion_tokens\": 74,\n",
       "    \"completion_tokens_details\": {\n",
       "      \"accepted_prediction_tokens\": 0,\n",
       "      \"audio_tokens\": 0,\n",
       "      \"reasoning_tokens\": 0,\n",
       "      \"rejected_prediction_tokens\": 0\n",
       "    },\n",
       "    \"prompt_tokens\": 50198,\n",
       "    \"prompt_tokens_details\": {\n",
       "      \"audio_tokens\": 0,\n",
       "      \"cached_tokens\": 0\n",
       "    },\n",
       "    \"total_tokens\": 50272\n",
       "  }\n",
       "}"
      ]
     },
     "execution_count": 33,
     "metadata": {},
     "output_type": "execute_result"
    }
   ],
   "source": [
    "response"
   ]
  },
  {
   "cell_type": "markdown",
   "id": "d9543d87",
   "metadata": {},
   "source": [
    "## March"
   ]
  },
  {
   "cell_type": "code",
   "execution_count": 34,
   "id": "25a1b784",
   "metadata": {
    "scrolled": true,
    "tags": []
   },
   "outputs": [
    {
     "name": "stdout",
     "output_type": "stream",
     "text": [
      "<class 'pandas.core.frame.DataFrame'>\n",
      "RangeIndex: 16569 entries, 0 to 16568\n",
      "Data columns (total 53 columns):\n",
      " #   Column                  Non-Null Count  Dtype  \n",
      "---  ------                  --------------  -----  \n",
      " 0   index                   16569 non-null  int64  \n",
      " 1   LocationCode            16569 non-null  object \n",
      " 2   LocationName            16569 non-null  object \n",
      " 3   StatesCode              16569 non-null  object \n",
      " 4   ...4                    16569 non-null  int64  \n",
      " 5   id                      16569 non-null  float64\n",
      " 6   text                    16569 non-null  object \n",
      " 7   label                   16569 non-null  object \n",
      " 8   in_reply_to_status_id   743 non-null    float64\n",
      " 9   in_reply_to_user_id     814 non-null    float64\n",
      " 10  quoted_user_id          169 non-null    float64\n",
      " 11  quoted_status_id        169 non-null    float64\n",
      " 12  retweeted_user_id       7181 non-null   float64\n",
      " 13  retweeted_status_id     7181 non-null   float64\n",
      " 14  created_at              16569 non-null  object \n",
      " 15  entities.user_mentions  8140 non-null   object \n",
      " 16  user.id                 16569 non-null  float64\n",
      " 17  user.screen_name        16569 non-null  object \n",
      " 18  user.name               16569 non-null  object \n",
      " 19  user.description        14858 non-null  object \n",
      " 20  user.timezone           0 non-null      float64\n",
      " 21  user.location           16426 non-null  object \n",
      " 22  user.num_followers      16569 non-null  int64  \n",
      " 23  user.num_following      16569 non-null  int64  \n",
      " 24  user.created_at         16569 non-null  object \n",
      " 25  user.statuses_count     16569 non-null  int64  \n",
      " 26  user.is_verified        16569 non-null  bool   \n",
      " 27  lang                    16569 non-null  object \n",
      " 28  token_count             16569 non-null  int64  \n",
      " 29  is_retweet              16569 non-null  bool   \n",
      " 30  has_quote               16569 non-null  bool   \n",
      " 31  is_reply                16569 non-null  bool   \n",
      " 32  contains_keywords       16569 non-null  bool   \n",
      " 33  longitude               16569 non-null  float64\n",
      " 34  latitude                16569 non-null  float64\n",
      " 35  country_code            16569 non-null  object \n",
      " 36  geoname_id              15413 non-null  float64\n",
      " 37  location_type           16569 non-null  object \n",
      " 38  geo_type                16569 non-null  int64  \n",
      " 39  region                  16569 non-null  object \n",
      " 40  subregion               16569 non-null  object \n",
      " 41  num_quotes              16569 non-null  int64  \n",
      " 42  num_replies             16569 non-null  int64  \n",
      " 43  num_retweets            16569 non-null  int64  \n",
      " 44  sent_gpt                16569 non-null  object \n",
      " 45  gpt_sent_presence       16569 non-null  int64  \n",
      " 46  cleaned_text_lem        16569 non-null  object \n",
      " 47  cleaned_text            16569 non-null  object \n",
      " 48  month                   16569 non-null  int64  \n",
      " 49  year                    16569 non-null  int64  \n",
      " 50  week                    16569 non-null  int64  \n",
      " 51  year_month              16569 non-null  object \n",
      " 52  year_week               16569 non-null  object \n",
      "dtypes: bool(5), float64(12), int64(14), object(22)\n",
      "memory usage: 6.1+ MB\n"
     ]
    }
   ],
   "source": [
    "# Get monthly data\n",
    "df_2017_03_neu = pd.read_csv('../data/local/df_neu_2017-03.csv').reset_index()\n",
    "df_2017_03_neu.info()"
   ]
  },
  {
   "cell_type": "markdown",
   "id": "4d3ac3e5",
   "metadata": {},
   "source": [
    "### Representative sample based on week and location"
   ]
  },
  {
   "cell_type": "code",
   "execution_count": 35,
   "id": "e554652f",
   "metadata": {},
   "outputs": [
    {
     "data": {
      "text/html": [
       "<div>\n",
       "<style scoped>\n",
       "    .dataframe tbody tr th:only-of-type {\n",
       "        vertical-align: middle;\n",
       "    }\n",
       "\n",
       "    .dataframe tbody tr th {\n",
       "        vertical-align: top;\n",
       "    }\n",
       "\n",
       "    .dataframe thead th {\n",
       "        text-align: right;\n",
       "    }\n",
       "</style>\n",
       "<table border=\"1\" class=\"dataframe\">\n",
       "  <thead>\n",
       "    <tr style=\"text-align: right;\">\n",
       "      <th></th>\n",
       "      <th>year_week</th>\n",
       "      <th>LocationName</th>\n",
       "      <th>group_size</th>\n",
       "      <th>proportion</th>\n",
       "    </tr>\n",
       "  </thead>\n",
       "  <tbody>\n",
       "    <tr>\n",
       "      <th>0</th>\n",
       "      <td>2017-w09</td>\n",
       "      <td>Acre</td>\n",
       "      <td>5</td>\n",
       "      <td>0.000302</td>\n",
       "    </tr>\n",
       "    <tr>\n",
       "      <th>1</th>\n",
       "      <td>2017-w09</td>\n",
       "      <td>Alagoas</td>\n",
       "      <td>7</td>\n",
       "      <td>0.000422</td>\n",
       "    </tr>\n",
       "    <tr>\n",
       "      <th>2</th>\n",
       "      <td>2017-w09</td>\n",
       "      <td>Amapa</td>\n",
       "      <td>1</td>\n",
       "      <td>0.000060</td>\n",
       "    </tr>\n",
       "    <tr>\n",
       "      <th>3</th>\n",
       "      <td>2017-w09</td>\n",
       "      <td>Amazonas</td>\n",
       "      <td>14</td>\n",
       "      <td>0.000845</td>\n",
       "    </tr>\n",
       "    <tr>\n",
       "      <th>4</th>\n",
       "      <td>2017-w09</td>\n",
       "      <td>Bahia</td>\n",
       "      <td>38</td>\n",
       "      <td>0.002293</td>\n",
       "    </tr>\n",
       "    <tr>\n",
       "      <th>...</th>\n",
       "      <td>...</td>\n",
       "      <td>...</td>\n",
       "      <td>...</td>\n",
       "      <td>...</td>\n",
       "    </tr>\n",
       "    <tr>\n",
       "      <th>117</th>\n",
       "      <td>2017-w13</td>\n",
       "      <td>Roraima</td>\n",
       "      <td>24</td>\n",
       "      <td>0.001448</td>\n",
       "    </tr>\n",
       "    <tr>\n",
       "      <th>118</th>\n",
       "      <td>2017-w13</td>\n",
       "      <td>Santa Catarina</td>\n",
       "      <td>151</td>\n",
       "      <td>0.009113</td>\n",
       "    </tr>\n",
       "    <tr>\n",
       "      <th>119</th>\n",
       "      <td>2017-w13</td>\n",
       "      <td>Sao Paulo</td>\n",
       "      <td>917</td>\n",
       "      <td>0.055344</td>\n",
       "    </tr>\n",
       "    <tr>\n",
       "      <th>120</th>\n",
       "      <td>2017-w13</td>\n",
       "      <td>Sergipe</td>\n",
       "      <td>25</td>\n",
       "      <td>0.001509</td>\n",
       "    </tr>\n",
       "    <tr>\n",
       "      <th>121</th>\n",
       "      <td>2017-w13</td>\n",
       "      <td>Tocantins</td>\n",
       "      <td>10</td>\n",
       "      <td>0.000604</td>\n",
       "    </tr>\n",
       "  </tbody>\n",
       "</table>\n",
       "<p>122 rows × 4 columns</p>\n",
       "</div>"
      ],
      "text/plain": [
       "    year_week    LocationName  group_size  proportion\n",
       "0    2017-w09            Acre           5    0.000302\n",
       "1    2017-w09         Alagoas           7    0.000422\n",
       "2    2017-w09           Amapa           1    0.000060\n",
       "3    2017-w09        Amazonas          14    0.000845\n",
       "4    2017-w09           Bahia          38    0.002293\n",
       "..        ...             ...         ...         ...\n",
       "117  2017-w13         Roraima          24    0.001448\n",
       "118  2017-w13  Santa Catarina         151    0.009113\n",
       "119  2017-w13       Sao Paulo         917    0.055344\n",
       "120  2017-w13         Sergipe          25    0.001509\n",
       "121  2017-w13       Tocantins          10    0.000604\n",
       "\n",
       "[122 rows x 4 columns]"
      ]
     },
     "execution_count": 35,
     "metadata": {},
     "output_type": "execute_result"
    }
   ],
   "source": [
    "# Step 1: Calculate the size of each group (year_week, LocationName)\n",
    "group_sizes = df_2017_03_neu.groupby(['year_week', 'LocationName']).size().reset_index(name='group_size')\n",
    "\n",
    "# Step 2: Calculate the proportion of each group in the dataset\n",
    "total_rows = len(df_2017_03_neu)\n",
    "group_sizes['proportion'] = group_sizes['group_size'] / total_rows\n",
    "group_sizes"
   ]
  },
  {
   "cell_type": "code",
   "execution_count": 36,
   "id": "6e3c8a8a",
   "metadata": {},
   "outputs": [
    {
     "data": {
      "text/html": [
       "<div>\n",
       "<style scoped>\n",
       "    .dataframe tbody tr th:only-of-type {\n",
       "        vertical-align: middle;\n",
       "    }\n",
       "\n",
       "    .dataframe tbody tr th {\n",
       "        vertical-align: top;\n",
       "    }\n",
       "\n",
       "    .dataframe thead th {\n",
       "        text-align: right;\n",
       "    }\n",
       "</style>\n",
       "<table border=\"1\" class=\"dataframe\">\n",
       "  <thead>\n",
       "    <tr style=\"text-align: right;\">\n",
       "      <th></th>\n",
       "      <th>year_week</th>\n",
       "      <th>LocationName</th>\n",
       "      <th>group_size</th>\n",
       "      <th>proportion</th>\n",
       "      <th>sample_size</th>\n",
       "    </tr>\n",
       "  </thead>\n",
       "  <tbody>\n",
       "    <tr>\n",
       "      <th>0</th>\n",
       "      <td>2017-w09</td>\n",
       "      <td>Acre</td>\n",
       "      <td>5</td>\n",
       "      <td>0.000302</td>\n",
       "      <td>0</td>\n",
       "    </tr>\n",
       "    <tr>\n",
       "      <th>1</th>\n",
       "      <td>2017-w09</td>\n",
       "      <td>Alagoas</td>\n",
       "      <td>7</td>\n",
       "      <td>0.000422</td>\n",
       "      <td>1</td>\n",
       "    </tr>\n",
       "    <tr>\n",
       "      <th>2</th>\n",
       "      <td>2017-w09</td>\n",
       "      <td>Amapa</td>\n",
       "      <td>1</td>\n",
       "      <td>0.000060</td>\n",
       "      <td>0</td>\n",
       "    </tr>\n",
       "    <tr>\n",
       "      <th>3</th>\n",
       "      <td>2017-w09</td>\n",
       "      <td>Amazonas</td>\n",
       "      <td>14</td>\n",
       "      <td>0.000845</td>\n",
       "      <td>2</td>\n",
       "    </tr>\n",
       "    <tr>\n",
       "      <th>4</th>\n",
       "      <td>2017-w09</td>\n",
       "      <td>Bahia</td>\n",
       "      <td>38</td>\n",
       "      <td>0.002293</td>\n",
       "      <td>5</td>\n",
       "    </tr>\n",
       "    <tr>\n",
       "      <th>...</th>\n",
       "      <td>...</td>\n",
       "      <td>...</td>\n",
       "      <td>...</td>\n",
       "      <td>...</td>\n",
       "      <td>...</td>\n",
       "    </tr>\n",
       "    <tr>\n",
       "      <th>117</th>\n",
       "      <td>2017-w13</td>\n",
       "      <td>Roraima</td>\n",
       "      <td>24</td>\n",
       "      <td>0.001448</td>\n",
       "      <td>3</td>\n",
       "    </tr>\n",
       "    <tr>\n",
       "      <th>118</th>\n",
       "      <td>2017-w13</td>\n",
       "      <td>Santa Catarina</td>\n",
       "      <td>151</td>\n",
       "      <td>0.009113</td>\n",
       "      <td>22</td>\n",
       "    </tr>\n",
       "    <tr>\n",
       "      <th>119</th>\n",
       "      <td>2017-w13</td>\n",
       "      <td>Sao Paulo</td>\n",
       "      <td>917</td>\n",
       "      <td>0.055344</td>\n",
       "      <td>135</td>\n",
       "    </tr>\n",
       "    <tr>\n",
       "      <th>120</th>\n",
       "      <td>2017-w13</td>\n",
       "      <td>Sergipe</td>\n",
       "      <td>25</td>\n",
       "      <td>0.001509</td>\n",
       "      <td>3</td>\n",
       "    </tr>\n",
       "    <tr>\n",
       "      <th>121</th>\n",
       "      <td>2017-w13</td>\n",
       "      <td>Tocantins</td>\n",
       "      <td>10</td>\n",
       "      <td>0.000604</td>\n",
       "      <td>1</td>\n",
       "    </tr>\n",
       "  </tbody>\n",
       "</table>\n",
       "<p>122 rows × 5 columns</p>\n",
       "</div>"
      ],
      "text/plain": [
       "    year_week    LocationName  group_size  proportion  sample_size\n",
       "0    2017-w09            Acre           5    0.000302            0\n",
       "1    2017-w09         Alagoas           7    0.000422            1\n",
       "2    2017-w09           Amapa           1    0.000060            0\n",
       "3    2017-w09        Amazonas          14    0.000845            2\n",
       "4    2017-w09           Bahia          38    0.002293            5\n",
       "..        ...             ...         ...         ...          ...\n",
       "117  2017-w13         Roraima          24    0.001448            3\n",
       "118  2017-w13  Santa Catarina         151    0.009113           22\n",
       "119  2017-w13       Sao Paulo         917    0.055344          135\n",
       "120  2017-w13         Sergipe          25    0.001509            3\n",
       "121  2017-w13       Tocantins          10    0.000604            1\n",
       "\n",
       "[122 rows x 5 columns]"
      ]
     },
     "execution_count": 36,
     "metadata": {},
     "output_type": "execute_result"
    }
   ],
   "source": [
    "# Step 3: Define the target sample size\n",
    "target_sample_size = 2450\n",
    "\n",
    "# Step 4: Calculate the sample size for each group (based on its proportion)\n",
    "group_sizes['sample_size'] = np.floor(group_sizes['proportion'] * target_sample_size).astype(int)\n",
    "group_sizes"
   ]
  },
  {
   "cell_type": "code",
   "execution_count": 37,
   "id": "3199567d",
   "metadata": {},
   "outputs": [],
   "source": [
    "# Step 5: Merge this sample size information back to the original DataFrame\n",
    "df_2017_03_neu_sample_size = pd.merge(df_2017_03_neu, group_sizes[['year_week', 'LocationName', 'sample_size']], \n",
    "                               on=['year_week', 'LocationName'], how='left')"
   ]
  },
  {
   "cell_type": "code",
   "execution_count": 38,
   "id": "85bda885",
   "metadata": {},
   "outputs": [
    {
     "name": "stdout",
     "output_type": "stream",
     "text": [
      "Sampled 2394 rows.\n"
     ]
    }
   ],
   "source": [
    "# Step 6: Perform the stratified sampling\n",
    "df_2017_03_neu_sample = df_2017_03_neu_sample_size.groupby(['year_week', 'LocationName']).apply(\n",
    "    lambda group: group.sample(n=group['sample_size'].iloc[0], random_state=42)\n",
    ").reset_index(drop=True)\n",
    "\n",
    "# Step 7: Check the result\n",
    "print(f\"Sampled {len(df_2017_03_neu_sample)} rows.\")\n"
   ]
  },
  {
   "cell_type": "code",
   "execution_count": 39,
   "id": "f3fa81a3",
   "metadata": {},
   "outputs": [],
   "source": [
    "text_gpt_2017_03_neu = '\\n'.join(df_2017_03_neu_sample['text'].astype(str))"
   ]
  },
  {
   "cell_type": "markdown",
   "id": "8667813b",
   "metadata": {},
   "source": [
    "### Prompts and loops"
   ]
  },
  {
   "cell_type": "code",
   "execution_count": 40,
   "id": "eacb83af",
   "metadata": {},
   "outputs": [],
   "source": [
    "prompt_3 = prompt_raw.replace('TWEETS', text_gpt_2017_03_neu)"
   ]
  },
  {
   "cell_type": "code",
   "execution_count": 41,
   "id": "f0d6fe7e",
   "metadata": {
    "scrolled": false
   },
   "outputs": [],
   "source": [
    "response = openai.ChatCompletion.create(\n",
    "    model=\"gpt-4o-mini\",  \n",
    "    messages = [\n",
    "        {\"role\": \"user\", \"content\": prompt_3}\n",
    "    ],\n",
    "    max_tokens=400,  # Maximum number of tokens in the response\n",
    "    temperature=0.7  # Controls the randomness of the output\n",
    ")"
   ]
  },
  {
   "cell_type": "code",
   "execution_count": 42,
   "id": "df41b84e",
   "metadata": {},
   "outputs": [
    {
     "data": {
      "text/plain": [
       "\"The text discusses the ongoing vaccination campaigns in Brazil, particularly focusing on the yellow fever vaccine. It mentions the government's efforts to increase vaccine availability, changes in vaccination schedules, public reactions to vaccination, and the challenges faced, such as long queues and incidents affecting vaccination sites. There are also references to the necessity of vaccination due to health risks and requirements for travel.\""
      ]
     },
     "execution_count": 42,
     "metadata": {},
     "output_type": "execute_result"
    }
   ],
   "source": [
    "response.choices[0].message.content"
   ]
  },
  {
   "cell_type": "code",
   "execution_count": 43,
   "id": "ef274df0",
   "metadata": {},
   "outputs": [],
   "source": [
    "#summary = []\n",
    "#dataset = []"
   ]
  },
  {
   "cell_type": "code",
   "execution_count": 44,
   "id": "457a283a",
   "metadata": {},
   "outputs": [],
   "source": [
    "dataset.append(\"2017_03_neutral\")"
   ]
  },
  {
   "cell_type": "code",
   "execution_count": 45,
   "id": "fe793b75",
   "metadata": {},
   "outputs": [],
   "source": [
    "summary.append(response.choices[0].message.content)"
   ]
  },
  {
   "cell_type": "code",
   "execution_count": 46,
   "id": "98f918a7",
   "metadata": {
    "tags": []
   },
   "outputs": [
    {
     "name": "stdout",
     "output_type": "stream",
     "text": [
      "<class 'pandas.core.frame.DataFrame'>\n",
      "RangeIndex: 3 entries, 0 to 2\n",
      "Data columns (total 2 columns):\n",
      " #   Column   Non-Null Count  Dtype \n",
      "---  ------   --------------  ----- \n",
      " 0   dataset  3 non-null      object\n",
      " 1   summary  3 non-null      object\n",
      "dtypes: object(2)\n",
      "memory usage: 176.0+ bytes\n"
     ]
    }
   ],
   "source": [
    "df_2017_neu = pd.DataFrame(list(zip(dataset, summary)),\n",
    "                            columns = ['dataset', 'summary'])\n",
    "df_2017_neu.info()"
   ]
  },
  {
   "cell_type": "code",
   "execution_count": 47,
   "id": "33094c65",
   "metadata": {},
   "outputs": [
    {
     "data": {
      "text/html": [
       "<div>\n",
       "<style scoped>\n",
       "    .dataframe tbody tr th:only-of-type {\n",
       "        vertical-align: middle;\n",
       "    }\n",
       "\n",
       "    .dataframe tbody tr th {\n",
       "        vertical-align: top;\n",
       "    }\n",
       "\n",
       "    .dataframe thead th {\n",
       "        text-align: right;\n",
       "    }\n",
       "</style>\n",
       "<table border=\"1\" class=\"dataframe\">\n",
       "  <thead>\n",
       "    <tr style=\"text-align: right;\">\n",
       "      <th></th>\n",
       "      <th>dataset</th>\n",
       "      <th>summary</th>\n",
       "    </tr>\n",
       "  </thead>\n",
       "  <tbody>\n",
       "    <tr>\n",
       "      <th>0</th>\n",
       "      <td>2017_01_neuitive</td>\n",
       "      <td>The sentences discuss the importance and logis...</td>\n",
       "    </tr>\n",
       "    <tr>\n",
       "      <th>1</th>\n",
       "      <td>2017_02_neuitive</td>\n",
       "      <td>The text discusses the importance of vaccinati...</td>\n",
       "    </tr>\n",
       "    <tr>\n",
       "      <th>2</th>\n",
       "      <td>2017_03_neuitive</td>\n",
       "      <td>The text discusses the ongoing vaccination cam...</td>\n",
       "    </tr>\n",
       "  </tbody>\n",
       "</table>\n",
       "</div>"
      ],
      "text/plain": [
       "            dataset                                            summary\n",
       "0  2017_01_neuitive  The sentences discuss the importance and logis...\n",
       "1  2017_02_neuitive  The text discusses the importance of vaccinati...\n",
       "2  2017_03_neuitive  The text discusses the ongoing vaccination cam..."
      ]
     },
     "execution_count": 47,
     "metadata": {},
     "output_type": "execute_result"
    }
   ],
   "source": [
    "df_2017_neu.tail(14)"
   ]
  },
  {
   "cell_type": "code",
   "execution_count": 48,
   "id": "786d137a",
   "metadata": {},
   "outputs": [
    {
     "data": {
      "text/plain": [
       "<OpenAIObject chat.completion id=chatcmpl-AUBbu68XSv122hLTYKeHpXlBaIEJT at 0x21592384040> JSON: {\n",
       "  \"choices\": [\n",
       "    {\n",
       "      \"finish_reason\": \"stop\",\n",
       "      \"index\": 0,\n",
       "      \"logprobs\": null,\n",
       "      \"message\": {\n",
       "        \"content\": \"The text discusses the ongoing vaccination campaigns in Brazil, particularly focusing on the yellow fever vaccine. It mentions the government's efforts to increase vaccine availability, changes in vaccination schedules, public reactions to vaccination, and the challenges faced, such as long queues and incidents affecting vaccination sites. There are also references to the necessity of vaccination due to health risks and requirements for travel.\",\n",
       "        \"refusal\": null,\n",
       "        \"role\": \"assistant\"\n",
       "      }\n",
       "    }\n",
       "  ],\n",
       "  \"created\": 1731757834,\n",
       "  \"id\": \"chatcmpl-AUBbu68XSv122hLTYKeHpXlBaIEJT\",\n",
       "  \"model\": \"gpt-4o-mini-2024-07-18\",\n",
       "  \"object\": \"chat.completion\",\n",
       "  \"system_fingerprint\": \"fp_9b78b61c52\",\n",
       "  \"usage\": {\n",
       "    \"completion_tokens\": 71,\n",
       "    \"completion_tokens_details\": {\n",
       "      \"accepted_prediction_tokens\": 0,\n",
       "      \"audio_tokens\": 0,\n",
       "      \"reasoning_tokens\": 0,\n",
       "      \"rejected_prediction_tokens\": 0\n",
       "    },\n",
       "    \"prompt_tokens\": 43889,\n",
       "    \"prompt_tokens_details\": {\n",
       "      \"audio_tokens\": 0,\n",
       "      \"cached_tokens\": 0\n",
       "    },\n",
       "    \"total_tokens\": 43960\n",
       "  }\n",
       "}"
      ]
     },
     "execution_count": 48,
     "metadata": {},
     "output_type": "execute_result"
    }
   ],
   "source": [
    "response"
   ]
  },
  {
   "cell_type": "markdown",
   "id": "831ae281",
   "metadata": {},
   "source": [
    "## April"
   ]
  },
  {
   "cell_type": "code",
   "execution_count": 49,
   "id": "27f75754",
   "metadata": {
    "scrolled": true,
    "tags": []
   },
   "outputs": [
    {
     "name": "stdout",
     "output_type": "stream",
     "text": [
      "<class 'pandas.core.frame.DataFrame'>\n",
      "RangeIndex: 11464 entries, 0 to 11463\n",
      "Data columns (total 53 columns):\n",
      " #   Column                  Non-Null Count  Dtype  \n",
      "---  ------                  --------------  -----  \n",
      " 0   index                   11464 non-null  int64  \n",
      " 1   LocationCode            11464 non-null  object \n",
      " 2   LocationName            11464 non-null  object \n",
      " 3   StatesCode              11464 non-null  object \n",
      " 4   ...4                    11464 non-null  int64  \n",
      " 5   id                      11464 non-null  float64\n",
      " 6   text                    11464 non-null  object \n",
      " 7   label                   11464 non-null  object \n",
      " 8   in_reply_to_status_id   428 non-null    float64\n",
      " 9   in_reply_to_user_id     464 non-null    float64\n",
      " 10  quoted_user_id          141 non-null    float64\n",
      " 11  quoted_status_id        141 non-null    float64\n",
      " 12  retweeted_user_id       4449 non-null   float64\n",
      " 13  retweeted_status_id     4449 non-null   float64\n",
      " 14  created_at              11464 non-null  object \n",
      " 15  entities.user_mentions  5104 non-null   object \n",
      " 16  user.id                 11464 non-null  float64\n",
      " 17  user.screen_name        11464 non-null  object \n",
      " 18  user.name               11464 non-null  object \n",
      " 19  user.description        10331 non-null  object \n",
      " 20  user.timezone           0 non-null      float64\n",
      " 21  user.location           11370 non-null  object \n",
      " 22  user.num_followers      11464 non-null  int64  \n",
      " 23  user.num_following      11464 non-null  int64  \n",
      " 24  user.created_at         11464 non-null  object \n",
      " 25  user.statuses_count     11464 non-null  int64  \n",
      " 26  user.is_verified        11464 non-null  bool   \n",
      " 27  lang                    11464 non-null  object \n",
      " 28  token_count             11464 non-null  int64  \n",
      " 29  is_retweet              11464 non-null  bool   \n",
      " 30  has_quote               11464 non-null  bool   \n",
      " 31  is_reply                11464 non-null  bool   \n",
      " 32  contains_keywords       11464 non-null  bool   \n",
      " 33  longitude               11464 non-null  float64\n",
      " 34  latitude                11464 non-null  float64\n",
      " 35  country_code            11464 non-null  object \n",
      " 36  geoname_id              10904 non-null  float64\n",
      " 37  location_type           11464 non-null  object \n",
      " 38  geo_type                11464 non-null  int64  \n",
      " 39  region                  11464 non-null  object \n",
      " 40  subregion               11464 non-null  object \n",
      " 41  num_quotes              11464 non-null  int64  \n",
      " 42  num_replies             11464 non-null  int64  \n",
      " 43  num_retweets            11464 non-null  int64  \n",
      " 44  sent_gpt                11464 non-null  object \n",
      " 45  gpt_sent_presence       11464 non-null  int64  \n",
      " 46  cleaned_text_lem        11464 non-null  object \n",
      " 47  cleaned_text            11464 non-null  object \n",
      " 48  month                   11464 non-null  int64  \n",
      " 49  year                    11464 non-null  int64  \n",
      " 50  week                    11464 non-null  int64  \n",
      " 51  year_month              11464 non-null  object \n",
      " 52  year_week               11464 non-null  object \n",
      "dtypes: bool(5), float64(12), int64(14), object(22)\n",
      "memory usage: 4.3+ MB\n"
     ]
    }
   ],
   "source": [
    "# Get monthly data\n",
    "df_2017_04_neu = pd.read_csv('../data/local/df_neu_2017-04.csv').reset_index()\n",
    "df_2017_04_neu.info()"
   ]
  },
  {
   "cell_type": "markdown",
   "id": "26e58f5c",
   "metadata": {},
   "source": [
    "### Representative sample based on week and location"
   ]
  },
  {
   "cell_type": "code",
   "execution_count": 50,
   "id": "220978bb",
   "metadata": {},
   "outputs": [
    {
     "data": {
      "text/html": [
       "<div>\n",
       "<style scoped>\n",
       "    .dataframe tbody tr th:only-of-type {\n",
       "        vertical-align: middle;\n",
       "    }\n",
       "\n",
       "    .dataframe tbody tr th {\n",
       "        vertical-align: top;\n",
       "    }\n",
       "\n",
       "    .dataframe thead th {\n",
       "        text-align: right;\n",
       "    }\n",
       "</style>\n",
       "<table border=\"1\" class=\"dataframe\">\n",
       "  <thead>\n",
       "    <tr style=\"text-align: right;\">\n",
       "      <th></th>\n",
       "      <th>year_week</th>\n",
       "      <th>LocationName</th>\n",
       "      <th>group_size</th>\n",
       "      <th>proportion</th>\n",
       "    </tr>\n",
       "  </thead>\n",
       "  <tbody>\n",
       "    <tr>\n",
       "      <th>0</th>\n",
       "      <td>2017-w13</td>\n",
       "      <td>Acre</td>\n",
       "      <td>8</td>\n",
       "      <td>0.000698</td>\n",
       "    </tr>\n",
       "    <tr>\n",
       "      <th>1</th>\n",
       "      <td>2017-w13</td>\n",
       "      <td>Alagoas</td>\n",
       "      <td>20</td>\n",
       "      <td>0.001745</td>\n",
       "    </tr>\n",
       "    <tr>\n",
       "      <th>2</th>\n",
       "      <td>2017-w13</td>\n",
       "      <td>Amapa</td>\n",
       "      <td>9</td>\n",
       "      <td>0.000785</td>\n",
       "    </tr>\n",
       "    <tr>\n",
       "      <th>3</th>\n",
       "      <td>2017-w13</td>\n",
       "      <td>Amazonas</td>\n",
       "      <td>41</td>\n",
       "      <td>0.003576</td>\n",
       "    </tr>\n",
       "    <tr>\n",
       "      <th>4</th>\n",
       "      <td>2017-w13</td>\n",
       "      <td>Bahia</td>\n",
       "      <td>122</td>\n",
       "      <td>0.010642</td>\n",
       "    </tr>\n",
       "    <tr>\n",
       "      <th>...</th>\n",
       "      <td>...</td>\n",
       "      <td>...</td>\n",
       "      <td>...</td>\n",
       "      <td>...</td>\n",
       "    </tr>\n",
       "    <tr>\n",
       "      <th>141</th>\n",
       "      <td>2017-w18</td>\n",
       "      <td>Rio Grande Do Sul</td>\n",
       "      <td>13</td>\n",
       "      <td>0.001134</td>\n",
       "    </tr>\n",
       "    <tr>\n",
       "      <th>142</th>\n",
       "      <td>2017-w18</td>\n",
       "      <td>Rondonia</td>\n",
       "      <td>1</td>\n",
       "      <td>0.000087</td>\n",
       "    </tr>\n",
       "    <tr>\n",
       "      <th>143</th>\n",
       "      <td>2017-w18</td>\n",
       "      <td>Santa Catarina</td>\n",
       "      <td>2</td>\n",
       "      <td>0.000174</td>\n",
       "    </tr>\n",
       "    <tr>\n",
       "      <th>144</th>\n",
       "      <td>2017-w18</td>\n",
       "      <td>Sao Paulo</td>\n",
       "      <td>14</td>\n",
       "      <td>0.001221</td>\n",
       "    </tr>\n",
       "    <tr>\n",
       "      <th>145</th>\n",
       "      <td>2017-w18</td>\n",
       "      <td>Tocantins</td>\n",
       "      <td>2</td>\n",
       "      <td>0.000174</td>\n",
       "    </tr>\n",
       "  </tbody>\n",
       "</table>\n",
       "<p>146 rows × 4 columns</p>\n",
       "</div>"
      ],
      "text/plain": [
       "    year_week       LocationName  group_size  proportion\n",
       "0    2017-w13               Acre           8    0.000698\n",
       "1    2017-w13            Alagoas          20    0.001745\n",
       "2    2017-w13              Amapa           9    0.000785\n",
       "3    2017-w13           Amazonas          41    0.003576\n",
       "4    2017-w13              Bahia         122    0.010642\n",
       "..        ...                ...         ...         ...\n",
       "141  2017-w18  Rio Grande Do Sul          13    0.001134\n",
       "142  2017-w18           Rondonia           1    0.000087\n",
       "143  2017-w18     Santa Catarina           2    0.000174\n",
       "144  2017-w18          Sao Paulo          14    0.001221\n",
       "145  2017-w18          Tocantins           2    0.000174\n",
       "\n",
       "[146 rows x 4 columns]"
      ]
     },
     "execution_count": 50,
     "metadata": {},
     "output_type": "execute_result"
    }
   ],
   "source": [
    "# Step 1: Calculate the size of each group (year_week, LocationName)\n",
    "group_sizes = df_2017_04_neu.groupby(['year_week', 'LocationName']).size().reset_index(name='group_size')\n",
    "\n",
    "# Step 2: Calculate the proportion of each group in the dataset\n",
    "total_rows = len(df_2017_04_neu)\n",
    "group_sizes['proportion'] = group_sizes['group_size'] / total_rows\n",
    "group_sizes"
   ]
  },
  {
   "cell_type": "code",
   "execution_count": 51,
   "id": "f2d52380",
   "metadata": {},
   "outputs": [
    {
     "data": {
      "text/html": [
       "<div>\n",
       "<style scoped>\n",
       "    .dataframe tbody tr th:only-of-type {\n",
       "        vertical-align: middle;\n",
       "    }\n",
       "\n",
       "    .dataframe tbody tr th {\n",
       "        vertical-align: top;\n",
       "    }\n",
       "\n",
       "    .dataframe thead th {\n",
       "        text-align: right;\n",
       "    }\n",
       "</style>\n",
       "<table border=\"1\" class=\"dataframe\">\n",
       "  <thead>\n",
       "    <tr style=\"text-align: right;\">\n",
       "      <th></th>\n",
       "      <th>year_week</th>\n",
       "      <th>LocationName</th>\n",
       "      <th>group_size</th>\n",
       "      <th>proportion</th>\n",
       "      <th>sample_size</th>\n",
       "    </tr>\n",
       "  </thead>\n",
       "  <tbody>\n",
       "    <tr>\n",
       "      <th>0</th>\n",
       "      <td>2017-w13</td>\n",
       "      <td>Acre</td>\n",
       "      <td>8</td>\n",
       "      <td>0.000698</td>\n",
       "      <td>1</td>\n",
       "    </tr>\n",
       "    <tr>\n",
       "      <th>1</th>\n",
       "      <td>2017-w13</td>\n",
       "      <td>Alagoas</td>\n",
       "      <td>20</td>\n",
       "      <td>0.001745</td>\n",
       "      <td>4</td>\n",
       "    </tr>\n",
       "    <tr>\n",
       "      <th>2</th>\n",
       "      <td>2017-w13</td>\n",
       "      <td>Amapa</td>\n",
       "      <td>9</td>\n",
       "      <td>0.000785</td>\n",
       "      <td>1</td>\n",
       "    </tr>\n",
       "    <tr>\n",
       "      <th>3</th>\n",
       "      <td>2017-w13</td>\n",
       "      <td>Amazonas</td>\n",
       "      <td>41</td>\n",
       "      <td>0.003576</td>\n",
       "      <td>8</td>\n",
       "    </tr>\n",
       "    <tr>\n",
       "      <th>4</th>\n",
       "      <td>2017-w13</td>\n",
       "      <td>Bahia</td>\n",
       "      <td>122</td>\n",
       "      <td>0.010642</td>\n",
       "      <td>26</td>\n",
       "    </tr>\n",
       "    <tr>\n",
       "      <th>...</th>\n",
       "      <td>...</td>\n",
       "      <td>...</td>\n",
       "      <td>...</td>\n",
       "      <td>...</td>\n",
       "      <td>...</td>\n",
       "    </tr>\n",
       "    <tr>\n",
       "      <th>141</th>\n",
       "      <td>2017-w18</td>\n",
       "      <td>Rio Grande Do Sul</td>\n",
       "      <td>13</td>\n",
       "      <td>0.001134</td>\n",
       "      <td>2</td>\n",
       "    </tr>\n",
       "    <tr>\n",
       "      <th>142</th>\n",
       "      <td>2017-w18</td>\n",
       "      <td>Rondonia</td>\n",
       "      <td>1</td>\n",
       "      <td>0.000087</td>\n",
       "      <td>0</td>\n",
       "    </tr>\n",
       "    <tr>\n",
       "      <th>143</th>\n",
       "      <td>2017-w18</td>\n",
       "      <td>Santa Catarina</td>\n",
       "      <td>2</td>\n",
       "      <td>0.000174</td>\n",
       "      <td>0</td>\n",
       "    </tr>\n",
       "    <tr>\n",
       "      <th>144</th>\n",
       "      <td>2017-w18</td>\n",
       "      <td>Sao Paulo</td>\n",
       "      <td>14</td>\n",
       "      <td>0.001221</td>\n",
       "      <td>2</td>\n",
       "    </tr>\n",
       "    <tr>\n",
       "      <th>145</th>\n",
       "      <td>2017-w18</td>\n",
       "      <td>Tocantins</td>\n",
       "      <td>2</td>\n",
       "      <td>0.000174</td>\n",
       "      <td>0</td>\n",
       "    </tr>\n",
       "  </tbody>\n",
       "</table>\n",
       "<p>146 rows × 5 columns</p>\n",
       "</div>"
      ],
      "text/plain": [
       "    year_week       LocationName  group_size  proportion  sample_size\n",
       "0    2017-w13               Acre           8    0.000698            1\n",
       "1    2017-w13            Alagoas          20    0.001745            4\n",
       "2    2017-w13              Amapa           9    0.000785            1\n",
       "3    2017-w13           Amazonas          41    0.003576            8\n",
       "4    2017-w13              Bahia         122    0.010642           26\n",
       "..        ...                ...         ...         ...          ...\n",
       "141  2017-w18  Rio Grande Do Sul          13    0.001134            2\n",
       "142  2017-w18           Rondonia           1    0.000087            0\n",
       "143  2017-w18     Santa Catarina           2    0.000174            0\n",
       "144  2017-w18          Sao Paulo          14    0.001221            2\n",
       "145  2017-w18          Tocantins           2    0.000174            0\n",
       "\n",
       "[146 rows x 5 columns]"
      ]
     },
     "execution_count": 51,
     "metadata": {},
     "output_type": "execute_result"
    }
   ],
   "source": [
    "# Step 3: Define the target sample size\n",
    "target_sample_size = 2450\n",
    "\n",
    "# Step 4: Calculate the sample size for each group (based on its proportion)\n",
    "group_sizes['sample_size'] = np.floor(group_sizes['proportion'] * target_sample_size).astype(int)\n",
    "group_sizes"
   ]
  },
  {
   "cell_type": "code",
   "execution_count": 52,
   "id": "e3186670",
   "metadata": {},
   "outputs": [],
   "source": [
    "# Step 5: Merge this sample size information back to the original DataFrame\n",
    "df_2017_04_neu_sample_size = pd.merge(df_2017_04_neu, group_sizes[['year_week', 'LocationName', 'sample_size']], \n",
    "                               on=['year_week', 'LocationName'], how='left')"
   ]
  },
  {
   "cell_type": "code",
   "execution_count": 53,
   "id": "da623d38",
   "metadata": {},
   "outputs": [
    {
     "name": "stdout",
     "output_type": "stream",
     "text": [
      "Sampled 2380 rows.\n"
     ]
    }
   ],
   "source": [
    "# Step 6: Perform the stratified sampling\n",
    "df_2017_04_neu_sample = df_2017_04_neu_sample_size.groupby(['year_week', 'LocationName']).apply(\n",
    "    lambda group: group.sample(n=group['sample_size'].iloc[0], random_state=42)\n",
    ").reset_index(drop=True)\n",
    "\n",
    "# Step 7: Check the result\n",
    "print(f\"Sampled {len(df_2017_04_neu_sample)} rows.\")\n"
   ]
  },
  {
   "cell_type": "code",
   "execution_count": 54,
   "id": "06886cfb",
   "metadata": {},
   "outputs": [],
   "source": [
    "text_gpt_2017_04_neu = '\\n'.join(df_2017_04_neu_sample['text'].astype(str))"
   ]
  },
  {
   "cell_type": "markdown",
   "id": "20cd54a3",
   "metadata": {},
   "source": [
    "### Prompts and loops"
   ]
  },
  {
   "cell_type": "code",
   "execution_count": 55,
   "id": "1e5908cc",
   "metadata": {},
   "outputs": [],
   "source": [
    "prompt_4 = prompt_raw.replace('TWEETS', text_gpt_2017_04_neu)"
   ]
  },
  {
   "cell_type": "code",
   "execution_count": 57,
   "id": "c1948a31",
   "metadata": {
    "scrolled": false
   },
   "outputs": [],
   "source": [
    "response = openai.ChatCompletion.create(\n",
    "    model=\"gpt-4o-mini\",  \n",
    "    messages = [\n",
    "        {\"role\": \"user\", \"content\": prompt_4}\n",
    "    ],\n",
    "    max_tokens=400,  # Maximum number of tokens in the response\n",
    "    temperature=0.7  # Controls the randomness of the output\n",
    ")"
   ]
  },
  {
   "cell_type": "code",
   "execution_count": 59,
   "id": "3001d55a",
   "metadata": {},
   "outputs": [
    {
     "data": {
      "text/plain": [
       "\"The text discusses the vaccination campaigns against yellow fever and rabies in Brazil, emphasizing the need for immunization, the introduction of a single dose for yellow fever, and the public's mixed feelings about vaccination. It highlights the ongoing efforts to increase vaccination rates amidst public health concerns.\""
      ]
     },
     "execution_count": 59,
     "metadata": {},
     "output_type": "execute_result"
    }
   ],
   "source": [
    "response.choices[0].message.content"
   ]
  },
  {
   "cell_type": "code",
   "execution_count": 60,
   "id": "9884359c",
   "metadata": {},
   "outputs": [],
   "source": [
    "#summary = []\n",
    "#dataset = []"
   ]
  },
  {
   "cell_type": "code",
   "execution_count": 61,
   "id": "75c267cd",
   "metadata": {},
   "outputs": [],
   "source": [
    "dataset.append(\"2017_04_neutral\")"
   ]
  },
  {
   "cell_type": "code",
   "execution_count": 62,
   "id": "92cc4b47",
   "metadata": {},
   "outputs": [],
   "source": [
    "summary.append(response.choices[0].message.content)"
   ]
  },
  {
   "cell_type": "code",
   "execution_count": 63,
   "id": "7f7efe9f",
   "metadata": {
    "tags": []
   },
   "outputs": [
    {
     "name": "stdout",
     "output_type": "stream",
     "text": [
      "<class 'pandas.core.frame.DataFrame'>\n",
      "RangeIndex: 4 entries, 0 to 3\n",
      "Data columns (total 2 columns):\n",
      " #   Column   Non-Null Count  Dtype \n",
      "---  ------   --------------  ----- \n",
      " 0   dataset  4 non-null      object\n",
      " 1   summary  4 non-null      object\n",
      "dtypes: object(2)\n",
      "memory usage: 192.0+ bytes\n"
     ]
    }
   ],
   "source": [
    "df_2017_neu = pd.DataFrame(list(zip(dataset, summary)),\n",
    "                            columns = ['dataset', 'summary'])\n",
    "df_2017_neu.info()"
   ]
  },
  {
   "cell_type": "code",
   "execution_count": 64,
   "id": "6fbcb530",
   "metadata": {},
   "outputs": [
    {
     "data": {
      "text/html": [
       "<div>\n",
       "<style scoped>\n",
       "    .dataframe tbody tr th:only-of-type {\n",
       "        vertical-align: middle;\n",
       "    }\n",
       "\n",
       "    .dataframe tbody tr th {\n",
       "        vertical-align: top;\n",
       "    }\n",
       "\n",
       "    .dataframe thead th {\n",
       "        text-align: right;\n",
       "    }\n",
       "</style>\n",
       "<table border=\"1\" class=\"dataframe\">\n",
       "  <thead>\n",
       "    <tr style=\"text-align: right;\">\n",
       "      <th></th>\n",
       "      <th>dataset</th>\n",
       "      <th>summary</th>\n",
       "    </tr>\n",
       "  </thead>\n",
       "  <tbody>\n",
       "    <tr>\n",
       "      <th>0</th>\n",
       "      <td>2017_01_neuitive</td>\n",
       "      <td>The sentences discuss the importance and logis...</td>\n",
       "    </tr>\n",
       "    <tr>\n",
       "      <th>1</th>\n",
       "      <td>2017_02_neuitive</td>\n",
       "      <td>The text discusses the importance of vaccinati...</td>\n",
       "    </tr>\n",
       "    <tr>\n",
       "      <th>2</th>\n",
       "      <td>2017_03_neuitive</td>\n",
       "      <td>The text discusses the ongoing vaccination cam...</td>\n",
       "    </tr>\n",
       "    <tr>\n",
       "      <th>3</th>\n",
       "      <td>2017_04_neuitive</td>\n",
       "      <td>The text discusses the vaccination campaigns a...</td>\n",
       "    </tr>\n",
       "  </tbody>\n",
       "</table>\n",
       "</div>"
      ],
      "text/plain": [
       "            dataset                                            summary\n",
       "0  2017_01_neuitive  The sentences discuss the importance and logis...\n",
       "1  2017_02_neuitive  The text discusses the importance of vaccinati...\n",
       "2  2017_03_neuitive  The text discusses the ongoing vaccination cam...\n",
       "3  2017_04_neuitive  The text discusses the vaccination campaigns a..."
      ]
     },
     "execution_count": 64,
     "metadata": {},
     "output_type": "execute_result"
    }
   ],
   "source": [
    "df_2017_neu.tail(14)"
   ]
  },
  {
   "cell_type": "code",
   "execution_count": 65,
   "id": "b0e25bc0",
   "metadata": {},
   "outputs": [
    {
     "data": {
      "text/plain": [
       "<OpenAIObject chat.completion id=chatcmpl-AUBg0IvyHvYTr1pafckjGtW9WSv90 at 0x21596e24f40> JSON: {\n",
       "  \"choices\": [\n",
       "    {\n",
       "      \"finish_reason\": \"stop\",\n",
       "      \"index\": 0,\n",
       "      \"logprobs\": null,\n",
       "      \"message\": {\n",
       "        \"content\": \"The text discusses the vaccination campaigns against yellow fever and rabies in Brazil, emphasizing the need for immunization, the introduction of a single dose for yellow fever, and the public's mixed feelings about vaccination. It highlights the ongoing efforts to increase vaccination rates amidst public health concerns.\",\n",
       "        \"refusal\": null,\n",
       "        \"role\": \"assistant\"\n",
       "      }\n",
       "    }\n",
       "  ],\n",
       "  \"created\": 1731758088,\n",
       "  \"id\": \"chatcmpl-AUBg0IvyHvYTr1pafckjGtW9WSv90\",\n",
       "  \"model\": \"gpt-4o-mini-2024-07-18\",\n",
       "  \"object\": \"chat.completion\",\n",
       "  \"system_fingerprint\": \"fp_0ba0d124f1\",\n",
       "  \"usage\": {\n",
       "    \"completion_tokens\": 55,\n",
       "    \"completion_tokens_details\": {\n",
       "      \"accepted_prediction_tokens\": 0,\n",
       "      \"audio_tokens\": 0,\n",
       "      \"reasoning_tokens\": 0,\n",
       "      \"rejected_prediction_tokens\": 0\n",
       "    },\n",
       "    \"prompt_tokens\": 44233,\n",
       "    \"prompt_tokens_details\": {\n",
       "      \"audio_tokens\": 0,\n",
       "      \"cached_tokens\": 0\n",
       "    },\n",
       "    \"total_tokens\": 44288\n",
       "  }\n",
       "}"
      ]
     },
     "execution_count": 65,
     "metadata": {},
     "output_type": "execute_result"
    }
   ],
   "source": [
    "response"
   ]
  },
  {
   "cell_type": "markdown",
   "id": "06842bac",
   "metadata": {},
   "source": [
    "## May"
   ]
  },
  {
   "cell_type": "code",
   "execution_count": 66,
   "id": "fe75998a",
   "metadata": {
    "scrolled": true,
    "tags": []
   },
   "outputs": [
    {
     "name": "stdout",
     "output_type": "stream",
     "text": [
      "<class 'pandas.core.frame.DataFrame'>\n",
      "RangeIndex: 9630 entries, 0 to 9629\n",
      "Data columns (total 53 columns):\n",
      " #   Column                  Non-Null Count  Dtype  \n",
      "---  ------                  --------------  -----  \n",
      " 0   index                   9630 non-null   int64  \n",
      " 1   LocationCode            9630 non-null   object \n",
      " 2   LocationName            9630 non-null   object \n",
      " 3   StatesCode              9630 non-null   object \n",
      " 4   ...4                    9630 non-null   int64  \n",
      " 5   id                      9630 non-null   float64\n",
      " 6   text                    9630 non-null   object \n",
      " 7   label                   9630 non-null   object \n",
      " 8   in_reply_to_status_id   467 non-null    float64\n",
      " 9   in_reply_to_user_id     497 non-null    float64\n",
      " 10  quoted_user_id          148 non-null    float64\n",
      " 11  quoted_status_id        148 non-null    float64\n",
      " 12  retweeted_user_id       1735 non-null   float64\n",
      " 13  retweeted_status_id     1735 non-null   float64\n",
      " 14  created_at              9630 non-null   object \n",
      " 15  entities.user_mentions  2420 non-null   object \n",
      " 16  user.id                 9630 non-null   float64\n",
      " 17  user.screen_name        9630 non-null   object \n",
      " 18  user.name               9629 non-null   object \n",
      " 19  user.description        8693 non-null   object \n",
      " 20  user.timezone           0 non-null      float64\n",
      " 21  user.location           9515 non-null   object \n",
      " 22  user.num_followers      9630 non-null   int64  \n",
      " 23  user.num_following      9630 non-null   int64  \n",
      " 24  user.created_at         9630 non-null   object \n",
      " 25  user.statuses_count     9630 non-null   int64  \n",
      " 26  user.is_verified        9630 non-null   bool   \n",
      " 27  lang                    9630 non-null   object \n",
      " 28  token_count             9630 non-null   int64  \n",
      " 29  is_retweet              9630 non-null   bool   \n",
      " 30  has_quote               9630 non-null   bool   \n",
      " 31  is_reply                9630 non-null   bool   \n",
      " 32  contains_keywords       9630 non-null   bool   \n",
      " 33  longitude               9630 non-null   float64\n",
      " 34  latitude                9630 non-null   float64\n",
      " 35  country_code            9630 non-null   object \n",
      " 36  geoname_id              8988 non-null   float64\n",
      " 37  location_type           9630 non-null   object \n",
      " 38  geo_type                9630 non-null   int64  \n",
      " 39  region                  9630 non-null   object \n",
      " 40  subregion               9630 non-null   object \n",
      " 41  num_quotes              9630 non-null   int64  \n",
      " 42  num_replies             9630 non-null   int64  \n",
      " 43  num_retweets            9630 non-null   int64  \n",
      " 44  sent_gpt                9630 non-null   object \n",
      " 45  gpt_sent_presence       9630 non-null   int64  \n",
      " 46  cleaned_text_lem        9630 non-null   object \n",
      " 47  cleaned_text            9630 non-null   object \n",
      " 48  month                   9630 non-null   int64  \n",
      " 49  year                    9630 non-null   int64  \n",
      " 50  week                    9630 non-null   int64  \n",
      " 51  year_month              9630 non-null   object \n",
      " 52  year_week               9630 non-null   object \n",
      "dtypes: bool(5), float64(12), int64(14), object(22)\n",
      "memory usage: 3.6+ MB\n"
     ]
    }
   ],
   "source": [
    "# Get monthly data\n",
    "df_2017_05_neu = pd.read_csv('../data/local/df_neu_2017-05.csv').reset_index()\n",
    "df_2017_05_neu.info()"
   ]
  },
  {
   "cell_type": "markdown",
   "id": "e02091c0",
   "metadata": {},
   "source": [
    "### Representative sample based on week and location"
   ]
  },
  {
   "cell_type": "code",
   "execution_count": 67,
   "id": "f961f47b",
   "metadata": {},
   "outputs": [
    {
     "data": {
      "text/html": [
       "<div>\n",
       "<style scoped>\n",
       "    .dataframe tbody tr th:only-of-type {\n",
       "        vertical-align: middle;\n",
       "    }\n",
       "\n",
       "    .dataframe tbody tr th {\n",
       "        vertical-align: top;\n",
       "    }\n",
       "\n",
       "    .dataframe thead th {\n",
       "        text-align: right;\n",
       "    }\n",
       "</style>\n",
       "<table border=\"1\" class=\"dataframe\">\n",
       "  <thead>\n",
       "    <tr style=\"text-align: right;\">\n",
       "      <th></th>\n",
       "      <th>year_week</th>\n",
       "      <th>LocationName</th>\n",
       "      <th>group_size</th>\n",
       "      <th>proportion</th>\n",
       "    </tr>\n",
       "  </thead>\n",
       "  <tbody>\n",
       "    <tr>\n",
       "      <th>0</th>\n",
       "      <td>2017-w18</td>\n",
       "      <td>Acre</td>\n",
       "      <td>3</td>\n",
       "      <td>0.000312</td>\n",
       "    </tr>\n",
       "    <tr>\n",
       "      <th>1</th>\n",
       "      <td>2017-w18</td>\n",
       "      <td>Alagoas</td>\n",
       "      <td>28</td>\n",
       "      <td>0.002908</td>\n",
       "    </tr>\n",
       "    <tr>\n",
       "      <th>2</th>\n",
       "      <td>2017-w18</td>\n",
       "      <td>Amapa</td>\n",
       "      <td>2</td>\n",
       "      <td>0.000208</td>\n",
       "    </tr>\n",
       "    <tr>\n",
       "      <th>3</th>\n",
       "      <td>2017-w18</td>\n",
       "      <td>Amazonas</td>\n",
       "      <td>34</td>\n",
       "      <td>0.003531</td>\n",
       "    </tr>\n",
       "    <tr>\n",
       "      <th>4</th>\n",
       "      <td>2017-w18</td>\n",
       "      <td>Bahia</td>\n",
       "      <td>96</td>\n",
       "      <td>0.009969</td>\n",
       "    </tr>\n",
       "    <tr>\n",
       "      <th>...</th>\n",
       "      <td>...</td>\n",
       "      <td>...</td>\n",
       "      <td>...</td>\n",
       "      <td>...</td>\n",
       "    </tr>\n",
       "    <tr>\n",
       "      <th>120</th>\n",
       "      <td>2017-w22</td>\n",
       "      <td>Roraima</td>\n",
       "      <td>1</td>\n",
       "      <td>0.000104</td>\n",
       "    </tr>\n",
       "    <tr>\n",
       "      <th>121</th>\n",
       "      <td>2017-w22</td>\n",
       "      <td>Santa Catarina</td>\n",
       "      <td>26</td>\n",
       "      <td>0.002700</td>\n",
       "    </tr>\n",
       "    <tr>\n",
       "      <th>122</th>\n",
       "      <td>2017-w22</td>\n",
       "      <td>Sao Paulo</td>\n",
       "      <td>123</td>\n",
       "      <td>0.012773</td>\n",
       "    </tr>\n",
       "    <tr>\n",
       "      <th>123</th>\n",
       "      <td>2017-w22</td>\n",
       "      <td>Sergipe</td>\n",
       "      <td>8</td>\n",
       "      <td>0.000831</td>\n",
       "    </tr>\n",
       "    <tr>\n",
       "      <th>124</th>\n",
       "      <td>2017-w22</td>\n",
       "      <td>Tocantins</td>\n",
       "      <td>2</td>\n",
       "      <td>0.000208</td>\n",
       "    </tr>\n",
       "  </tbody>\n",
       "</table>\n",
       "<p>125 rows × 4 columns</p>\n",
       "</div>"
      ],
      "text/plain": [
       "    year_week    LocationName  group_size  proportion\n",
       "0    2017-w18            Acre           3    0.000312\n",
       "1    2017-w18         Alagoas          28    0.002908\n",
       "2    2017-w18           Amapa           2    0.000208\n",
       "3    2017-w18        Amazonas          34    0.003531\n",
       "4    2017-w18           Bahia          96    0.009969\n",
       "..        ...             ...         ...         ...\n",
       "120  2017-w22         Roraima           1    0.000104\n",
       "121  2017-w22  Santa Catarina          26    0.002700\n",
       "122  2017-w22       Sao Paulo         123    0.012773\n",
       "123  2017-w22         Sergipe           8    0.000831\n",
       "124  2017-w22       Tocantins           2    0.000208\n",
       "\n",
       "[125 rows x 4 columns]"
      ]
     },
     "execution_count": 67,
     "metadata": {},
     "output_type": "execute_result"
    }
   ],
   "source": [
    "# Step 1: Calculate the size of each group (year_week, LocationName)\n",
    "group_sizes = df_2017_05_neu.groupby(['year_week', 'LocationName']).size().reset_index(name='group_size')\n",
    "\n",
    "# Step 2: Calculate the proportion of each group in the dataset\n",
    "total_rows = len(df_2017_05_neu)\n",
    "group_sizes['proportion'] = group_sizes['group_size'] / total_rows\n",
    "group_sizes"
   ]
  },
  {
   "cell_type": "code",
   "execution_count": 68,
   "id": "b84177f8",
   "metadata": {},
   "outputs": [
    {
     "data": {
      "text/html": [
       "<div>\n",
       "<style scoped>\n",
       "    .dataframe tbody tr th:only-of-type {\n",
       "        vertical-align: middle;\n",
       "    }\n",
       "\n",
       "    .dataframe tbody tr th {\n",
       "        vertical-align: top;\n",
       "    }\n",
       "\n",
       "    .dataframe thead th {\n",
       "        text-align: right;\n",
       "    }\n",
       "</style>\n",
       "<table border=\"1\" class=\"dataframe\">\n",
       "  <thead>\n",
       "    <tr style=\"text-align: right;\">\n",
       "      <th></th>\n",
       "      <th>year_week</th>\n",
       "      <th>LocationName</th>\n",
       "      <th>group_size</th>\n",
       "      <th>proportion</th>\n",
       "      <th>sample_size</th>\n",
       "    </tr>\n",
       "  </thead>\n",
       "  <tbody>\n",
       "    <tr>\n",
       "      <th>0</th>\n",
       "      <td>2017-w18</td>\n",
       "      <td>Acre</td>\n",
       "      <td>3</td>\n",
       "      <td>0.000312</td>\n",
       "      <td>0</td>\n",
       "    </tr>\n",
       "    <tr>\n",
       "      <th>1</th>\n",
       "      <td>2017-w18</td>\n",
       "      <td>Alagoas</td>\n",
       "      <td>28</td>\n",
       "      <td>0.002908</td>\n",
       "      <td>7</td>\n",
       "    </tr>\n",
       "    <tr>\n",
       "      <th>2</th>\n",
       "      <td>2017-w18</td>\n",
       "      <td>Amapa</td>\n",
       "      <td>2</td>\n",
       "      <td>0.000208</td>\n",
       "      <td>0</td>\n",
       "    </tr>\n",
       "    <tr>\n",
       "      <th>3</th>\n",
       "      <td>2017-w18</td>\n",
       "      <td>Amazonas</td>\n",
       "      <td>34</td>\n",
       "      <td>0.003531</td>\n",
       "      <td>8</td>\n",
       "    </tr>\n",
       "    <tr>\n",
       "      <th>4</th>\n",
       "      <td>2017-w18</td>\n",
       "      <td>Bahia</td>\n",
       "      <td>96</td>\n",
       "      <td>0.009969</td>\n",
       "      <td>24</td>\n",
       "    </tr>\n",
       "    <tr>\n",
       "      <th>...</th>\n",
       "      <td>...</td>\n",
       "      <td>...</td>\n",
       "      <td>...</td>\n",
       "      <td>...</td>\n",
       "      <td>...</td>\n",
       "    </tr>\n",
       "    <tr>\n",
       "      <th>120</th>\n",
       "      <td>2017-w22</td>\n",
       "      <td>Roraima</td>\n",
       "      <td>1</td>\n",
       "      <td>0.000104</td>\n",
       "      <td>0</td>\n",
       "    </tr>\n",
       "    <tr>\n",
       "      <th>121</th>\n",
       "      <td>2017-w22</td>\n",
       "      <td>Santa Catarina</td>\n",
       "      <td>26</td>\n",
       "      <td>0.002700</td>\n",
       "      <td>6</td>\n",
       "    </tr>\n",
       "    <tr>\n",
       "      <th>122</th>\n",
       "      <td>2017-w22</td>\n",
       "      <td>Sao Paulo</td>\n",
       "      <td>123</td>\n",
       "      <td>0.012773</td>\n",
       "      <td>31</td>\n",
       "    </tr>\n",
       "    <tr>\n",
       "      <th>123</th>\n",
       "      <td>2017-w22</td>\n",
       "      <td>Sergipe</td>\n",
       "      <td>8</td>\n",
       "      <td>0.000831</td>\n",
       "      <td>2</td>\n",
       "    </tr>\n",
       "    <tr>\n",
       "      <th>124</th>\n",
       "      <td>2017-w22</td>\n",
       "      <td>Tocantins</td>\n",
       "      <td>2</td>\n",
       "      <td>0.000208</td>\n",
       "      <td>0</td>\n",
       "    </tr>\n",
       "  </tbody>\n",
       "</table>\n",
       "<p>125 rows × 5 columns</p>\n",
       "</div>"
      ],
      "text/plain": [
       "    year_week    LocationName  group_size  proportion  sample_size\n",
       "0    2017-w18            Acre           3    0.000312            0\n",
       "1    2017-w18         Alagoas          28    0.002908            7\n",
       "2    2017-w18           Amapa           2    0.000208            0\n",
       "3    2017-w18        Amazonas          34    0.003531            8\n",
       "4    2017-w18           Bahia          96    0.009969           24\n",
       "..        ...             ...         ...         ...          ...\n",
       "120  2017-w22         Roraima           1    0.000104            0\n",
       "121  2017-w22  Santa Catarina          26    0.002700            6\n",
       "122  2017-w22       Sao Paulo         123    0.012773           31\n",
       "123  2017-w22         Sergipe           8    0.000831            2\n",
       "124  2017-w22       Tocantins           2    0.000208            0\n",
       "\n",
       "[125 rows x 5 columns]"
      ]
     },
     "execution_count": 68,
     "metadata": {},
     "output_type": "execute_result"
    }
   ],
   "source": [
    "# Step 3: Define the target sample size\n",
    "target_sample_size = 2450\n",
    "\n",
    "# Step 4: Calculate the sample size for each group (based on its proportion)\n",
    "group_sizes['sample_size'] = np.floor(group_sizes['proportion'] * target_sample_size).astype(int)\n",
    "group_sizes"
   ]
  },
  {
   "cell_type": "code",
   "execution_count": 69,
   "id": "81f4ba23",
   "metadata": {},
   "outputs": [],
   "source": [
    "# Step 5: Merge this sample size information back to the original DataFrame\n",
    "df_2017_05_neu_sample_size = pd.merge(df_2017_05_neu, group_sizes[['year_week', 'LocationName', 'sample_size']], \n",
    "                               on=['year_week', 'LocationName'], how='left')"
   ]
  },
  {
   "cell_type": "code",
   "execution_count": 70,
   "id": "024fe31d",
   "metadata": {},
   "outputs": [
    {
     "name": "stdout",
     "output_type": "stream",
     "text": [
      "Sampled 2395 rows.\n"
     ]
    }
   ],
   "source": [
    "# Step 6: Perform the stratified sampling\n",
    "df_2017_05_neu_sample = df_2017_05_neu_sample_size.groupby(['year_week', 'LocationName']).apply(\n",
    "    lambda group: group.sample(n=group['sample_size'].iloc[0], random_state=42)\n",
    ").reset_index(drop=True)\n",
    "\n",
    "# Step 7: Check the result\n",
    "print(f\"Sampled {len(df_2017_05_neu_sample)} rows.\")\n"
   ]
  },
  {
   "cell_type": "code",
   "execution_count": 71,
   "id": "17d01681",
   "metadata": {},
   "outputs": [],
   "source": [
    "text_gpt_2017_05_neu = '\\n'.join(df_2017_05_neu_sample['text'].astype(str))"
   ]
  },
  {
   "cell_type": "markdown",
   "id": "7b66d9fa",
   "metadata": {},
   "source": [
    "### Prompts and loops"
   ]
  },
  {
   "cell_type": "code",
   "execution_count": 72,
   "id": "55bf6697",
   "metadata": {},
   "outputs": [],
   "source": [
    "prompt_5 = prompt_raw.replace('TWEETS', text_gpt_2017_05_neu)"
   ]
  },
  {
   "cell_type": "code",
   "execution_count": 73,
   "id": "103e0d92",
   "metadata": {
    "scrolled": false
   },
   "outputs": [],
   "source": [
    "response = openai.ChatCompletion.create(\n",
    "    model=\"gpt-4o-mini\",  \n",
    "    messages = [\n",
    "        {\"role\": \"user\", \"content\": prompt_5}\n",
    "    ],\n",
    "    max_tokens=400,  # Maximum number of tokens in the response\n",
    "    temperature=0.7  # Controls the randomness of the output\n",
    ")"
   ]
  },
  {
   "cell_type": "code",
   "execution_count": 74,
   "id": "79b93f11",
   "metadata": {},
   "outputs": [
    {
     "data": {
      "text/plain": [
       "'The text discusses the ongoing vaccination campaigns in Brazil, particularly against influenza (the flu) and foot-and-mouth disease (aftosa). It highlights low participation rates in flu vaccinations, with some regions achieving less than 30% coverage. There are ongoing efforts to encourage vaccination among various groups, including children, pregnant women, and livestock. The campaigns have been extended multiple times due to low demand and are crucial for public health.'"
      ]
     },
     "execution_count": 74,
     "metadata": {},
     "output_type": "execute_result"
    }
   ],
   "source": [
    "response.choices[0].message.content"
   ]
  },
  {
   "cell_type": "code",
   "execution_count": 75,
   "id": "ac2d6935",
   "metadata": {},
   "outputs": [],
   "source": [
    "#summary = []\n",
    "#dataset = []"
   ]
  },
  {
   "cell_type": "code",
   "execution_count": 76,
   "id": "5b29f950",
   "metadata": {},
   "outputs": [],
   "source": [
    "dataset.append(\"2017_05_neutral\")"
   ]
  },
  {
   "cell_type": "code",
   "execution_count": 77,
   "id": "56c1fa8d",
   "metadata": {},
   "outputs": [],
   "source": [
    "summary.append(response.choices[0].message.content)"
   ]
  },
  {
   "cell_type": "code",
   "execution_count": 78,
   "id": "b6afc9cb",
   "metadata": {
    "tags": []
   },
   "outputs": [
    {
     "name": "stdout",
     "output_type": "stream",
     "text": [
      "<class 'pandas.core.frame.DataFrame'>\n",
      "RangeIndex: 5 entries, 0 to 4\n",
      "Data columns (total 2 columns):\n",
      " #   Column   Non-Null Count  Dtype \n",
      "---  ------   --------------  ----- \n",
      " 0   dataset  5 non-null      object\n",
      " 1   summary  5 non-null      object\n",
      "dtypes: object(2)\n",
      "memory usage: 208.0+ bytes\n"
     ]
    }
   ],
   "source": [
    "df_2017_neu = pd.DataFrame(list(zip(dataset, summary)),\n",
    "                            columns = ['dataset', 'summary'])\n",
    "df_2017_neu.info()"
   ]
  },
  {
   "cell_type": "code",
   "execution_count": 79,
   "id": "8c55f685",
   "metadata": {},
   "outputs": [
    {
     "data": {
      "text/html": [
       "<div>\n",
       "<style scoped>\n",
       "    .dataframe tbody tr th:only-of-type {\n",
       "        vertical-align: middle;\n",
       "    }\n",
       "\n",
       "    .dataframe tbody tr th {\n",
       "        vertical-align: top;\n",
       "    }\n",
       "\n",
       "    .dataframe thead th {\n",
       "        text-align: right;\n",
       "    }\n",
       "</style>\n",
       "<table border=\"1\" class=\"dataframe\">\n",
       "  <thead>\n",
       "    <tr style=\"text-align: right;\">\n",
       "      <th></th>\n",
       "      <th>dataset</th>\n",
       "      <th>summary</th>\n",
       "    </tr>\n",
       "  </thead>\n",
       "  <tbody>\n",
       "    <tr>\n",
       "      <th>0</th>\n",
       "      <td>2017_01_neuitive</td>\n",
       "      <td>The sentences discuss the importance and logis...</td>\n",
       "    </tr>\n",
       "    <tr>\n",
       "      <th>1</th>\n",
       "      <td>2017_02_neuitive</td>\n",
       "      <td>The text discusses the importance of vaccinati...</td>\n",
       "    </tr>\n",
       "    <tr>\n",
       "      <th>2</th>\n",
       "      <td>2017_03_neuitive</td>\n",
       "      <td>The text discusses the ongoing vaccination cam...</td>\n",
       "    </tr>\n",
       "    <tr>\n",
       "      <th>3</th>\n",
       "      <td>2017_04_neuitive</td>\n",
       "      <td>The text discusses the vaccination campaigns a...</td>\n",
       "    </tr>\n",
       "    <tr>\n",
       "      <th>4</th>\n",
       "      <td>2017_05_neuitive</td>\n",
       "      <td>The text discusses the ongoing vaccination cam...</td>\n",
       "    </tr>\n",
       "  </tbody>\n",
       "</table>\n",
       "</div>"
      ],
      "text/plain": [
       "            dataset                                            summary\n",
       "0  2017_01_neuitive  The sentences discuss the importance and logis...\n",
       "1  2017_02_neuitive  The text discusses the importance of vaccinati...\n",
       "2  2017_03_neuitive  The text discusses the ongoing vaccination cam...\n",
       "3  2017_04_neuitive  The text discusses the vaccination campaigns a...\n",
       "4  2017_05_neuitive  The text discusses the ongoing vaccination cam..."
      ]
     },
     "execution_count": 79,
     "metadata": {},
     "output_type": "execute_result"
    }
   ],
   "source": [
    "df_2017_neu.tail(14)"
   ]
  },
  {
   "cell_type": "code",
   "execution_count": 80,
   "id": "fdf871d7",
   "metadata": {},
   "outputs": [
    {
     "data": {
      "text/plain": [
       "<OpenAIObject chat.completion id=chatcmpl-AUBhWDcZ93xY6QpMtkvt1VupLYBSH at 0x21596e8ccc0> JSON: {\n",
       "  \"choices\": [\n",
       "    {\n",
       "      \"finish_reason\": \"stop\",\n",
       "      \"index\": 0,\n",
       "      \"logprobs\": null,\n",
       "      \"message\": {\n",
       "        \"content\": \"The text discusses the ongoing vaccination campaigns in Brazil, particularly against influenza (the flu) and foot-and-mouth disease (aftosa). It highlights low participation rates in flu vaccinations, with some regions achieving less than 30% coverage. There are ongoing efforts to encourage vaccination among various groups, including children, pregnant women, and livestock. The campaigns have been extended multiple times due to low demand and are crucial for public health.\",\n",
       "        \"refusal\": null,\n",
       "        \"role\": \"assistant\"\n",
       "      }\n",
       "    }\n",
       "  ],\n",
       "  \"created\": 1731758182,\n",
       "  \"id\": \"chatcmpl-AUBhWDcZ93xY6QpMtkvt1VupLYBSH\",\n",
       "  \"model\": \"gpt-4o-mini-2024-07-18\",\n",
       "  \"object\": \"chat.completion\",\n",
       "  \"system_fingerprint\": \"fp_0ba0d124f1\",\n",
       "  \"usage\": {\n",
       "    \"completion_tokens\": 85,\n",
       "    \"completion_tokens_details\": {\n",
       "      \"accepted_prediction_tokens\": 0,\n",
       "      \"audio_tokens\": 0,\n",
       "      \"reasoning_tokens\": 0,\n",
       "      \"rejected_prediction_tokens\": 0\n",
       "    },\n",
       "    \"prompt_tokens\": 52097,\n",
       "    \"prompt_tokens_details\": {\n",
       "      \"audio_tokens\": 0,\n",
       "      \"cached_tokens\": 0\n",
       "    },\n",
       "    \"total_tokens\": 52182\n",
       "  }\n",
       "}"
      ]
     },
     "execution_count": 80,
     "metadata": {},
     "output_type": "execute_result"
    }
   ],
   "source": [
    "response"
   ]
  },
  {
   "cell_type": "markdown",
   "id": "f2814c4e",
   "metadata": {},
   "source": [
    "## June"
   ]
  },
  {
   "cell_type": "code",
   "execution_count": 81,
   "id": "90c18d7f",
   "metadata": {
    "scrolled": true,
    "tags": []
   },
   "outputs": [
    {
     "name": "stdout",
     "output_type": "stream",
     "text": [
      "<class 'pandas.core.frame.DataFrame'>\n",
      "RangeIndex: 6673 entries, 0 to 6672\n",
      "Data columns (total 53 columns):\n",
      " #   Column                  Non-Null Count  Dtype  \n",
      "---  ------                  --------------  -----  \n",
      " 0   index                   6673 non-null   int64  \n",
      " 1   LocationCode            6673 non-null   object \n",
      " 2   LocationName            6673 non-null   object \n",
      " 3   StatesCode              6673 non-null   object \n",
      " 4   ...4                    6673 non-null   int64  \n",
      " 5   id                      6673 non-null   float64\n",
      " 6   text                    6673 non-null   object \n",
      " 7   label                   6673 non-null   object \n",
      " 8   in_reply_to_status_id   507 non-null    float64\n",
      " 9   in_reply_to_user_id     540 non-null    float64\n",
      " 10  quoted_user_id          138 non-null    float64\n",
      " 11  quoted_status_id        138 non-null    float64\n",
      " 12  retweeted_user_id       1670 non-null   float64\n",
      " 13  retweeted_status_id     1670 non-null   float64\n",
      " 14  created_at              6673 non-null   object \n",
      " 15  entities.user_mentions  2318 non-null   object \n",
      " 16  user.id                 6673 non-null   float64\n",
      " 17  user.screen_name        6673 non-null   object \n",
      " 18  user.name               6673 non-null   object \n",
      " 19  user.description        6007 non-null   object \n",
      " 20  user.timezone           0 non-null      float64\n",
      " 21  user.location           6585 non-null   object \n",
      " 22  user.num_followers      6673 non-null   int64  \n",
      " 23  user.num_following      6673 non-null   int64  \n",
      " 24  user.created_at         6673 non-null   object \n",
      " 25  user.statuses_count     6673 non-null   int64  \n",
      " 26  user.is_verified        6673 non-null   bool   \n",
      " 27  lang                    6673 non-null   object \n",
      " 28  token_count             6673 non-null   int64  \n",
      " 29  is_retweet              6673 non-null   bool   \n",
      " 30  has_quote               6673 non-null   bool   \n",
      " 31  is_reply                6673 non-null   bool   \n",
      " 32  contains_keywords       6673 non-null   bool   \n",
      " 33  longitude               6673 non-null   float64\n",
      " 34  latitude                6673 non-null   float64\n",
      " 35  country_code            6673 non-null   object \n",
      " 36  geoname_id              6191 non-null   float64\n",
      " 37  location_type           6673 non-null   object \n",
      " 38  geo_type                6673 non-null   int64  \n",
      " 39  region                  6673 non-null   object \n",
      " 40  subregion               6673 non-null   object \n",
      " 41  num_quotes              6673 non-null   int64  \n",
      " 42  num_replies             6673 non-null   int64  \n",
      " 43  num_retweets            6673 non-null   int64  \n",
      " 44  sent_gpt                6673 non-null   object \n",
      " 45  gpt_sent_presence       6673 non-null   int64  \n",
      " 46  cleaned_text_lem        6673 non-null   object \n",
      " 47  cleaned_text            6673 non-null   object \n",
      " 48  month                   6673 non-null   int64  \n",
      " 49  year                    6673 non-null   int64  \n",
      " 50  week                    6673 non-null   int64  \n",
      " 51  year_month              6673 non-null   object \n",
      " 52  year_week               6673 non-null   object \n",
      "dtypes: bool(5), float64(12), int64(14), object(22)\n",
      "memory usage: 2.5+ MB\n"
     ]
    }
   ],
   "source": [
    "# Get monthly data\n",
    "df_2017_06_neu = pd.read_csv('../data/local/df_neu_2017-06.csv').reset_index()\n",
    "df_2017_06_neu.info()"
   ]
  },
  {
   "cell_type": "markdown",
   "id": "ad5ba4b0",
   "metadata": {},
   "source": [
    "### Representative sample based on week and location"
   ]
  },
  {
   "cell_type": "code",
   "execution_count": 82,
   "id": "3131b989",
   "metadata": {},
   "outputs": [
    {
     "data": {
      "text/html": [
       "<div>\n",
       "<style scoped>\n",
       "    .dataframe tbody tr th:only-of-type {\n",
       "        vertical-align: middle;\n",
       "    }\n",
       "\n",
       "    .dataframe tbody tr th {\n",
       "        vertical-align: top;\n",
       "    }\n",
       "\n",
       "    .dataframe thead th {\n",
       "        text-align: right;\n",
       "    }\n",
       "</style>\n",
       "<table border=\"1\" class=\"dataframe\">\n",
       "  <thead>\n",
       "    <tr style=\"text-align: right;\">\n",
       "      <th></th>\n",
       "      <th>year_week</th>\n",
       "      <th>LocationName</th>\n",
       "      <th>group_size</th>\n",
       "      <th>proportion</th>\n",
       "    </tr>\n",
       "  </thead>\n",
       "  <tbody>\n",
       "    <tr>\n",
       "      <th>0</th>\n",
       "      <td>2017-w22</td>\n",
       "      <td>Acre</td>\n",
       "      <td>3</td>\n",
       "      <td>0.000450</td>\n",
       "    </tr>\n",
       "    <tr>\n",
       "      <th>1</th>\n",
       "      <td>2017-w22</td>\n",
       "      <td>Alagoas</td>\n",
       "      <td>22</td>\n",
       "      <td>0.003297</td>\n",
       "    </tr>\n",
       "    <tr>\n",
       "      <th>2</th>\n",
       "      <td>2017-w22</td>\n",
       "      <td>Amapa</td>\n",
       "      <td>12</td>\n",
       "      <td>0.001798</td>\n",
       "    </tr>\n",
       "    <tr>\n",
       "      <th>3</th>\n",
       "      <td>2017-w22</td>\n",
       "      <td>Amazonas</td>\n",
       "      <td>19</td>\n",
       "      <td>0.002847</td>\n",
       "    </tr>\n",
       "    <tr>\n",
       "      <th>4</th>\n",
       "      <td>2017-w22</td>\n",
       "      <td>Bahia</td>\n",
       "      <td>40</td>\n",
       "      <td>0.005994</td>\n",
       "    </tr>\n",
       "    <tr>\n",
       "      <th>...</th>\n",
       "      <td>...</td>\n",
       "      <td>...</td>\n",
       "      <td>...</td>\n",
       "      <td>...</td>\n",
       "    </tr>\n",
       "    <tr>\n",
       "      <th>121</th>\n",
       "      <td>2017-w26</td>\n",
       "      <td>Roraima</td>\n",
       "      <td>2</td>\n",
       "      <td>0.000300</td>\n",
       "    </tr>\n",
       "    <tr>\n",
       "      <th>122</th>\n",
       "      <td>2017-w26</td>\n",
       "      <td>Santa Catarina</td>\n",
       "      <td>28</td>\n",
       "      <td>0.004196</td>\n",
       "    </tr>\n",
       "    <tr>\n",
       "      <th>123</th>\n",
       "      <td>2017-w26</td>\n",
       "      <td>Sao Paulo</td>\n",
       "      <td>144</td>\n",
       "      <td>0.021579</td>\n",
       "    </tr>\n",
       "    <tr>\n",
       "      <th>124</th>\n",
       "      <td>2017-w26</td>\n",
       "      <td>Sergipe</td>\n",
       "      <td>3</td>\n",
       "      <td>0.000450</td>\n",
       "    </tr>\n",
       "    <tr>\n",
       "      <th>125</th>\n",
       "      <td>2017-w26</td>\n",
       "      <td>Tocantins</td>\n",
       "      <td>5</td>\n",
       "      <td>0.000749</td>\n",
       "    </tr>\n",
       "  </tbody>\n",
       "</table>\n",
       "<p>126 rows × 4 columns</p>\n",
       "</div>"
      ],
      "text/plain": [
       "    year_week    LocationName  group_size  proportion\n",
       "0    2017-w22            Acre           3    0.000450\n",
       "1    2017-w22         Alagoas          22    0.003297\n",
       "2    2017-w22           Amapa          12    0.001798\n",
       "3    2017-w22        Amazonas          19    0.002847\n",
       "4    2017-w22           Bahia          40    0.005994\n",
       "..        ...             ...         ...         ...\n",
       "121  2017-w26         Roraima           2    0.000300\n",
       "122  2017-w26  Santa Catarina          28    0.004196\n",
       "123  2017-w26       Sao Paulo         144    0.021579\n",
       "124  2017-w26         Sergipe           3    0.000450\n",
       "125  2017-w26       Tocantins           5    0.000749\n",
       "\n",
       "[126 rows x 4 columns]"
      ]
     },
     "execution_count": 82,
     "metadata": {},
     "output_type": "execute_result"
    }
   ],
   "source": [
    "# Step 1: Calculate the size of each group (year_week, LocationName)\n",
    "group_sizes = df_2017_06_neu.groupby(['year_week', 'LocationName']).size().reset_index(name='group_size')\n",
    "\n",
    "# Step 2: Calculate the proportion of each group in the dataset\n",
    "total_rows = len(df_2017_06_neu)\n",
    "group_sizes['proportion'] = group_sizes['group_size'] / total_rows\n",
    "group_sizes"
   ]
  },
  {
   "cell_type": "code",
   "execution_count": 83,
   "id": "14eb60c4",
   "metadata": {},
   "outputs": [
    {
     "data": {
      "text/html": [
       "<div>\n",
       "<style scoped>\n",
       "    .dataframe tbody tr th:only-of-type {\n",
       "        vertical-align: middle;\n",
       "    }\n",
       "\n",
       "    .dataframe tbody tr th {\n",
       "        vertical-align: top;\n",
       "    }\n",
       "\n",
       "    .dataframe thead th {\n",
       "        text-align: right;\n",
       "    }\n",
       "</style>\n",
       "<table border=\"1\" class=\"dataframe\">\n",
       "  <thead>\n",
       "    <tr style=\"text-align: right;\">\n",
       "      <th></th>\n",
       "      <th>year_week</th>\n",
       "      <th>LocationName</th>\n",
       "      <th>group_size</th>\n",
       "      <th>proportion</th>\n",
       "      <th>sample_size</th>\n",
       "    </tr>\n",
       "  </thead>\n",
       "  <tbody>\n",
       "    <tr>\n",
       "      <th>0</th>\n",
       "      <td>2017-w22</td>\n",
       "      <td>Acre</td>\n",
       "      <td>3</td>\n",
       "      <td>0.000450</td>\n",
       "      <td>1</td>\n",
       "    </tr>\n",
       "    <tr>\n",
       "      <th>1</th>\n",
       "      <td>2017-w22</td>\n",
       "      <td>Alagoas</td>\n",
       "      <td>22</td>\n",
       "      <td>0.003297</td>\n",
       "      <td>8</td>\n",
       "    </tr>\n",
       "    <tr>\n",
       "      <th>2</th>\n",
       "      <td>2017-w22</td>\n",
       "      <td>Amapa</td>\n",
       "      <td>12</td>\n",
       "      <td>0.001798</td>\n",
       "      <td>4</td>\n",
       "    </tr>\n",
       "    <tr>\n",
       "      <th>3</th>\n",
       "      <td>2017-w22</td>\n",
       "      <td>Amazonas</td>\n",
       "      <td>19</td>\n",
       "      <td>0.002847</td>\n",
       "      <td>6</td>\n",
       "    </tr>\n",
       "    <tr>\n",
       "      <th>4</th>\n",
       "      <td>2017-w22</td>\n",
       "      <td>Bahia</td>\n",
       "      <td>40</td>\n",
       "      <td>0.005994</td>\n",
       "      <td>14</td>\n",
       "    </tr>\n",
       "    <tr>\n",
       "      <th>...</th>\n",
       "      <td>...</td>\n",
       "      <td>...</td>\n",
       "      <td>...</td>\n",
       "      <td>...</td>\n",
       "      <td>...</td>\n",
       "    </tr>\n",
       "    <tr>\n",
       "      <th>121</th>\n",
       "      <td>2017-w26</td>\n",
       "      <td>Roraima</td>\n",
       "      <td>2</td>\n",
       "      <td>0.000300</td>\n",
       "      <td>0</td>\n",
       "    </tr>\n",
       "    <tr>\n",
       "      <th>122</th>\n",
       "      <td>2017-w26</td>\n",
       "      <td>Santa Catarina</td>\n",
       "      <td>28</td>\n",
       "      <td>0.004196</td>\n",
       "      <td>10</td>\n",
       "    </tr>\n",
       "    <tr>\n",
       "      <th>123</th>\n",
       "      <td>2017-w26</td>\n",
       "      <td>Sao Paulo</td>\n",
       "      <td>144</td>\n",
       "      <td>0.021579</td>\n",
       "      <td>52</td>\n",
       "    </tr>\n",
       "    <tr>\n",
       "      <th>124</th>\n",
       "      <td>2017-w26</td>\n",
       "      <td>Sergipe</td>\n",
       "      <td>3</td>\n",
       "      <td>0.000450</td>\n",
       "      <td>1</td>\n",
       "    </tr>\n",
       "    <tr>\n",
       "      <th>125</th>\n",
       "      <td>2017-w26</td>\n",
       "      <td>Tocantins</td>\n",
       "      <td>5</td>\n",
       "      <td>0.000749</td>\n",
       "      <td>1</td>\n",
       "    </tr>\n",
       "  </tbody>\n",
       "</table>\n",
       "<p>126 rows × 5 columns</p>\n",
       "</div>"
      ],
      "text/plain": [
       "    year_week    LocationName  group_size  proportion  sample_size\n",
       "0    2017-w22            Acre           3    0.000450            1\n",
       "1    2017-w22         Alagoas          22    0.003297            8\n",
       "2    2017-w22           Amapa          12    0.001798            4\n",
       "3    2017-w22        Amazonas          19    0.002847            6\n",
       "4    2017-w22           Bahia          40    0.005994           14\n",
       "..        ...             ...         ...         ...          ...\n",
       "121  2017-w26         Roraima           2    0.000300            0\n",
       "122  2017-w26  Santa Catarina          28    0.004196           10\n",
       "123  2017-w26       Sao Paulo         144    0.021579           52\n",
       "124  2017-w26         Sergipe           3    0.000450            1\n",
       "125  2017-w26       Tocantins           5    0.000749            1\n",
       "\n",
       "[126 rows x 5 columns]"
      ]
     },
     "execution_count": 83,
     "metadata": {},
     "output_type": "execute_result"
    }
   ],
   "source": [
    "# Step 3: Define the target sample size\n",
    "target_sample_size = 2450\n",
    "\n",
    "# Step 4: Calculate the sample size for each group (based on its proportion)\n",
    "group_sizes['sample_size'] = np.floor(group_sizes['proportion'] * target_sample_size).astype(int)\n",
    "group_sizes"
   ]
  },
  {
   "cell_type": "code",
   "execution_count": 84,
   "id": "f737f753",
   "metadata": {},
   "outputs": [],
   "source": [
    "# Step 5: Merge this sample size information back to the original DataFrame\n",
    "df_2017_06_neu_sample_size = pd.merge(df_2017_06_neu, group_sizes[['year_week', 'LocationName', 'sample_size']], \n",
    "                               on=['year_week', 'LocationName'], how='left')"
   ]
  },
  {
   "cell_type": "code",
   "execution_count": 85,
   "id": "e6be4f44",
   "metadata": {},
   "outputs": [
    {
     "name": "stdout",
     "output_type": "stream",
     "text": [
      "Sampled 2390 rows.\n"
     ]
    }
   ],
   "source": [
    "# Step 6: Perform the stratified sampling\n",
    "df_2017_06_neu_sample = df_2017_06_neu_sample_size.groupby(['year_week', 'LocationName']).apply(\n",
    "    lambda group: group.sample(n=group['sample_size'].iloc[0], random_state=42)\n",
    ").reset_index(drop=True)\n",
    "\n",
    "# Step 7: Check the result\n",
    "print(f\"Sampled {len(df_2017_06_neu_sample)} rows.\")\n"
   ]
  },
  {
   "cell_type": "code",
   "execution_count": 86,
   "id": "46e283ca",
   "metadata": {},
   "outputs": [],
   "source": [
    "text_gpt_2017_06_neu = '\\n'.join(df_2017_06_neu_sample['text'].astype(str))"
   ]
  },
  {
   "cell_type": "markdown",
   "id": "318bee7a",
   "metadata": {},
   "source": [
    "### Prompts and loops"
   ]
  },
  {
   "cell_type": "code",
   "execution_count": 87,
   "id": "be18c816",
   "metadata": {},
   "outputs": [],
   "source": [
    "prompt_6 = prompt_raw.replace('TWEETS', text_gpt_2017_06_neu)"
   ]
  },
  {
   "cell_type": "code",
   "execution_count": 88,
   "id": "96369898",
   "metadata": {
    "scrolled": false
   },
   "outputs": [],
   "source": [
    "response = openai.ChatCompletion.create(\n",
    "    model=\"gpt-4o-mini\",  \n",
    "    messages = [\n",
    "        {\"role\": \"user\", \"content\": prompt_6}\n",
    "    ],\n",
    "    max_tokens=400,  # Maximum number of tokens in the response\n",
    "    temperature=0.7  # Controls the randomness of the output\n",
    ")"
   ]
  },
  {
   "cell_type": "code",
   "execution_count": 89,
   "id": "b829d3e9",
   "metadata": {},
   "outputs": [
    {
     "data": {
      "text/plain": [
       "'The text discusses various vaccination campaigns in Brazil, focusing primarily on the flu vaccine and its availability to the general population. The government has extended the vaccination periods due to low uptake and emphasizes the importance of immunization against diseases like H1N1 and yellow fever. Specific campaigns for foot-and-mouth disease vaccination for livestock and HPV vaccination for boys and girls are also mentioned. The texts reflect public reactions, experiences, and challenges related to vaccination.'"
      ]
     },
     "execution_count": 89,
     "metadata": {},
     "output_type": "execute_result"
    }
   ],
   "source": [
    "response.choices[0].message.content"
   ]
  },
  {
   "cell_type": "code",
   "execution_count": 90,
   "id": "60c71c4c",
   "metadata": {},
   "outputs": [],
   "source": [
    "#summary = []\n",
    "#dataset = []"
   ]
  },
  {
   "cell_type": "code",
   "execution_count": 91,
   "id": "92dcf233",
   "metadata": {},
   "outputs": [],
   "source": [
    "dataset.append(\"2017_06_neutral\")"
   ]
  },
  {
   "cell_type": "code",
   "execution_count": 92,
   "id": "d78b7b6b",
   "metadata": {},
   "outputs": [],
   "source": [
    "summary.append(response.choices[0].message.content)"
   ]
  },
  {
   "cell_type": "code",
   "execution_count": 93,
   "id": "efcf0103",
   "metadata": {
    "tags": []
   },
   "outputs": [
    {
     "name": "stdout",
     "output_type": "stream",
     "text": [
      "<class 'pandas.core.frame.DataFrame'>\n",
      "RangeIndex: 6 entries, 0 to 5\n",
      "Data columns (total 2 columns):\n",
      " #   Column   Non-Null Count  Dtype \n",
      "---  ------   --------------  ----- \n",
      " 0   dataset  6 non-null      object\n",
      " 1   summary  6 non-null      object\n",
      "dtypes: object(2)\n",
      "memory usage: 224.0+ bytes\n"
     ]
    }
   ],
   "source": [
    "df_2017_neu = pd.DataFrame(list(zip(dataset, summary)),\n",
    "                            columns = ['dataset', 'summary'])\n",
    "df_2017_neu.info()"
   ]
  },
  {
   "cell_type": "code",
   "execution_count": 94,
   "id": "39a785ae",
   "metadata": {},
   "outputs": [
    {
     "data": {
      "text/html": [
       "<div>\n",
       "<style scoped>\n",
       "    .dataframe tbody tr th:only-of-type {\n",
       "        vertical-align: middle;\n",
       "    }\n",
       "\n",
       "    .dataframe tbody tr th {\n",
       "        vertical-align: top;\n",
       "    }\n",
       "\n",
       "    .dataframe thead th {\n",
       "        text-align: right;\n",
       "    }\n",
       "</style>\n",
       "<table border=\"1\" class=\"dataframe\">\n",
       "  <thead>\n",
       "    <tr style=\"text-align: right;\">\n",
       "      <th></th>\n",
       "      <th>dataset</th>\n",
       "      <th>summary</th>\n",
       "    </tr>\n",
       "  </thead>\n",
       "  <tbody>\n",
       "    <tr>\n",
       "      <th>0</th>\n",
       "      <td>2017_01_neuitive</td>\n",
       "      <td>The sentences discuss the importance and logis...</td>\n",
       "    </tr>\n",
       "    <tr>\n",
       "      <th>1</th>\n",
       "      <td>2017_02_neuitive</td>\n",
       "      <td>The text discusses the importance of vaccinati...</td>\n",
       "    </tr>\n",
       "    <tr>\n",
       "      <th>2</th>\n",
       "      <td>2017_03_neuitive</td>\n",
       "      <td>The text discusses the ongoing vaccination cam...</td>\n",
       "    </tr>\n",
       "    <tr>\n",
       "      <th>3</th>\n",
       "      <td>2017_04_neuitive</td>\n",
       "      <td>The text discusses the vaccination campaigns a...</td>\n",
       "    </tr>\n",
       "    <tr>\n",
       "      <th>4</th>\n",
       "      <td>2017_05_neuitive</td>\n",
       "      <td>The text discusses the ongoing vaccination cam...</td>\n",
       "    </tr>\n",
       "    <tr>\n",
       "      <th>5</th>\n",
       "      <td>2017_06_neuitive</td>\n",
       "      <td>The text discusses various vaccination campaig...</td>\n",
       "    </tr>\n",
       "  </tbody>\n",
       "</table>\n",
       "</div>"
      ],
      "text/plain": [
       "            dataset                                            summary\n",
       "0  2017_01_neuitive  The sentences discuss the importance and logis...\n",
       "1  2017_02_neuitive  The text discusses the importance of vaccinati...\n",
       "2  2017_03_neuitive  The text discusses the ongoing vaccination cam...\n",
       "3  2017_04_neuitive  The text discusses the vaccination campaigns a...\n",
       "4  2017_05_neuitive  The text discusses the ongoing vaccination cam...\n",
       "5  2017_06_neuitive  The text discusses various vaccination campaig..."
      ]
     },
     "execution_count": 94,
     "metadata": {},
     "output_type": "execute_result"
    }
   ],
   "source": [
    "df_2017_neu.tail(14)"
   ]
  },
  {
   "cell_type": "code",
   "execution_count": 95,
   "id": "b86671a5",
   "metadata": {},
   "outputs": [
    {
     "data": {
      "text/plain": [
       "<OpenAIObject chat.completion id=chatcmpl-AUBhhCEWrWDMtMkG5kMABEX8Hy4mA at 0x215978a0220> JSON: {\n",
       "  \"choices\": [\n",
       "    {\n",
       "      \"finish_reason\": \"stop\",\n",
       "      \"index\": 0,\n",
       "      \"logprobs\": null,\n",
       "      \"message\": {\n",
       "        \"content\": \"The text discusses various vaccination campaigns in Brazil, focusing primarily on the flu vaccine and its availability to the general population. The government has extended the vaccination periods due to low uptake and emphasizes the importance of immunization against diseases like H1N1 and yellow fever. Specific campaigns for foot-and-mouth disease vaccination for livestock and HPV vaccination for boys and girls are also mentioned. The texts reflect public reactions, experiences, and challenges related to vaccination.\",\n",
       "        \"refusal\": null,\n",
       "        \"role\": \"assistant\"\n",
       "      }\n",
       "    }\n",
       "  ],\n",
       "  \"created\": 1731758193,\n",
       "  \"id\": \"chatcmpl-AUBhhCEWrWDMtMkG5kMABEX8Hy4mA\",\n",
       "  \"model\": \"gpt-4o-mini-2024-07-18\",\n",
       "  \"object\": \"chat.completion\",\n",
       "  \"system_fingerprint\": \"fp_0ba0d124f1\",\n",
       "  \"usage\": {\n",
       "    \"completion_tokens\": 87,\n",
       "    \"completion_tokens_details\": {\n",
       "      \"accepted_prediction_tokens\": 0,\n",
       "      \"audio_tokens\": 0,\n",
       "      \"reasoning_tokens\": 0,\n",
       "      \"rejected_prediction_tokens\": 0\n",
       "    },\n",
       "    \"prompt_tokens\": 49394,\n",
       "    \"prompt_tokens_details\": {\n",
       "      \"audio_tokens\": 0,\n",
       "      \"cached_tokens\": 0\n",
       "    },\n",
       "    \"total_tokens\": 49481\n",
       "  }\n",
       "}"
      ]
     },
     "execution_count": 95,
     "metadata": {},
     "output_type": "execute_result"
    }
   ],
   "source": [
    "response"
   ]
  },
  {
   "cell_type": "markdown",
   "id": "1b5c5a9b",
   "metadata": {},
   "source": [
    "## July"
   ]
  },
  {
   "cell_type": "code",
   "execution_count": 96,
   "id": "5096b4ba",
   "metadata": {
    "scrolled": true,
    "tags": []
   },
   "outputs": [
    {
     "name": "stdout",
     "output_type": "stream",
     "text": [
      "<class 'pandas.core.frame.DataFrame'>\n",
      "RangeIndex: 3022 entries, 0 to 3021\n",
      "Data columns (total 53 columns):\n",
      " #   Column                  Non-Null Count  Dtype  \n",
      "---  ------                  --------------  -----  \n",
      " 0   index                   3022 non-null   int64  \n",
      " 1   LocationCode            3022 non-null   object \n",
      " 2   LocationName            3022 non-null   object \n",
      " 3   StatesCode              3022 non-null   object \n",
      " 4   ...4                    3022 non-null   int64  \n",
      " 5   id                      3022 non-null   float64\n",
      " 6   text                    3022 non-null   object \n",
      " 7   label                   3022 non-null   object \n",
      " 8   in_reply_to_status_id   346 non-null    float64\n",
      " 9   in_reply_to_user_id     363 non-null    float64\n",
      " 10  quoted_user_id          69 non-null     float64\n",
      " 11  quoted_status_id        69 non-null     float64\n",
      " 12  retweeted_user_id       503 non-null    float64\n",
      " 13  retweeted_status_id     503 non-null    float64\n",
      " 14  created_at              3022 non-null   object \n",
      " 15  entities.user_mentions  928 non-null    object \n",
      " 16  user.id                 3022 non-null   float64\n",
      " 17  user.screen_name        3022 non-null   object \n",
      " 18  user.name               3022 non-null   object \n",
      " 19  user.description        2708 non-null   object \n",
      " 20  user.timezone           0 non-null      float64\n",
      " 21  user.location           2976 non-null   object \n",
      " 22  user.num_followers      3022 non-null   int64  \n",
      " 23  user.num_following      3022 non-null   int64  \n",
      " 24  user.created_at         3022 non-null   object \n",
      " 25  user.statuses_count     3022 non-null   int64  \n",
      " 26  user.is_verified        3022 non-null   bool   \n",
      " 27  lang                    3022 non-null   object \n",
      " 28  token_count             3022 non-null   int64  \n",
      " 29  is_retweet              3022 non-null   bool   \n",
      " 30  has_quote               3022 non-null   bool   \n",
      " 31  is_reply                3022 non-null   bool   \n",
      " 32  contains_keywords       3022 non-null   bool   \n",
      " 33  longitude               3022 non-null   float64\n",
      " 34  latitude                3022 non-null   float64\n",
      " 35  country_code            3022 non-null   object \n",
      " 36  geoname_id              2689 non-null   float64\n",
      " 37  location_type           3022 non-null   object \n",
      " 38  geo_type                3022 non-null   int64  \n",
      " 39  region                  3022 non-null   object \n",
      " 40  subregion               3022 non-null   object \n",
      " 41  num_quotes              3022 non-null   int64  \n",
      " 42  num_replies             3022 non-null   int64  \n",
      " 43  num_retweets            3022 non-null   int64  \n",
      " 44  sent_gpt                3022 non-null   object \n",
      " 45  gpt_sent_presence       3022 non-null   int64  \n",
      " 46  cleaned_text_lem        3022 non-null   object \n",
      " 47  cleaned_text            3022 non-null   object \n",
      " 48  month                   3022 non-null   int64  \n",
      " 49  year                    3022 non-null   int64  \n",
      " 50  week                    3022 non-null   int64  \n",
      " 51  year_month              3022 non-null   object \n",
      " 52  year_week               3022 non-null   object \n",
      "dtypes: bool(5), float64(12), int64(14), object(22)\n",
      "memory usage: 1.1+ MB\n"
     ]
    }
   ],
   "source": [
    "# Get monthly data\n",
    "df_2017_07_neu = pd.read_csv('../data/local/df_neu_2017-07.csv').reset_index()\n",
    "df_2017_07_neu.info()"
   ]
  },
  {
   "cell_type": "markdown",
   "id": "bdd1752b",
   "metadata": {},
   "source": [
    "### Representative sample based on week and location"
   ]
  },
  {
   "cell_type": "code",
   "execution_count": 97,
   "id": "e62e79b6",
   "metadata": {},
   "outputs": [
    {
     "data": {
      "text/html": [
       "<div>\n",
       "<style scoped>\n",
       "    .dataframe tbody tr th:only-of-type {\n",
       "        vertical-align: middle;\n",
       "    }\n",
       "\n",
       "    .dataframe tbody tr th {\n",
       "        vertical-align: top;\n",
       "    }\n",
       "\n",
       "    .dataframe thead th {\n",
       "        text-align: right;\n",
       "    }\n",
       "</style>\n",
       "<table border=\"1\" class=\"dataframe\">\n",
       "  <thead>\n",
       "    <tr style=\"text-align: right;\">\n",
       "      <th></th>\n",
       "      <th>year_week</th>\n",
       "      <th>LocationName</th>\n",
       "      <th>group_size</th>\n",
       "      <th>proportion</th>\n",
       "    </tr>\n",
       "  </thead>\n",
       "  <tbody>\n",
       "    <tr>\n",
       "      <th>0</th>\n",
       "      <td>2017-w26</td>\n",
       "      <td>Alagoas</td>\n",
       "      <td>1</td>\n",
       "      <td>0.000331</td>\n",
       "    </tr>\n",
       "    <tr>\n",
       "      <th>1</th>\n",
       "      <td>2017-w26</td>\n",
       "      <td>Amazonas</td>\n",
       "      <td>1</td>\n",
       "      <td>0.000331</td>\n",
       "    </tr>\n",
       "    <tr>\n",
       "      <th>2</th>\n",
       "      <td>2017-w26</td>\n",
       "      <td>Bahia</td>\n",
       "      <td>11</td>\n",
       "      <td>0.003640</td>\n",
       "    </tr>\n",
       "    <tr>\n",
       "      <th>3</th>\n",
       "      <td>2017-w26</td>\n",
       "      <td>Ceara</td>\n",
       "      <td>2</td>\n",
       "      <td>0.000662</td>\n",
       "    </tr>\n",
       "    <tr>\n",
       "      <th>4</th>\n",
       "      <td>2017-w26</td>\n",
       "      <td>Distrito Federal</td>\n",
       "      <td>3</td>\n",
       "      <td>0.000993</td>\n",
       "    </tr>\n",
       "    <tr>\n",
       "      <th>...</th>\n",
       "      <td>...</td>\n",
       "      <td>...</td>\n",
       "      <td>...</td>\n",
       "      <td>...</td>\n",
       "    </tr>\n",
       "    <tr>\n",
       "      <th>127</th>\n",
       "      <td>2017-w31</td>\n",
       "      <td>Rio De Janeiro</td>\n",
       "      <td>2</td>\n",
       "      <td>0.000662</td>\n",
       "    </tr>\n",
       "    <tr>\n",
       "      <th>128</th>\n",
       "      <td>2017-w31</td>\n",
       "      <td>Rio Grande Do Sul</td>\n",
       "      <td>5</td>\n",
       "      <td>0.001655</td>\n",
       "    </tr>\n",
       "    <tr>\n",
       "      <th>129</th>\n",
       "      <td>2017-w31</td>\n",
       "      <td>Santa Catarina</td>\n",
       "      <td>2</td>\n",
       "      <td>0.000662</td>\n",
       "    </tr>\n",
       "    <tr>\n",
       "      <th>130</th>\n",
       "      <td>2017-w31</td>\n",
       "      <td>Sao Paulo</td>\n",
       "      <td>23</td>\n",
       "      <td>0.007611</td>\n",
       "    </tr>\n",
       "    <tr>\n",
       "      <th>131</th>\n",
       "      <td>2017-w31</td>\n",
       "      <td>Tocantins</td>\n",
       "      <td>2</td>\n",
       "      <td>0.000662</td>\n",
       "    </tr>\n",
       "  </tbody>\n",
       "</table>\n",
       "<p>132 rows × 4 columns</p>\n",
       "</div>"
      ],
      "text/plain": [
       "    year_week       LocationName  group_size  proportion\n",
       "0    2017-w26            Alagoas           1    0.000331\n",
       "1    2017-w26           Amazonas           1    0.000331\n",
       "2    2017-w26              Bahia          11    0.003640\n",
       "3    2017-w26              Ceara           2    0.000662\n",
       "4    2017-w26   Distrito Federal           3    0.000993\n",
       "..        ...                ...         ...         ...\n",
       "127  2017-w31     Rio De Janeiro           2    0.000662\n",
       "128  2017-w31  Rio Grande Do Sul           5    0.001655\n",
       "129  2017-w31     Santa Catarina           2    0.000662\n",
       "130  2017-w31          Sao Paulo          23    0.007611\n",
       "131  2017-w31          Tocantins           2    0.000662\n",
       "\n",
       "[132 rows x 4 columns]"
      ]
     },
     "execution_count": 97,
     "metadata": {},
     "output_type": "execute_result"
    }
   ],
   "source": [
    "# Step 1: Calculate the size of each group (year_week, LocationName)\n",
    "group_sizes = df_2017_07_neu.groupby(['year_week', 'LocationName']).size().reset_index(name='group_size')\n",
    "\n",
    "# Step 2: Calculate the proportion of each group in the dataset\n",
    "total_rows = len(df_2017_07_neu)\n",
    "group_sizes['proportion'] = group_sizes['group_size'] / total_rows\n",
    "group_sizes"
   ]
  },
  {
   "cell_type": "code",
   "execution_count": 98,
   "id": "97b60716",
   "metadata": {},
   "outputs": [
    {
     "data": {
      "text/html": [
       "<div>\n",
       "<style scoped>\n",
       "    .dataframe tbody tr th:only-of-type {\n",
       "        vertical-align: middle;\n",
       "    }\n",
       "\n",
       "    .dataframe tbody tr th {\n",
       "        vertical-align: top;\n",
       "    }\n",
       "\n",
       "    .dataframe thead th {\n",
       "        text-align: right;\n",
       "    }\n",
       "</style>\n",
       "<table border=\"1\" class=\"dataframe\">\n",
       "  <thead>\n",
       "    <tr style=\"text-align: right;\">\n",
       "      <th></th>\n",
       "      <th>year_week</th>\n",
       "      <th>LocationName</th>\n",
       "      <th>group_size</th>\n",
       "      <th>proportion</th>\n",
       "      <th>sample_size</th>\n",
       "    </tr>\n",
       "  </thead>\n",
       "  <tbody>\n",
       "    <tr>\n",
       "      <th>0</th>\n",
       "      <td>2017-w26</td>\n",
       "      <td>Alagoas</td>\n",
       "      <td>1</td>\n",
       "      <td>0.000331</td>\n",
       "      <td>0</td>\n",
       "    </tr>\n",
       "    <tr>\n",
       "      <th>1</th>\n",
       "      <td>2017-w26</td>\n",
       "      <td>Amazonas</td>\n",
       "      <td>1</td>\n",
       "      <td>0.000331</td>\n",
       "      <td>0</td>\n",
       "    </tr>\n",
       "    <tr>\n",
       "      <th>2</th>\n",
       "      <td>2017-w26</td>\n",
       "      <td>Bahia</td>\n",
       "      <td>11</td>\n",
       "      <td>0.003640</td>\n",
       "      <td>8</td>\n",
       "    </tr>\n",
       "    <tr>\n",
       "      <th>3</th>\n",
       "      <td>2017-w26</td>\n",
       "      <td>Ceara</td>\n",
       "      <td>2</td>\n",
       "      <td>0.000662</td>\n",
       "      <td>1</td>\n",
       "    </tr>\n",
       "    <tr>\n",
       "      <th>4</th>\n",
       "      <td>2017-w26</td>\n",
       "      <td>Distrito Federal</td>\n",
       "      <td>3</td>\n",
       "      <td>0.000993</td>\n",
       "      <td>2</td>\n",
       "    </tr>\n",
       "    <tr>\n",
       "      <th>...</th>\n",
       "      <td>...</td>\n",
       "      <td>...</td>\n",
       "      <td>...</td>\n",
       "      <td>...</td>\n",
       "      <td>...</td>\n",
       "    </tr>\n",
       "    <tr>\n",
       "      <th>127</th>\n",
       "      <td>2017-w31</td>\n",
       "      <td>Rio De Janeiro</td>\n",
       "      <td>2</td>\n",
       "      <td>0.000662</td>\n",
       "      <td>1</td>\n",
       "    </tr>\n",
       "    <tr>\n",
       "      <th>128</th>\n",
       "      <td>2017-w31</td>\n",
       "      <td>Rio Grande Do Sul</td>\n",
       "      <td>5</td>\n",
       "      <td>0.001655</td>\n",
       "      <td>4</td>\n",
       "    </tr>\n",
       "    <tr>\n",
       "      <th>129</th>\n",
       "      <td>2017-w31</td>\n",
       "      <td>Santa Catarina</td>\n",
       "      <td>2</td>\n",
       "      <td>0.000662</td>\n",
       "      <td>1</td>\n",
       "    </tr>\n",
       "    <tr>\n",
       "      <th>130</th>\n",
       "      <td>2017-w31</td>\n",
       "      <td>Sao Paulo</td>\n",
       "      <td>23</td>\n",
       "      <td>0.007611</td>\n",
       "      <td>18</td>\n",
       "    </tr>\n",
       "    <tr>\n",
       "      <th>131</th>\n",
       "      <td>2017-w31</td>\n",
       "      <td>Tocantins</td>\n",
       "      <td>2</td>\n",
       "      <td>0.000662</td>\n",
       "      <td>1</td>\n",
       "    </tr>\n",
       "  </tbody>\n",
       "</table>\n",
       "<p>132 rows × 5 columns</p>\n",
       "</div>"
      ],
      "text/plain": [
       "    year_week       LocationName  group_size  proportion  sample_size\n",
       "0    2017-w26            Alagoas           1    0.000331            0\n",
       "1    2017-w26           Amazonas           1    0.000331            0\n",
       "2    2017-w26              Bahia          11    0.003640            8\n",
       "3    2017-w26              Ceara           2    0.000662            1\n",
       "4    2017-w26   Distrito Federal           3    0.000993            2\n",
       "..        ...                ...         ...         ...          ...\n",
       "127  2017-w31     Rio De Janeiro           2    0.000662            1\n",
       "128  2017-w31  Rio Grande Do Sul           5    0.001655            4\n",
       "129  2017-w31     Santa Catarina           2    0.000662            1\n",
       "130  2017-w31          Sao Paulo          23    0.007611           18\n",
       "131  2017-w31          Tocantins           2    0.000662            1\n",
       "\n",
       "[132 rows x 5 columns]"
      ]
     },
     "execution_count": 98,
     "metadata": {},
     "output_type": "execute_result"
    }
   ],
   "source": [
    "# Step 3: Define the target sample size\n",
    "target_sample_size = 2450\n",
    "\n",
    "# Step 4: Calculate the sample size for each group (based on its proportion)\n",
    "group_sizes['sample_size'] = np.floor(group_sizes['proportion'] * target_sample_size).astype(int)\n",
    "group_sizes"
   ]
  },
  {
   "cell_type": "code",
   "execution_count": 99,
   "id": "4c991d80",
   "metadata": {},
   "outputs": [],
   "source": [
    "# Step 5: Merge this sample size information back to the original DataFrame\n",
    "df_2017_07_neu_sample_size = pd.merge(df_2017_07_neu, group_sizes[['year_week', 'LocationName', 'sample_size']], \n",
    "                               on=['year_week', 'LocationName'], how='left')"
   ]
  },
  {
   "cell_type": "code",
   "execution_count": 100,
   "id": "deab4678",
   "metadata": {},
   "outputs": [
    {
     "name": "stdout",
     "output_type": "stream",
     "text": [
      "Sampled 2377 rows.\n"
     ]
    }
   ],
   "source": [
    "# Step 6: Perform the stratified sampling\n",
    "df_2017_07_neu_sample = df_2017_07_neu_sample_size.groupby(['year_week', 'LocationName']).apply(\n",
    "    lambda group: group.sample(n=group['sample_size'].iloc[0], random_state=42)\n",
    ").reset_index(drop=True)\n",
    "\n",
    "# Step 7: Check the result\n",
    "print(f\"Sampled {len(df_2017_07_neu_sample)} rows.\")\n"
   ]
  },
  {
   "cell_type": "code",
   "execution_count": 101,
   "id": "33656dea",
   "metadata": {},
   "outputs": [],
   "source": [
    "text_gpt_2017_07_neu = '\\n'.join(df_2017_07_neu_sample['text'].astype(str))"
   ]
  },
  {
   "cell_type": "markdown",
   "id": "92d7e0ea",
   "metadata": {},
   "source": [
    "### Prompts and loops"
   ]
  },
  {
   "cell_type": "code",
   "execution_count": 102,
   "id": "349334a9",
   "metadata": {},
   "outputs": [],
   "source": [
    "prompt_7 = prompt_raw.replace('TWEETS', text_gpt_2017_07_neu)"
   ]
  },
  {
   "cell_type": "code",
   "execution_count": 103,
   "id": "ff46a08b",
   "metadata": {
    "scrolled": false
   },
   "outputs": [],
   "source": [
    "response = openai.ChatCompletion.create(\n",
    "    model=\"gpt-4o-mini\",  \n",
    "    messages = [\n",
    "        {\"role\": \"user\", \"content\": prompt_7}\n",
    "    ],\n",
    "    max_tokens=400,  # Maximum number of tokens in the response\n",
    "    temperature=0.7  # Controls the randomness of the output\n",
    ")"
   ]
  },
  {
   "cell_type": "code",
   "execution_count": 104,
   "id": "6723c1d4",
   "metadata": {},
   "outputs": [
    {
     "data": {
      "text/plain": [
       "'The texts discuss various vaccination events and campaigns in Brazil, including the BCG vaccine against tuberculosis, vaccination against rabies for pets, and immunization against diseases like HPV and yellow fever. It highlights the importance of vaccination, public health initiatives, and personal experiences related to getting vaccinated. Additionally, there are mentions of vaccine scarcity and public perceptions about vaccines.'"
      ]
     },
     "execution_count": 104,
     "metadata": {},
     "output_type": "execute_result"
    }
   ],
   "source": [
    "response.choices[0].message.content"
   ]
  },
  {
   "cell_type": "code",
   "execution_count": 105,
   "id": "d3081509",
   "metadata": {},
   "outputs": [],
   "source": [
    "#summary = []\n",
    "#dataset = []"
   ]
  },
  {
   "cell_type": "code",
   "execution_count": 106,
   "id": "1ba0dacb",
   "metadata": {},
   "outputs": [],
   "source": [
    "dataset.append(\"2017_07_neutral\")"
   ]
  },
  {
   "cell_type": "code",
   "execution_count": 107,
   "id": "cadb0bde",
   "metadata": {},
   "outputs": [],
   "source": [
    "summary.append(response.choices[0].message.content)"
   ]
  },
  {
   "cell_type": "code",
   "execution_count": 108,
   "id": "b80e1e4e",
   "metadata": {
    "tags": []
   },
   "outputs": [
    {
     "name": "stdout",
     "output_type": "stream",
     "text": [
      "<class 'pandas.core.frame.DataFrame'>\n",
      "RangeIndex: 7 entries, 0 to 6\n",
      "Data columns (total 2 columns):\n",
      " #   Column   Non-Null Count  Dtype \n",
      "---  ------   --------------  ----- \n",
      " 0   dataset  7 non-null      object\n",
      " 1   summary  7 non-null      object\n",
      "dtypes: object(2)\n",
      "memory usage: 240.0+ bytes\n"
     ]
    }
   ],
   "source": [
    "df_2017_neu = pd.DataFrame(list(zip(dataset, summary)),\n",
    "                            columns = ['dataset', 'summary'])\n",
    "df_2017_neu.info()"
   ]
  },
  {
   "cell_type": "code",
   "execution_count": 109,
   "id": "de211f05",
   "metadata": {},
   "outputs": [
    {
     "data": {
      "text/html": [
       "<div>\n",
       "<style scoped>\n",
       "    .dataframe tbody tr th:only-of-type {\n",
       "        vertical-align: middle;\n",
       "    }\n",
       "\n",
       "    .dataframe tbody tr th {\n",
       "        vertical-align: top;\n",
       "    }\n",
       "\n",
       "    .dataframe thead th {\n",
       "        text-align: right;\n",
       "    }\n",
       "</style>\n",
       "<table border=\"1\" class=\"dataframe\">\n",
       "  <thead>\n",
       "    <tr style=\"text-align: right;\">\n",
       "      <th></th>\n",
       "      <th>dataset</th>\n",
       "      <th>summary</th>\n",
       "    </tr>\n",
       "  </thead>\n",
       "  <tbody>\n",
       "    <tr>\n",
       "      <th>0</th>\n",
       "      <td>2017_01_neuitive</td>\n",
       "      <td>The sentences discuss the importance and logis...</td>\n",
       "    </tr>\n",
       "    <tr>\n",
       "      <th>1</th>\n",
       "      <td>2017_02_neuitive</td>\n",
       "      <td>The text discusses the importance of vaccinati...</td>\n",
       "    </tr>\n",
       "    <tr>\n",
       "      <th>2</th>\n",
       "      <td>2017_03_neuitive</td>\n",
       "      <td>The text discusses the ongoing vaccination cam...</td>\n",
       "    </tr>\n",
       "    <tr>\n",
       "      <th>3</th>\n",
       "      <td>2017_04_neuitive</td>\n",
       "      <td>The text discusses the vaccination campaigns a...</td>\n",
       "    </tr>\n",
       "    <tr>\n",
       "      <th>4</th>\n",
       "      <td>2017_05_neuitive</td>\n",
       "      <td>The text discusses the ongoing vaccination cam...</td>\n",
       "    </tr>\n",
       "    <tr>\n",
       "      <th>5</th>\n",
       "      <td>2017_06_neuitive</td>\n",
       "      <td>The text discusses various vaccination campaig...</td>\n",
       "    </tr>\n",
       "    <tr>\n",
       "      <th>6</th>\n",
       "      <td>2017_07_neuitive</td>\n",
       "      <td>The texts discuss various vaccination events a...</td>\n",
       "    </tr>\n",
       "  </tbody>\n",
       "</table>\n",
       "</div>"
      ],
      "text/plain": [
       "            dataset                                            summary\n",
       "0  2017_01_neuitive  The sentences discuss the importance and logis...\n",
       "1  2017_02_neuitive  The text discusses the importance of vaccinati...\n",
       "2  2017_03_neuitive  The text discusses the ongoing vaccination cam...\n",
       "3  2017_04_neuitive  The text discusses the vaccination campaigns a...\n",
       "4  2017_05_neuitive  The text discusses the ongoing vaccination cam...\n",
       "5  2017_06_neuitive  The text discusses various vaccination campaig...\n",
       "6  2017_07_neuitive  The texts discuss various vaccination events a..."
      ]
     },
     "execution_count": 109,
     "metadata": {},
     "output_type": "execute_result"
    }
   ],
   "source": [
    "df_2017_neu.tail(14)"
   ]
  },
  {
   "cell_type": "code",
   "execution_count": 110,
   "id": "19075d74",
   "metadata": {},
   "outputs": [
    {
     "data": {
      "text/plain": [
       "<OpenAIObject chat.completion id=chatcmpl-AUBhmfNtCBU2SyrAafdLB1yEPAyrl at 0x215978ce310> JSON: {\n",
       "  \"choices\": [\n",
       "    {\n",
       "      \"finish_reason\": \"stop\",\n",
       "      \"index\": 0,\n",
       "      \"logprobs\": null,\n",
       "      \"message\": {\n",
       "        \"content\": \"The texts discuss various vaccination events and campaigns in Brazil, including the BCG vaccine against tuberculosis, vaccination against rabies for pets, and immunization against diseases like HPV and yellow fever. It highlights the importance of vaccination, public health initiatives, and personal experiences related to getting vaccinated. Additionally, there are mentions of vaccine scarcity and public perceptions about vaccines.\",\n",
       "        \"refusal\": null,\n",
       "        \"role\": \"assistant\"\n",
       "      }\n",
       "    }\n",
       "  ],\n",
       "  \"created\": 1731758198,\n",
       "  \"id\": \"chatcmpl-AUBhmfNtCBU2SyrAafdLB1yEPAyrl\",\n",
       "  \"model\": \"gpt-4o-mini-2024-07-18\",\n",
       "  \"object\": \"chat.completion\",\n",
       "  \"system_fingerprint\": \"fp_0ba0d124f1\",\n",
       "  \"usage\": {\n",
       "    \"completion_tokens\": 70,\n",
       "    \"completion_tokens_details\": {\n",
       "      \"accepted_prediction_tokens\": 0,\n",
       "      \"audio_tokens\": 0,\n",
       "      \"reasoning_tokens\": 0,\n",
       "      \"rejected_prediction_tokens\": 0\n",
       "    },\n",
       "    \"prompt_tokens\": 50222,\n",
       "    \"prompt_tokens_details\": {\n",
       "      \"audio_tokens\": 0,\n",
       "      \"cached_tokens\": 0\n",
       "    },\n",
       "    \"total_tokens\": 50292\n",
       "  }\n",
       "}"
      ]
     },
     "execution_count": 110,
     "metadata": {},
     "output_type": "execute_result"
    }
   ],
   "source": [
    "response"
   ]
  },
  {
   "cell_type": "markdown",
   "id": "9d083d2a",
   "metadata": {},
   "source": [
    "## August"
   ]
  },
  {
   "cell_type": "code",
   "execution_count": 111,
   "id": "0ed2a943",
   "metadata": {
    "scrolled": true,
    "tags": []
   },
   "outputs": [
    {
     "name": "stdout",
     "output_type": "stream",
     "text": [
      "<class 'pandas.core.frame.DataFrame'>\n",
      "RangeIndex: 3877 entries, 0 to 3876\n",
      "Data columns (total 53 columns):\n",
      " #   Column                  Non-Null Count  Dtype  \n",
      "---  ------                  --------------  -----  \n",
      " 0   index                   3877 non-null   int64  \n",
      " 1   LocationCode            3877 non-null   object \n",
      " 2   LocationName            3877 non-null   object \n",
      " 3   StatesCode              3877 non-null   object \n",
      " 4   ...4                    3877 non-null   int64  \n",
      " 5   id                      3877 non-null   float64\n",
      " 6   text                    3877 non-null   object \n",
      " 7   label                   3877 non-null   object \n",
      " 8   in_reply_to_status_id   411 non-null    float64\n",
      " 9   in_reply_to_user_id     429 non-null    float64\n",
      " 10  quoted_user_id          126 non-null    float64\n",
      " 11  quoted_status_id        126 non-null    float64\n",
      " 12  retweeted_user_id       774 non-null    float64\n",
      " 13  retweeted_status_id     774 non-null    float64\n",
      " 14  created_at              3877 non-null   object \n",
      " 15  entities.user_mentions  1239 non-null   object \n",
      " 16  user.id                 3877 non-null   float64\n",
      " 17  user.screen_name        3877 non-null   object \n",
      " 18  user.name               3877 non-null   object \n",
      " 19  user.description        3499 non-null   object \n",
      " 20  user.timezone           0 non-null      float64\n",
      " 21  user.location           3806 non-null   object \n",
      " 22  user.num_followers      3877 non-null   int64  \n",
      " 23  user.num_following      3877 non-null   int64  \n",
      " 24  user.created_at         3877 non-null   object \n",
      " 25  user.statuses_count     3877 non-null   int64  \n",
      " 26  user.is_verified        3877 non-null   bool   \n",
      " 27  lang                    3877 non-null   object \n",
      " 28  token_count             3877 non-null   int64  \n",
      " 29  is_retweet              3877 non-null   bool   \n",
      " 30  has_quote               3877 non-null   bool   \n",
      " 31  is_reply                3877 non-null   bool   \n",
      " 32  contains_keywords       3877 non-null   bool   \n",
      " 33  longitude               3877 non-null   float64\n",
      " 34  latitude                3877 non-null   float64\n",
      " 35  country_code            3877 non-null   object \n",
      " 36  geoname_id              3435 non-null   float64\n",
      " 37  location_type           3877 non-null   object \n",
      " 38  geo_type                3877 non-null   int64  \n",
      " 39  region                  3877 non-null   object \n",
      " 40  subregion               3877 non-null   object \n",
      " 41  num_quotes              3877 non-null   int64  \n",
      " 42  num_replies             3877 non-null   int64  \n",
      " 43  num_retweets            3877 non-null   int64  \n",
      " 44  sent_gpt                3877 non-null   object \n",
      " 45  gpt_sent_presence       3877 non-null   int64  \n",
      " 46  cleaned_text_lem        3877 non-null   object \n",
      " 47  cleaned_text            3877 non-null   object \n",
      " 48  month                   3877 non-null   int64  \n",
      " 49  year                    3877 non-null   int64  \n",
      " 50  week                    3877 non-null   int64  \n",
      " 51  year_month              3877 non-null   object \n",
      " 52  year_week               3877 non-null   object \n",
      "dtypes: bool(5), float64(12), int64(14), object(22)\n",
      "memory usage: 1.4+ MB\n"
     ]
    }
   ],
   "source": [
    "# Get monthly data\n",
    "df_2017_08_neu = pd.read_csv('../data/local/df_neu_2017-08.csv').reset_index()\n",
    "df_2017_08_neu.info()"
   ]
  },
  {
   "cell_type": "markdown",
   "id": "3c035145",
   "metadata": {},
   "source": [
    "### Representative sample based on week and location"
   ]
  },
  {
   "cell_type": "code",
   "execution_count": 112,
   "id": "ebf072ee",
   "metadata": {},
   "outputs": [
    {
     "data": {
      "text/html": [
       "<div>\n",
       "<style scoped>\n",
       "    .dataframe tbody tr th:only-of-type {\n",
       "        vertical-align: middle;\n",
       "    }\n",
       "\n",
       "    .dataframe tbody tr th {\n",
       "        vertical-align: top;\n",
       "    }\n",
       "\n",
       "    .dataframe thead th {\n",
       "        text-align: right;\n",
       "    }\n",
       "</style>\n",
       "<table border=\"1\" class=\"dataframe\">\n",
       "  <thead>\n",
       "    <tr style=\"text-align: right;\">\n",
       "      <th></th>\n",
       "      <th>year_week</th>\n",
       "      <th>LocationName</th>\n",
       "      <th>group_size</th>\n",
       "      <th>proportion</th>\n",
       "    </tr>\n",
       "  </thead>\n",
       "  <tbody>\n",
       "    <tr>\n",
       "      <th>0</th>\n",
       "      <td>2017-w31</td>\n",
       "      <td>Acre</td>\n",
       "      <td>1</td>\n",
       "      <td>0.000258</td>\n",
       "    </tr>\n",
       "    <tr>\n",
       "      <th>1</th>\n",
       "      <td>2017-w31</td>\n",
       "      <td>Alagoas</td>\n",
       "      <td>4</td>\n",
       "      <td>0.001032</td>\n",
       "    </tr>\n",
       "    <tr>\n",
       "      <th>2</th>\n",
       "      <td>2017-w31</td>\n",
       "      <td>Amapa</td>\n",
       "      <td>2</td>\n",
       "      <td>0.000516</td>\n",
       "    </tr>\n",
       "    <tr>\n",
       "      <th>3</th>\n",
       "      <td>2017-w31</td>\n",
       "      <td>Amazonas</td>\n",
       "      <td>9</td>\n",
       "      <td>0.002321</td>\n",
       "    </tr>\n",
       "    <tr>\n",
       "      <th>4</th>\n",
       "      <td>2017-w31</td>\n",
       "      <td>Bahia</td>\n",
       "      <td>22</td>\n",
       "      <td>0.005674</td>\n",
       "    </tr>\n",
       "    <tr>\n",
       "      <th>...</th>\n",
       "      <td>...</td>\n",
       "      <td>...</td>\n",
       "      <td>...</td>\n",
       "      <td>...</td>\n",
       "    </tr>\n",
       "    <tr>\n",
       "      <th>111</th>\n",
       "      <td>2017-w35</td>\n",
       "      <td>Rio Grande Do Sul</td>\n",
       "      <td>92</td>\n",
       "      <td>0.023730</td>\n",
       "    </tr>\n",
       "    <tr>\n",
       "      <th>112</th>\n",
       "      <td>2017-w35</td>\n",
       "      <td>Roraima</td>\n",
       "      <td>1</td>\n",
       "      <td>0.000258</td>\n",
       "    </tr>\n",
       "    <tr>\n",
       "      <th>113</th>\n",
       "      <td>2017-w35</td>\n",
       "      <td>Santa Catarina</td>\n",
       "      <td>9</td>\n",
       "      <td>0.002321</td>\n",
       "    </tr>\n",
       "    <tr>\n",
       "      <th>114</th>\n",
       "      <td>2017-w35</td>\n",
       "      <td>Sao Paulo</td>\n",
       "      <td>170</td>\n",
       "      <td>0.043848</td>\n",
       "    </tr>\n",
       "    <tr>\n",
       "      <th>115</th>\n",
       "      <td>2017-w35</td>\n",
       "      <td>Sergipe</td>\n",
       "      <td>4</td>\n",
       "      <td>0.001032</td>\n",
       "    </tr>\n",
       "  </tbody>\n",
       "</table>\n",
       "<p>116 rows × 4 columns</p>\n",
       "</div>"
      ],
      "text/plain": [
       "    year_week       LocationName  group_size  proportion\n",
       "0    2017-w31               Acre           1    0.000258\n",
       "1    2017-w31            Alagoas           4    0.001032\n",
       "2    2017-w31              Amapa           2    0.000516\n",
       "3    2017-w31           Amazonas           9    0.002321\n",
       "4    2017-w31              Bahia          22    0.005674\n",
       "..        ...                ...         ...         ...\n",
       "111  2017-w35  Rio Grande Do Sul          92    0.023730\n",
       "112  2017-w35            Roraima           1    0.000258\n",
       "113  2017-w35     Santa Catarina           9    0.002321\n",
       "114  2017-w35          Sao Paulo         170    0.043848\n",
       "115  2017-w35            Sergipe           4    0.001032\n",
       "\n",
       "[116 rows x 4 columns]"
      ]
     },
     "execution_count": 112,
     "metadata": {},
     "output_type": "execute_result"
    }
   ],
   "source": [
    "# Step 1: Calculate the size of each group (year_week, LocationName)\n",
    "group_sizes = df_2017_08_neu.groupby(['year_week', 'LocationName']).size().reset_index(name='group_size')\n",
    "\n",
    "# Step 2: Calculate the proportion of each group in the dataset\n",
    "total_rows = len(df_2017_08_neu)\n",
    "group_sizes['proportion'] = group_sizes['group_size'] / total_rows\n",
    "group_sizes"
   ]
  },
  {
   "cell_type": "code",
   "execution_count": 113,
   "id": "c3bc6232",
   "metadata": {},
   "outputs": [
    {
     "data": {
      "text/html": [
       "<div>\n",
       "<style scoped>\n",
       "    .dataframe tbody tr th:only-of-type {\n",
       "        vertical-align: middle;\n",
       "    }\n",
       "\n",
       "    .dataframe tbody tr th {\n",
       "        vertical-align: top;\n",
       "    }\n",
       "\n",
       "    .dataframe thead th {\n",
       "        text-align: right;\n",
       "    }\n",
       "</style>\n",
       "<table border=\"1\" class=\"dataframe\">\n",
       "  <thead>\n",
       "    <tr style=\"text-align: right;\">\n",
       "      <th></th>\n",
       "      <th>year_week</th>\n",
       "      <th>LocationName</th>\n",
       "      <th>group_size</th>\n",
       "      <th>proportion</th>\n",
       "      <th>sample_size</th>\n",
       "    </tr>\n",
       "  </thead>\n",
       "  <tbody>\n",
       "    <tr>\n",
       "      <th>0</th>\n",
       "      <td>2017-w31</td>\n",
       "      <td>Acre</td>\n",
       "      <td>1</td>\n",
       "      <td>0.000258</td>\n",
       "      <td>0</td>\n",
       "    </tr>\n",
       "    <tr>\n",
       "      <th>1</th>\n",
       "      <td>2017-w31</td>\n",
       "      <td>Alagoas</td>\n",
       "      <td>4</td>\n",
       "      <td>0.001032</td>\n",
       "      <td>2</td>\n",
       "    </tr>\n",
       "    <tr>\n",
       "      <th>2</th>\n",
       "      <td>2017-w31</td>\n",
       "      <td>Amapa</td>\n",
       "      <td>2</td>\n",
       "      <td>0.000516</td>\n",
       "      <td>1</td>\n",
       "    </tr>\n",
       "    <tr>\n",
       "      <th>3</th>\n",
       "      <td>2017-w31</td>\n",
       "      <td>Amazonas</td>\n",
       "      <td>9</td>\n",
       "      <td>0.002321</td>\n",
       "      <td>5</td>\n",
       "    </tr>\n",
       "    <tr>\n",
       "      <th>4</th>\n",
       "      <td>2017-w31</td>\n",
       "      <td>Bahia</td>\n",
       "      <td>22</td>\n",
       "      <td>0.005674</td>\n",
       "      <td>13</td>\n",
       "    </tr>\n",
       "    <tr>\n",
       "      <th>...</th>\n",
       "      <td>...</td>\n",
       "      <td>...</td>\n",
       "      <td>...</td>\n",
       "      <td>...</td>\n",
       "      <td>...</td>\n",
       "    </tr>\n",
       "    <tr>\n",
       "      <th>111</th>\n",
       "      <td>2017-w35</td>\n",
       "      <td>Rio Grande Do Sul</td>\n",
       "      <td>92</td>\n",
       "      <td>0.023730</td>\n",
       "      <td>58</td>\n",
       "    </tr>\n",
       "    <tr>\n",
       "      <th>112</th>\n",
       "      <td>2017-w35</td>\n",
       "      <td>Roraima</td>\n",
       "      <td>1</td>\n",
       "      <td>0.000258</td>\n",
       "      <td>0</td>\n",
       "    </tr>\n",
       "    <tr>\n",
       "      <th>113</th>\n",
       "      <td>2017-w35</td>\n",
       "      <td>Santa Catarina</td>\n",
       "      <td>9</td>\n",
       "      <td>0.002321</td>\n",
       "      <td>5</td>\n",
       "    </tr>\n",
       "    <tr>\n",
       "      <th>114</th>\n",
       "      <td>2017-w35</td>\n",
       "      <td>Sao Paulo</td>\n",
       "      <td>170</td>\n",
       "      <td>0.043848</td>\n",
       "      <td>107</td>\n",
       "    </tr>\n",
       "    <tr>\n",
       "      <th>115</th>\n",
       "      <td>2017-w35</td>\n",
       "      <td>Sergipe</td>\n",
       "      <td>4</td>\n",
       "      <td>0.001032</td>\n",
       "      <td>2</td>\n",
       "    </tr>\n",
       "  </tbody>\n",
       "</table>\n",
       "<p>116 rows × 5 columns</p>\n",
       "</div>"
      ],
      "text/plain": [
       "    year_week       LocationName  group_size  proportion  sample_size\n",
       "0    2017-w31               Acre           1    0.000258            0\n",
       "1    2017-w31            Alagoas           4    0.001032            2\n",
       "2    2017-w31              Amapa           2    0.000516            1\n",
       "3    2017-w31           Amazonas           9    0.002321            5\n",
       "4    2017-w31              Bahia          22    0.005674           13\n",
       "..        ...                ...         ...         ...          ...\n",
       "111  2017-w35  Rio Grande Do Sul          92    0.023730           58\n",
       "112  2017-w35            Roraima           1    0.000258            0\n",
       "113  2017-w35     Santa Catarina           9    0.002321            5\n",
       "114  2017-w35          Sao Paulo         170    0.043848          107\n",
       "115  2017-w35            Sergipe           4    0.001032            2\n",
       "\n",
       "[116 rows x 5 columns]"
      ]
     },
     "execution_count": 113,
     "metadata": {},
     "output_type": "execute_result"
    }
   ],
   "source": [
    "# Step 3: Define the target sample size\n",
    "target_sample_size = 2450\n",
    "\n",
    "# Step 4: Calculate the sample size for each group (based on its proportion)\n",
    "group_sizes['sample_size'] = np.floor(group_sizes['proportion'] * target_sample_size).astype(int)\n",
    "group_sizes"
   ]
  },
  {
   "cell_type": "code",
   "execution_count": 114,
   "id": "2f55ef03",
   "metadata": {},
   "outputs": [],
   "source": [
    "# Step 5: Merge this sample size information back to the original DataFrame\n",
    "df_2017_08_neu_sample_size = pd.merge(df_2017_08_neu, group_sizes[['year_week', 'LocationName', 'sample_size']], \n",
    "                               on=['year_week', 'LocationName'], how='left')"
   ]
  },
  {
   "cell_type": "code",
   "execution_count": 115,
   "id": "2aa2083a",
   "metadata": {},
   "outputs": [
    {
     "name": "stdout",
     "output_type": "stream",
     "text": [
      "Sampled 2388 rows.\n"
     ]
    }
   ],
   "source": [
    "# Step 6: Perform the stratified sampling\n",
    "df_2017_08_neu_sample = df_2017_08_neu_sample_size.groupby(['year_week', 'LocationName']).apply(\n",
    "    lambda group: group.sample(n=group['sample_size'].iloc[0], random_state=42)\n",
    ").reset_index(drop=True)\n",
    "\n",
    "# Step 7: Check the result\n",
    "print(f\"Sampled {len(df_2017_08_neu_sample)} rows.\")\n"
   ]
  },
  {
   "cell_type": "code",
   "execution_count": 116,
   "id": "3eb70c20",
   "metadata": {},
   "outputs": [],
   "source": [
    "text_gpt_2017_08_neu = '\\n'.join(df_2017_08_neu_sample['text'].astype(str))"
   ]
  },
  {
   "cell_type": "markdown",
   "id": "20c12a08",
   "metadata": {},
   "source": [
    "### Prompts and loops"
   ]
  },
  {
   "cell_type": "code",
   "execution_count": 117,
   "id": "6cbedf14",
   "metadata": {},
   "outputs": [],
   "source": [
    "prompt_8 = prompt_raw.replace('TWEETS', text_gpt_2017_08_neu)"
   ]
  },
  {
   "cell_type": "code",
   "execution_count": 118,
   "id": "6312a680",
   "metadata": {
    "scrolled": false
   },
   "outputs": [],
   "source": [
    "response = openai.ChatCompletion.create(\n",
    "    model=\"gpt-4o-mini\",  \n",
    "    messages = [\n",
    "        {\"role\": \"user\", \"content\": prompt_8}\n",
    "    ],\n",
    "    max_tokens=400,  # Maximum number of tokens in the response\n",
    "    temperature=0.7  # Controls the randomness of the output\n",
    ")"
   ]
  },
  {
   "cell_type": "code",
   "execution_count": 119,
   "id": "1af4a697",
   "metadata": {},
   "outputs": [
    {
     "data": {
      "text/plain": [
       "'The text discusses various aspects of vaccination in Brazil, including the upcoming Zika vaccine, low demand for HPV vaccines, personal experiences with vaccination, and campaigns for rabies vaccination for pets. It highlights societal attitudes towards vaccination, including fears, humor, and the significance of vaccination for public health.'"
      ]
     },
     "execution_count": 119,
     "metadata": {},
     "output_type": "execute_result"
    }
   ],
   "source": [
    "response.choices[0].message.content"
   ]
  },
  {
   "cell_type": "code",
   "execution_count": 120,
   "id": "c2df0aba",
   "metadata": {},
   "outputs": [],
   "source": [
    "#summary = []\n",
    "#dataset = []"
   ]
  },
  {
   "cell_type": "code",
   "execution_count": 121,
   "id": "9714a127",
   "metadata": {},
   "outputs": [],
   "source": [
    "dataset.append(\"2017_08_neutral\")"
   ]
  },
  {
   "cell_type": "code",
   "execution_count": 122,
   "id": "7118fbc6",
   "metadata": {},
   "outputs": [],
   "source": [
    "summary.append(response.choices[0].message.content)"
   ]
  },
  {
   "cell_type": "code",
   "execution_count": 123,
   "id": "626416cc",
   "metadata": {
    "tags": []
   },
   "outputs": [
    {
     "name": "stdout",
     "output_type": "stream",
     "text": [
      "<class 'pandas.core.frame.DataFrame'>\n",
      "RangeIndex: 8 entries, 0 to 7\n",
      "Data columns (total 2 columns):\n",
      " #   Column   Non-Null Count  Dtype \n",
      "---  ------   --------------  ----- \n",
      " 0   dataset  8 non-null      object\n",
      " 1   summary  8 non-null      object\n",
      "dtypes: object(2)\n",
      "memory usage: 256.0+ bytes\n"
     ]
    }
   ],
   "source": [
    "df_2017_neu = pd.DataFrame(list(zip(dataset, summary)),\n",
    "                            columns = ['dataset', 'summary'])\n",
    "df_2017_neu.info()"
   ]
  },
  {
   "cell_type": "code",
   "execution_count": 124,
   "id": "c9811a57",
   "metadata": {},
   "outputs": [
    {
     "data": {
      "text/html": [
       "<div>\n",
       "<style scoped>\n",
       "    .dataframe tbody tr th:only-of-type {\n",
       "        vertical-align: middle;\n",
       "    }\n",
       "\n",
       "    .dataframe tbody tr th {\n",
       "        vertical-align: top;\n",
       "    }\n",
       "\n",
       "    .dataframe thead th {\n",
       "        text-align: right;\n",
       "    }\n",
       "</style>\n",
       "<table border=\"1\" class=\"dataframe\">\n",
       "  <thead>\n",
       "    <tr style=\"text-align: right;\">\n",
       "      <th></th>\n",
       "      <th>dataset</th>\n",
       "      <th>summary</th>\n",
       "    </tr>\n",
       "  </thead>\n",
       "  <tbody>\n",
       "    <tr>\n",
       "      <th>0</th>\n",
       "      <td>2017_01_neuitive</td>\n",
       "      <td>The sentences discuss the importance and logis...</td>\n",
       "    </tr>\n",
       "    <tr>\n",
       "      <th>1</th>\n",
       "      <td>2017_02_neuitive</td>\n",
       "      <td>The text discusses the importance of vaccinati...</td>\n",
       "    </tr>\n",
       "    <tr>\n",
       "      <th>2</th>\n",
       "      <td>2017_03_neuitive</td>\n",
       "      <td>The text discusses the ongoing vaccination cam...</td>\n",
       "    </tr>\n",
       "    <tr>\n",
       "      <th>3</th>\n",
       "      <td>2017_04_neuitive</td>\n",
       "      <td>The text discusses the vaccination campaigns a...</td>\n",
       "    </tr>\n",
       "    <tr>\n",
       "      <th>4</th>\n",
       "      <td>2017_05_neuitive</td>\n",
       "      <td>The text discusses the ongoing vaccination cam...</td>\n",
       "    </tr>\n",
       "    <tr>\n",
       "      <th>5</th>\n",
       "      <td>2017_06_neuitive</td>\n",
       "      <td>The text discusses various vaccination campaig...</td>\n",
       "    </tr>\n",
       "    <tr>\n",
       "      <th>6</th>\n",
       "      <td>2017_07_neuitive</td>\n",
       "      <td>The texts discuss various vaccination events a...</td>\n",
       "    </tr>\n",
       "    <tr>\n",
       "      <th>7</th>\n",
       "      <td>2017_08_neuitive</td>\n",
       "      <td>The text discusses various aspects of vaccinat...</td>\n",
       "    </tr>\n",
       "  </tbody>\n",
       "</table>\n",
       "</div>"
      ],
      "text/plain": [
       "            dataset                                            summary\n",
       "0  2017_01_neuitive  The sentences discuss the importance and logis...\n",
       "1  2017_02_neuitive  The text discusses the importance of vaccinati...\n",
       "2  2017_03_neuitive  The text discusses the ongoing vaccination cam...\n",
       "3  2017_04_neuitive  The text discusses the vaccination campaigns a...\n",
       "4  2017_05_neuitive  The text discusses the ongoing vaccination cam...\n",
       "5  2017_06_neuitive  The text discusses various vaccination campaig...\n",
       "6  2017_07_neuitive  The texts discuss various vaccination events a...\n",
       "7  2017_08_neuitive  The text discusses various aspects of vaccinat..."
      ]
     },
     "execution_count": 124,
     "metadata": {},
     "output_type": "execute_result"
    }
   ],
   "source": [
    "df_2017_neu.tail(14)"
   ]
  },
  {
   "cell_type": "code",
   "execution_count": 125,
   "id": "cd10153f",
   "metadata": {},
   "outputs": [
    {
     "data": {
      "text/plain": [
       "<OpenAIObject chat.completion id=chatcmpl-AUBhrvtboN5vUGoAJ19YPdtNlIMSy at 0x215984980e0> JSON: {\n",
       "  \"choices\": [\n",
       "    {\n",
       "      \"finish_reason\": \"stop\",\n",
       "      \"index\": 0,\n",
       "      \"logprobs\": null,\n",
       "      \"message\": {\n",
       "        \"content\": \"The text discusses various aspects of vaccination in Brazil, including the upcoming Zika vaccine, low demand for HPV vaccines, personal experiences with vaccination, and campaigns for rabies vaccination for pets. It highlights societal attitudes towards vaccination, including fears, humor, and the significance of vaccination for public health.\",\n",
       "        \"refusal\": null,\n",
       "        \"role\": \"assistant\"\n",
       "      }\n",
       "    }\n",
       "  ],\n",
       "  \"created\": 1731758203,\n",
       "  \"id\": \"chatcmpl-AUBhrvtboN5vUGoAJ19YPdtNlIMSy\",\n",
       "  \"model\": \"gpt-4o-mini-2024-07-18\",\n",
       "  \"object\": \"chat.completion\",\n",
       "  \"system_fingerprint\": \"fp_0ba0d124f1\",\n",
       "  \"usage\": {\n",
       "    \"completion_tokens\": 58,\n",
       "    \"completion_tokens_details\": {\n",
       "      \"accepted_prediction_tokens\": 0,\n",
       "      \"audio_tokens\": 0,\n",
       "      \"reasoning_tokens\": 0,\n",
       "      \"rejected_prediction_tokens\": 0\n",
       "    },\n",
       "    \"prompt_tokens\": 50561,\n",
       "    \"prompt_tokens_details\": {\n",
       "      \"audio_tokens\": 0,\n",
       "      \"cached_tokens\": 0\n",
       "    },\n",
       "    \"total_tokens\": 50619\n",
       "  }\n",
       "}"
      ]
     },
     "execution_count": 125,
     "metadata": {},
     "output_type": "execute_result"
    }
   ],
   "source": [
    "response"
   ]
  },
  {
   "cell_type": "markdown",
   "id": "1a0c859d",
   "metadata": {},
   "source": [
    "## September"
   ]
  },
  {
   "cell_type": "code",
   "execution_count": 126,
   "id": "46970275",
   "metadata": {
    "scrolled": true,
    "tags": []
   },
   "outputs": [
    {
     "name": "stdout",
     "output_type": "stream",
     "text": [
      "<class 'pandas.core.frame.DataFrame'>\n",
      "RangeIndex: 5057 entries, 0 to 5056\n",
      "Data columns (total 53 columns):\n",
      " #   Column                  Non-Null Count  Dtype  \n",
      "---  ------                  --------------  -----  \n",
      " 0   index                   5057 non-null   int64  \n",
      " 1   LocationCode            5057 non-null   object \n",
      " 2   LocationName            5057 non-null   object \n",
      " 3   StatesCode              5057 non-null   object \n",
      " 4   ...4                    5057 non-null   int64  \n",
      " 5   id                      5057 non-null   float64\n",
      " 6   text                    5057 non-null   object \n",
      " 7   label                   5057 non-null   object \n",
      " 8   in_reply_to_status_id   445 non-null    float64\n",
      " 9   in_reply_to_user_id     462 non-null    float64\n",
      " 10  quoted_user_id          136 non-null    float64\n",
      " 11  quoted_status_id        136 non-null    float64\n",
      " 12  retweeted_user_id       1559 non-null   float64\n",
      " 13  retweeted_status_id     1559 non-null   float64\n",
      " 14  created_at              5057 non-null   object \n",
      " 15  entities.user_mentions  2079 non-null   object \n",
      " 16  user.id                 5057 non-null   float64\n",
      " 17  user.screen_name        5057 non-null   object \n",
      " 18  user.name               5057 non-null   object \n",
      " 19  user.description        4563 non-null   object \n",
      " 20  user.timezone           0 non-null      float64\n",
      " 21  user.location           4992 non-null   object \n",
      " 22  user.num_followers      5057 non-null   int64  \n",
      " 23  user.num_following      5057 non-null   int64  \n",
      " 24  user.created_at         5057 non-null   object \n",
      " 25  user.statuses_count     5057 non-null   int64  \n",
      " 26  user.is_verified        5057 non-null   bool   \n",
      " 27  lang                    5057 non-null   object \n",
      " 28  token_count             5057 non-null   int64  \n",
      " 29  is_retweet              5057 non-null   bool   \n",
      " 30  has_quote               5057 non-null   bool   \n",
      " 31  is_reply                5057 non-null   bool   \n",
      " 32  contains_keywords       5057 non-null   bool   \n",
      " 33  longitude               5057 non-null   float64\n",
      " 34  latitude                5057 non-null   float64\n",
      " 35  country_code            5057 non-null   object \n",
      " 36  geoname_id              4583 non-null   float64\n",
      " 37  location_type           5057 non-null   object \n",
      " 38  geo_type                5057 non-null   int64  \n",
      " 39  region                  5057 non-null   object \n",
      " 40  subregion               5057 non-null   object \n",
      " 41  num_quotes              5057 non-null   int64  \n",
      " 42  num_replies             5057 non-null   int64  \n",
      " 43  num_retweets            5057 non-null   int64  \n",
      " 44  sent_gpt                5057 non-null   object \n",
      " 45  gpt_sent_presence       5057 non-null   int64  \n",
      " 46  cleaned_text_lem        5057 non-null   object \n",
      " 47  cleaned_text            5057 non-null   object \n",
      " 48  month                   5057 non-null   int64  \n",
      " 49  year                    5057 non-null   int64  \n",
      " 50  week                    5057 non-null   int64  \n",
      " 51  year_month              5057 non-null   object \n",
      " 52  year_week               5057 non-null   object \n",
      "dtypes: bool(5), float64(12), int64(14), object(22)\n",
      "memory usage: 1.9+ MB\n"
     ]
    }
   ],
   "source": [
    "# Get monthly data\n",
    "df_2017_09_neu = pd.read_csv('../data/local/df_neu_2017-09.csv').reset_index()\n",
    "df_2017_09_neu.info()"
   ]
  },
  {
   "cell_type": "markdown",
   "id": "6d6d95b1",
   "metadata": {},
   "source": [
    "### Representative sample based on week and location"
   ]
  },
  {
   "cell_type": "code",
   "execution_count": 127,
   "id": "1c64358d",
   "metadata": {},
   "outputs": [
    {
     "data": {
      "text/html": [
       "<div>\n",
       "<style scoped>\n",
       "    .dataframe tbody tr th:only-of-type {\n",
       "        vertical-align: middle;\n",
       "    }\n",
       "\n",
       "    .dataframe tbody tr th {\n",
       "        vertical-align: top;\n",
       "    }\n",
       "\n",
       "    .dataframe thead th {\n",
       "        text-align: right;\n",
       "    }\n",
       "</style>\n",
       "<table border=\"1\" class=\"dataframe\">\n",
       "  <thead>\n",
       "    <tr style=\"text-align: right;\">\n",
       "      <th></th>\n",
       "      <th>year_week</th>\n",
       "      <th>LocationName</th>\n",
       "      <th>group_size</th>\n",
       "      <th>proportion</th>\n",
       "    </tr>\n",
       "  </thead>\n",
       "  <tbody>\n",
       "    <tr>\n",
       "      <th>0</th>\n",
       "      <td>2017-w35</td>\n",
       "      <td>Acre</td>\n",
       "      <td>2</td>\n",
       "      <td>0.000395</td>\n",
       "    </tr>\n",
       "    <tr>\n",
       "      <th>1</th>\n",
       "      <td>2017-w35</td>\n",
       "      <td>Amazonas</td>\n",
       "      <td>3</td>\n",
       "      <td>0.000593</td>\n",
       "    </tr>\n",
       "    <tr>\n",
       "      <th>2</th>\n",
       "      <td>2017-w35</td>\n",
       "      <td>Bahia</td>\n",
       "      <td>8</td>\n",
       "      <td>0.001582</td>\n",
       "    </tr>\n",
       "    <tr>\n",
       "      <th>3</th>\n",
       "      <td>2017-w35</td>\n",
       "      <td>Ceara</td>\n",
       "      <td>3</td>\n",
       "      <td>0.000593</td>\n",
       "    </tr>\n",
       "    <tr>\n",
       "      <th>4</th>\n",
       "      <td>2017-w35</td>\n",
       "      <td>Distrito Federal</td>\n",
       "      <td>4</td>\n",
       "      <td>0.000791</td>\n",
       "    </tr>\n",
       "    <tr>\n",
       "      <th>...</th>\n",
       "      <td>...</td>\n",
       "      <td>...</td>\n",
       "      <td>...</td>\n",
       "      <td>...</td>\n",
       "    </tr>\n",
       "    <tr>\n",
       "      <th>117</th>\n",
       "      <td>2017-w39</td>\n",
       "      <td>Roraima</td>\n",
       "      <td>4</td>\n",
       "      <td>0.000791</td>\n",
       "    </tr>\n",
       "    <tr>\n",
       "      <th>118</th>\n",
       "      <td>2017-w39</td>\n",
       "      <td>Santa Catarina</td>\n",
       "      <td>9</td>\n",
       "      <td>0.001780</td>\n",
       "    </tr>\n",
       "    <tr>\n",
       "      <th>119</th>\n",
       "      <td>2017-w39</td>\n",
       "      <td>Sao Paulo</td>\n",
       "      <td>117</td>\n",
       "      <td>0.023136</td>\n",
       "    </tr>\n",
       "    <tr>\n",
       "      <th>120</th>\n",
       "      <td>2017-w39</td>\n",
       "      <td>Sergipe</td>\n",
       "      <td>5</td>\n",
       "      <td>0.000989</td>\n",
       "    </tr>\n",
       "    <tr>\n",
       "      <th>121</th>\n",
       "      <td>2017-w39</td>\n",
       "      <td>Tocantins</td>\n",
       "      <td>3</td>\n",
       "      <td>0.000593</td>\n",
       "    </tr>\n",
       "  </tbody>\n",
       "</table>\n",
       "<p>122 rows × 4 columns</p>\n",
       "</div>"
      ],
      "text/plain": [
       "    year_week      LocationName  group_size  proportion\n",
       "0    2017-w35              Acre           2    0.000395\n",
       "1    2017-w35          Amazonas           3    0.000593\n",
       "2    2017-w35             Bahia           8    0.001582\n",
       "3    2017-w35             Ceara           3    0.000593\n",
       "4    2017-w35  Distrito Federal           4    0.000791\n",
       "..        ...               ...         ...         ...\n",
       "117  2017-w39           Roraima           4    0.000791\n",
       "118  2017-w39    Santa Catarina           9    0.001780\n",
       "119  2017-w39         Sao Paulo         117    0.023136\n",
       "120  2017-w39           Sergipe           5    0.000989\n",
       "121  2017-w39         Tocantins           3    0.000593\n",
       "\n",
       "[122 rows x 4 columns]"
      ]
     },
     "execution_count": 127,
     "metadata": {},
     "output_type": "execute_result"
    }
   ],
   "source": [
    "# Step 1: Calculate the size of each group (year_week, LocationName)\n",
    "group_sizes = df_2017_09_neu.groupby(['year_week', 'LocationName']).size().reset_index(name='group_size')\n",
    "\n",
    "# Step 2: Calculate the proportion of each group in the dataset\n",
    "total_rows = len(df_2017_09_neu)\n",
    "group_sizes['proportion'] = group_sizes['group_size'] / total_rows\n",
    "group_sizes"
   ]
  },
  {
   "cell_type": "code",
   "execution_count": 128,
   "id": "0f70bf42",
   "metadata": {},
   "outputs": [
    {
     "data": {
      "text/html": [
       "<div>\n",
       "<style scoped>\n",
       "    .dataframe tbody tr th:only-of-type {\n",
       "        vertical-align: middle;\n",
       "    }\n",
       "\n",
       "    .dataframe tbody tr th {\n",
       "        vertical-align: top;\n",
       "    }\n",
       "\n",
       "    .dataframe thead th {\n",
       "        text-align: right;\n",
       "    }\n",
       "</style>\n",
       "<table border=\"1\" class=\"dataframe\">\n",
       "  <thead>\n",
       "    <tr style=\"text-align: right;\">\n",
       "      <th></th>\n",
       "      <th>year_week</th>\n",
       "      <th>LocationName</th>\n",
       "      <th>group_size</th>\n",
       "      <th>proportion</th>\n",
       "      <th>sample_size</th>\n",
       "    </tr>\n",
       "  </thead>\n",
       "  <tbody>\n",
       "    <tr>\n",
       "      <th>0</th>\n",
       "      <td>2017-w35</td>\n",
       "      <td>Acre</td>\n",
       "      <td>2</td>\n",
       "      <td>0.000395</td>\n",
       "      <td>0</td>\n",
       "    </tr>\n",
       "    <tr>\n",
       "      <th>1</th>\n",
       "      <td>2017-w35</td>\n",
       "      <td>Amazonas</td>\n",
       "      <td>3</td>\n",
       "      <td>0.000593</td>\n",
       "      <td>1</td>\n",
       "    </tr>\n",
       "    <tr>\n",
       "      <th>2</th>\n",
       "      <td>2017-w35</td>\n",
       "      <td>Bahia</td>\n",
       "      <td>8</td>\n",
       "      <td>0.001582</td>\n",
       "      <td>3</td>\n",
       "    </tr>\n",
       "    <tr>\n",
       "      <th>3</th>\n",
       "      <td>2017-w35</td>\n",
       "      <td>Ceara</td>\n",
       "      <td>3</td>\n",
       "      <td>0.000593</td>\n",
       "      <td>1</td>\n",
       "    </tr>\n",
       "    <tr>\n",
       "      <th>4</th>\n",
       "      <td>2017-w35</td>\n",
       "      <td>Distrito Federal</td>\n",
       "      <td>4</td>\n",
       "      <td>0.000791</td>\n",
       "      <td>1</td>\n",
       "    </tr>\n",
       "    <tr>\n",
       "      <th>...</th>\n",
       "      <td>...</td>\n",
       "      <td>...</td>\n",
       "      <td>...</td>\n",
       "      <td>...</td>\n",
       "      <td>...</td>\n",
       "    </tr>\n",
       "    <tr>\n",
       "      <th>117</th>\n",
       "      <td>2017-w39</td>\n",
       "      <td>Roraima</td>\n",
       "      <td>4</td>\n",
       "      <td>0.000791</td>\n",
       "      <td>1</td>\n",
       "    </tr>\n",
       "    <tr>\n",
       "      <th>118</th>\n",
       "      <td>2017-w39</td>\n",
       "      <td>Santa Catarina</td>\n",
       "      <td>9</td>\n",
       "      <td>0.001780</td>\n",
       "      <td>4</td>\n",
       "    </tr>\n",
       "    <tr>\n",
       "      <th>119</th>\n",
       "      <td>2017-w39</td>\n",
       "      <td>Sao Paulo</td>\n",
       "      <td>117</td>\n",
       "      <td>0.023136</td>\n",
       "      <td>56</td>\n",
       "    </tr>\n",
       "    <tr>\n",
       "      <th>120</th>\n",
       "      <td>2017-w39</td>\n",
       "      <td>Sergipe</td>\n",
       "      <td>5</td>\n",
       "      <td>0.000989</td>\n",
       "      <td>2</td>\n",
       "    </tr>\n",
       "    <tr>\n",
       "      <th>121</th>\n",
       "      <td>2017-w39</td>\n",
       "      <td>Tocantins</td>\n",
       "      <td>3</td>\n",
       "      <td>0.000593</td>\n",
       "      <td>1</td>\n",
       "    </tr>\n",
       "  </tbody>\n",
       "</table>\n",
       "<p>122 rows × 5 columns</p>\n",
       "</div>"
      ],
      "text/plain": [
       "    year_week      LocationName  group_size  proportion  sample_size\n",
       "0    2017-w35              Acre           2    0.000395            0\n",
       "1    2017-w35          Amazonas           3    0.000593            1\n",
       "2    2017-w35             Bahia           8    0.001582            3\n",
       "3    2017-w35             Ceara           3    0.000593            1\n",
       "4    2017-w35  Distrito Federal           4    0.000791            1\n",
       "..        ...               ...         ...         ...          ...\n",
       "117  2017-w39           Roraima           4    0.000791            1\n",
       "118  2017-w39    Santa Catarina           9    0.001780            4\n",
       "119  2017-w39         Sao Paulo         117    0.023136           56\n",
       "120  2017-w39           Sergipe           5    0.000989            2\n",
       "121  2017-w39         Tocantins           3    0.000593            1\n",
       "\n",
       "[122 rows x 5 columns]"
      ]
     },
     "execution_count": 128,
     "metadata": {},
     "output_type": "execute_result"
    }
   ],
   "source": [
    "# Step 3: Define the target sample size\n",
    "target_sample_size = 2450\n",
    "\n",
    "# Step 4: Calculate the sample size for each group (based on its proportion)\n",
    "group_sizes['sample_size'] = np.floor(group_sizes['proportion'] * target_sample_size).astype(int)\n",
    "group_sizes"
   ]
  },
  {
   "cell_type": "code",
   "execution_count": 129,
   "id": "1fbb0b3e",
   "metadata": {},
   "outputs": [],
   "source": [
    "# Step 5: Merge this sample size information back to the original DataFrame\n",
    "df_2017_09_neu_sample_size = pd.merge(df_2017_09_neu, group_sizes[['year_week', 'LocationName', 'sample_size']], \n",
    "                               on=['year_week', 'LocationName'], how='left')"
   ]
  },
  {
   "cell_type": "code",
   "execution_count": 130,
   "id": "e62cb3ac",
   "metadata": {},
   "outputs": [
    {
     "name": "stdout",
     "output_type": "stream",
     "text": [
      "Sampled 2380 rows.\n"
     ]
    }
   ],
   "source": [
    "# Step 6: Perform the stratified sampling\n",
    "df_2017_09_neu_sample = df_2017_09_neu_sample_size.groupby(['year_week', 'LocationName']).apply(\n",
    "    lambda group: group.sample(n=group['sample_size'].iloc[0], random_state=42)\n",
    ").reset_index(drop=True)\n",
    "\n",
    "# Step 7: Check the result\n",
    "print(f\"Sampled {len(df_2017_09_neu_sample)} rows.\")\n"
   ]
  },
  {
   "cell_type": "code",
   "execution_count": 131,
   "id": "f94fe9d7",
   "metadata": {},
   "outputs": [],
   "source": [
    "text_gpt_2017_09_neu = '\\n'.join(df_2017_09_neu_sample['text'].astype(str))"
   ]
  },
  {
   "cell_type": "markdown",
   "id": "b7904a7f",
   "metadata": {},
   "source": [
    "### Prompts and loops"
   ]
  },
  {
   "cell_type": "code",
   "execution_count": 132,
   "id": "71bbca85",
   "metadata": {},
   "outputs": [],
   "source": [
    "prompt_9 = prompt_raw.replace('TWEETS', text_gpt_2017_09_neu)"
   ]
  },
  {
   "cell_type": "code",
   "execution_count": 133,
   "id": "b7ae259f",
   "metadata": {
    "scrolled": false
   },
   "outputs": [],
   "source": [
    "response = openai.ChatCompletion.create(\n",
    "    model=\"gpt-4o-mini\",  \n",
    "    messages = [\n",
    "        {\"role\": \"user\", \"content\": prompt_9}\n",
    "    ],\n",
    "    max_tokens=400,  # Maximum number of tokens in the response\n",
    "    temperature=0.7  # Controls the randomness of the output\n",
    ")"
   ]
  },
  {
   "cell_type": "code",
   "execution_count": 134,
   "id": "8653eccf",
   "metadata": {},
   "outputs": [
    {
     "data": {
      "text/plain": [
       "'The text discusses various vaccination campaigns for both humans and animals in Brazil, highlighting the importance of vaccinations against diseases like rabies, HPV, and yellow fever. It features personal anecdotes about the challenges and experiences of taking pets or children to get vaccinated, as well as reminders about campaign deadlines and locations for vaccination clinics. Overall, it emphasizes public health awareness and the need for updated vaccination records.'"
      ]
     },
     "execution_count": 134,
     "metadata": {},
     "output_type": "execute_result"
    }
   ],
   "source": [
    "response.choices[0].message.content"
   ]
  },
  {
   "cell_type": "code",
   "execution_count": 135,
   "id": "6be7b347",
   "metadata": {},
   "outputs": [],
   "source": [
    "#summary = []\n",
    "#dataset = []"
   ]
  },
  {
   "cell_type": "code",
   "execution_count": 136,
   "id": "550a921f",
   "metadata": {},
   "outputs": [],
   "source": [
    "dataset.append(\"2017_09_neutral\")"
   ]
  },
  {
   "cell_type": "code",
   "execution_count": 137,
   "id": "83240506",
   "metadata": {},
   "outputs": [],
   "source": [
    "summary.append(response.choices[0].message.content)"
   ]
  },
  {
   "cell_type": "code",
   "execution_count": 138,
   "id": "0c75735b",
   "metadata": {
    "tags": []
   },
   "outputs": [
    {
     "name": "stdout",
     "output_type": "stream",
     "text": [
      "<class 'pandas.core.frame.DataFrame'>\n",
      "RangeIndex: 9 entries, 0 to 8\n",
      "Data columns (total 2 columns):\n",
      " #   Column   Non-Null Count  Dtype \n",
      "---  ------   --------------  ----- \n",
      " 0   dataset  9 non-null      object\n",
      " 1   summary  9 non-null      object\n",
      "dtypes: object(2)\n",
      "memory usage: 272.0+ bytes\n"
     ]
    }
   ],
   "source": [
    "df_2017_neu = pd.DataFrame(list(zip(dataset, summary)),\n",
    "                            columns = ['dataset', 'summary'])\n",
    "df_2017_neu.info()"
   ]
  },
  {
   "cell_type": "code",
   "execution_count": 139,
   "id": "fa955f73",
   "metadata": {},
   "outputs": [
    {
     "data": {
      "text/html": [
       "<div>\n",
       "<style scoped>\n",
       "    .dataframe tbody tr th:only-of-type {\n",
       "        vertical-align: middle;\n",
       "    }\n",
       "\n",
       "    .dataframe tbody tr th {\n",
       "        vertical-align: top;\n",
       "    }\n",
       "\n",
       "    .dataframe thead th {\n",
       "        text-align: right;\n",
       "    }\n",
       "</style>\n",
       "<table border=\"1\" class=\"dataframe\">\n",
       "  <thead>\n",
       "    <tr style=\"text-align: right;\">\n",
       "      <th></th>\n",
       "      <th>dataset</th>\n",
       "      <th>summary</th>\n",
       "    </tr>\n",
       "  </thead>\n",
       "  <tbody>\n",
       "    <tr>\n",
       "      <th>0</th>\n",
       "      <td>2017_01_neuitive</td>\n",
       "      <td>The sentences discuss the importance and logis...</td>\n",
       "    </tr>\n",
       "    <tr>\n",
       "      <th>1</th>\n",
       "      <td>2017_02_neuitive</td>\n",
       "      <td>The text discusses the importance of vaccinati...</td>\n",
       "    </tr>\n",
       "    <tr>\n",
       "      <th>2</th>\n",
       "      <td>2017_03_neuitive</td>\n",
       "      <td>The text discusses the ongoing vaccination cam...</td>\n",
       "    </tr>\n",
       "    <tr>\n",
       "      <th>3</th>\n",
       "      <td>2017_04_neuitive</td>\n",
       "      <td>The text discusses the vaccination campaigns a...</td>\n",
       "    </tr>\n",
       "    <tr>\n",
       "      <th>4</th>\n",
       "      <td>2017_05_neuitive</td>\n",
       "      <td>The text discusses the ongoing vaccination cam...</td>\n",
       "    </tr>\n",
       "    <tr>\n",
       "      <th>5</th>\n",
       "      <td>2017_06_neuitive</td>\n",
       "      <td>The text discusses various vaccination campaig...</td>\n",
       "    </tr>\n",
       "    <tr>\n",
       "      <th>6</th>\n",
       "      <td>2017_07_neuitive</td>\n",
       "      <td>The texts discuss various vaccination events a...</td>\n",
       "    </tr>\n",
       "    <tr>\n",
       "      <th>7</th>\n",
       "      <td>2017_08_neuitive</td>\n",
       "      <td>The text discusses various aspects of vaccinat...</td>\n",
       "    </tr>\n",
       "    <tr>\n",
       "      <th>8</th>\n",
       "      <td>2017_09_neuitive</td>\n",
       "      <td>The text discusses various vaccination campaig...</td>\n",
       "    </tr>\n",
       "  </tbody>\n",
       "</table>\n",
       "</div>"
      ],
      "text/plain": [
       "            dataset                                            summary\n",
       "0  2017_01_neuitive  The sentences discuss the importance and logis...\n",
       "1  2017_02_neuitive  The text discusses the importance of vaccinati...\n",
       "2  2017_03_neuitive  The text discusses the ongoing vaccination cam...\n",
       "3  2017_04_neuitive  The text discusses the vaccination campaigns a...\n",
       "4  2017_05_neuitive  The text discusses the ongoing vaccination cam...\n",
       "5  2017_06_neuitive  The text discusses various vaccination campaig...\n",
       "6  2017_07_neuitive  The texts discuss various vaccination events a...\n",
       "7  2017_08_neuitive  The text discusses various aspects of vaccinat...\n",
       "8  2017_09_neuitive  The text discusses various vaccination campaig..."
      ]
     },
     "execution_count": 139,
     "metadata": {},
     "output_type": "execute_result"
    }
   ],
   "source": [
    "df_2017_neu.tail(14)"
   ]
  },
  {
   "cell_type": "code",
   "execution_count": 140,
   "id": "4c204870",
   "metadata": {},
   "outputs": [
    {
     "data": {
      "text/plain": [
       "<OpenAIObject chat.completion id=chatcmpl-AUBhydnJmDymtbYp5Ds8YbnKeZx0C at 0x21597f1ee50> JSON: {\n",
       "  \"choices\": [\n",
       "    {\n",
       "      \"finish_reason\": \"stop\",\n",
       "      \"index\": 0,\n",
       "      \"logprobs\": null,\n",
       "      \"message\": {\n",
       "        \"content\": \"The text discusses various vaccination campaigns for both humans and animals in Brazil, highlighting the importance of vaccinations against diseases like rabies, HPV, and yellow fever. It features personal anecdotes about the challenges and experiences of taking pets or children to get vaccinated, as well as reminders about campaign deadlines and locations for vaccination clinics. Overall, it emphasizes public health awareness and the need for updated vaccination records.\",\n",
       "        \"refusal\": null,\n",
       "        \"role\": \"assistant\"\n",
       "      }\n",
       "    }\n",
       "  ],\n",
       "  \"created\": 1731758210,\n",
       "  \"id\": \"chatcmpl-AUBhydnJmDymtbYp5Ds8YbnKeZx0C\",\n",
       "  \"model\": \"gpt-4o-mini-2024-07-18\",\n",
       "  \"object\": \"chat.completion\",\n",
       "  \"system_fingerprint\": \"fp_0ba0d124f1\",\n",
       "  \"usage\": {\n",
       "    \"completion_tokens\": 77,\n",
       "    \"completion_tokens_details\": {\n",
       "      \"accepted_prediction_tokens\": 0,\n",
       "      \"audio_tokens\": 0,\n",
       "      \"reasoning_tokens\": 0,\n",
       "      \"rejected_prediction_tokens\": 0\n",
       "    },\n",
       "    \"prompt_tokens\": 57050,\n",
       "    \"prompt_tokens_details\": {\n",
       "      \"audio_tokens\": 0,\n",
       "      \"cached_tokens\": 0\n",
       "    },\n",
       "    \"total_tokens\": 57127\n",
       "  }\n",
       "}"
      ]
     },
     "execution_count": 140,
     "metadata": {},
     "output_type": "execute_result"
    }
   ],
   "source": [
    "response"
   ]
  },
  {
   "cell_type": "markdown",
   "id": "43f969b1",
   "metadata": {},
   "source": [
    "## October"
   ]
  },
  {
   "cell_type": "code",
   "execution_count": 141,
   "id": "28cedc2b",
   "metadata": {
    "scrolled": true,
    "tags": []
   },
   "outputs": [
    {
     "name": "stdout",
     "output_type": "stream",
     "text": [
      "<class 'pandas.core.frame.DataFrame'>\n",
      "RangeIndex: 3435 entries, 0 to 3434\n",
      "Data columns (total 53 columns):\n",
      " #   Column                  Non-Null Count  Dtype  \n",
      "---  ------                  --------------  -----  \n",
      " 0   index                   3435 non-null   int64  \n",
      " 1   LocationCode            3435 non-null   object \n",
      " 2   LocationName            3435 non-null   object \n",
      " 3   StatesCode              3435 non-null   object \n",
      " 4   ...4                    3435 non-null   int64  \n",
      " 5   id                      3435 non-null   float64\n",
      " 6   text                    3435 non-null   object \n",
      " 7   label                   3435 non-null   object \n",
      " 8   in_reply_to_status_id   365 non-null    float64\n",
      " 9   in_reply_to_user_id     385 non-null    float64\n",
      " 10  quoted_user_id          76 non-null     float64\n",
      " 11  quoted_status_id        76 non-null     float64\n",
      " 12  retweeted_user_id       556 non-null    float64\n",
      " 13  retweeted_status_id     556 non-null    float64\n",
      " 14  created_at              3435 non-null   object \n",
      " 15  entities.user_mentions  996 non-null    object \n",
      " 16  user.id                 3435 non-null   float64\n",
      " 17  user.screen_name        3435 non-null   object \n",
      " 18  user.name               3435 non-null   object \n",
      " 19  user.description        3063 non-null   object \n",
      " 20  user.timezone           0 non-null      float64\n",
      " 21  user.location           3361 non-null   object \n",
      " 22  user.num_followers      3435 non-null   int64  \n",
      " 23  user.num_following      3435 non-null   int64  \n",
      " 24  user.created_at         3435 non-null   object \n",
      " 25  user.statuses_count     3435 non-null   int64  \n",
      " 26  user.is_verified        3435 non-null   bool   \n",
      " 27  lang                    3435 non-null   object \n",
      " 28  token_count             3435 non-null   int64  \n",
      " 29  is_retweet              3435 non-null   bool   \n",
      " 30  has_quote               3435 non-null   bool   \n",
      " 31  is_reply                3435 non-null   bool   \n",
      " 32  contains_keywords       3435 non-null   bool   \n",
      " 33  longitude               3435 non-null   float64\n",
      " 34  latitude                3435 non-null   float64\n",
      " 35  country_code            3435 non-null   object \n",
      " 36  geoname_id              3016 non-null   float64\n",
      " 37  location_type           3435 non-null   object \n",
      " 38  geo_type                3435 non-null   int64  \n",
      " 39  region                  3435 non-null   object \n",
      " 40  subregion               3435 non-null   object \n",
      " 41  num_quotes              3435 non-null   int64  \n",
      " 42  num_replies             3435 non-null   int64  \n",
      " 43  num_retweets            3435 non-null   int64  \n",
      " 44  sent_gpt                3435 non-null   object \n",
      " 45  gpt_sent_presence       3435 non-null   int64  \n",
      " 46  cleaned_text_lem        3435 non-null   object \n",
      " 47  cleaned_text            3435 non-null   object \n",
      " 48  month                   3435 non-null   int64  \n",
      " 49  year                    3435 non-null   int64  \n",
      " 50  week                    3435 non-null   int64  \n",
      " 51  year_month              3435 non-null   object \n",
      " 52  year_week               3435 non-null   object \n",
      "dtypes: bool(5), float64(12), int64(14), object(22)\n",
      "memory usage: 1.3+ MB\n"
     ]
    }
   ],
   "source": [
    "# Get monthly data\n",
    "df_2017_10_neu = pd.read_csv('../data/local/df_neu_2017-10.csv').reset_index()\n",
    "df_2017_10_neu.info()"
   ]
  },
  {
   "cell_type": "markdown",
   "id": "616f674a",
   "metadata": {},
   "source": [
    "### Representative sample based on week and location"
   ]
  },
  {
   "cell_type": "code",
   "execution_count": 142,
   "id": "9cb193cd",
   "metadata": {},
   "outputs": [
    {
     "data": {
      "text/html": [
       "<div>\n",
       "<style scoped>\n",
       "    .dataframe tbody tr th:only-of-type {\n",
       "        vertical-align: middle;\n",
       "    }\n",
       "\n",
       "    .dataframe tbody tr th {\n",
       "        vertical-align: top;\n",
       "    }\n",
       "\n",
       "    .dataframe thead th {\n",
       "        text-align: right;\n",
       "    }\n",
       "</style>\n",
       "<table border=\"1\" class=\"dataframe\">\n",
       "  <thead>\n",
       "    <tr style=\"text-align: right;\">\n",
       "      <th></th>\n",
       "      <th>year_week</th>\n",
       "      <th>LocationName</th>\n",
       "      <th>group_size</th>\n",
       "      <th>proportion</th>\n",
       "    </tr>\n",
       "  </thead>\n",
       "  <tbody>\n",
       "    <tr>\n",
       "      <th>0</th>\n",
       "      <td>2017-w40</td>\n",
       "      <td>Acre</td>\n",
       "      <td>5</td>\n",
       "      <td>0.001456</td>\n",
       "    </tr>\n",
       "    <tr>\n",
       "      <th>1</th>\n",
       "      <td>2017-w40</td>\n",
       "      <td>Alagoas</td>\n",
       "      <td>5</td>\n",
       "      <td>0.001456</td>\n",
       "    </tr>\n",
       "    <tr>\n",
       "      <th>2</th>\n",
       "      <td>2017-w40</td>\n",
       "      <td>Amapa</td>\n",
       "      <td>2</td>\n",
       "      <td>0.000582</td>\n",
       "    </tr>\n",
       "    <tr>\n",
       "      <th>3</th>\n",
       "      <td>2017-w40</td>\n",
       "      <td>Amazonas</td>\n",
       "      <td>22</td>\n",
       "      <td>0.006405</td>\n",
       "    </tr>\n",
       "    <tr>\n",
       "      <th>4</th>\n",
       "      <td>2017-w40</td>\n",
       "      <td>Bahia</td>\n",
       "      <td>35</td>\n",
       "      <td>0.010189</td>\n",
       "    </tr>\n",
       "    <tr>\n",
       "      <th>...</th>\n",
       "      <td>...</td>\n",
       "      <td>...</td>\n",
       "      <td>...</td>\n",
       "      <td>...</td>\n",
       "    </tr>\n",
       "    <tr>\n",
       "      <th>110</th>\n",
       "      <td>2017-w44</td>\n",
       "      <td>Rondonia</td>\n",
       "      <td>1</td>\n",
       "      <td>0.000291</td>\n",
       "    </tr>\n",
       "    <tr>\n",
       "      <th>111</th>\n",
       "      <td>2017-w44</td>\n",
       "      <td>Roraima</td>\n",
       "      <td>1</td>\n",
       "      <td>0.000291</td>\n",
       "    </tr>\n",
       "    <tr>\n",
       "      <th>112</th>\n",
       "      <td>2017-w44</td>\n",
       "      <td>Santa Catarina</td>\n",
       "      <td>5</td>\n",
       "      <td>0.001456</td>\n",
       "    </tr>\n",
       "    <tr>\n",
       "      <th>113</th>\n",
       "      <td>2017-w44</td>\n",
       "      <td>Sao Paulo</td>\n",
       "      <td>100</td>\n",
       "      <td>0.029112</td>\n",
       "    </tr>\n",
       "    <tr>\n",
       "      <th>114</th>\n",
       "      <td>2017-w44</td>\n",
       "      <td>Tocantins</td>\n",
       "      <td>1</td>\n",
       "      <td>0.000291</td>\n",
       "    </tr>\n",
       "  </tbody>\n",
       "</table>\n",
       "<p>115 rows × 4 columns</p>\n",
       "</div>"
      ],
      "text/plain": [
       "    year_week    LocationName  group_size  proportion\n",
       "0    2017-w40            Acre           5    0.001456\n",
       "1    2017-w40         Alagoas           5    0.001456\n",
       "2    2017-w40           Amapa           2    0.000582\n",
       "3    2017-w40        Amazonas          22    0.006405\n",
       "4    2017-w40           Bahia          35    0.010189\n",
       "..        ...             ...         ...         ...\n",
       "110  2017-w44        Rondonia           1    0.000291\n",
       "111  2017-w44         Roraima           1    0.000291\n",
       "112  2017-w44  Santa Catarina           5    0.001456\n",
       "113  2017-w44       Sao Paulo         100    0.029112\n",
       "114  2017-w44       Tocantins           1    0.000291\n",
       "\n",
       "[115 rows x 4 columns]"
      ]
     },
     "execution_count": 142,
     "metadata": {},
     "output_type": "execute_result"
    }
   ],
   "source": [
    "# Step 1: Calculate the size of each group (year_week, LocationName)\n",
    "group_sizes = df_2017_10_neu.groupby(['year_week', 'LocationName']).size().reset_index(name='group_size')\n",
    "\n",
    "# Step 2: Calculate the proportion of each group in the dataset\n",
    "total_rows = len(df_2017_10_neu)\n",
    "group_sizes['proportion'] = group_sizes['group_size'] / total_rows\n",
    "group_sizes"
   ]
  },
  {
   "cell_type": "code",
   "execution_count": 143,
   "id": "610efcf6",
   "metadata": {},
   "outputs": [
    {
     "data": {
      "text/html": [
       "<div>\n",
       "<style scoped>\n",
       "    .dataframe tbody tr th:only-of-type {\n",
       "        vertical-align: middle;\n",
       "    }\n",
       "\n",
       "    .dataframe tbody tr th {\n",
       "        vertical-align: top;\n",
       "    }\n",
       "\n",
       "    .dataframe thead th {\n",
       "        text-align: right;\n",
       "    }\n",
       "</style>\n",
       "<table border=\"1\" class=\"dataframe\">\n",
       "  <thead>\n",
       "    <tr style=\"text-align: right;\">\n",
       "      <th></th>\n",
       "      <th>year_week</th>\n",
       "      <th>LocationName</th>\n",
       "      <th>group_size</th>\n",
       "      <th>proportion</th>\n",
       "      <th>sample_size</th>\n",
       "    </tr>\n",
       "  </thead>\n",
       "  <tbody>\n",
       "    <tr>\n",
       "      <th>0</th>\n",
       "      <td>2017-w40</td>\n",
       "      <td>Acre</td>\n",
       "      <td>5</td>\n",
       "      <td>0.001456</td>\n",
       "      <td>3</td>\n",
       "    </tr>\n",
       "    <tr>\n",
       "      <th>1</th>\n",
       "      <td>2017-w40</td>\n",
       "      <td>Alagoas</td>\n",
       "      <td>5</td>\n",
       "      <td>0.001456</td>\n",
       "      <td>3</td>\n",
       "    </tr>\n",
       "    <tr>\n",
       "      <th>2</th>\n",
       "      <td>2017-w40</td>\n",
       "      <td>Amapa</td>\n",
       "      <td>2</td>\n",
       "      <td>0.000582</td>\n",
       "      <td>1</td>\n",
       "    </tr>\n",
       "    <tr>\n",
       "      <th>3</th>\n",
       "      <td>2017-w40</td>\n",
       "      <td>Amazonas</td>\n",
       "      <td>22</td>\n",
       "      <td>0.006405</td>\n",
       "      <td>15</td>\n",
       "    </tr>\n",
       "    <tr>\n",
       "      <th>4</th>\n",
       "      <td>2017-w40</td>\n",
       "      <td>Bahia</td>\n",
       "      <td>35</td>\n",
       "      <td>0.010189</td>\n",
       "      <td>24</td>\n",
       "    </tr>\n",
       "    <tr>\n",
       "      <th>...</th>\n",
       "      <td>...</td>\n",
       "      <td>...</td>\n",
       "      <td>...</td>\n",
       "      <td>...</td>\n",
       "      <td>...</td>\n",
       "    </tr>\n",
       "    <tr>\n",
       "      <th>110</th>\n",
       "      <td>2017-w44</td>\n",
       "      <td>Rondonia</td>\n",
       "      <td>1</td>\n",
       "      <td>0.000291</td>\n",
       "      <td>0</td>\n",
       "    </tr>\n",
       "    <tr>\n",
       "      <th>111</th>\n",
       "      <td>2017-w44</td>\n",
       "      <td>Roraima</td>\n",
       "      <td>1</td>\n",
       "      <td>0.000291</td>\n",
       "      <td>0</td>\n",
       "    </tr>\n",
       "    <tr>\n",
       "      <th>112</th>\n",
       "      <td>2017-w44</td>\n",
       "      <td>Santa Catarina</td>\n",
       "      <td>5</td>\n",
       "      <td>0.001456</td>\n",
       "      <td>3</td>\n",
       "    </tr>\n",
       "    <tr>\n",
       "      <th>113</th>\n",
       "      <td>2017-w44</td>\n",
       "      <td>Sao Paulo</td>\n",
       "      <td>100</td>\n",
       "      <td>0.029112</td>\n",
       "      <td>71</td>\n",
       "    </tr>\n",
       "    <tr>\n",
       "      <th>114</th>\n",
       "      <td>2017-w44</td>\n",
       "      <td>Tocantins</td>\n",
       "      <td>1</td>\n",
       "      <td>0.000291</td>\n",
       "      <td>0</td>\n",
       "    </tr>\n",
       "  </tbody>\n",
       "</table>\n",
       "<p>115 rows × 5 columns</p>\n",
       "</div>"
      ],
      "text/plain": [
       "    year_week    LocationName  group_size  proportion  sample_size\n",
       "0    2017-w40            Acre           5    0.001456            3\n",
       "1    2017-w40         Alagoas           5    0.001456            3\n",
       "2    2017-w40           Amapa           2    0.000582            1\n",
       "3    2017-w40        Amazonas          22    0.006405           15\n",
       "4    2017-w40           Bahia          35    0.010189           24\n",
       "..        ...             ...         ...         ...          ...\n",
       "110  2017-w44        Rondonia           1    0.000291            0\n",
       "111  2017-w44         Roraima           1    0.000291            0\n",
       "112  2017-w44  Santa Catarina           5    0.001456            3\n",
       "113  2017-w44       Sao Paulo         100    0.029112           71\n",
       "114  2017-w44       Tocantins           1    0.000291            0\n",
       "\n",
       "[115 rows x 5 columns]"
      ]
     },
     "execution_count": 143,
     "metadata": {},
     "output_type": "execute_result"
    }
   ],
   "source": [
    "# Step 3: Define the target sample size\n",
    "target_sample_size = 2450\n",
    "\n",
    "# Step 4: Calculate the sample size for each group (based on its proportion)\n",
    "group_sizes['sample_size'] = np.floor(group_sizes['proportion'] * target_sample_size).astype(int)\n",
    "group_sizes"
   ]
  },
  {
   "cell_type": "code",
   "execution_count": 144,
   "id": "361d2734",
   "metadata": {},
   "outputs": [],
   "source": [
    "# Step 5: Merge this sample size information back to the original DataFrame\n",
    "df_2017_10_neu_sample_size = pd.merge(df_2017_10_neu, group_sizes[['year_week', 'LocationName', 'sample_size']], \n",
    "                               on=['year_week', 'LocationName'], how='left')"
   ]
  },
  {
   "cell_type": "code",
   "execution_count": 145,
   "id": "cd34d6e4",
   "metadata": {},
   "outputs": [
    {
     "name": "stdout",
     "output_type": "stream",
     "text": [
      "Sampled 2386 rows.\n"
     ]
    }
   ],
   "source": [
    "# Step 6: Perform the stratified sampling\n",
    "df_2017_10_neu_sample = df_2017_10_neu_sample_size.groupby(['year_week', 'LocationName']).apply(\n",
    "    lambda group: group.sample(n=group['sample_size'].iloc[0], random_state=42)\n",
    ").reset_index(drop=True)\n",
    "\n",
    "# Step 7: Check the result\n",
    "print(f\"Sampled {len(df_2017_10_neu_sample)} rows.\")\n"
   ]
  },
  {
   "cell_type": "code",
   "execution_count": 146,
   "id": "853aa7a6",
   "metadata": {},
   "outputs": [],
   "source": [
    "text_gpt_2017_10_neu = '\\n'.join(df_2017_10_neu_sample['text'].astype(str))"
   ]
  },
  {
   "cell_type": "markdown",
   "id": "0e857dd6",
   "metadata": {},
   "source": [
    "### Prompts and loops"
   ]
  },
  {
   "cell_type": "code",
   "execution_count": 147,
   "id": "997a28ad",
   "metadata": {},
   "outputs": [],
   "source": [
    "prompt_10 = prompt_raw.replace('TWEETS', text_gpt_2017_10_neu)"
   ]
  },
  {
   "cell_type": "code",
   "execution_count": 148,
   "id": "0ad6cb21",
   "metadata": {
    "scrolled": false
   },
   "outputs": [],
   "source": [
    "response = openai.ChatCompletion.create(\n",
    "    model=\"gpt-4o-mini\",  \n",
    "    messages = [\n",
    "        {\"role\": \"user\", \"content\": prompt_10}\n",
    "    ],\n",
    "    max_tokens=400,  # Maximum number of tokens in the response\n",
    "    temperature=0.7  # Controls the randomness of the output\n",
    ")"
   ]
  },
  {
   "cell_type": "code",
   "execution_count": 149,
   "id": "f98d14d4",
   "metadata": {},
   "outputs": [
    {
     "data": {
      "text/plain": [
       "'The text discusses various aspects of vaccination, including the importance of updating vaccination records for children, the approval of plans to phase out cattle vaccination against foot-and-mouth disease, and the launch of rabies vaccination campaigns for pets. There are also references to misconceptions about vaccines, such as false claims regarding HPV vaccines. Additionally, it highlights the urgency of getting vaccinated due to outbreaks, especially in relation to diseases like measles and yellow fever. Overall, the content focuses on public health initiatives, vaccination campaigns, and common public attitudes toward vaccinations.'"
      ]
     },
     "execution_count": 149,
     "metadata": {},
     "output_type": "execute_result"
    }
   ],
   "source": [
    "response.choices[0].message.content"
   ]
  },
  {
   "cell_type": "code",
   "execution_count": 150,
   "id": "148185bf",
   "metadata": {},
   "outputs": [],
   "source": [
    "#summary = []\n",
    "#dataset = []"
   ]
  },
  {
   "cell_type": "code",
   "execution_count": 151,
   "id": "91999070",
   "metadata": {},
   "outputs": [],
   "source": [
    "dataset.append(\"2017_10_neutral\")"
   ]
  },
  {
   "cell_type": "code",
   "execution_count": 152,
   "id": "ca0c8fcc",
   "metadata": {},
   "outputs": [],
   "source": [
    "summary.append(response.choices[0].message.content)"
   ]
  },
  {
   "cell_type": "code",
   "execution_count": 153,
   "id": "75de78c6",
   "metadata": {
    "tags": []
   },
   "outputs": [
    {
     "name": "stdout",
     "output_type": "stream",
     "text": [
      "<class 'pandas.core.frame.DataFrame'>\n",
      "RangeIndex: 10 entries, 0 to 9\n",
      "Data columns (total 2 columns):\n",
      " #   Column   Non-Null Count  Dtype \n",
      "---  ------   --------------  ----- \n",
      " 0   dataset  10 non-null     object\n",
      " 1   summary  10 non-null     object\n",
      "dtypes: object(2)\n",
      "memory usage: 288.0+ bytes\n"
     ]
    }
   ],
   "source": [
    "df_2017_neu = pd.DataFrame(list(zip(dataset, summary)),\n",
    "                            columns = ['dataset', 'summary'])\n",
    "df_2017_neu.info()"
   ]
  },
  {
   "cell_type": "code",
   "execution_count": 154,
   "id": "33f398cf",
   "metadata": {},
   "outputs": [
    {
     "data": {
      "text/html": [
       "<div>\n",
       "<style scoped>\n",
       "    .dataframe tbody tr th:only-of-type {\n",
       "        vertical-align: middle;\n",
       "    }\n",
       "\n",
       "    .dataframe tbody tr th {\n",
       "        vertical-align: top;\n",
       "    }\n",
       "\n",
       "    .dataframe thead th {\n",
       "        text-align: right;\n",
       "    }\n",
       "</style>\n",
       "<table border=\"1\" class=\"dataframe\">\n",
       "  <thead>\n",
       "    <tr style=\"text-align: right;\">\n",
       "      <th></th>\n",
       "      <th>dataset</th>\n",
       "      <th>summary</th>\n",
       "    </tr>\n",
       "  </thead>\n",
       "  <tbody>\n",
       "    <tr>\n",
       "      <th>0</th>\n",
       "      <td>2017_01_neuitive</td>\n",
       "      <td>The sentences discuss the importance and logis...</td>\n",
       "    </tr>\n",
       "    <tr>\n",
       "      <th>1</th>\n",
       "      <td>2017_02_neuitive</td>\n",
       "      <td>The text discusses the importance of vaccinati...</td>\n",
       "    </tr>\n",
       "    <tr>\n",
       "      <th>2</th>\n",
       "      <td>2017_03_neuitive</td>\n",
       "      <td>The text discusses the ongoing vaccination cam...</td>\n",
       "    </tr>\n",
       "    <tr>\n",
       "      <th>3</th>\n",
       "      <td>2017_04_neuitive</td>\n",
       "      <td>The text discusses the vaccination campaigns a...</td>\n",
       "    </tr>\n",
       "    <tr>\n",
       "      <th>4</th>\n",
       "      <td>2017_05_neuitive</td>\n",
       "      <td>The text discusses the ongoing vaccination cam...</td>\n",
       "    </tr>\n",
       "    <tr>\n",
       "      <th>5</th>\n",
       "      <td>2017_06_neuitive</td>\n",
       "      <td>The text discusses various vaccination campaig...</td>\n",
       "    </tr>\n",
       "    <tr>\n",
       "      <th>6</th>\n",
       "      <td>2017_07_neuitive</td>\n",
       "      <td>The texts discuss various vaccination events a...</td>\n",
       "    </tr>\n",
       "    <tr>\n",
       "      <th>7</th>\n",
       "      <td>2017_08_neuitive</td>\n",
       "      <td>The text discusses various aspects of vaccinat...</td>\n",
       "    </tr>\n",
       "    <tr>\n",
       "      <th>8</th>\n",
       "      <td>2017_09_neuitive</td>\n",
       "      <td>The text discusses various vaccination campaig...</td>\n",
       "    </tr>\n",
       "    <tr>\n",
       "      <th>9</th>\n",
       "      <td>2017_10_neuitive</td>\n",
       "      <td>The text discusses various aspects of vaccinat...</td>\n",
       "    </tr>\n",
       "  </tbody>\n",
       "</table>\n",
       "</div>"
      ],
      "text/plain": [
       "            dataset                                            summary\n",
       "0  2017_01_neuitive  The sentences discuss the importance and logis...\n",
       "1  2017_02_neuitive  The text discusses the importance of vaccinati...\n",
       "2  2017_03_neuitive  The text discusses the ongoing vaccination cam...\n",
       "3  2017_04_neuitive  The text discusses the vaccination campaigns a...\n",
       "4  2017_05_neuitive  The text discusses the ongoing vaccination cam...\n",
       "5  2017_06_neuitive  The text discusses various vaccination campaig...\n",
       "6  2017_07_neuitive  The texts discuss various vaccination events a...\n",
       "7  2017_08_neuitive  The text discusses various aspects of vaccinat...\n",
       "8  2017_09_neuitive  The text discusses various vaccination campaig...\n",
       "9  2017_10_neuitive  The text discusses various aspects of vaccinat..."
      ]
     },
     "execution_count": 154,
     "metadata": {},
     "output_type": "execute_result"
    }
   ],
   "source": [
    "df_2017_neu.tail(14)"
   ]
  },
  {
   "cell_type": "code",
   "execution_count": 155,
   "id": "c9aa4469",
   "metadata": {},
   "outputs": [
    {
     "data": {
      "text/plain": [
       "<OpenAIObject chat.completion id=chatcmpl-AUBi5FVrkZNypZ5nPWy6sCLUNHEL7 at 0x21597f3e810> JSON: {\n",
       "  \"choices\": [\n",
       "    {\n",
       "      \"finish_reason\": \"stop\",\n",
       "      \"index\": 0,\n",
       "      \"logprobs\": null,\n",
       "      \"message\": {\n",
       "        \"content\": \"The text discusses various aspects of vaccination, including the importance of updating vaccination records for children, the approval of plans to phase out cattle vaccination against foot-and-mouth disease, and the launch of rabies vaccination campaigns for pets. There are also references to misconceptions about vaccines, such as false claims regarding HPV vaccines. Additionally, it highlights the urgency of getting vaccinated due to outbreaks, especially in relation to diseases like measles and yellow fever. Overall, the content focuses on public health initiatives, vaccination campaigns, and common public attitudes toward vaccinations.\",\n",
       "        \"refusal\": null,\n",
       "        \"role\": \"assistant\"\n",
       "      }\n",
       "    }\n",
       "  ],\n",
       "  \"created\": 1731758217,\n",
       "  \"id\": \"chatcmpl-AUBi5FVrkZNypZ5nPWy6sCLUNHEL7\",\n",
       "  \"model\": \"gpt-4o-mini-2024-07-18\",\n",
       "  \"object\": \"chat.completion\",\n",
       "  \"system_fingerprint\": \"fp_9b78b61c52\",\n",
       "  \"usage\": {\n",
       "    \"completion_tokens\": 106,\n",
       "    \"completion_tokens_details\": {\n",
       "      \"accepted_prediction_tokens\": 0,\n",
       "      \"audio_tokens\": 0,\n",
       "      \"reasoning_tokens\": 0,\n",
       "      \"rejected_prediction_tokens\": 0\n",
       "    },\n",
       "    \"prompt_tokens\": 52452,\n",
       "    \"prompt_tokens_details\": {\n",
       "      \"audio_tokens\": 0,\n",
       "      \"cached_tokens\": 0\n",
       "    },\n",
       "    \"total_tokens\": 52558\n",
       "  }\n",
       "}"
      ]
     },
     "execution_count": 155,
     "metadata": {},
     "output_type": "execute_result"
    }
   ],
   "source": [
    "response"
   ]
  },
  {
   "cell_type": "markdown",
   "id": "d476f7a3",
   "metadata": {},
   "source": [
    "## November"
   ]
  },
  {
   "cell_type": "code",
   "execution_count": 156,
   "id": "63dc91c7",
   "metadata": {
    "scrolled": true,
    "tags": []
   },
   "outputs": [
    {
     "name": "stdout",
     "output_type": "stream",
     "text": [
      "<class 'pandas.core.frame.DataFrame'>\n",
      "RangeIndex: 3203 entries, 0 to 3202\n",
      "Data columns (total 53 columns):\n",
      " #   Column                  Non-Null Count  Dtype  \n",
      "---  ------                  --------------  -----  \n",
      " 0   index                   3203 non-null   int64  \n",
      " 1   LocationCode            3203 non-null   object \n",
      " 2   LocationName            3203 non-null   object \n",
      " 3   StatesCode              3203 non-null   object \n",
      " 4   ...4                    3203 non-null   int64  \n",
      " 5   id                      3203 non-null   float64\n",
      " 6   text                    3203 non-null   object \n",
      " 7   label                   3203 non-null   object \n",
      " 8   in_reply_to_status_id   361 non-null    float64\n",
      " 9   in_reply_to_user_id     379 non-null    float64\n",
      " 10  quoted_user_id          91 non-null     float64\n",
      " 11  quoted_status_id        91 non-null     float64\n",
      " 12  retweeted_user_id       690 non-null    float64\n",
      " 13  retweeted_status_id     690 non-null    float64\n",
      " 14  created_at              3203 non-null   object \n",
      " 15  entities.user_mentions  1124 non-null   object \n",
      " 16  user.id                 3203 non-null   float64\n",
      " 17  user.screen_name        3203 non-null   object \n",
      " 18  user.name               3203 non-null   object \n",
      " 19  user.description        2858 non-null   object \n",
      " 20  user.timezone           0 non-null      float64\n",
      " 21  user.location           3165 non-null   object \n",
      " 22  user.num_followers      3203 non-null   int64  \n",
      " 23  user.num_following      3203 non-null   int64  \n",
      " 24  user.created_at         3203 non-null   object \n",
      " 25  user.statuses_count     3203 non-null   int64  \n",
      " 26  user.is_verified        3203 non-null   bool   \n",
      " 27  lang                    3203 non-null   object \n",
      " 28  token_count             3203 non-null   int64  \n",
      " 29  is_retweet              3203 non-null   bool   \n",
      " 30  has_quote               3203 non-null   bool   \n",
      " 31  is_reply                3203 non-null   bool   \n",
      " 32  contains_keywords       3203 non-null   bool   \n",
      " 33  longitude               3203 non-null   float64\n",
      " 34  latitude                3203 non-null   float64\n",
      " 35  country_code            3203 non-null   object \n",
      " 36  geoname_id              2911 non-null   float64\n",
      " 37  location_type           3203 non-null   object \n",
      " 38  geo_type                3203 non-null   int64  \n",
      " 39  region                  3203 non-null   object \n",
      " 40  subregion               3203 non-null   object \n",
      " 41  num_quotes              3203 non-null   int64  \n",
      " 42  num_replies             3203 non-null   int64  \n",
      " 43  num_retweets            3203 non-null   int64  \n",
      " 44  sent_gpt                3203 non-null   object \n",
      " 45  gpt_sent_presence       3203 non-null   int64  \n",
      " 46  cleaned_text_lem        3203 non-null   object \n",
      " 47  cleaned_text            3203 non-null   object \n",
      " 48  month                   3203 non-null   int64  \n",
      " 49  year                    3203 non-null   int64  \n",
      " 50  week                    3203 non-null   int64  \n",
      " 51  year_month              3203 non-null   object \n",
      " 52  year_week               3203 non-null   object \n",
      "dtypes: bool(5), float64(12), int64(14), object(22)\n",
      "memory usage: 1.2+ MB\n"
     ]
    }
   ],
   "source": [
    "# Get monthly data\n",
    "df_2017_11_neu = pd.read_csv('../data/local/df_neu_2017-11.csv').reset_index()\n",
    "df_2017_11_neu.info()"
   ]
  },
  {
   "cell_type": "markdown",
   "id": "e44ca951",
   "metadata": {},
   "source": [
    "### Representative sample based on week and location"
   ]
  },
  {
   "cell_type": "code",
   "execution_count": 157,
   "id": "58f0a8ff",
   "metadata": {},
   "outputs": [
    {
     "data": {
      "text/html": [
       "<div>\n",
       "<style scoped>\n",
       "    .dataframe tbody tr th:only-of-type {\n",
       "        vertical-align: middle;\n",
       "    }\n",
       "\n",
       "    .dataframe tbody tr th {\n",
       "        vertical-align: top;\n",
       "    }\n",
       "\n",
       "    .dataframe thead th {\n",
       "        text-align: right;\n",
       "    }\n",
       "</style>\n",
       "<table border=\"1\" class=\"dataframe\">\n",
       "  <thead>\n",
       "    <tr style=\"text-align: right;\">\n",
       "      <th></th>\n",
       "      <th>year_week</th>\n",
       "      <th>LocationName</th>\n",
       "      <th>group_size</th>\n",
       "      <th>proportion</th>\n",
       "    </tr>\n",
       "  </thead>\n",
       "  <tbody>\n",
       "    <tr>\n",
       "      <th>0</th>\n",
       "      <td>2017-w44</td>\n",
       "      <td>Acre</td>\n",
       "      <td>3</td>\n",
       "      <td>0.000937</td>\n",
       "    </tr>\n",
       "    <tr>\n",
       "      <th>1</th>\n",
       "      <td>2017-w44</td>\n",
       "      <td>Alagoas</td>\n",
       "      <td>1</td>\n",
       "      <td>0.000312</td>\n",
       "    </tr>\n",
       "    <tr>\n",
       "      <th>2</th>\n",
       "      <td>2017-w44</td>\n",
       "      <td>Amapa</td>\n",
       "      <td>5</td>\n",
       "      <td>0.001561</td>\n",
       "    </tr>\n",
       "    <tr>\n",
       "      <th>3</th>\n",
       "      <td>2017-w44</td>\n",
       "      <td>Amazonas</td>\n",
       "      <td>6</td>\n",
       "      <td>0.001873</td>\n",
       "    </tr>\n",
       "    <tr>\n",
       "      <th>4</th>\n",
       "      <td>2017-w44</td>\n",
       "      <td>Bahia</td>\n",
       "      <td>16</td>\n",
       "      <td>0.004995</td>\n",
       "    </tr>\n",
       "    <tr>\n",
       "      <th>...</th>\n",
       "      <td>...</td>\n",
       "      <td>...</td>\n",
       "      <td>...</td>\n",
       "      <td>...</td>\n",
       "    </tr>\n",
       "    <tr>\n",
       "      <th>116</th>\n",
       "      <td>2017-w48</td>\n",
       "      <td>Roraima</td>\n",
       "      <td>1</td>\n",
       "      <td>0.000312</td>\n",
       "    </tr>\n",
       "    <tr>\n",
       "      <th>117</th>\n",
       "      <td>2017-w48</td>\n",
       "      <td>Santa Catarina</td>\n",
       "      <td>14</td>\n",
       "      <td>0.004371</td>\n",
       "    </tr>\n",
       "    <tr>\n",
       "      <th>118</th>\n",
       "      <td>2017-w48</td>\n",
       "      <td>Sao Paulo</td>\n",
       "      <td>114</td>\n",
       "      <td>0.035592</td>\n",
       "    </tr>\n",
       "    <tr>\n",
       "      <th>119</th>\n",
       "      <td>2017-w48</td>\n",
       "      <td>Sergipe</td>\n",
       "      <td>5</td>\n",
       "      <td>0.001561</td>\n",
       "    </tr>\n",
       "    <tr>\n",
       "      <th>120</th>\n",
       "      <td>2017-w48</td>\n",
       "      <td>Tocantins</td>\n",
       "      <td>7</td>\n",
       "      <td>0.002185</td>\n",
       "    </tr>\n",
       "  </tbody>\n",
       "</table>\n",
       "<p>121 rows × 4 columns</p>\n",
       "</div>"
      ],
      "text/plain": [
       "    year_week    LocationName  group_size  proportion\n",
       "0    2017-w44            Acre           3    0.000937\n",
       "1    2017-w44         Alagoas           1    0.000312\n",
       "2    2017-w44           Amapa           5    0.001561\n",
       "3    2017-w44        Amazonas           6    0.001873\n",
       "4    2017-w44           Bahia          16    0.004995\n",
       "..        ...             ...         ...         ...\n",
       "116  2017-w48         Roraima           1    0.000312\n",
       "117  2017-w48  Santa Catarina          14    0.004371\n",
       "118  2017-w48       Sao Paulo         114    0.035592\n",
       "119  2017-w48         Sergipe           5    0.001561\n",
       "120  2017-w48       Tocantins           7    0.002185\n",
       "\n",
       "[121 rows x 4 columns]"
      ]
     },
     "execution_count": 157,
     "metadata": {},
     "output_type": "execute_result"
    }
   ],
   "source": [
    "# Step 1: Calculate the size of each group (year_week, LocationName)\n",
    "group_sizes = df_2017_11_neu.groupby(['year_week', 'LocationName']).size().reset_index(name='group_size')\n",
    "\n",
    "# Step 2: Calculate the proportion of each group in the dataset\n",
    "total_rows = len(df_2017_11_neu)\n",
    "group_sizes['proportion'] = group_sizes['group_size'] / total_rows\n",
    "group_sizes"
   ]
  },
  {
   "cell_type": "code",
   "execution_count": 158,
   "id": "52c7e839",
   "metadata": {},
   "outputs": [
    {
     "data": {
      "text/html": [
       "<div>\n",
       "<style scoped>\n",
       "    .dataframe tbody tr th:only-of-type {\n",
       "        vertical-align: middle;\n",
       "    }\n",
       "\n",
       "    .dataframe tbody tr th {\n",
       "        vertical-align: top;\n",
       "    }\n",
       "\n",
       "    .dataframe thead th {\n",
       "        text-align: right;\n",
       "    }\n",
       "</style>\n",
       "<table border=\"1\" class=\"dataframe\">\n",
       "  <thead>\n",
       "    <tr style=\"text-align: right;\">\n",
       "      <th></th>\n",
       "      <th>year_week</th>\n",
       "      <th>LocationName</th>\n",
       "      <th>group_size</th>\n",
       "      <th>proportion</th>\n",
       "      <th>sample_size</th>\n",
       "    </tr>\n",
       "  </thead>\n",
       "  <tbody>\n",
       "    <tr>\n",
       "      <th>0</th>\n",
       "      <td>2017-w44</td>\n",
       "      <td>Acre</td>\n",
       "      <td>3</td>\n",
       "      <td>0.000937</td>\n",
       "      <td>2</td>\n",
       "    </tr>\n",
       "    <tr>\n",
       "      <th>1</th>\n",
       "      <td>2017-w44</td>\n",
       "      <td>Alagoas</td>\n",
       "      <td>1</td>\n",
       "      <td>0.000312</td>\n",
       "      <td>0</td>\n",
       "    </tr>\n",
       "    <tr>\n",
       "      <th>2</th>\n",
       "      <td>2017-w44</td>\n",
       "      <td>Amapa</td>\n",
       "      <td>5</td>\n",
       "      <td>0.001561</td>\n",
       "      <td>3</td>\n",
       "    </tr>\n",
       "    <tr>\n",
       "      <th>3</th>\n",
       "      <td>2017-w44</td>\n",
       "      <td>Amazonas</td>\n",
       "      <td>6</td>\n",
       "      <td>0.001873</td>\n",
       "      <td>4</td>\n",
       "    </tr>\n",
       "    <tr>\n",
       "      <th>4</th>\n",
       "      <td>2017-w44</td>\n",
       "      <td>Bahia</td>\n",
       "      <td>16</td>\n",
       "      <td>0.004995</td>\n",
       "      <td>12</td>\n",
       "    </tr>\n",
       "    <tr>\n",
       "      <th>...</th>\n",
       "      <td>...</td>\n",
       "      <td>...</td>\n",
       "      <td>...</td>\n",
       "      <td>...</td>\n",
       "      <td>...</td>\n",
       "    </tr>\n",
       "    <tr>\n",
       "      <th>116</th>\n",
       "      <td>2017-w48</td>\n",
       "      <td>Roraima</td>\n",
       "      <td>1</td>\n",
       "      <td>0.000312</td>\n",
       "      <td>0</td>\n",
       "    </tr>\n",
       "    <tr>\n",
       "      <th>117</th>\n",
       "      <td>2017-w48</td>\n",
       "      <td>Santa Catarina</td>\n",
       "      <td>14</td>\n",
       "      <td>0.004371</td>\n",
       "      <td>10</td>\n",
       "    </tr>\n",
       "    <tr>\n",
       "      <th>118</th>\n",
       "      <td>2017-w48</td>\n",
       "      <td>Sao Paulo</td>\n",
       "      <td>114</td>\n",
       "      <td>0.035592</td>\n",
       "      <td>87</td>\n",
       "    </tr>\n",
       "    <tr>\n",
       "      <th>119</th>\n",
       "      <td>2017-w48</td>\n",
       "      <td>Sergipe</td>\n",
       "      <td>5</td>\n",
       "      <td>0.001561</td>\n",
       "      <td>3</td>\n",
       "    </tr>\n",
       "    <tr>\n",
       "      <th>120</th>\n",
       "      <td>2017-w48</td>\n",
       "      <td>Tocantins</td>\n",
       "      <td>7</td>\n",
       "      <td>0.002185</td>\n",
       "      <td>5</td>\n",
       "    </tr>\n",
       "  </tbody>\n",
       "</table>\n",
       "<p>121 rows × 5 columns</p>\n",
       "</div>"
      ],
      "text/plain": [
       "    year_week    LocationName  group_size  proportion  sample_size\n",
       "0    2017-w44            Acre           3    0.000937            2\n",
       "1    2017-w44         Alagoas           1    0.000312            0\n",
       "2    2017-w44           Amapa           5    0.001561            3\n",
       "3    2017-w44        Amazonas           6    0.001873            4\n",
       "4    2017-w44           Bahia          16    0.004995           12\n",
       "..        ...             ...         ...         ...          ...\n",
       "116  2017-w48         Roraima           1    0.000312            0\n",
       "117  2017-w48  Santa Catarina          14    0.004371           10\n",
       "118  2017-w48       Sao Paulo         114    0.035592           87\n",
       "119  2017-w48         Sergipe           5    0.001561            3\n",
       "120  2017-w48       Tocantins           7    0.002185            5\n",
       "\n",
       "[121 rows x 5 columns]"
      ]
     },
     "execution_count": 158,
     "metadata": {},
     "output_type": "execute_result"
    }
   ],
   "source": [
    "# Step 3: Define the target sample size\n",
    "target_sample_size = 2450\n",
    "\n",
    "# Step 4: Calculate the sample size for each group (based on its proportion)\n",
    "group_sizes['sample_size'] = np.floor(group_sizes['proportion'] * target_sample_size).astype(int)\n",
    "group_sizes"
   ]
  },
  {
   "cell_type": "code",
   "execution_count": 159,
   "id": "47bfacf4",
   "metadata": {},
   "outputs": [],
   "source": [
    "# Step 5: Merge this sample size information back to the original DataFrame\n",
    "df_2017_11_neu_sample_size = pd.merge(df_2017_11_neu, group_sizes[['year_week', 'LocationName', 'sample_size']], \n",
    "                               on=['year_week', 'LocationName'], how='left')"
   ]
  },
  {
   "cell_type": "code",
   "execution_count": 160,
   "id": "3127c68e",
   "metadata": {},
   "outputs": [
    {
     "name": "stdout",
     "output_type": "stream",
     "text": [
      "Sampled 2388 rows.\n"
     ]
    }
   ],
   "source": [
    "# Step 6: Perform the stratified sampling\n",
    "df_2017_11_neu_sample = df_2017_11_neu_sample_size.groupby(['year_week', 'LocationName']).apply(\n",
    "    lambda group: group.sample(n=group['sample_size'].iloc[0], random_state=42)\n",
    ").reset_index(drop=True)\n",
    "\n",
    "# Step 7: Check the result\n",
    "print(f\"Sampled {len(df_2017_11_neu_sample)} rows.\")\n"
   ]
  },
  {
   "cell_type": "code",
   "execution_count": 161,
   "id": "a5fc3ad1",
   "metadata": {},
   "outputs": [],
   "source": [
    "text_gpt_2017_11_neu = '\\n'.join(df_2017_11_neu_sample['text'].astype(str))"
   ]
  },
  {
   "cell_type": "markdown",
   "id": "8df94c41",
   "metadata": {},
   "source": [
    "### Prompts and loops"
   ]
  },
  {
   "cell_type": "code",
   "execution_count": 162,
   "id": "b2c43f66",
   "metadata": {},
   "outputs": [],
   "source": [
    "prompt_11 = prompt_raw.replace('TWEETS', text_gpt_2017_11_neu)"
   ]
  },
  {
   "cell_type": "code",
   "execution_count": 163,
   "id": "87bbf147",
   "metadata": {
    "scrolled": false
   },
   "outputs": [],
   "source": [
    "response = openai.ChatCompletion.create(\n",
    "    model=\"gpt-4o-mini\",  \n",
    "    messages = [\n",
    "        {\"role\": \"user\", \"content\": prompt_11}\n",
    "    ],\n",
    "    max_tokens=400,  # Maximum number of tokens in the response\n",
    "    temperature=0.7  # Controls the randomness of the output\n",
    ")"
   ]
  },
  {
   "cell_type": "code",
   "execution_count": 164,
   "id": "99d409e9",
   "metadata": {},
   "outputs": [
    {
     "data": {
      "text/plain": [
       "'The text is primarily about vaccination campaigns in Brazil, focusing on various diseases such as foot-and-mouth disease and dengue. It highlights the start of vaccination phases, the importance of keeping vaccination records up to date, and the need for public participation. Additionally, there are mentions of specific vaccination events and recommendations from health authorities regarding who should receive certain vaccines. There is also a discussion about the challenges faced in maintaining adequate vaccination coverage among the population.'"
      ]
     },
     "execution_count": 164,
     "metadata": {},
     "output_type": "execute_result"
    }
   ],
   "source": [
    "response.choices[0].message.content"
   ]
  },
  {
   "cell_type": "code",
   "execution_count": 165,
   "id": "c1cb7d55",
   "metadata": {},
   "outputs": [],
   "source": [
    "#summary = []\n",
    "#dataset = []"
   ]
  },
  {
   "cell_type": "code",
   "execution_count": 166,
   "id": "0b5f7bbc",
   "metadata": {},
   "outputs": [],
   "source": [
    "dataset.append(\"2017_11_neutral\")"
   ]
  },
  {
   "cell_type": "code",
   "execution_count": 167,
   "id": "25b7e5ff",
   "metadata": {},
   "outputs": [],
   "source": [
    "summary.append(response.choices[0].message.content)"
   ]
  },
  {
   "cell_type": "code",
   "execution_count": 168,
   "id": "10f2f273",
   "metadata": {
    "tags": []
   },
   "outputs": [
    {
     "name": "stdout",
     "output_type": "stream",
     "text": [
      "<class 'pandas.core.frame.DataFrame'>\n",
      "RangeIndex: 11 entries, 0 to 10\n",
      "Data columns (total 2 columns):\n",
      " #   Column   Non-Null Count  Dtype \n",
      "---  ------   --------------  ----- \n",
      " 0   dataset  11 non-null     object\n",
      " 1   summary  11 non-null     object\n",
      "dtypes: object(2)\n",
      "memory usage: 304.0+ bytes\n"
     ]
    }
   ],
   "source": [
    "df_2017_neu = pd.DataFrame(list(zip(dataset, summary)),\n",
    "                            columns = ['dataset', 'summary'])\n",
    "df_2017_neu.info()"
   ]
  },
  {
   "cell_type": "code",
   "execution_count": 169,
   "id": "89ced529",
   "metadata": {},
   "outputs": [
    {
     "data": {
      "text/html": [
       "<div>\n",
       "<style scoped>\n",
       "    .dataframe tbody tr th:only-of-type {\n",
       "        vertical-align: middle;\n",
       "    }\n",
       "\n",
       "    .dataframe tbody tr th {\n",
       "        vertical-align: top;\n",
       "    }\n",
       "\n",
       "    .dataframe thead th {\n",
       "        text-align: right;\n",
       "    }\n",
       "</style>\n",
       "<table border=\"1\" class=\"dataframe\">\n",
       "  <thead>\n",
       "    <tr style=\"text-align: right;\">\n",
       "      <th></th>\n",
       "      <th>dataset</th>\n",
       "      <th>summary</th>\n",
       "    </tr>\n",
       "  </thead>\n",
       "  <tbody>\n",
       "    <tr>\n",
       "      <th>0</th>\n",
       "      <td>2017_01_neuitive</td>\n",
       "      <td>The sentences discuss the importance and logis...</td>\n",
       "    </tr>\n",
       "    <tr>\n",
       "      <th>1</th>\n",
       "      <td>2017_02_neuitive</td>\n",
       "      <td>The text discusses the importance of vaccinati...</td>\n",
       "    </tr>\n",
       "    <tr>\n",
       "      <th>2</th>\n",
       "      <td>2017_03_neuitive</td>\n",
       "      <td>The text discusses the ongoing vaccination cam...</td>\n",
       "    </tr>\n",
       "    <tr>\n",
       "      <th>3</th>\n",
       "      <td>2017_04_neuitive</td>\n",
       "      <td>The text discusses the vaccination campaigns a...</td>\n",
       "    </tr>\n",
       "    <tr>\n",
       "      <th>4</th>\n",
       "      <td>2017_05_neuitive</td>\n",
       "      <td>The text discusses the ongoing vaccination cam...</td>\n",
       "    </tr>\n",
       "    <tr>\n",
       "      <th>5</th>\n",
       "      <td>2017_06_neuitive</td>\n",
       "      <td>The text discusses various vaccination campaig...</td>\n",
       "    </tr>\n",
       "    <tr>\n",
       "      <th>6</th>\n",
       "      <td>2017_07_neuitive</td>\n",
       "      <td>The texts discuss various vaccination events a...</td>\n",
       "    </tr>\n",
       "    <tr>\n",
       "      <th>7</th>\n",
       "      <td>2017_08_neuitive</td>\n",
       "      <td>The text discusses various aspects of vaccinat...</td>\n",
       "    </tr>\n",
       "    <tr>\n",
       "      <th>8</th>\n",
       "      <td>2017_09_neuitive</td>\n",
       "      <td>The text discusses various vaccination campaig...</td>\n",
       "    </tr>\n",
       "    <tr>\n",
       "      <th>9</th>\n",
       "      <td>2017_10_neuitive</td>\n",
       "      <td>The text discusses various aspects of vaccinat...</td>\n",
       "    </tr>\n",
       "    <tr>\n",
       "      <th>10</th>\n",
       "      <td>2017_11_neuitive</td>\n",
       "      <td>The text is primarily about vaccination campai...</td>\n",
       "    </tr>\n",
       "  </tbody>\n",
       "</table>\n",
       "</div>"
      ],
      "text/plain": [
       "             dataset                                            summary\n",
       "0   2017_01_neuitive  The sentences discuss the importance and logis...\n",
       "1   2017_02_neuitive  The text discusses the importance of vaccinati...\n",
       "2   2017_03_neuitive  The text discusses the ongoing vaccination cam...\n",
       "3   2017_04_neuitive  The text discusses the vaccination campaigns a...\n",
       "4   2017_05_neuitive  The text discusses the ongoing vaccination cam...\n",
       "5   2017_06_neuitive  The text discusses various vaccination campaig...\n",
       "6   2017_07_neuitive  The texts discuss various vaccination events a...\n",
       "7   2017_08_neuitive  The text discusses various aspects of vaccinat...\n",
       "8   2017_09_neuitive  The text discusses various vaccination campaig...\n",
       "9   2017_10_neuitive  The text discusses various aspects of vaccinat...\n",
       "10  2017_11_neuitive  The text is primarily about vaccination campai..."
      ]
     },
     "execution_count": 169,
     "metadata": {},
     "output_type": "execute_result"
    }
   ],
   "source": [
    "df_2017_neu.tail(14)"
   ]
  },
  {
   "cell_type": "code",
   "execution_count": 170,
   "id": "952c4bca",
   "metadata": {},
   "outputs": [
    {
     "data": {
      "text/plain": [
       "<OpenAIObject chat.completion id=chatcmpl-AUBiDoMtebOQihWRRsETVjXkW7yww at 0x21598d579f0> JSON: {\n",
       "  \"choices\": [\n",
       "    {\n",
       "      \"finish_reason\": \"stop\",\n",
       "      \"index\": 0,\n",
       "      \"logprobs\": null,\n",
       "      \"message\": {\n",
       "        \"content\": \"The text is primarily about vaccination campaigns in Brazil, focusing on various diseases such as foot-and-mouth disease and dengue. It highlights the start of vaccination phases, the importance of keeping vaccination records up to date, and the need for public participation. Additionally, there are mentions of specific vaccination events and recommendations from health authorities regarding who should receive certain vaccines. There is also a discussion about the challenges faced in maintaining adequate vaccination coverage among the population.\",\n",
       "        \"refusal\": null,\n",
       "        \"role\": \"assistant\"\n",
       "      }\n",
       "    }\n",
       "  ],\n",
       "  \"created\": 1731758225,\n",
       "  \"id\": \"chatcmpl-AUBiDoMtebOQihWRRsETVjXkW7yww\",\n",
       "  \"model\": \"gpt-4o-mini-2024-07-18\",\n",
       "  \"object\": \"chat.completion\",\n",
       "  \"system_fingerprint\": \"fp_9b78b61c52\",\n",
       "  \"usage\": {\n",
       "    \"completion_tokens\": 87,\n",
       "    \"completion_tokens_details\": {\n",
       "      \"accepted_prediction_tokens\": 0,\n",
       "      \"audio_tokens\": 0,\n",
       "      \"reasoning_tokens\": 0,\n",
       "      \"rejected_prediction_tokens\": 0\n",
       "    },\n",
       "    \"prompt_tokens\": 56068,\n",
       "    \"prompt_tokens_details\": {\n",
       "      \"audio_tokens\": 0,\n",
       "      \"cached_tokens\": 0\n",
       "    },\n",
       "    \"total_tokens\": 56155\n",
       "  }\n",
       "}"
      ]
     },
     "execution_count": 170,
     "metadata": {},
     "output_type": "execute_result"
    }
   ],
   "source": [
    "response"
   ]
  },
  {
   "cell_type": "markdown",
   "id": "46613a39",
   "metadata": {},
   "source": [
    "## December"
   ]
  },
  {
   "cell_type": "code",
   "execution_count": 171,
   "id": "3f6bde3b",
   "metadata": {
    "scrolled": true,
    "tags": []
   },
   "outputs": [
    {
     "name": "stdout",
     "output_type": "stream",
     "text": [
      "<class 'pandas.core.frame.DataFrame'>\n",
      "RangeIndex: 2791 entries, 0 to 2790\n",
      "Data columns (total 53 columns):\n",
      " #   Column                  Non-Null Count  Dtype  \n",
      "---  ------                  --------------  -----  \n",
      " 0   index                   2791 non-null   int64  \n",
      " 1   LocationCode            2791 non-null   object \n",
      " 2   LocationName            2791 non-null   object \n",
      " 3   StatesCode              2791 non-null   object \n",
      " 4   ...4                    2791 non-null   int64  \n",
      " 5   id                      2791 non-null   float64\n",
      " 6   text                    2791 non-null   object \n",
      " 7   label                   2791 non-null   object \n",
      " 8   in_reply_to_status_id   313 non-null    float64\n",
      " 9   in_reply_to_user_id     317 non-null    float64\n",
      " 10  quoted_user_id          69 non-null     float64\n",
      " 11  quoted_status_id        69 non-null     float64\n",
      " 12  retweeted_user_id       1001 non-null   float64\n",
      " 13  retweeted_status_id     1001 non-null   float64\n",
      " 14  created_at              2791 non-null   object \n",
      " 15  entities.user_mentions  1353 non-null   object \n",
      " 16  user.id                 2791 non-null   float64\n",
      " 17  user.screen_name        2791 non-null   object \n",
      " 18  user.name               2791 non-null   object \n",
      " 19  user.description        2521 non-null   object \n",
      " 20  user.timezone           0 non-null      float64\n",
      " 21  user.location           2761 non-null   object \n",
      " 22  user.num_followers      2791 non-null   int64  \n",
      " 23  user.num_following      2791 non-null   int64  \n",
      " 24  user.created_at         2791 non-null   object \n",
      " 25  user.statuses_count     2791 non-null   int64  \n",
      " 26  user.is_verified        2791 non-null   bool   \n",
      " 27  lang                    2791 non-null   object \n",
      " 28  token_count             2791 non-null   int64  \n",
      " 29  is_retweet              2791 non-null   bool   \n",
      " 30  has_quote               2791 non-null   bool   \n",
      " 31  is_reply                2791 non-null   bool   \n",
      " 32  contains_keywords       2791 non-null   bool   \n",
      " 33  longitude               2791 non-null   float64\n",
      " 34  latitude                2791 non-null   float64\n",
      " 35  country_code            2791 non-null   object \n",
      " 36  geoname_id              2544 non-null   float64\n",
      " 37  location_type           2791 non-null   object \n",
      " 38  geo_type                2791 non-null   int64  \n",
      " 39  region                  2791 non-null   object \n",
      " 40  subregion               2791 non-null   object \n",
      " 41  num_quotes              2791 non-null   int64  \n",
      " 42  num_replies             2791 non-null   int64  \n",
      " 43  num_retweets            2791 non-null   int64  \n",
      " 44  sent_gpt                2791 non-null   object \n",
      " 45  gpt_sent_presence       2791 non-null   int64  \n",
      " 46  cleaned_text_lem        2791 non-null   object \n",
      " 47  cleaned_text            2791 non-null   object \n",
      " 48  month                   2791 non-null   int64  \n",
      " 49  year                    2791 non-null   int64  \n",
      " 50  week                    2791 non-null   int64  \n",
      " 51  year_month              2791 non-null   object \n",
      " 52  year_week               2791 non-null   object \n",
      "dtypes: bool(5), float64(12), int64(14), object(22)\n",
      "memory usage: 1.0+ MB\n"
     ]
    }
   ],
   "source": [
    "# Get monthly data\n",
    "df_2017_12_neu = pd.read_csv('../data/local/df_neu_2017-12.csv').reset_index()\n",
    "df_2017_12_neu.info()"
   ]
  },
  {
   "cell_type": "markdown",
   "id": "4658d918",
   "metadata": {},
   "source": [
    "### Representative sample based on week and location"
   ]
  },
  {
   "cell_type": "code",
   "execution_count": 172,
   "id": "fcdbb1e9",
   "metadata": {},
   "outputs": [
    {
     "data": {
      "text/html": [
       "<div>\n",
       "<style scoped>\n",
       "    .dataframe tbody tr th:only-of-type {\n",
       "        vertical-align: middle;\n",
       "    }\n",
       "\n",
       "    .dataframe tbody tr th {\n",
       "        vertical-align: top;\n",
       "    }\n",
       "\n",
       "    .dataframe thead th {\n",
       "        text-align: right;\n",
       "    }\n",
       "</style>\n",
       "<table border=\"1\" class=\"dataframe\">\n",
       "  <thead>\n",
       "    <tr style=\"text-align: right;\">\n",
       "      <th></th>\n",
       "      <th>year_week</th>\n",
       "      <th>LocationName</th>\n",
       "      <th>group_size</th>\n",
       "      <th>proportion</th>\n",
       "    </tr>\n",
       "  </thead>\n",
       "  <tbody>\n",
       "    <tr>\n",
       "      <th>0</th>\n",
       "      <td>2017-w48</td>\n",
       "      <td>Acre</td>\n",
       "      <td>4</td>\n",
       "      <td>0.001433</td>\n",
       "    </tr>\n",
       "    <tr>\n",
       "      <th>1</th>\n",
       "      <td>2017-w48</td>\n",
       "      <td>Alagoas</td>\n",
       "      <td>1</td>\n",
       "      <td>0.000358</td>\n",
       "    </tr>\n",
       "    <tr>\n",
       "      <th>2</th>\n",
       "      <td>2017-w48</td>\n",
       "      <td>Amazonas</td>\n",
       "      <td>1</td>\n",
       "      <td>0.000358</td>\n",
       "    </tr>\n",
       "    <tr>\n",
       "      <th>3</th>\n",
       "      <td>2017-w48</td>\n",
       "      <td>Bahia</td>\n",
       "      <td>2</td>\n",
       "      <td>0.000717</td>\n",
       "    </tr>\n",
       "    <tr>\n",
       "      <th>4</th>\n",
       "      <td>2017-w48</td>\n",
       "      <td>Ceara</td>\n",
       "      <td>3</td>\n",
       "      <td>0.001075</td>\n",
       "    </tr>\n",
       "    <tr>\n",
       "      <th>...</th>\n",
       "      <td>...</td>\n",
       "      <td>...</td>\n",
       "      <td>...</td>\n",
       "      <td>...</td>\n",
       "    </tr>\n",
       "    <tr>\n",
       "      <th>121</th>\n",
       "      <td>2017-w53</td>\n",
       "      <td>Minas Gerais</td>\n",
       "      <td>17</td>\n",
       "      <td>0.006091</td>\n",
       "    </tr>\n",
       "    <tr>\n",
       "      <th>122</th>\n",
       "      <td>2017-w53</td>\n",
       "      <td>Paraiba</td>\n",
       "      <td>1</td>\n",
       "      <td>0.000358</td>\n",
       "    </tr>\n",
       "    <tr>\n",
       "      <th>123</th>\n",
       "      <td>2017-w53</td>\n",
       "      <td>Parana</td>\n",
       "      <td>1</td>\n",
       "      <td>0.000358</td>\n",
       "    </tr>\n",
       "    <tr>\n",
       "      <th>124</th>\n",
       "      <td>2017-w53</td>\n",
       "      <td>Rio Grande Do Sul</td>\n",
       "      <td>1</td>\n",
       "      <td>0.000358</td>\n",
       "    </tr>\n",
       "    <tr>\n",
       "      <th>125</th>\n",
       "      <td>2017-w53</td>\n",
       "      <td>Sao Paulo</td>\n",
       "      <td>5</td>\n",
       "      <td>0.001791</td>\n",
       "    </tr>\n",
       "  </tbody>\n",
       "</table>\n",
       "<p>126 rows × 4 columns</p>\n",
       "</div>"
      ],
      "text/plain": [
       "    year_week       LocationName  group_size  proportion\n",
       "0    2017-w48               Acre           4    0.001433\n",
       "1    2017-w48            Alagoas           1    0.000358\n",
       "2    2017-w48           Amazonas           1    0.000358\n",
       "3    2017-w48              Bahia           2    0.000717\n",
       "4    2017-w48              Ceara           3    0.001075\n",
       "..        ...                ...         ...         ...\n",
       "121  2017-w53       Minas Gerais          17    0.006091\n",
       "122  2017-w53            Paraiba           1    0.000358\n",
       "123  2017-w53             Parana           1    0.000358\n",
       "124  2017-w53  Rio Grande Do Sul           1    0.000358\n",
       "125  2017-w53          Sao Paulo           5    0.001791\n",
       "\n",
       "[126 rows x 4 columns]"
      ]
     },
     "execution_count": 172,
     "metadata": {},
     "output_type": "execute_result"
    }
   ],
   "source": [
    "# Step 1: Calculate the size of each group (year_week, LocationName)\n",
    "group_sizes = df_2017_12_neu.groupby(['year_week', 'LocationName']).size().reset_index(name='group_size')\n",
    "\n",
    "# Step 2: Calculate the proportion of each group in the dataset\n",
    "total_rows = len(df_2017_12_neu)\n",
    "group_sizes['proportion'] = group_sizes['group_size'] / total_rows\n",
    "group_sizes"
   ]
  },
  {
   "cell_type": "code",
   "execution_count": 173,
   "id": "bbf24049",
   "metadata": {},
   "outputs": [
    {
     "data": {
      "text/html": [
       "<div>\n",
       "<style scoped>\n",
       "    .dataframe tbody tr th:only-of-type {\n",
       "        vertical-align: middle;\n",
       "    }\n",
       "\n",
       "    .dataframe tbody tr th {\n",
       "        vertical-align: top;\n",
       "    }\n",
       "\n",
       "    .dataframe thead th {\n",
       "        text-align: right;\n",
       "    }\n",
       "</style>\n",
       "<table border=\"1\" class=\"dataframe\">\n",
       "  <thead>\n",
       "    <tr style=\"text-align: right;\">\n",
       "      <th></th>\n",
       "      <th>year_week</th>\n",
       "      <th>LocationName</th>\n",
       "      <th>group_size</th>\n",
       "      <th>proportion</th>\n",
       "      <th>sample_size</th>\n",
       "    </tr>\n",
       "  </thead>\n",
       "  <tbody>\n",
       "    <tr>\n",
       "      <th>0</th>\n",
       "      <td>2017-w48</td>\n",
       "      <td>Acre</td>\n",
       "      <td>4</td>\n",
       "      <td>0.001433</td>\n",
       "      <td>3</td>\n",
       "    </tr>\n",
       "    <tr>\n",
       "      <th>1</th>\n",
       "      <td>2017-w48</td>\n",
       "      <td>Alagoas</td>\n",
       "      <td>1</td>\n",
       "      <td>0.000358</td>\n",
       "      <td>0</td>\n",
       "    </tr>\n",
       "    <tr>\n",
       "      <th>2</th>\n",
       "      <td>2017-w48</td>\n",
       "      <td>Amazonas</td>\n",
       "      <td>1</td>\n",
       "      <td>0.000358</td>\n",
       "      <td>0</td>\n",
       "    </tr>\n",
       "    <tr>\n",
       "      <th>3</th>\n",
       "      <td>2017-w48</td>\n",
       "      <td>Bahia</td>\n",
       "      <td>2</td>\n",
       "      <td>0.000717</td>\n",
       "      <td>1</td>\n",
       "    </tr>\n",
       "    <tr>\n",
       "      <th>4</th>\n",
       "      <td>2017-w48</td>\n",
       "      <td>Ceara</td>\n",
       "      <td>3</td>\n",
       "      <td>0.001075</td>\n",
       "      <td>2</td>\n",
       "    </tr>\n",
       "    <tr>\n",
       "      <th>...</th>\n",
       "      <td>...</td>\n",
       "      <td>...</td>\n",
       "      <td>...</td>\n",
       "      <td>...</td>\n",
       "      <td>...</td>\n",
       "    </tr>\n",
       "    <tr>\n",
       "      <th>121</th>\n",
       "      <td>2017-w53</td>\n",
       "      <td>Minas Gerais</td>\n",
       "      <td>17</td>\n",
       "      <td>0.006091</td>\n",
       "      <td>14</td>\n",
       "    </tr>\n",
       "    <tr>\n",
       "      <th>122</th>\n",
       "      <td>2017-w53</td>\n",
       "      <td>Paraiba</td>\n",
       "      <td>1</td>\n",
       "      <td>0.000358</td>\n",
       "      <td>0</td>\n",
       "    </tr>\n",
       "    <tr>\n",
       "      <th>123</th>\n",
       "      <td>2017-w53</td>\n",
       "      <td>Parana</td>\n",
       "      <td>1</td>\n",
       "      <td>0.000358</td>\n",
       "      <td>0</td>\n",
       "    </tr>\n",
       "    <tr>\n",
       "      <th>124</th>\n",
       "      <td>2017-w53</td>\n",
       "      <td>Rio Grande Do Sul</td>\n",
       "      <td>1</td>\n",
       "      <td>0.000358</td>\n",
       "      <td>0</td>\n",
       "    </tr>\n",
       "    <tr>\n",
       "      <th>125</th>\n",
       "      <td>2017-w53</td>\n",
       "      <td>Sao Paulo</td>\n",
       "      <td>5</td>\n",
       "      <td>0.001791</td>\n",
       "      <td>4</td>\n",
       "    </tr>\n",
       "  </tbody>\n",
       "</table>\n",
       "<p>126 rows × 5 columns</p>\n",
       "</div>"
      ],
      "text/plain": [
       "    year_week       LocationName  group_size  proportion  sample_size\n",
       "0    2017-w48               Acre           4    0.001433            3\n",
       "1    2017-w48            Alagoas           1    0.000358            0\n",
       "2    2017-w48           Amazonas           1    0.000358            0\n",
       "3    2017-w48              Bahia           2    0.000717            1\n",
       "4    2017-w48              Ceara           3    0.001075            2\n",
       "..        ...                ...         ...         ...          ...\n",
       "121  2017-w53       Minas Gerais          17    0.006091           14\n",
       "122  2017-w53            Paraiba           1    0.000358            0\n",
       "123  2017-w53             Parana           1    0.000358            0\n",
       "124  2017-w53  Rio Grande Do Sul           1    0.000358            0\n",
       "125  2017-w53          Sao Paulo           5    0.001791            4\n",
       "\n",
       "[126 rows x 5 columns]"
      ]
     },
     "execution_count": 173,
     "metadata": {},
     "output_type": "execute_result"
    }
   ],
   "source": [
    "# Step 3: Define the target sample size\n",
    "target_sample_size = 2450\n",
    "\n",
    "# Step 4: Calculate the sample size for each group (based on its proportion)\n",
    "group_sizes['sample_size'] = np.floor(group_sizes['proportion'] * target_sample_size).astype(int)\n",
    "group_sizes"
   ]
  },
  {
   "cell_type": "code",
   "execution_count": 174,
   "id": "c207c408",
   "metadata": {},
   "outputs": [],
   "source": [
    "# Step 5: Merge this sample size information back to the original DataFrame\n",
    "df_2017_12_neu_sample_size = pd.merge(df_2017_12_neu, group_sizes[['year_week', 'LocationName', 'sample_size']], \n",
    "                               on=['year_week', 'LocationName'], how='left')"
   ]
  },
  {
   "cell_type": "code",
   "execution_count": 175,
   "id": "66d74acb",
   "metadata": {},
   "outputs": [
    {
     "name": "stdout",
     "output_type": "stream",
     "text": [
      "Sampled 2382 rows.\n"
     ]
    }
   ],
   "source": [
    "# Step 6: Perform the stratified sampling\n",
    "df_2017_12_neu_sample = df_2017_12_neu_sample_size.groupby(['year_week', 'LocationName']).apply(\n",
    "    lambda group: group.sample(n=group['sample_size'].iloc[0], random_state=42)\n",
    ").reset_index(drop=True)\n",
    "\n",
    "# Step 7: Check the result\n",
    "print(f\"Sampled {len(df_2017_12_neu_sample)} rows.\")\n"
   ]
  },
  {
   "cell_type": "code",
   "execution_count": 176,
   "id": "b23befcc",
   "metadata": {},
   "outputs": [],
   "source": [
    "text_gpt_2017_12_neu = '\\n'.join(df_2017_12_neu_sample['text'].astype(str))"
   ]
  },
  {
   "cell_type": "markdown",
   "id": "d3650c4b",
   "metadata": {},
   "source": [
    "### Prompts and loops"
   ]
  },
  {
   "cell_type": "code",
   "execution_count": 177,
   "id": "791b4fd6",
   "metadata": {},
   "outputs": [],
   "source": [
    "prompt_12 = prompt_raw.replace('TWEETS', text_gpt_2017_12_neu)"
   ]
  },
  {
   "cell_type": "code",
   "execution_count": 178,
   "id": "def2b9de",
   "metadata": {
    "scrolled": false
   },
   "outputs": [],
   "source": [
    "response = openai.ChatCompletion.create(\n",
    "    model=\"gpt-4o-mini\",  \n",
    "    messages = [\n",
    "        {\"role\": \"user\", \"content\": prompt_12}\n",
    "    ],\n",
    "    max_tokens=400,  # Maximum number of tokens in the response\n",
    "    temperature=0.7  # Controls the randomness of the output\n",
    ")"
   ]
  },
  {
   "cell_type": "code",
   "execution_count": 179,
   "id": "eb10f5ec",
   "metadata": {},
   "outputs": [
    {
     "data": {
      "text/plain": [
       "'The text discusses various aspects of vaccination, including the importance and requirements for vaccines against diseases like rabies, dengue, and yellow fever. It highlights recommendations from health authorities such as Anvisa regarding who should receive specific vaccines and the implications of vaccination for both humans and pets. There are personal anecdotes about experiences with vaccinations, awareness campaigns, and the emotional responses associated with them. Additionally, the text mentions the expansion of vaccination services in pharmacies and the ongoing public health initiatives to combat diseases.'"
      ]
     },
     "execution_count": 179,
     "metadata": {},
     "output_type": "execute_result"
    }
   ],
   "source": [
    "response.choices[0].message.content"
   ]
  },
  {
   "cell_type": "code",
   "execution_count": 180,
   "id": "82e7aa4c",
   "metadata": {},
   "outputs": [],
   "source": [
    "#summary = []\n",
    "#dataset = []"
   ]
  },
  {
   "cell_type": "code",
   "execution_count": 181,
   "id": "2a9d076b",
   "metadata": {},
   "outputs": [],
   "source": [
    "dataset.append(\"2017_12_neutral\")"
   ]
  },
  {
   "cell_type": "code",
   "execution_count": 182,
   "id": "8a057dbe",
   "metadata": {},
   "outputs": [],
   "source": [
    "summary.append(response.choices[0].message.content)"
   ]
  },
  {
   "cell_type": "code",
   "execution_count": 183,
   "id": "3bb6bfbd",
   "metadata": {
    "tags": []
   },
   "outputs": [
    {
     "name": "stdout",
     "output_type": "stream",
     "text": [
      "<class 'pandas.core.frame.DataFrame'>\n",
      "RangeIndex: 12 entries, 0 to 11\n",
      "Data columns (total 2 columns):\n",
      " #   Column   Non-Null Count  Dtype \n",
      "---  ------   --------------  ----- \n",
      " 0   dataset  12 non-null     object\n",
      " 1   summary  12 non-null     object\n",
      "dtypes: object(2)\n",
      "memory usage: 320.0+ bytes\n"
     ]
    }
   ],
   "source": [
    "df_2017_neu = pd.DataFrame(list(zip(dataset, summary)),\n",
    "                            columns = ['dataset', 'summary'])\n",
    "df_2017_neu.info()"
   ]
  },
  {
   "cell_type": "code",
   "execution_count": 189,
   "id": "893bd100",
   "metadata": {},
   "outputs": [
    {
     "data": {
      "text/html": [
       "<div>\n",
       "<style scoped>\n",
       "    .dataframe tbody tr th:only-of-type {\n",
       "        vertical-align: middle;\n",
       "    }\n",
       "\n",
       "    .dataframe tbody tr th {\n",
       "        vertical-align: top;\n",
       "    }\n",
       "\n",
       "    .dataframe thead th {\n",
       "        text-align: right;\n",
       "    }\n",
       "</style>\n",
       "<table border=\"1\" class=\"dataframe\">\n",
       "  <thead>\n",
       "    <tr style=\"text-align: right;\">\n",
       "      <th></th>\n",
       "      <th>dataset</th>\n",
       "      <th>summary</th>\n",
       "    </tr>\n",
       "  </thead>\n",
       "  <tbody>\n",
       "    <tr>\n",
       "      <th>0</th>\n",
       "      <td>2017_01_neutral</td>\n",
       "      <td>The sentences discuss the importance and logis...</td>\n",
       "    </tr>\n",
       "    <tr>\n",
       "      <th>1</th>\n",
       "      <td>2017_02_neutral</td>\n",
       "      <td>The text discusses the importance of vaccinati...</td>\n",
       "    </tr>\n",
       "    <tr>\n",
       "      <th>2</th>\n",
       "      <td>2017_03_neutral</td>\n",
       "      <td>The text discusses the ongoing vaccination cam...</td>\n",
       "    </tr>\n",
       "    <tr>\n",
       "      <th>3</th>\n",
       "      <td>2017_04_neutral</td>\n",
       "      <td>The text discusses the vaccination campaigns a...</td>\n",
       "    </tr>\n",
       "    <tr>\n",
       "      <th>4</th>\n",
       "      <td>2017_05_neutral</td>\n",
       "      <td>The text discusses the ongoing vaccination cam...</td>\n",
       "    </tr>\n",
       "    <tr>\n",
       "      <th>5</th>\n",
       "      <td>2017_06_neutral</td>\n",
       "      <td>The text discusses various vaccination campaig...</td>\n",
       "    </tr>\n",
       "    <tr>\n",
       "      <th>6</th>\n",
       "      <td>2017_07_neutral</td>\n",
       "      <td>The texts discuss various vaccination events a...</td>\n",
       "    </tr>\n",
       "    <tr>\n",
       "      <th>7</th>\n",
       "      <td>2017_08_neutral</td>\n",
       "      <td>The text discusses various aspects of vaccinat...</td>\n",
       "    </tr>\n",
       "    <tr>\n",
       "      <th>8</th>\n",
       "      <td>2017_09_neutral</td>\n",
       "      <td>The text discusses various vaccination campaig...</td>\n",
       "    </tr>\n",
       "    <tr>\n",
       "      <th>9</th>\n",
       "      <td>2017_10_neutral</td>\n",
       "      <td>The text discusses various aspects of vaccinat...</td>\n",
       "    </tr>\n",
       "    <tr>\n",
       "      <th>10</th>\n",
       "      <td>2017_11_neutral</td>\n",
       "      <td>The text is primarily about vaccination campai...</td>\n",
       "    </tr>\n",
       "    <tr>\n",
       "      <th>11</th>\n",
       "      <td>2017_12_neutral</td>\n",
       "      <td>The text discusses various aspects of vaccinat...</td>\n",
       "    </tr>\n",
       "  </tbody>\n",
       "</table>\n",
       "</div>"
      ],
      "text/plain": [
       "            dataset                                            summary\n",
       "0   2017_01_neutral  The sentences discuss the importance and logis...\n",
       "1   2017_02_neutral  The text discusses the importance of vaccinati...\n",
       "2   2017_03_neutral  The text discusses the ongoing vaccination cam...\n",
       "3   2017_04_neutral  The text discusses the vaccination campaigns a...\n",
       "4   2017_05_neutral  The text discusses the ongoing vaccination cam...\n",
       "5   2017_06_neutral  The text discusses various vaccination campaig...\n",
       "6   2017_07_neutral  The texts discuss various vaccination events a...\n",
       "7   2017_08_neutral  The text discusses various aspects of vaccinat...\n",
       "8   2017_09_neutral  The text discusses various vaccination campaig...\n",
       "9   2017_10_neutral  The text discusses various aspects of vaccinat...\n",
       "10  2017_11_neutral  The text is primarily about vaccination campai...\n",
       "11  2017_12_neutral  The text discusses various aspects of vaccinat..."
      ]
     },
     "execution_count": 189,
     "metadata": {},
     "output_type": "execute_result"
    }
   ],
   "source": [
    "df_2017_neu.tail(14)"
   ]
  },
  {
   "cell_type": "code",
   "execution_count": 185,
   "id": "20bf36e0",
   "metadata": {},
   "outputs": [
    {
     "data": {
      "text/plain": [
       "<OpenAIObject chat.completion id=chatcmpl-AUBiLZ1Vci4N7Rzs5KRxA0X4wJKaW at 0x21599f7c310> JSON: {\n",
       "  \"choices\": [\n",
       "    {\n",
       "      \"finish_reason\": \"stop\",\n",
       "      \"index\": 0,\n",
       "      \"logprobs\": null,\n",
       "      \"message\": {\n",
       "        \"content\": \"The text discusses various aspects of vaccination, including the importance and requirements for vaccines against diseases like rabies, dengue, and yellow fever. It highlights recommendations from health authorities such as Anvisa regarding who should receive specific vaccines and the implications of vaccination for both humans and pets. There are personal anecdotes about experiences with vaccinations, awareness campaigns, and the emotional responses associated with them. Additionally, the text mentions the expansion of vaccination services in pharmacies and the ongoing public health initiatives to combat diseases.\",\n",
       "        \"refusal\": null,\n",
       "        \"role\": \"assistant\"\n",
       "      }\n",
       "    }\n",
       "  ],\n",
       "  \"created\": 1731758233,\n",
       "  \"id\": \"chatcmpl-AUBiLZ1Vci4N7Rzs5KRxA0X4wJKaW\",\n",
       "  \"model\": \"gpt-4o-mini-2024-07-18\",\n",
       "  \"object\": \"chat.completion\",\n",
       "  \"system_fingerprint\": \"fp_0ba0d124f1\",\n",
       "  \"usage\": {\n",
       "    \"completion_tokens\": 96,\n",
       "    \"completion_tokens_details\": {\n",
       "      \"accepted_prediction_tokens\": 0,\n",
       "      \"audio_tokens\": 0,\n",
       "      \"reasoning_tokens\": 0,\n",
       "      \"rejected_prediction_tokens\": 0\n",
       "    },\n",
       "    \"prompt_tokens\": 58809,\n",
       "    \"prompt_tokens_details\": {\n",
       "      \"audio_tokens\": 0,\n",
       "      \"cached_tokens\": 0\n",
       "    },\n",
       "    \"total_tokens\": 58905\n",
       "  }\n",
       "}"
      ]
     },
     "execution_count": 185,
     "metadata": {},
     "output_type": "execute_result"
    }
   ],
   "source": [
    "response"
   ]
  },
  {
   "cell_type": "markdown",
   "id": "4b2eea35",
   "metadata": {},
   "source": [
    "## All 2017 neutral"
   ]
  },
  {
   "cell_type": "code",
   "execution_count": 188,
   "id": "0afccf5d",
   "metadata": {},
   "outputs": [],
   "source": [
    "#df_2017_neu['dataset'] = df_2017_neu['dataset'].str.replace('neuitive','neutral')"
   ]
  },
  {
   "cell_type": "code",
   "execution_count": 190,
   "id": "76b26dc9",
   "metadata": {},
   "outputs": [],
   "source": [
    "df_2017_neu.to_csv('../data/summary_2017_neutral_tweets.csv')"
   ]
  }
 ],
 "metadata": {
  "kernelspec": {
   "display_name": "Python 3 (ipykernel)",
   "language": "python",
   "name": "python3"
  },
  "language_info": {
   "codemirror_mode": {
    "name": "ipython",
    "version": 3
   },
   "file_extension": ".py",
   "mimetype": "text/x-python",
   "name": "python",
   "nbconvert_exporter": "python",
   "pygments_lexer": "ipython3",
   "version": "3.9.12"
  }
 },
 "nbformat": 4,
 "nbformat_minor": 5
}
