{
 "cells": [
  {
   "cell_type": "markdown",
   "id": "e90b7c28",
   "metadata": {},
   "source": [
    "# Import libraries and data"
   ]
  },
  {
   "cell_type": "code",
   "execution_count": 39,
   "id": "433219e8-8f66-4be5-a3b8-e39fca644032",
   "metadata": {
    "tags": []
   },
   "outputs": [],
   "source": [
    "# Import libraries\n",
    "import os\n",
    "import openai\n",
    "import pandas as pd\n",
    "import numpy as np\n",
    "import openpyxl"
   ]
  },
  {
   "cell_type": "code",
   "execution_count": 40,
   "id": "2c68f056-74fe-4f29-9daf-6bdef5cc0701",
   "metadata": {},
   "outputs": [],
   "source": [
    "# Get OpenAI API secret key (change this file with your own OpenAI key)\n",
    "open_ai_key = open('../data/local/openai_key.txt', 'r').read()\n",
    "openai.api_key = open_ai_key\n",
    "#openai.Model.list()"
   ]
  },
  {
   "cell_type": "code",
   "execution_count": 41,
   "id": "aa3d0327",
   "metadata": {},
   "outputs": [],
   "source": [
    "# Prompt for GPT\n",
    "prompt_raw = \"I would like to summarise in maximum 300 characters and in English what the following sentences in Portuguese talk about. \\\n",
    "Do not use aspects mentioned only in one sentence as part of the summary: TWEETS\""
   ]
  },
  {
   "cell_type": "markdown",
   "id": "3c7787f4",
   "metadata": {},
   "source": [
    "# 2018 neutral"
   ]
  },
  {
   "cell_type": "markdown",
   "id": "535940a6",
   "metadata": {},
   "source": [
    "## January"
   ]
  },
  {
   "cell_type": "code",
   "execution_count": 42,
   "id": "af454aca",
   "metadata": {
    "scrolled": true,
    "tags": []
   },
   "outputs": [
    {
     "name": "stdout",
     "output_type": "stream",
     "text": [
      "<class 'pandas.core.frame.DataFrame'>\n",
      "RangeIndex: 11249 entries, 0 to 11248\n",
      "Data columns (total 53 columns):\n",
      " #   Column                  Non-Null Count  Dtype  \n",
      "---  ------                  --------------  -----  \n",
      " 0   index                   11249 non-null  int64  \n",
      " 1   LocationCode            11249 non-null  object \n",
      " 2   LocationName            11249 non-null  object \n",
      " 3   StatesCode              11249 non-null  object \n",
      " 4   ...4                    11249 non-null  int64  \n",
      " 5   id                      11249 non-null  float64\n",
      " 6   text                    11249 non-null  object \n",
      " 7   label                   11249 non-null  object \n",
      " 8   in_reply_to_status_id   1172 non-null   float64\n",
      " 9   in_reply_to_user_id     1219 non-null   float64\n",
      " 10  quoted_user_id          400 non-null    float64\n",
      " 11  quoted_status_id        400 non-null    float64\n",
      " 12  retweeted_user_id       4008 non-null   float64\n",
      " 13  retweeted_status_id     4008 non-null   float64\n",
      " 14  created_at              11249 non-null  object \n",
      " 15  entities.user_mentions  5364 non-null   object \n",
      " 16  user.id                 11249 non-null  float64\n",
      " 17  user.screen_name        11249 non-null  object \n",
      " 18  user.name               11249 non-null  object \n",
      " 19  user.description        10092 non-null  object \n",
      " 20  user.timezone           0 non-null      float64\n",
      " 21  user.location           11100 non-null  object \n",
      " 22  user.num_followers      11249 non-null  int64  \n",
      " 23  user.num_following      11249 non-null  int64  \n",
      " 24  user.created_at         11249 non-null  object \n",
      " 25  user.statuses_count     11249 non-null  int64  \n",
      " 26  user.is_verified        11249 non-null  bool   \n",
      " 27  lang                    11249 non-null  object \n",
      " 28  token_count             11249 non-null  int64  \n",
      " 29  is_retweet              11249 non-null  bool   \n",
      " 30  has_quote               11249 non-null  bool   \n",
      " 31  is_reply                11249 non-null  bool   \n",
      " 32  contains_keywords       11249 non-null  bool   \n",
      " 33  longitude               11249 non-null  float64\n",
      " 34  latitude                11249 non-null  float64\n",
      " 35  country_code            11249 non-null  object \n",
      " 36  geoname_id              10233 non-null  float64\n",
      " 37  location_type           11249 non-null  object \n",
      " 38  geo_type                11249 non-null  int64  \n",
      " 39  region                  11249 non-null  object \n",
      " 40  subregion               11249 non-null  object \n",
      " 41  num_quotes              11249 non-null  int64  \n",
      " 42  num_replies             11249 non-null  int64  \n",
      " 43  num_retweets            11249 non-null  int64  \n",
      " 44  sent_gpt                11249 non-null  object \n",
      " 45  gpt_sent_presence       11249 non-null  int64  \n",
      " 46  cleaned_text_lem        11249 non-null  object \n",
      " 47  cleaned_text            11249 non-null  object \n",
      " 48  month                   11249 non-null  int64  \n",
      " 49  year                    11249 non-null  int64  \n",
      " 50  week                    11249 non-null  int64  \n",
      " 51  year_month              11249 non-null  object \n",
      " 52  year_week               11249 non-null  object \n",
      "dtypes: bool(5), float64(12), int64(14), object(22)\n",
      "memory usage: 4.2+ MB\n"
     ]
    }
   ],
   "source": [
    "# Get monthly data\n",
    "df_2018_01_neu = pd.read_csv('../data/local/df_neu_2018-01.csv').reset_index()\n",
    "df_2018_01_neu.info()"
   ]
  },
  {
   "cell_type": "markdown",
   "id": "68c5d17d",
   "metadata": {},
   "source": [
    "### Representative sample based on week and location"
   ]
  },
  {
   "cell_type": "code",
   "execution_count": 43,
   "id": "4c44833b",
   "metadata": {},
   "outputs": [
    {
     "data": {
      "text/html": [
       "<div>\n",
       "<style scoped>\n",
       "    .dataframe tbody tr th:only-of-type {\n",
       "        vertical-align: middle;\n",
       "    }\n",
       "\n",
       "    .dataframe tbody tr th {\n",
       "        vertical-align: top;\n",
       "    }\n",
       "\n",
       "    .dataframe thead th {\n",
       "        text-align: right;\n",
       "    }\n",
       "</style>\n",
       "<table border=\"1\" class=\"dataframe\">\n",
       "  <thead>\n",
       "    <tr style=\"text-align: right;\">\n",
       "      <th></th>\n",
       "      <th>year_week</th>\n",
       "      <th>LocationName</th>\n",
       "      <th>group_size</th>\n",
       "      <th>proportion</th>\n",
       "    </tr>\n",
       "  </thead>\n",
       "  <tbody>\n",
       "    <tr>\n",
       "      <th>0</th>\n",
       "      <td>2018-w01</td>\n",
       "      <td>Acre</td>\n",
       "      <td>2</td>\n",
       "      <td>0.000178</td>\n",
       "    </tr>\n",
       "    <tr>\n",
       "      <th>1</th>\n",
       "      <td>2018-w01</td>\n",
       "      <td>Amapa</td>\n",
       "      <td>4</td>\n",
       "      <td>0.000356</td>\n",
       "    </tr>\n",
       "    <tr>\n",
       "      <th>2</th>\n",
       "      <td>2018-w01</td>\n",
       "      <td>Amazonas</td>\n",
       "      <td>6</td>\n",
       "      <td>0.000533</td>\n",
       "    </tr>\n",
       "    <tr>\n",
       "      <th>3</th>\n",
       "      <td>2018-w01</td>\n",
       "      <td>Bahia</td>\n",
       "      <td>11</td>\n",
       "      <td>0.000978</td>\n",
       "    </tr>\n",
       "    <tr>\n",
       "      <th>4</th>\n",
       "      <td>2018-w01</td>\n",
       "      <td>Ceara</td>\n",
       "      <td>7</td>\n",
       "      <td>0.000622</td>\n",
       "    </tr>\n",
       "    <tr>\n",
       "      <th>...</th>\n",
       "      <td>...</td>\n",
       "      <td>...</td>\n",
       "      <td>...</td>\n",
       "      <td>...</td>\n",
       "    </tr>\n",
       "    <tr>\n",
       "      <th>116</th>\n",
       "      <td>2018-w05</td>\n",
       "      <td>Roraima</td>\n",
       "      <td>2</td>\n",
       "      <td>0.000178</td>\n",
       "    </tr>\n",
       "    <tr>\n",
       "      <th>117</th>\n",
       "      <td>2018-w05</td>\n",
       "      <td>Santa Catarina</td>\n",
       "      <td>10</td>\n",
       "      <td>0.000889</td>\n",
       "    </tr>\n",
       "    <tr>\n",
       "      <th>118</th>\n",
       "      <td>2018-w05</td>\n",
       "      <td>Sao Paulo</td>\n",
       "      <td>357</td>\n",
       "      <td>0.031736</td>\n",
       "    </tr>\n",
       "    <tr>\n",
       "      <th>119</th>\n",
       "      <td>2018-w05</td>\n",
       "      <td>Sergipe</td>\n",
       "      <td>6</td>\n",
       "      <td>0.000533</td>\n",
       "    </tr>\n",
       "    <tr>\n",
       "      <th>120</th>\n",
       "      <td>2018-w05</td>\n",
       "      <td>Tocantins</td>\n",
       "      <td>3</td>\n",
       "      <td>0.000267</td>\n",
       "    </tr>\n",
       "  </tbody>\n",
       "</table>\n",
       "<p>121 rows × 4 columns</p>\n",
       "</div>"
      ],
      "text/plain": [
       "    year_week    LocationName  group_size  proportion\n",
       "0    2018-w01            Acre           2    0.000178\n",
       "1    2018-w01           Amapa           4    0.000356\n",
       "2    2018-w01        Amazonas           6    0.000533\n",
       "3    2018-w01           Bahia          11    0.000978\n",
       "4    2018-w01           Ceara           7    0.000622\n",
       "..        ...             ...         ...         ...\n",
       "116  2018-w05         Roraima           2    0.000178\n",
       "117  2018-w05  Santa Catarina          10    0.000889\n",
       "118  2018-w05       Sao Paulo         357    0.031736\n",
       "119  2018-w05         Sergipe           6    0.000533\n",
       "120  2018-w05       Tocantins           3    0.000267\n",
       "\n",
       "[121 rows x 4 columns]"
      ]
     },
     "execution_count": 43,
     "metadata": {},
     "output_type": "execute_result"
    }
   ],
   "source": [
    "# Step 1: Calculate the size of each group (year_week, LocationName)\n",
    "group_sizes = df_2018_01_neu.groupby(['year_week', 'LocationName']).size().reset_index(name='group_size')\n",
    "\n",
    "# Step 2: Calculate the proportion of each group in the dataset\n",
    "total_rows = len(df_2018_01_neu)\n",
    "group_sizes['proportion'] = group_sizes['group_size'] / total_rows\n",
    "group_sizes"
   ]
  },
  {
   "cell_type": "code",
   "execution_count": 44,
   "id": "14062fc9",
   "metadata": {},
   "outputs": [
    {
     "data": {
      "text/html": [
       "<div>\n",
       "<style scoped>\n",
       "    .dataframe tbody tr th:only-of-type {\n",
       "        vertical-align: middle;\n",
       "    }\n",
       "\n",
       "    .dataframe tbody tr th {\n",
       "        vertical-align: top;\n",
       "    }\n",
       "\n",
       "    .dataframe thead th {\n",
       "        text-align: right;\n",
       "    }\n",
       "</style>\n",
       "<table border=\"1\" class=\"dataframe\">\n",
       "  <thead>\n",
       "    <tr style=\"text-align: right;\">\n",
       "      <th></th>\n",
       "      <th>year_week</th>\n",
       "      <th>LocationName</th>\n",
       "      <th>group_size</th>\n",
       "      <th>proportion</th>\n",
       "      <th>sample_size</th>\n",
       "    </tr>\n",
       "  </thead>\n",
       "  <tbody>\n",
       "    <tr>\n",
       "      <th>0</th>\n",
       "      <td>2018-w01</td>\n",
       "      <td>Acre</td>\n",
       "      <td>2</td>\n",
       "      <td>0.000178</td>\n",
       "      <td>0</td>\n",
       "    </tr>\n",
       "    <tr>\n",
       "      <th>1</th>\n",
       "      <td>2018-w01</td>\n",
       "      <td>Amapa</td>\n",
       "      <td>4</td>\n",
       "      <td>0.000356</td>\n",
       "      <td>0</td>\n",
       "    </tr>\n",
       "    <tr>\n",
       "      <th>2</th>\n",
       "      <td>2018-w01</td>\n",
       "      <td>Amazonas</td>\n",
       "      <td>6</td>\n",
       "      <td>0.000533</td>\n",
       "      <td>1</td>\n",
       "    </tr>\n",
       "    <tr>\n",
       "      <th>3</th>\n",
       "      <td>2018-w01</td>\n",
       "      <td>Bahia</td>\n",
       "      <td>11</td>\n",
       "      <td>0.000978</td>\n",
       "      <td>2</td>\n",
       "    </tr>\n",
       "    <tr>\n",
       "      <th>4</th>\n",
       "      <td>2018-w01</td>\n",
       "      <td>Ceara</td>\n",
       "      <td>7</td>\n",
       "      <td>0.000622</td>\n",
       "      <td>1</td>\n",
       "    </tr>\n",
       "    <tr>\n",
       "      <th>...</th>\n",
       "      <td>...</td>\n",
       "      <td>...</td>\n",
       "      <td>...</td>\n",
       "      <td>...</td>\n",
       "      <td>...</td>\n",
       "    </tr>\n",
       "    <tr>\n",
       "      <th>116</th>\n",
       "      <td>2018-w05</td>\n",
       "      <td>Roraima</td>\n",
       "      <td>2</td>\n",
       "      <td>0.000178</td>\n",
       "      <td>0</td>\n",
       "    </tr>\n",
       "    <tr>\n",
       "      <th>117</th>\n",
       "      <td>2018-w05</td>\n",
       "      <td>Santa Catarina</td>\n",
       "      <td>10</td>\n",
       "      <td>0.000889</td>\n",
       "      <td>2</td>\n",
       "    </tr>\n",
       "    <tr>\n",
       "      <th>118</th>\n",
       "      <td>2018-w05</td>\n",
       "      <td>Sao Paulo</td>\n",
       "      <td>357</td>\n",
       "      <td>0.031736</td>\n",
       "      <td>77</td>\n",
       "    </tr>\n",
       "    <tr>\n",
       "      <th>119</th>\n",
       "      <td>2018-w05</td>\n",
       "      <td>Sergipe</td>\n",
       "      <td>6</td>\n",
       "      <td>0.000533</td>\n",
       "      <td>1</td>\n",
       "    </tr>\n",
       "    <tr>\n",
       "      <th>120</th>\n",
       "      <td>2018-w05</td>\n",
       "      <td>Tocantins</td>\n",
       "      <td>3</td>\n",
       "      <td>0.000267</td>\n",
       "      <td>0</td>\n",
       "    </tr>\n",
       "  </tbody>\n",
       "</table>\n",
       "<p>121 rows × 5 columns</p>\n",
       "</div>"
      ],
      "text/plain": [
       "    year_week    LocationName  group_size  proportion  sample_size\n",
       "0    2018-w01            Acre           2    0.000178            0\n",
       "1    2018-w01           Amapa           4    0.000356            0\n",
       "2    2018-w01        Amazonas           6    0.000533            1\n",
       "3    2018-w01           Bahia          11    0.000978            2\n",
       "4    2018-w01           Ceara           7    0.000622            1\n",
       "..        ...             ...         ...         ...          ...\n",
       "116  2018-w05         Roraima           2    0.000178            0\n",
       "117  2018-w05  Santa Catarina          10    0.000889            2\n",
       "118  2018-w05       Sao Paulo         357    0.031736           77\n",
       "119  2018-w05         Sergipe           6    0.000533            1\n",
       "120  2018-w05       Tocantins           3    0.000267            0\n",
       "\n",
       "[121 rows x 5 columns]"
      ]
     },
     "execution_count": 44,
     "metadata": {},
     "output_type": "execute_result"
    }
   ],
   "source": [
    "# Step 3: Define the target sample size\n",
    "target_sample_size = 2450\n",
    "\n",
    "# Step 4: Calculate the sample size for each group (based on its proportion)\n",
    "group_sizes['sample_size'] = np.floor(group_sizes['proportion'] * target_sample_size).astype(int)\n",
    "group_sizes"
   ]
  },
  {
   "cell_type": "code",
   "execution_count": 45,
   "id": "7a36e14c",
   "metadata": {},
   "outputs": [],
   "source": [
    "# Step 5: Merge this sample size information back to the original DataFrame\n",
    "df_2018_01_neu_sample_size = pd.merge(df_2018_01_neu, group_sizes[['year_week', 'LocationName', 'sample_size']], \n",
    "                               on=['year_week', 'LocationName'], how='left')"
   ]
  },
  {
   "cell_type": "code",
   "execution_count": 46,
   "id": "10c592c4",
   "metadata": {},
   "outputs": [
    {
     "name": "stdout",
     "output_type": "stream",
     "text": [
      "Sampled 2386 rows.\n"
     ]
    }
   ],
   "source": [
    "# Step 6: Perform the stratified sampling\n",
    "df_2018_01_neu_sample = df_2018_01_neu_sample_size.groupby(['year_week', 'LocationName']).apply(\n",
    "    lambda group: group.sample(n=group['sample_size'].iloc[0], random_state=42)\n",
    ").reset_index(drop=True)\n",
    "\n",
    "# Step 7: Check the result\n",
    "print(f\"Sampled {len(df_2018_01_neu_sample)} rows.\")\n"
   ]
  },
  {
   "cell_type": "code",
   "execution_count": 47,
   "id": "95689dfe",
   "metadata": {},
   "outputs": [],
   "source": [
    "text_gpt_2018_01_neu = '\\n'.join(df_2018_01_neu_sample['text'].astype(str))"
   ]
  },
  {
   "cell_type": "markdown",
   "id": "a1ca479f",
   "metadata": {},
   "source": [
    "### Prompts and loops"
   ]
  },
  {
   "cell_type": "code",
   "execution_count": 50,
   "id": "3bdc6649",
   "metadata": {},
   "outputs": [],
   "source": [
    "prompt_1 = prompt_raw.replace('TWEETS', text_gpt_2018_01_neu)"
   ]
  },
  {
   "cell_type": "code",
   "execution_count": 51,
   "id": "deb247e7",
   "metadata": {
    "scrolled": false
   },
   "outputs": [],
   "source": [
    "response = openai.ChatCompletion.create(\n",
    "    model=\"gpt-4o-mini\",  \n",
    "    messages = [\n",
    "        {\"role\": \"user\", \"content\": prompt_1}\n",
    "    ],\n",
    "    max_tokens=400,  # Maximum number of tokens in the response\n",
    "    temperature=0.7  # Controls the randomness of the output\n",
    ")"
   ]
  },
  {
   "cell_type": "code",
   "execution_count": 52,
   "id": "f2716783",
   "metadata": {},
   "outputs": [
    {
     "data": {
      "text/plain": [
       "\"The text discusses various aspects of vaccination against yellow fever in Brazil, emphasizing its importance due to recent outbreaks. It highlights the need for individuals to be vaccinated, especially if they live in or travel to affected areas. The text mentions the efficacy of the vaccine, with one dose providing long-term immunity, and encourages people to get vaccinated, while also addressing misconceptions and fears surrounding vaccination. Additionally, it notes the logistical efforts to increase vaccination availability and the public's response to the health crisis.\""
      ]
     },
     "execution_count": 52,
     "metadata": {},
     "output_type": "execute_result"
    }
   ],
   "source": [
    "response.choices[0].message.content"
   ]
  },
  {
   "cell_type": "code",
   "execution_count": 53,
   "id": "42423cc2",
   "metadata": {},
   "outputs": [],
   "source": [
    "summary = []\n",
    "dataset = []"
   ]
  },
  {
   "cell_type": "code",
   "execution_count": 54,
   "id": "3f89874e",
   "metadata": {},
   "outputs": [],
   "source": [
    "dataset.append(\"2018_01_neuitive\")"
   ]
  },
  {
   "cell_type": "code",
   "execution_count": 55,
   "id": "21522b28",
   "metadata": {},
   "outputs": [],
   "source": [
    "summary.append(response.choices[0].message.content)"
   ]
  },
  {
   "cell_type": "code",
   "execution_count": 56,
   "id": "26eb7632",
   "metadata": {
    "tags": []
   },
   "outputs": [
    {
     "name": "stdout",
     "output_type": "stream",
     "text": [
      "<class 'pandas.core.frame.DataFrame'>\n",
      "RangeIndex: 1 entries, 0 to 0\n",
      "Data columns (total 2 columns):\n",
      " #   Column   Non-Null Count  Dtype \n",
      "---  ------   --------------  ----- \n",
      " 0   dataset  1 non-null      object\n",
      " 1   summary  1 non-null      object\n",
      "dtypes: object(2)\n",
      "memory usage: 144.0+ bytes\n"
     ]
    }
   ],
   "source": [
    "df_2018_neu = pd.DataFrame(list(zip(dataset, summary)),\n",
    "                            columns = ['dataset', 'summary'])\n",
    "df_2018_neu.info()"
   ]
  },
  {
   "cell_type": "code",
   "execution_count": 57,
   "id": "c1238092",
   "metadata": {},
   "outputs": [
    {
     "data": {
      "text/html": [
       "<div>\n",
       "<style scoped>\n",
       "    .dataframe tbody tr th:only-of-type {\n",
       "        vertical-align: middle;\n",
       "    }\n",
       "\n",
       "    .dataframe tbody tr th {\n",
       "        vertical-align: top;\n",
       "    }\n",
       "\n",
       "    .dataframe thead th {\n",
       "        text-align: right;\n",
       "    }\n",
       "</style>\n",
       "<table border=\"1\" class=\"dataframe\">\n",
       "  <thead>\n",
       "    <tr style=\"text-align: right;\">\n",
       "      <th></th>\n",
       "      <th>dataset</th>\n",
       "      <th>summary</th>\n",
       "    </tr>\n",
       "  </thead>\n",
       "  <tbody>\n",
       "    <tr>\n",
       "      <th>0</th>\n",
       "      <td>2018_01_positive</td>\n",
       "      <td>The text discusses various aspects of vaccinat...</td>\n",
       "    </tr>\n",
       "  </tbody>\n",
       "</table>\n",
       "</div>"
      ],
      "text/plain": [
       "            dataset                                            summary\n",
       "0  2018_01_positive  The text discusses various aspects of vaccinat..."
      ]
     },
     "execution_count": 57,
     "metadata": {},
     "output_type": "execute_result"
    }
   ],
   "source": [
    "df_2018_neu.tail(14)"
   ]
  },
  {
   "cell_type": "code",
   "execution_count": 58,
   "id": "5fd1bbcb",
   "metadata": {},
   "outputs": [
    {
     "data": {
      "text/plain": [
       "<OpenAIObject chat.completion id=chatcmpl-AUAfHqjLb9baHGPVuzViRZCOl2XYM at 0x2c315572c70> JSON: {\n",
       "  \"choices\": [\n",
       "    {\n",
       "      \"finish_reason\": \"stop\",\n",
       "      \"index\": 0,\n",
       "      \"logprobs\": null,\n",
       "      \"message\": {\n",
       "        \"content\": \"The text discusses various aspects of vaccination against yellow fever in Brazil, emphasizing its importance due to recent outbreaks. It highlights the need for individuals to be vaccinated, especially if they live in or travel to affected areas. The text mentions the efficacy of the vaccine, with one dose providing long-term immunity, and encourages people to get vaccinated, while also addressing misconceptions and fears surrounding vaccination. Additionally, it notes the logistical efforts to increase vaccination availability and the public's response to the health crisis.\",\n",
       "        \"refusal\": null,\n",
       "        \"role\": \"assistant\"\n",
       "      }\n",
       "    }\n",
       "  ],\n",
       "  \"created\": 1731754199,\n",
       "  \"id\": \"chatcmpl-AUAfHqjLb9baHGPVuzViRZCOl2XYM\",\n",
       "  \"model\": \"gpt-4o-mini-2024-07-18\",\n",
       "  \"object\": \"chat.completion\",\n",
       "  \"system_fingerprint\": \"fp_0ba0d124f1\",\n",
       "  \"usage\": {\n",
       "    \"completion_tokens\": 96,\n",
       "    \"completion_tokens_details\": {\n",
       "      \"accepted_prediction_tokens\": 0,\n",
       "      \"audio_tokens\": 0,\n",
       "      \"reasoning_tokens\": 0,\n",
       "      \"rejected_prediction_tokens\": 0\n",
       "    },\n",
       "    \"prompt_tokens\": 67946,\n",
       "    \"prompt_tokens_details\": {\n",
       "      \"audio_tokens\": 0,\n",
       "      \"cached_tokens\": 67712\n",
       "    },\n",
       "    \"total_tokens\": 68042\n",
       "  }\n",
       "}"
      ]
     },
     "execution_count": 58,
     "metadata": {},
     "output_type": "execute_result"
    }
   ],
   "source": [
    "response"
   ]
  },
  {
   "cell_type": "markdown",
   "id": "dbb6212f",
   "metadata": {},
   "source": [
    "## February"
   ]
  },
  {
   "cell_type": "code",
   "execution_count": 59,
   "id": "968a95ad",
   "metadata": {
    "scrolled": true,
    "tags": []
   },
   "outputs": [
    {
     "name": "stdout",
     "output_type": "stream",
     "text": [
      "<class 'pandas.core.frame.DataFrame'>\n",
      "RangeIndex: 4108 entries, 0 to 4107\n",
      "Data columns (total 53 columns):\n",
      " #   Column                  Non-Null Count  Dtype  \n",
      "---  ------                  --------------  -----  \n",
      " 0   index                   4108 non-null   int64  \n",
      " 1   LocationCode            4108 non-null   object \n",
      " 2   LocationName            4108 non-null   object \n",
      " 3   StatesCode              4108 non-null   object \n",
      " 4   ...4                    4108 non-null   int64  \n",
      " 5   id                      4108 non-null   float64\n",
      " 6   text                    4108 non-null   object \n",
      " 7   label                   4108 non-null   object \n",
      " 8   in_reply_to_status_id   363 non-null    float64\n",
      " 9   in_reply_to_user_id     384 non-null    float64\n",
      " 10  quoted_user_id          222 non-null    float64\n",
      " 11  quoted_status_id        222 non-null    float64\n",
      " 12  retweeted_user_id       1657 non-null   float64\n",
      " 13  retweeted_status_id     1657 non-null   float64\n",
      " 14  created_at              4108 non-null   object \n",
      " 15  entities.user_mentions  2135 non-null   object \n",
      " 16  user.id                 4108 non-null   float64\n",
      " 17  user.screen_name        4108 non-null   object \n",
      " 18  user.name               4108 non-null   object \n",
      " 19  user.description        3648 non-null   object \n",
      " 20  user.timezone           0 non-null      float64\n",
      " 21  user.location           4073 non-null   object \n",
      " 22  user.num_followers      4108 non-null   int64  \n",
      " 23  user.num_following      4108 non-null   int64  \n",
      " 24  user.created_at         4108 non-null   object \n",
      " 25  user.statuses_count     4108 non-null   int64  \n",
      " 26  user.is_verified        4108 non-null   bool   \n",
      " 27  lang                    4108 non-null   object \n",
      " 28  token_count             4108 non-null   int64  \n",
      " 29  is_retweet              4108 non-null   bool   \n",
      " 30  has_quote               4108 non-null   bool   \n",
      " 31  is_reply                4108 non-null   bool   \n",
      " 32  contains_keywords       4108 non-null   bool   \n",
      " 33  longitude               4108 non-null   float64\n",
      " 34  latitude                4108 non-null   float64\n",
      " 35  country_code            4108 non-null   object \n",
      " 36  geoname_id              3838 non-null   float64\n",
      " 37  location_type           4108 non-null   object \n",
      " 38  geo_type                4108 non-null   int64  \n",
      " 39  region                  4108 non-null   object \n",
      " 40  subregion               4108 non-null   object \n",
      " 41  num_quotes              4108 non-null   int64  \n",
      " 42  num_replies             4108 non-null   int64  \n",
      " 43  num_retweets            4108 non-null   int64  \n",
      " 44  sent_gpt                4108 non-null   object \n",
      " 45  gpt_sent_presence       4108 non-null   int64  \n",
      " 46  cleaned_text_lem        4108 non-null   object \n",
      " 47  cleaned_text            4108 non-null   object \n",
      " 48  month                   4108 non-null   int64  \n",
      " 49  year                    4108 non-null   int64  \n",
      " 50  week                    4108 non-null   int64  \n",
      " 51  year_month              4108 non-null   object \n",
      " 52  year_week               4108 non-null   object \n",
      "dtypes: bool(5), float64(12), int64(14), object(22)\n",
      "memory usage: 1.5+ MB\n"
     ]
    }
   ],
   "source": [
    "# Get monthly data\n",
    "df_2018_02_neu = pd.read_csv('../data/local/df_neu_2018-02.csv').reset_index()\n",
    "df_2018_02_neu.info()"
   ]
  },
  {
   "cell_type": "markdown",
   "id": "b62d7feb",
   "metadata": {},
   "source": [
    "### Representative sample based on week and location"
   ]
  },
  {
   "cell_type": "code",
   "execution_count": 60,
   "id": "be9b69dd",
   "metadata": {},
   "outputs": [
    {
     "data": {
      "text/html": [
       "<div>\n",
       "<style scoped>\n",
       "    .dataframe tbody tr th:only-of-type {\n",
       "        vertical-align: middle;\n",
       "    }\n",
       "\n",
       "    .dataframe tbody tr th {\n",
       "        vertical-align: top;\n",
       "    }\n",
       "\n",
       "    .dataframe thead th {\n",
       "        text-align: right;\n",
       "    }\n",
       "</style>\n",
       "<table border=\"1\" class=\"dataframe\">\n",
       "  <thead>\n",
       "    <tr style=\"text-align: right;\">\n",
       "      <th></th>\n",
       "      <th>year_week</th>\n",
       "      <th>LocationName</th>\n",
       "      <th>group_size</th>\n",
       "      <th>proportion</th>\n",
       "    </tr>\n",
       "  </thead>\n",
       "  <tbody>\n",
       "    <tr>\n",
       "      <th>0</th>\n",
       "      <td>2018-w05</td>\n",
       "      <td>Acre</td>\n",
       "      <td>6</td>\n",
       "      <td>0.001461</td>\n",
       "    </tr>\n",
       "    <tr>\n",
       "      <th>1</th>\n",
       "      <td>2018-w05</td>\n",
       "      <td>Alagoas</td>\n",
       "      <td>7</td>\n",
       "      <td>0.001704</td>\n",
       "    </tr>\n",
       "    <tr>\n",
       "      <th>2</th>\n",
       "      <td>2018-w05</td>\n",
       "      <td>Amapa</td>\n",
       "      <td>3</td>\n",
       "      <td>0.000730</td>\n",
       "    </tr>\n",
       "    <tr>\n",
       "      <th>3</th>\n",
       "      <td>2018-w05</td>\n",
       "      <td>Amazonas</td>\n",
       "      <td>30</td>\n",
       "      <td>0.007303</td>\n",
       "    </tr>\n",
       "    <tr>\n",
       "      <th>4</th>\n",
       "      <td>2018-w05</td>\n",
       "      <td>Bahia</td>\n",
       "      <td>61</td>\n",
       "      <td>0.014849</td>\n",
       "    </tr>\n",
       "    <tr>\n",
       "      <th>...</th>\n",
       "      <td>...</td>\n",
       "      <td>...</td>\n",
       "      <td>...</td>\n",
       "      <td>...</td>\n",
       "    </tr>\n",
       "    <tr>\n",
       "      <th>112</th>\n",
       "      <td>2018-w09</td>\n",
       "      <td>Rondonia</td>\n",
       "      <td>1</td>\n",
       "      <td>0.000243</td>\n",
       "    </tr>\n",
       "    <tr>\n",
       "      <th>113</th>\n",
       "      <td>2018-w09</td>\n",
       "      <td>Roraima</td>\n",
       "      <td>3</td>\n",
       "      <td>0.000730</td>\n",
       "    </tr>\n",
       "    <tr>\n",
       "      <th>114</th>\n",
       "      <td>2018-w09</td>\n",
       "      <td>Santa Catarina</td>\n",
       "      <td>5</td>\n",
       "      <td>0.001217</td>\n",
       "    </tr>\n",
       "    <tr>\n",
       "      <th>115</th>\n",
       "      <td>2018-w09</td>\n",
       "      <td>Sao Paulo</td>\n",
       "      <td>78</td>\n",
       "      <td>0.018987</td>\n",
       "    </tr>\n",
       "    <tr>\n",
       "      <th>116</th>\n",
       "      <td>2018-w09</td>\n",
       "      <td>Sergipe</td>\n",
       "      <td>3</td>\n",
       "      <td>0.000730</td>\n",
       "    </tr>\n",
       "  </tbody>\n",
       "</table>\n",
       "<p>117 rows × 4 columns</p>\n",
       "</div>"
      ],
      "text/plain": [
       "    year_week    LocationName  group_size  proportion\n",
       "0    2018-w05            Acre           6    0.001461\n",
       "1    2018-w05         Alagoas           7    0.001704\n",
       "2    2018-w05           Amapa           3    0.000730\n",
       "3    2018-w05        Amazonas          30    0.007303\n",
       "4    2018-w05           Bahia          61    0.014849\n",
       "..        ...             ...         ...         ...\n",
       "112  2018-w09        Rondonia           1    0.000243\n",
       "113  2018-w09         Roraima           3    0.000730\n",
       "114  2018-w09  Santa Catarina           5    0.001217\n",
       "115  2018-w09       Sao Paulo          78    0.018987\n",
       "116  2018-w09         Sergipe           3    0.000730\n",
       "\n",
       "[117 rows x 4 columns]"
      ]
     },
     "execution_count": 60,
     "metadata": {},
     "output_type": "execute_result"
    }
   ],
   "source": [
    "# Step 1: Calculate the size of each group (year_week, LocationName)\n",
    "group_sizes = df_2018_02_neu.groupby(['year_week', 'LocationName']).size().reset_index(name='group_size')\n",
    "\n",
    "# Step 2: Calculate the proportion of each group in the dataset\n",
    "total_rows = len(df_2018_02_neu)\n",
    "group_sizes['proportion'] = group_sizes['group_size'] / total_rows\n",
    "group_sizes"
   ]
  },
  {
   "cell_type": "code",
   "execution_count": 61,
   "id": "cd38a60e",
   "metadata": {},
   "outputs": [
    {
     "data": {
      "text/html": [
       "<div>\n",
       "<style scoped>\n",
       "    .dataframe tbody tr th:only-of-type {\n",
       "        vertical-align: middle;\n",
       "    }\n",
       "\n",
       "    .dataframe tbody tr th {\n",
       "        vertical-align: top;\n",
       "    }\n",
       "\n",
       "    .dataframe thead th {\n",
       "        text-align: right;\n",
       "    }\n",
       "</style>\n",
       "<table border=\"1\" class=\"dataframe\">\n",
       "  <thead>\n",
       "    <tr style=\"text-align: right;\">\n",
       "      <th></th>\n",
       "      <th>year_week</th>\n",
       "      <th>LocationName</th>\n",
       "      <th>group_size</th>\n",
       "      <th>proportion</th>\n",
       "      <th>sample_size</th>\n",
       "    </tr>\n",
       "  </thead>\n",
       "  <tbody>\n",
       "    <tr>\n",
       "      <th>0</th>\n",
       "      <td>2018-w05</td>\n",
       "      <td>Acre</td>\n",
       "      <td>6</td>\n",
       "      <td>0.001461</td>\n",
       "      <td>3</td>\n",
       "    </tr>\n",
       "    <tr>\n",
       "      <th>1</th>\n",
       "      <td>2018-w05</td>\n",
       "      <td>Alagoas</td>\n",
       "      <td>7</td>\n",
       "      <td>0.001704</td>\n",
       "      <td>4</td>\n",
       "    </tr>\n",
       "    <tr>\n",
       "      <th>2</th>\n",
       "      <td>2018-w05</td>\n",
       "      <td>Amapa</td>\n",
       "      <td>3</td>\n",
       "      <td>0.000730</td>\n",
       "      <td>1</td>\n",
       "    </tr>\n",
       "    <tr>\n",
       "      <th>3</th>\n",
       "      <td>2018-w05</td>\n",
       "      <td>Amazonas</td>\n",
       "      <td>30</td>\n",
       "      <td>0.007303</td>\n",
       "      <td>17</td>\n",
       "    </tr>\n",
       "    <tr>\n",
       "      <th>4</th>\n",
       "      <td>2018-w05</td>\n",
       "      <td>Bahia</td>\n",
       "      <td>61</td>\n",
       "      <td>0.014849</td>\n",
       "      <td>36</td>\n",
       "    </tr>\n",
       "    <tr>\n",
       "      <th>...</th>\n",
       "      <td>...</td>\n",
       "      <td>...</td>\n",
       "      <td>...</td>\n",
       "      <td>...</td>\n",
       "      <td>...</td>\n",
       "    </tr>\n",
       "    <tr>\n",
       "      <th>112</th>\n",
       "      <td>2018-w09</td>\n",
       "      <td>Rondonia</td>\n",
       "      <td>1</td>\n",
       "      <td>0.000243</td>\n",
       "      <td>0</td>\n",
       "    </tr>\n",
       "    <tr>\n",
       "      <th>113</th>\n",
       "      <td>2018-w09</td>\n",
       "      <td>Roraima</td>\n",
       "      <td>3</td>\n",
       "      <td>0.000730</td>\n",
       "      <td>1</td>\n",
       "    </tr>\n",
       "    <tr>\n",
       "      <th>114</th>\n",
       "      <td>2018-w09</td>\n",
       "      <td>Santa Catarina</td>\n",
       "      <td>5</td>\n",
       "      <td>0.001217</td>\n",
       "      <td>2</td>\n",
       "    </tr>\n",
       "    <tr>\n",
       "      <th>115</th>\n",
       "      <td>2018-w09</td>\n",
       "      <td>Sao Paulo</td>\n",
       "      <td>78</td>\n",
       "      <td>0.018987</td>\n",
       "      <td>46</td>\n",
       "    </tr>\n",
       "    <tr>\n",
       "      <th>116</th>\n",
       "      <td>2018-w09</td>\n",
       "      <td>Sergipe</td>\n",
       "      <td>3</td>\n",
       "      <td>0.000730</td>\n",
       "      <td>1</td>\n",
       "    </tr>\n",
       "  </tbody>\n",
       "</table>\n",
       "<p>117 rows × 5 columns</p>\n",
       "</div>"
      ],
      "text/plain": [
       "    year_week    LocationName  group_size  proportion  sample_size\n",
       "0    2018-w05            Acre           6    0.001461            3\n",
       "1    2018-w05         Alagoas           7    0.001704            4\n",
       "2    2018-w05           Amapa           3    0.000730            1\n",
       "3    2018-w05        Amazonas          30    0.007303           17\n",
       "4    2018-w05           Bahia          61    0.014849           36\n",
       "..        ...             ...         ...         ...          ...\n",
       "112  2018-w09        Rondonia           1    0.000243            0\n",
       "113  2018-w09         Roraima           3    0.000730            1\n",
       "114  2018-w09  Santa Catarina           5    0.001217            2\n",
       "115  2018-w09       Sao Paulo          78    0.018987           46\n",
       "116  2018-w09         Sergipe           3    0.000730            1\n",
       "\n",
       "[117 rows x 5 columns]"
      ]
     },
     "execution_count": 61,
     "metadata": {},
     "output_type": "execute_result"
    }
   ],
   "source": [
    "# Step 3: Define the target sample size\n",
    "target_sample_size = 2450\n",
    "\n",
    "# Step 4: Calculate the sample size for each group (based on its proportion)\n",
    "group_sizes['sample_size'] = np.floor(group_sizes['proportion'] * target_sample_size).astype(int)\n",
    "group_sizes"
   ]
  },
  {
   "cell_type": "code",
   "execution_count": 62,
   "id": "d07392ca",
   "metadata": {},
   "outputs": [],
   "source": [
    "# Step 5: Merge this sample size information back to the original DataFrame\n",
    "df_2018_02_neu_sample_size = pd.merge(df_2018_02_neu, group_sizes[['year_week', 'LocationName', 'sample_size']], \n",
    "                               on=['year_week', 'LocationName'], how='left')"
   ]
  },
  {
   "cell_type": "code",
   "execution_count": 63,
   "id": "ec4fe9bb",
   "metadata": {},
   "outputs": [
    {
     "name": "stdout",
     "output_type": "stream",
     "text": [
      "Sampled 2383 rows.\n"
     ]
    }
   ],
   "source": [
    "# Step 6: Perform the stratified sampling\n",
    "df_2018_02_neu_sample = df_2018_02_neu_sample_size.groupby(['year_week', 'LocationName']).apply(\n",
    "    lambda group: group.sample(n=group['sample_size'].iloc[0], random_state=42)\n",
    ").reset_index(drop=True)\n",
    "\n",
    "# Step 7: Check the result\n",
    "print(f\"Sampled {len(df_2018_02_neu_sample)} rows.\")\n"
   ]
  },
  {
   "cell_type": "code",
   "execution_count": 64,
   "id": "e21963c5",
   "metadata": {},
   "outputs": [],
   "source": [
    "text_gpt_2018_02_neu = '\\n'.join(df_2018_02_neu_sample['text'].astype(str))"
   ]
  },
  {
   "cell_type": "markdown",
   "id": "b802ea06",
   "metadata": {},
   "source": [
    "### Prompts and loops"
   ]
  },
  {
   "cell_type": "code",
   "execution_count": 65,
   "id": "c489e8dc",
   "metadata": {},
   "outputs": [],
   "source": [
    "prompt_2 = prompt_raw.replace('TWEETS', text_gpt_2018_02_neu)"
   ]
  },
  {
   "cell_type": "code",
   "execution_count": 66,
   "id": "0dd6c465",
   "metadata": {
    "scrolled": false
   },
   "outputs": [],
   "source": [
    "response = openai.ChatCompletion.create(\n",
    "    model=\"gpt-4o-mini\",  \n",
    "    messages = [\n",
    "        {\"role\": \"user\", \"content\": prompt_2}\n",
    "    ],\n",
    "    max_tokens=400,  # Maximum number of tokens in the response\n",
    "    temperature=0.7  # Controls the randomness of the output\n",
    ")"
   ]
  },
  {
   "cell_type": "code",
   "execution_count": 67,
   "id": "46c2df75",
   "metadata": {},
   "outputs": [
    {
     "data": {
      "text/plain": [
       "'The text discusses the importance of vaccination against yellow fever, highlighting a significant increase in vaccine demand due to health concerns and recent fatalities. It emphasizes the efficacy and safety of the vaccine, mentions the need for public awareness campaigns, and criticizes misinformation surrounding vaccinations. Various locations are organizing vaccination events and encouraging residents to get vaccinated to prevent outbreaks.'"
      ]
     },
     "execution_count": 67,
     "metadata": {},
     "output_type": "execute_result"
    }
   ],
   "source": [
    "response.choices[0].message.content"
   ]
  },
  {
   "cell_type": "code",
   "execution_count": 68,
   "id": "55e02388",
   "metadata": {},
   "outputs": [],
   "source": [
    "#summary = []\n",
    "#dataset = []"
   ]
  },
  {
   "cell_type": "code",
   "execution_count": 69,
   "id": "04db83e5",
   "metadata": {},
   "outputs": [],
   "source": [
    "dataset.append(\"2018_02_neuitive\")"
   ]
  },
  {
   "cell_type": "code",
   "execution_count": 70,
   "id": "e63a383e",
   "metadata": {},
   "outputs": [],
   "source": [
    "summary.append(response.choices[0].message.content)"
   ]
  },
  {
   "cell_type": "code",
   "execution_count": 71,
   "id": "565c396f",
   "metadata": {
    "tags": []
   },
   "outputs": [
    {
     "name": "stdout",
     "output_type": "stream",
     "text": [
      "<class 'pandas.core.frame.DataFrame'>\n",
      "RangeIndex: 2 entries, 0 to 1\n",
      "Data columns (total 2 columns):\n",
      " #   Column   Non-Null Count  Dtype \n",
      "---  ------   --------------  ----- \n",
      " 0   dataset  2 non-null      object\n",
      " 1   summary  2 non-null      object\n",
      "dtypes: object(2)\n",
      "memory usage: 160.0+ bytes\n"
     ]
    }
   ],
   "source": [
    "df_2018_neu = pd.DataFrame(list(zip(dataset, summary)),\n",
    "                            columns = ['dataset', 'summary'])\n",
    "df_2018_neu.info()"
   ]
  },
  {
   "cell_type": "code",
   "execution_count": 72,
   "id": "50fdd654",
   "metadata": {},
   "outputs": [
    {
     "data": {
      "text/html": [
       "<div>\n",
       "<style scoped>\n",
       "    .dataframe tbody tr th:only-of-type {\n",
       "        vertical-align: middle;\n",
       "    }\n",
       "\n",
       "    .dataframe tbody tr th {\n",
       "        vertical-align: top;\n",
       "    }\n",
       "\n",
       "    .dataframe thead th {\n",
       "        text-align: right;\n",
       "    }\n",
       "</style>\n",
       "<table border=\"1\" class=\"dataframe\">\n",
       "  <thead>\n",
       "    <tr style=\"text-align: right;\">\n",
       "      <th></th>\n",
       "      <th>dataset</th>\n",
       "      <th>summary</th>\n",
       "    </tr>\n",
       "  </thead>\n",
       "  <tbody>\n",
       "    <tr>\n",
       "      <th>0</th>\n",
       "      <td>2018_01_positive</td>\n",
       "      <td>The text discusses various aspects of vaccinat...</td>\n",
       "    </tr>\n",
       "    <tr>\n",
       "      <th>1</th>\n",
       "      <td>2018_02_positive</td>\n",
       "      <td>The text discusses the importance of vaccinati...</td>\n",
       "    </tr>\n",
       "  </tbody>\n",
       "</table>\n",
       "</div>"
      ],
      "text/plain": [
       "            dataset                                            summary\n",
       "0  2018_01_positive  The text discusses various aspects of vaccinat...\n",
       "1  2018_02_positive  The text discusses the importance of vaccinati..."
      ]
     },
     "execution_count": 72,
     "metadata": {},
     "output_type": "execute_result"
    }
   ],
   "source": [
    "df_2018_neu.tail(14)"
   ]
  },
  {
   "cell_type": "code",
   "execution_count": 73,
   "id": "bedbb177",
   "metadata": {},
   "outputs": [
    {
     "data": {
      "text/plain": [
       "<OpenAIObject chat.completion id=chatcmpl-AUAfL0pm49DfhoUqb8c1iBZEaaLRY at 0x2c315b17bd0> JSON: {\n",
       "  \"choices\": [\n",
       "    {\n",
       "      \"finish_reason\": \"stop\",\n",
       "      \"index\": 0,\n",
       "      \"logprobs\": null,\n",
       "      \"message\": {\n",
       "        \"content\": \"The text discusses the importance of vaccination against yellow fever, highlighting a significant increase in vaccine demand due to health concerns and recent fatalities. It emphasizes the efficacy and safety of the vaccine, mentions the need for public awareness campaigns, and criticizes misinformation surrounding vaccinations. Various locations are organizing vaccination events and encouraging residents to get vaccinated to prevent outbreaks.\",\n",
       "        \"refusal\": null,\n",
       "        \"role\": \"assistant\"\n",
       "      }\n",
       "    }\n",
       "  ],\n",
       "  \"created\": 1731754203,\n",
       "  \"id\": \"chatcmpl-AUAfL0pm49DfhoUqb8c1iBZEaaLRY\",\n",
       "  \"model\": \"gpt-4o-mini-2024-07-18\",\n",
       "  \"object\": \"chat.completion\",\n",
       "  \"system_fingerprint\": \"fp_9b78b61c52\",\n",
       "  \"usage\": {\n",
       "    \"completion_tokens\": 67,\n",
       "    \"completion_tokens_details\": {\n",
       "      \"accepted_prediction_tokens\": 0,\n",
       "      \"audio_tokens\": 0,\n",
       "      \"reasoning_tokens\": 0,\n",
       "      \"rejected_prediction_tokens\": 0\n",
       "    },\n",
       "    \"prompt_tokens\": 71635,\n",
       "    \"prompt_tokens_details\": {\n",
       "      \"audio_tokens\": 0,\n",
       "      \"cached_tokens\": 71424\n",
       "    },\n",
       "    \"total_tokens\": 71702\n",
       "  }\n",
       "}"
      ]
     },
     "execution_count": 73,
     "metadata": {},
     "output_type": "execute_result"
    }
   ],
   "source": [
    "response"
   ]
  },
  {
   "cell_type": "markdown",
   "id": "9a86f925",
   "metadata": {},
   "source": [
    "## March"
   ]
  },
  {
   "cell_type": "code",
   "execution_count": 74,
   "id": "3fa01458",
   "metadata": {
    "scrolled": true,
    "tags": []
   },
   "outputs": [
    {
     "name": "stdout",
     "output_type": "stream",
     "text": [
      "<class 'pandas.core.frame.DataFrame'>\n",
      "RangeIndex: 3302 entries, 0 to 3301\n",
      "Data columns (total 53 columns):\n",
      " #   Column                  Non-Null Count  Dtype  \n",
      "---  ------                  --------------  -----  \n",
      " 0   index                   3302 non-null   int64  \n",
      " 1   LocationCode            3302 non-null   object \n",
      " 2   LocationName            3302 non-null   object \n",
      " 3   StatesCode              3302 non-null   object \n",
      " 4   ...4                    3302 non-null   int64  \n",
      " 5   id                      3302 non-null   float64\n",
      " 6   text                    3302 non-null   object \n",
      " 7   label                   3302 non-null   object \n",
      " 8   in_reply_to_status_id   325 non-null    float64\n",
      " 9   in_reply_to_user_id     340 non-null    float64\n",
      " 10  quoted_user_id          121 non-null    float64\n",
      " 11  quoted_status_id        121 non-null    float64\n",
      " 12  retweeted_user_id       967 non-null    float64\n",
      " 13  retweeted_status_id     967 non-null    float64\n",
      " 14  created_at              3302 non-null   object \n",
      " 15  entities.user_mentions  1382 non-null   object \n",
      " 16  user.id                 3302 non-null   float64\n",
      " 17  user.screen_name        3302 non-null   object \n",
      " 18  user.name               3302 non-null   object \n",
      " 19  user.description        2904 non-null   object \n",
      " 20  user.timezone           0 non-null      float64\n",
      " 21  user.location           3267 non-null   object \n",
      " 22  user.num_followers      3302 non-null   int64  \n",
      " 23  user.num_following      3302 non-null   int64  \n",
      " 24  user.created_at         3302 non-null   object \n",
      " 25  user.statuses_count     3302 non-null   int64  \n",
      " 26  user.is_verified        3302 non-null   bool   \n",
      " 27  lang                    3302 non-null   object \n",
      " 28  token_count             3302 non-null   int64  \n",
      " 29  is_retweet              3302 non-null   bool   \n",
      " 30  has_quote               3302 non-null   bool   \n",
      " 31  is_reply                3302 non-null   bool   \n",
      " 32  contains_keywords       3302 non-null   bool   \n",
      " 33  longitude               3302 non-null   float64\n",
      " 34  latitude                3302 non-null   float64\n",
      " 35  country_code            3302 non-null   object \n",
      " 36  geoname_id              3080 non-null   float64\n",
      " 37  location_type           3302 non-null   object \n",
      " 38  geo_type                3302 non-null   int64  \n",
      " 39  region                  3302 non-null   object \n",
      " 40  subregion               3302 non-null   object \n",
      " 41  num_quotes              3302 non-null   int64  \n",
      " 42  num_replies             3302 non-null   int64  \n",
      " 43  num_retweets            3302 non-null   int64  \n",
      " 44  sent_gpt                3302 non-null   object \n",
      " 45  gpt_sent_presence       3302 non-null   int64  \n",
      " 46  cleaned_text_lem        3302 non-null   object \n",
      " 47  cleaned_text            3302 non-null   object \n",
      " 48  month                   3302 non-null   int64  \n",
      " 49  year                    3302 non-null   int64  \n",
      " 50  week                    3302 non-null   int64  \n",
      " 51  year_month              3302 non-null   object \n",
      " 52  year_week               3302 non-null   object \n",
      "dtypes: bool(5), float64(12), int64(14), object(22)\n",
      "memory usage: 1.2+ MB\n"
     ]
    }
   ],
   "source": [
    "# Get monthly data\n",
    "df_2018_03_neu = pd.read_csv('../data/local/df_neu_2018-03.csv').reset_index()\n",
    "df_2018_03_neu.info()"
   ]
  },
  {
   "cell_type": "markdown",
   "id": "b79bc7aa",
   "metadata": {},
   "source": [
    "### Representative sample based on week and location"
   ]
  },
  {
   "cell_type": "code",
   "execution_count": 75,
   "id": "5ede4879",
   "metadata": {},
   "outputs": [
    {
     "data": {
      "text/html": [
       "<div>\n",
       "<style scoped>\n",
       "    .dataframe tbody tr th:only-of-type {\n",
       "        vertical-align: middle;\n",
       "    }\n",
       "\n",
       "    .dataframe tbody tr th {\n",
       "        vertical-align: top;\n",
       "    }\n",
       "\n",
       "    .dataframe thead th {\n",
       "        text-align: right;\n",
       "    }\n",
       "</style>\n",
       "<table border=\"1\" class=\"dataframe\">\n",
       "  <thead>\n",
       "    <tr style=\"text-align: right;\">\n",
       "      <th></th>\n",
       "      <th>year_week</th>\n",
       "      <th>LocationName</th>\n",
       "      <th>group_size</th>\n",
       "      <th>proportion</th>\n",
       "    </tr>\n",
       "  </thead>\n",
       "  <tbody>\n",
       "    <tr>\n",
       "      <th>0</th>\n",
       "      <td>2018-w09</td>\n",
       "      <td>Acre</td>\n",
       "      <td>1</td>\n",
       "      <td>0.000303</td>\n",
       "    </tr>\n",
       "    <tr>\n",
       "      <th>1</th>\n",
       "      <td>2018-w09</td>\n",
       "      <td>Alagoas</td>\n",
       "      <td>4</td>\n",
       "      <td>0.001211</td>\n",
       "    </tr>\n",
       "    <tr>\n",
       "      <th>2</th>\n",
       "      <td>2018-w09</td>\n",
       "      <td>Amazonas</td>\n",
       "      <td>12</td>\n",
       "      <td>0.003634</td>\n",
       "    </tr>\n",
       "    <tr>\n",
       "      <th>3</th>\n",
       "      <td>2018-w09</td>\n",
       "      <td>Bahia</td>\n",
       "      <td>13</td>\n",
       "      <td>0.003937</td>\n",
       "    </tr>\n",
       "    <tr>\n",
       "      <th>4</th>\n",
       "      <td>2018-w09</td>\n",
       "      <td>Ceara</td>\n",
       "      <td>3</td>\n",
       "      <td>0.000909</td>\n",
       "    </tr>\n",
       "    <tr>\n",
       "      <th>...</th>\n",
       "      <td>...</td>\n",
       "      <td>...</td>\n",
       "      <td>...</td>\n",
       "      <td>...</td>\n",
       "    </tr>\n",
       "    <tr>\n",
       "      <th>110</th>\n",
       "      <td>2018-w13</td>\n",
       "      <td>Rondonia</td>\n",
       "      <td>1</td>\n",
       "      <td>0.000303</td>\n",
       "    </tr>\n",
       "    <tr>\n",
       "      <th>111</th>\n",
       "      <td>2018-w13</td>\n",
       "      <td>Roraima</td>\n",
       "      <td>2</td>\n",
       "      <td>0.000606</td>\n",
       "    </tr>\n",
       "    <tr>\n",
       "      <th>112</th>\n",
       "      <td>2018-w13</td>\n",
       "      <td>Santa Catarina</td>\n",
       "      <td>10</td>\n",
       "      <td>0.003028</td>\n",
       "    </tr>\n",
       "    <tr>\n",
       "      <th>113</th>\n",
       "      <td>2018-w13</td>\n",
       "      <td>Sao Paulo</td>\n",
       "      <td>137</td>\n",
       "      <td>0.041490</td>\n",
       "    </tr>\n",
       "    <tr>\n",
       "      <th>114</th>\n",
       "      <td>2018-w13</td>\n",
       "      <td>Sergipe</td>\n",
       "      <td>3</td>\n",
       "      <td>0.000909</td>\n",
       "    </tr>\n",
       "  </tbody>\n",
       "</table>\n",
       "<p>115 rows × 4 columns</p>\n",
       "</div>"
      ],
      "text/plain": [
       "    year_week    LocationName  group_size  proportion\n",
       "0    2018-w09            Acre           1    0.000303\n",
       "1    2018-w09         Alagoas           4    0.001211\n",
       "2    2018-w09        Amazonas          12    0.003634\n",
       "3    2018-w09           Bahia          13    0.003937\n",
       "4    2018-w09           Ceara           3    0.000909\n",
       "..        ...             ...         ...         ...\n",
       "110  2018-w13        Rondonia           1    0.000303\n",
       "111  2018-w13         Roraima           2    0.000606\n",
       "112  2018-w13  Santa Catarina          10    0.003028\n",
       "113  2018-w13       Sao Paulo         137    0.041490\n",
       "114  2018-w13         Sergipe           3    0.000909\n",
       "\n",
       "[115 rows x 4 columns]"
      ]
     },
     "execution_count": 75,
     "metadata": {},
     "output_type": "execute_result"
    }
   ],
   "source": [
    "# Step 1: Calculate the size of each group (year_week, LocationName)\n",
    "group_sizes = df_2018_03_neu.groupby(['year_week', 'LocationName']).size().reset_index(name='group_size')\n",
    "\n",
    "# Step 2: Calculate the proportion of each group in the dataset\n",
    "total_rows = len(df_2018_03_neu)\n",
    "group_sizes['proportion'] = group_sizes['group_size'] / total_rows\n",
    "group_sizes"
   ]
  },
  {
   "cell_type": "code",
   "execution_count": 76,
   "id": "72fed902",
   "metadata": {},
   "outputs": [
    {
     "data": {
      "text/html": [
       "<div>\n",
       "<style scoped>\n",
       "    .dataframe tbody tr th:only-of-type {\n",
       "        vertical-align: middle;\n",
       "    }\n",
       "\n",
       "    .dataframe tbody tr th {\n",
       "        vertical-align: top;\n",
       "    }\n",
       "\n",
       "    .dataframe thead th {\n",
       "        text-align: right;\n",
       "    }\n",
       "</style>\n",
       "<table border=\"1\" class=\"dataframe\">\n",
       "  <thead>\n",
       "    <tr style=\"text-align: right;\">\n",
       "      <th></th>\n",
       "      <th>year_week</th>\n",
       "      <th>LocationName</th>\n",
       "      <th>group_size</th>\n",
       "      <th>proportion</th>\n",
       "      <th>sample_size</th>\n",
       "    </tr>\n",
       "  </thead>\n",
       "  <tbody>\n",
       "    <tr>\n",
       "      <th>0</th>\n",
       "      <td>2018-w09</td>\n",
       "      <td>Acre</td>\n",
       "      <td>1</td>\n",
       "      <td>0.000303</td>\n",
       "      <td>0</td>\n",
       "    </tr>\n",
       "    <tr>\n",
       "      <th>1</th>\n",
       "      <td>2018-w09</td>\n",
       "      <td>Alagoas</td>\n",
       "      <td>4</td>\n",
       "      <td>0.001211</td>\n",
       "      <td>2</td>\n",
       "    </tr>\n",
       "    <tr>\n",
       "      <th>2</th>\n",
       "      <td>2018-w09</td>\n",
       "      <td>Amazonas</td>\n",
       "      <td>12</td>\n",
       "      <td>0.003634</td>\n",
       "      <td>8</td>\n",
       "    </tr>\n",
       "    <tr>\n",
       "      <th>3</th>\n",
       "      <td>2018-w09</td>\n",
       "      <td>Bahia</td>\n",
       "      <td>13</td>\n",
       "      <td>0.003937</td>\n",
       "      <td>9</td>\n",
       "    </tr>\n",
       "    <tr>\n",
       "      <th>4</th>\n",
       "      <td>2018-w09</td>\n",
       "      <td>Ceara</td>\n",
       "      <td>3</td>\n",
       "      <td>0.000909</td>\n",
       "      <td>2</td>\n",
       "    </tr>\n",
       "    <tr>\n",
       "      <th>...</th>\n",
       "      <td>...</td>\n",
       "      <td>...</td>\n",
       "      <td>...</td>\n",
       "      <td>...</td>\n",
       "      <td>...</td>\n",
       "    </tr>\n",
       "    <tr>\n",
       "      <th>110</th>\n",
       "      <td>2018-w13</td>\n",
       "      <td>Rondonia</td>\n",
       "      <td>1</td>\n",
       "      <td>0.000303</td>\n",
       "      <td>0</td>\n",
       "    </tr>\n",
       "    <tr>\n",
       "      <th>111</th>\n",
       "      <td>2018-w13</td>\n",
       "      <td>Roraima</td>\n",
       "      <td>2</td>\n",
       "      <td>0.000606</td>\n",
       "      <td>1</td>\n",
       "    </tr>\n",
       "    <tr>\n",
       "      <th>112</th>\n",
       "      <td>2018-w13</td>\n",
       "      <td>Santa Catarina</td>\n",
       "      <td>10</td>\n",
       "      <td>0.003028</td>\n",
       "      <td>7</td>\n",
       "    </tr>\n",
       "    <tr>\n",
       "      <th>113</th>\n",
       "      <td>2018-w13</td>\n",
       "      <td>Sao Paulo</td>\n",
       "      <td>137</td>\n",
       "      <td>0.041490</td>\n",
       "      <td>101</td>\n",
       "    </tr>\n",
       "    <tr>\n",
       "      <th>114</th>\n",
       "      <td>2018-w13</td>\n",
       "      <td>Sergipe</td>\n",
       "      <td>3</td>\n",
       "      <td>0.000909</td>\n",
       "      <td>2</td>\n",
       "    </tr>\n",
       "  </tbody>\n",
       "</table>\n",
       "<p>115 rows × 5 columns</p>\n",
       "</div>"
      ],
      "text/plain": [
       "    year_week    LocationName  group_size  proportion  sample_size\n",
       "0    2018-w09            Acre           1    0.000303            0\n",
       "1    2018-w09         Alagoas           4    0.001211            2\n",
       "2    2018-w09        Amazonas          12    0.003634            8\n",
       "3    2018-w09           Bahia          13    0.003937            9\n",
       "4    2018-w09           Ceara           3    0.000909            2\n",
       "..        ...             ...         ...         ...          ...\n",
       "110  2018-w13        Rondonia           1    0.000303            0\n",
       "111  2018-w13         Roraima           2    0.000606            1\n",
       "112  2018-w13  Santa Catarina          10    0.003028            7\n",
       "113  2018-w13       Sao Paulo         137    0.041490          101\n",
       "114  2018-w13         Sergipe           3    0.000909            2\n",
       "\n",
       "[115 rows x 5 columns]"
      ]
     },
     "execution_count": 76,
     "metadata": {},
     "output_type": "execute_result"
    }
   ],
   "source": [
    "# Step 3: Define the target sample size\n",
    "target_sample_size = 2450\n",
    "\n",
    "# Step 4: Calculate the sample size for each group (based on its proportion)\n",
    "group_sizes['sample_size'] = np.floor(group_sizes['proportion'] * target_sample_size).astype(int)\n",
    "group_sizes"
   ]
  },
  {
   "cell_type": "code",
   "execution_count": 79,
   "id": "0a2b1906",
   "metadata": {},
   "outputs": [],
   "source": [
    "# Step 5: Merge this sample size information back to the original DataFrame\n",
    "df_2018_03_neu_sample_size = pd.merge(df_2018_03_neu, group_sizes[['year_week', 'LocationName', 'sample_size']], \n",
    "                               on=['year_week', 'LocationName'], how='left')"
   ]
  },
  {
   "cell_type": "code",
   "execution_count": 80,
   "id": "f3e38b8f",
   "metadata": {},
   "outputs": [
    {
     "name": "stdout",
     "output_type": "stream",
     "text": [
      "Sampled 2384 rows.\n"
     ]
    }
   ],
   "source": [
    "# Step 6: Perform the stratified sampling\n",
    "df_2018_03_neu_sample = df_2018_03_neu_sample_size.groupby(['year_week', 'LocationName']).apply(\n",
    "    lambda group: group.sample(n=group['sample_size'].iloc[0], random_state=42)\n",
    ").reset_index(drop=True)\n",
    "\n",
    "# Step 7: Check the result\n",
    "print(f\"Sampled {len(df_2018_03_neu_sample)} rows.\")\n"
   ]
  },
  {
   "cell_type": "code",
   "execution_count": 81,
   "id": "4cdd578c",
   "metadata": {},
   "outputs": [],
   "source": [
    "text_gpt_2018_03_neu = '\\n'.join(df_2018_03_neu_sample['text'].astype(str))"
   ]
  },
  {
   "cell_type": "markdown",
   "id": "56c2a3fc",
   "metadata": {},
   "source": [
    "### Prompts and loops"
   ]
  },
  {
   "cell_type": "code",
   "execution_count": 82,
   "id": "c13ba0d9",
   "metadata": {},
   "outputs": [],
   "source": [
    "prompt_3 = prompt_raw.replace('TWEETS', text_gpt_2018_03_neu)"
   ]
  },
  {
   "cell_type": "code",
   "execution_count": 83,
   "id": "a80da243",
   "metadata": {
    "scrolled": false
   },
   "outputs": [],
   "source": [
    "response = openai.ChatCompletion.create(\n",
    "    model=\"gpt-4o-mini\",  \n",
    "    messages = [\n",
    "        {\"role\": \"user\", \"content\": prompt_3}\n",
    "    ],\n",
    "    max_tokens=400,  # Maximum number of tokens in the response\n",
    "    temperature=0.7  # Controls the randomness of the output\n",
    ")"
   ]
  },
  {
   "cell_type": "code",
   "execution_count": 84,
   "id": "5e22c496",
   "metadata": {},
   "outputs": [
    {
     "data": {
      "text/plain": [
       "'The provided text discusses various vaccination campaigns in Brazil, particularly focusing on influenza, yellow fever, and measles. It highlights initiatives by local governments and the Ministry of Health to increase vaccination coverage, address public health concerns, and combat misinformation about vaccines. The importance of vaccination as a preventive measure against infectious diseases is emphasized throughout.'"
      ]
     },
     "execution_count": 84,
     "metadata": {},
     "output_type": "execute_result"
    }
   ],
   "source": [
    "response.choices[0].message.content"
   ]
  },
  {
   "cell_type": "code",
   "execution_count": 85,
   "id": "dbf6dba6",
   "metadata": {},
   "outputs": [],
   "source": [
    "#summary = []\n",
    "#dataset = []"
   ]
  },
  {
   "cell_type": "code",
   "execution_count": 86,
   "id": "70e37fd3",
   "metadata": {},
   "outputs": [],
   "source": [
    "dataset.append(\"2018_03_neuitive\")"
   ]
  },
  {
   "cell_type": "code",
   "execution_count": 87,
   "id": "c0ae3713",
   "metadata": {},
   "outputs": [],
   "source": [
    "summary.append(response.choices[0].message.content)"
   ]
  },
  {
   "cell_type": "code",
   "execution_count": 88,
   "id": "a23470e9",
   "metadata": {
    "tags": []
   },
   "outputs": [
    {
     "name": "stdout",
     "output_type": "stream",
     "text": [
      "<class 'pandas.core.frame.DataFrame'>\n",
      "RangeIndex: 3 entries, 0 to 2\n",
      "Data columns (total 2 columns):\n",
      " #   Column   Non-Null Count  Dtype \n",
      "---  ------   --------------  ----- \n",
      " 0   dataset  3 non-null      object\n",
      " 1   summary  3 non-null      object\n",
      "dtypes: object(2)\n",
      "memory usage: 176.0+ bytes\n"
     ]
    }
   ],
   "source": [
    "df_2018_neu = pd.DataFrame(list(zip(dataset, summary)),\n",
    "                            columns = ['dataset', 'summary'])\n",
    "df_2018_neu.info()"
   ]
  },
  {
   "cell_type": "code",
   "execution_count": 89,
   "id": "3019357a",
   "metadata": {},
   "outputs": [
    {
     "data": {
      "text/html": [
       "<div>\n",
       "<style scoped>\n",
       "    .dataframe tbody tr th:only-of-type {\n",
       "        vertical-align: middle;\n",
       "    }\n",
       "\n",
       "    .dataframe tbody tr th {\n",
       "        vertical-align: top;\n",
       "    }\n",
       "\n",
       "    .dataframe thead th {\n",
       "        text-align: right;\n",
       "    }\n",
       "</style>\n",
       "<table border=\"1\" class=\"dataframe\">\n",
       "  <thead>\n",
       "    <tr style=\"text-align: right;\">\n",
       "      <th></th>\n",
       "      <th>dataset</th>\n",
       "      <th>summary</th>\n",
       "    </tr>\n",
       "  </thead>\n",
       "  <tbody>\n",
       "    <tr>\n",
       "      <th>0</th>\n",
       "      <td>2018_01_positive</td>\n",
       "      <td>The text discusses various aspects of vaccinat...</td>\n",
       "    </tr>\n",
       "    <tr>\n",
       "      <th>1</th>\n",
       "      <td>2018_02_positive</td>\n",
       "      <td>The text discusses the importance of vaccinati...</td>\n",
       "    </tr>\n",
       "    <tr>\n",
       "      <th>2</th>\n",
       "      <td>2018_03_positive</td>\n",
       "      <td>The provided text discusses various vaccinatio...</td>\n",
       "    </tr>\n",
       "  </tbody>\n",
       "</table>\n",
       "</div>"
      ],
      "text/plain": [
       "            dataset                                            summary\n",
       "0  2018_01_positive  The text discusses various aspects of vaccinat...\n",
       "1  2018_02_positive  The text discusses the importance of vaccinati...\n",
       "2  2018_03_positive  The provided text discusses various vaccinatio..."
      ]
     },
     "execution_count": 89,
     "metadata": {},
     "output_type": "execute_result"
    }
   ],
   "source": [
    "df_2018_neu.tail(14)"
   ]
  },
  {
   "cell_type": "code",
   "execution_count": 90,
   "id": "537a4bcb",
   "metadata": {},
   "outputs": [
    {
     "data": {
      "text/plain": [
       "<OpenAIObject chat.completion id=chatcmpl-AUAg9WS7B3HfGobMvJnTzMC5eAsXs at 0x2c311d55680> JSON: {\n",
       "  \"choices\": [\n",
       "    {\n",
       "      \"finish_reason\": \"stop\",\n",
       "      \"index\": 0,\n",
       "      \"logprobs\": null,\n",
       "      \"message\": {\n",
       "        \"content\": \"The provided text discusses various vaccination campaigns in Brazil, particularly focusing on influenza, yellow fever, and measles. It highlights initiatives by local governments and the Ministry of Health to increase vaccination coverage, address public health concerns, and combat misinformation about vaccines. The importance of vaccination as a preventive measure against infectious diseases is emphasized throughout.\",\n",
       "        \"refusal\": null,\n",
       "        \"role\": \"assistant\"\n",
       "      }\n",
       "    }\n",
       "  ],\n",
       "  \"created\": 1731754253,\n",
       "  \"id\": \"chatcmpl-AUAg9WS7B3HfGobMvJnTzMC5eAsXs\",\n",
       "  \"model\": \"gpt-4o-mini-2024-07-18\",\n",
       "  \"object\": \"chat.completion\",\n",
       "  \"system_fingerprint\": \"fp_0ba0d124f1\",\n",
       "  \"usage\": {\n",
       "    \"completion_tokens\": 64,\n",
       "    \"completion_tokens_details\": {\n",
       "      \"accepted_prediction_tokens\": 0,\n",
       "      \"audio_tokens\": 0,\n",
       "      \"reasoning_tokens\": 0,\n",
       "      \"rejected_prediction_tokens\": 0\n",
       "    },\n",
       "    \"prompt_tokens\": 74820,\n",
       "    \"prompt_tokens_details\": {\n",
       "      \"audio_tokens\": 0,\n",
       "      \"cached_tokens\": 0\n",
       "    },\n",
       "    \"total_tokens\": 74884\n",
       "  }\n",
       "}"
      ]
     },
     "execution_count": 90,
     "metadata": {},
     "output_type": "execute_result"
    }
   ],
   "source": [
    "response"
   ]
  },
  {
   "cell_type": "markdown",
   "id": "4663aa6d",
   "metadata": {},
   "source": [
    "## April"
   ]
  },
  {
   "cell_type": "code",
   "execution_count": 91,
   "id": "d9f5e72b",
   "metadata": {
    "scrolled": true,
    "tags": []
   },
   "outputs": [
    {
     "name": "stdout",
     "output_type": "stream",
     "text": [
      "<class 'pandas.core.frame.DataFrame'>\n",
      "RangeIndex: 3358 entries, 0 to 3357\n",
      "Data columns (total 53 columns):\n",
      " #   Column                  Non-Null Count  Dtype  \n",
      "---  ------                  --------------  -----  \n",
      " 0   index                   3358 non-null   int64  \n",
      " 1   LocationCode            3358 non-null   object \n",
      " 2   LocationName            3358 non-null   object \n",
      " 3   StatesCode              3358 non-null   object \n",
      " 4   ...4                    3358 non-null   int64  \n",
      " 5   id                      3358 non-null   float64\n",
      " 6   text                    3358 non-null   object \n",
      " 7   label                   3358 non-null   object \n",
      " 8   in_reply_to_status_id   333 non-null    float64\n",
      " 9   in_reply_to_user_id     342 non-null    float64\n",
      " 10  quoted_user_id          115 non-null    float64\n",
      " 11  quoted_status_id        115 non-null    float64\n",
      " 12  retweeted_user_id       997 non-null    float64\n",
      " 13  retweeted_status_id     997 non-null    float64\n",
      " 14  created_at              3358 non-null   object \n",
      " 15  entities.user_mentions  1410 non-null   object \n",
      " 16  user.id                 3358 non-null   float64\n",
      " 17  user.screen_name        3358 non-null   object \n",
      " 18  user.name               3358 non-null   object \n",
      " 19  user.description        2960 non-null   object \n",
      " 20  user.timezone           0 non-null      float64\n",
      " 21  user.location           3324 non-null   object \n",
      " 22  user.num_followers      3358 non-null   int64  \n",
      " 23  user.num_following      3358 non-null   int64  \n",
      " 24  user.created_at         3358 non-null   object \n",
      " 25  user.statuses_count     3358 non-null   int64  \n",
      " 26  user.is_verified        3358 non-null   bool   \n",
      " 27  lang                    3358 non-null   object \n",
      " 28  token_count             3358 non-null   int64  \n",
      " 29  is_retweet              3358 non-null   bool   \n",
      " 30  has_quote               3358 non-null   bool   \n",
      " 31  is_reply                3358 non-null   bool   \n",
      " 32  contains_keywords       3358 non-null   bool   \n",
      " 33  longitude               3358 non-null   float64\n",
      " 34  latitude                3358 non-null   float64\n",
      " 35  country_code            3358 non-null   object \n",
      " 36  geoname_id              3143 non-null   float64\n",
      " 37  location_type           3358 non-null   object \n",
      " 38  geo_type                3358 non-null   int64  \n",
      " 39  region                  3358 non-null   object \n",
      " 40  subregion               3358 non-null   object \n",
      " 41  num_quotes              3358 non-null   int64  \n",
      " 42  num_replies             3358 non-null   int64  \n",
      " 43  num_retweets            3358 non-null   int64  \n",
      " 44  sent_gpt                3358 non-null   object \n",
      " 45  gpt_sent_presence       3358 non-null   int64  \n",
      " 46  cleaned_text_lem        3358 non-null   object \n",
      " 47  cleaned_text            3358 non-null   object \n",
      " 48  month                   3358 non-null   int64  \n",
      " 49  year                    3358 non-null   int64  \n",
      " 50  week                    3358 non-null   int64  \n",
      " 51  year_month              3358 non-null   object \n",
      " 52  year_week               3358 non-null   object \n",
      "dtypes: bool(5), float64(12), int64(14), object(22)\n",
      "memory usage: 1.2+ MB\n"
     ]
    }
   ],
   "source": [
    "# Get monthly data\n",
    "df_2018_04_neu = pd.read_csv('../data/local/df_neu_2018-04.csv').reset_index()\n",
    "df_2018_04_neu.info()"
   ]
  },
  {
   "cell_type": "markdown",
   "id": "29a62af2",
   "metadata": {},
   "source": [
    "### Representative sample based on week and location"
   ]
  },
  {
   "cell_type": "code",
   "execution_count": 92,
   "id": "0d58440d",
   "metadata": {},
   "outputs": [
    {
     "data": {
      "text/html": [
       "<div>\n",
       "<style scoped>\n",
       "    .dataframe tbody tr th:only-of-type {\n",
       "        vertical-align: middle;\n",
       "    }\n",
       "\n",
       "    .dataframe tbody tr th {\n",
       "        vertical-align: top;\n",
       "    }\n",
       "\n",
       "    .dataframe thead th {\n",
       "        text-align: right;\n",
       "    }\n",
       "</style>\n",
       "<table border=\"1\" class=\"dataframe\">\n",
       "  <thead>\n",
       "    <tr style=\"text-align: right;\">\n",
       "      <th></th>\n",
       "      <th>year_week</th>\n",
       "      <th>LocationName</th>\n",
       "      <th>group_size</th>\n",
       "      <th>proportion</th>\n",
       "    </tr>\n",
       "  </thead>\n",
       "  <tbody>\n",
       "    <tr>\n",
       "      <th>0</th>\n",
       "      <td>2018-w13</td>\n",
       "      <td>Amazonas</td>\n",
       "      <td>2</td>\n",
       "      <td>0.000596</td>\n",
       "    </tr>\n",
       "    <tr>\n",
       "      <th>1</th>\n",
       "      <td>2018-w13</td>\n",
       "      <td>Bahia</td>\n",
       "      <td>3</td>\n",
       "      <td>0.000893</td>\n",
       "    </tr>\n",
       "    <tr>\n",
       "      <th>2</th>\n",
       "      <td>2018-w13</td>\n",
       "      <td>Ceara</td>\n",
       "      <td>2</td>\n",
       "      <td>0.000596</td>\n",
       "    </tr>\n",
       "    <tr>\n",
       "      <th>3</th>\n",
       "      <td>2018-w13</td>\n",
       "      <td>Distrito Federal</td>\n",
       "      <td>2</td>\n",
       "      <td>0.000596</td>\n",
       "    </tr>\n",
       "    <tr>\n",
       "      <th>4</th>\n",
       "      <td>2018-w13</td>\n",
       "      <td>Goias</td>\n",
       "      <td>3</td>\n",
       "      <td>0.000893</td>\n",
       "    </tr>\n",
       "    <tr>\n",
       "      <th>...</th>\n",
       "      <td>...</td>\n",
       "      <td>...</td>\n",
       "      <td>...</td>\n",
       "      <td>...</td>\n",
       "    </tr>\n",
       "    <tr>\n",
       "      <th>124</th>\n",
       "      <td>2018-w18</td>\n",
       "      <td>Rio Grande Do Sul</td>\n",
       "      <td>2</td>\n",
       "      <td>0.000596</td>\n",
       "    </tr>\n",
       "    <tr>\n",
       "      <th>125</th>\n",
       "      <td>2018-w18</td>\n",
       "      <td>Rondonia</td>\n",
       "      <td>1</td>\n",
       "      <td>0.000298</td>\n",
       "    </tr>\n",
       "    <tr>\n",
       "      <th>126</th>\n",
       "      <td>2018-w18</td>\n",
       "      <td>Roraima</td>\n",
       "      <td>1</td>\n",
       "      <td>0.000298</td>\n",
       "    </tr>\n",
       "    <tr>\n",
       "      <th>127</th>\n",
       "      <td>2018-w18</td>\n",
       "      <td>Santa Catarina</td>\n",
       "      <td>5</td>\n",
       "      <td>0.001489</td>\n",
       "    </tr>\n",
       "    <tr>\n",
       "      <th>128</th>\n",
       "      <td>2018-w18</td>\n",
       "      <td>Sao Paulo</td>\n",
       "      <td>9</td>\n",
       "      <td>0.002680</td>\n",
       "    </tr>\n",
       "  </tbody>\n",
       "</table>\n",
       "<p>129 rows × 4 columns</p>\n",
       "</div>"
      ],
      "text/plain": [
       "    year_week       LocationName  group_size  proportion\n",
       "0    2018-w13           Amazonas           2    0.000596\n",
       "1    2018-w13              Bahia           3    0.000893\n",
       "2    2018-w13              Ceara           2    0.000596\n",
       "3    2018-w13   Distrito Federal           2    0.000596\n",
       "4    2018-w13              Goias           3    0.000893\n",
       "..        ...                ...         ...         ...\n",
       "124  2018-w18  Rio Grande Do Sul           2    0.000596\n",
       "125  2018-w18           Rondonia           1    0.000298\n",
       "126  2018-w18            Roraima           1    0.000298\n",
       "127  2018-w18     Santa Catarina           5    0.001489\n",
       "128  2018-w18          Sao Paulo           9    0.002680\n",
       "\n",
       "[129 rows x 4 columns]"
      ]
     },
     "execution_count": 92,
     "metadata": {},
     "output_type": "execute_result"
    }
   ],
   "source": [
    "# Step 1: Calculate the size of each group (year_week, LocationName)\n",
    "group_sizes = df_2018_04_neu.groupby(['year_week', 'LocationName']).size().reset_index(name='group_size')\n",
    "\n",
    "# Step 2: Calculate the proportion of each group in the dataset\n",
    "total_rows = len(df_2018_04_neu)\n",
    "group_sizes['proportion'] = group_sizes['group_size'] / total_rows\n",
    "group_sizes"
   ]
  },
  {
   "cell_type": "code",
   "execution_count": 93,
   "id": "a1cef03a",
   "metadata": {},
   "outputs": [
    {
     "data": {
      "text/html": [
       "<div>\n",
       "<style scoped>\n",
       "    .dataframe tbody tr th:only-of-type {\n",
       "        vertical-align: middle;\n",
       "    }\n",
       "\n",
       "    .dataframe tbody tr th {\n",
       "        vertical-align: top;\n",
       "    }\n",
       "\n",
       "    .dataframe thead th {\n",
       "        text-align: right;\n",
       "    }\n",
       "</style>\n",
       "<table border=\"1\" class=\"dataframe\">\n",
       "  <thead>\n",
       "    <tr style=\"text-align: right;\">\n",
       "      <th></th>\n",
       "      <th>year_week</th>\n",
       "      <th>LocationName</th>\n",
       "      <th>group_size</th>\n",
       "      <th>proportion</th>\n",
       "      <th>sample_size</th>\n",
       "    </tr>\n",
       "  </thead>\n",
       "  <tbody>\n",
       "    <tr>\n",
       "      <th>0</th>\n",
       "      <td>2018-w13</td>\n",
       "      <td>Amazonas</td>\n",
       "      <td>2</td>\n",
       "      <td>0.000596</td>\n",
       "      <td>1</td>\n",
       "    </tr>\n",
       "    <tr>\n",
       "      <th>1</th>\n",
       "      <td>2018-w13</td>\n",
       "      <td>Bahia</td>\n",
       "      <td>3</td>\n",
       "      <td>0.000893</td>\n",
       "      <td>2</td>\n",
       "    </tr>\n",
       "    <tr>\n",
       "      <th>2</th>\n",
       "      <td>2018-w13</td>\n",
       "      <td>Ceara</td>\n",
       "      <td>2</td>\n",
       "      <td>0.000596</td>\n",
       "      <td>1</td>\n",
       "    </tr>\n",
       "    <tr>\n",
       "      <th>3</th>\n",
       "      <td>2018-w13</td>\n",
       "      <td>Distrito Federal</td>\n",
       "      <td>2</td>\n",
       "      <td>0.000596</td>\n",
       "      <td>1</td>\n",
       "    </tr>\n",
       "    <tr>\n",
       "      <th>4</th>\n",
       "      <td>2018-w13</td>\n",
       "      <td>Goias</td>\n",
       "      <td>3</td>\n",
       "      <td>0.000893</td>\n",
       "      <td>2</td>\n",
       "    </tr>\n",
       "    <tr>\n",
       "      <th>...</th>\n",
       "      <td>...</td>\n",
       "      <td>...</td>\n",
       "      <td>...</td>\n",
       "      <td>...</td>\n",
       "      <td>...</td>\n",
       "    </tr>\n",
       "    <tr>\n",
       "      <th>124</th>\n",
       "      <td>2018-w18</td>\n",
       "      <td>Rio Grande Do Sul</td>\n",
       "      <td>2</td>\n",
       "      <td>0.000596</td>\n",
       "      <td>1</td>\n",
       "    </tr>\n",
       "    <tr>\n",
       "      <th>125</th>\n",
       "      <td>2018-w18</td>\n",
       "      <td>Rondonia</td>\n",
       "      <td>1</td>\n",
       "      <td>0.000298</td>\n",
       "      <td>0</td>\n",
       "    </tr>\n",
       "    <tr>\n",
       "      <th>126</th>\n",
       "      <td>2018-w18</td>\n",
       "      <td>Roraima</td>\n",
       "      <td>1</td>\n",
       "      <td>0.000298</td>\n",
       "      <td>0</td>\n",
       "    </tr>\n",
       "    <tr>\n",
       "      <th>127</th>\n",
       "      <td>2018-w18</td>\n",
       "      <td>Santa Catarina</td>\n",
       "      <td>5</td>\n",
       "      <td>0.001489</td>\n",
       "      <td>3</td>\n",
       "    </tr>\n",
       "    <tr>\n",
       "      <th>128</th>\n",
       "      <td>2018-w18</td>\n",
       "      <td>Sao Paulo</td>\n",
       "      <td>9</td>\n",
       "      <td>0.002680</td>\n",
       "      <td>6</td>\n",
       "    </tr>\n",
       "  </tbody>\n",
       "</table>\n",
       "<p>129 rows × 5 columns</p>\n",
       "</div>"
      ],
      "text/plain": [
       "    year_week       LocationName  group_size  proportion  sample_size\n",
       "0    2018-w13           Amazonas           2    0.000596            1\n",
       "1    2018-w13              Bahia           3    0.000893            2\n",
       "2    2018-w13              Ceara           2    0.000596            1\n",
       "3    2018-w13   Distrito Federal           2    0.000596            1\n",
       "4    2018-w13              Goias           3    0.000893            2\n",
       "..        ...                ...         ...         ...          ...\n",
       "124  2018-w18  Rio Grande Do Sul           2    0.000596            1\n",
       "125  2018-w18           Rondonia           1    0.000298            0\n",
       "126  2018-w18            Roraima           1    0.000298            0\n",
       "127  2018-w18     Santa Catarina           5    0.001489            3\n",
       "128  2018-w18          Sao Paulo           9    0.002680            6\n",
       "\n",
       "[129 rows x 5 columns]"
      ]
     },
     "execution_count": 93,
     "metadata": {},
     "output_type": "execute_result"
    }
   ],
   "source": [
    "# Step 3: Define the target sample size\n",
    "target_sample_size = 2450\n",
    "\n",
    "# Step 4: Calculate the sample size for each group (based on its proportion)\n",
    "group_sizes['sample_size'] = np.floor(group_sizes['proportion'] * target_sample_size).astype(int)\n",
    "group_sizes"
   ]
  },
  {
   "cell_type": "code",
   "execution_count": 94,
   "id": "0172fcce",
   "metadata": {},
   "outputs": [],
   "source": [
    "# Step 5: Merge this sample size information back to the original DataFrame\n",
    "df_2018_04_neu_sample_size = pd.merge(df_2018_04_neu, group_sizes[['year_week', 'LocationName', 'sample_size']], \n",
    "                               on=['year_week', 'LocationName'], how='left')"
   ]
  },
  {
   "cell_type": "code",
   "execution_count": 95,
   "id": "78c38de6",
   "metadata": {},
   "outputs": [
    {
     "name": "stdout",
     "output_type": "stream",
     "text": [
      "Sampled 2380 rows.\n"
     ]
    }
   ],
   "source": [
    "# Step 6: Perform the stratified sampling\n",
    "df_2018_04_neu_sample = df_2018_04_neu_sample_size.groupby(['year_week', 'LocationName']).apply(\n",
    "    lambda group: group.sample(n=group['sample_size'].iloc[0], random_state=42)\n",
    ").reset_index(drop=True)\n",
    "\n",
    "# Step 7: Check the result\n",
    "print(f\"Sampled {len(df_2018_04_neu_sample)} rows.\")\n"
   ]
  },
  {
   "cell_type": "code",
   "execution_count": 96,
   "id": "4ea9fc42",
   "metadata": {},
   "outputs": [],
   "source": [
    "text_gpt_2018_04_neu = '\\n'.join(df_2018_04_neu_sample['text'].astype(str))"
   ]
  },
  {
   "cell_type": "markdown",
   "id": "fc46f38b",
   "metadata": {},
   "source": [
    "### Prompts and loops"
   ]
  },
  {
   "cell_type": "code",
   "execution_count": 97,
   "id": "06ba3b15",
   "metadata": {},
   "outputs": [],
   "source": [
    "prompt_4 = prompt_raw.replace('TWEETS', text_gpt_2018_04_neu)"
   ]
  },
  {
   "cell_type": "code",
   "execution_count": 98,
   "id": "900e7e59",
   "metadata": {
    "scrolled": false
   },
   "outputs": [],
   "source": [
    "response = openai.ChatCompletion.create(\n",
    "    model=\"gpt-4o-mini\",  \n",
    "    messages = [\n",
    "        {\"role\": \"user\", \"content\": prompt_4}\n",
    "    ],\n",
    "    max_tokens=400,  # Maximum number of tokens in the response\n",
    "    temperature=0.7  # Controls the randomness of the output\n",
    ")"
   ]
  },
  {
   "cell_type": "code",
   "execution_count": 99,
   "id": "2b90c218",
   "metadata": {},
   "outputs": [
    {
     "data": {
      "text/plain": [
       "'Cuba has developed a cancer vaccine that has reportedly cured over 4,000 patients. Various discussions emphasize the importance of vaccination, addressing issues like vaccine hesitancy and the need for public health campaigns. There are mentions of other vaccines for diseases like flu, diabetes, and HPV, along with the social responsibility of vaccination to prevent outbreaks.'"
      ]
     },
     "execution_count": 99,
     "metadata": {},
     "output_type": "execute_result"
    }
   ],
   "source": [
    "response.choices[0].message.content"
   ]
  },
  {
   "cell_type": "code",
   "execution_count": 100,
   "id": "671f62d2",
   "metadata": {},
   "outputs": [],
   "source": [
    "#summary = []\n",
    "#dataset = []"
   ]
  },
  {
   "cell_type": "code",
   "execution_count": 101,
   "id": "f8392042",
   "metadata": {},
   "outputs": [],
   "source": [
    "dataset.append(\"2018_04_neuitive\")"
   ]
  },
  {
   "cell_type": "code",
   "execution_count": 102,
   "id": "89ed59d0",
   "metadata": {},
   "outputs": [],
   "source": [
    "summary.append(response.choices[0].message.content)"
   ]
  },
  {
   "cell_type": "code",
   "execution_count": 103,
   "id": "d0302854",
   "metadata": {
    "tags": []
   },
   "outputs": [
    {
     "name": "stdout",
     "output_type": "stream",
     "text": [
      "<class 'pandas.core.frame.DataFrame'>\n",
      "RangeIndex: 4 entries, 0 to 3\n",
      "Data columns (total 2 columns):\n",
      " #   Column   Non-Null Count  Dtype \n",
      "---  ------   --------------  ----- \n",
      " 0   dataset  4 non-null      object\n",
      " 1   summary  4 non-null      object\n",
      "dtypes: object(2)\n",
      "memory usage: 192.0+ bytes\n"
     ]
    }
   ],
   "source": [
    "df_2018_neu = pd.DataFrame(list(zip(dataset, summary)),\n",
    "                            columns = ['dataset', 'summary'])\n",
    "df_2018_neu.info()"
   ]
  },
  {
   "cell_type": "code",
   "execution_count": 104,
   "id": "3985a309",
   "metadata": {},
   "outputs": [
    {
     "data": {
      "text/html": [
       "<div>\n",
       "<style scoped>\n",
       "    .dataframe tbody tr th:only-of-type {\n",
       "        vertical-align: middle;\n",
       "    }\n",
       "\n",
       "    .dataframe tbody tr th {\n",
       "        vertical-align: top;\n",
       "    }\n",
       "\n",
       "    .dataframe thead th {\n",
       "        text-align: right;\n",
       "    }\n",
       "</style>\n",
       "<table border=\"1\" class=\"dataframe\">\n",
       "  <thead>\n",
       "    <tr style=\"text-align: right;\">\n",
       "      <th></th>\n",
       "      <th>dataset</th>\n",
       "      <th>summary</th>\n",
       "    </tr>\n",
       "  </thead>\n",
       "  <tbody>\n",
       "    <tr>\n",
       "      <th>0</th>\n",
       "      <td>2018_01_positive</td>\n",
       "      <td>The text discusses various aspects of vaccinat...</td>\n",
       "    </tr>\n",
       "    <tr>\n",
       "      <th>1</th>\n",
       "      <td>2018_02_positive</td>\n",
       "      <td>The text discusses the importance of vaccinati...</td>\n",
       "    </tr>\n",
       "    <tr>\n",
       "      <th>2</th>\n",
       "      <td>2018_03_positive</td>\n",
       "      <td>The provided text discusses various vaccinatio...</td>\n",
       "    </tr>\n",
       "    <tr>\n",
       "      <th>3</th>\n",
       "      <td>2018_04_positive</td>\n",
       "      <td>Cuba has developed a cancer vaccine that has r...</td>\n",
       "    </tr>\n",
       "  </tbody>\n",
       "</table>\n",
       "</div>"
      ],
      "text/plain": [
       "            dataset                                            summary\n",
       "0  2018_01_positive  The text discusses various aspects of vaccinat...\n",
       "1  2018_02_positive  The text discusses the importance of vaccinati...\n",
       "2  2018_03_positive  The provided text discusses various vaccinatio...\n",
       "3  2018_04_positive  Cuba has developed a cancer vaccine that has r..."
      ]
     },
     "execution_count": 104,
     "metadata": {},
     "output_type": "execute_result"
    }
   ],
   "source": [
    "df_2018_neu.tail(14)"
   ]
  },
  {
   "cell_type": "code",
   "execution_count": 105,
   "id": "4f7963d7",
   "metadata": {},
   "outputs": [
    {
     "data": {
      "text/plain": [
       "<OpenAIObject chat.completion id=chatcmpl-AUAgJSSOPneo2LzMdFMf5piAwRJ9d at 0x2c311df7e50> JSON: {\n",
       "  \"choices\": [\n",
       "    {\n",
       "      \"finish_reason\": \"stop\",\n",
       "      \"index\": 0,\n",
       "      \"logprobs\": null,\n",
       "      \"message\": {\n",
       "        \"content\": \"Cuba has developed a cancer vaccine that has reportedly cured over 4,000 patients. Various discussions emphasize the importance of vaccination, addressing issues like vaccine hesitancy and the need for public health campaigns. There are mentions of other vaccines for diseases like flu, diabetes, and HPV, along with the social responsibility of vaccination to prevent outbreaks.\",\n",
       "        \"refusal\": null,\n",
       "        \"role\": \"assistant\"\n",
       "      }\n",
       "    }\n",
       "  ],\n",
       "  \"created\": 1731754263,\n",
       "  \"id\": \"chatcmpl-AUAgJSSOPneo2LzMdFMf5piAwRJ9d\",\n",
       "  \"model\": \"gpt-4o-mini-2024-07-18\",\n",
       "  \"object\": \"chat.completion\",\n",
       "  \"system_fingerprint\": \"fp_9b78b61c52\",\n",
       "  \"usage\": {\n",
       "    \"completion_tokens\": 68,\n",
       "    \"completion_tokens_details\": {\n",
       "      \"accepted_prediction_tokens\": 0,\n",
       "      \"audio_tokens\": 0,\n",
       "      \"reasoning_tokens\": 0,\n",
       "      \"rejected_prediction_tokens\": 0\n",
       "    },\n",
       "    \"prompt_tokens\": 76311,\n",
       "    \"prompt_tokens_details\": {\n",
       "      \"audio_tokens\": 0,\n",
       "      \"cached_tokens\": 0\n",
       "    },\n",
       "    \"total_tokens\": 76379\n",
       "  }\n",
       "}"
      ]
     },
     "execution_count": 105,
     "metadata": {},
     "output_type": "execute_result"
    }
   ],
   "source": [
    "response"
   ]
  },
  {
   "cell_type": "markdown",
   "id": "e0ca3057",
   "metadata": {},
   "source": [
    "## May"
   ]
  },
  {
   "cell_type": "code",
   "execution_count": 106,
   "id": "ed0acc3b",
   "metadata": {
    "scrolled": true,
    "tags": []
   },
   "outputs": [
    {
     "name": "stdout",
     "output_type": "stream",
     "text": [
      "<class 'pandas.core.frame.DataFrame'>\n",
      "RangeIndex: 3425 entries, 0 to 3424\n",
      "Data columns (total 53 columns):\n",
      " #   Column                  Non-Null Count  Dtype  \n",
      "---  ------                  --------------  -----  \n",
      " 0   index                   3425 non-null   int64  \n",
      " 1   LocationCode            3425 non-null   object \n",
      " 2   LocationName            3425 non-null   object \n",
      " 3   StatesCode              3425 non-null   object \n",
      " 4   ...4                    3425 non-null   int64  \n",
      " 5   id                      3425 non-null   float64\n",
      " 6   text                    3425 non-null   object \n",
      " 7   label                   3425 non-null   object \n",
      " 8   in_reply_to_status_id   508 non-null    float64\n",
      " 9   in_reply_to_user_id     527 non-null    float64\n",
      " 10  quoted_user_id          58 non-null     float64\n",
      " 11  quoted_status_id        58 non-null     float64\n",
      " 12  retweeted_user_id       937 non-null    float64\n",
      " 13  retweeted_status_id     937 non-null    float64\n",
      " 14  created_at              3425 non-null   object \n",
      " 15  entities.user_mentions  1538 non-null   object \n",
      " 16  user.id                 3425 non-null   float64\n",
      " 17  user.screen_name        3425 non-null   object \n",
      " 18  user.name               3425 non-null   object \n",
      " 19  user.description        3096 non-null   object \n",
      " 20  user.timezone           0 non-null      float64\n",
      " 21  user.location           3395 non-null   object \n",
      " 22  user.num_followers      3425 non-null   int64  \n",
      " 23  user.num_following      3425 non-null   int64  \n",
      " 24  user.created_at         3425 non-null   object \n",
      " 25  user.statuses_count     3425 non-null   int64  \n",
      " 26  user.is_verified        3425 non-null   bool   \n",
      " 27  lang                    3425 non-null   object \n",
      " 28  token_count             3425 non-null   int64  \n",
      " 29  is_retweet              3425 non-null   bool   \n",
      " 30  has_quote               3425 non-null   bool   \n",
      " 31  is_reply                3425 non-null   bool   \n",
      " 32  contains_keywords       3425 non-null   bool   \n",
      " 33  longitude               3425 non-null   float64\n",
      " 34  latitude                3425 non-null   float64\n",
      " 35  country_code            3425 non-null   object \n",
      " 36  geoname_id              3220 non-null   float64\n",
      " 37  location_type           3425 non-null   object \n",
      " 38  geo_type                3425 non-null   int64  \n",
      " 39  region                  3425 non-null   object \n",
      " 40  subregion               3425 non-null   object \n",
      " 41  num_quotes              3425 non-null   int64  \n",
      " 42  num_replies             3425 non-null   int64  \n",
      " 43  num_retweets            3425 non-null   int64  \n",
      " 44  sent_gpt                3425 non-null   object \n",
      " 45  gpt_sent_presence       3425 non-null   int64  \n",
      " 46  cleaned_text_lem        3425 non-null   object \n",
      " 47  cleaned_text            3425 non-null   object \n",
      " 48  month                   3425 non-null   int64  \n",
      " 49  year                    3425 non-null   int64  \n",
      " 50  week                    3425 non-null   int64  \n",
      " 51  year_month              3425 non-null   object \n",
      " 52  year_week               3425 non-null   object \n",
      "dtypes: bool(5), float64(12), int64(14), object(22)\n",
      "memory usage: 1.3+ MB\n"
     ]
    }
   ],
   "source": [
    "# Get monthly data\n",
    "df_2018_05_neu = pd.read_csv('../data/local/df_neu_2018-05.csv').reset_index()\n",
    "df_2018_05_neu.info()"
   ]
  },
  {
   "cell_type": "markdown",
   "id": "177789c4",
   "metadata": {},
   "source": [
    "### Representative sample based on week and location"
   ]
  },
  {
   "cell_type": "code",
   "execution_count": 107,
   "id": "461d8c05",
   "metadata": {},
   "outputs": [
    {
     "data": {
      "text/html": [
       "<div>\n",
       "<style scoped>\n",
       "    .dataframe tbody tr th:only-of-type {\n",
       "        vertical-align: middle;\n",
       "    }\n",
       "\n",
       "    .dataframe tbody tr th {\n",
       "        vertical-align: top;\n",
       "    }\n",
       "\n",
       "    .dataframe thead th {\n",
       "        text-align: right;\n",
       "    }\n",
       "</style>\n",
       "<table border=\"1\" class=\"dataframe\">\n",
       "  <thead>\n",
       "    <tr style=\"text-align: right;\">\n",
       "      <th></th>\n",
       "      <th>year_week</th>\n",
       "      <th>LocationName</th>\n",
       "      <th>group_size</th>\n",
       "      <th>proportion</th>\n",
       "    </tr>\n",
       "  </thead>\n",
       "  <tbody>\n",
       "    <tr>\n",
       "      <th>0</th>\n",
       "      <td>2018-w18</td>\n",
       "      <td>Alagoas</td>\n",
       "      <td>3</td>\n",
       "      <td>0.000876</td>\n",
       "    </tr>\n",
       "    <tr>\n",
       "      <th>1</th>\n",
       "      <td>2018-w18</td>\n",
       "      <td>Amapa</td>\n",
       "      <td>7</td>\n",
       "      <td>0.002044</td>\n",
       "    </tr>\n",
       "    <tr>\n",
       "      <th>2</th>\n",
       "      <td>2018-w18</td>\n",
       "      <td>Amazonas</td>\n",
       "      <td>5</td>\n",
       "      <td>0.001460</td>\n",
       "    </tr>\n",
       "    <tr>\n",
       "      <th>3</th>\n",
       "      <td>2018-w18</td>\n",
       "      <td>Bahia</td>\n",
       "      <td>16</td>\n",
       "      <td>0.004672</td>\n",
       "    </tr>\n",
       "    <tr>\n",
       "      <th>4</th>\n",
       "      <td>2018-w18</td>\n",
       "      <td>Ceara</td>\n",
       "      <td>30</td>\n",
       "      <td>0.008759</td>\n",
       "    </tr>\n",
       "    <tr>\n",
       "      <th>...</th>\n",
       "      <td>...</td>\n",
       "      <td>...</td>\n",
       "      <td>...</td>\n",
       "      <td>...</td>\n",
       "    </tr>\n",
       "    <tr>\n",
       "      <th>113</th>\n",
       "      <td>2018-w22</td>\n",
       "      <td>Roraima</td>\n",
       "      <td>1</td>\n",
       "      <td>0.000292</td>\n",
       "    </tr>\n",
       "    <tr>\n",
       "      <th>114</th>\n",
       "      <td>2018-w22</td>\n",
       "      <td>Santa Catarina</td>\n",
       "      <td>2</td>\n",
       "      <td>0.000584</td>\n",
       "    </tr>\n",
       "    <tr>\n",
       "      <th>115</th>\n",
       "      <td>2018-w22</td>\n",
       "      <td>Sao Paulo</td>\n",
       "      <td>61</td>\n",
       "      <td>0.017810</td>\n",
       "    </tr>\n",
       "    <tr>\n",
       "      <th>116</th>\n",
       "      <td>2018-w22</td>\n",
       "      <td>Sergipe</td>\n",
       "      <td>5</td>\n",
       "      <td>0.001460</td>\n",
       "    </tr>\n",
       "    <tr>\n",
       "      <th>117</th>\n",
       "      <td>2018-w22</td>\n",
       "      <td>Tocantins</td>\n",
       "      <td>1</td>\n",
       "      <td>0.000292</td>\n",
       "    </tr>\n",
       "  </tbody>\n",
       "</table>\n",
       "<p>118 rows × 4 columns</p>\n",
       "</div>"
      ],
      "text/plain": [
       "    year_week    LocationName  group_size  proportion\n",
       "0    2018-w18         Alagoas           3    0.000876\n",
       "1    2018-w18           Amapa           7    0.002044\n",
       "2    2018-w18        Amazonas           5    0.001460\n",
       "3    2018-w18           Bahia          16    0.004672\n",
       "4    2018-w18           Ceara          30    0.008759\n",
       "..        ...             ...         ...         ...\n",
       "113  2018-w22         Roraima           1    0.000292\n",
       "114  2018-w22  Santa Catarina           2    0.000584\n",
       "115  2018-w22       Sao Paulo          61    0.017810\n",
       "116  2018-w22         Sergipe           5    0.001460\n",
       "117  2018-w22       Tocantins           1    0.000292\n",
       "\n",
       "[118 rows x 4 columns]"
      ]
     },
     "execution_count": 107,
     "metadata": {},
     "output_type": "execute_result"
    }
   ],
   "source": [
    "# Step 1: Calculate the size of each group (year_week, LocationName)\n",
    "group_sizes = df_2018_05_neu.groupby(['year_week', 'LocationName']).size().reset_index(name='group_size')\n",
    "\n",
    "# Step 2: Calculate the proportion of each group in the dataset\n",
    "total_rows = len(df_2018_05_neu)\n",
    "group_sizes['proportion'] = group_sizes['group_size'] / total_rows\n",
    "group_sizes"
   ]
  },
  {
   "cell_type": "code",
   "execution_count": 108,
   "id": "19983841",
   "metadata": {},
   "outputs": [
    {
     "data": {
      "text/html": [
       "<div>\n",
       "<style scoped>\n",
       "    .dataframe tbody tr th:only-of-type {\n",
       "        vertical-align: middle;\n",
       "    }\n",
       "\n",
       "    .dataframe tbody tr th {\n",
       "        vertical-align: top;\n",
       "    }\n",
       "\n",
       "    .dataframe thead th {\n",
       "        text-align: right;\n",
       "    }\n",
       "</style>\n",
       "<table border=\"1\" class=\"dataframe\">\n",
       "  <thead>\n",
       "    <tr style=\"text-align: right;\">\n",
       "      <th></th>\n",
       "      <th>year_week</th>\n",
       "      <th>LocationName</th>\n",
       "      <th>group_size</th>\n",
       "      <th>proportion</th>\n",
       "      <th>sample_size</th>\n",
       "    </tr>\n",
       "  </thead>\n",
       "  <tbody>\n",
       "    <tr>\n",
       "      <th>0</th>\n",
       "      <td>2018-w18</td>\n",
       "      <td>Alagoas</td>\n",
       "      <td>3</td>\n",
       "      <td>0.000876</td>\n",
       "      <td>2</td>\n",
       "    </tr>\n",
       "    <tr>\n",
       "      <th>1</th>\n",
       "      <td>2018-w18</td>\n",
       "      <td>Amapa</td>\n",
       "      <td>7</td>\n",
       "      <td>0.002044</td>\n",
       "      <td>5</td>\n",
       "    </tr>\n",
       "    <tr>\n",
       "      <th>2</th>\n",
       "      <td>2018-w18</td>\n",
       "      <td>Amazonas</td>\n",
       "      <td>5</td>\n",
       "      <td>0.001460</td>\n",
       "      <td>3</td>\n",
       "    </tr>\n",
       "    <tr>\n",
       "      <th>3</th>\n",
       "      <td>2018-w18</td>\n",
       "      <td>Bahia</td>\n",
       "      <td>16</td>\n",
       "      <td>0.004672</td>\n",
       "      <td>11</td>\n",
       "    </tr>\n",
       "    <tr>\n",
       "      <th>4</th>\n",
       "      <td>2018-w18</td>\n",
       "      <td>Ceara</td>\n",
       "      <td>30</td>\n",
       "      <td>0.008759</td>\n",
       "      <td>21</td>\n",
       "    </tr>\n",
       "    <tr>\n",
       "      <th>...</th>\n",
       "      <td>...</td>\n",
       "      <td>...</td>\n",
       "      <td>...</td>\n",
       "      <td>...</td>\n",
       "      <td>...</td>\n",
       "    </tr>\n",
       "    <tr>\n",
       "      <th>113</th>\n",
       "      <td>2018-w22</td>\n",
       "      <td>Roraima</td>\n",
       "      <td>1</td>\n",
       "      <td>0.000292</td>\n",
       "      <td>0</td>\n",
       "    </tr>\n",
       "    <tr>\n",
       "      <th>114</th>\n",
       "      <td>2018-w22</td>\n",
       "      <td>Santa Catarina</td>\n",
       "      <td>2</td>\n",
       "      <td>0.000584</td>\n",
       "      <td>1</td>\n",
       "    </tr>\n",
       "    <tr>\n",
       "      <th>115</th>\n",
       "      <td>2018-w22</td>\n",
       "      <td>Sao Paulo</td>\n",
       "      <td>61</td>\n",
       "      <td>0.017810</td>\n",
       "      <td>43</td>\n",
       "    </tr>\n",
       "    <tr>\n",
       "      <th>116</th>\n",
       "      <td>2018-w22</td>\n",
       "      <td>Sergipe</td>\n",
       "      <td>5</td>\n",
       "      <td>0.001460</td>\n",
       "      <td>3</td>\n",
       "    </tr>\n",
       "    <tr>\n",
       "      <th>117</th>\n",
       "      <td>2018-w22</td>\n",
       "      <td>Tocantins</td>\n",
       "      <td>1</td>\n",
       "      <td>0.000292</td>\n",
       "      <td>0</td>\n",
       "    </tr>\n",
       "  </tbody>\n",
       "</table>\n",
       "<p>118 rows × 5 columns</p>\n",
       "</div>"
      ],
      "text/plain": [
       "    year_week    LocationName  group_size  proportion  sample_size\n",
       "0    2018-w18         Alagoas           3    0.000876            2\n",
       "1    2018-w18           Amapa           7    0.002044            5\n",
       "2    2018-w18        Amazonas           5    0.001460            3\n",
       "3    2018-w18           Bahia          16    0.004672           11\n",
       "4    2018-w18           Ceara          30    0.008759           21\n",
       "..        ...             ...         ...         ...          ...\n",
       "113  2018-w22         Roraima           1    0.000292            0\n",
       "114  2018-w22  Santa Catarina           2    0.000584            1\n",
       "115  2018-w22       Sao Paulo          61    0.017810           43\n",
       "116  2018-w22         Sergipe           5    0.001460            3\n",
       "117  2018-w22       Tocantins           1    0.000292            0\n",
       "\n",
       "[118 rows x 5 columns]"
      ]
     },
     "execution_count": 108,
     "metadata": {},
     "output_type": "execute_result"
    }
   ],
   "source": [
    "# Step 3: Define the target sample size\n",
    "target_sample_size = 2450\n",
    "\n",
    "# Step 4: Calculate the sample size for each group (based on its proportion)\n",
    "group_sizes['sample_size'] = np.floor(group_sizes['proportion'] * target_sample_size).astype(int)\n",
    "group_sizes"
   ]
  },
  {
   "cell_type": "code",
   "execution_count": 109,
   "id": "656f5e79",
   "metadata": {},
   "outputs": [],
   "source": [
    "# Step 5: Merge this sample size information back to the original DataFrame\n",
    "df_2018_05_neu_sample_size = pd.merge(df_2018_05_neu, group_sizes[['year_week', 'LocationName', 'sample_size']], \n",
    "                               on=['year_week', 'LocationName'], how='left')"
   ]
  },
  {
   "cell_type": "code",
   "execution_count": 110,
   "id": "c2ef2501",
   "metadata": {},
   "outputs": [
    {
     "name": "stdout",
     "output_type": "stream",
     "text": [
      "Sampled 2398 rows.\n"
     ]
    }
   ],
   "source": [
    "# Step 6: Perform the stratified sampling\n",
    "df_2018_05_neu_sample = df_2018_05_neu_sample_size.groupby(['year_week', 'LocationName']).apply(\n",
    "    lambda group: group.sample(n=group['sample_size'].iloc[0], random_state=42)\n",
    ").reset_index(drop=True)\n",
    "\n",
    "# Step 7: Check the result\n",
    "print(f\"Sampled {len(df_2018_05_neu_sample)} rows.\")\n"
   ]
  },
  {
   "cell_type": "code",
   "execution_count": 111,
   "id": "6a60e2b1",
   "metadata": {},
   "outputs": [],
   "source": [
    "text_gpt_2018_05_neu = '\\n'.join(df_2018_05_neu_sample['text'].astype(str))"
   ]
  },
  {
   "cell_type": "markdown",
   "id": "d87be723",
   "metadata": {},
   "source": [
    "### Prompts and loops"
   ]
  },
  {
   "cell_type": "code",
   "execution_count": 112,
   "id": "50b1e423",
   "metadata": {},
   "outputs": [],
   "source": [
    "prompt_5 = prompt_raw.replace('TWEETS', text_gpt_2018_05_neu)"
   ]
  },
  {
   "cell_type": "code",
   "execution_count": 113,
   "id": "1bcec414",
   "metadata": {
    "scrolled": false
   },
   "outputs": [],
   "source": [
    "response = openai.ChatCompletion.create(\n",
    "    model=\"gpt-4o-mini\",  \n",
    "    messages = [\n",
    "        {\"role\": \"user\", \"content\": prompt_5}\n",
    "    ],\n",
    "    max_tokens=400,  # Maximum number of tokens in the response\n",
    "    temperature=0.7  # Controls the randomness of the output\n",
    ")"
   ]
  },
  {
   "cell_type": "code",
   "execution_count": 114,
   "id": "9c78388f",
   "metadata": {},
   "outputs": [
    {
     "data": {
      "text/plain": [
       "'The provided text discusses various vaccination campaigns in Brazil, particularly against influenza (the flu), highlighting events like \"Dia D\" where a large number of vaccination posts are set up to immunize the public. It mentions the importance of vaccinating children, pregnant women, and other priority groups, and emphasizes successful immunization efforts, including milestones and statistics. The text also touches on related health initiatives, such as vaccinations against other diseases like yellow fever and HPV, and the recognition of Brazil as free from foot-and-mouth disease due to successful vaccination programs.'"
      ]
     },
     "execution_count": 114,
     "metadata": {},
     "output_type": "execute_result"
    }
   ],
   "source": [
    "response.choices[0].message.content"
   ]
  },
  {
   "cell_type": "code",
   "execution_count": 115,
   "id": "c56b246a",
   "metadata": {},
   "outputs": [],
   "source": [
    "#summary = []\n",
    "#dataset = []"
   ]
  },
  {
   "cell_type": "code",
   "execution_count": 116,
   "id": "05d6350f",
   "metadata": {},
   "outputs": [],
   "source": [
    "dataset.append(\"2018_05_neuitive\")"
   ]
  },
  {
   "cell_type": "code",
   "execution_count": 117,
   "id": "e4980f7e",
   "metadata": {},
   "outputs": [],
   "source": [
    "summary.append(response.choices[0].message.content)"
   ]
  },
  {
   "cell_type": "code",
   "execution_count": 118,
   "id": "23582a2b",
   "metadata": {
    "tags": []
   },
   "outputs": [
    {
     "name": "stdout",
     "output_type": "stream",
     "text": [
      "<class 'pandas.core.frame.DataFrame'>\n",
      "RangeIndex: 5 entries, 0 to 4\n",
      "Data columns (total 2 columns):\n",
      " #   Column   Non-Null Count  Dtype \n",
      "---  ------   --------------  ----- \n",
      " 0   dataset  5 non-null      object\n",
      " 1   summary  5 non-null      object\n",
      "dtypes: object(2)\n",
      "memory usage: 208.0+ bytes\n"
     ]
    }
   ],
   "source": [
    "df_2018_neu = pd.DataFrame(list(zip(dataset, summary)),\n",
    "                            columns = ['dataset', 'summary'])\n",
    "df_2018_neu.info()"
   ]
  },
  {
   "cell_type": "code",
   "execution_count": 119,
   "id": "eff17d68",
   "metadata": {},
   "outputs": [
    {
     "data": {
      "text/html": [
       "<div>\n",
       "<style scoped>\n",
       "    .dataframe tbody tr th:only-of-type {\n",
       "        vertical-align: middle;\n",
       "    }\n",
       "\n",
       "    .dataframe tbody tr th {\n",
       "        vertical-align: top;\n",
       "    }\n",
       "\n",
       "    .dataframe thead th {\n",
       "        text-align: right;\n",
       "    }\n",
       "</style>\n",
       "<table border=\"1\" class=\"dataframe\">\n",
       "  <thead>\n",
       "    <tr style=\"text-align: right;\">\n",
       "      <th></th>\n",
       "      <th>dataset</th>\n",
       "      <th>summary</th>\n",
       "    </tr>\n",
       "  </thead>\n",
       "  <tbody>\n",
       "    <tr>\n",
       "      <th>0</th>\n",
       "      <td>2018_01_positive</td>\n",
       "      <td>The text discusses various aspects of vaccinat...</td>\n",
       "    </tr>\n",
       "    <tr>\n",
       "      <th>1</th>\n",
       "      <td>2018_02_positive</td>\n",
       "      <td>The text discusses the importance of vaccinati...</td>\n",
       "    </tr>\n",
       "    <tr>\n",
       "      <th>2</th>\n",
       "      <td>2018_03_positive</td>\n",
       "      <td>The provided text discusses various vaccinatio...</td>\n",
       "    </tr>\n",
       "    <tr>\n",
       "      <th>3</th>\n",
       "      <td>2018_04_positive</td>\n",
       "      <td>Cuba has developed a cancer vaccine that has r...</td>\n",
       "    </tr>\n",
       "    <tr>\n",
       "      <th>4</th>\n",
       "      <td>2018_05_positive</td>\n",
       "      <td>The provided text discusses various vaccinatio...</td>\n",
       "    </tr>\n",
       "  </tbody>\n",
       "</table>\n",
       "</div>"
      ],
      "text/plain": [
       "            dataset                                            summary\n",
       "0  2018_01_positive  The text discusses various aspects of vaccinat...\n",
       "1  2018_02_positive  The text discusses the importance of vaccinati...\n",
       "2  2018_03_positive  The provided text discusses various vaccinatio...\n",
       "3  2018_04_positive  Cuba has developed a cancer vaccine that has r...\n",
       "4  2018_05_positive  The provided text discusses various vaccinatio..."
      ]
     },
     "execution_count": 119,
     "metadata": {},
     "output_type": "execute_result"
    }
   ],
   "source": [
    "df_2018_neu.tail(14)"
   ]
  },
  {
   "cell_type": "code",
   "execution_count": 120,
   "id": "6810f43f",
   "metadata": {},
   "outputs": [
    {
     "data": {
      "text/plain": [
       "<OpenAIObject chat.completion id=chatcmpl-AUAgSXC9PVwB2z8iE5dkrygw722PX at 0x2c315a3e7c0> JSON: {\n",
       "  \"choices\": [\n",
       "    {\n",
       "      \"finish_reason\": \"stop\",\n",
       "      \"index\": 0,\n",
       "      \"logprobs\": null,\n",
       "      \"message\": {\n",
       "        \"content\": \"The provided text discusses various vaccination campaigns in Brazil, particularly against influenza (the flu), highlighting events like \\\"Dia D\\\" where a large number of vaccination posts are set up to immunize the public. It mentions the importance of vaccinating children, pregnant women, and other priority groups, and emphasizes successful immunization efforts, including milestones and statistics. The text also touches on related health initiatives, such as vaccinations against other diseases like yellow fever and HPV, and the recognition of Brazil as free from foot-and-mouth disease due to successful vaccination programs.\",\n",
       "        \"refusal\": null,\n",
       "        \"role\": \"assistant\"\n",
       "      }\n",
       "    }\n",
       "  ],\n",
       "  \"created\": 1731754272,\n",
       "  \"id\": \"chatcmpl-AUAgSXC9PVwB2z8iE5dkrygw722PX\",\n",
       "  \"model\": \"gpt-4o-mini-2024-07-18\",\n",
       "  \"object\": \"chat.completion\",\n",
       "  \"system_fingerprint\": \"fp_0ba0d124f1\",\n",
       "  \"usage\": {\n",
       "    \"completion_tokens\": 108,\n",
       "    \"completion_tokens_details\": {\n",
       "      \"accepted_prediction_tokens\": 0,\n",
       "      \"audio_tokens\": 0,\n",
       "      \"reasoning_tokens\": 0,\n",
       "      \"rejected_prediction_tokens\": 0\n",
       "    },\n",
       "    \"prompt_tokens\": 81874,\n",
       "    \"prompt_tokens_details\": {\n",
       "      \"audio_tokens\": 0,\n",
       "      \"cached_tokens\": 0\n",
       "    },\n",
       "    \"total_tokens\": 81982\n",
       "  }\n",
       "}"
      ]
     },
     "execution_count": 120,
     "metadata": {},
     "output_type": "execute_result"
    }
   ],
   "source": [
    "response"
   ]
  },
  {
   "cell_type": "markdown",
   "id": "646c00c9",
   "metadata": {},
   "source": [
    "## June"
   ]
  },
  {
   "cell_type": "code",
   "execution_count": 121,
   "id": "a0862f8e",
   "metadata": {
    "scrolled": true,
    "tags": []
   },
   "outputs": [
    {
     "name": "stdout",
     "output_type": "stream",
     "text": [
      "<class 'pandas.core.frame.DataFrame'>\n",
      "RangeIndex: 3967 entries, 0 to 3966\n",
      "Data columns (total 53 columns):\n",
      " #   Column                  Non-Null Count  Dtype  \n",
      "---  ------                  --------------  -----  \n",
      " 0   index                   3967 non-null   int64  \n",
      " 1   LocationCode            3967 non-null   object \n",
      " 2   LocationName            3967 non-null   object \n",
      " 3   StatesCode              3967 non-null   object \n",
      " 4   ...4                    3967 non-null   int64  \n",
      " 5   id                      3967 non-null   float64\n",
      " 6   text                    3967 non-null   object \n",
      " 7   label                   3967 non-null   object \n",
      " 8   in_reply_to_status_id   332 non-null    float64\n",
      " 9   in_reply_to_user_id     337 non-null    float64\n",
      " 10  quoted_user_id          899 non-null    float64\n",
      " 11  quoted_status_id        899 non-null    float64\n",
      " 12  retweeted_user_id       1878 non-null   float64\n",
      " 13  retweeted_status_id     1878 non-null   float64\n",
      " 14  created_at              3967 non-null   object \n",
      " 15  entities.user_mentions  2277 non-null   object \n",
      " 16  user.id                 3967 non-null   float64\n",
      " 17  user.screen_name        3967 non-null   object \n",
      " 18  user.name               3967 non-null   object \n",
      " 19  user.description        3556 non-null   object \n",
      " 20  user.timezone           0 non-null      float64\n",
      " 21  user.location           3952 non-null   object \n",
      " 22  user.num_followers      3967 non-null   int64  \n",
      " 23  user.num_following      3967 non-null   int64  \n",
      " 24  user.created_at         3967 non-null   object \n",
      " 25  user.statuses_count     3967 non-null   int64  \n",
      " 26  user.is_verified        3967 non-null   bool   \n",
      " 27  lang                    3967 non-null   object \n",
      " 28  token_count             3967 non-null   int64  \n",
      " 29  is_retweet              3967 non-null   bool   \n",
      " 30  has_quote               3967 non-null   bool   \n",
      " 31  is_reply                3967 non-null   bool   \n",
      " 32  contains_keywords       3967 non-null   bool   \n",
      " 33  longitude               3967 non-null   float64\n",
      " 34  latitude                3967 non-null   float64\n",
      " 35  country_code            3967 non-null   object \n",
      " 36  geoname_id              3827 non-null   float64\n",
      " 37  location_type           3967 non-null   object \n",
      " 38  geo_type                3967 non-null   int64  \n",
      " 39  region                  3967 non-null   object \n",
      " 40  subregion               3967 non-null   object \n",
      " 41  num_quotes              3967 non-null   int64  \n",
      " 42  num_replies             3967 non-null   int64  \n",
      " 43  num_retweets            3967 non-null   int64  \n",
      " 44  sent_gpt                3967 non-null   object \n",
      " 45  gpt_sent_presence       3967 non-null   int64  \n",
      " 46  cleaned_text_lem        3967 non-null   object \n",
      " 47  cleaned_text            3967 non-null   object \n",
      " 48  month                   3967 non-null   int64  \n",
      " 49  year                    3967 non-null   int64  \n",
      " 50  week                    3967 non-null   int64  \n",
      " 51  year_month              3967 non-null   object \n",
      " 52  year_week               3967 non-null   object \n",
      "dtypes: bool(5), float64(12), int64(14), object(22)\n",
      "memory usage: 1.5+ MB\n"
     ]
    }
   ],
   "source": [
    "# Get monthly data\n",
    "df_2018_06_neu = pd.read_csv('../data/local/df_neu_2018-06.csv').reset_index()\n",
    "df_2018_06_neu.info()"
   ]
  },
  {
   "cell_type": "markdown",
   "id": "0cbc9664",
   "metadata": {},
   "source": [
    "### Representative sample based on week and location"
   ]
  },
  {
   "cell_type": "code",
   "execution_count": 122,
   "id": "88423599",
   "metadata": {},
   "outputs": [
    {
     "data": {
      "text/html": [
       "<div>\n",
       "<style scoped>\n",
       "    .dataframe tbody tr th:only-of-type {\n",
       "        vertical-align: middle;\n",
       "    }\n",
       "\n",
       "    .dataframe tbody tr th {\n",
       "        vertical-align: top;\n",
       "    }\n",
       "\n",
       "    .dataframe thead th {\n",
       "        text-align: right;\n",
       "    }\n",
       "</style>\n",
       "<table border=\"1\" class=\"dataframe\">\n",
       "  <thead>\n",
       "    <tr style=\"text-align: right;\">\n",
       "      <th></th>\n",
       "      <th>year_week</th>\n",
       "      <th>LocationName</th>\n",
       "      <th>group_size</th>\n",
       "      <th>proportion</th>\n",
       "    </tr>\n",
       "  </thead>\n",
       "  <tbody>\n",
       "    <tr>\n",
       "      <th>0</th>\n",
       "      <td>2018-w22</td>\n",
       "      <td>Acre</td>\n",
       "      <td>3</td>\n",
       "      <td>0.000756</td>\n",
       "    </tr>\n",
       "    <tr>\n",
       "      <th>1</th>\n",
       "      <td>2018-w22</td>\n",
       "      <td>Alagoas</td>\n",
       "      <td>8</td>\n",
       "      <td>0.002017</td>\n",
       "    </tr>\n",
       "    <tr>\n",
       "      <th>2</th>\n",
       "      <td>2018-w22</td>\n",
       "      <td>Amazonas</td>\n",
       "      <td>4</td>\n",
       "      <td>0.001008</td>\n",
       "    </tr>\n",
       "    <tr>\n",
       "      <th>3</th>\n",
       "      <td>2018-w22</td>\n",
       "      <td>Bahia</td>\n",
       "      <td>12</td>\n",
       "      <td>0.003025</td>\n",
       "    </tr>\n",
       "    <tr>\n",
       "      <th>4</th>\n",
       "      <td>2018-w22</td>\n",
       "      <td>Ceara</td>\n",
       "      <td>5</td>\n",
       "      <td>0.001260</td>\n",
       "    </tr>\n",
       "    <tr>\n",
       "      <th>...</th>\n",
       "      <td>...</td>\n",
       "      <td>...</td>\n",
       "      <td>...</td>\n",
       "      <td>...</td>\n",
       "    </tr>\n",
       "    <tr>\n",
       "      <th>115</th>\n",
       "      <td>2018-w26</td>\n",
       "      <td>Roraima</td>\n",
       "      <td>2</td>\n",
       "      <td>0.000504</td>\n",
       "    </tr>\n",
       "    <tr>\n",
       "      <th>116</th>\n",
       "      <td>2018-w26</td>\n",
       "      <td>Santa Catarina</td>\n",
       "      <td>35</td>\n",
       "      <td>0.008823</td>\n",
       "    </tr>\n",
       "    <tr>\n",
       "      <th>117</th>\n",
       "      <td>2018-w26</td>\n",
       "      <td>Sao Paulo</td>\n",
       "      <td>272</td>\n",
       "      <td>0.068566</td>\n",
       "    </tr>\n",
       "    <tr>\n",
       "      <th>118</th>\n",
       "      <td>2018-w26</td>\n",
       "      <td>Sergipe</td>\n",
       "      <td>11</td>\n",
       "      <td>0.002773</td>\n",
       "    </tr>\n",
       "    <tr>\n",
       "      <th>119</th>\n",
       "      <td>2018-w26</td>\n",
       "      <td>Tocantins</td>\n",
       "      <td>2</td>\n",
       "      <td>0.000504</td>\n",
       "    </tr>\n",
       "  </tbody>\n",
       "</table>\n",
       "<p>120 rows × 4 columns</p>\n",
       "</div>"
      ],
      "text/plain": [
       "    year_week    LocationName  group_size  proportion\n",
       "0    2018-w22            Acre           3    0.000756\n",
       "1    2018-w22         Alagoas           8    0.002017\n",
       "2    2018-w22        Amazonas           4    0.001008\n",
       "3    2018-w22           Bahia          12    0.003025\n",
       "4    2018-w22           Ceara           5    0.001260\n",
       "..        ...             ...         ...         ...\n",
       "115  2018-w26         Roraima           2    0.000504\n",
       "116  2018-w26  Santa Catarina          35    0.008823\n",
       "117  2018-w26       Sao Paulo         272    0.068566\n",
       "118  2018-w26         Sergipe          11    0.002773\n",
       "119  2018-w26       Tocantins           2    0.000504\n",
       "\n",
       "[120 rows x 4 columns]"
      ]
     },
     "execution_count": 122,
     "metadata": {},
     "output_type": "execute_result"
    }
   ],
   "source": [
    "# Step 1: Calculate the size of each group (year_week, LocationName)\n",
    "group_sizes = df_2018_06_neu.groupby(['year_week', 'LocationName']).size().reset_index(name='group_size')\n",
    "\n",
    "# Step 2: Calculate the proportion of each group in the dataset\n",
    "total_rows = len(df_2018_06_neu)\n",
    "group_sizes['proportion'] = group_sizes['group_size'] / total_rows\n",
    "group_sizes"
   ]
  },
  {
   "cell_type": "code",
   "execution_count": 123,
   "id": "0b26fe3e",
   "metadata": {},
   "outputs": [
    {
     "data": {
      "text/html": [
       "<div>\n",
       "<style scoped>\n",
       "    .dataframe tbody tr th:only-of-type {\n",
       "        vertical-align: middle;\n",
       "    }\n",
       "\n",
       "    .dataframe tbody tr th {\n",
       "        vertical-align: top;\n",
       "    }\n",
       "\n",
       "    .dataframe thead th {\n",
       "        text-align: right;\n",
       "    }\n",
       "</style>\n",
       "<table border=\"1\" class=\"dataframe\">\n",
       "  <thead>\n",
       "    <tr style=\"text-align: right;\">\n",
       "      <th></th>\n",
       "      <th>year_week</th>\n",
       "      <th>LocationName</th>\n",
       "      <th>group_size</th>\n",
       "      <th>proportion</th>\n",
       "      <th>sample_size</th>\n",
       "    </tr>\n",
       "  </thead>\n",
       "  <tbody>\n",
       "    <tr>\n",
       "      <th>0</th>\n",
       "      <td>2018-w22</td>\n",
       "      <td>Acre</td>\n",
       "      <td>3</td>\n",
       "      <td>0.000756</td>\n",
       "      <td>1</td>\n",
       "    </tr>\n",
       "    <tr>\n",
       "      <th>1</th>\n",
       "      <td>2018-w22</td>\n",
       "      <td>Alagoas</td>\n",
       "      <td>8</td>\n",
       "      <td>0.002017</td>\n",
       "      <td>4</td>\n",
       "    </tr>\n",
       "    <tr>\n",
       "      <th>2</th>\n",
       "      <td>2018-w22</td>\n",
       "      <td>Amazonas</td>\n",
       "      <td>4</td>\n",
       "      <td>0.001008</td>\n",
       "      <td>2</td>\n",
       "    </tr>\n",
       "    <tr>\n",
       "      <th>3</th>\n",
       "      <td>2018-w22</td>\n",
       "      <td>Bahia</td>\n",
       "      <td>12</td>\n",
       "      <td>0.003025</td>\n",
       "      <td>7</td>\n",
       "    </tr>\n",
       "    <tr>\n",
       "      <th>4</th>\n",
       "      <td>2018-w22</td>\n",
       "      <td>Ceara</td>\n",
       "      <td>5</td>\n",
       "      <td>0.001260</td>\n",
       "      <td>3</td>\n",
       "    </tr>\n",
       "    <tr>\n",
       "      <th>...</th>\n",
       "      <td>...</td>\n",
       "      <td>...</td>\n",
       "      <td>...</td>\n",
       "      <td>...</td>\n",
       "      <td>...</td>\n",
       "    </tr>\n",
       "    <tr>\n",
       "      <th>115</th>\n",
       "      <td>2018-w26</td>\n",
       "      <td>Roraima</td>\n",
       "      <td>2</td>\n",
       "      <td>0.000504</td>\n",
       "      <td>1</td>\n",
       "    </tr>\n",
       "    <tr>\n",
       "      <th>116</th>\n",
       "      <td>2018-w26</td>\n",
       "      <td>Santa Catarina</td>\n",
       "      <td>35</td>\n",
       "      <td>0.008823</td>\n",
       "      <td>21</td>\n",
       "    </tr>\n",
       "    <tr>\n",
       "      <th>117</th>\n",
       "      <td>2018-w26</td>\n",
       "      <td>Sao Paulo</td>\n",
       "      <td>272</td>\n",
       "      <td>0.068566</td>\n",
       "      <td>167</td>\n",
       "    </tr>\n",
       "    <tr>\n",
       "      <th>118</th>\n",
       "      <td>2018-w26</td>\n",
       "      <td>Sergipe</td>\n",
       "      <td>11</td>\n",
       "      <td>0.002773</td>\n",
       "      <td>6</td>\n",
       "    </tr>\n",
       "    <tr>\n",
       "      <th>119</th>\n",
       "      <td>2018-w26</td>\n",
       "      <td>Tocantins</td>\n",
       "      <td>2</td>\n",
       "      <td>0.000504</td>\n",
       "      <td>1</td>\n",
       "    </tr>\n",
       "  </tbody>\n",
       "</table>\n",
       "<p>120 rows × 5 columns</p>\n",
       "</div>"
      ],
      "text/plain": [
       "    year_week    LocationName  group_size  proportion  sample_size\n",
       "0    2018-w22            Acre           3    0.000756            1\n",
       "1    2018-w22         Alagoas           8    0.002017            4\n",
       "2    2018-w22        Amazonas           4    0.001008            2\n",
       "3    2018-w22           Bahia          12    0.003025            7\n",
       "4    2018-w22           Ceara           5    0.001260            3\n",
       "..        ...             ...         ...         ...          ...\n",
       "115  2018-w26         Roraima           2    0.000504            1\n",
       "116  2018-w26  Santa Catarina          35    0.008823           21\n",
       "117  2018-w26       Sao Paulo         272    0.068566          167\n",
       "118  2018-w26         Sergipe          11    0.002773            6\n",
       "119  2018-w26       Tocantins           2    0.000504            1\n",
       "\n",
       "[120 rows x 5 columns]"
      ]
     },
     "execution_count": 123,
     "metadata": {},
     "output_type": "execute_result"
    }
   ],
   "source": [
    "# Step 3: Define the target sample size\n",
    "target_sample_size = 2450\n",
    "\n",
    "# Step 4: Calculate the sample size for each group (based on its proportion)\n",
    "group_sizes['sample_size'] = np.floor(group_sizes['proportion'] * target_sample_size).astype(int)\n",
    "group_sizes"
   ]
  },
  {
   "cell_type": "code",
   "execution_count": 124,
   "id": "2770cc0a",
   "metadata": {},
   "outputs": [],
   "source": [
    "# Step 5: Merge this sample size information back to the original DataFrame\n",
    "df_2018_06_neu_sample_size = pd.merge(df_2018_06_neu, group_sizes[['year_week', 'LocationName', 'sample_size']], \n",
    "                               on=['year_week', 'LocationName'], how='left')"
   ]
  },
  {
   "cell_type": "code",
   "execution_count": 125,
   "id": "4c38e1ea",
   "metadata": {},
   "outputs": [
    {
     "name": "stdout",
     "output_type": "stream",
     "text": [
      "Sampled 2394 rows.\n"
     ]
    }
   ],
   "source": [
    "# Step 6: Perform the stratified sampling\n",
    "df_2018_06_neu_sample = df_2018_06_neu_sample_size.groupby(['year_week', 'LocationName']).apply(\n",
    "    lambda group: group.sample(n=group['sample_size'].iloc[0], random_state=42)\n",
    ").reset_index(drop=True)\n",
    "\n",
    "# Step 7: Check the result\n",
    "print(f\"Sampled {len(df_2018_06_neu_sample)} rows.\")\n"
   ]
  },
  {
   "cell_type": "code",
   "execution_count": 126,
   "id": "d7a6a856",
   "metadata": {},
   "outputs": [],
   "source": [
    "text_gpt_2018_06_neu = '\\n'.join(df_2018_06_neu_sample['text'].astype(str))"
   ]
  },
  {
   "cell_type": "markdown",
   "id": "2851081e",
   "metadata": {},
   "source": [
    "### Prompts and loops"
   ]
  },
  {
   "cell_type": "code",
   "execution_count": 130,
   "id": "ca0864b8",
   "metadata": {},
   "outputs": [],
   "source": [
    "prompt_6 = prompt_raw.replace('TWEETS', text_gpt_2018_06_neu)"
   ]
  },
  {
   "cell_type": "code",
   "execution_count": 131,
   "id": "81ebe4cf",
   "metadata": {
    "scrolled": false
   },
   "outputs": [],
   "source": [
    "response = openai.ChatCompletion.create(\n",
    "    model=\"gpt-4o-mini\",  \n",
    "    messages = [\n",
    "        {\"role\": \"user\", \"content\": prompt_6}\n",
    "    ],\n",
    "    max_tokens=400,  # Maximum number of tokens in the response\n",
    "    temperature=0.7  # Controls the randomness of the output\n",
    ")"
   ]
  },
  {
   "cell_type": "code",
   "execution_count": 132,
   "id": "b71c0ed2",
   "metadata": {},
   "outputs": [
    {
     "data": {
      "text/plain": [
       "'The text discusses the ongoing vaccination campaigns in Brazil, particularly for the flu and yellow fever. It highlights the importance of vaccinations for public health, emphasizing that many people are still unvaccinated despite the availability of free vaccines. There is a call to action for people to vaccinate their children and themselves to prevent the resurgence of diseases like polio and measles, which are linked to declining vaccination rates due to misinformation. The text also mentions specific vaccination events and initiatives aimed at increasing public awareness and participation in vaccination programs.'"
      ]
     },
     "execution_count": 132,
     "metadata": {},
     "output_type": "execute_result"
    }
   ],
   "source": [
    "response.choices[0].message.content"
   ]
  },
  {
   "cell_type": "code",
   "execution_count": 133,
   "id": "45ec8e70",
   "metadata": {},
   "outputs": [],
   "source": [
    "#summary = []\n",
    "#dataset = []"
   ]
  },
  {
   "cell_type": "code",
   "execution_count": 134,
   "id": "65d6d843",
   "metadata": {},
   "outputs": [],
   "source": [
    "dataset.append(\"2018_06_neuitive\")"
   ]
  },
  {
   "cell_type": "code",
   "execution_count": 135,
   "id": "95ce5bd0",
   "metadata": {},
   "outputs": [],
   "source": [
    "summary.append(response.choices[0].message.content)"
   ]
  },
  {
   "cell_type": "code",
   "execution_count": 136,
   "id": "26516634",
   "metadata": {
    "tags": []
   },
   "outputs": [
    {
     "name": "stdout",
     "output_type": "stream",
     "text": [
      "<class 'pandas.core.frame.DataFrame'>\n",
      "RangeIndex: 6 entries, 0 to 5\n",
      "Data columns (total 2 columns):\n",
      " #   Column   Non-Null Count  Dtype \n",
      "---  ------   --------------  ----- \n",
      " 0   dataset  6 non-null      object\n",
      " 1   summary  6 non-null      object\n",
      "dtypes: object(2)\n",
      "memory usage: 224.0+ bytes\n"
     ]
    }
   ],
   "source": [
    "df_2018_neu = pd.DataFrame(list(zip(dataset, summary)),\n",
    "                            columns = ['dataset', 'summary'])\n",
    "df_2018_neu.info()"
   ]
  },
  {
   "cell_type": "code",
   "execution_count": 137,
   "id": "c0e1a1e2",
   "metadata": {},
   "outputs": [
    {
     "data": {
      "text/html": [
       "<div>\n",
       "<style scoped>\n",
       "    .dataframe tbody tr th:only-of-type {\n",
       "        vertical-align: middle;\n",
       "    }\n",
       "\n",
       "    .dataframe tbody tr th {\n",
       "        vertical-align: top;\n",
       "    }\n",
       "\n",
       "    .dataframe thead th {\n",
       "        text-align: right;\n",
       "    }\n",
       "</style>\n",
       "<table border=\"1\" class=\"dataframe\">\n",
       "  <thead>\n",
       "    <tr style=\"text-align: right;\">\n",
       "      <th></th>\n",
       "      <th>dataset</th>\n",
       "      <th>summary</th>\n",
       "    </tr>\n",
       "  </thead>\n",
       "  <tbody>\n",
       "    <tr>\n",
       "      <th>0</th>\n",
       "      <td>2018_01_positive</td>\n",
       "      <td>The text discusses various aspects of vaccinat...</td>\n",
       "    </tr>\n",
       "    <tr>\n",
       "      <th>1</th>\n",
       "      <td>2018_02_positive</td>\n",
       "      <td>The text discusses the importance of vaccinati...</td>\n",
       "    </tr>\n",
       "    <tr>\n",
       "      <th>2</th>\n",
       "      <td>2018_03_positive</td>\n",
       "      <td>The provided text discusses various vaccinatio...</td>\n",
       "    </tr>\n",
       "    <tr>\n",
       "      <th>3</th>\n",
       "      <td>2018_04_positive</td>\n",
       "      <td>Cuba has developed a cancer vaccine that has r...</td>\n",
       "    </tr>\n",
       "    <tr>\n",
       "      <th>4</th>\n",
       "      <td>2018_05_positive</td>\n",
       "      <td>The provided text discusses various vaccinatio...</td>\n",
       "    </tr>\n",
       "    <tr>\n",
       "      <th>5</th>\n",
       "      <td>2018_06_positive</td>\n",
       "      <td>The text discusses the ongoing vaccination cam...</td>\n",
       "    </tr>\n",
       "  </tbody>\n",
       "</table>\n",
       "</div>"
      ],
      "text/plain": [
       "            dataset                                            summary\n",
       "0  2018_01_positive  The text discusses various aspects of vaccinat...\n",
       "1  2018_02_positive  The text discusses the importance of vaccinati...\n",
       "2  2018_03_positive  The provided text discusses various vaccinatio...\n",
       "3  2018_04_positive  Cuba has developed a cancer vaccine that has r...\n",
       "4  2018_05_positive  The provided text discusses various vaccinatio...\n",
       "5  2018_06_positive  The text discusses the ongoing vaccination cam..."
      ]
     },
     "execution_count": 137,
     "metadata": {},
     "output_type": "execute_result"
    }
   ],
   "source": [
    "df_2018_neu.tail(14)"
   ]
  },
  {
   "cell_type": "code",
   "execution_count": 138,
   "id": "809af6fc",
   "metadata": {},
   "outputs": [
    {
     "data": {
      "text/plain": [
       "<OpenAIObject chat.completion id=chatcmpl-AUAhN8ctfq60IhPRU2gbMO7glK9I2 at 0x2c315cf9b80> JSON: {\n",
       "  \"choices\": [\n",
       "    {\n",
       "      \"finish_reason\": \"stop\",\n",
       "      \"index\": 0,\n",
       "      \"logprobs\": null,\n",
       "      \"message\": {\n",
       "        \"content\": \"The text discusses the ongoing vaccination campaigns in Brazil, particularly for the flu and yellow fever. It highlights the importance of vaccinations for public health, emphasizing that many people are still unvaccinated despite the availability of free vaccines. There is a call to action for people to vaccinate their children and themselves to prevent the resurgence of diseases like polio and measles, which are linked to declining vaccination rates due to misinformation. The text also mentions specific vaccination events and initiatives aimed at increasing public awareness and participation in vaccination programs.\",\n",
       "        \"refusal\": null,\n",
       "        \"role\": \"assistant\"\n",
       "      }\n",
       "    }\n",
       "  ],\n",
       "  \"created\": 1731754329,\n",
       "  \"id\": \"chatcmpl-AUAhN8ctfq60IhPRU2gbMO7glK9I2\",\n",
       "  \"model\": \"gpt-4o-mini-2024-07-18\",\n",
       "  \"object\": \"chat.completion\",\n",
       "  \"system_fingerprint\": \"fp_0ba0d124f1\",\n",
       "  \"usage\": {\n",
       "    \"completion_tokens\": 103,\n",
       "    \"completion_tokens_details\": {\n",
       "      \"accepted_prediction_tokens\": 0,\n",
       "      \"audio_tokens\": 0,\n",
       "      \"reasoning_tokens\": 0,\n",
       "      \"rejected_prediction_tokens\": 0\n",
       "    },\n",
       "    \"prompt_tokens\": 92527,\n",
       "    \"prompt_tokens_details\": {\n",
       "      \"audio_tokens\": 0,\n",
       "      \"cached_tokens\": 0\n",
       "    },\n",
       "    \"total_tokens\": 92630\n",
       "  }\n",
       "}"
      ]
     },
     "execution_count": 138,
     "metadata": {},
     "output_type": "execute_result"
    }
   ],
   "source": [
    "response"
   ]
  },
  {
   "cell_type": "markdown",
   "id": "1b5c5a9b",
   "metadata": {},
   "source": [
    "## July"
   ]
  },
  {
   "cell_type": "code",
   "execution_count": 139,
   "id": "5096b4ba",
   "metadata": {
    "scrolled": true,
    "tags": []
   },
   "outputs": [
    {
     "name": "stdout",
     "output_type": "stream",
     "text": [
      "<class 'pandas.core.frame.DataFrame'>\n",
      "RangeIndex: 9281 entries, 0 to 9280\n",
      "Data columns (total 53 columns):\n",
      " #   Column                  Non-Null Count  Dtype  \n",
      "---  ------                  --------------  -----  \n",
      " 0   index                   9281 non-null   int64  \n",
      " 1   LocationCode            9281 non-null   object \n",
      " 2   LocationName            9281 non-null   object \n",
      " 3   StatesCode              9281 non-null   object \n",
      " 4   ...4                    9281 non-null   int64  \n",
      " 5   id                      9281 non-null   float64\n",
      " 6   text                    9281 non-null   object \n",
      " 7   label                   9281 non-null   object \n",
      " 8   in_reply_to_status_id   661 non-null    float64\n",
      " 9   in_reply_to_user_id     680 non-null    float64\n",
      " 10  quoted_user_id          2401 non-null   float64\n",
      " 11  quoted_status_id        2401 non-null   float64\n",
      " 12  retweeted_user_id       5087 non-null   float64\n",
      " 13  retweeted_status_id     5087 non-null   float64\n",
      " 14  created_at              9281 non-null   object \n",
      " 15  entities.user_mentions  5847 non-null   object \n",
      " 16  user.id                 9281 non-null   float64\n",
      " 17  user.screen_name        9281 non-null   object \n",
      " 18  user.name               9281 non-null   object \n",
      " 19  user.description        8303 non-null   object \n",
      " 20  user.timezone           0 non-null      float64\n",
      " 21  user.location           9239 non-null   object \n",
      " 22  user.num_followers      9281 non-null   int64  \n",
      " 23  user.num_following      9281 non-null   int64  \n",
      " 24  user.created_at         9281 non-null   object \n",
      " 25  user.statuses_count     9281 non-null   int64  \n",
      " 26  user.is_verified        9281 non-null   bool   \n",
      " 27  lang                    9281 non-null   object \n",
      " 28  token_count             9281 non-null   int64  \n",
      " 29  is_retweet              9281 non-null   bool   \n",
      " 30  has_quote               9281 non-null   bool   \n",
      " 31  is_reply                9281 non-null   bool   \n",
      " 32  contains_keywords       9281 non-null   bool   \n",
      " 33  longitude               9281 non-null   float64\n",
      " 34  latitude                9281 non-null   float64\n",
      " 35  country_code            9281 non-null   object \n",
      " 36  geoname_id              8924 non-null   float64\n",
      " 37  location_type           9281 non-null   object \n",
      " 38  geo_type                9281 non-null   int64  \n",
      " 39  region                  9281 non-null   object \n",
      " 40  subregion               9281 non-null   object \n",
      " 41  num_quotes              9281 non-null   int64  \n",
      " 42  num_replies             9281 non-null   int64  \n",
      " 43  num_retweets            9281 non-null   int64  \n",
      " 44  sent_gpt                9281 non-null   object \n",
      " 45  gpt_sent_presence       9281 non-null   int64  \n",
      " 46  cleaned_text_lem        9281 non-null   object \n",
      " 47  cleaned_text            9281 non-null   object \n",
      " 48  month                   9281 non-null   int64  \n",
      " 49  year                    9281 non-null   int64  \n",
      " 50  week                    9281 non-null   int64  \n",
      " 51  year_month              9281 non-null   object \n",
      " 52  year_week               9281 non-null   object \n",
      "dtypes: bool(5), float64(12), int64(14), object(22)\n",
      "memory usage: 3.4+ MB\n"
     ]
    }
   ],
   "source": [
    "# Get monthly data\n",
    "df_2018_07_neu = pd.read_csv('../data/local/df_neu_2018-07.csv').reset_index()\n",
    "df_2018_07_neu.info()"
   ]
  },
  {
   "cell_type": "markdown",
   "id": "bdd1752b",
   "metadata": {},
   "source": [
    "### Representative sample based on week and location"
   ]
  },
  {
   "cell_type": "code",
   "execution_count": 140,
   "id": "e62e79b6",
   "metadata": {},
   "outputs": [
    {
     "data": {
      "text/html": [
       "<div>\n",
       "<style scoped>\n",
       "    .dataframe tbody tr th:only-of-type {\n",
       "        vertical-align: middle;\n",
       "    }\n",
       "\n",
       "    .dataframe tbody tr th {\n",
       "        vertical-align: top;\n",
       "    }\n",
       "\n",
       "    .dataframe thead th {\n",
       "        text-align: right;\n",
       "    }\n",
       "</style>\n",
       "<table border=\"1\" class=\"dataframe\">\n",
       "  <thead>\n",
       "    <tr style=\"text-align: right;\">\n",
       "      <th></th>\n",
       "      <th>year_week</th>\n",
       "      <th>LocationName</th>\n",
       "      <th>group_size</th>\n",
       "      <th>proportion</th>\n",
       "    </tr>\n",
       "  </thead>\n",
       "  <tbody>\n",
       "    <tr>\n",
       "      <th>0</th>\n",
       "      <td>2018-w26</td>\n",
       "      <td>Acre</td>\n",
       "      <td>10</td>\n",
       "      <td>0.001077</td>\n",
       "    </tr>\n",
       "    <tr>\n",
       "      <th>1</th>\n",
       "      <td>2018-w26</td>\n",
       "      <td>Alagoas</td>\n",
       "      <td>7</td>\n",
       "      <td>0.000754</td>\n",
       "    </tr>\n",
       "    <tr>\n",
       "      <th>2</th>\n",
       "      <td>2018-w26</td>\n",
       "      <td>Amapa</td>\n",
       "      <td>2</td>\n",
       "      <td>0.000215</td>\n",
       "    </tr>\n",
       "    <tr>\n",
       "      <th>3</th>\n",
       "      <td>2018-w26</td>\n",
       "      <td>Amazonas</td>\n",
       "      <td>22</td>\n",
       "      <td>0.002370</td>\n",
       "    </tr>\n",
       "    <tr>\n",
       "      <th>4</th>\n",
       "      <td>2018-w26</td>\n",
       "      <td>Bahia</td>\n",
       "      <td>49</td>\n",
       "      <td>0.005280</td>\n",
       "    </tr>\n",
       "    <tr>\n",
       "      <th>...</th>\n",
       "      <td>...</td>\n",
       "      <td>...</td>\n",
       "      <td>...</td>\n",
       "      <td>...</td>\n",
       "    </tr>\n",
       "    <tr>\n",
       "      <th>146</th>\n",
       "      <td>2018-w31</td>\n",
       "      <td>Rondonia</td>\n",
       "      <td>3</td>\n",
       "      <td>0.000323</td>\n",
       "    </tr>\n",
       "    <tr>\n",
       "      <th>147</th>\n",
       "      <td>2018-w31</td>\n",
       "      <td>Santa Catarina</td>\n",
       "      <td>9</td>\n",
       "      <td>0.000970</td>\n",
       "    </tr>\n",
       "    <tr>\n",
       "      <th>148</th>\n",
       "      <td>2018-w31</td>\n",
       "      <td>Sao Paulo</td>\n",
       "      <td>81</td>\n",
       "      <td>0.008728</td>\n",
       "    </tr>\n",
       "    <tr>\n",
       "      <th>149</th>\n",
       "      <td>2018-w31</td>\n",
       "      <td>Sergipe</td>\n",
       "      <td>4</td>\n",
       "      <td>0.000431</td>\n",
       "    </tr>\n",
       "    <tr>\n",
       "      <th>150</th>\n",
       "      <td>2018-w31</td>\n",
       "      <td>Tocantins</td>\n",
       "      <td>1</td>\n",
       "      <td>0.000108</td>\n",
       "    </tr>\n",
       "  </tbody>\n",
       "</table>\n",
       "<p>151 rows × 4 columns</p>\n",
       "</div>"
      ],
      "text/plain": [
       "    year_week    LocationName  group_size  proportion\n",
       "0    2018-w26            Acre          10    0.001077\n",
       "1    2018-w26         Alagoas           7    0.000754\n",
       "2    2018-w26           Amapa           2    0.000215\n",
       "3    2018-w26        Amazonas          22    0.002370\n",
       "4    2018-w26           Bahia          49    0.005280\n",
       "..        ...             ...         ...         ...\n",
       "146  2018-w31        Rondonia           3    0.000323\n",
       "147  2018-w31  Santa Catarina           9    0.000970\n",
       "148  2018-w31       Sao Paulo          81    0.008728\n",
       "149  2018-w31         Sergipe           4    0.000431\n",
       "150  2018-w31       Tocantins           1    0.000108\n",
       "\n",
       "[151 rows x 4 columns]"
      ]
     },
     "execution_count": 140,
     "metadata": {},
     "output_type": "execute_result"
    }
   ],
   "source": [
    "# Step 1: Calculate the size of each group (year_week, LocationName)\n",
    "group_sizes = df_2018_07_neu.groupby(['year_week', 'LocationName']).size().reset_index(name='group_size')\n",
    "\n",
    "# Step 2: Calculate the proportion of each group in the dataset\n",
    "total_rows = len(df_2018_07_neu)\n",
    "group_sizes['proportion'] = group_sizes['group_size'] / total_rows\n",
    "group_sizes"
   ]
  },
  {
   "cell_type": "code",
   "execution_count": 141,
   "id": "97b60716",
   "metadata": {},
   "outputs": [
    {
     "data": {
      "text/html": [
       "<div>\n",
       "<style scoped>\n",
       "    .dataframe tbody tr th:only-of-type {\n",
       "        vertical-align: middle;\n",
       "    }\n",
       "\n",
       "    .dataframe tbody tr th {\n",
       "        vertical-align: top;\n",
       "    }\n",
       "\n",
       "    .dataframe thead th {\n",
       "        text-align: right;\n",
       "    }\n",
       "</style>\n",
       "<table border=\"1\" class=\"dataframe\">\n",
       "  <thead>\n",
       "    <tr style=\"text-align: right;\">\n",
       "      <th></th>\n",
       "      <th>year_week</th>\n",
       "      <th>LocationName</th>\n",
       "      <th>group_size</th>\n",
       "      <th>proportion</th>\n",
       "      <th>sample_size</th>\n",
       "    </tr>\n",
       "  </thead>\n",
       "  <tbody>\n",
       "    <tr>\n",
       "      <th>0</th>\n",
       "      <td>2018-w26</td>\n",
       "      <td>Acre</td>\n",
       "      <td>10</td>\n",
       "      <td>0.001077</td>\n",
       "      <td>2</td>\n",
       "    </tr>\n",
       "    <tr>\n",
       "      <th>1</th>\n",
       "      <td>2018-w26</td>\n",
       "      <td>Alagoas</td>\n",
       "      <td>7</td>\n",
       "      <td>0.000754</td>\n",
       "      <td>1</td>\n",
       "    </tr>\n",
       "    <tr>\n",
       "      <th>2</th>\n",
       "      <td>2018-w26</td>\n",
       "      <td>Amapa</td>\n",
       "      <td>2</td>\n",
       "      <td>0.000215</td>\n",
       "      <td>0</td>\n",
       "    </tr>\n",
       "    <tr>\n",
       "      <th>3</th>\n",
       "      <td>2018-w26</td>\n",
       "      <td>Amazonas</td>\n",
       "      <td>22</td>\n",
       "      <td>0.002370</td>\n",
       "      <td>5</td>\n",
       "    </tr>\n",
       "    <tr>\n",
       "      <th>4</th>\n",
       "      <td>2018-w26</td>\n",
       "      <td>Bahia</td>\n",
       "      <td>49</td>\n",
       "      <td>0.005280</td>\n",
       "      <td>12</td>\n",
       "    </tr>\n",
       "    <tr>\n",
       "      <th>...</th>\n",
       "      <td>...</td>\n",
       "      <td>...</td>\n",
       "      <td>...</td>\n",
       "      <td>...</td>\n",
       "      <td>...</td>\n",
       "    </tr>\n",
       "    <tr>\n",
       "      <th>146</th>\n",
       "      <td>2018-w31</td>\n",
       "      <td>Rondonia</td>\n",
       "      <td>3</td>\n",
       "      <td>0.000323</td>\n",
       "      <td>0</td>\n",
       "    </tr>\n",
       "    <tr>\n",
       "      <th>147</th>\n",
       "      <td>2018-w31</td>\n",
       "      <td>Santa Catarina</td>\n",
       "      <td>9</td>\n",
       "      <td>0.000970</td>\n",
       "      <td>2</td>\n",
       "    </tr>\n",
       "    <tr>\n",
       "      <th>148</th>\n",
       "      <td>2018-w31</td>\n",
       "      <td>Sao Paulo</td>\n",
       "      <td>81</td>\n",
       "      <td>0.008728</td>\n",
       "      <td>21</td>\n",
       "    </tr>\n",
       "    <tr>\n",
       "      <th>149</th>\n",
       "      <td>2018-w31</td>\n",
       "      <td>Sergipe</td>\n",
       "      <td>4</td>\n",
       "      <td>0.000431</td>\n",
       "      <td>1</td>\n",
       "    </tr>\n",
       "    <tr>\n",
       "      <th>150</th>\n",
       "      <td>2018-w31</td>\n",
       "      <td>Tocantins</td>\n",
       "      <td>1</td>\n",
       "      <td>0.000108</td>\n",
       "      <td>0</td>\n",
       "    </tr>\n",
       "  </tbody>\n",
       "</table>\n",
       "<p>151 rows × 5 columns</p>\n",
       "</div>"
      ],
      "text/plain": [
       "    year_week    LocationName  group_size  proportion  sample_size\n",
       "0    2018-w26            Acre          10    0.001077            2\n",
       "1    2018-w26         Alagoas           7    0.000754            1\n",
       "2    2018-w26           Amapa           2    0.000215            0\n",
       "3    2018-w26        Amazonas          22    0.002370            5\n",
       "4    2018-w26           Bahia          49    0.005280           12\n",
       "..        ...             ...         ...         ...          ...\n",
       "146  2018-w31        Rondonia           3    0.000323            0\n",
       "147  2018-w31  Santa Catarina           9    0.000970            2\n",
       "148  2018-w31       Sao Paulo          81    0.008728           21\n",
       "149  2018-w31         Sergipe           4    0.000431            1\n",
       "150  2018-w31       Tocantins           1    0.000108            0\n",
       "\n",
       "[151 rows x 5 columns]"
      ]
     },
     "execution_count": 141,
     "metadata": {},
     "output_type": "execute_result"
    }
   ],
   "source": [
    "# Step 3: Define the target sample size\n",
    "target_sample_size = 2450\n",
    "\n",
    "# Step 4: Calculate the sample size for each group (based on its proportion)\n",
    "group_sizes['sample_size'] = np.floor(group_sizes['proportion'] * target_sample_size).astype(int)\n",
    "group_sizes"
   ]
  },
  {
   "cell_type": "code",
   "execution_count": 142,
   "id": "4c991d80",
   "metadata": {},
   "outputs": [],
   "source": [
    "# Step 5: Merge this sample size information back to the original DataFrame\n",
    "df_2018_07_neu_sample_size = pd.merge(df_2018_07_neu, group_sizes[['year_week', 'LocationName', 'sample_size']], \n",
    "                               on=['year_week', 'LocationName'], how='left')"
   ]
  },
  {
   "cell_type": "code",
   "execution_count": 143,
   "id": "deab4678",
   "metadata": {},
   "outputs": [
    {
     "name": "stdout",
     "output_type": "stream",
     "text": [
      "Sampled 2380 rows.\n"
     ]
    }
   ],
   "source": [
    "# Step 6: Perform the stratified sampling\n",
    "df_2018_07_neu_sample = df_2018_07_neu_sample_size.groupby(['year_week', 'LocationName']).apply(\n",
    "    lambda group: group.sample(n=group['sample_size'].iloc[0], random_state=42)\n",
    ").reset_index(drop=True)\n",
    "\n",
    "# Step 7: Check the result\n",
    "print(f\"Sampled {len(df_2018_07_neu_sample)} rows.\")\n"
   ]
  },
  {
   "cell_type": "code",
   "execution_count": 144,
   "id": "33656dea",
   "metadata": {},
   "outputs": [],
   "source": [
    "text_gpt_2018_07_neu = '\\n'.join(df_2018_07_neu_sample['text'].astype(str))"
   ]
  },
  {
   "cell_type": "markdown",
   "id": "92d7e0ea",
   "metadata": {},
   "source": [
    "### Prompts and loops"
   ]
  },
  {
   "cell_type": "code",
   "execution_count": 145,
   "id": "349334a9",
   "metadata": {},
   "outputs": [],
   "source": [
    "prompt_7 = prompt_raw.replace('TWEETS', text_gpt_2018_07_neu)"
   ]
  },
  {
   "cell_type": "code",
   "execution_count": 146,
   "id": "ff46a08b",
   "metadata": {
    "scrolled": false
   },
   "outputs": [],
   "source": [
    "response = openai.ChatCompletion.create(\n",
    "    model=\"gpt-4o-mini\",  \n",
    "    messages = [\n",
    "        {\"role\": \"user\", \"content\": prompt_7}\n",
    "    ],\n",
    "    max_tokens=400,  # Maximum number of tokens in the response\n",
    "    temperature=0.7  # Controls the randomness of the output\n",
    ")"
   ]
  },
  {
   "cell_type": "code",
   "execution_count": 147,
   "id": "6723c1d4",
   "metadata": {},
   "outputs": [
    {
     "data": {
      "text/plain": [
       "'The text emphasizes the critical importance of vaccinating children to prevent the resurgence of diseases like polio and measles. It urges parents to discuss the value of vaccination with others, highlighting the societal responsibility in maintaining public health. It also notes the precarious state of support for disabled individuals in a country facing potential outbreaks due to low vaccination rates.'"
      ]
     },
     "execution_count": 147,
     "metadata": {},
     "output_type": "execute_result"
    }
   ],
   "source": [
    "response.choices[0].message.content"
   ]
  },
  {
   "cell_type": "code",
   "execution_count": 148,
   "id": "d3081509",
   "metadata": {},
   "outputs": [],
   "source": [
    "#summary = []\n",
    "#dataset = []"
   ]
  },
  {
   "cell_type": "code",
   "execution_count": 149,
   "id": "1ba0dacb",
   "metadata": {},
   "outputs": [],
   "source": [
    "dataset.append(\"2018_07_neuitive\")"
   ]
  },
  {
   "cell_type": "code",
   "execution_count": 150,
   "id": "cadb0bde",
   "metadata": {},
   "outputs": [],
   "source": [
    "summary.append(response.choices[0].message.content)"
   ]
  },
  {
   "cell_type": "code",
   "execution_count": 151,
   "id": "b80e1e4e",
   "metadata": {
    "tags": []
   },
   "outputs": [
    {
     "name": "stdout",
     "output_type": "stream",
     "text": [
      "<class 'pandas.core.frame.DataFrame'>\n",
      "RangeIndex: 7 entries, 0 to 6\n",
      "Data columns (total 2 columns):\n",
      " #   Column   Non-Null Count  Dtype \n",
      "---  ------   --------------  ----- \n",
      " 0   dataset  7 non-null      object\n",
      " 1   summary  7 non-null      object\n",
      "dtypes: object(2)\n",
      "memory usage: 240.0+ bytes\n"
     ]
    }
   ],
   "source": [
    "df_2018_neu = pd.DataFrame(list(zip(dataset, summary)),\n",
    "                            columns = ['dataset', 'summary'])\n",
    "df_2018_neu.info()"
   ]
  },
  {
   "cell_type": "code",
   "execution_count": 152,
   "id": "de211f05",
   "metadata": {},
   "outputs": [
    {
     "data": {
      "text/html": [
       "<div>\n",
       "<style scoped>\n",
       "    .dataframe tbody tr th:only-of-type {\n",
       "        vertical-align: middle;\n",
       "    }\n",
       "\n",
       "    .dataframe tbody tr th {\n",
       "        vertical-align: top;\n",
       "    }\n",
       "\n",
       "    .dataframe thead th {\n",
       "        text-align: right;\n",
       "    }\n",
       "</style>\n",
       "<table border=\"1\" class=\"dataframe\">\n",
       "  <thead>\n",
       "    <tr style=\"text-align: right;\">\n",
       "      <th></th>\n",
       "      <th>dataset</th>\n",
       "      <th>summary</th>\n",
       "    </tr>\n",
       "  </thead>\n",
       "  <tbody>\n",
       "    <tr>\n",
       "      <th>0</th>\n",
       "      <td>2018_01_positive</td>\n",
       "      <td>The text discusses various aspects of vaccinat...</td>\n",
       "    </tr>\n",
       "    <tr>\n",
       "      <th>1</th>\n",
       "      <td>2018_02_positive</td>\n",
       "      <td>The text discusses the importance of vaccinati...</td>\n",
       "    </tr>\n",
       "    <tr>\n",
       "      <th>2</th>\n",
       "      <td>2018_03_positive</td>\n",
       "      <td>The provided text discusses various vaccinatio...</td>\n",
       "    </tr>\n",
       "    <tr>\n",
       "      <th>3</th>\n",
       "      <td>2018_04_positive</td>\n",
       "      <td>Cuba has developed a cancer vaccine that has r...</td>\n",
       "    </tr>\n",
       "    <tr>\n",
       "      <th>4</th>\n",
       "      <td>2018_05_positive</td>\n",
       "      <td>The provided text discusses various vaccinatio...</td>\n",
       "    </tr>\n",
       "    <tr>\n",
       "      <th>5</th>\n",
       "      <td>2018_06_positive</td>\n",
       "      <td>The text discusses the ongoing vaccination cam...</td>\n",
       "    </tr>\n",
       "    <tr>\n",
       "      <th>6</th>\n",
       "      <td>2018_07_positive</td>\n",
       "      <td>The text emphasizes the critical importance of...</td>\n",
       "    </tr>\n",
       "  </tbody>\n",
       "</table>\n",
       "</div>"
      ],
      "text/plain": [
       "            dataset                                            summary\n",
       "0  2018_01_positive  The text discusses various aspects of vaccinat...\n",
       "1  2018_02_positive  The text discusses the importance of vaccinati...\n",
       "2  2018_03_positive  The provided text discusses various vaccinatio...\n",
       "3  2018_04_positive  Cuba has developed a cancer vaccine that has r...\n",
       "4  2018_05_positive  The provided text discusses various vaccinatio...\n",
       "5  2018_06_positive  The text discusses the ongoing vaccination cam...\n",
       "6  2018_07_positive  The text emphasizes the critical importance of..."
      ]
     },
     "execution_count": 152,
     "metadata": {},
     "output_type": "execute_result"
    }
   ],
   "source": [
    "df_2018_neu.tail(14)"
   ]
  },
  {
   "cell_type": "code",
   "execution_count": 153,
   "id": "19075d74",
   "metadata": {},
   "outputs": [
    {
     "data": {
      "text/plain": [
       "<OpenAIObject chat.completion id=chatcmpl-AUAhXKR2HXtwqiPUntYLkfAY8zdU1 at 0x2c315d71590> JSON: {\n",
       "  \"choices\": [\n",
       "    {\n",
       "      \"finish_reason\": \"stop\",\n",
       "      \"index\": 0,\n",
       "      \"logprobs\": null,\n",
       "      \"message\": {\n",
       "        \"content\": \"The text emphasizes the critical importance of vaccinating children to prevent the resurgence of diseases like polio and measles. It urges parents to discuss the value of vaccination with others, highlighting the societal responsibility in maintaining public health. It also notes the precarious state of support for disabled individuals in a country facing potential outbreaks due to low vaccination rates.\",\n",
       "        \"refusal\": null,\n",
       "        \"role\": \"assistant\"\n",
       "      }\n",
       "    }\n",
       "  ],\n",
       "  \"created\": 1731754339,\n",
       "  \"id\": \"chatcmpl-AUAhXKR2HXtwqiPUntYLkfAY8zdU1\",\n",
       "  \"model\": \"gpt-4o-mini-2024-07-18\",\n",
       "  \"object\": \"chat.completion\",\n",
       "  \"system_fingerprint\": \"fp_0ba0d124f1\",\n",
       "  \"usage\": {\n",
       "    \"completion_tokens\": 68,\n",
       "    \"completion_tokens_details\": {\n",
       "      \"accepted_prediction_tokens\": 0,\n",
       "      \"audio_tokens\": 0,\n",
       "      \"reasoning_tokens\": 0,\n",
       "      \"rejected_prediction_tokens\": 0\n",
       "    },\n",
       "    \"prompt_tokens\": 99374,\n",
       "    \"prompt_tokens_details\": {\n",
       "      \"audio_tokens\": 0,\n",
       "      \"cached_tokens\": 0\n",
       "    },\n",
       "    \"total_tokens\": 99442\n",
       "  }\n",
       "}"
      ]
     },
     "execution_count": 153,
     "metadata": {},
     "output_type": "execute_result"
    }
   ],
   "source": [
    "response"
   ]
  },
  {
   "cell_type": "markdown",
   "id": "9d083d2a",
   "metadata": {},
   "source": [
    "## August"
   ]
  },
  {
   "cell_type": "code",
   "execution_count": 154,
   "id": "0ed2a943",
   "metadata": {
    "scrolled": true,
    "tags": []
   },
   "outputs": [
    {
     "name": "stdout",
     "output_type": "stream",
     "text": [
      "<class 'pandas.core.frame.DataFrame'>\n",
      "RangeIndex: 7154 entries, 0 to 7153\n",
      "Data columns (total 53 columns):\n",
      " #   Column                  Non-Null Count  Dtype  \n",
      "---  ------                  --------------  -----  \n",
      " 0   index                   7154 non-null   int64  \n",
      " 1   LocationCode            7154 non-null   object \n",
      " 2   LocationName            7154 non-null   object \n",
      " 3   StatesCode              7154 non-null   object \n",
      " 4   ...4                    7154 non-null   int64  \n",
      " 5   id                      7154 non-null   float64\n",
      " 6   text                    7154 non-null   object \n",
      " 7   label                   7154 non-null   object \n",
      " 8   in_reply_to_status_id   430 non-null    float64\n",
      " 9   in_reply_to_user_id     443 non-null    float64\n",
      " 10  quoted_user_id          299 non-null    float64\n",
      " 11  quoted_status_id        299 non-null    float64\n",
      " 12  retweeted_user_id       2082 non-null   float64\n",
      " 13  retweeted_status_id     2082 non-null   float64\n",
      " 14  created_at              7154 non-null   object \n",
      " 15  entities.user_mentions  2911 non-null   object \n",
      " 16  user.id                 7154 non-null   float64\n",
      " 17  user.screen_name        7154 non-null   object \n",
      " 18  user.name               7154 non-null   object \n",
      " 19  user.description        6422 non-null   object \n",
      " 20  user.timezone           0 non-null      float64\n",
      " 21  user.location           7107 non-null   object \n",
      " 22  user.num_followers      7154 non-null   int64  \n",
      " 23  user.num_following      7154 non-null   int64  \n",
      " 24  user.created_at         7154 non-null   object \n",
      " 25  user.statuses_count     7154 non-null   int64  \n",
      " 26  user.is_verified        7154 non-null   bool   \n",
      " 27  lang                    7154 non-null   object \n",
      " 28  token_count             7154 non-null   int64  \n",
      " 29  is_retweet              7154 non-null   bool   \n",
      " 30  has_quote               7154 non-null   bool   \n",
      " 31  is_reply                7154 non-null   bool   \n",
      " 32  contains_keywords       7154 non-null   bool   \n",
      " 33  longitude               7154 non-null   float64\n",
      " 34  latitude                7154 non-null   float64\n",
      " 35  country_code            7154 non-null   object \n",
      " 36  geoname_id              6838 non-null   float64\n",
      " 37  location_type           7154 non-null   object \n",
      " 38  geo_type                7154 non-null   int64  \n",
      " 39  region                  7154 non-null   object \n",
      " 40  subregion               7154 non-null   object \n",
      " 41  num_quotes              7154 non-null   int64  \n",
      " 42  num_replies             7154 non-null   int64  \n",
      " 43  num_retweets            7154 non-null   int64  \n",
      " 44  sent_gpt                7154 non-null   object \n",
      " 45  gpt_sent_presence       7154 non-null   int64  \n",
      " 46  cleaned_text_lem        7154 non-null   object \n",
      " 47  cleaned_text            7154 non-null   object \n",
      " 48  month                   7154 non-null   int64  \n",
      " 49  year                    7154 non-null   int64  \n",
      " 50  week                    7154 non-null   int64  \n",
      " 51  year_month              7154 non-null   object \n",
      " 52  year_week               7154 non-null   object \n",
      "dtypes: bool(5), float64(12), int64(14), object(22)\n",
      "memory usage: 2.7+ MB\n"
     ]
    }
   ],
   "source": [
    "# Get monthly data\n",
    "df_2018_08_neu = pd.read_csv('../data/local/df_neu_2018-08.csv').reset_index()\n",
    "df_2018_08_neu.info()"
   ]
  },
  {
   "cell_type": "markdown",
   "id": "3c035145",
   "metadata": {},
   "source": [
    "### Representative sample based on week and location"
   ]
  },
  {
   "cell_type": "code",
   "execution_count": 155,
   "id": "ebf072ee",
   "metadata": {},
   "outputs": [
    {
     "data": {
      "text/html": [
       "<div>\n",
       "<style scoped>\n",
       "    .dataframe tbody tr th:only-of-type {\n",
       "        vertical-align: middle;\n",
       "    }\n",
       "\n",
       "    .dataframe tbody tr th {\n",
       "        vertical-align: top;\n",
       "    }\n",
       "\n",
       "    .dataframe thead th {\n",
       "        text-align: right;\n",
       "    }\n",
       "</style>\n",
       "<table border=\"1\" class=\"dataframe\">\n",
       "  <thead>\n",
       "    <tr style=\"text-align: right;\">\n",
       "      <th></th>\n",
       "      <th>year_week</th>\n",
       "      <th>LocationName</th>\n",
       "      <th>group_size</th>\n",
       "      <th>proportion</th>\n",
       "    </tr>\n",
       "  </thead>\n",
       "  <tbody>\n",
       "    <tr>\n",
       "      <th>0</th>\n",
       "      <td>2018-w31</td>\n",
       "      <td>Acre</td>\n",
       "      <td>5</td>\n",
       "      <td>0.000699</td>\n",
       "    </tr>\n",
       "    <tr>\n",
       "      <th>1</th>\n",
       "      <td>2018-w31</td>\n",
       "      <td>Alagoas</td>\n",
       "      <td>18</td>\n",
       "      <td>0.002516</td>\n",
       "    </tr>\n",
       "    <tr>\n",
       "      <th>2</th>\n",
       "      <td>2018-w31</td>\n",
       "      <td>Amapa</td>\n",
       "      <td>3</td>\n",
       "      <td>0.000419</td>\n",
       "    </tr>\n",
       "    <tr>\n",
       "      <th>3</th>\n",
       "      <td>2018-w31</td>\n",
       "      <td>Amazonas</td>\n",
       "      <td>24</td>\n",
       "      <td>0.003355</td>\n",
       "    </tr>\n",
       "    <tr>\n",
       "      <th>4</th>\n",
       "      <td>2018-w31</td>\n",
       "      <td>Bahia</td>\n",
       "      <td>92</td>\n",
       "      <td>0.012860</td>\n",
       "    </tr>\n",
       "    <tr>\n",
       "      <th>...</th>\n",
       "      <td>...</td>\n",
       "      <td>...</td>\n",
       "      <td>...</td>\n",
       "      <td>...</td>\n",
       "    </tr>\n",
       "    <tr>\n",
       "      <th>118</th>\n",
       "      <td>2018-w35</td>\n",
       "      <td>Roraima</td>\n",
       "      <td>2</td>\n",
       "      <td>0.000280</td>\n",
       "    </tr>\n",
       "    <tr>\n",
       "      <th>119</th>\n",
       "      <td>2018-w35</td>\n",
       "      <td>Santa Catarina</td>\n",
       "      <td>22</td>\n",
       "      <td>0.003075</td>\n",
       "    </tr>\n",
       "    <tr>\n",
       "      <th>120</th>\n",
       "      <td>2018-w35</td>\n",
       "      <td>Sao Paulo</td>\n",
       "      <td>205</td>\n",
       "      <td>0.028655</td>\n",
       "    </tr>\n",
       "    <tr>\n",
       "      <th>121</th>\n",
       "      <td>2018-w35</td>\n",
       "      <td>Sergipe</td>\n",
       "      <td>8</td>\n",
       "      <td>0.001118</td>\n",
       "    </tr>\n",
       "    <tr>\n",
       "      <th>122</th>\n",
       "      <td>2018-w35</td>\n",
       "      <td>Tocantins</td>\n",
       "      <td>6</td>\n",
       "      <td>0.000839</td>\n",
       "    </tr>\n",
       "  </tbody>\n",
       "</table>\n",
       "<p>123 rows × 4 columns</p>\n",
       "</div>"
      ],
      "text/plain": [
       "    year_week    LocationName  group_size  proportion\n",
       "0    2018-w31            Acre           5    0.000699\n",
       "1    2018-w31         Alagoas          18    0.002516\n",
       "2    2018-w31           Amapa           3    0.000419\n",
       "3    2018-w31        Amazonas          24    0.003355\n",
       "4    2018-w31           Bahia          92    0.012860\n",
       "..        ...             ...         ...         ...\n",
       "118  2018-w35         Roraima           2    0.000280\n",
       "119  2018-w35  Santa Catarina          22    0.003075\n",
       "120  2018-w35       Sao Paulo         205    0.028655\n",
       "121  2018-w35         Sergipe           8    0.001118\n",
       "122  2018-w35       Tocantins           6    0.000839\n",
       "\n",
       "[123 rows x 4 columns]"
      ]
     },
     "execution_count": 155,
     "metadata": {},
     "output_type": "execute_result"
    }
   ],
   "source": [
    "# Step 1: Calculate the size of each group (year_week, LocationName)\n",
    "group_sizes = df_2018_08_neu.groupby(['year_week', 'LocationName']).size().reset_index(name='group_size')\n",
    "\n",
    "# Step 2: Calculate the proportion of each group in the dataset\n",
    "total_rows = len(df_2018_08_neu)\n",
    "group_sizes['proportion'] = group_sizes['group_size'] / total_rows\n",
    "group_sizes"
   ]
  },
  {
   "cell_type": "code",
   "execution_count": 156,
   "id": "c3bc6232",
   "metadata": {},
   "outputs": [
    {
     "data": {
      "text/html": [
       "<div>\n",
       "<style scoped>\n",
       "    .dataframe tbody tr th:only-of-type {\n",
       "        vertical-align: middle;\n",
       "    }\n",
       "\n",
       "    .dataframe tbody tr th {\n",
       "        vertical-align: top;\n",
       "    }\n",
       "\n",
       "    .dataframe thead th {\n",
       "        text-align: right;\n",
       "    }\n",
       "</style>\n",
       "<table border=\"1\" class=\"dataframe\">\n",
       "  <thead>\n",
       "    <tr style=\"text-align: right;\">\n",
       "      <th></th>\n",
       "      <th>year_week</th>\n",
       "      <th>LocationName</th>\n",
       "      <th>group_size</th>\n",
       "      <th>proportion</th>\n",
       "      <th>sample_size</th>\n",
       "    </tr>\n",
       "  </thead>\n",
       "  <tbody>\n",
       "    <tr>\n",
       "      <th>0</th>\n",
       "      <td>2018-w31</td>\n",
       "      <td>Acre</td>\n",
       "      <td>5</td>\n",
       "      <td>0.000699</td>\n",
       "      <td>1</td>\n",
       "    </tr>\n",
       "    <tr>\n",
       "      <th>1</th>\n",
       "      <td>2018-w31</td>\n",
       "      <td>Alagoas</td>\n",
       "      <td>18</td>\n",
       "      <td>0.002516</td>\n",
       "      <td>6</td>\n",
       "    </tr>\n",
       "    <tr>\n",
       "      <th>2</th>\n",
       "      <td>2018-w31</td>\n",
       "      <td>Amapa</td>\n",
       "      <td>3</td>\n",
       "      <td>0.000419</td>\n",
       "      <td>1</td>\n",
       "    </tr>\n",
       "    <tr>\n",
       "      <th>3</th>\n",
       "      <td>2018-w31</td>\n",
       "      <td>Amazonas</td>\n",
       "      <td>24</td>\n",
       "      <td>0.003355</td>\n",
       "      <td>8</td>\n",
       "    </tr>\n",
       "    <tr>\n",
       "      <th>4</th>\n",
       "      <td>2018-w31</td>\n",
       "      <td>Bahia</td>\n",
       "      <td>92</td>\n",
       "      <td>0.012860</td>\n",
       "      <td>31</td>\n",
       "    </tr>\n",
       "    <tr>\n",
       "      <th>...</th>\n",
       "      <td>...</td>\n",
       "      <td>...</td>\n",
       "      <td>...</td>\n",
       "      <td>...</td>\n",
       "      <td>...</td>\n",
       "    </tr>\n",
       "    <tr>\n",
       "      <th>118</th>\n",
       "      <td>2018-w35</td>\n",
       "      <td>Roraima</td>\n",
       "      <td>2</td>\n",
       "      <td>0.000280</td>\n",
       "      <td>0</td>\n",
       "    </tr>\n",
       "    <tr>\n",
       "      <th>119</th>\n",
       "      <td>2018-w35</td>\n",
       "      <td>Santa Catarina</td>\n",
       "      <td>22</td>\n",
       "      <td>0.003075</td>\n",
       "      <td>7</td>\n",
       "    </tr>\n",
       "    <tr>\n",
       "      <th>120</th>\n",
       "      <td>2018-w35</td>\n",
       "      <td>Sao Paulo</td>\n",
       "      <td>205</td>\n",
       "      <td>0.028655</td>\n",
       "      <td>70</td>\n",
       "    </tr>\n",
       "    <tr>\n",
       "      <th>121</th>\n",
       "      <td>2018-w35</td>\n",
       "      <td>Sergipe</td>\n",
       "      <td>8</td>\n",
       "      <td>0.001118</td>\n",
       "      <td>2</td>\n",
       "    </tr>\n",
       "    <tr>\n",
       "      <th>122</th>\n",
       "      <td>2018-w35</td>\n",
       "      <td>Tocantins</td>\n",
       "      <td>6</td>\n",
       "      <td>0.000839</td>\n",
       "      <td>2</td>\n",
       "    </tr>\n",
       "  </tbody>\n",
       "</table>\n",
       "<p>123 rows × 5 columns</p>\n",
       "</div>"
      ],
      "text/plain": [
       "    year_week    LocationName  group_size  proportion  sample_size\n",
       "0    2018-w31            Acre           5    0.000699            1\n",
       "1    2018-w31         Alagoas          18    0.002516            6\n",
       "2    2018-w31           Amapa           3    0.000419            1\n",
       "3    2018-w31        Amazonas          24    0.003355            8\n",
       "4    2018-w31           Bahia          92    0.012860           31\n",
       "..        ...             ...         ...         ...          ...\n",
       "118  2018-w35         Roraima           2    0.000280            0\n",
       "119  2018-w35  Santa Catarina          22    0.003075            7\n",
       "120  2018-w35       Sao Paulo         205    0.028655           70\n",
       "121  2018-w35         Sergipe           8    0.001118            2\n",
       "122  2018-w35       Tocantins           6    0.000839            2\n",
       "\n",
       "[123 rows x 5 columns]"
      ]
     },
     "execution_count": 156,
     "metadata": {},
     "output_type": "execute_result"
    }
   ],
   "source": [
    "# Step 3: Define the target sample size\n",
    "target_sample_size = 2450\n",
    "\n",
    "# Step 4: Calculate the sample size for each group (based on its proportion)\n",
    "group_sizes['sample_size'] = np.floor(group_sizes['proportion'] * target_sample_size).astype(int)\n",
    "group_sizes"
   ]
  },
  {
   "cell_type": "code",
   "execution_count": 157,
   "id": "2f55ef03",
   "metadata": {},
   "outputs": [],
   "source": [
    "# Step 5: Merge this sample size information back to the original DataFrame\n",
    "df_2018_08_neu_sample_size = pd.merge(df_2018_08_neu, group_sizes[['year_week', 'LocationName', 'sample_size']], \n",
    "                               on=['year_week', 'LocationName'], how='left')"
   ]
  },
  {
   "cell_type": "code",
   "execution_count": 158,
   "id": "2aa2083a",
   "metadata": {},
   "outputs": [
    {
     "name": "stdout",
     "output_type": "stream",
     "text": [
      "Sampled 2391 rows.\n"
     ]
    }
   ],
   "source": [
    "# Step 6: Perform the stratified sampling\n",
    "df_2018_08_neu_sample = df_2018_08_neu_sample_size.groupby(['year_week', 'LocationName']).apply(\n",
    "    lambda group: group.sample(n=group['sample_size'].iloc[0], random_state=42)\n",
    ").reset_index(drop=True)\n",
    "\n",
    "# Step 7: Check the result\n",
    "print(f\"Sampled {len(df_2018_08_neu_sample)} rows.\")\n"
   ]
  },
  {
   "cell_type": "code",
   "execution_count": 159,
   "id": "3eb70c20",
   "metadata": {},
   "outputs": [],
   "source": [
    "text_gpt_2018_08_neu = '\\n'.join(df_2018_08_neu_sample['text'].astype(str))"
   ]
  },
  {
   "cell_type": "markdown",
   "id": "20c12a08",
   "metadata": {},
   "source": [
    "### Prompts and loops"
   ]
  },
  {
   "cell_type": "code",
   "execution_count": 160,
   "id": "6cbedf14",
   "metadata": {},
   "outputs": [],
   "source": [
    "prompt_8 = prompt_raw.replace('TWEETS', text_gpt_2018_08_neu)"
   ]
  },
  {
   "cell_type": "code",
   "execution_count": 161,
   "id": "6312a680",
   "metadata": {
    "scrolled": false
   },
   "outputs": [],
   "source": [
    "response = openai.ChatCompletion.create(\n",
    "    model=\"gpt-4o-mini\",  \n",
    "    messages = [\n",
    "        {\"role\": \"user\", \"content\": prompt_8}\n",
    "    ],\n",
    "    max_tokens=400,  # Maximum number of tokens in the response\n",
    "    temperature=0.7  # Controls the randomness of the output\n",
    ")"
   ]
  },
  {
   "cell_type": "code",
   "execution_count": 162,
   "id": "1af4a697",
   "metadata": {},
   "outputs": [
    {
     "data": {
      "text/plain": [
       "'The text discusses the National Vaccination Campaign in Brazil against measles and poliomyelitis running from August 6 to 31. It emphasizes the urgency of vaccinating children aged 1 to 5 years, highlighting that even previously vaccinated children should receive the doses. The goal is to reach a 95% vaccination coverage to prevent outbreaks of these diseases, which were previously considered eradicated. The campaign includes various outreach efforts and community mobilization to ensure participation.'"
      ]
     },
     "execution_count": 162,
     "metadata": {},
     "output_type": "execute_result"
    }
   ],
   "source": [
    "response.choices[0].message.content"
   ]
  },
  {
   "cell_type": "code",
   "execution_count": 163,
   "id": "c2df0aba",
   "metadata": {},
   "outputs": [],
   "source": [
    "#summary = []\n",
    "#dataset = []"
   ]
  },
  {
   "cell_type": "code",
   "execution_count": 164,
   "id": "9714a127",
   "metadata": {},
   "outputs": [],
   "source": [
    "dataset.append(\"2018_08_neuitive\")"
   ]
  },
  {
   "cell_type": "code",
   "execution_count": 165,
   "id": "7118fbc6",
   "metadata": {},
   "outputs": [],
   "source": [
    "summary.append(response.choices[0].message.content)"
   ]
  },
  {
   "cell_type": "code",
   "execution_count": 166,
   "id": "626416cc",
   "metadata": {
    "tags": []
   },
   "outputs": [
    {
     "name": "stdout",
     "output_type": "stream",
     "text": [
      "<class 'pandas.core.frame.DataFrame'>\n",
      "RangeIndex: 8 entries, 0 to 7\n",
      "Data columns (total 2 columns):\n",
      " #   Column   Non-Null Count  Dtype \n",
      "---  ------   --------------  ----- \n",
      " 0   dataset  8 non-null      object\n",
      " 1   summary  8 non-null      object\n",
      "dtypes: object(2)\n",
      "memory usage: 256.0+ bytes\n"
     ]
    }
   ],
   "source": [
    "df_2018_neu = pd.DataFrame(list(zip(dataset, summary)),\n",
    "                            columns = ['dataset', 'summary'])\n",
    "df_2018_neu.info()"
   ]
  },
  {
   "cell_type": "code",
   "execution_count": 167,
   "id": "c9811a57",
   "metadata": {},
   "outputs": [
    {
     "data": {
      "text/html": [
       "<div>\n",
       "<style scoped>\n",
       "    .dataframe tbody tr th:only-of-type {\n",
       "        vertical-align: middle;\n",
       "    }\n",
       "\n",
       "    .dataframe tbody tr th {\n",
       "        vertical-align: top;\n",
       "    }\n",
       "\n",
       "    .dataframe thead th {\n",
       "        text-align: right;\n",
       "    }\n",
       "</style>\n",
       "<table border=\"1\" class=\"dataframe\">\n",
       "  <thead>\n",
       "    <tr style=\"text-align: right;\">\n",
       "      <th></th>\n",
       "      <th>dataset</th>\n",
       "      <th>summary</th>\n",
       "    </tr>\n",
       "  </thead>\n",
       "  <tbody>\n",
       "    <tr>\n",
       "      <th>0</th>\n",
       "      <td>2018_01_positive</td>\n",
       "      <td>The text discusses various aspects of vaccinat...</td>\n",
       "    </tr>\n",
       "    <tr>\n",
       "      <th>1</th>\n",
       "      <td>2018_02_positive</td>\n",
       "      <td>The text discusses the importance of vaccinati...</td>\n",
       "    </tr>\n",
       "    <tr>\n",
       "      <th>2</th>\n",
       "      <td>2018_03_positive</td>\n",
       "      <td>The provided text discusses various vaccinatio...</td>\n",
       "    </tr>\n",
       "    <tr>\n",
       "      <th>3</th>\n",
       "      <td>2018_04_positive</td>\n",
       "      <td>Cuba has developed a cancer vaccine that has r...</td>\n",
       "    </tr>\n",
       "    <tr>\n",
       "      <th>4</th>\n",
       "      <td>2018_05_positive</td>\n",
       "      <td>The provided text discusses various vaccinatio...</td>\n",
       "    </tr>\n",
       "    <tr>\n",
       "      <th>5</th>\n",
       "      <td>2018_06_positive</td>\n",
       "      <td>The text discusses the ongoing vaccination cam...</td>\n",
       "    </tr>\n",
       "    <tr>\n",
       "      <th>6</th>\n",
       "      <td>2018_07_positive</td>\n",
       "      <td>The text emphasizes the critical importance of...</td>\n",
       "    </tr>\n",
       "    <tr>\n",
       "      <th>7</th>\n",
       "      <td>2018_08_positive</td>\n",
       "      <td>The text discusses the National Vaccination Ca...</td>\n",
       "    </tr>\n",
       "  </tbody>\n",
       "</table>\n",
       "</div>"
      ],
      "text/plain": [
       "            dataset                                            summary\n",
       "0  2018_01_positive  The text discusses various aspects of vaccinat...\n",
       "1  2018_02_positive  The text discusses the importance of vaccinati...\n",
       "2  2018_03_positive  The provided text discusses various vaccinatio...\n",
       "3  2018_04_positive  Cuba has developed a cancer vaccine that has r...\n",
       "4  2018_05_positive  The provided text discusses various vaccinatio...\n",
       "5  2018_06_positive  The text discusses the ongoing vaccination cam...\n",
       "6  2018_07_positive  The text emphasizes the critical importance of...\n",
       "7  2018_08_positive  The text discusses the National Vaccination Ca..."
      ]
     },
     "execution_count": 167,
     "metadata": {},
     "output_type": "execute_result"
    }
   ],
   "source": [
    "df_2018_neu.tail(14)"
   ]
  },
  {
   "cell_type": "code",
   "execution_count": 168,
   "id": "cd10153f",
   "metadata": {},
   "outputs": [
    {
     "data": {
      "text/plain": [
       "<OpenAIObject chat.completion id=chatcmpl-AUAhrTqBbB4YAI3jZBKAvazpRM2gT at 0x2c3165c3e00> JSON: {\n",
       "  \"choices\": [\n",
       "    {\n",
       "      \"finish_reason\": \"stop\",\n",
       "      \"index\": 0,\n",
       "      \"logprobs\": null,\n",
       "      \"message\": {\n",
       "        \"content\": \"The text discusses the National Vaccination Campaign in Brazil against measles and poliomyelitis running from August 6 to 31. It emphasizes the urgency of vaccinating children aged 1 to 5 years, highlighting that even previously vaccinated children should receive the doses. The goal is to reach a 95% vaccination coverage to prevent outbreaks of these diseases, which were previously considered eradicated. The campaign includes various outreach efforts and community mobilization to ensure participation.\",\n",
       "        \"refusal\": null,\n",
       "        \"role\": \"assistant\"\n",
       "      }\n",
       "    }\n",
       "  ],\n",
       "  \"created\": 1731754359,\n",
       "  \"id\": \"chatcmpl-AUAhrTqBbB4YAI3jZBKAvazpRM2gT\",\n",
       "  \"model\": \"gpt-4o-mini-2024-07-18\",\n",
       "  \"object\": \"chat.completion\",\n",
       "  \"system_fingerprint\": \"fp_0ba0d124f1\",\n",
       "  \"usage\": {\n",
       "    \"completion_tokens\": 93,\n",
       "    \"completion_tokens_details\": {\n",
       "      \"accepted_prediction_tokens\": 0,\n",
       "      \"audio_tokens\": 0,\n",
       "      \"reasoning_tokens\": 0,\n",
       "      \"rejected_prediction_tokens\": 0\n",
       "    },\n",
       "    \"prompt_tokens\": 85358,\n",
       "    \"prompt_tokens_details\": {\n",
       "      \"audio_tokens\": 0,\n",
       "      \"cached_tokens\": 0\n",
       "    },\n",
       "    \"total_tokens\": 85451\n",
       "  }\n",
       "}"
      ]
     },
     "execution_count": 168,
     "metadata": {},
     "output_type": "execute_result"
    }
   ],
   "source": [
    "response"
   ]
  },
  {
   "cell_type": "markdown",
   "id": "1a0c859d",
   "metadata": {},
   "source": [
    "## September"
   ]
  },
  {
   "cell_type": "code",
   "execution_count": 169,
   "id": "46970275",
   "metadata": {
    "scrolled": true,
    "tags": []
   },
   "outputs": [
    {
     "name": "stdout",
     "output_type": "stream",
     "text": [
      "<class 'pandas.core.frame.DataFrame'>\n",
      "RangeIndex: 7183 entries, 0 to 7182\n",
      "Data columns (total 53 columns):\n",
      " #   Column                  Non-Null Count  Dtype  \n",
      "---  ------                  --------------  -----  \n",
      " 0   index                   7183 non-null   int64  \n",
      " 1   LocationCode            7183 non-null   object \n",
      " 2   LocationName            7183 non-null   object \n",
      " 3   StatesCode              7183 non-null   object \n",
      " 4   ...4                    7183 non-null   int64  \n",
      " 5   id                      7183 non-null   float64\n",
      " 6   text                    7183 non-null   object \n",
      " 7   label                   7183 non-null   object \n",
      " 8   in_reply_to_status_id   507 non-null    float64\n",
      " 9   in_reply_to_user_id     522 non-null    float64\n",
      " 10  quoted_user_id          816 non-null    float64\n",
      " 11  quoted_status_id        816 non-null    float64\n",
      " 12  retweeted_user_id       2499 non-null   float64\n",
      " 13  retweeted_status_id     2499 non-null   float64\n",
      " 14  created_at              7183 non-null   object \n",
      " 15  entities.user_mentions  3135 non-null   object \n",
      " 16  user.id                 7183 non-null   float64\n",
      " 17  user.screen_name        7183 non-null   object \n",
      " 18  user.name               7183 non-null   object \n",
      " 19  user.description        6417 non-null   object \n",
      " 20  user.timezone           0 non-null      float64\n",
      " 21  user.location           7134 non-null   object \n",
      " 22  user.num_followers      7183 non-null   int64  \n",
      " 23  user.num_following      7183 non-null   int64  \n",
      " 24  user.created_at         7183 non-null   object \n",
      " 25  user.statuses_count     7183 non-null   int64  \n",
      " 26  user.is_verified        7183 non-null   bool   \n",
      " 27  lang                    7183 non-null   object \n",
      " 28  token_count             7183 non-null   int64  \n",
      " 29  is_retweet              7183 non-null   bool   \n",
      " 30  has_quote               7183 non-null   bool   \n",
      " 31  is_reply                7183 non-null   bool   \n",
      " 32  contains_keywords       7183 non-null   bool   \n",
      " 33  longitude               7183 non-null   float64\n",
      " 34  latitude                7183 non-null   float64\n",
      " 35  country_code            7183 non-null   object \n",
      " 36  geoname_id              6885 non-null   float64\n",
      " 37  location_type           7183 non-null   object \n",
      " 38  geo_type                7183 non-null   int64  \n",
      " 39  region                  7183 non-null   object \n",
      " 40  subregion               7183 non-null   object \n",
      " 41  num_quotes              7183 non-null   int64  \n",
      " 42  num_replies             7183 non-null   int64  \n",
      " 43  num_retweets            7183 non-null   int64  \n",
      " 44  sent_gpt                7183 non-null   object \n",
      " 45  gpt_sent_presence       7183 non-null   int64  \n",
      " 46  cleaned_text_lem        7181 non-null   object \n",
      " 47  cleaned_text            7183 non-null   object \n",
      " 48  month                   7183 non-null   int64  \n",
      " 49  year                    7183 non-null   int64  \n",
      " 50  week                    7183 non-null   int64  \n",
      " 51  year_month              7183 non-null   object \n",
      " 52  year_week               7183 non-null   object \n",
      "dtypes: bool(5), float64(12), int64(14), object(22)\n",
      "memory usage: 2.7+ MB\n"
     ]
    }
   ],
   "source": [
    "# Get monthly data\n",
    "df_2018_09_neu = pd.read_csv('../data/local/df_neu_2018-09.csv').reset_index()\n",
    "df_2018_09_neu.info()"
   ]
  },
  {
   "cell_type": "markdown",
   "id": "6d6d95b1",
   "metadata": {},
   "source": [
    "### Representative sample based on week and location"
   ]
  },
  {
   "cell_type": "code",
   "execution_count": 170,
   "id": "1c64358d",
   "metadata": {},
   "outputs": [
    {
     "data": {
      "text/html": [
       "<div>\n",
       "<style scoped>\n",
       "    .dataframe tbody tr th:only-of-type {\n",
       "        vertical-align: middle;\n",
       "    }\n",
       "\n",
       "    .dataframe tbody tr th {\n",
       "        vertical-align: top;\n",
       "    }\n",
       "\n",
       "    .dataframe thead th {\n",
       "        text-align: right;\n",
       "    }\n",
       "</style>\n",
       "<table border=\"1\" class=\"dataframe\">\n",
       "  <thead>\n",
       "    <tr style=\"text-align: right;\">\n",
       "      <th></th>\n",
       "      <th>year_week</th>\n",
       "      <th>LocationName</th>\n",
       "      <th>group_size</th>\n",
       "      <th>proportion</th>\n",
       "    </tr>\n",
       "  </thead>\n",
       "  <tbody>\n",
       "    <tr>\n",
       "      <th>0</th>\n",
       "      <td>2018-w35</td>\n",
       "      <td>Acre</td>\n",
       "      <td>7</td>\n",
       "      <td>0.000975</td>\n",
       "    </tr>\n",
       "    <tr>\n",
       "      <th>1</th>\n",
       "      <td>2018-w35</td>\n",
       "      <td>Alagoas</td>\n",
       "      <td>3</td>\n",
       "      <td>0.000418</td>\n",
       "    </tr>\n",
       "    <tr>\n",
       "      <th>2</th>\n",
       "      <td>2018-w35</td>\n",
       "      <td>Amapa</td>\n",
       "      <td>4</td>\n",
       "      <td>0.000557</td>\n",
       "    </tr>\n",
       "    <tr>\n",
       "      <th>3</th>\n",
       "      <td>2018-w35</td>\n",
       "      <td>Amazonas</td>\n",
       "      <td>13</td>\n",
       "      <td>0.001810</td>\n",
       "    </tr>\n",
       "    <tr>\n",
       "      <th>4</th>\n",
       "      <td>2018-w35</td>\n",
       "      <td>Bahia</td>\n",
       "      <td>30</td>\n",
       "      <td>0.004177</td>\n",
       "    </tr>\n",
       "    <tr>\n",
       "      <th>...</th>\n",
       "      <td>...</td>\n",
       "      <td>...</td>\n",
       "      <td>...</td>\n",
       "      <td>...</td>\n",
       "    </tr>\n",
       "    <tr>\n",
       "      <th>119</th>\n",
       "      <td>2018-w39</td>\n",
       "      <td>Roraima</td>\n",
       "      <td>7</td>\n",
       "      <td>0.000975</td>\n",
       "    </tr>\n",
       "    <tr>\n",
       "      <th>120</th>\n",
       "      <td>2018-w39</td>\n",
       "      <td>Santa Catarina</td>\n",
       "      <td>23</td>\n",
       "      <td>0.003202</td>\n",
       "    </tr>\n",
       "    <tr>\n",
       "      <th>121</th>\n",
       "      <td>2018-w39</td>\n",
       "      <td>Sao Paulo</td>\n",
       "      <td>392</td>\n",
       "      <td>0.054573</td>\n",
       "    </tr>\n",
       "    <tr>\n",
       "      <th>122</th>\n",
       "      <td>2018-w39</td>\n",
       "      <td>Sergipe</td>\n",
       "      <td>5</td>\n",
       "      <td>0.000696</td>\n",
       "    </tr>\n",
       "    <tr>\n",
       "      <th>123</th>\n",
       "      <td>2018-w39</td>\n",
       "      <td>Tocantins</td>\n",
       "      <td>2</td>\n",
       "      <td>0.000278</td>\n",
       "    </tr>\n",
       "  </tbody>\n",
       "</table>\n",
       "<p>124 rows × 4 columns</p>\n",
       "</div>"
      ],
      "text/plain": [
       "    year_week    LocationName  group_size  proportion\n",
       "0    2018-w35            Acre           7    0.000975\n",
       "1    2018-w35         Alagoas           3    0.000418\n",
       "2    2018-w35           Amapa           4    0.000557\n",
       "3    2018-w35        Amazonas          13    0.001810\n",
       "4    2018-w35           Bahia          30    0.004177\n",
       "..        ...             ...         ...         ...\n",
       "119  2018-w39         Roraima           7    0.000975\n",
       "120  2018-w39  Santa Catarina          23    0.003202\n",
       "121  2018-w39       Sao Paulo         392    0.054573\n",
       "122  2018-w39         Sergipe           5    0.000696\n",
       "123  2018-w39       Tocantins           2    0.000278\n",
       "\n",
       "[124 rows x 4 columns]"
      ]
     },
     "execution_count": 170,
     "metadata": {},
     "output_type": "execute_result"
    }
   ],
   "source": [
    "# Step 1: Calculate the size of each group (year_week, LocationName)\n",
    "group_sizes = df_2018_09_neu.groupby(['year_week', 'LocationName']).size().reset_index(name='group_size')\n",
    "\n",
    "# Step 2: Calculate the proportion of each group in the dataset\n",
    "total_rows = len(df_2018_09_neu)\n",
    "group_sizes['proportion'] = group_sizes['group_size'] / total_rows\n",
    "group_sizes"
   ]
  },
  {
   "cell_type": "code",
   "execution_count": 171,
   "id": "0f70bf42",
   "metadata": {},
   "outputs": [
    {
     "data": {
      "text/html": [
       "<div>\n",
       "<style scoped>\n",
       "    .dataframe tbody tr th:only-of-type {\n",
       "        vertical-align: middle;\n",
       "    }\n",
       "\n",
       "    .dataframe tbody tr th {\n",
       "        vertical-align: top;\n",
       "    }\n",
       "\n",
       "    .dataframe thead th {\n",
       "        text-align: right;\n",
       "    }\n",
       "</style>\n",
       "<table border=\"1\" class=\"dataframe\">\n",
       "  <thead>\n",
       "    <tr style=\"text-align: right;\">\n",
       "      <th></th>\n",
       "      <th>year_week</th>\n",
       "      <th>LocationName</th>\n",
       "      <th>group_size</th>\n",
       "      <th>proportion</th>\n",
       "      <th>sample_size</th>\n",
       "    </tr>\n",
       "  </thead>\n",
       "  <tbody>\n",
       "    <tr>\n",
       "      <th>0</th>\n",
       "      <td>2018-w35</td>\n",
       "      <td>Acre</td>\n",
       "      <td>7</td>\n",
       "      <td>0.000975</td>\n",
       "      <td>2</td>\n",
       "    </tr>\n",
       "    <tr>\n",
       "      <th>1</th>\n",
       "      <td>2018-w35</td>\n",
       "      <td>Alagoas</td>\n",
       "      <td>3</td>\n",
       "      <td>0.000418</td>\n",
       "      <td>1</td>\n",
       "    </tr>\n",
       "    <tr>\n",
       "      <th>2</th>\n",
       "      <td>2018-w35</td>\n",
       "      <td>Amapa</td>\n",
       "      <td>4</td>\n",
       "      <td>0.000557</td>\n",
       "      <td>1</td>\n",
       "    </tr>\n",
       "    <tr>\n",
       "      <th>3</th>\n",
       "      <td>2018-w35</td>\n",
       "      <td>Amazonas</td>\n",
       "      <td>13</td>\n",
       "      <td>0.001810</td>\n",
       "      <td>4</td>\n",
       "    </tr>\n",
       "    <tr>\n",
       "      <th>4</th>\n",
       "      <td>2018-w35</td>\n",
       "      <td>Bahia</td>\n",
       "      <td>30</td>\n",
       "      <td>0.004177</td>\n",
       "      <td>10</td>\n",
       "    </tr>\n",
       "    <tr>\n",
       "      <th>...</th>\n",
       "      <td>...</td>\n",
       "      <td>...</td>\n",
       "      <td>...</td>\n",
       "      <td>...</td>\n",
       "      <td>...</td>\n",
       "    </tr>\n",
       "    <tr>\n",
       "      <th>119</th>\n",
       "      <td>2018-w39</td>\n",
       "      <td>Roraima</td>\n",
       "      <td>7</td>\n",
       "      <td>0.000975</td>\n",
       "      <td>2</td>\n",
       "    </tr>\n",
       "    <tr>\n",
       "      <th>120</th>\n",
       "      <td>2018-w39</td>\n",
       "      <td>Santa Catarina</td>\n",
       "      <td>23</td>\n",
       "      <td>0.003202</td>\n",
       "      <td>7</td>\n",
       "    </tr>\n",
       "    <tr>\n",
       "      <th>121</th>\n",
       "      <td>2018-w39</td>\n",
       "      <td>Sao Paulo</td>\n",
       "      <td>392</td>\n",
       "      <td>0.054573</td>\n",
       "      <td>133</td>\n",
       "    </tr>\n",
       "    <tr>\n",
       "      <th>122</th>\n",
       "      <td>2018-w39</td>\n",
       "      <td>Sergipe</td>\n",
       "      <td>5</td>\n",
       "      <td>0.000696</td>\n",
       "      <td>1</td>\n",
       "    </tr>\n",
       "    <tr>\n",
       "      <th>123</th>\n",
       "      <td>2018-w39</td>\n",
       "      <td>Tocantins</td>\n",
       "      <td>2</td>\n",
       "      <td>0.000278</td>\n",
       "      <td>0</td>\n",
       "    </tr>\n",
       "  </tbody>\n",
       "</table>\n",
       "<p>124 rows × 5 columns</p>\n",
       "</div>"
      ],
      "text/plain": [
       "    year_week    LocationName  group_size  proportion  sample_size\n",
       "0    2018-w35            Acre           7    0.000975            2\n",
       "1    2018-w35         Alagoas           3    0.000418            1\n",
       "2    2018-w35           Amapa           4    0.000557            1\n",
       "3    2018-w35        Amazonas          13    0.001810            4\n",
       "4    2018-w35           Bahia          30    0.004177           10\n",
       "..        ...             ...         ...         ...          ...\n",
       "119  2018-w39         Roraima           7    0.000975            2\n",
       "120  2018-w39  Santa Catarina          23    0.003202            7\n",
       "121  2018-w39       Sao Paulo         392    0.054573          133\n",
       "122  2018-w39         Sergipe           5    0.000696            1\n",
       "123  2018-w39       Tocantins           2    0.000278            0\n",
       "\n",
       "[124 rows x 5 columns]"
      ]
     },
     "execution_count": 171,
     "metadata": {},
     "output_type": "execute_result"
    }
   ],
   "source": [
    "# Step 3: Define the target sample size\n",
    "target_sample_size = 2450\n",
    "\n",
    "# Step 4: Calculate the sample size for each group (based on its proportion)\n",
    "group_sizes['sample_size'] = np.floor(group_sizes['proportion'] * target_sample_size).astype(int)\n",
    "group_sizes"
   ]
  },
  {
   "cell_type": "code",
   "execution_count": 172,
   "id": "1fbb0b3e",
   "metadata": {},
   "outputs": [],
   "source": [
    "# Step 5: Merge this sample size information back to the original DataFrame\n",
    "df_2018_09_neu_sample_size = pd.merge(df_2018_09_neu, group_sizes[['year_week', 'LocationName', 'sample_size']], \n",
    "                               on=['year_week', 'LocationName'], how='left')"
   ]
  },
  {
   "cell_type": "code",
   "execution_count": 173,
   "id": "e62cb3ac",
   "metadata": {},
   "outputs": [
    {
     "name": "stdout",
     "output_type": "stream",
     "text": [
      "Sampled 2395 rows.\n"
     ]
    }
   ],
   "source": [
    "# Step 6: Perform the stratified sampling\n",
    "df_2018_09_neu_sample = df_2018_09_neu_sample_size.groupby(['year_week', 'LocationName']).apply(\n",
    "    lambda group: group.sample(n=group['sample_size'].iloc[0], random_state=42)\n",
    ").reset_index(drop=True)\n",
    "\n",
    "# Step 7: Check the result\n",
    "print(f\"Sampled {len(df_2018_09_neu_sample)} rows.\")\n"
   ]
  },
  {
   "cell_type": "code",
   "execution_count": 174,
   "id": "f94fe9d7",
   "metadata": {},
   "outputs": [],
   "source": [
    "text_gpt_2018_09_neu = '\\n'.join(df_2018_09_neu_sample['text'].astype(str))"
   ]
  },
  {
   "cell_type": "markdown",
   "id": "b7904a7f",
   "metadata": {},
   "source": [
    "### Prompts and loops"
   ]
  },
  {
   "cell_type": "code",
   "execution_count": 175,
   "id": "71bbca85",
   "metadata": {},
   "outputs": [],
   "source": [
    "prompt_9 = prompt_raw.replace('TWEETS', text_gpt_2018_09_neu)"
   ]
  },
  {
   "cell_type": "code",
   "execution_count": 176,
   "id": "b7ae259f",
   "metadata": {
    "scrolled": false
   },
   "outputs": [],
   "source": [
    "response = openai.ChatCompletion.create(\n",
    "    model=\"gpt-4o-mini\",  \n",
    "    messages = [\n",
    "        {\"role\": \"user\", \"content\": prompt_9}\n",
    "    ],\n",
    "    max_tokens=400,  # Maximum number of tokens in the response\n",
    "    temperature=0.7  # Controls the randomness of the output\n",
    ")"
   ]
  },
  {
   "cell_type": "code",
   "execution_count": 177,
   "id": "8653eccf",
   "metadata": {},
   "outputs": [
    {
     "data": {
      "text/plain": [
       "'Researchers in the U.S. are developing a vaccine against acne, currently in testing phases and shown to be effective in inhibiting the bacteria responsible for skin inflammation, predominantly affecting teenagers. Additionally, there are ongoing vaccination campaigns targeting measles and polio, with significant coverage achieved across various regions.'"
      ]
     },
     "execution_count": 177,
     "metadata": {},
     "output_type": "execute_result"
    }
   ],
   "source": [
    "response.choices[0].message.content"
   ]
  },
  {
   "cell_type": "code",
   "execution_count": 178,
   "id": "6be7b347",
   "metadata": {},
   "outputs": [],
   "source": [
    "#summary = []\n",
    "#dataset = []"
   ]
  },
  {
   "cell_type": "code",
   "execution_count": 179,
   "id": "550a921f",
   "metadata": {},
   "outputs": [],
   "source": [
    "dataset.append(\"2018_09_neuitive\")"
   ]
  },
  {
   "cell_type": "code",
   "execution_count": 180,
   "id": "83240506",
   "metadata": {},
   "outputs": [],
   "source": [
    "summary.append(response.choices[0].message.content)"
   ]
  },
  {
   "cell_type": "code",
   "execution_count": 181,
   "id": "0c75735b",
   "metadata": {
    "tags": []
   },
   "outputs": [
    {
     "name": "stdout",
     "output_type": "stream",
     "text": [
      "<class 'pandas.core.frame.DataFrame'>\n",
      "RangeIndex: 9 entries, 0 to 8\n",
      "Data columns (total 2 columns):\n",
      " #   Column   Non-Null Count  Dtype \n",
      "---  ------   --------------  ----- \n",
      " 0   dataset  9 non-null      object\n",
      " 1   summary  9 non-null      object\n",
      "dtypes: object(2)\n",
      "memory usage: 272.0+ bytes\n"
     ]
    }
   ],
   "source": [
    "df_2018_neu = pd.DataFrame(list(zip(dataset, summary)),\n",
    "                            columns = ['dataset', 'summary'])\n",
    "df_2018_neu.info()"
   ]
  },
  {
   "cell_type": "code",
   "execution_count": 182,
   "id": "fa955f73",
   "metadata": {},
   "outputs": [
    {
     "data": {
      "text/html": [
       "<div>\n",
       "<style scoped>\n",
       "    .dataframe tbody tr th:only-of-type {\n",
       "        vertical-align: middle;\n",
       "    }\n",
       "\n",
       "    .dataframe tbody tr th {\n",
       "        vertical-align: top;\n",
       "    }\n",
       "\n",
       "    .dataframe thead th {\n",
       "        text-align: right;\n",
       "    }\n",
       "</style>\n",
       "<table border=\"1\" class=\"dataframe\">\n",
       "  <thead>\n",
       "    <tr style=\"text-align: right;\">\n",
       "      <th></th>\n",
       "      <th>dataset</th>\n",
       "      <th>summary</th>\n",
       "    </tr>\n",
       "  </thead>\n",
       "  <tbody>\n",
       "    <tr>\n",
       "      <th>0</th>\n",
       "      <td>2018_01_positive</td>\n",
       "      <td>The text discusses various aspects of vaccinat...</td>\n",
       "    </tr>\n",
       "    <tr>\n",
       "      <th>1</th>\n",
       "      <td>2018_02_positive</td>\n",
       "      <td>The text discusses the importance of vaccinati...</td>\n",
       "    </tr>\n",
       "    <tr>\n",
       "      <th>2</th>\n",
       "      <td>2018_03_positive</td>\n",
       "      <td>The provided text discusses various vaccinatio...</td>\n",
       "    </tr>\n",
       "    <tr>\n",
       "      <th>3</th>\n",
       "      <td>2018_04_positive</td>\n",
       "      <td>Cuba has developed a cancer vaccine that has r...</td>\n",
       "    </tr>\n",
       "    <tr>\n",
       "      <th>4</th>\n",
       "      <td>2018_05_positive</td>\n",
       "      <td>The provided text discusses various vaccinatio...</td>\n",
       "    </tr>\n",
       "    <tr>\n",
       "      <th>5</th>\n",
       "      <td>2018_06_positive</td>\n",
       "      <td>The text discusses the ongoing vaccination cam...</td>\n",
       "    </tr>\n",
       "    <tr>\n",
       "      <th>6</th>\n",
       "      <td>2018_07_positive</td>\n",
       "      <td>The text emphasizes the critical importance of...</td>\n",
       "    </tr>\n",
       "    <tr>\n",
       "      <th>7</th>\n",
       "      <td>2018_08_positive</td>\n",
       "      <td>The text discusses the National Vaccination Ca...</td>\n",
       "    </tr>\n",
       "    <tr>\n",
       "      <th>8</th>\n",
       "      <td>2018_09_positive</td>\n",
       "      <td>Researchers in the U.S. are developing a vacci...</td>\n",
       "    </tr>\n",
       "  </tbody>\n",
       "</table>\n",
       "</div>"
      ],
      "text/plain": [
       "            dataset                                            summary\n",
       "0  2018_01_positive  The text discusses various aspects of vaccinat...\n",
       "1  2018_02_positive  The text discusses the importance of vaccinati...\n",
       "2  2018_03_positive  The provided text discusses various vaccinatio...\n",
       "3  2018_04_positive  Cuba has developed a cancer vaccine that has r...\n",
       "4  2018_05_positive  The provided text discusses various vaccinatio...\n",
       "5  2018_06_positive  The text discusses the ongoing vaccination cam...\n",
       "6  2018_07_positive  The text emphasizes the critical importance of...\n",
       "7  2018_08_positive  The text discusses the National Vaccination Ca...\n",
       "8  2018_09_positive  Researchers in the U.S. are developing a vacci..."
      ]
     },
     "execution_count": 182,
     "metadata": {},
     "output_type": "execute_result"
    }
   ],
   "source": [
    "df_2018_neu.tail(14)"
   ]
  },
  {
   "cell_type": "code",
   "execution_count": 183,
   "id": "4c204870",
   "metadata": {},
   "outputs": [
    {
     "data": {
      "text/plain": [
       "<OpenAIObject chat.completion id=chatcmpl-AUAi1LPRiXZ5pIlgS6wt2rnHpccKm at 0x2c317ca2d60> JSON: {\n",
       "  \"choices\": [\n",
       "    {\n",
       "      \"finish_reason\": \"stop\",\n",
       "      \"index\": 0,\n",
       "      \"logprobs\": null,\n",
       "      \"message\": {\n",
       "        \"content\": \"Researchers in the U.S. are developing a vaccine against acne, currently in testing phases and shown to be effective in inhibiting the bacteria responsible for skin inflammation, predominantly affecting teenagers. Additionally, there are ongoing vaccination campaigns targeting measles and polio, with significant coverage achieved across various regions.\",\n",
       "        \"refusal\": null,\n",
       "        \"role\": \"assistant\"\n",
       "      }\n",
       "    }\n",
       "  ],\n",
       "  \"created\": 1731754369,\n",
       "  \"id\": \"chatcmpl-AUAi1LPRiXZ5pIlgS6wt2rnHpccKm\",\n",
       "  \"model\": \"gpt-4o-mini-2024-07-18\",\n",
       "  \"object\": \"chat.completion\",\n",
       "  \"system_fingerprint\": \"fp_0ba0d124f1\",\n",
       "  \"usage\": {\n",
       "    \"completion_tokens\": 58,\n",
       "    \"completion_tokens_details\": {\n",
       "      \"accepted_prediction_tokens\": 0,\n",
       "      \"audio_tokens\": 0,\n",
       "      \"reasoning_tokens\": 0,\n",
       "      \"rejected_prediction_tokens\": 0\n",
       "    },\n",
       "    \"prompt_tokens\": 86190,\n",
       "    \"prompt_tokens_details\": {\n",
       "      \"audio_tokens\": 0,\n",
       "      \"cached_tokens\": 0\n",
       "    },\n",
       "    \"total_tokens\": 86248\n",
       "  }\n",
       "}"
      ]
     },
     "execution_count": 183,
     "metadata": {},
     "output_type": "execute_result"
    }
   ],
   "source": [
    "response"
   ]
  },
  {
   "cell_type": "markdown",
   "id": "43f969b1",
   "metadata": {},
   "source": [
    "## October"
   ]
  },
  {
   "cell_type": "code",
   "execution_count": 184,
   "id": "28cedc2b",
   "metadata": {
    "scrolled": true,
    "tags": []
   },
   "outputs": [
    {
     "name": "stdout",
     "output_type": "stream",
     "text": [
      "<class 'pandas.core.frame.DataFrame'>\n",
      "RangeIndex: 7922 entries, 0 to 7921\n",
      "Data columns (total 53 columns):\n",
      " #   Column                  Non-Null Count  Dtype  \n",
      "---  ------                  --------------  -----  \n",
      " 0   index                   7922 non-null   int64  \n",
      " 1   LocationCode            7922 non-null   object \n",
      " 2   LocationName            7922 non-null   object \n",
      " 3   StatesCode              7922 non-null   object \n",
      " 4   ...4                    7922 non-null   int64  \n",
      " 5   id                      7922 non-null   float64\n",
      " 6   text                    7922 non-null   object \n",
      " 7   label                   7922 non-null   object \n",
      " 8   in_reply_to_status_id   595 non-null    float64\n",
      " 9   in_reply_to_user_id     610 non-null    float64\n",
      " 10  quoted_user_id          479 non-null    float64\n",
      " 11  quoted_status_id        479 non-null    float64\n",
      " 12  retweeted_user_id       4287 non-null   float64\n",
      " 13  retweeted_status_id     4287 non-null   float64\n",
      " 14  created_at              7922 non-null   object \n",
      " 15  entities.user_mentions  4950 non-null   object \n",
      " 16  user.id                 7922 non-null   float64\n",
      " 17  user.screen_name        7922 non-null   object \n",
      " 18  user.name               7922 non-null   object \n",
      " 19  user.description        7026 non-null   object \n",
      " 20  user.timezone           0 non-null      float64\n",
      " 21  user.location           7878 non-null   object \n",
      " 22  user.num_followers      7922 non-null   int64  \n",
      " 23  user.num_following      7922 non-null   int64  \n",
      " 24  user.created_at         7922 non-null   object \n",
      " 25  user.statuses_count     7922 non-null   int64  \n",
      " 26  user.is_verified        7922 non-null   bool   \n",
      " 27  lang                    7922 non-null   object \n",
      " 28  token_count             7922 non-null   int64  \n",
      " 29  is_retweet              7922 non-null   bool   \n",
      " 30  has_quote               7922 non-null   bool   \n",
      " 31  is_reply                7922 non-null   bool   \n",
      " 32  contains_keywords       7922 non-null   bool   \n",
      " 33  longitude               7922 non-null   float64\n",
      " 34  latitude                7922 non-null   float64\n",
      " 35  country_code            7922 non-null   object \n",
      " 36  geoname_id              7659 non-null   float64\n",
      " 37  location_type           7922 non-null   object \n",
      " 38  geo_type                7922 non-null   int64  \n",
      " 39  region                  7922 non-null   object \n",
      " 40  subregion               7922 non-null   object \n",
      " 41  num_quotes              7922 non-null   int64  \n",
      " 42  num_replies             7922 non-null   int64  \n",
      " 43  num_retweets            7922 non-null   int64  \n",
      " 44  sent_gpt                7922 non-null   object \n",
      " 45  gpt_sent_presence       7922 non-null   int64  \n",
      " 46  cleaned_text_lem        7922 non-null   object \n",
      " 47  cleaned_text            7922 non-null   object \n",
      " 48  month                   7922 non-null   int64  \n",
      " 49  year                    7922 non-null   int64  \n",
      " 50  week                    7922 non-null   int64  \n",
      " 51  year_month              7922 non-null   object \n",
      " 52  year_week               7922 non-null   object \n",
      "dtypes: bool(5), float64(12), int64(14), object(22)\n",
      "memory usage: 2.9+ MB\n"
     ]
    }
   ],
   "source": [
    "# Get monthly data\n",
    "df_2018_10_neu = pd.read_csv('../data/local/df_neu_2018-10.csv').reset_index()\n",
    "df_2018_10_neu.info()"
   ]
  },
  {
   "cell_type": "markdown",
   "id": "616f674a",
   "metadata": {},
   "source": [
    "### Representative sample based on week and location"
   ]
  },
  {
   "cell_type": "code",
   "execution_count": 185,
   "id": "9cb193cd",
   "metadata": {},
   "outputs": [
    {
     "data": {
      "text/html": [
       "<div>\n",
       "<style scoped>\n",
       "    .dataframe tbody tr th:only-of-type {\n",
       "        vertical-align: middle;\n",
       "    }\n",
       "\n",
       "    .dataframe tbody tr th {\n",
       "        vertical-align: top;\n",
       "    }\n",
       "\n",
       "    .dataframe thead th {\n",
       "        text-align: right;\n",
       "    }\n",
       "</style>\n",
       "<table border=\"1\" class=\"dataframe\">\n",
       "  <thead>\n",
       "    <tr style=\"text-align: right;\">\n",
       "      <th></th>\n",
       "      <th>year_week</th>\n",
       "      <th>LocationName</th>\n",
       "      <th>group_size</th>\n",
       "      <th>proportion</th>\n",
       "    </tr>\n",
       "  </thead>\n",
       "  <tbody>\n",
       "    <tr>\n",
       "      <th>0</th>\n",
       "      <td>2018-w40</td>\n",
       "      <td>Acre</td>\n",
       "      <td>9</td>\n",
       "      <td>0.001136</td>\n",
       "    </tr>\n",
       "    <tr>\n",
       "      <th>1</th>\n",
       "      <td>2018-w40</td>\n",
       "      <td>Alagoas</td>\n",
       "      <td>21</td>\n",
       "      <td>0.002651</td>\n",
       "    </tr>\n",
       "    <tr>\n",
       "      <th>2</th>\n",
       "      <td>2018-w40</td>\n",
       "      <td>Amapa</td>\n",
       "      <td>9</td>\n",
       "      <td>0.001136</td>\n",
       "    </tr>\n",
       "    <tr>\n",
       "      <th>3</th>\n",
       "      <td>2018-w40</td>\n",
       "      <td>Amazonas</td>\n",
       "      <td>48</td>\n",
       "      <td>0.006059</td>\n",
       "    </tr>\n",
       "    <tr>\n",
       "      <th>4</th>\n",
       "      <td>2018-w40</td>\n",
       "      <td>Bahia</td>\n",
       "      <td>85</td>\n",
       "      <td>0.010730</td>\n",
       "    </tr>\n",
       "    <tr>\n",
       "      <th>...</th>\n",
       "      <td>...</td>\n",
       "      <td>...</td>\n",
       "      <td>...</td>\n",
       "      <td>...</td>\n",
       "    </tr>\n",
       "    <tr>\n",
       "      <th>118</th>\n",
       "      <td>2018-w44</td>\n",
       "      <td>Roraima</td>\n",
       "      <td>1</td>\n",
       "      <td>0.000126</td>\n",
       "    </tr>\n",
       "    <tr>\n",
       "      <th>119</th>\n",
       "      <td>2018-w44</td>\n",
       "      <td>Santa Catarina</td>\n",
       "      <td>17</td>\n",
       "      <td>0.002146</td>\n",
       "    </tr>\n",
       "    <tr>\n",
       "      <th>120</th>\n",
       "      <td>2018-w44</td>\n",
       "      <td>Sao Paulo</td>\n",
       "      <td>78</td>\n",
       "      <td>0.009846</td>\n",
       "    </tr>\n",
       "    <tr>\n",
       "      <th>121</th>\n",
       "      <td>2018-w44</td>\n",
       "      <td>Sergipe</td>\n",
       "      <td>5</td>\n",
       "      <td>0.000631</td>\n",
       "    </tr>\n",
       "    <tr>\n",
       "      <th>122</th>\n",
       "      <td>2018-w44</td>\n",
       "      <td>Tocantins</td>\n",
       "      <td>1</td>\n",
       "      <td>0.000126</td>\n",
       "    </tr>\n",
       "  </tbody>\n",
       "</table>\n",
       "<p>123 rows × 4 columns</p>\n",
       "</div>"
      ],
      "text/plain": [
       "    year_week    LocationName  group_size  proportion\n",
       "0    2018-w40            Acre           9    0.001136\n",
       "1    2018-w40         Alagoas          21    0.002651\n",
       "2    2018-w40           Amapa           9    0.001136\n",
       "3    2018-w40        Amazonas          48    0.006059\n",
       "4    2018-w40           Bahia          85    0.010730\n",
       "..        ...             ...         ...         ...\n",
       "118  2018-w44         Roraima           1    0.000126\n",
       "119  2018-w44  Santa Catarina          17    0.002146\n",
       "120  2018-w44       Sao Paulo          78    0.009846\n",
       "121  2018-w44         Sergipe           5    0.000631\n",
       "122  2018-w44       Tocantins           1    0.000126\n",
       "\n",
       "[123 rows x 4 columns]"
      ]
     },
     "execution_count": 185,
     "metadata": {},
     "output_type": "execute_result"
    }
   ],
   "source": [
    "# Step 1: Calculate the size of each group (year_week, LocationName)\n",
    "group_sizes = df_2018_10_neu.groupby(['year_week', 'LocationName']).size().reset_index(name='group_size')\n",
    "\n",
    "# Step 2: Calculate the proportion of each group in the dataset\n",
    "total_rows = len(df_2018_10_neu)\n",
    "group_sizes['proportion'] = group_sizes['group_size'] / total_rows\n",
    "group_sizes"
   ]
  },
  {
   "cell_type": "code",
   "execution_count": 186,
   "id": "610efcf6",
   "metadata": {},
   "outputs": [
    {
     "data": {
      "text/html": [
       "<div>\n",
       "<style scoped>\n",
       "    .dataframe tbody tr th:only-of-type {\n",
       "        vertical-align: middle;\n",
       "    }\n",
       "\n",
       "    .dataframe tbody tr th {\n",
       "        vertical-align: top;\n",
       "    }\n",
       "\n",
       "    .dataframe thead th {\n",
       "        text-align: right;\n",
       "    }\n",
       "</style>\n",
       "<table border=\"1\" class=\"dataframe\">\n",
       "  <thead>\n",
       "    <tr style=\"text-align: right;\">\n",
       "      <th></th>\n",
       "      <th>year_week</th>\n",
       "      <th>LocationName</th>\n",
       "      <th>group_size</th>\n",
       "      <th>proportion</th>\n",
       "      <th>sample_size</th>\n",
       "    </tr>\n",
       "  </thead>\n",
       "  <tbody>\n",
       "    <tr>\n",
       "      <th>0</th>\n",
       "      <td>2018-w40</td>\n",
       "      <td>Acre</td>\n",
       "      <td>9</td>\n",
       "      <td>0.001136</td>\n",
       "      <td>2</td>\n",
       "    </tr>\n",
       "    <tr>\n",
       "      <th>1</th>\n",
       "      <td>2018-w40</td>\n",
       "      <td>Alagoas</td>\n",
       "      <td>21</td>\n",
       "      <td>0.002651</td>\n",
       "      <td>6</td>\n",
       "    </tr>\n",
       "    <tr>\n",
       "      <th>2</th>\n",
       "      <td>2018-w40</td>\n",
       "      <td>Amapa</td>\n",
       "      <td>9</td>\n",
       "      <td>0.001136</td>\n",
       "      <td>2</td>\n",
       "    </tr>\n",
       "    <tr>\n",
       "      <th>3</th>\n",
       "      <td>2018-w40</td>\n",
       "      <td>Amazonas</td>\n",
       "      <td>48</td>\n",
       "      <td>0.006059</td>\n",
       "      <td>14</td>\n",
       "    </tr>\n",
       "    <tr>\n",
       "      <th>4</th>\n",
       "      <td>2018-w40</td>\n",
       "      <td>Bahia</td>\n",
       "      <td>85</td>\n",
       "      <td>0.010730</td>\n",
       "      <td>26</td>\n",
       "    </tr>\n",
       "    <tr>\n",
       "      <th>...</th>\n",
       "      <td>...</td>\n",
       "      <td>...</td>\n",
       "      <td>...</td>\n",
       "      <td>...</td>\n",
       "      <td>...</td>\n",
       "    </tr>\n",
       "    <tr>\n",
       "      <th>118</th>\n",
       "      <td>2018-w44</td>\n",
       "      <td>Roraima</td>\n",
       "      <td>1</td>\n",
       "      <td>0.000126</td>\n",
       "      <td>0</td>\n",
       "    </tr>\n",
       "    <tr>\n",
       "      <th>119</th>\n",
       "      <td>2018-w44</td>\n",
       "      <td>Santa Catarina</td>\n",
       "      <td>17</td>\n",
       "      <td>0.002146</td>\n",
       "      <td>5</td>\n",
       "    </tr>\n",
       "    <tr>\n",
       "      <th>120</th>\n",
       "      <td>2018-w44</td>\n",
       "      <td>Sao Paulo</td>\n",
       "      <td>78</td>\n",
       "      <td>0.009846</td>\n",
       "      <td>24</td>\n",
       "    </tr>\n",
       "    <tr>\n",
       "      <th>121</th>\n",
       "      <td>2018-w44</td>\n",
       "      <td>Sergipe</td>\n",
       "      <td>5</td>\n",
       "      <td>0.000631</td>\n",
       "      <td>1</td>\n",
       "    </tr>\n",
       "    <tr>\n",
       "      <th>122</th>\n",
       "      <td>2018-w44</td>\n",
       "      <td>Tocantins</td>\n",
       "      <td>1</td>\n",
       "      <td>0.000126</td>\n",
       "      <td>0</td>\n",
       "    </tr>\n",
       "  </tbody>\n",
       "</table>\n",
       "<p>123 rows × 5 columns</p>\n",
       "</div>"
      ],
      "text/plain": [
       "    year_week    LocationName  group_size  proportion  sample_size\n",
       "0    2018-w40            Acre           9    0.001136            2\n",
       "1    2018-w40         Alagoas          21    0.002651            6\n",
       "2    2018-w40           Amapa           9    0.001136            2\n",
       "3    2018-w40        Amazonas          48    0.006059           14\n",
       "4    2018-w40           Bahia          85    0.010730           26\n",
       "..        ...             ...         ...         ...          ...\n",
       "118  2018-w44         Roraima           1    0.000126            0\n",
       "119  2018-w44  Santa Catarina          17    0.002146            5\n",
       "120  2018-w44       Sao Paulo          78    0.009846           24\n",
       "121  2018-w44         Sergipe           5    0.000631            1\n",
       "122  2018-w44       Tocantins           1    0.000126            0\n",
       "\n",
       "[123 rows x 5 columns]"
      ]
     },
     "execution_count": 186,
     "metadata": {},
     "output_type": "execute_result"
    }
   ],
   "source": [
    "# Step 3: Define the target sample size\n",
    "target_sample_size = 2450\n",
    "\n",
    "# Step 4: Calculate the sample size for each group (based on its proportion)\n",
    "group_sizes['sample_size'] = np.floor(group_sizes['proportion'] * target_sample_size).astype(int)\n",
    "group_sizes"
   ]
  },
  {
   "cell_type": "code",
   "execution_count": 187,
   "id": "361d2734",
   "metadata": {},
   "outputs": [],
   "source": [
    "# Step 5: Merge this sample size information back to the original DataFrame\n",
    "df_2018_10_neu_sample_size = pd.merge(df_2018_10_neu, group_sizes[['year_week', 'LocationName', 'sample_size']], \n",
    "                               on=['year_week', 'LocationName'], how='left')"
   ]
  },
  {
   "cell_type": "code",
   "execution_count": 188,
   "id": "cd34d6e4",
   "metadata": {},
   "outputs": [
    {
     "name": "stdout",
     "output_type": "stream",
     "text": [
      "Sampled 2385 rows.\n"
     ]
    }
   ],
   "source": [
    "# Step 6: Perform the stratified sampling\n",
    "df_2018_10_neu_sample = df_2018_10_neu_sample_size.groupby(['year_week', 'LocationName']).apply(\n",
    "    lambda group: group.sample(n=group['sample_size'].iloc[0], random_state=42)\n",
    ").reset_index(drop=True)\n",
    "\n",
    "# Step 7: Check the result\n",
    "print(f\"Sampled {len(df_2018_10_neu_sample)} rows.\")\n"
   ]
  },
  {
   "cell_type": "code",
   "execution_count": 189,
   "id": "853aa7a6",
   "metadata": {},
   "outputs": [],
   "source": [
    "text_gpt_2018_10_neu = '\\n'.join(df_2018_10_neu_sample['text'].astype(str))"
   ]
  },
  {
   "cell_type": "markdown",
   "id": "0e857dd6",
   "metadata": {},
   "source": [
    "### Prompts and loops"
   ]
  },
  {
   "cell_type": "code",
   "execution_count": 190,
   "id": "997a28ad",
   "metadata": {},
   "outputs": [],
   "source": [
    "prompt_10 = prompt_raw.replace('TWEETS', text_gpt_2018_10_neu)"
   ]
  },
  {
   "cell_type": "code",
   "execution_count": 191,
   "id": "0ad6cb21",
   "metadata": {
    "scrolled": false
   },
   "outputs": [],
   "source": [
    "response = openai.ChatCompletion.create(\n",
    "    model=\"gpt-4o-mini\",  \n",
    "    messages = [\n",
    "        {\"role\": \"user\", \"content\": prompt_10}\n",
    "    ],\n",
    "    max_tokens=400,  # Maximum number of tokens in the response\n",
    "    temperature=0.7  # Controls the randomness of the output\n",
    ")"
   ]
  },
  {
   "cell_type": "code",
   "execution_count": 192,
   "id": "f98d14d4",
   "metadata": {},
   "outputs": [
    {
     "data": {
      "text/plain": [
       "'The provided text discusses the importance of vaccination and the impact of misinformation on public health. It emphasizes the need for vaccination against various diseases, warns against the spread of fake news regarding vaccines, and highlights successful vaccination campaigns for both humans and animals. The text also touches on the societal responsibilities of parents to vaccinate their children and the potential consequences of failing to do so. Overall, it promotes vaccination as a critical measure for preventing diseases and protecting public health.'"
      ]
     },
     "execution_count": 192,
     "metadata": {},
     "output_type": "execute_result"
    }
   ],
   "source": [
    "response.choices[0].message.content"
   ]
  },
  {
   "cell_type": "code",
   "execution_count": 193,
   "id": "148185bf",
   "metadata": {},
   "outputs": [],
   "source": [
    "#summary = []\n",
    "#dataset = []"
   ]
  },
  {
   "cell_type": "code",
   "execution_count": 194,
   "id": "91999070",
   "metadata": {},
   "outputs": [],
   "source": [
    "dataset.append(\"2018_10_neuitive\")"
   ]
  },
  {
   "cell_type": "code",
   "execution_count": 195,
   "id": "ca0c8fcc",
   "metadata": {},
   "outputs": [],
   "source": [
    "summary.append(response.choices[0].message.content)"
   ]
  },
  {
   "cell_type": "code",
   "execution_count": 196,
   "id": "75de78c6",
   "metadata": {
    "tags": []
   },
   "outputs": [
    {
     "name": "stdout",
     "output_type": "stream",
     "text": [
      "<class 'pandas.core.frame.DataFrame'>\n",
      "RangeIndex: 10 entries, 0 to 9\n",
      "Data columns (total 2 columns):\n",
      " #   Column   Non-Null Count  Dtype \n",
      "---  ------   --------------  ----- \n",
      " 0   dataset  10 non-null     object\n",
      " 1   summary  10 non-null     object\n",
      "dtypes: object(2)\n",
      "memory usage: 288.0+ bytes\n"
     ]
    }
   ],
   "source": [
    "df_2018_neu = pd.DataFrame(list(zip(dataset, summary)),\n",
    "                            columns = ['dataset', 'summary'])\n",
    "df_2018_neu.info()"
   ]
  },
  {
   "cell_type": "code",
   "execution_count": 197,
   "id": "33f398cf",
   "metadata": {},
   "outputs": [
    {
     "data": {
      "text/html": [
       "<div>\n",
       "<style scoped>\n",
       "    .dataframe tbody tr th:only-of-type {\n",
       "        vertical-align: middle;\n",
       "    }\n",
       "\n",
       "    .dataframe tbody tr th {\n",
       "        vertical-align: top;\n",
       "    }\n",
       "\n",
       "    .dataframe thead th {\n",
       "        text-align: right;\n",
       "    }\n",
       "</style>\n",
       "<table border=\"1\" class=\"dataframe\">\n",
       "  <thead>\n",
       "    <tr style=\"text-align: right;\">\n",
       "      <th></th>\n",
       "      <th>dataset</th>\n",
       "      <th>summary</th>\n",
       "    </tr>\n",
       "  </thead>\n",
       "  <tbody>\n",
       "    <tr>\n",
       "      <th>0</th>\n",
       "      <td>2018_01_positive</td>\n",
       "      <td>The text discusses various aspects of vaccinat...</td>\n",
       "    </tr>\n",
       "    <tr>\n",
       "      <th>1</th>\n",
       "      <td>2018_02_positive</td>\n",
       "      <td>The text discusses the importance of vaccinati...</td>\n",
       "    </tr>\n",
       "    <tr>\n",
       "      <th>2</th>\n",
       "      <td>2018_03_positive</td>\n",
       "      <td>The provided text discusses various vaccinatio...</td>\n",
       "    </tr>\n",
       "    <tr>\n",
       "      <th>3</th>\n",
       "      <td>2018_04_positive</td>\n",
       "      <td>Cuba has developed a cancer vaccine that has r...</td>\n",
       "    </tr>\n",
       "    <tr>\n",
       "      <th>4</th>\n",
       "      <td>2018_05_positive</td>\n",
       "      <td>The provided text discusses various vaccinatio...</td>\n",
       "    </tr>\n",
       "    <tr>\n",
       "      <th>5</th>\n",
       "      <td>2018_06_positive</td>\n",
       "      <td>The text discusses the ongoing vaccination cam...</td>\n",
       "    </tr>\n",
       "    <tr>\n",
       "      <th>6</th>\n",
       "      <td>2018_07_positive</td>\n",
       "      <td>The text emphasizes the critical importance of...</td>\n",
       "    </tr>\n",
       "    <tr>\n",
       "      <th>7</th>\n",
       "      <td>2018_08_positive</td>\n",
       "      <td>The text discusses the National Vaccination Ca...</td>\n",
       "    </tr>\n",
       "    <tr>\n",
       "      <th>8</th>\n",
       "      <td>2018_09_positive</td>\n",
       "      <td>Researchers in the U.S. are developing a vacci...</td>\n",
       "    </tr>\n",
       "    <tr>\n",
       "      <th>9</th>\n",
       "      <td>2018_10_positive</td>\n",
       "      <td>The provided text discusses the importance of ...</td>\n",
       "    </tr>\n",
       "  </tbody>\n",
       "</table>\n",
       "</div>"
      ],
      "text/plain": [
       "            dataset                                            summary\n",
       "0  2018_01_positive  The text discusses various aspects of vaccinat...\n",
       "1  2018_02_positive  The text discusses the importance of vaccinati...\n",
       "2  2018_03_positive  The provided text discusses various vaccinatio...\n",
       "3  2018_04_positive  Cuba has developed a cancer vaccine that has r...\n",
       "4  2018_05_positive  The provided text discusses various vaccinatio...\n",
       "5  2018_06_positive  The text discusses the ongoing vaccination cam...\n",
       "6  2018_07_positive  The text emphasizes the critical importance of...\n",
       "7  2018_08_positive  The text discusses the National Vaccination Ca...\n",
       "8  2018_09_positive  Researchers in the U.S. are developing a vacci...\n",
       "9  2018_10_positive  The provided text discusses the importance of ..."
      ]
     },
     "execution_count": 197,
     "metadata": {},
     "output_type": "execute_result"
    }
   ],
   "source": [
    "df_2018_neu.tail(14)"
   ]
  },
  {
   "cell_type": "code",
   "execution_count": 198,
   "id": "c9aa4469",
   "metadata": {},
   "outputs": [
    {
     "data": {
      "text/plain": [
       "<OpenAIObject chat.completion id=chatcmpl-AUAiDiHQKyDwgD77J9HyduezebE2q at 0x2c318663ae0> JSON: {\n",
       "  \"choices\": [\n",
       "    {\n",
       "      \"finish_reason\": \"stop\",\n",
       "      \"index\": 0,\n",
       "      \"logprobs\": null,\n",
       "      \"message\": {\n",
       "        \"content\": \"The provided text discusses the importance of vaccination and the impact of misinformation on public health. It emphasizes the need for vaccination against various diseases, warns against the spread of fake news regarding vaccines, and highlights successful vaccination campaigns for both humans and animals. The text also touches on the societal responsibilities of parents to vaccinate their children and the potential consequences of failing to do so. Overall, it promotes vaccination as a critical measure for preventing diseases and protecting public health.\",\n",
       "        \"refusal\": null,\n",
       "        \"role\": \"assistant\"\n",
       "      }\n",
       "    }\n",
       "  ],\n",
       "  \"created\": 1731754381,\n",
       "  \"id\": \"chatcmpl-AUAiDiHQKyDwgD77J9HyduezebE2q\",\n",
       "  \"model\": \"gpt-4o-mini-2024-07-18\",\n",
       "  \"object\": \"chat.completion\",\n",
       "  \"system_fingerprint\": \"fp_9b78b61c52\",\n",
       "  \"usage\": {\n",
       "    \"completion_tokens\": 90,\n",
       "    \"completion_tokens_details\": {\n",
       "      \"accepted_prediction_tokens\": 0,\n",
       "      \"audio_tokens\": 0,\n",
       "      \"reasoning_tokens\": 0,\n",
       "      \"rejected_prediction_tokens\": 0\n",
       "    },\n",
       "    \"prompt_tokens\": 100344,\n",
       "    \"prompt_tokens_details\": {\n",
       "      \"audio_tokens\": 0,\n",
       "      \"cached_tokens\": 0\n",
       "    },\n",
       "    \"total_tokens\": 100434\n",
       "  }\n",
       "}"
      ]
     },
     "execution_count": 198,
     "metadata": {},
     "output_type": "execute_result"
    }
   ],
   "source": [
    "response"
   ]
  },
  {
   "cell_type": "markdown",
   "id": "d476f7a3",
   "metadata": {},
   "source": [
    "## November"
   ]
  },
  {
   "cell_type": "code",
   "execution_count": 199,
   "id": "63dc91c7",
   "metadata": {
    "scrolled": true,
    "tags": []
   },
   "outputs": [
    {
     "name": "stdout",
     "output_type": "stream",
     "text": [
      "<class 'pandas.core.frame.DataFrame'>\n",
      "RangeIndex: 6917 entries, 0 to 6916\n",
      "Data columns (total 53 columns):\n",
      " #   Column                  Non-Null Count  Dtype  \n",
      "---  ------                  --------------  -----  \n",
      " 0   index                   6917 non-null   int64  \n",
      " 1   LocationCode            6917 non-null   object \n",
      " 2   LocationName            6917 non-null   object \n",
      " 3   StatesCode              6917 non-null   object \n",
      " 4   ...4                    6917 non-null   int64  \n",
      " 5   id                      6917 non-null   float64\n",
      " 6   text                    6917 non-null   object \n",
      " 7   label                   6917 non-null   object \n",
      " 8   in_reply_to_status_id   535 non-null    float64\n",
      " 9   in_reply_to_user_id     547 non-null    float64\n",
      " 10  quoted_user_id          1057 non-null   float64\n",
      " 11  quoted_status_id        1057 non-null   float64\n",
      " 12  retweeted_user_id       3751 non-null   float64\n",
      " 13  retweeted_status_id     3751 non-null   float64\n",
      " 14  created_at              6917 non-null   object \n",
      " 15  entities.user_mentions  4363 non-null   object \n",
      " 16  user.id                 6917 non-null   float64\n",
      " 17  user.screen_name        6917 non-null   object \n",
      " 18  user.name               6917 non-null   object \n",
      " 19  user.description        6184 non-null   object \n",
      " 20  user.timezone           0 non-null      float64\n",
      " 21  user.location           6891 non-null   object \n",
      " 22  user.num_followers      6917 non-null   int64  \n",
      " 23  user.num_following      6917 non-null   int64  \n",
      " 24  user.created_at         6917 non-null   object \n",
      " 25  user.statuses_count     6917 non-null   int64  \n",
      " 26  user.is_verified        6917 non-null   bool   \n",
      " 27  lang                    6917 non-null   object \n",
      " 28  token_count             6917 non-null   int64  \n",
      " 29  is_retweet              6917 non-null   bool   \n",
      " 30  has_quote               6917 non-null   bool   \n",
      " 31  is_reply                6917 non-null   bool   \n",
      " 32  contains_keywords       6917 non-null   bool   \n",
      " 33  longitude               6917 non-null   float64\n",
      " 34  latitude                6917 non-null   float64\n",
      " 35  country_code            6917 non-null   object \n",
      " 36  geoname_id              6691 non-null   float64\n",
      " 37  location_type           6917 non-null   object \n",
      " 38  geo_type                6917 non-null   int64  \n",
      " 39  region                  6917 non-null   object \n",
      " 40  subregion               6917 non-null   object \n",
      " 41  num_quotes              6917 non-null   int64  \n",
      " 42  num_replies             6917 non-null   int64  \n",
      " 43  num_retweets            6917 non-null   int64  \n",
      " 44  sent_gpt                6917 non-null   object \n",
      " 45  gpt_sent_presence       6917 non-null   int64  \n",
      " 46  cleaned_text_lem        6917 non-null   object \n",
      " 47  cleaned_text            6917 non-null   object \n",
      " 48  month                   6917 non-null   int64  \n",
      " 49  year                    6917 non-null   int64  \n",
      " 50  week                    6917 non-null   int64  \n",
      " 51  year_month              6917 non-null   object \n",
      " 52  year_week               6917 non-null   object \n",
      "dtypes: bool(5), float64(12), int64(14), object(22)\n",
      "memory usage: 2.6+ MB\n"
     ]
    }
   ],
   "source": [
    "# Get monthly data\n",
    "df_2018_11_neu = pd.read_csv('../data/local/df_neu_2018-11.csv').reset_index()\n",
    "df_2018_11_neu.info()"
   ]
  },
  {
   "cell_type": "markdown",
   "id": "e44ca951",
   "metadata": {},
   "source": [
    "### Representative sample based on week and location"
   ]
  },
  {
   "cell_type": "code",
   "execution_count": 200,
   "id": "58f0a8ff",
   "metadata": {},
   "outputs": [
    {
     "data": {
      "text/html": [
       "<div>\n",
       "<style scoped>\n",
       "    .dataframe tbody tr th:only-of-type {\n",
       "        vertical-align: middle;\n",
       "    }\n",
       "\n",
       "    .dataframe tbody tr th {\n",
       "        vertical-align: top;\n",
       "    }\n",
       "\n",
       "    .dataframe thead th {\n",
       "        text-align: right;\n",
       "    }\n",
       "</style>\n",
       "<table border=\"1\" class=\"dataframe\">\n",
       "  <thead>\n",
       "    <tr style=\"text-align: right;\">\n",
       "      <th></th>\n",
       "      <th>year_week</th>\n",
       "      <th>LocationName</th>\n",
       "      <th>group_size</th>\n",
       "      <th>proportion</th>\n",
       "    </tr>\n",
       "  </thead>\n",
       "  <tbody>\n",
       "    <tr>\n",
       "      <th>0</th>\n",
       "      <td>2018-w44</td>\n",
       "      <td>Acre</td>\n",
       "      <td>5</td>\n",
       "      <td>0.000723</td>\n",
       "    </tr>\n",
       "    <tr>\n",
       "      <th>1</th>\n",
       "      <td>2018-w44</td>\n",
       "      <td>Alagoas</td>\n",
       "      <td>25</td>\n",
       "      <td>0.003614</td>\n",
       "    </tr>\n",
       "    <tr>\n",
       "      <th>2</th>\n",
       "      <td>2018-w44</td>\n",
       "      <td>Amapa</td>\n",
       "      <td>1</td>\n",
       "      <td>0.000145</td>\n",
       "    </tr>\n",
       "    <tr>\n",
       "      <th>3</th>\n",
       "      <td>2018-w44</td>\n",
       "      <td>Amazonas</td>\n",
       "      <td>16</td>\n",
       "      <td>0.002313</td>\n",
       "    </tr>\n",
       "    <tr>\n",
       "      <th>4</th>\n",
       "      <td>2018-w44</td>\n",
       "      <td>Bahia</td>\n",
       "      <td>18</td>\n",
       "      <td>0.002602</td>\n",
       "    </tr>\n",
       "    <tr>\n",
       "      <th>...</th>\n",
       "      <td>...</td>\n",
       "      <td>...</td>\n",
       "      <td>...</td>\n",
       "      <td>...</td>\n",
       "    </tr>\n",
       "    <tr>\n",
       "      <th>115</th>\n",
       "      <td>2018-w48</td>\n",
       "      <td>Roraima</td>\n",
       "      <td>3</td>\n",
       "      <td>0.000434</td>\n",
       "    </tr>\n",
       "    <tr>\n",
       "      <th>116</th>\n",
       "      <td>2018-w48</td>\n",
       "      <td>Santa Catarina</td>\n",
       "      <td>14</td>\n",
       "      <td>0.002024</td>\n",
       "    </tr>\n",
       "    <tr>\n",
       "      <th>117</th>\n",
       "      <td>2018-w48</td>\n",
       "      <td>Sao Paulo</td>\n",
       "      <td>145</td>\n",
       "      <td>0.020963</td>\n",
       "    </tr>\n",
       "    <tr>\n",
       "      <th>118</th>\n",
       "      <td>2018-w48</td>\n",
       "      <td>Sergipe</td>\n",
       "      <td>1</td>\n",
       "      <td>0.000145</td>\n",
       "    </tr>\n",
       "    <tr>\n",
       "      <th>119</th>\n",
       "      <td>2018-w48</td>\n",
       "      <td>Tocantins</td>\n",
       "      <td>1</td>\n",
       "      <td>0.000145</td>\n",
       "    </tr>\n",
       "  </tbody>\n",
       "</table>\n",
       "<p>120 rows × 4 columns</p>\n",
       "</div>"
      ],
      "text/plain": [
       "    year_week    LocationName  group_size  proportion\n",
       "0    2018-w44            Acre           5    0.000723\n",
       "1    2018-w44         Alagoas          25    0.003614\n",
       "2    2018-w44           Amapa           1    0.000145\n",
       "3    2018-w44        Amazonas          16    0.002313\n",
       "4    2018-w44           Bahia          18    0.002602\n",
       "..        ...             ...         ...         ...\n",
       "115  2018-w48         Roraima           3    0.000434\n",
       "116  2018-w48  Santa Catarina          14    0.002024\n",
       "117  2018-w48       Sao Paulo         145    0.020963\n",
       "118  2018-w48         Sergipe           1    0.000145\n",
       "119  2018-w48       Tocantins           1    0.000145\n",
       "\n",
       "[120 rows x 4 columns]"
      ]
     },
     "execution_count": 200,
     "metadata": {},
     "output_type": "execute_result"
    }
   ],
   "source": [
    "# Step 1: Calculate the size of each group (year_week, LocationName)\n",
    "group_sizes = df_2018_11_neu.groupby(['year_week', 'LocationName']).size().reset_index(name='group_size')\n",
    "\n",
    "# Step 2: Calculate the proportion of each group in the dataset\n",
    "total_rows = len(df_2018_11_neu)\n",
    "group_sizes['proportion'] = group_sizes['group_size'] / total_rows\n",
    "group_sizes"
   ]
  },
  {
   "cell_type": "code",
   "execution_count": 201,
   "id": "52c7e839",
   "metadata": {},
   "outputs": [
    {
     "data": {
      "text/html": [
       "<div>\n",
       "<style scoped>\n",
       "    .dataframe tbody tr th:only-of-type {\n",
       "        vertical-align: middle;\n",
       "    }\n",
       "\n",
       "    .dataframe tbody tr th {\n",
       "        vertical-align: top;\n",
       "    }\n",
       "\n",
       "    .dataframe thead th {\n",
       "        text-align: right;\n",
       "    }\n",
       "</style>\n",
       "<table border=\"1\" class=\"dataframe\">\n",
       "  <thead>\n",
       "    <tr style=\"text-align: right;\">\n",
       "      <th></th>\n",
       "      <th>year_week</th>\n",
       "      <th>LocationName</th>\n",
       "      <th>group_size</th>\n",
       "      <th>proportion</th>\n",
       "      <th>sample_size</th>\n",
       "    </tr>\n",
       "  </thead>\n",
       "  <tbody>\n",
       "    <tr>\n",
       "      <th>0</th>\n",
       "      <td>2018-w44</td>\n",
       "      <td>Acre</td>\n",
       "      <td>5</td>\n",
       "      <td>0.000723</td>\n",
       "      <td>1</td>\n",
       "    </tr>\n",
       "    <tr>\n",
       "      <th>1</th>\n",
       "      <td>2018-w44</td>\n",
       "      <td>Alagoas</td>\n",
       "      <td>25</td>\n",
       "      <td>0.003614</td>\n",
       "      <td>8</td>\n",
       "    </tr>\n",
       "    <tr>\n",
       "      <th>2</th>\n",
       "      <td>2018-w44</td>\n",
       "      <td>Amapa</td>\n",
       "      <td>1</td>\n",
       "      <td>0.000145</td>\n",
       "      <td>0</td>\n",
       "    </tr>\n",
       "    <tr>\n",
       "      <th>3</th>\n",
       "      <td>2018-w44</td>\n",
       "      <td>Amazonas</td>\n",
       "      <td>16</td>\n",
       "      <td>0.002313</td>\n",
       "      <td>5</td>\n",
       "    </tr>\n",
       "    <tr>\n",
       "      <th>4</th>\n",
       "      <td>2018-w44</td>\n",
       "      <td>Bahia</td>\n",
       "      <td>18</td>\n",
       "      <td>0.002602</td>\n",
       "      <td>6</td>\n",
       "    </tr>\n",
       "    <tr>\n",
       "      <th>...</th>\n",
       "      <td>...</td>\n",
       "      <td>...</td>\n",
       "      <td>...</td>\n",
       "      <td>...</td>\n",
       "      <td>...</td>\n",
       "    </tr>\n",
       "    <tr>\n",
       "      <th>115</th>\n",
       "      <td>2018-w48</td>\n",
       "      <td>Roraima</td>\n",
       "      <td>3</td>\n",
       "      <td>0.000434</td>\n",
       "      <td>1</td>\n",
       "    </tr>\n",
       "    <tr>\n",
       "      <th>116</th>\n",
       "      <td>2018-w48</td>\n",
       "      <td>Santa Catarina</td>\n",
       "      <td>14</td>\n",
       "      <td>0.002024</td>\n",
       "      <td>4</td>\n",
       "    </tr>\n",
       "    <tr>\n",
       "      <th>117</th>\n",
       "      <td>2018-w48</td>\n",
       "      <td>Sao Paulo</td>\n",
       "      <td>145</td>\n",
       "      <td>0.020963</td>\n",
       "      <td>51</td>\n",
       "    </tr>\n",
       "    <tr>\n",
       "      <th>118</th>\n",
       "      <td>2018-w48</td>\n",
       "      <td>Sergipe</td>\n",
       "      <td>1</td>\n",
       "      <td>0.000145</td>\n",
       "      <td>0</td>\n",
       "    </tr>\n",
       "    <tr>\n",
       "      <th>119</th>\n",
       "      <td>2018-w48</td>\n",
       "      <td>Tocantins</td>\n",
       "      <td>1</td>\n",
       "      <td>0.000145</td>\n",
       "      <td>0</td>\n",
       "    </tr>\n",
       "  </tbody>\n",
       "</table>\n",
       "<p>120 rows × 5 columns</p>\n",
       "</div>"
      ],
      "text/plain": [
       "    year_week    LocationName  group_size  proportion  sample_size\n",
       "0    2018-w44            Acre           5    0.000723            1\n",
       "1    2018-w44         Alagoas          25    0.003614            8\n",
       "2    2018-w44           Amapa           1    0.000145            0\n",
       "3    2018-w44        Amazonas          16    0.002313            5\n",
       "4    2018-w44           Bahia          18    0.002602            6\n",
       "..        ...             ...         ...         ...          ...\n",
       "115  2018-w48         Roraima           3    0.000434            1\n",
       "116  2018-w48  Santa Catarina          14    0.002024            4\n",
       "117  2018-w48       Sao Paulo         145    0.020963           51\n",
       "118  2018-w48         Sergipe           1    0.000145            0\n",
       "119  2018-w48       Tocantins           1    0.000145            0\n",
       "\n",
       "[120 rows x 5 columns]"
      ]
     },
     "execution_count": 201,
     "metadata": {},
     "output_type": "execute_result"
    }
   ],
   "source": [
    "# Step 3: Define the target sample size\n",
    "target_sample_size = 2450\n",
    "\n",
    "# Step 4: Calculate the sample size for each group (based on its proportion)\n",
    "group_sizes['sample_size'] = np.floor(group_sizes['proportion'] * target_sample_size).astype(int)\n",
    "group_sizes"
   ]
  },
  {
   "cell_type": "code",
   "execution_count": 202,
   "id": "47bfacf4",
   "metadata": {},
   "outputs": [],
   "source": [
    "# Step 5: Merge this sample size information back to the original DataFrame\n",
    "df_2018_11_neu_sample_size = pd.merge(df_2018_11_neu, group_sizes[['year_week', 'LocationName', 'sample_size']], \n",
    "                               on=['year_week', 'LocationName'], how='left')"
   ]
  },
  {
   "cell_type": "code",
   "execution_count": 203,
   "id": "3127c68e",
   "metadata": {},
   "outputs": [
    {
     "name": "stdout",
     "output_type": "stream",
     "text": [
      "Sampled 2392 rows.\n"
     ]
    }
   ],
   "source": [
    "# Step 6: Perform the stratified sampling\n",
    "df_2018_11_neu_sample = df_2018_11_neu_sample_size.groupby(['year_week', 'LocationName']).apply(\n",
    "    lambda group: group.sample(n=group['sample_size'].iloc[0], random_state=42)\n",
    ").reset_index(drop=True)\n",
    "\n",
    "# Step 7: Check the result\n",
    "print(f\"Sampled {len(df_2018_11_neu_sample)} rows.\")\n"
   ]
  },
  {
   "cell_type": "code",
   "execution_count": 204,
   "id": "a5fc3ad1",
   "metadata": {},
   "outputs": [],
   "source": [
    "text_gpt_2018_11_neu = '\\n'.join(df_2018_11_neu_sample['text'].astype(str))"
   ]
  },
  {
   "cell_type": "markdown",
   "id": "8df94c41",
   "metadata": {},
   "source": [
    "### Prompts and loops"
   ]
  },
  {
   "cell_type": "code",
   "execution_count": 205,
   "id": "b2c43f66",
   "metadata": {},
   "outputs": [],
   "source": [
    "prompt_11 = prompt_raw.replace('TWEETS', text_gpt_2018_11_neu)"
   ]
  },
  {
   "cell_type": "code",
   "execution_count": 206,
   "id": "87bbf147",
   "metadata": {
    "scrolled": false
   },
   "outputs": [],
   "source": [
    "response = openai.ChatCompletion.create(\n",
    "    model=\"gpt-4o-mini\",  \n",
    "    messages = [\n",
    "        {\"role\": \"user\", \"content\": prompt_11}\n",
    "    ],\n",
    "    max_tokens=400,  # Maximum number of tokens in the response\n",
    "    temperature=0.7  # Controls the randomness of the output\n",
    ")"
   ]
  },
  {
   "cell_type": "code",
   "execution_count": 207,
   "id": "99d409e9",
   "metadata": {},
   "outputs": [
    {
     "data": {
      "text/plain": [
       "'The provided Portuguese text discusses various aspects of vaccination, emphasizing its importance in preventing diseases such as measles, yellow fever, and rabies. It highlights the need for adults and children to stay up to date with their vaccinations, as well as the consequences of neglecting immunizations. The text also mentions campaigns aimed at increasing vaccination coverage, addressing misinformation about vaccines, and promoting public health initiatives. Additionally, it touches on the role of vaccination in animal health and the societal responsibility of parents to vaccinate their children.'"
      ]
     },
     "execution_count": 207,
     "metadata": {},
     "output_type": "execute_result"
    }
   ],
   "source": [
    "response.choices[0].message.content"
   ]
  },
  {
   "cell_type": "code",
   "execution_count": 208,
   "id": "c1cb7d55",
   "metadata": {},
   "outputs": [],
   "source": [
    "#summary = []\n",
    "#dataset = []"
   ]
  },
  {
   "cell_type": "code",
   "execution_count": 209,
   "id": "0b5f7bbc",
   "metadata": {},
   "outputs": [],
   "source": [
    "dataset.append(\"2018_11_neuitive\")"
   ]
  },
  {
   "cell_type": "code",
   "execution_count": 210,
   "id": "25b7e5ff",
   "metadata": {},
   "outputs": [],
   "source": [
    "summary.append(response.choices[0].message.content)"
   ]
  },
  {
   "cell_type": "code",
   "execution_count": 211,
   "id": "10f2f273",
   "metadata": {
    "tags": []
   },
   "outputs": [
    {
     "name": "stdout",
     "output_type": "stream",
     "text": [
      "<class 'pandas.core.frame.DataFrame'>\n",
      "RangeIndex: 11 entries, 0 to 10\n",
      "Data columns (total 2 columns):\n",
      " #   Column   Non-Null Count  Dtype \n",
      "---  ------   --------------  ----- \n",
      " 0   dataset  11 non-null     object\n",
      " 1   summary  11 non-null     object\n",
      "dtypes: object(2)\n",
      "memory usage: 304.0+ bytes\n"
     ]
    }
   ],
   "source": [
    "df_2018_neu = pd.DataFrame(list(zip(dataset, summary)),\n",
    "                            columns = ['dataset', 'summary'])\n",
    "df_2018_neu.info()"
   ]
  },
  {
   "cell_type": "code",
   "execution_count": 212,
   "id": "89ced529",
   "metadata": {},
   "outputs": [
    {
     "data": {
      "text/html": [
       "<div>\n",
       "<style scoped>\n",
       "    .dataframe tbody tr th:only-of-type {\n",
       "        vertical-align: middle;\n",
       "    }\n",
       "\n",
       "    .dataframe tbody tr th {\n",
       "        vertical-align: top;\n",
       "    }\n",
       "\n",
       "    .dataframe thead th {\n",
       "        text-align: right;\n",
       "    }\n",
       "</style>\n",
       "<table border=\"1\" class=\"dataframe\">\n",
       "  <thead>\n",
       "    <tr style=\"text-align: right;\">\n",
       "      <th></th>\n",
       "      <th>dataset</th>\n",
       "      <th>summary</th>\n",
       "    </tr>\n",
       "  </thead>\n",
       "  <tbody>\n",
       "    <tr>\n",
       "      <th>0</th>\n",
       "      <td>2018_01_positive</td>\n",
       "      <td>The text discusses various aspects of vaccinat...</td>\n",
       "    </tr>\n",
       "    <tr>\n",
       "      <th>1</th>\n",
       "      <td>2018_02_positive</td>\n",
       "      <td>The text discusses the importance of vaccinati...</td>\n",
       "    </tr>\n",
       "    <tr>\n",
       "      <th>2</th>\n",
       "      <td>2018_03_positive</td>\n",
       "      <td>The provided text discusses various vaccinatio...</td>\n",
       "    </tr>\n",
       "    <tr>\n",
       "      <th>3</th>\n",
       "      <td>2018_04_positive</td>\n",
       "      <td>Cuba has developed a cancer vaccine that has r...</td>\n",
       "    </tr>\n",
       "    <tr>\n",
       "      <th>4</th>\n",
       "      <td>2018_05_positive</td>\n",
       "      <td>The provided text discusses various vaccinatio...</td>\n",
       "    </tr>\n",
       "    <tr>\n",
       "      <th>5</th>\n",
       "      <td>2018_06_positive</td>\n",
       "      <td>The text discusses the ongoing vaccination cam...</td>\n",
       "    </tr>\n",
       "    <tr>\n",
       "      <th>6</th>\n",
       "      <td>2018_07_positive</td>\n",
       "      <td>The text emphasizes the critical importance of...</td>\n",
       "    </tr>\n",
       "    <tr>\n",
       "      <th>7</th>\n",
       "      <td>2018_08_positive</td>\n",
       "      <td>The text discusses the National Vaccination Ca...</td>\n",
       "    </tr>\n",
       "    <tr>\n",
       "      <th>8</th>\n",
       "      <td>2018_09_positive</td>\n",
       "      <td>Researchers in the U.S. are developing a vacci...</td>\n",
       "    </tr>\n",
       "    <tr>\n",
       "      <th>9</th>\n",
       "      <td>2018_10_positive</td>\n",
       "      <td>The provided text discusses the importance of ...</td>\n",
       "    </tr>\n",
       "    <tr>\n",
       "      <th>10</th>\n",
       "      <td>2018_11_positive</td>\n",
       "      <td>The provided Portuguese text discusses various...</td>\n",
       "    </tr>\n",
       "  </tbody>\n",
       "</table>\n",
       "</div>"
      ],
      "text/plain": [
       "             dataset                                            summary\n",
       "0   2018_01_positive  The text discusses various aspects of vaccinat...\n",
       "1   2018_02_positive  The text discusses the importance of vaccinati...\n",
       "2   2018_03_positive  The provided text discusses various vaccinatio...\n",
       "3   2018_04_positive  Cuba has developed a cancer vaccine that has r...\n",
       "4   2018_05_positive  The provided text discusses various vaccinatio...\n",
       "5   2018_06_positive  The text discusses the ongoing vaccination cam...\n",
       "6   2018_07_positive  The text emphasizes the critical importance of...\n",
       "7   2018_08_positive  The text discusses the National Vaccination Ca...\n",
       "8   2018_09_positive  Researchers in the U.S. are developing a vacci...\n",
       "9   2018_10_positive  The provided text discusses the importance of ...\n",
       "10  2018_11_positive  The provided Portuguese text discusses various..."
      ]
     },
     "execution_count": 212,
     "metadata": {},
     "output_type": "execute_result"
    }
   ],
   "source": [
    "df_2018_neu.tail(14)"
   ]
  },
  {
   "cell_type": "code",
   "execution_count": 213,
   "id": "952c4bca",
   "metadata": {},
   "outputs": [
    {
     "data": {
      "text/plain": [
       "<OpenAIObject chat.completion id=chatcmpl-AUAiSgQwAETawwr0nNOSfqEqg67eQ at 0x2c3113a6b80> JSON: {\n",
       "  \"choices\": [\n",
       "    {\n",
       "      \"finish_reason\": \"stop\",\n",
       "      \"index\": 0,\n",
       "      \"logprobs\": null,\n",
       "      \"message\": {\n",
       "        \"content\": \"The provided Portuguese text discusses various aspects of vaccination, emphasizing its importance in preventing diseases such as measles, yellow fever, and rabies. It highlights the need for adults and children to stay up to date with their vaccinations, as well as the consequences of neglecting immunizations. The text also mentions campaigns aimed at increasing vaccination coverage, addressing misinformation about vaccines, and promoting public health initiatives. Additionally, it touches on the role of vaccination in animal health and the societal responsibility of parents to vaccinate their children.\",\n",
       "        \"refusal\": null,\n",
       "        \"role\": \"assistant\"\n",
       "      }\n",
       "    }\n",
       "  ],\n",
       "  \"created\": 1731754396,\n",
       "  \"id\": \"chatcmpl-AUAiSgQwAETawwr0nNOSfqEqg67eQ\",\n",
       "  \"model\": \"gpt-4o-mini-2024-07-18\",\n",
       "  \"object\": \"chat.completion\",\n",
       "  \"system_fingerprint\": \"fp_0ba0d124f1\",\n",
       "  \"usage\": {\n",
       "    \"completion_tokens\": 102,\n",
       "    \"completion_tokens_details\": {\n",
       "      \"accepted_prediction_tokens\": 0,\n",
       "      \"audio_tokens\": 0,\n",
       "      \"reasoning_tokens\": 0,\n",
       "      \"rejected_prediction_tokens\": 0\n",
       "    },\n",
       "    \"prompt_tokens\": 92725,\n",
       "    \"prompt_tokens_details\": {\n",
       "      \"audio_tokens\": 0,\n",
       "      \"cached_tokens\": 0\n",
       "    },\n",
       "    \"total_tokens\": 92827\n",
       "  }\n",
       "}"
      ]
     },
     "execution_count": 213,
     "metadata": {},
     "output_type": "execute_result"
    }
   ],
   "source": [
    "response"
   ]
  },
  {
   "cell_type": "markdown",
   "id": "46613a39",
   "metadata": {},
   "source": [
    "## December"
   ]
  },
  {
   "cell_type": "code",
   "execution_count": 214,
   "id": "3f6bde3b",
   "metadata": {
    "scrolled": true,
    "tags": []
   },
   "outputs": [
    {
     "name": "stdout",
     "output_type": "stream",
     "text": [
      "<class 'pandas.core.frame.DataFrame'>\n",
      "RangeIndex: 5926 entries, 0 to 5925\n",
      "Data columns (total 53 columns):\n",
      " #   Column                  Non-Null Count  Dtype  \n",
      "---  ------                  --------------  -----  \n",
      " 0   index                   5926 non-null   int64  \n",
      " 1   LocationCode            5926 non-null   object \n",
      " 2   LocationName            5926 non-null   object \n",
      " 3   StatesCode              5926 non-null   object \n",
      " 4   ...4                    5926 non-null   int64  \n",
      " 5   id                      5926 non-null   float64\n",
      " 6   text                    5926 non-null   object \n",
      " 7   label                   5926 non-null   object \n",
      " 8   in_reply_to_status_id   565 non-null    float64\n",
      " 9   in_reply_to_user_id     576 non-null    float64\n",
      " 10  quoted_user_id          306 non-null    float64\n",
      " 11  quoted_status_id        306 non-null    float64\n",
      " 12  retweeted_user_id       3602 non-null   float64\n",
      " 13  retweeted_status_id     3602 non-null   float64\n",
      " 14  created_at              5926 non-null   object \n",
      " 15  entities.user_mentions  4196 non-null   object \n",
      " 16  user.id                 5926 non-null   float64\n",
      " 17  user.screen_name        5926 non-null   object \n",
      " 18  user.name               5926 non-null   object \n",
      " 19  user.description        5222 non-null   object \n",
      " 20  user.timezone           0 non-null      float64\n",
      " 21  user.location           5901 non-null   object \n",
      " 22  user.num_followers      5926 non-null   int64  \n",
      " 23  user.num_following      5926 non-null   int64  \n",
      " 24  user.created_at         5926 non-null   object \n",
      " 25  user.statuses_count     5926 non-null   int64  \n",
      " 26  user.is_verified        5926 non-null   bool   \n",
      " 27  lang                    5926 non-null   object \n",
      " 28  token_count             5926 non-null   int64  \n",
      " 29  is_retweet              5926 non-null   bool   \n",
      " 30  has_quote               5926 non-null   bool   \n",
      " 31  is_reply                5926 non-null   bool   \n",
      " 32  contains_keywords       5926 non-null   bool   \n",
      " 33  longitude               5926 non-null   float64\n",
      " 34  latitude                5926 non-null   float64\n",
      " 35  country_code            5926 non-null   object \n",
      " 36  geoname_id              5742 non-null   float64\n",
      " 37  location_type           5926 non-null   object \n",
      " 38  geo_type                5926 non-null   int64  \n",
      " 39  region                  5926 non-null   object \n",
      " 40  subregion               5926 non-null   object \n",
      " 41  num_quotes              5926 non-null   int64  \n",
      " 42  num_replies             5926 non-null   int64  \n",
      " 43  num_retweets            5926 non-null   int64  \n",
      " 44  sent_gpt                5926 non-null   object \n",
      " 45  gpt_sent_presence       5926 non-null   int64  \n",
      " 46  cleaned_text_lem        5926 non-null   object \n",
      " 47  cleaned_text            5926 non-null   object \n",
      " 48  month                   5926 non-null   int64  \n",
      " 49  year                    5926 non-null   int64  \n",
      " 50  week                    5926 non-null   int64  \n",
      " 51  year_month              5926 non-null   object \n",
      " 52  year_week               5926 non-null   object \n",
      "dtypes: bool(5), float64(12), int64(14), object(22)\n",
      "memory usage: 2.2+ MB\n"
     ]
    }
   ],
   "source": [
    "# Get monthly data\n",
    "df_2018_12_neu = pd.read_csv('../data/local/df_neu_2018-12.csv').reset_index()\n",
    "df_2018_12_neu.info()"
   ]
  },
  {
   "cell_type": "markdown",
   "id": "4658d918",
   "metadata": {},
   "source": [
    "### Representative sample based on week and location"
   ]
  },
  {
   "cell_type": "code",
   "execution_count": 215,
   "id": "fcdbb1e9",
   "metadata": {},
   "outputs": [
    {
     "data": {
      "text/html": [
       "<div>\n",
       "<style scoped>\n",
       "    .dataframe tbody tr th:only-of-type {\n",
       "        vertical-align: middle;\n",
       "    }\n",
       "\n",
       "    .dataframe tbody tr th {\n",
       "        vertical-align: top;\n",
       "    }\n",
       "\n",
       "    .dataframe thead th {\n",
       "        text-align: right;\n",
       "    }\n",
       "</style>\n",
       "<table border=\"1\" class=\"dataframe\">\n",
       "  <thead>\n",
       "    <tr style=\"text-align: right;\">\n",
       "      <th></th>\n",
       "      <th>year_week</th>\n",
       "      <th>LocationName</th>\n",
       "      <th>group_size</th>\n",
       "      <th>proportion</th>\n",
       "    </tr>\n",
       "  </thead>\n",
       "  <tbody>\n",
       "    <tr>\n",
       "      <th>0</th>\n",
       "      <td>2018-w48</td>\n",
       "      <td>Alagoas</td>\n",
       "      <td>5</td>\n",
       "      <td>0.000844</td>\n",
       "    </tr>\n",
       "    <tr>\n",
       "      <th>1</th>\n",
       "      <td>2018-w48</td>\n",
       "      <td>Amapa</td>\n",
       "      <td>2</td>\n",
       "      <td>0.000337</td>\n",
       "    </tr>\n",
       "    <tr>\n",
       "      <th>2</th>\n",
       "      <td>2018-w48</td>\n",
       "      <td>Amazonas</td>\n",
       "      <td>9</td>\n",
       "      <td>0.001519</td>\n",
       "    </tr>\n",
       "    <tr>\n",
       "      <th>3</th>\n",
       "      <td>2018-w48</td>\n",
       "      <td>Bahia</td>\n",
       "      <td>13</td>\n",
       "      <td>0.002194</td>\n",
       "    </tr>\n",
       "    <tr>\n",
       "      <th>4</th>\n",
       "      <td>2018-w48</td>\n",
       "      <td>Ceara</td>\n",
       "      <td>9</td>\n",
       "      <td>0.001519</td>\n",
       "    </tr>\n",
       "    <tr>\n",
       "      <th>...</th>\n",
       "      <td>...</td>\n",
       "      <td>...</td>\n",
       "      <td>...</td>\n",
       "      <td>...</td>\n",
       "    </tr>\n",
       "    <tr>\n",
       "      <th>133</th>\n",
       "      <td>2018-w53</td>\n",
       "      <td>Paraiba</td>\n",
       "      <td>8</td>\n",
       "      <td>0.001350</td>\n",
       "    </tr>\n",
       "    <tr>\n",
       "      <th>134</th>\n",
       "      <td>2018-w53</td>\n",
       "      <td>Parana</td>\n",
       "      <td>6</td>\n",
       "      <td>0.001012</td>\n",
       "    </tr>\n",
       "    <tr>\n",
       "      <th>135</th>\n",
       "      <td>2018-w53</td>\n",
       "      <td>Pernambuco</td>\n",
       "      <td>1</td>\n",
       "      <td>0.000169</td>\n",
       "    </tr>\n",
       "    <tr>\n",
       "      <th>136</th>\n",
       "      <td>2018-w53</td>\n",
       "      <td>Rio Grande Do Sul</td>\n",
       "      <td>8</td>\n",
       "      <td>0.001350</td>\n",
       "    </tr>\n",
       "    <tr>\n",
       "      <th>137</th>\n",
       "      <td>2018-w53</td>\n",
       "      <td>Sao Paulo</td>\n",
       "      <td>17</td>\n",
       "      <td>0.002869</td>\n",
       "    </tr>\n",
       "  </tbody>\n",
       "</table>\n",
       "<p>138 rows × 4 columns</p>\n",
       "</div>"
      ],
      "text/plain": [
       "    year_week       LocationName  group_size  proportion\n",
       "0    2018-w48            Alagoas           5    0.000844\n",
       "1    2018-w48              Amapa           2    0.000337\n",
       "2    2018-w48           Amazonas           9    0.001519\n",
       "3    2018-w48              Bahia          13    0.002194\n",
       "4    2018-w48              Ceara           9    0.001519\n",
       "..        ...                ...         ...         ...\n",
       "133  2018-w53            Paraiba           8    0.001350\n",
       "134  2018-w53             Parana           6    0.001012\n",
       "135  2018-w53         Pernambuco           1    0.000169\n",
       "136  2018-w53  Rio Grande Do Sul           8    0.001350\n",
       "137  2018-w53          Sao Paulo          17    0.002869\n",
       "\n",
       "[138 rows x 4 columns]"
      ]
     },
     "execution_count": 215,
     "metadata": {},
     "output_type": "execute_result"
    }
   ],
   "source": [
    "# Step 1: Calculate the size of each group (year_week, LocationName)\n",
    "group_sizes = df_2018_12_neu.groupby(['year_week', 'LocationName']).size().reset_index(name='group_size')\n",
    "\n",
    "# Step 2: Calculate the proportion of each group in the dataset\n",
    "total_rows = len(df_2018_12_neu)\n",
    "group_sizes['proportion'] = group_sizes['group_size'] / total_rows\n",
    "group_sizes"
   ]
  },
  {
   "cell_type": "code",
   "execution_count": 216,
   "id": "bbf24049",
   "metadata": {},
   "outputs": [
    {
     "data": {
      "text/html": [
       "<div>\n",
       "<style scoped>\n",
       "    .dataframe tbody tr th:only-of-type {\n",
       "        vertical-align: middle;\n",
       "    }\n",
       "\n",
       "    .dataframe tbody tr th {\n",
       "        vertical-align: top;\n",
       "    }\n",
       "\n",
       "    .dataframe thead th {\n",
       "        text-align: right;\n",
       "    }\n",
       "</style>\n",
       "<table border=\"1\" class=\"dataframe\">\n",
       "  <thead>\n",
       "    <tr style=\"text-align: right;\">\n",
       "      <th></th>\n",
       "      <th>year_week</th>\n",
       "      <th>LocationName</th>\n",
       "      <th>group_size</th>\n",
       "      <th>proportion</th>\n",
       "      <th>sample_size</th>\n",
       "    </tr>\n",
       "  </thead>\n",
       "  <tbody>\n",
       "    <tr>\n",
       "      <th>0</th>\n",
       "      <td>2018-w48</td>\n",
       "      <td>Alagoas</td>\n",
       "      <td>5</td>\n",
       "      <td>0.000844</td>\n",
       "      <td>2</td>\n",
       "    </tr>\n",
       "    <tr>\n",
       "      <th>1</th>\n",
       "      <td>2018-w48</td>\n",
       "      <td>Amapa</td>\n",
       "      <td>2</td>\n",
       "      <td>0.000337</td>\n",
       "      <td>0</td>\n",
       "    </tr>\n",
       "    <tr>\n",
       "      <th>2</th>\n",
       "      <td>2018-w48</td>\n",
       "      <td>Amazonas</td>\n",
       "      <td>9</td>\n",
       "      <td>0.001519</td>\n",
       "      <td>3</td>\n",
       "    </tr>\n",
       "    <tr>\n",
       "      <th>3</th>\n",
       "      <td>2018-w48</td>\n",
       "      <td>Bahia</td>\n",
       "      <td>13</td>\n",
       "      <td>0.002194</td>\n",
       "      <td>5</td>\n",
       "    </tr>\n",
       "    <tr>\n",
       "      <th>4</th>\n",
       "      <td>2018-w48</td>\n",
       "      <td>Ceara</td>\n",
       "      <td>9</td>\n",
       "      <td>0.001519</td>\n",
       "      <td>3</td>\n",
       "    </tr>\n",
       "    <tr>\n",
       "      <th>...</th>\n",
       "      <td>...</td>\n",
       "      <td>...</td>\n",
       "      <td>...</td>\n",
       "      <td>...</td>\n",
       "      <td>...</td>\n",
       "    </tr>\n",
       "    <tr>\n",
       "      <th>133</th>\n",
       "      <td>2018-w53</td>\n",
       "      <td>Paraiba</td>\n",
       "      <td>8</td>\n",
       "      <td>0.001350</td>\n",
       "      <td>3</td>\n",
       "    </tr>\n",
       "    <tr>\n",
       "      <th>134</th>\n",
       "      <td>2018-w53</td>\n",
       "      <td>Parana</td>\n",
       "      <td>6</td>\n",
       "      <td>0.001012</td>\n",
       "      <td>2</td>\n",
       "    </tr>\n",
       "    <tr>\n",
       "      <th>135</th>\n",
       "      <td>2018-w53</td>\n",
       "      <td>Pernambuco</td>\n",
       "      <td>1</td>\n",
       "      <td>0.000169</td>\n",
       "      <td>0</td>\n",
       "    </tr>\n",
       "    <tr>\n",
       "      <th>136</th>\n",
       "      <td>2018-w53</td>\n",
       "      <td>Rio Grande Do Sul</td>\n",
       "      <td>8</td>\n",
       "      <td>0.001350</td>\n",
       "      <td>3</td>\n",
       "    </tr>\n",
       "    <tr>\n",
       "      <th>137</th>\n",
       "      <td>2018-w53</td>\n",
       "      <td>Sao Paulo</td>\n",
       "      <td>17</td>\n",
       "      <td>0.002869</td>\n",
       "      <td>7</td>\n",
       "    </tr>\n",
       "  </tbody>\n",
       "</table>\n",
       "<p>138 rows × 5 columns</p>\n",
       "</div>"
      ],
      "text/plain": [
       "    year_week       LocationName  group_size  proportion  sample_size\n",
       "0    2018-w48            Alagoas           5    0.000844            2\n",
       "1    2018-w48              Amapa           2    0.000337            0\n",
       "2    2018-w48           Amazonas           9    0.001519            3\n",
       "3    2018-w48              Bahia          13    0.002194            5\n",
       "4    2018-w48              Ceara           9    0.001519            3\n",
       "..        ...                ...         ...         ...          ...\n",
       "133  2018-w53            Paraiba           8    0.001350            3\n",
       "134  2018-w53             Parana           6    0.001012            2\n",
       "135  2018-w53         Pernambuco           1    0.000169            0\n",
       "136  2018-w53  Rio Grande Do Sul           8    0.001350            3\n",
       "137  2018-w53          Sao Paulo          17    0.002869            7\n",
       "\n",
       "[138 rows x 5 columns]"
      ]
     },
     "execution_count": 216,
     "metadata": {},
     "output_type": "execute_result"
    }
   ],
   "source": [
    "# Step 3: Define the target sample size\n",
    "target_sample_size = 2450\n",
    "\n",
    "# Step 4: Calculate the sample size for each group (based on its proportion)\n",
    "group_sizes['sample_size'] = np.floor(group_sizes['proportion'] * target_sample_size).astype(int)\n",
    "group_sizes"
   ]
  },
  {
   "cell_type": "code",
   "execution_count": 217,
   "id": "c207c408",
   "metadata": {},
   "outputs": [],
   "source": [
    "# Step 5: Merge this sample size information back to the original DataFrame\n",
    "df_2018_12_neu_sample_size = pd.merge(df_2018_12_neu, group_sizes[['year_week', 'LocationName', 'sample_size']], \n",
    "                               on=['year_week', 'LocationName'], how='left')"
   ]
  },
  {
   "cell_type": "code",
   "execution_count": 218,
   "id": "66d74acb",
   "metadata": {},
   "outputs": [
    {
     "name": "stdout",
     "output_type": "stream",
     "text": [
      "Sampled 2381 rows.\n"
     ]
    }
   ],
   "source": [
    "# Step 6: Perform the stratified sampling\n",
    "df_2018_12_neu_sample = df_2018_12_neu_sample_size.groupby(['year_week', 'LocationName']).apply(\n",
    "    lambda group: group.sample(n=group['sample_size'].iloc[0], random_state=42)\n",
    ").reset_index(drop=True)\n",
    "\n",
    "# Step 7: Check the result\n",
    "print(f\"Sampled {len(df_2018_12_neu_sample)} rows.\")\n"
   ]
  },
  {
   "cell_type": "code",
   "execution_count": 219,
   "id": "b23befcc",
   "metadata": {},
   "outputs": [],
   "source": [
    "text_gpt_2018_12_neu = '\\n'.join(df_2018_12_neu_sample['text'].astype(str))"
   ]
  },
  {
   "cell_type": "markdown",
   "id": "d3650c4b",
   "metadata": {},
   "source": [
    "### Prompts and loops"
   ]
  },
  {
   "cell_type": "code",
   "execution_count": 220,
   "id": "791b4fd6",
   "metadata": {},
   "outputs": [],
   "source": [
    "prompt_12 = prompt_raw.replace('TWEETS', text_gpt_2018_12_neu)"
   ]
  },
  {
   "cell_type": "code",
   "execution_count": 221,
   "id": "def2b9de",
   "metadata": {
    "scrolled": false
   },
   "outputs": [],
   "source": [
    "response = openai.ChatCompletion.create(\n",
    "    model=\"gpt-4o-mini\",  \n",
    "    messages = [\n",
    "        {\"role\": \"user\", \"content\": prompt_12}\n",
    "    ],\n",
    "    max_tokens=400,  # Maximum number of tokens in the response\n",
    "    temperature=0.7  # Controls the randomness of the output\n",
    ")"
   ]
  },
  {
   "cell_type": "code",
   "execution_count": 222,
   "id": "eb10f5ec",
   "metadata": {},
   "outputs": [
    {
     "data": {
      "text/plain": [
       "\"The provided Portuguese sentences discuss various topics, primarily focusing on the importance of vaccinations for children and pets, the author's favorite books, and the controversial issue of anti-vaccination sentiments. The author expresses a strong belief in the necessity of vaccines to protect public health and criticizes misinformation surrounding vaccines. They also share personal anecdotes, mention their favorite book series, and advocate for responsible pet ownership and adoption.\""
      ]
     },
     "execution_count": 222,
     "metadata": {},
     "output_type": "execute_result"
    }
   ],
   "source": [
    "response.choices[0].message.content"
   ]
  },
  {
   "cell_type": "code",
   "execution_count": 223,
   "id": "82e7aa4c",
   "metadata": {},
   "outputs": [],
   "source": [
    "#summary = []\n",
    "#dataset = []"
   ]
  },
  {
   "cell_type": "code",
   "execution_count": 224,
   "id": "2a9d076b",
   "metadata": {},
   "outputs": [],
   "source": [
    "dataset.append(\"2018_12_neuitive\")"
   ]
  },
  {
   "cell_type": "code",
   "execution_count": 225,
   "id": "8a057dbe",
   "metadata": {},
   "outputs": [],
   "source": [
    "summary.append(response.choices[0].message.content)"
   ]
  },
  {
   "cell_type": "code",
   "execution_count": 226,
   "id": "3bb6bfbd",
   "metadata": {
    "tags": []
   },
   "outputs": [
    {
     "name": "stdout",
     "output_type": "stream",
     "text": [
      "<class 'pandas.core.frame.DataFrame'>\n",
      "RangeIndex: 12 entries, 0 to 11\n",
      "Data columns (total 2 columns):\n",
      " #   Column   Non-Null Count  Dtype \n",
      "---  ------   --------------  ----- \n",
      " 0   dataset  12 non-null     object\n",
      " 1   summary  12 non-null     object\n",
      "dtypes: object(2)\n",
      "memory usage: 320.0+ bytes\n"
     ]
    }
   ],
   "source": [
    "df_2018_neu = pd.DataFrame(list(zip(dataset, summary)),\n",
    "                            columns = ['dataset', 'summary'])\n",
    "df_2018_neu.info()"
   ]
  },
  {
   "cell_type": "code",
   "execution_count": 227,
   "id": "893bd100",
   "metadata": {},
   "outputs": [
    {
     "data": {
      "text/html": [
       "<div>\n",
       "<style scoped>\n",
       "    .dataframe tbody tr th:only-of-type {\n",
       "        vertical-align: middle;\n",
       "    }\n",
       "\n",
       "    .dataframe tbody tr th {\n",
       "        vertical-align: top;\n",
       "    }\n",
       "\n",
       "    .dataframe thead th {\n",
       "        text-align: right;\n",
       "    }\n",
       "</style>\n",
       "<table border=\"1\" class=\"dataframe\">\n",
       "  <thead>\n",
       "    <tr style=\"text-align: right;\">\n",
       "      <th></th>\n",
       "      <th>dataset</th>\n",
       "      <th>summary</th>\n",
       "    </tr>\n",
       "  </thead>\n",
       "  <tbody>\n",
       "    <tr>\n",
       "      <th>0</th>\n",
       "      <td>2018_01_positive</td>\n",
       "      <td>The text discusses various aspects of vaccinat...</td>\n",
       "    </tr>\n",
       "    <tr>\n",
       "      <th>1</th>\n",
       "      <td>2018_02_positive</td>\n",
       "      <td>The text discusses the importance of vaccinati...</td>\n",
       "    </tr>\n",
       "    <tr>\n",
       "      <th>2</th>\n",
       "      <td>2018_03_positive</td>\n",
       "      <td>The provided text discusses various vaccinatio...</td>\n",
       "    </tr>\n",
       "    <tr>\n",
       "      <th>3</th>\n",
       "      <td>2018_04_positive</td>\n",
       "      <td>Cuba has developed a cancer vaccine that has r...</td>\n",
       "    </tr>\n",
       "    <tr>\n",
       "      <th>4</th>\n",
       "      <td>2018_05_positive</td>\n",
       "      <td>The provided text discusses various vaccinatio...</td>\n",
       "    </tr>\n",
       "    <tr>\n",
       "      <th>5</th>\n",
       "      <td>2018_06_positive</td>\n",
       "      <td>The text discusses the ongoing vaccination cam...</td>\n",
       "    </tr>\n",
       "    <tr>\n",
       "      <th>6</th>\n",
       "      <td>2018_07_positive</td>\n",
       "      <td>The text emphasizes the critical importance of...</td>\n",
       "    </tr>\n",
       "    <tr>\n",
       "      <th>7</th>\n",
       "      <td>2018_08_positive</td>\n",
       "      <td>The text discusses the National Vaccination Ca...</td>\n",
       "    </tr>\n",
       "    <tr>\n",
       "      <th>8</th>\n",
       "      <td>2018_09_positive</td>\n",
       "      <td>Researchers in the U.S. are developing a vacci...</td>\n",
       "    </tr>\n",
       "    <tr>\n",
       "      <th>9</th>\n",
       "      <td>2018_10_positive</td>\n",
       "      <td>The provided text discusses the importance of ...</td>\n",
       "    </tr>\n",
       "    <tr>\n",
       "      <th>10</th>\n",
       "      <td>2018_11_positive</td>\n",
       "      <td>The provided Portuguese text discusses various...</td>\n",
       "    </tr>\n",
       "    <tr>\n",
       "      <th>11</th>\n",
       "      <td>2018_12_positive</td>\n",
       "      <td>The provided Portuguese sentences discuss vari...</td>\n",
       "    </tr>\n",
       "  </tbody>\n",
       "</table>\n",
       "</div>"
      ],
      "text/plain": [
       "             dataset                                            summary\n",
       "0   2018_01_positive  The text discusses various aspects of vaccinat...\n",
       "1   2018_02_positive  The text discusses the importance of vaccinati...\n",
       "2   2018_03_positive  The provided text discusses various vaccinatio...\n",
       "3   2018_04_positive  Cuba has developed a cancer vaccine that has r...\n",
       "4   2018_05_positive  The provided text discusses various vaccinatio...\n",
       "5   2018_06_positive  The text discusses the ongoing vaccination cam...\n",
       "6   2018_07_positive  The text emphasizes the critical importance of...\n",
       "7   2018_08_positive  The text discusses the National Vaccination Ca...\n",
       "8   2018_09_positive  Researchers in the U.S. are developing a vacci...\n",
       "9   2018_10_positive  The provided text discusses the importance of ...\n",
       "10  2018_11_positive  The provided Portuguese text discusses various...\n",
       "11  2018_12_positive  The provided Portuguese sentences discuss vari..."
      ]
     },
     "execution_count": 227,
     "metadata": {},
     "output_type": "execute_result"
    }
   ],
   "source": [
    "df_2018_neu.tail(14)"
   ]
  },
  {
   "cell_type": "code",
   "execution_count": 228,
   "id": "20bf36e0",
   "metadata": {},
   "outputs": [
    {
     "data": {
      "text/plain": [
       "<OpenAIObject chat.completion id=chatcmpl-AUAigTsJ6MCtgJTxca7WSjjrw0hG7 at 0x2c315d52810> JSON: {\n",
       "  \"choices\": [\n",
       "    {\n",
       "      \"finish_reason\": \"stop\",\n",
       "      \"index\": 0,\n",
       "      \"logprobs\": null,\n",
       "      \"message\": {\n",
       "        \"content\": \"The provided Portuguese sentences discuss various topics, primarily focusing on the importance of vaccinations for children and pets, the author's favorite books, and the controversial issue of anti-vaccination sentiments. The author expresses a strong belief in the necessity of vaccines to protect public health and criticizes misinformation surrounding vaccines. They also share personal anecdotes, mention their favorite book series, and advocate for responsible pet ownership and adoption.\",\n",
       "        \"refusal\": null,\n",
       "        \"role\": \"assistant\"\n",
       "      }\n",
       "    }\n",
       "  ],\n",
       "  \"created\": 1731754410,\n",
       "  \"id\": \"chatcmpl-AUAigTsJ6MCtgJTxca7WSjjrw0hG7\",\n",
       "  \"model\": \"gpt-4o-mini-2024-07-18\",\n",
       "  \"object\": \"chat.completion\",\n",
       "  \"system_fingerprint\": \"fp_0ba0d124f1\",\n",
       "  \"usage\": {\n",
       "    \"completion_tokens\": 79,\n",
       "    \"completion_tokens_details\": {\n",
       "      \"accepted_prediction_tokens\": 0,\n",
       "      \"audio_tokens\": 0,\n",
       "      \"reasoning_tokens\": 0,\n",
       "      \"rejected_prediction_tokens\": 0\n",
       "    },\n",
       "    \"prompt_tokens\": 111432,\n",
       "    \"prompt_tokens_details\": {\n",
       "      \"audio_tokens\": 0,\n",
       "      \"cached_tokens\": 0\n",
       "    },\n",
       "    \"total_tokens\": 111511\n",
       "  }\n",
       "}"
      ]
     },
     "execution_count": 228,
     "metadata": {},
     "output_type": "execute_result"
    }
   ],
   "source": [
    "response"
   ]
  },
  {
   "cell_type": "markdown",
   "id": "4b2eea35",
   "metadata": {},
   "source": [
    "## All 2018 neutral"
   ]
  },
  {
   "cell_type": "code",
   "execution_count": 229,
   "id": "76b26dc9",
   "metadata": {},
   "outputs": [],
   "source": [
    "df_2018_neu.to_csv('../data/summary_2018_neutral_tweets.csv')"
   ]
  }
 ],
 "metadata": {
  "kernelspec": {
   "display_name": "Python 3 (ipykernel)",
   "language": "python",
   "name": "python3"
  },
  "language_info": {
   "codemirror_mode": {
    "name": "ipython",
    "version": 3
   },
   "file_extension": ".py",
   "mimetype": "text/x-python",
   "name": "python",
   "nbconvert_exporter": "python",
   "pygments_lexer": "ipython3",
   "version": "3.9.12"
  }
 },
 "nbformat": 4,
 "nbformat_minor": 5
}
