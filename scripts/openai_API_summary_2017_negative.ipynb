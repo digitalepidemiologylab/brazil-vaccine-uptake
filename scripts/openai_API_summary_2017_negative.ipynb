{
 "cells": [
  {
   "cell_type": "markdown",
   "id": "e90b7c28",
   "metadata": {},
   "source": [
    "# Import libraries and data"
   ]
  },
  {
   "cell_type": "code",
   "execution_count": 1,
   "id": "433219e8-8f66-4be5-a3b8-e39fca644032",
   "metadata": {
    "tags": []
   },
   "outputs": [],
   "source": [
    "# Import libraries\n",
    "import os\n",
    "import openai\n",
    "import pandas as pd\n",
    "import numpy as np\n",
    "import openpyxl"
   ]
  },
  {
   "cell_type": "code",
   "execution_count": 2,
   "id": "2c68f056-74fe-4f29-9daf-6bdef5cc0701",
   "metadata": {},
   "outputs": [],
   "source": [
    "# Get OpenAI API secret key (change this file with your own OpenAI key)\n",
    "open_ai_key = open('../data/local/openai_key.txt', 'r').read()\n",
    "openai.api_key = open_ai_key\n",
    "#openai.Model.list()"
   ]
  },
  {
   "cell_type": "code",
   "execution_count": 3,
   "id": "aa3d0327",
   "metadata": {},
   "outputs": [],
   "source": [
    "# Prompt for GPT\n",
    "prompt_raw = \"I would like to summarise in maximum 300 characters and in English what the following sentences in Portuguese talk about. \\\n",
    "Do not use aspects mentioned only in one sentence as part of the summary: TWEETS\""
   ]
  },
  {
   "cell_type": "markdown",
   "id": "3c7787f4",
   "metadata": {},
   "source": [
    "# 2017 negative"
   ]
  },
  {
   "cell_type": "markdown",
   "id": "c0101e21",
   "metadata": {},
   "source": [
    "## January"
   ]
  },
  {
   "cell_type": "code",
   "execution_count": 4,
   "id": "0b3f06fc",
   "metadata": {
    "scrolled": true,
    "tags": []
   },
   "outputs": [
    {
     "name": "stdout",
     "output_type": "stream",
     "text": [
      "<class 'pandas.core.frame.DataFrame'>\n",
      "RangeIndex: 2204 entries, 0 to 2203\n",
      "Data columns (total 53 columns):\n",
      " #   Column                  Non-Null Count  Dtype  \n",
      "---  ------                  --------------  -----  \n",
      " 0   index                   2204 non-null   int64  \n",
      " 1   LocationCode            2204 non-null   object \n",
      " 2   LocationName            2204 non-null   object \n",
      " 3   StatesCode              2204 non-null   object \n",
      " 4   ...4                    2204 non-null   int64  \n",
      " 5   id                      2204 non-null   float64\n",
      " 6   text                    2204 non-null   object \n",
      " 7   label                   2204 non-null   object \n",
      " 8   in_reply_to_status_id   213 non-null    float64\n",
      " 9   in_reply_to_user_id     221 non-null    float64\n",
      " 10  quoted_user_id          55 non-null     float64\n",
      " 11  quoted_status_id        55 non-null     float64\n",
      " 12  retweeted_user_id       351 non-null    float64\n",
      " 13  retweeted_status_id     351 non-null    float64\n",
      " 14  created_at              2204 non-null   object \n",
      " 15  entities.user_mentions  583 non-null    object \n",
      " 16  user.id                 2204 non-null   float64\n",
      " 17  user.screen_name        2204 non-null   object \n",
      " 18  user.name               2204 non-null   object \n",
      " 19  user.description        1960 non-null   object \n",
      " 20  user.timezone           0 non-null      float64\n",
      " 21  user.location           2143 non-null   object \n",
      " 22  user.num_followers      2204 non-null   int64  \n",
      " 23  user.num_following      2204 non-null   int64  \n",
      " 24  user.created_at         2204 non-null   object \n",
      " 25  user.statuses_count     2204 non-null   int64  \n",
      " 26  user.is_verified        2204 non-null   bool   \n",
      " 27  lang                    2204 non-null   object \n",
      " 28  token_count             2204 non-null   int64  \n",
      " 29  is_retweet              2204 non-null   bool   \n",
      " 30  has_quote               2204 non-null   bool   \n",
      " 31  is_reply                2204 non-null   bool   \n",
      " 32  contains_keywords       2204 non-null   bool   \n",
      " 33  longitude               2204 non-null   float64\n",
      " 34  latitude                2204 non-null   float64\n",
      " 35  country_code            2204 non-null   object \n",
      " 36  geoname_id              1854 non-null   float64\n",
      " 37  location_type           2204 non-null   object \n",
      " 38  geo_type                2204 non-null   int64  \n",
      " 39  region                  2204 non-null   object \n",
      " 40  subregion               2204 non-null   object \n",
      " 41  num_quotes              2204 non-null   int64  \n",
      " 42  num_replies             2204 non-null   int64  \n",
      " 43  num_retweets            2204 non-null   int64  \n",
      " 44  sent_gpt                2204 non-null   object \n",
      " 45  gpt_sent_presence       2204 non-null   int64  \n",
      " 46  cleaned_text_lem        2204 non-null   object \n",
      " 47  cleaned_text            2204 non-null   object \n",
      " 48  month                   2204 non-null   int64  \n",
      " 49  year                    2204 non-null   int64  \n",
      " 50  week                    2204 non-null   int64  \n",
      " 51  year_month              2204 non-null   object \n",
      " 52  year_week               2204 non-null   object \n",
      "dtypes: bool(5), float64(12), int64(14), object(22)\n",
      "memory usage: 837.4+ KB\n"
     ]
    }
   ],
   "source": [
    "# Get monthly data\n",
    "df_2017_01_neg = pd.read_csv('../data/local/df_neg_2017-01.csv').reset_index()\n",
    "df_2017_01_neg.info()"
   ]
  },
  {
   "cell_type": "markdown",
   "id": "98d4ddaf",
   "metadata": {},
   "source": [
    "### Representative sample based on week and location"
   ]
  },
  {
   "cell_type": "code",
   "execution_count": 5,
   "id": "85b2559c",
   "metadata": {},
   "outputs": [
    {
     "data": {
      "text/html": [
       "<div>\n",
       "<style scoped>\n",
       "    .dataframe tbody tr th:only-of-type {\n",
       "        vertical-align: middle;\n",
       "    }\n",
       "\n",
       "    .dataframe tbody tr th {\n",
       "        vertical-align: top;\n",
       "    }\n",
       "\n",
       "    .dataframe thead th {\n",
       "        text-align: right;\n",
       "    }\n",
       "</style>\n",
       "<table border=\"1\" class=\"dataframe\">\n",
       "  <thead>\n",
       "    <tr style=\"text-align: right;\">\n",
       "      <th></th>\n",
       "      <th>year_week</th>\n",
       "      <th>LocationName</th>\n",
       "      <th>group_size</th>\n",
       "      <th>proportion</th>\n",
       "    </tr>\n",
       "  </thead>\n",
       "  <tbody>\n",
       "    <tr>\n",
       "      <th>0</th>\n",
       "      <td>2017-w01</td>\n",
       "      <td>Alagoas</td>\n",
       "      <td>1</td>\n",
       "      <td>0.000454</td>\n",
       "    </tr>\n",
       "    <tr>\n",
       "      <th>1</th>\n",
       "      <td>2017-w01</td>\n",
       "      <td>Amazonas</td>\n",
       "      <td>2</td>\n",
       "      <td>0.000907</td>\n",
       "    </tr>\n",
       "    <tr>\n",
       "      <th>2</th>\n",
       "      <td>2017-w01</td>\n",
       "      <td>Bahia</td>\n",
       "      <td>8</td>\n",
       "      <td>0.003630</td>\n",
       "    </tr>\n",
       "    <tr>\n",
       "      <th>3</th>\n",
       "      <td>2017-w01</td>\n",
       "      <td>Ceara</td>\n",
       "      <td>5</td>\n",
       "      <td>0.002269</td>\n",
       "    </tr>\n",
       "    <tr>\n",
       "      <th>4</th>\n",
       "      <td>2017-w01</td>\n",
       "      <td>Distrito Federal</td>\n",
       "      <td>11</td>\n",
       "      <td>0.004991</td>\n",
       "    </tr>\n",
       "    <tr>\n",
       "      <th>...</th>\n",
       "      <td>...</td>\n",
       "      <td>...</td>\n",
       "      <td>...</td>\n",
       "      <td>...</td>\n",
       "    </tr>\n",
       "    <tr>\n",
       "      <th>96</th>\n",
       "      <td>2017-w05</td>\n",
       "      <td>Paraiba</td>\n",
       "      <td>4</td>\n",
       "      <td>0.001815</td>\n",
       "    </tr>\n",
       "    <tr>\n",
       "      <th>97</th>\n",
       "      <td>2017-w05</td>\n",
       "      <td>Parana</td>\n",
       "      <td>2</td>\n",
       "      <td>0.000907</td>\n",
       "    </tr>\n",
       "    <tr>\n",
       "      <th>98</th>\n",
       "      <td>2017-w05</td>\n",
       "      <td>Rio Grande Do Sul</td>\n",
       "      <td>16</td>\n",
       "      <td>0.007260</td>\n",
       "    </tr>\n",
       "    <tr>\n",
       "      <th>99</th>\n",
       "      <td>2017-w05</td>\n",
       "      <td>Santa Catarina</td>\n",
       "      <td>2</td>\n",
       "      <td>0.000907</td>\n",
       "    </tr>\n",
       "    <tr>\n",
       "      <th>100</th>\n",
       "      <td>2017-w05</td>\n",
       "      <td>Sao Paulo</td>\n",
       "      <td>39</td>\n",
       "      <td>0.017695</td>\n",
       "    </tr>\n",
       "  </tbody>\n",
       "</table>\n",
       "<p>101 rows × 4 columns</p>\n",
       "</div>"
      ],
      "text/plain": [
       "    year_week       LocationName  group_size  proportion\n",
       "0    2017-w01            Alagoas           1    0.000454\n",
       "1    2017-w01           Amazonas           2    0.000907\n",
       "2    2017-w01              Bahia           8    0.003630\n",
       "3    2017-w01              Ceara           5    0.002269\n",
       "4    2017-w01   Distrito Federal          11    0.004991\n",
       "..        ...                ...         ...         ...\n",
       "96   2017-w05            Paraiba           4    0.001815\n",
       "97   2017-w05             Parana           2    0.000907\n",
       "98   2017-w05  Rio Grande Do Sul          16    0.007260\n",
       "99   2017-w05     Santa Catarina           2    0.000907\n",
       "100  2017-w05          Sao Paulo          39    0.017695\n",
       "\n",
       "[101 rows x 4 columns]"
      ]
     },
     "execution_count": 5,
     "metadata": {},
     "output_type": "execute_result"
    }
   ],
   "source": [
    "# Step 1: Calculate the size of each group (year_week, LocationName)\n",
    "group_sizes = df_2017_01_neg.groupby(['year_week', 'LocationName']).size().reset_index(name='group_size')\n",
    "\n",
    "# Step 2: Calculate the proportion of each group in the dataset\n",
    "total_rows = len(df_2017_01_neg)\n",
    "group_sizes['proportion'] = group_sizes['group_size'] / total_rows\n",
    "group_sizes"
   ]
  },
  {
   "cell_type": "code",
   "execution_count": 6,
   "id": "3fac3240",
   "metadata": {},
   "outputs": [
    {
     "data": {
      "text/html": [
       "<div>\n",
       "<style scoped>\n",
       "    .dataframe tbody tr th:only-of-type {\n",
       "        vertical-align: middle;\n",
       "    }\n",
       "\n",
       "    .dataframe tbody tr th {\n",
       "        vertical-align: top;\n",
       "    }\n",
       "\n",
       "    .dataframe thead th {\n",
       "        text-align: right;\n",
       "    }\n",
       "</style>\n",
       "<table border=\"1\" class=\"dataframe\">\n",
       "  <thead>\n",
       "    <tr style=\"text-align: right;\">\n",
       "      <th></th>\n",
       "      <th>year_week</th>\n",
       "      <th>LocationName</th>\n",
       "      <th>group_size</th>\n",
       "      <th>proportion</th>\n",
       "      <th>sample_size</th>\n",
       "    </tr>\n",
       "  </thead>\n",
       "  <tbody>\n",
       "    <tr>\n",
       "      <th>0</th>\n",
       "      <td>2017-w01</td>\n",
       "      <td>Alagoas</td>\n",
       "      <td>1</td>\n",
       "      <td>0.000454</td>\n",
       "      <td>1</td>\n",
       "    </tr>\n",
       "    <tr>\n",
       "      <th>1</th>\n",
       "      <td>2017-w01</td>\n",
       "      <td>Amazonas</td>\n",
       "      <td>2</td>\n",
       "      <td>0.000907</td>\n",
       "      <td>2</td>\n",
       "    </tr>\n",
       "    <tr>\n",
       "      <th>2</th>\n",
       "      <td>2017-w01</td>\n",
       "      <td>Bahia</td>\n",
       "      <td>8</td>\n",
       "      <td>0.003630</td>\n",
       "      <td>8</td>\n",
       "    </tr>\n",
       "    <tr>\n",
       "      <th>3</th>\n",
       "      <td>2017-w01</td>\n",
       "      <td>Ceara</td>\n",
       "      <td>5</td>\n",
       "      <td>0.002269</td>\n",
       "      <td>5</td>\n",
       "    </tr>\n",
       "    <tr>\n",
       "      <th>4</th>\n",
       "      <td>2017-w01</td>\n",
       "      <td>Distrito Federal</td>\n",
       "      <td>11</td>\n",
       "      <td>0.004991</td>\n",
       "      <td>12</td>\n",
       "    </tr>\n",
       "    <tr>\n",
       "      <th>...</th>\n",
       "      <td>...</td>\n",
       "      <td>...</td>\n",
       "      <td>...</td>\n",
       "      <td>...</td>\n",
       "      <td>...</td>\n",
       "    </tr>\n",
       "    <tr>\n",
       "      <th>96</th>\n",
       "      <td>2017-w05</td>\n",
       "      <td>Paraiba</td>\n",
       "      <td>4</td>\n",
       "      <td>0.001815</td>\n",
       "      <td>4</td>\n",
       "    </tr>\n",
       "    <tr>\n",
       "      <th>97</th>\n",
       "      <td>2017-w05</td>\n",
       "      <td>Parana</td>\n",
       "      <td>2</td>\n",
       "      <td>0.000907</td>\n",
       "      <td>2</td>\n",
       "    </tr>\n",
       "    <tr>\n",
       "      <th>98</th>\n",
       "      <td>2017-w05</td>\n",
       "      <td>Rio Grande Do Sul</td>\n",
       "      <td>16</td>\n",
       "      <td>0.007260</td>\n",
       "      <td>17</td>\n",
       "    </tr>\n",
       "    <tr>\n",
       "      <th>99</th>\n",
       "      <td>2017-w05</td>\n",
       "      <td>Santa Catarina</td>\n",
       "      <td>2</td>\n",
       "      <td>0.000907</td>\n",
       "      <td>2</td>\n",
       "    </tr>\n",
       "    <tr>\n",
       "      <th>100</th>\n",
       "      <td>2017-w05</td>\n",
       "      <td>Sao Paulo</td>\n",
       "      <td>39</td>\n",
       "      <td>0.017695</td>\n",
       "      <td>43</td>\n",
       "    </tr>\n",
       "  </tbody>\n",
       "</table>\n",
       "<p>101 rows × 5 columns</p>\n",
       "</div>"
      ],
      "text/plain": [
       "    year_week       LocationName  group_size  proportion  sample_size\n",
       "0    2017-w01            Alagoas           1    0.000454            1\n",
       "1    2017-w01           Amazonas           2    0.000907            2\n",
       "2    2017-w01              Bahia           8    0.003630            8\n",
       "3    2017-w01              Ceara           5    0.002269            5\n",
       "4    2017-w01   Distrito Federal          11    0.004991           12\n",
       "..        ...                ...         ...         ...          ...\n",
       "96   2017-w05            Paraiba           4    0.001815            4\n",
       "97   2017-w05             Parana           2    0.000907            2\n",
       "98   2017-w05  Rio Grande Do Sul          16    0.007260           17\n",
       "99   2017-w05     Santa Catarina           2    0.000907            2\n",
       "100  2017-w05          Sao Paulo          39    0.017695           43\n",
       "\n",
       "[101 rows x 5 columns]"
      ]
     },
     "execution_count": 6,
     "metadata": {},
     "output_type": "execute_result"
    }
   ],
   "source": [
    "# Step 3: Define the target sample size\n",
    "target_sample_size = 2450\n",
    "\n",
    "# Step 4: Calculate the sample size for each group (based on its proportion)\n",
    "group_sizes['sample_size'] = np.floor(group_sizes['proportion'] * target_sample_size).astype(int)\n",
    "group_sizes"
   ]
  },
  {
   "cell_type": "code",
   "execution_count": 7,
   "id": "c7469167",
   "metadata": {},
   "outputs": [],
   "source": [
    "# Step 5: Merge this sample size information back to the original DataFrame\n",
    "df_2017_01_neg_sample_size = pd.merge(df_2017_01_neg, group_sizes[['year_week', 'LocationName', 'sample_size']], \n",
    "                               on=['year_week', 'LocationName'], how='left')"
   ]
  },
  {
   "cell_type": "code",
   "execution_count": 10,
   "id": "9c4475e7",
   "metadata": {},
   "outputs": [
    {
     "name": "stdout",
     "output_type": "stream",
     "text": [
      "Sampled 2204 rows.\n"
     ]
    }
   ],
   "source": [
    "# Step 6: Perform the stratified sampling\n",
    "#df_2017_01_neg_sample = df_2017_01_neg_sample_size.groupby(['year_week', 'LocationName']).apply(\n",
    "#    lambda group: group.sample(n=group['sample_size'].iloc[0], random_state=42)\n",
    "#).reset_index(drop=True)\n",
    "df_2017_01_neg_sample = df_2017_01_neg\n",
    "# Step 7: Check the result\n",
    "print(f\"Sampled {len(df_2017_01_neg_sample)} rows.\")\n"
   ]
  },
  {
   "cell_type": "code",
   "execution_count": 11,
   "id": "c4ec1d65",
   "metadata": {},
   "outputs": [],
   "source": [
    "text_gpt_2017_01_neg = '\\n'.join(df_2017_01_neg_sample['text'].astype(str))"
   ]
  },
  {
   "cell_type": "markdown",
   "id": "5dc8c377",
   "metadata": {},
   "source": [
    "### Prompts and loops"
   ]
  },
  {
   "cell_type": "code",
   "execution_count": 12,
   "id": "a269fd14",
   "metadata": {},
   "outputs": [],
   "source": [
    "prompt_1 = prompt_raw.replace('TWEETS', text_gpt_2017_01_neg)"
   ]
  },
  {
   "cell_type": "code",
   "execution_count": 13,
   "id": "132f0e60",
   "metadata": {
    "scrolled": false
   },
   "outputs": [],
   "source": [
    "response = openai.ChatCompletion.create(\n",
    "    model=\"gpt-4o-mini\",  \n",
    "    messages = [\n",
    "        {\"role\": \"user\", \"content\": prompt_1}\n",
    "    ],\n",
    "    max_tokens=400,  # Maximum number of tokens in the response\n",
    "    temperature=0.7  # Controls the randomness of the output\n",
    ")"
   ]
  },
  {
   "cell_type": "code",
   "execution_count": 14,
   "id": "8b87399c",
   "metadata": {},
   "outputs": [
    {
     "data": {
      "text/plain": [
       "\"The passages mainly express frustration and fear associated with vaccines, particularly against the backdrop of a febre amarela outbreak. Many individuals report experiencing pain and discomfort after vaccinations, while others complain about the difficulties in accessing vaccines, such as long lines and shortages. There's also a recurring theme of anxiety about the side effects of vaccines, alongside skepticism towards vaccination campaigns and the healthcare system. Some express outright resistance to getting vaccinated, influenced by personal beliefs or misinformation.\""
      ]
     },
     "execution_count": 14,
     "metadata": {},
     "output_type": "execute_result"
    }
   ],
   "source": [
    "response.choices[0].message.content"
   ]
  },
  {
   "cell_type": "code",
   "execution_count": 15,
   "id": "177a2bd7",
   "metadata": {},
   "outputs": [],
   "source": [
    "summary = []\n",
    "dataset = []"
   ]
  },
  {
   "cell_type": "code",
   "execution_count": 16,
   "id": "005c717a",
   "metadata": {},
   "outputs": [],
   "source": [
    "dataset.append(\"2017_01_negitive\")"
   ]
  },
  {
   "cell_type": "code",
   "execution_count": 17,
   "id": "b3580ec6",
   "metadata": {},
   "outputs": [],
   "source": [
    "summary.append(response.choices[0].message.content)"
   ]
  },
  {
   "cell_type": "code",
   "execution_count": 18,
   "id": "24c5caaa",
   "metadata": {
    "tags": []
   },
   "outputs": [
    {
     "name": "stdout",
     "output_type": "stream",
     "text": [
      "<class 'pandas.core.frame.DataFrame'>\n",
      "RangeIndex: 1 entries, 0 to 0\n",
      "Data columns (total 2 columns):\n",
      " #   Column   Non-Null Count  Dtype \n",
      "---  ------   --------------  ----- \n",
      " 0   dataset  1 non-null      object\n",
      " 1   summary  1 non-null      object\n",
      "dtypes: object(2)\n",
      "memory usage: 144.0+ bytes\n"
     ]
    }
   ],
   "source": [
    "df_2017_neg = pd.DataFrame(list(zip(dataset, summary)),\n",
    "                            columns = ['dataset', 'summary'])\n",
    "df_2017_neg.info()"
   ]
  },
  {
   "cell_type": "code",
   "execution_count": 19,
   "id": "5bcf3f7f",
   "metadata": {},
   "outputs": [
    {
     "data": {
      "text/html": [
       "<div>\n",
       "<style scoped>\n",
       "    .dataframe tbody tr th:only-of-type {\n",
       "        vertical-align: middle;\n",
       "    }\n",
       "\n",
       "    .dataframe tbody tr th {\n",
       "        vertical-align: top;\n",
       "    }\n",
       "\n",
       "    .dataframe thead th {\n",
       "        text-align: right;\n",
       "    }\n",
       "</style>\n",
       "<table border=\"1\" class=\"dataframe\">\n",
       "  <thead>\n",
       "    <tr style=\"text-align: right;\">\n",
       "      <th></th>\n",
       "      <th>dataset</th>\n",
       "      <th>summary</th>\n",
       "    </tr>\n",
       "  </thead>\n",
       "  <tbody>\n",
       "    <tr>\n",
       "      <th>0</th>\n",
       "      <td>2017_01_negitive</td>\n",
       "      <td>The passages mainly express frustration and fe...</td>\n",
       "    </tr>\n",
       "  </tbody>\n",
       "</table>\n",
       "</div>"
      ],
      "text/plain": [
       "            dataset                                            summary\n",
       "0  2017_01_negitive  The passages mainly express frustration and fe..."
      ]
     },
     "execution_count": 19,
     "metadata": {},
     "output_type": "execute_result"
    }
   ],
   "source": [
    "df_2017_neg.tail(14)"
   ]
  },
  {
   "cell_type": "code",
   "execution_count": 20,
   "id": "df702099",
   "metadata": {},
   "outputs": [
    {
     "data": {
      "text/plain": [
       "<OpenAIObject chat.completion id=chatcmpl-AUcaDC5iRa1nZ09pAYGEzy4ipMoHy at 0x254184caa40> JSON: {\n",
       "  \"choices\": [\n",
       "    {\n",
       "      \"finish_reason\": \"stop\",\n",
       "      \"index\": 0,\n",
       "      \"logprobs\": null,\n",
       "      \"message\": {\n",
       "        \"content\": \"The passages mainly express frustration and fear associated with vaccines, particularly against the backdrop of a febre amarela outbreak. Many individuals report experiencing pain and discomfort after vaccinations, while others complain about the difficulties in accessing vaccines, such as long lines and shortages. There's also a recurring theme of anxiety about the side effects of vaccines, alongside skepticism towards vaccination campaigns and the healthcare system. Some express outright resistance to getting vaccinated, influenced by personal beliefs or misinformation.\",\n",
       "        \"refusal\": null,\n",
       "        \"role\": \"assistant\"\n",
       "      }\n",
       "    }\n",
       "  ],\n",
       "  \"created\": 1731861517,\n",
       "  \"id\": \"chatcmpl-AUcaDC5iRa1nZ09pAYGEzy4ipMoHy\",\n",
       "  \"model\": \"gpt-4o-mini-2024-07-18\",\n",
       "  \"object\": \"chat.completion\",\n",
       "  \"system_fingerprint\": \"fp_0ba0d124f1\",\n",
       "  \"usage\": {\n",
       "    \"completion_tokens\": 89,\n",
       "    \"completion_tokens_details\": {\n",
       "      \"accepted_prediction_tokens\": 0,\n",
       "      \"audio_tokens\": 0,\n",
       "      \"reasoning_tokens\": 0,\n",
       "      \"rejected_prediction_tokens\": 0\n",
       "    },\n",
       "    \"prompt_tokens\": 44672,\n",
       "    \"prompt_tokens_details\": {\n",
       "      \"audio_tokens\": 0,\n",
       "      \"cached_tokens\": 0\n",
       "    },\n",
       "    \"total_tokens\": 44761\n",
       "  }\n",
       "}"
      ]
     },
     "execution_count": 20,
     "metadata": {},
     "output_type": "execute_result"
    }
   ],
   "source": [
    "response"
   ]
  },
  {
   "cell_type": "markdown",
   "id": "f2468aac",
   "metadata": {},
   "source": [
    "## February"
   ]
  },
  {
   "cell_type": "code",
   "execution_count": 21,
   "id": "5ea58abd",
   "metadata": {
    "scrolled": true,
    "tags": []
   },
   "outputs": [
    {
     "name": "stdout",
     "output_type": "stream",
     "text": [
      "<class 'pandas.core.frame.DataFrame'>\n",
      "RangeIndex: 1700 entries, 0 to 1699\n",
      "Data columns (total 53 columns):\n",
      " #   Column                  Non-Null Count  Dtype  \n",
      "---  ------                  --------------  -----  \n",
      " 0   index                   1700 non-null   int64  \n",
      " 1   LocationCode            1700 non-null   object \n",
      " 2   LocationName            1700 non-null   object \n",
      " 3   StatesCode              1700 non-null   object \n",
      " 4   ...4                    1700 non-null   int64  \n",
      " 5   id                      1700 non-null   float64\n",
      " 6   text                    1700 non-null   object \n",
      " 7   label                   1700 non-null   object \n",
      " 8   in_reply_to_status_id   136 non-null    float64\n",
      " 9   in_reply_to_user_id     147 non-null    float64\n",
      " 10  quoted_user_id          43 non-null     float64\n",
      " 11  quoted_status_id        43 non-null     float64\n",
      " 12  retweeted_user_id       134 non-null    float64\n",
      " 13  retweeted_status_id     134 non-null    float64\n",
      " 14  created_at              1700 non-null   object \n",
      " 15  entities.user_mentions  285 non-null    object \n",
      " 16  user.id                 1700 non-null   float64\n",
      " 17  user.screen_name        1700 non-null   object \n",
      " 18  user.name               1700 non-null   object \n",
      " 19  user.description        1536 non-null   object \n",
      " 20  user.timezone           0 non-null      float64\n",
      " 21  user.location           1652 non-null   object \n",
      " 22  user.num_followers      1700 non-null   int64  \n",
      " 23  user.num_following      1700 non-null   int64  \n",
      " 24  user.created_at         1700 non-null   object \n",
      " 25  user.statuses_count     1700 non-null   int64  \n",
      " 26  user.is_verified        1700 non-null   bool   \n",
      " 27  lang                    1700 non-null   object \n",
      " 28  token_count             1700 non-null   int64  \n",
      " 29  is_retweet              1700 non-null   bool   \n",
      " 30  has_quote               1700 non-null   bool   \n",
      " 31  is_reply                1700 non-null   bool   \n",
      " 32  contains_keywords       1700 non-null   bool   \n",
      " 33  longitude               1700 non-null   float64\n",
      " 34  latitude                1700 non-null   float64\n",
      " 35  country_code            1700 non-null   object \n",
      " 36  geoname_id              1367 non-null   float64\n",
      " 37  location_type           1700 non-null   object \n",
      " 38  geo_type                1700 non-null   int64  \n",
      " 39  region                  1700 non-null   object \n",
      " 40  subregion               1700 non-null   object \n",
      " 41  num_quotes              1700 non-null   int64  \n",
      " 42  num_replies             1700 non-null   int64  \n",
      " 43  num_retweets            1700 non-null   int64  \n",
      " 44  sent_gpt                1700 non-null   object \n",
      " 45  gpt_sent_presence       1700 non-null   int64  \n",
      " 46  cleaned_text_lem        1700 non-null   object \n",
      " 47  cleaned_text            1700 non-null   object \n",
      " 48  month                   1700 non-null   int64  \n",
      " 49  year                    1700 non-null   int64  \n",
      " 50  week                    1700 non-null   int64  \n",
      " 51  year_month              1700 non-null   object \n",
      " 52  year_week               1700 non-null   object \n",
      "dtypes: bool(5), float64(12), int64(14), object(22)\n",
      "memory usage: 645.9+ KB\n"
     ]
    }
   ],
   "source": [
    "# Get monthly data\n",
    "df_2017_02_neg = pd.read_csv('../data/local/df_neg_2017-02.csv').reset_index()\n",
    "df_2017_02_neg.info()"
   ]
  },
  {
   "cell_type": "markdown",
   "id": "1131f48c",
   "metadata": {},
   "source": [
    "### Representative sample based on week and location"
   ]
  },
  {
   "cell_type": "code",
   "execution_count": 22,
   "id": "2ef3d681",
   "metadata": {},
   "outputs": [
    {
     "data": {
      "text/html": [
       "<div>\n",
       "<style scoped>\n",
       "    .dataframe tbody tr th:only-of-type {\n",
       "        vertical-align: middle;\n",
       "    }\n",
       "\n",
       "    .dataframe tbody tr th {\n",
       "        vertical-align: top;\n",
       "    }\n",
       "\n",
       "    .dataframe thead th {\n",
       "        text-align: right;\n",
       "    }\n",
       "</style>\n",
       "<table border=\"1\" class=\"dataframe\">\n",
       "  <thead>\n",
       "    <tr style=\"text-align: right;\">\n",
       "      <th></th>\n",
       "      <th>year_week</th>\n",
       "      <th>LocationName</th>\n",
       "      <th>group_size</th>\n",
       "      <th>proportion</th>\n",
       "    </tr>\n",
       "  </thead>\n",
       "  <tbody>\n",
       "    <tr>\n",
       "      <th>0</th>\n",
       "      <td>2017-w05</td>\n",
       "      <td>Acre</td>\n",
       "      <td>2</td>\n",
       "      <td>0.001176</td>\n",
       "    </tr>\n",
       "    <tr>\n",
       "      <th>1</th>\n",
       "      <td>2017-w05</td>\n",
       "      <td>Alagoas</td>\n",
       "      <td>4</td>\n",
       "      <td>0.002353</td>\n",
       "    </tr>\n",
       "    <tr>\n",
       "      <th>2</th>\n",
       "      <td>2017-w05</td>\n",
       "      <td>Amazonas</td>\n",
       "      <td>5</td>\n",
       "      <td>0.002941</td>\n",
       "    </tr>\n",
       "    <tr>\n",
       "      <th>3</th>\n",
       "      <td>2017-w05</td>\n",
       "      <td>Bahia</td>\n",
       "      <td>21</td>\n",
       "      <td>0.012353</td>\n",
       "    </tr>\n",
       "    <tr>\n",
       "      <th>4</th>\n",
       "      <td>2017-w05</td>\n",
       "      <td>Ceara</td>\n",
       "      <td>1</td>\n",
       "      <td>0.000588</td>\n",
       "    </tr>\n",
       "    <tr>\n",
       "      <th>...</th>\n",
       "      <td>...</td>\n",
       "      <td>...</td>\n",
       "      <td>...</td>\n",
       "      <td>...</td>\n",
       "    </tr>\n",
       "    <tr>\n",
       "      <th>86</th>\n",
       "      <td>2017-w09</td>\n",
       "      <td>Minas Gerais</td>\n",
       "      <td>13</td>\n",
       "      <td>0.007647</td>\n",
       "    </tr>\n",
       "    <tr>\n",
       "      <th>87</th>\n",
       "      <td>2017-w09</td>\n",
       "      <td>Parana</td>\n",
       "      <td>1</td>\n",
       "      <td>0.000588</td>\n",
       "    </tr>\n",
       "    <tr>\n",
       "      <th>88</th>\n",
       "      <td>2017-w09</td>\n",
       "      <td>Pernambuco</td>\n",
       "      <td>1</td>\n",
       "      <td>0.000588</td>\n",
       "    </tr>\n",
       "    <tr>\n",
       "      <th>89</th>\n",
       "      <td>2017-w09</td>\n",
       "      <td>Rio Grande Do Sul</td>\n",
       "      <td>3</td>\n",
       "      <td>0.001765</td>\n",
       "    </tr>\n",
       "    <tr>\n",
       "      <th>90</th>\n",
       "      <td>2017-w09</td>\n",
       "      <td>Sao Paulo</td>\n",
       "      <td>3</td>\n",
       "      <td>0.001765</td>\n",
       "    </tr>\n",
       "  </tbody>\n",
       "</table>\n",
       "<p>91 rows × 4 columns</p>\n",
       "</div>"
      ],
      "text/plain": [
       "   year_week       LocationName  group_size  proportion\n",
       "0   2017-w05               Acre           2    0.001176\n",
       "1   2017-w05            Alagoas           4    0.002353\n",
       "2   2017-w05           Amazonas           5    0.002941\n",
       "3   2017-w05              Bahia          21    0.012353\n",
       "4   2017-w05              Ceara           1    0.000588\n",
       "..       ...                ...         ...         ...\n",
       "86  2017-w09       Minas Gerais          13    0.007647\n",
       "87  2017-w09             Parana           1    0.000588\n",
       "88  2017-w09         Pernambuco           1    0.000588\n",
       "89  2017-w09  Rio Grande Do Sul           3    0.001765\n",
       "90  2017-w09          Sao Paulo           3    0.001765\n",
       "\n",
       "[91 rows x 4 columns]"
      ]
     },
     "execution_count": 22,
     "metadata": {},
     "output_type": "execute_result"
    }
   ],
   "source": [
    "# Step 1: Calculate the size of each group (year_week, LocationName)\n",
    "group_sizes = df_2017_02_neg.groupby(['year_week', 'LocationName']).size().reset_index(name='group_size')\n",
    "\n",
    "# Step 2: Calculate the proportion of each group in the dataset\n",
    "total_rows = len(df_2017_02_neg)\n",
    "group_sizes['proportion'] = group_sizes['group_size'] / total_rows\n",
    "group_sizes"
   ]
  },
  {
   "cell_type": "code",
   "execution_count": 23,
   "id": "adee9c98",
   "metadata": {},
   "outputs": [
    {
     "data": {
      "text/html": [
       "<div>\n",
       "<style scoped>\n",
       "    .dataframe tbody tr th:only-of-type {\n",
       "        vertical-align: middle;\n",
       "    }\n",
       "\n",
       "    .dataframe tbody tr th {\n",
       "        vertical-align: top;\n",
       "    }\n",
       "\n",
       "    .dataframe thead th {\n",
       "        text-align: right;\n",
       "    }\n",
       "</style>\n",
       "<table border=\"1\" class=\"dataframe\">\n",
       "  <thead>\n",
       "    <tr style=\"text-align: right;\">\n",
       "      <th></th>\n",
       "      <th>year_week</th>\n",
       "      <th>LocationName</th>\n",
       "      <th>group_size</th>\n",
       "      <th>proportion</th>\n",
       "      <th>sample_size</th>\n",
       "    </tr>\n",
       "  </thead>\n",
       "  <tbody>\n",
       "    <tr>\n",
       "      <th>0</th>\n",
       "      <td>2017-w05</td>\n",
       "      <td>Acre</td>\n",
       "      <td>2</td>\n",
       "      <td>0.001176</td>\n",
       "      <td>2</td>\n",
       "    </tr>\n",
       "    <tr>\n",
       "      <th>1</th>\n",
       "      <td>2017-w05</td>\n",
       "      <td>Alagoas</td>\n",
       "      <td>4</td>\n",
       "      <td>0.002353</td>\n",
       "      <td>5</td>\n",
       "    </tr>\n",
       "    <tr>\n",
       "      <th>2</th>\n",
       "      <td>2017-w05</td>\n",
       "      <td>Amazonas</td>\n",
       "      <td>5</td>\n",
       "      <td>0.002941</td>\n",
       "      <td>7</td>\n",
       "    </tr>\n",
       "    <tr>\n",
       "      <th>3</th>\n",
       "      <td>2017-w05</td>\n",
       "      <td>Bahia</td>\n",
       "      <td>21</td>\n",
       "      <td>0.012353</td>\n",
       "      <td>30</td>\n",
       "    </tr>\n",
       "    <tr>\n",
       "      <th>4</th>\n",
       "      <td>2017-w05</td>\n",
       "      <td>Ceara</td>\n",
       "      <td>1</td>\n",
       "      <td>0.000588</td>\n",
       "      <td>1</td>\n",
       "    </tr>\n",
       "    <tr>\n",
       "      <th>...</th>\n",
       "      <td>...</td>\n",
       "      <td>...</td>\n",
       "      <td>...</td>\n",
       "      <td>...</td>\n",
       "      <td>...</td>\n",
       "    </tr>\n",
       "    <tr>\n",
       "      <th>86</th>\n",
       "      <td>2017-w09</td>\n",
       "      <td>Minas Gerais</td>\n",
       "      <td>13</td>\n",
       "      <td>0.007647</td>\n",
       "      <td>18</td>\n",
       "    </tr>\n",
       "    <tr>\n",
       "      <th>87</th>\n",
       "      <td>2017-w09</td>\n",
       "      <td>Parana</td>\n",
       "      <td>1</td>\n",
       "      <td>0.000588</td>\n",
       "      <td>1</td>\n",
       "    </tr>\n",
       "    <tr>\n",
       "      <th>88</th>\n",
       "      <td>2017-w09</td>\n",
       "      <td>Pernambuco</td>\n",
       "      <td>1</td>\n",
       "      <td>0.000588</td>\n",
       "      <td>1</td>\n",
       "    </tr>\n",
       "    <tr>\n",
       "      <th>89</th>\n",
       "      <td>2017-w09</td>\n",
       "      <td>Rio Grande Do Sul</td>\n",
       "      <td>3</td>\n",
       "      <td>0.001765</td>\n",
       "      <td>4</td>\n",
       "    </tr>\n",
       "    <tr>\n",
       "      <th>90</th>\n",
       "      <td>2017-w09</td>\n",
       "      <td>Sao Paulo</td>\n",
       "      <td>3</td>\n",
       "      <td>0.001765</td>\n",
       "      <td>4</td>\n",
       "    </tr>\n",
       "  </tbody>\n",
       "</table>\n",
       "<p>91 rows × 5 columns</p>\n",
       "</div>"
      ],
      "text/plain": [
       "   year_week       LocationName  group_size  proportion  sample_size\n",
       "0   2017-w05               Acre           2    0.001176            2\n",
       "1   2017-w05            Alagoas           4    0.002353            5\n",
       "2   2017-w05           Amazonas           5    0.002941            7\n",
       "3   2017-w05              Bahia          21    0.012353           30\n",
       "4   2017-w05              Ceara           1    0.000588            1\n",
       "..       ...                ...         ...         ...          ...\n",
       "86  2017-w09       Minas Gerais          13    0.007647           18\n",
       "87  2017-w09             Parana           1    0.000588            1\n",
       "88  2017-w09         Pernambuco           1    0.000588            1\n",
       "89  2017-w09  Rio Grande Do Sul           3    0.001765            4\n",
       "90  2017-w09          Sao Paulo           3    0.001765            4\n",
       "\n",
       "[91 rows x 5 columns]"
      ]
     },
     "execution_count": 23,
     "metadata": {},
     "output_type": "execute_result"
    }
   ],
   "source": [
    "# Step 3: Define the target sample size\n",
    "target_sample_size = 2450\n",
    "\n",
    "# Step 4: Calculate the sample size for each group (based on its proportion)\n",
    "group_sizes['sample_size'] = np.floor(group_sizes['proportion'] * target_sample_size).astype(int)\n",
    "group_sizes"
   ]
  },
  {
   "cell_type": "code",
   "execution_count": 24,
   "id": "a7b8b23f",
   "metadata": {},
   "outputs": [],
   "source": [
    "# Step 5: Merge this sample size information back to the original DataFrame\n",
    "df_2017_02_neg_sample_size = pd.merge(df_2017_02_neg, group_sizes[['year_week', 'LocationName', 'sample_size']], \n",
    "                               on=['year_week', 'LocationName'], how='left')"
   ]
  },
  {
   "cell_type": "code",
   "execution_count": 27,
   "id": "46c74cd1",
   "metadata": {},
   "outputs": [
    {
     "name": "stdout",
     "output_type": "stream",
     "text": [
      "Sampled 1700 rows.\n"
     ]
    }
   ],
   "source": [
    "# Step 6: Perform the stratified sampling\n",
    "#df_2017_02_neg_sample = df_2017_02_neg_sample_size.groupby(['year_week', 'LocationName']).apply(\n",
    " #   lambda group: group.sample(n=group['sample_size'].iloc[0], random_state=42)\n",
    "#).reset_index(drop=True)\n",
    "df_2017_02_neg_sample = df_2017_02_neg\n",
    "# Step 7: Check the result\n",
    "print(f\"Sampled {len(df_2017_02_neg_sample)} rows.\")\n"
   ]
  },
  {
   "cell_type": "code",
   "execution_count": 28,
   "id": "80e9765e",
   "metadata": {},
   "outputs": [],
   "source": [
    "text_gpt_2017_02_neg = '\\n'.join(df_2017_02_neg_sample['text'].astype(str))"
   ]
  },
  {
   "cell_type": "markdown",
   "id": "b22f256e",
   "metadata": {},
   "source": [
    "### Prompts and loops"
   ]
  },
  {
   "cell_type": "code",
   "execution_count": 29,
   "id": "95c22639",
   "metadata": {},
   "outputs": [],
   "source": [
    "prompt_2 = prompt_raw.replace('TWEETS', text_gpt_2017_02_neg)"
   ]
  },
  {
   "cell_type": "code",
   "execution_count": 30,
   "id": "b172834e",
   "metadata": {
    "scrolled": false
   },
   "outputs": [],
   "source": [
    "response = openai.ChatCompletion.create(\n",
    "    model=\"gpt-4o-mini\",  \n",
    "    messages = [\n",
    "        {\"role\": \"user\", \"content\": prompt_2}\n",
    "    ],\n",
    "    max_tokens=400,  # Maximum number of tokens in the response\n",
    "    temperature=0.7  # Controls the randomness of the output\n",
    ")"
   ]
  },
  {
   "cell_type": "code",
   "execution_count": 31,
   "id": "86d7f1a3",
   "metadata": {},
   "outputs": [
    {
     "data": {
      "text/plain": [
       "'The sentences express a common frustration and anxiety surrounding vaccinations, particularly for diseases like tetanus and yellow fever. Many complain about pain in their arms, the long waiting times at clinics, and negative experiences related to receiving vaccines. There are also comments on the fear of needles, the burden of mandatory vaccinations for traveling, and reactions to vaccines that leave individuals feeling unwell. Overall, the sentiment reflects a mix of dread, annoyance, and physical discomfort associated with the vaccination process.'"
      ]
     },
     "execution_count": 31,
     "metadata": {},
     "output_type": "execute_result"
    }
   ],
   "source": [
    "response.choices[0].message.content"
   ]
  },
  {
   "cell_type": "code",
   "execution_count": 32,
   "id": "44a76dbb",
   "metadata": {},
   "outputs": [],
   "source": [
    "#summary = []\n",
    "#dataset = []"
   ]
  },
  {
   "cell_type": "code",
   "execution_count": 33,
   "id": "9da8b8a2",
   "metadata": {},
   "outputs": [],
   "source": [
    "dataset.append(\"2017_02_negitive\")"
   ]
  },
  {
   "cell_type": "code",
   "execution_count": 34,
   "id": "4d33e327",
   "metadata": {},
   "outputs": [],
   "source": [
    "summary.append(response.choices[0].message.content)"
   ]
  },
  {
   "cell_type": "code",
   "execution_count": 35,
   "id": "725c0f71",
   "metadata": {
    "tags": []
   },
   "outputs": [
    {
     "name": "stdout",
     "output_type": "stream",
     "text": [
      "<class 'pandas.core.frame.DataFrame'>\n",
      "RangeIndex: 2 entries, 0 to 1\n",
      "Data columns (total 2 columns):\n",
      " #   Column   Non-Null Count  Dtype \n",
      "---  ------   --------------  ----- \n",
      " 0   dataset  2 non-null      object\n",
      " 1   summary  2 non-null      object\n",
      "dtypes: object(2)\n",
      "memory usage: 160.0+ bytes\n"
     ]
    }
   ],
   "source": [
    "df_2017_neg = pd.DataFrame(list(zip(dataset, summary)),\n",
    "                            columns = ['dataset', 'summary'])\n",
    "df_2017_neg.info()"
   ]
  },
  {
   "cell_type": "code",
   "execution_count": 36,
   "id": "90cdb4de",
   "metadata": {},
   "outputs": [
    {
     "data": {
      "text/html": [
       "<div>\n",
       "<style scoped>\n",
       "    .dataframe tbody tr th:only-of-type {\n",
       "        vertical-align: middle;\n",
       "    }\n",
       "\n",
       "    .dataframe tbody tr th {\n",
       "        vertical-align: top;\n",
       "    }\n",
       "\n",
       "    .dataframe thead th {\n",
       "        text-align: right;\n",
       "    }\n",
       "</style>\n",
       "<table border=\"1\" class=\"dataframe\">\n",
       "  <thead>\n",
       "    <tr style=\"text-align: right;\">\n",
       "      <th></th>\n",
       "      <th>dataset</th>\n",
       "      <th>summary</th>\n",
       "    </tr>\n",
       "  </thead>\n",
       "  <tbody>\n",
       "    <tr>\n",
       "      <th>0</th>\n",
       "      <td>2017_01_negitive</td>\n",
       "      <td>The passages mainly express frustration and fe...</td>\n",
       "    </tr>\n",
       "    <tr>\n",
       "      <th>1</th>\n",
       "      <td>2017_02_negitive</td>\n",
       "      <td>The sentences express a common frustration and...</td>\n",
       "    </tr>\n",
       "  </tbody>\n",
       "</table>\n",
       "</div>"
      ],
      "text/plain": [
       "            dataset                                            summary\n",
       "0  2017_01_negitive  The passages mainly express frustration and fe...\n",
       "1  2017_02_negitive  The sentences express a common frustration and..."
      ]
     },
     "execution_count": 36,
     "metadata": {},
     "output_type": "execute_result"
    }
   ],
   "source": [
    "df_2017_neg.tail(14)"
   ]
  },
  {
   "cell_type": "code",
   "execution_count": 37,
   "id": "8b79e3e6",
   "metadata": {},
   "outputs": [
    {
     "data": {
      "text/plain": [
       "<OpenAIObject chat.completion id=chatcmpl-AUcaoBtppnYIJuKKmtdMlLpm3Ql2S at 0x25413e867c0> JSON: {\n",
       "  \"choices\": [\n",
       "    {\n",
       "      \"finish_reason\": \"stop\",\n",
       "      \"index\": 0,\n",
       "      \"logprobs\": null,\n",
       "      \"message\": {\n",
       "        \"content\": \"The sentences express a common frustration and anxiety surrounding vaccinations, particularly for diseases like tetanus and yellow fever. Many complain about pain in their arms, the long waiting times at clinics, and negative experiences related to receiving vaccines. There are also comments on the fear of needles, the burden of mandatory vaccinations for traveling, and reactions to vaccines that leave individuals feeling unwell. Overall, the sentiment reflects a mix of dread, annoyance, and physical discomfort associated with the vaccination process.\",\n",
       "        \"refusal\": null,\n",
       "        \"role\": \"assistant\"\n",
       "      }\n",
       "    }\n",
       "  ],\n",
       "  \"created\": 1731861554,\n",
       "  \"id\": \"chatcmpl-AUcaoBtppnYIJuKKmtdMlLpm3Ql2S\",\n",
       "  \"model\": \"gpt-4o-mini-2024-07-18\",\n",
       "  \"object\": \"chat.completion\",\n",
       "  \"system_fingerprint\": \"fp_0ba0d124f1\",\n",
       "  \"usage\": {\n",
       "    \"completion_tokens\": 94,\n",
       "    \"completion_tokens_details\": {\n",
       "      \"accepted_prediction_tokens\": 0,\n",
       "      \"audio_tokens\": 0,\n",
       "      \"reasoning_tokens\": 0,\n",
       "      \"rejected_prediction_tokens\": 0\n",
       "    },\n",
       "    \"prompt_tokens\": 34353,\n",
       "    \"prompt_tokens_details\": {\n",
       "      \"audio_tokens\": 0,\n",
       "      \"cached_tokens\": 0\n",
       "    },\n",
       "    \"total_tokens\": 34447\n",
       "  }\n",
       "}"
      ]
     },
     "execution_count": 37,
     "metadata": {},
     "output_type": "execute_result"
    }
   ],
   "source": [
    "response"
   ]
  },
  {
   "cell_type": "markdown",
   "id": "83cfd4fe",
   "metadata": {},
   "source": [
    "## March"
   ]
  },
  {
   "cell_type": "code",
   "execution_count": 38,
   "id": "8aecef5f",
   "metadata": {
    "scrolled": true,
    "tags": []
   },
   "outputs": [
    {
     "name": "stdout",
     "output_type": "stream",
     "text": [
      "<class 'pandas.core.frame.DataFrame'>\n",
      "RangeIndex: 4738 entries, 0 to 4737\n",
      "Data columns (total 53 columns):\n",
      " #   Column                  Non-Null Count  Dtype  \n",
      "---  ------                  --------------  -----  \n",
      " 0   index                   4738 non-null   int64  \n",
      " 1   LocationCode            4738 non-null   object \n",
      " 2   LocationName            4738 non-null   object \n",
      " 3   StatesCode              4738 non-null   object \n",
      " 4   ...4                    4738 non-null   int64  \n",
      " 5   id                      4738 non-null   float64\n",
      " 6   text                    4738 non-null   object \n",
      " 7   label                   4738 non-null   object \n",
      " 8   in_reply_to_status_id   310 non-null    float64\n",
      " 9   in_reply_to_user_id     332 non-null    float64\n",
      " 10  quoted_user_id          96 non-null     float64\n",
      " 11  quoted_status_id        96 non-null     float64\n",
      " 12  retweeted_user_id       654 non-null    float64\n",
      " 13  retweeted_status_id     654 non-null    float64\n",
      " 14  created_at              4738 non-null   object \n",
      " 15  entities.user_mentions  1000 non-null   object \n",
      " 16  user.id                 4738 non-null   float64\n",
      " 17  user.screen_name        4738 non-null   object \n",
      " 18  user.name               4738 non-null   object \n",
      " 19  user.description        4324 non-null   object \n",
      " 20  user.timezone           0 non-null      float64\n",
      " 21  user.location           4643 non-null   object \n",
      " 22  user.num_followers      4738 non-null   int64  \n",
      " 23  user.num_following      4738 non-null   int64  \n",
      " 24  user.created_at         4738 non-null   object \n",
      " 25  user.statuses_count     4738 non-null   int64  \n",
      " 26  user.is_verified        4738 non-null   bool   \n",
      " 27  lang                    4738 non-null   object \n",
      " 28  token_count             4738 non-null   int64  \n",
      " 29  is_retweet              4738 non-null   bool   \n",
      " 30  has_quote               4738 non-null   bool   \n",
      " 31  is_reply                4738 non-null   bool   \n",
      " 32  contains_keywords       4738 non-null   bool   \n",
      " 33  longitude               4738 non-null   float64\n",
      " 34  latitude                4738 non-null   float64\n",
      " 35  country_code            4738 non-null   object \n",
      " 36  geoname_id              3966 non-null   float64\n",
      " 37  location_type           4738 non-null   object \n",
      " 38  geo_type                4738 non-null   int64  \n",
      " 39  region                  4738 non-null   object \n",
      " 40  subregion               4738 non-null   object \n",
      " 41  num_quotes              4738 non-null   int64  \n",
      " 42  num_replies             4738 non-null   int64  \n",
      " 43  num_retweets            4738 non-null   int64  \n",
      " 44  sent_gpt                4738 non-null   object \n",
      " 45  gpt_sent_presence       4738 non-null   int64  \n",
      " 46  cleaned_text_lem        4738 non-null   object \n",
      " 47  cleaned_text            4738 non-null   object \n",
      " 48  month                   4738 non-null   int64  \n",
      " 49  year                    4738 non-null   int64  \n",
      " 50  week                    4738 non-null   int64  \n",
      " 51  year_month              4738 non-null   object \n",
      " 52  year_week               4738 non-null   object \n",
      "dtypes: bool(5), float64(12), int64(14), object(22)\n",
      "memory usage: 1.8+ MB\n"
     ]
    }
   ],
   "source": [
    "# Get monthly data\n",
    "df_2017_03_neg = pd.read_csv('../data/local/df_neg_2017-03.csv').reset_index()\n",
    "df_2017_03_neg.info()"
   ]
  },
  {
   "cell_type": "markdown",
   "id": "9d8793b8",
   "metadata": {},
   "source": [
    "### Representative sample based on week and location"
   ]
  },
  {
   "cell_type": "code",
   "execution_count": 39,
   "id": "849b56c5",
   "metadata": {},
   "outputs": [
    {
     "data": {
      "text/html": [
       "<div>\n",
       "<style scoped>\n",
       "    .dataframe tbody tr th:only-of-type {\n",
       "        vertical-align: middle;\n",
       "    }\n",
       "\n",
       "    .dataframe tbody tr th {\n",
       "        vertical-align: top;\n",
       "    }\n",
       "\n",
       "    .dataframe thead th {\n",
       "        text-align: right;\n",
       "    }\n",
       "</style>\n",
       "<table border=\"1\" class=\"dataframe\">\n",
       "  <thead>\n",
       "    <tr style=\"text-align: right;\">\n",
       "      <th></th>\n",
       "      <th>year_week</th>\n",
       "      <th>LocationName</th>\n",
       "      <th>group_size</th>\n",
       "      <th>proportion</th>\n",
       "    </tr>\n",
       "  </thead>\n",
       "  <tbody>\n",
       "    <tr>\n",
       "      <th>0</th>\n",
       "      <td>2017-w09</td>\n",
       "      <td>Acre</td>\n",
       "      <td>1</td>\n",
       "      <td>0.000211</td>\n",
       "    </tr>\n",
       "    <tr>\n",
       "      <th>1</th>\n",
       "      <td>2017-w09</td>\n",
       "      <td>Alagoas</td>\n",
       "      <td>3</td>\n",
       "      <td>0.000633</td>\n",
       "    </tr>\n",
       "    <tr>\n",
       "      <th>2</th>\n",
       "      <td>2017-w09</td>\n",
       "      <td>Amapa</td>\n",
       "      <td>1</td>\n",
       "      <td>0.000211</td>\n",
       "    </tr>\n",
       "    <tr>\n",
       "      <th>3</th>\n",
       "      <td>2017-w09</td>\n",
       "      <td>Amazonas</td>\n",
       "      <td>2</td>\n",
       "      <td>0.000422</td>\n",
       "    </tr>\n",
       "    <tr>\n",
       "      <th>4</th>\n",
       "      <td>2017-w09</td>\n",
       "      <td>Bahia</td>\n",
       "      <td>12</td>\n",
       "      <td>0.002533</td>\n",
       "    </tr>\n",
       "    <tr>\n",
       "      <th>...</th>\n",
       "      <td>...</td>\n",
       "      <td>...</td>\n",
       "      <td>...</td>\n",
       "      <td>...</td>\n",
       "    </tr>\n",
       "    <tr>\n",
       "      <th>108</th>\n",
       "      <td>2017-w13</td>\n",
       "      <td>Rondonia</td>\n",
       "      <td>1</td>\n",
       "      <td>0.000211</td>\n",
       "    </tr>\n",
       "    <tr>\n",
       "      <th>109</th>\n",
       "      <td>2017-w13</td>\n",
       "      <td>Roraima</td>\n",
       "      <td>1</td>\n",
       "      <td>0.000211</td>\n",
       "    </tr>\n",
       "    <tr>\n",
       "      <th>110</th>\n",
       "      <td>2017-w13</td>\n",
       "      <td>Santa Catarina</td>\n",
       "      <td>10</td>\n",
       "      <td>0.002111</td>\n",
       "    </tr>\n",
       "    <tr>\n",
       "      <th>111</th>\n",
       "      <td>2017-w13</td>\n",
       "      <td>Sao Paulo</td>\n",
       "      <td>59</td>\n",
       "      <td>0.012453</td>\n",
       "    </tr>\n",
       "    <tr>\n",
       "      <th>112</th>\n",
       "      <td>2017-w13</td>\n",
       "      <td>Sergipe</td>\n",
       "      <td>2</td>\n",
       "      <td>0.000422</td>\n",
       "    </tr>\n",
       "  </tbody>\n",
       "</table>\n",
       "<p>113 rows × 4 columns</p>\n",
       "</div>"
      ],
      "text/plain": [
       "    year_week    LocationName  group_size  proportion\n",
       "0    2017-w09            Acre           1    0.000211\n",
       "1    2017-w09         Alagoas           3    0.000633\n",
       "2    2017-w09           Amapa           1    0.000211\n",
       "3    2017-w09        Amazonas           2    0.000422\n",
       "4    2017-w09           Bahia          12    0.002533\n",
       "..        ...             ...         ...         ...\n",
       "108  2017-w13        Rondonia           1    0.000211\n",
       "109  2017-w13         Roraima           1    0.000211\n",
       "110  2017-w13  Santa Catarina          10    0.002111\n",
       "111  2017-w13       Sao Paulo          59    0.012453\n",
       "112  2017-w13         Sergipe           2    0.000422\n",
       "\n",
       "[113 rows x 4 columns]"
      ]
     },
     "execution_count": 39,
     "metadata": {},
     "output_type": "execute_result"
    }
   ],
   "source": [
    "# Step 1: Calculate the size of each group (year_week, LocationName)\n",
    "group_sizes = df_2017_03_neg.groupby(['year_week', 'LocationName']).size().reset_index(name='group_size')\n",
    "\n",
    "# Step 2: Calculate the proportion of each group in the dataset\n",
    "total_rows = len(df_2017_03_neg)\n",
    "group_sizes['proportion'] = group_sizes['group_size'] / total_rows\n",
    "group_sizes"
   ]
  },
  {
   "cell_type": "code",
   "execution_count": 40,
   "id": "aef8698d",
   "metadata": {},
   "outputs": [
    {
     "data": {
      "text/html": [
       "<div>\n",
       "<style scoped>\n",
       "    .dataframe tbody tr th:only-of-type {\n",
       "        vertical-align: middle;\n",
       "    }\n",
       "\n",
       "    .dataframe tbody tr th {\n",
       "        vertical-align: top;\n",
       "    }\n",
       "\n",
       "    .dataframe thead th {\n",
       "        text-align: right;\n",
       "    }\n",
       "</style>\n",
       "<table border=\"1\" class=\"dataframe\">\n",
       "  <thead>\n",
       "    <tr style=\"text-align: right;\">\n",
       "      <th></th>\n",
       "      <th>year_week</th>\n",
       "      <th>LocationName</th>\n",
       "      <th>group_size</th>\n",
       "      <th>proportion</th>\n",
       "      <th>sample_size</th>\n",
       "    </tr>\n",
       "  </thead>\n",
       "  <tbody>\n",
       "    <tr>\n",
       "      <th>0</th>\n",
       "      <td>2017-w09</td>\n",
       "      <td>Acre</td>\n",
       "      <td>1</td>\n",
       "      <td>0.000211</td>\n",
       "      <td>0</td>\n",
       "    </tr>\n",
       "    <tr>\n",
       "      <th>1</th>\n",
       "      <td>2017-w09</td>\n",
       "      <td>Alagoas</td>\n",
       "      <td>3</td>\n",
       "      <td>0.000633</td>\n",
       "      <td>1</td>\n",
       "    </tr>\n",
       "    <tr>\n",
       "      <th>2</th>\n",
       "      <td>2017-w09</td>\n",
       "      <td>Amapa</td>\n",
       "      <td>1</td>\n",
       "      <td>0.000211</td>\n",
       "      <td>0</td>\n",
       "    </tr>\n",
       "    <tr>\n",
       "      <th>3</th>\n",
       "      <td>2017-w09</td>\n",
       "      <td>Amazonas</td>\n",
       "      <td>2</td>\n",
       "      <td>0.000422</td>\n",
       "      <td>1</td>\n",
       "    </tr>\n",
       "    <tr>\n",
       "      <th>4</th>\n",
       "      <td>2017-w09</td>\n",
       "      <td>Bahia</td>\n",
       "      <td>12</td>\n",
       "      <td>0.002533</td>\n",
       "      <td>6</td>\n",
       "    </tr>\n",
       "    <tr>\n",
       "      <th>...</th>\n",
       "      <td>...</td>\n",
       "      <td>...</td>\n",
       "      <td>...</td>\n",
       "      <td>...</td>\n",
       "      <td>...</td>\n",
       "    </tr>\n",
       "    <tr>\n",
       "      <th>108</th>\n",
       "      <td>2017-w13</td>\n",
       "      <td>Rondonia</td>\n",
       "      <td>1</td>\n",
       "      <td>0.000211</td>\n",
       "      <td>0</td>\n",
       "    </tr>\n",
       "    <tr>\n",
       "      <th>109</th>\n",
       "      <td>2017-w13</td>\n",
       "      <td>Roraima</td>\n",
       "      <td>1</td>\n",
       "      <td>0.000211</td>\n",
       "      <td>0</td>\n",
       "    </tr>\n",
       "    <tr>\n",
       "      <th>110</th>\n",
       "      <td>2017-w13</td>\n",
       "      <td>Santa Catarina</td>\n",
       "      <td>10</td>\n",
       "      <td>0.002111</td>\n",
       "      <td>5</td>\n",
       "    </tr>\n",
       "    <tr>\n",
       "      <th>111</th>\n",
       "      <td>2017-w13</td>\n",
       "      <td>Sao Paulo</td>\n",
       "      <td>59</td>\n",
       "      <td>0.012453</td>\n",
       "      <td>30</td>\n",
       "    </tr>\n",
       "    <tr>\n",
       "      <th>112</th>\n",
       "      <td>2017-w13</td>\n",
       "      <td>Sergipe</td>\n",
       "      <td>2</td>\n",
       "      <td>0.000422</td>\n",
       "      <td>1</td>\n",
       "    </tr>\n",
       "  </tbody>\n",
       "</table>\n",
       "<p>113 rows × 5 columns</p>\n",
       "</div>"
      ],
      "text/plain": [
       "    year_week    LocationName  group_size  proportion  sample_size\n",
       "0    2017-w09            Acre           1    0.000211            0\n",
       "1    2017-w09         Alagoas           3    0.000633            1\n",
       "2    2017-w09           Amapa           1    0.000211            0\n",
       "3    2017-w09        Amazonas           2    0.000422            1\n",
       "4    2017-w09           Bahia          12    0.002533            6\n",
       "..        ...             ...         ...         ...          ...\n",
       "108  2017-w13        Rondonia           1    0.000211            0\n",
       "109  2017-w13         Roraima           1    0.000211            0\n",
       "110  2017-w13  Santa Catarina          10    0.002111            5\n",
       "111  2017-w13       Sao Paulo          59    0.012453           30\n",
       "112  2017-w13         Sergipe           2    0.000422            1\n",
       "\n",
       "[113 rows x 5 columns]"
      ]
     },
     "execution_count": 40,
     "metadata": {},
     "output_type": "execute_result"
    }
   ],
   "source": [
    "# Step 3: Define the target sample size\n",
    "target_sample_size = 2450\n",
    "\n",
    "# Step 4: Calculate the sample size for each group (based on its proportion)\n",
    "group_sizes['sample_size'] = np.floor(group_sizes['proportion'] * target_sample_size).astype(int)\n",
    "group_sizes"
   ]
  },
  {
   "cell_type": "code",
   "execution_count": 41,
   "id": "64497bce",
   "metadata": {},
   "outputs": [],
   "source": [
    "# Step 5: Merge this sample size information back to the original DataFrame\n",
    "df_2017_03_neg_sample_size = pd.merge(df_2017_03_neg, group_sizes[['year_week', 'LocationName', 'sample_size']], \n",
    "                               on=['year_week', 'LocationName'], how='left')"
   ]
  },
  {
   "cell_type": "code",
   "execution_count": 42,
   "id": "b66deaed",
   "metadata": {},
   "outputs": [
    {
     "name": "stdout",
     "output_type": "stream",
     "text": [
      "Sampled 2401 rows.\n"
     ]
    }
   ],
   "source": [
    "# Step 6: Perform the stratified sampling\n",
    "df_2017_03_neg_sample = df_2017_03_neg_sample_size.groupby(['year_week', 'LocationName']).apply(\n",
    "    lambda group: group.sample(n=group['sample_size'].iloc[0], random_state=42)\n",
    ").reset_index(drop=True)\n",
    "\n",
    "# Step 7: Check the result\n",
    "print(f\"Sampled {len(df_2017_03_neg_sample)} rows.\")\n"
   ]
  },
  {
   "cell_type": "code",
   "execution_count": 43,
   "id": "cacd5bfb",
   "metadata": {},
   "outputs": [],
   "source": [
    "text_gpt_2017_03_neg = '\\n'.join(df_2017_03_neg_sample['text'].astype(str))"
   ]
  },
  {
   "cell_type": "markdown",
   "id": "677054ce",
   "metadata": {},
   "source": [
    "### Prompts and loops"
   ]
  },
  {
   "cell_type": "code",
   "execution_count": 44,
   "id": "3e74eba3",
   "metadata": {},
   "outputs": [],
   "source": [
    "prompt_3 = prompt_raw.replace('TWEETS', text_gpt_2017_03_neg)"
   ]
  },
  {
   "cell_type": "code",
   "execution_count": 45,
   "id": "709224ed",
   "metadata": {
    "scrolled": false
   },
   "outputs": [],
   "source": [
    "response = openai.ChatCompletion.create(\n",
    "    model=\"gpt-4o-mini\",  \n",
    "    messages = [\n",
    "        {\"role\": \"user\", \"content\": prompt_3}\n",
    "    ],\n",
    "    max_tokens=400,  # Maximum number of tokens in the response\n",
    "    temperature=0.7  # Controls the randomness of the output\n",
    ")"
   ]
  },
  {
   "cell_type": "code",
   "execution_count": 46,
   "id": "b8776166",
   "metadata": {},
   "outputs": [
    {
     "data": {
      "text/plain": [
       "'The texts express widespread anxiety, frustration, and humor regarding vaccinations, particularly against yellow fever. Many individuals share their experiences of preparing to receive vaccines, often highlighting long wait times, pain, and fears of side effects. There are also criticisms of government inefficiencies, misinformation about vaccines, and personal anecdotes of reluctance to get vaccinated, reflecting broader societal concerns about health and safety.'"
      ]
     },
     "execution_count": 46,
     "metadata": {},
     "output_type": "execute_result"
    }
   ],
   "source": [
    "response.choices[0].message.content"
   ]
  },
  {
   "cell_type": "code",
   "execution_count": 47,
   "id": "f03966cf",
   "metadata": {},
   "outputs": [],
   "source": [
    "#summary = []\n",
    "#dataset = []"
   ]
  },
  {
   "cell_type": "code",
   "execution_count": 48,
   "id": "bde868f6",
   "metadata": {},
   "outputs": [],
   "source": [
    "dataset.append(\"2017_03_negitive\")"
   ]
  },
  {
   "cell_type": "code",
   "execution_count": 49,
   "id": "7a940cb2",
   "metadata": {},
   "outputs": [],
   "source": [
    "summary.append(response.choices[0].message.content)"
   ]
  },
  {
   "cell_type": "code",
   "execution_count": 50,
   "id": "fdf1b907",
   "metadata": {
    "tags": []
   },
   "outputs": [
    {
     "name": "stdout",
     "output_type": "stream",
     "text": [
      "<class 'pandas.core.frame.DataFrame'>\n",
      "RangeIndex: 3 entries, 0 to 2\n",
      "Data columns (total 2 columns):\n",
      " #   Column   Non-Null Count  Dtype \n",
      "---  ------   --------------  ----- \n",
      " 0   dataset  3 non-null      object\n",
      " 1   summary  3 non-null      object\n",
      "dtypes: object(2)\n",
      "memory usage: 176.0+ bytes\n"
     ]
    }
   ],
   "source": [
    "df_2017_neg = pd.DataFrame(list(zip(dataset, summary)),\n",
    "                            columns = ['dataset', 'summary'])\n",
    "df_2017_neg.info()"
   ]
  },
  {
   "cell_type": "code",
   "execution_count": 51,
   "id": "b44227e1",
   "metadata": {},
   "outputs": [
    {
     "data": {
      "text/html": [
       "<div>\n",
       "<style scoped>\n",
       "    .dataframe tbody tr th:only-of-type {\n",
       "        vertical-align: middle;\n",
       "    }\n",
       "\n",
       "    .dataframe tbody tr th {\n",
       "        vertical-align: top;\n",
       "    }\n",
       "\n",
       "    .dataframe thead th {\n",
       "        text-align: right;\n",
       "    }\n",
       "</style>\n",
       "<table border=\"1\" class=\"dataframe\">\n",
       "  <thead>\n",
       "    <tr style=\"text-align: right;\">\n",
       "      <th></th>\n",
       "      <th>dataset</th>\n",
       "      <th>summary</th>\n",
       "    </tr>\n",
       "  </thead>\n",
       "  <tbody>\n",
       "    <tr>\n",
       "      <th>0</th>\n",
       "      <td>2017_01_negitive</td>\n",
       "      <td>The passages mainly express frustration and fe...</td>\n",
       "    </tr>\n",
       "    <tr>\n",
       "      <th>1</th>\n",
       "      <td>2017_02_negitive</td>\n",
       "      <td>The sentences express a common frustration and...</td>\n",
       "    </tr>\n",
       "    <tr>\n",
       "      <th>2</th>\n",
       "      <td>2017_03_negitive</td>\n",
       "      <td>The texts express widespread anxiety, frustrat...</td>\n",
       "    </tr>\n",
       "  </tbody>\n",
       "</table>\n",
       "</div>"
      ],
      "text/plain": [
       "            dataset                                            summary\n",
       "0  2017_01_negitive  The passages mainly express frustration and fe...\n",
       "1  2017_02_negitive  The sentences express a common frustration and...\n",
       "2  2017_03_negitive  The texts express widespread anxiety, frustrat..."
      ]
     },
     "execution_count": 51,
     "metadata": {},
     "output_type": "execute_result"
    }
   ],
   "source": [
    "df_2017_neg.tail(14)"
   ]
  },
  {
   "cell_type": "code",
   "execution_count": 52,
   "id": "8528ad17",
   "metadata": {},
   "outputs": [
    {
     "data": {
      "text/plain": [
       "<OpenAIObject chat.completion id=chatcmpl-AUcavgKHG7RBPcn3jYDOTHj1hJY1h at 0x254189fa720> JSON: {\n",
       "  \"choices\": [\n",
       "    {\n",
       "      \"finish_reason\": \"stop\",\n",
       "      \"index\": 0,\n",
       "      \"logprobs\": null,\n",
       "      \"message\": {\n",
       "        \"content\": \"The texts express widespread anxiety, frustration, and humor regarding vaccinations, particularly against yellow fever. Many individuals share their experiences of preparing to receive vaccines, often highlighting long wait times, pain, and fears of side effects. There are also criticisms of government inefficiencies, misinformation about vaccines, and personal anecdotes of reluctance to get vaccinated, reflecting broader societal concerns about health and safety.\",\n",
       "        \"refusal\": null,\n",
       "        \"role\": \"assistant\"\n",
       "      }\n",
       "    }\n",
       "  ],\n",
       "  \"created\": 1731861561,\n",
       "  \"id\": \"chatcmpl-AUcavgKHG7RBPcn3jYDOTHj1hJY1h\",\n",
       "  \"model\": \"gpt-4o-mini-2024-07-18\",\n",
       "  \"object\": \"chat.completion\",\n",
       "  \"system_fingerprint\": \"fp_9b78b61c52\",\n",
       "  \"usage\": {\n",
       "    \"completion_tokens\": 75,\n",
       "    \"completion_tokens_details\": {\n",
       "      \"accepted_prediction_tokens\": 0,\n",
       "      \"audio_tokens\": 0,\n",
       "      \"reasoning_tokens\": 0,\n",
       "      \"rejected_prediction_tokens\": 0\n",
       "    },\n",
       "    \"prompt_tokens\": 44731,\n",
       "    \"prompt_tokens_details\": {\n",
       "      \"audio_tokens\": 0,\n",
       "      \"cached_tokens\": 0\n",
       "    },\n",
       "    \"total_tokens\": 44806\n",
       "  }\n",
       "}"
      ]
     },
     "execution_count": 52,
     "metadata": {},
     "output_type": "execute_result"
    }
   ],
   "source": [
    "response"
   ]
  },
  {
   "cell_type": "markdown",
   "id": "a57159e2",
   "metadata": {},
   "source": [
    "## April"
   ]
  },
  {
   "cell_type": "code",
   "execution_count": 53,
   "id": "b84f949f",
   "metadata": {
    "scrolled": true,
    "tags": []
   },
   "outputs": [
    {
     "name": "stdout",
     "output_type": "stream",
     "text": [
      "<class 'pandas.core.frame.DataFrame'>\n",
      "RangeIndex: 2701 entries, 0 to 2700\n",
      "Data columns (total 53 columns):\n",
      " #   Column                  Non-Null Count  Dtype  \n",
      "---  ------                  --------------  -----  \n",
      " 0   index                   2701 non-null   int64  \n",
      " 1   LocationCode            2701 non-null   object \n",
      " 2   LocationName            2701 non-null   object \n",
      " 3   StatesCode              2701 non-null   object \n",
      " 4   ...4                    2701 non-null   int64  \n",
      " 5   id                      2701 non-null   float64\n",
      " 6   text                    2701 non-null   object \n",
      " 7   label                   2701 non-null   object \n",
      " 8   in_reply_to_status_id   184 non-null    float64\n",
      " 9   in_reply_to_user_id     196 non-null    float64\n",
      " 10  quoted_user_id          57 non-null     float64\n",
      " 11  quoted_status_id        57 non-null     float64\n",
      " 12  retweeted_user_id       258 non-null    float64\n",
      " 13  retweeted_status_id     258 non-null    float64\n",
      " 14  created_at              2701 non-null   object \n",
      " 15  entities.user_mentions  476 non-null    object \n",
      " 16  user.id                 2701 non-null   float64\n",
      " 17  user.screen_name        2701 non-null   object \n",
      " 18  user.name               2701 non-null   object \n",
      " 19  user.description        2464 non-null   object \n",
      " 20  user.timezone           0 non-null      float64\n",
      " 21  user.location           2631 non-null   object \n",
      " 22  user.num_followers      2701 non-null   int64  \n",
      " 23  user.num_following      2701 non-null   int64  \n",
      " 24  user.created_at         2701 non-null   object \n",
      " 25  user.statuses_count     2701 non-null   int64  \n",
      " 26  user.is_verified        2701 non-null   bool   \n",
      " 27  lang                    2701 non-null   object \n",
      " 28  token_count             2701 non-null   int64  \n",
      " 29  is_retweet              2701 non-null   bool   \n",
      " 30  has_quote               2701 non-null   bool   \n",
      " 31  is_reply                2701 non-null   bool   \n",
      " 32  contains_keywords       2701 non-null   bool   \n",
      " 33  longitude               2701 non-null   float64\n",
      " 34  latitude                2701 non-null   float64\n",
      " 35  country_code            2701 non-null   object \n",
      " 36  geoname_id              2209 non-null   float64\n",
      " 37  location_type           2701 non-null   object \n",
      " 38  geo_type                2701 non-null   int64  \n",
      " 39  region                  2701 non-null   object \n",
      " 40  subregion               2701 non-null   object \n",
      " 41  num_quotes              2701 non-null   int64  \n",
      " 42  num_replies             2701 non-null   int64  \n",
      " 43  num_retweets            2701 non-null   int64  \n",
      " 44  sent_gpt                2701 non-null   object \n",
      " 45  gpt_sent_presence       2701 non-null   int64  \n",
      " 46  cleaned_text_lem        2701 non-null   object \n",
      " 47  cleaned_text            2701 non-null   object \n",
      " 48  month                   2701 non-null   int64  \n",
      " 49  year                    2701 non-null   int64  \n",
      " 50  week                    2701 non-null   int64  \n",
      " 51  year_month              2701 non-null   object \n",
      " 52  year_week               2701 non-null   object \n",
      "dtypes: bool(5), float64(12), int64(14), object(22)\n",
      "memory usage: 1.0+ MB\n"
     ]
    }
   ],
   "source": [
    "# Get monthly data\n",
    "df_2017_04_neg = pd.read_csv('../data/local/df_neg_2017-04.csv').reset_index()\n",
    "df_2017_04_neg.info()"
   ]
  },
  {
   "cell_type": "markdown",
   "id": "66b76111",
   "metadata": {},
   "source": [
    "### Representative sample based on week and location"
   ]
  },
  {
   "cell_type": "code",
   "execution_count": 54,
   "id": "e2923a82",
   "metadata": {},
   "outputs": [
    {
     "data": {
      "text/html": [
       "<div>\n",
       "<style scoped>\n",
       "    .dataframe tbody tr th:only-of-type {\n",
       "        vertical-align: middle;\n",
       "    }\n",
       "\n",
       "    .dataframe tbody tr th {\n",
       "        vertical-align: top;\n",
       "    }\n",
       "\n",
       "    .dataframe thead th {\n",
       "        text-align: right;\n",
       "    }\n",
       "</style>\n",
       "<table border=\"1\" class=\"dataframe\">\n",
       "  <thead>\n",
       "    <tr style=\"text-align: right;\">\n",
       "      <th></th>\n",
       "      <th>year_week</th>\n",
       "      <th>LocationName</th>\n",
       "      <th>group_size</th>\n",
       "      <th>proportion</th>\n",
       "    </tr>\n",
       "  </thead>\n",
       "  <tbody>\n",
       "    <tr>\n",
       "      <th>0</th>\n",
       "      <td>2017-w13</td>\n",
       "      <td>Alagoas</td>\n",
       "      <td>1</td>\n",
       "      <td>0.000370</td>\n",
       "    </tr>\n",
       "    <tr>\n",
       "      <th>1</th>\n",
       "      <td>2017-w13</td>\n",
       "      <td>Amapa</td>\n",
       "      <td>1</td>\n",
       "      <td>0.000370</td>\n",
       "    </tr>\n",
       "    <tr>\n",
       "      <th>2</th>\n",
       "      <td>2017-w13</td>\n",
       "      <td>Bahia</td>\n",
       "      <td>6</td>\n",
       "      <td>0.002221</td>\n",
       "    </tr>\n",
       "    <tr>\n",
       "      <th>3</th>\n",
       "      <td>2017-w13</td>\n",
       "      <td>Espirito Santo</td>\n",
       "      <td>9</td>\n",
       "      <td>0.003332</td>\n",
       "    </tr>\n",
       "    <tr>\n",
       "      <th>4</th>\n",
       "      <td>2017-w13</td>\n",
       "      <td>Goias</td>\n",
       "      <td>2</td>\n",
       "      <td>0.000740</td>\n",
       "    </tr>\n",
       "    <tr>\n",
       "      <th>...</th>\n",
       "      <td>...</td>\n",
       "      <td>...</td>\n",
       "      <td>...</td>\n",
       "      <td>...</td>\n",
       "    </tr>\n",
       "    <tr>\n",
       "      <th>107</th>\n",
       "      <td>2017-w18</td>\n",
       "      <td>Paraiba</td>\n",
       "      <td>1</td>\n",
       "      <td>0.000370</td>\n",
       "    </tr>\n",
       "    <tr>\n",
       "      <th>108</th>\n",
       "      <td>2017-w18</td>\n",
       "      <td>Parana</td>\n",
       "      <td>3</td>\n",
       "      <td>0.001111</td>\n",
       "    </tr>\n",
       "    <tr>\n",
       "      <th>109</th>\n",
       "      <td>2017-w18</td>\n",
       "      <td>Rio Grande Do Sul</td>\n",
       "      <td>3</td>\n",
       "      <td>0.001111</td>\n",
       "    </tr>\n",
       "    <tr>\n",
       "      <th>110</th>\n",
       "      <td>2017-w18</td>\n",
       "      <td>Rondonia</td>\n",
       "      <td>1</td>\n",
       "      <td>0.000370</td>\n",
       "    </tr>\n",
       "    <tr>\n",
       "      <th>111</th>\n",
       "      <td>2017-w18</td>\n",
       "      <td>Sao Paulo</td>\n",
       "      <td>13</td>\n",
       "      <td>0.004813</td>\n",
       "    </tr>\n",
       "  </tbody>\n",
       "</table>\n",
       "<p>112 rows × 4 columns</p>\n",
       "</div>"
      ],
      "text/plain": [
       "    year_week       LocationName  group_size  proportion\n",
       "0    2017-w13            Alagoas           1    0.000370\n",
       "1    2017-w13              Amapa           1    0.000370\n",
       "2    2017-w13              Bahia           6    0.002221\n",
       "3    2017-w13     Espirito Santo           9    0.003332\n",
       "4    2017-w13              Goias           2    0.000740\n",
       "..        ...                ...         ...         ...\n",
       "107  2017-w18            Paraiba           1    0.000370\n",
       "108  2017-w18             Parana           3    0.001111\n",
       "109  2017-w18  Rio Grande Do Sul           3    0.001111\n",
       "110  2017-w18           Rondonia           1    0.000370\n",
       "111  2017-w18          Sao Paulo          13    0.004813\n",
       "\n",
       "[112 rows x 4 columns]"
      ]
     },
     "execution_count": 54,
     "metadata": {},
     "output_type": "execute_result"
    }
   ],
   "source": [
    "# Step 1: Calculate the size of each group (year_week, LocationName)\n",
    "group_sizes = df_2017_04_neg.groupby(['year_week', 'LocationName']).size().reset_index(name='group_size')\n",
    "\n",
    "# Step 2: Calculate the proportion of each group in the dataset\n",
    "total_rows = len(df_2017_04_neg)\n",
    "group_sizes['proportion'] = group_sizes['group_size'] / total_rows\n",
    "group_sizes"
   ]
  },
  {
   "cell_type": "code",
   "execution_count": 55,
   "id": "5e52798c",
   "metadata": {},
   "outputs": [
    {
     "data": {
      "text/html": [
       "<div>\n",
       "<style scoped>\n",
       "    .dataframe tbody tr th:only-of-type {\n",
       "        vertical-align: middle;\n",
       "    }\n",
       "\n",
       "    .dataframe tbody tr th {\n",
       "        vertical-align: top;\n",
       "    }\n",
       "\n",
       "    .dataframe thead th {\n",
       "        text-align: right;\n",
       "    }\n",
       "</style>\n",
       "<table border=\"1\" class=\"dataframe\">\n",
       "  <thead>\n",
       "    <tr style=\"text-align: right;\">\n",
       "      <th></th>\n",
       "      <th>year_week</th>\n",
       "      <th>LocationName</th>\n",
       "      <th>group_size</th>\n",
       "      <th>proportion</th>\n",
       "      <th>sample_size</th>\n",
       "    </tr>\n",
       "  </thead>\n",
       "  <tbody>\n",
       "    <tr>\n",
       "      <th>0</th>\n",
       "      <td>2017-w13</td>\n",
       "      <td>Alagoas</td>\n",
       "      <td>1</td>\n",
       "      <td>0.000370</td>\n",
       "      <td>0</td>\n",
       "    </tr>\n",
       "    <tr>\n",
       "      <th>1</th>\n",
       "      <td>2017-w13</td>\n",
       "      <td>Amapa</td>\n",
       "      <td>1</td>\n",
       "      <td>0.000370</td>\n",
       "      <td>0</td>\n",
       "    </tr>\n",
       "    <tr>\n",
       "      <th>2</th>\n",
       "      <td>2017-w13</td>\n",
       "      <td>Bahia</td>\n",
       "      <td>6</td>\n",
       "      <td>0.002221</td>\n",
       "      <td>5</td>\n",
       "    </tr>\n",
       "    <tr>\n",
       "      <th>3</th>\n",
       "      <td>2017-w13</td>\n",
       "      <td>Espirito Santo</td>\n",
       "      <td>9</td>\n",
       "      <td>0.003332</td>\n",
       "      <td>8</td>\n",
       "    </tr>\n",
       "    <tr>\n",
       "      <th>4</th>\n",
       "      <td>2017-w13</td>\n",
       "      <td>Goias</td>\n",
       "      <td>2</td>\n",
       "      <td>0.000740</td>\n",
       "      <td>1</td>\n",
       "    </tr>\n",
       "    <tr>\n",
       "      <th>...</th>\n",
       "      <td>...</td>\n",
       "      <td>...</td>\n",
       "      <td>...</td>\n",
       "      <td>...</td>\n",
       "      <td>...</td>\n",
       "    </tr>\n",
       "    <tr>\n",
       "      <th>107</th>\n",
       "      <td>2017-w18</td>\n",
       "      <td>Paraiba</td>\n",
       "      <td>1</td>\n",
       "      <td>0.000370</td>\n",
       "      <td>0</td>\n",
       "    </tr>\n",
       "    <tr>\n",
       "      <th>108</th>\n",
       "      <td>2017-w18</td>\n",
       "      <td>Parana</td>\n",
       "      <td>3</td>\n",
       "      <td>0.001111</td>\n",
       "      <td>2</td>\n",
       "    </tr>\n",
       "    <tr>\n",
       "      <th>109</th>\n",
       "      <td>2017-w18</td>\n",
       "      <td>Rio Grande Do Sul</td>\n",
       "      <td>3</td>\n",
       "      <td>0.001111</td>\n",
       "      <td>2</td>\n",
       "    </tr>\n",
       "    <tr>\n",
       "      <th>110</th>\n",
       "      <td>2017-w18</td>\n",
       "      <td>Rondonia</td>\n",
       "      <td>1</td>\n",
       "      <td>0.000370</td>\n",
       "      <td>0</td>\n",
       "    </tr>\n",
       "    <tr>\n",
       "      <th>111</th>\n",
       "      <td>2017-w18</td>\n",
       "      <td>Sao Paulo</td>\n",
       "      <td>13</td>\n",
       "      <td>0.004813</td>\n",
       "      <td>11</td>\n",
       "    </tr>\n",
       "  </tbody>\n",
       "</table>\n",
       "<p>112 rows × 5 columns</p>\n",
       "</div>"
      ],
      "text/plain": [
       "    year_week       LocationName  group_size  proportion  sample_size\n",
       "0    2017-w13            Alagoas           1    0.000370            0\n",
       "1    2017-w13              Amapa           1    0.000370            0\n",
       "2    2017-w13              Bahia           6    0.002221            5\n",
       "3    2017-w13     Espirito Santo           9    0.003332            8\n",
       "4    2017-w13              Goias           2    0.000740            1\n",
       "..        ...                ...         ...         ...          ...\n",
       "107  2017-w18            Paraiba           1    0.000370            0\n",
       "108  2017-w18             Parana           3    0.001111            2\n",
       "109  2017-w18  Rio Grande Do Sul           3    0.001111            2\n",
       "110  2017-w18           Rondonia           1    0.000370            0\n",
       "111  2017-w18          Sao Paulo          13    0.004813           11\n",
       "\n",
       "[112 rows x 5 columns]"
      ]
     },
     "execution_count": 55,
     "metadata": {},
     "output_type": "execute_result"
    }
   ],
   "source": [
    "# Step 3: Define the target sample size\n",
    "target_sample_size = 2450\n",
    "\n",
    "# Step 4: Calculate the sample size for each group (based on its proportion)\n",
    "group_sizes['sample_size'] = np.floor(group_sizes['proportion'] * target_sample_size).astype(int)\n",
    "group_sizes"
   ]
  },
  {
   "cell_type": "code",
   "execution_count": 56,
   "id": "c66b1eeb",
   "metadata": {},
   "outputs": [],
   "source": [
    "# Step 5: Merge this sample size information back to the original DataFrame\n",
    "df_2017_04_neg_sample_size = pd.merge(df_2017_04_neg, group_sizes[['year_week', 'LocationName', 'sample_size']], \n",
    "                               on=['year_week', 'LocationName'], how='left')"
   ]
  },
  {
   "cell_type": "code",
   "execution_count": 57,
   "id": "53f14ba0",
   "metadata": {},
   "outputs": [
    {
     "name": "stdout",
     "output_type": "stream",
     "text": [
      "Sampled 2380 rows.\n"
     ]
    }
   ],
   "source": [
    "# Step 6: Perform the stratified sampling\n",
    "df_2017_04_neg_sample = df_2017_04_neg_sample_size.groupby(['year_week', 'LocationName']).apply(\n",
    "    lambda group: group.sample(n=group['sample_size'].iloc[0], random_state=42)\n",
    ").reset_index(drop=True)\n",
    "\n",
    "# Step 7: Check the result\n",
    "print(f\"Sampled {len(df_2017_04_neg_sample)} rows.\")\n"
   ]
  },
  {
   "cell_type": "code",
   "execution_count": 58,
   "id": "480bf650",
   "metadata": {},
   "outputs": [],
   "source": [
    "text_gpt_2017_04_neg = '\\n'.join(df_2017_04_neg_sample['text'].astype(str))"
   ]
  },
  {
   "cell_type": "markdown",
   "id": "08689181",
   "metadata": {},
   "source": [
    "### Prompts and loops"
   ]
  },
  {
   "cell_type": "code",
   "execution_count": 59,
   "id": "3d2f9387",
   "metadata": {},
   "outputs": [],
   "source": [
    "prompt_4 = prompt_raw.replace('TWEETS', text_gpt_2017_04_neg)"
   ]
  },
  {
   "cell_type": "code",
   "execution_count": 60,
   "id": "6bf06ef1",
   "metadata": {
    "scrolled": false
   },
   "outputs": [],
   "source": [
    "response = openai.ChatCompletion.create(\n",
    "    model=\"gpt-4o-mini\",  \n",
    "    messages = [\n",
    "        {\"role\": \"user\", \"content\": prompt_4}\n",
    "    ],\n",
    "    max_tokens=400,  # Maximum number of tokens in the response\n",
    "    temperature=0.7  # Controls the randomness of the output\n",
    ")"
   ]
  },
  {
   "cell_type": "code",
   "execution_count": 61,
   "id": "2c572149",
   "metadata": {},
   "outputs": [
    {
     "data": {
      "text/plain": [
       "'The texts reflect widespread anxiety and negative sentiments around vaccinations, particularly the yellow fever vaccine. Many express fear of needles, concern about adverse reactions, and frustration with the vaccination process, including long wait times and lack of availability. Some mention specific incidents of adverse reactions or deaths linked to vaccines, contributing to skepticism. Overall, there is a strong emotional response to the idea of vaccination, ranging from dread to outright refusal.'"
      ]
     },
     "execution_count": 61,
     "metadata": {},
     "output_type": "execute_result"
    }
   ],
   "source": [
    "response.choices[0].message.content"
   ]
  },
  {
   "cell_type": "code",
   "execution_count": 62,
   "id": "e3b9c3a6",
   "metadata": {},
   "outputs": [],
   "source": [
    "#summary = []\n",
    "#dataset = []"
   ]
  },
  {
   "cell_type": "code",
   "execution_count": 63,
   "id": "87ae0b14",
   "metadata": {},
   "outputs": [],
   "source": [
    "dataset.append(\"2017_04_negitive\")"
   ]
  },
  {
   "cell_type": "code",
   "execution_count": 64,
   "id": "265b4d20",
   "metadata": {},
   "outputs": [],
   "source": [
    "summary.append(response.choices[0].message.content)"
   ]
  },
  {
   "cell_type": "code",
   "execution_count": 65,
   "id": "b2c62be9",
   "metadata": {
    "tags": []
   },
   "outputs": [
    {
     "name": "stdout",
     "output_type": "stream",
     "text": [
      "<class 'pandas.core.frame.DataFrame'>\n",
      "RangeIndex: 4 entries, 0 to 3\n",
      "Data columns (total 2 columns):\n",
      " #   Column   Non-Null Count  Dtype \n",
      "---  ------   --------------  ----- \n",
      " 0   dataset  4 non-null      object\n",
      " 1   summary  4 non-null      object\n",
      "dtypes: object(2)\n",
      "memory usage: 192.0+ bytes\n"
     ]
    }
   ],
   "source": [
    "df_2017_neg = pd.DataFrame(list(zip(dataset, summary)),\n",
    "                            columns = ['dataset', 'summary'])\n",
    "df_2017_neg.info()"
   ]
  },
  {
   "cell_type": "code",
   "execution_count": 66,
   "id": "53fcd76e",
   "metadata": {},
   "outputs": [
    {
     "data": {
      "text/html": [
       "<div>\n",
       "<style scoped>\n",
       "    .dataframe tbody tr th:only-of-type {\n",
       "        vertical-align: middle;\n",
       "    }\n",
       "\n",
       "    .dataframe tbody tr th {\n",
       "        vertical-align: top;\n",
       "    }\n",
       "\n",
       "    .dataframe thead th {\n",
       "        text-align: right;\n",
       "    }\n",
       "</style>\n",
       "<table border=\"1\" class=\"dataframe\">\n",
       "  <thead>\n",
       "    <tr style=\"text-align: right;\">\n",
       "      <th></th>\n",
       "      <th>dataset</th>\n",
       "      <th>summary</th>\n",
       "    </tr>\n",
       "  </thead>\n",
       "  <tbody>\n",
       "    <tr>\n",
       "      <th>0</th>\n",
       "      <td>2017_01_negitive</td>\n",
       "      <td>The passages mainly express frustration and fe...</td>\n",
       "    </tr>\n",
       "    <tr>\n",
       "      <th>1</th>\n",
       "      <td>2017_02_negitive</td>\n",
       "      <td>The sentences express a common frustration and...</td>\n",
       "    </tr>\n",
       "    <tr>\n",
       "      <th>2</th>\n",
       "      <td>2017_03_negitive</td>\n",
       "      <td>The texts express widespread anxiety, frustrat...</td>\n",
       "    </tr>\n",
       "    <tr>\n",
       "      <th>3</th>\n",
       "      <td>2017_04_negitive</td>\n",
       "      <td>The texts reflect widespread anxiety and negat...</td>\n",
       "    </tr>\n",
       "  </tbody>\n",
       "</table>\n",
       "</div>"
      ],
      "text/plain": [
       "            dataset                                            summary\n",
       "0  2017_01_negitive  The passages mainly express frustration and fe...\n",
       "1  2017_02_negitive  The sentences express a common frustration and...\n",
       "2  2017_03_negitive  The texts express widespread anxiety, frustrat...\n",
       "3  2017_04_negitive  The texts reflect widespread anxiety and negat..."
      ]
     },
     "execution_count": 66,
     "metadata": {},
     "output_type": "execute_result"
    }
   ],
   "source": [
    "df_2017_neg.tail(14)"
   ]
  },
  {
   "cell_type": "code",
   "execution_count": 67,
   "id": "9bc8461d",
   "metadata": {},
   "outputs": [
    {
     "data": {
      "text/plain": [
       "<OpenAIObject chat.completion id=chatcmpl-AUcb37DPqh3YsNqUPYEWvShxt1Xn4 at 0x25418a182c0> JSON: {\n",
       "  \"choices\": [\n",
       "    {\n",
       "      \"finish_reason\": \"stop\",\n",
       "      \"index\": 0,\n",
       "      \"logprobs\": null,\n",
       "      \"message\": {\n",
       "        \"content\": \"The texts reflect widespread anxiety and negative sentiments around vaccinations, particularly the yellow fever vaccine. Many express fear of needles, concern about adverse reactions, and frustration with the vaccination process, including long wait times and lack of availability. Some mention specific incidents of adverse reactions or deaths linked to vaccines, contributing to skepticism. Overall, there is a strong emotional response to the idea of vaccination, ranging from dread to outright refusal.\",\n",
       "        \"refusal\": null,\n",
       "        \"role\": \"assistant\"\n",
       "      }\n",
       "    }\n",
       "  ],\n",
       "  \"created\": 1731861569,\n",
       "  \"id\": \"chatcmpl-AUcb37DPqh3YsNqUPYEWvShxt1Xn4\",\n",
       "  \"model\": \"gpt-4o-mini-2024-07-18\",\n",
       "  \"object\": \"chat.completion\",\n",
       "  \"system_fingerprint\": \"fp_0ba0d124f1\",\n",
       "  \"usage\": {\n",
       "    \"completion_tokens\": 82,\n",
       "    \"completion_tokens_details\": {\n",
       "      \"accepted_prediction_tokens\": 0,\n",
       "      \"audio_tokens\": 0,\n",
       "      \"reasoning_tokens\": 0,\n",
       "      \"rejected_prediction_tokens\": 0\n",
       "    },\n",
       "    \"prompt_tokens\": 46493,\n",
       "    \"prompt_tokens_details\": {\n",
       "      \"audio_tokens\": 0,\n",
       "      \"cached_tokens\": 0\n",
       "    },\n",
       "    \"total_tokens\": 46575\n",
       "  }\n",
       "}"
      ]
     },
     "execution_count": 67,
     "metadata": {},
     "output_type": "execute_result"
    }
   ],
   "source": [
    "response"
   ]
  },
  {
   "cell_type": "markdown",
   "id": "e492f6d4",
   "metadata": {},
   "source": [
    "## May"
   ]
  },
  {
   "cell_type": "code",
   "execution_count": 68,
   "id": "f38b435e",
   "metadata": {
    "scrolled": true,
    "tags": []
   },
   "outputs": [
    {
     "name": "stdout",
     "output_type": "stream",
     "text": [
      "<class 'pandas.core.frame.DataFrame'>\n",
      "RangeIndex: 4381 entries, 0 to 4380\n",
      "Data columns (total 53 columns):\n",
      " #   Column                  Non-Null Count  Dtype  \n",
      "---  ------                  --------------  -----  \n",
      " 0   index                   4381 non-null   int64  \n",
      " 1   LocationCode            4381 non-null   object \n",
      " 2   LocationName            4381 non-null   object \n",
      " 3   StatesCode              4381 non-null   object \n",
      " 4   ...4                    4381 non-null   int64  \n",
      " 5   id                      4381 non-null   float64\n",
      " 6   text                    4381 non-null   object \n",
      " 7   label                   4381 non-null   object \n",
      " 8   in_reply_to_status_id   283 non-null    float64\n",
      " 9   in_reply_to_user_id     297 non-null    float64\n",
      " 10  quoted_user_id          101 non-null    float64\n",
      " 11  quoted_status_id        101 non-null    float64\n",
      " 12  retweeted_user_id       1022 non-null   float64\n",
      " 13  retweeted_status_id     1022 non-null   float64\n",
      " 14  created_at              4381 non-null   object \n",
      " 15  entities.user_mentions  1331 non-null   object \n",
      " 16  user.id                 4381 non-null   float64\n",
      " 17  user.screen_name        4381 non-null   object \n",
      " 18  user.name               4381 non-null   object \n",
      " 19  user.description        3952 non-null   object \n",
      " 20  user.timezone           0 non-null      float64\n",
      " 21  user.location           4294 non-null   object \n",
      " 22  user.num_followers      4381 non-null   int64  \n",
      " 23  user.num_following      4381 non-null   int64  \n",
      " 24  user.created_at         4381 non-null   object \n",
      " 25  user.statuses_count     4381 non-null   int64  \n",
      " 26  user.is_verified        4381 non-null   bool   \n",
      " 27  lang                    4381 non-null   object \n",
      " 28  token_count             4381 non-null   int64  \n",
      " 29  is_retweet              4381 non-null   bool   \n",
      " 30  has_quote               4381 non-null   bool   \n",
      " 31  is_reply                4381 non-null   bool   \n",
      " 32  contains_keywords       4381 non-null   bool   \n",
      " 33  longitude               4381 non-null   float64\n",
      " 34  latitude                4381 non-null   float64\n",
      " 35  country_code            4381 non-null   object \n",
      " 36  geoname_id              3813 non-null   float64\n",
      " 37  location_type           4381 non-null   object \n",
      " 38  geo_type                4381 non-null   int64  \n",
      " 39  region                  4381 non-null   object \n",
      " 40  subregion               4381 non-null   object \n",
      " 41  num_quotes              4381 non-null   int64  \n",
      " 42  num_replies             4381 non-null   int64  \n",
      " 43  num_retweets            4381 non-null   int64  \n",
      " 44  sent_gpt                4381 non-null   object \n",
      " 45  gpt_sent_presence       4381 non-null   int64  \n",
      " 46  cleaned_text_lem        4381 non-null   object \n",
      " 47  cleaned_text            4381 non-null   object \n",
      " 48  month                   4381 non-null   int64  \n",
      " 49  year                    4381 non-null   int64  \n",
      " 50  week                    4381 non-null   int64  \n",
      " 51  year_month              4381 non-null   object \n",
      " 52  year_week               4381 non-null   object \n",
      "dtypes: bool(5), float64(12), int64(14), object(22)\n",
      "memory usage: 1.6+ MB\n"
     ]
    }
   ],
   "source": [
    "# Get monthly data\n",
    "df_2017_05_neg = pd.read_csv('../data/local/df_neg_2017-05.csv').reset_index()\n",
    "df_2017_05_neg.info()"
   ]
  },
  {
   "cell_type": "markdown",
   "id": "67e6748f",
   "metadata": {},
   "source": [
    "### Representative sample based on week and location"
   ]
  },
  {
   "cell_type": "code",
   "execution_count": 69,
   "id": "744659bb",
   "metadata": {},
   "outputs": [
    {
     "data": {
      "text/html": [
       "<div>\n",
       "<style scoped>\n",
       "    .dataframe tbody tr th:only-of-type {\n",
       "        vertical-align: middle;\n",
       "    }\n",
       "\n",
       "    .dataframe tbody tr th {\n",
       "        vertical-align: top;\n",
       "    }\n",
       "\n",
       "    .dataframe thead th {\n",
       "        text-align: right;\n",
       "    }\n",
       "</style>\n",
       "<table border=\"1\" class=\"dataframe\">\n",
       "  <thead>\n",
       "    <tr style=\"text-align: right;\">\n",
       "      <th></th>\n",
       "      <th>year_week</th>\n",
       "      <th>LocationName</th>\n",
       "      <th>group_size</th>\n",
       "      <th>proportion</th>\n",
       "    </tr>\n",
       "  </thead>\n",
       "  <tbody>\n",
       "    <tr>\n",
       "      <th>0</th>\n",
       "      <td>2017-w18</td>\n",
       "      <td>Acre</td>\n",
       "      <td>1</td>\n",
       "      <td>0.000228</td>\n",
       "    </tr>\n",
       "    <tr>\n",
       "      <th>1</th>\n",
       "      <td>2017-w18</td>\n",
       "      <td>Alagoas</td>\n",
       "      <td>1</td>\n",
       "      <td>0.000228</td>\n",
       "    </tr>\n",
       "    <tr>\n",
       "      <th>2</th>\n",
       "      <td>2017-w18</td>\n",
       "      <td>Amapa</td>\n",
       "      <td>1</td>\n",
       "      <td>0.000228</td>\n",
       "    </tr>\n",
       "    <tr>\n",
       "      <th>3</th>\n",
       "      <td>2017-w18</td>\n",
       "      <td>Amazonas</td>\n",
       "      <td>6</td>\n",
       "      <td>0.001370</td>\n",
       "    </tr>\n",
       "    <tr>\n",
       "      <th>4</th>\n",
       "      <td>2017-w18</td>\n",
       "      <td>Bahia</td>\n",
       "      <td>17</td>\n",
       "      <td>0.003880</td>\n",
       "    </tr>\n",
       "    <tr>\n",
       "      <th>...</th>\n",
       "      <td>...</td>\n",
       "      <td>...</td>\n",
       "      <td>...</td>\n",
       "      <td>...</td>\n",
       "    </tr>\n",
       "    <tr>\n",
       "      <th>110</th>\n",
       "      <td>2017-w22</td>\n",
       "      <td>Rondonia</td>\n",
       "      <td>1</td>\n",
       "      <td>0.000228</td>\n",
       "    </tr>\n",
       "    <tr>\n",
       "      <th>111</th>\n",
       "      <td>2017-w22</td>\n",
       "      <td>Santa Catarina</td>\n",
       "      <td>11</td>\n",
       "      <td>0.002511</td>\n",
       "    </tr>\n",
       "    <tr>\n",
       "      <th>112</th>\n",
       "      <td>2017-w22</td>\n",
       "      <td>Sao Paulo</td>\n",
       "      <td>50</td>\n",
       "      <td>0.011413</td>\n",
       "    </tr>\n",
       "    <tr>\n",
       "      <th>113</th>\n",
       "      <td>2017-w22</td>\n",
       "      <td>Sergipe</td>\n",
       "      <td>1</td>\n",
       "      <td>0.000228</td>\n",
       "    </tr>\n",
       "    <tr>\n",
       "      <th>114</th>\n",
       "      <td>2017-w22</td>\n",
       "      <td>Tocantins</td>\n",
       "      <td>3</td>\n",
       "      <td>0.000685</td>\n",
       "    </tr>\n",
       "  </tbody>\n",
       "</table>\n",
       "<p>115 rows × 4 columns</p>\n",
       "</div>"
      ],
      "text/plain": [
       "    year_week    LocationName  group_size  proportion\n",
       "0    2017-w18            Acre           1    0.000228\n",
       "1    2017-w18         Alagoas           1    0.000228\n",
       "2    2017-w18           Amapa           1    0.000228\n",
       "3    2017-w18        Amazonas           6    0.001370\n",
       "4    2017-w18           Bahia          17    0.003880\n",
       "..        ...             ...         ...         ...\n",
       "110  2017-w22        Rondonia           1    0.000228\n",
       "111  2017-w22  Santa Catarina          11    0.002511\n",
       "112  2017-w22       Sao Paulo          50    0.011413\n",
       "113  2017-w22         Sergipe           1    0.000228\n",
       "114  2017-w22       Tocantins           3    0.000685\n",
       "\n",
       "[115 rows x 4 columns]"
      ]
     },
     "execution_count": 69,
     "metadata": {},
     "output_type": "execute_result"
    }
   ],
   "source": [
    "# Step 1: Calculate the size of each group (year_week, LocationName)\n",
    "group_sizes = df_2017_05_neg.groupby(['year_week', 'LocationName']).size().reset_index(name='group_size')\n",
    "\n",
    "# Step 2: Calculate the proportion of each group in the dataset\n",
    "total_rows = len(df_2017_05_neg)\n",
    "group_sizes['proportion'] = group_sizes['group_size'] / total_rows\n",
    "group_sizes"
   ]
  },
  {
   "cell_type": "code",
   "execution_count": 70,
   "id": "eccffc5e",
   "metadata": {},
   "outputs": [
    {
     "data": {
      "text/html": [
       "<div>\n",
       "<style scoped>\n",
       "    .dataframe tbody tr th:only-of-type {\n",
       "        vertical-align: middle;\n",
       "    }\n",
       "\n",
       "    .dataframe tbody tr th {\n",
       "        vertical-align: top;\n",
       "    }\n",
       "\n",
       "    .dataframe thead th {\n",
       "        text-align: right;\n",
       "    }\n",
       "</style>\n",
       "<table border=\"1\" class=\"dataframe\">\n",
       "  <thead>\n",
       "    <tr style=\"text-align: right;\">\n",
       "      <th></th>\n",
       "      <th>year_week</th>\n",
       "      <th>LocationName</th>\n",
       "      <th>group_size</th>\n",
       "      <th>proportion</th>\n",
       "      <th>sample_size</th>\n",
       "    </tr>\n",
       "  </thead>\n",
       "  <tbody>\n",
       "    <tr>\n",
       "      <th>0</th>\n",
       "      <td>2017-w18</td>\n",
       "      <td>Acre</td>\n",
       "      <td>1</td>\n",
       "      <td>0.000228</td>\n",
       "      <td>0</td>\n",
       "    </tr>\n",
       "    <tr>\n",
       "      <th>1</th>\n",
       "      <td>2017-w18</td>\n",
       "      <td>Alagoas</td>\n",
       "      <td>1</td>\n",
       "      <td>0.000228</td>\n",
       "      <td>0</td>\n",
       "    </tr>\n",
       "    <tr>\n",
       "      <th>2</th>\n",
       "      <td>2017-w18</td>\n",
       "      <td>Amapa</td>\n",
       "      <td>1</td>\n",
       "      <td>0.000228</td>\n",
       "      <td>0</td>\n",
       "    </tr>\n",
       "    <tr>\n",
       "      <th>3</th>\n",
       "      <td>2017-w18</td>\n",
       "      <td>Amazonas</td>\n",
       "      <td>6</td>\n",
       "      <td>0.001370</td>\n",
       "      <td>3</td>\n",
       "    </tr>\n",
       "    <tr>\n",
       "      <th>4</th>\n",
       "      <td>2017-w18</td>\n",
       "      <td>Bahia</td>\n",
       "      <td>17</td>\n",
       "      <td>0.003880</td>\n",
       "      <td>9</td>\n",
       "    </tr>\n",
       "    <tr>\n",
       "      <th>...</th>\n",
       "      <td>...</td>\n",
       "      <td>...</td>\n",
       "      <td>...</td>\n",
       "      <td>...</td>\n",
       "      <td>...</td>\n",
       "    </tr>\n",
       "    <tr>\n",
       "      <th>110</th>\n",
       "      <td>2017-w22</td>\n",
       "      <td>Rondonia</td>\n",
       "      <td>1</td>\n",
       "      <td>0.000228</td>\n",
       "      <td>0</td>\n",
       "    </tr>\n",
       "    <tr>\n",
       "      <th>111</th>\n",
       "      <td>2017-w22</td>\n",
       "      <td>Santa Catarina</td>\n",
       "      <td>11</td>\n",
       "      <td>0.002511</td>\n",
       "      <td>6</td>\n",
       "    </tr>\n",
       "    <tr>\n",
       "      <th>112</th>\n",
       "      <td>2017-w22</td>\n",
       "      <td>Sao Paulo</td>\n",
       "      <td>50</td>\n",
       "      <td>0.011413</td>\n",
       "      <td>27</td>\n",
       "    </tr>\n",
       "    <tr>\n",
       "      <th>113</th>\n",
       "      <td>2017-w22</td>\n",
       "      <td>Sergipe</td>\n",
       "      <td>1</td>\n",
       "      <td>0.000228</td>\n",
       "      <td>0</td>\n",
       "    </tr>\n",
       "    <tr>\n",
       "      <th>114</th>\n",
       "      <td>2017-w22</td>\n",
       "      <td>Tocantins</td>\n",
       "      <td>3</td>\n",
       "      <td>0.000685</td>\n",
       "      <td>1</td>\n",
       "    </tr>\n",
       "  </tbody>\n",
       "</table>\n",
       "<p>115 rows × 5 columns</p>\n",
       "</div>"
      ],
      "text/plain": [
       "    year_week    LocationName  group_size  proportion  sample_size\n",
       "0    2017-w18            Acre           1    0.000228            0\n",
       "1    2017-w18         Alagoas           1    0.000228            0\n",
       "2    2017-w18           Amapa           1    0.000228            0\n",
       "3    2017-w18        Amazonas           6    0.001370            3\n",
       "4    2017-w18           Bahia          17    0.003880            9\n",
       "..        ...             ...         ...         ...          ...\n",
       "110  2017-w22        Rondonia           1    0.000228            0\n",
       "111  2017-w22  Santa Catarina          11    0.002511            6\n",
       "112  2017-w22       Sao Paulo          50    0.011413           27\n",
       "113  2017-w22         Sergipe           1    0.000228            0\n",
       "114  2017-w22       Tocantins           3    0.000685            1\n",
       "\n",
       "[115 rows x 5 columns]"
      ]
     },
     "execution_count": 70,
     "metadata": {},
     "output_type": "execute_result"
    }
   ],
   "source": [
    "# Step 3: Define the target sample size\n",
    "target_sample_size = 2450\n",
    "\n",
    "# Step 4: Calculate the sample size for each group (based on its proportion)\n",
    "group_sizes['sample_size'] = np.floor(group_sizes['proportion'] * target_sample_size).astype(int)\n",
    "group_sizes"
   ]
  },
  {
   "cell_type": "code",
   "execution_count": 71,
   "id": "1f16b08e",
   "metadata": {},
   "outputs": [],
   "source": [
    "# Step 5: Merge this sample size information back to the original DataFrame\n",
    "df_2017_05_neg_sample_size = pd.merge(df_2017_05_neg, group_sizes[['year_week', 'LocationName', 'sample_size']], \n",
    "                               on=['year_week', 'LocationName'], how='left')"
   ]
  },
  {
   "cell_type": "code",
   "execution_count": 72,
   "id": "6ec4f741",
   "metadata": {},
   "outputs": [
    {
     "name": "stdout",
     "output_type": "stream",
     "text": [
      "Sampled 2399 rows.\n"
     ]
    }
   ],
   "source": [
    "# Step 6: Perform the stratified sampling\n",
    "df_2017_05_neg_sample = df_2017_05_neg_sample_size.groupby(['year_week', 'LocationName']).apply(\n",
    "    lambda group: group.sample(n=group['sample_size'].iloc[0], random_state=42)\n",
    ").reset_index(drop=True)\n",
    "\n",
    "# Step 7: Check the result\n",
    "print(f\"Sampled {len(df_2017_05_neg_sample)} rows.\")\n"
   ]
  },
  {
   "cell_type": "code",
   "execution_count": 73,
   "id": "b861921a",
   "metadata": {},
   "outputs": [],
   "source": [
    "text_gpt_2017_05_neg = '\\n'.join(df_2017_05_neg_sample['text'].astype(str))"
   ]
  },
  {
   "cell_type": "markdown",
   "id": "a71ff6b0",
   "metadata": {},
   "source": [
    "### Prompts and loops"
   ]
  },
  {
   "cell_type": "code",
   "execution_count": 74,
   "id": "6e6a91ed",
   "metadata": {},
   "outputs": [],
   "source": [
    "prompt_5 = prompt_raw.replace('TWEETS', text_gpt_2017_05_neg)"
   ]
  },
  {
   "cell_type": "code",
   "execution_count": 75,
   "id": "14941427",
   "metadata": {
    "scrolled": false
   },
   "outputs": [],
   "source": [
    "response = openai.ChatCompletion.create(\n",
    "    model=\"gpt-4o-mini\",  \n",
    "    messages = [\n",
    "        {\"role\": \"user\", \"content\": prompt_5}\n",
    "    ],\n",
    "    max_tokens=400,  # Maximum number of tokens in the response\n",
    "    temperature=0.7  # Controls the randomness of the output\n",
    ")"
   ]
  },
  {
   "cell_type": "code",
   "execution_count": 76,
   "id": "d34b2bcc",
   "metadata": {},
   "outputs": [
    {
     "data": {
      "text/plain": [
       "\"The sentences express a strong dislike and fear of vaccinations, particularly the flu shot. Many individuals report experiencing pain and discomfort in their arms after receiving the vaccine, often feeling ill or expressing concern about potential side effects. Some mention instances of being forced to get vaccinated by family members, while others express skepticism about the efficacy of vaccines, linking them to negative health outcomes. There is also mention of anti-vaccine sentiments and a growing movement against vaccinations, which raises public health concerns. Overall, there's a mix of humor, frustration, and anxiety surrounding the topic of vaccinations.\""
      ]
     },
     "execution_count": 76,
     "metadata": {},
     "output_type": "execute_result"
    }
   ],
   "source": [
    "response.choices[0].message.content"
   ]
  },
  {
   "cell_type": "code",
   "execution_count": 77,
   "id": "f8f67be8",
   "metadata": {},
   "outputs": [],
   "source": [
    "#summary = []\n",
    "#dataset = []"
   ]
  },
  {
   "cell_type": "code",
   "execution_count": 78,
   "id": "0eb94e56",
   "metadata": {},
   "outputs": [],
   "source": [
    "dataset.append(\"2017_05_negitive\")"
   ]
  },
  {
   "cell_type": "code",
   "execution_count": 79,
   "id": "c9c68d6a",
   "metadata": {},
   "outputs": [],
   "source": [
    "summary.append(response.choices[0].message.content)"
   ]
  },
  {
   "cell_type": "code",
   "execution_count": 80,
   "id": "5716826b",
   "metadata": {
    "tags": []
   },
   "outputs": [
    {
     "name": "stdout",
     "output_type": "stream",
     "text": [
      "<class 'pandas.core.frame.DataFrame'>\n",
      "RangeIndex: 5 entries, 0 to 4\n",
      "Data columns (total 2 columns):\n",
      " #   Column   Non-Null Count  Dtype \n",
      "---  ------   --------------  ----- \n",
      " 0   dataset  5 non-null      object\n",
      " 1   summary  5 non-null      object\n",
      "dtypes: object(2)\n",
      "memory usage: 208.0+ bytes\n"
     ]
    }
   ],
   "source": [
    "df_2017_neg = pd.DataFrame(list(zip(dataset, summary)),\n",
    "                            columns = ['dataset', 'summary'])\n",
    "df_2017_neg.info()"
   ]
  },
  {
   "cell_type": "code",
   "execution_count": 81,
   "id": "8acf11d6",
   "metadata": {},
   "outputs": [
    {
     "data": {
      "text/html": [
       "<div>\n",
       "<style scoped>\n",
       "    .dataframe tbody tr th:only-of-type {\n",
       "        vertical-align: middle;\n",
       "    }\n",
       "\n",
       "    .dataframe tbody tr th {\n",
       "        vertical-align: top;\n",
       "    }\n",
       "\n",
       "    .dataframe thead th {\n",
       "        text-align: right;\n",
       "    }\n",
       "</style>\n",
       "<table border=\"1\" class=\"dataframe\">\n",
       "  <thead>\n",
       "    <tr style=\"text-align: right;\">\n",
       "      <th></th>\n",
       "      <th>dataset</th>\n",
       "      <th>summary</th>\n",
       "    </tr>\n",
       "  </thead>\n",
       "  <tbody>\n",
       "    <tr>\n",
       "      <th>0</th>\n",
       "      <td>2017_01_negitive</td>\n",
       "      <td>The passages mainly express frustration and fe...</td>\n",
       "    </tr>\n",
       "    <tr>\n",
       "      <th>1</th>\n",
       "      <td>2017_02_negitive</td>\n",
       "      <td>The sentences express a common frustration and...</td>\n",
       "    </tr>\n",
       "    <tr>\n",
       "      <th>2</th>\n",
       "      <td>2017_03_negitive</td>\n",
       "      <td>The texts express widespread anxiety, frustrat...</td>\n",
       "    </tr>\n",
       "    <tr>\n",
       "      <th>3</th>\n",
       "      <td>2017_04_negitive</td>\n",
       "      <td>The texts reflect widespread anxiety and negat...</td>\n",
       "    </tr>\n",
       "    <tr>\n",
       "      <th>4</th>\n",
       "      <td>2017_05_negitive</td>\n",
       "      <td>The sentences express a strong dislike and fea...</td>\n",
       "    </tr>\n",
       "  </tbody>\n",
       "</table>\n",
       "</div>"
      ],
      "text/plain": [
       "            dataset                                            summary\n",
       "0  2017_01_negitive  The passages mainly express frustration and fe...\n",
       "1  2017_02_negitive  The sentences express a common frustration and...\n",
       "2  2017_03_negitive  The texts express widespread anxiety, frustrat...\n",
       "3  2017_04_negitive  The texts reflect widespread anxiety and negat...\n",
       "4  2017_05_negitive  The sentences express a strong dislike and fea..."
      ]
     },
     "execution_count": 81,
     "metadata": {},
     "output_type": "execute_result"
    }
   ],
   "source": [
    "df_2017_neg.tail(14)"
   ]
  },
  {
   "cell_type": "code",
   "execution_count": 82,
   "id": "2c2b96e9",
   "metadata": {},
   "outputs": [
    {
     "data": {
      "text/plain": [
       "<OpenAIObject chat.completion id=chatcmpl-AUcbADoT9d98ROXQS6AjWn8ys1PJ8 at 0x25418b5f4f0> JSON: {\n",
       "  \"choices\": [\n",
       "    {\n",
       "      \"finish_reason\": \"stop\",\n",
       "      \"index\": 0,\n",
       "      \"logprobs\": null,\n",
       "      \"message\": {\n",
       "        \"content\": \"The sentences express a strong dislike and fear of vaccinations, particularly the flu shot. Many individuals report experiencing pain and discomfort in their arms after receiving the vaccine, often feeling ill or expressing concern about potential side effects. Some mention instances of being forced to get vaccinated by family members, while others express skepticism about the efficacy of vaccines, linking them to negative health outcomes. There is also mention of anti-vaccine sentiments and a growing movement against vaccinations, which raises public health concerns. Overall, there's a mix of humor, frustration, and anxiety surrounding the topic of vaccinations.\",\n",
       "        \"refusal\": null,\n",
       "        \"role\": \"assistant\"\n",
       "      }\n",
       "    }\n",
       "  ],\n",
       "  \"created\": 1731861576,\n",
       "  \"id\": \"chatcmpl-AUcbADoT9d98ROXQS6AjWn8ys1PJ8\",\n",
       "  \"model\": \"gpt-4o-mini-2024-07-18\",\n",
       "  \"object\": \"chat.completion\",\n",
       "  \"system_fingerprint\": \"fp_0ba0d124f1\",\n",
       "  \"usage\": {\n",
       "    \"completion_tokens\": 112,\n",
       "    \"completion_tokens_details\": {\n",
       "      \"accepted_prediction_tokens\": 0,\n",
       "      \"audio_tokens\": 0,\n",
       "      \"reasoning_tokens\": 0,\n",
       "      \"rejected_prediction_tokens\": 0\n",
       "    },\n",
       "    \"prompt_tokens\": 51367,\n",
       "    \"prompt_tokens_details\": {\n",
       "      \"audio_tokens\": 0,\n",
       "      \"cached_tokens\": 0\n",
       "    },\n",
       "    \"total_tokens\": 51479\n",
       "  }\n",
       "}"
      ]
     },
     "execution_count": 82,
     "metadata": {},
     "output_type": "execute_result"
    }
   ],
   "source": [
    "response"
   ]
  },
  {
   "cell_type": "markdown",
   "id": "6756d045",
   "metadata": {},
   "source": [
    "## June"
   ]
  },
  {
   "cell_type": "code",
   "execution_count": 83,
   "id": "e994e0a9",
   "metadata": {
    "scrolled": true,
    "tags": []
   },
   "outputs": [
    {
     "name": "stdout",
     "output_type": "stream",
     "text": [
      "<class 'pandas.core.frame.DataFrame'>\n",
      "RangeIndex: 3254 entries, 0 to 3253\n",
      "Data columns (total 53 columns):\n",
      " #   Column                  Non-Null Count  Dtype  \n",
      "---  ------                  --------------  -----  \n",
      " 0   index                   3254 non-null   int64  \n",
      " 1   LocationCode            3254 non-null   object \n",
      " 2   LocationName            3254 non-null   object \n",
      " 3   StatesCode              3254 non-null   object \n",
      " 4   ...4                    3254 non-null   int64  \n",
      " 5   id                      3254 non-null   float64\n",
      " 6   text                    3254 non-null   object \n",
      " 7   label                   3254 non-null   object \n",
      " 8   in_reply_to_status_id   286 non-null    float64\n",
      " 9   in_reply_to_user_id     295 non-null    float64\n",
      " 10  quoted_user_id          76 non-null     float64\n",
      " 11  quoted_status_id        76 non-null     float64\n",
      " 12  retweeted_user_id       534 non-null    float64\n",
      " 13  retweeted_status_id     534 non-null    float64\n",
      " 14  created_at              3254 non-null   object \n",
      " 15  entities.user_mentions  812 non-null    object \n",
      " 16  user.id                 3254 non-null   float64\n",
      " 17  user.screen_name        3254 non-null   object \n",
      " 18  user.name               3254 non-null   object \n",
      " 19  user.description        2962 non-null   object \n",
      " 20  user.timezone           0 non-null      float64\n",
      " 21  user.location           3191 non-null   object \n",
      " 22  user.num_followers      3254 non-null   int64  \n",
      " 23  user.num_following      3254 non-null   int64  \n",
      " 24  user.created_at         3254 non-null   object \n",
      " 25  user.statuses_count     3254 non-null   int64  \n",
      " 26  user.is_verified        3254 non-null   bool   \n",
      " 27  lang                    3254 non-null   object \n",
      " 28  token_count             3254 non-null   int64  \n",
      " 29  is_retweet              3254 non-null   bool   \n",
      " 30  has_quote               3254 non-null   bool   \n",
      " 31  is_reply                3254 non-null   bool   \n",
      " 32  contains_keywords       3254 non-null   bool   \n",
      " 33  longitude               3254 non-null   float64\n",
      " 34  latitude                3254 non-null   float64\n",
      " 35  country_code            3254 non-null   object \n",
      " 36  geoname_id              2770 non-null   float64\n",
      " 37  location_type           3254 non-null   object \n",
      " 38  geo_type                3254 non-null   int64  \n",
      " 39  region                  3254 non-null   object \n",
      " 40  subregion               3254 non-null   object \n",
      " 41  num_quotes              3254 non-null   int64  \n",
      " 42  num_replies             3254 non-null   int64  \n",
      " 43  num_retweets            3254 non-null   int64  \n",
      " 44  sent_gpt                3254 non-null   object \n",
      " 45  gpt_sent_presence       3254 non-null   int64  \n",
      " 46  cleaned_text_lem        3254 non-null   object \n",
      " 47  cleaned_text            3254 non-null   object \n",
      " 48  month                   3254 non-null   int64  \n",
      " 49  year                    3254 non-null   int64  \n",
      " 50  week                    3254 non-null   int64  \n",
      " 51  year_month              3254 non-null   object \n",
      " 52  year_week               3254 non-null   object \n",
      "dtypes: bool(5), float64(12), int64(14), object(22)\n",
      "memory usage: 1.2+ MB\n"
     ]
    }
   ],
   "source": [
    "# Get monthly data\n",
    "df_2017_06_neg = pd.read_csv('../data/local/df_neg_2017-06.csv').reset_index()\n",
    "df_2017_06_neg.info()"
   ]
  },
  {
   "cell_type": "markdown",
   "id": "57bf0007",
   "metadata": {},
   "source": [
    "### Representative sample based on week and location"
   ]
  },
  {
   "cell_type": "code",
   "execution_count": 84,
   "id": "59042a70",
   "metadata": {},
   "outputs": [
    {
     "data": {
      "text/html": [
       "<div>\n",
       "<style scoped>\n",
       "    .dataframe tbody tr th:only-of-type {\n",
       "        vertical-align: middle;\n",
       "    }\n",
       "\n",
       "    .dataframe tbody tr th {\n",
       "        vertical-align: top;\n",
       "    }\n",
       "\n",
       "    .dataframe thead th {\n",
       "        text-align: right;\n",
       "    }\n",
       "</style>\n",
       "<table border=\"1\" class=\"dataframe\">\n",
       "  <thead>\n",
       "    <tr style=\"text-align: right;\">\n",
       "      <th></th>\n",
       "      <th>year_week</th>\n",
       "      <th>LocationName</th>\n",
       "      <th>group_size</th>\n",
       "      <th>proportion</th>\n",
       "    </tr>\n",
       "  </thead>\n",
       "  <tbody>\n",
       "    <tr>\n",
       "      <th>0</th>\n",
       "      <td>2017-w22</td>\n",
       "      <td>Acre</td>\n",
       "      <td>1</td>\n",
       "      <td>0.000307</td>\n",
       "    </tr>\n",
       "    <tr>\n",
       "      <th>1</th>\n",
       "      <td>2017-w22</td>\n",
       "      <td>Alagoas</td>\n",
       "      <td>3</td>\n",
       "      <td>0.000922</td>\n",
       "    </tr>\n",
       "    <tr>\n",
       "      <th>2</th>\n",
       "      <td>2017-w22</td>\n",
       "      <td>Amapa</td>\n",
       "      <td>3</td>\n",
       "      <td>0.000922</td>\n",
       "    </tr>\n",
       "    <tr>\n",
       "      <th>3</th>\n",
       "      <td>2017-w22</td>\n",
       "      <td>Amazonas</td>\n",
       "      <td>7</td>\n",
       "      <td>0.002151</td>\n",
       "    </tr>\n",
       "    <tr>\n",
       "      <th>4</th>\n",
       "      <td>2017-w22</td>\n",
       "      <td>Bahia</td>\n",
       "      <td>11</td>\n",
       "      <td>0.003380</td>\n",
       "    </tr>\n",
       "    <tr>\n",
       "      <th>...</th>\n",
       "      <td>...</td>\n",
       "      <td>...</td>\n",
       "      <td>...</td>\n",
       "      <td>...</td>\n",
       "    </tr>\n",
       "    <tr>\n",
       "      <th>110</th>\n",
       "      <td>2017-w26</td>\n",
       "      <td>Rio Grande Do Sul</td>\n",
       "      <td>29</td>\n",
       "      <td>0.008912</td>\n",
       "    </tr>\n",
       "    <tr>\n",
       "      <th>111</th>\n",
       "      <td>2017-w26</td>\n",
       "      <td>Roraima</td>\n",
       "      <td>1</td>\n",
       "      <td>0.000307</td>\n",
       "    </tr>\n",
       "    <tr>\n",
       "      <th>112</th>\n",
       "      <td>2017-w26</td>\n",
       "      <td>Santa Catarina</td>\n",
       "      <td>6</td>\n",
       "      <td>0.001844</td>\n",
       "    </tr>\n",
       "    <tr>\n",
       "      <th>113</th>\n",
       "      <td>2017-w26</td>\n",
       "      <td>Sao Paulo</td>\n",
       "      <td>69</td>\n",
       "      <td>0.021205</td>\n",
       "    </tr>\n",
       "    <tr>\n",
       "      <th>114</th>\n",
       "      <td>2017-w26</td>\n",
       "      <td>Tocantins</td>\n",
       "      <td>1</td>\n",
       "      <td>0.000307</td>\n",
       "    </tr>\n",
       "  </tbody>\n",
       "</table>\n",
       "<p>115 rows × 4 columns</p>\n",
       "</div>"
      ],
      "text/plain": [
       "    year_week       LocationName  group_size  proportion\n",
       "0    2017-w22               Acre           1    0.000307\n",
       "1    2017-w22            Alagoas           3    0.000922\n",
       "2    2017-w22              Amapa           3    0.000922\n",
       "3    2017-w22           Amazonas           7    0.002151\n",
       "4    2017-w22              Bahia          11    0.003380\n",
       "..        ...                ...         ...         ...\n",
       "110  2017-w26  Rio Grande Do Sul          29    0.008912\n",
       "111  2017-w26            Roraima           1    0.000307\n",
       "112  2017-w26     Santa Catarina           6    0.001844\n",
       "113  2017-w26          Sao Paulo          69    0.021205\n",
       "114  2017-w26          Tocantins           1    0.000307\n",
       "\n",
       "[115 rows x 4 columns]"
      ]
     },
     "execution_count": 84,
     "metadata": {},
     "output_type": "execute_result"
    }
   ],
   "source": [
    "# Step 1: Calculate the size of each group (year_week, LocationName)\n",
    "group_sizes = df_2017_06_neg.groupby(['year_week', 'LocationName']).size().reset_index(name='group_size')\n",
    "\n",
    "# Step 2: Calculate the proportion of each group in the dataset\n",
    "total_rows = len(df_2017_06_neg)\n",
    "group_sizes['proportion'] = group_sizes['group_size'] / total_rows\n",
    "group_sizes"
   ]
  },
  {
   "cell_type": "code",
   "execution_count": 85,
   "id": "371bde15",
   "metadata": {},
   "outputs": [
    {
     "data": {
      "text/html": [
       "<div>\n",
       "<style scoped>\n",
       "    .dataframe tbody tr th:only-of-type {\n",
       "        vertical-align: middle;\n",
       "    }\n",
       "\n",
       "    .dataframe tbody tr th {\n",
       "        vertical-align: top;\n",
       "    }\n",
       "\n",
       "    .dataframe thead th {\n",
       "        text-align: right;\n",
       "    }\n",
       "</style>\n",
       "<table border=\"1\" class=\"dataframe\">\n",
       "  <thead>\n",
       "    <tr style=\"text-align: right;\">\n",
       "      <th></th>\n",
       "      <th>year_week</th>\n",
       "      <th>LocationName</th>\n",
       "      <th>group_size</th>\n",
       "      <th>proportion</th>\n",
       "      <th>sample_size</th>\n",
       "    </tr>\n",
       "  </thead>\n",
       "  <tbody>\n",
       "    <tr>\n",
       "      <th>0</th>\n",
       "      <td>2017-w22</td>\n",
       "      <td>Acre</td>\n",
       "      <td>1</td>\n",
       "      <td>0.000307</td>\n",
       "      <td>0</td>\n",
       "    </tr>\n",
       "    <tr>\n",
       "      <th>1</th>\n",
       "      <td>2017-w22</td>\n",
       "      <td>Alagoas</td>\n",
       "      <td>3</td>\n",
       "      <td>0.000922</td>\n",
       "      <td>2</td>\n",
       "    </tr>\n",
       "    <tr>\n",
       "      <th>2</th>\n",
       "      <td>2017-w22</td>\n",
       "      <td>Amapa</td>\n",
       "      <td>3</td>\n",
       "      <td>0.000922</td>\n",
       "      <td>2</td>\n",
       "    </tr>\n",
       "    <tr>\n",
       "      <th>3</th>\n",
       "      <td>2017-w22</td>\n",
       "      <td>Amazonas</td>\n",
       "      <td>7</td>\n",
       "      <td>0.002151</td>\n",
       "      <td>5</td>\n",
       "    </tr>\n",
       "    <tr>\n",
       "      <th>4</th>\n",
       "      <td>2017-w22</td>\n",
       "      <td>Bahia</td>\n",
       "      <td>11</td>\n",
       "      <td>0.003380</td>\n",
       "      <td>8</td>\n",
       "    </tr>\n",
       "    <tr>\n",
       "      <th>...</th>\n",
       "      <td>...</td>\n",
       "      <td>...</td>\n",
       "      <td>...</td>\n",
       "      <td>...</td>\n",
       "      <td>...</td>\n",
       "    </tr>\n",
       "    <tr>\n",
       "      <th>110</th>\n",
       "      <td>2017-w26</td>\n",
       "      <td>Rio Grande Do Sul</td>\n",
       "      <td>29</td>\n",
       "      <td>0.008912</td>\n",
       "      <td>21</td>\n",
       "    </tr>\n",
       "    <tr>\n",
       "      <th>111</th>\n",
       "      <td>2017-w26</td>\n",
       "      <td>Roraima</td>\n",
       "      <td>1</td>\n",
       "      <td>0.000307</td>\n",
       "      <td>0</td>\n",
       "    </tr>\n",
       "    <tr>\n",
       "      <th>112</th>\n",
       "      <td>2017-w26</td>\n",
       "      <td>Santa Catarina</td>\n",
       "      <td>6</td>\n",
       "      <td>0.001844</td>\n",
       "      <td>4</td>\n",
       "    </tr>\n",
       "    <tr>\n",
       "      <th>113</th>\n",
       "      <td>2017-w26</td>\n",
       "      <td>Sao Paulo</td>\n",
       "      <td>69</td>\n",
       "      <td>0.021205</td>\n",
       "      <td>51</td>\n",
       "    </tr>\n",
       "    <tr>\n",
       "      <th>114</th>\n",
       "      <td>2017-w26</td>\n",
       "      <td>Tocantins</td>\n",
       "      <td>1</td>\n",
       "      <td>0.000307</td>\n",
       "      <td>0</td>\n",
       "    </tr>\n",
       "  </tbody>\n",
       "</table>\n",
       "<p>115 rows × 5 columns</p>\n",
       "</div>"
      ],
      "text/plain": [
       "    year_week       LocationName  group_size  proportion  sample_size\n",
       "0    2017-w22               Acre           1    0.000307            0\n",
       "1    2017-w22            Alagoas           3    0.000922            2\n",
       "2    2017-w22              Amapa           3    0.000922            2\n",
       "3    2017-w22           Amazonas           7    0.002151            5\n",
       "4    2017-w22              Bahia          11    0.003380            8\n",
       "..        ...                ...         ...         ...          ...\n",
       "110  2017-w26  Rio Grande Do Sul          29    0.008912           21\n",
       "111  2017-w26            Roraima           1    0.000307            0\n",
       "112  2017-w26     Santa Catarina           6    0.001844            4\n",
       "113  2017-w26          Sao Paulo          69    0.021205           51\n",
       "114  2017-w26          Tocantins           1    0.000307            0\n",
       "\n",
       "[115 rows x 5 columns]"
      ]
     },
     "execution_count": 85,
     "metadata": {},
     "output_type": "execute_result"
    }
   ],
   "source": [
    "# Step 3: Define the target sample size\n",
    "target_sample_size = 2450\n",
    "\n",
    "# Step 4: Calculate the sample size for each group (based on its proportion)\n",
    "group_sizes['sample_size'] = np.floor(group_sizes['proportion'] * target_sample_size).astype(int)\n",
    "group_sizes"
   ]
  },
  {
   "cell_type": "code",
   "execution_count": 86,
   "id": "63e28728",
   "metadata": {},
   "outputs": [],
   "source": [
    "# Step 5: Merge this sample size information back to the original DataFrame\n",
    "df_2017_06_neg_sample_size = pd.merge(df_2017_06_neg, group_sizes[['year_week', 'LocationName', 'sample_size']], \n",
    "                               on=['year_week', 'LocationName'], how='left')"
   ]
  },
  {
   "cell_type": "code",
   "execution_count": 87,
   "id": "d929406c",
   "metadata": {},
   "outputs": [
    {
     "name": "stdout",
     "output_type": "stream",
     "text": [
      "Sampled 2396 rows.\n"
     ]
    }
   ],
   "source": [
    "# Step 6: Perform the stratified sampling\n",
    "df_2017_06_neg_sample = df_2017_06_neg_sample_size.groupby(['year_week', 'LocationName']).apply(\n",
    "    lambda group: group.sample(n=group['sample_size'].iloc[0], random_state=42)\n",
    ").reset_index(drop=True)\n",
    "\n",
    "# Step 7: Check the result\n",
    "print(f\"Sampled {len(df_2017_06_neg_sample)} rows.\")\n"
   ]
  },
  {
   "cell_type": "code",
   "execution_count": 88,
   "id": "e9aa1932",
   "metadata": {},
   "outputs": [],
   "source": [
    "text_gpt_2017_06_neg = '\\n'.join(df_2017_06_neg_sample['text'].astype(str))"
   ]
  },
  {
   "cell_type": "markdown",
   "id": "1f2f44e4",
   "metadata": {},
   "source": [
    "### Prompts and loops"
   ]
  },
  {
   "cell_type": "code",
   "execution_count": 89,
   "id": "2faa24e8",
   "metadata": {},
   "outputs": [],
   "source": [
    "prompt_6 = prompt_raw.replace('TWEETS', text_gpt_2017_06_neg)"
   ]
  },
  {
   "cell_type": "code",
   "execution_count": 90,
   "id": "bc6051bc",
   "metadata": {
    "scrolled": false
   },
   "outputs": [],
   "source": [
    "response = openai.ChatCompletion.create(\n",
    "    model=\"gpt-4o-mini\",  \n",
    "    messages = [\n",
    "        {\"role\": \"user\", \"content\": prompt_6}\n",
    "    ],\n",
    "    max_tokens=400,  # Maximum number of tokens in the response\n",
    "    temperature=0.7  # Controls the randomness of the output\n",
    ")"
   ]
  },
  {
   "cell_type": "code",
   "execution_count": 91,
   "id": "71cfa37a",
   "metadata": {},
   "outputs": [
    {
     "data": {
      "text/plain": [
       "'The texts discuss various aspects of vaccination, particularly against flu and diseases like measles and hepatitis. They highlight public health campaigns, reactions to vaccines (including pain and illness), and concerns about vaccine safety and efficacy. There are also mentions of anti-vaccine sentiments and individual experiences with vaccination, including fear and skepticism. Overall, the discourse reflects a mix of support for vaccination and criticism of its perceived side effects and safety.'"
      ]
     },
     "execution_count": 91,
     "metadata": {},
     "output_type": "execute_result"
    }
   ],
   "source": [
    "response.choices[0].message.content"
   ]
  },
  {
   "cell_type": "code",
   "execution_count": 92,
   "id": "e05c6917",
   "metadata": {},
   "outputs": [],
   "source": [
    "#summary = []\n",
    "#dataset = []"
   ]
  },
  {
   "cell_type": "code",
   "execution_count": 93,
   "id": "a222eb1f",
   "metadata": {},
   "outputs": [],
   "source": [
    "dataset.append(\"2017_06_negitive\")"
   ]
  },
  {
   "cell_type": "code",
   "execution_count": 94,
   "id": "16cc4629",
   "metadata": {},
   "outputs": [],
   "source": [
    "summary.append(response.choices[0].message.content)"
   ]
  },
  {
   "cell_type": "code",
   "execution_count": 95,
   "id": "06ae8742",
   "metadata": {
    "tags": []
   },
   "outputs": [
    {
     "name": "stdout",
     "output_type": "stream",
     "text": [
      "<class 'pandas.core.frame.DataFrame'>\n",
      "RangeIndex: 6 entries, 0 to 5\n",
      "Data columns (total 2 columns):\n",
      " #   Column   Non-Null Count  Dtype \n",
      "---  ------   --------------  ----- \n",
      " 0   dataset  6 non-null      object\n",
      " 1   summary  6 non-null      object\n",
      "dtypes: object(2)\n",
      "memory usage: 224.0+ bytes\n"
     ]
    }
   ],
   "source": [
    "df_2017_neg = pd.DataFrame(list(zip(dataset, summary)),\n",
    "                            columns = ['dataset', 'summary'])\n",
    "df_2017_neg.info()"
   ]
  },
  {
   "cell_type": "code",
   "execution_count": 96,
   "id": "116b4d78",
   "metadata": {},
   "outputs": [
    {
     "data": {
      "text/html": [
       "<div>\n",
       "<style scoped>\n",
       "    .dataframe tbody tr th:only-of-type {\n",
       "        vertical-align: middle;\n",
       "    }\n",
       "\n",
       "    .dataframe tbody tr th {\n",
       "        vertical-align: top;\n",
       "    }\n",
       "\n",
       "    .dataframe thead th {\n",
       "        text-align: right;\n",
       "    }\n",
       "</style>\n",
       "<table border=\"1\" class=\"dataframe\">\n",
       "  <thead>\n",
       "    <tr style=\"text-align: right;\">\n",
       "      <th></th>\n",
       "      <th>dataset</th>\n",
       "      <th>summary</th>\n",
       "    </tr>\n",
       "  </thead>\n",
       "  <tbody>\n",
       "    <tr>\n",
       "      <th>0</th>\n",
       "      <td>2017_01_negitive</td>\n",
       "      <td>The passages mainly express frustration and fe...</td>\n",
       "    </tr>\n",
       "    <tr>\n",
       "      <th>1</th>\n",
       "      <td>2017_02_negitive</td>\n",
       "      <td>The sentences express a common frustration and...</td>\n",
       "    </tr>\n",
       "    <tr>\n",
       "      <th>2</th>\n",
       "      <td>2017_03_negitive</td>\n",
       "      <td>The texts express widespread anxiety, frustrat...</td>\n",
       "    </tr>\n",
       "    <tr>\n",
       "      <th>3</th>\n",
       "      <td>2017_04_negitive</td>\n",
       "      <td>The texts reflect widespread anxiety and negat...</td>\n",
       "    </tr>\n",
       "    <tr>\n",
       "      <th>4</th>\n",
       "      <td>2017_05_negitive</td>\n",
       "      <td>The sentences express a strong dislike and fea...</td>\n",
       "    </tr>\n",
       "    <tr>\n",
       "      <th>5</th>\n",
       "      <td>2017_06_negitive</td>\n",
       "      <td>The texts discuss various aspects of vaccinati...</td>\n",
       "    </tr>\n",
       "  </tbody>\n",
       "</table>\n",
       "</div>"
      ],
      "text/plain": [
       "            dataset                                            summary\n",
       "0  2017_01_negitive  The passages mainly express frustration and fe...\n",
       "1  2017_02_negitive  The sentences express a common frustration and...\n",
       "2  2017_03_negitive  The texts express widespread anxiety, frustrat...\n",
       "3  2017_04_negitive  The texts reflect widespread anxiety and negat...\n",
       "4  2017_05_negitive  The sentences express a strong dislike and fea...\n",
       "5  2017_06_negitive  The texts discuss various aspects of vaccinati..."
      ]
     },
     "execution_count": 96,
     "metadata": {},
     "output_type": "execute_result"
    }
   ],
   "source": [
    "df_2017_neg.tail(14)"
   ]
  },
  {
   "cell_type": "code",
   "execution_count": 97,
   "id": "7668e23f",
   "metadata": {},
   "outputs": [
    {
     "data": {
      "text/plain": [
       "<OpenAIObject chat.completion id=chatcmpl-AUcbIvsj2ePcolMhGXEj10WdkXrCM at 0x2541933b770> JSON: {\n",
       "  \"choices\": [\n",
       "    {\n",
       "      \"finish_reason\": \"stop\",\n",
       "      \"index\": 0,\n",
       "      \"logprobs\": null,\n",
       "      \"message\": {\n",
       "        \"content\": \"The texts discuss various aspects of vaccination, particularly against flu and diseases like measles and hepatitis. They highlight public health campaigns, reactions to vaccines (including pain and illness), and concerns about vaccine safety and efficacy. There are also mentions of anti-vaccine sentiments and individual experiences with vaccination, including fear and skepticism. Overall, the discourse reflects a mix of support for vaccination and criticism of its perceived side effects and safety.\",\n",
       "        \"refusal\": null,\n",
       "        \"role\": \"assistant\"\n",
       "      }\n",
       "    }\n",
       "  ],\n",
       "  \"created\": 1731861584,\n",
       "  \"id\": \"chatcmpl-AUcbIvsj2ePcolMhGXEj10WdkXrCM\",\n",
       "  \"model\": \"gpt-4o-mini-2024-07-18\",\n",
       "  \"object\": \"chat.completion\",\n",
       "  \"system_fingerprint\": \"fp_0ba0d124f1\",\n",
       "  \"usage\": {\n",
       "    \"completion_tokens\": 83,\n",
       "    \"completion_tokens_details\": {\n",
       "      \"accepted_prediction_tokens\": 0,\n",
       "      \"audio_tokens\": 0,\n",
       "      \"reasoning_tokens\": 0,\n",
       "      \"rejected_prediction_tokens\": 0\n",
       "    },\n",
       "    \"prompt_tokens\": 45521,\n",
       "    \"prompt_tokens_details\": {\n",
       "      \"audio_tokens\": 0,\n",
       "      \"cached_tokens\": 0\n",
       "    },\n",
       "    \"total_tokens\": 45604\n",
       "  }\n",
       "}"
      ]
     },
     "execution_count": 97,
     "metadata": {},
     "output_type": "execute_result"
    }
   ],
   "source": [
    "response"
   ]
  },
  {
   "cell_type": "markdown",
   "id": "1b5c5a9b",
   "metadata": {},
   "source": [
    "## July"
   ]
  },
  {
   "cell_type": "code",
   "execution_count": 98,
   "id": "5096b4ba",
   "metadata": {
    "scrolled": true,
    "tags": []
   },
   "outputs": [
    {
     "name": "stdout",
     "output_type": "stream",
     "text": [
      "<class 'pandas.core.frame.DataFrame'>\n",
      "RangeIndex: 1556 entries, 0 to 1555\n",
      "Data columns (total 53 columns):\n",
      " #   Column                  Non-Null Count  Dtype  \n",
      "---  ------                  --------------  -----  \n",
      " 0   index                   1556 non-null   int64  \n",
      " 1   LocationCode            1556 non-null   object \n",
      " 2   LocationName            1556 non-null   object \n",
      " 3   StatesCode              1556 non-null   object \n",
      " 4   ...4                    1556 non-null   int64  \n",
      " 5   id                      1556 non-null   float64\n",
      " 6   text                    1556 non-null   object \n",
      " 7   label                   1556 non-null   object \n",
      " 8   in_reply_to_status_id   152 non-null    float64\n",
      " 9   in_reply_to_user_id     159 non-null    float64\n",
      " 10  quoted_user_id          76 non-null     float64\n",
      " 11  quoted_status_id        76 non-null     float64\n",
      " 12  retweeted_user_id       257 non-null    float64\n",
      " 13  retweeted_status_id     257 non-null    float64\n",
      " 14  created_at              1556 non-null   object \n",
      " 15  entities.user_mentions  408 non-null    object \n",
      " 16  user.id                 1556 non-null   float64\n",
      " 17  user.screen_name        1556 non-null   object \n",
      " 18  user.name               1556 non-null   object \n",
      " 19  user.description        1409 non-null   object \n",
      " 20  user.timezone           0 non-null      float64\n",
      " 21  user.location           1519 non-null   object \n",
      " 22  user.num_followers      1556 non-null   int64  \n",
      " 23  user.num_following      1556 non-null   int64  \n",
      " 24  user.created_at         1556 non-null   object \n",
      " 25  user.statuses_count     1556 non-null   int64  \n",
      " 26  user.is_verified        1556 non-null   bool   \n",
      " 27  lang                    1556 non-null   object \n",
      " 28  token_count             1556 non-null   int64  \n",
      " 29  is_retweet              1556 non-null   bool   \n",
      " 30  has_quote               1556 non-null   bool   \n",
      " 31  is_reply                1556 non-null   bool   \n",
      " 32  contains_keywords       1556 non-null   bool   \n",
      " 33  longitude               1556 non-null   float64\n",
      " 34  latitude                1556 non-null   float64\n",
      " 35  country_code            1556 non-null   object \n",
      " 36  geoname_id              1329 non-null   float64\n",
      " 37  location_type           1556 non-null   object \n",
      " 38  geo_type                1556 non-null   int64  \n",
      " 39  region                  1556 non-null   object \n",
      " 40  subregion               1556 non-null   object \n",
      " 41  num_quotes              1556 non-null   int64  \n",
      " 42  num_replies             1556 non-null   int64  \n",
      " 43  num_retweets            1556 non-null   int64  \n",
      " 44  sent_gpt                1556 non-null   object \n",
      " 45  gpt_sent_presence       1556 non-null   int64  \n",
      " 46  cleaned_text_lem        1556 non-null   object \n",
      " 47  cleaned_text            1556 non-null   object \n",
      " 48  month                   1556 non-null   int64  \n",
      " 49  year                    1556 non-null   int64  \n",
      " 50  week                    1556 non-null   int64  \n",
      " 51  year_month              1556 non-null   object \n",
      " 52  year_week               1556 non-null   object \n",
      "dtypes: bool(5), float64(12), int64(14), object(22)\n",
      "memory usage: 591.2+ KB\n"
     ]
    }
   ],
   "source": [
    "# Get monthly data\n",
    "df_2017_07_neg = pd.read_csv('../data/local/df_neg_2017-07.csv').reset_index()\n",
    "df_2017_07_neg.info()"
   ]
  },
  {
   "cell_type": "markdown",
   "id": "bdd1752b",
   "metadata": {},
   "source": [
    "### Representative sample based on week and location"
   ]
  },
  {
   "cell_type": "code",
   "execution_count": 99,
   "id": "e62e79b6",
   "metadata": {},
   "outputs": [
    {
     "data": {
      "text/html": [
       "<div>\n",
       "<style scoped>\n",
       "    .dataframe tbody tr th:only-of-type {\n",
       "        vertical-align: middle;\n",
       "    }\n",
       "\n",
       "    .dataframe tbody tr th {\n",
       "        vertical-align: top;\n",
       "    }\n",
       "\n",
       "    .dataframe thead th {\n",
       "        text-align: right;\n",
       "    }\n",
       "</style>\n",
       "<table border=\"1\" class=\"dataframe\">\n",
       "  <thead>\n",
       "    <tr style=\"text-align: right;\">\n",
       "      <th></th>\n",
       "      <th>year_week</th>\n",
       "      <th>LocationName</th>\n",
       "      <th>group_size</th>\n",
       "      <th>proportion</th>\n",
       "    </tr>\n",
       "  </thead>\n",
       "  <tbody>\n",
       "    <tr>\n",
       "      <th>0</th>\n",
       "      <td>2017-w26</td>\n",
       "      <td>Acre</td>\n",
       "      <td>1</td>\n",
       "      <td>0.000643</td>\n",
       "    </tr>\n",
       "    <tr>\n",
       "      <th>1</th>\n",
       "      <td>2017-w26</td>\n",
       "      <td>Bahia</td>\n",
       "      <td>4</td>\n",
       "      <td>0.002571</td>\n",
       "    </tr>\n",
       "    <tr>\n",
       "      <th>2</th>\n",
       "      <td>2017-w26</td>\n",
       "      <td>Ceara</td>\n",
       "      <td>1</td>\n",
       "      <td>0.000643</td>\n",
       "    </tr>\n",
       "    <tr>\n",
       "      <th>3</th>\n",
       "      <td>2017-w26</td>\n",
       "      <td>Distrito Federal</td>\n",
       "      <td>2</td>\n",
       "      <td>0.001285</td>\n",
       "    </tr>\n",
       "    <tr>\n",
       "      <th>4</th>\n",
       "      <td>2017-w26</td>\n",
       "      <td>Espirito Santo</td>\n",
       "      <td>2</td>\n",
       "      <td>0.001285</td>\n",
       "    </tr>\n",
       "    <tr>\n",
       "      <th>...</th>\n",
       "      <td>...</td>\n",
       "      <td>...</td>\n",
       "      <td>...</td>\n",
       "      <td>...</td>\n",
       "    </tr>\n",
       "    <tr>\n",
       "      <th>105</th>\n",
       "      <td>2017-w31</td>\n",
       "      <td>Parana</td>\n",
       "      <td>2</td>\n",
       "      <td>0.001285</td>\n",
       "    </tr>\n",
       "    <tr>\n",
       "      <th>106</th>\n",
       "      <td>2017-w31</td>\n",
       "      <td>Pernambuco</td>\n",
       "      <td>2</td>\n",
       "      <td>0.001285</td>\n",
       "    </tr>\n",
       "    <tr>\n",
       "      <th>107</th>\n",
       "      <td>2017-w31</td>\n",
       "      <td>Rio Grande Do Sul</td>\n",
       "      <td>6</td>\n",
       "      <td>0.003856</td>\n",
       "    </tr>\n",
       "    <tr>\n",
       "      <th>108</th>\n",
       "      <td>2017-w31</td>\n",
       "      <td>Santa Catarina</td>\n",
       "      <td>1</td>\n",
       "      <td>0.000643</td>\n",
       "    </tr>\n",
       "    <tr>\n",
       "      <th>109</th>\n",
       "      <td>2017-w31</td>\n",
       "      <td>Sao Paulo</td>\n",
       "      <td>5</td>\n",
       "      <td>0.003213</td>\n",
       "    </tr>\n",
       "  </tbody>\n",
       "</table>\n",
       "<p>110 rows × 4 columns</p>\n",
       "</div>"
      ],
      "text/plain": [
       "    year_week       LocationName  group_size  proportion\n",
       "0    2017-w26               Acre           1    0.000643\n",
       "1    2017-w26              Bahia           4    0.002571\n",
       "2    2017-w26              Ceara           1    0.000643\n",
       "3    2017-w26   Distrito Federal           2    0.001285\n",
       "4    2017-w26     Espirito Santo           2    0.001285\n",
       "..        ...                ...         ...         ...\n",
       "105  2017-w31             Parana           2    0.001285\n",
       "106  2017-w31         Pernambuco           2    0.001285\n",
       "107  2017-w31  Rio Grande Do Sul           6    0.003856\n",
       "108  2017-w31     Santa Catarina           1    0.000643\n",
       "109  2017-w31          Sao Paulo           5    0.003213\n",
       "\n",
       "[110 rows x 4 columns]"
      ]
     },
     "execution_count": 99,
     "metadata": {},
     "output_type": "execute_result"
    }
   ],
   "source": [
    "# Step 1: Calculate the size of each group (year_week, LocationName)\n",
    "group_sizes = df_2017_07_neg.groupby(['year_week', 'LocationName']).size().reset_index(name='group_size')\n",
    "\n",
    "# Step 2: Calculate the proportion of each group in the dataset\n",
    "total_rows = len(df_2017_07_neg)\n",
    "group_sizes['proportion'] = group_sizes['group_size'] / total_rows\n",
    "group_sizes"
   ]
  },
  {
   "cell_type": "code",
   "execution_count": 100,
   "id": "97b60716",
   "metadata": {},
   "outputs": [
    {
     "data": {
      "text/html": [
       "<div>\n",
       "<style scoped>\n",
       "    .dataframe tbody tr th:only-of-type {\n",
       "        vertical-align: middle;\n",
       "    }\n",
       "\n",
       "    .dataframe tbody tr th {\n",
       "        vertical-align: top;\n",
       "    }\n",
       "\n",
       "    .dataframe thead th {\n",
       "        text-align: right;\n",
       "    }\n",
       "</style>\n",
       "<table border=\"1\" class=\"dataframe\">\n",
       "  <thead>\n",
       "    <tr style=\"text-align: right;\">\n",
       "      <th></th>\n",
       "      <th>year_week</th>\n",
       "      <th>LocationName</th>\n",
       "      <th>group_size</th>\n",
       "      <th>proportion</th>\n",
       "      <th>sample_size</th>\n",
       "    </tr>\n",
       "  </thead>\n",
       "  <tbody>\n",
       "    <tr>\n",
       "      <th>0</th>\n",
       "      <td>2017-w26</td>\n",
       "      <td>Acre</td>\n",
       "      <td>1</td>\n",
       "      <td>0.000643</td>\n",
       "      <td>1</td>\n",
       "    </tr>\n",
       "    <tr>\n",
       "      <th>1</th>\n",
       "      <td>2017-w26</td>\n",
       "      <td>Bahia</td>\n",
       "      <td>4</td>\n",
       "      <td>0.002571</td>\n",
       "      <td>6</td>\n",
       "    </tr>\n",
       "    <tr>\n",
       "      <th>2</th>\n",
       "      <td>2017-w26</td>\n",
       "      <td>Ceara</td>\n",
       "      <td>1</td>\n",
       "      <td>0.000643</td>\n",
       "      <td>1</td>\n",
       "    </tr>\n",
       "    <tr>\n",
       "      <th>3</th>\n",
       "      <td>2017-w26</td>\n",
       "      <td>Distrito Federal</td>\n",
       "      <td>2</td>\n",
       "      <td>0.001285</td>\n",
       "      <td>3</td>\n",
       "    </tr>\n",
       "    <tr>\n",
       "      <th>4</th>\n",
       "      <td>2017-w26</td>\n",
       "      <td>Espirito Santo</td>\n",
       "      <td>2</td>\n",
       "      <td>0.001285</td>\n",
       "      <td>3</td>\n",
       "    </tr>\n",
       "    <tr>\n",
       "      <th>...</th>\n",
       "      <td>...</td>\n",
       "      <td>...</td>\n",
       "      <td>...</td>\n",
       "      <td>...</td>\n",
       "      <td>...</td>\n",
       "    </tr>\n",
       "    <tr>\n",
       "      <th>105</th>\n",
       "      <td>2017-w31</td>\n",
       "      <td>Parana</td>\n",
       "      <td>2</td>\n",
       "      <td>0.001285</td>\n",
       "      <td>3</td>\n",
       "    </tr>\n",
       "    <tr>\n",
       "      <th>106</th>\n",
       "      <td>2017-w31</td>\n",
       "      <td>Pernambuco</td>\n",
       "      <td>2</td>\n",
       "      <td>0.001285</td>\n",
       "      <td>3</td>\n",
       "    </tr>\n",
       "    <tr>\n",
       "      <th>107</th>\n",
       "      <td>2017-w31</td>\n",
       "      <td>Rio Grande Do Sul</td>\n",
       "      <td>6</td>\n",
       "      <td>0.003856</td>\n",
       "      <td>9</td>\n",
       "    </tr>\n",
       "    <tr>\n",
       "      <th>108</th>\n",
       "      <td>2017-w31</td>\n",
       "      <td>Santa Catarina</td>\n",
       "      <td>1</td>\n",
       "      <td>0.000643</td>\n",
       "      <td>1</td>\n",
       "    </tr>\n",
       "    <tr>\n",
       "      <th>109</th>\n",
       "      <td>2017-w31</td>\n",
       "      <td>Sao Paulo</td>\n",
       "      <td>5</td>\n",
       "      <td>0.003213</td>\n",
       "      <td>7</td>\n",
       "    </tr>\n",
       "  </tbody>\n",
       "</table>\n",
       "<p>110 rows × 5 columns</p>\n",
       "</div>"
      ],
      "text/plain": [
       "    year_week       LocationName  group_size  proportion  sample_size\n",
       "0    2017-w26               Acre           1    0.000643            1\n",
       "1    2017-w26              Bahia           4    0.002571            6\n",
       "2    2017-w26              Ceara           1    0.000643            1\n",
       "3    2017-w26   Distrito Federal           2    0.001285            3\n",
       "4    2017-w26     Espirito Santo           2    0.001285            3\n",
       "..        ...                ...         ...         ...          ...\n",
       "105  2017-w31             Parana           2    0.001285            3\n",
       "106  2017-w31         Pernambuco           2    0.001285            3\n",
       "107  2017-w31  Rio Grande Do Sul           6    0.003856            9\n",
       "108  2017-w31     Santa Catarina           1    0.000643            1\n",
       "109  2017-w31          Sao Paulo           5    0.003213            7\n",
       "\n",
       "[110 rows x 5 columns]"
      ]
     },
     "execution_count": 100,
     "metadata": {},
     "output_type": "execute_result"
    }
   ],
   "source": [
    "# Step 3: Define the target sample size\n",
    "target_sample_size = 2450\n",
    "\n",
    "# Step 4: Calculate the sample size for each group (based on its proportion)\n",
    "group_sizes['sample_size'] = np.floor(group_sizes['proportion'] * target_sample_size).astype(int)\n",
    "group_sizes"
   ]
  },
  {
   "cell_type": "code",
   "execution_count": 101,
   "id": "4c991d80",
   "metadata": {},
   "outputs": [],
   "source": [
    "# Step 5: Merge this sample size information back to the original DataFrame\n",
    "df_2017_07_neg_sample_size = pd.merge(df_2017_07_neg, group_sizes[['year_week', 'LocationName', 'sample_size']], \n",
    "                               on=['year_week', 'LocationName'], how='left')"
   ]
  },
  {
   "cell_type": "code",
   "execution_count": 104,
   "id": "deab4678",
   "metadata": {},
   "outputs": [
    {
     "name": "stdout",
     "output_type": "stream",
     "text": [
      "Sampled 1556 rows.\n"
     ]
    }
   ],
   "source": [
    "# Step 6: Perform the stratified sampling\n",
    "#df_2017_07_neg_sample = df_2017_07_neg_sample_size.groupby(['year_week', 'LocationName']).apply(\n",
    "#    lambda group: group.sample(n=group['sample_size'].iloc[0], random_state=42)\n",
    "#).reset_index(drop=True)\n",
    "df_2017_07_neg_sample = df_2017_07_neg\n",
    "# Step 7: Check the result\n",
    "print(f\"Sampled {len(df_2017_07_neg_sample)} rows.\")\n"
   ]
  },
  {
   "cell_type": "code",
   "execution_count": 105,
   "id": "33656dea",
   "metadata": {},
   "outputs": [],
   "source": [
    "text_gpt_2017_07_neg = '\\n'.join(df_2017_07_neg_sample['text'].astype(str))"
   ]
  },
  {
   "cell_type": "markdown",
   "id": "92d7e0ea",
   "metadata": {},
   "source": [
    "### Prompts and loops"
   ]
  },
  {
   "cell_type": "code",
   "execution_count": 106,
   "id": "349334a9",
   "metadata": {},
   "outputs": [],
   "source": [
    "prompt_7 = prompt_raw.replace('TWEETS', text_gpt_2017_07_neg)"
   ]
  },
  {
   "cell_type": "code",
   "execution_count": 107,
   "id": "ff46a08b",
   "metadata": {
    "scrolled": false
   },
   "outputs": [],
   "source": [
    "response = openai.ChatCompletion.create(\n",
    "    model=\"gpt-4o-mini\",  \n",
    "    messages = [\n",
    "        {\"role\": \"user\", \"content\": prompt_7}\n",
    "    ],\n",
    "    max_tokens=400,  # Maximum number of tokens in the response\n",
    "    temperature=0.7  # Controls the randomness of the output\n",
    ")"
   ]
  },
  {
   "cell_type": "code",
   "execution_count": 108,
   "id": "6723c1d4",
   "metadata": {},
   "outputs": [
    {
     "data": {
      "text/plain": [
       "'The text discusses various challenges regarding vaccination, particularly the HPV vaccine in Brazil. It highlights prejudice, misinformation, and low demand for vaccines, which worry health authorities. There are also mentions of personal experiences with vaccine reactions, criticisms of anti-vaccine movements, and the need for public awareness.'"
      ]
     },
     "execution_count": 108,
     "metadata": {},
     "output_type": "execute_result"
    }
   ],
   "source": [
    "response.choices[0].message.content"
   ]
  },
  {
   "cell_type": "code",
   "execution_count": 109,
   "id": "d3081509",
   "metadata": {},
   "outputs": [],
   "source": [
    "#summary = []\n",
    "#dataset = []"
   ]
  },
  {
   "cell_type": "code",
   "execution_count": 110,
   "id": "1ba0dacb",
   "metadata": {},
   "outputs": [],
   "source": [
    "dataset.append(\"2017_07_negitive\")"
   ]
  },
  {
   "cell_type": "code",
   "execution_count": 111,
   "id": "cadb0bde",
   "metadata": {},
   "outputs": [],
   "source": [
    "summary.append(response.choices[0].message.content)"
   ]
  },
  {
   "cell_type": "code",
   "execution_count": 112,
   "id": "b80e1e4e",
   "metadata": {
    "tags": []
   },
   "outputs": [
    {
     "name": "stdout",
     "output_type": "stream",
     "text": [
      "<class 'pandas.core.frame.DataFrame'>\n",
      "RangeIndex: 7 entries, 0 to 6\n",
      "Data columns (total 2 columns):\n",
      " #   Column   Non-Null Count  Dtype \n",
      "---  ------   --------------  ----- \n",
      " 0   dataset  7 non-null      object\n",
      " 1   summary  7 non-null      object\n",
      "dtypes: object(2)\n",
      "memory usage: 240.0+ bytes\n"
     ]
    }
   ],
   "source": [
    "df_2017_neg = pd.DataFrame(list(zip(dataset, summary)),\n",
    "                            columns = ['dataset', 'summary'])\n",
    "df_2017_neg.info()"
   ]
  },
  {
   "cell_type": "code",
   "execution_count": 113,
   "id": "de211f05",
   "metadata": {},
   "outputs": [
    {
     "data": {
      "text/html": [
       "<div>\n",
       "<style scoped>\n",
       "    .dataframe tbody tr th:only-of-type {\n",
       "        vertical-align: middle;\n",
       "    }\n",
       "\n",
       "    .dataframe tbody tr th {\n",
       "        vertical-align: top;\n",
       "    }\n",
       "\n",
       "    .dataframe thead th {\n",
       "        text-align: right;\n",
       "    }\n",
       "</style>\n",
       "<table border=\"1\" class=\"dataframe\">\n",
       "  <thead>\n",
       "    <tr style=\"text-align: right;\">\n",
       "      <th></th>\n",
       "      <th>dataset</th>\n",
       "      <th>summary</th>\n",
       "    </tr>\n",
       "  </thead>\n",
       "  <tbody>\n",
       "    <tr>\n",
       "      <th>0</th>\n",
       "      <td>2017_01_negitive</td>\n",
       "      <td>The passages mainly express frustration and fe...</td>\n",
       "    </tr>\n",
       "    <tr>\n",
       "      <th>1</th>\n",
       "      <td>2017_02_negitive</td>\n",
       "      <td>The sentences express a common frustration and...</td>\n",
       "    </tr>\n",
       "    <tr>\n",
       "      <th>2</th>\n",
       "      <td>2017_03_negitive</td>\n",
       "      <td>The texts express widespread anxiety, frustrat...</td>\n",
       "    </tr>\n",
       "    <tr>\n",
       "      <th>3</th>\n",
       "      <td>2017_04_negitive</td>\n",
       "      <td>The texts reflect widespread anxiety and negat...</td>\n",
       "    </tr>\n",
       "    <tr>\n",
       "      <th>4</th>\n",
       "      <td>2017_05_negitive</td>\n",
       "      <td>The sentences express a strong dislike and fea...</td>\n",
       "    </tr>\n",
       "    <tr>\n",
       "      <th>5</th>\n",
       "      <td>2017_06_negitive</td>\n",
       "      <td>The texts discuss various aspects of vaccinati...</td>\n",
       "    </tr>\n",
       "    <tr>\n",
       "      <th>6</th>\n",
       "      <td>2017_07_negitive</td>\n",
       "      <td>The text discusses various challenges regardin...</td>\n",
       "    </tr>\n",
       "  </tbody>\n",
       "</table>\n",
       "</div>"
      ],
      "text/plain": [
       "            dataset                                            summary\n",
       "0  2017_01_negitive  The passages mainly express frustration and fe...\n",
       "1  2017_02_negitive  The sentences express a common frustration and...\n",
       "2  2017_03_negitive  The texts express widespread anxiety, frustrat...\n",
       "3  2017_04_negitive  The texts reflect widespread anxiety and negat...\n",
       "4  2017_05_negitive  The sentences express a strong dislike and fea...\n",
       "5  2017_06_negitive  The texts discuss various aspects of vaccinati...\n",
       "6  2017_07_negitive  The text discusses various challenges regardin..."
      ]
     },
     "execution_count": 113,
     "metadata": {},
     "output_type": "execute_result"
    }
   ],
   "source": [
    "df_2017_neg.tail(14)"
   ]
  },
  {
   "cell_type": "code",
   "execution_count": 114,
   "id": "19075d74",
   "metadata": {},
   "outputs": [
    {
     "data": {
      "text/plain": [
       "<OpenAIObject chat.completion id=chatcmpl-AUccHkRKGspUpRZLdTrnHwe1DwQXR at 0x254195bd9a0> JSON: {\n",
       "  \"choices\": [\n",
       "    {\n",
       "      \"finish_reason\": \"stop\",\n",
       "      \"index\": 0,\n",
       "      \"logprobs\": null,\n",
       "      \"message\": {\n",
       "        \"content\": \"The text discusses various challenges regarding vaccination, particularly the HPV vaccine in Brazil. It highlights prejudice, misinformation, and low demand for vaccines, which worry health authorities. There are also mentions of personal experiences with vaccine reactions, criticisms of anti-vaccine movements, and the need for public awareness.\",\n",
       "        \"refusal\": null,\n",
       "        \"role\": \"assistant\"\n",
       "      }\n",
       "    }\n",
       "  ],\n",
       "  \"created\": 1731861645,\n",
       "  \"id\": \"chatcmpl-AUccHkRKGspUpRZLdTrnHwe1DwQXR\",\n",
       "  \"model\": \"gpt-4o-mini-2024-07-18\",\n",
       "  \"object\": \"chat.completion\",\n",
       "  \"system_fingerprint\": \"fp_0ba0d124f1\",\n",
       "  \"usage\": {\n",
       "    \"completion_tokens\": 57,\n",
       "    \"completion_tokens_details\": {\n",
       "      \"accepted_prediction_tokens\": 0,\n",
       "      \"audio_tokens\": 0,\n",
       "      \"reasoning_tokens\": 0,\n",
       "      \"rejected_prediction_tokens\": 0\n",
       "    },\n",
       "    \"prompt_tokens\": 31080,\n",
       "    \"prompt_tokens_details\": {\n",
       "      \"audio_tokens\": 0,\n",
       "      \"cached_tokens\": 0\n",
       "    },\n",
       "    \"total_tokens\": 31137\n",
       "  }\n",
       "}"
      ]
     },
     "execution_count": 114,
     "metadata": {},
     "output_type": "execute_result"
    }
   ],
   "source": [
    "response"
   ]
  },
  {
   "cell_type": "markdown",
   "id": "9d083d2a",
   "metadata": {},
   "source": [
    "## August"
   ]
  },
  {
   "cell_type": "code",
   "execution_count": 115,
   "id": "0ed2a943",
   "metadata": {
    "scrolled": true,
    "tags": []
   },
   "outputs": [
    {
     "name": "stdout",
     "output_type": "stream",
     "text": [
      "<class 'pandas.core.frame.DataFrame'>\n",
      "RangeIndex: 4108 entries, 0 to 4107\n",
      "Data columns (total 53 columns):\n",
      " #   Column                  Non-Null Count  Dtype  \n",
      "---  ------                  --------------  -----  \n",
      " 0   index                   4108 non-null   int64  \n",
      " 1   LocationCode            4108 non-null   object \n",
      " 2   LocationName            4108 non-null   object \n",
      " 3   StatesCode              4108 non-null   object \n",
      " 4   ...4                    4108 non-null   int64  \n",
      " 5   id                      4108 non-null   float64\n",
      " 6   text                    4108 non-null   object \n",
      " 7   label                   4108 non-null   object \n",
      " 8   in_reply_to_status_id   184 non-null    float64\n",
      " 9   in_reply_to_user_id     193 non-null    float64\n",
      " 10  quoted_user_id          40 non-null     float64\n",
      " 11  quoted_status_id        40 non-null     float64\n",
      " 12  retweeted_user_id       2483 non-null   float64\n",
      " 13  retweeted_status_id     2483 non-null   float64\n",
      " 14  created_at              4108 non-null   object \n",
      " 15  entities.user_mentions  2678 non-null   object \n",
      " 16  user.id                 4108 non-null   float64\n",
      " 17  user.screen_name        4108 non-null   object \n",
      " 18  user.name               4108 non-null   object \n",
      " 19  user.description        3725 non-null   object \n",
      " 20  user.timezone           0 non-null      float64\n",
      " 21  user.location           4052 non-null   object \n",
      " 22  user.num_followers      4108 non-null   int64  \n",
      " 23  user.num_following      4108 non-null   int64  \n",
      " 24  user.created_at         4108 non-null   object \n",
      " 25  user.statuses_count     4108 non-null   int64  \n",
      " 26  user.is_verified        4108 non-null   bool   \n",
      " 27  lang                    4108 non-null   object \n",
      " 28  token_count             4108 non-null   int64  \n",
      " 29  is_retweet              4108 non-null   bool   \n",
      " 30  has_quote               4108 non-null   bool   \n",
      " 31  is_reply                4108 non-null   bool   \n",
      " 32  contains_keywords       4108 non-null   bool   \n",
      " 33  longitude               4108 non-null   float64\n",
      " 34  latitude                4108 non-null   float64\n",
      " 35  country_code            4108 non-null   object \n",
      " 36  geoname_id              3809 non-null   float64\n",
      " 37  location_type           4108 non-null   object \n",
      " 38  geo_type                4108 non-null   int64  \n",
      " 39  region                  4108 non-null   object \n",
      " 40  subregion               4108 non-null   object \n",
      " 41  num_quotes              4108 non-null   int64  \n",
      " 42  num_replies             4108 non-null   int64  \n",
      " 43  num_retweets            4108 non-null   int64  \n",
      " 44  sent_gpt                4108 non-null   object \n",
      " 45  gpt_sent_presence       4108 non-null   int64  \n",
      " 46  cleaned_text_lem        4108 non-null   object \n",
      " 47  cleaned_text            4108 non-null   object \n",
      " 48  month                   4108 non-null   int64  \n",
      " 49  year                    4108 non-null   int64  \n",
      " 50  week                    4108 non-null   int64  \n",
      " 51  year_month              4108 non-null   object \n",
      " 52  year_week               4108 non-null   object \n",
      "dtypes: bool(5), float64(12), int64(14), object(22)\n",
      "memory usage: 1.5+ MB\n"
     ]
    }
   ],
   "source": [
    "# Get monthly data\n",
    "df_2017_08_neg = pd.read_csv('../data/local/df_neg_2017-08.csv').reset_index()\n",
    "df_2017_08_neg.info()"
   ]
  },
  {
   "cell_type": "markdown",
   "id": "3c035145",
   "metadata": {},
   "source": [
    "### Representative sample based on week and location"
   ]
  },
  {
   "cell_type": "code",
   "execution_count": 116,
   "id": "ebf072ee",
   "metadata": {},
   "outputs": [
    {
     "data": {
      "text/html": [
       "<div>\n",
       "<style scoped>\n",
       "    .dataframe tbody tr th:only-of-type {\n",
       "        vertical-align: middle;\n",
       "    }\n",
       "\n",
       "    .dataframe tbody tr th {\n",
       "        vertical-align: top;\n",
       "    }\n",
       "\n",
       "    .dataframe thead th {\n",
       "        text-align: right;\n",
       "    }\n",
       "</style>\n",
       "<table border=\"1\" class=\"dataframe\">\n",
       "  <thead>\n",
       "    <tr style=\"text-align: right;\">\n",
       "      <th></th>\n",
       "      <th>year_week</th>\n",
       "      <th>LocationName</th>\n",
       "      <th>group_size</th>\n",
       "      <th>proportion</th>\n",
       "    </tr>\n",
       "  </thead>\n",
       "  <tbody>\n",
       "    <tr>\n",
       "      <th>0</th>\n",
       "      <td>2017-w31</td>\n",
       "      <td>Alagoas</td>\n",
       "      <td>2</td>\n",
       "      <td>0.000487</td>\n",
       "    </tr>\n",
       "    <tr>\n",
       "      <th>1</th>\n",
       "      <td>2017-w31</td>\n",
       "      <td>Amazonas</td>\n",
       "      <td>2</td>\n",
       "      <td>0.000487</td>\n",
       "    </tr>\n",
       "    <tr>\n",
       "      <th>2</th>\n",
       "      <td>2017-w31</td>\n",
       "      <td>Bahia</td>\n",
       "      <td>4</td>\n",
       "      <td>0.000974</td>\n",
       "    </tr>\n",
       "    <tr>\n",
       "      <th>3</th>\n",
       "      <td>2017-w31</td>\n",
       "      <td>Ceara</td>\n",
       "      <td>1</td>\n",
       "      <td>0.000243</td>\n",
       "    </tr>\n",
       "    <tr>\n",
       "      <th>4</th>\n",
       "      <td>2017-w31</td>\n",
       "      <td>Distrito Federal</td>\n",
       "      <td>6</td>\n",
       "      <td>0.001461</td>\n",
       "    </tr>\n",
       "    <tr>\n",
       "      <th>...</th>\n",
       "      <td>...</td>\n",
       "      <td>...</td>\n",
       "      <td>...</td>\n",
       "      <td>...</td>\n",
       "    </tr>\n",
       "    <tr>\n",
       "      <th>108</th>\n",
       "      <td>2017-w35</td>\n",
       "      <td>Rio Grande Do Sul</td>\n",
       "      <td>92</td>\n",
       "      <td>0.022395</td>\n",
       "    </tr>\n",
       "    <tr>\n",
       "      <th>109</th>\n",
       "      <td>2017-w35</td>\n",
       "      <td>Rondonia</td>\n",
       "      <td>1</td>\n",
       "      <td>0.000243</td>\n",
       "    </tr>\n",
       "    <tr>\n",
       "      <th>110</th>\n",
       "      <td>2017-w35</td>\n",
       "      <td>Santa Catarina</td>\n",
       "      <td>4</td>\n",
       "      <td>0.000974</td>\n",
       "    </tr>\n",
       "    <tr>\n",
       "      <th>111</th>\n",
       "      <td>2017-w35</td>\n",
       "      <td>Sao Paulo</td>\n",
       "      <td>61</td>\n",
       "      <td>0.014849</td>\n",
       "    </tr>\n",
       "    <tr>\n",
       "      <th>112</th>\n",
       "      <td>2017-w35</td>\n",
       "      <td>Sergipe</td>\n",
       "      <td>4</td>\n",
       "      <td>0.000974</td>\n",
       "    </tr>\n",
       "  </tbody>\n",
       "</table>\n",
       "<p>113 rows × 4 columns</p>\n",
       "</div>"
      ],
      "text/plain": [
       "    year_week       LocationName  group_size  proportion\n",
       "0    2017-w31            Alagoas           2    0.000487\n",
       "1    2017-w31           Amazonas           2    0.000487\n",
       "2    2017-w31              Bahia           4    0.000974\n",
       "3    2017-w31              Ceara           1    0.000243\n",
       "4    2017-w31   Distrito Federal           6    0.001461\n",
       "..        ...                ...         ...         ...\n",
       "108  2017-w35  Rio Grande Do Sul          92    0.022395\n",
       "109  2017-w35           Rondonia           1    0.000243\n",
       "110  2017-w35     Santa Catarina           4    0.000974\n",
       "111  2017-w35          Sao Paulo          61    0.014849\n",
       "112  2017-w35            Sergipe           4    0.000974\n",
       "\n",
       "[113 rows x 4 columns]"
      ]
     },
     "execution_count": 116,
     "metadata": {},
     "output_type": "execute_result"
    }
   ],
   "source": [
    "# Step 1: Calculate the size of each group (year_week, LocationName)\n",
    "group_sizes = df_2017_08_neg.groupby(['year_week', 'LocationName']).size().reset_index(name='group_size')\n",
    "\n",
    "# Step 2: Calculate the proportion of each group in the dataset\n",
    "total_rows = len(df_2017_08_neg)\n",
    "group_sizes['proportion'] = group_sizes['group_size'] / total_rows\n",
    "group_sizes"
   ]
  },
  {
   "cell_type": "code",
   "execution_count": 117,
   "id": "c3bc6232",
   "metadata": {},
   "outputs": [
    {
     "data": {
      "text/html": [
       "<div>\n",
       "<style scoped>\n",
       "    .dataframe tbody tr th:only-of-type {\n",
       "        vertical-align: middle;\n",
       "    }\n",
       "\n",
       "    .dataframe tbody tr th {\n",
       "        vertical-align: top;\n",
       "    }\n",
       "\n",
       "    .dataframe thead th {\n",
       "        text-align: right;\n",
       "    }\n",
       "</style>\n",
       "<table border=\"1\" class=\"dataframe\">\n",
       "  <thead>\n",
       "    <tr style=\"text-align: right;\">\n",
       "      <th></th>\n",
       "      <th>year_week</th>\n",
       "      <th>LocationName</th>\n",
       "      <th>group_size</th>\n",
       "      <th>proportion</th>\n",
       "      <th>sample_size</th>\n",
       "    </tr>\n",
       "  </thead>\n",
       "  <tbody>\n",
       "    <tr>\n",
       "      <th>0</th>\n",
       "      <td>2017-w31</td>\n",
       "      <td>Alagoas</td>\n",
       "      <td>2</td>\n",
       "      <td>0.000487</td>\n",
       "      <td>1</td>\n",
       "    </tr>\n",
       "    <tr>\n",
       "      <th>1</th>\n",
       "      <td>2017-w31</td>\n",
       "      <td>Amazonas</td>\n",
       "      <td>2</td>\n",
       "      <td>0.000487</td>\n",
       "      <td>1</td>\n",
       "    </tr>\n",
       "    <tr>\n",
       "      <th>2</th>\n",
       "      <td>2017-w31</td>\n",
       "      <td>Bahia</td>\n",
       "      <td>4</td>\n",
       "      <td>0.000974</td>\n",
       "      <td>2</td>\n",
       "    </tr>\n",
       "    <tr>\n",
       "      <th>3</th>\n",
       "      <td>2017-w31</td>\n",
       "      <td>Ceara</td>\n",
       "      <td>1</td>\n",
       "      <td>0.000243</td>\n",
       "      <td>0</td>\n",
       "    </tr>\n",
       "    <tr>\n",
       "      <th>4</th>\n",
       "      <td>2017-w31</td>\n",
       "      <td>Distrito Federal</td>\n",
       "      <td>6</td>\n",
       "      <td>0.001461</td>\n",
       "      <td>3</td>\n",
       "    </tr>\n",
       "    <tr>\n",
       "      <th>...</th>\n",
       "      <td>...</td>\n",
       "      <td>...</td>\n",
       "      <td>...</td>\n",
       "      <td>...</td>\n",
       "      <td>...</td>\n",
       "    </tr>\n",
       "    <tr>\n",
       "      <th>108</th>\n",
       "      <td>2017-w35</td>\n",
       "      <td>Rio Grande Do Sul</td>\n",
       "      <td>92</td>\n",
       "      <td>0.022395</td>\n",
       "      <td>54</td>\n",
       "    </tr>\n",
       "    <tr>\n",
       "      <th>109</th>\n",
       "      <td>2017-w35</td>\n",
       "      <td>Rondonia</td>\n",
       "      <td>1</td>\n",
       "      <td>0.000243</td>\n",
       "      <td>0</td>\n",
       "    </tr>\n",
       "    <tr>\n",
       "      <th>110</th>\n",
       "      <td>2017-w35</td>\n",
       "      <td>Santa Catarina</td>\n",
       "      <td>4</td>\n",
       "      <td>0.000974</td>\n",
       "      <td>2</td>\n",
       "    </tr>\n",
       "    <tr>\n",
       "      <th>111</th>\n",
       "      <td>2017-w35</td>\n",
       "      <td>Sao Paulo</td>\n",
       "      <td>61</td>\n",
       "      <td>0.014849</td>\n",
       "      <td>36</td>\n",
       "    </tr>\n",
       "    <tr>\n",
       "      <th>112</th>\n",
       "      <td>2017-w35</td>\n",
       "      <td>Sergipe</td>\n",
       "      <td>4</td>\n",
       "      <td>0.000974</td>\n",
       "      <td>2</td>\n",
       "    </tr>\n",
       "  </tbody>\n",
       "</table>\n",
       "<p>113 rows × 5 columns</p>\n",
       "</div>"
      ],
      "text/plain": [
       "    year_week       LocationName  group_size  proportion  sample_size\n",
       "0    2017-w31            Alagoas           2    0.000487            1\n",
       "1    2017-w31           Amazonas           2    0.000487            1\n",
       "2    2017-w31              Bahia           4    0.000974            2\n",
       "3    2017-w31              Ceara           1    0.000243            0\n",
       "4    2017-w31   Distrito Federal           6    0.001461            3\n",
       "..        ...                ...         ...         ...          ...\n",
       "108  2017-w35  Rio Grande Do Sul          92    0.022395           54\n",
       "109  2017-w35           Rondonia           1    0.000243            0\n",
       "110  2017-w35     Santa Catarina           4    0.000974            2\n",
       "111  2017-w35          Sao Paulo          61    0.014849           36\n",
       "112  2017-w35            Sergipe           4    0.000974            2\n",
       "\n",
       "[113 rows x 5 columns]"
      ]
     },
     "execution_count": 117,
     "metadata": {},
     "output_type": "execute_result"
    }
   ],
   "source": [
    "# Step 3: Define the target sample size\n",
    "target_sample_size = 2450\n",
    "\n",
    "# Step 4: Calculate the sample size for each group (based on its proportion)\n",
    "group_sizes['sample_size'] = np.floor(group_sizes['proportion'] * target_sample_size).astype(int)\n",
    "group_sizes"
   ]
  },
  {
   "cell_type": "code",
   "execution_count": 118,
   "id": "2f55ef03",
   "metadata": {},
   "outputs": [],
   "source": [
    "# Step 5: Merge this sample size information back to the original DataFrame\n",
    "df_2017_08_neg_sample_size = pd.merge(df_2017_08_neg, group_sizes[['year_week', 'LocationName', 'sample_size']], \n",
    "                               on=['year_week', 'LocationName'], how='left')"
   ]
  },
  {
   "cell_type": "code",
   "execution_count": 119,
   "id": "2aa2083a",
   "metadata": {},
   "outputs": [
    {
     "name": "stdout",
     "output_type": "stream",
     "text": [
      "Sampled 2387 rows.\n"
     ]
    }
   ],
   "source": [
    "# Step 6: Perform the stratified sampling\n",
    "df_2017_08_neg_sample = df_2017_08_neg_sample_size.groupby(['year_week', 'LocationName']).apply(\n",
    "    lambda group: group.sample(n=group['sample_size'].iloc[0], random_state=42)\n",
    ").reset_index(drop=True)\n",
    "\n",
    "# Step 7: Check the result\n",
    "print(f\"Sampled {len(df_2017_08_neg_sample)} rows.\")\n"
   ]
  },
  {
   "cell_type": "code",
   "execution_count": 120,
   "id": "3eb70c20",
   "metadata": {},
   "outputs": [],
   "source": [
    "text_gpt_2017_08_neg = '\\n'.join(df_2017_08_neg_sample['text'].astype(str))"
   ]
  },
  {
   "cell_type": "markdown",
   "id": "20c12a08",
   "metadata": {},
   "source": [
    "### Prompts and loops"
   ]
  },
  {
   "cell_type": "code",
   "execution_count": 121,
   "id": "6cbedf14",
   "metadata": {},
   "outputs": [],
   "source": [
    "prompt_8 = prompt_raw.replace('TWEETS', text_gpt_2017_08_neg)"
   ]
  },
  {
   "cell_type": "code",
   "execution_count": 122,
   "id": "6312a680",
   "metadata": {
    "scrolled": false
   },
   "outputs": [],
   "source": [
    "response = openai.ChatCompletion.create(\n",
    "    model=\"gpt-4o-mini\",  \n",
    "    messages = [\n",
    "        {\"role\": \"user\", \"content\": prompt_8}\n",
    "    ],\n",
    "    max_tokens=400,  # Maximum number of tokens in the response\n",
    "    temperature=0.7  # Controls the randomness of the output\n",
    ")"
   ]
  },
  {
   "cell_type": "code",
   "execution_count": 123,
   "id": "1af4a697",
   "metadata": {},
   "outputs": [
    {
     "data": {
      "text/plain": [
       "'The text discusses various opinions and experiences regarding vaccinations, particularly focusing on pain and discomfort associated with receiving them. It touches on the stigma and hesitance surrounding vaccines, including the HPV vaccine, and mentions a rise in anti-vaccination sentiments. There are also references to the importance of vaccination in preventing diseases and public health concerns related to declining vaccination rates.'"
      ]
     },
     "execution_count": 123,
     "metadata": {},
     "output_type": "execute_result"
    }
   ],
   "source": [
    "response.choices[0].message.content"
   ]
  },
  {
   "cell_type": "code",
   "execution_count": 124,
   "id": "c2df0aba",
   "metadata": {},
   "outputs": [],
   "source": [
    "#summary = []\n",
    "#dataset = []"
   ]
  },
  {
   "cell_type": "code",
   "execution_count": 125,
   "id": "9714a127",
   "metadata": {},
   "outputs": [],
   "source": [
    "dataset.append(\"2017_08_negitive\")"
   ]
  },
  {
   "cell_type": "code",
   "execution_count": 126,
   "id": "7118fbc6",
   "metadata": {},
   "outputs": [],
   "source": [
    "summary.append(response.choices[0].message.content)"
   ]
  },
  {
   "cell_type": "code",
   "execution_count": 127,
   "id": "626416cc",
   "metadata": {
    "tags": []
   },
   "outputs": [
    {
     "name": "stdout",
     "output_type": "stream",
     "text": [
      "<class 'pandas.core.frame.DataFrame'>\n",
      "RangeIndex: 8 entries, 0 to 7\n",
      "Data columns (total 2 columns):\n",
      " #   Column   Non-Null Count  Dtype \n",
      "---  ------   --------------  ----- \n",
      " 0   dataset  8 non-null      object\n",
      " 1   summary  8 non-null      object\n",
      "dtypes: object(2)\n",
      "memory usage: 256.0+ bytes\n"
     ]
    }
   ],
   "source": [
    "df_2017_neg = pd.DataFrame(list(zip(dataset, summary)),\n",
    "                            columns = ['dataset', 'summary'])\n",
    "df_2017_neg.info()"
   ]
  },
  {
   "cell_type": "code",
   "execution_count": 128,
   "id": "c9811a57",
   "metadata": {},
   "outputs": [
    {
     "data": {
      "text/html": [
       "<div>\n",
       "<style scoped>\n",
       "    .dataframe tbody tr th:only-of-type {\n",
       "        vertical-align: middle;\n",
       "    }\n",
       "\n",
       "    .dataframe tbody tr th {\n",
       "        vertical-align: top;\n",
       "    }\n",
       "\n",
       "    .dataframe thead th {\n",
       "        text-align: right;\n",
       "    }\n",
       "</style>\n",
       "<table border=\"1\" class=\"dataframe\">\n",
       "  <thead>\n",
       "    <tr style=\"text-align: right;\">\n",
       "      <th></th>\n",
       "      <th>dataset</th>\n",
       "      <th>summary</th>\n",
       "    </tr>\n",
       "  </thead>\n",
       "  <tbody>\n",
       "    <tr>\n",
       "      <th>0</th>\n",
       "      <td>2017_01_negitive</td>\n",
       "      <td>The passages mainly express frustration and fe...</td>\n",
       "    </tr>\n",
       "    <tr>\n",
       "      <th>1</th>\n",
       "      <td>2017_02_negitive</td>\n",
       "      <td>The sentences express a common frustration and...</td>\n",
       "    </tr>\n",
       "    <tr>\n",
       "      <th>2</th>\n",
       "      <td>2017_03_negitive</td>\n",
       "      <td>The texts express widespread anxiety, frustrat...</td>\n",
       "    </tr>\n",
       "    <tr>\n",
       "      <th>3</th>\n",
       "      <td>2017_04_negitive</td>\n",
       "      <td>The texts reflect widespread anxiety and negat...</td>\n",
       "    </tr>\n",
       "    <tr>\n",
       "      <th>4</th>\n",
       "      <td>2017_05_negitive</td>\n",
       "      <td>The sentences express a strong dislike and fea...</td>\n",
       "    </tr>\n",
       "    <tr>\n",
       "      <th>5</th>\n",
       "      <td>2017_06_negitive</td>\n",
       "      <td>The texts discuss various aspects of vaccinati...</td>\n",
       "    </tr>\n",
       "    <tr>\n",
       "      <th>6</th>\n",
       "      <td>2017_07_negitive</td>\n",
       "      <td>The text discusses various challenges regardin...</td>\n",
       "    </tr>\n",
       "    <tr>\n",
       "      <th>7</th>\n",
       "      <td>2017_08_negitive</td>\n",
       "      <td>The text discusses various opinions and experi...</td>\n",
       "    </tr>\n",
       "  </tbody>\n",
       "</table>\n",
       "</div>"
      ],
      "text/plain": [
       "            dataset                                            summary\n",
       "0  2017_01_negitive  The passages mainly express frustration and fe...\n",
       "1  2017_02_negitive  The sentences express a common frustration and...\n",
       "2  2017_03_negitive  The texts express widespread anxiety, frustrat...\n",
       "3  2017_04_negitive  The texts reflect widespread anxiety and negat...\n",
       "4  2017_05_negitive  The sentences express a strong dislike and fea...\n",
       "5  2017_06_negitive  The texts discuss various aspects of vaccinati...\n",
       "6  2017_07_negitive  The text discusses various challenges regardin...\n",
       "7  2017_08_negitive  The text discusses various opinions and experi..."
      ]
     },
     "execution_count": 128,
     "metadata": {},
     "output_type": "execute_result"
    }
   ],
   "source": [
    "df_2017_neg.tail(14)"
   ]
  },
  {
   "cell_type": "code",
   "execution_count": 129,
   "id": "cd10153f",
   "metadata": {},
   "outputs": [
    {
     "data": {
      "text/plain": [
       "<OpenAIObject chat.completion id=chatcmpl-AUccNgXKKXX9sArVzM2z44QohZRTp at 0x254195c5cc0> JSON: {\n",
       "  \"choices\": [\n",
       "    {\n",
       "      \"finish_reason\": \"stop\",\n",
       "      \"index\": 0,\n",
       "      \"logprobs\": null,\n",
       "      \"message\": {\n",
       "        \"content\": \"The text discusses various opinions and experiences regarding vaccinations, particularly focusing on pain and discomfort associated with receiving them. It touches on the stigma and hesitance surrounding vaccines, including the HPV vaccine, and mentions a rise in anti-vaccination sentiments. There are also references to the importance of vaccination in preventing diseases and public health concerns related to declining vaccination rates.\",\n",
       "        \"refusal\": null,\n",
       "        \"role\": \"assistant\"\n",
       "      }\n",
       "    }\n",
       "  ],\n",
       "  \"created\": 1731861651,\n",
       "  \"id\": \"chatcmpl-AUccNgXKKXX9sArVzM2z44QohZRTp\",\n",
       "  \"model\": \"gpt-4o-mini-2024-07-18\",\n",
       "  \"object\": \"chat.completion\",\n",
       "  \"system_fingerprint\": \"fp_0ba0d124f1\",\n",
       "  \"usage\": {\n",
       "    \"completion_tokens\": 71,\n",
       "    \"completion_tokens_details\": {\n",
       "      \"accepted_prediction_tokens\": 0,\n",
       "      \"audio_tokens\": 0,\n",
       "      \"reasoning_tokens\": 0,\n",
       "      \"rejected_prediction_tokens\": 0\n",
       "    },\n",
       "    \"prompt_tokens\": 64809,\n",
       "    \"prompt_tokens_details\": {\n",
       "      \"audio_tokens\": 0,\n",
       "      \"cached_tokens\": 0\n",
       "    },\n",
       "    \"total_tokens\": 64880\n",
       "  }\n",
       "}"
      ]
     },
     "execution_count": 129,
     "metadata": {},
     "output_type": "execute_result"
    }
   ],
   "source": [
    "response"
   ]
  },
  {
   "cell_type": "markdown",
   "id": "1a0c859d",
   "metadata": {},
   "source": [
    "## September"
   ]
  },
  {
   "cell_type": "code",
   "execution_count": 130,
   "id": "46970275",
   "metadata": {
    "scrolled": true,
    "tags": []
   },
   "outputs": [
    {
     "name": "stdout",
     "output_type": "stream",
     "text": [
      "<class 'pandas.core.frame.DataFrame'>\n",
      "RangeIndex: 2033 entries, 0 to 2032\n",
      "Data columns (total 53 columns):\n",
      " #   Column                  Non-Null Count  Dtype  \n",
      "---  ------                  --------------  -----  \n",
      " 0   index                   2033 non-null   int64  \n",
      " 1   LocationCode            2033 non-null   object \n",
      " 2   LocationName            2033 non-null   object \n",
      " 3   StatesCode              2033 non-null   object \n",
      " 4   ...4                    2033 non-null   int64  \n",
      " 5   id                      2033 non-null   float64\n",
      " 6   text                    2033 non-null   object \n",
      " 7   label                   2033 non-null   object \n",
      " 8   in_reply_to_status_id   229 non-null    float64\n",
      " 9   in_reply_to_user_id     233 non-null    float64\n",
      " 10  quoted_user_id          54 non-null     float64\n",
      " 11  quoted_status_id        54 non-null     float64\n",
      " 12  retweeted_user_id       430 non-null    float64\n",
      " 13  retweeted_status_id     430 non-null    float64\n",
      " 14  created_at              2033 non-null   object \n",
      " 15  entities.user_mentions  642 non-null    object \n",
      " 16  user.id                 2033 non-null   float64\n",
      " 17  user.screen_name        2033 non-null   object \n",
      " 18  user.name               2033 non-null   object \n",
      " 19  user.description        1820 non-null   object \n",
      " 20  user.timezone           0 non-null      float64\n",
      " 21  user.location           1992 non-null   object \n",
      " 22  user.num_followers      2033 non-null   int64  \n",
      " 23  user.num_following      2033 non-null   int64  \n",
      " 24  user.created_at         2033 non-null   object \n",
      " 25  user.statuses_count     2033 non-null   int64  \n",
      " 26  user.is_verified        2033 non-null   bool   \n",
      " 27  lang                    2033 non-null   object \n",
      " 28  token_count             2033 non-null   int64  \n",
      " 29  is_retweet              2033 non-null   bool   \n",
      " 30  has_quote               2033 non-null   bool   \n",
      " 31  is_reply                2033 non-null   bool   \n",
      " 32  contains_keywords       2033 non-null   bool   \n",
      " 33  longitude               2033 non-null   float64\n",
      " 34  latitude                2033 non-null   float64\n",
      " 35  country_code            2033 non-null   object \n",
      " 36  geoname_id              1754 non-null   float64\n",
      " 37  location_type           2033 non-null   object \n",
      " 38  geo_type                2033 non-null   int64  \n",
      " 39  region                  2033 non-null   object \n",
      " 40  subregion               2033 non-null   object \n",
      " 41  num_quotes              2033 non-null   int64  \n",
      " 42  num_replies             2033 non-null   int64  \n",
      " 43  num_retweets            2033 non-null   int64  \n",
      " 44  sent_gpt                2033 non-null   object \n",
      " 45  gpt_sent_presence       2033 non-null   int64  \n",
      " 46  cleaned_text_lem        2033 non-null   object \n",
      " 47  cleaned_text            2033 non-null   object \n",
      " 48  month                   2033 non-null   int64  \n",
      " 49  year                    2033 non-null   int64  \n",
      " 50  week                    2033 non-null   int64  \n",
      " 51  year_month              2033 non-null   object \n",
      " 52  year_week               2033 non-null   object \n",
      "dtypes: bool(5), float64(12), int64(14), object(22)\n",
      "memory usage: 772.4+ KB\n"
     ]
    }
   ],
   "source": [
    "# Get monthly data\n",
    "df_2017_09_neg = pd.read_csv('../data/local/df_neg_2017-09.csv').reset_index()\n",
    "df_2017_09_neg.info()"
   ]
  },
  {
   "cell_type": "markdown",
   "id": "6d6d95b1",
   "metadata": {},
   "source": [
    "### Representative sample based on week and location"
   ]
  },
  {
   "cell_type": "code",
   "execution_count": 131,
   "id": "1c64358d",
   "metadata": {},
   "outputs": [
    {
     "data": {
      "text/html": [
       "<div>\n",
       "<style scoped>\n",
       "    .dataframe tbody tr th:only-of-type {\n",
       "        vertical-align: middle;\n",
       "    }\n",
       "\n",
       "    .dataframe tbody tr th {\n",
       "        vertical-align: top;\n",
       "    }\n",
       "\n",
       "    .dataframe thead th {\n",
       "        text-align: right;\n",
       "    }\n",
       "</style>\n",
       "<table border=\"1\" class=\"dataframe\">\n",
       "  <thead>\n",
       "    <tr style=\"text-align: right;\">\n",
       "      <th></th>\n",
       "      <th>year_week</th>\n",
       "      <th>LocationName</th>\n",
       "      <th>group_size</th>\n",
       "      <th>proportion</th>\n",
       "    </tr>\n",
       "  </thead>\n",
       "  <tbody>\n",
       "    <tr>\n",
       "      <th>0</th>\n",
       "      <td>2017-w35</td>\n",
       "      <td>Bahia</td>\n",
       "      <td>3</td>\n",
       "      <td>0.001476</td>\n",
       "    </tr>\n",
       "    <tr>\n",
       "      <th>1</th>\n",
       "      <td>2017-w35</td>\n",
       "      <td>Ceara</td>\n",
       "      <td>3</td>\n",
       "      <td>0.001476</td>\n",
       "    </tr>\n",
       "    <tr>\n",
       "      <th>2</th>\n",
       "      <td>2017-w35</td>\n",
       "      <td>Distrito Federal</td>\n",
       "      <td>2</td>\n",
       "      <td>0.000984</td>\n",
       "    </tr>\n",
       "    <tr>\n",
       "      <th>3</th>\n",
       "      <td>2017-w35</td>\n",
       "      <td>Espirito Santo</td>\n",
       "      <td>8</td>\n",
       "      <td>0.003935</td>\n",
       "    </tr>\n",
       "    <tr>\n",
       "      <th>4</th>\n",
       "      <td>2017-w35</td>\n",
       "      <td>Goias</td>\n",
       "      <td>5</td>\n",
       "      <td>0.002459</td>\n",
       "    </tr>\n",
       "    <tr>\n",
       "      <th>...</th>\n",
       "      <td>...</td>\n",
       "      <td>...</td>\n",
       "      <td>...</td>\n",
       "      <td>...</td>\n",
       "    </tr>\n",
       "    <tr>\n",
       "      <th>101</th>\n",
       "      <td>2017-w39</td>\n",
       "      <td>Rio De Janeiro</td>\n",
       "      <td>2</td>\n",
       "      <td>0.000984</td>\n",
       "    </tr>\n",
       "    <tr>\n",
       "      <th>102</th>\n",
       "      <td>2017-w39</td>\n",
       "      <td>Rio Grande Do Sul</td>\n",
       "      <td>32</td>\n",
       "      <td>0.015740</td>\n",
       "    </tr>\n",
       "    <tr>\n",
       "      <th>103</th>\n",
       "      <td>2017-w39</td>\n",
       "      <td>Rondonia</td>\n",
       "      <td>1</td>\n",
       "      <td>0.000492</td>\n",
       "    </tr>\n",
       "    <tr>\n",
       "      <th>104</th>\n",
       "      <td>2017-w39</td>\n",
       "      <td>Santa Catarina</td>\n",
       "      <td>8</td>\n",
       "      <td>0.003935</td>\n",
       "    </tr>\n",
       "    <tr>\n",
       "      <th>105</th>\n",
       "      <td>2017-w39</td>\n",
       "      <td>Sao Paulo</td>\n",
       "      <td>60</td>\n",
       "      <td>0.029513</td>\n",
       "    </tr>\n",
       "  </tbody>\n",
       "</table>\n",
       "<p>106 rows × 4 columns</p>\n",
       "</div>"
      ],
      "text/plain": [
       "    year_week       LocationName  group_size  proportion\n",
       "0    2017-w35              Bahia           3    0.001476\n",
       "1    2017-w35              Ceara           3    0.001476\n",
       "2    2017-w35   Distrito Federal           2    0.000984\n",
       "3    2017-w35     Espirito Santo           8    0.003935\n",
       "4    2017-w35              Goias           5    0.002459\n",
       "..        ...                ...         ...         ...\n",
       "101  2017-w39     Rio De Janeiro           2    0.000984\n",
       "102  2017-w39  Rio Grande Do Sul          32    0.015740\n",
       "103  2017-w39           Rondonia           1    0.000492\n",
       "104  2017-w39     Santa Catarina           8    0.003935\n",
       "105  2017-w39          Sao Paulo          60    0.029513\n",
       "\n",
       "[106 rows x 4 columns]"
      ]
     },
     "execution_count": 131,
     "metadata": {},
     "output_type": "execute_result"
    }
   ],
   "source": [
    "# Step 1: Calculate the size of each group (year_week, LocationName)\n",
    "group_sizes = df_2017_09_neg.groupby(['year_week', 'LocationName']).size().reset_index(name='group_size')\n",
    "\n",
    "# Step 2: Calculate the proportion of each group in the dataset\n",
    "total_rows = len(df_2017_09_neg)\n",
    "group_sizes['proportion'] = group_sizes['group_size'] / total_rows\n",
    "group_sizes"
   ]
  },
  {
   "cell_type": "code",
   "execution_count": 132,
   "id": "0f70bf42",
   "metadata": {},
   "outputs": [
    {
     "data": {
      "text/html": [
       "<div>\n",
       "<style scoped>\n",
       "    .dataframe tbody tr th:only-of-type {\n",
       "        vertical-align: middle;\n",
       "    }\n",
       "\n",
       "    .dataframe tbody tr th {\n",
       "        vertical-align: top;\n",
       "    }\n",
       "\n",
       "    .dataframe thead th {\n",
       "        text-align: right;\n",
       "    }\n",
       "</style>\n",
       "<table border=\"1\" class=\"dataframe\">\n",
       "  <thead>\n",
       "    <tr style=\"text-align: right;\">\n",
       "      <th></th>\n",
       "      <th>year_week</th>\n",
       "      <th>LocationName</th>\n",
       "      <th>group_size</th>\n",
       "      <th>proportion</th>\n",
       "      <th>sample_size</th>\n",
       "    </tr>\n",
       "  </thead>\n",
       "  <tbody>\n",
       "    <tr>\n",
       "      <th>0</th>\n",
       "      <td>2017-w35</td>\n",
       "      <td>Bahia</td>\n",
       "      <td>3</td>\n",
       "      <td>0.001476</td>\n",
       "      <td>3</td>\n",
       "    </tr>\n",
       "    <tr>\n",
       "      <th>1</th>\n",
       "      <td>2017-w35</td>\n",
       "      <td>Ceara</td>\n",
       "      <td>3</td>\n",
       "      <td>0.001476</td>\n",
       "      <td>3</td>\n",
       "    </tr>\n",
       "    <tr>\n",
       "      <th>2</th>\n",
       "      <td>2017-w35</td>\n",
       "      <td>Distrito Federal</td>\n",
       "      <td>2</td>\n",
       "      <td>0.000984</td>\n",
       "      <td>2</td>\n",
       "    </tr>\n",
       "    <tr>\n",
       "      <th>3</th>\n",
       "      <td>2017-w35</td>\n",
       "      <td>Espirito Santo</td>\n",
       "      <td>8</td>\n",
       "      <td>0.003935</td>\n",
       "      <td>9</td>\n",
       "    </tr>\n",
       "    <tr>\n",
       "      <th>4</th>\n",
       "      <td>2017-w35</td>\n",
       "      <td>Goias</td>\n",
       "      <td>5</td>\n",
       "      <td>0.002459</td>\n",
       "      <td>6</td>\n",
       "    </tr>\n",
       "    <tr>\n",
       "      <th>...</th>\n",
       "      <td>...</td>\n",
       "      <td>...</td>\n",
       "      <td>...</td>\n",
       "      <td>...</td>\n",
       "      <td>...</td>\n",
       "    </tr>\n",
       "    <tr>\n",
       "      <th>101</th>\n",
       "      <td>2017-w39</td>\n",
       "      <td>Rio De Janeiro</td>\n",
       "      <td>2</td>\n",
       "      <td>0.000984</td>\n",
       "      <td>2</td>\n",
       "    </tr>\n",
       "    <tr>\n",
       "      <th>102</th>\n",
       "      <td>2017-w39</td>\n",
       "      <td>Rio Grande Do Sul</td>\n",
       "      <td>32</td>\n",
       "      <td>0.015740</td>\n",
       "      <td>38</td>\n",
       "    </tr>\n",
       "    <tr>\n",
       "      <th>103</th>\n",
       "      <td>2017-w39</td>\n",
       "      <td>Rondonia</td>\n",
       "      <td>1</td>\n",
       "      <td>0.000492</td>\n",
       "      <td>1</td>\n",
       "    </tr>\n",
       "    <tr>\n",
       "      <th>104</th>\n",
       "      <td>2017-w39</td>\n",
       "      <td>Santa Catarina</td>\n",
       "      <td>8</td>\n",
       "      <td>0.003935</td>\n",
       "      <td>9</td>\n",
       "    </tr>\n",
       "    <tr>\n",
       "      <th>105</th>\n",
       "      <td>2017-w39</td>\n",
       "      <td>Sao Paulo</td>\n",
       "      <td>60</td>\n",
       "      <td>0.029513</td>\n",
       "      <td>72</td>\n",
       "    </tr>\n",
       "  </tbody>\n",
       "</table>\n",
       "<p>106 rows × 5 columns</p>\n",
       "</div>"
      ],
      "text/plain": [
       "    year_week       LocationName  group_size  proportion  sample_size\n",
       "0    2017-w35              Bahia           3    0.001476            3\n",
       "1    2017-w35              Ceara           3    0.001476            3\n",
       "2    2017-w35   Distrito Federal           2    0.000984            2\n",
       "3    2017-w35     Espirito Santo           8    0.003935            9\n",
       "4    2017-w35              Goias           5    0.002459            6\n",
       "..        ...                ...         ...         ...          ...\n",
       "101  2017-w39     Rio De Janeiro           2    0.000984            2\n",
       "102  2017-w39  Rio Grande Do Sul          32    0.015740           38\n",
       "103  2017-w39           Rondonia           1    0.000492            1\n",
       "104  2017-w39     Santa Catarina           8    0.003935            9\n",
       "105  2017-w39          Sao Paulo          60    0.029513           72\n",
       "\n",
       "[106 rows x 5 columns]"
      ]
     },
     "execution_count": 132,
     "metadata": {},
     "output_type": "execute_result"
    }
   ],
   "source": [
    "# Step 3: Define the target sample size\n",
    "target_sample_size = 2450\n",
    "\n",
    "# Step 4: Calculate the sample size for each group (based on its proportion)\n",
    "group_sizes['sample_size'] = np.floor(group_sizes['proportion'] * target_sample_size).astype(int)\n",
    "group_sizes"
   ]
  },
  {
   "cell_type": "code",
   "execution_count": 133,
   "id": "1fbb0b3e",
   "metadata": {},
   "outputs": [],
   "source": [
    "# Step 5: Merge this sample size information back to the original DataFrame\n",
    "df_2017_09_neg_sample_size = pd.merge(df_2017_09_neg, group_sizes[['year_week', 'LocationName', 'sample_size']], \n",
    "                               on=['year_week', 'LocationName'], how='left')"
   ]
  },
  {
   "cell_type": "code",
   "execution_count": 135,
   "id": "e62cb3ac",
   "metadata": {},
   "outputs": [
    {
     "name": "stdout",
     "output_type": "stream",
     "text": [
      "Sampled 2033 rows.\n"
     ]
    }
   ],
   "source": [
    "# Step 6: Perform the stratified sampling\n",
    "#df_2017_09_neg_sample = df_2017_09_neg_sample_size.groupby(['year_week', 'LocationName']).apply(\n",
    " #   lambda group: group.sample(n=group['sample_size'].iloc[0], random_state=42)\n",
    "#).reset_index(drop=True)\n",
    "df_2017_09_neg_sample = df_2017_09_neg\n",
    "# Step 7: Check the result\n",
    "print(f\"Sampled {len(df_2017_09_neg_sample)} rows.\")\n"
   ]
  },
  {
   "cell_type": "code",
   "execution_count": 136,
   "id": "f94fe9d7",
   "metadata": {},
   "outputs": [],
   "source": [
    "text_gpt_2017_09_neg = '\\n'.join(df_2017_09_neg_sample['text'].astype(str))"
   ]
  },
  {
   "cell_type": "markdown",
   "id": "b7904a7f",
   "metadata": {},
   "source": [
    "### Prompts and loops"
   ]
  },
  {
   "cell_type": "code",
   "execution_count": 137,
   "id": "71bbca85",
   "metadata": {},
   "outputs": [],
   "source": [
    "prompt_9 = prompt_raw.replace('TWEETS', text_gpt_2017_09_neg)"
   ]
  },
  {
   "cell_type": "code",
   "execution_count": 138,
   "id": "b7ae259f",
   "metadata": {
    "scrolled": false
   },
   "outputs": [],
   "source": [
    "response = openai.ChatCompletion.create(\n",
    "    model=\"gpt-4o-mini\",  \n",
    "    messages = [\n",
    "        {\"role\": \"user\", \"content\": prompt_9}\n",
    "    ],\n",
    "    max_tokens=400,  # Maximum number of tokens in the response\n",
    "    temperature=0.7  # Controls the randomness of the output\n",
    ")"
   ]
  },
  {
   "cell_type": "code",
   "execution_count": 139,
   "id": "8653eccf",
   "metadata": {},
   "outputs": [
    {
     "data": {
      "text/plain": [
       "'The text reflects a societal discourse around vaccination, highlighting a mix of concerns, fears, and opinions. It mentions the historical context of scientific advancement in 1956 versus contemporary skepticism and conspiracy theories from 2017, including anti-vaccine movements, the belief in a flat Earth, and climate change denial. There are personal anecdotes about the pain and discomfort associated with vaccinations, alongside criticism of misinformation surrounding vaccines and their perceived dangers. The narrative conveys a sense of frustration regarding public health measures and the rise of irrational beliefs in society.'"
      ]
     },
     "execution_count": 139,
     "metadata": {},
     "output_type": "execute_result"
    }
   ],
   "source": [
    "response.choices[0].message.content"
   ]
  },
  {
   "cell_type": "code",
   "execution_count": 140,
   "id": "6be7b347",
   "metadata": {},
   "outputs": [],
   "source": [
    "#summary = []\n",
    "#dataset = []"
   ]
  },
  {
   "cell_type": "code",
   "execution_count": 141,
   "id": "550a921f",
   "metadata": {},
   "outputs": [],
   "source": [
    "dataset.append(\"2017_09_negitive\")"
   ]
  },
  {
   "cell_type": "code",
   "execution_count": 142,
   "id": "83240506",
   "metadata": {},
   "outputs": [],
   "source": [
    "summary.append(response.choices[0].message.content)"
   ]
  },
  {
   "cell_type": "code",
   "execution_count": 143,
   "id": "0c75735b",
   "metadata": {
    "tags": []
   },
   "outputs": [
    {
     "name": "stdout",
     "output_type": "stream",
     "text": [
      "<class 'pandas.core.frame.DataFrame'>\n",
      "RangeIndex: 9 entries, 0 to 8\n",
      "Data columns (total 2 columns):\n",
      " #   Column   Non-Null Count  Dtype \n",
      "---  ------   --------------  ----- \n",
      " 0   dataset  9 non-null      object\n",
      " 1   summary  9 non-null      object\n",
      "dtypes: object(2)\n",
      "memory usage: 272.0+ bytes\n"
     ]
    }
   ],
   "source": [
    "df_2017_neg = pd.DataFrame(list(zip(dataset, summary)),\n",
    "                            columns = ['dataset', 'summary'])\n",
    "df_2017_neg.info()"
   ]
  },
  {
   "cell_type": "code",
   "execution_count": 144,
   "id": "fa955f73",
   "metadata": {},
   "outputs": [
    {
     "data": {
      "text/html": [
       "<div>\n",
       "<style scoped>\n",
       "    .dataframe tbody tr th:only-of-type {\n",
       "        vertical-align: middle;\n",
       "    }\n",
       "\n",
       "    .dataframe tbody tr th {\n",
       "        vertical-align: top;\n",
       "    }\n",
       "\n",
       "    .dataframe thead th {\n",
       "        text-align: right;\n",
       "    }\n",
       "</style>\n",
       "<table border=\"1\" class=\"dataframe\">\n",
       "  <thead>\n",
       "    <tr style=\"text-align: right;\">\n",
       "      <th></th>\n",
       "      <th>dataset</th>\n",
       "      <th>summary</th>\n",
       "    </tr>\n",
       "  </thead>\n",
       "  <tbody>\n",
       "    <tr>\n",
       "      <th>0</th>\n",
       "      <td>2017_01_negitive</td>\n",
       "      <td>The passages mainly express frustration and fe...</td>\n",
       "    </tr>\n",
       "    <tr>\n",
       "      <th>1</th>\n",
       "      <td>2017_02_negitive</td>\n",
       "      <td>The sentences express a common frustration and...</td>\n",
       "    </tr>\n",
       "    <tr>\n",
       "      <th>2</th>\n",
       "      <td>2017_03_negitive</td>\n",
       "      <td>The texts express widespread anxiety, frustrat...</td>\n",
       "    </tr>\n",
       "    <tr>\n",
       "      <th>3</th>\n",
       "      <td>2017_04_negitive</td>\n",
       "      <td>The texts reflect widespread anxiety and negat...</td>\n",
       "    </tr>\n",
       "    <tr>\n",
       "      <th>4</th>\n",
       "      <td>2017_05_negitive</td>\n",
       "      <td>The sentences express a strong dislike and fea...</td>\n",
       "    </tr>\n",
       "    <tr>\n",
       "      <th>5</th>\n",
       "      <td>2017_06_negitive</td>\n",
       "      <td>The texts discuss various aspects of vaccinati...</td>\n",
       "    </tr>\n",
       "    <tr>\n",
       "      <th>6</th>\n",
       "      <td>2017_07_negitive</td>\n",
       "      <td>The text discusses various challenges regardin...</td>\n",
       "    </tr>\n",
       "    <tr>\n",
       "      <th>7</th>\n",
       "      <td>2017_08_negitive</td>\n",
       "      <td>The text discusses various opinions and experi...</td>\n",
       "    </tr>\n",
       "    <tr>\n",
       "      <th>8</th>\n",
       "      <td>2017_09_negitive</td>\n",
       "      <td>The text reflects a societal discourse around ...</td>\n",
       "    </tr>\n",
       "  </tbody>\n",
       "</table>\n",
       "</div>"
      ],
      "text/plain": [
       "            dataset                                            summary\n",
       "0  2017_01_negitive  The passages mainly express frustration and fe...\n",
       "1  2017_02_negitive  The sentences express a common frustration and...\n",
       "2  2017_03_negitive  The texts express widespread anxiety, frustrat...\n",
       "3  2017_04_negitive  The texts reflect widespread anxiety and negat...\n",
       "4  2017_05_negitive  The sentences express a strong dislike and fea...\n",
       "5  2017_06_negitive  The texts discuss various aspects of vaccinati...\n",
       "6  2017_07_negitive  The text discusses various challenges regardin...\n",
       "7  2017_08_negitive  The text discusses various opinions and experi...\n",
       "8  2017_09_negitive  The text reflects a societal discourse around ..."
      ]
     },
     "execution_count": 144,
     "metadata": {},
     "output_type": "execute_result"
    }
   ],
   "source": [
    "df_2017_neg.tail(14)"
   ]
  },
  {
   "cell_type": "code",
   "execution_count": 145,
   "id": "4c204870",
   "metadata": {},
   "outputs": [
    {
     "data": {
      "text/plain": [
       "<OpenAIObject chat.completion id=chatcmpl-AUcdTYMybeSVlNJ3zFjoFDI8aSDJT at 0x254198bcf40> JSON: {\n",
       "  \"choices\": [\n",
       "    {\n",
       "      \"finish_reason\": \"stop\",\n",
       "      \"index\": 0,\n",
       "      \"logprobs\": null,\n",
       "      \"message\": {\n",
       "        \"content\": \"The text reflects a societal discourse around vaccination, highlighting a mix of concerns, fears, and opinions. It mentions the historical context of scientific advancement in 1956 versus contemporary skepticism and conspiracy theories from 2017, including anti-vaccine movements, the belief in a flat Earth, and climate change denial. There are personal anecdotes about the pain and discomfort associated with vaccinations, alongside criticism of misinformation surrounding vaccines and their perceived dangers. The narrative conveys a sense of frustration regarding public health measures and the rise of irrational beliefs in society.\",\n",
       "        \"refusal\": null,\n",
       "        \"role\": \"assistant\"\n",
       "      }\n",
       "    }\n",
       "  ],\n",
       "  \"created\": 1731861719,\n",
       "  \"id\": \"chatcmpl-AUcdTYMybeSVlNJ3zFjoFDI8aSDJT\",\n",
       "  \"model\": \"gpt-4o-mini-2024-07-18\",\n",
       "  \"object\": \"chat.completion\",\n",
       "  \"system_fingerprint\": \"fp_9b78b61c52\",\n",
       "  \"usage\": {\n",
       "    \"completion_tokens\": 105,\n",
       "    \"completion_tokens_details\": {\n",
       "      \"accepted_prediction_tokens\": 0,\n",
       "      \"audio_tokens\": 0,\n",
       "      \"reasoning_tokens\": 0,\n",
       "      \"rejected_prediction_tokens\": 0\n",
       "    },\n",
       "    \"prompt_tokens\": 44777,\n",
       "    \"prompt_tokens_details\": {\n",
       "      \"audio_tokens\": 0,\n",
       "      \"cached_tokens\": 0\n",
       "    },\n",
       "    \"total_tokens\": 44882\n",
       "  }\n",
       "}"
      ]
     },
     "execution_count": 145,
     "metadata": {},
     "output_type": "execute_result"
    }
   ],
   "source": [
    "response"
   ]
  },
  {
   "cell_type": "markdown",
   "id": "43f969b1",
   "metadata": {},
   "source": [
    "## October"
   ]
  },
  {
   "cell_type": "code",
   "execution_count": 146,
   "id": "28cedc2b",
   "metadata": {
    "scrolled": true,
    "tags": []
   },
   "outputs": [
    {
     "name": "stdout",
     "output_type": "stream",
     "text": [
      "<class 'pandas.core.frame.DataFrame'>\n",
      "RangeIndex: 1512 entries, 0 to 1511\n",
      "Data columns (total 53 columns):\n",
      " #   Column                  Non-Null Count  Dtype  \n",
      "---  ------                  --------------  -----  \n",
      " 0   index                   1512 non-null   int64  \n",
      " 1   LocationCode            1512 non-null   object \n",
      " 2   LocationName            1512 non-null   object \n",
      " 3   StatesCode              1512 non-null   object \n",
      " 4   ...4                    1512 non-null   int64  \n",
      " 5   id                      1512 non-null   float64\n",
      " 6   text                    1512 non-null   object \n",
      " 7   label                   1512 non-null   object \n",
      " 8   in_reply_to_status_id   168 non-null    float64\n",
      " 9   in_reply_to_user_id     169 non-null    float64\n",
      " 10  quoted_user_id          45 non-null     float64\n",
      " 11  quoted_status_id        45 non-null     float64\n",
      " 12  retweeted_user_id       229 non-null    float64\n",
      " 13  retweeted_status_id     229 non-null    float64\n",
      " 14  created_at              1512 non-null   object \n",
      " 15  entities.user_mentions  401 non-null    object \n",
      " 16  user.id                 1512 non-null   float64\n",
      " 17  user.screen_name        1512 non-null   object \n",
      " 18  user.name               1512 non-null   object \n",
      " 19  user.description        1355 non-null   object \n",
      " 20  user.timezone           0 non-null      float64\n",
      " 21  user.location           1474 non-null   object \n",
      " 22  user.num_followers      1512 non-null   int64  \n",
      " 23  user.num_following      1512 non-null   int64  \n",
      " 24  user.created_at         1512 non-null   object \n",
      " 25  user.statuses_count     1512 non-null   int64  \n",
      " 26  user.is_verified        1512 non-null   bool   \n",
      " 27  lang                    1512 non-null   object \n",
      " 28  token_count             1512 non-null   int64  \n",
      " 29  is_retweet              1512 non-null   bool   \n",
      " 30  has_quote               1512 non-null   bool   \n",
      " 31  is_reply                1512 non-null   bool   \n",
      " 32  contains_keywords       1512 non-null   bool   \n",
      " 33  longitude               1512 non-null   float64\n",
      " 34  latitude                1512 non-null   float64\n",
      " 35  country_code            1512 non-null   object \n",
      " 36  geoname_id              1252 non-null   float64\n",
      " 37  location_type           1512 non-null   object \n",
      " 38  geo_type                1512 non-null   int64  \n",
      " 39  region                  1512 non-null   object \n",
      " 40  subregion               1512 non-null   object \n",
      " 41  num_quotes              1512 non-null   int64  \n",
      " 42  num_replies             1512 non-null   int64  \n",
      " 43  num_retweets            1512 non-null   int64  \n",
      " 44  sent_gpt                1512 non-null   object \n",
      " 45  gpt_sent_presence       1512 non-null   int64  \n",
      " 46  cleaned_text_lem        1512 non-null   object \n",
      " 47  cleaned_text            1512 non-null   object \n",
      " 48  month                   1512 non-null   int64  \n",
      " 49  year                    1512 non-null   int64  \n",
      " 50  week                    1512 non-null   int64  \n",
      " 51  year_month              1512 non-null   object \n",
      " 52  year_week               1512 non-null   object \n",
      "dtypes: bool(5), float64(12), int64(14), object(22)\n",
      "memory usage: 574.5+ KB\n"
     ]
    }
   ],
   "source": [
    "# Get monthly data\n",
    "df_2017_10_neg = pd.read_csv('../data/local/df_neg_2017-10.csv').reset_index()\n",
    "df_2017_10_neg.info()"
   ]
  },
  {
   "cell_type": "markdown",
   "id": "616f674a",
   "metadata": {},
   "source": [
    "### Representative sample based on week and location"
   ]
  },
  {
   "cell_type": "code",
   "execution_count": 147,
   "id": "9cb193cd",
   "metadata": {},
   "outputs": [
    {
     "data": {
      "text/html": [
       "<div>\n",
       "<style scoped>\n",
       "    .dataframe tbody tr th:only-of-type {\n",
       "        vertical-align: middle;\n",
       "    }\n",
       "\n",
       "    .dataframe tbody tr th {\n",
       "        vertical-align: top;\n",
       "    }\n",
       "\n",
       "    .dataframe thead th {\n",
       "        text-align: right;\n",
       "    }\n",
       "</style>\n",
       "<table border=\"1\" class=\"dataframe\">\n",
       "  <thead>\n",
       "    <tr style=\"text-align: right;\">\n",
       "      <th></th>\n",
       "      <th>year_week</th>\n",
       "      <th>LocationName</th>\n",
       "      <th>group_size</th>\n",
       "      <th>proportion</th>\n",
       "    </tr>\n",
       "  </thead>\n",
       "  <tbody>\n",
       "    <tr>\n",
       "      <th>0</th>\n",
       "      <td>2017-w40</td>\n",
       "      <td>Alagoas</td>\n",
       "      <td>2</td>\n",
       "      <td>0.001323</td>\n",
       "    </tr>\n",
       "    <tr>\n",
       "      <th>1</th>\n",
       "      <td>2017-w40</td>\n",
       "      <td>Amapa</td>\n",
       "      <td>1</td>\n",
       "      <td>0.000661</td>\n",
       "    </tr>\n",
       "    <tr>\n",
       "      <th>2</th>\n",
       "      <td>2017-w40</td>\n",
       "      <td>Amazonas</td>\n",
       "      <td>3</td>\n",
       "      <td>0.001984</td>\n",
       "    </tr>\n",
       "    <tr>\n",
       "      <th>3</th>\n",
       "      <td>2017-w40</td>\n",
       "      <td>Bahia</td>\n",
       "      <td>11</td>\n",
       "      <td>0.007275</td>\n",
       "    </tr>\n",
       "    <tr>\n",
       "      <th>4</th>\n",
       "      <td>2017-w40</td>\n",
       "      <td>Ceara</td>\n",
       "      <td>2</td>\n",
       "      <td>0.001323</td>\n",
       "    </tr>\n",
       "    <tr>\n",
       "      <th>...</th>\n",
       "      <td>...</td>\n",
       "      <td>...</td>\n",
       "      <td>...</td>\n",
       "      <td>...</td>\n",
       "    </tr>\n",
       "    <tr>\n",
       "      <th>96</th>\n",
       "      <td>2017-w44</td>\n",
       "      <td>Rio Grande Do Sul</td>\n",
       "      <td>21</td>\n",
       "      <td>0.013889</td>\n",
       "    </tr>\n",
       "    <tr>\n",
       "      <th>97</th>\n",
       "      <td>2017-w44</td>\n",
       "      <td>Rondonia</td>\n",
       "      <td>1</td>\n",
       "      <td>0.000661</td>\n",
       "    </tr>\n",
       "    <tr>\n",
       "      <th>98</th>\n",
       "      <td>2017-w44</td>\n",
       "      <td>Roraima</td>\n",
       "      <td>1</td>\n",
       "      <td>0.000661</td>\n",
       "    </tr>\n",
       "    <tr>\n",
       "      <th>99</th>\n",
       "      <td>2017-w44</td>\n",
       "      <td>Santa Catarina</td>\n",
       "      <td>1</td>\n",
       "      <td>0.000661</td>\n",
       "    </tr>\n",
       "    <tr>\n",
       "      <th>100</th>\n",
       "      <td>2017-w44</td>\n",
       "      <td>Sao Paulo</td>\n",
       "      <td>42</td>\n",
       "      <td>0.027778</td>\n",
       "    </tr>\n",
       "  </tbody>\n",
       "</table>\n",
       "<p>101 rows × 4 columns</p>\n",
       "</div>"
      ],
      "text/plain": [
       "    year_week       LocationName  group_size  proportion\n",
       "0    2017-w40            Alagoas           2    0.001323\n",
       "1    2017-w40              Amapa           1    0.000661\n",
       "2    2017-w40           Amazonas           3    0.001984\n",
       "3    2017-w40              Bahia          11    0.007275\n",
       "4    2017-w40              Ceara           2    0.001323\n",
       "..        ...                ...         ...         ...\n",
       "96   2017-w44  Rio Grande Do Sul          21    0.013889\n",
       "97   2017-w44           Rondonia           1    0.000661\n",
       "98   2017-w44            Roraima           1    0.000661\n",
       "99   2017-w44     Santa Catarina           1    0.000661\n",
       "100  2017-w44          Sao Paulo          42    0.027778\n",
       "\n",
       "[101 rows x 4 columns]"
      ]
     },
     "execution_count": 147,
     "metadata": {},
     "output_type": "execute_result"
    }
   ],
   "source": [
    "# Step 1: Calculate the size of each group (year_week, LocationName)\n",
    "group_sizes = df_2017_10_neg.groupby(['year_week', 'LocationName']).size().reset_index(name='group_size')\n",
    "\n",
    "# Step 2: Calculate the proportion of each group in the dataset\n",
    "total_rows = len(df_2017_10_neg)\n",
    "group_sizes['proportion'] = group_sizes['group_size'] / total_rows\n",
    "group_sizes"
   ]
  },
  {
   "cell_type": "code",
   "execution_count": 148,
   "id": "610efcf6",
   "metadata": {},
   "outputs": [
    {
     "data": {
      "text/html": [
       "<div>\n",
       "<style scoped>\n",
       "    .dataframe tbody tr th:only-of-type {\n",
       "        vertical-align: middle;\n",
       "    }\n",
       "\n",
       "    .dataframe tbody tr th {\n",
       "        vertical-align: top;\n",
       "    }\n",
       "\n",
       "    .dataframe thead th {\n",
       "        text-align: right;\n",
       "    }\n",
       "</style>\n",
       "<table border=\"1\" class=\"dataframe\">\n",
       "  <thead>\n",
       "    <tr style=\"text-align: right;\">\n",
       "      <th></th>\n",
       "      <th>year_week</th>\n",
       "      <th>LocationName</th>\n",
       "      <th>group_size</th>\n",
       "      <th>proportion</th>\n",
       "      <th>sample_size</th>\n",
       "    </tr>\n",
       "  </thead>\n",
       "  <tbody>\n",
       "    <tr>\n",
       "      <th>0</th>\n",
       "      <td>2017-w40</td>\n",
       "      <td>Alagoas</td>\n",
       "      <td>2</td>\n",
       "      <td>0.001323</td>\n",
       "      <td>3</td>\n",
       "    </tr>\n",
       "    <tr>\n",
       "      <th>1</th>\n",
       "      <td>2017-w40</td>\n",
       "      <td>Amapa</td>\n",
       "      <td>1</td>\n",
       "      <td>0.000661</td>\n",
       "      <td>1</td>\n",
       "    </tr>\n",
       "    <tr>\n",
       "      <th>2</th>\n",
       "      <td>2017-w40</td>\n",
       "      <td>Amazonas</td>\n",
       "      <td>3</td>\n",
       "      <td>0.001984</td>\n",
       "      <td>4</td>\n",
       "    </tr>\n",
       "    <tr>\n",
       "      <th>3</th>\n",
       "      <td>2017-w40</td>\n",
       "      <td>Bahia</td>\n",
       "      <td>11</td>\n",
       "      <td>0.007275</td>\n",
       "      <td>17</td>\n",
       "    </tr>\n",
       "    <tr>\n",
       "      <th>4</th>\n",
       "      <td>2017-w40</td>\n",
       "      <td>Ceara</td>\n",
       "      <td>2</td>\n",
       "      <td>0.001323</td>\n",
       "      <td>3</td>\n",
       "    </tr>\n",
       "    <tr>\n",
       "      <th>...</th>\n",
       "      <td>...</td>\n",
       "      <td>...</td>\n",
       "      <td>...</td>\n",
       "      <td>...</td>\n",
       "      <td>...</td>\n",
       "    </tr>\n",
       "    <tr>\n",
       "      <th>96</th>\n",
       "      <td>2017-w44</td>\n",
       "      <td>Rio Grande Do Sul</td>\n",
       "      <td>21</td>\n",
       "      <td>0.013889</td>\n",
       "      <td>34</td>\n",
       "    </tr>\n",
       "    <tr>\n",
       "      <th>97</th>\n",
       "      <td>2017-w44</td>\n",
       "      <td>Rondonia</td>\n",
       "      <td>1</td>\n",
       "      <td>0.000661</td>\n",
       "      <td>1</td>\n",
       "    </tr>\n",
       "    <tr>\n",
       "      <th>98</th>\n",
       "      <td>2017-w44</td>\n",
       "      <td>Roraima</td>\n",
       "      <td>1</td>\n",
       "      <td>0.000661</td>\n",
       "      <td>1</td>\n",
       "    </tr>\n",
       "    <tr>\n",
       "      <th>99</th>\n",
       "      <td>2017-w44</td>\n",
       "      <td>Santa Catarina</td>\n",
       "      <td>1</td>\n",
       "      <td>0.000661</td>\n",
       "      <td>1</td>\n",
       "    </tr>\n",
       "    <tr>\n",
       "      <th>100</th>\n",
       "      <td>2017-w44</td>\n",
       "      <td>Sao Paulo</td>\n",
       "      <td>42</td>\n",
       "      <td>0.027778</td>\n",
       "      <td>68</td>\n",
       "    </tr>\n",
       "  </tbody>\n",
       "</table>\n",
       "<p>101 rows × 5 columns</p>\n",
       "</div>"
      ],
      "text/plain": [
       "    year_week       LocationName  group_size  proportion  sample_size\n",
       "0    2017-w40            Alagoas           2    0.001323            3\n",
       "1    2017-w40              Amapa           1    0.000661            1\n",
       "2    2017-w40           Amazonas           3    0.001984            4\n",
       "3    2017-w40              Bahia          11    0.007275           17\n",
       "4    2017-w40              Ceara           2    0.001323            3\n",
       "..        ...                ...         ...         ...          ...\n",
       "96   2017-w44  Rio Grande Do Sul          21    0.013889           34\n",
       "97   2017-w44           Rondonia           1    0.000661            1\n",
       "98   2017-w44            Roraima           1    0.000661            1\n",
       "99   2017-w44     Santa Catarina           1    0.000661            1\n",
       "100  2017-w44          Sao Paulo          42    0.027778           68\n",
       "\n",
       "[101 rows x 5 columns]"
      ]
     },
     "execution_count": 148,
     "metadata": {},
     "output_type": "execute_result"
    }
   ],
   "source": [
    "# Step 3: Define the target sample size\n",
    "target_sample_size = 2450\n",
    "\n",
    "# Step 4: Calculate the sample size for each group (based on its proportion)\n",
    "group_sizes['sample_size'] = np.floor(group_sizes['proportion'] * target_sample_size).astype(int)\n",
    "group_sizes"
   ]
  },
  {
   "cell_type": "code",
   "execution_count": 149,
   "id": "361d2734",
   "metadata": {},
   "outputs": [],
   "source": [
    "# Step 5: Merge this sample size information back to the original DataFrame\n",
    "df_2017_10_neg_sample_size = pd.merge(df_2017_10_neg, group_sizes[['year_week', 'LocationName', 'sample_size']], \n",
    "                               on=['year_week', 'LocationName'], how='left')"
   ]
  },
  {
   "cell_type": "code",
   "execution_count": 151,
   "id": "cd34d6e4",
   "metadata": {},
   "outputs": [
    {
     "name": "stdout",
     "output_type": "stream",
     "text": [
      "Sampled 1512 rows.\n"
     ]
    }
   ],
   "source": [
    "# Step 6: Perform the stratified sampling\n",
    "#df_2017_10_neg_sample = df_2017_10_neg_sample_size.groupby(['year_week', 'LocationName']).apply(\n",
    "#    lambda group: group.sample(n=group['sample_size'].iloc[0], random_state=42)\n",
    "#).reset_index(drop=True)\n",
    "df_2017_10_neg_sample = df_2017_10_neg\n",
    "# Step 7: Check the result\n",
    "print(f\"Sampled {len(df_2017_10_neg_sample)} rows.\")\n"
   ]
  },
  {
   "cell_type": "code",
   "execution_count": 152,
   "id": "853aa7a6",
   "metadata": {},
   "outputs": [],
   "source": [
    "text_gpt_2017_10_neg = '\\n'.join(df_2017_10_neg_sample['text'].astype(str))"
   ]
  },
  {
   "cell_type": "markdown",
   "id": "0e857dd6",
   "metadata": {},
   "source": [
    "### Prompts and loops"
   ]
  },
  {
   "cell_type": "code",
   "execution_count": 153,
   "id": "997a28ad",
   "metadata": {},
   "outputs": [],
   "source": [
    "prompt_10 = prompt_raw.replace('TWEETS', text_gpt_2017_10_neg)"
   ]
  },
  {
   "cell_type": "code",
   "execution_count": 154,
   "id": "0ad6cb21",
   "metadata": {
    "scrolled": false
   },
   "outputs": [],
   "source": [
    "response = openai.ChatCompletion.create(\n",
    "    model=\"gpt-4o-mini\",  \n",
    "    messages = [\n",
    "        {\"role\": \"user\", \"content\": prompt_10}\n",
    "    ],\n",
    "    max_tokens=400,  # Maximum number of tokens in the response\n",
    "    temperature=0.7  # Controls the randomness of the output\n",
    ")"
   ]
  },
  {
   "cell_type": "code",
   "execution_count": 155,
   "id": "f98d14d4",
   "metadata": {},
   "outputs": [
    {
     "data": {
      "text/plain": [
       "'The sentences discuss a range of opinions and experiences regarding vaccinations, particularly focusing on the pain associated with receiving them, the fear of needles, and personal anecdotes about getting vaccinated. There are also mentions of the consequences of refusing vaccinations, including legal repercussions for parents who do not vaccinate their children. Additionally, some express skepticism about vaccine efficacy, citing the rise of anti-vaccine sentiments and public health concerns related to unvaccinated populations.'"
      ]
     },
     "execution_count": 155,
     "metadata": {},
     "output_type": "execute_result"
    }
   ],
   "source": [
    "response.choices[0].message.content"
   ]
  },
  {
   "cell_type": "code",
   "execution_count": 156,
   "id": "148185bf",
   "metadata": {},
   "outputs": [],
   "source": [
    "#summary = []\n",
    "#dataset = []"
   ]
  },
  {
   "cell_type": "code",
   "execution_count": 157,
   "id": "91999070",
   "metadata": {},
   "outputs": [],
   "source": [
    "dataset.append(\"2017_10_negitive\")"
   ]
  },
  {
   "cell_type": "code",
   "execution_count": 158,
   "id": "ca0c8fcc",
   "metadata": {},
   "outputs": [],
   "source": [
    "summary.append(response.choices[0].message.content)"
   ]
  },
  {
   "cell_type": "code",
   "execution_count": 159,
   "id": "75de78c6",
   "metadata": {
    "tags": []
   },
   "outputs": [
    {
     "name": "stdout",
     "output_type": "stream",
     "text": [
      "<class 'pandas.core.frame.DataFrame'>\n",
      "RangeIndex: 10 entries, 0 to 9\n",
      "Data columns (total 2 columns):\n",
      " #   Column   Non-Null Count  Dtype \n",
      "---  ------   --------------  ----- \n",
      " 0   dataset  10 non-null     object\n",
      " 1   summary  10 non-null     object\n",
      "dtypes: object(2)\n",
      "memory usage: 288.0+ bytes\n"
     ]
    }
   ],
   "source": [
    "df_2017_neg = pd.DataFrame(list(zip(dataset, summary)),\n",
    "                            columns = ['dataset', 'summary'])\n",
    "df_2017_neg.info()"
   ]
  },
  {
   "cell_type": "code",
   "execution_count": 160,
   "id": "33f398cf",
   "metadata": {},
   "outputs": [
    {
     "data": {
      "text/html": [
       "<div>\n",
       "<style scoped>\n",
       "    .dataframe tbody tr th:only-of-type {\n",
       "        vertical-align: middle;\n",
       "    }\n",
       "\n",
       "    .dataframe tbody tr th {\n",
       "        vertical-align: top;\n",
       "    }\n",
       "\n",
       "    .dataframe thead th {\n",
       "        text-align: right;\n",
       "    }\n",
       "</style>\n",
       "<table border=\"1\" class=\"dataframe\">\n",
       "  <thead>\n",
       "    <tr style=\"text-align: right;\">\n",
       "      <th></th>\n",
       "      <th>dataset</th>\n",
       "      <th>summary</th>\n",
       "    </tr>\n",
       "  </thead>\n",
       "  <tbody>\n",
       "    <tr>\n",
       "      <th>0</th>\n",
       "      <td>2017_01_negitive</td>\n",
       "      <td>The passages mainly express frustration and fe...</td>\n",
       "    </tr>\n",
       "    <tr>\n",
       "      <th>1</th>\n",
       "      <td>2017_02_negitive</td>\n",
       "      <td>The sentences express a common frustration and...</td>\n",
       "    </tr>\n",
       "    <tr>\n",
       "      <th>2</th>\n",
       "      <td>2017_03_negitive</td>\n",
       "      <td>The texts express widespread anxiety, frustrat...</td>\n",
       "    </tr>\n",
       "    <tr>\n",
       "      <th>3</th>\n",
       "      <td>2017_04_negitive</td>\n",
       "      <td>The texts reflect widespread anxiety and negat...</td>\n",
       "    </tr>\n",
       "    <tr>\n",
       "      <th>4</th>\n",
       "      <td>2017_05_negitive</td>\n",
       "      <td>The sentences express a strong dislike and fea...</td>\n",
       "    </tr>\n",
       "    <tr>\n",
       "      <th>5</th>\n",
       "      <td>2017_06_negitive</td>\n",
       "      <td>The texts discuss various aspects of vaccinati...</td>\n",
       "    </tr>\n",
       "    <tr>\n",
       "      <th>6</th>\n",
       "      <td>2017_07_negitive</td>\n",
       "      <td>The text discusses various challenges regardin...</td>\n",
       "    </tr>\n",
       "    <tr>\n",
       "      <th>7</th>\n",
       "      <td>2017_08_negitive</td>\n",
       "      <td>The text discusses various opinions and experi...</td>\n",
       "    </tr>\n",
       "    <tr>\n",
       "      <th>8</th>\n",
       "      <td>2017_09_negitive</td>\n",
       "      <td>The text reflects a societal discourse around ...</td>\n",
       "    </tr>\n",
       "    <tr>\n",
       "      <th>9</th>\n",
       "      <td>2017_10_negitive</td>\n",
       "      <td>The sentences discuss a range of opinions and ...</td>\n",
       "    </tr>\n",
       "  </tbody>\n",
       "</table>\n",
       "</div>"
      ],
      "text/plain": [
       "            dataset                                            summary\n",
       "0  2017_01_negitive  The passages mainly express frustration and fe...\n",
       "1  2017_02_negitive  The sentences express a common frustration and...\n",
       "2  2017_03_negitive  The texts express widespread anxiety, frustrat...\n",
       "3  2017_04_negitive  The texts reflect widespread anxiety and negat...\n",
       "4  2017_05_negitive  The sentences express a strong dislike and fea...\n",
       "5  2017_06_negitive  The texts discuss various aspects of vaccinati...\n",
       "6  2017_07_negitive  The text discusses various challenges regardin...\n",
       "7  2017_08_negitive  The text discusses various opinions and experi...\n",
       "8  2017_09_negitive  The text reflects a societal discourse around ...\n",
       "9  2017_10_negitive  The sentences discuss a range of opinions and ..."
      ]
     },
     "execution_count": 160,
     "metadata": {},
     "output_type": "execute_result"
    }
   ],
   "source": [
    "df_2017_neg.tail(14)"
   ]
  },
  {
   "cell_type": "code",
   "execution_count": 161,
   "id": "c9aa4469",
   "metadata": {},
   "outputs": [
    {
     "data": {
      "text/plain": [
       "<OpenAIObject chat.completion id=chatcmpl-AUceF5YJJBZ7qj2lnm66Xc4qOWaxk at 0x254196fea40> JSON: {\n",
       "  \"choices\": [\n",
       "    {\n",
       "      \"finish_reason\": \"stop\",\n",
       "      \"index\": 0,\n",
       "      \"logprobs\": null,\n",
       "      \"message\": {\n",
       "        \"content\": \"The sentences discuss a range of opinions and experiences regarding vaccinations, particularly focusing on the pain associated with receiving them, the fear of needles, and personal anecdotes about getting vaccinated. There are also mentions of the consequences of refusing vaccinations, including legal repercussions for parents who do not vaccinate their children. Additionally, some express skepticism about vaccine efficacy, citing the rise of anti-vaccine sentiments and public health concerns related to unvaccinated populations.\",\n",
       "        \"refusal\": null,\n",
       "        \"role\": \"assistant\"\n",
       "      }\n",
       "    }\n",
       "  ],\n",
       "  \"created\": 1731861767,\n",
       "  \"id\": \"chatcmpl-AUceF5YJJBZ7qj2lnm66Xc4qOWaxk\",\n",
       "  \"model\": \"gpt-4o-mini-2024-07-18\",\n",
       "  \"object\": \"chat.completion\",\n",
       "  \"system_fingerprint\": \"fp_9b78b61c52\",\n",
       "  \"usage\": {\n",
       "    \"completion_tokens\": 86,\n",
       "    \"completion_tokens_details\": {\n",
       "      \"accepted_prediction_tokens\": 0,\n",
       "      \"audio_tokens\": 0,\n",
       "      \"reasoning_tokens\": 0,\n",
       "      \"rejected_prediction_tokens\": 0\n",
       "    },\n",
       "    \"prompt_tokens\": 32718,\n",
       "    \"prompt_tokens_details\": {\n",
       "      \"audio_tokens\": 0,\n",
       "      \"cached_tokens\": 0\n",
       "    },\n",
       "    \"total_tokens\": 32804\n",
       "  }\n",
       "}"
      ]
     },
     "execution_count": 161,
     "metadata": {},
     "output_type": "execute_result"
    }
   ],
   "source": [
    "response"
   ]
  },
  {
   "cell_type": "markdown",
   "id": "d476f7a3",
   "metadata": {},
   "source": [
    "## November"
   ]
  },
  {
   "cell_type": "code",
   "execution_count": 162,
   "id": "63dc91c7",
   "metadata": {
    "scrolled": true,
    "tags": []
   },
   "outputs": [
    {
     "name": "stdout",
     "output_type": "stream",
     "text": [
      "<class 'pandas.core.frame.DataFrame'>\n",
      "RangeIndex: 1348 entries, 0 to 1347\n",
      "Data columns (total 53 columns):\n",
      " #   Column                  Non-Null Count  Dtype  \n",
      "---  ------                  --------------  -----  \n",
      " 0   index                   1348 non-null   int64  \n",
      " 1   LocationCode            1348 non-null   object \n",
      " 2   LocationName            1348 non-null   object \n",
      " 3   StatesCode              1348 non-null   object \n",
      " 4   ...4                    1348 non-null   int64  \n",
      " 5   id                      1348 non-null   float64\n",
      " 6   text                    1348 non-null   object \n",
      " 7   label                   1348 non-null   object \n",
      " 8   in_reply_to_status_id   145 non-null    float64\n",
      " 9   in_reply_to_user_id     152 non-null    float64\n",
      " 10  quoted_user_id          39 non-null     float64\n",
      " 11  quoted_status_id        39 non-null     float64\n",
      " 12  retweeted_user_id       160 non-null    float64\n",
      " 13  retweeted_status_id     160 non-null    float64\n",
      " 14  created_at              1348 non-null   object \n",
      " 15  entities.user_mentions  315 non-null    object \n",
      " 16  user.id                 1348 non-null   float64\n",
      " 17  user.screen_name        1348 non-null   object \n",
      " 18  user.name               1348 non-null   object \n",
      " 19  user.description        1223 non-null   object \n",
      " 20  user.timezone           0 non-null      float64\n",
      " 21  user.location           1311 non-null   object \n",
      " 22  user.num_followers      1348 non-null   int64  \n",
      " 23  user.num_following      1348 non-null   int64  \n",
      " 24  user.created_at         1348 non-null   object \n",
      " 25  user.statuses_count     1348 non-null   int64  \n",
      " 26  user.is_verified        1348 non-null   bool   \n",
      " 27  lang                    1348 non-null   object \n",
      " 28  token_count             1348 non-null   int64  \n",
      " 29  is_retweet              1348 non-null   bool   \n",
      " 30  has_quote               1348 non-null   bool   \n",
      " 31  is_reply                1348 non-null   bool   \n",
      " 32  contains_keywords       1348 non-null   bool   \n",
      " 33  longitude               1348 non-null   float64\n",
      " 34  latitude                1348 non-null   float64\n",
      " 35  country_code            1348 non-null   object \n",
      " 36  geoname_id              1150 non-null   float64\n",
      " 37  location_type           1348 non-null   object \n",
      " 38  geo_type                1348 non-null   int64  \n",
      " 39  region                  1348 non-null   object \n",
      " 40  subregion               1348 non-null   object \n",
      " 41  num_quotes              1348 non-null   int64  \n",
      " 42  num_replies             1348 non-null   int64  \n",
      " 43  num_retweets            1348 non-null   int64  \n",
      " 44  sent_gpt                1348 non-null   object \n",
      " 45  gpt_sent_presence       1348 non-null   int64  \n",
      " 46  cleaned_text_lem        1348 non-null   object \n",
      " 47  cleaned_text            1348 non-null   object \n",
      " 48  month                   1348 non-null   int64  \n",
      " 49  year                    1348 non-null   int64  \n",
      " 50  week                    1348 non-null   int64  \n",
      " 51  year_month              1348 non-null   object \n",
      " 52  year_week               1348 non-null   object \n",
      "dtypes: bool(5), float64(12), int64(14), object(22)\n",
      "memory usage: 512.2+ KB\n"
     ]
    }
   ],
   "source": [
    "# Get monthly data\n",
    "df_2017_11_neg = pd.read_csv('../data/local/df_neg_2017-11.csv').reset_index()\n",
    "df_2017_11_neg.info()"
   ]
  },
  {
   "cell_type": "markdown",
   "id": "e44ca951",
   "metadata": {},
   "source": [
    "### Representative sample based on week and location"
   ]
  },
  {
   "cell_type": "code",
   "execution_count": 163,
   "id": "58f0a8ff",
   "metadata": {},
   "outputs": [
    {
     "data": {
      "text/html": [
       "<div>\n",
       "<style scoped>\n",
       "    .dataframe tbody tr th:only-of-type {\n",
       "        vertical-align: middle;\n",
       "    }\n",
       "\n",
       "    .dataframe tbody tr th {\n",
       "        vertical-align: top;\n",
       "    }\n",
       "\n",
       "    .dataframe thead th {\n",
       "        text-align: right;\n",
       "    }\n",
       "</style>\n",
       "<table border=\"1\" class=\"dataframe\">\n",
       "  <thead>\n",
       "    <tr style=\"text-align: right;\">\n",
       "      <th></th>\n",
       "      <th>year_week</th>\n",
       "      <th>LocationName</th>\n",
       "      <th>group_size</th>\n",
       "      <th>proportion</th>\n",
       "    </tr>\n",
       "  </thead>\n",
       "  <tbody>\n",
       "    <tr>\n",
       "      <th>0</th>\n",
       "      <td>2017-w44</td>\n",
       "      <td>Amazonas</td>\n",
       "      <td>1</td>\n",
       "      <td>0.000742</td>\n",
       "    </tr>\n",
       "    <tr>\n",
       "      <th>1</th>\n",
       "      <td>2017-w44</td>\n",
       "      <td>Bahia</td>\n",
       "      <td>2</td>\n",
       "      <td>0.001484</td>\n",
       "    </tr>\n",
       "    <tr>\n",
       "      <th>2</th>\n",
       "      <td>2017-w44</td>\n",
       "      <td>Ceara</td>\n",
       "      <td>3</td>\n",
       "      <td>0.002226</td>\n",
       "    </tr>\n",
       "    <tr>\n",
       "      <th>3</th>\n",
       "      <td>2017-w44</td>\n",
       "      <td>Distrito Federal</td>\n",
       "      <td>3</td>\n",
       "      <td>0.002226</td>\n",
       "    </tr>\n",
       "    <tr>\n",
       "      <th>4</th>\n",
       "      <td>2017-w44</td>\n",
       "      <td>Espirito Santo</td>\n",
       "      <td>6</td>\n",
       "      <td>0.004451</td>\n",
       "    </tr>\n",
       "    <tr>\n",
       "      <th>...</th>\n",
       "      <td>...</td>\n",
       "      <td>...</td>\n",
       "      <td>...</td>\n",
       "      <td>...</td>\n",
       "    </tr>\n",
       "    <tr>\n",
       "      <th>90</th>\n",
       "      <td>2017-w48</td>\n",
       "      <td>Rio Grande Do Sul</td>\n",
       "      <td>27</td>\n",
       "      <td>0.020030</td>\n",
       "    </tr>\n",
       "    <tr>\n",
       "      <th>91</th>\n",
       "      <td>2017-w48</td>\n",
       "      <td>Santa Catarina</td>\n",
       "      <td>5</td>\n",
       "      <td>0.003709</td>\n",
       "    </tr>\n",
       "    <tr>\n",
       "      <th>92</th>\n",
       "      <td>2017-w48</td>\n",
       "      <td>Sao Paulo</td>\n",
       "      <td>61</td>\n",
       "      <td>0.045252</td>\n",
       "    </tr>\n",
       "    <tr>\n",
       "      <th>93</th>\n",
       "      <td>2017-w48</td>\n",
       "      <td>Sergipe</td>\n",
       "      <td>2</td>\n",
       "      <td>0.001484</td>\n",
       "    </tr>\n",
       "    <tr>\n",
       "      <th>94</th>\n",
       "      <td>2017-w48</td>\n",
       "      <td>Tocantins</td>\n",
       "      <td>1</td>\n",
       "      <td>0.000742</td>\n",
       "    </tr>\n",
       "  </tbody>\n",
       "</table>\n",
       "<p>95 rows × 4 columns</p>\n",
       "</div>"
      ],
      "text/plain": [
       "   year_week       LocationName  group_size  proportion\n",
       "0   2017-w44           Amazonas           1    0.000742\n",
       "1   2017-w44              Bahia           2    0.001484\n",
       "2   2017-w44              Ceara           3    0.002226\n",
       "3   2017-w44   Distrito Federal           3    0.002226\n",
       "4   2017-w44     Espirito Santo           6    0.004451\n",
       "..       ...                ...         ...         ...\n",
       "90  2017-w48  Rio Grande Do Sul          27    0.020030\n",
       "91  2017-w48     Santa Catarina           5    0.003709\n",
       "92  2017-w48          Sao Paulo          61    0.045252\n",
       "93  2017-w48            Sergipe           2    0.001484\n",
       "94  2017-w48          Tocantins           1    0.000742\n",
       "\n",
       "[95 rows x 4 columns]"
      ]
     },
     "execution_count": 163,
     "metadata": {},
     "output_type": "execute_result"
    }
   ],
   "source": [
    "# Step 1: Calculate the size of each group (year_week, LocationName)\n",
    "group_sizes = df_2017_11_neg.groupby(['year_week', 'LocationName']).size().reset_index(name='group_size')\n",
    "\n",
    "# Step 2: Calculate the proportion of each group in the dataset\n",
    "total_rows = len(df_2017_11_neg)\n",
    "group_sizes['proportion'] = group_sizes['group_size'] / total_rows\n",
    "group_sizes"
   ]
  },
  {
   "cell_type": "code",
   "execution_count": 164,
   "id": "52c7e839",
   "metadata": {},
   "outputs": [
    {
     "data": {
      "text/html": [
       "<div>\n",
       "<style scoped>\n",
       "    .dataframe tbody tr th:only-of-type {\n",
       "        vertical-align: middle;\n",
       "    }\n",
       "\n",
       "    .dataframe tbody tr th {\n",
       "        vertical-align: top;\n",
       "    }\n",
       "\n",
       "    .dataframe thead th {\n",
       "        text-align: right;\n",
       "    }\n",
       "</style>\n",
       "<table border=\"1\" class=\"dataframe\">\n",
       "  <thead>\n",
       "    <tr style=\"text-align: right;\">\n",
       "      <th></th>\n",
       "      <th>year_week</th>\n",
       "      <th>LocationName</th>\n",
       "      <th>group_size</th>\n",
       "      <th>proportion</th>\n",
       "      <th>sample_size</th>\n",
       "    </tr>\n",
       "  </thead>\n",
       "  <tbody>\n",
       "    <tr>\n",
       "      <th>0</th>\n",
       "      <td>2017-w44</td>\n",
       "      <td>Amazonas</td>\n",
       "      <td>1</td>\n",
       "      <td>0.000742</td>\n",
       "      <td>1</td>\n",
       "    </tr>\n",
       "    <tr>\n",
       "      <th>1</th>\n",
       "      <td>2017-w44</td>\n",
       "      <td>Bahia</td>\n",
       "      <td>2</td>\n",
       "      <td>0.001484</td>\n",
       "      <td>3</td>\n",
       "    </tr>\n",
       "    <tr>\n",
       "      <th>2</th>\n",
       "      <td>2017-w44</td>\n",
       "      <td>Ceara</td>\n",
       "      <td>3</td>\n",
       "      <td>0.002226</td>\n",
       "      <td>5</td>\n",
       "    </tr>\n",
       "    <tr>\n",
       "      <th>3</th>\n",
       "      <td>2017-w44</td>\n",
       "      <td>Distrito Federal</td>\n",
       "      <td>3</td>\n",
       "      <td>0.002226</td>\n",
       "      <td>5</td>\n",
       "    </tr>\n",
       "    <tr>\n",
       "      <th>4</th>\n",
       "      <td>2017-w44</td>\n",
       "      <td>Espirito Santo</td>\n",
       "      <td>6</td>\n",
       "      <td>0.004451</td>\n",
       "      <td>10</td>\n",
       "    </tr>\n",
       "    <tr>\n",
       "      <th>...</th>\n",
       "      <td>...</td>\n",
       "      <td>...</td>\n",
       "      <td>...</td>\n",
       "      <td>...</td>\n",
       "      <td>...</td>\n",
       "    </tr>\n",
       "    <tr>\n",
       "      <th>90</th>\n",
       "      <td>2017-w48</td>\n",
       "      <td>Rio Grande Do Sul</td>\n",
       "      <td>27</td>\n",
       "      <td>0.020030</td>\n",
       "      <td>49</td>\n",
       "    </tr>\n",
       "    <tr>\n",
       "      <th>91</th>\n",
       "      <td>2017-w48</td>\n",
       "      <td>Santa Catarina</td>\n",
       "      <td>5</td>\n",
       "      <td>0.003709</td>\n",
       "      <td>9</td>\n",
       "    </tr>\n",
       "    <tr>\n",
       "      <th>92</th>\n",
       "      <td>2017-w48</td>\n",
       "      <td>Sao Paulo</td>\n",
       "      <td>61</td>\n",
       "      <td>0.045252</td>\n",
       "      <td>110</td>\n",
       "    </tr>\n",
       "    <tr>\n",
       "      <th>93</th>\n",
       "      <td>2017-w48</td>\n",
       "      <td>Sergipe</td>\n",
       "      <td>2</td>\n",
       "      <td>0.001484</td>\n",
       "      <td>3</td>\n",
       "    </tr>\n",
       "    <tr>\n",
       "      <th>94</th>\n",
       "      <td>2017-w48</td>\n",
       "      <td>Tocantins</td>\n",
       "      <td>1</td>\n",
       "      <td>0.000742</td>\n",
       "      <td>1</td>\n",
       "    </tr>\n",
       "  </tbody>\n",
       "</table>\n",
       "<p>95 rows × 5 columns</p>\n",
       "</div>"
      ],
      "text/plain": [
       "   year_week       LocationName  group_size  proportion  sample_size\n",
       "0   2017-w44           Amazonas           1    0.000742            1\n",
       "1   2017-w44              Bahia           2    0.001484            3\n",
       "2   2017-w44              Ceara           3    0.002226            5\n",
       "3   2017-w44   Distrito Federal           3    0.002226            5\n",
       "4   2017-w44     Espirito Santo           6    0.004451           10\n",
       "..       ...                ...         ...         ...          ...\n",
       "90  2017-w48  Rio Grande Do Sul          27    0.020030           49\n",
       "91  2017-w48     Santa Catarina           5    0.003709            9\n",
       "92  2017-w48          Sao Paulo          61    0.045252          110\n",
       "93  2017-w48            Sergipe           2    0.001484            3\n",
       "94  2017-w48          Tocantins           1    0.000742            1\n",
       "\n",
       "[95 rows x 5 columns]"
      ]
     },
     "execution_count": 164,
     "metadata": {},
     "output_type": "execute_result"
    }
   ],
   "source": [
    "# Step 3: Define the target sample size\n",
    "target_sample_size = 2450\n",
    "\n",
    "# Step 4: Calculate the sample size for each group (based on its proportion)\n",
    "group_sizes['sample_size'] = np.floor(group_sizes['proportion'] * target_sample_size).astype(int)\n",
    "group_sizes"
   ]
  },
  {
   "cell_type": "code",
   "execution_count": 165,
   "id": "47bfacf4",
   "metadata": {},
   "outputs": [],
   "source": [
    "# Step 5: Merge this sample size information back to the original DataFrame\n",
    "df_2017_11_neg_sample_size = pd.merge(df_2017_11_neg, group_sizes[['year_week', 'LocationName', 'sample_size']], \n",
    "                               on=['year_week', 'LocationName'], how='left')"
   ]
  },
  {
   "cell_type": "code",
   "execution_count": 167,
   "id": "3127c68e",
   "metadata": {},
   "outputs": [
    {
     "name": "stdout",
     "output_type": "stream",
     "text": [
      "Sampled 1348 rows.\n"
     ]
    }
   ],
   "source": [
    "# Step 6: Perform the stratified sampling\n",
    "#df_2017_11_neg_sample = df_2017_11_neg_sample_size.groupby(['year_week', 'LocationName']).apply(\n",
    " #   lambda group: group.sample(n=group['sample_size'].iloc[0], random_state=42)\n",
    "#).reset_index(drop=True)\n",
    "df_2017_11_neg_sample = df_2017_11_neg\n",
    "# Step 7: Check the result\n",
    "print(f\"Sampled {len(df_2017_11_neg_sample)} rows.\")\n"
   ]
  },
  {
   "cell_type": "code",
   "execution_count": 168,
   "id": "a5fc3ad1",
   "metadata": {},
   "outputs": [],
   "source": [
    "text_gpt_2017_11_neg = '\\n'.join(df_2017_11_neg_sample['text'].astype(str))"
   ]
  },
  {
   "cell_type": "markdown",
   "id": "8df94c41",
   "metadata": {},
   "source": [
    "### Prompts and loops"
   ]
  },
  {
   "cell_type": "code",
   "execution_count": 169,
   "id": "b2c43f66",
   "metadata": {},
   "outputs": [],
   "source": [
    "prompt_11 = prompt_raw.replace('TWEETS', text_gpt_2017_11_neg)"
   ]
  },
  {
   "cell_type": "code",
   "execution_count": 170,
   "id": "87bbf147",
   "metadata": {
    "scrolled": false
   },
   "outputs": [],
   "source": [
    "response = openai.ChatCompletion.create(\n",
    "    model=\"gpt-4o-mini\",  \n",
    "    messages = [\n",
    "        {\"role\": \"user\", \"content\": prompt_11}\n",
    "    ],\n",
    "    max_tokens=400,  # Maximum number of tokens in the response\n",
    "    temperature=0.7  # Controls the randomness of the output\n",
    ")"
   ]
  },
  {
   "cell_type": "code",
   "execution_count": 171,
   "id": "99d409e9",
   "metadata": {},
   "outputs": [
    {
     "data": {
      "text/plain": [
       "'The text discusses various frustrations and fears related to vaccines, particularly highlighting experiences of pain and anxiety during vaccinations. It mentions the controversy surrounding the dengue vaccine, emphasizing that it should not be administered to individuals who have never had dengue due to potential risks. Concerns about misinformation and vaccine hesitancy are also present, alongside personal anecdotes about the emotional impact of vaccinations on both adults and children.'"
      ]
     },
     "execution_count": 171,
     "metadata": {},
     "output_type": "execute_result"
    }
   ],
   "source": [
    "response.choices[0].message.content"
   ]
  },
  {
   "cell_type": "code",
   "execution_count": 172,
   "id": "c1cb7d55",
   "metadata": {},
   "outputs": [],
   "source": [
    "#summary = []\n",
    "#dataset = []"
   ]
  },
  {
   "cell_type": "code",
   "execution_count": 173,
   "id": "0b5f7bbc",
   "metadata": {},
   "outputs": [],
   "source": [
    "dataset.append(\"2017_11_negitive\")"
   ]
  },
  {
   "cell_type": "code",
   "execution_count": 174,
   "id": "25b7e5ff",
   "metadata": {},
   "outputs": [],
   "source": [
    "summary.append(response.choices[0].message.content)"
   ]
  },
  {
   "cell_type": "code",
   "execution_count": 175,
   "id": "10f2f273",
   "metadata": {
    "tags": []
   },
   "outputs": [
    {
     "name": "stdout",
     "output_type": "stream",
     "text": [
      "<class 'pandas.core.frame.DataFrame'>\n",
      "RangeIndex: 11 entries, 0 to 10\n",
      "Data columns (total 2 columns):\n",
      " #   Column   Non-Null Count  Dtype \n",
      "---  ------   --------------  ----- \n",
      " 0   dataset  11 non-null     object\n",
      " 1   summary  11 non-null     object\n",
      "dtypes: object(2)\n",
      "memory usage: 304.0+ bytes\n"
     ]
    }
   ],
   "source": [
    "df_2017_neg = pd.DataFrame(list(zip(dataset, summary)),\n",
    "                            columns = ['dataset', 'summary'])\n",
    "df_2017_neg.info()"
   ]
  },
  {
   "cell_type": "code",
   "execution_count": 176,
   "id": "89ced529",
   "metadata": {},
   "outputs": [
    {
     "data": {
      "text/html": [
       "<div>\n",
       "<style scoped>\n",
       "    .dataframe tbody tr th:only-of-type {\n",
       "        vertical-align: middle;\n",
       "    }\n",
       "\n",
       "    .dataframe tbody tr th {\n",
       "        vertical-align: top;\n",
       "    }\n",
       "\n",
       "    .dataframe thead th {\n",
       "        text-align: right;\n",
       "    }\n",
       "</style>\n",
       "<table border=\"1\" class=\"dataframe\">\n",
       "  <thead>\n",
       "    <tr style=\"text-align: right;\">\n",
       "      <th></th>\n",
       "      <th>dataset</th>\n",
       "      <th>summary</th>\n",
       "    </tr>\n",
       "  </thead>\n",
       "  <tbody>\n",
       "    <tr>\n",
       "      <th>0</th>\n",
       "      <td>2017_01_negitive</td>\n",
       "      <td>The passages mainly express frustration and fe...</td>\n",
       "    </tr>\n",
       "    <tr>\n",
       "      <th>1</th>\n",
       "      <td>2017_02_negitive</td>\n",
       "      <td>The sentences express a common frustration and...</td>\n",
       "    </tr>\n",
       "    <tr>\n",
       "      <th>2</th>\n",
       "      <td>2017_03_negitive</td>\n",
       "      <td>The texts express widespread anxiety, frustrat...</td>\n",
       "    </tr>\n",
       "    <tr>\n",
       "      <th>3</th>\n",
       "      <td>2017_04_negitive</td>\n",
       "      <td>The texts reflect widespread anxiety and negat...</td>\n",
       "    </tr>\n",
       "    <tr>\n",
       "      <th>4</th>\n",
       "      <td>2017_05_negitive</td>\n",
       "      <td>The sentences express a strong dislike and fea...</td>\n",
       "    </tr>\n",
       "    <tr>\n",
       "      <th>5</th>\n",
       "      <td>2017_06_negitive</td>\n",
       "      <td>The texts discuss various aspects of vaccinati...</td>\n",
       "    </tr>\n",
       "    <tr>\n",
       "      <th>6</th>\n",
       "      <td>2017_07_negitive</td>\n",
       "      <td>The text discusses various challenges regardin...</td>\n",
       "    </tr>\n",
       "    <tr>\n",
       "      <th>7</th>\n",
       "      <td>2017_08_negitive</td>\n",
       "      <td>The text discusses various opinions and experi...</td>\n",
       "    </tr>\n",
       "    <tr>\n",
       "      <th>8</th>\n",
       "      <td>2017_09_negitive</td>\n",
       "      <td>The text reflects a societal discourse around ...</td>\n",
       "    </tr>\n",
       "    <tr>\n",
       "      <th>9</th>\n",
       "      <td>2017_10_negitive</td>\n",
       "      <td>The sentences discuss a range of opinions and ...</td>\n",
       "    </tr>\n",
       "    <tr>\n",
       "      <th>10</th>\n",
       "      <td>2017_11_negitive</td>\n",
       "      <td>The text discusses various frustrations and fe...</td>\n",
       "    </tr>\n",
       "  </tbody>\n",
       "</table>\n",
       "</div>"
      ],
      "text/plain": [
       "             dataset                                            summary\n",
       "0   2017_01_negitive  The passages mainly express frustration and fe...\n",
       "1   2017_02_negitive  The sentences express a common frustration and...\n",
       "2   2017_03_negitive  The texts express widespread anxiety, frustrat...\n",
       "3   2017_04_negitive  The texts reflect widespread anxiety and negat...\n",
       "4   2017_05_negitive  The sentences express a strong dislike and fea...\n",
       "5   2017_06_negitive  The texts discuss various aspects of vaccinati...\n",
       "6   2017_07_negitive  The text discusses various challenges regardin...\n",
       "7   2017_08_negitive  The text discusses various opinions and experi...\n",
       "8   2017_09_negitive  The text reflects a societal discourse around ...\n",
       "9   2017_10_negitive  The sentences discuss a range of opinions and ...\n",
       "10  2017_11_negitive  The text discusses various frustrations and fe..."
      ]
     },
     "execution_count": 176,
     "metadata": {},
     "output_type": "execute_result"
    }
   ],
   "source": [
    "df_2017_neg.tail(14)"
   ]
  },
  {
   "cell_type": "code",
   "execution_count": 177,
   "id": "952c4bca",
   "metadata": {},
   "outputs": [
    {
     "data": {
      "text/plain": [
       "<OpenAIObject chat.completion id=chatcmpl-AUcep7zlGCrW4NK4QGA2G2etVmvdF at 0x254196fd220> JSON: {\n",
       "  \"choices\": [\n",
       "    {\n",
       "      \"finish_reason\": \"stop\",\n",
       "      \"index\": 0,\n",
       "      \"logprobs\": null,\n",
       "      \"message\": {\n",
       "        \"content\": \"The text discusses various frustrations and fears related to vaccines, particularly highlighting experiences of pain and anxiety during vaccinations. It mentions the controversy surrounding the dengue vaccine, emphasizing that it should not be administered to individuals who have never had dengue due to potential risks. Concerns about misinformation and vaccine hesitancy are also present, alongside personal anecdotes about the emotional impact of vaccinations on both adults and children.\",\n",
       "        \"refusal\": null,\n",
       "        \"role\": \"assistant\"\n",
       "      }\n",
       "    }\n",
       "  ],\n",
       "  \"created\": 1731861803,\n",
       "  \"id\": \"chatcmpl-AUcep7zlGCrW4NK4QGA2G2etVmvdF\",\n",
       "  \"model\": \"gpt-4o-mini-2024-07-18\",\n",
       "  \"object\": \"chat.completion\",\n",
       "  \"system_fingerprint\": \"fp_0ba0d124f1\",\n",
       "  \"usage\": {\n",
       "    \"completion_tokens\": 77,\n",
       "    \"completion_tokens_details\": {\n",
       "      \"accepted_prediction_tokens\": 0,\n",
       "      \"audio_tokens\": 0,\n",
       "      \"reasoning_tokens\": 0,\n",
       "      \"rejected_prediction_tokens\": 0\n",
       "    },\n",
       "    \"prompt_tokens\": 30494,\n",
       "    \"prompt_tokens_details\": {\n",
       "      \"audio_tokens\": 0,\n",
       "      \"cached_tokens\": 0\n",
       "    },\n",
       "    \"total_tokens\": 30571\n",
       "  }\n",
       "}"
      ]
     },
     "execution_count": 177,
     "metadata": {},
     "output_type": "execute_result"
    }
   ],
   "source": [
    "response"
   ]
  },
  {
   "cell_type": "markdown",
   "id": "46613a39",
   "metadata": {},
   "source": [
    "## December"
   ]
  },
  {
   "cell_type": "code",
   "execution_count": 178,
   "id": "3f6bde3b",
   "metadata": {
    "scrolled": true,
    "tags": []
   },
   "outputs": [
    {
     "name": "stdout",
     "output_type": "stream",
     "text": [
      "<class 'pandas.core.frame.DataFrame'>\n",
      "RangeIndex: 959 entries, 0 to 958\n",
      "Data columns (total 53 columns):\n",
      " #   Column                  Non-Null Count  Dtype  \n",
      "---  ------                  --------------  -----  \n",
      " 0   index                   959 non-null    int64  \n",
      " 1   LocationCode            959 non-null    object \n",
      " 2   LocationName            959 non-null    object \n",
      " 3   StatesCode              959 non-null    object \n",
      " 4   ...4                    959 non-null    int64  \n",
      " 5   id                      959 non-null    float64\n",
      " 6   text                    959 non-null    object \n",
      " 7   label                   959 non-null    object \n",
      " 8   in_reply_to_status_id   134 non-null    float64\n",
      " 9   in_reply_to_user_id     136 non-null    float64\n",
      " 10  quoted_user_id          34 non-null     float64\n",
      " 11  quoted_status_id        34 non-null     float64\n",
      " 12  retweeted_user_id       114 non-null    float64\n",
      " 13  retweeted_status_id     114 non-null    float64\n",
      " 14  created_at              959 non-null    object \n",
      " 15  entities.user_mentions  245 non-null    object \n",
      " 16  user.id                 959 non-null    float64\n",
      " 17  user.screen_name        959 non-null    object \n",
      " 18  user.name               959 non-null    object \n",
      " 19  user.description        854 non-null    object \n",
      " 20  user.timezone           0 non-null      float64\n",
      " 21  user.location           928 non-null    object \n",
      " 22  user.num_followers      959 non-null    int64  \n",
      " 23  user.num_following      959 non-null    int64  \n",
      " 24  user.created_at         959 non-null    object \n",
      " 25  user.statuses_count     959 non-null    int64  \n",
      " 26  user.is_verified        959 non-null    bool   \n",
      " 27  lang                    959 non-null    object \n",
      " 28  token_count             959 non-null    int64  \n",
      " 29  is_retweet              959 non-null    bool   \n",
      " 30  has_quote               959 non-null    bool   \n",
      " 31  is_reply                959 non-null    bool   \n",
      " 32  contains_keywords       959 non-null    bool   \n",
      " 33  longitude               959 non-null    float64\n",
      " 34  latitude                959 non-null    float64\n",
      " 35  country_code            959 non-null    object \n",
      " 36  geoname_id              783 non-null    float64\n",
      " 37  location_type           959 non-null    object \n",
      " 38  geo_type                959 non-null    int64  \n",
      " 39  region                  959 non-null    object \n",
      " 40  subregion               959 non-null    object \n",
      " 41  num_quotes              959 non-null    int64  \n",
      " 42  num_replies             959 non-null    int64  \n",
      " 43  num_retweets            959 non-null    int64  \n",
      " 44  sent_gpt                959 non-null    object \n",
      " 45  gpt_sent_presence       959 non-null    int64  \n",
      " 46  cleaned_text_lem        959 non-null    object \n",
      " 47  cleaned_text            959 non-null    object \n",
      " 48  month                   959 non-null    int64  \n",
      " 49  year                    959 non-null    int64  \n",
      " 50  week                    959 non-null    int64  \n",
      " 51  year_month              959 non-null    object \n",
      " 52  year_week               959 non-null    object \n",
      "dtypes: bool(5), float64(12), int64(14), object(22)\n",
      "memory usage: 364.4+ KB\n"
     ]
    }
   ],
   "source": [
    "# Get monthly data\n",
    "df_2017_12_neg = pd.read_csv('../data/local/df_neg_2017-12.csv').reset_index()\n",
    "df_2017_12_neg.info()"
   ]
  },
  {
   "cell_type": "markdown",
   "id": "4658d918",
   "metadata": {},
   "source": [
    "### Representative sample based on week and location"
   ]
  },
  {
   "cell_type": "code",
   "execution_count": 179,
   "id": "fcdbb1e9",
   "metadata": {},
   "outputs": [
    {
     "data": {
      "text/html": [
       "<div>\n",
       "<style scoped>\n",
       "    .dataframe tbody tr th:only-of-type {\n",
       "        vertical-align: middle;\n",
       "    }\n",
       "\n",
       "    .dataframe tbody tr th {\n",
       "        vertical-align: top;\n",
       "    }\n",
       "\n",
       "    .dataframe thead th {\n",
       "        text-align: right;\n",
       "    }\n",
       "</style>\n",
       "<table border=\"1\" class=\"dataframe\">\n",
       "  <thead>\n",
       "    <tr style=\"text-align: right;\">\n",
       "      <th></th>\n",
       "      <th>year_week</th>\n",
       "      <th>LocationName</th>\n",
       "      <th>group_size</th>\n",
       "      <th>proportion</th>\n",
       "    </tr>\n",
       "  </thead>\n",
       "  <tbody>\n",
       "    <tr>\n",
       "      <th>0</th>\n",
       "      <td>2017-w48</td>\n",
       "      <td>Acre</td>\n",
       "      <td>1</td>\n",
       "      <td>0.001043</td>\n",
       "    </tr>\n",
       "    <tr>\n",
       "      <th>1</th>\n",
       "      <td>2017-w48</td>\n",
       "      <td>Amazonas</td>\n",
       "      <td>2</td>\n",
       "      <td>0.002086</td>\n",
       "    </tr>\n",
       "    <tr>\n",
       "      <th>2</th>\n",
       "      <td>2017-w48</td>\n",
       "      <td>Bahia</td>\n",
       "      <td>3</td>\n",
       "      <td>0.003128</td>\n",
       "    </tr>\n",
       "    <tr>\n",
       "      <th>3</th>\n",
       "      <td>2017-w48</td>\n",
       "      <td>Ceara</td>\n",
       "      <td>4</td>\n",
       "      <td>0.004171</td>\n",
       "    </tr>\n",
       "    <tr>\n",
       "      <th>4</th>\n",
       "      <td>2017-w48</td>\n",
       "      <td>Distrito Federal</td>\n",
       "      <td>6</td>\n",
       "      <td>0.006257</td>\n",
       "    </tr>\n",
       "    <tr>\n",
       "      <th>...</th>\n",
       "      <td>...</td>\n",
       "      <td>...</td>\n",
       "      <td>...</td>\n",
       "      <td>...</td>\n",
       "    </tr>\n",
       "    <tr>\n",
       "      <th>88</th>\n",
       "      <td>2017-w53</td>\n",
       "      <td>Ceara</td>\n",
       "      <td>1</td>\n",
       "      <td>0.001043</td>\n",
       "    </tr>\n",
       "    <tr>\n",
       "      <th>89</th>\n",
       "      <td>2017-w53</td>\n",
       "      <td>Minas Gerais</td>\n",
       "      <td>2</td>\n",
       "      <td>0.002086</td>\n",
       "    </tr>\n",
       "    <tr>\n",
       "      <th>90</th>\n",
       "      <td>2017-w53</td>\n",
       "      <td>Parana</td>\n",
       "      <td>1</td>\n",
       "      <td>0.001043</td>\n",
       "    </tr>\n",
       "    <tr>\n",
       "      <th>91</th>\n",
       "      <td>2017-w53</td>\n",
       "      <td>Rio Grande Do Sul</td>\n",
       "      <td>1</td>\n",
       "      <td>0.001043</td>\n",
       "    </tr>\n",
       "    <tr>\n",
       "      <th>92</th>\n",
       "      <td>2017-w53</td>\n",
       "      <td>Sao Paulo</td>\n",
       "      <td>2</td>\n",
       "      <td>0.002086</td>\n",
       "    </tr>\n",
       "  </tbody>\n",
       "</table>\n",
       "<p>93 rows × 4 columns</p>\n",
       "</div>"
      ],
      "text/plain": [
       "   year_week       LocationName  group_size  proportion\n",
       "0   2017-w48               Acre           1    0.001043\n",
       "1   2017-w48           Amazonas           2    0.002086\n",
       "2   2017-w48              Bahia           3    0.003128\n",
       "3   2017-w48              Ceara           4    0.004171\n",
       "4   2017-w48   Distrito Federal           6    0.006257\n",
       "..       ...                ...         ...         ...\n",
       "88  2017-w53              Ceara           1    0.001043\n",
       "89  2017-w53       Minas Gerais           2    0.002086\n",
       "90  2017-w53             Parana           1    0.001043\n",
       "91  2017-w53  Rio Grande Do Sul           1    0.001043\n",
       "92  2017-w53          Sao Paulo           2    0.002086\n",
       "\n",
       "[93 rows x 4 columns]"
      ]
     },
     "execution_count": 179,
     "metadata": {},
     "output_type": "execute_result"
    }
   ],
   "source": [
    "# Step 1: Calculate the size of each group (year_week, LocationName)\n",
    "group_sizes = df_2017_12_neg.groupby(['year_week', 'LocationName']).size().reset_index(name='group_size')\n",
    "\n",
    "# Step 2: Calculate the proportion of each group in the dataset\n",
    "total_rows = len(df_2017_12_neg)\n",
    "group_sizes['proportion'] = group_sizes['group_size'] / total_rows\n",
    "group_sizes"
   ]
  },
  {
   "cell_type": "code",
   "execution_count": 180,
   "id": "bbf24049",
   "metadata": {},
   "outputs": [
    {
     "data": {
      "text/html": [
       "<div>\n",
       "<style scoped>\n",
       "    .dataframe tbody tr th:only-of-type {\n",
       "        vertical-align: middle;\n",
       "    }\n",
       "\n",
       "    .dataframe tbody tr th {\n",
       "        vertical-align: top;\n",
       "    }\n",
       "\n",
       "    .dataframe thead th {\n",
       "        text-align: right;\n",
       "    }\n",
       "</style>\n",
       "<table border=\"1\" class=\"dataframe\">\n",
       "  <thead>\n",
       "    <tr style=\"text-align: right;\">\n",
       "      <th></th>\n",
       "      <th>year_week</th>\n",
       "      <th>LocationName</th>\n",
       "      <th>group_size</th>\n",
       "      <th>proportion</th>\n",
       "      <th>sample_size</th>\n",
       "    </tr>\n",
       "  </thead>\n",
       "  <tbody>\n",
       "    <tr>\n",
       "      <th>0</th>\n",
       "      <td>2017-w48</td>\n",
       "      <td>Acre</td>\n",
       "      <td>1</td>\n",
       "      <td>0.001043</td>\n",
       "      <td>2</td>\n",
       "    </tr>\n",
       "    <tr>\n",
       "      <th>1</th>\n",
       "      <td>2017-w48</td>\n",
       "      <td>Amazonas</td>\n",
       "      <td>2</td>\n",
       "      <td>0.002086</td>\n",
       "      <td>5</td>\n",
       "    </tr>\n",
       "    <tr>\n",
       "      <th>2</th>\n",
       "      <td>2017-w48</td>\n",
       "      <td>Bahia</td>\n",
       "      <td>3</td>\n",
       "      <td>0.003128</td>\n",
       "      <td>7</td>\n",
       "    </tr>\n",
       "    <tr>\n",
       "      <th>3</th>\n",
       "      <td>2017-w48</td>\n",
       "      <td>Ceara</td>\n",
       "      <td>4</td>\n",
       "      <td>0.004171</td>\n",
       "      <td>10</td>\n",
       "    </tr>\n",
       "    <tr>\n",
       "      <th>4</th>\n",
       "      <td>2017-w48</td>\n",
       "      <td>Distrito Federal</td>\n",
       "      <td>6</td>\n",
       "      <td>0.006257</td>\n",
       "      <td>15</td>\n",
       "    </tr>\n",
       "    <tr>\n",
       "      <th>...</th>\n",
       "      <td>...</td>\n",
       "      <td>...</td>\n",
       "      <td>...</td>\n",
       "      <td>...</td>\n",
       "      <td>...</td>\n",
       "    </tr>\n",
       "    <tr>\n",
       "      <th>88</th>\n",
       "      <td>2017-w53</td>\n",
       "      <td>Ceara</td>\n",
       "      <td>1</td>\n",
       "      <td>0.001043</td>\n",
       "      <td>2</td>\n",
       "    </tr>\n",
       "    <tr>\n",
       "      <th>89</th>\n",
       "      <td>2017-w53</td>\n",
       "      <td>Minas Gerais</td>\n",
       "      <td>2</td>\n",
       "      <td>0.002086</td>\n",
       "      <td>5</td>\n",
       "    </tr>\n",
       "    <tr>\n",
       "      <th>90</th>\n",
       "      <td>2017-w53</td>\n",
       "      <td>Parana</td>\n",
       "      <td>1</td>\n",
       "      <td>0.001043</td>\n",
       "      <td>2</td>\n",
       "    </tr>\n",
       "    <tr>\n",
       "      <th>91</th>\n",
       "      <td>2017-w53</td>\n",
       "      <td>Rio Grande Do Sul</td>\n",
       "      <td>1</td>\n",
       "      <td>0.001043</td>\n",
       "      <td>2</td>\n",
       "    </tr>\n",
       "    <tr>\n",
       "      <th>92</th>\n",
       "      <td>2017-w53</td>\n",
       "      <td>Sao Paulo</td>\n",
       "      <td>2</td>\n",
       "      <td>0.002086</td>\n",
       "      <td>5</td>\n",
       "    </tr>\n",
       "  </tbody>\n",
       "</table>\n",
       "<p>93 rows × 5 columns</p>\n",
       "</div>"
      ],
      "text/plain": [
       "   year_week       LocationName  group_size  proportion  sample_size\n",
       "0   2017-w48               Acre           1    0.001043            2\n",
       "1   2017-w48           Amazonas           2    0.002086            5\n",
       "2   2017-w48              Bahia           3    0.003128            7\n",
       "3   2017-w48              Ceara           4    0.004171           10\n",
       "4   2017-w48   Distrito Federal           6    0.006257           15\n",
       "..       ...                ...         ...         ...          ...\n",
       "88  2017-w53              Ceara           1    0.001043            2\n",
       "89  2017-w53       Minas Gerais           2    0.002086            5\n",
       "90  2017-w53             Parana           1    0.001043            2\n",
       "91  2017-w53  Rio Grande Do Sul           1    0.001043            2\n",
       "92  2017-w53          Sao Paulo           2    0.002086            5\n",
       "\n",
       "[93 rows x 5 columns]"
      ]
     },
     "execution_count": 180,
     "metadata": {},
     "output_type": "execute_result"
    }
   ],
   "source": [
    "# Step 3: Define the target sample size\n",
    "target_sample_size = 2450\n",
    "\n",
    "# Step 4: Calculate the sample size for each group (based on its proportion)\n",
    "group_sizes['sample_size'] = np.floor(group_sizes['proportion'] * target_sample_size).astype(int)\n",
    "group_sizes"
   ]
  },
  {
   "cell_type": "code",
   "execution_count": 181,
   "id": "c207c408",
   "metadata": {},
   "outputs": [],
   "source": [
    "# Step 5: Merge this sample size information back to the original DataFrame\n",
    "df_2017_12_neg_sample_size = pd.merge(df_2017_12_neg, group_sizes[['year_week', 'LocationName', 'sample_size']], \n",
    "                               on=['year_week', 'LocationName'], how='left')"
   ]
  },
  {
   "cell_type": "code",
   "execution_count": 184,
   "id": "66d74acb",
   "metadata": {},
   "outputs": [
    {
     "name": "stdout",
     "output_type": "stream",
     "text": [
      "Sampled 959 rows.\n"
     ]
    }
   ],
   "source": [
    "# Step 6: Perform the stratified sampling\n",
    "#df_2017_12_neg_sample = df_2017_12_neg_sample_size.groupby(['year_week', 'LocationName']).apply(\n",
    " #   lambda group: group.sample(n=group['sample_size'].iloc[0], random_state=42)\n",
    "#).reset_index(drop=True)\n",
    "df_2017_12_neg_sample = df_2017_12_neg\n",
    "# Step 7: Check the result\n",
    "print(f\"Sampled {len(df_2017_12_neg_sample)} rows.\")\n"
   ]
  },
  {
   "cell_type": "code",
   "execution_count": 185,
   "id": "b23befcc",
   "metadata": {},
   "outputs": [],
   "source": [
    "text_gpt_2017_12_neg = '\\n'.join(df_2017_12_neg_sample['text'].astype(str))"
   ]
  },
  {
   "cell_type": "markdown",
   "id": "d3650c4b",
   "metadata": {},
   "source": [
    "### Prompts and loops"
   ]
  },
  {
   "cell_type": "code",
   "execution_count": 186,
   "id": "791b4fd6",
   "metadata": {},
   "outputs": [],
   "source": [
    "prompt_12 = prompt_raw.replace('TWEETS', text_gpt_2017_12_neg)"
   ]
  },
  {
   "cell_type": "code",
   "execution_count": 187,
   "id": "def2b9de",
   "metadata": {
    "scrolled": false
   },
   "outputs": [],
   "source": [
    "response = openai.ChatCompletion.create(\n",
    "    model=\"gpt-4o-mini\",  \n",
    "    messages = [\n",
    "        {\"role\": \"user\", \"content\": prompt_12}\n",
    "    ],\n",
    "    max_tokens=400,  # Maximum number of tokens in the response\n",
    "    temperature=0.7  # Controls the randomness of the output\n",
    ")"
   ]
  },
  {
   "cell_type": "code",
   "execution_count": 188,
   "id": "eb10f5ec",
   "metadata": {},
   "outputs": [
    {
     "data": {
      "text/plain": [
       "\"The sentences express a variety of sentiments regarding vaccinations, particularly the discomfort, pain, and fears associated with them. Many individuals share their experiences of pain after receiving vaccines, particularly for conditions like tetanus and yellow fever. Others express reluctance or anxiety about vaccination, citing negative experiences or side effects. There's also mention of public health campaigns, concerns over the effectiveness and safety of certain vaccines, and a general sense of frustration with the vaccination process.\""
      ]
     },
     "execution_count": 188,
     "metadata": {},
     "output_type": "execute_result"
    }
   ],
   "source": [
    "response.choices[0].message.content"
   ]
  },
  {
   "cell_type": "code",
   "execution_count": 189,
   "id": "82e7aa4c",
   "metadata": {},
   "outputs": [],
   "source": [
    "#summary = []\n",
    "#dataset = []"
   ]
  },
  {
   "cell_type": "code",
   "execution_count": 190,
   "id": "2a9d076b",
   "metadata": {},
   "outputs": [],
   "source": [
    "dataset.append(\"2017_12_negitive\")"
   ]
  },
  {
   "cell_type": "code",
   "execution_count": 191,
   "id": "8a057dbe",
   "metadata": {},
   "outputs": [],
   "source": [
    "summary.append(response.choices[0].message.content)"
   ]
  },
  {
   "cell_type": "code",
   "execution_count": 192,
   "id": "3bb6bfbd",
   "metadata": {
    "tags": []
   },
   "outputs": [
    {
     "name": "stdout",
     "output_type": "stream",
     "text": [
      "<class 'pandas.core.frame.DataFrame'>\n",
      "RangeIndex: 12 entries, 0 to 11\n",
      "Data columns (total 2 columns):\n",
      " #   Column   Non-Null Count  Dtype \n",
      "---  ------   --------------  ----- \n",
      " 0   dataset  12 non-null     object\n",
      " 1   summary  12 non-null     object\n",
      "dtypes: object(2)\n",
      "memory usage: 320.0+ bytes\n"
     ]
    }
   ],
   "source": [
    "df_2017_neg = pd.DataFrame(list(zip(dataset, summary)),\n",
    "                            columns = ['dataset', 'summary'])\n",
    "df_2017_neg.info()"
   ]
  },
  {
   "cell_type": "code",
   "execution_count": 193,
   "id": "893bd100",
   "metadata": {},
   "outputs": [
    {
     "data": {
      "text/html": [
       "<div>\n",
       "<style scoped>\n",
       "    .dataframe tbody tr th:only-of-type {\n",
       "        vertical-align: middle;\n",
       "    }\n",
       "\n",
       "    .dataframe tbody tr th {\n",
       "        vertical-align: top;\n",
       "    }\n",
       "\n",
       "    .dataframe thead th {\n",
       "        text-align: right;\n",
       "    }\n",
       "</style>\n",
       "<table border=\"1\" class=\"dataframe\">\n",
       "  <thead>\n",
       "    <tr style=\"text-align: right;\">\n",
       "      <th></th>\n",
       "      <th>dataset</th>\n",
       "      <th>summary</th>\n",
       "    </tr>\n",
       "  </thead>\n",
       "  <tbody>\n",
       "    <tr>\n",
       "      <th>0</th>\n",
       "      <td>2017_01_negitive</td>\n",
       "      <td>The passages mainly express frustration and fe...</td>\n",
       "    </tr>\n",
       "    <tr>\n",
       "      <th>1</th>\n",
       "      <td>2017_02_negitive</td>\n",
       "      <td>The sentences express a common frustration and...</td>\n",
       "    </tr>\n",
       "    <tr>\n",
       "      <th>2</th>\n",
       "      <td>2017_03_negitive</td>\n",
       "      <td>The texts express widespread anxiety, frustrat...</td>\n",
       "    </tr>\n",
       "    <tr>\n",
       "      <th>3</th>\n",
       "      <td>2017_04_negitive</td>\n",
       "      <td>The texts reflect widespread anxiety and negat...</td>\n",
       "    </tr>\n",
       "    <tr>\n",
       "      <th>4</th>\n",
       "      <td>2017_05_negitive</td>\n",
       "      <td>The sentences express a strong dislike and fea...</td>\n",
       "    </tr>\n",
       "    <tr>\n",
       "      <th>5</th>\n",
       "      <td>2017_06_negitive</td>\n",
       "      <td>The texts discuss various aspects of vaccinati...</td>\n",
       "    </tr>\n",
       "    <tr>\n",
       "      <th>6</th>\n",
       "      <td>2017_07_negitive</td>\n",
       "      <td>The text discusses various challenges regardin...</td>\n",
       "    </tr>\n",
       "    <tr>\n",
       "      <th>7</th>\n",
       "      <td>2017_08_negitive</td>\n",
       "      <td>The text discusses various opinions and experi...</td>\n",
       "    </tr>\n",
       "    <tr>\n",
       "      <th>8</th>\n",
       "      <td>2017_09_negitive</td>\n",
       "      <td>The text reflects a societal discourse around ...</td>\n",
       "    </tr>\n",
       "    <tr>\n",
       "      <th>9</th>\n",
       "      <td>2017_10_negitive</td>\n",
       "      <td>The sentences discuss a range of opinions and ...</td>\n",
       "    </tr>\n",
       "    <tr>\n",
       "      <th>10</th>\n",
       "      <td>2017_11_negitive</td>\n",
       "      <td>The text discusses various frustrations and fe...</td>\n",
       "    </tr>\n",
       "    <tr>\n",
       "      <th>11</th>\n",
       "      <td>2017_12_negitive</td>\n",
       "      <td>The sentences express a variety of sentiments ...</td>\n",
       "    </tr>\n",
       "  </tbody>\n",
       "</table>\n",
       "</div>"
      ],
      "text/plain": [
       "             dataset                                            summary\n",
       "0   2017_01_negitive  The passages mainly express frustration and fe...\n",
       "1   2017_02_negitive  The sentences express a common frustration and...\n",
       "2   2017_03_negitive  The texts express widespread anxiety, frustrat...\n",
       "3   2017_04_negitive  The texts reflect widespread anxiety and negat...\n",
       "4   2017_05_negitive  The sentences express a strong dislike and fea...\n",
       "5   2017_06_negitive  The texts discuss various aspects of vaccinati...\n",
       "6   2017_07_negitive  The text discusses various challenges regardin...\n",
       "7   2017_08_negitive  The text discusses various opinions and experi...\n",
       "8   2017_09_negitive  The text reflects a societal discourse around ...\n",
       "9   2017_10_negitive  The sentences discuss a range of opinions and ...\n",
       "10  2017_11_negitive  The text discusses various frustrations and fe...\n",
       "11  2017_12_negitive  The sentences express a variety of sentiments ..."
      ]
     },
     "execution_count": 193,
     "metadata": {},
     "output_type": "execute_result"
    }
   ],
   "source": [
    "df_2017_neg.tail(14)"
   ]
  },
  {
   "cell_type": "code",
   "execution_count": 194,
   "id": "20bf36e0",
   "metadata": {},
   "outputs": [
    {
     "data": {
      "text/plain": [
       "<OpenAIObject chat.completion id=chatcmpl-AUcfmLStEdaNiR0nFzRJn5Q4LyBkF at 0x254196f0db0> JSON: {\n",
       "  \"choices\": [\n",
       "    {\n",
       "      \"finish_reason\": \"stop\",\n",
       "      \"index\": 0,\n",
       "      \"logprobs\": null,\n",
       "      \"message\": {\n",
       "        \"content\": \"The sentences express a variety of sentiments regarding vaccinations, particularly the discomfort, pain, and fears associated with them. Many individuals share their experiences of pain after receiving vaccines, particularly for conditions like tetanus and yellow fever. Others express reluctance or anxiety about vaccination, citing negative experiences or side effects. There's also mention of public health campaigns, concerns over the effectiveness and safety of certain vaccines, and a general sense of frustration with the vaccination process.\",\n",
       "        \"refusal\": null,\n",
       "        \"role\": \"assistant\"\n",
       "      }\n",
       "    }\n",
       "  ],\n",
       "  \"created\": 1731861862,\n",
       "  \"id\": \"chatcmpl-AUcfmLStEdaNiR0nFzRJn5Q4LyBkF\",\n",
       "  \"model\": \"gpt-4o-mini-2024-07-18\",\n",
       "  \"object\": \"chat.completion\",\n",
       "  \"system_fingerprint\": \"fp_0ba0d124f1\",\n",
       "  \"usage\": {\n",
       "    \"completion_tokens\": 88,\n",
       "    \"completion_tokens_details\": {\n",
       "      \"accepted_prediction_tokens\": 0,\n",
       "      \"audio_tokens\": 0,\n",
       "      \"reasoning_tokens\": 0,\n",
       "      \"rejected_prediction_tokens\": 0\n",
       "    },\n",
       "    \"prompt_tokens\": 22908,\n",
       "    \"prompt_tokens_details\": {\n",
       "      \"audio_tokens\": 0,\n",
       "      \"cached_tokens\": 0\n",
       "    },\n",
       "    \"total_tokens\": 22996\n",
       "  }\n",
       "}"
      ]
     },
     "execution_count": 194,
     "metadata": {},
     "output_type": "execute_result"
    }
   ],
   "source": [
    "response"
   ]
  },
  {
   "cell_type": "markdown",
   "id": "4b2eea35",
   "metadata": {},
   "source": [
    "## All 2017 negative"
   ]
  },
  {
   "cell_type": "code",
   "execution_count": 195,
   "id": "76b26dc9",
   "metadata": {},
   "outputs": [],
   "source": [
    "df_2017_neg.to_csv('../data/summary_2017_negative_tweets.csv')"
   ]
  }
 ],
 "metadata": {
  "kernelspec": {
   "display_name": "Python 3 (ipykernel)",
   "language": "python",
   "name": "python3"
  },
  "language_info": {
   "codemirror_mode": {
    "name": "ipython",
    "version": 3
   },
   "file_extension": ".py",
   "mimetype": "text/x-python",
   "name": "python",
   "nbconvert_exporter": "python",
   "pygments_lexer": "ipython3",
   "version": "3.9.12"
  }
 },
 "nbformat": 4,
 "nbformat_minor": 5
}
