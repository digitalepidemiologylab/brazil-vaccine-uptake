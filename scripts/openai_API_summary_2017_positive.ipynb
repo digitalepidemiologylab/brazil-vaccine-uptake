{
 "cells": [
  {
   "cell_type": "markdown",
   "id": "e90b7c28",
   "metadata": {},
   "source": [
    "# Import libraries and data"
   ]
  },
  {
   "cell_type": "code",
   "execution_count": 185,
   "id": "433219e8-8f66-4be5-a3b8-e39fca644032",
   "metadata": {
    "tags": []
   },
   "outputs": [],
   "source": [
    "# Import libraries\n",
    "import os\n",
    "import openai\n",
    "import pandas as pd\n",
    "import numpy as np\n",
    "import openpyxl"
   ]
  },
  {
   "cell_type": "code",
   "execution_count": 186,
   "id": "2c68f056-74fe-4f29-9daf-6bdef5cc0701",
   "metadata": {},
   "outputs": [],
   "source": [
    "# Get OpenAI API secret key (change this file with your own OpenAI key)\n",
    "open_ai_key = open('../data/local/openai_key.txt', 'r').read()\n",
    "openai.api_key = open_ai_key\n",
    "#openai.Model.list()"
   ]
  },
  {
   "cell_type": "code",
   "execution_count": 187,
   "id": "aa3d0327",
   "metadata": {},
   "outputs": [],
   "source": [
    "# Prompt for GPT\n",
    "prompt_raw = \"I would like to summarise in maximum 300 characters and in English what the following sentences in Portuguese talk about. \\\n",
    "Do not use aspects mentioned only in one sentence as part of the summary: TWEETS\""
   ]
  },
  {
   "cell_type": "markdown",
   "id": "3c7787f4",
   "metadata": {},
   "source": [
    "# 2017 positive"
   ]
  },
  {
   "cell_type": "markdown",
   "id": "c0101e21",
   "metadata": {},
   "source": [
    "## January"
   ]
  },
  {
   "cell_type": "code",
   "execution_count": 188,
   "id": "0b3f06fc",
   "metadata": {
    "scrolled": true,
    "tags": []
   },
   "outputs": [
    {
     "name": "stdout",
     "output_type": "stream",
     "text": [
      "<class 'pandas.core.frame.DataFrame'>\n",
      "RangeIndex: 3830 entries, 0 to 3829\n",
      "Data columns (total 53 columns):\n",
      " #   Column                  Non-Null Count  Dtype  \n",
      "---  ------                  --------------  -----  \n",
      " 0   index                   3830 non-null   int64  \n",
      " 1   LocationCode            3830 non-null   object \n",
      " 2   LocationName            3830 non-null   object \n",
      " 3   StatesCode              3830 non-null   object \n",
      " 4   ...4                    3830 non-null   int64  \n",
      " 5   id                      3830 non-null   float64\n",
      " 6   text                    3830 non-null   object \n",
      " 7   label                   3830 non-null   object \n",
      " 8   in_reply_to_status_id   214 non-null    float64\n",
      " 9   in_reply_to_user_id     235 non-null    float64\n",
      " 10  quoted_user_id          71 non-null     float64\n",
      " 11  quoted_status_id        71 non-null     float64\n",
      " 12  retweeted_user_id       1100 non-null   float64\n",
      " 13  retweeted_status_id     1100 non-null   float64\n",
      " 14  created_at              3830 non-null   object \n",
      " 15  entities.user_mentions  1452 non-null   object \n",
      " 16  user.id                 3830 non-null   float64\n",
      " 17  user.screen_name        3830 non-null   object \n",
      " 18  user.name               3830 non-null   object \n",
      " 19  user.description        3382 non-null   object \n",
      " 20  user.timezone           0 non-null      float64\n",
      " 21  user.location           3801 non-null   object \n",
      " 22  user.num_followers      3830 non-null   int64  \n",
      " 23  user.num_following      3830 non-null   int64  \n",
      " 24  user.created_at         3830 non-null   object \n",
      " 25  user.statuses_count     3830 non-null   int64  \n",
      " 26  user.is_verified        3830 non-null   bool   \n",
      " 27  lang                    3830 non-null   object \n",
      " 28  token_count             3830 non-null   int64  \n",
      " 29  is_retweet              3830 non-null   bool   \n",
      " 30  has_quote               3830 non-null   bool   \n",
      " 31  is_reply                3830 non-null   bool   \n",
      " 32  contains_keywords       3830 non-null   bool   \n",
      " 33  longitude               3830 non-null   float64\n",
      " 34  latitude                3830 non-null   float64\n",
      " 35  country_code            3830 non-null   object \n",
      " 36  geoname_id              3645 non-null   float64\n",
      " 37  location_type           3830 non-null   object \n",
      " 38  geo_type                3830 non-null   int64  \n",
      " 39  region                  3830 non-null   object \n",
      " 40  subregion               3830 non-null   object \n",
      " 41  num_quotes              3830 non-null   int64  \n",
      " 42  num_replies             3830 non-null   int64  \n",
      " 43  num_retweets            3830 non-null   int64  \n",
      " 44  sent_gpt                3830 non-null   object \n",
      " 45  gpt_sent_presence       3830 non-null   int64  \n",
      " 46  cleaned_text_lem        3830 non-null   object \n",
      " 47  cleaned_text            3830 non-null   object \n",
      " 48  month                   3830 non-null   int64  \n",
      " 49  year                    3830 non-null   int64  \n",
      " 50  week                    3830 non-null   int64  \n",
      " 51  year_month              3830 non-null   object \n",
      " 52  year_week               3830 non-null   object \n",
      "dtypes: bool(5), float64(12), int64(14), object(22)\n",
      "memory usage: 1.4+ MB\n"
     ]
    }
   ],
   "source": [
    "# Get monthly data\n",
    "df_2017_01_pos = pd.read_csv('../data/local/df_pos_2017-01.csv').reset_index()\n",
    "df_2017_01_pos.info()"
   ]
  },
  {
   "cell_type": "markdown",
   "id": "98d4ddaf",
   "metadata": {},
   "source": [
    "### Representative sample based on week and location"
   ]
  },
  {
   "cell_type": "code",
   "execution_count": 189,
   "id": "85b2559c",
   "metadata": {},
   "outputs": [
    {
     "data": {
      "text/html": [
       "<div>\n",
       "<style scoped>\n",
       "    .dataframe tbody tr th:only-of-type {\n",
       "        vertical-align: middle;\n",
       "    }\n",
       "\n",
       "    .dataframe tbody tr th {\n",
       "        vertical-align: top;\n",
       "    }\n",
       "\n",
       "    .dataframe thead th {\n",
       "        text-align: right;\n",
       "    }\n",
       "</style>\n",
       "<table border=\"1\" class=\"dataframe\">\n",
       "  <thead>\n",
       "    <tr style=\"text-align: right;\">\n",
       "      <th></th>\n",
       "      <th>year_week</th>\n",
       "      <th>LocationName</th>\n",
       "      <th>group_size</th>\n",
       "      <th>proportion</th>\n",
       "    </tr>\n",
       "  </thead>\n",
       "  <tbody>\n",
       "    <tr>\n",
       "      <th>0</th>\n",
       "      <td>2017-w01</td>\n",
       "      <td>Acre</td>\n",
       "      <td>2</td>\n",
       "      <td>0.000522</td>\n",
       "    </tr>\n",
       "    <tr>\n",
       "      <th>1</th>\n",
       "      <td>2017-w01</td>\n",
       "      <td>Alagoas</td>\n",
       "      <td>15</td>\n",
       "      <td>0.003916</td>\n",
       "    </tr>\n",
       "    <tr>\n",
       "      <th>2</th>\n",
       "      <td>2017-w01</td>\n",
       "      <td>Amapa</td>\n",
       "      <td>3</td>\n",
       "      <td>0.000783</td>\n",
       "    </tr>\n",
       "    <tr>\n",
       "      <th>3</th>\n",
       "      <td>2017-w01</td>\n",
       "      <td>Amazonas</td>\n",
       "      <td>42</td>\n",
       "      <td>0.010966</td>\n",
       "    </tr>\n",
       "    <tr>\n",
       "      <th>4</th>\n",
       "      <td>2017-w01</td>\n",
       "      <td>Bahia</td>\n",
       "      <td>78</td>\n",
       "      <td>0.020366</td>\n",
       "    </tr>\n",
       "    <tr>\n",
       "      <th>...</th>\n",
       "      <td>...</td>\n",
       "      <td>...</td>\n",
       "      <td>...</td>\n",
       "      <td>...</td>\n",
       "    </tr>\n",
       "    <tr>\n",
       "      <th>113</th>\n",
       "      <td>2017-w05</td>\n",
       "      <td>Pernambuco</td>\n",
       "      <td>6</td>\n",
       "      <td>0.001567</td>\n",
       "    </tr>\n",
       "    <tr>\n",
       "      <th>114</th>\n",
       "      <td>2017-w05</td>\n",
       "      <td>Rio De Janeiro</td>\n",
       "      <td>1</td>\n",
       "      <td>0.000261</td>\n",
       "    </tr>\n",
       "    <tr>\n",
       "      <th>115</th>\n",
       "      <td>2017-w05</td>\n",
       "      <td>Rio Grande Do Sul</td>\n",
       "      <td>6</td>\n",
       "      <td>0.001567</td>\n",
       "    </tr>\n",
       "    <tr>\n",
       "      <th>116</th>\n",
       "      <td>2017-w05</td>\n",
       "      <td>Santa Catarina</td>\n",
       "      <td>4</td>\n",
       "      <td>0.001044</td>\n",
       "    </tr>\n",
       "    <tr>\n",
       "      <th>117</th>\n",
       "      <td>2017-w05</td>\n",
       "      <td>Sao Paulo</td>\n",
       "      <td>31</td>\n",
       "      <td>0.008094</td>\n",
       "    </tr>\n",
       "  </tbody>\n",
       "</table>\n",
       "<p>118 rows × 4 columns</p>\n",
       "</div>"
      ],
      "text/plain": [
       "    year_week       LocationName  group_size  proportion\n",
       "0    2017-w01               Acre           2    0.000522\n",
       "1    2017-w01            Alagoas          15    0.003916\n",
       "2    2017-w01              Amapa           3    0.000783\n",
       "3    2017-w01           Amazonas          42    0.010966\n",
       "4    2017-w01              Bahia          78    0.020366\n",
       "..        ...                ...         ...         ...\n",
       "113  2017-w05         Pernambuco           6    0.001567\n",
       "114  2017-w05     Rio De Janeiro           1    0.000261\n",
       "115  2017-w05  Rio Grande Do Sul           6    0.001567\n",
       "116  2017-w05     Santa Catarina           4    0.001044\n",
       "117  2017-w05          Sao Paulo          31    0.008094\n",
       "\n",
       "[118 rows x 4 columns]"
      ]
     },
     "execution_count": 189,
     "metadata": {},
     "output_type": "execute_result"
    }
   ],
   "source": [
    "# Step 1: Calculate the size of each group (year_week, LocationName)\n",
    "group_sizes = df_2017_01_pos.groupby(['year_week', 'LocationName']).size().reset_index(name='group_size')\n",
    "\n",
    "# Step 2: Calculate the proportion of each group in the dataset\n",
    "total_rows = len(df_2017_01_pos)\n",
    "group_sizes['proportion'] = group_sizes['group_size'] / total_rows\n",
    "group_sizes"
   ]
  },
  {
   "cell_type": "code",
   "execution_count": 190,
   "id": "3fac3240",
   "metadata": {},
   "outputs": [
    {
     "data": {
      "text/html": [
       "<div>\n",
       "<style scoped>\n",
       "    .dataframe tbody tr th:only-of-type {\n",
       "        vertical-align: middle;\n",
       "    }\n",
       "\n",
       "    .dataframe tbody tr th {\n",
       "        vertical-align: top;\n",
       "    }\n",
       "\n",
       "    .dataframe thead th {\n",
       "        text-align: right;\n",
       "    }\n",
       "</style>\n",
       "<table border=\"1\" class=\"dataframe\">\n",
       "  <thead>\n",
       "    <tr style=\"text-align: right;\">\n",
       "      <th></th>\n",
       "      <th>year_week</th>\n",
       "      <th>LocationName</th>\n",
       "      <th>group_size</th>\n",
       "      <th>proportion</th>\n",
       "      <th>sample_size</th>\n",
       "    </tr>\n",
       "  </thead>\n",
       "  <tbody>\n",
       "    <tr>\n",
       "      <th>0</th>\n",
       "      <td>2017-w01</td>\n",
       "      <td>Acre</td>\n",
       "      <td>2</td>\n",
       "      <td>0.000522</td>\n",
       "      <td>1</td>\n",
       "    </tr>\n",
       "    <tr>\n",
       "      <th>1</th>\n",
       "      <td>2017-w01</td>\n",
       "      <td>Alagoas</td>\n",
       "      <td>15</td>\n",
       "      <td>0.003916</td>\n",
       "      <td>9</td>\n",
       "    </tr>\n",
       "    <tr>\n",
       "      <th>2</th>\n",
       "      <td>2017-w01</td>\n",
       "      <td>Amapa</td>\n",
       "      <td>3</td>\n",
       "      <td>0.000783</td>\n",
       "      <td>1</td>\n",
       "    </tr>\n",
       "    <tr>\n",
       "      <th>3</th>\n",
       "      <td>2017-w01</td>\n",
       "      <td>Amazonas</td>\n",
       "      <td>42</td>\n",
       "      <td>0.010966</td>\n",
       "      <td>26</td>\n",
       "    </tr>\n",
       "    <tr>\n",
       "      <th>4</th>\n",
       "      <td>2017-w01</td>\n",
       "      <td>Bahia</td>\n",
       "      <td>78</td>\n",
       "      <td>0.020366</td>\n",
       "      <td>49</td>\n",
       "    </tr>\n",
       "    <tr>\n",
       "      <th>...</th>\n",
       "      <td>...</td>\n",
       "      <td>...</td>\n",
       "      <td>...</td>\n",
       "      <td>...</td>\n",
       "      <td>...</td>\n",
       "    </tr>\n",
       "    <tr>\n",
       "      <th>113</th>\n",
       "      <td>2017-w05</td>\n",
       "      <td>Pernambuco</td>\n",
       "      <td>6</td>\n",
       "      <td>0.001567</td>\n",
       "      <td>3</td>\n",
       "    </tr>\n",
       "    <tr>\n",
       "      <th>114</th>\n",
       "      <td>2017-w05</td>\n",
       "      <td>Rio De Janeiro</td>\n",
       "      <td>1</td>\n",
       "      <td>0.000261</td>\n",
       "      <td>0</td>\n",
       "    </tr>\n",
       "    <tr>\n",
       "      <th>115</th>\n",
       "      <td>2017-w05</td>\n",
       "      <td>Rio Grande Do Sul</td>\n",
       "      <td>6</td>\n",
       "      <td>0.001567</td>\n",
       "      <td>3</td>\n",
       "    </tr>\n",
       "    <tr>\n",
       "      <th>116</th>\n",
       "      <td>2017-w05</td>\n",
       "      <td>Santa Catarina</td>\n",
       "      <td>4</td>\n",
       "      <td>0.001044</td>\n",
       "      <td>2</td>\n",
       "    </tr>\n",
       "    <tr>\n",
       "      <th>117</th>\n",
       "      <td>2017-w05</td>\n",
       "      <td>Sao Paulo</td>\n",
       "      <td>31</td>\n",
       "      <td>0.008094</td>\n",
       "      <td>19</td>\n",
       "    </tr>\n",
       "  </tbody>\n",
       "</table>\n",
       "<p>118 rows × 5 columns</p>\n",
       "</div>"
      ],
      "text/plain": [
       "    year_week       LocationName  group_size  proportion  sample_size\n",
       "0    2017-w01               Acre           2    0.000522            1\n",
       "1    2017-w01            Alagoas          15    0.003916            9\n",
       "2    2017-w01              Amapa           3    0.000783            1\n",
       "3    2017-w01           Amazonas          42    0.010966           26\n",
       "4    2017-w01              Bahia          78    0.020366           49\n",
       "..        ...                ...         ...         ...          ...\n",
       "113  2017-w05         Pernambuco           6    0.001567            3\n",
       "114  2017-w05     Rio De Janeiro           1    0.000261            0\n",
       "115  2017-w05  Rio Grande Do Sul           6    0.001567            3\n",
       "116  2017-w05     Santa Catarina           4    0.001044            2\n",
       "117  2017-w05          Sao Paulo          31    0.008094           19\n",
       "\n",
       "[118 rows x 5 columns]"
      ]
     },
     "execution_count": 190,
     "metadata": {},
     "output_type": "execute_result"
    }
   ],
   "source": [
    "# Step 3: Define the target sample size\n",
    "target_sample_size = 2450\n",
    "\n",
    "# Step 4: Calculate the sample size for each group (based on its proportion)\n",
    "group_sizes['sample_size'] = np.floor(group_sizes['proportion'] * target_sample_size).astype(int)\n",
    "group_sizes"
   ]
  },
  {
   "cell_type": "code",
   "execution_count": 191,
   "id": "c7469167",
   "metadata": {},
   "outputs": [],
   "source": [
    "# Step 5: Merge this sample size information back to the original DataFrame\n",
    "df_2017_01_pos_sample_size = pd.merge(df_2017_01_pos, group_sizes[['year_week', 'LocationName', 'sample_size']], \n",
    "                               on=['year_week', 'LocationName'], how='left')"
   ]
  },
  {
   "cell_type": "code",
   "execution_count": 192,
   "id": "9c4475e7",
   "metadata": {},
   "outputs": [
    {
     "name": "stdout",
     "output_type": "stream",
     "text": [
      "Sampled 2390 rows.\n"
     ]
    }
   ],
   "source": [
    "# Step 6: Perform the stratified sampling\n",
    "df_2017_01_pos_sample = df_2017_01_pos_sample_size.groupby(['year_week', 'LocationName']).apply(\n",
    "    lambda group: group.sample(n=group['sample_size'].iloc[0], random_state=42)\n",
    ").reset_index(drop=True)\n",
    "\n",
    "# Step 7: Check the result\n",
    "print(f\"Sampled {len(df_2017_01_pos_sample)} rows.\")\n"
   ]
  },
  {
   "cell_type": "code",
   "execution_count": 193,
   "id": "c4ec1d65",
   "metadata": {},
   "outputs": [],
   "source": [
    "text_gpt_2017_01_pos = '\\n'.join(df_2017_01_pos_sample['text'].astype(str))"
   ]
  },
  {
   "cell_type": "markdown",
   "id": "5dc8c377",
   "metadata": {},
   "source": [
    "### Prompts and loops"
   ]
  },
  {
   "cell_type": "code",
   "execution_count": 194,
   "id": "a269fd14",
   "metadata": {},
   "outputs": [],
   "source": [
    "prompt_1 = prompt_raw.replace('TWEETS', text_gpt_2017_01_pos)"
   ]
  },
  {
   "cell_type": "code",
   "execution_count": 195,
   "id": "132f0e60",
   "metadata": {
    "scrolled": false
   },
   "outputs": [],
   "source": [
    "response = openai.ChatCompletion.create(\n",
    "    model=\"gpt-4o-mini\",  \n",
    "    messages = [\n",
    "        {\"role\": \"user\", \"content\": prompt_1}\n",
    "    ],\n",
    "    max_tokens=400,  # Maximum number of tokens in the response\n",
    "    temperature=0.7  # Controls the randomness of the output\n",
    ")"
   ]
  },
  {
   "cell_type": "code",
   "execution_count": 196,
   "id": "8b87399c",
   "metadata": {},
   "outputs": [
    {
     "data": {
      "text/plain": [
       "'Penápolis will participate in the yellow fever vaccination campaign. The HPV vaccination has also been initiated for boys aged 12 to 13, with the goal of vaccinating over 735,000 boys in São Paulo. Additionally, a new dengue vaccine is expected by 2019, with investments for its production underway.'"
      ]
     },
     "execution_count": 196,
     "metadata": {},
     "output_type": "execute_result"
    }
   ],
   "source": [
    "response.choices[0].message.content"
   ]
  },
  {
   "cell_type": "code",
   "execution_count": 197,
   "id": "177a2bd7",
   "metadata": {},
   "outputs": [],
   "source": [
    "summary = []\n",
    "dataset = []"
   ]
  },
  {
   "cell_type": "code",
   "execution_count": 198,
   "id": "005c717a",
   "metadata": {},
   "outputs": [],
   "source": [
    "dataset.append(\"2017_01_positive\")"
   ]
  },
  {
   "cell_type": "code",
   "execution_count": 199,
   "id": "b3580ec6",
   "metadata": {},
   "outputs": [],
   "source": [
    "summary.append(response.choices[0].message.content)"
   ]
  },
  {
   "cell_type": "code",
   "execution_count": 200,
   "id": "24c5caaa",
   "metadata": {
    "tags": []
   },
   "outputs": [
    {
     "name": "stdout",
     "output_type": "stream",
     "text": [
      "<class 'pandas.core.frame.DataFrame'>\n",
      "RangeIndex: 1 entries, 0 to 0\n",
      "Data columns (total 2 columns):\n",
      " #   Column   Non-Null Count  Dtype \n",
      "---  ------   --------------  ----- \n",
      " 0   dataset  1 non-null      object\n",
      " 1   summary  1 non-null      object\n",
      "dtypes: object(2)\n",
      "memory usage: 144.0+ bytes\n"
     ]
    }
   ],
   "source": [
    "df_2017_pos = pd.DataFrame(list(zip(dataset, summary)),\n",
    "                            columns = ['dataset', 'summary'])\n",
    "df_2017_pos.info()"
   ]
  },
  {
   "cell_type": "code",
   "execution_count": 201,
   "id": "5bcf3f7f",
   "metadata": {},
   "outputs": [
    {
     "data": {
      "text/html": [
       "<div>\n",
       "<style scoped>\n",
       "    .dataframe tbody tr th:only-of-type {\n",
       "        vertical-align: middle;\n",
       "    }\n",
       "\n",
       "    .dataframe tbody tr th {\n",
       "        vertical-align: top;\n",
       "    }\n",
       "\n",
       "    .dataframe thead th {\n",
       "        text-align: right;\n",
       "    }\n",
       "</style>\n",
       "<table border=\"1\" class=\"dataframe\">\n",
       "  <thead>\n",
       "    <tr style=\"text-align: right;\">\n",
       "      <th></th>\n",
       "      <th>dataset</th>\n",
       "      <th>summary</th>\n",
       "    </tr>\n",
       "  </thead>\n",
       "  <tbody>\n",
       "    <tr>\n",
       "      <th>0</th>\n",
       "      <td>2017_01_positive</td>\n",
       "      <td>Penápolis will participate in the yellow fever...</td>\n",
       "    </tr>\n",
       "  </tbody>\n",
       "</table>\n",
       "</div>"
      ],
      "text/plain": [
       "            dataset                                            summary\n",
       "0  2017_01_positive  Penápolis will participate in the yellow fever..."
      ]
     },
     "execution_count": 201,
     "metadata": {},
     "output_type": "execute_result"
    }
   ],
   "source": [
    "df_2017_pos.tail(14)"
   ]
  },
  {
   "cell_type": "code",
   "execution_count": 202,
   "id": "df702099",
   "metadata": {},
   "outputs": [
    {
     "data": {
      "text/plain": [
       "<OpenAIObject chat.completion id=chatcmpl-AUB4iXQsnZAGvVOGC7LLXuHTfsOPa at 0x2170d3b15e0> JSON: {\n",
       "  \"choices\": [\n",
       "    {\n",
       "      \"finish_reason\": \"stop\",\n",
       "      \"index\": 0,\n",
       "      \"logprobs\": null,\n",
       "      \"message\": {\n",
       "        \"content\": \"Pen\\u00e1polis will participate in the yellow fever vaccination campaign. The HPV vaccination has also been initiated for boys aged 12 to 13, with the goal of vaccinating over 735,000 boys in S\\u00e3o Paulo. Additionally, a new dengue vaccine is expected by 2019, with investments for its production underway.\",\n",
       "        \"refusal\": null,\n",
       "        \"role\": \"assistant\"\n",
       "      }\n",
       "    }\n",
       "  ],\n",
       "  \"created\": 1731755776,\n",
       "  \"id\": \"chatcmpl-AUB4iXQsnZAGvVOGC7LLXuHTfsOPa\",\n",
       "  \"model\": \"gpt-4o-mini-2024-07-18\",\n",
       "  \"object\": \"chat.completion\",\n",
       "  \"system_fingerprint\": \"fp_0ba0d124f1\",\n",
       "  \"usage\": {\n",
       "    \"completion_tokens\": 64,\n",
       "    \"completion_tokens_details\": {\n",
       "      \"accepted_prediction_tokens\": 0,\n",
       "      \"audio_tokens\": 0,\n",
       "      \"reasoning_tokens\": 0,\n",
       "      \"rejected_prediction_tokens\": 0\n",
       "    },\n",
       "    \"prompt_tokens\": 56943,\n",
       "    \"prompt_tokens_details\": {\n",
       "      \"audio_tokens\": 0,\n",
       "      \"cached_tokens\": 0\n",
       "    },\n",
       "    \"total_tokens\": 57007\n",
       "  }\n",
       "}"
      ]
     },
     "execution_count": 202,
     "metadata": {},
     "output_type": "execute_result"
    }
   ],
   "source": [
    "response"
   ]
  },
  {
   "cell_type": "markdown",
   "id": "f2468aac",
   "metadata": {},
   "source": [
    "## February"
   ]
  },
  {
   "cell_type": "code",
   "execution_count": 203,
   "id": "5ea58abd",
   "metadata": {
    "scrolled": true,
    "tags": []
   },
   "outputs": [
    {
     "name": "stdout",
     "output_type": "stream",
     "text": [
      "<class 'pandas.core.frame.DataFrame'>\n",
      "RangeIndex: 2708 entries, 0 to 2707\n",
      "Data columns (total 53 columns):\n",
      " #   Column                  Non-Null Count  Dtype  \n",
      "---  ------                  --------------  -----  \n",
      " 0   index                   2708 non-null   int64  \n",
      " 1   LocationCode            2708 non-null   object \n",
      " 2   LocationName            2708 non-null   object \n",
      " 3   StatesCode              2708 non-null   object \n",
      " 4   ...4                    2708 non-null   int64  \n",
      " 5   id                      2708 non-null   float64\n",
      " 6   text                    2708 non-null   object \n",
      " 7   label                   2708 non-null   object \n",
      " 8   in_reply_to_status_id   151 non-null    float64\n",
      " 9   in_reply_to_user_id     164 non-null    float64\n",
      " 10  quoted_user_id          71 non-null     float64\n",
      " 11  quoted_status_id        71 non-null     float64\n",
      " 12  retweeted_user_id       919 non-null    float64\n",
      " 13  retweeted_status_id     919 non-null    float64\n",
      " 14  created_at              2708 non-null   object \n",
      " 15  entities.user_mentions  1171 non-null   object \n",
      " 16  user.id                 2708 non-null   float64\n",
      " 17  user.screen_name        2708 non-null   object \n",
      " 18  user.name               2708 non-null   object \n",
      " 19  user.description        2389 non-null   object \n",
      " 20  user.timezone           0 non-null      float64\n",
      " 21  user.location           2685 non-null   object \n",
      " 22  user.num_followers      2708 non-null   int64  \n",
      " 23  user.num_following      2708 non-null   int64  \n",
      " 24  user.created_at         2708 non-null   object \n",
      " 25  user.statuses_count     2708 non-null   int64  \n",
      " 26  user.is_verified        2708 non-null   bool   \n",
      " 27  lang                    2708 non-null   object \n",
      " 28  token_count             2708 non-null   int64  \n",
      " 29  is_retweet              2708 non-null   bool   \n",
      " 30  has_quote               2708 non-null   bool   \n",
      " 31  is_reply                2708 non-null   bool   \n",
      " 32  contains_keywords       2708 non-null   bool   \n",
      " 33  longitude               2708 non-null   float64\n",
      " 34  latitude                2708 non-null   float64\n",
      " 35  country_code            2708 non-null   object \n",
      " 36  geoname_id              2567 non-null   float64\n",
      " 37  location_type           2708 non-null   object \n",
      " 38  geo_type                2708 non-null   int64  \n",
      " 39  region                  2708 non-null   object \n",
      " 40  subregion               2708 non-null   object \n",
      " 41  num_quotes              2708 non-null   int64  \n",
      " 42  num_replies             2708 non-null   int64  \n",
      " 43  num_retweets            2708 non-null   int64  \n",
      " 44  sent_gpt                2708 non-null   object \n",
      " 45  gpt_sent_presence       2708 non-null   int64  \n",
      " 46  cleaned_text_lem        2708 non-null   object \n",
      " 47  cleaned_text            2708 non-null   object \n",
      " 48  month                   2708 non-null   int64  \n",
      " 49  year                    2708 non-null   int64  \n",
      " 50  week                    2708 non-null   int64  \n",
      " 51  year_month              2708 non-null   object \n",
      " 52  year_week               2708 non-null   object \n",
      "dtypes: bool(5), float64(12), int64(14), object(22)\n",
      "memory usage: 1.0+ MB\n"
     ]
    }
   ],
   "source": [
    "# Get monthly data\n",
    "df_2017_02_pos = pd.read_csv('../data/local/df_pos_2017-02.csv').reset_index()\n",
    "df_2017_02_pos.info()"
   ]
  },
  {
   "cell_type": "markdown",
   "id": "1131f48c",
   "metadata": {},
   "source": [
    "### Representative sample based on week and location"
   ]
  },
  {
   "cell_type": "code",
   "execution_count": 204,
   "id": "2ef3d681",
   "metadata": {},
   "outputs": [
    {
     "data": {
      "text/html": [
       "<div>\n",
       "<style scoped>\n",
       "    .dataframe tbody tr th:only-of-type {\n",
       "        vertical-align: middle;\n",
       "    }\n",
       "\n",
       "    .dataframe tbody tr th {\n",
       "        vertical-align: top;\n",
       "    }\n",
       "\n",
       "    .dataframe thead th {\n",
       "        text-align: right;\n",
       "    }\n",
       "</style>\n",
       "<table border=\"1\" class=\"dataframe\">\n",
       "  <thead>\n",
       "    <tr style=\"text-align: right;\">\n",
       "      <th></th>\n",
       "      <th>year_week</th>\n",
       "      <th>LocationName</th>\n",
       "      <th>group_size</th>\n",
       "      <th>proportion</th>\n",
       "    </tr>\n",
       "  </thead>\n",
       "  <tbody>\n",
       "    <tr>\n",
       "      <th>0</th>\n",
       "      <td>2017-w05</td>\n",
       "      <td>Acre</td>\n",
       "      <td>1</td>\n",
       "      <td>0.000369</td>\n",
       "    </tr>\n",
       "    <tr>\n",
       "      <th>1</th>\n",
       "      <td>2017-w05</td>\n",
       "      <td>Alagoas</td>\n",
       "      <td>2</td>\n",
       "      <td>0.000739</td>\n",
       "    </tr>\n",
       "    <tr>\n",
       "      <th>2</th>\n",
       "      <td>2017-w05</td>\n",
       "      <td>Amapa</td>\n",
       "      <td>3</td>\n",
       "      <td>0.001108</td>\n",
       "    </tr>\n",
       "    <tr>\n",
       "      <th>3</th>\n",
       "      <td>2017-w05</td>\n",
       "      <td>Amazonas</td>\n",
       "      <td>7</td>\n",
       "      <td>0.002585</td>\n",
       "    </tr>\n",
       "    <tr>\n",
       "      <th>4</th>\n",
       "      <td>2017-w05</td>\n",
       "      <td>Bahia</td>\n",
       "      <td>21</td>\n",
       "      <td>0.007755</td>\n",
       "    </tr>\n",
       "    <tr>\n",
       "      <th>...</th>\n",
       "      <td>...</td>\n",
       "      <td>...</td>\n",
       "      <td>...</td>\n",
       "      <td>...</td>\n",
       "    </tr>\n",
       "    <tr>\n",
       "      <th>116</th>\n",
       "      <td>2017-w09</td>\n",
       "      <td>Roraima</td>\n",
       "      <td>1</td>\n",
       "      <td>0.000369</td>\n",
       "    </tr>\n",
       "    <tr>\n",
       "      <th>117</th>\n",
       "      <td>2017-w09</td>\n",
       "      <td>Santa Catarina</td>\n",
       "      <td>5</td>\n",
       "      <td>0.001846</td>\n",
       "    </tr>\n",
       "    <tr>\n",
       "      <th>118</th>\n",
       "      <td>2017-w09</td>\n",
       "      <td>Sao Paulo</td>\n",
       "      <td>88</td>\n",
       "      <td>0.032496</td>\n",
       "    </tr>\n",
       "    <tr>\n",
       "      <th>119</th>\n",
       "      <td>2017-w09</td>\n",
       "      <td>Sergipe</td>\n",
       "      <td>9</td>\n",
       "      <td>0.003323</td>\n",
       "    </tr>\n",
       "    <tr>\n",
       "      <th>120</th>\n",
       "      <td>2017-w09</td>\n",
       "      <td>Tocantins</td>\n",
       "      <td>1</td>\n",
       "      <td>0.000369</td>\n",
       "    </tr>\n",
       "  </tbody>\n",
       "</table>\n",
       "<p>121 rows × 4 columns</p>\n",
       "</div>"
      ],
      "text/plain": [
       "    year_week    LocationName  group_size  proportion\n",
       "0    2017-w05            Acre           1    0.000369\n",
       "1    2017-w05         Alagoas           2    0.000739\n",
       "2    2017-w05           Amapa           3    0.001108\n",
       "3    2017-w05        Amazonas           7    0.002585\n",
       "4    2017-w05           Bahia          21    0.007755\n",
       "..        ...             ...         ...         ...\n",
       "116  2017-w09         Roraima           1    0.000369\n",
       "117  2017-w09  Santa Catarina           5    0.001846\n",
       "118  2017-w09       Sao Paulo          88    0.032496\n",
       "119  2017-w09         Sergipe           9    0.003323\n",
       "120  2017-w09       Tocantins           1    0.000369\n",
       "\n",
       "[121 rows x 4 columns]"
      ]
     },
     "execution_count": 204,
     "metadata": {},
     "output_type": "execute_result"
    }
   ],
   "source": [
    "# Step 1: Calculate the size of each group (year_week, LocationName)\n",
    "group_sizes = df_2017_02_pos.groupby(['year_week', 'LocationName']).size().reset_index(name='group_size')\n",
    "\n",
    "# Step 2: Calculate the proportion of each group in the dataset\n",
    "total_rows = len(df_2017_02_pos)\n",
    "group_sizes['proportion'] = group_sizes['group_size'] / total_rows\n",
    "group_sizes"
   ]
  },
  {
   "cell_type": "code",
   "execution_count": 205,
   "id": "adee9c98",
   "metadata": {},
   "outputs": [
    {
     "data": {
      "text/html": [
       "<div>\n",
       "<style scoped>\n",
       "    .dataframe tbody tr th:only-of-type {\n",
       "        vertical-align: middle;\n",
       "    }\n",
       "\n",
       "    .dataframe tbody tr th {\n",
       "        vertical-align: top;\n",
       "    }\n",
       "\n",
       "    .dataframe thead th {\n",
       "        text-align: right;\n",
       "    }\n",
       "</style>\n",
       "<table border=\"1\" class=\"dataframe\">\n",
       "  <thead>\n",
       "    <tr style=\"text-align: right;\">\n",
       "      <th></th>\n",
       "      <th>year_week</th>\n",
       "      <th>LocationName</th>\n",
       "      <th>group_size</th>\n",
       "      <th>proportion</th>\n",
       "      <th>sample_size</th>\n",
       "    </tr>\n",
       "  </thead>\n",
       "  <tbody>\n",
       "    <tr>\n",
       "      <th>0</th>\n",
       "      <td>2017-w05</td>\n",
       "      <td>Acre</td>\n",
       "      <td>1</td>\n",
       "      <td>0.000369</td>\n",
       "      <td>0</td>\n",
       "    </tr>\n",
       "    <tr>\n",
       "      <th>1</th>\n",
       "      <td>2017-w05</td>\n",
       "      <td>Alagoas</td>\n",
       "      <td>2</td>\n",
       "      <td>0.000739</td>\n",
       "      <td>1</td>\n",
       "    </tr>\n",
       "    <tr>\n",
       "      <th>2</th>\n",
       "      <td>2017-w05</td>\n",
       "      <td>Amapa</td>\n",
       "      <td>3</td>\n",
       "      <td>0.001108</td>\n",
       "      <td>2</td>\n",
       "    </tr>\n",
       "    <tr>\n",
       "      <th>3</th>\n",
       "      <td>2017-w05</td>\n",
       "      <td>Amazonas</td>\n",
       "      <td>7</td>\n",
       "      <td>0.002585</td>\n",
       "      <td>6</td>\n",
       "    </tr>\n",
       "    <tr>\n",
       "      <th>4</th>\n",
       "      <td>2017-w05</td>\n",
       "      <td>Bahia</td>\n",
       "      <td>21</td>\n",
       "      <td>0.007755</td>\n",
       "      <td>18</td>\n",
       "    </tr>\n",
       "    <tr>\n",
       "      <th>...</th>\n",
       "      <td>...</td>\n",
       "      <td>...</td>\n",
       "      <td>...</td>\n",
       "      <td>...</td>\n",
       "      <td>...</td>\n",
       "    </tr>\n",
       "    <tr>\n",
       "      <th>116</th>\n",
       "      <td>2017-w09</td>\n",
       "      <td>Roraima</td>\n",
       "      <td>1</td>\n",
       "      <td>0.000369</td>\n",
       "      <td>0</td>\n",
       "    </tr>\n",
       "    <tr>\n",
       "      <th>117</th>\n",
       "      <td>2017-w09</td>\n",
       "      <td>Santa Catarina</td>\n",
       "      <td>5</td>\n",
       "      <td>0.001846</td>\n",
       "      <td>4</td>\n",
       "    </tr>\n",
       "    <tr>\n",
       "      <th>118</th>\n",
       "      <td>2017-w09</td>\n",
       "      <td>Sao Paulo</td>\n",
       "      <td>88</td>\n",
       "      <td>0.032496</td>\n",
       "      <td>79</td>\n",
       "    </tr>\n",
       "    <tr>\n",
       "      <th>119</th>\n",
       "      <td>2017-w09</td>\n",
       "      <td>Sergipe</td>\n",
       "      <td>9</td>\n",
       "      <td>0.003323</td>\n",
       "      <td>8</td>\n",
       "    </tr>\n",
       "    <tr>\n",
       "      <th>120</th>\n",
       "      <td>2017-w09</td>\n",
       "      <td>Tocantins</td>\n",
       "      <td>1</td>\n",
       "      <td>0.000369</td>\n",
       "      <td>0</td>\n",
       "    </tr>\n",
       "  </tbody>\n",
       "</table>\n",
       "<p>121 rows × 5 columns</p>\n",
       "</div>"
      ],
      "text/plain": [
       "    year_week    LocationName  group_size  proportion  sample_size\n",
       "0    2017-w05            Acre           1    0.000369            0\n",
       "1    2017-w05         Alagoas           2    0.000739            1\n",
       "2    2017-w05           Amapa           3    0.001108            2\n",
       "3    2017-w05        Amazonas           7    0.002585            6\n",
       "4    2017-w05           Bahia          21    0.007755           18\n",
       "..        ...             ...         ...         ...          ...\n",
       "116  2017-w09         Roraima           1    0.000369            0\n",
       "117  2017-w09  Santa Catarina           5    0.001846            4\n",
       "118  2017-w09       Sao Paulo          88    0.032496           79\n",
       "119  2017-w09         Sergipe           9    0.003323            8\n",
       "120  2017-w09       Tocantins           1    0.000369            0\n",
       "\n",
       "[121 rows x 5 columns]"
      ]
     },
     "execution_count": 205,
     "metadata": {},
     "output_type": "execute_result"
    }
   ],
   "source": [
    "# Step 3: Define the target sample size\n",
    "target_sample_size = 2450\n",
    "\n",
    "# Step 4: Calculate the sample size for each group (based on its proportion)\n",
    "group_sizes['sample_size'] = np.floor(group_sizes['proportion'] * target_sample_size).astype(int)\n",
    "group_sizes"
   ]
  },
  {
   "cell_type": "code",
   "execution_count": 206,
   "id": "a7b8b23f",
   "metadata": {},
   "outputs": [],
   "source": [
    "# Step 5: Merge this sample size information back to the original DataFrame\n",
    "df_2017_02_pos_sample_size = pd.merge(df_2017_02_pos, group_sizes[['year_week', 'LocationName', 'sample_size']], \n",
    "                               on=['year_week', 'LocationName'], how='left')"
   ]
  },
  {
   "cell_type": "code",
   "execution_count": 207,
   "id": "46c74cd1",
   "metadata": {},
   "outputs": [
    {
     "name": "stdout",
     "output_type": "stream",
     "text": [
      "Sampled 2375 rows.\n"
     ]
    }
   ],
   "source": [
    "# Step 6: Perform the stratified sampling\n",
    "df_2017_02_pos_sample = df_2017_02_pos_sample_size.groupby(['year_week', 'LocationName']).apply(\n",
    "    lambda group: group.sample(n=group['sample_size'].iloc[0], random_state=42)\n",
    ").reset_index(drop=True)\n",
    "\n",
    "# Step 7: Check the result\n",
    "print(f\"Sampled {len(df_2017_02_pos_sample)} rows.\")\n"
   ]
  },
  {
   "cell_type": "code",
   "execution_count": 208,
   "id": "80e9765e",
   "metadata": {},
   "outputs": [],
   "source": [
    "text_gpt_2017_02_pos = '\\n'.join(df_2017_02_pos_sample['text'].astype(str))"
   ]
  },
  {
   "cell_type": "markdown",
   "id": "b22f256e",
   "metadata": {},
   "source": [
    "### Prompts and loops"
   ]
  },
  {
   "cell_type": "code",
   "execution_count": 211,
   "id": "95c22639",
   "metadata": {},
   "outputs": [],
   "source": [
    "prompt_2 = prompt_raw.replace('TWEETS', text_gpt_2017_02_pos)"
   ]
  },
  {
   "cell_type": "code",
   "execution_count": 212,
   "id": "b172834e",
   "metadata": {
    "scrolled": false
   },
   "outputs": [],
   "source": [
    "response = openai.ChatCompletion.create(\n",
    "    model=\"gpt-4o-mini\",  \n",
    "    messages = [\n",
    "        {\"role\": \"user\", \"content\": prompt_2}\n",
    "    ],\n",
    "    max_tokens=400,  # Maximum number of tokens in the response\n",
    "    temperature=0.7  # Controls the randomness of the output\n",
    ")"
   ]
  },
  {
   "cell_type": "code",
   "execution_count": 213,
   "id": "86d7f1a3",
   "metadata": {},
   "outputs": [
    {
     "data": {
      "text/plain": [
       "'The text discusses various vaccination efforts in Brazil, particularly against yellow fever and the Zika virus. It highlights the urgent need for vaccination due to outbreaks, with many health campaigns and increased vaccine availability in response to rising cases. Additionally, it mentions the effectiveness of a new vaccine against HIV.'"
      ]
     },
     "execution_count": 213,
     "metadata": {},
     "output_type": "execute_result"
    }
   ],
   "source": [
    "response.choices[0].message.content"
   ]
  },
  {
   "cell_type": "code",
   "execution_count": 214,
   "id": "44a76dbb",
   "metadata": {},
   "outputs": [],
   "source": [
    "#summary = []\n",
    "#dataset = []"
   ]
  },
  {
   "cell_type": "code",
   "execution_count": 215,
   "id": "9da8b8a2",
   "metadata": {},
   "outputs": [],
   "source": [
    "dataset.append(\"2017_02_positive\")"
   ]
  },
  {
   "cell_type": "code",
   "execution_count": 216,
   "id": "4d33e327",
   "metadata": {},
   "outputs": [],
   "source": [
    "summary.append(response.choices[0].message.content)"
   ]
  },
  {
   "cell_type": "code",
   "execution_count": 217,
   "id": "725c0f71",
   "metadata": {
    "tags": []
   },
   "outputs": [
    {
     "name": "stdout",
     "output_type": "stream",
     "text": [
      "<class 'pandas.core.frame.DataFrame'>\n",
      "RangeIndex: 2 entries, 0 to 1\n",
      "Data columns (total 2 columns):\n",
      " #   Column   Non-Null Count  Dtype \n",
      "---  ------   --------------  ----- \n",
      " 0   dataset  2 non-null      object\n",
      " 1   summary  2 non-null      object\n",
      "dtypes: object(2)\n",
      "memory usage: 160.0+ bytes\n"
     ]
    }
   ],
   "source": [
    "df_2017_pos = pd.DataFrame(list(zip(dataset, summary)),\n",
    "                            columns = ['dataset', 'summary'])\n",
    "df_2017_pos.info()"
   ]
  },
  {
   "cell_type": "code",
   "execution_count": 218,
   "id": "90cdb4de",
   "metadata": {},
   "outputs": [
    {
     "data": {
      "text/html": [
       "<div>\n",
       "<style scoped>\n",
       "    .dataframe tbody tr th:only-of-type {\n",
       "        vertical-align: middle;\n",
       "    }\n",
       "\n",
       "    .dataframe tbody tr th {\n",
       "        vertical-align: top;\n",
       "    }\n",
       "\n",
       "    .dataframe thead th {\n",
       "        text-align: right;\n",
       "    }\n",
       "</style>\n",
       "<table border=\"1\" class=\"dataframe\">\n",
       "  <thead>\n",
       "    <tr style=\"text-align: right;\">\n",
       "      <th></th>\n",
       "      <th>dataset</th>\n",
       "      <th>summary</th>\n",
       "    </tr>\n",
       "  </thead>\n",
       "  <tbody>\n",
       "    <tr>\n",
       "      <th>0</th>\n",
       "      <td>2017_01_positive</td>\n",
       "      <td>Penápolis will participate in the yellow fever...</td>\n",
       "    </tr>\n",
       "    <tr>\n",
       "      <th>1</th>\n",
       "      <td>2017_02_positive</td>\n",
       "      <td>The text discusses various vaccination efforts...</td>\n",
       "    </tr>\n",
       "  </tbody>\n",
       "</table>\n",
       "</div>"
      ],
      "text/plain": [
       "            dataset                                            summary\n",
       "0  2017_01_positive  Penápolis will participate in the yellow fever...\n",
       "1  2017_02_positive  The text discusses various vaccination efforts..."
      ]
     },
     "execution_count": 218,
     "metadata": {},
     "output_type": "execute_result"
    }
   ],
   "source": [
    "df_2017_pos.tail(14)"
   ]
  },
  {
   "cell_type": "code",
   "execution_count": 219,
   "id": "8b79e3e6",
   "metadata": {},
   "outputs": [
    {
     "data": {
      "text/plain": [
       "<OpenAIObject chat.completion id=chatcmpl-AUB5guRq9ftdIKVKfANjRzHXd5UJW at 0x2170f34dc70> JSON: {\n",
       "  \"choices\": [\n",
       "    {\n",
       "      \"finish_reason\": \"stop\",\n",
       "      \"index\": 0,\n",
       "      \"logprobs\": null,\n",
       "      \"message\": {\n",
       "        \"content\": \"The text discusses various vaccination efforts in Brazil, particularly against yellow fever and the Zika virus. It highlights the urgent need for vaccination due to outbreaks, with many health campaigns and increased vaccine availability in response to rising cases. Additionally, it mentions the effectiveness of a new vaccine against HIV.\",\n",
       "        \"refusal\": null,\n",
       "        \"role\": \"assistant\"\n",
       "      }\n",
       "    }\n",
       "  ],\n",
       "  \"created\": 1731755836,\n",
       "  \"id\": \"chatcmpl-AUB5guRq9ftdIKVKfANjRzHXd5UJW\",\n",
       "  \"model\": \"gpt-4o-mini-2024-07-18\",\n",
       "  \"object\": \"chat.completion\",\n",
       "  \"system_fingerprint\": \"fp_0ba0d124f1\",\n",
       "  \"usage\": {\n",
       "    \"completion_tokens\": 57,\n",
       "    \"completion_tokens_details\": {\n",
       "      \"accepted_prediction_tokens\": 0,\n",
       "      \"audio_tokens\": 0,\n",
       "      \"reasoning_tokens\": 0,\n",
       "      \"rejected_prediction_tokens\": 0\n",
       "    },\n",
       "    \"prompt_tokens\": 53471,\n",
       "    \"prompt_tokens_details\": {\n",
       "      \"audio_tokens\": 0,\n",
       "      \"cached_tokens\": 0\n",
       "    },\n",
       "    \"total_tokens\": 53528\n",
       "  }\n",
       "}"
      ]
     },
     "execution_count": 219,
     "metadata": {},
     "output_type": "execute_result"
    }
   ],
   "source": [
    "response"
   ]
  },
  {
   "cell_type": "markdown",
   "id": "83cfd4fe",
   "metadata": {},
   "source": [
    "## March"
   ]
  },
  {
   "cell_type": "code",
   "execution_count": 220,
   "id": "8aecef5f",
   "metadata": {
    "scrolled": true,
    "tags": []
   },
   "outputs": [
    {
     "name": "stdout",
     "output_type": "stream",
     "text": [
      "<class 'pandas.core.frame.DataFrame'>\n",
      "RangeIndex: 5000 entries, 0 to 4999\n",
      "Data columns (total 53 columns):\n",
      " #   Column                  Non-Null Count  Dtype  \n",
      "---  ------                  --------------  -----  \n",
      " 0   index                   5000 non-null   int64  \n",
      " 1   LocationCode            5000 non-null   object \n",
      " 2   LocationName            5000 non-null   object \n",
      " 3   StatesCode              5000 non-null   object \n",
      " 4   ...4                    5000 non-null   int64  \n",
      " 5   id                      5000 non-null   float64\n",
      " 6   text                    5000 non-null   object \n",
      " 7   label                   5000 non-null   object \n",
      " 8   in_reply_to_status_id   264 non-null    float64\n",
      " 9   in_reply_to_user_id     281 non-null    float64\n",
      " 10  quoted_user_id          77 non-null     float64\n",
      " 11  quoted_status_id        77 non-null     float64\n",
      " 12  retweeted_user_id       1109 non-null   float64\n",
      " 13  retweeted_status_id     1109 non-null   float64\n",
      " 14  created_at              5000 non-null   object \n",
      " 15  entities.user_mentions  1521 non-null   object \n",
      " 16  user.id                 5000 non-null   float64\n",
      " 17  user.screen_name        5000 non-null   object \n",
      " 18  user.name               5000 non-null   object \n",
      " 19  user.description        4409 non-null   object \n",
      " 20  user.timezone           0 non-null      float64\n",
      " 21  user.location           4941 non-null   object \n",
      " 22  user.num_followers      5000 non-null   int64  \n",
      " 23  user.num_following      5000 non-null   int64  \n",
      " 24  user.created_at         5000 non-null   object \n",
      " 25  user.statuses_count     5000 non-null   int64  \n",
      " 26  user.is_verified        5000 non-null   bool   \n",
      " 27  lang                    5000 non-null   object \n",
      " 28  token_count             5000 non-null   int64  \n",
      " 29  is_retweet              5000 non-null   bool   \n",
      " 30  has_quote               5000 non-null   bool   \n",
      " 31  is_reply                5000 non-null   bool   \n",
      " 32  contains_keywords       5000 non-null   bool   \n",
      " 33  longitude               5000 non-null   float64\n",
      " 34  latitude                5000 non-null   float64\n",
      " 35  country_code            5000 non-null   object \n",
      " 36  geoname_id              4593 non-null   float64\n",
      " 37  location_type           5000 non-null   object \n",
      " 38  geo_type                5000 non-null   int64  \n",
      " 39  region                  5000 non-null   object \n",
      " 40  subregion               5000 non-null   object \n",
      " 41  num_quotes              5000 non-null   int64  \n",
      " 42  num_replies             5000 non-null   int64  \n",
      " 43  num_retweets            5000 non-null   int64  \n",
      " 44  sent_gpt                5000 non-null   object \n",
      " 45  gpt_sent_presence       5000 non-null   int64  \n",
      " 46  cleaned_text_lem        5000 non-null   object \n",
      " 47  cleaned_text            5000 non-null   object \n",
      " 48  month                   5000 non-null   int64  \n",
      " 49  year                    5000 non-null   int64  \n",
      " 50  week                    5000 non-null   int64  \n",
      " 51  year_month              5000 non-null   object \n",
      " 52  year_week               5000 non-null   object \n",
      "dtypes: bool(5), float64(12), int64(14), object(22)\n",
      "memory usage: 1.9+ MB\n"
     ]
    }
   ],
   "source": [
    "# Get monthly data\n",
    "df_2017_03_pos = pd.read_csv('../data/local/df_pos_2017-03.csv').reset_index()\n",
    "df_2017_03_pos.info()"
   ]
  },
  {
   "cell_type": "markdown",
   "id": "9d8793b8",
   "metadata": {},
   "source": [
    "### Representative sample based on week and location"
   ]
  },
  {
   "cell_type": "code",
   "execution_count": 221,
   "id": "849b56c5",
   "metadata": {},
   "outputs": [
    {
     "data": {
      "text/html": [
       "<div>\n",
       "<style scoped>\n",
       "    .dataframe tbody tr th:only-of-type {\n",
       "        vertical-align: middle;\n",
       "    }\n",
       "\n",
       "    .dataframe tbody tr th {\n",
       "        vertical-align: top;\n",
       "    }\n",
       "\n",
       "    .dataframe thead th {\n",
       "        text-align: right;\n",
       "    }\n",
       "</style>\n",
       "<table border=\"1\" class=\"dataframe\">\n",
       "  <thead>\n",
       "    <tr style=\"text-align: right;\">\n",
       "      <th></th>\n",
       "      <th>year_week</th>\n",
       "      <th>LocationName</th>\n",
       "      <th>group_size</th>\n",
       "      <th>proportion</th>\n",
       "    </tr>\n",
       "  </thead>\n",
       "  <tbody>\n",
       "    <tr>\n",
       "      <th>0</th>\n",
       "      <td>2017-w09</td>\n",
       "      <td>Alagoas</td>\n",
       "      <td>7</td>\n",
       "      <td>0.0014</td>\n",
       "    </tr>\n",
       "    <tr>\n",
       "      <th>1</th>\n",
       "      <td>2017-w09</td>\n",
       "      <td>Amapa</td>\n",
       "      <td>1</td>\n",
       "      <td>0.0002</td>\n",
       "    </tr>\n",
       "    <tr>\n",
       "      <th>2</th>\n",
       "      <td>2017-w09</td>\n",
       "      <td>Amazonas</td>\n",
       "      <td>3</td>\n",
       "      <td>0.0006</td>\n",
       "    </tr>\n",
       "    <tr>\n",
       "      <th>3</th>\n",
       "      <td>2017-w09</td>\n",
       "      <td>Bahia</td>\n",
       "      <td>30</td>\n",
       "      <td>0.0060</td>\n",
       "    </tr>\n",
       "    <tr>\n",
       "      <th>4</th>\n",
       "      <td>2017-w09</td>\n",
       "      <td>Ceara</td>\n",
       "      <td>12</td>\n",
       "      <td>0.0024</td>\n",
       "    </tr>\n",
       "    <tr>\n",
       "      <th>...</th>\n",
       "      <td>...</td>\n",
       "      <td>...</td>\n",
       "      <td>...</td>\n",
       "      <td>...</td>\n",
       "    </tr>\n",
       "    <tr>\n",
       "      <th>113</th>\n",
       "      <td>2017-w13</td>\n",
       "      <td>Rondonia</td>\n",
       "      <td>2</td>\n",
       "      <td>0.0004</td>\n",
       "    </tr>\n",
       "    <tr>\n",
       "      <th>114</th>\n",
       "      <td>2017-w13</td>\n",
       "      <td>Roraima</td>\n",
       "      <td>1</td>\n",
       "      <td>0.0002</td>\n",
       "    </tr>\n",
       "    <tr>\n",
       "      <th>115</th>\n",
       "      <td>2017-w13</td>\n",
       "      <td>Santa Catarina</td>\n",
       "      <td>25</td>\n",
       "      <td>0.0050</td>\n",
       "    </tr>\n",
       "    <tr>\n",
       "      <th>116</th>\n",
       "      <td>2017-w13</td>\n",
       "      <td>Sao Paulo</td>\n",
       "      <td>94</td>\n",
       "      <td>0.0188</td>\n",
       "    </tr>\n",
       "    <tr>\n",
       "      <th>117</th>\n",
       "      <td>2017-w13</td>\n",
       "      <td>Sergipe</td>\n",
       "      <td>6</td>\n",
       "      <td>0.0012</td>\n",
       "    </tr>\n",
       "  </tbody>\n",
       "</table>\n",
       "<p>118 rows × 4 columns</p>\n",
       "</div>"
      ],
      "text/plain": [
       "    year_week    LocationName  group_size  proportion\n",
       "0    2017-w09         Alagoas           7      0.0014\n",
       "1    2017-w09           Amapa           1      0.0002\n",
       "2    2017-w09        Amazonas           3      0.0006\n",
       "3    2017-w09           Bahia          30      0.0060\n",
       "4    2017-w09           Ceara          12      0.0024\n",
       "..        ...             ...         ...         ...\n",
       "113  2017-w13        Rondonia           2      0.0004\n",
       "114  2017-w13         Roraima           1      0.0002\n",
       "115  2017-w13  Santa Catarina          25      0.0050\n",
       "116  2017-w13       Sao Paulo          94      0.0188\n",
       "117  2017-w13         Sergipe           6      0.0012\n",
       "\n",
       "[118 rows x 4 columns]"
      ]
     },
     "execution_count": 221,
     "metadata": {},
     "output_type": "execute_result"
    }
   ],
   "source": [
    "# Step 1: Calculate the size of each group (year_week, LocationName)\n",
    "group_sizes = df_2017_03_pos.groupby(['year_week', 'LocationName']).size().reset_index(name='group_size')\n",
    "\n",
    "# Step 2: Calculate the proportion of each group in the dataset\n",
    "total_rows = len(df_2017_03_pos)\n",
    "group_sizes['proportion'] = group_sizes['group_size'] / total_rows\n",
    "group_sizes"
   ]
  },
  {
   "cell_type": "code",
   "execution_count": 222,
   "id": "aef8698d",
   "metadata": {},
   "outputs": [
    {
     "data": {
      "text/html": [
       "<div>\n",
       "<style scoped>\n",
       "    .dataframe tbody tr th:only-of-type {\n",
       "        vertical-align: middle;\n",
       "    }\n",
       "\n",
       "    .dataframe tbody tr th {\n",
       "        vertical-align: top;\n",
       "    }\n",
       "\n",
       "    .dataframe thead th {\n",
       "        text-align: right;\n",
       "    }\n",
       "</style>\n",
       "<table border=\"1\" class=\"dataframe\">\n",
       "  <thead>\n",
       "    <tr style=\"text-align: right;\">\n",
       "      <th></th>\n",
       "      <th>year_week</th>\n",
       "      <th>LocationName</th>\n",
       "      <th>group_size</th>\n",
       "      <th>proportion</th>\n",
       "      <th>sample_size</th>\n",
       "    </tr>\n",
       "  </thead>\n",
       "  <tbody>\n",
       "    <tr>\n",
       "      <th>0</th>\n",
       "      <td>2017-w09</td>\n",
       "      <td>Alagoas</td>\n",
       "      <td>7</td>\n",
       "      <td>0.0014</td>\n",
       "      <td>3</td>\n",
       "    </tr>\n",
       "    <tr>\n",
       "      <th>1</th>\n",
       "      <td>2017-w09</td>\n",
       "      <td>Amapa</td>\n",
       "      <td>1</td>\n",
       "      <td>0.0002</td>\n",
       "      <td>0</td>\n",
       "    </tr>\n",
       "    <tr>\n",
       "      <th>2</th>\n",
       "      <td>2017-w09</td>\n",
       "      <td>Amazonas</td>\n",
       "      <td>3</td>\n",
       "      <td>0.0006</td>\n",
       "      <td>1</td>\n",
       "    </tr>\n",
       "    <tr>\n",
       "      <th>3</th>\n",
       "      <td>2017-w09</td>\n",
       "      <td>Bahia</td>\n",
       "      <td>30</td>\n",
       "      <td>0.0060</td>\n",
       "      <td>14</td>\n",
       "    </tr>\n",
       "    <tr>\n",
       "      <th>4</th>\n",
       "      <td>2017-w09</td>\n",
       "      <td>Ceara</td>\n",
       "      <td>12</td>\n",
       "      <td>0.0024</td>\n",
       "      <td>5</td>\n",
       "    </tr>\n",
       "    <tr>\n",
       "      <th>...</th>\n",
       "      <td>...</td>\n",
       "      <td>...</td>\n",
       "      <td>...</td>\n",
       "      <td>...</td>\n",
       "      <td>...</td>\n",
       "    </tr>\n",
       "    <tr>\n",
       "      <th>113</th>\n",
       "      <td>2017-w13</td>\n",
       "      <td>Rondonia</td>\n",
       "      <td>2</td>\n",
       "      <td>0.0004</td>\n",
       "      <td>0</td>\n",
       "    </tr>\n",
       "    <tr>\n",
       "      <th>114</th>\n",
       "      <td>2017-w13</td>\n",
       "      <td>Roraima</td>\n",
       "      <td>1</td>\n",
       "      <td>0.0002</td>\n",
       "      <td>0</td>\n",
       "    </tr>\n",
       "    <tr>\n",
       "      <th>115</th>\n",
       "      <td>2017-w13</td>\n",
       "      <td>Santa Catarina</td>\n",
       "      <td>25</td>\n",
       "      <td>0.0050</td>\n",
       "      <td>12</td>\n",
       "    </tr>\n",
       "    <tr>\n",
       "      <th>116</th>\n",
       "      <td>2017-w13</td>\n",
       "      <td>Sao Paulo</td>\n",
       "      <td>94</td>\n",
       "      <td>0.0188</td>\n",
       "      <td>46</td>\n",
       "    </tr>\n",
       "    <tr>\n",
       "      <th>117</th>\n",
       "      <td>2017-w13</td>\n",
       "      <td>Sergipe</td>\n",
       "      <td>6</td>\n",
       "      <td>0.0012</td>\n",
       "      <td>2</td>\n",
       "    </tr>\n",
       "  </tbody>\n",
       "</table>\n",
       "<p>118 rows × 5 columns</p>\n",
       "</div>"
      ],
      "text/plain": [
       "    year_week    LocationName  group_size  proportion  sample_size\n",
       "0    2017-w09         Alagoas           7      0.0014            3\n",
       "1    2017-w09           Amapa           1      0.0002            0\n",
       "2    2017-w09        Amazonas           3      0.0006            1\n",
       "3    2017-w09           Bahia          30      0.0060           14\n",
       "4    2017-w09           Ceara          12      0.0024            5\n",
       "..        ...             ...         ...         ...          ...\n",
       "113  2017-w13        Rondonia           2      0.0004            0\n",
       "114  2017-w13         Roraima           1      0.0002            0\n",
       "115  2017-w13  Santa Catarina          25      0.0050           12\n",
       "116  2017-w13       Sao Paulo          94      0.0188           46\n",
       "117  2017-w13         Sergipe           6      0.0012            2\n",
       "\n",
       "[118 rows x 5 columns]"
      ]
     },
     "execution_count": 222,
     "metadata": {},
     "output_type": "execute_result"
    }
   ],
   "source": [
    "# Step 3: Define the target sample size\n",
    "target_sample_size = 2450\n",
    "\n",
    "# Step 4: Calculate the sample size for each group (based on its proportion)\n",
    "group_sizes['sample_size'] = np.floor(group_sizes['proportion'] * target_sample_size).astype(int)\n",
    "group_sizes"
   ]
  },
  {
   "cell_type": "code",
   "execution_count": 223,
   "id": "64497bce",
   "metadata": {},
   "outputs": [],
   "source": [
    "# Step 5: Merge this sample size information back to the original DataFrame\n",
    "df_2017_03_pos_sample_size = pd.merge(df_2017_03_pos, group_sizes[['year_week', 'LocationName', 'sample_size']], \n",
    "                               on=['year_week', 'LocationName'], how='left')"
   ]
  },
  {
   "cell_type": "code",
   "execution_count": 224,
   "id": "b66deaed",
   "metadata": {},
   "outputs": [
    {
     "name": "stdout",
     "output_type": "stream",
     "text": [
      "Sampled 2382 rows.\n"
     ]
    }
   ],
   "source": [
    "# Step 6: Perform the stratified sampling\n",
    "df_2017_03_pos_sample = df_2017_03_pos_sample_size.groupby(['year_week', 'LocationName']).apply(\n",
    "    lambda group: group.sample(n=group['sample_size'].iloc[0], random_state=42)\n",
    ").reset_index(drop=True)\n",
    "\n",
    "# Step 7: Check the result\n",
    "print(f\"Sampled {len(df_2017_03_pos_sample)} rows.\")\n"
   ]
  },
  {
   "cell_type": "code",
   "execution_count": 225,
   "id": "cacd5bfb",
   "metadata": {},
   "outputs": [],
   "source": [
    "text_gpt_2017_03_pos = '\\n'.join(df_2017_03_pos_sample['text'].astype(str))"
   ]
  },
  {
   "cell_type": "markdown",
   "id": "677054ce",
   "metadata": {},
   "source": [
    "### Prompts and loops"
   ]
  },
  {
   "cell_type": "code",
   "execution_count": 226,
   "id": "3e74eba3",
   "metadata": {},
   "outputs": [],
   "source": [
    "prompt_3 = prompt_raw.replace('TWEETS', text_gpt_2017_03_pos)"
   ]
  },
  {
   "cell_type": "code",
   "execution_count": 227,
   "id": "709224ed",
   "metadata": {
    "scrolled": false
   },
   "outputs": [],
   "source": [
    "response = openai.ChatCompletion.create(\n",
    "    model=\"gpt-4o-mini\",  \n",
    "    messages = [\n",
    "        {\"role\": \"user\", \"content\": prompt_3}\n",
    "    ],\n",
    "    max_tokens=400,  # Maximum number of tokens in the response\n",
    "    temperature=0.7  # Controls the randomness of the output\n",
    ")"
   ]
  },
  {
   "cell_type": "code",
   "execution_count": 228,
   "id": "b8776166",
   "metadata": {},
   "outputs": [
    {
     "data": {
      "text/plain": [
       "'The text discusses various aspects of vaccination, including personal experiences with vaccines, the importance of vaccinations against diseases like yellow fever and HPV, and government initiatives to increase vaccination rates. It highlights both the emotional reactions to vaccinations and the logistical efforts to ensure widespread vaccination during outbreaks, particularly in Brazil.'"
      ]
     },
     "execution_count": 228,
     "metadata": {},
     "output_type": "execute_result"
    }
   ],
   "source": [
    "response.choices[0].message.content"
   ]
  },
  {
   "cell_type": "code",
   "execution_count": 229,
   "id": "f03966cf",
   "metadata": {},
   "outputs": [],
   "source": [
    "#summary = []\n",
    "#dataset = []"
   ]
  },
  {
   "cell_type": "code",
   "execution_count": 230,
   "id": "bde868f6",
   "metadata": {},
   "outputs": [],
   "source": [
    "dataset.append(\"2017_03_positive\")"
   ]
  },
  {
   "cell_type": "code",
   "execution_count": 231,
   "id": "7a940cb2",
   "metadata": {},
   "outputs": [],
   "source": [
    "summary.append(response.choices[0].message.content)"
   ]
  },
  {
   "cell_type": "code",
   "execution_count": 232,
   "id": "fdf1b907",
   "metadata": {
    "tags": []
   },
   "outputs": [
    {
     "name": "stdout",
     "output_type": "stream",
     "text": [
      "<class 'pandas.core.frame.DataFrame'>\n",
      "RangeIndex: 3 entries, 0 to 2\n",
      "Data columns (total 2 columns):\n",
      " #   Column   Non-Null Count  Dtype \n",
      "---  ------   --------------  ----- \n",
      " 0   dataset  3 non-null      object\n",
      " 1   summary  3 non-null      object\n",
      "dtypes: object(2)\n",
      "memory usage: 176.0+ bytes\n"
     ]
    }
   ],
   "source": [
    "df_2017_pos = pd.DataFrame(list(zip(dataset, summary)),\n",
    "                            columns = ['dataset', 'summary'])\n",
    "df_2017_pos.info()"
   ]
  },
  {
   "cell_type": "code",
   "execution_count": 233,
   "id": "b44227e1",
   "metadata": {},
   "outputs": [
    {
     "data": {
      "text/html": [
       "<div>\n",
       "<style scoped>\n",
       "    .dataframe tbody tr th:only-of-type {\n",
       "        vertical-align: middle;\n",
       "    }\n",
       "\n",
       "    .dataframe tbody tr th {\n",
       "        vertical-align: top;\n",
       "    }\n",
       "\n",
       "    .dataframe thead th {\n",
       "        text-align: right;\n",
       "    }\n",
       "</style>\n",
       "<table border=\"1\" class=\"dataframe\">\n",
       "  <thead>\n",
       "    <tr style=\"text-align: right;\">\n",
       "      <th></th>\n",
       "      <th>dataset</th>\n",
       "      <th>summary</th>\n",
       "    </tr>\n",
       "  </thead>\n",
       "  <tbody>\n",
       "    <tr>\n",
       "      <th>0</th>\n",
       "      <td>2017_01_positive</td>\n",
       "      <td>Penápolis will participate in the yellow fever...</td>\n",
       "    </tr>\n",
       "    <tr>\n",
       "      <th>1</th>\n",
       "      <td>2017_02_positive</td>\n",
       "      <td>The text discusses various vaccination efforts...</td>\n",
       "    </tr>\n",
       "    <tr>\n",
       "      <th>2</th>\n",
       "      <td>2017_03_positive</td>\n",
       "      <td>The text discusses various aspects of vaccinat...</td>\n",
       "    </tr>\n",
       "  </tbody>\n",
       "</table>\n",
       "</div>"
      ],
      "text/plain": [
       "            dataset                                            summary\n",
       "0  2017_01_positive  Penápolis will participate in the yellow fever...\n",
       "1  2017_02_positive  The text discusses various vaccination efforts...\n",
       "2  2017_03_positive  The text discusses various aspects of vaccinat..."
      ]
     },
     "execution_count": 233,
     "metadata": {},
     "output_type": "execute_result"
    }
   ],
   "source": [
    "df_2017_pos.tail(14)"
   ]
  },
  {
   "cell_type": "code",
   "execution_count": 234,
   "id": "8528ad17",
   "metadata": {},
   "outputs": [
    {
     "data": {
      "text/plain": [
       "<OpenAIObject chat.completion id=chatcmpl-AUB5lZQTOuLU7IYkvCrAgqS9SFUwJ at 0x2170f833040> JSON: {\n",
       "  \"choices\": [\n",
       "    {\n",
       "      \"finish_reason\": \"stop\",\n",
       "      \"index\": 0,\n",
       "      \"logprobs\": null,\n",
       "      \"message\": {\n",
       "        \"content\": \"The text discusses various aspects of vaccination, including personal experiences with vaccines, the importance of vaccinations against diseases like yellow fever and HPV, and government initiatives to increase vaccination rates. It highlights both the emotional reactions to vaccinations and the logistical efforts to ensure widespread vaccination during outbreaks, particularly in Brazil.\",\n",
       "        \"refusal\": null,\n",
       "        \"role\": \"assistant\"\n",
       "      }\n",
       "    }\n",
       "  ],\n",
       "  \"created\": 1731755841,\n",
       "  \"id\": \"chatcmpl-AUB5lZQTOuLU7IYkvCrAgqS9SFUwJ\",\n",
       "  \"model\": \"gpt-4o-mini-2024-07-18\",\n",
       "  \"object\": \"chat.completion\",\n",
       "  \"system_fingerprint\": \"fp_0ba0d124f1\",\n",
       "  \"usage\": {\n",
       "    \"completion_tokens\": 57,\n",
       "    \"completion_tokens_details\": {\n",
       "      \"accepted_prediction_tokens\": 0,\n",
       "      \"audio_tokens\": 0,\n",
       "      \"reasoning_tokens\": 0,\n",
       "      \"rejected_prediction_tokens\": 0\n",
       "    },\n",
       "    \"prompt_tokens\": 51567,\n",
       "    \"prompt_tokens_details\": {\n",
       "      \"audio_tokens\": 0,\n",
       "      \"cached_tokens\": 0\n",
       "    },\n",
       "    \"total_tokens\": 51624\n",
       "  }\n",
       "}"
      ]
     },
     "execution_count": 234,
     "metadata": {},
     "output_type": "execute_result"
    }
   ],
   "source": [
    "response"
   ]
  },
  {
   "cell_type": "markdown",
   "id": "a57159e2",
   "metadata": {},
   "source": [
    "## April"
   ]
  },
  {
   "cell_type": "code",
   "execution_count": 235,
   "id": "b84f949f",
   "metadata": {
    "scrolled": true,
    "tags": []
   },
   "outputs": [
    {
     "name": "stdout",
     "output_type": "stream",
     "text": [
      "<class 'pandas.core.frame.DataFrame'>\n",
      "RangeIndex: 3405 entries, 0 to 3404\n",
      "Data columns (total 53 columns):\n",
      " #   Column                  Non-Null Count  Dtype  \n",
      "---  ------                  --------------  -----  \n",
      " 0   index                   3405 non-null   int64  \n",
      " 1   LocationCode            3405 non-null   object \n",
      " 2   LocationName            3405 non-null   object \n",
      " 3   StatesCode              3405 non-null   object \n",
      " 4   ...4                    3405 non-null   int64  \n",
      " 5   id                      3405 non-null   float64\n",
      " 6   text                    3405 non-null   object \n",
      " 7   label                   3405 non-null   object \n",
      " 8   in_reply_to_status_id   176 non-null    float64\n",
      " 9   in_reply_to_user_id     194 non-null    float64\n",
      " 10  quoted_user_id          69 non-null     float64\n",
      " 11  quoted_status_id        69 non-null     float64\n",
      " 12  retweeted_user_id       1010 non-null   float64\n",
      " 13  retweeted_status_id     1010 non-null   float64\n",
      " 14  created_at              3405 non-null   object \n",
      " 15  entities.user_mentions  1303 non-null   object \n",
      " 16  user.id                 3405 non-null   float64\n",
      " 17  user.screen_name        3405 non-null   object \n",
      " 18  user.name               3405 non-null   object \n",
      " 19  user.description        3039 non-null   object \n",
      " 20  user.timezone           0 non-null      float64\n",
      " 21  user.location           3375 non-null   object \n",
      " 22  user.num_followers      3405 non-null   int64  \n",
      " 23  user.num_following      3405 non-null   int64  \n",
      " 24  user.created_at         3405 non-null   object \n",
      " 25  user.statuses_count     3405 non-null   int64  \n",
      " 26  user.is_verified        3405 non-null   bool   \n",
      " 27  lang                    3405 non-null   object \n",
      " 28  token_count             3405 non-null   int64  \n",
      " 29  is_retweet              3405 non-null   bool   \n",
      " 30  has_quote               3405 non-null   bool   \n",
      " 31  is_reply                3405 non-null   bool   \n",
      " 32  contains_keywords       3405 non-null   bool   \n",
      " 33  longitude               3405 non-null   float64\n",
      " 34  latitude                3405 non-null   float64\n",
      " 35  country_code            3405 non-null   object \n",
      " 36  geoname_id              3217 non-null   float64\n",
      " 37  location_type           3405 non-null   object \n",
      " 38  geo_type                3405 non-null   int64  \n",
      " 39  region                  3405 non-null   object \n",
      " 40  subregion               3405 non-null   object \n",
      " 41  num_quotes              3405 non-null   int64  \n",
      " 42  num_replies             3405 non-null   int64  \n",
      " 43  num_retweets            3405 non-null   int64  \n",
      " 44  sent_gpt                3405 non-null   object \n",
      " 45  gpt_sent_presence       3405 non-null   int64  \n",
      " 46  cleaned_text_lem        3405 non-null   object \n",
      " 47  cleaned_text            3405 non-null   object \n",
      " 48  month                   3405 non-null   int64  \n",
      " 49  year                    3405 non-null   int64  \n",
      " 50  week                    3405 non-null   int64  \n",
      " 51  year_month              3405 non-null   object \n",
      " 52  year_week               3405 non-null   object \n",
      "dtypes: bool(5), float64(12), int64(14), object(22)\n",
      "memory usage: 1.3+ MB\n"
     ]
    }
   ],
   "source": [
    "# Get monthly data\n",
    "df_2017_04_pos = pd.read_csv('../data/local/df_pos_2017-04.csv').reset_index()\n",
    "df_2017_04_pos.info()"
   ]
  },
  {
   "cell_type": "markdown",
   "id": "66b76111",
   "metadata": {},
   "source": [
    "### Representative sample based on week and location"
   ]
  },
  {
   "cell_type": "code",
   "execution_count": 236,
   "id": "e2923a82",
   "metadata": {},
   "outputs": [
    {
     "data": {
      "text/html": [
       "<div>\n",
       "<style scoped>\n",
       "    .dataframe tbody tr th:only-of-type {\n",
       "        vertical-align: middle;\n",
       "    }\n",
       "\n",
       "    .dataframe tbody tr th {\n",
       "        vertical-align: top;\n",
       "    }\n",
       "\n",
       "    .dataframe thead th {\n",
       "        text-align: right;\n",
       "    }\n",
       "</style>\n",
       "<table border=\"1\" class=\"dataframe\">\n",
       "  <thead>\n",
       "    <tr style=\"text-align: right;\">\n",
       "      <th></th>\n",
       "      <th>year_week</th>\n",
       "      <th>LocationName</th>\n",
       "      <th>group_size</th>\n",
       "      <th>proportion</th>\n",
       "    </tr>\n",
       "  </thead>\n",
       "  <tbody>\n",
       "    <tr>\n",
       "      <th>0</th>\n",
       "      <td>2017-w13</td>\n",
       "      <td>Bahia</td>\n",
       "      <td>17</td>\n",
       "      <td>0.004993</td>\n",
       "    </tr>\n",
       "    <tr>\n",
       "      <th>1</th>\n",
       "      <td>2017-w13</td>\n",
       "      <td>Ceara</td>\n",
       "      <td>4</td>\n",
       "      <td>0.001175</td>\n",
       "    </tr>\n",
       "    <tr>\n",
       "      <th>2</th>\n",
       "      <td>2017-w13</td>\n",
       "      <td>Distrito Federal</td>\n",
       "      <td>1</td>\n",
       "      <td>0.000294</td>\n",
       "    </tr>\n",
       "    <tr>\n",
       "      <th>3</th>\n",
       "      <td>2017-w13</td>\n",
       "      <td>Espirito Santo</td>\n",
       "      <td>4</td>\n",
       "      <td>0.001175</td>\n",
       "    </tr>\n",
       "    <tr>\n",
       "      <th>4</th>\n",
       "      <td>2017-w13</td>\n",
       "      <td>Goias</td>\n",
       "      <td>5</td>\n",
       "      <td>0.001468</td>\n",
       "    </tr>\n",
       "    <tr>\n",
       "      <th>...</th>\n",
       "      <td>...</td>\n",
       "      <td>...</td>\n",
       "      <td>...</td>\n",
       "      <td>...</td>\n",
       "    </tr>\n",
       "    <tr>\n",
       "      <th>110</th>\n",
       "      <td>2017-w18</td>\n",
       "      <td>Espirito Santo</td>\n",
       "      <td>1</td>\n",
       "      <td>0.000294</td>\n",
       "    </tr>\n",
       "    <tr>\n",
       "      <th>111</th>\n",
       "      <td>2017-w18</td>\n",
       "      <td>Goias</td>\n",
       "      <td>3</td>\n",
       "      <td>0.000881</td>\n",
       "    </tr>\n",
       "    <tr>\n",
       "      <th>112</th>\n",
       "      <td>2017-w18</td>\n",
       "      <td>Minas Gerais</td>\n",
       "      <td>7</td>\n",
       "      <td>0.002056</td>\n",
       "    </tr>\n",
       "    <tr>\n",
       "      <th>113</th>\n",
       "      <td>2017-w18</td>\n",
       "      <td>Rio Grande Do Sul</td>\n",
       "      <td>2</td>\n",
       "      <td>0.000587</td>\n",
       "    </tr>\n",
       "    <tr>\n",
       "      <th>114</th>\n",
       "      <td>2017-w18</td>\n",
       "      <td>Sao Paulo</td>\n",
       "      <td>6</td>\n",
       "      <td>0.001762</td>\n",
       "    </tr>\n",
       "  </tbody>\n",
       "</table>\n",
       "<p>115 rows × 4 columns</p>\n",
       "</div>"
      ],
      "text/plain": [
       "    year_week       LocationName  group_size  proportion\n",
       "0    2017-w13              Bahia          17    0.004993\n",
       "1    2017-w13              Ceara           4    0.001175\n",
       "2    2017-w13   Distrito Federal           1    0.000294\n",
       "3    2017-w13     Espirito Santo           4    0.001175\n",
       "4    2017-w13              Goias           5    0.001468\n",
       "..        ...                ...         ...         ...\n",
       "110  2017-w18     Espirito Santo           1    0.000294\n",
       "111  2017-w18              Goias           3    0.000881\n",
       "112  2017-w18       Minas Gerais           7    0.002056\n",
       "113  2017-w18  Rio Grande Do Sul           2    0.000587\n",
       "114  2017-w18          Sao Paulo           6    0.001762\n",
       "\n",
       "[115 rows x 4 columns]"
      ]
     },
     "execution_count": 236,
     "metadata": {},
     "output_type": "execute_result"
    }
   ],
   "source": [
    "# Step 1: Calculate the size of each group (year_week, LocationName)\n",
    "group_sizes = df_2017_04_pos.groupby(['year_week', 'LocationName']).size().reset_index(name='group_size')\n",
    "\n",
    "# Step 2: Calculate the proportion of each group in the dataset\n",
    "total_rows = len(df_2017_04_pos)\n",
    "group_sizes['proportion'] = group_sizes['group_size'] / total_rows\n",
    "group_sizes"
   ]
  },
  {
   "cell_type": "code",
   "execution_count": 237,
   "id": "5e52798c",
   "metadata": {},
   "outputs": [
    {
     "data": {
      "text/html": [
       "<div>\n",
       "<style scoped>\n",
       "    .dataframe tbody tr th:only-of-type {\n",
       "        vertical-align: middle;\n",
       "    }\n",
       "\n",
       "    .dataframe tbody tr th {\n",
       "        vertical-align: top;\n",
       "    }\n",
       "\n",
       "    .dataframe thead th {\n",
       "        text-align: right;\n",
       "    }\n",
       "</style>\n",
       "<table border=\"1\" class=\"dataframe\">\n",
       "  <thead>\n",
       "    <tr style=\"text-align: right;\">\n",
       "      <th></th>\n",
       "      <th>year_week</th>\n",
       "      <th>LocationName</th>\n",
       "      <th>group_size</th>\n",
       "      <th>proportion</th>\n",
       "      <th>sample_size</th>\n",
       "    </tr>\n",
       "  </thead>\n",
       "  <tbody>\n",
       "    <tr>\n",
       "      <th>0</th>\n",
       "      <td>2017-w13</td>\n",
       "      <td>Bahia</td>\n",
       "      <td>17</td>\n",
       "      <td>0.004993</td>\n",
       "      <td>12</td>\n",
       "    </tr>\n",
       "    <tr>\n",
       "      <th>1</th>\n",
       "      <td>2017-w13</td>\n",
       "      <td>Ceara</td>\n",
       "      <td>4</td>\n",
       "      <td>0.001175</td>\n",
       "      <td>2</td>\n",
       "    </tr>\n",
       "    <tr>\n",
       "      <th>2</th>\n",
       "      <td>2017-w13</td>\n",
       "      <td>Distrito Federal</td>\n",
       "      <td>1</td>\n",
       "      <td>0.000294</td>\n",
       "      <td>0</td>\n",
       "    </tr>\n",
       "    <tr>\n",
       "      <th>3</th>\n",
       "      <td>2017-w13</td>\n",
       "      <td>Espirito Santo</td>\n",
       "      <td>4</td>\n",
       "      <td>0.001175</td>\n",
       "      <td>2</td>\n",
       "    </tr>\n",
       "    <tr>\n",
       "      <th>4</th>\n",
       "      <td>2017-w13</td>\n",
       "      <td>Goias</td>\n",
       "      <td>5</td>\n",
       "      <td>0.001468</td>\n",
       "      <td>3</td>\n",
       "    </tr>\n",
       "    <tr>\n",
       "      <th>...</th>\n",
       "      <td>...</td>\n",
       "      <td>...</td>\n",
       "      <td>...</td>\n",
       "      <td>...</td>\n",
       "      <td>...</td>\n",
       "    </tr>\n",
       "    <tr>\n",
       "      <th>110</th>\n",
       "      <td>2017-w18</td>\n",
       "      <td>Espirito Santo</td>\n",
       "      <td>1</td>\n",
       "      <td>0.000294</td>\n",
       "      <td>0</td>\n",
       "    </tr>\n",
       "    <tr>\n",
       "      <th>111</th>\n",
       "      <td>2017-w18</td>\n",
       "      <td>Goias</td>\n",
       "      <td>3</td>\n",
       "      <td>0.000881</td>\n",
       "      <td>2</td>\n",
       "    </tr>\n",
       "    <tr>\n",
       "      <th>112</th>\n",
       "      <td>2017-w18</td>\n",
       "      <td>Minas Gerais</td>\n",
       "      <td>7</td>\n",
       "      <td>0.002056</td>\n",
       "      <td>5</td>\n",
       "    </tr>\n",
       "    <tr>\n",
       "      <th>113</th>\n",
       "      <td>2017-w18</td>\n",
       "      <td>Rio Grande Do Sul</td>\n",
       "      <td>2</td>\n",
       "      <td>0.000587</td>\n",
       "      <td>1</td>\n",
       "    </tr>\n",
       "    <tr>\n",
       "      <th>114</th>\n",
       "      <td>2017-w18</td>\n",
       "      <td>Sao Paulo</td>\n",
       "      <td>6</td>\n",
       "      <td>0.001762</td>\n",
       "      <td>4</td>\n",
       "    </tr>\n",
       "  </tbody>\n",
       "</table>\n",
       "<p>115 rows × 5 columns</p>\n",
       "</div>"
      ],
      "text/plain": [
       "    year_week       LocationName  group_size  proportion  sample_size\n",
       "0    2017-w13              Bahia          17    0.004993           12\n",
       "1    2017-w13              Ceara           4    0.001175            2\n",
       "2    2017-w13   Distrito Federal           1    0.000294            0\n",
       "3    2017-w13     Espirito Santo           4    0.001175            2\n",
       "4    2017-w13              Goias           5    0.001468            3\n",
       "..        ...                ...         ...         ...          ...\n",
       "110  2017-w18     Espirito Santo           1    0.000294            0\n",
       "111  2017-w18              Goias           3    0.000881            2\n",
       "112  2017-w18       Minas Gerais           7    0.002056            5\n",
       "113  2017-w18  Rio Grande Do Sul           2    0.000587            1\n",
       "114  2017-w18          Sao Paulo           6    0.001762            4\n",
       "\n",
       "[115 rows x 5 columns]"
      ]
     },
     "execution_count": 237,
     "metadata": {},
     "output_type": "execute_result"
    }
   ],
   "source": [
    "# Step 3: Define the target sample size\n",
    "target_sample_size = 2450\n",
    "\n",
    "# Step 4: Calculate the sample size for each group (based on its proportion)\n",
    "group_sizes['sample_size'] = np.floor(group_sizes['proportion'] * target_sample_size).astype(int)\n",
    "group_sizes"
   ]
  },
  {
   "cell_type": "code",
   "execution_count": 238,
   "id": "c66b1eeb",
   "metadata": {},
   "outputs": [],
   "source": [
    "# Step 5: Merge this sample size information back to the original DataFrame\n",
    "df_2017_04_pos_sample_size = pd.merge(df_2017_04_pos, group_sizes[['year_week', 'LocationName', 'sample_size']], \n",
    "                               on=['year_week', 'LocationName'], how='left')"
   ]
  },
  {
   "cell_type": "code",
   "execution_count": 239,
   "id": "53f14ba0",
   "metadata": {},
   "outputs": [
    {
     "name": "stdout",
     "output_type": "stream",
     "text": [
      "Sampled 2392 rows.\n"
     ]
    }
   ],
   "source": [
    "# Step 6: Perform the stratified sampling\n",
    "df_2017_04_pos_sample = df_2017_04_pos_sample_size.groupby(['year_week', 'LocationName']).apply(\n",
    "    lambda group: group.sample(n=group['sample_size'].iloc[0], random_state=42)\n",
    ").reset_index(drop=True)\n",
    "\n",
    "# Step 7: Check the result\n",
    "print(f\"Sampled {len(df_2017_04_pos_sample)} rows.\")\n"
   ]
  },
  {
   "cell_type": "code",
   "execution_count": 240,
   "id": "480bf650",
   "metadata": {},
   "outputs": [],
   "source": [
    "text_gpt_2017_04_pos = '\\n'.join(df_2017_04_pos_sample['text'].astype(str))"
   ]
  },
  {
   "cell_type": "markdown",
   "id": "08689181",
   "metadata": {},
   "source": [
    "### Prompts and loops"
   ]
  },
  {
   "cell_type": "code",
   "execution_count": 241,
   "id": "3d2f9387",
   "metadata": {},
   "outputs": [],
   "source": [
    "prompt_4 = prompt_raw.replace('TWEETS', text_gpt_2017_04_pos)"
   ]
  },
  {
   "cell_type": "code",
   "execution_count": 242,
   "id": "6bf06ef1",
   "metadata": {
    "scrolled": false
   },
   "outputs": [],
   "source": [
    "response = openai.ChatCompletion.create(\n",
    "    model=\"gpt-4o-mini\",  \n",
    "    messages = [\n",
    "        {\"role\": \"user\", \"content\": prompt_4}\n",
    "    ],\n",
    "    max_tokens=400,  # Maximum number of tokens in the response\n",
    "    temperature=0.7  # Controls the randomness of the output\n",
    ")"
   ]
  },
  {
   "cell_type": "code",
   "execution_count": 243,
   "id": "2c572149",
   "metadata": {},
   "outputs": [
    {
     "data": {
      "text/plain": [
       "'The Portuguese sentences discuss various vaccination campaigns, particularly against yellow fever and influenza. They highlight the importance of vaccination for public health, emphasizing ongoing efforts to immunize populations, including children, pregnant women, and healthcare workers. The text also notes successful vaccine tests for diseases like Zika and diabetes, along with calls to address misinformation about vaccines.'"
      ]
     },
     "execution_count": 243,
     "metadata": {},
     "output_type": "execute_result"
    }
   ],
   "source": [
    "response.choices[0].message.content"
   ]
  },
  {
   "cell_type": "code",
   "execution_count": 244,
   "id": "e3b9c3a6",
   "metadata": {},
   "outputs": [],
   "source": [
    "#summary = []\n",
    "#dataset = []"
   ]
  },
  {
   "cell_type": "code",
   "execution_count": 245,
   "id": "87ae0b14",
   "metadata": {},
   "outputs": [],
   "source": [
    "dataset.append(\"2017_04_positive\")"
   ]
  },
  {
   "cell_type": "code",
   "execution_count": 246,
   "id": "265b4d20",
   "metadata": {},
   "outputs": [],
   "source": [
    "summary.append(response.choices[0].message.content)"
   ]
  },
  {
   "cell_type": "code",
   "execution_count": 247,
   "id": "b2c62be9",
   "metadata": {
    "tags": []
   },
   "outputs": [
    {
     "name": "stdout",
     "output_type": "stream",
     "text": [
      "<class 'pandas.core.frame.DataFrame'>\n",
      "RangeIndex: 4 entries, 0 to 3\n",
      "Data columns (total 2 columns):\n",
      " #   Column   Non-Null Count  Dtype \n",
      "---  ------   --------------  ----- \n",
      " 0   dataset  4 non-null      object\n",
      " 1   summary  4 non-null      object\n",
      "dtypes: object(2)\n",
      "memory usage: 192.0+ bytes\n"
     ]
    }
   ],
   "source": [
    "df_2017_pos = pd.DataFrame(list(zip(dataset, summary)),\n",
    "                            columns = ['dataset', 'summary'])\n",
    "df_2017_pos.info()"
   ]
  },
  {
   "cell_type": "code",
   "execution_count": 248,
   "id": "53fcd76e",
   "metadata": {},
   "outputs": [
    {
     "data": {
      "text/html": [
       "<div>\n",
       "<style scoped>\n",
       "    .dataframe tbody tr th:only-of-type {\n",
       "        vertical-align: middle;\n",
       "    }\n",
       "\n",
       "    .dataframe tbody tr th {\n",
       "        vertical-align: top;\n",
       "    }\n",
       "\n",
       "    .dataframe thead th {\n",
       "        text-align: right;\n",
       "    }\n",
       "</style>\n",
       "<table border=\"1\" class=\"dataframe\">\n",
       "  <thead>\n",
       "    <tr style=\"text-align: right;\">\n",
       "      <th></th>\n",
       "      <th>dataset</th>\n",
       "      <th>summary</th>\n",
       "    </tr>\n",
       "  </thead>\n",
       "  <tbody>\n",
       "    <tr>\n",
       "      <th>0</th>\n",
       "      <td>2017_01_positive</td>\n",
       "      <td>Penápolis will participate in the yellow fever...</td>\n",
       "    </tr>\n",
       "    <tr>\n",
       "      <th>1</th>\n",
       "      <td>2017_02_positive</td>\n",
       "      <td>The text discusses various vaccination efforts...</td>\n",
       "    </tr>\n",
       "    <tr>\n",
       "      <th>2</th>\n",
       "      <td>2017_03_positive</td>\n",
       "      <td>The text discusses various aspects of vaccinat...</td>\n",
       "    </tr>\n",
       "    <tr>\n",
       "      <th>3</th>\n",
       "      <td>2017_04_positive</td>\n",
       "      <td>The Portuguese sentences discuss various vacci...</td>\n",
       "    </tr>\n",
       "  </tbody>\n",
       "</table>\n",
       "</div>"
      ],
      "text/plain": [
       "            dataset                                            summary\n",
       "0  2017_01_positive  Penápolis will participate in the yellow fever...\n",
       "1  2017_02_positive  The text discusses various vaccination efforts...\n",
       "2  2017_03_positive  The text discusses various aspects of vaccinat...\n",
       "3  2017_04_positive  The Portuguese sentences discuss various vacci..."
      ]
     },
     "execution_count": 248,
     "metadata": {},
     "output_type": "execute_result"
    }
   ],
   "source": [
    "df_2017_pos.tail(14)"
   ]
  },
  {
   "cell_type": "code",
   "execution_count": 249,
   "id": "9bc8461d",
   "metadata": {},
   "outputs": [
    {
     "data": {
      "text/plain": [
       "<OpenAIObject chat.completion id=chatcmpl-AUB5sMWu6SU5VHs8KjiHZU5VulKV5 at 0x2171083cbd0> JSON: {\n",
       "  \"choices\": [\n",
       "    {\n",
       "      \"finish_reason\": \"stop\",\n",
       "      \"index\": 0,\n",
       "      \"logprobs\": null,\n",
       "      \"message\": {\n",
       "        \"content\": \"The Portuguese sentences discuss various vaccination campaigns, particularly against yellow fever and influenza. They highlight the importance of vaccination for public health, emphasizing ongoing efforts to immunize populations, including children, pregnant women, and healthcare workers. The text also notes successful vaccine tests for diseases like Zika and diabetes, along with calls to address misinformation about vaccines.\",\n",
       "        \"refusal\": null,\n",
       "        \"role\": \"assistant\"\n",
       "      }\n",
       "    }\n",
       "  ],\n",
       "  \"created\": 1731755848,\n",
       "  \"id\": \"chatcmpl-AUB5sMWu6SU5VHs8KjiHZU5VulKV5\",\n",
       "  \"model\": \"gpt-4o-mini-2024-07-18\",\n",
       "  \"object\": \"chat.completion\",\n",
       "  \"system_fingerprint\": \"fp_0ba0d124f1\",\n",
       "  \"usage\": {\n",
       "    \"completion_tokens\": 67,\n",
       "    \"completion_tokens_details\": {\n",
       "      \"accepted_prediction_tokens\": 0,\n",
       "      \"audio_tokens\": 0,\n",
       "      \"reasoning_tokens\": 0,\n",
       "      \"rejected_prediction_tokens\": 0\n",
       "    },\n",
       "    \"prompt_tokens\": 52940,\n",
       "    \"prompt_tokens_details\": {\n",
       "      \"audio_tokens\": 0,\n",
       "      \"cached_tokens\": 0\n",
       "    },\n",
       "    \"total_tokens\": 53007\n",
       "  }\n",
       "}"
      ]
     },
     "execution_count": 249,
     "metadata": {},
     "output_type": "execute_result"
    }
   ],
   "source": [
    "response"
   ]
  },
  {
   "cell_type": "markdown",
   "id": "e492f6d4",
   "metadata": {},
   "source": [
    "## May"
   ]
  },
  {
   "cell_type": "code",
   "execution_count": 250,
   "id": "f38b435e",
   "metadata": {
    "scrolled": true,
    "tags": []
   },
   "outputs": [
    {
     "name": "stdout",
     "output_type": "stream",
     "text": [
      "<class 'pandas.core.frame.DataFrame'>\n",
      "RangeIndex: 3622 entries, 0 to 3621\n",
      "Data columns (total 53 columns):\n",
      " #   Column                  Non-Null Count  Dtype  \n",
      "---  ------                  --------------  -----  \n",
      " 0   index                   3622 non-null   int64  \n",
      " 1   LocationCode            3622 non-null   object \n",
      " 2   LocationName            3622 non-null   object \n",
      " 3   StatesCode              3622 non-null   object \n",
      " 4   ...4                    3622 non-null   int64  \n",
      " 5   id                      3622 non-null   float64\n",
      " 6   text                    3622 non-null   object \n",
      " 7   label                   3622 non-null   object \n",
      " 8   in_reply_to_status_id   241 non-null    float64\n",
      " 9   in_reply_to_user_id     247 non-null    float64\n",
      " 10  quoted_user_id          125 non-null    float64\n",
      " 11  quoted_status_id        125 non-null    float64\n",
      " 12  retweeted_user_id       1045 non-null   float64\n",
      " 13  retweeted_status_id     1045 non-null   float64\n",
      " 14  created_at              3622 non-null   object \n",
      " 15  entities.user_mentions  1426 non-null   object \n",
      " 16  user.id                 3622 non-null   float64\n",
      " 17  user.screen_name        3622 non-null   object \n",
      " 18  user.name               3622 non-null   object \n",
      " 19  user.description        3211 non-null   object \n",
      " 20  user.timezone           0 non-null      float64\n",
      " 21  user.location           3589 non-null   object \n",
      " 22  user.num_followers      3622 non-null   int64  \n",
      " 23  user.num_following      3622 non-null   int64  \n",
      " 24  user.created_at         3622 non-null   object \n",
      " 25  user.statuses_count     3622 non-null   int64  \n",
      " 26  user.is_verified        3622 non-null   bool   \n",
      " 27  lang                    3622 non-null   object \n",
      " 28  token_count             3622 non-null   int64  \n",
      " 29  is_retweet              3622 non-null   bool   \n",
      " 30  has_quote               3622 non-null   bool   \n",
      " 31  is_reply                3622 non-null   bool   \n",
      " 32  contains_keywords       3622 non-null   bool   \n",
      " 33  longitude               3622 non-null   float64\n",
      " 34  latitude                3622 non-null   float64\n",
      " 35  country_code            3622 non-null   object \n",
      " 36  geoname_id              3395 non-null   float64\n",
      " 37  location_type           3622 non-null   object \n",
      " 38  geo_type                3622 non-null   int64  \n",
      " 39  region                  3622 non-null   object \n",
      " 40  subregion               3622 non-null   object \n",
      " 41  num_quotes              3622 non-null   int64  \n",
      " 42  num_replies             3622 non-null   int64  \n",
      " 43  num_retweets            3622 non-null   int64  \n",
      " 44  sent_gpt                3622 non-null   object \n",
      " 45  gpt_sent_presence       3622 non-null   int64  \n",
      " 46  cleaned_text_lem        3622 non-null   object \n",
      " 47  cleaned_text            3622 non-null   object \n",
      " 48  month                   3622 non-null   int64  \n",
      " 49  year                    3622 non-null   int64  \n",
      " 50  week                    3622 non-null   int64  \n",
      " 51  year_month              3622 non-null   object \n",
      " 52  year_week               3622 non-null   object \n",
      "dtypes: bool(5), float64(12), int64(14), object(22)\n",
      "memory usage: 1.3+ MB\n"
     ]
    }
   ],
   "source": [
    "# Get monthly data\n",
    "df_2017_05_pos = pd.read_csv('../data/local/df_pos_2017-05.csv').reset_index()\n",
    "df_2017_05_pos.info()"
   ]
  },
  {
   "cell_type": "markdown",
   "id": "67e6748f",
   "metadata": {},
   "source": [
    "### Representative sample based on week and location"
   ]
  },
  {
   "cell_type": "code",
   "execution_count": 251,
   "id": "744659bb",
   "metadata": {},
   "outputs": [
    {
     "data": {
      "text/html": [
       "<div>\n",
       "<style scoped>\n",
       "    .dataframe tbody tr th:only-of-type {\n",
       "        vertical-align: middle;\n",
       "    }\n",
       "\n",
       "    .dataframe tbody tr th {\n",
       "        vertical-align: top;\n",
       "    }\n",
       "\n",
       "    .dataframe thead th {\n",
       "        text-align: right;\n",
       "    }\n",
       "</style>\n",
       "<table border=\"1\" class=\"dataframe\">\n",
       "  <thead>\n",
       "    <tr style=\"text-align: right;\">\n",
       "      <th></th>\n",
       "      <th>year_week</th>\n",
       "      <th>LocationName</th>\n",
       "      <th>group_size</th>\n",
       "      <th>proportion</th>\n",
       "    </tr>\n",
       "  </thead>\n",
       "  <tbody>\n",
       "    <tr>\n",
       "      <th>0</th>\n",
       "      <td>2017-w18</td>\n",
       "      <td>Acre</td>\n",
       "      <td>2</td>\n",
       "      <td>0.000552</td>\n",
       "    </tr>\n",
       "    <tr>\n",
       "      <th>1</th>\n",
       "      <td>2017-w18</td>\n",
       "      <td>Alagoas</td>\n",
       "      <td>3</td>\n",
       "      <td>0.000828</td>\n",
       "    </tr>\n",
       "    <tr>\n",
       "      <th>2</th>\n",
       "      <td>2017-w18</td>\n",
       "      <td>Amapa</td>\n",
       "      <td>2</td>\n",
       "      <td>0.000552</td>\n",
       "    </tr>\n",
       "    <tr>\n",
       "      <th>3</th>\n",
       "      <td>2017-w18</td>\n",
       "      <td>Amazonas</td>\n",
       "      <td>8</td>\n",
       "      <td>0.002209</td>\n",
       "    </tr>\n",
       "    <tr>\n",
       "      <th>4</th>\n",
       "      <td>2017-w18</td>\n",
       "      <td>Bahia</td>\n",
       "      <td>28</td>\n",
       "      <td>0.007731</td>\n",
       "    </tr>\n",
       "    <tr>\n",
       "      <th>...</th>\n",
       "      <td>...</td>\n",
       "      <td>...</td>\n",
       "      <td>...</td>\n",
       "      <td>...</td>\n",
       "    </tr>\n",
       "    <tr>\n",
       "      <th>116</th>\n",
       "      <td>2017-w22</td>\n",
       "      <td>Rondonia</td>\n",
       "      <td>4</td>\n",
       "      <td>0.001104</td>\n",
       "    </tr>\n",
       "    <tr>\n",
       "      <th>117</th>\n",
       "      <td>2017-w22</td>\n",
       "      <td>Santa Catarina</td>\n",
       "      <td>5</td>\n",
       "      <td>0.001380</td>\n",
       "    </tr>\n",
       "    <tr>\n",
       "      <th>118</th>\n",
       "      <td>2017-w22</td>\n",
       "      <td>Sao Paulo</td>\n",
       "      <td>57</td>\n",
       "      <td>0.015737</td>\n",
       "    </tr>\n",
       "    <tr>\n",
       "      <th>119</th>\n",
       "      <td>2017-w22</td>\n",
       "      <td>Sergipe</td>\n",
       "      <td>1</td>\n",
       "      <td>0.000276</td>\n",
       "    </tr>\n",
       "    <tr>\n",
       "      <th>120</th>\n",
       "      <td>2017-w22</td>\n",
       "      <td>Tocantins</td>\n",
       "      <td>2</td>\n",
       "      <td>0.000552</td>\n",
       "    </tr>\n",
       "  </tbody>\n",
       "</table>\n",
       "<p>121 rows × 4 columns</p>\n",
       "</div>"
      ],
      "text/plain": [
       "    year_week    LocationName  group_size  proportion\n",
       "0    2017-w18            Acre           2    0.000552\n",
       "1    2017-w18         Alagoas           3    0.000828\n",
       "2    2017-w18           Amapa           2    0.000552\n",
       "3    2017-w18        Amazonas           8    0.002209\n",
       "4    2017-w18           Bahia          28    0.007731\n",
       "..        ...             ...         ...         ...\n",
       "116  2017-w22        Rondonia           4    0.001104\n",
       "117  2017-w22  Santa Catarina           5    0.001380\n",
       "118  2017-w22       Sao Paulo          57    0.015737\n",
       "119  2017-w22         Sergipe           1    0.000276\n",
       "120  2017-w22       Tocantins           2    0.000552\n",
       "\n",
       "[121 rows x 4 columns]"
      ]
     },
     "execution_count": 251,
     "metadata": {},
     "output_type": "execute_result"
    }
   ],
   "source": [
    "# Step 1: Calculate the size of each group (year_week, LocationName)\n",
    "group_sizes = df_2017_05_pos.groupby(['year_week', 'LocationName']).size().reset_index(name='group_size')\n",
    "\n",
    "# Step 2: Calculate the proportion of each group in the dataset\n",
    "total_rows = len(df_2017_05_pos)\n",
    "group_sizes['proportion'] = group_sizes['group_size'] / total_rows\n",
    "group_sizes"
   ]
  },
  {
   "cell_type": "code",
   "execution_count": 252,
   "id": "eccffc5e",
   "metadata": {},
   "outputs": [
    {
     "data": {
      "text/html": [
       "<div>\n",
       "<style scoped>\n",
       "    .dataframe tbody tr th:only-of-type {\n",
       "        vertical-align: middle;\n",
       "    }\n",
       "\n",
       "    .dataframe tbody tr th {\n",
       "        vertical-align: top;\n",
       "    }\n",
       "\n",
       "    .dataframe thead th {\n",
       "        text-align: right;\n",
       "    }\n",
       "</style>\n",
       "<table border=\"1\" class=\"dataframe\">\n",
       "  <thead>\n",
       "    <tr style=\"text-align: right;\">\n",
       "      <th></th>\n",
       "      <th>year_week</th>\n",
       "      <th>LocationName</th>\n",
       "      <th>group_size</th>\n",
       "      <th>proportion</th>\n",
       "      <th>sample_size</th>\n",
       "    </tr>\n",
       "  </thead>\n",
       "  <tbody>\n",
       "    <tr>\n",
       "      <th>0</th>\n",
       "      <td>2017-w18</td>\n",
       "      <td>Acre</td>\n",
       "      <td>2</td>\n",
       "      <td>0.000552</td>\n",
       "      <td>1</td>\n",
       "    </tr>\n",
       "    <tr>\n",
       "      <th>1</th>\n",
       "      <td>2017-w18</td>\n",
       "      <td>Alagoas</td>\n",
       "      <td>3</td>\n",
       "      <td>0.000828</td>\n",
       "      <td>2</td>\n",
       "    </tr>\n",
       "    <tr>\n",
       "      <th>2</th>\n",
       "      <td>2017-w18</td>\n",
       "      <td>Amapa</td>\n",
       "      <td>2</td>\n",
       "      <td>0.000552</td>\n",
       "      <td>1</td>\n",
       "    </tr>\n",
       "    <tr>\n",
       "      <th>3</th>\n",
       "      <td>2017-w18</td>\n",
       "      <td>Amazonas</td>\n",
       "      <td>8</td>\n",
       "      <td>0.002209</td>\n",
       "      <td>5</td>\n",
       "    </tr>\n",
       "    <tr>\n",
       "      <th>4</th>\n",
       "      <td>2017-w18</td>\n",
       "      <td>Bahia</td>\n",
       "      <td>28</td>\n",
       "      <td>0.007731</td>\n",
       "      <td>18</td>\n",
       "    </tr>\n",
       "    <tr>\n",
       "      <th>...</th>\n",
       "      <td>...</td>\n",
       "      <td>...</td>\n",
       "      <td>...</td>\n",
       "      <td>...</td>\n",
       "      <td>...</td>\n",
       "    </tr>\n",
       "    <tr>\n",
       "      <th>116</th>\n",
       "      <td>2017-w22</td>\n",
       "      <td>Rondonia</td>\n",
       "      <td>4</td>\n",
       "      <td>0.001104</td>\n",
       "      <td>2</td>\n",
       "    </tr>\n",
       "    <tr>\n",
       "      <th>117</th>\n",
       "      <td>2017-w22</td>\n",
       "      <td>Santa Catarina</td>\n",
       "      <td>5</td>\n",
       "      <td>0.001380</td>\n",
       "      <td>3</td>\n",
       "    </tr>\n",
       "    <tr>\n",
       "      <th>118</th>\n",
       "      <td>2017-w22</td>\n",
       "      <td>Sao Paulo</td>\n",
       "      <td>57</td>\n",
       "      <td>0.015737</td>\n",
       "      <td>38</td>\n",
       "    </tr>\n",
       "    <tr>\n",
       "      <th>119</th>\n",
       "      <td>2017-w22</td>\n",
       "      <td>Sergipe</td>\n",
       "      <td>1</td>\n",
       "      <td>0.000276</td>\n",
       "      <td>0</td>\n",
       "    </tr>\n",
       "    <tr>\n",
       "      <th>120</th>\n",
       "      <td>2017-w22</td>\n",
       "      <td>Tocantins</td>\n",
       "      <td>2</td>\n",
       "      <td>0.000552</td>\n",
       "      <td>1</td>\n",
       "    </tr>\n",
       "  </tbody>\n",
       "</table>\n",
       "<p>121 rows × 5 columns</p>\n",
       "</div>"
      ],
      "text/plain": [
       "    year_week    LocationName  group_size  proportion  sample_size\n",
       "0    2017-w18            Acre           2    0.000552            1\n",
       "1    2017-w18         Alagoas           3    0.000828            2\n",
       "2    2017-w18           Amapa           2    0.000552            1\n",
       "3    2017-w18        Amazonas           8    0.002209            5\n",
       "4    2017-w18           Bahia          28    0.007731           18\n",
       "..        ...             ...         ...         ...          ...\n",
       "116  2017-w22        Rondonia           4    0.001104            2\n",
       "117  2017-w22  Santa Catarina           5    0.001380            3\n",
       "118  2017-w22       Sao Paulo          57    0.015737           38\n",
       "119  2017-w22         Sergipe           1    0.000276            0\n",
       "120  2017-w22       Tocantins           2    0.000552            1\n",
       "\n",
       "[121 rows x 5 columns]"
      ]
     },
     "execution_count": 252,
     "metadata": {},
     "output_type": "execute_result"
    }
   ],
   "source": [
    "# Step 3: Define the target sample size\n",
    "target_sample_size = 2450\n",
    "\n",
    "# Step 4: Calculate the sample size for each group (based on its proportion)\n",
    "group_sizes['sample_size'] = np.floor(group_sizes['proportion'] * target_sample_size).astype(int)\n",
    "group_sizes"
   ]
  },
  {
   "cell_type": "code",
   "execution_count": 253,
   "id": "1f16b08e",
   "metadata": {},
   "outputs": [],
   "source": [
    "# Step 5: Merge this sample size information back to the original DataFrame\n",
    "df_2017_05_pos_sample_size = pd.merge(df_2017_05_pos, group_sizes[['year_week', 'LocationName', 'sample_size']], \n",
    "                               on=['year_week', 'LocationName'], how='left')"
   ]
  },
  {
   "cell_type": "code",
   "execution_count": 254,
   "id": "6ec4f741",
   "metadata": {},
   "outputs": [
    {
     "name": "stdout",
     "output_type": "stream",
     "text": [
      "Sampled 2391 rows.\n"
     ]
    }
   ],
   "source": [
    "# Step 6: Perform the stratified sampling\n",
    "df_2017_05_pos_sample = df_2017_05_pos_sample_size.groupby(['year_week', 'LocationName']).apply(\n",
    "    lambda group: group.sample(n=group['sample_size'].iloc[0], random_state=42)\n",
    ").reset_index(drop=True)\n",
    "\n",
    "# Step 7: Check the result\n",
    "print(f\"Sampled {len(df_2017_05_pos_sample)} rows.\")\n"
   ]
  },
  {
   "cell_type": "code",
   "execution_count": 255,
   "id": "b861921a",
   "metadata": {},
   "outputs": [],
   "source": [
    "text_gpt_2017_05_pos = '\\n'.join(df_2017_05_pos_sample['text'].astype(str))"
   ]
  },
  {
   "cell_type": "markdown",
   "id": "a71ff6b0",
   "metadata": {},
   "source": [
    "### Prompts and loops"
   ]
  },
  {
   "cell_type": "code",
   "execution_count": 256,
   "id": "6e6a91ed",
   "metadata": {},
   "outputs": [],
   "source": [
    "prompt_5 = prompt_raw.replace('TWEETS', text_gpt_2017_05_pos)"
   ]
  },
  {
   "cell_type": "code",
   "execution_count": 257,
   "id": "14941427",
   "metadata": {
    "scrolled": false
   },
   "outputs": [],
   "source": [
    "response = openai.ChatCompletion.create(\n",
    "    model=\"gpt-4o-mini\",  \n",
    "    messages = [\n",
    "        {\"role\": \"user\", \"content\": prompt_5}\n",
    "    ],\n",
    "    max_tokens=400,  # Maximum number of tokens in the response\n",
    "    temperature=0.7  # Controls the randomness of the output\n",
    ")"
   ]
  },
  {
   "cell_type": "code",
   "execution_count": 258,
   "id": "d34b2bcc",
   "metadata": {},
   "outputs": [
    {
     "data": {
      "text/plain": [
       "'The provided Portuguese sentences discuss various topics related to vaccination, including the importance of vaccines against diseases like influenza, HPV, and yellow fever, as well as campaigns promoting immunization for specific groups such as children, the elderly, and pregnant women. It emphasizes ongoing vaccination efforts, public health initiatives, and the necessity of maintaining vaccination schedules to enhance community health and prevent outbreaks. Additionally, there are mentions of the development and efficacy of vaccines, as well as concerns regarding anti-vaccination sentiments and their impact on public health.'"
      ]
     },
     "execution_count": 258,
     "metadata": {},
     "output_type": "execute_result"
    }
   ],
   "source": [
    "response.choices[0].message.content"
   ]
  },
  {
   "cell_type": "code",
   "execution_count": 259,
   "id": "f8f67be8",
   "metadata": {},
   "outputs": [],
   "source": [
    "#summary = []\n",
    "#dataset = []"
   ]
  },
  {
   "cell_type": "code",
   "execution_count": 260,
   "id": "0eb94e56",
   "metadata": {},
   "outputs": [],
   "source": [
    "dataset.append(\"2017_05_positive\")"
   ]
  },
  {
   "cell_type": "code",
   "execution_count": 261,
   "id": "c9c68d6a",
   "metadata": {},
   "outputs": [],
   "source": [
    "summary.append(response.choices[0].message.content)"
   ]
  },
  {
   "cell_type": "code",
   "execution_count": 262,
   "id": "5716826b",
   "metadata": {
    "tags": []
   },
   "outputs": [
    {
     "name": "stdout",
     "output_type": "stream",
     "text": [
      "<class 'pandas.core.frame.DataFrame'>\n",
      "RangeIndex: 5 entries, 0 to 4\n",
      "Data columns (total 2 columns):\n",
      " #   Column   Non-Null Count  Dtype \n",
      "---  ------   --------------  ----- \n",
      " 0   dataset  5 non-null      object\n",
      " 1   summary  5 non-null      object\n",
      "dtypes: object(2)\n",
      "memory usage: 208.0+ bytes\n"
     ]
    }
   ],
   "source": [
    "df_2017_pos = pd.DataFrame(list(zip(dataset, summary)),\n",
    "                            columns = ['dataset', 'summary'])\n",
    "df_2017_pos.info()"
   ]
  },
  {
   "cell_type": "code",
   "execution_count": 263,
   "id": "8acf11d6",
   "metadata": {},
   "outputs": [
    {
     "data": {
      "text/html": [
       "<div>\n",
       "<style scoped>\n",
       "    .dataframe tbody tr th:only-of-type {\n",
       "        vertical-align: middle;\n",
       "    }\n",
       "\n",
       "    .dataframe tbody tr th {\n",
       "        vertical-align: top;\n",
       "    }\n",
       "\n",
       "    .dataframe thead th {\n",
       "        text-align: right;\n",
       "    }\n",
       "</style>\n",
       "<table border=\"1\" class=\"dataframe\">\n",
       "  <thead>\n",
       "    <tr style=\"text-align: right;\">\n",
       "      <th></th>\n",
       "      <th>dataset</th>\n",
       "      <th>summary</th>\n",
       "    </tr>\n",
       "  </thead>\n",
       "  <tbody>\n",
       "    <tr>\n",
       "      <th>0</th>\n",
       "      <td>2017_01_positive</td>\n",
       "      <td>Penápolis will participate in the yellow fever...</td>\n",
       "    </tr>\n",
       "    <tr>\n",
       "      <th>1</th>\n",
       "      <td>2017_02_positive</td>\n",
       "      <td>The text discusses various vaccination efforts...</td>\n",
       "    </tr>\n",
       "    <tr>\n",
       "      <th>2</th>\n",
       "      <td>2017_03_positive</td>\n",
       "      <td>The text discusses various aspects of vaccinat...</td>\n",
       "    </tr>\n",
       "    <tr>\n",
       "      <th>3</th>\n",
       "      <td>2017_04_positive</td>\n",
       "      <td>The Portuguese sentences discuss various vacci...</td>\n",
       "    </tr>\n",
       "    <tr>\n",
       "      <th>4</th>\n",
       "      <td>2017_05_positive</td>\n",
       "      <td>The provided Portuguese sentences discuss vari...</td>\n",
       "    </tr>\n",
       "  </tbody>\n",
       "</table>\n",
       "</div>"
      ],
      "text/plain": [
       "            dataset                                            summary\n",
       "0  2017_01_positive  Penápolis will participate in the yellow fever...\n",
       "1  2017_02_positive  The text discusses various vaccination efforts...\n",
       "2  2017_03_positive  The text discusses various aspects of vaccinat...\n",
       "3  2017_04_positive  The Portuguese sentences discuss various vacci...\n",
       "4  2017_05_positive  The provided Portuguese sentences discuss vari..."
      ]
     },
     "execution_count": 263,
     "metadata": {},
     "output_type": "execute_result"
    }
   ],
   "source": [
    "df_2017_pos.tail(14)"
   ]
  },
  {
   "cell_type": "code",
   "execution_count": 264,
   "id": "2c2b96e9",
   "metadata": {},
   "outputs": [
    {
     "data": {
      "text/plain": [
       "<OpenAIObject chat.completion id=chatcmpl-AUB5zKfDoiCN8NCNCwC3qItOsBmXR at 0x21710cd5590> JSON: {\n",
       "  \"choices\": [\n",
       "    {\n",
       "      \"finish_reason\": \"stop\",\n",
       "      \"index\": 0,\n",
       "      \"logprobs\": null,\n",
       "      \"message\": {\n",
       "        \"content\": \"The provided Portuguese sentences discuss various topics related to vaccination, including the importance of vaccines against diseases like influenza, HPV, and yellow fever, as well as campaigns promoting immunization for specific groups such as children, the elderly, and pregnant women. It emphasizes ongoing vaccination efforts, public health initiatives, and the necessity of maintaining vaccination schedules to enhance community health and prevent outbreaks. Additionally, there are mentions of the development and efficacy of vaccines, as well as concerns regarding anti-vaccination sentiments and their impact on public health.\",\n",
       "        \"refusal\": null,\n",
       "        \"role\": \"assistant\"\n",
       "      }\n",
       "    }\n",
       "  ],\n",
       "  \"created\": 1731755855,\n",
       "  \"id\": \"chatcmpl-AUB5zKfDoiCN8NCNCwC3qItOsBmXR\",\n",
       "  \"model\": \"gpt-4o-mini-2024-07-18\",\n",
       "  \"object\": \"chat.completion\",\n",
       "  \"system_fingerprint\": \"fp_f8dd36be86\",\n",
       "  \"usage\": {\n",
       "    \"completion_tokens\": 103,\n",
       "    \"completion_tokens_details\": {\n",
       "      \"accepted_prediction_tokens\": 0,\n",
       "      \"audio_tokens\": 0,\n",
       "      \"reasoning_tokens\": 0,\n",
       "      \"rejected_prediction_tokens\": 0\n",
       "    },\n",
       "    \"prompt_tokens\": 57513,\n",
       "    \"prompt_tokens_details\": {\n",
       "      \"audio_tokens\": 0,\n",
       "      \"cached_tokens\": 0\n",
       "    },\n",
       "    \"total_tokens\": 57616\n",
       "  }\n",
       "}"
      ]
     },
     "execution_count": 264,
     "metadata": {},
     "output_type": "execute_result"
    }
   ],
   "source": [
    "response"
   ]
  },
  {
   "cell_type": "markdown",
   "id": "6756d045",
   "metadata": {},
   "source": [
    "## June"
   ]
  },
  {
   "cell_type": "code",
   "execution_count": 265,
   "id": "e994e0a9",
   "metadata": {
    "scrolled": true,
    "tags": []
   },
   "outputs": [
    {
     "name": "stdout",
     "output_type": "stream",
     "text": [
      "<class 'pandas.core.frame.DataFrame'>\n",
      "RangeIndex: 3612 entries, 0 to 3611\n",
      "Data columns (total 53 columns):\n",
      " #   Column                  Non-Null Count  Dtype  \n",
      "---  ------                  --------------  -----  \n",
      " 0   index                   3612 non-null   int64  \n",
      " 1   LocationCode            3612 non-null   object \n",
      " 2   LocationName            3612 non-null   object \n",
      " 3   StatesCode              3612 non-null   object \n",
      " 4   ...4                    3612 non-null   int64  \n",
      " 5   id                      3612 non-null   float64\n",
      " 6   text                    3612 non-null   object \n",
      " 7   label                   3612 non-null   object \n",
      " 8   in_reply_to_status_id   243 non-null    float64\n",
      " 9   in_reply_to_user_id     251 non-null    float64\n",
      " 10  quoted_user_id          70 non-null     float64\n",
      " 11  quoted_status_id        70 non-null     float64\n",
      " 12  retweeted_user_id       1144 non-null   float64\n",
      " 13  retweeted_status_id     1144 non-null   float64\n",
      " 14  created_at              3612 non-null   object \n",
      " 15  entities.user_mentions  1501 non-null   object \n",
      " 16  user.id                 3612 non-null   float64\n",
      " 17  user.screen_name        3612 non-null   object \n",
      " 18  user.name               3612 non-null   object \n",
      " 19  user.description        3168 non-null   object \n",
      " 20  user.timezone           0 non-null      float64\n",
      " 21  user.location           3590 non-null   object \n",
      " 22  user.num_followers      3612 non-null   int64  \n",
      " 23  user.num_following      3612 non-null   int64  \n",
      " 24  user.created_at         3612 non-null   object \n",
      " 25  user.statuses_count     3612 non-null   int64  \n",
      " 26  user.is_verified        3612 non-null   bool   \n",
      " 27  lang                    3612 non-null   object \n",
      " 28  token_count             3612 non-null   int64  \n",
      " 29  is_retweet              3612 non-null   bool   \n",
      " 30  has_quote               3612 non-null   bool   \n",
      " 31  is_reply                3612 non-null   bool   \n",
      " 32  contains_keywords       3612 non-null   bool   \n",
      " 33  longitude               3612 non-null   float64\n",
      " 34  latitude                3612 non-null   float64\n",
      " 35  country_code            3612 non-null   object \n",
      " 36  geoname_id              3468 non-null   float64\n",
      " 37  location_type           3612 non-null   object \n",
      " 38  geo_type                3612 non-null   int64  \n",
      " 39  region                  3612 non-null   object \n",
      " 40  subregion               3612 non-null   object \n",
      " 41  num_quotes              3612 non-null   int64  \n",
      " 42  num_replies             3612 non-null   int64  \n",
      " 43  num_retweets            3612 non-null   int64  \n",
      " 44  sent_gpt                3612 non-null   object \n",
      " 45  gpt_sent_presence       3612 non-null   int64  \n",
      " 46  cleaned_text_lem        3612 non-null   object \n",
      " 47  cleaned_text            3612 non-null   object \n",
      " 48  month                   3612 non-null   int64  \n",
      " 49  year                    3612 non-null   int64  \n",
      " 50  week                    3612 non-null   int64  \n",
      " 51  year_month              3612 non-null   object \n",
      " 52  year_week               3612 non-null   object \n",
      "dtypes: bool(5), float64(12), int64(14), object(22)\n",
      "memory usage: 1.3+ MB\n"
     ]
    }
   ],
   "source": [
    "# Get monthly data\n",
    "df_2017_06_pos = pd.read_csv('../data/local/df_pos_2017-06.csv').reset_index()\n",
    "df_2017_06_pos.info()"
   ]
  },
  {
   "cell_type": "markdown",
   "id": "57bf0007",
   "metadata": {},
   "source": [
    "### Representative sample based on week and location"
   ]
  },
  {
   "cell_type": "code",
   "execution_count": 266,
   "id": "59042a70",
   "metadata": {},
   "outputs": [
    {
     "data": {
      "text/html": [
       "<div>\n",
       "<style scoped>\n",
       "    .dataframe tbody tr th:only-of-type {\n",
       "        vertical-align: middle;\n",
       "    }\n",
       "\n",
       "    .dataframe tbody tr th {\n",
       "        vertical-align: top;\n",
       "    }\n",
       "\n",
       "    .dataframe thead th {\n",
       "        text-align: right;\n",
       "    }\n",
       "</style>\n",
       "<table border=\"1\" class=\"dataframe\">\n",
       "  <thead>\n",
       "    <tr style=\"text-align: right;\">\n",
       "      <th></th>\n",
       "      <th>year_week</th>\n",
       "      <th>LocationName</th>\n",
       "      <th>group_size</th>\n",
       "      <th>proportion</th>\n",
       "    </tr>\n",
       "  </thead>\n",
       "  <tbody>\n",
       "    <tr>\n",
       "      <th>0</th>\n",
       "      <td>2017-w22</td>\n",
       "      <td>Acre</td>\n",
       "      <td>3</td>\n",
       "      <td>0.000831</td>\n",
       "    </tr>\n",
       "    <tr>\n",
       "      <th>1</th>\n",
       "      <td>2017-w22</td>\n",
       "      <td>Alagoas</td>\n",
       "      <td>7</td>\n",
       "      <td>0.001938</td>\n",
       "    </tr>\n",
       "    <tr>\n",
       "      <th>2</th>\n",
       "      <td>2017-w22</td>\n",
       "      <td>Amapa</td>\n",
       "      <td>18</td>\n",
       "      <td>0.004983</td>\n",
       "    </tr>\n",
       "    <tr>\n",
       "      <th>3</th>\n",
       "      <td>2017-w22</td>\n",
       "      <td>Amazonas</td>\n",
       "      <td>17</td>\n",
       "      <td>0.004707</td>\n",
       "    </tr>\n",
       "    <tr>\n",
       "      <th>4</th>\n",
       "      <td>2017-w22</td>\n",
       "      <td>Bahia</td>\n",
       "      <td>39</td>\n",
       "      <td>0.010797</td>\n",
       "    </tr>\n",
       "    <tr>\n",
       "      <th>...</th>\n",
       "      <td>...</td>\n",
       "      <td>...</td>\n",
       "      <td>...</td>\n",
       "      <td>...</td>\n",
       "    </tr>\n",
       "    <tr>\n",
       "      <th>119</th>\n",
       "      <td>2017-w26</td>\n",
       "      <td>Rondonia</td>\n",
       "      <td>1</td>\n",
       "      <td>0.000277</td>\n",
       "    </tr>\n",
       "    <tr>\n",
       "      <th>120</th>\n",
       "      <td>2017-w26</td>\n",
       "      <td>Santa Catarina</td>\n",
       "      <td>14</td>\n",
       "      <td>0.003876</td>\n",
       "    </tr>\n",
       "    <tr>\n",
       "      <th>121</th>\n",
       "      <td>2017-w26</td>\n",
       "      <td>Sao Paulo</td>\n",
       "      <td>87</td>\n",
       "      <td>0.024086</td>\n",
       "    </tr>\n",
       "    <tr>\n",
       "      <th>122</th>\n",
       "      <td>2017-w26</td>\n",
       "      <td>Sergipe</td>\n",
       "      <td>1</td>\n",
       "      <td>0.000277</td>\n",
       "    </tr>\n",
       "    <tr>\n",
       "      <th>123</th>\n",
       "      <td>2017-w26</td>\n",
       "      <td>Tocantins</td>\n",
       "      <td>2</td>\n",
       "      <td>0.000554</td>\n",
       "    </tr>\n",
       "  </tbody>\n",
       "</table>\n",
       "<p>124 rows × 4 columns</p>\n",
       "</div>"
      ],
      "text/plain": [
       "    year_week    LocationName  group_size  proportion\n",
       "0    2017-w22            Acre           3    0.000831\n",
       "1    2017-w22         Alagoas           7    0.001938\n",
       "2    2017-w22           Amapa          18    0.004983\n",
       "3    2017-w22        Amazonas          17    0.004707\n",
       "4    2017-w22           Bahia          39    0.010797\n",
       "..        ...             ...         ...         ...\n",
       "119  2017-w26        Rondonia           1    0.000277\n",
       "120  2017-w26  Santa Catarina          14    0.003876\n",
       "121  2017-w26       Sao Paulo          87    0.024086\n",
       "122  2017-w26         Sergipe           1    0.000277\n",
       "123  2017-w26       Tocantins           2    0.000554\n",
       "\n",
       "[124 rows x 4 columns]"
      ]
     },
     "execution_count": 266,
     "metadata": {},
     "output_type": "execute_result"
    }
   ],
   "source": [
    "# Step 1: Calculate the size of each group (year_week, LocationName)\n",
    "group_sizes = df_2017_06_pos.groupby(['year_week', 'LocationName']).size().reset_index(name='group_size')\n",
    "\n",
    "# Step 2: Calculate the proportion of each group in the dataset\n",
    "total_rows = len(df_2017_06_pos)\n",
    "group_sizes['proportion'] = group_sizes['group_size'] / total_rows\n",
    "group_sizes"
   ]
  },
  {
   "cell_type": "code",
   "execution_count": 267,
   "id": "371bde15",
   "metadata": {},
   "outputs": [
    {
     "data": {
      "text/html": [
       "<div>\n",
       "<style scoped>\n",
       "    .dataframe tbody tr th:only-of-type {\n",
       "        vertical-align: middle;\n",
       "    }\n",
       "\n",
       "    .dataframe tbody tr th {\n",
       "        vertical-align: top;\n",
       "    }\n",
       "\n",
       "    .dataframe thead th {\n",
       "        text-align: right;\n",
       "    }\n",
       "</style>\n",
       "<table border=\"1\" class=\"dataframe\">\n",
       "  <thead>\n",
       "    <tr style=\"text-align: right;\">\n",
       "      <th></th>\n",
       "      <th>year_week</th>\n",
       "      <th>LocationName</th>\n",
       "      <th>group_size</th>\n",
       "      <th>proportion</th>\n",
       "      <th>sample_size</th>\n",
       "    </tr>\n",
       "  </thead>\n",
       "  <tbody>\n",
       "    <tr>\n",
       "      <th>0</th>\n",
       "      <td>2017-w22</td>\n",
       "      <td>Acre</td>\n",
       "      <td>3</td>\n",
       "      <td>0.000831</td>\n",
       "      <td>2</td>\n",
       "    </tr>\n",
       "    <tr>\n",
       "      <th>1</th>\n",
       "      <td>2017-w22</td>\n",
       "      <td>Alagoas</td>\n",
       "      <td>7</td>\n",
       "      <td>0.001938</td>\n",
       "      <td>4</td>\n",
       "    </tr>\n",
       "    <tr>\n",
       "      <th>2</th>\n",
       "      <td>2017-w22</td>\n",
       "      <td>Amapa</td>\n",
       "      <td>18</td>\n",
       "      <td>0.004983</td>\n",
       "      <td>12</td>\n",
       "    </tr>\n",
       "    <tr>\n",
       "      <th>3</th>\n",
       "      <td>2017-w22</td>\n",
       "      <td>Amazonas</td>\n",
       "      <td>17</td>\n",
       "      <td>0.004707</td>\n",
       "      <td>11</td>\n",
       "    </tr>\n",
       "    <tr>\n",
       "      <th>4</th>\n",
       "      <td>2017-w22</td>\n",
       "      <td>Bahia</td>\n",
       "      <td>39</td>\n",
       "      <td>0.010797</td>\n",
       "      <td>26</td>\n",
       "    </tr>\n",
       "    <tr>\n",
       "      <th>...</th>\n",
       "      <td>...</td>\n",
       "      <td>...</td>\n",
       "      <td>...</td>\n",
       "      <td>...</td>\n",
       "      <td>...</td>\n",
       "    </tr>\n",
       "    <tr>\n",
       "      <th>119</th>\n",
       "      <td>2017-w26</td>\n",
       "      <td>Rondonia</td>\n",
       "      <td>1</td>\n",
       "      <td>0.000277</td>\n",
       "      <td>0</td>\n",
       "    </tr>\n",
       "    <tr>\n",
       "      <th>120</th>\n",
       "      <td>2017-w26</td>\n",
       "      <td>Santa Catarina</td>\n",
       "      <td>14</td>\n",
       "      <td>0.003876</td>\n",
       "      <td>9</td>\n",
       "    </tr>\n",
       "    <tr>\n",
       "      <th>121</th>\n",
       "      <td>2017-w26</td>\n",
       "      <td>Sao Paulo</td>\n",
       "      <td>87</td>\n",
       "      <td>0.024086</td>\n",
       "      <td>59</td>\n",
       "    </tr>\n",
       "    <tr>\n",
       "      <th>122</th>\n",
       "      <td>2017-w26</td>\n",
       "      <td>Sergipe</td>\n",
       "      <td>1</td>\n",
       "      <td>0.000277</td>\n",
       "      <td>0</td>\n",
       "    </tr>\n",
       "    <tr>\n",
       "      <th>123</th>\n",
       "      <td>2017-w26</td>\n",
       "      <td>Tocantins</td>\n",
       "      <td>2</td>\n",
       "      <td>0.000554</td>\n",
       "      <td>1</td>\n",
       "    </tr>\n",
       "  </tbody>\n",
       "</table>\n",
       "<p>124 rows × 5 columns</p>\n",
       "</div>"
      ],
      "text/plain": [
       "    year_week    LocationName  group_size  proportion  sample_size\n",
       "0    2017-w22            Acre           3    0.000831            2\n",
       "1    2017-w22         Alagoas           7    0.001938            4\n",
       "2    2017-w22           Amapa          18    0.004983           12\n",
       "3    2017-w22        Amazonas          17    0.004707           11\n",
       "4    2017-w22           Bahia          39    0.010797           26\n",
       "..        ...             ...         ...         ...          ...\n",
       "119  2017-w26        Rondonia           1    0.000277            0\n",
       "120  2017-w26  Santa Catarina          14    0.003876            9\n",
       "121  2017-w26       Sao Paulo          87    0.024086           59\n",
       "122  2017-w26         Sergipe           1    0.000277            0\n",
       "123  2017-w26       Tocantins           2    0.000554            1\n",
       "\n",
       "[124 rows x 5 columns]"
      ]
     },
     "execution_count": 267,
     "metadata": {},
     "output_type": "execute_result"
    }
   ],
   "source": [
    "# Step 3: Define the target sample size\n",
    "target_sample_size = 2450\n",
    "\n",
    "# Step 4: Calculate the sample size for each group (based on its proportion)\n",
    "group_sizes['sample_size'] = np.floor(group_sizes['proportion'] * target_sample_size).astype(int)\n",
    "group_sizes"
   ]
  },
  {
   "cell_type": "code",
   "execution_count": 268,
   "id": "63e28728",
   "metadata": {},
   "outputs": [],
   "source": [
    "# Step 5: Merge this sample size information back to the original DataFrame\n",
    "df_2017_06_pos_sample_size = pd.merge(df_2017_06_pos, group_sizes[['year_week', 'LocationName', 'sample_size']], \n",
    "                               on=['year_week', 'LocationName'], how='left')"
   ]
  },
  {
   "cell_type": "code",
   "execution_count": 269,
   "id": "d929406c",
   "metadata": {},
   "outputs": [
    {
     "name": "stdout",
     "output_type": "stream",
     "text": [
      "Sampled 2391 rows.\n"
     ]
    }
   ],
   "source": [
    "# Step 6: Perform the stratified sampling\n",
    "df_2017_06_pos_sample = df_2017_06_pos_sample_size.groupby(['year_week', 'LocationName']).apply(\n",
    "    lambda group: group.sample(n=group['sample_size'].iloc[0], random_state=42)\n",
    ").reset_index(drop=True)\n",
    "\n",
    "# Step 7: Check the result\n",
    "print(f\"Sampled {len(df_2017_06_pos_sample)} rows.\")\n"
   ]
  },
  {
   "cell_type": "code",
   "execution_count": 270,
   "id": "e9aa1932",
   "metadata": {},
   "outputs": [],
   "source": [
    "text_gpt_2017_06_pos = '\\n'.join(df_2017_06_pos_sample['text'].astype(str))"
   ]
  },
  {
   "cell_type": "markdown",
   "id": "1f2f44e4",
   "metadata": {},
   "source": [
    "### Prompts and loops"
   ]
  },
  {
   "cell_type": "code",
   "execution_count": 271,
   "id": "2faa24e8",
   "metadata": {},
   "outputs": [],
   "source": [
    "prompt_6 = prompt_raw.replace('TWEETS', text_gpt_2017_06_pos)"
   ]
  },
  {
   "cell_type": "code",
   "execution_count": 272,
   "id": "bc6051bc",
   "metadata": {
    "scrolled": false
   },
   "outputs": [],
   "source": [
    "response = openai.ChatCompletion.create(\n",
    "    model=\"gpt-4o-mini\",  \n",
    "    messages = [\n",
    "        {\"role\": \"user\", \"content\": prompt_6}\n",
    "    ],\n",
    "    max_tokens=400,  # Maximum number of tokens in the response\n",
    "    temperature=0.7  # Controls the randomness of the output\n",
    ")"
   ]
  },
  {
   "cell_type": "code",
   "execution_count": 273,
   "id": "71cfa37a",
   "metadata": {},
   "outputs": [
    {
     "data": {
      "text/plain": [
       "\"The text discusses the Brazilian government's decision to make the flu vaccine available to the entire population starting on June 5. It emphasizes the importance of vaccination in preventing flu and related complications, highlighting various campaigns and initiatives across the country. The text also mentions the successful vaccination drives in different states and the promotion of HPV vaccines for both boys and girls. Overall, it advocates for public health and vaccination awareness.\""
      ]
     },
     "execution_count": 273,
     "metadata": {},
     "output_type": "execute_result"
    }
   ],
   "source": [
    "response.choices[0].message.content"
   ]
  },
  {
   "cell_type": "code",
   "execution_count": 274,
   "id": "e05c6917",
   "metadata": {},
   "outputs": [],
   "source": [
    "#summary = []\n",
    "#dataset = []"
   ]
  },
  {
   "cell_type": "code",
   "execution_count": 275,
   "id": "a222eb1f",
   "metadata": {},
   "outputs": [],
   "source": [
    "dataset.append(\"2017_06_positive\")"
   ]
  },
  {
   "cell_type": "code",
   "execution_count": 276,
   "id": "16cc4629",
   "metadata": {},
   "outputs": [],
   "source": [
    "summary.append(response.choices[0].message.content)"
   ]
  },
  {
   "cell_type": "code",
   "execution_count": 277,
   "id": "06ae8742",
   "metadata": {
    "tags": []
   },
   "outputs": [
    {
     "name": "stdout",
     "output_type": "stream",
     "text": [
      "<class 'pandas.core.frame.DataFrame'>\n",
      "RangeIndex: 6 entries, 0 to 5\n",
      "Data columns (total 2 columns):\n",
      " #   Column   Non-Null Count  Dtype \n",
      "---  ------   --------------  ----- \n",
      " 0   dataset  6 non-null      object\n",
      " 1   summary  6 non-null      object\n",
      "dtypes: object(2)\n",
      "memory usage: 224.0+ bytes\n"
     ]
    }
   ],
   "source": [
    "df_2017_pos = pd.DataFrame(list(zip(dataset, summary)),\n",
    "                            columns = ['dataset', 'summary'])\n",
    "df_2017_pos.info()"
   ]
  },
  {
   "cell_type": "code",
   "execution_count": 278,
   "id": "116b4d78",
   "metadata": {},
   "outputs": [
    {
     "data": {
      "text/html": [
       "<div>\n",
       "<style scoped>\n",
       "    .dataframe tbody tr th:only-of-type {\n",
       "        vertical-align: middle;\n",
       "    }\n",
       "\n",
       "    .dataframe tbody tr th {\n",
       "        vertical-align: top;\n",
       "    }\n",
       "\n",
       "    .dataframe thead th {\n",
       "        text-align: right;\n",
       "    }\n",
       "</style>\n",
       "<table border=\"1\" class=\"dataframe\">\n",
       "  <thead>\n",
       "    <tr style=\"text-align: right;\">\n",
       "      <th></th>\n",
       "      <th>dataset</th>\n",
       "      <th>summary</th>\n",
       "    </tr>\n",
       "  </thead>\n",
       "  <tbody>\n",
       "    <tr>\n",
       "      <th>0</th>\n",
       "      <td>2017_01_positive</td>\n",
       "      <td>Penápolis will participate in the yellow fever...</td>\n",
       "    </tr>\n",
       "    <tr>\n",
       "      <th>1</th>\n",
       "      <td>2017_02_positive</td>\n",
       "      <td>The text discusses various vaccination efforts...</td>\n",
       "    </tr>\n",
       "    <tr>\n",
       "      <th>2</th>\n",
       "      <td>2017_03_positive</td>\n",
       "      <td>The text discusses various aspects of vaccinat...</td>\n",
       "    </tr>\n",
       "    <tr>\n",
       "      <th>3</th>\n",
       "      <td>2017_04_positive</td>\n",
       "      <td>The Portuguese sentences discuss various vacci...</td>\n",
       "    </tr>\n",
       "    <tr>\n",
       "      <th>4</th>\n",
       "      <td>2017_05_positive</td>\n",
       "      <td>The provided Portuguese sentences discuss vari...</td>\n",
       "    </tr>\n",
       "    <tr>\n",
       "      <th>5</th>\n",
       "      <td>2017_06_positive</td>\n",
       "      <td>The text discusses the Brazilian government's ...</td>\n",
       "    </tr>\n",
       "  </tbody>\n",
       "</table>\n",
       "</div>"
      ],
      "text/plain": [
       "            dataset                                            summary\n",
       "0  2017_01_positive  Penápolis will participate in the yellow fever...\n",
       "1  2017_02_positive  The text discusses various vaccination efforts...\n",
       "2  2017_03_positive  The text discusses various aspects of vaccinat...\n",
       "3  2017_04_positive  The Portuguese sentences discuss various vacci...\n",
       "4  2017_05_positive  The provided Portuguese sentences discuss vari...\n",
       "5  2017_06_positive  The text discusses the Brazilian government's ..."
      ]
     },
     "execution_count": 278,
     "metadata": {},
     "output_type": "execute_result"
    }
   ],
   "source": [
    "df_2017_pos.tail(14)"
   ]
  },
  {
   "cell_type": "code",
   "execution_count": 279,
   "id": "7668e23f",
   "metadata": {},
   "outputs": [
    {
     "data": {
      "text/plain": [
       "<OpenAIObject chat.completion id=chatcmpl-AUB67pridVTx2TYASm52ghLj5uOzE at 0x21710ca7680> JSON: {\n",
       "  \"choices\": [\n",
       "    {\n",
       "      \"finish_reason\": \"stop\",\n",
       "      \"index\": 0,\n",
       "      \"logprobs\": null,\n",
       "      \"message\": {\n",
       "        \"content\": \"The text discusses the Brazilian government's decision to make the flu vaccine available to the entire population starting on June 5. It emphasizes the importance of vaccination in preventing flu and related complications, highlighting various campaigns and initiatives across the country. The text also mentions the successful vaccination drives in different states and the promotion of HPV vaccines for both boys and girls. Overall, it advocates for public health and vaccination awareness.\",\n",
       "        \"refusal\": null,\n",
       "        \"role\": \"assistant\"\n",
       "      }\n",
       "    }\n",
       "  ],\n",
       "  \"created\": 1731755863,\n",
       "  \"id\": \"chatcmpl-AUB67pridVTx2TYASm52ghLj5uOzE\",\n",
       "  \"model\": \"gpt-4o-mini-2024-07-18\",\n",
       "  \"object\": \"chat.completion\",\n",
       "  \"system_fingerprint\": \"fp_0ba0d124f1\",\n",
       "  \"usage\": {\n",
       "    \"completion_tokens\": 79,\n",
       "    \"completion_tokens_details\": {\n",
       "      \"accepted_prediction_tokens\": 0,\n",
       "      \"audio_tokens\": 0,\n",
       "      \"reasoning_tokens\": 0,\n",
       "      \"rejected_prediction_tokens\": 0\n",
       "    },\n",
       "    \"prompt_tokens\": 56654,\n",
       "    \"prompt_tokens_details\": {\n",
       "      \"audio_tokens\": 0,\n",
       "      \"cached_tokens\": 0\n",
       "    },\n",
       "    \"total_tokens\": 56733\n",
       "  }\n",
       "}"
      ]
     },
     "execution_count": 279,
     "metadata": {},
     "output_type": "execute_result"
    }
   ],
   "source": [
    "response"
   ]
  },
  {
   "cell_type": "markdown",
   "id": "1b5c5a9b",
   "metadata": {},
   "source": [
    "## July"
   ]
  },
  {
   "cell_type": "code",
   "execution_count": 280,
   "id": "5096b4ba",
   "metadata": {
    "scrolled": true,
    "tags": []
   },
   "outputs": [
    {
     "name": "stdout",
     "output_type": "stream",
     "text": [
      "<class 'pandas.core.frame.DataFrame'>\n",
      "RangeIndex: 2014 entries, 0 to 2013\n",
      "Data columns (total 53 columns):\n",
      " #   Column                  Non-Null Count  Dtype  \n",
      "---  ------                  --------------  -----  \n",
      " 0   index                   2014 non-null   int64  \n",
      " 1   LocationCode            2014 non-null   object \n",
      " 2   LocationName            2014 non-null   object \n",
      " 3   StatesCode              2014 non-null   object \n",
      " 4   ...4                    2014 non-null   int64  \n",
      " 5   id                      2014 non-null   float64\n",
      " 6   text                    2014 non-null   object \n",
      " 7   label                   2014 non-null   object \n",
      " 8   in_reply_to_status_id   151 non-null    float64\n",
      " 9   in_reply_to_user_id     155 non-null    float64\n",
      " 10  quoted_user_id          72 non-null     float64\n",
      " 11  quoted_status_id        72 non-null     float64\n",
      " 12  retweeted_user_id       697 non-null    float64\n",
      " 13  retweeted_status_id     697 non-null    float64\n",
      " 14  created_at              2014 non-null   object \n",
      " 15  entities.user_mentions  908 non-null    object \n",
      " 16  user.id                 2014 non-null   float64\n",
      " 17  user.screen_name        2014 non-null   object \n",
      " 18  user.name               2014 non-null   object \n",
      " 19  user.description        1756 non-null   object \n",
      " 20  user.timezone           0 non-null      float64\n",
      " 21  user.location           1993 non-null   object \n",
      " 22  user.num_followers      2014 non-null   int64  \n",
      " 23  user.num_following      2014 non-null   int64  \n",
      " 24  user.created_at         2014 non-null   object \n",
      " 25  user.statuses_count     2014 non-null   int64  \n",
      " 26  user.is_verified        2014 non-null   bool   \n",
      " 27  lang                    2014 non-null   object \n",
      " 28  token_count             2014 non-null   int64  \n",
      " 29  is_retweet              2014 non-null   bool   \n",
      " 30  has_quote               2014 non-null   bool   \n",
      " 31  is_reply                2014 non-null   bool   \n",
      " 32  contains_keywords       2014 non-null   bool   \n",
      " 33  longitude               2014 non-null   float64\n",
      " 34  latitude                2014 non-null   float64\n",
      " 35  country_code            2014 non-null   object \n",
      " 36  geoname_id              1897 non-null   float64\n",
      " 37  location_type           2014 non-null   object \n",
      " 38  geo_type                2014 non-null   int64  \n",
      " 39  region                  2014 non-null   object \n",
      " 40  subregion               2014 non-null   object \n",
      " 41  num_quotes              2014 non-null   int64  \n",
      " 42  num_replies             2014 non-null   int64  \n",
      " 43  num_retweets            2014 non-null   int64  \n",
      " 44  sent_gpt                2014 non-null   object \n",
      " 45  gpt_sent_presence       2014 non-null   int64  \n",
      " 46  cleaned_text_lem        2014 non-null   object \n",
      " 47  cleaned_text            2014 non-null   object \n",
      " 48  month                   2014 non-null   int64  \n",
      " 49  year                    2014 non-null   int64  \n",
      " 50  week                    2014 non-null   int64  \n",
      " 51  year_month              2014 non-null   object \n",
      " 52  year_week               2014 non-null   object \n",
      "dtypes: bool(5), float64(12), int64(14), object(22)\n",
      "memory usage: 765.2+ KB\n"
     ]
    }
   ],
   "source": [
    "# Get monthly data\n",
    "df_2017_07_pos = pd.read_csv('../data/local/df_pos_2017-07.csv').reset_index()\n",
    "df_2017_07_pos.info()"
   ]
  },
  {
   "cell_type": "markdown",
   "id": "bdd1752b",
   "metadata": {},
   "source": [
    "### Representative sample based on week and location"
   ]
  },
  {
   "cell_type": "code",
   "execution_count": 281,
   "id": "e62e79b6",
   "metadata": {},
   "outputs": [
    {
     "data": {
      "text/html": [
       "<div>\n",
       "<style scoped>\n",
       "    .dataframe tbody tr th:only-of-type {\n",
       "        vertical-align: middle;\n",
       "    }\n",
       "\n",
       "    .dataframe tbody tr th {\n",
       "        vertical-align: top;\n",
       "    }\n",
       "\n",
       "    .dataframe thead th {\n",
       "        text-align: right;\n",
       "    }\n",
       "</style>\n",
       "<table border=\"1\" class=\"dataframe\">\n",
       "  <thead>\n",
       "    <tr style=\"text-align: right;\">\n",
       "      <th></th>\n",
       "      <th>year_week</th>\n",
       "      <th>LocationName</th>\n",
       "      <th>group_size</th>\n",
       "      <th>proportion</th>\n",
       "    </tr>\n",
       "  </thead>\n",
       "  <tbody>\n",
       "    <tr>\n",
       "      <th>0</th>\n",
       "      <td>2017-w26</td>\n",
       "      <td>Alagoas</td>\n",
       "      <td>1</td>\n",
       "      <td>0.000497</td>\n",
       "    </tr>\n",
       "    <tr>\n",
       "      <th>1</th>\n",
       "      <td>2017-w26</td>\n",
       "      <td>Amazonas</td>\n",
       "      <td>3</td>\n",
       "      <td>0.001490</td>\n",
       "    </tr>\n",
       "    <tr>\n",
       "      <th>2</th>\n",
       "      <td>2017-w26</td>\n",
       "      <td>Bahia</td>\n",
       "      <td>8</td>\n",
       "      <td>0.003972</td>\n",
       "    </tr>\n",
       "    <tr>\n",
       "      <th>3</th>\n",
       "      <td>2017-w26</td>\n",
       "      <td>Ceara</td>\n",
       "      <td>12</td>\n",
       "      <td>0.005958</td>\n",
       "    </tr>\n",
       "    <tr>\n",
       "      <th>4</th>\n",
       "      <td>2017-w26</td>\n",
       "      <td>Distrito Federal</td>\n",
       "      <td>3</td>\n",
       "      <td>0.001490</td>\n",
       "    </tr>\n",
       "    <tr>\n",
       "      <th>...</th>\n",
       "      <td>...</td>\n",
       "      <td>...</td>\n",
       "      <td>...</td>\n",
       "      <td>...</td>\n",
       "    </tr>\n",
       "    <tr>\n",
       "      <th>110</th>\n",
       "      <td>2017-w31</td>\n",
       "      <td>Parana</td>\n",
       "      <td>1</td>\n",
       "      <td>0.000497</td>\n",
       "    </tr>\n",
       "    <tr>\n",
       "      <th>111</th>\n",
       "      <td>2017-w31</td>\n",
       "      <td>Pernambuco</td>\n",
       "      <td>3</td>\n",
       "      <td>0.001490</td>\n",
       "    </tr>\n",
       "    <tr>\n",
       "      <th>112</th>\n",
       "      <td>2017-w31</td>\n",
       "      <td>Rio Grande Do Sul</td>\n",
       "      <td>1</td>\n",
       "      <td>0.000497</td>\n",
       "    </tr>\n",
       "    <tr>\n",
       "      <th>113</th>\n",
       "      <td>2017-w31</td>\n",
       "      <td>Santa Catarina</td>\n",
       "      <td>2</td>\n",
       "      <td>0.000993</td>\n",
       "    </tr>\n",
       "    <tr>\n",
       "      <th>114</th>\n",
       "      <td>2017-w31</td>\n",
       "      <td>Sao Paulo</td>\n",
       "      <td>17</td>\n",
       "      <td>0.008441</td>\n",
       "    </tr>\n",
       "  </tbody>\n",
       "</table>\n",
       "<p>115 rows × 4 columns</p>\n",
       "</div>"
      ],
      "text/plain": [
       "    year_week       LocationName  group_size  proportion\n",
       "0    2017-w26            Alagoas           1    0.000497\n",
       "1    2017-w26           Amazonas           3    0.001490\n",
       "2    2017-w26              Bahia           8    0.003972\n",
       "3    2017-w26              Ceara          12    0.005958\n",
       "4    2017-w26   Distrito Federal           3    0.001490\n",
       "..        ...                ...         ...         ...\n",
       "110  2017-w31             Parana           1    0.000497\n",
       "111  2017-w31         Pernambuco           3    0.001490\n",
       "112  2017-w31  Rio Grande Do Sul           1    0.000497\n",
       "113  2017-w31     Santa Catarina           2    0.000993\n",
       "114  2017-w31          Sao Paulo          17    0.008441\n",
       "\n",
       "[115 rows x 4 columns]"
      ]
     },
     "execution_count": 281,
     "metadata": {},
     "output_type": "execute_result"
    }
   ],
   "source": [
    "# Step 1: Calculate the size of each group (year_week, LocationName)\n",
    "group_sizes = df_2017_07_pos.groupby(['year_week', 'LocationName']).size().reset_index(name='group_size')\n",
    "\n",
    "# Step 2: Calculate the proportion of each group in the dataset\n",
    "total_rows = len(df_2017_07_pos)\n",
    "group_sizes['proportion'] = group_sizes['group_size'] / total_rows\n",
    "group_sizes"
   ]
  },
  {
   "cell_type": "code",
   "execution_count": 288,
   "id": "97b60716",
   "metadata": {},
   "outputs": [],
   "source": [
    "# Step 3: Define the target sample size\n",
    "#target_sample_size = 2450\n",
    "\n",
    "# Step 4: Calculate the sample size for each group (based on its proportion)\n",
    "#group_sizes['sample_size'] = np.floor(group_sizes['proportion'] * target_sample_size).astype(int)\n",
    "#group_sizes\n",
    "# Include all samples since there are not many tweets"
   ]
  },
  {
   "cell_type": "code",
   "execution_count": 286,
   "id": "4c991d80",
   "metadata": {},
   "outputs": [],
   "source": [
    "# Step 5: Merge this sample size information back to the original DataFrame\n",
    "#df_2017_07_pos_sample_size = pd.merge(df_2017_07_pos, group_sizes[['year_week', 'LocationName', 'sample_size']], \n",
    " #                              on=['year_week', 'LocationName'], how='left')"
   ]
  },
  {
   "cell_type": "code",
   "execution_count": 289,
   "id": "deab4678",
   "metadata": {},
   "outputs": [
    {
     "name": "stdout",
     "output_type": "stream",
     "text": [
      "Sampled 2014 rows.\n"
     ]
    }
   ],
   "source": [
    "# Step 6: Perform the stratified sampling\n",
    "#df_2017_07_pos_sample = df_2017_07_pos_sample_size.groupby(['year_week', 'LocationName']).apply(\n",
    "#    lambda group: group.sample(n=group['sample_size'].iloc[0], random_state=42)\n",
    "#).reset_index(drop=True)\n",
    "df_2017_07_pos_sample = df_2017_07_pos\n",
    "# Step 7: Check the result\n",
    "print(f\"Sampled {len(df_2017_07_pos_sample)} rows.\")\n"
   ]
  },
  {
   "cell_type": "code",
   "execution_count": 291,
   "id": "33656dea",
   "metadata": {},
   "outputs": [],
   "source": [
    "text_gpt_2017_07_pos = '\\n'.join(df_2017_07_pos_sample['text'].astype(str))"
   ]
  },
  {
   "cell_type": "markdown",
   "id": "92d7e0ea",
   "metadata": {},
   "source": [
    "### Prompts and loops"
   ]
  },
  {
   "cell_type": "code",
   "execution_count": 294,
   "id": "349334a9",
   "metadata": {},
   "outputs": [],
   "source": [
    "prompt_7 = prompt_raw.replace('TWEETS', text_gpt_2017_07_pos)"
   ]
  },
  {
   "cell_type": "code",
   "execution_count": 297,
   "id": "ff46a08b",
   "metadata": {
    "scrolled": false
   },
   "outputs": [],
   "source": [
    "response = openai.ChatCompletion.create(\n",
    "    model=\"gpt-4o-mini\",  \n",
    "    messages = [\n",
    "        {\"role\": \"user\", \"content\": prompt_7}\n",
    "    ],\n",
    "    max_tokens=400,  # Maximum number of tokens in the response\n",
    "    temperature=0.7  # Controls the randomness of the output\n",
    ")"
   ]
  },
  {
   "cell_type": "code",
   "execution_count": 299,
   "id": "6723c1d4",
   "metadata": {},
   "outputs": [
    {
     "data": {
      "text/plain": [
       "'The texts discuss various aspects of vaccination, highlighting its importance for public health, the introduction of new vaccines, and ongoing vaccination campaigns in Brazil. Key topics include the need for vaccination against diseases like HPV, HIV, and Zika, as well as the role of public awareness and education in increasing vaccination rates. The texts also mention innovative approaches, such as using fun music to promote immunization and the development of needle-free vaccine delivery methods. Overall, they emphasize that vaccination is a crucial preventive measure against infectious diseases.'"
      ]
     },
     "execution_count": 299,
     "metadata": {},
     "output_type": "execute_result"
    }
   ],
   "source": [
    "response.choices[0].message.content"
   ]
  },
  {
   "cell_type": "code",
   "execution_count": 300,
   "id": "d3081509",
   "metadata": {},
   "outputs": [],
   "source": [
    "#summary = []\n",
    "#dataset = []"
   ]
  },
  {
   "cell_type": "code",
   "execution_count": 301,
   "id": "1ba0dacb",
   "metadata": {},
   "outputs": [],
   "source": [
    "dataset.append(\"2017_07_positive\")"
   ]
  },
  {
   "cell_type": "code",
   "execution_count": 302,
   "id": "cadb0bde",
   "metadata": {},
   "outputs": [],
   "source": [
    "summary.append(response.choices[0].message.content)"
   ]
  },
  {
   "cell_type": "code",
   "execution_count": 303,
   "id": "b80e1e4e",
   "metadata": {
    "tags": []
   },
   "outputs": [
    {
     "name": "stdout",
     "output_type": "stream",
     "text": [
      "<class 'pandas.core.frame.DataFrame'>\n",
      "RangeIndex: 7 entries, 0 to 6\n",
      "Data columns (total 2 columns):\n",
      " #   Column   Non-Null Count  Dtype \n",
      "---  ------   --------------  ----- \n",
      " 0   dataset  7 non-null      object\n",
      " 1   summary  7 non-null      object\n",
      "dtypes: object(2)\n",
      "memory usage: 240.0+ bytes\n"
     ]
    }
   ],
   "source": [
    "df_2017_pos = pd.DataFrame(list(zip(dataset, summary)),\n",
    "                            columns = ['dataset', 'summary'])\n",
    "df_2017_pos.info()"
   ]
  },
  {
   "cell_type": "code",
   "execution_count": 304,
   "id": "de211f05",
   "metadata": {},
   "outputs": [
    {
     "data": {
      "text/html": [
       "<div>\n",
       "<style scoped>\n",
       "    .dataframe tbody tr th:only-of-type {\n",
       "        vertical-align: middle;\n",
       "    }\n",
       "\n",
       "    .dataframe tbody tr th {\n",
       "        vertical-align: top;\n",
       "    }\n",
       "\n",
       "    .dataframe thead th {\n",
       "        text-align: right;\n",
       "    }\n",
       "</style>\n",
       "<table border=\"1\" class=\"dataframe\">\n",
       "  <thead>\n",
       "    <tr style=\"text-align: right;\">\n",
       "      <th></th>\n",
       "      <th>dataset</th>\n",
       "      <th>summary</th>\n",
       "    </tr>\n",
       "  </thead>\n",
       "  <tbody>\n",
       "    <tr>\n",
       "      <th>0</th>\n",
       "      <td>2017_01_positive</td>\n",
       "      <td>Penápolis will participate in the yellow fever...</td>\n",
       "    </tr>\n",
       "    <tr>\n",
       "      <th>1</th>\n",
       "      <td>2017_02_positive</td>\n",
       "      <td>The text discusses various vaccination efforts...</td>\n",
       "    </tr>\n",
       "    <tr>\n",
       "      <th>2</th>\n",
       "      <td>2017_03_positive</td>\n",
       "      <td>The text discusses various aspects of vaccinat...</td>\n",
       "    </tr>\n",
       "    <tr>\n",
       "      <th>3</th>\n",
       "      <td>2017_04_positive</td>\n",
       "      <td>The Portuguese sentences discuss various vacci...</td>\n",
       "    </tr>\n",
       "    <tr>\n",
       "      <th>4</th>\n",
       "      <td>2017_05_positive</td>\n",
       "      <td>The provided Portuguese sentences discuss vari...</td>\n",
       "    </tr>\n",
       "    <tr>\n",
       "      <th>5</th>\n",
       "      <td>2017_06_positive</td>\n",
       "      <td>The text discusses the Brazilian government's ...</td>\n",
       "    </tr>\n",
       "    <tr>\n",
       "      <th>6</th>\n",
       "      <td>2017_07_positive</td>\n",
       "      <td>The texts discuss various aspects of vaccinati...</td>\n",
       "    </tr>\n",
       "  </tbody>\n",
       "</table>\n",
       "</div>"
      ],
      "text/plain": [
       "            dataset                                            summary\n",
       "0  2017_01_positive  Penápolis will participate in the yellow fever...\n",
       "1  2017_02_positive  The text discusses various vaccination efforts...\n",
       "2  2017_03_positive  The text discusses various aspects of vaccinat...\n",
       "3  2017_04_positive  The Portuguese sentences discuss various vacci...\n",
       "4  2017_05_positive  The provided Portuguese sentences discuss vari...\n",
       "5  2017_06_positive  The text discusses the Brazilian government's ...\n",
       "6  2017_07_positive  The texts discuss various aspects of vaccinati..."
      ]
     },
     "execution_count": 304,
     "metadata": {},
     "output_type": "execute_result"
    }
   ],
   "source": [
    "df_2017_pos.tail(14)"
   ]
  },
  {
   "cell_type": "code",
   "execution_count": 305,
   "id": "19075d74",
   "metadata": {},
   "outputs": [
    {
     "data": {
      "text/plain": [
       "<OpenAIObject chat.completion id=chatcmpl-AUBDFrDzwjvsw0hFvqTq9dXIcbmQk at 0x21716933f40> JSON: {\n",
       "  \"choices\": [\n",
       "    {\n",
       "      \"finish_reason\": \"stop\",\n",
       "      \"index\": 0,\n",
       "      \"logprobs\": null,\n",
       "      \"message\": {\n",
       "        \"content\": \"The texts discuss various aspects of vaccination, highlighting its importance for public health, the introduction of new vaccines, and ongoing vaccination campaigns in Brazil. Key topics include the need for vaccination against diseases like HPV, HIV, and Zika, as well as the role of public awareness and education in increasing vaccination rates. The texts also mention innovative approaches, such as using fun music to promote immunization and the development of needle-free vaccine delivery methods. Overall, they emphasize that vaccination is a crucial preventive measure against infectious diseases.\",\n",
       "        \"refusal\": null,\n",
       "        \"role\": \"assistant\"\n",
       "      }\n",
       "    }\n",
       "  ],\n",
       "  \"created\": 1731756305,\n",
       "  \"id\": \"chatcmpl-AUBDFrDzwjvsw0hFvqTq9dXIcbmQk\",\n",
       "  \"model\": \"gpt-4o-mini-2024-07-18\",\n",
       "  \"object\": \"chat.completion\",\n",
       "  \"system_fingerprint\": \"fp_0ba0d124f1\",\n",
       "  \"usage\": {\n",
       "    \"completion_tokens\": 102,\n",
       "    \"completion_tokens_details\": {\n",
       "      \"accepted_prediction_tokens\": 0,\n",
       "      \"audio_tokens\": 0,\n",
       "      \"reasoning_tokens\": 0,\n",
       "      \"rejected_prediction_tokens\": 0\n",
       "    },\n",
       "    \"prompt_tokens\": 45918,\n",
       "    \"prompt_tokens_details\": {\n",
       "      \"audio_tokens\": 0,\n",
       "      \"cached_tokens\": 0\n",
       "    },\n",
       "    \"total_tokens\": 46020\n",
       "  }\n",
       "}"
      ]
     },
     "execution_count": 305,
     "metadata": {},
     "output_type": "execute_result"
    }
   ],
   "source": [
    "response"
   ]
  },
  {
   "cell_type": "markdown",
   "id": "9d083d2a",
   "metadata": {},
   "source": [
    "## August"
   ]
  },
  {
   "cell_type": "code",
   "execution_count": 306,
   "id": "0ed2a943",
   "metadata": {
    "scrolled": true,
    "tags": []
   },
   "outputs": [
    {
     "name": "stdout",
     "output_type": "stream",
     "text": [
      "<class 'pandas.core.frame.DataFrame'>\n",
      "RangeIndex: 4828 entries, 0 to 4827\n",
      "Data columns (total 53 columns):\n",
      " #   Column                  Non-Null Count  Dtype  \n",
      "---  ------                  --------------  -----  \n",
      " 0   index                   4828 non-null   int64  \n",
      " 1   LocationCode            4828 non-null   object \n",
      " 2   LocationName            4828 non-null   object \n",
      " 3   StatesCode              4828 non-null   object \n",
      " 4   ...4                    4828 non-null   int64  \n",
      " 5   id                      4828 non-null   float64\n",
      " 6   text                    4828 non-null   object \n",
      " 7   label                   4828 non-null   object \n",
      " 8   in_reply_to_status_id   193 non-null    float64\n",
      " 9   in_reply_to_user_id     196 non-null    float64\n",
      " 10  quoted_user_id          71 non-null     float64\n",
      " 11  quoted_status_id        71 non-null     float64\n",
      " 12  retweeted_user_id       3196 non-null   float64\n",
      " 13  retweeted_status_id     3196 non-null   float64\n",
      " 14  created_at              4828 non-null   object \n",
      " 15  entities.user_mentions  3447 non-null   object \n",
      " 16  user.id                 4828 non-null   float64\n",
      " 17  user.screen_name        4828 non-null   object \n",
      " 18  user.name               4827 non-null   object \n",
      " 19  user.description        4389 non-null   object \n",
      " 20  user.timezone           0 non-null      float64\n",
      " 21  user.location           4799 non-null   object \n",
      " 22  user.num_followers      4828 non-null   int64  \n",
      " 23  user.num_following      4828 non-null   int64  \n",
      " 24  user.created_at         4828 non-null   object \n",
      " 25  user.statuses_count     4828 non-null   int64  \n",
      " 26  user.is_verified        4828 non-null   bool   \n",
      " 27  lang                    4828 non-null   object \n",
      " 28  token_count             4828 non-null   int64  \n",
      " 29  is_retweet              4828 non-null   bool   \n",
      " 30  has_quote               4828 non-null   bool   \n",
      " 31  is_reply                4828 non-null   bool   \n",
      " 32  contains_keywords       4828 non-null   bool   \n",
      " 33  longitude               4828 non-null   float64\n",
      " 34  latitude                4828 non-null   float64\n",
      " 35  country_code            4828 non-null   object \n",
      " 36  geoname_id              4687 non-null   float64\n",
      " 37  location_type           4828 non-null   object \n",
      " 38  geo_type                4828 non-null   int64  \n",
      " 39  region                  4828 non-null   object \n",
      " 40  subregion               4828 non-null   object \n",
      " 41  num_quotes              4828 non-null   int64  \n",
      " 42  num_replies             4828 non-null   int64  \n",
      " 43  num_retweets            4828 non-null   int64  \n",
      " 44  sent_gpt                4828 non-null   object \n",
      " 45  gpt_sent_presence       4828 non-null   int64  \n",
      " 46  cleaned_text_lem        4828 non-null   object \n",
      " 47  cleaned_text            4828 non-null   object \n",
      " 48  month                   4828 non-null   int64  \n",
      " 49  year                    4828 non-null   int64  \n",
      " 50  week                    4828 non-null   int64  \n",
      " 51  year_month              4828 non-null   object \n",
      " 52  year_week               4828 non-null   object \n",
      "dtypes: bool(5), float64(12), int64(14), object(22)\n",
      "memory usage: 1.8+ MB\n"
     ]
    }
   ],
   "source": [
    "# Get monthly data\n",
    "df_2017_08_pos = pd.read_csv('../data/local/df_pos_2017-08.csv').reset_index()\n",
    "df_2017_08_pos.info()"
   ]
  },
  {
   "cell_type": "markdown",
   "id": "3c035145",
   "metadata": {},
   "source": [
    "### Representative sample based on week and location"
   ]
  },
  {
   "cell_type": "code",
   "execution_count": 307,
   "id": "ebf072ee",
   "metadata": {},
   "outputs": [
    {
     "data": {
      "text/html": [
       "<div>\n",
       "<style scoped>\n",
       "    .dataframe tbody tr th:only-of-type {\n",
       "        vertical-align: middle;\n",
       "    }\n",
       "\n",
       "    .dataframe tbody tr th {\n",
       "        vertical-align: top;\n",
       "    }\n",
       "\n",
       "    .dataframe thead th {\n",
       "        text-align: right;\n",
       "    }\n",
       "</style>\n",
       "<table border=\"1\" class=\"dataframe\">\n",
       "  <thead>\n",
       "    <tr style=\"text-align: right;\">\n",
       "      <th></th>\n",
       "      <th>year_week</th>\n",
       "      <th>LocationName</th>\n",
       "      <th>group_size</th>\n",
       "      <th>proportion</th>\n",
       "    </tr>\n",
       "  </thead>\n",
       "  <tbody>\n",
       "    <tr>\n",
       "      <th>0</th>\n",
       "      <td>2017-w31</td>\n",
       "      <td>Alagoas</td>\n",
       "      <td>1</td>\n",
       "      <td>0.000207</td>\n",
       "    </tr>\n",
       "    <tr>\n",
       "      <th>1</th>\n",
       "      <td>2017-w31</td>\n",
       "      <td>Amazonas</td>\n",
       "      <td>2</td>\n",
       "      <td>0.000414</td>\n",
       "    </tr>\n",
       "    <tr>\n",
       "      <th>2</th>\n",
       "      <td>2017-w31</td>\n",
       "      <td>Bahia</td>\n",
       "      <td>6</td>\n",
       "      <td>0.001243</td>\n",
       "    </tr>\n",
       "    <tr>\n",
       "      <th>3</th>\n",
       "      <td>2017-w31</td>\n",
       "      <td>Ceara</td>\n",
       "      <td>6</td>\n",
       "      <td>0.001243</td>\n",
       "    </tr>\n",
       "    <tr>\n",
       "      <th>4</th>\n",
       "      <td>2017-w31</td>\n",
       "      <td>Distrito Federal</td>\n",
       "      <td>5</td>\n",
       "      <td>0.001036</td>\n",
       "    </tr>\n",
       "    <tr>\n",
       "      <th>...</th>\n",
       "      <td>...</td>\n",
       "      <td>...</td>\n",
       "      <td>...</td>\n",
       "      <td>...</td>\n",
       "    </tr>\n",
       "    <tr>\n",
       "      <th>105</th>\n",
       "      <td>2017-w35</td>\n",
       "      <td>Rio Grande Do Sul</td>\n",
       "      <td>55</td>\n",
       "      <td>0.011392</td>\n",
       "    </tr>\n",
       "    <tr>\n",
       "      <th>106</th>\n",
       "      <td>2017-w35</td>\n",
       "      <td>Roraima</td>\n",
       "      <td>2</td>\n",
       "      <td>0.000414</td>\n",
       "    </tr>\n",
       "    <tr>\n",
       "      <th>107</th>\n",
       "      <td>2017-w35</td>\n",
       "      <td>Santa Catarina</td>\n",
       "      <td>6</td>\n",
       "      <td>0.001243</td>\n",
       "    </tr>\n",
       "    <tr>\n",
       "      <th>108</th>\n",
       "      <td>2017-w35</td>\n",
       "      <td>Sao Paulo</td>\n",
       "      <td>65</td>\n",
       "      <td>0.013463</td>\n",
       "    </tr>\n",
       "    <tr>\n",
       "      <th>109</th>\n",
       "      <td>2017-w35</td>\n",
       "      <td>Tocantins</td>\n",
       "      <td>1</td>\n",
       "      <td>0.000207</td>\n",
       "    </tr>\n",
       "  </tbody>\n",
       "</table>\n",
       "<p>110 rows × 4 columns</p>\n",
       "</div>"
      ],
      "text/plain": [
       "    year_week       LocationName  group_size  proportion\n",
       "0    2017-w31            Alagoas           1    0.000207\n",
       "1    2017-w31           Amazonas           2    0.000414\n",
       "2    2017-w31              Bahia           6    0.001243\n",
       "3    2017-w31              Ceara           6    0.001243\n",
       "4    2017-w31   Distrito Federal           5    0.001036\n",
       "..        ...                ...         ...         ...\n",
       "105  2017-w35  Rio Grande Do Sul          55    0.011392\n",
       "106  2017-w35            Roraima           2    0.000414\n",
       "107  2017-w35     Santa Catarina           6    0.001243\n",
       "108  2017-w35          Sao Paulo          65    0.013463\n",
       "109  2017-w35          Tocantins           1    0.000207\n",
       "\n",
       "[110 rows x 4 columns]"
      ]
     },
     "execution_count": 307,
     "metadata": {},
     "output_type": "execute_result"
    }
   ],
   "source": [
    "# Step 1: Calculate the size of each group (year_week, LocationName)\n",
    "group_sizes = df_2017_08_pos.groupby(['year_week', 'LocationName']).size().reset_index(name='group_size')\n",
    "\n",
    "# Step 2: Calculate the proportion of each group in the dataset\n",
    "total_rows = len(df_2017_08_pos)\n",
    "group_sizes['proportion'] = group_sizes['group_size'] / total_rows\n",
    "group_sizes"
   ]
  },
  {
   "cell_type": "code",
   "execution_count": 308,
   "id": "c3bc6232",
   "metadata": {},
   "outputs": [
    {
     "data": {
      "text/html": [
       "<div>\n",
       "<style scoped>\n",
       "    .dataframe tbody tr th:only-of-type {\n",
       "        vertical-align: middle;\n",
       "    }\n",
       "\n",
       "    .dataframe tbody tr th {\n",
       "        vertical-align: top;\n",
       "    }\n",
       "\n",
       "    .dataframe thead th {\n",
       "        text-align: right;\n",
       "    }\n",
       "</style>\n",
       "<table border=\"1\" class=\"dataframe\">\n",
       "  <thead>\n",
       "    <tr style=\"text-align: right;\">\n",
       "      <th></th>\n",
       "      <th>year_week</th>\n",
       "      <th>LocationName</th>\n",
       "      <th>group_size</th>\n",
       "      <th>proportion</th>\n",
       "      <th>sample_size</th>\n",
       "    </tr>\n",
       "  </thead>\n",
       "  <tbody>\n",
       "    <tr>\n",
       "      <th>0</th>\n",
       "      <td>2017-w31</td>\n",
       "      <td>Alagoas</td>\n",
       "      <td>1</td>\n",
       "      <td>0.000207</td>\n",
       "      <td>0</td>\n",
       "    </tr>\n",
       "    <tr>\n",
       "      <th>1</th>\n",
       "      <td>2017-w31</td>\n",
       "      <td>Amazonas</td>\n",
       "      <td>2</td>\n",
       "      <td>0.000414</td>\n",
       "      <td>1</td>\n",
       "    </tr>\n",
       "    <tr>\n",
       "      <th>2</th>\n",
       "      <td>2017-w31</td>\n",
       "      <td>Bahia</td>\n",
       "      <td>6</td>\n",
       "      <td>0.001243</td>\n",
       "      <td>3</td>\n",
       "    </tr>\n",
       "    <tr>\n",
       "      <th>3</th>\n",
       "      <td>2017-w31</td>\n",
       "      <td>Ceara</td>\n",
       "      <td>6</td>\n",
       "      <td>0.001243</td>\n",
       "      <td>3</td>\n",
       "    </tr>\n",
       "    <tr>\n",
       "      <th>4</th>\n",
       "      <td>2017-w31</td>\n",
       "      <td>Distrito Federal</td>\n",
       "      <td>5</td>\n",
       "      <td>0.001036</td>\n",
       "      <td>2</td>\n",
       "    </tr>\n",
       "    <tr>\n",
       "      <th>...</th>\n",
       "      <td>...</td>\n",
       "      <td>...</td>\n",
       "      <td>...</td>\n",
       "      <td>...</td>\n",
       "      <td>...</td>\n",
       "    </tr>\n",
       "    <tr>\n",
       "      <th>105</th>\n",
       "      <td>2017-w35</td>\n",
       "      <td>Rio Grande Do Sul</td>\n",
       "      <td>55</td>\n",
       "      <td>0.011392</td>\n",
       "      <td>27</td>\n",
       "    </tr>\n",
       "    <tr>\n",
       "      <th>106</th>\n",
       "      <td>2017-w35</td>\n",
       "      <td>Roraima</td>\n",
       "      <td>2</td>\n",
       "      <td>0.000414</td>\n",
       "      <td>1</td>\n",
       "    </tr>\n",
       "    <tr>\n",
       "      <th>107</th>\n",
       "      <td>2017-w35</td>\n",
       "      <td>Santa Catarina</td>\n",
       "      <td>6</td>\n",
       "      <td>0.001243</td>\n",
       "      <td>3</td>\n",
       "    </tr>\n",
       "    <tr>\n",
       "      <th>108</th>\n",
       "      <td>2017-w35</td>\n",
       "      <td>Sao Paulo</td>\n",
       "      <td>65</td>\n",
       "      <td>0.013463</td>\n",
       "      <td>32</td>\n",
       "    </tr>\n",
       "    <tr>\n",
       "      <th>109</th>\n",
       "      <td>2017-w35</td>\n",
       "      <td>Tocantins</td>\n",
       "      <td>1</td>\n",
       "      <td>0.000207</td>\n",
       "      <td>0</td>\n",
       "    </tr>\n",
       "  </tbody>\n",
       "</table>\n",
       "<p>110 rows × 5 columns</p>\n",
       "</div>"
      ],
      "text/plain": [
       "    year_week       LocationName  group_size  proportion  sample_size\n",
       "0    2017-w31            Alagoas           1    0.000207            0\n",
       "1    2017-w31           Amazonas           2    0.000414            1\n",
       "2    2017-w31              Bahia           6    0.001243            3\n",
       "3    2017-w31              Ceara           6    0.001243            3\n",
       "4    2017-w31   Distrito Federal           5    0.001036            2\n",
       "..        ...                ...         ...         ...          ...\n",
       "105  2017-w35  Rio Grande Do Sul          55    0.011392           27\n",
       "106  2017-w35            Roraima           2    0.000414            1\n",
       "107  2017-w35     Santa Catarina           6    0.001243            3\n",
       "108  2017-w35          Sao Paulo          65    0.013463           32\n",
       "109  2017-w35          Tocantins           1    0.000207            0\n",
       "\n",
       "[110 rows x 5 columns]"
      ]
     },
     "execution_count": 308,
     "metadata": {},
     "output_type": "execute_result"
    }
   ],
   "source": [
    "# Step 3: Define the target sample size\n",
    "target_sample_size = 2450\n",
    "\n",
    "# Step 4: Calculate the sample size for each group (based on its proportion)\n",
    "group_sizes['sample_size'] = np.floor(group_sizes['proportion'] * target_sample_size).astype(int)\n",
    "group_sizes"
   ]
  },
  {
   "cell_type": "code",
   "execution_count": 309,
   "id": "2f55ef03",
   "metadata": {},
   "outputs": [],
   "source": [
    "# Step 5: Merge this sample size information back to the original DataFrame\n",
    "df_2017_08_pos_sample_size = pd.merge(df_2017_08_pos, group_sizes[['year_week', 'LocationName', 'sample_size']], \n",
    "                               on=['year_week', 'LocationName'], how='left')"
   ]
  },
  {
   "cell_type": "code",
   "execution_count": 310,
   "id": "2aa2083a",
   "metadata": {},
   "outputs": [
    {
     "name": "stdout",
     "output_type": "stream",
     "text": [
      "Sampled 2405 rows.\n"
     ]
    }
   ],
   "source": [
    "# Step 6: Perform the stratified sampling\n",
    "df_2017_08_pos_sample = df_2017_08_pos_sample_size.groupby(['year_week', 'LocationName']).apply(\n",
    "    lambda group: group.sample(n=group['sample_size'].iloc[0], random_state=42)\n",
    ").reset_index(drop=True)\n",
    "\n",
    "# Step 7: Check the result\n",
    "print(f\"Sampled {len(df_2017_08_pos_sample)} rows.\")\n"
   ]
  },
  {
   "cell_type": "code",
   "execution_count": 311,
   "id": "3eb70c20",
   "metadata": {},
   "outputs": [],
   "source": [
    "text_gpt_2017_08_pos = '\\n'.join(df_2017_08_pos_sample['text'].astype(str))"
   ]
  },
  {
   "cell_type": "markdown",
   "id": "20c12a08",
   "metadata": {},
   "source": [
    "### Prompts and loops"
   ]
  },
  {
   "cell_type": "code",
   "execution_count": 312,
   "id": "6cbedf14",
   "metadata": {},
   "outputs": [],
   "source": [
    "prompt_8 = prompt_raw.replace('TWEETS', text_gpt_2017_08_pos)"
   ]
  },
  {
   "cell_type": "code",
   "execution_count": 313,
   "id": "6312a680",
   "metadata": {
    "scrolled": false
   },
   "outputs": [],
   "source": [
    "response = openai.ChatCompletion.create(\n",
    "    model=\"gpt-4o-mini\",  \n",
    "    messages = [\n",
    "        {\"role\": \"user\", \"content\": prompt_8}\n",
    "    ],\n",
    "    max_tokens=400,  # Maximum number of tokens in the response\n",
    "    temperature=0.7  # Controls the randomness of the output\n",
    ")"
   ]
  },
  {
   "cell_type": "code",
   "execution_count": 314,
   "id": "1af4a697",
   "metadata": {},
   "outputs": [
    {
     "data": {
      "text/plain": [
       "'The messages primarily focus on the importance of vaccination, specifically for various diseases including HPV, rabies, and yellow fever. They encourage people to adopt pets that are healthy, vaccinated, and ready for a new family. Additionally, there are mentions of campaigns promoting vaccinations for both animals and humans, emphasizing the need for public awareness and participation in these health initiatives.'"
      ]
     },
     "execution_count": 314,
     "metadata": {},
     "output_type": "execute_result"
    }
   ],
   "source": [
    "response.choices[0].message.content"
   ]
  },
  {
   "cell_type": "code",
   "execution_count": 315,
   "id": "c2df0aba",
   "metadata": {},
   "outputs": [],
   "source": [
    "#summary = []\n",
    "#dataset = []"
   ]
  },
  {
   "cell_type": "code",
   "execution_count": 316,
   "id": "9714a127",
   "metadata": {},
   "outputs": [],
   "source": [
    "dataset.append(\"2017_08_positive\")"
   ]
  },
  {
   "cell_type": "code",
   "execution_count": 317,
   "id": "7118fbc6",
   "metadata": {},
   "outputs": [],
   "source": [
    "summary.append(response.choices[0].message.content)"
   ]
  },
  {
   "cell_type": "code",
   "execution_count": 318,
   "id": "626416cc",
   "metadata": {
    "tags": []
   },
   "outputs": [
    {
     "name": "stdout",
     "output_type": "stream",
     "text": [
      "<class 'pandas.core.frame.DataFrame'>\n",
      "RangeIndex: 8 entries, 0 to 7\n",
      "Data columns (total 2 columns):\n",
      " #   Column   Non-Null Count  Dtype \n",
      "---  ------   --------------  ----- \n",
      " 0   dataset  8 non-null      object\n",
      " 1   summary  8 non-null      object\n",
      "dtypes: object(2)\n",
      "memory usage: 256.0+ bytes\n"
     ]
    }
   ],
   "source": [
    "df_2017_pos = pd.DataFrame(list(zip(dataset, summary)),\n",
    "                            columns = ['dataset', 'summary'])\n",
    "df_2017_pos.info()"
   ]
  },
  {
   "cell_type": "code",
   "execution_count": 319,
   "id": "c9811a57",
   "metadata": {},
   "outputs": [
    {
     "data": {
      "text/html": [
       "<div>\n",
       "<style scoped>\n",
       "    .dataframe tbody tr th:only-of-type {\n",
       "        vertical-align: middle;\n",
       "    }\n",
       "\n",
       "    .dataframe tbody tr th {\n",
       "        vertical-align: top;\n",
       "    }\n",
       "\n",
       "    .dataframe thead th {\n",
       "        text-align: right;\n",
       "    }\n",
       "</style>\n",
       "<table border=\"1\" class=\"dataframe\">\n",
       "  <thead>\n",
       "    <tr style=\"text-align: right;\">\n",
       "      <th></th>\n",
       "      <th>dataset</th>\n",
       "      <th>summary</th>\n",
       "    </tr>\n",
       "  </thead>\n",
       "  <tbody>\n",
       "    <tr>\n",
       "      <th>0</th>\n",
       "      <td>2017_01_positive</td>\n",
       "      <td>Penápolis will participate in the yellow fever...</td>\n",
       "    </tr>\n",
       "    <tr>\n",
       "      <th>1</th>\n",
       "      <td>2017_02_positive</td>\n",
       "      <td>The text discusses various vaccination efforts...</td>\n",
       "    </tr>\n",
       "    <tr>\n",
       "      <th>2</th>\n",
       "      <td>2017_03_positive</td>\n",
       "      <td>The text discusses various aspects of vaccinat...</td>\n",
       "    </tr>\n",
       "    <tr>\n",
       "      <th>3</th>\n",
       "      <td>2017_04_positive</td>\n",
       "      <td>The Portuguese sentences discuss various vacci...</td>\n",
       "    </tr>\n",
       "    <tr>\n",
       "      <th>4</th>\n",
       "      <td>2017_05_positive</td>\n",
       "      <td>The provided Portuguese sentences discuss vari...</td>\n",
       "    </tr>\n",
       "    <tr>\n",
       "      <th>5</th>\n",
       "      <td>2017_06_positive</td>\n",
       "      <td>The text discusses the Brazilian government's ...</td>\n",
       "    </tr>\n",
       "    <tr>\n",
       "      <th>6</th>\n",
       "      <td>2017_07_positive</td>\n",
       "      <td>The texts discuss various aspects of vaccinati...</td>\n",
       "    </tr>\n",
       "    <tr>\n",
       "      <th>7</th>\n",
       "      <td>2017_08_positive</td>\n",
       "      <td>The messages primarily focus on the importance...</td>\n",
       "    </tr>\n",
       "  </tbody>\n",
       "</table>\n",
       "</div>"
      ],
      "text/plain": [
       "            dataset                                            summary\n",
       "0  2017_01_positive  Penápolis will participate in the yellow fever...\n",
       "1  2017_02_positive  The text discusses various vaccination efforts...\n",
       "2  2017_03_positive  The text discusses various aspects of vaccinat...\n",
       "3  2017_04_positive  The Portuguese sentences discuss various vacci...\n",
       "4  2017_05_positive  The provided Portuguese sentences discuss vari...\n",
       "5  2017_06_positive  The text discusses the Brazilian government's ...\n",
       "6  2017_07_positive  The texts discuss various aspects of vaccinati...\n",
       "7  2017_08_positive  The messages primarily focus on the importance..."
      ]
     },
     "execution_count": 319,
     "metadata": {},
     "output_type": "execute_result"
    }
   ],
   "source": [
    "df_2017_pos.tail(14)"
   ]
  },
  {
   "cell_type": "code",
   "execution_count": 320,
   "id": "cd10153f",
   "metadata": {},
   "outputs": [
    {
     "data": {
      "text/plain": [
       "<OpenAIObject chat.completion id=chatcmpl-AUBEQBEwO6H2PadqY9nPlIu2oRyAo at 0x21716940130> JSON: {\n",
       "  \"choices\": [\n",
       "    {\n",
       "      \"finish_reason\": \"stop\",\n",
       "      \"index\": 0,\n",
       "      \"logprobs\": null,\n",
       "      \"message\": {\n",
       "        \"content\": \"The messages primarily focus on the importance of vaccination, specifically for various diseases including HPV, rabies, and yellow fever. They encourage people to adopt pets that are healthy, vaccinated, and ready for a new family. Additionally, there are mentions of campaigns promoting vaccinations for both animals and humans, emphasizing the need for public awareness and participation in these health initiatives.\",\n",
       "        \"refusal\": null,\n",
       "        \"role\": \"assistant\"\n",
       "      }\n",
       "    }\n",
       "  ],\n",
       "  \"created\": 1731756378,\n",
       "  \"id\": \"chatcmpl-AUBEQBEwO6H2PadqY9nPlIu2oRyAo\",\n",
       "  \"model\": \"gpt-4o-mini-2024-07-18\",\n",
       "  \"object\": \"chat.completion\",\n",
       "  \"system_fingerprint\": \"fp_0ba0d124f1\",\n",
       "  \"usage\": {\n",
       "    \"completion_tokens\": 71,\n",
       "    \"completion_tokens_details\": {\n",
       "      \"accepted_prediction_tokens\": 0,\n",
       "      \"audio_tokens\": 0,\n",
       "      \"reasoning_tokens\": 0,\n",
       "      \"rejected_prediction_tokens\": 0\n",
       "    },\n",
       "    \"prompt_tokens\": 72514,\n",
       "    \"prompt_tokens_details\": {\n",
       "      \"audio_tokens\": 0,\n",
       "      \"cached_tokens\": 0\n",
       "    },\n",
       "    \"total_tokens\": 72585\n",
       "  }\n",
       "}"
      ]
     },
     "execution_count": 320,
     "metadata": {},
     "output_type": "execute_result"
    }
   ],
   "source": [
    "response"
   ]
  },
  {
   "cell_type": "markdown",
   "id": "1a0c859d",
   "metadata": {},
   "source": [
    "## September"
   ]
  },
  {
   "cell_type": "code",
   "execution_count": 321,
   "id": "46970275",
   "metadata": {
    "scrolled": true,
    "tags": []
   },
   "outputs": [
    {
     "name": "stdout",
     "output_type": "stream",
     "text": [
      "<class 'pandas.core.frame.DataFrame'>\n",
      "RangeIndex: 2435 entries, 0 to 2434\n",
      "Data columns (total 53 columns):\n",
      " #   Column                  Non-Null Count  Dtype  \n",
      "---  ------                  --------------  -----  \n",
      " 0   index                   2435 non-null   int64  \n",
      " 1   LocationCode            2435 non-null   object \n",
      " 2   LocationName            2435 non-null   object \n",
      " 3   StatesCode              2435 non-null   object \n",
      " 4   ...4                    2435 non-null   int64  \n",
      " 5   id                      2435 non-null   float64\n",
      " 6   text                    2435 non-null   object \n",
      " 7   label                   2435 non-null   object \n",
      " 8   in_reply_to_status_id   200 non-null    float64\n",
      " 9   in_reply_to_user_id     206 non-null    float64\n",
      " 10  quoted_user_id          70 non-null     float64\n",
      " 11  quoted_status_id        70 non-null     float64\n",
      " 12  retweeted_user_id       700 non-null    float64\n",
      " 13  retweeted_status_id     700 non-null    float64\n",
      " 14  created_at              2435 non-null   object \n",
      " 15  entities.user_mentions  1006 non-null   object \n",
      " 16  user.id                 2435 non-null   float64\n",
      " 17  user.screen_name        2435 non-null   object \n",
      " 18  user.name               2435 non-null   object \n",
      " 19  user.description        2132 non-null   object \n",
      " 20  user.timezone           0 non-null      float64\n",
      " 21  user.location           2414 non-null   object \n",
      " 22  user.num_followers      2435 non-null   int64  \n",
      " 23  user.num_following      2435 non-null   int64  \n",
      " 24  user.created_at         2435 non-null   object \n",
      " 25  user.statuses_count     2435 non-null   int64  \n",
      " 26  user.is_verified        2435 non-null   bool   \n",
      " 27  lang                    2435 non-null   object \n",
      " 28  token_count             2435 non-null   int64  \n",
      " 29  is_retweet              2435 non-null   bool   \n",
      " 30  has_quote               2435 non-null   bool   \n",
      " 31  is_reply                2435 non-null   bool   \n",
      " 32  contains_keywords       2435 non-null   bool   \n",
      " 33  longitude               2435 non-null   float64\n",
      " 34  latitude                2435 non-null   float64\n",
      " 35  country_code            2435 non-null   object \n",
      " 36  geoname_id              2295 non-null   float64\n",
      " 37  location_type           2435 non-null   object \n",
      " 38  geo_type                2435 non-null   int64  \n",
      " 39  region                  2435 non-null   object \n",
      " 40  subregion               2435 non-null   object \n",
      " 41  num_quotes              2435 non-null   int64  \n",
      " 42  num_replies             2435 non-null   int64  \n",
      " 43  num_retweets            2435 non-null   int64  \n",
      " 44  sent_gpt                2435 non-null   object \n",
      " 45  gpt_sent_presence       2435 non-null   int64  \n",
      " 46  cleaned_text_lem        2435 non-null   object \n",
      " 47  cleaned_text            2435 non-null   object \n",
      " 48  month                   2435 non-null   int64  \n",
      " 49  year                    2435 non-null   int64  \n",
      " 50  week                    2435 non-null   int64  \n",
      " 51  year_month              2435 non-null   object \n",
      " 52  year_week               2435 non-null   object \n",
      "dtypes: bool(5), float64(12), int64(14), object(22)\n",
      "memory usage: 925.1+ KB\n"
     ]
    }
   ],
   "source": [
    "# Get monthly data\n",
    "df_2017_09_pos = pd.read_csv('../data/local/df_pos_2017-09.csv').reset_index()\n",
    "df_2017_09_pos.info()"
   ]
  },
  {
   "cell_type": "markdown",
   "id": "6d6d95b1",
   "metadata": {},
   "source": [
    "### Representative sample based on week and location"
   ]
  },
  {
   "cell_type": "code",
   "execution_count": 322,
   "id": "1c64358d",
   "metadata": {},
   "outputs": [
    {
     "data": {
      "text/html": [
       "<div>\n",
       "<style scoped>\n",
       "    .dataframe tbody tr th:only-of-type {\n",
       "        vertical-align: middle;\n",
       "    }\n",
       "\n",
       "    .dataframe tbody tr th {\n",
       "        vertical-align: top;\n",
       "    }\n",
       "\n",
       "    .dataframe thead th {\n",
       "        text-align: right;\n",
       "    }\n",
       "</style>\n",
       "<table border=\"1\" class=\"dataframe\">\n",
       "  <thead>\n",
       "    <tr style=\"text-align: right;\">\n",
       "      <th></th>\n",
       "      <th>year_week</th>\n",
       "      <th>LocationName</th>\n",
       "      <th>group_size</th>\n",
       "      <th>proportion</th>\n",
       "    </tr>\n",
       "  </thead>\n",
       "  <tbody>\n",
       "    <tr>\n",
       "      <th>0</th>\n",
       "      <td>2017-w35</td>\n",
       "      <td>Amapa</td>\n",
       "      <td>1</td>\n",
       "      <td>0.000411</td>\n",
       "    </tr>\n",
       "    <tr>\n",
       "      <th>1</th>\n",
       "      <td>2017-w35</td>\n",
       "      <td>Amazonas</td>\n",
       "      <td>2</td>\n",
       "      <td>0.000821</td>\n",
       "    </tr>\n",
       "    <tr>\n",
       "      <th>2</th>\n",
       "      <td>2017-w35</td>\n",
       "      <td>Bahia</td>\n",
       "      <td>14</td>\n",
       "      <td>0.005749</td>\n",
       "    </tr>\n",
       "    <tr>\n",
       "      <th>3</th>\n",
       "      <td>2017-w35</td>\n",
       "      <td>Ceara</td>\n",
       "      <td>4</td>\n",
       "      <td>0.001643</td>\n",
       "    </tr>\n",
       "    <tr>\n",
       "      <th>4</th>\n",
       "      <td>2017-w35</td>\n",
       "      <td>Distrito Federal</td>\n",
       "      <td>3</td>\n",
       "      <td>0.001232</td>\n",
       "    </tr>\n",
       "    <tr>\n",
       "      <th>...</th>\n",
       "      <td>...</td>\n",
       "      <td>...</td>\n",
       "      <td>...</td>\n",
       "      <td>...</td>\n",
       "    </tr>\n",
       "    <tr>\n",
       "      <th>108</th>\n",
       "      <td>2017-w39</td>\n",
       "      <td>Rondonia</td>\n",
       "      <td>1</td>\n",
       "      <td>0.000411</td>\n",
       "    </tr>\n",
       "    <tr>\n",
       "      <th>109</th>\n",
       "      <td>2017-w39</td>\n",
       "      <td>Santa Catarina</td>\n",
       "      <td>7</td>\n",
       "      <td>0.002875</td>\n",
       "    </tr>\n",
       "    <tr>\n",
       "      <th>110</th>\n",
       "      <td>2017-w39</td>\n",
       "      <td>Sao Paulo</td>\n",
       "      <td>60</td>\n",
       "      <td>0.024641</td>\n",
       "    </tr>\n",
       "    <tr>\n",
       "      <th>111</th>\n",
       "      <td>2017-w39</td>\n",
       "      <td>Sergipe</td>\n",
       "      <td>4</td>\n",
       "      <td>0.001643</td>\n",
       "    </tr>\n",
       "    <tr>\n",
       "      <th>112</th>\n",
       "      <td>2017-w39</td>\n",
       "      <td>Tocantins</td>\n",
       "      <td>1</td>\n",
       "      <td>0.000411</td>\n",
       "    </tr>\n",
       "  </tbody>\n",
       "</table>\n",
       "<p>113 rows × 4 columns</p>\n",
       "</div>"
      ],
      "text/plain": [
       "    year_week      LocationName  group_size  proportion\n",
       "0    2017-w35             Amapa           1    0.000411\n",
       "1    2017-w35          Amazonas           2    0.000821\n",
       "2    2017-w35             Bahia          14    0.005749\n",
       "3    2017-w35             Ceara           4    0.001643\n",
       "4    2017-w35  Distrito Federal           3    0.001232\n",
       "..        ...               ...         ...         ...\n",
       "108  2017-w39          Rondonia           1    0.000411\n",
       "109  2017-w39    Santa Catarina           7    0.002875\n",
       "110  2017-w39         Sao Paulo          60    0.024641\n",
       "111  2017-w39           Sergipe           4    0.001643\n",
       "112  2017-w39         Tocantins           1    0.000411\n",
       "\n",
       "[113 rows x 4 columns]"
      ]
     },
     "execution_count": 322,
     "metadata": {},
     "output_type": "execute_result"
    }
   ],
   "source": [
    "# Step 1: Calculate the size of each group (year_week, LocationName)\n",
    "group_sizes = df_2017_09_pos.groupby(['year_week', 'LocationName']).size().reset_index(name='group_size')\n",
    "\n",
    "# Step 2: Calculate the proportion of each group in the dataset\n",
    "total_rows = len(df_2017_09_pos)\n",
    "group_sizes['proportion'] = group_sizes['group_size'] / total_rows\n",
    "group_sizes"
   ]
  },
  {
   "cell_type": "code",
   "execution_count": 326,
   "id": "0f70bf42",
   "metadata": {},
   "outputs": [],
   "source": [
    "# Step 3: Define the target sample size\n",
    "#target_sample_size = 2450\n",
    "\n",
    "# Step 4: Calculate the sample size for each group (based on its proportion)\n",
    "#group_sizes['sample_size'] = np.floor(group_sizes['proportion'] * target_sample_size).astype(int)\n",
    "#group_sizes\n",
    "# Taking all tweets since there were not enough for sampling"
   ]
  },
  {
   "cell_type": "code",
   "execution_count": 324,
   "id": "1fbb0b3e",
   "metadata": {},
   "outputs": [],
   "source": [
    "# Step 5: Merge this sample size information back to the original DataFrame\n",
    "#df_2017_09_pos_sample_size = pd.merge(df_2017_09_pos, group_sizes[['year_week', 'LocationName', 'sample_size']], \n",
    " #                              on=['year_week', 'LocationName'], how='left')"
   ]
  },
  {
   "cell_type": "code",
   "execution_count": 327,
   "id": "e62cb3ac",
   "metadata": {},
   "outputs": [
    {
     "name": "stdout",
     "output_type": "stream",
     "text": [
      "Sampled 2435 rows.\n"
     ]
    }
   ],
   "source": [
    "# Step 6: Perform the stratified sampling\n",
    "#df_2017_09_pos_sample = df_2017_09_pos_sample_size.groupby(['year_week', 'LocationName']).apply(\n",
    " #   lambda group: group.sample(n=group['sample_size'].iloc[0], random_state=42)\n",
    "#).reset_index(drop=True)\n",
    "df_2017_09_pos_sample = df_2017_09_pos\n",
    "# Step 7: Check the result\n",
    "print(f\"Sampled {len(df_2017_09_pos_sample)} rows.\")\n"
   ]
  },
  {
   "cell_type": "code",
   "execution_count": 329,
   "id": "f94fe9d7",
   "metadata": {},
   "outputs": [],
   "source": [
    "text_gpt_2017_09_pos = '\\n'.join(df_2017_09_pos_sample['text'].astype(str))"
   ]
  },
  {
   "cell_type": "markdown",
   "id": "b7904a7f",
   "metadata": {},
   "source": [
    "### Prompts and loops"
   ]
  },
  {
   "cell_type": "code",
   "execution_count": 330,
   "id": "71bbca85",
   "metadata": {},
   "outputs": [],
   "source": [
    "prompt_9 = prompt_raw.replace('TWEETS', text_gpt_2017_09_pos)"
   ]
  },
  {
   "cell_type": "code",
   "execution_count": 333,
   "id": "b7ae259f",
   "metadata": {
    "scrolled": false
   },
   "outputs": [],
   "source": [
    "response = openai.ChatCompletion.create(\n",
    "    model=\"gpt-4o-mini\",  \n",
    "    messages = [\n",
    "        {\"role\": \"user\", \"content\": prompt_9}\n",
    "    ],\n",
    "    max_tokens=400,  # Maximum number of tokens in the response\n",
    "    temperature=0.7  # Controls the randomness of the output\n",
    ")"
   ]
  },
  {
   "cell_type": "code",
   "execution_count": 335,
   "id": "8653eccf",
   "metadata": {},
   "outputs": [
    {
     "data": {
      "text/plain": [
       "\"The text discusses various aspects of vaccination in Brazil, highlighting campaigns for vaccines against diseases like HPV and rabies, the importance of updating vaccination records, and efforts to improve public health. It emphasizes the country's high vaccination coverage, the availability of vaccines for children and adolescents, and ongoing studies on vaccines, including those for Zika.\""
      ]
     },
     "execution_count": 335,
     "metadata": {},
     "output_type": "execute_result"
    }
   ],
   "source": [
    "response.choices[0].message.content"
   ]
  },
  {
   "cell_type": "code",
   "execution_count": 336,
   "id": "6be7b347",
   "metadata": {},
   "outputs": [],
   "source": [
    "#summary = []\n",
    "#dataset = []"
   ]
  },
  {
   "cell_type": "code",
   "execution_count": 337,
   "id": "550a921f",
   "metadata": {},
   "outputs": [],
   "source": [
    "dataset.append(\"2017_09_positive\")"
   ]
  },
  {
   "cell_type": "code",
   "execution_count": 338,
   "id": "83240506",
   "metadata": {},
   "outputs": [],
   "source": [
    "summary.append(response.choices[0].message.content)"
   ]
  },
  {
   "cell_type": "code",
   "execution_count": 339,
   "id": "0c75735b",
   "metadata": {
    "tags": []
   },
   "outputs": [
    {
     "name": "stdout",
     "output_type": "stream",
     "text": [
      "<class 'pandas.core.frame.DataFrame'>\n",
      "RangeIndex: 9 entries, 0 to 8\n",
      "Data columns (total 2 columns):\n",
      " #   Column   Non-Null Count  Dtype \n",
      "---  ------   --------------  ----- \n",
      " 0   dataset  9 non-null      object\n",
      " 1   summary  9 non-null      object\n",
      "dtypes: object(2)\n",
      "memory usage: 272.0+ bytes\n"
     ]
    }
   ],
   "source": [
    "df_2017_pos = pd.DataFrame(list(zip(dataset, summary)),\n",
    "                            columns = ['dataset', 'summary'])\n",
    "df_2017_pos.info()"
   ]
  },
  {
   "cell_type": "code",
   "execution_count": 340,
   "id": "fa955f73",
   "metadata": {},
   "outputs": [
    {
     "data": {
      "text/html": [
       "<div>\n",
       "<style scoped>\n",
       "    .dataframe tbody tr th:only-of-type {\n",
       "        vertical-align: middle;\n",
       "    }\n",
       "\n",
       "    .dataframe tbody tr th {\n",
       "        vertical-align: top;\n",
       "    }\n",
       "\n",
       "    .dataframe thead th {\n",
       "        text-align: right;\n",
       "    }\n",
       "</style>\n",
       "<table border=\"1\" class=\"dataframe\">\n",
       "  <thead>\n",
       "    <tr style=\"text-align: right;\">\n",
       "      <th></th>\n",
       "      <th>dataset</th>\n",
       "      <th>summary</th>\n",
       "    </tr>\n",
       "  </thead>\n",
       "  <tbody>\n",
       "    <tr>\n",
       "      <th>0</th>\n",
       "      <td>2017_01_positive</td>\n",
       "      <td>Penápolis will participate in the yellow fever...</td>\n",
       "    </tr>\n",
       "    <tr>\n",
       "      <th>1</th>\n",
       "      <td>2017_02_positive</td>\n",
       "      <td>The text discusses various vaccination efforts...</td>\n",
       "    </tr>\n",
       "    <tr>\n",
       "      <th>2</th>\n",
       "      <td>2017_03_positive</td>\n",
       "      <td>The text discusses various aspects of vaccinat...</td>\n",
       "    </tr>\n",
       "    <tr>\n",
       "      <th>3</th>\n",
       "      <td>2017_04_positive</td>\n",
       "      <td>The Portuguese sentences discuss various vacci...</td>\n",
       "    </tr>\n",
       "    <tr>\n",
       "      <th>4</th>\n",
       "      <td>2017_05_positive</td>\n",
       "      <td>The provided Portuguese sentences discuss vari...</td>\n",
       "    </tr>\n",
       "    <tr>\n",
       "      <th>5</th>\n",
       "      <td>2017_06_positive</td>\n",
       "      <td>The text discusses the Brazilian government's ...</td>\n",
       "    </tr>\n",
       "    <tr>\n",
       "      <th>6</th>\n",
       "      <td>2017_07_positive</td>\n",
       "      <td>The texts discuss various aspects of vaccinati...</td>\n",
       "    </tr>\n",
       "    <tr>\n",
       "      <th>7</th>\n",
       "      <td>2017_08_positive</td>\n",
       "      <td>The messages primarily focus on the importance...</td>\n",
       "    </tr>\n",
       "    <tr>\n",
       "      <th>8</th>\n",
       "      <td>2017_09_positive</td>\n",
       "      <td>The text discusses various aspects of vaccinat...</td>\n",
       "    </tr>\n",
       "  </tbody>\n",
       "</table>\n",
       "</div>"
      ],
      "text/plain": [
       "            dataset                                            summary\n",
       "0  2017_01_positive  Penápolis will participate in the yellow fever...\n",
       "1  2017_02_positive  The text discusses various vaccination efforts...\n",
       "2  2017_03_positive  The text discusses various aspects of vaccinat...\n",
       "3  2017_04_positive  The Portuguese sentences discuss various vacci...\n",
       "4  2017_05_positive  The provided Portuguese sentences discuss vari...\n",
       "5  2017_06_positive  The text discusses the Brazilian government's ...\n",
       "6  2017_07_positive  The texts discuss various aspects of vaccinati...\n",
       "7  2017_08_positive  The messages primarily focus on the importance...\n",
       "8  2017_09_positive  The text discusses various aspects of vaccinat..."
      ]
     },
     "execution_count": 340,
     "metadata": {},
     "output_type": "execute_result"
    }
   ],
   "source": [
    "df_2017_pos.tail(14)"
   ]
  },
  {
   "cell_type": "code",
   "execution_count": 341,
   "id": "4c204870",
   "metadata": {},
   "outputs": [
    {
     "data": {
      "text/plain": [
       "<OpenAIObject chat.completion id=chatcmpl-AUBIUHqg1OJ2hJfxNLOUQpGXSbkiC at 0x21716f75220> JSON: {\n",
       "  \"choices\": [\n",
       "    {\n",
       "      \"finish_reason\": \"stop\",\n",
       "      \"index\": 0,\n",
       "      \"logprobs\": null,\n",
       "      \"message\": {\n",
       "        \"content\": \"The text discusses various aspects of vaccination in Brazil, highlighting campaigns for vaccines against diseases like HPV and rabies, the importance of updating vaccination records, and efforts to improve public health. It emphasizes the country's high vaccination coverage, the availability of vaccines for children and adolescents, and ongoing studies on vaccines, including those for Zika.\",\n",
       "        \"refusal\": null,\n",
       "        \"role\": \"assistant\"\n",
       "      }\n",
       "    }\n",
       "  ],\n",
       "  \"created\": 1731756630,\n",
       "  \"id\": \"chatcmpl-AUBIUHqg1OJ2hJfxNLOUQpGXSbkiC\",\n",
       "  \"model\": \"gpt-4o-mini-2024-07-18\",\n",
       "  \"object\": \"chat.completion\",\n",
       "  \"system_fingerprint\": \"fp_0ba0d124f1\",\n",
       "  \"usage\": {\n",
       "    \"completion_tokens\": 65,\n",
       "    \"completion_tokens_details\": {\n",
       "      \"accepted_prediction_tokens\": 0,\n",
       "      \"audio_tokens\": 0,\n",
       "      \"reasoning_tokens\": 0,\n",
       "      \"rejected_prediction_tokens\": 0\n",
       "    },\n",
       "    \"prompt_tokens\": 58765,\n",
       "    \"prompt_tokens_details\": {\n",
       "      \"audio_tokens\": 0,\n",
       "      \"cached_tokens\": 0\n",
       "    },\n",
       "    \"total_tokens\": 58830\n",
       "  }\n",
       "}"
      ]
     },
     "execution_count": 341,
     "metadata": {},
     "output_type": "execute_result"
    }
   ],
   "source": [
    "response"
   ]
  },
  {
   "cell_type": "markdown",
   "id": "43f969b1",
   "metadata": {},
   "source": [
    "## October"
   ]
  },
  {
   "cell_type": "code",
   "execution_count": 342,
   "id": "28cedc2b",
   "metadata": {
    "scrolled": true,
    "tags": []
   },
   "outputs": [
    {
     "name": "stdout",
     "output_type": "stream",
     "text": [
      "<class 'pandas.core.frame.DataFrame'>\n",
      "RangeIndex: 1830 entries, 0 to 1829\n",
      "Data columns (total 53 columns):\n",
      " #   Column                  Non-Null Count  Dtype  \n",
      "---  ------                  --------------  -----  \n",
      " 0   index                   1830 non-null   int64  \n",
      " 1   LocationCode            1830 non-null   object \n",
      " 2   LocationName            1830 non-null   object \n",
      " 3   StatesCode              1830 non-null   object \n",
      " 4   ...4                    1830 non-null   int64  \n",
      " 5   id                      1830 non-null   float64\n",
      " 6   text                    1830 non-null   object \n",
      " 7   label                   1830 non-null   object \n",
      " 8   in_reply_to_status_id   166 non-null    float64\n",
      " 9   in_reply_to_user_id     176 non-null    float64\n",
      " 10  quoted_user_id          58 non-null     float64\n",
      " 11  quoted_status_id        58 non-null     float64\n",
      " 12  retweeted_user_id       574 non-null    float64\n",
      " 13  retweeted_status_id     574 non-null    float64\n",
      " 14  created_at              1830 non-null   object \n",
      " 15  entities.user_mentions  798 non-null    object \n",
      " 16  user.id                 1830 non-null   float64\n",
      " 17  user.screen_name        1830 non-null   object \n",
      " 18  user.name               1830 non-null   object \n",
      " 19  user.description        1602 non-null   object \n",
      " 20  user.timezone           0 non-null      float64\n",
      " 21  user.location           1812 non-null   object \n",
      " 22  user.num_followers      1830 non-null   int64  \n",
      " 23  user.num_following      1830 non-null   int64  \n",
      " 24  user.created_at         1830 non-null   object \n",
      " 25  user.statuses_count     1830 non-null   int64  \n",
      " 26  user.is_verified        1830 non-null   bool   \n",
      " 27  lang                    1830 non-null   object \n",
      " 28  token_count             1830 non-null   int64  \n",
      " 29  is_retweet              1830 non-null   bool   \n",
      " 30  has_quote               1830 non-null   bool   \n",
      " 31  is_reply                1830 non-null   bool   \n",
      " 32  contains_keywords       1830 non-null   bool   \n",
      " 33  longitude               1830 non-null   float64\n",
      " 34  latitude                1830 non-null   float64\n",
      " 35  country_code            1830 non-null   object \n",
      " 36  geoname_id              1703 non-null   float64\n",
      " 37  location_type           1830 non-null   object \n",
      " 38  geo_type                1830 non-null   int64  \n",
      " 39  region                  1830 non-null   object \n",
      " 40  subregion               1830 non-null   object \n",
      " 41  num_quotes              1830 non-null   int64  \n",
      " 42  num_replies             1830 non-null   int64  \n",
      " 43  num_retweets            1830 non-null   int64  \n",
      " 44  sent_gpt                1830 non-null   object \n",
      " 45  gpt_sent_presence       1830 non-null   int64  \n",
      " 46  cleaned_text_lem        1830 non-null   object \n",
      " 47  cleaned_text            1830 non-null   object \n",
      " 48  month                   1830 non-null   int64  \n",
      " 49  year                    1830 non-null   int64  \n",
      " 50  week                    1830 non-null   int64  \n",
      " 51  year_month              1830 non-null   object \n",
      " 52  year_week               1830 non-null   object \n",
      "dtypes: bool(5), float64(12), int64(14), object(22)\n",
      "memory usage: 695.3+ KB\n"
     ]
    }
   ],
   "source": [
    "# Get monthly data\n",
    "df_2017_10_pos = pd.read_csv('../data/local/df_pos_2017-10.csv').reset_index()\n",
    "df_2017_10_pos.info()"
   ]
  },
  {
   "cell_type": "markdown",
   "id": "616f674a",
   "metadata": {},
   "source": [
    "### Representative sample based on week and location"
   ]
  },
  {
   "cell_type": "code",
   "execution_count": 343,
   "id": "9cb193cd",
   "metadata": {},
   "outputs": [
    {
     "data": {
      "text/html": [
       "<div>\n",
       "<style scoped>\n",
       "    .dataframe tbody tr th:only-of-type {\n",
       "        vertical-align: middle;\n",
       "    }\n",
       "\n",
       "    .dataframe tbody tr th {\n",
       "        vertical-align: top;\n",
       "    }\n",
       "\n",
       "    .dataframe thead th {\n",
       "        text-align: right;\n",
       "    }\n",
       "</style>\n",
       "<table border=\"1\" class=\"dataframe\">\n",
       "  <thead>\n",
       "    <tr style=\"text-align: right;\">\n",
       "      <th></th>\n",
       "      <th>year_week</th>\n",
       "      <th>LocationName</th>\n",
       "      <th>group_size</th>\n",
       "      <th>proportion</th>\n",
       "    </tr>\n",
       "  </thead>\n",
       "  <tbody>\n",
       "    <tr>\n",
       "      <th>0</th>\n",
       "      <td>2017-w40</td>\n",
       "      <td>Alagoas</td>\n",
       "      <td>3</td>\n",
       "      <td>0.001639</td>\n",
       "    </tr>\n",
       "    <tr>\n",
       "      <th>1</th>\n",
       "      <td>2017-w40</td>\n",
       "      <td>Amapa</td>\n",
       "      <td>1</td>\n",
       "      <td>0.000546</td>\n",
       "    </tr>\n",
       "    <tr>\n",
       "      <th>2</th>\n",
       "      <td>2017-w40</td>\n",
       "      <td>Amazonas</td>\n",
       "      <td>17</td>\n",
       "      <td>0.009290</td>\n",
       "    </tr>\n",
       "    <tr>\n",
       "      <th>3</th>\n",
       "      <td>2017-w40</td>\n",
       "      <td>Bahia</td>\n",
       "      <td>14</td>\n",
       "      <td>0.007650</td>\n",
       "    </tr>\n",
       "    <tr>\n",
       "      <th>4</th>\n",
       "      <td>2017-w40</td>\n",
       "      <td>Ceara</td>\n",
       "      <td>11</td>\n",
       "      <td>0.006011</td>\n",
       "    </tr>\n",
       "    <tr>\n",
       "      <th>...</th>\n",
       "      <td>...</td>\n",
       "      <td>...</td>\n",
       "      <td>...</td>\n",
       "      <td>...</td>\n",
       "    </tr>\n",
       "    <tr>\n",
       "      <th>99</th>\n",
       "      <td>2017-w44</td>\n",
       "      <td>Parana</td>\n",
       "      <td>9</td>\n",
       "      <td>0.004918</td>\n",
       "    </tr>\n",
       "    <tr>\n",
       "      <th>100</th>\n",
       "      <td>2017-w44</td>\n",
       "      <td>Pernambuco</td>\n",
       "      <td>4</td>\n",
       "      <td>0.002186</td>\n",
       "    </tr>\n",
       "    <tr>\n",
       "      <th>101</th>\n",
       "      <td>2017-w44</td>\n",
       "      <td>Rio Grande Do Sul</td>\n",
       "      <td>14</td>\n",
       "      <td>0.007650</td>\n",
       "    </tr>\n",
       "    <tr>\n",
       "      <th>102</th>\n",
       "      <td>2017-w44</td>\n",
       "      <td>Santa Catarina</td>\n",
       "      <td>3</td>\n",
       "      <td>0.001639</td>\n",
       "    </tr>\n",
       "    <tr>\n",
       "      <th>103</th>\n",
       "      <td>2017-w44</td>\n",
       "      <td>Sao Paulo</td>\n",
       "      <td>56</td>\n",
       "      <td>0.030601</td>\n",
       "    </tr>\n",
       "  </tbody>\n",
       "</table>\n",
       "<p>104 rows × 4 columns</p>\n",
       "</div>"
      ],
      "text/plain": [
       "    year_week       LocationName  group_size  proportion\n",
       "0    2017-w40            Alagoas           3    0.001639\n",
       "1    2017-w40              Amapa           1    0.000546\n",
       "2    2017-w40           Amazonas          17    0.009290\n",
       "3    2017-w40              Bahia          14    0.007650\n",
       "4    2017-w40              Ceara          11    0.006011\n",
       "..        ...                ...         ...         ...\n",
       "99   2017-w44             Parana           9    0.004918\n",
       "100  2017-w44         Pernambuco           4    0.002186\n",
       "101  2017-w44  Rio Grande Do Sul          14    0.007650\n",
       "102  2017-w44     Santa Catarina           3    0.001639\n",
       "103  2017-w44          Sao Paulo          56    0.030601\n",
       "\n",
       "[104 rows x 4 columns]"
      ]
     },
     "execution_count": 343,
     "metadata": {},
     "output_type": "execute_result"
    }
   ],
   "source": [
    "# Step 1: Calculate the size of each group (year_week, LocationName)\n",
    "group_sizes = df_2017_10_pos.groupby(['year_week', 'LocationName']).size().reset_index(name='group_size')\n",
    "\n",
    "# Step 2: Calculate the proportion of each group in the dataset\n",
    "total_rows = len(df_2017_10_pos)\n",
    "group_sizes['proportion'] = group_sizes['group_size'] / total_rows\n",
    "group_sizes"
   ]
  },
  {
   "cell_type": "code",
   "execution_count": 344,
   "id": "610efcf6",
   "metadata": {},
   "outputs": [
    {
     "data": {
      "text/html": [
       "<div>\n",
       "<style scoped>\n",
       "    .dataframe tbody tr th:only-of-type {\n",
       "        vertical-align: middle;\n",
       "    }\n",
       "\n",
       "    .dataframe tbody tr th {\n",
       "        vertical-align: top;\n",
       "    }\n",
       "\n",
       "    .dataframe thead th {\n",
       "        text-align: right;\n",
       "    }\n",
       "</style>\n",
       "<table border=\"1\" class=\"dataframe\">\n",
       "  <thead>\n",
       "    <tr style=\"text-align: right;\">\n",
       "      <th></th>\n",
       "      <th>year_week</th>\n",
       "      <th>LocationName</th>\n",
       "      <th>group_size</th>\n",
       "      <th>proportion</th>\n",
       "      <th>sample_size</th>\n",
       "    </tr>\n",
       "  </thead>\n",
       "  <tbody>\n",
       "    <tr>\n",
       "      <th>0</th>\n",
       "      <td>2017-w40</td>\n",
       "      <td>Alagoas</td>\n",
       "      <td>3</td>\n",
       "      <td>0.001639</td>\n",
       "      <td>4</td>\n",
       "    </tr>\n",
       "    <tr>\n",
       "      <th>1</th>\n",
       "      <td>2017-w40</td>\n",
       "      <td>Amapa</td>\n",
       "      <td>1</td>\n",
       "      <td>0.000546</td>\n",
       "      <td>1</td>\n",
       "    </tr>\n",
       "    <tr>\n",
       "      <th>2</th>\n",
       "      <td>2017-w40</td>\n",
       "      <td>Amazonas</td>\n",
       "      <td>17</td>\n",
       "      <td>0.009290</td>\n",
       "      <td>22</td>\n",
       "    </tr>\n",
       "    <tr>\n",
       "      <th>3</th>\n",
       "      <td>2017-w40</td>\n",
       "      <td>Bahia</td>\n",
       "      <td>14</td>\n",
       "      <td>0.007650</td>\n",
       "      <td>18</td>\n",
       "    </tr>\n",
       "    <tr>\n",
       "      <th>4</th>\n",
       "      <td>2017-w40</td>\n",
       "      <td>Ceara</td>\n",
       "      <td>11</td>\n",
       "      <td>0.006011</td>\n",
       "      <td>14</td>\n",
       "    </tr>\n",
       "    <tr>\n",
       "      <th>...</th>\n",
       "      <td>...</td>\n",
       "      <td>...</td>\n",
       "      <td>...</td>\n",
       "      <td>...</td>\n",
       "      <td>...</td>\n",
       "    </tr>\n",
       "    <tr>\n",
       "      <th>99</th>\n",
       "      <td>2017-w44</td>\n",
       "      <td>Parana</td>\n",
       "      <td>9</td>\n",
       "      <td>0.004918</td>\n",
       "      <td>12</td>\n",
       "    </tr>\n",
       "    <tr>\n",
       "      <th>100</th>\n",
       "      <td>2017-w44</td>\n",
       "      <td>Pernambuco</td>\n",
       "      <td>4</td>\n",
       "      <td>0.002186</td>\n",
       "      <td>5</td>\n",
       "    </tr>\n",
       "    <tr>\n",
       "      <th>101</th>\n",
       "      <td>2017-w44</td>\n",
       "      <td>Rio Grande Do Sul</td>\n",
       "      <td>14</td>\n",
       "      <td>0.007650</td>\n",
       "      <td>18</td>\n",
       "    </tr>\n",
       "    <tr>\n",
       "      <th>102</th>\n",
       "      <td>2017-w44</td>\n",
       "      <td>Santa Catarina</td>\n",
       "      <td>3</td>\n",
       "      <td>0.001639</td>\n",
       "      <td>4</td>\n",
       "    </tr>\n",
       "    <tr>\n",
       "      <th>103</th>\n",
       "      <td>2017-w44</td>\n",
       "      <td>Sao Paulo</td>\n",
       "      <td>56</td>\n",
       "      <td>0.030601</td>\n",
       "      <td>74</td>\n",
       "    </tr>\n",
       "  </tbody>\n",
       "</table>\n",
       "<p>104 rows × 5 columns</p>\n",
       "</div>"
      ],
      "text/plain": [
       "    year_week       LocationName  group_size  proportion  sample_size\n",
       "0    2017-w40            Alagoas           3    0.001639            4\n",
       "1    2017-w40              Amapa           1    0.000546            1\n",
       "2    2017-w40           Amazonas          17    0.009290           22\n",
       "3    2017-w40              Bahia          14    0.007650           18\n",
       "4    2017-w40              Ceara          11    0.006011           14\n",
       "..        ...                ...         ...         ...          ...\n",
       "99   2017-w44             Parana           9    0.004918           12\n",
       "100  2017-w44         Pernambuco           4    0.002186            5\n",
       "101  2017-w44  Rio Grande Do Sul          14    0.007650           18\n",
       "102  2017-w44     Santa Catarina           3    0.001639            4\n",
       "103  2017-w44          Sao Paulo          56    0.030601           74\n",
       "\n",
       "[104 rows x 5 columns]"
      ]
     },
     "execution_count": 344,
     "metadata": {},
     "output_type": "execute_result"
    }
   ],
   "source": [
    "# Step 3: Define the target sample size\n",
    "target_sample_size = 2450\n",
    "\n",
    "# Step 4: Calculate the sample size for each group (based on its proportion)\n",
    "group_sizes['sample_size'] = np.floor(group_sizes['proportion'] * target_sample_size).astype(int)\n",
    "group_sizes"
   ]
  },
  {
   "cell_type": "code",
   "execution_count": 345,
   "id": "361d2734",
   "metadata": {},
   "outputs": [],
   "source": [
    "# Step 5: Merge this sample size information back to the original DataFrame\n",
    "#df_2017_10_pos_sample_size = pd.merge(df_2017_10_pos, group_sizes[['year_week', 'LocationName', 'sample_size']], \n",
    " #                              on=['year_week', 'LocationName'], how='left')\n",
    "# Taking all tweets for not having enough tweets for sampling"
   ]
  },
  {
   "cell_type": "code",
   "execution_count": 347,
   "id": "cd34d6e4",
   "metadata": {},
   "outputs": [
    {
     "name": "stdout",
     "output_type": "stream",
     "text": [
      "Sampled 1830 rows.\n"
     ]
    }
   ],
   "source": [
    "# Step 6: Perform the stratified sampling\n",
    "#df_2017_10_pos_sample = df_2017_10_pos_sample_size.groupby(['year_week', 'LocationName']).apply(\n",
    " #   lambda group: group.sample(n=group['sample_size'].iloc[0], random_state=42)\n",
    "#).reset_index(drop=True)\n",
    "df_2017_10_pos_sample = df_2017_10_pos\n",
    "# Step 7: Check the result\n",
    "print(f\"Sampled {len(df_2017_10_pos_sample)} rows.\")\n"
   ]
  },
  {
   "cell_type": "code",
   "execution_count": 349,
   "id": "853aa7a6",
   "metadata": {},
   "outputs": [],
   "source": [
    "text_gpt_2017_10_pos = '\\n'.join(df_2017_10_pos_sample['text'].astype(str))"
   ]
  },
  {
   "cell_type": "markdown",
   "id": "0e857dd6",
   "metadata": {},
   "source": [
    "### Prompts and loops"
   ]
  },
  {
   "cell_type": "code",
   "execution_count": 350,
   "id": "997a28ad",
   "metadata": {},
   "outputs": [],
   "source": [
    "prompt_10 = prompt_raw.replace('TWEETS', text_gpt_2017_10_pos)"
   ]
  },
  {
   "cell_type": "code",
   "execution_count": 351,
   "id": "0ad6cb21",
   "metadata": {
    "scrolled": false
   },
   "outputs": [],
   "source": [
    "response = openai.ChatCompletion.create(\n",
    "    model=\"gpt-4o-mini\",  \n",
    "    messages = [\n",
    "        {\"role\": \"user\", \"content\": prompt_10}\n",
    "    ],\n",
    "    max_tokens=400,  # Maximum number of tokens in the response\n",
    "    temperature=0.7  # Controls the randomness of the output\n",
    ")"
   ]
  },
  {
   "cell_type": "code",
   "execution_count": 352,
   "id": "f98d14d4",
   "metadata": {},
   "outputs": [
    {
     "data": {
      "text/plain": [
       "'The texts discuss various aspects of vaccination, including personal experiences, public health campaigns, and the significance of vaccines in preventing diseases like yellow fever, HPV, measles, and rabies. They highlight the importance of keeping vaccinations up-to-date, address public health alerts regarding outbreaks, and encourage participation in vaccination campaigns for both humans and pets. Additionally, some posts express humor or skepticism about vaccines and discuss the societal implications of vaccination rates.'"
      ]
     },
     "execution_count": 352,
     "metadata": {},
     "output_type": "execute_result"
    }
   ],
   "source": [
    "response.choices[0].message.content"
   ]
  },
  {
   "cell_type": "code",
   "execution_count": 353,
   "id": "148185bf",
   "metadata": {},
   "outputs": [],
   "source": [
    "#summary = []\n",
    "#dataset = []"
   ]
  },
  {
   "cell_type": "code",
   "execution_count": 354,
   "id": "91999070",
   "metadata": {},
   "outputs": [],
   "source": [
    "dataset.append(\"2017_10_positive\")"
   ]
  },
  {
   "cell_type": "code",
   "execution_count": 355,
   "id": "ca0c8fcc",
   "metadata": {},
   "outputs": [],
   "source": [
    "summary.append(response.choices[0].message.content)"
   ]
  },
  {
   "cell_type": "code",
   "execution_count": 356,
   "id": "75de78c6",
   "metadata": {
    "tags": []
   },
   "outputs": [
    {
     "name": "stdout",
     "output_type": "stream",
     "text": [
      "<class 'pandas.core.frame.DataFrame'>\n",
      "RangeIndex: 10 entries, 0 to 9\n",
      "Data columns (total 2 columns):\n",
      " #   Column   Non-Null Count  Dtype \n",
      "---  ------   --------------  ----- \n",
      " 0   dataset  10 non-null     object\n",
      " 1   summary  10 non-null     object\n",
      "dtypes: object(2)\n",
      "memory usage: 288.0+ bytes\n"
     ]
    }
   ],
   "source": [
    "df_2017_pos = pd.DataFrame(list(zip(dataset, summary)),\n",
    "                            columns = ['dataset', 'summary'])\n",
    "df_2017_pos.info()"
   ]
  },
  {
   "cell_type": "code",
   "execution_count": 357,
   "id": "33f398cf",
   "metadata": {},
   "outputs": [
    {
     "data": {
      "text/html": [
       "<div>\n",
       "<style scoped>\n",
       "    .dataframe tbody tr th:only-of-type {\n",
       "        vertical-align: middle;\n",
       "    }\n",
       "\n",
       "    .dataframe tbody tr th {\n",
       "        vertical-align: top;\n",
       "    }\n",
       "\n",
       "    .dataframe thead th {\n",
       "        text-align: right;\n",
       "    }\n",
       "</style>\n",
       "<table border=\"1\" class=\"dataframe\">\n",
       "  <thead>\n",
       "    <tr style=\"text-align: right;\">\n",
       "      <th></th>\n",
       "      <th>dataset</th>\n",
       "      <th>summary</th>\n",
       "    </tr>\n",
       "  </thead>\n",
       "  <tbody>\n",
       "    <tr>\n",
       "      <th>0</th>\n",
       "      <td>2017_01_positive</td>\n",
       "      <td>Penápolis will participate in the yellow fever...</td>\n",
       "    </tr>\n",
       "    <tr>\n",
       "      <th>1</th>\n",
       "      <td>2017_02_positive</td>\n",
       "      <td>The text discusses various vaccination efforts...</td>\n",
       "    </tr>\n",
       "    <tr>\n",
       "      <th>2</th>\n",
       "      <td>2017_03_positive</td>\n",
       "      <td>The text discusses various aspects of vaccinat...</td>\n",
       "    </tr>\n",
       "    <tr>\n",
       "      <th>3</th>\n",
       "      <td>2017_04_positive</td>\n",
       "      <td>The Portuguese sentences discuss various vacci...</td>\n",
       "    </tr>\n",
       "    <tr>\n",
       "      <th>4</th>\n",
       "      <td>2017_05_positive</td>\n",
       "      <td>The provided Portuguese sentences discuss vari...</td>\n",
       "    </tr>\n",
       "    <tr>\n",
       "      <th>5</th>\n",
       "      <td>2017_06_positive</td>\n",
       "      <td>The text discusses the Brazilian government's ...</td>\n",
       "    </tr>\n",
       "    <tr>\n",
       "      <th>6</th>\n",
       "      <td>2017_07_positive</td>\n",
       "      <td>The texts discuss various aspects of vaccinati...</td>\n",
       "    </tr>\n",
       "    <tr>\n",
       "      <th>7</th>\n",
       "      <td>2017_08_positive</td>\n",
       "      <td>The messages primarily focus on the importance...</td>\n",
       "    </tr>\n",
       "    <tr>\n",
       "      <th>8</th>\n",
       "      <td>2017_09_positive</td>\n",
       "      <td>The text discusses various aspects of vaccinat...</td>\n",
       "    </tr>\n",
       "    <tr>\n",
       "      <th>9</th>\n",
       "      <td>2017_10_positive</td>\n",
       "      <td>The texts discuss various aspects of vaccinati...</td>\n",
       "    </tr>\n",
       "  </tbody>\n",
       "</table>\n",
       "</div>"
      ],
      "text/plain": [
       "            dataset                                            summary\n",
       "0  2017_01_positive  Penápolis will participate in the yellow fever...\n",
       "1  2017_02_positive  The text discusses various vaccination efforts...\n",
       "2  2017_03_positive  The text discusses various aspects of vaccinat...\n",
       "3  2017_04_positive  The Portuguese sentences discuss various vacci...\n",
       "4  2017_05_positive  The provided Portuguese sentences discuss vari...\n",
       "5  2017_06_positive  The text discusses the Brazilian government's ...\n",
       "6  2017_07_positive  The texts discuss various aspects of vaccinati...\n",
       "7  2017_08_positive  The messages primarily focus on the importance...\n",
       "8  2017_09_positive  The text discusses various aspects of vaccinat...\n",
       "9  2017_10_positive  The texts discuss various aspects of vaccinati..."
      ]
     },
     "execution_count": 357,
     "metadata": {},
     "output_type": "execute_result"
    }
   ],
   "source": [
    "df_2017_pos.tail(14)"
   ]
  },
  {
   "cell_type": "code",
   "execution_count": 358,
   "id": "c9aa4469",
   "metadata": {},
   "outputs": [
    {
     "data": {
      "text/plain": [
       "<OpenAIObject chat.completion id=chatcmpl-AUBK3olSszVC7B0CIAGG9AAP43gjV at 0x21716775680> JSON: {\n",
       "  \"choices\": [\n",
       "    {\n",
       "      \"finish_reason\": \"stop\",\n",
       "      \"index\": 0,\n",
       "      \"logprobs\": null,\n",
       "      \"message\": {\n",
       "        \"content\": \"The texts discuss various aspects of vaccination, including personal experiences, public health campaigns, and the significance of vaccines in preventing diseases like yellow fever, HPV, measles, and rabies. They highlight the importance of keeping vaccinations up-to-date, address public health alerts regarding outbreaks, and encourage participation in vaccination campaigns for both humans and pets. Additionally, some posts express humor or skepticism about vaccines and discuss the societal implications of vaccination rates.\",\n",
       "        \"refusal\": null,\n",
       "        \"role\": \"assistant\"\n",
       "      }\n",
       "    }\n",
       "  ],\n",
       "  \"created\": 1731756727,\n",
       "  \"id\": \"chatcmpl-AUBK3olSszVC7B0CIAGG9AAP43gjV\",\n",
       "  \"model\": \"gpt-4o-mini-2024-07-18\",\n",
       "  \"object\": \"chat.completion\",\n",
       "  \"system_fingerprint\": \"fp_0ba0d124f1\",\n",
       "  \"usage\": {\n",
       "    \"completion_tokens\": 86,\n",
       "    \"completion_tokens_details\": {\n",
       "      \"accepted_prediction_tokens\": 0,\n",
       "      \"audio_tokens\": 0,\n",
       "      \"reasoning_tokens\": 0,\n",
       "      \"rejected_prediction_tokens\": 0\n",
       "    },\n",
       "    \"prompt_tokens\": 43957,\n",
       "    \"prompt_tokens_details\": {\n",
       "      \"audio_tokens\": 0,\n",
       "      \"cached_tokens\": 0\n",
       "    },\n",
       "    \"total_tokens\": 44043\n",
       "  }\n",
       "}"
      ]
     },
     "execution_count": 358,
     "metadata": {},
     "output_type": "execute_result"
    }
   ],
   "source": [
    "response"
   ]
  },
  {
   "cell_type": "markdown",
   "id": "d476f7a3",
   "metadata": {},
   "source": [
    "## November"
   ]
  },
  {
   "cell_type": "code",
   "execution_count": 359,
   "id": "63dc91c7",
   "metadata": {
    "scrolled": true,
    "tags": []
   },
   "outputs": [
    {
     "name": "stdout",
     "output_type": "stream",
     "text": [
      "<class 'pandas.core.frame.DataFrame'>\n",
      "RangeIndex: 2325 entries, 0 to 2324\n",
      "Data columns (total 53 columns):\n",
      " #   Column                  Non-Null Count  Dtype  \n",
      "---  ------                  --------------  -----  \n",
      " 0   index                   2325 non-null   int64  \n",
      " 1   LocationCode            2325 non-null   object \n",
      " 2   LocationName            2325 non-null   object \n",
      " 3   StatesCode              2325 non-null   object \n",
      " 4   ...4                    2325 non-null   int64  \n",
      " 5   id                      2325 non-null   float64\n",
      " 6   text                    2325 non-null   object \n",
      " 7   label                   2325 non-null   object \n",
      " 8   in_reply_to_status_id   162 non-null    float64\n",
      " 9   in_reply_to_user_id     170 non-null    float64\n",
      " 10  quoted_user_id          48 non-null     float64\n",
      " 11  quoted_status_id        48 non-null     float64\n",
      " 12  retweeted_user_id       1233 non-null   float64\n",
      " 13  retweeted_status_id     1233 non-null   float64\n",
      " 14  created_at              2325 non-null   object \n",
      " 15  entities.user_mentions  1437 non-null   object \n",
      " 16  user.id                 2325 non-null   float64\n",
      " 17  user.screen_name        2325 non-null   object \n",
      " 18  user.name               2325 non-null   object \n",
      " 19  user.description        2042 non-null   object \n",
      " 20  user.timezone           0 non-null      float64\n",
      " 21  user.location           2317 non-null   object \n",
      " 22  user.num_followers      2325 non-null   int64  \n",
      " 23  user.num_following      2325 non-null   int64  \n",
      " 24  user.created_at         2325 non-null   object \n",
      " 25  user.statuses_count     2325 non-null   int64  \n",
      " 26  user.is_verified        2325 non-null   bool   \n",
      " 27  lang                    2325 non-null   object \n",
      " 28  token_count             2325 non-null   int64  \n",
      " 29  is_retweet              2325 non-null   bool   \n",
      " 30  has_quote               2325 non-null   bool   \n",
      " 31  is_reply                2325 non-null   bool   \n",
      " 32  contains_keywords       2325 non-null   bool   \n",
      " 33  longitude               2325 non-null   float64\n",
      " 34  latitude                2325 non-null   float64\n",
      " 35  country_code            2325 non-null   object \n",
      " 36  geoname_id              2213 non-null   float64\n",
      " 37  location_type           2325 non-null   object \n",
      " 38  geo_type                2325 non-null   int64  \n",
      " 39  region                  2325 non-null   object \n",
      " 40  subregion               2325 non-null   object \n",
      " 41  num_quotes              2325 non-null   int64  \n",
      " 42  num_replies             2325 non-null   int64  \n",
      " 43  num_retweets            2325 non-null   int64  \n",
      " 44  sent_gpt                2325 non-null   object \n",
      " 45  gpt_sent_presence       2325 non-null   int64  \n",
      " 46  cleaned_text_lem        2325 non-null   object \n",
      " 47  cleaned_text            2325 non-null   object \n",
      " 48  month                   2325 non-null   int64  \n",
      " 49  year                    2325 non-null   int64  \n",
      " 50  week                    2325 non-null   int64  \n",
      " 51  year_month              2325 non-null   object \n",
      " 52  year_week               2325 non-null   object \n",
      "dtypes: bool(5), float64(12), int64(14), object(22)\n",
      "memory usage: 883.4+ KB\n"
     ]
    }
   ],
   "source": [
    "# Get monthly data\n",
    "df_2017_11_pos = pd.read_csv('../data/local/df_pos_2017-11.csv').reset_index()\n",
    "df_2017_11_pos.info()"
   ]
  },
  {
   "cell_type": "markdown",
   "id": "e44ca951",
   "metadata": {},
   "source": [
    "### Representative sample based on week and location"
   ]
  },
  {
   "cell_type": "code",
   "execution_count": 360,
   "id": "58f0a8ff",
   "metadata": {},
   "outputs": [
    {
     "data": {
      "text/html": [
       "<div>\n",
       "<style scoped>\n",
       "    .dataframe tbody tr th:only-of-type {\n",
       "        vertical-align: middle;\n",
       "    }\n",
       "\n",
       "    .dataframe tbody tr th {\n",
       "        vertical-align: top;\n",
       "    }\n",
       "\n",
       "    .dataframe thead th {\n",
       "        text-align: right;\n",
       "    }\n",
       "</style>\n",
       "<table border=\"1\" class=\"dataframe\">\n",
       "  <thead>\n",
       "    <tr style=\"text-align: right;\">\n",
       "      <th></th>\n",
       "      <th>year_week</th>\n",
       "      <th>LocationName</th>\n",
       "      <th>group_size</th>\n",
       "      <th>proportion</th>\n",
       "    </tr>\n",
       "  </thead>\n",
       "  <tbody>\n",
       "    <tr>\n",
       "      <th>0</th>\n",
       "      <td>2017-w44</td>\n",
       "      <td>Acre</td>\n",
       "      <td>1</td>\n",
       "      <td>0.000430</td>\n",
       "    </tr>\n",
       "    <tr>\n",
       "      <th>1</th>\n",
       "      <td>2017-w44</td>\n",
       "      <td>Bahia</td>\n",
       "      <td>3</td>\n",
       "      <td>0.001290</td>\n",
       "    </tr>\n",
       "    <tr>\n",
       "      <th>2</th>\n",
       "      <td>2017-w44</td>\n",
       "      <td>Ceara</td>\n",
       "      <td>7</td>\n",
       "      <td>0.003011</td>\n",
       "    </tr>\n",
       "    <tr>\n",
       "      <th>3</th>\n",
       "      <td>2017-w44</td>\n",
       "      <td>Distrito Federal</td>\n",
       "      <td>3</td>\n",
       "      <td>0.001290</td>\n",
       "    </tr>\n",
       "    <tr>\n",
       "      <th>4</th>\n",
       "      <td>2017-w44</td>\n",
       "      <td>Espirito Santo</td>\n",
       "      <td>7</td>\n",
       "      <td>0.003011</td>\n",
       "    </tr>\n",
       "    <tr>\n",
       "      <th>...</th>\n",
       "      <td>...</td>\n",
       "      <td>...</td>\n",
       "      <td>...</td>\n",
       "      <td>...</td>\n",
       "    </tr>\n",
       "    <tr>\n",
       "      <th>103</th>\n",
       "      <td>2017-w48</td>\n",
       "      <td>Rio Grande Do Sul</td>\n",
       "      <td>22</td>\n",
       "      <td>0.009462</td>\n",
       "    </tr>\n",
       "    <tr>\n",
       "      <th>104</th>\n",
       "      <td>2017-w48</td>\n",
       "      <td>Rondonia</td>\n",
       "      <td>2</td>\n",
       "      <td>0.000860</td>\n",
       "    </tr>\n",
       "    <tr>\n",
       "      <th>105</th>\n",
       "      <td>2017-w48</td>\n",
       "      <td>Santa Catarina</td>\n",
       "      <td>4</td>\n",
       "      <td>0.001720</td>\n",
       "    </tr>\n",
       "    <tr>\n",
       "      <th>106</th>\n",
       "      <td>2017-w48</td>\n",
       "      <td>Sao Paulo</td>\n",
       "      <td>94</td>\n",
       "      <td>0.040430</td>\n",
       "    </tr>\n",
       "    <tr>\n",
       "      <th>107</th>\n",
       "      <td>2017-w48</td>\n",
       "      <td>Sergipe</td>\n",
       "      <td>4</td>\n",
       "      <td>0.001720</td>\n",
       "    </tr>\n",
       "  </tbody>\n",
       "</table>\n",
       "<p>108 rows × 4 columns</p>\n",
       "</div>"
      ],
      "text/plain": [
       "    year_week       LocationName  group_size  proportion\n",
       "0    2017-w44               Acre           1    0.000430\n",
       "1    2017-w44              Bahia           3    0.001290\n",
       "2    2017-w44              Ceara           7    0.003011\n",
       "3    2017-w44   Distrito Federal           3    0.001290\n",
       "4    2017-w44     Espirito Santo           7    0.003011\n",
       "..        ...                ...         ...         ...\n",
       "103  2017-w48  Rio Grande Do Sul          22    0.009462\n",
       "104  2017-w48           Rondonia           2    0.000860\n",
       "105  2017-w48     Santa Catarina           4    0.001720\n",
       "106  2017-w48          Sao Paulo          94    0.040430\n",
       "107  2017-w48            Sergipe           4    0.001720\n",
       "\n",
       "[108 rows x 4 columns]"
      ]
     },
     "execution_count": 360,
     "metadata": {},
     "output_type": "execute_result"
    }
   ],
   "source": [
    "# Step 1: Calculate the size of each group (year_week, LocationName)\n",
    "group_sizes = df_2017_11_pos.groupby(['year_week', 'LocationName']).size().reset_index(name='group_size')\n",
    "\n",
    "# Step 2: Calculate the proportion of each group in the dataset\n",
    "total_rows = len(df_2017_11_pos)\n",
    "group_sizes['proportion'] = group_sizes['group_size'] / total_rows\n",
    "group_sizes"
   ]
  },
  {
   "cell_type": "code",
   "execution_count": 361,
   "id": "52c7e839",
   "metadata": {},
   "outputs": [
    {
     "data": {
      "text/html": [
       "<div>\n",
       "<style scoped>\n",
       "    .dataframe tbody tr th:only-of-type {\n",
       "        vertical-align: middle;\n",
       "    }\n",
       "\n",
       "    .dataframe tbody tr th {\n",
       "        vertical-align: top;\n",
       "    }\n",
       "\n",
       "    .dataframe thead th {\n",
       "        text-align: right;\n",
       "    }\n",
       "</style>\n",
       "<table border=\"1\" class=\"dataframe\">\n",
       "  <thead>\n",
       "    <tr style=\"text-align: right;\">\n",
       "      <th></th>\n",
       "      <th>year_week</th>\n",
       "      <th>LocationName</th>\n",
       "      <th>group_size</th>\n",
       "      <th>proportion</th>\n",
       "      <th>sample_size</th>\n",
       "    </tr>\n",
       "  </thead>\n",
       "  <tbody>\n",
       "    <tr>\n",
       "      <th>0</th>\n",
       "      <td>2017-w44</td>\n",
       "      <td>Acre</td>\n",
       "      <td>1</td>\n",
       "      <td>0.000430</td>\n",
       "      <td>1</td>\n",
       "    </tr>\n",
       "    <tr>\n",
       "      <th>1</th>\n",
       "      <td>2017-w44</td>\n",
       "      <td>Bahia</td>\n",
       "      <td>3</td>\n",
       "      <td>0.001290</td>\n",
       "      <td>3</td>\n",
       "    </tr>\n",
       "    <tr>\n",
       "      <th>2</th>\n",
       "      <td>2017-w44</td>\n",
       "      <td>Ceara</td>\n",
       "      <td>7</td>\n",
       "      <td>0.003011</td>\n",
       "      <td>7</td>\n",
       "    </tr>\n",
       "    <tr>\n",
       "      <th>3</th>\n",
       "      <td>2017-w44</td>\n",
       "      <td>Distrito Federal</td>\n",
       "      <td>3</td>\n",
       "      <td>0.001290</td>\n",
       "      <td>3</td>\n",
       "    </tr>\n",
       "    <tr>\n",
       "      <th>4</th>\n",
       "      <td>2017-w44</td>\n",
       "      <td>Espirito Santo</td>\n",
       "      <td>7</td>\n",
       "      <td>0.003011</td>\n",
       "      <td>7</td>\n",
       "    </tr>\n",
       "    <tr>\n",
       "      <th>...</th>\n",
       "      <td>...</td>\n",
       "      <td>...</td>\n",
       "      <td>...</td>\n",
       "      <td>...</td>\n",
       "      <td>...</td>\n",
       "    </tr>\n",
       "    <tr>\n",
       "      <th>103</th>\n",
       "      <td>2017-w48</td>\n",
       "      <td>Rio Grande Do Sul</td>\n",
       "      <td>22</td>\n",
       "      <td>0.009462</td>\n",
       "      <td>23</td>\n",
       "    </tr>\n",
       "    <tr>\n",
       "      <th>104</th>\n",
       "      <td>2017-w48</td>\n",
       "      <td>Rondonia</td>\n",
       "      <td>2</td>\n",
       "      <td>0.000860</td>\n",
       "      <td>2</td>\n",
       "    </tr>\n",
       "    <tr>\n",
       "      <th>105</th>\n",
       "      <td>2017-w48</td>\n",
       "      <td>Santa Catarina</td>\n",
       "      <td>4</td>\n",
       "      <td>0.001720</td>\n",
       "      <td>4</td>\n",
       "    </tr>\n",
       "    <tr>\n",
       "      <th>106</th>\n",
       "      <td>2017-w48</td>\n",
       "      <td>Sao Paulo</td>\n",
       "      <td>94</td>\n",
       "      <td>0.040430</td>\n",
       "      <td>99</td>\n",
       "    </tr>\n",
       "    <tr>\n",
       "      <th>107</th>\n",
       "      <td>2017-w48</td>\n",
       "      <td>Sergipe</td>\n",
       "      <td>4</td>\n",
       "      <td>0.001720</td>\n",
       "      <td>4</td>\n",
       "    </tr>\n",
       "  </tbody>\n",
       "</table>\n",
       "<p>108 rows × 5 columns</p>\n",
       "</div>"
      ],
      "text/plain": [
       "    year_week       LocationName  group_size  proportion  sample_size\n",
       "0    2017-w44               Acre           1    0.000430            1\n",
       "1    2017-w44              Bahia           3    0.001290            3\n",
       "2    2017-w44              Ceara           7    0.003011            7\n",
       "3    2017-w44   Distrito Federal           3    0.001290            3\n",
       "4    2017-w44     Espirito Santo           7    0.003011            7\n",
       "..        ...                ...         ...         ...          ...\n",
       "103  2017-w48  Rio Grande Do Sul          22    0.009462           23\n",
       "104  2017-w48           Rondonia           2    0.000860            2\n",
       "105  2017-w48     Santa Catarina           4    0.001720            4\n",
       "106  2017-w48          Sao Paulo          94    0.040430           99\n",
       "107  2017-w48            Sergipe           4    0.001720            4\n",
       "\n",
       "[108 rows x 5 columns]"
      ]
     },
     "execution_count": 361,
     "metadata": {},
     "output_type": "execute_result"
    }
   ],
   "source": [
    "# Step 3: Define the target sample size\n",
    "target_sample_size = 2450\n",
    "\n",
    "# Step 4: Calculate the sample size for each group (based on its proportion)\n",
    "group_sizes['sample_size'] = np.floor(group_sizes['proportion'] * target_sample_size).astype(int)\n",
    "group_sizes"
   ]
  },
  {
   "cell_type": "code",
   "execution_count": 362,
   "id": "47bfacf4",
   "metadata": {},
   "outputs": [],
   "source": [
    "# Step 5: Merge this sample size information back to the original DataFrame\n",
    "df_2017_11_pos_sample_size = pd.merge(df_2017_11_pos, group_sizes[['year_week', 'LocationName', 'sample_size']], \n",
    "                               on=['year_week', 'LocationName'], how='left')"
   ]
  },
  {
   "cell_type": "code",
   "execution_count": 365,
   "id": "3127c68e",
   "metadata": {},
   "outputs": [
    {
     "name": "stdout",
     "output_type": "stream",
     "text": [
      "Sampled 2325 rows.\n"
     ]
    }
   ],
   "source": [
    "# Step 6: Perform the stratified sampling\n",
    "#df_2017_11_pos_sample = df_2017_11_pos_sample_size.groupby(['year_week', 'LocationName']).apply(\n",
    " #   lambda group: group.sample(n=group['sample_size'].iloc[0], random_state=42)\n",
    "#).reset_index(drop=True)\n",
    "df_2017_11_pos_sample = df_2017_11_pos\n",
    "# Step 7: Check the result\n",
    "print(f\"Sampled {len(df_2017_11_pos_sample)} rows.\")\n"
   ]
  },
  {
   "cell_type": "code",
   "execution_count": 366,
   "id": "a5fc3ad1",
   "metadata": {},
   "outputs": [],
   "source": [
    "text_gpt_2017_11_pos = '\\n'.join(df_2017_11_pos_sample['text'].astype(str))"
   ]
  },
  {
   "cell_type": "markdown",
   "id": "8df94c41",
   "metadata": {},
   "source": [
    "### Prompts and loops"
   ]
  },
  {
   "cell_type": "code",
   "execution_count": 367,
   "id": "b2c43f66",
   "metadata": {},
   "outputs": [],
   "source": [
    "prompt_11 = prompt_raw.replace('TWEETS', text_gpt_2017_11_pos)"
   ]
  },
  {
   "cell_type": "code",
   "execution_count": 369,
   "id": "87bbf147",
   "metadata": {
    "scrolled": false
   },
   "outputs": [],
   "source": [
    "response = openai.ChatCompletion.create(\n",
    "    model=\"gpt-4o-mini\",  \n",
    "    messages = [\n",
    "        {\"role\": \"user\", \"content\": prompt_11}\n",
    "    ],\n",
    "    max_tokens=400,  # Maximum number of tokens in the response\n",
    "    temperature=0.7  # Controls the randomness of the output\n",
    ")"
   ]
  },
  {
   "cell_type": "code",
   "execution_count": 371,
   "id": "99d409e9",
   "metadata": {},
   "outputs": [
    {
     "data": {
      "text/plain": [
       "\"The sentences discuss the importance of vaccination for both humans and animals, expressing gratitude for vaccines and highlighting personal experiences with them. They also emphasize the need for public health measures, such as campaigns against diseases like rabies and yellow fever, and the development of new vaccines, including for addiction and illnesses like leishmaniasis and HPV. Overall, there's a strong advocacy for vaccination as essential for health and well-being.\""
      ]
     },
     "execution_count": 371,
     "metadata": {},
     "output_type": "execute_result"
    }
   ],
   "source": [
    "response.choices[0].message.content"
   ]
  },
  {
   "cell_type": "code",
   "execution_count": 372,
   "id": "c1cb7d55",
   "metadata": {},
   "outputs": [],
   "source": [
    "#summary = []\n",
    "#dataset = []"
   ]
  },
  {
   "cell_type": "code",
   "execution_count": 373,
   "id": "0b5f7bbc",
   "metadata": {},
   "outputs": [],
   "source": [
    "dataset.append(\"2017_11_positive\")"
   ]
  },
  {
   "cell_type": "code",
   "execution_count": 374,
   "id": "25b7e5ff",
   "metadata": {},
   "outputs": [],
   "source": [
    "summary.append(response.choices[0].message.content)"
   ]
  },
  {
   "cell_type": "code",
   "execution_count": 375,
   "id": "10f2f273",
   "metadata": {
    "tags": []
   },
   "outputs": [
    {
     "name": "stdout",
     "output_type": "stream",
     "text": [
      "<class 'pandas.core.frame.DataFrame'>\n",
      "RangeIndex: 11 entries, 0 to 10\n",
      "Data columns (total 2 columns):\n",
      " #   Column   Non-Null Count  Dtype \n",
      "---  ------   --------------  ----- \n",
      " 0   dataset  11 non-null     object\n",
      " 1   summary  11 non-null     object\n",
      "dtypes: object(2)\n",
      "memory usage: 304.0+ bytes\n"
     ]
    }
   ],
   "source": [
    "df_2017_pos = pd.DataFrame(list(zip(dataset, summary)),\n",
    "                            columns = ['dataset', 'summary'])\n",
    "df_2017_pos.info()"
   ]
  },
  {
   "cell_type": "code",
   "execution_count": 376,
   "id": "89ced529",
   "metadata": {},
   "outputs": [
    {
     "data": {
      "text/html": [
       "<div>\n",
       "<style scoped>\n",
       "    .dataframe tbody tr th:only-of-type {\n",
       "        vertical-align: middle;\n",
       "    }\n",
       "\n",
       "    .dataframe tbody tr th {\n",
       "        vertical-align: top;\n",
       "    }\n",
       "\n",
       "    .dataframe thead th {\n",
       "        text-align: right;\n",
       "    }\n",
       "</style>\n",
       "<table border=\"1\" class=\"dataframe\">\n",
       "  <thead>\n",
       "    <tr style=\"text-align: right;\">\n",
       "      <th></th>\n",
       "      <th>dataset</th>\n",
       "      <th>summary</th>\n",
       "    </tr>\n",
       "  </thead>\n",
       "  <tbody>\n",
       "    <tr>\n",
       "      <th>0</th>\n",
       "      <td>2017_01_positive</td>\n",
       "      <td>Penápolis will participate in the yellow fever...</td>\n",
       "    </tr>\n",
       "    <tr>\n",
       "      <th>1</th>\n",
       "      <td>2017_02_positive</td>\n",
       "      <td>The text discusses various vaccination efforts...</td>\n",
       "    </tr>\n",
       "    <tr>\n",
       "      <th>2</th>\n",
       "      <td>2017_03_positive</td>\n",
       "      <td>The text discusses various aspects of vaccinat...</td>\n",
       "    </tr>\n",
       "    <tr>\n",
       "      <th>3</th>\n",
       "      <td>2017_04_positive</td>\n",
       "      <td>The Portuguese sentences discuss various vacci...</td>\n",
       "    </tr>\n",
       "    <tr>\n",
       "      <th>4</th>\n",
       "      <td>2017_05_positive</td>\n",
       "      <td>The provided Portuguese sentences discuss vari...</td>\n",
       "    </tr>\n",
       "    <tr>\n",
       "      <th>5</th>\n",
       "      <td>2017_06_positive</td>\n",
       "      <td>The text discusses the Brazilian government's ...</td>\n",
       "    </tr>\n",
       "    <tr>\n",
       "      <th>6</th>\n",
       "      <td>2017_07_positive</td>\n",
       "      <td>The texts discuss various aspects of vaccinati...</td>\n",
       "    </tr>\n",
       "    <tr>\n",
       "      <th>7</th>\n",
       "      <td>2017_08_positive</td>\n",
       "      <td>The messages primarily focus on the importance...</td>\n",
       "    </tr>\n",
       "    <tr>\n",
       "      <th>8</th>\n",
       "      <td>2017_09_positive</td>\n",
       "      <td>The text discusses various aspects of vaccinat...</td>\n",
       "    </tr>\n",
       "    <tr>\n",
       "      <th>9</th>\n",
       "      <td>2017_10_positive</td>\n",
       "      <td>The texts discuss various aspects of vaccinati...</td>\n",
       "    </tr>\n",
       "    <tr>\n",
       "      <th>10</th>\n",
       "      <td>2017_11_positive</td>\n",
       "      <td>The sentences discuss the importance of vaccin...</td>\n",
       "    </tr>\n",
       "  </tbody>\n",
       "</table>\n",
       "</div>"
      ],
      "text/plain": [
       "             dataset                                            summary\n",
       "0   2017_01_positive  Penápolis will participate in the yellow fever...\n",
       "1   2017_02_positive  The text discusses various vaccination efforts...\n",
       "2   2017_03_positive  The text discusses various aspects of vaccinat...\n",
       "3   2017_04_positive  The Portuguese sentences discuss various vacci...\n",
       "4   2017_05_positive  The provided Portuguese sentences discuss vari...\n",
       "5   2017_06_positive  The text discusses the Brazilian government's ...\n",
       "6   2017_07_positive  The texts discuss various aspects of vaccinati...\n",
       "7   2017_08_positive  The messages primarily focus on the importance...\n",
       "8   2017_09_positive  The text discusses various aspects of vaccinat...\n",
       "9   2017_10_positive  The texts discuss various aspects of vaccinati...\n",
       "10  2017_11_positive  The sentences discuss the importance of vaccin..."
      ]
     },
     "execution_count": 376,
     "metadata": {},
     "output_type": "execute_result"
    }
   ],
   "source": [
    "df_2017_pos.tail(14)"
   ]
  },
  {
   "cell_type": "code",
   "execution_count": 377,
   "id": "952c4bca",
   "metadata": {},
   "outputs": [
    {
     "data": {
      "text/plain": [
       "<OpenAIObject chat.completion id=chatcmpl-AUBYvCED4jHL8xkRSATvm97sTlpTM at 0x2171732ff40> JSON: {\n",
       "  \"choices\": [\n",
       "    {\n",
       "      \"finish_reason\": \"stop\",\n",
       "      \"index\": 0,\n",
       "      \"logprobs\": null,\n",
       "      \"message\": {\n",
       "        \"content\": \"The sentences discuss the importance of vaccination for both humans and animals, expressing gratitude for vaccines and highlighting personal experiences with them. They also emphasize the need for public health measures, such as campaigns against diseases like rabies and yellow fever, and the development of new vaccines, including for addiction and illnesses like leishmaniasis and HPV. Overall, there's a strong advocacy for vaccination as essential for health and well-being.\",\n",
       "        \"refusal\": null,\n",
       "        \"role\": \"assistant\"\n",
       "      }\n",
       "    }\n",
       "  ],\n",
       "  \"created\": 1731757649,\n",
       "  \"id\": \"chatcmpl-AUBYvCED4jHL8xkRSATvm97sTlpTM\",\n",
       "  \"model\": \"gpt-4o-mini-2024-07-18\",\n",
       "  \"object\": \"chat.completion\",\n",
       "  \"system_fingerprint\": \"fp_0ba0d124f1\",\n",
       "  \"usage\": {\n",
       "    \"completion_tokens\": 82,\n",
       "    \"completion_tokens_details\": {\n",
       "      \"accepted_prediction_tokens\": 0,\n",
       "      \"audio_tokens\": 0,\n",
       "      \"reasoning_tokens\": 0,\n",
       "      \"rejected_prediction_tokens\": 0\n",
       "    },\n",
       "    \"prompt_tokens\": 83165,\n",
       "    \"prompt_tokens_details\": {\n",
       "      \"audio_tokens\": 0,\n",
       "      \"cached_tokens\": 0\n",
       "    },\n",
       "    \"total_tokens\": 83247\n",
       "  }\n",
       "}"
      ]
     },
     "execution_count": 377,
     "metadata": {},
     "output_type": "execute_result"
    }
   ],
   "source": [
    "response"
   ]
  },
  {
   "cell_type": "markdown",
   "id": "46613a39",
   "metadata": {},
   "source": [
    "## December"
   ]
  },
  {
   "cell_type": "code",
   "execution_count": 378,
   "id": "3f6bde3b",
   "metadata": {
    "scrolled": true,
    "tags": []
   },
   "outputs": [
    {
     "name": "stdout",
     "output_type": "stream",
     "text": [
      "<class 'pandas.core.frame.DataFrame'>\n",
      "RangeIndex: 1355 entries, 0 to 1354\n",
      "Data columns (total 53 columns):\n",
      " #   Column                  Non-Null Count  Dtype  \n",
      "---  ------                  --------------  -----  \n",
      " 0   index                   1355 non-null   int64  \n",
      " 1   LocationCode            1355 non-null   object \n",
      " 2   LocationName            1355 non-null   object \n",
      " 3   StatesCode              1355 non-null   object \n",
      " 4   ...4                    1355 non-null   int64  \n",
      " 5   id                      1355 non-null   float64\n",
      " 6   text                    1355 non-null   object \n",
      " 7   label                   1355 non-null   object \n",
      " 8   in_reply_to_status_id   144 non-null    float64\n",
      " 9   in_reply_to_user_id     150 non-null    float64\n",
      " 10  quoted_user_id          46 non-null     float64\n",
      " 11  quoted_status_id        46 non-null     float64\n",
      " 12  retweeted_user_id       439 non-null    float64\n",
      " 13  retweeted_status_id     439 non-null    float64\n",
      " 14  created_at              1355 non-null   object \n",
      " 15  entities.user_mentions  644 non-null    object \n",
      " 16  user.id                 1355 non-null   float64\n",
      " 17  user.screen_name        1355 non-null   object \n",
      " 18  user.name               1355 non-null   object \n",
      " 19  user.description        1208 non-null   object \n",
      " 20  user.timezone           0 non-null      float64\n",
      " 21  user.location           1342 non-null   object \n",
      " 22  user.num_followers      1355 non-null   int64  \n",
      " 23  user.num_following      1355 non-null   int64  \n",
      " 24  user.created_at         1355 non-null   object \n",
      " 25  user.statuses_count     1355 non-null   int64  \n",
      " 26  user.is_verified        1355 non-null   bool   \n",
      " 27  lang                    1355 non-null   object \n",
      " 28  token_count             1355 non-null   int64  \n",
      " 29  is_retweet              1355 non-null   bool   \n",
      " 30  has_quote               1355 non-null   bool   \n",
      " 31  is_reply                1355 non-null   bool   \n",
      " 32  contains_keywords       1355 non-null   bool   \n",
      " 33  longitude               1355 non-null   float64\n",
      " 34  latitude                1355 non-null   float64\n",
      " 35  country_code            1355 non-null   object \n",
      " 36  geoname_id              1264 non-null   float64\n",
      " 37  location_type           1355 non-null   object \n",
      " 38  geo_type                1355 non-null   int64  \n",
      " 39  region                  1355 non-null   object \n",
      " 40  subregion               1355 non-null   object \n",
      " 41  num_quotes              1355 non-null   int64  \n",
      " 42  num_replies             1355 non-null   int64  \n",
      " 43  num_retweets            1355 non-null   int64  \n",
      " 44  sent_gpt                1355 non-null   object \n",
      " 45  gpt_sent_presence       1355 non-null   int64  \n",
      " 46  cleaned_text_lem        1355 non-null   object \n",
      " 47  cleaned_text            1355 non-null   object \n",
      " 48  month                   1355 non-null   int64  \n",
      " 49  year                    1355 non-null   int64  \n",
      " 50  week                    1355 non-null   int64  \n",
      " 51  year_month              1355 non-null   object \n",
      " 52  year_week               1355 non-null   object \n",
      "dtypes: bool(5), float64(12), int64(14), object(22)\n",
      "memory usage: 514.9+ KB\n"
     ]
    }
   ],
   "source": [
    "# Get monthly data\n",
    "df_2017_12_pos = pd.read_csv('../data/local/df_pos_2017-12.csv').reset_index()\n",
    "df_2017_12_pos.info()"
   ]
  },
  {
   "cell_type": "markdown",
   "id": "4658d918",
   "metadata": {},
   "source": [
    "### Representative sample based on week and location"
   ]
  },
  {
   "cell_type": "code",
   "execution_count": 379,
   "id": "fcdbb1e9",
   "metadata": {},
   "outputs": [
    {
     "data": {
      "text/html": [
       "<div>\n",
       "<style scoped>\n",
       "    .dataframe tbody tr th:only-of-type {\n",
       "        vertical-align: middle;\n",
       "    }\n",
       "\n",
       "    .dataframe tbody tr th {\n",
       "        vertical-align: top;\n",
       "    }\n",
       "\n",
       "    .dataframe thead th {\n",
       "        text-align: right;\n",
       "    }\n",
       "</style>\n",
       "<table border=\"1\" class=\"dataframe\">\n",
       "  <thead>\n",
       "    <tr style=\"text-align: right;\">\n",
       "      <th></th>\n",
       "      <th>year_week</th>\n",
       "      <th>LocationName</th>\n",
       "      <th>group_size</th>\n",
       "      <th>proportion</th>\n",
       "    </tr>\n",
       "  </thead>\n",
       "  <tbody>\n",
       "    <tr>\n",
       "      <th>0</th>\n",
       "      <td>2017-w48</td>\n",
       "      <td>Amapa</td>\n",
       "      <td>1</td>\n",
       "      <td>0.000738</td>\n",
       "    </tr>\n",
       "    <tr>\n",
       "      <th>1</th>\n",
       "      <td>2017-w48</td>\n",
       "      <td>Amazonas</td>\n",
       "      <td>2</td>\n",
       "      <td>0.001476</td>\n",
       "    </tr>\n",
       "    <tr>\n",
       "      <th>2</th>\n",
       "      <td>2017-w48</td>\n",
       "      <td>Bahia</td>\n",
       "      <td>7</td>\n",
       "      <td>0.005166</td>\n",
       "    </tr>\n",
       "    <tr>\n",
       "      <th>3</th>\n",
       "      <td>2017-w48</td>\n",
       "      <td>Ceara</td>\n",
       "      <td>6</td>\n",
       "      <td>0.004428</td>\n",
       "    </tr>\n",
       "    <tr>\n",
       "      <th>4</th>\n",
       "      <td>2017-w48</td>\n",
       "      <td>Distrito Federal</td>\n",
       "      <td>1</td>\n",
       "      <td>0.000738</td>\n",
       "    </tr>\n",
       "    <tr>\n",
       "      <th>...</th>\n",
       "      <td>...</td>\n",
       "      <td>...</td>\n",
       "      <td>...</td>\n",
       "      <td>...</td>\n",
       "    </tr>\n",
       "    <tr>\n",
       "      <th>113</th>\n",
       "      <td>2017-w53</td>\n",
       "      <td>Minas Gerais</td>\n",
       "      <td>6</td>\n",
       "      <td>0.004428</td>\n",
       "    </tr>\n",
       "    <tr>\n",
       "      <th>114</th>\n",
       "      <td>2017-w53</td>\n",
       "      <td>Pernambuco</td>\n",
       "      <td>1</td>\n",
       "      <td>0.000738</td>\n",
       "    </tr>\n",
       "    <tr>\n",
       "      <th>115</th>\n",
       "      <td>2017-w53</td>\n",
       "      <td>Rio Grande Do Sul</td>\n",
       "      <td>1</td>\n",
       "      <td>0.000738</td>\n",
       "    </tr>\n",
       "    <tr>\n",
       "      <th>116</th>\n",
       "      <td>2017-w53</td>\n",
       "      <td>Roraima</td>\n",
       "      <td>1</td>\n",
       "      <td>0.000738</td>\n",
       "    </tr>\n",
       "    <tr>\n",
       "      <th>117</th>\n",
       "      <td>2017-w53</td>\n",
       "      <td>Sao Paulo</td>\n",
       "      <td>2</td>\n",
       "      <td>0.001476</td>\n",
       "    </tr>\n",
       "  </tbody>\n",
       "</table>\n",
       "<p>118 rows × 4 columns</p>\n",
       "</div>"
      ],
      "text/plain": [
       "    year_week       LocationName  group_size  proportion\n",
       "0    2017-w48              Amapa           1    0.000738\n",
       "1    2017-w48           Amazonas           2    0.001476\n",
       "2    2017-w48              Bahia           7    0.005166\n",
       "3    2017-w48              Ceara           6    0.004428\n",
       "4    2017-w48   Distrito Federal           1    0.000738\n",
       "..        ...                ...         ...         ...\n",
       "113  2017-w53       Minas Gerais           6    0.004428\n",
       "114  2017-w53         Pernambuco           1    0.000738\n",
       "115  2017-w53  Rio Grande Do Sul           1    0.000738\n",
       "116  2017-w53            Roraima           1    0.000738\n",
       "117  2017-w53          Sao Paulo           2    0.001476\n",
       "\n",
       "[118 rows x 4 columns]"
      ]
     },
     "execution_count": 379,
     "metadata": {},
     "output_type": "execute_result"
    }
   ],
   "source": [
    "# Step 1: Calculate the size of each group (year_week, LocationName)\n",
    "group_sizes = df_2017_12_pos.groupby(['year_week', 'LocationName']).size().reset_index(name='group_size')\n",
    "\n",
    "# Step 2: Calculate the proportion of each group in the dataset\n",
    "total_rows = len(df_2017_12_pos)\n",
    "group_sizes['proportion'] = group_sizes['group_size'] / total_rows\n",
    "group_sizes"
   ]
  },
  {
   "cell_type": "code",
   "execution_count": 380,
   "id": "bbf24049",
   "metadata": {},
   "outputs": [
    {
     "data": {
      "text/html": [
       "<div>\n",
       "<style scoped>\n",
       "    .dataframe tbody tr th:only-of-type {\n",
       "        vertical-align: middle;\n",
       "    }\n",
       "\n",
       "    .dataframe tbody tr th {\n",
       "        vertical-align: top;\n",
       "    }\n",
       "\n",
       "    .dataframe thead th {\n",
       "        text-align: right;\n",
       "    }\n",
       "</style>\n",
       "<table border=\"1\" class=\"dataframe\">\n",
       "  <thead>\n",
       "    <tr style=\"text-align: right;\">\n",
       "      <th></th>\n",
       "      <th>year_week</th>\n",
       "      <th>LocationName</th>\n",
       "      <th>group_size</th>\n",
       "      <th>proportion</th>\n",
       "      <th>sample_size</th>\n",
       "    </tr>\n",
       "  </thead>\n",
       "  <tbody>\n",
       "    <tr>\n",
       "      <th>0</th>\n",
       "      <td>2017-w48</td>\n",
       "      <td>Amapa</td>\n",
       "      <td>1</td>\n",
       "      <td>0.000738</td>\n",
       "      <td>1</td>\n",
       "    </tr>\n",
       "    <tr>\n",
       "      <th>1</th>\n",
       "      <td>2017-w48</td>\n",
       "      <td>Amazonas</td>\n",
       "      <td>2</td>\n",
       "      <td>0.001476</td>\n",
       "      <td>3</td>\n",
       "    </tr>\n",
       "    <tr>\n",
       "      <th>2</th>\n",
       "      <td>2017-w48</td>\n",
       "      <td>Bahia</td>\n",
       "      <td>7</td>\n",
       "      <td>0.005166</td>\n",
       "      <td>12</td>\n",
       "    </tr>\n",
       "    <tr>\n",
       "      <th>3</th>\n",
       "      <td>2017-w48</td>\n",
       "      <td>Ceara</td>\n",
       "      <td>6</td>\n",
       "      <td>0.004428</td>\n",
       "      <td>10</td>\n",
       "    </tr>\n",
       "    <tr>\n",
       "      <th>4</th>\n",
       "      <td>2017-w48</td>\n",
       "      <td>Distrito Federal</td>\n",
       "      <td>1</td>\n",
       "      <td>0.000738</td>\n",
       "      <td>1</td>\n",
       "    </tr>\n",
       "    <tr>\n",
       "      <th>...</th>\n",
       "      <td>...</td>\n",
       "      <td>...</td>\n",
       "      <td>...</td>\n",
       "      <td>...</td>\n",
       "      <td>...</td>\n",
       "    </tr>\n",
       "    <tr>\n",
       "      <th>113</th>\n",
       "      <td>2017-w53</td>\n",
       "      <td>Minas Gerais</td>\n",
       "      <td>6</td>\n",
       "      <td>0.004428</td>\n",
       "      <td>10</td>\n",
       "    </tr>\n",
       "    <tr>\n",
       "      <th>114</th>\n",
       "      <td>2017-w53</td>\n",
       "      <td>Pernambuco</td>\n",
       "      <td>1</td>\n",
       "      <td>0.000738</td>\n",
       "      <td>1</td>\n",
       "    </tr>\n",
       "    <tr>\n",
       "      <th>115</th>\n",
       "      <td>2017-w53</td>\n",
       "      <td>Rio Grande Do Sul</td>\n",
       "      <td>1</td>\n",
       "      <td>0.000738</td>\n",
       "      <td>1</td>\n",
       "    </tr>\n",
       "    <tr>\n",
       "      <th>116</th>\n",
       "      <td>2017-w53</td>\n",
       "      <td>Roraima</td>\n",
       "      <td>1</td>\n",
       "      <td>0.000738</td>\n",
       "      <td>1</td>\n",
       "    </tr>\n",
       "    <tr>\n",
       "      <th>117</th>\n",
       "      <td>2017-w53</td>\n",
       "      <td>Sao Paulo</td>\n",
       "      <td>2</td>\n",
       "      <td>0.001476</td>\n",
       "      <td>3</td>\n",
       "    </tr>\n",
       "  </tbody>\n",
       "</table>\n",
       "<p>118 rows × 5 columns</p>\n",
       "</div>"
      ],
      "text/plain": [
       "    year_week       LocationName  group_size  proportion  sample_size\n",
       "0    2017-w48              Amapa           1    0.000738            1\n",
       "1    2017-w48           Amazonas           2    0.001476            3\n",
       "2    2017-w48              Bahia           7    0.005166           12\n",
       "3    2017-w48              Ceara           6    0.004428           10\n",
       "4    2017-w48   Distrito Federal           1    0.000738            1\n",
       "..        ...                ...         ...         ...          ...\n",
       "113  2017-w53       Minas Gerais           6    0.004428           10\n",
       "114  2017-w53         Pernambuco           1    0.000738            1\n",
       "115  2017-w53  Rio Grande Do Sul           1    0.000738            1\n",
       "116  2017-w53            Roraima           1    0.000738            1\n",
       "117  2017-w53          Sao Paulo           2    0.001476            3\n",
       "\n",
       "[118 rows x 5 columns]"
      ]
     },
     "execution_count": 380,
     "metadata": {},
     "output_type": "execute_result"
    }
   ],
   "source": [
    "# Step 3: Define the target sample size\n",
    "target_sample_size = 2450\n",
    "\n",
    "# Step 4: Calculate the sample size for each group (based on its proportion)\n",
    "group_sizes['sample_size'] = np.floor(group_sizes['proportion'] * target_sample_size).astype(int)\n",
    "group_sizes"
   ]
  },
  {
   "cell_type": "code",
   "execution_count": 381,
   "id": "c207c408",
   "metadata": {},
   "outputs": [],
   "source": [
    "# Step 5: Merge this sample size information back to the original DataFrame\n",
    "df_2017_12_pos_sample_size = pd.merge(df_2017_12_pos, group_sizes[['year_week', 'LocationName', 'sample_size']], \n",
    "                               on=['year_week', 'LocationName'], how='left')"
   ]
  },
  {
   "cell_type": "code",
   "execution_count": 384,
   "id": "66d74acb",
   "metadata": {},
   "outputs": [
    {
     "name": "stdout",
     "output_type": "stream",
     "text": [
      "Sampled 1355 rows.\n"
     ]
    }
   ],
   "source": [
    "# Step 6: Perform the stratified sampling\n",
    "#df_2017_12_pos_sample = df_2017_12_pos_sample_size.groupby(['year_week', 'LocationName']).apply(\n",
    " #   lambda group: group.sample(n=group['sample_size'].iloc[0], random_state=42)\n",
    "#).reset_index(drop=True)\n",
    "df_2017_12_pos_sample = df_2017_12_pos\n",
    "# Step 7: Check the result\n",
    "print(f\"Sampled {len(df_2017_12_pos_sample)} rows.\")\n"
   ]
  },
  {
   "cell_type": "code",
   "execution_count": 385,
   "id": "b23befcc",
   "metadata": {},
   "outputs": [],
   "source": [
    "text_gpt_2017_12_pos = '\\n'.join(df_2017_12_pos_sample['text'].astype(str))"
   ]
  },
  {
   "cell_type": "markdown",
   "id": "d3650c4b",
   "metadata": {},
   "source": [
    "### Prompts and loops"
   ]
  },
  {
   "cell_type": "code",
   "execution_count": 386,
   "id": "791b4fd6",
   "metadata": {},
   "outputs": [],
   "source": [
    "prompt_12 = prompt_raw.replace('TWEETS', text_gpt_2017_12_pos)"
   ]
  },
  {
   "cell_type": "code",
   "execution_count": 387,
   "id": "def2b9de",
   "metadata": {
    "scrolled": false
   },
   "outputs": [],
   "source": [
    "response = openai.ChatCompletion.create(\n",
    "    model=\"gpt-4o-mini\",  \n",
    "    messages = [\n",
    "        {\"role\": \"user\", \"content\": prompt_12}\n",
    "    ],\n",
    "    max_tokens=400,  # Maximum number of tokens in the response\n",
    "    temperature=0.7  # Controls the randomness of the output\n",
    ")"
   ]
  },
  {
   "cell_type": "code",
   "execution_count": 388,
   "id": "eb10f5ec",
   "metadata": {},
   "outputs": [
    {
     "data": {
      "text/plain": [
       "'The provided texts discuss various vaccination campaigns and updates in Brazil, highlighting the expansion of flu and yellow fever vaccinations to the general population, the introduction of new vaccines like Gardasil 9 for HPV, and the recognition of regions as free from diseases like foot-and-mouth disease. Additionally, there are mentions of vaccination initiatives for pets and the importance of keeping vaccination records updated. The overall tone emphasizes the significance of vaccination for public health and the efforts to increase access through pharmacies and community campaigns.'"
      ]
     },
     "execution_count": 388,
     "metadata": {},
     "output_type": "execute_result"
    }
   ],
   "source": [
    "response.choices[0].message.content"
   ]
  },
  {
   "cell_type": "code",
   "execution_count": 389,
   "id": "82e7aa4c",
   "metadata": {},
   "outputs": [],
   "source": [
    "#summary = []\n",
    "#dataset = []"
   ]
  },
  {
   "cell_type": "code",
   "execution_count": 390,
   "id": "2a9d076b",
   "metadata": {},
   "outputs": [],
   "source": [
    "dataset.append(\"2017_12_positive\")"
   ]
  },
  {
   "cell_type": "code",
   "execution_count": 391,
   "id": "8a057dbe",
   "metadata": {},
   "outputs": [],
   "source": [
    "summary.append(response.choices[0].message.content)"
   ]
  },
  {
   "cell_type": "code",
   "execution_count": 392,
   "id": "3bb6bfbd",
   "metadata": {
    "tags": []
   },
   "outputs": [
    {
     "name": "stdout",
     "output_type": "stream",
     "text": [
      "<class 'pandas.core.frame.DataFrame'>\n",
      "RangeIndex: 12 entries, 0 to 11\n",
      "Data columns (total 2 columns):\n",
      " #   Column   Non-Null Count  Dtype \n",
      "---  ------   --------------  ----- \n",
      " 0   dataset  12 non-null     object\n",
      " 1   summary  12 non-null     object\n",
      "dtypes: object(2)\n",
      "memory usage: 320.0+ bytes\n"
     ]
    }
   ],
   "source": [
    "df_2017_pos = pd.DataFrame(list(zip(dataset, summary)),\n",
    "                            columns = ['dataset', 'summary'])\n",
    "df_2017_pos.info()"
   ]
  },
  {
   "cell_type": "code",
   "execution_count": 393,
   "id": "893bd100",
   "metadata": {},
   "outputs": [
    {
     "data": {
      "text/html": [
       "<div>\n",
       "<style scoped>\n",
       "    .dataframe tbody tr th:only-of-type {\n",
       "        vertical-align: middle;\n",
       "    }\n",
       "\n",
       "    .dataframe tbody tr th {\n",
       "        vertical-align: top;\n",
       "    }\n",
       "\n",
       "    .dataframe thead th {\n",
       "        text-align: right;\n",
       "    }\n",
       "</style>\n",
       "<table border=\"1\" class=\"dataframe\">\n",
       "  <thead>\n",
       "    <tr style=\"text-align: right;\">\n",
       "      <th></th>\n",
       "      <th>dataset</th>\n",
       "      <th>summary</th>\n",
       "    </tr>\n",
       "  </thead>\n",
       "  <tbody>\n",
       "    <tr>\n",
       "      <th>0</th>\n",
       "      <td>2017_01_positive</td>\n",
       "      <td>Penápolis will participate in the yellow fever...</td>\n",
       "    </tr>\n",
       "    <tr>\n",
       "      <th>1</th>\n",
       "      <td>2017_02_positive</td>\n",
       "      <td>The text discusses various vaccination efforts...</td>\n",
       "    </tr>\n",
       "    <tr>\n",
       "      <th>2</th>\n",
       "      <td>2017_03_positive</td>\n",
       "      <td>The text discusses various aspects of vaccinat...</td>\n",
       "    </tr>\n",
       "    <tr>\n",
       "      <th>3</th>\n",
       "      <td>2017_04_positive</td>\n",
       "      <td>The Portuguese sentences discuss various vacci...</td>\n",
       "    </tr>\n",
       "    <tr>\n",
       "      <th>4</th>\n",
       "      <td>2017_05_positive</td>\n",
       "      <td>The provided Portuguese sentences discuss vari...</td>\n",
       "    </tr>\n",
       "    <tr>\n",
       "      <th>5</th>\n",
       "      <td>2017_06_positive</td>\n",
       "      <td>The text discusses the Brazilian government's ...</td>\n",
       "    </tr>\n",
       "    <tr>\n",
       "      <th>6</th>\n",
       "      <td>2017_07_positive</td>\n",
       "      <td>The texts discuss various aspects of vaccinati...</td>\n",
       "    </tr>\n",
       "    <tr>\n",
       "      <th>7</th>\n",
       "      <td>2017_08_positive</td>\n",
       "      <td>The messages primarily focus on the importance...</td>\n",
       "    </tr>\n",
       "    <tr>\n",
       "      <th>8</th>\n",
       "      <td>2017_09_positive</td>\n",
       "      <td>The text discusses various aspects of vaccinat...</td>\n",
       "    </tr>\n",
       "    <tr>\n",
       "      <th>9</th>\n",
       "      <td>2017_10_positive</td>\n",
       "      <td>The texts discuss various aspects of vaccinati...</td>\n",
       "    </tr>\n",
       "    <tr>\n",
       "      <th>10</th>\n",
       "      <td>2017_11_positive</td>\n",
       "      <td>The sentences discuss the importance of vaccin...</td>\n",
       "    </tr>\n",
       "    <tr>\n",
       "      <th>11</th>\n",
       "      <td>2017_12_positive</td>\n",
       "      <td>The provided texts discuss various vaccination...</td>\n",
       "    </tr>\n",
       "  </tbody>\n",
       "</table>\n",
       "</div>"
      ],
      "text/plain": [
       "             dataset                                            summary\n",
       "0   2017_01_positive  Penápolis will participate in the yellow fever...\n",
       "1   2017_02_positive  The text discusses various vaccination efforts...\n",
       "2   2017_03_positive  The text discusses various aspects of vaccinat...\n",
       "3   2017_04_positive  The Portuguese sentences discuss various vacci...\n",
       "4   2017_05_positive  The provided Portuguese sentences discuss vari...\n",
       "5   2017_06_positive  The text discusses the Brazilian government's ...\n",
       "6   2017_07_positive  The texts discuss various aspects of vaccinati...\n",
       "7   2017_08_positive  The messages primarily focus on the importance...\n",
       "8   2017_09_positive  The text discusses various aspects of vaccinat...\n",
       "9   2017_10_positive  The texts discuss various aspects of vaccinati...\n",
       "10  2017_11_positive  The sentences discuss the importance of vaccin...\n",
       "11  2017_12_positive  The provided texts discuss various vaccination..."
      ]
     },
     "execution_count": 393,
     "metadata": {},
     "output_type": "execute_result"
    }
   ],
   "source": [
    "df_2017_pos.tail(14)"
   ]
  },
  {
   "cell_type": "code",
   "execution_count": 394,
   "id": "20bf36e0",
   "metadata": {},
   "outputs": [
    {
     "data": {
      "text/plain": [
       "<OpenAIObject chat.completion id=chatcmpl-AUBakS8bYts1BTabskKhiN0lGwy9e at 0x2171734c040> JSON: {\n",
       "  \"choices\": [\n",
       "    {\n",
       "      \"finish_reason\": \"stop\",\n",
       "      \"index\": 0,\n",
       "      \"logprobs\": null,\n",
       "      \"message\": {\n",
       "        \"content\": \"The provided texts discuss various vaccination campaigns and updates in Brazil, highlighting the expansion of flu and yellow fever vaccinations to the general population, the introduction of new vaccines like Gardasil 9 for HPV, and the recognition of regions as free from diseases like foot-and-mouth disease. Additionally, there are mentions of vaccination initiatives for pets and the importance of keeping vaccination records updated. The overall tone emphasizes the significance of vaccination for public health and the efforts to increase access through pharmacies and community campaigns.\",\n",
       "        \"refusal\": null,\n",
       "        \"role\": \"assistant\"\n",
       "      }\n",
       "    }\n",
       "  ],\n",
       "  \"created\": 1731757762,\n",
       "  \"id\": \"chatcmpl-AUBakS8bYts1BTabskKhiN0lGwy9e\",\n",
       "  \"model\": \"gpt-4o-mini-2024-07-18\",\n",
       "  \"object\": \"chat.completion\",\n",
       "  \"system_fingerprint\": \"fp_0ba0d124f1\",\n",
       "  \"usage\": {\n",
       "    \"completion_tokens\": 96,\n",
       "    \"completion_tokens_details\": {\n",
       "      \"accepted_prediction_tokens\": 0,\n",
       "      \"audio_tokens\": 0,\n",
       "      \"reasoning_tokens\": 0,\n",
       "      \"rejected_prediction_tokens\": 0\n",
       "    },\n",
       "    \"prompt_tokens\": 41522,\n",
       "    \"prompt_tokens_details\": {\n",
       "      \"audio_tokens\": 0,\n",
       "      \"cached_tokens\": 0\n",
       "    },\n",
       "    \"total_tokens\": 41618\n",
       "  }\n",
       "}"
      ]
     },
     "execution_count": 394,
     "metadata": {},
     "output_type": "execute_result"
    }
   ],
   "source": [
    "response"
   ]
  },
  {
   "cell_type": "markdown",
   "id": "4b2eea35",
   "metadata": {},
   "source": [
    "## All 2017 positive"
   ]
  },
  {
   "cell_type": "code",
   "execution_count": 395,
   "id": "76b26dc9",
   "metadata": {},
   "outputs": [],
   "source": [
    "df_2017_pos.to_csv('../data/summary_2017_positive_tweets.csv')"
   ]
  }
 ],
 "metadata": {
  "kernelspec": {
   "display_name": "Python 3 (ipykernel)",
   "language": "python",
   "name": "python3"
  },
  "language_info": {
   "codemirror_mode": {
    "name": "ipython",
    "version": 3
   },
   "file_extension": ".py",
   "mimetype": "text/x-python",
   "name": "python",
   "nbconvert_exporter": "python",
   "pygments_lexer": "ipython3",
   "version": "3.9.12"
  }
 },
 "nbformat": 4,
 "nbformat_minor": 5
}
