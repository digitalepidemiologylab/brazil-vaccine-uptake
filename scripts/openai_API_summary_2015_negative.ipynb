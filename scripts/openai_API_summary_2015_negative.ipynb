{
 "cells": [
  {
   "cell_type": "markdown",
   "id": "e90b7c28",
   "metadata": {},
   "source": [
    "# Import libraries and data"
   ]
  },
  {
   "cell_type": "code",
   "execution_count": 1,
   "id": "433219e8-8f66-4be5-a3b8-e39fca644032",
   "metadata": {
    "tags": []
   },
   "outputs": [],
   "source": [
    "# Import libraries\n",
    "import os\n",
    "import openai\n",
    "import pandas as pd\n",
    "import numpy as np\n",
    "import openpyxl"
   ]
  },
  {
   "cell_type": "code",
   "execution_count": 2,
   "id": "2c68f056-74fe-4f29-9daf-6bdef5cc0701",
   "metadata": {},
   "outputs": [],
   "source": [
    "# Get OpenAI API secret key (change this file with your own OpenAI key)\n",
    "open_ai_key = open('../data/local/openai_key.txt', 'r').read()\n",
    "openai.api_key = open_ai_key\n",
    "#openai.Model.list()"
   ]
  },
  {
   "cell_type": "code",
   "execution_count": 3,
   "id": "aa3d0327",
   "metadata": {},
   "outputs": [],
   "source": [
    "# Prompt for GPT\n",
    "prompt_raw = \"I would like to summarise in maximum 300 characters and in English what the following sentences in Portuguese talk about. \\\n",
    "Do not use aspects mentioned only in one sentence as part of the summary: TWEETS\""
   ]
  },
  {
   "cell_type": "markdown",
   "id": "3c7787f4",
   "metadata": {},
   "source": [
    "# 2015 negative"
   ]
  },
  {
   "cell_type": "markdown",
   "id": "c0101e21",
   "metadata": {},
   "source": [
    "## January"
   ]
  },
  {
   "cell_type": "code",
   "execution_count": 4,
   "id": "0b3f06fc",
   "metadata": {
    "scrolled": true,
    "tags": []
   },
   "outputs": [
    {
     "name": "stdout",
     "output_type": "stream",
     "text": [
      "<class 'pandas.core.frame.DataFrame'>\n",
      "RangeIndex: 543 entries, 0 to 542\n",
      "Data columns (total 53 columns):\n",
      " #   Column                  Non-Null Count  Dtype  \n",
      "---  ------                  --------------  -----  \n",
      " 0   index                   543 non-null    int64  \n",
      " 1   LocationCode            543 non-null    object \n",
      " 2   LocationName            543 non-null    object \n",
      " 3   StatesCode              543 non-null    object \n",
      " 4   ...4                    543 non-null    int64  \n",
      " 5   id                      543 non-null    float64\n",
      " 6   text                    543 non-null    object \n",
      " 7   label                   543 non-null    object \n",
      " 8   in_reply_to_status_id   66 non-null     float64\n",
      " 9   in_reply_to_user_id     69 non-null     float64\n",
      " 10  quoted_user_id          0 non-null      float64\n",
      " 11  quoted_status_id        0 non-null      float64\n",
      " 12  retweeted_user_id       107 non-null    float64\n",
      " 13  retweeted_status_id     107 non-null    float64\n",
      " 14  created_at              543 non-null    object \n",
      " 15  entities.user_mentions  188 non-null    object \n",
      " 16  user.id                 543 non-null    int64  \n",
      " 17  user.screen_name        543 non-null    object \n",
      " 18  user.name               543 non-null    object \n",
      " 19  user.description        477 non-null    object \n",
      " 20  user.timezone           0 non-null      float64\n",
      " 21  user.location           532 non-null    object \n",
      " 22  user.num_followers      543 non-null    int64  \n",
      " 23  user.num_following      543 non-null    int64  \n",
      " 24  user.created_at         543 non-null    object \n",
      " 25  user.statuses_count     543 non-null    int64  \n",
      " 26  user.is_verified        543 non-null    bool   \n",
      " 27  lang                    543 non-null    object \n",
      " 28  token_count             543 non-null    int64  \n",
      " 29  is_retweet              543 non-null    bool   \n",
      " 30  has_quote               543 non-null    bool   \n",
      " 31  is_reply                543 non-null    bool   \n",
      " 32  contains_keywords       543 non-null    bool   \n",
      " 33  longitude               543 non-null    float64\n",
      " 34  latitude                543 non-null    float64\n",
      " 35  country_code            543 non-null    object \n",
      " 36  geoname_id              496 non-null    float64\n",
      " 37  location_type           543 non-null    object \n",
      " 38  geo_type                543 non-null    int64  \n",
      " 39  region                  543 non-null    object \n",
      " 40  subregion               543 non-null    object \n",
      " 41  num_quotes              543 non-null    int64  \n",
      " 42  num_replies             543 non-null    int64  \n",
      " 43  num_retweets            543 non-null    int64  \n",
      " 44  sent_gpt                543 non-null    object \n",
      " 45  gpt_sent_presence       543 non-null    int64  \n",
      " 46  cleaned_text_lem        543 non-null    object \n",
      " 47  cleaned_text            543 non-null    object \n",
      " 48  month                   543 non-null    int64  \n",
      " 49  year                    543 non-null    int64  \n",
      " 50  week                    543 non-null    int64  \n",
      " 51  year_month              543 non-null    object \n",
      " 52  year_week               543 non-null    object \n",
      "dtypes: bool(5), float64(11), int64(15), object(22)\n",
      "memory usage: 206.4+ KB\n"
     ]
    }
   ],
   "source": [
    "# Get monthly data\n",
    "df_2015_01_neg = pd.read_csv('../data/local/df_neg_2015-01.csv').reset_index()\n",
    "df_2015_01_neg.info()"
   ]
  },
  {
   "cell_type": "markdown",
   "id": "98d4ddaf",
   "metadata": {},
   "source": [
    "### Representative sample based on week and location"
   ]
  },
  {
   "cell_type": "code",
   "execution_count": 5,
   "id": "85b2559c",
   "metadata": {},
   "outputs": [
    {
     "data": {
      "text/html": [
       "<div>\n",
       "<style scoped>\n",
       "    .dataframe tbody tr th:only-of-type {\n",
       "        vertical-align: middle;\n",
       "    }\n",
       "\n",
       "    .dataframe tbody tr th {\n",
       "        vertical-align: top;\n",
       "    }\n",
       "\n",
       "    .dataframe thead th {\n",
       "        text-align: right;\n",
       "    }\n",
       "</style>\n",
       "<table border=\"1\" class=\"dataframe\">\n",
       "  <thead>\n",
       "    <tr style=\"text-align: right;\">\n",
       "      <th></th>\n",
       "      <th>year_week</th>\n",
       "      <th>LocationName</th>\n",
       "      <th>group_size</th>\n",
       "      <th>proportion</th>\n",
       "    </tr>\n",
       "  </thead>\n",
       "  <tbody>\n",
       "    <tr>\n",
       "      <th>0</th>\n",
       "      <td>2015-w01</td>\n",
       "      <td>Acre</td>\n",
       "      <td>1</td>\n",
       "      <td>0.001842</td>\n",
       "    </tr>\n",
       "    <tr>\n",
       "      <th>1</th>\n",
       "      <td>2015-w01</td>\n",
       "      <td>Amazonas</td>\n",
       "      <td>5</td>\n",
       "      <td>0.009208</td>\n",
       "    </tr>\n",
       "    <tr>\n",
       "      <th>2</th>\n",
       "      <td>2015-w01</td>\n",
       "      <td>Bahia</td>\n",
       "      <td>5</td>\n",
       "      <td>0.009208</td>\n",
       "    </tr>\n",
       "    <tr>\n",
       "      <th>3</th>\n",
       "      <td>2015-w01</td>\n",
       "      <td>Ceara</td>\n",
       "      <td>1</td>\n",
       "      <td>0.001842</td>\n",
       "    </tr>\n",
       "    <tr>\n",
       "      <th>4</th>\n",
       "      <td>2015-w01</td>\n",
       "      <td>Espirito Santo</td>\n",
       "      <td>1</td>\n",
       "      <td>0.001842</td>\n",
       "    </tr>\n",
       "    <tr>\n",
       "      <th>...</th>\n",
       "      <td>...</td>\n",
       "      <td>...</td>\n",
       "      <td>...</td>\n",
       "      <td>...</td>\n",
       "    </tr>\n",
       "    <tr>\n",
       "      <th>76</th>\n",
       "      <td>2015-w05</td>\n",
       "      <td>Paraiba</td>\n",
       "      <td>4</td>\n",
       "      <td>0.007366</td>\n",
       "    </tr>\n",
       "    <tr>\n",
       "      <th>77</th>\n",
       "      <td>2015-w05</td>\n",
       "      <td>Parana</td>\n",
       "      <td>4</td>\n",
       "      <td>0.007366</td>\n",
       "    </tr>\n",
       "    <tr>\n",
       "      <th>78</th>\n",
       "      <td>2015-w05</td>\n",
       "      <td>Rio Grande Do Sul</td>\n",
       "      <td>6</td>\n",
       "      <td>0.011050</td>\n",
       "    </tr>\n",
       "    <tr>\n",
       "      <th>79</th>\n",
       "      <td>2015-w05</td>\n",
       "      <td>Rondonia</td>\n",
       "      <td>1</td>\n",
       "      <td>0.001842</td>\n",
       "    </tr>\n",
       "    <tr>\n",
       "      <th>80</th>\n",
       "      <td>2015-w05</td>\n",
       "      <td>Sao Paulo</td>\n",
       "      <td>11</td>\n",
       "      <td>0.020258</td>\n",
       "    </tr>\n",
       "  </tbody>\n",
       "</table>\n",
       "<p>81 rows × 4 columns</p>\n",
       "</div>"
      ],
      "text/plain": [
       "   year_week       LocationName  group_size  proportion\n",
       "0   2015-w01               Acre           1    0.001842\n",
       "1   2015-w01           Amazonas           5    0.009208\n",
       "2   2015-w01              Bahia           5    0.009208\n",
       "3   2015-w01              Ceara           1    0.001842\n",
       "4   2015-w01     Espirito Santo           1    0.001842\n",
       "..       ...                ...         ...         ...\n",
       "76  2015-w05            Paraiba           4    0.007366\n",
       "77  2015-w05             Parana           4    0.007366\n",
       "78  2015-w05  Rio Grande Do Sul           6    0.011050\n",
       "79  2015-w05           Rondonia           1    0.001842\n",
       "80  2015-w05          Sao Paulo          11    0.020258\n",
       "\n",
       "[81 rows x 4 columns]"
      ]
     },
     "execution_count": 5,
     "metadata": {},
     "output_type": "execute_result"
    }
   ],
   "source": [
    "# Step 1: Calculate the size of each group (year_week, LocationName)\n",
    "group_sizes = df_2015_01_neg.groupby(['year_week', 'LocationName']).size().reset_index(name='group_size')\n",
    "\n",
    "# Step 2: Calculate the proportion of each group in the dataset\n",
    "total_rows = len(df_2015_01_neg)\n",
    "group_sizes['proportion'] = group_sizes['group_size'] / total_rows\n",
    "group_sizes"
   ]
  },
  {
   "cell_type": "code",
   "execution_count": 6,
   "id": "3fac3240",
   "metadata": {},
   "outputs": [
    {
     "data": {
      "text/html": [
       "<div>\n",
       "<style scoped>\n",
       "    .dataframe tbody tr th:only-of-type {\n",
       "        vertical-align: middle;\n",
       "    }\n",
       "\n",
       "    .dataframe tbody tr th {\n",
       "        vertical-align: top;\n",
       "    }\n",
       "\n",
       "    .dataframe thead th {\n",
       "        text-align: right;\n",
       "    }\n",
       "</style>\n",
       "<table border=\"1\" class=\"dataframe\">\n",
       "  <thead>\n",
       "    <tr style=\"text-align: right;\">\n",
       "      <th></th>\n",
       "      <th>year_week</th>\n",
       "      <th>LocationName</th>\n",
       "      <th>group_size</th>\n",
       "      <th>proportion</th>\n",
       "      <th>sample_size</th>\n",
       "    </tr>\n",
       "  </thead>\n",
       "  <tbody>\n",
       "    <tr>\n",
       "      <th>0</th>\n",
       "      <td>2015-w01</td>\n",
       "      <td>Acre</td>\n",
       "      <td>1</td>\n",
       "      <td>0.001842</td>\n",
       "      <td>4</td>\n",
       "    </tr>\n",
       "    <tr>\n",
       "      <th>1</th>\n",
       "      <td>2015-w01</td>\n",
       "      <td>Amazonas</td>\n",
       "      <td>5</td>\n",
       "      <td>0.009208</td>\n",
       "      <td>22</td>\n",
       "    </tr>\n",
       "    <tr>\n",
       "      <th>2</th>\n",
       "      <td>2015-w01</td>\n",
       "      <td>Bahia</td>\n",
       "      <td>5</td>\n",
       "      <td>0.009208</td>\n",
       "      <td>22</td>\n",
       "    </tr>\n",
       "    <tr>\n",
       "      <th>3</th>\n",
       "      <td>2015-w01</td>\n",
       "      <td>Ceara</td>\n",
       "      <td>1</td>\n",
       "      <td>0.001842</td>\n",
       "      <td>4</td>\n",
       "    </tr>\n",
       "    <tr>\n",
       "      <th>4</th>\n",
       "      <td>2015-w01</td>\n",
       "      <td>Espirito Santo</td>\n",
       "      <td>1</td>\n",
       "      <td>0.001842</td>\n",
       "      <td>4</td>\n",
       "    </tr>\n",
       "    <tr>\n",
       "      <th>...</th>\n",
       "      <td>...</td>\n",
       "      <td>...</td>\n",
       "      <td>...</td>\n",
       "      <td>...</td>\n",
       "      <td>...</td>\n",
       "    </tr>\n",
       "    <tr>\n",
       "      <th>76</th>\n",
       "      <td>2015-w05</td>\n",
       "      <td>Paraiba</td>\n",
       "      <td>4</td>\n",
       "      <td>0.007366</td>\n",
       "      <td>18</td>\n",
       "    </tr>\n",
       "    <tr>\n",
       "      <th>77</th>\n",
       "      <td>2015-w05</td>\n",
       "      <td>Parana</td>\n",
       "      <td>4</td>\n",
       "      <td>0.007366</td>\n",
       "      <td>18</td>\n",
       "    </tr>\n",
       "    <tr>\n",
       "      <th>78</th>\n",
       "      <td>2015-w05</td>\n",
       "      <td>Rio Grande Do Sul</td>\n",
       "      <td>6</td>\n",
       "      <td>0.011050</td>\n",
       "      <td>27</td>\n",
       "    </tr>\n",
       "    <tr>\n",
       "      <th>79</th>\n",
       "      <td>2015-w05</td>\n",
       "      <td>Rondonia</td>\n",
       "      <td>1</td>\n",
       "      <td>0.001842</td>\n",
       "      <td>4</td>\n",
       "    </tr>\n",
       "    <tr>\n",
       "      <th>80</th>\n",
       "      <td>2015-w05</td>\n",
       "      <td>Sao Paulo</td>\n",
       "      <td>11</td>\n",
       "      <td>0.020258</td>\n",
       "      <td>49</td>\n",
       "    </tr>\n",
       "  </tbody>\n",
       "</table>\n",
       "<p>81 rows × 5 columns</p>\n",
       "</div>"
      ],
      "text/plain": [
       "   year_week       LocationName  group_size  proportion  sample_size\n",
       "0   2015-w01               Acre           1    0.001842            4\n",
       "1   2015-w01           Amazonas           5    0.009208           22\n",
       "2   2015-w01              Bahia           5    0.009208           22\n",
       "3   2015-w01              Ceara           1    0.001842            4\n",
       "4   2015-w01     Espirito Santo           1    0.001842            4\n",
       "..       ...                ...         ...         ...          ...\n",
       "76  2015-w05            Paraiba           4    0.007366           18\n",
       "77  2015-w05             Parana           4    0.007366           18\n",
       "78  2015-w05  Rio Grande Do Sul           6    0.011050           27\n",
       "79  2015-w05           Rondonia           1    0.001842            4\n",
       "80  2015-w05          Sao Paulo          11    0.020258           49\n",
       "\n",
       "[81 rows x 5 columns]"
      ]
     },
     "execution_count": 6,
     "metadata": {},
     "output_type": "execute_result"
    }
   ],
   "source": [
    "# Step 3: Define the target sample size\n",
    "target_sample_size = 2450\n",
    "\n",
    "# Step 4: Calculate the sample size for each group (based on its proportion)\n",
    "group_sizes['sample_size'] = np.floor(group_sizes['proportion'] * target_sample_size).astype(int)\n",
    "group_sizes"
   ]
  },
  {
   "cell_type": "code",
   "execution_count": 7,
   "id": "c7469167",
   "metadata": {},
   "outputs": [],
   "source": [
    "# Step 5: Merge this sample size information back to the original DataFrame\n",
    "df_2015_01_neg_sample_size = pd.merge(df_2015_01_neg, group_sizes[['year_week', 'LocationName', 'sample_size']], \n",
    "                               on=['year_week', 'LocationName'], how='left')"
   ]
  },
  {
   "cell_type": "code",
   "execution_count": 8,
   "id": "9c4475e7",
   "metadata": {},
   "outputs": [
    {
     "name": "stdout",
     "output_type": "stream",
     "text": [
      "Sampled 543 rows.\n"
     ]
    }
   ],
   "source": [
    "# Step 6: Perform the stratified sampling\n",
    "#df_2015_01_neg_sample = df_2015_01_neg_sample_size.groupby(['year_week', 'LocationName']).apply(\n",
    "#    lambda group: group.sample(n=group['sample_size'].iloc[0], random_state=42)\n",
    "#).reset_index(drop=True)\n",
    "df_2015_01_neg_sample = df_2015_01_neg\n",
    "# Step 7: Check the result\n",
    "print(f\"Sampled {len(df_2015_01_neg_sample)} rows.\")\n"
   ]
  },
  {
   "cell_type": "code",
   "execution_count": 9,
   "id": "c4ec1d65",
   "metadata": {},
   "outputs": [],
   "source": [
    "text_gpt_2015_01_neg = '\\n'.join(df_2015_01_neg_sample['text'].astype(str))"
   ]
  },
  {
   "cell_type": "markdown",
   "id": "5dc8c377",
   "metadata": {},
   "source": [
    "### Prompts and loops"
   ]
  },
  {
   "cell_type": "code",
   "execution_count": 10,
   "id": "a269fd14",
   "metadata": {},
   "outputs": [],
   "source": [
    "prompt_1 = prompt_raw.replace('TWEETS', text_gpt_2015_01_neg)"
   ]
  },
  {
   "cell_type": "code",
   "execution_count": 11,
   "id": "132f0e60",
   "metadata": {
    "scrolled": false
   },
   "outputs": [],
   "source": [
    "response = openai.ChatCompletion.create(\n",
    "    model=\"gpt-4o-mini\",  \n",
    "    messages = [\n",
    "        {\"role\": \"user\", \"content\": prompt_1}\n",
    "    ],\n",
    "    max_tokens=400,  # Maximum number of tokens in the response\n",
    "    temperature=0.7  # Controls the randomness of the output\n",
    ")"
   ]
  },
  {
   "cell_type": "code",
   "execution_count": 12,
   "id": "8b87399c",
   "metadata": {},
   "outputs": [
    {
     "data": {
      "text/plain": [
       "'The text reflects a widespread frustration and disdain for vaccinations. Many express discomfort, pain, or adverse reactions after receiving vaccines, while also highlighting a growing anti-vaccine movement. Concerns about vaccine safety, the rising costs of childhood vaccinations, and the consequences of low vaccination rates—such as disease outbreaks—are prevalent themes.'"
      ]
     },
     "execution_count": 12,
     "metadata": {},
     "output_type": "execute_result"
    }
   ],
   "source": [
    "response.choices[0].message.content"
   ]
  },
  {
   "cell_type": "code",
   "execution_count": 13,
   "id": "177a2bd7",
   "metadata": {},
   "outputs": [],
   "source": [
    "summary = []\n",
    "dataset = []"
   ]
  },
  {
   "cell_type": "code",
   "execution_count": 14,
   "id": "005c717a",
   "metadata": {},
   "outputs": [],
   "source": [
    "dataset.append(\"2015_01_negitive\")"
   ]
  },
  {
   "cell_type": "code",
   "execution_count": 15,
   "id": "b3580ec6",
   "metadata": {},
   "outputs": [],
   "source": [
    "summary.append(response.choices[0].message.content)"
   ]
  },
  {
   "cell_type": "code",
   "execution_count": 16,
   "id": "24c5caaa",
   "metadata": {
    "tags": []
   },
   "outputs": [
    {
     "name": "stdout",
     "output_type": "stream",
     "text": [
      "<class 'pandas.core.frame.DataFrame'>\n",
      "RangeIndex: 1 entries, 0 to 0\n",
      "Data columns (total 2 columns):\n",
      " #   Column   Non-Null Count  Dtype \n",
      "---  ------   --------------  ----- \n",
      " 0   dataset  1 non-null      object\n",
      " 1   summary  1 non-null      object\n",
      "dtypes: object(2)\n",
      "memory usage: 144.0+ bytes\n"
     ]
    }
   ],
   "source": [
    "df_2015_neg = pd.DataFrame(list(zip(dataset, summary)),\n",
    "                            columns = ['dataset', 'summary'])\n",
    "df_2015_neg.info()"
   ]
  },
  {
   "cell_type": "code",
   "execution_count": 17,
   "id": "5bcf3f7f",
   "metadata": {},
   "outputs": [
    {
     "data": {
      "text/html": [
       "<div>\n",
       "<style scoped>\n",
       "    .dataframe tbody tr th:only-of-type {\n",
       "        vertical-align: middle;\n",
       "    }\n",
       "\n",
       "    .dataframe tbody tr th {\n",
       "        vertical-align: top;\n",
       "    }\n",
       "\n",
       "    .dataframe thead th {\n",
       "        text-align: right;\n",
       "    }\n",
       "</style>\n",
       "<table border=\"1\" class=\"dataframe\">\n",
       "  <thead>\n",
       "    <tr style=\"text-align: right;\">\n",
       "      <th></th>\n",
       "      <th>dataset</th>\n",
       "      <th>summary</th>\n",
       "    </tr>\n",
       "  </thead>\n",
       "  <tbody>\n",
       "    <tr>\n",
       "      <th>0</th>\n",
       "      <td>2015_01_negitive</td>\n",
       "      <td>The text reflects a widespread frustration and...</td>\n",
       "    </tr>\n",
       "  </tbody>\n",
       "</table>\n",
       "</div>"
      ],
      "text/plain": [
       "            dataset                                            summary\n",
       "0  2015_01_negitive  The text reflects a widespread frustration and..."
      ]
     },
     "execution_count": 17,
     "metadata": {},
     "output_type": "execute_result"
    }
   ],
   "source": [
    "df_2015_neg.tail(14)"
   ]
  },
  {
   "cell_type": "code",
   "execution_count": 18,
   "id": "df702099",
   "metadata": {},
   "outputs": [
    {
     "data": {
      "text/plain": [
       "<OpenAIObject chat.completion id=chatcmpl-AUd41xcYwq9EdPlfATpw691RJQjxM at 0x24359af1270> JSON: {\n",
       "  \"choices\": [\n",
       "    {\n",
       "      \"finish_reason\": \"stop\",\n",
       "      \"index\": 0,\n",
       "      \"logprobs\": null,\n",
       "      \"message\": {\n",
       "        \"content\": \"The text reflects a widespread frustration and disdain for vaccinations. Many express discomfort, pain, or adverse reactions after receiving vaccines, while also highlighting a growing anti-vaccine movement. Concerns about vaccine safety, the rising costs of childhood vaccinations, and the consequences of low vaccination rates\\u2014such as disease outbreaks\\u2014are prevalent themes.\",\n",
       "        \"refusal\": null,\n",
       "        \"role\": \"assistant\"\n",
       "      }\n",
       "    }\n",
       "  ],\n",
       "  \"created\": 1731863365,\n",
       "  \"id\": \"chatcmpl-AUd41xcYwq9EdPlfATpw691RJQjxM\",\n",
       "  \"model\": \"gpt-4o-mini-2024-07-18\",\n",
       "  \"object\": \"chat.completion\",\n",
       "  \"system_fingerprint\": \"fp_0ba0d124f1\",\n",
       "  \"usage\": {\n",
       "    \"completion_tokens\": 64,\n",
       "    \"completion_tokens_details\": {\n",
       "      \"accepted_prediction_tokens\": 0,\n",
       "      \"audio_tokens\": 0,\n",
       "      \"reasoning_tokens\": 0,\n",
       "      \"rejected_prediction_tokens\": 0\n",
       "    },\n",
       "    \"prompt_tokens\": 11507,\n",
       "    \"prompt_tokens_details\": {\n",
       "      \"audio_tokens\": 0,\n",
       "      \"cached_tokens\": 0\n",
       "    },\n",
       "    \"total_tokens\": 11571\n",
       "  }\n",
       "}"
      ]
     },
     "execution_count": 18,
     "metadata": {},
     "output_type": "execute_result"
    }
   ],
   "source": [
    "response"
   ]
  },
  {
   "cell_type": "markdown",
   "id": "f2468aac",
   "metadata": {},
   "source": [
    "## February"
   ]
  },
  {
   "cell_type": "code",
   "execution_count": 19,
   "id": "5ea58abd",
   "metadata": {
    "scrolled": true,
    "tags": []
   },
   "outputs": [
    {
     "name": "stdout",
     "output_type": "stream",
     "text": [
      "<class 'pandas.core.frame.DataFrame'>\n",
      "RangeIndex: 474 entries, 0 to 473\n",
      "Data columns (total 53 columns):\n",
      " #   Column                  Non-Null Count  Dtype  \n",
      "---  ------                  --------------  -----  \n",
      " 0   index                   474 non-null    int64  \n",
      " 1   LocationCode            474 non-null    object \n",
      " 2   LocationName            474 non-null    object \n",
      " 3   StatesCode              474 non-null    object \n",
      " 4   ...4                    474 non-null    int64  \n",
      " 5   id                      474 non-null    float64\n",
      " 6   text                    474 non-null    object \n",
      " 7   label                   474 non-null    object \n",
      " 8   in_reply_to_status_id   62 non-null     float64\n",
      " 9   in_reply_to_user_id     64 non-null     float64\n",
      " 10  quoted_user_id          0 non-null      float64\n",
      " 11  quoted_status_id        0 non-null      float64\n",
      " 12  retweeted_user_id       99 non-null     float64\n",
      " 13  retweeted_status_id     99 non-null     float64\n",
      " 14  created_at              474 non-null    object \n",
      " 15  entities.user_mentions  178 non-null    object \n",
      " 16  user.id                 474 non-null    int64  \n",
      " 17  user.screen_name        474 non-null    object \n",
      " 18  user.name               474 non-null    object \n",
      " 19  user.description        425 non-null    object \n",
      " 20  user.timezone           0 non-null      float64\n",
      " 21  user.location           461 non-null    object \n",
      " 22  user.num_followers      474 non-null    int64  \n",
      " 23  user.num_following      474 non-null    int64  \n",
      " 24  user.created_at         474 non-null    object \n",
      " 25  user.statuses_count     474 non-null    int64  \n",
      " 26  user.is_verified        474 non-null    bool   \n",
      " 27  lang                    474 non-null    object \n",
      " 28  token_count             474 non-null    int64  \n",
      " 29  is_retweet              474 non-null    bool   \n",
      " 30  has_quote               474 non-null    bool   \n",
      " 31  is_reply                474 non-null    bool   \n",
      " 32  contains_keywords       474 non-null    bool   \n",
      " 33  longitude               474 non-null    float64\n",
      " 34  latitude                474 non-null    float64\n",
      " 35  country_code            474 non-null    object \n",
      " 36  geoname_id              434 non-null    float64\n",
      " 37  location_type           474 non-null    object \n",
      " 38  geo_type                474 non-null    int64  \n",
      " 39  region                  474 non-null    object \n",
      " 40  subregion               474 non-null    object \n",
      " 41  num_quotes              474 non-null    int64  \n",
      " 42  num_replies             474 non-null    int64  \n",
      " 43  num_retweets            474 non-null    int64  \n",
      " 44  sent_gpt                474 non-null    object \n",
      " 45  gpt_sent_presence       474 non-null    int64  \n",
      " 46  cleaned_text_lem        474 non-null    object \n",
      " 47  cleaned_text            474 non-null    object \n",
      " 48  month                   474 non-null    int64  \n",
      " 49  year                    474 non-null    int64  \n",
      " 50  week                    474 non-null    int64  \n",
      " 51  year_month              474 non-null    object \n",
      " 52  year_week               474 non-null    object \n",
      "dtypes: bool(5), float64(11), int64(15), object(22)\n",
      "memory usage: 180.2+ KB\n"
     ]
    }
   ],
   "source": [
    "# Get monthly data\n",
    "df_2015_02_neg = pd.read_csv('../data/local/df_neg_2015-02.csv').reset_index()\n",
    "df_2015_02_neg.info()"
   ]
  },
  {
   "cell_type": "markdown",
   "id": "1131f48c",
   "metadata": {},
   "source": [
    "### Representative sample based on week and location"
   ]
  },
  {
   "cell_type": "code",
   "execution_count": 20,
   "id": "2ef3d681",
   "metadata": {},
   "outputs": [
    {
     "data": {
      "text/html": [
       "<div>\n",
       "<style scoped>\n",
       "    .dataframe tbody tr th:only-of-type {\n",
       "        vertical-align: middle;\n",
       "    }\n",
       "\n",
       "    .dataframe tbody tr th {\n",
       "        vertical-align: top;\n",
       "    }\n",
       "\n",
       "    .dataframe thead th {\n",
       "        text-align: right;\n",
       "    }\n",
       "</style>\n",
       "<table border=\"1\" class=\"dataframe\">\n",
       "  <thead>\n",
       "    <tr style=\"text-align: right;\">\n",
       "      <th></th>\n",
       "      <th>year_week</th>\n",
       "      <th>LocationName</th>\n",
       "      <th>group_size</th>\n",
       "      <th>proportion</th>\n",
       "    </tr>\n",
       "  </thead>\n",
       "  <tbody>\n",
       "    <tr>\n",
       "      <th>0</th>\n",
       "      <td>2015-w05</td>\n",
       "      <td>Amazonas</td>\n",
       "      <td>1</td>\n",
       "      <td>0.002110</td>\n",
       "    </tr>\n",
       "    <tr>\n",
       "      <th>1</th>\n",
       "      <td>2015-w05</td>\n",
       "      <td>Bahia</td>\n",
       "      <td>3</td>\n",
       "      <td>0.006329</td>\n",
       "    </tr>\n",
       "    <tr>\n",
       "      <th>2</th>\n",
       "      <td>2015-w05</td>\n",
       "      <td>Ceara</td>\n",
       "      <td>2</td>\n",
       "      <td>0.004219</td>\n",
       "    </tr>\n",
       "    <tr>\n",
       "      <th>3</th>\n",
       "      <td>2015-w05</td>\n",
       "      <td>Distrito Federal</td>\n",
       "      <td>3</td>\n",
       "      <td>0.006329</td>\n",
       "    </tr>\n",
       "    <tr>\n",
       "      <th>4</th>\n",
       "      <td>2015-w05</td>\n",
       "      <td>Espirito Santo</td>\n",
       "      <td>1</td>\n",
       "      <td>0.002110</td>\n",
       "    </tr>\n",
       "    <tr>\n",
       "      <th>...</th>\n",
       "      <td>...</td>\n",
       "      <td>...</td>\n",
       "      <td>...</td>\n",
       "      <td>...</td>\n",
       "    </tr>\n",
       "    <tr>\n",
       "      <th>76</th>\n",
       "      <td>2015-w09</td>\n",
       "      <td>Minas Gerais</td>\n",
       "      <td>7</td>\n",
       "      <td>0.014768</td>\n",
       "    </tr>\n",
       "    <tr>\n",
       "      <th>77</th>\n",
       "      <td>2015-w09</td>\n",
       "      <td>Para</td>\n",
       "      <td>1</td>\n",
       "      <td>0.002110</td>\n",
       "    </tr>\n",
       "    <tr>\n",
       "      <th>78</th>\n",
       "      <td>2015-w09</td>\n",
       "      <td>Parana</td>\n",
       "      <td>11</td>\n",
       "      <td>0.023207</td>\n",
       "    </tr>\n",
       "    <tr>\n",
       "      <th>79</th>\n",
       "      <td>2015-w09</td>\n",
       "      <td>Rio Grande Do Sul</td>\n",
       "      <td>5</td>\n",
       "      <td>0.010549</td>\n",
       "    </tr>\n",
       "    <tr>\n",
       "      <th>80</th>\n",
       "      <td>2015-w09</td>\n",
       "      <td>Sao Paulo</td>\n",
       "      <td>10</td>\n",
       "      <td>0.021097</td>\n",
       "    </tr>\n",
       "  </tbody>\n",
       "</table>\n",
       "<p>81 rows × 4 columns</p>\n",
       "</div>"
      ],
      "text/plain": [
       "   year_week       LocationName  group_size  proportion\n",
       "0   2015-w05           Amazonas           1    0.002110\n",
       "1   2015-w05              Bahia           3    0.006329\n",
       "2   2015-w05              Ceara           2    0.004219\n",
       "3   2015-w05   Distrito Federal           3    0.006329\n",
       "4   2015-w05     Espirito Santo           1    0.002110\n",
       "..       ...                ...         ...         ...\n",
       "76  2015-w09       Minas Gerais           7    0.014768\n",
       "77  2015-w09               Para           1    0.002110\n",
       "78  2015-w09             Parana          11    0.023207\n",
       "79  2015-w09  Rio Grande Do Sul           5    0.010549\n",
       "80  2015-w09          Sao Paulo          10    0.021097\n",
       "\n",
       "[81 rows x 4 columns]"
      ]
     },
     "execution_count": 20,
     "metadata": {},
     "output_type": "execute_result"
    }
   ],
   "source": [
    "# Step 1: Calculate the size of each group (year_week, LocationName)\n",
    "group_sizes = df_2015_02_neg.groupby(['year_week', 'LocationName']).size().reset_index(name='group_size')\n",
    "\n",
    "# Step 2: Calculate the proportion of each group in the dataset\n",
    "total_rows = len(df_2015_02_neg)\n",
    "group_sizes['proportion'] = group_sizes['group_size'] / total_rows\n",
    "group_sizes"
   ]
  },
  {
   "cell_type": "code",
   "execution_count": 21,
   "id": "adee9c98",
   "metadata": {},
   "outputs": [
    {
     "data": {
      "text/html": [
       "<div>\n",
       "<style scoped>\n",
       "    .dataframe tbody tr th:only-of-type {\n",
       "        vertical-align: middle;\n",
       "    }\n",
       "\n",
       "    .dataframe tbody tr th {\n",
       "        vertical-align: top;\n",
       "    }\n",
       "\n",
       "    .dataframe thead th {\n",
       "        text-align: right;\n",
       "    }\n",
       "</style>\n",
       "<table border=\"1\" class=\"dataframe\">\n",
       "  <thead>\n",
       "    <tr style=\"text-align: right;\">\n",
       "      <th></th>\n",
       "      <th>year_week</th>\n",
       "      <th>LocationName</th>\n",
       "      <th>group_size</th>\n",
       "      <th>proportion</th>\n",
       "      <th>sample_size</th>\n",
       "    </tr>\n",
       "  </thead>\n",
       "  <tbody>\n",
       "    <tr>\n",
       "      <th>0</th>\n",
       "      <td>2015-w05</td>\n",
       "      <td>Amazonas</td>\n",
       "      <td>1</td>\n",
       "      <td>0.002110</td>\n",
       "      <td>5</td>\n",
       "    </tr>\n",
       "    <tr>\n",
       "      <th>1</th>\n",
       "      <td>2015-w05</td>\n",
       "      <td>Bahia</td>\n",
       "      <td>3</td>\n",
       "      <td>0.006329</td>\n",
       "      <td>15</td>\n",
       "    </tr>\n",
       "    <tr>\n",
       "      <th>2</th>\n",
       "      <td>2015-w05</td>\n",
       "      <td>Ceara</td>\n",
       "      <td>2</td>\n",
       "      <td>0.004219</td>\n",
       "      <td>10</td>\n",
       "    </tr>\n",
       "    <tr>\n",
       "      <th>3</th>\n",
       "      <td>2015-w05</td>\n",
       "      <td>Distrito Federal</td>\n",
       "      <td>3</td>\n",
       "      <td>0.006329</td>\n",
       "      <td>15</td>\n",
       "    </tr>\n",
       "    <tr>\n",
       "      <th>4</th>\n",
       "      <td>2015-w05</td>\n",
       "      <td>Espirito Santo</td>\n",
       "      <td>1</td>\n",
       "      <td>0.002110</td>\n",
       "      <td>5</td>\n",
       "    </tr>\n",
       "    <tr>\n",
       "      <th>...</th>\n",
       "      <td>...</td>\n",
       "      <td>...</td>\n",
       "      <td>...</td>\n",
       "      <td>...</td>\n",
       "      <td>...</td>\n",
       "    </tr>\n",
       "    <tr>\n",
       "      <th>76</th>\n",
       "      <td>2015-w09</td>\n",
       "      <td>Minas Gerais</td>\n",
       "      <td>7</td>\n",
       "      <td>0.014768</td>\n",
       "      <td>36</td>\n",
       "    </tr>\n",
       "    <tr>\n",
       "      <th>77</th>\n",
       "      <td>2015-w09</td>\n",
       "      <td>Para</td>\n",
       "      <td>1</td>\n",
       "      <td>0.002110</td>\n",
       "      <td>5</td>\n",
       "    </tr>\n",
       "    <tr>\n",
       "      <th>78</th>\n",
       "      <td>2015-w09</td>\n",
       "      <td>Parana</td>\n",
       "      <td>11</td>\n",
       "      <td>0.023207</td>\n",
       "      <td>56</td>\n",
       "    </tr>\n",
       "    <tr>\n",
       "      <th>79</th>\n",
       "      <td>2015-w09</td>\n",
       "      <td>Rio Grande Do Sul</td>\n",
       "      <td>5</td>\n",
       "      <td>0.010549</td>\n",
       "      <td>25</td>\n",
       "    </tr>\n",
       "    <tr>\n",
       "      <th>80</th>\n",
       "      <td>2015-w09</td>\n",
       "      <td>Sao Paulo</td>\n",
       "      <td>10</td>\n",
       "      <td>0.021097</td>\n",
       "      <td>51</td>\n",
       "    </tr>\n",
       "  </tbody>\n",
       "</table>\n",
       "<p>81 rows × 5 columns</p>\n",
       "</div>"
      ],
      "text/plain": [
       "   year_week       LocationName  group_size  proportion  sample_size\n",
       "0   2015-w05           Amazonas           1    0.002110            5\n",
       "1   2015-w05              Bahia           3    0.006329           15\n",
       "2   2015-w05              Ceara           2    0.004219           10\n",
       "3   2015-w05   Distrito Federal           3    0.006329           15\n",
       "4   2015-w05     Espirito Santo           1    0.002110            5\n",
       "..       ...                ...         ...         ...          ...\n",
       "76  2015-w09       Minas Gerais           7    0.014768           36\n",
       "77  2015-w09               Para           1    0.002110            5\n",
       "78  2015-w09             Parana          11    0.023207           56\n",
       "79  2015-w09  Rio Grande Do Sul           5    0.010549           25\n",
       "80  2015-w09          Sao Paulo          10    0.021097           51\n",
       "\n",
       "[81 rows x 5 columns]"
      ]
     },
     "execution_count": 21,
     "metadata": {},
     "output_type": "execute_result"
    }
   ],
   "source": [
    "# Step 3: Define the target sample size\n",
    "target_sample_size = 2450\n",
    "\n",
    "# Step 4: Calculate the sample size for each group (based on its proportion)\n",
    "group_sizes['sample_size'] = np.floor(group_sizes['proportion'] * target_sample_size).astype(int)\n",
    "group_sizes"
   ]
  },
  {
   "cell_type": "code",
   "execution_count": 22,
   "id": "a7b8b23f",
   "metadata": {},
   "outputs": [],
   "source": [
    "# Step 5: Merge this sample size information back to the original DataFrame\n",
    "df_2015_02_neg_sample_size = pd.merge(df_2015_02_neg, group_sizes[['year_week', 'LocationName', 'sample_size']], \n",
    "                               on=['year_week', 'LocationName'], how='left')"
   ]
  },
  {
   "cell_type": "code",
   "execution_count": 23,
   "id": "46c74cd1",
   "metadata": {},
   "outputs": [
    {
     "name": "stdout",
     "output_type": "stream",
     "text": [
      "Sampled 474 rows.\n"
     ]
    }
   ],
   "source": [
    "# Step 6: Perform the stratified sampling\n",
    "#df_2015_02_neg_sample = df_2015_02_neg_sample_size.groupby(['year_week', 'LocationName']).apply(\n",
    " #   lambda group: group.sample(n=group['sample_size'].iloc[0], random_state=42)\n",
    "#).reset_index(drop=True)\n",
    "df_2015_02_neg_sample = df_2015_02_neg\n",
    "# Step 7: Check the result\n",
    "print(f\"Sampled {len(df_2015_02_neg_sample)} rows.\")\n"
   ]
  },
  {
   "cell_type": "code",
   "execution_count": 24,
   "id": "80e9765e",
   "metadata": {},
   "outputs": [],
   "source": [
    "text_gpt_2015_02_neg = '\\n'.join(df_2015_02_neg_sample['text'].astype(str))"
   ]
  },
  {
   "cell_type": "markdown",
   "id": "b22f256e",
   "metadata": {},
   "source": [
    "### Prompts and loops"
   ]
  },
  {
   "cell_type": "code",
   "execution_count": 25,
   "id": "95c22639",
   "metadata": {},
   "outputs": [],
   "source": [
    "prompt_2 = prompt_raw.replace('TWEETS', text_gpt_2015_02_neg)"
   ]
  },
  {
   "cell_type": "code",
   "execution_count": 26,
   "id": "b172834e",
   "metadata": {
    "scrolled": false
   },
   "outputs": [],
   "source": [
    "response = openai.ChatCompletion.create(\n",
    "    model=\"gpt-4o-mini\",  \n",
    "    messages = [\n",
    "        {\"role\": \"user\", \"content\": prompt_2}\n",
    "    ],\n",
    "    max_tokens=400,  # Maximum number of tokens in the response\n",
    "    temperature=0.7  # Controls the randomness of the output\n",
    ")"
   ]
  },
  {
   "cell_type": "code",
   "execution_count": 27,
   "id": "86d7f1a3",
   "metadata": {},
   "outputs": [
    {
     "data": {
      "text/plain": [
       "'The selected texts express a mix of opinions and experiences regarding vaccinations. They highlight frustration with the pain associated with vaccines, concerns about vaccine efficacy and safety, and the rise of anti-vaccine sentiments. Additionally, there are criticisms of those who refuse vaccinations for their children, linking it to public health risks, while some express a desire for vaccines to prevent various issues, including social behaviors and diseases.'"
      ]
     },
     "execution_count": 27,
     "metadata": {},
     "output_type": "execute_result"
    }
   ],
   "source": [
    "response.choices[0].message.content"
   ]
  },
  {
   "cell_type": "code",
   "execution_count": 28,
   "id": "44a76dbb",
   "metadata": {},
   "outputs": [],
   "source": [
    "#summary = []\n",
    "#dataset = []"
   ]
  },
  {
   "cell_type": "code",
   "execution_count": 29,
   "id": "9da8b8a2",
   "metadata": {},
   "outputs": [],
   "source": [
    "dataset.append(\"2015_02_negitive\")"
   ]
  },
  {
   "cell_type": "code",
   "execution_count": 30,
   "id": "4d33e327",
   "metadata": {},
   "outputs": [],
   "source": [
    "summary.append(response.choices[0].message.content)"
   ]
  },
  {
   "cell_type": "code",
   "execution_count": 31,
   "id": "725c0f71",
   "metadata": {
    "tags": []
   },
   "outputs": [
    {
     "name": "stdout",
     "output_type": "stream",
     "text": [
      "<class 'pandas.core.frame.DataFrame'>\n",
      "RangeIndex: 2 entries, 0 to 1\n",
      "Data columns (total 2 columns):\n",
      " #   Column   Non-Null Count  Dtype \n",
      "---  ------   --------------  ----- \n",
      " 0   dataset  2 non-null      object\n",
      " 1   summary  2 non-null      object\n",
      "dtypes: object(2)\n",
      "memory usage: 160.0+ bytes\n"
     ]
    }
   ],
   "source": [
    "df_2015_neg = pd.DataFrame(list(zip(dataset, summary)),\n",
    "                            columns = ['dataset', 'summary'])\n",
    "df_2015_neg.info()"
   ]
  },
  {
   "cell_type": "code",
   "execution_count": 32,
   "id": "90cdb4de",
   "metadata": {},
   "outputs": [
    {
     "data": {
      "text/html": [
       "<div>\n",
       "<style scoped>\n",
       "    .dataframe tbody tr th:only-of-type {\n",
       "        vertical-align: middle;\n",
       "    }\n",
       "\n",
       "    .dataframe tbody tr th {\n",
       "        vertical-align: top;\n",
       "    }\n",
       "\n",
       "    .dataframe thead th {\n",
       "        text-align: right;\n",
       "    }\n",
       "</style>\n",
       "<table border=\"1\" class=\"dataframe\">\n",
       "  <thead>\n",
       "    <tr style=\"text-align: right;\">\n",
       "      <th></th>\n",
       "      <th>dataset</th>\n",
       "      <th>summary</th>\n",
       "    </tr>\n",
       "  </thead>\n",
       "  <tbody>\n",
       "    <tr>\n",
       "      <th>0</th>\n",
       "      <td>2015_01_negitive</td>\n",
       "      <td>The text reflects a widespread frustration and...</td>\n",
       "    </tr>\n",
       "    <tr>\n",
       "      <th>1</th>\n",
       "      <td>2015_02_negitive</td>\n",
       "      <td>The selected texts express a mix of opinions a...</td>\n",
       "    </tr>\n",
       "  </tbody>\n",
       "</table>\n",
       "</div>"
      ],
      "text/plain": [
       "            dataset                                            summary\n",
       "0  2015_01_negitive  The text reflects a widespread frustration and...\n",
       "1  2015_02_negitive  The selected texts express a mix of opinions a..."
      ]
     },
     "execution_count": 32,
     "metadata": {},
     "output_type": "execute_result"
    }
   ],
   "source": [
    "df_2015_neg.tail(14)"
   ]
  },
  {
   "cell_type": "code",
   "execution_count": 33,
   "id": "8b79e3e6",
   "metadata": {},
   "outputs": [
    {
     "data": {
      "text/plain": [
       "<OpenAIObject chat.completion id=chatcmpl-AUd44NUJkSB163lWo46Hafn00VI77 at 0x24359b1e860> JSON: {\n",
       "  \"choices\": [\n",
       "    {\n",
       "      \"finish_reason\": \"stop\",\n",
       "      \"index\": 0,\n",
       "      \"logprobs\": null,\n",
       "      \"message\": {\n",
       "        \"content\": \"The selected texts express a mix of opinions and experiences regarding vaccinations. They highlight frustration with the pain associated with vaccines, concerns about vaccine efficacy and safety, and the rise of anti-vaccine sentiments. Additionally, there are criticisms of those who refuse vaccinations for their children, linking it to public health risks, while some express a desire for vaccines to prevent various issues, including social behaviors and diseases.\",\n",
       "        \"refusal\": null,\n",
       "        \"role\": \"assistant\"\n",
       "      }\n",
       "    }\n",
       "  ],\n",
       "  \"created\": 1731863368,\n",
       "  \"id\": \"chatcmpl-AUd44NUJkSB163lWo46Hafn00VI77\",\n",
       "  \"model\": \"gpt-4o-mini-2024-07-18\",\n",
       "  \"object\": \"chat.completion\",\n",
       "  \"system_fingerprint\": \"fp_0ba0d124f1\",\n",
       "  \"usage\": {\n",
       "    \"completion_tokens\": 78,\n",
       "    \"completion_tokens_details\": {\n",
       "      \"accepted_prediction_tokens\": 0,\n",
       "      \"audio_tokens\": 0,\n",
       "      \"reasoning_tokens\": 0,\n",
       "      \"rejected_prediction_tokens\": 0\n",
       "    },\n",
       "    \"prompt_tokens\": 10515,\n",
       "    \"prompt_tokens_details\": {\n",
       "      \"audio_tokens\": 0,\n",
       "      \"cached_tokens\": 0\n",
       "    },\n",
       "    \"total_tokens\": 10593\n",
       "  }\n",
       "}"
      ]
     },
     "execution_count": 33,
     "metadata": {},
     "output_type": "execute_result"
    }
   ],
   "source": [
    "response"
   ]
  },
  {
   "cell_type": "markdown",
   "id": "83cfd4fe",
   "metadata": {},
   "source": [
    "## March"
   ]
  },
  {
   "cell_type": "code",
   "execution_count": 34,
   "id": "8aecef5f",
   "metadata": {
    "scrolled": true,
    "tags": []
   },
   "outputs": [
    {
     "name": "stdout",
     "output_type": "stream",
     "text": [
      "<class 'pandas.core.frame.DataFrame'>\n",
      "RangeIndex: 728 entries, 0 to 727\n",
      "Data columns (total 53 columns):\n",
      " #   Column                  Non-Null Count  Dtype  \n",
      "---  ------                  --------------  -----  \n",
      " 0   index                   728 non-null    int64  \n",
      " 1   LocationCode            728 non-null    object \n",
      " 2   LocationName            728 non-null    object \n",
      " 3   StatesCode              728 non-null    object \n",
      " 4   ...4                    728 non-null    int64  \n",
      " 5   id                      728 non-null    float64\n",
      " 6   text                    728 non-null    object \n",
      " 7   label                   728 non-null    object \n",
      " 8   in_reply_to_status_id   77 non-null     float64\n",
      " 9   in_reply_to_user_id     82 non-null     float64\n",
      " 10  quoted_user_id          0 non-null      float64\n",
      " 11  quoted_status_id        0 non-null      float64\n",
      " 12  retweeted_user_id       98 non-null     float64\n",
      " 13  retweeted_status_id     98 non-null     float64\n",
      " 14  created_at              728 non-null    object \n",
      " 15  entities.user_mentions  209 non-null    object \n",
      " 16  user.id                 728 non-null    int64  \n",
      " 17  user.screen_name        728 non-null    object \n",
      " 18  user.name               728 non-null    object \n",
      " 19  user.description        634 non-null    object \n",
      " 20  user.timezone           0 non-null      float64\n",
      " 21  user.location           720 non-null    object \n",
      " 22  user.num_followers      728 non-null    int64  \n",
      " 23  user.num_following      728 non-null    int64  \n",
      " 24  user.created_at         728 non-null    object \n",
      " 25  user.statuses_count     728 non-null    int64  \n",
      " 26  user.is_verified        728 non-null    bool   \n",
      " 27  lang                    728 non-null    object \n",
      " 28  token_count             728 non-null    int64  \n",
      " 29  is_retweet              728 non-null    bool   \n",
      " 30  has_quote               728 non-null    bool   \n",
      " 31  is_reply                728 non-null    bool   \n",
      " 32  contains_keywords       728 non-null    bool   \n",
      " 33  longitude               728 non-null    float64\n",
      " 34  latitude                728 non-null    float64\n",
      " 35  country_code            728 non-null    object \n",
      " 36  geoname_id              682 non-null    float64\n",
      " 37  location_type           728 non-null    object \n",
      " 38  geo_type                728 non-null    int64  \n",
      " 39  region                  728 non-null    object \n",
      " 40  subregion               728 non-null    object \n",
      " 41  num_quotes              728 non-null    int64  \n",
      " 42  num_replies             728 non-null    int64  \n",
      " 43  num_retweets            728 non-null    int64  \n",
      " 44  sent_gpt                728 non-null    object \n",
      " 45  gpt_sent_presence       728 non-null    int64  \n",
      " 46  cleaned_text_lem        728 non-null    object \n",
      " 47  cleaned_text            728 non-null    object \n",
      " 48  month                   728 non-null    int64  \n",
      " 49  year                    728 non-null    int64  \n",
      " 50  week                    728 non-null    int64  \n",
      " 51  year_month              728 non-null    object \n",
      " 52  year_week               728 non-null    object \n",
      "dtypes: bool(5), float64(11), int64(15), object(22)\n",
      "memory usage: 276.7+ KB\n"
     ]
    }
   ],
   "source": [
    "# Get monthly data\n",
    "df_2015_03_neg = pd.read_csv('../data/local/df_neg_2015-03.csv').reset_index()\n",
    "df_2015_03_neg.info()"
   ]
  },
  {
   "cell_type": "markdown",
   "id": "9d8793b8",
   "metadata": {},
   "source": [
    "### Representative sample based on week and location"
   ]
  },
  {
   "cell_type": "code",
   "execution_count": 35,
   "id": "849b56c5",
   "metadata": {},
   "outputs": [
    {
     "data": {
      "text/html": [
       "<div>\n",
       "<style scoped>\n",
       "    .dataframe tbody tr th:only-of-type {\n",
       "        vertical-align: middle;\n",
       "    }\n",
       "\n",
       "    .dataframe tbody tr th {\n",
       "        vertical-align: top;\n",
       "    }\n",
       "\n",
       "    .dataframe thead th {\n",
       "        text-align: right;\n",
       "    }\n",
       "</style>\n",
       "<table border=\"1\" class=\"dataframe\">\n",
       "  <thead>\n",
       "    <tr style=\"text-align: right;\">\n",
       "      <th></th>\n",
       "      <th>year_week</th>\n",
       "      <th>LocationName</th>\n",
       "      <th>group_size</th>\n",
       "      <th>proportion</th>\n",
       "    </tr>\n",
       "  </thead>\n",
       "  <tbody>\n",
       "    <tr>\n",
       "      <th>0</th>\n",
       "      <td>2015-w09</td>\n",
       "      <td>Acre</td>\n",
       "      <td>1</td>\n",
       "      <td>0.001374</td>\n",
       "    </tr>\n",
       "    <tr>\n",
       "      <th>1</th>\n",
       "      <td>2015-w09</td>\n",
       "      <td>Amazonas</td>\n",
       "      <td>2</td>\n",
       "      <td>0.002747</td>\n",
       "    </tr>\n",
       "    <tr>\n",
       "      <th>2</th>\n",
       "      <td>2015-w09</td>\n",
       "      <td>Bahia</td>\n",
       "      <td>6</td>\n",
       "      <td>0.008242</td>\n",
       "    </tr>\n",
       "    <tr>\n",
       "      <th>3</th>\n",
       "      <td>2015-w09</td>\n",
       "      <td>Ceara</td>\n",
       "      <td>3</td>\n",
       "      <td>0.004121</td>\n",
       "    </tr>\n",
       "    <tr>\n",
       "      <th>4</th>\n",
       "      <td>2015-w09</td>\n",
       "      <td>Distrito Federal</td>\n",
       "      <td>2</td>\n",
       "      <td>0.002747</td>\n",
       "    </tr>\n",
       "    <tr>\n",
       "      <th>...</th>\n",
       "      <td>...</td>\n",
       "      <td>...</td>\n",
       "      <td>...</td>\n",
       "      <td>...</td>\n",
       "    </tr>\n",
       "    <tr>\n",
       "      <th>89</th>\n",
       "      <td>2015-w13</td>\n",
       "      <td>Rio Grande Do Sul</td>\n",
       "      <td>10</td>\n",
       "      <td>0.013736</td>\n",
       "    </tr>\n",
       "    <tr>\n",
       "      <th>90</th>\n",
       "      <td>2015-w13</td>\n",
       "      <td>Roraima</td>\n",
       "      <td>1</td>\n",
       "      <td>0.001374</td>\n",
       "    </tr>\n",
       "    <tr>\n",
       "      <th>91</th>\n",
       "      <td>2015-w13</td>\n",
       "      <td>Santa Catarina</td>\n",
       "      <td>1</td>\n",
       "      <td>0.001374</td>\n",
       "    </tr>\n",
       "    <tr>\n",
       "      <th>92</th>\n",
       "      <td>2015-w13</td>\n",
       "      <td>Sao Paulo</td>\n",
       "      <td>27</td>\n",
       "      <td>0.037088</td>\n",
       "    </tr>\n",
       "    <tr>\n",
       "      <th>93</th>\n",
       "      <td>2015-w13</td>\n",
       "      <td>Sergipe</td>\n",
       "      <td>1</td>\n",
       "      <td>0.001374</td>\n",
       "    </tr>\n",
       "  </tbody>\n",
       "</table>\n",
       "<p>94 rows × 4 columns</p>\n",
       "</div>"
      ],
      "text/plain": [
       "   year_week       LocationName  group_size  proportion\n",
       "0   2015-w09               Acre           1    0.001374\n",
       "1   2015-w09           Amazonas           2    0.002747\n",
       "2   2015-w09              Bahia           6    0.008242\n",
       "3   2015-w09              Ceara           3    0.004121\n",
       "4   2015-w09   Distrito Federal           2    0.002747\n",
       "..       ...                ...         ...         ...\n",
       "89  2015-w13  Rio Grande Do Sul          10    0.013736\n",
       "90  2015-w13            Roraima           1    0.001374\n",
       "91  2015-w13     Santa Catarina           1    0.001374\n",
       "92  2015-w13          Sao Paulo          27    0.037088\n",
       "93  2015-w13            Sergipe           1    0.001374\n",
       "\n",
       "[94 rows x 4 columns]"
      ]
     },
     "execution_count": 35,
     "metadata": {},
     "output_type": "execute_result"
    }
   ],
   "source": [
    "# Step 1: Calculate the size of each group (year_week, LocationName)\n",
    "group_sizes = df_2015_03_neg.groupby(['year_week', 'LocationName']).size().reset_index(name='group_size')\n",
    "\n",
    "# Step 2: Calculate the proportion of each group in the dataset\n",
    "total_rows = len(df_2015_03_neg)\n",
    "group_sizes['proportion'] = group_sizes['group_size'] / total_rows\n",
    "group_sizes"
   ]
  },
  {
   "cell_type": "code",
   "execution_count": 36,
   "id": "aef8698d",
   "metadata": {},
   "outputs": [
    {
     "data": {
      "text/html": [
       "<div>\n",
       "<style scoped>\n",
       "    .dataframe tbody tr th:only-of-type {\n",
       "        vertical-align: middle;\n",
       "    }\n",
       "\n",
       "    .dataframe tbody tr th {\n",
       "        vertical-align: top;\n",
       "    }\n",
       "\n",
       "    .dataframe thead th {\n",
       "        text-align: right;\n",
       "    }\n",
       "</style>\n",
       "<table border=\"1\" class=\"dataframe\">\n",
       "  <thead>\n",
       "    <tr style=\"text-align: right;\">\n",
       "      <th></th>\n",
       "      <th>year_week</th>\n",
       "      <th>LocationName</th>\n",
       "      <th>group_size</th>\n",
       "      <th>proportion</th>\n",
       "      <th>sample_size</th>\n",
       "    </tr>\n",
       "  </thead>\n",
       "  <tbody>\n",
       "    <tr>\n",
       "      <th>0</th>\n",
       "      <td>2015-w09</td>\n",
       "      <td>Acre</td>\n",
       "      <td>1</td>\n",
       "      <td>0.001374</td>\n",
       "      <td>3</td>\n",
       "    </tr>\n",
       "    <tr>\n",
       "      <th>1</th>\n",
       "      <td>2015-w09</td>\n",
       "      <td>Amazonas</td>\n",
       "      <td>2</td>\n",
       "      <td>0.002747</td>\n",
       "      <td>6</td>\n",
       "    </tr>\n",
       "    <tr>\n",
       "      <th>2</th>\n",
       "      <td>2015-w09</td>\n",
       "      <td>Bahia</td>\n",
       "      <td>6</td>\n",
       "      <td>0.008242</td>\n",
       "      <td>20</td>\n",
       "    </tr>\n",
       "    <tr>\n",
       "      <th>3</th>\n",
       "      <td>2015-w09</td>\n",
       "      <td>Ceara</td>\n",
       "      <td>3</td>\n",
       "      <td>0.004121</td>\n",
       "      <td>10</td>\n",
       "    </tr>\n",
       "    <tr>\n",
       "      <th>4</th>\n",
       "      <td>2015-w09</td>\n",
       "      <td>Distrito Federal</td>\n",
       "      <td>2</td>\n",
       "      <td>0.002747</td>\n",
       "      <td>6</td>\n",
       "    </tr>\n",
       "    <tr>\n",
       "      <th>...</th>\n",
       "      <td>...</td>\n",
       "      <td>...</td>\n",
       "      <td>...</td>\n",
       "      <td>...</td>\n",
       "      <td>...</td>\n",
       "    </tr>\n",
       "    <tr>\n",
       "      <th>89</th>\n",
       "      <td>2015-w13</td>\n",
       "      <td>Rio Grande Do Sul</td>\n",
       "      <td>10</td>\n",
       "      <td>0.013736</td>\n",
       "      <td>33</td>\n",
       "    </tr>\n",
       "    <tr>\n",
       "      <th>90</th>\n",
       "      <td>2015-w13</td>\n",
       "      <td>Roraima</td>\n",
       "      <td>1</td>\n",
       "      <td>0.001374</td>\n",
       "      <td>3</td>\n",
       "    </tr>\n",
       "    <tr>\n",
       "      <th>91</th>\n",
       "      <td>2015-w13</td>\n",
       "      <td>Santa Catarina</td>\n",
       "      <td>1</td>\n",
       "      <td>0.001374</td>\n",
       "      <td>3</td>\n",
       "    </tr>\n",
       "    <tr>\n",
       "      <th>92</th>\n",
       "      <td>2015-w13</td>\n",
       "      <td>Sao Paulo</td>\n",
       "      <td>27</td>\n",
       "      <td>0.037088</td>\n",
       "      <td>90</td>\n",
       "    </tr>\n",
       "    <tr>\n",
       "      <th>93</th>\n",
       "      <td>2015-w13</td>\n",
       "      <td>Sergipe</td>\n",
       "      <td>1</td>\n",
       "      <td>0.001374</td>\n",
       "      <td>3</td>\n",
       "    </tr>\n",
       "  </tbody>\n",
       "</table>\n",
       "<p>94 rows × 5 columns</p>\n",
       "</div>"
      ],
      "text/plain": [
       "   year_week       LocationName  group_size  proportion  sample_size\n",
       "0   2015-w09               Acre           1    0.001374            3\n",
       "1   2015-w09           Amazonas           2    0.002747            6\n",
       "2   2015-w09              Bahia           6    0.008242           20\n",
       "3   2015-w09              Ceara           3    0.004121           10\n",
       "4   2015-w09   Distrito Federal           2    0.002747            6\n",
       "..       ...                ...         ...         ...          ...\n",
       "89  2015-w13  Rio Grande Do Sul          10    0.013736           33\n",
       "90  2015-w13            Roraima           1    0.001374            3\n",
       "91  2015-w13     Santa Catarina           1    0.001374            3\n",
       "92  2015-w13          Sao Paulo          27    0.037088           90\n",
       "93  2015-w13            Sergipe           1    0.001374            3\n",
       "\n",
       "[94 rows x 5 columns]"
      ]
     },
     "execution_count": 36,
     "metadata": {},
     "output_type": "execute_result"
    }
   ],
   "source": [
    "# Step 3: Define the target sample size\n",
    "target_sample_size = 2450\n",
    "\n",
    "# Step 4: Calculate the sample size for each group (based on its proportion)\n",
    "group_sizes['sample_size'] = np.floor(group_sizes['proportion'] * target_sample_size).astype(int)\n",
    "group_sizes"
   ]
  },
  {
   "cell_type": "code",
   "execution_count": 37,
   "id": "64497bce",
   "metadata": {},
   "outputs": [],
   "source": [
    "# Step 5: Merge this sample size information back to the original DataFrame\n",
    "df_2015_03_neg_sample_size = pd.merge(df_2015_03_neg, group_sizes[['year_week', 'LocationName', 'sample_size']], \n",
    "                               on=['year_week', 'LocationName'], how='left')"
   ]
  },
  {
   "cell_type": "code",
   "execution_count": 38,
   "id": "b66deaed",
   "metadata": {},
   "outputs": [
    {
     "name": "stdout",
     "output_type": "stream",
     "text": [
      "Sampled 728 rows.\n"
     ]
    }
   ],
   "source": [
    "# Step 6: Perform the stratified sampling\n",
    "#df_2015_03_neg_sample = df_2015_03_neg_sample_size.groupby(['year_week', 'LocationName']).apply(\n",
    "#    lambda group: group.sample(n=group['sample_size'].iloc[0], random_state=42)\n",
    "#).reset_index(drop=True)\n",
    "df_2015_03_neg_sample = df_2015_03_neg\n",
    "# Step 7: Check the result\n",
    "print(f\"Sampled {len(df_2015_03_neg_sample)} rows.\")\n"
   ]
  },
  {
   "cell_type": "code",
   "execution_count": 39,
   "id": "cacd5bfb",
   "metadata": {},
   "outputs": [],
   "source": [
    "text_gpt_2015_03_neg = '\\n'.join(df_2015_03_neg_sample['text'].astype(str))"
   ]
  },
  {
   "cell_type": "markdown",
   "id": "677054ce",
   "metadata": {},
   "source": [
    "### Prompts and loops"
   ]
  },
  {
   "cell_type": "code",
   "execution_count": 40,
   "id": "3e74eba3",
   "metadata": {},
   "outputs": [],
   "source": [
    "prompt_3 = prompt_raw.replace('TWEETS', text_gpt_2015_03_neg)"
   ]
  },
  {
   "cell_type": "code",
   "execution_count": 41,
   "id": "709224ed",
   "metadata": {
    "scrolled": false
   },
   "outputs": [],
   "source": [
    "response = openai.ChatCompletion.create(\n",
    "    model=\"gpt-4o-mini\",  \n",
    "    messages = [\n",
    "        {\"role\": \"user\", \"content\": prompt_3}\n",
    "    ],\n",
    "    max_tokens=400,  # Maximum number of tokens in the response\n",
    "    temperature=0.7  # Controls the randomness of the output\n",
    ")"
   ]
  },
  {
   "cell_type": "code",
   "execution_count": 42,
   "id": "b8776166",
   "metadata": {},
   "outputs": [
    {
     "data": {
      "text/plain": [
       "'The discussion revolves around various concerns and experiences related to vaccinations. It highlights side effects, public sentiment against HPV vaccines, the lack of vaccines (especially BCG and anti-tuberculosis) in Brazil, and tragic incidents linked to vaccination campaigns, including attacks on vaccination efforts. Reactions range from fear and skepticism to frustration over vaccine shortages and government negligence.'"
      ]
     },
     "execution_count": 42,
     "metadata": {},
     "output_type": "execute_result"
    }
   ],
   "source": [
    "response.choices[0].message.content"
   ]
  },
  {
   "cell_type": "code",
   "execution_count": 43,
   "id": "f03966cf",
   "metadata": {},
   "outputs": [],
   "source": [
    "#summary = []\n",
    "#dataset = []"
   ]
  },
  {
   "cell_type": "code",
   "execution_count": 44,
   "id": "bde868f6",
   "metadata": {},
   "outputs": [],
   "source": [
    "dataset.append(\"2015_03_negitive\")"
   ]
  },
  {
   "cell_type": "code",
   "execution_count": 45,
   "id": "7a940cb2",
   "metadata": {},
   "outputs": [],
   "source": [
    "summary.append(response.choices[0].message.content)"
   ]
  },
  {
   "cell_type": "code",
   "execution_count": 46,
   "id": "fdf1b907",
   "metadata": {
    "tags": []
   },
   "outputs": [
    {
     "name": "stdout",
     "output_type": "stream",
     "text": [
      "<class 'pandas.core.frame.DataFrame'>\n",
      "RangeIndex: 3 entries, 0 to 2\n",
      "Data columns (total 2 columns):\n",
      " #   Column   Non-Null Count  Dtype \n",
      "---  ------   --------------  ----- \n",
      " 0   dataset  3 non-null      object\n",
      " 1   summary  3 non-null      object\n",
      "dtypes: object(2)\n",
      "memory usage: 176.0+ bytes\n"
     ]
    }
   ],
   "source": [
    "df_2015_neg = pd.DataFrame(list(zip(dataset, summary)),\n",
    "                            columns = ['dataset', 'summary'])\n",
    "df_2015_neg.info()"
   ]
  },
  {
   "cell_type": "code",
   "execution_count": 47,
   "id": "b44227e1",
   "metadata": {},
   "outputs": [
    {
     "data": {
      "text/html": [
       "<div>\n",
       "<style scoped>\n",
       "    .dataframe tbody tr th:only-of-type {\n",
       "        vertical-align: middle;\n",
       "    }\n",
       "\n",
       "    .dataframe tbody tr th {\n",
       "        vertical-align: top;\n",
       "    }\n",
       "\n",
       "    .dataframe thead th {\n",
       "        text-align: right;\n",
       "    }\n",
       "</style>\n",
       "<table border=\"1\" class=\"dataframe\">\n",
       "  <thead>\n",
       "    <tr style=\"text-align: right;\">\n",
       "      <th></th>\n",
       "      <th>dataset</th>\n",
       "      <th>summary</th>\n",
       "    </tr>\n",
       "  </thead>\n",
       "  <tbody>\n",
       "    <tr>\n",
       "      <th>0</th>\n",
       "      <td>2015_01_negitive</td>\n",
       "      <td>The text reflects a widespread frustration and...</td>\n",
       "    </tr>\n",
       "    <tr>\n",
       "      <th>1</th>\n",
       "      <td>2015_02_negitive</td>\n",
       "      <td>The selected texts express a mix of opinions a...</td>\n",
       "    </tr>\n",
       "    <tr>\n",
       "      <th>2</th>\n",
       "      <td>2015_03_negitive</td>\n",
       "      <td>The discussion revolves around various concern...</td>\n",
       "    </tr>\n",
       "  </tbody>\n",
       "</table>\n",
       "</div>"
      ],
      "text/plain": [
       "            dataset                                            summary\n",
       "0  2015_01_negitive  The text reflects a widespread frustration and...\n",
       "1  2015_02_negitive  The selected texts express a mix of opinions a...\n",
       "2  2015_03_negitive  The discussion revolves around various concern..."
      ]
     },
     "execution_count": 47,
     "metadata": {},
     "output_type": "execute_result"
    }
   ],
   "source": [
    "df_2015_neg.tail(14)"
   ]
  },
  {
   "cell_type": "code",
   "execution_count": 48,
   "id": "8528ad17",
   "metadata": {},
   "outputs": [
    {
     "data": {
      "text/plain": [
       "<OpenAIObject chat.completion id=chatcmpl-AUd46JO1UcsUZgtjGmjuB5bHEhtkl at 0x24359ce2d10> JSON: {\n",
       "  \"choices\": [\n",
       "    {\n",
       "      \"finish_reason\": \"stop\",\n",
       "      \"index\": 0,\n",
       "      \"logprobs\": null,\n",
       "      \"message\": {\n",
       "        \"content\": \"The discussion revolves around various concerns and experiences related to vaccinations. It highlights side effects, public sentiment against HPV vaccines, the lack of vaccines (especially BCG and anti-tuberculosis) in Brazil, and tragic incidents linked to vaccination campaigns, including attacks on vaccination efforts. Reactions range from fear and skepticism to frustration over vaccine shortages and government negligence.\",\n",
       "        \"refusal\": null,\n",
       "        \"role\": \"assistant\"\n",
       "      }\n",
       "    }\n",
       "  ],\n",
       "  \"created\": 1731863370,\n",
       "  \"id\": \"chatcmpl-AUd46JO1UcsUZgtjGmjuB5bHEhtkl\",\n",
       "  \"model\": \"gpt-4o-mini-2024-07-18\",\n",
       "  \"object\": \"chat.completion\",\n",
       "  \"system_fingerprint\": \"fp_0ba0d124f1\",\n",
       "  \"usage\": {\n",
       "    \"completion_tokens\": 70,\n",
       "    \"completion_tokens_details\": {\n",
       "      \"accepted_prediction_tokens\": 0,\n",
       "      \"audio_tokens\": 0,\n",
       "      \"reasoning_tokens\": 0,\n",
       "      \"rejected_prediction_tokens\": 0\n",
       "    },\n",
       "    \"prompt_tokens\": 16452,\n",
       "    \"prompt_tokens_details\": {\n",
       "      \"audio_tokens\": 0,\n",
       "      \"cached_tokens\": 0\n",
       "    },\n",
       "    \"total_tokens\": 16522\n",
       "  }\n",
       "}"
      ]
     },
     "execution_count": 48,
     "metadata": {},
     "output_type": "execute_result"
    }
   ],
   "source": [
    "response"
   ]
  },
  {
   "cell_type": "markdown",
   "id": "a57159e2",
   "metadata": {},
   "source": [
    "## April"
   ]
  },
  {
   "cell_type": "code",
   "execution_count": 49,
   "id": "b84f949f",
   "metadata": {
    "scrolled": true,
    "tags": []
   },
   "outputs": [
    {
     "name": "stdout",
     "output_type": "stream",
     "text": [
      "<class 'pandas.core.frame.DataFrame'>\n",
      "RangeIndex: 664 entries, 0 to 663\n",
      "Data columns (total 53 columns):\n",
      " #   Column                  Non-Null Count  Dtype  \n",
      "---  ------                  --------------  -----  \n",
      " 0   index                   664 non-null    int64  \n",
      " 1   LocationCode            664 non-null    object \n",
      " 2   LocationName            664 non-null    object \n",
      " 3   StatesCode              664 non-null    object \n",
      " 4   ...4                    664 non-null    int64  \n",
      " 5   id                      664 non-null    float64\n",
      " 6   text                    664 non-null    object \n",
      " 7   label                   664 non-null    object \n",
      " 8   in_reply_to_status_id   67 non-null     float64\n",
      " 9   in_reply_to_user_id     72 non-null     float64\n",
      " 10  quoted_user_id          0 non-null      float64\n",
      " 11  quoted_status_id        0 non-null      float64\n",
      " 12  retweeted_user_id       107 non-null    float64\n",
      " 13  retweeted_status_id     107 non-null    float64\n",
      " 14  created_at              664 non-null    object \n",
      " 15  entities.user_mentions  194 non-null    object \n",
      " 16  user.id                 664 non-null    int64  \n",
      " 17  user.screen_name        664 non-null    object \n",
      " 18  user.name               664 non-null    object \n",
      " 19  user.description        561 non-null    object \n",
      " 20  user.timezone           0 non-null      float64\n",
      " 21  user.location           642 non-null    object \n",
      " 22  user.num_followers      664 non-null    int64  \n",
      " 23  user.num_following      664 non-null    int64  \n",
      " 24  user.created_at         664 non-null    object \n",
      " 25  user.statuses_count     664 non-null    int64  \n",
      " 26  user.is_verified        664 non-null    bool   \n",
      " 27  lang                    664 non-null    object \n",
      " 28  token_count             664 non-null    int64  \n",
      " 29  is_retweet              664 non-null    bool   \n",
      " 30  has_quote               664 non-null    bool   \n",
      " 31  is_reply                664 non-null    bool   \n",
      " 32  contains_keywords       664 non-null    bool   \n",
      " 33  longitude               664 non-null    float64\n",
      " 34  latitude                664 non-null    float64\n",
      " 35  country_code            664 non-null    object \n",
      " 36  geoname_id              598 non-null    float64\n",
      " 37  location_type           664 non-null    object \n",
      " 38  geo_type                664 non-null    int64  \n",
      " 39  region                  664 non-null    object \n",
      " 40  subregion               664 non-null    object \n",
      " 41  num_quotes              664 non-null    int64  \n",
      " 42  num_replies             664 non-null    int64  \n",
      " 43  num_retweets            664 non-null    int64  \n",
      " 44  sent_gpt                664 non-null    object \n",
      " 45  gpt_sent_presence       664 non-null    int64  \n",
      " 46  cleaned_text_lem        664 non-null    object \n",
      " 47  cleaned_text            664 non-null    object \n",
      " 48  month                   664 non-null    int64  \n",
      " 49  year                    664 non-null    int64  \n",
      " 50  week                    664 non-null    int64  \n",
      " 51  year_month              664 non-null    object \n",
      " 52  year_week               664 non-null    object \n",
      "dtypes: bool(5), float64(11), int64(15), object(22)\n",
      "memory usage: 252.4+ KB\n"
     ]
    }
   ],
   "source": [
    "# Get monthly data\n",
    "df_2015_04_neg = pd.read_csv('../data/local/df_neg_2015-04.csv').reset_index()\n",
    "df_2015_04_neg.info()"
   ]
  },
  {
   "cell_type": "markdown",
   "id": "66b76111",
   "metadata": {},
   "source": [
    "### Representative sample based on week and location"
   ]
  },
  {
   "cell_type": "code",
   "execution_count": 50,
   "id": "e2923a82",
   "metadata": {},
   "outputs": [
    {
     "data": {
      "text/html": [
       "<div>\n",
       "<style scoped>\n",
       "    .dataframe tbody tr th:only-of-type {\n",
       "        vertical-align: middle;\n",
       "    }\n",
       "\n",
       "    .dataframe tbody tr th {\n",
       "        vertical-align: top;\n",
       "    }\n",
       "\n",
       "    .dataframe thead th {\n",
       "        text-align: right;\n",
       "    }\n",
       "</style>\n",
       "<table border=\"1\" class=\"dataframe\">\n",
       "  <thead>\n",
       "    <tr style=\"text-align: right;\">\n",
       "      <th></th>\n",
       "      <th>year_week</th>\n",
       "      <th>LocationName</th>\n",
       "      <th>group_size</th>\n",
       "      <th>proportion</th>\n",
       "    </tr>\n",
       "  </thead>\n",
       "  <tbody>\n",
       "    <tr>\n",
       "      <th>0</th>\n",
       "      <td>2015-w13</td>\n",
       "      <td>Acre</td>\n",
       "      <td>2</td>\n",
       "      <td>0.003012</td>\n",
       "    </tr>\n",
       "    <tr>\n",
       "      <th>1</th>\n",
       "      <td>2015-w13</td>\n",
       "      <td>Bahia</td>\n",
       "      <td>1</td>\n",
       "      <td>0.001506</td>\n",
       "    </tr>\n",
       "    <tr>\n",
       "      <th>2</th>\n",
       "      <td>2015-w13</td>\n",
       "      <td>Ceara</td>\n",
       "      <td>3</td>\n",
       "      <td>0.004518</td>\n",
       "    </tr>\n",
       "    <tr>\n",
       "      <th>3</th>\n",
       "      <td>2015-w13</td>\n",
       "      <td>Distrito Federal</td>\n",
       "      <td>2</td>\n",
       "      <td>0.003012</td>\n",
       "    </tr>\n",
       "    <tr>\n",
       "      <th>4</th>\n",
       "      <td>2015-w13</td>\n",
       "      <td>Maranhao</td>\n",
       "      <td>3</td>\n",
       "      <td>0.004518</td>\n",
       "    </tr>\n",
       "    <tr>\n",
       "      <th>...</th>\n",
       "      <td>...</td>\n",
       "      <td>...</td>\n",
       "      <td>...</td>\n",
       "      <td>...</td>\n",
       "    </tr>\n",
       "    <tr>\n",
       "      <th>81</th>\n",
       "      <td>2015-w18</td>\n",
       "      <td>Minas Gerais</td>\n",
       "      <td>8</td>\n",
       "      <td>0.012048</td>\n",
       "    </tr>\n",
       "    <tr>\n",
       "      <th>82</th>\n",
       "      <td>2015-w18</td>\n",
       "      <td>Paraiba</td>\n",
       "      <td>4</td>\n",
       "      <td>0.006024</td>\n",
       "    </tr>\n",
       "    <tr>\n",
       "      <th>83</th>\n",
       "      <td>2015-w18</td>\n",
       "      <td>Parana</td>\n",
       "      <td>3</td>\n",
       "      <td>0.004518</td>\n",
       "    </tr>\n",
       "    <tr>\n",
       "      <th>84</th>\n",
       "      <td>2015-w18</td>\n",
       "      <td>Rio Grande Do Sul</td>\n",
       "      <td>11</td>\n",
       "      <td>0.016566</td>\n",
       "    </tr>\n",
       "    <tr>\n",
       "      <th>85</th>\n",
       "      <td>2015-w18</td>\n",
       "      <td>Sao Paulo</td>\n",
       "      <td>7</td>\n",
       "      <td>0.010542</td>\n",
       "    </tr>\n",
       "  </tbody>\n",
       "</table>\n",
       "<p>86 rows × 4 columns</p>\n",
       "</div>"
      ],
      "text/plain": [
       "   year_week       LocationName  group_size  proportion\n",
       "0   2015-w13               Acre           2    0.003012\n",
       "1   2015-w13              Bahia           1    0.001506\n",
       "2   2015-w13              Ceara           3    0.004518\n",
       "3   2015-w13   Distrito Federal           2    0.003012\n",
       "4   2015-w13           Maranhao           3    0.004518\n",
       "..       ...                ...         ...         ...\n",
       "81  2015-w18       Minas Gerais           8    0.012048\n",
       "82  2015-w18            Paraiba           4    0.006024\n",
       "83  2015-w18             Parana           3    0.004518\n",
       "84  2015-w18  Rio Grande Do Sul          11    0.016566\n",
       "85  2015-w18          Sao Paulo           7    0.010542\n",
       "\n",
       "[86 rows x 4 columns]"
      ]
     },
     "execution_count": 50,
     "metadata": {},
     "output_type": "execute_result"
    }
   ],
   "source": [
    "# Step 1: Calculate the size of each group (year_week, LocationName)\n",
    "group_sizes = df_2015_04_neg.groupby(['year_week', 'LocationName']).size().reset_index(name='group_size')\n",
    "\n",
    "# Step 2: Calculate the proportion of each group in the dataset\n",
    "total_rows = len(df_2015_04_neg)\n",
    "group_sizes['proportion'] = group_sizes['group_size'] / total_rows\n",
    "group_sizes"
   ]
  },
  {
   "cell_type": "code",
   "execution_count": 51,
   "id": "5e52798c",
   "metadata": {},
   "outputs": [
    {
     "data": {
      "text/html": [
       "<div>\n",
       "<style scoped>\n",
       "    .dataframe tbody tr th:only-of-type {\n",
       "        vertical-align: middle;\n",
       "    }\n",
       "\n",
       "    .dataframe tbody tr th {\n",
       "        vertical-align: top;\n",
       "    }\n",
       "\n",
       "    .dataframe thead th {\n",
       "        text-align: right;\n",
       "    }\n",
       "</style>\n",
       "<table border=\"1\" class=\"dataframe\">\n",
       "  <thead>\n",
       "    <tr style=\"text-align: right;\">\n",
       "      <th></th>\n",
       "      <th>year_week</th>\n",
       "      <th>LocationName</th>\n",
       "      <th>group_size</th>\n",
       "      <th>proportion</th>\n",
       "      <th>sample_size</th>\n",
       "    </tr>\n",
       "  </thead>\n",
       "  <tbody>\n",
       "    <tr>\n",
       "      <th>0</th>\n",
       "      <td>2015-w13</td>\n",
       "      <td>Acre</td>\n",
       "      <td>2</td>\n",
       "      <td>0.003012</td>\n",
       "      <td>7</td>\n",
       "    </tr>\n",
       "    <tr>\n",
       "      <th>1</th>\n",
       "      <td>2015-w13</td>\n",
       "      <td>Bahia</td>\n",
       "      <td>1</td>\n",
       "      <td>0.001506</td>\n",
       "      <td>3</td>\n",
       "    </tr>\n",
       "    <tr>\n",
       "      <th>2</th>\n",
       "      <td>2015-w13</td>\n",
       "      <td>Ceara</td>\n",
       "      <td>3</td>\n",
       "      <td>0.004518</td>\n",
       "      <td>11</td>\n",
       "    </tr>\n",
       "    <tr>\n",
       "      <th>3</th>\n",
       "      <td>2015-w13</td>\n",
       "      <td>Distrito Federal</td>\n",
       "      <td>2</td>\n",
       "      <td>0.003012</td>\n",
       "      <td>7</td>\n",
       "    </tr>\n",
       "    <tr>\n",
       "      <th>4</th>\n",
       "      <td>2015-w13</td>\n",
       "      <td>Maranhao</td>\n",
       "      <td>3</td>\n",
       "      <td>0.004518</td>\n",
       "      <td>11</td>\n",
       "    </tr>\n",
       "    <tr>\n",
       "      <th>...</th>\n",
       "      <td>...</td>\n",
       "      <td>...</td>\n",
       "      <td>...</td>\n",
       "      <td>...</td>\n",
       "      <td>...</td>\n",
       "    </tr>\n",
       "    <tr>\n",
       "      <th>81</th>\n",
       "      <td>2015-w18</td>\n",
       "      <td>Minas Gerais</td>\n",
       "      <td>8</td>\n",
       "      <td>0.012048</td>\n",
       "      <td>29</td>\n",
       "    </tr>\n",
       "    <tr>\n",
       "      <th>82</th>\n",
       "      <td>2015-w18</td>\n",
       "      <td>Paraiba</td>\n",
       "      <td>4</td>\n",
       "      <td>0.006024</td>\n",
       "      <td>14</td>\n",
       "    </tr>\n",
       "    <tr>\n",
       "      <th>83</th>\n",
       "      <td>2015-w18</td>\n",
       "      <td>Parana</td>\n",
       "      <td>3</td>\n",
       "      <td>0.004518</td>\n",
       "      <td>11</td>\n",
       "    </tr>\n",
       "    <tr>\n",
       "      <th>84</th>\n",
       "      <td>2015-w18</td>\n",
       "      <td>Rio Grande Do Sul</td>\n",
       "      <td>11</td>\n",
       "      <td>0.016566</td>\n",
       "      <td>40</td>\n",
       "    </tr>\n",
       "    <tr>\n",
       "      <th>85</th>\n",
       "      <td>2015-w18</td>\n",
       "      <td>Sao Paulo</td>\n",
       "      <td>7</td>\n",
       "      <td>0.010542</td>\n",
       "      <td>25</td>\n",
       "    </tr>\n",
       "  </tbody>\n",
       "</table>\n",
       "<p>86 rows × 5 columns</p>\n",
       "</div>"
      ],
      "text/plain": [
       "   year_week       LocationName  group_size  proportion  sample_size\n",
       "0   2015-w13               Acre           2    0.003012            7\n",
       "1   2015-w13              Bahia           1    0.001506            3\n",
       "2   2015-w13              Ceara           3    0.004518           11\n",
       "3   2015-w13   Distrito Federal           2    0.003012            7\n",
       "4   2015-w13           Maranhao           3    0.004518           11\n",
       "..       ...                ...         ...         ...          ...\n",
       "81  2015-w18       Minas Gerais           8    0.012048           29\n",
       "82  2015-w18            Paraiba           4    0.006024           14\n",
       "83  2015-w18             Parana           3    0.004518           11\n",
       "84  2015-w18  Rio Grande Do Sul          11    0.016566           40\n",
       "85  2015-w18          Sao Paulo           7    0.010542           25\n",
       "\n",
       "[86 rows x 5 columns]"
      ]
     },
     "execution_count": 51,
     "metadata": {},
     "output_type": "execute_result"
    }
   ],
   "source": [
    "# Step 3: Define the target sample size\n",
    "target_sample_size = 2450\n",
    "\n",
    "# Step 4: Calculate the sample size for each group (based on its proportion)\n",
    "group_sizes['sample_size'] = np.floor(group_sizes['proportion'] * target_sample_size).astype(int)\n",
    "group_sizes"
   ]
  },
  {
   "cell_type": "code",
   "execution_count": 52,
   "id": "c66b1eeb",
   "metadata": {},
   "outputs": [],
   "source": [
    "# Step 5: Merge this sample size information back to the original DataFrame\n",
    "df_2015_04_neg_sample_size = pd.merge(df_2015_04_neg, group_sizes[['year_week', 'LocationName', 'sample_size']], \n",
    "                               on=['year_week', 'LocationName'], how='left')"
   ]
  },
  {
   "cell_type": "code",
   "execution_count": 54,
   "id": "53f14ba0",
   "metadata": {},
   "outputs": [
    {
     "name": "stdout",
     "output_type": "stream",
     "text": [
      "Sampled 664 rows.\n"
     ]
    }
   ],
   "source": [
    "# Step 6: Perform the stratified sampling\n",
    "#df_2015_04_neg_sample = df_2015_04_neg_sample_size.groupby(['year_week', 'LocationName']).apply(\n",
    " #   lambda group: group.sample(n=group['sample_size'].iloc[0], random_state=42)\n",
    "#).reset_index(drop=True)\n",
    "df_2015_04_neg_sample = df_2015_04_neg\n",
    "# Step 7: Check the result\n",
    "print(f\"Sampled {len(df_2015_04_neg_sample)} rows.\")\n"
   ]
  },
  {
   "cell_type": "code",
   "execution_count": 55,
   "id": "480bf650",
   "metadata": {},
   "outputs": [],
   "source": [
    "text_gpt_2015_04_neg = '\\n'.join(df_2015_04_neg_sample['text'].astype(str))"
   ]
  },
  {
   "cell_type": "markdown",
   "id": "08689181",
   "metadata": {},
   "source": [
    "### Prompts and loops"
   ]
  },
  {
   "cell_type": "code",
   "execution_count": 56,
   "id": "3d2f9387",
   "metadata": {},
   "outputs": [],
   "source": [
    "prompt_4 = prompt_raw.replace('TWEETS', text_gpt_2015_04_neg)"
   ]
  },
  {
   "cell_type": "code",
   "execution_count": 57,
   "id": "6bf06ef1",
   "metadata": {
    "scrolled": false
   },
   "outputs": [],
   "source": [
    "response = openai.ChatCompletion.create(\n",
    "    model=\"gpt-4o-mini\",  \n",
    "    messages = [\n",
    "        {\"role\": \"user\", \"content\": prompt_4}\n",
    "    ],\n",
    "    max_tokens=400,  # Maximum number of tokens in the response\n",
    "    temperature=0.7  # Controls the randomness of the output\n",
    ")"
   ]
  },
  {
   "cell_type": "code",
   "execution_count": 58,
   "id": "2c572149",
   "metadata": {},
   "outputs": [
    {
     "data": {
      "text/plain": [
       "'The sentences express various opinions and experiences regarding vaccinations, highlighting discomfort and fear associated with them. There are mentions of specific vaccines like HPV and tetanus, concerns about side effects, and instances of people avoiding vaccination. Some express distrust in vaccines, linking them to government scandals or personal anecdotes, while others note incidents of vaccine shortages and criminal activities at vaccination clinics.'"
      ]
     },
     "execution_count": 58,
     "metadata": {},
     "output_type": "execute_result"
    }
   ],
   "source": [
    "response.choices[0].message.content"
   ]
  },
  {
   "cell_type": "code",
   "execution_count": 59,
   "id": "e3b9c3a6",
   "metadata": {},
   "outputs": [],
   "source": [
    "#summary = []\n",
    "#dataset = []"
   ]
  },
  {
   "cell_type": "code",
   "execution_count": 60,
   "id": "87ae0b14",
   "metadata": {},
   "outputs": [],
   "source": [
    "dataset.append(\"2015_04_negitive\")"
   ]
  },
  {
   "cell_type": "code",
   "execution_count": 61,
   "id": "265b4d20",
   "metadata": {},
   "outputs": [],
   "source": [
    "summary.append(response.choices[0].message.content)"
   ]
  },
  {
   "cell_type": "code",
   "execution_count": 62,
   "id": "b2c62be9",
   "metadata": {
    "tags": []
   },
   "outputs": [
    {
     "name": "stdout",
     "output_type": "stream",
     "text": [
      "<class 'pandas.core.frame.DataFrame'>\n",
      "RangeIndex: 4 entries, 0 to 3\n",
      "Data columns (total 2 columns):\n",
      " #   Column   Non-Null Count  Dtype \n",
      "---  ------   --------------  ----- \n",
      " 0   dataset  4 non-null      object\n",
      " 1   summary  4 non-null      object\n",
      "dtypes: object(2)\n",
      "memory usage: 192.0+ bytes\n"
     ]
    }
   ],
   "source": [
    "df_2015_neg = pd.DataFrame(list(zip(dataset, summary)),\n",
    "                            columns = ['dataset', 'summary'])\n",
    "df_2015_neg.info()"
   ]
  },
  {
   "cell_type": "code",
   "execution_count": 63,
   "id": "53fcd76e",
   "metadata": {},
   "outputs": [
    {
     "data": {
      "text/html": [
       "<div>\n",
       "<style scoped>\n",
       "    .dataframe tbody tr th:only-of-type {\n",
       "        vertical-align: middle;\n",
       "    }\n",
       "\n",
       "    .dataframe tbody tr th {\n",
       "        vertical-align: top;\n",
       "    }\n",
       "\n",
       "    .dataframe thead th {\n",
       "        text-align: right;\n",
       "    }\n",
       "</style>\n",
       "<table border=\"1\" class=\"dataframe\">\n",
       "  <thead>\n",
       "    <tr style=\"text-align: right;\">\n",
       "      <th></th>\n",
       "      <th>dataset</th>\n",
       "      <th>summary</th>\n",
       "    </tr>\n",
       "  </thead>\n",
       "  <tbody>\n",
       "    <tr>\n",
       "      <th>0</th>\n",
       "      <td>2015_01_negitive</td>\n",
       "      <td>The text reflects a widespread frustration and...</td>\n",
       "    </tr>\n",
       "    <tr>\n",
       "      <th>1</th>\n",
       "      <td>2015_02_negitive</td>\n",
       "      <td>The selected texts express a mix of opinions a...</td>\n",
       "    </tr>\n",
       "    <tr>\n",
       "      <th>2</th>\n",
       "      <td>2015_03_negitive</td>\n",
       "      <td>The discussion revolves around various concern...</td>\n",
       "    </tr>\n",
       "    <tr>\n",
       "      <th>3</th>\n",
       "      <td>2015_04_negitive</td>\n",
       "      <td>The sentences express various opinions and exp...</td>\n",
       "    </tr>\n",
       "  </tbody>\n",
       "</table>\n",
       "</div>"
      ],
      "text/plain": [
       "            dataset                                            summary\n",
       "0  2015_01_negitive  The text reflects a widespread frustration and...\n",
       "1  2015_02_negitive  The selected texts express a mix of opinions a...\n",
       "2  2015_03_negitive  The discussion revolves around various concern...\n",
       "3  2015_04_negitive  The sentences express various opinions and exp..."
      ]
     },
     "execution_count": 63,
     "metadata": {},
     "output_type": "execute_result"
    }
   ],
   "source": [
    "df_2015_neg.tail(14)"
   ]
  },
  {
   "cell_type": "code",
   "execution_count": 64,
   "id": "9bc8461d",
   "metadata": {},
   "outputs": [
    {
     "data": {
      "text/plain": [
       "<OpenAIObject chat.completion id=chatcmpl-AUd4gYniLaiRrJwaReMMKmhMEKaSL at 0x2435e3b4f90> JSON: {\n",
       "  \"choices\": [\n",
       "    {\n",
       "      \"finish_reason\": \"stop\",\n",
       "      \"index\": 0,\n",
       "      \"logprobs\": null,\n",
       "      \"message\": {\n",
       "        \"content\": \"The sentences express various opinions and experiences regarding vaccinations, highlighting discomfort and fear associated with them. There are mentions of specific vaccines like HPV and tetanus, concerns about side effects, and instances of people avoiding vaccination. Some express distrust in vaccines, linking them to government scandals or personal anecdotes, while others note incidents of vaccine shortages and criminal activities at vaccination clinics.\",\n",
       "        \"refusal\": null,\n",
       "        \"role\": \"assistant\"\n",
       "      }\n",
       "    }\n",
       "  ],\n",
       "  \"created\": 1731863406,\n",
       "  \"id\": \"chatcmpl-AUd4gYniLaiRrJwaReMMKmhMEKaSL\",\n",
       "  \"model\": \"gpt-4o-mini-2024-07-18\",\n",
       "  \"object\": \"chat.completion\",\n",
       "  \"system_fingerprint\": \"fp_0ba0d124f1\",\n",
       "  \"usage\": {\n",
       "    \"completion_tokens\": 71,\n",
       "    \"completion_tokens_details\": {\n",
       "      \"accepted_prediction_tokens\": 0,\n",
       "      \"audio_tokens\": 0,\n",
       "      \"reasoning_tokens\": 0,\n",
       "      \"rejected_prediction_tokens\": 0\n",
       "    },\n",
       "    \"prompt_tokens\": 14639,\n",
       "    \"prompt_tokens_details\": {\n",
       "      \"audio_tokens\": 0,\n",
       "      \"cached_tokens\": 0\n",
       "    },\n",
       "    \"total_tokens\": 14710\n",
       "  }\n",
       "}"
      ]
     },
     "execution_count": 64,
     "metadata": {},
     "output_type": "execute_result"
    }
   ],
   "source": [
    "response"
   ]
  },
  {
   "cell_type": "markdown",
   "id": "e492f6d4",
   "metadata": {},
   "source": [
    "## May"
   ]
  },
  {
   "cell_type": "code",
   "execution_count": 65,
   "id": "f38b435e",
   "metadata": {
    "scrolled": true,
    "tags": []
   },
   "outputs": [
    {
     "name": "stdout",
     "output_type": "stream",
     "text": [
      "<class 'pandas.core.frame.DataFrame'>\n",
      "RangeIndex: 2245 entries, 0 to 2244\n",
      "Data columns (total 53 columns):\n",
      " #   Column                  Non-Null Count  Dtype  \n",
      "---  ------                  --------------  -----  \n",
      " 0   index                   2245 non-null   int64  \n",
      " 1   LocationCode            2245 non-null   object \n",
      " 2   LocationName            2245 non-null   object \n",
      " 3   StatesCode              2245 non-null   object \n",
      " 4   ...4                    2245 non-null   int64  \n",
      " 5   id                      2245 non-null   float64\n",
      " 6   text                    2245 non-null   object \n",
      " 7   label                   2245 non-null   object \n",
      " 8   in_reply_to_status_id   174 non-null    float64\n",
      " 9   in_reply_to_user_id     191 non-null    float64\n",
      " 10  quoted_user_id          2 non-null      float64\n",
      " 11  quoted_status_id        2 non-null      float64\n",
      " 12  retweeted_user_id       197 non-null    float64\n",
      " 13  retweeted_status_id     197 non-null    float64\n",
      " 14  created_at              2245 non-null   object \n",
      " 15  entities.user_mentions  434 non-null    object \n",
      " 16  user.id                 2245 non-null   int64  \n",
      " 17  user.screen_name        2245 non-null   object \n",
      " 18  user.name               2245 non-null   object \n",
      " 19  user.description        1991 non-null   object \n",
      " 20  user.timezone           0 non-null      float64\n",
      " 21  user.location           2047 non-null   object \n",
      " 22  user.num_followers      2245 non-null   int64  \n",
      " 23  user.num_following      2245 non-null   int64  \n",
      " 24  user.created_at         2245 non-null   object \n",
      " 25  user.statuses_count     2245 non-null   int64  \n",
      " 26  user.is_verified        2245 non-null   bool   \n",
      " 27  lang                    2245 non-null   object \n",
      " 28  token_count             2245 non-null   int64  \n",
      " 29  is_retweet              2245 non-null   bool   \n",
      " 30  has_quote               2245 non-null   bool   \n",
      " 31  is_reply                2245 non-null   bool   \n",
      " 32  contains_keywords       2245 non-null   bool   \n",
      " 33  longitude               2245 non-null   float64\n",
      " 34  latitude                2245 non-null   float64\n",
      " 35  country_code            2245 non-null   object \n",
      " 36  geoname_id              1665 non-null   float64\n",
      " 37  location_type           2245 non-null   object \n",
      " 38  geo_type                2245 non-null   int64  \n",
      " 39  region                  2245 non-null   object \n",
      " 40  subregion               2245 non-null   object \n",
      " 41  num_quotes              2245 non-null   int64  \n",
      " 42  num_replies             2245 non-null   int64  \n",
      " 43  num_retweets            2245 non-null   int64  \n",
      " 44  sent_gpt                2245 non-null   object \n",
      " 45  gpt_sent_presence       2245 non-null   int64  \n",
      " 46  cleaned_text_lem        2245 non-null   object \n",
      " 47  cleaned_text            2245 non-null   object \n",
      " 48  month                   2245 non-null   int64  \n",
      " 49  year                    2245 non-null   int64  \n",
      " 50  week                    2245 non-null   int64  \n",
      " 51  year_month              2245 non-null   object \n",
      " 52  year_week               2245 non-null   object \n",
      "dtypes: bool(5), float64(11), int64(15), object(22)\n",
      "memory usage: 853.0+ KB\n"
     ]
    }
   ],
   "source": [
    "# Get monthly data\n",
    "df_2015_05_neg = pd.read_csv('../data/local/df_neg_2015-05.csv').reset_index()\n",
    "df_2015_05_neg.info()"
   ]
  },
  {
   "cell_type": "markdown",
   "id": "67e6748f",
   "metadata": {},
   "source": [
    "### Representative sample based on week and location"
   ]
  },
  {
   "cell_type": "code",
   "execution_count": 66,
   "id": "744659bb",
   "metadata": {},
   "outputs": [
    {
     "data": {
      "text/html": [
       "<div>\n",
       "<style scoped>\n",
       "    .dataframe tbody tr th:only-of-type {\n",
       "        vertical-align: middle;\n",
       "    }\n",
       "\n",
       "    .dataframe tbody tr th {\n",
       "        vertical-align: top;\n",
       "    }\n",
       "\n",
       "    .dataframe thead th {\n",
       "        text-align: right;\n",
       "    }\n",
       "</style>\n",
       "<table border=\"1\" class=\"dataframe\">\n",
       "  <thead>\n",
       "    <tr style=\"text-align: right;\">\n",
       "      <th></th>\n",
       "      <th>year_week</th>\n",
       "      <th>LocationName</th>\n",
       "      <th>group_size</th>\n",
       "      <th>proportion</th>\n",
       "    </tr>\n",
       "  </thead>\n",
       "  <tbody>\n",
       "    <tr>\n",
       "      <th>0</th>\n",
       "      <td>2015-w18</td>\n",
       "      <td>Alagoas</td>\n",
       "      <td>7</td>\n",
       "      <td>0.003118</td>\n",
       "    </tr>\n",
       "    <tr>\n",
       "      <th>1</th>\n",
       "      <td>2015-w18</td>\n",
       "      <td>Amapa</td>\n",
       "      <td>1</td>\n",
       "      <td>0.000445</td>\n",
       "    </tr>\n",
       "    <tr>\n",
       "      <th>2</th>\n",
       "      <td>2015-w18</td>\n",
       "      <td>Amazonas</td>\n",
       "      <td>5</td>\n",
       "      <td>0.002227</td>\n",
       "    </tr>\n",
       "    <tr>\n",
       "      <th>3</th>\n",
       "      <td>2015-w18</td>\n",
       "      <td>Bahia</td>\n",
       "      <td>15</td>\n",
       "      <td>0.006682</td>\n",
       "    </tr>\n",
       "    <tr>\n",
       "      <th>4</th>\n",
       "      <td>2015-w18</td>\n",
       "      <td>Ceara</td>\n",
       "      <td>6</td>\n",
       "      <td>0.002673</td>\n",
       "    </tr>\n",
       "    <tr>\n",
       "      <th>...</th>\n",
       "      <td>...</td>\n",
       "      <td>...</td>\n",
       "      <td>...</td>\n",
       "      <td>...</td>\n",
       "    </tr>\n",
       "    <tr>\n",
       "      <th>109</th>\n",
       "      <td>2015-w22</td>\n",
       "      <td>Rio De Janeiro</td>\n",
       "      <td>2</td>\n",
       "      <td>0.000891</td>\n",
       "    </tr>\n",
       "    <tr>\n",
       "      <th>110</th>\n",
       "      <td>2015-w22</td>\n",
       "      <td>Rio Grande Do Sul</td>\n",
       "      <td>31</td>\n",
       "      <td>0.013808</td>\n",
       "    </tr>\n",
       "    <tr>\n",
       "      <th>111</th>\n",
       "      <td>2015-w22</td>\n",
       "      <td>Santa Catarina</td>\n",
       "      <td>7</td>\n",
       "      <td>0.003118</td>\n",
       "    </tr>\n",
       "    <tr>\n",
       "      <th>112</th>\n",
       "      <td>2015-w22</td>\n",
       "      <td>Sao Paulo</td>\n",
       "      <td>35</td>\n",
       "      <td>0.015590</td>\n",
       "    </tr>\n",
       "    <tr>\n",
       "      <th>113</th>\n",
       "      <td>2015-w22</td>\n",
       "      <td>Sergipe</td>\n",
       "      <td>1</td>\n",
       "      <td>0.000445</td>\n",
       "    </tr>\n",
       "  </tbody>\n",
       "</table>\n",
       "<p>114 rows × 4 columns</p>\n",
       "</div>"
      ],
      "text/plain": [
       "    year_week       LocationName  group_size  proportion\n",
       "0    2015-w18            Alagoas           7    0.003118\n",
       "1    2015-w18              Amapa           1    0.000445\n",
       "2    2015-w18           Amazonas           5    0.002227\n",
       "3    2015-w18              Bahia          15    0.006682\n",
       "4    2015-w18              Ceara           6    0.002673\n",
       "..        ...                ...         ...         ...\n",
       "109  2015-w22     Rio De Janeiro           2    0.000891\n",
       "110  2015-w22  Rio Grande Do Sul          31    0.013808\n",
       "111  2015-w22     Santa Catarina           7    0.003118\n",
       "112  2015-w22          Sao Paulo          35    0.015590\n",
       "113  2015-w22            Sergipe           1    0.000445\n",
       "\n",
       "[114 rows x 4 columns]"
      ]
     },
     "execution_count": 66,
     "metadata": {},
     "output_type": "execute_result"
    }
   ],
   "source": [
    "# Step 1: Calculate the size of each group (year_week, LocationName)\n",
    "group_sizes = df_2015_05_neg.groupby(['year_week', 'LocationName']).size().reset_index(name='group_size')\n",
    "\n",
    "# Step 2: Calculate the proportion of each group in the dataset\n",
    "total_rows = len(df_2015_05_neg)\n",
    "group_sizes['proportion'] = group_sizes['group_size'] / total_rows\n",
    "group_sizes"
   ]
  },
  {
   "cell_type": "code",
   "execution_count": 67,
   "id": "eccffc5e",
   "metadata": {},
   "outputs": [
    {
     "data": {
      "text/html": [
       "<div>\n",
       "<style scoped>\n",
       "    .dataframe tbody tr th:only-of-type {\n",
       "        vertical-align: middle;\n",
       "    }\n",
       "\n",
       "    .dataframe tbody tr th {\n",
       "        vertical-align: top;\n",
       "    }\n",
       "\n",
       "    .dataframe thead th {\n",
       "        text-align: right;\n",
       "    }\n",
       "</style>\n",
       "<table border=\"1\" class=\"dataframe\">\n",
       "  <thead>\n",
       "    <tr style=\"text-align: right;\">\n",
       "      <th></th>\n",
       "      <th>year_week</th>\n",
       "      <th>LocationName</th>\n",
       "      <th>group_size</th>\n",
       "      <th>proportion</th>\n",
       "      <th>sample_size</th>\n",
       "    </tr>\n",
       "  </thead>\n",
       "  <tbody>\n",
       "    <tr>\n",
       "      <th>0</th>\n",
       "      <td>2015-w18</td>\n",
       "      <td>Alagoas</td>\n",
       "      <td>7</td>\n",
       "      <td>0.003118</td>\n",
       "      <td>7</td>\n",
       "    </tr>\n",
       "    <tr>\n",
       "      <th>1</th>\n",
       "      <td>2015-w18</td>\n",
       "      <td>Amapa</td>\n",
       "      <td>1</td>\n",
       "      <td>0.000445</td>\n",
       "      <td>1</td>\n",
       "    </tr>\n",
       "    <tr>\n",
       "      <th>2</th>\n",
       "      <td>2015-w18</td>\n",
       "      <td>Amazonas</td>\n",
       "      <td>5</td>\n",
       "      <td>0.002227</td>\n",
       "      <td>5</td>\n",
       "    </tr>\n",
       "    <tr>\n",
       "      <th>3</th>\n",
       "      <td>2015-w18</td>\n",
       "      <td>Bahia</td>\n",
       "      <td>15</td>\n",
       "      <td>0.006682</td>\n",
       "      <td>16</td>\n",
       "    </tr>\n",
       "    <tr>\n",
       "      <th>4</th>\n",
       "      <td>2015-w18</td>\n",
       "      <td>Ceara</td>\n",
       "      <td>6</td>\n",
       "      <td>0.002673</td>\n",
       "      <td>6</td>\n",
       "    </tr>\n",
       "    <tr>\n",
       "      <th>...</th>\n",
       "      <td>...</td>\n",
       "      <td>...</td>\n",
       "      <td>...</td>\n",
       "      <td>...</td>\n",
       "      <td>...</td>\n",
       "    </tr>\n",
       "    <tr>\n",
       "      <th>109</th>\n",
       "      <td>2015-w22</td>\n",
       "      <td>Rio De Janeiro</td>\n",
       "      <td>2</td>\n",
       "      <td>0.000891</td>\n",
       "      <td>2</td>\n",
       "    </tr>\n",
       "    <tr>\n",
       "      <th>110</th>\n",
       "      <td>2015-w22</td>\n",
       "      <td>Rio Grande Do Sul</td>\n",
       "      <td>31</td>\n",
       "      <td>0.013808</td>\n",
       "      <td>33</td>\n",
       "    </tr>\n",
       "    <tr>\n",
       "      <th>111</th>\n",
       "      <td>2015-w22</td>\n",
       "      <td>Santa Catarina</td>\n",
       "      <td>7</td>\n",
       "      <td>0.003118</td>\n",
       "      <td>7</td>\n",
       "    </tr>\n",
       "    <tr>\n",
       "      <th>112</th>\n",
       "      <td>2015-w22</td>\n",
       "      <td>Sao Paulo</td>\n",
       "      <td>35</td>\n",
       "      <td>0.015590</td>\n",
       "      <td>38</td>\n",
       "    </tr>\n",
       "    <tr>\n",
       "      <th>113</th>\n",
       "      <td>2015-w22</td>\n",
       "      <td>Sergipe</td>\n",
       "      <td>1</td>\n",
       "      <td>0.000445</td>\n",
       "      <td>1</td>\n",
       "    </tr>\n",
       "  </tbody>\n",
       "</table>\n",
       "<p>114 rows × 5 columns</p>\n",
       "</div>"
      ],
      "text/plain": [
       "    year_week       LocationName  group_size  proportion  sample_size\n",
       "0    2015-w18            Alagoas           7    0.003118            7\n",
       "1    2015-w18              Amapa           1    0.000445            1\n",
       "2    2015-w18           Amazonas           5    0.002227            5\n",
       "3    2015-w18              Bahia          15    0.006682           16\n",
       "4    2015-w18              Ceara           6    0.002673            6\n",
       "..        ...                ...         ...         ...          ...\n",
       "109  2015-w22     Rio De Janeiro           2    0.000891            2\n",
       "110  2015-w22  Rio Grande Do Sul          31    0.013808           33\n",
       "111  2015-w22     Santa Catarina           7    0.003118            7\n",
       "112  2015-w22          Sao Paulo          35    0.015590           38\n",
       "113  2015-w22            Sergipe           1    0.000445            1\n",
       "\n",
       "[114 rows x 5 columns]"
      ]
     },
     "execution_count": 67,
     "metadata": {},
     "output_type": "execute_result"
    }
   ],
   "source": [
    "# Step 3: Define the target sample size\n",
    "target_sample_size = 2450\n",
    "\n",
    "# Step 4: Calculate the sample size for each group (based on its proportion)\n",
    "group_sizes['sample_size'] = np.floor(group_sizes['proportion'] * target_sample_size).astype(int)\n",
    "group_sizes"
   ]
  },
  {
   "cell_type": "code",
   "execution_count": 68,
   "id": "1f16b08e",
   "metadata": {},
   "outputs": [],
   "source": [
    "# Step 5: Merge this sample size information back to the original DataFrame\n",
    "df_2015_05_neg_sample_size = pd.merge(df_2015_05_neg, group_sizes[['year_week', 'LocationName', 'sample_size']], \n",
    "                               on=['year_week', 'LocationName'], how='left')"
   ]
  },
  {
   "cell_type": "code",
   "execution_count": 70,
   "id": "6ec4f741",
   "metadata": {},
   "outputs": [
    {
     "name": "stdout",
     "output_type": "stream",
     "text": [
      "Sampled 2245 rows.\n"
     ]
    }
   ],
   "source": [
    "# Step 6: Perform the stratified sampling\n",
    "#df_2015_05_neg_sample = df_2015_05_neg_sample_size.groupby(['year_week', 'LocationName']).apply(\n",
    " #   lambda group: group.sample(n=group['sample_size'].iloc[0], random_state=42)\n",
    "#).reset_index(drop=True)\n",
    "df_2015_05_neg_sample = df_2015_05_neg\n",
    "# Step 7: Check the result\n",
    "print(f\"Sampled {len(df_2015_05_neg_sample)} rows.\")\n"
   ]
  },
  {
   "cell_type": "code",
   "execution_count": 71,
   "id": "b861921a",
   "metadata": {},
   "outputs": [],
   "source": [
    "text_gpt_2015_05_neg = '\\n'.join(df_2015_05_neg_sample['text'].astype(str))"
   ]
  },
  {
   "cell_type": "markdown",
   "id": "a71ff6b0",
   "metadata": {},
   "source": [
    "### Prompts and loops"
   ]
  },
  {
   "cell_type": "code",
   "execution_count": 72,
   "id": "6e6a91ed",
   "metadata": {},
   "outputs": [],
   "source": [
    "prompt_5 = prompt_raw.replace('TWEETS', text_gpt_2015_05_neg)"
   ]
  },
  {
   "cell_type": "code",
   "execution_count": 73,
   "id": "14941427",
   "metadata": {
    "scrolled": false
   },
   "outputs": [],
   "source": [
    "response = openai.ChatCompletion.create(\n",
    "    model=\"gpt-4o-mini\",  \n",
    "    messages = [\n",
    "        {\"role\": \"user\", \"content\": prompt_5}\n",
    "    ],\n",
    "    max_tokens=400,  # Maximum number of tokens in the response\n",
    "    temperature=0.7  # Controls the randomness of the output\n",
    ")"
   ]
  },
  {
   "cell_type": "code",
   "execution_count": 74,
   "id": "d34b2bcc",
   "metadata": {},
   "outputs": [
    {
     "data": {
      "text/plain": [
       "\"The text discusses various people's experiences and sentiments regarding vaccinations, particularly the flu vaccine. Many express discomfort and pain after receiving vaccines, while some question their effectiveness or express fear of needles. There's also mention of vaccination campaigns, shortages, and controversies surrounding vaccines, including a focus on HPV vaccines. Overall, the sentiment reflects a mix of annoyance, fear, and skepticism towards vaccination practices and their side effects.\""
      ]
     },
     "execution_count": 74,
     "metadata": {},
     "output_type": "execute_result"
    }
   ],
   "source": [
    "response.choices[0].message.content"
   ]
  },
  {
   "cell_type": "code",
   "execution_count": 75,
   "id": "f8f67be8",
   "metadata": {},
   "outputs": [],
   "source": [
    "#summary = []\n",
    "#dataset = []"
   ]
  },
  {
   "cell_type": "code",
   "execution_count": 76,
   "id": "0eb94e56",
   "metadata": {},
   "outputs": [],
   "source": [
    "dataset.append(\"2015_05_negitive\")"
   ]
  },
  {
   "cell_type": "code",
   "execution_count": 77,
   "id": "c9c68d6a",
   "metadata": {},
   "outputs": [],
   "source": [
    "summary.append(response.choices[0].message.content)"
   ]
  },
  {
   "cell_type": "code",
   "execution_count": 78,
   "id": "5716826b",
   "metadata": {
    "tags": []
   },
   "outputs": [
    {
     "name": "stdout",
     "output_type": "stream",
     "text": [
      "<class 'pandas.core.frame.DataFrame'>\n",
      "RangeIndex: 5 entries, 0 to 4\n",
      "Data columns (total 2 columns):\n",
      " #   Column   Non-Null Count  Dtype \n",
      "---  ------   --------------  ----- \n",
      " 0   dataset  5 non-null      object\n",
      " 1   summary  5 non-null      object\n",
      "dtypes: object(2)\n",
      "memory usage: 208.0+ bytes\n"
     ]
    }
   ],
   "source": [
    "df_2015_neg = pd.DataFrame(list(zip(dataset, summary)),\n",
    "                            columns = ['dataset', 'summary'])\n",
    "df_2015_neg.info()"
   ]
  },
  {
   "cell_type": "code",
   "execution_count": 79,
   "id": "8acf11d6",
   "metadata": {},
   "outputs": [
    {
     "data": {
      "text/html": [
       "<div>\n",
       "<style scoped>\n",
       "    .dataframe tbody tr th:only-of-type {\n",
       "        vertical-align: middle;\n",
       "    }\n",
       "\n",
       "    .dataframe tbody tr th {\n",
       "        vertical-align: top;\n",
       "    }\n",
       "\n",
       "    .dataframe thead th {\n",
       "        text-align: right;\n",
       "    }\n",
       "</style>\n",
       "<table border=\"1\" class=\"dataframe\">\n",
       "  <thead>\n",
       "    <tr style=\"text-align: right;\">\n",
       "      <th></th>\n",
       "      <th>dataset</th>\n",
       "      <th>summary</th>\n",
       "    </tr>\n",
       "  </thead>\n",
       "  <tbody>\n",
       "    <tr>\n",
       "      <th>0</th>\n",
       "      <td>2015_01_negitive</td>\n",
       "      <td>The text reflects a widespread frustration and...</td>\n",
       "    </tr>\n",
       "    <tr>\n",
       "      <th>1</th>\n",
       "      <td>2015_02_negitive</td>\n",
       "      <td>The selected texts express a mix of opinions a...</td>\n",
       "    </tr>\n",
       "    <tr>\n",
       "      <th>2</th>\n",
       "      <td>2015_03_negitive</td>\n",
       "      <td>The discussion revolves around various concern...</td>\n",
       "    </tr>\n",
       "    <tr>\n",
       "      <th>3</th>\n",
       "      <td>2015_04_negitive</td>\n",
       "      <td>The sentences express various opinions and exp...</td>\n",
       "    </tr>\n",
       "    <tr>\n",
       "      <th>4</th>\n",
       "      <td>2015_05_negitive</td>\n",
       "      <td>The text discusses various people's experience...</td>\n",
       "    </tr>\n",
       "  </tbody>\n",
       "</table>\n",
       "</div>"
      ],
      "text/plain": [
       "            dataset                                            summary\n",
       "0  2015_01_negitive  The text reflects a widespread frustration and...\n",
       "1  2015_02_negitive  The selected texts express a mix of opinions a...\n",
       "2  2015_03_negitive  The discussion revolves around various concern...\n",
       "3  2015_04_negitive  The sentences express various opinions and exp...\n",
       "4  2015_05_negitive  The text discusses various people's experience..."
      ]
     },
     "execution_count": 79,
     "metadata": {},
     "output_type": "execute_result"
    }
   ],
   "source": [
    "df_2015_neg.tail(14)"
   ]
  },
  {
   "cell_type": "code",
   "execution_count": 80,
   "id": "2c2b96e9",
   "metadata": {},
   "outputs": [
    {
     "data": {
      "text/plain": [
       "<OpenAIObject chat.completion id=chatcmpl-AUd5CSBvk6z80AhpLlTuvCusiePXD at 0x2435e5bad10> JSON: {\n",
       "  \"choices\": [\n",
       "    {\n",
       "      \"finish_reason\": \"stop\",\n",
       "      \"index\": 0,\n",
       "      \"logprobs\": null,\n",
       "      \"message\": {\n",
       "        \"content\": \"The text discusses various people's experiences and sentiments regarding vaccinations, particularly the flu vaccine. Many express discomfort and pain after receiving vaccines, while some question their effectiveness or express fear of needles. There's also mention of vaccination campaigns, shortages, and controversies surrounding vaccines, including a focus on HPV vaccines. Overall, the sentiment reflects a mix of annoyance, fear, and skepticism towards vaccination practices and their side effects.\",\n",
       "        \"refusal\": null,\n",
       "        \"role\": \"assistant\"\n",
       "      }\n",
       "    }\n",
       "  ],\n",
       "  \"created\": 1731863438,\n",
       "  \"id\": \"chatcmpl-AUd5CSBvk6z80AhpLlTuvCusiePXD\",\n",
       "  \"model\": \"gpt-4o-mini-2024-07-18\",\n",
       "  \"object\": \"chat.completion\",\n",
       "  \"system_fingerprint\": \"fp_0ba0d124f1\",\n",
       "  \"usage\": {\n",
       "    \"completion_tokens\": 79,\n",
       "    \"completion_tokens_details\": {\n",
       "      \"accepted_prediction_tokens\": 0,\n",
       "      \"audio_tokens\": 0,\n",
       "      \"reasoning_tokens\": 0,\n",
       "      \"rejected_prediction_tokens\": 0\n",
       "    },\n",
       "    \"prompt_tokens\": 45252,\n",
       "    \"prompt_tokens_details\": {\n",
       "      \"audio_tokens\": 0,\n",
       "      \"cached_tokens\": 0\n",
       "    },\n",
       "    \"total_tokens\": 45331\n",
       "  }\n",
       "}"
      ]
     },
     "execution_count": 80,
     "metadata": {},
     "output_type": "execute_result"
    }
   ],
   "source": [
    "response"
   ]
  },
  {
   "cell_type": "markdown",
   "id": "6756d045",
   "metadata": {},
   "source": [
    "## June"
   ]
  },
  {
   "cell_type": "code",
   "execution_count": 81,
   "id": "e994e0a9",
   "metadata": {
    "scrolled": true,
    "tags": []
   },
   "outputs": [
    {
     "name": "stdout",
     "output_type": "stream",
     "text": [
      "<class 'pandas.core.frame.DataFrame'>\n",
      "RangeIndex: 1189 entries, 0 to 1188\n",
      "Data columns (total 53 columns):\n",
      " #   Column                  Non-Null Count  Dtype  \n",
      "---  ------                  --------------  -----  \n",
      " 0   index                   1189 non-null   int64  \n",
      " 1   LocationCode            1189 non-null   object \n",
      " 2   LocationName            1189 non-null   object \n",
      " 3   StatesCode              1189 non-null   object \n",
      " 4   ...4                    1189 non-null   int64  \n",
      " 5   id                      1189 non-null   float64\n",
      " 6   text                    1189 non-null   object \n",
      " 7   label                   1189 non-null   object \n",
      " 8   in_reply_to_status_id   107 non-null    float64\n",
      " 9   in_reply_to_user_id     110 non-null    float64\n",
      " 10  quoted_user_id          6 non-null      float64\n",
      " 11  quoted_status_id        6 non-null      float64\n",
      " 12  retweeted_user_id       123 non-null    float64\n",
      " 13  retweeted_status_id     123 non-null    float64\n",
      " 14  created_at              1189 non-null   object \n",
      " 15  entities.user_mentions  271 non-null    object \n",
      " 16  user.id                 1189 non-null   int64  \n",
      " 17  user.screen_name        1189 non-null   object \n",
      " 18  user.name               1189 non-null   object \n",
      " 19  user.description        1043 non-null   object \n",
      " 20  user.timezone           0 non-null      float64\n",
      " 21  user.location           1099 non-null   object \n",
      " 22  user.num_followers      1189 non-null   int64  \n",
      " 23  user.num_following      1189 non-null   int64  \n",
      " 24  user.created_at         1189 non-null   object \n",
      " 25  user.statuses_count     1189 non-null   int64  \n",
      " 26  user.is_verified        1189 non-null   bool   \n",
      " 27  lang                    1189 non-null   object \n",
      " 28  token_count             1189 non-null   int64  \n",
      " 29  is_retweet              1189 non-null   bool   \n",
      " 30  has_quote               1189 non-null   bool   \n",
      " 31  is_reply                1189 non-null   bool   \n",
      " 32  contains_keywords       1189 non-null   bool   \n",
      " 33  longitude               1189 non-null   float64\n",
      " 34  latitude                1189 non-null   float64\n",
      " 35  country_code            1189 non-null   object \n",
      " 36  geoname_id              914 non-null    float64\n",
      " 37  location_type           1189 non-null   object \n",
      " 38  geo_type                1189 non-null   int64  \n",
      " 39  region                  1189 non-null   object \n",
      " 40  subregion               1189 non-null   object \n",
      " 41  num_quotes              1189 non-null   int64  \n",
      " 42  num_replies             1189 non-null   int64  \n",
      " 43  num_retweets            1189 non-null   int64  \n",
      " 44  sent_gpt                1189 non-null   object \n",
      " 45  gpt_sent_presence       1189 non-null   int64  \n",
      " 46  cleaned_text_lem        1189 non-null   object \n",
      " 47  cleaned_text            1189 non-null   object \n",
      " 48  month                   1189 non-null   int64  \n",
      " 49  year                    1189 non-null   int64  \n",
      " 50  week                    1189 non-null   int64  \n",
      " 51  year_month              1189 non-null   object \n",
      " 52  year_week               1189 non-null   object \n",
      "dtypes: bool(5), float64(11), int64(15), object(22)\n",
      "memory usage: 451.8+ KB\n"
     ]
    }
   ],
   "source": [
    "# Get monthly data\n",
    "df_2015_06_neg = pd.read_csv('../data/local/df_neg_2015-06.csv').reset_index()\n",
    "df_2015_06_neg.info()"
   ]
  },
  {
   "cell_type": "markdown",
   "id": "57bf0007",
   "metadata": {},
   "source": [
    "### Representative sample based on week and location"
   ]
  },
  {
   "cell_type": "code",
   "execution_count": 82,
   "id": "59042a70",
   "metadata": {},
   "outputs": [
    {
     "data": {
      "text/html": [
       "<div>\n",
       "<style scoped>\n",
       "    .dataframe tbody tr th:only-of-type {\n",
       "        vertical-align: middle;\n",
       "    }\n",
       "\n",
       "    .dataframe tbody tr th {\n",
       "        vertical-align: top;\n",
       "    }\n",
       "\n",
       "    .dataframe thead th {\n",
       "        text-align: right;\n",
       "    }\n",
       "</style>\n",
       "<table border=\"1\" class=\"dataframe\">\n",
       "  <thead>\n",
       "    <tr style=\"text-align: right;\">\n",
       "      <th></th>\n",
       "      <th>year_week</th>\n",
       "      <th>LocationName</th>\n",
       "      <th>group_size</th>\n",
       "      <th>proportion</th>\n",
       "    </tr>\n",
       "  </thead>\n",
       "  <tbody>\n",
       "    <tr>\n",
       "      <th>0</th>\n",
       "      <td>2015-w22</td>\n",
       "      <td>Acre</td>\n",
       "      <td>2</td>\n",
       "      <td>0.001682</td>\n",
       "    </tr>\n",
       "    <tr>\n",
       "      <th>1</th>\n",
       "      <td>2015-w22</td>\n",
       "      <td>Alagoas</td>\n",
       "      <td>1</td>\n",
       "      <td>0.000841</td>\n",
       "    </tr>\n",
       "    <tr>\n",
       "      <th>2</th>\n",
       "      <td>2015-w22</td>\n",
       "      <td>Amapa</td>\n",
       "      <td>2</td>\n",
       "      <td>0.001682</td>\n",
       "    </tr>\n",
       "    <tr>\n",
       "      <th>3</th>\n",
       "      <td>2015-w22</td>\n",
       "      <td>Amazonas</td>\n",
       "      <td>2</td>\n",
       "      <td>0.001682</td>\n",
       "    </tr>\n",
       "    <tr>\n",
       "      <th>4</th>\n",
       "      <td>2015-w22</td>\n",
       "      <td>Bahia</td>\n",
       "      <td>8</td>\n",
       "      <td>0.006728</td>\n",
       "    </tr>\n",
       "    <tr>\n",
       "      <th>...</th>\n",
       "      <td>...</td>\n",
       "      <td>...</td>\n",
       "      <td>...</td>\n",
       "      <td>...</td>\n",
       "    </tr>\n",
       "    <tr>\n",
       "      <th>98</th>\n",
       "      <td>2015-w26</td>\n",
       "      <td>Pernambuco</td>\n",
       "      <td>6</td>\n",
       "      <td>0.005046</td>\n",
       "    </tr>\n",
       "    <tr>\n",
       "      <th>99</th>\n",
       "      <td>2015-w26</td>\n",
       "      <td>Rio Grande Do Sul</td>\n",
       "      <td>34</td>\n",
       "      <td>0.028595</td>\n",
       "    </tr>\n",
       "    <tr>\n",
       "      <th>100</th>\n",
       "      <td>2015-w26</td>\n",
       "      <td>Santa Catarina</td>\n",
       "      <td>8</td>\n",
       "      <td>0.006728</td>\n",
       "    </tr>\n",
       "    <tr>\n",
       "      <th>101</th>\n",
       "      <td>2015-w26</td>\n",
       "      <td>Sao Paulo</td>\n",
       "      <td>41</td>\n",
       "      <td>0.034483</td>\n",
       "    </tr>\n",
       "    <tr>\n",
       "      <th>102</th>\n",
       "      <td>2015-w26</td>\n",
       "      <td>Sergipe</td>\n",
       "      <td>1</td>\n",
       "      <td>0.000841</td>\n",
       "    </tr>\n",
       "  </tbody>\n",
       "</table>\n",
       "<p>103 rows × 4 columns</p>\n",
       "</div>"
      ],
      "text/plain": [
       "    year_week       LocationName  group_size  proportion\n",
       "0    2015-w22               Acre           2    0.001682\n",
       "1    2015-w22            Alagoas           1    0.000841\n",
       "2    2015-w22              Amapa           2    0.001682\n",
       "3    2015-w22           Amazonas           2    0.001682\n",
       "4    2015-w22              Bahia           8    0.006728\n",
       "..        ...                ...         ...         ...\n",
       "98   2015-w26         Pernambuco           6    0.005046\n",
       "99   2015-w26  Rio Grande Do Sul          34    0.028595\n",
       "100  2015-w26     Santa Catarina           8    0.006728\n",
       "101  2015-w26          Sao Paulo          41    0.034483\n",
       "102  2015-w26            Sergipe           1    0.000841\n",
       "\n",
       "[103 rows x 4 columns]"
      ]
     },
     "execution_count": 82,
     "metadata": {},
     "output_type": "execute_result"
    }
   ],
   "source": [
    "# Step 1: Calculate the size of each group (year_week, LocationName)\n",
    "group_sizes = df_2015_06_neg.groupby(['year_week', 'LocationName']).size().reset_index(name='group_size')\n",
    "\n",
    "# Step 2: Calculate the proportion of each group in the dataset\n",
    "total_rows = len(df_2015_06_neg)\n",
    "group_sizes['proportion'] = group_sizes['group_size'] / total_rows\n",
    "group_sizes"
   ]
  },
  {
   "cell_type": "code",
   "execution_count": 83,
   "id": "371bde15",
   "metadata": {},
   "outputs": [
    {
     "data": {
      "text/html": [
       "<div>\n",
       "<style scoped>\n",
       "    .dataframe tbody tr th:only-of-type {\n",
       "        vertical-align: middle;\n",
       "    }\n",
       "\n",
       "    .dataframe tbody tr th {\n",
       "        vertical-align: top;\n",
       "    }\n",
       "\n",
       "    .dataframe thead th {\n",
       "        text-align: right;\n",
       "    }\n",
       "</style>\n",
       "<table border=\"1\" class=\"dataframe\">\n",
       "  <thead>\n",
       "    <tr style=\"text-align: right;\">\n",
       "      <th></th>\n",
       "      <th>year_week</th>\n",
       "      <th>LocationName</th>\n",
       "      <th>group_size</th>\n",
       "      <th>proportion</th>\n",
       "      <th>sample_size</th>\n",
       "    </tr>\n",
       "  </thead>\n",
       "  <tbody>\n",
       "    <tr>\n",
       "      <th>0</th>\n",
       "      <td>2015-w22</td>\n",
       "      <td>Acre</td>\n",
       "      <td>2</td>\n",
       "      <td>0.001682</td>\n",
       "      <td>4</td>\n",
       "    </tr>\n",
       "    <tr>\n",
       "      <th>1</th>\n",
       "      <td>2015-w22</td>\n",
       "      <td>Alagoas</td>\n",
       "      <td>1</td>\n",
       "      <td>0.000841</td>\n",
       "      <td>2</td>\n",
       "    </tr>\n",
       "    <tr>\n",
       "      <th>2</th>\n",
       "      <td>2015-w22</td>\n",
       "      <td>Amapa</td>\n",
       "      <td>2</td>\n",
       "      <td>0.001682</td>\n",
       "      <td>4</td>\n",
       "    </tr>\n",
       "    <tr>\n",
       "      <th>3</th>\n",
       "      <td>2015-w22</td>\n",
       "      <td>Amazonas</td>\n",
       "      <td>2</td>\n",
       "      <td>0.001682</td>\n",
       "      <td>4</td>\n",
       "    </tr>\n",
       "    <tr>\n",
       "      <th>4</th>\n",
       "      <td>2015-w22</td>\n",
       "      <td>Bahia</td>\n",
       "      <td>8</td>\n",
       "      <td>0.006728</td>\n",
       "      <td>16</td>\n",
       "    </tr>\n",
       "    <tr>\n",
       "      <th>...</th>\n",
       "      <td>...</td>\n",
       "      <td>...</td>\n",
       "      <td>...</td>\n",
       "      <td>...</td>\n",
       "      <td>...</td>\n",
       "    </tr>\n",
       "    <tr>\n",
       "      <th>98</th>\n",
       "      <td>2015-w26</td>\n",
       "      <td>Pernambuco</td>\n",
       "      <td>6</td>\n",
       "      <td>0.005046</td>\n",
       "      <td>12</td>\n",
       "    </tr>\n",
       "    <tr>\n",
       "      <th>99</th>\n",
       "      <td>2015-w26</td>\n",
       "      <td>Rio Grande Do Sul</td>\n",
       "      <td>34</td>\n",
       "      <td>0.028595</td>\n",
       "      <td>70</td>\n",
       "    </tr>\n",
       "    <tr>\n",
       "      <th>100</th>\n",
       "      <td>2015-w26</td>\n",
       "      <td>Santa Catarina</td>\n",
       "      <td>8</td>\n",
       "      <td>0.006728</td>\n",
       "      <td>16</td>\n",
       "    </tr>\n",
       "    <tr>\n",
       "      <th>101</th>\n",
       "      <td>2015-w26</td>\n",
       "      <td>Sao Paulo</td>\n",
       "      <td>41</td>\n",
       "      <td>0.034483</td>\n",
       "      <td>84</td>\n",
       "    </tr>\n",
       "    <tr>\n",
       "      <th>102</th>\n",
       "      <td>2015-w26</td>\n",
       "      <td>Sergipe</td>\n",
       "      <td>1</td>\n",
       "      <td>0.000841</td>\n",
       "      <td>2</td>\n",
       "    </tr>\n",
       "  </tbody>\n",
       "</table>\n",
       "<p>103 rows × 5 columns</p>\n",
       "</div>"
      ],
      "text/plain": [
       "    year_week       LocationName  group_size  proportion  sample_size\n",
       "0    2015-w22               Acre           2    0.001682            4\n",
       "1    2015-w22            Alagoas           1    0.000841            2\n",
       "2    2015-w22              Amapa           2    0.001682            4\n",
       "3    2015-w22           Amazonas           2    0.001682            4\n",
       "4    2015-w22              Bahia           8    0.006728           16\n",
       "..        ...                ...         ...         ...          ...\n",
       "98   2015-w26         Pernambuco           6    0.005046           12\n",
       "99   2015-w26  Rio Grande Do Sul          34    0.028595           70\n",
       "100  2015-w26     Santa Catarina           8    0.006728           16\n",
       "101  2015-w26          Sao Paulo          41    0.034483           84\n",
       "102  2015-w26            Sergipe           1    0.000841            2\n",
       "\n",
       "[103 rows x 5 columns]"
      ]
     },
     "execution_count": 83,
     "metadata": {},
     "output_type": "execute_result"
    }
   ],
   "source": [
    "# Step 3: Define the target sample size\n",
    "target_sample_size = 2450\n",
    "\n",
    "# Step 4: Calculate the sample size for each group (based on its proportion)\n",
    "group_sizes['sample_size'] = np.floor(group_sizes['proportion'] * target_sample_size).astype(int)\n",
    "group_sizes"
   ]
  },
  {
   "cell_type": "code",
   "execution_count": 84,
   "id": "63e28728",
   "metadata": {},
   "outputs": [],
   "source": [
    "# Step 5: Merge this sample size information back to the original DataFrame\n",
    "df_2015_06_neg_sample_size = pd.merge(df_2015_06_neg, group_sizes[['year_week', 'LocationName', 'sample_size']], \n",
    "                               on=['year_week', 'LocationName'], how='left')"
   ]
  },
  {
   "cell_type": "code",
   "execution_count": 85,
   "id": "d929406c",
   "metadata": {},
   "outputs": [
    {
     "name": "stdout",
     "output_type": "stream",
     "text": [
      "Sampled 1189 rows.\n"
     ]
    }
   ],
   "source": [
    "# Step 6: Perform the stratified sampling\n",
    "#df_2015_06_neg_sample = df_2015_06_neg_sample_size.groupby(['year_week', 'LocationName']).apply(\n",
    " #   lambda group: group.sample(n=group['sample_size'].iloc[0], random_state=42)\n",
    "#).reset_index(drop=True)\n",
    "df_2015_06_neg_sample = df_2015_06_neg\n",
    "# Step 7: Check the result\n",
    "print(f\"Sampled {len(df_2015_06_neg_sample)} rows.\")\n"
   ]
  },
  {
   "cell_type": "code",
   "execution_count": 86,
   "id": "e9aa1932",
   "metadata": {},
   "outputs": [],
   "source": [
    "text_gpt_2015_06_neg = '\\n'.join(df_2015_06_neg_sample['text'].astype(str))"
   ]
  },
  {
   "cell_type": "markdown",
   "id": "1f2f44e4",
   "metadata": {},
   "source": [
    "### Prompts and loops"
   ]
  },
  {
   "cell_type": "code",
   "execution_count": 87,
   "id": "2faa24e8",
   "metadata": {},
   "outputs": [],
   "source": [
    "prompt_6 = prompt_raw.replace('TWEETS', text_gpt_2015_06_neg)"
   ]
  },
  {
   "cell_type": "code",
   "execution_count": 88,
   "id": "bc6051bc",
   "metadata": {
    "scrolled": false
   },
   "outputs": [],
   "source": [
    "response = openai.ChatCompletion.create(\n",
    "    model=\"gpt-4o-mini\",  \n",
    "    messages = [\n",
    "        {\"role\": \"user\", \"content\": prompt_6}\n",
    "    ],\n",
    "    max_tokens=400,  # Maximum number of tokens in the response\n",
    "    temperature=0.7  # Controls the randomness of the output\n",
    ")"
   ]
  },
  {
   "cell_type": "code",
   "execution_count": 89,
   "id": "71cfa37a",
   "metadata": {},
   "outputs": [
    {
     "data": {
      "text/plain": [
       "'The text discusses various aspects of vaccination, particularly against the flu and other diseases. It highlights issues like low vaccination rates, painful experiences associated with getting vaccinated, and skepticism about vaccine efficacy, as well as concerns about potential health risks. Additionally, it mentions a resurgence of diseases like diphtheria due to anti-vaccine sentiments.'"
      ]
     },
     "execution_count": 89,
     "metadata": {},
     "output_type": "execute_result"
    }
   ],
   "source": [
    "response.choices[0].message.content"
   ]
  },
  {
   "cell_type": "code",
   "execution_count": 90,
   "id": "e05c6917",
   "metadata": {},
   "outputs": [],
   "source": [
    "#summary = []\n",
    "#dataset = []"
   ]
  },
  {
   "cell_type": "code",
   "execution_count": 91,
   "id": "a222eb1f",
   "metadata": {},
   "outputs": [],
   "source": [
    "dataset.append(\"2015_06_negitive\")"
   ]
  },
  {
   "cell_type": "code",
   "execution_count": 92,
   "id": "16cc4629",
   "metadata": {},
   "outputs": [],
   "source": [
    "summary.append(response.choices[0].message.content)"
   ]
  },
  {
   "cell_type": "code",
   "execution_count": 93,
   "id": "06ae8742",
   "metadata": {
    "tags": []
   },
   "outputs": [
    {
     "name": "stdout",
     "output_type": "stream",
     "text": [
      "<class 'pandas.core.frame.DataFrame'>\n",
      "RangeIndex: 6 entries, 0 to 5\n",
      "Data columns (total 2 columns):\n",
      " #   Column   Non-Null Count  Dtype \n",
      "---  ------   --------------  ----- \n",
      " 0   dataset  6 non-null      object\n",
      " 1   summary  6 non-null      object\n",
      "dtypes: object(2)\n",
      "memory usage: 224.0+ bytes\n"
     ]
    }
   ],
   "source": [
    "df_2015_neg = pd.DataFrame(list(zip(dataset, summary)),\n",
    "                            columns = ['dataset', 'summary'])\n",
    "df_2015_neg.info()"
   ]
  },
  {
   "cell_type": "code",
   "execution_count": 94,
   "id": "116b4d78",
   "metadata": {},
   "outputs": [
    {
     "data": {
      "text/html": [
       "<div>\n",
       "<style scoped>\n",
       "    .dataframe tbody tr th:only-of-type {\n",
       "        vertical-align: middle;\n",
       "    }\n",
       "\n",
       "    .dataframe tbody tr th {\n",
       "        vertical-align: top;\n",
       "    }\n",
       "\n",
       "    .dataframe thead th {\n",
       "        text-align: right;\n",
       "    }\n",
       "</style>\n",
       "<table border=\"1\" class=\"dataframe\">\n",
       "  <thead>\n",
       "    <tr style=\"text-align: right;\">\n",
       "      <th></th>\n",
       "      <th>dataset</th>\n",
       "      <th>summary</th>\n",
       "    </tr>\n",
       "  </thead>\n",
       "  <tbody>\n",
       "    <tr>\n",
       "      <th>0</th>\n",
       "      <td>2015_01_negitive</td>\n",
       "      <td>The text reflects a widespread frustration and...</td>\n",
       "    </tr>\n",
       "    <tr>\n",
       "      <th>1</th>\n",
       "      <td>2015_02_negitive</td>\n",
       "      <td>The selected texts express a mix of opinions a...</td>\n",
       "    </tr>\n",
       "    <tr>\n",
       "      <th>2</th>\n",
       "      <td>2015_03_negitive</td>\n",
       "      <td>The discussion revolves around various concern...</td>\n",
       "    </tr>\n",
       "    <tr>\n",
       "      <th>3</th>\n",
       "      <td>2015_04_negitive</td>\n",
       "      <td>The sentences express various opinions and exp...</td>\n",
       "    </tr>\n",
       "    <tr>\n",
       "      <th>4</th>\n",
       "      <td>2015_05_negitive</td>\n",
       "      <td>The text discusses various people's experience...</td>\n",
       "    </tr>\n",
       "    <tr>\n",
       "      <th>5</th>\n",
       "      <td>2015_06_negitive</td>\n",
       "      <td>The text discusses various aspects of vaccinat...</td>\n",
       "    </tr>\n",
       "  </tbody>\n",
       "</table>\n",
       "</div>"
      ],
      "text/plain": [
       "            dataset                                            summary\n",
       "0  2015_01_negitive  The text reflects a widespread frustration and...\n",
       "1  2015_02_negitive  The selected texts express a mix of opinions a...\n",
       "2  2015_03_negitive  The discussion revolves around various concern...\n",
       "3  2015_04_negitive  The sentences express various opinions and exp...\n",
       "4  2015_05_negitive  The text discusses various people's experience...\n",
       "5  2015_06_negitive  The text discusses various aspects of vaccinat..."
      ]
     },
     "execution_count": 94,
     "metadata": {},
     "output_type": "execute_result"
    }
   ],
   "source": [
    "df_2015_neg.tail(14)"
   ]
  },
  {
   "cell_type": "code",
   "execution_count": 95,
   "id": "7668e23f",
   "metadata": {},
   "outputs": [
    {
     "data": {
      "text/plain": [
       "<OpenAIObject chat.completion id=chatcmpl-AUd5JQuBvjjNooLLzow0nSCUQ1Soi at 0x2435e598d10> JSON: {\n",
       "  \"choices\": [\n",
       "    {\n",
       "      \"finish_reason\": \"stop\",\n",
       "      \"index\": 0,\n",
       "      \"logprobs\": null,\n",
       "      \"message\": {\n",
       "        \"content\": \"The text discusses various aspects of vaccination, particularly against the flu and other diseases. It highlights issues like low vaccination rates, painful experiences associated with getting vaccinated, and skepticism about vaccine efficacy, as well as concerns about potential health risks. Additionally, it mentions a resurgence of diseases like diphtheria due to anti-vaccine sentiments.\",\n",
       "        \"refusal\": null,\n",
       "        \"role\": \"assistant\"\n",
       "      }\n",
       "    }\n",
       "  ],\n",
       "  \"created\": 1731863445,\n",
       "  \"id\": \"chatcmpl-AUd5JQuBvjjNooLLzow0nSCUQ1Soi\",\n",
       "  \"model\": \"gpt-4o-mini-2024-07-18\",\n",
       "  \"object\": \"chat.completion\",\n",
       "  \"system_fingerprint\": \"fp_0ba0d124f1\",\n",
       "  \"usage\": {\n",
       "    \"completion_tokens\": 66,\n",
       "    \"completion_tokens_details\": {\n",
       "      \"accepted_prediction_tokens\": 0,\n",
       "      \"audio_tokens\": 0,\n",
       "      \"reasoning_tokens\": 0,\n",
       "      \"rejected_prediction_tokens\": 0\n",
       "    },\n",
       "    \"prompt_tokens\": 24912,\n",
       "    \"prompt_tokens_details\": {\n",
       "      \"audio_tokens\": 0,\n",
       "      \"cached_tokens\": 0\n",
       "    },\n",
       "    \"total_tokens\": 24978\n",
       "  }\n",
       "}"
      ]
     },
     "execution_count": 95,
     "metadata": {},
     "output_type": "execute_result"
    }
   ],
   "source": [
    "response"
   ]
  },
  {
   "cell_type": "markdown",
   "id": "1b5c5a9b",
   "metadata": {},
   "source": [
    "## July"
   ]
  },
  {
   "cell_type": "code",
   "execution_count": 96,
   "id": "5096b4ba",
   "metadata": {
    "scrolled": true,
    "tags": []
   },
   "outputs": [
    {
     "name": "stdout",
     "output_type": "stream",
     "text": [
      "<class 'pandas.core.frame.DataFrame'>\n",
      "RangeIndex: 1118 entries, 0 to 1117\n",
      "Data columns (total 53 columns):\n",
      " #   Column                  Non-Null Count  Dtype  \n",
      "---  ------                  --------------  -----  \n",
      " 0   index                   1118 non-null   int64  \n",
      " 1   LocationCode            1118 non-null   object \n",
      " 2   LocationName            1118 non-null   object \n",
      " 3   StatesCode              1118 non-null   object \n",
      " 4   ...4                    1118 non-null   int64  \n",
      " 5   id                      1118 non-null   float64\n",
      " 6   text                    1118 non-null   object \n",
      " 7   label                   1118 non-null   object \n",
      " 8   in_reply_to_status_id   100 non-null    float64\n",
      " 9   in_reply_to_user_id     111 non-null    float64\n",
      " 10  quoted_user_id          10 non-null     float64\n",
      " 11  quoted_status_id        10 non-null     float64\n",
      " 12  retweeted_user_id       177 non-null    float64\n",
      " 13  retweeted_status_id     177 non-null    float64\n",
      " 14  created_at              1118 non-null   object \n",
      " 15  entities.user_mentions  305 non-null    object \n",
      " 16  user.id                 1118 non-null   int64  \n",
      " 17  user.screen_name        1118 non-null   object \n",
      " 18  user.name               1118 non-null   object \n",
      " 19  user.description        979 non-null    object \n",
      " 20  user.timezone           0 non-null      float64\n",
      " 21  user.location           1043 non-null   object \n",
      " 22  user.num_followers      1118 non-null   int64  \n",
      " 23  user.num_following      1118 non-null   int64  \n",
      " 24  user.created_at         1118 non-null   object \n",
      " 25  user.statuses_count     1118 non-null   int64  \n",
      " 26  user.is_verified        1118 non-null   bool   \n",
      " 27  lang                    1118 non-null   object \n",
      " 28  token_count             1118 non-null   int64  \n",
      " 29  is_retweet              1118 non-null   bool   \n",
      " 30  has_quote               1118 non-null   bool   \n",
      " 31  is_reply                1118 non-null   bool   \n",
      " 32  contains_keywords       1118 non-null   bool   \n",
      " 33  longitude               1118 non-null   float64\n",
      " 34  latitude                1118 non-null   float64\n",
      " 35  country_code            1118 non-null   object \n",
      " 36  geoname_id              862 non-null    float64\n",
      " 37  location_type           1118 non-null   object \n",
      " 38  geo_type                1118 non-null   int64  \n",
      " 39  region                  1118 non-null   object \n",
      " 40  subregion               1118 non-null   object \n",
      " 41  num_quotes              1118 non-null   int64  \n",
      " 42  num_replies             1118 non-null   int64  \n",
      " 43  num_retweets            1118 non-null   int64  \n",
      " 44  sent_gpt                1118 non-null   object \n",
      " 45  gpt_sent_presence       1118 non-null   int64  \n",
      " 46  cleaned_text_lem        1118 non-null   object \n",
      " 47  cleaned_text            1118 non-null   object \n",
      " 48  month                   1118 non-null   int64  \n",
      " 49  year                    1118 non-null   int64  \n",
      " 50  week                    1118 non-null   int64  \n",
      " 51  year_month              1118 non-null   object \n",
      " 52  year_week               1118 non-null   object \n",
      "dtypes: bool(5), float64(11), int64(15), object(22)\n",
      "memory usage: 424.8+ KB\n"
     ]
    }
   ],
   "source": [
    "# Get monthly data\n",
    "df_2015_07_neg = pd.read_csv('../data/local/df_neg_2015-07.csv').reset_index()\n",
    "df_2015_07_neg.info()"
   ]
  },
  {
   "cell_type": "markdown",
   "id": "bdd1752b",
   "metadata": {},
   "source": [
    "### Representative sample based on week and location"
   ]
  },
  {
   "cell_type": "code",
   "execution_count": 97,
   "id": "e62e79b6",
   "metadata": {},
   "outputs": [
    {
     "data": {
      "text/html": [
       "<div>\n",
       "<style scoped>\n",
       "    .dataframe tbody tr th:only-of-type {\n",
       "        vertical-align: middle;\n",
       "    }\n",
       "\n",
       "    .dataframe tbody tr th {\n",
       "        vertical-align: top;\n",
       "    }\n",
       "\n",
       "    .dataframe thead th {\n",
       "        text-align: right;\n",
       "    }\n",
       "</style>\n",
       "<table border=\"1\" class=\"dataframe\">\n",
       "  <thead>\n",
       "    <tr style=\"text-align: right;\">\n",
       "      <th></th>\n",
       "      <th>year_week</th>\n",
       "      <th>LocationName</th>\n",
       "      <th>group_size</th>\n",
       "      <th>proportion</th>\n",
       "    </tr>\n",
       "  </thead>\n",
       "  <tbody>\n",
       "    <tr>\n",
       "      <th>0</th>\n",
       "      <td>2015-w26</td>\n",
       "      <td>Amapa</td>\n",
       "      <td>1</td>\n",
       "      <td>0.000894</td>\n",
       "    </tr>\n",
       "    <tr>\n",
       "      <th>1</th>\n",
       "      <td>2015-w26</td>\n",
       "      <td>Amazonas</td>\n",
       "      <td>3</td>\n",
       "      <td>0.002683</td>\n",
       "    </tr>\n",
       "    <tr>\n",
       "      <th>2</th>\n",
       "      <td>2015-w26</td>\n",
       "      <td>Bahia</td>\n",
       "      <td>2</td>\n",
       "      <td>0.001789</td>\n",
       "    </tr>\n",
       "    <tr>\n",
       "      <th>3</th>\n",
       "      <td>2015-w26</td>\n",
       "      <td>Ceara</td>\n",
       "      <td>2</td>\n",
       "      <td>0.001789</td>\n",
       "    </tr>\n",
       "    <tr>\n",
       "      <th>4</th>\n",
       "      <td>2015-w26</td>\n",
       "      <td>Distrito Federal</td>\n",
       "      <td>3</td>\n",
       "      <td>0.002683</td>\n",
       "    </tr>\n",
       "    <tr>\n",
       "      <th>...</th>\n",
       "      <td>...</td>\n",
       "      <td>...</td>\n",
       "      <td>...</td>\n",
       "      <td>...</td>\n",
       "    </tr>\n",
       "    <tr>\n",
       "      <th>103</th>\n",
       "      <td>2015-w31</td>\n",
       "      <td>Parana</td>\n",
       "      <td>1</td>\n",
       "      <td>0.000894</td>\n",
       "    </tr>\n",
       "    <tr>\n",
       "      <th>104</th>\n",
       "      <td>2015-w31</td>\n",
       "      <td>Pernambuco</td>\n",
       "      <td>2</td>\n",
       "      <td>0.001789</td>\n",
       "    </tr>\n",
       "    <tr>\n",
       "      <th>105</th>\n",
       "      <td>2015-w31</td>\n",
       "      <td>Rio Grande Do Sul</td>\n",
       "      <td>44</td>\n",
       "      <td>0.039356</td>\n",
       "    </tr>\n",
       "    <tr>\n",
       "      <th>106</th>\n",
       "      <td>2015-w31</td>\n",
       "      <td>Santa Catarina</td>\n",
       "      <td>2</td>\n",
       "      <td>0.001789</td>\n",
       "    </tr>\n",
       "    <tr>\n",
       "      <th>107</th>\n",
       "      <td>2015-w31</td>\n",
       "      <td>Sao Paulo</td>\n",
       "      <td>12</td>\n",
       "      <td>0.010733</td>\n",
       "    </tr>\n",
       "  </tbody>\n",
       "</table>\n",
       "<p>108 rows × 4 columns</p>\n",
       "</div>"
      ],
      "text/plain": [
       "    year_week       LocationName  group_size  proportion\n",
       "0    2015-w26              Amapa           1    0.000894\n",
       "1    2015-w26           Amazonas           3    0.002683\n",
       "2    2015-w26              Bahia           2    0.001789\n",
       "3    2015-w26              Ceara           2    0.001789\n",
       "4    2015-w26   Distrito Federal           3    0.002683\n",
       "..        ...                ...         ...         ...\n",
       "103  2015-w31             Parana           1    0.000894\n",
       "104  2015-w31         Pernambuco           2    0.001789\n",
       "105  2015-w31  Rio Grande Do Sul          44    0.039356\n",
       "106  2015-w31     Santa Catarina           2    0.001789\n",
       "107  2015-w31          Sao Paulo          12    0.010733\n",
       "\n",
       "[108 rows x 4 columns]"
      ]
     },
     "execution_count": 97,
     "metadata": {},
     "output_type": "execute_result"
    }
   ],
   "source": [
    "# Step 1: Calculate the size of each group (year_week, LocationName)\n",
    "group_sizes = df_2015_07_neg.groupby(['year_week', 'LocationName']).size().reset_index(name='group_size')\n",
    "\n",
    "# Step 2: Calculate the proportion of each group in the dataset\n",
    "total_rows = len(df_2015_07_neg)\n",
    "group_sizes['proportion'] = group_sizes['group_size'] / total_rows\n",
    "group_sizes"
   ]
  },
  {
   "cell_type": "code",
   "execution_count": 98,
   "id": "97b60716",
   "metadata": {},
   "outputs": [
    {
     "data": {
      "text/html": [
       "<div>\n",
       "<style scoped>\n",
       "    .dataframe tbody tr th:only-of-type {\n",
       "        vertical-align: middle;\n",
       "    }\n",
       "\n",
       "    .dataframe tbody tr th {\n",
       "        vertical-align: top;\n",
       "    }\n",
       "\n",
       "    .dataframe thead th {\n",
       "        text-align: right;\n",
       "    }\n",
       "</style>\n",
       "<table border=\"1\" class=\"dataframe\">\n",
       "  <thead>\n",
       "    <tr style=\"text-align: right;\">\n",
       "      <th></th>\n",
       "      <th>year_week</th>\n",
       "      <th>LocationName</th>\n",
       "      <th>group_size</th>\n",
       "      <th>proportion</th>\n",
       "      <th>sample_size</th>\n",
       "    </tr>\n",
       "  </thead>\n",
       "  <tbody>\n",
       "    <tr>\n",
       "      <th>0</th>\n",
       "      <td>2015-w26</td>\n",
       "      <td>Amapa</td>\n",
       "      <td>1</td>\n",
       "      <td>0.000894</td>\n",
       "      <td>2</td>\n",
       "    </tr>\n",
       "    <tr>\n",
       "      <th>1</th>\n",
       "      <td>2015-w26</td>\n",
       "      <td>Amazonas</td>\n",
       "      <td>3</td>\n",
       "      <td>0.002683</td>\n",
       "      <td>6</td>\n",
       "    </tr>\n",
       "    <tr>\n",
       "      <th>2</th>\n",
       "      <td>2015-w26</td>\n",
       "      <td>Bahia</td>\n",
       "      <td>2</td>\n",
       "      <td>0.001789</td>\n",
       "      <td>4</td>\n",
       "    </tr>\n",
       "    <tr>\n",
       "      <th>3</th>\n",
       "      <td>2015-w26</td>\n",
       "      <td>Ceara</td>\n",
       "      <td>2</td>\n",
       "      <td>0.001789</td>\n",
       "      <td>4</td>\n",
       "    </tr>\n",
       "    <tr>\n",
       "      <th>4</th>\n",
       "      <td>2015-w26</td>\n",
       "      <td>Distrito Federal</td>\n",
       "      <td>3</td>\n",
       "      <td>0.002683</td>\n",
       "      <td>6</td>\n",
       "    </tr>\n",
       "    <tr>\n",
       "      <th>...</th>\n",
       "      <td>...</td>\n",
       "      <td>...</td>\n",
       "      <td>...</td>\n",
       "      <td>...</td>\n",
       "      <td>...</td>\n",
       "    </tr>\n",
       "    <tr>\n",
       "      <th>103</th>\n",
       "      <td>2015-w31</td>\n",
       "      <td>Parana</td>\n",
       "      <td>1</td>\n",
       "      <td>0.000894</td>\n",
       "      <td>2</td>\n",
       "    </tr>\n",
       "    <tr>\n",
       "      <th>104</th>\n",
       "      <td>2015-w31</td>\n",
       "      <td>Pernambuco</td>\n",
       "      <td>2</td>\n",
       "      <td>0.001789</td>\n",
       "      <td>4</td>\n",
       "    </tr>\n",
       "    <tr>\n",
       "      <th>105</th>\n",
       "      <td>2015-w31</td>\n",
       "      <td>Rio Grande Do Sul</td>\n",
       "      <td>44</td>\n",
       "      <td>0.039356</td>\n",
       "      <td>96</td>\n",
       "    </tr>\n",
       "    <tr>\n",
       "      <th>106</th>\n",
       "      <td>2015-w31</td>\n",
       "      <td>Santa Catarina</td>\n",
       "      <td>2</td>\n",
       "      <td>0.001789</td>\n",
       "      <td>4</td>\n",
       "    </tr>\n",
       "    <tr>\n",
       "      <th>107</th>\n",
       "      <td>2015-w31</td>\n",
       "      <td>Sao Paulo</td>\n",
       "      <td>12</td>\n",
       "      <td>0.010733</td>\n",
       "      <td>26</td>\n",
       "    </tr>\n",
       "  </tbody>\n",
       "</table>\n",
       "<p>108 rows × 5 columns</p>\n",
       "</div>"
      ],
      "text/plain": [
       "    year_week       LocationName  group_size  proportion  sample_size\n",
       "0    2015-w26              Amapa           1    0.000894            2\n",
       "1    2015-w26           Amazonas           3    0.002683            6\n",
       "2    2015-w26              Bahia           2    0.001789            4\n",
       "3    2015-w26              Ceara           2    0.001789            4\n",
       "4    2015-w26   Distrito Federal           3    0.002683            6\n",
       "..        ...                ...         ...         ...          ...\n",
       "103  2015-w31             Parana           1    0.000894            2\n",
       "104  2015-w31         Pernambuco           2    0.001789            4\n",
       "105  2015-w31  Rio Grande Do Sul          44    0.039356           96\n",
       "106  2015-w31     Santa Catarina           2    0.001789            4\n",
       "107  2015-w31          Sao Paulo          12    0.010733           26\n",
       "\n",
       "[108 rows x 5 columns]"
      ]
     },
     "execution_count": 98,
     "metadata": {},
     "output_type": "execute_result"
    }
   ],
   "source": [
    "# Step 3: Define the target sample size\n",
    "target_sample_size = 2450\n",
    "\n",
    "# Step 4: Calculate the sample size for each group (based on its proportion)\n",
    "group_sizes['sample_size'] = np.floor(group_sizes['proportion'] * target_sample_size).astype(int)\n",
    "group_sizes"
   ]
  },
  {
   "cell_type": "code",
   "execution_count": 99,
   "id": "4c991d80",
   "metadata": {},
   "outputs": [],
   "source": [
    "# Step 5: Merge this sample size information back to the original DataFrame\n",
    "df_2015_07_neg_sample_size = pd.merge(df_2015_07_neg, group_sizes[['year_week', 'LocationName', 'sample_size']], \n",
    "                               on=['year_week', 'LocationName'], how='left')"
   ]
  },
  {
   "cell_type": "code",
   "execution_count": 100,
   "id": "deab4678",
   "metadata": {},
   "outputs": [
    {
     "name": "stdout",
     "output_type": "stream",
     "text": [
      "Sampled 1118 rows.\n"
     ]
    }
   ],
   "source": [
    "# Step 6: Perform the stratified sampling\n",
    "#df_2015_07_neg_sample = df_2015_07_neg_sample_size.groupby(['year_week', 'LocationName']).apply(\n",
    "#    lambda group: group.sample(n=group['sample_size'].iloc[0], random_state=42)\n",
    "#).reset_index(drop=True)\n",
    "df_2015_07_neg_sample = df_2015_07_neg\n",
    "# Step 7: Check the result\n",
    "print(f\"Sampled {len(df_2015_07_neg_sample)} rows.\")\n"
   ]
  },
  {
   "cell_type": "code",
   "execution_count": 101,
   "id": "33656dea",
   "metadata": {},
   "outputs": [],
   "source": [
    "text_gpt_2015_07_neg = '\\n'.join(df_2015_07_neg_sample['text'].astype(str))"
   ]
  },
  {
   "cell_type": "markdown",
   "id": "92d7e0ea",
   "metadata": {},
   "source": [
    "### Prompts and loops"
   ]
  },
  {
   "cell_type": "code",
   "execution_count": 102,
   "id": "349334a9",
   "metadata": {},
   "outputs": [],
   "source": [
    "prompt_7 = prompt_raw.replace('TWEETS', text_gpt_2015_07_neg)"
   ]
  },
  {
   "cell_type": "code",
   "execution_count": 103,
   "id": "ff46a08b",
   "metadata": {
    "scrolled": false
   },
   "outputs": [],
   "source": [
    "response = openai.ChatCompletion.create(\n",
    "    model=\"gpt-4o-mini\",  \n",
    "    messages = [\n",
    "        {\"role\": \"user\", \"content\": prompt_7}\n",
    "    ],\n",
    "    max_tokens=400,  # Maximum number of tokens in the response\n",
    "    temperature=0.7  # Controls the randomness of the output\n",
    ")"
   ]
  },
  {
   "cell_type": "code",
   "execution_count": 104,
   "id": "6723c1d4",
   "metadata": {},
   "outputs": [
    {
     "data": {
      "text/plain": [
       "'The sentences discuss various opinions, experiences, and controversies surrounding vaccines. Many express discomfort and pain associated with vaccinations, while others mention skepticism, conspiracy theories, and criticisms of vaccination campaigns. There are references to specific vaccines (like HPV and anti-flu) and notable figures, including Jim Carrey, who criticize vaccination policies. Some highlight the lack of available vaccines, while others sarcastically question the efficacy of vaccines, suggesting they sometimes lead to illnesses instead of preventing them.'"
      ]
     },
     "execution_count": 104,
     "metadata": {},
     "output_type": "execute_result"
    }
   ],
   "source": [
    "response.choices[0].message.content"
   ]
  },
  {
   "cell_type": "code",
   "execution_count": 105,
   "id": "d3081509",
   "metadata": {},
   "outputs": [],
   "source": [
    "#summary = []\n",
    "#dataset = []"
   ]
  },
  {
   "cell_type": "code",
   "execution_count": 106,
   "id": "1ba0dacb",
   "metadata": {},
   "outputs": [],
   "source": [
    "dataset.append(\"2015_07_negitive\")"
   ]
  },
  {
   "cell_type": "code",
   "execution_count": 107,
   "id": "cadb0bde",
   "metadata": {},
   "outputs": [],
   "source": [
    "summary.append(response.choices[0].message.content)"
   ]
  },
  {
   "cell_type": "code",
   "execution_count": 108,
   "id": "b80e1e4e",
   "metadata": {
    "tags": []
   },
   "outputs": [
    {
     "name": "stdout",
     "output_type": "stream",
     "text": [
      "<class 'pandas.core.frame.DataFrame'>\n",
      "RangeIndex: 7 entries, 0 to 6\n",
      "Data columns (total 2 columns):\n",
      " #   Column   Non-Null Count  Dtype \n",
      "---  ------   --------------  ----- \n",
      " 0   dataset  7 non-null      object\n",
      " 1   summary  7 non-null      object\n",
      "dtypes: object(2)\n",
      "memory usage: 240.0+ bytes\n"
     ]
    }
   ],
   "source": [
    "df_2015_neg = pd.DataFrame(list(zip(dataset, summary)),\n",
    "                            columns = ['dataset', 'summary'])\n",
    "df_2015_neg.info()"
   ]
  },
  {
   "cell_type": "code",
   "execution_count": 109,
   "id": "de211f05",
   "metadata": {},
   "outputs": [
    {
     "data": {
      "text/html": [
       "<div>\n",
       "<style scoped>\n",
       "    .dataframe tbody tr th:only-of-type {\n",
       "        vertical-align: middle;\n",
       "    }\n",
       "\n",
       "    .dataframe tbody tr th {\n",
       "        vertical-align: top;\n",
       "    }\n",
       "\n",
       "    .dataframe thead th {\n",
       "        text-align: right;\n",
       "    }\n",
       "</style>\n",
       "<table border=\"1\" class=\"dataframe\">\n",
       "  <thead>\n",
       "    <tr style=\"text-align: right;\">\n",
       "      <th></th>\n",
       "      <th>dataset</th>\n",
       "      <th>summary</th>\n",
       "    </tr>\n",
       "  </thead>\n",
       "  <tbody>\n",
       "    <tr>\n",
       "      <th>0</th>\n",
       "      <td>2015_01_negitive</td>\n",
       "      <td>The text reflects a widespread frustration and...</td>\n",
       "    </tr>\n",
       "    <tr>\n",
       "      <th>1</th>\n",
       "      <td>2015_02_negitive</td>\n",
       "      <td>The selected texts express a mix of opinions a...</td>\n",
       "    </tr>\n",
       "    <tr>\n",
       "      <th>2</th>\n",
       "      <td>2015_03_negitive</td>\n",
       "      <td>The discussion revolves around various concern...</td>\n",
       "    </tr>\n",
       "    <tr>\n",
       "      <th>3</th>\n",
       "      <td>2015_04_negitive</td>\n",
       "      <td>The sentences express various opinions and exp...</td>\n",
       "    </tr>\n",
       "    <tr>\n",
       "      <th>4</th>\n",
       "      <td>2015_05_negitive</td>\n",
       "      <td>The text discusses various people's experience...</td>\n",
       "    </tr>\n",
       "    <tr>\n",
       "      <th>5</th>\n",
       "      <td>2015_06_negitive</td>\n",
       "      <td>The text discusses various aspects of vaccinat...</td>\n",
       "    </tr>\n",
       "    <tr>\n",
       "      <th>6</th>\n",
       "      <td>2015_07_negitive</td>\n",
       "      <td>The sentences discuss various opinions, experi...</td>\n",
       "    </tr>\n",
       "  </tbody>\n",
       "</table>\n",
       "</div>"
      ],
      "text/plain": [
       "            dataset                                            summary\n",
       "0  2015_01_negitive  The text reflects a widespread frustration and...\n",
       "1  2015_02_negitive  The selected texts express a mix of opinions a...\n",
       "2  2015_03_negitive  The discussion revolves around various concern...\n",
       "3  2015_04_negitive  The sentences express various opinions and exp...\n",
       "4  2015_05_negitive  The text discusses various people's experience...\n",
       "5  2015_06_negitive  The text discusses various aspects of vaccinat...\n",
       "6  2015_07_negitive  The sentences discuss various opinions, experi..."
      ]
     },
     "execution_count": 109,
     "metadata": {},
     "output_type": "execute_result"
    }
   ],
   "source": [
    "df_2015_neg.tail(14)"
   ]
  },
  {
   "cell_type": "code",
   "execution_count": 110,
   "id": "19075d74",
   "metadata": {},
   "outputs": [
    {
     "data": {
      "text/plain": [
       "<OpenAIObject chat.completion id=chatcmpl-AUd5OZcLnI9PQJAmjVpPL71ypxD9B at 0x2435e72e860> JSON: {\n",
       "  \"choices\": [\n",
       "    {\n",
       "      \"finish_reason\": \"stop\",\n",
       "      \"index\": 0,\n",
       "      \"logprobs\": null,\n",
       "      \"message\": {\n",
       "        \"content\": \"The sentences discuss various opinions, experiences, and controversies surrounding vaccines. Many express discomfort and pain associated with vaccinations, while others mention skepticism, conspiracy theories, and criticisms of vaccination campaigns. There are references to specific vaccines (like HPV and anti-flu) and notable figures, including Jim Carrey, who criticize vaccination policies. Some highlight the lack of available vaccines, while others sarcastically question the efficacy of vaccines, suggesting they sometimes lead to illnesses instead of preventing them.\",\n",
       "        \"refusal\": null,\n",
       "        \"role\": \"assistant\"\n",
       "      }\n",
       "    }\n",
       "  ],\n",
       "  \"created\": 1731863450,\n",
       "  \"id\": \"chatcmpl-AUd5OZcLnI9PQJAmjVpPL71ypxD9B\",\n",
       "  \"model\": \"gpt-4o-mini-2024-07-18\",\n",
       "  \"object\": \"chat.completion\",\n",
       "  \"system_fingerprint\": \"fp_0ba0d124f1\",\n",
       "  \"usage\": {\n",
       "    \"completion_tokens\": 93,\n",
       "    \"completion_tokens_details\": {\n",
       "      \"accepted_prediction_tokens\": 0,\n",
       "      \"audio_tokens\": 0,\n",
       "      \"reasoning_tokens\": 0,\n",
       "      \"rejected_prediction_tokens\": 0\n",
       "    },\n",
       "    \"prompt_tokens\": 23097,\n",
       "    \"prompt_tokens_details\": {\n",
       "      \"audio_tokens\": 0,\n",
       "      \"cached_tokens\": 0\n",
       "    },\n",
       "    \"total_tokens\": 23190\n",
       "  }\n",
       "}"
      ]
     },
     "execution_count": 110,
     "metadata": {},
     "output_type": "execute_result"
    }
   ],
   "source": [
    "response"
   ]
  },
  {
   "cell_type": "markdown",
   "id": "9d083d2a",
   "metadata": {},
   "source": [
    "## August"
   ]
  },
  {
   "cell_type": "code",
   "execution_count": 111,
   "id": "0ed2a943",
   "metadata": {
    "scrolled": true,
    "tags": []
   },
   "outputs": [
    {
     "name": "stdout",
     "output_type": "stream",
     "text": [
      "<class 'pandas.core.frame.DataFrame'>\n",
      "RangeIndex: 1207 entries, 0 to 1206\n",
      "Data columns (total 53 columns):\n",
      " #   Column                  Non-Null Count  Dtype  \n",
      "---  ------                  --------------  -----  \n",
      " 0   index                   1207 non-null   int64  \n",
      " 1   LocationCode            1207 non-null   object \n",
      " 2   LocationName            1207 non-null   object \n",
      " 3   StatesCode              1207 non-null   object \n",
      " 4   ...4                    1207 non-null   int64  \n",
      " 5   id                      1207 non-null   float64\n",
      " 6   text                    1207 non-null   object \n",
      " 7   label                   1207 non-null   object \n",
      " 8   in_reply_to_status_id   113 non-null    float64\n",
      " 9   in_reply_to_user_id     121 non-null    float64\n",
      " 10  quoted_user_id          19 non-null     float64\n",
      " 11  quoted_status_id        19 non-null     float64\n",
      " 12  retweeted_user_id       195 non-null    float64\n",
      " 13  retweeted_status_id     195 non-null    float64\n",
      " 14  created_at              1207 non-null   object \n",
      " 15  entities.user_mentions  322 non-null    object \n",
      " 16  user.id                 1207 non-null   int64  \n",
      " 17  user.screen_name        1207 non-null   object \n",
      " 18  user.name               1207 non-null   object \n",
      " 19  user.description        1079 non-null   object \n",
      " 20  user.timezone           0 non-null      float64\n",
      " 21  user.location           1117 non-null   object \n",
      " 22  user.num_followers      1207 non-null   int64  \n",
      " 23  user.num_following      1207 non-null   int64  \n",
      " 24  user.created_at         1207 non-null   object \n",
      " 25  user.statuses_count     1207 non-null   int64  \n",
      " 26  user.is_verified        1207 non-null   bool   \n",
      " 27  lang                    1207 non-null   object \n",
      " 28  token_count             1207 non-null   int64  \n",
      " 29  is_retweet              1207 non-null   bool   \n",
      " 30  has_quote               1207 non-null   bool   \n",
      " 31  is_reply                1207 non-null   bool   \n",
      " 32  contains_keywords       1207 non-null   bool   \n",
      " 33  longitude               1207 non-null   float64\n",
      " 34  latitude                1207 non-null   float64\n",
      " 35  country_code            1207 non-null   object \n",
      " 36  geoname_id              944 non-null    float64\n",
      " 37  location_type           1207 non-null   object \n",
      " 38  geo_type                1207 non-null   int64  \n",
      " 39  region                  1207 non-null   object \n",
      " 40  subregion               1207 non-null   object \n",
      " 41  num_quotes              1207 non-null   int64  \n",
      " 42  num_replies             1207 non-null   int64  \n",
      " 43  num_retweets            1207 non-null   int64  \n",
      " 44  sent_gpt                1207 non-null   object \n",
      " 45  gpt_sent_presence       1207 non-null   int64  \n",
      " 46  cleaned_text_lem        1207 non-null   object \n",
      " 47  cleaned_text            1207 non-null   object \n",
      " 48  month                   1207 non-null   int64  \n",
      " 49  year                    1207 non-null   int64  \n",
      " 50  week                    1207 non-null   int64  \n",
      " 51  year_month              1207 non-null   object \n",
      " 52  year_week               1207 non-null   object \n",
      "dtypes: bool(5), float64(11), int64(15), object(22)\n",
      "memory usage: 458.6+ KB\n"
     ]
    }
   ],
   "source": [
    "# Get monthly data\n",
    "df_2015_08_neg = pd.read_csv('../data/local/df_neg_2015-08.csv').reset_index()\n",
    "df_2015_08_neg.info()"
   ]
  },
  {
   "cell_type": "markdown",
   "id": "3c035145",
   "metadata": {},
   "source": [
    "### Representative sample based on week and location"
   ]
  },
  {
   "cell_type": "code",
   "execution_count": 112,
   "id": "ebf072ee",
   "metadata": {},
   "outputs": [
    {
     "data": {
      "text/html": [
       "<div>\n",
       "<style scoped>\n",
       "    .dataframe tbody tr th:only-of-type {\n",
       "        vertical-align: middle;\n",
       "    }\n",
       "\n",
       "    .dataframe tbody tr th {\n",
       "        vertical-align: top;\n",
       "    }\n",
       "\n",
       "    .dataframe thead th {\n",
       "        text-align: right;\n",
       "    }\n",
       "</style>\n",
       "<table border=\"1\" class=\"dataframe\">\n",
       "  <thead>\n",
       "    <tr style=\"text-align: right;\">\n",
       "      <th></th>\n",
       "      <th>year_week</th>\n",
       "      <th>LocationName</th>\n",
       "      <th>group_size</th>\n",
       "      <th>proportion</th>\n",
       "    </tr>\n",
       "  </thead>\n",
       "  <tbody>\n",
       "    <tr>\n",
       "      <th>0</th>\n",
       "      <td>2015-w31</td>\n",
       "      <td>Alagoas</td>\n",
       "      <td>3</td>\n",
       "      <td>0.002486</td>\n",
       "    </tr>\n",
       "    <tr>\n",
       "      <th>1</th>\n",
       "      <td>2015-w31</td>\n",
       "      <td>Amazonas</td>\n",
       "      <td>5</td>\n",
       "      <td>0.004143</td>\n",
       "    </tr>\n",
       "    <tr>\n",
       "      <th>2</th>\n",
       "      <td>2015-w31</td>\n",
       "      <td>Bahia</td>\n",
       "      <td>6</td>\n",
       "      <td>0.004971</td>\n",
       "    </tr>\n",
       "    <tr>\n",
       "      <th>3</th>\n",
       "      <td>2015-w31</td>\n",
       "      <td>Ceara</td>\n",
       "      <td>1</td>\n",
       "      <td>0.000829</td>\n",
       "    </tr>\n",
       "    <tr>\n",
       "      <th>4</th>\n",
       "      <td>2015-w31</td>\n",
       "      <td>Distrito Federal</td>\n",
       "      <td>3</td>\n",
       "      <td>0.002486</td>\n",
       "    </tr>\n",
       "    <tr>\n",
       "      <th>...</th>\n",
       "      <td>...</td>\n",
       "      <td>...</td>\n",
       "      <td>...</td>\n",
       "      <td>...</td>\n",
       "    </tr>\n",
       "    <tr>\n",
       "      <th>88</th>\n",
       "      <td>2015-w35</td>\n",
       "      <td>Pernambuco</td>\n",
       "      <td>1</td>\n",
       "      <td>0.000829</td>\n",
       "    </tr>\n",
       "    <tr>\n",
       "      <th>89</th>\n",
       "      <td>2015-w35</td>\n",
       "      <td>Rio Grande Do Sul</td>\n",
       "      <td>19</td>\n",
       "      <td>0.015742</td>\n",
       "    </tr>\n",
       "    <tr>\n",
       "      <th>90</th>\n",
       "      <td>2015-w35</td>\n",
       "      <td>Santa Catarina</td>\n",
       "      <td>5</td>\n",
       "      <td>0.004143</td>\n",
       "    </tr>\n",
       "    <tr>\n",
       "      <th>91</th>\n",
       "      <td>2015-w35</td>\n",
       "      <td>Sao Paulo</td>\n",
       "      <td>30</td>\n",
       "      <td>0.024855</td>\n",
       "    </tr>\n",
       "    <tr>\n",
       "      <th>92</th>\n",
       "      <td>2015-w35</td>\n",
       "      <td>Tocantins</td>\n",
       "      <td>1</td>\n",
       "      <td>0.000829</td>\n",
       "    </tr>\n",
       "  </tbody>\n",
       "</table>\n",
       "<p>93 rows × 4 columns</p>\n",
       "</div>"
      ],
      "text/plain": [
       "   year_week       LocationName  group_size  proportion\n",
       "0   2015-w31            Alagoas           3    0.002486\n",
       "1   2015-w31           Amazonas           5    0.004143\n",
       "2   2015-w31              Bahia           6    0.004971\n",
       "3   2015-w31              Ceara           1    0.000829\n",
       "4   2015-w31   Distrito Federal           3    0.002486\n",
       "..       ...                ...         ...         ...\n",
       "88  2015-w35         Pernambuco           1    0.000829\n",
       "89  2015-w35  Rio Grande Do Sul          19    0.015742\n",
       "90  2015-w35     Santa Catarina           5    0.004143\n",
       "91  2015-w35          Sao Paulo          30    0.024855\n",
       "92  2015-w35          Tocantins           1    0.000829\n",
       "\n",
       "[93 rows x 4 columns]"
      ]
     },
     "execution_count": 112,
     "metadata": {},
     "output_type": "execute_result"
    }
   ],
   "source": [
    "# Step 1: Calculate the size of each group (year_week, LocationName)\n",
    "group_sizes = df_2015_08_neg.groupby(['year_week', 'LocationName']).size().reset_index(name='group_size')\n",
    "\n",
    "# Step 2: Calculate the proportion of each group in the dataset\n",
    "total_rows = len(df_2015_08_neg)\n",
    "group_sizes['proportion'] = group_sizes['group_size'] / total_rows\n",
    "group_sizes"
   ]
  },
  {
   "cell_type": "code",
   "execution_count": 113,
   "id": "c3bc6232",
   "metadata": {},
   "outputs": [
    {
     "data": {
      "text/html": [
       "<div>\n",
       "<style scoped>\n",
       "    .dataframe tbody tr th:only-of-type {\n",
       "        vertical-align: middle;\n",
       "    }\n",
       "\n",
       "    .dataframe tbody tr th {\n",
       "        vertical-align: top;\n",
       "    }\n",
       "\n",
       "    .dataframe thead th {\n",
       "        text-align: right;\n",
       "    }\n",
       "</style>\n",
       "<table border=\"1\" class=\"dataframe\">\n",
       "  <thead>\n",
       "    <tr style=\"text-align: right;\">\n",
       "      <th></th>\n",
       "      <th>year_week</th>\n",
       "      <th>LocationName</th>\n",
       "      <th>group_size</th>\n",
       "      <th>proportion</th>\n",
       "      <th>sample_size</th>\n",
       "    </tr>\n",
       "  </thead>\n",
       "  <tbody>\n",
       "    <tr>\n",
       "      <th>0</th>\n",
       "      <td>2015-w31</td>\n",
       "      <td>Alagoas</td>\n",
       "      <td>3</td>\n",
       "      <td>0.002486</td>\n",
       "      <td>6</td>\n",
       "    </tr>\n",
       "    <tr>\n",
       "      <th>1</th>\n",
       "      <td>2015-w31</td>\n",
       "      <td>Amazonas</td>\n",
       "      <td>5</td>\n",
       "      <td>0.004143</td>\n",
       "      <td>10</td>\n",
       "    </tr>\n",
       "    <tr>\n",
       "      <th>2</th>\n",
       "      <td>2015-w31</td>\n",
       "      <td>Bahia</td>\n",
       "      <td>6</td>\n",
       "      <td>0.004971</td>\n",
       "      <td>12</td>\n",
       "    </tr>\n",
       "    <tr>\n",
       "      <th>3</th>\n",
       "      <td>2015-w31</td>\n",
       "      <td>Ceara</td>\n",
       "      <td>1</td>\n",
       "      <td>0.000829</td>\n",
       "      <td>2</td>\n",
       "    </tr>\n",
       "    <tr>\n",
       "      <th>4</th>\n",
       "      <td>2015-w31</td>\n",
       "      <td>Distrito Federal</td>\n",
       "      <td>3</td>\n",
       "      <td>0.002486</td>\n",
       "      <td>6</td>\n",
       "    </tr>\n",
       "    <tr>\n",
       "      <th>...</th>\n",
       "      <td>...</td>\n",
       "      <td>...</td>\n",
       "      <td>...</td>\n",
       "      <td>...</td>\n",
       "      <td>...</td>\n",
       "    </tr>\n",
       "    <tr>\n",
       "      <th>88</th>\n",
       "      <td>2015-w35</td>\n",
       "      <td>Pernambuco</td>\n",
       "      <td>1</td>\n",
       "      <td>0.000829</td>\n",
       "      <td>2</td>\n",
       "    </tr>\n",
       "    <tr>\n",
       "      <th>89</th>\n",
       "      <td>2015-w35</td>\n",
       "      <td>Rio Grande Do Sul</td>\n",
       "      <td>19</td>\n",
       "      <td>0.015742</td>\n",
       "      <td>38</td>\n",
       "    </tr>\n",
       "    <tr>\n",
       "      <th>90</th>\n",
       "      <td>2015-w35</td>\n",
       "      <td>Santa Catarina</td>\n",
       "      <td>5</td>\n",
       "      <td>0.004143</td>\n",
       "      <td>10</td>\n",
       "    </tr>\n",
       "    <tr>\n",
       "      <th>91</th>\n",
       "      <td>2015-w35</td>\n",
       "      <td>Sao Paulo</td>\n",
       "      <td>30</td>\n",
       "      <td>0.024855</td>\n",
       "      <td>60</td>\n",
       "    </tr>\n",
       "    <tr>\n",
       "      <th>92</th>\n",
       "      <td>2015-w35</td>\n",
       "      <td>Tocantins</td>\n",
       "      <td>1</td>\n",
       "      <td>0.000829</td>\n",
       "      <td>2</td>\n",
       "    </tr>\n",
       "  </tbody>\n",
       "</table>\n",
       "<p>93 rows × 5 columns</p>\n",
       "</div>"
      ],
      "text/plain": [
       "   year_week       LocationName  group_size  proportion  sample_size\n",
       "0   2015-w31            Alagoas           3    0.002486            6\n",
       "1   2015-w31           Amazonas           5    0.004143           10\n",
       "2   2015-w31              Bahia           6    0.004971           12\n",
       "3   2015-w31              Ceara           1    0.000829            2\n",
       "4   2015-w31   Distrito Federal           3    0.002486            6\n",
       "..       ...                ...         ...         ...          ...\n",
       "88  2015-w35         Pernambuco           1    0.000829            2\n",
       "89  2015-w35  Rio Grande Do Sul          19    0.015742           38\n",
       "90  2015-w35     Santa Catarina           5    0.004143           10\n",
       "91  2015-w35          Sao Paulo          30    0.024855           60\n",
       "92  2015-w35          Tocantins           1    0.000829            2\n",
       "\n",
       "[93 rows x 5 columns]"
      ]
     },
     "execution_count": 113,
     "metadata": {},
     "output_type": "execute_result"
    }
   ],
   "source": [
    "# Step 3: Define the target sample size\n",
    "target_sample_size = 2450\n",
    "\n",
    "# Step 4: Calculate the sample size for each group (based on its proportion)\n",
    "group_sizes['sample_size'] = np.floor(group_sizes['proportion'] * target_sample_size).astype(int)\n",
    "group_sizes"
   ]
  },
  {
   "cell_type": "code",
   "execution_count": 114,
   "id": "2f55ef03",
   "metadata": {},
   "outputs": [],
   "source": [
    "# Step 5: Merge this sample size information back to the original DataFrame\n",
    "df_2015_08_neg_sample_size = pd.merge(df_2015_08_neg, group_sizes[['year_week', 'LocationName', 'sample_size']], \n",
    "                               on=['year_week', 'LocationName'], how='left')"
   ]
  },
  {
   "cell_type": "code",
   "execution_count": 115,
   "id": "2aa2083a",
   "metadata": {},
   "outputs": [
    {
     "name": "stdout",
     "output_type": "stream",
     "text": [
      "Sampled 1207 rows.\n"
     ]
    }
   ],
   "source": [
    "# Step 6: Perform the stratified sampling\n",
    "#df_2015_08_neg_sample = df_2015_08_neg_sample_size.groupby(['year_week', 'LocationName']).apply(\n",
    " #   lambda group: group.sample(n=group['sample_size'].iloc[0], random_state=42)\n",
    "#).reset_index(drop=True)\n",
    "df_2015_08_neg_sample = df_2015_08_neg\n",
    "# Step 7: Check the result\n",
    "print(f\"Sampled {len(df_2015_08_neg_sample)} rows.\")\n"
   ]
  },
  {
   "cell_type": "code",
   "execution_count": 116,
   "id": "3eb70c20",
   "metadata": {},
   "outputs": [],
   "source": [
    "text_gpt_2015_08_neg = '\\n'.join(df_2015_08_neg_sample['text'].astype(str))"
   ]
  },
  {
   "cell_type": "markdown",
   "id": "20c12a08",
   "metadata": {},
   "source": [
    "### Prompts and loops"
   ]
  },
  {
   "cell_type": "code",
   "execution_count": 117,
   "id": "6cbedf14",
   "metadata": {},
   "outputs": [],
   "source": [
    "prompt_8 = prompt_raw.replace('TWEETS', text_gpt_2015_08_neg)"
   ]
  },
  {
   "cell_type": "code",
   "execution_count": 118,
   "id": "6312a680",
   "metadata": {
    "scrolled": false
   },
   "outputs": [],
   "source": [
    "response = openai.ChatCompletion.create(\n",
    "    model=\"gpt-4o-mini\",  \n",
    "    messages = [\n",
    "        {\"role\": \"user\", \"content\": prompt_8}\n",
    "    ],\n",
    "    max_tokens=400,  # Maximum number of tokens in the response\n",
    "    temperature=0.7  # Controls the randomness of the output\n",
    ")"
   ]
  },
  {
   "cell_type": "code",
   "execution_count": 119,
   "id": "1af4a697",
   "metadata": {},
   "outputs": [
    {
     "data": {
      "text/plain": [
       "'The sentences discuss various experiences and opinions related to vaccinations, expressing discomfort and pain from getting vaccinated, particularly in the arm or buttock. There are complaints about the soreness and side effects following vaccinations, as well as concerns about low vaccination rates among children. Some express disdain for vaccines, while others highlight the necessity of vaccinations for public health, including references to specific vaccines like those for polio and meningitis.'"
      ]
     },
     "execution_count": 119,
     "metadata": {},
     "output_type": "execute_result"
    }
   ],
   "source": [
    "response.choices[0].message.content"
   ]
  },
  {
   "cell_type": "code",
   "execution_count": 120,
   "id": "c2df0aba",
   "metadata": {},
   "outputs": [],
   "source": [
    "#summary = []\n",
    "#dataset = []"
   ]
  },
  {
   "cell_type": "code",
   "execution_count": 121,
   "id": "9714a127",
   "metadata": {},
   "outputs": [],
   "source": [
    "dataset.append(\"2015_08_negitive\")"
   ]
  },
  {
   "cell_type": "code",
   "execution_count": 122,
   "id": "7118fbc6",
   "metadata": {},
   "outputs": [],
   "source": [
    "summary.append(response.choices[0].message.content)"
   ]
  },
  {
   "cell_type": "code",
   "execution_count": 123,
   "id": "626416cc",
   "metadata": {
    "tags": []
   },
   "outputs": [
    {
     "name": "stdout",
     "output_type": "stream",
     "text": [
      "<class 'pandas.core.frame.DataFrame'>\n",
      "RangeIndex: 8 entries, 0 to 7\n",
      "Data columns (total 2 columns):\n",
      " #   Column   Non-Null Count  Dtype \n",
      "---  ------   --------------  ----- \n",
      " 0   dataset  8 non-null      object\n",
      " 1   summary  8 non-null      object\n",
      "dtypes: object(2)\n",
      "memory usage: 256.0+ bytes\n"
     ]
    }
   ],
   "source": [
    "df_2015_neg = pd.DataFrame(list(zip(dataset, summary)),\n",
    "                            columns = ['dataset', 'summary'])\n",
    "df_2015_neg.info()"
   ]
  },
  {
   "cell_type": "code",
   "execution_count": 124,
   "id": "c9811a57",
   "metadata": {},
   "outputs": [
    {
     "data": {
      "text/html": [
       "<div>\n",
       "<style scoped>\n",
       "    .dataframe tbody tr th:only-of-type {\n",
       "        vertical-align: middle;\n",
       "    }\n",
       "\n",
       "    .dataframe tbody tr th {\n",
       "        vertical-align: top;\n",
       "    }\n",
       "\n",
       "    .dataframe thead th {\n",
       "        text-align: right;\n",
       "    }\n",
       "</style>\n",
       "<table border=\"1\" class=\"dataframe\">\n",
       "  <thead>\n",
       "    <tr style=\"text-align: right;\">\n",
       "      <th></th>\n",
       "      <th>dataset</th>\n",
       "      <th>summary</th>\n",
       "    </tr>\n",
       "  </thead>\n",
       "  <tbody>\n",
       "    <tr>\n",
       "      <th>0</th>\n",
       "      <td>2015_01_negitive</td>\n",
       "      <td>The text reflects a widespread frustration and...</td>\n",
       "    </tr>\n",
       "    <tr>\n",
       "      <th>1</th>\n",
       "      <td>2015_02_negitive</td>\n",
       "      <td>The selected texts express a mix of opinions a...</td>\n",
       "    </tr>\n",
       "    <tr>\n",
       "      <th>2</th>\n",
       "      <td>2015_03_negitive</td>\n",
       "      <td>The discussion revolves around various concern...</td>\n",
       "    </tr>\n",
       "    <tr>\n",
       "      <th>3</th>\n",
       "      <td>2015_04_negitive</td>\n",
       "      <td>The sentences express various opinions and exp...</td>\n",
       "    </tr>\n",
       "    <tr>\n",
       "      <th>4</th>\n",
       "      <td>2015_05_negitive</td>\n",
       "      <td>The text discusses various people's experience...</td>\n",
       "    </tr>\n",
       "    <tr>\n",
       "      <th>5</th>\n",
       "      <td>2015_06_negitive</td>\n",
       "      <td>The text discusses various aspects of vaccinat...</td>\n",
       "    </tr>\n",
       "    <tr>\n",
       "      <th>6</th>\n",
       "      <td>2015_07_negitive</td>\n",
       "      <td>The sentences discuss various opinions, experi...</td>\n",
       "    </tr>\n",
       "    <tr>\n",
       "      <th>7</th>\n",
       "      <td>2015_08_negitive</td>\n",
       "      <td>The sentences discuss various experiences and ...</td>\n",
       "    </tr>\n",
       "  </tbody>\n",
       "</table>\n",
       "</div>"
      ],
      "text/plain": [
       "            dataset                                            summary\n",
       "0  2015_01_negitive  The text reflects a widespread frustration and...\n",
       "1  2015_02_negitive  The selected texts express a mix of opinions a...\n",
       "2  2015_03_negitive  The discussion revolves around various concern...\n",
       "3  2015_04_negitive  The sentences express various opinions and exp...\n",
       "4  2015_05_negitive  The text discusses various people's experience...\n",
       "5  2015_06_negitive  The text discusses various aspects of vaccinat...\n",
       "6  2015_07_negitive  The sentences discuss various opinions, experi...\n",
       "7  2015_08_negitive  The sentences discuss various experiences and ..."
      ]
     },
     "execution_count": 124,
     "metadata": {},
     "output_type": "execute_result"
    }
   ],
   "source": [
    "df_2015_neg.tail(14)"
   ]
  },
  {
   "cell_type": "code",
   "execution_count": 125,
   "id": "cd10153f",
   "metadata": {},
   "outputs": [
    {
     "data": {
      "text/plain": [
       "<OpenAIObject chat.completion id=chatcmpl-AUd5SahPOHXIKobr9FWQ2BtS9fNls at 0x2435e9f1f90> JSON: {\n",
       "  \"choices\": [\n",
       "    {\n",
       "      \"finish_reason\": \"stop\",\n",
       "      \"index\": 0,\n",
       "      \"logprobs\": null,\n",
       "      \"message\": {\n",
       "        \"content\": \"The sentences discuss various experiences and opinions related to vaccinations, expressing discomfort and pain from getting vaccinated, particularly in the arm or buttock. There are complaints about the soreness and side effects following vaccinations, as well as concerns about low vaccination rates among children. Some express disdain for vaccines, while others highlight the necessity of vaccinations for public health, including references to specific vaccines like those for polio and meningitis.\",\n",
       "        \"refusal\": null,\n",
       "        \"role\": \"assistant\"\n",
       "      }\n",
       "    }\n",
       "  ],\n",
       "  \"created\": 1731863454,\n",
       "  \"id\": \"chatcmpl-AUd5SahPOHXIKobr9FWQ2BtS9fNls\",\n",
       "  \"model\": \"gpt-4o-mini-2024-07-18\",\n",
       "  \"object\": \"chat.completion\",\n",
       "  \"system_fingerprint\": \"fp_0ba0d124f1\",\n",
       "  \"usage\": {\n",
       "    \"completion_tokens\": 81,\n",
       "    \"completion_tokens_details\": {\n",
       "      \"accepted_prediction_tokens\": 0,\n",
       "      \"audio_tokens\": 0,\n",
       "      \"reasoning_tokens\": 0,\n",
       "      \"rejected_prediction_tokens\": 0\n",
       "    },\n",
       "    \"prompt_tokens\": 23934,\n",
       "    \"prompt_tokens_details\": {\n",
       "      \"audio_tokens\": 0,\n",
       "      \"cached_tokens\": 0\n",
       "    },\n",
       "    \"total_tokens\": 24015\n",
       "  }\n",
       "}"
      ]
     },
     "execution_count": 125,
     "metadata": {},
     "output_type": "execute_result"
    }
   ],
   "source": [
    "response"
   ]
  },
  {
   "cell_type": "markdown",
   "id": "1a0c859d",
   "metadata": {},
   "source": [
    "## September"
   ]
  },
  {
   "cell_type": "code",
   "execution_count": 126,
   "id": "46970275",
   "metadata": {
    "scrolled": true,
    "tags": []
   },
   "outputs": [
    {
     "name": "stdout",
     "output_type": "stream",
     "text": [
      "<class 'pandas.core.frame.DataFrame'>\n",
      "RangeIndex: 687 entries, 0 to 686\n",
      "Data columns (total 53 columns):\n",
      " #   Column                  Non-Null Count  Dtype  \n",
      "---  ------                  --------------  -----  \n",
      " 0   index                   687 non-null    int64  \n",
      " 1   LocationCode            687 non-null    object \n",
      " 2   LocationName            687 non-null    object \n",
      " 3   StatesCode              687 non-null    object \n",
      " 4   ...4                    687 non-null    int64  \n",
      " 5   id                      687 non-null    float64\n",
      " 6   text                    687 non-null    object \n",
      " 7   label                   687 non-null    object \n",
      " 8   in_reply_to_status_id   83 non-null     float64\n",
      " 9   in_reply_to_user_id     85 non-null     float64\n",
      " 10  quoted_user_id          7 non-null      float64\n",
      " 11  quoted_status_id        7 non-null      float64\n",
      " 12  retweeted_user_id       78 non-null     float64\n",
      " 13  retweeted_status_id     78 non-null     float64\n",
      " 14  created_at              687 non-null    object \n",
      " 15  entities.user_mentions  176 non-null    object \n",
      " 16  user.id                 687 non-null    int64  \n",
      " 17  user.screen_name        687 non-null    object \n",
      " 18  user.name               687 non-null    object \n",
      " 19  user.description        618 non-null    object \n",
      " 20  user.timezone           0 non-null      float64\n",
      " 21  user.location           652 non-null    object \n",
      " 22  user.num_followers      687 non-null    int64  \n",
      " 23  user.num_following      687 non-null    int64  \n",
      " 24  user.created_at         687 non-null    object \n",
      " 25  user.statuses_count     687 non-null    int64  \n",
      " 26  user.is_verified        687 non-null    bool   \n",
      " 27  lang                    687 non-null    object \n",
      " 28  token_count             687 non-null    int64  \n",
      " 29  is_retweet              687 non-null    bool   \n",
      " 30  has_quote               687 non-null    bool   \n",
      " 31  is_reply                687 non-null    bool   \n",
      " 32  contains_keywords       687 non-null    bool   \n",
      " 33  longitude               687 non-null    float64\n",
      " 34  latitude                687 non-null    float64\n",
      " 35  country_code            687 non-null    object \n",
      " 36  geoname_id              545 non-null    float64\n",
      " 37  location_type           687 non-null    object \n",
      " 38  geo_type                687 non-null    int64  \n",
      " 39  region                  687 non-null    object \n",
      " 40  subregion               687 non-null    object \n",
      " 41  num_quotes              687 non-null    int64  \n",
      " 42  num_replies             687 non-null    int64  \n",
      " 43  num_retweets            687 non-null    int64  \n",
      " 44  sent_gpt                687 non-null    object \n",
      " 45  gpt_sent_presence       687 non-null    int64  \n",
      " 46  cleaned_text_lem        687 non-null    object \n",
      " 47  cleaned_text            687 non-null    object \n",
      " 48  month                   687 non-null    int64  \n",
      " 49  year                    687 non-null    int64  \n",
      " 50  week                    687 non-null    int64  \n",
      " 51  year_month              687 non-null    object \n",
      " 52  year_week               687 non-null    object \n",
      "dtypes: bool(5), float64(11), int64(15), object(22)\n",
      "memory usage: 261.1+ KB\n"
     ]
    }
   ],
   "source": [
    "# Get monthly data\n",
    "df_2015_09_neg = pd.read_csv('../data/local/df_neg_2015-09.csv').reset_index()\n",
    "df_2015_09_neg.info()"
   ]
  },
  {
   "cell_type": "markdown",
   "id": "6d6d95b1",
   "metadata": {},
   "source": [
    "### Representative sample based on week and location"
   ]
  },
  {
   "cell_type": "code",
   "execution_count": 127,
   "id": "1c64358d",
   "metadata": {},
   "outputs": [
    {
     "data": {
      "text/html": [
       "<div>\n",
       "<style scoped>\n",
       "    .dataframe tbody tr th:only-of-type {\n",
       "        vertical-align: middle;\n",
       "    }\n",
       "\n",
       "    .dataframe tbody tr th {\n",
       "        vertical-align: top;\n",
       "    }\n",
       "\n",
       "    .dataframe thead th {\n",
       "        text-align: right;\n",
       "    }\n",
       "</style>\n",
       "<table border=\"1\" class=\"dataframe\">\n",
       "  <thead>\n",
       "    <tr style=\"text-align: right;\">\n",
       "      <th></th>\n",
       "      <th>year_week</th>\n",
       "      <th>LocationName</th>\n",
       "      <th>group_size</th>\n",
       "      <th>proportion</th>\n",
       "    </tr>\n",
       "  </thead>\n",
       "  <tbody>\n",
       "    <tr>\n",
       "      <th>0</th>\n",
       "      <td>2015-w35</td>\n",
       "      <td>Alagoas</td>\n",
       "      <td>1</td>\n",
       "      <td>0.001456</td>\n",
       "    </tr>\n",
       "    <tr>\n",
       "      <th>1</th>\n",
       "      <td>2015-w35</td>\n",
       "      <td>Amapa</td>\n",
       "      <td>1</td>\n",
       "      <td>0.001456</td>\n",
       "    </tr>\n",
       "    <tr>\n",
       "      <th>2</th>\n",
       "      <td>2015-w35</td>\n",
       "      <td>Amazonas</td>\n",
       "      <td>2</td>\n",
       "      <td>0.002911</td>\n",
       "    </tr>\n",
       "    <tr>\n",
       "      <th>3</th>\n",
       "      <td>2015-w35</td>\n",
       "      <td>Bahia</td>\n",
       "      <td>1</td>\n",
       "      <td>0.001456</td>\n",
       "    </tr>\n",
       "    <tr>\n",
       "      <th>4</th>\n",
       "      <td>2015-w35</td>\n",
       "      <td>Ceara</td>\n",
       "      <td>1</td>\n",
       "      <td>0.001456</td>\n",
       "    </tr>\n",
       "    <tr>\n",
       "      <th>...</th>\n",
       "      <td>...</td>\n",
       "      <td>...</td>\n",
       "      <td>...</td>\n",
       "      <td>...</td>\n",
       "    </tr>\n",
       "    <tr>\n",
       "      <th>90</th>\n",
       "      <td>2015-w39</td>\n",
       "      <td>Rio Grande Do Sul</td>\n",
       "      <td>11</td>\n",
       "      <td>0.016012</td>\n",
       "    </tr>\n",
       "    <tr>\n",
       "      <th>91</th>\n",
       "      <td>2015-w39</td>\n",
       "      <td>Santa Catarina</td>\n",
       "      <td>3</td>\n",
       "      <td>0.004367</td>\n",
       "    </tr>\n",
       "    <tr>\n",
       "      <th>92</th>\n",
       "      <td>2015-w39</td>\n",
       "      <td>Sao Paulo</td>\n",
       "      <td>35</td>\n",
       "      <td>0.050946</td>\n",
       "    </tr>\n",
       "    <tr>\n",
       "      <th>93</th>\n",
       "      <td>2015-w39</td>\n",
       "      <td>Sergipe</td>\n",
       "      <td>2</td>\n",
       "      <td>0.002911</td>\n",
       "    </tr>\n",
       "    <tr>\n",
       "      <th>94</th>\n",
       "      <td>2015-w39</td>\n",
       "      <td>Tocantins</td>\n",
       "      <td>2</td>\n",
       "      <td>0.002911</td>\n",
       "    </tr>\n",
       "  </tbody>\n",
       "</table>\n",
       "<p>95 rows × 4 columns</p>\n",
       "</div>"
      ],
      "text/plain": [
       "   year_week       LocationName  group_size  proportion\n",
       "0   2015-w35            Alagoas           1    0.001456\n",
       "1   2015-w35              Amapa           1    0.001456\n",
       "2   2015-w35           Amazonas           2    0.002911\n",
       "3   2015-w35              Bahia           1    0.001456\n",
       "4   2015-w35              Ceara           1    0.001456\n",
       "..       ...                ...         ...         ...\n",
       "90  2015-w39  Rio Grande Do Sul          11    0.016012\n",
       "91  2015-w39     Santa Catarina           3    0.004367\n",
       "92  2015-w39          Sao Paulo          35    0.050946\n",
       "93  2015-w39            Sergipe           2    0.002911\n",
       "94  2015-w39          Tocantins           2    0.002911\n",
       "\n",
       "[95 rows x 4 columns]"
      ]
     },
     "execution_count": 127,
     "metadata": {},
     "output_type": "execute_result"
    }
   ],
   "source": [
    "# Step 1: Calculate the size of each group (year_week, LocationName)\n",
    "group_sizes = df_2015_09_neg.groupby(['year_week', 'LocationName']).size().reset_index(name='group_size')\n",
    "\n",
    "# Step 2: Calculate the proportion of each group in the dataset\n",
    "total_rows = len(df_2015_09_neg)\n",
    "group_sizes['proportion'] = group_sizes['group_size'] / total_rows\n",
    "group_sizes"
   ]
  },
  {
   "cell_type": "code",
   "execution_count": 128,
   "id": "0f70bf42",
   "metadata": {},
   "outputs": [
    {
     "data": {
      "text/html": [
       "<div>\n",
       "<style scoped>\n",
       "    .dataframe tbody tr th:only-of-type {\n",
       "        vertical-align: middle;\n",
       "    }\n",
       "\n",
       "    .dataframe tbody tr th {\n",
       "        vertical-align: top;\n",
       "    }\n",
       "\n",
       "    .dataframe thead th {\n",
       "        text-align: right;\n",
       "    }\n",
       "</style>\n",
       "<table border=\"1\" class=\"dataframe\">\n",
       "  <thead>\n",
       "    <tr style=\"text-align: right;\">\n",
       "      <th></th>\n",
       "      <th>year_week</th>\n",
       "      <th>LocationName</th>\n",
       "      <th>group_size</th>\n",
       "      <th>proportion</th>\n",
       "      <th>sample_size</th>\n",
       "    </tr>\n",
       "  </thead>\n",
       "  <tbody>\n",
       "    <tr>\n",
       "      <th>0</th>\n",
       "      <td>2015-w35</td>\n",
       "      <td>Alagoas</td>\n",
       "      <td>1</td>\n",
       "      <td>0.001456</td>\n",
       "      <td>3</td>\n",
       "    </tr>\n",
       "    <tr>\n",
       "      <th>1</th>\n",
       "      <td>2015-w35</td>\n",
       "      <td>Amapa</td>\n",
       "      <td>1</td>\n",
       "      <td>0.001456</td>\n",
       "      <td>3</td>\n",
       "    </tr>\n",
       "    <tr>\n",
       "      <th>2</th>\n",
       "      <td>2015-w35</td>\n",
       "      <td>Amazonas</td>\n",
       "      <td>2</td>\n",
       "      <td>0.002911</td>\n",
       "      <td>7</td>\n",
       "    </tr>\n",
       "    <tr>\n",
       "      <th>3</th>\n",
       "      <td>2015-w35</td>\n",
       "      <td>Bahia</td>\n",
       "      <td>1</td>\n",
       "      <td>0.001456</td>\n",
       "      <td>3</td>\n",
       "    </tr>\n",
       "    <tr>\n",
       "      <th>4</th>\n",
       "      <td>2015-w35</td>\n",
       "      <td>Ceara</td>\n",
       "      <td>1</td>\n",
       "      <td>0.001456</td>\n",
       "      <td>3</td>\n",
       "    </tr>\n",
       "    <tr>\n",
       "      <th>...</th>\n",
       "      <td>...</td>\n",
       "      <td>...</td>\n",
       "      <td>...</td>\n",
       "      <td>...</td>\n",
       "      <td>...</td>\n",
       "    </tr>\n",
       "    <tr>\n",
       "      <th>90</th>\n",
       "      <td>2015-w39</td>\n",
       "      <td>Rio Grande Do Sul</td>\n",
       "      <td>11</td>\n",
       "      <td>0.016012</td>\n",
       "      <td>39</td>\n",
       "    </tr>\n",
       "    <tr>\n",
       "      <th>91</th>\n",
       "      <td>2015-w39</td>\n",
       "      <td>Santa Catarina</td>\n",
       "      <td>3</td>\n",
       "      <td>0.004367</td>\n",
       "      <td>10</td>\n",
       "    </tr>\n",
       "    <tr>\n",
       "      <th>92</th>\n",
       "      <td>2015-w39</td>\n",
       "      <td>Sao Paulo</td>\n",
       "      <td>35</td>\n",
       "      <td>0.050946</td>\n",
       "      <td>124</td>\n",
       "    </tr>\n",
       "    <tr>\n",
       "      <th>93</th>\n",
       "      <td>2015-w39</td>\n",
       "      <td>Sergipe</td>\n",
       "      <td>2</td>\n",
       "      <td>0.002911</td>\n",
       "      <td>7</td>\n",
       "    </tr>\n",
       "    <tr>\n",
       "      <th>94</th>\n",
       "      <td>2015-w39</td>\n",
       "      <td>Tocantins</td>\n",
       "      <td>2</td>\n",
       "      <td>0.002911</td>\n",
       "      <td>7</td>\n",
       "    </tr>\n",
       "  </tbody>\n",
       "</table>\n",
       "<p>95 rows × 5 columns</p>\n",
       "</div>"
      ],
      "text/plain": [
       "   year_week       LocationName  group_size  proportion  sample_size\n",
       "0   2015-w35            Alagoas           1    0.001456            3\n",
       "1   2015-w35              Amapa           1    0.001456            3\n",
       "2   2015-w35           Amazonas           2    0.002911            7\n",
       "3   2015-w35              Bahia           1    0.001456            3\n",
       "4   2015-w35              Ceara           1    0.001456            3\n",
       "..       ...                ...         ...         ...          ...\n",
       "90  2015-w39  Rio Grande Do Sul          11    0.016012           39\n",
       "91  2015-w39     Santa Catarina           3    0.004367           10\n",
       "92  2015-w39          Sao Paulo          35    0.050946          124\n",
       "93  2015-w39            Sergipe           2    0.002911            7\n",
       "94  2015-w39          Tocantins           2    0.002911            7\n",
       "\n",
       "[95 rows x 5 columns]"
      ]
     },
     "execution_count": 128,
     "metadata": {},
     "output_type": "execute_result"
    }
   ],
   "source": [
    "# Step 3: Define the target sample size\n",
    "target_sample_size = 2450\n",
    "\n",
    "# Step 4: Calculate the sample size for each group (based on its proportion)\n",
    "group_sizes['sample_size'] = np.floor(group_sizes['proportion'] * target_sample_size).astype(int)\n",
    "group_sizes"
   ]
  },
  {
   "cell_type": "code",
   "execution_count": 129,
   "id": "1fbb0b3e",
   "metadata": {},
   "outputs": [],
   "source": [
    "# Step 5: Merge this sample size information back to the original DataFrame\n",
    "df_2015_09_neg_sample_size = pd.merge(df_2015_09_neg, group_sizes[['year_week', 'LocationName', 'sample_size']], \n",
    "                               on=['year_week', 'LocationName'], how='left')"
   ]
  },
  {
   "cell_type": "code",
   "execution_count": 130,
   "id": "e62cb3ac",
   "metadata": {},
   "outputs": [
    {
     "name": "stdout",
     "output_type": "stream",
     "text": [
      "Sampled 687 rows.\n"
     ]
    }
   ],
   "source": [
    "# Step 6: Perform the stratified sampling\n",
    "#df_2015_09_neg_sample = df_2015_09_neg_sample_size.groupby(['year_week', 'LocationName']).apply(\n",
    " #   lambda group: group.sample(n=group['sample_size'].iloc[0], random_state=42)\n",
    "#).reset_index(drop=True)\n",
    "df_2015_09_neg_sample = df_2015_09_neg\n",
    "# Step 7: Check the result\n",
    "print(f\"Sampled {len(df_2015_09_neg_sample)} rows.\")\n"
   ]
  },
  {
   "cell_type": "code",
   "execution_count": 131,
   "id": "f94fe9d7",
   "metadata": {},
   "outputs": [],
   "source": [
    "text_gpt_2015_09_neg = '\\n'.join(df_2015_09_neg_sample['text'].astype(str))"
   ]
  },
  {
   "cell_type": "markdown",
   "id": "b7904a7f",
   "metadata": {},
   "source": [
    "### Prompts and loops"
   ]
  },
  {
   "cell_type": "code",
   "execution_count": 132,
   "id": "71bbca85",
   "metadata": {},
   "outputs": [],
   "source": [
    "prompt_9 = prompt_raw.replace('TWEETS', text_gpt_2015_09_neg)"
   ]
  },
  {
   "cell_type": "code",
   "execution_count": 133,
   "id": "b7ae259f",
   "metadata": {
    "scrolled": false
   },
   "outputs": [],
   "source": [
    "response = openai.ChatCompletion.create(\n",
    "    model=\"gpt-4o-mini\",  \n",
    "    messages = [\n",
    "        {\"role\": \"user\", \"content\": prompt_9}\n",
    "    ],\n",
    "    max_tokens=400,  # Maximum number of tokens in the response\n",
    "    temperature=0.7  # Controls the randomness of the output\n",
    ")"
   ]
  },
  {
   "cell_type": "code",
   "execution_count": 134,
   "id": "8653eccf",
   "metadata": {},
   "outputs": [
    {
     "data": {
      "text/plain": [
       "\"The text discusses various individuals' negative sentiments and experiences regarding vaccinations, including fear, pain, and side effects. It highlights concerns about low vaccination coverage for diseases like polio and HPV in Brazil. Some express frustration over the perceived ineffectiveness or drawbacks of vaccines, while others mention logistical issues and the emotional difficulty of vaccinating children or pets. Overall, there is a strong emphasis on discomfort and skepticism toward vaccination.\""
      ]
     },
     "execution_count": 134,
     "metadata": {},
     "output_type": "execute_result"
    }
   ],
   "source": [
    "response.choices[0].message.content"
   ]
  },
  {
   "cell_type": "code",
   "execution_count": 135,
   "id": "6be7b347",
   "metadata": {},
   "outputs": [],
   "source": [
    "#summary = []\n",
    "#dataset = []"
   ]
  },
  {
   "cell_type": "code",
   "execution_count": 136,
   "id": "550a921f",
   "metadata": {},
   "outputs": [],
   "source": [
    "dataset.append(\"2015_09_negitive\")"
   ]
  },
  {
   "cell_type": "code",
   "execution_count": 137,
   "id": "83240506",
   "metadata": {},
   "outputs": [],
   "source": [
    "summary.append(response.choices[0].message.content)"
   ]
  },
  {
   "cell_type": "code",
   "execution_count": 138,
   "id": "0c75735b",
   "metadata": {
    "tags": []
   },
   "outputs": [
    {
     "name": "stdout",
     "output_type": "stream",
     "text": [
      "<class 'pandas.core.frame.DataFrame'>\n",
      "RangeIndex: 9 entries, 0 to 8\n",
      "Data columns (total 2 columns):\n",
      " #   Column   Non-Null Count  Dtype \n",
      "---  ------   --------------  ----- \n",
      " 0   dataset  9 non-null      object\n",
      " 1   summary  9 non-null      object\n",
      "dtypes: object(2)\n",
      "memory usage: 272.0+ bytes\n"
     ]
    }
   ],
   "source": [
    "df_2015_neg = pd.DataFrame(list(zip(dataset, summary)),\n",
    "                            columns = ['dataset', 'summary'])\n",
    "df_2015_neg.info()"
   ]
  },
  {
   "cell_type": "code",
   "execution_count": 139,
   "id": "fa955f73",
   "metadata": {},
   "outputs": [
    {
     "data": {
      "text/html": [
       "<div>\n",
       "<style scoped>\n",
       "    .dataframe tbody tr th:only-of-type {\n",
       "        vertical-align: middle;\n",
       "    }\n",
       "\n",
       "    .dataframe tbody tr th {\n",
       "        vertical-align: top;\n",
       "    }\n",
       "\n",
       "    .dataframe thead th {\n",
       "        text-align: right;\n",
       "    }\n",
       "</style>\n",
       "<table border=\"1\" class=\"dataframe\">\n",
       "  <thead>\n",
       "    <tr style=\"text-align: right;\">\n",
       "      <th></th>\n",
       "      <th>dataset</th>\n",
       "      <th>summary</th>\n",
       "    </tr>\n",
       "  </thead>\n",
       "  <tbody>\n",
       "    <tr>\n",
       "      <th>0</th>\n",
       "      <td>2015_01_negitive</td>\n",
       "      <td>The text reflects a widespread frustration and...</td>\n",
       "    </tr>\n",
       "    <tr>\n",
       "      <th>1</th>\n",
       "      <td>2015_02_negitive</td>\n",
       "      <td>The selected texts express a mix of opinions a...</td>\n",
       "    </tr>\n",
       "    <tr>\n",
       "      <th>2</th>\n",
       "      <td>2015_03_negitive</td>\n",
       "      <td>The discussion revolves around various concern...</td>\n",
       "    </tr>\n",
       "    <tr>\n",
       "      <th>3</th>\n",
       "      <td>2015_04_negitive</td>\n",
       "      <td>The sentences express various opinions and exp...</td>\n",
       "    </tr>\n",
       "    <tr>\n",
       "      <th>4</th>\n",
       "      <td>2015_05_negitive</td>\n",
       "      <td>The text discusses various people's experience...</td>\n",
       "    </tr>\n",
       "    <tr>\n",
       "      <th>5</th>\n",
       "      <td>2015_06_negitive</td>\n",
       "      <td>The text discusses various aspects of vaccinat...</td>\n",
       "    </tr>\n",
       "    <tr>\n",
       "      <th>6</th>\n",
       "      <td>2015_07_negitive</td>\n",
       "      <td>The sentences discuss various opinions, experi...</td>\n",
       "    </tr>\n",
       "    <tr>\n",
       "      <th>7</th>\n",
       "      <td>2015_08_negitive</td>\n",
       "      <td>The sentences discuss various experiences and ...</td>\n",
       "    </tr>\n",
       "    <tr>\n",
       "      <th>8</th>\n",
       "      <td>2015_09_negitive</td>\n",
       "      <td>The text discusses various individuals' negati...</td>\n",
       "    </tr>\n",
       "  </tbody>\n",
       "</table>\n",
       "</div>"
      ],
      "text/plain": [
       "            dataset                                            summary\n",
       "0  2015_01_negitive  The text reflects a widespread frustration and...\n",
       "1  2015_02_negitive  The selected texts express a mix of opinions a...\n",
       "2  2015_03_negitive  The discussion revolves around various concern...\n",
       "3  2015_04_negitive  The sentences express various opinions and exp...\n",
       "4  2015_05_negitive  The text discusses various people's experience...\n",
       "5  2015_06_negitive  The text discusses various aspects of vaccinat...\n",
       "6  2015_07_negitive  The sentences discuss various opinions, experi...\n",
       "7  2015_08_negitive  The sentences discuss various experiences and ...\n",
       "8  2015_09_negitive  The text discusses various individuals' negati..."
      ]
     },
     "execution_count": 139,
     "metadata": {},
     "output_type": "execute_result"
    }
   ],
   "source": [
    "df_2015_neg.tail(14)"
   ]
  },
  {
   "cell_type": "code",
   "execution_count": 140,
   "id": "4c204870",
   "metadata": {},
   "outputs": [
    {
     "data": {
      "text/plain": [
       "<OpenAIObject chat.completion id=chatcmpl-AUd5WziEd1eC0Gkd6OlYsQ6YSYmva at 0x2435e814950> JSON: {\n",
       "  \"choices\": [\n",
       "    {\n",
       "      \"finish_reason\": \"stop\",\n",
       "      \"index\": 0,\n",
       "      \"logprobs\": null,\n",
       "      \"message\": {\n",
       "        \"content\": \"The text discusses various individuals' negative sentiments and experiences regarding vaccinations, including fear, pain, and side effects. It highlights concerns about low vaccination coverage for diseases like polio and HPV in Brazil. Some express frustration over the perceived ineffectiveness or drawbacks of vaccines, while others mention logistical issues and the emotional difficulty of vaccinating children or pets. Overall, there is a strong emphasis on discomfort and skepticism toward vaccination.\",\n",
       "        \"refusal\": null,\n",
       "        \"role\": \"assistant\"\n",
       "      }\n",
       "    }\n",
       "  ],\n",
       "  \"created\": 1731863458,\n",
       "  \"id\": \"chatcmpl-AUd5WziEd1eC0Gkd6OlYsQ6YSYmva\",\n",
       "  \"model\": \"gpt-4o-mini-2024-07-18\",\n",
       "  \"object\": \"chat.completion\",\n",
       "  \"system_fingerprint\": \"fp_0ba0d124f1\",\n",
       "  \"usage\": {\n",
       "    \"completion_tokens\": 83,\n",
       "    \"completion_tokens_details\": {\n",
       "      \"accepted_prediction_tokens\": 0,\n",
       "      \"audio_tokens\": 0,\n",
       "      \"reasoning_tokens\": 0,\n",
       "      \"rejected_prediction_tokens\": 0\n",
       "    },\n",
       "    \"prompt_tokens\": 14283,\n",
       "    \"prompt_tokens_details\": {\n",
       "      \"audio_tokens\": 0,\n",
       "      \"cached_tokens\": 0\n",
       "    },\n",
       "    \"total_tokens\": 14366\n",
       "  }\n",
       "}"
      ]
     },
     "execution_count": 140,
     "metadata": {},
     "output_type": "execute_result"
    }
   ],
   "source": [
    "response"
   ]
  },
  {
   "cell_type": "markdown",
   "id": "43f969b1",
   "metadata": {},
   "source": [
    "## October"
   ]
  },
  {
   "cell_type": "code",
   "execution_count": 141,
   "id": "28cedc2b",
   "metadata": {
    "scrolled": true,
    "tags": []
   },
   "outputs": [
    {
     "name": "stdout",
     "output_type": "stream",
     "text": [
      "<class 'pandas.core.frame.DataFrame'>\n",
      "RangeIndex: 750 entries, 0 to 749\n",
      "Data columns (total 53 columns):\n",
      " #   Column                  Non-Null Count  Dtype  \n",
      "---  ------                  --------------  -----  \n",
      " 0   index                   750 non-null    int64  \n",
      " 1   LocationCode            750 non-null    object \n",
      " 2   LocationName            750 non-null    object \n",
      " 3   StatesCode              750 non-null    object \n",
      " 4   ...4                    750 non-null    int64  \n",
      " 5   id                      750 non-null    float64\n",
      " 6   text                    750 non-null    object \n",
      " 7   label                   750 non-null    object \n",
      " 8   in_reply_to_status_id   61 non-null     float64\n",
      " 9   in_reply_to_user_id     63 non-null     float64\n",
      " 10  quoted_user_id          9 non-null      float64\n",
      " 11  quoted_status_id        9 non-null      float64\n",
      " 12  retweeted_user_id       138 non-null    float64\n",
      " 13  retweeted_status_id     138 non-null    float64\n",
      " 14  created_at              750 non-null    object \n",
      " 15  entities.user_mentions  213 non-null    object \n",
      " 16  user.id                 750 non-null    int64  \n",
      " 17  user.screen_name        750 non-null    object \n",
      " 18  user.name               750 non-null    object \n",
      " 19  user.description        660 non-null    object \n",
      " 20  user.timezone           0 non-null      float64\n",
      " 21  user.location           718 non-null    object \n",
      " 22  user.num_followers      750 non-null    int64  \n",
      " 23  user.num_following      750 non-null    int64  \n",
      " 24  user.created_at         750 non-null    object \n",
      " 25  user.statuses_count     750 non-null    int64  \n",
      " 26  user.is_verified        750 non-null    bool   \n",
      " 27  lang                    750 non-null    object \n",
      " 28  token_count             750 non-null    int64  \n",
      " 29  is_retweet              750 non-null    bool   \n",
      " 30  has_quote               750 non-null    bool   \n",
      " 31  is_reply                750 non-null    bool   \n",
      " 32  contains_keywords       750 non-null    bool   \n",
      " 33  longitude               750 non-null    float64\n",
      " 34  latitude                750 non-null    float64\n",
      " 35  country_code            750 non-null    object \n",
      " 36  geoname_id              640 non-null    float64\n",
      " 37  location_type           750 non-null    object \n",
      " 38  geo_type                750 non-null    int64  \n",
      " 39  region                  750 non-null    object \n",
      " 40  subregion               750 non-null    object \n",
      " 41  num_quotes              750 non-null    int64  \n",
      " 42  num_replies             750 non-null    int64  \n",
      " 43  num_retweets            750 non-null    int64  \n",
      " 44  sent_gpt                750 non-null    object \n",
      " 45  gpt_sent_presence       750 non-null    int64  \n",
      " 46  cleaned_text_lem        750 non-null    object \n",
      " 47  cleaned_text            750 non-null    object \n",
      " 48  month                   750 non-null    int64  \n",
      " 49  year                    750 non-null    int64  \n",
      " 50  week                    750 non-null    int64  \n",
      " 51  year_month              750 non-null    object \n",
      " 52  year_week               750 non-null    object \n",
      "dtypes: bool(5), float64(11), int64(15), object(22)\n",
      "memory usage: 285.0+ KB\n"
     ]
    }
   ],
   "source": [
    "# Get monthly data\n",
    "df_2015_10_neg = pd.read_csv('../data/local/df_neg_2015-10.csv').reset_index()\n",
    "df_2015_10_neg.info()"
   ]
  },
  {
   "cell_type": "markdown",
   "id": "616f674a",
   "metadata": {},
   "source": [
    "### Representative sample based on week and location"
   ]
  },
  {
   "cell_type": "code",
   "execution_count": 142,
   "id": "9cb193cd",
   "metadata": {},
   "outputs": [
    {
     "data": {
      "text/html": [
       "<div>\n",
       "<style scoped>\n",
       "    .dataframe tbody tr th:only-of-type {\n",
       "        vertical-align: middle;\n",
       "    }\n",
       "\n",
       "    .dataframe tbody tr th {\n",
       "        vertical-align: top;\n",
       "    }\n",
       "\n",
       "    .dataframe thead th {\n",
       "        text-align: right;\n",
       "    }\n",
       "</style>\n",
       "<table border=\"1\" class=\"dataframe\">\n",
       "  <thead>\n",
       "    <tr style=\"text-align: right;\">\n",
       "      <th></th>\n",
       "      <th>year_week</th>\n",
       "      <th>LocationName</th>\n",
       "      <th>group_size</th>\n",
       "      <th>proportion</th>\n",
       "    </tr>\n",
       "  </thead>\n",
       "  <tbody>\n",
       "    <tr>\n",
       "      <th>0</th>\n",
       "      <td>2015-w40</td>\n",
       "      <td>Acre</td>\n",
       "      <td>1</td>\n",
       "      <td>0.001333</td>\n",
       "    </tr>\n",
       "    <tr>\n",
       "      <th>1</th>\n",
       "      <td>2015-w40</td>\n",
       "      <td>Amapa</td>\n",
       "      <td>2</td>\n",
       "      <td>0.002667</td>\n",
       "    </tr>\n",
       "    <tr>\n",
       "      <th>2</th>\n",
       "      <td>2015-w40</td>\n",
       "      <td>Amazonas</td>\n",
       "      <td>6</td>\n",
       "      <td>0.008000</td>\n",
       "    </tr>\n",
       "    <tr>\n",
       "      <th>3</th>\n",
       "      <td>2015-w40</td>\n",
       "      <td>Bahia</td>\n",
       "      <td>10</td>\n",
       "      <td>0.013333</td>\n",
       "    </tr>\n",
       "    <tr>\n",
       "      <th>4</th>\n",
       "      <td>2015-w40</td>\n",
       "      <td>Ceara</td>\n",
       "      <td>6</td>\n",
       "      <td>0.008000</td>\n",
       "    </tr>\n",
       "    <tr>\n",
       "      <th>...</th>\n",
       "      <td>...</td>\n",
       "      <td>...</td>\n",
       "      <td>...</td>\n",
       "      <td>...</td>\n",
       "    </tr>\n",
       "    <tr>\n",
       "      <th>84</th>\n",
       "      <td>2015-w44</td>\n",
       "      <td>Pernambuco</td>\n",
       "      <td>1</td>\n",
       "      <td>0.001333</td>\n",
       "    </tr>\n",
       "    <tr>\n",
       "      <th>85</th>\n",
       "      <td>2015-w44</td>\n",
       "      <td>Rio Grande Do Sul</td>\n",
       "      <td>8</td>\n",
       "      <td>0.010667</td>\n",
       "    </tr>\n",
       "    <tr>\n",
       "      <th>86</th>\n",
       "      <td>2015-w44</td>\n",
       "      <td>Santa Catarina</td>\n",
       "      <td>3</td>\n",
       "      <td>0.004000</td>\n",
       "    </tr>\n",
       "    <tr>\n",
       "      <th>87</th>\n",
       "      <td>2015-w44</td>\n",
       "      <td>Sao Paulo</td>\n",
       "      <td>16</td>\n",
       "      <td>0.021333</td>\n",
       "    </tr>\n",
       "    <tr>\n",
       "      <th>88</th>\n",
       "      <td>2015-w44</td>\n",
       "      <td>Sergipe</td>\n",
       "      <td>1</td>\n",
       "      <td>0.001333</td>\n",
       "    </tr>\n",
       "  </tbody>\n",
       "</table>\n",
       "<p>89 rows × 4 columns</p>\n",
       "</div>"
      ],
      "text/plain": [
       "   year_week       LocationName  group_size  proportion\n",
       "0   2015-w40               Acre           1    0.001333\n",
       "1   2015-w40              Amapa           2    0.002667\n",
       "2   2015-w40           Amazonas           6    0.008000\n",
       "3   2015-w40              Bahia          10    0.013333\n",
       "4   2015-w40              Ceara           6    0.008000\n",
       "..       ...                ...         ...         ...\n",
       "84  2015-w44         Pernambuco           1    0.001333\n",
       "85  2015-w44  Rio Grande Do Sul           8    0.010667\n",
       "86  2015-w44     Santa Catarina           3    0.004000\n",
       "87  2015-w44          Sao Paulo          16    0.021333\n",
       "88  2015-w44            Sergipe           1    0.001333\n",
       "\n",
       "[89 rows x 4 columns]"
      ]
     },
     "execution_count": 142,
     "metadata": {},
     "output_type": "execute_result"
    }
   ],
   "source": [
    "# Step 1: Calculate the size of each group (year_week, LocationName)\n",
    "group_sizes = df_2015_10_neg.groupby(['year_week', 'LocationName']).size().reset_index(name='group_size')\n",
    "\n",
    "# Step 2: Calculate the proportion of each group in the dataset\n",
    "total_rows = len(df_2015_10_neg)\n",
    "group_sizes['proportion'] = group_sizes['group_size'] / total_rows\n",
    "group_sizes"
   ]
  },
  {
   "cell_type": "code",
   "execution_count": 143,
   "id": "610efcf6",
   "metadata": {},
   "outputs": [
    {
     "data": {
      "text/html": [
       "<div>\n",
       "<style scoped>\n",
       "    .dataframe tbody tr th:only-of-type {\n",
       "        vertical-align: middle;\n",
       "    }\n",
       "\n",
       "    .dataframe tbody tr th {\n",
       "        vertical-align: top;\n",
       "    }\n",
       "\n",
       "    .dataframe thead th {\n",
       "        text-align: right;\n",
       "    }\n",
       "</style>\n",
       "<table border=\"1\" class=\"dataframe\">\n",
       "  <thead>\n",
       "    <tr style=\"text-align: right;\">\n",
       "      <th></th>\n",
       "      <th>year_week</th>\n",
       "      <th>LocationName</th>\n",
       "      <th>group_size</th>\n",
       "      <th>proportion</th>\n",
       "      <th>sample_size</th>\n",
       "    </tr>\n",
       "  </thead>\n",
       "  <tbody>\n",
       "    <tr>\n",
       "      <th>0</th>\n",
       "      <td>2015-w40</td>\n",
       "      <td>Acre</td>\n",
       "      <td>1</td>\n",
       "      <td>0.001333</td>\n",
       "      <td>3</td>\n",
       "    </tr>\n",
       "    <tr>\n",
       "      <th>1</th>\n",
       "      <td>2015-w40</td>\n",
       "      <td>Amapa</td>\n",
       "      <td>2</td>\n",
       "      <td>0.002667</td>\n",
       "      <td>6</td>\n",
       "    </tr>\n",
       "    <tr>\n",
       "      <th>2</th>\n",
       "      <td>2015-w40</td>\n",
       "      <td>Amazonas</td>\n",
       "      <td>6</td>\n",
       "      <td>0.008000</td>\n",
       "      <td>19</td>\n",
       "    </tr>\n",
       "    <tr>\n",
       "      <th>3</th>\n",
       "      <td>2015-w40</td>\n",
       "      <td>Bahia</td>\n",
       "      <td>10</td>\n",
       "      <td>0.013333</td>\n",
       "      <td>32</td>\n",
       "    </tr>\n",
       "    <tr>\n",
       "      <th>4</th>\n",
       "      <td>2015-w40</td>\n",
       "      <td>Ceara</td>\n",
       "      <td>6</td>\n",
       "      <td>0.008000</td>\n",
       "      <td>19</td>\n",
       "    </tr>\n",
       "    <tr>\n",
       "      <th>...</th>\n",
       "      <td>...</td>\n",
       "      <td>...</td>\n",
       "      <td>...</td>\n",
       "      <td>...</td>\n",
       "      <td>...</td>\n",
       "    </tr>\n",
       "    <tr>\n",
       "      <th>84</th>\n",
       "      <td>2015-w44</td>\n",
       "      <td>Pernambuco</td>\n",
       "      <td>1</td>\n",
       "      <td>0.001333</td>\n",
       "      <td>3</td>\n",
       "    </tr>\n",
       "    <tr>\n",
       "      <th>85</th>\n",
       "      <td>2015-w44</td>\n",
       "      <td>Rio Grande Do Sul</td>\n",
       "      <td>8</td>\n",
       "      <td>0.010667</td>\n",
       "      <td>26</td>\n",
       "    </tr>\n",
       "    <tr>\n",
       "      <th>86</th>\n",
       "      <td>2015-w44</td>\n",
       "      <td>Santa Catarina</td>\n",
       "      <td>3</td>\n",
       "      <td>0.004000</td>\n",
       "      <td>9</td>\n",
       "    </tr>\n",
       "    <tr>\n",
       "      <th>87</th>\n",
       "      <td>2015-w44</td>\n",
       "      <td>Sao Paulo</td>\n",
       "      <td>16</td>\n",
       "      <td>0.021333</td>\n",
       "      <td>52</td>\n",
       "    </tr>\n",
       "    <tr>\n",
       "      <th>88</th>\n",
       "      <td>2015-w44</td>\n",
       "      <td>Sergipe</td>\n",
       "      <td>1</td>\n",
       "      <td>0.001333</td>\n",
       "      <td>3</td>\n",
       "    </tr>\n",
       "  </tbody>\n",
       "</table>\n",
       "<p>89 rows × 5 columns</p>\n",
       "</div>"
      ],
      "text/plain": [
       "   year_week       LocationName  group_size  proportion  sample_size\n",
       "0   2015-w40               Acre           1    0.001333            3\n",
       "1   2015-w40              Amapa           2    0.002667            6\n",
       "2   2015-w40           Amazonas           6    0.008000           19\n",
       "3   2015-w40              Bahia          10    0.013333           32\n",
       "4   2015-w40              Ceara           6    0.008000           19\n",
       "..       ...                ...         ...         ...          ...\n",
       "84  2015-w44         Pernambuco           1    0.001333            3\n",
       "85  2015-w44  Rio Grande Do Sul           8    0.010667           26\n",
       "86  2015-w44     Santa Catarina           3    0.004000            9\n",
       "87  2015-w44          Sao Paulo          16    0.021333           52\n",
       "88  2015-w44            Sergipe           1    0.001333            3\n",
       "\n",
       "[89 rows x 5 columns]"
      ]
     },
     "execution_count": 143,
     "metadata": {},
     "output_type": "execute_result"
    }
   ],
   "source": [
    "# Step 3: Define the target sample size\n",
    "target_sample_size = 2450\n",
    "\n",
    "# Step 4: Calculate the sample size for each group (based on its proportion)\n",
    "group_sizes['sample_size'] = np.floor(group_sizes['proportion'] * target_sample_size).astype(int)\n",
    "group_sizes"
   ]
  },
  {
   "cell_type": "code",
   "execution_count": 144,
   "id": "361d2734",
   "metadata": {},
   "outputs": [],
   "source": [
    "# Step 5: Merge this sample size information back to the original DataFrame\n",
    "df_2015_10_neg_sample_size = pd.merge(df_2015_10_neg, group_sizes[['year_week', 'LocationName', 'sample_size']], \n",
    "                               on=['year_week', 'LocationName'], how='left')"
   ]
  },
  {
   "cell_type": "code",
   "execution_count": 145,
   "id": "cd34d6e4",
   "metadata": {},
   "outputs": [
    {
     "name": "stdout",
     "output_type": "stream",
     "text": [
      "Sampled 750 rows.\n"
     ]
    }
   ],
   "source": [
    "# Step 6: Perform the stratified sampling\n",
    "#df_2015_10_neg_sample = df_2015_10_neg_sample_size.groupby(['year_week', 'LocationName']).apply(\n",
    "#    lambda group: group.sample(n=group['sample_size'].iloc[0], random_state=42)\n",
    "#).reset_index(drop=True)\n",
    "df_2015_10_neg_sample = df_2015_10_neg\n",
    "# Step 7: Check the result\n",
    "print(f\"Sampled {len(df_2015_10_neg_sample)} rows.\")\n"
   ]
  },
  {
   "cell_type": "code",
   "execution_count": 146,
   "id": "853aa7a6",
   "metadata": {},
   "outputs": [],
   "source": [
    "text_gpt_2015_10_neg = '\\n'.join(df_2015_10_neg_sample['text'].astype(str))"
   ]
  },
  {
   "cell_type": "markdown",
   "id": "0e857dd6",
   "metadata": {},
   "source": [
    "### Prompts and loops"
   ]
  },
  {
   "cell_type": "code",
   "execution_count": 147,
   "id": "997a28ad",
   "metadata": {},
   "outputs": [],
   "source": [
    "prompt_10 = prompt_raw.replace('TWEETS', text_gpt_2015_10_neg)"
   ]
  },
  {
   "cell_type": "code",
   "execution_count": 148,
   "id": "0ad6cb21",
   "metadata": {
    "scrolled": false
   },
   "outputs": [],
   "source": [
    "response = openai.ChatCompletion.create(\n",
    "    model=\"gpt-4o-mini\",  \n",
    "    messages = [\n",
    "        {\"role\": \"user\", \"content\": prompt_10}\n",
    "    ],\n",
    "    max_tokens=400,  # Maximum number of tokens in the response\n",
    "    temperature=0.7  # Controls the randomness of the output\n",
    ")"
   ]
  },
  {
   "cell_type": "code",
   "execution_count": 149,
   "id": "f98d14d4",
   "metadata": {},
   "outputs": [
    {
     "data": {
      "text/plain": [
       "'The text reflects widespread frustration and concern regarding vaccinations, highlighting individual experiences of pain and side effects after receiving vaccines. It discusses issues of neglect in vaccination programs, leading to the resurgence of diseases, and criticizes the inefficiency in accessing vaccines. There are also mentions of parental anxiety about their children being vaccinated and societal pressures surrounding vaccination.'"
      ]
     },
     "execution_count": 149,
     "metadata": {},
     "output_type": "execute_result"
    }
   ],
   "source": [
    "response.choices[0].message.content"
   ]
  },
  {
   "cell_type": "code",
   "execution_count": 150,
   "id": "148185bf",
   "metadata": {},
   "outputs": [],
   "source": [
    "#summary = []\n",
    "#dataset = []"
   ]
  },
  {
   "cell_type": "code",
   "execution_count": 151,
   "id": "91999070",
   "metadata": {},
   "outputs": [],
   "source": [
    "dataset.append(\"2015_10_negitive\")"
   ]
  },
  {
   "cell_type": "code",
   "execution_count": 152,
   "id": "ca0c8fcc",
   "metadata": {},
   "outputs": [],
   "source": [
    "summary.append(response.choices[0].message.content)"
   ]
  },
  {
   "cell_type": "code",
   "execution_count": 153,
   "id": "75de78c6",
   "metadata": {
    "tags": []
   },
   "outputs": [
    {
     "name": "stdout",
     "output_type": "stream",
     "text": [
      "<class 'pandas.core.frame.DataFrame'>\n",
      "RangeIndex: 10 entries, 0 to 9\n",
      "Data columns (total 2 columns):\n",
      " #   Column   Non-Null Count  Dtype \n",
      "---  ------   --------------  ----- \n",
      " 0   dataset  10 non-null     object\n",
      " 1   summary  10 non-null     object\n",
      "dtypes: object(2)\n",
      "memory usage: 288.0+ bytes\n"
     ]
    }
   ],
   "source": [
    "df_2015_neg = pd.DataFrame(list(zip(dataset, summary)),\n",
    "                            columns = ['dataset', 'summary'])\n",
    "df_2015_neg.info()"
   ]
  },
  {
   "cell_type": "code",
   "execution_count": 154,
   "id": "33f398cf",
   "metadata": {},
   "outputs": [
    {
     "data": {
      "text/html": [
       "<div>\n",
       "<style scoped>\n",
       "    .dataframe tbody tr th:only-of-type {\n",
       "        vertical-align: middle;\n",
       "    }\n",
       "\n",
       "    .dataframe tbody tr th {\n",
       "        vertical-align: top;\n",
       "    }\n",
       "\n",
       "    .dataframe thead th {\n",
       "        text-align: right;\n",
       "    }\n",
       "</style>\n",
       "<table border=\"1\" class=\"dataframe\">\n",
       "  <thead>\n",
       "    <tr style=\"text-align: right;\">\n",
       "      <th></th>\n",
       "      <th>dataset</th>\n",
       "      <th>summary</th>\n",
       "    </tr>\n",
       "  </thead>\n",
       "  <tbody>\n",
       "    <tr>\n",
       "      <th>0</th>\n",
       "      <td>2015_01_negitive</td>\n",
       "      <td>The text reflects a widespread frustration and...</td>\n",
       "    </tr>\n",
       "    <tr>\n",
       "      <th>1</th>\n",
       "      <td>2015_02_negitive</td>\n",
       "      <td>The selected texts express a mix of opinions a...</td>\n",
       "    </tr>\n",
       "    <tr>\n",
       "      <th>2</th>\n",
       "      <td>2015_03_negitive</td>\n",
       "      <td>The discussion revolves around various concern...</td>\n",
       "    </tr>\n",
       "    <tr>\n",
       "      <th>3</th>\n",
       "      <td>2015_04_negitive</td>\n",
       "      <td>The sentences express various opinions and exp...</td>\n",
       "    </tr>\n",
       "    <tr>\n",
       "      <th>4</th>\n",
       "      <td>2015_05_negitive</td>\n",
       "      <td>The text discusses various people's experience...</td>\n",
       "    </tr>\n",
       "    <tr>\n",
       "      <th>5</th>\n",
       "      <td>2015_06_negitive</td>\n",
       "      <td>The text discusses various aspects of vaccinat...</td>\n",
       "    </tr>\n",
       "    <tr>\n",
       "      <th>6</th>\n",
       "      <td>2015_07_negitive</td>\n",
       "      <td>The sentences discuss various opinions, experi...</td>\n",
       "    </tr>\n",
       "    <tr>\n",
       "      <th>7</th>\n",
       "      <td>2015_08_negitive</td>\n",
       "      <td>The sentences discuss various experiences and ...</td>\n",
       "    </tr>\n",
       "    <tr>\n",
       "      <th>8</th>\n",
       "      <td>2015_09_negitive</td>\n",
       "      <td>The text discusses various individuals' negati...</td>\n",
       "    </tr>\n",
       "    <tr>\n",
       "      <th>9</th>\n",
       "      <td>2015_10_negitive</td>\n",
       "      <td>The text reflects widespread frustration and c...</td>\n",
       "    </tr>\n",
       "  </tbody>\n",
       "</table>\n",
       "</div>"
      ],
      "text/plain": [
       "            dataset                                            summary\n",
       "0  2015_01_negitive  The text reflects a widespread frustration and...\n",
       "1  2015_02_negitive  The selected texts express a mix of opinions a...\n",
       "2  2015_03_negitive  The discussion revolves around various concern...\n",
       "3  2015_04_negitive  The sentences express various opinions and exp...\n",
       "4  2015_05_negitive  The text discusses various people's experience...\n",
       "5  2015_06_negitive  The text discusses various aspects of vaccinat...\n",
       "6  2015_07_negitive  The sentences discuss various opinions, experi...\n",
       "7  2015_08_negitive  The sentences discuss various experiences and ...\n",
       "8  2015_09_negitive  The text discusses various individuals' negati...\n",
       "9  2015_10_negitive  The text reflects widespread frustration and c..."
      ]
     },
     "execution_count": 154,
     "metadata": {},
     "output_type": "execute_result"
    }
   ],
   "source": [
    "df_2015_neg.tail(14)"
   ]
  },
  {
   "cell_type": "code",
   "execution_count": 155,
   "id": "c9aa4469",
   "metadata": {},
   "outputs": [
    {
     "data": {
      "text/plain": [
       "<OpenAIObject chat.completion id=chatcmpl-AUd5Z9lHhzSZUVy4tzm3LVayRg2fC at 0x2435e8c8400> JSON: {\n",
       "  \"choices\": [\n",
       "    {\n",
       "      \"finish_reason\": \"stop\",\n",
       "      \"index\": 0,\n",
       "      \"logprobs\": null,\n",
       "      \"message\": {\n",
       "        \"content\": \"The text reflects widespread frustration and concern regarding vaccinations, highlighting individual experiences of pain and side effects after receiving vaccines. It discusses issues of neglect in vaccination programs, leading to the resurgence of diseases, and criticizes the inefficiency in accessing vaccines. There are also mentions of parental anxiety about their children being vaccinated and societal pressures surrounding vaccination.\",\n",
       "        \"refusal\": null,\n",
       "        \"role\": \"assistant\"\n",
       "      }\n",
       "    }\n",
       "  ],\n",
       "  \"created\": 1731863461,\n",
       "  \"id\": \"chatcmpl-AUd5Z9lHhzSZUVy4tzm3LVayRg2fC\",\n",
       "  \"model\": \"gpt-4o-mini-2024-07-18\",\n",
       "  \"object\": \"chat.completion\",\n",
       "  \"system_fingerprint\": \"fp_0ba0d124f1\",\n",
       "  \"usage\": {\n",
       "    \"completion_tokens\": 66,\n",
       "    \"completion_tokens_details\": {\n",
       "      \"accepted_prediction_tokens\": 0,\n",
       "      \"audio_tokens\": 0,\n",
       "      \"reasoning_tokens\": 0,\n",
       "      \"rejected_prediction_tokens\": 0\n",
       "    },\n",
       "    \"prompt_tokens\": 15268,\n",
       "    \"prompt_tokens_details\": {\n",
       "      \"audio_tokens\": 0,\n",
       "      \"cached_tokens\": 0\n",
       "    },\n",
       "    \"total_tokens\": 15334\n",
       "  }\n",
       "}"
      ]
     },
     "execution_count": 155,
     "metadata": {},
     "output_type": "execute_result"
    }
   ],
   "source": [
    "response"
   ]
  },
  {
   "cell_type": "markdown",
   "id": "d476f7a3",
   "metadata": {},
   "source": [
    "## November"
   ]
  },
  {
   "cell_type": "code",
   "execution_count": 156,
   "id": "63dc91c7",
   "metadata": {
    "scrolled": true,
    "tags": []
   },
   "outputs": [
    {
     "name": "stdout",
     "output_type": "stream",
     "text": [
      "<class 'pandas.core.frame.DataFrame'>\n",
      "RangeIndex: 611 entries, 0 to 610\n",
      "Data columns (total 53 columns):\n",
      " #   Column                  Non-Null Count  Dtype  \n",
      "---  ------                  --------------  -----  \n",
      " 0   index                   611 non-null    int64  \n",
      " 1   LocationCode            611 non-null    object \n",
      " 2   LocationName            611 non-null    object \n",
      " 3   StatesCode              611 non-null    object \n",
      " 4   ...4                    611 non-null    int64  \n",
      " 5   id                      611 non-null    float64\n",
      " 6   text                    611 non-null    object \n",
      " 7   label                   611 non-null    object \n",
      " 8   in_reply_to_status_id   37 non-null     float64\n",
      " 9   in_reply_to_user_id     42 non-null     float64\n",
      " 10  quoted_user_id          7 non-null      float64\n",
      " 11  quoted_status_id        7 non-null      float64\n",
      " 12  retweeted_user_id       85 non-null     float64\n",
      " 13  retweeted_status_id     85 non-null     float64\n",
      " 14  created_at              611 non-null    object \n",
      " 15  entities.user_mentions  136 non-null    object \n",
      " 16  user.id                 611 non-null    int64  \n",
      " 17  user.screen_name        611 non-null    object \n",
      " 18  user.name               611 non-null    object \n",
      " 19  user.description        539 non-null    object \n",
      " 20  user.timezone           0 non-null      float64\n",
      " 21  user.location           587 non-null    object \n",
      " 22  user.num_followers      611 non-null    int64  \n",
      " 23  user.num_following      611 non-null    int64  \n",
      " 24  user.created_at         611 non-null    object \n",
      " 25  user.statuses_count     611 non-null    int64  \n",
      " 26  user.is_verified        611 non-null    bool   \n",
      " 27  lang                    611 non-null    object \n",
      " 28  token_count             611 non-null    int64  \n",
      " 29  is_retweet              611 non-null    bool   \n",
      " 30  has_quote               611 non-null    bool   \n",
      " 31  is_reply                611 non-null    bool   \n",
      " 32  contains_keywords       611 non-null    bool   \n",
      " 33  longitude               611 non-null    float64\n",
      " 34  latitude                611 non-null    float64\n",
      " 35  country_code            611 non-null    object \n",
      " 36  geoname_id              508 non-null    float64\n",
      " 37  location_type           611 non-null    object \n",
      " 38  geo_type                611 non-null    int64  \n",
      " 39  region                  611 non-null    object \n",
      " 40  subregion               611 non-null    object \n",
      " 41  num_quotes              611 non-null    int64  \n",
      " 42  num_replies             611 non-null    int64  \n",
      " 43  num_retweets            611 non-null    int64  \n",
      " 44  sent_gpt                611 non-null    object \n",
      " 45  gpt_sent_presence       611 non-null    int64  \n",
      " 46  cleaned_text_lem        611 non-null    object \n",
      " 47  cleaned_text            611 non-null    object \n",
      " 48  month                   611 non-null    int64  \n",
      " 49  year                    611 non-null    int64  \n",
      " 50  week                    611 non-null    int64  \n",
      " 51  year_month              611 non-null    object \n",
      " 52  year_week               611 non-null    object \n",
      "dtypes: bool(5), float64(11), int64(15), object(22)\n",
      "memory usage: 232.2+ KB\n"
     ]
    }
   ],
   "source": [
    "# Get monthly data\n",
    "df_2015_11_neg = pd.read_csv('../data/local/df_neg_2015-11.csv').reset_index()\n",
    "df_2015_11_neg.info()"
   ]
  },
  {
   "cell_type": "markdown",
   "id": "e44ca951",
   "metadata": {},
   "source": [
    "### Representative sample based on week and location"
   ]
  },
  {
   "cell_type": "code",
   "execution_count": 157,
   "id": "58f0a8ff",
   "metadata": {},
   "outputs": [
    {
     "data": {
      "text/html": [
       "<div>\n",
       "<style scoped>\n",
       "    .dataframe tbody tr th:only-of-type {\n",
       "        vertical-align: middle;\n",
       "    }\n",
       "\n",
       "    .dataframe tbody tr th {\n",
       "        vertical-align: top;\n",
       "    }\n",
       "\n",
       "    .dataframe thead th {\n",
       "        text-align: right;\n",
       "    }\n",
       "</style>\n",
       "<table border=\"1\" class=\"dataframe\">\n",
       "  <thead>\n",
       "    <tr style=\"text-align: right;\">\n",
       "      <th></th>\n",
       "      <th>year_week</th>\n",
       "      <th>LocationName</th>\n",
       "      <th>group_size</th>\n",
       "      <th>proportion</th>\n",
       "    </tr>\n",
       "  </thead>\n",
       "  <tbody>\n",
       "    <tr>\n",
       "      <th>0</th>\n",
       "      <td>2015-w44</td>\n",
       "      <td>Bahia</td>\n",
       "      <td>3</td>\n",
       "      <td>0.004910</td>\n",
       "    </tr>\n",
       "    <tr>\n",
       "      <th>1</th>\n",
       "      <td>2015-w44</td>\n",
       "      <td>Ceara</td>\n",
       "      <td>4</td>\n",
       "      <td>0.006547</td>\n",
       "    </tr>\n",
       "    <tr>\n",
       "      <th>2</th>\n",
       "      <td>2015-w44</td>\n",
       "      <td>Distrito Federal</td>\n",
       "      <td>2</td>\n",
       "      <td>0.003273</td>\n",
       "    </tr>\n",
       "    <tr>\n",
       "      <th>3</th>\n",
       "      <td>2015-w44</td>\n",
       "      <td>Espirito Santo</td>\n",
       "      <td>2</td>\n",
       "      <td>0.003273</td>\n",
       "    </tr>\n",
       "    <tr>\n",
       "      <th>4</th>\n",
       "      <td>2015-w44</td>\n",
       "      <td>Goias</td>\n",
       "      <td>1</td>\n",
       "      <td>0.001637</td>\n",
       "    </tr>\n",
       "    <tr>\n",
       "      <th>...</th>\n",
       "      <td>...</td>\n",
       "      <td>...</td>\n",
       "      <td>...</td>\n",
       "      <td>...</td>\n",
       "    </tr>\n",
       "    <tr>\n",
       "      <th>86</th>\n",
       "      <td>2015-w48</td>\n",
       "      <td>Rio Grande Do Sul</td>\n",
       "      <td>5</td>\n",
       "      <td>0.008183</td>\n",
       "    </tr>\n",
       "    <tr>\n",
       "      <th>87</th>\n",
       "      <td>2015-w48</td>\n",
       "      <td>Roraima</td>\n",
       "      <td>1</td>\n",
       "      <td>0.001637</td>\n",
       "    </tr>\n",
       "    <tr>\n",
       "      <th>88</th>\n",
       "      <td>2015-w48</td>\n",
       "      <td>Santa Catarina</td>\n",
       "      <td>3</td>\n",
       "      <td>0.004910</td>\n",
       "    </tr>\n",
       "    <tr>\n",
       "      <th>89</th>\n",
       "      <td>2015-w48</td>\n",
       "      <td>Sao Paulo</td>\n",
       "      <td>22</td>\n",
       "      <td>0.036007</td>\n",
       "    </tr>\n",
       "    <tr>\n",
       "      <th>90</th>\n",
       "      <td>2015-w48</td>\n",
       "      <td>Sergipe</td>\n",
       "      <td>1</td>\n",
       "      <td>0.001637</td>\n",
       "    </tr>\n",
       "  </tbody>\n",
       "</table>\n",
       "<p>91 rows × 4 columns</p>\n",
       "</div>"
      ],
      "text/plain": [
       "   year_week       LocationName  group_size  proportion\n",
       "0   2015-w44              Bahia           3    0.004910\n",
       "1   2015-w44              Ceara           4    0.006547\n",
       "2   2015-w44   Distrito Federal           2    0.003273\n",
       "3   2015-w44     Espirito Santo           2    0.003273\n",
       "4   2015-w44              Goias           1    0.001637\n",
       "..       ...                ...         ...         ...\n",
       "86  2015-w48  Rio Grande Do Sul           5    0.008183\n",
       "87  2015-w48            Roraima           1    0.001637\n",
       "88  2015-w48     Santa Catarina           3    0.004910\n",
       "89  2015-w48          Sao Paulo          22    0.036007\n",
       "90  2015-w48            Sergipe           1    0.001637\n",
       "\n",
       "[91 rows x 4 columns]"
      ]
     },
     "execution_count": 157,
     "metadata": {},
     "output_type": "execute_result"
    }
   ],
   "source": [
    "# Step 1: Calculate the size of each group (year_week, LocationName)\n",
    "group_sizes = df_2015_11_neg.groupby(['year_week', 'LocationName']).size().reset_index(name='group_size')\n",
    "\n",
    "# Step 2: Calculate the proportion of each group in the dataset\n",
    "total_rows = len(df_2015_11_neg)\n",
    "group_sizes['proportion'] = group_sizes['group_size'] / total_rows\n",
    "group_sizes"
   ]
  },
  {
   "cell_type": "code",
   "execution_count": 158,
   "id": "52c7e839",
   "metadata": {},
   "outputs": [
    {
     "data": {
      "text/html": [
       "<div>\n",
       "<style scoped>\n",
       "    .dataframe tbody tr th:only-of-type {\n",
       "        vertical-align: middle;\n",
       "    }\n",
       "\n",
       "    .dataframe tbody tr th {\n",
       "        vertical-align: top;\n",
       "    }\n",
       "\n",
       "    .dataframe thead th {\n",
       "        text-align: right;\n",
       "    }\n",
       "</style>\n",
       "<table border=\"1\" class=\"dataframe\">\n",
       "  <thead>\n",
       "    <tr style=\"text-align: right;\">\n",
       "      <th></th>\n",
       "      <th>year_week</th>\n",
       "      <th>LocationName</th>\n",
       "      <th>group_size</th>\n",
       "      <th>proportion</th>\n",
       "      <th>sample_size</th>\n",
       "    </tr>\n",
       "  </thead>\n",
       "  <tbody>\n",
       "    <tr>\n",
       "      <th>0</th>\n",
       "      <td>2015-w44</td>\n",
       "      <td>Bahia</td>\n",
       "      <td>3</td>\n",
       "      <td>0.004910</td>\n",
       "      <td>12</td>\n",
       "    </tr>\n",
       "    <tr>\n",
       "      <th>1</th>\n",
       "      <td>2015-w44</td>\n",
       "      <td>Ceara</td>\n",
       "      <td>4</td>\n",
       "      <td>0.006547</td>\n",
       "      <td>16</td>\n",
       "    </tr>\n",
       "    <tr>\n",
       "      <th>2</th>\n",
       "      <td>2015-w44</td>\n",
       "      <td>Distrito Federal</td>\n",
       "      <td>2</td>\n",
       "      <td>0.003273</td>\n",
       "      <td>8</td>\n",
       "    </tr>\n",
       "    <tr>\n",
       "      <th>3</th>\n",
       "      <td>2015-w44</td>\n",
       "      <td>Espirito Santo</td>\n",
       "      <td>2</td>\n",
       "      <td>0.003273</td>\n",
       "      <td>8</td>\n",
       "    </tr>\n",
       "    <tr>\n",
       "      <th>4</th>\n",
       "      <td>2015-w44</td>\n",
       "      <td>Goias</td>\n",
       "      <td>1</td>\n",
       "      <td>0.001637</td>\n",
       "      <td>4</td>\n",
       "    </tr>\n",
       "    <tr>\n",
       "      <th>...</th>\n",
       "      <td>...</td>\n",
       "      <td>...</td>\n",
       "      <td>...</td>\n",
       "      <td>...</td>\n",
       "      <td>...</td>\n",
       "    </tr>\n",
       "    <tr>\n",
       "      <th>86</th>\n",
       "      <td>2015-w48</td>\n",
       "      <td>Rio Grande Do Sul</td>\n",
       "      <td>5</td>\n",
       "      <td>0.008183</td>\n",
       "      <td>20</td>\n",
       "    </tr>\n",
       "    <tr>\n",
       "      <th>87</th>\n",
       "      <td>2015-w48</td>\n",
       "      <td>Roraima</td>\n",
       "      <td>1</td>\n",
       "      <td>0.001637</td>\n",
       "      <td>4</td>\n",
       "    </tr>\n",
       "    <tr>\n",
       "      <th>88</th>\n",
       "      <td>2015-w48</td>\n",
       "      <td>Santa Catarina</td>\n",
       "      <td>3</td>\n",
       "      <td>0.004910</td>\n",
       "      <td>12</td>\n",
       "    </tr>\n",
       "    <tr>\n",
       "      <th>89</th>\n",
       "      <td>2015-w48</td>\n",
       "      <td>Sao Paulo</td>\n",
       "      <td>22</td>\n",
       "      <td>0.036007</td>\n",
       "      <td>88</td>\n",
       "    </tr>\n",
       "    <tr>\n",
       "      <th>90</th>\n",
       "      <td>2015-w48</td>\n",
       "      <td>Sergipe</td>\n",
       "      <td>1</td>\n",
       "      <td>0.001637</td>\n",
       "      <td>4</td>\n",
       "    </tr>\n",
       "  </tbody>\n",
       "</table>\n",
       "<p>91 rows × 5 columns</p>\n",
       "</div>"
      ],
      "text/plain": [
       "   year_week       LocationName  group_size  proportion  sample_size\n",
       "0   2015-w44              Bahia           3    0.004910           12\n",
       "1   2015-w44              Ceara           4    0.006547           16\n",
       "2   2015-w44   Distrito Federal           2    0.003273            8\n",
       "3   2015-w44     Espirito Santo           2    0.003273            8\n",
       "4   2015-w44              Goias           1    0.001637            4\n",
       "..       ...                ...         ...         ...          ...\n",
       "86  2015-w48  Rio Grande Do Sul           5    0.008183           20\n",
       "87  2015-w48            Roraima           1    0.001637            4\n",
       "88  2015-w48     Santa Catarina           3    0.004910           12\n",
       "89  2015-w48          Sao Paulo          22    0.036007           88\n",
       "90  2015-w48            Sergipe           1    0.001637            4\n",
       "\n",
       "[91 rows x 5 columns]"
      ]
     },
     "execution_count": 158,
     "metadata": {},
     "output_type": "execute_result"
    }
   ],
   "source": [
    "# Step 3: Define the target sample size\n",
    "target_sample_size = 2450\n",
    "\n",
    "# Step 4: Calculate the sample size for each group (based on its proportion)\n",
    "group_sizes['sample_size'] = np.floor(group_sizes['proportion'] * target_sample_size).astype(int)\n",
    "group_sizes"
   ]
  },
  {
   "cell_type": "code",
   "execution_count": 159,
   "id": "47bfacf4",
   "metadata": {},
   "outputs": [],
   "source": [
    "# Step 5: Merge this sample size information back to the original DataFrame\n",
    "df_2015_11_neg_sample_size = pd.merge(df_2015_11_neg, group_sizes[['year_week', 'LocationName', 'sample_size']], \n",
    "                               on=['year_week', 'LocationName'], how='left')"
   ]
  },
  {
   "cell_type": "code",
   "execution_count": 160,
   "id": "3127c68e",
   "metadata": {},
   "outputs": [
    {
     "name": "stdout",
     "output_type": "stream",
     "text": [
      "Sampled 611 rows.\n"
     ]
    }
   ],
   "source": [
    "# Step 6: Perform the stratified sampling\n",
    "#df_2015_11_neg_sample = df_2015_11_neg_sample_size.groupby(['year_week', 'LocationName']).apply(\n",
    " #   lambda group: group.sample(n=group['sample_size'].iloc[0], random_state=42)\n",
    "#).reset_index(drop=True)\n",
    "df_2015_11_neg_sample = df_2015_11_neg\n",
    "# Step 7: Check the result\n",
    "print(f\"Sampled {len(df_2015_11_neg_sample)} rows.\")\n"
   ]
  },
  {
   "cell_type": "code",
   "execution_count": 161,
   "id": "a5fc3ad1",
   "metadata": {},
   "outputs": [],
   "source": [
    "text_gpt_2015_11_neg = '\\n'.join(df_2015_11_neg_sample['text'].astype(str))"
   ]
  },
  {
   "cell_type": "markdown",
   "id": "8df94c41",
   "metadata": {},
   "source": [
    "### Prompts and loops"
   ]
  },
  {
   "cell_type": "code",
   "execution_count": 162,
   "id": "b2c43f66",
   "metadata": {},
   "outputs": [],
   "source": [
    "prompt_11 = prompt_raw.replace('TWEETS', text_gpt_2015_11_neg)"
   ]
  },
  {
   "cell_type": "code",
   "execution_count": 163,
   "id": "87bbf147",
   "metadata": {
    "scrolled": false
   },
   "outputs": [],
   "source": [
    "response = openai.ChatCompletion.create(\n",
    "    model=\"gpt-4o-mini\",  \n",
    "    messages = [\n",
    "        {\"role\": \"user\", \"content\": prompt_11}\n",
    "    ],\n",
    "    max_tokens=400,  # Maximum number of tokens in the response\n",
    "    temperature=0.7  # Controls the randomness of the output\n",
    ")"
   ]
  },
  {
   "cell_type": "code",
   "execution_count": 164,
   "id": "99d409e9",
   "metadata": {},
   "outputs": [
    {
     "data": {
      "text/plain": [
       "'The text discusses various experiences and feelings related to vaccinations, including pain, fear, and frustration. Many express discomfort after receiving vaccines, often experiencing soreness or adverse reactions. Additionally, there are concerns about vaccine shortages in Brazil and skepticism about their effectiveness. Some people reflect on the emotional toll of vaccinating pets and children. Overall, the sentiments range from annoyance to fear regarding vaccination processes and their outcomes.'"
      ]
     },
     "execution_count": 164,
     "metadata": {},
     "output_type": "execute_result"
    }
   ],
   "source": [
    "response.choices[0].message.content"
   ]
  },
  {
   "cell_type": "code",
   "execution_count": 165,
   "id": "c1cb7d55",
   "metadata": {},
   "outputs": [],
   "source": [
    "#summary = []\n",
    "#dataset = []"
   ]
  },
  {
   "cell_type": "code",
   "execution_count": 166,
   "id": "0b5f7bbc",
   "metadata": {},
   "outputs": [],
   "source": [
    "dataset.append(\"2015_11_negitive\")"
   ]
  },
  {
   "cell_type": "code",
   "execution_count": 167,
   "id": "25b7e5ff",
   "metadata": {},
   "outputs": [],
   "source": [
    "summary.append(response.choices[0].message.content)"
   ]
  },
  {
   "cell_type": "code",
   "execution_count": 168,
   "id": "10f2f273",
   "metadata": {
    "tags": []
   },
   "outputs": [
    {
     "name": "stdout",
     "output_type": "stream",
     "text": [
      "<class 'pandas.core.frame.DataFrame'>\n",
      "RangeIndex: 11 entries, 0 to 10\n",
      "Data columns (total 2 columns):\n",
      " #   Column   Non-Null Count  Dtype \n",
      "---  ------   --------------  ----- \n",
      " 0   dataset  11 non-null     object\n",
      " 1   summary  11 non-null     object\n",
      "dtypes: object(2)\n",
      "memory usage: 304.0+ bytes\n"
     ]
    }
   ],
   "source": [
    "df_2015_neg = pd.DataFrame(list(zip(dataset, summary)),\n",
    "                            columns = ['dataset', 'summary'])\n",
    "df_2015_neg.info()"
   ]
  },
  {
   "cell_type": "code",
   "execution_count": 169,
   "id": "89ced529",
   "metadata": {},
   "outputs": [
    {
     "data": {
      "text/html": [
       "<div>\n",
       "<style scoped>\n",
       "    .dataframe tbody tr th:only-of-type {\n",
       "        vertical-align: middle;\n",
       "    }\n",
       "\n",
       "    .dataframe tbody tr th {\n",
       "        vertical-align: top;\n",
       "    }\n",
       "\n",
       "    .dataframe thead th {\n",
       "        text-align: right;\n",
       "    }\n",
       "</style>\n",
       "<table border=\"1\" class=\"dataframe\">\n",
       "  <thead>\n",
       "    <tr style=\"text-align: right;\">\n",
       "      <th></th>\n",
       "      <th>dataset</th>\n",
       "      <th>summary</th>\n",
       "    </tr>\n",
       "  </thead>\n",
       "  <tbody>\n",
       "    <tr>\n",
       "      <th>0</th>\n",
       "      <td>2015_01_negitive</td>\n",
       "      <td>The text reflects a widespread frustration and...</td>\n",
       "    </tr>\n",
       "    <tr>\n",
       "      <th>1</th>\n",
       "      <td>2015_02_negitive</td>\n",
       "      <td>The selected texts express a mix of opinions a...</td>\n",
       "    </tr>\n",
       "    <tr>\n",
       "      <th>2</th>\n",
       "      <td>2015_03_negitive</td>\n",
       "      <td>The discussion revolves around various concern...</td>\n",
       "    </tr>\n",
       "    <tr>\n",
       "      <th>3</th>\n",
       "      <td>2015_04_negitive</td>\n",
       "      <td>The sentences express various opinions and exp...</td>\n",
       "    </tr>\n",
       "    <tr>\n",
       "      <th>4</th>\n",
       "      <td>2015_05_negitive</td>\n",
       "      <td>The text discusses various people's experience...</td>\n",
       "    </tr>\n",
       "    <tr>\n",
       "      <th>5</th>\n",
       "      <td>2015_06_negitive</td>\n",
       "      <td>The text discusses various aspects of vaccinat...</td>\n",
       "    </tr>\n",
       "    <tr>\n",
       "      <th>6</th>\n",
       "      <td>2015_07_negitive</td>\n",
       "      <td>The sentences discuss various opinions, experi...</td>\n",
       "    </tr>\n",
       "    <tr>\n",
       "      <th>7</th>\n",
       "      <td>2015_08_negitive</td>\n",
       "      <td>The sentences discuss various experiences and ...</td>\n",
       "    </tr>\n",
       "    <tr>\n",
       "      <th>8</th>\n",
       "      <td>2015_09_negitive</td>\n",
       "      <td>The text discusses various individuals' negati...</td>\n",
       "    </tr>\n",
       "    <tr>\n",
       "      <th>9</th>\n",
       "      <td>2015_10_negitive</td>\n",
       "      <td>The text reflects widespread frustration and c...</td>\n",
       "    </tr>\n",
       "    <tr>\n",
       "      <th>10</th>\n",
       "      <td>2015_11_negitive</td>\n",
       "      <td>The text discusses various experiences and fee...</td>\n",
       "    </tr>\n",
       "  </tbody>\n",
       "</table>\n",
       "</div>"
      ],
      "text/plain": [
       "             dataset                                            summary\n",
       "0   2015_01_negitive  The text reflects a widespread frustration and...\n",
       "1   2015_02_negitive  The selected texts express a mix of opinions a...\n",
       "2   2015_03_negitive  The discussion revolves around various concern...\n",
       "3   2015_04_negitive  The sentences express various opinions and exp...\n",
       "4   2015_05_negitive  The text discusses various people's experience...\n",
       "5   2015_06_negitive  The text discusses various aspects of vaccinat...\n",
       "6   2015_07_negitive  The sentences discuss various opinions, experi...\n",
       "7   2015_08_negitive  The sentences discuss various experiences and ...\n",
       "8   2015_09_negitive  The text discusses various individuals' negati...\n",
       "9   2015_10_negitive  The text reflects widespread frustration and c...\n",
       "10  2015_11_negitive  The text discusses various experiences and fee..."
      ]
     },
     "execution_count": 169,
     "metadata": {},
     "output_type": "execute_result"
    }
   ],
   "source": [
    "df_2015_neg.tail(14)"
   ]
  },
  {
   "cell_type": "code",
   "execution_count": 170,
   "id": "952c4bca",
   "metadata": {},
   "outputs": [
    {
     "data": {
      "text/plain": [
       "<OpenAIObject chat.completion id=chatcmpl-AUd5bcLdg8rBOqTXk3PSvLLYh1NzC at 0x2435ec07d10> JSON: {\n",
       "  \"choices\": [\n",
       "    {\n",
       "      \"finish_reason\": \"stop\",\n",
       "      \"index\": 0,\n",
       "      \"logprobs\": null,\n",
       "      \"message\": {\n",
       "        \"content\": \"The text discusses various experiences and feelings related to vaccinations, including pain, fear, and frustration. Many express discomfort after receiving vaccines, often experiencing soreness or adverse reactions. Additionally, there are concerns about vaccine shortages in Brazil and skepticism about their effectiveness. Some people reflect on the emotional toll of vaccinating pets and children. Overall, the sentiments range from annoyance to fear regarding vaccination processes and their outcomes.\",\n",
       "        \"refusal\": null,\n",
       "        \"role\": \"assistant\"\n",
       "      }\n",
       "    }\n",
       "  ],\n",
       "  \"created\": 1731863463,\n",
       "  \"id\": \"chatcmpl-AUd5bcLdg8rBOqTXk3PSvLLYh1NzC\",\n",
       "  \"model\": \"gpt-4o-mini-2024-07-18\",\n",
       "  \"object\": \"chat.completion\",\n",
       "  \"system_fingerprint\": \"fp_0ba0d124f1\",\n",
       "  \"usage\": {\n",
       "    \"completion_tokens\": 79,\n",
       "    \"completion_tokens_details\": {\n",
       "      \"accepted_prediction_tokens\": 0,\n",
       "      \"audio_tokens\": 0,\n",
       "      \"reasoning_tokens\": 0,\n",
       "      \"rejected_prediction_tokens\": 0\n",
       "    },\n",
       "    \"prompt_tokens\": 12361,\n",
       "    \"prompt_tokens_details\": {\n",
       "      \"audio_tokens\": 0,\n",
       "      \"cached_tokens\": 0\n",
       "    },\n",
       "    \"total_tokens\": 12440\n",
       "  }\n",
       "}"
      ]
     },
     "execution_count": 170,
     "metadata": {},
     "output_type": "execute_result"
    }
   ],
   "source": [
    "response"
   ]
  },
  {
   "cell_type": "markdown",
   "id": "46613a39",
   "metadata": {},
   "source": [
    "## December"
   ]
  },
  {
   "cell_type": "code",
   "execution_count": 171,
   "id": "3f6bde3b",
   "metadata": {
    "scrolled": true,
    "tags": []
   },
   "outputs": [
    {
     "name": "stdout",
     "output_type": "stream",
     "text": [
      "<class 'pandas.core.frame.DataFrame'>\n",
      "RangeIndex: 1645 entries, 0 to 1644\n",
      "Data columns (total 53 columns):\n",
      " #   Column                  Non-Null Count  Dtype  \n",
      "---  ------                  --------------  -----  \n",
      " 0   index                   1645 non-null   int64  \n",
      " 1   LocationCode            1645 non-null   object \n",
      " 2   LocationName            1645 non-null   object \n",
      " 3   StatesCode              1645 non-null   object \n",
      " 4   ...4                    1645 non-null   int64  \n",
      " 5   id                      1645 non-null   float64\n",
      " 6   text                    1645 non-null   object \n",
      " 7   label                   1645 non-null   object \n",
      " 8   in_reply_to_status_id   93 non-null     float64\n",
      " 9   in_reply_to_user_id     107 non-null    float64\n",
      " 10  quoted_user_id          43 non-null     float64\n",
      " 11  quoted_status_id        43 non-null     float64\n",
      " 12  retweeted_user_id       445 non-null    float64\n",
      " 13  retweeted_status_id     445 non-null    float64\n",
      " 14  created_at              1645 non-null   object \n",
      " 15  entities.user_mentions  595 non-null    object \n",
      " 16  user.id                 1645 non-null   int64  \n",
      " 17  user.screen_name        1645 non-null   object \n",
      " 18  user.name               1645 non-null   object \n",
      " 19  user.description        1400 non-null   object \n",
      " 20  user.timezone           0 non-null      float64\n",
      " 21  user.location           1619 non-null   object \n",
      " 22  user.num_followers      1645 non-null   int64  \n",
      " 23  user.num_following      1645 non-null   int64  \n",
      " 24  user.created_at         1645 non-null   object \n",
      " 25  user.statuses_count     1645 non-null   int64  \n",
      " 26  user.is_verified        1645 non-null   bool   \n",
      " 27  lang                    1645 non-null   object \n",
      " 28  token_count             1645 non-null   int64  \n",
      " 29  is_retweet              1645 non-null   bool   \n",
      " 30  has_quote               1645 non-null   bool   \n",
      " 31  is_reply                1645 non-null   bool   \n",
      " 32  contains_keywords       1645 non-null   bool   \n",
      " 33  longitude               1645 non-null   float64\n",
      " 34  latitude                1645 non-null   float64\n",
      " 35  country_code            1645 non-null   object \n",
      " 36  geoname_id              1503 non-null   float64\n",
      " 37  location_type           1645 non-null   object \n",
      " 38  geo_type                1645 non-null   int64  \n",
      " 39  region                  1645 non-null   object \n",
      " 40  subregion               1645 non-null   object \n",
      " 41  num_quotes              1645 non-null   int64  \n",
      " 42  num_replies             1645 non-null   int64  \n",
      " 43  num_retweets            1645 non-null   int64  \n",
      " 44  sent_gpt                1645 non-null   object \n",
      " 45  gpt_sent_presence       1645 non-null   int64  \n",
      " 46  cleaned_text_lem        1645 non-null   object \n",
      " 47  cleaned_text            1645 non-null   object \n",
      " 48  month                   1645 non-null   int64  \n",
      " 49  year                    1645 non-null   int64  \n",
      " 50  week                    1645 non-null   int64  \n",
      " 51  year_month              1645 non-null   object \n",
      " 52  year_week               1645 non-null   object \n",
      "dtypes: bool(5), float64(11), int64(15), object(22)\n",
      "memory usage: 625.0+ KB\n"
     ]
    }
   ],
   "source": [
    "# Get monthly data\n",
    "df_2015_12_neg = pd.read_csv('../data/local/df_neg_2015-12.csv').reset_index()\n",
    "df_2015_12_neg.info()"
   ]
  },
  {
   "cell_type": "markdown",
   "id": "4658d918",
   "metadata": {},
   "source": [
    "### Representative sample based on week and location"
   ]
  },
  {
   "cell_type": "code",
   "execution_count": 172,
   "id": "fcdbb1e9",
   "metadata": {},
   "outputs": [
    {
     "data": {
      "text/html": [
       "<div>\n",
       "<style scoped>\n",
       "    .dataframe tbody tr th:only-of-type {\n",
       "        vertical-align: middle;\n",
       "    }\n",
       "\n",
       "    .dataframe tbody tr th {\n",
       "        vertical-align: top;\n",
       "    }\n",
       "\n",
       "    .dataframe thead th {\n",
       "        text-align: right;\n",
       "    }\n",
       "</style>\n",
       "<table border=\"1\" class=\"dataframe\">\n",
       "  <thead>\n",
       "    <tr style=\"text-align: right;\">\n",
       "      <th></th>\n",
       "      <th>year_week</th>\n",
       "      <th>LocationName</th>\n",
       "      <th>group_size</th>\n",
       "      <th>proportion</th>\n",
       "    </tr>\n",
       "  </thead>\n",
       "  <tbody>\n",
       "    <tr>\n",
       "      <th>0</th>\n",
       "      <td>2015-w48</td>\n",
       "      <td>Bahia</td>\n",
       "      <td>3</td>\n",
       "      <td>0.001824</td>\n",
       "    </tr>\n",
       "    <tr>\n",
       "      <th>1</th>\n",
       "      <td>2015-w48</td>\n",
       "      <td>Ceara</td>\n",
       "      <td>1</td>\n",
       "      <td>0.000608</td>\n",
       "    </tr>\n",
       "    <tr>\n",
       "      <th>2</th>\n",
       "      <td>2015-w48</td>\n",
       "      <td>Distrito Federal</td>\n",
       "      <td>3</td>\n",
       "      <td>0.001824</td>\n",
       "    </tr>\n",
       "    <tr>\n",
       "      <th>3</th>\n",
       "      <td>2015-w48</td>\n",
       "      <td>Espirito Santo</td>\n",
       "      <td>1</td>\n",
       "      <td>0.000608</td>\n",
       "    </tr>\n",
       "    <tr>\n",
       "      <th>4</th>\n",
       "      <td>2015-w48</td>\n",
       "      <td>Mato Grosso Do Sul</td>\n",
       "      <td>2</td>\n",
       "      <td>0.001216</td>\n",
       "    </tr>\n",
       "    <tr>\n",
       "      <th>...</th>\n",
       "      <td>...</td>\n",
       "      <td>...</td>\n",
       "      <td>...</td>\n",
       "      <td>...</td>\n",
       "    </tr>\n",
       "    <tr>\n",
       "      <th>101</th>\n",
       "      <td>2015-w53</td>\n",
       "      <td>Distrito Federal</td>\n",
       "      <td>1</td>\n",
       "      <td>0.000608</td>\n",
       "    </tr>\n",
       "    <tr>\n",
       "      <th>102</th>\n",
       "      <td>2015-w53</td>\n",
       "      <td>Mato Grosso Do Sul</td>\n",
       "      <td>1</td>\n",
       "      <td>0.000608</td>\n",
       "    </tr>\n",
       "    <tr>\n",
       "      <th>103</th>\n",
       "      <td>2015-w53</td>\n",
       "      <td>Paraiba</td>\n",
       "      <td>2</td>\n",
       "      <td>0.001216</td>\n",
       "    </tr>\n",
       "    <tr>\n",
       "      <th>104</th>\n",
       "      <td>2015-w53</td>\n",
       "      <td>Rio Grande Do Sul</td>\n",
       "      <td>3</td>\n",
       "      <td>0.001824</td>\n",
       "    </tr>\n",
       "    <tr>\n",
       "      <th>105</th>\n",
       "      <td>2015-w53</td>\n",
       "      <td>Sao Paulo</td>\n",
       "      <td>4</td>\n",
       "      <td>0.002432</td>\n",
       "    </tr>\n",
       "  </tbody>\n",
       "</table>\n",
       "<p>106 rows × 4 columns</p>\n",
       "</div>"
      ],
      "text/plain": [
       "    year_week        LocationName  group_size  proportion\n",
       "0    2015-w48               Bahia           3    0.001824\n",
       "1    2015-w48               Ceara           1    0.000608\n",
       "2    2015-w48    Distrito Federal           3    0.001824\n",
       "3    2015-w48      Espirito Santo           1    0.000608\n",
       "4    2015-w48  Mato Grosso Do Sul           2    0.001216\n",
       "..        ...                 ...         ...         ...\n",
       "101  2015-w53    Distrito Federal           1    0.000608\n",
       "102  2015-w53  Mato Grosso Do Sul           1    0.000608\n",
       "103  2015-w53             Paraiba           2    0.001216\n",
       "104  2015-w53   Rio Grande Do Sul           3    0.001824\n",
       "105  2015-w53           Sao Paulo           4    0.002432\n",
       "\n",
       "[106 rows x 4 columns]"
      ]
     },
     "execution_count": 172,
     "metadata": {},
     "output_type": "execute_result"
    }
   ],
   "source": [
    "# Step 1: Calculate the size of each group (year_week, LocationName)\n",
    "group_sizes = df_2015_12_neg.groupby(['year_week', 'LocationName']).size().reset_index(name='group_size')\n",
    "\n",
    "# Step 2: Calculate the proportion of each group in the dataset\n",
    "total_rows = len(df_2015_12_neg)\n",
    "group_sizes['proportion'] = group_sizes['group_size'] / total_rows\n",
    "group_sizes"
   ]
  },
  {
   "cell_type": "code",
   "execution_count": 173,
   "id": "bbf24049",
   "metadata": {},
   "outputs": [
    {
     "data": {
      "text/html": [
       "<div>\n",
       "<style scoped>\n",
       "    .dataframe tbody tr th:only-of-type {\n",
       "        vertical-align: middle;\n",
       "    }\n",
       "\n",
       "    .dataframe tbody tr th {\n",
       "        vertical-align: top;\n",
       "    }\n",
       "\n",
       "    .dataframe thead th {\n",
       "        text-align: right;\n",
       "    }\n",
       "</style>\n",
       "<table border=\"1\" class=\"dataframe\">\n",
       "  <thead>\n",
       "    <tr style=\"text-align: right;\">\n",
       "      <th></th>\n",
       "      <th>year_week</th>\n",
       "      <th>LocationName</th>\n",
       "      <th>group_size</th>\n",
       "      <th>proportion</th>\n",
       "      <th>sample_size</th>\n",
       "    </tr>\n",
       "  </thead>\n",
       "  <tbody>\n",
       "    <tr>\n",
       "      <th>0</th>\n",
       "      <td>2015-w48</td>\n",
       "      <td>Bahia</td>\n",
       "      <td>3</td>\n",
       "      <td>0.001824</td>\n",
       "      <td>4</td>\n",
       "    </tr>\n",
       "    <tr>\n",
       "      <th>1</th>\n",
       "      <td>2015-w48</td>\n",
       "      <td>Ceara</td>\n",
       "      <td>1</td>\n",
       "      <td>0.000608</td>\n",
       "      <td>1</td>\n",
       "    </tr>\n",
       "    <tr>\n",
       "      <th>2</th>\n",
       "      <td>2015-w48</td>\n",
       "      <td>Distrito Federal</td>\n",
       "      <td>3</td>\n",
       "      <td>0.001824</td>\n",
       "      <td>4</td>\n",
       "    </tr>\n",
       "    <tr>\n",
       "      <th>3</th>\n",
       "      <td>2015-w48</td>\n",
       "      <td>Espirito Santo</td>\n",
       "      <td>1</td>\n",
       "      <td>0.000608</td>\n",
       "      <td>1</td>\n",
       "    </tr>\n",
       "    <tr>\n",
       "      <th>4</th>\n",
       "      <td>2015-w48</td>\n",
       "      <td>Mato Grosso Do Sul</td>\n",
       "      <td>2</td>\n",
       "      <td>0.001216</td>\n",
       "      <td>2</td>\n",
       "    </tr>\n",
       "    <tr>\n",
       "      <th>...</th>\n",
       "      <td>...</td>\n",
       "      <td>...</td>\n",
       "      <td>...</td>\n",
       "      <td>...</td>\n",
       "      <td>...</td>\n",
       "    </tr>\n",
       "    <tr>\n",
       "      <th>101</th>\n",
       "      <td>2015-w53</td>\n",
       "      <td>Distrito Federal</td>\n",
       "      <td>1</td>\n",
       "      <td>0.000608</td>\n",
       "      <td>1</td>\n",
       "    </tr>\n",
       "    <tr>\n",
       "      <th>102</th>\n",
       "      <td>2015-w53</td>\n",
       "      <td>Mato Grosso Do Sul</td>\n",
       "      <td>1</td>\n",
       "      <td>0.000608</td>\n",
       "      <td>1</td>\n",
       "    </tr>\n",
       "    <tr>\n",
       "      <th>103</th>\n",
       "      <td>2015-w53</td>\n",
       "      <td>Paraiba</td>\n",
       "      <td>2</td>\n",
       "      <td>0.001216</td>\n",
       "      <td>2</td>\n",
       "    </tr>\n",
       "    <tr>\n",
       "      <th>104</th>\n",
       "      <td>2015-w53</td>\n",
       "      <td>Rio Grande Do Sul</td>\n",
       "      <td>3</td>\n",
       "      <td>0.001824</td>\n",
       "      <td>4</td>\n",
       "    </tr>\n",
       "    <tr>\n",
       "      <th>105</th>\n",
       "      <td>2015-w53</td>\n",
       "      <td>Sao Paulo</td>\n",
       "      <td>4</td>\n",
       "      <td>0.002432</td>\n",
       "      <td>5</td>\n",
       "    </tr>\n",
       "  </tbody>\n",
       "</table>\n",
       "<p>106 rows × 5 columns</p>\n",
       "</div>"
      ],
      "text/plain": [
       "    year_week        LocationName  group_size  proportion  sample_size\n",
       "0    2015-w48               Bahia           3    0.001824            4\n",
       "1    2015-w48               Ceara           1    0.000608            1\n",
       "2    2015-w48    Distrito Federal           3    0.001824            4\n",
       "3    2015-w48      Espirito Santo           1    0.000608            1\n",
       "4    2015-w48  Mato Grosso Do Sul           2    0.001216            2\n",
       "..        ...                 ...         ...         ...          ...\n",
       "101  2015-w53    Distrito Federal           1    0.000608            1\n",
       "102  2015-w53  Mato Grosso Do Sul           1    0.000608            1\n",
       "103  2015-w53             Paraiba           2    0.001216            2\n",
       "104  2015-w53   Rio Grande Do Sul           3    0.001824            4\n",
       "105  2015-w53           Sao Paulo           4    0.002432            5\n",
       "\n",
       "[106 rows x 5 columns]"
      ]
     },
     "execution_count": 173,
     "metadata": {},
     "output_type": "execute_result"
    }
   ],
   "source": [
    "# Step 3: Define the target sample size\n",
    "target_sample_size = 2450\n",
    "\n",
    "# Step 4: Calculate the sample size for each group (based on its proportion)\n",
    "group_sizes['sample_size'] = np.floor(group_sizes['proportion'] * target_sample_size).astype(int)\n",
    "group_sizes"
   ]
  },
  {
   "cell_type": "code",
   "execution_count": 174,
   "id": "c207c408",
   "metadata": {},
   "outputs": [],
   "source": [
    "# Step 5: Merge this sample size information back to the original DataFrame\n",
    "df_2015_12_neg_sample_size = pd.merge(df_2015_12_neg, group_sizes[['year_week', 'LocationName', 'sample_size']], \n",
    "                               on=['year_week', 'LocationName'], how='left')"
   ]
  },
  {
   "cell_type": "code",
   "execution_count": 175,
   "id": "66d74acb",
   "metadata": {},
   "outputs": [
    {
     "name": "stdout",
     "output_type": "stream",
     "text": [
      "Sampled 1645 rows.\n"
     ]
    }
   ],
   "source": [
    "# Step 6: Perform the stratified sampling\n",
    "#df_2015_12_neg_sample = df_2015_12_neg_sample_size.groupby(['year_week', 'LocationName']).apply(\n",
    " #   lambda group: group.sample(n=group['sample_size'].iloc[0], random_state=42)\n",
    "#).reset_index(drop=True)\n",
    "df_2015_12_neg_sample = df_2015_12_neg\n",
    "# Step 7: Check the result\n",
    "print(f\"Sampled {len(df_2015_12_neg_sample)} rows.\")\n"
   ]
  },
  {
   "cell_type": "code",
   "execution_count": 176,
   "id": "b23befcc",
   "metadata": {},
   "outputs": [],
   "source": [
    "text_gpt_2015_12_neg = '\\n'.join(df_2015_12_neg_sample['text'].astype(str))"
   ]
  },
  {
   "cell_type": "markdown",
   "id": "d3650c4b",
   "metadata": {},
   "source": [
    "### Prompts and loops"
   ]
  },
  {
   "cell_type": "code",
   "execution_count": 177,
   "id": "791b4fd6",
   "metadata": {},
   "outputs": [],
   "source": [
    "prompt_12 = prompt_raw.replace('TWEETS', text_gpt_2015_12_neg)"
   ]
  },
  {
   "cell_type": "code",
   "execution_count": 178,
   "id": "def2b9de",
   "metadata": {
    "scrolled": false
   },
   "outputs": [],
   "source": [
    "response = openai.ChatCompletion.create(\n",
    "    model=\"gpt-4o-mini\",  \n",
    "    messages = [\n",
    "        {\"role\": \"user\", \"content\": prompt_12}\n",
    "    ],\n",
    "    max_tokens=400,  # Maximum number of tokens in the response\n",
    "    temperature=0.7  # Controls the randomness of the output\n",
    ")"
   ]
  },
  {
   "cell_type": "code",
   "execution_count": 179,
   "id": "eb10f5ec",
   "metadata": {},
   "outputs": [
    {
     "data": {
      "text/plain": [
       "'The text discusses controversies surrounding vaccines in Brazil, particularly the HPV vaccine and claims that a batch of expired rubella vaccine may have caused microcephaly in newborns. The MPF is petitioning to ban the HPV vaccine nationwide due to concerns over its effectiveness and safety. Many express distrust in government vaccination efforts, linking health issues to alleged vaccine failures or conspiracies.'"
      ]
     },
     "execution_count": 179,
     "metadata": {},
     "output_type": "execute_result"
    }
   ],
   "source": [
    "response.choices[0].message.content"
   ]
  },
  {
   "cell_type": "code",
   "execution_count": 180,
   "id": "82e7aa4c",
   "metadata": {},
   "outputs": [],
   "source": [
    "#summary = []\n",
    "#dataset = []"
   ]
  },
  {
   "cell_type": "code",
   "execution_count": 181,
   "id": "2a9d076b",
   "metadata": {},
   "outputs": [],
   "source": [
    "dataset.append(\"2015_12_negitive\")"
   ]
  },
  {
   "cell_type": "code",
   "execution_count": 182,
   "id": "8a057dbe",
   "metadata": {},
   "outputs": [],
   "source": [
    "summary.append(response.choices[0].message.content)"
   ]
  },
  {
   "cell_type": "code",
   "execution_count": 183,
   "id": "3bb6bfbd",
   "metadata": {
    "tags": []
   },
   "outputs": [
    {
     "name": "stdout",
     "output_type": "stream",
     "text": [
      "<class 'pandas.core.frame.DataFrame'>\n",
      "RangeIndex: 12 entries, 0 to 11\n",
      "Data columns (total 2 columns):\n",
      " #   Column   Non-Null Count  Dtype \n",
      "---  ------   --------------  ----- \n",
      " 0   dataset  12 non-null     object\n",
      " 1   summary  12 non-null     object\n",
      "dtypes: object(2)\n",
      "memory usage: 320.0+ bytes\n"
     ]
    }
   ],
   "source": [
    "df_2015_neg = pd.DataFrame(list(zip(dataset, summary)),\n",
    "                            columns = ['dataset', 'summary'])\n",
    "df_2015_neg.info()"
   ]
  },
  {
   "cell_type": "code",
   "execution_count": 184,
   "id": "893bd100",
   "metadata": {},
   "outputs": [
    {
     "data": {
      "text/html": [
       "<div>\n",
       "<style scoped>\n",
       "    .dataframe tbody tr th:only-of-type {\n",
       "        vertical-align: middle;\n",
       "    }\n",
       "\n",
       "    .dataframe tbody tr th {\n",
       "        vertical-align: top;\n",
       "    }\n",
       "\n",
       "    .dataframe thead th {\n",
       "        text-align: right;\n",
       "    }\n",
       "</style>\n",
       "<table border=\"1\" class=\"dataframe\">\n",
       "  <thead>\n",
       "    <tr style=\"text-align: right;\">\n",
       "      <th></th>\n",
       "      <th>dataset</th>\n",
       "      <th>summary</th>\n",
       "    </tr>\n",
       "  </thead>\n",
       "  <tbody>\n",
       "    <tr>\n",
       "      <th>0</th>\n",
       "      <td>2015_01_negitive</td>\n",
       "      <td>The text reflects a widespread frustration and...</td>\n",
       "    </tr>\n",
       "    <tr>\n",
       "      <th>1</th>\n",
       "      <td>2015_02_negitive</td>\n",
       "      <td>The selected texts express a mix of opinions a...</td>\n",
       "    </tr>\n",
       "    <tr>\n",
       "      <th>2</th>\n",
       "      <td>2015_03_negitive</td>\n",
       "      <td>The discussion revolves around various concern...</td>\n",
       "    </tr>\n",
       "    <tr>\n",
       "      <th>3</th>\n",
       "      <td>2015_04_negitive</td>\n",
       "      <td>The sentences express various opinions and exp...</td>\n",
       "    </tr>\n",
       "    <tr>\n",
       "      <th>4</th>\n",
       "      <td>2015_05_negitive</td>\n",
       "      <td>The text discusses various people's experience...</td>\n",
       "    </tr>\n",
       "    <tr>\n",
       "      <th>5</th>\n",
       "      <td>2015_06_negitive</td>\n",
       "      <td>The text discusses various aspects of vaccinat...</td>\n",
       "    </tr>\n",
       "    <tr>\n",
       "      <th>6</th>\n",
       "      <td>2015_07_negitive</td>\n",
       "      <td>The sentences discuss various opinions, experi...</td>\n",
       "    </tr>\n",
       "    <tr>\n",
       "      <th>7</th>\n",
       "      <td>2015_08_negitive</td>\n",
       "      <td>The sentences discuss various experiences and ...</td>\n",
       "    </tr>\n",
       "    <tr>\n",
       "      <th>8</th>\n",
       "      <td>2015_09_negitive</td>\n",
       "      <td>The text discusses various individuals' negati...</td>\n",
       "    </tr>\n",
       "    <tr>\n",
       "      <th>9</th>\n",
       "      <td>2015_10_negitive</td>\n",
       "      <td>The text reflects widespread frustration and c...</td>\n",
       "    </tr>\n",
       "    <tr>\n",
       "      <th>10</th>\n",
       "      <td>2015_11_negitive</td>\n",
       "      <td>The text discusses various experiences and fee...</td>\n",
       "    </tr>\n",
       "    <tr>\n",
       "      <th>11</th>\n",
       "      <td>2015_12_negitive</td>\n",
       "      <td>The text discusses controversies surrounding v...</td>\n",
       "    </tr>\n",
       "  </tbody>\n",
       "</table>\n",
       "</div>"
      ],
      "text/plain": [
       "             dataset                                            summary\n",
       "0   2015_01_negitive  The text reflects a widespread frustration and...\n",
       "1   2015_02_negitive  The selected texts express a mix of opinions a...\n",
       "2   2015_03_negitive  The discussion revolves around various concern...\n",
       "3   2015_04_negitive  The sentences express various opinions and exp...\n",
       "4   2015_05_negitive  The text discusses various people's experience...\n",
       "5   2015_06_negitive  The text discusses various aspects of vaccinat...\n",
       "6   2015_07_negitive  The sentences discuss various opinions, experi...\n",
       "7   2015_08_negitive  The sentences discuss various experiences and ...\n",
       "8   2015_09_negitive  The text discusses various individuals' negati...\n",
       "9   2015_10_negitive  The text reflects widespread frustration and c...\n",
       "10  2015_11_negitive  The text discusses various experiences and fee...\n",
       "11  2015_12_negitive  The text discusses controversies surrounding v..."
      ]
     },
     "execution_count": 184,
     "metadata": {},
     "output_type": "execute_result"
    }
   ],
   "source": [
    "df_2015_neg.tail(14)"
   ]
  },
  {
   "cell_type": "code",
   "execution_count": 185,
   "id": "20bf36e0",
   "metadata": {},
   "outputs": [
    {
     "data": {
      "text/plain": [
       "<OpenAIObject chat.completion id=chatcmpl-AUd5fM5cfhzAHKCcL48oey1WTWAqI at 0x2435ec38a40> JSON: {\n",
       "  \"choices\": [\n",
       "    {\n",
       "      \"finish_reason\": \"stop\",\n",
       "      \"index\": 0,\n",
       "      \"logprobs\": null,\n",
       "      \"message\": {\n",
       "        \"content\": \"The text discusses controversies surrounding vaccines in Brazil, particularly the HPV vaccine and claims that a batch of expired rubella vaccine may have caused microcephaly in newborns. The MPF is petitioning to ban the HPV vaccine nationwide due to concerns over its effectiveness and safety. Many express distrust in government vaccination efforts, linking health issues to alleged vaccine failures or conspiracies.\",\n",
       "        \"refusal\": null,\n",
       "        \"role\": \"assistant\"\n",
       "      }\n",
       "    }\n",
       "  ],\n",
       "  \"created\": 1731863467,\n",
       "  \"id\": \"chatcmpl-AUd5fM5cfhzAHKCcL48oey1WTWAqI\",\n",
       "  \"model\": \"gpt-4o-mini-2024-07-18\",\n",
       "  \"object\": \"chat.completion\",\n",
       "  \"system_fingerprint\": \"fp_9b78b61c52\",\n",
       "  \"usage\": {\n",
       "    \"completion_tokens\": 74,\n",
       "    \"completion_tokens_details\": {\n",
       "      \"accepted_prediction_tokens\": 0,\n",
       "      \"audio_tokens\": 0,\n",
       "      \"reasoning_tokens\": 0,\n",
       "      \"rejected_prediction_tokens\": 0\n",
       "    },\n",
       "    \"prompt_tokens\": 38286,\n",
       "    \"prompt_tokens_details\": {\n",
       "      \"audio_tokens\": 0,\n",
       "      \"cached_tokens\": 0\n",
       "    },\n",
       "    \"total_tokens\": 38360\n",
       "  }\n",
       "}"
      ]
     },
     "execution_count": 185,
     "metadata": {},
     "output_type": "execute_result"
    }
   ],
   "source": [
    "response"
   ]
  },
  {
   "cell_type": "markdown",
   "id": "4b2eea35",
   "metadata": {},
   "source": [
    "## All 2015 negative"
   ]
  },
  {
   "cell_type": "code",
   "execution_count": 186,
   "id": "76b26dc9",
   "metadata": {},
   "outputs": [],
   "source": [
    "df_2015_neg.to_csv('../data/summary_2015_negative_tweets.csv')"
   ]
  }
 ],
 "metadata": {
  "kernelspec": {
   "display_name": "Python 3 (ipykernel)",
   "language": "python",
   "name": "python3"
  },
  "language_info": {
   "codemirror_mode": {
    "name": "ipython",
    "version": 3
   },
   "file_extension": ".py",
   "mimetype": "text/x-python",
   "name": "python",
   "nbconvert_exporter": "python",
   "pygments_lexer": "ipython3",
   "version": "3.9.12"
  }
 },
 "nbformat": 4,
 "nbformat_minor": 5
}
