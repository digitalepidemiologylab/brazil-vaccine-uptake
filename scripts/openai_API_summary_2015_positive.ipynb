{
 "cells": [
  {
   "cell_type": "markdown",
   "id": "e90b7c28",
   "metadata": {},
   "source": [
    "# Import libraries and data"
   ]
  },
  {
   "cell_type": "code",
   "execution_count": 1,
   "id": "433219e8-8f66-4be5-a3b8-e39fca644032",
   "metadata": {
    "tags": []
   },
   "outputs": [],
   "source": [
    "# Import libraries\n",
    "import os\n",
    "import openai\n",
    "import pandas as pd\n",
    "import numpy as np\n",
    "import openpyxl"
   ]
  },
  {
   "cell_type": "code",
   "execution_count": 2,
   "id": "2c68f056-74fe-4f29-9daf-6bdef5cc0701",
   "metadata": {},
   "outputs": [],
   "source": [
    "# Get OpenAI API secret key (change this file with your own OpenAI key)\n",
    "open_ai_key = open('../data/local/openai_key.txt', 'r').read()\n",
    "openai.api_key = open_ai_key\n",
    "#openai.Model.list()"
   ]
  },
  {
   "cell_type": "code",
   "execution_count": 3,
   "id": "aa3d0327",
   "metadata": {},
   "outputs": [],
   "source": [
    "# Prompt for GPT\n",
    "prompt_raw = \"I would like to summarise in maximum 300 characters and in English what the following sentences in Portuguese talk about. \\\n",
    "Do not use aspects mentioned only in one sentence as part of the summary: TWEETS\""
   ]
  },
  {
   "cell_type": "markdown",
   "id": "3c7787f4",
   "metadata": {},
   "source": [
    "# 2015 positive"
   ]
  },
  {
   "cell_type": "markdown",
   "id": "c0101e21",
   "metadata": {},
   "source": [
    "## January"
   ]
  },
  {
   "cell_type": "code",
   "execution_count": 4,
   "id": "0b3f06fc",
   "metadata": {
    "scrolled": true,
    "tags": []
   },
   "outputs": [
    {
     "name": "stdout",
     "output_type": "stream",
     "text": [
      "<class 'pandas.core.frame.DataFrame'>\n",
      "RangeIndex: 1047 entries, 0 to 1046\n",
      "Data columns (total 53 columns):\n",
      " #   Column                  Non-Null Count  Dtype  \n",
      "---  ------                  --------------  -----  \n",
      " 0   index                   1047 non-null   int64  \n",
      " 1   LocationCode            1047 non-null   object \n",
      " 2   LocationName            1047 non-null   object \n",
      " 3   StatesCode              1047 non-null   object \n",
      " 4   ...4                    1047 non-null   int64  \n",
      " 5   id                      1047 non-null   float64\n",
      " 6   text                    1047 non-null   object \n",
      " 7   label                   1047 non-null   object \n",
      " 8   in_reply_to_status_id   58 non-null     float64\n",
      " 9   in_reply_to_user_id     60 non-null     float64\n",
      " 10  quoted_user_id          0 non-null      float64\n",
      " 11  quoted_status_id        0 non-null      float64\n",
      " 12  retweeted_user_id       276 non-null    float64\n",
      " 13  retweeted_status_id     276 non-null    float64\n",
      " 14  created_at              1047 non-null   object \n",
      " 15  entities.user_mentions  385 non-null    object \n",
      " 16  user.id                 1047 non-null   int64  \n",
      " 17  user.screen_name        1047 non-null   object \n",
      " 18  user.name               1047 non-null   object \n",
      " 19  user.description        881 non-null    object \n",
      " 20  user.timezone           0 non-null      float64\n",
      " 21  user.location           1040 non-null   object \n",
      " 22  user.num_followers      1047 non-null   int64  \n",
      " 23  user.num_following      1047 non-null   int64  \n",
      " 24  user.created_at         1047 non-null   object \n",
      " 25  user.statuses_count     1047 non-null   int64  \n",
      " 26  user.is_verified        1047 non-null   bool   \n",
      " 27  lang                    1047 non-null   object \n",
      " 28  token_count             1047 non-null   int64  \n",
      " 29  is_retweet              1047 non-null   bool   \n",
      " 30  has_quote               1047 non-null   bool   \n",
      " 31  is_reply                1047 non-null   bool   \n",
      " 32  contains_keywords       1047 non-null   bool   \n",
      " 33  longitude               1047 non-null   float64\n",
      " 34  latitude                1047 non-null   float64\n",
      " 35  country_code            1047 non-null   object \n",
      " 36  geoname_id              1019 non-null   float64\n",
      " 37  location_type           1047 non-null   object \n",
      " 38  geo_type                1047 non-null   int64  \n",
      " 39  region                  1047 non-null   object \n",
      " 40  subregion               1047 non-null   object \n",
      " 41  num_quotes              1047 non-null   int64  \n",
      " 42  num_replies             1047 non-null   int64  \n",
      " 43  num_retweets            1047 non-null   int64  \n",
      " 44  sent_gpt                1047 non-null   object \n",
      " 45  gpt_sent_presence       1047 non-null   int64  \n",
      " 46  cleaned_text_lem        1047 non-null   object \n",
      " 47  cleaned_text            1047 non-null   object \n",
      " 48  month                   1047 non-null   int64  \n",
      " 49  year                    1047 non-null   int64  \n",
      " 50  week                    1047 non-null   int64  \n",
      " 51  year_month              1047 non-null   object \n",
      " 52  year_week               1047 non-null   object \n",
      "dtypes: bool(5), float64(11), int64(15), object(22)\n",
      "memory usage: 397.9+ KB\n"
     ]
    }
   ],
   "source": [
    "# Get monthly data\n",
    "df_2015_01_pos = pd.read_csv('../data/local/df_pos_2015-01.csv').reset_index()\n",
    "df_2015_01_pos.info()"
   ]
  },
  {
   "cell_type": "markdown",
   "id": "98d4ddaf",
   "metadata": {},
   "source": [
    "### Representative sample based on week and location"
   ]
  },
  {
   "cell_type": "code",
   "execution_count": 5,
   "id": "85b2559c",
   "metadata": {},
   "outputs": [
    {
     "data": {
      "text/html": [
       "<div>\n",
       "<style scoped>\n",
       "    .dataframe tbody tr th:only-of-type {\n",
       "        vertical-align: middle;\n",
       "    }\n",
       "\n",
       "    .dataframe tbody tr th {\n",
       "        vertical-align: top;\n",
       "    }\n",
       "\n",
       "    .dataframe thead th {\n",
       "        text-align: right;\n",
       "    }\n",
       "</style>\n",
       "<table border=\"1\" class=\"dataframe\">\n",
       "  <thead>\n",
       "    <tr style=\"text-align: right;\">\n",
       "      <th></th>\n",
       "      <th>year_week</th>\n",
       "      <th>LocationName</th>\n",
       "      <th>group_size</th>\n",
       "      <th>proportion</th>\n",
       "    </tr>\n",
       "  </thead>\n",
       "  <tbody>\n",
       "    <tr>\n",
       "      <th>0</th>\n",
       "      <td>2015-w01</td>\n",
       "      <td>Alagoas</td>\n",
       "      <td>3</td>\n",
       "      <td>0.002865</td>\n",
       "    </tr>\n",
       "    <tr>\n",
       "      <th>1</th>\n",
       "      <td>2015-w01</td>\n",
       "      <td>Amazonas</td>\n",
       "      <td>3</td>\n",
       "      <td>0.002865</td>\n",
       "    </tr>\n",
       "    <tr>\n",
       "      <th>2</th>\n",
       "      <td>2015-w01</td>\n",
       "      <td>Bahia</td>\n",
       "      <td>5</td>\n",
       "      <td>0.004776</td>\n",
       "    </tr>\n",
       "    <tr>\n",
       "      <th>3</th>\n",
       "      <td>2015-w01</td>\n",
       "      <td>Ceara</td>\n",
       "      <td>7</td>\n",
       "      <td>0.006686</td>\n",
       "    </tr>\n",
       "    <tr>\n",
       "      <th>4</th>\n",
       "      <td>2015-w01</td>\n",
       "      <td>Distrito Federal</td>\n",
       "      <td>5</td>\n",
       "      <td>0.004776</td>\n",
       "    </tr>\n",
       "    <tr>\n",
       "      <th>...</th>\n",
       "      <td>...</td>\n",
       "      <td>...</td>\n",
       "      <td>...</td>\n",
       "      <td>...</td>\n",
       "    </tr>\n",
       "    <tr>\n",
       "      <th>96</th>\n",
       "      <td>2015-w05</td>\n",
       "      <td>Rio Grande Do Sul</td>\n",
       "      <td>9</td>\n",
       "      <td>0.008596</td>\n",
       "    </tr>\n",
       "    <tr>\n",
       "      <th>97</th>\n",
       "      <td>2015-w05</td>\n",
       "      <td>Rondonia</td>\n",
       "      <td>1</td>\n",
       "      <td>0.000955</td>\n",
       "    </tr>\n",
       "    <tr>\n",
       "      <th>98</th>\n",
       "      <td>2015-w05</td>\n",
       "      <td>Roraima</td>\n",
       "      <td>1</td>\n",
       "      <td>0.000955</td>\n",
       "    </tr>\n",
       "    <tr>\n",
       "      <th>99</th>\n",
       "      <td>2015-w05</td>\n",
       "      <td>Santa Catarina</td>\n",
       "      <td>1</td>\n",
       "      <td>0.000955</td>\n",
       "    </tr>\n",
       "    <tr>\n",
       "      <th>100</th>\n",
       "      <td>2015-w05</td>\n",
       "      <td>Sao Paulo</td>\n",
       "      <td>17</td>\n",
       "      <td>0.016237</td>\n",
       "    </tr>\n",
       "  </tbody>\n",
       "</table>\n",
       "<p>101 rows × 4 columns</p>\n",
       "</div>"
      ],
      "text/plain": [
       "    year_week       LocationName  group_size  proportion\n",
       "0    2015-w01            Alagoas           3    0.002865\n",
       "1    2015-w01           Amazonas           3    0.002865\n",
       "2    2015-w01              Bahia           5    0.004776\n",
       "3    2015-w01              Ceara           7    0.006686\n",
       "4    2015-w01   Distrito Federal           5    0.004776\n",
       "..        ...                ...         ...         ...\n",
       "96   2015-w05  Rio Grande Do Sul           9    0.008596\n",
       "97   2015-w05           Rondonia           1    0.000955\n",
       "98   2015-w05            Roraima           1    0.000955\n",
       "99   2015-w05     Santa Catarina           1    0.000955\n",
       "100  2015-w05          Sao Paulo          17    0.016237\n",
       "\n",
       "[101 rows x 4 columns]"
      ]
     },
     "execution_count": 5,
     "metadata": {},
     "output_type": "execute_result"
    }
   ],
   "source": [
    "# Step 1: Calculate the size of each group (year_week, LocationName)\n",
    "group_sizes = df_2015_01_pos.groupby(['year_week', 'LocationName']).size().reset_index(name='group_size')\n",
    "\n",
    "# Step 2: Calculate the proportion of each group in the dataset\n",
    "total_rows = len(df_2015_01_pos)\n",
    "group_sizes['proportion'] = group_sizes['group_size'] / total_rows\n",
    "group_sizes"
   ]
  },
  {
   "cell_type": "code",
   "execution_count": 6,
   "id": "3fac3240",
   "metadata": {},
   "outputs": [
    {
     "data": {
      "text/html": [
       "<div>\n",
       "<style scoped>\n",
       "    .dataframe tbody tr th:only-of-type {\n",
       "        vertical-align: middle;\n",
       "    }\n",
       "\n",
       "    .dataframe tbody tr th {\n",
       "        vertical-align: top;\n",
       "    }\n",
       "\n",
       "    .dataframe thead th {\n",
       "        text-align: right;\n",
       "    }\n",
       "</style>\n",
       "<table border=\"1\" class=\"dataframe\">\n",
       "  <thead>\n",
       "    <tr style=\"text-align: right;\">\n",
       "      <th></th>\n",
       "      <th>year_week</th>\n",
       "      <th>LocationName</th>\n",
       "      <th>group_size</th>\n",
       "      <th>proportion</th>\n",
       "      <th>sample_size</th>\n",
       "    </tr>\n",
       "  </thead>\n",
       "  <tbody>\n",
       "    <tr>\n",
       "      <th>0</th>\n",
       "      <td>2015-w01</td>\n",
       "      <td>Alagoas</td>\n",
       "      <td>3</td>\n",
       "      <td>0.002865</td>\n",
       "      <td>7</td>\n",
       "    </tr>\n",
       "    <tr>\n",
       "      <th>1</th>\n",
       "      <td>2015-w01</td>\n",
       "      <td>Amazonas</td>\n",
       "      <td>3</td>\n",
       "      <td>0.002865</td>\n",
       "      <td>7</td>\n",
       "    </tr>\n",
       "    <tr>\n",
       "      <th>2</th>\n",
       "      <td>2015-w01</td>\n",
       "      <td>Bahia</td>\n",
       "      <td>5</td>\n",
       "      <td>0.004776</td>\n",
       "      <td>11</td>\n",
       "    </tr>\n",
       "    <tr>\n",
       "      <th>3</th>\n",
       "      <td>2015-w01</td>\n",
       "      <td>Ceara</td>\n",
       "      <td>7</td>\n",
       "      <td>0.006686</td>\n",
       "      <td>16</td>\n",
       "    </tr>\n",
       "    <tr>\n",
       "      <th>4</th>\n",
       "      <td>2015-w01</td>\n",
       "      <td>Distrito Federal</td>\n",
       "      <td>5</td>\n",
       "      <td>0.004776</td>\n",
       "      <td>11</td>\n",
       "    </tr>\n",
       "    <tr>\n",
       "      <th>...</th>\n",
       "      <td>...</td>\n",
       "      <td>...</td>\n",
       "      <td>...</td>\n",
       "      <td>...</td>\n",
       "      <td>...</td>\n",
       "    </tr>\n",
       "    <tr>\n",
       "      <th>96</th>\n",
       "      <td>2015-w05</td>\n",
       "      <td>Rio Grande Do Sul</td>\n",
       "      <td>9</td>\n",
       "      <td>0.008596</td>\n",
       "      <td>21</td>\n",
       "    </tr>\n",
       "    <tr>\n",
       "      <th>97</th>\n",
       "      <td>2015-w05</td>\n",
       "      <td>Rondonia</td>\n",
       "      <td>1</td>\n",
       "      <td>0.000955</td>\n",
       "      <td>2</td>\n",
       "    </tr>\n",
       "    <tr>\n",
       "      <th>98</th>\n",
       "      <td>2015-w05</td>\n",
       "      <td>Roraima</td>\n",
       "      <td>1</td>\n",
       "      <td>0.000955</td>\n",
       "      <td>2</td>\n",
       "    </tr>\n",
       "    <tr>\n",
       "      <th>99</th>\n",
       "      <td>2015-w05</td>\n",
       "      <td>Santa Catarina</td>\n",
       "      <td>1</td>\n",
       "      <td>0.000955</td>\n",
       "      <td>2</td>\n",
       "    </tr>\n",
       "    <tr>\n",
       "      <th>100</th>\n",
       "      <td>2015-w05</td>\n",
       "      <td>Sao Paulo</td>\n",
       "      <td>17</td>\n",
       "      <td>0.016237</td>\n",
       "      <td>39</td>\n",
       "    </tr>\n",
       "  </tbody>\n",
       "</table>\n",
       "<p>101 rows × 5 columns</p>\n",
       "</div>"
      ],
      "text/plain": [
       "    year_week       LocationName  group_size  proportion  sample_size\n",
       "0    2015-w01            Alagoas           3    0.002865            7\n",
       "1    2015-w01           Amazonas           3    0.002865            7\n",
       "2    2015-w01              Bahia           5    0.004776           11\n",
       "3    2015-w01              Ceara           7    0.006686           16\n",
       "4    2015-w01   Distrito Federal           5    0.004776           11\n",
       "..        ...                ...         ...         ...          ...\n",
       "96   2015-w05  Rio Grande Do Sul           9    0.008596           21\n",
       "97   2015-w05           Rondonia           1    0.000955            2\n",
       "98   2015-w05            Roraima           1    0.000955            2\n",
       "99   2015-w05     Santa Catarina           1    0.000955            2\n",
       "100  2015-w05          Sao Paulo          17    0.016237           39\n",
       "\n",
       "[101 rows x 5 columns]"
      ]
     },
     "execution_count": 6,
     "metadata": {},
     "output_type": "execute_result"
    }
   ],
   "source": [
    "# Step 3: Define the target sample size\n",
    "target_sample_size = 2450\n",
    "\n",
    "# Step 4: Calculate the sample size for each group (based on its proportion)\n",
    "group_sizes['sample_size'] = np.floor(group_sizes['proportion'] * target_sample_size).astype(int)\n",
    "group_sizes"
   ]
  },
  {
   "cell_type": "code",
   "execution_count": 7,
   "id": "c7469167",
   "metadata": {},
   "outputs": [],
   "source": [
    "# Step 5: Merge this sample size information back to the original DataFrame\n",
    "df_2015_01_pos_sample_size = pd.merge(df_2015_01_pos, group_sizes[['year_week', 'LocationName', 'sample_size']], \n",
    "                               on=['year_week', 'LocationName'], how='left')"
   ]
  },
  {
   "cell_type": "code",
   "execution_count": 8,
   "id": "9c4475e7",
   "metadata": {},
   "outputs": [
    {
     "name": "stdout",
     "output_type": "stream",
     "text": [
      "Sampled 1047 rows.\n"
     ]
    }
   ],
   "source": [
    "# Step 6: Perform the stratified sampling\n",
    "#df_2015_01_pos_sample = df_2015_01_pos_sample_size.groupby(['year_week', 'LocationName']).apply(\n",
    " #   lambda group: group.sample(n=group['sample_size'].iloc[0], random_state=42)\n",
    "#).reset_index(drop=True)\n",
    "df_2015_01_pos_sample = df_2015_01_pos\n",
    "# Step 7: Check the result\n",
    "print(f\"Sampled {len(df_2015_01_pos_sample)} rows.\")\n"
   ]
  },
  {
   "cell_type": "code",
   "execution_count": 9,
   "id": "c4ec1d65",
   "metadata": {},
   "outputs": [],
   "source": [
    "text_gpt_2015_01_pos = '\\n'.join(df_2015_01_pos_sample['text'].astype(str))"
   ]
  },
  {
   "cell_type": "markdown",
   "id": "5dc8c377",
   "metadata": {},
   "source": [
    "### Prompts and loops"
   ]
  },
  {
   "cell_type": "code",
   "execution_count": 10,
   "id": "a269fd14",
   "metadata": {},
   "outputs": [],
   "source": [
    "prompt_1 = prompt_raw.replace('TWEETS', text_gpt_2015_01_pos)"
   ]
  },
  {
   "cell_type": "code",
   "execution_count": 11,
   "id": "132f0e60",
   "metadata": {
    "scrolled": false
   },
   "outputs": [],
   "source": [
    "response = openai.ChatCompletion.create(\n",
    "    model=\"gpt-4o-mini\",  \n",
    "    messages = [\n",
    "        {\"role\": \"user\", \"content\": prompt_1}\n",
    "    ],\n",
    "    max_tokens=400,  # Maximum number of tokens in the response\n",
    "    temperature=0.7  # Controls the randomness of the output\n",
    ")"
   ]
  },
  {
   "cell_type": "code",
   "execution_count": 12,
   "id": "8b87399c",
   "metadata": {},
   "outputs": [
    {
     "data": {
      "text/plain": [
       "\"Recent developments include Johnson & Johnson's initiation of human trials for an Ebola vaccine, new Israeli cancer vaccines showing promising results for 90% of cancer types, and ongoing vaccination campaigns for HPV targeted at girls aged 11 to 13. Additionally, the FDA has approved a meningitis vaccine, enhancing public health efforts.\""
      ]
     },
     "execution_count": 12,
     "metadata": {},
     "output_type": "execute_result"
    }
   ],
   "source": [
    "response.choices[0].message.content"
   ]
  },
  {
   "cell_type": "code",
   "execution_count": 13,
   "id": "177a2bd7",
   "metadata": {},
   "outputs": [],
   "source": [
    "summary = []\n",
    "dataset = []"
   ]
  },
  {
   "cell_type": "code",
   "execution_count": 14,
   "id": "005c717a",
   "metadata": {},
   "outputs": [],
   "source": [
    "dataset.append(\"2015_01_positive\")"
   ]
  },
  {
   "cell_type": "code",
   "execution_count": 15,
   "id": "b3580ec6",
   "metadata": {},
   "outputs": [],
   "source": [
    "summary.append(response.choices[0].message.content)"
   ]
  },
  {
   "cell_type": "code",
   "execution_count": 16,
   "id": "24c5caaa",
   "metadata": {
    "tags": []
   },
   "outputs": [
    {
     "name": "stdout",
     "output_type": "stream",
     "text": [
      "<class 'pandas.core.frame.DataFrame'>\n",
      "RangeIndex: 1 entries, 0 to 0\n",
      "Data columns (total 2 columns):\n",
      " #   Column   Non-Null Count  Dtype \n",
      "---  ------   --------------  ----- \n",
      " 0   dataset  1 non-null      object\n",
      " 1   summary  1 non-null      object\n",
      "dtypes: object(2)\n",
      "memory usage: 144.0+ bytes\n"
     ]
    }
   ],
   "source": [
    "df_2015_pos = pd.DataFrame(list(zip(dataset, summary)),\n",
    "                            columns = ['dataset', 'summary'])\n",
    "df_2015_pos.info()"
   ]
  },
  {
   "cell_type": "code",
   "execution_count": 17,
   "id": "5bcf3f7f",
   "metadata": {},
   "outputs": [
    {
     "data": {
      "text/html": [
       "<div>\n",
       "<style scoped>\n",
       "    .dataframe tbody tr th:only-of-type {\n",
       "        vertical-align: middle;\n",
       "    }\n",
       "\n",
       "    .dataframe tbody tr th {\n",
       "        vertical-align: top;\n",
       "    }\n",
       "\n",
       "    .dataframe thead th {\n",
       "        text-align: right;\n",
       "    }\n",
       "</style>\n",
       "<table border=\"1\" class=\"dataframe\">\n",
       "  <thead>\n",
       "    <tr style=\"text-align: right;\">\n",
       "      <th></th>\n",
       "      <th>dataset</th>\n",
       "      <th>summary</th>\n",
       "    </tr>\n",
       "  </thead>\n",
       "  <tbody>\n",
       "    <tr>\n",
       "      <th>0</th>\n",
       "      <td>2015_01_positive</td>\n",
       "      <td>Recent developments include Johnson &amp; Johnson'...</td>\n",
       "    </tr>\n",
       "  </tbody>\n",
       "</table>\n",
       "</div>"
      ],
      "text/plain": [
       "            dataset                                            summary\n",
       "0  2015_01_positive  Recent developments include Johnson & Johnson'..."
      ]
     },
     "execution_count": 17,
     "metadata": {},
     "output_type": "execute_result"
    }
   ],
   "source": [
    "df_2015_pos.tail(14)"
   ]
  },
  {
   "cell_type": "code",
   "execution_count": 18,
   "id": "df702099",
   "metadata": {},
   "outputs": [
    {
     "data": {
      "text/plain": [
       "<OpenAIObject chat.completion id=chatcmpl-AUd7c3p23gk1KIlzwunnVDbUJOCHd at 0x21d82a2aa90> JSON: {\n",
       "  \"choices\": [\n",
       "    {\n",
       "      \"finish_reason\": \"stop\",\n",
       "      \"index\": 0,\n",
       "      \"logprobs\": null,\n",
       "      \"message\": {\n",
       "        \"content\": \"Recent developments include Johnson & Johnson's initiation of human trials for an Ebola vaccine, new Israeli cancer vaccines showing promising results for 90% of cancer types, and ongoing vaccination campaigns for HPV targeted at girls aged 11 to 13. Additionally, the FDA has approved a meningitis vaccine, enhancing public health efforts.\",\n",
       "        \"refusal\": null,\n",
       "        \"role\": \"assistant\"\n",
       "      }\n",
       "    }\n",
       "  ],\n",
       "  \"created\": 1731863588,\n",
       "  \"id\": \"chatcmpl-AUd7c3p23gk1KIlzwunnVDbUJOCHd\",\n",
       "  \"model\": \"gpt-4o-mini-2024-07-18\",\n",
       "  \"object\": \"chat.completion\",\n",
       "  \"system_fingerprint\": \"fp_0ba0d124f1\",\n",
       "  \"usage\": {\n",
       "    \"completion_tokens\": 63,\n",
       "    \"completion_tokens_details\": {\n",
       "      \"accepted_prediction_tokens\": 0,\n",
       "      \"audio_tokens\": 0,\n",
       "      \"reasoning_tokens\": 0,\n",
       "      \"rejected_prediction_tokens\": 0\n",
       "    },\n",
       "    \"prompt_tokens\": 24706,\n",
       "    \"prompt_tokens_details\": {\n",
       "      \"audio_tokens\": 0,\n",
       "      \"cached_tokens\": 0\n",
       "    },\n",
       "    \"total_tokens\": 24769\n",
       "  }\n",
       "}"
      ]
     },
     "execution_count": 18,
     "metadata": {},
     "output_type": "execute_result"
    }
   ],
   "source": [
    "response"
   ]
  },
  {
   "cell_type": "markdown",
   "id": "f2468aac",
   "metadata": {},
   "source": [
    "## February"
   ]
  },
  {
   "cell_type": "code",
   "execution_count": 19,
   "id": "5ea58abd",
   "metadata": {
    "scrolled": true,
    "tags": []
   },
   "outputs": [
    {
     "name": "stdout",
     "output_type": "stream",
     "text": [
      "<class 'pandas.core.frame.DataFrame'>\n",
      "RangeIndex: 1394 entries, 0 to 1393\n",
      "Data columns (total 53 columns):\n",
      " #   Column                  Non-Null Count  Dtype  \n",
      "---  ------                  --------------  -----  \n",
      " 0   index                   1394 non-null   int64  \n",
      " 1   LocationCode            1394 non-null   object \n",
      " 2   LocationName            1394 non-null   object \n",
      " 3   StatesCode              1394 non-null   object \n",
      " 4   ...4                    1394 non-null   int64  \n",
      " 5   id                      1394 non-null   float64\n",
      " 6   text                    1394 non-null   object \n",
      " 7   label                   1394 non-null   object \n",
      " 8   in_reply_to_status_id   58 non-null     float64\n",
      " 9   in_reply_to_user_id     67 non-null     float64\n",
      " 10  quoted_user_id          0 non-null      float64\n",
      " 11  quoted_status_id        0 non-null      float64\n",
      " 12  retweeted_user_id       516 non-null    float64\n",
      " 13  retweeted_status_id     516 non-null    float64\n",
      " 14  created_at              1394 non-null   object \n",
      " 15  entities.user_mentions  668 non-null    object \n",
      " 16  user.id                 1394 non-null   int64  \n",
      " 17  user.screen_name        1394 non-null   object \n",
      " 18  user.name               1394 non-null   object \n",
      " 19  user.description        1209 non-null   object \n",
      " 20  user.timezone           0 non-null      float64\n",
      " 21  user.location           1387 non-null   object \n",
      " 22  user.num_followers      1394 non-null   int64  \n",
      " 23  user.num_following      1394 non-null   int64  \n",
      " 24  user.created_at         1394 non-null   object \n",
      " 25  user.statuses_count     1394 non-null   int64  \n",
      " 26  user.is_verified        1394 non-null   bool   \n",
      " 27  lang                    1394 non-null   object \n",
      " 28  token_count             1394 non-null   int64  \n",
      " 29  is_retweet              1394 non-null   bool   \n",
      " 30  has_quote               1394 non-null   bool   \n",
      " 31  is_reply                1394 non-null   bool   \n",
      " 32  contains_keywords       1394 non-null   bool   \n",
      " 33  longitude               1394 non-null   float64\n",
      " 34  latitude                1394 non-null   float64\n",
      " 35  country_code            1394 non-null   object \n",
      " 36  geoname_id              1362 non-null   float64\n",
      " 37  location_type           1394 non-null   object \n",
      " 38  geo_type                1394 non-null   int64  \n",
      " 39  region                  1394 non-null   object \n",
      " 40  subregion               1394 non-null   object \n",
      " 41  num_quotes              1394 non-null   int64  \n",
      " 42  num_replies             1394 non-null   int64  \n",
      " 43  num_retweets            1394 non-null   int64  \n",
      " 44  sent_gpt                1394 non-null   object \n",
      " 45  gpt_sent_presence       1394 non-null   int64  \n",
      " 46  cleaned_text_lem        1394 non-null   object \n",
      " 47  cleaned_text            1394 non-null   object \n",
      " 48  month                   1394 non-null   int64  \n",
      " 49  year                    1394 non-null   int64  \n",
      " 50  week                    1394 non-null   int64  \n",
      " 51  year_month              1394 non-null   object \n",
      " 52  year_week               1394 non-null   object \n",
      "dtypes: bool(5), float64(11), int64(15), object(22)\n",
      "memory usage: 529.7+ KB\n"
     ]
    }
   ],
   "source": [
    "# Get monthly data\n",
    "df_2015_02_pos = pd.read_csv('../data/local/df_pos_2015-02.csv').reset_index()\n",
    "df_2015_02_pos.info()"
   ]
  },
  {
   "cell_type": "markdown",
   "id": "1131f48c",
   "metadata": {},
   "source": [
    "### Representative sample based on week and location"
   ]
  },
  {
   "cell_type": "code",
   "execution_count": 20,
   "id": "2ef3d681",
   "metadata": {},
   "outputs": [
    {
     "data": {
      "text/html": [
       "<div>\n",
       "<style scoped>\n",
       "    .dataframe tbody tr th:only-of-type {\n",
       "        vertical-align: middle;\n",
       "    }\n",
       "\n",
       "    .dataframe tbody tr th {\n",
       "        vertical-align: top;\n",
       "    }\n",
       "\n",
       "    .dataframe thead th {\n",
       "        text-align: right;\n",
       "    }\n",
       "</style>\n",
       "<table border=\"1\" class=\"dataframe\">\n",
       "  <thead>\n",
       "    <tr style=\"text-align: right;\">\n",
       "      <th></th>\n",
       "      <th>year_week</th>\n",
       "      <th>LocationName</th>\n",
       "      <th>group_size</th>\n",
       "      <th>proportion</th>\n",
       "    </tr>\n",
       "  </thead>\n",
       "  <tbody>\n",
       "    <tr>\n",
       "      <th>0</th>\n",
       "      <td>2015-w05</td>\n",
       "      <td>Alagoas</td>\n",
       "      <td>2</td>\n",
       "      <td>0.001435</td>\n",
       "    </tr>\n",
       "    <tr>\n",
       "      <th>1</th>\n",
       "      <td>2015-w05</td>\n",
       "      <td>Amapa</td>\n",
       "      <td>1</td>\n",
       "      <td>0.000717</td>\n",
       "    </tr>\n",
       "    <tr>\n",
       "      <th>2</th>\n",
       "      <td>2015-w05</td>\n",
       "      <td>Amazonas</td>\n",
       "      <td>9</td>\n",
       "      <td>0.006456</td>\n",
       "    </tr>\n",
       "    <tr>\n",
       "      <th>3</th>\n",
       "      <td>2015-w05</td>\n",
       "      <td>Bahia</td>\n",
       "      <td>19</td>\n",
       "      <td>0.013630</td>\n",
       "    </tr>\n",
       "    <tr>\n",
       "      <th>4</th>\n",
       "      <td>2015-w05</td>\n",
       "      <td>Ceara</td>\n",
       "      <td>10</td>\n",
       "      <td>0.007174</td>\n",
       "    </tr>\n",
       "    <tr>\n",
       "      <th>...</th>\n",
       "      <td>...</td>\n",
       "      <td>...</td>\n",
       "      <td>...</td>\n",
       "      <td>...</td>\n",
       "    </tr>\n",
       "    <tr>\n",
       "      <th>100</th>\n",
       "      <td>2015-w09</td>\n",
       "      <td>Rio Grande Do Sul</td>\n",
       "      <td>16</td>\n",
       "      <td>0.011478</td>\n",
       "    </tr>\n",
       "    <tr>\n",
       "      <th>101</th>\n",
       "      <td>2015-w09</td>\n",
       "      <td>Roraima</td>\n",
       "      <td>3</td>\n",
       "      <td>0.002152</td>\n",
       "    </tr>\n",
       "    <tr>\n",
       "      <th>102</th>\n",
       "      <td>2015-w09</td>\n",
       "      <td>Santa Catarina</td>\n",
       "      <td>4</td>\n",
       "      <td>0.002869</td>\n",
       "    </tr>\n",
       "    <tr>\n",
       "      <th>103</th>\n",
       "      <td>2015-w09</td>\n",
       "      <td>Sao Paulo</td>\n",
       "      <td>20</td>\n",
       "      <td>0.014347</td>\n",
       "    </tr>\n",
       "    <tr>\n",
       "      <th>104</th>\n",
       "      <td>2015-w09</td>\n",
       "      <td>Sergipe</td>\n",
       "      <td>6</td>\n",
       "      <td>0.004304</td>\n",
       "    </tr>\n",
       "  </tbody>\n",
       "</table>\n",
       "<p>105 rows × 4 columns</p>\n",
       "</div>"
      ],
      "text/plain": [
       "    year_week       LocationName  group_size  proportion\n",
       "0    2015-w05            Alagoas           2    0.001435\n",
       "1    2015-w05              Amapa           1    0.000717\n",
       "2    2015-w05           Amazonas           9    0.006456\n",
       "3    2015-w05              Bahia          19    0.013630\n",
       "4    2015-w05              Ceara          10    0.007174\n",
       "..        ...                ...         ...         ...\n",
       "100  2015-w09  Rio Grande Do Sul          16    0.011478\n",
       "101  2015-w09            Roraima           3    0.002152\n",
       "102  2015-w09     Santa Catarina           4    0.002869\n",
       "103  2015-w09          Sao Paulo          20    0.014347\n",
       "104  2015-w09            Sergipe           6    0.004304\n",
       "\n",
       "[105 rows x 4 columns]"
      ]
     },
     "execution_count": 20,
     "metadata": {},
     "output_type": "execute_result"
    }
   ],
   "source": [
    "# Step 1: Calculate the size of each group (year_week, LocationName)\n",
    "group_sizes = df_2015_02_pos.groupby(['year_week', 'LocationName']).size().reset_index(name='group_size')\n",
    "\n",
    "# Step 2: Calculate the proportion of each group in the dataset\n",
    "total_rows = len(df_2015_02_pos)\n",
    "group_sizes['proportion'] = group_sizes['group_size'] / total_rows\n",
    "group_sizes"
   ]
  },
  {
   "cell_type": "code",
   "execution_count": 21,
   "id": "adee9c98",
   "metadata": {},
   "outputs": [
    {
     "data": {
      "text/html": [
       "<div>\n",
       "<style scoped>\n",
       "    .dataframe tbody tr th:only-of-type {\n",
       "        vertical-align: middle;\n",
       "    }\n",
       "\n",
       "    .dataframe tbody tr th {\n",
       "        vertical-align: top;\n",
       "    }\n",
       "\n",
       "    .dataframe thead th {\n",
       "        text-align: right;\n",
       "    }\n",
       "</style>\n",
       "<table border=\"1\" class=\"dataframe\">\n",
       "  <thead>\n",
       "    <tr style=\"text-align: right;\">\n",
       "      <th></th>\n",
       "      <th>year_week</th>\n",
       "      <th>LocationName</th>\n",
       "      <th>group_size</th>\n",
       "      <th>proportion</th>\n",
       "      <th>sample_size</th>\n",
       "    </tr>\n",
       "  </thead>\n",
       "  <tbody>\n",
       "    <tr>\n",
       "      <th>0</th>\n",
       "      <td>2015-w05</td>\n",
       "      <td>Alagoas</td>\n",
       "      <td>2</td>\n",
       "      <td>0.001435</td>\n",
       "      <td>3</td>\n",
       "    </tr>\n",
       "    <tr>\n",
       "      <th>1</th>\n",
       "      <td>2015-w05</td>\n",
       "      <td>Amapa</td>\n",
       "      <td>1</td>\n",
       "      <td>0.000717</td>\n",
       "      <td>1</td>\n",
       "    </tr>\n",
       "    <tr>\n",
       "      <th>2</th>\n",
       "      <td>2015-w05</td>\n",
       "      <td>Amazonas</td>\n",
       "      <td>9</td>\n",
       "      <td>0.006456</td>\n",
       "      <td>15</td>\n",
       "    </tr>\n",
       "    <tr>\n",
       "      <th>3</th>\n",
       "      <td>2015-w05</td>\n",
       "      <td>Bahia</td>\n",
       "      <td>19</td>\n",
       "      <td>0.013630</td>\n",
       "      <td>33</td>\n",
       "    </tr>\n",
       "    <tr>\n",
       "      <th>4</th>\n",
       "      <td>2015-w05</td>\n",
       "      <td>Ceara</td>\n",
       "      <td>10</td>\n",
       "      <td>0.007174</td>\n",
       "      <td>17</td>\n",
       "    </tr>\n",
       "    <tr>\n",
       "      <th>...</th>\n",
       "      <td>...</td>\n",
       "      <td>...</td>\n",
       "      <td>...</td>\n",
       "      <td>...</td>\n",
       "      <td>...</td>\n",
       "    </tr>\n",
       "    <tr>\n",
       "      <th>100</th>\n",
       "      <td>2015-w09</td>\n",
       "      <td>Rio Grande Do Sul</td>\n",
       "      <td>16</td>\n",
       "      <td>0.011478</td>\n",
       "      <td>28</td>\n",
       "    </tr>\n",
       "    <tr>\n",
       "      <th>101</th>\n",
       "      <td>2015-w09</td>\n",
       "      <td>Roraima</td>\n",
       "      <td>3</td>\n",
       "      <td>0.002152</td>\n",
       "      <td>5</td>\n",
       "    </tr>\n",
       "    <tr>\n",
       "      <th>102</th>\n",
       "      <td>2015-w09</td>\n",
       "      <td>Santa Catarina</td>\n",
       "      <td>4</td>\n",
       "      <td>0.002869</td>\n",
       "      <td>7</td>\n",
       "    </tr>\n",
       "    <tr>\n",
       "      <th>103</th>\n",
       "      <td>2015-w09</td>\n",
       "      <td>Sao Paulo</td>\n",
       "      <td>20</td>\n",
       "      <td>0.014347</td>\n",
       "      <td>35</td>\n",
       "    </tr>\n",
       "    <tr>\n",
       "      <th>104</th>\n",
       "      <td>2015-w09</td>\n",
       "      <td>Sergipe</td>\n",
       "      <td>6</td>\n",
       "      <td>0.004304</td>\n",
       "      <td>10</td>\n",
       "    </tr>\n",
       "  </tbody>\n",
       "</table>\n",
       "<p>105 rows × 5 columns</p>\n",
       "</div>"
      ],
      "text/plain": [
       "    year_week       LocationName  group_size  proportion  sample_size\n",
       "0    2015-w05            Alagoas           2    0.001435            3\n",
       "1    2015-w05              Amapa           1    0.000717            1\n",
       "2    2015-w05           Amazonas           9    0.006456           15\n",
       "3    2015-w05              Bahia          19    0.013630           33\n",
       "4    2015-w05              Ceara          10    0.007174           17\n",
       "..        ...                ...         ...         ...          ...\n",
       "100  2015-w09  Rio Grande Do Sul          16    0.011478           28\n",
       "101  2015-w09            Roraima           3    0.002152            5\n",
       "102  2015-w09     Santa Catarina           4    0.002869            7\n",
       "103  2015-w09          Sao Paulo          20    0.014347           35\n",
       "104  2015-w09            Sergipe           6    0.004304           10\n",
       "\n",
       "[105 rows x 5 columns]"
      ]
     },
     "execution_count": 21,
     "metadata": {},
     "output_type": "execute_result"
    }
   ],
   "source": [
    "# Step 3: Define the target sample size\n",
    "target_sample_size = 2450\n",
    "\n",
    "# Step 4: Calculate the sample size for each group (based on its proportion)\n",
    "group_sizes['sample_size'] = np.floor(group_sizes['proportion'] * target_sample_size).astype(int)\n",
    "group_sizes"
   ]
  },
  {
   "cell_type": "code",
   "execution_count": 22,
   "id": "a7b8b23f",
   "metadata": {},
   "outputs": [],
   "source": [
    "# Step 5: Merge this sample size information back to the original DataFrame\n",
    "df_2015_02_pos_sample_size = pd.merge(df_2015_02_pos, group_sizes[['year_week', 'LocationName', 'sample_size']], \n",
    "                               on=['year_week', 'LocationName'], how='left')"
   ]
  },
  {
   "cell_type": "code",
   "execution_count": 24,
   "id": "46c74cd1",
   "metadata": {},
   "outputs": [
    {
     "name": "stdout",
     "output_type": "stream",
     "text": [
      "Sampled 1394 rows.\n"
     ]
    }
   ],
   "source": [
    "# Step 6: Perform the stratified sampling\n",
    "#df_2015_02_pos_sample = df_2015_02_pos_sample_size.groupby(['year_week', 'LocationName']).apply(\n",
    " #   lambda group: group.sample(n=group['sample_size'].iloc[0], random_state=42)\n",
    "#).reset_index(drop=True)\n",
    "df_2015_02_pos_sample = df_2015_02_pos\n",
    "# Step 7: Check the result\n",
    "print(f\"Sampled {len(df_2015_02_pos_sample)} rows.\")\n"
   ]
  },
  {
   "cell_type": "code",
   "execution_count": 25,
   "id": "80e9765e",
   "metadata": {},
   "outputs": [],
   "source": [
    "text_gpt_2015_02_pos = '\\n'.join(df_2015_02_pos_sample['text'].astype(str))"
   ]
  },
  {
   "cell_type": "markdown",
   "id": "b22f256e",
   "metadata": {},
   "source": [
    "### Prompts and loops"
   ]
  },
  {
   "cell_type": "code",
   "execution_count": 26,
   "id": "95c22639",
   "metadata": {},
   "outputs": [],
   "source": [
    "prompt_2 = prompt_raw.replace('TWEETS', text_gpt_2015_02_pos)"
   ]
  },
  {
   "cell_type": "code",
   "execution_count": 27,
   "id": "b172834e",
   "metadata": {
    "scrolled": false
   },
   "outputs": [],
   "source": [
    "response = openai.ChatCompletion.create(\n",
    "    model=\"gpt-4o-mini\",  \n",
    "    messages = [\n",
    "        {\"role\": \"user\", \"content\": prompt_2}\n",
    "    ],\n",
    "    max_tokens=400,  # Maximum number of tokens in the response\n",
    "    temperature=0.7  # Controls the randomness of the output\n",
    ")"
   ]
  },
  {
   "cell_type": "code",
   "execution_count": 28,
   "id": "86d7f1a3",
   "metadata": {},
   "outputs": [
    {
     "data": {
      "text/plain": [
       "'The provided Portuguese sentences discuss various aspects of vaccination, highlighting its importance in preventing diseases like HPV, measles, yellow fever, and Chagas. Research indicates that vaccines do not encourage risky sexual behavior or other negative outcomes. New vaccines are being developed for HIV and other diseases. The text emphasizes the significance of vaccination in public health, especially amid outbreaks. Additionally, it mentions the role of organizations like WHO in promoting vaccination campaigns.'"
      ]
     },
     "execution_count": 28,
     "metadata": {},
     "output_type": "execute_result"
    }
   ],
   "source": [
    "response.choices[0].message.content"
   ]
  },
  {
   "cell_type": "code",
   "execution_count": 29,
   "id": "44a76dbb",
   "metadata": {},
   "outputs": [],
   "source": [
    "#summary = []\n",
    "#dataset = []"
   ]
  },
  {
   "cell_type": "code",
   "execution_count": 30,
   "id": "9da8b8a2",
   "metadata": {},
   "outputs": [],
   "source": [
    "dataset.append(\"2015_02_positive\")"
   ]
  },
  {
   "cell_type": "code",
   "execution_count": 31,
   "id": "4d33e327",
   "metadata": {},
   "outputs": [],
   "source": [
    "summary.append(response.choices[0].message.content)"
   ]
  },
  {
   "cell_type": "code",
   "execution_count": 32,
   "id": "725c0f71",
   "metadata": {
    "tags": []
   },
   "outputs": [
    {
     "name": "stdout",
     "output_type": "stream",
     "text": [
      "<class 'pandas.core.frame.DataFrame'>\n",
      "RangeIndex: 2 entries, 0 to 1\n",
      "Data columns (total 2 columns):\n",
      " #   Column   Non-Null Count  Dtype \n",
      "---  ------   --------------  ----- \n",
      " 0   dataset  2 non-null      object\n",
      " 1   summary  2 non-null      object\n",
      "dtypes: object(2)\n",
      "memory usage: 160.0+ bytes\n"
     ]
    }
   ],
   "source": [
    "df_2015_pos = pd.DataFrame(list(zip(dataset, summary)),\n",
    "                            columns = ['dataset', 'summary'])\n",
    "df_2015_pos.info()"
   ]
  },
  {
   "cell_type": "code",
   "execution_count": 33,
   "id": "90cdb4de",
   "metadata": {},
   "outputs": [
    {
     "data": {
      "text/html": [
       "<div>\n",
       "<style scoped>\n",
       "    .dataframe tbody tr th:only-of-type {\n",
       "        vertical-align: middle;\n",
       "    }\n",
       "\n",
       "    .dataframe tbody tr th {\n",
       "        vertical-align: top;\n",
       "    }\n",
       "\n",
       "    .dataframe thead th {\n",
       "        text-align: right;\n",
       "    }\n",
       "</style>\n",
       "<table border=\"1\" class=\"dataframe\">\n",
       "  <thead>\n",
       "    <tr style=\"text-align: right;\">\n",
       "      <th></th>\n",
       "      <th>dataset</th>\n",
       "      <th>summary</th>\n",
       "    </tr>\n",
       "  </thead>\n",
       "  <tbody>\n",
       "    <tr>\n",
       "      <th>0</th>\n",
       "      <td>2015_01_positive</td>\n",
       "      <td>Recent developments include Johnson &amp; Johnson'...</td>\n",
       "    </tr>\n",
       "    <tr>\n",
       "      <th>1</th>\n",
       "      <td>2015_02_positive</td>\n",
       "      <td>The provided Portuguese sentences discuss vari...</td>\n",
       "    </tr>\n",
       "  </tbody>\n",
       "</table>\n",
       "</div>"
      ],
      "text/plain": [
       "            dataset                                            summary\n",
       "0  2015_01_positive  Recent developments include Johnson & Johnson'...\n",
       "1  2015_02_positive  The provided Portuguese sentences discuss vari..."
      ]
     },
     "execution_count": 33,
     "metadata": {},
     "output_type": "execute_result"
    }
   ],
   "source": [
    "df_2015_pos.tail(14)"
   ]
  },
  {
   "cell_type": "code",
   "execution_count": 34,
   "id": "8b79e3e6",
   "metadata": {},
   "outputs": [
    {
     "data": {
      "text/plain": [
       "<OpenAIObject chat.completion id=chatcmpl-AUd8adoBEhNQegzgywzmalb3mnM3m at 0x21d87010db0> JSON: {\n",
       "  \"choices\": [\n",
       "    {\n",
       "      \"finish_reason\": \"stop\",\n",
       "      \"index\": 0,\n",
       "      \"logprobs\": null,\n",
       "      \"message\": {\n",
       "        \"content\": \"The provided Portuguese sentences discuss various aspects of vaccination, highlighting its importance in preventing diseases like HPV, measles, yellow fever, and Chagas. Research indicates that vaccines do not encourage risky sexual behavior or other negative outcomes. New vaccines are being developed for HIV and other diseases. The text emphasizes the significance of vaccination in public health, especially amid outbreaks. Additionally, it mentions the role of organizations like WHO in promoting vaccination campaigns.\",\n",
       "        \"refusal\": null,\n",
       "        \"role\": \"assistant\"\n",
       "      }\n",
       "    }\n",
       "  ],\n",
       "  \"created\": 1731863648,\n",
       "  \"id\": \"chatcmpl-AUd8adoBEhNQegzgywzmalb3mnM3m\",\n",
       "  \"model\": \"gpt-4o-mini-2024-07-18\",\n",
       "  \"object\": \"chat.completion\",\n",
       "  \"system_fingerprint\": \"fp_0ba0d124f1\",\n",
       "  \"usage\": {\n",
       "    \"completion_tokens\": 85,\n",
       "    \"completion_tokens_details\": {\n",
       "      \"accepted_prediction_tokens\": 0,\n",
       "      \"audio_tokens\": 0,\n",
       "      \"reasoning_tokens\": 0,\n",
       "      \"rejected_prediction_tokens\": 0\n",
       "    },\n",
       "    \"prompt_tokens\": 31822,\n",
       "    \"prompt_tokens_details\": {\n",
       "      \"audio_tokens\": 0,\n",
       "      \"cached_tokens\": 0\n",
       "    },\n",
       "    \"total_tokens\": 31907\n",
       "  }\n",
       "}"
      ]
     },
     "execution_count": 34,
     "metadata": {},
     "output_type": "execute_result"
    }
   ],
   "source": [
    "response"
   ]
  },
  {
   "cell_type": "markdown",
   "id": "83cfd4fe",
   "metadata": {},
   "source": [
    "## March"
   ]
  },
  {
   "cell_type": "code",
   "execution_count": 35,
   "id": "8aecef5f",
   "metadata": {
    "scrolled": true,
    "tags": []
   },
   "outputs": [
    {
     "name": "stdout",
     "output_type": "stream",
     "text": [
      "<class 'pandas.core.frame.DataFrame'>\n",
      "RangeIndex: 2370 entries, 0 to 2369\n",
      "Data columns (total 53 columns):\n",
      " #   Column                  Non-Null Count  Dtype  \n",
      "---  ------                  --------------  -----  \n",
      " 0   index                   2370 non-null   int64  \n",
      " 1   LocationCode            2370 non-null   object \n",
      " 2   LocationName            2370 non-null   object \n",
      " 3   StatesCode              2370 non-null   object \n",
      " 4   ...4                    2370 non-null   int64  \n",
      " 5   id                      2370 non-null   float64\n",
      " 6   text                    2370 non-null   object \n",
      " 7   label                   2370 non-null   object \n",
      " 8   in_reply_to_status_id   79 non-null     float64\n",
      " 9   in_reply_to_user_id     86 non-null     float64\n",
      " 10  quoted_user_id          0 non-null      float64\n",
      " 11  quoted_status_id        0 non-null      float64\n",
      " 12  retweeted_user_id       554 non-null    float64\n",
      " 13  retweeted_status_id     554 non-null    float64\n",
      " 14  created_at              2370 non-null   object \n",
      " 15  entities.user_mentions  796 non-null    object \n",
      " 16  user.id                 2370 non-null   int64  \n",
      " 17  user.screen_name        2370 non-null   object \n",
      " 18  user.name               2369 non-null   object \n",
      " 19  user.description        2039 non-null   object \n",
      " 20  user.timezone           0 non-null      float64\n",
      " 21  user.location           2362 non-null   object \n",
      " 22  user.num_followers      2370 non-null   int64  \n",
      " 23  user.num_following      2370 non-null   int64  \n",
      " 24  user.created_at         2370 non-null   object \n",
      " 25  user.statuses_count     2370 non-null   int64  \n",
      " 26  user.is_verified        2370 non-null   bool   \n",
      " 27  lang                    2370 non-null   object \n",
      " 28  token_count             2370 non-null   int64  \n",
      " 29  is_retweet              2370 non-null   bool   \n",
      " 30  has_quote               2370 non-null   bool   \n",
      " 31  is_reply                2370 non-null   bool   \n",
      " 32  contains_keywords       2370 non-null   bool   \n",
      " 33  longitude               2370 non-null   float64\n",
      " 34  latitude                2370 non-null   float64\n",
      " 35  country_code            2370 non-null   object \n",
      " 36  geoname_id              2331 non-null   float64\n",
      " 37  location_type           2370 non-null   object \n",
      " 38  geo_type                2370 non-null   int64  \n",
      " 39  region                  2370 non-null   object \n",
      " 40  subregion               2370 non-null   object \n",
      " 41  num_quotes              2370 non-null   int64  \n",
      " 42  num_replies             2370 non-null   int64  \n",
      " 43  num_retweets            2370 non-null   int64  \n",
      " 44  sent_gpt                2370 non-null   object \n",
      " 45  gpt_sent_presence       2370 non-null   int64  \n",
      " 46  cleaned_text_lem        2370 non-null   object \n",
      " 47  cleaned_text            2370 non-null   object \n",
      " 48  month                   2370 non-null   int64  \n",
      " 49  year                    2370 non-null   int64  \n",
      " 50  week                    2370 non-null   int64  \n",
      " 51  year_month              2370 non-null   object \n",
      " 52  year_week               2370 non-null   object \n",
      "dtypes: bool(5), float64(11), int64(15), object(22)\n",
      "memory usage: 900.4+ KB\n"
     ]
    }
   ],
   "source": [
    "# Get monthly data\n",
    "df_2015_03_pos = pd.read_csv('../data/local/df_pos_2015-03.csv').reset_index()\n",
    "df_2015_03_pos.info()"
   ]
  },
  {
   "cell_type": "markdown",
   "id": "9d8793b8",
   "metadata": {},
   "source": [
    "### Representative sample based on week and location"
   ]
  },
  {
   "cell_type": "code",
   "execution_count": 36,
   "id": "849b56c5",
   "metadata": {},
   "outputs": [
    {
     "data": {
      "text/html": [
       "<div>\n",
       "<style scoped>\n",
       "    .dataframe tbody tr th:only-of-type {\n",
       "        vertical-align: middle;\n",
       "    }\n",
       "\n",
       "    .dataframe tbody tr th {\n",
       "        vertical-align: top;\n",
       "    }\n",
       "\n",
       "    .dataframe thead th {\n",
       "        text-align: right;\n",
       "    }\n",
       "</style>\n",
       "<table border=\"1\" class=\"dataframe\">\n",
       "  <thead>\n",
       "    <tr style=\"text-align: right;\">\n",
       "      <th></th>\n",
       "      <th>year_week</th>\n",
       "      <th>LocationName</th>\n",
       "      <th>group_size</th>\n",
       "      <th>proportion</th>\n",
       "    </tr>\n",
       "  </thead>\n",
       "  <tbody>\n",
       "    <tr>\n",
       "      <th>0</th>\n",
       "      <td>2015-w09</td>\n",
       "      <td>Alagoas</td>\n",
       "      <td>1</td>\n",
       "      <td>0.000422</td>\n",
       "    </tr>\n",
       "    <tr>\n",
       "      <th>1</th>\n",
       "      <td>2015-w09</td>\n",
       "      <td>Amapa</td>\n",
       "      <td>19</td>\n",
       "      <td>0.008017</td>\n",
       "    </tr>\n",
       "    <tr>\n",
       "      <th>2</th>\n",
       "      <td>2015-w09</td>\n",
       "      <td>Amazonas</td>\n",
       "      <td>3</td>\n",
       "      <td>0.001266</td>\n",
       "    </tr>\n",
       "    <tr>\n",
       "      <th>3</th>\n",
       "      <td>2015-w09</td>\n",
       "      <td>Bahia</td>\n",
       "      <td>25</td>\n",
       "      <td>0.010549</td>\n",
       "    </tr>\n",
       "    <tr>\n",
       "      <th>4</th>\n",
       "      <td>2015-w09</td>\n",
       "      <td>Ceara</td>\n",
       "      <td>7</td>\n",
       "      <td>0.002954</td>\n",
       "    </tr>\n",
       "    <tr>\n",
       "      <th>...</th>\n",
       "      <td>...</td>\n",
       "      <td>...</td>\n",
       "      <td>...</td>\n",
       "      <td>...</td>\n",
       "    </tr>\n",
       "    <tr>\n",
       "      <th>111</th>\n",
       "      <td>2015-w13</td>\n",
       "      <td>Rondonia</td>\n",
       "      <td>1</td>\n",
       "      <td>0.000422</td>\n",
       "    </tr>\n",
       "    <tr>\n",
       "      <th>112</th>\n",
       "      <td>2015-w13</td>\n",
       "      <td>Roraima</td>\n",
       "      <td>2</td>\n",
       "      <td>0.000844</td>\n",
       "    </tr>\n",
       "    <tr>\n",
       "      <th>113</th>\n",
       "      <td>2015-w13</td>\n",
       "      <td>Santa Catarina</td>\n",
       "      <td>5</td>\n",
       "      <td>0.002110</td>\n",
       "    </tr>\n",
       "    <tr>\n",
       "      <th>114</th>\n",
       "      <td>2015-w13</td>\n",
       "      <td>Sao Paulo</td>\n",
       "      <td>93</td>\n",
       "      <td>0.039241</td>\n",
       "    </tr>\n",
       "    <tr>\n",
       "      <th>115</th>\n",
       "      <td>2015-w13</td>\n",
       "      <td>Sergipe</td>\n",
       "      <td>3</td>\n",
       "      <td>0.001266</td>\n",
       "    </tr>\n",
       "  </tbody>\n",
       "</table>\n",
       "<p>116 rows × 4 columns</p>\n",
       "</div>"
      ],
      "text/plain": [
       "    year_week    LocationName  group_size  proportion\n",
       "0    2015-w09         Alagoas           1    0.000422\n",
       "1    2015-w09           Amapa          19    0.008017\n",
       "2    2015-w09        Amazonas           3    0.001266\n",
       "3    2015-w09           Bahia          25    0.010549\n",
       "4    2015-w09           Ceara           7    0.002954\n",
       "..        ...             ...         ...         ...\n",
       "111  2015-w13        Rondonia           1    0.000422\n",
       "112  2015-w13         Roraima           2    0.000844\n",
       "113  2015-w13  Santa Catarina           5    0.002110\n",
       "114  2015-w13       Sao Paulo          93    0.039241\n",
       "115  2015-w13         Sergipe           3    0.001266\n",
       "\n",
       "[116 rows x 4 columns]"
      ]
     },
     "execution_count": 36,
     "metadata": {},
     "output_type": "execute_result"
    }
   ],
   "source": [
    "# Step 1: Calculate the size of each group (year_week, LocationName)\n",
    "group_sizes = df_2015_03_pos.groupby(['year_week', 'LocationName']).size().reset_index(name='group_size')\n",
    "\n",
    "# Step 2: Calculate the proportion of each group in the dataset\n",
    "total_rows = len(df_2015_03_pos)\n",
    "group_sizes['proportion'] = group_sizes['group_size'] / total_rows\n",
    "group_sizes"
   ]
  },
  {
   "cell_type": "code",
   "execution_count": 37,
   "id": "aef8698d",
   "metadata": {},
   "outputs": [
    {
     "data": {
      "text/html": [
       "<div>\n",
       "<style scoped>\n",
       "    .dataframe tbody tr th:only-of-type {\n",
       "        vertical-align: middle;\n",
       "    }\n",
       "\n",
       "    .dataframe tbody tr th {\n",
       "        vertical-align: top;\n",
       "    }\n",
       "\n",
       "    .dataframe thead th {\n",
       "        text-align: right;\n",
       "    }\n",
       "</style>\n",
       "<table border=\"1\" class=\"dataframe\">\n",
       "  <thead>\n",
       "    <tr style=\"text-align: right;\">\n",
       "      <th></th>\n",
       "      <th>year_week</th>\n",
       "      <th>LocationName</th>\n",
       "      <th>group_size</th>\n",
       "      <th>proportion</th>\n",
       "      <th>sample_size</th>\n",
       "    </tr>\n",
       "  </thead>\n",
       "  <tbody>\n",
       "    <tr>\n",
       "      <th>0</th>\n",
       "      <td>2015-w09</td>\n",
       "      <td>Alagoas</td>\n",
       "      <td>1</td>\n",
       "      <td>0.000422</td>\n",
       "      <td>1</td>\n",
       "    </tr>\n",
       "    <tr>\n",
       "      <th>1</th>\n",
       "      <td>2015-w09</td>\n",
       "      <td>Amapa</td>\n",
       "      <td>19</td>\n",
       "      <td>0.008017</td>\n",
       "      <td>19</td>\n",
       "    </tr>\n",
       "    <tr>\n",
       "      <th>2</th>\n",
       "      <td>2015-w09</td>\n",
       "      <td>Amazonas</td>\n",
       "      <td>3</td>\n",
       "      <td>0.001266</td>\n",
       "      <td>3</td>\n",
       "    </tr>\n",
       "    <tr>\n",
       "      <th>3</th>\n",
       "      <td>2015-w09</td>\n",
       "      <td>Bahia</td>\n",
       "      <td>25</td>\n",
       "      <td>0.010549</td>\n",
       "      <td>25</td>\n",
       "    </tr>\n",
       "    <tr>\n",
       "      <th>4</th>\n",
       "      <td>2015-w09</td>\n",
       "      <td>Ceara</td>\n",
       "      <td>7</td>\n",
       "      <td>0.002954</td>\n",
       "      <td>7</td>\n",
       "    </tr>\n",
       "    <tr>\n",
       "      <th>...</th>\n",
       "      <td>...</td>\n",
       "      <td>...</td>\n",
       "      <td>...</td>\n",
       "      <td>...</td>\n",
       "      <td>...</td>\n",
       "    </tr>\n",
       "    <tr>\n",
       "      <th>111</th>\n",
       "      <td>2015-w13</td>\n",
       "      <td>Rondonia</td>\n",
       "      <td>1</td>\n",
       "      <td>0.000422</td>\n",
       "      <td>1</td>\n",
       "    </tr>\n",
       "    <tr>\n",
       "      <th>112</th>\n",
       "      <td>2015-w13</td>\n",
       "      <td>Roraima</td>\n",
       "      <td>2</td>\n",
       "      <td>0.000844</td>\n",
       "      <td>2</td>\n",
       "    </tr>\n",
       "    <tr>\n",
       "      <th>113</th>\n",
       "      <td>2015-w13</td>\n",
       "      <td>Santa Catarina</td>\n",
       "      <td>5</td>\n",
       "      <td>0.002110</td>\n",
       "      <td>5</td>\n",
       "    </tr>\n",
       "    <tr>\n",
       "      <th>114</th>\n",
       "      <td>2015-w13</td>\n",
       "      <td>Sao Paulo</td>\n",
       "      <td>93</td>\n",
       "      <td>0.039241</td>\n",
       "      <td>96</td>\n",
       "    </tr>\n",
       "    <tr>\n",
       "      <th>115</th>\n",
       "      <td>2015-w13</td>\n",
       "      <td>Sergipe</td>\n",
       "      <td>3</td>\n",
       "      <td>0.001266</td>\n",
       "      <td>3</td>\n",
       "    </tr>\n",
       "  </tbody>\n",
       "</table>\n",
       "<p>116 rows × 5 columns</p>\n",
       "</div>"
      ],
      "text/plain": [
       "    year_week    LocationName  group_size  proportion  sample_size\n",
       "0    2015-w09         Alagoas           1    0.000422            1\n",
       "1    2015-w09           Amapa          19    0.008017           19\n",
       "2    2015-w09        Amazonas           3    0.001266            3\n",
       "3    2015-w09           Bahia          25    0.010549           25\n",
       "4    2015-w09           Ceara           7    0.002954            7\n",
       "..        ...             ...         ...         ...          ...\n",
       "111  2015-w13        Rondonia           1    0.000422            1\n",
       "112  2015-w13         Roraima           2    0.000844            2\n",
       "113  2015-w13  Santa Catarina           5    0.002110            5\n",
       "114  2015-w13       Sao Paulo          93    0.039241           96\n",
       "115  2015-w13         Sergipe           3    0.001266            3\n",
       "\n",
       "[116 rows x 5 columns]"
      ]
     },
     "execution_count": 37,
     "metadata": {},
     "output_type": "execute_result"
    }
   ],
   "source": [
    "# Step 3: Define the target sample size\n",
    "target_sample_size = 2450\n",
    "\n",
    "# Step 4: Calculate the sample size for each group (based on its proportion)\n",
    "group_sizes['sample_size'] = np.floor(group_sizes['proportion'] * target_sample_size).astype(int)\n",
    "group_sizes"
   ]
  },
  {
   "cell_type": "code",
   "execution_count": 38,
   "id": "64497bce",
   "metadata": {},
   "outputs": [],
   "source": [
    "# Step 5: Merge this sample size information back to the original DataFrame\n",
    "df_2015_03_pos_sample_size = pd.merge(df_2015_03_pos, group_sizes[['year_week', 'LocationName', 'sample_size']], \n",
    "                               on=['year_week', 'LocationName'], how='left')"
   ]
  },
  {
   "cell_type": "code",
   "execution_count": 40,
   "id": "b66deaed",
   "metadata": {},
   "outputs": [
    {
     "name": "stdout",
     "output_type": "stream",
     "text": [
      "Sampled 2370 rows.\n"
     ]
    }
   ],
   "source": [
    "# Step 6: Perform the stratified sampling\n",
    "#df_2015_03_pos_sample = df_2015_03_pos_sample_size.groupby(['year_week', 'LocationName']).apply(\n",
    " #   lambda group: group.sample(n=group['sample_size'].iloc[0], random_state=42)\n",
    "#).reset_index(drop=True)\n",
    "df_2015_03_pos_sample = df_2015_03_pos\n",
    "# Step 7: Check the result\n",
    "print(f\"Sampled {len(df_2015_03_pos_sample)} rows.\")\n"
   ]
  },
  {
   "cell_type": "code",
   "execution_count": 41,
   "id": "cacd5bfb",
   "metadata": {},
   "outputs": [],
   "source": [
    "text_gpt_2015_03_pos = '\\n'.join(df_2015_03_pos_sample['text'].astype(str))"
   ]
  },
  {
   "cell_type": "markdown",
   "id": "677054ce",
   "metadata": {},
   "source": [
    "### Prompts and loops"
   ]
  },
  {
   "cell_type": "code",
   "execution_count": 42,
   "id": "3e74eba3",
   "metadata": {},
   "outputs": [],
   "source": [
    "prompt_3 = prompt_raw.replace('TWEETS', text_gpt_2015_03_pos)"
   ]
  },
  {
   "cell_type": "code",
   "execution_count": 43,
   "id": "709224ed",
   "metadata": {
    "scrolled": false
   },
   "outputs": [],
   "source": [
    "response = openai.ChatCompletion.create(\n",
    "    model=\"gpt-4o-mini\",  \n",
    "    messages = [\n",
    "        {\"role\": \"user\", \"content\": prompt_3}\n",
    "    ],\n",
    "    max_tokens=400,  # Maximum number of tokens in the response\n",
    "    temperature=0.7  # Controls the randomness of the output\n",
    ")"
   ]
  },
  {
   "cell_type": "code",
   "execution_count": 44,
   "id": "b8776166",
   "metadata": {},
   "outputs": [
    {
     "data": {
      "text/plain": [
       "'The provided texts primarily discuss various vaccination campaigns, particularly against HPV for girls aged 9 to 11, which aims to prevent cervical cancer. The texts emphasize the importance of vaccination in public health, including plans to vaccinate women with HIV and the expected availability of vaccines for dengue and other diseases. There are mentions of vaccination efforts across different regions and the efficacy of the HPV vaccine, which is noted for its high effectiveness.'"
      ]
     },
     "execution_count": 44,
     "metadata": {},
     "output_type": "execute_result"
    }
   ],
   "source": [
    "response.choices[0].message.content"
   ]
  },
  {
   "cell_type": "code",
   "execution_count": 45,
   "id": "f03966cf",
   "metadata": {},
   "outputs": [],
   "source": [
    "#summary = []\n",
    "#dataset = []"
   ]
  },
  {
   "cell_type": "code",
   "execution_count": 46,
   "id": "bde868f6",
   "metadata": {},
   "outputs": [],
   "source": [
    "dataset.append(\"2015_03_positive\")"
   ]
  },
  {
   "cell_type": "code",
   "execution_count": 47,
   "id": "7a940cb2",
   "metadata": {},
   "outputs": [],
   "source": [
    "summary.append(response.choices[0].message.content)"
   ]
  },
  {
   "cell_type": "code",
   "execution_count": 48,
   "id": "fdf1b907",
   "metadata": {
    "tags": []
   },
   "outputs": [
    {
     "name": "stdout",
     "output_type": "stream",
     "text": [
      "<class 'pandas.core.frame.DataFrame'>\n",
      "RangeIndex: 3 entries, 0 to 2\n",
      "Data columns (total 2 columns):\n",
      " #   Column   Non-Null Count  Dtype \n",
      "---  ------   --------------  ----- \n",
      " 0   dataset  3 non-null      object\n",
      " 1   summary  3 non-null      object\n",
      "dtypes: object(2)\n",
      "memory usage: 176.0+ bytes\n"
     ]
    }
   ],
   "source": [
    "df_2015_pos = pd.DataFrame(list(zip(dataset, summary)),\n",
    "                            columns = ['dataset', 'summary'])\n",
    "df_2015_pos.info()"
   ]
  },
  {
   "cell_type": "code",
   "execution_count": 49,
   "id": "b44227e1",
   "metadata": {},
   "outputs": [
    {
     "data": {
      "text/html": [
       "<div>\n",
       "<style scoped>\n",
       "    .dataframe tbody tr th:only-of-type {\n",
       "        vertical-align: middle;\n",
       "    }\n",
       "\n",
       "    .dataframe tbody tr th {\n",
       "        vertical-align: top;\n",
       "    }\n",
       "\n",
       "    .dataframe thead th {\n",
       "        text-align: right;\n",
       "    }\n",
       "</style>\n",
       "<table border=\"1\" class=\"dataframe\">\n",
       "  <thead>\n",
       "    <tr style=\"text-align: right;\">\n",
       "      <th></th>\n",
       "      <th>dataset</th>\n",
       "      <th>summary</th>\n",
       "    </tr>\n",
       "  </thead>\n",
       "  <tbody>\n",
       "    <tr>\n",
       "      <th>0</th>\n",
       "      <td>2015_01_positive</td>\n",
       "      <td>Recent developments include Johnson &amp; Johnson'...</td>\n",
       "    </tr>\n",
       "    <tr>\n",
       "      <th>1</th>\n",
       "      <td>2015_02_positive</td>\n",
       "      <td>The provided Portuguese sentences discuss vari...</td>\n",
       "    </tr>\n",
       "    <tr>\n",
       "      <th>2</th>\n",
       "      <td>2015_03_positive</td>\n",
       "      <td>The provided texts primarily discuss various v...</td>\n",
       "    </tr>\n",
       "  </tbody>\n",
       "</table>\n",
       "</div>"
      ],
      "text/plain": [
       "            dataset                                            summary\n",
       "0  2015_01_positive  Recent developments include Johnson & Johnson'...\n",
       "1  2015_02_positive  The provided Portuguese sentences discuss vari...\n",
       "2  2015_03_positive  The provided texts primarily discuss various v..."
      ]
     },
     "execution_count": 49,
     "metadata": {},
     "output_type": "execute_result"
    }
   ],
   "source": [
    "df_2015_pos.tail(14)"
   ]
  },
  {
   "cell_type": "code",
   "execution_count": 50,
   "id": "8528ad17",
   "metadata": {},
   "outputs": [
    {
     "data": {
      "text/plain": [
       "<OpenAIObject chat.completion id=chatcmpl-AUd9uEBBXcSRoqkVayfr4Cc3O7FCl at 0x21d872c95e0> JSON: {\n",
       "  \"choices\": [\n",
       "    {\n",
       "      \"finish_reason\": \"stop\",\n",
       "      \"index\": 0,\n",
       "      \"logprobs\": null,\n",
       "      \"message\": {\n",
       "        \"content\": \"The provided texts primarily discuss various vaccination campaigns, particularly against HPV for girls aged 9 to 11, which aims to prevent cervical cancer. The texts emphasize the importance of vaccination in public health, including plans to vaccinate women with HIV and the expected availability of vaccines for dengue and other diseases. There are mentions of vaccination efforts across different regions and the efficacy of the HPV vaccine, which is noted for its high effectiveness.\",\n",
       "        \"refusal\": null,\n",
       "        \"role\": \"assistant\"\n",
       "      }\n",
       "    }\n",
       "  ],\n",
       "  \"created\": 1731863730,\n",
       "  \"id\": \"chatcmpl-AUd9uEBBXcSRoqkVayfr4Cc3O7FCl\",\n",
       "  \"model\": \"gpt-4o-mini-2024-07-18\",\n",
       "  \"object\": \"chat.completion\",\n",
       "  \"system_fingerprint\": \"fp_0ba0d124f1\",\n",
       "  \"usage\": {\n",
       "    \"completion_tokens\": 84,\n",
       "    \"completion_tokens_details\": {\n",
       "      \"accepted_prediction_tokens\": 0,\n",
       "      \"audio_tokens\": 0,\n",
       "      \"reasoning_tokens\": 0,\n",
       "      \"rejected_prediction_tokens\": 0\n",
       "    },\n",
       "    \"prompt_tokens\": 55283,\n",
       "    \"prompt_tokens_details\": {\n",
       "      \"audio_tokens\": 0,\n",
       "      \"cached_tokens\": 0\n",
       "    },\n",
       "    \"total_tokens\": 55367\n",
       "  }\n",
       "}"
      ]
     },
     "execution_count": 50,
     "metadata": {},
     "output_type": "execute_result"
    }
   ],
   "source": [
    "response"
   ]
  },
  {
   "cell_type": "markdown",
   "id": "a57159e2",
   "metadata": {},
   "source": [
    "## April"
   ]
  },
  {
   "cell_type": "code",
   "execution_count": 51,
   "id": "b84f949f",
   "metadata": {
    "scrolled": true,
    "tags": []
   },
   "outputs": [
    {
     "name": "stdout",
     "output_type": "stream",
     "text": [
      "<class 'pandas.core.frame.DataFrame'>\n",
      "RangeIndex: 2005 entries, 0 to 2004\n",
      "Data columns (total 53 columns):\n",
      " #   Column                  Non-Null Count  Dtype  \n",
      "---  ------                  --------------  -----  \n",
      " 0   index                   2005 non-null   int64  \n",
      " 1   LocationCode            2005 non-null   object \n",
      " 2   LocationName            2005 non-null   object \n",
      " 3   StatesCode              2005 non-null   object \n",
      " 4   ...4                    2005 non-null   int64  \n",
      " 5   id                      2005 non-null   float64\n",
      " 6   text                    2005 non-null   object \n",
      " 7   label                   2005 non-null   object \n",
      " 8   in_reply_to_status_id   53 non-null     float64\n",
      " 9   in_reply_to_user_id     95 non-null     float64\n",
      " 10  quoted_user_id          0 non-null      float64\n",
      " 11  quoted_status_id        0 non-null      float64\n",
      " 12  retweeted_user_id       535 non-null    float64\n",
      " 13  retweeted_status_id     535 non-null    float64\n",
      " 14  created_at              2005 non-null   object \n",
      " 15  entities.user_mentions  727 non-null    object \n",
      " 16  user.id                 2005 non-null   int64  \n",
      " 17  user.screen_name        2005 non-null   object \n",
      " 18  user.name               2005 non-null   object \n",
      " 19  user.description        1684 non-null   object \n",
      " 20  user.timezone           0 non-null      float64\n",
      " 21  user.location           1951 non-null   object \n",
      " 22  user.num_followers      2005 non-null   int64  \n",
      " 23  user.num_following      2005 non-null   int64  \n",
      " 24  user.created_at         2005 non-null   object \n",
      " 25  user.statuses_count     2005 non-null   int64  \n",
      " 26  user.is_verified        2005 non-null   bool   \n",
      " 27  lang                    2005 non-null   object \n",
      " 28  token_count             2005 non-null   int64  \n",
      " 29  is_retweet              2005 non-null   bool   \n",
      " 30  has_quote               2005 non-null   bool   \n",
      " 31  is_reply                2005 non-null   bool   \n",
      " 32  contains_keywords       2005 non-null   bool   \n",
      " 33  longitude               2005 non-null   float64\n",
      " 34  latitude                2005 non-null   float64\n",
      " 35  country_code            2005 non-null   object \n",
      " 36  geoname_id              1925 non-null   float64\n",
      " 37  location_type           2005 non-null   object \n",
      " 38  geo_type                2005 non-null   int64  \n",
      " 39  region                  2005 non-null   object \n",
      " 40  subregion               2005 non-null   object \n",
      " 41  num_quotes              2005 non-null   int64  \n",
      " 42  num_replies             2005 non-null   int64  \n",
      " 43  num_retweets            2005 non-null   int64  \n",
      " 44  sent_gpt                2005 non-null   object \n",
      " 45  gpt_sent_presence       2005 non-null   int64  \n",
      " 46  cleaned_text_lem        2005 non-null   object \n",
      " 47  cleaned_text            2005 non-null   object \n",
      " 48  month                   2005 non-null   int64  \n",
      " 49  year                    2005 non-null   int64  \n",
      " 50  week                    2005 non-null   int64  \n",
      " 51  year_month              2005 non-null   object \n",
      " 52  year_week               2005 non-null   object \n",
      "dtypes: bool(5), float64(11), int64(15), object(22)\n",
      "memory usage: 761.8+ KB\n"
     ]
    }
   ],
   "source": [
    "# Get monthly data\n",
    "df_2015_04_pos = pd.read_csv('../data/local/df_pos_2015-04.csv').reset_index()\n",
    "df_2015_04_pos.info()"
   ]
  },
  {
   "cell_type": "markdown",
   "id": "66b76111",
   "metadata": {},
   "source": [
    "### Representative sample based on week and location"
   ]
  },
  {
   "cell_type": "code",
   "execution_count": 52,
   "id": "e2923a82",
   "metadata": {},
   "outputs": [
    {
     "data": {
      "text/html": [
       "<div>\n",
       "<style scoped>\n",
       "    .dataframe tbody tr th:only-of-type {\n",
       "        vertical-align: middle;\n",
       "    }\n",
       "\n",
       "    .dataframe tbody tr th {\n",
       "        vertical-align: top;\n",
       "    }\n",
       "\n",
       "    .dataframe thead th {\n",
       "        text-align: right;\n",
       "    }\n",
       "</style>\n",
       "<table border=\"1\" class=\"dataframe\">\n",
       "  <thead>\n",
       "    <tr style=\"text-align: right;\">\n",
       "      <th></th>\n",
       "      <th>year_week</th>\n",
       "      <th>LocationName</th>\n",
       "      <th>group_size</th>\n",
       "      <th>proportion</th>\n",
       "    </tr>\n",
       "  </thead>\n",
       "  <tbody>\n",
       "    <tr>\n",
       "      <th>0</th>\n",
       "      <td>2015-w13</td>\n",
       "      <td>Amapa</td>\n",
       "      <td>1</td>\n",
       "      <td>0.000499</td>\n",
       "    </tr>\n",
       "    <tr>\n",
       "      <th>1</th>\n",
       "      <td>2015-w13</td>\n",
       "      <td>Bahia</td>\n",
       "      <td>3</td>\n",
       "      <td>0.001496</td>\n",
       "    </tr>\n",
       "    <tr>\n",
       "      <th>2</th>\n",
       "      <td>2015-w13</td>\n",
       "      <td>Ceara</td>\n",
       "      <td>4</td>\n",
       "      <td>0.001995</td>\n",
       "    </tr>\n",
       "    <tr>\n",
       "      <th>3</th>\n",
       "      <td>2015-w13</td>\n",
       "      <td>Distrito Federal</td>\n",
       "      <td>4</td>\n",
       "      <td>0.001995</td>\n",
       "    </tr>\n",
       "    <tr>\n",
       "      <th>4</th>\n",
       "      <td>2015-w13</td>\n",
       "      <td>Goias</td>\n",
       "      <td>6</td>\n",
       "      <td>0.002993</td>\n",
       "    </tr>\n",
       "    <tr>\n",
       "      <th>...</th>\n",
       "      <td>...</td>\n",
       "      <td>...</td>\n",
       "      <td>...</td>\n",
       "      <td>...</td>\n",
       "    </tr>\n",
       "    <tr>\n",
       "      <th>121</th>\n",
       "      <td>2015-w18</td>\n",
       "      <td>Parana</td>\n",
       "      <td>5</td>\n",
       "      <td>0.002494</td>\n",
       "    </tr>\n",
       "    <tr>\n",
       "      <th>122</th>\n",
       "      <td>2015-w18</td>\n",
       "      <td>Pernambuco</td>\n",
       "      <td>5</td>\n",
       "      <td>0.002494</td>\n",
       "    </tr>\n",
       "    <tr>\n",
       "      <th>123</th>\n",
       "      <td>2015-w18</td>\n",
       "      <td>Rio Grande Do Sul</td>\n",
       "      <td>8</td>\n",
       "      <td>0.003990</td>\n",
       "    </tr>\n",
       "    <tr>\n",
       "      <th>124</th>\n",
       "      <td>2015-w18</td>\n",
       "      <td>Santa Catarina</td>\n",
       "      <td>3</td>\n",
       "      <td>0.001496</td>\n",
       "    </tr>\n",
       "    <tr>\n",
       "      <th>125</th>\n",
       "      <td>2015-w18</td>\n",
       "      <td>Sao Paulo</td>\n",
       "      <td>26</td>\n",
       "      <td>0.012968</td>\n",
       "    </tr>\n",
       "  </tbody>\n",
       "</table>\n",
       "<p>126 rows × 4 columns</p>\n",
       "</div>"
      ],
      "text/plain": [
       "    year_week       LocationName  group_size  proportion\n",
       "0    2015-w13              Amapa           1    0.000499\n",
       "1    2015-w13              Bahia           3    0.001496\n",
       "2    2015-w13              Ceara           4    0.001995\n",
       "3    2015-w13   Distrito Federal           4    0.001995\n",
       "4    2015-w13              Goias           6    0.002993\n",
       "..        ...                ...         ...         ...\n",
       "121  2015-w18             Parana           5    0.002494\n",
       "122  2015-w18         Pernambuco           5    0.002494\n",
       "123  2015-w18  Rio Grande Do Sul           8    0.003990\n",
       "124  2015-w18     Santa Catarina           3    0.001496\n",
       "125  2015-w18          Sao Paulo          26    0.012968\n",
       "\n",
       "[126 rows x 4 columns]"
      ]
     },
     "execution_count": 52,
     "metadata": {},
     "output_type": "execute_result"
    }
   ],
   "source": [
    "# Step 1: Calculate the size of each group (year_week, LocationName)\n",
    "group_sizes = df_2015_04_pos.groupby(['year_week', 'LocationName']).size().reset_index(name='group_size')\n",
    "\n",
    "# Step 2: Calculate the proportion of each group in the dataset\n",
    "total_rows = len(df_2015_04_pos)\n",
    "group_sizes['proportion'] = group_sizes['group_size'] / total_rows\n",
    "group_sizes"
   ]
  },
  {
   "cell_type": "code",
   "execution_count": 53,
   "id": "5e52798c",
   "metadata": {},
   "outputs": [
    {
     "data": {
      "text/html": [
       "<div>\n",
       "<style scoped>\n",
       "    .dataframe tbody tr th:only-of-type {\n",
       "        vertical-align: middle;\n",
       "    }\n",
       "\n",
       "    .dataframe tbody tr th {\n",
       "        vertical-align: top;\n",
       "    }\n",
       "\n",
       "    .dataframe thead th {\n",
       "        text-align: right;\n",
       "    }\n",
       "</style>\n",
       "<table border=\"1\" class=\"dataframe\">\n",
       "  <thead>\n",
       "    <tr style=\"text-align: right;\">\n",
       "      <th></th>\n",
       "      <th>year_week</th>\n",
       "      <th>LocationName</th>\n",
       "      <th>group_size</th>\n",
       "      <th>proportion</th>\n",
       "      <th>sample_size</th>\n",
       "    </tr>\n",
       "  </thead>\n",
       "  <tbody>\n",
       "    <tr>\n",
       "      <th>0</th>\n",
       "      <td>2015-w13</td>\n",
       "      <td>Amapa</td>\n",
       "      <td>1</td>\n",
       "      <td>0.000499</td>\n",
       "      <td>1</td>\n",
       "    </tr>\n",
       "    <tr>\n",
       "      <th>1</th>\n",
       "      <td>2015-w13</td>\n",
       "      <td>Bahia</td>\n",
       "      <td>3</td>\n",
       "      <td>0.001496</td>\n",
       "      <td>3</td>\n",
       "    </tr>\n",
       "    <tr>\n",
       "      <th>2</th>\n",
       "      <td>2015-w13</td>\n",
       "      <td>Ceara</td>\n",
       "      <td>4</td>\n",
       "      <td>0.001995</td>\n",
       "      <td>4</td>\n",
       "    </tr>\n",
       "    <tr>\n",
       "      <th>3</th>\n",
       "      <td>2015-w13</td>\n",
       "      <td>Distrito Federal</td>\n",
       "      <td>4</td>\n",
       "      <td>0.001995</td>\n",
       "      <td>4</td>\n",
       "    </tr>\n",
       "    <tr>\n",
       "      <th>4</th>\n",
       "      <td>2015-w13</td>\n",
       "      <td>Goias</td>\n",
       "      <td>6</td>\n",
       "      <td>0.002993</td>\n",
       "      <td>7</td>\n",
       "    </tr>\n",
       "    <tr>\n",
       "      <th>...</th>\n",
       "      <td>...</td>\n",
       "      <td>...</td>\n",
       "      <td>...</td>\n",
       "      <td>...</td>\n",
       "      <td>...</td>\n",
       "    </tr>\n",
       "    <tr>\n",
       "      <th>121</th>\n",
       "      <td>2015-w18</td>\n",
       "      <td>Parana</td>\n",
       "      <td>5</td>\n",
       "      <td>0.002494</td>\n",
       "      <td>6</td>\n",
       "    </tr>\n",
       "    <tr>\n",
       "      <th>122</th>\n",
       "      <td>2015-w18</td>\n",
       "      <td>Pernambuco</td>\n",
       "      <td>5</td>\n",
       "      <td>0.002494</td>\n",
       "      <td>6</td>\n",
       "    </tr>\n",
       "    <tr>\n",
       "      <th>123</th>\n",
       "      <td>2015-w18</td>\n",
       "      <td>Rio Grande Do Sul</td>\n",
       "      <td>8</td>\n",
       "      <td>0.003990</td>\n",
       "      <td>9</td>\n",
       "    </tr>\n",
       "    <tr>\n",
       "      <th>124</th>\n",
       "      <td>2015-w18</td>\n",
       "      <td>Santa Catarina</td>\n",
       "      <td>3</td>\n",
       "      <td>0.001496</td>\n",
       "      <td>3</td>\n",
       "    </tr>\n",
       "    <tr>\n",
       "      <th>125</th>\n",
       "      <td>2015-w18</td>\n",
       "      <td>Sao Paulo</td>\n",
       "      <td>26</td>\n",
       "      <td>0.012968</td>\n",
       "      <td>31</td>\n",
       "    </tr>\n",
       "  </tbody>\n",
       "</table>\n",
       "<p>126 rows × 5 columns</p>\n",
       "</div>"
      ],
      "text/plain": [
       "    year_week       LocationName  group_size  proportion  sample_size\n",
       "0    2015-w13              Amapa           1    0.000499            1\n",
       "1    2015-w13              Bahia           3    0.001496            3\n",
       "2    2015-w13              Ceara           4    0.001995            4\n",
       "3    2015-w13   Distrito Federal           4    0.001995            4\n",
       "4    2015-w13              Goias           6    0.002993            7\n",
       "..        ...                ...         ...         ...          ...\n",
       "121  2015-w18             Parana           5    0.002494            6\n",
       "122  2015-w18         Pernambuco           5    0.002494            6\n",
       "123  2015-w18  Rio Grande Do Sul           8    0.003990            9\n",
       "124  2015-w18     Santa Catarina           3    0.001496            3\n",
       "125  2015-w18          Sao Paulo          26    0.012968           31\n",
       "\n",
       "[126 rows x 5 columns]"
      ]
     },
     "execution_count": 53,
     "metadata": {},
     "output_type": "execute_result"
    }
   ],
   "source": [
    "# Step 3: Define the target sample size\n",
    "target_sample_size = 2450\n",
    "\n",
    "# Step 4: Calculate the sample size for each group (based on its proportion)\n",
    "group_sizes['sample_size'] = np.floor(group_sizes['proportion'] * target_sample_size).astype(int)\n",
    "group_sizes"
   ]
  },
  {
   "cell_type": "code",
   "execution_count": 54,
   "id": "c66b1eeb",
   "metadata": {},
   "outputs": [],
   "source": [
    "# Step 5: Merge this sample size information back to the original DataFrame\n",
    "df_2015_04_pos_sample_size = pd.merge(df_2015_04_pos, group_sizes[['year_week', 'LocationName', 'sample_size']], \n",
    "                               on=['year_week', 'LocationName'], how='left')"
   ]
  },
  {
   "cell_type": "code",
   "execution_count": 56,
   "id": "53f14ba0",
   "metadata": {},
   "outputs": [
    {
     "name": "stdout",
     "output_type": "stream",
     "text": [
      "Sampled 2005 rows.\n"
     ]
    }
   ],
   "source": [
    "# Step 6: Perform the stratified sampling\n",
    "#df_2015_04_pos_sample = df_2015_04_pos_sample_size.groupby(['year_week', 'LocationName']).apply(\n",
    " #   lambda group: group.sample(n=group['sample_size'].iloc[0], random_state=42)\n",
    "#).reset_index(drop=True)\n",
    "df_2015_04_pos_sample = df_2015_04_pos\n",
    "# Step 7: Check the result\n",
    "print(f\"Sampled {len(df_2015_04_pos_sample)} rows.\")\n"
   ]
  },
  {
   "cell_type": "code",
   "execution_count": 57,
   "id": "480bf650",
   "metadata": {},
   "outputs": [],
   "source": [
    "text_gpt_2015_04_pos = '\\n'.join(df_2015_04_pos_sample['text'].astype(str))"
   ]
  },
  {
   "cell_type": "markdown",
   "id": "08689181",
   "metadata": {},
   "source": [
    "### Prompts and loops"
   ]
  },
  {
   "cell_type": "code",
   "execution_count": 58,
   "id": "3d2f9387",
   "metadata": {},
   "outputs": [],
   "source": [
    "prompt_4 = prompt_raw.replace('TWEETS', text_gpt_2015_04_pos)"
   ]
  },
  {
   "cell_type": "code",
   "execution_count": 59,
   "id": "6bf06ef1",
   "metadata": {
    "scrolled": false
   },
   "outputs": [],
   "source": [
    "response = openai.ChatCompletion.create(\n",
    "    model=\"gpt-4o-mini\",  \n",
    "    messages = [\n",
    "        {\"role\": \"user\", \"content\": prompt_4}\n",
    "    ],\n",
    "    max_tokens=400,  # Maximum number of tokens in the response\n",
    "    temperature=0.7  # Controls the randomness of the output\n",
    ")"
   ]
  },
  {
   "cell_type": "code",
   "execution_count": 60,
   "id": "2c572149",
   "metadata": {},
   "outputs": [
    {
     "data": {
      "text/plain": [
       "'Recent studies highlight the efficacy and safety of various vaccines, including those against HPV and dengue, while dispelling myths linking vaccines to autism. Cuba has announced a new lung cancer vaccine and plans to export it to the US. A significant campaign for influenza vaccination is set to begin in Brazil, targeting millions.'"
      ]
     },
     "execution_count": 60,
     "metadata": {},
     "output_type": "execute_result"
    }
   ],
   "source": [
    "response.choices[0].message.content"
   ]
  },
  {
   "cell_type": "code",
   "execution_count": 61,
   "id": "e3b9c3a6",
   "metadata": {},
   "outputs": [],
   "source": [
    "#summary = []\n",
    "#dataset = []"
   ]
  },
  {
   "cell_type": "code",
   "execution_count": 62,
   "id": "87ae0b14",
   "metadata": {},
   "outputs": [],
   "source": [
    "dataset.append(\"2015_04_positive\")"
   ]
  },
  {
   "cell_type": "code",
   "execution_count": 63,
   "id": "265b4d20",
   "metadata": {},
   "outputs": [],
   "source": [
    "summary.append(response.choices[0].message.content)"
   ]
  },
  {
   "cell_type": "code",
   "execution_count": 64,
   "id": "b2c62be9",
   "metadata": {
    "tags": []
   },
   "outputs": [
    {
     "name": "stdout",
     "output_type": "stream",
     "text": [
      "<class 'pandas.core.frame.DataFrame'>\n",
      "RangeIndex: 4 entries, 0 to 3\n",
      "Data columns (total 2 columns):\n",
      " #   Column   Non-Null Count  Dtype \n",
      "---  ------   --------------  ----- \n",
      " 0   dataset  4 non-null      object\n",
      " 1   summary  4 non-null      object\n",
      "dtypes: object(2)\n",
      "memory usage: 192.0+ bytes\n"
     ]
    }
   ],
   "source": [
    "df_2015_pos = pd.DataFrame(list(zip(dataset, summary)),\n",
    "                            columns = ['dataset', 'summary'])\n",
    "df_2015_pos.info()"
   ]
  },
  {
   "cell_type": "code",
   "execution_count": 65,
   "id": "53fcd76e",
   "metadata": {},
   "outputs": [
    {
     "data": {
      "text/html": [
       "<div>\n",
       "<style scoped>\n",
       "    .dataframe tbody tr th:only-of-type {\n",
       "        vertical-align: middle;\n",
       "    }\n",
       "\n",
       "    .dataframe tbody tr th {\n",
       "        vertical-align: top;\n",
       "    }\n",
       "\n",
       "    .dataframe thead th {\n",
       "        text-align: right;\n",
       "    }\n",
       "</style>\n",
       "<table border=\"1\" class=\"dataframe\">\n",
       "  <thead>\n",
       "    <tr style=\"text-align: right;\">\n",
       "      <th></th>\n",
       "      <th>dataset</th>\n",
       "      <th>summary</th>\n",
       "    </tr>\n",
       "  </thead>\n",
       "  <tbody>\n",
       "    <tr>\n",
       "      <th>0</th>\n",
       "      <td>2015_01_positive</td>\n",
       "      <td>Recent developments include Johnson &amp; Johnson'...</td>\n",
       "    </tr>\n",
       "    <tr>\n",
       "      <th>1</th>\n",
       "      <td>2015_02_positive</td>\n",
       "      <td>The provided Portuguese sentences discuss vari...</td>\n",
       "    </tr>\n",
       "    <tr>\n",
       "      <th>2</th>\n",
       "      <td>2015_03_positive</td>\n",
       "      <td>The provided texts primarily discuss various v...</td>\n",
       "    </tr>\n",
       "    <tr>\n",
       "      <th>3</th>\n",
       "      <td>2015_04_positive</td>\n",
       "      <td>Recent studies highlight the efficacy and safe...</td>\n",
       "    </tr>\n",
       "  </tbody>\n",
       "</table>\n",
       "</div>"
      ],
      "text/plain": [
       "            dataset                                            summary\n",
       "0  2015_01_positive  Recent developments include Johnson & Johnson'...\n",
       "1  2015_02_positive  The provided Portuguese sentences discuss vari...\n",
       "2  2015_03_positive  The provided texts primarily discuss various v...\n",
       "3  2015_04_positive  Recent studies highlight the efficacy and safe..."
      ]
     },
     "execution_count": 65,
     "metadata": {},
     "output_type": "execute_result"
    }
   ],
   "source": [
    "df_2015_pos.tail(14)"
   ]
  },
  {
   "cell_type": "code",
   "execution_count": 66,
   "id": "9bc8461d",
   "metadata": {},
   "outputs": [
    {
     "data": {
      "text/plain": [
       "<OpenAIObject chat.completion id=chatcmpl-AUdAwBgFReXMriy5u0N8rEXcRABvH at 0x21d8746ba90> JSON: {\n",
       "  \"choices\": [\n",
       "    {\n",
       "      \"finish_reason\": \"stop\",\n",
       "      \"index\": 0,\n",
       "      \"logprobs\": null,\n",
       "      \"message\": {\n",
       "        \"content\": \"Recent studies highlight the efficacy and safety of various vaccines, including those against HPV and dengue, while dispelling myths linking vaccines to autism. Cuba has announced a new lung cancer vaccine and plans to export it to the US. A significant campaign for influenza vaccination is set to begin in Brazil, targeting millions.\",\n",
       "        \"refusal\": null,\n",
       "        \"role\": \"assistant\"\n",
       "      }\n",
       "    }\n",
       "  ],\n",
       "  \"created\": 1731863794,\n",
       "  \"id\": \"chatcmpl-AUdAwBgFReXMriy5u0N8rEXcRABvH\",\n",
       "  \"model\": \"gpt-4o-mini-2024-07-18\",\n",
       "  \"object\": \"chat.completion\",\n",
       "  \"system_fingerprint\": \"fp_9b78b61c52\",\n",
       "  \"usage\": {\n",
       "    \"completion_tokens\": 60,\n",
       "    \"completion_tokens_details\": {\n",
       "      \"accepted_prediction_tokens\": 0,\n",
       "      \"audio_tokens\": 0,\n",
       "      \"reasoning_tokens\": 0,\n",
       "      \"rejected_prediction_tokens\": 0\n",
       "    },\n",
       "    \"prompt_tokens\": 46079,\n",
       "    \"prompt_tokens_details\": {\n",
       "      \"audio_tokens\": 0,\n",
       "      \"cached_tokens\": 0\n",
       "    },\n",
       "    \"total_tokens\": 46139\n",
       "  }\n",
       "}"
      ]
     },
     "execution_count": 66,
     "metadata": {},
     "output_type": "execute_result"
    }
   ],
   "source": [
    "response"
   ]
  },
  {
   "cell_type": "markdown",
   "id": "e492f6d4",
   "metadata": {},
   "source": [
    "## May"
   ]
  },
  {
   "cell_type": "code",
   "execution_count": 67,
   "id": "f38b435e",
   "metadata": {
    "scrolled": true,
    "tags": []
   },
   "outputs": [
    {
     "name": "stdout",
     "output_type": "stream",
     "text": [
      "<class 'pandas.core.frame.DataFrame'>\n",
      "RangeIndex: 4228 entries, 0 to 4227\n",
      "Data columns (total 53 columns):\n",
      " #   Column                  Non-Null Count  Dtype  \n",
      "---  ------                  --------------  -----  \n",
      " 0   index                   4228 non-null   int64  \n",
      " 1   LocationCode            4228 non-null   object \n",
      " 2   LocationName            4228 non-null   object \n",
      " 3   StatesCode              4228 non-null   object \n",
      " 4   ...4                    4228 non-null   int64  \n",
      " 5   id                      4228 non-null   float64\n",
      " 6   text                    4228 non-null   object \n",
      " 7   label                   4228 non-null   object \n",
      " 8   in_reply_to_status_id   136 non-null    float64\n",
      " 9   in_reply_to_user_id     185 non-null    float64\n",
      " 10  quoted_user_id          1 non-null      float64\n",
      " 11  quoted_status_id        1 non-null      float64\n",
      " 12  retweeted_user_id       1293 non-null   float64\n",
      " 13  retweeted_status_id     1293 non-null   float64\n",
      " 14  created_at              4228 non-null   object \n",
      " 15  entities.user_mentions  1735 non-null   object \n",
      " 16  user.id                 4228 non-null   int64  \n",
      " 17  user.screen_name        4228 non-null   object \n",
      " 18  user.name               4228 non-null   object \n",
      " 19  user.description        3582 non-null   object \n",
      " 20  user.timezone           0 non-null      float64\n",
      " 21  user.location           4131 non-null   object \n",
      " 22  user.num_followers      4228 non-null   int64  \n",
      " 23  user.num_following      4228 non-null   int64  \n",
      " 24  user.created_at         4228 non-null   object \n",
      " 25  user.statuses_count     4228 non-null   int64  \n",
      " 26  user.is_verified        4228 non-null   bool   \n",
      " 27  lang                    4228 non-null   object \n",
      " 28  token_count             4228 non-null   int64  \n",
      " 29  is_retweet              4228 non-null   bool   \n",
      " 30  has_quote               4228 non-null   bool   \n",
      " 31  is_reply                4228 non-null   bool   \n",
      " 32  contains_keywords       4228 non-null   bool   \n",
      " 33  longitude               4228 non-null   float64\n",
      " 34  latitude                4228 non-null   float64\n",
      " 35  country_code            4228 non-null   object \n",
      " 36  geoname_id              3966 non-null   float64\n",
      " 37  location_type           4228 non-null   object \n",
      " 38  geo_type                4228 non-null   int64  \n",
      " 39  region                  4228 non-null   object \n",
      " 40  subregion               4228 non-null   object \n",
      " 41  num_quotes              4228 non-null   int64  \n",
      " 42  num_replies             4228 non-null   int64  \n",
      " 43  num_retweets            4228 non-null   int64  \n",
      " 44  sent_gpt                4228 non-null   object \n",
      " 45  gpt_sent_presence       4228 non-null   int64  \n",
      " 46  cleaned_text_lem        4228 non-null   object \n",
      " 47  cleaned_text            4228 non-null   object \n",
      " 48  month                   4228 non-null   int64  \n",
      " 49  year                    4228 non-null   int64  \n",
      " 50  week                    4228 non-null   int64  \n",
      " 51  year_month              4228 non-null   object \n",
      " 52  year_week               4228 non-null   object \n",
      "dtypes: bool(5), float64(11), int64(15), object(22)\n",
      "memory usage: 1.6+ MB\n"
     ]
    }
   ],
   "source": [
    "# Get monthly data\n",
    "df_2015_05_pos = pd.read_csv('../data/local/df_pos_2015-05.csv').reset_index()\n",
    "df_2015_05_pos.info()"
   ]
  },
  {
   "cell_type": "markdown",
   "id": "67e6748f",
   "metadata": {},
   "source": [
    "### Representative sample based on week and location"
   ]
  },
  {
   "cell_type": "code",
   "execution_count": 68,
   "id": "744659bb",
   "metadata": {},
   "outputs": [
    {
     "data": {
      "text/html": [
       "<div>\n",
       "<style scoped>\n",
       "    .dataframe tbody tr th:only-of-type {\n",
       "        vertical-align: middle;\n",
       "    }\n",
       "\n",
       "    .dataframe tbody tr th {\n",
       "        vertical-align: top;\n",
       "    }\n",
       "\n",
       "    .dataframe thead th {\n",
       "        text-align: right;\n",
       "    }\n",
       "</style>\n",
       "<table border=\"1\" class=\"dataframe\">\n",
       "  <thead>\n",
       "    <tr style=\"text-align: right;\">\n",
       "      <th></th>\n",
       "      <th>year_week</th>\n",
       "      <th>LocationName</th>\n",
       "      <th>group_size</th>\n",
       "      <th>proportion</th>\n",
       "    </tr>\n",
       "  </thead>\n",
       "  <tbody>\n",
       "    <tr>\n",
       "      <th>0</th>\n",
       "      <td>2015-w18</td>\n",
       "      <td>Acre</td>\n",
       "      <td>3</td>\n",
       "      <td>0.000710</td>\n",
       "    </tr>\n",
       "    <tr>\n",
       "      <th>1</th>\n",
       "      <td>2015-w18</td>\n",
       "      <td>Alagoas</td>\n",
       "      <td>24</td>\n",
       "      <td>0.005676</td>\n",
       "    </tr>\n",
       "    <tr>\n",
       "      <th>2</th>\n",
       "      <td>2015-w18</td>\n",
       "      <td>Amapa</td>\n",
       "      <td>10</td>\n",
       "      <td>0.002365</td>\n",
       "    </tr>\n",
       "    <tr>\n",
       "      <th>3</th>\n",
       "      <td>2015-w18</td>\n",
       "      <td>Amazonas</td>\n",
       "      <td>18</td>\n",
       "      <td>0.004257</td>\n",
       "    </tr>\n",
       "    <tr>\n",
       "      <th>4</th>\n",
       "      <td>2015-w18</td>\n",
       "      <td>Bahia</td>\n",
       "      <td>55</td>\n",
       "      <td>0.013009</td>\n",
       "    </tr>\n",
       "    <tr>\n",
       "      <th>...</th>\n",
       "      <td>...</td>\n",
       "      <td>...</td>\n",
       "      <td>...</td>\n",
       "      <td>...</td>\n",
       "    </tr>\n",
       "    <tr>\n",
       "      <th>121</th>\n",
       "      <td>2015-w22</td>\n",
       "      <td>Roraima</td>\n",
       "      <td>1</td>\n",
       "      <td>0.000237</td>\n",
       "    </tr>\n",
       "    <tr>\n",
       "      <th>122</th>\n",
       "      <td>2015-w22</td>\n",
       "      <td>Santa Catarina</td>\n",
       "      <td>4</td>\n",
       "      <td>0.000946</td>\n",
       "    </tr>\n",
       "    <tr>\n",
       "      <th>123</th>\n",
       "      <td>2015-w22</td>\n",
       "      <td>Sao Paulo</td>\n",
       "      <td>75</td>\n",
       "      <td>0.017739</td>\n",
       "    </tr>\n",
       "    <tr>\n",
       "      <th>124</th>\n",
       "      <td>2015-w22</td>\n",
       "      <td>Sergipe</td>\n",
       "      <td>7</td>\n",
       "      <td>0.001656</td>\n",
       "    </tr>\n",
       "    <tr>\n",
       "      <th>125</th>\n",
       "      <td>2015-w22</td>\n",
       "      <td>Tocantins</td>\n",
       "      <td>1</td>\n",
       "      <td>0.000237</td>\n",
       "    </tr>\n",
       "  </tbody>\n",
       "</table>\n",
       "<p>126 rows × 4 columns</p>\n",
       "</div>"
      ],
      "text/plain": [
       "    year_week    LocationName  group_size  proportion\n",
       "0    2015-w18            Acre           3    0.000710\n",
       "1    2015-w18         Alagoas          24    0.005676\n",
       "2    2015-w18           Amapa          10    0.002365\n",
       "3    2015-w18        Amazonas          18    0.004257\n",
       "4    2015-w18           Bahia          55    0.013009\n",
       "..        ...             ...         ...         ...\n",
       "121  2015-w22         Roraima           1    0.000237\n",
       "122  2015-w22  Santa Catarina           4    0.000946\n",
       "123  2015-w22       Sao Paulo          75    0.017739\n",
       "124  2015-w22         Sergipe           7    0.001656\n",
       "125  2015-w22       Tocantins           1    0.000237\n",
       "\n",
       "[126 rows x 4 columns]"
      ]
     },
     "execution_count": 68,
     "metadata": {},
     "output_type": "execute_result"
    }
   ],
   "source": [
    "# Step 1: Calculate the size of each group (year_week, LocationName)\n",
    "group_sizes = df_2015_05_pos.groupby(['year_week', 'LocationName']).size().reset_index(name='group_size')\n",
    "\n",
    "# Step 2: Calculate the proportion of each group in the dataset\n",
    "total_rows = len(df_2015_05_pos)\n",
    "group_sizes['proportion'] = group_sizes['group_size'] / total_rows\n",
    "group_sizes"
   ]
  },
  {
   "cell_type": "code",
   "execution_count": 69,
   "id": "eccffc5e",
   "metadata": {},
   "outputs": [
    {
     "data": {
      "text/html": [
       "<div>\n",
       "<style scoped>\n",
       "    .dataframe tbody tr th:only-of-type {\n",
       "        vertical-align: middle;\n",
       "    }\n",
       "\n",
       "    .dataframe tbody tr th {\n",
       "        vertical-align: top;\n",
       "    }\n",
       "\n",
       "    .dataframe thead th {\n",
       "        text-align: right;\n",
       "    }\n",
       "</style>\n",
       "<table border=\"1\" class=\"dataframe\">\n",
       "  <thead>\n",
       "    <tr style=\"text-align: right;\">\n",
       "      <th></th>\n",
       "      <th>year_week</th>\n",
       "      <th>LocationName</th>\n",
       "      <th>group_size</th>\n",
       "      <th>proportion</th>\n",
       "      <th>sample_size</th>\n",
       "    </tr>\n",
       "  </thead>\n",
       "  <tbody>\n",
       "    <tr>\n",
       "      <th>0</th>\n",
       "      <td>2015-w18</td>\n",
       "      <td>Acre</td>\n",
       "      <td>3</td>\n",
       "      <td>0.000710</td>\n",
       "      <td>1</td>\n",
       "    </tr>\n",
       "    <tr>\n",
       "      <th>1</th>\n",
       "      <td>2015-w18</td>\n",
       "      <td>Alagoas</td>\n",
       "      <td>24</td>\n",
       "      <td>0.005676</td>\n",
       "      <td>13</td>\n",
       "    </tr>\n",
       "    <tr>\n",
       "      <th>2</th>\n",
       "      <td>2015-w18</td>\n",
       "      <td>Amapa</td>\n",
       "      <td>10</td>\n",
       "      <td>0.002365</td>\n",
       "      <td>5</td>\n",
       "    </tr>\n",
       "    <tr>\n",
       "      <th>3</th>\n",
       "      <td>2015-w18</td>\n",
       "      <td>Amazonas</td>\n",
       "      <td>18</td>\n",
       "      <td>0.004257</td>\n",
       "      <td>10</td>\n",
       "    </tr>\n",
       "    <tr>\n",
       "      <th>4</th>\n",
       "      <td>2015-w18</td>\n",
       "      <td>Bahia</td>\n",
       "      <td>55</td>\n",
       "      <td>0.013009</td>\n",
       "      <td>31</td>\n",
       "    </tr>\n",
       "    <tr>\n",
       "      <th>...</th>\n",
       "      <td>...</td>\n",
       "      <td>...</td>\n",
       "      <td>...</td>\n",
       "      <td>...</td>\n",
       "      <td>...</td>\n",
       "    </tr>\n",
       "    <tr>\n",
       "      <th>121</th>\n",
       "      <td>2015-w22</td>\n",
       "      <td>Roraima</td>\n",
       "      <td>1</td>\n",
       "      <td>0.000237</td>\n",
       "      <td>0</td>\n",
       "    </tr>\n",
       "    <tr>\n",
       "      <th>122</th>\n",
       "      <td>2015-w22</td>\n",
       "      <td>Santa Catarina</td>\n",
       "      <td>4</td>\n",
       "      <td>0.000946</td>\n",
       "      <td>2</td>\n",
       "    </tr>\n",
       "    <tr>\n",
       "      <th>123</th>\n",
       "      <td>2015-w22</td>\n",
       "      <td>Sao Paulo</td>\n",
       "      <td>75</td>\n",
       "      <td>0.017739</td>\n",
       "      <td>43</td>\n",
       "    </tr>\n",
       "    <tr>\n",
       "      <th>124</th>\n",
       "      <td>2015-w22</td>\n",
       "      <td>Sergipe</td>\n",
       "      <td>7</td>\n",
       "      <td>0.001656</td>\n",
       "      <td>4</td>\n",
       "    </tr>\n",
       "    <tr>\n",
       "      <th>125</th>\n",
       "      <td>2015-w22</td>\n",
       "      <td>Tocantins</td>\n",
       "      <td>1</td>\n",
       "      <td>0.000237</td>\n",
       "      <td>0</td>\n",
       "    </tr>\n",
       "  </tbody>\n",
       "</table>\n",
       "<p>126 rows × 5 columns</p>\n",
       "</div>"
      ],
      "text/plain": [
       "    year_week    LocationName  group_size  proportion  sample_size\n",
       "0    2015-w18            Acre           3    0.000710            1\n",
       "1    2015-w18         Alagoas          24    0.005676           13\n",
       "2    2015-w18           Amapa          10    0.002365            5\n",
       "3    2015-w18        Amazonas          18    0.004257           10\n",
       "4    2015-w18           Bahia          55    0.013009           31\n",
       "..        ...             ...         ...         ...          ...\n",
       "121  2015-w22         Roraima           1    0.000237            0\n",
       "122  2015-w22  Santa Catarina           4    0.000946            2\n",
       "123  2015-w22       Sao Paulo          75    0.017739           43\n",
       "124  2015-w22         Sergipe           7    0.001656            4\n",
       "125  2015-w22       Tocantins           1    0.000237            0\n",
       "\n",
       "[126 rows x 5 columns]"
      ]
     },
     "execution_count": 69,
     "metadata": {},
     "output_type": "execute_result"
    }
   ],
   "source": [
    "# Step 3: Define the target sample size\n",
    "target_sample_size = 2450\n",
    "\n",
    "# Step 4: Calculate the sample size for each group (based on its proportion)\n",
    "group_sizes['sample_size'] = np.floor(group_sizes['proportion'] * target_sample_size).astype(int)\n",
    "group_sizes"
   ]
  },
  {
   "cell_type": "code",
   "execution_count": 70,
   "id": "1f16b08e",
   "metadata": {},
   "outputs": [],
   "source": [
    "# Step 5: Merge this sample size information back to the original DataFrame\n",
    "df_2015_05_pos_sample_size = pd.merge(df_2015_05_pos, group_sizes[['year_week', 'LocationName', 'sample_size']], \n",
    "                               on=['year_week', 'LocationName'], how='left')"
   ]
  },
  {
   "cell_type": "code",
   "execution_count": 71,
   "id": "6ec4f741",
   "metadata": {},
   "outputs": [
    {
     "name": "stdout",
     "output_type": "stream",
     "text": [
      "Sampled 2382 rows.\n"
     ]
    }
   ],
   "source": [
    "# Step 6: Perform the stratified sampling\n",
    "df_2015_05_pos_sample = df_2015_05_pos_sample_size.groupby(['year_week', 'LocationName']).apply(\n",
    "    lambda group: group.sample(n=group['sample_size'].iloc[0], random_state=42)\n",
    ").reset_index(drop=True)\n",
    "\n",
    "# Step 7: Check the result\n",
    "print(f\"Sampled {len(df_2015_05_pos_sample)} rows.\")\n"
   ]
  },
  {
   "cell_type": "code",
   "execution_count": 72,
   "id": "b861921a",
   "metadata": {},
   "outputs": [],
   "source": [
    "text_gpt_2015_05_pos = '\\n'.join(df_2015_05_pos_sample['text'].astype(str))"
   ]
  },
  {
   "cell_type": "markdown",
   "id": "a71ff6b0",
   "metadata": {},
   "source": [
    "### Prompts and loops"
   ]
  },
  {
   "cell_type": "code",
   "execution_count": 73,
   "id": "6e6a91ed",
   "metadata": {},
   "outputs": [],
   "source": [
    "prompt_5 = prompt_raw.replace('TWEETS', text_gpt_2015_05_pos)"
   ]
  },
  {
   "cell_type": "code",
   "execution_count": 74,
   "id": "14941427",
   "metadata": {
    "scrolled": false
   },
   "outputs": [],
   "source": [
    "response = openai.ChatCompletion.create(\n",
    "    model=\"gpt-4o-mini\",  \n",
    "    messages = [\n",
    "        {\"role\": \"user\", \"content\": prompt_5}\n",
    "    ],\n",
    "    max_tokens=400,  # Maximum number of tokens in the response\n",
    "    temperature=0.7  # Controls the randomness of the output\n",
    ")"
   ]
  },
  {
   "cell_type": "code",
   "execution_count": 75,
   "id": "d34b2bcc",
   "metadata": {},
   "outputs": [
    {
     "data": {
      "text/plain": [
       "'The provided sentences discuss various vaccination campaigns in Brazil and Nepal, focusing on the flu vaccine, the HPV vaccine, and a new meningitis vaccine. They highlight the importance of vaccination to prevent diseases, the targets for immunization, and the rollout of vaccines amid public health efforts. The campaigns aim to vaccinate vulnerable populations, including children, pregnant women, and the elderly. Additionally, there are mentions of a Cuban vaccine for lung cancer and ongoing research for vaccines against dengue and AIDS.'"
      ]
     },
     "execution_count": 75,
     "metadata": {},
     "output_type": "execute_result"
    }
   ],
   "source": [
    "response.choices[0].message.content"
   ]
  },
  {
   "cell_type": "code",
   "execution_count": 76,
   "id": "f8f67be8",
   "metadata": {},
   "outputs": [],
   "source": [
    "#summary = []\n",
    "#dataset = []"
   ]
  },
  {
   "cell_type": "code",
   "execution_count": 77,
   "id": "0eb94e56",
   "metadata": {},
   "outputs": [],
   "source": [
    "dataset.append(\"2015_05_positive\")"
   ]
  },
  {
   "cell_type": "code",
   "execution_count": 78,
   "id": "c9c68d6a",
   "metadata": {},
   "outputs": [],
   "source": [
    "summary.append(response.choices[0].message.content)"
   ]
  },
  {
   "cell_type": "code",
   "execution_count": 79,
   "id": "5716826b",
   "metadata": {
    "tags": []
   },
   "outputs": [
    {
     "name": "stdout",
     "output_type": "stream",
     "text": [
      "<class 'pandas.core.frame.DataFrame'>\n",
      "RangeIndex: 5 entries, 0 to 4\n",
      "Data columns (total 2 columns):\n",
      " #   Column   Non-Null Count  Dtype \n",
      "---  ------   --------------  ----- \n",
      " 0   dataset  5 non-null      object\n",
      " 1   summary  5 non-null      object\n",
      "dtypes: object(2)\n",
      "memory usage: 208.0+ bytes\n"
     ]
    }
   ],
   "source": [
    "df_2015_pos = pd.DataFrame(list(zip(dataset, summary)),\n",
    "                            columns = ['dataset', 'summary'])\n",
    "df_2015_pos.info()"
   ]
  },
  {
   "cell_type": "code",
   "execution_count": 80,
   "id": "8acf11d6",
   "metadata": {},
   "outputs": [
    {
     "data": {
      "text/html": [
       "<div>\n",
       "<style scoped>\n",
       "    .dataframe tbody tr th:only-of-type {\n",
       "        vertical-align: middle;\n",
       "    }\n",
       "\n",
       "    .dataframe tbody tr th {\n",
       "        vertical-align: top;\n",
       "    }\n",
       "\n",
       "    .dataframe thead th {\n",
       "        text-align: right;\n",
       "    }\n",
       "</style>\n",
       "<table border=\"1\" class=\"dataframe\">\n",
       "  <thead>\n",
       "    <tr style=\"text-align: right;\">\n",
       "      <th></th>\n",
       "      <th>dataset</th>\n",
       "      <th>summary</th>\n",
       "    </tr>\n",
       "  </thead>\n",
       "  <tbody>\n",
       "    <tr>\n",
       "      <th>0</th>\n",
       "      <td>2015_01_positive</td>\n",
       "      <td>Recent developments include Johnson &amp; Johnson'...</td>\n",
       "    </tr>\n",
       "    <tr>\n",
       "      <th>1</th>\n",
       "      <td>2015_02_positive</td>\n",
       "      <td>The provided Portuguese sentences discuss vari...</td>\n",
       "    </tr>\n",
       "    <tr>\n",
       "      <th>2</th>\n",
       "      <td>2015_03_positive</td>\n",
       "      <td>The provided texts primarily discuss various v...</td>\n",
       "    </tr>\n",
       "    <tr>\n",
       "      <th>3</th>\n",
       "      <td>2015_04_positive</td>\n",
       "      <td>Recent studies highlight the efficacy and safe...</td>\n",
       "    </tr>\n",
       "    <tr>\n",
       "      <th>4</th>\n",
       "      <td>2015_05_positive</td>\n",
       "      <td>The provided sentences discuss various vaccina...</td>\n",
       "    </tr>\n",
       "  </tbody>\n",
       "</table>\n",
       "</div>"
      ],
      "text/plain": [
       "            dataset                                            summary\n",
       "0  2015_01_positive  Recent developments include Johnson & Johnson'...\n",
       "1  2015_02_positive  The provided Portuguese sentences discuss vari...\n",
       "2  2015_03_positive  The provided texts primarily discuss various v...\n",
       "3  2015_04_positive  Recent studies highlight the efficacy and safe...\n",
       "4  2015_05_positive  The provided sentences discuss various vaccina..."
      ]
     },
     "execution_count": 80,
     "metadata": {},
     "output_type": "execute_result"
    }
   ],
   "source": [
    "df_2015_pos.tail(14)"
   ]
  },
  {
   "cell_type": "code",
   "execution_count": 81,
   "id": "2c2b96e9",
   "metadata": {},
   "outputs": [
    {
     "data": {
      "text/plain": [
       "<OpenAIObject chat.completion id=chatcmpl-AUdB2wJGV4zhQXjEKqHfZiFfIJyKa at 0x21d87430f40> JSON: {\n",
       "  \"choices\": [\n",
       "    {\n",
       "      \"finish_reason\": \"stop\",\n",
       "      \"index\": 0,\n",
       "      \"logprobs\": null,\n",
       "      \"message\": {\n",
       "        \"content\": \"The provided sentences discuss various vaccination campaigns in Brazil and Nepal, focusing on the flu vaccine, the HPV vaccine, and a new meningitis vaccine. They highlight the importance of vaccination to prevent diseases, the targets for immunization, and the rollout of vaccines amid public health efforts. The campaigns aim to vaccinate vulnerable populations, including children, pregnant women, and the elderly. Additionally, there are mentions of a Cuban vaccine for lung cancer and ongoing research for vaccines against dengue and AIDS.\",\n",
       "        \"refusal\": null,\n",
       "        \"role\": \"assistant\"\n",
       "      }\n",
       "    }\n",
       "  ],\n",
       "  \"created\": 1731863800,\n",
       "  \"id\": \"chatcmpl-AUdB2wJGV4zhQXjEKqHfZiFfIJyKa\",\n",
       "  \"model\": \"gpt-4o-mini-2024-07-18\",\n",
       "  \"object\": \"chat.completion\",\n",
       "  \"system_fingerprint\": \"fp_0ba0d124f1\",\n",
       "  \"usage\": {\n",
       "    \"completion_tokens\": 96,\n",
       "    \"completion_tokens_details\": {\n",
       "      \"accepted_prediction_tokens\": 0,\n",
       "      \"audio_tokens\": 0,\n",
       "      \"reasoning_tokens\": 0,\n",
       "      \"rejected_prediction_tokens\": 0\n",
       "    },\n",
       "    \"prompt_tokens\": 58363,\n",
       "    \"prompt_tokens_details\": {\n",
       "      \"audio_tokens\": 0,\n",
       "      \"cached_tokens\": 0\n",
       "    },\n",
       "    \"total_tokens\": 58459\n",
       "  }\n",
       "}"
      ]
     },
     "execution_count": 81,
     "metadata": {},
     "output_type": "execute_result"
    }
   ],
   "source": [
    "response"
   ]
  },
  {
   "cell_type": "markdown",
   "id": "6756d045",
   "metadata": {},
   "source": [
    "## June"
   ]
  },
  {
   "cell_type": "code",
   "execution_count": 82,
   "id": "e994e0a9",
   "metadata": {
    "scrolled": true,
    "tags": []
   },
   "outputs": [
    {
     "name": "stdout",
     "output_type": "stream",
     "text": [
      "<class 'pandas.core.frame.DataFrame'>\n",
      "RangeIndex: 2054 entries, 0 to 2053\n",
      "Data columns (total 53 columns):\n",
      " #   Column                  Non-Null Count  Dtype  \n",
      "---  ------                  --------------  -----  \n",
      " 0   index                   2054 non-null   int64  \n",
      " 1   LocationCode            2054 non-null   object \n",
      " 2   LocationName            2054 non-null   object \n",
      " 3   StatesCode              2054 non-null   object \n",
      " 4   ...4                    2054 non-null   int64  \n",
      " 5   id                      2054 non-null   float64\n",
      " 6   text                    2054 non-null   object \n",
      " 7   label                   2054 non-null   object \n",
      " 8   in_reply_to_status_id   73 non-null     float64\n",
      " 9   in_reply_to_user_id     79 non-null     float64\n",
      " 10  quoted_user_id          10 non-null     float64\n",
      " 11  quoted_status_id        10 non-null     float64\n",
      " 12  retweeted_user_id       398 non-null    float64\n",
      " 13  retweeted_status_id     398 non-null    float64\n",
      " 14  created_at              2054 non-null   object \n",
      " 15  entities.user_mentions  606 non-null    object \n",
      " 16  user.id                 2054 non-null   int64  \n",
      " 17  user.screen_name        2054 non-null   object \n",
      " 18  user.name               2054 non-null   object \n",
      " 19  user.description        1787 non-null   object \n",
      " 20  user.timezone           0 non-null      float64\n",
      " 21  user.location           2002 non-null   object \n",
      " 22  user.num_followers      2054 non-null   int64  \n",
      " 23  user.num_following      2054 non-null   int64  \n",
      " 24  user.created_at         2054 non-null   object \n",
      " 25  user.statuses_count     2054 non-null   int64  \n",
      " 26  user.is_verified        2054 non-null   bool   \n",
      " 27  lang                    2054 non-null   object \n",
      " 28  token_count             2054 non-null   int64  \n",
      " 29  is_retweet              2054 non-null   bool   \n",
      " 30  has_quote               2054 non-null   bool   \n",
      " 31  is_reply                2054 non-null   bool   \n",
      " 32  contains_keywords       2054 non-null   bool   \n",
      " 33  longitude               2054 non-null   float64\n",
      " 34  latitude                2054 non-null   float64\n",
      " 35  country_code            2054 non-null   object \n",
      " 36  geoname_id              1920 non-null   float64\n",
      " 37  location_type           2054 non-null   object \n",
      " 38  geo_type                2054 non-null   int64  \n",
      " 39  region                  2054 non-null   object \n",
      " 40  subregion               2054 non-null   object \n",
      " 41  num_quotes              2054 non-null   int64  \n",
      " 42  num_replies             2054 non-null   int64  \n",
      " 43  num_retweets            2054 non-null   int64  \n",
      " 44  sent_gpt                2054 non-null   object \n",
      " 45  gpt_sent_presence       2054 non-null   int64  \n",
      " 46  cleaned_text_lem        2054 non-null   object \n",
      " 47  cleaned_text            2054 non-null   object \n",
      " 48  month                   2054 non-null   int64  \n",
      " 49  year                    2054 non-null   int64  \n",
      " 50  week                    2054 non-null   int64  \n",
      " 51  year_month              2054 non-null   object \n",
      " 52  year_week               2054 non-null   object \n",
      "dtypes: bool(5), float64(11), int64(15), object(22)\n",
      "memory usage: 780.4+ KB\n"
     ]
    }
   ],
   "source": [
    "# Get monthly data\n",
    "df_2015_06_pos = pd.read_csv('../data/local/df_pos_2015-06.csv').reset_index()\n",
    "df_2015_06_pos.info()"
   ]
  },
  {
   "cell_type": "markdown",
   "id": "57bf0007",
   "metadata": {},
   "source": [
    "### Representative sample based on week and location"
   ]
  },
  {
   "cell_type": "code",
   "execution_count": 83,
   "id": "59042a70",
   "metadata": {},
   "outputs": [
    {
     "data": {
      "text/html": [
       "<div>\n",
       "<style scoped>\n",
       "    .dataframe tbody tr th:only-of-type {\n",
       "        vertical-align: middle;\n",
       "    }\n",
       "\n",
       "    .dataframe tbody tr th {\n",
       "        vertical-align: top;\n",
       "    }\n",
       "\n",
       "    .dataframe thead th {\n",
       "        text-align: right;\n",
       "    }\n",
       "</style>\n",
       "<table border=\"1\" class=\"dataframe\">\n",
       "  <thead>\n",
       "    <tr style=\"text-align: right;\">\n",
       "      <th></th>\n",
       "      <th>year_week</th>\n",
       "      <th>LocationName</th>\n",
       "      <th>group_size</th>\n",
       "      <th>proportion</th>\n",
       "    </tr>\n",
       "  </thead>\n",
       "  <tbody>\n",
       "    <tr>\n",
       "      <th>0</th>\n",
       "      <td>2015-w22</td>\n",
       "      <td>Acre</td>\n",
       "      <td>1</td>\n",
       "      <td>0.000487</td>\n",
       "    </tr>\n",
       "    <tr>\n",
       "      <th>1</th>\n",
       "      <td>2015-w22</td>\n",
       "      <td>Alagoas</td>\n",
       "      <td>4</td>\n",
       "      <td>0.001947</td>\n",
       "    </tr>\n",
       "    <tr>\n",
       "      <th>2</th>\n",
       "      <td>2015-w22</td>\n",
       "      <td>Amapa</td>\n",
       "      <td>2</td>\n",
       "      <td>0.000974</td>\n",
       "    </tr>\n",
       "    <tr>\n",
       "      <th>3</th>\n",
       "      <td>2015-w22</td>\n",
       "      <td>Amazonas</td>\n",
       "      <td>2</td>\n",
       "      <td>0.000974</td>\n",
       "    </tr>\n",
       "    <tr>\n",
       "      <th>4</th>\n",
       "      <td>2015-w22</td>\n",
       "      <td>Bahia</td>\n",
       "      <td>14</td>\n",
       "      <td>0.006816</td>\n",
       "    </tr>\n",
       "    <tr>\n",
       "      <th>...</th>\n",
       "      <td>...</td>\n",
       "      <td>...</td>\n",
       "      <td>...</td>\n",
       "      <td>...</td>\n",
       "    </tr>\n",
       "    <tr>\n",
       "      <th>115</th>\n",
       "      <td>2015-w26</td>\n",
       "      <td>Roraima</td>\n",
       "      <td>1</td>\n",
       "      <td>0.000487</td>\n",
       "    </tr>\n",
       "    <tr>\n",
       "      <th>116</th>\n",
       "      <td>2015-w26</td>\n",
       "      <td>Santa Catarina</td>\n",
       "      <td>7</td>\n",
       "      <td>0.003408</td>\n",
       "    </tr>\n",
       "    <tr>\n",
       "      <th>117</th>\n",
       "      <td>2015-w26</td>\n",
       "      <td>Sao Paulo</td>\n",
       "      <td>58</td>\n",
       "      <td>0.028238</td>\n",
       "    </tr>\n",
       "    <tr>\n",
       "      <th>118</th>\n",
       "      <td>2015-w26</td>\n",
       "      <td>Sergipe</td>\n",
       "      <td>2</td>\n",
       "      <td>0.000974</td>\n",
       "    </tr>\n",
       "    <tr>\n",
       "      <th>119</th>\n",
       "      <td>2015-w26</td>\n",
       "      <td>Tocantins</td>\n",
       "      <td>4</td>\n",
       "      <td>0.001947</td>\n",
       "    </tr>\n",
       "  </tbody>\n",
       "</table>\n",
       "<p>120 rows × 4 columns</p>\n",
       "</div>"
      ],
      "text/plain": [
       "    year_week    LocationName  group_size  proportion\n",
       "0    2015-w22            Acre           1    0.000487\n",
       "1    2015-w22         Alagoas           4    0.001947\n",
       "2    2015-w22           Amapa           2    0.000974\n",
       "3    2015-w22        Amazonas           2    0.000974\n",
       "4    2015-w22           Bahia          14    0.006816\n",
       "..        ...             ...         ...         ...\n",
       "115  2015-w26         Roraima           1    0.000487\n",
       "116  2015-w26  Santa Catarina           7    0.003408\n",
       "117  2015-w26       Sao Paulo          58    0.028238\n",
       "118  2015-w26         Sergipe           2    0.000974\n",
       "119  2015-w26       Tocantins           4    0.001947\n",
       "\n",
       "[120 rows x 4 columns]"
      ]
     },
     "execution_count": 83,
     "metadata": {},
     "output_type": "execute_result"
    }
   ],
   "source": [
    "# Step 1: Calculate the size of each group (year_week, LocationName)\n",
    "group_sizes = df_2015_06_pos.groupby(['year_week', 'LocationName']).size().reset_index(name='group_size')\n",
    "\n",
    "# Step 2: Calculate the proportion of each group in the dataset\n",
    "total_rows = len(df_2015_06_pos)\n",
    "group_sizes['proportion'] = group_sizes['group_size'] / total_rows\n",
    "group_sizes"
   ]
  },
  {
   "cell_type": "code",
   "execution_count": 84,
   "id": "371bde15",
   "metadata": {},
   "outputs": [
    {
     "data": {
      "text/html": [
       "<div>\n",
       "<style scoped>\n",
       "    .dataframe tbody tr th:only-of-type {\n",
       "        vertical-align: middle;\n",
       "    }\n",
       "\n",
       "    .dataframe tbody tr th {\n",
       "        vertical-align: top;\n",
       "    }\n",
       "\n",
       "    .dataframe thead th {\n",
       "        text-align: right;\n",
       "    }\n",
       "</style>\n",
       "<table border=\"1\" class=\"dataframe\">\n",
       "  <thead>\n",
       "    <tr style=\"text-align: right;\">\n",
       "      <th></th>\n",
       "      <th>year_week</th>\n",
       "      <th>LocationName</th>\n",
       "      <th>group_size</th>\n",
       "      <th>proportion</th>\n",
       "      <th>sample_size</th>\n",
       "    </tr>\n",
       "  </thead>\n",
       "  <tbody>\n",
       "    <tr>\n",
       "      <th>0</th>\n",
       "      <td>2015-w22</td>\n",
       "      <td>Acre</td>\n",
       "      <td>1</td>\n",
       "      <td>0.000487</td>\n",
       "      <td>1</td>\n",
       "    </tr>\n",
       "    <tr>\n",
       "      <th>1</th>\n",
       "      <td>2015-w22</td>\n",
       "      <td>Alagoas</td>\n",
       "      <td>4</td>\n",
       "      <td>0.001947</td>\n",
       "      <td>4</td>\n",
       "    </tr>\n",
       "    <tr>\n",
       "      <th>2</th>\n",
       "      <td>2015-w22</td>\n",
       "      <td>Amapa</td>\n",
       "      <td>2</td>\n",
       "      <td>0.000974</td>\n",
       "      <td>2</td>\n",
       "    </tr>\n",
       "    <tr>\n",
       "      <th>3</th>\n",
       "      <td>2015-w22</td>\n",
       "      <td>Amazonas</td>\n",
       "      <td>2</td>\n",
       "      <td>0.000974</td>\n",
       "      <td>2</td>\n",
       "    </tr>\n",
       "    <tr>\n",
       "      <th>4</th>\n",
       "      <td>2015-w22</td>\n",
       "      <td>Bahia</td>\n",
       "      <td>14</td>\n",
       "      <td>0.006816</td>\n",
       "      <td>16</td>\n",
       "    </tr>\n",
       "    <tr>\n",
       "      <th>...</th>\n",
       "      <td>...</td>\n",
       "      <td>...</td>\n",
       "      <td>...</td>\n",
       "      <td>...</td>\n",
       "      <td>...</td>\n",
       "    </tr>\n",
       "    <tr>\n",
       "      <th>115</th>\n",
       "      <td>2015-w26</td>\n",
       "      <td>Roraima</td>\n",
       "      <td>1</td>\n",
       "      <td>0.000487</td>\n",
       "      <td>1</td>\n",
       "    </tr>\n",
       "    <tr>\n",
       "      <th>116</th>\n",
       "      <td>2015-w26</td>\n",
       "      <td>Santa Catarina</td>\n",
       "      <td>7</td>\n",
       "      <td>0.003408</td>\n",
       "      <td>8</td>\n",
       "    </tr>\n",
       "    <tr>\n",
       "      <th>117</th>\n",
       "      <td>2015-w26</td>\n",
       "      <td>Sao Paulo</td>\n",
       "      <td>58</td>\n",
       "      <td>0.028238</td>\n",
       "      <td>69</td>\n",
       "    </tr>\n",
       "    <tr>\n",
       "      <th>118</th>\n",
       "      <td>2015-w26</td>\n",
       "      <td>Sergipe</td>\n",
       "      <td>2</td>\n",
       "      <td>0.000974</td>\n",
       "      <td>2</td>\n",
       "    </tr>\n",
       "    <tr>\n",
       "      <th>119</th>\n",
       "      <td>2015-w26</td>\n",
       "      <td>Tocantins</td>\n",
       "      <td>4</td>\n",
       "      <td>0.001947</td>\n",
       "      <td>4</td>\n",
       "    </tr>\n",
       "  </tbody>\n",
       "</table>\n",
       "<p>120 rows × 5 columns</p>\n",
       "</div>"
      ],
      "text/plain": [
       "    year_week    LocationName  group_size  proportion  sample_size\n",
       "0    2015-w22            Acre           1    0.000487            1\n",
       "1    2015-w22         Alagoas           4    0.001947            4\n",
       "2    2015-w22           Amapa           2    0.000974            2\n",
       "3    2015-w22        Amazonas           2    0.000974            2\n",
       "4    2015-w22           Bahia          14    0.006816           16\n",
       "..        ...             ...         ...         ...          ...\n",
       "115  2015-w26         Roraima           1    0.000487            1\n",
       "116  2015-w26  Santa Catarina           7    0.003408            8\n",
       "117  2015-w26       Sao Paulo          58    0.028238           69\n",
       "118  2015-w26         Sergipe           2    0.000974            2\n",
       "119  2015-w26       Tocantins           4    0.001947            4\n",
       "\n",
       "[120 rows x 5 columns]"
      ]
     },
     "execution_count": 84,
     "metadata": {},
     "output_type": "execute_result"
    }
   ],
   "source": [
    "# Step 3: Define the target sample size\n",
    "target_sample_size = 2450\n",
    "\n",
    "# Step 4: Calculate the sample size for each group (based on its proportion)\n",
    "group_sizes['sample_size'] = np.floor(group_sizes['proportion'] * target_sample_size).astype(int)\n",
    "group_sizes"
   ]
  },
  {
   "cell_type": "code",
   "execution_count": 85,
   "id": "63e28728",
   "metadata": {},
   "outputs": [],
   "source": [
    "# Step 5: Merge this sample size information back to the original DataFrame\n",
    "df_2015_06_pos_sample_size = pd.merge(df_2015_06_pos, group_sizes[['year_week', 'LocationName', 'sample_size']], \n",
    "                               on=['year_week', 'LocationName'], how='left')"
   ]
  },
  {
   "cell_type": "code",
   "execution_count": 87,
   "id": "d929406c",
   "metadata": {},
   "outputs": [
    {
     "name": "stdout",
     "output_type": "stream",
     "text": [
      "Sampled 2054 rows.\n"
     ]
    }
   ],
   "source": [
    "# Step 6: Perform the stratified sampling\n",
    "#df_2015_06_pos_sample = df_2015_06_pos_sample_size.groupby(['year_week', 'LocationName']).apply(\n",
    " #   lambda group: group.sample(n=group['sample_size'].iloc[0], random_state=42)\n",
    "#).reset_index(drop=True)\n",
    "df_2015_06_pos_sample = df_2015_06_pos\n",
    "# Step 7: Check the result\n",
    "print(f\"Sampled {len(df_2015_06_pos_sample)} rows.\")\n"
   ]
  },
  {
   "cell_type": "code",
   "execution_count": 88,
   "id": "e9aa1932",
   "metadata": {},
   "outputs": [],
   "source": [
    "text_gpt_2015_06_pos = '\\n'.join(df_2015_06_pos_sample['text'].astype(str))"
   ]
  },
  {
   "cell_type": "markdown",
   "id": "1f2f44e4",
   "metadata": {},
   "source": [
    "### Prompts and loops"
   ]
  },
  {
   "cell_type": "code",
   "execution_count": 89,
   "id": "2faa24e8",
   "metadata": {},
   "outputs": [],
   "source": [
    "prompt_6 = prompt_raw.replace('TWEETS', text_gpt_2015_06_pos)"
   ]
  },
  {
   "cell_type": "code",
   "execution_count": 90,
   "id": "bc6051bc",
   "metadata": {
    "scrolled": false
   },
   "outputs": [],
   "source": [
    "response = openai.ChatCompletion.create(\n",
    "    model=\"gpt-4o-mini\",  \n",
    "    messages = [\n",
    "        {\"role\": \"user\", \"content\": prompt_6}\n",
    "    ],\n",
    "    max_tokens=400,  # Maximum number of tokens in the response\n",
    "    temperature=0.7  # Controls the randomness of the output\n",
    ")"
   ]
  },
  {
   "cell_type": "code",
   "execution_count": 91,
   "id": "71cfa37a",
   "metadata": {},
   "outputs": [
    {
     "data": {
      "text/plain": [
       "'The text discusses the ongoing vaccination campaigns against the flu in Brazil, highlighting that more than 35 million people have been vaccinated. Various municipalities have surpassed their vaccination targets, with some reaching over 80% coverage. Additionally, it mentions the development of experimental vaccines for HIV and other diseases, emphasizing the importance of vaccination in preventing infections and serious health issues.'"
      ]
     },
     "execution_count": 91,
     "metadata": {},
     "output_type": "execute_result"
    }
   ],
   "source": [
    "response.choices[0].message.content"
   ]
  },
  {
   "cell_type": "code",
   "execution_count": 92,
   "id": "e05c6917",
   "metadata": {},
   "outputs": [],
   "source": [
    "#summary = []\n",
    "#dataset = []"
   ]
  },
  {
   "cell_type": "code",
   "execution_count": 93,
   "id": "a222eb1f",
   "metadata": {},
   "outputs": [],
   "source": [
    "dataset.append(\"2015_06_positive\")"
   ]
  },
  {
   "cell_type": "code",
   "execution_count": 94,
   "id": "16cc4629",
   "metadata": {},
   "outputs": [],
   "source": [
    "summary.append(response.choices[0].message.content)"
   ]
  },
  {
   "cell_type": "code",
   "execution_count": 95,
   "id": "06ae8742",
   "metadata": {
    "tags": []
   },
   "outputs": [
    {
     "name": "stdout",
     "output_type": "stream",
     "text": [
      "<class 'pandas.core.frame.DataFrame'>\n",
      "RangeIndex: 6 entries, 0 to 5\n",
      "Data columns (total 2 columns):\n",
      " #   Column   Non-Null Count  Dtype \n",
      "---  ------   --------------  ----- \n",
      " 0   dataset  6 non-null      object\n",
      " 1   summary  6 non-null      object\n",
      "dtypes: object(2)\n",
      "memory usage: 224.0+ bytes\n"
     ]
    }
   ],
   "source": [
    "df_2015_pos = pd.DataFrame(list(zip(dataset, summary)),\n",
    "                            columns = ['dataset', 'summary'])\n",
    "df_2015_pos.info()"
   ]
  },
  {
   "cell_type": "code",
   "execution_count": 96,
   "id": "116b4d78",
   "metadata": {},
   "outputs": [
    {
     "data": {
      "text/html": [
       "<div>\n",
       "<style scoped>\n",
       "    .dataframe tbody tr th:only-of-type {\n",
       "        vertical-align: middle;\n",
       "    }\n",
       "\n",
       "    .dataframe tbody tr th {\n",
       "        vertical-align: top;\n",
       "    }\n",
       "\n",
       "    .dataframe thead th {\n",
       "        text-align: right;\n",
       "    }\n",
       "</style>\n",
       "<table border=\"1\" class=\"dataframe\">\n",
       "  <thead>\n",
       "    <tr style=\"text-align: right;\">\n",
       "      <th></th>\n",
       "      <th>dataset</th>\n",
       "      <th>summary</th>\n",
       "    </tr>\n",
       "  </thead>\n",
       "  <tbody>\n",
       "    <tr>\n",
       "      <th>0</th>\n",
       "      <td>2015_01_positive</td>\n",
       "      <td>Recent developments include Johnson &amp; Johnson'...</td>\n",
       "    </tr>\n",
       "    <tr>\n",
       "      <th>1</th>\n",
       "      <td>2015_02_positive</td>\n",
       "      <td>The provided Portuguese sentences discuss vari...</td>\n",
       "    </tr>\n",
       "    <tr>\n",
       "      <th>2</th>\n",
       "      <td>2015_03_positive</td>\n",
       "      <td>The provided texts primarily discuss various v...</td>\n",
       "    </tr>\n",
       "    <tr>\n",
       "      <th>3</th>\n",
       "      <td>2015_04_positive</td>\n",
       "      <td>Recent studies highlight the efficacy and safe...</td>\n",
       "    </tr>\n",
       "    <tr>\n",
       "      <th>4</th>\n",
       "      <td>2015_05_positive</td>\n",
       "      <td>The provided sentences discuss various vaccina...</td>\n",
       "    </tr>\n",
       "    <tr>\n",
       "      <th>5</th>\n",
       "      <td>2015_06_positive</td>\n",
       "      <td>The text discusses the ongoing vaccination cam...</td>\n",
       "    </tr>\n",
       "  </tbody>\n",
       "</table>\n",
       "</div>"
      ],
      "text/plain": [
       "            dataset                                            summary\n",
       "0  2015_01_positive  Recent developments include Johnson & Johnson'...\n",
       "1  2015_02_positive  The provided Portuguese sentences discuss vari...\n",
       "2  2015_03_positive  The provided texts primarily discuss various v...\n",
       "3  2015_04_positive  Recent studies highlight the efficacy and safe...\n",
       "4  2015_05_positive  The provided sentences discuss various vaccina...\n",
       "5  2015_06_positive  The text discusses the ongoing vaccination cam..."
      ]
     },
     "execution_count": 96,
     "metadata": {},
     "output_type": "execute_result"
    }
   ],
   "source": [
    "df_2015_pos.tail(14)"
   ]
  },
  {
   "cell_type": "code",
   "execution_count": 97,
   "id": "7668e23f",
   "metadata": {},
   "outputs": [
    {
     "data": {
      "text/plain": [
       "<OpenAIObject chat.completion id=chatcmpl-AUdBsSkY4miUc5ll8MvnNZ9TrUZw4 at 0x21d870543b0> JSON: {\n",
       "  \"choices\": [\n",
       "    {\n",
       "      \"finish_reason\": \"stop\",\n",
       "      \"index\": 0,\n",
       "      \"logprobs\": null,\n",
       "      \"message\": {\n",
       "        \"content\": \"The text discusses the ongoing vaccination campaigns against the flu in Brazil, highlighting that more than 35 million people have been vaccinated. Various municipalities have surpassed their vaccination targets, with some reaching over 80% coverage. Additionally, it mentions the development of experimental vaccines for HIV and other diseases, emphasizing the importance of vaccination in preventing infections and serious health issues.\",\n",
       "        \"refusal\": null,\n",
       "        \"role\": \"assistant\"\n",
       "      }\n",
       "    }\n",
       "  ],\n",
       "  \"created\": 1731863852,\n",
       "  \"id\": \"chatcmpl-AUdBsSkY4miUc5ll8MvnNZ9TrUZw4\",\n",
       "  \"model\": \"gpt-4o-mini-2024-07-18\",\n",
       "  \"object\": \"chat.completion\",\n",
       "  \"system_fingerprint\": \"fp_0ba0d124f1\",\n",
       "  \"usage\": {\n",
       "    \"completion_tokens\": 70,\n",
       "    \"completion_tokens_details\": {\n",
       "      \"accepted_prediction_tokens\": 0,\n",
       "      \"audio_tokens\": 0,\n",
       "      \"reasoning_tokens\": 0,\n",
       "      \"rejected_prediction_tokens\": 0\n",
       "    },\n",
       "    \"prompt_tokens\": 47608,\n",
       "    \"prompt_tokens_details\": {\n",
       "      \"audio_tokens\": 0,\n",
       "      \"cached_tokens\": 0\n",
       "    },\n",
       "    \"total_tokens\": 47678\n",
       "  }\n",
       "}"
      ]
     },
     "execution_count": 97,
     "metadata": {},
     "output_type": "execute_result"
    }
   ],
   "source": [
    "response"
   ]
  },
  {
   "cell_type": "markdown",
   "id": "1b5c5a9b",
   "metadata": {},
   "source": [
    "## July"
   ]
  },
  {
   "cell_type": "code",
   "execution_count": 98,
   "id": "5096b4ba",
   "metadata": {
    "scrolled": true,
    "tags": []
   },
   "outputs": [
    {
     "name": "stdout",
     "output_type": "stream",
     "text": [
      "<class 'pandas.core.frame.DataFrame'>\n",
      "RangeIndex: 2485 entries, 0 to 2484\n",
      "Data columns (total 53 columns):\n",
      " #   Column                  Non-Null Count  Dtype  \n",
      "---  ------                  --------------  -----  \n",
      " 0   index                   2485 non-null   int64  \n",
      " 1   LocationCode            2485 non-null   object \n",
      " 2   LocationName            2485 non-null   object \n",
      " 3   StatesCode              2485 non-null   object \n",
      " 4   ...4                    2485 non-null   int64  \n",
      " 5   id                      2485 non-null   float64\n",
      " 6   text                    2485 non-null   object \n",
      " 7   label                   2485 non-null   object \n",
      " 8   in_reply_to_status_id   110 non-null    float64\n",
      " 9   in_reply_to_user_id     120 non-null    float64\n",
      " 10  quoted_user_id          12 non-null     float64\n",
      " 11  quoted_status_id        12 non-null     float64\n",
      " 12  retweeted_user_id       514 non-null    float64\n",
      " 13  retweeted_status_id     514 non-null    float64\n",
      " 14  created_at              2485 non-null   object \n",
      " 15  entities.user_mentions  779 non-null    object \n",
      " 16  user.id                 2485 non-null   int64  \n",
      " 17  user.screen_name        2485 non-null   object \n",
      " 18  user.name               2485 non-null   object \n",
      " 19  user.description        2126 non-null   object \n",
      " 20  user.timezone           0 non-null      float64\n",
      " 21  user.location           2455 non-null   object \n",
      " 22  user.num_followers      2485 non-null   int64  \n",
      " 23  user.num_following      2485 non-null   int64  \n",
      " 24  user.created_at         2485 non-null   object \n",
      " 25  user.statuses_count     2485 non-null   int64  \n",
      " 26  user.is_verified        2485 non-null   bool   \n",
      " 27  lang                    2485 non-null   object \n",
      " 28  token_count             2485 non-null   int64  \n",
      " 29  is_retweet              2485 non-null   bool   \n",
      " 30  has_quote               2485 non-null   bool   \n",
      " 31  is_reply                2485 non-null   bool   \n",
      " 32  contains_keywords       2485 non-null   bool   \n",
      " 33  longitude               2485 non-null   float64\n",
      " 34  latitude                2485 non-null   float64\n",
      " 35  country_code            2485 non-null   object \n",
      " 36  geoname_id              2365 non-null   float64\n",
      " 37  location_type           2485 non-null   object \n",
      " 38  geo_type                2485 non-null   int64  \n",
      " 39  region                  2485 non-null   object \n",
      " 40  subregion               2485 non-null   object \n",
      " 41  num_quotes              2485 non-null   int64  \n",
      " 42  num_replies             2485 non-null   int64  \n",
      " 43  num_retweets            2485 non-null   int64  \n",
      " 44  sent_gpt                2485 non-null   object \n",
      " 45  gpt_sent_presence       2485 non-null   int64  \n",
      " 46  cleaned_text_lem        2485 non-null   object \n",
      " 47  cleaned_text            2485 non-null   object \n",
      " 48  month                   2485 non-null   int64  \n",
      " 49  year                    2485 non-null   int64  \n",
      " 50  week                    2485 non-null   int64  \n",
      " 51  year_month              2485 non-null   object \n",
      " 52  year_week               2485 non-null   object \n",
      "dtypes: bool(5), float64(11), int64(15), object(22)\n",
      "memory usage: 944.1+ KB\n"
     ]
    }
   ],
   "source": [
    "# Get monthly data\n",
    "df_2015_07_pos = pd.read_csv('../data/local/df_pos_2015-07.csv').reset_index()\n",
    "df_2015_07_pos.info()"
   ]
  },
  {
   "cell_type": "markdown",
   "id": "bdd1752b",
   "metadata": {},
   "source": [
    "### Representative sample based on week and location"
   ]
  },
  {
   "cell_type": "code",
   "execution_count": 99,
   "id": "e62e79b6",
   "metadata": {},
   "outputs": [
    {
     "data": {
      "text/html": [
       "<div>\n",
       "<style scoped>\n",
       "    .dataframe tbody tr th:only-of-type {\n",
       "        vertical-align: middle;\n",
       "    }\n",
       "\n",
       "    .dataframe tbody tr th {\n",
       "        vertical-align: top;\n",
       "    }\n",
       "\n",
       "    .dataframe thead th {\n",
       "        text-align: right;\n",
       "    }\n",
       "</style>\n",
       "<table border=\"1\" class=\"dataframe\">\n",
       "  <thead>\n",
       "    <tr style=\"text-align: right;\">\n",
       "      <th></th>\n",
       "      <th>year_week</th>\n",
       "      <th>LocationName</th>\n",
       "      <th>group_size</th>\n",
       "      <th>proportion</th>\n",
       "    </tr>\n",
       "  </thead>\n",
       "  <tbody>\n",
       "    <tr>\n",
       "      <th>0</th>\n",
       "      <td>2015-w26</td>\n",
       "      <td>Alagoas</td>\n",
       "      <td>1</td>\n",
       "      <td>0.000402</td>\n",
       "    </tr>\n",
       "    <tr>\n",
       "      <th>1</th>\n",
       "      <td>2015-w26</td>\n",
       "      <td>Bahia</td>\n",
       "      <td>1</td>\n",
       "      <td>0.000402</td>\n",
       "    </tr>\n",
       "    <tr>\n",
       "      <th>2</th>\n",
       "      <td>2015-w26</td>\n",
       "      <td>Ceara</td>\n",
       "      <td>5</td>\n",
       "      <td>0.002012</td>\n",
       "    </tr>\n",
       "    <tr>\n",
       "      <th>3</th>\n",
       "      <td>2015-w26</td>\n",
       "      <td>Distrito Federal</td>\n",
       "      <td>2</td>\n",
       "      <td>0.000805</td>\n",
       "    </tr>\n",
       "    <tr>\n",
       "      <th>4</th>\n",
       "      <td>2015-w26</td>\n",
       "      <td>Espirito Santo</td>\n",
       "      <td>1</td>\n",
       "      <td>0.000402</td>\n",
       "    </tr>\n",
       "    <tr>\n",
       "      <th>...</th>\n",
       "      <td>...</td>\n",
       "      <td>...</td>\n",
       "      <td>...</td>\n",
       "      <td>...</td>\n",
       "    </tr>\n",
       "    <tr>\n",
       "      <th>127</th>\n",
       "      <td>2015-w31</td>\n",
       "      <td>Rio Grande Do Sul</td>\n",
       "      <td>58</td>\n",
       "      <td>0.023340</td>\n",
       "    </tr>\n",
       "    <tr>\n",
       "      <th>128</th>\n",
       "      <td>2015-w31</td>\n",
       "      <td>Rondonia</td>\n",
       "      <td>2</td>\n",
       "      <td>0.000805</td>\n",
       "    </tr>\n",
       "    <tr>\n",
       "      <th>129</th>\n",
       "      <td>2015-w31</td>\n",
       "      <td>Roraima</td>\n",
       "      <td>4</td>\n",
       "      <td>0.001610</td>\n",
       "    </tr>\n",
       "    <tr>\n",
       "      <th>130</th>\n",
       "      <td>2015-w31</td>\n",
       "      <td>Santa Catarina</td>\n",
       "      <td>10</td>\n",
       "      <td>0.004024</td>\n",
       "    </tr>\n",
       "    <tr>\n",
       "      <th>131</th>\n",
       "      <td>2015-w31</td>\n",
       "      <td>Sao Paulo</td>\n",
       "      <td>125</td>\n",
       "      <td>0.050302</td>\n",
       "    </tr>\n",
       "  </tbody>\n",
       "</table>\n",
       "<p>132 rows × 4 columns</p>\n",
       "</div>"
      ],
      "text/plain": [
       "    year_week       LocationName  group_size  proportion\n",
       "0    2015-w26            Alagoas           1    0.000402\n",
       "1    2015-w26              Bahia           1    0.000402\n",
       "2    2015-w26              Ceara           5    0.002012\n",
       "3    2015-w26   Distrito Federal           2    0.000805\n",
       "4    2015-w26     Espirito Santo           1    0.000402\n",
       "..        ...                ...         ...         ...\n",
       "127  2015-w31  Rio Grande Do Sul          58    0.023340\n",
       "128  2015-w31           Rondonia           2    0.000805\n",
       "129  2015-w31            Roraima           4    0.001610\n",
       "130  2015-w31     Santa Catarina          10    0.004024\n",
       "131  2015-w31          Sao Paulo         125    0.050302\n",
       "\n",
       "[132 rows x 4 columns]"
      ]
     },
     "execution_count": 99,
     "metadata": {},
     "output_type": "execute_result"
    }
   ],
   "source": [
    "# Step 1: Calculate the size of each group (year_week, LocationName)\n",
    "group_sizes = df_2015_07_pos.groupby(['year_week', 'LocationName']).size().reset_index(name='group_size')\n",
    "\n",
    "# Step 2: Calculate the proportion of each group in the dataset\n",
    "total_rows = len(df_2015_07_pos)\n",
    "group_sizes['proportion'] = group_sizes['group_size'] / total_rows\n",
    "group_sizes"
   ]
  },
  {
   "cell_type": "code",
   "execution_count": 100,
   "id": "97b60716",
   "metadata": {},
   "outputs": [],
   "source": [
    "# Step 3: Define the target sample size\n",
    "#target_sample_size = 2450\n",
    "\n",
    "# Step 4: Calculate the sample size for each group (based on its proportion)\n",
    "#group_sizes['sample_size'] = np.floor(group_sizes['proportion'] * target_sample_size).astype(int)\n",
    "#group_sizes\n",
    "# Include all samples since there are not many tweets"
   ]
  },
  {
   "cell_type": "code",
   "execution_count": 101,
   "id": "4c991d80",
   "metadata": {},
   "outputs": [],
   "source": [
    "# Step 5: Merge this sample size information back to the original DataFrame\n",
    "#df_2015_07_pos_sample_size = pd.merge(df_2015_07_pos, group_sizes[['year_week', 'LocationName', 'sample_size']], \n",
    " #                              on=['year_week', 'LocationName'], how='left')"
   ]
  },
  {
   "cell_type": "code",
   "execution_count": 102,
   "id": "deab4678",
   "metadata": {},
   "outputs": [
    {
     "name": "stdout",
     "output_type": "stream",
     "text": [
      "Sampled 2485 rows.\n"
     ]
    }
   ],
   "source": [
    "# Step 6: Perform the stratified sampling\n",
    "#df_2015_07_pos_sample = df_2015_07_pos_sample_size.groupby(['year_week', 'LocationName']).apply(\n",
    "#    lambda group: group.sample(n=group['sample_size'].iloc[0], random_state=42)\n",
    "#).reset_index(drop=True)\n",
    "df_2015_07_pos_sample = df_2015_07_pos\n",
    "# Step 7: Check the result\n",
    "print(f\"Sampled {len(df_2015_07_pos_sample)} rows.\")\n"
   ]
  },
  {
   "cell_type": "code",
   "execution_count": 103,
   "id": "33656dea",
   "metadata": {},
   "outputs": [],
   "source": [
    "text_gpt_2015_07_pos = '\\n'.join(df_2015_07_pos_sample['text'].astype(str))"
   ]
  },
  {
   "cell_type": "markdown",
   "id": "92d7e0ea",
   "metadata": {},
   "source": [
    "### Prompts and loops"
   ]
  },
  {
   "cell_type": "code",
   "execution_count": 104,
   "id": "349334a9",
   "metadata": {},
   "outputs": [],
   "source": [
    "prompt_7 = prompt_raw.replace('TWEETS', text_gpt_2015_07_pos)"
   ]
  },
  {
   "cell_type": "code",
   "execution_count": 105,
   "id": "ff46a08b",
   "metadata": {
    "scrolled": false
   },
   "outputs": [],
   "source": [
    "response = openai.ChatCompletion.create(\n",
    "    model=\"gpt-4o-mini\",  \n",
    "    messages = [\n",
    "        {\"role\": \"user\", \"content\": prompt_7}\n",
    "    ],\n",
    "    max_tokens=400,  # Maximum number of tokens in the response\n",
    "    temperature=0.7  # Controls the randomness of the output\n",
    ")"
   ]
  },
  {
   "cell_type": "code",
   "execution_count": 106,
   "id": "6723c1d4",
   "metadata": {},
   "outputs": [
    {
     "data": {
      "text/plain": [
       "'The text discusses various aspects of vaccination in Brazil and worldwide, highlighting successes in vaccination campaigns for diseases such as influenza, dengue, hepatitis, and Ebola. It mentions specific locations, such as Rio Branco and Cachoeirinha, achieving or exceeding vaccination targets, and addresses the importance of vaccination for both humans and pets. The effectiveness of new vaccines, including those against malaria and HIV, is also emphasized, alongside calls for public participation in vaccination programs to ensure community health.'"
      ]
     },
     "execution_count": 106,
     "metadata": {},
     "output_type": "execute_result"
    }
   ],
   "source": [
    "response.choices[0].message.content"
   ]
  },
  {
   "cell_type": "code",
   "execution_count": 107,
   "id": "d3081509",
   "metadata": {},
   "outputs": [],
   "source": [
    "#summary = []\n",
    "#dataset = []"
   ]
  },
  {
   "cell_type": "code",
   "execution_count": 108,
   "id": "1ba0dacb",
   "metadata": {},
   "outputs": [],
   "source": [
    "dataset.append(\"2015_07_positive\")"
   ]
  },
  {
   "cell_type": "code",
   "execution_count": 109,
   "id": "cadb0bde",
   "metadata": {},
   "outputs": [],
   "source": [
    "summary.append(response.choices[0].message.content)"
   ]
  },
  {
   "cell_type": "code",
   "execution_count": 110,
   "id": "b80e1e4e",
   "metadata": {
    "tags": []
   },
   "outputs": [
    {
     "name": "stdout",
     "output_type": "stream",
     "text": [
      "<class 'pandas.core.frame.DataFrame'>\n",
      "RangeIndex: 7 entries, 0 to 6\n",
      "Data columns (total 2 columns):\n",
      " #   Column   Non-Null Count  Dtype \n",
      "---  ------   --------------  ----- \n",
      " 0   dataset  7 non-null      object\n",
      " 1   summary  7 non-null      object\n",
      "dtypes: object(2)\n",
      "memory usage: 240.0+ bytes\n"
     ]
    }
   ],
   "source": [
    "df_2015_pos = pd.DataFrame(list(zip(dataset, summary)),\n",
    "                            columns = ['dataset', 'summary'])\n",
    "df_2015_pos.info()"
   ]
  },
  {
   "cell_type": "code",
   "execution_count": 111,
   "id": "de211f05",
   "metadata": {},
   "outputs": [
    {
     "data": {
      "text/html": [
       "<div>\n",
       "<style scoped>\n",
       "    .dataframe tbody tr th:only-of-type {\n",
       "        vertical-align: middle;\n",
       "    }\n",
       "\n",
       "    .dataframe tbody tr th {\n",
       "        vertical-align: top;\n",
       "    }\n",
       "\n",
       "    .dataframe thead th {\n",
       "        text-align: right;\n",
       "    }\n",
       "</style>\n",
       "<table border=\"1\" class=\"dataframe\">\n",
       "  <thead>\n",
       "    <tr style=\"text-align: right;\">\n",
       "      <th></th>\n",
       "      <th>dataset</th>\n",
       "      <th>summary</th>\n",
       "    </tr>\n",
       "  </thead>\n",
       "  <tbody>\n",
       "    <tr>\n",
       "      <th>0</th>\n",
       "      <td>2015_01_positive</td>\n",
       "      <td>Recent developments include Johnson &amp; Johnson'...</td>\n",
       "    </tr>\n",
       "    <tr>\n",
       "      <th>1</th>\n",
       "      <td>2015_02_positive</td>\n",
       "      <td>The provided Portuguese sentences discuss vari...</td>\n",
       "    </tr>\n",
       "    <tr>\n",
       "      <th>2</th>\n",
       "      <td>2015_03_positive</td>\n",
       "      <td>The provided texts primarily discuss various v...</td>\n",
       "    </tr>\n",
       "    <tr>\n",
       "      <th>3</th>\n",
       "      <td>2015_04_positive</td>\n",
       "      <td>Recent studies highlight the efficacy and safe...</td>\n",
       "    </tr>\n",
       "    <tr>\n",
       "      <th>4</th>\n",
       "      <td>2015_05_positive</td>\n",
       "      <td>The provided sentences discuss various vaccina...</td>\n",
       "    </tr>\n",
       "    <tr>\n",
       "      <th>5</th>\n",
       "      <td>2015_06_positive</td>\n",
       "      <td>The text discusses the ongoing vaccination cam...</td>\n",
       "    </tr>\n",
       "    <tr>\n",
       "      <th>6</th>\n",
       "      <td>2015_07_positive</td>\n",
       "      <td>The text discusses various aspects of vaccinat...</td>\n",
       "    </tr>\n",
       "  </tbody>\n",
       "</table>\n",
       "</div>"
      ],
      "text/plain": [
       "            dataset                                            summary\n",
       "0  2015_01_positive  Recent developments include Johnson & Johnson'...\n",
       "1  2015_02_positive  The provided Portuguese sentences discuss vari...\n",
       "2  2015_03_positive  The provided texts primarily discuss various v...\n",
       "3  2015_04_positive  Recent studies highlight the efficacy and safe...\n",
       "4  2015_05_positive  The provided sentences discuss various vaccina...\n",
       "5  2015_06_positive  The text discusses the ongoing vaccination cam...\n",
       "6  2015_07_positive  The text discusses various aspects of vaccinat..."
      ]
     },
     "execution_count": 111,
     "metadata": {},
     "output_type": "execute_result"
    }
   ],
   "source": [
    "df_2015_pos.tail(14)"
   ]
  },
  {
   "cell_type": "code",
   "execution_count": 112,
   "id": "19075d74",
   "metadata": {},
   "outputs": [
    {
     "data": {
      "text/plain": [
       "<OpenAIObject chat.completion id=chatcmpl-AUdByAY7oOBoQWS99ZmiEdP9Ec48C at 0x21d870595e0> JSON: {\n",
       "  \"choices\": [\n",
       "    {\n",
       "      \"finish_reason\": \"stop\",\n",
       "      \"index\": 0,\n",
       "      \"logprobs\": null,\n",
       "      \"message\": {\n",
       "        \"content\": \"The text discusses various aspects of vaccination in Brazil and worldwide, highlighting successes in vaccination campaigns for diseases such as influenza, dengue, hepatitis, and Ebola. It mentions specific locations, such as Rio Branco and Cachoeirinha, achieving or exceeding vaccination targets, and addresses the importance of vaccination for both humans and pets. The effectiveness of new vaccines, including those against malaria and HIV, is also emphasized, alongside calls for public participation in vaccination programs to ensure community health.\",\n",
       "        \"refusal\": null,\n",
       "        \"role\": \"assistant\"\n",
       "      }\n",
       "    }\n",
       "  ],\n",
       "  \"created\": 1731863858,\n",
       "  \"id\": \"chatcmpl-AUdByAY7oOBoQWS99ZmiEdP9Ec48C\",\n",
       "  \"model\": \"gpt-4o-mini-2024-07-18\",\n",
       "  \"object\": \"chat.completion\",\n",
       "  \"system_fingerprint\": \"fp_0ba0d124f1\",\n",
       "  \"usage\": {\n",
       "    \"completion_tokens\": 93,\n",
       "    \"completion_tokens_details\": {\n",
       "      \"accepted_prediction_tokens\": 0,\n",
       "      \"audio_tokens\": 0,\n",
       "      \"reasoning_tokens\": 0,\n",
       "      \"rejected_prediction_tokens\": 0\n",
       "    },\n",
       "    \"prompt_tokens\": 57356,\n",
       "    \"prompt_tokens_details\": {\n",
       "      \"audio_tokens\": 0,\n",
       "      \"cached_tokens\": 0\n",
       "    },\n",
       "    \"total_tokens\": 57449\n",
       "  }\n",
       "}"
      ]
     },
     "execution_count": 112,
     "metadata": {},
     "output_type": "execute_result"
    }
   ],
   "source": [
    "response"
   ]
  },
  {
   "cell_type": "markdown",
   "id": "9d083d2a",
   "metadata": {},
   "source": [
    "## August"
   ]
  },
  {
   "cell_type": "code",
   "execution_count": 113,
   "id": "0ed2a943",
   "metadata": {
    "scrolled": true,
    "tags": []
   },
   "outputs": [
    {
     "name": "stdout",
     "output_type": "stream",
     "text": [
      "<class 'pandas.core.frame.DataFrame'>\n",
      "RangeIndex: 4455 entries, 0 to 4454\n",
      "Data columns (total 53 columns):\n",
      " #   Column                  Non-Null Count  Dtype  \n",
      "---  ------                  --------------  -----  \n",
      " 0   index                   4455 non-null   int64  \n",
      " 1   LocationCode            4455 non-null   object \n",
      " 2   LocationName            4455 non-null   object \n",
      " 3   StatesCode              4455 non-null   object \n",
      " 4   ...4                    4455 non-null   int64  \n",
      " 5   id                      4455 non-null   float64\n",
      " 6   text                    4455 non-null   object \n",
      " 7   label                   4455 non-null   object \n",
      " 8   in_reply_to_status_id   108 non-null    float64\n",
      " 9   in_reply_to_user_id     130 non-null    float64\n",
      " 10  quoted_user_id          40 non-null     float64\n",
      " 11  quoted_status_id        40 non-null     float64\n",
      " 12  retweeted_user_id       1224 non-null   float64\n",
      " 13  retweeted_status_id     1224 non-null   float64\n",
      " 14  created_at              4455 non-null   object \n",
      " 15  entities.user_mentions  1623 non-null   object \n",
      " 16  user.id                 4455 non-null   int64  \n",
      " 17  user.screen_name        4455 non-null   object \n",
      " 18  user.name               4455 non-null   object \n",
      " 19  user.description        3796 non-null   object \n",
      " 20  user.timezone           0 non-null      float64\n",
      " 21  user.location           4410 non-null   object \n",
      " 22  user.num_followers      4455 non-null   int64  \n",
      " 23  user.num_following      4455 non-null   int64  \n",
      " 24  user.created_at         4455 non-null   object \n",
      " 25  user.statuses_count     4455 non-null   int64  \n",
      " 26  user.is_verified        4455 non-null   bool   \n",
      " 27  lang                    4455 non-null   object \n",
      " 28  token_count             4455 non-null   int64  \n",
      " 29  is_retweet              4455 non-null   bool   \n",
      " 30  has_quote               4455 non-null   bool   \n",
      " 31  is_reply                4455 non-null   bool   \n",
      " 32  contains_keywords       4455 non-null   bool   \n",
      " 33  longitude               4455 non-null   float64\n",
      " 34  latitude                4455 non-null   float64\n",
      " 35  country_code            4455 non-null   object \n",
      " 36  geoname_id              4293 non-null   float64\n",
      " 37  location_type           4455 non-null   object \n",
      " 38  geo_type                4455 non-null   int64  \n",
      " 39  region                  4455 non-null   object \n",
      " 40  subregion               4455 non-null   object \n",
      " 41  num_quotes              4455 non-null   int64  \n",
      " 42  num_replies             4455 non-null   int64  \n",
      " 43  num_retweets            4455 non-null   int64  \n",
      " 44  sent_gpt                4455 non-null   object \n",
      " 45  gpt_sent_presence       4455 non-null   int64  \n",
      " 46  cleaned_text_lem        4455 non-null   object \n",
      " 47  cleaned_text            4455 non-null   object \n",
      " 48  month                   4455 non-null   int64  \n",
      " 49  year                    4455 non-null   int64  \n",
      " 50  week                    4455 non-null   int64  \n",
      " 51  year_month              4455 non-null   object \n",
      " 52  year_week               4455 non-null   object \n",
      "dtypes: bool(5), float64(11), int64(15), object(22)\n",
      "memory usage: 1.7+ MB\n"
     ]
    }
   ],
   "source": [
    "# Get monthly data\n",
    "df_2015_08_pos = pd.read_csv('../data/local/df_pos_2015-08.csv').reset_index()\n",
    "df_2015_08_pos.info()"
   ]
  },
  {
   "cell_type": "markdown",
   "id": "3c035145",
   "metadata": {},
   "source": [
    "### Representative sample based on week and location"
   ]
  },
  {
   "cell_type": "code",
   "execution_count": 114,
   "id": "ebf072ee",
   "metadata": {},
   "outputs": [
    {
     "data": {
      "text/html": [
       "<div>\n",
       "<style scoped>\n",
       "    .dataframe tbody tr th:only-of-type {\n",
       "        vertical-align: middle;\n",
       "    }\n",
       "\n",
       "    .dataframe tbody tr th {\n",
       "        vertical-align: top;\n",
       "    }\n",
       "\n",
       "    .dataframe thead th {\n",
       "        text-align: right;\n",
       "    }\n",
       "</style>\n",
       "<table border=\"1\" class=\"dataframe\">\n",
       "  <thead>\n",
       "    <tr style=\"text-align: right;\">\n",
       "      <th></th>\n",
       "      <th>year_week</th>\n",
       "      <th>LocationName</th>\n",
       "      <th>group_size</th>\n",
       "      <th>proportion</th>\n",
       "    </tr>\n",
       "  </thead>\n",
       "  <tbody>\n",
       "    <tr>\n",
       "      <th>0</th>\n",
       "      <td>2015-w31</td>\n",
       "      <td>Acre</td>\n",
       "      <td>1</td>\n",
       "      <td>0.000224</td>\n",
       "    </tr>\n",
       "    <tr>\n",
       "      <th>1</th>\n",
       "      <td>2015-w31</td>\n",
       "      <td>Alagoas</td>\n",
       "      <td>3</td>\n",
       "      <td>0.000673</td>\n",
       "    </tr>\n",
       "    <tr>\n",
       "      <th>2</th>\n",
       "      <td>2015-w31</td>\n",
       "      <td>Amapa</td>\n",
       "      <td>8</td>\n",
       "      <td>0.001796</td>\n",
       "    </tr>\n",
       "    <tr>\n",
       "      <th>3</th>\n",
       "      <td>2015-w31</td>\n",
       "      <td>Amazonas</td>\n",
       "      <td>7</td>\n",
       "      <td>0.001571</td>\n",
       "    </tr>\n",
       "    <tr>\n",
       "      <th>4</th>\n",
       "      <td>2015-w31</td>\n",
       "      <td>Bahia</td>\n",
       "      <td>38</td>\n",
       "      <td>0.008530</td>\n",
       "    </tr>\n",
       "    <tr>\n",
       "      <th>...</th>\n",
       "      <td>...</td>\n",
       "      <td>...</td>\n",
       "      <td>...</td>\n",
       "      <td>...</td>\n",
       "    </tr>\n",
       "    <tr>\n",
       "      <th>118</th>\n",
       "      <td>2015-w35</td>\n",
       "      <td>Roraima</td>\n",
       "      <td>4</td>\n",
       "      <td>0.000898</td>\n",
       "    </tr>\n",
       "    <tr>\n",
       "      <th>119</th>\n",
       "      <td>2015-w35</td>\n",
       "      <td>Santa Catarina</td>\n",
       "      <td>3</td>\n",
       "      <td>0.000673</td>\n",
       "    </tr>\n",
       "    <tr>\n",
       "      <th>120</th>\n",
       "      <td>2015-w35</td>\n",
       "      <td>Sao Paulo</td>\n",
       "      <td>83</td>\n",
       "      <td>0.018631</td>\n",
       "    </tr>\n",
       "    <tr>\n",
       "      <th>121</th>\n",
       "      <td>2015-w35</td>\n",
       "      <td>Sergipe</td>\n",
       "      <td>26</td>\n",
       "      <td>0.005836</td>\n",
       "    </tr>\n",
       "    <tr>\n",
       "      <th>122</th>\n",
       "      <td>2015-w35</td>\n",
       "      <td>Tocantins</td>\n",
       "      <td>5</td>\n",
       "      <td>0.001122</td>\n",
       "    </tr>\n",
       "  </tbody>\n",
       "</table>\n",
       "<p>123 rows × 4 columns</p>\n",
       "</div>"
      ],
      "text/plain": [
       "    year_week    LocationName  group_size  proportion\n",
       "0    2015-w31            Acre           1    0.000224\n",
       "1    2015-w31         Alagoas           3    0.000673\n",
       "2    2015-w31           Amapa           8    0.001796\n",
       "3    2015-w31        Amazonas           7    0.001571\n",
       "4    2015-w31           Bahia          38    0.008530\n",
       "..        ...             ...         ...         ...\n",
       "118  2015-w35         Roraima           4    0.000898\n",
       "119  2015-w35  Santa Catarina           3    0.000673\n",
       "120  2015-w35       Sao Paulo          83    0.018631\n",
       "121  2015-w35         Sergipe          26    0.005836\n",
       "122  2015-w35       Tocantins           5    0.001122\n",
       "\n",
       "[123 rows x 4 columns]"
      ]
     },
     "execution_count": 114,
     "metadata": {},
     "output_type": "execute_result"
    }
   ],
   "source": [
    "# Step 1: Calculate the size of each group (year_week, LocationName)\n",
    "group_sizes = df_2015_08_pos.groupby(['year_week', 'LocationName']).size().reset_index(name='group_size')\n",
    "\n",
    "# Step 2: Calculate the proportion of each group in the dataset\n",
    "total_rows = len(df_2015_08_pos)\n",
    "group_sizes['proportion'] = group_sizes['group_size'] / total_rows\n",
    "group_sizes"
   ]
  },
  {
   "cell_type": "code",
   "execution_count": 115,
   "id": "c3bc6232",
   "metadata": {},
   "outputs": [
    {
     "data": {
      "text/html": [
       "<div>\n",
       "<style scoped>\n",
       "    .dataframe tbody tr th:only-of-type {\n",
       "        vertical-align: middle;\n",
       "    }\n",
       "\n",
       "    .dataframe tbody tr th {\n",
       "        vertical-align: top;\n",
       "    }\n",
       "\n",
       "    .dataframe thead th {\n",
       "        text-align: right;\n",
       "    }\n",
       "</style>\n",
       "<table border=\"1\" class=\"dataframe\">\n",
       "  <thead>\n",
       "    <tr style=\"text-align: right;\">\n",
       "      <th></th>\n",
       "      <th>year_week</th>\n",
       "      <th>LocationName</th>\n",
       "      <th>group_size</th>\n",
       "      <th>proportion</th>\n",
       "      <th>sample_size</th>\n",
       "    </tr>\n",
       "  </thead>\n",
       "  <tbody>\n",
       "    <tr>\n",
       "      <th>0</th>\n",
       "      <td>2015-w31</td>\n",
       "      <td>Acre</td>\n",
       "      <td>1</td>\n",
       "      <td>0.000224</td>\n",
       "      <td>0</td>\n",
       "    </tr>\n",
       "    <tr>\n",
       "      <th>1</th>\n",
       "      <td>2015-w31</td>\n",
       "      <td>Alagoas</td>\n",
       "      <td>3</td>\n",
       "      <td>0.000673</td>\n",
       "      <td>1</td>\n",
       "    </tr>\n",
       "    <tr>\n",
       "      <th>2</th>\n",
       "      <td>2015-w31</td>\n",
       "      <td>Amapa</td>\n",
       "      <td>8</td>\n",
       "      <td>0.001796</td>\n",
       "      <td>4</td>\n",
       "    </tr>\n",
       "    <tr>\n",
       "      <th>3</th>\n",
       "      <td>2015-w31</td>\n",
       "      <td>Amazonas</td>\n",
       "      <td>7</td>\n",
       "      <td>0.001571</td>\n",
       "      <td>3</td>\n",
       "    </tr>\n",
       "    <tr>\n",
       "      <th>4</th>\n",
       "      <td>2015-w31</td>\n",
       "      <td>Bahia</td>\n",
       "      <td>38</td>\n",
       "      <td>0.008530</td>\n",
       "      <td>20</td>\n",
       "    </tr>\n",
       "    <tr>\n",
       "      <th>...</th>\n",
       "      <td>...</td>\n",
       "      <td>...</td>\n",
       "      <td>...</td>\n",
       "      <td>...</td>\n",
       "      <td>...</td>\n",
       "    </tr>\n",
       "    <tr>\n",
       "      <th>118</th>\n",
       "      <td>2015-w35</td>\n",
       "      <td>Roraima</td>\n",
       "      <td>4</td>\n",
       "      <td>0.000898</td>\n",
       "      <td>2</td>\n",
       "    </tr>\n",
       "    <tr>\n",
       "      <th>119</th>\n",
       "      <td>2015-w35</td>\n",
       "      <td>Santa Catarina</td>\n",
       "      <td>3</td>\n",
       "      <td>0.000673</td>\n",
       "      <td>1</td>\n",
       "    </tr>\n",
       "    <tr>\n",
       "      <th>120</th>\n",
       "      <td>2015-w35</td>\n",
       "      <td>Sao Paulo</td>\n",
       "      <td>83</td>\n",
       "      <td>0.018631</td>\n",
       "      <td>45</td>\n",
       "    </tr>\n",
       "    <tr>\n",
       "      <th>121</th>\n",
       "      <td>2015-w35</td>\n",
       "      <td>Sergipe</td>\n",
       "      <td>26</td>\n",
       "      <td>0.005836</td>\n",
       "      <td>14</td>\n",
       "    </tr>\n",
       "    <tr>\n",
       "      <th>122</th>\n",
       "      <td>2015-w35</td>\n",
       "      <td>Tocantins</td>\n",
       "      <td>5</td>\n",
       "      <td>0.001122</td>\n",
       "      <td>2</td>\n",
       "    </tr>\n",
       "  </tbody>\n",
       "</table>\n",
       "<p>123 rows × 5 columns</p>\n",
       "</div>"
      ],
      "text/plain": [
       "    year_week    LocationName  group_size  proportion  sample_size\n",
       "0    2015-w31            Acre           1    0.000224            0\n",
       "1    2015-w31         Alagoas           3    0.000673            1\n",
       "2    2015-w31           Amapa           8    0.001796            4\n",
       "3    2015-w31        Amazonas           7    0.001571            3\n",
       "4    2015-w31           Bahia          38    0.008530           20\n",
       "..        ...             ...         ...         ...          ...\n",
       "118  2015-w35         Roraima           4    0.000898            2\n",
       "119  2015-w35  Santa Catarina           3    0.000673            1\n",
       "120  2015-w35       Sao Paulo          83    0.018631           45\n",
       "121  2015-w35         Sergipe          26    0.005836           14\n",
       "122  2015-w35       Tocantins           5    0.001122            2\n",
       "\n",
       "[123 rows x 5 columns]"
      ]
     },
     "execution_count": 115,
     "metadata": {},
     "output_type": "execute_result"
    }
   ],
   "source": [
    "# Step 3: Define the target sample size\n",
    "target_sample_size = 2450\n",
    "\n",
    "# Step 4: Calculate the sample size for each group (based on its proportion)\n",
    "group_sizes['sample_size'] = np.floor(group_sizes['proportion'] * target_sample_size).astype(int)\n",
    "group_sizes"
   ]
  },
  {
   "cell_type": "code",
   "execution_count": 116,
   "id": "2f55ef03",
   "metadata": {},
   "outputs": [],
   "source": [
    "# Step 5: Merge this sample size information back to the original DataFrame\n",
    "df_2015_08_pos_sample_size = pd.merge(df_2015_08_pos, group_sizes[['year_week', 'LocationName', 'sample_size']], \n",
    "                               on=['year_week', 'LocationName'], how='left')"
   ]
  },
  {
   "cell_type": "code",
   "execution_count": 117,
   "id": "2aa2083a",
   "metadata": {},
   "outputs": [
    {
     "name": "stdout",
     "output_type": "stream",
     "text": [
      "Sampled 4455 rows.\n"
     ]
    }
   ],
   "source": [
    "# Step 6: Perform the stratified sampling\n",
    "#df_2015_08_pos_sample = df_2015_08_pos_sample_size.groupby(['year_week', 'LocationName']).apply(\n",
    " #   lambda group: group.sample(n=group['sample_size'].iloc[0], random_state=42)\n",
    "#).reset_index(drop=True)\n",
    "df_2015_08_pos_sample = df_2015_08_pos\n",
    "# Step 7: Check the result\n",
    "print(f\"Sampled {len(df_2015_08_pos_sample)} rows.\")\n"
   ]
  },
  {
   "cell_type": "code",
   "execution_count": 118,
   "id": "3eb70c20",
   "metadata": {},
   "outputs": [],
   "source": [
    "text_gpt_2015_08_pos = '\\n'.join(df_2015_08_pos_sample['text'].astype(str))"
   ]
  },
  {
   "cell_type": "markdown",
   "id": "20c12a08",
   "metadata": {},
   "source": [
    "### Prompts and loops"
   ]
  },
  {
   "cell_type": "code",
   "execution_count": 119,
   "id": "6cbedf14",
   "metadata": {},
   "outputs": [],
   "source": [
    "prompt_8 = prompt_raw.replace('TWEETS', text_gpt_2015_08_pos)"
   ]
  },
  {
   "cell_type": "code",
   "execution_count": 120,
   "id": "6312a680",
   "metadata": {
    "scrolled": false
   },
   "outputs": [],
   "source": [
    "response = openai.ChatCompletion.create(\n",
    "    model=\"gpt-4o-mini\",  \n",
    "    messages = [\n",
    "        {\"role\": \"user\", \"content\": prompt_8}\n",
    "    ],\n",
    "    max_tokens=400,  # Maximum number of tokens in the response\n",
    "    temperature=0.7  # Controls the randomness of the output\n",
    ")"
   ]
  },
  {
   "cell_type": "code",
   "execution_count": 121,
   "id": "1af4a697",
   "metadata": {},
   "outputs": [
    {
     "data": {
      "text/plain": [
       "'The sentences discuss the importance of vaccination against poliomyelitis (polio) and other diseases, emphasizing that vaccination is crucial for protecting children. Various campaigns are highlighted, including the National Vaccination Campaign against polio, which runs from August 15 to 31. The text mentions the availability of vaccines, the goal to immunize millions of children, and the efforts of health officials to increase vaccination rates. It also stresses the safety and efficacy of vaccines and the need for community participation in vaccination efforts.'"
      ]
     },
     "execution_count": 121,
     "metadata": {},
     "output_type": "execute_result"
    }
   ],
   "source": [
    "response.choices[0].message.content"
   ]
  },
  {
   "cell_type": "code",
   "execution_count": 122,
   "id": "c2df0aba",
   "metadata": {},
   "outputs": [],
   "source": [
    "#summary = []\n",
    "#dataset = []"
   ]
  },
  {
   "cell_type": "code",
   "execution_count": 123,
   "id": "9714a127",
   "metadata": {},
   "outputs": [],
   "source": [
    "dataset.append(\"2015_08_positive\")"
   ]
  },
  {
   "cell_type": "code",
   "execution_count": 124,
   "id": "7118fbc6",
   "metadata": {},
   "outputs": [],
   "source": [
    "summary.append(response.choices[0].message.content)"
   ]
  },
  {
   "cell_type": "code",
   "execution_count": 125,
   "id": "626416cc",
   "metadata": {
    "tags": []
   },
   "outputs": [
    {
     "name": "stdout",
     "output_type": "stream",
     "text": [
      "<class 'pandas.core.frame.DataFrame'>\n",
      "RangeIndex: 8 entries, 0 to 7\n",
      "Data columns (total 2 columns):\n",
      " #   Column   Non-Null Count  Dtype \n",
      "---  ------   --------------  ----- \n",
      " 0   dataset  8 non-null      object\n",
      " 1   summary  8 non-null      object\n",
      "dtypes: object(2)\n",
      "memory usage: 256.0+ bytes\n"
     ]
    }
   ],
   "source": [
    "df_2015_pos = pd.DataFrame(list(zip(dataset, summary)),\n",
    "                            columns = ['dataset', 'summary'])\n",
    "df_2015_pos.info()"
   ]
  },
  {
   "cell_type": "code",
   "execution_count": 126,
   "id": "c9811a57",
   "metadata": {},
   "outputs": [
    {
     "data": {
      "text/html": [
       "<div>\n",
       "<style scoped>\n",
       "    .dataframe tbody tr th:only-of-type {\n",
       "        vertical-align: middle;\n",
       "    }\n",
       "\n",
       "    .dataframe tbody tr th {\n",
       "        vertical-align: top;\n",
       "    }\n",
       "\n",
       "    .dataframe thead th {\n",
       "        text-align: right;\n",
       "    }\n",
       "</style>\n",
       "<table border=\"1\" class=\"dataframe\">\n",
       "  <thead>\n",
       "    <tr style=\"text-align: right;\">\n",
       "      <th></th>\n",
       "      <th>dataset</th>\n",
       "      <th>summary</th>\n",
       "    </tr>\n",
       "  </thead>\n",
       "  <tbody>\n",
       "    <tr>\n",
       "      <th>0</th>\n",
       "      <td>2015_01_positive</td>\n",
       "      <td>Recent developments include Johnson &amp; Johnson'...</td>\n",
       "    </tr>\n",
       "    <tr>\n",
       "      <th>1</th>\n",
       "      <td>2015_02_positive</td>\n",
       "      <td>The provided Portuguese sentences discuss vari...</td>\n",
       "    </tr>\n",
       "    <tr>\n",
       "      <th>2</th>\n",
       "      <td>2015_03_positive</td>\n",
       "      <td>The provided texts primarily discuss various v...</td>\n",
       "    </tr>\n",
       "    <tr>\n",
       "      <th>3</th>\n",
       "      <td>2015_04_positive</td>\n",
       "      <td>Recent studies highlight the efficacy and safe...</td>\n",
       "    </tr>\n",
       "    <tr>\n",
       "      <th>4</th>\n",
       "      <td>2015_05_positive</td>\n",
       "      <td>The provided sentences discuss various vaccina...</td>\n",
       "    </tr>\n",
       "    <tr>\n",
       "      <th>5</th>\n",
       "      <td>2015_06_positive</td>\n",
       "      <td>The text discusses the ongoing vaccination cam...</td>\n",
       "    </tr>\n",
       "    <tr>\n",
       "      <th>6</th>\n",
       "      <td>2015_07_positive</td>\n",
       "      <td>The text discusses various aspects of vaccinat...</td>\n",
       "    </tr>\n",
       "    <tr>\n",
       "      <th>7</th>\n",
       "      <td>2015_08_positive</td>\n",
       "      <td>The sentences discuss the importance of vaccin...</td>\n",
       "    </tr>\n",
       "  </tbody>\n",
       "</table>\n",
       "</div>"
      ],
      "text/plain": [
       "            dataset                                            summary\n",
       "0  2015_01_positive  Recent developments include Johnson & Johnson'...\n",
       "1  2015_02_positive  The provided Portuguese sentences discuss vari...\n",
       "2  2015_03_positive  The provided texts primarily discuss various v...\n",
       "3  2015_04_positive  Recent studies highlight the efficacy and safe...\n",
       "4  2015_05_positive  The provided sentences discuss various vaccina...\n",
       "5  2015_06_positive  The text discusses the ongoing vaccination cam...\n",
       "6  2015_07_positive  The text discusses various aspects of vaccinat...\n",
       "7  2015_08_positive  The sentences discuss the importance of vaccin..."
      ]
     },
     "execution_count": 126,
     "metadata": {},
     "output_type": "execute_result"
    }
   ],
   "source": [
    "df_2015_pos.tail(14)"
   ]
  },
  {
   "cell_type": "code",
   "execution_count": 127,
   "id": "cd10153f",
   "metadata": {},
   "outputs": [
    {
     "data": {
      "text/plain": [
       "<OpenAIObject chat.completion id=chatcmpl-AUdC6EAVjlW6zdGIPn2b8gzoSbrbl at 0x21d878e0db0> JSON: {\n",
       "  \"choices\": [\n",
       "    {\n",
       "      \"finish_reason\": \"stop\",\n",
       "      \"index\": 0,\n",
       "      \"logprobs\": null,\n",
       "      \"message\": {\n",
       "        \"content\": \"The sentences discuss the importance of vaccination against poliomyelitis (polio) and other diseases, emphasizing that vaccination is crucial for protecting children. Various campaigns are highlighted, including the National Vaccination Campaign against polio, which runs from August 15 to 31. The text mentions the availability of vaccines, the goal to immunize millions of children, and the efforts of health officials to increase vaccination rates. It also stresses the safety and efficacy of vaccines and the need for community participation in vaccination efforts.\",\n",
       "        \"refusal\": null,\n",
       "        \"role\": \"assistant\"\n",
       "      }\n",
       "    }\n",
       "  ],\n",
       "  \"created\": 1731863866,\n",
       "  \"id\": \"chatcmpl-AUdC6EAVjlW6zdGIPn2b8gzoSbrbl\",\n",
       "  \"model\": \"gpt-4o-mini-2024-07-18\",\n",
       "  \"object\": \"chat.completion\",\n",
       "  \"system_fingerprint\": \"fp_0ba0d124f1\",\n",
       "  \"usage\": {\n",
       "    \"completion_tokens\": 101,\n",
       "    \"completion_tokens_details\": {\n",
       "      \"accepted_prediction_tokens\": 0,\n",
       "      \"audio_tokens\": 0,\n",
       "      \"reasoning_tokens\": 0,\n",
       "      \"rejected_prediction_tokens\": 0\n",
       "    },\n",
       "    \"prompt_tokens\": 112411,\n",
       "    \"prompt_tokens_details\": {\n",
       "      \"audio_tokens\": 0,\n",
       "      \"cached_tokens\": 0\n",
       "    },\n",
       "    \"total_tokens\": 112512\n",
       "  }\n",
       "}"
      ]
     },
     "execution_count": 127,
     "metadata": {},
     "output_type": "execute_result"
    }
   ],
   "source": [
    "response"
   ]
  },
  {
   "cell_type": "markdown",
   "id": "1a0c859d",
   "metadata": {},
   "source": [
    "## September"
   ]
  },
  {
   "cell_type": "code",
   "execution_count": 128,
   "id": "46970275",
   "metadata": {
    "scrolled": true,
    "tags": []
   },
   "outputs": [
    {
     "name": "stdout",
     "output_type": "stream",
     "text": [
      "<class 'pandas.core.frame.DataFrame'>\n",
      "RangeIndex: 2413 entries, 0 to 2412\n",
      "Data columns (total 53 columns):\n",
      " #   Column                  Non-Null Count  Dtype  \n",
      "---  ------                  --------------  -----  \n",
      " 0   index                   2413 non-null   int64  \n",
      " 1   LocationCode            2413 non-null   object \n",
      " 2   LocationName            2413 non-null   object \n",
      " 3   StatesCode              2413 non-null   object \n",
      " 4   ...4                    2413 non-null   int64  \n",
      " 5   id                      2413 non-null   float64\n",
      " 6   text                    2413 non-null   object \n",
      " 7   label                   2413 non-null   object \n",
      " 8   in_reply_to_status_id   68 non-null     float64\n",
      " 9   in_reply_to_user_id     74 non-null     float64\n",
      " 10  quoted_user_id          13 non-null     float64\n",
      " 11  quoted_status_id        13 non-null     float64\n",
      " 12  retweeted_user_id       480 non-null    float64\n",
      " 13  retweeted_status_id     480 non-null    float64\n",
      " 14  created_at              2413 non-null   object \n",
      " 15  entities.user_mentions  786 non-null    object \n",
      " 16  user.id                 2413 non-null   int64  \n",
      " 17  user.screen_name        2413 non-null   object \n",
      " 18  user.name               2413 non-null   object \n",
      " 19  user.description        2087 non-null   object \n",
      " 20  user.timezone           0 non-null      float64\n",
      " 21  user.location           2392 non-null   object \n",
      " 22  user.num_followers      2413 non-null   int64  \n",
      " 23  user.num_following      2413 non-null   int64  \n",
      " 24  user.created_at         2413 non-null   object \n",
      " 25  user.statuses_count     2413 non-null   int64  \n",
      " 26  user.is_verified        2413 non-null   bool   \n",
      " 27  lang                    2413 non-null   object \n",
      " 28  token_count             2413 non-null   int64  \n",
      " 29  is_retweet              2413 non-null   bool   \n",
      " 30  has_quote               2413 non-null   bool   \n",
      " 31  is_reply                2413 non-null   bool   \n",
      " 32  contains_keywords       2413 non-null   bool   \n",
      " 33  longitude               2413 non-null   float64\n",
      " 34  latitude                2413 non-null   float64\n",
      " 35  country_code            2413 non-null   object \n",
      " 36  geoname_id              2320 non-null   float64\n",
      " 37  location_type           2413 non-null   object \n",
      " 38  geo_type                2413 non-null   int64  \n",
      " 39  region                  2413 non-null   object \n",
      " 40  subregion               2413 non-null   object \n",
      " 41  num_quotes              2413 non-null   int64  \n",
      " 42  num_replies             2413 non-null   int64  \n",
      " 43  num_retweets            2413 non-null   int64  \n",
      " 44  sent_gpt                2413 non-null   object \n",
      " 45  gpt_sent_presence       2413 non-null   int64  \n",
      " 46  cleaned_text_lem        2413 non-null   object \n",
      " 47  cleaned_text            2413 non-null   object \n",
      " 48  month                   2413 non-null   int64  \n",
      " 49  year                    2413 non-null   int64  \n",
      " 50  week                    2413 non-null   int64  \n",
      " 51  year_month              2413 non-null   object \n",
      " 52  year_week               2413 non-null   object \n",
      "dtypes: bool(5), float64(11), int64(15), object(22)\n",
      "memory usage: 916.8+ KB\n"
     ]
    }
   ],
   "source": [
    "# Get monthly data\n",
    "df_2015_09_pos = pd.read_csv('../data/local/df_pos_2015-09.csv').reset_index()\n",
    "df_2015_09_pos.info()"
   ]
  },
  {
   "cell_type": "markdown",
   "id": "6d6d95b1",
   "metadata": {},
   "source": [
    "### Representative sample based on week and location"
   ]
  },
  {
   "cell_type": "code",
   "execution_count": 129,
   "id": "1c64358d",
   "metadata": {},
   "outputs": [
    {
     "data": {
      "text/html": [
       "<div>\n",
       "<style scoped>\n",
       "    .dataframe tbody tr th:only-of-type {\n",
       "        vertical-align: middle;\n",
       "    }\n",
       "\n",
       "    .dataframe tbody tr th {\n",
       "        vertical-align: top;\n",
       "    }\n",
       "\n",
       "    .dataframe thead th {\n",
       "        text-align: right;\n",
       "    }\n",
       "</style>\n",
       "<table border=\"1\" class=\"dataframe\">\n",
       "  <thead>\n",
       "    <tr style=\"text-align: right;\">\n",
       "      <th></th>\n",
       "      <th>year_week</th>\n",
       "      <th>LocationName</th>\n",
       "      <th>group_size</th>\n",
       "      <th>proportion</th>\n",
       "    </tr>\n",
       "  </thead>\n",
       "  <tbody>\n",
       "    <tr>\n",
       "      <th>0</th>\n",
       "      <td>2015-w35</td>\n",
       "      <td>Alagoas</td>\n",
       "      <td>11</td>\n",
       "      <td>0.004559</td>\n",
       "    </tr>\n",
       "    <tr>\n",
       "      <th>1</th>\n",
       "      <td>2015-w35</td>\n",
       "      <td>Amapa</td>\n",
       "      <td>1</td>\n",
       "      <td>0.000414</td>\n",
       "    </tr>\n",
       "    <tr>\n",
       "      <th>2</th>\n",
       "      <td>2015-w35</td>\n",
       "      <td>Amazonas</td>\n",
       "      <td>7</td>\n",
       "      <td>0.002901</td>\n",
       "    </tr>\n",
       "    <tr>\n",
       "      <th>3</th>\n",
       "      <td>2015-w35</td>\n",
       "      <td>Bahia</td>\n",
       "      <td>26</td>\n",
       "      <td>0.010775</td>\n",
       "    </tr>\n",
       "    <tr>\n",
       "      <th>4</th>\n",
       "      <td>2015-w35</td>\n",
       "      <td>Ceara</td>\n",
       "      <td>15</td>\n",
       "      <td>0.006216</td>\n",
       "    </tr>\n",
       "    <tr>\n",
       "      <th>...</th>\n",
       "      <td>...</td>\n",
       "      <td>...</td>\n",
       "      <td>...</td>\n",
       "      <td>...</td>\n",
       "    </tr>\n",
       "    <tr>\n",
       "      <th>110</th>\n",
       "      <td>2015-w39</td>\n",
       "      <td>Roraima</td>\n",
       "      <td>1</td>\n",
       "      <td>0.000414</td>\n",
       "    </tr>\n",
       "    <tr>\n",
       "      <th>111</th>\n",
       "      <td>2015-w39</td>\n",
       "      <td>Santa Catarina</td>\n",
       "      <td>10</td>\n",
       "      <td>0.004144</td>\n",
       "    </tr>\n",
       "    <tr>\n",
       "      <th>112</th>\n",
       "      <td>2015-w39</td>\n",
       "      <td>Sao Paulo</td>\n",
       "      <td>74</td>\n",
       "      <td>0.030667</td>\n",
       "    </tr>\n",
       "    <tr>\n",
       "      <th>113</th>\n",
       "      <td>2015-w39</td>\n",
       "      <td>Sergipe</td>\n",
       "      <td>6</td>\n",
       "      <td>0.002487</td>\n",
       "    </tr>\n",
       "    <tr>\n",
       "      <th>114</th>\n",
       "      <td>2015-w39</td>\n",
       "      <td>Tocantins</td>\n",
       "      <td>2</td>\n",
       "      <td>0.000829</td>\n",
       "    </tr>\n",
       "  </tbody>\n",
       "</table>\n",
       "<p>115 rows × 4 columns</p>\n",
       "</div>"
      ],
      "text/plain": [
       "    year_week    LocationName  group_size  proportion\n",
       "0    2015-w35         Alagoas          11    0.004559\n",
       "1    2015-w35           Amapa           1    0.000414\n",
       "2    2015-w35        Amazonas           7    0.002901\n",
       "3    2015-w35           Bahia          26    0.010775\n",
       "4    2015-w35           Ceara          15    0.006216\n",
       "..        ...             ...         ...         ...\n",
       "110  2015-w39         Roraima           1    0.000414\n",
       "111  2015-w39  Santa Catarina          10    0.004144\n",
       "112  2015-w39       Sao Paulo          74    0.030667\n",
       "113  2015-w39         Sergipe           6    0.002487\n",
       "114  2015-w39       Tocantins           2    0.000829\n",
       "\n",
       "[115 rows x 4 columns]"
      ]
     },
     "execution_count": 129,
     "metadata": {},
     "output_type": "execute_result"
    }
   ],
   "source": [
    "# Step 1: Calculate the size of each group (year_week, LocationName)\n",
    "group_sizes = df_2015_09_pos.groupby(['year_week', 'LocationName']).size().reset_index(name='group_size')\n",
    "\n",
    "# Step 2: Calculate the proportion of each group in the dataset\n",
    "total_rows = len(df_2015_09_pos)\n",
    "group_sizes['proportion'] = group_sizes['group_size'] / total_rows\n",
    "group_sizes"
   ]
  },
  {
   "cell_type": "code",
   "execution_count": 130,
   "id": "0f70bf42",
   "metadata": {},
   "outputs": [],
   "source": [
    "# Step 3: Define the target sample size\n",
    "#target_sample_size = 2450\n",
    "\n",
    "# Step 4: Calculate the sample size for each group (based on its proportion)\n",
    "#group_sizes['sample_size'] = np.floor(group_sizes['proportion'] * target_sample_size).astype(int)\n",
    "#group_sizes\n",
    "# Taking all tweets since there were not enough for sampling"
   ]
  },
  {
   "cell_type": "code",
   "execution_count": 131,
   "id": "1fbb0b3e",
   "metadata": {},
   "outputs": [],
   "source": [
    "# Step 5: Merge this sample size information back to the original DataFrame\n",
    "#df_2015_09_pos_sample_size = pd.merge(df_2015_09_pos, group_sizes[['year_week', 'LocationName', 'sample_size']], \n",
    " #                              on=['year_week', 'LocationName'], how='left')"
   ]
  },
  {
   "cell_type": "code",
   "execution_count": 132,
   "id": "e62cb3ac",
   "metadata": {},
   "outputs": [
    {
     "name": "stdout",
     "output_type": "stream",
     "text": [
      "Sampled 2413 rows.\n"
     ]
    }
   ],
   "source": [
    "# Step 6: Perform the stratified sampling\n",
    "#df_2015_09_pos_sample = df_2015_09_pos_sample_size.groupby(['year_week', 'LocationName']).apply(\n",
    " #   lambda group: group.sample(n=group['sample_size'].iloc[0], random_state=42)\n",
    "#).reset_index(drop=True)\n",
    "df_2015_09_pos_sample = df_2015_09_pos\n",
    "# Step 7: Check the result\n",
    "print(f\"Sampled {len(df_2015_09_pos_sample)} rows.\")\n"
   ]
  },
  {
   "cell_type": "code",
   "execution_count": 133,
   "id": "f94fe9d7",
   "metadata": {},
   "outputs": [],
   "source": [
    "text_gpt_2015_09_pos = '\\n'.join(df_2015_09_pos_sample['text'].astype(str))"
   ]
  },
  {
   "cell_type": "markdown",
   "id": "b7904a7f",
   "metadata": {},
   "source": [
    "### Prompts and loops"
   ]
  },
  {
   "cell_type": "code",
   "execution_count": 134,
   "id": "71bbca85",
   "metadata": {},
   "outputs": [],
   "source": [
    "prompt_9 = prompt_raw.replace('TWEETS', text_gpt_2015_09_pos)"
   ]
  },
  {
   "cell_type": "code",
   "execution_count": 135,
   "id": "b7ae259f",
   "metadata": {
    "scrolled": false
   },
   "outputs": [],
   "source": [
    "response = openai.ChatCompletion.create(\n",
    "    model=\"gpt-4o-mini\",  \n",
    "    messages = [\n",
    "        {\"role\": \"user\", \"content\": prompt_9}\n",
    "    ],\n",
    "    max_tokens=400,  # Maximum number of tokens in the response\n",
    "    temperature=0.7  # Controls the randomness of the output\n",
    ")"
   ]
  },
  {
   "cell_type": "code",
   "execution_count": 136,
   "id": "8653eccf",
   "metadata": {},
   "outputs": [
    {
     "data": {
      "text/plain": [
       "'The text discusses vaccination campaigns in Brazil, highlighting the ongoing vaccination against poliomyelitis (polio) and the initiation of the second dose of the HPV vaccine for girls aged 9 to 11. Various regions are mentioned, indicating their vaccination rates and goals. The importance of vaccination in preventing diseases is emphasized, along with efforts to reach underserved populations and promote public health awareness.'"
      ]
     },
     "execution_count": 136,
     "metadata": {},
     "output_type": "execute_result"
    }
   ],
   "source": [
    "response.choices[0].message.content"
   ]
  },
  {
   "cell_type": "code",
   "execution_count": 137,
   "id": "6be7b347",
   "metadata": {},
   "outputs": [],
   "source": [
    "#summary = []\n",
    "#dataset = []"
   ]
  },
  {
   "cell_type": "code",
   "execution_count": 138,
   "id": "550a921f",
   "metadata": {},
   "outputs": [],
   "source": [
    "dataset.append(\"2015_09_positive\")"
   ]
  },
  {
   "cell_type": "code",
   "execution_count": 139,
   "id": "83240506",
   "metadata": {},
   "outputs": [],
   "source": [
    "summary.append(response.choices[0].message.content)"
   ]
  },
  {
   "cell_type": "code",
   "execution_count": 140,
   "id": "0c75735b",
   "metadata": {
    "tags": []
   },
   "outputs": [
    {
     "name": "stdout",
     "output_type": "stream",
     "text": [
      "<class 'pandas.core.frame.DataFrame'>\n",
      "RangeIndex: 9 entries, 0 to 8\n",
      "Data columns (total 2 columns):\n",
      " #   Column   Non-Null Count  Dtype \n",
      "---  ------   --------------  ----- \n",
      " 0   dataset  9 non-null      object\n",
      " 1   summary  9 non-null      object\n",
      "dtypes: object(2)\n",
      "memory usage: 272.0+ bytes\n"
     ]
    }
   ],
   "source": [
    "df_2015_pos = pd.DataFrame(list(zip(dataset, summary)),\n",
    "                            columns = ['dataset', 'summary'])\n",
    "df_2015_pos.info()"
   ]
  },
  {
   "cell_type": "code",
   "execution_count": 141,
   "id": "fa955f73",
   "metadata": {},
   "outputs": [
    {
     "data": {
      "text/html": [
       "<div>\n",
       "<style scoped>\n",
       "    .dataframe tbody tr th:only-of-type {\n",
       "        vertical-align: middle;\n",
       "    }\n",
       "\n",
       "    .dataframe tbody tr th {\n",
       "        vertical-align: top;\n",
       "    }\n",
       "\n",
       "    .dataframe thead th {\n",
       "        text-align: right;\n",
       "    }\n",
       "</style>\n",
       "<table border=\"1\" class=\"dataframe\">\n",
       "  <thead>\n",
       "    <tr style=\"text-align: right;\">\n",
       "      <th></th>\n",
       "      <th>dataset</th>\n",
       "      <th>summary</th>\n",
       "    </tr>\n",
       "  </thead>\n",
       "  <tbody>\n",
       "    <tr>\n",
       "      <th>0</th>\n",
       "      <td>2015_01_positive</td>\n",
       "      <td>Recent developments include Johnson &amp; Johnson'...</td>\n",
       "    </tr>\n",
       "    <tr>\n",
       "      <th>1</th>\n",
       "      <td>2015_02_positive</td>\n",
       "      <td>The provided Portuguese sentences discuss vari...</td>\n",
       "    </tr>\n",
       "    <tr>\n",
       "      <th>2</th>\n",
       "      <td>2015_03_positive</td>\n",
       "      <td>The provided texts primarily discuss various v...</td>\n",
       "    </tr>\n",
       "    <tr>\n",
       "      <th>3</th>\n",
       "      <td>2015_04_positive</td>\n",
       "      <td>Recent studies highlight the efficacy and safe...</td>\n",
       "    </tr>\n",
       "    <tr>\n",
       "      <th>4</th>\n",
       "      <td>2015_05_positive</td>\n",
       "      <td>The provided sentences discuss various vaccina...</td>\n",
       "    </tr>\n",
       "    <tr>\n",
       "      <th>5</th>\n",
       "      <td>2015_06_positive</td>\n",
       "      <td>The text discusses the ongoing vaccination cam...</td>\n",
       "    </tr>\n",
       "    <tr>\n",
       "      <th>6</th>\n",
       "      <td>2015_07_positive</td>\n",
       "      <td>The text discusses various aspects of vaccinat...</td>\n",
       "    </tr>\n",
       "    <tr>\n",
       "      <th>7</th>\n",
       "      <td>2015_08_positive</td>\n",
       "      <td>The sentences discuss the importance of vaccin...</td>\n",
       "    </tr>\n",
       "    <tr>\n",
       "      <th>8</th>\n",
       "      <td>2015_09_positive</td>\n",
       "      <td>The text discusses vaccination campaigns in Br...</td>\n",
       "    </tr>\n",
       "  </tbody>\n",
       "</table>\n",
       "</div>"
      ],
      "text/plain": [
       "            dataset                                            summary\n",
       "0  2015_01_positive  Recent developments include Johnson & Johnson'...\n",
       "1  2015_02_positive  The provided Portuguese sentences discuss vari...\n",
       "2  2015_03_positive  The provided texts primarily discuss various v...\n",
       "3  2015_04_positive  Recent studies highlight the efficacy and safe...\n",
       "4  2015_05_positive  The provided sentences discuss various vaccina...\n",
       "5  2015_06_positive  The text discusses the ongoing vaccination cam...\n",
       "6  2015_07_positive  The text discusses various aspects of vaccinat...\n",
       "7  2015_08_positive  The sentences discuss the importance of vaccin...\n",
       "8  2015_09_positive  The text discusses vaccination campaigns in Br..."
      ]
     },
     "execution_count": 141,
     "metadata": {},
     "output_type": "execute_result"
    }
   ],
   "source": [
    "df_2015_pos.tail(14)"
   ]
  },
  {
   "cell_type": "code",
   "execution_count": 142,
   "id": "4c204870",
   "metadata": {},
   "outputs": [
    {
     "data": {
      "text/plain": [
       "<OpenAIObject chat.completion id=chatcmpl-AUdCGN9nyEALpoviIXPaQmybBLn8K at 0x21d87bc46d0> JSON: {\n",
       "  \"choices\": [\n",
       "    {\n",
       "      \"finish_reason\": \"stop\",\n",
       "      \"index\": 0,\n",
       "      \"logprobs\": null,\n",
       "      \"message\": {\n",
       "        \"content\": \"The text discusses vaccination campaigns in Brazil, highlighting the ongoing vaccination against poliomyelitis (polio) and the initiation of the second dose of the HPV vaccine for girls aged 9 to 11. Various regions are mentioned, indicating their vaccination rates and goals. The importance of vaccination in preventing diseases is emphasized, along with efforts to reach underserved populations and promote public health awareness.\",\n",
       "        \"refusal\": null,\n",
       "        \"role\": \"assistant\"\n",
       "      }\n",
       "    }\n",
       "  ],\n",
       "  \"created\": 1731863876,\n",
       "  \"id\": \"chatcmpl-AUdCGN9nyEALpoviIXPaQmybBLn8K\",\n",
       "  \"model\": \"gpt-4o-mini-2024-07-18\",\n",
       "  \"object\": \"chat.completion\",\n",
       "  \"system_fingerprint\": \"fp_0ba0d124f1\",\n",
       "  \"usage\": {\n",
       "    \"completion_tokens\": 76,\n",
       "    \"completion_tokens_details\": {\n",
       "      \"accepted_prediction_tokens\": 0,\n",
       "      \"audio_tokens\": 0,\n",
       "      \"reasoning_tokens\": 0,\n",
       "      \"rejected_prediction_tokens\": 0\n",
       "    },\n",
       "    \"prompt_tokens\": 57798,\n",
       "    \"prompt_tokens_details\": {\n",
       "      \"audio_tokens\": 0,\n",
       "      \"cached_tokens\": 0\n",
       "    },\n",
       "    \"total_tokens\": 57874\n",
       "  }\n",
       "}"
      ]
     },
     "execution_count": 142,
     "metadata": {},
     "output_type": "execute_result"
    }
   ],
   "source": [
    "response"
   ]
  },
  {
   "cell_type": "markdown",
   "id": "43f969b1",
   "metadata": {},
   "source": [
    "## October"
   ]
  },
  {
   "cell_type": "code",
   "execution_count": 143,
   "id": "28cedc2b",
   "metadata": {
    "scrolled": true,
    "tags": []
   },
   "outputs": [
    {
     "name": "stdout",
     "output_type": "stream",
     "text": [
      "<class 'pandas.core.frame.DataFrame'>\n",
      "RangeIndex: 1641 entries, 0 to 1640\n",
      "Data columns (total 53 columns):\n",
      " #   Column                  Non-Null Count  Dtype  \n",
      "---  ------                  --------------  -----  \n",
      " 0   index                   1641 non-null   int64  \n",
      " 1   LocationCode            1641 non-null   object \n",
      " 2   LocationName            1641 non-null   object \n",
      " 3   StatesCode              1641 non-null   object \n",
      " 4   ...4                    1641 non-null   int64  \n",
      " 5   id                      1641 non-null   float64\n",
      " 6   text                    1641 non-null   object \n",
      " 7   label                   1641 non-null   object \n",
      " 8   in_reply_to_status_id   88 non-null     float64\n",
      " 9   in_reply_to_user_id     104 non-null    float64\n",
      " 10  quoted_user_id          22 non-null     float64\n",
      " 11  quoted_status_id        22 non-null     float64\n",
      " 12  retweeted_user_id       629 non-null    float64\n",
      " 13  retweeted_status_id     629 non-null    float64\n",
      " 14  created_at              1641 non-null   object \n",
      " 15  entities.user_mentions  823 non-null    object \n",
      " 16  user.id                 1641 non-null   int64  \n",
      " 17  user.screen_name        1641 non-null   object \n",
      " 18  user.name               1640 non-null   object \n",
      " 19  user.description        1434 non-null   object \n",
      " 20  user.timezone           0 non-null      float64\n",
      " 21  user.location           1630 non-null   object \n",
      " 22  user.num_followers      1641 non-null   int64  \n",
      " 23  user.num_following      1641 non-null   int64  \n",
      " 24  user.created_at         1641 non-null   object \n",
      " 25  user.statuses_count     1641 non-null   int64  \n",
      " 26  user.is_verified        1641 non-null   bool   \n",
      " 27  lang                    1641 non-null   object \n",
      " 28  token_count             1641 non-null   int64  \n",
      " 29  is_retweet              1641 non-null   bool   \n",
      " 30  has_quote               1641 non-null   bool   \n",
      " 31  is_reply                1641 non-null   bool   \n",
      " 32  contains_keywords       1641 non-null   bool   \n",
      " 33  longitude               1641 non-null   float64\n",
      " 34  latitude                1641 non-null   float64\n",
      " 35  country_code            1641 non-null   object \n",
      " 36  geoname_id              1568 non-null   float64\n",
      " 37  location_type           1641 non-null   object \n",
      " 38  geo_type                1641 non-null   int64  \n",
      " 39  region                  1641 non-null   object \n",
      " 40  subregion               1641 non-null   object \n",
      " 41  num_quotes              1641 non-null   int64  \n",
      " 42  num_replies             1641 non-null   int64  \n",
      " 43  num_retweets            1641 non-null   int64  \n",
      " 44  sent_gpt                1641 non-null   object \n",
      " 45  gpt_sent_presence       1641 non-null   int64  \n",
      " 46  cleaned_text_lem        1641 non-null   object \n",
      " 47  cleaned_text            1641 non-null   object \n",
      " 48  month                   1641 non-null   int64  \n",
      " 49  year                    1641 non-null   int64  \n",
      " 50  week                    1641 non-null   int64  \n",
      " 51  year_month              1641 non-null   object \n",
      " 52  year_week               1641 non-null   object \n",
      "dtypes: bool(5), float64(11), int64(15), object(22)\n",
      "memory usage: 623.5+ KB\n"
     ]
    }
   ],
   "source": [
    "# Get monthly data\n",
    "df_2015_10_pos = pd.read_csv('../data/local/df_pos_2015-10.csv').reset_index()\n",
    "df_2015_10_pos.info()"
   ]
  },
  {
   "cell_type": "markdown",
   "id": "616f674a",
   "metadata": {},
   "source": [
    "### Representative sample based on week and location"
   ]
  },
  {
   "cell_type": "code",
   "execution_count": 144,
   "id": "9cb193cd",
   "metadata": {},
   "outputs": [
    {
     "data": {
      "text/html": [
       "<div>\n",
       "<style scoped>\n",
       "    .dataframe tbody tr th:only-of-type {\n",
       "        vertical-align: middle;\n",
       "    }\n",
       "\n",
       "    .dataframe tbody tr th {\n",
       "        vertical-align: top;\n",
       "    }\n",
       "\n",
       "    .dataframe thead th {\n",
       "        text-align: right;\n",
       "    }\n",
       "</style>\n",
       "<table border=\"1\" class=\"dataframe\">\n",
       "  <thead>\n",
       "    <tr style=\"text-align: right;\">\n",
       "      <th></th>\n",
       "      <th>year_week</th>\n",
       "      <th>LocationName</th>\n",
       "      <th>group_size</th>\n",
       "      <th>proportion</th>\n",
       "    </tr>\n",
       "  </thead>\n",
       "  <tbody>\n",
       "    <tr>\n",
       "      <th>0</th>\n",
       "      <td>2015-w40</td>\n",
       "      <td>Acre</td>\n",
       "      <td>3</td>\n",
       "      <td>0.001828</td>\n",
       "    </tr>\n",
       "    <tr>\n",
       "      <th>1</th>\n",
       "      <td>2015-w40</td>\n",
       "      <td>Alagoas</td>\n",
       "      <td>9</td>\n",
       "      <td>0.005484</td>\n",
       "    </tr>\n",
       "    <tr>\n",
       "      <th>2</th>\n",
       "      <td>2015-w40</td>\n",
       "      <td>Amapa</td>\n",
       "      <td>2</td>\n",
       "      <td>0.001219</td>\n",
       "    </tr>\n",
       "    <tr>\n",
       "      <th>3</th>\n",
       "      <td>2015-w40</td>\n",
       "      <td>Amazonas</td>\n",
       "      <td>4</td>\n",
       "      <td>0.002438</td>\n",
       "    </tr>\n",
       "    <tr>\n",
       "      <th>4</th>\n",
       "      <td>2015-w40</td>\n",
       "      <td>Bahia</td>\n",
       "      <td>18</td>\n",
       "      <td>0.010969</td>\n",
       "    </tr>\n",
       "    <tr>\n",
       "      <th>...</th>\n",
       "      <td>...</td>\n",
       "      <td>...</td>\n",
       "      <td>...</td>\n",
       "      <td>...</td>\n",
       "    </tr>\n",
       "    <tr>\n",
       "      <th>109</th>\n",
       "      <td>2015-w44</td>\n",
       "      <td>Pernambuco</td>\n",
       "      <td>3</td>\n",
       "      <td>0.001828</td>\n",
       "    </tr>\n",
       "    <tr>\n",
       "      <th>110</th>\n",
       "      <td>2015-w44</td>\n",
       "      <td>Rio De Janeiro</td>\n",
       "      <td>1</td>\n",
       "      <td>0.000609</td>\n",
       "    </tr>\n",
       "    <tr>\n",
       "      <th>111</th>\n",
       "      <td>2015-w44</td>\n",
       "      <td>Rio Grande Do Sul</td>\n",
       "      <td>23</td>\n",
       "      <td>0.014016</td>\n",
       "    </tr>\n",
       "    <tr>\n",
       "      <th>112</th>\n",
       "      <td>2015-w44</td>\n",
       "      <td>Santa Catarina</td>\n",
       "      <td>5</td>\n",
       "      <td>0.003047</td>\n",
       "    </tr>\n",
       "    <tr>\n",
       "      <th>113</th>\n",
       "      <td>2015-w44</td>\n",
       "      <td>Sao Paulo</td>\n",
       "      <td>27</td>\n",
       "      <td>0.016453</td>\n",
       "    </tr>\n",
       "  </tbody>\n",
       "</table>\n",
       "<p>114 rows × 4 columns</p>\n",
       "</div>"
      ],
      "text/plain": [
       "    year_week       LocationName  group_size  proportion\n",
       "0    2015-w40               Acre           3    0.001828\n",
       "1    2015-w40            Alagoas           9    0.005484\n",
       "2    2015-w40              Amapa           2    0.001219\n",
       "3    2015-w40           Amazonas           4    0.002438\n",
       "4    2015-w40              Bahia          18    0.010969\n",
       "..        ...                ...         ...         ...\n",
       "109  2015-w44         Pernambuco           3    0.001828\n",
       "110  2015-w44     Rio De Janeiro           1    0.000609\n",
       "111  2015-w44  Rio Grande Do Sul          23    0.014016\n",
       "112  2015-w44     Santa Catarina           5    0.003047\n",
       "113  2015-w44          Sao Paulo          27    0.016453\n",
       "\n",
       "[114 rows x 4 columns]"
      ]
     },
     "execution_count": 144,
     "metadata": {},
     "output_type": "execute_result"
    }
   ],
   "source": [
    "# Step 1: Calculate the size of each group (year_week, LocationName)\n",
    "group_sizes = df_2015_10_pos.groupby(['year_week', 'LocationName']).size().reset_index(name='group_size')\n",
    "\n",
    "# Step 2: Calculate the proportion of each group in the dataset\n",
    "total_rows = len(df_2015_10_pos)\n",
    "group_sizes['proportion'] = group_sizes['group_size'] / total_rows\n",
    "group_sizes"
   ]
  },
  {
   "cell_type": "code",
   "execution_count": 145,
   "id": "610efcf6",
   "metadata": {},
   "outputs": [
    {
     "data": {
      "text/html": [
       "<div>\n",
       "<style scoped>\n",
       "    .dataframe tbody tr th:only-of-type {\n",
       "        vertical-align: middle;\n",
       "    }\n",
       "\n",
       "    .dataframe tbody tr th {\n",
       "        vertical-align: top;\n",
       "    }\n",
       "\n",
       "    .dataframe thead th {\n",
       "        text-align: right;\n",
       "    }\n",
       "</style>\n",
       "<table border=\"1\" class=\"dataframe\">\n",
       "  <thead>\n",
       "    <tr style=\"text-align: right;\">\n",
       "      <th></th>\n",
       "      <th>year_week</th>\n",
       "      <th>LocationName</th>\n",
       "      <th>group_size</th>\n",
       "      <th>proportion</th>\n",
       "      <th>sample_size</th>\n",
       "    </tr>\n",
       "  </thead>\n",
       "  <tbody>\n",
       "    <tr>\n",
       "      <th>0</th>\n",
       "      <td>2015-w40</td>\n",
       "      <td>Acre</td>\n",
       "      <td>3</td>\n",
       "      <td>0.001828</td>\n",
       "      <td>4</td>\n",
       "    </tr>\n",
       "    <tr>\n",
       "      <th>1</th>\n",
       "      <td>2015-w40</td>\n",
       "      <td>Alagoas</td>\n",
       "      <td>9</td>\n",
       "      <td>0.005484</td>\n",
       "      <td>13</td>\n",
       "    </tr>\n",
       "    <tr>\n",
       "      <th>2</th>\n",
       "      <td>2015-w40</td>\n",
       "      <td>Amapa</td>\n",
       "      <td>2</td>\n",
       "      <td>0.001219</td>\n",
       "      <td>2</td>\n",
       "    </tr>\n",
       "    <tr>\n",
       "      <th>3</th>\n",
       "      <td>2015-w40</td>\n",
       "      <td>Amazonas</td>\n",
       "      <td>4</td>\n",
       "      <td>0.002438</td>\n",
       "      <td>5</td>\n",
       "    </tr>\n",
       "    <tr>\n",
       "      <th>4</th>\n",
       "      <td>2015-w40</td>\n",
       "      <td>Bahia</td>\n",
       "      <td>18</td>\n",
       "      <td>0.010969</td>\n",
       "      <td>26</td>\n",
       "    </tr>\n",
       "    <tr>\n",
       "      <th>...</th>\n",
       "      <td>...</td>\n",
       "      <td>...</td>\n",
       "      <td>...</td>\n",
       "      <td>...</td>\n",
       "      <td>...</td>\n",
       "    </tr>\n",
       "    <tr>\n",
       "      <th>109</th>\n",
       "      <td>2015-w44</td>\n",
       "      <td>Pernambuco</td>\n",
       "      <td>3</td>\n",
       "      <td>0.001828</td>\n",
       "      <td>4</td>\n",
       "    </tr>\n",
       "    <tr>\n",
       "      <th>110</th>\n",
       "      <td>2015-w44</td>\n",
       "      <td>Rio De Janeiro</td>\n",
       "      <td>1</td>\n",
       "      <td>0.000609</td>\n",
       "      <td>1</td>\n",
       "    </tr>\n",
       "    <tr>\n",
       "      <th>111</th>\n",
       "      <td>2015-w44</td>\n",
       "      <td>Rio Grande Do Sul</td>\n",
       "      <td>23</td>\n",
       "      <td>0.014016</td>\n",
       "      <td>34</td>\n",
       "    </tr>\n",
       "    <tr>\n",
       "      <th>112</th>\n",
       "      <td>2015-w44</td>\n",
       "      <td>Santa Catarina</td>\n",
       "      <td>5</td>\n",
       "      <td>0.003047</td>\n",
       "      <td>7</td>\n",
       "    </tr>\n",
       "    <tr>\n",
       "      <th>113</th>\n",
       "      <td>2015-w44</td>\n",
       "      <td>Sao Paulo</td>\n",
       "      <td>27</td>\n",
       "      <td>0.016453</td>\n",
       "      <td>40</td>\n",
       "    </tr>\n",
       "  </tbody>\n",
       "</table>\n",
       "<p>114 rows × 5 columns</p>\n",
       "</div>"
      ],
      "text/plain": [
       "    year_week       LocationName  group_size  proportion  sample_size\n",
       "0    2015-w40               Acre           3    0.001828            4\n",
       "1    2015-w40            Alagoas           9    0.005484           13\n",
       "2    2015-w40              Amapa           2    0.001219            2\n",
       "3    2015-w40           Amazonas           4    0.002438            5\n",
       "4    2015-w40              Bahia          18    0.010969           26\n",
       "..        ...                ...         ...         ...          ...\n",
       "109  2015-w44         Pernambuco           3    0.001828            4\n",
       "110  2015-w44     Rio De Janeiro           1    0.000609            1\n",
       "111  2015-w44  Rio Grande Do Sul          23    0.014016           34\n",
       "112  2015-w44     Santa Catarina           5    0.003047            7\n",
       "113  2015-w44          Sao Paulo          27    0.016453           40\n",
       "\n",
       "[114 rows x 5 columns]"
      ]
     },
     "execution_count": 145,
     "metadata": {},
     "output_type": "execute_result"
    }
   ],
   "source": [
    "# Step 3: Define the target sample size\n",
    "target_sample_size = 2450\n",
    "\n",
    "# Step 4: Calculate the sample size for each group (based on its proportion)\n",
    "group_sizes['sample_size'] = np.floor(group_sizes['proportion'] * target_sample_size).astype(int)\n",
    "group_sizes"
   ]
  },
  {
   "cell_type": "code",
   "execution_count": 146,
   "id": "361d2734",
   "metadata": {},
   "outputs": [],
   "source": [
    "# Step 5: Merge this sample size information back to the original DataFrame\n",
    "#df_2015_10_pos_sample_size = pd.merge(df_2015_10_pos, group_sizes[['year_week', 'LocationName', 'sample_size']], \n",
    " #                              on=['year_week', 'LocationName'], how='left')\n",
    "# Taking all tweets for not having enough tweets for sampling"
   ]
  },
  {
   "cell_type": "code",
   "execution_count": 147,
   "id": "cd34d6e4",
   "metadata": {},
   "outputs": [
    {
     "name": "stdout",
     "output_type": "stream",
     "text": [
      "Sampled 1641 rows.\n"
     ]
    }
   ],
   "source": [
    "# Step 6: Perform the stratified sampling\n",
    "#df_2015_10_pos_sample = df_2015_10_pos_sample_size.groupby(['year_week', 'LocationName']).apply(\n",
    " #   lambda group: group.sample(n=group['sample_size'].iloc[0], random_state=42)\n",
    "#).reset_index(drop=True)\n",
    "df_2015_10_pos_sample = df_2015_10_pos\n",
    "# Step 7: Check the result\n",
    "print(f\"Sampled {len(df_2015_10_pos_sample)} rows.\")\n"
   ]
  },
  {
   "cell_type": "code",
   "execution_count": 148,
   "id": "853aa7a6",
   "metadata": {},
   "outputs": [],
   "source": [
    "text_gpt_2015_10_pos = '\\n'.join(df_2015_10_pos_sample['text'].astype(str))"
   ]
  },
  {
   "cell_type": "markdown",
   "id": "0e857dd6",
   "metadata": {},
   "source": [
    "### Prompts and loops"
   ]
  },
  {
   "cell_type": "code",
   "execution_count": 149,
   "id": "997a28ad",
   "metadata": {},
   "outputs": [],
   "source": [
    "prompt_10 = prompt_raw.replace('TWEETS', text_gpt_2015_10_pos)"
   ]
  },
  {
   "cell_type": "code",
   "execution_count": 150,
   "id": "0ad6cb21",
   "metadata": {
    "scrolled": false
   },
   "outputs": [],
   "source": [
    "response = openai.ChatCompletion.create(\n",
    "    model=\"gpt-4o-mini\",  \n",
    "    messages = [\n",
    "        {\"role\": \"user\", \"content\": prompt_10}\n",
    "    ],\n",
    "    max_tokens=400,  # Maximum number of tokens in the response\n",
    "    temperature=0.7  # Controls the randomness of the output\n",
    ")"
   ]
  },
  {
   "cell_type": "code",
   "execution_count": 151,
   "id": "f98d14d4",
   "metadata": {},
   "outputs": [
    {
     "data": {
      "text/plain": [
       "'The text discusses various vaccination campaigns and initiatives in Brazil, highlighting the importance of vaccinations for both humans and animals. It covers topics such as free vaccinations for pets, the HPV vaccine for girls aged 9-13, anti-rabies campaigns, and advancements in vaccines against diseases like tuberculosis and dengue. The text emphasizes the need for awareness and participation in vaccination programs to prevent outbreaks and protect public health.'"
      ]
     },
     "execution_count": 151,
     "metadata": {},
     "output_type": "execute_result"
    }
   ],
   "source": [
    "response.choices[0].message.content"
   ]
  },
  {
   "cell_type": "code",
   "execution_count": 152,
   "id": "148185bf",
   "metadata": {},
   "outputs": [],
   "source": [
    "#summary = []\n",
    "#dataset = []"
   ]
  },
  {
   "cell_type": "code",
   "execution_count": 153,
   "id": "91999070",
   "metadata": {},
   "outputs": [],
   "source": [
    "dataset.append(\"2015_10_positive\")"
   ]
  },
  {
   "cell_type": "code",
   "execution_count": 154,
   "id": "ca0c8fcc",
   "metadata": {},
   "outputs": [],
   "source": [
    "summary.append(response.choices[0].message.content)"
   ]
  },
  {
   "cell_type": "code",
   "execution_count": 155,
   "id": "75de78c6",
   "metadata": {
    "tags": []
   },
   "outputs": [
    {
     "name": "stdout",
     "output_type": "stream",
     "text": [
      "<class 'pandas.core.frame.DataFrame'>\n",
      "RangeIndex: 10 entries, 0 to 9\n",
      "Data columns (total 2 columns):\n",
      " #   Column   Non-Null Count  Dtype \n",
      "---  ------   --------------  ----- \n",
      " 0   dataset  10 non-null     object\n",
      " 1   summary  10 non-null     object\n",
      "dtypes: object(2)\n",
      "memory usage: 288.0+ bytes\n"
     ]
    }
   ],
   "source": [
    "df_2015_pos = pd.DataFrame(list(zip(dataset, summary)),\n",
    "                            columns = ['dataset', 'summary'])\n",
    "df_2015_pos.info()"
   ]
  },
  {
   "cell_type": "code",
   "execution_count": 156,
   "id": "33f398cf",
   "metadata": {},
   "outputs": [
    {
     "data": {
      "text/html": [
       "<div>\n",
       "<style scoped>\n",
       "    .dataframe tbody tr th:only-of-type {\n",
       "        vertical-align: middle;\n",
       "    }\n",
       "\n",
       "    .dataframe tbody tr th {\n",
       "        vertical-align: top;\n",
       "    }\n",
       "\n",
       "    .dataframe thead th {\n",
       "        text-align: right;\n",
       "    }\n",
       "</style>\n",
       "<table border=\"1\" class=\"dataframe\">\n",
       "  <thead>\n",
       "    <tr style=\"text-align: right;\">\n",
       "      <th></th>\n",
       "      <th>dataset</th>\n",
       "      <th>summary</th>\n",
       "    </tr>\n",
       "  </thead>\n",
       "  <tbody>\n",
       "    <tr>\n",
       "      <th>0</th>\n",
       "      <td>2015_01_positive</td>\n",
       "      <td>Recent developments include Johnson &amp; Johnson'...</td>\n",
       "    </tr>\n",
       "    <tr>\n",
       "      <th>1</th>\n",
       "      <td>2015_02_positive</td>\n",
       "      <td>The provided Portuguese sentences discuss vari...</td>\n",
       "    </tr>\n",
       "    <tr>\n",
       "      <th>2</th>\n",
       "      <td>2015_03_positive</td>\n",
       "      <td>The provided texts primarily discuss various v...</td>\n",
       "    </tr>\n",
       "    <tr>\n",
       "      <th>3</th>\n",
       "      <td>2015_04_positive</td>\n",
       "      <td>Recent studies highlight the efficacy and safe...</td>\n",
       "    </tr>\n",
       "    <tr>\n",
       "      <th>4</th>\n",
       "      <td>2015_05_positive</td>\n",
       "      <td>The provided sentences discuss various vaccina...</td>\n",
       "    </tr>\n",
       "    <tr>\n",
       "      <th>5</th>\n",
       "      <td>2015_06_positive</td>\n",
       "      <td>The text discusses the ongoing vaccination cam...</td>\n",
       "    </tr>\n",
       "    <tr>\n",
       "      <th>6</th>\n",
       "      <td>2015_07_positive</td>\n",
       "      <td>The text discusses various aspects of vaccinat...</td>\n",
       "    </tr>\n",
       "    <tr>\n",
       "      <th>7</th>\n",
       "      <td>2015_08_positive</td>\n",
       "      <td>The sentences discuss the importance of vaccin...</td>\n",
       "    </tr>\n",
       "    <tr>\n",
       "      <th>8</th>\n",
       "      <td>2015_09_positive</td>\n",
       "      <td>The text discusses vaccination campaigns in Br...</td>\n",
       "    </tr>\n",
       "    <tr>\n",
       "      <th>9</th>\n",
       "      <td>2015_10_positive</td>\n",
       "      <td>The text discusses various vaccination campaig...</td>\n",
       "    </tr>\n",
       "  </tbody>\n",
       "</table>\n",
       "</div>"
      ],
      "text/plain": [
       "            dataset                                            summary\n",
       "0  2015_01_positive  Recent developments include Johnson & Johnson'...\n",
       "1  2015_02_positive  The provided Portuguese sentences discuss vari...\n",
       "2  2015_03_positive  The provided texts primarily discuss various v...\n",
       "3  2015_04_positive  Recent studies highlight the efficacy and safe...\n",
       "4  2015_05_positive  The provided sentences discuss various vaccina...\n",
       "5  2015_06_positive  The text discusses the ongoing vaccination cam...\n",
       "6  2015_07_positive  The text discusses various aspects of vaccinat...\n",
       "7  2015_08_positive  The sentences discuss the importance of vaccin...\n",
       "8  2015_09_positive  The text discusses vaccination campaigns in Br...\n",
       "9  2015_10_positive  The text discusses various vaccination campaig..."
      ]
     },
     "execution_count": 156,
     "metadata": {},
     "output_type": "execute_result"
    }
   ],
   "source": [
    "df_2015_pos.tail(14)"
   ]
  },
  {
   "cell_type": "code",
   "execution_count": 157,
   "id": "c9aa4469",
   "metadata": {},
   "outputs": [
    {
     "data": {
      "text/plain": [
       "<OpenAIObject chat.completion id=chatcmpl-AUdCMxRBSxblLtD76gj9fVtobhZ9U at 0x21d87d53ae0> JSON: {\n",
       "  \"choices\": [\n",
       "    {\n",
       "      \"finish_reason\": \"stop\",\n",
       "      \"index\": 0,\n",
       "      \"logprobs\": null,\n",
       "      \"message\": {\n",
       "        \"content\": \"The text discusses various vaccination campaigns and initiatives in Brazil, highlighting the importance of vaccinations for both humans and animals. It covers topics such as free vaccinations for pets, the HPV vaccine for girls aged 9-13, anti-rabies campaigns, and advancements in vaccines against diseases like tuberculosis and dengue. The text emphasizes the need for awareness and participation in vaccination programs to prevent outbreaks and protect public health.\",\n",
       "        \"refusal\": null,\n",
       "        \"role\": \"assistant\"\n",
       "      }\n",
       "    }\n",
       "  ],\n",
       "  \"created\": 1731863882,\n",
       "  \"id\": \"chatcmpl-AUdCMxRBSxblLtD76gj9fVtobhZ9U\",\n",
       "  \"model\": \"gpt-4o-mini-2024-07-18\",\n",
       "  \"object\": \"chat.completion\",\n",
       "  \"system_fingerprint\": \"fp_9b78b61c52\",\n",
       "  \"usage\": {\n",
       "    \"completion_tokens\": 79,\n",
       "    \"completion_tokens_details\": {\n",
       "      \"accepted_prediction_tokens\": 0,\n",
       "      \"audio_tokens\": 0,\n",
       "      \"reasoning_tokens\": 0,\n",
       "      \"rejected_prediction_tokens\": 0\n",
       "    },\n",
       "    \"prompt_tokens\": 38089,\n",
       "    \"prompt_tokens_details\": {\n",
       "      \"audio_tokens\": 0,\n",
       "      \"cached_tokens\": 0\n",
       "    },\n",
       "    \"total_tokens\": 38168\n",
       "  }\n",
       "}"
      ]
     },
     "execution_count": 157,
     "metadata": {},
     "output_type": "execute_result"
    }
   ],
   "source": [
    "response"
   ]
  },
  {
   "cell_type": "markdown",
   "id": "d476f7a3",
   "metadata": {},
   "source": [
    "## November"
   ]
  },
  {
   "cell_type": "code",
   "execution_count": 158,
   "id": "63dc91c7",
   "metadata": {
    "scrolled": true,
    "tags": []
   },
   "outputs": [
    {
     "name": "stdout",
     "output_type": "stream",
     "text": [
      "<class 'pandas.core.frame.DataFrame'>\n",
      "RangeIndex: 1217 entries, 0 to 1216\n",
      "Data columns (total 53 columns):\n",
      " #   Column                  Non-Null Count  Dtype  \n",
      "---  ------                  --------------  -----  \n",
      " 0   index                   1217 non-null   int64  \n",
      " 1   LocationCode            1217 non-null   object \n",
      " 2   LocationName            1217 non-null   object \n",
      " 3   StatesCode              1217 non-null   object \n",
      " 4   ...4                    1217 non-null   int64  \n",
      " 5   id                      1217 non-null   float64\n",
      " 6   text                    1217 non-null   object \n",
      " 7   label                   1217 non-null   object \n",
      " 8   in_reply_to_status_id   55 non-null     float64\n",
      " 9   in_reply_to_user_id     65 non-null     float64\n",
      " 10  quoted_user_id          10 non-null     float64\n",
      " 11  quoted_status_id        10 non-null     float64\n",
      " 12  retweeted_user_id       358 non-null    float64\n",
      " 13  retweeted_status_id     358 non-null    float64\n",
      " 14  created_at              1217 non-null   object \n",
      " 15  entities.user_mentions  501 non-null    object \n",
      " 16  user.id                 1217 non-null   int64  \n",
      " 17  user.screen_name        1217 non-null   object \n",
      " 18  user.name               1217 non-null   object \n",
      " 19  user.description        1067 non-null   object \n",
      " 20  user.timezone           0 non-null      float64\n",
      " 21  user.location           1192 non-null   object \n",
      " 22  user.num_followers      1217 non-null   int64  \n",
      " 23  user.num_following      1217 non-null   int64  \n",
      " 24  user.created_at         1217 non-null   object \n",
      " 25  user.statuses_count     1217 non-null   int64  \n",
      " 26  user.is_verified        1217 non-null   bool   \n",
      " 27  lang                    1217 non-null   object \n",
      " 28  token_count             1217 non-null   int64  \n",
      " 29  is_retweet              1217 non-null   bool   \n",
      " 30  has_quote               1217 non-null   bool   \n",
      " 31  is_reply                1217 non-null   bool   \n",
      " 32  contains_keywords       1217 non-null   bool   \n",
      " 33  longitude               1217 non-null   float64\n",
      " 34  latitude                1217 non-null   float64\n",
      " 35  country_code            1217 non-null   object \n",
      " 36  geoname_id              1137 non-null   float64\n",
      " 37  location_type           1217 non-null   object \n",
      " 38  geo_type                1217 non-null   int64  \n",
      " 39  region                  1217 non-null   object \n",
      " 40  subregion               1217 non-null   object \n",
      " 41  num_quotes              1217 non-null   int64  \n",
      " 42  num_replies             1217 non-null   int64  \n",
      " 43  num_retweets            1217 non-null   int64  \n",
      " 44  sent_gpt                1217 non-null   object \n",
      " 45  gpt_sent_presence       1217 non-null   int64  \n",
      " 46  cleaned_text_lem        1217 non-null   object \n",
      " 47  cleaned_text            1217 non-null   object \n",
      " 48  month                   1217 non-null   int64  \n",
      " 49  year                    1217 non-null   int64  \n",
      " 50  week                    1217 non-null   int64  \n",
      " 51  year_month              1217 non-null   object \n",
      " 52  year_week               1217 non-null   object \n",
      "dtypes: bool(5), float64(11), int64(15), object(22)\n",
      "memory usage: 462.4+ KB\n"
     ]
    }
   ],
   "source": [
    "# Get monthly data\n",
    "df_2015_11_pos = pd.read_csv('../data/local/df_pos_2015-11.csv').reset_index()\n",
    "df_2015_11_pos.info()"
   ]
  },
  {
   "cell_type": "markdown",
   "id": "e44ca951",
   "metadata": {},
   "source": [
    "### Representative sample based on week and location"
   ]
  },
  {
   "cell_type": "code",
   "execution_count": 159,
   "id": "58f0a8ff",
   "metadata": {},
   "outputs": [
    {
     "data": {
      "text/html": [
       "<div>\n",
       "<style scoped>\n",
       "    .dataframe tbody tr th:only-of-type {\n",
       "        vertical-align: middle;\n",
       "    }\n",
       "\n",
       "    .dataframe tbody tr th {\n",
       "        vertical-align: top;\n",
       "    }\n",
       "\n",
       "    .dataframe thead th {\n",
       "        text-align: right;\n",
       "    }\n",
       "</style>\n",
       "<table border=\"1\" class=\"dataframe\">\n",
       "  <thead>\n",
       "    <tr style=\"text-align: right;\">\n",
       "      <th></th>\n",
       "      <th>year_week</th>\n",
       "      <th>LocationName</th>\n",
       "      <th>group_size</th>\n",
       "      <th>proportion</th>\n",
       "    </tr>\n",
       "  </thead>\n",
       "  <tbody>\n",
       "    <tr>\n",
       "      <th>0</th>\n",
       "      <td>2015-w44</td>\n",
       "      <td>Acre</td>\n",
       "      <td>1</td>\n",
       "      <td>0.000822</td>\n",
       "    </tr>\n",
       "    <tr>\n",
       "      <th>1</th>\n",
       "      <td>2015-w44</td>\n",
       "      <td>Amazonas</td>\n",
       "      <td>6</td>\n",
       "      <td>0.004930</td>\n",
       "    </tr>\n",
       "    <tr>\n",
       "      <th>2</th>\n",
       "      <td>2015-w44</td>\n",
       "      <td>Bahia</td>\n",
       "      <td>9</td>\n",
       "      <td>0.007395</td>\n",
       "    </tr>\n",
       "    <tr>\n",
       "      <th>3</th>\n",
       "      <td>2015-w44</td>\n",
       "      <td>Ceara</td>\n",
       "      <td>4</td>\n",
       "      <td>0.003287</td>\n",
       "    </tr>\n",
       "    <tr>\n",
       "      <th>4</th>\n",
       "      <td>2015-w44</td>\n",
       "      <td>Distrito Federal</td>\n",
       "      <td>10</td>\n",
       "      <td>0.008217</td>\n",
       "    </tr>\n",
       "    <tr>\n",
       "      <th>...</th>\n",
       "      <td>...</td>\n",
       "      <td>...</td>\n",
       "      <td>...</td>\n",
       "      <td>...</td>\n",
       "    </tr>\n",
       "    <tr>\n",
       "      <th>97</th>\n",
       "      <td>2015-w48</td>\n",
       "      <td>Rondonia</td>\n",
       "      <td>1</td>\n",
       "      <td>0.000822</td>\n",
       "    </tr>\n",
       "    <tr>\n",
       "      <th>98</th>\n",
       "      <td>2015-w48</td>\n",
       "      <td>Roraima</td>\n",
       "      <td>2</td>\n",
       "      <td>0.001643</td>\n",
       "    </tr>\n",
       "    <tr>\n",
       "      <th>99</th>\n",
       "      <td>2015-w48</td>\n",
       "      <td>Santa Catarina</td>\n",
       "      <td>3</td>\n",
       "      <td>0.002465</td>\n",
       "    </tr>\n",
       "    <tr>\n",
       "      <th>100</th>\n",
       "      <td>2015-w48</td>\n",
       "      <td>Sao Paulo</td>\n",
       "      <td>33</td>\n",
       "      <td>0.027116</td>\n",
       "    </tr>\n",
       "    <tr>\n",
       "      <th>101</th>\n",
       "      <td>2015-w48</td>\n",
       "      <td>Sergipe</td>\n",
       "      <td>1</td>\n",
       "      <td>0.000822</td>\n",
       "    </tr>\n",
       "  </tbody>\n",
       "</table>\n",
       "<p>102 rows × 4 columns</p>\n",
       "</div>"
      ],
      "text/plain": [
       "    year_week      LocationName  group_size  proportion\n",
       "0    2015-w44              Acre           1    0.000822\n",
       "1    2015-w44          Amazonas           6    0.004930\n",
       "2    2015-w44             Bahia           9    0.007395\n",
       "3    2015-w44             Ceara           4    0.003287\n",
       "4    2015-w44  Distrito Federal          10    0.008217\n",
       "..        ...               ...         ...         ...\n",
       "97   2015-w48          Rondonia           1    0.000822\n",
       "98   2015-w48           Roraima           2    0.001643\n",
       "99   2015-w48    Santa Catarina           3    0.002465\n",
       "100  2015-w48         Sao Paulo          33    0.027116\n",
       "101  2015-w48           Sergipe           1    0.000822\n",
       "\n",
       "[102 rows x 4 columns]"
      ]
     },
     "execution_count": 159,
     "metadata": {},
     "output_type": "execute_result"
    }
   ],
   "source": [
    "# Step 1: Calculate the size of each group (year_week, LocationName)\n",
    "group_sizes = df_2015_11_pos.groupby(['year_week', 'LocationName']).size().reset_index(name='group_size')\n",
    "\n",
    "# Step 2: Calculate the proportion of each group in the dataset\n",
    "total_rows = len(df_2015_11_pos)\n",
    "group_sizes['proportion'] = group_sizes['group_size'] / total_rows\n",
    "group_sizes"
   ]
  },
  {
   "cell_type": "code",
   "execution_count": 160,
   "id": "52c7e839",
   "metadata": {},
   "outputs": [
    {
     "data": {
      "text/html": [
       "<div>\n",
       "<style scoped>\n",
       "    .dataframe tbody tr th:only-of-type {\n",
       "        vertical-align: middle;\n",
       "    }\n",
       "\n",
       "    .dataframe tbody tr th {\n",
       "        vertical-align: top;\n",
       "    }\n",
       "\n",
       "    .dataframe thead th {\n",
       "        text-align: right;\n",
       "    }\n",
       "</style>\n",
       "<table border=\"1\" class=\"dataframe\">\n",
       "  <thead>\n",
       "    <tr style=\"text-align: right;\">\n",
       "      <th></th>\n",
       "      <th>year_week</th>\n",
       "      <th>LocationName</th>\n",
       "      <th>group_size</th>\n",
       "      <th>proportion</th>\n",
       "      <th>sample_size</th>\n",
       "    </tr>\n",
       "  </thead>\n",
       "  <tbody>\n",
       "    <tr>\n",
       "      <th>0</th>\n",
       "      <td>2015-w44</td>\n",
       "      <td>Acre</td>\n",
       "      <td>1</td>\n",
       "      <td>0.000822</td>\n",
       "      <td>2</td>\n",
       "    </tr>\n",
       "    <tr>\n",
       "      <th>1</th>\n",
       "      <td>2015-w44</td>\n",
       "      <td>Amazonas</td>\n",
       "      <td>6</td>\n",
       "      <td>0.004930</td>\n",
       "      <td>12</td>\n",
       "    </tr>\n",
       "    <tr>\n",
       "      <th>2</th>\n",
       "      <td>2015-w44</td>\n",
       "      <td>Bahia</td>\n",
       "      <td>9</td>\n",
       "      <td>0.007395</td>\n",
       "      <td>18</td>\n",
       "    </tr>\n",
       "    <tr>\n",
       "      <th>3</th>\n",
       "      <td>2015-w44</td>\n",
       "      <td>Ceara</td>\n",
       "      <td>4</td>\n",
       "      <td>0.003287</td>\n",
       "      <td>8</td>\n",
       "    </tr>\n",
       "    <tr>\n",
       "      <th>4</th>\n",
       "      <td>2015-w44</td>\n",
       "      <td>Distrito Federal</td>\n",
       "      <td>10</td>\n",
       "      <td>0.008217</td>\n",
       "      <td>20</td>\n",
       "    </tr>\n",
       "    <tr>\n",
       "      <th>...</th>\n",
       "      <td>...</td>\n",
       "      <td>...</td>\n",
       "      <td>...</td>\n",
       "      <td>...</td>\n",
       "      <td>...</td>\n",
       "    </tr>\n",
       "    <tr>\n",
       "      <th>97</th>\n",
       "      <td>2015-w48</td>\n",
       "      <td>Rondonia</td>\n",
       "      <td>1</td>\n",
       "      <td>0.000822</td>\n",
       "      <td>2</td>\n",
       "    </tr>\n",
       "    <tr>\n",
       "      <th>98</th>\n",
       "      <td>2015-w48</td>\n",
       "      <td>Roraima</td>\n",
       "      <td>2</td>\n",
       "      <td>0.001643</td>\n",
       "      <td>4</td>\n",
       "    </tr>\n",
       "    <tr>\n",
       "      <th>99</th>\n",
       "      <td>2015-w48</td>\n",
       "      <td>Santa Catarina</td>\n",
       "      <td>3</td>\n",
       "      <td>0.002465</td>\n",
       "      <td>6</td>\n",
       "    </tr>\n",
       "    <tr>\n",
       "      <th>100</th>\n",
       "      <td>2015-w48</td>\n",
       "      <td>Sao Paulo</td>\n",
       "      <td>33</td>\n",
       "      <td>0.027116</td>\n",
       "      <td>66</td>\n",
       "    </tr>\n",
       "    <tr>\n",
       "      <th>101</th>\n",
       "      <td>2015-w48</td>\n",
       "      <td>Sergipe</td>\n",
       "      <td>1</td>\n",
       "      <td>0.000822</td>\n",
       "      <td>2</td>\n",
       "    </tr>\n",
       "  </tbody>\n",
       "</table>\n",
       "<p>102 rows × 5 columns</p>\n",
       "</div>"
      ],
      "text/plain": [
       "    year_week      LocationName  group_size  proportion  sample_size\n",
       "0    2015-w44              Acre           1    0.000822            2\n",
       "1    2015-w44          Amazonas           6    0.004930           12\n",
       "2    2015-w44             Bahia           9    0.007395           18\n",
       "3    2015-w44             Ceara           4    0.003287            8\n",
       "4    2015-w44  Distrito Federal          10    0.008217           20\n",
       "..        ...               ...         ...         ...          ...\n",
       "97   2015-w48          Rondonia           1    0.000822            2\n",
       "98   2015-w48           Roraima           2    0.001643            4\n",
       "99   2015-w48    Santa Catarina           3    0.002465            6\n",
       "100  2015-w48         Sao Paulo          33    0.027116           66\n",
       "101  2015-w48           Sergipe           1    0.000822            2\n",
       "\n",
       "[102 rows x 5 columns]"
      ]
     },
     "execution_count": 160,
     "metadata": {},
     "output_type": "execute_result"
    }
   ],
   "source": [
    "# Step 3: Define the target sample size\n",
    "target_sample_size = 2450\n",
    "\n",
    "# Step 4: Calculate the sample size for each group (based on its proportion)\n",
    "group_sizes['sample_size'] = np.floor(group_sizes['proportion'] * target_sample_size).astype(int)\n",
    "group_sizes"
   ]
  },
  {
   "cell_type": "code",
   "execution_count": 161,
   "id": "47bfacf4",
   "metadata": {},
   "outputs": [],
   "source": [
    "# Step 5: Merge this sample size information back to the original DataFrame\n",
    "df_2015_11_pos_sample_size = pd.merge(df_2015_11_pos, group_sizes[['year_week', 'LocationName', 'sample_size']], \n",
    "                               on=['year_week', 'LocationName'], how='left')"
   ]
  },
  {
   "cell_type": "code",
   "execution_count": 162,
   "id": "3127c68e",
   "metadata": {},
   "outputs": [
    {
     "name": "stdout",
     "output_type": "stream",
     "text": [
      "Sampled 1217 rows.\n"
     ]
    }
   ],
   "source": [
    "# Step 6: Perform the stratified sampling\n",
    "#df_2015_11_pos_sample = df_2015_11_pos_sample_size.groupby(['year_week', 'LocationName']).apply(\n",
    " #   lambda group: group.sample(n=group['sample_size'].iloc[0], random_state=42)\n",
    "#).reset_index(drop=True)\n",
    "df_2015_11_pos_sample = df_2015_11_pos\n",
    "# Step 7: Check the result\n",
    "print(f\"Sampled {len(df_2015_11_pos_sample)} rows.\")\n"
   ]
  },
  {
   "cell_type": "code",
   "execution_count": 163,
   "id": "a5fc3ad1",
   "metadata": {},
   "outputs": [],
   "source": [
    "text_gpt_2015_11_pos = '\\n'.join(df_2015_11_pos_sample['text'].astype(str))"
   ]
  },
  {
   "cell_type": "markdown",
   "id": "8df94c41",
   "metadata": {},
   "source": [
    "### Prompts and loops"
   ]
  },
  {
   "cell_type": "code",
   "execution_count": 164,
   "id": "b2c43f66",
   "metadata": {},
   "outputs": [],
   "source": [
    "prompt_11 = prompt_raw.replace('TWEETS', text_gpt_2015_11_pos)"
   ]
  },
  {
   "cell_type": "code",
   "execution_count": 165,
   "id": "87bbf147",
   "metadata": {
    "scrolled": false
   },
   "outputs": [],
   "source": [
    "response = openai.ChatCompletion.create(\n",
    "    model=\"gpt-4o-mini\",  \n",
    "    messages = [\n",
    "        {\"role\": \"user\", \"content\": prompt_11}\n",
    "    ],\n",
    "    max_tokens=400,  # Maximum number of tokens in the response\n",
    "    temperature=0.7  # Controls the randomness of the output\n",
    ")"
   ]
  },
  {
   "cell_type": "code",
   "execution_count": 166,
   "id": "99d409e9",
   "metadata": {},
   "outputs": [
    {
     "data": {
      "text/plain": [
       "'The text discusses various aspects of vaccination, highlighting the importance of immunization against diseases for both humans and animals. It mentions new vaccines, such as the first lung cancer vaccine developed in Cuba, and ongoing vaccination campaigns against rabies, HPV, and foot-and-mouth disease. There are also references to the effectiveness and necessity of vaccinations in public health strategies to prevent diseases. Additionally, it emphasizes the role of vaccines in protecting both individual and community health.'"
      ]
     },
     "execution_count": 166,
     "metadata": {},
     "output_type": "execute_result"
    }
   ],
   "source": [
    "response.choices[0].message.content"
   ]
  },
  {
   "cell_type": "code",
   "execution_count": 167,
   "id": "c1cb7d55",
   "metadata": {},
   "outputs": [],
   "source": [
    "#summary = []\n",
    "#dataset = []"
   ]
  },
  {
   "cell_type": "code",
   "execution_count": 168,
   "id": "0b5f7bbc",
   "metadata": {},
   "outputs": [],
   "source": [
    "dataset.append(\"2015_11_positive\")"
   ]
  },
  {
   "cell_type": "code",
   "execution_count": 169,
   "id": "25b7e5ff",
   "metadata": {},
   "outputs": [],
   "source": [
    "summary.append(response.choices[0].message.content)"
   ]
  },
  {
   "cell_type": "code",
   "execution_count": 170,
   "id": "10f2f273",
   "metadata": {
    "tags": []
   },
   "outputs": [
    {
     "name": "stdout",
     "output_type": "stream",
     "text": [
      "<class 'pandas.core.frame.DataFrame'>\n",
      "RangeIndex: 11 entries, 0 to 10\n",
      "Data columns (total 2 columns):\n",
      " #   Column   Non-Null Count  Dtype \n",
      "---  ------   --------------  ----- \n",
      " 0   dataset  11 non-null     object\n",
      " 1   summary  11 non-null     object\n",
      "dtypes: object(2)\n",
      "memory usage: 304.0+ bytes\n"
     ]
    }
   ],
   "source": [
    "df_2015_pos = pd.DataFrame(list(zip(dataset, summary)),\n",
    "                            columns = ['dataset', 'summary'])\n",
    "df_2015_pos.info()"
   ]
  },
  {
   "cell_type": "code",
   "execution_count": 171,
   "id": "89ced529",
   "metadata": {},
   "outputs": [
    {
     "data": {
      "text/html": [
       "<div>\n",
       "<style scoped>\n",
       "    .dataframe tbody tr th:only-of-type {\n",
       "        vertical-align: middle;\n",
       "    }\n",
       "\n",
       "    .dataframe tbody tr th {\n",
       "        vertical-align: top;\n",
       "    }\n",
       "\n",
       "    .dataframe thead th {\n",
       "        text-align: right;\n",
       "    }\n",
       "</style>\n",
       "<table border=\"1\" class=\"dataframe\">\n",
       "  <thead>\n",
       "    <tr style=\"text-align: right;\">\n",
       "      <th></th>\n",
       "      <th>dataset</th>\n",
       "      <th>summary</th>\n",
       "    </tr>\n",
       "  </thead>\n",
       "  <tbody>\n",
       "    <tr>\n",
       "      <th>0</th>\n",
       "      <td>2015_01_positive</td>\n",
       "      <td>Recent developments include Johnson &amp; Johnson'...</td>\n",
       "    </tr>\n",
       "    <tr>\n",
       "      <th>1</th>\n",
       "      <td>2015_02_positive</td>\n",
       "      <td>The provided Portuguese sentences discuss vari...</td>\n",
       "    </tr>\n",
       "    <tr>\n",
       "      <th>2</th>\n",
       "      <td>2015_03_positive</td>\n",
       "      <td>The provided texts primarily discuss various v...</td>\n",
       "    </tr>\n",
       "    <tr>\n",
       "      <th>3</th>\n",
       "      <td>2015_04_positive</td>\n",
       "      <td>Recent studies highlight the efficacy and safe...</td>\n",
       "    </tr>\n",
       "    <tr>\n",
       "      <th>4</th>\n",
       "      <td>2015_05_positive</td>\n",
       "      <td>The provided sentences discuss various vaccina...</td>\n",
       "    </tr>\n",
       "    <tr>\n",
       "      <th>5</th>\n",
       "      <td>2015_06_positive</td>\n",
       "      <td>The text discusses the ongoing vaccination cam...</td>\n",
       "    </tr>\n",
       "    <tr>\n",
       "      <th>6</th>\n",
       "      <td>2015_07_positive</td>\n",
       "      <td>The text discusses various aspects of vaccinat...</td>\n",
       "    </tr>\n",
       "    <tr>\n",
       "      <th>7</th>\n",
       "      <td>2015_08_positive</td>\n",
       "      <td>The sentences discuss the importance of vaccin...</td>\n",
       "    </tr>\n",
       "    <tr>\n",
       "      <th>8</th>\n",
       "      <td>2015_09_positive</td>\n",
       "      <td>The text discusses vaccination campaigns in Br...</td>\n",
       "    </tr>\n",
       "    <tr>\n",
       "      <th>9</th>\n",
       "      <td>2015_10_positive</td>\n",
       "      <td>The text discusses various vaccination campaig...</td>\n",
       "    </tr>\n",
       "    <tr>\n",
       "      <th>10</th>\n",
       "      <td>2015_11_positive</td>\n",
       "      <td>The text discusses various aspects of vaccinat...</td>\n",
       "    </tr>\n",
       "  </tbody>\n",
       "</table>\n",
       "</div>"
      ],
      "text/plain": [
       "             dataset                                            summary\n",
       "0   2015_01_positive  Recent developments include Johnson & Johnson'...\n",
       "1   2015_02_positive  The provided Portuguese sentences discuss vari...\n",
       "2   2015_03_positive  The provided texts primarily discuss various v...\n",
       "3   2015_04_positive  Recent studies highlight the efficacy and safe...\n",
       "4   2015_05_positive  The provided sentences discuss various vaccina...\n",
       "5   2015_06_positive  The text discusses the ongoing vaccination cam...\n",
       "6   2015_07_positive  The text discusses various aspects of vaccinat...\n",
       "7   2015_08_positive  The sentences discuss the importance of vaccin...\n",
       "8   2015_09_positive  The text discusses vaccination campaigns in Br...\n",
       "9   2015_10_positive  The text discusses various vaccination campaig...\n",
       "10  2015_11_positive  The text discusses various aspects of vaccinat..."
      ]
     },
     "execution_count": 171,
     "metadata": {},
     "output_type": "execute_result"
    }
   ],
   "source": [
    "df_2015_pos.tail(14)"
   ]
  },
  {
   "cell_type": "code",
   "execution_count": 172,
   "id": "952c4bca",
   "metadata": {},
   "outputs": [
    {
     "data": {
      "text/plain": [
       "<OpenAIObject chat.completion id=chatcmpl-AUdCSEJznWkPlpW00HklWwA7UCdgZ at 0x21d87eb9c70> JSON: {\n",
       "  \"choices\": [\n",
       "    {\n",
       "      \"finish_reason\": \"stop\",\n",
       "      \"index\": 0,\n",
       "      \"logprobs\": null,\n",
       "      \"message\": {\n",
       "        \"content\": \"The text discusses various aspects of vaccination, highlighting the importance of immunization against diseases for both humans and animals. It mentions new vaccines, such as the first lung cancer vaccine developed in Cuba, and ongoing vaccination campaigns against rabies, HPV, and foot-and-mouth disease. There are also references to the effectiveness and necessity of vaccinations in public health strategies to prevent diseases. Additionally, it emphasizes the role of vaccines in protecting both individual and community health.\",\n",
       "        \"refusal\": null,\n",
       "        \"role\": \"assistant\"\n",
       "      }\n",
       "    }\n",
       "  ],\n",
       "  \"created\": 1731863888,\n",
       "  \"id\": \"chatcmpl-AUdCSEJznWkPlpW00HklWwA7UCdgZ\",\n",
       "  \"model\": \"gpt-4o-mini-2024-07-18\",\n",
       "  \"object\": \"chat.completion\",\n",
       "  \"system_fingerprint\": \"fp_0ba0d124f1\",\n",
       "  \"usage\": {\n",
       "    \"completion_tokens\": 89,\n",
       "    \"completion_tokens_details\": {\n",
       "      \"accepted_prediction_tokens\": 0,\n",
       "      \"audio_tokens\": 0,\n",
       "      \"reasoning_tokens\": 0,\n",
       "      \"rejected_prediction_tokens\": 0\n",
       "    },\n",
       "    \"prompt_tokens\": 26454,\n",
       "    \"prompt_tokens_details\": {\n",
       "      \"audio_tokens\": 0,\n",
       "      \"cached_tokens\": 0\n",
       "    },\n",
       "    \"total_tokens\": 26543\n",
       "  }\n",
       "}"
      ]
     },
     "execution_count": 172,
     "metadata": {},
     "output_type": "execute_result"
    }
   ],
   "source": [
    "response"
   ]
  },
  {
   "cell_type": "markdown",
   "id": "46613a39",
   "metadata": {},
   "source": [
    "## December"
   ]
  },
  {
   "cell_type": "code",
   "execution_count": 173,
   "id": "3f6bde3b",
   "metadata": {
    "scrolled": true,
    "tags": []
   },
   "outputs": [
    {
     "name": "stdout",
     "output_type": "stream",
     "text": [
      "<class 'pandas.core.frame.DataFrame'>\n",
      "RangeIndex: 2577 entries, 0 to 2576\n",
      "Data columns (total 53 columns):\n",
      " #   Column                  Non-Null Count  Dtype  \n",
      "---  ------                  --------------  -----  \n",
      " 0   index                   2577 non-null   int64  \n",
      " 1   LocationCode            2577 non-null   object \n",
      " 2   LocationName            2577 non-null   object \n",
      " 3   StatesCode              2577 non-null   object \n",
      " 4   ...4                    2577 non-null   int64  \n",
      " 5   id                      2577 non-null   float64\n",
      " 6   text                    2577 non-null   object \n",
      " 7   label                   2577 non-null   object \n",
      " 8   in_reply_to_status_id   68 non-null     float64\n",
      " 9   in_reply_to_user_id     77 non-null     float64\n",
      " 10  quoted_user_id          18 non-null     float64\n",
      " 11  quoted_status_id        18 non-null     float64\n",
      " 12  retweeted_user_id       967 non-null    float64\n",
      " 13  retweeted_status_id     967 non-null    float64\n",
      " 14  created_at              2577 non-null   object \n",
      " 15  entities.user_mentions  1164 non-null   object \n",
      " 16  user.id                 2577 non-null   int64  \n",
      " 17  user.screen_name        2577 non-null   object \n",
      " 18  user.name               2577 non-null   object \n",
      " 19  user.description        2231 non-null   object \n",
      " 20  user.timezone           0 non-null      float64\n",
      " 21  user.location           2559 non-null   object \n",
      " 22  user.num_followers      2577 non-null   int64  \n",
      " 23  user.num_following      2577 non-null   int64  \n",
      " 24  user.created_at         2577 non-null   object \n",
      " 25  user.statuses_count     2577 non-null   int64  \n",
      " 26  user.is_verified        2577 non-null   bool   \n",
      " 27  lang                    2577 non-null   object \n",
      " 28  token_count             2577 non-null   int64  \n",
      " 29  is_retweet              2577 non-null   bool   \n",
      " 30  has_quote               2577 non-null   bool   \n",
      " 31  is_reply                2577 non-null   bool   \n",
      " 32  contains_keywords       2577 non-null   bool   \n",
      " 33  longitude               2577 non-null   float64\n",
      " 34  latitude                2577 non-null   float64\n",
      " 35  country_code            2577 non-null   object \n",
      " 36  geoname_id              2482 non-null   float64\n",
      " 37  location_type           2577 non-null   object \n",
      " 38  geo_type                2577 non-null   int64  \n",
      " 39  region                  2577 non-null   object \n",
      " 40  subregion               2577 non-null   object \n",
      " 41  num_quotes              2577 non-null   int64  \n",
      " 42  num_replies             2577 non-null   int64  \n",
      " 43  num_retweets            2577 non-null   int64  \n",
      " 44  sent_gpt                2577 non-null   object \n",
      " 45  gpt_sent_presence       2577 non-null   int64  \n",
      " 46  cleaned_text_lem        2577 non-null   object \n",
      " 47  cleaned_text            2577 non-null   object \n",
      " 48  month                   2577 non-null   int64  \n",
      " 49  year                    2577 non-null   int64  \n",
      " 50  week                    2577 non-null   int64  \n",
      " 51  year_month              2577 non-null   object \n",
      " 52  year_week               2577 non-null   object \n",
      "dtypes: bool(5), float64(11), int64(15), object(22)\n",
      "memory usage: 979.1+ KB\n"
     ]
    }
   ],
   "source": [
    "# Get monthly data\n",
    "df_2015_12_pos = pd.read_csv('../data/local/df_pos_2015-12.csv').reset_index()\n",
    "df_2015_12_pos.info()"
   ]
  },
  {
   "cell_type": "markdown",
   "id": "4658d918",
   "metadata": {},
   "source": [
    "### Representative sample based on week and location"
   ]
  },
  {
   "cell_type": "code",
   "execution_count": 174,
   "id": "fcdbb1e9",
   "metadata": {},
   "outputs": [
    {
     "data": {
      "text/html": [
       "<div>\n",
       "<style scoped>\n",
       "    .dataframe tbody tr th:only-of-type {\n",
       "        vertical-align: middle;\n",
       "    }\n",
       "\n",
       "    .dataframe tbody tr th {\n",
       "        vertical-align: top;\n",
       "    }\n",
       "\n",
       "    .dataframe thead th {\n",
       "        text-align: right;\n",
       "    }\n",
       "</style>\n",
       "<table border=\"1\" class=\"dataframe\">\n",
       "  <thead>\n",
       "    <tr style=\"text-align: right;\">\n",
       "      <th></th>\n",
       "      <th>year_week</th>\n",
       "      <th>LocationName</th>\n",
       "      <th>group_size</th>\n",
       "      <th>proportion</th>\n",
       "    </tr>\n",
       "  </thead>\n",
       "  <tbody>\n",
       "    <tr>\n",
       "      <th>0</th>\n",
       "      <td>2015-w48</td>\n",
       "      <td>Amazonas</td>\n",
       "      <td>3</td>\n",
       "      <td>0.001164</td>\n",
       "    </tr>\n",
       "    <tr>\n",
       "      <th>1</th>\n",
       "      <td>2015-w48</td>\n",
       "      <td>Bahia</td>\n",
       "      <td>5</td>\n",
       "      <td>0.001940</td>\n",
       "    </tr>\n",
       "    <tr>\n",
       "      <th>2</th>\n",
       "      <td>2015-w48</td>\n",
       "      <td>Ceara</td>\n",
       "      <td>4</td>\n",
       "      <td>0.001552</td>\n",
       "    </tr>\n",
       "    <tr>\n",
       "      <th>3</th>\n",
       "      <td>2015-w48</td>\n",
       "      <td>Distrito Federal</td>\n",
       "      <td>3</td>\n",
       "      <td>0.001164</td>\n",
       "    </tr>\n",
       "    <tr>\n",
       "      <th>4</th>\n",
       "      <td>2015-w48</td>\n",
       "      <td>Espirito Santo</td>\n",
       "      <td>1</td>\n",
       "      <td>0.000388</td>\n",
       "    </tr>\n",
       "    <tr>\n",
       "      <th>...</th>\n",
       "      <td>...</td>\n",
       "      <td>...</td>\n",
       "      <td>...</td>\n",
       "      <td>...</td>\n",
       "    </tr>\n",
       "    <tr>\n",
       "      <th>112</th>\n",
       "      <td>2015-w53</td>\n",
       "      <td>Mato Grosso Do Sul</td>\n",
       "      <td>2</td>\n",
       "      <td>0.000776</td>\n",
       "    </tr>\n",
       "    <tr>\n",
       "      <th>113</th>\n",
       "      <td>2015-w53</td>\n",
       "      <td>Minas Gerais</td>\n",
       "      <td>9</td>\n",
       "      <td>0.003492</td>\n",
       "    </tr>\n",
       "    <tr>\n",
       "      <th>114</th>\n",
       "      <td>2015-w53</td>\n",
       "      <td>Paraiba</td>\n",
       "      <td>2</td>\n",
       "      <td>0.000776</td>\n",
       "    </tr>\n",
       "    <tr>\n",
       "      <th>115</th>\n",
       "      <td>2015-w53</td>\n",
       "      <td>Parana</td>\n",
       "      <td>1</td>\n",
       "      <td>0.000388</td>\n",
       "    </tr>\n",
       "    <tr>\n",
       "      <th>116</th>\n",
       "      <td>2015-w53</td>\n",
       "      <td>Sao Paulo</td>\n",
       "      <td>9</td>\n",
       "      <td>0.003492</td>\n",
       "    </tr>\n",
       "  </tbody>\n",
       "</table>\n",
       "<p>117 rows × 4 columns</p>\n",
       "</div>"
      ],
      "text/plain": [
       "    year_week        LocationName  group_size  proportion\n",
       "0    2015-w48            Amazonas           3    0.001164\n",
       "1    2015-w48               Bahia           5    0.001940\n",
       "2    2015-w48               Ceara           4    0.001552\n",
       "3    2015-w48    Distrito Federal           3    0.001164\n",
       "4    2015-w48      Espirito Santo           1    0.000388\n",
       "..        ...                 ...         ...         ...\n",
       "112  2015-w53  Mato Grosso Do Sul           2    0.000776\n",
       "113  2015-w53        Minas Gerais           9    0.003492\n",
       "114  2015-w53             Paraiba           2    0.000776\n",
       "115  2015-w53              Parana           1    0.000388\n",
       "116  2015-w53           Sao Paulo           9    0.003492\n",
       "\n",
       "[117 rows x 4 columns]"
      ]
     },
     "execution_count": 174,
     "metadata": {},
     "output_type": "execute_result"
    }
   ],
   "source": [
    "# Step 1: Calculate the size of each group (year_week, LocationName)\n",
    "group_sizes = df_2015_12_pos.groupby(['year_week', 'LocationName']).size().reset_index(name='group_size')\n",
    "\n",
    "# Step 2: Calculate the proportion of each group in the dataset\n",
    "total_rows = len(df_2015_12_pos)\n",
    "group_sizes['proportion'] = group_sizes['group_size'] / total_rows\n",
    "group_sizes"
   ]
  },
  {
   "cell_type": "code",
   "execution_count": 175,
   "id": "bbf24049",
   "metadata": {},
   "outputs": [
    {
     "data": {
      "text/html": [
       "<div>\n",
       "<style scoped>\n",
       "    .dataframe tbody tr th:only-of-type {\n",
       "        vertical-align: middle;\n",
       "    }\n",
       "\n",
       "    .dataframe tbody tr th {\n",
       "        vertical-align: top;\n",
       "    }\n",
       "\n",
       "    .dataframe thead th {\n",
       "        text-align: right;\n",
       "    }\n",
       "</style>\n",
       "<table border=\"1\" class=\"dataframe\">\n",
       "  <thead>\n",
       "    <tr style=\"text-align: right;\">\n",
       "      <th></th>\n",
       "      <th>year_week</th>\n",
       "      <th>LocationName</th>\n",
       "      <th>group_size</th>\n",
       "      <th>proportion</th>\n",
       "      <th>sample_size</th>\n",
       "    </tr>\n",
       "  </thead>\n",
       "  <tbody>\n",
       "    <tr>\n",
       "      <th>0</th>\n",
       "      <td>2015-w48</td>\n",
       "      <td>Amazonas</td>\n",
       "      <td>3</td>\n",
       "      <td>0.001164</td>\n",
       "      <td>2</td>\n",
       "    </tr>\n",
       "    <tr>\n",
       "      <th>1</th>\n",
       "      <td>2015-w48</td>\n",
       "      <td>Bahia</td>\n",
       "      <td>5</td>\n",
       "      <td>0.001940</td>\n",
       "      <td>4</td>\n",
       "    </tr>\n",
       "    <tr>\n",
       "      <th>2</th>\n",
       "      <td>2015-w48</td>\n",
       "      <td>Ceara</td>\n",
       "      <td>4</td>\n",
       "      <td>0.001552</td>\n",
       "      <td>3</td>\n",
       "    </tr>\n",
       "    <tr>\n",
       "      <th>3</th>\n",
       "      <td>2015-w48</td>\n",
       "      <td>Distrito Federal</td>\n",
       "      <td>3</td>\n",
       "      <td>0.001164</td>\n",
       "      <td>2</td>\n",
       "    </tr>\n",
       "    <tr>\n",
       "      <th>4</th>\n",
       "      <td>2015-w48</td>\n",
       "      <td>Espirito Santo</td>\n",
       "      <td>1</td>\n",
       "      <td>0.000388</td>\n",
       "      <td>0</td>\n",
       "    </tr>\n",
       "    <tr>\n",
       "      <th>...</th>\n",
       "      <td>...</td>\n",
       "      <td>...</td>\n",
       "      <td>...</td>\n",
       "      <td>...</td>\n",
       "      <td>...</td>\n",
       "    </tr>\n",
       "    <tr>\n",
       "      <th>112</th>\n",
       "      <td>2015-w53</td>\n",
       "      <td>Mato Grosso Do Sul</td>\n",
       "      <td>2</td>\n",
       "      <td>0.000776</td>\n",
       "      <td>1</td>\n",
       "    </tr>\n",
       "    <tr>\n",
       "      <th>113</th>\n",
       "      <td>2015-w53</td>\n",
       "      <td>Minas Gerais</td>\n",
       "      <td>9</td>\n",
       "      <td>0.003492</td>\n",
       "      <td>8</td>\n",
       "    </tr>\n",
       "    <tr>\n",
       "      <th>114</th>\n",
       "      <td>2015-w53</td>\n",
       "      <td>Paraiba</td>\n",
       "      <td>2</td>\n",
       "      <td>0.000776</td>\n",
       "      <td>1</td>\n",
       "    </tr>\n",
       "    <tr>\n",
       "      <th>115</th>\n",
       "      <td>2015-w53</td>\n",
       "      <td>Parana</td>\n",
       "      <td>1</td>\n",
       "      <td>0.000388</td>\n",
       "      <td>0</td>\n",
       "    </tr>\n",
       "    <tr>\n",
       "      <th>116</th>\n",
       "      <td>2015-w53</td>\n",
       "      <td>Sao Paulo</td>\n",
       "      <td>9</td>\n",
       "      <td>0.003492</td>\n",
       "      <td>8</td>\n",
       "    </tr>\n",
       "  </tbody>\n",
       "</table>\n",
       "<p>117 rows × 5 columns</p>\n",
       "</div>"
      ],
      "text/plain": [
       "    year_week        LocationName  group_size  proportion  sample_size\n",
       "0    2015-w48            Amazonas           3    0.001164            2\n",
       "1    2015-w48               Bahia           5    0.001940            4\n",
       "2    2015-w48               Ceara           4    0.001552            3\n",
       "3    2015-w48    Distrito Federal           3    0.001164            2\n",
       "4    2015-w48      Espirito Santo           1    0.000388            0\n",
       "..        ...                 ...         ...         ...          ...\n",
       "112  2015-w53  Mato Grosso Do Sul           2    0.000776            1\n",
       "113  2015-w53        Minas Gerais           9    0.003492            8\n",
       "114  2015-w53             Paraiba           2    0.000776            1\n",
       "115  2015-w53              Parana           1    0.000388            0\n",
       "116  2015-w53           Sao Paulo           9    0.003492            8\n",
       "\n",
       "[117 rows x 5 columns]"
      ]
     },
     "execution_count": 175,
     "metadata": {},
     "output_type": "execute_result"
    }
   ],
   "source": [
    "# Step 3: Define the target sample size\n",
    "target_sample_size = 2450\n",
    "\n",
    "# Step 4: Calculate the sample size for each group (based on its proportion)\n",
    "group_sizes['sample_size'] = np.floor(group_sizes['proportion'] * target_sample_size).astype(int)\n",
    "group_sizes"
   ]
  },
  {
   "cell_type": "code",
   "execution_count": 176,
   "id": "c207c408",
   "metadata": {},
   "outputs": [],
   "source": [
    "# Step 5: Merge this sample size information back to the original DataFrame\n",
    "df_2015_12_pos_sample_size = pd.merge(df_2015_12_pos, group_sizes[['year_week', 'LocationName', 'sample_size']], \n",
    "                               on=['year_week', 'LocationName'], how='left')"
   ]
  },
  {
   "cell_type": "code",
   "execution_count": 177,
   "id": "66d74acb",
   "metadata": {},
   "outputs": [
    {
     "name": "stdout",
     "output_type": "stream",
     "text": [
      "Sampled 2577 rows.\n"
     ]
    }
   ],
   "source": [
    "# Step 6: Perform the stratified sampling\n",
    "#df_2015_12_pos_sample = df_2015_12_pos_sample_size.groupby(['year_week', 'LocationName']).apply(\n",
    " #   lambda group: group.sample(n=group['sample_size'].iloc[0], random_state=42)\n",
    "#).reset_index(drop=True)\n",
    "df_2015_12_pos_sample = df_2015_12_pos\n",
    "# Step 7: Check the result\n",
    "print(f\"Sampled {len(df_2015_12_pos_sample)} rows.\")\n"
   ]
  },
  {
   "cell_type": "code",
   "execution_count": 178,
   "id": "b23befcc",
   "metadata": {},
   "outputs": [],
   "source": [
    "text_gpt_2015_12_pos = '\\n'.join(df_2015_12_pos_sample['text'].astype(str))"
   ]
  },
  {
   "cell_type": "markdown",
   "id": "d3650c4b",
   "metadata": {},
   "source": [
    "### Prompts and loops"
   ]
  },
  {
   "cell_type": "code",
   "execution_count": 179,
   "id": "791b4fd6",
   "metadata": {},
   "outputs": [],
   "source": [
    "prompt_12 = prompt_raw.replace('TWEETS', text_gpt_2015_12_pos)"
   ]
  },
  {
   "cell_type": "code",
   "execution_count": 180,
   "id": "def2b9de",
   "metadata": {
    "scrolled": false
   },
   "outputs": [],
   "source": [
    "response = openai.ChatCompletion.create(\n",
    "    model=\"gpt-4o-mini\",  \n",
    "    messages = [\n",
    "        {\"role\": \"user\", \"content\": prompt_12}\n",
    "    ],\n",
    "    max_tokens=400,  # Maximum number of tokens in the response\n",
    "    temperature=0.7  # Controls the randomness of the output\n",
    ")"
   ]
  },
  {
   "cell_type": "code",
   "execution_count": 181,
   "id": "eb10f5ec",
   "metadata": {},
   "outputs": [
    {
     "data": {
      "text/plain": [
       "\"The content discusses the approval and development of dengue vaccines in Brazil and Mexico. It highlights the first dengue vaccine registered in the world, the vaccine's effectiveness against various dengue virus types, and ongoing clinical trials involving thousands of participants. Additionally, it mentions public health campaigns emphasizing the importance of vaccinations and debunks myths linking vaccines to conditions like microcephaly.\""
      ]
     },
     "execution_count": 181,
     "metadata": {},
     "output_type": "execute_result"
    }
   ],
   "source": [
    "response.choices[0].message.content"
   ]
  },
  {
   "cell_type": "code",
   "execution_count": 182,
   "id": "82e7aa4c",
   "metadata": {},
   "outputs": [],
   "source": [
    "#summary = []\n",
    "#dataset = []"
   ]
  },
  {
   "cell_type": "code",
   "execution_count": 183,
   "id": "2a9d076b",
   "metadata": {},
   "outputs": [],
   "source": [
    "dataset.append(\"2015_12_positive\")"
   ]
  },
  {
   "cell_type": "code",
   "execution_count": 184,
   "id": "8a057dbe",
   "metadata": {},
   "outputs": [],
   "source": [
    "summary.append(response.choices[0].message.content)"
   ]
  },
  {
   "cell_type": "code",
   "execution_count": 185,
   "id": "3bb6bfbd",
   "metadata": {
    "tags": []
   },
   "outputs": [
    {
     "name": "stdout",
     "output_type": "stream",
     "text": [
      "<class 'pandas.core.frame.DataFrame'>\n",
      "RangeIndex: 12 entries, 0 to 11\n",
      "Data columns (total 2 columns):\n",
      " #   Column   Non-Null Count  Dtype \n",
      "---  ------   --------------  ----- \n",
      " 0   dataset  12 non-null     object\n",
      " 1   summary  12 non-null     object\n",
      "dtypes: object(2)\n",
      "memory usage: 320.0+ bytes\n"
     ]
    }
   ],
   "source": [
    "df_2015_pos = pd.DataFrame(list(zip(dataset, summary)),\n",
    "                            columns = ['dataset', 'summary'])\n",
    "df_2015_pos.info()"
   ]
  },
  {
   "cell_type": "code",
   "execution_count": 186,
   "id": "893bd100",
   "metadata": {},
   "outputs": [
    {
     "data": {
      "text/html": [
       "<div>\n",
       "<style scoped>\n",
       "    .dataframe tbody tr th:only-of-type {\n",
       "        vertical-align: middle;\n",
       "    }\n",
       "\n",
       "    .dataframe tbody tr th {\n",
       "        vertical-align: top;\n",
       "    }\n",
       "\n",
       "    .dataframe thead th {\n",
       "        text-align: right;\n",
       "    }\n",
       "</style>\n",
       "<table border=\"1\" class=\"dataframe\">\n",
       "  <thead>\n",
       "    <tr style=\"text-align: right;\">\n",
       "      <th></th>\n",
       "      <th>dataset</th>\n",
       "      <th>summary</th>\n",
       "    </tr>\n",
       "  </thead>\n",
       "  <tbody>\n",
       "    <tr>\n",
       "      <th>0</th>\n",
       "      <td>2015_01_positive</td>\n",
       "      <td>Recent developments include Johnson &amp; Johnson'...</td>\n",
       "    </tr>\n",
       "    <tr>\n",
       "      <th>1</th>\n",
       "      <td>2015_02_positive</td>\n",
       "      <td>The provided Portuguese sentences discuss vari...</td>\n",
       "    </tr>\n",
       "    <tr>\n",
       "      <th>2</th>\n",
       "      <td>2015_03_positive</td>\n",
       "      <td>The provided texts primarily discuss various v...</td>\n",
       "    </tr>\n",
       "    <tr>\n",
       "      <th>3</th>\n",
       "      <td>2015_04_positive</td>\n",
       "      <td>Recent studies highlight the efficacy and safe...</td>\n",
       "    </tr>\n",
       "    <tr>\n",
       "      <th>4</th>\n",
       "      <td>2015_05_positive</td>\n",
       "      <td>The provided sentences discuss various vaccina...</td>\n",
       "    </tr>\n",
       "    <tr>\n",
       "      <th>5</th>\n",
       "      <td>2015_06_positive</td>\n",
       "      <td>The text discusses the ongoing vaccination cam...</td>\n",
       "    </tr>\n",
       "    <tr>\n",
       "      <th>6</th>\n",
       "      <td>2015_07_positive</td>\n",
       "      <td>The text discusses various aspects of vaccinat...</td>\n",
       "    </tr>\n",
       "    <tr>\n",
       "      <th>7</th>\n",
       "      <td>2015_08_positive</td>\n",
       "      <td>The sentences discuss the importance of vaccin...</td>\n",
       "    </tr>\n",
       "    <tr>\n",
       "      <th>8</th>\n",
       "      <td>2015_09_positive</td>\n",
       "      <td>The text discusses vaccination campaigns in Br...</td>\n",
       "    </tr>\n",
       "    <tr>\n",
       "      <th>9</th>\n",
       "      <td>2015_10_positive</td>\n",
       "      <td>The text discusses various vaccination campaig...</td>\n",
       "    </tr>\n",
       "    <tr>\n",
       "      <th>10</th>\n",
       "      <td>2015_11_positive</td>\n",
       "      <td>The text discusses various aspects of vaccinat...</td>\n",
       "    </tr>\n",
       "    <tr>\n",
       "      <th>11</th>\n",
       "      <td>2015_12_positive</td>\n",
       "      <td>The content discusses the approval and develop...</td>\n",
       "    </tr>\n",
       "  </tbody>\n",
       "</table>\n",
       "</div>"
      ],
      "text/plain": [
       "             dataset                                            summary\n",
       "0   2015_01_positive  Recent developments include Johnson & Johnson'...\n",
       "1   2015_02_positive  The provided Portuguese sentences discuss vari...\n",
       "2   2015_03_positive  The provided texts primarily discuss various v...\n",
       "3   2015_04_positive  Recent studies highlight the efficacy and safe...\n",
       "4   2015_05_positive  The provided sentences discuss various vaccina...\n",
       "5   2015_06_positive  The text discusses the ongoing vaccination cam...\n",
       "6   2015_07_positive  The text discusses various aspects of vaccinat...\n",
       "7   2015_08_positive  The sentences discuss the importance of vaccin...\n",
       "8   2015_09_positive  The text discusses vaccination campaigns in Br...\n",
       "9   2015_10_positive  The text discusses various vaccination campaig...\n",
       "10  2015_11_positive  The text discusses various aspects of vaccinat...\n",
       "11  2015_12_positive  The content discusses the approval and develop..."
      ]
     },
     "execution_count": 186,
     "metadata": {},
     "output_type": "execute_result"
    }
   ],
   "source": [
    "df_2015_pos.tail(14)"
   ]
  },
  {
   "cell_type": "code",
   "execution_count": 187,
   "id": "20bf36e0",
   "metadata": {},
   "outputs": [
    {
     "data": {
      "text/plain": [
       "<OpenAIObject chat.completion id=chatcmpl-AUdCXLrvoB8NOSD2BsvODe3oQFsq7 at 0x21d88120e50> JSON: {\n",
       "  \"choices\": [\n",
       "    {\n",
       "      \"finish_reason\": \"stop\",\n",
       "      \"index\": 0,\n",
       "      \"logprobs\": null,\n",
       "      \"message\": {\n",
       "        \"content\": \"The content discusses the approval and development of dengue vaccines in Brazil and Mexico. It highlights the first dengue vaccine registered in the world, the vaccine's effectiveness against various dengue virus types, and ongoing clinical trials involving thousands of participants. Additionally, it mentions public health campaigns emphasizing the importance of vaccinations and debunks myths linking vaccines to conditions like microcephaly.\",\n",
       "        \"refusal\": null,\n",
       "        \"role\": \"assistant\"\n",
       "      }\n",
       "    }\n",
       "  ],\n",
       "  \"created\": 1731863893,\n",
       "  \"id\": \"chatcmpl-AUdCXLrvoB8NOSD2BsvODe3oQFsq7\",\n",
       "  \"model\": \"gpt-4o-mini-2024-07-18\",\n",
       "  \"object\": \"chat.completion\",\n",
       "  \"system_fingerprint\": \"fp_f8dd36be86\",\n",
       "  \"usage\": {\n",
       "    \"completion_tokens\": 71,\n",
       "    \"completion_tokens_details\": {\n",
       "      \"accepted_prediction_tokens\": 0,\n",
       "      \"audio_tokens\": 0,\n",
       "      \"reasoning_tokens\": 0,\n",
       "      \"rejected_prediction_tokens\": 0\n",
       "    },\n",
       "    \"prompt_tokens\": 55474,\n",
       "    \"prompt_tokens_details\": {\n",
       "      \"audio_tokens\": 0,\n",
       "      \"cached_tokens\": 0\n",
       "    },\n",
       "    \"total_tokens\": 55545\n",
       "  }\n",
       "}"
      ]
     },
     "execution_count": 187,
     "metadata": {},
     "output_type": "execute_result"
    }
   ],
   "source": [
    "response"
   ]
  },
  {
   "cell_type": "markdown",
   "id": "4b2eea35",
   "metadata": {},
   "source": [
    "## All 2015 positive"
   ]
  },
  {
   "cell_type": "code",
   "execution_count": 188,
   "id": "76b26dc9",
   "metadata": {},
   "outputs": [],
   "source": [
    "df_2015_pos.to_csv('../data/summary_2015_positive_tweets.csv')"
   ]
  }
 ],
 "metadata": {
  "kernelspec": {
   "display_name": "Python 3 (ipykernel)",
   "language": "python",
   "name": "python3"
  },
  "language_info": {
   "codemirror_mode": {
    "name": "ipython",
    "version": 3
   },
   "file_extension": ".py",
   "mimetype": "text/x-python",
   "name": "python",
   "nbconvert_exporter": "python",
   "pygments_lexer": "ipython3",
   "version": "3.9.12"
  }
 },
 "nbformat": 4,
 "nbformat_minor": 5
}
