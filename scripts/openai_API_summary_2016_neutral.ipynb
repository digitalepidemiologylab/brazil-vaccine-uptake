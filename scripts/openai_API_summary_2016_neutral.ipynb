{
 "cells": [
  {
   "cell_type": "markdown",
   "id": "e90b7c28",
   "metadata": {},
   "source": [
    "# Import libraries and data"
   ]
  },
  {
   "cell_type": "code",
   "execution_count": 1,
   "id": "433219e8-8f66-4be5-a3b8-e39fca644032",
   "metadata": {
    "tags": []
   },
   "outputs": [],
   "source": [
    "# Import libraries\n",
    "import os\n",
    "import openai\n",
    "import pandas as pd\n",
    "import numpy as np\n",
    "import openpyxl"
   ]
  },
  {
   "cell_type": "code",
   "execution_count": 2,
   "id": "2c68f056-74fe-4f29-9daf-6bdef5cc0701",
   "metadata": {},
   "outputs": [],
   "source": [
    "# Get OpenAI API secret key (change this file with your own OpenAI key)\n",
    "open_ai_key = open('../data/local/openai_key.txt', 'r').read()\n",
    "openai.api_key = open_ai_key\n",
    "#openai.Model.list()"
   ]
  },
  {
   "cell_type": "code",
   "execution_count": 3,
   "id": "aa3d0327",
   "metadata": {},
   "outputs": [],
   "source": [
    "# Prompt for GPT\n",
    "prompt_raw = \"I would like to summarise in maximum 300 characters and in English what the following sentences in Portuguese talk about. \\\n",
    "Do not use aspects mentioned only in one sentence as part of the summary: TWEETS\""
   ]
  },
  {
   "cell_type": "markdown",
   "id": "3c7787f4",
   "metadata": {},
   "source": [
    "# 2016 neutral"
   ]
  },
  {
   "cell_type": "markdown",
   "id": "2a04f7fe",
   "metadata": {},
   "source": [
    "## January"
   ]
  },
  {
   "cell_type": "code",
   "execution_count": 4,
   "id": "6663b9cf",
   "metadata": {
    "scrolled": true,
    "tags": []
   },
   "outputs": [
    {
     "name": "stdout",
     "output_type": "stream",
     "text": [
      "<class 'pandas.core.frame.DataFrame'>\n",
      "RangeIndex: 4621 entries, 0 to 4620\n",
      "Data columns (total 53 columns):\n",
      " #   Column                  Non-Null Count  Dtype  \n",
      "---  ------                  --------------  -----  \n",
      " 0   index                   4621 non-null   int64  \n",
      " 1   LocationCode            4621 non-null   object \n",
      " 2   LocationName            4621 non-null   object \n",
      " 3   StatesCode              4621 non-null   object \n",
      " 4   ...4                    4621 non-null   int64  \n",
      " 5   id                      4621 non-null   float64\n",
      " 6   text                    4621 non-null   object \n",
      " 7   label                   4621 non-null   object \n",
      " 8   in_reply_to_status_id   228 non-null    float64\n",
      " 9   in_reply_to_user_id     309 non-null    float64\n",
      " 10  quoted_user_id          59 non-null     float64\n",
      " 11  quoted_status_id        59 non-null     float64\n",
      " 12  retweeted_user_id       1370 non-null   float64\n",
      " 13  retweeted_status_id     1370 non-null   float64\n",
      " 14  created_at              4621 non-null   object \n",
      " 15  entities.user_mentions  2019 non-null   object \n",
      " 16  user.id                 4621 non-null   int64  \n",
      " 17  user.screen_name        4621 non-null   object \n",
      " 18  user.name               4621 non-null   object \n",
      " 19  user.description        4060 non-null   object \n",
      " 20  user.timezone           0 non-null      float64\n",
      " 21  user.location           4562 non-null   object \n",
      " 22  user.num_followers      4621 non-null   int64  \n",
      " 23  user.num_following      4621 non-null   int64  \n",
      " 24  user.created_at         4621 non-null   object \n",
      " 25  user.statuses_count     4621 non-null   int64  \n",
      " 26  user.is_verified        4621 non-null   bool   \n",
      " 27  lang                    4621 non-null   object \n",
      " 28  token_count             4621 non-null   int64  \n",
      " 29  is_retweet              4621 non-null   bool   \n",
      " 30  has_quote               4621 non-null   bool   \n",
      " 31  is_reply                4621 non-null   bool   \n",
      " 32  contains_keywords       4621 non-null   bool   \n",
      " 33  longitude               4621 non-null   float64\n",
      " 34  latitude                4621 non-null   float64\n",
      " 35  country_code            4621 non-null   object \n",
      " 36  geoname_id              4334 non-null   float64\n",
      " 37  location_type           4621 non-null   object \n",
      " 38  geo_type                4621 non-null   int64  \n",
      " 39  region                  4621 non-null   object \n",
      " 40  subregion               4621 non-null   object \n",
      " 41  num_quotes              4621 non-null   int64  \n",
      " 42  num_replies             4621 non-null   int64  \n",
      " 43  num_retweets            4621 non-null   int64  \n",
      " 44  sent_gpt                4621 non-null   object \n",
      " 45  gpt_sent_presence       4621 non-null   int64  \n",
      " 46  cleaned_text_lem        4621 non-null   object \n",
      " 47  cleaned_text            4621 non-null   object \n",
      " 48  month                   4621 non-null   int64  \n",
      " 49  year                    4621 non-null   int64  \n",
      " 50  week                    4621 non-null   int64  \n",
      " 51  year_month              4621 non-null   object \n",
      " 52  year_week               4621 non-null   object \n",
      "dtypes: bool(5), float64(11), int64(15), object(22)\n",
      "memory usage: 1.7+ MB\n"
     ]
    }
   ],
   "source": [
    "# Get monthly data\n",
    "df_2016_01_neu = pd.read_csv('../data/local/df_neu_2016-01.csv').reset_index()\n",
    "df_2016_01_neu.info()"
   ]
  },
  {
   "cell_type": "markdown",
   "id": "76f621ec",
   "metadata": {},
   "source": [
    "### Representative sample based on week and location"
   ]
  },
  {
   "cell_type": "code",
   "execution_count": 5,
   "id": "921a735a",
   "metadata": {},
   "outputs": [
    {
     "data": {
      "text/html": [
       "<div>\n",
       "<style scoped>\n",
       "    .dataframe tbody tr th:only-of-type {\n",
       "        vertical-align: middle;\n",
       "    }\n",
       "\n",
       "    .dataframe tbody tr th {\n",
       "        vertical-align: top;\n",
       "    }\n",
       "\n",
       "    .dataframe thead th {\n",
       "        text-align: right;\n",
       "    }\n",
       "</style>\n",
       "<table border=\"1\" class=\"dataframe\">\n",
       "  <thead>\n",
       "    <tr style=\"text-align: right;\">\n",
       "      <th></th>\n",
       "      <th>year_week</th>\n",
       "      <th>LocationName</th>\n",
       "      <th>group_size</th>\n",
       "      <th>proportion</th>\n",
       "    </tr>\n",
       "  </thead>\n",
       "  <tbody>\n",
       "    <tr>\n",
       "      <th>0</th>\n",
       "      <td>2016-w01</td>\n",
       "      <td>Acre</td>\n",
       "      <td>7</td>\n",
       "      <td>0.001515</td>\n",
       "    </tr>\n",
       "    <tr>\n",
       "      <th>1</th>\n",
       "      <td>2016-w01</td>\n",
       "      <td>Alagoas</td>\n",
       "      <td>21</td>\n",
       "      <td>0.004544</td>\n",
       "    </tr>\n",
       "    <tr>\n",
       "      <th>2</th>\n",
       "      <td>2016-w01</td>\n",
       "      <td>Amapa</td>\n",
       "      <td>8</td>\n",
       "      <td>0.001731</td>\n",
       "    </tr>\n",
       "    <tr>\n",
       "      <th>3</th>\n",
       "      <td>2016-w01</td>\n",
       "      <td>Amazonas</td>\n",
       "      <td>27</td>\n",
       "      <td>0.005843</td>\n",
       "    </tr>\n",
       "    <tr>\n",
       "      <th>4</th>\n",
       "      <td>2016-w01</td>\n",
       "      <td>Bahia</td>\n",
       "      <td>81</td>\n",
       "      <td>0.017529</td>\n",
       "    </tr>\n",
       "    <tr>\n",
       "      <th>...</th>\n",
       "      <td>...</td>\n",
       "      <td>...</td>\n",
       "      <td>...</td>\n",
       "      <td>...</td>\n",
       "    </tr>\n",
       "    <tr>\n",
       "      <th>117</th>\n",
       "      <td>2016-w05</td>\n",
       "      <td>Rio Grande Do Sul</td>\n",
       "      <td>13</td>\n",
       "      <td>0.002813</td>\n",
       "    </tr>\n",
       "    <tr>\n",
       "      <th>118</th>\n",
       "      <td>2016-w05</td>\n",
       "      <td>Rondonia</td>\n",
       "      <td>5</td>\n",
       "      <td>0.001082</td>\n",
       "    </tr>\n",
       "    <tr>\n",
       "      <th>119</th>\n",
       "      <td>2016-w05</td>\n",
       "      <td>Santa Catarina</td>\n",
       "      <td>6</td>\n",
       "      <td>0.001298</td>\n",
       "    </tr>\n",
       "    <tr>\n",
       "      <th>120</th>\n",
       "      <td>2016-w05</td>\n",
       "      <td>Sao Paulo</td>\n",
       "      <td>64</td>\n",
       "      <td>0.013850</td>\n",
       "    </tr>\n",
       "    <tr>\n",
       "      <th>121</th>\n",
       "      <td>2016-w05</td>\n",
       "      <td>Sergipe</td>\n",
       "      <td>2</td>\n",
       "      <td>0.000433</td>\n",
       "    </tr>\n",
       "  </tbody>\n",
       "</table>\n",
       "<p>122 rows × 4 columns</p>\n",
       "</div>"
      ],
      "text/plain": [
       "    year_week       LocationName  group_size  proportion\n",
       "0    2016-w01               Acre           7    0.001515\n",
       "1    2016-w01            Alagoas          21    0.004544\n",
       "2    2016-w01              Amapa           8    0.001731\n",
       "3    2016-w01           Amazonas          27    0.005843\n",
       "4    2016-w01              Bahia          81    0.017529\n",
       "..        ...                ...         ...         ...\n",
       "117  2016-w05  Rio Grande Do Sul          13    0.002813\n",
       "118  2016-w05           Rondonia           5    0.001082\n",
       "119  2016-w05     Santa Catarina           6    0.001298\n",
       "120  2016-w05          Sao Paulo          64    0.013850\n",
       "121  2016-w05            Sergipe           2    0.000433\n",
       "\n",
       "[122 rows x 4 columns]"
      ]
     },
     "execution_count": 5,
     "metadata": {},
     "output_type": "execute_result"
    }
   ],
   "source": [
    "# Step 1: Calculate the size of each group (year_week, LocationName)\n",
    "group_sizes = df_2016_01_neu.groupby(['year_week', 'LocationName']).size().reset_index(name='group_size')\n",
    "\n",
    "# Step 2: Calculate the proportion of each group in the dataset\n",
    "total_rows = len(df_2016_01_neu)\n",
    "group_sizes['proportion'] = group_sizes['group_size'] / total_rows\n",
    "group_sizes"
   ]
  },
  {
   "cell_type": "code",
   "execution_count": 6,
   "id": "89b38fef",
   "metadata": {},
   "outputs": [
    {
     "data": {
      "text/html": [
       "<div>\n",
       "<style scoped>\n",
       "    .dataframe tbody tr th:only-of-type {\n",
       "        vertical-align: middle;\n",
       "    }\n",
       "\n",
       "    .dataframe tbody tr th {\n",
       "        vertical-align: top;\n",
       "    }\n",
       "\n",
       "    .dataframe thead th {\n",
       "        text-align: right;\n",
       "    }\n",
       "</style>\n",
       "<table border=\"1\" class=\"dataframe\">\n",
       "  <thead>\n",
       "    <tr style=\"text-align: right;\">\n",
       "      <th></th>\n",
       "      <th>year_week</th>\n",
       "      <th>LocationName</th>\n",
       "      <th>group_size</th>\n",
       "      <th>proportion</th>\n",
       "      <th>sample_size</th>\n",
       "    </tr>\n",
       "  </thead>\n",
       "  <tbody>\n",
       "    <tr>\n",
       "      <th>0</th>\n",
       "      <td>2016-w01</td>\n",
       "      <td>Acre</td>\n",
       "      <td>7</td>\n",
       "      <td>0.001515</td>\n",
       "      <td>3</td>\n",
       "    </tr>\n",
       "    <tr>\n",
       "      <th>1</th>\n",
       "      <td>2016-w01</td>\n",
       "      <td>Alagoas</td>\n",
       "      <td>21</td>\n",
       "      <td>0.004544</td>\n",
       "      <td>11</td>\n",
       "    </tr>\n",
       "    <tr>\n",
       "      <th>2</th>\n",
       "      <td>2016-w01</td>\n",
       "      <td>Amapa</td>\n",
       "      <td>8</td>\n",
       "      <td>0.001731</td>\n",
       "      <td>4</td>\n",
       "    </tr>\n",
       "    <tr>\n",
       "      <th>3</th>\n",
       "      <td>2016-w01</td>\n",
       "      <td>Amazonas</td>\n",
       "      <td>27</td>\n",
       "      <td>0.005843</td>\n",
       "      <td>14</td>\n",
       "    </tr>\n",
       "    <tr>\n",
       "      <th>4</th>\n",
       "      <td>2016-w01</td>\n",
       "      <td>Bahia</td>\n",
       "      <td>81</td>\n",
       "      <td>0.017529</td>\n",
       "      <td>42</td>\n",
       "    </tr>\n",
       "    <tr>\n",
       "      <th>...</th>\n",
       "      <td>...</td>\n",
       "      <td>...</td>\n",
       "      <td>...</td>\n",
       "      <td>...</td>\n",
       "      <td>...</td>\n",
       "    </tr>\n",
       "    <tr>\n",
       "      <th>117</th>\n",
       "      <td>2016-w05</td>\n",
       "      <td>Rio Grande Do Sul</td>\n",
       "      <td>13</td>\n",
       "      <td>0.002813</td>\n",
       "      <td>6</td>\n",
       "    </tr>\n",
       "    <tr>\n",
       "      <th>118</th>\n",
       "      <td>2016-w05</td>\n",
       "      <td>Rondonia</td>\n",
       "      <td>5</td>\n",
       "      <td>0.001082</td>\n",
       "      <td>2</td>\n",
       "    </tr>\n",
       "    <tr>\n",
       "      <th>119</th>\n",
       "      <td>2016-w05</td>\n",
       "      <td>Santa Catarina</td>\n",
       "      <td>6</td>\n",
       "      <td>0.001298</td>\n",
       "      <td>3</td>\n",
       "    </tr>\n",
       "    <tr>\n",
       "      <th>120</th>\n",
       "      <td>2016-w05</td>\n",
       "      <td>Sao Paulo</td>\n",
       "      <td>64</td>\n",
       "      <td>0.013850</td>\n",
       "      <td>33</td>\n",
       "    </tr>\n",
       "    <tr>\n",
       "      <th>121</th>\n",
       "      <td>2016-w05</td>\n",
       "      <td>Sergipe</td>\n",
       "      <td>2</td>\n",
       "      <td>0.000433</td>\n",
       "      <td>1</td>\n",
       "    </tr>\n",
       "  </tbody>\n",
       "</table>\n",
       "<p>122 rows × 5 columns</p>\n",
       "</div>"
      ],
      "text/plain": [
       "    year_week       LocationName  group_size  proportion  sample_size\n",
       "0    2016-w01               Acre           7    0.001515            3\n",
       "1    2016-w01            Alagoas          21    0.004544           11\n",
       "2    2016-w01              Amapa           8    0.001731            4\n",
       "3    2016-w01           Amazonas          27    0.005843           14\n",
       "4    2016-w01              Bahia          81    0.017529           42\n",
       "..        ...                ...         ...         ...          ...\n",
       "117  2016-w05  Rio Grande Do Sul          13    0.002813            6\n",
       "118  2016-w05           Rondonia           5    0.001082            2\n",
       "119  2016-w05     Santa Catarina           6    0.001298            3\n",
       "120  2016-w05          Sao Paulo          64    0.013850           33\n",
       "121  2016-w05            Sergipe           2    0.000433            1\n",
       "\n",
       "[122 rows x 5 columns]"
      ]
     },
     "execution_count": 6,
     "metadata": {},
     "output_type": "execute_result"
    }
   ],
   "source": [
    "# Step 3: Define the target sample size\n",
    "target_sample_size = 2450\n",
    "\n",
    "# Step 4: Calculate the sample size for each group (based on its proportion)\n",
    "group_sizes['sample_size'] = np.floor(group_sizes['proportion'] * target_sample_size).astype(int)\n",
    "group_sizes"
   ]
  },
  {
   "cell_type": "code",
   "execution_count": 7,
   "id": "a50fe53a",
   "metadata": {},
   "outputs": [],
   "source": [
    "# Step 5: Merge this sample size information back to the original DataFrame\n",
    "df_2016_01_neu_sample_size = pd.merge(df_2016_01_neu, group_sizes[['year_week', 'LocationName', 'sample_size']], \n",
    "                               on=['year_week', 'LocationName'], how='left')"
   ]
  },
  {
   "cell_type": "code",
   "execution_count": 8,
   "id": "85555ac0",
   "metadata": {},
   "outputs": [
    {
     "name": "stdout",
     "output_type": "stream",
     "text": [
      "Sampled 2391 rows.\n"
     ]
    }
   ],
   "source": [
    "# Step 6: Perform the stratified sampling\n",
    "df_2016_01_neu_sample = df_2016_01_neu_sample_size.groupby(['year_week', 'LocationName']).apply(\n",
    "    lambda group: group.sample(n=group['sample_size'].iloc[0], random_state=42)\n",
    ").reset_index(drop=True)\n",
    "\n",
    "# Step 7: Check the result\n",
    "print(f\"Sampled {len(df_2016_01_neu_sample)} rows.\")\n"
   ]
  },
  {
   "cell_type": "code",
   "execution_count": 9,
   "id": "0346bf41",
   "metadata": {},
   "outputs": [],
   "source": [
    "text_gpt_2016_01_neu = '\\n'.join(df_2016_01_neu_sample['text'].astype(str))"
   ]
  },
  {
   "cell_type": "markdown",
   "id": "b89facff",
   "metadata": {},
   "source": [
    "### Prompts and loops"
   ]
  },
  {
   "cell_type": "code",
   "execution_count": 10,
   "id": "d131b6c4",
   "metadata": {},
   "outputs": [],
   "source": [
    "prompt_1 = prompt_raw.replace('TWEETS', text_gpt_2016_01_neu)"
   ]
  },
  {
   "cell_type": "code",
   "execution_count": 11,
   "id": "7b46f355",
   "metadata": {
    "scrolled": false
   },
   "outputs": [],
   "source": [
    "response = openai.ChatCompletion.create(\n",
    "    model=\"gpt-4o-mini\",  \n",
    "    messages = [\n",
    "        {\"role\": \"user\", \"content\": prompt_1}\n",
    "    ],\n",
    "    max_tokens=400,  # Maximum number of tokens in the response\n",
    "    temperature=0.7  # Controls the randomness of the output\n",
    ")"
   ]
  },
  {
   "cell_type": "code",
   "execution_count": 12,
   "id": "18c76466",
   "metadata": {},
   "outputs": [
    {
     "data": {
      "text/plain": [
       "'The Ministry of Health of Brazil announced updates to the national vaccination calendar, including reducing the HPV vaccine dosage for adolescents and adjustments to other childhood vaccinations. There are also discussions around the development of vaccines for dengue and Zika, with the latter expected to take years before availability. The vaccination coverage against foot-and-mouth disease in Alagoas exceeds 96%.'"
      ]
     },
     "execution_count": 12,
     "metadata": {},
     "output_type": "execute_result"
    }
   ],
   "source": [
    "response.choices[0].message.content"
   ]
  },
  {
   "cell_type": "code",
   "execution_count": 13,
   "id": "b89927f0",
   "metadata": {},
   "outputs": [],
   "source": [
    "summary = []\n",
    "dataset = []"
   ]
  },
  {
   "cell_type": "code",
   "execution_count": 14,
   "id": "b4adcee9",
   "metadata": {},
   "outputs": [],
   "source": [
    "dataset.append(\"2016_01_neutral\")"
   ]
  },
  {
   "cell_type": "code",
   "execution_count": 15,
   "id": "7ab412b2",
   "metadata": {},
   "outputs": [],
   "source": [
    "summary.append(response.choices[0].message.content)"
   ]
  },
  {
   "cell_type": "code",
   "execution_count": 16,
   "id": "8731c5c8",
   "metadata": {
    "tags": []
   },
   "outputs": [
    {
     "name": "stdout",
     "output_type": "stream",
     "text": [
      "<class 'pandas.core.frame.DataFrame'>\n",
      "RangeIndex: 1 entries, 0 to 0\n",
      "Data columns (total 2 columns):\n",
      " #   Column   Non-Null Count  Dtype \n",
      "---  ------   --------------  ----- \n",
      " 0   dataset  1 non-null      object\n",
      " 1   summary  1 non-null      object\n",
      "dtypes: object(2)\n",
      "memory usage: 144.0+ bytes\n"
     ]
    }
   ],
   "source": [
    "df_2016_neu = pd.DataFrame(list(zip(dataset, summary)),\n",
    "                            columns = ['dataset', 'summary'])\n",
    "df_2016_neu.info()"
   ]
  },
  {
   "cell_type": "code",
   "execution_count": 17,
   "id": "3165ba66",
   "metadata": {},
   "outputs": [
    {
     "data": {
      "text/html": [
       "<div>\n",
       "<style scoped>\n",
       "    .dataframe tbody tr th:only-of-type {\n",
       "        vertical-align: middle;\n",
       "    }\n",
       "\n",
       "    .dataframe tbody tr th {\n",
       "        vertical-align: top;\n",
       "    }\n",
       "\n",
       "    .dataframe thead th {\n",
       "        text-align: right;\n",
       "    }\n",
       "</style>\n",
       "<table border=\"1\" class=\"dataframe\">\n",
       "  <thead>\n",
       "    <tr style=\"text-align: right;\">\n",
       "      <th></th>\n",
       "      <th>dataset</th>\n",
       "      <th>summary</th>\n",
       "    </tr>\n",
       "  </thead>\n",
       "  <tbody>\n",
       "    <tr>\n",
       "      <th>0</th>\n",
       "      <td>2016_01_neutral</td>\n",
       "      <td>The Ministry of Health of Brazil announced upd...</td>\n",
       "    </tr>\n",
       "  </tbody>\n",
       "</table>\n",
       "</div>"
      ],
      "text/plain": [
       "           dataset                                            summary\n",
       "0  2016_01_neutral  The Ministry of Health of Brazil announced upd..."
      ]
     },
     "execution_count": 17,
     "metadata": {},
     "output_type": "execute_result"
    }
   ],
   "source": [
    "df_2016_neu.tail(14)"
   ]
  },
  {
   "cell_type": "code",
   "execution_count": 18,
   "id": "2877d37e",
   "metadata": {},
   "outputs": [
    {
     "data": {
      "text/plain": [
       "<OpenAIObject chat.completion id=chatcmpl-AUcuLrLYrFiv6uSdAgmdNPXH9yVkg at 0x2228667dae0> JSON: {\n",
       "  \"choices\": [\n",
       "    {\n",
       "      \"finish_reason\": \"stop\",\n",
       "      \"index\": 0,\n",
       "      \"logprobs\": null,\n",
       "      \"message\": {\n",
       "        \"content\": \"The Ministry of Health of Brazil announced updates to the national vaccination calendar, including reducing the HPV vaccine dosage for adolescents and adjustments to other childhood vaccinations. There are also discussions around the development of vaccines for dengue and Zika, with the latter expected to take years before availability. The vaccination coverage against foot-and-mouth disease in Alagoas exceeds 96%.\",\n",
       "        \"refusal\": null,\n",
       "        \"role\": \"assistant\"\n",
       "      }\n",
       "    }\n",
       "  ],\n",
       "  \"created\": 1731862765,\n",
       "  \"id\": \"chatcmpl-AUcuLrLYrFiv6uSdAgmdNPXH9yVkg\",\n",
       "  \"model\": \"gpt-4o-mini-2024-07-18\",\n",
       "  \"object\": \"chat.completion\",\n",
       "  \"system_fingerprint\": \"fp_0ba0d124f1\",\n",
       "  \"usage\": {\n",
       "    \"completion_tokens\": 70,\n",
       "    \"completion_tokens_details\": {\n",
       "      \"accepted_prediction_tokens\": 0,\n",
       "      \"audio_tokens\": 0,\n",
       "      \"reasoning_tokens\": 0,\n",
       "      \"rejected_prediction_tokens\": 0\n",
       "    },\n",
       "    \"prompt_tokens\": 50137,\n",
       "    \"prompt_tokens_details\": {\n",
       "      \"audio_tokens\": 0,\n",
       "      \"cached_tokens\": 0\n",
       "    },\n",
       "    \"total_tokens\": 50207\n",
       "  }\n",
       "}"
      ]
     },
     "execution_count": 18,
     "metadata": {},
     "output_type": "execute_result"
    }
   ],
   "source": [
    "response"
   ]
  },
  {
   "cell_type": "markdown",
   "id": "000d2343",
   "metadata": {},
   "source": [
    "## February"
   ]
  },
  {
   "cell_type": "code",
   "execution_count": 19,
   "id": "ad27d675",
   "metadata": {
    "scrolled": true,
    "tags": []
   },
   "outputs": [
    {
     "name": "stdout",
     "output_type": "stream",
     "text": [
      "<class 'pandas.core.frame.DataFrame'>\n",
      "RangeIndex: 3858 entries, 0 to 3857\n",
      "Data columns (total 53 columns):\n",
      " #   Column                  Non-Null Count  Dtype  \n",
      "---  ------                  --------------  -----  \n",
      " 0   index                   3858 non-null   int64  \n",
      " 1   LocationCode            3858 non-null   object \n",
      " 2   LocationName            3858 non-null   object \n",
      " 3   StatesCode              3858 non-null   object \n",
      " 4   ...4                    3858 non-null   int64  \n",
      " 5   id                      3858 non-null   float64\n",
      " 6   text                    3858 non-null   object \n",
      " 7   label                   3858 non-null   object \n",
      " 8   in_reply_to_status_id   270 non-null    float64\n",
      " 9   in_reply_to_user_id     300 non-null    float64\n",
      " 10  quoted_user_id          53 non-null     float64\n",
      " 11  quoted_status_id        53 non-null     float64\n",
      " 12  retweeted_user_id       1064 non-null   float64\n",
      " 13  retweeted_status_id     1064 non-null   float64\n",
      " 14  created_at              3858 non-null   object \n",
      " 15  entities.user_mentions  1555 non-null   object \n",
      " 16  user.id                 3858 non-null   float64\n",
      " 17  user.screen_name        3858 non-null   object \n",
      " 18  user.name               3858 non-null   object \n",
      " 19  user.description        3340 non-null   object \n",
      " 20  user.timezone           0 non-null      float64\n",
      " 21  user.location           3798 non-null   object \n",
      " 22  user.num_followers      3858 non-null   int64  \n",
      " 23  user.num_following      3858 non-null   int64  \n",
      " 24  user.created_at         3858 non-null   object \n",
      " 25  user.statuses_count     3858 non-null   int64  \n",
      " 26  user.is_verified        3858 non-null   bool   \n",
      " 27  lang                    3858 non-null   object \n",
      " 28  token_count             3858 non-null   int64  \n",
      " 29  is_retweet              3858 non-null   bool   \n",
      " 30  has_quote               3858 non-null   bool   \n",
      " 31  is_reply                3858 non-null   bool   \n",
      " 32  contains_keywords       3858 non-null   bool   \n",
      " 33  longitude               3858 non-null   float64\n",
      " 34  latitude                3858 non-null   float64\n",
      " 35  country_code            3858 non-null   object \n",
      " 36  geoname_id              3602 non-null   float64\n",
      " 37  location_type           3858 non-null   object \n",
      " 38  geo_type                3858 non-null   int64  \n",
      " 39  region                  3858 non-null   object \n",
      " 40  subregion               3858 non-null   object \n",
      " 41  num_quotes              3858 non-null   int64  \n",
      " 42  num_replies             3858 non-null   int64  \n",
      " 43  num_retweets            3858 non-null   int64  \n",
      " 44  sent_gpt                3858 non-null   object \n",
      " 45  gpt_sent_presence       3858 non-null   int64  \n",
      " 46  cleaned_text_lem        3858 non-null   object \n",
      " 47  cleaned_text            3858 non-null   object \n",
      " 48  month                   3858 non-null   int64  \n",
      " 49  year                    3858 non-null   int64  \n",
      " 50  week                    3858 non-null   int64  \n",
      " 51  year_month              3858 non-null   object \n",
      " 52  year_week               3858 non-null   object \n",
      "dtypes: bool(5), float64(12), int64(14), object(22)\n",
      "memory usage: 1.4+ MB\n"
     ]
    }
   ],
   "source": [
    "# Get monthly data\n",
    "df_2016_02_neu = pd.read_csv('../data/local/df_neu_2016-02.csv').reset_index()\n",
    "df_2016_02_neu.info()"
   ]
  },
  {
   "cell_type": "markdown",
   "id": "d39b7c34",
   "metadata": {},
   "source": [
    "### Representative sample based on week and location"
   ]
  },
  {
   "cell_type": "code",
   "execution_count": 20,
   "id": "06a2f945",
   "metadata": {},
   "outputs": [
    {
     "data": {
      "text/html": [
       "<div>\n",
       "<style scoped>\n",
       "    .dataframe tbody tr th:only-of-type {\n",
       "        vertical-align: middle;\n",
       "    }\n",
       "\n",
       "    .dataframe tbody tr th {\n",
       "        vertical-align: top;\n",
       "    }\n",
       "\n",
       "    .dataframe thead th {\n",
       "        text-align: right;\n",
       "    }\n",
       "</style>\n",
       "<table border=\"1\" class=\"dataframe\">\n",
       "  <thead>\n",
       "    <tr style=\"text-align: right;\">\n",
       "      <th></th>\n",
       "      <th>year_week</th>\n",
       "      <th>LocationName</th>\n",
       "      <th>group_size</th>\n",
       "      <th>proportion</th>\n",
       "    </tr>\n",
       "  </thead>\n",
       "  <tbody>\n",
       "    <tr>\n",
       "      <th>0</th>\n",
       "      <td>2016-w05</td>\n",
       "      <td>Acre</td>\n",
       "      <td>1</td>\n",
       "      <td>0.000259</td>\n",
       "    </tr>\n",
       "    <tr>\n",
       "      <th>1</th>\n",
       "      <td>2016-w05</td>\n",
       "      <td>Alagoas</td>\n",
       "      <td>13</td>\n",
       "      <td>0.003370</td>\n",
       "    </tr>\n",
       "    <tr>\n",
       "      <th>2</th>\n",
       "      <td>2016-w05</td>\n",
       "      <td>Amapa</td>\n",
       "      <td>6</td>\n",
       "      <td>0.001555</td>\n",
       "    </tr>\n",
       "    <tr>\n",
       "      <th>3</th>\n",
       "      <td>2016-w05</td>\n",
       "      <td>Amazonas</td>\n",
       "      <td>15</td>\n",
       "      <td>0.003888</td>\n",
       "    </tr>\n",
       "    <tr>\n",
       "      <th>4</th>\n",
       "      <td>2016-w05</td>\n",
       "      <td>Bahia</td>\n",
       "      <td>29</td>\n",
       "      <td>0.007517</td>\n",
       "    </tr>\n",
       "    <tr>\n",
       "      <th>...</th>\n",
       "      <td>...</td>\n",
       "      <td>...</td>\n",
       "      <td>...</td>\n",
       "      <td>...</td>\n",
       "    </tr>\n",
       "    <tr>\n",
       "      <th>113</th>\n",
       "      <td>2016-w09</td>\n",
       "      <td>Rondonia</td>\n",
       "      <td>2</td>\n",
       "      <td>0.000518</td>\n",
       "    </tr>\n",
       "    <tr>\n",
       "      <th>114</th>\n",
       "      <td>2016-w09</td>\n",
       "      <td>Santa Catarina</td>\n",
       "      <td>14</td>\n",
       "      <td>0.003629</td>\n",
       "    </tr>\n",
       "    <tr>\n",
       "      <th>115</th>\n",
       "      <td>2016-w09</td>\n",
       "      <td>Sao Paulo</td>\n",
       "      <td>57</td>\n",
       "      <td>0.014774</td>\n",
       "    </tr>\n",
       "    <tr>\n",
       "      <th>116</th>\n",
       "      <td>2016-w09</td>\n",
       "      <td>Sergipe</td>\n",
       "      <td>1</td>\n",
       "      <td>0.000259</td>\n",
       "    </tr>\n",
       "    <tr>\n",
       "      <th>117</th>\n",
       "      <td>2016-w09</td>\n",
       "      <td>Tocantins</td>\n",
       "      <td>7</td>\n",
       "      <td>0.001814</td>\n",
       "    </tr>\n",
       "  </tbody>\n",
       "</table>\n",
       "<p>118 rows × 4 columns</p>\n",
       "</div>"
      ],
      "text/plain": [
       "    year_week    LocationName  group_size  proportion\n",
       "0    2016-w05            Acre           1    0.000259\n",
       "1    2016-w05         Alagoas          13    0.003370\n",
       "2    2016-w05           Amapa           6    0.001555\n",
       "3    2016-w05        Amazonas          15    0.003888\n",
       "4    2016-w05           Bahia          29    0.007517\n",
       "..        ...             ...         ...         ...\n",
       "113  2016-w09        Rondonia           2    0.000518\n",
       "114  2016-w09  Santa Catarina          14    0.003629\n",
       "115  2016-w09       Sao Paulo          57    0.014774\n",
       "116  2016-w09         Sergipe           1    0.000259\n",
       "117  2016-w09       Tocantins           7    0.001814\n",
       "\n",
       "[118 rows x 4 columns]"
      ]
     },
     "execution_count": 20,
     "metadata": {},
     "output_type": "execute_result"
    }
   ],
   "source": [
    "# Step 1: Calculate the size of each group (year_week, LocationName)\n",
    "group_sizes = df_2016_02_neu.groupby(['year_week', 'LocationName']).size().reset_index(name='group_size')\n",
    "\n",
    "# Step 2: Calculate the proportion of each group in the dataset\n",
    "total_rows = len(df_2016_02_neu)\n",
    "group_sizes['proportion'] = group_sizes['group_size'] / total_rows\n",
    "group_sizes"
   ]
  },
  {
   "cell_type": "code",
   "execution_count": 21,
   "id": "75fb67fb",
   "metadata": {},
   "outputs": [
    {
     "data": {
      "text/html": [
       "<div>\n",
       "<style scoped>\n",
       "    .dataframe tbody tr th:only-of-type {\n",
       "        vertical-align: middle;\n",
       "    }\n",
       "\n",
       "    .dataframe tbody tr th {\n",
       "        vertical-align: top;\n",
       "    }\n",
       "\n",
       "    .dataframe thead th {\n",
       "        text-align: right;\n",
       "    }\n",
       "</style>\n",
       "<table border=\"1\" class=\"dataframe\">\n",
       "  <thead>\n",
       "    <tr style=\"text-align: right;\">\n",
       "      <th></th>\n",
       "      <th>year_week</th>\n",
       "      <th>LocationName</th>\n",
       "      <th>group_size</th>\n",
       "      <th>proportion</th>\n",
       "      <th>sample_size</th>\n",
       "    </tr>\n",
       "  </thead>\n",
       "  <tbody>\n",
       "    <tr>\n",
       "      <th>0</th>\n",
       "      <td>2016-w05</td>\n",
       "      <td>Acre</td>\n",
       "      <td>1</td>\n",
       "      <td>0.000259</td>\n",
       "      <td>0</td>\n",
       "    </tr>\n",
       "    <tr>\n",
       "      <th>1</th>\n",
       "      <td>2016-w05</td>\n",
       "      <td>Alagoas</td>\n",
       "      <td>13</td>\n",
       "      <td>0.003370</td>\n",
       "      <td>8</td>\n",
       "    </tr>\n",
       "    <tr>\n",
       "      <th>2</th>\n",
       "      <td>2016-w05</td>\n",
       "      <td>Amapa</td>\n",
       "      <td>6</td>\n",
       "      <td>0.001555</td>\n",
       "      <td>3</td>\n",
       "    </tr>\n",
       "    <tr>\n",
       "      <th>3</th>\n",
       "      <td>2016-w05</td>\n",
       "      <td>Amazonas</td>\n",
       "      <td>15</td>\n",
       "      <td>0.003888</td>\n",
       "      <td>9</td>\n",
       "    </tr>\n",
       "    <tr>\n",
       "      <th>4</th>\n",
       "      <td>2016-w05</td>\n",
       "      <td>Bahia</td>\n",
       "      <td>29</td>\n",
       "      <td>0.007517</td>\n",
       "      <td>18</td>\n",
       "    </tr>\n",
       "    <tr>\n",
       "      <th>...</th>\n",
       "      <td>...</td>\n",
       "      <td>...</td>\n",
       "      <td>...</td>\n",
       "      <td>...</td>\n",
       "      <td>...</td>\n",
       "    </tr>\n",
       "    <tr>\n",
       "      <th>113</th>\n",
       "      <td>2016-w09</td>\n",
       "      <td>Rondonia</td>\n",
       "      <td>2</td>\n",
       "      <td>0.000518</td>\n",
       "      <td>1</td>\n",
       "    </tr>\n",
       "    <tr>\n",
       "      <th>114</th>\n",
       "      <td>2016-w09</td>\n",
       "      <td>Santa Catarina</td>\n",
       "      <td>14</td>\n",
       "      <td>0.003629</td>\n",
       "      <td>8</td>\n",
       "    </tr>\n",
       "    <tr>\n",
       "      <th>115</th>\n",
       "      <td>2016-w09</td>\n",
       "      <td>Sao Paulo</td>\n",
       "      <td>57</td>\n",
       "      <td>0.014774</td>\n",
       "      <td>36</td>\n",
       "    </tr>\n",
       "    <tr>\n",
       "      <th>116</th>\n",
       "      <td>2016-w09</td>\n",
       "      <td>Sergipe</td>\n",
       "      <td>1</td>\n",
       "      <td>0.000259</td>\n",
       "      <td>0</td>\n",
       "    </tr>\n",
       "    <tr>\n",
       "      <th>117</th>\n",
       "      <td>2016-w09</td>\n",
       "      <td>Tocantins</td>\n",
       "      <td>7</td>\n",
       "      <td>0.001814</td>\n",
       "      <td>4</td>\n",
       "    </tr>\n",
       "  </tbody>\n",
       "</table>\n",
       "<p>118 rows × 5 columns</p>\n",
       "</div>"
      ],
      "text/plain": [
       "    year_week    LocationName  group_size  proportion  sample_size\n",
       "0    2016-w05            Acre           1    0.000259            0\n",
       "1    2016-w05         Alagoas          13    0.003370            8\n",
       "2    2016-w05           Amapa           6    0.001555            3\n",
       "3    2016-w05        Amazonas          15    0.003888            9\n",
       "4    2016-w05           Bahia          29    0.007517           18\n",
       "..        ...             ...         ...         ...          ...\n",
       "113  2016-w09        Rondonia           2    0.000518            1\n",
       "114  2016-w09  Santa Catarina          14    0.003629            8\n",
       "115  2016-w09       Sao Paulo          57    0.014774           36\n",
       "116  2016-w09         Sergipe           1    0.000259            0\n",
       "117  2016-w09       Tocantins           7    0.001814            4\n",
       "\n",
       "[118 rows x 5 columns]"
      ]
     },
     "execution_count": 21,
     "metadata": {},
     "output_type": "execute_result"
    }
   ],
   "source": [
    "# Step 3: Define the target sample size\n",
    "target_sample_size = 2450\n",
    "\n",
    "# Step 4: Calculate the sample size for each group (based on its proportion)\n",
    "group_sizes['sample_size'] = np.floor(group_sizes['proportion'] * target_sample_size).astype(int)\n",
    "group_sizes"
   ]
  },
  {
   "cell_type": "code",
   "execution_count": 22,
   "id": "fefa193d",
   "metadata": {},
   "outputs": [],
   "source": [
    "# Step 5: Merge this sample size information back to the original DataFrame\n",
    "df_2016_02_neu_sample_size = pd.merge(df_2016_02_neu, group_sizes[['year_week', 'LocationName', 'sample_size']], \n",
    "                               on=['year_week', 'LocationName'], how='left')"
   ]
  },
  {
   "cell_type": "code",
   "execution_count": 23,
   "id": "6f5cc94c",
   "metadata": {},
   "outputs": [
    {
     "name": "stdout",
     "output_type": "stream",
     "text": [
      "Sampled 2394 rows.\n"
     ]
    }
   ],
   "source": [
    "# Step 6: Perform the stratified sampling\n",
    "df_2016_02_neu_sample = df_2016_02_neu_sample_size.groupby(['year_week', 'LocationName']).apply(\n",
    "    lambda group: group.sample(n=group['sample_size'].iloc[0], random_state=42)\n",
    ").reset_index(drop=True)\n",
    "\n",
    "# Step 7: Check the result\n",
    "print(f\"Sampled {len(df_2016_02_neu_sample)} rows.\")\n"
   ]
  },
  {
   "cell_type": "code",
   "execution_count": 24,
   "id": "8ceb36c4",
   "metadata": {},
   "outputs": [],
   "source": [
    "text_gpt_2016_02_neu = '\\n'.join(df_2016_02_neu_sample['text'].astype(str))"
   ]
  },
  {
   "cell_type": "markdown",
   "id": "473bbfd3",
   "metadata": {},
   "source": [
    "### Prompts and loops"
   ]
  },
  {
   "cell_type": "code",
   "execution_count": 25,
   "id": "f84faf23",
   "metadata": {},
   "outputs": [],
   "source": [
    "prompt_2 = prompt_raw.replace('TWEETS', text_gpt_2016_02_neu)"
   ]
  },
  {
   "cell_type": "code",
   "execution_count": 26,
   "id": "d763f6d1",
   "metadata": {
    "scrolled": false
   },
   "outputs": [],
   "source": [
    "response = openai.ChatCompletion.create(\n",
    "    model=\"gpt-4o-mini\",  \n",
    "    messages = [\n",
    "        {\"role\": \"user\", \"content\": prompt_2}\n",
    "    ],\n",
    "    max_tokens=400,  # Maximum number of tokens in the response\n",
    "    temperature=0.7  # Controls the randomness of the output\n",
    ")"
   ]
  },
  {
   "cell_type": "code",
   "execution_count": 27,
   "id": "7d8ad460",
   "metadata": {},
   "outputs": [
    {
     "data": {
      "text/plain": [
       "'The texts discuss the development of vaccines against the Zika virus, highlighting efforts by institutions like Fiocruz and Butantan, and international collaborations, particularly between Brazil and the USA. There is emphasis on the timeframes for vaccine readiness, varying from one to five years, and the ongoing challenges faced in vaccine research and funding, amidst public health concerns related to Zika and its effects.'"
      ]
     },
     "execution_count": 27,
     "metadata": {},
     "output_type": "execute_result"
    }
   ],
   "source": [
    "response.choices[0].message.content"
   ]
  },
  {
   "cell_type": "code",
   "execution_count": 28,
   "id": "6d9e27ea",
   "metadata": {},
   "outputs": [],
   "source": [
    "#summary = []\n",
    "#dataset = []"
   ]
  },
  {
   "cell_type": "code",
   "execution_count": 29,
   "id": "79aeb4d0",
   "metadata": {},
   "outputs": [],
   "source": [
    "dataset.append(\"2016_02_neutral\")"
   ]
  },
  {
   "cell_type": "code",
   "execution_count": 30,
   "id": "cfd6061e",
   "metadata": {},
   "outputs": [],
   "source": [
    "summary.append(response.choices[0].message.content)"
   ]
  },
  {
   "cell_type": "code",
   "execution_count": 31,
   "id": "8327de13",
   "metadata": {
    "tags": []
   },
   "outputs": [
    {
     "name": "stdout",
     "output_type": "stream",
     "text": [
      "<class 'pandas.core.frame.DataFrame'>\n",
      "RangeIndex: 2 entries, 0 to 1\n",
      "Data columns (total 2 columns):\n",
      " #   Column   Non-Null Count  Dtype \n",
      "---  ------   --------------  ----- \n",
      " 0   dataset  2 non-null      object\n",
      " 1   summary  2 non-null      object\n",
      "dtypes: object(2)\n",
      "memory usage: 160.0+ bytes\n"
     ]
    }
   ],
   "source": [
    "df_2016_neu = pd.DataFrame(list(zip(dataset, summary)),\n",
    "                            columns = ['dataset', 'summary'])\n",
    "df_2016_neu.info()"
   ]
  },
  {
   "cell_type": "code",
   "execution_count": 32,
   "id": "65a464a6",
   "metadata": {},
   "outputs": [
    {
     "data": {
      "text/html": [
       "<div>\n",
       "<style scoped>\n",
       "    .dataframe tbody tr th:only-of-type {\n",
       "        vertical-align: middle;\n",
       "    }\n",
       "\n",
       "    .dataframe tbody tr th {\n",
       "        vertical-align: top;\n",
       "    }\n",
       "\n",
       "    .dataframe thead th {\n",
       "        text-align: right;\n",
       "    }\n",
       "</style>\n",
       "<table border=\"1\" class=\"dataframe\">\n",
       "  <thead>\n",
       "    <tr style=\"text-align: right;\">\n",
       "      <th></th>\n",
       "      <th>dataset</th>\n",
       "      <th>summary</th>\n",
       "    </tr>\n",
       "  </thead>\n",
       "  <tbody>\n",
       "    <tr>\n",
       "      <th>0</th>\n",
       "      <td>2016_01_neutral</td>\n",
       "      <td>The Ministry of Health of Brazil announced upd...</td>\n",
       "    </tr>\n",
       "    <tr>\n",
       "      <th>1</th>\n",
       "      <td>2016_02_neutral</td>\n",
       "      <td>The texts discuss the development of vaccines ...</td>\n",
       "    </tr>\n",
       "  </tbody>\n",
       "</table>\n",
       "</div>"
      ],
      "text/plain": [
       "           dataset                                            summary\n",
       "0  2016_01_neutral  The Ministry of Health of Brazil announced upd...\n",
       "1  2016_02_neutral  The texts discuss the development of vaccines ..."
      ]
     },
     "execution_count": 32,
     "metadata": {},
     "output_type": "execute_result"
    }
   ],
   "source": [
    "df_2016_neu.tail(14)"
   ]
  },
  {
   "cell_type": "code",
   "execution_count": 33,
   "id": "2553c395",
   "metadata": {},
   "outputs": [
    {
     "data": {
      "text/plain": [
       "<OpenAIObject chat.completion id=chatcmpl-AUcuRS2OuJA9nSFzDT80qnkecNUUv at 0x22286736360> JSON: {\n",
       "  \"choices\": [\n",
       "    {\n",
       "      \"finish_reason\": \"stop\",\n",
       "      \"index\": 0,\n",
       "      \"logprobs\": null,\n",
       "      \"message\": {\n",
       "        \"content\": \"The texts discuss the development of vaccines against the Zika virus, highlighting efforts by institutions like Fiocruz and Butantan, and international collaborations, particularly between Brazil and the USA. There is emphasis on the timeframes for vaccine readiness, varying from one to five years, and the ongoing challenges faced in vaccine research and funding, amidst public health concerns related to Zika and its effects.\",\n",
       "        \"refusal\": null,\n",
       "        \"role\": \"assistant\"\n",
       "      }\n",
       "    }\n",
       "  ],\n",
       "  \"created\": 1731862771,\n",
       "  \"id\": \"chatcmpl-AUcuRS2OuJA9nSFzDT80qnkecNUUv\",\n",
       "  \"model\": \"gpt-4o-mini-2024-07-18\",\n",
       "  \"object\": \"chat.completion\",\n",
       "  \"system_fingerprint\": \"fp_0ba0d124f1\",\n",
       "  \"usage\": {\n",
       "    \"completion_tokens\": 77,\n",
       "    \"completion_tokens_details\": {\n",
       "      \"accepted_prediction_tokens\": 0,\n",
       "      \"audio_tokens\": 0,\n",
       "      \"reasoning_tokens\": 0,\n",
       "      \"rejected_prediction_tokens\": 0\n",
       "    },\n",
       "    \"prompt_tokens\": 54281,\n",
       "    \"prompt_tokens_details\": {\n",
       "      \"audio_tokens\": 0,\n",
       "      \"cached_tokens\": 0\n",
       "    },\n",
       "    \"total_tokens\": 54358\n",
       "  }\n",
       "}"
      ]
     },
     "execution_count": 33,
     "metadata": {},
     "output_type": "execute_result"
    }
   ],
   "source": [
    "response"
   ]
  },
  {
   "cell_type": "markdown",
   "id": "d9543d87",
   "metadata": {},
   "source": [
    "## March"
   ]
  },
  {
   "cell_type": "code",
   "execution_count": 34,
   "id": "25a1b784",
   "metadata": {
    "scrolled": true,
    "tags": []
   },
   "outputs": [
    {
     "name": "stdout",
     "output_type": "stream",
     "text": [
      "<class 'pandas.core.frame.DataFrame'>\n",
      "RangeIndex: 3726 entries, 0 to 3725\n",
      "Data columns (total 53 columns):\n",
      " #   Column                  Non-Null Count  Dtype  \n",
      "---  ------                  --------------  -----  \n",
      " 0   index                   3726 non-null   int64  \n",
      " 1   LocationCode            3726 non-null   object \n",
      " 2   LocationName            3726 non-null   object \n",
      " 3   StatesCode              3726 non-null   object \n",
      " 4   ...4                    3726 non-null   int64  \n",
      " 5   id                      3726 non-null   float64\n",
      " 6   text                    3726 non-null   object \n",
      " 7   label                   3726 non-null   object \n",
      " 8   in_reply_to_status_id   233 non-null    float64\n",
      " 9   in_reply_to_user_id     272 non-null    float64\n",
      " 10  quoted_user_id          59 non-null     float64\n",
      " 11  quoted_status_id        59 non-null     float64\n",
      " 12  retweeted_user_id       899 non-null    float64\n",
      " 13  retweeted_status_id     899 non-null    float64\n",
      " 14  created_at              3726 non-null   object \n",
      " 15  entities.user_mentions  1398 non-null   object \n",
      " 16  user.id                 3726 non-null   float64\n",
      " 17  user.screen_name        3726 non-null   object \n",
      " 18  user.name               3726 non-null   object \n",
      " 19  user.description        3179 non-null   object \n",
      " 20  user.timezone           0 non-null      float64\n",
      " 21  user.location           3672 non-null   object \n",
      " 22  user.num_followers      3726 non-null   int64  \n",
      " 23  user.num_following      3726 non-null   int64  \n",
      " 24  user.created_at         3726 non-null   object \n",
      " 25  user.statuses_count     3726 non-null   int64  \n",
      " 26  user.is_verified        3726 non-null   bool   \n",
      " 27  lang                    3726 non-null   object \n",
      " 28  token_count             3726 non-null   int64  \n",
      " 29  is_retweet              3726 non-null   bool   \n",
      " 30  has_quote               3726 non-null   bool   \n",
      " 31  is_reply                3726 non-null   bool   \n",
      " 32  contains_keywords       3726 non-null   bool   \n",
      " 33  longitude               3726 non-null   float64\n",
      " 34  latitude                3726 non-null   float64\n",
      " 35  country_code            3726 non-null   object \n",
      " 36  geoname_id              3455 non-null   float64\n",
      " 37  location_type           3726 non-null   object \n",
      " 38  geo_type                3726 non-null   int64  \n",
      " 39  region                  3726 non-null   object \n",
      " 40  subregion               3726 non-null   object \n",
      " 41  num_quotes              3726 non-null   int64  \n",
      " 42  num_replies             3726 non-null   int64  \n",
      " 43  num_retweets            3726 non-null   int64  \n",
      " 44  sent_gpt                3726 non-null   object \n",
      " 45  gpt_sent_presence       3726 non-null   int64  \n",
      " 46  cleaned_text_lem        3726 non-null   object \n",
      " 47  cleaned_text            3726 non-null   object \n",
      " 48  month                   3726 non-null   int64  \n",
      " 49  year                    3726 non-null   int64  \n",
      " 50  week                    3726 non-null   int64  \n",
      " 51  year_month              3726 non-null   object \n",
      " 52  year_week               3726 non-null   object \n",
      "dtypes: bool(5), float64(12), int64(14), object(22)\n",
      "memory usage: 1.4+ MB\n"
     ]
    }
   ],
   "source": [
    "# Get monthly data\n",
    "df_2016_03_neu = pd.read_csv('../data/local/df_neu_2016-03.csv').reset_index()\n",
    "df_2016_03_neu.info()"
   ]
  },
  {
   "cell_type": "markdown",
   "id": "4d3ac3e5",
   "metadata": {},
   "source": [
    "### Representative sample based on week and location"
   ]
  },
  {
   "cell_type": "code",
   "execution_count": 35,
   "id": "e554652f",
   "metadata": {},
   "outputs": [
    {
     "data": {
      "text/html": [
       "<div>\n",
       "<style scoped>\n",
       "    .dataframe tbody tr th:only-of-type {\n",
       "        vertical-align: middle;\n",
       "    }\n",
       "\n",
       "    .dataframe tbody tr th {\n",
       "        vertical-align: top;\n",
       "    }\n",
       "\n",
       "    .dataframe thead th {\n",
       "        text-align: right;\n",
       "    }\n",
       "</style>\n",
       "<table border=\"1\" class=\"dataframe\">\n",
       "  <thead>\n",
       "    <tr style=\"text-align: right;\">\n",
       "      <th></th>\n",
       "      <th>year_week</th>\n",
       "      <th>LocationName</th>\n",
       "      <th>group_size</th>\n",
       "      <th>proportion</th>\n",
       "    </tr>\n",
       "  </thead>\n",
       "  <tbody>\n",
       "    <tr>\n",
       "      <th>0</th>\n",
       "      <td>2016-w09</td>\n",
       "      <td>Amapa</td>\n",
       "      <td>2</td>\n",
       "      <td>0.000537</td>\n",
       "    </tr>\n",
       "    <tr>\n",
       "      <th>1</th>\n",
       "      <td>2016-w09</td>\n",
       "      <td>Amazonas</td>\n",
       "      <td>2</td>\n",
       "      <td>0.000537</td>\n",
       "    </tr>\n",
       "    <tr>\n",
       "      <th>2</th>\n",
       "      <td>2016-w09</td>\n",
       "      <td>Bahia</td>\n",
       "      <td>14</td>\n",
       "      <td>0.003757</td>\n",
       "    </tr>\n",
       "    <tr>\n",
       "      <th>3</th>\n",
       "      <td>2016-w09</td>\n",
       "      <td>Ceara</td>\n",
       "      <td>4</td>\n",
       "      <td>0.001074</td>\n",
       "    </tr>\n",
       "    <tr>\n",
       "      <th>4</th>\n",
       "      <td>2016-w09</td>\n",
       "      <td>Distrito Federal</td>\n",
       "      <td>9</td>\n",
       "      <td>0.002415</td>\n",
       "    </tr>\n",
       "    <tr>\n",
       "      <th>...</th>\n",
       "      <td>...</td>\n",
       "      <td>...</td>\n",
       "      <td>...</td>\n",
       "      <td>...</td>\n",
       "    </tr>\n",
       "    <tr>\n",
       "      <th>110</th>\n",
       "      <td>2016-w13</td>\n",
       "      <td>Roraima</td>\n",
       "      <td>6</td>\n",
       "      <td>0.001610</td>\n",
       "    </tr>\n",
       "    <tr>\n",
       "      <th>111</th>\n",
       "      <td>2016-w13</td>\n",
       "      <td>Santa Catarina</td>\n",
       "      <td>61</td>\n",
       "      <td>0.016371</td>\n",
       "    </tr>\n",
       "    <tr>\n",
       "      <th>112</th>\n",
       "      <td>2016-w13</td>\n",
       "      <td>Sao Paulo</td>\n",
       "      <td>373</td>\n",
       "      <td>0.100107</td>\n",
       "    </tr>\n",
       "    <tr>\n",
       "      <th>113</th>\n",
       "      <td>2016-w13</td>\n",
       "      <td>Sergipe</td>\n",
       "      <td>19</td>\n",
       "      <td>0.005099</td>\n",
       "    </tr>\n",
       "    <tr>\n",
       "      <th>114</th>\n",
       "      <td>2016-w13</td>\n",
       "      <td>Tocantins</td>\n",
       "      <td>7</td>\n",
       "      <td>0.001879</td>\n",
       "    </tr>\n",
       "  </tbody>\n",
       "</table>\n",
       "<p>115 rows × 4 columns</p>\n",
       "</div>"
      ],
      "text/plain": [
       "    year_week      LocationName  group_size  proportion\n",
       "0    2016-w09             Amapa           2    0.000537\n",
       "1    2016-w09          Amazonas           2    0.000537\n",
       "2    2016-w09             Bahia          14    0.003757\n",
       "3    2016-w09             Ceara           4    0.001074\n",
       "4    2016-w09  Distrito Federal           9    0.002415\n",
       "..        ...               ...         ...         ...\n",
       "110  2016-w13           Roraima           6    0.001610\n",
       "111  2016-w13    Santa Catarina          61    0.016371\n",
       "112  2016-w13         Sao Paulo         373    0.100107\n",
       "113  2016-w13           Sergipe          19    0.005099\n",
       "114  2016-w13         Tocantins           7    0.001879\n",
       "\n",
       "[115 rows x 4 columns]"
      ]
     },
     "execution_count": 35,
     "metadata": {},
     "output_type": "execute_result"
    }
   ],
   "source": [
    "# Step 1: Calculate the size of each group (year_week, LocationName)\n",
    "group_sizes = df_2016_03_neu.groupby(['year_week', 'LocationName']).size().reset_index(name='group_size')\n",
    "\n",
    "# Step 2: Calculate the proportion of each group in the dataset\n",
    "total_rows = len(df_2016_03_neu)\n",
    "group_sizes['proportion'] = group_sizes['group_size'] / total_rows\n",
    "group_sizes"
   ]
  },
  {
   "cell_type": "code",
   "execution_count": 36,
   "id": "6e3c8a8a",
   "metadata": {},
   "outputs": [
    {
     "data": {
      "text/html": [
       "<div>\n",
       "<style scoped>\n",
       "    .dataframe tbody tr th:only-of-type {\n",
       "        vertical-align: middle;\n",
       "    }\n",
       "\n",
       "    .dataframe tbody tr th {\n",
       "        vertical-align: top;\n",
       "    }\n",
       "\n",
       "    .dataframe thead th {\n",
       "        text-align: right;\n",
       "    }\n",
       "</style>\n",
       "<table border=\"1\" class=\"dataframe\">\n",
       "  <thead>\n",
       "    <tr style=\"text-align: right;\">\n",
       "      <th></th>\n",
       "      <th>year_week</th>\n",
       "      <th>LocationName</th>\n",
       "      <th>group_size</th>\n",
       "      <th>proportion</th>\n",
       "      <th>sample_size</th>\n",
       "    </tr>\n",
       "  </thead>\n",
       "  <tbody>\n",
       "    <tr>\n",
       "      <th>0</th>\n",
       "      <td>2016-w09</td>\n",
       "      <td>Amapa</td>\n",
       "      <td>2</td>\n",
       "      <td>0.000537</td>\n",
       "      <td>1</td>\n",
       "    </tr>\n",
       "    <tr>\n",
       "      <th>1</th>\n",
       "      <td>2016-w09</td>\n",
       "      <td>Amazonas</td>\n",
       "      <td>2</td>\n",
       "      <td>0.000537</td>\n",
       "      <td>1</td>\n",
       "    </tr>\n",
       "    <tr>\n",
       "      <th>2</th>\n",
       "      <td>2016-w09</td>\n",
       "      <td>Bahia</td>\n",
       "      <td>14</td>\n",
       "      <td>0.003757</td>\n",
       "      <td>9</td>\n",
       "    </tr>\n",
       "    <tr>\n",
       "      <th>3</th>\n",
       "      <td>2016-w09</td>\n",
       "      <td>Ceara</td>\n",
       "      <td>4</td>\n",
       "      <td>0.001074</td>\n",
       "      <td>2</td>\n",
       "    </tr>\n",
       "    <tr>\n",
       "      <th>4</th>\n",
       "      <td>2016-w09</td>\n",
       "      <td>Distrito Federal</td>\n",
       "      <td>9</td>\n",
       "      <td>0.002415</td>\n",
       "      <td>5</td>\n",
       "    </tr>\n",
       "    <tr>\n",
       "      <th>...</th>\n",
       "      <td>...</td>\n",
       "      <td>...</td>\n",
       "      <td>...</td>\n",
       "      <td>...</td>\n",
       "      <td>...</td>\n",
       "    </tr>\n",
       "    <tr>\n",
       "      <th>110</th>\n",
       "      <td>2016-w13</td>\n",
       "      <td>Roraima</td>\n",
       "      <td>6</td>\n",
       "      <td>0.001610</td>\n",
       "      <td>3</td>\n",
       "    </tr>\n",
       "    <tr>\n",
       "      <th>111</th>\n",
       "      <td>2016-w13</td>\n",
       "      <td>Santa Catarina</td>\n",
       "      <td>61</td>\n",
       "      <td>0.016371</td>\n",
       "      <td>40</td>\n",
       "    </tr>\n",
       "    <tr>\n",
       "      <th>112</th>\n",
       "      <td>2016-w13</td>\n",
       "      <td>Sao Paulo</td>\n",
       "      <td>373</td>\n",
       "      <td>0.100107</td>\n",
       "      <td>245</td>\n",
       "    </tr>\n",
       "    <tr>\n",
       "      <th>113</th>\n",
       "      <td>2016-w13</td>\n",
       "      <td>Sergipe</td>\n",
       "      <td>19</td>\n",
       "      <td>0.005099</td>\n",
       "      <td>12</td>\n",
       "    </tr>\n",
       "    <tr>\n",
       "      <th>114</th>\n",
       "      <td>2016-w13</td>\n",
       "      <td>Tocantins</td>\n",
       "      <td>7</td>\n",
       "      <td>0.001879</td>\n",
       "      <td>4</td>\n",
       "    </tr>\n",
       "  </tbody>\n",
       "</table>\n",
       "<p>115 rows × 5 columns</p>\n",
       "</div>"
      ],
      "text/plain": [
       "    year_week      LocationName  group_size  proportion  sample_size\n",
       "0    2016-w09             Amapa           2    0.000537            1\n",
       "1    2016-w09          Amazonas           2    0.000537            1\n",
       "2    2016-w09             Bahia          14    0.003757            9\n",
       "3    2016-w09             Ceara           4    0.001074            2\n",
       "4    2016-w09  Distrito Federal           9    0.002415            5\n",
       "..        ...               ...         ...         ...          ...\n",
       "110  2016-w13           Roraima           6    0.001610            3\n",
       "111  2016-w13    Santa Catarina          61    0.016371           40\n",
       "112  2016-w13         Sao Paulo         373    0.100107          245\n",
       "113  2016-w13           Sergipe          19    0.005099           12\n",
       "114  2016-w13         Tocantins           7    0.001879            4\n",
       "\n",
       "[115 rows x 5 columns]"
      ]
     },
     "execution_count": 36,
     "metadata": {},
     "output_type": "execute_result"
    }
   ],
   "source": [
    "# Step 3: Define the target sample size\n",
    "target_sample_size = 2450\n",
    "\n",
    "# Step 4: Calculate the sample size for each group (based on its proportion)\n",
    "group_sizes['sample_size'] = np.floor(group_sizes['proportion'] * target_sample_size).astype(int)\n",
    "group_sizes"
   ]
  },
  {
   "cell_type": "code",
   "execution_count": 37,
   "id": "3199567d",
   "metadata": {},
   "outputs": [],
   "source": [
    "# Step 5: Merge this sample size information back to the original DataFrame\n",
    "df_2016_03_neu_sample_size = pd.merge(df_2016_03_neu, group_sizes[['year_week', 'LocationName', 'sample_size']], \n",
    "                               on=['year_week', 'LocationName'], how='left')"
   ]
  },
  {
   "cell_type": "code",
   "execution_count": 38,
   "id": "85bda885",
   "metadata": {},
   "outputs": [
    {
     "name": "stdout",
     "output_type": "stream",
     "text": [
      "Sampled 2389 rows.\n"
     ]
    }
   ],
   "source": [
    "# Step 6: Perform the stratified sampling\n",
    "df_2016_03_neu_sample = df_2016_03_neu_sample_size.groupby(['year_week', 'LocationName']).apply(\n",
    "    lambda group: group.sample(n=group['sample_size'].iloc[0], random_state=42)\n",
    ").reset_index(drop=True)\n",
    "\n",
    "# Step 7: Check the result\n",
    "print(f\"Sampled {len(df_2016_03_neu_sample)} rows.\")\n"
   ]
  },
  {
   "cell_type": "code",
   "execution_count": 39,
   "id": "f3fa81a3",
   "metadata": {},
   "outputs": [],
   "source": [
    "text_gpt_2016_03_neu = '\\n'.join(df_2016_03_neu_sample['text'].astype(str))"
   ]
  },
  {
   "cell_type": "markdown",
   "id": "8667813b",
   "metadata": {},
   "source": [
    "### Prompts and loops"
   ]
  },
  {
   "cell_type": "code",
   "execution_count": 40,
   "id": "eacb83af",
   "metadata": {},
   "outputs": [],
   "source": [
    "prompt_3 = prompt_raw.replace('TWEETS', text_gpt_2016_03_neu)"
   ]
  },
  {
   "cell_type": "code",
   "execution_count": 41,
   "id": "f0d6fe7e",
   "metadata": {
    "scrolled": false
   },
   "outputs": [],
   "source": [
    "response = openai.ChatCompletion.create(\n",
    "    model=\"gpt-4o-mini\",  \n",
    "    messages = [\n",
    "        {\"role\": \"user\", \"content\": prompt_3}\n",
    "    ],\n",
    "    max_tokens=400,  # Maximum number of tokens in the response\n",
    "    temperature=0.7  # Controls the randomness of the output\n",
    ")"
   ]
  },
  {
   "cell_type": "code",
   "execution_count": 42,
   "id": "df41b84e",
   "metadata": {},
   "outputs": [
    {
     "data": {
      "text/plain": [
       "'The text discusses various vaccination campaigns in Brazil, including those against foot-and-mouth disease, rabies, HPV, and H1N1. It highlights the urgency of vaccination due to outbreaks, public health initiatives, and the need for timely vaccination to prevent diseases. Additionally, it features personal anecdotes about taking pets for vaccination and the challenges faced by individuals regarding their vaccinations.'"
      ]
     },
     "execution_count": 42,
     "metadata": {},
     "output_type": "execute_result"
    }
   ],
   "source": [
    "response.choices[0].message.content"
   ]
  },
  {
   "cell_type": "code",
   "execution_count": 43,
   "id": "ef274df0",
   "metadata": {},
   "outputs": [],
   "source": [
    "#summary = []\n",
    "#dataset = []"
   ]
  },
  {
   "cell_type": "code",
   "execution_count": 44,
   "id": "457a283a",
   "metadata": {},
   "outputs": [],
   "source": [
    "dataset.append(\"2016_03_neutral\")"
   ]
  },
  {
   "cell_type": "code",
   "execution_count": 45,
   "id": "fe793b75",
   "metadata": {},
   "outputs": [],
   "source": [
    "summary.append(response.choices[0].message.content)"
   ]
  },
  {
   "cell_type": "code",
   "execution_count": 46,
   "id": "98f918a7",
   "metadata": {
    "tags": []
   },
   "outputs": [
    {
     "name": "stdout",
     "output_type": "stream",
     "text": [
      "<class 'pandas.core.frame.DataFrame'>\n",
      "RangeIndex: 3 entries, 0 to 2\n",
      "Data columns (total 2 columns):\n",
      " #   Column   Non-Null Count  Dtype \n",
      "---  ------   --------------  ----- \n",
      " 0   dataset  3 non-null      object\n",
      " 1   summary  3 non-null      object\n",
      "dtypes: object(2)\n",
      "memory usage: 176.0+ bytes\n"
     ]
    }
   ],
   "source": [
    "df_2016_neu = pd.DataFrame(list(zip(dataset, summary)),\n",
    "                            columns = ['dataset', 'summary'])\n",
    "df_2016_neu.info()"
   ]
  },
  {
   "cell_type": "code",
   "execution_count": 47,
   "id": "33094c65",
   "metadata": {},
   "outputs": [
    {
     "data": {
      "text/html": [
       "<div>\n",
       "<style scoped>\n",
       "    .dataframe tbody tr th:only-of-type {\n",
       "        vertical-align: middle;\n",
       "    }\n",
       "\n",
       "    .dataframe tbody tr th {\n",
       "        vertical-align: top;\n",
       "    }\n",
       "\n",
       "    .dataframe thead th {\n",
       "        text-align: right;\n",
       "    }\n",
       "</style>\n",
       "<table border=\"1\" class=\"dataframe\">\n",
       "  <thead>\n",
       "    <tr style=\"text-align: right;\">\n",
       "      <th></th>\n",
       "      <th>dataset</th>\n",
       "      <th>summary</th>\n",
       "    </tr>\n",
       "  </thead>\n",
       "  <tbody>\n",
       "    <tr>\n",
       "      <th>0</th>\n",
       "      <td>2016_01_neutral</td>\n",
       "      <td>The Ministry of Health of Brazil announced upd...</td>\n",
       "    </tr>\n",
       "    <tr>\n",
       "      <th>1</th>\n",
       "      <td>2016_02_neutral</td>\n",
       "      <td>The texts discuss the development of vaccines ...</td>\n",
       "    </tr>\n",
       "    <tr>\n",
       "      <th>2</th>\n",
       "      <td>2016_03_neutral</td>\n",
       "      <td>The text discusses various vaccination campaig...</td>\n",
       "    </tr>\n",
       "  </tbody>\n",
       "</table>\n",
       "</div>"
      ],
      "text/plain": [
       "           dataset                                            summary\n",
       "0  2016_01_neutral  The Ministry of Health of Brazil announced upd...\n",
       "1  2016_02_neutral  The texts discuss the development of vaccines ...\n",
       "2  2016_03_neutral  The text discusses various vaccination campaig..."
      ]
     },
     "execution_count": 47,
     "metadata": {},
     "output_type": "execute_result"
    }
   ],
   "source": [
    "df_2016_neu.tail(14)"
   ]
  },
  {
   "cell_type": "code",
   "execution_count": 48,
   "id": "786d137a",
   "metadata": {},
   "outputs": [
    {
     "data": {
      "text/plain": [
       "<OpenAIObject chat.completion id=chatcmpl-AUcuXnhm1gczodewS4cf2I9lGOy3f at 0x2228675f5e0> JSON: {\n",
       "  \"choices\": [\n",
       "    {\n",
       "      \"finish_reason\": \"stop\",\n",
       "      \"index\": 0,\n",
       "      \"logprobs\": null,\n",
       "      \"message\": {\n",
       "        \"content\": \"The text discusses various vaccination campaigns in Brazil, including those against foot-and-mouth disease, rabies, HPV, and H1N1. It highlights the urgency of vaccination due to outbreaks, public health initiatives, and the need for timely vaccination to prevent diseases. Additionally, it features personal anecdotes about taking pets for vaccination and the challenges faced by individuals regarding their vaccinations.\",\n",
       "        \"refusal\": null,\n",
       "        \"role\": \"assistant\"\n",
       "      }\n",
       "    }\n",
       "  ],\n",
       "  \"created\": 1731862777,\n",
       "  \"id\": \"chatcmpl-AUcuXnhm1gczodewS4cf2I9lGOy3f\",\n",
       "  \"model\": \"gpt-4o-mini-2024-07-18\",\n",
       "  \"object\": \"chat.completion\",\n",
       "  \"system_fingerprint\": \"fp_0ba0d124f1\",\n",
       "  \"usage\": {\n",
       "    \"completion_tokens\": 73,\n",
       "    \"completion_tokens_details\": {\n",
       "      \"accepted_prediction_tokens\": 0,\n",
       "      \"audio_tokens\": 0,\n",
       "      \"reasoning_tokens\": 0,\n",
       "      \"rejected_prediction_tokens\": 0\n",
       "    },\n",
       "    \"prompt_tokens\": 55689,\n",
       "    \"prompt_tokens_details\": {\n",
       "      \"audio_tokens\": 0,\n",
       "      \"cached_tokens\": 0\n",
       "    },\n",
       "    \"total_tokens\": 55762\n",
       "  }\n",
       "}"
      ]
     },
     "execution_count": 48,
     "metadata": {},
     "output_type": "execute_result"
    }
   ],
   "source": [
    "response"
   ]
  },
  {
   "cell_type": "markdown",
   "id": "831ae281",
   "metadata": {},
   "source": [
    "## April"
   ]
  },
  {
   "cell_type": "code",
   "execution_count": 49,
   "id": "27f75754",
   "metadata": {
    "scrolled": true,
    "tags": []
   },
   "outputs": [
    {
     "name": "stdout",
     "output_type": "stream",
     "text": [
      "<class 'pandas.core.frame.DataFrame'>\n",
      "RangeIndex: 16001 entries, 0 to 16000\n",
      "Data columns (total 53 columns):\n",
      " #   Column                  Non-Null Count  Dtype  \n",
      "---  ------                  --------------  -----  \n",
      " 0   index                   16001 non-null  int64  \n",
      " 1   LocationCode            16001 non-null  object \n",
      " 2   LocationName            16001 non-null  object \n",
      " 3   StatesCode              16001 non-null  object \n",
      " 4   ...4                    16001 non-null  int64  \n",
      " 5   id                      16001 non-null  float64\n",
      " 6   text                    16001 non-null  object \n",
      " 7   label                   16001 non-null  object \n",
      " 8   in_reply_to_status_id   595 non-null    float64\n",
      " 9   in_reply_to_user_id     933 non-null    float64\n",
      " 10  quoted_user_id          165 non-null    float64\n",
      " 11  quoted_status_id        165 non-null    float64\n",
      " 12  retweeted_user_id       2844 non-null   float64\n",
      " 13  retweeted_status_id     2844 non-null   float64\n",
      " 14  created_at              16001 non-null  object \n",
      " 15  entities.user_mentions  5467 non-null   object \n",
      " 16  user.id                 16001 non-null  float64\n",
      " 17  user.screen_name        16001 non-null  object \n",
      " 18  user.name               16001 non-null  object \n",
      " 19  user.description        13975 non-null  object \n",
      " 20  user.timezone           0 non-null      float64\n",
      " 21  user.location           15800 non-null  object \n",
      " 22  user.num_followers      16001 non-null  int64  \n",
      " 23  user.num_following      16001 non-null  int64  \n",
      " 24  user.created_at         16001 non-null  object \n",
      " 25  user.statuses_count     16001 non-null  int64  \n",
      " 26  user.is_verified        16001 non-null  bool   \n",
      " 27  lang                    16001 non-null  object \n",
      " 28  token_count             16001 non-null  int64  \n",
      " 29  is_retweet              16001 non-null  bool   \n",
      " 30  has_quote               16001 non-null  bool   \n",
      " 31  is_reply                16001 non-null  bool   \n",
      " 32  contains_keywords       16001 non-null  bool   \n",
      " 33  longitude               16001 non-null  float64\n",
      " 34  latitude                16001 non-null  float64\n",
      " 35  country_code            16001 non-null  object \n",
      " 36  geoname_id              14992 non-null  float64\n",
      " 37  location_type           16001 non-null  object \n",
      " 38  geo_type                16001 non-null  int64  \n",
      " 39  region                  16001 non-null  object \n",
      " 40  subregion               16001 non-null  object \n",
      " 41  num_quotes              16001 non-null  int64  \n",
      " 42  num_replies             16001 non-null  int64  \n",
      " 43  num_retweets            16001 non-null  int64  \n",
      " 44  sent_gpt                16001 non-null  object \n",
      " 45  gpt_sent_presence       16001 non-null  int64  \n",
      " 46  cleaned_text_lem        16001 non-null  object \n",
      " 47  cleaned_text            16001 non-null  object \n",
      " 48  month                   16001 non-null  int64  \n",
      " 49  year                    16001 non-null  int64  \n",
      " 50  week                    16001 non-null  int64  \n",
      " 51  year_month              16001 non-null  object \n",
      " 52  year_week               16001 non-null  object \n",
      "dtypes: bool(5), float64(12), int64(14), object(22)\n",
      "memory usage: 5.9+ MB\n"
     ]
    }
   ],
   "source": [
    "# Get monthly data\n",
    "df_2016_04_neu = pd.read_csv('../data/local/df_neu_2016-04.csv').reset_index()\n",
    "df_2016_04_neu.info()"
   ]
  },
  {
   "cell_type": "markdown",
   "id": "26e58f5c",
   "metadata": {},
   "source": [
    "### Representative sample based on week and location"
   ]
  },
  {
   "cell_type": "code",
   "execution_count": 50,
   "id": "220978bb",
   "metadata": {},
   "outputs": [
    {
     "data": {
      "text/html": [
       "<div>\n",
       "<style scoped>\n",
       "    .dataframe tbody tr th:only-of-type {\n",
       "        vertical-align: middle;\n",
       "    }\n",
       "\n",
       "    .dataframe tbody tr th {\n",
       "        vertical-align: top;\n",
       "    }\n",
       "\n",
       "    .dataframe thead th {\n",
       "        text-align: right;\n",
       "    }\n",
       "</style>\n",
       "<table border=\"1\" class=\"dataframe\">\n",
       "  <thead>\n",
       "    <tr style=\"text-align: right;\">\n",
       "      <th></th>\n",
       "      <th>year_week</th>\n",
       "      <th>LocationName</th>\n",
       "      <th>group_size</th>\n",
       "      <th>proportion</th>\n",
       "    </tr>\n",
       "  </thead>\n",
       "  <tbody>\n",
       "    <tr>\n",
       "      <th>0</th>\n",
       "      <td>2016-w14</td>\n",
       "      <td>Acre</td>\n",
       "      <td>13</td>\n",
       "      <td>0.000812</td>\n",
       "    </tr>\n",
       "    <tr>\n",
       "      <th>1</th>\n",
       "      <td>2016-w14</td>\n",
       "      <td>Alagoas</td>\n",
       "      <td>48</td>\n",
       "      <td>0.003000</td>\n",
       "    </tr>\n",
       "    <tr>\n",
       "      <th>2</th>\n",
       "      <td>2016-w14</td>\n",
       "      <td>Amapa</td>\n",
       "      <td>57</td>\n",
       "      <td>0.003562</td>\n",
       "    </tr>\n",
       "    <tr>\n",
       "      <th>3</th>\n",
       "      <td>2016-w14</td>\n",
       "      <td>Amazonas</td>\n",
       "      <td>40</td>\n",
       "      <td>0.002500</td>\n",
       "    </tr>\n",
       "    <tr>\n",
       "      <th>4</th>\n",
       "      <td>2016-w14</td>\n",
       "      <td>Bahia</td>\n",
       "      <td>166</td>\n",
       "      <td>0.010374</td>\n",
       "    </tr>\n",
       "    <tr>\n",
       "      <th>...</th>\n",
       "      <td>...</td>\n",
       "      <td>...</td>\n",
       "      <td>...</td>\n",
       "      <td>...</td>\n",
       "    </tr>\n",
       "    <tr>\n",
       "      <th>123</th>\n",
       "      <td>2016-w18</td>\n",
       "      <td>Roraima</td>\n",
       "      <td>13</td>\n",
       "      <td>0.000812</td>\n",
       "    </tr>\n",
       "    <tr>\n",
       "      <th>124</th>\n",
       "      <td>2016-w18</td>\n",
       "      <td>Santa Catarina</td>\n",
       "      <td>47</td>\n",
       "      <td>0.002937</td>\n",
       "    </tr>\n",
       "    <tr>\n",
       "      <th>125</th>\n",
       "      <td>2016-w18</td>\n",
       "      <td>Sao Paulo</td>\n",
       "      <td>221</td>\n",
       "      <td>0.013812</td>\n",
       "    </tr>\n",
       "    <tr>\n",
       "      <th>126</th>\n",
       "      <td>2016-w18</td>\n",
       "      <td>Sergipe</td>\n",
       "      <td>43</td>\n",
       "      <td>0.002687</td>\n",
       "    </tr>\n",
       "    <tr>\n",
       "      <th>127</th>\n",
       "      <td>2016-w18</td>\n",
       "      <td>Tocantins</td>\n",
       "      <td>5</td>\n",
       "      <td>0.000312</td>\n",
       "    </tr>\n",
       "  </tbody>\n",
       "</table>\n",
       "<p>128 rows × 4 columns</p>\n",
       "</div>"
      ],
      "text/plain": [
       "    year_week    LocationName  group_size  proportion\n",
       "0    2016-w14            Acre          13    0.000812\n",
       "1    2016-w14         Alagoas          48    0.003000\n",
       "2    2016-w14           Amapa          57    0.003562\n",
       "3    2016-w14        Amazonas          40    0.002500\n",
       "4    2016-w14           Bahia         166    0.010374\n",
       "..        ...             ...         ...         ...\n",
       "123  2016-w18         Roraima          13    0.000812\n",
       "124  2016-w18  Santa Catarina          47    0.002937\n",
       "125  2016-w18       Sao Paulo         221    0.013812\n",
       "126  2016-w18         Sergipe          43    0.002687\n",
       "127  2016-w18       Tocantins           5    0.000312\n",
       "\n",
       "[128 rows x 4 columns]"
      ]
     },
     "execution_count": 50,
     "metadata": {},
     "output_type": "execute_result"
    }
   ],
   "source": [
    "# Step 1: Calculate the size of each group (year_week, LocationName)\n",
    "group_sizes = df_2016_04_neu.groupby(['year_week', 'LocationName']).size().reset_index(name='group_size')\n",
    "\n",
    "# Step 2: Calculate the proportion of each group in the dataset\n",
    "total_rows = len(df_2016_04_neu)\n",
    "group_sizes['proportion'] = group_sizes['group_size'] / total_rows\n",
    "group_sizes"
   ]
  },
  {
   "cell_type": "code",
   "execution_count": 51,
   "id": "f2d52380",
   "metadata": {},
   "outputs": [
    {
     "data": {
      "text/html": [
       "<div>\n",
       "<style scoped>\n",
       "    .dataframe tbody tr th:only-of-type {\n",
       "        vertical-align: middle;\n",
       "    }\n",
       "\n",
       "    .dataframe tbody tr th {\n",
       "        vertical-align: top;\n",
       "    }\n",
       "\n",
       "    .dataframe thead th {\n",
       "        text-align: right;\n",
       "    }\n",
       "</style>\n",
       "<table border=\"1\" class=\"dataframe\">\n",
       "  <thead>\n",
       "    <tr style=\"text-align: right;\">\n",
       "      <th></th>\n",
       "      <th>year_week</th>\n",
       "      <th>LocationName</th>\n",
       "      <th>group_size</th>\n",
       "      <th>proportion</th>\n",
       "      <th>sample_size</th>\n",
       "    </tr>\n",
       "  </thead>\n",
       "  <tbody>\n",
       "    <tr>\n",
       "      <th>0</th>\n",
       "      <td>2016-w14</td>\n",
       "      <td>Acre</td>\n",
       "      <td>13</td>\n",
       "      <td>0.000812</td>\n",
       "      <td>1</td>\n",
       "    </tr>\n",
       "    <tr>\n",
       "      <th>1</th>\n",
       "      <td>2016-w14</td>\n",
       "      <td>Alagoas</td>\n",
       "      <td>48</td>\n",
       "      <td>0.003000</td>\n",
       "      <td>7</td>\n",
       "    </tr>\n",
       "    <tr>\n",
       "      <th>2</th>\n",
       "      <td>2016-w14</td>\n",
       "      <td>Amapa</td>\n",
       "      <td>57</td>\n",
       "      <td>0.003562</td>\n",
       "      <td>8</td>\n",
       "    </tr>\n",
       "    <tr>\n",
       "      <th>3</th>\n",
       "      <td>2016-w14</td>\n",
       "      <td>Amazonas</td>\n",
       "      <td>40</td>\n",
       "      <td>0.002500</td>\n",
       "      <td>6</td>\n",
       "    </tr>\n",
       "    <tr>\n",
       "      <th>4</th>\n",
       "      <td>2016-w14</td>\n",
       "      <td>Bahia</td>\n",
       "      <td>166</td>\n",
       "      <td>0.010374</td>\n",
       "      <td>25</td>\n",
       "    </tr>\n",
       "    <tr>\n",
       "      <th>...</th>\n",
       "      <td>...</td>\n",
       "      <td>...</td>\n",
       "      <td>...</td>\n",
       "      <td>...</td>\n",
       "      <td>...</td>\n",
       "    </tr>\n",
       "    <tr>\n",
       "      <th>123</th>\n",
       "      <td>2016-w18</td>\n",
       "      <td>Roraima</td>\n",
       "      <td>13</td>\n",
       "      <td>0.000812</td>\n",
       "      <td>1</td>\n",
       "    </tr>\n",
       "    <tr>\n",
       "      <th>124</th>\n",
       "      <td>2016-w18</td>\n",
       "      <td>Santa Catarina</td>\n",
       "      <td>47</td>\n",
       "      <td>0.002937</td>\n",
       "      <td>7</td>\n",
       "    </tr>\n",
       "    <tr>\n",
       "      <th>125</th>\n",
       "      <td>2016-w18</td>\n",
       "      <td>Sao Paulo</td>\n",
       "      <td>221</td>\n",
       "      <td>0.013812</td>\n",
       "      <td>33</td>\n",
       "    </tr>\n",
       "    <tr>\n",
       "      <th>126</th>\n",
       "      <td>2016-w18</td>\n",
       "      <td>Sergipe</td>\n",
       "      <td>43</td>\n",
       "      <td>0.002687</td>\n",
       "      <td>6</td>\n",
       "    </tr>\n",
       "    <tr>\n",
       "      <th>127</th>\n",
       "      <td>2016-w18</td>\n",
       "      <td>Tocantins</td>\n",
       "      <td>5</td>\n",
       "      <td>0.000312</td>\n",
       "      <td>0</td>\n",
       "    </tr>\n",
       "  </tbody>\n",
       "</table>\n",
       "<p>128 rows × 5 columns</p>\n",
       "</div>"
      ],
      "text/plain": [
       "    year_week    LocationName  group_size  proportion  sample_size\n",
       "0    2016-w14            Acre          13    0.000812            1\n",
       "1    2016-w14         Alagoas          48    0.003000            7\n",
       "2    2016-w14           Amapa          57    0.003562            8\n",
       "3    2016-w14        Amazonas          40    0.002500            6\n",
       "4    2016-w14           Bahia         166    0.010374           25\n",
       "..        ...             ...         ...         ...          ...\n",
       "123  2016-w18         Roraima          13    0.000812            1\n",
       "124  2016-w18  Santa Catarina          47    0.002937            7\n",
       "125  2016-w18       Sao Paulo         221    0.013812           33\n",
       "126  2016-w18         Sergipe          43    0.002687            6\n",
       "127  2016-w18       Tocantins           5    0.000312            0\n",
       "\n",
       "[128 rows x 5 columns]"
      ]
     },
     "execution_count": 51,
     "metadata": {},
     "output_type": "execute_result"
    }
   ],
   "source": [
    "# Step 3: Define the target sample size\n",
    "target_sample_size = 2450\n",
    "\n",
    "# Step 4: Calculate the sample size for each group (based on its proportion)\n",
    "group_sizes['sample_size'] = np.floor(group_sizes['proportion'] * target_sample_size).astype(int)\n",
    "group_sizes"
   ]
  },
  {
   "cell_type": "code",
   "execution_count": 52,
   "id": "e3186670",
   "metadata": {},
   "outputs": [],
   "source": [
    "# Step 5: Merge this sample size information back to the original DataFrame\n",
    "df_2016_04_neu_sample_size = pd.merge(df_2016_04_neu, group_sizes[['year_week', 'LocationName', 'sample_size']], \n",
    "                               on=['year_week', 'LocationName'], how='left')"
   ]
  },
  {
   "cell_type": "code",
   "execution_count": 53,
   "id": "da623d38",
   "metadata": {},
   "outputs": [
    {
     "name": "stdout",
     "output_type": "stream",
     "text": [
      "Sampled 2381 rows.\n"
     ]
    }
   ],
   "source": [
    "# Step 6: Perform the stratified sampling\n",
    "df_2016_04_neu_sample = df_2016_04_neu_sample_size.groupby(['year_week', 'LocationName']).apply(\n",
    "    lambda group: group.sample(n=group['sample_size'].iloc[0], random_state=42)\n",
    ").reset_index(drop=True)\n",
    "\n",
    "# Step 7: Check the result\n",
    "print(f\"Sampled {len(df_2016_04_neu_sample)} rows.\")\n"
   ]
  },
  {
   "cell_type": "code",
   "execution_count": 54,
   "id": "06886cfb",
   "metadata": {},
   "outputs": [],
   "source": [
    "text_gpt_2016_04_neu = '\\n'.join(df_2016_04_neu_sample['text'].astype(str))"
   ]
  },
  {
   "cell_type": "markdown",
   "id": "20cd54a3",
   "metadata": {},
   "source": [
    "### Prompts and loops"
   ]
  },
  {
   "cell_type": "code",
   "execution_count": 55,
   "id": "1e5908cc",
   "metadata": {},
   "outputs": [],
   "source": [
    "prompt_4 = prompt_raw.replace('TWEETS', text_gpt_2016_04_neu)"
   ]
  },
  {
   "cell_type": "code",
   "execution_count": 56,
   "id": "c1948a31",
   "metadata": {
    "scrolled": false
   },
   "outputs": [],
   "source": [
    "response = openai.ChatCompletion.create(\n",
    "    model=\"gpt-4o-mini\",  \n",
    "    messages = [\n",
    "        {\"role\": \"user\", \"content\": prompt_4}\n",
    "    ],\n",
    "    max_tokens=400,  # Maximum number of tokens in the response\n",
    "    temperature=0.7  # Controls the randomness of the output\n",
    ")"
   ]
  },
  {
   "cell_type": "code",
   "execution_count": 57,
   "id": "3001d55a",
   "metadata": {},
   "outputs": [
    {
     "data": {
      "text/plain": [
       "'The texts discuss various vaccination campaigns against H1N1 and rabies in Brazil. They highlight the urgency for vaccinations due to rising flu cases, the long lines at clinics, and public health efforts to immunize vulnerable populations. The government is distributing vaccines, with specific dates and locations announced for public access.'"
      ]
     },
     "execution_count": 57,
     "metadata": {},
     "output_type": "execute_result"
    }
   ],
   "source": [
    "response.choices[0].message.content"
   ]
  },
  {
   "cell_type": "code",
   "execution_count": 58,
   "id": "9884359c",
   "metadata": {},
   "outputs": [],
   "source": [
    "#summary = []\n",
    "#dataset = []"
   ]
  },
  {
   "cell_type": "code",
   "execution_count": 59,
   "id": "75c267cd",
   "metadata": {},
   "outputs": [],
   "source": [
    "dataset.append(\"2016_04_neutral\")"
   ]
  },
  {
   "cell_type": "code",
   "execution_count": 60,
   "id": "92cc4b47",
   "metadata": {},
   "outputs": [],
   "source": [
    "summary.append(response.choices[0].message.content)"
   ]
  },
  {
   "cell_type": "code",
   "execution_count": 61,
   "id": "7f7efe9f",
   "metadata": {
    "tags": []
   },
   "outputs": [
    {
     "name": "stdout",
     "output_type": "stream",
     "text": [
      "<class 'pandas.core.frame.DataFrame'>\n",
      "RangeIndex: 4 entries, 0 to 3\n",
      "Data columns (total 2 columns):\n",
      " #   Column   Non-Null Count  Dtype \n",
      "---  ------   --------------  ----- \n",
      " 0   dataset  4 non-null      object\n",
      " 1   summary  4 non-null      object\n",
      "dtypes: object(2)\n",
      "memory usage: 192.0+ bytes\n"
     ]
    }
   ],
   "source": [
    "df_2016_neu = pd.DataFrame(list(zip(dataset, summary)),\n",
    "                            columns = ['dataset', 'summary'])\n",
    "df_2016_neu.info()"
   ]
  },
  {
   "cell_type": "code",
   "execution_count": 62,
   "id": "6fbcb530",
   "metadata": {},
   "outputs": [
    {
     "data": {
      "text/html": [
       "<div>\n",
       "<style scoped>\n",
       "    .dataframe tbody tr th:only-of-type {\n",
       "        vertical-align: middle;\n",
       "    }\n",
       "\n",
       "    .dataframe tbody tr th {\n",
       "        vertical-align: top;\n",
       "    }\n",
       "\n",
       "    .dataframe thead th {\n",
       "        text-align: right;\n",
       "    }\n",
       "</style>\n",
       "<table border=\"1\" class=\"dataframe\">\n",
       "  <thead>\n",
       "    <tr style=\"text-align: right;\">\n",
       "      <th></th>\n",
       "      <th>dataset</th>\n",
       "      <th>summary</th>\n",
       "    </tr>\n",
       "  </thead>\n",
       "  <tbody>\n",
       "    <tr>\n",
       "      <th>0</th>\n",
       "      <td>2016_01_neutral</td>\n",
       "      <td>The Ministry of Health of Brazil announced upd...</td>\n",
       "    </tr>\n",
       "    <tr>\n",
       "      <th>1</th>\n",
       "      <td>2016_02_neutral</td>\n",
       "      <td>The texts discuss the development of vaccines ...</td>\n",
       "    </tr>\n",
       "    <tr>\n",
       "      <th>2</th>\n",
       "      <td>2016_03_neutral</td>\n",
       "      <td>The text discusses various vaccination campaig...</td>\n",
       "    </tr>\n",
       "    <tr>\n",
       "      <th>3</th>\n",
       "      <td>2016_04_neutral</td>\n",
       "      <td>The texts discuss various vaccination campaign...</td>\n",
       "    </tr>\n",
       "  </tbody>\n",
       "</table>\n",
       "</div>"
      ],
      "text/plain": [
       "           dataset                                            summary\n",
       "0  2016_01_neutral  The Ministry of Health of Brazil announced upd...\n",
       "1  2016_02_neutral  The texts discuss the development of vaccines ...\n",
       "2  2016_03_neutral  The text discusses various vaccination campaig...\n",
       "3  2016_04_neutral  The texts discuss various vaccination campaign..."
      ]
     },
     "execution_count": 62,
     "metadata": {},
     "output_type": "execute_result"
    }
   ],
   "source": [
    "df_2016_neu.tail(14)"
   ]
  },
  {
   "cell_type": "code",
   "execution_count": 63,
   "id": "b0e25bc0",
   "metadata": {},
   "outputs": [
    {
     "data": {
      "text/plain": [
       "<OpenAIObject chat.completion id=chatcmpl-AUcudcftv8PLtueBe67Fda9BDP9LB at 0x22288587860> JSON: {\n",
       "  \"choices\": [\n",
       "    {\n",
       "      \"finish_reason\": \"stop\",\n",
       "      \"index\": 0,\n",
       "      \"logprobs\": null,\n",
       "      \"message\": {\n",
       "        \"content\": \"The texts discuss various vaccination campaigns against H1N1 and rabies in Brazil. They highlight the urgency for vaccinations due to rising flu cases, the long lines at clinics, and public health efforts to immunize vulnerable populations. The government is distributing vaccines, with specific dates and locations announced for public access.\",\n",
       "        \"refusal\": null,\n",
       "        \"role\": \"assistant\"\n",
       "      }\n",
       "    }\n",
       "  ],\n",
       "  \"created\": 1731862783,\n",
       "  \"id\": \"chatcmpl-AUcudcftv8PLtueBe67Fda9BDP9LB\",\n",
       "  \"model\": \"gpt-4o-mini-2024-07-18\",\n",
       "  \"object\": \"chat.completion\",\n",
       "  \"system_fingerprint\": \"fp_0ba0d124f1\",\n",
       "  \"usage\": {\n",
       "    \"completion_tokens\": 61,\n",
       "    \"completion_tokens_details\": {\n",
       "      \"accepted_prediction_tokens\": 0,\n",
       "      \"audio_tokens\": 0,\n",
       "      \"reasoning_tokens\": 0,\n",
       "      \"rejected_prediction_tokens\": 0\n",
       "    },\n",
       "    \"prompt_tokens\": 56034,\n",
       "    \"prompt_tokens_details\": {\n",
       "      \"audio_tokens\": 0,\n",
       "      \"cached_tokens\": 0\n",
       "    },\n",
       "    \"total_tokens\": 56095\n",
       "  }\n",
       "}"
      ]
     },
     "execution_count": 63,
     "metadata": {},
     "output_type": "execute_result"
    }
   ],
   "source": [
    "response"
   ]
  },
  {
   "cell_type": "markdown",
   "id": "06842bac",
   "metadata": {},
   "source": [
    "## May"
   ]
  },
  {
   "cell_type": "code",
   "execution_count": 64,
   "id": "fe75998a",
   "metadata": {
    "scrolled": true,
    "tags": []
   },
   "outputs": [
    {
     "name": "stdout",
     "output_type": "stream",
     "text": [
      "<class 'pandas.core.frame.DataFrame'>\n",
      "RangeIndex: 10773 entries, 0 to 10772\n",
      "Data columns (total 53 columns):\n",
      " #   Column                  Non-Null Count  Dtype  \n",
      "---  ------                  --------------  -----  \n",
      " 0   index                   10773 non-null  int64  \n",
      " 1   LocationCode            10773 non-null  object \n",
      " 2   LocationName            10773 non-null  object \n",
      " 3   StatesCode              10773 non-null  object \n",
      " 4   ...4                    10773 non-null  int64  \n",
      " 5   id                      10773 non-null  float64\n",
      " 6   text                    10773 non-null  object \n",
      " 7   label                   10773 non-null  object \n",
      " 8   in_reply_to_status_id   554 non-null    float64\n",
      " 9   in_reply_to_user_id     952 non-null    float64\n",
      " 10  quoted_user_id          141 non-null    float64\n",
      " 11  quoted_status_id        141 non-null    float64\n",
      " 12  retweeted_user_id       1344 non-null   float64\n",
      " 13  retweeted_status_id     1344 non-null   float64\n",
      " 14  created_at              10773 non-null  object \n",
      " 15  entities.user_mentions  3396 non-null   object \n",
      " 16  user.id                 10773 non-null  float64\n",
      " 17  user.screen_name        10773 non-null  object \n",
      " 18  user.name               10773 non-null  object \n",
      " 19  user.description        9563 non-null   object \n",
      " 20  user.timezone           0 non-null      float64\n",
      " 21  user.location           10477 non-null  object \n",
      " 22  user.num_followers      10773 non-null  int64  \n",
      " 23  user.num_following      10773 non-null  int64  \n",
      " 24  user.created_at         10773 non-null  object \n",
      " 25  user.statuses_count     10773 non-null  int64  \n",
      " 26  user.is_verified        10773 non-null  bool   \n",
      " 27  lang                    10773 non-null  object \n",
      " 28  token_count             10773 non-null  int64  \n",
      " 29  is_retweet              10773 non-null  bool   \n",
      " 30  has_quote               10773 non-null  bool   \n",
      " 31  is_reply                10773 non-null  bool   \n",
      " 32  contains_keywords       10773 non-null  bool   \n",
      " 33  longitude               10773 non-null  float64\n",
      " 34  latitude                10773 non-null  float64\n",
      " 35  country_code            10773 non-null  object \n",
      " 36  geoname_id              9797 non-null   float64\n",
      " 37  location_type           10773 non-null  object \n",
      " 38  geo_type                10773 non-null  int64  \n",
      " 39  region                  10773 non-null  object \n",
      " 40  subregion               10773 non-null  object \n",
      " 41  num_quotes              10773 non-null  int64  \n",
      " 42  num_replies             10773 non-null  int64  \n",
      " 43  num_retweets            10773 non-null  int64  \n",
      " 44  sent_gpt                10773 non-null  object \n",
      " 45  gpt_sent_presence       10773 non-null  int64  \n",
      " 46  cleaned_text_lem        10773 non-null  object \n",
      " 47  cleaned_text            10773 non-null  object \n",
      " 48  month                   10773 non-null  int64  \n",
      " 49  year                    10773 non-null  int64  \n",
      " 50  week                    10773 non-null  int64  \n",
      " 51  year_month              10773 non-null  object \n",
      " 52  year_week               10773 non-null  object \n",
      "dtypes: bool(5), float64(12), int64(14), object(22)\n",
      "memory usage: 4.0+ MB\n"
     ]
    }
   ],
   "source": [
    "# Get monthly data\n",
    "df_2016_05_neu = pd.read_csv('../data/local/df_neu_2016-05.csv').reset_index()\n",
    "df_2016_05_neu.info()"
   ]
  },
  {
   "cell_type": "markdown",
   "id": "e02091c0",
   "metadata": {},
   "source": [
    "### Representative sample based on week and location"
   ]
  },
  {
   "cell_type": "code",
   "execution_count": 65,
   "id": "f961f47b",
   "metadata": {},
   "outputs": [
    {
     "data": {
      "text/html": [
       "<div>\n",
       "<style scoped>\n",
       "    .dataframe tbody tr th:only-of-type {\n",
       "        vertical-align: middle;\n",
       "    }\n",
       "\n",
       "    .dataframe tbody tr th {\n",
       "        vertical-align: top;\n",
       "    }\n",
       "\n",
       "    .dataframe thead th {\n",
       "        text-align: right;\n",
       "    }\n",
       "</style>\n",
       "<table border=\"1\" class=\"dataframe\">\n",
       "  <thead>\n",
       "    <tr style=\"text-align: right;\">\n",
       "      <th></th>\n",
       "      <th>year_week</th>\n",
       "      <th>LocationName</th>\n",
       "      <th>group_size</th>\n",
       "      <th>proportion</th>\n",
       "    </tr>\n",
       "  </thead>\n",
       "  <tbody>\n",
       "    <tr>\n",
       "      <th>0</th>\n",
       "      <td>2016-w18</td>\n",
       "      <td>Acre</td>\n",
       "      <td>6</td>\n",
       "      <td>0.000557</td>\n",
       "    </tr>\n",
       "    <tr>\n",
       "      <th>1</th>\n",
       "      <td>2016-w18</td>\n",
       "      <td>Alagoas</td>\n",
       "      <td>22</td>\n",
       "      <td>0.002042</td>\n",
       "    </tr>\n",
       "    <tr>\n",
       "      <th>2</th>\n",
       "      <td>2016-w18</td>\n",
       "      <td>Amapa</td>\n",
       "      <td>12</td>\n",
       "      <td>0.001114</td>\n",
       "    </tr>\n",
       "    <tr>\n",
       "      <th>3</th>\n",
       "      <td>2016-w18</td>\n",
       "      <td>Amazonas</td>\n",
       "      <td>46</td>\n",
       "      <td>0.004270</td>\n",
       "    </tr>\n",
       "    <tr>\n",
       "      <th>4</th>\n",
       "      <td>2016-w18</td>\n",
       "      <td>Bahia</td>\n",
       "      <td>178</td>\n",
       "      <td>0.016523</td>\n",
       "    </tr>\n",
       "    <tr>\n",
       "      <th>...</th>\n",
       "      <td>...</td>\n",
       "      <td>...</td>\n",
       "      <td>...</td>\n",
       "      <td>...</td>\n",
       "    </tr>\n",
       "    <tr>\n",
       "      <th>119</th>\n",
       "      <td>2016-w22</td>\n",
       "      <td>Rondonia</td>\n",
       "      <td>7</td>\n",
       "      <td>0.000650</td>\n",
       "    </tr>\n",
       "    <tr>\n",
       "      <th>120</th>\n",
       "      <td>2016-w22</td>\n",
       "      <td>Roraima</td>\n",
       "      <td>1</td>\n",
       "      <td>0.000093</td>\n",
       "    </tr>\n",
       "    <tr>\n",
       "      <th>121</th>\n",
       "      <td>2016-w22</td>\n",
       "      <td>Santa Catarina</td>\n",
       "      <td>11</td>\n",
       "      <td>0.001021</td>\n",
       "    </tr>\n",
       "    <tr>\n",
       "      <th>122</th>\n",
       "      <td>2016-w22</td>\n",
       "      <td>Sao Paulo</td>\n",
       "      <td>259</td>\n",
       "      <td>0.024042</td>\n",
       "    </tr>\n",
       "    <tr>\n",
       "      <th>123</th>\n",
       "      <td>2016-w22</td>\n",
       "      <td>Tocantins</td>\n",
       "      <td>5</td>\n",
       "      <td>0.000464</td>\n",
       "    </tr>\n",
       "  </tbody>\n",
       "</table>\n",
       "<p>124 rows × 4 columns</p>\n",
       "</div>"
      ],
      "text/plain": [
       "    year_week    LocationName  group_size  proportion\n",
       "0    2016-w18            Acre           6    0.000557\n",
       "1    2016-w18         Alagoas          22    0.002042\n",
       "2    2016-w18           Amapa          12    0.001114\n",
       "3    2016-w18        Amazonas          46    0.004270\n",
       "4    2016-w18           Bahia         178    0.016523\n",
       "..        ...             ...         ...         ...\n",
       "119  2016-w22        Rondonia           7    0.000650\n",
       "120  2016-w22         Roraima           1    0.000093\n",
       "121  2016-w22  Santa Catarina          11    0.001021\n",
       "122  2016-w22       Sao Paulo         259    0.024042\n",
       "123  2016-w22       Tocantins           5    0.000464\n",
       "\n",
       "[124 rows x 4 columns]"
      ]
     },
     "execution_count": 65,
     "metadata": {},
     "output_type": "execute_result"
    }
   ],
   "source": [
    "# Step 1: Calculate the size of each group (year_week, LocationName)\n",
    "group_sizes = df_2016_05_neu.groupby(['year_week', 'LocationName']).size().reset_index(name='group_size')\n",
    "\n",
    "# Step 2: Calculate the proportion of each group in the dataset\n",
    "total_rows = len(df_2016_05_neu)\n",
    "group_sizes['proportion'] = group_sizes['group_size'] / total_rows\n",
    "group_sizes"
   ]
  },
  {
   "cell_type": "code",
   "execution_count": 66,
   "id": "b84177f8",
   "metadata": {},
   "outputs": [
    {
     "data": {
      "text/html": [
       "<div>\n",
       "<style scoped>\n",
       "    .dataframe tbody tr th:only-of-type {\n",
       "        vertical-align: middle;\n",
       "    }\n",
       "\n",
       "    .dataframe tbody tr th {\n",
       "        vertical-align: top;\n",
       "    }\n",
       "\n",
       "    .dataframe thead th {\n",
       "        text-align: right;\n",
       "    }\n",
       "</style>\n",
       "<table border=\"1\" class=\"dataframe\">\n",
       "  <thead>\n",
       "    <tr style=\"text-align: right;\">\n",
       "      <th></th>\n",
       "      <th>year_week</th>\n",
       "      <th>LocationName</th>\n",
       "      <th>group_size</th>\n",
       "      <th>proportion</th>\n",
       "      <th>sample_size</th>\n",
       "    </tr>\n",
       "  </thead>\n",
       "  <tbody>\n",
       "    <tr>\n",
       "      <th>0</th>\n",
       "      <td>2016-w18</td>\n",
       "      <td>Acre</td>\n",
       "      <td>6</td>\n",
       "      <td>0.000557</td>\n",
       "      <td>1</td>\n",
       "    </tr>\n",
       "    <tr>\n",
       "      <th>1</th>\n",
       "      <td>2016-w18</td>\n",
       "      <td>Alagoas</td>\n",
       "      <td>22</td>\n",
       "      <td>0.002042</td>\n",
       "      <td>5</td>\n",
       "    </tr>\n",
       "    <tr>\n",
       "      <th>2</th>\n",
       "      <td>2016-w18</td>\n",
       "      <td>Amapa</td>\n",
       "      <td>12</td>\n",
       "      <td>0.001114</td>\n",
       "      <td>2</td>\n",
       "    </tr>\n",
       "    <tr>\n",
       "      <th>3</th>\n",
       "      <td>2016-w18</td>\n",
       "      <td>Amazonas</td>\n",
       "      <td>46</td>\n",
       "      <td>0.004270</td>\n",
       "      <td>10</td>\n",
       "    </tr>\n",
       "    <tr>\n",
       "      <th>4</th>\n",
       "      <td>2016-w18</td>\n",
       "      <td>Bahia</td>\n",
       "      <td>178</td>\n",
       "      <td>0.016523</td>\n",
       "      <td>40</td>\n",
       "    </tr>\n",
       "    <tr>\n",
       "      <th>...</th>\n",
       "      <td>...</td>\n",
       "      <td>...</td>\n",
       "      <td>...</td>\n",
       "      <td>...</td>\n",
       "      <td>...</td>\n",
       "    </tr>\n",
       "    <tr>\n",
       "      <th>119</th>\n",
       "      <td>2016-w22</td>\n",
       "      <td>Rondonia</td>\n",
       "      <td>7</td>\n",
       "      <td>0.000650</td>\n",
       "      <td>1</td>\n",
       "    </tr>\n",
       "    <tr>\n",
       "      <th>120</th>\n",
       "      <td>2016-w22</td>\n",
       "      <td>Roraima</td>\n",
       "      <td>1</td>\n",
       "      <td>0.000093</td>\n",
       "      <td>0</td>\n",
       "    </tr>\n",
       "    <tr>\n",
       "      <th>121</th>\n",
       "      <td>2016-w22</td>\n",
       "      <td>Santa Catarina</td>\n",
       "      <td>11</td>\n",
       "      <td>0.001021</td>\n",
       "      <td>2</td>\n",
       "    </tr>\n",
       "    <tr>\n",
       "      <th>122</th>\n",
       "      <td>2016-w22</td>\n",
       "      <td>Sao Paulo</td>\n",
       "      <td>259</td>\n",
       "      <td>0.024042</td>\n",
       "      <td>58</td>\n",
       "    </tr>\n",
       "    <tr>\n",
       "      <th>123</th>\n",
       "      <td>2016-w22</td>\n",
       "      <td>Tocantins</td>\n",
       "      <td>5</td>\n",
       "      <td>0.000464</td>\n",
       "      <td>1</td>\n",
       "    </tr>\n",
       "  </tbody>\n",
       "</table>\n",
       "<p>124 rows × 5 columns</p>\n",
       "</div>"
      ],
      "text/plain": [
       "    year_week    LocationName  group_size  proportion  sample_size\n",
       "0    2016-w18            Acre           6    0.000557            1\n",
       "1    2016-w18         Alagoas          22    0.002042            5\n",
       "2    2016-w18           Amapa          12    0.001114            2\n",
       "3    2016-w18        Amazonas          46    0.004270           10\n",
       "4    2016-w18           Bahia         178    0.016523           40\n",
       "..        ...             ...         ...         ...          ...\n",
       "119  2016-w22        Rondonia           7    0.000650            1\n",
       "120  2016-w22         Roraima           1    0.000093            0\n",
       "121  2016-w22  Santa Catarina          11    0.001021            2\n",
       "122  2016-w22       Sao Paulo         259    0.024042           58\n",
       "123  2016-w22       Tocantins           5    0.000464            1\n",
       "\n",
       "[124 rows x 5 columns]"
      ]
     },
     "execution_count": 66,
     "metadata": {},
     "output_type": "execute_result"
    }
   ],
   "source": [
    "# Step 3: Define the target sample size\n",
    "target_sample_size = 2450\n",
    "\n",
    "# Step 4: Calculate the sample size for each group (based on its proportion)\n",
    "group_sizes['sample_size'] = np.floor(group_sizes['proportion'] * target_sample_size).astype(int)\n",
    "group_sizes"
   ]
  },
  {
   "cell_type": "code",
   "execution_count": 67,
   "id": "81f4ba23",
   "metadata": {},
   "outputs": [],
   "source": [
    "# Step 5: Merge this sample size information back to the original DataFrame\n",
    "df_2016_05_neu_sample_size = pd.merge(df_2016_05_neu, group_sizes[['year_week', 'LocationName', 'sample_size']], \n",
    "                               on=['year_week', 'LocationName'], how='left')"
   ]
  },
  {
   "cell_type": "code",
   "execution_count": 68,
   "id": "024fe31d",
   "metadata": {},
   "outputs": [
    {
     "name": "stdout",
     "output_type": "stream",
     "text": [
      "Sampled 2387 rows.\n"
     ]
    }
   ],
   "source": [
    "# Step 6: Perform the stratified sampling\n",
    "df_2016_05_neu_sample = df_2016_05_neu_sample_size.groupby(['year_week', 'LocationName']).apply(\n",
    "    lambda group: group.sample(n=group['sample_size'].iloc[0], random_state=42)\n",
    ").reset_index(drop=True)\n",
    "\n",
    "# Step 7: Check the result\n",
    "print(f\"Sampled {len(df_2016_05_neu_sample)} rows.\")\n"
   ]
  },
  {
   "cell_type": "code",
   "execution_count": 69,
   "id": "17d01681",
   "metadata": {},
   "outputs": [],
   "source": [
    "text_gpt_2016_05_neu = '\\n'.join(df_2016_05_neu_sample['text'].astype(str))"
   ]
  },
  {
   "cell_type": "markdown",
   "id": "7b66d9fa",
   "metadata": {},
   "source": [
    "### Prompts and loops"
   ]
  },
  {
   "cell_type": "code",
   "execution_count": 70,
   "id": "55bf6697",
   "metadata": {},
   "outputs": [],
   "source": [
    "prompt_5 = prompt_raw.replace('TWEETS', text_gpt_2016_05_neu)"
   ]
  },
  {
   "cell_type": "code",
   "execution_count": 71,
   "id": "103e0d92",
   "metadata": {
    "scrolled": false
   },
   "outputs": [],
   "source": [
    "response = openai.ChatCompletion.create(\n",
    "    model=\"gpt-4o-mini\",  \n",
    "    messages = [\n",
    "        {\"role\": \"user\", \"content\": prompt_5}\n",
    "    ],\n",
    "    max_tokens=400,  # Maximum number of tokens in the response\n",
    "    temperature=0.7  # Controls the randomness of the output\n",
    ")"
   ]
  },
  {
   "cell_type": "code",
   "execution_count": 72,
   "id": "79b93f11",
   "metadata": {},
   "outputs": [
    {
     "data": {
      "text/plain": [
       "'The provided texts discuss various vaccination campaigns in Brazil, including those against H1N1, influenza, and foot-and-mouth disease. They highlight the importance of vaccination, reports of vaccine shortages in several cities, efforts to increase public awareness, and specific vaccination events. The overall message emphasizes the need for proper vaccination coverage and ongoing public health initiatives.'"
      ]
     },
     "execution_count": 72,
     "metadata": {},
     "output_type": "execute_result"
    }
   ],
   "source": [
    "response.choices[0].message.content"
   ]
  },
  {
   "cell_type": "code",
   "execution_count": 73,
   "id": "ac2d6935",
   "metadata": {},
   "outputs": [],
   "source": [
    "#summary = []\n",
    "#dataset = []"
   ]
  },
  {
   "cell_type": "code",
   "execution_count": 74,
   "id": "5b29f950",
   "metadata": {},
   "outputs": [],
   "source": [
    "dataset.append(\"2016_05_neutral\")"
   ]
  },
  {
   "cell_type": "code",
   "execution_count": 75,
   "id": "56c1fa8d",
   "metadata": {},
   "outputs": [],
   "source": [
    "summary.append(response.choices[0].message.content)"
   ]
  },
  {
   "cell_type": "code",
   "execution_count": 76,
   "id": "b6afc9cb",
   "metadata": {
    "tags": []
   },
   "outputs": [
    {
     "name": "stdout",
     "output_type": "stream",
     "text": [
      "<class 'pandas.core.frame.DataFrame'>\n",
      "RangeIndex: 5 entries, 0 to 4\n",
      "Data columns (total 2 columns):\n",
      " #   Column   Non-Null Count  Dtype \n",
      "---  ------   --------------  ----- \n",
      " 0   dataset  5 non-null      object\n",
      " 1   summary  5 non-null      object\n",
      "dtypes: object(2)\n",
      "memory usage: 208.0+ bytes\n"
     ]
    }
   ],
   "source": [
    "df_2016_neu = pd.DataFrame(list(zip(dataset, summary)),\n",
    "                            columns = ['dataset', 'summary'])\n",
    "df_2016_neu.info()"
   ]
  },
  {
   "cell_type": "code",
   "execution_count": 77,
   "id": "8c55f685",
   "metadata": {},
   "outputs": [
    {
     "data": {
      "text/html": [
       "<div>\n",
       "<style scoped>\n",
       "    .dataframe tbody tr th:only-of-type {\n",
       "        vertical-align: middle;\n",
       "    }\n",
       "\n",
       "    .dataframe tbody tr th {\n",
       "        vertical-align: top;\n",
       "    }\n",
       "\n",
       "    .dataframe thead th {\n",
       "        text-align: right;\n",
       "    }\n",
       "</style>\n",
       "<table border=\"1\" class=\"dataframe\">\n",
       "  <thead>\n",
       "    <tr style=\"text-align: right;\">\n",
       "      <th></th>\n",
       "      <th>dataset</th>\n",
       "      <th>summary</th>\n",
       "    </tr>\n",
       "  </thead>\n",
       "  <tbody>\n",
       "    <tr>\n",
       "      <th>0</th>\n",
       "      <td>2016_01_neutral</td>\n",
       "      <td>The Ministry of Health of Brazil announced upd...</td>\n",
       "    </tr>\n",
       "    <tr>\n",
       "      <th>1</th>\n",
       "      <td>2016_02_neutral</td>\n",
       "      <td>The texts discuss the development of vaccines ...</td>\n",
       "    </tr>\n",
       "    <tr>\n",
       "      <th>2</th>\n",
       "      <td>2016_03_neutral</td>\n",
       "      <td>The text discusses various vaccination campaig...</td>\n",
       "    </tr>\n",
       "    <tr>\n",
       "      <th>3</th>\n",
       "      <td>2016_04_neutral</td>\n",
       "      <td>The texts discuss various vaccination campaign...</td>\n",
       "    </tr>\n",
       "    <tr>\n",
       "      <th>4</th>\n",
       "      <td>2016_05_neutral</td>\n",
       "      <td>The provided texts discuss various vaccination...</td>\n",
       "    </tr>\n",
       "  </tbody>\n",
       "</table>\n",
       "</div>"
      ],
      "text/plain": [
       "           dataset                                            summary\n",
       "0  2016_01_neutral  The Ministry of Health of Brazil announced upd...\n",
       "1  2016_02_neutral  The texts discuss the development of vaccines ...\n",
       "2  2016_03_neutral  The text discusses various vaccination campaig...\n",
       "3  2016_04_neutral  The texts discuss various vaccination campaign...\n",
       "4  2016_05_neutral  The provided texts discuss various vaccination..."
      ]
     },
     "execution_count": 77,
     "metadata": {},
     "output_type": "execute_result"
    }
   ],
   "source": [
    "df_2016_neu.tail(14)"
   ]
  },
  {
   "cell_type": "code",
   "execution_count": 78,
   "id": "fdf871d7",
   "metadata": {},
   "outputs": [
    {
     "data": {
      "text/plain": [
       "<OpenAIObject chat.completion id=chatcmpl-AUcujVubrAY7xIDfbiIuGOwA29rtA at 0x222893514a0> JSON: {\n",
       "  \"choices\": [\n",
       "    {\n",
       "      \"finish_reason\": \"stop\",\n",
       "      \"index\": 0,\n",
       "      \"logprobs\": null,\n",
       "      \"message\": {\n",
       "        \"content\": \"The provided texts discuss various vaccination campaigns in Brazil, including those against H1N1, influenza, and foot-and-mouth disease. They highlight the importance of vaccination, reports of vaccine shortages in several cities, efforts to increase public awareness, and specific vaccination events. The overall message emphasizes the need for proper vaccination coverage and ongoing public health initiatives.\",\n",
       "        \"refusal\": null,\n",
       "        \"role\": \"assistant\"\n",
       "      }\n",
       "    }\n",
       "  ],\n",
       "  \"created\": 1731862789,\n",
       "  \"id\": \"chatcmpl-AUcujVubrAY7xIDfbiIuGOwA29rtA\",\n",
       "  \"model\": \"gpt-4o-mini-2024-07-18\",\n",
       "  \"object\": \"chat.completion\",\n",
       "  \"system_fingerprint\": \"fp_0ba0d124f1\",\n",
       "  \"usage\": {\n",
       "    \"completion_tokens\": 68,\n",
       "    \"completion_tokens_details\": {\n",
       "      \"accepted_prediction_tokens\": 0,\n",
       "      \"audio_tokens\": 0,\n",
       "      \"reasoning_tokens\": 0,\n",
       "      \"rejected_prediction_tokens\": 0\n",
       "    },\n",
       "    \"prompt_tokens\": 55580,\n",
       "    \"prompt_tokens_details\": {\n",
       "      \"audio_tokens\": 0,\n",
       "      \"cached_tokens\": 0\n",
       "    },\n",
       "    \"total_tokens\": 55648\n",
       "  }\n",
       "}"
      ]
     },
     "execution_count": 78,
     "metadata": {},
     "output_type": "execute_result"
    }
   ],
   "source": [
    "response"
   ]
  },
  {
   "cell_type": "markdown",
   "id": "f2814c4e",
   "metadata": {},
   "source": [
    "## June"
   ]
  },
  {
   "cell_type": "code",
   "execution_count": 79,
   "id": "90c18d7f",
   "metadata": {
    "scrolled": true,
    "tags": []
   },
   "outputs": [
    {
     "name": "stdout",
     "output_type": "stream",
     "text": [
      "<class 'pandas.core.frame.DataFrame'>\n",
      "RangeIndex: 3857 entries, 0 to 3856\n",
      "Data columns (total 53 columns):\n",
      " #   Column                  Non-Null Count  Dtype  \n",
      "---  ------                  --------------  -----  \n",
      " 0   index                   3857 non-null   int64  \n",
      " 1   LocationCode            3857 non-null   object \n",
      " 2   LocationName            3857 non-null   object \n",
      " 3   StatesCode              3857 non-null   object \n",
      " 4   ...4                    3857 non-null   int64  \n",
      " 5   id                      3857 non-null   float64\n",
      " 6   text                    3857 non-null   object \n",
      " 7   label                   3857 non-null   object \n",
      " 8   in_reply_to_status_id   246 non-null    float64\n",
      " 9   in_reply_to_user_id     297 non-null    float64\n",
      " 10  quoted_user_id          40 non-null     float64\n",
      " 11  quoted_status_id        40 non-null     float64\n",
      " 12  retweeted_user_id       482 non-null    float64\n",
      " 13  retweeted_status_id     482 non-null    float64\n",
      " 14  created_at              3857 non-null   object \n",
      " 15  entities.user_mentions  1256 non-null   object \n",
      " 16  user.id                 3857 non-null   float64\n",
      " 17  user.screen_name        3857 non-null   object \n",
      " 18  user.name               3857 non-null   object \n",
      " 19  user.description        3485 non-null   object \n",
      " 20  user.timezone           0 non-null      float64\n",
      " 21  user.location           3793 non-null   object \n",
      " 22  user.num_followers      3857 non-null   int64  \n",
      " 23  user.num_following      3857 non-null   int64  \n",
      " 24  user.created_at         3857 non-null   object \n",
      " 25  user.statuses_count     3857 non-null   int64  \n",
      " 26  user.is_verified        3857 non-null   bool   \n",
      " 27  lang                    3857 non-null   object \n",
      " 28  token_count             3857 non-null   int64  \n",
      " 29  is_retweet              3857 non-null   bool   \n",
      " 30  has_quote               3857 non-null   bool   \n",
      " 31  is_reply                3857 non-null   bool   \n",
      " 32  contains_keywords       3857 non-null   bool   \n",
      " 33  longitude               3857 non-null   float64\n",
      " 34  latitude                3857 non-null   float64\n",
      " 35  country_code            3857 non-null   object \n",
      " 36  geoname_id              3550 non-null   float64\n",
      " 37  location_type           3857 non-null   object \n",
      " 38  geo_type                3857 non-null   int64  \n",
      " 39  region                  3857 non-null   object \n",
      " 40  subregion               3857 non-null   object \n",
      " 41  num_quotes              3857 non-null   int64  \n",
      " 42  num_replies             3857 non-null   int64  \n",
      " 43  num_retweets            3857 non-null   int64  \n",
      " 44  sent_gpt                3857 non-null   object \n",
      " 45  gpt_sent_presence       3857 non-null   int64  \n",
      " 46  cleaned_text_lem        3857 non-null   object \n",
      " 47  cleaned_text            3857 non-null   object \n",
      " 48  month                   3857 non-null   int64  \n",
      " 49  year                    3857 non-null   int64  \n",
      " 50  week                    3857 non-null   int64  \n",
      " 51  year_month              3857 non-null   object \n",
      " 52  year_week               3857 non-null   object \n",
      "dtypes: bool(5), float64(12), int64(14), object(22)\n",
      "memory usage: 1.4+ MB\n"
     ]
    }
   ],
   "source": [
    "# Get monthly data\n",
    "df_2016_06_neu = pd.read_csv('../data/local/df_neu_2016-06.csv').reset_index()\n",
    "df_2016_06_neu.info()"
   ]
  },
  {
   "cell_type": "markdown",
   "id": "ad5ba4b0",
   "metadata": {},
   "source": [
    "### Representative sample based on week and location"
   ]
  },
  {
   "cell_type": "code",
   "execution_count": 80,
   "id": "3131b989",
   "metadata": {},
   "outputs": [
    {
     "data": {
      "text/html": [
       "<div>\n",
       "<style scoped>\n",
       "    .dataframe tbody tr th:only-of-type {\n",
       "        vertical-align: middle;\n",
       "    }\n",
       "\n",
       "    .dataframe tbody tr th {\n",
       "        vertical-align: top;\n",
       "    }\n",
       "\n",
       "    .dataframe thead th {\n",
       "        text-align: right;\n",
       "    }\n",
       "</style>\n",
       "<table border=\"1\" class=\"dataframe\">\n",
       "  <thead>\n",
       "    <tr style=\"text-align: right;\">\n",
       "      <th></th>\n",
       "      <th>year_week</th>\n",
       "      <th>LocationName</th>\n",
       "      <th>group_size</th>\n",
       "      <th>proportion</th>\n",
       "    </tr>\n",
       "  </thead>\n",
       "  <tbody>\n",
       "    <tr>\n",
       "      <th>0</th>\n",
       "      <td>2016-w22</td>\n",
       "      <td>Acre</td>\n",
       "      <td>1</td>\n",
       "      <td>0.000259</td>\n",
       "    </tr>\n",
       "    <tr>\n",
       "      <th>1</th>\n",
       "      <td>2016-w22</td>\n",
       "      <td>Amapa</td>\n",
       "      <td>1</td>\n",
       "      <td>0.000259</td>\n",
       "    </tr>\n",
       "    <tr>\n",
       "      <th>2</th>\n",
       "      <td>2016-w22</td>\n",
       "      <td>Amazonas</td>\n",
       "      <td>4</td>\n",
       "      <td>0.001037</td>\n",
       "    </tr>\n",
       "    <tr>\n",
       "      <th>3</th>\n",
       "      <td>2016-w22</td>\n",
       "      <td>Bahia</td>\n",
       "      <td>9</td>\n",
       "      <td>0.002333</td>\n",
       "    </tr>\n",
       "    <tr>\n",
       "      <th>4</th>\n",
       "      <td>2016-w22</td>\n",
       "      <td>Ceara</td>\n",
       "      <td>12</td>\n",
       "      <td>0.003111</td>\n",
       "    </tr>\n",
       "    <tr>\n",
       "      <th>...</th>\n",
       "      <td>...</td>\n",
       "      <td>...</td>\n",
       "      <td>...</td>\n",
       "      <td>...</td>\n",
       "    </tr>\n",
       "    <tr>\n",
       "      <th>111</th>\n",
       "      <td>2016-w26</td>\n",
       "      <td>Roraima</td>\n",
       "      <td>2</td>\n",
       "      <td>0.000519</td>\n",
       "    </tr>\n",
       "    <tr>\n",
       "      <th>112</th>\n",
       "      <td>2016-w26</td>\n",
       "      <td>Santa Catarina</td>\n",
       "      <td>14</td>\n",
       "      <td>0.003630</td>\n",
       "    </tr>\n",
       "    <tr>\n",
       "      <th>113</th>\n",
       "      <td>2016-w26</td>\n",
       "      <td>Sao Paulo</td>\n",
       "      <td>88</td>\n",
       "      <td>0.022816</td>\n",
       "    </tr>\n",
       "    <tr>\n",
       "      <th>114</th>\n",
       "      <td>2016-w26</td>\n",
       "      <td>Sergipe</td>\n",
       "      <td>1</td>\n",
       "      <td>0.000259</td>\n",
       "    </tr>\n",
       "    <tr>\n",
       "      <th>115</th>\n",
       "      <td>2016-w26</td>\n",
       "      <td>Tocantins</td>\n",
       "      <td>1</td>\n",
       "      <td>0.000259</td>\n",
       "    </tr>\n",
       "  </tbody>\n",
       "</table>\n",
       "<p>116 rows × 4 columns</p>\n",
       "</div>"
      ],
      "text/plain": [
       "    year_week    LocationName  group_size  proportion\n",
       "0    2016-w22            Acre           1    0.000259\n",
       "1    2016-w22           Amapa           1    0.000259\n",
       "2    2016-w22        Amazonas           4    0.001037\n",
       "3    2016-w22           Bahia           9    0.002333\n",
       "4    2016-w22           Ceara          12    0.003111\n",
       "..        ...             ...         ...         ...\n",
       "111  2016-w26         Roraima           2    0.000519\n",
       "112  2016-w26  Santa Catarina          14    0.003630\n",
       "113  2016-w26       Sao Paulo          88    0.022816\n",
       "114  2016-w26         Sergipe           1    0.000259\n",
       "115  2016-w26       Tocantins           1    0.000259\n",
       "\n",
       "[116 rows x 4 columns]"
      ]
     },
     "execution_count": 80,
     "metadata": {},
     "output_type": "execute_result"
    }
   ],
   "source": [
    "# Step 1: Calculate the size of each group (year_week, LocationName)\n",
    "group_sizes = df_2016_06_neu.groupby(['year_week', 'LocationName']).size().reset_index(name='group_size')\n",
    "\n",
    "# Step 2: Calculate the proportion of each group in the dataset\n",
    "total_rows = len(df_2016_06_neu)\n",
    "group_sizes['proportion'] = group_sizes['group_size'] / total_rows\n",
    "group_sizes"
   ]
  },
  {
   "cell_type": "code",
   "execution_count": 81,
   "id": "14eb60c4",
   "metadata": {},
   "outputs": [
    {
     "data": {
      "text/html": [
       "<div>\n",
       "<style scoped>\n",
       "    .dataframe tbody tr th:only-of-type {\n",
       "        vertical-align: middle;\n",
       "    }\n",
       "\n",
       "    .dataframe tbody tr th {\n",
       "        vertical-align: top;\n",
       "    }\n",
       "\n",
       "    .dataframe thead th {\n",
       "        text-align: right;\n",
       "    }\n",
       "</style>\n",
       "<table border=\"1\" class=\"dataframe\">\n",
       "  <thead>\n",
       "    <tr style=\"text-align: right;\">\n",
       "      <th></th>\n",
       "      <th>year_week</th>\n",
       "      <th>LocationName</th>\n",
       "      <th>group_size</th>\n",
       "      <th>proportion</th>\n",
       "      <th>sample_size</th>\n",
       "    </tr>\n",
       "  </thead>\n",
       "  <tbody>\n",
       "    <tr>\n",
       "      <th>0</th>\n",
       "      <td>2016-w22</td>\n",
       "      <td>Acre</td>\n",
       "      <td>1</td>\n",
       "      <td>0.000259</td>\n",
       "      <td>0</td>\n",
       "    </tr>\n",
       "    <tr>\n",
       "      <th>1</th>\n",
       "      <td>2016-w22</td>\n",
       "      <td>Amapa</td>\n",
       "      <td>1</td>\n",
       "      <td>0.000259</td>\n",
       "      <td>0</td>\n",
       "    </tr>\n",
       "    <tr>\n",
       "      <th>2</th>\n",
       "      <td>2016-w22</td>\n",
       "      <td>Amazonas</td>\n",
       "      <td>4</td>\n",
       "      <td>0.001037</td>\n",
       "      <td>2</td>\n",
       "    </tr>\n",
       "    <tr>\n",
       "      <th>3</th>\n",
       "      <td>2016-w22</td>\n",
       "      <td>Bahia</td>\n",
       "      <td>9</td>\n",
       "      <td>0.002333</td>\n",
       "      <td>5</td>\n",
       "    </tr>\n",
       "    <tr>\n",
       "      <th>4</th>\n",
       "      <td>2016-w22</td>\n",
       "      <td>Ceara</td>\n",
       "      <td>12</td>\n",
       "      <td>0.003111</td>\n",
       "      <td>7</td>\n",
       "    </tr>\n",
       "    <tr>\n",
       "      <th>...</th>\n",
       "      <td>...</td>\n",
       "      <td>...</td>\n",
       "      <td>...</td>\n",
       "      <td>...</td>\n",
       "      <td>...</td>\n",
       "    </tr>\n",
       "    <tr>\n",
       "      <th>111</th>\n",
       "      <td>2016-w26</td>\n",
       "      <td>Roraima</td>\n",
       "      <td>2</td>\n",
       "      <td>0.000519</td>\n",
       "      <td>1</td>\n",
       "    </tr>\n",
       "    <tr>\n",
       "      <th>112</th>\n",
       "      <td>2016-w26</td>\n",
       "      <td>Santa Catarina</td>\n",
       "      <td>14</td>\n",
       "      <td>0.003630</td>\n",
       "      <td>8</td>\n",
       "    </tr>\n",
       "    <tr>\n",
       "      <th>113</th>\n",
       "      <td>2016-w26</td>\n",
       "      <td>Sao Paulo</td>\n",
       "      <td>88</td>\n",
       "      <td>0.022816</td>\n",
       "      <td>55</td>\n",
       "    </tr>\n",
       "    <tr>\n",
       "      <th>114</th>\n",
       "      <td>2016-w26</td>\n",
       "      <td>Sergipe</td>\n",
       "      <td>1</td>\n",
       "      <td>0.000259</td>\n",
       "      <td>0</td>\n",
       "    </tr>\n",
       "    <tr>\n",
       "      <th>115</th>\n",
       "      <td>2016-w26</td>\n",
       "      <td>Tocantins</td>\n",
       "      <td>1</td>\n",
       "      <td>0.000259</td>\n",
       "      <td>0</td>\n",
       "    </tr>\n",
       "  </tbody>\n",
       "</table>\n",
       "<p>116 rows × 5 columns</p>\n",
       "</div>"
      ],
      "text/plain": [
       "    year_week    LocationName  group_size  proportion  sample_size\n",
       "0    2016-w22            Acre           1    0.000259            0\n",
       "1    2016-w22           Amapa           1    0.000259            0\n",
       "2    2016-w22        Amazonas           4    0.001037            2\n",
       "3    2016-w22           Bahia           9    0.002333            5\n",
       "4    2016-w22           Ceara          12    0.003111            7\n",
       "..        ...             ...         ...         ...          ...\n",
       "111  2016-w26         Roraima           2    0.000519            1\n",
       "112  2016-w26  Santa Catarina          14    0.003630            8\n",
       "113  2016-w26       Sao Paulo          88    0.022816           55\n",
       "114  2016-w26         Sergipe           1    0.000259            0\n",
       "115  2016-w26       Tocantins           1    0.000259            0\n",
       "\n",
       "[116 rows x 5 columns]"
      ]
     },
     "execution_count": 81,
     "metadata": {},
     "output_type": "execute_result"
    }
   ],
   "source": [
    "# Step 3: Define the target sample size\n",
    "target_sample_size = 2450\n",
    "\n",
    "# Step 4: Calculate the sample size for each group (based on its proportion)\n",
    "group_sizes['sample_size'] = np.floor(group_sizes['proportion'] * target_sample_size).astype(int)\n",
    "group_sizes"
   ]
  },
  {
   "cell_type": "code",
   "execution_count": 82,
   "id": "f737f753",
   "metadata": {},
   "outputs": [],
   "source": [
    "# Step 5: Merge this sample size information back to the original DataFrame\n",
    "df_2016_06_neu_sample_size = pd.merge(df_2016_06_neu, group_sizes[['year_week', 'LocationName', 'sample_size']], \n",
    "                               on=['year_week', 'LocationName'], how='left')"
   ]
  },
  {
   "cell_type": "code",
   "execution_count": 83,
   "id": "e6be4f44",
   "metadata": {},
   "outputs": [
    {
     "name": "stdout",
     "output_type": "stream",
     "text": [
      "Sampled 2390 rows.\n"
     ]
    }
   ],
   "source": [
    "# Step 6: Perform the stratified sampling\n",
    "df_2016_06_neu_sample = df_2016_06_neu_sample_size.groupby(['year_week', 'LocationName']).apply(\n",
    "    lambda group: group.sample(n=group['sample_size'].iloc[0], random_state=42)\n",
    ").reset_index(drop=True)\n",
    "\n",
    "# Step 7: Check the result\n",
    "print(f\"Sampled {len(df_2016_06_neu_sample)} rows.\")\n"
   ]
  },
  {
   "cell_type": "code",
   "execution_count": 84,
   "id": "46e283ca",
   "metadata": {},
   "outputs": [],
   "source": [
    "text_gpt_2016_06_neu = '\\n'.join(df_2016_06_neu_sample['text'].astype(str))"
   ]
  },
  {
   "cell_type": "markdown",
   "id": "318bee7a",
   "metadata": {},
   "source": [
    "### Prompts and loops"
   ]
  },
  {
   "cell_type": "code",
   "execution_count": 85,
   "id": "be18c816",
   "metadata": {},
   "outputs": [],
   "source": [
    "prompt_6 = prompt_raw.replace('TWEETS', text_gpt_2016_06_neu)"
   ]
  },
  {
   "cell_type": "code",
   "execution_count": 86,
   "id": "96369898",
   "metadata": {
    "scrolled": false
   },
   "outputs": [],
   "source": [
    "response = openai.ChatCompletion.create(\n",
    "    model=\"gpt-4o-mini\",  \n",
    "    messages = [\n",
    "        {\"role\": \"user\", \"content\": prompt_6}\n",
    "    ],\n",
    "    max_tokens=400,  # Maximum number of tokens in the response\n",
    "    temperature=0.7  # Controls the randomness of the output\n",
    ")"
   ]
  },
  {
   "cell_type": "code",
   "execution_count": 87,
   "id": "b829d3e9",
   "metadata": {},
   "outputs": [
    {
     "data": {
      "text/plain": [
       "'The texts discuss various vaccination campaigns and updates in Brazil, focusing on the flu, rabies, and other diseases. They mention extensions of vaccination deadlines, requirements for proof of vaccination for travel, and the introduction of new vaccines. Additionally, there are references to personal experiences and public health initiatives aimed at increasing vaccination rates among different populations.'"
      ]
     },
     "execution_count": 87,
     "metadata": {},
     "output_type": "execute_result"
    }
   ],
   "source": [
    "response.choices[0].message.content"
   ]
  },
  {
   "cell_type": "code",
   "execution_count": 88,
   "id": "60c71c4c",
   "metadata": {},
   "outputs": [],
   "source": [
    "#summary = []\n",
    "#dataset = []"
   ]
  },
  {
   "cell_type": "code",
   "execution_count": 89,
   "id": "92dcf233",
   "metadata": {},
   "outputs": [],
   "source": [
    "dataset.append(\"2016_06_neutral\")"
   ]
  },
  {
   "cell_type": "code",
   "execution_count": 90,
   "id": "d78b7b6b",
   "metadata": {},
   "outputs": [],
   "source": [
    "summary.append(response.choices[0].message.content)"
   ]
  },
  {
   "cell_type": "code",
   "execution_count": 91,
   "id": "efcf0103",
   "metadata": {
    "tags": []
   },
   "outputs": [
    {
     "name": "stdout",
     "output_type": "stream",
     "text": [
      "<class 'pandas.core.frame.DataFrame'>\n",
      "RangeIndex: 6 entries, 0 to 5\n",
      "Data columns (total 2 columns):\n",
      " #   Column   Non-Null Count  Dtype \n",
      "---  ------   --------------  ----- \n",
      " 0   dataset  6 non-null      object\n",
      " 1   summary  6 non-null      object\n",
      "dtypes: object(2)\n",
      "memory usage: 224.0+ bytes\n"
     ]
    }
   ],
   "source": [
    "df_2016_neu = pd.DataFrame(list(zip(dataset, summary)),\n",
    "                            columns = ['dataset', 'summary'])\n",
    "df_2016_neu.info()"
   ]
  },
  {
   "cell_type": "code",
   "execution_count": 92,
   "id": "39a785ae",
   "metadata": {},
   "outputs": [
    {
     "data": {
      "text/html": [
       "<div>\n",
       "<style scoped>\n",
       "    .dataframe tbody tr th:only-of-type {\n",
       "        vertical-align: middle;\n",
       "    }\n",
       "\n",
       "    .dataframe tbody tr th {\n",
       "        vertical-align: top;\n",
       "    }\n",
       "\n",
       "    .dataframe thead th {\n",
       "        text-align: right;\n",
       "    }\n",
       "</style>\n",
       "<table border=\"1\" class=\"dataframe\">\n",
       "  <thead>\n",
       "    <tr style=\"text-align: right;\">\n",
       "      <th></th>\n",
       "      <th>dataset</th>\n",
       "      <th>summary</th>\n",
       "    </tr>\n",
       "  </thead>\n",
       "  <tbody>\n",
       "    <tr>\n",
       "      <th>0</th>\n",
       "      <td>2016_01_neutral</td>\n",
       "      <td>The Ministry of Health of Brazil announced upd...</td>\n",
       "    </tr>\n",
       "    <tr>\n",
       "      <th>1</th>\n",
       "      <td>2016_02_neutral</td>\n",
       "      <td>The texts discuss the development of vaccines ...</td>\n",
       "    </tr>\n",
       "    <tr>\n",
       "      <th>2</th>\n",
       "      <td>2016_03_neutral</td>\n",
       "      <td>The text discusses various vaccination campaig...</td>\n",
       "    </tr>\n",
       "    <tr>\n",
       "      <th>3</th>\n",
       "      <td>2016_04_neutral</td>\n",
       "      <td>The texts discuss various vaccination campaign...</td>\n",
       "    </tr>\n",
       "    <tr>\n",
       "      <th>4</th>\n",
       "      <td>2016_05_neutral</td>\n",
       "      <td>The provided texts discuss various vaccination...</td>\n",
       "    </tr>\n",
       "    <tr>\n",
       "      <th>5</th>\n",
       "      <td>2016_06_neutral</td>\n",
       "      <td>The texts discuss various vaccination campaign...</td>\n",
       "    </tr>\n",
       "  </tbody>\n",
       "</table>\n",
       "</div>"
      ],
      "text/plain": [
       "           dataset                                            summary\n",
       "0  2016_01_neutral  The Ministry of Health of Brazil announced upd...\n",
       "1  2016_02_neutral  The texts discuss the development of vaccines ...\n",
       "2  2016_03_neutral  The text discusses various vaccination campaig...\n",
       "3  2016_04_neutral  The texts discuss various vaccination campaign...\n",
       "4  2016_05_neutral  The provided texts discuss various vaccination...\n",
       "5  2016_06_neutral  The texts discuss various vaccination campaign..."
      ]
     },
     "execution_count": 92,
     "metadata": {},
     "output_type": "execute_result"
    }
   ],
   "source": [
    "df_2016_neu.tail(14)"
   ]
  },
  {
   "cell_type": "code",
   "execution_count": 93,
   "id": "b86671a5",
   "metadata": {},
   "outputs": [
    {
     "data": {
      "text/plain": [
       "<OpenAIObject chat.completion id=chatcmpl-AUcuppfu0UmDYMZ0A2lZBy3j0Zopf at 0x222866c7720> JSON: {\n",
       "  \"choices\": [\n",
       "    {\n",
       "      \"finish_reason\": \"stop\",\n",
       "      \"index\": 0,\n",
       "      \"logprobs\": null,\n",
       "      \"message\": {\n",
       "        \"content\": \"The texts discuss various vaccination campaigns and updates in Brazil, focusing on the flu, rabies, and other diseases. They mention extensions of vaccination deadlines, requirements for proof of vaccination for travel, and the introduction of new vaccines. Additionally, there are references to personal experiences and public health initiatives aimed at increasing vaccination rates among different populations.\",\n",
       "        \"refusal\": null,\n",
       "        \"role\": \"assistant\"\n",
       "      }\n",
       "    }\n",
       "  ],\n",
       "  \"created\": 1731862795,\n",
       "  \"id\": \"chatcmpl-AUcuppfu0UmDYMZ0A2lZBy3j0Zopf\",\n",
       "  \"model\": \"gpt-4o-mini-2024-07-18\",\n",
       "  \"object\": \"chat.completion\",\n",
       "  \"system_fingerprint\": \"fp_f8dd36be86\",\n",
       "  \"usage\": {\n",
       "    \"completion_tokens\": 66,\n",
       "    \"completion_tokens_details\": {\n",
       "      \"accepted_prediction_tokens\": 0,\n",
       "      \"audio_tokens\": 0,\n",
       "      \"reasoning_tokens\": 0,\n",
       "      \"rejected_prediction_tokens\": 0\n",
       "    },\n",
       "    \"prompt_tokens\": 56850,\n",
       "    \"prompt_tokens_details\": {\n",
       "      \"audio_tokens\": 0,\n",
       "      \"cached_tokens\": 0\n",
       "    },\n",
       "    \"total_tokens\": 56916\n",
       "  }\n",
       "}"
      ]
     },
     "execution_count": 93,
     "metadata": {},
     "output_type": "execute_result"
    }
   ],
   "source": [
    "response"
   ]
  },
  {
   "cell_type": "markdown",
   "id": "1b5c5a9b",
   "metadata": {},
   "source": [
    "## July"
   ]
  },
  {
   "cell_type": "code",
   "execution_count": 94,
   "id": "5096b4ba",
   "metadata": {
    "scrolled": true,
    "tags": []
   },
   "outputs": [
    {
     "name": "stdout",
     "output_type": "stream",
     "text": [
      "<class 'pandas.core.frame.DataFrame'>\n",
      "RangeIndex: 3734 entries, 0 to 3733\n",
      "Data columns (total 53 columns):\n",
      " #   Column                  Non-Null Count  Dtype  \n",
      "---  ------                  --------------  -----  \n",
      " 0   index                   3734 non-null   int64  \n",
      " 1   LocationCode            3734 non-null   object \n",
      " 2   LocationName            3734 non-null   object \n",
      " 3   StatesCode              3734 non-null   object \n",
      " 4   ...4                    3734 non-null   int64  \n",
      " 5   id                      3734 non-null   float64\n",
      " 6   text                    3734 non-null   object \n",
      " 7   label                   3734 non-null   object \n",
      " 8   in_reply_to_status_id   215 non-null    float64\n",
      " 9   in_reply_to_user_id     239 non-null    float64\n",
      " 10  quoted_user_id          44 non-null     float64\n",
      " 11  quoted_status_id        44 non-null     float64\n",
      " 12  retweeted_user_id       630 non-null    float64\n",
      " 13  retweeted_status_id     630 non-null    float64\n",
      " 14  created_at              3734 non-null   object \n",
      " 15  entities.user_mentions  1123 non-null   object \n",
      " 16  user.id                 3734 non-null   float64\n",
      " 17  user.screen_name        3734 non-null   object \n",
      " 18  user.name               3734 non-null   object \n",
      " 19  user.description        3349 non-null   object \n",
      " 20  user.timezone           0 non-null      float64\n",
      " 21  user.location           3680 non-null   object \n",
      " 22  user.num_followers      3734 non-null   int64  \n",
      " 23  user.num_following      3734 non-null   int64  \n",
      " 24  user.created_at         3734 non-null   object \n",
      " 25  user.statuses_count     3734 non-null   int64  \n",
      " 26  user.is_verified        3734 non-null   bool   \n",
      " 27  lang                    3734 non-null   object \n",
      " 28  token_count             3734 non-null   int64  \n",
      " 29  is_retweet              3734 non-null   bool   \n",
      " 30  has_quote               3734 non-null   bool   \n",
      " 31  is_reply                3734 non-null   bool   \n",
      " 32  contains_keywords       3734 non-null   bool   \n",
      " 33  longitude               3734 non-null   float64\n",
      " 34  latitude                3734 non-null   float64\n",
      " 35  country_code            3734 non-null   object \n",
      " 36  geoname_id              3442 non-null   float64\n",
      " 37  location_type           3734 non-null   object \n",
      " 38  geo_type                3734 non-null   int64  \n",
      " 39  region                  3734 non-null   object \n",
      " 40  subregion               3734 non-null   object \n",
      " 41  num_quotes              3734 non-null   int64  \n",
      " 42  num_replies             3734 non-null   int64  \n",
      " 43  num_retweets            3734 non-null   int64  \n",
      " 44  sent_gpt                3734 non-null   object \n",
      " 45  gpt_sent_presence       3734 non-null   int64  \n",
      " 46  cleaned_text_lem        3734 non-null   object \n",
      " 47  cleaned_text            3734 non-null   object \n",
      " 48  month                   3734 non-null   int64  \n",
      " 49  year                    3734 non-null   int64  \n",
      " 50  week                    3734 non-null   int64  \n",
      " 51  year_month              3734 non-null   object \n",
      " 52  year_week               3734 non-null   object \n",
      "dtypes: bool(5), float64(12), int64(14), object(22)\n",
      "memory usage: 1.4+ MB\n"
     ]
    }
   ],
   "source": [
    "# Get monthly data\n",
    "df_2016_07_neu = pd.read_csv('../data/local/df_neu_2016-07.csv').reset_index()\n",
    "df_2016_07_neu.info()"
   ]
  },
  {
   "cell_type": "markdown",
   "id": "bdd1752b",
   "metadata": {},
   "source": [
    "### Representative sample based on week and location"
   ]
  },
  {
   "cell_type": "code",
   "execution_count": 95,
   "id": "e62e79b6",
   "metadata": {},
   "outputs": [
    {
     "data": {
      "text/html": [
       "<div>\n",
       "<style scoped>\n",
       "    .dataframe tbody tr th:only-of-type {\n",
       "        vertical-align: middle;\n",
       "    }\n",
       "\n",
       "    .dataframe tbody tr th {\n",
       "        vertical-align: top;\n",
       "    }\n",
       "\n",
       "    .dataframe thead th {\n",
       "        text-align: right;\n",
       "    }\n",
       "</style>\n",
       "<table border=\"1\" class=\"dataframe\">\n",
       "  <thead>\n",
       "    <tr style=\"text-align: right;\">\n",
       "      <th></th>\n",
       "      <th>year_week</th>\n",
       "      <th>LocationName</th>\n",
       "      <th>group_size</th>\n",
       "      <th>proportion</th>\n",
       "    </tr>\n",
       "  </thead>\n",
       "  <tbody>\n",
       "    <tr>\n",
       "      <th>0</th>\n",
       "      <td>2016-w27</td>\n",
       "      <td>Acre</td>\n",
       "      <td>2</td>\n",
       "      <td>0.000536</td>\n",
       "    </tr>\n",
       "    <tr>\n",
       "      <th>1</th>\n",
       "      <td>2016-w27</td>\n",
       "      <td>Alagoas</td>\n",
       "      <td>10</td>\n",
       "      <td>0.002678</td>\n",
       "    </tr>\n",
       "    <tr>\n",
       "      <th>2</th>\n",
       "      <td>2016-w27</td>\n",
       "      <td>Amapa</td>\n",
       "      <td>10</td>\n",
       "      <td>0.002678</td>\n",
       "    </tr>\n",
       "    <tr>\n",
       "      <th>3</th>\n",
       "      <td>2016-w27</td>\n",
       "      <td>Amazonas</td>\n",
       "      <td>20</td>\n",
       "      <td>0.005356</td>\n",
       "    </tr>\n",
       "    <tr>\n",
       "      <th>4</th>\n",
       "      <td>2016-w27</td>\n",
       "      <td>Bahia</td>\n",
       "      <td>53</td>\n",
       "      <td>0.014194</td>\n",
       "    </tr>\n",
       "    <tr>\n",
       "      <th>...</th>\n",
       "      <td>...</td>\n",
       "      <td>...</td>\n",
       "      <td>...</td>\n",
       "      <td>...</td>\n",
       "    </tr>\n",
       "    <tr>\n",
       "      <th>111</th>\n",
       "      <td>2016-w31</td>\n",
       "      <td>Rio Grande Do Sul</td>\n",
       "      <td>23</td>\n",
       "      <td>0.006160</td>\n",
       "    </tr>\n",
       "    <tr>\n",
       "      <th>112</th>\n",
       "      <td>2016-w31</td>\n",
       "      <td>Roraima</td>\n",
       "      <td>1</td>\n",
       "      <td>0.000268</td>\n",
       "    </tr>\n",
       "    <tr>\n",
       "      <th>113</th>\n",
       "      <td>2016-w31</td>\n",
       "      <td>Santa Catarina</td>\n",
       "      <td>9</td>\n",
       "      <td>0.002410</td>\n",
       "    </tr>\n",
       "    <tr>\n",
       "      <th>114</th>\n",
       "      <td>2016-w31</td>\n",
       "      <td>Sao Paulo</td>\n",
       "      <td>54</td>\n",
       "      <td>0.014462</td>\n",
       "    </tr>\n",
       "    <tr>\n",
       "      <th>115</th>\n",
       "      <td>2016-w31</td>\n",
       "      <td>Tocantins</td>\n",
       "      <td>1</td>\n",
       "      <td>0.000268</td>\n",
       "    </tr>\n",
       "  </tbody>\n",
       "</table>\n",
       "<p>116 rows × 4 columns</p>\n",
       "</div>"
      ],
      "text/plain": [
       "    year_week       LocationName  group_size  proportion\n",
       "0    2016-w27               Acre           2    0.000536\n",
       "1    2016-w27            Alagoas          10    0.002678\n",
       "2    2016-w27              Amapa          10    0.002678\n",
       "3    2016-w27           Amazonas          20    0.005356\n",
       "4    2016-w27              Bahia          53    0.014194\n",
       "..        ...                ...         ...         ...\n",
       "111  2016-w31  Rio Grande Do Sul          23    0.006160\n",
       "112  2016-w31            Roraima           1    0.000268\n",
       "113  2016-w31     Santa Catarina           9    0.002410\n",
       "114  2016-w31          Sao Paulo          54    0.014462\n",
       "115  2016-w31          Tocantins           1    0.000268\n",
       "\n",
       "[116 rows x 4 columns]"
      ]
     },
     "execution_count": 95,
     "metadata": {},
     "output_type": "execute_result"
    }
   ],
   "source": [
    "# Step 1: Calculate the size of each group (year_week, LocationName)\n",
    "group_sizes = df_2016_07_neu.groupby(['year_week', 'LocationName']).size().reset_index(name='group_size')\n",
    "\n",
    "# Step 2: Calculate the proportion of each group in the dataset\n",
    "total_rows = len(df_2016_07_neu)\n",
    "group_sizes['proportion'] = group_sizes['group_size'] / total_rows\n",
    "group_sizes"
   ]
  },
  {
   "cell_type": "code",
   "execution_count": 96,
   "id": "97b60716",
   "metadata": {},
   "outputs": [
    {
     "data": {
      "text/html": [
       "<div>\n",
       "<style scoped>\n",
       "    .dataframe tbody tr th:only-of-type {\n",
       "        vertical-align: middle;\n",
       "    }\n",
       "\n",
       "    .dataframe tbody tr th {\n",
       "        vertical-align: top;\n",
       "    }\n",
       "\n",
       "    .dataframe thead th {\n",
       "        text-align: right;\n",
       "    }\n",
       "</style>\n",
       "<table border=\"1\" class=\"dataframe\">\n",
       "  <thead>\n",
       "    <tr style=\"text-align: right;\">\n",
       "      <th></th>\n",
       "      <th>year_week</th>\n",
       "      <th>LocationName</th>\n",
       "      <th>group_size</th>\n",
       "      <th>proportion</th>\n",
       "      <th>sample_size</th>\n",
       "    </tr>\n",
       "  </thead>\n",
       "  <tbody>\n",
       "    <tr>\n",
       "      <th>0</th>\n",
       "      <td>2016-w27</td>\n",
       "      <td>Acre</td>\n",
       "      <td>2</td>\n",
       "      <td>0.000536</td>\n",
       "      <td>1</td>\n",
       "    </tr>\n",
       "    <tr>\n",
       "      <th>1</th>\n",
       "      <td>2016-w27</td>\n",
       "      <td>Alagoas</td>\n",
       "      <td>10</td>\n",
       "      <td>0.002678</td>\n",
       "      <td>6</td>\n",
       "    </tr>\n",
       "    <tr>\n",
       "      <th>2</th>\n",
       "      <td>2016-w27</td>\n",
       "      <td>Amapa</td>\n",
       "      <td>10</td>\n",
       "      <td>0.002678</td>\n",
       "      <td>6</td>\n",
       "    </tr>\n",
       "    <tr>\n",
       "      <th>3</th>\n",
       "      <td>2016-w27</td>\n",
       "      <td>Amazonas</td>\n",
       "      <td>20</td>\n",
       "      <td>0.005356</td>\n",
       "      <td>13</td>\n",
       "    </tr>\n",
       "    <tr>\n",
       "      <th>4</th>\n",
       "      <td>2016-w27</td>\n",
       "      <td>Bahia</td>\n",
       "      <td>53</td>\n",
       "      <td>0.014194</td>\n",
       "      <td>34</td>\n",
       "    </tr>\n",
       "    <tr>\n",
       "      <th>...</th>\n",
       "      <td>...</td>\n",
       "      <td>...</td>\n",
       "      <td>...</td>\n",
       "      <td>...</td>\n",
       "      <td>...</td>\n",
       "    </tr>\n",
       "    <tr>\n",
       "      <th>111</th>\n",
       "      <td>2016-w31</td>\n",
       "      <td>Rio Grande Do Sul</td>\n",
       "      <td>23</td>\n",
       "      <td>0.006160</td>\n",
       "      <td>15</td>\n",
       "    </tr>\n",
       "    <tr>\n",
       "      <th>112</th>\n",
       "      <td>2016-w31</td>\n",
       "      <td>Roraima</td>\n",
       "      <td>1</td>\n",
       "      <td>0.000268</td>\n",
       "      <td>0</td>\n",
       "    </tr>\n",
       "    <tr>\n",
       "      <th>113</th>\n",
       "      <td>2016-w31</td>\n",
       "      <td>Santa Catarina</td>\n",
       "      <td>9</td>\n",
       "      <td>0.002410</td>\n",
       "      <td>5</td>\n",
       "    </tr>\n",
       "    <tr>\n",
       "      <th>114</th>\n",
       "      <td>2016-w31</td>\n",
       "      <td>Sao Paulo</td>\n",
       "      <td>54</td>\n",
       "      <td>0.014462</td>\n",
       "      <td>35</td>\n",
       "    </tr>\n",
       "    <tr>\n",
       "      <th>115</th>\n",
       "      <td>2016-w31</td>\n",
       "      <td>Tocantins</td>\n",
       "      <td>1</td>\n",
       "      <td>0.000268</td>\n",
       "      <td>0</td>\n",
       "    </tr>\n",
       "  </tbody>\n",
       "</table>\n",
       "<p>116 rows × 5 columns</p>\n",
       "</div>"
      ],
      "text/plain": [
       "    year_week       LocationName  group_size  proportion  sample_size\n",
       "0    2016-w27               Acre           2    0.000536            1\n",
       "1    2016-w27            Alagoas          10    0.002678            6\n",
       "2    2016-w27              Amapa          10    0.002678            6\n",
       "3    2016-w27           Amazonas          20    0.005356           13\n",
       "4    2016-w27              Bahia          53    0.014194           34\n",
       "..        ...                ...         ...         ...          ...\n",
       "111  2016-w31  Rio Grande Do Sul          23    0.006160           15\n",
       "112  2016-w31            Roraima           1    0.000268            0\n",
       "113  2016-w31     Santa Catarina           9    0.002410            5\n",
       "114  2016-w31          Sao Paulo          54    0.014462           35\n",
       "115  2016-w31          Tocantins           1    0.000268            0\n",
       "\n",
       "[116 rows x 5 columns]"
      ]
     },
     "execution_count": 96,
     "metadata": {},
     "output_type": "execute_result"
    }
   ],
   "source": [
    "# Step 3: Define the target sample size\n",
    "target_sample_size = 2450\n",
    "\n",
    "# Step 4: Calculate the sample size for each group (based on its proportion)\n",
    "group_sizes['sample_size'] = np.floor(group_sizes['proportion'] * target_sample_size).astype(int)\n",
    "group_sizes"
   ]
  },
  {
   "cell_type": "code",
   "execution_count": 97,
   "id": "4c991d80",
   "metadata": {},
   "outputs": [],
   "source": [
    "# Step 5: Merge this sample size information back to the original DataFrame\n",
    "df_2016_07_neu_sample_size = pd.merge(df_2016_07_neu, group_sizes[['year_week', 'LocationName', 'sample_size']], \n",
    "                               on=['year_week', 'LocationName'], how='left')"
   ]
  },
  {
   "cell_type": "code",
   "execution_count": 98,
   "id": "deab4678",
   "metadata": {},
   "outputs": [
    {
     "name": "stdout",
     "output_type": "stream",
     "text": [
      "Sampled 2390 rows.\n"
     ]
    }
   ],
   "source": [
    "# Step 6: Perform the stratified sampling\n",
    "df_2016_07_neu_sample = df_2016_07_neu_sample_size.groupby(['year_week', 'LocationName']).apply(\n",
    "    lambda group: group.sample(n=group['sample_size'].iloc[0], random_state=42)\n",
    ").reset_index(drop=True)\n",
    "\n",
    "# Step 7: Check the result\n",
    "print(f\"Sampled {len(df_2016_07_neu_sample)} rows.\")\n"
   ]
  },
  {
   "cell_type": "code",
   "execution_count": 99,
   "id": "33656dea",
   "metadata": {},
   "outputs": [],
   "source": [
    "text_gpt_2016_07_neu = '\\n'.join(df_2016_07_neu_sample['text'].astype(str))"
   ]
  },
  {
   "cell_type": "markdown",
   "id": "92d7e0ea",
   "metadata": {},
   "source": [
    "### Prompts and loops"
   ]
  },
  {
   "cell_type": "code",
   "execution_count": 100,
   "id": "349334a9",
   "metadata": {},
   "outputs": [],
   "source": [
    "prompt_7 = prompt_raw.replace('TWEETS', text_gpt_2016_07_neu)"
   ]
  },
  {
   "cell_type": "code",
   "execution_count": 101,
   "id": "ff46a08b",
   "metadata": {
    "scrolled": false
   },
   "outputs": [],
   "source": [
    "response = openai.ChatCompletion.create(\n",
    "    model=\"gpt-4o-mini\",  \n",
    "    messages = [\n",
    "        {\"role\": \"user\", \"content\": prompt_7}\n",
    "    ],\n",
    "    max_tokens=400,  # Maximum number of tokens in the response\n",
    "    temperature=0.7  # Controls the randomness of the output\n",
    ")"
   ]
  },
  {
   "cell_type": "code",
   "execution_count": 102,
   "id": "6723c1d4",
   "metadata": {},
   "outputs": [
    {
     "data": {
      "text/plain": [
       "'The text covers various topics related to vaccination in Brazil, including the scheduling and availability of vaccines against diseases like polio, dengue, and HPV. It highlights upcoming vaccination campaigns, the importance of vaccination for children and animals, and mentions the costs associated with some vaccines. Additionally, it addresses public health concerns and the need for community participation in vaccination efforts.'"
      ]
     },
     "execution_count": 102,
     "metadata": {},
     "output_type": "execute_result"
    }
   ],
   "source": [
    "response.choices[0].message.content"
   ]
  },
  {
   "cell_type": "code",
   "execution_count": 103,
   "id": "d3081509",
   "metadata": {},
   "outputs": [],
   "source": [
    "#summary = []\n",
    "#dataset = []"
   ]
  },
  {
   "cell_type": "code",
   "execution_count": 104,
   "id": "1ba0dacb",
   "metadata": {},
   "outputs": [],
   "source": [
    "dataset.append(\"2016_07_neutral\")"
   ]
  },
  {
   "cell_type": "code",
   "execution_count": 105,
   "id": "cadb0bde",
   "metadata": {},
   "outputs": [],
   "source": [
    "summary.append(response.choices[0].message.content)"
   ]
  },
  {
   "cell_type": "code",
   "execution_count": 106,
   "id": "b80e1e4e",
   "metadata": {
    "tags": []
   },
   "outputs": [
    {
     "name": "stdout",
     "output_type": "stream",
     "text": [
      "<class 'pandas.core.frame.DataFrame'>\n",
      "RangeIndex: 7 entries, 0 to 6\n",
      "Data columns (total 2 columns):\n",
      " #   Column   Non-Null Count  Dtype \n",
      "---  ------   --------------  ----- \n",
      " 0   dataset  7 non-null      object\n",
      " 1   summary  7 non-null      object\n",
      "dtypes: object(2)\n",
      "memory usage: 240.0+ bytes\n"
     ]
    }
   ],
   "source": [
    "df_2016_neu = pd.DataFrame(list(zip(dataset, summary)),\n",
    "                            columns = ['dataset', 'summary'])\n",
    "df_2016_neu.info()"
   ]
  },
  {
   "cell_type": "code",
   "execution_count": 107,
   "id": "de211f05",
   "metadata": {},
   "outputs": [
    {
     "data": {
      "text/html": [
       "<div>\n",
       "<style scoped>\n",
       "    .dataframe tbody tr th:only-of-type {\n",
       "        vertical-align: middle;\n",
       "    }\n",
       "\n",
       "    .dataframe tbody tr th {\n",
       "        vertical-align: top;\n",
       "    }\n",
       "\n",
       "    .dataframe thead th {\n",
       "        text-align: right;\n",
       "    }\n",
       "</style>\n",
       "<table border=\"1\" class=\"dataframe\">\n",
       "  <thead>\n",
       "    <tr style=\"text-align: right;\">\n",
       "      <th></th>\n",
       "      <th>dataset</th>\n",
       "      <th>summary</th>\n",
       "    </tr>\n",
       "  </thead>\n",
       "  <tbody>\n",
       "    <tr>\n",
       "      <th>0</th>\n",
       "      <td>2016_01_neutral</td>\n",
       "      <td>The Ministry of Health of Brazil announced upd...</td>\n",
       "    </tr>\n",
       "    <tr>\n",
       "      <th>1</th>\n",
       "      <td>2016_02_neutral</td>\n",
       "      <td>The texts discuss the development of vaccines ...</td>\n",
       "    </tr>\n",
       "    <tr>\n",
       "      <th>2</th>\n",
       "      <td>2016_03_neutral</td>\n",
       "      <td>The text discusses various vaccination campaig...</td>\n",
       "    </tr>\n",
       "    <tr>\n",
       "      <th>3</th>\n",
       "      <td>2016_04_neutral</td>\n",
       "      <td>The texts discuss various vaccination campaign...</td>\n",
       "    </tr>\n",
       "    <tr>\n",
       "      <th>4</th>\n",
       "      <td>2016_05_neutral</td>\n",
       "      <td>The provided texts discuss various vaccination...</td>\n",
       "    </tr>\n",
       "    <tr>\n",
       "      <th>5</th>\n",
       "      <td>2016_06_neutral</td>\n",
       "      <td>The texts discuss various vaccination campaign...</td>\n",
       "    </tr>\n",
       "    <tr>\n",
       "      <th>6</th>\n",
       "      <td>2016_07_neutral</td>\n",
       "      <td>The text covers various topics related to vacc...</td>\n",
       "    </tr>\n",
       "  </tbody>\n",
       "</table>\n",
       "</div>"
      ],
      "text/plain": [
       "           dataset                                            summary\n",
       "0  2016_01_neutral  The Ministry of Health of Brazil announced upd...\n",
       "1  2016_02_neutral  The texts discuss the development of vaccines ...\n",
       "2  2016_03_neutral  The text discusses various vaccination campaig...\n",
       "3  2016_04_neutral  The texts discuss various vaccination campaign...\n",
       "4  2016_05_neutral  The provided texts discuss various vaccination...\n",
       "5  2016_06_neutral  The texts discuss various vaccination campaign...\n",
       "6  2016_07_neutral  The text covers various topics related to vacc..."
      ]
     },
     "execution_count": 107,
     "metadata": {},
     "output_type": "execute_result"
    }
   ],
   "source": [
    "df_2016_neu.tail(14)"
   ]
  },
  {
   "cell_type": "code",
   "execution_count": 108,
   "id": "19075d74",
   "metadata": {},
   "outputs": [
    {
     "data": {
      "text/plain": [
       "<OpenAIObject chat.completion id=chatcmpl-AUcuv4m8EGcVyJh22lCyX5Sy8B3N3 at 0x2228b2129a0> JSON: {\n",
       "  \"choices\": [\n",
       "    {\n",
       "      \"finish_reason\": \"stop\",\n",
       "      \"index\": 0,\n",
       "      \"logprobs\": null,\n",
       "      \"message\": {\n",
       "        \"content\": \"The text covers various topics related to vaccination in Brazil, including the scheduling and availability of vaccines against diseases like polio, dengue, and HPV. It highlights upcoming vaccination campaigns, the importance of vaccination for children and animals, and mentions the costs associated with some vaccines. Additionally, it addresses public health concerns and the need for community participation in vaccination efforts.\",\n",
       "        \"refusal\": null,\n",
       "        \"role\": \"assistant\"\n",
       "      }\n",
       "    }\n",
       "  ],\n",
       "  \"created\": 1731862801,\n",
       "  \"id\": \"chatcmpl-AUcuv4m8EGcVyJh22lCyX5Sy8B3N3\",\n",
       "  \"model\": \"gpt-4o-mini-2024-07-18\",\n",
       "  \"object\": \"chat.completion\",\n",
       "  \"system_fingerprint\": \"fp_0ba0d124f1\",\n",
       "  \"usage\": {\n",
       "    \"completion_tokens\": 70,\n",
       "    \"completion_tokens_details\": {\n",
       "      \"accepted_prediction_tokens\": 0,\n",
       "      \"audio_tokens\": 0,\n",
       "      \"reasoning_tokens\": 0,\n",
       "      \"rejected_prediction_tokens\": 0\n",
       "    },\n",
       "    \"prompt_tokens\": 54881,\n",
       "    \"prompt_tokens_details\": {\n",
       "      \"audio_tokens\": 0,\n",
       "      \"cached_tokens\": 0\n",
       "    },\n",
       "    \"total_tokens\": 54951\n",
       "  }\n",
       "}"
      ]
     },
     "execution_count": 108,
     "metadata": {},
     "output_type": "execute_result"
    }
   ],
   "source": [
    "response"
   ]
  },
  {
   "cell_type": "markdown",
   "id": "9d083d2a",
   "metadata": {},
   "source": [
    "## August"
   ]
  },
  {
   "cell_type": "code",
   "execution_count": 109,
   "id": "0ed2a943",
   "metadata": {
    "scrolled": true,
    "tags": []
   },
   "outputs": [
    {
     "name": "stdout",
     "output_type": "stream",
     "text": [
      "<class 'pandas.core.frame.DataFrame'>\n",
      "RangeIndex: 3282 entries, 0 to 3281\n",
      "Data columns (total 53 columns):\n",
      " #   Column                  Non-Null Count  Dtype  \n",
      "---  ------                  --------------  -----  \n",
      " 0   index                   3282 non-null   int64  \n",
      " 1   LocationCode            3282 non-null   object \n",
      " 2   LocationName            3282 non-null   object \n",
      " 3   StatesCode              3282 non-null   object \n",
      " 4   ...4                    3282 non-null   int64  \n",
      " 5   id                      3282 non-null   float64\n",
      " 6   text                    3282 non-null   object \n",
      " 7   label                   3282 non-null   object \n",
      " 8   in_reply_to_status_id   215 non-null    float64\n",
      " 9   in_reply_to_user_id     235 non-null    float64\n",
      " 10  quoted_user_id          36 non-null     float64\n",
      " 11  quoted_status_id        36 non-null     float64\n",
      " 12  retweeted_user_id       458 non-null    float64\n",
      " 13  retweeted_status_id     458 non-null    float64\n",
      " 14  created_at              3282 non-null   object \n",
      " 15  entities.user_mentions  847 non-null    object \n",
      " 16  user.id                 3282 non-null   float64\n",
      " 17  user.screen_name        3282 non-null   object \n",
      " 18  user.name               3282 non-null   object \n",
      " 19  user.description        2977 non-null   object \n",
      " 20  user.timezone           0 non-null      float64\n",
      " 21  user.location           3227 non-null   object \n",
      " 22  user.num_followers      3282 non-null   int64  \n",
      " 23  user.num_following      3282 non-null   int64  \n",
      " 24  user.created_at         3282 non-null   object \n",
      " 25  user.statuses_count     3282 non-null   int64  \n",
      " 26  user.is_verified        3282 non-null   bool   \n",
      " 27  lang                    3282 non-null   object \n",
      " 28  token_count             3282 non-null   int64  \n",
      " 29  is_retweet              3282 non-null   bool   \n",
      " 30  has_quote               3282 non-null   bool   \n",
      " 31  is_reply                3282 non-null   bool   \n",
      " 32  contains_keywords       3282 non-null   bool   \n",
      " 33  longitude               3282 non-null   float64\n",
      " 34  latitude                3282 non-null   float64\n",
      " 35  country_code            3282 non-null   object \n",
      " 36  geoname_id              2978 non-null   float64\n",
      " 37  location_type           3282 non-null   object \n",
      " 38  geo_type                3282 non-null   int64  \n",
      " 39  region                  3282 non-null   object \n",
      " 40  subregion               3282 non-null   object \n",
      " 41  num_quotes              3282 non-null   int64  \n",
      " 42  num_replies             3282 non-null   int64  \n",
      " 43  num_retweets            3282 non-null   int64  \n",
      " 44  sent_gpt                3282 non-null   object \n",
      " 45  gpt_sent_presence       3282 non-null   int64  \n",
      " 46  cleaned_text_lem        3282 non-null   object \n",
      " 47  cleaned_text            3282 non-null   object \n",
      " 48  month                   3282 non-null   int64  \n",
      " 49  year                    3282 non-null   int64  \n",
      " 50  week                    3282 non-null   int64  \n",
      " 51  year_month              3282 non-null   object \n",
      " 52  year_week               3282 non-null   object \n",
      "dtypes: bool(5), float64(12), int64(14), object(22)\n",
      "memory usage: 1.2+ MB\n"
     ]
    }
   ],
   "source": [
    "# Get monthly data\n",
    "df_2016_08_neu = pd.read_csv('../data/local/df_neu_2016-08.csv').reset_index()\n",
    "df_2016_08_neu.info()"
   ]
  },
  {
   "cell_type": "markdown",
   "id": "3c035145",
   "metadata": {},
   "source": [
    "### Representative sample based on week and location"
   ]
  },
  {
   "cell_type": "code",
   "execution_count": 110,
   "id": "ebf072ee",
   "metadata": {},
   "outputs": [
    {
     "data": {
      "text/html": [
       "<div>\n",
       "<style scoped>\n",
       "    .dataframe tbody tr th:only-of-type {\n",
       "        vertical-align: middle;\n",
       "    }\n",
       "\n",
       "    .dataframe tbody tr th {\n",
       "        vertical-align: top;\n",
       "    }\n",
       "\n",
       "    .dataframe thead th {\n",
       "        text-align: right;\n",
       "    }\n",
       "</style>\n",
       "<table border=\"1\" class=\"dataframe\">\n",
       "  <thead>\n",
       "    <tr style=\"text-align: right;\">\n",
       "      <th></th>\n",
       "      <th>year_week</th>\n",
       "      <th>LocationName</th>\n",
       "      <th>group_size</th>\n",
       "      <th>proportion</th>\n",
       "    </tr>\n",
       "  </thead>\n",
       "  <tbody>\n",
       "    <tr>\n",
       "      <th>0</th>\n",
       "      <td>2016-w31</td>\n",
       "      <td>Acre</td>\n",
       "      <td>2</td>\n",
       "      <td>0.000609</td>\n",
       "    </tr>\n",
       "    <tr>\n",
       "      <th>1</th>\n",
       "      <td>2016-w31</td>\n",
       "      <td>Alagoas</td>\n",
       "      <td>13</td>\n",
       "      <td>0.003961</td>\n",
       "    </tr>\n",
       "    <tr>\n",
       "      <th>2</th>\n",
       "      <td>2016-w31</td>\n",
       "      <td>Amapa</td>\n",
       "      <td>4</td>\n",
       "      <td>0.001219</td>\n",
       "    </tr>\n",
       "    <tr>\n",
       "      <th>3</th>\n",
       "      <td>2016-w31</td>\n",
       "      <td>Amazonas</td>\n",
       "      <td>18</td>\n",
       "      <td>0.005484</td>\n",
       "    </tr>\n",
       "    <tr>\n",
       "      <th>4</th>\n",
       "      <td>2016-w31</td>\n",
       "      <td>Bahia</td>\n",
       "      <td>43</td>\n",
       "      <td>0.013102</td>\n",
       "    </tr>\n",
       "    <tr>\n",
       "      <th>...</th>\n",
       "      <td>...</td>\n",
       "      <td>...</td>\n",
       "      <td>...</td>\n",
       "      <td>...</td>\n",
       "    </tr>\n",
       "    <tr>\n",
       "      <th>112</th>\n",
       "      <td>2016-w35</td>\n",
       "      <td>Rio Grande Do Sul</td>\n",
       "      <td>45</td>\n",
       "      <td>0.013711</td>\n",
       "    </tr>\n",
       "    <tr>\n",
       "      <th>113</th>\n",
       "      <td>2016-w35</td>\n",
       "      <td>Rondonia</td>\n",
       "      <td>8</td>\n",
       "      <td>0.002438</td>\n",
       "    </tr>\n",
       "    <tr>\n",
       "      <th>114</th>\n",
       "      <td>2016-w35</td>\n",
       "      <td>Roraima</td>\n",
       "      <td>2</td>\n",
       "      <td>0.000609</td>\n",
       "    </tr>\n",
       "    <tr>\n",
       "      <th>115</th>\n",
       "      <td>2016-w35</td>\n",
       "      <td>Santa Catarina</td>\n",
       "      <td>6</td>\n",
       "      <td>0.001828</td>\n",
       "    </tr>\n",
       "    <tr>\n",
       "      <th>116</th>\n",
       "      <td>2016-w35</td>\n",
       "      <td>Sao Paulo</td>\n",
       "      <td>107</td>\n",
       "      <td>0.032602</td>\n",
       "    </tr>\n",
       "  </tbody>\n",
       "</table>\n",
       "<p>117 rows × 4 columns</p>\n",
       "</div>"
      ],
      "text/plain": [
       "    year_week       LocationName  group_size  proportion\n",
       "0    2016-w31               Acre           2    0.000609\n",
       "1    2016-w31            Alagoas          13    0.003961\n",
       "2    2016-w31              Amapa           4    0.001219\n",
       "3    2016-w31           Amazonas          18    0.005484\n",
       "4    2016-w31              Bahia          43    0.013102\n",
       "..        ...                ...         ...         ...\n",
       "112  2016-w35  Rio Grande Do Sul          45    0.013711\n",
       "113  2016-w35           Rondonia           8    0.002438\n",
       "114  2016-w35            Roraima           2    0.000609\n",
       "115  2016-w35     Santa Catarina           6    0.001828\n",
       "116  2016-w35          Sao Paulo         107    0.032602\n",
       "\n",
       "[117 rows x 4 columns]"
      ]
     },
     "execution_count": 110,
     "metadata": {},
     "output_type": "execute_result"
    }
   ],
   "source": [
    "# Step 1: Calculate the size of each group (year_week, LocationName)\n",
    "group_sizes = df_2016_08_neu.groupby(['year_week', 'LocationName']).size().reset_index(name='group_size')\n",
    "\n",
    "# Step 2: Calculate the proportion of each group in the dataset\n",
    "total_rows = len(df_2016_08_neu)\n",
    "group_sizes['proportion'] = group_sizes['group_size'] / total_rows\n",
    "group_sizes"
   ]
  },
  {
   "cell_type": "code",
   "execution_count": 111,
   "id": "c3bc6232",
   "metadata": {},
   "outputs": [
    {
     "data": {
      "text/html": [
       "<div>\n",
       "<style scoped>\n",
       "    .dataframe tbody tr th:only-of-type {\n",
       "        vertical-align: middle;\n",
       "    }\n",
       "\n",
       "    .dataframe tbody tr th {\n",
       "        vertical-align: top;\n",
       "    }\n",
       "\n",
       "    .dataframe thead th {\n",
       "        text-align: right;\n",
       "    }\n",
       "</style>\n",
       "<table border=\"1\" class=\"dataframe\">\n",
       "  <thead>\n",
       "    <tr style=\"text-align: right;\">\n",
       "      <th></th>\n",
       "      <th>year_week</th>\n",
       "      <th>LocationName</th>\n",
       "      <th>group_size</th>\n",
       "      <th>proportion</th>\n",
       "      <th>sample_size</th>\n",
       "    </tr>\n",
       "  </thead>\n",
       "  <tbody>\n",
       "    <tr>\n",
       "      <th>0</th>\n",
       "      <td>2016-w31</td>\n",
       "      <td>Acre</td>\n",
       "      <td>2</td>\n",
       "      <td>0.000609</td>\n",
       "      <td>1</td>\n",
       "    </tr>\n",
       "    <tr>\n",
       "      <th>1</th>\n",
       "      <td>2016-w31</td>\n",
       "      <td>Alagoas</td>\n",
       "      <td>13</td>\n",
       "      <td>0.003961</td>\n",
       "      <td>9</td>\n",
       "    </tr>\n",
       "    <tr>\n",
       "      <th>2</th>\n",
       "      <td>2016-w31</td>\n",
       "      <td>Amapa</td>\n",
       "      <td>4</td>\n",
       "      <td>0.001219</td>\n",
       "      <td>2</td>\n",
       "    </tr>\n",
       "    <tr>\n",
       "      <th>3</th>\n",
       "      <td>2016-w31</td>\n",
       "      <td>Amazonas</td>\n",
       "      <td>18</td>\n",
       "      <td>0.005484</td>\n",
       "      <td>13</td>\n",
       "    </tr>\n",
       "    <tr>\n",
       "      <th>4</th>\n",
       "      <td>2016-w31</td>\n",
       "      <td>Bahia</td>\n",
       "      <td>43</td>\n",
       "      <td>0.013102</td>\n",
       "      <td>32</td>\n",
       "    </tr>\n",
       "    <tr>\n",
       "      <th>...</th>\n",
       "      <td>...</td>\n",
       "      <td>...</td>\n",
       "      <td>...</td>\n",
       "      <td>...</td>\n",
       "      <td>...</td>\n",
       "    </tr>\n",
       "    <tr>\n",
       "      <th>112</th>\n",
       "      <td>2016-w35</td>\n",
       "      <td>Rio Grande Do Sul</td>\n",
       "      <td>45</td>\n",
       "      <td>0.013711</td>\n",
       "      <td>33</td>\n",
       "    </tr>\n",
       "    <tr>\n",
       "      <th>113</th>\n",
       "      <td>2016-w35</td>\n",
       "      <td>Rondonia</td>\n",
       "      <td>8</td>\n",
       "      <td>0.002438</td>\n",
       "      <td>5</td>\n",
       "    </tr>\n",
       "    <tr>\n",
       "      <th>114</th>\n",
       "      <td>2016-w35</td>\n",
       "      <td>Roraima</td>\n",
       "      <td>2</td>\n",
       "      <td>0.000609</td>\n",
       "      <td>1</td>\n",
       "    </tr>\n",
       "    <tr>\n",
       "      <th>115</th>\n",
       "      <td>2016-w35</td>\n",
       "      <td>Santa Catarina</td>\n",
       "      <td>6</td>\n",
       "      <td>0.001828</td>\n",
       "      <td>4</td>\n",
       "    </tr>\n",
       "    <tr>\n",
       "      <th>116</th>\n",
       "      <td>2016-w35</td>\n",
       "      <td>Sao Paulo</td>\n",
       "      <td>107</td>\n",
       "      <td>0.032602</td>\n",
       "      <td>79</td>\n",
       "    </tr>\n",
       "  </tbody>\n",
       "</table>\n",
       "<p>117 rows × 5 columns</p>\n",
       "</div>"
      ],
      "text/plain": [
       "    year_week       LocationName  group_size  proportion  sample_size\n",
       "0    2016-w31               Acre           2    0.000609            1\n",
       "1    2016-w31            Alagoas          13    0.003961            9\n",
       "2    2016-w31              Amapa           4    0.001219            2\n",
       "3    2016-w31           Amazonas          18    0.005484           13\n",
       "4    2016-w31              Bahia          43    0.013102           32\n",
       "..        ...                ...         ...         ...          ...\n",
       "112  2016-w35  Rio Grande Do Sul          45    0.013711           33\n",
       "113  2016-w35           Rondonia           8    0.002438            5\n",
       "114  2016-w35            Roraima           2    0.000609            1\n",
       "115  2016-w35     Santa Catarina           6    0.001828            4\n",
       "116  2016-w35          Sao Paulo         107    0.032602           79\n",
       "\n",
       "[117 rows x 5 columns]"
      ]
     },
     "execution_count": 111,
     "metadata": {},
     "output_type": "execute_result"
    }
   ],
   "source": [
    "# Step 3: Define the target sample size\n",
    "target_sample_size = 2450\n",
    "\n",
    "# Step 4: Calculate the sample size for each group (based on its proportion)\n",
    "group_sizes['sample_size'] = np.floor(group_sizes['proportion'] * target_sample_size).astype(int)\n",
    "group_sizes"
   ]
  },
  {
   "cell_type": "code",
   "execution_count": 112,
   "id": "2f55ef03",
   "metadata": {},
   "outputs": [],
   "source": [
    "# Step 5: Merge this sample size information back to the original DataFrame\n",
    "df_2016_08_neu_sample_size = pd.merge(df_2016_08_neu, group_sizes[['year_week', 'LocationName', 'sample_size']], \n",
    "                               on=['year_week', 'LocationName'], how='left')"
   ]
  },
  {
   "cell_type": "code",
   "execution_count": 113,
   "id": "2aa2083a",
   "metadata": {},
   "outputs": [
    {
     "name": "stdout",
     "output_type": "stream",
     "text": [
      "Sampled 2385 rows.\n"
     ]
    }
   ],
   "source": [
    "# Step 6: Perform the stratified sampling\n",
    "df_2016_08_neu_sample = df_2016_08_neu_sample_size.groupby(['year_week', 'LocationName']).apply(\n",
    "    lambda group: group.sample(n=group['sample_size'].iloc[0], random_state=42)\n",
    ").reset_index(drop=True)\n",
    "\n",
    "# Step 7: Check the result\n",
    "print(f\"Sampled {len(df_2016_08_neu_sample)} rows.\")\n"
   ]
  },
  {
   "cell_type": "code",
   "execution_count": 114,
   "id": "3eb70c20",
   "metadata": {},
   "outputs": [],
   "source": [
    "text_gpt_2016_08_neu = '\\n'.join(df_2016_08_neu_sample['text'].astype(str))"
   ]
  },
  {
   "cell_type": "markdown",
   "id": "20c12a08",
   "metadata": {},
   "source": [
    "### Prompts and loops"
   ]
  },
  {
   "cell_type": "code",
   "execution_count": 115,
   "id": "6cbedf14",
   "metadata": {},
   "outputs": [],
   "source": [
    "prompt_8 = prompt_raw.replace('TWEETS', text_gpt_2016_08_neu)"
   ]
  },
  {
   "cell_type": "code",
   "execution_count": 116,
   "id": "6312a680",
   "metadata": {
    "scrolled": false
   },
   "outputs": [],
   "source": [
    "response = openai.ChatCompletion.create(\n",
    "    model=\"gpt-4o-mini\",  \n",
    "    messages = [\n",
    "        {\"role\": \"user\", \"content\": prompt_8}\n",
    "    ],\n",
    "    max_tokens=400,  # Maximum number of tokens in the response\n",
    "    temperature=0.7  # Controls the randomness of the output\n",
    ")"
   ]
  },
  {
   "cell_type": "code",
   "execution_count": 117,
   "id": "1af4a697",
   "metadata": {},
   "outputs": [
    {
     "data": {
      "text/plain": [
       "'The articles discuss various vaccination initiatives in Brazil, particularly focusing on the intensification of HPV vaccination in schools, the introduction and sales of dengue vaccines at high prices, and the ongoing vaccination campaigns against rabies and other diseases. Concerns about the affordability of vaccines and low vaccination coverage rates are also highlighted. Additionally, there are mentions of new vaccine trials for Zika and dengue, alongside calls for reporting abusive pricing practices.'"
      ]
     },
     "execution_count": 117,
     "metadata": {},
     "output_type": "execute_result"
    }
   ],
   "source": [
    "response.choices[0].message.content"
   ]
  },
  {
   "cell_type": "code",
   "execution_count": 118,
   "id": "c2df0aba",
   "metadata": {},
   "outputs": [],
   "source": [
    "#summary = []\n",
    "#dataset = []"
   ]
  },
  {
   "cell_type": "code",
   "execution_count": 119,
   "id": "9714a127",
   "metadata": {},
   "outputs": [],
   "source": [
    "dataset.append(\"2016_08_neutral\")"
   ]
  },
  {
   "cell_type": "code",
   "execution_count": 120,
   "id": "7118fbc6",
   "metadata": {},
   "outputs": [],
   "source": [
    "summary.append(response.choices[0].message.content)"
   ]
  },
  {
   "cell_type": "code",
   "execution_count": 121,
   "id": "626416cc",
   "metadata": {
    "tags": []
   },
   "outputs": [
    {
     "name": "stdout",
     "output_type": "stream",
     "text": [
      "<class 'pandas.core.frame.DataFrame'>\n",
      "RangeIndex: 8 entries, 0 to 7\n",
      "Data columns (total 2 columns):\n",
      " #   Column   Non-Null Count  Dtype \n",
      "---  ------   --------------  ----- \n",
      " 0   dataset  8 non-null      object\n",
      " 1   summary  8 non-null      object\n",
      "dtypes: object(2)\n",
      "memory usage: 256.0+ bytes\n"
     ]
    }
   ],
   "source": [
    "df_2016_neu = pd.DataFrame(list(zip(dataset, summary)),\n",
    "                            columns = ['dataset', 'summary'])\n",
    "df_2016_neu.info()"
   ]
  },
  {
   "cell_type": "code",
   "execution_count": 122,
   "id": "c9811a57",
   "metadata": {},
   "outputs": [
    {
     "data": {
      "text/html": [
       "<div>\n",
       "<style scoped>\n",
       "    .dataframe tbody tr th:only-of-type {\n",
       "        vertical-align: middle;\n",
       "    }\n",
       "\n",
       "    .dataframe tbody tr th {\n",
       "        vertical-align: top;\n",
       "    }\n",
       "\n",
       "    .dataframe thead th {\n",
       "        text-align: right;\n",
       "    }\n",
       "</style>\n",
       "<table border=\"1\" class=\"dataframe\">\n",
       "  <thead>\n",
       "    <tr style=\"text-align: right;\">\n",
       "      <th></th>\n",
       "      <th>dataset</th>\n",
       "      <th>summary</th>\n",
       "    </tr>\n",
       "  </thead>\n",
       "  <tbody>\n",
       "    <tr>\n",
       "      <th>0</th>\n",
       "      <td>2016_01_neutral</td>\n",
       "      <td>The Ministry of Health of Brazil announced upd...</td>\n",
       "    </tr>\n",
       "    <tr>\n",
       "      <th>1</th>\n",
       "      <td>2016_02_neutral</td>\n",
       "      <td>The texts discuss the development of vaccines ...</td>\n",
       "    </tr>\n",
       "    <tr>\n",
       "      <th>2</th>\n",
       "      <td>2016_03_neutral</td>\n",
       "      <td>The text discusses various vaccination campaig...</td>\n",
       "    </tr>\n",
       "    <tr>\n",
       "      <th>3</th>\n",
       "      <td>2016_04_neutral</td>\n",
       "      <td>The texts discuss various vaccination campaign...</td>\n",
       "    </tr>\n",
       "    <tr>\n",
       "      <th>4</th>\n",
       "      <td>2016_05_neutral</td>\n",
       "      <td>The provided texts discuss various vaccination...</td>\n",
       "    </tr>\n",
       "    <tr>\n",
       "      <th>5</th>\n",
       "      <td>2016_06_neutral</td>\n",
       "      <td>The texts discuss various vaccination campaign...</td>\n",
       "    </tr>\n",
       "    <tr>\n",
       "      <th>6</th>\n",
       "      <td>2016_07_neutral</td>\n",
       "      <td>The text covers various topics related to vacc...</td>\n",
       "    </tr>\n",
       "    <tr>\n",
       "      <th>7</th>\n",
       "      <td>2016_08_neutral</td>\n",
       "      <td>The articles discuss various vaccination initi...</td>\n",
       "    </tr>\n",
       "  </tbody>\n",
       "</table>\n",
       "</div>"
      ],
      "text/plain": [
       "           dataset                                            summary\n",
       "0  2016_01_neutral  The Ministry of Health of Brazil announced upd...\n",
       "1  2016_02_neutral  The texts discuss the development of vaccines ...\n",
       "2  2016_03_neutral  The text discusses various vaccination campaig...\n",
       "3  2016_04_neutral  The texts discuss various vaccination campaign...\n",
       "4  2016_05_neutral  The provided texts discuss various vaccination...\n",
       "5  2016_06_neutral  The texts discuss various vaccination campaign...\n",
       "6  2016_07_neutral  The text covers various topics related to vacc...\n",
       "7  2016_08_neutral  The articles discuss various vaccination initi..."
      ]
     },
     "execution_count": 122,
     "metadata": {},
     "output_type": "execute_result"
    }
   ],
   "source": [
    "df_2016_neu.tail(14)"
   ]
  },
  {
   "cell_type": "code",
   "execution_count": 123,
   "id": "cd10153f",
   "metadata": {},
   "outputs": [
    {
     "data": {
      "text/plain": [
       "<OpenAIObject chat.completion id=chatcmpl-AUcv0VG3rraTmqon8ZrPhGAVWKCTt at 0x2228b696ae0> JSON: {\n",
       "  \"choices\": [\n",
       "    {\n",
       "      \"finish_reason\": \"stop\",\n",
       "      \"index\": 0,\n",
       "      \"logprobs\": null,\n",
       "      \"message\": {\n",
       "        \"content\": \"The articles discuss various vaccination initiatives in Brazil, particularly focusing on the intensification of HPV vaccination in schools, the introduction and sales of dengue vaccines at high prices, and the ongoing vaccination campaigns against rabies and other diseases. Concerns about the affordability of vaccines and low vaccination coverage rates are also highlighted. Additionally, there are mentions of new vaccine trials for Zika and dengue, alongside calls for reporting abusive pricing practices.\",\n",
       "        \"refusal\": null,\n",
       "        \"role\": \"assistant\"\n",
       "      }\n",
       "    }\n",
       "  ],\n",
       "  \"created\": 1731862806,\n",
       "  \"id\": \"chatcmpl-AUcv0VG3rraTmqon8ZrPhGAVWKCTt\",\n",
       "  \"model\": \"gpt-4o-mini-2024-07-18\",\n",
       "  \"object\": \"chat.completion\",\n",
       "  \"system_fingerprint\": \"fp_0ba0d124f1\",\n",
       "  \"usage\": {\n",
       "    \"completion_tokens\": 83,\n",
       "    \"completion_tokens_details\": {\n",
       "      \"accepted_prediction_tokens\": 0,\n",
       "      \"audio_tokens\": 0,\n",
       "      \"reasoning_tokens\": 0,\n",
       "      \"rejected_prediction_tokens\": 0\n",
       "    },\n",
       "    \"prompt_tokens\": 55323,\n",
       "    \"prompt_tokens_details\": {\n",
       "      \"audio_tokens\": 0,\n",
       "      \"cached_tokens\": 0\n",
       "    },\n",
       "    \"total_tokens\": 55406\n",
       "  }\n",
       "}"
      ]
     },
     "execution_count": 123,
     "metadata": {},
     "output_type": "execute_result"
    }
   ],
   "source": [
    "response"
   ]
  },
  {
   "cell_type": "markdown",
   "id": "1a0c859d",
   "metadata": {},
   "source": [
    "## September"
   ]
  },
  {
   "cell_type": "code",
   "execution_count": 124,
   "id": "46970275",
   "metadata": {
    "scrolled": true,
    "tags": []
   },
   "outputs": [
    {
     "name": "stdout",
     "output_type": "stream",
     "text": [
      "<class 'pandas.core.frame.DataFrame'>\n",
      "RangeIndex: 5507 entries, 0 to 5506\n",
      "Data columns (total 53 columns):\n",
      " #   Column                  Non-Null Count  Dtype  \n",
      "---  ------                  --------------  -----  \n",
      " 0   index                   5507 non-null   int64  \n",
      " 1   LocationCode            5507 non-null   object \n",
      " 2   LocationName            5507 non-null   object \n",
      " 3   StatesCode              5507 non-null   object \n",
      " 4   ...4                    5507 non-null   int64  \n",
      " 5   id                      5507 non-null   float64\n",
      " 6   text                    5507 non-null   object \n",
      " 7   label                   5507 non-null   object \n",
      " 8   in_reply_to_status_id   314 non-null    float64\n",
      " 9   in_reply_to_user_id     335 non-null    float64\n",
      " 10  quoted_user_id          67 non-null     float64\n",
      " 11  quoted_status_id        67 non-null     float64\n",
      " 12  retweeted_user_id       848 non-null    float64\n",
      " 13  retweeted_status_id     848 non-null    float64\n",
      " 14  created_at              5507 non-null   object \n",
      " 15  entities.user_mentions  1444 non-null   object \n",
      " 16  user.id                 5507 non-null   float64\n",
      " 17  user.screen_name        5507 non-null   object \n",
      " 18  user.name               5507 non-null   object \n",
      " 19  user.description        4954 non-null   object \n",
      " 20  user.timezone           0 non-null      float64\n",
      " 21  user.location           5431 non-null   object \n",
      " 22  user.num_followers      5507 non-null   int64  \n",
      " 23  user.num_following      5507 non-null   int64  \n",
      " 24  user.created_at         5507 non-null   object \n",
      " 25  user.statuses_count     5507 non-null   int64  \n",
      " 26  user.is_verified        5507 non-null   bool   \n",
      " 27  lang                    5507 non-null   object \n",
      " 28  token_count             5507 non-null   int64  \n",
      " 29  is_retweet              5507 non-null   bool   \n",
      " 30  has_quote               5507 non-null   bool   \n",
      " 31  is_reply                5507 non-null   bool   \n",
      " 32  contains_keywords       5507 non-null   bool   \n",
      " 33  longitude               5507 non-null   float64\n",
      " 34  latitude                5507 non-null   float64\n",
      " 35  country_code            5507 non-null   object \n",
      " 36  geoname_id              5076 non-null   float64\n",
      " 37  location_type           5507 non-null   object \n",
      " 38  geo_type                5507 non-null   int64  \n",
      " 39  region                  5507 non-null   object \n",
      " 40  subregion               5507 non-null   object \n",
      " 41  num_quotes              5507 non-null   int64  \n",
      " 42  num_replies             5507 non-null   int64  \n",
      " 43  num_retweets            5507 non-null   int64  \n",
      " 44  sent_gpt                5507 non-null   object \n",
      " 45  gpt_sent_presence       5507 non-null   int64  \n",
      " 46  cleaned_text_lem        5507 non-null   object \n",
      " 47  cleaned_text            5507 non-null   object \n",
      " 48  month                   5507 non-null   int64  \n",
      " 49  year                    5507 non-null   int64  \n",
      " 50  week                    5507 non-null   int64  \n",
      " 51  year_month              5507 non-null   object \n",
      " 52  year_week               5507 non-null   object \n",
      "dtypes: bool(5), float64(12), int64(14), object(22)\n",
      "memory usage: 2.0+ MB\n"
     ]
    }
   ],
   "source": [
    "# Get monthly data\n",
    "df_2016_09_neu = pd.read_csv('../data/local/df_neu_2016-09.csv').reset_index()\n",
    "df_2016_09_neu.info()"
   ]
  },
  {
   "cell_type": "markdown",
   "id": "6d6d95b1",
   "metadata": {},
   "source": [
    "### Representative sample based on week and location"
   ]
  },
  {
   "cell_type": "code",
   "execution_count": 125,
   "id": "1c64358d",
   "metadata": {},
   "outputs": [
    {
     "data": {
      "text/html": [
       "<div>\n",
       "<style scoped>\n",
       "    .dataframe tbody tr th:only-of-type {\n",
       "        vertical-align: middle;\n",
       "    }\n",
       "\n",
       "    .dataframe tbody tr th {\n",
       "        vertical-align: top;\n",
       "    }\n",
       "\n",
       "    .dataframe thead th {\n",
       "        text-align: right;\n",
       "    }\n",
       "</style>\n",
       "<table border=\"1\" class=\"dataframe\">\n",
       "  <thead>\n",
       "    <tr style=\"text-align: right;\">\n",
       "      <th></th>\n",
       "      <th>year_week</th>\n",
       "      <th>LocationName</th>\n",
       "      <th>group_size</th>\n",
       "      <th>proportion</th>\n",
       "    </tr>\n",
       "  </thead>\n",
       "  <tbody>\n",
       "    <tr>\n",
       "      <th>0</th>\n",
       "      <td>2016-w35</td>\n",
       "      <td>Acre</td>\n",
       "      <td>1</td>\n",
       "      <td>0.000182</td>\n",
       "    </tr>\n",
       "    <tr>\n",
       "      <th>1</th>\n",
       "      <td>2016-w35</td>\n",
       "      <td>Amapa</td>\n",
       "      <td>1</td>\n",
       "      <td>0.000182</td>\n",
       "    </tr>\n",
       "    <tr>\n",
       "      <th>2</th>\n",
       "      <td>2016-w35</td>\n",
       "      <td>Bahia</td>\n",
       "      <td>2</td>\n",
       "      <td>0.000363</td>\n",
       "    </tr>\n",
       "    <tr>\n",
       "      <th>3</th>\n",
       "      <td>2016-w35</td>\n",
       "      <td>Ceara</td>\n",
       "      <td>2</td>\n",
       "      <td>0.000363</td>\n",
       "    </tr>\n",
       "    <tr>\n",
       "      <th>4</th>\n",
       "      <td>2016-w35</td>\n",
       "      <td>Distrito Federal</td>\n",
       "      <td>1</td>\n",
       "      <td>0.000182</td>\n",
       "    </tr>\n",
       "    <tr>\n",
       "      <th>...</th>\n",
       "      <td>...</td>\n",
       "      <td>...</td>\n",
       "      <td>...</td>\n",
       "      <td>...</td>\n",
       "    </tr>\n",
       "    <tr>\n",
       "      <th>129</th>\n",
       "      <td>2016-w40</td>\n",
       "      <td>Rio Grande Do Sul</td>\n",
       "      <td>35</td>\n",
       "      <td>0.006356</td>\n",
       "    </tr>\n",
       "    <tr>\n",
       "      <th>130</th>\n",
       "      <td>2016-w40</td>\n",
       "      <td>Rondonia</td>\n",
       "      <td>2</td>\n",
       "      <td>0.000363</td>\n",
       "    </tr>\n",
       "    <tr>\n",
       "      <th>131</th>\n",
       "      <td>2016-w40</td>\n",
       "      <td>Santa Catarina</td>\n",
       "      <td>5</td>\n",
       "      <td>0.000908</td>\n",
       "    </tr>\n",
       "    <tr>\n",
       "      <th>132</th>\n",
       "      <td>2016-w40</td>\n",
       "      <td>Sao Paulo</td>\n",
       "      <td>55</td>\n",
       "      <td>0.009987</td>\n",
       "    </tr>\n",
       "    <tr>\n",
       "      <th>133</th>\n",
       "      <td>2016-w40</td>\n",
       "      <td>Sergipe</td>\n",
       "      <td>2</td>\n",
       "      <td>0.000363</td>\n",
       "    </tr>\n",
       "  </tbody>\n",
       "</table>\n",
       "<p>134 rows × 4 columns</p>\n",
       "</div>"
      ],
      "text/plain": [
       "    year_week       LocationName  group_size  proportion\n",
       "0    2016-w35               Acre           1    0.000182\n",
       "1    2016-w35              Amapa           1    0.000182\n",
       "2    2016-w35              Bahia           2    0.000363\n",
       "3    2016-w35              Ceara           2    0.000363\n",
       "4    2016-w35   Distrito Federal           1    0.000182\n",
       "..        ...                ...         ...         ...\n",
       "129  2016-w40  Rio Grande Do Sul          35    0.006356\n",
       "130  2016-w40           Rondonia           2    0.000363\n",
       "131  2016-w40     Santa Catarina           5    0.000908\n",
       "132  2016-w40          Sao Paulo          55    0.009987\n",
       "133  2016-w40            Sergipe           2    0.000363\n",
       "\n",
       "[134 rows x 4 columns]"
      ]
     },
     "execution_count": 125,
     "metadata": {},
     "output_type": "execute_result"
    }
   ],
   "source": [
    "# Step 1: Calculate the size of each group (year_week, LocationName)\n",
    "group_sizes = df_2016_09_neu.groupby(['year_week', 'LocationName']).size().reset_index(name='group_size')\n",
    "\n",
    "# Step 2: Calculate the proportion of each group in the dataset\n",
    "total_rows = len(df_2016_09_neu)\n",
    "group_sizes['proportion'] = group_sizes['group_size'] / total_rows\n",
    "group_sizes"
   ]
  },
  {
   "cell_type": "code",
   "execution_count": 126,
   "id": "0f70bf42",
   "metadata": {},
   "outputs": [
    {
     "data": {
      "text/html": [
       "<div>\n",
       "<style scoped>\n",
       "    .dataframe tbody tr th:only-of-type {\n",
       "        vertical-align: middle;\n",
       "    }\n",
       "\n",
       "    .dataframe tbody tr th {\n",
       "        vertical-align: top;\n",
       "    }\n",
       "\n",
       "    .dataframe thead th {\n",
       "        text-align: right;\n",
       "    }\n",
       "</style>\n",
       "<table border=\"1\" class=\"dataframe\">\n",
       "  <thead>\n",
       "    <tr style=\"text-align: right;\">\n",
       "      <th></th>\n",
       "      <th>year_week</th>\n",
       "      <th>LocationName</th>\n",
       "      <th>group_size</th>\n",
       "      <th>proportion</th>\n",
       "      <th>sample_size</th>\n",
       "    </tr>\n",
       "  </thead>\n",
       "  <tbody>\n",
       "    <tr>\n",
       "      <th>0</th>\n",
       "      <td>2016-w35</td>\n",
       "      <td>Acre</td>\n",
       "      <td>1</td>\n",
       "      <td>0.000182</td>\n",
       "      <td>0</td>\n",
       "    </tr>\n",
       "    <tr>\n",
       "      <th>1</th>\n",
       "      <td>2016-w35</td>\n",
       "      <td>Amapa</td>\n",
       "      <td>1</td>\n",
       "      <td>0.000182</td>\n",
       "      <td>0</td>\n",
       "    </tr>\n",
       "    <tr>\n",
       "      <th>2</th>\n",
       "      <td>2016-w35</td>\n",
       "      <td>Bahia</td>\n",
       "      <td>2</td>\n",
       "      <td>0.000363</td>\n",
       "      <td>0</td>\n",
       "    </tr>\n",
       "    <tr>\n",
       "      <th>3</th>\n",
       "      <td>2016-w35</td>\n",
       "      <td>Ceara</td>\n",
       "      <td>2</td>\n",
       "      <td>0.000363</td>\n",
       "      <td>0</td>\n",
       "    </tr>\n",
       "    <tr>\n",
       "      <th>4</th>\n",
       "      <td>2016-w35</td>\n",
       "      <td>Distrito Federal</td>\n",
       "      <td>1</td>\n",
       "      <td>0.000182</td>\n",
       "      <td>0</td>\n",
       "    </tr>\n",
       "    <tr>\n",
       "      <th>...</th>\n",
       "      <td>...</td>\n",
       "      <td>...</td>\n",
       "      <td>...</td>\n",
       "      <td>...</td>\n",
       "      <td>...</td>\n",
       "    </tr>\n",
       "    <tr>\n",
       "      <th>129</th>\n",
       "      <td>2016-w40</td>\n",
       "      <td>Rio Grande Do Sul</td>\n",
       "      <td>35</td>\n",
       "      <td>0.006356</td>\n",
       "      <td>15</td>\n",
       "    </tr>\n",
       "    <tr>\n",
       "      <th>130</th>\n",
       "      <td>2016-w40</td>\n",
       "      <td>Rondonia</td>\n",
       "      <td>2</td>\n",
       "      <td>0.000363</td>\n",
       "      <td>0</td>\n",
       "    </tr>\n",
       "    <tr>\n",
       "      <th>131</th>\n",
       "      <td>2016-w40</td>\n",
       "      <td>Santa Catarina</td>\n",
       "      <td>5</td>\n",
       "      <td>0.000908</td>\n",
       "      <td>2</td>\n",
       "    </tr>\n",
       "    <tr>\n",
       "      <th>132</th>\n",
       "      <td>2016-w40</td>\n",
       "      <td>Sao Paulo</td>\n",
       "      <td>55</td>\n",
       "      <td>0.009987</td>\n",
       "      <td>24</td>\n",
       "    </tr>\n",
       "    <tr>\n",
       "      <th>133</th>\n",
       "      <td>2016-w40</td>\n",
       "      <td>Sergipe</td>\n",
       "      <td>2</td>\n",
       "      <td>0.000363</td>\n",
       "      <td>0</td>\n",
       "    </tr>\n",
       "  </tbody>\n",
       "</table>\n",
       "<p>134 rows × 5 columns</p>\n",
       "</div>"
      ],
      "text/plain": [
       "    year_week       LocationName  group_size  proportion  sample_size\n",
       "0    2016-w35               Acre           1    0.000182            0\n",
       "1    2016-w35              Amapa           1    0.000182            0\n",
       "2    2016-w35              Bahia           2    0.000363            0\n",
       "3    2016-w35              Ceara           2    0.000363            0\n",
       "4    2016-w35   Distrito Federal           1    0.000182            0\n",
       "..        ...                ...         ...         ...          ...\n",
       "129  2016-w40  Rio Grande Do Sul          35    0.006356           15\n",
       "130  2016-w40           Rondonia           2    0.000363            0\n",
       "131  2016-w40     Santa Catarina           5    0.000908            2\n",
       "132  2016-w40          Sao Paulo          55    0.009987           24\n",
       "133  2016-w40            Sergipe           2    0.000363            0\n",
       "\n",
       "[134 rows x 5 columns]"
      ]
     },
     "execution_count": 126,
     "metadata": {},
     "output_type": "execute_result"
    }
   ],
   "source": [
    "# Step 3: Define the target sample size\n",
    "target_sample_size = 2450\n",
    "\n",
    "# Step 4: Calculate the sample size for each group (based on its proportion)\n",
    "group_sizes['sample_size'] = np.floor(group_sizes['proportion'] * target_sample_size).astype(int)\n",
    "group_sizes"
   ]
  },
  {
   "cell_type": "code",
   "execution_count": 127,
   "id": "1fbb0b3e",
   "metadata": {},
   "outputs": [],
   "source": [
    "# Step 5: Merge this sample size information back to the original DataFrame\n",
    "df_2016_09_neu_sample_size = pd.merge(df_2016_09_neu, group_sizes[['year_week', 'LocationName', 'sample_size']], \n",
    "                               on=['year_week', 'LocationName'], how='left')"
   ]
  },
  {
   "cell_type": "code",
   "execution_count": 128,
   "id": "e62cb3ac",
   "metadata": {},
   "outputs": [
    {
     "name": "stdout",
     "output_type": "stream",
     "text": [
      "Sampled 2383 rows.\n"
     ]
    }
   ],
   "source": [
    "# Step 6: Perform the stratified sampling\n",
    "df_2016_09_neu_sample = df_2016_09_neu_sample_size.groupby(['year_week', 'LocationName']).apply(\n",
    "    lambda group: group.sample(n=group['sample_size'].iloc[0], random_state=42)\n",
    ").reset_index(drop=True)\n",
    "\n",
    "# Step 7: Check the result\n",
    "print(f\"Sampled {len(df_2016_09_neu_sample)} rows.\")\n"
   ]
  },
  {
   "cell_type": "code",
   "execution_count": 129,
   "id": "f94fe9d7",
   "metadata": {},
   "outputs": [],
   "source": [
    "text_gpt_2016_09_neu = '\\n'.join(df_2016_09_neu_sample['text'].astype(str))"
   ]
  },
  {
   "cell_type": "markdown",
   "id": "b7904a7f",
   "metadata": {},
   "source": [
    "### Prompts and loops"
   ]
  },
  {
   "cell_type": "code",
   "execution_count": 130,
   "id": "71bbca85",
   "metadata": {},
   "outputs": [],
   "source": [
    "prompt_9 = prompt_raw.replace('TWEETS', text_gpt_2016_09_neu)"
   ]
  },
  {
   "cell_type": "code",
   "execution_count": 131,
   "id": "b7ae259f",
   "metadata": {
    "scrolled": false
   },
   "outputs": [],
   "source": [
    "response = openai.ChatCompletion.create(\n",
    "    model=\"gpt-4o-mini\",  \n",
    "    messages = [\n",
    "        {\"role\": \"user\", \"content\": prompt_9}\n",
    "    ],\n",
    "    max_tokens=400,  # Maximum number of tokens in the response\n",
    "    temperature=0.7  # Controls the randomness of the output\n",
    ")"
   ]
  },
  {
   "cell_type": "code",
   "execution_count": 132,
   "id": "8653eccf",
   "metadata": {},
   "outputs": [
    {
     "data": {
      "text/plain": [
       "'The text discusses various vaccination campaigns in Brazil, including those for dogs and cats against rabies, and vaccinations for children and adolescents. It mentions specific dates and locations for vaccination events, such as the \"Dia D\" for rabies vaccination and the national campaign for updating vaccination records. The text reflects public reactions, experiences with vaccinations, and the importance of compliance with vaccination schedules.'"
      ]
     },
     "execution_count": 132,
     "metadata": {},
     "output_type": "execute_result"
    }
   ],
   "source": [
    "response.choices[0].message.content"
   ]
  },
  {
   "cell_type": "code",
   "execution_count": 133,
   "id": "6be7b347",
   "metadata": {},
   "outputs": [],
   "source": [
    "#summary = []\n",
    "#dataset = []"
   ]
  },
  {
   "cell_type": "code",
   "execution_count": 134,
   "id": "550a921f",
   "metadata": {},
   "outputs": [],
   "source": [
    "dataset.append(\"2016_09_neutral\")"
   ]
  },
  {
   "cell_type": "code",
   "execution_count": 135,
   "id": "83240506",
   "metadata": {},
   "outputs": [],
   "source": [
    "summary.append(response.choices[0].message.content)"
   ]
  },
  {
   "cell_type": "code",
   "execution_count": 136,
   "id": "0c75735b",
   "metadata": {
    "tags": []
   },
   "outputs": [
    {
     "name": "stdout",
     "output_type": "stream",
     "text": [
      "<class 'pandas.core.frame.DataFrame'>\n",
      "RangeIndex: 9 entries, 0 to 8\n",
      "Data columns (total 2 columns):\n",
      " #   Column   Non-Null Count  Dtype \n",
      "---  ------   --------------  ----- \n",
      " 0   dataset  9 non-null      object\n",
      " 1   summary  9 non-null      object\n",
      "dtypes: object(2)\n",
      "memory usage: 272.0+ bytes\n"
     ]
    }
   ],
   "source": [
    "df_2016_neu = pd.DataFrame(list(zip(dataset, summary)),\n",
    "                            columns = ['dataset', 'summary'])\n",
    "df_2016_neu.info()"
   ]
  },
  {
   "cell_type": "code",
   "execution_count": 137,
   "id": "fa955f73",
   "metadata": {},
   "outputs": [
    {
     "data": {
      "text/html": [
       "<div>\n",
       "<style scoped>\n",
       "    .dataframe tbody tr th:only-of-type {\n",
       "        vertical-align: middle;\n",
       "    }\n",
       "\n",
       "    .dataframe tbody tr th {\n",
       "        vertical-align: top;\n",
       "    }\n",
       "\n",
       "    .dataframe thead th {\n",
       "        text-align: right;\n",
       "    }\n",
       "</style>\n",
       "<table border=\"1\" class=\"dataframe\">\n",
       "  <thead>\n",
       "    <tr style=\"text-align: right;\">\n",
       "      <th></th>\n",
       "      <th>dataset</th>\n",
       "      <th>summary</th>\n",
       "    </tr>\n",
       "  </thead>\n",
       "  <tbody>\n",
       "    <tr>\n",
       "      <th>0</th>\n",
       "      <td>2016_01_neutral</td>\n",
       "      <td>The Ministry of Health of Brazil announced upd...</td>\n",
       "    </tr>\n",
       "    <tr>\n",
       "      <th>1</th>\n",
       "      <td>2016_02_neutral</td>\n",
       "      <td>The texts discuss the development of vaccines ...</td>\n",
       "    </tr>\n",
       "    <tr>\n",
       "      <th>2</th>\n",
       "      <td>2016_03_neutral</td>\n",
       "      <td>The text discusses various vaccination campaig...</td>\n",
       "    </tr>\n",
       "    <tr>\n",
       "      <th>3</th>\n",
       "      <td>2016_04_neutral</td>\n",
       "      <td>The texts discuss various vaccination campaign...</td>\n",
       "    </tr>\n",
       "    <tr>\n",
       "      <th>4</th>\n",
       "      <td>2016_05_neutral</td>\n",
       "      <td>The provided texts discuss various vaccination...</td>\n",
       "    </tr>\n",
       "    <tr>\n",
       "      <th>5</th>\n",
       "      <td>2016_06_neutral</td>\n",
       "      <td>The texts discuss various vaccination campaign...</td>\n",
       "    </tr>\n",
       "    <tr>\n",
       "      <th>6</th>\n",
       "      <td>2016_07_neutral</td>\n",
       "      <td>The text covers various topics related to vacc...</td>\n",
       "    </tr>\n",
       "    <tr>\n",
       "      <th>7</th>\n",
       "      <td>2016_08_neutral</td>\n",
       "      <td>The articles discuss various vaccination initi...</td>\n",
       "    </tr>\n",
       "    <tr>\n",
       "      <th>8</th>\n",
       "      <td>2016_09_neutral</td>\n",
       "      <td>The text discusses various vaccination campaig...</td>\n",
       "    </tr>\n",
       "  </tbody>\n",
       "</table>\n",
       "</div>"
      ],
      "text/plain": [
       "           dataset                                            summary\n",
       "0  2016_01_neutral  The Ministry of Health of Brazil announced upd...\n",
       "1  2016_02_neutral  The texts discuss the development of vaccines ...\n",
       "2  2016_03_neutral  The text discusses various vaccination campaig...\n",
       "3  2016_04_neutral  The texts discuss various vaccination campaign...\n",
       "4  2016_05_neutral  The provided texts discuss various vaccination...\n",
       "5  2016_06_neutral  The texts discuss various vaccination campaign...\n",
       "6  2016_07_neutral  The text covers various topics related to vacc...\n",
       "7  2016_08_neutral  The articles discuss various vaccination initi...\n",
       "8  2016_09_neutral  The text discusses various vaccination campaig..."
      ]
     },
     "execution_count": 137,
     "metadata": {},
     "output_type": "execute_result"
    }
   ],
   "source": [
    "df_2016_neu.tail(14)"
   ]
  },
  {
   "cell_type": "code",
   "execution_count": 138,
   "id": "4c204870",
   "metadata": {},
   "outputs": [
    {
     "data": {
      "text/plain": [
       "<OpenAIObject chat.completion id=chatcmpl-AUcv7zOYZug4JoKhSltD9yOpUR1dH at 0x222898167c0> JSON: {\n",
       "  \"choices\": [\n",
       "    {\n",
       "      \"finish_reason\": \"stop\",\n",
       "      \"index\": 0,\n",
       "      \"logprobs\": null,\n",
       "      \"message\": {\n",
       "        \"content\": \"The text discusses various vaccination campaigns in Brazil, including those for dogs and cats against rabies, and vaccinations for children and adolescents. It mentions specific dates and locations for vaccination events, such as the \\\"Dia D\\\" for rabies vaccination and the national campaign for updating vaccination records. The text reflects public reactions, experiences with vaccinations, and the importance of compliance with vaccination schedules.\",\n",
       "        \"refusal\": null,\n",
       "        \"role\": \"assistant\"\n",
       "      }\n",
       "    }\n",
       "  ],\n",
       "  \"created\": 1731862813,\n",
       "  \"id\": \"chatcmpl-AUcv7zOYZug4JoKhSltD9yOpUR1dH\",\n",
       "  \"model\": \"gpt-4o-mini-2024-07-18\",\n",
       "  \"object\": \"chat.completion\",\n",
       "  \"system_fingerprint\": \"fp_0ba0d124f1\",\n",
       "  \"usage\": {\n",
       "    \"completion_tokens\": 75,\n",
       "    \"completion_tokens_details\": {\n",
       "      \"accepted_prediction_tokens\": 0,\n",
       "      \"audio_tokens\": 0,\n",
       "      \"reasoning_tokens\": 0,\n",
       "      \"rejected_prediction_tokens\": 0\n",
       "    },\n",
       "    \"prompt_tokens\": 53164,\n",
       "    \"prompt_tokens_details\": {\n",
       "      \"audio_tokens\": 0,\n",
       "      \"cached_tokens\": 0\n",
       "    },\n",
       "    \"total_tokens\": 53239\n",
       "  }\n",
       "}"
      ]
     },
     "execution_count": 138,
     "metadata": {},
     "output_type": "execute_result"
    }
   ],
   "source": [
    "response"
   ]
  },
  {
   "cell_type": "markdown",
   "id": "43f969b1",
   "metadata": {},
   "source": [
    "## October"
   ]
  },
  {
   "cell_type": "code",
   "execution_count": 139,
   "id": "28cedc2b",
   "metadata": {
    "scrolled": true,
    "tags": []
   },
   "outputs": [
    {
     "name": "stdout",
     "output_type": "stream",
     "text": [
      "<class 'pandas.core.frame.DataFrame'>\n",
      "RangeIndex: 3508 entries, 0 to 3507\n",
      "Data columns (total 53 columns):\n",
      " #   Column                  Non-Null Count  Dtype  \n",
      "---  ------                  --------------  -----  \n",
      " 0   index                   3508 non-null   int64  \n",
      " 1   LocationCode            3508 non-null   object \n",
      " 2   LocationName            3508 non-null   object \n",
      " 3   StatesCode              3508 non-null   object \n",
      " 4   ...4                    3508 non-null   int64  \n",
      " 5   id                      3508 non-null   float64\n",
      " 6   text                    3508 non-null   object \n",
      " 7   label                   3508 non-null   object \n",
      " 8   in_reply_to_status_id   254 non-null    float64\n",
      " 9   in_reply_to_user_id     277 non-null    float64\n",
      " 10  quoted_user_id          60 non-null     float64\n",
      " 11  quoted_status_id        60 non-null     float64\n",
      " 12  retweeted_user_id       396 non-null    float64\n",
      " 13  retweeted_status_id     396 non-null    float64\n",
      " 14  created_at              3508 non-null   object \n",
      " 15  entities.user_mentions  795 non-null    object \n",
      " 16  user.id                 3508 non-null   float64\n",
      " 17  user.screen_name        3508 non-null   object \n",
      " 18  user.name               3508 non-null   object \n",
      " 19  user.description        3093 non-null   object \n",
      " 20  user.timezone           0 non-null      float64\n",
      " 21  user.location           3472 non-null   object \n",
      " 22  user.num_followers      3508 non-null   int64  \n",
      " 23  user.num_following      3508 non-null   int64  \n",
      " 24  user.created_at         3508 non-null   object \n",
      " 25  user.statuses_count     3508 non-null   int64  \n",
      " 26  user.is_verified        3508 non-null   bool   \n",
      " 27  lang                    3508 non-null   object \n",
      " 28  token_count             3508 non-null   int64  \n",
      " 29  is_retweet              3508 non-null   bool   \n",
      " 30  has_quote               3508 non-null   bool   \n",
      " 31  is_reply                3508 non-null   bool   \n",
      " 32  contains_keywords       3508 non-null   bool   \n",
      " 33  longitude               3508 non-null   float64\n",
      " 34  latitude                3508 non-null   float64\n",
      " 35  country_code            3508 non-null   object \n",
      " 36  geoname_id              3303 non-null   float64\n",
      " 37  location_type           3508 non-null   object \n",
      " 38  geo_type                3508 non-null   int64  \n",
      " 39  region                  3508 non-null   object \n",
      " 40  subregion               3508 non-null   object \n",
      " 41  num_quotes              3508 non-null   int64  \n",
      " 42  num_replies             3508 non-null   int64  \n",
      " 43  num_retweets            3508 non-null   int64  \n",
      " 44  sent_gpt                3508 non-null   object \n",
      " 45  gpt_sent_presence       3508 non-null   int64  \n",
      " 46  cleaned_text_lem        3508 non-null   object \n",
      " 47  cleaned_text            3508 non-null   object \n",
      " 48  month                   3508 non-null   int64  \n",
      " 49  year                    3508 non-null   int64  \n",
      " 50  week                    3508 non-null   int64  \n",
      " 51  year_month              3508 non-null   object \n",
      " 52  year_week               3508 non-null   object \n",
      "dtypes: bool(5), float64(12), int64(14), object(22)\n",
      "memory usage: 1.3+ MB\n"
     ]
    }
   ],
   "source": [
    "# Get monthly data\n",
    "df_2016_10_neu = pd.read_csv('../data/local/df_neu_2016-10.csv').reset_index()\n",
    "df_2016_10_neu.info()"
   ]
  },
  {
   "cell_type": "markdown",
   "id": "616f674a",
   "metadata": {},
   "source": [
    "### Representative sample based on week and location"
   ]
  },
  {
   "cell_type": "code",
   "execution_count": 140,
   "id": "9cb193cd",
   "metadata": {},
   "outputs": [
    {
     "data": {
      "text/html": [
       "<div>\n",
       "<style scoped>\n",
       "    .dataframe tbody tr th:only-of-type {\n",
       "        vertical-align: middle;\n",
       "    }\n",
       "\n",
       "    .dataframe tbody tr th {\n",
       "        vertical-align: top;\n",
       "    }\n",
       "\n",
       "    .dataframe thead th {\n",
       "        text-align: right;\n",
       "    }\n",
       "</style>\n",
       "<table border=\"1\" class=\"dataframe\">\n",
       "  <thead>\n",
       "    <tr style=\"text-align: right;\">\n",
       "      <th></th>\n",
       "      <th>year_week</th>\n",
       "      <th>LocationName</th>\n",
       "      <th>group_size</th>\n",
       "      <th>proportion</th>\n",
       "    </tr>\n",
       "  </thead>\n",
       "  <tbody>\n",
       "    <tr>\n",
       "      <th>0</th>\n",
       "      <td>2016-w40</td>\n",
       "      <td>Acre</td>\n",
       "      <td>2</td>\n",
       "      <td>0.000570</td>\n",
       "    </tr>\n",
       "    <tr>\n",
       "      <th>1</th>\n",
       "      <td>2016-w40</td>\n",
       "      <td>Alagoas</td>\n",
       "      <td>6</td>\n",
       "      <td>0.001710</td>\n",
       "    </tr>\n",
       "    <tr>\n",
       "      <th>2</th>\n",
       "      <td>2016-w40</td>\n",
       "      <td>Amapa</td>\n",
       "      <td>3</td>\n",
       "      <td>0.000855</td>\n",
       "    </tr>\n",
       "    <tr>\n",
       "      <th>3</th>\n",
       "      <td>2016-w40</td>\n",
       "      <td>Amazonas</td>\n",
       "      <td>26</td>\n",
       "      <td>0.007412</td>\n",
       "    </tr>\n",
       "    <tr>\n",
       "      <th>4</th>\n",
       "      <td>2016-w40</td>\n",
       "      <td>Bahia</td>\n",
       "      <td>27</td>\n",
       "      <td>0.007697</td>\n",
       "    </tr>\n",
       "    <tr>\n",
       "      <th>...</th>\n",
       "      <td>...</td>\n",
       "      <td>...</td>\n",
       "      <td>...</td>\n",
       "      <td>...</td>\n",
       "    </tr>\n",
       "    <tr>\n",
       "      <th>115</th>\n",
       "      <td>2016-w44</td>\n",
       "      <td>Roraima</td>\n",
       "      <td>4</td>\n",
       "      <td>0.001140</td>\n",
       "    </tr>\n",
       "    <tr>\n",
       "      <th>116</th>\n",
       "      <td>2016-w44</td>\n",
       "      <td>Santa Catarina</td>\n",
       "      <td>3</td>\n",
       "      <td>0.000855</td>\n",
       "    </tr>\n",
       "    <tr>\n",
       "      <th>117</th>\n",
       "      <td>2016-w44</td>\n",
       "      <td>Sao Paulo</td>\n",
       "      <td>61</td>\n",
       "      <td>0.017389</td>\n",
       "    </tr>\n",
       "    <tr>\n",
       "      <th>118</th>\n",
       "      <td>2016-w44</td>\n",
       "      <td>Sergipe</td>\n",
       "      <td>1</td>\n",
       "      <td>0.000285</td>\n",
       "    </tr>\n",
       "    <tr>\n",
       "      <th>119</th>\n",
       "      <td>2016-w44</td>\n",
       "      <td>Tocantins</td>\n",
       "      <td>1</td>\n",
       "      <td>0.000285</td>\n",
       "    </tr>\n",
       "  </tbody>\n",
       "</table>\n",
       "<p>120 rows × 4 columns</p>\n",
       "</div>"
      ],
      "text/plain": [
       "    year_week    LocationName  group_size  proportion\n",
       "0    2016-w40            Acre           2    0.000570\n",
       "1    2016-w40         Alagoas           6    0.001710\n",
       "2    2016-w40           Amapa           3    0.000855\n",
       "3    2016-w40        Amazonas          26    0.007412\n",
       "4    2016-w40           Bahia          27    0.007697\n",
       "..        ...             ...         ...         ...\n",
       "115  2016-w44         Roraima           4    0.001140\n",
       "116  2016-w44  Santa Catarina           3    0.000855\n",
       "117  2016-w44       Sao Paulo          61    0.017389\n",
       "118  2016-w44         Sergipe           1    0.000285\n",
       "119  2016-w44       Tocantins           1    0.000285\n",
       "\n",
       "[120 rows x 4 columns]"
      ]
     },
     "execution_count": 140,
     "metadata": {},
     "output_type": "execute_result"
    }
   ],
   "source": [
    "# Step 1: Calculate the size of each group (year_week, LocationName)\n",
    "group_sizes = df_2016_10_neu.groupby(['year_week', 'LocationName']).size().reset_index(name='group_size')\n",
    "\n",
    "# Step 2: Calculate the proportion of each group in the dataset\n",
    "total_rows = len(df_2016_10_neu)\n",
    "group_sizes['proportion'] = group_sizes['group_size'] / total_rows\n",
    "group_sizes"
   ]
  },
  {
   "cell_type": "code",
   "execution_count": 141,
   "id": "610efcf6",
   "metadata": {},
   "outputs": [
    {
     "data": {
      "text/html": [
       "<div>\n",
       "<style scoped>\n",
       "    .dataframe tbody tr th:only-of-type {\n",
       "        vertical-align: middle;\n",
       "    }\n",
       "\n",
       "    .dataframe tbody tr th {\n",
       "        vertical-align: top;\n",
       "    }\n",
       "\n",
       "    .dataframe thead th {\n",
       "        text-align: right;\n",
       "    }\n",
       "</style>\n",
       "<table border=\"1\" class=\"dataframe\">\n",
       "  <thead>\n",
       "    <tr style=\"text-align: right;\">\n",
       "      <th></th>\n",
       "      <th>year_week</th>\n",
       "      <th>LocationName</th>\n",
       "      <th>group_size</th>\n",
       "      <th>proportion</th>\n",
       "      <th>sample_size</th>\n",
       "    </tr>\n",
       "  </thead>\n",
       "  <tbody>\n",
       "    <tr>\n",
       "      <th>0</th>\n",
       "      <td>2016-w40</td>\n",
       "      <td>Acre</td>\n",
       "      <td>2</td>\n",
       "      <td>0.000570</td>\n",
       "      <td>1</td>\n",
       "    </tr>\n",
       "    <tr>\n",
       "      <th>1</th>\n",
       "      <td>2016-w40</td>\n",
       "      <td>Alagoas</td>\n",
       "      <td>6</td>\n",
       "      <td>0.001710</td>\n",
       "      <td>4</td>\n",
       "    </tr>\n",
       "    <tr>\n",
       "      <th>2</th>\n",
       "      <td>2016-w40</td>\n",
       "      <td>Amapa</td>\n",
       "      <td>3</td>\n",
       "      <td>0.000855</td>\n",
       "      <td>2</td>\n",
       "    </tr>\n",
       "    <tr>\n",
       "      <th>3</th>\n",
       "      <td>2016-w40</td>\n",
       "      <td>Amazonas</td>\n",
       "      <td>26</td>\n",
       "      <td>0.007412</td>\n",
       "      <td>18</td>\n",
       "    </tr>\n",
       "    <tr>\n",
       "      <th>4</th>\n",
       "      <td>2016-w40</td>\n",
       "      <td>Bahia</td>\n",
       "      <td>27</td>\n",
       "      <td>0.007697</td>\n",
       "      <td>18</td>\n",
       "    </tr>\n",
       "    <tr>\n",
       "      <th>...</th>\n",
       "      <td>...</td>\n",
       "      <td>...</td>\n",
       "      <td>...</td>\n",
       "      <td>...</td>\n",
       "      <td>...</td>\n",
       "    </tr>\n",
       "    <tr>\n",
       "      <th>115</th>\n",
       "      <td>2016-w44</td>\n",
       "      <td>Roraima</td>\n",
       "      <td>4</td>\n",
       "      <td>0.001140</td>\n",
       "      <td>2</td>\n",
       "    </tr>\n",
       "    <tr>\n",
       "      <th>116</th>\n",
       "      <td>2016-w44</td>\n",
       "      <td>Santa Catarina</td>\n",
       "      <td>3</td>\n",
       "      <td>0.000855</td>\n",
       "      <td>2</td>\n",
       "    </tr>\n",
       "    <tr>\n",
       "      <th>117</th>\n",
       "      <td>2016-w44</td>\n",
       "      <td>Sao Paulo</td>\n",
       "      <td>61</td>\n",
       "      <td>0.017389</td>\n",
       "      <td>42</td>\n",
       "    </tr>\n",
       "    <tr>\n",
       "      <th>118</th>\n",
       "      <td>2016-w44</td>\n",
       "      <td>Sergipe</td>\n",
       "      <td>1</td>\n",
       "      <td>0.000285</td>\n",
       "      <td>0</td>\n",
       "    </tr>\n",
       "    <tr>\n",
       "      <th>119</th>\n",
       "      <td>2016-w44</td>\n",
       "      <td>Tocantins</td>\n",
       "      <td>1</td>\n",
       "      <td>0.000285</td>\n",
       "      <td>0</td>\n",
       "    </tr>\n",
       "  </tbody>\n",
       "</table>\n",
       "<p>120 rows × 5 columns</p>\n",
       "</div>"
      ],
      "text/plain": [
       "    year_week    LocationName  group_size  proportion  sample_size\n",
       "0    2016-w40            Acre           2    0.000570            1\n",
       "1    2016-w40         Alagoas           6    0.001710            4\n",
       "2    2016-w40           Amapa           3    0.000855            2\n",
       "3    2016-w40        Amazonas          26    0.007412           18\n",
       "4    2016-w40           Bahia          27    0.007697           18\n",
       "..        ...             ...         ...         ...          ...\n",
       "115  2016-w44         Roraima           4    0.001140            2\n",
       "116  2016-w44  Santa Catarina           3    0.000855            2\n",
       "117  2016-w44       Sao Paulo          61    0.017389           42\n",
       "118  2016-w44         Sergipe           1    0.000285            0\n",
       "119  2016-w44       Tocantins           1    0.000285            0\n",
       "\n",
       "[120 rows x 5 columns]"
      ]
     },
     "execution_count": 141,
     "metadata": {},
     "output_type": "execute_result"
    }
   ],
   "source": [
    "# Step 3: Define the target sample size\n",
    "target_sample_size = 2450\n",
    "\n",
    "# Step 4: Calculate the sample size for each group (based on its proportion)\n",
    "group_sizes['sample_size'] = np.floor(group_sizes['proportion'] * target_sample_size).astype(int)\n",
    "group_sizes"
   ]
  },
  {
   "cell_type": "code",
   "execution_count": 142,
   "id": "361d2734",
   "metadata": {},
   "outputs": [],
   "source": [
    "# Step 5: Merge this sample size information back to the original DataFrame\n",
    "df_2016_10_neu_sample_size = pd.merge(df_2016_10_neu, group_sizes[['year_week', 'LocationName', 'sample_size']], \n",
    "                               on=['year_week', 'LocationName'], how='left')"
   ]
  },
  {
   "cell_type": "code",
   "execution_count": 143,
   "id": "cd34d6e4",
   "metadata": {},
   "outputs": [
    {
     "name": "stdout",
     "output_type": "stream",
     "text": [
      "Sampled 2390 rows.\n"
     ]
    }
   ],
   "source": [
    "# Step 6: Perform the stratified sampling\n",
    "df_2016_10_neu_sample = df_2016_10_neu_sample_size.groupby(['year_week', 'LocationName']).apply(\n",
    "    lambda group: group.sample(n=group['sample_size'].iloc[0], random_state=42)\n",
    ").reset_index(drop=True)\n",
    "\n",
    "# Step 7: Check the result\n",
    "print(f\"Sampled {len(df_2016_10_neu_sample)} rows.\")\n"
   ]
  },
  {
   "cell_type": "code",
   "execution_count": 144,
   "id": "853aa7a6",
   "metadata": {},
   "outputs": [],
   "source": [
    "text_gpt_2016_10_neu = '\\n'.join(df_2016_10_neu_sample['text'].astype(str))"
   ]
  },
  {
   "cell_type": "markdown",
   "id": "0e857dd6",
   "metadata": {},
   "source": [
    "### Prompts and loops"
   ]
  },
  {
   "cell_type": "code",
   "execution_count": 145,
   "id": "997a28ad",
   "metadata": {},
   "outputs": [],
   "source": [
    "prompt_10 = prompt_raw.replace('TWEETS', text_gpt_2016_10_neu)"
   ]
  },
  {
   "cell_type": "code",
   "execution_count": 146,
   "id": "0ad6cb21",
   "metadata": {
    "scrolled": false
   },
   "outputs": [],
   "source": [
    "response = openai.ChatCompletion.create(\n",
    "    model=\"gpt-4o-mini\",  \n",
    "    messages = [\n",
    "        {\"role\": \"user\", \"content\": prompt_10}\n",
    "    ],\n",
    "    max_tokens=400,  # Maximum number of tokens in the response\n",
    "    temperature=0.7  # Controls the randomness of the output\n",
    ")"
   ]
  },
  {
   "cell_type": "code",
   "execution_count": 147,
   "id": "f98d14d4",
   "metadata": {},
   "outputs": [
    {
     "data": {
      "text/plain": [
       "'The text contains various references to vaccination campaigns in Brazil, highlighting the importance of vaccines for children, animals, and specific diseases like HPV, rabies, and foot-and-mouth disease. It discusses public health initiatives, personal experiences with vaccination, and mentions upcoming vaccination events and requirements. The overall sentiment includes humor and anxiety about receiving vaccines, particularly in children and pets.'"
      ]
     },
     "execution_count": 147,
     "metadata": {},
     "output_type": "execute_result"
    }
   ],
   "source": [
    "response.choices[0].message.content"
   ]
  },
  {
   "cell_type": "code",
   "execution_count": 148,
   "id": "148185bf",
   "metadata": {},
   "outputs": [],
   "source": [
    "#summary = []\n",
    "#dataset = []"
   ]
  },
  {
   "cell_type": "code",
   "execution_count": 149,
   "id": "91999070",
   "metadata": {},
   "outputs": [],
   "source": [
    "dataset.append(\"2016_10_neutral\")"
   ]
  },
  {
   "cell_type": "code",
   "execution_count": 150,
   "id": "ca0c8fcc",
   "metadata": {},
   "outputs": [],
   "source": [
    "summary.append(response.choices[0].message.content)"
   ]
  },
  {
   "cell_type": "code",
   "execution_count": 151,
   "id": "75de78c6",
   "metadata": {
    "tags": []
   },
   "outputs": [
    {
     "name": "stdout",
     "output_type": "stream",
     "text": [
      "<class 'pandas.core.frame.DataFrame'>\n",
      "RangeIndex: 10 entries, 0 to 9\n",
      "Data columns (total 2 columns):\n",
      " #   Column   Non-Null Count  Dtype \n",
      "---  ------   --------------  ----- \n",
      " 0   dataset  10 non-null     object\n",
      " 1   summary  10 non-null     object\n",
      "dtypes: object(2)\n",
      "memory usage: 288.0+ bytes\n"
     ]
    }
   ],
   "source": [
    "df_2016_neu = pd.DataFrame(list(zip(dataset, summary)),\n",
    "                            columns = ['dataset', 'summary'])\n",
    "df_2016_neu.info()"
   ]
  },
  {
   "cell_type": "code",
   "execution_count": 152,
   "id": "33f398cf",
   "metadata": {},
   "outputs": [
    {
     "data": {
      "text/html": [
       "<div>\n",
       "<style scoped>\n",
       "    .dataframe tbody tr th:only-of-type {\n",
       "        vertical-align: middle;\n",
       "    }\n",
       "\n",
       "    .dataframe tbody tr th {\n",
       "        vertical-align: top;\n",
       "    }\n",
       "\n",
       "    .dataframe thead th {\n",
       "        text-align: right;\n",
       "    }\n",
       "</style>\n",
       "<table border=\"1\" class=\"dataframe\">\n",
       "  <thead>\n",
       "    <tr style=\"text-align: right;\">\n",
       "      <th></th>\n",
       "      <th>dataset</th>\n",
       "      <th>summary</th>\n",
       "    </tr>\n",
       "  </thead>\n",
       "  <tbody>\n",
       "    <tr>\n",
       "      <th>0</th>\n",
       "      <td>2016_01_neutral</td>\n",
       "      <td>The Ministry of Health of Brazil announced upd...</td>\n",
       "    </tr>\n",
       "    <tr>\n",
       "      <th>1</th>\n",
       "      <td>2016_02_neutral</td>\n",
       "      <td>The texts discuss the development of vaccines ...</td>\n",
       "    </tr>\n",
       "    <tr>\n",
       "      <th>2</th>\n",
       "      <td>2016_03_neutral</td>\n",
       "      <td>The text discusses various vaccination campaig...</td>\n",
       "    </tr>\n",
       "    <tr>\n",
       "      <th>3</th>\n",
       "      <td>2016_04_neutral</td>\n",
       "      <td>The texts discuss various vaccination campaign...</td>\n",
       "    </tr>\n",
       "    <tr>\n",
       "      <th>4</th>\n",
       "      <td>2016_05_neutral</td>\n",
       "      <td>The provided texts discuss various vaccination...</td>\n",
       "    </tr>\n",
       "    <tr>\n",
       "      <th>5</th>\n",
       "      <td>2016_06_neutral</td>\n",
       "      <td>The texts discuss various vaccination campaign...</td>\n",
       "    </tr>\n",
       "    <tr>\n",
       "      <th>6</th>\n",
       "      <td>2016_07_neutral</td>\n",
       "      <td>The text covers various topics related to vacc...</td>\n",
       "    </tr>\n",
       "    <tr>\n",
       "      <th>7</th>\n",
       "      <td>2016_08_neutral</td>\n",
       "      <td>The articles discuss various vaccination initi...</td>\n",
       "    </tr>\n",
       "    <tr>\n",
       "      <th>8</th>\n",
       "      <td>2016_09_neutral</td>\n",
       "      <td>The text discusses various vaccination campaig...</td>\n",
       "    </tr>\n",
       "    <tr>\n",
       "      <th>9</th>\n",
       "      <td>2016_10_neutral</td>\n",
       "      <td>The text contains various references to vaccin...</td>\n",
       "    </tr>\n",
       "  </tbody>\n",
       "</table>\n",
       "</div>"
      ],
      "text/plain": [
       "           dataset                                            summary\n",
       "0  2016_01_neutral  The Ministry of Health of Brazil announced upd...\n",
       "1  2016_02_neutral  The texts discuss the development of vaccines ...\n",
       "2  2016_03_neutral  The text discusses various vaccination campaig...\n",
       "3  2016_04_neutral  The texts discuss various vaccination campaign...\n",
       "4  2016_05_neutral  The provided texts discuss various vaccination...\n",
       "5  2016_06_neutral  The texts discuss various vaccination campaign...\n",
       "6  2016_07_neutral  The text covers various topics related to vacc...\n",
       "7  2016_08_neutral  The articles discuss various vaccination initi...\n",
       "8  2016_09_neutral  The text discusses various vaccination campaig...\n",
       "9  2016_10_neutral  The text contains various references to vaccin..."
      ]
     },
     "execution_count": 152,
     "metadata": {},
     "output_type": "execute_result"
    }
   ],
   "source": [
    "df_2016_neu.tail(14)"
   ]
  },
  {
   "cell_type": "code",
   "execution_count": 153,
   "id": "c9aa4469",
   "metadata": {},
   "outputs": [
    {
     "data": {
      "text/plain": [
       "<OpenAIObject chat.completion id=chatcmpl-AUcvD3ZrPx4bQTauhIRNMAJ3Vdxq5 at 0x2228c987540> JSON: {\n",
       "  \"choices\": [\n",
       "    {\n",
       "      \"finish_reason\": \"stop\",\n",
       "      \"index\": 0,\n",
       "      \"logprobs\": null,\n",
       "      \"message\": {\n",
       "        \"content\": \"The text contains various references to vaccination campaigns in Brazil, highlighting the importance of vaccines for children, animals, and specific diseases like HPV, rabies, and foot-and-mouth disease. It discusses public health initiatives, personal experiences with vaccination, and mentions upcoming vaccination events and requirements. The overall sentiment includes humor and anxiety about receiving vaccines, particularly in children and pets.\",\n",
       "        \"refusal\": null,\n",
       "        \"role\": \"assistant\"\n",
       "      }\n",
       "    }\n",
       "  ],\n",
       "  \"created\": 1731862819,\n",
       "  \"id\": \"chatcmpl-AUcvD3ZrPx4bQTauhIRNMAJ3Vdxq5\",\n",
       "  \"model\": \"gpt-4o-mini-2024-07-18\",\n",
       "  \"object\": \"chat.completion\",\n",
       "  \"system_fingerprint\": \"fp_0ba0d124f1\",\n",
       "  \"usage\": {\n",
       "    \"completion_tokens\": 72,\n",
       "    \"completion_tokens_details\": {\n",
       "      \"accepted_prediction_tokens\": 0,\n",
       "      \"audio_tokens\": 0,\n",
       "      \"reasoning_tokens\": 0,\n",
       "      \"rejected_prediction_tokens\": 0\n",
       "    },\n",
       "    \"prompt_tokens\": 60884,\n",
       "    \"prompt_tokens_details\": {\n",
       "      \"audio_tokens\": 0,\n",
       "      \"cached_tokens\": 0\n",
       "    },\n",
       "    \"total_tokens\": 60956\n",
       "  }\n",
       "}"
      ]
     },
     "execution_count": 153,
     "metadata": {},
     "output_type": "execute_result"
    }
   ],
   "source": [
    "response"
   ]
  },
  {
   "cell_type": "markdown",
   "id": "d476f7a3",
   "metadata": {},
   "source": [
    "## November"
   ]
  },
  {
   "cell_type": "code",
   "execution_count": 154,
   "id": "63dc91c7",
   "metadata": {
    "scrolled": true,
    "tags": []
   },
   "outputs": [
    {
     "name": "stdout",
     "output_type": "stream",
     "text": [
      "<class 'pandas.core.frame.DataFrame'>\n",
      "RangeIndex: 3039 entries, 0 to 3038\n",
      "Data columns (total 53 columns):\n",
      " #   Column                  Non-Null Count  Dtype  \n",
      "---  ------                  --------------  -----  \n",
      " 0   index                   3039 non-null   int64  \n",
      " 1   LocationCode            3039 non-null   object \n",
      " 2   LocationName            3039 non-null   object \n",
      " 3   StatesCode              3039 non-null   object \n",
      " 4   ...4                    3039 non-null   int64  \n",
      " 5   id                      3039 non-null   float64\n",
      " 6   text                    3039 non-null   object \n",
      " 7   label                   3039 non-null   object \n",
      " 8   in_reply_to_status_id   245 non-null    float64\n",
      " 9   in_reply_to_user_id     256 non-null    float64\n",
      " 10  quoted_user_id          80 non-null     float64\n",
      " 11  quoted_status_id        80 non-null     float64\n",
      " 12  retweeted_user_id       508 non-null    float64\n",
      " 13  retweeted_status_id     508 non-null    float64\n",
      " 14  created_at              3039 non-null   object \n",
      " 15  entities.user_mentions  851 non-null    object \n",
      " 16  user.id                 3039 non-null   float64\n",
      " 17  user.screen_name        3039 non-null   object \n",
      " 18  user.name               3039 non-null   object \n",
      " 19  user.description        2733 non-null   object \n",
      " 20  user.timezone           0 non-null      float64\n",
      " 21  user.location           2982 non-null   object \n",
      " 22  user.num_followers      3039 non-null   int64  \n",
      " 23  user.num_following      3039 non-null   int64  \n",
      " 24  user.created_at         3039 non-null   object \n",
      " 25  user.statuses_count     3039 non-null   int64  \n",
      " 26  user.is_verified        3039 non-null   bool   \n",
      " 27  lang                    3039 non-null   object \n",
      " 28  token_count             3039 non-null   int64  \n",
      " 29  is_retweet              3039 non-null   bool   \n",
      " 30  has_quote               3039 non-null   bool   \n",
      " 31  is_reply                3039 non-null   bool   \n",
      " 32  contains_keywords       3039 non-null   bool   \n",
      " 33  longitude               3039 non-null   float64\n",
      " 34  latitude                3039 non-null   float64\n",
      " 35  country_code            3039 non-null   object \n",
      " 36  geoname_id              2782 non-null   float64\n",
      " 37  location_type           3039 non-null   object \n",
      " 38  geo_type                3039 non-null   int64  \n",
      " 39  region                  3039 non-null   object \n",
      " 40  subregion               3039 non-null   object \n",
      " 41  num_quotes              3039 non-null   int64  \n",
      " 42  num_replies             3039 non-null   int64  \n",
      " 43  num_retweets            3039 non-null   int64  \n",
      " 44  sent_gpt                3039 non-null   object \n",
      " 45  gpt_sent_presence       3039 non-null   int64  \n",
      " 46  cleaned_text_lem        3039 non-null   object \n",
      " 47  cleaned_text            3039 non-null   object \n",
      " 48  month                   3039 non-null   int64  \n",
      " 49  year                    3039 non-null   int64  \n",
      " 50  week                    3039 non-null   int64  \n",
      " 51  year_month              3039 non-null   object \n",
      " 52  year_week               3039 non-null   object \n",
      "dtypes: bool(5), float64(12), int64(14), object(22)\n",
      "memory usage: 1.1+ MB\n"
     ]
    }
   ],
   "source": [
    "# Get monthly data\n",
    "df_2016_11_neu = pd.read_csv('../data/local/df_neu_2016-11.csv').reset_index()\n",
    "df_2016_11_neu.info()"
   ]
  },
  {
   "cell_type": "markdown",
   "id": "e44ca951",
   "metadata": {},
   "source": [
    "### Representative sample based on week and location"
   ]
  },
  {
   "cell_type": "code",
   "execution_count": 155,
   "id": "58f0a8ff",
   "metadata": {},
   "outputs": [
    {
     "data": {
      "text/html": [
       "<div>\n",
       "<style scoped>\n",
       "    .dataframe tbody tr th:only-of-type {\n",
       "        vertical-align: middle;\n",
       "    }\n",
       "\n",
       "    .dataframe tbody tr th {\n",
       "        vertical-align: top;\n",
       "    }\n",
       "\n",
       "    .dataframe thead th {\n",
       "        text-align: right;\n",
       "    }\n",
       "</style>\n",
       "<table border=\"1\" class=\"dataframe\">\n",
       "  <thead>\n",
       "    <tr style=\"text-align: right;\">\n",
       "      <th></th>\n",
       "      <th>year_week</th>\n",
       "      <th>LocationName</th>\n",
       "      <th>group_size</th>\n",
       "      <th>proportion</th>\n",
       "    </tr>\n",
       "  </thead>\n",
       "  <tbody>\n",
       "    <tr>\n",
       "      <th>0</th>\n",
       "      <td>2016-w44</td>\n",
       "      <td>Acre</td>\n",
       "      <td>3</td>\n",
       "      <td>0.000987</td>\n",
       "    </tr>\n",
       "    <tr>\n",
       "      <th>1</th>\n",
       "      <td>2016-w44</td>\n",
       "      <td>Alagoas</td>\n",
       "      <td>3</td>\n",
       "      <td>0.000987</td>\n",
       "    </tr>\n",
       "    <tr>\n",
       "      <th>2</th>\n",
       "      <td>2016-w44</td>\n",
       "      <td>Amazonas</td>\n",
       "      <td>16</td>\n",
       "      <td>0.005265</td>\n",
       "    </tr>\n",
       "    <tr>\n",
       "      <th>3</th>\n",
       "      <td>2016-w44</td>\n",
       "      <td>Bahia</td>\n",
       "      <td>39</td>\n",
       "      <td>0.012833</td>\n",
       "    </tr>\n",
       "    <tr>\n",
       "      <th>4</th>\n",
       "      <td>2016-w44</td>\n",
       "      <td>Ceara</td>\n",
       "      <td>20</td>\n",
       "      <td>0.006581</td>\n",
       "    </tr>\n",
       "    <tr>\n",
       "      <th>...</th>\n",
       "      <td>...</td>\n",
       "      <td>...</td>\n",
       "      <td>...</td>\n",
       "      <td>...</td>\n",
       "    </tr>\n",
       "    <tr>\n",
       "      <th>113</th>\n",
       "      <td>2016-w48</td>\n",
       "      <td>Roraima</td>\n",
       "      <td>1</td>\n",
       "      <td>0.000329</td>\n",
       "    </tr>\n",
       "    <tr>\n",
       "      <th>114</th>\n",
       "      <td>2016-w48</td>\n",
       "      <td>Santa Catarina</td>\n",
       "      <td>4</td>\n",
       "      <td>0.001316</td>\n",
       "    </tr>\n",
       "    <tr>\n",
       "      <th>115</th>\n",
       "      <td>2016-w48</td>\n",
       "      <td>Sao Paulo</td>\n",
       "      <td>55</td>\n",
       "      <td>0.018098</td>\n",
       "    </tr>\n",
       "    <tr>\n",
       "      <th>116</th>\n",
       "      <td>2016-w48</td>\n",
       "      <td>Sergipe</td>\n",
       "      <td>3</td>\n",
       "      <td>0.000987</td>\n",
       "    </tr>\n",
       "    <tr>\n",
       "      <th>117</th>\n",
       "      <td>2016-w48</td>\n",
       "      <td>Tocantins</td>\n",
       "      <td>3</td>\n",
       "      <td>0.000987</td>\n",
       "    </tr>\n",
       "  </tbody>\n",
       "</table>\n",
       "<p>118 rows × 4 columns</p>\n",
       "</div>"
      ],
      "text/plain": [
       "    year_week    LocationName  group_size  proportion\n",
       "0    2016-w44            Acre           3    0.000987\n",
       "1    2016-w44         Alagoas           3    0.000987\n",
       "2    2016-w44        Amazonas          16    0.005265\n",
       "3    2016-w44           Bahia          39    0.012833\n",
       "4    2016-w44           Ceara          20    0.006581\n",
       "..        ...             ...         ...         ...\n",
       "113  2016-w48         Roraima           1    0.000329\n",
       "114  2016-w48  Santa Catarina           4    0.001316\n",
       "115  2016-w48       Sao Paulo          55    0.018098\n",
       "116  2016-w48         Sergipe           3    0.000987\n",
       "117  2016-w48       Tocantins           3    0.000987\n",
       "\n",
       "[118 rows x 4 columns]"
      ]
     },
     "execution_count": 155,
     "metadata": {},
     "output_type": "execute_result"
    }
   ],
   "source": [
    "# Step 1: Calculate the size of each group (year_week, LocationName)\n",
    "group_sizes = df_2016_11_neu.groupby(['year_week', 'LocationName']).size().reset_index(name='group_size')\n",
    "\n",
    "# Step 2: Calculate the proportion of each group in the dataset\n",
    "total_rows = len(df_2016_11_neu)\n",
    "group_sizes['proportion'] = group_sizes['group_size'] / total_rows\n",
    "group_sizes"
   ]
  },
  {
   "cell_type": "code",
   "execution_count": 156,
   "id": "52c7e839",
   "metadata": {},
   "outputs": [
    {
     "data": {
      "text/html": [
       "<div>\n",
       "<style scoped>\n",
       "    .dataframe tbody tr th:only-of-type {\n",
       "        vertical-align: middle;\n",
       "    }\n",
       "\n",
       "    .dataframe tbody tr th {\n",
       "        vertical-align: top;\n",
       "    }\n",
       "\n",
       "    .dataframe thead th {\n",
       "        text-align: right;\n",
       "    }\n",
       "</style>\n",
       "<table border=\"1\" class=\"dataframe\">\n",
       "  <thead>\n",
       "    <tr style=\"text-align: right;\">\n",
       "      <th></th>\n",
       "      <th>year_week</th>\n",
       "      <th>LocationName</th>\n",
       "      <th>group_size</th>\n",
       "      <th>proportion</th>\n",
       "      <th>sample_size</th>\n",
       "    </tr>\n",
       "  </thead>\n",
       "  <tbody>\n",
       "    <tr>\n",
       "      <th>0</th>\n",
       "      <td>2016-w44</td>\n",
       "      <td>Acre</td>\n",
       "      <td>3</td>\n",
       "      <td>0.000987</td>\n",
       "      <td>2</td>\n",
       "    </tr>\n",
       "    <tr>\n",
       "      <th>1</th>\n",
       "      <td>2016-w44</td>\n",
       "      <td>Alagoas</td>\n",
       "      <td>3</td>\n",
       "      <td>0.000987</td>\n",
       "      <td>2</td>\n",
       "    </tr>\n",
       "    <tr>\n",
       "      <th>2</th>\n",
       "      <td>2016-w44</td>\n",
       "      <td>Amazonas</td>\n",
       "      <td>16</td>\n",
       "      <td>0.005265</td>\n",
       "      <td>12</td>\n",
       "    </tr>\n",
       "    <tr>\n",
       "      <th>3</th>\n",
       "      <td>2016-w44</td>\n",
       "      <td>Bahia</td>\n",
       "      <td>39</td>\n",
       "      <td>0.012833</td>\n",
       "      <td>31</td>\n",
       "    </tr>\n",
       "    <tr>\n",
       "      <th>4</th>\n",
       "      <td>2016-w44</td>\n",
       "      <td>Ceara</td>\n",
       "      <td>20</td>\n",
       "      <td>0.006581</td>\n",
       "      <td>16</td>\n",
       "    </tr>\n",
       "    <tr>\n",
       "      <th>...</th>\n",
       "      <td>...</td>\n",
       "      <td>...</td>\n",
       "      <td>...</td>\n",
       "      <td>...</td>\n",
       "      <td>...</td>\n",
       "    </tr>\n",
       "    <tr>\n",
       "      <th>113</th>\n",
       "      <td>2016-w48</td>\n",
       "      <td>Roraima</td>\n",
       "      <td>1</td>\n",
       "      <td>0.000329</td>\n",
       "      <td>0</td>\n",
       "    </tr>\n",
       "    <tr>\n",
       "      <th>114</th>\n",
       "      <td>2016-w48</td>\n",
       "      <td>Santa Catarina</td>\n",
       "      <td>4</td>\n",
       "      <td>0.001316</td>\n",
       "      <td>3</td>\n",
       "    </tr>\n",
       "    <tr>\n",
       "      <th>115</th>\n",
       "      <td>2016-w48</td>\n",
       "      <td>Sao Paulo</td>\n",
       "      <td>55</td>\n",
       "      <td>0.018098</td>\n",
       "      <td>44</td>\n",
       "    </tr>\n",
       "    <tr>\n",
       "      <th>116</th>\n",
       "      <td>2016-w48</td>\n",
       "      <td>Sergipe</td>\n",
       "      <td>3</td>\n",
       "      <td>0.000987</td>\n",
       "      <td>2</td>\n",
       "    </tr>\n",
       "    <tr>\n",
       "      <th>117</th>\n",
       "      <td>2016-w48</td>\n",
       "      <td>Tocantins</td>\n",
       "      <td>3</td>\n",
       "      <td>0.000987</td>\n",
       "      <td>2</td>\n",
       "    </tr>\n",
       "  </tbody>\n",
       "</table>\n",
       "<p>118 rows × 5 columns</p>\n",
       "</div>"
      ],
      "text/plain": [
       "    year_week    LocationName  group_size  proportion  sample_size\n",
       "0    2016-w44            Acre           3    0.000987            2\n",
       "1    2016-w44         Alagoas           3    0.000987            2\n",
       "2    2016-w44        Amazonas          16    0.005265           12\n",
       "3    2016-w44           Bahia          39    0.012833           31\n",
       "4    2016-w44           Ceara          20    0.006581           16\n",
       "..        ...             ...         ...         ...          ...\n",
       "113  2016-w48         Roraima           1    0.000329            0\n",
       "114  2016-w48  Santa Catarina           4    0.001316            3\n",
       "115  2016-w48       Sao Paulo          55    0.018098           44\n",
       "116  2016-w48         Sergipe           3    0.000987            2\n",
       "117  2016-w48       Tocantins           3    0.000987            2\n",
       "\n",
       "[118 rows x 5 columns]"
      ]
     },
     "execution_count": 156,
     "metadata": {},
     "output_type": "execute_result"
    }
   ],
   "source": [
    "# Step 3: Define the target sample size\n",
    "target_sample_size = 2450\n",
    "\n",
    "# Step 4: Calculate the sample size for each group (based on its proportion)\n",
    "group_sizes['sample_size'] = np.floor(group_sizes['proportion'] * target_sample_size).astype(int)\n",
    "group_sizes"
   ]
  },
  {
   "cell_type": "code",
   "execution_count": 157,
   "id": "47bfacf4",
   "metadata": {},
   "outputs": [],
   "source": [
    "# Step 5: Merge this sample size information back to the original DataFrame\n",
    "df_2016_11_neu_sample_size = pd.merge(df_2016_11_neu, group_sizes[['year_week', 'LocationName', 'sample_size']], \n",
    "                               on=['year_week', 'LocationName'], how='left')"
   ]
  },
  {
   "cell_type": "code",
   "execution_count": 158,
   "id": "3127c68e",
   "metadata": {},
   "outputs": [
    {
     "name": "stdout",
     "output_type": "stream",
     "text": [
      "Sampled 2390 rows.\n"
     ]
    }
   ],
   "source": [
    "# Step 6: Perform the stratified sampling\n",
    "df_2016_11_neu_sample = df_2016_11_neu_sample_size.groupby(['year_week', 'LocationName']).apply(\n",
    "    lambda group: group.sample(n=group['sample_size'].iloc[0], random_state=42)\n",
    ").reset_index(drop=True)\n",
    "\n",
    "# Step 7: Check the result\n",
    "print(f\"Sampled {len(df_2016_11_neu_sample)} rows.\")\n"
   ]
  },
  {
   "cell_type": "code",
   "execution_count": 159,
   "id": "a5fc3ad1",
   "metadata": {},
   "outputs": [],
   "source": [
    "text_gpt_2016_11_neu = '\\n'.join(df_2016_11_neu_sample['text'].astype(str))"
   ]
  },
  {
   "cell_type": "markdown",
   "id": "8df94c41",
   "metadata": {},
   "source": [
    "### Prompts and loops"
   ]
  },
  {
   "cell_type": "code",
   "execution_count": 160,
   "id": "b2c43f66",
   "metadata": {},
   "outputs": [],
   "source": [
    "prompt_11 = prompt_raw.replace('TWEETS', text_gpt_2016_11_neu)"
   ]
  },
  {
   "cell_type": "code",
   "execution_count": 161,
   "id": "87bbf147",
   "metadata": {
    "scrolled": false
   },
   "outputs": [],
   "source": [
    "response = openai.ChatCompletion.create(\n",
    "    model=\"gpt-4o-mini\",  \n",
    "    messages = [\n",
    "        {\"role\": \"user\", \"content\": prompt_11}\n",
    "    ],\n",
    "    max_tokens=400,  # Maximum number of tokens in the response\n",
    "    temperature=0.7  # Controls the randomness of the output\n",
    ")"
   ]
  },
  {
   "cell_type": "code",
   "execution_count": 162,
   "id": "99d409e9",
   "metadata": {},
   "outputs": [
    {
     "data": {
      "text/plain": [
       "'The text discusses vaccination campaigns in Brazil, focusing on mandatory vaccines for both humans and animals, particularly against foot-and-mouth disease and rabies. It highlights the importance of immunization, mentions specific vaccination phases, and shares personal experiences and opinions about getting vaccinated, including fears and preferences regarding vaccine administration.'"
      ]
     },
     "execution_count": 162,
     "metadata": {},
     "output_type": "execute_result"
    }
   ],
   "source": [
    "response.choices[0].message.content"
   ]
  },
  {
   "cell_type": "code",
   "execution_count": 163,
   "id": "c1cb7d55",
   "metadata": {},
   "outputs": [],
   "source": [
    "#summary = []\n",
    "#dataset = []"
   ]
  },
  {
   "cell_type": "code",
   "execution_count": 164,
   "id": "0b5f7bbc",
   "metadata": {},
   "outputs": [],
   "source": [
    "dataset.append(\"2016_11_neutral\")"
   ]
  },
  {
   "cell_type": "code",
   "execution_count": 165,
   "id": "25b7e5ff",
   "metadata": {},
   "outputs": [],
   "source": [
    "summary.append(response.choices[0].message.content)"
   ]
  },
  {
   "cell_type": "code",
   "execution_count": 166,
   "id": "10f2f273",
   "metadata": {
    "tags": []
   },
   "outputs": [
    {
     "name": "stdout",
     "output_type": "stream",
     "text": [
      "<class 'pandas.core.frame.DataFrame'>\n",
      "RangeIndex: 11 entries, 0 to 10\n",
      "Data columns (total 2 columns):\n",
      " #   Column   Non-Null Count  Dtype \n",
      "---  ------   --------------  ----- \n",
      " 0   dataset  11 non-null     object\n",
      " 1   summary  11 non-null     object\n",
      "dtypes: object(2)\n",
      "memory usage: 304.0+ bytes\n"
     ]
    }
   ],
   "source": [
    "df_2016_neu = pd.DataFrame(list(zip(dataset, summary)),\n",
    "                            columns = ['dataset', 'summary'])\n",
    "df_2016_neu.info()"
   ]
  },
  {
   "cell_type": "code",
   "execution_count": 167,
   "id": "89ced529",
   "metadata": {},
   "outputs": [
    {
     "data": {
      "text/html": [
       "<div>\n",
       "<style scoped>\n",
       "    .dataframe tbody tr th:only-of-type {\n",
       "        vertical-align: middle;\n",
       "    }\n",
       "\n",
       "    .dataframe tbody tr th {\n",
       "        vertical-align: top;\n",
       "    }\n",
       "\n",
       "    .dataframe thead th {\n",
       "        text-align: right;\n",
       "    }\n",
       "</style>\n",
       "<table border=\"1\" class=\"dataframe\">\n",
       "  <thead>\n",
       "    <tr style=\"text-align: right;\">\n",
       "      <th></th>\n",
       "      <th>dataset</th>\n",
       "      <th>summary</th>\n",
       "    </tr>\n",
       "  </thead>\n",
       "  <tbody>\n",
       "    <tr>\n",
       "      <th>0</th>\n",
       "      <td>2016_01_neutral</td>\n",
       "      <td>The Ministry of Health of Brazil announced upd...</td>\n",
       "    </tr>\n",
       "    <tr>\n",
       "      <th>1</th>\n",
       "      <td>2016_02_neutral</td>\n",
       "      <td>The texts discuss the development of vaccines ...</td>\n",
       "    </tr>\n",
       "    <tr>\n",
       "      <th>2</th>\n",
       "      <td>2016_03_neutral</td>\n",
       "      <td>The text discusses various vaccination campaig...</td>\n",
       "    </tr>\n",
       "    <tr>\n",
       "      <th>3</th>\n",
       "      <td>2016_04_neutral</td>\n",
       "      <td>The texts discuss various vaccination campaign...</td>\n",
       "    </tr>\n",
       "    <tr>\n",
       "      <th>4</th>\n",
       "      <td>2016_05_neutral</td>\n",
       "      <td>The provided texts discuss various vaccination...</td>\n",
       "    </tr>\n",
       "    <tr>\n",
       "      <th>5</th>\n",
       "      <td>2016_06_neutral</td>\n",
       "      <td>The texts discuss various vaccination campaign...</td>\n",
       "    </tr>\n",
       "    <tr>\n",
       "      <th>6</th>\n",
       "      <td>2016_07_neutral</td>\n",
       "      <td>The text covers various topics related to vacc...</td>\n",
       "    </tr>\n",
       "    <tr>\n",
       "      <th>7</th>\n",
       "      <td>2016_08_neutral</td>\n",
       "      <td>The articles discuss various vaccination initi...</td>\n",
       "    </tr>\n",
       "    <tr>\n",
       "      <th>8</th>\n",
       "      <td>2016_09_neutral</td>\n",
       "      <td>The text discusses various vaccination campaig...</td>\n",
       "    </tr>\n",
       "    <tr>\n",
       "      <th>9</th>\n",
       "      <td>2016_10_neutral</td>\n",
       "      <td>The text contains various references to vaccin...</td>\n",
       "    </tr>\n",
       "    <tr>\n",
       "      <th>10</th>\n",
       "      <td>2016_11_neutral</td>\n",
       "      <td>The text discusses vaccination campaigns in Br...</td>\n",
       "    </tr>\n",
       "  </tbody>\n",
       "</table>\n",
       "</div>"
      ],
      "text/plain": [
       "            dataset                                            summary\n",
       "0   2016_01_neutral  The Ministry of Health of Brazil announced upd...\n",
       "1   2016_02_neutral  The texts discuss the development of vaccines ...\n",
       "2   2016_03_neutral  The text discusses various vaccination campaig...\n",
       "3   2016_04_neutral  The texts discuss various vaccination campaign...\n",
       "4   2016_05_neutral  The provided texts discuss various vaccination...\n",
       "5   2016_06_neutral  The texts discuss various vaccination campaign...\n",
       "6   2016_07_neutral  The text covers various topics related to vacc...\n",
       "7   2016_08_neutral  The articles discuss various vaccination initi...\n",
       "8   2016_09_neutral  The text discusses various vaccination campaig...\n",
       "9   2016_10_neutral  The text contains various references to vaccin...\n",
       "10  2016_11_neutral  The text discusses vaccination campaigns in Br..."
      ]
     },
     "execution_count": 167,
     "metadata": {},
     "output_type": "execute_result"
    }
   ],
   "source": [
    "df_2016_neu.tail(14)"
   ]
  },
  {
   "cell_type": "code",
   "execution_count": 168,
   "id": "952c4bca",
   "metadata": {},
   "outputs": [
    {
     "data": {
      "text/plain": [
       "<OpenAIObject chat.completion id=chatcmpl-AUcvMx4zpYL1pEVuQHlkTjd9k2j0T at 0x2228ca89540> JSON: {\n",
       "  \"choices\": [\n",
       "    {\n",
       "      \"finish_reason\": \"stop\",\n",
       "      \"index\": 0,\n",
       "      \"logprobs\": null,\n",
       "      \"message\": {\n",
       "        \"content\": \"The text discusses vaccination campaigns in Brazil, focusing on mandatory vaccines for both humans and animals, particularly against foot-and-mouth disease and rabies. It highlights the importance of immunization, mentions specific vaccination phases, and shares personal experiences and opinions about getting vaccinated, including fears and preferences regarding vaccine administration.\",\n",
       "        \"refusal\": null,\n",
       "        \"role\": \"assistant\"\n",
       "      }\n",
       "    }\n",
       "  ],\n",
       "  \"created\": 1731862828,\n",
       "  \"id\": \"chatcmpl-AUcvMx4zpYL1pEVuQHlkTjd9k2j0T\",\n",
       "  \"model\": \"gpt-4o-mini-2024-07-18\",\n",
       "  \"object\": \"chat.completion\",\n",
       "  \"system_fingerprint\": \"fp_0ba0d124f1\",\n",
       "  \"usage\": {\n",
       "    \"completion_tokens\": 59,\n",
       "    \"completion_tokens_details\": {\n",
       "      \"accepted_prediction_tokens\": 0,\n",
       "      \"audio_tokens\": 0,\n",
       "      \"reasoning_tokens\": 0,\n",
       "      \"rejected_prediction_tokens\": 0\n",
       "    },\n",
       "    \"prompt_tokens\": 55979,\n",
       "    \"prompt_tokens_details\": {\n",
       "      \"audio_tokens\": 0,\n",
       "      \"cached_tokens\": 0\n",
       "    },\n",
       "    \"total_tokens\": 56038\n",
       "  }\n",
       "}"
      ]
     },
     "execution_count": 168,
     "metadata": {},
     "output_type": "execute_result"
    }
   ],
   "source": [
    "response"
   ]
  },
  {
   "cell_type": "markdown",
   "id": "46613a39",
   "metadata": {},
   "source": [
    "## December"
   ]
  },
  {
   "cell_type": "code",
   "execution_count": 169,
   "id": "3f6bde3b",
   "metadata": {
    "scrolled": true,
    "tags": []
   },
   "outputs": [
    {
     "name": "stdout",
     "output_type": "stream",
     "text": [
      "<class 'pandas.core.frame.DataFrame'>\n",
      "RangeIndex: 1737 entries, 0 to 1736\n",
      "Data columns (total 53 columns):\n",
      " #   Column                  Non-Null Count  Dtype  \n",
      "---  ------                  --------------  -----  \n",
      " 0   index                   1737 non-null   int64  \n",
      " 1   LocationCode            1737 non-null   object \n",
      " 2   LocationName            1737 non-null   object \n",
      " 3   StatesCode              1737 non-null   object \n",
      " 4   ...4                    1737 non-null   int64  \n",
      " 5   id                      1737 non-null   float64\n",
      " 6   text                    1737 non-null   object \n",
      " 7   label                   1737 non-null   object \n",
      " 8   in_reply_to_status_id   230 non-null    float64\n",
      " 9   in_reply_to_user_id     240 non-null    float64\n",
      " 10  quoted_user_id          56 non-null     float64\n",
      " 11  quoted_status_id        56 non-null     float64\n",
      " 12  retweeted_user_id       285 non-null    float64\n",
      " 13  retweeted_status_id     285 non-null    float64\n",
      " 14  created_at              1737 non-null   object \n",
      " 15  entities.user_mentions  571 non-null    object \n",
      " 16  user.id                 1737 non-null   float64\n",
      " 17  user.screen_name        1737 non-null   object \n",
      " 18  user.name               1737 non-null   object \n",
      " 19  user.description        1577 non-null   object \n",
      " 20  user.timezone           0 non-null      float64\n",
      " 21  user.location           1701 non-null   object \n",
      " 22  user.num_followers      1737 non-null   int64  \n",
      " 23  user.num_following      1737 non-null   int64  \n",
      " 24  user.created_at         1737 non-null   object \n",
      " 25  user.statuses_count     1737 non-null   int64  \n",
      " 26  user.is_verified        1737 non-null   bool   \n",
      " 27  lang                    1737 non-null   object \n",
      " 28  token_count             1737 non-null   int64  \n",
      " 29  is_retweet              1737 non-null   bool   \n",
      " 30  has_quote               1737 non-null   bool   \n",
      " 31  is_reply                1737 non-null   bool   \n",
      " 32  contains_keywords       1737 non-null   bool   \n",
      " 33  longitude               1737 non-null   float64\n",
      " 34  latitude                1737 non-null   float64\n",
      " 35  country_code            1737 non-null   object \n",
      " 36  geoname_id              1561 non-null   float64\n",
      " 37  location_type           1737 non-null   object \n",
      " 38  geo_type                1737 non-null   int64  \n",
      " 39  region                  1737 non-null   object \n",
      " 40  subregion               1737 non-null   object \n",
      " 41  num_quotes              1737 non-null   int64  \n",
      " 42  num_replies             1737 non-null   int64  \n",
      " 43  num_retweets            1737 non-null   int64  \n",
      " 44  sent_gpt                1737 non-null   object \n",
      " 45  gpt_sent_presence       1737 non-null   int64  \n",
      " 46  cleaned_text_lem        1737 non-null   object \n",
      " 47  cleaned_text            1737 non-null   object \n",
      " 48  month                   1737 non-null   int64  \n",
      " 49  year                    1737 non-null   int64  \n",
      " 50  week                    1737 non-null   int64  \n",
      " 51  year_month              1737 non-null   object \n",
      " 52  year_week               1737 non-null   object \n",
      "dtypes: bool(5), float64(12), int64(14), object(22)\n",
      "memory usage: 660.0+ KB\n"
     ]
    }
   ],
   "source": [
    "# Get monthly data\n",
    "df_2016_12_neu = pd.read_csv('../data/local/df_neu_2016-12.csv').reset_index()\n",
    "df_2016_12_neu.info()"
   ]
  },
  {
   "cell_type": "markdown",
   "id": "4658d918",
   "metadata": {},
   "source": [
    "### Representative sample based on week and location"
   ]
  },
  {
   "cell_type": "code",
   "execution_count": 170,
   "id": "fcdbb1e9",
   "metadata": {},
   "outputs": [
    {
     "data": {
      "text/html": [
       "<div>\n",
       "<style scoped>\n",
       "    .dataframe tbody tr th:only-of-type {\n",
       "        vertical-align: middle;\n",
       "    }\n",
       "\n",
       "    .dataframe tbody tr th {\n",
       "        vertical-align: top;\n",
       "    }\n",
       "\n",
       "    .dataframe thead th {\n",
       "        text-align: right;\n",
       "    }\n",
       "</style>\n",
       "<table border=\"1\" class=\"dataframe\">\n",
       "  <thead>\n",
       "    <tr style=\"text-align: right;\">\n",
       "      <th></th>\n",
       "      <th>year_week</th>\n",
       "      <th>LocationName</th>\n",
       "      <th>group_size</th>\n",
       "      <th>proportion</th>\n",
       "    </tr>\n",
       "  </thead>\n",
       "  <tbody>\n",
       "    <tr>\n",
       "      <th>0</th>\n",
       "      <td>2016-w48</td>\n",
       "      <td>Amapa</td>\n",
       "      <td>2</td>\n",
       "      <td>0.001151</td>\n",
       "    </tr>\n",
       "    <tr>\n",
       "      <th>1</th>\n",
       "      <td>2016-w48</td>\n",
       "      <td>Amazonas</td>\n",
       "      <td>3</td>\n",
       "      <td>0.001727</td>\n",
       "    </tr>\n",
       "    <tr>\n",
       "      <th>2</th>\n",
       "      <td>2016-w48</td>\n",
       "      <td>Bahia</td>\n",
       "      <td>1</td>\n",
       "      <td>0.000576</td>\n",
       "    </tr>\n",
       "    <tr>\n",
       "      <th>3</th>\n",
       "      <td>2016-w48</td>\n",
       "      <td>Ceara</td>\n",
       "      <td>2</td>\n",
       "      <td>0.001151</td>\n",
       "    </tr>\n",
       "    <tr>\n",
       "      <th>4</th>\n",
       "      <td>2016-w48</td>\n",
       "      <td>Distrito Federal</td>\n",
       "      <td>7</td>\n",
       "      <td>0.004030</td>\n",
       "    </tr>\n",
       "    <tr>\n",
       "      <th>...</th>\n",
       "      <td>...</td>\n",
       "      <td>...</td>\n",
       "      <td>...</td>\n",
       "      <td>...</td>\n",
       "    </tr>\n",
       "    <tr>\n",
       "      <th>115</th>\n",
       "      <td>2016-w53</td>\n",
       "      <td>Parana</td>\n",
       "      <td>4</td>\n",
       "      <td>0.002303</td>\n",
       "    </tr>\n",
       "    <tr>\n",
       "      <th>116</th>\n",
       "      <td>2016-w53</td>\n",
       "      <td>Rio De Janeiro</td>\n",
       "      <td>1</td>\n",
       "      <td>0.000576</td>\n",
       "    </tr>\n",
       "    <tr>\n",
       "      <th>117</th>\n",
       "      <td>2016-w53</td>\n",
       "      <td>Rio Grande Do Sul</td>\n",
       "      <td>3</td>\n",
       "      <td>0.001727</td>\n",
       "    </tr>\n",
       "    <tr>\n",
       "      <th>118</th>\n",
       "      <td>2016-w53</td>\n",
       "      <td>Santa Catarina</td>\n",
       "      <td>2</td>\n",
       "      <td>0.001151</td>\n",
       "    </tr>\n",
       "    <tr>\n",
       "      <th>119</th>\n",
       "      <td>2016-w53</td>\n",
       "      <td>Sao Paulo</td>\n",
       "      <td>10</td>\n",
       "      <td>0.005757</td>\n",
       "    </tr>\n",
       "  </tbody>\n",
       "</table>\n",
       "<p>120 rows × 4 columns</p>\n",
       "</div>"
      ],
      "text/plain": [
       "    year_week       LocationName  group_size  proportion\n",
       "0    2016-w48              Amapa           2    0.001151\n",
       "1    2016-w48           Amazonas           3    0.001727\n",
       "2    2016-w48              Bahia           1    0.000576\n",
       "3    2016-w48              Ceara           2    0.001151\n",
       "4    2016-w48   Distrito Federal           7    0.004030\n",
       "..        ...                ...         ...         ...\n",
       "115  2016-w53             Parana           4    0.002303\n",
       "116  2016-w53     Rio De Janeiro           1    0.000576\n",
       "117  2016-w53  Rio Grande Do Sul           3    0.001727\n",
       "118  2016-w53     Santa Catarina           2    0.001151\n",
       "119  2016-w53          Sao Paulo          10    0.005757\n",
       "\n",
       "[120 rows x 4 columns]"
      ]
     },
     "execution_count": 170,
     "metadata": {},
     "output_type": "execute_result"
    }
   ],
   "source": [
    "# Step 1: Calculate the size of each group (year_week, LocationName)\n",
    "group_sizes = df_2016_12_neu.groupby(['year_week', 'LocationName']).size().reset_index(name='group_size')\n",
    "\n",
    "# Step 2: Calculate the proportion of each group in the dataset\n",
    "total_rows = len(df_2016_12_neu)\n",
    "group_sizes['proportion'] = group_sizes['group_size'] / total_rows\n",
    "group_sizes"
   ]
  },
  {
   "cell_type": "code",
   "execution_count": 171,
   "id": "bbf24049",
   "metadata": {},
   "outputs": [
    {
     "data": {
      "text/html": [
       "<div>\n",
       "<style scoped>\n",
       "    .dataframe tbody tr th:only-of-type {\n",
       "        vertical-align: middle;\n",
       "    }\n",
       "\n",
       "    .dataframe tbody tr th {\n",
       "        vertical-align: top;\n",
       "    }\n",
       "\n",
       "    .dataframe thead th {\n",
       "        text-align: right;\n",
       "    }\n",
       "</style>\n",
       "<table border=\"1\" class=\"dataframe\">\n",
       "  <thead>\n",
       "    <tr style=\"text-align: right;\">\n",
       "      <th></th>\n",
       "      <th>year_week</th>\n",
       "      <th>LocationName</th>\n",
       "      <th>group_size</th>\n",
       "      <th>proportion</th>\n",
       "      <th>sample_size</th>\n",
       "    </tr>\n",
       "  </thead>\n",
       "  <tbody>\n",
       "    <tr>\n",
       "      <th>0</th>\n",
       "      <td>2016-w48</td>\n",
       "      <td>Amapa</td>\n",
       "      <td>2</td>\n",
       "      <td>0.001151</td>\n",
       "      <td>2</td>\n",
       "    </tr>\n",
       "    <tr>\n",
       "      <th>1</th>\n",
       "      <td>2016-w48</td>\n",
       "      <td>Amazonas</td>\n",
       "      <td>3</td>\n",
       "      <td>0.001727</td>\n",
       "      <td>4</td>\n",
       "    </tr>\n",
       "    <tr>\n",
       "      <th>2</th>\n",
       "      <td>2016-w48</td>\n",
       "      <td>Bahia</td>\n",
       "      <td>1</td>\n",
       "      <td>0.000576</td>\n",
       "      <td>1</td>\n",
       "    </tr>\n",
       "    <tr>\n",
       "      <th>3</th>\n",
       "      <td>2016-w48</td>\n",
       "      <td>Ceara</td>\n",
       "      <td>2</td>\n",
       "      <td>0.001151</td>\n",
       "      <td>2</td>\n",
       "    </tr>\n",
       "    <tr>\n",
       "      <th>4</th>\n",
       "      <td>2016-w48</td>\n",
       "      <td>Distrito Federal</td>\n",
       "      <td>7</td>\n",
       "      <td>0.004030</td>\n",
       "      <td>9</td>\n",
       "    </tr>\n",
       "    <tr>\n",
       "      <th>...</th>\n",
       "      <td>...</td>\n",
       "      <td>...</td>\n",
       "      <td>...</td>\n",
       "      <td>...</td>\n",
       "      <td>...</td>\n",
       "    </tr>\n",
       "    <tr>\n",
       "      <th>115</th>\n",
       "      <td>2016-w53</td>\n",
       "      <td>Parana</td>\n",
       "      <td>4</td>\n",
       "      <td>0.002303</td>\n",
       "      <td>5</td>\n",
       "    </tr>\n",
       "    <tr>\n",
       "      <th>116</th>\n",
       "      <td>2016-w53</td>\n",
       "      <td>Rio De Janeiro</td>\n",
       "      <td>1</td>\n",
       "      <td>0.000576</td>\n",
       "      <td>1</td>\n",
       "    </tr>\n",
       "    <tr>\n",
       "      <th>117</th>\n",
       "      <td>2016-w53</td>\n",
       "      <td>Rio Grande Do Sul</td>\n",
       "      <td>3</td>\n",
       "      <td>0.001727</td>\n",
       "      <td>4</td>\n",
       "    </tr>\n",
       "    <tr>\n",
       "      <th>118</th>\n",
       "      <td>2016-w53</td>\n",
       "      <td>Santa Catarina</td>\n",
       "      <td>2</td>\n",
       "      <td>0.001151</td>\n",
       "      <td>2</td>\n",
       "    </tr>\n",
       "    <tr>\n",
       "      <th>119</th>\n",
       "      <td>2016-w53</td>\n",
       "      <td>Sao Paulo</td>\n",
       "      <td>10</td>\n",
       "      <td>0.005757</td>\n",
       "      <td>14</td>\n",
       "    </tr>\n",
       "  </tbody>\n",
       "</table>\n",
       "<p>120 rows × 5 columns</p>\n",
       "</div>"
      ],
      "text/plain": [
       "    year_week       LocationName  group_size  proportion  sample_size\n",
       "0    2016-w48              Amapa           2    0.001151            2\n",
       "1    2016-w48           Amazonas           3    0.001727            4\n",
       "2    2016-w48              Bahia           1    0.000576            1\n",
       "3    2016-w48              Ceara           2    0.001151            2\n",
       "4    2016-w48   Distrito Federal           7    0.004030            9\n",
       "..        ...                ...         ...         ...          ...\n",
       "115  2016-w53             Parana           4    0.002303            5\n",
       "116  2016-w53     Rio De Janeiro           1    0.000576            1\n",
       "117  2016-w53  Rio Grande Do Sul           3    0.001727            4\n",
       "118  2016-w53     Santa Catarina           2    0.001151            2\n",
       "119  2016-w53          Sao Paulo          10    0.005757           14\n",
       "\n",
       "[120 rows x 5 columns]"
      ]
     },
     "execution_count": 171,
     "metadata": {},
     "output_type": "execute_result"
    }
   ],
   "source": [
    "# Step 3: Define the target sample size\n",
    "target_sample_size = 2450\n",
    "\n",
    "# Step 4: Calculate the sample size for each group (based on its proportion)\n",
    "group_sizes['sample_size'] = np.floor(group_sizes['proportion'] * target_sample_size).astype(int)\n",
    "group_sizes"
   ]
  },
  {
   "cell_type": "code",
   "execution_count": 172,
   "id": "c207c408",
   "metadata": {},
   "outputs": [],
   "source": [
    "# Step 5: Merge this sample size information back to the original DataFrame\n",
    "df_2016_12_neu_sample_size = pd.merge(df_2016_12_neu, group_sizes[['year_week', 'LocationName', 'sample_size']], \n",
    "                               on=['year_week', 'LocationName'], how='left')"
   ]
  },
  {
   "cell_type": "code",
   "execution_count": 174,
   "id": "66d74acb",
   "metadata": {},
   "outputs": [
    {
     "name": "stdout",
     "output_type": "stream",
     "text": [
      "Sampled 1737 rows.\n"
     ]
    }
   ],
   "source": [
    "# Step 6: Perform the stratified sampling\n",
    "#df_2016_12_neu_sample = df_2016_12_neu_sample_size.groupby(['year_week', 'LocationName']).apply(\n",
    " #   lambda group: group.sample(n=group['sample_size'].iloc[0], random_state=42)\n",
    "#).reset_index(drop=True)\n",
    "df_2016_12_neu_sample = df_2016_12_neu\n",
    "# Step 7: Check the result\n",
    "print(f\"Sampled {len(df_2016_12_neu_sample)} rows.\")\n"
   ]
  },
  {
   "cell_type": "code",
   "execution_count": 175,
   "id": "b23befcc",
   "metadata": {},
   "outputs": [],
   "source": [
    "text_gpt_2016_12_neu = '\\n'.join(df_2016_12_neu_sample['text'].astype(str))"
   ]
  },
  {
   "cell_type": "markdown",
   "id": "d3650c4b",
   "metadata": {},
   "source": [
    "### Prompts and loops"
   ]
  },
  {
   "cell_type": "code",
   "execution_count": 176,
   "id": "791b4fd6",
   "metadata": {},
   "outputs": [],
   "source": [
    "prompt_12 = prompt_raw.replace('TWEETS', text_gpt_2016_12_neu)"
   ]
  },
  {
   "cell_type": "code",
   "execution_count": 177,
   "id": "def2b9de",
   "metadata": {
    "scrolled": false
   },
   "outputs": [],
   "source": [
    "response = openai.ChatCompletion.create(\n",
    "    model=\"gpt-4o-mini\",  \n",
    "    messages = [\n",
    "        {\"role\": \"user\", \"content\": prompt_12}\n",
    "    ],\n",
    "    max_tokens=400,  # Maximum number of tokens in the response\n",
    "    temperature=0.7  # Controls the randomness of the output\n",
    ")"
   ]
  },
  {
   "cell_type": "code",
   "execution_count": 178,
   "id": "eb10f5ec",
   "metadata": {},
   "outputs": [
    {
     "data": {
      "text/plain": [
       "'The text discusses various vaccination campaigns, including those for cattle against foot-and-mouth disease, rabies, and other diseases. It emphasizes the importance of vaccination schedules for both livestock and pets, mentions government initiatives to facilitate vaccinations, and highlights specific cases where vaccines are crucial for public health, like dengue and HPV.'"
      ]
     },
     "execution_count": 178,
     "metadata": {},
     "output_type": "execute_result"
    }
   ],
   "source": [
    "response.choices[0].message.content"
   ]
  },
  {
   "cell_type": "code",
   "execution_count": 179,
   "id": "82e7aa4c",
   "metadata": {},
   "outputs": [],
   "source": [
    "#summary = []\n",
    "#dataset = []"
   ]
  },
  {
   "cell_type": "code",
   "execution_count": 180,
   "id": "2a9d076b",
   "metadata": {},
   "outputs": [],
   "source": [
    "dataset.append(\"2016_12_neutral\")"
   ]
  },
  {
   "cell_type": "code",
   "execution_count": 181,
   "id": "8a057dbe",
   "metadata": {},
   "outputs": [],
   "source": [
    "summary.append(response.choices[0].message.content)"
   ]
  },
  {
   "cell_type": "code",
   "execution_count": 182,
   "id": "3bb6bfbd",
   "metadata": {
    "tags": []
   },
   "outputs": [
    {
     "name": "stdout",
     "output_type": "stream",
     "text": [
      "<class 'pandas.core.frame.DataFrame'>\n",
      "RangeIndex: 12 entries, 0 to 11\n",
      "Data columns (total 2 columns):\n",
      " #   Column   Non-Null Count  Dtype \n",
      "---  ------   --------------  ----- \n",
      " 0   dataset  12 non-null     object\n",
      " 1   summary  12 non-null     object\n",
      "dtypes: object(2)\n",
      "memory usage: 320.0+ bytes\n"
     ]
    }
   ],
   "source": [
    "df_2016_neu = pd.DataFrame(list(zip(dataset, summary)),\n",
    "                            columns = ['dataset', 'summary'])\n",
    "df_2016_neu.info()"
   ]
  },
  {
   "cell_type": "code",
   "execution_count": 183,
   "id": "893bd100",
   "metadata": {},
   "outputs": [
    {
     "data": {
      "text/html": [
       "<div>\n",
       "<style scoped>\n",
       "    .dataframe tbody tr th:only-of-type {\n",
       "        vertical-align: middle;\n",
       "    }\n",
       "\n",
       "    .dataframe tbody tr th {\n",
       "        vertical-align: top;\n",
       "    }\n",
       "\n",
       "    .dataframe thead th {\n",
       "        text-align: right;\n",
       "    }\n",
       "</style>\n",
       "<table border=\"1\" class=\"dataframe\">\n",
       "  <thead>\n",
       "    <tr style=\"text-align: right;\">\n",
       "      <th></th>\n",
       "      <th>dataset</th>\n",
       "      <th>summary</th>\n",
       "    </tr>\n",
       "  </thead>\n",
       "  <tbody>\n",
       "    <tr>\n",
       "      <th>0</th>\n",
       "      <td>2016_01_neutral</td>\n",
       "      <td>The Ministry of Health of Brazil announced upd...</td>\n",
       "    </tr>\n",
       "    <tr>\n",
       "      <th>1</th>\n",
       "      <td>2016_02_neutral</td>\n",
       "      <td>The texts discuss the development of vaccines ...</td>\n",
       "    </tr>\n",
       "    <tr>\n",
       "      <th>2</th>\n",
       "      <td>2016_03_neutral</td>\n",
       "      <td>The text discusses various vaccination campaig...</td>\n",
       "    </tr>\n",
       "    <tr>\n",
       "      <th>3</th>\n",
       "      <td>2016_04_neutral</td>\n",
       "      <td>The texts discuss various vaccination campaign...</td>\n",
       "    </tr>\n",
       "    <tr>\n",
       "      <th>4</th>\n",
       "      <td>2016_05_neutral</td>\n",
       "      <td>The provided texts discuss various vaccination...</td>\n",
       "    </tr>\n",
       "    <tr>\n",
       "      <th>5</th>\n",
       "      <td>2016_06_neutral</td>\n",
       "      <td>The texts discuss various vaccination campaign...</td>\n",
       "    </tr>\n",
       "    <tr>\n",
       "      <th>6</th>\n",
       "      <td>2016_07_neutral</td>\n",
       "      <td>The text covers various topics related to vacc...</td>\n",
       "    </tr>\n",
       "    <tr>\n",
       "      <th>7</th>\n",
       "      <td>2016_08_neutral</td>\n",
       "      <td>The articles discuss various vaccination initi...</td>\n",
       "    </tr>\n",
       "    <tr>\n",
       "      <th>8</th>\n",
       "      <td>2016_09_neutral</td>\n",
       "      <td>The text discusses various vaccination campaig...</td>\n",
       "    </tr>\n",
       "    <tr>\n",
       "      <th>9</th>\n",
       "      <td>2016_10_neutral</td>\n",
       "      <td>The text contains various references to vaccin...</td>\n",
       "    </tr>\n",
       "    <tr>\n",
       "      <th>10</th>\n",
       "      <td>2016_11_neutral</td>\n",
       "      <td>The text discusses vaccination campaigns in Br...</td>\n",
       "    </tr>\n",
       "    <tr>\n",
       "      <th>11</th>\n",
       "      <td>2016_12_neutral</td>\n",
       "      <td>The text discusses various vaccination campaig...</td>\n",
       "    </tr>\n",
       "  </tbody>\n",
       "</table>\n",
       "</div>"
      ],
      "text/plain": [
       "            dataset                                            summary\n",
       "0   2016_01_neutral  The Ministry of Health of Brazil announced upd...\n",
       "1   2016_02_neutral  The texts discuss the development of vaccines ...\n",
       "2   2016_03_neutral  The text discusses various vaccination campaig...\n",
       "3   2016_04_neutral  The texts discuss various vaccination campaign...\n",
       "4   2016_05_neutral  The provided texts discuss various vaccination...\n",
       "5   2016_06_neutral  The texts discuss various vaccination campaign...\n",
       "6   2016_07_neutral  The text covers various topics related to vacc...\n",
       "7   2016_08_neutral  The articles discuss various vaccination initi...\n",
       "8   2016_09_neutral  The text discusses various vaccination campaig...\n",
       "9   2016_10_neutral  The text contains various references to vaccin...\n",
       "10  2016_11_neutral  The text discusses vaccination campaigns in Br...\n",
       "11  2016_12_neutral  The text discusses various vaccination campaig..."
      ]
     },
     "execution_count": 183,
     "metadata": {},
     "output_type": "execute_result"
    }
   ],
   "source": [
    "df_2016_neu.tail(14)"
   ]
  },
  {
   "cell_type": "code",
   "execution_count": 184,
   "id": "20bf36e0",
   "metadata": {},
   "outputs": [
    {
     "data": {
      "text/plain": [
       "<OpenAIObject chat.completion id=chatcmpl-AUcwHwKAIBGd5LvjjSRb7U91n94yo at 0x22286672220> JSON: {\n",
       "  \"choices\": [\n",
       "    {\n",
       "      \"finish_reason\": \"stop\",\n",
       "      \"index\": 0,\n",
       "      \"logprobs\": null,\n",
       "      \"message\": {\n",
       "        \"content\": \"The text discusses various vaccination campaigns, including those for cattle against foot-and-mouth disease, rabies, and other diseases. It emphasizes the importance of vaccination schedules for both livestock and pets, mentions government initiatives to facilitate vaccinations, and highlights specific cases where vaccines are crucial for public health, like dengue and HPV.\",\n",
       "        \"refusal\": null,\n",
       "        \"role\": \"assistant\"\n",
       "      }\n",
       "    }\n",
       "  ],\n",
       "  \"created\": 1731862885,\n",
       "  \"id\": \"chatcmpl-AUcwHwKAIBGd5LvjjSRb7U91n94yo\",\n",
       "  \"model\": \"gpt-4o-mini-2024-07-18\",\n",
       "  \"object\": \"chat.completion\",\n",
       "  \"system_fingerprint\": \"fp_0ba0d124f1\",\n",
       "  \"usage\": {\n",
       "    \"completion_tokens\": 61,\n",
       "    \"completion_tokens_details\": {\n",
       "      \"accepted_prediction_tokens\": 0,\n",
       "      \"audio_tokens\": 0,\n",
       "      \"reasoning_tokens\": 0,\n",
       "      \"rejected_prediction_tokens\": 0\n",
       "    },\n",
       "    \"prompt_tokens\": 37843,\n",
       "    \"prompt_tokens_details\": {\n",
       "      \"audio_tokens\": 0,\n",
       "      \"cached_tokens\": 0\n",
       "    },\n",
       "    \"total_tokens\": 37904\n",
       "  }\n",
       "}"
      ]
     },
     "execution_count": 184,
     "metadata": {},
     "output_type": "execute_result"
    }
   ],
   "source": [
    "response"
   ]
  },
  {
   "cell_type": "markdown",
   "id": "4b2eea35",
   "metadata": {},
   "source": [
    "## All 2016 neutral"
   ]
  },
  {
   "cell_type": "code",
   "execution_count": 185,
   "id": "0afccf5d",
   "metadata": {},
   "outputs": [],
   "source": [
    "#df_2016_neu['dataset'] = df_2016_neu['dataset'].str.replace('neuitive','neutral')"
   ]
  },
  {
   "cell_type": "code",
   "execution_count": 186,
   "id": "76b26dc9",
   "metadata": {},
   "outputs": [],
   "source": [
    "df_2016_neu.to_csv('../data/summary_2016_neutral_tweets.csv')"
   ]
  }
 ],
 "metadata": {
  "kernelspec": {
   "display_name": "Python 3 (ipykernel)",
   "language": "python",
   "name": "python3"
  },
  "language_info": {
   "codemirror_mode": {
    "name": "ipython",
    "version": 3
   },
   "file_extension": ".py",
   "mimetype": "text/x-python",
   "name": "python",
   "nbconvert_exporter": "python",
   "pygments_lexer": "ipython3",
   "version": "3.9.12"
  }
 },
 "nbformat": 4,
 "nbformat_minor": 5
}
