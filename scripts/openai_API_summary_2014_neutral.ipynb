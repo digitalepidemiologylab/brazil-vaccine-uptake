{
 "cells": [
  {
   "cell_type": "markdown",
   "id": "e90b7c28",
   "metadata": {},
   "source": [
    "# Import libraries and data"
   ]
  },
  {
   "cell_type": "code",
   "execution_count": 1,
   "id": "433219e8-8f66-4be5-a3b8-e39fca644032",
   "metadata": {
    "tags": []
   },
   "outputs": [],
   "source": [
    "# Import libraries\n",
    "import os\n",
    "import openai\n",
    "import pandas as pd\n",
    "import numpy as np\n",
    "import openpyxl"
   ]
  },
  {
   "cell_type": "code",
   "execution_count": 2,
   "id": "2c68f056-74fe-4f29-9daf-6bdef5cc0701",
   "metadata": {},
   "outputs": [],
   "source": [
    "# Get OpenAI API secret key (change this file with your own OpenAI key)\n",
    "open_ai_key = open('../data/local/openai_key.txt', 'r').read()\n",
    "openai.api_key = open_ai_key\n",
    "#openai.Model.list()"
   ]
  },
  {
   "cell_type": "code",
   "execution_count": 3,
   "id": "aa3d0327",
   "metadata": {},
   "outputs": [],
   "source": [
    "# Prompt for GPT\n",
    "prompt_raw = \"I would like to summarise in maximum 300 characters and in English what the following sentences in Portuguese talk about. \\\n",
    "Do not use aspects mentioned only in one sentence as part of the summary: TWEETS\""
   ]
  },
  {
   "cell_type": "markdown",
   "id": "3c7787f4",
   "metadata": {},
   "source": [
    "# 2014 neutral"
   ]
  },
  {
   "cell_type": "markdown",
   "id": "2a04f7fe",
   "metadata": {},
   "source": [
    "## January"
   ]
  },
  {
   "cell_type": "code",
   "execution_count": 4,
   "id": "6663b9cf",
   "metadata": {
    "scrolled": true,
    "tags": []
   },
   "outputs": [
    {
     "name": "stdout",
     "output_type": "stream",
     "text": [
      "<class 'pandas.core.frame.DataFrame'>\n",
      "RangeIndex: 2275 entries, 0 to 2274\n",
      "Data columns (total 53 columns):\n",
      " #   Column                  Non-Null Count  Dtype  \n",
      "---  ------                  --------------  -----  \n",
      " 0   index                   2275 non-null   int64  \n",
      " 1   LocationCode            2275 non-null   object \n",
      " 2   LocationName            2275 non-null   object \n",
      " 3   StatesCode              2275 non-null   object \n",
      " 4   ...4                    2275 non-null   int64  \n",
      " 5   id                      2275 non-null   float64\n",
      " 6   text                    2275 non-null   object \n",
      " 7   label                   2275 non-null   object \n",
      " 8   in_reply_to_status_id   236 non-null    float64\n",
      " 9   in_reply_to_user_id     258 non-null    float64\n",
      " 10  quoted_user_id          0 non-null      float64\n",
      " 11  quoted_status_id        0 non-null      float64\n",
      " 12  retweeted_user_id       388 non-null    float64\n",
      " 13  retweeted_status_id     388 non-null    float64\n",
      " 14  created_at              2275 non-null   object \n",
      " 15  entities.user_mentions  763 non-null    object \n",
      " 16  user.id                 2275 non-null   int64  \n",
      " 17  user.screen_name        2275 non-null   object \n",
      " 18  user.name               2272 non-null   object \n",
      " 19  user.description        2009 non-null   object \n",
      " 20  user.timezone           0 non-null      float64\n",
      " 21  user.location           2245 non-null   object \n",
      " 22  user.num_followers      2275 non-null   int64  \n",
      " 23  user.num_following      2275 non-null   int64  \n",
      " 24  user.created_at         2275 non-null   object \n",
      " 25  user.statuses_count     2275 non-null   int64  \n",
      " 26  user.is_verified        2275 non-null   bool   \n",
      " 27  lang                    2275 non-null   object \n",
      " 28  token_count             2275 non-null   int64  \n",
      " 29  is_retweet              2275 non-null   bool   \n",
      " 30  has_quote               2275 non-null   bool   \n",
      " 31  is_reply                2275 non-null   bool   \n",
      " 32  contains_keywords       2275 non-null   bool   \n",
      " 33  longitude               2275 non-null   float64\n",
      " 34  latitude                2275 non-null   float64\n",
      " 35  country_code            2275 non-null   object \n",
      " 36  geoname_id              2186 non-null   float64\n",
      " 37  location_type           2275 non-null   object \n",
      " 38  geo_type                2275 non-null   int64  \n",
      " 39  region                  2275 non-null   object \n",
      " 40  subregion               2275 non-null   object \n",
      " 41  num_quotes              2275 non-null   int64  \n",
      " 42  num_replies             2275 non-null   int64  \n",
      " 43  num_retweets            2275 non-null   int64  \n",
      " 44  sent_gpt                2275 non-null   object \n",
      " 45  gpt_sent_presence       2275 non-null   int64  \n",
      " 46  cleaned_text_lem        2275 non-null   object \n",
      " 47  cleaned_text            2275 non-null   object \n",
      " 48  month                   2275 non-null   int64  \n",
      " 49  year                    2275 non-null   int64  \n",
      " 50  week                    2275 non-null   int64  \n",
      " 51  year_month              2275 non-null   object \n",
      " 52  year_week               2275 non-null   object \n",
      "dtypes: bool(5), float64(11), int64(15), object(22)\n",
      "memory usage: 864.4+ KB\n"
     ]
    }
   ],
   "source": [
    "# Get monthly data\n",
    "df_2014_01_neu = pd.read_csv('../data/local/df_neu_2014-01.csv').reset_index()\n",
    "df_2014_01_neu.info()"
   ]
  },
  {
   "cell_type": "markdown",
   "id": "76f621ec",
   "metadata": {},
   "source": [
    "### Representative sample based on week and location"
   ]
  },
  {
   "cell_type": "code",
   "execution_count": 5,
   "id": "921a735a",
   "metadata": {},
   "outputs": [
    {
     "data": {
      "text/html": [
       "<div>\n",
       "<style scoped>\n",
       "    .dataframe tbody tr th:only-of-type {\n",
       "        vertical-align: middle;\n",
       "    }\n",
       "\n",
       "    .dataframe tbody tr th {\n",
       "        vertical-align: top;\n",
       "    }\n",
       "\n",
       "    .dataframe thead th {\n",
       "        text-align: right;\n",
       "    }\n",
       "</style>\n",
       "<table border=\"1\" class=\"dataframe\">\n",
       "  <thead>\n",
       "    <tr style=\"text-align: right;\">\n",
       "      <th></th>\n",
       "      <th>year_week</th>\n",
       "      <th>LocationName</th>\n",
       "      <th>group_size</th>\n",
       "      <th>proportion</th>\n",
       "    </tr>\n",
       "  </thead>\n",
       "  <tbody>\n",
       "    <tr>\n",
       "      <th>0</th>\n",
       "      <td>2014-w01</td>\n",
       "      <td>Acre</td>\n",
       "      <td>3</td>\n",
       "      <td>0.001319</td>\n",
       "    </tr>\n",
       "    <tr>\n",
       "      <th>1</th>\n",
       "      <td>2014-w01</td>\n",
       "      <td>Amapa</td>\n",
       "      <td>1</td>\n",
       "      <td>0.000440</td>\n",
       "    </tr>\n",
       "    <tr>\n",
       "      <th>2</th>\n",
       "      <td>2014-w01</td>\n",
       "      <td>Amazonas</td>\n",
       "      <td>9</td>\n",
       "      <td>0.003956</td>\n",
       "    </tr>\n",
       "    <tr>\n",
       "      <th>3</th>\n",
       "      <td>2014-w01</td>\n",
       "      <td>Bahia</td>\n",
       "      <td>20</td>\n",
       "      <td>0.008791</td>\n",
       "    </tr>\n",
       "    <tr>\n",
       "      <th>4</th>\n",
       "      <td>2014-w01</td>\n",
       "      <td>Ceara</td>\n",
       "      <td>8</td>\n",
       "      <td>0.003516</td>\n",
       "    </tr>\n",
       "    <tr>\n",
       "      <th>...</th>\n",
       "      <td>...</td>\n",
       "      <td>...</td>\n",
       "      <td>...</td>\n",
       "      <td>...</td>\n",
       "    </tr>\n",
       "    <tr>\n",
       "      <th>99</th>\n",
       "      <td>2014-w05</td>\n",
       "      <td>Rondonia</td>\n",
       "      <td>2</td>\n",
       "      <td>0.000879</td>\n",
       "    </tr>\n",
       "    <tr>\n",
       "      <th>100</th>\n",
       "      <td>2014-w05</td>\n",
       "      <td>Roraima</td>\n",
       "      <td>7</td>\n",
       "      <td>0.003077</td>\n",
       "    </tr>\n",
       "    <tr>\n",
       "      <th>101</th>\n",
       "      <td>2014-w05</td>\n",
       "      <td>Santa Catarina</td>\n",
       "      <td>10</td>\n",
       "      <td>0.004396</td>\n",
       "    </tr>\n",
       "    <tr>\n",
       "      <th>102</th>\n",
       "      <td>2014-w05</td>\n",
       "      <td>Sao Paulo</td>\n",
       "      <td>84</td>\n",
       "      <td>0.036923</td>\n",
       "    </tr>\n",
       "    <tr>\n",
       "      <th>103</th>\n",
       "      <td>2014-w05</td>\n",
       "      <td>Sergipe</td>\n",
       "      <td>3</td>\n",
       "      <td>0.001319</td>\n",
       "    </tr>\n",
       "  </tbody>\n",
       "</table>\n",
       "<p>104 rows × 4 columns</p>\n",
       "</div>"
      ],
      "text/plain": [
       "    year_week    LocationName  group_size  proportion\n",
       "0    2014-w01            Acre           3    0.001319\n",
       "1    2014-w01           Amapa           1    0.000440\n",
       "2    2014-w01        Amazonas           9    0.003956\n",
       "3    2014-w01           Bahia          20    0.008791\n",
       "4    2014-w01           Ceara           8    0.003516\n",
       "..        ...             ...         ...         ...\n",
       "99   2014-w05        Rondonia           2    0.000879\n",
       "100  2014-w05         Roraima           7    0.003077\n",
       "101  2014-w05  Santa Catarina          10    0.004396\n",
       "102  2014-w05       Sao Paulo          84    0.036923\n",
       "103  2014-w05         Sergipe           3    0.001319\n",
       "\n",
       "[104 rows x 4 columns]"
      ]
     },
     "execution_count": 5,
     "metadata": {},
     "output_type": "execute_result"
    }
   ],
   "source": [
    "# Step 1: Calculate the size of each group (year_week, LocationName)\n",
    "group_sizes = df_2014_01_neu.groupby(['year_week', 'LocationName']).size().reset_index(name='group_size')\n",
    "\n",
    "# Step 2: Calculate the proportion of each group in the dataset\n",
    "total_rows = len(df_2014_01_neu)\n",
    "group_sizes['proportion'] = group_sizes['group_size'] / total_rows\n",
    "group_sizes"
   ]
  },
  {
   "cell_type": "code",
   "execution_count": 6,
   "id": "89b38fef",
   "metadata": {},
   "outputs": [
    {
     "data": {
      "text/html": [
       "<div>\n",
       "<style scoped>\n",
       "    .dataframe tbody tr th:only-of-type {\n",
       "        vertical-align: middle;\n",
       "    }\n",
       "\n",
       "    .dataframe tbody tr th {\n",
       "        vertical-align: top;\n",
       "    }\n",
       "\n",
       "    .dataframe thead th {\n",
       "        text-align: right;\n",
       "    }\n",
       "</style>\n",
       "<table border=\"1\" class=\"dataframe\">\n",
       "  <thead>\n",
       "    <tr style=\"text-align: right;\">\n",
       "      <th></th>\n",
       "      <th>year_week</th>\n",
       "      <th>LocationName</th>\n",
       "      <th>group_size</th>\n",
       "      <th>proportion</th>\n",
       "      <th>sample_size</th>\n",
       "    </tr>\n",
       "  </thead>\n",
       "  <tbody>\n",
       "    <tr>\n",
       "      <th>0</th>\n",
       "      <td>2014-w01</td>\n",
       "      <td>Acre</td>\n",
       "      <td>3</td>\n",
       "      <td>0.001319</td>\n",
       "      <td>3</td>\n",
       "    </tr>\n",
       "    <tr>\n",
       "      <th>1</th>\n",
       "      <td>2014-w01</td>\n",
       "      <td>Amapa</td>\n",
       "      <td>1</td>\n",
       "      <td>0.000440</td>\n",
       "      <td>1</td>\n",
       "    </tr>\n",
       "    <tr>\n",
       "      <th>2</th>\n",
       "      <td>2014-w01</td>\n",
       "      <td>Amazonas</td>\n",
       "      <td>9</td>\n",
       "      <td>0.003956</td>\n",
       "      <td>9</td>\n",
       "    </tr>\n",
       "    <tr>\n",
       "      <th>3</th>\n",
       "      <td>2014-w01</td>\n",
       "      <td>Bahia</td>\n",
       "      <td>20</td>\n",
       "      <td>0.008791</td>\n",
       "      <td>21</td>\n",
       "    </tr>\n",
       "    <tr>\n",
       "      <th>4</th>\n",
       "      <td>2014-w01</td>\n",
       "      <td>Ceara</td>\n",
       "      <td>8</td>\n",
       "      <td>0.003516</td>\n",
       "      <td>8</td>\n",
       "    </tr>\n",
       "    <tr>\n",
       "      <th>...</th>\n",
       "      <td>...</td>\n",
       "      <td>...</td>\n",
       "      <td>...</td>\n",
       "      <td>...</td>\n",
       "      <td>...</td>\n",
       "    </tr>\n",
       "    <tr>\n",
       "      <th>99</th>\n",
       "      <td>2014-w05</td>\n",
       "      <td>Rondonia</td>\n",
       "      <td>2</td>\n",
       "      <td>0.000879</td>\n",
       "      <td>2</td>\n",
       "    </tr>\n",
       "    <tr>\n",
       "      <th>100</th>\n",
       "      <td>2014-w05</td>\n",
       "      <td>Roraima</td>\n",
       "      <td>7</td>\n",
       "      <td>0.003077</td>\n",
       "      <td>7</td>\n",
       "    </tr>\n",
       "    <tr>\n",
       "      <th>101</th>\n",
       "      <td>2014-w05</td>\n",
       "      <td>Santa Catarina</td>\n",
       "      <td>10</td>\n",
       "      <td>0.004396</td>\n",
       "      <td>10</td>\n",
       "    </tr>\n",
       "    <tr>\n",
       "      <th>102</th>\n",
       "      <td>2014-w05</td>\n",
       "      <td>Sao Paulo</td>\n",
       "      <td>84</td>\n",
       "      <td>0.036923</td>\n",
       "      <td>90</td>\n",
       "    </tr>\n",
       "    <tr>\n",
       "      <th>103</th>\n",
       "      <td>2014-w05</td>\n",
       "      <td>Sergipe</td>\n",
       "      <td>3</td>\n",
       "      <td>0.001319</td>\n",
       "      <td>3</td>\n",
       "    </tr>\n",
       "  </tbody>\n",
       "</table>\n",
       "<p>104 rows × 5 columns</p>\n",
       "</div>"
      ],
      "text/plain": [
       "    year_week    LocationName  group_size  proportion  sample_size\n",
       "0    2014-w01            Acre           3    0.001319            3\n",
       "1    2014-w01           Amapa           1    0.000440            1\n",
       "2    2014-w01        Amazonas           9    0.003956            9\n",
       "3    2014-w01           Bahia          20    0.008791           21\n",
       "4    2014-w01           Ceara           8    0.003516            8\n",
       "..        ...             ...         ...         ...          ...\n",
       "99   2014-w05        Rondonia           2    0.000879            2\n",
       "100  2014-w05         Roraima           7    0.003077            7\n",
       "101  2014-w05  Santa Catarina          10    0.004396           10\n",
       "102  2014-w05       Sao Paulo          84    0.036923           90\n",
       "103  2014-w05         Sergipe           3    0.001319            3\n",
       "\n",
       "[104 rows x 5 columns]"
      ]
     },
     "execution_count": 6,
     "metadata": {},
     "output_type": "execute_result"
    }
   ],
   "source": [
    "# Step 3: Define the target sample size\n",
    "target_sample_size = 2450\n",
    "\n",
    "# Step 4: Calculate the sample size for each group (based on its proportion)\n",
    "group_sizes['sample_size'] = np.floor(group_sizes['proportion'] * target_sample_size).astype(int)\n",
    "group_sizes"
   ]
  },
  {
   "cell_type": "code",
   "execution_count": 7,
   "id": "a50fe53a",
   "metadata": {},
   "outputs": [],
   "source": [
    "# Step 5: Merge this sample size information back to the original DataFrame\n",
    "df_2014_01_neu_sample_size = pd.merge(df_2014_01_neu, group_sizes[['year_week', 'LocationName', 'sample_size']], \n",
    "                               on=['year_week', 'LocationName'], how='left')"
   ]
  },
  {
   "cell_type": "code",
   "execution_count": 8,
   "id": "85555ac0",
   "metadata": {},
   "outputs": [
    {
     "name": "stdout",
     "output_type": "stream",
     "text": [
      "Sampled 2275 rows.\n"
     ]
    }
   ],
   "source": [
    "# Step 6: Perform the stratified sampling\n",
    "#df_2014_01_neu_sample = df_2014_01_neu_sample_size.groupby(['year_week', 'LocationName']).apply(\n",
    " #   lambda group: group.sample(n=group['sample_size'].iloc[0], random_state=42)\n",
    "#).reset_index(drop=True)\n",
    "df_2014_01_neu_sample = df_2014_01_neu\n",
    "# Step 7: Check the result\n",
    "print(f\"Sampled {len(df_2014_01_neu_sample)} rows.\")\n"
   ]
  },
  {
   "cell_type": "code",
   "execution_count": 9,
   "id": "0346bf41",
   "metadata": {},
   "outputs": [],
   "source": [
    "text_gpt_2014_01_neu = '\\n'.join(df_2014_01_neu_sample['text'].astype(str))"
   ]
  },
  {
   "cell_type": "markdown",
   "id": "b89facff",
   "metadata": {},
   "source": [
    "### Prompts and loops"
   ]
  },
  {
   "cell_type": "code",
   "execution_count": 10,
   "id": "d131b6c4",
   "metadata": {},
   "outputs": [],
   "source": [
    "prompt_1 = prompt_raw.replace('TWEETS', text_gpt_2014_01_neu)"
   ]
  },
  {
   "cell_type": "code",
   "execution_count": 11,
   "id": "7b46f355",
   "metadata": {
    "scrolled": false
   },
   "outputs": [],
   "source": [
    "response = openai.ChatCompletion.create(\n",
    "    model=\"gpt-4o-mini\",  \n",
    "    messages = [\n",
    "        {\"role\": \"user\", \"content\": prompt_1}\n",
    "    ],\n",
    "    max_tokens=400,  # Maximum number of tokens in the response\n",
    "    temperature=0.7  # Controls the randomness of the output\n",
    ")"
   ]
  },
  {
   "cell_type": "code",
   "execution_count": 12,
   "id": "18c76466",
   "metadata": {},
   "outputs": [
    {
     "data": {
      "text/plain": [
       "'The text discusses various aspects of vaccination, focusing particularly on the HPV vaccine being introduced in Brazil. The Ministry of Health plans to offer the HPV vaccine for girls aged 11 to 13 starting March 10. Additionally, there are mentions of other vaccinations, personal experiences, and cultural perceptions surrounding vaccines, including humor and societal commentary about the necessity and timing of vaccinations. Overall, the text highlights the importance of vaccination programs and public health initiatives in Brazil.'"
      ]
     },
     "execution_count": 12,
     "metadata": {},
     "output_type": "execute_result"
    }
   ],
   "source": [
    "response.choices[0].message.content"
   ]
  },
  {
   "cell_type": "code",
   "execution_count": 13,
   "id": "b89927f0",
   "metadata": {},
   "outputs": [],
   "source": [
    "summary = []\n",
    "dataset = []"
   ]
  },
  {
   "cell_type": "code",
   "execution_count": 14,
   "id": "b4adcee9",
   "metadata": {},
   "outputs": [],
   "source": [
    "dataset.append(\"2014_01_neutral\")"
   ]
  },
  {
   "cell_type": "code",
   "execution_count": 15,
   "id": "7ab412b2",
   "metadata": {},
   "outputs": [],
   "source": [
    "summary.append(response.choices[0].message.content)"
   ]
  },
  {
   "cell_type": "code",
   "execution_count": 16,
   "id": "8731c5c8",
   "metadata": {
    "tags": []
   },
   "outputs": [
    {
     "name": "stdout",
     "output_type": "stream",
     "text": [
      "<class 'pandas.core.frame.DataFrame'>\n",
      "RangeIndex: 1 entries, 0 to 0\n",
      "Data columns (total 2 columns):\n",
      " #   Column   Non-Null Count  Dtype \n",
      "---  ------   --------------  ----- \n",
      " 0   dataset  1 non-null      object\n",
      " 1   summary  1 non-null      object\n",
      "dtypes: object(2)\n",
      "memory usage: 144.0+ bytes\n"
     ]
    }
   ],
   "source": [
    "df_2014_neu = pd.DataFrame(list(zip(dataset, summary)),\n",
    "                            columns = ['dataset', 'summary'])\n",
    "df_2014_neu.info()"
   ]
  },
  {
   "cell_type": "code",
   "execution_count": 17,
   "id": "3165ba66",
   "metadata": {},
   "outputs": [
    {
     "data": {
      "text/html": [
       "<div>\n",
       "<style scoped>\n",
       "    .dataframe tbody tr th:only-of-type {\n",
       "        vertical-align: middle;\n",
       "    }\n",
       "\n",
       "    .dataframe tbody tr th {\n",
       "        vertical-align: top;\n",
       "    }\n",
       "\n",
       "    .dataframe thead th {\n",
       "        text-align: right;\n",
       "    }\n",
       "</style>\n",
       "<table border=\"1\" class=\"dataframe\">\n",
       "  <thead>\n",
       "    <tr style=\"text-align: right;\">\n",
       "      <th></th>\n",
       "      <th>dataset</th>\n",
       "      <th>summary</th>\n",
       "    </tr>\n",
       "  </thead>\n",
       "  <tbody>\n",
       "    <tr>\n",
       "      <th>0</th>\n",
       "      <td>2014_01_neutral</td>\n",
       "      <td>The text discusses various aspects of vaccinat...</td>\n",
       "    </tr>\n",
       "  </tbody>\n",
       "</table>\n",
       "</div>"
      ],
      "text/plain": [
       "           dataset                                            summary\n",
       "0  2014_01_neutral  The text discusses various aspects of vaccinat..."
      ]
     },
     "execution_count": 17,
     "metadata": {},
     "output_type": "execute_result"
    }
   ],
   "source": [
    "df_2014_neu.tail(14)"
   ]
  },
  {
   "cell_type": "code",
   "execution_count": 18,
   "id": "2877d37e",
   "metadata": {},
   "outputs": [
    {
     "data": {
      "text/plain": [
       "<OpenAIObject chat.completion id=chatcmpl-AUdGK7n0tJPktGcxleHMmKNCOL8Q7 at 0x1263d355ef0> JSON: {\n",
       "  \"choices\": [\n",
       "    {\n",
       "      \"finish_reason\": \"stop\",\n",
       "      \"index\": 0,\n",
       "      \"logprobs\": null,\n",
       "      \"message\": {\n",
       "        \"content\": \"The text discusses various aspects of vaccination, focusing particularly on the HPV vaccine being introduced in Brazil. The Ministry of Health plans to offer the HPV vaccine for girls aged 11 to 13 starting March 10. Additionally, there are mentions of other vaccinations, personal experiences, and cultural perceptions surrounding vaccines, including humor and societal commentary about the necessity and timing of vaccinations. Overall, the text highlights the importance of vaccination programs and public health initiatives in Brazil.\",\n",
       "        \"refusal\": null,\n",
       "        \"role\": \"assistant\"\n",
       "      }\n",
       "    }\n",
       "  ],\n",
       "  \"created\": 1731864128,\n",
       "  \"id\": \"chatcmpl-AUdGK7n0tJPktGcxleHMmKNCOL8Q7\",\n",
       "  \"model\": \"gpt-4o-mini-2024-07-18\",\n",
       "  \"object\": \"chat.completion\",\n",
       "  \"system_fingerprint\": \"fp_0ba0d124f1\",\n",
       "  \"usage\": {\n",
       "    \"completion_tokens\": 90,\n",
       "    \"completion_tokens_details\": {\n",
       "      \"accepted_prediction_tokens\": 0,\n",
       "      \"audio_tokens\": 0,\n",
       "      \"reasoning_tokens\": 0,\n",
       "      \"rejected_prediction_tokens\": 0\n",
       "    },\n",
       "    \"prompt_tokens\": 47792,\n",
       "    \"prompt_tokens_details\": {\n",
       "      \"audio_tokens\": 0,\n",
       "      \"cached_tokens\": 0\n",
       "    },\n",
       "    \"total_tokens\": 47882\n",
       "  }\n",
       "}"
      ]
     },
     "execution_count": 18,
     "metadata": {},
     "output_type": "execute_result"
    }
   ],
   "source": [
    "response"
   ]
  },
  {
   "cell_type": "markdown",
   "id": "000d2343",
   "metadata": {},
   "source": [
    "## February"
   ]
  },
  {
   "cell_type": "code",
   "execution_count": 19,
   "id": "ad27d675",
   "metadata": {
    "scrolled": true,
    "tags": []
   },
   "outputs": [
    {
     "name": "stdout",
     "output_type": "stream",
     "text": [
      "<class 'pandas.core.frame.DataFrame'>\n",
      "RangeIndex: 1736 entries, 0 to 1735\n",
      "Data columns (total 53 columns):\n",
      " #   Column                  Non-Null Count  Dtype  \n",
      "---  ------                  --------------  -----  \n",
      " 0   index                   1736 non-null   int64  \n",
      " 1   LocationCode            1736 non-null   object \n",
      " 2   LocationName            1736 non-null   object \n",
      " 3   StatesCode              1736 non-null   object \n",
      " 4   ...4                    1736 non-null   int64  \n",
      " 5   id                      1736 non-null   float64\n",
      " 6   text                    1736 non-null   object \n",
      " 7   label                   1736 non-null   object \n",
      " 8   in_reply_to_status_id   145 non-null    float64\n",
      " 9   in_reply_to_user_id     189 non-null    float64\n",
      " 10  quoted_user_id          0 non-null      float64\n",
      " 11  quoted_status_id        0 non-null      float64\n",
      " 12  retweeted_user_id       221 non-null    float64\n",
      " 13  retweeted_status_id     221 non-null    float64\n",
      " 14  created_at              1736 non-null   object \n",
      " 15  entities.user_mentions  501 non-null    object \n",
      " 16  user.id                 1736 non-null   int64  \n",
      " 17  user.screen_name        1736 non-null   object \n",
      " 18  user.name               1734 non-null   object \n",
      " 19  user.description        1550 non-null   object \n",
      " 20  user.timezone           0 non-null      float64\n",
      " 21  user.location           1715 non-null   object \n",
      " 22  user.num_followers      1736 non-null   int64  \n",
      " 23  user.num_following      1736 non-null   int64  \n",
      " 24  user.created_at         1736 non-null   object \n",
      " 25  user.statuses_count     1736 non-null   int64  \n",
      " 26  user.is_verified        1736 non-null   bool   \n",
      " 27  lang                    1736 non-null   object \n",
      " 28  token_count             1736 non-null   int64  \n",
      " 29  is_retweet              1736 non-null   bool   \n",
      " 30  has_quote               1736 non-null   bool   \n",
      " 31  is_reply                1736 non-null   bool   \n",
      " 32  contains_keywords       1736 non-null   bool   \n",
      " 33  longitude               1736 non-null   float64\n",
      " 34  latitude                1736 non-null   float64\n",
      " 35  country_code            1736 non-null   object \n",
      " 36  geoname_id              1659 non-null   float64\n",
      " 37  location_type           1736 non-null   object \n",
      " 38  geo_type                1736 non-null   int64  \n",
      " 39  region                  1736 non-null   object \n",
      " 40  subregion               1736 non-null   object \n",
      " 41  num_quotes              1736 non-null   int64  \n",
      " 42  num_replies             1736 non-null   int64  \n",
      " 43  num_retweets            1736 non-null   int64  \n",
      " 44  sent_gpt                1736 non-null   object \n",
      " 45  gpt_sent_presence       1736 non-null   int64  \n",
      " 46  cleaned_text_lem        1736 non-null   object \n",
      " 47  cleaned_text            1736 non-null   object \n",
      " 48  month                   1736 non-null   int64  \n",
      " 49  year                    1736 non-null   int64  \n",
      " 50  week                    1736 non-null   int64  \n",
      " 51  year_month              1736 non-null   object \n",
      " 52  year_week               1736 non-null   object \n",
      "dtypes: bool(5), float64(11), int64(15), object(22)\n",
      "memory usage: 659.6+ KB\n"
     ]
    }
   ],
   "source": [
    "# Get monthly data\n",
    "df_2014_02_neu = pd.read_csv('../data/local/df_neu_2014-02.csv').reset_index()\n",
    "df_2014_02_neu.info()"
   ]
  },
  {
   "cell_type": "markdown",
   "id": "d39b7c34",
   "metadata": {},
   "source": [
    "### Representative sample based on week and location"
   ]
  },
  {
   "cell_type": "code",
   "execution_count": 20,
   "id": "06a2f945",
   "metadata": {},
   "outputs": [
    {
     "data": {
      "text/html": [
       "<div>\n",
       "<style scoped>\n",
       "    .dataframe tbody tr th:only-of-type {\n",
       "        vertical-align: middle;\n",
       "    }\n",
       "\n",
       "    .dataframe tbody tr th {\n",
       "        vertical-align: top;\n",
       "    }\n",
       "\n",
       "    .dataframe thead th {\n",
       "        text-align: right;\n",
       "    }\n",
       "</style>\n",
       "<table border=\"1\" class=\"dataframe\">\n",
       "  <thead>\n",
       "    <tr style=\"text-align: right;\">\n",
       "      <th></th>\n",
       "      <th>year_week</th>\n",
       "      <th>LocationName</th>\n",
       "      <th>group_size</th>\n",
       "      <th>proportion</th>\n",
       "    </tr>\n",
       "  </thead>\n",
       "  <tbody>\n",
       "    <tr>\n",
       "      <th>0</th>\n",
       "      <td>2014-w05</td>\n",
       "      <td>Alagoas</td>\n",
       "      <td>2</td>\n",
       "      <td>0.001152</td>\n",
       "    </tr>\n",
       "    <tr>\n",
       "      <th>1</th>\n",
       "      <td>2014-w05</td>\n",
       "      <td>Amazonas</td>\n",
       "      <td>5</td>\n",
       "      <td>0.002880</td>\n",
       "    </tr>\n",
       "    <tr>\n",
       "      <th>2</th>\n",
       "      <td>2014-w05</td>\n",
       "      <td>Bahia</td>\n",
       "      <td>13</td>\n",
       "      <td>0.007488</td>\n",
       "    </tr>\n",
       "    <tr>\n",
       "      <th>3</th>\n",
       "      <td>2014-w05</td>\n",
       "      <td>Ceara</td>\n",
       "      <td>15</td>\n",
       "      <td>0.008641</td>\n",
       "    </tr>\n",
       "    <tr>\n",
       "      <th>4</th>\n",
       "      <td>2014-w05</td>\n",
       "      <td>Distrito Federal</td>\n",
       "      <td>12</td>\n",
       "      <td>0.006912</td>\n",
       "    </tr>\n",
       "    <tr>\n",
       "      <th>...</th>\n",
       "      <td>...</td>\n",
       "      <td>...</td>\n",
       "      <td>...</td>\n",
       "      <td>...</td>\n",
       "    </tr>\n",
       "    <tr>\n",
       "      <th>107</th>\n",
       "      <td>2014-w09</td>\n",
       "      <td>Rio Grande Do Sul</td>\n",
       "      <td>21</td>\n",
       "      <td>0.012097</td>\n",
       "    </tr>\n",
       "    <tr>\n",
       "      <th>108</th>\n",
       "      <td>2014-w09</td>\n",
       "      <td>Santa Catarina</td>\n",
       "      <td>2</td>\n",
       "      <td>0.001152</td>\n",
       "    </tr>\n",
       "    <tr>\n",
       "      <th>109</th>\n",
       "      <td>2014-w09</td>\n",
       "      <td>Sao Paulo</td>\n",
       "      <td>31</td>\n",
       "      <td>0.017857</td>\n",
       "    </tr>\n",
       "    <tr>\n",
       "      <th>110</th>\n",
       "      <td>2014-w09</td>\n",
       "      <td>Sergipe</td>\n",
       "      <td>7</td>\n",
       "      <td>0.004032</td>\n",
       "    </tr>\n",
       "    <tr>\n",
       "      <th>111</th>\n",
       "      <td>2014-w09</td>\n",
       "      <td>Tocantins</td>\n",
       "      <td>1</td>\n",
       "      <td>0.000576</td>\n",
       "    </tr>\n",
       "  </tbody>\n",
       "</table>\n",
       "<p>112 rows × 4 columns</p>\n",
       "</div>"
      ],
      "text/plain": [
       "    year_week       LocationName  group_size  proportion\n",
       "0    2014-w05            Alagoas           2    0.001152\n",
       "1    2014-w05           Amazonas           5    0.002880\n",
       "2    2014-w05              Bahia          13    0.007488\n",
       "3    2014-w05              Ceara          15    0.008641\n",
       "4    2014-w05   Distrito Federal          12    0.006912\n",
       "..        ...                ...         ...         ...\n",
       "107  2014-w09  Rio Grande Do Sul          21    0.012097\n",
       "108  2014-w09     Santa Catarina           2    0.001152\n",
       "109  2014-w09          Sao Paulo          31    0.017857\n",
       "110  2014-w09            Sergipe           7    0.004032\n",
       "111  2014-w09          Tocantins           1    0.000576\n",
       "\n",
       "[112 rows x 4 columns]"
      ]
     },
     "execution_count": 20,
     "metadata": {},
     "output_type": "execute_result"
    }
   ],
   "source": [
    "# Step 1: Calculate the size of each group (year_week, LocationName)\n",
    "group_sizes = df_2014_02_neu.groupby(['year_week', 'LocationName']).size().reset_index(name='group_size')\n",
    "\n",
    "# Step 2: Calculate the proportion of each group in the dataset\n",
    "total_rows = len(df_2014_02_neu)\n",
    "group_sizes['proportion'] = group_sizes['group_size'] / total_rows\n",
    "group_sizes"
   ]
  },
  {
   "cell_type": "code",
   "execution_count": 21,
   "id": "75fb67fb",
   "metadata": {},
   "outputs": [
    {
     "data": {
      "text/html": [
       "<div>\n",
       "<style scoped>\n",
       "    .dataframe tbody tr th:only-of-type {\n",
       "        vertical-align: middle;\n",
       "    }\n",
       "\n",
       "    .dataframe tbody tr th {\n",
       "        vertical-align: top;\n",
       "    }\n",
       "\n",
       "    .dataframe thead th {\n",
       "        text-align: right;\n",
       "    }\n",
       "</style>\n",
       "<table border=\"1\" class=\"dataframe\">\n",
       "  <thead>\n",
       "    <tr style=\"text-align: right;\">\n",
       "      <th></th>\n",
       "      <th>year_week</th>\n",
       "      <th>LocationName</th>\n",
       "      <th>group_size</th>\n",
       "      <th>proportion</th>\n",
       "      <th>sample_size</th>\n",
       "    </tr>\n",
       "  </thead>\n",
       "  <tbody>\n",
       "    <tr>\n",
       "      <th>0</th>\n",
       "      <td>2014-w05</td>\n",
       "      <td>Alagoas</td>\n",
       "      <td>2</td>\n",
       "      <td>0.001152</td>\n",
       "      <td>2</td>\n",
       "    </tr>\n",
       "    <tr>\n",
       "      <th>1</th>\n",
       "      <td>2014-w05</td>\n",
       "      <td>Amazonas</td>\n",
       "      <td>5</td>\n",
       "      <td>0.002880</td>\n",
       "      <td>7</td>\n",
       "    </tr>\n",
       "    <tr>\n",
       "      <th>2</th>\n",
       "      <td>2014-w05</td>\n",
       "      <td>Bahia</td>\n",
       "      <td>13</td>\n",
       "      <td>0.007488</td>\n",
       "      <td>18</td>\n",
       "    </tr>\n",
       "    <tr>\n",
       "      <th>3</th>\n",
       "      <td>2014-w05</td>\n",
       "      <td>Ceara</td>\n",
       "      <td>15</td>\n",
       "      <td>0.008641</td>\n",
       "      <td>21</td>\n",
       "    </tr>\n",
       "    <tr>\n",
       "      <th>4</th>\n",
       "      <td>2014-w05</td>\n",
       "      <td>Distrito Federal</td>\n",
       "      <td>12</td>\n",
       "      <td>0.006912</td>\n",
       "      <td>16</td>\n",
       "    </tr>\n",
       "    <tr>\n",
       "      <th>...</th>\n",
       "      <td>...</td>\n",
       "      <td>...</td>\n",
       "      <td>...</td>\n",
       "      <td>...</td>\n",
       "      <td>...</td>\n",
       "    </tr>\n",
       "    <tr>\n",
       "      <th>107</th>\n",
       "      <td>2014-w09</td>\n",
       "      <td>Rio Grande Do Sul</td>\n",
       "      <td>21</td>\n",
       "      <td>0.012097</td>\n",
       "      <td>29</td>\n",
       "    </tr>\n",
       "    <tr>\n",
       "      <th>108</th>\n",
       "      <td>2014-w09</td>\n",
       "      <td>Santa Catarina</td>\n",
       "      <td>2</td>\n",
       "      <td>0.001152</td>\n",
       "      <td>2</td>\n",
       "    </tr>\n",
       "    <tr>\n",
       "      <th>109</th>\n",
       "      <td>2014-w09</td>\n",
       "      <td>Sao Paulo</td>\n",
       "      <td>31</td>\n",
       "      <td>0.017857</td>\n",
       "      <td>43</td>\n",
       "    </tr>\n",
       "    <tr>\n",
       "      <th>110</th>\n",
       "      <td>2014-w09</td>\n",
       "      <td>Sergipe</td>\n",
       "      <td>7</td>\n",
       "      <td>0.004032</td>\n",
       "      <td>9</td>\n",
       "    </tr>\n",
       "    <tr>\n",
       "      <th>111</th>\n",
       "      <td>2014-w09</td>\n",
       "      <td>Tocantins</td>\n",
       "      <td>1</td>\n",
       "      <td>0.000576</td>\n",
       "      <td>1</td>\n",
       "    </tr>\n",
       "  </tbody>\n",
       "</table>\n",
       "<p>112 rows × 5 columns</p>\n",
       "</div>"
      ],
      "text/plain": [
       "    year_week       LocationName  group_size  proportion  sample_size\n",
       "0    2014-w05            Alagoas           2    0.001152            2\n",
       "1    2014-w05           Amazonas           5    0.002880            7\n",
       "2    2014-w05              Bahia          13    0.007488           18\n",
       "3    2014-w05              Ceara          15    0.008641           21\n",
       "4    2014-w05   Distrito Federal          12    0.006912           16\n",
       "..        ...                ...         ...         ...          ...\n",
       "107  2014-w09  Rio Grande Do Sul          21    0.012097           29\n",
       "108  2014-w09     Santa Catarina           2    0.001152            2\n",
       "109  2014-w09          Sao Paulo          31    0.017857           43\n",
       "110  2014-w09            Sergipe           7    0.004032            9\n",
       "111  2014-w09          Tocantins           1    0.000576            1\n",
       "\n",
       "[112 rows x 5 columns]"
      ]
     },
     "execution_count": 21,
     "metadata": {},
     "output_type": "execute_result"
    }
   ],
   "source": [
    "# Step 3: Define the target sample size\n",
    "target_sample_size = 2450\n",
    "\n",
    "# Step 4: Calculate the sample size for each group (based on its proportion)\n",
    "group_sizes['sample_size'] = np.floor(group_sizes['proportion'] * target_sample_size).astype(int)\n",
    "group_sizes"
   ]
  },
  {
   "cell_type": "code",
   "execution_count": 22,
   "id": "fefa193d",
   "metadata": {},
   "outputs": [],
   "source": [
    "# Step 5: Merge this sample size information back to the original DataFrame\n",
    "df_2014_02_neu_sample_size = pd.merge(df_2014_02_neu, group_sizes[['year_week', 'LocationName', 'sample_size']], \n",
    "                               on=['year_week', 'LocationName'], how='left')"
   ]
  },
  {
   "cell_type": "code",
   "execution_count": 23,
   "id": "6f5cc94c",
   "metadata": {},
   "outputs": [
    {
     "name": "stdout",
     "output_type": "stream",
     "text": [
      "Sampled 1736 rows.\n"
     ]
    }
   ],
   "source": [
    "# Step 6: Perform the stratified sampling\n",
    "#df_2014_02_neu_sample = df_2014_02_neu_sample_size.groupby(['year_week', 'LocationName']).apply(\n",
    " #   lambda group: group.sample(n=group['sample_size'].iloc[0], random_state=42)\n",
    "#).reset_index(drop=True)\n",
    "df_2014_02_neu_sample = df_2014_02_neu\n",
    "# Step 7: Check the result\n",
    "print(f\"Sampled {len(df_2014_02_neu_sample)} rows.\")\n"
   ]
  },
  {
   "cell_type": "code",
   "execution_count": 24,
   "id": "8ceb36c4",
   "metadata": {},
   "outputs": [],
   "source": [
    "text_gpt_2014_02_neu = '\\n'.join(df_2014_02_neu_sample['text'].astype(str))"
   ]
  },
  {
   "cell_type": "markdown",
   "id": "473bbfd3",
   "metadata": {},
   "source": [
    "### Prompts and loops"
   ]
  },
  {
   "cell_type": "code",
   "execution_count": 25,
   "id": "f84faf23",
   "metadata": {},
   "outputs": [],
   "source": [
    "prompt_2 = prompt_raw.replace('TWEETS', text_gpt_2014_02_neu)"
   ]
  },
  {
   "cell_type": "code",
   "execution_count": 26,
   "id": "d763f6d1",
   "metadata": {
    "scrolled": false
   },
   "outputs": [],
   "source": [
    "response = openai.ChatCompletion.create(\n",
    "    model=\"gpt-4o-mini\",  \n",
    "    messages = [\n",
    "        {\"role\": \"user\", \"content\": prompt_2}\n",
    "    ],\n",
    "    max_tokens=400,  # Maximum number of tokens in the response\n",
    "    temperature=0.7  # Controls the randomness of the output\n",
    ")"
   ]
  },
  {
   "cell_type": "code",
   "execution_count": 27,
   "id": "7d8ad460",
   "metadata": {},
   "outputs": [
    {
     "data": {
      "text/plain": [
       "'The text discusses various vaccination campaigns and events in Brazil, highlighting the rollout of vaccines against diseases like HPV, HIV, and measles, as well as the importance of vaccination for public health. It mentions the involvement of government initiatives, community reactions, and specific dates for vaccination drives. Additionally, it touches on controversies surrounding certain vaccines and individual experiences related to vaccination.'"
      ]
     },
     "execution_count": 27,
     "metadata": {},
     "output_type": "execute_result"
    }
   ],
   "source": [
    "response.choices[0].message.content"
   ]
  },
  {
   "cell_type": "code",
   "execution_count": 28,
   "id": "6d9e27ea",
   "metadata": {},
   "outputs": [],
   "source": [
    "#summary = []\n",
    "#dataset = []"
   ]
  },
  {
   "cell_type": "code",
   "execution_count": 29,
   "id": "79aeb4d0",
   "metadata": {},
   "outputs": [],
   "source": [
    "dataset.append(\"2014_02_neutral\")"
   ]
  },
  {
   "cell_type": "code",
   "execution_count": 30,
   "id": "cfd6061e",
   "metadata": {},
   "outputs": [],
   "source": [
    "summary.append(response.choices[0].message.content)"
   ]
  },
  {
   "cell_type": "code",
   "execution_count": 31,
   "id": "8327de13",
   "metadata": {
    "tags": []
   },
   "outputs": [
    {
     "name": "stdout",
     "output_type": "stream",
     "text": [
      "<class 'pandas.core.frame.DataFrame'>\n",
      "RangeIndex: 2 entries, 0 to 1\n",
      "Data columns (total 2 columns):\n",
      " #   Column   Non-Null Count  Dtype \n",
      "---  ------   --------------  ----- \n",
      " 0   dataset  2 non-null      object\n",
      " 1   summary  2 non-null      object\n",
      "dtypes: object(2)\n",
      "memory usage: 160.0+ bytes\n"
     ]
    }
   ],
   "source": [
    "df_2014_neu = pd.DataFrame(list(zip(dataset, summary)),\n",
    "                            columns = ['dataset', 'summary'])\n",
    "df_2014_neu.info()"
   ]
  },
  {
   "cell_type": "code",
   "execution_count": 32,
   "id": "65a464a6",
   "metadata": {},
   "outputs": [
    {
     "data": {
      "text/html": [
       "<div>\n",
       "<style scoped>\n",
       "    .dataframe tbody tr th:only-of-type {\n",
       "        vertical-align: middle;\n",
       "    }\n",
       "\n",
       "    .dataframe tbody tr th {\n",
       "        vertical-align: top;\n",
       "    }\n",
       "\n",
       "    .dataframe thead th {\n",
       "        text-align: right;\n",
       "    }\n",
       "</style>\n",
       "<table border=\"1\" class=\"dataframe\">\n",
       "  <thead>\n",
       "    <tr style=\"text-align: right;\">\n",
       "      <th></th>\n",
       "      <th>dataset</th>\n",
       "      <th>summary</th>\n",
       "    </tr>\n",
       "  </thead>\n",
       "  <tbody>\n",
       "    <tr>\n",
       "      <th>0</th>\n",
       "      <td>2014_01_neutral</td>\n",
       "      <td>The text discusses various aspects of vaccinat...</td>\n",
       "    </tr>\n",
       "    <tr>\n",
       "      <th>1</th>\n",
       "      <td>2014_02_neutral</td>\n",
       "      <td>The text discusses various vaccination campaig...</td>\n",
       "    </tr>\n",
       "  </tbody>\n",
       "</table>\n",
       "</div>"
      ],
      "text/plain": [
       "           dataset                                            summary\n",
       "0  2014_01_neutral  The text discusses various aspects of vaccinat...\n",
       "1  2014_02_neutral  The text discusses various vaccination campaig..."
      ]
     },
     "execution_count": 32,
     "metadata": {},
     "output_type": "execute_result"
    }
   ],
   "source": [
    "df_2014_neu.tail(14)"
   ]
  },
  {
   "cell_type": "code",
   "execution_count": 33,
   "id": "2553c395",
   "metadata": {},
   "outputs": [
    {
     "data": {
      "text/plain": [
       "<OpenAIObject chat.completion id=chatcmpl-AUdGSK9fQqiIDba2Mhgcus4DBFwN7 at 0x1263ce4c630> JSON: {\n",
       "  \"choices\": [\n",
       "    {\n",
       "      \"finish_reason\": \"stop\",\n",
       "      \"index\": 0,\n",
       "      \"logprobs\": null,\n",
       "      \"message\": {\n",
       "        \"content\": \"The text discusses various vaccination campaigns and events in Brazil, highlighting the rollout of vaccines against diseases like HPV, HIV, and measles, as well as the importance of vaccination for public health. It mentions the involvement of government initiatives, community reactions, and specific dates for vaccination drives. Additionally, it touches on controversies surrounding certain vaccines and individual experiences related to vaccination.\",\n",
       "        \"refusal\": null,\n",
       "        \"role\": \"assistant\"\n",
       "      }\n",
       "    }\n",
       "  ],\n",
       "  \"created\": 1731864136,\n",
       "  \"id\": \"chatcmpl-AUdGSK9fQqiIDba2Mhgcus4DBFwN7\",\n",
       "  \"model\": \"gpt-4o-mini-2024-07-18\",\n",
       "  \"object\": \"chat.completion\",\n",
       "  \"system_fingerprint\": \"fp_9b78b61c52\",\n",
       "  \"usage\": {\n",
       "    \"completion_tokens\": 72,\n",
       "    \"completion_tokens_details\": {\n",
       "      \"accepted_prediction_tokens\": 0,\n",
       "      \"audio_tokens\": 0,\n",
       "      \"reasoning_tokens\": 0,\n",
       "      \"rejected_prediction_tokens\": 0\n",
       "    },\n",
       "    \"prompt_tokens\": 36452,\n",
       "    \"prompt_tokens_details\": {\n",
       "      \"audio_tokens\": 0,\n",
       "      \"cached_tokens\": 0\n",
       "    },\n",
       "    \"total_tokens\": 36524\n",
       "  }\n",
       "}"
      ]
     },
     "execution_count": 33,
     "metadata": {},
     "output_type": "execute_result"
    }
   ],
   "source": [
    "response"
   ]
  },
  {
   "cell_type": "markdown",
   "id": "d9543d87",
   "metadata": {},
   "source": [
    "## March"
   ]
  },
  {
   "cell_type": "code",
   "execution_count": 34,
   "id": "25a1b784",
   "metadata": {
    "scrolled": true,
    "tags": []
   },
   "outputs": [
    {
     "name": "stdout",
     "output_type": "stream",
     "text": [
      "<class 'pandas.core.frame.DataFrame'>\n",
      "RangeIndex: 5260 entries, 0 to 5259\n",
      "Data columns (total 53 columns):\n",
      " #   Column                  Non-Null Count  Dtype  \n",
      "---  ------                  --------------  -----  \n",
      " 0   index                   5260 non-null   int64  \n",
      " 1   LocationCode            5260 non-null   object \n",
      " 2   LocationName            5260 non-null   object \n",
      " 3   StatesCode              5260 non-null   object \n",
      " 4   ...4                    5260 non-null   int64  \n",
      " 5   id                      5260 non-null   float64\n",
      " 6   text                    5260 non-null   object \n",
      " 7   label                   5260 non-null   object \n",
      " 8   in_reply_to_status_id   434 non-null    float64\n",
      " 9   in_reply_to_user_id     506 non-null    float64\n",
      " 10  quoted_user_id          0 non-null      float64\n",
      " 11  quoted_status_id        0 non-null      float64\n",
      " 12  retweeted_user_id       694 non-null    float64\n",
      " 13  retweeted_status_id     694 non-null    float64\n",
      " 14  created_at              5260 non-null   object \n",
      " 15  entities.user_mentions  1486 non-null   object \n",
      " 16  user.id                 5260 non-null   int64  \n",
      " 17  user.screen_name        5260 non-null   object \n",
      " 18  user.name               5240 non-null   object \n",
      " 19  user.description        4727 non-null   object \n",
      " 20  user.timezone           0 non-null      float64\n",
      " 21  user.location           5170 non-null   object \n",
      " 22  user.num_followers      5260 non-null   int64  \n",
      " 23  user.num_following      5260 non-null   int64  \n",
      " 24  user.created_at         5260 non-null   object \n",
      " 25  user.statuses_count     5260 non-null   int64  \n",
      " 26  user.is_verified        5260 non-null   bool   \n",
      " 27  lang                    5260 non-null   object \n",
      " 28  token_count             5260 non-null   int64  \n",
      " 29  is_retweet              5260 non-null   bool   \n",
      " 30  has_quote               5260 non-null   bool   \n",
      " 31  is_reply                5260 non-null   bool   \n",
      " 32  contains_keywords       5260 non-null   bool   \n",
      " 33  longitude               5260 non-null   float64\n",
      " 34  latitude                5260 non-null   float64\n",
      " 35  country_code            5260 non-null   object \n",
      " 36  geoname_id              4930 non-null   float64\n",
      " 37  location_type           5260 non-null   object \n",
      " 38  geo_type                5260 non-null   int64  \n",
      " 39  region                  5260 non-null   object \n",
      " 40  subregion               5260 non-null   object \n",
      " 41  num_quotes              5260 non-null   int64  \n",
      " 42  num_replies             5260 non-null   int64  \n",
      " 43  num_retweets            5260 non-null   int64  \n",
      " 44  sent_gpt                5260 non-null   object \n",
      " 45  gpt_sent_presence       5260 non-null   int64  \n",
      " 46  cleaned_text_lem        5260 non-null   object \n",
      " 47  cleaned_text            5260 non-null   object \n",
      " 48  month                   5260 non-null   int64  \n",
      " 49  year                    5260 non-null   int64  \n",
      " 50  week                    5260 non-null   int64  \n",
      " 51  year_month              5260 non-null   object \n",
      " 52  year_week               5260 non-null   object \n",
      "dtypes: bool(5), float64(11), int64(15), object(22)\n",
      "memory usage: 2.0+ MB\n"
     ]
    }
   ],
   "source": [
    "# Get monthly data\n",
    "df_2014_03_neu = pd.read_csv('../data/local/df_neu_2014-03.csv').reset_index()\n",
    "df_2014_03_neu.info()"
   ]
  },
  {
   "cell_type": "markdown",
   "id": "4d3ac3e5",
   "metadata": {},
   "source": [
    "### Representative sample based on week and location"
   ]
  },
  {
   "cell_type": "code",
   "execution_count": 35,
   "id": "e554652f",
   "metadata": {},
   "outputs": [
    {
     "data": {
      "text/html": [
       "<div>\n",
       "<style scoped>\n",
       "    .dataframe tbody tr th:only-of-type {\n",
       "        vertical-align: middle;\n",
       "    }\n",
       "\n",
       "    .dataframe tbody tr th {\n",
       "        vertical-align: top;\n",
       "    }\n",
       "\n",
       "    .dataframe thead th {\n",
       "        text-align: right;\n",
       "    }\n",
       "</style>\n",
       "<table border=\"1\" class=\"dataframe\">\n",
       "  <thead>\n",
       "    <tr style=\"text-align: right;\">\n",
       "      <th></th>\n",
       "      <th>year_week</th>\n",
       "      <th>LocationName</th>\n",
       "      <th>group_size</th>\n",
       "      <th>proportion</th>\n",
       "    </tr>\n",
       "  </thead>\n",
       "  <tbody>\n",
       "    <tr>\n",
       "      <th>0</th>\n",
       "      <td>2014-w09</td>\n",
       "      <td>Acre</td>\n",
       "      <td>1</td>\n",
       "      <td>0.000190</td>\n",
       "    </tr>\n",
       "    <tr>\n",
       "      <th>1</th>\n",
       "      <td>2014-w09</td>\n",
       "      <td>Alagoas</td>\n",
       "      <td>9</td>\n",
       "      <td>0.001711</td>\n",
       "    </tr>\n",
       "    <tr>\n",
       "      <th>2</th>\n",
       "      <td>2014-w09</td>\n",
       "      <td>Amapa</td>\n",
       "      <td>2</td>\n",
       "      <td>0.000380</td>\n",
       "    </tr>\n",
       "    <tr>\n",
       "      <th>3</th>\n",
       "      <td>2014-w09</td>\n",
       "      <td>Amazonas</td>\n",
       "      <td>5</td>\n",
       "      <td>0.000951</td>\n",
       "    </tr>\n",
       "    <tr>\n",
       "      <th>4</th>\n",
       "      <td>2014-w09</td>\n",
       "      <td>Bahia</td>\n",
       "      <td>19</td>\n",
       "      <td>0.003612</td>\n",
       "    </tr>\n",
       "    <tr>\n",
       "      <th>...</th>\n",
       "      <td>...</td>\n",
       "      <td>...</td>\n",
       "      <td>...</td>\n",
       "      <td>...</td>\n",
       "    </tr>\n",
       "    <tr>\n",
       "      <th>111</th>\n",
       "      <td>2014-w13</td>\n",
       "      <td>Roraima</td>\n",
       "      <td>5</td>\n",
       "      <td>0.000951</td>\n",
       "    </tr>\n",
       "    <tr>\n",
       "      <th>112</th>\n",
       "      <td>2014-w13</td>\n",
       "      <td>Santa Catarina</td>\n",
       "      <td>28</td>\n",
       "      <td>0.005323</td>\n",
       "    </tr>\n",
       "    <tr>\n",
       "      <th>113</th>\n",
       "      <td>2014-w13</td>\n",
       "      <td>Sao Paulo</td>\n",
       "      <td>155</td>\n",
       "      <td>0.029468</td>\n",
       "    </tr>\n",
       "    <tr>\n",
       "      <th>114</th>\n",
       "      <td>2014-w13</td>\n",
       "      <td>Sergipe</td>\n",
       "      <td>4</td>\n",
       "      <td>0.000760</td>\n",
       "    </tr>\n",
       "    <tr>\n",
       "      <th>115</th>\n",
       "      <td>2014-w13</td>\n",
       "      <td>Tocantins</td>\n",
       "      <td>1</td>\n",
       "      <td>0.000190</td>\n",
       "    </tr>\n",
       "  </tbody>\n",
       "</table>\n",
       "<p>116 rows × 4 columns</p>\n",
       "</div>"
      ],
      "text/plain": [
       "    year_week    LocationName  group_size  proportion\n",
       "0    2014-w09            Acre           1    0.000190\n",
       "1    2014-w09         Alagoas           9    0.001711\n",
       "2    2014-w09           Amapa           2    0.000380\n",
       "3    2014-w09        Amazonas           5    0.000951\n",
       "4    2014-w09           Bahia          19    0.003612\n",
       "..        ...             ...         ...         ...\n",
       "111  2014-w13         Roraima           5    0.000951\n",
       "112  2014-w13  Santa Catarina          28    0.005323\n",
       "113  2014-w13       Sao Paulo         155    0.029468\n",
       "114  2014-w13         Sergipe           4    0.000760\n",
       "115  2014-w13       Tocantins           1    0.000190\n",
       "\n",
       "[116 rows x 4 columns]"
      ]
     },
     "execution_count": 35,
     "metadata": {},
     "output_type": "execute_result"
    }
   ],
   "source": [
    "# Step 1: Calculate the size of each group (year_week, LocationName)\n",
    "group_sizes = df_2014_03_neu.groupby(['year_week', 'LocationName']).size().reset_index(name='group_size')\n",
    "\n",
    "# Step 2: Calculate the proportion of each group in the dataset\n",
    "total_rows = len(df_2014_03_neu)\n",
    "group_sizes['proportion'] = group_sizes['group_size'] / total_rows\n",
    "group_sizes"
   ]
  },
  {
   "cell_type": "code",
   "execution_count": 36,
   "id": "6e3c8a8a",
   "metadata": {},
   "outputs": [
    {
     "data": {
      "text/html": [
       "<div>\n",
       "<style scoped>\n",
       "    .dataframe tbody tr th:only-of-type {\n",
       "        vertical-align: middle;\n",
       "    }\n",
       "\n",
       "    .dataframe tbody tr th {\n",
       "        vertical-align: top;\n",
       "    }\n",
       "\n",
       "    .dataframe thead th {\n",
       "        text-align: right;\n",
       "    }\n",
       "</style>\n",
       "<table border=\"1\" class=\"dataframe\">\n",
       "  <thead>\n",
       "    <tr style=\"text-align: right;\">\n",
       "      <th></th>\n",
       "      <th>year_week</th>\n",
       "      <th>LocationName</th>\n",
       "      <th>group_size</th>\n",
       "      <th>proportion</th>\n",
       "      <th>sample_size</th>\n",
       "    </tr>\n",
       "  </thead>\n",
       "  <tbody>\n",
       "    <tr>\n",
       "      <th>0</th>\n",
       "      <td>2014-w09</td>\n",
       "      <td>Acre</td>\n",
       "      <td>1</td>\n",
       "      <td>0.000190</td>\n",
       "      <td>0</td>\n",
       "    </tr>\n",
       "    <tr>\n",
       "      <th>1</th>\n",
       "      <td>2014-w09</td>\n",
       "      <td>Alagoas</td>\n",
       "      <td>9</td>\n",
       "      <td>0.001711</td>\n",
       "      <td>4</td>\n",
       "    </tr>\n",
       "    <tr>\n",
       "      <th>2</th>\n",
       "      <td>2014-w09</td>\n",
       "      <td>Amapa</td>\n",
       "      <td>2</td>\n",
       "      <td>0.000380</td>\n",
       "      <td>0</td>\n",
       "    </tr>\n",
       "    <tr>\n",
       "      <th>3</th>\n",
       "      <td>2014-w09</td>\n",
       "      <td>Amazonas</td>\n",
       "      <td>5</td>\n",
       "      <td>0.000951</td>\n",
       "      <td>2</td>\n",
       "    </tr>\n",
       "    <tr>\n",
       "      <th>4</th>\n",
       "      <td>2014-w09</td>\n",
       "      <td>Bahia</td>\n",
       "      <td>19</td>\n",
       "      <td>0.003612</td>\n",
       "      <td>8</td>\n",
       "    </tr>\n",
       "    <tr>\n",
       "      <th>...</th>\n",
       "      <td>...</td>\n",
       "      <td>...</td>\n",
       "      <td>...</td>\n",
       "      <td>...</td>\n",
       "      <td>...</td>\n",
       "    </tr>\n",
       "    <tr>\n",
       "      <th>111</th>\n",
       "      <td>2014-w13</td>\n",
       "      <td>Roraima</td>\n",
       "      <td>5</td>\n",
       "      <td>0.000951</td>\n",
       "      <td>2</td>\n",
       "    </tr>\n",
       "    <tr>\n",
       "      <th>112</th>\n",
       "      <td>2014-w13</td>\n",
       "      <td>Santa Catarina</td>\n",
       "      <td>28</td>\n",
       "      <td>0.005323</td>\n",
       "      <td>13</td>\n",
       "    </tr>\n",
       "    <tr>\n",
       "      <th>113</th>\n",
       "      <td>2014-w13</td>\n",
       "      <td>Sao Paulo</td>\n",
       "      <td>155</td>\n",
       "      <td>0.029468</td>\n",
       "      <td>72</td>\n",
       "    </tr>\n",
       "    <tr>\n",
       "      <th>114</th>\n",
       "      <td>2014-w13</td>\n",
       "      <td>Sergipe</td>\n",
       "      <td>4</td>\n",
       "      <td>0.000760</td>\n",
       "      <td>1</td>\n",
       "    </tr>\n",
       "    <tr>\n",
       "      <th>115</th>\n",
       "      <td>2014-w13</td>\n",
       "      <td>Tocantins</td>\n",
       "      <td>1</td>\n",
       "      <td>0.000190</td>\n",
       "      <td>0</td>\n",
       "    </tr>\n",
       "  </tbody>\n",
       "</table>\n",
       "<p>116 rows × 5 columns</p>\n",
       "</div>"
      ],
      "text/plain": [
       "    year_week    LocationName  group_size  proportion  sample_size\n",
       "0    2014-w09            Acre           1    0.000190            0\n",
       "1    2014-w09         Alagoas           9    0.001711            4\n",
       "2    2014-w09           Amapa           2    0.000380            0\n",
       "3    2014-w09        Amazonas           5    0.000951            2\n",
       "4    2014-w09           Bahia          19    0.003612            8\n",
       "..        ...             ...         ...         ...          ...\n",
       "111  2014-w13         Roraima           5    0.000951            2\n",
       "112  2014-w13  Santa Catarina          28    0.005323           13\n",
       "113  2014-w13       Sao Paulo         155    0.029468           72\n",
       "114  2014-w13         Sergipe           4    0.000760            1\n",
       "115  2014-w13       Tocantins           1    0.000190            0\n",
       "\n",
       "[116 rows x 5 columns]"
      ]
     },
     "execution_count": 36,
     "metadata": {},
     "output_type": "execute_result"
    }
   ],
   "source": [
    "# Step 3: Define the target sample size\n",
    "target_sample_size = 2450\n",
    "\n",
    "# Step 4: Calculate the sample size for each group (based on its proportion)\n",
    "group_sizes['sample_size'] = np.floor(group_sizes['proportion'] * target_sample_size).astype(int)\n",
    "group_sizes"
   ]
  },
  {
   "cell_type": "code",
   "execution_count": 37,
   "id": "3199567d",
   "metadata": {},
   "outputs": [],
   "source": [
    "# Step 5: Merge this sample size information back to the original DataFrame\n",
    "df_2014_03_neu_sample_size = pd.merge(df_2014_03_neu, group_sizes[['year_week', 'LocationName', 'sample_size']], \n",
    "                               on=['year_week', 'LocationName'], how='left')"
   ]
  },
  {
   "cell_type": "code",
   "execution_count": 38,
   "id": "85bda885",
   "metadata": {},
   "outputs": [
    {
     "name": "stdout",
     "output_type": "stream",
     "text": [
      "Sampled 2382 rows.\n"
     ]
    }
   ],
   "source": [
    "# Step 6: Perform the stratified sampling\n",
    "df_2014_03_neu_sample = df_2014_03_neu_sample_size.groupby(['year_week', 'LocationName']).apply(\n",
    "    lambda group: group.sample(n=group['sample_size'].iloc[0], random_state=42)\n",
    ").reset_index(drop=True)\n",
    "\n",
    "# Step 7: Check the result\n",
    "print(f\"Sampled {len(df_2014_03_neu_sample)} rows.\")\n"
   ]
  },
  {
   "cell_type": "code",
   "execution_count": 39,
   "id": "f3fa81a3",
   "metadata": {},
   "outputs": [],
   "source": [
    "text_gpt_2014_03_neu = '\\n'.join(df_2014_03_neu_sample['text'].astype(str))"
   ]
  },
  {
   "cell_type": "markdown",
   "id": "8667813b",
   "metadata": {},
   "source": [
    "### Prompts and loops"
   ]
  },
  {
   "cell_type": "code",
   "execution_count": 40,
   "id": "eacb83af",
   "metadata": {},
   "outputs": [],
   "source": [
    "prompt_3 = prompt_raw.replace('TWEETS', text_gpt_2014_03_neu)"
   ]
  },
  {
   "cell_type": "code",
   "execution_count": 41,
   "id": "f0d6fe7e",
   "metadata": {
    "scrolled": false
   },
   "outputs": [],
   "source": [
    "response = openai.ChatCompletion.create(\n",
    "    model=\"gpt-4o-mini\",  \n",
    "    messages = [\n",
    "        {\"role\": \"user\", \"content\": prompt_3}\n",
    "    ],\n",
    "    max_tokens=400,  # Maximum number of tokens in the response\n",
    "    temperature=0.7  # Controls the randomness of the output\n",
    ")"
   ]
  },
  {
   "cell_type": "code",
   "execution_count": 42,
   "id": "df41b84e",
   "metadata": {},
   "outputs": [
    {
     "data": {
      "text/plain": [
       "'The upcoming vaccination campaign against HPV (Human Papillomavirus) will start next week for girls aged 11 to 13 across Brazil. The initiative aims to prevent cervical cancer and is part of the national health program. However, the vaccine has sparked controversy and divided opinions among parents and healthcare professionals regarding its necessity and safety.'"
      ]
     },
     "execution_count": 42,
     "metadata": {},
     "output_type": "execute_result"
    }
   ],
   "source": [
    "response.choices[0].message.content"
   ]
  },
  {
   "cell_type": "code",
   "execution_count": 43,
   "id": "ef274df0",
   "metadata": {},
   "outputs": [],
   "source": [
    "#summary = []\n",
    "#dataset = []"
   ]
  },
  {
   "cell_type": "code",
   "execution_count": 44,
   "id": "457a283a",
   "metadata": {},
   "outputs": [],
   "source": [
    "dataset.append(\"2014_03_neutral\")"
   ]
  },
  {
   "cell_type": "code",
   "execution_count": 45,
   "id": "fe793b75",
   "metadata": {},
   "outputs": [],
   "source": [
    "summary.append(response.choices[0].message.content)"
   ]
  },
  {
   "cell_type": "code",
   "execution_count": 46,
   "id": "98f918a7",
   "metadata": {
    "tags": []
   },
   "outputs": [
    {
     "name": "stdout",
     "output_type": "stream",
     "text": [
      "<class 'pandas.core.frame.DataFrame'>\n",
      "RangeIndex: 3 entries, 0 to 2\n",
      "Data columns (total 2 columns):\n",
      " #   Column   Non-Null Count  Dtype \n",
      "---  ------   --------------  ----- \n",
      " 0   dataset  3 non-null      object\n",
      " 1   summary  3 non-null      object\n",
      "dtypes: object(2)\n",
      "memory usage: 176.0+ bytes\n"
     ]
    }
   ],
   "source": [
    "df_2014_neu = pd.DataFrame(list(zip(dataset, summary)),\n",
    "                            columns = ['dataset', 'summary'])\n",
    "df_2014_neu.info()"
   ]
  },
  {
   "cell_type": "code",
   "execution_count": 47,
   "id": "33094c65",
   "metadata": {},
   "outputs": [
    {
     "data": {
      "text/html": [
       "<div>\n",
       "<style scoped>\n",
       "    .dataframe tbody tr th:only-of-type {\n",
       "        vertical-align: middle;\n",
       "    }\n",
       "\n",
       "    .dataframe tbody tr th {\n",
       "        vertical-align: top;\n",
       "    }\n",
       "\n",
       "    .dataframe thead th {\n",
       "        text-align: right;\n",
       "    }\n",
       "</style>\n",
       "<table border=\"1\" class=\"dataframe\">\n",
       "  <thead>\n",
       "    <tr style=\"text-align: right;\">\n",
       "      <th></th>\n",
       "      <th>dataset</th>\n",
       "      <th>summary</th>\n",
       "    </tr>\n",
       "  </thead>\n",
       "  <tbody>\n",
       "    <tr>\n",
       "      <th>0</th>\n",
       "      <td>2014_01_neutral</td>\n",
       "      <td>The text discusses various aspects of vaccinat...</td>\n",
       "    </tr>\n",
       "    <tr>\n",
       "      <th>1</th>\n",
       "      <td>2014_02_neutral</td>\n",
       "      <td>The text discusses various vaccination campaig...</td>\n",
       "    </tr>\n",
       "    <tr>\n",
       "      <th>2</th>\n",
       "      <td>2014_03_neutral</td>\n",
       "      <td>The upcoming vaccination campaign against HPV ...</td>\n",
       "    </tr>\n",
       "  </tbody>\n",
       "</table>\n",
       "</div>"
      ],
      "text/plain": [
       "           dataset                                            summary\n",
       "0  2014_01_neutral  The text discusses various aspects of vaccinat...\n",
       "1  2014_02_neutral  The text discusses various vaccination campaig...\n",
       "2  2014_03_neutral  The upcoming vaccination campaign against HPV ..."
      ]
     },
     "execution_count": 47,
     "metadata": {},
     "output_type": "execute_result"
    }
   ],
   "source": [
    "df_2014_neu.tail(14)"
   ]
  },
  {
   "cell_type": "code",
   "execution_count": 48,
   "id": "786d137a",
   "metadata": {},
   "outputs": [
    {
     "data": {
      "text/plain": [
       "<OpenAIObject chat.completion id=chatcmpl-AUdGaYklB0DVBhq8C8yTPlnGBvIv3 at 0x1263d8e7450> JSON: {\n",
       "  \"choices\": [\n",
       "    {\n",
       "      \"finish_reason\": \"stop\",\n",
       "      \"index\": 0,\n",
       "      \"logprobs\": null,\n",
       "      \"message\": {\n",
       "        \"content\": \"The upcoming vaccination campaign against HPV (Human Papillomavirus) will start next week for girls aged 11 to 13 across Brazil. The initiative aims to prevent cervical cancer and is part of the national health program. However, the vaccine has sparked controversy and divided opinions among parents and healthcare professionals regarding its necessity and safety.\",\n",
       "        \"refusal\": null,\n",
       "        \"role\": \"assistant\"\n",
       "      }\n",
       "    }\n",
       "  ],\n",
       "  \"created\": 1731864144,\n",
       "  \"id\": \"chatcmpl-AUdGaYklB0DVBhq8C8yTPlnGBvIv3\",\n",
       "  \"model\": \"gpt-4o-mini-2024-07-18\",\n",
       "  \"object\": \"chat.completion\",\n",
       "  \"system_fingerprint\": \"fp_0ba0d124f1\",\n",
       "  \"usage\": {\n",
       "    \"completion_tokens\": 65,\n",
       "    \"completion_tokens_details\": {\n",
       "      \"accepted_prediction_tokens\": 0,\n",
       "      \"audio_tokens\": 0,\n",
       "      \"reasoning_tokens\": 0,\n",
       "      \"rejected_prediction_tokens\": 0\n",
       "    },\n",
       "    \"prompt_tokens\": 48344,\n",
       "    \"prompt_tokens_details\": {\n",
       "      \"audio_tokens\": 0,\n",
       "      \"cached_tokens\": 0\n",
       "    },\n",
       "    \"total_tokens\": 48409\n",
       "  }\n",
       "}"
      ]
     },
     "execution_count": 48,
     "metadata": {},
     "output_type": "execute_result"
    }
   ],
   "source": [
    "response"
   ]
  },
  {
   "cell_type": "markdown",
   "id": "831ae281",
   "metadata": {},
   "source": [
    "## April"
   ]
  },
  {
   "cell_type": "code",
   "execution_count": 49,
   "id": "27f75754",
   "metadata": {
    "scrolled": true,
    "tags": []
   },
   "outputs": [
    {
     "name": "stdout",
     "output_type": "stream",
     "text": [
      "<class 'pandas.core.frame.DataFrame'>\n",
      "RangeIndex: 5838 entries, 0 to 5837\n",
      "Data columns (total 53 columns):\n",
      " #   Column                  Non-Null Count  Dtype  \n",
      "---  ------                  --------------  -----  \n",
      " 0   index                   5838 non-null   int64  \n",
      " 1   LocationCode            5838 non-null   object \n",
      " 2   LocationName            5838 non-null   object \n",
      " 3   StatesCode              5838 non-null   object \n",
      " 4   ...4                    5838 non-null   int64  \n",
      " 5   id                      5838 non-null   float64\n",
      " 6   text                    5838 non-null   object \n",
      " 7   label                   5838 non-null   object \n",
      " 8   in_reply_to_status_id   219 non-null    float64\n",
      " 9   in_reply_to_user_id     259 non-null    float64\n",
      " 10  quoted_user_id          0 non-null      float64\n",
      " 11  quoted_status_id        0 non-null      float64\n",
      " 12  retweeted_user_id       787 non-null    float64\n",
      " 13  retweeted_status_id     787 non-null    float64\n",
      " 14  created_at              5838 non-null   object \n",
      " 15  entities.user_mentions  1394 non-null   object \n",
      " 16  user.id                 5838 non-null   int64  \n",
      " 17  user.screen_name        5838 non-null   object \n",
      " 18  user.name               5834 non-null   object \n",
      " 19  user.description        5144 non-null   object \n",
      " 20  user.timezone           0 non-null      float64\n",
      " 21  user.location           5806 non-null   object \n",
      " 22  user.num_followers      5838 non-null   int64  \n",
      " 23  user.num_following      5838 non-null   int64  \n",
      " 24  user.created_at         5838 non-null   object \n",
      " 25  user.statuses_count     5838 non-null   int64  \n",
      " 26  user.is_verified        5838 non-null   bool   \n",
      " 27  lang                    5838 non-null   object \n",
      " 28  token_count             5838 non-null   int64  \n",
      " 29  is_retweet              5838 non-null   bool   \n",
      " 30  has_quote               5838 non-null   bool   \n",
      " 31  is_reply                5838 non-null   bool   \n",
      " 32  contains_keywords       5838 non-null   bool   \n",
      " 33  longitude               5838 non-null   float64\n",
      " 34  latitude                5838 non-null   float64\n",
      " 35  country_code            5838 non-null   object \n",
      " 36  geoname_id              5715 non-null   float64\n",
      " 37  location_type           5838 non-null   object \n",
      " 38  geo_type                5838 non-null   int64  \n",
      " 39  region                  5838 non-null   object \n",
      " 40  subregion               5838 non-null   object \n",
      " 41  num_quotes              5838 non-null   int64  \n",
      " 42  num_replies             5838 non-null   int64  \n",
      " 43  num_retweets            5838 non-null   int64  \n",
      " 44  sent_gpt                5838 non-null   object \n",
      " 45  gpt_sent_presence       5838 non-null   int64  \n",
      " 46  cleaned_text_lem        5838 non-null   object \n",
      " 47  cleaned_text            5838 non-null   object \n",
      " 48  month                   5838 non-null   int64  \n",
      " 49  year                    5838 non-null   int64  \n",
      " 50  week                    5838 non-null   int64  \n",
      " 51  year_month              5838 non-null   object \n",
      " 52  year_week               5838 non-null   object \n",
      "dtypes: bool(5), float64(11), int64(15), object(22)\n",
      "memory usage: 2.2+ MB\n"
     ]
    }
   ],
   "source": [
    "# Get monthly data\n",
    "df_2014_04_neu = pd.read_csv('../data/local/df_neu_2014-04.csv').reset_index()\n",
    "df_2014_04_neu.info()"
   ]
  },
  {
   "cell_type": "markdown",
   "id": "26e58f5c",
   "metadata": {},
   "source": [
    "### Representative sample based on week and location"
   ]
  },
  {
   "cell_type": "code",
   "execution_count": 50,
   "id": "220978bb",
   "metadata": {},
   "outputs": [
    {
     "data": {
      "text/html": [
       "<div>\n",
       "<style scoped>\n",
       "    .dataframe tbody tr th:only-of-type {\n",
       "        vertical-align: middle;\n",
       "    }\n",
       "\n",
       "    .dataframe tbody tr th {\n",
       "        vertical-align: top;\n",
       "    }\n",
       "\n",
       "    .dataframe thead th {\n",
       "        text-align: right;\n",
       "    }\n",
       "</style>\n",
       "<table border=\"1\" class=\"dataframe\">\n",
       "  <thead>\n",
       "    <tr style=\"text-align: right;\">\n",
       "      <th></th>\n",
       "      <th>year_week</th>\n",
       "      <th>LocationName</th>\n",
       "      <th>group_size</th>\n",
       "      <th>proportion</th>\n",
       "    </tr>\n",
       "  </thead>\n",
       "  <tbody>\n",
       "    <tr>\n",
       "      <th>0</th>\n",
       "      <td>2014-w13</td>\n",
       "      <td>Alagoas</td>\n",
       "      <td>8</td>\n",
       "      <td>0.001370</td>\n",
       "    </tr>\n",
       "    <tr>\n",
       "      <th>1</th>\n",
       "      <td>2014-w13</td>\n",
       "      <td>Amapa</td>\n",
       "      <td>1</td>\n",
       "      <td>0.000171</td>\n",
       "    </tr>\n",
       "    <tr>\n",
       "      <th>2</th>\n",
       "      <td>2014-w13</td>\n",
       "      <td>Amazonas</td>\n",
       "      <td>1</td>\n",
       "      <td>0.000171</td>\n",
       "    </tr>\n",
       "    <tr>\n",
       "      <th>3</th>\n",
       "      <td>2014-w13</td>\n",
       "      <td>Bahia</td>\n",
       "      <td>17</td>\n",
       "      <td>0.002912</td>\n",
       "    </tr>\n",
       "    <tr>\n",
       "      <th>4</th>\n",
       "      <td>2014-w13</td>\n",
       "      <td>Ceara</td>\n",
       "      <td>5</td>\n",
       "      <td>0.000856</td>\n",
       "    </tr>\n",
       "    <tr>\n",
       "      <th>...</th>\n",
       "      <td>...</td>\n",
       "      <td>...</td>\n",
       "      <td>...</td>\n",
       "      <td>...</td>\n",
       "    </tr>\n",
       "    <tr>\n",
       "      <th>137</th>\n",
       "      <td>2014-w18</td>\n",
       "      <td>Pernambuco</td>\n",
       "      <td>12</td>\n",
       "      <td>0.002055</td>\n",
       "    </tr>\n",
       "    <tr>\n",
       "      <th>138</th>\n",
       "      <td>2014-w18</td>\n",
       "      <td>Rio Grande Do Sul</td>\n",
       "      <td>35</td>\n",
       "      <td>0.005995</td>\n",
       "    </tr>\n",
       "    <tr>\n",
       "      <th>139</th>\n",
       "      <td>2014-w18</td>\n",
       "      <td>Santa Catarina</td>\n",
       "      <td>6</td>\n",
       "      <td>0.001028</td>\n",
       "    </tr>\n",
       "    <tr>\n",
       "      <th>140</th>\n",
       "      <td>2014-w18</td>\n",
       "      <td>Sao Paulo</td>\n",
       "      <td>30</td>\n",
       "      <td>0.005139</td>\n",
       "    </tr>\n",
       "    <tr>\n",
       "      <th>141</th>\n",
       "      <td>2014-w18</td>\n",
       "      <td>Sergipe</td>\n",
       "      <td>3</td>\n",
       "      <td>0.000514</td>\n",
       "    </tr>\n",
       "  </tbody>\n",
       "</table>\n",
       "<p>142 rows × 4 columns</p>\n",
       "</div>"
      ],
      "text/plain": [
       "    year_week       LocationName  group_size  proportion\n",
       "0    2014-w13            Alagoas           8    0.001370\n",
       "1    2014-w13              Amapa           1    0.000171\n",
       "2    2014-w13           Amazonas           1    0.000171\n",
       "3    2014-w13              Bahia          17    0.002912\n",
       "4    2014-w13              Ceara           5    0.000856\n",
       "..        ...                ...         ...         ...\n",
       "137  2014-w18         Pernambuco          12    0.002055\n",
       "138  2014-w18  Rio Grande Do Sul          35    0.005995\n",
       "139  2014-w18     Santa Catarina           6    0.001028\n",
       "140  2014-w18          Sao Paulo          30    0.005139\n",
       "141  2014-w18            Sergipe           3    0.000514\n",
       "\n",
       "[142 rows x 4 columns]"
      ]
     },
     "execution_count": 50,
     "metadata": {},
     "output_type": "execute_result"
    }
   ],
   "source": [
    "# Step 1: Calculate the size of each group (year_week, LocationName)\n",
    "group_sizes = df_2014_04_neu.groupby(['year_week', 'LocationName']).size().reset_index(name='group_size')\n",
    "\n",
    "# Step 2: Calculate the proportion of each group in the dataset\n",
    "total_rows = len(df_2014_04_neu)\n",
    "group_sizes['proportion'] = group_sizes['group_size'] / total_rows\n",
    "group_sizes"
   ]
  },
  {
   "cell_type": "code",
   "execution_count": 51,
   "id": "f2d52380",
   "metadata": {},
   "outputs": [
    {
     "data": {
      "text/html": [
       "<div>\n",
       "<style scoped>\n",
       "    .dataframe tbody tr th:only-of-type {\n",
       "        vertical-align: middle;\n",
       "    }\n",
       "\n",
       "    .dataframe tbody tr th {\n",
       "        vertical-align: top;\n",
       "    }\n",
       "\n",
       "    .dataframe thead th {\n",
       "        text-align: right;\n",
       "    }\n",
       "</style>\n",
       "<table border=\"1\" class=\"dataframe\">\n",
       "  <thead>\n",
       "    <tr style=\"text-align: right;\">\n",
       "      <th></th>\n",
       "      <th>year_week</th>\n",
       "      <th>LocationName</th>\n",
       "      <th>group_size</th>\n",
       "      <th>proportion</th>\n",
       "      <th>sample_size</th>\n",
       "    </tr>\n",
       "  </thead>\n",
       "  <tbody>\n",
       "    <tr>\n",
       "      <th>0</th>\n",
       "      <td>2014-w13</td>\n",
       "      <td>Alagoas</td>\n",
       "      <td>8</td>\n",
       "      <td>0.001370</td>\n",
       "      <td>3</td>\n",
       "    </tr>\n",
       "    <tr>\n",
       "      <th>1</th>\n",
       "      <td>2014-w13</td>\n",
       "      <td>Amapa</td>\n",
       "      <td>1</td>\n",
       "      <td>0.000171</td>\n",
       "      <td>0</td>\n",
       "    </tr>\n",
       "    <tr>\n",
       "      <th>2</th>\n",
       "      <td>2014-w13</td>\n",
       "      <td>Amazonas</td>\n",
       "      <td>1</td>\n",
       "      <td>0.000171</td>\n",
       "      <td>0</td>\n",
       "    </tr>\n",
       "    <tr>\n",
       "      <th>3</th>\n",
       "      <td>2014-w13</td>\n",
       "      <td>Bahia</td>\n",
       "      <td>17</td>\n",
       "      <td>0.002912</td>\n",
       "      <td>7</td>\n",
       "    </tr>\n",
       "    <tr>\n",
       "      <th>4</th>\n",
       "      <td>2014-w13</td>\n",
       "      <td>Ceara</td>\n",
       "      <td>5</td>\n",
       "      <td>0.000856</td>\n",
       "      <td>2</td>\n",
       "    </tr>\n",
       "    <tr>\n",
       "      <th>...</th>\n",
       "      <td>...</td>\n",
       "      <td>...</td>\n",
       "      <td>...</td>\n",
       "      <td>...</td>\n",
       "      <td>...</td>\n",
       "    </tr>\n",
       "    <tr>\n",
       "      <th>137</th>\n",
       "      <td>2014-w18</td>\n",
       "      <td>Pernambuco</td>\n",
       "      <td>12</td>\n",
       "      <td>0.002055</td>\n",
       "      <td>5</td>\n",
       "    </tr>\n",
       "    <tr>\n",
       "      <th>138</th>\n",
       "      <td>2014-w18</td>\n",
       "      <td>Rio Grande Do Sul</td>\n",
       "      <td>35</td>\n",
       "      <td>0.005995</td>\n",
       "      <td>14</td>\n",
       "    </tr>\n",
       "    <tr>\n",
       "      <th>139</th>\n",
       "      <td>2014-w18</td>\n",
       "      <td>Santa Catarina</td>\n",
       "      <td>6</td>\n",
       "      <td>0.001028</td>\n",
       "      <td>2</td>\n",
       "    </tr>\n",
       "    <tr>\n",
       "      <th>140</th>\n",
       "      <td>2014-w18</td>\n",
       "      <td>Sao Paulo</td>\n",
       "      <td>30</td>\n",
       "      <td>0.005139</td>\n",
       "      <td>12</td>\n",
       "    </tr>\n",
       "    <tr>\n",
       "      <th>141</th>\n",
       "      <td>2014-w18</td>\n",
       "      <td>Sergipe</td>\n",
       "      <td>3</td>\n",
       "      <td>0.000514</td>\n",
       "      <td>1</td>\n",
       "    </tr>\n",
       "  </tbody>\n",
       "</table>\n",
       "<p>142 rows × 5 columns</p>\n",
       "</div>"
      ],
      "text/plain": [
       "    year_week       LocationName  group_size  proportion  sample_size\n",
       "0    2014-w13            Alagoas           8    0.001370            3\n",
       "1    2014-w13              Amapa           1    0.000171            0\n",
       "2    2014-w13           Amazonas           1    0.000171            0\n",
       "3    2014-w13              Bahia          17    0.002912            7\n",
       "4    2014-w13              Ceara           5    0.000856            2\n",
       "..        ...                ...         ...         ...          ...\n",
       "137  2014-w18         Pernambuco          12    0.002055            5\n",
       "138  2014-w18  Rio Grande Do Sul          35    0.005995           14\n",
       "139  2014-w18     Santa Catarina           6    0.001028            2\n",
       "140  2014-w18          Sao Paulo          30    0.005139           12\n",
       "141  2014-w18            Sergipe           3    0.000514            1\n",
       "\n",
       "[142 rows x 5 columns]"
      ]
     },
     "execution_count": 51,
     "metadata": {},
     "output_type": "execute_result"
    }
   ],
   "source": [
    "# Step 3: Define the target sample size\n",
    "target_sample_size = 2450\n",
    "\n",
    "# Step 4: Calculate the sample size for each group (based on its proportion)\n",
    "group_sizes['sample_size'] = np.floor(group_sizes['proportion'] * target_sample_size).astype(int)\n",
    "group_sizes"
   ]
  },
  {
   "cell_type": "code",
   "execution_count": 52,
   "id": "e3186670",
   "metadata": {},
   "outputs": [],
   "source": [
    "# Step 5: Merge this sample size information back to the original DataFrame\n",
    "df_2014_04_neu_sample_size = pd.merge(df_2014_04_neu, group_sizes[['year_week', 'LocationName', 'sample_size']], \n",
    "                               on=['year_week', 'LocationName'], how='left')"
   ]
  },
  {
   "cell_type": "code",
   "execution_count": 53,
   "id": "da623d38",
   "metadata": {},
   "outputs": [
    {
     "name": "stdout",
     "output_type": "stream",
     "text": [
      "Sampled 2377 rows.\n"
     ]
    }
   ],
   "source": [
    "# Step 6: Perform the stratified sampling\n",
    "df_2014_04_neu_sample = df_2014_04_neu_sample_size.groupby(['year_week', 'LocationName']).apply(\n",
    "    lambda group: group.sample(n=group['sample_size'].iloc[0], random_state=42)\n",
    ").reset_index(drop=True)\n",
    "\n",
    "# Step 7: Check the result\n",
    "print(f\"Sampled {len(df_2014_04_neu_sample)} rows.\")\n"
   ]
  },
  {
   "cell_type": "code",
   "execution_count": 54,
   "id": "06886cfb",
   "metadata": {},
   "outputs": [],
   "source": [
    "text_gpt_2014_04_neu = '\\n'.join(df_2014_04_neu_sample['text'].astype(str))"
   ]
  },
  {
   "cell_type": "markdown",
   "id": "20cd54a3",
   "metadata": {},
   "source": [
    "### Prompts and loops"
   ]
  },
  {
   "cell_type": "code",
   "execution_count": 55,
   "id": "1e5908cc",
   "metadata": {},
   "outputs": [],
   "source": [
    "prompt_4 = prompt_raw.replace('TWEETS', text_gpt_2014_04_neu)"
   ]
  },
  {
   "cell_type": "code",
   "execution_count": 56,
   "id": "c1948a31",
   "metadata": {
    "scrolled": false
   },
   "outputs": [],
   "source": [
    "response = openai.ChatCompletion.create(\n",
    "    model=\"gpt-4o-mini\",  \n",
    "    messages = [\n",
    "        {\"role\": \"user\", \"content\": prompt_4}\n",
    "    ],\n",
    "    max_tokens=400,  # Maximum number of tokens in the response\n",
    "    temperature=0.7  # Controls the randomness of the output\n",
    ")"
   ]
  },
  {
   "cell_type": "code",
   "execution_count": 57,
   "id": "3001d55a",
   "metadata": {},
   "outputs": [
    {
     "data": {
      "text/plain": [
       "'The provided sentences discuss various vaccination campaigns in Brazil, focusing on the HPV and flu vaccines. Key points include the ongoing vaccination efforts against HPV for girls aged 11 to 13, extension of measles vaccination campaigns, and the upcoming flu vaccination period starting April 22. Concerns about vaccine hesitancy and the importance of vaccination for public health are also mentioned. The overall tone reflects a mix of humor, urgency, and community involvement in vaccination activities.'"
      ]
     },
     "execution_count": 57,
     "metadata": {},
     "output_type": "execute_result"
    }
   ],
   "source": [
    "response.choices[0].message.content"
   ]
  },
  {
   "cell_type": "code",
   "execution_count": 58,
   "id": "9884359c",
   "metadata": {},
   "outputs": [],
   "source": [
    "#summary = []\n",
    "#dataset = []"
   ]
  },
  {
   "cell_type": "code",
   "execution_count": 59,
   "id": "75c267cd",
   "metadata": {},
   "outputs": [],
   "source": [
    "dataset.append(\"2014_04_neutral\")"
   ]
  },
  {
   "cell_type": "code",
   "execution_count": 60,
   "id": "92cc4b47",
   "metadata": {},
   "outputs": [],
   "source": [
    "summary.append(response.choices[0].message.content)"
   ]
  },
  {
   "cell_type": "code",
   "execution_count": 61,
   "id": "7f7efe9f",
   "metadata": {
    "tags": []
   },
   "outputs": [
    {
     "name": "stdout",
     "output_type": "stream",
     "text": [
      "<class 'pandas.core.frame.DataFrame'>\n",
      "RangeIndex: 4 entries, 0 to 3\n",
      "Data columns (total 2 columns):\n",
      " #   Column   Non-Null Count  Dtype \n",
      "---  ------   --------------  ----- \n",
      " 0   dataset  4 non-null      object\n",
      " 1   summary  4 non-null      object\n",
      "dtypes: object(2)\n",
      "memory usage: 192.0+ bytes\n"
     ]
    }
   ],
   "source": [
    "df_2014_neu = pd.DataFrame(list(zip(dataset, summary)),\n",
    "                            columns = ['dataset', 'summary'])\n",
    "df_2014_neu.info()"
   ]
  },
  {
   "cell_type": "code",
   "execution_count": 62,
   "id": "6fbcb530",
   "metadata": {},
   "outputs": [
    {
     "data": {
      "text/html": [
       "<div>\n",
       "<style scoped>\n",
       "    .dataframe tbody tr th:only-of-type {\n",
       "        vertical-align: middle;\n",
       "    }\n",
       "\n",
       "    .dataframe tbody tr th {\n",
       "        vertical-align: top;\n",
       "    }\n",
       "\n",
       "    .dataframe thead th {\n",
       "        text-align: right;\n",
       "    }\n",
       "</style>\n",
       "<table border=\"1\" class=\"dataframe\">\n",
       "  <thead>\n",
       "    <tr style=\"text-align: right;\">\n",
       "      <th></th>\n",
       "      <th>dataset</th>\n",
       "      <th>summary</th>\n",
       "    </tr>\n",
       "  </thead>\n",
       "  <tbody>\n",
       "    <tr>\n",
       "      <th>0</th>\n",
       "      <td>2014_01_neutral</td>\n",
       "      <td>The text discusses various aspects of vaccinat...</td>\n",
       "    </tr>\n",
       "    <tr>\n",
       "      <th>1</th>\n",
       "      <td>2014_02_neutral</td>\n",
       "      <td>The text discusses various vaccination campaig...</td>\n",
       "    </tr>\n",
       "    <tr>\n",
       "      <th>2</th>\n",
       "      <td>2014_03_neutral</td>\n",
       "      <td>The upcoming vaccination campaign against HPV ...</td>\n",
       "    </tr>\n",
       "    <tr>\n",
       "      <th>3</th>\n",
       "      <td>2014_04_neutral</td>\n",
       "      <td>The provided sentences discuss various vaccina...</td>\n",
       "    </tr>\n",
       "  </tbody>\n",
       "</table>\n",
       "</div>"
      ],
      "text/plain": [
       "           dataset                                            summary\n",
       "0  2014_01_neutral  The text discusses various aspects of vaccinat...\n",
       "1  2014_02_neutral  The text discusses various vaccination campaig...\n",
       "2  2014_03_neutral  The upcoming vaccination campaign against HPV ...\n",
       "3  2014_04_neutral  The provided sentences discuss various vaccina..."
      ]
     },
     "execution_count": 62,
     "metadata": {},
     "output_type": "execute_result"
    }
   ],
   "source": [
    "df_2014_neu.tail(14)"
   ]
  },
  {
   "cell_type": "code",
   "execution_count": 63,
   "id": "b0e25bc0",
   "metadata": {},
   "outputs": [
    {
     "data": {
      "text/plain": [
       "<OpenAIObject chat.completion id=chatcmpl-AUdGh9q3rPuIM3UDiZjeToy8CbOWf at 0x1263da55b30> JSON: {\n",
       "  \"choices\": [\n",
       "    {\n",
       "      \"finish_reason\": \"stop\",\n",
       "      \"index\": 0,\n",
       "      \"logprobs\": null,\n",
       "      \"message\": {\n",
       "        \"content\": \"The provided sentences discuss various vaccination campaigns in Brazil, focusing on the HPV and flu vaccines. Key points include the ongoing vaccination efforts against HPV for girls aged 11 to 13, extension of measles vaccination campaigns, and the upcoming flu vaccination period starting April 22. Concerns about vaccine hesitancy and the importance of vaccination for public health are also mentioned. The overall tone reflects a mix of humor, urgency, and community involvement in vaccination activities.\",\n",
       "        \"refusal\": null,\n",
       "        \"role\": \"assistant\"\n",
       "      }\n",
       "    }\n",
       "  ],\n",
       "  \"created\": 1731864151,\n",
       "  \"id\": \"chatcmpl-AUdGh9q3rPuIM3UDiZjeToy8CbOWf\",\n",
       "  \"model\": \"gpt-4o-mini-2024-07-18\",\n",
       "  \"object\": \"chat.completion\",\n",
       "  \"system_fingerprint\": \"fp_0ba0d124f1\",\n",
       "  \"usage\": {\n",
       "    \"completion_tokens\": 91,\n",
       "    \"completion_tokens_details\": {\n",
       "      \"accepted_prediction_tokens\": 0,\n",
       "      \"audio_tokens\": 0,\n",
       "      \"reasoning_tokens\": 0,\n",
       "      \"rejected_prediction_tokens\": 0\n",
       "    },\n",
       "    \"prompt_tokens\": 50404,\n",
       "    \"prompt_tokens_details\": {\n",
       "      \"audio_tokens\": 0,\n",
       "      \"cached_tokens\": 0\n",
       "    },\n",
       "    \"total_tokens\": 50495\n",
       "  }\n",
       "}"
      ]
     },
     "execution_count": 63,
     "metadata": {},
     "output_type": "execute_result"
    }
   ],
   "source": [
    "response"
   ]
  },
  {
   "cell_type": "markdown",
   "id": "06842bac",
   "metadata": {},
   "source": [
    "## May"
   ]
  },
  {
   "cell_type": "code",
   "execution_count": 64,
   "id": "fe75998a",
   "metadata": {
    "scrolled": true,
    "tags": []
   },
   "outputs": [
    {
     "name": "stdout",
     "output_type": "stream",
     "text": [
      "<class 'pandas.core.frame.DataFrame'>\n",
      "RangeIndex: 6664 entries, 0 to 6663\n",
      "Data columns (total 53 columns):\n",
      " #   Column                  Non-Null Count  Dtype  \n",
      "---  ------                  --------------  -----  \n",
      " 0   index                   6664 non-null   int64  \n",
      " 1   LocationCode            6664 non-null   object \n",
      " 2   LocationName            6664 non-null   object \n",
      " 3   StatesCode              6664 non-null   object \n",
      " 4   ...4                    6664 non-null   int64  \n",
      " 5   id                      6664 non-null   float64\n",
      " 6   text                    6664 non-null   object \n",
      " 7   label                   6664 non-null   object \n",
      " 8   in_reply_to_status_id   269 non-null    float64\n",
      " 9   in_reply_to_user_id     336 non-null    float64\n",
      " 10  quoted_user_id          0 non-null      float64\n",
      " 11  quoted_status_id        0 non-null      float64\n",
      " 12  retweeted_user_id       1422 non-null   float64\n",
      " 13  retweeted_status_id     1422 non-null   float64\n",
      " 14  created_at              6664 non-null   object \n",
      " 15  entities.user_mentions  2496 non-null   object \n",
      " 16  user.id                 6664 non-null   int64  \n",
      " 17  user.screen_name        6664 non-null   object \n",
      " 18  user.name               6628 non-null   object \n",
      " 19  user.description        5833 non-null   object \n",
      " 20  user.timezone           0 non-null      float64\n",
      " 21  user.location           6626 non-null   object \n",
      " 22  user.num_followers      6664 non-null   int64  \n",
      " 23  user.num_following      6664 non-null   int64  \n",
      " 24  user.created_at         6664 non-null   object \n",
      " 25  user.statuses_count     6664 non-null   int64  \n",
      " 26  user.is_verified        6664 non-null   bool   \n",
      " 27  lang                    6664 non-null   object \n",
      " 28  token_count             6664 non-null   int64  \n",
      " 29  is_retweet              6664 non-null   bool   \n",
      " 30  has_quote               6664 non-null   bool   \n",
      " 31  is_reply                6664 non-null   bool   \n",
      " 32  contains_keywords       6664 non-null   bool   \n",
      " 33  longitude               6664 non-null   float64\n",
      " 34  latitude                6664 non-null   float64\n",
      " 35  country_code            6664 non-null   object \n",
      " 36  geoname_id              6514 non-null   float64\n",
      " 37  location_type           6664 non-null   object \n",
      " 38  geo_type                6664 non-null   int64  \n",
      " 39  region                  6664 non-null   object \n",
      " 40  subregion               6664 non-null   object \n",
      " 41  num_quotes              6664 non-null   int64  \n",
      " 42  num_replies             6664 non-null   int64  \n",
      " 43  num_retweets            6664 non-null   int64  \n",
      " 44  sent_gpt                6664 non-null   object \n",
      " 45  gpt_sent_presence       6664 non-null   int64  \n",
      " 46  cleaned_text_lem        6664 non-null   object \n",
      " 47  cleaned_text            6664 non-null   object \n",
      " 48  month                   6664 non-null   int64  \n",
      " 49  year                    6664 non-null   int64  \n",
      " 50  week                    6664 non-null   int64  \n",
      " 51  year_month              6664 non-null   object \n",
      " 52  year_week               6664 non-null   object \n",
      "dtypes: bool(5), float64(11), int64(15), object(22)\n",
      "memory usage: 2.5+ MB\n"
     ]
    }
   ],
   "source": [
    "# Get monthly data\n",
    "df_2014_05_neu = pd.read_csv('../data/local/df_neu_2014-05.csv').reset_index()\n",
    "df_2014_05_neu.info()"
   ]
  },
  {
   "cell_type": "markdown",
   "id": "e02091c0",
   "metadata": {},
   "source": [
    "### Representative sample based on week and location"
   ]
  },
  {
   "cell_type": "code",
   "execution_count": 65,
   "id": "f961f47b",
   "metadata": {},
   "outputs": [
    {
     "data": {
      "text/html": [
       "<div>\n",
       "<style scoped>\n",
       "    .dataframe tbody tr th:only-of-type {\n",
       "        vertical-align: middle;\n",
       "    }\n",
       "\n",
       "    .dataframe tbody tr th {\n",
       "        vertical-align: top;\n",
       "    }\n",
       "\n",
       "    .dataframe thead th {\n",
       "        text-align: right;\n",
       "    }\n",
       "</style>\n",
       "<table border=\"1\" class=\"dataframe\">\n",
       "  <thead>\n",
       "    <tr style=\"text-align: right;\">\n",
       "      <th></th>\n",
       "      <th>year_week</th>\n",
       "      <th>LocationName</th>\n",
       "      <th>group_size</th>\n",
       "      <th>proportion</th>\n",
       "    </tr>\n",
       "  </thead>\n",
       "  <tbody>\n",
       "    <tr>\n",
       "      <th>0</th>\n",
       "      <td>2014-w18</td>\n",
       "      <td>Acre</td>\n",
       "      <td>12</td>\n",
       "      <td>0.001801</td>\n",
       "    </tr>\n",
       "    <tr>\n",
       "      <th>1</th>\n",
       "      <td>2014-w18</td>\n",
       "      <td>Alagoas</td>\n",
       "      <td>28</td>\n",
       "      <td>0.004202</td>\n",
       "    </tr>\n",
       "    <tr>\n",
       "      <th>2</th>\n",
       "      <td>2014-w18</td>\n",
       "      <td>Amapa</td>\n",
       "      <td>4</td>\n",
       "      <td>0.000600</td>\n",
       "    </tr>\n",
       "    <tr>\n",
       "      <th>3</th>\n",
       "      <td>2014-w18</td>\n",
       "      <td>Amazonas</td>\n",
       "      <td>32</td>\n",
       "      <td>0.004802</td>\n",
       "    </tr>\n",
       "    <tr>\n",
       "      <th>4</th>\n",
       "      <td>2014-w18</td>\n",
       "      <td>Bahia</td>\n",
       "      <td>101</td>\n",
       "      <td>0.015156</td>\n",
       "    </tr>\n",
       "    <tr>\n",
       "      <th>...</th>\n",
       "      <td>...</td>\n",
       "      <td>...</td>\n",
       "      <td>...</td>\n",
       "      <td>...</td>\n",
       "    </tr>\n",
       "    <tr>\n",
       "      <th>116</th>\n",
       "      <td>2014-w22</td>\n",
       "      <td>Rio Grande Do Sul</td>\n",
       "      <td>65</td>\n",
       "      <td>0.009754</td>\n",
       "    </tr>\n",
       "    <tr>\n",
       "      <th>117</th>\n",
       "      <td>2014-w22</td>\n",
       "      <td>Roraima</td>\n",
       "      <td>4</td>\n",
       "      <td>0.000600</td>\n",
       "    </tr>\n",
       "    <tr>\n",
       "      <th>118</th>\n",
       "      <td>2014-w22</td>\n",
       "      <td>Santa Catarina</td>\n",
       "      <td>13</td>\n",
       "      <td>0.001951</td>\n",
       "    </tr>\n",
       "    <tr>\n",
       "      <th>119</th>\n",
       "      <td>2014-w22</td>\n",
       "      <td>Sao Paulo</td>\n",
       "      <td>93</td>\n",
       "      <td>0.013956</td>\n",
       "    </tr>\n",
       "    <tr>\n",
       "      <th>120</th>\n",
       "      <td>2014-w22</td>\n",
       "      <td>Sergipe</td>\n",
       "      <td>13</td>\n",
       "      <td>0.001951</td>\n",
       "    </tr>\n",
       "  </tbody>\n",
       "</table>\n",
       "<p>121 rows × 4 columns</p>\n",
       "</div>"
      ],
      "text/plain": [
       "    year_week       LocationName  group_size  proportion\n",
       "0    2014-w18               Acre          12    0.001801\n",
       "1    2014-w18            Alagoas          28    0.004202\n",
       "2    2014-w18              Amapa           4    0.000600\n",
       "3    2014-w18           Amazonas          32    0.004802\n",
       "4    2014-w18              Bahia         101    0.015156\n",
       "..        ...                ...         ...         ...\n",
       "116  2014-w22  Rio Grande Do Sul          65    0.009754\n",
       "117  2014-w22            Roraima           4    0.000600\n",
       "118  2014-w22     Santa Catarina          13    0.001951\n",
       "119  2014-w22          Sao Paulo          93    0.013956\n",
       "120  2014-w22            Sergipe          13    0.001951\n",
       "\n",
       "[121 rows x 4 columns]"
      ]
     },
     "execution_count": 65,
     "metadata": {},
     "output_type": "execute_result"
    }
   ],
   "source": [
    "# Step 1: Calculate the size of each group (year_week, LocationName)\n",
    "group_sizes = df_2014_05_neu.groupby(['year_week', 'LocationName']).size().reset_index(name='group_size')\n",
    "\n",
    "# Step 2: Calculate the proportion of each group in the dataset\n",
    "total_rows = len(df_2014_05_neu)\n",
    "group_sizes['proportion'] = group_sizes['group_size'] / total_rows\n",
    "group_sizes"
   ]
  },
  {
   "cell_type": "code",
   "execution_count": 66,
   "id": "b84177f8",
   "metadata": {},
   "outputs": [
    {
     "data": {
      "text/html": [
       "<div>\n",
       "<style scoped>\n",
       "    .dataframe tbody tr th:only-of-type {\n",
       "        vertical-align: middle;\n",
       "    }\n",
       "\n",
       "    .dataframe tbody tr th {\n",
       "        vertical-align: top;\n",
       "    }\n",
       "\n",
       "    .dataframe thead th {\n",
       "        text-align: right;\n",
       "    }\n",
       "</style>\n",
       "<table border=\"1\" class=\"dataframe\">\n",
       "  <thead>\n",
       "    <tr style=\"text-align: right;\">\n",
       "      <th></th>\n",
       "      <th>year_week</th>\n",
       "      <th>LocationName</th>\n",
       "      <th>group_size</th>\n",
       "      <th>proportion</th>\n",
       "      <th>sample_size</th>\n",
       "    </tr>\n",
       "  </thead>\n",
       "  <tbody>\n",
       "    <tr>\n",
       "      <th>0</th>\n",
       "      <td>2014-w18</td>\n",
       "      <td>Acre</td>\n",
       "      <td>12</td>\n",
       "      <td>0.001801</td>\n",
       "      <td>4</td>\n",
       "    </tr>\n",
       "    <tr>\n",
       "      <th>1</th>\n",
       "      <td>2014-w18</td>\n",
       "      <td>Alagoas</td>\n",
       "      <td>28</td>\n",
       "      <td>0.004202</td>\n",
       "      <td>10</td>\n",
       "    </tr>\n",
       "    <tr>\n",
       "      <th>2</th>\n",
       "      <td>2014-w18</td>\n",
       "      <td>Amapa</td>\n",
       "      <td>4</td>\n",
       "      <td>0.000600</td>\n",
       "      <td>1</td>\n",
       "    </tr>\n",
       "    <tr>\n",
       "      <th>3</th>\n",
       "      <td>2014-w18</td>\n",
       "      <td>Amazonas</td>\n",
       "      <td>32</td>\n",
       "      <td>0.004802</td>\n",
       "      <td>11</td>\n",
       "    </tr>\n",
       "    <tr>\n",
       "      <th>4</th>\n",
       "      <td>2014-w18</td>\n",
       "      <td>Bahia</td>\n",
       "      <td>101</td>\n",
       "      <td>0.015156</td>\n",
       "      <td>37</td>\n",
       "    </tr>\n",
       "    <tr>\n",
       "      <th>...</th>\n",
       "      <td>...</td>\n",
       "      <td>...</td>\n",
       "      <td>...</td>\n",
       "      <td>...</td>\n",
       "      <td>...</td>\n",
       "    </tr>\n",
       "    <tr>\n",
       "      <th>116</th>\n",
       "      <td>2014-w22</td>\n",
       "      <td>Rio Grande Do Sul</td>\n",
       "      <td>65</td>\n",
       "      <td>0.009754</td>\n",
       "      <td>23</td>\n",
       "    </tr>\n",
       "    <tr>\n",
       "      <th>117</th>\n",
       "      <td>2014-w22</td>\n",
       "      <td>Roraima</td>\n",
       "      <td>4</td>\n",
       "      <td>0.000600</td>\n",
       "      <td>1</td>\n",
       "    </tr>\n",
       "    <tr>\n",
       "      <th>118</th>\n",
       "      <td>2014-w22</td>\n",
       "      <td>Santa Catarina</td>\n",
       "      <td>13</td>\n",
       "      <td>0.001951</td>\n",
       "      <td>4</td>\n",
       "    </tr>\n",
       "    <tr>\n",
       "      <th>119</th>\n",
       "      <td>2014-w22</td>\n",
       "      <td>Sao Paulo</td>\n",
       "      <td>93</td>\n",
       "      <td>0.013956</td>\n",
       "      <td>34</td>\n",
       "    </tr>\n",
       "    <tr>\n",
       "      <th>120</th>\n",
       "      <td>2014-w22</td>\n",
       "      <td>Sergipe</td>\n",
       "      <td>13</td>\n",
       "      <td>0.001951</td>\n",
       "      <td>4</td>\n",
       "    </tr>\n",
       "  </tbody>\n",
       "</table>\n",
       "<p>121 rows × 5 columns</p>\n",
       "</div>"
      ],
      "text/plain": [
       "    year_week       LocationName  group_size  proportion  sample_size\n",
       "0    2014-w18               Acre          12    0.001801            4\n",
       "1    2014-w18            Alagoas          28    0.004202           10\n",
       "2    2014-w18              Amapa           4    0.000600            1\n",
       "3    2014-w18           Amazonas          32    0.004802           11\n",
       "4    2014-w18              Bahia         101    0.015156           37\n",
       "..        ...                ...         ...         ...          ...\n",
       "116  2014-w22  Rio Grande Do Sul          65    0.009754           23\n",
       "117  2014-w22            Roraima           4    0.000600            1\n",
       "118  2014-w22     Santa Catarina          13    0.001951            4\n",
       "119  2014-w22          Sao Paulo          93    0.013956           34\n",
       "120  2014-w22            Sergipe          13    0.001951            4\n",
       "\n",
       "[121 rows x 5 columns]"
      ]
     },
     "execution_count": 66,
     "metadata": {},
     "output_type": "execute_result"
    }
   ],
   "source": [
    "# Step 3: Define the target sample size\n",
    "target_sample_size = 2450\n",
    "\n",
    "# Step 4: Calculate the sample size for each group (based on its proportion)\n",
    "group_sizes['sample_size'] = np.floor(group_sizes['proportion'] * target_sample_size).astype(int)\n",
    "group_sizes"
   ]
  },
  {
   "cell_type": "code",
   "execution_count": 67,
   "id": "81f4ba23",
   "metadata": {},
   "outputs": [],
   "source": [
    "# Step 5: Merge this sample size information back to the original DataFrame\n",
    "df_2014_05_neu_sample_size = pd.merge(df_2014_05_neu, group_sizes[['year_week', 'LocationName', 'sample_size']], \n",
    "                               on=['year_week', 'LocationName'], how='left')"
   ]
  },
  {
   "cell_type": "code",
   "execution_count": 68,
   "id": "024fe31d",
   "metadata": {},
   "outputs": [
    {
     "name": "stdout",
     "output_type": "stream",
     "text": [
      "Sampled 2392 rows.\n"
     ]
    }
   ],
   "source": [
    "# Step 6: Perform the stratified sampling\n",
    "df_2014_05_neu_sample = df_2014_05_neu_sample_size.groupby(['year_week', 'LocationName']).apply(\n",
    "    lambda group: group.sample(n=group['sample_size'].iloc[0], random_state=42)\n",
    ").reset_index(drop=True)\n",
    "\n",
    "# Step 7: Check the result\n",
    "print(f\"Sampled {len(df_2014_05_neu_sample)} rows.\")\n"
   ]
  },
  {
   "cell_type": "code",
   "execution_count": 69,
   "id": "17d01681",
   "metadata": {},
   "outputs": [],
   "source": [
    "text_gpt_2014_05_neu = '\\n'.join(df_2014_05_neu_sample['text'].astype(str))"
   ]
  },
  {
   "cell_type": "markdown",
   "id": "7b66d9fa",
   "metadata": {},
   "source": [
    "### Prompts and loops"
   ]
  },
  {
   "cell_type": "code",
   "execution_count": 70,
   "id": "55bf6697",
   "metadata": {},
   "outputs": [],
   "source": [
    "prompt_5 = prompt_raw.replace('TWEETS', text_gpt_2014_05_neu)"
   ]
  },
  {
   "cell_type": "code",
   "execution_count": 71,
   "id": "103e0d92",
   "metadata": {
    "scrolled": false
   },
   "outputs": [],
   "source": [
    "response = openai.ChatCompletion.create(\n",
    "    model=\"gpt-4o-mini\",  \n",
    "    messages = [\n",
    "        {\"role\": \"user\", \"content\": prompt_5}\n",
    "    ],\n",
    "    max_tokens=400,  # Maximum number of tokens in the response\n",
    "    temperature=0.7  # Controls the randomness of the output\n",
    ")"
   ]
  },
  {
   "cell_type": "code",
   "execution_count": 72,
   "id": "79b93f11",
   "metadata": {},
   "outputs": [
    {
     "data": {
      "text/plain": [
       "'The text discusses various aspects of vaccination campaigns in Brazil, particularly focusing on the influenza (flu) vaccine and the vaccination against foot-and-mouth disease for livestock. It mentions the low turnout for the flu vaccine, the extension of vaccination deadlines, and the importance of reaching vaccination targets for specific populations. Additionally, it addresses public concerns about vaccine safety and efficacy, while promoting awareness through videos and educational materials.'"
      ]
     },
     "execution_count": 72,
     "metadata": {},
     "output_type": "execute_result"
    }
   ],
   "source": [
    "response.choices[0].message.content"
   ]
  },
  {
   "cell_type": "code",
   "execution_count": 73,
   "id": "ac2d6935",
   "metadata": {},
   "outputs": [],
   "source": [
    "#summary = []\n",
    "#dataset = []"
   ]
  },
  {
   "cell_type": "code",
   "execution_count": 74,
   "id": "5b29f950",
   "metadata": {},
   "outputs": [],
   "source": [
    "dataset.append(\"2014_05_neutral\")"
   ]
  },
  {
   "cell_type": "code",
   "execution_count": 75,
   "id": "56c1fa8d",
   "metadata": {},
   "outputs": [],
   "source": [
    "summary.append(response.choices[0].message.content)"
   ]
  },
  {
   "cell_type": "code",
   "execution_count": 76,
   "id": "b6afc9cb",
   "metadata": {
    "tags": []
   },
   "outputs": [
    {
     "name": "stdout",
     "output_type": "stream",
     "text": [
      "<class 'pandas.core.frame.DataFrame'>\n",
      "RangeIndex: 5 entries, 0 to 4\n",
      "Data columns (total 2 columns):\n",
      " #   Column   Non-Null Count  Dtype \n",
      "---  ------   --------------  ----- \n",
      " 0   dataset  5 non-null      object\n",
      " 1   summary  5 non-null      object\n",
      "dtypes: object(2)\n",
      "memory usage: 208.0+ bytes\n"
     ]
    }
   ],
   "source": [
    "df_2014_neu = pd.DataFrame(list(zip(dataset, summary)),\n",
    "                            columns = ['dataset', 'summary'])\n",
    "df_2014_neu.info()"
   ]
  },
  {
   "cell_type": "code",
   "execution_count": 77,
   "id": "8c55f685",
   "metadata": {},
   "outputs": [
    {
     "data": {
      "text/html": [
       "<div>\n",
       "<style scoped>\n",
       "    .dataframe tbody tr th:only-of-type {\n",
       "        vertical-align: middle;\n",
       "    }\n",
       "\n",
       "    .dataframe tbody tr th {\n",
       "        vertical-align: top;\n",
       "    }\n",
       "\n",
       "    .dataframe thead th {\n",
       "        text-align: right;\n",
       "    }\n",
       "</style>\n",
       "<table border=\"1\" class=\"dataframe\">\n",
       "  <thead>\n",
       "    <tr style=\"text-align: right;\">\n",
       "      <th></th>\n",
       "      <th>dataset</th>\n",
       "      <th>summary</th>\n",
       "    </tr>\n",
       "  </thead>\n",
       "  <tbody>\n",
       "    <tr>\n",
       "      <th>0</th>\n",
       "      <td>2014_01_neutral</td>\n",
       "      <td>The text discusses various aspects of vaccinat...</td>\n",
       "    </tr>\n",
       "    <tr>\n",
       "      <th>1</th>\n",
       "      <td>2014_02_neutral</td>\n",
       "      <td>The text discusses various vaccination campaig...</td>\n",
       "    </tr>\n",
       "    <tr>\n",
       "      <th>2</th>\n",
       "      <td>2014_03_neutral</td>\n",
       "      <td>The upcoming vaccination campaign against HPV ...</td>\n",
       "    </tr>\n",
       "    <tr>\n",
       "      <th>3</th>\n",
       "      <td>2014_04_neutral</td>\n",
       "      <td>The provided sentences discuss various vaccina...</td>\n",
       "    </tr>\n",
       "    <tr>\n",
       "      <th>4</th>\n",
       "      <td>2014_05_neutral</td>\n",
       "      <td>The text discusses various aspects of vaccinat...</td>\n",
       "    </tr>\n",
       "  </tbody>\n",
       "</table>\n",
       "</div>"
      ],
      "text/plain": [
       "           dataset                                            summary\n",
       "0  2014_01_neutral  The text discusses various aspects of vaccinat...\n",
       "1  2014_02_neutral  The text discusses various vaccination campaig...\n",
       "2  2014_03_neutral  The upcoming vaccination campaign against HPV ...\n",
       "3  2014_04_neutral  The provided sentences discuss various vaccina...\n",
       "4  2014_05_neutral  The text discusses various aspects of vaccinat..."
      ]
     },
     "execution_count": 77,
     "metadata": {},
     "output_type": "execute_result"
    }
   ],
   "source": [
    "df_2014_neu.tail(14)"
   ]
  },
  {
   "cell_type": "code",
   "execution_count": 78,
   "id": "fdf871d7",
   "metadata": {},
   "outputs": [
    {
     "data": {
      "text/plain": [
       "<OpenAIObject chat.completion id=chatcmpl-AUdGnr9lYFEchpq1tiMARHMBxGllS at 0x1263ddcf400> JSON: {\n",
       "  \"choices\": [\n",
       "    {\n",
       "      \"finish_reason\": \"stop\",\n",
       "      \"index\": 0,\n",
       "      \"logprobs\": null,\n",
       "      \"message\": {\n",
       "        \"content\": \"The text discusses various aspects of vaccination campaigns in Brazil, particularly focusing on the influenza (flu) vaccine and the vaccination against foot-and-mouth disease for livestock. It mentions the low turnout for the flu vaccine, the extension of vaccination deadlines, and the importance of reaching vaccination targets for specific populations. Additionally, it addresses public concerns about vaccine safety and efficacy, while promoting awareness through videos and educational materials.\",\n",
       "        \"refusal\": null,\n",
       "        \"role\": \"assistant\"\n",
       "      }\n",
       "    }\n",
       "  ],\n",
       "  \"created\": 1731864157,\n",
       "  \"id\": \"chatcmpl-AUdGnr9lYFEchpq1tiMARHMBxGllS\",\n",
       "  \"model\": \"gpt-4o-mini-2024-07-18\",\n",
       "  \"object\": \"chat.completion\",\n",
       "  \"system_fingerprint\": \"fp_0ba0d124f1\",\n",
       "  \"usage\": {\n",
       "    \"completion_tokens\": 79,\n",
       "    \"completion_tokens_details\": {\n",
       "      \"accepted_prediction_tokens\": 0,\n",
       "      \"audio_tokens\": 0,\n",
       "      \"reasoning_tokens\": 0,\n",
       "      \"rejected_prediction_tokens\": 0\n",
       "    },\n",
       "    \"prompt_tokens\": 48233,\n",
       "    \"prompt_tokens_details\": {\n",
       "      \"audio_tokens\": 0,\n",
       "      \"cached_tokens\": 0\n",
       "    },\n",
       "    \"total_tokens\": 48312\n",
       "  }\n",
       "}"
      ]
     },
     "execution_count": 78,
     "metadata": {},
     "output_type": "execute_result"
    }
   ],
   "source": [
    "response"
   ]
  },
  {
   "cell_type": "markdown",
   "id": "f2814c4e",
   "metadata": {},
   "source": [
    "## June"
   ]
  },
  {
   "cell_type": "code",
   "execution_count": 79,
   "id": "90c18d7f",
   "metadata": {
    "scrolled": true,
    "tags": []
   },
   "outputs": [
    {
     "name": "stdout",
     "output_type": "stream",
     "text": [
      "<class 'pandas.core.frame.DataFrame'>\n",
      "RangeIndex: 2049 entries, 0 to 2048\n",
      "Data columns (total 53 columns):\n",
      " #   Column                  Non-Null Count  Dtype  \n",
      "---  ------                  --------------  -----  \n",
      " 0   index                   2049 non-null   int64  \n",
      " 1   LocationCode            2049 non-null   object \n",
      " 2   LocationName            2049 non-null   object \n",
      " 3   StatesCode              2049 non-null   object \n",
      " 4   ...4                    2049 non-null   int64  \n",
      " 5   id                      2049 non-null   float64\n",
      " 6   text                    2049 non-null   object \n",
      " 7   label                   2049 non-null   object \n",
      " 8   in_reply_to_status_id   203 non-null    float64\n",
      " 9   in_reply_to_user_id     242 non-null    float64\n",
      " 10  quoted_user_id          0 non-null      float64\n",
      " 11  quoted_status_id        0 non-null      float64\n",
      " 12  retweeted_user_id       372 non-null    float64\n",
      " 13  retweeted_status_id     372 non-null    float64\n",
      " 14  created_at              2049 non-null   object \n",
      " 15  entities.user_mentions  703 non-null    object \n",
      " 16  user.id                 2049 non-null   int64  \n",
      " 17  user.screen_name        2049 non-null   object \n",
      " 18  user.name               2047 non-null   object \n",
      " 19  user.description        1796 non-null   object \n",
      " 20  user.timezone           0 non-null      float64\n",
      " 21  user.location           2030 non-null   object \n",
      " 22  user.num_followers      2049 non-null   int64  \n",
      " 23  user.num_following      2049 non-null   int64  \n",
      " 24  user.created_at         2049 non-null   object \n",
      " 25  user.statuses_count     2049 non-null   int64  \n",
      " 26  user.is_verified        2049 non-null   bool   \n",
      " 27  lang                    2049 non-null   object \n",
      " 28  token_count             2049 non-null   int64  \n",
      " 29  is_retweet              2049 non-null   bool   \n",
      " 30  has_quote               2049 non-null   bool   \n",
      " 31  is_reply                2049 non-null   bool   \n",
      " 32  contains_keywords       2049 non-null   bool   \n",
      " 33  longitude               2049 non-null   float64\n",
      " 34  latitude                2049 non-null   float64\n",
      " 35  country_code            2049 non-null   object \n",
      " 36  geoname_id              1988 non-null   float64\n",
      " 37  location_type           2049 non-null   object \n",
      " 38  geo_type                2049 non-null   int64  \n",
      " 39  region                  2049 non-null   object \n",
      " 40  subregion               2049 non-null   object \n",
      " 41  num_quotes              2049 non-null   int64  \n",
      " 42  num_replies             2049 non-null   int64  \n",
      " 43  num_retweets            2049 non-null   int64  \n",
      " 44  sent_gpt                2049 non-null   object \n",
      " 45  gpt_sent_presence       2049 non-null   int64  \n",
      " 46  cleaned_text_lem        2049 non-null   object \n",
      " 47  cleaned_text            2049 non-null   object \n",
      " 48  month                   2049 non-null   int64  \n",
      " 49  year                    2049 non-null   int64  \n",
      " 50  week                    2049 non-null   int64  \n",
      " 51  year_month              2049 non-null   object \n",
      " 52  year_week               2049 non-null   object \n",
      "dtypes: bool(5), float64(11), int64(15), object(22)\n",
      "memory usage: 778.5+ KB\n"
     ]
    }
   ],
   "source": [
    "# Get monthly data\n",
    "df_2014_06_neu = pd.read_csv('../data/local/df_neu_2014-06.csv').reset_index()\n",
    "df_2014_06_neu.info()"
   ]
  },
  {
   "cell_type": "markdown",
   "id": "ad5ba4b0",
   "metadata": {},
   "source": [
    "### Representative sample based on week and location"
   ]
  },
  {
   "cell_type": "code",
   "execution_count": 80,
   "id": "3131b989",
   "metadata": {},
   "outputs": [
    {
     "data": {
      "text/html": [
       "<div>\n",
       "<style scoped>\n",
       "    .dataframe tbody tr th:only-of-type {\n",
       "        vertical-align: middle;\n",
       "    }\n",
       "\n",
       "    .dataframe tbody tr th {\n",
       "        vertical-align: top;\n",
       "    }\n",
       "\n",
       "    .dataframe thead th {\n",
       "        text-align: right;\n",
       "    }\n",
       "</style>\n",
       "<table border=\"1\" class=\"dataframe\">\n",
       "  <thead>\n",
       "    <tr style=\"text-align: right;\">\n",
       "      <th></th>\n",
       "      <th>year_week</th>\n",
       "      <th>LocationName</th>\n",
       "      <th>group_size</th>\n",
       "      <th>proportion</th>\n",
       "    </tr>\n",
       "  </thead>\n",
       "  <tbody>\n",
       "    <tr>\n",
       "      <th>0</th>\n",
       "      <td>2014-w22</td>\n",
       "      <td>Acre</td>\n",
       "      <td>3</td>\n",
       "      <td>0.001464</td>\n",
       "    </tr>\n",
       "    <tr>\n",
       "      <th>1</th>\n",
       "      <td>2014-w22</td>\n",
       "      <td>Alagoas</td>\n",
       "      <td>6</td>\n",
       "      <td>0.002928</td>\n",
       "    </tr>\n",
       "    <tr>\n",
       "      <th>2</th>\n",
       "      <td>2014-w22</td>\n",
       "      <td>Amazonas</td>\n",
       "      <td>2</td>\n",
       "      <td>0.000976</td>\n",
       "    </tr>\n",
       "    <tr>\n",
       "      <th>3</th>\n",
       "      <td>2014-w22</td>\n",
       "      <td>Bahia</td>\n",
       "      <td>22</td>\n",
       "      <td>0.010737</td>\n",
       "    </tr>\n",
       "    <tr>\n",
       "      <th>4</th>\n",
       "      <td>2014-w22</td>\n",
       "      <td>Ceara</td>\n",
       "      <td>3</td>\n",
       "      <td>0.001464</td>\n",
       "    </tr>\n",
       "    <tr>\n",
       "      <th>...</th>\n",
       "      <td>...</td>\n",
       "      <td>...</td>\n",
       "      <td>...</td>\n",
       "      <td>...</td>\n",
       "    </tr>\n",
       "    <tr>\n",
       "      <th>110</th>\n",
       "      <td>2014-w26</td>\n",
       "      <td>Roraima</td>\n",
       "      <td>1</td>\n",
       "      <td>0.000488</td>\n",
       "    </tr>\n",
       "    <tr>\n",
       "      <th>111</th>\n",
       "      <td>2014-w26</td>\n",
       "      <td>Santa Catarina</td>\n",
       "      <td>13</td>\n",
       "      <td>0.006345</td>\n",
       "    </tr>\n",
       "    <tr>\n",
       "      <th>112</th>\n",
       "      <td>2014-w26</td>\n",
       "      <td>Sao Paulo</td>\n",
       "      <td>115</td>\n",
       "      <td>0.056125</td>\n",
       "    </tr>\n",
       "    <tr>\n",
       "      <th>113</th>\n",
       "      <td>2014-w26</td>\n",
       "      <td>Sergipe</td>\n",
       "      <td>4</td>\n",
       "      <td>0.001952</td>\n",
       "    </tr>\n",
       "    <tr>\n",
       "      <th>114</th>\n",
       "      <td>2014-w26</td>\n",
       "      <td>Tocantins</td>\n",
       "      <td>1</td>\n",
       "      <td>0.000488</td>\n",
       "    </tr>\n",
       "  </tbody>\n",
       "</table>\n",
       "<p>115 rows × 4 columns</p>\n",
       "</div>"
      ],
      "text/plain": [
       "    year_week    LocationName  group_size  proportion\n",
       "0    2014-w22            Acre           3    0.001464\n",
       "1    2014-w22         Alagoas           6    0.002928\n",
       "2    2014-w22        Amazonas           2    0.000976\n",
       "3    2014-w22           Bahia          22    0.010737\n",
       "4    2014-w22           Ceara           3    0.001464\n",
       "..        ...             ...         ...         ...\n",
       "110  2014-w26         Roraima           1    0.000488\n",
       "111  2014-w26  Santa Catarina          13    0.006345\n",
       "112  2014-w26       Sao Paulo         115    0.056125\n",
       "113  2014-w26         Sergipe           4    0.001952\n",
       "114  2014-w26       Tocantins           1    0.000488\n",
       "\n",
       "[115 rows x 4 columns]"
      ]
     },
     "execution_count": 80,
     "metadata": {},
     "output_type": "execute_result"
    }
   ],
   "source": [
    "# Step 1: Calculate the size of each group (year_week, LocationName)\n",
    "group_sizes = df_2014_06_neu.groupby(['year_week', 'LocationName']).size().reset_index(name='group_size')\n",
    "\n",
    "# Step 2: Calculate the proportion of each group in the dataset\n",
    "total_rows = len(df_2014_06_neu)\n",
    "group_sizes['proportion'] = group_sizes['group_size'] / total_rows\n",
    "group_sizes"
   ]
  },
  {
   "cell_type": "code",
   "execution_count": 81,
   "id": "14eb60c4",
   "metadata": {},
   "outputs": [
    {
     "data": {
      "text/html": [
       "<div>\n",
       "<style scoped>\n",
       "    .dataframe tbody tr th:only-of-type {\n",
       "        vertical-align: middle;\n",
       "    }\n",
       "\n",
       "    .dataframe tbody tr th {\n",
       "        vertical-align: top;\n",
       "    }\n",
       "\n",
       "    .dataframe thead th {\n",
       "        text-align: right;\n",
       "    }\n",
       "</style>\n",
       "<table border=\"1\" class=\"dataframe\">\n",
       "  <thead>\n",
       "    <tr style=\"text-align: right;\">\n",
       "      <th></th>\n",
       "      <th>year_week</th>\n",
       "      <th>LocationName</th>\n",
       "      <th>group_size</th>\n",
       "      <th>proportion</th>\n",
       "      <th>sample_size</th>\n",
       "    </tr>\n",
       "  </thead>\n",
       "  <tbody>\n",
       "    <tr>\n",
       "      <th>0</th>\n",
       "      <td>2014-w22</td>\n",
       "      <td>Acre</td>\n",
       "      <td>3</td>\n",
       "      <td>0.001464</td>\n",
       "      <td>3</td>\n",
       "    </tr>\n",
       "    <tr>\n",
       "      <th>1</th>\n",
       "      <td>2014-w22</td>\n",
       "      <td>Alagoas</td>\n",
       "      <td>6</td>\n",
       "      <td>0.002928</td>\n",
       "      <td>7</td>\n",
       "    </tr>\n",
       "    <tr>\n",
       "      <th>2</th>\n",
       "      <td>2014-w22</td>\n",
       "      <td>Amazonas</td>\n",
       "      <td>2</td>\n",
       "      <td>0.000976</td>\n",
       "      <td>2</td>\n",
       "    </tr>\n",
       "    <tr>\n",
       "      <th>3</th>\n",
       "      <td>2014-w22</td>\n",
       "      <td>Bahia</td>\n",
       "      <td>22</td>\n",
       "      <td>0.010737</td>\n",
       "      <td>26</td>\n",
       "    </tr>\n",
       "    <tr>\n",
       "      <th>4</th>\n",
       "      <td>2014-w22</td>\n",
       "      <td>Ceara</td>\n",
       "      <td>3</td>\n",
       "      <td>0.001464</td>\n",
       "      <td>3</td>\n",
       "    </tr>\n",
       "    <tr>\n",
       "      <th>...</th>\n",
       "      <td>...</td>\n",
       "      <td>...</td>\n",
       "      <td>...</td>\n",
       "      <td>...</td>\n",
       "      <td>...</td>\n",
       "    </tr>\n",
       "    <tr>\n",
       "      <th>110</th>\n",
       "      <td>2014-w26</td>\n",
       "      <td>Roraima</td>\n",
       "      <td>1</td>\n",
       "      <td>0.000488</td>\n",
       "      <td>1</td>\n",
       "    </tr>\n",
       "    <tr>\n",
       "      <th>111</th>\n",
       "      <td>2014-w26</td>\n",
       "      <td>Santa Catarina</td>\n",
       "      <td>13</td>\n",
       "      <td>0.006345</td>\n",
       "      <td>15</td>\n",
       "    </tr>\n",
       "    <tr>\n",
       "      <th>112</th>\n",
       "      <td>2014-w26</td>\n",
       "      <td>Sao Paulo</td>\n",
       "      <td>115</td>\n",
       "      <td>0.056125</td>\n",
       "      <td>137</td>\n",
       "    </tr>\n",
       "    <tr>\n",
       "      <th>113</th>\n",
       "      <td>2014-w26</td>\n",
       "      <td>Sergipe</td>\n",
       "      <td>4</td>\n",
       "      <td>0.001952</td>\n",
       "      <td>4</td>\n",
       "    </tr>\n",
       "    <tr>\n",
       "      <th>114</th>\n",
       "      <td>2014-w26</td>\n",
       "      <td>Tocantins</td>\n",
       "      <td>1</td>\n",
       "      <td>0.000488</td>\n",
       "      <td>1</td>\n",
       "    </tr>\n",
       "  </tbody>\n",
       "</table>\n",
       "<p>115 rows × 5 columns</p>\n",
       "</div>"
      ],
      "text/plain": [
       "    year_week    LocationName  group_size  proportion  sample_size\n",
       "0    2014-w22            Acre           3    0.001464            3\n",
       "1    2014-w22         Alagoas           6    0.002928            7\n",
       "2    2014-w22        Amazonas           2    0.000976            2\n",
       "3    2014-w22           Bahia          22    0.010737           26\n",
       "4    2014-w22           Ceara           3    0.001464            3\n",
       "..        ...             ...         ...         ...          ...\n",
       "110  2014-w26         Roraima           1    0.000488            1\n",
       "111  2014-w26  Santa Catarina          13    0.006345           15\n",
       "112  2014-w26       Sao Paulo         115    0.056125          137\n",
       "113  2014-w26         Sergipe           4    0.001952            4\n",
       "114  2014-w26       Tocantins           1    0.000488            1\n",
       "\n",
       "[115 rows x 5 columns]"
      ]
     },
     "execution_count": 81,
     "metadata": {},
     "output_type": "execute_result"
    }
   ],
   "source": [
    "# Step 3: Define the target sample size\n",
    "target_sample_size = 2450\n",
    "\n",
    "# Step 4: Calculate the sample size for each group (based on its proportion)\n",
    "group_sizes['sample_size'] = np.floor(group_sizes['proportion'] * target_sample_size).astype(int)\n",
    "group_sizes"
   ]
  },
  {
   "cell_type": "code",
   "execution_count": 82,
   "id": "f737f753",
   "metadata": {},
   "outputs": [],
   "source": [
    "# Step 5: Merge this sample size information back to the original DataFrame\n",
    "df_2014_06_neu_sample_size = pd.merge(df_2014_06_neu, group_sizes[['year_week', 'LocationName', 'sample_size']], \n",
    "                               on=['year_week', 'LocationName'], how='left')"
   ]
  },
  {
   "cell_type": "code",
   "execution_count": 84,
   "id": "e6be4f44",
   "metadata": {},
   "outputs": [
    {
     "name": "stdout",
     "output_type": "stream",
     "text": [
      "Sampled 2049 rows.\n"
     ]
    }
   ],
   "source": [
    "# Step 6: Perform the stratified sampling\n",
    "#df_2014_06_neu_sample = df_2014_06_neu_sample_size.groupby(['year_week', 'LocationName']).apply(\n",
    " #   lambda group: group.sample(n=group['sample_size'].iloc[0], random_state=42)\n",
    "#).reset_index(drop=True)\n",
    "df_2014_06_neu_sample = df_2014_06_neu\n",
    "# Step 7: Check the result\n",
    "print(f\"Sampled {len(df_2014_06_neu_sample)} rows.\")\n"
   ]
  },
  {
   "cell_type": "code",
   "execution_count": 85,
   "id": "46e283ca",
   "metadata": {},
   "outputs": [],
   "source": [
    "text_gpt_2014_06_neu = '\\n'.join(df_2014_06_neu_sample['text'].astype(str))"
   ]
  },
  {
   "cell_type": "markdown",
   "id": "318bee7a",
   "metadata": {},
   "source": [
    "### Prompts and loops"
   ]
  },
  {
   "cell_type": "code",
   "execution_count": 86,
   "id": "be18c816",
   "metadata": {},
   "outputs": [],
   "source": [
    "prompt_6 = prompt_raw.replace('TWEETS', text_gpt_2014_06_neu)"
   ]
  },
  {
   "cell_type": "code",
   "execution_count": 87,
   "id": "96369898",
   "metadata": {
    "scrolled": false
   },
   "outputs": [],
   "source": [
    "response = openai.ChatCompletion.create(\n",
    "    model=\"gpt-4o-mini\",  \n",
    "    messages = [\n",
    "        {\"role\": \"user\", \"content\": prompt_6}\n",
    "    ],\n",
    "    max_tokens=400,  # Maximum number of tokens in the response\n",
    "    temperature=0.7  # Controls the randomness of the output\n",
    ")"
   ]
  },
  {
   "cell_type": "code",
   "execution_count": 88,
   "id": "b829d3e9",
   "metadata": {},
   "outputs": [
    {
     "data": {
      "text/plain": [
       "'The text discusses various aspects of vaccination in Brazil, including ongoing campaigns for flu and HPV vaccinations, discrepancies in vaccination rates in different regions, and the importance of maintaining vaccination schedules. It also humorously references the need for vaccinations related to the soccer player Luis Suárez, particularly regarding rabies after his biting incident.'"
      ]
     },
     "execution_count": 88,
     "metadata": {},
     "output_type": "execute_result"
    }
   ],
   "source": [
    "response.choices[0].message.content"
   ]
  },
  {
   "cell_type": "code",
   "execution_count": 89,
   "id": "60c71c4c",
   "metadata": {},
   "outputs": [],
   "source": [
    "#summary = []\n",
    "#dataset = []"
   ]
  },
  {
   "cell_type": "code",
   "execution_count": 90,
   "id": "92dcf233",
   "metadata": {},
   "outputs": [],
   "source": [
    "dataset.append(\"2014_06_neutral\")"
   ]
  },
  {
   "cell_type": "code",
   "execution_count": 91,
   "id": "d78b7b6b",
   "metadata": {},
   "outputs": [],
   "source": [
    "summary.append(response.choices[0].message.content)"
   ]
  },
  {
   "cell_type": "code",
   "execution_count": 92,
   "id": "efcf0103",
   "metadata": {
    "tags": []
   },
   "outputs": [
    {
     "name": "stdout",
     "output_type": "stream",
     "text": [
      "<class 'pandas.core.frame.DataFrame'>\n",
      "RangeIndex: 6 entries, 0 to 5\n",
      "Data columns (total 2 columns):\n",
      " #   Column   Non-Null Count  Dtype \n",
      "---  ------   --------------  ----- \n",
      " 0   dataset  6 non-null      object\n",
      " 1   summary  6 non-null      object\n",
      "dtypes: object(2)\n",
      "memory usage: 224.0+ bytes\n"
     ]
    }
   ],
   "source": [
    "df_2014_neu = pd.DataFrame(list(zip(dataset, summary)),\n",
    "                            columns = ['dataset', 'summary'])\n",
    "df_2014_neu.info()"
   ]
  },
  {
   "cell_type": "code",
   "execution_count": 93,
   "id": "39a785ae",
   "metadata": {},
   "outputs": [
    {
     "data": {
      "text/html": [
       "<div>\n",
       "<style scoped>\n",
       "    .dataframe tbody tr th:only-of-type {\n",
       "        vertical-align: middle;\n",
       "    }\n",
       "\n",
       "    .dataframe tbody tr th {\n",
       "        vertical-align: top;\n",
       "    }\n",
       "\n",
       "    .dataframe thead th {\n",
       "        text-align: right;\n",
       "    }\n",
       "</style>\n",
       "<table border=\"1\" class=\"dataframe\">\n",
       "  <thead>\n",
       "    <tr style=\"text-align: right;\">\n",
       "      <th></th>\n",
       "      <th>dataset</th>\n",
       "      <th>summary</th>\n",
       "    </tr>\n",
       "  </thead>\n",
       "  <tbody>\n",
       "    <tr>\n",
       "      <th>0</th>\n",
       "      <td>2014_01_neutral</td>\n",
       "      <td>The text discusses various aspects of vaccinat...</td>\n",
       "    </tr>\n",
       "    <tr>\n",
       "      <th>1</th>\n",
       "      <td>2014_02_neutral</td>\n",
       "      <td>The text discusses various vaccination campaig...</td>\n",
       "    </tr>\n",
       "    <tr>\n",
       "      <th>2</th>\n",
       "      <td>2014_03_neutral</td>\n",
       "      <td>The upcoming vaccination campaign against HPV ...</td>\n",
       "    </tr>\n",
       "    <tr>\n",
       "      <th>3</th>\n",
       "      <td>2014_04_neutral</td>\n",
       "      <td>The provided sentences discuss various vaccina...</td>\n",
       "    </tr>\n",
       "    <tr>\n",
       "      <th>4</th>\n",
       "      <td>2014_05_neutral</td>\n",
       "      <td>The text discusses various aspects of vaccinat...</td>\n",
       "    </tr>\n",
       "    <tr>\n",
       "      <th>5</th>\n",
       "      <td>2014_06_neutral</td>\n",
       "      <td>The text discusses various aspects of vaccinat...</td>\n",
       "    </tr>\n",
       "  </tbody>\n",
       "</table>\n",
       "</div>"
      ],
      "text/plain": [
       "           dataset                                            summary\n",
       "0  2014_01_neutral  The text discusses various aspects of vaccinat...\n",
       "1  2014_02_neutral  The text discusses various vaccination campaig...\n",
       "2  2014_03_neutral  The upcoming vaccination campaign against HPV ...\n",
       "3  2014_04_neutral  The provided sentences discuss various vaccina...\n",
       "4  2014_05_neutral  The text discusses various aspects of vaccinat...\n",
       "5  2014_06_neutral  The text discusses various aspects of vaccinat..."
      ]
     },
     "execution_count": 93,
     "metadata": {},
     "output_type": "execute_result"
    }
   ],
   "source": [
    "df_2014_neu.tail(14)"
   ]
  },
  {
   "cell_type": "code",
   "execution_count": 94,
   "id": "b86671a5",
   "metadata": {},
   "outputs": [
    {
     "data": {
      "text/plain": [
       "<OpenAIObject chat.completion id=chatcmpl-AUdIjjmQgk0VW3ninfcyIc71nFuFA at 0x12641fb5090> JSON: {\n",
       "  \"choices\": [\n",
       "    {\n",
       "      \"finish_reason\": \"stop\",\n",
       "      \"index\": 0,\n",
       "      \"logprobs\": null,\n",
       "      \"message\": {\n",
       "        \"content\": \"The text discusses various aspects of vaccination in Brazil, including ongoing campaigns for flu and HPV vaccinations, discrepancies in vaccination rates in different regions, and the importance of maintaining vaccination schedules. It also humorously references the need for vaccinations related to the soccer player Luis Su\\u00e1rez, particularly regarding rabies after his biting incident.\",\n",
       "        \"refusal\": null,\n",
       "        \"role\": \"assistant\"\n",
       "      }\n",
       "    }\n",
       "  ],\n",
       "  \"created\": 1731864277,\n",
       "  \"id\": \"chatcmpl-AUdIjjmQgk0VW3ninfcyIc71nFuFA\",\n",
       "  \"model\": \"gpt-4o-mini-2024-07-18\",\n",
       "  \"object\": \"chat.completion\",\n",
       "  \"system_fingerprint\": \"fp_f8dd36be86\",\n",
       "  \"usage\": {\n",
       "    \"completion_tokens\": 62,\n",
       "    \"completion_tokens_details\": {\n",
       "      \"accepted_prediction_tokens\": 0,\n",
       "      \"audio_tokens\": 0,\n",
       "      \"reasoning_tokens\": 0,\n",
       "      \"rejected_prediction_tokens\": 0\n",
       "    },\n",
       "    \"prompt_tokens\": 44159,\n",
       "    \"prompt_tokens_details\": {\n",
       "      \"audio_tokens\": 0,\n",
       "      \"cached_tokens\": 0\n",
       "    },\n",
       "    \"total_tokens\": 44221\n",
       "  }\n",
       "}"
      ]
     },
     "execution_count": 94,
     "metadata": {},
     "output_type": "execute_result"
    }
   ],
   "source": [
    "response"
   ]
  },
  {
   "cell_type": "markdown",
   "id": "1b5c5a9b",
   "metadata": {},
   "source": [
    "## July"
   ]
  },
  {
   "cell_type": "code",
   "execution_count": 95,
   "id": "5096b4ba",
   "metadata": {
    "scrolled": true,
    "tags": []
   },
   "outputs": [
    {
     "name": "stdout",
     "output_type": "stream",
     "text": [
      "<class 'pandas.core.frame.DataFrame'>\n",
      "RangeIndex: 1987 entries, 0 to 1986\n",
      "Data columns (total 53 columns):\n",
      " #   Column                  Non-Null Count  Dtype  \n",
      "---  ------                  --------------  -----  \n",
      " 0   index                   1987 non-null   int64  \n",
      " 1   LocationCode            1987 non-null   object \n",
      " 2   LocationName            1987 non-null   object \n",
      " 3   StatesCode              1987 non-null   object \n",
      " 4   ...4                    1987 non-null   int64  \n",
      " 5   id                      1987 non-null   float64\n",
      " 6   text                    1987 non-null   object \n",
      " 7   label                   1987 non-null   object \n",
      " 8   in_reply_to_status_id   147 non-null    float64\n",
      " 9   in_reply_to_user_id     166 non-null    float64\n",
      " 10  quoted_user_id          0 non-null      float64\n",
      " 11  quoted_status_id        0 non-null      float64\n",
      " 12  retweeted_user_id       280 non-null    float64\n",
      " 13  retweeted_status_id     280 non-null    float64\n",
      " 14  created_at              1987 non-null   object \n",
      " 15  entities.user_mentions  562 non-null    object \n",
      " 16  user.id                 1987 non-null   int64  \n",
      " 17  user.screen_name        1987 non-null   object \n",
      " 18  user.name               1985 non-null   object \n",
      " 19  user.description        1734 non-null   object \n",
      " 20  user.timezone           0 non-null      float64\n",
      " 21  user.location           1972 non-null   object \n",
      " 22  user.num_followers      1987 non-null   int64  \n",
      " 23  user.num_following      1987 non-null   int64  \n",
      " 24  user.created_at         1987 non-null   object \n",
      " 25  user.statuses_count     1987 non-null   int64  \n",
      " 26  user.is_verified        1987 non-null   bool   \n",
      " 27  lang                    1987 non-null   object \n",
      " 28  token_count             1987 non-null   int64  \n",
      " 29  is_retweet              1987 non-null   bool   \n",
      " 30  has_quote               1987 non-null   bool   \n",
      " 31  is_reply                1987 non-null   bool   \n",
      " 32  contains_keywords       1987 non-null   bool   \n",
      " 33  longitude               1987 non-null   float64\n",
      " 34  latitude                1987 non-null   float64\n",
      " 35  country_code            1987 non-null   object \n",
      " 36  geoname_id              1932 non-null   float64\n",
      " 37  location_type           1987 non-null   object \n",
      " 38  geo_type                1987 non-null   int64  \n",
      " 39  region                  1987 non-null   object \n",
      " 40  subregion               1987 non-null   object \n",
      " 41  num_quotes              1987 non-null   int64  \n",
      " 42  num_replies             1987 non-null   int64  \n",
      " 43  num_retweets            1987 non-null   int64  \n",
      " 44  sent_gpt                1987 non-null   object \n",
      " 45  gpt_sent_presence       1987 non-null   int64  \n",
      " 46  cleaned_text_lem        1987 non-null   object \n",
      " 47  cleaned_text            1987 non-null   object \n",
      " 48  month                   1987 non-null   int64  \n",
      " 49  year                    1987 non-null   int64  \n",
      " 50  week                    1987 non-null   int64  \n",
      " 51  year_month              1987 non-null   object \n",
      " 52  year_week               1987 non-null   object \n",
      "dtypes: bool(5), float64(11), int64(15), object(22)\n",
      "memory usage: 755.0+ KB\n"
     ]
    }
   ],
   "source": [
    "# Get monthly data\n",
    "df_2014_07_neu = pd.read_csv('../data/local/df_neu_2014-07.csv').reset_index()\n",
    "df_2014_07_neu.info()"
   ]
  },
  {
   "cell_type": "markdown",
   "id": "bdd1752b",
   "metadata": {},
   "source": [
    "### Representative sample based on week and location"
   ]
  },
  {
   "cell_type": "code",
   "execution_count": 96,
   "id": "e62e79b6",
   "metadata": {},
   "outputs": [
    {
     "data": {
      "text/html": [
       "<div>\n",
       "<style scoped>\n",
       "    .dataframe tbody tr th:only-of-type {\n",
       "        vertical-align: middle;\n",
       "    }\n",
       "\n",
       "    .dataframe tbody tr th {\n",
       "        vertical-align: top;\n",
       "    }\n",
       "\n",
       "    .dataframe thead th {\n",
       "        text-align: right;\n",
       "    }\n",
       "</style>\n",
       "<table border=\"1\" class=\"dataframe\">\n",
       "  <thead>\n",
       "    <tr style=\"text-align: right;\">\n",
       "      <th></th>\n",
       "      <th>year_week</th>\n",
       "      <th>LocationName</th>\n",
       "      <th>group_size</th>\n",
       "      <th>proportion</th>\n",
       "    </tr>\n",
       "  </thead>\n",
       "  <tbody>\n",
       "    <tr>\n",
       "      <th>0</th>\n",
       "      <td>2014-w26</td>\n",
       "      <td>Acre</td>\n",
       "      <td>1</td>\n",
       "      <td>0.000503</td>\n",
       "    </tr>\n",
       "    <tr>\n",
       "      <th>1</th>\n",
       "      <td>2014-w26</td>\n",
       "      <td>Alagoas</td>\n",
       "      <td>1</td>\n",
       "      <td>0.000503</td>\n",
       "    </tr>\n",
       "    <tr>\n",
       "      <th>2</th>\n",
       "      <td>2014-w26</td>\n",
       "      <td>Amapa</td>\n",
       "      <td>10</td>\n",
       "      <td>0.005033</td>\n",
       "    </tr>\n",
       "    <tr>\n",
       "      <th>3</th>\n",
       "      <td>2014-w26</td>\n",
       "      <td>Amazonas</td>\n",
       "      <td>1</td>\n",
       "      <td>0.000503</td>\n",
       "    </tr>\n",
       "    <tr>\n",
       "      <th>4</th>\n",
       "      <td>2014-w26</td>\n",
       "      <td>Bahia</td>\n",
       "      <td>7</td>\n",
       "      <td>0.003523</td>\n",
       "    </tr>\n",
       "    <tr>\n",
       "      <th>...</th>\n",
       "      <td>...</td>\n",
       "      <td>...</td>\n",
       "      <td>...</td>\n",
       "      <td>...</td>\n",
       "    </tr>\n",
       "    <tr>\n",
       "      <th>121</th>\n",
       "      <td>2014-w31</td>\n",
       "      <td>Rio Grande Do Sul</td>\n",
       "      <td>17</td>\n",
       "      <td>0.008556</td>\n",
       "    </tr>\n",
       "    <tr>\n",
       "      <th>122</th>\n",
       "      <td>2014-w31</td>\n",
       "      <td>Santa Catarina</td>\n",
       "      <td>20</td>\n",
       "      <td>0.010065</td>\n",
       "    </tr>\n",
       "    <tr>\n",
       "      <th>123</th>\n",
       "      <td>2014-w31</td>\n",
       "      <td>Sao Paulo</td>\n",
       "      <td>50</td>\n",
       "      <td>0.025164</td>\n",
       "    </tr>\n",
       "    <tr>\n",
       "      <th>124</th>\n",
       "      <td>2014-w31</td>\n",
       "      <td>Sergipe</td>\n",
       "      <td>4</td>\n",
       "      <td>0.002013</td>\n",
       "    </tr>\n",
       "    <tr>\n",
       "      <th>125</th>\n",
       "      <td>2014-w31</td>\n",
       "      <td>Tocantins</td>\n",
       "      <td>3</td>\n",
       "      <td>0.001510</td>\n",
       "    </tr>\n",
       "  </tbody>\n",
       "</table>\n",
       "<p>126 rows × 4 columns</p>\n",
       "</div>"
      ],
      "text/plain": [
       "    year_week       LocationName  group_size  proportion\n",
       "0    2014-w26               Acre           1    0.000503\n",
       "1    2014-w26            Alagoas           1    0.000503\n",
       "2    2014-w26              Amapa          10    0.005033\n",
       "3    2014-w26           Amazonas           1    0.000503\n",
       "4    2014-w26              Bahia           7    0.003523\n",
       "..        ...                ...         ...         ...\n",
       "121  2014-w31  Rio Grande Do Sul          17    0.008556\n",
       "122  2014-w31     Santa Catarina          20    0.010065\n",
       "123  2014-w31          Sao Paulo          50    0.025164\n",
       "124  2014-w31            Sergipe           4    0.002013\n",
       "125  2014-w31          Tocantins           3    0.001510\n",
       "\n",
       "[126 rows x 4 columns]"
      ]
     },
     "execution_count": 96,
     "metadata": {},
     "output_type": "execute_result"
    }
   ],
   "source": [
    "# Step 1: Calculate the size of each group (year_week, LocationName)\n",
    "group_sizes = df_2014_07_neu.groupby(['year_week', 'LocationName']).size().reset_index(name='group_size')\n",
    "\n",
    "# Step 2: Calculate the proportion of each group in the dataset\n",
    "total_rows = len(df_2014_07_neu)\n",
    "group_sizes['proportion'] = group_sizes['group_size'] / total_rows\n",
    "group_sizes"
   ]
  },
  {
   "cell_type": "code",
   "execution_count": 97,
   "id": "97b60716",
   "metadata": {},
   "outputs": [
    {
     "data": {
      "text/html": [
       "<div>\n",
       "<style scoped>\n",
       "    .dataframe tbody tr th:only-of-type {\n",
       "        vertical-align: middle;\n",
       "    }\n",
       "\n",
       "    .dataframe tbody tr th {\n",
       "        vertical-align: top;\n",
       "    }\n",
       "\n",
       "    .dataframe thead th {\n",
       "        text-align: right;\n",
       "    }\n",
       "</style>\n",
       "<table border=\"1\" class=\"dataframe\">\n",
       "  <thead>\n",
       "    <tr style=\"text-align: right;\">\n",
       "      <th></th>\n",
       "      <th>year_week</th>\n",
       "      <th>LocationName</th>\n",
       "      <th>group_size</th>\n",
       "      <th>proportion</th>\n",
       "      <th>sample_size</th>\n",
       "    </tr>\n",
       "  </thead>\n",
       "  <tbody>\n",
       "    <tr>\n",
       "      <th>0</th>\n",
       "      <td>2014-w26</td>\n",
       "      <td>Acre</td>\n",
       "      <td>1</td>\n",
       "      <td>0.000503</td>\n",
       "      <td>1</td>\n",
       "    </tr>\n",
       "    <tr>\n",
       "      <th>1</th>\n",
       "      <td>2014-w26</td>\n",
       "      <td>Alagoas</td>\n",
       "      <td>1</td>\n",
       "      <td>0.000503</td>\n",
       "      <td>1</td>\n",
       "    </tr>\n",
       "    <tr>\n",
       "      <th>2</th>\n",
       "      <td>2014-w26</td>\n",
       "      <td>Amapa</td>\n",
       "      <td>10</td>\n",
       "      <td>0.005033</td>\n",
       "      <td>12</td>\n",
       "    </tr>\n",
       "    <tr>\n",
       "      <th>3</th>\n",
       "      <td>2014-w26</td>\n",
       "      <td>Amazonas</td>\n",
       "      <td>1</td>\n",
       "      <td>0.000503</td>\n",
       "      <td>1</td>\n",
       "    </tr>\n",
       "    <tr>\n",
       "      <th>4</th>\n",
       "      <td>2014-w26</td>\n",
       "      <td>Bahia</td>\n",
       "      <td>7</td>\n",
       "      <td>0.003523</td>\n",
       "      <td>8</td>\n",
       "    </tr>\n",
       "    <tr>\n",
       "      <th>...</th>\n",
       "      <td>...</td>\n",
       "      <td>...</td>\n",
       "      <td>...</td>\n",
       "      <td>...</td>\n",
       "      <td>...</td>\n",
       "    </tr>\n",
       "    <tr>\n",
       "      <th>121</th>\n",
       "      <td>2014-w31</td>\n",
       "      <td>Rio Grande Do Sul</td>\n",
       "      <td>17</td>\n",
       "      <td>0.008556</td>\n",
       "      <td>20</td>\n",
       "    </tr>\n",
       "    <tr>\n",
       "      <th>122</th>\n",
       "      <td>2014-w31</td>\n",
       "      <td>Santa Catarina</td>\n",
       "      <td>20</td>\n",
       "      <td>0.010065</td>\n",
       "      <td>24</td>\n",
       "    </tr>\n",
       "    <tr>\n",
       "      <th>123</th>\n",
       "      <td>2014-w31</td>\n",
       "      <td>Sao Paulo</td>\n",
       "      <td>50</td>\n",
       "      <td>0.025164</td>\n",
       "      <td>61</td>\n",
       "    </tr>\n",
       "    <tr>\n",
       "      <th>124</th>\n",
       "      <td>2014-w31</td>\n",
       "      <td>Sergipe</td>\n",
       "      <td>4</td>\n",
       "      <td>0.002013</td>\n",
       "      <td>4</td>\n",
       "    </tr>\n",
       "    <tr>\n",
       "      <th>125</th>\n",
       "      <td>2014-w31</td>\n",
       "      <td>Tocantins</td>\n",
       "      <td>3</td>\n",
       "      <td>0.001510</td>\n",
       "      <td>3</td>\n",
       "    </tr>\n",
       "  </tbody>\n",
       "</table>\n",
       "<p>126 rows × 5 columns</p>\n",
       "</div>"
      ],
      "text/plain": [
       "    year_week       LocationName  group_size  proportion  sample_size\n",
       "0    2014-w26               Acre           1    0.000503            1\n",
       "1    2014-w26            Alagoas           1    0.000503            1\n",
       "2    2014-w26              Amapa          10    0.005033           12\n",
       "3    2014-w26           Amazonas           1    0.000503            1\n",
       "4    2014-w26              Bahia           7    0.003523            8\n",
       "..        ...                ...         ...         ...          ...\n",
       "121  2014-w31  Rio Grande Do Sul          17    0.008556           20\n",
       "122  2014-w31     Santa Catarina          20    0.010065           24\n",
       "123  2014-w31          Sao Paulo          50    0.025164           61\n",
       "124  2014-w31            Sergipe           4    0.002013            4\n",
       "125  2014-w31          Tocantins           3    0.001510            3\n",
       "\n",
       "[126 rows x 5 columns]"
      ]
     },
     "execution_count": 97,
     "metadata": {},
     "output_type": "execute_result"
    }
   ],
   "source": [
    "# Step 3: Define the target sample size\n",
    "target_sample_size = 2450\n",
    "\n",
    "# Step 4: Calculate the sample size for each group (based on its proportion)\n",
    "group_sizes['sample_size'] = np.floor(group_sizes['proportion'] * target_sample_size).astype(int)\n",
    "group_sizes"
   ]
  },
  {
   "cell_type": "code",
   "execution_count": 98,
   "id": "4c991d80",
   "metadata": {},
   "outputs": [],
   "source": [
    "# Step 5: Merge this sample size information back to the original DataFrame\n",
    "df_2014_07_neu_sample_size = pd.merge(df_2014_07_neu, group_sizes[['year_week', 'LocationName', 'sample_size']], \n",
    "                               on=['year_week', 'LocationName'], how='left')"
   ]
  },
  {
   "cell_type": "code",
   "execution_count": 100,
   "id": "deab4678",
   "metadata": {},
   "outputs": [
    {
     "name": "stdout",
     "output_type": "stream",
     "text": [
      "Sampled 1987 rows.\n"
     ]
    }
   ],
   "source": [
    "# Step 6: Perform the stratified sampling\n",
    "#df_2014_07_neu_sample = df_2014_07_neu_sample_size.groupby(['year_week', 'LocationName']).apply(\n",
    " #   lambda group: group.sample(n=group['sample_size'].iloc[0], random_state=42)\n",
    "#).reset_index(drop=True)\n",
    "df_2014_07_neu_sample = df_2014_07_neu\n",
    "# Step 7: Check the result\n",
    "print(f\"Sampled {len(df_2014_07_neu_sample)} rows.\")\n"
   ]
  },
  {
   "cell_type": "code",
   "execution_count": 101,
   "id": "33656dea",
   "metadata": {},
   "outputs": [],
   "source": [
    "text_gpt_2014_07_neu = '\\n'.join(df_2014_07_neu_sample['text'].astype(str))"
   ]
  },
  {
   "cell_type": "markdown",
   "id": "92d7e0ea",
   "metadata": {},
   "source": [
    "### Prompts and loops"
   ]
  },
  {
   "cell_type": "code",
   "execution_count": 102,
   "id": "349334a9",
   "metadata": {},
   "outputs": [],
   "source": [
    "prompt_7 = prompt_raw.replace('TWEETS', text_gpt_2014_07_neu)"
   ]
  },
  {
   "cell_type": "code",
   "execution_count": 103,
   "id": "ff46a08b",
   "metadata": {
    "scrolled": false
   },
   "outputs": [],
   "source": [
    "response = openai.ChatCompletion.create(\n",
    "    model=\"gpt-4o-mini\",  \n",
    "    messages = [\n",
    "        {\"role\": \"user\", \"content\": prompt_7}\n",
    "    ],\n",
    "    max_tokens=400,  # Maximum number of tokens in the response\n",
    "    temperature=0.7  # Controls the randomness of the output\n",
    ")"
   ]
  },
  {
   "cell_type": "code",
   "execution_count": 104,
   "id": "6723c1d4",
   "metadata": {},
   "outputs": [
    {
     "data": {
      "text/plain": [
       "'The provided Portuguese sentences predominantly discuss various vaccination campaigns in Brazil, such as those against tuberculosis, hepatitis A, and leishmaniasis. They highlight vaccination efforts for children, adults, and animals, along with reminders for individuals to get vaccinated and reports on the coverage and effectiveness of these vaccines. The text also touches on public health initiatives and community reactions to vaccination.'"
      ]
     },
     "execution_count": 104,
     "metadata": {},
     "output_type": "execute_result"
    }
   ],
   "source": [
    "response.choices[0].message.content"
   ]
  },
  {
   "cell_type": "code",
   "execution_count": 105,
   "id": "d3081509",
   "metadata": {},
   "outputs": [],
   "source": [
    "#summary = []\n",
    "#dataset = []"
   ]
  },
  {
   "cell_type": "code",
   "execution_count": 106,
   "id": "1ba0dacb",
   "metadata": {},
   "outputs": [],
   "source": [
    "dataset.append(\"2014_07_neutral\")"
   ]
  },
  {
   "cell_type": "code",
   "execution_count": 107,
   "id": "cadb0bde",
   "metadata": {},
   "outputs": [],
   "source": [
    "summary.append(response.choices[0].message.content)"
   ]
  },
  {
   "cell_type": "code",
   "execution_count": 108,
   "id": "b80e1e4e",
   "metadata": {
    "tags": []
   },
   "outputs": [
    {
     "name": "stdout",
     "output_type": "stream",
     "text": [
      "<class 'pandas.core.frame.DataFrame'>\n",
      "RangeIndex: 7 entries, 0 to 6\n",
      "Data columns (total 2 columns):\n",
      " #   Column   Non-Null Count  Dtype \n",
      "---  ------   --------------  ----- \n",
      " 0   dataset  7 non-null      object\n",
      " 1   summary  7 non-null      object\n",
      "dtypes: object(2)\n",
      "memory usage: 240.0+ bytes\n"
     ]
    }
   ],
   "source": [
    "df_2014_neu = pd.DataFrame(list(zip(dataset, summary)),\n",
    "                            columns = ['dataset', 'summary'])\n",
    "df_2014_neu.info()"
   ]
  },
  {
   "cell_type": "code",
   "execution_count": 109,
   "id": "de211f05",
   "metadata": {},
   "outputs": [
    {
     "data": {
      "text/html": [
       "<div>\n",
       "<style scoped>\n",
       "    .dataframe tbody tr th:only-of-type {\n",
       "        vertical-align: middle;\n",
       "    }\n",
       "\n",
       "    .dataframe tbody tr th {\n",
       "        vertical-align: top;\n",
       "    }\n",
       "\n",
       "    .dataframe thead th {\n",
       "        text-align: right;\n",
       "    }\n",
       "</style>\n",
       "<table border=\"1\" class=\"dataframe\">\n",
       "  <thead>\n",
       "    <tr style=\"text-align: right;\">\n",
       "      <th></th>\n",
       "      <th>dataset</th>\n",
       "      <th>summary</th>\n",
       "    </tr>\n",
       "  </thead>\n",
       "  <tbody>\n",
       "    <tr>\n",
       "      <th>0</th>\n",
       "      <td>2014_01_neutral</td>\n",
       "      <td>The text discusses various aspects of vaccinat...</td>\n",
       "    </tr>\n",
       "    <tr>\n",
       "      <th>1</th>\n",
       "      <td>2014_02_neutral</td>\n",
       "      <td>The text discusses various vaccination campaig...</td>\n",
       "    </tr>\n",
       "    <tr>\n",
       "      <th>2</th>\n",
       "      <td>2014_03_neutral</td>\n",
       "      <td>The upcoming vaccination campaign against HPV ...</td>\n",
       "    </tr>\n",
       "    <tr>\n",
       "      <th>3</th>\n",
       "      <td>2014_04_neutral</td>\n",
       "      <td>The provided sentences discuss various vaccina...</td>\n",
       "    </tr>\n",
       "    <tr>\n",
       "      <th>4</th>\n",
       "      <td>2014_05_neutral</td>\n",
       "      <td>The text discusses various aspects of vaccinat...</td>\n",
       "    </tr>\n",
       "    <tr>\n",
       "      <th>5</th>\n",
       "      <td>2014_06_neutral</td>\n",
       "      <td>The text discusses various aspects of vaccinat...</td>\n",
       "    </tr>\n",
       "    <tr>\n",
       "      <th>6</th>\n",
       "      <td>2014_07_neutral</td>\n",
       "      <td>The provided Portuguese sentences predominantl...</td>\n",
       "    </tr>\n",
       "  </tbody>\n",
       "</table>\n",
       "</div>"
      ],
      "text/plain": [
       "           dataset                                            summary\n",
       "0  2014_01_neutral  The text discusses various aspects of vaccinat...\n",
       "1  2014_02_neutral  The text discusses various vaccination campaig...\n",
       "2  2014_03_neutral  The upcoming vaccination campaign against HPV ...\n",
       "3  2014_04_neutral  The provided sentences discuss various vaccina...\n",
       "4  2014_05_neutral  The text discusses various aspects of vaccinat...\n",
       "5  2014_06_neutral  The text discusses various aspects of vaccinat...\n",
       "6  2014_07_neutral  The provided Portuguese sentences predominantl..."
      ]
     },
     "execution_count": 109,
     "metadata": {},
     "output_type": "execute_result"
    }
   ],
   "source": [
    "df_2014_neu.tail(14)"
   ]
  },
  {
   "cell_type": "code",
   "execution_count": 110,
   "id": "19075d74",
   "metadata": {},
   "outputs": [
    {
     "data": {
      "text/plain": [
       "<OpenAIObject chat.completion id=chatcmpl-AUdJhtdSCJxaBsjfHnLCJh2eE9SYZ at 0x1263e4b8ef0> JSON: {\n",
       "  \"choices\": [\n",
       "    {\n",
       "      \"finish_reason\": \"stop\",\n",
       "      \"index\": 0,\n",
       "      \"logprobs\": null,\n",
       "      \"message\": {\n",
       "        \"content\": \"The provided Portuguese sentences predominantly discuss various vaccination campaigns in Brazil, such as those against tuberculosis, hepatitis A, and leishmaniasis. They highlight vaccination efforts for children, adults, and animals, along with reminders for individuals to get vaccinated and reports on the coverage and effectiveness of these vaccines. The text also touches on public health initiatives and community reactions to vaccination.\",\n",
       "        \"refusal\": null,\n",
       "        \"role\": \"assistant\"\n",
       "      }\n",
       "    }\n",
       "  ],\n",
       "  \"created\": 1731864337,\n",
       "  \"id\": \"chatcmpl-AUdJhtdSCJxaBsjfHnLCJh2eE9SYZ\",\n",
       "  \"model\": \"gpt-4o-mini-2024-07-18\",\n",
       "  \"object\": \"chat.completion\",\n",
       "  \"system_fingerprint\": \"fp_0ba0d124f1\",\n",
       "  \"usage\": {\n",
       "    \"completion_tokens\": 72,\n",
       "    \"completion_tokens_details\": {\n",
       "      \"accepted_prediction_tokens\": 0,\n",
       "      \"audio_tokens\": 0,\n",
       "      \"reasoning_tokens\": 0,\n",
       "      \"rejected_prediction_tokens\": 0\n",
       "    },\n",
       "    \"prompt_tokens\": 42911,\n",
       "    \"prompt_tokens_details\": {\n",
       "      \"audio_tokens\": 0,\n",
       "      \"cached_tokens\": 0\n",
       "    },\n",
       "    \"total_tokens\": 42983\n",
       "  }\n",
       "}"
      ]
     },
     "execution_count": 110,
     "metadata": {},
     "output_type": "execute_result"
    }
   ],
   "source": [
    "response"
   ]
  },
  {
   "cell_type": "markdown",
   "id": "9d083d2a",
   "metadata": {},
   "source": [
    "## August"
   ]
  },
  {
   "cell_type": "code",
   "execution_count": 111,
   "id": "0ed2a943",
   "metadata": {
    "scrolled": true,
    "tags": []
   },
   "outputs": [
    {
     "name": "stdout",
     "output_type": "stream",
     "text": [
      "<class 'pandas.core.frame.DataFrame'>\n",
      "RangeIndex: 2302 entries, 0 to 2301\n",
      "Data columns (total 53 columns):\n",
      " #   Column                  Non-Null Count  Dtype  \n",
      "---  ------                  --------------  -----  \n",
      " 0   index                   2302 non-null   int64  \n",
      " 1   LocationCode            2302 non-null   object \n",
      " 2   LocationName            2302 non-null   object \n",
      " 3   StatesCode              2302 non-null   object \n",
      " 4   ...4                    2302 non-null   int64  \n",
      " 5   id                      2302 non-null   float64\n",
      " 6   text                    2302 non-null   object \n",
      " 7   label                   2302 non-null   object \n",
      " 8   in_reply_to_status_id   153 non-null    float64\n",
      " 9   in_reply_to_user_id     162 non-null    float64\n",
      " 10  quoted_user_id          0 non-null      float64\n",
      " 11  quoted_status_id        0 non-null      float64\n",
      " 12  retweeted_user_id       365 non-null    float64\n",
      " 13  retweeted_status_id     365 non-null    float64\n",
      " 14  created_at              2302 non-null   object \n",
      " 15  entities.user_mentions  716 non-null    object \n",
      " 16  user.id                 2302 non-null   int64  \n",
      " 17  user.screen_name        2302 non-null   object \n",
      " 18  user.name               2301 non-null   object \n",
      " 19  user.description        1981 non-null   object \n",
      " 20  user.timezone           0 non-null      float64\n",
      " 21  user.location           2287 non-null   object \n",
      " 22  user.num_followers      2302 non-null   int64  \n",
      " 23  user.num_following      2302 non-null   int64  \n",
      " 24  user.created_at         2302 non-null   object \n",
      " 25  user.statuses_count     2302 non-null   int64  \n",
      " 26  user.is_verified        2302 non-null   bool   \n",
      " 27  lang                    2302 non-null   object \n",
      " 28  token_count             2302 non-null   int64  \n",
      " 29  is_retweet              2302 non-null   bool   \n",
      " 30  has_quote               2302 non-null   bool   \n",
      " 31  is_reply                2302 non-null   bool   \n",
      " 32  contains_keywords       2302 non-null   bool   \n",
      " 33  longitude               2302 non-null   float64\n",
      " 34  latitude                2302 non-null   float64\n",
      " 35  country_code            2302 non-null   object \n",
      " 36  geoname_id              2235 non-null   float64\n",
      " 37  location_type           2302 non-null   object \n",
      " 38  geo_type                2302 non-null   int64  \n",
      " 39  region                  2302 non-null   object \n",
      " 40  subregion               2302 non-null   object \n",
      " 41  num_quotes              2302 non-null   int64  \n",
      " 42  num_replies             2302 non-null   int64  \n",
      " 43  num_retweets            2302 non-null   int64  \n",
      " 44  sent_gpt                2302 non-null   object \n",
      " 45  gpt_sent_presence       2302 non-null   int64  \n",
      " 46  cleaned_text_lem        2302 non-null   object \n",
      " 47  cleaned_text            2302 non-null   object \n",
      " 48  month                   2302 non-null   int64  \n",
      " 49  year                    2302 non-null   int64  \n",
      " 50  week                    2302 non-null   int64  \n",
      " 51  year_month              2302 non-null   object \n",
      " 52  year_week               2302 non-null   object \n",
      "dtypes: bool(5), float64(11), int64(15), object(22)\n",
      "memory usage: 874.6+ KB\n"
     ]
    }
   ],
   "source": [
    "# Get monthly data\n",
    "df_2014_08_neu = pd.read_csv('../data/local/df_neu_2014-08.csv').reset_index()\n",
    "df_2014_08_neu.info()"
   ]
  },
  {
   "cell_type": "markdown",
   "id": "3c035145",
   "metadata": {},
   "source": [
    "### Representative sample based on week and location"
   ]
  },
  {
   "cell_type": "code",
   "execution_count": 112,
   "id": "ebf072ee",
   "metadata": {},
   "outputs": [
    {
     "data": {
      "text/html": [
       "<div>\n",
       "<style scoped>\n",
       "    .dataframe tbody tr th:only-of-type {\n",
       "        vertical-align: middle;\n",
       "    }\n",
       "\n",
       "    .dataframe tbody tr th {\n",
       "        vertical-align: top;\n",
       "    }\n",
       "\n",
       "    .dataframe thead th {\n",
       "        text-align: right;\n",
       "    }\n",
       "</style>\n",
       "<table border=\"1\" class=\"dataframe\">\n",
       "  <thead>\n",
       "    <tr style=\"text-align: right;\">\n",
       "      <th></th>\n",
       "      <th>year_week</th>\n",
       "      <th>LocationName</th>\n",
       "      <th>group_size</th>\n",
       "      <th>proportion</th>\n",
       "    </tr>\n",
       "  </thead>\n",
       "  <tbody>\n",
       "    <tr>\n",
       "      <th>0</th>\n",
       "      <td>2014-w31</td>\n",
       "      <td>Acre</td>\n",
       "      <td>1</td>\n",
       "      <td>0.000434</td>\n",
       "    </tr>\n",
       "    <tr>\n",
       "      <th>1</th>\n",
       "      <td>2014-w31</td>\n",
       "      <td>Alagoas</td>\n",
       "      <td>1</td>\n",
       "      <td>0.000434</td>\n",
       "    </tr>\n",
       "    <tr>\n",
       "      <th>2</th>\n",
       "      <td>2014-w31</td>\n",
       "      <td>Amapa</td>\n",
       "      <td>3</td>\n",
       "      <td>0.001303</td>\n",
       "    </tr>\n",
       "    <tr>\n",
       "      <th>3</th>\n",
       "      <td>2014-w31</td>\n",
       "      <td>Amazonas</td>\n",
       "      <td>6</td>\n",
       "      <td>0.002606</td>\n",
       "    </tr>\n",
       "    <tr>\n",
       "      <th>4</th>\n",
       "      <td>2014-w31</td>\n",
       "      <td>Bahia</td>\n",
       "      <td>25</td>\n",
       "      <td>0.010860</td>\n",
       "    </tr>\n",
       "    <tr>\n",
       "      <th>...</th>\n",
       "      <td>...</td>\n",
       "      <td>...</td>\n",
       "      <td>...</td>\n",
       "      <td>...</td>\n",
       "    </tr>\n",
       "    <tr>\n",
       "      <th>107</th>\n",
       "      <td>2014-w35</td>\n",
       "      <td>Roraima</td>\n",
       "      <td>3</td>\n",
       "      <td>0.001303</td>\n",
       "    </tr>\n",
       "    <tr>\n",
       "      <th>108</th>\n",
       "      <td>2014-w35</td>\n",
       "      <td>Santa Catarina</td>\n",
       "      <td>13</td>\n",
       "      <td>0.005647</td>\n",
       "    </tr>\n",
       "    <tr>\n",
       "      <th>109</th>\n",
       "      <td>2014-w35</td>\n",
       "      <td>Sao Paulo</td>\n",
       "      <td>98</td>\n",
       "      <td>0.042572</td>\n",
       "    </tr>\n",
       "    <tr>\n",
       "      <th>110</th>\n",
       "      <td>2014-w35</td>\n",
       "      <td>Sergipe</td>\n",
       "      <td>1</td>\n",
       "      <td>0.000434</td>\n",
       "    </tr>\n",
       "    <tr>\n",
       "      <th>111</th>\n",
       "      <td>2014-w35</td>\n",
       "      <td>Tocantins</td>\n",
       "      <td>4</td>\n",
       "      <td>0.001738</td>\n",
       "    </tr>\n",
       "  </tbody>\n",
       "</table>\n",
       "<p>112 rows × 4 columns</p>\n",
       "</div>"
      ],
      "text/plain": [
       "    year_week    LocationName  group_size  proportion\n",
       "0    2014-w31            Acre           1    0.000434\n",
       "1    2014-w31         Alagoas           1    0.000434\n",
       "2    2014-w31           Amapa           3    0.001303\n",
       "3    2014-w31        Amazonas           6    0.002606\n",
       "4    2014-w31           Bahia          25    0.010860\n",
       "..        ...             ...         ...         ...\n",
       "107  2014-w35         Roraima           3    0.001303\n",
       "108  2014-w35  Santa Catarina          13    0.005647\n",
       "109  2014-w35       Sao Paulo          98    0.042572\n",
       "110  2014-w35         Sergipe           1    0.000434\n",
       "111  2014-w35       Tocantins           4    0.001738\n",
       "\n",
       "[112 rows x 4 columns]"
      ]
     },
     "execution_count": 112,
     "metadata": {},
     "output_type": "execute_result"
    }
   ],
   "source": [
    "# Step 1: Calculate the size of each group (year_week, LocationName)\n",
    "group_sizes = df_2014_08_neu.groupby(['year_week', 'LocationName']).size().reset_index(name='group_size')\n",
    "\n",
    "# Step 2: Calculate the proportion of each group in the dataset\n",
    "total_rows = len(df_2014_08_neu)\n",
    "group_sizes['proportion'] = group_sizes['group_size'] / total_rows\n",
    "group_sizes"
   ]
  },
  {
   "cell_type": "code",
   "execution_count": 113,
   "id": "c3bc6232",
   "metadata": {},
   "outputs": [
    {
     "data": {
      "text/html": [
       "<div>\n",
       "<style scoped>\n",
       "    .dataframe tbody tr th:only-of-type {\n",
       "        vertical-align: middle;\n",
       "    }\n",
       "\n",
       "    .dataframe tbody tr th {\n",
       "        vertical-align: top;\n",
       "    }\n",
       "\n",
       "    .dataframe thead th {\n",
       "        text-align: right;\n",
       "    }\n",
       "</style>\n",
       "<table border=\"1\" class=\"dataframe\">\n",
       "  <thead>\n",
       "    <tr style=\"text-align: right;\">\n",
       "      <th></th>\n",
       "      <th>year_week</th>\n",
       "      <th>LocationName</th>\n",
       "      <th>group_size</th>\n",
       "      <th>proportion</th>\n",
       "      <th>sample_size</th>\n",
       "    </tr>\n",
       "  </thead>\n",
       "  <tbody>\n",
       "    <tr>\n",
       "      <th>0</th>\n",
       "      <td>2014-w31</td>\n",
       "      <td>Acre</td>\n",
       "      <td>1</td>\n",
       "      <td>0.000434</td>\n",
       "      <td>1</td>\n",
       "    </tr>\n",
       "    <tr>\n",
       "      <th>1</th>\n",
       "      <td>2014-w31</td>\n",
       "      <td>Alagoas</td>\n",
       "      <td>1</td>\n",
       "      <td>0.000434</td>\n",
       "      <td>1</td>\n",
       "    </tr>\n",
       "    <tr>\n",
       "      <th>2</th>\n",
       "      <td>2014-w31</td>\n",
       "      <td>Amapa</td>\n",
       "      <td>3</td>\n",
       "      <td>0.001303</td>\n",
       "      <td>3</td>\n",
       "    </tr>\n",
       "    <tr>\n",
       "      <th>3</th>\n",
       "      <td>2014-w31</td>\n",
       "      <td>Amazonas</td>\n",
       "      <td>6</td>\n",
       "      <td>0.002606</td>\n",
       "      <td>6</td>\n",
       "    </tr>\n",
       "    <tr>\n",
       "      <th>4</th>\n",
       "      <td>2014-w31</td>\n",
       "      <td>Bahia</td>\n",
       "      <td>25</td>\n",
       "      <td>0.010860</td>\n",
       "      <td>26</td>\n",
       "    </tr>\n",
       "    <tr>\n",
       "      <th>...</th>\n",
       "      <td>...</td>\n",
       "      <td>...</td>\n",
       "      <td>...</td>\n",
       "      <td>...</td>\n",
       "      <td>...</td>\n",
       "    </tr>\n",
       "    <tr>\n",
       "      <th>107</th>\n",
       "      <td>2014-w35</td>\n",
       "      <td>Roraima</td>\n",
       "      <td>3</td>\n",
       "      <td>0.001303</td>\n",
       "      <td>3</td>\n",
       "    </tr>\n",
       "    <tr>\n",
       "      <th>108</th>\n",
       "      <td>2014-w35</td>\n",
       "      <td>Santa Catarina</td>\n",
       "      <td>13</td>\n",
       "      <td>0.005647</td>\n",
       "      <td>13</td>\n",
       "    </tr>\n",
       "    <tr>\n",
       "      <th>109</th>\n",
       "      <td>2014-w35</td>\n",
       "      <td>Sao Paulo</td>\n",
       "      <td>98</td>\n",
       "      <td>0.042572</td>\n",
       "      <td>104</td>\n",
       "    </tr>\n",
       "    <tr>\n",
       "      <th>110</th>\n",
       "      <td>2014-w35</td>\n",
       "      <td>Sergipe</td>\n",
       "      <td>1</td>\n",
       "      <td>0.000434</td>\n",
       "      <td>1</td>\n",
       "    </tr>\n",
       "    <tr>\n",
       "      <th>111</th>\n",
       "      <td>2014-w35</td>\n",
       "      <td>Tocantins</td>\n",
       "      <td>4</td>\n",
       "      <td>0.001738</td>\n",
       "      <td>4</td>\n",
       "    </tr>\n",
       "  </tbody>\n",
       "</table>\n",
       "<p>112 rows × 5 columns</p>\n",
       "</div>"
      ],
      "text/plain": [
       "    year_week    LocationName  group_size  proportion  sample_size\n",
       "0    2014-w31            Acre           1    0.000434            1\n",
       "1    2014-w31         Alagoas           1    0.000434            1\n",
       "2    2014-w31           Amapa           3    0.001303            3\n",
       "3    2014-w31        Amazonas           6    0.002606            6\n",
       "4    2014-w31           Bahia          25    0.010860           26\n",
       "..        ...             ...         ...         ...          ...\n",
       "107  2014-w35         Roraima           3    0.001303            3\n",
       "108  2014-w35  Santa Catarina          13    0.005647           13\n",
       "109  2014-w35       Sao Paulo          98    0.042572          104\n",
       "110  2014-w35         Sergipe           1    0.000434            1\n",
       "111  2014-w35       Tocantins           4    0.001738            4\n",
       "\n",
       "[112 rows x 5 columns]"
      ]
     },
     "execution_count": 113,
     "metadata": {},
     "output_type": "execute_result"
    }
   ],
   "source": [
    "# Step 3: Define the target sample size\n",
    "target_sample_size = 2450\n",
    "\n",
    "# Step 4: Calculate the sample size for each group (based on its proportion)\n",
    "group_sizes['sample_size'] = np.floor(group_sizes['proportion'] * target_sample_size).astype(int)\n",
    "group_sizes"
   ]
  },
  {
   "cell_type": "code",
   "execution_count": 114,
   "id": "2f55ef03",
   "metadata": {},
   "outputs": [],
   "source": [
    "# Step 5: Merge this sample size information back to the original DataFrame\n",
    "df_2014_08_neu_sample_size = pd.merge(df_2014_08_neu, group_sizes[['year_week', 'LocationName', 'sample_size']], \n",
    "                               on=['year_week', 'LocationName'], how='left')"
   ]
  },
  {
   "cell_type": "code",
   "execution_count": 116,
   "id": "2aa2083a",
   "metadata": {},
   "outputs": [
    {
     "name": "stdout",
     "output_type": "stream",
     "text": [
      "Sampled 2302 rows.\n"
     ]
    }
   ],
   "source": [
    "# Step 6: Perform the stratified sampling\n",
    "#df_2014_08_neu_sample = df_2014_08_neu_sample_size.groupby(['year_week', 'LocationName']).apply(\n",
    " #   lambda group: group.sample(n=group['sample_size'].iloc[0], random_state=42)\n",
    "#).reset_index(drop=True)\n",
    "df_2014_08_neu_sample = df_2014_08_neu\n",
    "# Step 7: Check the result\n",
    "print(f\"Sampled {len(df_2014_08_neu_sample)} rows.\")\n"
   ]
  },
  {
   "cell_type": "code",
   "execution_count": 117,
   "id": "3eb70c20",
   "metadata": {},
   "outputs": [],
   "source": [
    "text_gpt_2014_08_neu = '\\n'.join(df_2014_08_neu_sample['text'].astype(str))"
   ]
  },
  {
   "cell_type": "markdown",
   "id": "20c12a08",
   "metadata": {},
   "source": [
    "### Prompts and loops"
   ]
  },
  {
   "cell_type": "code",
   "execution_count": 118,
   "id": "6cbedf14",
   "metadata": {},
   "outputs": [],
   "source": [
    "prompt_8 = prompt_raw.replace('TWEETS', text_gpt_2014_08_neu)"
   ]
  },
  {
   "cell_type": "code",
   "execution_count": 119,
   "id": "6312a680",
   "metadata": {
    "scrolled": false
   },
   "outputs": [],
   "source": [
    "response = openai.ChatCompletion.create(\n",
    "    model=\"gpt-4o-mini\",  \n",
    "    messages = [\n",
    "        {\"role\": \"user\", \"content\": prompt_8}\n",
    "    ],\n",
    "    max_tokens=400,  # Maximum number of tokens in the response\n",
    "    temperature=0.7  # Controls the randomness of the output\n",
    ")"
   ]
  },
  {
   "cell_type": "code",
   "execution_count": 120,
   "id": "1af4a697",
   "metadata": {},
   "outputs": [
    {
     "data": {
      "text/plain": [
       "'The text discusses various vaccination campaigns in Brazil, including those for rabies, HPV, hepatitis A, and Ebola. It highlights efforts by health authorities to vaccinate children and animals, the development of vaccines, and the importance of public health initiatives. There are also humorous remarks about the vaccination experience and societal attitudes towards vaccines.'"
      ]
     },
     "execution_count": 120,
     "metadata": {},
     "output_type": "execute_result"
    }
   ],
   "source": [
    "response.choices[0].message.content"
   ]
  },
  {
   "cell_type": "code",
   "execution_count": 121,
   "id": "c2df0aba",
   "metadata": {},
   "outputs": [],
   "source": [
    "#summary = []\n",
    "#dataset = []"
   ]
  },
  {
   "cell_type": "code",
   "execution_count": 122,
   "id": "9714a127",
   "metadata": {},
   "outputs": [],
   "source": [
    "dataset.append(\"2014_08_neutral\")"
   ]
  },
  {
   "cell_type": "code",
   "execution_count": 123,
   "id": "7118fbc6",
   "metadata": {},
   "outputs": [],
   "source": [
    "summary.append(response.choices[0].message.content)"
   ]
  },
  {
   "cell_type": "code",
   "execution_count": 124,
   "id": "626416cc",
   "metadata": {
    "tags": []
   },
   "outputs": [
    {
     "name": "stdout",
     "output_type": "stream",
     "text": [
      "<class 'pandas.core.frame.DataFrame'>\n",
      "RangeIndex: 8 entries, 0 to 7\n",
      "Data columns (total 2 columns):\n",
      " #   Column   Non-Null Count  Dtype \n",
      "---  ------   --------------  ----- \n",
      " 0   dataset  8 non-null      object\n",
      " 1   summary  8 non-null      object\n",
      "dtypes: object(2)\n",
      "memory usage: 256.0+ bytes\n"
     ]
    }
   ],
   "source": [
    "df_2014_neu = pd.DataFrame(list(zip(dataset, summary)),\n",
    "                            columns = ['dataset', 'summary'])\n",
    "df_2014_neu.info()"
   ]
  },
  {
   "cell_type": "code",
   "execution_count": 125,
   "id": "c9811a57",
   "metadata": {},
   "outputs": [
    {
     "data": {
      "text/html": [
       "<div>\n",
       "<style scoped>\n",
       "    .dataframe tbody tr th:only-of-type {\n",
       "        vertical-align: middle;\n",
       "    }\n",
       "\n",
       "    .dataframe tbody tr th {\n",
       "        vertical-align: top;\n",
       "    }\n",
       "\n",
       "    .dataframe thead th {\n",
       "        text-align: right;\n",
       "    }\n",
       "</style>\n",
       "<table border=\"1\" class=\"dataframe\">\n",
       "  <thead>\n",
       "    <tr style=\"text-align: right;\">\n",
       "      <th></th>\n",
       "      <th>dataset</th>\n",
       "      <th>summary</th>\n",
       "    </tr>\n",
       "  </thead>\n",
       "  <tbody>\n",
       "    <tr>\n",
       "      <th>0</th>\n",
       "      <td>2014_01_neutral</td>\n",
       "      <td>The text discusses various aspects of vaccinat...</td>\n",
       "    </tr>\n",
       "    <tr>\n",
       "      <th>1</th>\n",
       "      <td>2014_02_neutral</td>\n",
       "      <td>The text discusses various vaccination campaig...</td>\n",
       "    </tr>\n",
       "    <tr>\n",
       "      <th>2</th>\n",
       "      <td>2014_03_neutral</td>\n",
       "      <td>The upcoming vaccination campaign against HPV ...</td>\n",
       "    </tr>\n",
       "    <tr>\n",
       "      <th>3</th>\n",
       "      <td>2014_04_neutral</td>\n",
       "      <td>The provided sentences discuss various vaccina...</td>\n",
       "    </tr>\n",
       "    <tr>\n",
       "      <th>4</th>\n",
       "      <td>2014_05_neutral</td>\n",
       "      <td>The text discusses various aspects of vaccinat...</td>\n",
       "    </tr>\n",
       "    <tr>\n",
       "      <th>5</th>\n",
       "      <td>2014_06_neutral</td>\n",
       "      <td>The text discusses various aspects of vaccinat...</td>\n",
       "    </tr>\n",
       "    <tr>\n",
       "      <th>6</th>\n",
       "      <td>2014_07_neutral</td>\n",
       "      <td>The provided Portuguese sentences predominantl...</td>\n",
       "    </tr>\n",
       "    <tr>\n",
       "      <th>7</th>\n",
       "      <td>2014_08_neutral</td>\n",
       "      <td>The text discusses various vaccination campaig...</td>\n",
       "    </tr>\n",
       "  </tbody>\n",
       "</table>\n",
       "</div>"
      ],
      "text/plain": [
       "           dataset                                            summary\n",
       "0  2014_01_neutral  The text discusses various aspects of vaccinat...\n",
       "1  2014_02_neutral  The text discusses various vaccination campaig...\n",
       "2  2014_03_neutral  The upcoming vaccination campaign against HPV ...\n",
       "3  2014_04_neutral  The provided sentences discuss various vaccina...\n",
       "4  2014_05_neutral  The text discusses various aspects of vaccinat...\n",
       "5  2014_06_neutral  The text discusses various aspects of vaccinat...\n",
       "6  2014_07_neutral  The provided Portuguese sentences predominantl...\n",
       "7  2014_08_neutral  The text discusses various vaccination campaig..."
      ]
     },
     "execution_count": 125,
     "metadata": {},
     "output_type": "execute_result"
    }
   ],
   "source": [
    "df_2014_neu.tail(14)"
   ]
  },
  {
   "cell_type": "code",
   "execution_count": 126,
   "id": "cd10153f",
   "metadata": {},
   "outputs": [
    {
     "data": {
      "text/plain": [
       "<OpenAIObject chat.completion id=chatcmpl-AUeRs2HelTQZZRJsVTCc0KoBHW315 at 0x12643e72400> JSON: {\n",
       "  \"choices\": [\n",
       "    {\n",
       "      \"finish_reason\": \"stop\",\n",
       "      \"index\": 0,\n",
       "      \"logprobs\": null,\n",
       "      \"message\": {\n",
       "        \"content\": \"The text discusses various vaccination campaigns in Brazil, including those for rabies, HPV, hepatitis A, and Ebola. It highlights efforts by health authorities to vaccinate children and animals, the development of vaccines, and the importance of public health initiatives. There are also humorous remarks about the vaccination experience and societal attitudes towards vaccines.\",\n",
       "        \"refusal\": null,\n",
       "        \"role\": \"assistant\"\n",
       "      }\n",
       "    }\n",
       "  ],\n",
       "  \"created\": 1731868688,\n",
       "  \"id\": \"chatcmpl-AUeRs2HelTQZZRJsVTCc0KoBHW315\",\n",
       "  \"model\": \"gpt-4o-mini-2024-07-18\",\n",
       "  \"object\": \"chat.completion\",\n",
       "  \"system_fingerprint\": \"fp_0ba0d124f1\",\n",
       "  \"usage\": {\n",
       "    \"completion_tokens\": 64,\n",
       "    \"completion_tokens_details\": {\n",
       "      \"accepted_prediction_tokens\": 0,\n",
       "      \"audio_tokens\": 0,\n",
       "      \"reasoning_tokens\": 0,\n",
       "      \"rejected_prediction_tokens\": 0\n",
       "    },\n",
       "    \"prompt_tokens\": 50216,\n",
       "    \"prompt_tokens_details\": {\n",
       "      \"audio_tokens\": 0,\n",
       "      \"cached_tokens\": 0\n",
       "    },\n",
       "    \"total_tokens\": 50280\n",
       "  }\n",
       "}"
      ]
     },
     "execution_count": 126,
     "metadata": {},
     "output_type": "execute_result"
    }
   ],
   "source": [
    "response"
   ]
  },
  {
   "cell_type": "markdown",
   "id": "1a0c859d",
   "metadata": {},
   "source": [
    "## September"
   ]
  },
  {
   "cell_type": "code",
   "execution_count": 127,
   "id": "46970275",
   "metadata": {
    "scrolled": true,
    "tags": []
   },
   "outputs": [
    {
     "name": "stdout",
     "output_type": "stream",
     "text": [
      "<class 'pandas.core.frame.DataFrame'>\n",
      "RangeIndex: 3069 entries, 0 to 3068\n",
      "Data columns (total 53 columns):\n",
      " #   Column                  Non-Null Count  Dtype  \n",
      "---  ------                  --------------  -----  \n",
      " 0   index                   3069 non-null   int64  \n",
      " 1   LocationCode            3069 non-null   object \n",
      " 2   LocationName            3069 non-null   object \n",
      " 3   StatesCode              3069 non-null   object \n",
      " 4   ...4                    3069 non-null   int64  \n",
      " 5   id                      3069 non-null   float64\n",
      " 6   text                    3069 non-null   object \n",
      " 7   label                   3069 non-null   object \n",
      " 8   in_reply_to_status_id   184 non-null    float64\n",
      " 9   in_reply_to_user_id     207 non-null    float64\n",
      " 10  quoted_user_id          0 non-null      float64\n",
      " 11  quoted_status_id        0 non-null      float64\n",
      " 12  retweeted_user_id       568 non-null    float64\n",
      " 13  retweeted_status_id     568 non-null    float64\n",
      " 14  created_at              3069 non-null   object \n",
      " 15  entities.user_mentions  949 non-null    object \n",
      " 16  user.id                 3069 non-null   int64  \n",
      " 17  user.screen_name        3069 non-null   object \n",
      " 18  user.name               3063 non-null   object \n",
      " 19  user.description        2675 non-null   object \n",
      " 20  user.timezone           0 non-null      float64\n",
      " 21  user.location           3039 non-null   object \n",
      " 22  user.num_followers      3069 non-null   int64  \n",
      " 23  user.num_following      3069 non-null   int64  \n",
      " 24  user.created_at         3069 non-null   object \n",
      " 25  user.statuses_count     3069 non-null   int64  \n",
      " 26  user.is_verified        3069 non-null   bool   \n",
      " 27  lang                    3069 non-null   object \n",
      " 28  token_count             3069 non-null   int64  \n",
      " 29  is_retweet              3069 non-null   bool   \n",
      " 30  has_quote               3069 non-null   bool   \n",
      " 31  is_reply                3069 non-null   bool   \n",
      " 32  contains_keywords       3069 non-null   bool   \n",
      " 33  longitude               3069 non-null   float64\n",
      " 34  latitude                3069 non-null   float64\n",
      " 35  country_code            3069 non-null   object \n",
      " 36  geoname_id              2954 non-null   float64\n",
      " 37  location_type           3069 non-null   object \n",
      " 38  geo_type                3069 non-null   int64  \n",
      " 39  region                  3069 non-null   object \n",
      " 40  subregion               3069 non-null   object \n",
      " 41  num_quotes              3069 non-null   int64  \n",
      " 42  num_replies             3069 non-null   int64  \n",
      " 43  num_retweets            3069 non-null   int64  \n",
      " 44  sent_gpt                3069 non-null   object \n",
      " 45  gpt_sent_presence       3069 non-null   int64  \n",
      " 46  cleaned_text_lem        3069 non-null   object \n",
      " 47  cleaned_text            3069 non-null   object \n",
      " 48  month                   3069 non-null   int64  \n",
      " 49  year                    3069 non-null   int64  \n",
      " 50  week                    3069 non-null   int64  \n",
      " 51  year_month              3069 non-null   object \n",
      " 52  year_week               3069 non-null   object \n",
      "dtypes: bool(5), float64(11), int64(15), object(22)\n",
      "memory usage: 1.1+ MB\n"
     ]
    }
   ],
   "source": [
    "# Get monthly data\n",
    "df_2014_09_neu = pd.read_csv('../data/local/df_neu_2014-09.csv').reset_index()\n",
    "df_2014_09_neu.info()"
   ]
  },
  {
   "cell_type": "markdown",
   "id": "6d6d95b1",
   "metadata": {},
   "source": [
    "### Representative sample based on week and location"
   ]
  },
  {
   "cell_type": "code",
   "execution_count": 128,
   "id": "1c64358d",
   "metadata": {},
   "outputs": [
    {
     "data": {
      "text/html": [
       "<div>\n",
       "<style scoped>\n",
       "    .dataframe tbody tr th:only-of-type {\n",
       "        vertical-align: middle;\n",
       "    }\n",
       "\n",
       "    .dataframe tbody tr th {\n",
       "        vertical-align: top;\n",
       "    }\n",
       "\n",
       "    .dataframe thead th {\n",
       "        text-align: right;\n",
       "    }\n",
       "</style>\n",
       "<table border=\"1\" class=\"dataframe\">\n",
       "  <thead>\n",
       "    <tr style=\"text-align: right;\">\n",
       "      <th></th>\n",
       "      <th>year_week</th>\n",
       "      <th>LocationName</th>\n",
       "      <th>group_size</th>\n",
       "      <th>proportion</th>\n",
       "    </tr>\n",
       "  </thead>\n",
       "  <tbody>\n",
       "    <tr>\n",
       "      <th>0</th>\n",
       "      <td>2014-w35</td>\n",
       "      <td>Alagoas</td>\n",
       "      <td>3</td>\n",
       "      <td>0.000978</td>\n",
       "    </tr>\n",
       "    <tr>\n",
       "      <th>1</th>\n",
       "      <td>2014-w35</td>\n",
       "      <td>Amapa</td>\n",
       "      <td>2</td>\n",
       "      <td>0.000652</td>\n",
       "    </tr>\n",
       "    <tr>\n",
       "      <th>2</th>\n",
       "      <td>2014-w35</td>\n",
       "      <td>Amazonas</td>\n",
       "      <td>8</td>\n",
       "      <td>0.002607</td>\n",
       "    </tr>\n",
       "    <tr>\n",
       "      <th>3</th>\n",
       "      <td>2014-w35</td>\n",
       "      <td>Bahia</td>\n",
       "      <td>39</td>\n",
       "      <td>0.012708</td>\n",
       "    </tr>\n",
       "    <tr>\n",
       "      <th>4</th>\n",
       "      <td>2014-w35</td>\n",
       "      <td>Ceara</td>\n",
       "      <td>31</td>\n",
       "      <td>0.010101</td>\n",
       "    </tr>\n",
       "    <tr>\n",
       "      <th>...</th>\n",
       "      <td>...</td>\n",
       "      <td>...</td>\n",
       "      <td>...</td>\n",
       "      <td>...</td>\n",
       "    </tr>\n",
       "    <tr>\n",
       "      <th>113</th>\n",
       "      <td>2014-w39</td>\n",
       "      <td>Roraima</td>\n",
       "      <td>8</td>\n",
       "      <td>0.002607</td>\n",
       "    </tr>\n",
       "    <tr>\n",
       "      <th>114</th>\n",
       "      <td>2014-w39</td>\n",
       "      <td>Santa Catarina</td>\n",
       "      <td>23</td>\n",
       "      <td>0.007494</td>\n",
       "    </tr>\n",
       "    <tr>\n",
       "      <th>115</th>\n",
       "      <td>2014-w39</td>\n",
       "      <td>Sao Paulo</td>\n",
       "      <td>121</td>\n",
       "      <td>0.039427</td>\n",
       "    </tr>\n",
       "    <tr>\n",
       "      <th>116</th>\n",
       "      <td>2014-w39</td>\n",
       "      <td>Sergipe</td>\n",
       "      <td>38</td>\n",
       "      <td>0.012382</td>\n",
       "    </tr>\n",
       "    <tr>\n",
       "      <th>117</th>\n",
       "      <td>2014-w39</td>\n",
       "      <td>Tocantins</td>\n",
       "      <td>1</td>\n",
       "      <td>0.000326</td>\n",
       "    </tr>\n",
       "  </tbody>\n",
       "</table>\n",
       "<p>118 rows × 4 columns</p>\n",
       "</div>"
      ],
      "text/plain": [
       "    year_week    LocationName  group_size  proportion\n",
       "0    2014-w35         Alagoas           3    0.000978\n",
       "1    2014-w35           Amapa           2    0.000652\n",
       "2    2014-w35        Amazonas           8    0.002607\n",
       "3    2014-w35           Bahia          39    0.012708\n",
       "4    2014-w35           Ceara          31    0.010101\n",
       "..        ...             ...         ...         ...\n",
       "113  2014-w39         Roraima           8    0.002607\n",
       "114  2014-w39  Santa Catarina          23    0.007494\n",
       "115  2014-w39       Sao Paulo         121    0.039427\n",
       "116  2014-w39         Sergipe          38    0.012382\n",
       "117  2014-w39       Tocantins           1    0.000326\n",
       "\n",
       "[118 rows x 4 columns]"
      ]
     },
     "execution_count": 128,
     "metadata": {},
     "output_type": "execute_result"
    }
   ],
   "source": [
    "# Step 1: Calculate the size of each group (year_week, LocationName)\n",
    "group_sizes = df_2014_09_neu.groupby(['year_week', 'LocationName']).size().reset_index(name='group_size')\n",
    "\n",
    "# Step 2: Calculate the proportion of each group in the dataset\n",
    "total_rows = len(df_2014_09_neu)\n",
    "group_sizes['proportion'] = group_sizes['group_size'] / total_rows\n",
    "group_sizes"
   ]
  },
  {
   "cell_type": "code",
   "execution_count": 129,
   "id": "0f70bf42",
   "metadata": {},
   "outputs": [
    {
     "data": {
      "text/html": [
       "<div>\n",
       "<style scoped>\n",
       "    .dataframe tbody tr th:only-of-type {\n",
       "        vertical-align: middle;\n",
       "    }\n",
       "\n",
       "    .dataframe tbody tr th {\n",
       "        vertical-align: top;\n",
       "    }\n",
       "\n",
       "    .dataframe thead th {\n",
       "        text-align: right;\n",
       "    }\n",
       "</style>\n",
       "<table border=\"1\" class=\"dataframe\">\n",
       "  <thead>\n",
       "    <tr style=\"text-align: right;\">\n",
       "      <th></th>\n",
       "      <th>year_week</th>\n",
       "      <th>LocationName</th>\n",
       "      <th>group_size</th>\n",
       "      <th>proportion</th>\n",
       "      <th>sample_size</th>\n",
       "    </tr>\n",
       "  </thead>\n",
       "  <tbody>\n",
       "    <tr>\n",
       "      <th>0</th>\n",
       "      <td>2014-w35</td>\n",
       "      <td>Alagoas</td>\n",
       "      <td>3</td>\n",
       "      <td>0.000978</td>\n",
       "      <td>2</td>\n",
       "    </tr>\n",
       "    <tr>\n",
       "      <th>1</th>\n",
       "      <td>2014-w35</td>\n",
       "      <td>Amapa</td>\n",
       "      <td>2</td>\n",
       "      <td>0.000652</td>\n",
       "      <td>1</td>\n",
       "    </tr>\n",
       "    <tr>\n",
       "      <th>2</th>\n",
       "      <td>2014-w35</td>\n",
       "      <td>Amazonas</td>\n",
       "      <td>8</td>\n",
       "      <td>0.002607</td>\n",
       "      <td>6</td>\n",
       "    </tr>\n",
       "    <tr>\n",
       "      <th>3</th>\n",
       "      <td>2014-w35</td>\n",
       "      <td>Bahia</td>\n",
       "      <td>39</td>\n",
       "      <td>0.012708</td>\n",
       "      <td>31</td>\n",
       "    </tr>\n",
       "    <tr>\n",
       "      <th>4</th>\n",
       "      <td>2014-w35</td>\n",
       "      <td>Ceara</td>\n",
       "      <td>31</td>\n",
       "      <td>0.010101</td>\n",
       "      <td>24</td>\n",
       "    </tr>\n",
       "    <tr>\n",
       "      <th>...</th>\n",
       "      <td>...</td>\n",
       "      <td>...</td>\n",
       "      <td>...</td>\n",
       "      <td>...</td>\n",
       "      <td>...</td>\n",
       "    </tr>\n",
       "    <tr>\n",
       "      <th>113</th>\n",
       "      <td>2014-w39</td>\n",
       "      <td>Roraima</td>\n",
       "      <td>8</td>\n",
       "      <td>0.002607</td>\n",
       "      <td>6</td>\n",
       "    </tr>\n",
       "    <tr>\n",
       "      <th>114</th>\n",
       "      <td>2014-w39</td>\n",
       "      <td>Santa Catarina</td>\n",
       "      <td>23</td>\n",
       "      <td>0.007494</td>\n",
       "      <td>18</td>\n",
       "    </tr>\n",
       "    <tr>\n",
       "      <th>115</th>\n",
       "      <td>2014-w39</td>\n",
       "      <td>Sao Paulo</td>\n",
       "      <td>121</td>\n",
       "      <td>0.039427</td>\n",
       "      <td>96</td>\n",
       "    </tr>\n",
       "    <tr>\n",
       "      <th>116</th>\n",
       "      <td>2014-w39</td>\n",
       "      <td>Sergipe</td>\n",
       "      <td>38</td>\n",
       "      <td>0.012382</td>\n",
       "      <td>30</td>\n",
       "    </tr>\n",
       "    <tr>\n",
       "      <th>117</th>\n",
       "      <td>2014-w39</td>\n",
       "      <td>Tocantins</td>\n",
       "      <td>1</td>\n",
       "      <td>0.000326</td>\n",
       "      <td>0</td>\n",
       "    </tr>\n",
       "  </tbody>\n",
       "</table>\n",
       "<p>118 rows × 5 columns</p>\n",
       "</div>"
      ],
      "text/plain": [
       "    year_week    LocationName  group_size  proportion  sample_size\n",
       "0    2014-w35         Alagoas           3    0.000978            2\n",
       "1    2014-w35           Amapa           2    0.000652            1\n",
       "2    2014-w35        Amazonas           8    0.002607            6\n",
       "3    2014-w35           Bahia          39    0.012708           31\n",
       "4    2014-w35           Ceara          31    0.010101           24\n",
       "..        ...             ...         ...         ...          ...\n",
       "113  2014-w39         Roraima           8    0.002607            6\n",
       "114  2014-w39  Santa Catarina          23    0.007494           18\n",
       "115  2014-w39       Sao Paulo         121    0.039427           96\n",
       "116  2014-w39         Sergipe          38    0.012382           30\n",
       "117  2014-w39       Tocantins           1    0.000326            0\n",
       "\n",
       "[118 rows x 5 columns]"
      ]
     },
     "execution_count": 129,
     "metadata": {},
     "output_type": "execute_result"
    }
   ],
   "source": [
    "# Step 3: Define the target sample size\n",
    "target_sample_size = 2450\n",
    "\n",
    "# Step 4: Calculate the sample size for each group (based on its proportion)\n",
    "group_sizes['sample_size'] = np.floor(group_sizes['proportion'] * target_sample_size).astype(int)\n",
    "group_sizes"
   ]
  },
  {
   "cell_type": "code",
   "execution_count": 130,
   "id": "1fbb0b3e",
   "metadata": {},
   "outputs": [],
   "source": [
    "# Step 5: Merge this sample size information back to the original DataFrame\n",
    "df_2014_09_neu_sample_size = pd.merge(df_2014_09_neu, group_sizes[['year_week', 'LocationName', 'sample_size']], \n",
    "                               on=['year_week', 'LocationName'], how='left')"
   ]
  },
  {
   "cell_type": "code",
   "execution_count": 131,
   "id": "e62cb3ac",
   "metadata": {},
   "outputs": [
    {
     "name": "stdout",
     "output_type": "stream",
     "text": [
      "Sampled 2382 rows.\n"
     ]
    }
   ],
   "source": [
    "# Step 6: Perform the stratified sampling\n",
    "df_2014_09_neu_sample = df_2014_09_neu_sample_size.groupby(['year_week', 'LocationName']).apply(\n",
    "    lambda group: group.sample(n=group['sample_size'].iloc[0], random_state=42)\n",
    ").reset_index(drop=True)\n",
    "\n",
    "# Step 7: Check the result\n",
    "print(f\"Sampled {len(df_2014_09_neu_sample)} rows.\")\n"
   ]
  },
  {
   "cell_type": "code",
   "execution_count": 132,
   "id": "f94fe9d7",
   "metadata": {},
   "outputs": [],
   "source": [
    "text_gpt_2014_09_neu = '\\n'.join(df_2014_09_neu_sample['text'].astype(str))"
   ]
  },
  {
   "cell_type": "markdown",
   "id": "b7904a7f",
   "metadata": {},
   "source": [
    "### Prompts and loops"
   ]
  },
  {
   "cell_type": "code",
   "execution_count": 133,
   "id": "71bbca85",
   "metadata": {},
   "outputs": [],
   "source": [
    "prompt_9 = prompt_raw.replace('TWEETS', text_gpt_2014_09_neu)"
   ]
  },
  {
   "cell_type": "code",
   "execution_count": 134,
   "id": "b7ae259f",
   "metadata": {
    "scrolled": false
   },
   "outputs": [],
   "source": [
    "response = openai.ChatCompletion.create(\n",
    "    model=\"gpt-4o-mini\",  \n",
    "    messages = [\n",
    "        {\"role\": \"user\", \"content\": prompt_9}\n",
    "    ],\n",
    "    max_tokens=400,  # Maximum number of tokens in the response\n",
    "    temperature=0.7  # Controls the randomness of the output\n",
    ")"
   ]
  },
  {
   "cell_type": "code",
   "execution_count": 135,
   "id": "8653eccf",
   "metadata": {},
   "outputs": [
    {
     "data": {
      "text/plain": [
       "'The text discusses the vaccination campaign against HPV for girls aged 11 to 13, emphasizing the importance of receiving the second dose at designated health centers and schools. Various regions in Brazil are implementing these campaigns, with some areas experiencing low participation rates. Additionally, it mentions the availability of vaccines for rabies and hepatitis A, along with other vaccination efforts for animals.'"
      ]
     },
     "execution_count": 135,
     "metadata": {},
     "output_type": "execute_result"
    }
   ],
   "source": [
    "response.choices[0].message.content"
   ]
  },
  {
   "cell_type": "code",
   "execution_count": 136,
   "id": "6be7b347",
   "metadata": {},
   "outputs": [],
   "source": [
    "#summary = []\n",
    "#dataset = []"
   ]
  },
  {
   "cell_type": "code",
   "execution_count": 137,
   "id": "550a921f",
   "metadata": {},
   "outputs": [],
   "source": [
    "dataset.append(\"2014_09_neutral\")"
   ]
  },
  {
   "cell_type": "code",
   "execution_count": 138,
   "id": "83240506",
   "metadata": {},
   "outputs": [],
   "source": [
    "summary.append(response.choices[0].message.content)"
   ]
  },
  {
   "cell_type": "code",
   "execution_count": 139,
   "id": "0c75735b",
   "metadata": {
    "tags": []
   },
   "outputs": [
    {
     "name": "stdout",
     "output_type": "stream",
     "text": [
      "<class 'pandas.core.frame.DataFrame'>\n",
      "RangeIndex: 9 entries, 0 to 8\n",
      "Data columns (total 2 columns):\n",
      " #   Column   Non-Null Count  Dtype \n",
      "---  ------   --------------  ----- \n",
      " 0   dataset  9 non-null      object\n",
      " 1   summary  9 non-null      object\n",
      "dtypes: object(2)\n",
      "memory usage: 272.0+ bytes\n"
     ]
    }
   ],
   "source": [
    "df_2014_neu = pd.DataFrame(list(zip(dataset, summary)),\n",
    "                            columns = ['dataset', 'summary'])\n",
    "df_2014_neu.info()"
   ]
  },
  {
   "cell_type": "code",
   "execution_count": 140,
   "id": "fa955f73",
   "metadata": {},
   "outputs": [
    {
     "data": {
      "text/html": [
       "<div>\n",
       "<style scoped>\n",
       "    .dataframe tbody tr th:only-of-type {\n",
       "        vertical-align: middle;\n",
       "    }\n",
       "\n",
       "    .dataframe tbody tr th {\n",
       "        vertical-align: top;\n",
       "    }\n",
       "\n",
       "    .dataframe thead th {\n",
       "        text-align: right;\n",
       "    }\n",
       "</style>\n",
       "<table border=\"1\" class=\"dataframe\">\n",
       "  <thead>\n",
       "    <tr style=\"text-align: right;\">\n",
       "      <th></th>\n",
       "      <th>dataset</th>\n",
       "      <th>summary</th>\n",
       "    </tr>\n",
       "  </thead>\n",
       "  <tbody>\n",
       "    <tr>\n",
       "      <th>0</th>\n",
       "      <td>2014_01_neutral</td>\n",
       "      <td>The text discusses various aspects of vaccinat...</td>\n",
       "    </tr>\n",
       "    <tr>\n",
       "      <th>1</th>\n",
       "      <td>2014_02_neutral</td>\n",
       "      <td>The text discusses various vaccination campaig...</td>\n",
       "    </tr>\n",
       "    <tr>\n",
       "      <th>2</th>\n",
       "      <td>2014_03_neutral</td>\n",
       "      <td>The upcoming vaccination campaign against HPV ...</td>\n",
       "    </tr>\n",
       "    <tr>\n",
       "      <th>3</th>\n",
       "      <td>2014_04_neutral</td>\n",
       "      <td>The provided sentences discuss various vaccina...</td>\n",
       "    </tr>\n",
       "    <tr>\n",
       "      <th>4</th>\n",
       "      <td>2014_05_neutral</td>\n",
       "      <td>The text discusses various aspects of vaccinat...</td>\n",
       "    </tr>\n",
       "    <tr>\n",
       "      <th>5</th>\n",
       "      <td>2014_06_neutral</td>\n",
       "      <td>The text discusses various aspects of vaccinat...</td>\n",
       "    </tr>\n",
       "    <tr>\n",
       "      <th>6</th>\n",
       "      <td>2014_07_neutral</td>\n",
       "      <td>The provided Portuguese sentences predominantl...</td>\n",
       "    </tr>\n",
       "    <tr>\n",
       "      <th>7</th>\n",
       "      <td>2014_08_neutral</td>\n",
       "      <td>The text discusses various vaccination campaig...</td>\n",
       "    </tr>\n",
       "    <tr>\n",
       "      <th>8</th>\n",
       "      <td>2014_09_neutral</td>\n",
       "      <td>The text discusses the vaccination campaign ag...</td>\n",
       "    </tr>\n",
       "  </tbody>\n",
       "</table>\n",
       "</div>"
      ],
      "text/plain": [
       "           dataset                                            summary\n",
       "0  2014_01_neutral  The text discusses various aspects of vaccinat...\n",
       "1  2014_02_neutral  The text discusses various vaccination campaig...\n",
       "2  2014_03_neutral  The upcoming vaccination campaign against HPV ...\n",
       "3  2014_04_neutral  The provided sentences discuss various vaccina...\n",
       "4  2014_05_neutral  The text discusses various aspects of vaccinat...\n",
       "5  2014_06_neutral  The text discusses various aspects of vaccinat...\n",
       "6  2014_07_neutral  The provided Portuguese sentences predominantl...\n",
       "7  2014_08_neutral  The text discusses various vaccination campaig...\n",
       "8  2014_09_neutral  The text discusses the vaccination campaign ag..."
      ]
     },
     "execution_count": 140,
     "metadata": {},
     "output_type": "execute_result"
    }
   ],
   "source": [
    "df_2014_neu.tail(14)"
   ]
  },
  {
   "cell_type": "code",
   "execution_count": 141,
   "id": "4c204870",
   "metadata": {},
   "outputs": [
    {
     "data": {
      "text/plain": [
       "<OpenAIObject chat.completion id=chatcmpl-AUeS25TuFdbTt55PWzV7w7BKDaKx0 at 0x1264406b040> JSON: {\n",
       "  \"choices\": [\n",
       "    {\n",
       "      \"finish_reason\": \"stop\",\n",
       "      \"index\": 0,\n",
       "      \"logprobs\": null,\n",
       "      \"message\": {\n",
       "        \"content\": \"The text discusses the vaccination campaign against HPV for girls aged 11 to 13, emphasizing the importance of receiving the second dose at designated health centers and schools. Various regions in Brazil are implementing these campaigns, with some areas experiencing low participation rates. Additionally, it mentions the availability of vaccines for rabies and hepatitis A, along with other vaccination efforts for animals.\",\n",
       "        \"refusal\": null,\n",
       "        \"role\": \"assistant\"\n",
       "      }\n",
       "    }\n",
       "  ],\n",
       "  \"created\": 1731868698,\n",
       "  \"id\": \"chatcmpl-AUeS25TuFdbTt55PWzV7w7BKDaKx0\",\n",
       "  \"model\": \"gpt-4o-mini-2024-07-18\",\n",
       "  \"object\": \"chat.completion\",\n",
       "  \"system_fingerprint\": \"fp_f8dd36be86\",\n",
       "  \"usage\": {\n",
       "    \"completion_tokens\": 72,\n",
       "    \"completion_tokens_details\": {\n",
       "      \"accepted_prediction_tokens\": 0,\n",
       "      \"audio_tokens\": 0,\n",
       "      \"reasoning_tokens\": 0,\n",
       "      \"rejected_prediction_tokens\": 0\n",
       "    },\n",
       "    \"prompt_tokens\": 51314,\n",
       "    \"prompt_tokens_details\": {\n",
       "      \"audio_tokens\": 0,\n",
       "      \"cached_tokens\": 0\n",
       "    },\n",
       "    \"total_tokens\": 51386\n",
       "  }\n",
       "}"
      ]
     },
     "execution_count": 141,
     "metadata": {},
     "output_type": "execute_result"
    }
   ],
   "source": [
    "response"
   ]
  },
  {
   "cell_type": "markdown",
   "id": "43f969b1",
   "metadata": {},
   "source": [
    "## October"
   ]
  },
  {
   "cell_type": "code",
   "execution_count": 142,
   "id": "28cedc2b",
   "metadata": {
    "scrolled": true,
    "tags": []
   },
   "outputs": [
    {
     "name": "stdout",
     "output_type": "stream",
     "text": [
      "<class 'pandas.core.frame.DataFrame'>\n",
      "RangeIndex: 4861 entries, 0 to 4860\n",
      "Data columns (total 53 columns):\n",
      " #   Column                  Non-Null Count  Dtype  \n",
      "---  ------                  --------------  -----  \n",
      " 0   index                   4861 non-null   int64  \n",
      " 1   LocationCode            4861 non-null   object \n",
      " 2   LocationName            4861 non-null   object \n",
      " 3   StatesCode              4861 non-null   object \n",
      " 4   ...4                    4861 non-null   int64  \n",
      " 5   id                      4861 non-null   float64\n",
      " 6   text                    4861 non-null   object \n",
      " 7   label                   4861 non-null   object \n",
      " 8   in_reply_to_status_id   369 non-null    float64\n",
      " 9   in_reply_to_user_id     386 non-null    float64\n",
      " 10  quoted_user_id          0 non-null      float64\n",
      " 11  quoted_status_id        0 non-null      float64\n",
      " 12  retweeted_user_id       1445 non-null   float64\n",
      " 13  retweeted_status_id     1445 non-null   float64\n",
      " 14  created_at              4861 non-null   object \n",
      " 15  entities.user_mentions  2099 non-null   object \n",
      " 16  user.id                 4861 non-null   int64  \n",
      " 17  user.screen_name        4861 non-null   object \n",
      " 18  user.name               4861 non-null   object \n",
      " 19  user.description        4152 non-null   object \n",
      " 20  user.timezone           0 non-null      float64\n",
      " 21  user.location           4803 non-null   object \n",
      " 22  user.num_followers      4861 non-null   int64  \n",
      " 23  user.num_following      4861 non-null   int64  \n",
      " 24  user.created_at         4861 non-null   object \n",
      " 25  user.statuses_count     4861 non-null   int64  \n",
      " 26  user.is_verified        4861 non-null   bool   \n",
      " 27  lang                    4861 non-null   object \n",
      " 28  token_count             4861 non-null   int64  \n",
      " 29  is_retweet              4861 non-null   bool   \n",
      " 30  has_quote               4861 non-null   bool   \n",
      " 31  is_reply                4861 non-null   bool   \n",
      " 32  contains_keywords       4861 non-null   bool   \n",
      " 33  longitude               4861 non-null   float64\n",
      " 34  latitude                4861 non-null   float64\n",
      " 35  country_code            4861 non-null   object \n",
      " 36  geoname_id              4661 non-null   float64\n",
      " 37  location_type           4861 non-null   object \n",
      " 38  geo_type                4861 non-null   int64  \n",
      " 39  region                  4861 non-null   object \n",
      " 40  subregion               4861 non-null   object \n",
      " 41  num_quotes              4861 non-null   int64  \n",
      " 42  num_replies             4861 non-null   int64  \n",
      " 43  num_retweets            4861 non-null   int64  \n",
      " 44  sent_gpt                4861 non-null   object \n",
      " 45  gpt_sent_presence       4861 non-null   int64  \n",
      " 46  cleaned_text_lem        4861 non-null   object \n",
      " 47  cleaned_text            4861 non-null   object \n",
      " 48  month                   4861 non-null   int64  \n",
      " 49  year                    4861 non-null   int64  \n",
      " 50  week                    4861 non-null   int64  \n",
      " 51  year_month              4861 non-null   object \n",
      " 52  year_week               4861 non-null   object \n",
      "dtypes: bool(5), float64(11), int64(15), object(22)\n",
      "memory usage: 1.8+ MB\n"
     ]
    }
   ],
   "source": [
    "# Get monthly data\n",
    "df_2014_10_neu = pd.read_csv('../data/local/df_neu_2014-10.csv').reset_index()\n",
    "df_2014_10_neu.info()"
   ]
  },
  {
   "cell_type": "markdown",
   "id": "616f674a",
   "metadata": {},
   "source": [
    "### Representative sample based on week and location"
   ]
  },
  {
   "cell_type": "code",
   "execution_count": 143,
   "id": "9cb193cd",
   "metadata": {},
   "outputs": [
    {
     "data": {
      "text/html": [
       "<div>\n",
       "<style scoped>\n",
       "    .dataframe tbody tr th:only-of-type {\n",
       "        vertical-align: middle;\n",
       "    }\n",
       "\n",
       "    .dataframe tbody tr th {\n",
       "        vertical-align: top;\n",
       "    }\n",
       "\n",
       "    .dataframe thead th {\n",
       "        text-align: right;\n",
       "    }\n",
       "</style>\n",
       "<table border=\"1\" class=\"dataframe\">\n",
       "  <thead>\n",
       "    <tr style=\"text-align: right;\">\n",
       "      <th></th>\n",
       "      <th>year_week</th>\n",
       "      <th>LocationName</th>\n",
       "      <th>group_size</th>\n",
       "      <th>proportion</th>\n",
       "    </tr>\n",
       "  </thead>\n",
       "  <tbody>\n",
       "    <tr>\n",
       "      <th>0</th>\n",
       "      <td>2014-w40</td>\n",
       "      <td>Acre</td>\n",
       "      <td>1</td>\n",
       "      <td>0.000206</td>\n",
       "    </tr>\n",
       "    <tr>\n",
       "      <th>1</th>\n",
       "      <td>2014-w40</td>\n",
       "      <td>Alagoas</td>\n",
       "      <td>5</td>\n",
       "      <td>0.001029</td>\n",
       "    </tr>\n",
       "    <tr>\n",
       "      <th>2</th>\n",
       "      <td>2014-w40</td>\n",
       "      <td>Amapa</td>\n",
       "      <td>11</td>\n",
       "      <td>0.002263</td>\n",
       "    </tr>\n",
       "    <tr>\n",
       "      <th>3</th>\n",
       "      <td>2014-w40</td>\n",
       "      <td>Amazonas</td>\n",
       "      <td>10</td>\n",
       "      <td>0.002057</td>\n",
       "    </tr>\n",
       "    <tr>\n",
       "      <th>4</th>\n",
       "      <td>2014-w40</td>\n",
       "      <td>Bahia</td>\n",
       "      <td>35</td>\n",
       "      <td>0.007200</td>\n",
       "    </tr>\n",
       "    <tr>\n",
       "      <th>...</th>\n",
       "      <td>...</td>\n",
       "      <td>...</td>\n",
       "      <td>...</td>\n",
       "      <td>...</td>\n",
       "    </tr>\n",
       "    <tr>\n",
       "      <th>113</th>\n",
       "      <td>2014-w44</td>\n",
       "      <td>Roraima</td>\n",
       "      <td>5</td>\n",
       "      <td>0.001029</td>\n",
       "    </tr>\n",
       "    <tr>\n",
       "      <th>114</th>\n",
       "      <td>2014-w44</td>\n",
       "      <td>Santa Catarina</td>\n",
       "      <td>7</td>\n",
       "      <td>0.001440</td>\n",
       "    </tr>\n",
       "    <tr>\n",
       "      <th>115</th>\n",
       "      <td>2014-w44</td>\n",
       "      <td>Sao Paulo</td>\n",
       "      <td>112</td>\n",
       "      <td>0.023041</td>\n",
       "    </tr>\n",
       "    <tr>\n",
       "      <th>116</th>\n",
       "      <td>2014-w44</td>\n",
       "      <td>Sergipe</td>\n",
       "      <td>7</td>\n",
       "      <td>0.001440</td>\n",
       "    </tr>\n",
       "    <tr>\n",
       "      <th>117</th>\n",
       "      <td>2014-w44</td>\n",
       "      <td>Tocantins</td>\n",
       "      <td>7</td>\n",
       "      <td>0.001440</td>\n",
       "    </tr>\n",
       "  </tbody>\n",
       "</table>\n",
       "<p>118 rows × 4 columns</p>\n",
       "</div>"
      ],
      "text/plain": [
       "    year_week    LocationName  group_size  proportion\n",
       "0    2014-w40            Acre           1    0.000206\n",
       "1    2014-w40         Alagoas           5    0.001029\n",
       "2    2014-w40           Amapa          11    0.002263\n",
       "3    2014-w40        Amazonas          10    0.002057\n",
       "4    2014-w40           Bahia          35    0.007200\n",
       "..        ...             ...         ...         ...\n",
       "113  2014-w44         Roraima           5    0.001029\n",
       "114  2014-w44  Santa Catarina           7    0.001440\n",
       "115  2014-w44       Sao Paulo         112    0.023041\n",
       "116  2014-w44         Sergipe           7    0.001440\n",
       "117  2014-w44       Tocantins           7    0.001440\n",
       "\n",
       "[118 rows x 4 columns]"
      ]
     },
     "execution_count": 143,
     "metadata": {},
     "output_type": "execute_result"
    }
   ],
   "source": [
    "# Step 1: Calculate the size of each group (year_week, LocationName)\n",
    "group_sizes = df_2014_10_neu.groupby(['year_week', 'LocationName']).size().reset_index(name='group_size')\n",
    "\n",
    "# Step 2: Calculate the proportion of each group in the dataset\n",
    "total_rows = len(df_2014_10_neu)\n",
    "group_sizes['proportion'] = group_sizes['group_size'] / total_rows\n",
    "group_sizes"
   ]
  },
  {
   "cell_type": "code",
   "execution_count": 144,
   "id": "610efcf6",
   "metadata": {},
   "outputs": [
    {
     "data": {
      "text/html": [
       "<div>\n",
       "<style scoped>\n",
       "    .dataframe tbody tr th:only-of-type {\n",
       "        vertical-align: middle;\n",
       "    }\n",
       "\n",
       "    .dataframe tbody tr th {\n",
       "        vertical-align: top;\n",
       "    }\n",
       "\n",
       "    .dataframe thead th {\n",
       "        text-align: right;\n",
       "    }\n",
       "</style>\n",
       "<table border=\"1\" class=\"dataframe\">\n",
       "  <thead>\n",
       "    <tr style=\"text-align: right;\">\n",
       "      <th></th>\n",
       "      <th>year_week</th>\n",
       "      <th>LocationName</th>\n",
       "      <th>group_size</th>\n",
       "      <th>proportion</th>\n",
       "      <th>sample_size</th>\n",
       "    </tr>\n",
       "  </thead>\n",
       "  <tbody>\n",
       "    <tr>\n",
       "      <th>0</th>\n",
       "      <td>2014-w40</td>\n",
       "      <td>Acre</td>\n",
       "      <td>1</td>\n",
       "      <td>0.000206</td>\n",
       "      <td>0</td>\n",
       "    </tr>\n",
       "    <tr>\n",
       "      <th>1</th>\n",
       "      <td>2014-w40</td>\n",
       "      <td>Alagoas</td>\n",
       "      <td>5</td>\n",
       "      <td>0.001029</td>\n",
       "      <td>2</td>\n",
       "    </tr>\n",
       "    <tr>\n",
       "      <th>2</th>\n",
       "      <td>2014-w40</td>\n",
       "      <td>Amapa</td>\n",
       "      <td>11</td>\n",
       "      <td>0.002263</td>\n",
       "      <td>5</td>\n",
       "    </tr>\n",
       "    <tr>\n",
       "      <th>3</th>\n",
       "      <td>2014-w40</td>\n",
       "      <td>Amazonas</td>\n",
       "      <td>10</td>\n",
       "      <td>0.002057</td>\n",
       "      <td>5</td>\n",
       "    </tr>\n",
       "    <tr>\n",
       "      <th>4</th>\n",
       "      <td>2014-w40</td>\n",
       "      <td>Bahia</td>\n",
       "      <td>35</td>\n",
       "      <td>0.007200</td>\n",
       "      <td>17</td>\n",
       "    </tr>\n",
       "    <tr>\n",
       "      <th>...</th>\n",
       "      <td>...</td>\n",
       "      <td>...</td>\n",
       "      <td>...</td>\n",
       "      <td>...</td>\n",
       "      <td>...</td>\n",
       "    </tr>\n",
       "    <tr>\n",
       "      <th>113</th>\n",
       "      <td>2014-w44</td>\n",
       "      <td>Roraima</td>\n",
       "      <td>5</td>\n",
       "      <td>0.001029</td>\n",
       "      <td>2</td>\n",
       "    </tr>\n",
       "    <tr>\n",
       "      <th>114</th>\n",
       "      <td>2014-w44</td>\n",
       "      <td>Santa Catarina</td>\n",
       "      <td>7</td>\n",
       "      <td>0.001440</td>\n",
       "      <td>3</td>\n",
       "    </tr>\n",
       "    <tr>\n",
       "      <th>115</th>\n",
       "      <td>2014-w44</td>\n",
       "      <td>Sao Paulo</td>\n",
       "      <td>112</td>\n",
       "      <td>0.023041</td>\n",
       "      <td>56</td>\n",
       "    </tr>\n",
       "    <tr>\n",
       "      <th>116</th>\n",
       "      <td>2014-w44</td>\n",
       "      <td>Sergipe</td>\n",
       "      <td>7</td>\n",
       "      <td>0.001440</td>\n",
       "      <td>3</td>\n",
       "    </tr>\n",
       "    <tr>\n",
       "      <th>117</th>\n",
       "      <td>2014-w44</td>\n",
       "      <td>Tocantins</td>\n",
       "      <td>7</td>\n",
       "      <td>0.001440</td>\n",
       "      <td>3</td>\n",
       "    </tr>\n",
       "  </tbody>\n",
       "</table>\n",
       "<p>118 rows × 5 columns</p>\n",
       "</div>"
      ],
      "text/plain": [
       "    year_week    LocationName  group_size  proportion  sample_size\n",
       "0    2014-w40            Acre           1    0.000206            0\n",
       "1    2014-w40         Alagoas           5    0.001029            2\n",
       "2    2014-w40           Amapa          11    0.002263            5\n",
       "3    2014-w40        Amazonas          10    0.002057            5\n",
       "4    2014-w40           Bahia          35    0.007200           17\n",
       "..        ...             ...         ...         ...          ...\n",
       "113  2014-w44         Roraima           5    0.001029            2\n",
       "114  2014-w44  Santa Catarina           7    0.001440            3\n",
       "115  2014-w44       Sao Paulo         112    0.023041           56\n",
       "116  2014-w44         Sergipe           7    0.001440            3\n",
       "117  2014-w44       Tocantins           7    0.001440            3\n",
       "\n",
       "[118 rows x 5 columns]"
      ]
     },
     "execution_count": 144,
     "metadata": {},
     "output_type": "execute_result"
    }
   ],
   "source": [
    "# Step 3: Define the target sample size\n",
    "target_sample_size = 2450\n",
    "\n",
    "# Step 4: Calculate the sample size for each group (based on its proportion)\n",
    "group_sizes['sample_size'] = np.floor(group_sizes['proportion'] * target_sample_size).astype(int)\n",
    "group_sizes"
   ]
  },
  {
   "cell_type": "code",
   "execution_count": 145,
   "id": "361d2734",
   "metadata": {},
   "outputs": [],
   "source": [
    "# Step 5: Merge this sample size information back to the original DataFrame\n",
    "df_2014_10_neu_sample_size = pd.merge(df_2014_10_neu, group_sizes[['year_week', 'LocationName', 'sample_size']], \n",
    "                               on=['year_week', 'LocationName'], how='left')"
   ]
  },
  {
   "cell_type": "code",
   "execution_count": 146,
   "id": "cd34d6e4",
   "metadata": {},
   "outputs": [
    {
     "name": "stdout",
     "output_type": "stream",
     "text": [
      "Sampled 4861 rows.\n"
     ]
    }
   ],
   "source": [
    "# Step 6: Perform the stratified sampling\n",
    "#df_2014_10_neu_sample = df_2014_10_neu_sample_size.groupby(['year_week', 'LocationName']).apply(\n",
    " #   lambda group: group.sample(n=group['sample_size'].iloc[0], random_state=42)\n",
    "#).reset_index(drop=True)\n",
    "df_2014_10_neu_sample = df_2014_10_neu\n",
    "# Step 7: Check the result\n",
    "print(f\"Sampled {len(df_2014_10_neu_sample)} rows.\")\n"
   ]
  },
  {
   "cell_type": "code",
   "execution_count": 147,
   "id": "853aa7a6",
   "metadata": {},
   "outputs": [],
   "source": [
    "text_gpt_2014_10_neu = '\\n'.join(df_2014_10_neu_sample['text'].astype(str))"
   ]
  },
  {
   "cell_type": "markdown",
   "id": "0e857dd6",
   "metadata": {},
   "source": [
    "### Prompts and loops"
   ]
  },
  {
   "cell_type": "code",
   "execution_count": 148,
   "id": "997a28ad",
   "metadata": {},
   "outputs": [],
   "source": [
    "prompt_10 = prompt_raw.replace('TWEETS', text_gpt_2014_10_neu)"
   ]
  },
  {
   "cell_type": "code",
   "execution_count": 149,
   "id": "0ad6cb21",
   "metadata": {
    "scrolled": false
   },
   "outputs": [],
   "source": [
    "response = openai.ChatCompletion.create(\n",
    "    model=\"gpt-4o-mini\",  \n",
    "    messages = [\n",
    "        {\"role\": \"user\", \"content\": prompt_10}\n",
    "    ],\n",
    "    max_tokens=400,  # Maximum number of tokens in the response\n",
    "    temperature=0.7  # Controls the randomness of the output\n",
    ")"
   ]
  },
  {
   "cell_type": "code",
   "execution_count": 150,
   "id": "f98d14d4",
   "metadata": {},
   "outputs": [
    {
     "data": {
      "text/plain": [
       "\"The texts discuss various aspects of vaccination, focusing on the controversy surrounding the inclusion of horse vaccines as health expenditures in Minas Gerais, particularly under Aécio Neves' government. Critics highlight this as an inappropriate allocation of health funds, while supporters argue it relates to public health measures. Additionally, there are mentions of vaccination campaigns for both animals and humans, including efforts against rabies and HPV, and the ongoing research and testing of an Ebola vaccine. Overall, the conversation reflects societal attitudes towards vaccination and public health policy.\""
      ]
     },
     "execution_count": 150,
     "metadata": {},
     "output_type": "execute_result"
    }
   ],
   "source": [
    "response.choices[0].message.content"
   ]
  },
  {
   "cell_type": "code",
   "execution_count": 151,
   "id": "148185bf",
   "metadata": {},
   "outputs": [],
   "source": [
    "#summary = []\n",
    "#dataset = []"
   ]
  },
  {
   "cell_type": "code",
   "execution_count": 152,
   "id": "91999070",
   "metadata": {},
   "outputs": [],
   "source": [
    "dataset.append(\"2014_10_neutral\")"
   ]
  },
  {
   "cell_type": "code",
   "execution_count": 153,
   "id": "ca0c8fcc",
   "metadata": {},
   "outputs": [],
   "source": [
    "summary.append(response.choices[0].message.content)"
   ]
  },
  {
   "cell_type": "code",
   "execution_count": 154,
   "id": "75de78c6",
   "metadata": {
    "tags": []
   },
   "outputs": [
    {
     "name": "stdout",
     "output_type": "stream",
     "text": [
      "<class 'pandas.core.frame.DataFrame'>\n",
      "RangeIndex: 10 entries, 0 to 9\n",
      "Data columns (total 2 columns):\n",
      " #   Column   Non-Null Count  Dtype \n",
      "---  ------   --------------  ----- \n",
      " 0   dataset  10 non-null     object\n",
      " 1   summary  10 non-null     object\n",
      "dtypes: object(2)\n",
      "memory usage: 288.0+ bytes\n"
     ]
    }
   ],
   "source": [
    "df_2014_neu = pd.DataFrame(list(zip(dataset, summary)),\n",
    "                            columns = ['dataset', 'summary'])\n",
    "df_2014_neu.info()"
   ]
  },
  {
   "cell_type": "code",
   "execution_count": 155,
   "id": "33f398cf",
   "metadata": {},
   "outputs": [
    {
     "data": {
      "text/html": [
       "<div>\n",
       "<style scoped>\n",
       "    .dataframe tbody tr th:only-of-type {\n",
       "        vertical-align: middle;\n",
       "    }\n",
       "\n",
       "    .dataframe tbody tr th {\n",
       "        vertical-align: top;\n",
       "    }\n",
       "\n",
       "    .dataframe thead th {\n",
       "        text-align: right;\n",
       "    }\n",
       "</style>\n",
       "<table border=\"1\" class=\"dataframe\">\n",
       "  <thead>\n",
       "    <tr style=\"text-align: right;\">\n",
       "      <th></th>\n",
       "      <th>dataset</th>\n",
       "      <th>summary</th>\n",
       "    </tr>\n",
       "  </thead>\n",
       "  <tbody>\n",
       "    <tr>\n",
       "      <th>0</th>\n",
       "      <td>2014_01_neutral</td>\n",
       "      <td>The text discusses various aspects of vaccinat...</td>\n",
       "    </tr>\n",
       "    <tr>\n",
       "      <th>1</th>\n",
       "      <td>2014_02_neutral</td>\n",
       "      <td>The text discusses various vaccination campaig...</td>\n",
       "    </tr>\n",
       "    <tr>\n",
       "      <th>2</th>\n",
       "      <td>2014_03_neutral</td>\n",
       "      <td>The upcoming vaccination campaign against HPV ...</td>\n",
       "    </tr>\n",
       "    <tr>\n",
       "      <th>3</th>\n",
       "      <td>2014_04_neutral</td>\n",
       "      <td>The provided sentences discuss various vaccina...</td>\n",
       "    </tr>\n",
       "    <tr>\n",
       "      <th>4</th>\n",
       "      <td>2014_05_neutral</td>\n",
       "      <td>The text discusses various aspects of vaccinat...</td>\n",
       "    </tr>\n",
       "    <tr>\n",
       "      <th>5</th>\n",
       "      <td>2014_06_neutral</td>\n",
       "      <td>The text discusses various aspects of vaccinat...</td>\n",
       "    </tr>\n",
       "    <tr>\n",
       "      <th>6</th>\n",
       "      <td>2014_07_neutral</td>\n",
       "      <td>The provided Portuguese sentences predominantl...</td>\n",
       "    </tr>\n",
       "    <tr>\n",
       "      <th>7</th>\n",
       "      <td>2014_08_neutral</td>\n",
       "      <td>The text discusses various vaccination campaig...</td>\n",
       "    </tr>\n",
       "    <tr>\n",
       "      <th>8</th>\n",
       "      <td>2014_09_neutral</td>\n",
       "      <td>The text discusses the vaccination campaign ag...</td>\n",
       "    </tr>\n",
       "    <tr>\n",
       "      <th>9</th>\n",
       "      <td>2014_10_neutral</td>\n",
       "      <td>The texts discuss various aspects of vaccinati...</td>\n",
       "    </tr>\n",
       "  </tbody>\n",
       "</table>\n",
       "</div>"
      ],
      "text/plain": [
       "           dataset                                            summary\n",
       "0  2014_01_neutral  The text discusses various aspects of vaccinat...\n",
       "1  2014_02_neutral  The text discusses various vaccination campaig...\n",
       "2  2014_03_neutral  The upcoming vaccination campaign against HPV ...\n",
       "3  2014_04_neutral  The provided sentences discuss various vaccina...\n",
       "4  2014_05_neutral  The text discusses various aspects of vaccinat...\n",
       "5  2014_06_neutral  The text discusses various aspects of vaccinat...\n",
       "6  2014_07_neutral  The provided Portuguese sentences predominantl...\n",
       "7  2014_08_neutral  The text discusses various vaccination campaig...\n",
       "8  2014_09_neutral  The text discusses the vaccination campaign ag...\n",
       "9  2014_10_neutral  The texts discuss various aspects of vaccinati..."
      ]
     },
     "execution_count": 155,
     "metadata": {},
     "output_type": "execute_result"
    }
   ],
   "source": [
    "df_2014_neu.tail(14)"
   ]
  },
  {
   "cell_type": "code",
   "execution_count": 156,
   "id": "c9aa4469",
   "metadata": {},
   "outputs": [
    {
     "data": {
      "text/plain": [
       "<OpenAIObject chat.completion id=chatcmpl-AUeSCUWZqZtZEBNqZL8NJ64KQ8ThA at 0x126440f10e0> JSON: {\n",
       "  \"choices\": [\n",
       "    {\n",
       "      \"finish_reason\": \"stop\",\n",
       "      \"index\": 0,\n",
       "      \"logprobs\": null,\n",
       "      \"message\": {\n",
       "        \"content\": \"The texts discuss various aspects of vaccination, focusing on the controversy surrounding the inclusion of horse vaccines as health expenditures in Minas Gerais, particularly under A\\u00e9cio Neves' government. Critics highlight this as an inappropriate allocation of health funds, while supporters argue it relates to public health measures. Additionally, there are mentions of vaccination campaigns for both animals and humans, including efforts against rabies and HPV, and the ongoing research and testing of an Ebola vaccine. Overall, the conversation reflects societal attitudes towards vaccination and public health policy.\",\n",
       "        \"refusal\": null,\n",
       "        \"role\": \"assistant\"\n",
       "      }\n",
       "    }\n",
       "  ],\n",
       "  \"created\": 1731868708,\n",
       "  \"id\": \"chatcmpl-AUeSCUWZqZtZEBNqZL8NJ64KQ8ThA\",\n",
       "  \"model\": \"gpt-4o-mini-2024-07-18\",\n",
       "  \"object\": \"chat.completion\",\n",
       "  \"system_fingerprint\": \"fp_0ba0d124f1\",\n",
       "  \"usage\": {\n",
       "    \"completion_tokens\": 103,\n",
       "    \"completion_tokens_details\": {\n",
       "      \"accepted_prediction_tokens\": 0,\n",
       "      \"audio_tokens\": 0,\n",
       "      \"reasoning_tokens\": 0,\n",
       "      \"rejected_prediction_tokens\": 0\n",
       "    },\n",
       "    \"prompt_tokens\": 118522,\n",
       "    \"prompt_tokens_details\": {\n",
       "      \"audio_tokens\": 0,\n",
       "      \"cached_tokens\": 0\n",
       "    },\n",
       "    \"total_tokens\": 118625\n",
       "  }\n",
       "}"
      ]
     },
     "execution_count": 156,
     "metadata": {},
     "output_type": "execute_result"
    }
   ],
   "source": [
    "response"
   ]
  },
  {
   "cell_type": "markdown",
   "id": "d476f7a3",
   "metadata": {},
   "source": [
    "## November"
   ]
  },
  {
   "cell_type": "code",
   "execution_count": 157,
   "id": "63dc91c7",
   "metadata": {
    "scrolled": true,
    "tags": []
   },
   "outputs": [
    {
     "name": "stdout",
     "output_type": "stream",
     "text": [
      "<class 'pandas.core.frame.DataFrame'>\n",
      "RangeIndex: 6348 entries, 0 to 6347\n",
      "Data columns (total 53 columns):\n",
      " #   Column                  Non-Null Count  Dtype  \n",
      "---  ------                  --------------  -----  \n",
      " 0   index                   6348 non-null   int64  \n",
      " 1   LocationCode            6348 non-null   object \n",
      " 2   LocationName            6348 non-null   object \n",
      " 3   StatesCode              6348 non-null   object \n",
      " 4   ...4                    6348 non-null   int64  \n",
      " 5   id                      6348 non-null   float64\n",
      " 6   text                    6348 non-null   object \n",
      " 7   label                   6348 non-null   object \n",
      " 8   in_reply_to_status_id   163 non-null    float64\n",
      " 9   in_reply_to_user_id     189 non-null    float64\n",
      " 10  quoted_user_id          0 non-null      float64\n",
      " 11  quoted_status_id        0 non-null      float64\n",
      " 12  retweeted_user_id       944 non-null    float64\n",
      " 13  retweeted_status_id     944 non-null    float64\n",
      " 14  created_at              6348 non-null   object \n",
      " 15  entities.user_mentions  1665 non-null   object \n",
      " 16  user.id                 6348 non-null   int64  \n",
      " 17  user.screen_name        6348 non-null   object \n",
      " 18  user.name               6348 non-null   object \n",
      " 19  user.description        5270 non-null   object \n",
      " 20  user.timezone           0 non-null      float64\n",
      " 21  user.location           6320 non-null   object \n",
      " 22  user.num_followers      6348 non-null   int64  \n",
      " 23  user.num_following      6348 non-null   int64  \n",
      " 24  user.created_at         6348 non-null   object \n",
      " 25  user.statuses_count     6348 non-null   int64  \n",
      " 26  user.is_verified        6348 non-null   bool   \n",
      " 27  lang                    6348 non-null   object \n",
      " 28  token_count             6348 non-null   int64  \n",
      " 29  is_retweet              6348 non-null   bool   \n",
      " 30  has_quote               6348 non-null   bool   \n",
      " 31  is_reply                6348 non-null   bool   \n",
      " 32  contains_keywords       6348 non-null   bool   \n",
      " 33  longitude               6348 non-null   float64\n",
      " 34  latitude                6348 non-null   float64\n",
      " 35  country_code            6348 non-null   object \n",
      " 36  geoname_id              6219 non-null   float64\n",
      " 37  location_type           6348 non-null   object \n",
      " 38  geo_type                6348 non-null   int64  \n",
      " 39  region                  6348 non-null   object \n",
      " 40  subregion               6348 non-null   object \n",
      " 41  num_quotes              6348 non-null   int64  \n",
      " 42  num_replies             6348 non-null   int64  \n",
      " 43  num_retweets            6348 non-null   int64  \n",
      " 44  sent_gpt                6348 non-null   object \n",
      " 45  gpt_sent_presence       6348 non-null   int64  \n",
      " 46  cleaned_text_lem        6348 non-null   object \n",
      " 47  cleaned_text            6348 non-null   object \n",
      " 48  month                   6348 non-null   int64  \n",
      " 49  year                    6348 non-null   int64  \n",
      " 50  week                    6348 non-null   int64  \n",
      " 51  year_month              6348 non-null   object \n",
      " 52  year_week               6348 non-null   object \n",
      "dtypes: bool(5), float64(11), int64(15), object(22)\n",
      "memory usage: 2.4+ MB\n"
     ]
    }
   ],
   "source": [
    "# Get monthly data\n",
    "df_2014_11_neu = pd.read_csv('../data/local/df_neu_2014-11.csv').reset_index()\n",
    "df_2014_11_neu.info()"
   ]
  },
  {
   "cell_type": "markdown",
   "id": "e44ca951",
   "metadata": {},
   "source": [
    "### Representative sample based on week and location"
   ]
  },
  {
   "cell_type": "code",
   "execution_count": 158,
   "id": "58f0a8ff",
   "metadata": {},
   "outputs": [
    {
     "data": {
      "text/html": [
       "<div>\n",
       "<style scoped>\n",
       "    .dataframe tbody tr th:only-of-type {\n",
       "        vertical-align: middle;\n",
       "    }\n",
       "\n",
       "    .dataframe tbody tr th {\n",
       "        vertical-align: top;\n",
       "    }\n",
       "\n",
       "    .dataframe thead th {\n",
       "        text-align: right;\n",
       "    }\n",
       "</style>\n",
       "<table border=\"1\" class=\"dataframe\">\n",
       "  <thead>\n",
       "    <tr style=\"text-align: right;\">\n",
       "      <th></th>\n",
       "      <th>year_week</th>\n",
       "      <th>LocationName</th>\n",
       "      <th>group_size</th>\n",
       "      <th>proportion</th>\n",
       "    </tr>\n",
       "  </thead>\n",
       "  <tbody>\n",
       "    <tr>\n",
       "      <th>0</th>\n",
       "      <td>2014-w44</td>\n",
       "      <td>Acre</td>\n",
       "      <td>3</td>\n",
       "      <td>0.000473</td>\n",
       "    </tr>\n",
       "    <tr>\n",
       "      <th>1</th>\n",
       "      <td>2014-w44</td>\n",
       "      <td>Alagoas</td>\n",
       "      <td>12</td>\n",
       "      <td>0.001890</td>\n",
       "    </tr>\n",
       "    <tr>\n",
       "      <th>2</th>\n",
       "      <td>2014-w44</td>\n",
       "      <td>Amapa</td>\n",
       "      <td>4</td>\n",
       "      <td>0.000630</td>\n",
       "    </tr>\n",
       "    <tr>\n",
       "      <th>3</th>\n",
       "      <td>2014-w44</td>\n",
       "      <td>Amazonas</td>\n",
       "      <td>12</td>\n",
       "      <td>0.001890</td>\n",
       "    </tr>\n",
       "    <tr>\n",
       "      <th>4</th>\n",
       "      <td>2014-w44</td>\n",
       "      <td>Bahia</td>\n",
       "      <td>52</td>\n",
       "      <td>0.008192</td>\n",
       "    </tr>\n",
       "    <tr>\n",
       "      <th>...</th>\n",
       "      <td>...</td>\n",
       "      <td>...</td>\n",
       "      <td>...</td>\n",
       "      <td>...</td>\n",
       "    </tr>\n",
       "    <tr>\n",
       "      <th>119</th>\n",
       "      <td>2014-w48</td>\n",
       "      <td>Roraima</td>\n",
       "      <td>8</td>\n",
       "      <td>0.001260</td>\n",
       "    </tr>\n",
       "    <tr>\n",
       "      <th>120</th>\n",
       "      <td>2014-w48</td>\n",
       "      <td>Santa Catarina</td>\n",
       "      <td>18</td>\n",
       "      <td>0.002836</td>\n",
       "    </tr>\n",
       "    <tr>\n",
       "      <th>121</th>\n",
       "      <td>2014-w48</td>\n",
       "      <td>Sao Paulo</td>\n",
       "      <td>125</td>\n",
       "      <td>0.019691</td>\n",
       "    </tr>\n",
       "    <tr>\n",
       "      <th>122</th>\n",
       "      <td>2014-w48</td>\n",
       "      <td>Sergipe</td>\n",
       "      <td>11</td>\n",
       "      <td>0.001733</td>\n",
       "    </tr>\n",
       "    <tr>\n",
       "      <th>123</th>\n",
       "      <td>2014-w48</td>\n",
       "      <td>Tocantins</td>\n",
       "      <td>7</td>\n",
       "      <td>0.001103</td>\n",
       "    </tr>\n",
       "  </tbody>\n",
       "</table>\n",
       "<p>124 rows × 4 columns</p>\n",
       "</div>"
      ],
      "text/plain": [
       "    year_week    LocationName  group_size  proportion\n",
       "0    2014-w44            Acre           3    0.000473\n",
       "1    2014-w44         Alagoas          12    0.001890\n",
       "2    2014-w44           Amapa           4    0.000630\n",
       "3    2014-w44        Amazonas          12    0.001890\n",
       "4    2014-w44           Bahia          52    0.008192\n",
       "..        ...             ...         ...         ...\n",
       "119  2014-w48         Roraima           8    0.001260\n",
       "120  2014-w48  Santa Catarina          18    0.002836\n",
       "121  2014-w48       Sao Paulo         125    0.019691\n",
       "122  2014-w48         Sergipe          11    0.001733\n",
       "123  2014-w48       Tocantins           7    0.001103\n",
       "\n",
       "[124 rows x 4 columns]"
      ]
     },
     "execution_count": 158,
     "metadata": {},
     "output_type": "execute_result"
    }
   ],
   "source": [
    "# Step 1: Calculate the size of each group (year_week, LocationName)\n",
    "group_sizes = df_2014_11_neu.groupby(['year_week', 'LocationName']).size().reset_index(name='group_size')\n",
    "\n",
    "# Step 2: Calculate the proportion of each group in the dataset\n",
    "total_rows = len(df_2014_11_neu)\n",
    "group_sizes['proportion'] = group_sizes['group_size'] / total_rows\n",
    "group_sizes"
   ]
  },
  {
   "cell_type": "code",
   "execution_count": 159,
   "id": "52c7e839",
   "metadata": {},
   "outputs": [
    {
     "data": {
      "text/html": [
       "<div>\n",
       "<style scoped>\n",
       "    .dataframe tbody tr th:only-of-type {\n",
       "        vertical-align: middle;\n",
       "    }\n",
       "\n",
       "    .dataframe tbody tr th {\n",
       "        vertical-align: top;\n",
       "    }\n",
       "\n",
       "    .dataframe thead th {\n",
       "        text-align: right;\n",
       "    }\n",
       "</style>\n",
       "<table border=\"1\" class=\"dataframe\">\n",
       "  <thead>\n",
       "    <tr style=\"text-align: right;\">\n",
       "      <th></th>\n",
       "      <th>year_week</th>\n",
       "      <th>LocationName</th>\n",
       "      <th>group_size</th>\n",
       "      <th>proportion</th>\n",
       "      <th>sample_size</th>\n",
       "    </tr>\n",
       "  </thead>\n",
       "  <tbody>\n",
       "    <tr>\n",
       "      <th>0</th>\n",
       "      <td>2014-w44</td>\n",
       "      <td>Acre</td>\n",
       "      <td>3</td>\n",
       "      <td>0.000473</td>\n",
       "      <td>1</td>\n",
       "    </tr>\n",
       "    <tr>\n",
       "      <th>1</th>\n",
       "      <td>2014-w44</td>\n",
       "      <td>Alagoas</td>\n",
       "      <td>12</td>\n",
       "      <td>0.001890</td>\n",
       "      <td>4</td>\n",
       "    </tr>\n",
       "    <tr>\n",
       "      <th>2</th>\n",
       "      <td>2014-w44</td>\n",
       "      <td>Amapa</td>\n",
       "      <td>4</td>\n",
       "      <td>0.000630</td>\n",
       "      <td>1</td>\n",
       "    </tr>\n",
       "    <tr>\n",
       "      <th>3</th>\n",
       "      <td>2014-w44</td>\n",
       "      <td>Amazonas</td>\n",
       "      <td>12</td>\n",
       "      <td>0.001890</td>\n",
       "      <td>4</td>\n",
       "    </tr>\n",
       "    <tr>\n",
       "      <th>4</th>\n",
       "      <td>2014-w44</td>\n",
       "      <td>Bahia</td>\n",
       "      <td>52</td>\n",
       "      <td>0.008192</td>\n",
       "      <td>20</td>\n",
       "    </tr>\n",
       "    <tr>\n",
       "      <th>...</th>\n",
       "      <td>...</td>\n",
       "      <td>...</td>\n",
       "      <td>...</td>\n",
       "      <td>...</td>\n",
       "      <td>...</td>\n",
       "    </tr>\n",
       "    <tr>\n",
       "      <th>119</th>\n",
       "      <td>2014-w48</td>\n",
       "      <td>Roraima</td>\n",
       "      <td>8</td>\n",
       "      <td>0.001260</td>\n",
       "      <td>3</td>\n",
       "    </tr>\n",
       "    <tr>\n",
       "      <th>120</th>\n",
       "      <td>2014-w48</td>\n",
       "      <td>Santa Catarina</td>\n",
       "      <td>18</td>\n",
       "      <td>0.002836</td>\n",
       "      <td>6</td>\n",
       "    </tr>\n",
       "    <tr>\n",
       "      <th>121</th>\n",
       "      <td>2014-w48</td>\n",
       "      <td>Sao Paulo</td>\n",
       "      <td>125</td>\n",
       "      <td>0.019691</td>\n",
       "      <td>48</td>\n",
       "    </tr>\n",
       "    <tr>\n",
       "      <th>122</th>\n",
       "      <td>2014-w48</td>\n",
       "      <td>Sergipe</td>\n",
       "      <td>11</td>\n",
       "      <td>0.001733</td>\n",
       "      <td>4</td>\n",
       "    </tr>\n",
       "    <tr>\n",
       "      <th>123</th>\n",
       "      <td>2014-w48</td>\n",
       "      <td>Tocantins</td>\n",
       "      <td>7</td>\n",
       "      <td>0.001103</td>\n",
       "      <td>2</td>\n",
       "    </tr>\n",
       "  </tbody>\n",
       "</table>\n",
       "<p>124 rows × 5 columns</p>\n",
       "</div>"
      ],
      "text/plain": [
       "    year_week    LocationName  group_size  proportion  sample_size\n",
       "0    2014-w44            Acre           3    0.000473            1\n",
       "1    2014-w44         Alagoas          12    0.001890            4\n",
       "2    2014-w44           Amapa           4    0.000630            1\n",
       "3    2014-w44        Amazonas          12    0.001890            4\n",
       "4    2014-w44           Bahia          52    0.008192           20\n",
       "..        ...             ...         ...         ...          ...\n",
       "119  2014-w48         Roraima           8    0.001260            3\n",
       "120  2014-w48  Santa Catarina          18    0.002836            6\n",
       "121  2014-w48       Sao Paulo         125    0.019691           48\n",
       "122  2014-w48         Sergipe          11    0.001733            4\n",
       "123  2014-w48       Tocantins           7    0.001103            2\n",
       "\n",
       "[124 rows x 5 columns]"
      ]
     },
     "execution_count": 159,
     "metadata": {},
     "output_type": "execute_result"
    }
   ],
   "source": [
    "# Step 3: Define the target sample size\n",
    "target_sample_size = 2450\n",
    "\n",
    "# Step 4: Calculate the sample size for each group (based on its proportion)\n",
    "group_sizes['sample_size'] = np.floor(group_sizes['proportion'] * target_sample_size).astype(int)\n",
    "group_sizes"
   ]
  },
  {
   "cell_type": "code",
   "execution_count": 160,
   "id": "47bfacf4",
   "metadata": {},
   "outputs": [],
   "source": [
    "# Step 5: Merge this sample size information back to the original DataFrame\n",
    "df_2014_11_neu_sample_size = pd.merge(df_2014_11_neu, group_sizes[['year_week', 'LocationName', 'sample_size']], \n",
    "                               on=['year_week', 'LocationName'], how='left')"
   ]
  },
  {
   "cell_type": "code",
   "execution_count": 161,
   "id": "3127c68e",
   "metadata": {},
   "outputs": [
    {
     "name": "stdout",
     "output_type": "stream",
     "text": [
      "Sampled 2390 rows.\n"
     ]
    }
   ],
   "source": [
    "# Step 6: Perform the stratified sampling\n",
    "df_2014_11_neu_sample = df_2014_11_neu_sample_size.groupby(['year_week', 'LocationName']).apply(\n",
    "    lambda group: group.sample(n=group['sample_size'].iloc[0], random_state=42)\n",
    ").reset_index(drop=True)\n",
    "\n",
    "# Step 7: Check the result\n",
    "print(f\"Sampled {len(df_2014_11_neu_sample)} rows.\")\n"
   ]
  },
  {
   "cell_type": "code",
   "execution_count": 162,
   "id": "a5fc3ad1",
   "metadata": {},
   "outputs": [],
   "source": [
    "text_gpt_2014_11_neu = '\\n'.join(df_2014_11_neu_sample['text'].astype(str))"
   ]
  },
  {
   "cell_type": "markdown",
   "id": "8df94c41",
   "metadata": {},
   "source": [
    "### Prompts and loops"
   ]
  },
  {
   "cell_type": "code",
   "execution_count": 163,
   "id": "b2c43f66",
   "metadata": {},
   "outputs": [],
   "source": [
    "prompt_11 = prompt_raw.replace('TWEETS', text_gpt_2014_11_neu)"
   ]
  },
  {
   "cell_type": "code",
   "execution_count": 164,
   "id": "87bbf147",
   "metadata": {
    "scrolled": false
   },
   "outputs": [],
   "source": [
    "response = openai.ChatCompletion.create(\n",
    "    model=\"gpt-4o-mini\",  \n",
    "    messages = [\n",
    "        {\"role\": \"user\", \"content\": prompt_11}\n",
    "    ],\n",
    "    max_tokens=400,  # Maximum number of tokens in the response\n",
    "    temperature=0.7  # Controls the randomness of the output\n",
    ")"
   ]
  },
  {
   "cell_type": "code",
   "execution_count": 165,
   "id": "99d409e9",
   "metadata": {},
   "outputs": [
    {
     "data": {
      "text/plain": [
       "\"The text discusses various vaccination campaigns in Brazil, emphasizing the registration of a new flu vaccine by Anvisa and the government's plans to immunize millions of children against polio and measles. It also highlights the start of vaccination efforts for these diseases, alongside campaigns for rabies vaccination in animals, including details about specific dates and goals for these initiatives.\""
      ]
     },
     "execution_count": 165,
     "metadata": {},
     "output_type": "execute_result"
    }
   ],
   "source": [
    "response.choices[0].message.content"
   ]
  },
  {
   "cell_type": "code",
   "execution_count": 166,
   "id": "c1cb7d55",
   "metadata": {},
   "outputs": [],
   "source": [
    "#summary = []\n",
    "#dataset = []"
   ]
  },
  {
   "cell_type": "code",
   "execution_count": 167,
   "id": "0b5f7bbc",
   "metadata": {},
   "outputs": [],
   "source": [
    "dataset.append(\"2014_11_neutral\")"
   ]
  },
  {
   "cell_type": "code",
   "execution_count": 168,
   "id": "25b7e5ff",
   "metadata": {},
   "outputs": [],
   "source": [
    "summary.append(response.choices[0].message.content)"
   ]
  },
  {
   "cell_type": "code",
   "execution_count": 169,
   "id": "10f2f273",
   "metadata": {
    "tags": []
   },
   "outputs": [
    {
     "name": "stdout",
     "output_type": "stream",
     "text": [
      "<class 'pandas.core.frame.DataFrame'>\n",
      "RangeIndex: 11 entries, 0 to 10\n",
      "Data columns (total 2 columns):\n",
      " #   Column   Non-Null Count  Dtype \n",
      "---  ------   --------------  ----- \n",
      " 0   dataset  11 non-null     object\n",
      " 1   summary  11 non-null     object\n",
      "dtypes: object(2)\n",
      "memory usage: 304.0+ bytes\n"
     ]
    }
   ],
   "source": [
    "df_2014_neu = pd.DataFrame(list(zip(dataset, summary)),\n",
    "                            columns = ['dataset', 'summary'])\n",
    "df_2014_neu.info()"
   ]
  },
  {
   "cell_type": "code",
   "execution_count": 170,
   "id": "89ced529",
   "metadata": {},
   "outputs": [
    {
     "data": {
      "text/html": [
       "<div>\n",
       "<style scoped>\n",
       "    .dataframe tbody tr th:only-of-type {\n",
       "        vertical-align: middle;\n",
       "    }\n",
       "\n",
       "    .dataframe tbody tr th {\n",
       "        vertical-align: top;\n",
       "    }\n",
       "\n",
       "    .dataframe thead th {\n",
       "        text-align: right;\n",
       "    }\n",
       "</style>\n",
       "<table border=\"1\" class=\"dataframe\">\n",
       "  <thead>\n",
       "    <tr style=\"text-align: right;\">\n",
       "      <th></th>\n",
       "      <th>dataset</th>\n",
       "      <th>summary</th>\n",
       "    </tr>\n",
       "  </thead>\n",
       "  <tbody>\n",
       "    <tr>\n",
       "      <th>0</th>\n",
       "      <td>2014_01_neutral</td>\n",
       "      <td>The text discusses various aspects of vaccinat...</td>\n",
       "    </tr>\n",
       "    <tr>\n",
       "      <th>1</th>\n",
       "      <td>2014_02_neutral</td>\n",
       "      <td>The text discusses various vaccination campaig...</td>\n",
       "    </tr>\n",
       "    <tr>\n",
       "      <th>2</th>\n",
       "      <td>2014_03_neutral</td>\n",
       "      <td>The upcoming vaccination campaign against HPV ...</td>\n",
       "    </tr>\n",
       "    <tr>\n",
       "      <th>3</th>\n",
       "      <td>2014_04_neutral</td>\n",
       "      <td>The provided sentences discuss various vaccina...</td>\n",
       "    </tr>\n",
       "    <tr>\n",
       "      <th>4</th>\n",
       "      <td>2014_05_neutral</td>\n",
       "      <td>The text discusses various aspects of vaccinat...</td>\n",
       "    </tr>\n",
       "    <tr>\n",
       "      <th>5</th>\n",
       "      <td>2014_06_neutral</td>\n",
       "      <td>The text discusses various aspects of vaccinat...</td>\n",
       "    </tr>\n",
       "    <tr>\n",
       "      <th>6</th>\n",
       "      <td>2014_07_neutral</td>\n",
       "      <td>The provided Portuguese sentences predominantl...</td>\n",
       "    </tr>\n",
       "    <tr>\n",
       "      <th>7</th>\n",
       "      <td>2014_08_neutral</td>\n",
       "      <td>The text discusses various vaccination campaig...</td>\n",
       "    </tr>\n",
       "    <tr>\n",
       "      <th>8</th>\n",
       "      <td>2014_09_neutral</td>\n",
       "      <td>The text discusses the vaccination campaign ag...</td>\n",
       "    </tr>\n",
       "    <tr>\n",
       "      <th>9</th>\n",
       "      <td>2014_10_neutral</td>\n",
       "      <td>The texts discuss various aspects of vaccinati...</td>\n",
       "    </tr>\n",
       "    <tr>\n",
       "      <th>10</th>\n",
       "      <td>2014_11_neutral</td>\n",
       "      <td>The text discusses various vaccination campaig...</td>\n",
       "    </tr>\n",
       "  </tbody>\n",
       "</table>\n",
       "</div>"
      ],
      "text/plain": [
       "            dataset                                            summary\n",
       "0   2014_01_neutral  The text discusses various aspects of vaccinat...\n",
       "1   2014_02_neutral  The text discusses various vaccination campaig...\n",
       "2   2014_03_neutral  The upcoming vaccination campaign against HPV ...\n",
       "3   2014_04_neutral  The provided sentences discuss various vaccina...\n",
       "4   2014_05_neutral  The text discusses various aspects of vaccinat...\n",
       "5   2014_06_neutral  The text discusses various aspects of vaccinat...\n",
       "6   2014_07_neutral  The provided Portuguese sentences predominantl...\n",
       "7   2014_08_neutral  The text discusses various vaccination campaig...\n",
       "8   2014_09_neutral  The text discusses the vaccination campaign ag...\n",
       "9   2014_10_neutral  The texts discuss various aspects of vaccinati...\n",
       "10  2014_11_neutral  The text discusses various vaccination campaig..."
      ]
     },
     "execution_count": 170,
     "metadata": {},
     "output_type": "execute_result"
    }
   ],
   "source": [
    "df_2014_neu.tail(14)"
   ]
  },
  {
   "cell_type": "code",
   "execution_count": 171,
   "id": "952c4bca",
   "metadata": {},
   "outputs": [
    {
     "data": {
      "text/plain": [
       "<OpenAIObject chat.completion id=chatcmpl-AUeSVV3Yu50zB8MwblpJjmigMKBTx at 0x12643926ea0> JSON: {\n",
       "  \"choices\": [\n",
       "    {\n",
       "      \"finish_reason\": \"stop\",\n",
       "      \"index\": 0,\n",
       "      \"logprobs\": null,\n",
       "      \"message\": {\n",
       "        \"content\": \"The text discusses various vaccination campaigns in Brazil, emphasizing the registration of a new flu vaccine by Anvisa and the government's plans to immunize millions of children against polio and measles. It also highlights the start of vaccination efforts for these diseases, alongside campaigns for rabies vaccination in animals, including details about specific dates and goals for these initiatives.\",\n",
       "        \"refusal\": null,\n",
       "        \"role\": \"assistant\"\n",
       "      }\n",
       "    }\n",
       "  ],\n",
       "  \"created\": 1731868727,\n",
       "  \"id\": \"chatcmpl-AUeSVV3Yu50zB8MwblpJjmigMKBTx\",\n",
       "  \"model\": \"gpt-4o-mini-2024-07-18\",\n",
       "  \"object\": \"chat.completion\",\n",
       "  \"system_fingerprint\": \"fp_0ba0d124f1\",\n",
       "  \"usage\": {\n",
       "    \"completion_tokens\": 69,\n",
       "    \"completion_tokens_details\": {\n",
       "      \"accepted_prediction_tokens\": 0,\n",
       "      \"audio_tokens\": 0,\n",
       "      \"reasoning_tokens\": 0,\n",
       "      \"rejected_prediction_tokens\": 0\n",
       "    },\n",
       "    \"prompt_tokens\": 57077,\n",
       "    \"prompt_tokens_details\": {\n",
       "      \"audio_tokens\": 0,\n",
       "      \"cached_tokens\": 0\n",
       "    },\n",
       "    \"total_tokens\": 57146\n",
       "  }\n",
       "}"
      ]
     },
     "execution_count": 171,
     "metadata": {},
     "output_type": "execute_result"
    }
   ],
   "source": [
    "response"
   ]
  },
  {
   "cell_type": "markdown",
   "id": "46613a39",
   "metadata": {},
   "source": [
    "## December"
   ]
  },
  {
   "cell_type": "code",
   "execution_count": 172,
   "id": "3f6bde3b",
   "metadata": {
    "scrolled": true,
    "tags": []
   },
   "outputs": [
    {
     "name": "stdout",
     "output_type": "stream",
     "text": [
      "<class 'pandas.core.frame.DataFrame'>\n",
      "RangeIndex: 2918 entries, 0 to 2917\n",
      "Data columns (total 53 columns):\n",
      " #   Column                  Non-Null Count  Dtype  \n",
      "---  ------                  --------------  -----  \n",
      " 0   index                   2918 non-null   int64  \n",
      " 1   LocationCode            2918 non-null   object \n",
      " 2   LocationName            2918 non-null   object \n",
      " 3   StatesCode              2918 non-null   object \n",
      " 4   ...4                    2918 non-null   int64  \n",
      " 5   id                      2918 non-null   float64\n",
      " 6   text                    2918 non-null   object \n",
      " 7   label                   2918 non-null   object \n",
      " 8   in_reply_to_status_id   116 non-null    float64\n",
      " 9   in_reply_to_user_id     128 non-null    float64\n",
      " 10  quoted_user_id          0 non-null      float64\n",
      " 11  quoted_status_id        0 non-null      float64\n",
      " 12  retweeted_user_id       544 non-null    float64\n",
      " 13  retweeted_status_id     544 non-null    float64\n",
      " 14  created_at              2918 non-null   object \n",
      " 15  entities.user_mentions  880 non-null    object \n",
      " 16  user.id                 2918 non-null   int64  \n",
      " 17  user.screen_name        2918 non-null   object \n",
      " 18  user.name               2916 non-null   object \n",
      " 19  user.description        2440 non-null   object \n",
      " 20  user.timezone           0 non-null      float64\n",
      " 21  user.location           2897 non-null   object \n",
      " 22  user.num_followers      2918 non-null   int64  \n",
      " 23  user.num_following      2918 non-null   int64  \n",
      " 24  user.created_at         2918 non-null   object \n",
      " 25  user.statuses_count     2918 non-null   int64  \n",
      " 26  user.is_verified        2918 non-null   bool   \n",
      " 27  lang                    2918 non-null   object \n",
      " 28  token_count             2918 non-null   int64  \n",
      " 29  is_retweet              2918 non-null   bool   \n",
      " 30  has_quote               2918 non-null   bool   \n",
      " 31  is_reply                2918 non-null   bool   \n",
      " 32  contains_keywords       2918 non-null   bool   \n",
      " 33  longitude               2918 non-null   float64\n",
      " 34  latitude                2918 non-null   float64\n",
      " 35  country_code            2918 non-null   object \n",
      " 36  geoname_id              2825 non-null   float64\n",
      " 37  location_type           2918 non-null   object \n",
      " 38  geo_type                2918 non-null   int64  \n",
      " 39  region                  2918 non-null   object \n",
      " 40  subregion               2918 non-null   object \n",
      " 41  num_quotes              2918 non-null   int64  \n",
      " 42  num_replies             2918 non-null   int64  \n",
      " 43  num_retweets            2918 non-null   int64  \n",
      " 44  sent_gpt                2918 non-null   object \n",
      " 45  gpt_sent_presence       2918 non-null   int64  \n",
      " 46  cleaned_text_lem        2918 non-null   object \n",
      " 47  cleaned_text            2918 non-null   object \n",
      " 48  month                   2918 non-null   int64  \n",
      " 49  year                    2918 non-null   int64  \n",
      " 50  week                    2918 non-null   int64  \n",
      " 51  year_month              2918 non-null   object \n",
      " 52  year_week               2918 non-null   object \n",
      "dtypes: bool(5), float64(11), int64(15), object(22)\n",
      "memory usage: 1.1+ MB\n"
     ]
    }
   ],
   "source": [
    "# Get monthly data\n",
    "df_2014_12_neu = pd.read_csv('../data/local/df_neu_2014-12.csv').reset_index()\n",
    "df_2014_12_neu.info()"
   ]
  },
  {
   "cell_type": "markdown",
   "id": "4658d918",
   "metadata": {},
   "source": [
    "### Representative sample based on week and location"
   ]
  },
  {
   "cell_type": "code",
   "execution_count": 173,
   "id": "fcdbb1e9",
   "metadata": {},
   "outputs": [
    {
     "data": {
      "text/html": [
       "<div>\n",
       "<style scoped>\n",
       "    .dataframe tbody tr th:only-of-type {\n",
       "        vertical-align: middle;\n",
       "    }\n",
       "\n",
       "    .dataframe tbody tr th {\n",
       "        vertical-align: top;\n",
       "    }\n",
       "\n",
       "    .dataframe thead th {\n",
       "        text-align: right;\n",
       "    }\n",
       "</style>\n",
       "<table border=\"1\" class=\"dataframe\">\n",
       "  <thead>\n",
       "    <tr style=\"text-align: right;\">\n",
       "      <th></th>\n",
       "      <th>year_week</th>\n",
       "      <th>LocationName</th>\n",
       "      <th>group_size</th>\n",
       "      <th>proportion</th>\n",
       "    </tr>\n",
       "  </thead>\n",
       "  <tbody>\n",
       "    <tr>\n",
       "      <th>0</th>\n",
       "      <td>2014-w48</td>\n",
       "      <td>Acre</td>\n",
       "      <td>1</td>\n",
       "      <td>0.000343</td>\n",
       "    </tr>\n",
       "    <tr>\n",
       "      <th>1</th>\n",
       "      <td>2014-w48</td>\n",
       "      <td>Alagoas</td>\n",
       "      <td>7</td>\n",
       "      <td>0.002399</td>\n",
       "    </tr>\n",
       "    <tr>\n",
       "      <th>2</th>\n",
       "      <td>2014-w48</td>\n",
       "      <td>Amapa</td>\n",
       "      <td>1</td>\n",
       "      <td>0.000343</td>\n",
       "    </tr>\n",
       "    <tr>\n",
       "      <th>3</th>\n",
       "      <td>2014-w48</td>\n",
       "      <td>Amazonas</td>\n",
       "      <td>6</td>\n",
       "      <td>0.002056</td>\n",
       "    </tr>\n",
       "    <tr>\n",
       "      <th>4</th>\n",
       "      <td>2014-w48</td>\n",
       "      <td>Bahia</td>\n",
       "      <td>18</td>\n",
       "      <td>0.006169</td>\n",
       "    </tr>\n",
       "    <tr>\n",
       "      <th>...</th>\n",
       "      <td>...</td>\n",
       "      <td>...</td>\n",
       "      <td>...</td>\n",
       "      <td>...</td>\n",
       "    </tr>\n",
       "    <tr>\n",
       "      <th>126</th>\n",
       "      <td>2014-w53</td>\n",
       "      <td>Pernambuco</td>\n",
       "      <td>3</td>\n",
       "      <td>0.001028</td>\n",
       "    </tr>\n",
       "    <tr>\n",
       "      <th>127</th>\n",
       "      <td>2014-w53</td>\n",
       "      <td>Rio Grande Do Sul</td>\n",
       "      <td>3</td>\n",
       "      <td>0.001028</td>\n",
       "    </tr>\n",
       "    <tr>\n",
       "      <th>128</th>\n",
       "      <td>2014-w53</td>\n",
       "      <td>Roraima</td>\n",
       "      <td>3</td>\n",
       "      <td>0.001028</td>\n",
       "    </tr>\n",
       "    <tr>\n",
       "      <th>129</th>\n",
       "      <td>2014-w53</td>\n",
       "      <td>Sao Paulo</td>\n",
       "      <td>5</td>\n",
       "      <td>0.001714</td>\n",
       "    </tr>\n",
       "    <tr>\n",
       "      <th>130</th>\n",
       "      <td>2014-w53</td>\n",
       "      <td>Sergipe</td>\n",
       "      <td>1</td>\n",
       "      <td>0.000343</td>\n",
       "    </tr>\n",
       "  </tbody>\n",
       "</table>\n",
       "<p>131 rows × 4 columns</p>\n",
       "</div>"
      ],
      "text/plain": [
       "    year_week       LocationName  group_size  proportion\n",
       "0    2014-w48               Acre           1    0.000343\n",
       "1    2014-w48            Alagoas           7    0.002399\n",
       "2    2014-w48              Amapa           1    0.000343\n",
       "3    2014-w48           Amazonas           6    0.002056\n",
       "4    2014-w48              Bahia          18    0.006169\n",
       "..        ...                ...         ...         ...\n",
       "126  2014-w53         Pernambuco           3    0.001028\n",
       "127  2014-w53  Rio Grande Do Sul           3    0.001028\n",
       "128  2014-w53            Roraima           3    0.001028\n",
       "129  2014-w53          Sao Paulo           5    0.001714\n",
       "130  2014-w53            Sergipe           1    0.000343\n",
       "\n",
       "[131 rows x 4 columns]"
      ]
     },
     "execution_count": 173,
     "metadata": {},
     "output_type": "execute_result"
    }
   ],
   "source": [
    "# Step 1: Calculate the size of each group (year_week, LocationName)\n",
    "group_sizes = df_2014_12_neu.groupby(['year_week', 'LocationName']).size().reset_index(name='group_size')\n",
    "\n",
    "# Step 2: Calculate the proportion of each group in the dataset\n",
    "total_rows = len(df_2014_12_neu)\n",
    "group_sizes['proportion'] = group_sizes['group_size'] / total_rows\n",
    "group_sizes"
   ]
  },
  {
   "cell_type": "code",
   "execution_count": 174,
   "id": "bbf24049",
   "metadata": {},
   "outputs": [
    {
     "data": {
      "text/html": [
       "<div>\n",
       "<style scoped>\n",
       "    .dataframe tbody tr th:only-of-type {\n",
       "        vertical-align: middle;\n",
       "    }\n",
       "\n",
       "    .dataframe tbody tr th {\n",
       "        vertical-align: top;\n",
       "    }\n",
       "\n",
       "    .dataframe thead th {\n",
       "        text-align: right;\n",
       "    }\n",
       "</style>\n",
       "<table border=\"1\" class=\"dataframe\">\n",
       "  <thead>\n",
       "    <tr style=\"text-align: right;\">\n",
       "      <th></th>\n",
       "      <th>year_week</th>\n",
       "      <th>LocationName</th>\n",
       "      <th>group_size</th>\n",
       "      <th>proportion</th>\n",
       "      <th>sample_size</th>\n",
       "    </tr>\n",
       "  </thead>\n",
       "  <tbody>\n",
       "    <tr>\n",
       "      <th>0</th>\n",
       "      <td>2014-w48</td>\n",
       "      <td>Acre</td>\n",
       "      <td>1</td>\n",
       "      <td>0.000343</td>\n",
       "      <td>0</td>\n",
       "    </tr>\n",
       "    <tr>\n",
       "      <th>1</th>\n",
       "      <td>2014-w48</td>\n",
       "      <td>Alagoas</td>\n",
       "      <td>7</td>\n",
       "      <td>0.002399</td>\n",
       "      <td>5</td>\n",
       "    </tr>\n",
       "    <tr>\n",
       "      <th>2</th>\n",
       "      <td>2014-w48</td>\n",
       "      <td>Amapa</td>\n",
       "      <td>1</td>\n",
       "      <td>0.000343</td>\n",
       "      <td>0</td>\n",
       "    </tr>\n",
       "    <tr>\n",
       "      <th>3</th>\n",
       "      <td>2014-w48</td>\n",
       "      <td>Amazonas</td>\n",
       "      <td>6</td>\n",
       "      <td>0.002056</td>\n",
       "      <td>5</td>\n",
       "    </tr>\n",
       "    <tr>\n",
       "      <th>4</th>\n",
       "      <td>2014-w48</td>\n",
       "      <td>Bahia</td>\n",
       "      <td>18</td>\n",
       "      <td>0.006169</td>\n",
       "      <td>15</td>\n",
       "    </tr>\n",
       "    <tr>\n",
       "      <th>...</th>\n",
       "      <td>...</td>\n",
       "      <td>...</td>\n",
       "      <td>...</td>\n",
       "      <td>...</td>\n",
       "      <td>...</td>\n",
       "    </tr>\n",
       "    <tr>\n",
       "      <th>126</th>\n",
       "      <td>2014-w53</td>\n",
       "      <td>Pernambuco</td>\n",
       "      <td>3</td>\n",
       "      <td>0.001028</td>\n",
       "      <td>2</td>\n",
       "    </tr>\n",
       "    <tr>\n",
       "      <th>127</th>\n",
       "      <td>2014-w53</td>\n",
       "      <td>Rio Grande Do Sul</td>\n",
       "      <td>3</td>\n",
       "      <td>0.001028</td>\n",
       "      <td>2</td>\n",
       "    </tr>\n",
       "    <tr>\n",
       "      <th>128</th>\n",
       "      <td>2014-w53</td>\n",
       "      <td>Roraima</td>\n",
       "      <td>3</td>\n",
       "      <td>0.001028</td>\n",
       "      <td>2</td>\n",
       "    </tr>\n",
       "    <tr>\n",
       "      <th>129</th>\n",
       "      <td>2014-w53</td>\n",
       "      <td>Sao Paulo</td>\n",
       "      <td>5</td>\n",
       "      <td>0.001714</td>\n",
       "      <td>4</td>\n",
       "    </tr>\n",
       "    <tr>\n",
       "      <th>130</th>\n",
       "      <td>2014-w53</td>\n",
       "      <td>Sergipe</td>\n",
       "      <td>1</td>\n",
       "      <td>0.000343</td>\n",
       "      <td>0</td>\n",
       "    </tr>\n",
       "  </tbody>\n",
       "</table>\n",
       "<p>131 rows × 5 columns</p>\n",
       "</div>"
      ],
      "text/plain": [
       "    year_week       LocationName  group_size  proportion  sample_size\n",
       "0    2014-w48               Acre           1    0.000343            0\n",
       "1    2014-w48            Alagoas           7    0.002399            5\n",
       "2    2014-w48              Amapa           1    0.000343            0\n",
       "3    2014-w48           Amazonas           6    0.002056            5\n",
       "4    2014-w48              Bahia          18    0.006169           15\n",
       "..        ...                ...         ...         ...          ...\n",
       "126  2014-w53         Pernambuco           3    0.001028            2\n",
       "127  2014-w53  Rio Grande Do Sul           3    0.001028            2\n",
       "128  2014-w53            Roraima           3    0.001028            2\n",
       "129  2014-w53          Sao Paulo           5    0.001714            4\n",
       "130  2014-w53            Sergipe           1    0.000343            0\n",
       "\n",
       "[131 rows x 5 columns]"
      ]
     },
     "execution_count": 174,
     "metadata": {},
     "output_type": "execute_result"
    }
   ],
   "source": [
    "# Step 3: Define the target sample size\n",
    "target_sample_size = 2450\n",
    "\n",
    "# Step 4: Calculate the sample size for each group (based on its proportion)\n",
    "group_sizes['sample_size'] = np.floor(group_sizes['proportion'] * target_sample_size).astype(int)\n",
    "group_sizes"
   ]
  },
  {
   "cell_type": "code",
   "execution_count": 175,
   "id": "c207c408",
   "metadata": {},
   "outputs": [],
   "source": [
    "# Step 5: Merge this sample size information back to the original DataFrame\n",
    "df_2014_12_neu_sample_size = pd.merge(df_2014_12_neu, group_sizes[['year_week', 'LocationName', 'sample_size']], \n",
    "                               on=['year_week', 'LocationName'], how='left')"
   ]
  },
  {
   "cell_type": "code",
   "execution_count": 176,
   "id": "66d74acb",
   "metadata": {},
   "outputs": [
    {
     "name": "stdout",
     "output_type": "stream",
     "text": [
      "Sampled 2918 rows.\n"
     ]
    }
   ],
   "source": [
    "# Step 6: Perform the stratified sampling\n",
    "#df_2014_12_neu_sample = df_2014_12_neu_sample_size.groupby(['year_week', 'LocationName']).apply(\n",
    " #   lambda group: group.sample(n=group['sample_size'].iloc[0], random_state=42)\n",
    "#).reset_index(drop=True)\n",
    "df_2014_12_neu_sample = df_2014_12_neu\n",
    "# Step 7: Check the result\n",
    "print(f\"Sampled {len(df_2014_12_neu_sample)} rows.\")\n"
   ]
  },
  {
   "cell_type": "code",
   "execution_count": 177,
   "id": "b23befcc",
   "metadata": {},
   "outputs": [],
   "source": [
    "text_gpt_2014_12_neu = '\\n'.join(df_2014_12_neu_sample['text'].astype(str))"
   ]
  },
  {
   "cell_type": "markdown",
   "id": "d3650c4b",
   "metadata": {},
   "source": [
    "### Prompts and loops"
   ]
  },
  {
   "cell_type": "code",
   "execution_count": 178,
   "id": "791b4fd6",
   "metadata": {},
   "outputs": [],
   "source": [
    "prompt_12 = prompt_raw.replace('TWEETS', text_gpt_2014_12_neu)"
   ]
  },
  {
   "cell_type": "code",
   "execution_count": 179,
   "id": "def2b9de",
   "metadata": {
    "scrolled": false
   },
   "outputs": [],
   "source": [
    "response = openai.ChatCompletion.create(\n",
    "    model=\"gpt-4o-mini\",  \n",
    "    messages = [\n",
    "        {\"role\": \"user\", \"content\": prompt_12}\n",
    "    ],\n",
    "    max_tokens=400,  # Maximum number of tokens in the response\n",
    "    temperature=0.7  # Controls the randomness of the output\n",
    ")"
   ]
  },
  {
   "cell_type": "code",
   "execution_count": 180,
   "id": "eb10f5ec",
   "metadata": {},
   "outputs": [
    {
     "data": {
      "text/plain": [
       "'The text discusses the extension and completion of vaccination campaigns against poliomyelitis and measles in various regions of Brazil. It highlights that many states, including Acre and Amapá, did not meet vaccination targets, leading to the need for extensions. The campaigns aimed to vaccinate children under five years old, with various announcements reminding parents of deadlines and vaccination locations. Overall, the urgency for increased vaccination rates and compliance with health guidelines is emphasized, particularly in light of ongoing public health challenges.'"
      ]
     },
     "execution_count": 180,
     "metadata": {},
     "output_type": "execute_result"
    }
   ],
   "source": [
    "response.choices[0].message.content"
   ]
  },
  {
   "cell_type": "code",
   "execution_count": 181,
   "id": "82e7aa4c",
   "metadata": {},
   "outputs": [],
   "source": [
    "#summary = []\n",
    "#dataset = []"
   ]
  },
  {
   "cell_type": "code",
   "execution_count": 182,
   "id": "2a9d076b",
   "metadata": {},
   "outputs": [],
   "source": [
    "dataset.append(\"2014_12_neutral\")"
   ]
  },
  {
   "cell_type": "code",
   "execution_count": 183,
   "id": "8a057dbe",
   "metadata": {},
   "outputs": [],
   "source": [
    "summary.append(response.choices[0].message.content)"
   ]
  },
  {
   "cell_type": "code",
   "execution_count": 184,
   "id": "3bb6bfbd",
   "metadata": {
    "tags": []
   },
   "outputs": [
    {
     "name": "stdout",
     "output_type": "stream",
     "text": [
      "<class 'pandas.core.frame.DataFrame'>\n",
      "RangeIndex: 12 entries, 0 to 11\n",
      "Data columns (total 2 columns):\n",
      " #   Column   Non-Null Count  Dtype \n",
      "---  ------   --------------  ----- \n",
      " 0   dataset  12 non-null     object\n",
      " 1   summary  12 non-null     object\n",
      "dtypes: object(2)\n",
      "memory usage: 320.0+ bytes\n"
     ]
    }
   ],
   "source": [
    "df_2014_neu = pd.DataFrame(list(zip(dataset, summary)),\n",
    "                            columns = ['dataset', 'summary'])\n",
    "df_2014_neu.info()"
   ]
  },
  {
   "cell_type": "code",
   "execution_count": 185,
   "id": "893bd100",
   "metadata": {},
   "outputs": [
    {
     "data": {
      "text/html": [
       "<div>\n",
       "<style scoped>\n",
       "    .dataframe tbody tr th:only-of-type {\n",
       "        vertical-align: middle;\n",
       "    }\n",
       "\n",
       "    .dataframe tbody tr th {\n",
       "        vertical-align: top;\n",
       "    }\n",
       "\n",
       "    .dataframe thead th {\n",
       "        text-align: right;\n",
       "    }\n",
       "</style>\n",
       "<table border=\"1\" class=\"dataframe\">\n",
       "  <thead>\n",
       "    <tr style=\"text-align: right;\">\n",
       "      <th></th>\n",
       "      <th>dataset</th>\n",
       "      <th>summary</th>\n",
       "    </tr>\n",
       "  </thead>\n",
       "  <tbody>\n",
       "    <tr>\n",
       "      <th>0</th>\n",
       "      <td>2014_01_neutral</td>\n",
       "      <td>The text discusses various aspects of vaccinat...</td>\n",
       "    </tr>\n",
       "    <tr>\n",
       "      <th>1</th>\n",
       "      <td>2014_02_neutral</td>\n",
       "      <td>The text discusses various vaccination campaig...</td>\n",
       "    </tr>\n",
       "    <tr>\n",
       "      <th>2</th>\n",
       "      <td>2014_03_neutral</td>\n",
       "      <td>The upcoming vaccination campaign against HPV ...</td>\n",
       "    </tr>\n",
       "    <tr>\n",
       "      <th>3</th>\n",
       "      <td>2014_04_neutral</td>\n",
       "      <td>The provided sentences discuss various vaccina...</td>\n",
       "    </tr>\n",
       "    <tr>\n",
       "      <th>4</th>\n",
       "      <td>2014_05_neutral</td>\n",
       "      <td>The text discusses various aspects of vaccinat...</td>\n",
       "    </tr>\n",
       "    <tr>\n",
       "      <th>5</th>\n",
       "      <td>2014_06_neutral</td>\n",
       "      <td>The text discusses various aspects of vaccinat...</td>\n",
       "    </tr>\n",
       "    <tr>\n",
       "      <th>6</th>\n",
       "      <td>2014_07_neutral</td>\n",
       "      <td>The provided Portuguese sentences predominantl...</td>\n",
       "    </tr>\n",
       "    <tr>\n",
       "      <th>7</th>\n",
       "      <td>2014_08_neutral</td>\n",
       "      <td>The text discusses various vaccination campaig...</td>\n",
       "    </tr>\n",
       "    <tr>\n",
       "      <th>8</th>\n",
       "      <td>2014_09_neutral</td>\n",
       "      <td>The text discusses the vaccination campaign ag...</td>\n",
       "    </tr>\n",
       "    <tr>\n",
       "      <th>9</th>\n",
       "      <td>2014_10_neutral</td>\n",
       "      <td>The texts discuss various aspects of vaccinati...</td>\n",
       "    </tr>\n",
       "    <tr>\n",
       "      <th>10</th>\n",
       "      <td>2014_11_neutral</td>\n",
       "      <td>The text discusses various vaccination campaig...</td>\n",
       "    </tr>\n",
       "    <tr>\n",
       "      <th>11</th>\n",
       "      <td>2014_12_neutral</td>\n",
       "      <td>The text discusses the extension and completio...</td>\n",
       "    </tr>\n",
       "  </tbody>\n",
       "</table>\n",
       "</div>"
      ],
      "text/plain": [
       "            dataset                                            summary\n",
       "0   2014_01_neutral  The text discusses various aspects of vaccinat...\n",
       "1   2014_02_neutral  The text discusses various vaccination campaig...\n",
       "2   2014_03_neutral  The upcoming vaccination campaign against HPV ...\n",
       "3   2014_04_neutral  The provided sentences discuss various vaccina...\n",
       "4   2014_05_neutral  The text discusses various aspects of vaccinat...\n",
       "5   2014_06_neutral  The text discusses various aspects of vaccinat...\n",
       "6   2014_07_neutral  The provided Portuguese sentences predominantl...\n",
       "7   2014_08_neutral  The text discusses various vaccination campaig...\n",
       "8   2014_09_neutral  The text discusses the vaccination campaign ag...\n",
       "9   2014_10_neutral  The texts discuss various aspects of vaccinati...\n",
       "10  2014_11_neutral  The text discusses various vaccination campaig...\n",
       "11  2014_12_neutral  The text discusses the extension and completio..."
      ]
     },
     "execution_count": 185,
     "metadata": {},
     "output_type": "execute_result"
    }
   ],
   "source": [
    "df_2014_neu.tail(14)"
   ]
  },
  {
   "cell_type": "code",
   "execution_count": 186,
   "id": "20bf36e0",
   "metadata": {},
   "outputs": [
    {
     "data": {
      "text/plain": [
       "<OpenAIObject chat.completion id=chatcmpl-AUeSicXpbrwFa5tPPkKPTtVvmMTTW at 0x12645c5d8b0> JSON: {\n",
       "  \"choices\": [\n",
       "    {\n",
       "      \"finish_reason\": \"stop\",\n",
       "      \"index\": 0,\n",
       "      \"logprobs\": null,\n",
       "      \"message\": {\n",
       "        \"content\": \"The text discusses the extension and completion of vaccination campaigns against poliomyelitis and measles in various regions of Brazil. It highlights that many states, including Acre and Amap\\u00e1, did not meet vaccination targets, leading to the need for extensions. The campaigns aimed to vaccinate children under five years old, with various announcements reminding parents of deadlines and vaccination locations. Overall, the urgency for increased vaccination rates and compliance with health guidelines is emphasized, particularly in light of ongoing public health challenges.\",\n",
       "        \"refusal\": null,\n",
       "        \"role\": \"assistant\"\n",
       "      }\n",
       "    }\n",
       "  ],\n",
       "  \"created\": 1731868740,\n",
       "  \"id\": \"chatcmpl-AUeSicXpbrwFa5tPPkKPTtVvmMTTW\",\n",
       "  \"model\": \"gpt-4o-mini-2024-07-18\",\n",
       "  \"object\": \"chat.completion\",\n",
       "  \"system_fingerprint\": \"fp_0ba0d124f1\",\n",
       "  \"usage\": {\n",
       "    \"completion_tokens\": 98,\n",
       "    \"completion_tokens_details\": {\n",
       "      \"accepted_prediction_tokens\": 0,\n",
       "      \"audio_tokens\": 0,\n",
       "      \"reasoning_tokens\": 0,\n",
       "      \"rejected_prediction_tokens\": 0\n",
       "    },\n",
       "    \"prompt_tokens\": 67774,\n",
       "    \"prompt_tokens_details\": {\n",
       "      \"audio_tokens\": 0,\n",
       "      \"cached_tokens\": 0\n",
       "    },\n",
       "    \"total_tokens\": 67872\n",
       "  }\n",
       "}"
      ]
     },
     "execution_count": 186,
     "metadata": {},
     "output_type": "execute_result"
    }
   ],
   "source": [
    "response"
   ]
  },
  {
   "cell_type": "markdown",
   "id": "4b2eea35",
   "metadata": {},
   "source": [
    "## All 2014 neutral"
   ]
  },
  {
   "cell_type": "code",
   "execution_count": 187,
   "id": "0afccf5d",
   "metadata": {},
   "outputs": [],
   "source": [
    "#df_2014_neu['dataset'] = df_2014_neu['dataset'].str.replace('neuitive','neutral')"
   ]
  },
  {
   "cell_type": "code",
   "execution_count": 188,
   "id": "76b26dc9",
   "metadata": {},
   "outputs": [],
   "source": [
    "df_2014_neu.to_csv('../data/summary_2014_neutral_tweets.csv')"
   ]
  }
 ],
 "metadata": {
  "kernelspec": {
   "display_name": "Python 3 (ipykernel)",
   "language": "python",
   "name": "python3"
  },
  "language_info": {
   "codemirror_mode": {
    "name": "ipython",
    "version": 3
   },
   "file_extension": ".py",
   "mimetype": "text/x-python",
   "name": "python",
   "nbconvert_exporter": "python",
   "pygments_lexer": "ipython3",
   "version": "3.9.12"
  }
 },
 "nbformat": 4,
 "nbformat_minor": 5
}
