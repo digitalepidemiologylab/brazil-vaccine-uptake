{
 "cells": [
  {
   "cell_type": "markdown",
   "id": "e90b7c28",
   "metadata": {},
   "source": [
    "# Import libraries and data"
   ]
  },
  {
   "cell_type": "code",
   "execution_count": 1,
   "id": "433219e8-8f66-4be5-a3b8-e39fca644032",
   "metadata": {
    "tags": []
   },
   "outputs": [],
   "source": [
    "# Import libraries\n",
    "import os\n",
    "import openai\n",
    "import pandas as pd\n",
    "import numpy as np\n",
    "import openpyxl"
   ]
  },
  {
   "cell_type": "code",
   "execution_count": 2,
   "id": "2c68f056-74fe-4f29-9daf-6bdef5cc0701",
   "metadata": {},
   "outputs": [],
   "source": [
    "# Get OpenAI API secret key (change this file with your own OpenAI key)\n",
    "open_ai_key = open('../data/local/openai_key.txt', 'r').read()\n",
    "openai.api_key = open_ai_key\n",
    "#openai.Model.list()"
   ]
  },
  {
   "cell_type": "code",
   "execution_count": 3,
   "id": "aa3d0327",
   "metadata": {},
   "outputs": [],
   "source": [
    "# Prompt for GPT\n",
    "prompt_raw = \"I would like to summarise in maximum 300 characters and in English what the following sentences in Portuguese talk about. \\\n",
    "Do not use aspects mentioned only in one sentence as part of the summary: TWEETS\""
   ]
  },
  {
   "cell_type": "markdown",
   "id": "3c7787f4",
   "metadata": {},
   "source": [
    "# 2016 negative"
   ]
  },
  {
   "cell_type": "markdown",
   "id": "c0101e21",
   "metadata": {},
   "source": [
    "## January"
   ]
  },
  {
   "cell_type": "code",
   "execution_count": 4,
   "id": "0b3f06fc",
   "metadata": {
    "scrolled": true,
    "tags": []
   },
   "outputs": [
    {
     "name": "stdout",
     "output_type": "stream",
     "text": [
      "<class 'pandas.core.frame.DataFrame'>\n",
      "RangeIndex: 1231 entries, 0 to 1230\n",
      "Data columns (total 53 columns):\n",
      " #   Column                  Non-Null Count  Dtype  \n",
      "---  ------                  --------------  -----  \n",
      " 0   index                   1231 non-null   int64  \n",
      " 1   LocationCode            1231 non-null   object \n",
      " 2   LocationName            1231 non-null   object \n",
      " 3   StatesCode              1231 non-null   object \n",
      " 4   ...4                    1231 non-null   int64  \n",
      " 5   id                      1231 non-null   float64\n",
      " 6   text                    1231 non-null   object \n",
      " 7   label                   1231 non-null   object \n",
      " 8   in_reply_to_status_id   141 non-null    float64\n",
      " 9   in_reply_to_user_id     160 non-null    float64\n",
      " 10  quoted_user_id          36 non-null     float64\n",
      " 11  quoted_status_id        36 non-null     float64\n",
      " 12  retweeted_user_id       239 non-null    float64\n",
      " 13  retweeted_status_id     239 non-null    float64\n",
      " 14  created_at              1231 non-null   object \n",
      " 15  entities.user_mentions  438 non-null    object \n",
      " 16  user.id                 1231 non-null   int64  \n",
      " 17  user.screen_name        1231 non-null   object \n",
      " 18  user.name               1231 non-null   object \n",
      " 19  user.description        1084 non-null   object \n",
      " 20  user.timezone           0 non-null      float64\n",
      " 21  user.location           1194 non-null   object \n",
      " 22  user.num_followers      1231 non-null   int64  \n",
      " 23  user.num_following      1231 non-null   int64  \n",
      " 24  user.created_at         1231 non-null   object \n",
      " 25  user.statuses_count     1231 non-null   int64  \n",
      " 26  user.is_verified        1231 non-null   bool   \n",
      " 27  lang                    1231 non-null   object \n",
      " 28  token_count             1231 non-null   int64  \n",
      " 29  is_retweet              1231 non-null   bool   \n",
      " 30  has_quote               1231 non-null   bool   \n",
      " 31  is_reply                1231 non-null   bool   \n",
      " 32  contains_keywords       1231 non-null   bool   \n",
      " 33  longitude               1231 non-null   float64\n",
      " 34  latitude                1231 non-null   float64\n",
      " 35  country_code            1231 non-null   object \n",
      " 36  geoname_id              1054 non-null   float64\n",
      " 37  location_type           1231 non-null   object \n",
      " 38  geo_type                1231 non-null   int64  \n",
      " 39  region                  1231 non-null   object \n",
      " 40  subregion               1231 non-null   object \n",
      " 41  num_quotes              1231 non-null   int64  \n",
      " 42  num_replies             1231 non-null   int64  \n",
      " 43  num_retweets            1231 non-null   int64  \n",
      " 44  sent_gpt                1231 non-null   object \n",
      " 45  gpt_sent_presence       1231 non-null   int64  \n",
      " 46  cleaned_text_lem        1231 non-null   object \n",
      " 47  cleaned_text            1231 non-null   object \n",
      " 48  month                   1231 non-null   int64  \n",
      " 49  year                    1231 non-null   int64  \n",
      " 50  week                    1231 non-null   int64  \n",
      " 51  year_month              1231 non-null   object \n",
      " 52  year_week               1231 non-null   object \n",
      "dtypes: bool(5), float64(11), int64(15), object(22)\n",
      "memory usage: 467.8+ KB\n"
     ]
    }
   ],
   "source": [
    "# Get monthly data\n",
    "df_2016_01_neg = pd.read_csv('../data/local/df_neg_2016-01.csv').reset_index()\n",
    "df_2016_01_neg.info()"
   ]
  },
  {
   "cell_type": "markdown",
   "id": "98d4ddaf",
   "metadata": {},
   "source": [
    "### Representative sample based on week and location"
   ]
  },
  {
   "cell_type": "code",
   "execution_count": 5,
   "id": "85b2559c",
   "metadata": {},
   "outputs": [
    {
     "data": {
      "text/html": [
       "<div>\n",
       "<style scoped>\n",
       "    .dataframe tbody tr th:only-of-type {\n",
       "        vertical-align: middle;\n",
       "    }\n",
       "\n",
       "    .dataframe tbody tr th {\n",
       "        vertical-align: top;\n",
       "    }\n",
       "\n",
       "    .dataframe thead th {\n",
       "        text-align: right;\n",
       "    }\n",
       "</style>\n",
       "<table border=\"1\" class=\"dataframe\">\n",
       "  <thead>\n",
       "    <tr style=\"text-align: right;\">\n",
       "      <th></th>\n",
       "      <th>year_week</th>\n",
       "      <th>LocationName</th>\n",
       "      <th>group_size</th>\n",
       "      <th>proportion</th>\n",
       "    </tr>\n",
       "  </thead>\n",
       "  <tbody>\n",
       "    <tr>\n",
       "      <th>0</th>\n",
       "      <td>2016-w01</td>\n",
       "      <td>Acre</td>\n",
       "      <td>4</td>\n",
       "      <td>0.003249</td>\n",
       "    </tr>\n",
       "    <tr>\n",
       "      <th>1</th>\n",
       "      <td>2016-w01</td>\n",
       "      <td>Alagoas</td>\n",
       "      <td>3</td>\n",
       "      <td>0.002437</td>\n",
       "    </tr>\n",
       "    <tr>\n",
       "      <th>2</th>\n",
       "      <td>2016-w01</td>\n",
       "      <td>Amapa</td>\n",
       "      <td>1</td>\n",
       "      <td>0.000812</td>\n",
       "    </tr>\n",
       "    <tr>\n",
       "      <th>3</th>\n",
       "      <td>2016-w01</td>\n",
       "      <td>Amazonas</td>\n",
       "      <td>4</td>\n",
       "      <td>0.003249</td>\n",
       "    </tr>\n",
       "    <tr>\n",
       "      <th>4</th>\n",
       "      <td>2016-w01</td>\n",
       "      <td>Bahia</td>\n",
       "      <td>9</td>\n",
       "      <td>0.007311</td>\n",
       "    </tr>\n",
       "    <tr>\n",
       "      <th>...</th>\n",
       "      <td>...</td>\n",
       "      <td>...</td>\n",
       "      <td>...</td>\n",
       "      <td>...</td>\n",
       "    </tr>\n",
       "    <tr>\n",
       "      <th>96</th>\n",
       "      <td>2016-w05</td>\n",
       "      <td>Rio De Janeiro</td>\n",
       "      <td>1</td>\n",
       "      <td>0.000812</td>\n",
       "    </tr>\n",
       "    <tr>\n",
       "      <th>97</th>\n",
       "      <td>2016-w05</td>\n",
       "      <td>Rio Grande Do Sul</td>\n",
       "      <td>4</td>\n",
       "      <td>0.003249</td>\n",
       "    </tr>\n",
       "    <tr>\n",
       "      <th>98</th>\n",
       "      <td>2016-w05</td>\n",
       "      <td>Roraima</td>\n",
       "      <td>1</td>\n",
       "      <td>0.000812</td>\n",
       "    </tr>\n",
       "    <tr>\n",
       "      <th>99</th>\n",
       "      <td>2016-w05</td>\n",
       "      <td>Santa Catarina</td>\n",
       "      <td>1</td>\n",
       "      <td>0.000812</td>\n",
       "    </tr>\n",
       "    <tr>\n",
       "      <th>100</th>\n",
       "      <td>2016-w05</td>\n",
       "      <td>Sao Paulo</td>\n",
       "      <td>12</td>\n",
       "      <td>0.009748</td>\n",
       "    </tr>\n",
       "  </tbody>\n",
       "</table>\n",
       "<p>101 rows × 4 columns</p>\n",
       "</div>"
      ],
      "text/plain": [
       "    year_week       LocationName  group_size  proportion\n",
       "0    2016-w01               Acre           4    0.003249\n",
       "1    2016-w01            Alagoas           3    0.002437\n",
       "2    2016-w01              Amapa           1    0.000812\n",
       "3    2016-w01           Amazonas           4    0.003249\n",
       "4    2016-w01              Bahia           9    0.007311\n",
       "..        ...                ...         ...         ...\n",
       "96   2016-w05     Rio De Janeiro           1    0.000812\n",
       "97   2016-w05  Rio Grande Do Sul           4    0.003249\n",
       "98   2016-w05            Roraima           1    0.000812\n",
       "99   2016-w05     Santa Catarina           1    0.000812\n",
       "100  2016-w05          Sao Paulo          12    0.009748\n",
       "\n",
       "[101 rows x 4 columns]"
      ]
     },
     "execution_count": 5,
     "metadata": {},
     "output_type": "execute_result"
    }
   ],
   "source": [
    "# Step 1: Calculate the size of each group (year_week, LocationName)\n",
    "group_sizes = df_2016_01_neg.groupby(['year_week', 'LocationName']).size().reset_index(name='group_size')\n",
    "\n",
    "# Step 2: Calculate the proportion of each group in the dataset\n",
    "total_rows = len(df_2016_01_neg)\n",
    "group_sizes['proportion'] = group_sizes['group_size'] / total_rows\n",
    "group_sizes"
   ]
  },
  {
   "cell_type": "code",
   "execution_count": 6,
   "id": "3fac3240",
   "metadata": {},
   "outputs": [
    {
     "data": {
      "text/html": [
       "<div>\n",
       "<style scoped>\n",
       "    .dataframe tbody tr th:only-of-type {\n",
       "        vertical-align: middle;\n",
       "    }\n",
       "\n",
       "    .dataframe tbody tr th {\n",
       "        vertical-align: top;\n",
       "    }\n",
       "\n",
       "    .dataframe thead th {\n",
       "        text-align: right;\n",
       "    }\n",
       "</style>\n",
       "<table border=\"1\" class=\"dataframe\">\n",
       "  <thead>\n",
       "    <tr style=\"text-align: right;\">\n",
       "      <th></th>\n",
       "      <th>year_week</th>\n",
       "      <th>LocationName</th>\n",
       "      <th>group_size</th>\n",
       "      <th>proportion</th>\n",
       "      <th>sample_size</th>\n",
       "    </tr>\n",
       "  </thead>\n",
       "  <tbody>\n",
       "    <tr>\n",
       "      <th>0</th>\n",
       "      <td>2016-w01</td>\n",
       "      <td>Acre</td>\n",
       "      <td>4</td>\n",
       "      <td>0.003249</td>\n",
       "      <td>7</td>\n",
       "    </tr>\n",
       "    <tr>\n",
       "      <th>1</th>\n",
       "      <td>2016-w01</td>\n",
       "      <td>Alagoas</td>\n",
       "      <td>3</td>\n",
       "      <td>0.002437</td>\n",
       "      <td>5</td>\n",
       "    </tr>\n",
       "    <tr>\n",
       "      <th>2</th>\n",
       "      <td>2016-w01</td>\n",
       "      <td>Amapa</td>\n",
       "      <td>1</td>\n",
       "      <td>0.000812</td>\n",
       "      <td>1</td>\n",
       "    </tr>\n",
       "    <tr>\n",
       "      <th>3</th>\n",
       "      <td>2016-w01</td>\n",
       "      <td>Amazonas</td>\n",
       "      <td>4</td>\n",
       "      <td>0.003249</td>\n",
       "      <td>7</td>\n",
       "    </tr>\n",
       "    <tr>\n",
       "      <th>4</th>\n",
       "      <td>2016-w01</td>\n",
       "      <td>Bahia</td>\n",
       "      <td>9</td>\n",
       "      <td>0.007311</td>\n",
       "      <td>17</td>\n",
       "    </tr>\n",
       "    <tr>\n",
       "      <th>...</th>\n",
       "      <td>...</td>\n",
       "      <td>...</td>\n",
       "      <td>...</td>\n",
       "      <td>...</td>\n",
       "      <td>...</td>\n",
       "    </tr>\n",
       "    <tr>\n",
       "      <th>96</th>\n",
       "      <td>2016-w05</td>\n",
       "      <td>Rio De Janeiro</td>\n",
       "      <td>1</td>\n",
       "      <td>0.000812</td>\n",
       "      <td>1</td>\n",
       "    </tr>\n",
       "    <tr>\n",
       "      <th>97</th>\n",
       "      <td>2016-w05</td>\n",
       "      <td>Rio Grande Do Sul</td>\n",
       "      <td>4</td>\n",
       "      <td>0.003249</td>\n",
       "      <td>7</td>\n",
       "    </tr>\n",
       "    <tr>\n",
       "      <th>98</th>\n",
       "      <td>2016-w05</td>\n",
       "      <td>Roraima</td>\n",
       "      <td>1</td>\n",
       "      <td>0.000812</td>\n",
       "      <td>1</td>\n",
       "    </tr>\n",
       "    <tr>\n",
       "      <th>99</th>\n",
       "      <td>2016-w05</td>\n",
       "      <td>Santa Catarina</td>\n",
       "      <td>1</td>\n",
       "      <td>0.000812</td>\n",
       "      <td>1</td>\n",
       "    </tr>\n",
       "    <tr>\n",
       "      <th>100</th>\n",
       "      <td>2016-w05</td>\n",
       "      <td>Sao Paulo</td>\n",
       "      <td>12</td>\n",
       "      <td>0.009748</td>\n",
       "      <td>23</td>\n",
       "    </tr>\n",
       "  </tbody>\n",
       "</table>\n",
       "<p>101 rows × 5 columns</p>\n",
       "</div>"
      ],
      "text/plain": [
       "    year_week       LocationName  group_size  proportion  sample_size\n",
       "0    2016-w01               Acre           4    0.003249            7\n",
       "1    2016-w01            Alagoas           3    0.002437            5\n",
       "2    2016-w01              Amapa           1    0.000812            1\n",
       "3    2016-w01           Amazonas           4    0.003249            7\n",
       "4    2016-w01              Bahia           9    0.007311           17\n",
       "..        ...                ...         ...         ...          ...\n",
       "96   2016-w05     Rio De Janeiro           1    0.000812            1\n",
       "97   2016-w05  Rio Grande Do Sul           4    0.003249            7\n",
       "98   2016-w05            Roraima           1    0.000812            1\n",
       "99   2016-w05     Santa Catarina           1    0.000812            1\n",
       "100  2016-w05          Sao Paulo          12    0.009748           23\n",
       "\n",
       "[101 rows x 5 columns]"
      ]
     },
     "execution_count": 6,
     "metadata": {},
     "output_type": "execute_result"
    }
   ],
   "source": [
    "# Step 3: Define the target sample size\n",
    "target_sample_size = 2450\n",
    "\n",
    "# Step 4: Calculate the sample size for each group (based on its proportion)\n",
    "group_sizes['sample_size'] = np.floor(group_sizes['proportion'] * target_sample_size).astype(int)\n",
    "group_sizes"
   ]
  },
  {
   "cell_type": "code",
   "execution_count": 7,
   "id": "c7469167",
   "metadata": {},
   "outputs": [],
   "source": [
    "# Step 5: Merge this sample size information back to the original DataFrame\n",
    "df_2016_01_neg_sample_size = pd.merge(df_2016_01_neg, group_sizes[['year_week', 'LocationName', 'sample_size']], \n",
    "                               on=['year_week', 'LocationName'], how='left')"
   ]
  },
  {
   "cell_type": "code",
   "execution_count": 8,
   "id": "9c4475e7",
   "metadata": {},
   "outputs": [
    {
     "name": "stdout",
     "output_type": "stream",
     "text": [
      "Sampled 1231 rows.\n"
     ]
    }
   ],
   "source": [
    "# Step 6: Perform the stratified sampling\n",
    "#df_2016_01_neg_sample = df_2016_01_neg_sample_size.groupby(['year_week', 'LocationName']).apply(\n",
    "#    lambda group: group.sample(n=group['sample_size'].iloc[0], random_state=42)\n",
    "#).reset_index(drop=True)\n",
    "df_2016_01_neg_sample = df_2016_01_neg\n",
    "# Step 7: Check the result\n",
    "print(f\"Sampled {len(df_2016_01_neg_sample)} rows.\")\n"
   ]
  },
  {
   "cell_type": "code",
   "execution_count": 9,
   "id": "c4ec1d65",
   "metadata": {},
   "outputs": [],
   "source": [
    "text_gpt_2016_01_neg = '\\n'.join(df_2016_01_neg_sample['text'].astype(str))"
   ]
  },
  {
   "cell_type": "markdown",
   "id": "5dc8c377",
   "metadata": {},
   "source": [
    "### Prompts and loops"
   ]
  },
  {
   "cell_type": "code",
   "execution_count": 10,
   "id": "a269fd14",
   "metadata": {},
   "outputs": [],
   "source": [
    "prompt_1 = prompt_raw.replace('TWEETS', text_gpt_2016_01_neg)"
   ]
  },
  {
   "cell_type": "code",
   "execution_count": 11,
   "id": "132f0e60",
   "metadata": {
    "scrolled": false
   },
   "outputs": [],
   "source": [
    "response = openai.ChatCompletion.create(\n",
    "    model=\"gpt-4o-mini\",  \n",
    "    messages = [\n",
    "        {\"role\": \"user\", \"content\": prompt_1}\n",
    "    ],\n",
    "    max_tokens=400,  # Maximum number of tokens in the response\n",
    "    temperature=0.7  # Controls the randomness of the output\n",
    ")"
   ]
  },
  {
   "cell_type": "code",
   "execution_count": 12,
   "id": "8b87399c",
   "metadata": {},
   "outputs": [
    {
     "data": {
      "text/plain": [
       "'The sentences discuss various concerns and experiences related to vaccines, highlighting issues such as pain from vaccination, fear of needles, and reactions to vaccines. Many express frustration over the lack of vaccines in public health facilities, the high costs of certain vaccines, and doubts about their efficacy. Additionally, there are mentions of public health policies, the impact of political decisions on vaccination availability, and concerns about potential side effects, including a controversial association of certain vaccines with health issues like microcephaly.'"
      ]
     },
     "execution_count": 12,
     "metadata": {},
     "output_type": "execute_result"
    }
   ],
   "source": [
    "response.choices[0].message.content"
   ]
  },
  {
   "cell_type": "code",
   "execution_count": 13,
   "id": "177a2bd7",
   "metadata": {},
   "outputs": [],
   "source": [
    "summary = []\n",
    "dataset = []"
   ]
  },
  {
   "cell_type": "code",
   "execution_count": 14,
   "id": "005c717a",
   "metadata": {},
   "outputs": [],
   "source": [
    "dataset.append(\"2016_01_negitive\")"
   ]
  },
  {
   "cell_type": "code",
   "execution_count": 15,
   "id": "b3580ec6",
   "metadata": {},
   "outputs": [],
   "source": [
    "summary.append(response.choices[0].message.content)"
   ]
  },
  {
   "cell_type": "code",
   "execution_count": 16,
   "id": "24c5caaa",
   "metadata": {
    "tags": []
   },
   "outputs": [
    {
     "name": "stdout",
     "output_type": "stream",
     "text": [
      "<class 'pandas.core.frame.DataFrame'>\n",
      "RangeIndex: 1 entries, 0 to 0\n",
      "Data columns (total 2 columns):\n",
      " #   Column   Non-Null Count  Dtype \n",
      "---  ------   --------------  ----- \n",
      " 0   dataset  1 non-null      object\n",
      " 1   summary  1 non-null      object\n",
      "dtypes: object(2)\n",
      "memory usage: 144.0+ bytes\n"
     ]
    }
   ],
   "source": [
    "df_2016_neg = pd.DataFrame(list(zip(dataset, summary)),\n",
    "                            columns = ['dataset', 'summary'])\n",
    "df_2016_neg.info()"
   ]
  },
  {
   "cell_type": "code",
   "execution_count": 17,
   "id": "5bcf3f7f",
   "metadata": {},
   "outputs": [
    {
     "data": {
      "text/html": [
       "<div>\n",
       "<style scoped>\n",
       "    .dataframe tbody tr th:only-of-type {\n",
       "        vertical-align: middle;\n",
       "    }\n",
       "\n",
       "    .dataframe tbody tr th {\n",
       "        vertical-align: top;\n",
       "    }\n",
       "\n",
       "    .dataframe thead th {\n",
       "        text-align: right;\n",
       "    }\n",
       "</style>\n",
       "<table border=\"1\" class=\"dataframe\">\n",
       "  <thead>\n",
       "    <tr style=\"text-align: right;\">\n",
       "      <th></th>\n",
       "      <th>dataset</th>\n",
       "      <th>summary</th>\n",
       "    </tr>\n",
       "  </thead>\n",
       "  <tbody>\n",
       "    <tr>\n",
       "      <th>0</th>\n",
       "      <td>2016_01_negitive</td>\n",
       "      <td>The sentences discuss various concerns and exp...</td>\n",
       "    </tr>\n",
       "  </tbody>\n",
       "</table>\n",
       "</div>"
      ],
      "text/plain": [
       "            dataset                                            summary\n",
       "0  2016_01_negitive  The sentences discuss various concerns and exp..."
      ]
     },
     "execution_count": 17,
     "metadata": {},
     "output_type": "execute_result"
    }
   ],
   "source": [
    "df_2016_neg.tail(14)"
   ]
  },
  {
   "cell_type": "code",
   "execution_count": 18,
   "id": "df702099",
   "metadata": {},
   "outputs": [
    {
     "data": {
      "text/plain": [
       "<OpenAIObject chat.completion id=chatcmpl-AUcx0fe0s6FKbhroBHXFuhpbsmaPD at 0x174d7c76d10> JSON: {\n",
       "  \"choices\": [\n",
       "    {\n",
       "      \"finish_reason\": \"stop\",\n",
       "      \"index\": 0,\n",
       "      \"logprobs\": null,\n",
       "      \"message\": {\n",
       "        \"content\": \"The sentences discuss various concerns and experiences related to vaccines, highlighting issues such as pain from vaccination, fear of needles, and reactions to vaccines. Many express frustration over the lack of vaccines in public health facilities, the high costs of certain vaccines, and doubts about their efficacy. Additionally, there are mentions of public health policies, the impact of political decisions on vaccination availability, and concerns about potential side effects, including a controversial association of certain vaccines with health issues like microcephaly.\",\n",
       "        \"refusal\": null,\n",
       "        \"role\": \"assistant\"\n",
       "      }\n",
       "    }\n",
       "  ],\n",
       "  \"created\": 1731862930,\n",
       "  \"id\": \"chatcmpl-AUcx0fe0s6FKbhroBHXFuhpbsmaPD\",\n",
       "  \"model\": \"gpt-4o-mini-2024-07-18\",\n",
       "  \"object\": \"chat.completion\",\n",
       "  \"system_fingerprint\": \"fp_0ba0d124f1\",\n",
       "  \"usage\": {\n",
       "    \"completion_tokens\": 96,\n",
       "    \"completion_tokens_details\": {\n",
       "      \"accepted_prediction_tokens\": 0,\n",
       "      \"audio_tokens\": 0,\n",
       "      \"reasoning_tokens\": 0,\n",
       "      \"rejected_prediction_tokens\": 0\n",
       "    },\n",
       "    \"prompt_tokens\": 27659,\n",
       "    \"prompt_tokens_details\": {\n",
       "      \"audio_tokens\": 0,\n",
       "      \"cached_tokens\": 0\n",
       "    },\n",
       "    \"total_tokens\": 27755\n",
       "  }\n",
       "}"
      ]
     },
     "execution_count": 18,
     "metadata": {},
     "output_type": "execute_result"
    }
   ],
   "source": [
    "response"
   ]
  },
  {
   "cell_type": "markdown",
   "id": "f2468aac",
   "metadata": {},
   "source": [
    "## February"
   ]
  },
  {
   "cell_type": "code",
   "execution_count": 19,
   "id": "5ea58abd",
   "metadata": {
    "scrolled": true,
    "tags": []
   },
   "outputs": [
    {
     "name": "stdout",
     "output_type": "stream",
     "text": [
      "<class 'pandas.core.frame.DataFrame'>\n",
      "RangeIndex: 1390 entries, 0 to 1389\n",
      "Data columns (total 53 columns):\n",
      " #   Column                  Non-Null Count  Dtype  \n",
      "---  ------                  --------------  -----  \n",
      " 0   index                   1390 non-null   int64  \n",
      " 1   LocationCode            1390 non-null   object \n",
      " 2   LocationName            1390 non-null   object \n",
      " 3   StatesCode              1390 non-null   object \n",
      " 4   ...4                    1390 non-null   int64  \n",
      " 5   id                      1390 non-null   float64\n",
      " 6   text                    1390 non-null   object \n",
      " 7   label                   1390 non-null   object \n",
      " 8   in_reply_to_status_id   172 non-null    float64\n",
      " 9   in_reply_to_user_id     186 non-null    float64\n",
      " 10  quoted_user_id          53 non-null     float64\n",
      " 11  quoted_status_id        53 non-null     float64\n",
      " 12  retweeted_user_id       410 non-null    float64\n",
      " 13  retweeted_status_id     410 non-null    float64\n",
      " 14  created_at              1390 non-null   object \n",
      " 15  entities.user_mentions  605 non-null    object \n",
      " 16  user.id                 1390 non-null   int64  \n",
      " 17  user.screen_name        1390 non-null   object \n",
      " 18  user.name               1390 non-null   object \n",
      " 19  user.description        1239 non-null   object \n",
      " 20  user.timezone           0 non-null      float64\n",
      " 21  user.location           1364 non-null   object \n",
      " 22  user.num_followers      1390 non-null   int64  \n",
      " 23  user.num_following      1390 non-null   int64  \n",
      " 24  user.created_at         1390 non-null   object \n",
      " 25  user.statuses_count     1390 non-null   int64  \n",
      " 26  user.is_verified        1390 non-null   bool   \n",
      " 27  lang                    1390 non-null   object \n",
      " 28  token_count             1390 non-null   int64  \n",
      " 29  is_retweet              1390 non-null   bool   \n",
      " 30  has_quote               1390 non-null   bool   \n",
      " 31  is_reply                1390 non-null   bool   \n",
      " 32  contains_keywords       1390 non-null   bool   \n",
      " 33  longitude               1390 non-null   float64\n",
      " 34  latitude                1390 non-null   float64\n",
      " 35  country_code            1390 non-null   object \n",
      " 36  geoname_id              1226 non-null   float64\n",
      " 37  location_type           1390 non-null   object \n",
      " 38  geo_type                1390 non-null   int64  \n",
      " 39  region                  1390 non-null   object \n",
      " 40  subregion               1390 non-null   object \n",
      " 41  num_quotes              1390 non-null   int64  \n",
      " 42  num_replies             1390 non-null   int64  \n",
      " 43  num_retweets            1390 non-null   int64  \n",
      " 44  sent_gpt                1390 non-null   object \n",
      " 45  gpt_sent_presence       1390 non-null   int64  \n",
      " 46  cleaned_text_lem        1390 non-null   object \n",
      " 47  cleaned_text            1390 non-null   object \n",
      " 48  month                   1390 non-null   int64  \n",
      " 49  year                    1390 non-null   int64  \n",
      " 50  week                    1390 non-null   int64  \n",
      " 51  year_month              1390 non-null   object \n",
      " 52  year_week               1390 non-null   object \n",
      "dtypes: bool(5), float64(11), int64(15), object(22)\n",
      "memory usage: 528.2+ KB\n"
     ]
    }
   ],
   "source": [
    "# Get monthly data\n",
    "df_2016_02_neg = pd.read_csv('../data/local/df_neg_2016-02.csv').reset_index()\n",
    "df_2016_02_neg.info()"
   ]
  },
  {
   "cell_type": "markdown",
   "id": "1131f48c",
   "metadata": {},
   "source": [
    "### Representative sample based on week and location"
   ]
  },
  {
   "cell_type": "code",
   "execution_count": 20,
   "id": "2ef3d681",
   "metadata": {},
   "outputs": [
    {
     "data": {
      "text/html": [
       "<div>\n",
       "<style scoped>\n",
       "    .dataframe tbody tr th:only-of-type {\n",
       "        vertical-align: middle;\n",
       "    }\n",
       "\n",
       "    .dataframe tbody tr th {\n",
       "        vertical-align: top;\n",
       "    }\n",
       "\n",
       "    .dataframe thead th {\n",
       "        text-align: right;\n",
       "    }\n",
       "</style>\n",
       "<table border=\"1\" class=\"dataframe\">\n",
       "  <thead>\n",
       "    <tr style=\"text-align: right;\">\n",
       "      <th></th>\n",
       "      <th>year_week</th>\n",
       "      <th>LocationName</th>\n",
       "      <th>group_size</th>\n",
       "      <th>proportion</th>\n",
       "    </tr>\n",
       "  </thead>\n",
       "  <tbody>\n",
       "    <tr>\n",
       "      <th>0</th>\n",
       "      <td>2016-w05</td>\n",
       "      <td>Alagoas</td>\n",
       "      <td>2</td>\n",
       "      <td>0.001439</td>\n",
       "    </tr>\n",
       "    <tr>\n",
       "      <th>1</th>\n",
       "      <td>2016-w05</td>\n",
       "      <td>Amazonas</td>\n",
       "      <td>3</td>\n",
       "      <td>0.002158</td>\n",
       "    </tr>\n",
       "    <tr>\n",
       "      <th>2</th>\n",
       "      <td>2016-w05</td>\n",
       "      <td>Bahia</td>\n",
       "      <td>25</td>\n",
       "      <td>0.017986</td>\n",
       "    </tr>\n",
       "    <tr>\n",
       "      <th>3</th>\n",
       "      <td>2016-w05</td>\n",
       "      <td>Ceara</td>\n",
       "      <td>6</td>\n",
       "      <td>0.004317</td>\n",
       "    </tr>\n",
       "    <tr>\n",
       "      <th>4</th>\n",
       "      <td>2016-w05</td>\n",
       "      <td>Distrito Federal</td>\n",
       "      <td>8</td>\n",
       "      <td>0.005755</td>\n",
       "    </tr>\n",
       "    <tr>\n",
       "      <th>...</th>\n",
       "      <td>...</td>\n",
       "      <td>...</td>\n",
       "      <td>...</td>\n",
       "      <td>...</td>\n",
       "    </tr>\n",
       "    <tr>\n",
       "      <th>99</th>\n",
       "      <td>2016-w09</td>\n",
       "      <td>Roraima</td>\n",
       "      <td>2</td>\n",
       "      <td>0.001439</td>\n",
       "    </tr>\n",
       "    <tr>\n",
       "      <th>100</th>\n",
       "      <td>2016-w09</td>\n",
       "      <td>Santa Catarina</td>\n",
       "      <td>6</td>\n",
       "      <td>0.004317</td>\n",
       "    </tr>\n",
       "    <tr>\n",
       "      <th>101</th>\n",
       "      <td>2016-w09</td>\n",
       "      <td>Sao Paulo</td>\n",
       "      <td>18</td>\n",
       "      <td>0.012950</td>\n",
       "    </tr>\n",
       "    <tr>\n",
       "      <th>102</th>\n",
       "      <td>2016-w09</td>\n",
       "      <td>Sergipe</td>\n",
       "      <td>1</td>\n",
       "      <td>0.000719</td>\n",
       "    </tr>\n",
       "    <tr>\n",
       "      <th>103</th>\n",
       "      <td>2016-w09</td>\n",
       "      <td>Tocantins</td>\n",
       "      <td>1</td>\n",
       "      <td>0.000719</td>\n",
       "    </tr>\n",
       "  </tbody>\n",
       "</table>\n",
       "<p>104 rows × 4 columns</p>\n",
       "</div>"
      ],
      "text/plain": [
       "    year_week      LocationName  group_size  proportion\n",
       "0    2016-w05           Alagoas           2    0.001439\n",
       "1    2016-w05          Amazonas           3    0.002158\n",
       "2    2016-w05             Bahia          25    0.017986\n",
       "3    2016-w05             Ceara           6    0.004317\n",
       "4    2016-w05  Distrito Federal           8    0.005755\n",
       "..        ...               ...         ...         ...\n",
       "99   2016-w09           Roraima           2    0.001439\n",
       "100  2016-w09    Santa Catarina           6    0.004317\n",
       "101  2016-w09         Sao Paulo          18    0.012950\n",
       "102  2016-w09           Sergipe           1    0.000719\n",
       "103  2016-w09         Tocantins           1    0.000719\n",
       "\n",
       "[104 rows x 4 columns]"
      ]
     },
     "execution_count": 20,
     "metadata": {},
     "output_type": "execute_result"
    }
   ],
   "source": [
    "# Step 1: Calculate the size of each group (year_week, LocationName)\n",
    "group_sizes = df_2016_02_neg.groupby(['year_week', 'LocationName']).size().reset_index(name='group_size')\n",
    "\n",
    "# Step 2: Calculate the proportion of each group in the dataset\n",
    "total_rows = len(df_2016_02_neg)\n",
    "group_sizes['proportion'] = group_sizes['group_size'] / total_rows\n",
    "group_sizes"
   ]
  },
  {
   "cell_type": "code",
   "execution_count": 21,
   "id": "adee9c98",
   "metadata": {},
   "outputs": [
    {
     "data": {
      "text/html": [
       "<div>\n",
       "<style scoped>\n",
       "    .dataframe tbody tr th:only-of-type {\n",
       "        vertical-align: middle;\n",
       "    }\n",
       "\n",
       "    .dataframe tbody tr th {\n",
       "        vertical-align: top;\n",
       "    }\n",
       "\n",
       "    .dataframe thead th {\n",
       "        text-align: right;\n",
       "    }\n",
       "</style>\n",
       "<table border=\"1\" class=\"dataframe\">\n",
       "  <thead>\n",
       "    <tr style=\"text-align: right;\">\n",
       "      <th></th>\n",
       "      <th>year_week</th>\n",
       "      <th>LocationName</th>\n",
       "      <th>group_size</th>\n",
       "      <th>proportion</th>\n",
       "      <th>sample_size</th>\n",
       "    </tr>\n",
       "  </thead>\n",
       "  <tbody>\n",
       "    <tr>\n",
       "      <th>0</th>\n",
       "      <td>2016-w05</td>\n",
       "      <td>Alagoas</td>\n",
       "      <td>2</td>\n",
       "      <td>0.001439</td>\n",
       "      <td>3</td>\n",
       "    </tr>\n",
       "    <tr>\n",
       "      <th>1</th>\n",
       "      <td>2016-w05</td>\n",
       "      <td>Amazonas</td>\n",
       "      <td>3</td>\n",
       "      <td>0.002158</td>\n",
       "      <td>5</td>\n",
       "    </tr>\n",
       "    <tr>\n",
       "      <th>2</th>\n",
       "      <td>2016-w05</td>\n",
       "      <td>Bahia</td>\n",
       "      <td>25</td>\n",
       "      <td>0.017986</td>\n",
       "      <td>44</td>\n",
       "    </tr>\n",
       "    <tr>\n",
       "      <th>3</th>\n",
       "      <td>2016-w05</td>\n",
       "      <td>Ceara</td>\n",
       "      <td>6</td>\n",
       "      <td>0.004317</td>\n",
       "      <td>10</td>\n",
       "    </tr>\n",
       "    <tr>\n",
       "      <th>4</th>\n",
       "      <td>2016-w05</td>\n",
       "      <td>Distrito Federal</td>\n",
       "      <td>8</td>\n",
       "      <td>0.005755</td>\n",
       "      <td>14</td>\n",
       "    </tr>\n",
       "    <tr>\n",
       "      <th>...</th>\n",
       "      <td>...</td>\n",
       "      <td>...</td>\n",
       "      <td>...</td>\n",
       "      <td>...</td>\n",
       "      <td>...</td>\n",
       "    </tr>\n",
       "    <tr>\n",
       "      <th>99</th>\n",
       "      <td>2016-w09</td>\n",
       "      <td>Roraima</td>\n",
       "      <td>2</td>\n",
       "      <td>0.001439</td>\n",
       "      <td>3</td>\n",
       "    </tr>\n",
       "    <tr>\n",
       "      <th>100</th>\n",
       "      <td>2016-w09</td>\n",
       "      <td>Santa Catarina</td>\n",
       "      <td>6</td>\n",
       "      <td>0.004317</td>\n",
       "      <td>10</td>\n",
       "    </tr>\n",
       "    <tr>\n",
       "      <th>101</th>\n",
       "      <td>2016-w09</td>\n",
       "      <td>Sao Paulo</td>\n",
       "      <td>18</td>\n",
       "      <td>0.012950</td>\n",
       "      <td>31</td>\n",
       "    </tr>\n",
       "    <tr>\n",
       "      <th>102</th>\n",
       "      <td>2016-w09</td>\n",
       "      <td>Sergipe</td>\n",
       "      <td>1</td>\n",
       "      <td>0.000719</td>\n",
       "      <td>1</td>\n",
       "    </tr>\n",
       "    <tr>\n",
       "      <th>103</th>\n",
       "      <td>2016-w09</td>\n",
       "      <td>Tocantins</td>\n",
       "      <td>1</td>\n",
       "      <td>0.000719</td>\n",
       "      <td>1</td>\n",
       "    </tr>\n",
       "  </tbody>\n",
       "</table>\n",
       "<p>104 rows × 5 columns</p>\n",
       "</div>"
      ],
      "text/plain": [
       "    year_week      LocationName  group_size  proportion  sample_size\n",
       "0    2016-w05           Alagoas           2    0.001439            3\n",
       "1    2016-w05          Amazonas           3    0.002158            5\n",
       "2    2016-w05             Bahia          25    0.017986           44\n",
       "3    2016-w05             Ceara           6    0.004317           10\n",
       "4    2016-w05  Distrito Federal           8    0.005755           14\n",
       "..        ...               ...         ...         ...          ...\n",
       "99   2016-w09           Roraima           2    0.001439            3\n",
       "100  2016-w09    Santa Catarina           6    0.004317           10\n",
       "101  2016-w09         Sao Paulo          18    0.012950           31\n",
       "102  2016-w09           Sergipe           1    0.000719            1\n",
       "103  2016-w09         Tocantins           1    0.000719            1\n",
       "\n",
       "[104 rows x 5 columns]"
      ]
     },
     "execution_count": 21,
     "metadata": {},
     "output_type": "execute_result"
    }
   ],
   "source": [
    "# Step 3: Define the target sample size\n",
    "target_sample_size = 2450\n",
    "\n",
    "# Step 4: Calculate the sample size for each group (based on its proportion)\n",
    "group_sizes['sample_size'] = np.floor(group_sizes['proportion'] * target_sample_size).astype(int)\n",
    "group_sizes"
   ]
  },
  {
   "cell_type": "code",
   "execution_count": 22,
   "id": "a7b8b23f",
   "metadata": {},
   "outputs": [],
   "source": [
    "# Step 5: Merge this sample size information back to the original DataFrame\n",
    "df_2016_02_neg_sample_size = pd.merge(df_2016_02_neg, group_sizes[['year_week', 'LocationName', 'sample_size']], \n",
    "                               on=['year_week', 'LocationName'], how='left')"
   ]
  },
  {
   "cell_type": "code",
   "execution_count": 23,
   "id": "46c74cd1",
   "metadata": {},
   "outputs": [
    {
     "name": "stdout",
     "output_type": "stream",
     "text": [
      "Sampled 1390 rows.\n"
     ]
    }
   ],
   "source": [
    "# Step 6: Perform the stratified sampling\n",
    "#df_2016_02_neg_sample = df_2016_02_neg_sample_size.groupby(['year_week', 'LocationName']).apply(\n",
    " #   lambda group: group.sample(n=group['sample_size'].iloc[0], random_state=42)\n",
    "#).reset_index(drop=True)\n",
    "df_2016_02_neg_sample = df_2016_02_neg\n",
    "# Step 7: Check the result\n",
    "print(f\"Sampled {len(df_2016_02_neg_sample)} rows.\")\n"
   ]
  },
  {
   "cell_type": "code",
   "execution_count": 24,
   "id": "80e9765e",
   "metadata": {},
   "outputs": [],
   "source": [
    "text_gpt_2016_02_neg = '\\n'.join(df_2016_02_neg_sample['text'].astype(str))"
   ]
  },
  {
   "cell_type": "markdown",
   "id": "b22f256e",
   "metadata": {},
   "source": [
    "### Prompts and loops"
   ]
  },
  {
   "cell_type": "code",
   "execution_count": 25,
   "id": "95c22639",
   "metadata": {},
   "outputs": [],
   "source": [
    "prompt_2 = prompt_raw.replace('TWEETS', text_gpt_2016_02_neg)"
   ]
  },
  {
   "cell_type": "code",
   "execution_count": 26,
   "id": "b172834e",
   "metadata": {
    "scrolled": false
   },
   "outputs": [],
   "source": [
    "response = openai.ChatCompletion.create(\n",
    "    model=\"gpt-4o-mini\",  \n",
    "    messages = [\n",
    "        {\"role\": \"user\", \"content\": prompt_2}\n",
    "    ],\n",
    "    max_tokens=400,  # Maximum number of tokens in the response\n",
    "    temperature=0.7  # Controls the randomness of the output\n",
    ")"
   ]
  },
  {
   "cell_type": "code",
   "execution_count": 27,
   "id": "86d7f1a3",
   "metadata": {},
   "outputs": [
    {
     "data": {
      "text/plain": [
       "\"The text discusses various concerns surrounding vaccines in Brazil, particularly focusing on the HPV vaccine, microcephaly linked to vaccination, and the slow development of vaccines against diseases like Zika. There's public outcry about the lack of vaccines, allegations of vaccine-related health issues, and accusations against the government for mismanagement and lack of funding for vaccine research. The sentiment reflects a mix of skepticism, fear, and frustration regarding vaccination policies and their implications for public health.\""
      ]
     },
     "execution_count": 27,
     "metadata": {},
     "output_type": "execute_result"
    }
   ],
   "source": [
    "response.choices[0].message.content"
   ]
  },
  {
   "cell_type": "code",
   "execution_count": 28,
   "id": "44a76dbb",
   "metadata": {},
   "outputs": [],
   "source": [
    "#summary = []\n",
    "#dataset = []"
   ]
  },
  {
   "cell_type": "code",
   "execution_count": 29,
   "id": "9da8b8a2",
   "metadata": {},
   "outputs": [],
   "source": [
    "dataset.append(\"2016_02_negitive\")"
   ]
  },
  {
   "cell_type": "code",
   "execution_count": 30,
   "id": "4d33e327",
   "metadata": {},
   "outputs": [],
   "source": [
    "summary.append(response.choices[0].message.content)"
   ]
  },
  {
   "cell_type": "code",
   "execution_count": 31,
   "id": "725c0f71",
   "metadata": {
    "tags": []
   },
   "outputs": [
    {
     "name": "stdout",
     "output_type": "stream",
     "text": [
      "<class 'pandas.core.frame.DataFrame'>\n",
      "RangeIndex: 2 entries, 0 to 1\n",
      "Data columns (total 2 columns):\n",
      " #   Column   Non-Null Count  Dtype \n",
      "---  ------   --------------  ----- \n",
      " 0   dataset  2 non-null      object\n",
      " 1   summary  2 non-null      object\n",
      "dtypes: object(2)\n",
      "memory usage: 160.0+ bytes\n"
     ]
    }
   ],
   "source": [
    "df_2016_neg = pd.DataFrame(list(zip(dataset, summary)),\n",
    "                            columns = ['dataset', 'summary'])\n",
    "df_2016_neg.info()"
   ]
  },
  {
   "cell_type": "code",
   "execution_count": 32,
   "id": "90cdb4de",
   "metadata": {},
   "outputs": [
    {
     "data": {
      "text/html": [
       "<div>\n",
       "<style scoped>\n",
       "    .dataframe tbody tr th:only-of-type {\n",
       "        vertical-align: middle;\n",
       "    }\n",
       "\n",
       "    .dataframe tbody tr th {\n",
       "        vertical-align: top;\n",
       "    }\n",
       "\n",
       "    .dataframe thead th {\n",
       "        text-align: right;\n",
       "    }\n",
       "</style>\n",
       "<table border=\"1\" class=\"dataframe\">\n",
       "  <thead>\n",
       "    <tr style=\"text-align: right;\">\n",
       "      <th></th>\n",
       "      <th>dataset</th>\n",
       "      <th>summary</th>\n",
       "    </tr>\n",
       "  </thead>\n",
       "  <tbody>\n",
       "    <tr>\n",
       "      <th>0</th>\n",
       "      <td>2016_01_negitive</td>\n",
       "      <td>The sentences discuss various concerns and exp...</td>\n",
       "    </tr>\n",
       "    <tr>\n",
       "      <th>1</th>\n",
       "      <td>2016_02_negitive</td>\n",
       "      <td>The text discusses various concerns surroundin...</td>\n",
       "    </tr>\n",
       "  </tbody>\n",
       "</table>\n",
       "</div>"
      ],
      "text/plain": [
       "            dataset                                            summary\n",
       "0  2016_01_negitive  The sentences discuss various concerns and exp...\n",
       "1  2016_02_negitive  The text discusses various concerns surroundin..."
      ]
     },
     "execution_count": 32,
     "metadata": {},
     "output_type": "execute_result"
    }
   ],
   "source": [
    "df_2016_neg.tail(14)"
   ]
  },
  {
   "cell_type": "code",
   "execution_count": 33,
   "id": "8b79e3e6",
   "metadata": {},
   "outputs": [
    {
     "data": {
      "text/plain": [
       "<OpenAIObject chat.completion id=chatcmpl-AUcx3SbaEx389FoIftu176AMi3syM at 0x174d7cbcef0> JSON: {\n",
       "  \"choices\": [\n",
       "    {\n",
       "      \"finish_reason\": \"stop\",\n",
       "      \"index\": 0,\n",
       "      \"logprobs\": null,\n",
       "      \"message\": {\n",
       "        \"content\": \"The text discusses various concerns surrounding vaccines in Brazil, particularly focusing on the HPV vaccine, microcephaly linked to vaccination, and the slow development of vaccines against diseases like Zika. There's public outcry about the lack of vaccines, allegations of vaccine-related health issues, and accusations against the government for mismanagement and lack of funding for vaccine research. The sentiment reflects a mix of skepticism, fear, and frustration regarding vaccination policies and their implications for public health.\",\n",
       "        \"refusal\": null,\n",
       "        \"role\": \"assistant\"\n",
       "      }\n",
       "    }\n",
       "  ],\n",
       "  \"created\": 1731862933,\n",
       "  \"id\": \"chatcmpl-AUcx3SbaEx389FoIftu176AMi3syM\",\n",
       "  \"model\": \"gpt-4o-mini-2024-07-18\",\n",
       "  \"object\": \"chat.completion\",\n",
       "  \"system_fingerprint\": \"fp_0ba0d124f1\",\n",
       "  \"usage\": {\n",
       "    \"completion_tokens\": 92,\n",
       "    \"completion_tokens_details\": {\n",
       "      \"accepted_prediction_tokens\": 0,\n",
       "      \"audio_tokens\": 0,\n",
       "      \"reasoning_tokens\": 0,\n",
       "      \"rejected_prediction_tokens\": 0\n",
       "    },\n",
       "    \"prompt_tokens\": 32307,\n",
       "    \"prompt_tokens_details\": {\n",
       "      \"audio_tokens\": 0,\n",
       "      \"cached_tokens\": 0\n",
       "    },\n",
       "    \"total_tokens\": 32399\n",
       "  }\n",
       "}"
      ]
     },
     "execution_count": 33,
     "metadata": {},
     "output_type": "execute_result"
    }
   ],
   "source": [
    "response"
   ]
  },
  {
   "cell_type": "markdown",
   "id": "83cfd4fe",
   "metadata": {},
   "source": [
    "## March"
   ]
  },
  {
   "cell_type": "code",
   "execution_count": 34,
   "id": "8aecef5f",
   "metadata": {
    "scrolled": true,
    "tags": []
   },
   "outputs": [
    {
     "name": "stdout",
     "output_type": "stream",
     "text": [
      "<class 'pandas.core.frame.DataFrame'>\n",
      "RangeIndex: 849 entries, 0 to 848\n",
      "Data columns (total 53 columns):\n",
      " #   Column                  Non-Null Count  Dtype  \n",
      "---  ------                  --------------  -----  \n",
      " 0   index                   849 non-null    int64  \n",
      " 1   LocationCode            849 non-null    object \n",
      " 2   LocationName            849 non-null    object \n",
      " 3   StatesCode              849 non-null    object \n",
      " 4   ...4                    849 non-null    int64  \n",
      " 5   id                      849 non-null    float64\n",
      " 6   text                    849 non-null    object \n",
      " 7   label                   849 non-null    object \n",
      " 8   in_reply_to_status_id   95 non-null     float64\n",
      " 9   in_reply_to_user_id     106 non-null    float64\n",
      " 10  quoted_user_id          21 non-null     float64\n",
      " 11  quoted_status_id        21 non-null     float64\n",
      " 12  retweeted_user_id       107 non-null    float64\n",
      " 13  retweeted_status_id     107 non-null    float64\n",
      " 14  created_at              849 non-null    object \n",
      " 15  entities.user_mentions  224 non-null    object \n",
      " 16  user.id                 849 non-null    float64\n",
      " 17  user.screen_name        849 non-null    object \n",
      " 18  user.name               849 non-null    object \n",
      " 19  user.description        746 non-null    object \n",
      " 20  user.timezone           0 non-null      float64\n",
      " 21  user.location           812 non-null    object \n",
      " 22  user.num_followers      849 non-null    int64  \n",
      " 23  user.num_following      849 non-null    int64  \n",
      " 24  user.created_at         849 non-null    object \n",
      " 25  user.statuses_count     849 non-null    int64  \n",
      " 26  user.is_verified        849 non-null    bool   \n",
      " 27  lang                    849 non-null    object \n",
      " 28  token_count             849 non-null    int64  \n",
      " 29  is_retweet              849 non-null    bool   \n",
      " 30  has_quote               849 non-null    bool   \n",
      " 31  is_reply                849 non-null    bool   \n",
      " 32  contains_keywords       849 non-null    bool   \n",
      " 33  longitude               849 non-null    float64\n",
      " 34  latitude                849 non-null    float64\n",
      " 35  country_code            849 non-null    object \n",
      " 36  geoname_id              681 non-null    float64\n",
      " 37  location_type           849 non-null    object \n",
      " 38  geo_type                849 non-null    int64  \n",
      " 39  region                  849 non-null    object \n",
      " 40  subregion               849 non-null    object \n",
      " 41  num_quotes              849 non-null    int64  \n",
      " 42  num_replies             849 non-null    int64  \n",
      " 43  num_retweets            849 non-null    int64  \n",
      " 44  sent_gpt                849 non-null    object \n",
      " 45  gpt_sent_presence       849 non-null    int64  \n",
      " 46  cleaned_text_lem        849 non-null    object \n",
      " 47  cleaned_text            849 non-null    object \n",
      " 48  month                   849 non-null    int64  \n",
      " 49  year                    849 non-null    int64  \n",
      " 50  week                    849 non-null    int64  \n",
      " 51  year_month              849 non-null    object \n",
      " 52  year_week               849 non-null    object \n",
      "dtypes: bool(5), float64(12), int64(14), object(22)\n",
      "memory usage: 322.6+ KB\n"
     ]
    }
   ],
   "source": [
    "# Get monthly data\n",
    "df_2016_03_neg = pd.read_csv('../data/local/df_neg_2016-03.csv').reset_index()\n",
    "df_2016_03_neg.info()"
   ]
  },
  {
   "cell_type": "markdown",
   "id": "9d8793b8",
   "metadata": {},
   "source": [
    "### Representative sample based on week and location"
   ]
  },
  {
   "cell_type": "code",
   "execution_count": 35,
   "id": "849b56c5",
   "metadata": {},
   "outputs": [
    {
     "data": {
      "text/html": [
       "<div>\n",
       "<style scoped>\n",
       "    .dataframe tbody tr th:only-of-type {\n",
       "        vertical-align: middle;\n",
       "    }\n",
       "\n",
       "    .dataframe tbody tr th {\n",
       "        vertical-align: top;\n",
       "    }\n",
       "\n",
       "    .dataframe thead th {\n",
       "        text-align: right;\n",
       "    }\n",
       "</style>\n",
       "<table border=\"1\" class=\"dataframe\">\n",
       "  <thead>\n",
       "    <tr style=\"text-align: right;\">\n",
       "      <th></th>\n",
       "      <th>year_week</th>\n",
       "      <th>LocationName</th>\n",
       "      <th>group_size</th>\n",
       "      <th>proportion</th>\n",
       "    </tr>\n",
       "  </thead>\n",
       "  <tbody>\n",
       "    <tr>\n",
       "      <th>0</th>\n",
       "      <td>2016-w09</td>\n",
       "      <td>Amazonas</td>\n",
       "      <td>2</td>\n",
       "      <td>0.002356</td>\n",
       "    </tr>\n",
       "    <tr>\n",
       "      <th>1</th>\n",
       "      <td>2016-w09</td>\n",
       "      <td>Bahia</td>\n",
       "      <td>4</td>\n",
       "      <td>0.004711</td>\n",
       "    </tr>\n",
       "    <tr>\n",
       "      <th>2</th>\n",
       "      <td>2016-w09</td>\n",
       "      <td>Ceara</td>\n",
       "      <td>2</td>\n",
       "      <td>0.002356</td>\n",
       "    </tr>\n",
       "    <tr>\n",
       "      <th>3</th>\n",
       "      <td>2016-w09</td>\n",
       "      <td>Espirito Santo</td>\n",
       "      <td>2</td>\n",
       "      <td>0.002356</td>\n",
       "    </tr>\n",
       "    <tr>\n",
       "      <th>4</th>\n",
       "      <td>2016-w09</td>\n",
       "      <td>Goias</td>\n",
       "      <td>15</td>\n",
       "      <td>0.017668</td>\n",
       "    </tr>\n",
       "    <tr>\n",
       "      <th>...</th>\n",
       "      <td>...</td>\n",
       "      <td>...</td>\n",
       "      <td>...</td>\n",
       "      <td>...</td>\n",
       "    </tr>\n",
       "    <tr>\n",
       "      <th>89</th>\n",
       "      <td>2016-w13</td>\n",
       "      <td>Rio Grande Do Sul</td>\n",
       "      <td>21</td>\n",
       "      <td>0.024735</td>\n",
       "    </tr>\n",
       "    <tr>\n",
       "      <th>90</th>\n",
       "      <td>2016-w13</td>\n",
       "      <td>Rondonia</td>\n",
       "      <td>1</td>\n",
       "      <td>0.001178</td>\n",
       "    </tr>\n",
       "    <tr>\n",
       "      <th>91</th>\n",
       "      <td>2016-w13</td>\n",
       "      <td>Santa Catarina</td>\n",
       "      <td>16</td>\n",
       "      <td>0.018846</td>\n",
       "    </tr>\n",
       "    <tr>\n",
       "      <th>92</th>\n",
       "      <td>2016-w13</td>\n",
       "      <td>Sao Paulo</td>\n",
       "      <td>62</td>\n",
       "      <td>0.073027</td>\n",
       "    </tr>\n",
       "    <tr>\n",
       "      <th>93</th>\n",
       "      <td>2016-w13</td>\n",
       "      <td>Sergipe</td>\n",
       "      <td>3</td>\n",
       "      <td>0.003534</td>\n",
       "    </tr>\n",
       "  </tbody>\n",
       "</table>\n",
       "<p>94 rows × 4 columns</p>\n",
       "</div>"
      ],
      "text/plain": [
       "   year_week       LocationName  group_size  proportion\n",
       "0   2016-w09           Amazonas           2    0.002356\n",
       "1   2016-w09              Bahia           4    0.004711\n",
       "2   2016-w09              Ceara           2    0.002356\n",
       "3   2016-w09     Espirito Santo           2    0.002356\n",
       "4   2016-w09              Goias          15    0.017668\n",
       "..       ...                ...         ...         ...\n",
       "89  2016-w13  Rio Grande Do Sul          21    0.024735\n",
       "90  2016-w13           Rondonia           1    0.001178\n",
       "91  2016-w13     Santa Catarina          16    0.018846\n",
       "92  2016-w13          Sao Paulo          62    0.073027\n",
       "93  2016-w13            Sergipe           3    0.003534\n",
       "\n",
       "[94 rows x 4 columns]"
      ]
     },
     "execution_count": 35,
     "metadata": {},
     "output_type": "execute_result"
    }
   ],
   "source": [
    "# Step 1: Calculate the size of each group (year_week, LocationName)\n",
    "group_sizes = df_2016_03_neg.groupby(['year_week', 'LocationName']).size().reset_index(name='group_size')\n",
    "\n",
    "# Step 2: Calculate the proportion of each group in the dataset\n",
    "total_rows = len(df_2016_03_neg)\n",
    "group_sizes['proportion'] = group_sizes['group_size'] / total_rows\n",
    "group_sizes"
   ]
  },
  {
   "cell_type": "code",
   "execution_count": 36,
   "id": "aef8698d",
   "metadata": {},
   "outputs": [
    {
     "data": {
      "text/html": [
       "<div>\n",
       "<style scoped>\n",
       "    .dataframe tbody tr th:only-of-type {\n",
       "        vertical-align: middle;\n",
       "    }\n",
       "\n",
       "    .dataframe tbody tr th {\n",
       "        vertical-align: top;\n",
       "    }\n",
       "\n",
       "    .dataframe thead th {\n",
       "        text-align: right;\n",
       "    }\n",
       "</style>\n",
       "<table border=\"1\" class=\"dataframe\">\n",
       "  <thead>\n",
       "    <tr style=\"text-align: right;\">\n",
       "      <th></th>\n",
       "      <th>year_week</th>\n",
       "      <th>LocationName</th>\n",
       "      <th>group_size</th>\n",
       "      <th>proportion</th>\n",
       "      <th>sample_size</th>\n",
       "    </tr>\n",
       "  </thead>\n",
       "  <tbody>\n",
       "    <tr>\n",
       "      <th>0</th>\n",
       "      <td>2016-w09</td>\n",
       "      <td>Amazonas</td>\n",
       "      <td>2</td>\n",
       "      <td>0.002356</td>\n",
       "      <td>5</td>\n",
       "    </tr>\n",
       "    <tr>\n",
       "      <th>1</th>\n",
       "      <td>2016-w09</td>\n",
       "      <td>Bahia</td>\n",
       "      <td>4</td>\n",
       "      <td>0.004711</td>\n",
       "      <td>11</td>\n",
       "    </tr>\n",
       "    <tr>\n",
       "      <th>2</th>\n",
       "      <td>2016-w09</td>\n",
       "      <td>Ceara</td>\n",
       "      <td>2</td>\n",
       "      <td>0.002356</td>\n",
       "      <td>5</td>\n",
       "    </tr>\n",
       "    <tr>\n",
       "      <th>3</th>\n",
       "      <td>2016-w09</td>\n",
       "      <td>Espirito Santo</td>\n",
       "      <td>2</td>\n",
       "      <td>0.002356</td>\n",
       "      <td>5</td>\n",
       "    </tr>\n",
       "    <tr>\n",
       "      <th>4</th>\n",
       "      <td>2016-w09</td>\n",
       "      <td>Goias</td>\n",
       "      <td>15</td>\n",
       "      <td>0.017668</td>\n",
       "      <td>43</td>\n",
       "    </tr>\n",
       "    <tr>\n",
       "      <th>...</th>\n",
       "      <td>...</td>\n",
       "      <td>...</td>\n",
       "      <td>...</td>\n",
       "      <td>...</td>\n",
       "      <td>...</td>\n",
       "    </tr>\n",
       "    <tr>\n",
       "      <th>89</th>\n",
       "      <td>2016-w13</td>\n",
       "      <td>Rio Grande Do Sul</td>\n",
       "      <td>21</td>\n",
       "      <td>0.024735</td>\n",
       "      <td>60</td>\n",
       "    </tr>\n",
       "    <tr>\n",
       "      <th>90</th>\n",
       "      <td>2016-w13</td>\n",
       "      <td>Rondonia</td>\n",
       "      <td>1</td>\n",
       "      <td>0.001178</td>\n",
       "      <td>2</td>\n",
       "    </tr>\n",
       "    <tr>\n",
       "      <th>91</th>\n",
       "      <td>2016-w13</td>\n",
       "      <td>Santa Catarina</td>\n",
       "      <td>16</td>\n",
       "      <td>0.018846</td>\n",
       "      <td>46</td>\n",
       "    </tr>\n",
       "    <tr>\n",
       "      <th>92</th>\n",
       "      <td>2016-w13</td>\n",
       "      <td>Sao Paulo</td>\n",
       "      <td>62</td>\n",
       "      <td>0.073027</td>\n",
       "      <td>178</td>\n",
       "    </tr>\n",
       "    <tr>\n",
       "      <th>93</th>\n",
       "      <td>2016-w13</td>\n",
       "      <td>Sergipe</td>\n",
       "      <td>3</td>\n",
       "      <td>0.003534</td>\n",
       "      <td>8</td>\n",
       "    </tr>\n",
       "  </tbody>\n",
       "</table>\n",
       "<p>94 rows × 5 columns</p>\n",
       "</div>"
      ],
      "text/plain": [
       "   year_week       LocationName  group_size  proportion  sample_size\n",
       "0   2016-w09           Amazonas           2    0.002356            5\n",
       "1   2016-w09              Bahia           4    0.004711           11\n",
       "2   2016-w09              Ceara           2    0.002356            5\n",
       "3   2016-w09     Espirito Santo           2    0.002356            5\n",
       "4   2016-w09              Goias          15    0.017668           43\n",
       "..       ...                ...         ...         ...          ...\n",
       "89  2016-w13  Rio Grande Do Sul          21    0.024735           60\n",
       "90  2016-w13           Rondonia           1    0.001178            2\n",
       "91  2016-w13     Santa Catarina          16    0.018846           46\n",
       "92  2016-w13          Sao Paulo          62    0.073027          178\n",
       "93  2016-w13            Sergipe           3    0.003534            8\n",
       "\n",
       "[94 rows x 5 columns]"
      ]
     },
     "execution_count": 36,
     "metadata": {},
     "output_type": "execute_result"
    }
   ],
   "source": [
    "# Step 3: Define the target sample size\n",
    "target_sample_size = 2450\n",
    "\n",
    "# Step 4: Calculate the sample size for each group (based on its proportion)\n",
    "group_sizes['sample_size'] = np.floor(group_sizes['proportion'] * target_sample_size).astype(int)\n",
    "group_sizes"
   ]
  },
  {
   "cell_type": "code",
   "execution_count": 37,
   "id": "64497bce",
   "metadata": {},
   "outputs": [],
   "source": [
    "# Step 5: Merge this sample size information back to the original DataFrame\n",
    "df_2016_03_neg_sample_size = pd.merge(df_2016_03_neg, group_sizes[['year_week', 'LocationName', 'sample_size']], \n",
    "                               on=['year_week', 'LocationName'], how='left')"
   ]
  },
  {
   "cell_type": "code",
   "execution_count": 39,
   "id": "b66deaed",
   "metadata": {},
   "outputs": [
    {
     "name": "stdout",
     "output_type": "stream",
     "text": [
      "Sampled 849 rows.\n"
     ]
    }
   ],
   "source": [
    "# Step 6: Perform the stratified sampling\n",
    "#df_2016_03_neg_sample = df_2016_03_neg_sample_size.groupby(['year_week', 'LocationName']).apply(\n",
    "#    lambda group: group.sample(n=group['sample_size'].iloc[0], random_state=42)\n",
    "#).reset_index(drop=True)\n",
    "df_2016_03_neg_sample = df_2016_03_neg\n",
    "# Step 7: Check the result\n",
    "print(f\"Sampled {len(df_2016_03_neg_sample)} rows.\")\n"
   ]
  },
  {
   "cell_type": "code",
   "execution_count": 40,
   "id": "cacd5bfb",
   "metadata": {},
   "outputs": [],
   "source": [
    "text_gpt_2016_03_neg = '\\n'.join(df_2016_03_neg_sample['text'].astype(str))"
   ]
  },
  {
   "cell_type": "markdown",
   "id": "677054ce",
   "metadata": {},
   "source": [
    "### Prompts and loops"
   ]
  },
  {
   "cell_type": "code",
   "execution_count": 41,
   "id": "3e74eba3",
   "metadata": {},
   "outputs": [],
   "source": [
    "prompt_3 = prompt_raw.replace('TWEETS', text_gpt_2016_03_neg)"
   ]
  },
  {
   "cell_type": "code",
   "execution_count": 42,
   "id": "709224ed",
   "metadata": {
    "scrolled": false
   },
   "outputs": [],
   "source": [
    "response = openai.ChatCompletion.create(\n",
    "    model=\"gpt-4o-mini\",  \n",
    "    messages = [\n",
    "        {\"role\": \"user\", \"content\": prompt_3}\n",
    "    ],\n",
    "    max_tokens=400,  # Maximum number of tokens in the response\n",
    "    temperature=0.7  # Controls the randomness of the output\n",
    ")"
   ]
  },
  {
   "cell_type": "code",
   "execution_count": 43,
   "id": "b8776166",
   "metadata": {},
   "outputs": [
    {
     "data": {
      "text/plain": [
       "'The text discusses various opinions and experiences related to vaccines, highlighting fears, discomfort, and societal issues surrounding vaccination campaigns. Many express dislike for vaccines, recount painful experiences, and mention shortages or lack of availability. There are also concerns about vaccine safety and effectiveness, particularly regarding specific diseases like H1N1 and Zika.'"
      ]
     },
     "execution_count": 43,
     "metadata": {},
     "output_type": "execute_result"
    }
   ],
   "source": [
    "response.choices[0].message.content"
   ]
  },
  {
   "cell_type": "code",
   "execution_count": 44,
   "id": "f03966cf",
   "metadata": {},
   "outputs": [],
   "source": [
    "#summary = []\n",
    "#dataset = []"
   ]
  },
  {
   "cell_type": "code",
   "execution_count": 45,
   "id": "bde868f6",
   "metadata": {},
   "outputs": [],
   "source": [
    "dataset.append(\"2016_03_negitive\")"
   ]
  },
  {
   "cell_type": "code",
   "execution_count": 46,
   "id": "7a940cb2",
   "metadata": {},
   "outputs": [],
   "source": [
    "summary.append(response.choices[0].message.content)"
   ]
  },
  {
   "cell_type": "code",
   "execution_count": 47,
   "id": "fdf1b907",
   "metadata": {
    "tags": []
   },
   "outputs": [
    {
     "name": "stdout",
     "output_type": "stream",
     "text": [
      "<class 'pandas.core.frame.DataFrame'>\n",
      "RangeIndex: 3 entries, 0 to 2\n",
      "Data columns (total 2 columns):\n",
      " #   Column   Non-Null Count  Dtype \n",
      "---  ------   --------------  ----- \n",
      " 0   dataset  3 non-null      object\n",
      " 1   summary  3 non-null      object\n",
      "dtypes: object(2)\n",
      "memory usage: 176.0+ bytes\n"
     ]
    }
   ],
   "source": [
    "df_2016_neg = pd.DataFrame(list(zip(dataset, summary)),\n",
    "                            columns = ['dataset', 'summary'])\n",
    "df_2016_neg.info()"
   ]
  },
  {
   "cell_type": "code",
   "execution_count": 48,
   "id": "b44227e1",
   "metadata": {},
   "outputs": [
    {
     "data": {
      "text/html": [
       "<div>\n",
       "<style scoped>\n",
       "    .dataframe tbody tr th:only-of-type {\n",
       "        vertical-align: middle;\n",
       "    }\n",
       "\n",
       "    .dataframe tbody tr th {\n",
       "        vertical-align: top;\n",
       "    }\n",
       "\n",
       "    .dataframe thead th {\n",
       "        text-align: right;\n",
       "    }\n",
       "</style>\n",
       "<table border=\"1\" class=\"dataframe\">\n",
       "  <thead>\n",
       "    <tr style=\"text-align: right;\">\n",
       "      <th></th>\n",
       "      <th>dataset</th>\n",
       "      <th>summary</th>\n",
       "    </tr>\n",
       "  </thead>\n",
       "  <tbody>\n",
       "    <tr>\n",
       "      <th>0</th>\n",
       "      <td>2016_01_negitive</td>\n",
       "      <td>The sentences discuss various concerns and exp...</td>\n",
       "    </tr>\n",
       "    <tr>\n",
       "      <th>1</th>\n",
       "      <td>2016_02_negitive</td>\n",
       "      <td>The text discusses various concerns surroundin...</td>\n",
       "    </tr>\n",
       "    <tr>\n",
       "      <th>2</th>\n",
       "      <td>2016_03_negitive</td>\n",
       "      <td>The text discusses various opinions and experi...</td>\n",
       "    </tr>\n",
       "  </tbody>\n",
       "</table>\n",
       "</div>"
      ],
      "text/plain": [
       "            dataset                                            summary\n",
       "0  2016_01_negitive  The sentences discuss various concerns and exp...\n",
       "1  2016_02_negitive  The text discusses various concerns surroundin...\n",
       "2  2016_03_negitive  The text discusses various opinions and experi..."
      ]
     },
     "execution_count": 48,
     "metadata": {},
     "output_type": "execute_result"
    }
   ],
   "source": [
    "df_2016_neg.tail(14)"
   ]
  },
  {
   "cell_type": "code",
   "execution_count": 49,
   "id": "8528ad17",
   "metadata": {},
   "outputs": [
    {
     "data": {
      "text/plain": [
       "<OpenAIObject chat.completion id=chatcmpl-AUcxs04FSTXBkEup5d4YJKcJb2rtn at 0x174d7f8e220> JSON: {\n",
       "  \"choices\": [\n",
       "    {\n",
       "      \"finish_reason\": \"stop\",\n",
       "      \"index\": 0,\n",
       "      \"logprobs\": null,\n",
       "      \"message\": {\n",
       "        \"content\": \"The text discusses various opinions and experiences related to vaccines, highlighting fears, discomfort, and societal issues surrounding vaccination campaigns. Many express dislike for vaccines, recount painful experiences, and mention shortages or lack of availability. There are also concerns about vaccine safety and effectiveness, particularly regarding specific diseases like H1N1 and Zika.\",\n",
       "        \"refusal\": null,\n",
       "        \"role\": \"assistant\"\n",
       "      }\n",
       "    }\n",
       "  ],\n",
       "  \"created\": 1731862984,\n",
       "  \"id\": \"chatcmpl-AUcxs04FSTXBkEup5d4YJKcJb2rtn\",\n",
       "  \"model\": \"gpt-4o-mini-2024-07-18\",\n",
       "  \"object\": \"chat.completion\",\n",
       "  \"system_fingerprint\": \"fp_9b78b61c52\",\n",
       "  \"usage\": {\n",
       "    \"completion_tokens\": 64,\n",
       "    \"completion_tokens_details\": {\n",
       "      \"accepted_prediction_tokens\": 0,\n",
       "      \"audio_tokens\": 0,\n",
       "      \"reasoning_tokens\": 0,\n",
       "      \"rejected_prediction_tokens\": 0\n",
       "    },\n",
       "    \"prompt_tokens\": 18361,\n",
       "    \"prompt_tokens_details\": {\n",
       "      \"audio_tokens\": 0,\n",
       "      \"cached_tokens\": 0\n",
       "    },\n",
       "    \"total_tokens\": 18425\n",
       "  }\n",
       "}"
      ]
     },
     "execution_count": 49,
     "metadata": {},
     "output_type": "execute_result"
    }
   ],
   "source": [
    "response"
   ]
  },
  {
   "cell_type": "markdown",
   "id": "a57159e2",
   "metadata": {},
   "source": [
    "## April"
   ]
  },
  {
   "cell_type": "code",
   "execution_count": 50,
   "id": "b84f949f",
   "metadata": {
    "scrolled": true,
    "tags": []
   },
   "outputs": [
    {
     "name": "stdout",
     "output_type": "stream",
     "text": [
      "<class 'pandas.core.frame.DataFrame'>\n",
      "RangeIndex: 5205 entries, 0 to 5204\n",
      "Data columns (total 53 columns):\n",
      " #   Column                  Non-Null Count  Dtype  \n",
      "---  ------                  --------------  -----  \n",
      " 0   index                   5205 non-null   int64  \n",
      " 1   LocationCode            5205 non-null   object \n",
      " 2   LocationName            5205 non-null   object \n",
      " 3   StatesCode              5205 non-null   object \n",
      " 4   ...4                    5205 non-null   int64  \n",
      " 5   id                      5205 non-null   float64\n",
      " 6   text                    5205 non-null   object \n",
      " 7   label                   5205 non-null   object \n",
      " 8   in_reply_to_status_id   356 non-null    float64\n",
      " 9   in_reply_to_user_id     415 non-null    float64\n",
      " 10  quoted_user_id          88 non-null     float64\n",
      " 11  quoted_status_id        88 non-null     float64\n",
      " 12  retweeted_user_id       932 non-null    float64\n",
      " 13  retweeted_status_id     932 non-null    float64\n",
      " 14  created_at              5205 non-null   object \n",
      " 15  entities.user_mentions  1540 non-null   object \n",
      " 16  user.id                 5205 non-null   float64\n",
      " 17  user.screen_name        5205 non-null   object \n",
      " 18  user.name               5205 non-null   object \n",
      " 19  user.description        4518 non-null   object \n",
      " 20  user.timezone           0 non-null      float64\n",
      " 21  user.location           5050 non-null   object \n",
      " 22  user.num_followers      5205 non-null   int64  \n",
      " 23  user.num_following      5205 non-null   int64  \n",
      " 24  user.created_at         5205 non-null   object \n",
      " 25  user.statuses_count     5205 non-null   int64  \n",
      " 26  user.is_verified        5205 non-null   bool   \n",
      " 27  lang                    5205 non-null   object \n",
      " 28  token_count             5205 non-null   int64  \n",
      " 29  is_retweet              5205 non-null   bool   \n",
      " 30  has_quote               5205 non-null   bool   \n",
      " 31  is_reply                5205 non-null   bool   \n",
      " 32  contains_keywords       5205 non-null   bool   \n",
      " 33  longitude               5205 non-null   float64\n",
      " 34  latitude                5205 non-null   float64\n",
      " 35  country_code            5205 non-null   object \n",
      " 36  geoname_id              4447 non-null   float64\n",
      " 37  location_type           5205 non-null   object \n",
      " 38  geo_type                5205 non-null   int64  \n",
      " 39  region                  5205 non-null   object \n",
      " 40  subregion               5205 non-null   object \n",
      " 41  num_quotes              5205 non-null   int64  \n",
      " 42  num_replies             5205 non-null   int64  \n",
      " 43  num_retweets            5205 non-null   int64  \n",
      " 44  sent_gpt                5205 non-null   object \n",
      " 45  gpt_sent_presence       5205 non-null   int64  \n",
      " 46  cleaned_text_lem        5205 non-null   object \n",
      " 47  cleaned_text            5205 non-null   object \n",
      " 48  month                   5205 non-null   int64  \n",
      " 49  year                    5205 non-null   int64  \n",
      " 50  week                    5205 non-null   int64  \n",
      " 51  year_month              5205 non-null   object \n",
      " 52  year_week               5205 non-null   object \n",
      "dtypes: bool(5), float64(12), int64(14), object(22)\n",
      "memory usage: 1.9+ MB\n"
     ]
    }
   ],
   "source": [
    "# Get monthly data\n",
    "df_2016_04_neg = pd.read_csv('../data/local/df_neg_2016-04.csv').reset_index()\n",
    "df_2016_04_neg.info()"
   ]
  },
  {
   "cell_type": "markdown",
   "id": "66b76111",
   "metadata": {},
   "source": [
    "### Representative sample based on week and location"
   ]
  },
  {
   "cell_type": "code",
   "execution_count": 51,
   "id": "e2923a82",
   "metadata": {},
   "outputs": [
    {
     "data": {
      "text/html": [
       "<div>\n",
       "<style scoped>\n",
       "    .dataframe tbody tr th:only-of-type {\n",
       "        vertical-align: middle;\n",
       "    }\n",
       "\n",
       "    .dataframe tbody tr th {\n",
       "        vertical-align: top;\n",
       "    }\n",
       "\n",
       "    .dataframe thead th {\n",
       "        text-align: right;\n",
       "    }\n",
       "</style>\n",
       "<table border=\"1\" class=\"dataframe\">\n",
       "  <thead>\n",
       "    <tr style=\"text-align: right;\">\n",
       "      <th></th>\n",
       "      <th>year_week</th>\n",
       "      <th>LocationName</th>\n",
       "      <th>group_size</th>\n",
       "      <th>proportion</th>\n",
       "    </tr>\n",
       "  </thead>\n",
       "  <tbody>\n",
       "    <tr>\n",
       "      <th>0</th>\n",
       "      <td>2016-w14</td>\n",
       "      <td>Acre</td>\n",
       "      <td>1</td>\n",
       "      <td>0.000192</td>\n",
       "    </tr>\n",
       "    <tr>\n",
       "      <th>1</th>\n",
       "      <td>2016-w14</td>\n",
       "      <td>Alagoas</td>\n",
       "      <td>9</td>\n",
       "      <td>0.001729</td>\n",
       "    </tr>\n",
       "    <tr>\n",
       "      <th>2</th>\n",
       "      <td>2016-w14</td>\n",
       "      <td>Amapa</td>\n",
       "      <td>2</td>\n",
       "      <td>0.000384</td>\n",
       "    </tr>\n",
       "    <tr>\n",
       "      <th>3</th>\n",
       "      <td>2016-w14</td>\n",
       "      <td>Amazonas</td>\n",
       "      <td>7</td>\n",
       "      <td>0.001345</td>\n",
       "    </tr>\n",
       "    <tr>\n",
       "      <th>4</th>\n",
       "      <td>2016-w14</td>\n",
       "      <td>Bahia</td>\n",
       "      <td>44</td>\n",
       "      <td>0.008453</td>\n",
       "    </tr>\n",
       "    <tr>\n",
       "      <th>...</th>\n",
       "      <td>...</td>\n",
       "      <td>...</td>\n",
       "      <td>...</td>\n",
       "      <td>...</td>\n",
       "    </tr>\n",
       "    <tr>\n",
       "      <th>115</th>\n",
       "      <td>2016-w18</td>\n",
       "      <td>Rondonia</td>\n",
       "      <td>5</td>\n",
       "      <td>0.000961</td>\n",
       "    </tr>\n",
       "    <tr>\n",
       "      <th>116</th>\n",
       "      <td>2016-w18</td>\n",
       "      <td>Roraima</td>\n",
       "      <td>3</td>\n",
       "      <td>0.000576</td>\n",
       "    </tr>\n",
       "    <tr>\n",
       "      <th>117</th>\n",
       "      <td>2016-w18</td>\n",
       "      <td>Santa Catarina</td>\n",
       "      <td>20</td>\n",
       "      <td>0.003842</td>\n",
       "    </tr>\n",
       "    <tr>\n",
       "      <th>118</th>\n",
       "      <td>2016-w18</td>\n",
       "      <td>Sao Paulo</td>\n",
       "      <td>119</td>\n",
       "      <td>0.022863</td>\n",
       "    </tr>\n",
       "    <tr>\n",
       "      <th>119</th>\n",
       "      <td>2016-w18</td>\n",
       "      <td>Sergipe</td>\n",
       "      <td>2</td>\n",
       "      <td>0.000384</td>\n",
       "    </tr>\n",
       "  </tbody>\n",
       "</table>\n",
       "<p>120 rows × 4 columns</p>\n",
       "</div>"
      ],
      "text/plain": [
       "    year_week    LocationName  group_size  proportion\n",
       "0    2016-w14            Acre           1    0.000192\n",
       "1    2016-w14         Alagoas           9    0.001729\n",
       "2    2016-w14           Amapa           2    0.000384\n",
       "3    2016-w14        Amazonas           7    0.001345\n",
       "4    2016-w14           Bahia          44    0.008453\n",
       "..        ...             ...         ...         ...\n",
       "115  2016-w18        Rondonia           5    0.000961\n",
       "116  2016-w18         Roraima           3    0.000576\n",
       "117  2016-w18  Santa Catarina          20    0.003842\n",
       "118  2016-w18       Sao Paulo         119    0.022863\n",
       "119  2016-w18         Sergipe           2    0.000384\n",
       "\n",
       "[120 rows x 4 columns]"
      ]
     },
     "execution_count": 51,
     "metadata": {},
     "output_type": "execute_result"
    }
   ],
   "source": [
    "# Step 1: Calculate the size of each group (year_week, LocationName)\n",
    "group_sizes = df_2016_04_neg.groupby(['year_week', 'LocationName']).size().reset_index(name='group_size')\n",
    "\n",
    "# Step 2: Calculate the proportion of each group in the dataset\n",
    "total_rows = len(df_2016_04_neg)\n",
    "group_sizes['proportion'] = group_sizes['group_size'] / total_rows\n",
    "group_sizes"
   ]
  },
  {
   "cell_type": "code",
   "execution_count": 52,
   "id": "5e52798c",
   "metadata": {},
   "outputs": [
    {
     "data": {
      "text/html": [
       "<div>\n",
       "<style scoped>\n",
       "    .dataframe tbody tr th:only-of-type {\n",
       "        vertical-align: middle;\n",
       "    }\n",
       "\n",
       "    .dataframe tbody tr th {\n",
       "        vertical-align: top;\n",
       "    }\n",
       "\n",
       "    .dataframe thead th {\n",
       "        text-align: right;\n",
       "    }\n",
       "</style>\n",
       "<table border=\"1\" class=\"dataframe\">\n",
       "  <thead>\n",
       "    <tr style=\"text-align: right;\">\n",
       "      <th></th>\n",
       "      <th>year_week</th>\n",
       "      <th>LocationName</th>\n",
       "      <th>group_size</th>\n",
       "      <th>proportion</th>\n",
       "      <th>sample_size</th>\n",
       "    </tr>\n",
       "  </thead>\n",
       "  <tbody>\n",
       "    <tr>\n",
       "      <th>0</th>\n",
       "      <td>2016-w14</td>\n",
       "      <td>Acre</td>\n",
       "      <td>1</td>\n",
       "      <td>0.000192</td>\n",
       "      <td>0</td>\n",
       "    </tr>\n",
       "    <tr>\n",
       "      <th>1</th>\n",
       "      <td>2016-w14</td>\n",
       "      <td>Alagoas</td>\n",
       "      <td>9</td>\n",
       "      <td>0.001729</td>\n",
       "      <td>4</td>\n",
       "    </tr>\n",
       "    <tr>\n",
       "      <th>2</th>\n",
       "      <td>2016-w14</td>\n",
       "      <td>Amapa</td>\n",
       "      <td>2</td>\n",
       "      <td>0.000384</td>\n",
       "      <td>0</td>\n",
       "    </tr>\n",
       "    <tr>\n",
       "      <th>3</th>\n",
       "      <td>2016-w14</td>\n",
       "      <td>Amazonas</td>\n",
       "      <td>7</td>\n",
       "      <td>0.001345</td>\n",
       "      <td>3</td>\n",
       "    </tr>\n",
       "    <tr>\n",
       "      <th>4</th>\n",
       "      <td>2016-w14</td>\n",
       "      <td>Bahia</td>\n",
       "      <td>44</td>\n",
       "      <td>0.008453</td>\n",
       "      <td>20</td>\n",
       "    </tr>\n",
       "    <tr>\n",
       "      <th>...</th>\n",
       "      <td>...</td>\n",
       "      <td>...</td>\n",
       "      <td>...</td>\n",
       "      <td>...</td>\n",
       "      <td>...</td>\n",
       "    </tr>\n",
       "    <tr>\n",
       "      <th>115</th>\n",
       "      <td>2016-w18</td>\n",
       "      <td>Rondonia</td>\n",
       "      <td>5</td>\n",
       "      <td>0.000961</td>\n",
       "      <td>2</td>\n",
       "    </tr>\n",
       "    <tr>\n",
       "      <th>116</th>\n",
       "      <td>2016-w18</td>\n",
       "      <td>Roraima</td>\n",
       "      <td>3</td>\n",
       "      <td>0.000576</td>\n",
       "      <td>1</td>\n",
       "    </tr>\n",
       "    <tr>\n",
       "      <th>117</th>\n",
       "      <td>2016-w18</td>\n",
       "      <td>Santa Catarina</td>\n",
       "      <td>20</td>\n",
       "      <td>0.003842</td>\n",
       "      <td>9</td>\n",
       "    </tr>\n",
       "    <tr>\n",
       "      <th>118</th>\n",
       "      <td>2016-w18</td>\n",
       "      <td>Sao Paulo</td>\n",
       "      <td>119</td>\n",
       "      <td>0.022863</td>\n",
       "      <td>56</td>\n",
       "    </tr>\n",
       "    <tr>\n",
       "      <th>119</th>\n",
       "      <td>2016-w18</td>\n",
       "      <td>Sergipe</td>\n",
       "      <td>2</td>\n",
       "      <td>0.000384</td>\n",
       "      <td>0</td>\n",
       "    </tr>\n",
       "  </tbody>\n",
       "</table>\n",
       "<p>120 rows × 5 columns</p>\n",
       "</div>"
      ],
      "text/plain": [
       "    year_week    LocationName  group_size  proportion  sample_size\n",
       "0    2016-w14            Acre           1    0.000192            0\n",
       "1    2016-w14         Alagoas           9    0.001729            4\n",
       "2    2016-w14           Amapa           2    0.000384            0\n",
       "3    2016-w14        Amazonas           7    0.001345            3\n",
       "4    2016-w14           Bahia          44    0.008453           20\n",
       "..        ...             ...         ...         ...          ...\n",
       "115  2016-w18        Rondonia           5    0.000961            2\n",
       "116  2016-w18         Roraima           3    0.000576            1\n",
       "117  2016-w18  Santa Catarina          20    0.003842            9\n",
       "118  2016-w18       Sao Paulo         119    0.022863           56\n",
       "119  2016-w18         Sergipe           2    0.000384            0\n",
       "\n",
       "[120 rows x 5 columns]"
      ]
     },
     "execution_count": 52,
     "metadata": {},
     "output_type": "execute_result"
    }
   ],
   "source": [
    "# Step 3: Define the target sample size\n",
    "target_sample_size = 2450\n",
    "\n",
    "# Step 4: Calculate the sample size for each group (based on its proportion)\n",
    "group_sizes['sample_size'] = np.floor(group_sizes['proportion'] * target_sample_size).astype(int)\n",
    "group_sizes"
   ]
  },
  {
   "cell_type": "code",
   "execution_count": 53,
   "id": "c66b1eeb",
   "metadata": {},
   "outputs": [],
   "source": [
    "# Step 5: Merge this sample size information back to the original DataFrame\n",
    "df_2016_04_neg_sample_size = pd.merge(df_2016_04_neg, group_sizes[['year_week', 'LocationName', 'sample_size']], \n",
    "                               on=['year_week', 'LocationName'], how='left')"
   ]
  },
  {
   "cell_type": "code",
   "execution_count": 54,
   "id": "53f14ba0",
   "metadata": {},
   "outputs": [
    {
     "name": "stdout",
     "output_type": "stream",
     "text": [
      "Sampled 2385 rows.\n"
     ]
    }
   ],
   "source": [
    "# Step 6: Perform the stratified sampling\n",
    "df_2016_04_neg_sample = df_2016_04_neg_sample_size.groupby(['year_week', 'LocationName']).apply(\n",
    "    lambda group: group.sample(n=group['sample_size'].iloc[0], random_state=42)\n",
    ").reset_index(drop=True)\n",
    "\n",
    "# Step 7: Check the result\n",
    "print(f\"Sampled {len(df_2016_04_neg_sample)} rows.\")\n"
   ]
  },
  {
   "cell_type": "code",
   "execution_count": 55,
   "id": "480bf650",
   "metadata": {},
   "outputs": [],
   "source": [
    "text_gpt_2016_04_neg = '\\n'.join(df_2016_04_neg_sample['text'].astype(str))"
   ]
  },
  {
   "cell_type": "markdown",
   "id": "08689181",
   "metadata": {},
   "source": [
    "### Prompts and loops"
   ]
  },
  {
   "cell_type": "code",
   "execution_count": 56,
   "id": "3d2f9387",
   "metadata": {},
   "outputs": [],
   "source": [
    "prompt_4 = prompt_raw.replace('TWEETS', text_gpt_2016_04_neg)"
   ]
  },
  {
   "cell_type": "code",
   "execution_count": 57,
   "id": "6bf06ef1",
   "metadata": {
    "scrolled": false
   },
   "outputs": [],
   "source": [
    "response = openai.ChatCompletion.create(\n",
    "    model=\"gpt-4o-mini\",  \n",
    "    messages = [\n",
    "        {\"role\": \"user\", \"content\": prompt_4}\n",
    "    ],\n",
    "    max_tokens=400,  # Maximum number of tokens in the response\n",
    "    temperature=0.7  # Controls the randomness of the output\n",
    ")"
   ]
  },
  {
   "cell_type": "code",
   "execution_count": 58,
   "id": "2c572149",
   "metadata": {},
   "outputs": [
    {
     "data": {
      "text/plain": [
       "\"The text discusses various issues related to the H1N1 vaccination in Brazil, including shortages of vaccines, rising costs, and public frustration. It highlights incidents where vaccinations were mishandled, such as patients receiving insulin instead of the vaccine. There's a strong sentiment against mandatory vaccinations, fears of side effects, and criticism of government priorities, especially regarding the vaccination of prisoners over the general public.\""
      ]
     },
     "execution_count": 58,
     "metadata": {},
     "output_type": "execute_result"
    }
   ],
   "source": [
    "response.choices[0].message.content"
   ]
  },
  {
   "cell_type": "code",
   "execution_count": 59,
   "id": "e3b9c3a6",
   "metadata": {},
   "outputs": [],
   "source": [
    "#summary = []\n",
    "#dataset = []"
   ]
  },
  {
   "cell_type": "code",
   "execution_count": 60,
   "id": "87ae0b14",
   "metadata": {},
   "outputs": [],
   "source": [
    "dataset.append(\"2016_04_negitive\")"
   ]
  },
  {
   "cell_type": "code",
   "execution_count": 61,
   "id": "265b4d20",
   "metadata": {},
   "outputs": [],
   "source": [
    "summary.append(response.choices[0].message.content)"
   ]
  },
  {
   "cell_type": "code",
   "execution_count": 62,
   "id": "b2c62be9",
   "metadata": {
    "tags": []
   },
   "outputs": [
    {
     "name": "stdout",
     "output_type": "stream",
     "text": [
      "<class 'pandas.core.frame.DataFrame'>\n",
      "RangeIndex: 4 entries, 0 to 3\n",
      "Data columns (total 2 columns):\n",
      " #   Column   Non-Null Count  Dtype \n",
      "---  ------   --------------  ----- \n",
      " 0   dataset  4 non-null      object\n",
      " 1   summary  4 non-null      object\n",
      "dtypes: object(2)\n",
      "memory usage: 192.0+ bytes\n"
     ]
    }
   ],
   "source": [
    "df_2016_neg = pd.DataFrame(list(zip(dataset, summary)),\n",
    "                            columns = ['dataset', 'summary'])\n",
    "df_2016_neg.info()"
   ]
  },
  {
   "cell_type": "code",
   "execution_count": 63,
   "id": "53fcd76e",
   "metadata": {},
   "outputs": [
    {
     "data": {
      "text/html": [
       "<div>\n",
       "<style scoped>\n",
       "    .dataframe tbody tr th:only-of-type {\n",
       "        vertical-align: middle;\n",
       "    }\n",
       "\n",
       "    .dataframe tbody tr th {\n",
       "        vertical-align: top;\n",
       "    }\n",
       "\n",
       "    .dataframe thead th {\n",
       "        text-align: right;\n",
       "    }\n",
       "</style>\n",
       "<table border=\"1\" class=\"dataframe\">\n",
       "  <thead>\n",
       "    <tr style=\"text-align: right;\">\n",
       "      <th></th>\n",
       "      <th>dataset</th>\n",
       "      <th>summary</th>\n",
       "    </tr>\n",
       "  </thead>\n",
       "  <tbody>\n",
       "    <tr>\n",
       "      <th>0</th>\n",
       "      <td>2016_01_negitive</td>\n",
       "      <td>The sentences discuss various concerns and exp...</td>\n",
       "    </tr>\n",
       "    <tr>\n",
       "      <th>1</th>\n",
       "      <td>2016_02_negitive</td>\n",
       "      <td>The text discusses various concerns surroundin...</td>\n",
       "    </tr>\n",
       "    <tr>\n",
       "      <th>2</th>\n",
       "      <td>2016_03_negitive</td>\n",
       "      <td>The text discusses various opinions and experi...</td>\n",
       "    </tr>\n",
       "    <tr>\n",
       "      <th>3</th>\n",
       "      <td>2016_04_negitive</td>\n",
       "      <td>The text discusses various issues related to t...</td>\n",
       "    </tr>\n",
       "  </tbody>\n",
       "</table>\n",
       "</div>"
      ],
      "text/plain": [
       "            dataset                                            summary\n",
       "0  2016_01_negitive  The sentences discuss various concerns and exp...\n",
       "1  2016_02_negitive  The text discusses various concerns surroundin...\n",
       "2  2016_03_negitive  The text discusses various opinions and experi...\n",
       "3  2016_04_negitive  The text discusses various issues related to t..."
      ]
     },
     "execution_count": 63,
     "metadata": {},
     "output_type": "execute_result"
    }
   ],
   "source": [
    "df_2016_neg.tail(14)"
   ]
  },
  {
   "cell_type": "code",
   "execution_count": 64,
   "id": "9bc8461d",
   "metadata": {},
   "outputs": [
    {
     "data": {
      "text/plain": [
       "<OpenAIObject chat.completion id=chatcmpl-AUcxxIlWJo4lXip9DhtXUTmO9VsO3 at 0x174db5dbf40> JSON: {\n",
       "  \"choices\": [\n",
       "    {\n",
       "      \"finish_reason\": \"stop\",\n",
       "      \"index\": 0,\n",
       "      \"logprobs\": null,\n",
       "      \"message\": {\n",
       "        \"content\": \"The text discusses various issues related to the H1N1 vaccination in Brazil, including shortages of vaccines, rising costs, and public frustration. It highlights incidents where vaccinations were mishandled, such as patients receiving insulin instead of the vaccine. There's a strong sentiment against mandatory vaccinations, fears of side effects, and criticism of government priorities, especially regarding the vaccination of prisoners over the general public.\",\n",
       "        \"refusal\": null,\n",
       "        \"role\": \"assistant\"\n",
       "      }\n",
       "    }\n",
       "  ],\n",
       "  \"created\": 1731862989,\n",
       "  \"id\": \"chatcmpl-AUcxxIlWJo4lXip9DhtXUTmO9VsO3\",\n",
       "  \"model\": \"gpt-4o-mini-2024-07-18\",\n",
       "  \"object\": \"chat.completion\",\n",
       "  \"system_fingerprint\": \"fp_0ba0d124f1\",\n",
       "  \"usage\": {\n",
       "    \"completion_tokens\": 78,\n",
       "    \"completion_tokens_details\": {\n",
       "      \"accepted_prediction_tokens\": 0,\n",
       "      \"audio_tokens\": 0,\n",
       "      \"reasoning_tokens\": 0,\n",
       "      \"rejected_prediction_tokens\": 0\n",
       "    },\n",
       "    \"prompt_tokens\": 55133,\n",
       "    \"prompt_tokens_details\": {\n",
       "      \"audio_tokens\": 0,\n",
       "      \"cached_tokens\": 0\n",
       "    },\n",
       "    \"total_tokens\": 55211\n",
       "  }\n",
       "}"
      ]
     },
     "execution_count": 64,
     "metadata": {},
     "output_type": "execute_result"
    }
   ],
   "source": [
    "response"
   ]
  },
  {
   "cell_type": "markdown",
   "id": "e492f6d4",
   "metadata": {},
   "source": [
    "## May"
   ]
  },
  {
   "cell_type": "code",
   "execution_count": 65,
   "id": "f38b435e",
   "metadata": {
    "scrolled": true,
    "tags": []
   },
   "outputs": [
    {
     "name": "stdout",
     "output_type": "stream",
     "text": [
      "<class 'pandas.core.frame.DataFrame'>\n",
      "RangeIndex: 4588 entries, 0 to 4587\n",
      "Data columns (total 53 columns):\n",
      " #   Column                  Non-Null Count  Dtype  \n",
      "---  ------                  --------------  -----  \n",
      " 0   index                   4588 non-null   int64  \n",
      " 1   LocationCode            4588 non-null   object \n",
      " 2   LocationName            4588 non-null   object \n",
      " 3   StatesCode              4588 non-null   object \n",
      " 4   ...4                    4588 non-null   int64  \n",
      " 5   id                      4588 non-null   float64\n",
      " 6   text                    4588 non-null   object \n",
      " 7   label                   4588 non-null   object \n",
      " 8   in_reply_to_status_id   323 non-null    float64\n",
      " 9   in_reply_to_user_id     375 non-null    float64\n",
      " 10  quoted_user_id          133 non-null    float64\n",
      " 11  quoted_status_id        133 non-null    float64\n",
      " 12  retweeted_user_id       583 non-null    float64\n",
      " 13  retweeted_status_id     583 non-null    float64\n",
      " 14  created_at              4588 non-null   object \n",
      " 15  entities.user_mentions  1089 non-null   object \n",
      " 16  user.id                 4588 non-null   float64\n",
      " 17  user.screen_name        4588 non-null   object \n",
      " 18  user.name               4588 non-null   object \n",
      " 19  user.description        4059 non-null   object \n",
      " 20  user.timezone           0 non-null      float64\n",
      " 21  user.location           4422 non-null   object \n",
      " 22  user.num_followers      4588 non-null   int64  \n",
      " 23  user.num_following      4588 non-null   int64  \n",
      " 24  user.created_at         4588 non-null   object \n",
      " 25  user.statuses_count     4588 non-null   int64  \n",
      " 26  user.is_verified        4588 non-null   bool   \n",
      " 27  lang                    4588 non-null   object \n",
      " 28  token_count             4588 non-null   int64  \n",
      " 29  is_retweet              4588 non-null   bool   \n",
      " 30  has_quote               4588 non-null   bool   \n",
      " 31  is_reply                4588 non-null   bool   \n",
      " 32  contains_keywords       4588 non-null   bool   \n",
      " 33  longitude               4588 non-null   float64\n",
      " 34  latitude                4588 non-null   float64\n",
      " 35  country_code            4588 non-null   object \n",
      " 36  geoname_id              3732 non-null   float64\n",
      " 37  location_type           4588 non-null   object \n",
      " 38  geo_type                4588 non-null   int64  \n",
      " 39  region                  4588 non-null   object \n",
      " 40  subregion               4588 non-null   object \n",
      " 41  num_quotes              4588 non-null   int64  \n",
      " 42  num_replies             4588 non-null   int64  \n",
      " 43  num_retweets            4588 non-null   int64  \n",
      " 44  sent_gpt                4588 non-null   object \n",
      " 45  gpt_sent_presence       4588 non-null   int64  \n",
      " 46  cleaned_text_lem        4588 non-null   object \n",
      " 47  cleaned_text            4588 non-null   object \n",
      " 48  month                   4588 non-null   int64  \n",
      " 49  year                    4588 non-null   int64  \n",
      " 50  week                    4588 non-null   int64  \n",
      " 51  year_month              4588 non-null   object \n",
      " 52  year_week               4588 non-null   object \n",
      "dtypes: bool(5), float64(12), int64(14), object(22)\n",
      "memory usage: 1.7+ MB\n"
     ]
    }
   ],
   "source": [
    "# Get monthly data\n",
    "df_2016_05_neg = pd.read_csv('../data/local/df_neg_2016-05.csv').reset_index()\n",
    "df_2016_05_neg.info()"
   ]
  },
  {
   "cell_type": "markdown",
   "id": "67e6748f",
   "metadata": {},
   "source": [
    "### Representative sample based on week and location"
   ]
  },
  {
   "cell_type": "code",
   "execution_count": 66,
   "id": "744659bb",
   "metadata": {},
   "outputs": [
    {
     "data": {
      "text/html": [
       "<div>\n",
       "<style scoped>\n",
       "    .dataframe tbody tr th:only-of-type {\n",
       "        vertical-align: middle;\n",
       "    }\n",
       "\n",
       "    .dataframe tbody tr th {\n",
       "        vertical-align: top;\n",
       "    }\n",
       "\n",
       "    .dataframe thead th {\n",
       "        text-align: right;\n",
       "    }\n",
       "</style>\n",
       "<table border=\"1\" class=\"dataframe\">\n",
       "  <thead>\n",
       "    <tr style=\"text-align: right;\">\n",
       "      <th></th>\n",
       "      <th>year_week</th>\n",
       "      <th>LocationName</th>\n",
       "      <th>group_size</th>\n",
       "      <th>proportion</th>\n",
       "    </tr>\n",
       "  </thead>\n",
       "  <tbody>\n",
       "    <tr>\n",
       "      <th>0</th>\n",
       "      <td>2016-w18</td>\n",
       "      <td>Acre</td>\n",
       "      <td>1</td>\n",
       "      <td>0.000218</td>\n",
       "    </tr>\n",
       "    <tr>\n",
       "      <th>1</th>\n",
       "      <td>2016-w18</td>\n",
       "      <td>Alagoas</td>\n",
       "      <td>6</td>\n",
       "      <td>0.001308</td>\n",
       "    </tr>\n",
       "    <tr>\n",
       "      <th>2</th>\n",
       "      <td>2016-w18</td>\n",
       "      <td>Amapa</td>\n",
       "      <td>8</td>\n",
       "      <td>0.001744</td>\n",
       "    </tr>\n",
       "    <tr>\n",
       "      <th>3</th>\n",
       "      <td>2016-w18</td>\n",
       "      <td>Amazonas</td>\n",
       "      <td>17</td>\n",
       "      <td>0.003705</td>\n",
       "    </tr>\n",
       "    <tr>\n",
       "      <th>4</th>\n",
       "      <td>2016-w18</td>\n",
       "      <td>Bahia</td>\n",
       "      <td>65</td>\n",
       "      <td>0.014167</td>\n",
       "    </tr>\n",
       "    <tr>\n",
       "      <th>...</th>\n",
       "      <td>...</td>\n",
       "      <td>...</td>\n",
       "      <td>...</td>\n",
       "      <td>...</td>\n",
       "    </tr>\n",
       "    <tr>\n",
       "      <th>111</th>\n",
       "      <td>2016-w22</td>\n",
       "      <td>Roraima</td>\n",
       "      <td>1</td>\n",
       "      <td>0.000218</td>\n",
       "    </tr>\n",
       "    <tr>\n",
       "      <th>112</th>\n",
       "      <td>2016-w22</td>\n",
       "      <td>Santa Catarina</td>\n",
       "      <td>9</td>\n",
       "      <td>0.001962</td>\n",
       "    </tr>\n",
       "    <tr>\n",
       "      <th>113</th>\n",
       "      <td>2016-w22</td>\n",
       "      <td>Sao Paulo</td>\n",
       "      <td>61</td>\n",
       "      <td>0.013296</td>\n",
       "    </tr>\n",
       "    <tr>\n",
       "      <th>114</th>\n",
       "      <td>2016-w22</td>\n",
       "      <td>Sergipe</td>\n",
       "      <td>1</td>\n",
       "      <td>0.000218</td>\n",
       "    </tr>\n",
       "    <tr>\n",
       "      <th>115</th>\n",
       "      <td>2016-w22</td>\n",
       "      <td>Tocantins</td>\n",
       "      <td>1</td>\n",
       "      <td>0.000218</td>\n",
       "    </tr>\n",
       "  </tbody>\n",
       "</table>\n",
       "<p>116 rows × 4 columns</p>\n",
       "</div>"
      ],
      "text/plain": [
       "    year_week    LocationName  group_size  proportion\n",
       "0    2016-w18            Acre           1    0.000218\n",
       "1    2016-w18         Alagoas           6    0.001308\n",
       "2    2016-w18           Amapa           8    0.001744\n",
       "3    2016-w18        Amazonas          17    0.003705\n",
       "4    2016-w18           Bahia          65    0.014167\n",
       "..        ...             ...         ...         ...\n",
       "111  2016-w22         Roraima           1    0.000218\n",
       "112  2016-w22  Santa Catarina           9    0.001962\n",
       "113  2016-w22       Sao Paulo          61    0.013296\n",
       "114  2016-w22         Sergipe           1    0.000218\n",
       "115  2016-w22       Tocantins           1    0.000218\n",
       "\n",
       "[116 rows x 4 columns]"
      ]
     },
     "execution_count": 66,
     "metadata": {},
     "output_type": "execute_result"
    }
   ],
   "source": [
    "# Step 1: Calculate the size of each group (year_week, LocationName)\n",
    "group_sizes = df_2016_05_neg.groupby(['year_week', 'LocationName']).size().reset_index(name='group_size')\n",
    "\n",
    "# Step 2: Calculate the proportion of each group in the dataset\n",
    "total_rows = len(df_2016_05_neg)\n",
    "group_sizes['proportion'] = group_sizes['group_size'] / total_rows\n",
    "group_sizes"
   ]
  },
  {
   "cell_type": "code",
   "execution_count": 67,
   "id": "eccffc5e",
   "metadata": {},
   "outputs": [
    {
     "data": {
      "text/html": [
       "<div>\n",
       "<style scoped>\n",
       "    .dataframe tbody tr th:only-of-type {\n",
       "        vertical-align: middle;\n",
       "    }\n",
       "\n",
       "    .dataframe tbody tr th {\n",
       "        vertical-align: top;\n",
       "    }\n",
       "\n",
       "    .dataframe thead th {\n",
       "        text-align: right;\n",
       "    }\n",
       "</style>\n",
       "<table border=\"1\" class=\"dataframe\">\n",
       "  <thead>\n",
       "    <tr style=\"text-align: right;\">\n",
       "      <th></th>\n",
       "      <th>year_week</th>\n",
       "      <th>LocationName</th>\n",
       "      <th>group_size</th>\n",
       "      <th>proportion</th>\n",
       "      <th>sample_size</th>\n",
       "    </tr>\n",
       "  </thead>\n",
       "  <tbody>\n",
       "    <tr>\n",
       "      <th>0</th>\n",
       "      <td>2016-w18</td>\n",
       "      <td>Acre</td>\n",
       "      <td>1</td>\n",
       "      <td>0.000218</td>\n",
       "      <td>0</td>\n",
       "    </tr>\n",
       "    <tr>\n",
       "      <th>1</th>\n",
       "      <td>2016-w18</td>\n",
       "      <td>Alagoas</td>\n",
       "      <td>6</td>\n",
       "      <td>0.001308</td>\n",
       "      <td>3</td>\n",
       "    </tr>\n",
       "    <tr>\n",
       "      <th>2</th>\n",
       "      <td>2016-w18</td>\n",
       "      <td>Amapa</td>\n",
       "      <td>8</td>\n",
       "      <td>0.001744</td>\n",
       "      <td>4</td>\n",
       "    </tr>\n",
       "    <tr>\n",
       "      <th>3</th>\n",
       "      <td>2016-w18</td>\n",
       "      <td>Amazonas</td>\n",
       "      <td>17</td>\n",
       "      <td>0.003705</td>\n",
       "      <td>9</td>\n",
       "    </tr>\n",
       "    <tr>\n",
       "      <th>4</th>\n",
       "      <td>2016-w18</td>\n",
       "      <td>Bahia</td>\n",
       "      <td>65</td>\n",
       "      <td>0.014167</td>\n",
       "      <td>34</td>\n",
       "    </tr>\n",
       "    <tr>\n",
       "      <th>...</th>\n",
       "      <td>...</td>\n",
       "      <td>...</td>\n",
       "      <td>...</td>\n",
       "      <td>...</td>\n",
       "      <td>...</td>\n",
       "    </tr>\n",
       "    <tr>\n",
       "      <th>111</th>\n",
       "      <td>2016-w22</td>\n",
       "      <td>Roraima</td>\n",
       "      <td>1</td>\n",
       "      <td>0.000218</td>\n",
       "      <td>0</td>\n",
       "    </tr>\n",
       "    <tr>\n",
       "      <th>112</th>\n",
       "      <td>2016-w22</td>\n",
       "      <td>Santa Catarina</td>\n",
       "      <td>9</td>\n",
       "      <td>0.001962</td>\n",
       "      <td>4</td>\n",
       "    </tr>\n",
       "    <tr>\n",
       "      <th>113</th>\n",
       "      <td>2016-w22</td>\n",
       "      <td>Sao Paulo</td>\n",
       "      <td>61</td>\n",
       "      <td>0.013296</td>\n",
       "      <td>32</td>\n",
       "    </tr>\n",
       "    <tr>\n",
       "      <th>114</th>\n",
       "      <td>2016-w22</td>\n",
       "      <td>Sergipe</td>\n",
       "      <td>1</td>\n",
       "      <td>0.000218</td>\n",
       "      <td>0</td>\n",
       "    </tr>\n",
       "    <tr>\n",
       "      <th>115</th>\n",
       "      <td>2016-w22</td>\n",
       "      <td>Tocantins</td>\n",
       "      <td>1</td>\n",
       "      <td>0.000218</td>\n",
       "      <td>0</td>\n",
       "    </tr>\n",
       "  </tbody>\n",
       "</table>\n",
       "<p>116 rows × 5 columns</p>\n",
       "</div>"
      ],
      "text/plain": [
       "    year_week    LocationName  group_size  proportion  sample_size\n",
       "0    2016-w18            Acre           1    0.000218            0\n",
       "1    2016-w18         Alagoas           6    0.001308            3\n",
       "2    2016-w18           Amapa           8    0.001744            4\n",
       "3    2016-w18        Amazonas          17    0.003705            9\n",
       "4    2016-w18           Bahia          65    0.014167           34\n",
       "..        ...             ...         ...         ...          ...\n",
       "111  2016-w22         Roraima           1    0.000218            0\n",
       "112  2016-w22  Santa Catarina           9    0.001962            4\n",
       "113  2016-w22       Sao Paulo          61    0.013296           32\n",
       "114  2016-w22         Sergipe           1    0.000218            0\n",
       "115  2016-w22       Tocantins           1    0.000218            0\n",
       "\n",
       "[116 rows x 5 columns]"
      ]
     },
     "execution_count": 67,
     "metadata": {},
     "output_type": "execute_result"
    }
   ],
   "source": [
    "# Step 3: Define the target sample size\n",
    "target_sample_size = 2450\n",
    "\n",
    "# Step 4: Calculate the sample size for each group (based on its proportion)\n",
    "group_sizes['sample_size'] = np.floor(group_sizes['proportion'] * target_sample_size).astype(int)\n",
    "group_sizes"
   ]
  },
  {
   "cell_type": "code",
   "execution_count": 68,
   "id": "1f16b08e",
   "metadata": {},
   "outputs": [],
   "source": [
    "# Step 5: Merge this sample size information back to the original DataFrame\n",
    "df_2016_05_neg_sample_size = pd.merge(df_2016_05_neg, group_sizes[['year_week', 'LocationName', 'sample_size']], \n",
    "                               on=['year_week', 'LocationName'], how='left')"
   ]
  },
  {
   "cell_type": "code",
   "execution_count": 69,
   "id": "6ec4f741",
   "metadata": {},
   "outputs": [
    {
     "name": "stdout",
     "output_type": "stream",
     "text": [
      "Sampled 2398 rows.\n"
     ]
    }
   ],
   "source": [
    "# Step 6: Perform the stratified sampling\n",
    "df_2016_05_neg_sample = df_2016_05_neg_sample_size.groupby(['year_week', 'LocationName']).apply(\n",
    "    lambda group: group.sample(n=group['sample_size'].iloc[0], random_state=42)\n",
    ").reset_index(drop=True)\n",
    "\n",
    "# Step 7: Check the result\n",
    "print(f\"Sampled {len(df_2016_05_neg_sample)} rows.\")\n"
   ]
  },
  {
   "cell_type": "code",
   "execution_count": 70,
   "id": "b861921a",
   "metadata": {},
   "outputs": [],
   "source": [
    "text_gpt_2016_05_neg = '\\n'.join(df_2016_05_neg_sample['text'].astype(str))"
   ]
  },
  {
   "cell_type": "markdown",
   "id": "a71ff6b0",
   "metadata": {},
   "source": [
    "### Prompts and loops"
   ]
  },
  {
   "cell_type": "code",
   "execution_count": 71,
   "id": "6e6a91ed",
   "metadata": {},
   "outputs": [],
   "source": [
    "prompt_5 = prompt_raw.replace('TWEETS', text_gpt_2016_05_neg)"
   ]
  },
  {
   "cell_type": "code",
   "execution_count": 72,
   "id": "14941427",
   "metadata": {
    "scrolled": false
   },
   "outputs": [],
   "source": [
    "response = openai.ChatCompletion.create(\n",
    "    model=\"gpt-4o-mini\",  \n",
    "    messages = [\n",
    "        {\"role\": \"user\", \"content\": prompt_5}\n",
    "    ],\n",
    "    max_tokens=400,  # Maximum number of tokens in the response\n",
    "    temperature=0.7  # Controls the randomness of the output\n",
    ")"
   ]
  },
  {
   "cell_type": "code",
   "execution_count": 73,
   "id": "d34b2bcc",
   "metadata": {},
   "outputs": [
    {
     "data": {
      "text/plain": [
       "'The text discusses various concerns and experiences related to vaccinations, particularly for the H1N1 flu and other vaccines. Many individuals express fear, anxiety, and physical discomfort after receiving vaccines, often highlighting pain in their arms and side effects. There are complaints about the lack of vaccine availability in health centers, dissatisfaction with government actions regarding vaccination campaigns, and criticism of prioritizing certain groups over others. Overall, the sentiments reflect frustration, fear of needles, and the societal issues surrounding vaccination accessibility.'"
      ]
     },
     "execution_count": 73,
     "metadata": {},
     "output_type": "execute_result"
    }
   ],
   "source": [
    "response.choices[0].message.content"
   ]
  },
  {
   "cell_type": "code",
   "execution_count": 74,
   "id": "f8f67be8",
   "metadata": {},
   "outputs": [],
   "source": [
    "#summary = []\n",
    "#dataset = []"
   ]
  },
  {
   "cell_type": "code",
   "execution_count": 75,
   "id": "0eb94e56",
   "metadata": {},
   "outputs": [],
   "source": [
    "dataset.append(\"2016_05_negitive\")"
   ]
  },
  {
   "cell_type": "code",
   "execution_count": 76,
   "id": "c9c68d6a",
   "metadata": {},
   "outputs": [],
   "source": [
    "summary.append(response.choices[0].message.content)"
   ]
  },
  {
   "cell_type": "code",
   "execution_count": 77,
   "id": "5716826b",
   "metadata": {
    "tags": []
   },
   "outputs": [
    {
     "name": "stdout",
     "output_type": "stream",
     "text": [
      "<class 'pandas.core.frame.DataFrame'>\n",
      "RangeIndex: 5 entries, 0 to 4\n",
      "Data columns (total 2 columns):\n",
      " #   Column   Non-Null Count  Dtype \n",
      "---  ------   --------------  ----- \n",
      " 0   dataset  5 non-null      object\n",
      " 1   summary  5 non-null      object\n",
      "dtypes: object(2)\n",
      "memory usage: 208.0+ bytes\n"
     ]
    }
   ],
   "source": [
    "df_2016_neg = pd.DataFrame(list(zip(dataset, summary)),\n",
    "                            columns = ['dataset', 'summary'])\n",
    "df_2016_neg.info()"
   ]
  },
  {
   "cell_type": "code",
   "execution_count": 78,
   "id": "8acf11d6",
   "metadata": {},
   "outputs": [
    {
     "data": {
      "text/html": [
       "<div>\n",
       "<style scoped>\n",
       "    .dataframe tbody tr th:only-of-type {\n",
       "        vertical-align: middle;\n",
       "    }\n",
       "\n",
       "    .dataframe tbody tr th {\n",
       "        vertical-align: top;\n",
       "    }\n",
       "\n",
       "    .dataframe thead th {\n",
       "        text-align: right;\n",
       "    }\n",
       "</style>\n",
       "<table border=\"1\" class=\"dataframe\">\n",
       "  <thead>\n",
       "    <tr style=\"text-align: right;\">\n",
       "      <th></th>\n",
       "      <th>dataset</th>\n",
       "      <th>summary</th>\n",
       "    </tr>\n",
       "  </thead>\n",
       "  <tbody>\n",
       "    <tr>\n",
       "      <th>0</th>\n",
       "      <td>2016_01_negitive</td>\n",
       "      <td>The sentences discuss various concerns and exp...</td>\n",
       "    </tr>\n",
       "    <tr>\n",
       "      <th>1</th>\n",
       "      <td>2016_02_negitive</td>\n",
       "      <td>The text discusses various concerns surroundin...</td>\n",
       "    </tr>\n",
       "    <tr>\n",
       "      <th>2</th>\n",
       "      <td>2016_03_negitive</td>\n",
       "      <td>The text discusses various opinions and experi...</td>\n",
       "    </tr>\n",
       "    <tr>\n",
       "      <th>3</th>\n",
       "      <td>2016_04_negitive</td>\n",
       "      <td>The text discusses various issues related to t...</td>\n",
       "    </tr>\n",
       "    <tr>\n",
       "      <th>4</th>\n",
       "      <td>2016_05_negitive</td>\n",
       "      <td>The text discusses various concerns and experi...</td>\n",
       "    </tr>\n",
       "  </tbody>\n",
       "</table>\n",
       "</div>"
      ],
      "text/plain": [
       "            dataset                                            summary\n",
       "0  2016_01_negitive  The sentences discuss various concerns and exp...\n",
       "1  2016_02_negitive  The text discusses various concerns surroundin...\n",
       "2  2016_03_negitive  The text discusses various opinions and experi...\n",
       "3  2016_04_negitive  The text discusses various issues related to t...\n",
       "4  2016_05_negitive  The text discusses various concerns and experi..."
      ]
     },
     "execution_count": 78,
     "metadata": {},
     "output_type": "execute_result"
    }
   ],
   "source": [
    "df_2016_neg.tail(14)"
   ]
  },
  {
   "cell_type": "code",
   "execution_count": 79,
   "id": "2c2b96e9",
   "metadata": {},
   "outputs": [
    {
     "data": {
      "text/plain": [
       "<OpenAIObject chat.completion id=chatcmpl-AUcy6F7OV3XJRttI1h2yJ1xItyoDU at 0x174dc999770> JSON: {\n",
       "  \"choices\": [\n",
       "    {\n",
       "      \"finish_reason\": \"stop\",\n",
       "      \"index\": 0,\n",
       "      \"logprobs\": null,\n",
       "      \"message\": {\n",
       "        \"content\": \"The text discusses various concerns and experiences related to vaccinations, particularly for the H1N1 flu and other vaccines. Many individuals express fear, anxiety, and physical discomfort after receiving vaccines, often highlighting pain in their arms and side effects. There are complaints about the lack of vaccine availability in health centers, dissatisfaction with government actions regarding vaccination campaigns, and criticism of prioritizing certain groups over others. Overall, the sentiments reflect frustration, fear of needles, and the societal issues surrounding vaccination accessibility.\",\n",
       "        \"refusal\": null,\n",
       "        \"role\": \"assistant\"\n",
       "      }\n",
       "    }\n",
       "  ],\n",
       "  \"created\": 1731862998,\n",
       "  \"id\": \"chatcmpl-AUcy6F7OV3XJRttI1h2yJ1xItyoDU\",\n",
       "  \"model\": \"gpt-4o-mini-2024-07-18\",\n",
       "  \"object\": \"chat.completion\",\n",
       "  \"system_fingerprint\": \"fp_0ba0d124f1\",\n",
       "  \"usage\": {\n",
       "    \"completion_tokens\": 97,\n",
       "    \"completion_tokens_details\": {\n",
       "      \"accepted_prediction_tokens\": 0,\n",
       "      \"audio_tokens\": 0,\n",
       "      \"reasoning_tokens\": 0,\n",
       "      \"rejected_prediction_tokens\": 0\n",
       "    },\n",
       "    \"prompt_tokens\": 49998,\n",
       "    \"prompt_tokens_details\": {\n",
       "      \"audio_tokens\": 0,\n",
       "      \"cached_tokens\": 0\n",
       "    },\n",
       "    \"total_tokens\": 50095\n",
       "  }\n",
       "}"
      ]
     },
     "execution_count": 79,
     "metadata": {},
     "output_type": "execute_result"
    }
   ],
   "source": [
    "response"
   ]
  },
  {
   "cell_type": "markdown",
   "id": "6756d045",
   "metadata": {},
   "source": [
    "## June"
   ]
  },
  {
   "cell_type": "code",
   "execution_count": 80,
   "id": "e994e0a9",
   "metadata": {
    "scrolled": true,
    "tags": []
   },
   "outputs": [
    {
     "name": "stdout",
     "output_type": "stream",
     "text": [
      "<class 'pandas.core.frame.DataFrame'>\n",
      "RangeIndex: 1244 entries, 0 to 1243\n",
      "Data columns (total 53 columns):\n",
      " #   Column                  Non-Null Count  Dtype  \n",
      "---  ------                  --------------  -----  \n",
      " 0   index                   1244 non-null   int64  \n",
      " 1   LocationCode            1244 non-null   object \n",
      " 2   LocationName            1244 non-null   object \n",
      " 3   StatesCode              1244 non-null   object \n",
      " 4   ...4                    1244 non-null   int64  \n",
      " 5   id                      1244 non-null   float64\n",
      " 6   text                    1244 non-null   object \n",
      " 7   label                   1244 non-null   object \n",
      " 8   in_reply_to_status_id   116 non-null    float64\n",
      " 9   in_reply_to_user_id     119 non-null    float64\n",
      " 10  quoted_user_id          30 non-null     float64\n",
      " 11  quoted_status_id        30 non-null     float64\n",
      " 12  retweeted_user_id       116 non-null    float64\n",
      " 13  retweeted_status_id     116 non-null    float64\n",
      " 14  created_at              1244 non-null   object \n",
      " 15  entities.user_mentions  266 non-null    object \n",
      " 16  user.id                 1244 non-null   float64\n",
      " 17  user.screen_name        1244 non-null   object \n",
      " 18  user.name               1244 non-null   object \n",
      " 19  user.description        1099 non-null   object \n",
      " 20  user.timezone           0 non-null      float64\n",
      " 21  user.location           1197 non-null   object \n",
      " 22  user.num_followers      1244 non-null   int64  \n",
      " 23  user.num_following      1244 non-null   int64  \n",
      " 24  user.created_at         1244 non-null   object \n",
      " 25  user.statuses_count     1244 non-null   int64  \n",
      " 26  user.is_verified        1244 non-null   bool   \n",
      " 27  lang                    1244 non-null   object \n",
      " 28  token_count             1244 non-null   int64  \n",
      " 29  is_retweet              1244 non-null   bool   \n",
      " 30  has_quote               1244 non-null   bool   \n",
      " 31  is_reply                1244 non-null   bool   \n",
      " 32  contains_keywords       1244 non-null   bool   \n",
      " 33  longitude               1244 non-null   float64\n",
      " 34  latitude                1244 non-null   float64\n",
      " 35  country_code            1244 non-null   object \n",
      " 36  geoname_id              1013 non-null   float64\n",
      " 37  location_type           1244 non-null   object \n",
      " 38  geo_type                1244 non-null   int64  \n",
      " 39  region                  1244 non-null   object \n",
      " 40  subregion               1244 non-null   object \n",
      " 41  num_quotes              1244 non-null   int64  \n",
      " 42  num_replies             1244 non-null   int64  \n",
      " 43  num_retweets            1244 non-null   int64  \n",
      " 44  sent_gpt                1244 non-null   object \n",
      " 45  gpt_sent_presence       1244 non-null   int64  \n",
      " 46  cleaned_text_lem        1244 non-null   object \n",
      " 47  cleaned_text            1244 non-null   object \n",
      " 48  month                   1244 non-null   int64  \n",
      " 49  year                    1244 non-null   int64  \n",
      " 50  week                    1244 non-null   int64  \n",
      " 51  year_month              1244 non-null   object \n",
      " 52  year_week               1244 non-null   object \n",
      "dtypes: bool(5), float64(12), int64(14), object(22)\n",
      "memory usage: 472.7+ KB\n"
     ]
    }
   ],
   "source": [
    "# Get monthly data\n",
    "df_2016_06_neg = pd.read_csv('../data/local/df_neg_2016-06.csv').reset_index()\n",
    "df_2016_06_neg.info()"
   ]
  },
  {
   "cell_type": "markdown",
   "id": "57bf0007",
   "metadata": {},
   "source": [
    "### Representative sample based on week and location"
   ]
  },
  {
   "cell_type": "code",
   "execution_count": 81,
   "id": "59042a70",
   "metadata": {},
   "outputs": [
    {
     "data": {
      "text/html": [
       "<div>\n",
       "<style scoped>\n",
       "    .dataframe tbody tr th:only-of-type {\n",
       "        vertical-align: middle;\n",
       "    }\n",
       "\n",
       "    .dataframe tbody tr th {\n",
       "        vertical-align: top;\n",
       "    }\n",
       "\n",
       "    .dataframe thead th {\n",
       "        text-align: right;\n",
       "    }\n",
       "</style>\n",
       "<table border=\"1\" class=\"dataframe\">\n",
       "  <thead>\n",
       "    <tr style=\"text-align: right;\">\n",
       "      <th></th>\n",
       "      <th>year_week</th>\n",
       "      <th>LocationName</th>\n",
       "      <th>group_size</th>\n",
       "      <th>proportion</th>\n",
       "    </tr>\n",
       "  </thead>\n",
       "  <tbody>\n",
       "    <tr>\n",
       "      <th>0</th>\n",
       "      <td>2016-w22</td>\n",
       "      <td>Amapa</td>\n",
       "      <td>2</td>\n",
       "      <td>0.001608</td>\n",
       "    </tr>\n",
       "    <tr>\n",
       "      <th>1</th>\n",
       "      <td>2016-w22</td>\n",
       "      <td>Amazonas</td>\n",
       "      <td>1</td>\n",
       "      <td>0.000804</td>\n",
       "    </tr>\n",
       "    <tr>\n",
       "      <th>2</th>\n",
       "      <td>2016-w22</td>\n",
       "      <td>Bahia</td>\n",
       "      <td>6</td>\n",
       "      <td>0.004823</td>\n",
       "    </tr>\n",
       "    <tr>\n",
       "      <th>3</th>\n",
       "      <td>2016-w22</td>\n",
       "      <td>Ceara</td>\n",
       "      <td>1</td>\n",
       "      <td>0.000804</td>\n",
       "    </tr>\n",
       "    <tr>\n",
       "      <th>4</th>\n",
       "      <td>2016-w22</td>\n",
       "      <td>Distrito Federal</td>\n",
       "      <td>6</td>\n",
       "      <td>0.004823</td>\n",
       "    </tr>\n",
       "    <tr>\n",
       "      <th>...</th>\n",
       "      <td>...</td>\n",
       "      <td>...</td>\n",
       "      <td>...</td>\n",
       "      <td>...</td>\n",
       "    </tr>\n",
       "    <tr>\n",
       "      <th>94</th>\n",
       "      <td>2016-w26</td>\n",
       "      <td>Rondonia</td>\n",
       "      <td>1</td>\n",
       "      <td>0.000804</td>\n",
       "    </tr>\n",
       "    <tr>\n",
       "      <th>95</th>\n",
       "      <td>2016-w26</td>\n",
       "      <td>Roraima</td>\n",
       "      <td>1</td>\n",
       "      <td>0.000804</td>\n",
       "    </tr>\n",
       "    <tr>\n",
       "      <th>96</th>\n",
       "      <td>2016-w26</td>\n",
       "      <td>Santa Catarina</td>\n",
       "      <td>7</td>\n",
       "      <td>0.005627</td>\n",
       "    </tr>\n",
       "    <tr>\n",
       "      <th>97</th>\n",
       "      <td>2016-w26</td>\n",
       "      <td>Sao Paulo</td>\n",
       "      <td>28</td>\n",
       "      <td>0.022508</td>\n",
       "    </tr>\n",
       "    <tr>\n",
       "      <th>98</th>\n",
       "      <td>2016-w26</td>\n",
       "      <td>Sergipe</td>\n",
       "      <td>1</td>\n",
       "      <td>0.000804</td>\n",
       "    </tr>\n",
       "  </tbody>\n",
       "</table>\n",
       "<p>99 rows × 4 columns</p>\n",
       "</div>"
      ],
      "text/plain": [
       "   year_week      LocationName  group_size  proportion\n",
       "0   2016-w22             Amapa           2    0.001608\n",
       "1   2016-w22          Amazonas           1    0.000804\n",
       "2   2016-w22             Bahia           6    0.004823\n",
       "3   2016-w22             Ceara           1    0.000804\n",
       "4   2016-w22  Distrito Federal           6    0.004823\n",
       "..       ...               ...         ...         ...\n",
       "94  2016-w26          Rondonia           1    0.000804\n",
       "95  2016-w26           Roraima           1    0.000804\n",
       "96  2016-w26    Santa Catarina           7    0.005627\n",
       "97  2016-w26         Sao Paulo          28    0.022508\n",
       "98  2016-w26           Sergipe           1    0.000804\n",
       "\n",
       "[99 rows x 4 columns]"
      ]
     },
     "execution_count": 81,
     "metadata": {},
     "output_type": "execute_result"
    }
   ],
   "source": [
    "# Step 1: Calculate the size of each group (year_week, LocationName)\n",
    "group_sizes = df_2016_06_neg.groupby(['year_week', 'LocationName']).size().reset_index(name='group_size')\n",
    "\n",
    "# Step 2: Calculate the proportion of each group in the dataset\n",
    "total_rows = len(df_2016_06_neg)\n",
    "group_sizes['proportion'] = group_sizes['group_size'] / total_rows\n",
    "group_sizes"
   ]
  },
  {
   "cell_type": "code",
   "execution_count": 82,
   "id": "371bde15",
   "metadata": {},
   "outputs": [
    {
     "data": {
      "text/html": [
       "<div>\n",
       "<style scoped>\n",
       "    .dataframe tbody tr th:only-of-type {\n",
       "        vertical-align: middle;\n",
       "    }\n",
       "\n",
       "    .dataframe tbody tr th {\n",
       "        vertical-align: top;\n",
       "    }\n",
       "\n",
       "    .dataframe thead th {\n",
       "        text-align: right;\n",
       "    }\n",
       "</style>\n",
       "<table border=\"1\" class=\"dataframe\">\n",
       "  <thead>\n",
       "    <tr style=\"text-align: right;\">\n",
       "      <th></th>\n",
       "      <th>year_week</th>\n",
       "      <th>LocationName</th>\n",
       "      <th>group_size</th>\n",
       "      <th>proportion</th>\n",
       "      <th>sample_size</th>\n",
       "    </tr>\n",
       "  </thead>\n",
       "  <tbody>\n",
       "    <tr>\n",
       "      <th>0</th>\n",
       "      <td>2016-w22</td>\n",
       "      <td>Amapa</td>\n",
       "      <td>2</td>\n",
       "      <td>0.001608</td>\n",
       "      <td>3</td>\n",
       "    </tr>\n",
       "    <tr>\n",
       "      <th>1</th>\n",
       "      <td>2016-w22</td>\n",
       "      <td>Amazonas</td>\n",
       "      <td>1</td>\n",
       "      <td>0.000804</td>\n",
       "      <td>1</td>\n",
       "    </tr>\n",
       "    <tr>\n",
       "      <th>2</th>\n",
       "      <td>2016-w22</td>\n",
       "      <td>Bahia</td>\n",
       "      <td>6</td>\n",
       "      <td>0.004823</td>\n",
       "      <td>11</td>\n",
       "    </tr>\n",
       "    <tr>\n",
       "      <th>3</th>\n",
       "      <td>2016-w22</td>\n",
       "      <td>Ceara</td>\n",
       "      <td>1</td>\n",
       "      <td>0.000804</td>\n",
       "      <td>1</td>\n",
       "    </tr>\n",
       "    <tr>\n",
       "      <th>4</th>\n",
       "      <td>2016-w22</td>\n",
       "      <td>Distrito Federal</td>\n",
       "      <td>6</td>\n",
       "      <td>0.004823</td>\n",
       "      <td>11</td>\n",
       "    </tr>\n",
       "    <tr>\n",
       "      <th>...</th>\n",
       "      <td>...</td>\n",
       "      <td>...</td>\n",
       "      <td>...</td>\n",
       "      <td>...</td>\n",
       "      <td>...</td>\n",
       "    </tr>\n",
       "    <tr>\n",
       "      <th>94</th>\n",
       "      <td>2016-w26</td>\n",
       "      <td>Rondonia</td>\n",
       "      <td>1</td>\n",
       "      <td>0.000804</td>\n",
       "      <td>1</td>\n",
       "    </tr>\n",
       "    <tr>\n",
       "      <th>95</th>\n",
       "      <td>2016-w26</td>\n",
       "      <td>Roraima</td>\n",
       "      <td>1</td>\n",
       "      <td>0.000804</td>\n",
       "      <td>1</td>\n",
       "    </tr>\n",
       "    <tr>\n",
       "      <th>96</th>\n",
       "      <td>2016-w26</td>\n",
       "      <td>Santa Catarina</td>\n",
       "      <td>7</td>\n",
       "      <td>0.005627</td>\n",
       "      <td>13</td>\n",
       "    </tr>\n",
       "    <tr>\n",
       "      <th>97</th>\n",
       "      <td>2016-w26</td>\n",
       "      <td>Sao Paulo</td>\n",
       "      <td>28</td>\n",
       "      <td>0.022508</td>\n",
       "      <td>55</td>\n",
       "    </tr>\n",
       "    <tr>\n",
       "      <th>98</th>\n",
       "      <td>2016-w26</td>\n",
       "      <td>Sergipe</td>\n",
       "      <td>1</td>\n",
       "      <td>0.000804</td>\n",
       "      <td>1</td>\n",
       "    </tr>\n",
       "  </tbody>\n",
       "</table>\n",
       "<p>99 rows × 5 columns</p>\n",
       "</div>"
      ],
      "text/plain": [
       "   year_week      LocationName  group_size  proportion  sample_size\n",
       "0   2016-w22             Amapa           2    0.001608            3\n",
       "1   2016-w22          Amazonas           1    0.000804            1\n",
       "2   2016-w22             Bahia           6    0.004823           11\n",
       "3   2016-w22             Ceara           1    0.000804            1\n",
       "4   2016-w22  Distrito Federal           6    0.004823           11\n",
       "..       ...               ...         ...         ...          ...\n",
       "94  2016-w26          Rondonia           1    0.000804            1\n",
       "95  2016-w26           Roraima           1    0.000804            1\n",
       "96  2016-w26    Santa Catarina           7    0.005627           13\n",
       "97  2016-w26         Sao Paulo          28    0.022508           55\n",
       "98  2016-w26           Sergipe           1    0.000804            1\n",
       "\n",
       "[99 rows x 5 columns]"
      ]
     },
     "execution_count": 82,
     "metadata": {},
     "output_type": "execute_result"
    }
   ],
   "source": [
    "# Step 3: Define the target sample size\n",
    "target_sample_size = 2450\n",
    "\n",
    "# Step 4: Calculate the sample size for each group (based on its proportion)\n",
    "group_sizes['sample_size'] = np.floor(group_sizes['proportion'] * target_sample_size).astype(int)\n",
    "group_sizes"
   ]
  },
  {
   "cell_type": "code",
   "execution_count": 83,
   "id": "63e28728",
   "metadata": {},
   "outputs": [],
   "source": [
    "# Step 5: Merge this sample size information back to the original DataFrame\n",
    "df_2016_06_neg_sample_size = pd.merge(df_2016_06_neg, group_sizes[['year_week', 'LocationName', 'sample_size']], \n",
    "                               on=['year_week', 'LocationName'], how='left')"
   ]
  },
  {
   "cell_type": "code",
   "execution_count": 85,
   "id": "d929406c",
   "metadata": {},
   "outputs": [
    {
     "name": "stdout",
     "output_type": "stream",
     "text": [
      "Sampled 1244 rows.\n"
     ]
    }
   ],
   "source": [
    "# Step 6: Perform the stratified sampling\n",
    "#df_2016_06_neg_sample = df_2016_06_neg_sample_size.groupby(['year_week', 'LocationName']).apply(\n",
    " #   lambda group: group.sample(n=group['sample_size'].iloc[0], random_state=42)\n",
    "#).reset_index(drop=True)\n",
    "df_2016_06_neg_sample = df_2016_06_neg\n",
    "# Step 7: Check the result\n",
    "print(f\"Sampled {len(df_2016_06_neg_sample)} rows.\")\n"
   ]
  },
  {
   "cell_type": "code",
   "execution_count": 86,
   "id": "e9aa1932",
   "metadata": {},
   "outputs": [],
   "source": [
    "text_gpt_2016_06_neg = '\\n'.join(df_2016_06_neg_sample['text'].astype(str))"
   ]
  },
  {
   "cell_type": "markdown",
   "id": "1f2f44e4",
   "metadata": {},
   "source": [
    "### Prompts and loops"
   ]
  },
  {
   "cell_type": "code",
   "execution_count": 87,
   "id": "2faa24e8",
   "metadata": {},
   "outputs": [],
   "source": [
    "prompt_6 = prompt_raw.replace('TWEETS', text_gpt_2016_06_neg)"
   ]
  },
  {
   "cell_type": "code",
   "execution_count": 88,
   "id": "bc6051bc",
   "metadata": {
    "scrolled": false
   },
   "outputs": [],
   "source": [
    "response = openai.ChatCompletion.create(\n",
    "    model=\"gpt-4o-mini\",  \n",
    "    messages = [\n",
    "        {\"role\": \"user\", \"content\": prompt_6}\n",
    "    ],\n",
    "    max_tokens=400,  # Maximum number of tokens in the response\n",
    "    temperature=0.7  # Controls the randomness of the output\n",
    ")"
   ]
  },
  {
   "cell_type": "code",
   "execution_count": 89,
   "id": "71cfa37a",
   "metadata": {},
   "outputs": [
    {
     "data": {
      "text/plain": [
       "'The text discusses various opinions and experiences related to vaccinations, particularly in Brazil. Many express fear, pain, and frustration associated with getting vaccinated, often highlighting side effects and feeling unwell afterward. There are also concerns about the availability of vaccines, particularly in Acre, which has the lowest vaccination coverage for influenza in the country. Some comments reflect a distrust of vaccines and the healthcare system, while others emphasize the necessity of vaccination for public health.'"
      ]
     },
     "execution_count": 89,
     "metadata": {},
     "output_type": "execute_result"
    }
   ],
   "source": [
    "response.choices[0].message.content"
   ]
  },
  {
   "cell_type": "code",
   "execution_count": 90,
   "id": "e05c6917",
   "metadata": {},
   "outputs": [],
   "source": [
    "#summary = []\n",
    "#dataset = []"
   ]
  },
  {
   "cell_type": "code",
   "execution_count": 91,
   "id": "a222eb1f",
   "metadata": {},
   "outputs": [],
   "source": [
    "dataset.append(\"2016_06_negitive\")"
   ]
  },
  {
   "cell_type": "code",
   "execution_count": 92,
   "id": "16cc4629",
   "metadata": {},
   "outputs": [],
   "source": [
    "summary.append(response.choices[0].message.content)"
   ]
  },
  {
   "cell_type": "code",
   "execution_count": 93,
   "id": "06ae8742",
   "metadata": {
    "tags": []
   },
   "outputs": [
    {
     "name": "stdout",
     "output_type": "stream",
     "text": [
      "<class 'pandas.core.frame.DataFrame'>\n",
      "RangeIndex: 6 entries, 0 to 5\n",
      "Data columns (total 2 columns):\n",
      " #   Column   Non-Null Count  Dtype \n",
      "---  ------   --------------  ----- \n",
      " 0   dataset  6 non-null      object\n",
      " 1   summary  6 non-null      object\n",
      "dtypes: object(2)\n",
      "memory usage: 224.0+ bytes\n"
     ]
    }
   ],
   "source": [
    "df_2016_neg = pd.DataFrame(list(zip(dataset, summary)),\n",
    "                            columns = ['dataset', 'summary'])\n",
    "df_2016_neg.info()"
   ]
  },
  {
   "cell_type": "code",
   "execution_count": 94,
   "id": "116b4d78",
   "metadata": {},
   "outputs": [
    {
     "data": {
      "text/html": [
       "<div>\n",
       "<style scoped>\n",
       "    .dataframe tbody tr th:only-of-type {\n",
       "        vertical-align: middle;\n",
       "    }\n",
       "\n",
       "    .dataframe tbody tr th {\n",
       "        vertical-align: top;\n",
       "    }\n",
       "\n",
       "    .dataframe thead th {\n",
       "        text-align: right;\n",
       "    }\n",
       "</style>\n",
       "<table border=\"1\" class=\"dataframe\">\n",
       "  <thead>\n",
       "    <tr style=\"text-align: right;\">\n",
       "      <th></th>\n",
       "      <th>dataset</th>\n",
       "      <th>summary</th>\n",
       "    </tr>\n",
       "  </thead>\n",
       "  <tbody>\n",
       "    <tr>\n",
       "      <th>0</th>\n",
       "      <td>2016_01_negitive</td>\n",
       "      <td>The sentences discuss various concerns and exp...</td>\n",
       "    </tr>\n",
       "    <tr>\n",
       "      <th>1</th>\n",
       "      <td>2016_02_negitive</td>\n",
       "      <td>The text discusses various concerns surroundin...</td>\n",
       "    </tr>\n",
       "    <tr>\n",
       "      <th>2</th>\n",
       "      <td>2016_03_negitive</td>\n",
       "      <td>The text discusses various opinions and experi...</td>\n",
       "    </tr>\n",
       "    <tr>\n",
       "      <th>3</th>\n",
       "      <td>2016_04_negitive</td>\n",
       "      <td>The text discusses various issues related to t...</td>\n",
       "    </tr>\n",
       "    <tr>\n",
       "      <th>4</th>\n",
       "      <td>2016_05_negitive</td>\n",
       "      <td>The text discusses various concerns and experi...</td>\n",
       "    </tr>\n",
       "    <tr>\n",
       "      <th>5</th>\n",
       "      <td>2016_06_negitive</td>\n",
       "      <td>The text discusses various opinions and experi...</td>\n",
       "    </tr>\n",
       "  </tbody>\n",
       "</table>\n",
       "</div>"
      ],
      "text/plain": [
       "            dataset                                            summary\n",
       "0  2016_01_negitive  The sentences discuss various concerns and exp...\n",
       "1  2016_02_negitive  The text discusses various concerns surroundin...\n",
       "2  2016_03_negitive  The text discusses various opinions and experi...\n",
       "3  2016_04_negitive  The text discusses various issues related to t...\n",
       "4  2016_05_negitive  The text discusses various concerns and experi...\n",
       "5  2016_06_negitive  The text discusses various opinions and experi..."
      ]
     },
     "execution_count": 94,
     "metadata": {},
     "output_type": "execute_result"
    }
   ],
   "source": [
    "df_2016_neg.tail(14)"
   ]
  },
  {
   "cell_type": "code",
   "execution_count": 95,
   "id": "7668e23f",
   "metadata": {},
   "outputs": [
    {
     "data": {
      "text/plain": [
       "<OpenAIObject chat.completion id=chatcmpl-AUd0kNuGhXLYsLnps5hCg2FkcDUkz at 0x174dceb0bd0> JSON: {\n",
       "  \"choices\": [\n",
       "    {\n",
       "      \"finish_reason\": \"stop\",\n",
       "      \"index\": 0,\n",
       "      \"logprobs\": null,\n",
       "      \"message\": {\n",
       "        \"content\": \"The text discusses various opinions and experiences related to vaccinations, particularly in Brazil. Many express fear, pain, and frustration associated with getting vaccinated, often highlighting side effects and feeling unwell afterward. There are also concerns about the availability of vaccines, particularly in Acre, which has the lowest vaccination coverage for influenza in the country. Some comments reflect a distrust of vaccines and the healthcare system, while others emphasize the necessity of vaccination for public health.\",\n",
       "        \"refusal\": null,\n",
       "        \"role\": \"assistant\"\n",
       "      }\n",
       "    }\n",
       "  ],\n",
       "  \"created\": 1731863162,\n",
       "  \"id\": \"chatcmpl-AUd0kNuGhXLYsLnps5hCg2FkcDUkz\",\n",
       "  \"model\": \"gpt-4o-mini-2024-07-18\",\n",
       "  \"object\": \"chat.completion\",\n",
       "  \"system_fingerprint\": \"fp_0ba0d124f1\",\n",
       "  \"usage\": {\n",
       "    \"completion_tokens\": 87,\n",
       "    \"completion_tokens_details\": {\n",
       "      \"accepted_prediction_tokens\": 0,\n",
       "      \"audio_tokens\": 0,\n",
       "      \"reasoning_tokens\": 0,\n",
       "      \"rejected_prediction_tokens\": 0\n",
       "    },\n",
       "    \"prompt_tokens\": 25989,\n",
       "    \"prompt_tokens_details\": {\n",
       "      \"audio_tokens\": 0,\n",
       "      \"cached_tokens\": 0\n",
       "    },\n",
       "    \"total_tokens\": 26076\n",
       "  }\n",
       "}"
      ]
     },
     "execution_count": 95,
     "metadata": {},
     "output_type": "execute_result"
    }
   ],
   "source": [
    "response"
   ]
  },
  {
   "cell_type": "markdown",
   "id": "1b5c5a9b",
   "metadata": {},
   "source": [
    "## July"
   ]
  },
  {
   "cell_type": "code",
   "execution_count": 96,
   "id": "5096b4ba",
   "metadata": {
    "scrolled": true,
    "tags": []
   },
   "outputs": [
    {
     "name": "stdout",
     "output_type": "stream",
     "text": [
      "<class 'pandas.core.frame.DataFrame'>\n",
      "RangeIndex: 1074 entries, 0 to 1073\n",
      "Data columns (total 53 columns):\n",
      " #   Column                  Non-Null Count  Dtype  \n",
      "---  ------                  --------------  -----  \n",
      " 0   index                   1074 non-null   int64  \n",
      " 1   LocationCode            1074 non-null   object \n",
      " 2   LocationName            1074 non-null   object \n",
      " 3   StatesCode              1074 non-null   object \n",
      " 4   ...4                    1074 non-null   int64  \n",
      " 5   id                      1074 non-null   float64\n",
      " 6   text                    1074 non-null   object \n",
      " 7   label                   1074 non-null   object \n",
      " 8   in_reply_to_status_id   95 non-null     float64\n",
      " 9   in_reply_to_user_id     99 non-null     float64\n",
      " 10  quoted_user_id          34 non-null     float64\n",
      " 11  quoted_status_id        34 non-null     float64\n",
      " 12  retweeted_user_id       140 non-null    float64\n",
      " 13  retweeted_status_id     140 non-null    float64\n",
      " 14  created_at              1074 non-null   object \n",
      " 15  entities.user_mentions  279 non-null    object \n",
      " 16  user.id                 1074 non-null   float64\n",
      " 17  user.screen_name        1074 non-null   object \n",
      " 18  user.name               1074 non-null   object \n",
      " 19  user.description        934 non-null    object \n",
      " 20  user.timezone           0 non-null      float64\n",
      " 21  user.location           1049 non-null   object \n",
      " 22  user.num_followers      1074 non-null   int64  \n",
      " 23  user.num_following      1074 non-null   int64  \n",
      " 24  user.created_at         1074 non-null   object \n",
      " 25  user.statuses_count     1074 non-null   int64  \n",
      " 26  user.is_verified        1074 non-null   bool   \n",
      " 27  lang                    1074 non-null   object \n",
      " 28  token_count             1074 non-null   int64  \n",
      " 29  is_retweet              1074 non-null   bool   \n",
      " 30  has_quote               1074 non-null   bool   \n",
      " 31  is_reply                1074 non-null   bool   \n",
      " 32  contains_keywords       1074 non-null   bool   \n",
      " 33  longitude               1074 non-null   float64\n",
      " 34  latitude                1074 non-null   float64\n",
      " 35  country_code            1074 non-null   object \n",
      " 36  geoname_id              902 non-null    float64\n",
      " 37  location_type           1074 non-null   object \n",
      " 38  geo_type                1074 non-null   int64  \n",
      " 39  region                  1074 non-null   object \n",
      " 40  subregion               1074 non-null   object \n",
      " 41  num_quotes              1074 non-null   int64  \n",
      " 42  num_replies             1074 non-null   int64  \n",
      " 43  num_retweets            1074 non-null   int64  \n",
      " 44  sent_gpt                1074 non-null   object \n",
      " 45  gpt_sent_presence       1074 non-null   int64  \n",
      " 46  cleaned_text_lem        1074 non-null   object \n",
      " 47  cleaned_text            1074 non-null   object \n",
      " 48  month                   1074 non-null   int64  \n",
      " 49  year                    1074 non-null   int64  \n",
      " 50  week                    1074 non-null   int64  \n",
      " 51  year_month              1074 non-null   object \n",
      " 52  year_week               1074 non-null   object \n",
      "dtypes: bool(5), float64(12), int64(14), object(22)\n",
      "memory usage: 408.1+ KB\n"
     ]
    }
   ],
   "source": [
    "# Get monthly data\n",
    "df_2016_07_neg = pd.read_csv('../data/local/df_neg_2016-07.csv').reset_index()\n",
    "df_2016_07_neg.info()"
   ]
  },
  {
   "cell_type": "markdown",
   "id": "bdd1752b",
   "metadata": {},
   "source": [
    "### Representative sample based on week and location"
   ]
  },
  {
   "cell_type": "code",
   "execution_count": 97,
   "id": "e62e79b6",
   "metadata": {},
   "outputs": [
    {
     "data": {
      "text/html": [
       "<div>\n",
       "<style scoped>\n",
       "    .dataframe tbody tr th:only-of-type {\n",
       "        vertical-align: middle;\n",
       "    }\n",
       "\n",
       "    .dataframe tbody tr th {\n",
       "        vertical-align: top;\n",
       "    }\n",
       "\n",
       "    .dataframe thead th {\n",
       "        text-align: right;\n",
       "    }\n",
       "</style>\n",
       "<table border=\"1\" class=\"dataframe\">\n",
       "  <thead>\n",
       "    <tr style=\"text-align: right;\">\n",
       "      <th></th>\n",
       "      <th>year_week</th>\n",
       "      <th>LocationName</th>\n",
       "      <th>group_size</th>\n",
       "      <th>proportion</th>\n",
       "    </tr>\n",
       "  </thead>\n",
       "  <tbody>\n",
       "    <tr>\n",
       "      <th>0</th>\n",
       "      <td>2016-w27</td>\n",
       "      <td>Alagoas</td>\n",
       "      <td>1</td>\n",
       "      <td>0.000931</td>\n",
       "    </tr>\n",
       "    <tr>\n",
       "      <th>1</th>\n",
       "      <td>2016-w27</td>\n",
       "      <td>Amapa</td>\n",
       "      <td>1</td>\n",
       "      <td>0.000931</td>\n",
       "    </tr>\n",
       "    <tr>\n",
       "      <th>2</th>\n",
       "      <td>2016-w27</td>\n",
       "      <td>Amazonas</td>\n",
       "      <td>5</td>\n",
       "      <td>0.004655</td>\n",
       "    </tr>\n",
       "    <tr>\n",
       "      <th>3</th>\n",
       "      <td>2016-w27</td>\n",
       "      <td>Bahia</td>\n",
       "      <td>18</td>\n",
       "      <td>0.016760</td>\n",
       "    </tr>\n",
       "    <tr>\n",
       "      <th>4</th>\n",
       "      <td>2016-w27</td>\n",
       "      <td>Ceara</td>\n",
       "      <td>1</td>\n",
       "      <td>0.000931</td>\n",
       "    </tr>\n",
       "    <tr>\n",
       "      <th>...</th>\n",
       "      <td>...</td>\n",
       "      <td>...</td>\n",
       "      <td>...</td>\n",
       "      <td>...</td>\n",
       "    </tr>\n",
       "    <tr>\n",
       "      <th>89</th>\n",
       "      <td>2016-w31</td>\n",
       "      <td>Roraima</td>\n",
       "      <td>2</td>\n",
       "      <td>0.001862</td>\n",
       "    </tr>\n",
       "    <tr>\n",
       "      <th>90</th>\n",
       "      <td>2016-w31</td>\n",
       "      <td>Santa Catarina</td>\n",
       "      <td>1</td>\n",
       "      <td>0.000931</td>\n",
       "    </tr>\n",
       "    <tr>\n",
       "      <th>91</th>\n",
       "      <td>2016-w31</td>\n",
       "      <td>Sao Paulo</td>\n",
       "      <td>23</td>\n",
       "      <td>0.021415</td>\n",
       "    </tr>\n",
       "    <tr>\n",
       "      <th>92</th>\n",
       "      <td>2016-w31</td>\n",
       "      <td>Sergipe</td>\n",
       "      <td>1</td>\n",
       "      <td>0.000931</td>\n",
       "    </tr>\n",
       "    <tr>\n",
       "      <th>93</th>\n",
       "      <td>2016-w31</td>\n",
       "      <td>Tocantins</td>\n",
       "      <td>2</td>\n",
       "      <td>0.001862</td>\n",
       "    </tr>\n",
       "  </tbody>\n",
       "</table>\n",
       "<p>94 rows × 4 columns</p>\n",
       "</div>"
      ],
      "text/plain": [
       "   year_week    LocationName  group_size  proportion\n",
       "0   2016-w27         Alagoas           1    0.000931\n",
       "1   2016-w27           Amapa           1    0.000931\n",
       "2   2016-w27        Amazonas           5    0.004655\n",
       "3   2016-w27           Bahia          18    0.016760\n",
       "4   2016-w27           Ceara           1    0.000931\n",
       "..       ...             ...         ...         ...\n",
       "89  2016-w31         Roraima           2    0.001862\n",
       "90  2016-w31  Santa Catarina           1    0.000931\n",
       "91  2016-w31       Sao Paulo          23    0.021415\n",
       "92  2016-w31         Sergipe           1    0.000931\n",
       "93  2016-w31       Tocantins           2    0.001862\n",
       "\n",
       "[94 rows x 4 columns]"
      ]
     },
     "execution_count": 97,
     "metadata": {},
     "output_type": "execute_result"
    }
   ],
   "source": [
    "# Step 1: Calculate the size of each group (year_week, LocationName)\n",
    "group_sizes = df_2016_07_neg.groupby(['year_week', 'LocationName']).size().reset_index(name='group_size')\n",
    "\n",
    "# Step 2: Calculate the proportion of each group in the dataset\n",
    "total_rows = len(df_2016_07_neg)\n",
    "group_sizes['proportion'] = group_sizes['group_size'] / total_rows\n",
    "group_sizes"
   ]
  },
  {
   "cell_type": "code",
   "execution_count": 98,
   "id": "97b60716",
   "metadata": {},
   "outputs": [
    {
     "data": {
      "text/html": [
       "<div>\n",
       "<style scoped>\n",
       "    .dataframe tbody tr th:only-of-type {\n",
       "        vertical-align: middle;\n",
       "    }\n",
       "\n",
       "    .dataframe tbody tr th {\n",
       "        vertical-align: top;\n",
       "    }\n",
       "\n",
       "    .dataframe thead th {\n",
       "        text-align: right;\n",
       "    }\n",
       "</style>\n",
       "<table border=\"1\" class=\"dataframe\">\n",
       "  <thead>\n",
       "    <tr style=\"text-align: right;\">\n",
       "      <th></th>\n",
       "      <th>year_week</th>\n",
       "      <th>LocationName</th>\n",
       "      <th>group_size</th>\n",
       "      <th>proportion</th>\n",
       "      <th>sample_size</th>\n",
       "    </tr>\n",
       "  </thead>\n",
       "  <tbody>\n",
       "    <tr>\n",
       "      <th>0</th>\n",
       "      <td>2016-w27</td>\n",
       "      <td>Alagoas</td>\n",
       "      <td>1</td>\n",
       "      <td>0.000931</td>\n",
       "      <td>2</td>\n",
       "    </tr>\n",
       "    <tr>\n",
       "      <th>1</th>\n",
       "      <td>2016-w27</td>\n",
       "      <td>Amapa</td>\n",
       "      <td>1</td>\n",
       "      <td>0.000931</td>\n",
       "      <td>2</td>\n",
       "    </tr>\n",
       "    <tr>\n",
       "      <th>2</th>\n",
       "      <td>2016-w27</td>\n",
       "      <td>Amazonas</td>\n",
       "      <td>5</td>\n",
       "      <td>0.004655</td>\n",
       "      <td>11</td>\n",
       "    </tr>\n",
       "    <tr>\n",
       "      <th>3</th>\n",
       "      <td>2016-w27</td>\n",
       "      <td>Bahia</td>\n",
       "      <td>18</td>\n",
       "      <td>0.016760</td>\n",
       "      <td>41</td>\n",
       "    </tr>\n",
       "    <tr>\n",
       "      <th>4</th>\n",
       "      <td>2016-w27</td>\n",
       "      <td>Ceara</td>\n",
       "      <td>1</td>\n",
       "      <td>0.000931</td>\n",
       "      <td>2</td>\n",
       "    </tr>\n",
       "    <tr>\n",
       "      <th>...</th>\n",
       "      <td>...</td>\n",
       "      <td>...</td>\n",
       "      <td>...</td>\n",
       "      <td>...</td>\n",
       "      <td>...</td>\n",
       "    </tr>\n",
       "    <tr>\n",
       "      <th>89</th>\n",
       "      <td>2016-w31</td>\n",
       "      <td>Roraima</td>\n",
       "      <td>2</td>\n",
       "      <td>0.001862</td>\n",
       "      <td>4</td>\n",
       "    </tr>\n",
       "    <tr>\n",
       "      <th>90</th>\n",
       "      <td>2016-w31</td>\n",
       "      <td>Santa Catarina</td>\n",
       "      <td>1</td>\n",
       "      <td>0.000931</td>\n",
       "      <td>2</td>\n",
       "    </tr>\n",
       "    <tr>\n",
       "      <th>91</th>\n",
       "      <td>2016-w31</td>\n",
       "      <td>Sao Paulo</td>\n",
       "      <td>23</td>\n",
       "      <td>0.021415</td>\n",
       "      <td>52</td>\n",
       "    </tr>\n",
       "    <tr>\n",
       "      <th>92</th>\n",
       "      <td>2016-w31</td>\n",
       "      <td>Sergipe</td>\n",
       "      <td>1</td>\n",
       "      <td>0.000931</td>\n",
       "      <td>2</td>\n",
       "    </tr>\n",
       "    <tr>\n",
       "      <th>93</th>\n",
       "      <td>2016-w31</td>\n",
       "      <td>Tocantins</td>\n",
       "      <td>2</td>\n",
       "      <td>0.001862</td>\n",
       "      <td>4</td>\n",
       "    </tr>\n",
       "  </tbody>\n",
       "</table>\n",
       "<p>94 rows × 5 columns</p>\n",
       "</div>"
      ],
      "text/plain": [
       "   year_week    LocationName  group_size  proportion  sample_size\n",
       "0   2016-w27         Alagoas           1    0.000931            2\n",
       "1   2016-w27           Amapa           1    0.000931            2\n",
       "2   2016-w27        Amazonas           5    0.004655           11\n",
       "3   2016-w27           Bahia          18    0.016760           41\n",
       "4   2016-w27           Ceara           1    0.000931            2\n",
       "..       ...             ...         ...         ...          ...\n",
       "89  2016-w31         Roraima           2    0.001862            4\n",
       "90  2016-w31  Santa Catarina           1    0.000931            2\n",
       "91  2016-w31       Sao Paulo          23    0.021415           52\n",
       "92  2016-w31         Sergipe           1    0.000931            2\n",
       "93  2016-w31       Tocantins           2    0.001862            4\n",
       "\n",
       "[94 rows x 5 columns]"
      ]
     },
     "execution_count": 98,
     "metadata": {},
     "output_type": "execute_result"
    }
   ],
   "source": [
    "# Step 3: Define the target sample size\n",
    "target_sample_size = 2450\n",
    "\n",
    "# Step 4: Calculate the sample size for each group (based on its proportion)\n",
    "group_sizes['sample_size'] = np.floor(group_sizes['proportion'] * target_sample_size).astype(int)\n",
    "group_sizes"
   ]
  },
  {
   "cell_type": "code",
   "execution_count": 99,
   "id": "4c991d80",
   "metadata": {},
   "outputs": [],
   "source": [
    "# Step 5: Merge this sample size information back to the original DataFrame\n",
    "df_2016_07_neg_sample_size = pd.merge(df_2016_07_neg, group_sizes[['year_week', 'LocationName', 'sample_size']], \n",
    "                               on=['year_week', 'LocationName'], how='left')"
   ]
  },
  {
   "cell_type": "code",
   "execution_count": 100,
   "id": "deab4678",
   "metadata": {},
   "outputs": [
    {
     "name": "stdout",
     "output_type": "stream",
     "text": [
      "Sampled 1074 rows.\n"
     ]
    }
   ],
   "source": [
    "# Step 6: Perform the stratified sampling\n",
    "#df_2016_07_neg_sample = df_2016_07_neg_sample_size.groupby(['year_week', 'LocationName']).apply(\n",
    "#    lambda group: group.sample(n=group['sample_size'].iloc[0], random_state=42)\n",
    "#).reset_index(drop=True)\n",
    "df_2016_07_neg_sample = df_2016_07_neg\n",
    "# Step 7: Check the result\n",
    "print(f\"Sampled {len(df_2016_07_neg_sample)} rows.\")\n"
   ]
  },
  {
   "cell_type": "code",
   "execution_count": 101,
   "id": "33656dea",
   "metadata": {},
   "outputs": [],
   "source": [
    "text_gpt_2016_07_neg = '\\n'.join(df_2016_07_neg_sample['text'].astype(str))"
   ]
  },
  {
   "cell_type": "markdown",
   "id": "92d7e0ea",
   "metadata": {},
   "source": [
    "### Prompts and loops"
   ]
  },
  {
   "cell_type": "code",
   "execution_count": 102,
   "id": "349334a9",
   "metadata": {},
   "outputs": [],
   "source": [
    "prompt_7 = prompt_raw.replace('TWEETS', text_gpt_2016_07_neg)"
   ]
  },
  {
   "cell_type": "code",
   "execution_count": 103,
   "id": "ff46a08b",
   "metadata": {
    "scrolled": false
   },
   "outputs": [],
   "source": [
    "response = openai.ChatCompletion.create(\n",
    "    model=\"gpt-4o-mini\",  \n",
    "    messages = [\n",
    "        {\"role\": \"user\", \"content\": prompt_7}\n",
    "    ],\n",
    "    max_tokens=400,  # Maximum number of tokens in the response\n",
    "    temperature=0.7  # Controls the randomness of the output\n",
    ")"
   ]
  },
  {
   "cell_type": "code",
   "execution_count": 104,
   "id": "6723c1d4",
   "metadata": {},
   "outputs": [
    {
     "data": {
      "text/plain": [
       "'The text discusses various opinions and reactions to vaccinations, highlighting fears, pain, and skepticism about their efficacy, particularly regarding the dengue vaccine in Brazil. Many express discomfort and negative experiences related to vaccinations, alongside criticisms of government actions regarding vaccine availability and costs. There are also humorous takes on the situation, emphasizing the societal attitudes toward vaccines and the emotional responses they provoke.'"
      ]
     },
     "execution_count": 104,
     "metadata": {},
     "output_type": "execute_result"
    }
   ],
   "source": [
    "response.choices[0].message.content"
   ]
  },
  {
   "cell_type": "code",
   "execution_count": 105,
   "id": "d3081509",
   "metadata": {},
   "outputs": [],
   "source": [
    "#summary = []\n",
    "#dataset = []"
   ]
  },
  {
   "cell_type": "code",
   "execution_count": 106,
   "id": "1ba0dacb",
   "metadata": {},
   "outputs": [],
   "source": [
    "dataset.append(\"2016_07_negitive\")"
   ]
  },
  {
   "cell_type": "code",
   "execution_count": 107,
   "id": "cadb0bde",
   "metadata": {},
   "outputs": [],
   "source": [
    "summary.append(response.choices[0].message.content)"
   ]
  },
  {
   "cell_type": "code",
   "execution_count": 108,
   "id": "b80e1e4e",
   "metadata": {
    "tags": []
   },
   "outputs": [
    {
     "name": "stdout",
     "output_type": "stream",
     "text": [
      "<class 'pandas.core.frame.DataFrame'>\n",
      "RangeIndex: 7 entries, 0 to 6\n",
      "Data columns (total 2 columns):\n",
      " #   Column   Non-Null Count  Dtype \n",
      "---  ------   --------------  ----- \n",
      " 0   dataset  7 non-null      object\n",
      " 1   summary  7 non-null      object\n",
      "dtypes: object(2)\n",
      "memory usage: 240.0+ bytes\n"
     ]
    }
   ],
   "source": [
    "df_2016_neg = pd.DataFrame(list(zip(dataset, summary)),\n",
    "                            columns = ['dataset', 'summary'])\n",
    "df_2016_neg.info()"
   ]
  },
  {
   "cell_type": "code",
   "execution_count": 109,
   "id": "de211f05",
   "metadata": {},
   "outputs": [
    {
     "data": {
      "text/html": [
       "<div>\n",
       "<style scoped>\n",
       "    .dataframe tbody tr th:only-of-type {\n",
       "        vertical-align: middle;\n",
       "    }\n",
       "\n",
       "    .dataframe tbody tr th {\n",
       "        vertical-align: top;\n",
       "    }\n",
       "\n",
       "    .dataframe thead th {\n",
       "        text-align: right;\n",
       "    }\n",
       "</style>\n",
       "<table border=\"1\" class=\"dataframe\">\n",
       "  <thead>\n",
       "    <tr style=\"text-align: right;\">\n",
       "      <th></th>\n",
       "      <th>dataset</th>\n",
       "      <th>summary</th>\n",
       "    </tr>\n",
       "  </thead>\n",
       "  <tbody>\n",
       "    <tr>\n",
       "      <th>0</th>\n",
       "      <td>2016_01_negitive</td>\n",
       "      <td>The sentences discuss various concerns and exp...</td>\n",
       "    </tr>\n",
       "    <tr>\n",
       "      <th>1</th>\n",
       "      <td>2016_02_negitive</td>\n",
       "      <td>The text discusses various concerns surroundin...</td>\n",
       "    </tr>\n",
       "    <tr>\n",
       "      <th>2</th>\n",
       "      <td>2016_03_negitive</td>\n",
       "      <td>The text discusses various opinions and experi...</td>\n",
       "    </tr>\n",
       "    <tr>\n",
       "      <th>3</th>\n",
       "      <td>2016_04_negitive</td>\n",
       "      <td>The text discusses various issues related to t...</td>\n",
       "    </tr>\n",
       "    <tr>\n",
       "      <th>4</th>\n",
       "      <td>2016_05_negitive</td>\n",
       "      <td>The text discusses various concerns and experi...</td>\n",
       "    </tr>\n",
       "    <tr>\n",
       "      <th>5</th>\n",
       "      <td>2016_06_negitive</td>\n",
       "      <td>The text discusses various opinions and experi...</td>\n",
       "    </tr>\n",
       "    <tr>\n",
       "      <th>6</th>\n",
       "      <td>2016_07_negitive</td>\n",
       "      <td>The text discusses various opinions and reacti...</td>\n",
       "    </tr>\n",
       "  </tbody>\n",
       "</table>\n",
       "</div>"
      ],
      "text/plain": [
       "            dataset                                            summary\n",
       "0  2016_01_negitive  The sentences discuss various concerns and exp...\n",
       "1  2016_02_negitive  The text discusses various concerns surroundin...\n",
       "2  2016_03_negitive  The text discusses various opinions and experi...\n",
       "3  2016_04_negitive  The text discusses various issues related to t...\n",
       "4  2016_05_negitive  The text discusses various concerns and experi...\n",
       "5  2016_06_negitive  The text discusses various opinions and experi...\n",
       "6  2016_07_negitive  The text discusses various opinions and reacti..."
      ]
     },
     "execution_count": 109,
     "metadata": {},
     "output_type": "execute_result"
    }
   ],
   "source": [
    "df_2016_neg.tail(14)"
   ]
  },
  {
   "cell_type": "code",
   "execution_count": 110,
   "id": "19075d74",
   "metadata": {},
   "outputs": [
    {
     "data": {
      "text/plain": [
       "<OpenAIObject chat.completion id=chatcmpl-AUd0nsU63f1fMJ3A6H0hrvakl7BQ1 at 0x174dcf68770> JSON: {\n",
       "  \"choices\": [\n",
       "    {\n",
       "      \"finish_reason\": \"stop\",\n",
       "      \"index\": 0,\n",
       "      \"logprobs\": null,\n",
       "      \"message\": {\n",
       "        \"content\": \"The text discusses various opinions and reactions to vaccinations, highlighting fears, pain, and skepticism about their efficacy, particularly regarding the dengue vaccine in Brazil. Many express discomfort and negative experiences related to vaccinations, alongside criticisms of government actions regarding vaccine availability and costs. There are also humorous takes on the situation, emphasizing the societal attitudes toward vaccines and the emotional responses they provoke.\",\n",
       "        \"refusal\": null,\n",
       "        \"role\": \"assistant\"\n",
       "      }\n",
       "    }\n",
       "  ],\n",
       "  \"created\": 1731863165,\n",
       "  \"id\": \"chatcmpl-AUd0nsU63f1fMJ3A6H0hrvakl7BQ1\",\n",
       "  \"model\": \"gpt-4o-mini-2024-07-18\",\n",
       "  \"object\": \"chat.completion\",\n",
       "  \"system_fingerprint\": \"fp_0ba0d124f1\",\n",
       "  \"usage\": {\n",
       "    \"completion_tokens\": 72,\n",
       "    \"completion_tokens_details\": {\n",
       "      \"accepted_prediction_tokens\": 0,\n",
       "      \"audio_tokens\": 0,\n",
       "      \"reasoning_tokens\": 0,\n",
       "      \"rejected_prediction_tokens\": 0\n",
       "    },\n",
       "    \"prompt_tokens\": 22930,\n",
       "    \"prompt_tokens_details\": {\n",
       "      \"audio_tokens\": 0,\n",
       "      \"cached_tokens\": 0\n",
       "    },\n",
       "    \"total_tokens\": 23002\n",
       "  }\n",
       "}"
      ]
     },
     "execution_count": 110,
     "metadata": {},
     "output_type": "execute_result"
    }
   ],
   "source": [
    "response"
   ]
  },
  {
   "cell_type": "markdown",
   "id": "9d083d2a",
   "metadata": {},
   "source": [
    "## August"
   ]
  },
  {
   "cell_type": "code",
   "execution_count": 111,
   "id": "0ed2a943",
   "metadata": {
    "scrolled": true,
    "tags": []
   },
   "outputs": [
    {
     "name": "stdout",
     "output_type": "stream",
     "text": [
      "<class 'pandas.core.frame.DataFrame'>\n",
      "RangeIndex: 947 entries, 0 to 946\n",
      "Data columns (total 53 columns):\n",
      " #   Column                  Non-Null Count  Dtype  \n",
      "---  ------                  --------------  -----  \n",
      " 0   index                   947 non-null    int64  \n",
      " 1   LocationCode            947 non-null    object \n",
      " 2   LocationName            947 non-null    object \n",
      " 3   StatesCode              947 non-null    object \n",
      " 4   ...4                    947 non-null    int64  \n",
      " 5   id                      947 non-null    float64\n",
      " 6   text                    947 non-null    object \n",
      " 7   label                   947 non-null    object \n",
      " 8   in_reply_to_status_id   70 non-null     float64\n",
      " 9   in_reply_to_user_id     73 non-null     float64\n",
      " 10  quoted_user_id          22 non-null     float64\n",
      " 11  quoted_status_id        22 non-null     float64\n",
      " 12  retweeted_user_id       104 non-null    float64\n",
      " 13  retweeted_status_id     104 non-null    float64\n",
      " 14  created_at              947 non-null    object \n",
      " 15  entities.user_mentions  182 non-null    object \n",
      " 16  user.id                 947 non-null    float64\n",
      " 17  user.screen_name        947 non-null    object \n",
      " 18  user.name               947 non-null    object \n",
      " 19  user.description        844 non-null    object \n",
      " 20  user.timezone           0 non-null      float64\n",
      " 21  user.location           909 non-null    object \n",
      " 22  user.num_followers      947 non-null    int64  \n",
      " 23  user.num_following      947 non-null    int64  \n",
      " 24  user.created_at         947 non-null    object \n",
      " 25  user.statuses_count     947 non-null    int64  \n",
      " 26  user.is_verified        947 non-null    bool   \n",
      " 27  lang                    947 non-null    object \n",
      " 28  token_count             947 non-null    int64  \n",
      " 29  is_retweet              947 non-null    bool   \n",
      " 30  has_quote               947 non-null    bool   \n",
      " 31  is_reply                947 non-null    bool   \n",
      " 32  contains_keywords       947 non-null    bool   \n",
      " 33  longitude               947 non-null    float64\n",
      " 34  latitude                947 non-null    float64\n",
      " 35  country_code            947 non-null    object \n",
      " 36  geoname_id              766 non-null    float64\n",
      " 37  location_type           947 non-null    object \n",
      " 38  geo_type                947 non-null    int64  \n",
      " 39  region                  947 non-null    object \n",
      " 40  subregion               947 non-null    object \n",
      " 41  num_quotes              947 non-null    int64  \n",
      " 42  num_replies             947 non-null    int64  \n",
      " 43  num_retweets            947 non-null    int64  \n",
      " 44  sent_gpt                947 non-null    object \n",
      " 45  gpt_sent_presence       947 non-null    int64  \n",
      " 46  cleaned_text_lem        947 non-null    object \n",
      " 47  cleaned_text            947 non-null    object \n",
      " 48  month                   947 non-null    int64  \n",
      " 49  year                    947 non-null    int64  \n",
      " 50  week                    947 non-null    int64  \n",
      " 51  year_month              947 non-null    object \n",
      " 52  year_week               947 non-null    object \n",
      "dtypes: bool(5), float64(12), int64(14), object(22)\n",
      "memory usage: 359.9+ KB\n"
     ]
    }
   ],
   "source": [
    "# Get monthly data\n",
    "df_2016_08_neg = pd.read_csv('../data/local/df_neg_2016-08.csv').reset_index()\n",
    "df_2016_08_neg.info()"
   ]
  },
  {
   "cell_type": "markdown",
   "id": "3c035145",
   "metadata": {},
   "source": [
    "### Representative sample based on week and location"
   ]
  },
  {
   "cell_type": "code",
   "execution_count": 112,
   "id": "ebf072ee",
   "metadata": {},
   "outputs": [
    {
     "data": {
      "text/html": [
       "<div>\n",
       "<style scoped>\n",
       "    .dataframe tbody tr th:only-of-type {\n",
       "        vertical-align: middle;\n",
       "    }\n",
       "\n",
       "    .dataframe tbody tr th {\n",
       "        vertical-align: top;\n",
       "    }\n",
       "\n",
       "    .dataframe thead th {\n",
       "        text-align: right;\n",
       "    }\n",
       "</style>\n",
       "<table border=\"1\" class=\"dataframe\">\n",
       "  <thead>\n",
       "    <tr style=\"text-align: right;\">\n",
       "      <th></th>\n",
       "      <th>year_week</th>\n",
       "      <th>LocationName</th>\n",
       "      <th>group_size</th>\n",
       "      <th>proportion</th>\n",
       "    </tr>\n",
       "  </thead>\n",
       "  <tbody>\n",
       "    <tr>\n",
       "      <th>0</th>\n",
       "      <td>2016-w31</td>\n",
       "      <td>Acre</td>\n",
       "      <td>1</td>\n",
       "      <td>0.001056</td>\n",
       "    </tr>\n",
       "    <tr>\n",
       "      <th>1</th>\n",
       "      <td>2016-w31</td>\n",
       "      <td>Alagoas</td>\n",
       "      <td>1</td>\n",
       "      <td>0.001056</td>\n",
       "    </tr>\n",
       "    <tr>\n",
       "      <th>2</th>\n",
       "      <td>2016-w31</td>\n",
       "      <td>Amazonas</td>\n",
       "      <td>4</td>\n",
       "      <td>0.004224</td>\n",
       "    </tr>\n",
       "    <tr>\n",
       "      <th>3</th>\n",
       "      <td>2016-w31</td>\n",
       "      <td>Bahia</td>\n",
       "      <td>10</td>\n",
       "      <td>0.010560</td>\n",
       "    </tr>\n",
       "    <tr>\n",
       "      <th>4</th>\n",
       "      <td>2016-w31</td>\n",
       "      <td>Ceara</td>\n",
       "      <td>3</td>\n",
       "      <td>0.003168</td>\n",
       "    </tr>\n",
       "    <tr>\n",
       "      <th>...</th>\n",
       "      <td>...</td>\n",
       "      <td>...</td>\n",
       "      <td>...</td>\n",
       "      <td>...</td>\n",
       "    </tr>\n",
       "    <tr>\n",
       "      <th>87</th>\n",
       "      <td>2016-w35</td>\n",
       "      <td>Rio De Janeiro</td>\n",
       "      <td>1</td>\n",
       "      <td>0.001056</td>\n",
       "    </tr>\n",
       "    <tr>\n",
       "      <th>88</th>\n",
       "      <td>2016-w35</td>\n",
       "      <td>Rio Grande Do Sul</td>\n",
       "      <td>18</td>\n",
       "      <td>0.019007</td>\n",
       "    </tr>\n",
       "    <tr>\n",
       "      <th>89</th>\n",
       "      <td>2016-w35</td>\n",
       "      <td>Rondonia</td>\n",
       "      <td>2</td>\n",
       "      <td>0.002112</td>\n",
       "    </tr>\n",
       "    <tr>\n",
       "      <th>90</th>\n",
       "      <td>2016-w35</td>\n",
       "      <td>Santa Catarina</td>\n",
       "      <td>4</td>\n",
       "      <td>0.004224</td>\n",
       "    </tr>\n",
       "    <tr>\n",
       "      <th>91</th>\n",
       "      <td>2016-w35</td>\n",
       "      <td>Sao Paulo</td>\n",
       "      <td>37</td>\n",
       "      <td>0.039071</td>\n",
       "    </tr>\n",
       "  </tbody>\n",
       "</table>\n",
       "<p>92 rows × 4 columns</p>\n",
       "</div>"
      ],
      "text/plain": [
       "   year_week       LocationName  group_size  proportion\n",
       "0   2016-w31               Acre           1    0.001056\n",
       "1   2016-w31            Alagoas           1    0.001056\n",
       "2   2016-w31           Amazonas           4    0.004224\n",
       "3   2016-w31              Bahia          10    0.010560\n",
       "4   2016-w31              Ceara           3    0.003168\n",
       "..       ...                ...         ...         ...\n",
       "87  2016-w35     Rio De Janeiro           1    0.001056\n",
       "88  2016-w35  Rio Grande Do Sul          18    0.019007\n",
       "89  2016-w35           Rondonia           2    0.002112\n",
       "90  2016-w35     Santa Catarina           4    0.004224\n",
       "91  2016-w35          Sao Paulo          37    0.039071\n",
       "\n",
       "[92 rows x 4 columns]"
      ]
     },
     "execution_count": 112,
     "metadata": {},
     "output_type": "execute_result"
    }
   ],
   "source": [
    "# Step 1: Calculate the size of each group (year_week, LocationName)\n",
    "group_sizes = df_2016_08_neg.groupby(['year_week', 'LocationName']).size().reset_index(name='group_size')\n",
    "\n",
    "# Step 2: Calculate the proportion of each group in the dataset\n",
    "total_rows = len(df_2016_08_neg)\n",
    "group_sizes['proportion'] = group_sizes['group_size'] / total_rows\n",
    "group_sizes"
   ]
  },
  {
   "cell_type": "code",
   "execution_count": 113,
   "id": "c3bc6232",
   "metadata": {},
   "outputs": [
    {
     "data": {
      "text/html": [
       "<div>\n",
       "<style scoped>\n",
       "    .dataframe tbody tr th:only-of-type {\n",
       "        vertical-align: middle;\n",
       "    }\n",
       "\n",
       "    .dataframe tbody tr th {\n",
       "        vertical-align: top;\n",
       "    }\n",
       "\n",
       "    .dataframe thead th {\n",
       "        text-align: right;\n",
       "    }\n",
       "</style>\n",
       "<table border=\"1\" class=\"dataframe\">\n",
       "  <thead>\n",
       "    <tr style=\"text-align: right;\">\n",
       "      <th></th>\n",
       "      <th>year_week</th>\n",
       "      <th>LocationName</th>\n",
       "      <th>group_size</th>\n",
       "      <th>proportion</th>\n",
       "      <th>sample_size</th>\n",
       "    </tr>\n",
       "  </thead>\n",
       "  <tbody>\n",
       "    <tr>\n",
       "      <th>0</th>\n",
       "      <td>2016-w31</td>\n",
       "      <td>Acre</td>\n",
       "      <td>1</td>\n",
       "      <td>0.001056</td>\n",
       "      <td>2</td>\n",
       "    </tr>\n",
       "    <tr>\n",
       "      <th>1</th>\n",
       "      <td>2016-w31</td>\n",
       "      <td>Alagoas</td>\n",
       "      <td>1</td>\n",
       "      <td>0.001056</td>\n",
       "      <td>2</td>\n",
       "    </tr>\n",
       "    <tr>\n",
       "      <th>2</th>\n",
       "      <td>2016-w31</td>\n",
       "      <td>Amazonas</td>\n",
       "      <td>4</td>\n",
       "      <td>0.004224</td>\n",
       "      <td>10</td>\n",
       "    </tr>\n",
       "    <tr>\n",
       "      <th>3</th>\n",
       "      <td>2016-w31</td>\n",
       "      <td>Bahia</td>\n",
       "      <td>10</td>\n",
       "      <td>0.010560</td>\n",
       "      <td>25</td>\n",
       "    </tr>\n",
       "    <tr>\n",
       "      <th>4</th>\n",
       "      <td>2016-w31</td>\n",
       "      <td>Ceara</td>\n",
       "      <td>3</td>\n",
       "      <td>0.003168</td>\n",
       "      <td>7</td>\n",
       "    </tr>\n",
       "    <tr>\n",
       "      <th>...</th>\n",
       "      <td>...</td>\n",
       "      <td>...</td>\n",
       "      <td>...</td>\n",
       "      <td>...</td>\n",
       "      <td>...</td>\n",
       "    </tr>\n",
       "    <tr>\n",
       "      <th>87</th>\n",
       "      <td>2016-w35</td>\n",
       "      <td>Rio De Janeiro</td>\n",
       "      <td>1</td>\n",
       "      <td>0.001056</td>\n",
       "      <td>2</td>\n",
       "    </tr>\n",
       "    <tr>\n",
       "      <th>88</th>\n",
       "      <td>2016-w35</td>\n",
       "      <td>Rio Grande Do Sul</td>\n",
       "      <td>18</td>\n",
       "      <td>0.019007</td>\n",
       "      <td>46</td>\n",
       "    </tr>\n",
       "    <tr>\n",
       "      <th>89</th>\n",
       "      <td>2016-w35</td>\n",
       "      <td>Rondonia</td>\n",
       "      <td>2</td>\n",
       "      <td>0.002112</td>\n",
       "      <td>5</td>\n",
       "    </tr>\n",
       "    <tr>\n",
       "      <th>90</th>\n",
       "      <td>2016-w35</td>\n",
       "      <td>Santa Catarina</td>\n",
       "      <td>4</td>\n",
       "      <td>0.004224</td>\n",
       "      <td>10</td>\n",
       "    </tr>\n",
       "    <tr>\n",
       "      <th>91</th>\n",
       "      <td>2016-w35</td>\n",
       "      <td>Sao Paulo</td>\n",
       "      <td>37</td>\n",
       "      <td>0.039071</td>\n",
       "      <td>95</td>\n",
       "    </tr>\n",
       "  </tbody>\n",
       "</table>\n",
       "<p>92 rows × 5 columns</p>\n",
       "</div>"
      ],
      "text/plain": [
       "   year_week       LocationName  group_size  proportion  sample_size\n",
       "0   2016-w31               Acre           1    0.001056            2\n",
       "1   2016-w31            Alagoas           1    0.001056            2\n",
       "2   2016-w31           Amazonas           4    0.004224           10\n",
       "3   2016-w31              Bahia          10    0.010560           25\n",
       "4   2016-w31              Ceara           3    0.003168            7\n",
       "..       ...                ...         ...         ...          ...\n",
       "87  2016-w35     Rio De Janeiro           1    0.001056            2\n",
       "88  2016-w35  Rio Grande Do Sul          18    0.019007           46\n",
       "89  2016-w35           Rondonia           2    0.002112            5\n",
       "90  2016-w35     Santa Catarina           4    0.004224           10\n",
       "91  2016-w35          Sao Paulo          37    0.039071           95\n",
       "\n",
       "[92 rows x 5 columns]"
      ]
     },
     "execution_count": 113,
     "metadata": {},
     "output_type": "execute_result"
    }
   ],
   "source": [
    "# Step 3: Define the target sample size\n",
    "target_sample_size = 2450\n",
    "\n",
    "# Step 4: Calculate the sample size for each group (based on its proportion)\n",
    "group_sizes['sample_size'] = np.floor(group_sizes['proportion'] * target_sample_size).astype(int)\n",
    "group_sizes"
   ]
  },
  {
   "cell_type": "code",
   "execution_count": 114,
   "id": "2f55ef03",
   "metadata": {},
   "outputs": [],
   "source": [
    "# Step 5: Merge this sample size information back to the original DataFrame\n",
    "df_2016_08_neg_sample_size = pd.merge(df_2016_08_neg, group_sizes[['year_week', 'LocationName', 'sample_size']], \n",
    "                               on=['year_week', 'LocationName'], how='left')"
   ]
  },
  {
   "cell_type": "code",
   "execution_count": 116,
   "id": "2aa2083a",
   "metadata": {},
   "outputs": [
    {
     "name": "stdout",
     "output_type": "stream",
     "text": [
      "Sampled 947 rows.\n"
     ]
    }
   ],
   "source": [
    "# Step 6: Perform the stratified sampling\n",
    "#df_2016_08_neg_sample = df_2016_08_neg_sample_size.groupby(['year_week', 'LocationName']).apply(\n",
    " #   lambda group: group.sample(n=group['sample_size'].iloc[0], random_state=42)\n",
    "#).reset_index(drop=True)\n",
    "df_2016_08_neg_sample = df_2016_08_neg\n",
    "# Step 7: Check the result\n",
    "print(f\"Sampled {len(df_2016_08_neg_sample)} rows.\")\n"
   ]
  },
  {
   "cell_type": "code",
   "execution_count": 117,
   "id": "3eb70c20",
   "metadata": {},
   "outputs": [],
   "source": [
    "text_gpt_2016_08_neg = '\\n'.join(df_2016_08_neg_sample['text'].astype(str))"
   ]
  },
  {
   "cell_type": "markdown",
   "id": "20c12a08",
   "metadata": {},
   "source": [
    "### Prompts and loops"
   ]
  },
  {
   "cell_type": "code",
   "execution_count": 118,
   "id": "6cbedf14",
   "metadata": {},
   "outputs": [],
   "source": [
    "prompt_8 = prompt_raw.replace('TWEETS', text_gpt_2016_08_neg)"
   ]
  },
  {
   "cell_type": "code",
   "execution_count": 119,
   "id": "6312a680",
   "metadata": {
    "scrolled": false
   },
   "outputs": [],
   "source": [
    "response = openai.ChatCompletion.create(\n",
    "    model=\"gpt-4o-mini\",  \n",
    "    messages = [\n",
    "        {\"role\": \"user\", \"content\": prompt_8}\n",
    "    ],\n",
    "    max_tokens=400,  # Maximum number of tokens in the response\n",
    "    temperature=0.7  # Controls the randomness of the output\n",
    ")"
   ]
  },
  {
   "cell_type": "code",
   "execution_count": 120,
   "id": "1af4a697",
   "metadata": {},
   "outputs": [
    {
     "data": {
      "text/plain": [
       "'The text discusses various opinions and experiences regarding vaccines, particularly the dengue vaccine, which is criticized for its high prices (ranging from R$ 750 to R$ 915) and painful side effects. Many express a strong dislike for vaccinations in general, recounting their personal discomfort and fears related to getting vaccinated, while also highlighting the financial burden and accessibility issues associated with vaccines.'"
      ]
     },
     "execution_count": 120,
     "metadata": {},
     "output_type": "execute_result"
    }
   ],
   "source": [
    "response.choices[0].message.content"
   ]
  },
  {
   "cell_type": "code",
   "execution_count": 121,
   "id": "c2df0aba",
   "metadata": {},
   "outputs": [],
   "source": [
    "#summary = []\n",
    "#dataset = []"
   ]
  },
  {
   "cell_type": "code",
   "execution_count": 122,
   "id": "9714a127",
   "metadata": {},
   "outputs": [],
   "source": [
    "dataset.append(\"2016_08_negitive\")"
   ]
  },
  {
   "cell_type": "code",
   "execution_count": 123,
   "id": "7118fbc6",
   "metadata": {},
   "outputs": [],
   "source": [
    "summary.append(response.choices[0].message.content)"
   ]
  },
  {
   "cell_type": "code",
   "execution_count": 124,
   "id": "626416cc",
   "metadata": {
    "tags": []
   },
   "outputs": [
    {
     "name": "stdout",
     "output_type": "stream",
     "text": [
      "<class 'pandas.core.frame.DataFrame'>\n",
      "RangeIndex: 8 entries, 0 to 7\n",
      "Data columns (total 2 columns):\n",
      " #   Column   Non-Null Count  Dtype \n",
      "---  ------   --------------  ----- \n",
      " 0   dataset  8 non-null      object\n",
      " 1   summary  8 non-null      object\n",
      "dtypes: object(2)\n",
      "memory usage: 256.0+ bytes\n"
     ]
    }
   ],
   "source": [
    "df_2016_neg = pd.DataFrame(list(zip(dataset, summary)),\n",
    "                            columns = ['dataset', 'summary'])\n",
    "df_2016_neg.info()"
   ]
  },
  {
   "cell_type": "code",
   "execution_count": 125,
   "id": "c9811a57",
   "metadata": {},
   "outputs": [
    {
     "data": {
      "text/html": [
       "<div>\n",
       "<style scoped>\n",
       "    .dataframe tbody tr th:only-of-type {\n",
       "        vertical-align: middle;\n",
       "    }\n",
       "\n",
       "    .dataframe tbody tr th {\n",
       "        vertical-align: top;\n",
       "    }\n",
       "\n",
       "    .dataframe thead th {\n",
       "        text-align: right;\n",
       "    }\n",
       "</style>\n",
       "<table border=\"1\" class=\"dataframe\">\n",
       "  <thead>\n",
       "    <tr style=\"text-align: right;\">\n",
       "      <th></th>\n",
       "      <th>dataset</th>\n",
       "      <th>summary</th>\n",
       "    </tr>\n",
       "  </thead>\n",
       "  <tbody>\n",
       "    <tr>\n",
       "      <th>0</th>\n",
       "      <td>2016_01_negitive</td>\n",
       "      <td>The sentences discuss various concerns and exp...</td>\n",
       "    </tr>\n",
       "    <tr>\n",
       "      <th>1</th>\n",
       "      <td>2016_02_negitive</td>\n",
       "      <td>The text discusses various concerns surroundin...</td>\n",
       "    </tr>\n",
       "    <tr>\n",
       "      <th>2</th>\n",
       "      <td>2016_03_negitive</td>\n",
       "      <td>The text discusses various opinions and experi...</td>\n",
       "    </tr>\n",
       "    <tr>\n",
       "      <th>3</th>\n",
       "      <td>2016_04_negitive</td>\n",
       "      <td>The text discusses various issues related to t...</td>\n",
       "    </tr>\n",
       "    <tr>\n",
       "      <th>4</th>\n",
       "      <td>2016_05_negitive</td>\n",
       "      <td>The text discusses various concerns and experi...</td>\n",
       "    </tr>\n",
       "    <tr>\n",
       "      <th>5</th>\n",
       "      <td>2016_06_negitive</td>\n",
       "      <td>The text discusses various opinions and experi...</td>\n",
       "    </tr>\n",
       "    <tr>\n",
       "      <th>6</th>\n",
       "      <td>2016_07_negitive</td>\n",
       "      <td>The text discusses various opinions and reacti...</td>\n",
       "    </tr>\n",
       "    <tr>\n",
       "      <th>7</th>\n",
       "      <td>2016_08_negitive</td>\n",
       "      <td>The text discusses various opinions and experi...</td>\n",
       "    </tr>\n",
       "  </tbody>\n",
       "</table>\n",
       "</div>"
      ],
      "text/plain": [
       "            dataset                                            summary\n",
       "0  2016_01_negitive  The sentences discuss various concerns and exp...\n",
       "1  2016_02_negitive  The text discusses various concerns surroundin...\n",
       "2  2016_03_negitive  The text discusses various opinions and experi...\n",
       "3  2016_04_negitive  The text discusses various issues related to t...\n",
       "4  2016_05_negitive  The text discusses various concerns and experi...\n",
       "5  2016_06_negitive  The text discusses various opinions and experi...\n",
       "6  2016_07_negitive  The text discusses various opinions and reacti...\n",
       "7  2016_08_negitive  The text discusses various opinions and experi..."
      ]
     },
     "execution_count": 125,
     "metadata": {},
     "output_type": "execute_result"
    }
   ],
   "source": [
    "df_2016_neg.tail(14)"
   ]
  },
  {
   "cell_type": "code",
   "execution_count": 126,
   "id": "cd10153f",
   "metadata": {},
   "outputs": [
    {
     "data": {
      "text/plain": [
       "<OpenAIObject chat.completion id=chatcmpl-AUd28KWvaWoFEPu9PdI4NFf46lA9g at 0x174dce06310> JSON: {\n",
       "  \"choices\": [\n",
       "    {\n",
       "      \"finish_reason\": \"stop\",\n",
       "      \"index\": 0,\n",
       "      \"logprobs\": null,\n",
       "      \"message\": {\n",
       "        \"content\": \"The text discusses various opinions and experiences regarding vaccines, particularly the dengue vaccine, which is criticized for its high prices (ranging from R$ 750 to R$ 915) and painful side effects. Many express a strong dislike for vaccinations in general, recounting their personal discomfort and fears related to getting vaccinated, while also highlighting the financial burden and accessibility issues associated with vaccines.\",\n",
       "        \"refusal\": null,\n",
       "        \"role\": \"assistant\"\n",
       "      }\n",
       "    }\n",
       "  ],\n",
       "  \"created\": 1731863248,\n",
       "  \"id\": \"chatcmpl-AUd28KWvaWoFEPu9PdI4NFf46lA9g\",\n",
       "  \"model\": \"gpt-4o-mini-2024-07-18\",\n",
       "  \"object\": \"chat.completion\",\n",
       "  \"system_fingerprint\": \"fp_0ba0d124f1\",\n",
       "  \"usage\": {\n",
       "    \"completion_tokens\": 76,\n",
       "    \"completion_tokens_details\": {\n",
       "      \"accepted_prediction_tokens\": 0,\n",
       "      \"audio_tokens\": 0,\n",
       "      \"reasoning_tokens\": 0,\n",
       "      \"rejected_prediction_tokens\": 0\n",
       "    },\n",
       "    \"prompt_tokens\": 19262,\n",
       "    \"prompt_tokens_details\": {\n",
       "      \"audio_tokens\": 0,\n",
       "      \"cached_tokens\": 0\n",
       "    },\n",
       "    \"total_tokens\": 19338\n",
       "  }\n",
       "}"
      ]
     },
     "execution_count": 126,
     "metadata": {},
     "output_type": "execute_result"
    }
   ],
   "source": [
    "response"
   ]
  },
  {
   "cell_type": "markdown",
   "id": "1a0c859d",
   "metadata": {},
   "source": [
    "## September"
   ]
  },
  {
   "cell_type": "code",
   "execution_count": 127,
   "id": "46970275",
   "metadata": {
    "scrolled": true,
    "tags": []
   },
   "outputs": [
    {
     "name": "stdout",
     "output_type": "stream",
     "text": [
      "<class 'pandas.core.frame.DataFrame'>\n",
      "RangeIndex: 1478 entries, 0 to 1477\n",
      "Data columns (total 53 columns):\n",
      " #   Column                  Non-Null Count  Dtype  \n",
      "---  ------                  --------------  -----  \n",
      " 0   index                   1478 non-null   int64  \n",
      " 1   LocationCode            1478 non-null   object \n",
      " 2   LocationName            1478 non-null   object \n",
      " 3   StatesCode              1478 non-null   object \n",
      " 4   ...4                    1478 non-null   int64  \n",
      " 5   id                      1478 non-null   float64\n",
      " 6   text                    1478 non-null   object \n",
      " 7   label                   1478 non-null   object \n",
      " 8   in_reply_to_status_id   123 non-null    float64\n",
      " 9   in_reply_to_user_id     128 non-null    float64\n",
      " 10  quoted_user_id          27 non-null     float64\n",
      " 11  quoted_status_id        27 non-null     float64\n",
      " 12  retweeted_user_id       148 non-null    float64\n",
      " 13  retweeted_status_id     148 non-null    float64\n",
      " 14  created_at              1478 non-null   object \n",
      " 15  entities.user_mentions  309 non-null    object \n",
      " 16  user.id                 1478 non-null   float64\n",
      " 17  user.screen_name        1478 non-null   object \n",
      " 18  user.name               1477 non-null   object \n",
      " 19  user.description        1319 non-null   object \n",
      " 20  user.timezone           0 non-null      float64\n",
      " 21  user.location           1435 non-null   object \n",
      " 22  user.num_followers      1478 non-null   int64  \n",
      " 23  user.num_following      1478 non-null   int64  \n",
      " 24  user.created_at         1478 non-null   object \n",
      " 25  user.statuses_count     1478 non-null   int64  \n",
      " 26  user.is_verified        1478 non-null   bool   \n",
      " 27  lang                    1478 non-null   object \n",
      " 28  token_count             1478 non-null   int64  \n",
      " 29  is_retweet              1478 non-null   bool   \n",
      " 30  has_quote               1478 non-null   bool   \n",
      " 31  is_reply                1478 non-null   bool   \n",
      " 32  contains_keywords       1478 non-null   bool   \n",
      " 33  longitude               1478 non-null   float64\n",
      " 34  latitude                1478 non-null   float64\n",
      " 35  country_code            1478 non-null   object \n",
      " 36  geoname_id              1237 non-null   float64\n",
      " 37  location_type           1478 non-null   object \n",
      " 38  geo_type                1478 non-null   int64  \n",
      " 39  region                  1478 non-null   object \n",
      " 40  subregion               1478 non-null   object \n",
      " 41  num_quotes              1478 non-null   int64  \n",
      " 42  num_replies             1478 non-null   int64  \n",
      " 43  num_retweets            1478 non-null   int64  \n",
      " 44  sent_gpt                1478 non-null   object \n",
      " 45  gpt_sent_presence       1478 non-null   int64  \n",
      " 46  cleaned_text_lem        1478 non-null   object \n",
      " 47  cleaned_text            1478 non-null   object \n",
      " 48  month                   1478 non-null   int64  \n",
      " 49  year                    1478 non-null   int64  \n",
      " 50  week                    1478 non-null   int64  \n",
      " 51  year_month              1478 non-null   object \n",
      " 52  year_week               1478 non-null   object \n",
      "dtypes: bool(5), float64(12), int64(14), object(22)\n",
      "memory usage: 561.6+ KB\n"
     ]
    }
   ],
   "source": [
    "# Get monthly data\n",
    "df_2016_09_neg = pd.read_csv('../data/local/df_neg_2016-09.csv').reset_index()\n",
    "df_2016_09_neg.info()"
   ]
  },
  {
   "cell_type": "markdown",
   "id": "6d6d95b1",
   "metadata": {},
   "source": [
    "### Representative sample based on week and location"
   ]
  },
  {
   "cell_type": "code",
   "execution_count": 128,
   "id": "1c64358d",
   "metadata": {},
   "outputs": [
    {
     "data": {
      "text/html": [
       "<div>\n",
       "<style scoped>\n",
       "    .dataframe tbody tr th:only-of-type {\n",
       "        vertical-align: middle;\n",
       "    }\n",
       "\n",
       "    .dataframe tbody tr th {\n",
       "        vertical-align: top;\n",
       "    }\n",
       "\n",
       "    .dataframe thead th {\n",
       "        text-align: right;\n",
       "    }\n",
       "</style>\n",
       "<table border=\"1\" class=\"dataframe\">\n",
       "  <thead>\n",
       "    <tr style=\"text-align: right;\">\n",
       "      <th></th>\n",
       "      <th>year_week</th>\n",
       "      <th>LocationName</th>\n",
       "      <th>group_size</th>\n",
       "      <th>proportion</th>\n",
       "    </tr>\n",
       "  </thead>\n",
       "  <tbody>\n",
       "    <tr>\n",
       "      <th>0</th>\n",
       "      <td>2016-w35</td>\n",
       "      <td>Bahia</td>\n",
       "      <td>1</td>\n",
       "      <td>0.000677</td>\n",
       "    </tr>\n",
       "    <tr>\n",
       "      <th>1</th>\n",
       "      <td>2016-w35</td>\n",
       "      <td>Distrito Federal</td>\n",
       "      <td>1</td>\n",
       "      <td>0.000677</td>\n",
       "    </tr>\n",
       "    <tr>\n",
       "      <th>2</th>\n",
       "      <td>2016-w35</td>\n",
       "      <td>Maranhao</td>\n",
       "      <td>1</td>\n",
       "      <td>0.000677</td>\n",
       "    </tr>\n",
       "    <tr>\n",
       "      <th>3</th>\n",
       "      <td>2016-w35</td>\n",
       "      <td>Mato Grosso</td>\n",
       "      <td>1</td>\n",
       "      <td>0.000677</td>\n",
       "    </tr>\n",
       "    <tr>\n",
       "      <th>4</th>\n",
       "      <td>2016-w35</td>\n",
       "      <td>Mato Grosso Do Sul</td>\n",
       "      <td>11</td>\n",
       "      <td>0.007442</td>\n",
       "    </tr>\n",
       "    <tr>\n",
       "      <th>...</th>\n",
       "      <td>...</td>\n",
       "      <td>...</td>\n",
       "      <td>...</td>\n",
       "      <td>...</td>\n",
       "    </tr>\n",
       "    <tr>\n",
       "      <th>96</th>\n",
       "      <td>2016-w40</td>\n",
       "      <td>Paraiba</td>\n",
       "      <td>3</td>\n",
       "      <td>0.002030</td>\n",
       "    </tr>\n",
       "    <tr>\n",
       "      <th>97</th>\n",
       "      <td>2016-w40</td>\n",
       "      <td>Parana</td>\n",
       "      <td>1</td>\n",
       "      <td>0.000677</td>\n",
       "    </tr>\n",
       "    <tr>\n",
       "      <th>98</th>\n",
       "      <td>2016-w40</td>\n",
       "      <td>Rio Grande Do Sul</td>\n",
       "      <td>9</td>\n",
       "      <td>0.006089</td>\n",
       "    </tr>\n",
       "    <tr>\n",
       "      <th>99</th>\n",
       "      <td>2016-w40</td>\n",
       "      <td>Santa Catarina</td>\n",
       "      <td>1</td>\n",
       "      <td>0.000677</td>\n",
       "    </tr>\n",
       "    <tr>\n",
       "      <th>100</th>\n",
       "      <td>2016-w40</td>\n",
       "      <td>Sao Paulo</td>\n",
       "      <td>16</td>\n",
       "      <td>0.010825</td>\n",
       "    </tr>\n",
       "  </tbody>\n",
       "</table>\n",
       "<p>101 rows × 4 columns</p>\n",
       "</div>"
      ],
      "text/plain": [
       "    year_week        LocationName  group_size  proportion\n",
       "0    2016-w35               Bahia           1    0.000677\n",
       "1    2016-w35    Distrito Federal           1    0.000677\n",
       "2    2016-w35            Maranhao           1    0.000677\n",
       "3    2016-w35         Mato Grosso           1    0.000677\n",
       "4    2016-w35  Mato Grosso Do Sul          11    0.007442\n",
       "..        ...                 ...         ...         ...\n",
       "96   2016-w40             Paraiba           3    0.002030\n",
       "97   2016-w40              Parana           1    0.000677\n",
       "98   2016-w40   Rio Grande Do Sul           9    0.006089\n",
       "99   2016-w40      Santa Catarina           1    0.000677\n",
       "100  2016-w40           Sao Paulo          16    0.010825\n",
       "\n",
       "[101 rows x 4 columns]"
      ]
     },
     "execution_count": 128,
     "metadata": {},
     "output_type": "execute_result"
    }
   ],
   "source": [
    "# Step 1: Calculate the size of each group (year_week, LocationName)\n",
    "group_sizes = df_2016_09_neg.groupby(['year_week', 'LocationName']).size().reset_index(name='group_size')\n",
    "\n",
    "# Step 2: Calculate the proportion of each group in the dataset\n",
    "total_rows = len(df_2016_09_neg)\n",
    "group_sizes['proportion'] = group_sizes['group_size'] / total_rows\n",
    "group_sizes"
   ]
  },
  {
   "cell_type": "code",
   "execution_count": 129,
   "id": "0f70bf42",
   "metadata": {},
   "outputs": [
    {
     "data": {
      "text/html": [
       "<div>\n",
       "<style scoped>\n",
       "    .dataframe tbody tr th:only-of-type {\n",
       "        vertical-align: middle;\n",
       "    }\n",
       "\n",
       "    .dataframe tbody tr th {\n",
       "        vertical-align: top;\n",
       "    }\n",
       "\n",
       "    .dataframe thead th {\n",
       "        text-align: right;\n",
       "    }\n",
       "</style>\n",
       "<table border=\"1\" class=\"dataframe\">\n",
       "  <thead>\n",
       "    <tr style=\"text-align: right;\">\n",
       "      <th></th>\n",
       "      <th>year_week</th>\n",
       "      <th>LocationName</th>\n",
       "      <th>group_size</th>\n",
       "      <th>proportion</th>\n",
       "      <th>sample_size</th>\n",
       "    </tr>\n",
       "  </thead>\n",
       "  <tbody>\n",
       "    <tr>\n",
       "      <th>0</th>\n",
       "      <td>2016-w35</td>\n",
       "      <td>Bahia</td>\n",
       "      <td>1</td>\n",
       "      <td>0.000677</td>\n",
       "      <td>1</td>\n",
       "    </tr>\n",
       "    <tr>\n",
       "      <th>1</th>\n",
       "      <td>2016-w35</td>\n",
       "      <td>Distrito Federal</td>\n",
       "      <td>1</td>\n",
       "      <td>0.000677</td>\n",
       "      <td>1</td>\n",
       "    </tr>\n",
       "    <tr>\n",
       "      <th>2</th>\n",
       "      <td>2016-w35</td>\n",
       "      <td>Maranhao</td>\n",
       "      <td>1</td>\n",
       "      <td>0.000677</td>\n",
       "      <td>1</td>\n",
       "    </tr>\n",
       "    <tr>\n",
       "      <th>3</th>\n",
       "      <td>2016-w35</td>\n",
       "      <td>Mato Grosso</td>\n",
       "      <td>1</td>\n",
       "      <td>0.000677</td>\n",
       "      <td>1</td>\n",
       "    </tr>\n",
       "    <tr>\n",
       "      <th>4</th>\n",
       "      <td>2016-w35</td>\n",
       "      <td>Mato Grosso Do Sul</td>\n",
       "      <td>11</td>\n",
       "      <td>0.007442</td>\n",
       "      <td>18</td>\n",
       "    </tr>\n",
       "    <tr>\n",
       "      <th>...</th>\n",
       "      <td>...</td>\n",
       "      <td>...</td>\n",
       "      <td>...</td>\n",
       "      <td>...</td>\n",
       "      <td>...</td>\n",
       "    </tr>\n",
       "    <tr>\n",
       "      <th>96</th>\n",
       "      <td>2016-w40</td>\n",
       "      <td>Paraiba</td>\n",
       "      <td>3</td>\n",
       "      <td>0.002030</td>\n",
       "      <td>4</td>\n",
       "    </tr>\n",
       "    <tr>\n",
       "      <th>97</th>\n",
       "      <td>2016-w40</td>\n",
       "      <td>Parana</td>\n",
       "      <td>1</td>\n",
       "      <td>0.000677</td>\n",
       "      <td>1</td>\n",
       "    </tr>\n",
       "    <tr>\n",
       "      <th>98</th>\n",
       "      <td>2016-w40</td>\n",
       "      <td>Rio Grande Do Sul</td>\n",
       "      <td>9</td>\n",
       "      <td>0.006089</td>\n",
       "      <td>14</td>\n",
       "    </tr>\n",
       "    <tr>\n",
       "      <th>99</th>\n",
       "      <td>2016-w40</td>\n",
       "      <td>Santa Catarina</td>\n",
       "      <td>1</td>\n",
       "      <td>0.000677</td>\n",
       "      <td>1</td>\n",
       "    </tr>\n",
       "    <tr>\n",
       "      <th>100</th>\n",
       "      <td>2016-w40</td>\n",
       "      <td>Sao Paulo</td>\n",
       "      <td>16</td>\n",
       "      <td>0.010825</td>\n",
       "      <td>26</td>\n",
       "    </tr>\n",
       "  </tbody>\n",
       "</table>\n",
       "<p>101 rows × 5 columns</p>\n",
       "</div>"
      ],
      "text/plain": [
       "    year_week        LocationName  group_size  proportion  sample_size\n",
       "0    2016-w35               Bahia           1    0.000677            1\n",
       "1    2016-w35    Distrito Federal           1    0.000677            1\n",
       "2    2016-w35            Maranhao           1    0.000677            1\n",
       "3    2016-w35         Mato Grosso           1    0.000677            1\n",
       "4    2016-w35  Mato Grosso Do Sul          11    0.007442           18\n",
       "..        ...                 ...         ...         ...          ...\n",
       "96   2016-w40             Paraiba           3    0.002030            4\n",
       "97   2016-w40              Parana           1    0.000677            1\n",
       "98   2016-w40   Rio Grande Do Sul           9    0.006089           14\n",
       "99   2016-w40      Santa Catarina           1    0.000677            1\n",
       "100  2016-w40           Sao Paulo          16    0.010825           26\n",
       "\n",
       "[101 rows x 5 columns]"
      ]
     },
     "execution_count": 129,
     "metadata": {},
     "output_type": "execute_result"
    }
   ],
   "source": [
    "# Step 3: Define the target sample size\n",
    "target_sample_size = 2450\n",
    "\n",
    "# Step 4: Calculate the sample size for each group (based on its proportion)\n",
    "group_sizes['sample_size'] = np.floor(group_sizes['proportion'] * target_sample_size).astype(int)\n",
    "group_sizes"
   ]
  },
  {
   "cell_type": "code",
   "execution_count": 130,
   "id": "1fbb0b3e",
   "metadata": {},
   "outputs": [],
   "source": [
    "# Step 5: Merge this sample size information back to the original DataFrame\n",
    "df_2016_09_neg_sample_size = pd.merge(df_2016_09_neg, group_sizes[['year_week', 'LocationName', 'sample_size']], \n",
    "                               on=['year_week', 'LocationName'], how='left')"
   ]
  },
  {
   "cell_type": "code",
   "execution_count": 131,
   "id": "e62cb3ac",
   "metadata": {},
   "outputs": [
    {
     "name": "stdout",
     "output_type": "stream",
     "text": [
      "Sampled 1478 rows.\n"
     ]
    }
   ],
   "source": [
    "# Step 6: Perform the stratified sampling\n",
    "#df_2016_09_neg_sample = df_2016_09_neg_sample_size.groupby(['year_week', 'LocationName']).apply(\n",
    " #   lambda group: group.sample(n=group['sample_size'].iloc[0], random_state=42)\n",
    "#).reset_index(drop=True)\n",
    "df_2016_09_neg_sample = df_2016_09_neg\n",
    "# Step 7: Check the result\n",
    "print(f\"Sampled {len(df_2016_09_neg_sample)} rows.\")\n"
   ]
  },
  {
   "cell_type": "code",
   "execution_count": 132,
   "id": "f94fe9d7",
   "metadata": {},
   "outputs": [],
   "source": [
    "text_gpt_2016_09_neg = '\\n'.join(df_2016_09_neg_sample['text'].astype(str))"
   ]
  },
  {
   "cell_type": "markdown",
   "id": "b7904a7f",
   "metadata": {},
   "source": [
    "### Prompts and loops"
   ]
  },
  {
   "cell_type": "code",
   "execution_count": 133,
   "id": "71bbca85",
   "metadata": {},
   "outputs": [],
   "source": [
    "prompt_9 = prompt_raw.replace('TWEETS', text_gpt_2016_09_neg)"
   ]
  },
  {
   "cell_type": "code",
   "execution_count": 134,
   "id": "b7ae259f",
   "metadata": {
    "scrolled": false
   },
   "outputs": [],
   "source": [
    "response = openai.ChatCompletion.create(\n",
    "    model=\"gpt-4o-mini\",  \n",
    "    messages = [\n",
    "        {\"role\": \"user\", \"content\": prompt_9}\n",
    "    ],\n",
    "    max_tokens=400,  # Maximum number of tokens in the response\n",
    "    temperature=0.7  # Controls the randomness of the output\n",
    ")"
   ]
  },
  {
   "cell_type": "code",
   "execution_count": 135,
   "id": "8653eccf",
   "metadata": {},
   "outputs": [
    {
     "data": {
      "text/plain": [
       "'The sentences express a strong aversion to vaccinations, highlighting fears, pains, and negative experiences associated with them. Many mention physical discomfort following vaccinations, such as sore arms and reactions like fever. There are also concerns about vaccine shortages and safety, particularly regarding pets. The overall sentiment reflects anxiety and disdain for the vaccination process.'"
      ]
     },
     "execution_count": 135,
     "metadata": {},
     "output_type": "execute_result"
    }
   ],
   "source": [
    "response.choices[0].message.content"
   ]
  },
  {
   "cell_type": "code",
   "execution_count": 136,
   "id": "6be7b347",
   "metadata": {},
   "outputs": [],
   "source": [
    "#summary = []\n",
    "#dataset = []"
   ]
  },
  {
   "cell_type": "code",
   "execution_count": 137,
   "id": "550a921f",
   "metadata": {},
   "outputs": [],
   "source": [
    "dataset.append(\"2016_09_negitive\")"
   ]
  },
  {
   "cell_type": "code",
   "execution_count": 138,
   "id": "83240506",
   "metadata": {},
   "outputs": [],
   "source": [
    "summary.append(response.choices[0].message.content)"
   ]
  },
  {
   "cell_type": "code",
   "execution_count": 139,
   "id": "0c75735b",
   "metadata": {
    "tags": []
   },
   "outputs": [
    {
     "name": "stdout",
     "output_type": "stream",
     "text": [
      "<class 'pandas.core.frame.DataFrame'>\n",
      "RangeIndex: 9 entries, 0 to 8\n",
      "Data columns (total 2 columns):\n",
      " #   Column   Non-Null Count  Dtype \n",
      "---  ------   --------------  ----- \n",
      " 0   dataset  9 non-null      object\n",
      " 1   summary  9 non-null      object\n",
      "dtypes: object(2)\n",
      "memory usage: 272.0+ bytes\n"
     ]
    }
   ],
   "source": [
    "df_2016_neg = pd.DataFrame(list(zip(dataset, summary)),\n",
    "                            columns = ['dataset', 'summary'])\n",
    "df_2016_neg.info()"
   ]
  },
  {
   "cell_type": "code",
   "execution_count": 140,
   "id": "fa955f73",
   "metadata": {},
   "outputs": [
    {
     "data": {
      "text/html": [
       "<div>\n",
       "<style scoped>\n",
       "    .dataframe tbody tr th:only-of-type {\n",
       "        vertical-align: middle;\n",
       "    }\n",
       "\n",
       "    .dataframe tbody tr th {\n",
       "        vertical-align: top;\n",
       "    }\n",
       "\n",
       "    .dataframe thead th {\n",
       "        text-align: right;\n",
       "    }\n",
       "</style>\n",
       "<table border=\"1\" class=\"dataframe\">\n",
       "  <thead>\n",
       "    <tr style=\"text-align: right;\">\n",
       "      <th></th>\n",
       "      <th>dataset</th>\n",
       "      <th>summary</th>\n",
       "    </tr>\n",
       "  </thead>\n",
       "  <tbody>\n",
       "    <tr>\n",
       "      <th>0</th>\n",
       "      <td>2016_01_negitive</td>\n",
       "      <td>The sentences discuss various concerns and exp...</td>\n",
       "    </tr>\n",
       "    <tr>\n",
       "      <th>1</th>\n",
       "      <td>2016_02_negitive</td>\n",
       "      <td>The text discusses various concerns surroundin...</td>\n",
       "    </tr>\n",
       "    <tr>\n",
       "      <th>2</th>\n",
       "      <td>2016_03_negitive</td>\n",
       "      <td>The text discusses various opinions and experi...</td>\n",
       "    </tr>\n",
       "    <tr>\n",
       "      <th>3</th>\n",
       "      <td>2016_04_negitive</td>\n",
       "      <td>The text discusses various issues related to t...</td>\n",
       "    </tr>\n",
       "    <tr>\n",
       "      <th>4</th>\n",
       "      <td>2016_05_negitive</td>\n",
       "      <td>The text discusses various concerns and experi...</td>\n",
       "    </tr>\n",
       "    <tr>\n",
       "      <th>5</th>\n",
       "      <td>2016_06_negitive</td>\n",
       "      <td>The text discusses various opinions and experi...</td>\n",
       "    </tr>\n",
       "    <tr>\n",
       "      <th>6</th>\n",
       "      <td>2016_07_negitive</td>\n",
       "      <td>The text discusses various opinions and reacti...</td>\n",
       "    </tr>\n",
       "    <tr>\n",
       "      <th>7</th>\n",
       "      <td>2016_08_negitive</td>\n",
       "      <td>The text discusses various opinions and experi...</td>\n",
       "    </tr>\n",
       "    <tr>\n",
       "      <th>8</th>\n",
       "      <td>2016_09_negitive</td>\n",
       "      <td>The sentences express a strong aversion to vac...</td>\n",
       "    </tr>\n",
       "  </tbody>\n",
       "</table>\n",
       "</div>"
      ],
      "text/plain": [
       "            dataset                                            summary\n",
       "0  2016_01_negitive  The sentences discuss various concerns and exp...\n",
       "1  2016_02_negitive  The text discusses various concerns surroundin...\n",
       "2  2016_03_negitive  The text discusses various opinions and experi...\n",
       "3  2016_04_negitive  The text discusses various issues related to t...\n",
       "4  2016_05_negitive  The text discusses various concerns and experi...\n",
       "5  2016_06_negitive  The text discusses various opinions and experi...\n",
       "6  2016_07_negitive  The text discusses various opinions and reacti...\n",
       "7  2016_08_negitive  The text discusses various opinions and experi...\n",
       "8  2016_09_negitive  The sentences express a strong aversion to vac..."
      ]
     },
     "execution_count": 140,
     "metadata": {},
     "output_type": "execute_result"
    }
   ],
   "source": [
    "df_2016_neg.tail(14)"
   ]
  },
  {
   "cell_type": "code",
   "execution_count": 141,
   "id": "4c204870",
   "metadata": {},
   "outputs": [
    {
     "data": {
      "text/plain": [
       "<OpenAIObject chat.completion id=chatcmpl-AUd2BYWQZ9VqgmSZrNDGAAgvnldxN at 0x174dcd8f4a0> JSON: {\n",
       "  \"choices\": [\n",
       "    {\n",
       "      \"finish_reason\": \"stop\",\n",
       "      \"index\": 0,\n",
       "      \"logprobs\": null,\n",
       "      \"message\": {\n",
       "        \"content\": \"The sentences express a strong aversion to vaccinations, highlighting fears, pains, and negative experiences associated with them. Many mention physical discomfort following vaccinations, such as sore arms and reactions like fever. There are also concerns about vaccine shortages and safety, particularly regarding pets. The overall sentiment reflects anxiety and disdain for the vaccination process.\",\n",
       "        \"refusal\": null,\n",
       "        \"role\": \"assistant\"\n",
       "      }\n",
       "    }\n",
       "  ],\n",
       "  \"created\": 1731863251,\n",
       "  \"id\": \"chatcmpl-AUd2BYWQZ9VqgmSZrNDGAAgvnldxN\",\n",
       "  \"model\": \"gpt-4o-mini-2024-07-18\",\n",
       "  \"object\": \"chat.completion\",\n",
       "  \"system_fingerprint\": \"fp_0ba0d124f1\",\n",
       "  \"usage\": {\n",
       "    \"completion_tokens\": 64,\n",
       "    \"completion_tokens_details\": {\n",
       "      \"accepted_prediction_tokens\": 0,\n",
       "      \"audio_tokens\": 0,\n",
       "      \"reasoning_tokens\": 0,\n",
       "      \"rejected_prediction_tokens\": 0\n",
       "    },\n",
       "    \"prompt_tokens\": 28673,\n",
       "    \"prompt_tokens_details\": {\n",
       "      \"audio_tokens\": 0,\n",
       "      \"cached_tokens\": 0\n",
       "    },\n",
       "    \"total_tokens\": 28737\n",
       "  }\n",
       "}"
      ]
     },
     "execution_count": 141,
     "metadata": {},
     "output_type": "execute_result"
    }
   ],
   "source": [
    "response"
   ]
  },
  {
   "cell_type": "markdown",
   "id": "43f969b1",
   "metadata": {},
   "source": [
    "## October"
   ]
  },
  {
   "cell_type": "code",
   "execution_count": 142,
   "id": "28cedc2b",
   "metadata": {
    "scrolled": true,
    "tags": []
   },
   "outputs": [
    {
     "name": "stdout",
     "output_type": "stream",
     "text": [
      "<class 'pandas.core.frame.DataFrame'>\n",
      "RangeIndex: 826 entries, 0 to 825\n",
      "Data columns (total 53 columns):\n",
      " #   Column                  Non-Null Count  Dtype  \n",
      "---  ------                  --------------  -----  \n",
      " 0   index                   826 non-null    int64  \n",
      " 1   LocationCode            826 non-null    object \n",
      " 2   LocationName            826 non-null    object \n",
      " 3   StatesCode              826 non-null    object \n",
      " 4   ...4                    826 non-null    int64  \n",
      " 5   id                      826 non-null    float64\n",
      " 6   text                    826 non-null    object \n",
      " 7   label                   826 non-null    object \n",
      " 8   in_reply_to_status_id   97 non-null     float64\n",
      " 9   in_reply_to_user_id     98 non-null     float64\n",
      " 10  quoted_user_id          12 non-null     float64\n",
      " 11  quoted_status_id        12 non-null     float64\n",
      " 12  retweeted_user_id       73 non-null     float64\n",
      " 13  retweeted_status_id     73 non-null     float64\n",
      " 14  created_at              826 non-null    object \n",
      " 15  entities.user_mentions  197 non-null    object \n",
      " 16  user.id                 826 non-null    float64\n",
      " 17  user.screen_name        826 non-null    object \n",
      " 18  user.name               826 non-null    object \n",
      " 19  user.description        729 non-null    object \n",
      " 20  user.timezone           0 non-null      float64\n",
      " 21  user.location           793 non-null    object \n",
      " 22  user.num_followers      826 non-null    int64  \n",
      " 23  user.num_following      826 non-null    int64  \n",
      " 24  user.created_at         826 non-null    object \n",
      " 25  user.statuses_count     826 non-null    int64  \n",
      " 26  user.is_verified        826 non-null    bool   \n",
      " 27  lang                    826 non-null    object \n",
      " 28  token_count             826 non-null    int64  \n",
      " 29  is_retweet              826 non-null    bool   \n",
      " 30  has_quote               826 non-null    bool   \n",
      " 31  is_reply                826 non-null    bool   \n",
      " 32  contains_keywords       826 non-null    bool   \n",
      " 33  longitude               826 non-null    float64\n",
      " 34  latitude                826 non-null    float64\n",
      " 35  country_code            826 non-null    object \n",
      " 36  geoname_id              673 non-null    float64\n",
      " 37  location_type           826 non-null    object \n",
      " 38  geo_type                826 non-null    int64  \n",
      " 39  region                  826 non-null    object \n",
      " 40  subregion               826 non-null    object \n",
      " 41  num_quotes              826 non-null    int64  \n",
      " 42  num_replies             826 non-null    int64  \n",
      " 43  num_retweets            826 non-null    int64  \n",
      " 44  sent_gpt                826 non-null    object \n",
      " 45  gpt_sent_presence       826 non-null    int64  \n",
      " 46  cleaned_text_lem        826 non-null    object \n",
      " 47  cleaned_text            826 non-null    object \n",
      " 48  month                   826 non-null    int64  \n",
      " 49  year                    826 non-null    int64  \n",
      " 50  week                    826 non-null    int64  \n",
      " 51  year_month              826 non-null    object \n",
      " 52  year_week               826 non-null    object \n",
      "dtypes: bool(5), float64(12), int64(14), object(22)\n",
      "memory usage: 313.9+ KB\n"
     ]
    }
   ],
   "source": [
    "# Get monthly data\n",
    "df_2016_10_neg = pd.read_csv('../data/local/df_neg_2016-10.csv').reset_index()\n",
    "df_2016_10_neg.info()"
   ]
  },
  {
   "cell_type": "markdown",
   "id": "616f674a",
   "metadata": {},
   "source": [
    "### Representative sample based on week and location"
   ]
  },
  {
   "cell_type": "code",
   "execution_count": 143,
   "id": "9cb193cd",
   "metadata": {},
   "outputs": [
    {
     "data": {
      "text/html": [
       "<div>\n",
       "<style scoped>\n",
       "    .dataframe tbody tr th:only-of-type {\n",
       "        vertical-align: middle;\n",
       "    }\n",
       "\n",
       "    .dataframe tbody tr th {\n",
       "        vertical-align: top;\n",
       "    }\n",
       "\n",
       "    .dataframe thead th {\n",
       "        text-align: right;\n",
       "    }\n",
       "</style>\n",
       "<table border=\"1\" class=\"dataframe\">\n",
       "  <thead>\n",
       "    <tr style=\"text-align: right;\">\n",
       "      <th></th>\n",
       "      <th>year_week</th>\n",
       "      <th>LocationName</th>\n",
       "      <th>group_size</th>\n",
       "      <th>proportion</th>\n",
       "    </tr>\n",
       "  </thead>\n",
       "  <tbody>\n",
       "    <tr>\n",
       "      <th>0</th>\n",
       "      <td>2016-w40</td>\n",
       "      <td>Amazonas</td>\n",
       "      <td>7</td>\n",
       "      <td>0.008475</td>\n",
       "    </tr>\n",
       "    <tr>\n",
       "      <th>1</th>\n",
       "      <td>2016-w40</td>\n",
       "      <td>Bahia</td>\n",
       "      <td>7</td>\n",
       "      <td>0.008475</td>\n",
       "    </tr>\n",
       "    <tr>\n",
       "      <th>2</th>\n",
       "      <td>2016-w40</td>\n",
       "      <td>Ceara</td>\n",
       "      <td>3</td>\n",
       "      <td>0.003632</td>\n",
       "    </tr>\n",
       "    <tr>\n",
       "      <th>3</th>\n",
       "      <td>2016-w40</td>\n",
       "      <td>Distrito Federal</td>\n",
       "      <td>5</td>\n",
       "      <td>0.006053</td>\n",
       "    </tr>\n",
       "    <tr>\n",
       "      <th>4</th>\n",
       "      <td>2016-w40</td>\n",
       "      <td>Espirito Santo</td>\n",
       "      <td>6</td>\n",
       "      <td>0.007264</td>\n",
       "    </tr>\n",
       "    <tr>\n",
       "      <th>...</th>\n",
       "      <td>...</td>\n",
       "      <td>...</td>\n",
       "      <td>...</td>\n",
       "      <td>...</td>\n",
       "    </tr>\n",
       "    <tr>\n",
       "      <th>85</th>\n",
       "      <td>2016-w44</td>\n",
       "      <td>Pernambuco</td>\n",
       "      <td>1</td>\n",
       "      <td>0.001211</td>\n",
       "    </tr>\n",
       "    <tr>\n",
       "      <th>86</th>\n",
       "      <td>2016-w44</td>\n",
       "      <td>Rio De Janeiro</td>\n",
       "      <td>1</td>\n",
       "      <td>0.001211</td>\n",
       "    </tr>\n",
       "    <tr>\n",
       "      <th>87</th>\n",
       "      <td>2016-w44</td>\n",
       "      <td>Rio Grande Do Sul</td>\n",
       "      <td>8</td>\n",
       "      <td>0.009685</td>\n",
       "    </tr>\n",
       "    <tr>\n",
       "      <th>88</th>\n",
       "      <td>2016-w44</td>\n",
       "      <td>Santa Catarina</td>\n",
       "      <td>3</td>\n",
       "      <td>0.003632</td>\n",
       "    </tr>\n",
       "    <tr>\n",
       "      <th>89</th>\n",
       "      <td>2016-w44</td>\n",
       "      <td>Sao Paulo</td>\n",
       "      <td>15</td>\n",
       "      <td>0.018160</td>\n",
       "    </tr>\n",
       "  </tbody>\n",
       "</table>\n",
       "<p>90 rows × 4 columns</p>\n",
       "</div>"
      ],
      "text/plain": [
       "   year_week       LocationName  group_size  proportion\n",
       "0   2016-w40           Amazonas           7    0.008475\n",
       "1   2016-w40              Bahia           7    0.008475\n",
       "2   2016-w40              Ceara           3    0.003632\n",
       "3   2016-w40   Distrito Federal           5    0.006053\n",
       "4   2016-w40     Espirito Santo           6    0.007264\n",
       "..       ...                ...         ...         ...\n",
       "85  2016-w44         Pernambuco           1    0.001211\n",
       "86  2016-w44     Rio De Janeiro           1    0.001211\n",
       "87  2016-w44  Rio Grande Do Sul           8    0.009685\n",
       "88  2016-w44     Santa Catarina           3    0.003632\n",
       "89  2016-w44          Sao Paulo          15    0.018160\n",
       "\n",
       "[90 rows x 4 columns]"
      ]
     },
     "execution_count": 143,
     "metadata": {},
     "output_type": "execute_result"
    }
   ],
   "source": [
    "# Step 1: Calculate the size of each group (year_week, LocationName)\n",
    "group_sizes = df_2016_10_neg.groupby(['year_week', 'LocationName']).size().reset_index(name='group_size')\n",
    "\n",
    "# Step 2: Calculate the proportion of each group in the dataset\n",
    "total_rows = len(df_2016_10_neg)\n",
    "group_sizes['proportion'] = group_sizes['group_size'] / total_rows\n",
    "group_sizes"
   ]
  },
  {
   "cell_type": "code",
   "execution_count": 144,
   "id": "610efcf6",
   "metadata": {},
   "outputs": [
    {
     "data": {
      "text/html": [
       "<div>\n",
       "<style scoped>\n",
       "    .dataframe tbody tr th:only-of-type {\n",
       "        vertical-align: middle;\n",
       "    }\n",
       "\n",
       "    .dataframe tbody tr th {\n",
       "        vertical-align: top;\n",
       "    }\n",
       "\n",
       "    .dataframe thead th {\n",
       "        text-align: right;\n",
       "    }\n",
       "</style>\n",
       "<table border=\"1\" class=\"dataframe\">\n",
       "  <thead>\n",
       "    <tr style=\"text-align: right;\">\n",
       "      <th></th>\n",
       "      <th>year_week</th>\n",
       "      <th>LocationName</th>\n",
       "      <th>group_size</th>\n",
       "      <th>proportion</th>\n",
       "      <th>sample_size</th>\n",
       "    </tr>\n",
       "  </thead>\n",
       "  <tbody>\n",
       "    <tr>\n",
       "      <th>0</th>\n",
       "      <td>2016-w40</td>\n",
       "      <td>Amazonas</td>\n",
       "      <td>7</td>\n",
       "      <td>0.008475</td>\n",
       "      <td>20</td>\n",
       "    </tr>\n",
       "    <tr>\n",
       "      <th>1</th>\n",
       "      <td>2016-w40</td>\n",
       "      <td>Bahia</td>\n",
       "      <td>7</td>\n",
       "      <td>0.008475</td>\n",
       "      <td>20</td>\n",
       "    </tr>\n",
       "    <tr>\n",
       "      <th>2</th>\n",
       "      <td>2016-w40</td>\n",
       "      <td>Ceara</td>\n",
       "      <td>3</td>\n",
       "      <td>0.003632</td>\n",
       "      <td>8</td>\n",
       "    </tr>\n",
       "    <tr>\n",
       "      <th>3</th>\n",
       "      <td>2016-w40</td>\n",
       "      <td>Distrito Federal</td>\n",
       "      <td>5</td>\n",
       "      <td>0.006053</td>\n",
       "      <td>14</td>\n",
       "    </tr>\n",
       "    <tr>\n",
       "      <th>4</th>\n",
       "      <td>2016-w40</td>\n",
       "      <td>Espirito Santo</td>\n",
       "      <td>6</td>\n",
       "      <td>0.007264</td>\n",
       "      <td>17</td>\n",
       "    </tr>\n",
       "    <tr>\n",
       "      <th>...</th>\n",
       "      <td>...</td>\n",
       "      <td>...</td>\n",
       "      <td>...</td>\n",
       "      <td>...</td>\n",
       "      <td>...</td>\n",
       "    </tr>\n",
       "    <tr>\n",
       "      <th>85</th>\n",
       "      <td>2016-w44</td>\n",
       "      <td>Pernambuco</td>\n",
       "      <td>1</td>\n",
       "      <td>0.001211</td>\n",
       "      <td>2</td>\n",
       "    </tr>\n",
       "    <tr>\n",
       "      <th>86</th>\n",
       "      <td>2016-w44</td>\n",
       "      <td>Rio De Janeiro</td>\n",
       "      <td>1</td>\n",
       "      <td>0.001211</td>\n",
       "      <td>2</td>\n",
       "    </tr>\n",
       "    <tr>\n",
       "      <th>87</th>\n",
       "      <td>2016-w44</td>\n",
       "      <td>Rio Grande Do Sul</td>\n",
       "      <td>8</td>\n",
       "      <td>0.009685</td>\n",
       "      <td>23</td>\n",
       "    </tr>\n",
       "    <tr>\n",
       "      <th>88</th>\n",
       "      <td>2016-w44</td>\n",
       "      <td>Santa Catarina</td>\n",
       "      <td>3</td>\n",
       "      <td>0.003632</td>\n",
       "      <td>8</td>\n",
       "    </tr>\n",
       "    <tr>\n",
       "      <th>89</th>\n",
       "      <td>2016-w44</td>\n",
       "      <td>Sao Paulo</td>\n",
       "      <td>15</td>\n",
       "      <td>0.018160</td>\n",
       "      <td>44</td>\n",
       "    </tr>\n",
       "  </tbody>\n",
       "</table>\n",
       "<p>90 rows × 5 columns</p>\n",
       "</div>"
      ],
      "text/plain": [
       "   year_week       LocationName  group_size  proportion  sample_size\n",
       "0   2016-w40           Amazonas           7    0.008475           20\n",
       "1   2016-w40              Bahia           7    0.008475           20\n",
       "2   2016-w40              Ceara           3    0.003632            8\n",
       "3   2016-w40   Distrito Federal           5    0.006053           14\n",
       "4   2016-w40     Espirito Santo           6    0.007264           17\n",
       "..       ...                ...         ...         ...          ...\n",
       "85  2016-w44         Pernambuco           1    0.001211            2\n",
       "86  2016-w44     Rio De Janeiro           1    0.001211            2\n",
       "87  2016-w44  Rio Grande Do Sul           8    0.009685           23\n",
       "88  2016-w44     Santa Catarina           3    0.003632            8\n",
       "89  2016-w44          Sao Paulo          15    0.018160           44\n",
       "\n",
       "[90 rows x 5 columns]"
      ]
     },
     "execution_count": 144,
     "metadata": {},
     "output_type": "execute_result"
    }
   ],
   "source": [
    "# Step 3: Define the target sample size\n",
    "target_sample_size = 2450\n",
    "\n",
    "# Step 4: Calculate the sample size for each group (based on its proportion)\n",
    "group_sizes['sample_size'] = np.floor(group_sizes['proportion'] * target_sample_size).astype(int)\n",
    "group_sizes"
   ]
  },
  {
   "cell_type": "code",
   "execution_count": 145,
   "id": "361d2734",
   "metadata": {},
   "outputs": [],
   "source": [
    "# Step 5: Merge this sample size information back to the original DataFrame\n",
    "df_2016_10_neg_sample_size = pd.merge(df_2016_10_neg, group_sizes[['year_week', 'LocationName', 'sample_size']], \n",
    "                               on=['year_week', 'LocationName'], how='left')"
   ]
  },
  {
   "cell_type": "code",
   "execution_count": 146,
   "id": "cd34d6e4",
   "metadata": {},
   "outputs": [
    {
     "name": "stdout",
     "output_type": "stream",
     "text": [
      "Sampled 826 rows.\n"
     ]
    }
   ],
   "source": [
    "# Step 6: Perform the stratified sampling\n",
    "#df_2016_10_neg_sample = df_2016_10_neg_sample_size.groupby(['year_week', 'LocationName']).apply(\n",
    "#    lambda group: group.sample(n=group['sample_size'].iloc[0], random_state=42)\n",
    "#).reset_index(drop=True)\n",
    "df_2016_10_neg_sample = df_2016_10_neg\n",
    "# Step 7: Check the result\n",
    "print(f\"Sampled {len(df_2016_10_neg_sample)} rows.\")\n"
   ]
  },
  {
   "cell_type": "code",
   "execution_count": 147,
   "id": "853aa7a6",
   "metadata": {},
   "outputs": [],
   "source": [
    "text_gpt_2016_10_neg = '\\n'.join(df_2016_10_neg_sample['text'].astype(str))"
   ]
  },
  {
   "cell_type": "markdown",
   "id": "0e857dd6",
   "metadata": {},
   "source": [
    "### Prompts and loops"
   ]
  },
  {
   "cell_type": "code",
   "execution_count": 148,
   "id": "997a28ad",
   "metadata": {},
   "outputs": [],
   "source": [
    "prompt_10 = prompt_raw.replace('TWEETS', text_gpt_2016_10_neg)"
   ]
  },
  {
   "cell_type": "code",
   "execution_count": 149,
   "id": "0ad6cb21",
   "metadata": {
    "scrolled": false
   },
   "outputs": [],
   "source": [
    "response = openai.ChatCompletion.create(\n",
    "    model=\"gpt-4o-mini\",  \n",
    "    messages = [\n",
    "        {\"role\": \"user\", \"content\": prompt_10}\n",
    "    ],\n",
    "    max_tokens=400,  # Maximum number of tokens in the response\n",
    "    temperature=0.7  # Controls the randomness of the output\n",
    ")"
   ]
  },
  {
   "cell_type": "code",
   "execution_count": 150,
   "id": "f98d14d4",
   "metadata": {},
   "outputs": [
    {
     "data": {
      "text/plain": [
       "'The provided sentences discuss a variety of experiences and sentiments related to vaccinations. Common themes include fear and anxiety about receiving vaccines, physical pain and side effects afterward, and frustrations with the healthcare system regarding vaccine availability. Some also express skepticism or negative beliefs about vaccines, while others share humorous or relatable anecdotes about the challenges of vaccination, especially for children and pets.'"
      ]
     },
     "execution_count": 150,
     "metadata": {},
     "output_type": "execute_result"
    }
   ],
   "source": [
    "response.choices[0].message.content"
   ]
  },
  {
   "cell_type": "code",
   "execution_count": 151,
   "id": "148185bf",
   "metadata": {},
   "outputs": [],
   "source": [
    "#summary = []\n",
    "#dataset = []"
   ]
  },
  {
   "cell_type": "code",
   "execution_count": 152,
   "id": "91999070",
   "metadata": {},
   "outputs": [],
   "source": [
    "dataset.append(\"2016_10_negitive\")"
   ]
  },
  {
   "cell_type": "code",
   "execution_count": 153,
   "id": "ca0c8fcc",
   "metadata": {},
   "outputs": [],
   "source": [
    "summary.append(response.choices[0].message.content)"
   ]
  },
  {
   "cell_type": "code",
   "execution_count": 154,
   "id": "75de78c6",
   "metadata": {
    "tags": []
   },
   "outputs": [
    {
     "name": "stdout",
     "output_type": "stream",
     "text": [
      "<class 'pandas.core.frame.DataFrame'>\n",
      "RangeIndex: 10 entries, 0 to 9\n",
      "Data columns (total 2 columns):\n",
      " #   Column   Non-Null Count  Dtype \n",
      "---  ------   --------------  ----- \n",
      " 0   dataset  10 non-null     object\n",
      " 1   summary  10 non-null     object\n",
      "dtypes: object(2)\n",
      "memory usage: 288.0+ bytes\n"
     ]
    }
   ],
   "source": [
    "df_2016_neg = pd.DataFrame(list(zip(dataset, summary)),\n",
    "                            columns = ['dataset', 'summary'])\n",
    "df_2016_neg.info()"
   ]
  },
  {
   "cell_type": "code",
   "execution_count": 155,
   "id": "33f398cf",
   "metadata": {},
   "outputs": [
    {
     "data": {
      "text/html": [
       "<div>\n",
       "<style scoped>\n",
       "    .dataframe tbody tr th:only-of-type {\n",
       "        vertical-align: middle;\n",
       "    }\n",
       "\n",
       "    .dataframe tbody tr th {\n",
       "        vertical-align: top;\n",
       "    }\n",
       "\n",
       "    .dataframe thead th {\n",
       "        text-align: right;\n",
       "    }\n",
       "</style>\n",
       "<table border=\"1\" class=\"dataframe\">\n",
       "  <thead>\n",
       "    <tr style=\"text-align: right;\">\n",
       "      <th></th>\n",
       "      <th>dataset</th>\n",
       "      <th>summary</th>\n",
       "    </tr>\n",
       "  </thead>\n",
       "  <tbody>\n",
       "    <tr>\n",
       "      <th>0</th>\n",
       "      <td>2016_01_negitive</td>\n",
       "      <td>The sentences discuss various concerns and exp...</td>\n",
       "    </tr>\n",
       "    <tr>\n",
       "      <th>1</th>\n",
       "      <td>2016_02_negitive</td>\n",
       "      <td>The text discusses various concerns surroundin...</td>\n",
       "    </tr>\n",
       "    <tr>\n",
       "      <th>2</th>\n",
       "      <td>2016_03_negitive</td>\n",
       "      <td>The text discusses various opinions and experi...</td>\n",
       "    </tr>\n",
       "    <tr>\n",
       "      <th>3</th>\n",
       "      <td>2016_04_negitive</td>\n",
       "      <td>The text discusses various issues related to t...</td>\n",
       "    </tr>\n",
       "    <tr>\n",
       "      <th>4</th>\n",
       "      <td>2016_05_negitive</td>\n",
       "      <td>The text discusses various concerns and experi...</td>\n",
       "    </tr>\n",
       "    <tr>\n",
       "      <th>5</th>\n",
       "      <td>2016_06_negitive</td>\n",
       "      <td>The text discusses various opinions and experi...</td>\n",
       "    </tr>\n",
       "    <tr>\n",
       "      <th>6</th>\n",
       "      <td>2016_07_negitive</td>\n",
       "      <td>The text discusses various opinions and reacti...</td>\n",
       "    </tr>\n",
       "    <tr>\n",
       "      <th>7</th>\n",
       "      <td>2016_08_negitive</td>\n",
       "      <td>The text discusses various opinions and experi...</td>\n",
       "    </tr>\n",
       "    <tr>\n",
       "      <th>8</th>\n",
       "      <td>2016_09_negitive</td>\n",
       "      <td>The sentences express a strong aversion to vac...</td>\n",
       "    </tr>\n",
       "    <tr>\n",
       "      <th>9</th>\n",
       "      <td>2016_10_negitive</td>\n",
       "      <td>The provided sentences discuss a variety of ex...</td>\n",
       "    </tr>\n",
       "  </tbody>\n",
       "</table>\n",
       "</div>"
      ],
      "text/plain": [
       "            dataset                                            summary\n",
       "0  2016_01_negitive  The sentences discuss various concerns and exp...\n",
       "1  2016_02_negitive  The text discusses various concerns surroundin...\n",
       "2  2016_03_negitive  The text discusses various opinions and experi...\n",
       "3  2016_04_negitive  The text discusses various issues related to t...\n",
       "4  2016_05_negitive  The text discusses various concerns and experi...\n",
       "5  2016_06_negitive  The text discusses various opinions and experi...\n",
       "6  2016_07_negitive  The text discusses various opinions and reacti...\n",
       "7  2016_08_negitive  The text discusses various opinions and experi...\n",
       "8  2016_09_negitive  The sentences express a strong aversion to vac...\n",
       "9  2016_10_negitive  The provided sentences discuss a variety of ex..."
      ]
     },
     "execution_count": 155,
     "metadata": {},
     "output_type": "execute_result"
    }
   ],
   "source": [
    "df_2016_neg.tail(14)"
   ]
  },
  {
   "cell_type": "code",
   "execution_count": 156,
   "id": "c9aa4469",
   "metadata": {},
   "outputs": [
    {
     "data": {
      "text/plain": [
       "<OpenAIObject chat.completion id=chatcmpl-AUd2E0gwnnbh73I8vvmDCxdtLW4rM at 0x174de13ee00> JSON: {\n",
       "  \"choices\": [\n",
       "    {\n",
       "      \"finish_reason\": \"stop\",\n",
       "      \"index\": 0,\n",
       "      \"logprobs\": null,\n",
       "      \"message\": {\n",
       "        \"content\": \"The provided sentences discuss a variety of experiences and sentiments related to vaccinations. Common themes include fear and anxiety about receiving vaccines, physical pain and side effects afterward, and frustrations with the healthcare system regarding vaccine availability. Some also express skepticism or negative beliefs about vaccines, while others share humorous or relatable anecdotes about the challenges of vaccination, especially for children and pets.\",\n",
       "        \"refusal\": null,\n",
       "        \"role\": \"assistant\"\n",
       "      }\n",
       "    }\n",
       "  ],\n",
       "  \"created\": 1731863254,\n",
       "  \"id\": \"chatcmpl-AUd2E0gwnnbh73I8vvmDCxdtLW4rM\",\n",
       "  \"model\": \"gpt-4o-mini-2024-07-18\",\n",
       "  \"object\": \"chat.completion\",\n",
       "  \"system_fingerprint\": \"fp_0ba0d124f1\",\n",
       "  \"usage\": {\n",
       "    \"completion_tokens\": 70,\n",
       "    \"completion_tokens_details\": {\n",
       "      \"accepted_prediction_tokens\": 0,\n",
       "      \"audio_tokens\": 0,\n",
       "      \"reasoning_tokens\": 0,\n",
       "      \"rejected_prediction_tokens\": 0\n",
       "    },\n",
       "    \"prompt_tokens\": 17403,\n",
       "    \"prompt_tokens_details\": {\n",
       "      \"audio_tokens\": 0,\n",
       "      \"cached_tokens\": 0\n",
       "    },\n",
       "    \"total_tokens\": 17473\n",
       "  }\n",
       "}"
      ]
     },
     "execution_count": 156,
     "metadata": {},
     "output_type": "execute_result"
    }
   ],
   "source": [
    "response"
   ]
  },
  {
   "cell_type": "markdown",
   "id": "d476f7a3",
   "metadata": {},
   "source": [
    "## November"
   ]
  },
  {
   "cell_type": "code",
   "execution_count": 157,
   "id": "63dc91c7",
   "metadata": {
    "scrolled": true,
    "tags": []
   },
   "outputs": [
    {
     "name": "stdout",
     "output_type": "stream",
     "text": [
      "<class 'pandas.core.frame.DataFrame'>\n",
      "RangeIndex: 716 entries, 0 to 715\n",
      "Data columns (total 53 columns):\n",
      " #   Column                  Non-Null Count  Dtype  \n",
      "---  ------                  --------------  -----  \n",
      " 0   index                   716 non-null    int64  \n",
      " 1   LocationCode            716 non-null    object \n",
      " 2   LocationName            716 non-null    object \n",
      " 3   StatesCode              716 non-null    object \n",
      " 4   ...4                    716 non-null    int64  \n",
      " 5   id                      716 non-null    float64\n",
      " 6   text                    716 non-null    object \n",
      " 7   label                   716 non-null    object \n",
      " 8   in_reply_to_status_id   79 non-null     float64\n",
      " 9   in_reply_to_user_id     81 non-null     float64\n",
      " 10  quoted_user_id          15 non-null     float64\n",
      " 11  quoted_status_id        15 non-null     float64\n",
      " 12  retweeted_user_id       100 non-null    float64\n",
      " 13  retweeted_status_id     100 non-null    float64\n",
      " 14  created_at              716 non-null    object \n",
      " 15  entities.user_mentions  197 non-null    object \n",
      " 16  user.id                 716 non-null    float64\n",
      " 17  user.screen_name        716 non-null    object \n",
      " 18  user.name               716 non-null    object \n",
      " 19  user.description        635 non-null    object \n",
      " 20  user.timezone           0 non-null      float64\n",
      " 21  user.location           692 non-null    object \n",
      " 22  user.num_followers      716 non-null    int64  \n",
      " 23  user.num_following      716 non-null    int64  \n",
      " 24  user.created_at         716 non-null    object \n",
      " 25  user.statuses_count     716 non-null    int64  \n",
      " 26  user.is_verified        716 non-null    bool   \n",
      " 27  lang                    716 non-null    object \n",
      " 28  token_count             716 non-null    int64  \n",
      " 29  is_retweet              716 non-null    bool   \n",
      " 30  has_quote               716 non-null    bool   \n",
      " 31  is_reply                716 non-null    bool   \n",
      " 32  contains_keywords       716 non-null    bool   \n",
      " 33  longitude               716 non-null    float64\n",
      " 34  latitude                716 non-null    float64\n",
      " 35  country_code            716 non-null    object \n",
      " 36  geoname_id              607 non-null    float64\n",
      " 37  location_type           716 non-null    object \n",
      " 38  geo_type                716 non-null    int64  \n",
      " 39  region                  716 non-null    object \n",
      " 40  subregion               716 non-null    object \n",
      " 41  num_quotes              716 non-null    int64  \n",
      " 42  num_replies             716 non-null    int64  \n",
      " 43  num_retweets            716 non-null    int64  \n",
      " 44  sent_gpt                716 non-null    object \n",
      " 45  gpt_sent_presence       716 non-null    int64  \n",
      " 46  cleaned_text_lem        716 non-null    object \n",
      " 47  cleaned_text            716 non-null    object \n",
      " 48  month                   716 non-null    int64  \n",
      " 49  year                    716 non-null    int64  \n",
      " 50  week                    716 non-null    int64  \n",
      " 51  year_month              716 non-null    object \n",
      " 52  year_week               716 non-null    object \n",
      "dtypes: bool(5), float64(12), int64(14), object(22)\n",
      "memory usage: 272.1+ KB\n"
     ]
    }
   ],
   "source": [
    "# Get monthly data\n",
    "df_2016_11_neg = pd.read_csv('../data/local/df_neg_2016-11.csv').reset_index()\n",
    "df_2016_11_neg.info()"
   ]
  },
  {
   "cell_type": "markdown",
   "id": "e44ca951",
   "metadata": {},
   "source": [
    "### Representative sample based on week and location"
   ]
  },
  {
   "cell_type": "code",
   "execution_count": 158,
   "id": "58f0a8ff",
   "metadata": {},
   "outputs": [
    {
     "data": {
      "text/html": [
       "<div>\n",
       "<style scoped>\n",
       "    .dataframe tbody tr th:only-of-type {\n",
       "        vertical-align: middle;\n",
       "    }\n",
       "\n",
       "    .dataframe tbody tr th {\n",
       "        vertical-align: top;\n",
       "    }\n",
       "\n",
       "    .dataframe thead th {\n",
       "        text-align: right;\n",
       "    }\n",
       "</style>\n",
       "<table border=\"1\" class=\"dataframe\">\n",
       "  <thead>\n",
       "    <tr style=\"text-align: right;\">\n",
       "      <th></th>\n",
       "      <th>year_week</th>\n",
       "      <th>LocationName</th>\n",
       "      <th>group_size</th>\n",
       "      <th>proportion</th>\n",
       "    </tr>\n",
       "  </thead>\n",
       "  <tbody>\n",
       "    <tr>\n",
       "      <th>0</th>\n",
       "      <td>2016-w44</td>\n",
       "      <td>Alagoas</td>\n",
       "      <td>1</td>\n",
       "      <td>0.001397</td>\n",
       "    </tr>\n",
       "    <tr>\n",
       "      <th>1</th>\n",
       "      <td>2016-w44</td>\n",
       "      <td>Amazonas</td>\n",
       "      <td>2</td>\n",
       "      <td>0.002793</td>\n",
       "    </tr>\n",
       "    <tr>\n",
       "      <th>2</th>\n",
       "      <td>2016-w44</td>\n",
       "      <td>Bahia</td>\n",
       "      <td>3</td>\n",
       "      <td>0.004190</td>\n",
       "    </tr>\n",
       "    <tr>\n",
       "      <th>3</th>\n",
       "      <td>2016-w44</td>\n",
       "      <td>Ceara</td>\n",
       "      <td>3</td>\n",
       "      <td>0.004190</td>\n",
       "    </tr>\n",
       "    <tr>\n",
       "      <th>4</th>\n",
       "      <td>2016-w44</td>\n",
       "      <td>Distrito Federal</td>\n",
       "      <td>6</td>\n",
       "      <td>0.008380</td>\n",
       "    </tr>\n",
       "    <tr>\n",
       "      <th>...</th>\n",
       "      <td>...</td>\n",
       "      <td>...</td>\n",
       "      <td>...</td>\n",
       "      <td>...</td>\n",
       "    </tr>\n",
       "    <tr>\n",
       "      <th>72</th>\n",
       "      <td>2016-w48</td>\n",
       "      <td>Parana</td>\n",
       "      <td>6</td>\n",
       "      <td>0.008380</td>\n",
       "    </tr>\n",
       "    <tr>\n",
       "      <th>73</th>\n",
       "      <td>2016-w48</td>\n",
       "      <td>Rio Grande Do Sul</td>\n",
       "      <td>13</td>\n",
       "      <td>0.018156</td>\n",
       "    </tr>\n",
       "    <tr>\n",
       "      <th>74</th>\n",
       "      <td>2016-w48</td>\n",
       "      <td>Santa Catarina</td>\n",
       "      <td>8</td>\n",
       "      <td>0.011173</td>\n",
       "    </tr>\n",
       "    <tr>\n",
       "      <th>75</th>\n",
       "      <td>2016-w48</td>\n",
       "      <td>Sao Paulo</td>\n",
       "      <td>37</td>\n",
       "      <td>0.051676</td>\n",
       "    </tr>\n",
       "    <tr>\n",
       "      <th>76</th>\n",
       "      <td>2016-w48</td>\n",
       "      <td>Sergipe</td>\n",
       "      <td>4</td>\n",
       "      <td>0.005587</td>\n",
       "    </tr>\n",
       "  </tbody>\n",
       "</table>\n",
       "<p>77 rows × 4 columns</p>\n",
       "</div>"
      ],
      "text/plain": [
       "   year_week       LocationName  group_size  proportion\n",
       "0   2016-w44            Alagoas           1    0.001397\n",
       "1   2016-w44           Amazonas           2    0.002793\n",
       "2   2016-w44              Bahia           3    0.004190\n",
       "3   2016-w44              Ceara           3    0.004190\n",
       "4   2016-w44   Distrito Federal           6    0.008380\n",
       "..       ...                ...         ...         ...\n",
       "72  2016-w48             Parana           6    0.008380\n",
       "73  2016-w48  Rio Grande Do Sul          13    0.018156\n",
       "74  2016-w48     Santa Catarina           8    0.011173\n",
       "75  2016-w48          Sao Paulo          37    0.051676\n",
       "76  2016-w48            Sergipe           4    0.005587\n",
       "\n",
       "[77 rows x 4 columns]"
      ]
     },
     "execution_count": 158,
     "metadata": {},
     "output_type": "execute_result"
    }
   ],
   "source": [
    "# Step 1: Calculate the size of each group (year_week, LocationName)\n",
    "group_sizes = df_2016_11_neg.groupby(['year_week', 'LocationName']).size().reset_index(name='group_size')\n",
    "\n",
    "# Step 2: Calculate the proportion of each group in the dataset\n",
    "total_rows = len(df_2016_11_neg)\n",
    "group_sizes['proportion'] = group_sizes['group_size'] / total_rows\n",
    "group_sizes"
   ]
  },
  {
   "cell_type": "code",
   "execution_count": 159,
   "id": "52c7e839",
   "metadata": {},
   "outputs": [
    {
     "data": {
      "text/html": [
       "<div>\n",
       "<style scoped>\n",
       "    .dataframe tbody tr th:only-of-type {\n",
       "        vertical-align: middle;\n",
       "    }\n",
       "\n",
       "    .dataframe tbody tr th {\n",
       "        vertical-align: top;\n",
       "    }\n",
       "\n",
       "    .dataframe thead th {\n",
       "        text-align: right;\n",
       "    }\n",
       "</style>\n",
       "<table border=\"1\" class=\"dataframe\">\n",
       "  <thead>\n",
       "    <tr style=\"text-align: right;\">\n",
       "      <th></th>\n",
       "      <th>year_week</th>\n",
       "      <th>LocationName</th>\n",
       "      <th>group_size</th>\n",
       "      <th>proportion</th>\n",
       "      <th>sample_size</th>\n",
       "    </tr>\n",
       "  </thead>\n",
       "  <tbody>\n",
       "    <tr>\n",
       "      <th>0</th>\n",
       "      <td>2016-w44</td>\n",
       "      <td>Alagoas</td>\n",
       "      <td>1</td>\n",
       "      <td>0.001397</td>\n",
       "      <td>3</td>\n",
       "    </tr>\n",
       "    <tr>\n",
       "      <th>1</th>\n",
       "      <td>2016-w44</td>\n",
       "      <td>Amazonas</td>\n",
       "      <td>2</td>\n",
       "      <td>0.002793</td>\n",
       "      <td>6</td>\n",
       "    </tr>\n",
       "    <tr>\n",
       "      <th>2</th>\n",
       "      <td>2016-w44</td>\n",
       "      <td>Bahia</td>\n",
       "      <td>3</td>\n",
       "      <td>0.004190</td>\n",
       "      <td>10</td>\n",
       "    </tr>\n",
       "    <tr>\n",
       "      <th>3</th>\n",
       "      <td>2016-w44</td>\n",
       "      <td>Ceara</td>\n",
       "      <td>3</td>\n",
       "      <td>0.004190</td>\n",
       "      <td>10</td>\n",
       "    </tr>\n",
       "    <tr>\n",
       "      <th>4</th>\n",
       "      <td>2016-w44</td>\n",
       "      <td>Distrito Federal</td>\n",
       "      <td>6</td>\n",
       "      <td>0.008380</td>\n",
       "      <td>20</td>\n",
       "    </tr>\n",
       "    <tr>\n",
       "      <th>...</th>\n",
       "      <td>...</td>\n",
       "      <td>...</td>\n",
       "      <td>...</td>\n",
       "      <td>...</td>\n",
       "      <td>...</td>\n",
       "    </tr>\n",
       "    <tr>\n",
       "      <th>72</th>\n",
       "      <td>2016-w48</td>\n",
       "      <td>Parana</td>\n",
       "      <td>6</td>\n",
       "      <td>0.008380</td>\n",
       "      <td>20</td>\n",
       "    </tr>\n",
       "    <tr>\n",
       "      <th>73</th>\n",
       "      <td>2016-w48</td>\n",
       "      <td>Rio Grande Do Sul</td>\n",
       "      <td>13</td>\n",
       "      <td>0.018156</td>\n",
       "      <td>44</td>\n",
       "    </tr>\n",
       "    <tr>\n",
       "      <th>74</th>\n",
       "      <td>2016-w48</td>\n",
       "      <td>Santa Catarina</td>\n",
       "      <td>8</td>\n",
       "      <td>0.011173</td>\n",
       "      <td>27</td>\n",
       "    </tr>\n",
       "    <tr>\n",
       "      <th>75</th>\n",
       "      <td>2016-w48</td>\n",
       "      <td>Sao Paulo</td>\n",
       "      <td>37</td>\n",
       "      <td>0.051676</td>\n",
       "      <td>126</td>\n",
       "    </tr>\n",
       "    <tr>\n",
       "      <th>76</th>\n",
       "      <td>2016-w48</td>\n",
       "      <td>Sergipe</td>\n",
       "      <td>4</td>\n",
       "      <td>0.005587</td>\n",
       "      <td>13</td>\n",
       "    </tr>\n",
       "  </tbody>\n",
       "</table>\n",
       "<p>77 rows × 5 columns</p>\n",
       "</div>"
      ],
      "text/plain": [
       "   year_week       LocationName  group_size  proportion  sample_size\n",
       "0   2016-w44            Alagoas           1    0.001397            3\n",
       "1   2016-w44           Amazonas           2    0.002793            6\n",
       "2   2016-w44              Bahia           3    0.004190           10\n",
       "3   2016-w44              Ceara           3    0.004190           10\n",
       "4   2016-w44   Distrito Federal           6    0.008380           20\n",
       "..       ...                ...         ...         ...          ...\n",
       "72  2016-w48             Parana           6    0.008380           20\n",
       "73  2016-w48  Rio Grande Do Sul          13    0.018156           44\n",
       "74  2016-w48     Santa Catarina           8    0.011173           27\n",
       "75  2016-w48          Sao Paulo          37    0.051676          126\n",
       "76  2016-w48            Sergipe           4    0.005587           13\n",
       "\n",
       "[77 rows x 5 columns]"
      ]
     },
     "execution_count": 159,
     "metadata": {},
     "output_type": "execute_result"
    }
   ],
   "source": [
    "# Step 3: Define the target sample size\n",
    "target_sample_size = 2450\n",
    "\n",
    "# Step 4: Calculate the sample size for each group (based on its proportion)\n",
    "group_sizes['sample_size'] = np.floor(group_sizes['proportion'] * target_sample_size).astype(int)\n",
    "group_sizes"
   ]
  },
  {
   "cell_type": "code",
   "execution_count": 160,
   "id": "47bfacf4",
   "metadata": {},
   "outputs": [],
   "source": [
    "# Step 5: Merge this sample size information back to the original DataFrame\n",
    "df_2016_11_neg_sample_size = pd.merge(df_2016_11_neg, group_sizes[['year_week', 'LocationName', 'sample_size']], \n",
    "                               on=['year_week', 'LocationName'], how='left')"
   ]
  },
  {
   "cell_type": "code",
   "execution_count": 161,
   "id": "3127c68e",
   "metadata": {},
   "outputs": [
    {
     "name": "stdout",
     "output_type": "stream",
     "text": [
      "Sampled 716 rows.\n"
     ]
    }
   ],
   "source": [
    "# Step 6: Perform the stratified sampling\n",
    "#df_2016_11_neg_sample = df_2016_11_neg_sample_size.groupby(['year_week', 'LocationName']).apply(\n",
    " #   lambda group: group.sample(n=group['sample_size'].iloc[0], random_state=42)\n",
    "#).reset_index(drop=True)\n",
    "df_2016_11_neg_sample = df_2016_11_neg\n",
    "# Step 7: Check the result\n",
    "print(f\"Sampled {len(df_2016_11_neg_sample)} rows.\")\n"
   ]
  },
  {
   "cell_type": "code",
   "execution_count": 162,
   "id": "a5fc3ad1",
   "metadata": {},
   "outputs": [],
   "source": [
    "text_gpt_2016_11_neg = '\\n'.join(df_2016_11_neg_sample['text'].astype(str))"
   ]
  },
  {
   "cell_type": "markdown",
   "id": "8df94c41",
   "metadata": {},
   "source": [
    "### Prompts and loops"
   ]
  },
  {
   "cell_type": "code",
   "execution_count": 163,
   "id": "b2c43f66",
   "metadata": {},
   "outputs": [],
   "source": [
    "prompt_11 = prompt_raw.replace('TWEETS', text_gpt_2016_11_neg)"
   ]
  },
  {
   "cell_type": "code",
   "execution_count": 164,
   "id": "87bbf147",
   "metadata": {
    "scrolled": false
   },
   "outputs": [],
   "source": [
    "response = openai.ChatCompletion.create(\n",
    "    model=\"gpt-4o-mini\",  \n",
    "    messages = [\n",
    "        {\"role\": \"user\", \"content\": prompt_11}\n",
    "    ],\n",
    "    max_tokens=400,  # Maximum number of tokens in the response\n",
    "    temperature=0.7  # Controls the randomness of the output\n",
    ")"
   ]
  },
  {
   "cell_type": "code",
   "execution_count": 165,
   "id": "99d409e9",
   "metadata": {},
   "outputs": [
    {
     "data": {
      "text/plain": [
       "\"The text discusses various aspects of vaccination, highlighting concerns about expired vaccines being administered to infants and the general discomfort and fear associated with vaccinations. It also mentions the importance of animal vaccinations and the public's frustrations regarding vaccine availability and side effects. There are references to public health issues, misinformation surrounding vaccines, and a mix of humorous and serious reactions from individuals about their vaccination experiences.\""
      ]
     },
     "execution_count": 165,
     "metadata": {},
     "output_type": "execute_result"
    }
   ],
   "source": [
    "response.choices[0].message.content"
   ]
  },
  {
   "cell_type": "code",
   "execution_count": 166,
   "id": "c1cb7d55",
   "metadata": {},
   "outputs": [],
   "source": [
    "#summary = []\n",
    "#dataset = []"
   ]
  },
  {
   "cell_type": "code",
   "execution_count": 167,
   "id": "0b5f7bbc",
   "metadata": {},
   "outputs": [],
   "source": [
    "dataset.append(\"2016_11_negitive\")"
   ]
  },
  {
   "cell_type": "code",
   "execution_count": 168,
   "id": "25b7e5ff",
   "metadata": {},
   "outputs": [],
   "source": [
    "summary.append(response.choices[0].message.content)"
   ]
  },
  {
   "cell_type": "code",
   "execution_count": 169,
   "id": "10f2f273",
   "metadata": {
    "tags": []
   },
   "outputs": [
    {
     "name": "stdout",
     "output_type": "stream",
     "text": [
      "<class 'pandas.core.frame.DataFrame'>\n",
      "RangeIndex: 11 entries, 0 to 10\n",
      "Data columns (total 2 columns):\n",
      " #   Column   Non-Null Count  Dtype \n",
      "---  ------   --------------  ----- \n",
      " 0   dataset  11 non-null     object\n",
      " 1   summary  11 non-null     object\n",
      "dtypes: object(2)\n",
      "memory usage: 304.0+ bytes\n"
     ]
    }
   ],
   "source": [
    "df_2016_neg = pd.DataFrame(list(zip(dataset, summary)),\n",
    "                            columns = ['dataset', 'summary'])\n",
    "df_2016_neg.info()"
   ]
  },
  {
   "cell_type": "code",
   "execution_count": 170,
   "id": "89ced529",
   "metadata": {},
   "outputs": [
    {
     "data": {
      "text/html": [
       "<div>\n",
       "<style scoped>\n",
       "    .dataframe tbody tr th:only-of-type {\n",
       "        vertical-align: middle;\n",
       "    }\n",
       "\n",
       "    .dataframe tbody tr th {\n",
       "        vertical-align: top;\n",
       "    }\n",
       "\n",
       "    .dataframe thead th {\n",
       "        text-align: right;\n",
       "    }\n",
       "</style>\n",
       "<table border=\"1\" class=\"dataframe\">\n",
       "  <thead>\n",
       "    <tr style=\"text-align: right;\">\n",
       "      <th></th>\n",
       "      <th>dataset</th>\n",
       "      <th>summary</th>\n",
       "    </tr>\n",
       "  </thead>\n",
       "  <tbody>\n",
       "    <tr>\n",
       "      <th>0</th>\n",
       "      <td>2016_01_negitive</td>\n",
       "      <td>The sentences discuss various concerns and exp...</td>\n",
       "    </tr>\n",
       "    <tr>\n",
       "      <th>1</th>\n",
       "      <td>2016_02_negitive</td>\n",
       "      <td>The text discusses various concerns surroundin...</td>\n",
       "    </tr>\n",
       "    <tr>\n",
       "      <th>2</th>\n",
       "      <td>2016_03_negitive</td>\n",
       "      <td>The text discusses various opinions and experi...</td>\n",
       "    </tr>\n",
       "    <tr>\n",
       "      <th>3</th>\n",
       "      <td>2016_04_negitive</td>\n",
       "      <td>The text discusses various issues related to t...</td>\n",
       "    </tr>\n",
       "    <tr>\n",
       "      <th>4</th>\n",
       "      <td>2016_05_negitive</td>\n",
       "      <td>The text discusses various concerns and experi...</td>\n",
       "    </tr>\n",
       "    <tr>\n",
       "      <th>5</th>\n",
       "      <td>2016_06_negitive</td>\n",
       "      <td>The text discusses various opinions and experi...</td>\n",
       "    </tr>\n",
       "    <tr>\n",
       "      <th>6</th>\n",
       "      <td>2016_07_negitive</td>\n",
       "      <td>The text discusses various opinions and reacti...</td>\n",
       "    </tr>\n",
       "    <tr>\n",
       "      <th>7</th>\n",
       "      <td>2016_08_negitive</td>\n",
       "      <td>The text discusses various opinions and experi...</td>\n",
       "    </tr>\n",
       "    <tr>\n",
       "      <th>8</th>\n",
       "      <td>2016_09_negitive</td>\n",
       "      <td>The sentences express a strong aversion to vac...</td>\n",
       "    </tr>\n",
       "    <tr>\n",
       "      <th>9</th>\n",
       "      <td>2016_10_negitive</td>\n",
       "      <td>The provided sentences discuss a variety of ex...</td>\n",
       "    </tr>\n",
       "    <tr>\n",
       "      <th>10</th>\n",
       "      <td>2016_11_negitive</td>\n",
       "      <td>The text discusses various aspects of vaccinat...</td>\n",
       "    </tr>\n",
       "  </tbody>\n",
       "</table>\n",
       "</div>"
      ],
      "text/plain": [
       "             dataset                                            summary\n",
       "0   2016_01_negitive  The sentences discuss various concerns and exp...\n",
       "1   2016_02_negitive  The text discusses various concerns surroundin...\n",
       "2   2016_03_negitive  The text discusses various opinions and experi...\n",
       "3   2016_04_negitive  The text discusses various issues related to t...\n",
       "4   2016_05_negitive  The text discusses various concerns and experi...\n",
       "5   2016_06_negitive  The text discusses various opinions and experi...\n",
       "6   2016_07_negitive  The text discusses various opinions and reacti...\n",
       "7   2016_08_negitive  The text discusses various opinions and experi...\n",
       "8   2016_09_negitive  The sentences express a strong aversion to vac...\n",
       "9   2016_10_negitive  The provided sentences discuss a variety of ex...\n",
       "10  2016_11_negitive  The text discusses various aspects of vaccinat..."
      ]
     },
     "execution_count": 170,
     "metadata": {},
     "output_type": "execute_result"
    }
   ],
   "source": [
    "df_2016_neg.tail(14)"
   ]
  },
  {
   "cell_type": "code",
   "execution_count": 171,
   "id": "952c4bca",
   "metadata": {},
   "outputs": [
    {
     "data": {
      "text/plain": [
       "<OpenAIObject chat.completion id=chatcmpl-AUd2HCwkyT2J1fAZysfkx5IVQQHjR at 0x174de300d60> JSON: {\n",
       "  \"choices\": [\n",
       "    {\n",
       "      \"finish_reason\": \"stop\",\n",
       "      \"index\": 0,\n",
       "      \"logprobs\": null,\n",
       "      \"message\": {\n",
       "        \"content\": \"The text discusses various aspects of vaccination, highlighting concerns about expired vaccines being administered to infants and the general discomfort and fear associated with vaccinations. It also mentions the importance of animal vaccinations and the public's frustrations regarding vaccine availability and side effects. There are references to public health issues, misinformation surrounding vaccines, and a mix of humorous and serious reactions from individuals about their vaccination experiences.\",\n",
       "        \"refusal\": null,\n",
       "        \"role\": \"assistant\"\n",
       "      }\n",
       "    }\n",
       "  ],\n",
       "  \"created\": 1731863257,\n",
       "  \"id\": \"chatcmpl-AUd2HCwkyT2J1fAZysfkx5IVQQHjR\",\n",
       "  \"model\": \"gpt-4o-mini-2024-07-18\",\n",
       "  \"object\": \"chat.completion\",\n",
       "  \"system_fingerprint\": \"fp_0ba0d124f1\",\n",
       "  \"usage\": {\n",
       "    \"completion_tokens\": 74,\n",
       "    \"completion_tokens_details\": {\n",
       "      \"accepted_prediction_tokens\": 0,\n",
       "      \"audio_tokens\": 0,\n",
       "      \"reasoning_tokens\": 0,\n",
       "      \"rejected_prediction_tokens\": 0\n",
       "    },\n",
       "    \"prompt_tokens\": 15441,\n",
       "    \"prompt_tokens_details\": {\n",
       "      \"audio_tokens\": 0,\n",
       "      \"cached_tokens\": 0\n",
       "    },\n",
       "    \"total_tokens\": 15515\n",
       "  }\n",
       "}"
      ]
     },
     "execution_count": 171,
     "metadata": {},
     "output_type": "execute_result"
    }
   ],
   "source": [
    "response"
   ]
  },
  {
   "cell_type": "markdown",
   "id": "46613a39",
   "metadata": {},
   "source": [
    "## December"
   ]
  },
  {
   "cell_type": "code",
   "execution_count": 172,
   "id": "3f6bde3b",
   "metadata": {
    "scrolled": true,
    "tags": []
   },
   "outputs": [
    {
     "name": "stdout",
     "output_type": "stream",
     "text": [
      "<class 'pandas.core.frame.DataFrame'>\n",
      "RangeIndex: 633 entries, 0 to 632\n",
      "Data columns (total 53 columns):\n",
      " #   Column                  Non-Null Count  Dtype  \n",
      "---  ------                  --------------  -----  \n",
      " 0   index                   633 non-null    int64  \n",
      " 1   LocationCode            633 non-null    object \n",
      " 2   LocationName            633 non-null    object \n",
      " 3   StatesCode              633 non-null    object \n",
      " 4   ...4                    633 non-null    int64  \n",
      " 5   id                      633 non-null    float64\n",
      " 6   text                    633 non-null    object \n",
      " 7   label                   633 non-null    object \n",
      " 8   in_reply_to_status_id   80 non-null     float64\n",
      " 9   in_reply_to_user_id     84 non-null     float64\n",
      " 10  quoted_user_id          14 non-null     float64\n",
      " 11  quoted_status_id        14 non-null     float64\n",
      " 12  retweeted_user_id       96 non-null     float64\n",
      " 13  retweeted_status_id     96 non-null     float64\n",
      " 14  created_at              633 non-null    object \n",
      " 15  entities.user_mentions  192 non-null    object \n",
      " 16  user.id                 633 non-null    float64\n",
      " 17  user.screen_name        633 non-null    object \n",
      " 18  user.name               633 non-null    object \n",
      " 19  user.description        564 non-null    object \n",
      " 20  user.timezone           0 non-null      float64\n",
      " 21  user.location           608 non-null    object \n",
      " 22  user.num_followers      633 non-null    int64  \n",
      " 23  user.num_following      633 non-null    int64  \n",
      " 24  user.created_at         633 non-null    object \n",
      " 25  user.statuses_count     633 non-null    int64  \n",
      " 26  user.is_verified        633 non-null    bool   \n",
      " 27  lang                    633 non-null    object \n",
      " 28  token_count             633 non-null    int64  \n",
      " 29  is_retweet              633 non-null    bool   \n",
      " 30  has_quote               633 non-null    bool   \n",
      " 31  is_reply                633 non-null    bool   \n",
      " 32  contains_keywords       633 non-null    bool   \n",
      " 33  longitude               633 non-null    float64\n",
      " 34  latitude                633 non-null    float64\n",
      " 35  country_code            633 non-null    object \n",
      " 36  geoname_id              519 non-null    float64\n",
      " 37  location_type           633 non-null    object \n",
      " 38  geo_type                633 non-null    int64  \n",
      " 39  region                  633 non-null    object \n",
      " 40  subregion               633 non-null    object \n",
      " 41  num_quotes              633 non-null    int64  \n",
      " 42  num_replies             633 non-null    int64  \n",
      " 43  num_retweets            633 non-null    int64  \n",
      " 44  sent_gpt                633 non-null    object \n",
      " 45  gpt_sent_presence       633 non-null    int64  \n",
      " 46  cleaned_text_lem        633 non-null    object \n",
      " 47  cleaned_text            633 non-null    object \n",
      " 48  month                   633 non-null    int64  \n",
      " 49  year                    633 non-null    int64  \n",
      " 50  week                    633 non-null    int64  \n",
      " 51  year_month              633 non-null    object \n",
      " 52  year_week               633 non-null    object \n",
      "dtypes: bool(5), float64(12), int64(14), object(22)\n",
      "memory usage: 240.6+ KB\n"
     ]
    }
   ],
   "source": [
    "# Get monthly data\n",
    "df_2016_12_neg = pd.read_csv('../data/local/df_neg_2016-12.csv').reset_index()\n",
    "df_2016_12_neg.info()"
   ]
  },
  {
   "cell_type": "markdown",
   "id": "4658d918",
   "metadata": {},
   "source": [
    "### Representative sample based on week and location"
   ]
  },
  {
   "cell_type": "code",
   "execution_count": 173,
   "id": "fcdbb1e9",
   "metadata": {},
   "outputs": [
    {
     "data": {
      "text/html": [
       "<div>\n",
       "<style scoped>\n",
       "    .dataframe tbody tr th:only-of-type {\n",
       "        vertical-align: middle;\n",
       "    }\n",
       "\n",
       "    .dataframe tbody tr th {\n",
       "        vertical-align: top;\n",
       "    }\n",
       "\n",
       "    .dataframe thead th {\n",
       "        text-align: right;\n",
       "    }\n",
       "</style>\n",
       "<table border=\"1\" class=\"dataframe\">\n",
       "  <thead>\n",
       "    <tr style=\"text-align: right;\">\n",
       "      <th></th>\n",
       "      <th>year_week</th>\n",
       "      <th>LocationName</th>\n",
       "      <th>group_size</th>\n",
       "      <th>proportion</th>\n",
       "    </tr>\n",
       "  </thead>\n",
       "  <tbody>\n",
       "    <tr>\n",
       "      <th>0</th>\n",
       "      <td>2016-w48</td>\n",
       "      <td>Bahia</td>\n",
       "      <td>1</td>\n",
       "      <td>0.001580</td>\n",
       "    </tr>\n",
       "    <tr>\n",
       "      <th>1</th>\n",
       "      <td>2016-w48</td>\n",
       "      <td>Mato Grosso Do Sul</td>\n",
       "      <td>1</td>\n",
       "      <td>0.001580</td>\n",
       "    </tr>\n",
       "    <tr>\n",
       "      <th>2</th>\n",
       "      <td>2016-w48</td>\n",
       "      <td>Minas Gerais</td>\n",
       "      <td>10</td>\n",
       "      <td>0.015798</td>\n",
       "    </tr>\n",
       "    <tr>\n",
       "      <th>3</th>\n",
       "      <td>2016-w48</td>\n",
       "      <td>Paraiba</td>\n",
       "      <td>1</td>\n",
       "      <td>0.001580</td>\n",
       "    </tr>\n",
       "    <tr>\n",
       "      <th>4</th>\n",
       "      <td>2016-w48</td>\n",
       "      <td>Parana</td>\n",
       "      <td>2</td>\n",
       "      <td>0.003160</td>\n",
       "    </tr>\n",
       "    <tr>\n",
       "      <th>...</th>\n",
       "      <td>...</td>\n",
       "      <td>...</td>\n",
       "      <td>...</td>\n",
       "      <td>...</td>\n",
       "    </tr>\n",
       "    <tr>\n",
       "      <th>77</th>\n",
       "      <td>2016-w53</td>\n",
       "      <td>Goias</td>\n",
       "      <td>1</td>\n",
       "      <td>0.001580</td>\n",
       "    </tr>\n",
       "    <tr>\n",
       "      <th>78</th>\n",
       "      <td>2016-w53</td>\n",
       "      <td>Maranhao</td>\n",
       "      <td>1</td>\n",
       "      <td>0.001580</td>\n",
       "    </tr>\n",
       "    <tr>\n",
       "      <th>79</th>\n",
       "      <td>2016-w53</td>\n",
       "      <td>Minas Gerais</td>\n",
       "      <td>9</td>\n",
       "      <td>0.014218</td>\n",
       "    </tr>\n",
       "    <tr>\n",
       "      <th>80</th>\n",
       "      <td>2016-w53</td>\n",
       "      <td>Rio Grande Do Sul</td>\n",
       "      <td>1</td>\n",
       "      <td>0.001580</td>\n",
       "    </tr>\n",
       "    <tr>\n",
       "      <th>81</th>\n",
       "      <td>2016-w53</td>\n",
       "      <td>Sao Paulo</td>\n",
       "      <td>1</td>\n",
       "      <td>0.001580</td>\n",
       "    </tr>\n",
       "  </tbody>\n",
       "</table>\n",
       "<p>82 rows × 4 columns</p>\n",
       "</div>"
      ],
      "text/plain": [
       "   year_week        LocationName  group_size  proportion\n",
       "0   2016-w48               Bahia           1    0.001580\n",
       "1   2016-w48  Mato Grosso Do Sul           1    0.001580\n",
       "2   2016-w48        Minas Gerais          10    0.015798\n",
       "3   2016-w48             Paraiba           1    0.001580\n",
       "4   2016-w48              Parana           2    0.003160\n",
       "..       ...                 ...         ...         ...\n",
       "77  2016-w53               Goias           1    0.001580\n",
       "78  2016-w53            Maranhao           1    0.001580\n",
       "79  2016-w53        Minas Gerais           9    0.014218\n",
       "80  2016-w53   Rio Grande Do Sul           1    0.001580\n",
       "81  2016-w53           Sao Paulo           1    0.001580\n",
       "\n",
       "[82 rows x 4 columns]"
      ]
     },
     "execution_count": 173,
     "metadata": {},
     "output_type": "execute_result"
    }
   ],
   "source": [
    "# Step 1: Calculate the size of each group (year_week, LocationName)\n",
    "group_sizes = df_2016_12_neg.groupby(['year_week', 'LocationName']).size().reset_index(name='group_size')\n",
    "\n",
    "# Step 2: Calculate the proportion of each group in the dataset\n",
    "total_rows = len(df_2016_12_neg)\n",
    "group_sizes['proportion'] = group_sizes['group_size'] / total_rows\n",
    "group_sizes"
   ]
  },
  {
   "cell_type": "code",
   "execution_count": 174,
   "id": "bbf24049",
   "metadata": {},
   "outputs": [
    {
     "data": {
      "text/html": [
       "<div>\n",
       "<style scoped>\n",
       "    .dataframe tbody tr th:only-of-type {\n",
       "        vertical-align: middle;\n",
       "    }\n",
       "\n",
       "    .dataframe tbody tr th {\n",
       "        vertical-align: top;\n",
       "    }\n",
       "\n",
       "    .dataframe thead th {\n",
       "        text-align: right;\n",
       "    }\n",
       "</style>\n",
       "<table border=\"1\" class=\"dataframe\">\n",
       "  <thead>\n",
       "    <tr style=\"text-align: right;\">\n",
       "      <th></th>\n",
       "      <th>year_week</th>\n",
       "      <th>LocationName</th>\n",
       "      <th>group_size</th>\n",
       "      <th>proportion</th>\n",
       "      <th>sample_size</th>\n",
       "    </tr>\n",
       "  </thead>\n",
       "  <tbody>\n",
       "    <tr>\n",
       "      <th>0</th>\n",
       "      <td>2016-w48</td>\n",
       "      <td>Bahia</td>\n",
       "      <td>1</td>\n",
       "      <td>0.001580</td>\n",
       "      <td>3</td>\n",
       "    </tr>\n",
       "    <tr>\n",
       "      <th>1</th>\n",
       "      <td>2016-w48</td>\n",
       "      <td>Mato Grosso Do Sul</td>\n",
       "      <td>1</td>\n",
       "      <td>0.001580</td>\n",
       "      <td>3</td>\n",
       "    </tr>\n",
       "    <tr>\n",
       "      <th>2</th>\n",
       "      <td>2016-w48</td>\n",
       "      <td>Minas Gerais</td>\n",
       "      <td>10</td>\n",
       "      <td>0.015798</td>\n",
       "      <td>38</td>\n",
       "    </tr>\n",
       "    <tr>\n",
       "      <th>3</th>\n",
       "      <td>2016-w48</td>\n",
       "      <td>Paraiba</td>\n",
       "      <td>1</td>\n",
       "      <td>0.001580</td>\n",
       "      <td>3</td>\n",
       "    </tr>\n",
       "    <tr>\n",
       "      <th>4</th>\n",
       "      <td>2016-w48</td>\n",
       "      <td>Parana</td>\n",
       "      <td>2</td>\n",
       "      <td>0.003160</td>\n",
       "      <td>7</td>\n",
       "    </tr>\n",
       "    <tr>\n",
       "      <th>...</th>\n",
       "      <td>...</td>\n",
       "      <td>...</td>\n",
       "      <td>...</td>\n",
       "      <td>...</td>\n",
       "      <td>...</td>\n",
       "    </tr>\n",
       "    <tr>\n",
       "      <th>77</th>\n",
       "      <td>2016-w53</td>\n",
       "      <td>Goias</td>\n",
       "      <td>1</td>\n",
       "      <td>0.001580</td>\n",
       "      <td>3</td>\n",
       "    </tr>\n",
       "    <tr>\n",
       "      <th>78</th>\n",
       "      <td>2016-w53</td>\n",
       "      <td>Maranhao</td>\n",
       "      <td>1</td>\n",
       "      <td>0.001580</td>\n",
       "      <td>3</td>\n",
       "    </tr>\n",
       "    <tr>\n",
       "      <th>79</th>\n",
       "      <td>2016-w53</td>\n",
       "      <td>Minas Gerais</td>\n",
       "      <td>9</td>\n",
       "      <td>0.014218</td>\n",
       "      <td>34</td>\n",
       "    </tr>\n",
       "    <tr>\n",
       "      <th>80</th>\n",
       "      <td>2016-w53</td>\n",
       "      <td>Rio Grande Do Sul</td>\n",
       "      <td>1</td>\n",
       "      <td>0.001580</td>\n",
       "      <td>3</td>\n",
       "    </tr>\n",
       "    <tr>\n",
       "      <th>81</th>\n",
       "      <td>2016-w53</td>\n",
       "      <td>Sao Paulo</td>\n",
       "      <td>1</td>\n",
       "      <td>0.001580</td>\n",
       "      <td>3</td>\n",
       "    </tr>\n",
       "  </tbody>\n",
       "</table>\n",
       "<p>82 rows × 5 columns</p>\n",
       "</div>"
      ],
      "text/plain": [
       "   year_week        LocationName  group_size  proportion  sample_size\n",
       "0   2016-w48               Bahia           1    0.001580            3\n",
       "1   2016-w48  Mato Grosso Do Sul           1    0.001580            3\n",
       "2   2016-w48        Minas Gerais          10    0.015798           38\n",
       "3   2016-w48             Paraiba           1    0.001580            3\n",
       "4   2016-w48              Parana           2    0.003160            7\n",
       "..       ...                 ...         ...         ...          ...\n",
       "77  2016-w53               Goias           1    0.001580            3\n",
       "78  2016-w53            Maranhao           1    0.001580            3\n",
       "79  2016-w53        Minas Gerais           9    0.014218           34\n",
       "80  2016-w53   Rio Grande Do Sul           1    0.001580            3\n",
       "81  2016-w53           Sao Paulo           1    0.001580            3\n",
       "\n",
       "[82 rows x 5 columns]"
      ]
     },
     "execution_count": 174,
     "metadata": {},
     "output_type": "execute_result"
    }
   ],
   "source": [
    "# Step 3: Define the target sample size\n",
    "target_sample_size = 2450\n",
    "\n",
    "# Step 4: Calculate the sample size for each group (based on its proportion)\n",
    "group_sizes['sample_size'] = np.floor(group_sizes['proportion'] * target_sample_size).astype(int)\n",
    "group_sizes"
   ]
  },
  {
   "cell_type": "code",
   "execution_count": 175,
   "id": "c207c408",
   "metadata": {},
   "outputs": [],
   "source": [
    "# Step 5: Merge this sample size information back to the original DataFrame\n",
    "df_2016_12_neg_sample_size = pd.merge(df_2016_12_neg, group_sizes[['year_week', 'LocationName', 'sample_size']], \n",
    "                               on=['year_week', 'LocationName'], how='left')"
   ]
  },
  {
   "cell_type": "code",
   "execution_count": 176,
   "id": "66d74acb",
   "metadata": {},
   "outputs": [
    {
     "name": "stdout",
     "output_type": "stream",
     "text": [
      "Sampled 633 rows.\n"
     ]
    }
   ],
   "source": [
    "# Step 6: Perform the stratified sampling\n",
    "#df_2016_12_neg_sample = df_2016_12_neg_sample_size.groupby(['year_week', 'LocationName']).apply(\n",
    " #   lambda group: group.sample(n=group['sample_size'].iloc[0], random_state=42)\n",
    "#).reset_index(drop=True)\n",
    "df_2016_12_neg_sample = df_2016_12_neg\n",
    "# Step 7: Check the result\n",
    "print(f\"Sampled {len(df_2016_12_neg_sample)} rows.\")\n"
   ]
  },
  {
   "cell_type": "code",
   "execution_count": 177,
   "id": "b23befcc",
   "metadata": {},
   "outputs": [],
   "source": [
    "text_gpt_2016_12_neg = '\\n'.join(df_2016_12_neg_sample['text'].astype(str))"
   ]
  },
  {
   "cell_type": "markdown",
   "id": "d3650c4b",
   "metadata": {},
   "source": [
    "### Prompts and loops"
   ]
  },
  {
   "cell_type": "code",
   "execution_count": 178,
   "id": "791b4fd6",
   "metadata": {},
   "outputs": [],
   "source": [
    "prompt_12 = prompt_raw.replace('TWEETS', text_gpt_2016_12_neg)"
   ]
  },
  {
   "cell_type": "code",
   "execution_count": 179,
   "id": "def2b9de",
   "metadata": {
    "scrolled": false
   },
   "outputs": [],
   "source": [
    "response = openai.ChatCompletion.create(\n",
    "    model=\"gpt-4o-mini\",  \n",
    "    messages = [\n",
    "        {\"role\": \"user\", \"content\": prompt_12}\n",
    "    ],\n",
    "    max_tokens=400,  # Maximum number of tokens in the response\n",
    "    temperature=0.7  # Controls the randomness of the output\n",
    ")"
   ]
  },
  {
   "cell_type": "code",
   "execution_count": 180,
   "id": "eb10f5ec",
   "metadata": {},
   "outputs": [
    {
     "data": {
      "text/plain": [
       "'The text discusses various personal experiences and opinions regarding vaccinations, primarily highlighting the common fears, pains, and discomfort associated with getting vaccinated. It also touches on skepticism about vaccines, humorous comparisons, and mentions issues like allergic reactions in pets and problems with vaccine supply. Overall, it reflects a mix of anxiety, frustration, and occasional humor about the vaccination process.'"
      ]
     },
     "execution_count": 180,
     "metadata": {},
     "output_type": "execute_result"
    }
   ],
   "source": [
    "response.choices[0].message.content"
   ]
  },
  {
   "cell_type": "code",
   "execution_count": 181,
   "id": "82e7aa4c",
   "metadata": {},
   "outputs": [],
   "source": [
    "#summary = []\n",
    "#dataset = []"
   ]
  },
  {
   "cell_type": "code",
   "execution_count": 182,
   "id": "2a9d076b",
   "metadata": {},
   "outputs": [],
   "source": [
    "dataset.append(\"2016_12_negitive\")"
   ]
  },
  {
   "cell_type": "code",
   "execution_count": 183,
   "id": "8a057dbe",
   "metadata": {},
   "outputs": [],
   "source": [
    "summary.append(response.choices[0].message.content)"
   ]
  },
  {
   "cell_type": "code",
   "execution_count": 184,
   "id": "3bb6bfbd",
   "metadata": {
    "tags": []
   },
   "outputs": [
    {
     "name": "stdout",
     "output_type": "stream",
     "text": [
      "<class 'pandas.core.frame.DataFrame'>\n",
      "RangeIndex: 12 entries, 0 to 11\n",
      "Data columns (total 2 columns):\n",
      " #   Column   Non-Null Count  Dtype \n",
      "---  ------   --------------  ----- \n",
      " 0   dataset  12 non-null     object\n",
      " 1   summary  12 non-null     object\n",
      "dtypes: object(2)\n",
      "memory usage: 320.0+ bytes\n"
     ]
    }
   ],
   "source": [
    "df_2016_neg = pd.DataFrame(list(zip(dataset, summary)),\n",
    "                            columns = ['dataset', 'summary'])\n",
    "df_2016_neg.info()"
   ]
  },
  {
   "cell_type": "code",
   "execution_count": 185,
   "id": "893bd100",
   "metadata": {},
   "outputs": [
    {
     "data": {
      "text/html": [
       "<div>\n",
       "<style scoped>\n",
       "    .dataframe tbody tr th:only-of-type {\n",
       "        vertical-align: middle;\n",
       "    }\n",
       "\n",
       "    .dataframe tbody tr th {\n",
       "        vertical-align: top;\n",
       "    }\n",
       "\n",
       "    .dataframe thead th {\n",
       "        text-align: right;\n",
       "    }\n",
       "</style>\n",
       "<table border=\"1\" class=\"dataframe\">\n",
       "  <thead>\n",
       "    <tr style=\"text-align: right;\">\n",
       "      <th></th>\n",
       "      <th>dataset</th>\n",
       "      <th>summary</th>\n",
       "    </tr>\n",
       "  </thead>\n",
       "  <tbody>\n",
       "    <tr>\n",
       "      <th>0</th>\n",
       "      <td>2016_01_negitive</td>\n",
       "      <td>The sentences discuss various concerns and exp...</td>\n",
       "    </tr>\n",
       "    <tr>\n",
       "      <th>1</th>\n",
       "      <td>2016_02_negitive</td>\n",
       "      <td>The text discusses various concerns surroundin...</td>\n",
       "    </tr>\n",
       "    <tr>\n",
       "      <th>2</th>\n",
       "      <td>2016_03_negitive</td>\n",
       "      <td>The text discusses various opinions and experi...</td>\n",
       "    </tr>\n",
       "    <tr>\n",
       "      <th>3</th>\n",
       "      <td>2016_04_negitive</td>\n",
       "      <td>The text discusses various issues related to t...</td>\n",
       "    </tr>\n",
       "    <tr>\n",
       "      <th>4</th>\n",
       "      <td>2016_05_negitive</td>\n",
       "      <td>The text discusses various concerns and experi...</td>\n",
       "    </tr>\n",
       "    <tr>\n",
       "      <th>5</th>\n",
       "      <td>2016_06_negitive</td>\n",
       "      <td>The text discusses various opinions and experi...</td>\n",
       "    </tr>\n",
       "    <tr>\n",
       "      <th>6</th>\n",
       "      <td>2016_07_negitive</td>\n",
       "      <td>The text discusses various opinions and reacti...</td>\n",
       "    </tr>\n",
       "    <tr>\n",
       "      <th>7</th>\n",
       "      <td>2016_08_negitive</td>\n",
       "      <td>The text discusses various opinions and experi...</td>\n",
       "    </tr>\n",
       "    <tr>\n",
       "      <th>8</th>\n",
       "      <td>2016_09_negitive</td>\n",
       "      <td>The sentences express a strong aversion to vac...</td>\n",
       "    </tr>\n",
       "    <tr>\n",
       "      <th>9</th>\n",
       "      <td>2016_10_negitive</td>\n",
       "      <td>The provided sentences discuss a variety of ex...</td>\n",
       "    </tr>\n",
       "    <tr>\n",
       "      <th>10</th>\n",
       "      <td>2016_11_negitive</td>\n",
       "      <td>The text discusses various aspects of vaccinat...</td>\n",
       "    </tr>\n",
       "    <tr>\n",
       "      <th>11</th>\n",
       "      <td>2016_12_negitive</td>\n",
       "      <td>The text discusses various personal experience...</td>\n",
       "    </tr>\n",
       "  </tbody>\n",
       "</table>\n",
       "</div>"
      ],
      "text/plain": [
       "             dataset                                            summary\n",
       "0   2016_01_negitive  The sentences discuss various concerns and exp...\n",
       "1   2016_02_negitive  The text discusses various concerns surroundin...\n",
       "2   2016_03_negitive  The text discusses various opinions and experi...\n",
       "3   2016_04_negitive  The text discusses various issues related to t...\n",
       "4   2016_05_negitive  The text discusses various concerns and experi...\n",
       "5   2016_06_negitive  The text discusses various opinions and experi...\n",
       "6   2016_07_negitive  The text discusses various opinions and reacti...\n",
       "7   2016_08_negitive  The text discusses various opinions and experi...\n",
       "8   2016_09_negitive  The sentences express a strong aversion to vac...\n",
       "9   2016_10_negitive  The provided sentences discuss a variety of ex...\n",
       "10  2016_11_negitive  The text discusses various aspects of vaccinat...\n",
       "11  2016_12_negitive  The text discusses various personal experience..."
      ]
     },
     "execution_count": 185,
     "metadata": {},
     "output_type": "execute_result"
    }
   ],
   "source": [
    "df_2016_neg.tail(14)"
   ]
  },
  {
   "cell_type": "code",
   "execution_count": 186,
   "id": "20bf36e0",
   "metadata": {},
   "outputs": [
    {
     "data": {
      "text/plain": [
       "<OpenAIObject chat.completion id=chatcmpl-AUd2KfWZb4GIVRa0HuIHYqn6KnKJI at 0x174de302860> JSON: {\n",
       "  \"choices\": [\n",
       "    {\n",
       "      \"finish_reason\": \"stop\",\n",
       "      \"index\": 0,\n",
       "      \"logprobs\": null,\n",
       "      \"message\": {\n",
       "        \"content\": \"The text discusses various personal experiences and opinions regarding vaccinations, primarily highlighting the common fears, pains, and discomfort associated with getting vaccinated. It also touches on skepticism about vaccines, humorous comparisons, and mentions issues like allergic reactions in pets and problems with vaccine supply. Overall, it reflects a mix of anxiety, frustration, and occasional humor about the vaccination process.\",\n",
       "        \"refusal\": null,\n",
       "        \"role\": \"assistant\"\n",
       "      }\n",
       "    }\n",
       "  ],\n",
       "  \"created\": 1731863260,\n",
       "  \"id\": \"chatcmpl-AUd2KfWZb4GIVRa0HuIHYqn6KnKJI\",\n",
       "  \"model\": \"gpt-4o-mini-2024-07-18\",\n",
       "  \"object\": \"chat.completion\",\n",
       "  \"system_fingerprint\": \"fp_9b78b61c52\",\n",
       "  \"usage\": {\n",
       "    \"completion_tokens\": 70,\n",
       "    \"completion_tokens_details\": {\n",
       "      \"accepted_prediction_tokens\": 0,\n",
       "      \"audio_tokens\": 0,\n",
       "      \"reasoning_tokens\": 0,\n",
       "      \"rejected_prediction_tokens\": 0\n",
       "    },\n",
       "    \"prompt_tokens\": 13486,\n",
       "    \"prompt_tokens_details\": {\n",
       "      \"audio_tokens\": 0,\n",
       "      \"cached_tokens\": 0\n",
       "    },\n",
       "    \"total_tokens\": 13556\n",
       "  }\n",
       "}"
      ]
     },
     "execution_count": 186,
     "metadata": {},
     "output_type": "execute_result"
    }
   ],
   "source": [
    "response"
   ]
  },
  {
   "cell_type": "markdown",
   "id": "4b2eea35",
   "metadata": {},
   "source": [
    "## All 2016 negative"
   ]
  },
  {
   "cell_type": "code",
   "execution_count": 187,
   "id": "76b26dc9",
   "metadata": {},
   "outputs": [],
   "source": [
    "df_2016_neg.to_csv('../data/summary_2016_negative_tweets.csv')"
   ]
  }
 ],
 "metadata": {
  "kernelspec": {
   "display_name": "Python 3 (ipykernel)",
   "language": "python",
   "name": "python3"
  },
  "language_info": {
   "codemirror_mode": {
    "name": "ipython",
    "version": 3
   },
   "file_extension": ".py",
   "mimetype": "text/x-python",
   "name": "python",
   "nbconvert_exporter": "python",
   "pygments_lexer": "ipython3",
   "version": "3.9.12"
  }
 },
 "nbformat": 4,
 "nbformat_minor": 5
}
