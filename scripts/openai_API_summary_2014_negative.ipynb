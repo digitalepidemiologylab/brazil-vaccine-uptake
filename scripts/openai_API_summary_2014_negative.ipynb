{
 "cells": [
  {
   "cell_type": "markdown",
   "id": "e90b7c28",
   "metadata": {},
   "source": [
    "# Import libraries and data"
   ]
  },
  {
   "cell_type": "code",
   "execution_count": 1,
   "id": "433219e8-8f66-4be5-a3b8-e39fca644032",
   "metadata": {
    "tags": []
   },
   "outputs": [],
   "source": [
    "# Import libraries\n",
    "import os\n",
    "import openai\n",
    "import pandas as pd\n",
    "import numpy as np\n",
    "import openpyxl"
   ]
  },
  {
   "cell_type": "code",
   "execution_count": 2,
   "id": "2c68f056-74fe-4f29-9daf-6bdef5cc0701",
   "metadata": {},
   "outputs": [],
   "source": [
    "# Get OpenAI API secret key (change this file with your own OpenAI key)\n",
    "open_ai_key = open('../data/local/openai_key.txt', 'r').read()\n",
    "openai.api_key = open_ai_key\n",
    "#openai.Model.list()"
   ]
  },
  {
   "cell_type": "code",
   "execution_count": 3,
   "id": "aa3d0327",
   "metadata": {},
   "outputs": [],
   "source": [
    "# Prompt for GPT\n",
    "prompt_raw = \"I would like to summarise in maximum 300 characters and in English what the following sentences in Portuguese talk about. \\\n",
    "Do not use aspects mentioned only in one sentence as part of the summary: TWEETS\""
   ]
  },
  {
   "cell_type": "markdown",
   "id": "3c7787f4",
   "metadata": {},
   "source": [
    "# 2014 negative"
   ]
  },
  {
   "cell_type": "markdown",
   "id": "c0101e21",
   "metadata": {},
   "source": [
    "## January"
   ]
  },
  {
   "cell_type": "code",
   "execution_count": 4,
   "id": "0b3f06fc",
   "metadata": {
    "scrolled": true,
    "tags": []
   },
   "outputs": [
    {
     "name": "stdout",
     "output_type": "stream",
     "text": [
      "<class 'pandas.core.frame.DataFrame'>\n",
      "RangeIndex: 820 entries, 0 to 819\n",
      "Data columns (total 53 columns):\n",
      " #   Column                  Non-Null Count  Dtype  \n",
      "---  ------                  --------------  -----  \n",
      " 0   index                   820 non-null    int64  \n",
      " 1   LocationCode            820 non-null    object \n",
      " 2   LocationName            820 non-null    object \n",
      " 3   StatesCode              820 non-null    object \n",
      " 4   ...4                    820 non-null    int64  \n",
      " 5   id                      820 non-null    float64\n",
      " 6   text                    820 non-null    object \n",
      " 7   label                   820 non-null    object \n",
      " 8   in_reply_to_status_id   89 non-null     float64\n",
      " 9   in_reply_to_user_id     97 non-null     float64\n",
      " 10  quoted_user_id          0 non-null      float64\n",
      " 11  quoted_status_id        0 non-null      float64\n",
      " 12  retweeted_user_id       120 non-null    float64\n",
      " 13  retweeted_status_id     120 non-null    float64\n",
      " 14  created_at              820 non-null    object \n",
      " 15  entities.user_mentions  245 non-null    object \n",
      " 16  user.id                 820 non-null    int64  \n",
      " 17  user.screen_name        820 non-null    object \n",
      " 18  user.name               819 non-null    object \n",
      " 19  user.description        727 non-null    object \n",
      " 20  user.timezone           0 non-null      float64\n",
      " 21  user.location           806 non-null    object \n",
      " 22  user.num_followers      820 non-null    int64  \n",
      " 23  user.num_following      820 non-null    int64  \n",
      " 24  user.created_at         820 non-null    object \n",
      " 25  user.statuses_count     820 non-null    int64  \n",
      " 26  user.is_verified        820 non-null    bool   \n",
      " 27  lang                    820 non-null    object \n",
      " 28  token_count             820 non-null    int64  \n",
      " 29  is_retweet              820 non-null    bool   \n",
      " 30  has_quote               820 non-null    bool   \n",
      " 31  is_reply                820 non-null    bool   \n",
      " 32  contains_keywords       820 non-null    bool   \n",
      " 33  longitude               820 non-null    float64\n",
      " 34  latitude                820 non-null    float64\n",
      " 35  country_code            820 non-null    object \n",
      " 36  geoname_id              777 non-null    float64\n",
      " 37  location_type           820 non-null    object \n",
      " 38  geo_type                820 non-null    int64  \n",
      " 39  region                  820 non-null    object \n",
      " 40  subregion               820 non-null    object \n",
      " 41  num_quotes              820 non-null    int64  \n",
      " 42  num_replies             820 non-null    int64  \n",
      " 43  num_retweets            820 non-null    int64  \n",
      " 44  sent_gpt                820 non-null    object \n",
      " 45  gpt_sent_presence       820 non-null    int64  \n",
      " 46  cleaned_text_lem        820 non-null    object \n",
      " 47  cleaned_text            820 non-null    object \n",
      " 48  month                   820 non-null    int64  \n",
      " 49  year                    820 non-null    int64  \n",
      " 50  week                    820 non-null    int64  \n",
      " 51  year_month              820 non-null    object \n",
      " 52  year_week               820 non-null    object \n",
      "dtypes: bool(5), float64(11), int64(15), object(22)\n",
      "memory usage: 311.6+ KB\n"
     ]
    }
   ],
   "source": [
    "# Get monthly data\n",
    "df_2014_01_neg = pd.read_csv('../data/local/df_neg_2014-01.csv').reset_index()\n",
    "df_2014_01_neg.info()"
   ]
  },
  {
   "cell_type": "markdown",
   "id": "98d4ddaf",
   "metadata": {},
   "source": [
    "### Representative sample based on week and location"
   ]
  },
  {
   "cell_type": "code",
   "execution_count": 5,
   "id": "85b2559c",
   "metadata": {},
   "outputs": [
    {
     "data": {
      "text/html": [
       "<div>\n",
       "<style scoped>\n",
       "    .dataframe tbody tr th:only-of-type {\n",
       "        vertical-align: middle;\n",
       "    }\n",
       "\n",
       "    .dataframe tbody tr th {\n",
       "        vertical-align: top;\n",
       "    }\n",
       "\n",
       "    .dataframe thead th {\n",
       "        text-align: right;\n",
       "    }\n",
       "</style>\n",
       "<table border=\"1\" class=\"dataframe\">\n",
       "  <thead>\n",
       "    <tr style=\"text-align: right;\">\n",
       "      <th></th>\n",
       "      <th>year_week</th>\n",
       "      <th>LocationName</th>\n",
       "      <th>group_size</th>\n",
       "      <th>proportion</th>\n",
       "    </tr>\n",
       "  </thead>\n",
       "  <tbody>\n",
       "    <tr>\n",
       "      <th>0</th>\n",
       "      <td>2014-w01</td>\n",
       "      <td>Alagoas</td>\n",
       "      <td>1</td>\n",
       "      <td>0.001220</td>\n",
       "    </tr>\n",
       "    <tr>\n",
       "      <th>1</th>\n",
       "      <td>2014-w01</td>\n",
       "      <td>Amapa</td>\n",
       "      <td>1</td>\n",
       "      <td>0.001220</td>\n",
       "    </tr>\n",
       "    <tr>\n",
       "      <th>2</th>\n",
       "      <td>2014-w01</td>\n",
       "      <td>Amazonas</td>\n",
       "      <td>5</td>\n",
       "      <td>0.006098</td>\n",
       "    </tr>\n",
       "    <tr>\n",
       "      <th>3</th>\n",
       "      <td>2014-w01</td>\n",
       "      <td>Bahia</td>\n",
       "      <td>9</td>\n",
       "      <td>0.010976</td>\n",
       "    </tr>\n",
       "    <tr>\n",
       "      <th>4</th>\n",
       "      <td>2014-w01</td>\n",
       "      <td>Ceara</td>\n",
       "      <td>2</td>\n",
       "      <td>0.002439</td>\n",
       "    </tr>\n",
       "    <tr>\n",
       "      <th>...</th>\n",
       "      <td>...</td>\n",
       "      <td>...</td>\n",
       "      <td>...</td>\n",
       "      <td>...</td>\n",
       "    </tr>\n",
       "    <tr>\n",
       "      <th>82</th>\n",
       "      <td>2014-w05</td>\n",
       "      <td>Rio Grande Do Sul</td>\n",
       "      <td>16</td>\n",
       "      <td>0.019512</td>\n",
       "    </tr>\n",
       "    <tr>\n",
       "      <th>83</th>\n",
       "      <td>2014-w05</td>\n",
       "      <td>Rondonia</td>\n",
       "      <td>1</td>\n",
       "      <td>0.001220</td>\n",
       "    </tr>\n",
       "    <tr>\n",
       "      <th>84</th>\n",
       "      <td>2014-w05</td>\n",
       "      <td>Santa Catarina</td>\n",
       "      <td>5</td>\n",
       "      <td>0.006098</td>\n",
       "    </tr>\n",
       "    <tr>\n",
       "      <th>85</th>\n",
       "      <td>2014-w05</td>\n",
       "      <td>Sao Paulo</td>\n",
       "      <td>59</td>\n",
       "      <td>0.071951</td>\n",
       "    </tr>\n",
       "    <tr>\n",
       "      <th>86</th>\n",
       "      <td>2014-w05</td>\n",
       "      <td>Sergipe</td>\n",
       "      <td>1</td>\n",
       "      <td>0.001220</td>\n",
       "    </tr>\n",
       "  </tbody>\n",
       "</table>\n",
       "<p>87 rows × 4 columns</p>\n",
       "</div>"
      ],
      "text/plain": [
       "   year_week       LocationName  group_size  proportion\n",
       "0   2014-w01            Alagoas           1    0.001220\n",
       "1   2014-w01              Amapa           1    0.001220\n",
       "2   2014-w01           Amazonas           5    0.006098\n",
       "3   2014-w01              Bahia           9    0.010976\n",
       "4   2014-w01              Ceara           2    0.002439\n",
       "..       ...                ...         ...         ...\n",
       "82  2014-w05  Rio Grande Do Sul          16    0.019512\n",
       "83  2014-w05           Rondonia           1    0.001220\n",
       "84  2014-w05     Santa Catarina           5    0.006098\n",
       "85  2014-w05          Sao Paulo          59    0.071951\n",
       "86  2014-w05            Sergipe           1    0.001220\n",
       "\n",
       "[87 rows x 4 columns]"
      ]
     },
     "execution_count": 5,
     "metadata": {},
     "output_type": "execute_result"
    }
   ],
   "source": [
    "# Step 1: Calculate the size of each group (year_week, LocationName)\n",
    "group_sizes = df_2014_01_neg.groupby(['year_week', 'LocationName']).size().reset_index(name='group_size')\n",
    "\n",
    "# Step 2: Calculate the proportion of each group in the dataset\n",
    "total_rows = len(df_2014_01_neg)\n",
    "group_sizes['proportion'] = group_sizes['group_size'] / total_rows\n",
    "group_sizes"
   ]
  },
  {
   "cell_type": "code",
   "execution_count": 6,
   "id": "3fac3240",
   "metadata": {},
   "outputs": [
    {
     "data": {
      "text/html": [
       "<div>\n",
       "<style scoped>\n",
       "    .dataframe tbody tr th:only-of-type {\n",
       "        vertical-align: middle;\n",
       "    }\n",
       "\n",
       "    .dataframe tbody tr th {\n",
       "        vertical-align: top;\n",
       "    }\n",
       "\n",
       "    .dataframe thead th {\n",
       "        text-align: right;\n",
       "    }\n",
       "</style>\n",
       "<table border=\"1\" class=\"dataframe\">\n",
       "  <thead>\n",
       "    <tr style=\"text-align: right;\">\n",
       "      <th></th>\n",
       "      <th>year_week</th>\n",
       "      <th>LocationName</th>\n",
       "      <th>group_size</th>\n",
       "      <th>proportion</th>\n",
       "      <th>sample_size</th>\n",
       "    </tr>\n",
       "  </thead>\n",
       "  <tbody>\n",
       "    <tr>\n",
       "      <th>0</th>\n",
       "      <td>2014-w01</td>\n",
       "      <td>Alagoas</td>\n",
       "      <td>1</td>\n",
       "      <td>0.001220</td>\n",
       "      <td>2</td>\n",
       "    </tr>\n",
       "    <tr>\n",
       "      <th>1</th>\n",
       "      <td>2014-w01</td>\n",
       "      <td>Amapa</td>\n",
       "      <td>1</td>\n",
       "      <td>0.001220</td>\n",
       "      <td>2</td>\n",
       "    </tr>\n",
       "    <tr>\n",
       "      <th>2</th>\n",
       "      <td>2014-w01</td>\n",
       "      <td>Amazonas</td>\n",
       "      <td>5</td>\n",
       "      <td>0.006098</td>\n",
       "      <td>14</td>\n",
       "    </tr>\n",
       "    <tr>\n",
       "      <th>3</th>\n",
       "      <td>2014-w01</td>\n",
       "      <td>Bahia</td>\n",
       "      <td>9</td>\n",
       "      <td>0.010976</td>\n",
       "      <td>26</td>\n",
       "    </tr>\n",
       "    <tr>\n",
       "      <th>4</th>\n",
       "      <td>2014-w01</td>\n",
       "      <td>Ceara</td>\n",
       "      <td>2</td>\n",
       "      <td>0.002439</td>\n",
       "      <td>5</td>\n",
       "    </tr>\n",
       "    <tr>\n",
       "      <th>...</th>\n",
       "      <td>...</td>\n",
       "      <td>...</td>\n",
       "      <td>...</td>\n",
       "      <td>...</td>\n",
       "      <td>...</td>\n",
       "    </tr>\n",
       "    <tr>\n",
       "      <th>82</th>\n",
       "      <td>2014-w05</td>\n",
       "      <td>Rio Grande Do Sul</td>\n",
       "      <td>16</td>\n",
       "      <td>0.019512</td>\n",
       "      <td>47</td>\n",
       "    </tr>\n",
       "    <tr>\n",
       "      <th>83</th>\n",
       "      <td>2014-w05</td>\n",
       "      <td>Rondonia</td>\n",
       "      <td>1</td>\n",
       "      <td>0.001220</td>\n",
       "      <td>2</td>\n",
       "    </tr>\n",
       "    <tr>\n",
       "      <th>84</th>\n",
       "      <td>2014-w05</td>\n",
       "      <td>Santa Catarina</td>\n",
       "      <td>5</td>\n",
       "      <td>0.006098</td>\n",
       "      <td>14</td>\n",
       "    </tr>\n",
       "    <tr>\n",
       "      <th>85</th>\n",
       "      <td>2014-w05</td>\n",
       "      <td>Sao Paulo</td>\n",
       "      <td>59</td>\n",
       "      <td>0.071951</td>\n",
       "      <td>176</td>\n",
       "    </tr>\n",
       "    <tr>\n",
       "      <th>86</th>\n",
       "      <td>2014-w05</td>\n",
       "      <td>Sergipe</td>\n",
       "      <td>1</td>\n",
       "      <td>0.001220</td>\n",
       "      <td>2</td>\n",
       "    </tr>\n",
       "  </tbody>\n",
       "</table>\n",
       "<p>87 rows × 5 columns</p>\n",
       "</div>"
      ],
      "text/plain": [
       "   year_week       LocationName  group_size  proportion  sample_size\n",
       "0   2014-w01            Alagoas           1    0.001220            2\n",
       "1   2014-w01              Amapa           1    0.001220            2\n",
       "2   2014-w01           Amazonas           5    0.006098           14\n",
       "3   2014-w01              Bahia           9    0.010976           26\n",
       "4   2014-w01              Ceara           2    0.002439            5\n",
       "..       ...                ...         ...         ...          ...\n",
       "82  2014-w05  Rio Grande Do Sul          16    0.019512           47\n",
       "83  2014-w05           Rondonia           1    0.001220            2\n",
       "84  2014-w05     Santa Catarina           5    0.006098           14\n",
       "85  2014-w05          Sao Paulo          59    0.071951          176\n",
       "86  2014-w05            Sergipe           1    0.001220            2\n",
       "\n",
       "[87 rows x 5 columns]"
      ]
     },
     "execution_count": 6,
     "metadata": {},
     "output_type": "execute_result"
    }
   ],
   "source": [
    "# Step 3: Define the target sample size\n",
    "target_sample_size = 2450\n",
    "\n",
    "# Step 4: Calculate the sample size for each group (based on its proportion)\n",
    "group_sizes['sample_size'] = np.floor(group_sizes['proportion'] * target_sample_size).astype(int)\n",
    "group_sizes"
   ]
  },
  {
   "cell_type": "code",
   "execution_count": 7,
   "id": "c7469167",
   "metadata": {},
   "outputs": [],
   "source": [
    "# Step 5: Merge this sample size information back to the original DataFrame\n",
    "df_2014_01_neg_sample_size = pd.merge(df_2014_01_neg, group_sizes[['year_week', 'LocationName', 'sample_size']], \n",
    "                               on=['year_week', 'LocationName'], how='left')"
   ]
  },
  {
   "cell_type": "code",
   "execution_count": 8,
   "id": "9c4475e7",
   "metadata": {},
   "outputs": [
    {
     "name": "stdout",
     "output_type": "stream",
     "text": [
      "Sampled 820 rows.\n"
     ]
    }
   ],
   "source": [
    "# Step 6: Perform the stratified sampling\n",
    "#df_2014_01_neg_sample = df_2014_01_neg_sample_size.groupby(['year_week', 'LocationName']).apply(\n",
    "#    lambda group: group.sample(n=group['sample_size'].iloc[0], random_state=42)\n",
    "#).reset_index(drop=True)\n",
    "df_2014_01_neg_sample = df_2014_01_neg\n",
    "# Step 7: Check the result\n",
    "print(f\"Sampled {len(df_2014_01_neg_sample)} rows.\")\n"
   ]
  },
  {
   "cell_type": "code",
   "execution_count": 9,
   "id": "c4ec1d65",
   "metadata": {},
   "outputs": [],
   "source": [
    "text_gpt_2014_01_neg = '\\n'.join(df_2014_01_neg_sample['text'].astype(str))"
   ]
  },
  {
   "cell_type": "markdown",
   "id": "5dc8c377",
   "metadata": {},
   "source": [
    "### Prompts and loops"
   ]
  },
  {
   "cell_type": "code",
   "execution_count": 10,
   "id": "a269fd14",
   "metadata": {},
   "outputs": [],
   "source": [
    "prompt_1 = prompt_raw.replace('TWEETS', text_gpt_2014_01_neg)"
   ]
  },
  {
   "cell_type": "code",
   "execution_count": 11,
   "id": "132f0e60",
   "metadata": {
    "scrolled": false
   },
   "outputs": [],
   "source": [
    "response = openai.ChatCompletion.create(\n",
    "    model=\"gpt-4o-mini\",  \n",
    "    messages = [\n",
    "        {\"role\": \"user\", \"content\": prompt_1}\n",
    "    ],\n",
    "    max_tokens=400,  # Maximum number of tokens in the response\n",
    "    temperature=0.7  # Controls the randomness of the output\n",
    ")"
   ]
  },
  {
   "cell_type": "code",
   "execution_count": 12,
   "id": "8b87399c",
   "metadata": {},
   "outputs": [
    {
     "data": {
      "text/plain": [
       "\"The sentences express various opinions and experiences regarding vaccinations, particularly the HPV vaccine and other childhood immunizations. Many individuals express fear, pain, and reluctance associated with getting vaccinated, while some criticize the government's vaccination campaigns as politically motivated. There are also mentions of adverse reactions to vaccines and concerns about their necessity and safety, particularly regarding HPV vaccinations for young girls. The overall sentiment reflects a mix of skepticism, fear, and frustration surrounding the topic of vaccinations.\""
      ]
     },
     "execution_count": 12,
     "metadata": {},
     "output_type": "execute_result"
    }
   ],
   "source": [
    "response.choices[0].message.content"
   ]
  },
  {
   "cell_type": "code",
   "execution_count": 13,
   "id": "177a2bd7",
   "metadata": {},
   "outputs": [],
   "source": [
    "summary = []\n",
    "dataset = []"
   ]
  },
  {
   "cell_type": "code",
   "execution_count": 14,
   "id": "005c717a",
   "metadata": {},
   "outputs": [],
   "source": [
    "dataset.append(\"2014_01_negative\")"
   ]
  },
  {
   "cell_type": "code",
   "execution_count": 15,
   "id": "b3580ec6",
   "metadata": {},
   "outputs": [],
   "source": [
    "summary.append(response.choices[0].message.content)"
   ]
  },
  {
   "cell_type": "code",
   "execution_count": 16,
   "id": "24c5caaa",
   "metadata": {
    "tags": []
   },
   "outputs": [
    {
     "name": "stdout",
     "output_type": "stream",
     "text": [
      "<class 'pandas.core.frame.DataFrame'>\n",
      "RangeIndex: 1 entries, 0 to 0\n",
      "Data columns (total 2 columns):\n",
      " #   Column   Non-Null Count  Dtype \n",
      "---  ------   --------------  ----- \n",
      " 0   dataset  1 non-null      object\n",
      " 1   summary  1 non-null      object\n",
      "dtypes: object(2)\n",
      "memory usage: 144.0+ bytes\n"
     ]
    }
   ],
   "source": [
    "df_2014_neg = pd.DataFrame(list(zip(dataset, summary)),\n",
    "                            columns = ['dataset', 'summary'])\n",
    "df_2014_neg.info()"
   ]
  },
  {
   "cell_type": "code",
   "execution_count": 17,
   "id": "5bcf3f7f",
   "metadata": {},
   "outputs": [
    {
     "data": {
      "text/html": [
       "<div>\n",
       "<style scoped>\n",
       "    .dataframe tbody tr th:only-of-type {\n",
       "        vertical-align: middle;\n",
       "    }\n",
       "\n",
       "    .dataframe tbody tr th {\n",
       "        vertical-align: top;\n",
       "    }\n",
       "\n",
       "    .dataframe thead th {\n",
       "        text-align: right;\n",
       "    }\n",
       "</style>\n",
       "<table border=\"1\" class=\"dataframe\">\n",
       "  <thead>\n",
       "    <tr style=\"text-align: right;\">\n",
       "      <th></th>\n",
       "      <th>dataset</th>\n",
       "      <th>summary</th>\n",
       "    </tr>\n",
       "  </thead>\n",
       "  <tbody>\n",
       "    <tr>\n",
       "      <th>0</th>\n",
       "      <td>2014_01_negitive</td>\n",
       "      <td>The sentences express various opinions and exp...</td>\n",
       "    </tr>\n",
       "  </tbody>\n",
       "</table>\n",
       "</div>"
      ],
      "text/plain": [
       "            dataset                                            summary\n",
       "0  2014_01_negitive  The sentences express various opinions and exp..."
      ]
     },
     "execution_count": 17,
     "metadata": {},
     "output_type": "execute_result"
    }
   ],
   "source": [
    "df_2014_neg.tail(14)"
   ]
  },
  {
   "cell_type": "code",
   "execution_count": 18,
   "id": "df702099",
   "metadata": {},
   "outputs": [
    {
     "data": {
      "text/plain": [
       "<OpenAIObject chat.completion id=chatcmpl-AUdFfiW8t9esqMqzRWprbKzPHfsQ3 at 0x26c2b6a87c0> JSON: {\n",
       "  \"choices\": [\n",
       "    {\n",
       "      \"finish_reason\": \"stop\",\n",
       "      \"index\": 0,\n",
       "      \"logprobs\": null,\n",
       "      \"message\": {\n",
       "        \"content\": \"The sentences express various opinions and experiences regarding vaccinations, particularly the HPV vaccine and other childhood immunizations. Many individuals express fear, pain, and reluctance associated with getting vaccinated, while some criticize the government's vaccination campaigns as politically motivated. There are also mentions of adverse reactions to vaccines and concerns about their necessity and safety, particularly regarding HPV vaccinations for young girls. The overall sentiment reflects a mix of skepticism, fear, and frustration surrounding the topic of vaccinations.\",\n",
       "        \"refusal\": null,\n",
       "        \"role\": \"assistant\"\n",
       "      }\n",
       "    }\n",
       "  ],\n",
       "  \"created\": 1731864087,\n",
       "  \"id\": \"chatcmpl-AUdFfiW8t9esqMqzRWprbKzPHfsQ3\",\n",
       "  \"model\": \"gpt-4o-mini-2024-07-18\",\n",
       "  \"object\": \"chat.completion\",\n",
       "  \"system_fingerprint\": \"fp_f8dd36be86\",\n",
       "  \"usage\": {\n",
       "    \"completion_tokens\": 90,\n",
       "    \"completion_tokens_details\": {\n",
       "      \"accepted_prediction_tokens\": 0,\n",
       "      \"audio_tokens\": 0,\n",
       "      \"reasoning_tokens\": 0,\n",
       "      \"rejected_prediction_tokens\": 0\n",
       "    },\n",
       "    \"prompt_tokens\": 17165,\n",
       "    \"prompt_tokens_details\": {\n",
       "      \"audio_tokens\": 0,\n",
       "      \"cached_tokens\": 0\n",
       "    },\n",
       "    \"total_tokens\": 17255\n",
       "  }\n",
       "}"
      ]
     },
     "execution_count": 18,
     "metadata": {},
     "output_type": "execute_result"
    }
   ],
   "source": [
    "response"
   ]
  },
  {
   "cell_type": "markdown",
   "id": "f2468aac",
   "metadata": {},
   "source": [
    "## February"
   ]
  },
  {
   "cell_type": "code",
   "execution_count": 19,
   "id": "5ea58abd",
   "metadata": {
    "scrolled": true,
    "tags": []
   },
   "outputs": [
    {
     "name": "stdout",
     "output_type": "stream",
     "text": [
      "<class 'pandas.core.frame.DataFrame'>\n",
      "RangeIndex: 738 entries, 0 to 737\n",
      "Data columns (total 53 columns):\n",
      " #   Column                  Non-Null Count  Dtype  \n",
      "---  ------                  --------------  -----  \n",
      " 0   index                   738 non-null    int64  \n",
      " 1   LocationCode            738 non-null    object \n",
      " 2   LocationName            738 non-null    object \n",
      " 3   StatesCode              738 non-null    object \n",
      " 4   ...4                    738 non-null    int64  \n",
      " 5   id                      738 non-null    float64\n",
      " 6   text                    738 non-null    object \n",
      " 7   label                   738 non-null    object \n",
      " 8   in_reply_to_status_id   70 non-null     float64\n",
      " 9   in_reply_to_user_id     72 non-null     float64\n",
      " 10  quoted_user_id          0 non-null      float64\n",
      " 11  quoted_status_id        0 non-null      float64\n",
      " 12  retweeted_user_id       114 non-null    float64\n",
      " 13  retweeted_status_id     114 non-null    float64\n",
      " 14  created_at              738 non-null    object \n",
      " 15  entities.user_mentions  219 non-null    object \n",
      " 16  user.id                 738 non-null    int64  \n",
      " 17  user.screen_name        738 non-null    object \n",
      " 18  user.name               738 non-null    object \n",
      " 19  user.description        672 non-null    object \n",
      " 20  user.timezone           0 non-null      float64\n",
      " 21  user.location           726 non-null    object \n",
      " 22  user.num_followers      738 non-null    int64  \n",
      " 23  user.num_following      738 non-null    int64  \n",
      " 24  user.created_at         738 non-null    object \n",
      " 25  user.statuses_count     738 non-null    int64  \n",
      " 26  user.is_verified        738 non-null    bool   \n",
      " 27  lang                    738 non-null    object \n",
      " 28  token_count             738 non-null    int64  \n",
      " 29  is_retweet              738 non-null    bool   \n",
      " 30  has_quote               738 non-null    bool   \n",
      " 31  is_reply                738 non-null    bool   \n",
      " 32  contains_keywords       738 non-null    bool   \n",
      " 33  longitude               738 non-null    float64\n",
      " 34  latitude                738 non-null    float64\n",
      " 35  country_code            738 non-null    object \n",
      " 36  geoname_id              708 non-null    float64\n",
      " 37  location_type           738 non-null    object \n",
      " 38  geo_type                738 non-null    int64  \n",
      " 39  region                  738 non-null    object \n",
      " 40  subregion               738 non-null    object \n",
      " 41  num_quotes              738 non-null    int64  \n",
      " 42  num_replies             738 non-null    int64  \n",
      " 43  num_retweets            738 non-null    int64  \n",
      " 44  sent_gpt                738 non-null    object \n",
      " 45  gpt_sent_presence       738 non-null    int64  \n",
      " 46  cleaned_text_lem        738 non-null    object \n",
      " 47  cleaned_text            738 non-null    object \n",
      " 48  month                   738 non-null    int64  \n",
      " 49  year                    738 non-null    int64  \n",
      " 50  week                    738 non-null    int64  \n",
      " 51  year_month              738 non-null    object \n",
      " 52  year_week               738 non-null    object \n",
      "dtypes: bool(5), float64(11), int64(15), object(22)\n",
      "memory usage: 280.5+ KB\n"
     ]
    }
   ],
   "source": [
    "# Get monthly data\n",
    "df_2014_02_neg = pd.read_csv('../data/local/df_neg_2014-02.csv').reset_index()\n",
    "df_2014_02_neg.info()"
   ]
  },
  {
   "cell_type": "markdown",
   "id": "1131f48c",
   "metadata": {},
   "source": [
    "### Representative sample based on week and location"
   ]
  },
  {
   "cell_type": "code",
   "execution_count": 20,
   "id": "2ef3d681",
   "metadata": {},
   "outputs": [
    {
     "data": {
      "text/html": [
       "<div>\n",
       "<style scoped>\n",
       "    .dataframe tbody tr th:only-of-type {\n",
       "        vertical-align: middle;\n",
       "    }\n",
       "\n",
       "    .dataframe tbody tr th {\n",
       "        vertical-align: top;\n",
       "    }\n",
       "\n",
       "    .dataframe thead th {\n",
       "        text-align: right;\n",
       "    }\n",
       "</style>\n",
       "<table border=\"1\" class=\"dataframe\">\n",
       "  <thead>\n",
       "    <tr style=\"text-align: right;\">\n",
       "      <th></th>\n",
       "      <th>year_week</th>\n",
       "      <th>LocationName</th>\n",
       "      <th>group_size</th>\n",
       "      <th>proportion</th>\n",
       "    </tr>\n",
       "  </thead>\n",
       "  <tbody>\n",
       "    <tr>\n",
       "      <th>0</th>\n",
       "      <td>2014-w05</td>\n",
       "      <td>Acre</td>\n",
       "      <td>1</td>\n",
       "      <td>0.001355</td>\n",
       "    </tr>\n",
       "    <tr>\n",
       "      <th>1</th>\n",
       "      <td>2014-w05</td>\n",
       "      <td>Alagoas</td>\n",
       "      <td>1</td>\n",
       "      <td>0.001355</td>\n",
       "    </tr>\n",
       "    <tr>\n",
       "      <th>2</th>\n",
       "      <td>2014-w05</td>\n",
       "      <td>Amazonas</td>\n",
       "      <td>3</td>\n",
       "      <td>0.004065</td>\n",
       "    </tr>\n",
       "    <tr>\n",
       "      <th>3</th>\n",
       "      <td>2014-w05</td>\n",
       "      <td>Bahia</td>\n",
       "      <td>5</td>\n",
       "      <td>0.006775</td>\n",
       "    </tr>\n",
       "    <tr>\n",
       "      <th>4</th>\n",
       "      <td>2014-w05</td>\n",
       "      <td>Ceara</td>\n",
       "      <td>8</td>\n",
       "      <td>0.010840</td>\n",
       "    </tr>\n",
       "    <tr>\n",
       "      <th>...</th>\n",
       "      <td>...</td>\n",
       "      <td>...</td>\n",
       "      <td>...</td>\n",
       "      <td>...</td>\n",
       "    </tr>\n",
       "    <tr>\n",
       "      <th>85</th>\n",
       "      <td>2014-w09</td>\n",
       "      <td>Paraiba</td>\n",
       "      <td>3</td>\n",
       "      <td>0.004065</td>\n",
       "    </tr>\n",
       "    <tr>\n",
       "      <th>86</th>\n",
       "      <td>2014-w09</td>\n",
       "      <td>Parana</td>\n",
       "      <td>3</td>\n",
       "      <td>0.004065</td>\n",
       "    </tr>\n",
       "    <tr>\n",
       "      <th>87</th>\n",
       "      <td>2014-w09</td>\n",
       "      <td>Rio De Janeiro</td>\n",
       "      <td>1</td>\n",
       "      <td>0.001355</td>\n",
       "    </tr>\n",
       "    <tr>\n",
       "      <th>88</th>\n",
       "      <td>2014-w09</td>\n",
       "      <td>Rio Grande Do Sul</td>\n",
       "      <td>9</td>\n",
       "      <td>0.012195</td>\n",
       "    </tr>\n",
       "    <tr>\n",
       "      <th>89</th>\n",
       "      <td>2014-w09</td>\n",
       "      <td>Sao Paulo</td>\n",
       "      <td>24</td>\n",
       "      <td>0.032520</td>\n",
       "    </tr>\n",
       "  </tbody>\n",
       "</table>\n",
       "<p>90 rows × 4 columns</p>\n",
       "</div>"
      ],
      "text/plain": [
       "   year_week       LocationName  group_size  proportion\n",
       "0   2014-w05               Acre           1    0.001355\n",
       "1   2014-w05            Alagoas           1    0.001355\n",
       "2   2014-w05           Amazonas           3    0.004065\n",
       "3   2014-w05              Bahia           5    0.006775\n",
       "4   2014-w05              Ceara           8    0.010840\n",
       "..       ...                ...         ...         ...\n",
       "85  2014-w09            Paraiba           3    0.004065\n",
       "86  2014-w09             Parana           3    0.004065\n",
       "87  2014-w09     Rio De Janeiro           1    0.001355\n",
       "88  2014-w09  Rio Grande Do Sul           9    0.012195\n",
       "89  2014-w09          Sao Paulo          24    0.032520\n",
       "\n",
       "[90 rows x 4 columns]"
      ]
     },
     "execution_count": 20,
     "metadata": {},
     "output_type": "execute_result"
    }
   ],
   "source": [
    "# Step 1: Calculate the size of each group (year_week, LocationName)\n",
    "group_sizes = df_2014_02_neg.groupby(['year_week', 'LocationName']).size().reset_index(name='group_size')\n",
    "\n",
    "# Step 2: Calculate the proportion of each group in the dataset\n",
    "total_rows = len(df_2014_02_neg)\n",
    "group_sizes['proportion'] = group_sizes['group_size'] / total_rows\n",
    "group_sizes"
   ]
  },
  {
   "cell_type": "code",
   "execution_count": 21,
   "id": "adee9c98",
   "metadata": {},
   "outputs": [
    {
     "data": {
      "text/html": [
       "<div>\n",
       "<style scoped>\n",
       "    .dataframe tbody tr th:only-of-type {\n",
       "        vertical-align: middle;\n",
       "    }\n",
       "\n",
       "    .dataframe tbody tr th {\n",
       "        vertical-align: top;\n",
       "    }\n",
       "\n",
       "    .dataframe thead th {\n",
       "        text-align: right;\n",
       "    }\n",
       "</style>\n",
       "<table border=\"1\" class=\"dataframe\">\n",
       "  <thead>\n",
       "    <tr style=\"text-align: right;\">\n",
       "      <th></th>\n",
       "      <th>year_week</th>\n",
       "      <th>LocationName</th>\n",
       "      <th>group_size</th>\n",
       "      <th>proportion</th>\n",
       "      <th>sample_size</th>\n",
       "    </tr>\n",
       "  </thead>\n",
       "  <tbody>\n",
       "    <tr>\n",
       "      <th>0</th>\n",
       "      <td>2014-w05</td>\n",
       "      <td>Acre</td>\n",
       "      <td>1</td>\n",
       "      <td>0.001355</td>\n",
       "      <td>3</td>\n",
       "    </tr>\n",
       "    <tr>\n",
       "      <th>1</th>\n",
       "      <td>2014-w05</td>\n",
       "      <td>Alagoas</td>\n",
       "      <td>1</td>\n",
       "      <td>0.001355</td>\n",
       "      <td>3</td>\n",
       "    </tr>\n",
       "    <tr>\n",
       "      <th>2</th>\n",
       "      <td>2014-w05</td>\n",
       "      <td>Amazonas</td>\n",
       "      <td>3</td>\n",
       "      <td>0.004065</td>\n",
       "      <td>9</td>\n",
       "    </tr>\n",
       "    <tr>\n",
       "      <th>3</th>\n",
       "      <td>2014-w05</td>\n",
       "      <td>Bahia</td>\n",
       "      <td>5</td>\n",
       "      <td>0.006775</td>\n",
       "      <td>16</td>\n",
       "    </tr>\n",
       "    <tr>\n",
       "      <th>4</th>\n",
       "      <td>2014-w05</td>\n",
       "      <td>Ceara</td>\n",
       "      <td>8</td>\n",
       "      <td>0.010840</td>\n",
       "      <td>26</td>\n",
       "    </tr>\n",
       "    <tr>\n",
       "      <th>...</th>\n",
       "      <td>...</td>\n",
       "      <td>...</td>\n",
       "      <td>...</td>\n",
       "      <td>...</td>\n",
       "      <td>...</td>\n",
       "    </tr>\n",
       "    <tr>\n",
       "      <th>85</th>\n",
       "      <td>2014-w09</td>\n",
       "      <td>Paraiba</td>\n",
       "      <td>3</td>\n",
       "      <td>0.004065</td>\n",
       "      <td>9</td>\n",
       "    </tr>\n",
       "    <tr>\n",
       "      <th>86</th>\n",
       "      <td>2014-w09</td>\n",
       "      <td>Parana</td>\n",
       "      <td>3</td>\n",
       "      <td>0.004065</td>\n",
       "      <td>9</td>\n",
       "    </tr>\n",
       "    <tr>\n",
       "      <th>87</th>\n",
       "      <td>2014-w09</td>\n",
       "      <td>Rio De Janeiro</td>\n",
       "      <td>1</td>\n",
       "      <td>0.001355</td>\n",
       "      <td>3</td>\n",
       "    </tr>\n",
       "    <tr>\n",
       "      <th>88</th>\n",
       "      <td>2014-w09</td>\n",
       "      <td>Rio Grande Do Sul</td>\n",
       "      <td>9</td>\n",
       "      <td>0.012195</td>\n",
       "      <td>29</td>\n",
       "    </tr>\n",
       "    <tr>\n",
       "      <th>89</th>\n",
       "      <td>2014-w09</td>\n",
       "      <td>Sao Paulo</td>\n",
       "      <td>24</td>\n",
       "      <td>0.032520</td>\n",
       "      <td>79</td>\n",
       "    </tr>\n",
       "  </tbody>\n",
       "</table>\n",
       "<p>90 rows × 5 columns</p>\n",
       "</div>"
      ],
      "text/plain": [
       "   year_week       LocationName  group_size  proportion  sample_size\n",
       "0   2014-w05               Acre           1    0.001355            3\n",
       "1   2014-w05            Alagoas           1    0.001355            3\n",
       "2   2014-w05           Amazonas           3    0.004065            9\n",
       "3   2014-w05              Bahia           5    0.006775           16\n",
       "4   2014-w05              Ceara           8    0.010840           26\n",
       "..       ...                ...         ...         ...          ...\n",
       "85  2014-w09            Paraiba           3    0.004065            9\n",
       "86  2014-w09             Parana           3    0.004065            9\n",
       "87  2014-w09     Rio De Janeiro           1    0.001355            3\n",
       "88  2014-w09  Rio Grande Do Sul           9    0.012195           29\n",
       "89  2014-w09          Sao Paulo          24    0.032520           79\n",
       "\n",
       "[90 rows x 5 columns]"
      ]
     },
     "execution_count": 21,
     "metadata": {},
     "output_type": "execute_result"
    }
   ],
   "source": [
    "# Step 3: Define the target sample size\n",
    "target_sample_size = 2450\n",
    "\n",
    "# Step 4: Calculate the sample size for each group (based on its proportion)\n",
    "group_sizes['sample_size'] = np.floor(group_sizes['proportion'] * target_sample_size).astype(int)\n",
    "group_sizes"
   ]
  },
  {
   "cell_type": "code",
   "execution_count": 22,
   "id": "a7b8b23f",
   "metadata": {},
   "outputs": [],
   "source": [
    "# Step 5: Merge this sample size information back to the original DataFrame\n",
    "df_2014_02_neg_sample_size = pd.merge(df_2014_02_neg, group_sizes[['year_week', 'LocationName', 'sample_size']], \n",
    "                               on=['year_week', 'LocationName'], how='left')"
   ]
  },
  {
   "cell_type": "code",
   "execution_count": 23,
   "id": "46c74cd1",
   "metadata": {},
   "outputs": [
    {
     "name": "stdout",
     "output_type": "stream",
     "text": [
      "Sampled 738 rows.\n"
     ]
    }
   ],
   "source": [
    "# Step 6: Perform the stratified sampling\n",
    "#df_2014_02_neg_sample = df_2014_02_neg_sample_size.groupby(['year_week', 'LocationName']).apply(\n",
    " #   lambda group: group.sample(n=group['sample_size'].iloc[0], random_state=42)\n",
    "#).reset_index(drop=True)\n",
    "df_2014_02_neg_sample = df_2014_02_neg\n",
    "# Step 7: Check the result\n",
    "print(f\"Sampled {len(df_2014_02_neg_sample)} rows.\")\n"
   ]
  },
  {
   "cell_type": "code",
   "execution_count": 24,
   "id": "80e9765e",
   "metadata": {},
   "outputs": [],
   "source": [
    "text_gpt_2014_02_neg = '\\n'.join(df_2014_02_neg_sample['text'].astype(str))"
   ]
  },
  {
   "cell_type": "markdown",
   "id": "b22f256e",
   "metadata": {},
   "source": [
    "### Prompts and loops"
   ]
  },
  {
   "cell_type": "code",
   "execution_count": 25,
   "id": "95c22639",
   "metadata": {},
   "outputs": [],
   "source": [
    "prompt_2 = prompt_raw.replace('TWEETS', text_gpt_2014_02_neg)"
   ]
  },
  {
   "cell_type": "code",
   "execution_count": 26,
   "id": "b172834e",
   "metadata": {
    "scrolled": false
   },
   "outputs": [],
   "source": [
    "response = openai.ChatCompletion.create(\n",
    "    model=\"gpt-4o-mini\",  \n",
    "    messages = [\n",
    "        {\"role\": \"user\", \"content\": prompt_2}\n",
    "    ],\n",
    "    max_tokens=400,  # Maximum number of tokens in the response\n",
    "    temperature=0.7  # Controls the randomness of the output\n",
    ")"
   ]
  },
  {
   "cell_type": "code",
   "execution_count": 27,
   "id": "86d7f1a3",
   "metadata": {},
   "outputs": [
    {
     "data": {
      "text/plain": [
       "'The text discusses various opinions and experiences related to vaccinations, particularly skepticism towards the effectiveness of certain vaccines, such as the Cuban vaccine for meningitis B, and the HPV vaccine. There are concerns about side effects, parental opposition, and the role of religion in vaccine hesitancy. Additionally, experiences of pain and discomfort from vaccinations are expressed, alongside criticisms of the anti-vaccine movement and its consequences on public health.'"
      ]
     },
     "execution_count": 27,
     "metadata": {},
     "output_type": "execute_result"
    }
   ],
   "source": [
    "response.choices[0].message.content"
   ]
  },
  {
   "cell_type": "code",
   "execution_count": 28,
   "id": "44a76dbb",
   "metadata": {},
   "outputs": [],
   "source": [
    "#summary = []\n",
    "#dataset = []"
   ]
  },
  {
   "cell_type": "code",
   "execution_count": 29,
   "id": "9da8b8a2",
   "metadata": {},
   "outputs": [],
   "source": [
    "dataset.append(\"2014_02_negative\")"
   ]
  },
  {
   "cell_type": "code",
   "execution_count": 30,
   "id": "4d33e327",
   "metadata": {},
   "outputs": [],
   "source": [
    "summary.append(response.choices[0].message.content)"
   ]
  },
  {
   "cell_type": "code",
   "execution_count": 31,
   "id": "725c0f71",
   "metadata": {
    "tags": []
   },
   "outputs": [
    {
     "name": "stdout",
     "output_type": "stream",
     "text": [
      "<class 'pandas.core.frame.DataFrame'>\n",
      "RangeIndex: 2 entries, 0 to 1\n",
      "Data columns (total 2 columns):\n",
      " #   Column   Non-Null Count  Dtype \n",
      "---  ------   --------------  ----- \n",
      " 0   dataset  2 non-null      object\n",
      " 1   summary  2 non-null      object\n",
      "dtypes: object(2)\n",
      "memory usage: 160.0+ bytes\n"
     ]
    }
   ],
   "source": [
    "df_2014_neg = pd.DataFrame(list(zip(dataset, summary)),\n",
    "                            columns = ['dataset', 'summary'])\n",
    "df_2014_neg.info()"
   ]
  },
  {
   "cell_type": "code",
   "execution_count": 32,
   "id": "90cdb4de",
   "metadata": {},
   "outputs": [
    {
     "data": {
      "text/html": [
       "<div>\n",
       "<style scoped>\n",
       "    .dataframe tbody tr th:only-of-type {\n",
       "        vertical-align: middle;\n",
       "    }\n",
       "\n",
       "    .dataframe tbody tr th {\n",
       "        vertical-align: top;\n",
       "    }\n",
       "\n",
       "    .dataframe thead th {\n",
       "        text-align: right;\n",
       "    }\n",
       "</style>\n",
       "<table border=\"1\" class=\"dataframe\">\n",
       "  <thead>\n",
       "    <tr style=\"text-align: right;\">\n",
       "      <th></th>\n",
       "      <th>dataset</th>\n",
       "      <th>summary</th>\n",
       "    </tr>\n",
       "  </thead>\n",
       "  <tbody>\n",
       "    <tr>\n",
       "      <th>0</th>\n",
       "      <td>2014_01_negitive</td>\n",
       "      <td>The sentences express various opinions and exp...</td>\n",
       "    </tr>\n",
       "    <tr>\n",
       "      <th>1</th>\n",
       "      <td>2014_02_negitive</td>\n",
       "      <td>The text discusses various opinions and experi...</td>\n",
       "    </tr>\n",
       "  </tbody>\n",
       "</table>\n",
       "</div>"
      ],
      "text/plain": [
       "            dataset                                            summary\n",
       "0  2014_01_negitive  The sentences express various opinions and exp...\n",
       "1  2014_02_negitive  The text discusses various opinions and experi..."
      ]
     },
     "execution_count": 32,
     "metadata": {},
     "output_type": "execute_result"
    }
   ],
   "source": [
    "df_2014_neg.tail(14)"
   ]
  },
  {
   "cell_type": "code",
   "execution_count": 33,
   "id": "8b79e3e6",
   "metadata": {},
   "outputs": [
    {
     "data": {
      "text/plain": [
       "<OpenAIObject chat.completion id=chatcmpl-AUdFhPFhO7iinEvkpTkFM2cm8dMZn at 0x26c2b8bedb0> JSON: {\n",
       "  \"choices\": [\n",
       "    {\n",
       "      \"finish_reason\": \"stop\",\n",
       "      \"index\": 0,\n",
       "      \"logprobs\": null,\n",
       "      \"message\": {\n",
       "        \"content\": \"The text discusses various opinions and experiences related to vaccinations, particularly skepticism towards the effectiveness of certain vaccines, such as the Cuban vaccine for meningitis B, and the HPV vaccine. There are concerns about side effects, parental opposition, and the role of religion in vaccine hesitancy. Additionally, experiences of pain and discomfort from vaccinations are expressed, alongside criticisms of the anti-vaccine movement and its consequences on public health.\",\n",
       "        \"refusal\": null,\n",
       "        \"role\": \"assistant\"\n",
       "      }\n",
       "    }\n",
       "  ],\n",
       "  \"created\": 1731864089,\n",
       "  \"id\": \"chatcmpl-AUdFhPFhO7iinEvkpTkFM2cm8dMZn\",\n",
       "  \"model\": \"gpt-4o-mini-2024-07-18\",\n",
       "  \"object\": \"chat.completion\",\n",
       "  \"system_fingerprint\": \"fp_0ba0d124f1\",\n",
       "  \"usage\": {\n",
       "    \"completion_tokens\": 83,\n",
       "    \"completion_tokens_details\": {\n",
       "      \"accepted_prediction_tokens\": 0,\n",
       "      \"audio_tokens\": 0,\n",
       "      \"reasoning_tokens\": 0,\n",
       "      \"rejected_prediction_tokens\": 0\n",
       "    },\n",
       "    \"prompt_tokens\": 16134,\n",
       "    \"prompt_tokens_details\": {\n",
       "      \"audio_tokens\": 0,\n",
       "      \"cached_tokens\": 0\n",
       "    },\n",
       "    \"total_tokens\": 16217\n",
       "  }\n",
       "}"
      ]
     },
     "execution_count": 33,
     "metadata": {},
     "output_type": "execute_result"
    }
   ],
   "source": [
    "response"
   ]
  },
  {
   "cell_type": "markdown",
   "id": "83cfd4fe",
   "metadata": {},
   "source": [
    "## March"
   ]
  },
  {
   "cell_type": "code",
   "execution_count": 34,
   "id": "8aecef5f",
   "metadata": {
    "scrolled": true,
    "tags": []
   },
   "outputs": [
    {
     "name": "stdout",
     "output_type": "stream",
     "text": [
      "<class 'pandas.core.frame.DataFrame'>\n",
      "RangeIndex: 3604 entries, 0 to 3603\n",
      "Data columns (total 53 columns):\n",
      " #   Column                  Non-Null Count  Dtype  \n",
      "---  ------                  --------------  -----  \n",
      " 0   index                   3604 non-null   int64  \n",
      " 1   LocationCode            3604 non-null   object \n",
      " 2   LocationName            3604 non-null   object \n",
      " 3   StatesCode              3604 non-null   object \n",
      " 4   ...4                    3604 non-null   int64  \n",
      " 5   id                      3604 non-null   float64\n",
      " 6   text                    3604 non-null   object \n",
      " 7   label                   3604 non-null   object \n",
      " 8   in_reply_to_status_id   292 non-null    float64\n",
      " 9   in_reply_to_user_id     328 non-null    float64\n",
      " 10  quoted_user_id          0 non-null      float64\n",
      " 11  quoted_status_id        0 non-null      float64\n",
      " 12  retweeted_user_id       516 non-null    float64\n",
      " 13  retweeted_status_id     516 non-null    float64\n",
      " 14  created_at              3604 non-null   object \n",
      " 15  entities.user_mentions  946 non-null    object \n",
      " 16  user.id                 3604 non-null   int64  \n",
      " 17  user.screen_name        3604 non-null   object \n",
      " 18  user.name               3581 non-null   object \n",
      " 19  user.description        3282 non-null   object \n",
      " 20  user.timezone           0 non-null      float64\n",
      " 21  user.location           3481 non-null   object \n",
      " 22  user.num_followers      3604 non-null   int64  \n",
      " 23  user.num_following      3604 non-null   int64  \n",
      " 24  user.created_at         3604 non-null   object \n",
      " 25  user.statuses_count     3604 non-null   int64  \n",
      " 26  user.is_verified        3604 non-null   bool   \n",
      " 27  lang                    3604 non-null   object \n",
      " 28  token_count             3604 non-null   int64  \n",
      " 29  is_retweet              3604 non-null   bool   \n",
      " 30  has_quote               3604 non-null   bool   \n",
      " 31  is_reply                3604 non-null   bool   \n",
      " 32  contains_keywords       3604 non-null   bool   \n",
      " 33  longitude               3604 non-null   float64\n",
      " 34  latitude                3604 non-null   float64\n",
      " 35  country_code            3604 non-null   object \n",
      " 36  geoname_id              3229 non-null   float64\n",
      " 37  location_type           3604 non-null   object \n",
      " 38  geo_type                3604 non-null   int64  \n",
      " 39  region                  3604 non-null   object \n",
      " 40  subregion               3604 non-null   object \n",
      " 41  num_quotes              3604 non-null   int64  \n",
      " 42  num_replies             3604 non-null   int64  \n",
      " 43  num_retweets            3604 non-null   int64  \n",
      " 44  sent_gpt                3604 non-null   object \n",
      " 45  gpt_sent_presence       3604 non-null   int64  \n",
      " 46  cleaned_text_lem        3604 non-null   object \n",
      " 47  cleaned_text            3604 non-null   object \n",
      " 48  month                   3604 non-null   int64  \n",
      " 49  year                    3604 non-null   int64  \n",
      " 50  week                    3604 non-null   int64  \n",
      " 51  year_month              3604 non-null   object \n",
      " 52  year_week               3604 non-null   object \n",
      "dtypes: bool(5), float64(11), int64(15), object(22)\n",
      "memory usage: 1.3+ MB\n"
     ]
    }
   ],
   "source": [
    "# Get monthly data\n",
    "df_2014_03_neg = pd.read_csv('../data/local/df_neg_2014-03.csv').reset_index()\n",
    "df_2014_03_neg.info()"
   ]
  },
  {
   "cell_type": "markdown",
   "id": "9d8793b8",
   "metadata": {},
   "source": [
    "### Representative sample based on week and location"
   ]
  },
  {
   "cell_type": "code",
   "execution_count": 35,
   "id": "849b56c5",
   "metadata": {},
   "outputs": [
    {
     "data": {
      "text/html": [
       "<div>\n",
       "<style scoped>\n",
       "    .dataframe tbody tr th:only-of-type {\n",
       "        vertical-align: middle;\n",
       "    }\n",
       "\n",
       "    .dataframe tbody tr th {\n",
       "        vertical-align: top;\n",
       "    }\n",
       "\n",
       "    .dataframe thead th {\n",
       "        text-align: right;\n",
       "    }\n",
       "</style>\n",
       "<table border=\"1\" class=\"dataframe\">\n",
       "  <thead>\n",
       "    <tr style=\"text-align: right;\">\n",
       "      <th></th>\n",
       "      <th>year_week</th>\n",
       "      <th>LocationName</th>\n",
       "      <th>group_size</th>\n",
       "      <th>proportion</th>\n",
       "    </tr>\n",
       "  </thead>\n",
       "  <tbody>\n",
       "    <tr>\n",
       "      <th>0</th>\n",
       "      <td>2014-w09</td>\n",
       "      <td>Alagoas</td>\n",
       "      <td>1</td>\n",
       "      <td>0.000277</td>\n",
       "    </tr>\n",
       "    <tr>\n",
       "      <th>1</th>\n",
       "      <td>2014-w09</td>\n",
       "      <td>Amazonas</td>\n",
       "      <td>1</td>\n",
       "      <td>0.000277</td>\n",
       "    </tr>\n",
       "    <tr>\n",
       "      <th>2</th>\n",
       "      <td>2014-w09</td>\n",
       "      <td>Ceara</td>\n",
       "      <td>2</td>\n",
       "      <td>0.000555</td>\n",
       "    </tr>\n",
       "    <tr>\n",
       "      <th>3</th>\n",
       "      <td>2014-w09</td>\n",
       "      <td>Distrito Federal</td>\n",
       "      <td>1</td>\n",
       "      <td>0.000277</td>\n",
       "    </tr>\n",
       "    <tr>\n",
       "      <th>4</th>\n",
       "      <td>2014-w09</td>\n",
       "      <td>Espirito Santo</td>\n",
       "      <td>1</td>\n",
       "      <td>0.000277</td>\n",
       "    </tr>\n",
       "    <tr>\n",
       "      <th>...</th>\n",
       "      <td>...</td>\n",
       "      <td>...</td>\n",
       "      <td>...</td>\n",
       "      <td>...</td>\n",
       "    </tr>\n",
       "    <tr>\n",
       "      <th>106</th>\n",
       "      <td>2014-w13</td>\n",
       "      <td>Rio Grande Do Sul</td>\n",
       "      <td>140</td>\n",
       "      <td>0.038846</td>\n",
       "    </tr>\n",
       "    <tr>\n",
       "      <th>107</th>\n",
       "      <td>2014-w13</td>\n",
       "      <td>Roraima</td>\n",
       "      <td>2</td>\n",
       "      <td>0.000555</td>\n",
       "    </tr>\n",
       "    <tr>\n",
       "      <th>108</th>\n",
       "      <td>2014-w13</td>\n",
       "      <td>Santa Catarina</td>\n",
       "      <td>25</td>\n",
       "      <td>0.006937</td>\n",
       "    </tr>\n",
       "    <tr>\n",
       "      <th>109</th>\n",
       "      <td>2014-w13</td>\n",
       "      <td>Sao Paulo</td>\n",
       "      <td>106</td>\n",
       "      <td>0.029412</td>\n",
       "    </tr>\n",
       "    <tr>\n",
       "      <th>110</th>\n",
       "      <td>2014-w13</td>\n",
       "      <td>Sergipe</td>\n",
       "      <td>1</td>\n",
       "      <td>0.000277</td>\n",
       "    </tr>\n",
       "  </tbody>\n",
       "</table>\n",
       "<p>111 rows × 4 columns</p>\n",
       "</div>"
      ],
      "text/plain": [
       "    year_week       LocationName  group_size  proportion\n",
       "0    2014-w09            Alagoas           1    0.000277\n",
       "1    2014-w09           Amazonas           1    0.000277\n",
       "2    2014-w09              Ceara           2    0.000555\n",
       "3    2014-w09   Distrito Federal           1    0.000277\n",
       "4    2014-w09     Espirito Santo           1    0.000277\n",
       "..        ...                ...         ...         ...\n",
       "106  2014-w13  Rio Grande Do Sul         140    0.038846\n",
       "107  2014-w13            Roraima           2    0.000555\n",
       "108  2014-w13     Santa Catarina          25    0.006937\n",
       "109  2014-w13          Sao Paulo         106    0.029412\n",
       "110  2014-w13            Sergipe           1    0.000277\n",
       "\n",
       "[111 rows x 4 columns]"
      ]
     },
     "execution_count": 35,
     "metadata": {},
     "output_type": "execute_result"
    }
   ],
   "source": [
    "# Step 1: Calculate the size of each group (year_week, LocationName)\n",
    "group_sizes = df_2014_03_neg.groupby(['year_week', 'LocationName']).size().reset_index(name='group_size')\n",
    "\n",
    "# Step 2: Calculate the proportion of each group in the dataset\n",
    "total_rows = len(df_2014_03_neg)\n",
    "group_sizes['proportion'] = group_sizes['group_size'] / total_rows\n",
    "group_sizes"
   ]
  },
  {
   "cell_type": "code",
   "execution_count": 36,
   "id": "aef8698d",
   "metadata": {},
   "outputs": [
    {
     "data": {
      "text/html": [
       "<div>\n",
       "<style scoped>\n",
       "    .dataframe tbody tr th:only-of-type {\n",
       "        vertical-align: middle;\n",
       "    }\n",
       "\n",
       "    .dataframe tbody tr th {\n",
       "        vertical-align: top;\n",
       "    }\n",
       "\n",
       "    .dataframe thead th {\n",
       "        text-align: right;\n",
       "    }\n",
       "</style>\n",
       "<table border=\"1\" class=\"dataframe\">\n",
       "  <thead>\n",
       "    <tr style=\"text-align: right;\">\n",
       "      <th></th>\n",
       "      <th>year_week</th>\n",
       "      <th>LocationName</th>\n",
       "      <th>group_size</th>\n",
       "      <th>proportion</th>\n",
       "      <th>sample_size</th>\n",
       "    </tr>\n",
       "  </thead>\n",
       "  <tbody>\n",
       "    <tr>\n",
       "      <th>0</th>\n",
       "      <td>2014-w09</td>\n",
       "      <td>Alagoas</td>\n",
       "      <td>1</td>\n",
       "      <td>0.000277</td>\n",
       "      <td>0</td>\n",
       "    </tr>\n",
       "    <tr>\n",
       "      <th>1</th>\n",
       "      <td>2014-w09</td>\n",
       "      <td>Amazonas</td>\n",
       "      <td>1</td>\n",
       "      <td>0.000277</td>\n",
       "      <td>0</td>\n",
       "    </tr>\n",
       "    <tr>\n",
       "      <th>2</th>\n",
       "      <td>2014-w09</td>\n",
       "      <td>Ceara</td>\n",
       "      <td>2</td>\n",
       "      <td>0.000555</td>\n",
       "      <td>1</td>\n",
       "    </tr>\n",
       "    <tr>\n",
       "      <th>3</th>\n",
       "      <td>2014-w09</td>\n",
       "      <td>Distrito Federal</td>\n",
       "      <td>1</td>\n",
       "      <td>0.000277</td>\n",
       "      <td>0</td>\n",
       "    </tr>\n",
       "    <tr>\n",
       "      <th>4</th>\n",
       "      <td>2014-w09</td>\n",
       "      <td>Espirito Santo</td>\n",
       "      <td>1</td>\n",
       "      <td>0.000277</td>\n",
       "      <td>0</td>\n",
       "    </tr>\n",
       "    <tr>\n",
       "      <th>...</th>\n",
       "      <td>...</td>\n",
       "      <td>...</td>\n",
       "      <td>...</td>\n",
       "      <td>...</td>\n",
       "      <td>...</td>\n",
       "    </tr>\n",
       "    <tr>\n",
       "      <th>106</th>\n",
       "      <td>2014-w13</td>\n",
       "      <td>Rio Grande Do Sul</td>\n",
       "      <td>140</td>\n",
       "      <td>0.038846</td>\n",
       "      <td>95</td>\n",
       "    </tr>\n",
       "    <tr>\n",
       "      <th>107</th>\n",
       "      <td>2014-w13</td>\n",
       "      <td>Roraima</td>\n",
       "      <td>2</td>\n",
       "      <td>0.000555</td>\n",
       "      <td>1</td>\n",
       "    </tr>\n",
       "    <tr>\n",
       "      <th>108</th>\n",
       "      <td>2014-w13</td>\n",
       "      <td>Santa Catarina</td>\n",
       "      <td>25</td>\n",
       "      <td>0.006937</td>\n",
       "      <td>16</td>\n",
       "    </tr>\n",
       "    <tr>\n",
       "      <th>109</th>\n",
       "      <td>2014-w13</td>\n",
       "      <td>Sao Paulo</td>\n",
       "      <td>106</td>\n",
       "      <td>0.029412</td>\n",
       "      <td>72</td>\n",
       "    </tr>\n",
       "    <tr>\n",
       "      <th>110</th>\n",
       "      <td>2014-w13</td>\n",
       "      <td>Sergipe</td>\n",
       "      <td>1</td>\n",
       "      <td>0.000277</td>\n",
       "      <td>0</td>\n",
       "    </tr>\n",
       "  </tbody>\n",
       "</table>\n",
       "<p>111 rows × 5 columns</p>\n",
       "</div>"
      ],
      "text/plain": [
       "    year_week       LocationName  group_size  proportion  sample_size\n",
       "0    2014-w09            Alagoas           1    0.000277            0\n",
       "1    2014-w09           Amazonas           1    0.000277            0\n",
       "2    2014-w09              Ceara           2    0.000555            1\n",
       "3    2014-w09   Distrito Federal           1    0.000277            0\n",
       "4    2014-w09     Espirito Santo           1    0.000277            0\n",
       "..        ...                ...         ...         ...          ...\n",
       "106  2014-w13  Rio Grande Do Sul         140    0.038846           95\n",
       "107  2014-w13            Roraima           2    0.000555            1\n",
       "108  2014-w13     Santa Catarina          25    0.006937           16\n",
       "109  2014-w13          Sao Paulo         106    0.029412           72\n",
       "110  2014-w13            Sergipe           1    0.000277            0\n",
       "\n",
       "[111 rows x 5 columns]"
      ]
     },
     "execution_count": 36,
     "metadata": {},
     "output_type": "execute_result"
    }
   ],
   "source": [
    "# Step 3: Define the target sample size\n",
    "target_sample_size = 2450\n",
    "\n",
    "# Step 4: Calculate the sample size for each group (based on its proportion)\n",
    "group_sizes['sample_size'] = np.floor(group_sizes['proportion'] * target_sample_size).astype(int)\n",
    "group_sizes"
   ]
  },
  {
   "cell_type": "code",
   "execution_count": 37,
   "id": "64497bce",
   "metadata": {},
   "outputs": [],
   "source": [
    "# Step 5: Merge this sample size information back to the original DataFrame\n",
    "df_2014_03_neg_sample_size = pd.merge(df_2014_03_neg, group_sizes[['year_week', 'LocationName', 'sample_size']], \n",
    "                               on=['year_week', 'LocationName'], how='left')"
   ]
  },
  {
   "cell_type": "code",
   "execution_count": 38,
   "id": "b66deaed",
   "metadata": {},
   "outputs": [
    {
     "name": "stdout",
     "output_type": "stream",
     "text": [
      "Sampled 3604 rows.\n"
     ]
    }
   ],
   "source": [
    "# Step 6: Perform the stratified sampling\n",
    "#df_2014_03_neg_sample = df_2014_03_neg_sample_size.groupby(['year_week', 'LocationName']).apply(\n",
    "#    lambda group: group.sample(n=group['sample_size'].iloc[0], random_state=42)\n",
    "#).reset_index(drop=True)\n",
    "df_2014_03_neg_sample = df_2014_03_neg\n",
    "# Step 7: Check the result\n",
    "print(f\"Sampled {len(df_2014_03_neg_sample)} rows.\")\n"
   ]
  },
  {
   "cell_type": "code",
   "execution_count": 39,
   "id": "cacd5bfb",
   "metadata": {},
   "outputs": [],
   "source": [
    "text_gpt_2014_03_neg = '\\n'.join(df_2014_03_neg_sample['text'].astype(str))"
   ]
  },
  {
   "cell_type": "markdown",
   "id": "677054ce",
   "metadata": {},
   "source": [
    "### Prompts and loops"
   ]
  },
  {
   "cell_type": "code",
   "execution_count": 40,
   "id": "3e74eba3",
   "metadata": {},
   "outputs": [],
   "source": [
    "prompt_3 = prompt_raw.replace('TWEETS', text_gpt_2014_03_neg)"
   ]
  },
  {
   "cell_type": "code",
   "execution_count": 41,
   "id": "709224ed",
   "metadata": {
    "scrolled": false
   },
   "outputs": [],
   "source": [
    "response = openai.ChatCompletion.create(\n",
    "    model=\"gpt-4o-mini\",  \n",
    "    messages = [\n",
    "        {\"role\": \"user\", \"content\": prompt_3}\n",
    "    ],\n",
    "    max_tokens=400,  # Maximum number of tokens in the response\n",
    "    temperature=0.7  # Controls the randomness of the output\n",
    ")"
   ]
  },
  {
   "cell_type": "code",
   "execution_count": 42,
   "id": "b8776166",
   "metadata": {},
   "outputs": [
    {
     "data": {
      "text/plain": [
       "'The text discusses the controversy surrounding the HPV vaccination, particularly focusing on evangelical mothers who are reportedly boycotting the vaccine for their daughters, believing it promotes early sexual activity. Many individuals express fears about the pain associated with the vaccine and its potential side effects, with reports of adverse reactions in some cases. The text highlights the tension between public health initiatives and personal beliefs, particularly in religious communities.'"
      ]
     },
     "execution_count": 42,
     "metadata": {},
     "output_type": "execute_result"
    }
   ],
   "source": [
    "response.choices[0].message.content"
   ]
  },
  {
   "cell_type": "code",
   "execution_count": 43,
   "id": "f03966cf",
   "metadata": {},
   "outputs": [],
   "source": [
    "#summary = []\n",
    "#dataset = []"
   ]
  },
  {
   "cell_type": "code",
   "execution_count": 44,
   "id": "bde868f6",
   "metadata": {},
   "outputs": [],
   "source": [
    "dataset.append(\"2014_03_negative\")"
   ]
  },
  {
   "cell_type": "code",
   "execution_count": 45,
   "id": "7a940cb2",
   "metadata": {},
   "outputs": [],
   "source": [
    "summary.append(response.choices[0].message.content)"
   ]
  },
  {
   "cell_type": "code",
   "execution_count": 46,
   "id": "fdf1b907",
   "metadata": {
    "tags": []
   },
   "outputs": [
    {
     "name": "stdout",
     "output_type": "stream",
     "text": [
      "<class 'pandas.core.frame.DataFrame'>\n",
      "RangeIndex: 3 entries, 0 to 2\n",
      "Data columns (total 2 columns):\n",
      " #   Column   Non-Null Count  Dtype \n",
      "---  ------   --------------  ----- \n",
      " 0   dataset  3 non-null      object\n",
      " 1   summary  3 non-null      object\n",
      "dtypes: object(2)\n",
      "memory usage: 176.0+ bytes\n"
     ]
    }
   ],
   "source": [
    "df_2014_neg = pd.DataFrame(list(zip(dataset, summary)),\n",
    "                            columns = ['dataset', 'summary'])\n",
    "df_2014_neg.info()"
   ]
  },
  {
   "cell_type": "code",
   "execution_count": 47,
   "id": "b44227e1",
   "metadata": {},
   "outputs": [
    {
     "data": {
      "text/html": [
       "<div>\n",
       "<style scoped>\n",
       "    .dataframe tbody tr th:only-of-type {\n",
       "        vertical-align: middle;\n",
       "    }\n",
       "\n",
       "    .dataframe tbody tr th {\n",
       "        vertical-align: top;\n",
       "    }\n",
       "\n",
       "    .dataframe thead th {\n",
       "        text-align: right;\n",
       "    }\n",
       "</style>\n",
       "<table border=\"1\" class=\"dataframe\">\n",
       "  <thead>\n",
       "    <tr style=\"text-align: right;\">\n",
       "      <th></th>\n",
       "      <th>dataset</th>\n",
       "      <th>summary</th>\n",
       "    </tr>\n",
       "  </thead>\n",
       "  <tbody>\n",
       "    <tr>\n",
       "      <th>0</th>\n",
       "      <td>2014_01_negitive</td>\n",
       "      <td>The sentences express various opinions and exp...</td>\n",
       "    </tr>\n",
       "    <tr>\n",
       "      <th>1</th>\n",
       "      <td>2014_02_negitive</td>\n",
       "      <td>The text discusses various opinions and experi...</td>\n",
       "    </tr>\n",
       "    <tr>\n",
       "      <th>2</th>\n",
       "      <td>2014_03_negitive</td>\n",
       "      <td>The text discusses the controversy surrounding...</td>\n",
       "    </tr>\n",
       "  </tbody>\n",
       "</table>\n",
       "</div>"
      ],
      "text/plain": [
       "            dataset                                            summary\n",
       "0  2014_01_negitive  The sentences express various opinions and exp...\n",
       "1  2014_02_negitive  The text discusses various opinions and experi...\n",
       "2  2014_03_negitive  The text discusses the controversy surrounding..."
      ]
     },
     "execution_count": 47,
     "metadata": {},
     "output_type": "execute_result"
    }
   ],
   "source": [
    "df_2014_neg.tail(14)"
   ]
  },
  {
   "cell_type": "code",
   "execution_count": 48,
   "id": "8528ad17",
   "metadata": {},
   "outputs": [
    {
     "data": {
      "text/plain": [
       "<OpenAIObject chat.completion id=chatcmpl-AUdFlp9inoSd5T522W32RTx5Y4eRr at 0x26c2ba92ae0> JSON: {\n",
       "  \"choices\": [\n",
       "    {\n",
       "      \"finish_reason\": \"stop\",\n",
       "      \"index\": 0,\n",
       "      \"logprobs\": null,\n",
       "      \"message\": {\n",
       "        \"content\": \"The text discusses the controversy surrounding the HPV vaccination, particularly focusing on evangelical mothers who are reportedly boycotting the vaccine for their daughters, believing it promotes early sexual activity. Many individuals express fears about the pain associated with the vaccine and its potential side effects, with reports of adverse reactions in some cases. The text highlights the tension between public health initiatives and personal beliefs, particularly in religious communities.\",\n",
       "        \"refusal\": null,\n",
       "        \"role\": \"assistant\"\n",
       "      }\n",
       "    }\n",
       "  ],\n",
       "  \"created\": 1731864093,\n",
       "  \"id\": \"chatcmpl-AUdFlp9inoSd5T522W32RTx5Y4eRr\",\n",
       "  \"model\": \"gpt-4o-mini-2024-07-18\",\n",
       "  \"object\": \"chat.completion\",\n",
       "  \"system_fingerprint\": \"fp_0ba0d124f1\",\n",
       "  \"usage\": {\n",
       "    \"completion_tokens\": 78,\n",
       "    \"completion_tokens_details\": {\n",
       "      \"accepted_prediction_tokens\": 0,\n",
       "      \"audio_tokens\": 0,\n",
       "      \"reasoning_tokens\": 0,\n",
       "      \"rejected_prediction_tokens\": 0\n",
       "    },\n",
       "    \"prompt_tokens\": 73545,\n",
       "    \"prompt_tokens_details\": {\n",
       "      \"audio_tokens\": 0,\n",
       "      \"cached_tokens\": 0\n",
       "    },\n",
       "    \"total_tokens\": 73623\n",
       "  }\n",
       "}"
      ]
     },
     "execution_count": 48,
     "metadata": {},
     "output_type": "execute_result"
    }
   ],
   "source": [
    "response"
   ]
  },
  {
   "cell_type": "markdown",
   "id": "a57159e2",
   "metadata": {},
   "source": [
    "## April"
   ]
  },
  {
   "cell_type": "code",
   "execution_count": 49,
   "id": "b84f949f",
   "metadata": {
    "scrolled": true,
    "tags": []
   },
   "outputs": [
    {
     "name": "stdout",
     "output_type": "stream",
     "text": [
      "<class 'pandas.core.frame.DataFrame'>\n",
      "RangeIndex: 1545 entries, 0 to 1544\n",
      "Data columns (total 53 columns):\n",
      " #   Column                  Non-Null Count  Dtype  \n",
      "---  ------                  --------------  -----  \n",
      " 0   index                   1545 non-null   int64  \n",
      " 1   LocationCode            1545 non-null   object \n",
      " 2   LocationName            1545 non-null   object \n",
      " 3   StatesCode              1545 non-null   object \n",
      " 4   ...4                    1545 non-null   int64  \n",
      " 5   id                      1545 non-null   float64\n",
      " 6   text                    1545 non-null   object \n",
      " 7   label                   1545 non-null   object \n",
      " 8   in_reply_to_status_id   106 non-null    float64\n",
      " 9   in_reply_to_user_id     118 non-null    float64\n",
      " 10  quoted_user_id          0 non-null      float64\n",
      " 11  quoted_status_id        0 non-null      float64\n",
      " 12  retweeted_user_id       137 non-null    float64\n",
      " 13  retweeted_status_id     137 non-null    float64\n",
      " 14  created_at              1545 non-null   object \n",
      " 15  entities.user_mentions  299 non-null    object \n",
      " 16  user.id                 1545 non-null   int64  \n",
      " 17  user.screen_name        1545 non-null   object \n",
      " 18  user.name               1542 non-null   object \n",
      " 19  user.description        1351 non-null   object \n",
      " 20  user.timezone           0 non-null      float64\n",
      " 21  user.location           1507 non-null   object \n",
      " 22  user.num_followers      1545 non-null   int64  \n",
      " 23  user.num_following      1545 non-null   int64  \n",
      " 24  user.created_at         1545 non-null   object \n",
      " 25  user.statuses_count     1545 non-null   int64  \n",
      " 26  user.is_verified        1545 non-null   bool   \n",
      " 27  lang                    1545 non-null   object \n",
      " 28  token_count             1545 non-null   int64  \n",
      " 29  is_retweet              1545 non-null   bool   \n",
      " 30  has_quote               1545 non-null   bool   \n",
      " 31  is_reply                1545 non-null   bool   \n",
      " 32  contains_keywords       1545 non-null   bool   \n",
      " 33  longitude               1545 non-null   float64\n",
      " 34  latitude                1545 non-null   float64\n",
      " 35  country_code            1545 non-null   object \n",
      " 36  geoname_id              1429 non-null   float64\n",
      " 37  location_type           1545 non-null   object \n",
      " 38  geo_type                1545 non-null   int64  \n",
      " 39  region                  1545 non-null   object \n",
      " 40  subregion               1545 non-null   object \n",
      " 41  num_quotes              1545 non-null   int64  \n",
      " 42  num_replies             1545 non-null   int64  \n",
      " 43  num_retweets            1545 non-null   int64  \n",
      " 44  sent_gpt                1545 non-null   object \n",
      " 45  gpt_sent_presence       1545 non-null   int64  \n",
      " 46  cleaned_text_lem        1545 non-null   object \n",
      " 47  cleaned_text            1545 non-null   object \n",
      " 48  month                   1545 non-null   int64  \n",
      " 49  year                    1545 non-null   int64  \n",
      " 50  week                    1545 non-null   int64  \n",
      " 51  year_month              1545 non-null   object \n",
      " 52  year_week               1545 non-null   object \n",
      "dtypes: bool(5), float64(11), int64(15), object(22)\n",
      "memory usage: 587.0+ KB\n"
     ]
    }
   ],
   "source": [
    "# Get monthly data\n",
    "df_2014_04_neg = pd.read_csv('../data/local/df_neg_2014-04.csv').reset_index()\n",
    "df_2014_04_neg.info()"
   ]
  },
  {
   "cell_type": "markdown",
   "id": "66b76111",
   "metadata": {},
   "source": [
    "### Representative sample based on week and location"
   ]
  },
  {
   "cell_type": "code",
   "execution_count": 50,
   "id": "e2923a82",
   "metadata": {},
   "outputs": [
    {
     "data": {
      "text/html": [
       "<div>\n",
       "<style scoped>\n",
       "    .dataframe tbody tr th:only-of-type {\n",
       "        vertical-align: middle;\n",
       "    }\n",
       "\n",
       "    .dataframe tbody tr th {\n",
       "        vertical-align: top;\n",
       "    }\n",
       "\n",
       "    .dataframe thead th {\n",
       "        text-align: right;\n",
       "    }\n",
       "</style>\n",
       "<table border=\"1\" class=\"dataframe\">\n",
       "  <thead>\n",
       "    <tr style=\"text-align: right;\">\n",
       "      <th></th>\n",
       "      <th>year_week</th>\n",
       "      <th>LocationName</th>\n",
       "      <th>group_size</th>\n",
       "      <th>proportion</th>\n",
       "    </tr>\n",
       "  </thead>\n",
       "  <tbody>\n",
       "    <tr>\n",
       "      <th>0</th>\n",
       "      <td>2014-w13</td>\n",
       "      <td>Acre</td>\n",
       "      <td>1</td>\n",
       "      <td>0.000647</td>\n",
       "    </tr>\n",
       "    <tr>\n",
       "      <th>1</th>\n",
       "      <td>2014-w13</td>\n",
       "      <td>Amapa</td>\n",
       "      <td>1</td>\n",
       "      <td>0.000647</td>\n",
       "    </tr>\n",
       "    <tr>\n",
       "      <th>2</th>\n",
       "      <td>2014-w13</td>\n",
       "      <td>Bahia</td>\n",
       "      <td>5</td>\n",
       "      <td>0.003236</td>\n",
       "    </tr>\n",
       "    <tr>\n",
       "      <th>3</th>\n",
       "      <td>2014-w13</td>\n",
       "      <td>Ceara</td>\n",
       "      <td>2</td>\n",
       "      <td>0.001294</td>\n",
       "    </tr>\n",
       "    <tr>\n",
       "      <th>4</th>\n",
       "      <td>2014-w13</td>\n",
       "      <td>Distrito Federal</td>\n",
       "      <td>1</td>\n",
       "      <td>0.000647</td>\n",
       "    </tr>\n",
       "    <tr>\n",
       "      <th>...</th>\n",
       "      <td>...</td>\n",
       "      <td>...</td>\n",
       "      <td>...</td>\n",
       "      <td>...</td>\n",
       "    </tr>\n",
       "    <tr>\n",
       "      <th>106</th>\n",
       "      <td>2014-w18</td>\n",
       "      <td>Pernambuco</td>\n",
       "      <td>2</td>\n",
       "      <td>0.001294</td>\n",
       "    </tr>\n",
       "    <tr>\n",
       "      <th>107</th>\n",
       "      <td>2014-w18</td>\n",
       "      <td>Rio Grande Do Sul</td>\n",
       "      <td>17</td>\n",
       "      <td>0.011003</td>\n",
       "    </tr>\n",
       "    <tr>\n",
       "      <th>108</th>\n",
       "      <td>2014-w18</td>\n",
       "      <td>Santa Catarina</td>\n",
       "      <td>4</td>\n",
       "      <td>0.002589</td>\n",
       "    </tr>\n",
       "    <tr>\n",
       "      <th>109</th>\n",
       "      <td>2014-w18</td>\n",
       "      <td>Sao Paulo</td>\n",
       "      <td>14</td>\n",
       "      <td>0.009061</td>\n",
       "    </tr>\n",
       "    <tr>\n",
       "      <th>110</th>\n",
       "      <td>2014-w18</td>\n",
       "      <td>Sergipe</td>\n",
       "      <td>1</td>\n",
       "      <td>0.000647</td>\n",
       "    </tr>\n",
       "  </tbody>\n",
       "</table>\n",
       "<p>111 rows × 4 columns</p>\n",
       "</div>"
      ],
      "text/plain": [
       "    year_week       LocationName  group_size  proportion\n",
       "0    2014-w13               Acre           1    0.000647\n",
       "1    2014-w13              Amapa           1    0.000647\n",
       "2    2014-w13              Bahia           5    0.003236\n",
       "3    2014-w13              Ceara           2    0.001294\n",
       "4    2014-w13   Distrito Federal           1    0.000647\n",
       "..        ...                ...         ...         ...\n",
       "106  2014-w18         Pernambuco           2    0.001294\n",
       "107  2014-w18  Rio Grande Do Sul          17    0.011003\n",
       "108  2014-w18     Santa Catarina           4    0.002589\n",
       "109  2014-w18          Sao Paulo          14    0.009061\n",
       "110  2014-w18            Sergipe           1    0.000647\n",
       "\n",
       "[111 rows x 4 columns]"
      ]
     },
     "execution_count": 50,
     "metadata": {},
     "output_type": "execute_result"
    }
   ],
   "source": [
    "# Step 1: Calculate the size of each group (year_week, LocationName)\n",
    "group_sizes = df_2014_04_neg.groupby(['year_week', 'LocationName']).size().reset_index(name='group_size')\n",
    "\n",
    "# Step 2: Calculate the proportion of each group in the dataset\n",
    "total_rows = len(df_2014_04_neg)\n",
    "group_sizes['proportion'] = group_sizes['group_size'] / total_rows\n",
    "group_sizes"
   ]
  },
  {
   "cell_type": "code",
   "execution_count": 51,
   "id": "5e52798c",
   "metadata": {},
   "outputs": [
    {
     "data": {
      "text/html": [
       "<div>\n",
       "<style scoped>\n",
       "    .dataframe tbody tr th:only-of-type {\n",
       "        vertical-align: middle;\n",
       "    }\n",
       "\n",
       "    .dataframe tbody tr th {\n",
       "        vertical-align: top;\n",
       "    }\n",
       "\n",
       "    .dataframe thead th {\n",
       "        text-align: right;\n",
       "    }\n",
       "</style>\n",
       "<table border=\"1\" class=\"dataframe\">\n",
       "  <thead>\n",
       "    <tr style=\"text-align: right;\">\n",
       "      <th></th>\n",
       "      <th>year_week</th>\n",
       "      <th>LocationName</th>\n",
       "      <th>group_size</th>\n",
       "      <th>proportion</th>\n",
       "      <th>sample_size</th>\n",
       "    </tr>\n",
       "  </thead>\n",
       "  <tbody>\n",
       "    <tr>\n",
       "      <th>0</th>\n",
       "      <td>2014-w13</td>\n",
       "      <td>Acre</td>\n",
       "      <td>1</td>\n",
       "      <td>0.000647</td>\n",
       "      <td>1</td>\n",
       "    </tr>\n",
       "    <tr>\n",
       "      <th>1</th>\n",
       "      <td>2014-w13</td>\n",
       "      <td>Amapa</td>\n",
       "      <td>1</td>\n",
       "      <td>0.000647</td>\n",
       "      <td>1</td>\n",
       "    </tr>\n",
       "    <tr>\n",
       "      <th>2</th>\n",
       "      <td>2014-w13</td>\n",
       "      <td>Bahia</td>\n",
       "      <td>5</td>\n",
       "      <td>0.003236</td>\n",
       "      <td>7</td>\n",
       "    </tr>\n",
       "    <tr>\n",
       "      <th>3</th>\n",
       "      <td>2014-w13</td>\n",
       "      <td>Ceara</td>\n",
       "      <td>2</td>\n",
       "      <td>0.001294</td>\n",
       "      <td>3</td>\n",
       "    </tr>\n",
       "    <tr>\n",
       "      <th>4</th>\n",
       "      <td>2014-w13</td>\n",
       "      <td>Distrito Federal</td>\n",
       "      <td>1</td>\n",
       "      <td>0.000647</td>\n",
       "      <td>1</td>\n",
       "    </tr>\n",
       "    <tr>\n",
       "      <th>...</th>\n",
       "      <td>...</td>\n",
       "      <td>...</td>\n",
       "      <td>...</td>\n",
       "      <td>...</td>\n",
       "      <td>...</td>\n",
       "    </tr>\n",
       "    <tr>\n",
       "      <th>106</th>\n",
       "      <td>2014-w18</td>\n",
       "      <td>Pernambuco</td>\n",
       "      <td>2</td>\n",
       "      <td>0.001294</td>\n",
       "      <td>3</td>\n",
       "    </tr>\n",
       "    <tr>\n",
       "      <th>107</th>\n",
       "      <td>2014-w18</td>\n",
       "      <td>Rio Grande Do Sul</td>\n",
       "      <td>17</td>\n",
       "      <td>0.011003</td>\n",
       "      <td>26</td>\n",
       "    </tr>\n",
       "    <tr>\n",
       "      <th>108</th>\n",
       "      <td>2014-w18</td>\n",
       "      <td>Santa Catarina</td>\n",
       "      <td>4</td>\n",
       "      <td>0.002589</td>\n",
       "      <td>6</td>\n",
       "    </tr>\n",
       "    <tr>\n",
       "      <th>109</th>\n",
       "      <td>2014-w18</td>\n",
       "      <td>Sao Paulo</td>\n",
       "      <td>14</td>\n",
       "      <td>0.009061</td>\n",
       "      <td>22</td>\n",
       "    </tr>\n",
       "    <tr>\n",
       "      <th>110</th>\n",
       "      <td>2014-w18</td>\n",
       "      <td>Sergipe</td>\n",
       "      <td>1</td>\n",
       "      <td>0.000647</td>\n",
       "      <td>1</td>\n",
       "    </tr>\n",
       "  </tbody>\n",
       "</table>\n",
       "<p>111 rows × 5 columns</p>\n",
       "</div>"
      ],
      "text/plain": [
       "    year_week       LocationName  group_size  proportion  sample_size\n",
       "0    2014-w13               Acre           1    0.000647            1\n",
       "1    2014-w13              Amapa           1    0.000647            1\n",
       "2    2014-w13              Bahia           5    0.003236            7\n",
       "3    2014-w13              Ceara           2    0.001294            3\n",
       "4    2014-w13   Distrito Federal           1    0.000647            1\n",
       "..        ...                ...         ...         ...          ...\n",
       "106  2014-w18         Pernambuco           2    0.001294            3\n",
       "107  2014-w18  Rio Grande Do Sul          17    0.011003           26\n",
       "108  2014-w18     Santa Catarina           4    0.002589            6\n",
       "109  2014-w18          Sao Paulo          14    0.009061           22\n",
       "110  2014-w18            Sergipe           1    0.000647            1\n",
       "\n",
       "[111 rows x 5 columns]"
      ]
     },
     "execution_count": 51,
     "metadata": {},
     "output_type": "execute_result"
    }
   ],
   "source": [
    "# Step 3: Define the target sample size\n",
    "target_sample_size = 2450\n",
    "\n",
    "# Step 4: Calculate the sample size for each group (based on its proportion)\n",
    "group_sizes['sample_size'] = np.floor(group_sizes['proportion'] * target_sample_size).astype(int)\n",
    "group_sizes"
   ]
  },
  {
   "cell_type": "code",
   "execution_count": 52,
   "id": "c66b1eeb",
   "metadata": {},
   "outputs": [],
   "source": [
    "# Step 5: Merge this sample size information back to the original DataFrame\n",
    "df_2014_04_neg_sample_size = pd.merge(df_2014_04_neg, group_sizes[['year_week', 'LocationName', 'sample_size']], \n",
    "                               on=['year_week', 'LocationName'], how='left')"
   ]
  },
  {
   "cell_type": "code",
   "execution_count": 53,
   "id": "53f14ba0",
   "metadata": {},
   "outputs": [
    {
     "name": "stdout",
     "output_type": "stream",
     "text": [
      "Sampled 1545 rows.\n"
     ]
    }
   ],
   "source": [
    "# Step 6: Perform the stratified sampling\n",
    "#df_2014_04_neg_sample = df_2014_04_neg_sample_size.groupby(['year_week', 'LocationName']).apply(\n",
    " #   lambda group: group.sample(n=group['sample_size'].iloc[0], random_state=42)\n",
    "#).reset_index(drop=True)\n",
    "df_2014_04_neg_sample = df_2014_04_neg\n",
    "# Step 7: Check the result\n",
    "print(f\"Sampled {len(df_2014_04_neg_sample)} rows.\")\n"
   ]
  },
  {
   "cell_type": "code",
   "execution_count": 54,
   "id": "480bf650",
   "metadata": {},
   "outputs": [],
   "source": [
    "text_gpt_2014_04_neg = '\\n'.join(df_2014_04_neg_sample['text'].astype(str))"
   ]
  },
  {
   "cell_type": "markdown",
   "id": "08689181",
   "metadata": {},
   "source": [
    "### Prompts and loops"
   ]
  },
  {
   "cell_type": "code",
   "execution_count": 55,
   "id": "3d2f9387",
   "metadata": {},
   "outputs": [],
   "source": [
    "prompt_4 = prompt_raw.replace('TWEETS', text_gpt_2014_04_neg)"
   ]
  },
  {
   "cell_type": "code",
   "execution_count": 56,
   "id": "6bf06ef1",
   "metadata": {
    "scrolled": false
   },
   "outputs": [],
   "source": [
    "response = openai.ChatCompletion.create(\n",
    "    model=\"gpt-4o-mini\",  \n",
    "    messages = [\n",
    "        {\"role\": \"user\", \"content\": prompt_4}\n",
    "    ],\n",
    "    max_tokens=400,  # Maximum number of tokens in the response\n",
    "    temperature=0.7  # Controls the randomness of the output\n",
    ")"
   ]
  },
  {
   "cell_type": "code",
   "execution_count": 57,
   "id": "2c572149",
   "metadata": {},
   "outputs": [
    {
     "data": {
      "text/plain": [
       "\"The sentences discuss various sentiments about vaccinations, particularly focusing on the pain and discomfort experienced after receiving them, the fear and avoidance some people feel towards vaccinations, and the ongoing campaigns for vaccines like HPV and flu shots. Many express annoyance at having to take these vaccines, while others mention complications or adverse reactions following vaccination. There's also mention of issues like vaccine shortages and controversies surrounding the necessity of certain vaccines. Overall, there's a mix of frustration, pain, and societal discussion regarding vaccinations.\""
      ]
     },
     "execution_count": 57,
     "metadata": {},
     "output_type": "execute_result"
    }
   ],
   "source": [
    "response.choices[0].message.content"
   ]
  },
  {
   "cell_type": "code",
   "execution_count": 58,
   "id": "e3b9c3a6",
   "metadata": {},
   "outputs": [],
   "source": [
    "#summary = []\n",
    "#dataset = []"
   ]
  },
  {
   "cell_type": "code",
   "execution_count": 59,
   "id": "87ae0b14",
   "metadata": {},
   "outputs": [],
   "source": [
    "dataset.append(\"2014_04_negative\")"
   ]
  },
  {
   "cell_type": "code",
   "execution_count": 60,
   "id": "265b4d20",
   "metadata": {},
   "outputs": [],
   "source": [
    "summary.append(response.choices[0].message.content)"
   ]
  },
  {
   "cell_type": "code",
   "execution_count": 61,
   "id": "b2c62be9",
   "metadata": {
    "tags": []
   },
   "outputs": [
    {
     "name": "stdout",
     "output_type": "stream",
     "text": [
      "<class 'pandas.core.frame.DataFrame'>\n",
      "RangeIndex: 4 entries, 0 to 3\n",
      "Data columns (total 2 columns):\n",
      " #   Column   Non-Null Count  Dtype \n",
      "---  ------   --------------  ----- \n",
      " 0   dataset  4 non-null      object\n",
      " 1   summary  4 non-null      object\n",
      "dtypes: object(2)\n",
      "memory usage: 192.0+ bytes\n"
     ]
    }
   ],
   "source": [
    "df_2014_neg = pd.DataFrame(list(zip(dataset, summary)),\n",
    "                            columns = ['dataset', 'summary'])\n",
    "df_2014_neg.info()"
   ]
  },
  {
   "cell_type": "code",
   "execution_count": 62,
   "id": "53fcd76e",
   "metadata": {},
   "outputs": [
    {
     "data": {
      "text/html": [
       "<div>\n",
       "<style scoped>\n",
       "    .dataframe tbody tr th:only-of-type {\n",
       "        vertical-align: middle;\n",
       "    }\n",
       "\n",
       "    .dataframe tbody tr th {\n",
       "        vertical-align: top;\n",
       "    }\n",
       "\n",
       "    .dataframe thead th {\n",
       "        text-align: right;\n",
       "    }\n",
       "</style>\n",
       "<table border=\"1\" class=\"dataframe\">\n",
       "  <thead>\n",
       "    <tr style=\"text-align: right;\">\n",
       "      <th></th>\n",
       "      <th>dataset</th>\n",
       "      <th>summary</th>\n",
       "    </tr>\n",
       "  </thead>\n",
       "  <tbody>\n",
       "    <tr>\n",
       "      <th>0</th>\n",
       "      <td>2014_01_negitive</td>\n",
       "      <td>The sentences express various opinions and exp...</td>\n",
       "    </tr>\n",
       "    <tr>\n",
       "      <th>1</th>\n",
       "      <td>2014_02_negitive</td>\n",
       "      <td>The text discusses various opinions and experi...</td>\n",
       "    </tr>\n",
       "    <tr>\n",
       "      <th>2</th>\n",
       "      <td>2014_03_negitive</td>\n",
       "      <td>The text discusses the controversy surrounding...</td>\n",
       "    </tr>\n",
       "    <tr>\n",
       "      <th>3</th>\n",
       "      <td>2014_04_negitive</td>\n",
       "      <td>The sentences discuss various sentiments about...</td>\n",
       "    </tr>\n",
       "  </tbody>\n",
       "</table>\n",
       "</div>"
      ],
      "text/plain": [
       "            dataset                                            summary\n",
       "0  2014_01_negitive  The sentences express various opinions and exp...\n",
       "1  2014_02_negitive  The text discusses various opinions and experi...\n",
       "2  2014_03_negitive  The text discusses the controversy surrounding...\n",
       "3  2014_04_negitive  The sentences discuss various sentiments about..."
      ]
     },
     "execution_count": 62,
     "metadata": {},
     "output_type": "execute_result"
    }
   ],
   "source": [
    "df_2014_neg.tail(14)"
   ]
  },
  {
   "cell_type": "code",
   "execution_count": 63,
   "id": "9bc8461d",
   "metadata": {},
   "outputs": [
    {
     "data": {
      "text/plain": [
       "<OpenAIObject chat.completion id=chatcmpl-AUdFvM3ntagoJSbN1p85s4yX68FOA at 0x26c2bbf4810> JSON: {\n",
       "  \"choices\": [\n",
       "    {\n",
       "      \"finish_reason\": \"stop\",\n",
       "      \"index\": 0,\n",
       "      \"logprobs\": null,\n",
       "      \"message\": {\n",
       "        \"content\": \"The sentences discuss various sentiments about vaccinations, particularly focusing on the pain and discomfort experienced after receiving them, the fear and avoidance some people feel towards vaccinations, and the ongoing campaigns for vaccines like HPV and flu shots. Many express annoyance at having to take these vaccines, while others mention complications or adverse reactions following vaccination. There's also mention of issues like vaccine shortages and controversies surrounding the necessity of certain vaccines. Overall, there's a mix of frustration, pain, and societal discussion regarding vaccinations.\",\n",
       "        \"refusal\": null,\n",
       "        \"role\": \"assistant\"\n",
       "      }\n",
       "    }\n",
       "  ],\n",
       "  \"created\": 1731864103,\n",
       "  \"id\": \"chatcmpl-AUdFvM3ntagoJSbN1p85s4yX68FOA\",\n",
       "  \"model\": \"gpt-4o-mini-2024-07-18\",\n",
       "  \"object\": \"chat.completion\",\n",
       "  \"system_fingerprint\": \"fp_0ba0d124f1\",\n",
       "  \"usage\": {\n",
       "    \"completion_tokens\": 95,\n",
       "    \"completion_tokens_details\": {\n",
       "      \"accepted_prediction_tokens\": 0,\n",
       "      \"audio_tokens\": 0,\n",
       "      \"reasoning_tokens\": 0,\n",
       "      \"rejected_prediction_tokens\": 0\n",
       "    },\n",
       "    \"prompt_tokens\": 31961,\n",
       "    \"prompt_tokens_details\": {\n",
       "      \"audio_tokens\": 0,\n",
       "      \"cached_tokens\": 0\n",
       "    },\n",
       "    \"total_tokens\": 32056\n",
       "  }\n",
       "}"
      ]
     },
     "execution_count": 63,
     "metadata": {},
     "output_type": "execute_result"
    }
   ],
   "source": [
    "response"
   ]
  },
  {
   "cell_type": "markdown",
   "id": "e492f6d4",
   "metadata": {},
   "source": [
    "## May"
   ]
  },
  {
   "cell_type": "code",
   "execution_count": 64,
   "id": "f38b435e",
   "metadata": {
    "scrolled": true,
    "tags": []
   },
   "outputs": [
    {
     "name": "stdout",
     "output_type": "stream",
     "text": [
      "<class 'pandas.core.frame.DataFrame'>\n",
      "RangeIndex: 2017 entries, 0 to 2016\n",
      "Data columns (total 53 columns):\n",
      " #   Column                  Non-Null Count  Dtype  \n",
      "---  ------                  --------------  -----  \n",
      " 0   index                   2017 non-null   int64  \n",
      " 1   LocationCode            2017 non-null   object \n",
      " 2   LocationName            2017 non-null   object \n",
      " 3   StatesCode              2017 non-null   object \n",
      " 4   ...4                    2017 non-null   int64  \n",
      " 5   id                      2017 non-null   float64\n",
      " 6   text                    2017 non-null   object \n",
      " 7   label                   2017 non-null   object \n",
      " 8   in_reply_to_status_id   122 non-null    float64\n",
      " 9   in_reply_to_user_id     137 non-null    float64\n",
      " 10  quoted_user_id          0 non-null      float64\n",
      " 11  quoted_status_id        0 non-null      float64\n",
      " 12  retweeted_user_id       179 non-null    float64\n",
      " 13  retweeted_status_id     179 non-null    float64\n",
      " 14  created_at              2017 non-null   object \n",
      " 15  entities.user_mentions  446 non-null    object \n",
      " 16  user.id                 2017 non-null   int64  \n",
      " 17  user.screen_name        2017 non-null   object \n",
      " 18  user.name               2012 non-null   object \n",
      " 19  user.description        1794 non-null   object \n",
      " 20  user.timezone           0 non-null      float64\n",
      " 21  user.location           1989 non-null   object \n",
      " 22  user.num_followers      2017 non-null   int64  \n",
      " 23  user.num_following      2017 non-null   int64  \n",
      " 24  user.created_at         2017 non-null   object \n",
      " 25  user.statuses_count     2017 non-null   int64  \n",
      " 26  user.is_verified        2017 non-null   bool   \n",
      " 27  lang                    2017 non-null   object \n",
      " 28  token_count             2017 non-null   int64  \n",
      " 29  is_retweet              2017 non-null   bool   \n",
      " 30  has_quote               2017 non-null   bool   \n",
      " 31  is_reply                2017 non-null   bool   \n",
      " 32  contains_keywords       2017 non-null   bool   \n",
      " 33  longitude               2017 non-null   float64\n",
      " 34  latitude                2017 non-null   float64\n",
      " 35  country_code            2017 non-null   object \n",
      " 36  geoname_id              1907 non-null   float64\n",
      " 37  location_type           2017 non-null   object \n",
      " 38  geo_type                2017 non-null   int64  \n",
      " 39  region                  2017 non-null   object \n",
      " 40  subregion               2017 non-null   object \n",
      " 41  num_quotes              2017 non-null   int64  \n",
      " 42  num_replies             2017 non-null   int64  \n",
      " 43  num_retweets            2017 non-null   int64  \n",
      " 44  sent_gpt                2017 non-null   object \n",
      " 45  gpt_sent_presence       2017 non-null   int64  \n",
      " 46  cleaned_text_lem        2017 non-null   object \n",
      " 47  cleaned_text            2017 non-null   object \n",
      " 48  month                   2017 non-null   int64  \n",
      " 49  year                    2017 non-null   int64  \n",
      " 50  week                    2017 non-null   int64  \n",
      " 51  year_month              2017 non-null   object \n",
      " 52  year_week               2017 non-null   object \n",
      "dtypes: bool(5), float64(11), int64(15), object(22)\n",
      "memory usage: 766.3+ KB\n"
     ]
    }
   ],
   "source": [
    "# Get monthly data\n",
    "df_2014_05_neg = pd.read_csv('../data/local/df_neg_2014-05.csv').reset_index()\n",
    "df_2014_05_neg.info()"
   ]
  },
  {
   "cell_type": "markdown",
   "id": "67e6748f",
   "metadata": {},
   "source": [
    "### Representative sample based on week and location"
   ]
  },
  {
   "cell_type": "code",
   "execution_count": 65,
   "id": "744659bb",
   "metadata": {},
   "outputs": [
    {
     "data": {
      "text/html": [
       "<div>\n",
       "<style scoped>\n",
       "    .dataframe tbody tr th:only-of-type {\n",
       "        vertical-align: middle;\n",
       "    }\n",
       "\n",
       "    .dataframe tbody tr th {\n",
       "        vertical-align: top;\n",
       "    }\n",
       "\n",
       "    .dataframe thead th {\n",
       "        text-align: right;\n",
       "    }\n",
       "</style>\n",
       "<table border=\"1\" class=\"dataframe\">\n",
       "  <thead>\n",
       "    <tr style=\"text-align: right;\">\n",
       "      <th></th>\n",
       "      <th>year_week</th>\n",
       "      <th>LocationName</th>\n",
       "      <th>group_size</th>\n",
       "      <th>proportion</th>\n",
       "    </tr>\n",
       "  </thead>\n",
       "  <tbody>\n",
       "    <tr>\n",
       "      <th>0</th>\n",
       "      <td>2014-w18</td>\n",
       "      <td>Acre</td>\n",
       "      <td>1</td>\n",
       "      <td>0.000496</td>\n",
       "    </tr>\n",
       "    <tr>\n",
       "      <th>1</th>\n",
       "      <td>2014-w18</td>\n",
       "      <td>Alagoas</td>\n",
       "      <td>6</td>\n",
       "      <td>0.002975</td>\n",
       "    </tr>\n",
       "    <tr>\n",
       "      <th>2</th>\n",
       "      <td>2014-w18</td>\n",
       "      <td>Amazonas</td>\n",
       "      <td>6</td>\n",
       "      <td>0.002975</td>\n",
       "    </tr>\n",
       "    <tr>\n",
       "      <th>3</th>\n",
       "      <td>2014-w18</td>\n",
       "      <td>Bahia</td>\n",
       "      <td>20</td>\n",
       "      <td>0.009916</td>\n",
       "    </tr>\n",
       "    <tr>\n",
       "      <th>4</th>\n",
       "      <td>2014-w18</td>\n",
       "      <td>Ceara</td>\n",
       "      <td>10</td>\n",
       "      <td>0.004958</td>\n",
       "    </tr>\n",
       "    <tr>\n",
       "      <th>...</th>\n",
       "      <td>...</td>\n",
       "      <td>...</td>\n",
       "      <td>...</td>\n",
       "      <td>...</td>\n",
       "    </tr>\n",
       "    <tr>\n",
       "      <th>98</th>\n",
       "      <td>2014-w22</td>\n",
       "      <td>Rio De Janeiro</td>\n",
       "      <td>1</td>\n",
       "      <td>0.000496</td>\n",
       "    </tr>\n",
       "    <tr>\n",
       "      <th>99</th>\n",
       "      <td>2014-w22</td>\n",
       "      <td>Rio Grande Do Sul</td>\n",
       "      <td>34</td>\n",
       "      <td>0.016857</td>\n",
       "    </tr>\n",
       "    <tr>\n",
       "      <th>100</th>\n",
       "      <td>2014-w22</td>\n",
       "      <td>Santa Catarina</td>\n",
       "      <td>9</td>\n",
       "      <td>0.004462</td>\n",
       "    </tr>\n",
       "    <tr>\n",
       "      <th>101</th>\n",
       "      <td>2014-w22</td>\n",
       "      <td>Sao Paulo</td>\n",
       "      <td>26</td>\n",
       "      <td>0.012890</td>\n",
       "    </tr>\n",
       "    <tr>\n",
       "      <th>102</th>\n",
       "      <td>2014-w22</td>\n",
       "      <td>Sergipe</td>\n",
       "      <td>1</td>\n",
       "      <td>0.000496</td>\n",
       "    </tr>\n",
       "  </tbody>\n",
       "</table>\n",
       "<p>103 rows × 4 columns</p>\n",
       "</div>"
      ],
      "text/plain": [
       "    year_week       LocationName  group_size  proportion\n",
       "0    2014-w18               Acre           1    0.000496\n",
       "1    2014-w18            Alagoas           6    0.002975\n",
       "2    2014-w18           Amazonas           6    0.002975\n",
       "3    2014-w18              Bahia          20    0.009916\n",
       "4    2014-w18              Ceara          10    0.004958\n",
       "..        ...                ...         ...         ...\n",
       "98   2014-w22     Rio De Janeiro           1    0.000496\n",
       "99   2014-w22  Rio Grande Do Sul          34    0.016857\n",
       "100  2014-w22     Santa Catarina           9    0.004462\n",
       "101  2014-w22          Sao Paulo          26    0.012890\n",
       "102  2014-w22            Sergipe           1    0.000496\n",
       "\n",
       "[103 rows x 4 columns]"
      ]
     },
     "execution_count": 65,
     "metadata": {},
     "output_type": "execute_result"
    }
   ],
   "source": [
    "# Step 1: Calculate the size of each group (year_week, LocationName)\n",
    "group_sizes = df_2014_05_neg.groupby(['year_week', 'LocationName']).size().reset_index(name='group_size')\n",
    "\n",
    "# Step 2: Calculate the proportion of each group in the dataset\n",
    "total_rows = len(df_2014_05_neg)\n",
    "group_sizes['proportion'] = group_sizes['group_size'] / total_rows\n",
    "group_sizes"
   ]
  },
  {
   "cell_type": "code",
   "execution_count": 66,
   "id": "eccffc5e",
   "metadata": {},
   "outputs": [
    {
     "data": {
      "text/html": [
       "<div>\n",
       "<style scoped>\n",
       "    .dataframe tbody tr th:only-of-type {\n",
       "        vertical-align: middle;\n",
       "    }\n",
       "\n",
       "    .dataframe tbody tr th {\n",
       "        vertical-align: top;\n",
       "    }\n",
       "\n",
       "    .dataframe thead th {\n",
       "        text-align: right;\n",
       "    }\n",
       "</style>\n",
       "<table border=\"1\" class=\"dataframe\">\n",
       "  <thead>\n",
       "    <tr style=\"text-align: right;\">\n",
       "      <th></th>\n",
       "      <th>year_week</th>\n",
       "      <th>LocationName</th>\n",
       "      <th>group_size</th>\n",
       "      <th>proportion</th>\n",
       "      <th>sample_size</th>\n",
       "    </tr>\n",
       "  </thead>\n",
       "  <tbody>\n",
       "    <tr>\n",
       "      <th>0</th>\n",
       "      <td>2014-w18</td>\n",
       "      <td>Acre</td>\n",
       "      <td>1</td>\n",
       "      <td>0.000496</td>\n",
       "      <td>1</td>\n",
       "    </tr>\n",
       "    <tr>\n",
       "      <th>1</th>\n",
       "      <td>2014-w18</td>\n",
       "      <td>Alagoas</td>\n",
       "      <td>6</td>\n",
       "      <td>0.002975</td>\n",
       "      <td>7</td>\n",
       "    </tr>\n",
       "    <tr>\n",
       "      <th>2</th>\n",
       "      <td>2014-w18</td>\n",
       "      <td>Amazonas</td>\n",
       "      <td>6</td>\n",
       "      <td>0.002975</td>\n",
       "      <td>7</td>\n",
       "    </tr>\n",
       "    <tr>\n",
       "      <th>3</th>\n",
       "      <td>2014-w18</td>\n",
       "      <td>Bahia</td>\n",
       "      <td>20</td>\n",
       "      <td>0.009916</td>\n",
       "      <td>24</td>\n",
       "    </tr>\n",
       "    <tr>\n",
       "      <th>4</th>\n",
       "      <td>2014-w18</td>\n",
       "      <td>Ceara</td>\n",
       "      <td>10</td>\n",
       "      <td>0.004958</td>\n",
       "      <td>12</td>\n",
       "    </tr>\n",
       "    <tr>\n",
       "      <th>...</th>\n",
       "      <td>...</td>\n",
       "      <td>...</td>\n",
       "      <td>...</td>\n",
       "      <td>...</td>\n",
       "      <td>...</td>\n",
       "    </tr>\n",
       "    <tr>\n",
       "      <th>98</th>\n",
       "      <td>2014-w22</td>\n",
       "      <td>Rio De Janeiro</td>\n",
       "      <td>1</td>\n",
       "      <td>0.000496</td>\n",
       "      <td>1</td>\n",
       "    </tr>\n",
       "    <tr>\n",
       "      <th>99</th>\n",
       "      <td>2014-w22</td>\n",
       "      <td>Rio Grande Do Sul</td>\n",
       "      <td>34</td>\n",
       "      <td>0.016857</td>\n",
       "      <td>41</td>\n",
       "    </tr>\n",
       "    <tr>\n",
       "      <th>100</th>\n",
       "      <td>2014-w22</td>\n",
       "      <td>Santa Catarina</td>\n",
       "      <td>9</td>\n",
       "      <td>0.004462</td>\n",
       "      <td>10</td>\n",
       "    </tr>\n",
       "    <tr>\n",
       "      <th>101</th>\n",
       "      <td>2014-w22</td>\n",
       "      <td>Sao Paulo</td>\n",
       "      <td>26</td>\n",
       "      <td>0.012890</td>\n",
       "      <td>31</td>\n",
       "    </tr>\n",
       "    <tr>\n",
       "      <th>102</th>\n",
       "      <td>2014-w22</td>\n",
       "      <td>Sergipe</td>\n",
       "      <td>1</td>\n",
       "      <td>0.000496</td>\n",
       "      <td>1</td>\n",
       "    </tr>\n",
       "  </tbody>\n",
       "</table>\n",
       "<p>103 rows × 5 columns</p>\n",
       "</div>"
      ],
      "text/plain": [
       "    year_week       LocationName  group_size  proportion  sample_size\n",
       "0    2014-w18               Acre           1    0.000496            1\n",
       "1    2014-w18            Alagoas           6    0.002975            7\n",
       "2    2014-w18           Amazonas           6    0.002975            7\n",
       "3    2014-w18              Bahia          20    0.009916           24\n",
       "4    2014-w18              Ceara          10    0.004958           12\n",
       "..        ...                ...         ...         ...          ...\n",
       "98   2014-w22     Rio De Janeiro           1    0.000496            1\n",
       "99   2014-w22  Rio Grande Do Sul          34    0.016857           41\n",
       "100  2014-w22     Santa Catarina           9    0.004462           10\n",
       "101  2014-w22          Sao Paulo          26    0.012890           31\n",
       "102  2014-w22            Sergipe           1    0.000496            1\n",
       "\n",
       "[103 rows x 5 columns]"
      ]
     },
     "execution_count": 66,
     "metadata": {},
     "output_type": "execute_result"
    }
   ],
   "source": [
    "# Step 3: Define the target sample size\n",
    "target_sample_size = 2450\n",
    "\n",
    "# Step 4: Calculate the sample size for each group (based on its proportion)\n",
    "group_sizes['sample_size'] = np.floor(group_sizes['proportion'] * target_sample_size).astype(int)\n",
    "group_sizes"
   ]
  },
  {
   "cell_type": "code",
   "execution_count": 67,
   "id": "1f16b08e",
   "metadata": {},
   "outputs": [],
   "source": [
    "# Step 5: Merge this sample size information back to the original DataFrame\n",
    "df_2014_05_neg_sample_size = pd.merge(df_2014_05_neg, group_sizes[['year_week', 'LocationName', 'sample_size']], \n",
    "                               on=['year_week', 'LocationName'], how='left')"
   ]
  },
  {
   "cell_type": "code",
   "execution_count": 68,
   "id": "6ec4f741",
   "metadata": {},
   "outputs": [
    {
     "name": "stdout",
     "output_type": "stream",
     "text": [
      "Sampled 2017 rows.\n"
     ]
    }
   ],
   "source": [
    "# Step 6: Perform the stratified sampling\n",
    "#df_2014_05_neg_sample = df_2014_05_neg_sample_size.groupby(['year_week', 'LocationName']).apply(\n",
    " #   lambda group: group.sample(n=group['sample_size'].iloc[0], random_state=42)\n",
    "#).reset_index(drop=True)\n",
    "df_2014_05_neg_sample = df_2014_05_neg\n",
    "# Step 7: Check the result\n",
    "print(f\"Sampled {len(df_2014_05_neg_sample)} rows.\")\n"
   ]
  },
  {
   "cell_type": "code",
   "execution_count": 69,
   "id": "b861921a",
   "metadata": {},
   "outputs": [],
   "source": [
    "text_gpt_2014_05_neg = '\\n'.join(df_2014_05_neg_sample['text'].astype(str))"
   ]
  },
  {
   "cell_type": "markdown",
   "id": "a71ff6b0",
   "metadata": {},
   "source": [
    "### Prompts and loops"
   ]
  },
  {
   "cell_type": "code",
   "execution_count": 70,
   "id": "6e6a91ed",
   "metadata": {},
   "outputs": [],
   "source": [
    "prompt_5 = prompt_raw.replace('TWEETS', text_gpt_2014_05_neg)"
   ]
  },
  {
   "cell_type": "code",
   "execution_count": 71,
   "id": "14941427",
   "metadata": {
    "scrolled": false
   },
   "outputs": [],
   "source": [
    "response = openai.ChatCompletion.create(\n",
    "    model=\"gpt-4o-mini\",  \n",
    "    messages = [\n",
    "        {\"role\": \"user\", \"content\": prompt_5}\n",
    "    ],\n",
    "    max_tokens=400,  # Maximum number of tokens in the response\n",
    "    temperature=0.7  # Controls the randomness of the output\n",
    ")"
   ]
  },
  {
   "cell_type": "code",
   "execution_count": 72,
   "id": "d34b2bcc",
   "metadata": {},
   "outputs": [
    {
     "data": {
      "text/plain": [
       "'The text discusses various opinions and experiences related to vaccinations, particularly the flu vaccine. Many individuals express their dislike for vaccines, recounting painful experiences and side effects, such as soreness in the arm, feeling ill, or even getting the flu after vaccination. Some mention the fear of needles and the pressure to get vaccinated, while others criticize the effectiveness of vaccines. There are also references to the lack of available vaccines in certain areas and concerns regarding the safety and reliability of vaccinations, including controversies surrounding specific vaccines like HPV. Overall, the sentiment is mixed, with many expressing skepticism and discomfort about the vaccination process.'"
      ]
     },
     "execution_count": 72,
     "metadata": {},
     "output_type": "execute_result"
    }
   ],
   "source": [
    "response.choices[0].message.content"
   ]
  },
  {
   "cell_type": "code",
   "execution_count": 73,
   "id": "f8f67be8",
   "metadata": {},
   "outputs": [],
   "source": [
    "#summary = []\n",
    "#dataset = []"
   ]
  },
  {
   "cell_type": "code",
   "execution_count": 74,
   "id": "0eb94e56",
   "metadata": {},
   "outputs": [],
   "source": [
    "dataset.append(\"2014_05_negative\")"
   ]
  },
  {
   "cell_type": "code",
   "execution_count": 75,
   "id": "c9c68d6a",
   "metadata": {},
   "outputs": [],
   "source": [
    "summary.append(response.choices[0].message.content)"
   ]
  },
  {
   "cell_type": "code",
   "execution_count": 76,
   "id": "5716826b",
   "metadata": {
    "tags": []
   },
   "outputs": [
    {
     "name": "stdout",
     "output_type": "stream",
     "text": [
      "<class 'pandas.core.frame.DataFrame'>\n",
      "RangeIndex: 5 entries, 0 to 4\n",
      "Data columns (total 2 columns):\n",
      " #   Column   Non-Null Count  Dtype \n",
      "---  ------   --------------  ----- \n",
      " 0   dataset  5 non-null      object\n",
      " 1   summary  5 non-null      object\n",
      "dtypes: object(2)\n",
      "memory usage: 208.0+ bytes\n"
     ]
    }
   ],
   "source": [
    "df_2014_neg = pd.DataFrame(list(zip(dataset, summary)),\n",
    "                            columns = ['dataset', 'summary'])\n",
    "df_2014_neg.info()"
   ]
  },
  {
   "cell_type": "code",
   "execution_count": 77,
   "id": "8acf11d6",
   "metadata": {},
   "outputs": [
    {
     "data": {
      "text/html": [
       "<div>\n",
       "<style scoped>\n",
       "    .dataframe tbody tr th:only-of-type {\n",
       "        vertical-align: middle;\n",
       "    }\n",
       "\n",
       "    .dataframe tbody tr th {\n",
       "        vertical-align: top;\n",
       "    }\n",
       "\n",
       "    .dataframe thead th {\n",
       "        text-align: right;\n",
       "    }\n",
       "</style>\n",
       "<table border=\"1\" class=\"dataframe\">\n",
       "  <thead>\n",
       "    <tr style=\"text-align: right;\">\n",
       "      <th></th>\n",
       "      <th>dataset</th>\n",
       "      <th>summary</th>\n",
       "    </tr>\n",
       "  </thead>\n",
       "  <tbody>\n",
       "    <tr>\n",
       "      <th>0</th>\n",
       "      <td>2014_01_negitive</td>\n",
       "      <td>The sentences express various opinions and exp...</td>\n",
       "    </tr>\n",
       "    <tr>\n",
       "      <th>1</th>\n",
       "      <td>2014_02_negitive</td>\n",
       "      <td>The text discusses various opinions and experi...</td>\n",
       "    </tr>\n",
       "    <tr>\n",
       "      <th>2</th>\n",
       "      <td>2014_03_negitive</td>\n",
       "      <td>The text discusses the controversy surrounding...</td>\n",
       "    </tr>\n",
       "    <tr>\n",
       "      <th>3</th>\n",
       "      <td>2014_04_negitive</td>\n",
       "      <td>The sentences discuss various sentiments about...</td>\n",
       "    </tr>\n",
       "    <tr>\n",
       "      <th>4</th>\n",
       "      <td>2014_05_negitive</td>\n",
       "      <td>The text discusses various opinions and experi...</td>\n",
       "    </tr>\n",
       "  </tbody>\n",
       "</table>\n",
       "</div>"
      ],
      "text/plain": [
       "            dataset                                            summary\n",
       "0  2014_01_negitive  The sentences express various opinions and exp...\n",
       "1  2014_02_negitive  The text discusses various opinions and experi...\n",
       "2  2014_03_negitive  The text discusses the controversy surrounding...\n",
       "3  2014_04_negitive  The sentences discuss various sentiments about...\n",
       "4  2014_05_negitive  The text discusses various opinions and experi..."
      ]
     },
     "execution_count": 77,
     "metadata": {},
     "output_type": "execute_result"
    }
   ],
   "source": [
    "df_2014_neg.tail(14)"
   ]
  },
  {
   "cell_type": "code",
   "execution_count": 78,
   "id": "2c2b96e9",
   "metadata": {},
   "outputs": [
    {
     "data": {
      "text/plain": [
       "<OpenAIObject chat.completion id=chatcmpl-AUdG0NoRKlcBBCw8qcNmjqTHKoBFP at 0x26c2bd8a900> JSON: {\n",
       "  \"choices\": [\n",
       "    {\n",
       "      \"finish_reason\": \"stop\",\n",
       "      \"index\": 0,\n",
       "      \"logprobs\": null,\n",
       "      \"message\": {\n",
       "        \"content\": \"The text discusses various opinions and experiences related to vaccinations, particularly the flu vaccine. Many individuals express their dislike for vaccines, recounting painful experiences and side effects, such as soreness in the arm, feeling ill, or even getting the flu after vaccination. Some mention the fear of needles and the pressure to get vaccinated, while others criticize the effectiveness of vaccines. There are also references to the lack of available vaccines in certain areas and concerns regarding the safety and reliability of vaccinations, including controversies surrounding specific vaccines like HPV. Overall, the sentiment is mixed, with many expressing skepticism and discomfort about the vaccination process.\",\n",
       "        \"refusal\": null,\n",
       "        \"role\": \"assistant\"\n",
       "      }\n",
       "    }\n",
       "  ],\n",
       "  \"created\": 1731864108,\n",
       "  \"id\": \"chatcmpl-AUdG0NoRKlcBBCw8qcNmjqTHKoBFP\",\n",
       "  \"model\": \"gpt-4o-mini-2024-07-18\",\n",
       "  \"object\": \"chat.completion\",\n",
       "  \"system_fingerprint\": \"fp_9b78b61c52\",\n",
       "  \"usage\": {\n",
       "    \"completion_tokens\": 120,\n",
       "    \"completion_tokens_details\": {\n",
       "      \"accepted_prediction_tokens\": 0,\n",
       "      \"audio_tokens\": 0,\n",
       "      \"reasoning_tokens\": 0,\n",
       "      \"rejected_prediction_tokens\": 0\n",
       "    },\n",
       "    \"prompt_tokens\": 41049,\n",
       "    \"prompt_tokens_details\": {\n",
       "      \"audio_tokens\": 0,\n",
       "      \"cached_tokens\": 0\n",
       "    },\n",
       "    \"total_tokens\": 41169\n",
       "  }\n",
       "}"
      ]
     },
     "execution_count": 78,
     "metadata": {},
     "output_type": "execute_result"
    }
   ],
   "source": [
    "response"
   ]
  },
  {
   "cell_type": "markdown",
   "id": "6756d045",
   "metadata": {},
   "source": [
    "## June"
   ]
  },
  {
   "cell_type": "code",
   "execution_count": 79,
   "id": "e994e0a9",
   "metadata": {
    "scrolled": true,
    "tags": []
   },
   "outputs": [
    {
     "name": "stdout",
     "output_type": "stream",
     "text": [
      "<class 'pandas.core.frame.DataFrame'>\n",
      "RangeIndex: 868 entries, 0 to 867\n",
      "Data columns (total 53 columns):\n",
      " #   Column                  Non-Null Count  Dtype  \n",
      "---  ------                  --------------  -----  \n",
      " 0   index                   868 non-null    int64  \n",
      " 1   LocationCode            868 non-null    object \n",
      " 2   LocationName            868 non-null    object \n",
      " 3   StatesCode              868 non-null    object \n",
      " 4   ...4                    868 non-null    int64  \n",
      " 5   id                      868 non-null    float64\n",
      " 6   text                    868 non-null    object \n",
      " 7   label                   868 non-null    object \n",
      " 8   in_reply_to_status_id   72 non-null     float64\n",
      " 9   in_reply_to_user_id     77 non-null     float64\n",
      " 10  quoted_user_id          0 non-null      float64\n",
      " 11  quoted_status_id        0 non-null      float64\n",
      " 12  retweeted_user_id       141 non-null    float64\n",
      " 13  retweeted_status_id     141 non-null    float64\n",
      " 14  created_at              868 non-null    object \n",
      " 15  entities.user_mentions  233 non-null    object \n",
      " 16  user.id                 868 non-null    int64  \n",
      " 17  user.screen_name        868 non-null    object \n",
      " 18  user.name               866 non-null    object \n",
      " 19  user.description        789 non-null    object \n",
      " 20  user.timezone           0 non-null      float64\n",
      " 21  user.location           857 non-null    object \n",
      " 22  user.num_followers      868 non-null    int64  \n",
      " 23  user.num_following      868 non-null    int64  \n",
      " 24  user.created_at         868 non-null    object \n",
      " 25  user.statuses_count     868 non-null    int64  \n",
      " 26  user.is_verified        868 non-null    bool   \n",
      " 27  lang                    868 non-null    object \n",
      " 28  token_count             868 non-null    int64  \n",
      " 29  is_retweet              868 non-null    bool   \n",
      " 30  has_quote               868 non-null    bool   \n",
      " 31  is_reply                868 non-null    bool   \n",
      " 32  contains_keywords       868 non-null    bool   \n",
      " 33  longitude               868 non-null    float64\n",
      " 34  latitude                868 non-null    float64\n",
      " 35  country_code            868 non-null    object \n",
      " 36  geoname_id              832 non-null    float64\n",
      " 37  location_type           868 non-null    object \n",
      " 38  geo_type                868 non-null    int64  \n",
      " 39  region                  868 non-null    object \n",
      " 40  subregion               868 non-null    object \n",
      " 41  num_quotes              868 non-null    int64  \n",
      " 42  num_replies             868 non-null    int64  \n",
      " 43  num_retweets            868 non-null    int64  \n",
      " 44  sent_gpt                868 non-null    object \n",
      " 45  gpt_sent_presence       868 non-null    int64  \n",
      " 46  cleaned_text_lem        868 non-null    object \n",
      " 47  cleaned_text            868 non-null    object \n",
      " 48  month                   868 non-null    int64  \n",
      " 49  year                    868 non-null    int64  \n",
      " 50  week                    868 non-null    int64  \n",
      " 51  year_month              868 non-null    object \n",
      " 52  year_week               868 non-null    object \n",
      "dtypes: bool(5), float64(11), int64(15), object(22)\n",
      "memory usage: 329.9+ KB\n"
     ]
    }
   ],
   "source": [
    "# Get monthly data\n",
    "df_2014_06_neg = pd.read_csv('../data/local/df_neg_2014-06.csv').reset_index()\n",
    "df_2014_06_neg.info()"
   ]
  },
  {
   "cell_type": "markdown",
   "id": "57bf0007",
   "metadata": {},
   "source": [
    "### Representative sample based on week and location"
   ]
  },
  {
   "cell_type": "code",
   "execution_count": 80,
   "id": "59042a70",
   "metadata": {},
   "outputs": [
    {
     "data": {
      "text/html": [
       "<div>\n",
       "<style scoped>\n",
       "    .dataframe tbody tr th:only-of-type {\n",
       "        vertical-align: middle;\n",
       "    }\n",
       "\n",
       "    .dataframe tbody tr th {\n",
       "        vertical-align: top;\n",
       "    }\n",
       "\n",
       "    .dataframe thead th {\n",
       "        text-align: right;\n",
       "    }\n",
       "</style>\n",
       "<table border=\"1\" class=\"dataframe\">\n",
       "  <thead>\n",
       "    <tr style=\"text-align: right;\">\n",
       "      <th></th>\n",
       "      <th>year_week</th>\n",
       "      <th>LocationName</th>\n",
       "      <th>group_size</th>\n",
       "      <th>proportion</th>\n",
       "    </tr>\n",
       "  </thead>\n",
       "  <tbody>\n",
       "    <tr>\n",
       "      <th>0</th>\n",
       "      <td>2014-w22</td>\n",
       "      <td>Amazonas</td>\n",
       "      <td>2</td>\n",
       "      <td>0.002304</td>\n",
       "    </tr>\n",
       "    <tr>\n",
       "      <th>1</th>\n",
       "      <td>2014-w22</td>\n",
       "      <td>Bahia</td>\n",
       "      <td>1</td>\n",
       "      <td>0.001152</td>\n",
       "    </tr>\n",
       "    <tr>\n",
       "      <th>2</th>\n",
       "      <td>2014-w22</td>\n",
       "      <td>Ceara</td>\n",
       "      <td>1</td>\n",
       "      <td>0.001152</td>\n",
       "    </tr>\n",
       "    <tr>\n",
       "      <th>3</th>\n",
       "      <td>2014-w22</td>\n",
       "      <td>Distrito Federal</td>\n",
       "      <td>4</td>\n",
       "      <td>0.004608</td>\n",
       "    </tr>\n",
       "    <tr>\n",
       "      <th>4</th>\n",
       "      <td>2014-w22</td>\n",
       "      <td>Espirito Santo</td>\n",
       "      <td>2</td>\n",
       "      <td>0.002304</td>\n",
       "    </tr>\n",
       "    <tr>\n",
       "      <th>...</th>\n",
       "      <td>...</td>\n",
       "      <td>...</td>\n",
       "      <td>...</td>\n",
       "      <td>...</td>\n",
       "    </tr>\n",
       "    <tr>\n",
       "      <th>86</th>\n",
       "      <td>2014-w26</td>\n",
       "      <td>Parana</td>\n",
       "      <td>10</td>\n",
       "      <td>0.011521</td>\n",
       "    </tr>\n",
       "    <tr>\n",
       "      <th>87</th>\n",
       "      <td>2014-w26</td>\n",
       "      <td>Pernambuco</td>\n",
       "      <td>3</td>\n",
       "      <td>0.003456</td>\n",
       "    </tr>\n",
       "    <tr>\n",
       "      <th>88</th>\n",
       "      <td>2014-w26</td>\n",
       "      <td>Rio Grande Do Sul</td>\n",
       "      <td>23</td>\n",
       "      <td>0.026498</td>\n",
       "    </tr>\n",
       "    <tr>\n",
       "      <th>89</th>\n",
       "      <td>2014-w26</td>\n",
       "      <td>Santa Catarina</td>\n",
       "      <td>7</td>\n",
       "      <td>0.008065</td>\n",
       "    </tr>\n",
       "    <tr>\n",
       "      <th>90</th>\n",
       "      <td>2014-w26</td>\n",
       "      <td>Sao Paulo</td>\n",
       "      <td>50</td>\n",
       "      <td>0.057604</td>\n",
       "    </tr>\n",
       "  </tbody>\n",
       "</table>\n",
       "<p>91 rows × 4 columns</p>\n",
       "</div>"
      ],
      "text/plain": [
       "   year_week       LocationName  group_size  proportion\n",
       "0   2014-w22           Amazonas           2    0.002304\n",
       "1   2014-w22              Bahia           1    0.001152\n",
       "2   2014-w22              Ceara           1    0.001152\n",
       "3   2014-w22   Distrito Federal           4    0.004608\n",
       "4   2014-w22     Espirito Santo           2    0.002304\n",
       "..       ...                ...         ...         ...\n",
       "86  2014-w26             Parana          10    0.011521\n",
       "87  2014-w26         Pernambuco           3    0.003456\n",
       "88  2014-w26  Rio Grande Do Sul          23    0.026498\n",
       "89  2014-w26     Santa Catarina           7    0.008065\n",
       "90  2014-w26          Sao Paulo          50    0.057604\n",
       "\n",
       "[91 rows x 4 columns]"
      ]
     },
     "execution_count": 80,
     "metadata": {},
     "output_type": "execute_result"
    }
   ],
   "source": [
    "# Step 1: Calculate the size of each group (year_week, LocationName)\n",
    "group_sizes = df_2014_06_neg.groupby(['year_week', 'LocationName']).size().reset_index(name='group_size')\n",
    "\n",
    "# Step 2: Calculate the proportion of each group in the dataset\n",
    "total_rows = len(df_2014_06_neg)\n",
    "group_sizes['proportion'] = group_sizes['group_size'] / total_rows\n",
    "group_sizes"
   ]
  },
  {
   "cell_type": "code",
   "execution_count": 81,
   "id": "371bde15",
   "metadata": {},
   "outputs": [
    {
     "data": {
      "text/html": [
       "<div>\n",
       "<style scoped>\n",
       "    .dataframe tbody tr th:only-of-type {\n",
       "        vertical-align: middle;\n",
       "    }\n",
       "\n",
       "    .dataframe tbody tr th {\n",
       "        vertical-align: top;\n",
       "    }\n",
       "\n",
       "    .dataframe thead th {\n",
       "        text-align: right;\n",
       "    }\n",
       "</style>\n",
       "<table border=\"1\" class=\"dataframe\">\n",
       "  <thead>\n",
       "    <tr style=\"text-align: right;\">\n",
       "      <th></th>\n",
       "      <th>year_week</th>\n",
       "      <th>LocationName</th>\n",
       "      <th>group_size</th>\n",
       "      <th>proportion</th>\n",
       "      <th>sample_size</th>\n",
       "    </tr>\n",
       "  </thead>\n",
       "  <tbody>\n",
       "    <tr>\n",
       "      <th>0</th>\n",
       "      <td>2014-w22</td>\n",
       "      <td>Amazonas</td>\n",
       "      <td>2</td>\n",
       "      <td>0.002304</td>\n",
       "      <td>5</td>\n",
       "    </tr>\n",
       "    <tr>\n",
       "      <th>1</th>\n",
       "      <td>2014-w22</td>\n",
       "      <td>Bahia</td>\n",
       "      <td>1</td>\n",
       "      <td>0.001152</td>\n",
       "      <td>2</td>\n",
       "    </tr>\n",
       "    <tr>\n",
       "      <th>2</th>\n",
       "      <td>2014-w22</td>\n",
       "      <td>Ceara</td>\n",
       "      <td>1</td>\n",
       "      <td>0.001152</td>\n",
       "      <td>2</td>\n",
       "    </tr>\n",
       "    <tr>\n",
       "      <th>3</th>\n",
       "      <td>2014-w22</td>\n",
       "      <td>Distrito Federal</td>\n",
       "      <td>4</td>\n",
       "      <td>0.004608</td>\n",
       "      <td>11</td>\n",
       "    </tr>\n",
       "    <tr>\n",
       "      <th>4</th>\n",
       "      <td>2014-w22</td>\n",
       "      <td>Espirito Santo</td>\n",
       "      <td>2</td>\n",
       "      <td>0.002304</td>\n",
       "      <td>5</td>\n",
       "    </tr>\n",
       "    <tr>\n",
       "      <th>...</th>\n",
       "      <td>...</td>\n",
       "      <td>...</td>\n",
       "      <td>...</td>\n",
       "      <td>...</td>\n",
       "      <td>...</td>\n",
       "    </tr>\n",
       "    <tr>\n",
       "      <th>86</th>\n",
       "      <td>2014-w26</td>\n",
       "      <td>Parana</td>\n",
       "      <td>10</td>\n",
       "      <td>0.011521</td>\n",
       "      <td>28</td>\n",
       "    </tr>\n",
       "    <tr>\n",
       "      <th>87</th>\n",
       "      <td>2014-w26</td>\n",
       "      <td>Pernambuco</td>\n",
       "      <td>3</td>\n",
       "      <td>0.003456</td>\n",
       "      <td>8</td>\n",
       "    </tr>\n",
       "    <tr>\n",
       "      <th>88</th>\n",
       "      <td>2014-w26</td>\n",
       "      <td>Rio Grande Do Sul</td>\n",
       "      <td>23</td>\n",
       "      <td>0.026498</td>\n",
       "      <td>64</td>\n",
       "    </tr>\n",
       "    <tr>\n",
       "      <th>89</th>\n",
       "      <td>2014-w26</td>\n",
       "      <td>Santa Catarina</td>\n",
       "      <td>7</td>\n",
       "      <td>0.008065</td>\n",
       "      <td>19</td>\n",
       "    </tr>\n",
       "    <tr>\n",
       "      <th>90</th>\n",
       "      <td>2014-w26</td>\n",
       "      <td>Sao Paulo</td>\n",
       "      <td>50</td>\n",
       "      <td>0.057604</td>\n",
       "      <td>141</td>\n",
       "    </tr>\n",
       "  </tbody>\n",
       "</table>\n",
       "<p>91 rows × 5 columns</p>\n",
       "</div>"
      ],
      "text/plain": [
       "   year_week       LocationName  group_size  proportion  sample_size\n",
       "0   2014-w22           Amazonas           2    0.002304            5\n",
       "1   2014-w22              Bahia           1    0.001152            2\n",
       "2   2014-w22              Ceara           1    0.001152            2\n",
       "3   2014-w22   Distrito Federal           4    0.004608           11\n",
       "4   2014-w22     Espirito Santo           2    0.002304            5\n",
       "..       ...                ...         ...         ...          ...\n",
       "86  2014-w26             Parana          10    0.011521           28\n",
       "87  2014-w26         Pernambuco           3    0.003456            8\n",
       "88  2014-w26  Rio Grande Do Sul          23    0.026498           64\n",
       "89  2014-w26     Santa Catarina           7    0.008065           19\n",
       "90  2014-w26          Sao Paulo          50    0.057604          141\n",
       "\n",
       "[91 rows x 5 columns]"
      ]
     },
     "execution_count": 81,
     "metadata": {},
     "output_type": "execute_result"
    }
   ],
   "source": [
    "# Step 3: Define the target sample size\n",
    "target_sample_size = 2450\n",
    "\n",
    "# Step 4: Calculate the sample size for each group (based on its proportion)\n",
    "group_sizes['sample_size'] = np.floor(group_sizes['proportion'] * target_sample_size).astype(int)\n",
    "group_sizes"
   ]
  },
  {
   "cell_type": "code",
   "execution_count": 82,
   "id": "63e28728",
   "metadata": {},
   "outputs": [],
   "source": [
    "# Step 5: Merge this sample size information back to the original DataFrame\n",
    "df_2014_06_neg_sample_size = pd.merge(df_2014_06_neg, group_sizes[['year_week', 'LocationName', 'sample_size']], \n",
    "                               on=['year_week', 'LocationName'], how='left')"
   ]
  },
  {
   "cell_type": "code",
   "execution_count": 83,
   "id": "d929406c",
   "metadata": {},
   "outputs": [
    {
     "name": "stdout",
     "output_type": "stream",
     "text": [
      "Sampled 868 rows.\n"
     ]
    }
   ],
   "source": [
    "# Step 6: Perform the stratified sampling\n",
    "#df_2014_06_neg_sample = df_2014_06_neg_sample_size.groupby(['year_week', 'LocationName']).apply(\n",
    " #   lambda group: group.sample(n=group['sample_size'].iloc[0], random_state=42)\n",
    "#).reset_index(drop=True)\n",
    "df_2014_06_neg_sample = df_2014_06_neg\n",
    "# Step 7: Check the result\n",
    "print(f\"Sampled {len(df_2014_06_neg_sample)} rows.\")\n"
   ]
  },
  {
   "cell_type": "code",
   "execution_count": 84,
   "id": "e9aa1932",
   "metadata": {},
   "outputs": [],
   "source": [
    "text_gpt_2014_06_neg = '\\n'.join(df_2014_06_neg_sample['text'].astype(str))"
   ]
  },
  {
   "cell_type": "markdown",
   "id": "1f2f44e4",
   "metadata": {},
   "source": [
    "### Prompts and loops"
   ]
  },
  {
   "cell_type": "code",
   "execution_count": 85,
   "id": "2faa24e8",
   "metadata": {},
   "outputs": [],
   "source": [
    "prompt_6 = prompt_raw.replace('TWEETS', text_gpt_2014_06_neg)"
   ]
  },
  {
   "cell_type": "code",
   "execution_count": 86,
   "id": "bc6051bc",
   "metadata": {
    "scrolled": false
   },
   "outputs": [],
   "source": [
    "response = openai.ChatCompletion.create(\n",
    "    model=\"gpt-4o-mini\",  \n",
    "    messages = [\n",
    "        {\"role\": \"user\", \"content\": prompt_6}\n",
    "    ],\n",
    "    max_tokens=400,  # Maximum number of tokens in the response\n",
    "    temperature=0.7  # Controls the randomness of the output\n",
    ")"
   ]
  },
  {
   "cell_type": "code",
   "execution_count": 87,
   "id": "71cfa37a",
   "metadata": {},
   "outputs": [
    {
     "data": {
      "text/plain": [
       "'The text discusses various public reactions and complaints regarding vaccination campaigns in Brazil, particularly against the flu and HPV. Many individuals express frustration about side effects, ineffectiveness of the vaccines, and the lack of availability. There are also mentions of fears surrounding vaccinations and a general skepticism towards their benefits, reflecting concerns about public health policies and government accountability.'"
      ]
     },
     "execution_count": 87,
     "metadata": {},
     "output_type": "execute_result"
    }
   ],
   "source": [
    "response.choices[0].message.content"
   ]
  },
  {
   "cell_type": "code",
   "execution_count": 88,
   "id": "e05c6917",
   "metadata": {},
   "outputs": [],
   "source": [
    "#summary = []\n",
    "#dataset = []"
   ]
  },
  {
   "cell_type": "code",
   "execution_count": 89,
   "id": "a222eb1f",
   "metadata": {},
   "outputs": [],
   "source": [
    "dataset.append(\"2014_06_negative\")"
   ]
  },
  {
   "cell_type": "code",
   "execution_count": 90,
   "id": "16cc4629",
   "metadata": {},
   "outputs": [],
   "source": [
    "summary.append(response.choices[0].message.content)"
   ]
  },
  {
   "cell_type": "code",
   "execution_count": 91,
   "id": "06ae8742",
   "metadata": {
    "tags": []
   },
   "outputs": [
    {
     "name": "stdout",
     "output_type": "stream",
     "text": [
      "<class 'pandas.core.frame.DataFrame'>\n",
      "RangeIndex: 6 entries, 0 to 5\n",
      "Data columns (total 2 columns):\n",
      " #   Column   Non-Null Count  Dtype \n",
      "---  ------   --------------  ----- \n",
      " 0   dataset  6 non-null      object\n",
      " 1   summary  6 non-null      object\n",
      "dtypes: object(2)\n",
      "memory usage: 224.0+ bytes\n"
     ]
    }
   ],
   "source": [
    "df_2014_neg = pd.DataFrame(list(zip(dataset, summary)),\n",
    "                            columns = ['dataset', 'summary'])\n",
    "df_2014_neg.info()"
   ]
  },
  {
   "cell_type": "code",
   "execution_count": 92,
   "id": "116b4d78",
   "metadata": {},
   "outputs": [
    {
     "data": {
      "text/html": [
       "<div>\n",
       "<style scoped>\n",
       "    .dataframe tbody tr th:only-of-type {\n",
       "        vertical-align: middle;\n",
       "    }\n",
       "\n",
       "    .dataframe tbody tr th {\n",
       "        vertical-align: top;\n",
       "    }\n",
       "\n",
       "    .dataframe thead th {\n",
       "        text-align: right;\n",
       "    }\n",
       "</style>\n",
       "<table border=\"1\" class=\"dataframe\">\n",
       "  <thead>\n",
       "    <tr style=\"text-align: right;\">\n",
       "      <th></th>\n",
       "      <th>dataset</th>\n",
       "      <th>summary</th>\n",
       "    </tr>\n",
       "  </thead>\n",
       "  <tbody>\n",
       "    <tr>\n",
       "      <th>0</th>\n",
       "      <td>2014_01_negitive</td>\n",
       "      <td>The sentences express various opinions and exp...</td>\n",
       "    </tr>\n",
       "    <tr>\n",
       "      <th>1</th>\n",
       "      <td>2014_02_negitive</td>\n",
       "      <td>The text discusses various opinions and experi...</td>\n",
       "    </tr>\n",
       "    <tr>\n",
       "      <th>2</th>\n",
       "      <td>2014_03_negitive</td>\n",
       "      <td>The text discusses the controversy surrounding...</td>\n",
       "    </tr>\n",
       "    <tr>\n",
       "      <th>3</th>\n",
       "      <td>2014_04_negitive</td>\n",
       "      <td>The sentences discuss various sentiments about...</td>\n",
       "    </tr>\n",
       "    <tr>\n",
       "      <th>4</th>\n",
       "      <td>2014_05_negitive</td>\n",
       "      <td>The text discusses various opinions and experi...</td>\n",
       "    </tr>\n",
       "    <tr>\n",
       "      <th>5</th>\n",
       "      <td>2014_06_negitive</td>\n",
       "      <td>The text discusses various public reactions an...</td>\n",
       "    </tr>\n",
       "  </tbody>\n",
       "</table>\n",
       "</div>"
      ],
      "text/plain": [
       "            dataset                                            summary\n",
       "0  2014_01_negitive  The sentences express various opinions and exp...\n",
       "1  2014_02_negitive  The text discusses various opinions and experi...\n",
       "2  2014_03_negitive  The text discusses the controversy surrounding...\n",
       "3  2014_04_negitive  The sentences discuss various sentiments about...\n",
       "4  2014_05_negitive  The text discusses various opinions and experi...\n",
       "5  2014_06_negitive  The text discusses various public reactions an..."
      ]
     },
     "execution_count": 92,
     "metadata": {},
     "output_type": "execute_result"
    }
   ],
   "source": [
    "df_2014_neg.tail(14)"
   ]
  },
  {
   "cell_type": "code",
   "execution_count": 93,
   "id": "7668e23f",
   "metadata": {},
   "outputs": [
    {
     "data": {
      "text/plain": [
       "<OpenAIObject chat.completion id=chatcmpl-AUdG6ha8nUZUO8dtXA6Sgm4tHvDJT at 0x26c2bf83f40> JSON: {\n",
       "  \"choices\": [\n",
       "    {\n",
       "      \"finish_reason\": \"stop\",\n",
       "      \"index\": 0,\n",
       "      \"logprobs\": null,\n",
       "      \"message\": {\n",
       "        \"content\": \"The text discusses various public reactions and complaints regarding vaccination campaigns in Brazil, particularly against the flu and HPV. Many individuals express frustration about side effects, ineffectiveness of the vaccines, and the lack of availability. There are also mentions of fears surrounding vaccinations and a general skepticism towards their benefits, reflecting concerns about public health policies and government accountability.\",\n",
       "        \"refusal\": null,\n",
       "        \"role\": \"assistant\"\n",
       "      }\n",
       "    }\n",
       "  ],\n",
       "  \"created\": 1731864114,\n",
       "  \"id\": \"chatcmpl-AUdG6ha8nUZUO8dtXA6Sgm4tHvDJT\",\n",
       "  \"model\": \"gpt-4o-mini-2024-07-18\",\n",
       "  \"object\": \"chat.completion\",\n",
       "  \"system_fingerprint\": \"fp_0ba0d124f1\",\n",
       "  \"usage\": {\n",
       "    \"completion_tokens\": 68,\n",
       "    \"completion_tokens_details\": {\n",
       "      \"accepted_prediction_tokens\": 0,\n",
       "      \"audio_tokens\": 0,\n",
       "      \"reasoning_tokens\": 0,\n",
       "      \"rejected_prediction_tokens\": 0\n",
       "    },\n",
       "    \"prompt_tokens\": 17775,\n",
       "    \"prompt_tokens_details\": {\n",
       "      \"audio_tokens\": 0,\n",
       "      \"cached_tokens\": 0\n",
       "    },\n",
       "    \"total_tokens\": 17843\n",
       "  }\n",
       "}"
      ]
     },
     "execution_count": 93,
     "metadata": {},
     "output_type": "execute_result"
    }
   ],
   "source": [
    "response"
   ]
  },
  {
   "cell_type": "markdown",
   "id": "1b5c5a9b",
   "metadata": {},
   "source": [
    "## July"
   ]
  },
  {
   "cell_type": "code",
   "execution_count": 94,
   "id": "5096b4ba",
   "metadata": {
    "scrolled": true,
    "tags": []
   },
   "outputs": [
    {
     "name": "stdout",
     "output_type": "stream",
     "text": [
      "<class 'pandas.core.frame.DataFrame'>\n",
      "RangeIndex: 639 entries, 0 to 638\n",
      "Data columns (total 53 columns):\n",
      " #   Column                  Non-Null Count  Dtype  \n",
      "---  ------                  --------------  -----  \n",
      " 0   index                   639 non-null    int64  \n",
      " 1   LocationCode            639 non-null    object \n",
      " 2   LocationName            639 non-null    object \n",
      " 3   StatesCode              639 non-null    object \n",
      " 4   ...4                    639 non-null    int64  \n",
      " 5   id                      639 non-null    float64\n",
      " 6   text                    639 non-null    object \n",
      " 7   label                   639 non-null    object \n",
      " 8   in_reply_to_status_id   57 non-null     float64\n",
      " 9   in_reply_to_user_id     61 non-null     float64\n",
      " 10  quoted_user_id          0 non-null      float64\n",
      " 11  quoted_status_id        0 non-null      float64\n",
      " 12  retweeted_user_id       54 non-null     float64\n",
      " 13  retweeted_status_id     54 non-null     float64\n",
      " 14  created_at              639 non-null    object \n",
      " 15  entities.user_mentions  129 non-null    object \n",
      " 16  user.id                 639 non-null    int64  \n",
      " 17  user.screen_name        639 non-null    object \n",
      " 18  user.name               639 non-null    object \n",
      " 19  user.description        579 non-null    object \n",
      " 20  user.timezone           0 non-null      float64\n",
      " 21  user.location           629 non-null    object \n",
      " 22  user.num_followers      639 non-null    int64  \n",
      " 23  user.num_following      639 non-null    int64  \n",
      " 24  user.created_at         639 non-null    object \n",
      " 25  user.statuses_count     639 non-null    int64  \n",
      " 26  user.is_verified        639 non-null    bool   \n",
      " 27  lang                    639 non-null    object \n",
      " 28  token_count             639 non-null    int64  \n",
      " 29  is_retweet              639 non-null    bool   \n",
      " 30  has_quote               639 non-null    bool   \n",
      " 31  is_reply                639 non-null    bool   \n",
      " 32  contains_keywords       639 non-null    bool   \n",
      " 33  longitude               639 non-null    float64\n",
      " 34  latitude                639 non-null    float64\n",
      " 35  country_code            639 non-null    object \n",
      " 36  geoname_id              595 non-null    float64\n",
      " 37  location_type           639 non-null    object \n",
      " 38  geo_type                639 non-null    int64  \n",
      " 39  region                  639 non-null    object \n",
      " 40  subregion               639 non-null    object \n",
      " 41  num_quotes              639 non-null    int64  \n",
      " 42  num_replies             639 non-null    int64  \n",
      " 43  num_retweets            639 non-null    int64  \n",
      " 44  sent_gpt                639 non-null    object \n",
      " 45  gpt_sent_presence       639 non-null    int64  \n",
      " 46  cleaned_text_lem        639 non-null    object \n",
      " 47  cleaned_text            639 non-null    object \n",
      " 48  month                   639 non-null    int64  \n",
      " 49  year                    639 non-null    int64  \n",
      " 50  week                    639 non-null    int64  \n",
      " 51  year_month              639 non-null    object \n",
      " 52  year_week               639 non-null    object \n",
      "dtypes: bool(5), float64(11), int64(15), object(22)\n",
      "memory usage: 242.9+ KB\n"
     ]
    }
   ],
   "source": [
    "# Get monthly data\n",
    "df_2014_07_neg = pd.read_csv('../data/local/df_neg_2014-07.csv').reset_index()\n",
    "df_2014_07_neg.info()"
   ]
  },
  {
   "cell_type": "markdown",
   "id": "bdd1752b",
   "metadata": {},
   "source": [
    "### Representative sample based on week and location"
   ]
  },
  {
   "cell_type": "code",
   "execution_count": 95,
   "id": "e62e79b6",
   "metadata": {},
   "outputs": [
    {
     "data": {
      "text/html": [
       "<div>\n",
       "<style scoped>\n",
       "    .dataframe tbody tr th:only-of-type {\n",
       "        vertical-align: middle;\n",
       "    }\n",
       "\n",
       "    .dataframe tbody tr th {\n",
       "        vertical-align: top;\n",
       "    }\n",
       "\n",
       "    .dataframe thead th {\n",
       "        text-align: right;\n",
       "    }\n",
       "</style>\n",
       "<table border=\"1\" class=\"dataframe\">\n",
       "  <thead>\n",
       "    <tr style=\"text-align: right;\">\n",
       "      <th></th>\n",
       "      <th>year_week</th>\n",
       "      <th>LocationName</th>\n",
       "      <th>group_size</th>\n",
       "      <th>proportion</th>\n",
       "    </tr>\n",
       "  </thead>\n",
       "  <tbody>\n",
       "    <tr>\n",
       "      <th>0</th>\n",
       "      <td>2014-w26</td>\n",
       "      <td>Bahia</td>\n",
       "      <td>1</td>\n",
       "      <td>0.001565</td>\n",
       "    </tr>\n",
       "    <tr>\n",
       "      <th>1</th>\n",
       "      <td>2014-w26</td>\n",
       "      <td>Espirito Santo</td>\n",
       "      <td>3</td>\n",
       "      <td>0.004695</td>\n",
       "    </tr>\n",
       "    <tr>\n",
       "      <th>2</th>\n",
       "      <td>2014-w26</td>\n",
       "      <td>Minas Gerais</td>\n",
       "      <td>7</td>\n",
       "      <td>0.010955</td>\n",
       "    </tr>\n",
       "    <tr>\n",
       "      <th>3</th>\n",
       "      <td>2014-w26</td>\n",
       "      <td>Paraiba</td>\n",
       "      <td>2</td>\n",
       "      <td>0.003130</td>\n",
       "    </tr>\n",
       "    <tr>\n",
       "      <th>4</th>\n",
       "      <td>2014-w26</td>\n",
       "      <td>Parana</td>\n",
       "      <td>4</td>\n",
       "      <td>0.006260</td>\n",
       "    </tr>\n",
       "    <tr>\n",
       "      <th>...</th>\n",
       "      <td>...</td>\n",
       "      <td>...</td>\n",
       "      <td>...</td>\n",
       "      <td>...</td>\n",
       "    </tr>\n",
       "    <tr>\n",
       "      <th>93</th>\n",
       "      <td>2014-w31</td>\n",
       "      <td>Parana</td>\n",
       "      <td>2</td>\n",
       "      <td>0.003130</td>\n",
       "    </tr>\n",
       "    <tr>\n",
       "      <th>94</th>\n",
       "      <td>2014-w31</td>\n",
       "      <td>Piaui</td>\n",
       "      <td>1</td>\n",
       "      <td>0.001565</td>\n",
       "    </tr>\n",
       "    <tr>\n",
       "      <th>95</th>\n",
       "      <td>2014-w31</td>\n",
       "      <td>Rio Grande Do Sul</td>\n",
       "      <td>12</td>\n",
       "      <td>0.018779</td>\n",
       "    </tr>\n",
       "    <tr>\n",
       "      <th>96</th>\n",
       "      <td>2014-w31</td>\n",
       "      <td>Santa Catarina</td>\n",
       "      <td>10</td>\n",
       "      <td>0.015649</td>\n",
       "    </tr>\n",
       "    <tr>\n",
       "      <th>97</th>\n",
       "      <td>2014-w31</td>\n",
       "      <td>Sao Paulo</td>\n",
       "      <td>11</td>\n",
       "      <td>0.017214</td>\n",
       "    </tr>\n",
       "  </tbody>\n",
       "</table>\n",
       "<p>98 rows × 4 columns</p>\n",
       "</div>"
      ],
      "text/plain": [
       "   year_week       LocationName  group_size  proportion\n",
       "0   2014-w26              Bahia           1    0.001565\n",
       "1   2014-w26     Espirito Santo           3    0.004695\n",
       "2   2014-w26       Minas Gerais           7    0.010955\n",
       "3   2014-w26            Paraiba           2    0.003130\n",
       "4   2014-w26             Parana           4    0.006260\n",
       "..       ...                ...         ...         ...\n",
       "93  2014-w31             Parana           2    0.003130\n",
       "94  2014-w31              Piaui           1    0.001565\n",
       "95  2014-w31  Rio Grande Do Sul          12    0.018779\n",
       "96  2014-w31     Santa Catarina          10    0.015649\n",
       "97  2014-w31          Sao Paulo          11    0.017214\n",
       "\n",
       "[98 rows x 4 columns]"
      ]
     },
     "execution_count": 95,
     "metadata": {},
     "output_type": "execute_result"
    }
   ],
   "source": [
    "# Step 1: Calculate the size of each group (year_week, LocationName)\n",
    "group_sizes = df_2014_07_neg.groupby(['year_week', 'LocationName']).size().reset_index(name='group_size')\n",
    "\n",
    "# Step 2: Calculate the proportion of each group in the dataset\n",
    "total_rows = len(df_2014_07_neg)\n",
    "group_sizes['proportion'] = group_sizes['group_size'] / total_rows\n",
    "group_sizes"
   ]
  },
  {
   "cell_type": "code",
   "execution_count": 96,
   "id": "97b60716",
   "metadata": {},
   "outputs": [
    {
     "data": {
      "text/html": [
       "<div>\n",
       "<style scoped>\n",
       "    .dataframe tbody tr th:only-of-type {\n",
       "        vertical-align: middle;\n",
       "    }\n",
       "\n",
       "    .dataframe tbody tr th {\n",
       "        vertical-align: top;\n",
       "    }\n",
       "\n",
       "    .dataframe thead th {\n",
       "        text-align: right;\n",
       "    }\n",
       "</style>\n",
       "<table border=\"1\" class=\"dataframe\">\n",
       "  <thead>\n",
       "    <tr style=\"text-align: right;\">\n",
       "      <th></th>\n",
       "      <th>year_week</th>\n",
       "      <th>LocationName</th>\n",
       "      <th>group_size</th>\n",
       "      <th>proportion</th>\n",
       "      <th>sample_size</th>\n",
       "    </tr>\n",
       "  </thead>\n",
       "  <tbody>\n",
       "    <tr>\n",
       "      <th>0</th>\n",
       "      <td>2014-w26</td>\n",
       "      <td>Bahia</td>\n",
       "      <td>1</td>\n",
       "      <td>0.001565</td>\n",
       "      <td>3</td>\n",
       "    </tr>\n",
       "    <tr>\n",
       "      <th>1</th>\n",
       "      <td>2014-w26</td>\n",
       "      <td>Espirito Santo</td>\n",
       "      <td>3</td>\n",
       "      <td>0.004695</td>\n",
       "      <td>11</td>\n",
       "    </tr>\n",
       "    <tr>\n",
       "      <th>2</th>\n",
       "      <td>2014-w26</td>\n",
       "      <td>Minas Gerais</td>\n",
       "      <td>7</td>\n",
       "      <td>0.010955</td>\n",
       "      <td>26</td>\n",
       "    </tr>\n",
       "    <tr>\n",
       "      <th>3</th>\n",
       "      <td>2014-w26</td>\n",
       "      <td>Paraiba</td>\n",
       "      <td>2</td>\n",
       "      <td>0.003130</td>\n",
       "      <td>7</td>\n",
       "    </tr>\n",
       "    <tr>\n",
       "      <th>4</th>\n",
       "      <td>2014-w26</td>\n",
       "      <td>Parana</td>\n",
       "      <td>4</td>\n",
       "      <td>0.006260</td>\n",
       "      <td>15</td>\n",
       "    </tr>\n",
       "    <tr>\n",
       "      <th>...</th>\n",
       "      <td>...</td>\n",
       "      <td>...</td>\n",
       "      <td>...</td>\n",
       "      <td>...</td>\n",
       "      <td>...</td>\n",
       "    </tr>\n",
       "    <tr>\n",
       "      <th>93</th>\n",
       "      <td>2014-w31</td>\n",
       "      <td>Parana</td>\n",
       "      <td>2</td>\n",
       "      <td>0.003130</td>\n",
       "      <td>7</td>\n",
       "    </tr>\n",
       "    <tr>\n",
       "      <th>94</th>\n",
       "      <td>2014-w31</td>\n",
       "      <td>Piaui</td>\n",
       "      <td>1</td>\n",
       "      <td>0.001565</td>\n",
       "      <td>3</td>\n",
       "    </tr>\n",
       "    <tr>\n",
       "      <th>95</th>\n",
       "      <td>2014-w31</td>\n",
       "      <td>Rio Grande Do Sul</td>\n",
       "      <td>12</td>\n",
       "      <td>0.018779</td>\n",
       "      <td>46</td>\n",
       "    </tr>\n",
       "    <tr>\n",
       "      <th>96</th>\n",
       "      <td>2014-w31</td>\n",
       "      <td>Santa Catarina</td>\n",
       "      <td>10</td>\n",
       "      <td>0.015649</td>\n",
       "      <td>38</td>\n",
       "    </tr>\n",
       "    <tr>\n",
       "      <th>97</th>\n",
       "      <td>2014-w31</td>\n",
       "      <td>Sao Paulo</td>\n",
       "      <td>11</td>\n",
       "      <td>0.017214</td>\n",
       "      <td>42</td>\n",
       "    </tr>\n",
       "  </tbody>\n",
       "</table>\n",
       "<p>98 rows × 5 columns</p>\n",
       "</div>"
      ],
      "text/plain": [
       "   year_week       LocationName  group_size  proportion  sample_size\n",
       "0   2014-w26              Bahia           1    0.001565            3\n",
       "1   2014-w26     Espirito Santo           3    0.004695           11\n",
       "2   2014-w26       Minas Gerais           7    0.010955           26\n",
       "3   2014-w26            Paraiba           2    0.003130            7\n",
       "4   2014-w26             Parana           4    0.006260           15\n",
       "..       ...                ...         ...         ...          ...\n",
       "93  2014-w31             Parana           2    0.003130            7\n",
       "94  2014-w31              Piaui           1    0.001565            3\n",
       "95  2014-w31  Rio Grande Do Sul          12    0.018779           46\n",
       "96  2014-w31     Santa Catarina          10    0.015649           38\n",
       "97  2014-w31          Sao Paulo          11    0.017214           42\n",
       "\n",
       "[98 rows x 5 columns]"
      ]
     },
     "execution_count": 96,
     "metadata": {},
     "output_type": "execute_result"
    }
   ],
   "source": [
    "# Step 3: Define the target sample size\n",
    "target_sample_size = 2450\n",
    "\n",
    "# Step 4: Calculate the sample size for each group (based on its proportion)\n",
    "group_sizes['sample_size'] = np.floor(group_sizes['proportion'] * target_sample_size).astype(int)\n",
    "group_sizes"
   ]
  },
  {
   "cell_type": "code",
   "execution_count": 97,
   "id": "4c991d80",
   "metadata": {},
   "outputs": [],
   "source": [
    "# Step 5: Merge this sample size information back to the original DataFrame\n",
    "df_2014_07_neg_sample_size = pd.merge(df_2014_07_neg, group_sizes[['year_week', 'LocationName', 'sample_size']], \n",
    "                               on=['year_week', 'LocationName'], how='left')"
   ]
  },
  {
   "cell_type": "code",
   "execution_count": 98,
   "id": "deab4678",
   "metadata": {},
   "outputs": [
    {
     "name": "stdout",
     "output_type": "stream",
     "text": [
      "Sampled 639 rows.\n"
     ]
    }
   ],
   "source": [
    "# Step 6: Perform the stratified sampling\n",
    "#df_2014_07_neg_sample = df_2014_07_neg_sample_size.groupby(['year_week', 'LocationName']).apply(\n",
    "#    lambda group: group.sample(n=group['sample_size'].iloc[0], random_state=42)\n",
    "#).reset_index(drop=True)\n",
    "df_2014_07_neg_sample = df_2014_07_neg\n",
    "# Step 7: Check the result\n",
    "print(f\"Sampled {len(df_2014_07_neg_sample)} rows.\")\n"
   ]
  },
  {
   "cell_type": "code",
   "execution_count": 99,
   "id": "33656dea",
   "metadata": {},
   "outputs": [],
   "source": [
    "text_gpt_2014_07_neg = '\\n'.join(df_2014_07_neg_sample['text'].astype(str))"
   ]
  },
  {
   "cell_type": "markdown",
   "id": "92d7e0ea",
   "metadata": {},
   "source": [
    "### Prompts and loops"
   ]
  },
  {
   "cell_type": "code",
   "execution_count": 100,
   "id": "349334a9",
   "metadata": {},
   "outputs": [],
   "source": [
    "prompt_7 = prompt_raw.replace('TWEETS', text_gpt_2014_07_neg)"
   ]
  },
  {
   "cell_type": "code",
   "execution_count": 101,
   "id": "ff46a08b",
   "metadata": {
    "scrolled": false
   },
   "outputs": [],
   "source": [
    "response = openai.ChatCompletion.create(\n",
    "    model=\"gpt-4o-mini\",  \n",
    "    messages = [\n",
    "        {\"role\": \"user\", \"content\": prompt_7}\n",
    "    ],\n",
    "    max_tokens=400,  # Maximum number of tokens in the response\n",
    "    temperature=0.7  # Controls the randomness of the output\n",
    ")"
   ]
  },
  {
   "cell_type": "code",
   "execution_count": 102,
   "id": "6723c1d4",
   "metadata": {},
   "outputs": [
    {
     "data": {
      "text/plain": [
       "'The text discusses various experiences and opinions regarding vaccinations, particularly focusing on the flu vaccine and the HPV vaccine. Many individuals express discomfort, fear, or frustration about getting vaccinated, sharing reactions to side effects, and questioning the effectiveness of vaccines. There are also mentions of vaccination campaigns and public health issues related to vaccine availability.'"
      ]
     },
     "execution_count": 102,
     "metadata": {},
     "output_type": "execute_result"
    }
   ],
   "source": [
    "response.choices[0].message.content"
   ]
  },
  {
   "cell_type": "code",
   "execution_count": 103,
   "id": "d3081509",
   "metadata": {},
   "outputs": [],
   "source": [
    "#summary = []\n",
    "#dataset = []"
   ]
  },
  {
   "cell_type": "code",
   "execution_count": 104,
   "id": "1ba0dacb",
   "metadata": {},
   "outputs": [],
   "source": [
    "dataset.append(\"2014_07_negative\")"
   ]
  },
  {
   "cell_type": "code",
   "execution_count": 105,
   "id": "cadb0bde",
   "metadata": {},
   "outputs": [],
   "source": [
    "summary.append(response.choices[0].message.content)"
   ]
  },
  {
   "cell_type": "code",
   "execution_count": 106,
   "id": "b80e1e4e",
   "metadata": {
    "tags": []
   },
   "outputs": [
    {
     "name": "stdout",
     "output_type": "stream",
     "text": [
      "<class 'pandas.core.frame.DataFrame'>\n",
      "RangeIndex: 7 entries, 0 to 6\n",
      "Data columns (total 2 columns):\n",
      " #   Column   Non-Null Count  Dtype \n",
      "---  ------   --------------  ----- \n",
      " 0   dataset  7 non-null      object\n",
      " 1   summary  7 non-null      object\n",
      "dtypes: object(2)\n",
      "memory usage: 240.0+ bytes\n"
     ]
    }
   ],
   "source": [
    "df_2014_neg = pd.DataFrame(list(zip(dataset, summary)),\n",
    "                            columns = ['dataset', 'summary'])\n",
    "df_2014_neg.info()"
   ]
  },
  {
   "cell_type": "code",
   "execution_count": 107,
   "id": "de211f05",
   "metadata": {},
   "outputs": [
    {
     "data": {
      "text/html": [
       "<div>\n",
       "<style scoped>\n",
       "    .dataframe tbody tr th:only-of-type {\n",
       "        vertical-align: middle;\n",
       "    }\n",
       "\n",
       "    .dataframe tbody tr th {\n",
       "        vertical-align: top;\n",
       "    }\n",
       "\n",
       "    .dataframe thead th {\n",
       "        text-align: right;\n",
       "    }\n",
       "</style>\n",
       "<table border=\"1\" class=\"dataframe\">\n",
       "  <thead>\n",
       "    <tr style=\"text-align: right;\">\n",
       "      <th></th>\n",
       "      <th>dataset</th>\n",
       "      <th>summary</th>\n",
       "    </tr>\n",
       "  </thead>\n",
       "  <tbody>\n",
       "    <tr>\n",
       "      <th>0</th>\n",
       "      <td>2014_01_negitive</td>\n",
       "      <td>The sentences express various opinions and exp...</td>\n",
       "    </tr>\n",
       "    <tr>\n",
       "      <th>1</th>\n",
       "      <td>2014_02_negitive</td>\n",
       "      <td>The text discusses various opinions and experi...</td>\n",
       "    </tr>\n",
       "    <tr>\n",
       "      <th>2</th>\n",
       "      <td>2014_03_negitive</td>\n",
       "      <td>The text discusses the controversy surrounding...</td>\n",
       "    </tr>\n",
       "    <tr>\n",
       "      <th>3</th>\n",
       "      <td>2014_04_negitive</td>\n",
       "      <td>The sentences discuss various sentiments about...</td>\n",
       "    </tr>\n",
       "    <tr>\n",
       "      <th>4</th>\n",
       "      <td>2014_05_negitive</td>\n",
       "      <td>The text discusses various opinions and experi...</td>\n",
       "    </tr>\n",
       "    <tr>\n",
       "      <th>5</th>\n",
       "      <td>2014_06_negitive</td>\n",
       "      <td>The text discusses various public reactions an...</td>\n",
       "    </tr>\n",
       "    <tr>\n",
       "      <th>6</th>\n",
       "      <td>2014_07_negitive</td>\n",
       "      <td>The text discusses various experiences and opi...</td>\n",
       "    </tr>\n",
       "  </tbody>\n",
       "</table>\n",
       "</div>"
      ],
      "text/plain": [
       "            dataset                                            summary\n",
       "0  2014_01_negitive  The sentences express various opinions and exp...\n",
       "1  2014_02_negitive  The text discusses various opinions and experi...\n",
       "2  2014_03_negitive  The text discusses the controversy surrounding...\n",
       "3  2014_04_negitive  The sentences discuss various sentiments about...\n",
       "4  2014_05_negitive  The text discusses various opinions and experi...\n",
       "5  2014_06_negitive  The text discusses various public reactions an...\n",
       "6  2014_07_negitive  The text discusses various experiences and opi..."
      ]
     },
     "execution_count": 107,
     "metadata": {},
     "output_type": "execute_result"
    }
   ],
   "source": [
    "df_2014_neg.tail(14)"
   ]
  },
  {
   "cell_type": "code",
   "execution_count": 108,
   "id": "19075d74",
   "metadata": {},
   "outputs": [
    {
     "data": {
      "text/plain": [
       "<OpenAIObject chat.completion id=chatcmpl-AUdG8AAGgRV6FYHkszEhAVXWnxsto at 0x26c2be84770> JSON: {\n",
       "  \"choices\": [\n",
       "    {\n",
       "      \"finish_reason\": \"stop\",\n",
       "      \"index\": 0,\n",
       "      \"logprobs\": null,\n",
       "      \"message\": {\n",
       "        \"content\": \"The text discusses various experiences and opinions regarding vaccinations, particularly focusing on the flu vaccine and the HPV vaccine. Many individuals express discomfort, fear, or frustration about getting vaccinated, sharing reactions to side effects, and questioning the effectiveness of vaccines. There are also mentions of vaccination campaigns and public health issues related to vaccine availability.\",\n",
       "        \"refusal\": null,\n",
       "        \"role\": \"assistant\"\n",
       "      }\n",
       "    }\n",
       "  ],\n",
       "  \"created\": 1731864116,\n",
       "  \"id\": \"chatcmpl-AUdG8AAGgRV6FYHkszEhAVXWnxsto\",\n",
       "  \"model\": \"gpt-4o-mini-2024-07-18\",\n",
       "  \"object\": \"chat.completion\",\n",
       "  \"system_fingerprint\": \"fp_0ba0d124f1\",\n",
       "  \"usage\": {\n",
       "    \"completion_tokens\": 63,\n",
       "    \"completion_tokens_details\": {\n",
       "      \"accepted_prediction_tokens\": 0,\n",
       "      \"audio_tokens\": 0,\n",
       "      \"reasoning_tokens\": 0,\n",
       "      \"rejected_prediction_tokens\": 0\n",
       "    },\n",
       "    \"prompt_tokens\": 13065,\n",
       "    \"prompt_tokens_details\": {\n",
       "      \"audio_tokens\": 0,\n",
       "      \"cached_tokens\": 0\n",
       "    },\n",
       "    \"total_tokens\": 13128\n",
       "  }\n",
       "}"
      ]
     },
     "execution_count": 108,
     "metadata": {},
     "output_type": "execute_result"
    }
   ],
   "source": [
    "response"
   ]
  },
  {
   "cell_type": "markdown",
   "id": "9d083d2a",
   "metadata": {},
   "source": [
    "## August"
   ]
  },
  {
   "cell_type": "code",
   "execution_count": 109,
   "id": "0ed2a943",
   "metadata": {
    "scrolled": true,
    "tags": []
   },
   "outputs": [
    {
     "name": "stdout",
     "output_type": "stream",
     "text": [
      "<class 'pandas.core.frame.DataFrame'>\n",
      "RangeIndex: 672 entries, 0 to 671\n",
      "Data columns (total 53 columns):\n",
      " #   Column                  Non-Null Count  Dtype  \n",
      "---  ------                  --------------  -----  \n",
      " 0   index                   672 non-null    int64  \n",
      " 1   LocationCode            672 non-null    object \n",
      " 2   LocationName            672 non-null    object \n",
      " 3   StatesCode              672 non-null    object \n",
      " 4   ...4                    672 non-null    int64  \n",
      " 5   id                      672 non-null    float64\n",
      " 6   text                    672 non-null    object \n",
      " 7   label                   672 non-null    object \n",
      " 8   in_reply_to_status_id   60 non-null     float64\n",
      " 9   in_reply_to_user_id     70 non-null     float64\n",
      " 10  quoted_user_id          0 non-null      float64\n",
      " 11  quoted_status_id        0 non-null      float64\n",
      " 12  retweeted_user_id       109 non-null    float64\n",
      " 13  retweeted_status_id     109 non-null    float64\n",
      " 14  created_at              672 non-null    object \n",
      " 15  entities.user_mentions  191 non-null    object \n",
      " 16  user.id                 672 non-null    int64  \n",
      " 17  user.screen_name        672 non-null    object \n",
      " 18  user.name               671 non-null    object \n",
      " 19  user.description        599 non-null    object \n",
      " 20  user.timezone           0 non-null      float64\n",
      " 21  user.location           664 non-null    object \n",
      " 22  user.num_followers      672 non-null    int64  \n",
      " 23  user.num_following      672 non-null    int64  \n",
      " 24  user.created_at         672 non-null    object \n",
      " 25  user.statuses_count     672 non-null    int64  \n",
      " 26  user.is_verified        672 non-null    bool   \n",
      " 27  lang                    672 non-null    object \n",
      " 28  token_count             672 non-null    int64  \n",
      " 29  is_retweet              672 non-null    bool   \n",
      " 30  has_quote               672 non-null    bool   \n",
      " 31  is_reply                672 non-null    bool   \n",
      " 32  contains_keywords       672 non-null    bool   \n",
      " 33  longitude               672 non-null    float64\n",
      " 34  latitude                672 non-null    float64\n",
      " 35  country_code            672 non-null    object \n",
      " 36  geoname_id              640 non-null    float64\n",
      " 37  location_type           672 non-null    object \n",
      " 38  geo_type                672 non-null    int64  \n",
      " 39  region                  672 non-null    object \n",
      " 40  subregion               672 non-null    object \n",
      " 41  num_quotes              672 non-null    int64  \n",
      " 42  num_replies             672 non-null    int64  \n",
      " 43  num_retweets            672 non-null    int64  \n",
      " 44  sent_gpt                672 non-null    object \n",
      " 45  gpt_sent_presence       672 non-null    int64  \n",
      " 46  cleaned_text_lem        672 non-null    object \n",
      " 47  cleaned_text            672 non-null    object \n",
      " 48  month                   672 non-null    int64  \n",
      " 49  year                    672 non-null    int64  \n",
      " 50  week                    672 non-null    int64  \n",
      " 51  year_month              672 non-null    object \n",
      " 52  year_week               672 non-null    object \n",
      "dtypes: bool(5), float64(11), int64(15), object(22)\n",
      "memory usage: 255.4+ KB\n"
     ]
    }
   ],
   "source": [
    "# Get monthly data\n",
    "df_2014_08_neg = pd.read_csv('../data/local/df_neg_2014-08.csv').reset_index()\n",
    "df_2014_08_neg.info()"
   ]
  },
  {
   "cell_type": "markdown",
   "id": "3c035145",
   "metadata": {},
   "source": [
    "### Representative sample based on week and location"
   ]
  },
  {
   "cell_type": "code",
   "execution_count": 110,
   "id": "ebf072ee",
   "metadata": {},
   "outputs": [
    {
     "data": {
      "text/html": [
       "<div>\n",
       "<style scoped>\n",
       "    .dataframe tbody tr th:only-of-type {\n",
       "        vertical-align: middle;\n",
       "    }\n",
       "\n",
       "    .dataframe tbody tr th {\n",
       "        vertical-align: top;\n",
       "    }\n",
       "\n",
       "    .dataframe thead th {\n",
       "        text-align: right;\n",
       "    }\n",
       "</style>\n",
       "<table border=\"1\" class=\"dataframe\">\n",
       "  <thead>\n",
       "    <tr style=\"text-align: right;\">\n",
       "      <th></th>\n",
       "      <th>year_week</th>\n",
       "      <th>LocationName</th>\n",
       "      <th>group_size</th>\n",
       "      <th>proportion</th>\n",
       "    </tr>\n",
       "  </thead>\n",
       "  <tbody>\n",
       "    <tr>\n",
       "      <th>0</th>\n",
       "      <td>2014-w31</td>\n",
       "      <td>Alagoas</td>\n",
       "      <td>1</td>\n",
       "      <td>0.001488</td>\n",
       "    </tr>\n",
       "    <tr>\n",
       "      <th>1</th>\n",
       "      <td>2014-w31</td>\n",
       "      <td>Amazonas</td>\n",
       "      <td>3</td>\n",
       "      <td>0.004464</td>\n",
       "    </tr>\n",
       "    <tr>\n",
       "      <th>2</th>\n",
       "      <td>2014-w31</td>\n",
       "      <td>Bahia</td>\n",
       "      <td>3</td>\n",
       "      <td>0.004464</td>\n",
       "    </tr>\n",
       "    <tr>\n",
       "      <th>3</th>\n",
       "      <td>2014-w31</td>\n",
       "      <td>Ceara</td>\n",
       "      <td>1</td>\n",
       "      <td>0.001488</td>\n",
       "    </tr>\n",
       "    <tr>\n",
       "      <th>4</th>\n",
       "      <td>2014-w31</td>\n",
       "      <td>Distrito Federal</td>\n",
       "      <td>3</td>\n",
       "      <td>0.004464</td>\n",
       "    </tr>\n",
       "    <tr>\n",
       "      <th>...</th>\n",
       "      <td>...</td>\n",
       "      <td>...</td>\n",
       "      <td>...</td>\n",
       "      <td>...</td>\n",
       "    </tr>\n",
       "    <tr>\n",
       "      <th>80</th>\n",
       "      <td>2014-w35</td>\n",
       "      <td>Parana</td>\n",
       "      <td>5</td>\n",
       "      <td>0.007440</td>\n",
       "    </tr>\n",
       "    <tr>\n",
       "      <th>81</th>\n",
       "      <td>2014-w35</td>\n",
       "      <td>Pernambuco</td>\n",
       "      <td>2</td>\n",
       "      <td>0.002976</td>\n",
       "    </tr>\n",
       "    <tr>\n",
       "      <th>82</th>\n",
       "      <td>2014-w35</td>\n",
       "      <td>Rio Grande Do Sul</td>\n",
       "      <td>17</td>\n",
       "      <td>0.025298</td>\n",
       "    </tr>\n",
       "    <tr>\n",
       "      <th>83</th>\n",
       "      <td>2014-w35</td>\n",
       "      <td>Santa Catarina</td>\n",
       "      <td>1</td>\n",
       "      <td>0.001488</td>\n",
       "    </tr>\n",
       "    <tr>\n",
       "      <th>84</th>\n",
       "      <td>2014-w35</td>\n",
       "      <td>Sao Paulo</td>\n",
       "      <td>44</td>\n",
       "      <td>0.065476</td>\n",
       "    </tr>\n",
       "  </tbody>\n",
       "</table>\n",
       "<p>85 rows × 4 columns</p>\n",
       "</div>"
      ],
      "text/plain": [
       "   year_week       LocationName  group_size  proportion\n",
       "0   2014-w31            Alagoas           1    0.001488\n",
       "1   2014-w31           Amazonas           3    0.004464\n",
       "2   2014-w31              Bahia           3    0.004464\n",
       "3   2014-w31              Ceara           1    0.001488\n",
       "4   2014-w31   Distrito Federal           3    0.004464\n",
       "..       ...                ...         ...         ...\n",
       "80  2014-w35             Parana           5    0.007440\n",
       "81  2014-w35         Pernambuco           2    0.002976\n",
       "82  2014-w35  Rio Grande Do Sul          17    0.025298\n",
       "83  2014-w35     Santa Catarina           1    0.001488\n",
       "84  2014-w35          Sao Paulo          44    0.065476\n",
       "\n",
       "[85 rows x 4 columns]"
      ]
     },
     "execution_count": 110,
     "metadata": {},
     "output_type": "execute_result"
    }
   ],
   "source": [
    "# Step 1: Calculate the size of each group (year_week, LocationName)\n",
    "group_sizes = df_2014_08_neg.groupby(['year_week', 'LocationName']).size().reset_index(name='group_size')\n",
    "\n",
    "# Step 2: Calculate the proportion of each group in the dataset\n",
    "total_rows = len(df_2014_08_neg)\n",
    "group_sizes['proportion'] = group_sizes['group_size'] / total_rows\n",
    "group_sizes"
   ]
  },
  {
   "cell_type": "code",
   "execution_count": 111,
   "id": "c3bc6232",
   "metadata": {},
   "outputs": [
    {
     "data": {
      "text/html": [
       "<div>\n",
       "<style scoped>\n",
       "    .dataframe tbody tr th:only-of-type {\n",
       "        vertical-align: middle;\n",
       "    }\n",
       "\n",
       "    .dataframe tbody tr th {\n",
       "        vertical-align: top;\n",
       "    }\n",
       "\n",
       "    .dataframe thead th {\n",
       "        text-align: right;\n",
       "    }\n",
       "</style>\n",
       "<table border=\"1\" class=\"dataframe\">\n",
       "  <thead>\n",
       "    <tr style=\"text-align: right;\">\n",
       "      <th></th>\n",
       "      <th>year_week</th>\n",
       "      <th>LocationName</th>\n",
       "      <th>group_size</th>\n",
       "      <th>proportion</th>\n",
       "      <th>sample_size</th>\n",
       "    </tr>\n",
       "  </thead>\n",
       "  <tbody>\n",
       "    <tr>\n",
       "      <th>0</th>\n",
       "      <td>2014-w31</td>\n",
       "      <td>Alagoas</td>\n",
       "      <td>1</td>\n",
       "      <td>0.001488</td>\n",
       "      <td>3</td>\n",
       "    </tr>\n",
       "    <tr>\n",
       "      <th>1</th>\n",
       "      <td>2014-w31</td>\n",
       "      <td>Amazonas</td>\n",
       "      <td>3</td>\n",
       "      <td>0.004464</td>\n",
       "      <td>10</td>\n",
       "    </tr>\n",
       "    <tr>\n",
       "      <th>2</th>\n",
       "      <td>2014-w31</td>\n",
       "      <td>Bahia</td>\n",
       "      <td>3</td>\n",
       "      <td>0.004464</td>\n",
       "      <td>10</td>\n",
       "    </tr>\n",
       "    <tr>\n",
       "      <th>3</th>\n",
       "      <td>2014-w31</td>\n",
       "      <td>Ceara</td>\n",
       "      <td>1</td>\n",
       "      <td>0.001488</td>\n",
       "      <td>3</td>\n",
       "    </tr>\n",
       "    <tr>\n",
       "      <th>4</th>\n",
       "      <td>2014-w31</td>\n",
       "      <td>Distrito Federal</td>\n",
       "      <td>3</td>\n",
       "      <td>0.004464</td>\n",
       "      <td>10</td>\n",
       "    </tr>\n",
       "    <tr>\n",
       "      <th>...</th>\n",
       "      <td>...</td>\n",
       "      <td>...</td>\n",
       "      <td>...</td>\n",
       "      <td>...</td>\n",
       "      <td>...</td>\n",
       "    </tr>\n",
       "    <tr>\n",
       "      <th>80</th>\n",
       "      <td>2014-w35</td>\n",
       "      <td>Parana</td>\n",
       "      <td>5</td>\n",
       "      <td>0.007440</td>\n",
       "      <td>18</td>\n",
       "    </tr>\n",
       "    <tr>\n",
       "      <th>81</th>\n",
       "      <td>2014-w35</td>\n",
       "      <td>Pernambuco</td>\n",
       "      <td>2</td>\n",
       "      <td>0.002976</td>\n",
       "      <td>7</td>\n",
       "    </tr>\n",
       "    <tr>\n",
       "      <th>82</th>\n",
       "      <td>2014-w35</td>\n",
       "      <td>Rio Grande Do Sul</td>\n",
       "      <td>17</td>\n",
       "      <td>0.025298</td>\n",
       "      <td>61</td>\n",
       "    </tr>\n",
       "    <tr>\n",
       "      <th>83</th>\n",
       "      <td>2014-w35</td>\n",
       "      <td>Santa Catarina</td>\n",
       "      <td>1</td>\n",
       "      <td>0.001488</td>\n",
       "      <td>3</td>\n",
       "    </tr>\n",
       "    <tr>\n",
       "      <th>84</th>\n",
       "      <td>2014-w35</td>\n",
       "      <td>Sao Paulo</td>\n",
       "      <td>44</td>\n",
       "      <td>0.065476</td>\n",
       "      <td>160</td>\n",
       "    </tr>\n",
       "  </tbody>\n",
       "</table>\n",
       "<p>85 rows × 5 columns</p>\n",
       "</div>"
      ],
      "text/plain": [
       "   year_week       LocationName  group_size  proportion  sample_size\n",
       "0   2014-w31            Alagoas           1    0.001488            3\n",
       "1   2014-w31           Amazonas           3    0.004464           10\n",
       "2   2014-w31              Bahia           3    0.004464           10\n",
       "3   2014-w31              Ceara           1    0.001488            3\n",
       "4   2014-w31   Distrito Federal           3    0.004464           10\n",
       "..       ...                ...         ...         ...          ...\n",
       "80  2014-w35             Parana           5    0.007440           18\n",
       "81  2014-w35         Pernambuco           2    0.002976            7\n",
       "82  2014-w35  Rio Grande Do Sul          17    0.025298           61\n",
       "83  2014-w35     Santa Catarina           1    0.001488            3\n",
       "84  2014-w35          Sao Paulo          44    0.065476          160\n",
       "\n",
       "[85 rows x 5 columns]"
      ]
     },
     "execution_count": 111,
     "metadata": {},
     "output_type": "execute_result"
    }
   ],
   "source": [
    "# Step 3: Define the target sample size\n",
    "target_sample_size = 2450\n",
    "\n",
    "# Step 4: Calculate the sample size for each group (based on its proportion)\n",
    "group_sizes['sample_size'] = np.floor(group_sizes['proportion'] * target_sample_size).astype(int)\n",
    "group_sizes"
   ]
  },
  {
   "cell_type": "code",
   "execution_count": 112,
   "id": "2f55ef03",
   "metadata": {},
   "outputs": [],
   "source": [
    "# Step 5: Merge this sample size information back to the original DataFrame\n",
    "df_2014_08_neg_sample_size = pd.merge(df_2014_08_neg, group_sizes[['year_week', 'LocationName', 'sample_size']], \n",
    "                               on=['year_week', 'LocationName'], how='left')"
   ]
  },
  {
   "cell_type": "code",
   "execution_count": 113,
   "id": "2aa2083a",
   "metadata": {},
   "outputs": [
    {
     "name": "stdout",
     "output_type": "stream",
     "text": [
      "Sampled 672 rows.\n"
     ]
    }
   ],
   "source": [
    "# Step 6: Perform the stratified sampling\n",
    "#df_2014_08_neg_sample = df_2014_08_neg_sample_size.groupby(['year_week', 'LocationName']).apply(\n",
    " #   lambda group: group.sample(n=group['sample_size'].iloc[0], random_state=42)\n",
    "#).reset_index(drop=True)\n",
    "df_2014_08_neg_sample = df_2014_08_neg\n",
    "# Step 7: Check the result\n",
    "print(f\"Sampled {len(df_2014_08_neg_sample)} rows.\")\n"
   ]
  },
  {
   "cell_type": "code",
   "execution_count": 114,
   "id": "3eb70c20",
   "metadata": {},
   "outputs": [],
   "source": [
    "text_gpt_2014_08_neg = '\\n'.join(df_2014_08_neg_sample['text'].astype(str))"
   ]
  },
  {
   "cell_type": "markdown",
   "id": "20c12a08",
   "metadata": {},
   "source": [
    "### Prompts and loops"
   ]
  },
  {
   "cell_type": "code",
   "execution_count": 115,
   "id": "6cbedf14",
   "metadata": {},
   "outputs": [],
   "source": [
    "prompt_8 = prompt_raw.replace('TWEETS', text_gpt_2014_08_neg)"
   ]
  },
  {
   "cell_type": "code",
   "execution_count": 116,
   "id": "6312a680",
   "metadata": {
    "scrolled": false
   },
   "outputs": [],
   "source": [
    "response = openai.ChatCompletion.create(\n",
    "    model=\"gpt-4o-mini\",  \n",
    "    messages = [\n",
    "        {\"role\": \"user\", \"content\": prompt_8}\n",
    "    ],\n",
    "    max_tokens=400,  # Maximum number of tokens in the response\n",
    "    temperature=0.7  # Controls the randomness of the output\n",
    ")"
   ]
  },
  {
   "cell_type": "code",
   "execution_count": 117,
   "id": "1af4a697",
   "metadata": {},
   "outputs": [
    {
     "data": {
      "text/plain": [
       "'The text discusses various experiences and opinions about vaccinations, including personal pain and discomfort after receiving vaccines, criticism of vaccine availability in certain regions, and disparities in vaccine development for diseases affecting different populations. It highlights frustrations with mandatory vaccinations and the perceived ineffectiveness of some vaccines, especially in relation to diseases like Ebola and the flu.'"
      ]
     },
     "execution_count": 117,
     "metadata": {},
     "output_type": "execute_result"
    }
   ],
   "source": [
    "response.choices[0].message.content"
   ]
  },
  {
   "cell_type": "code",
   "execution_count": 118,
   "id": "c2df0aba",
   "metadata": {},
   "outputs": [],
   "source": [
    "#summary = []\n",
    "#dataset = []"
   ]
  },
  {
   "cell_type": "code",
   "execution_count": 119,
   "id": "9714a127",
   "metadata": {},
   "outputs": [],
   "source": [
    "dataset.append(\"2014_08_negative\")"
   ]
  },
  {
   "cell_type": "code",
   "execution_count": 120,
   "id": "7118fbc6",
   "metadata": {},
   "outputs": [],
   "source": [
    "summary.append(response.choices[0].message.content)"
   ]
  },
  {
   "cell_type": "code",
   "execution_count": 121,
   "id": "626416cc",
   "metadata": {
    "tags": []
   },
   "outputs": [
    {
     "name": "stdout",
     "output_type": "stream",
     "text": [
      "<class 'pandas.core.frame.DataFrame'>\n",
      "RangeIndex: 8 entries, 0 to 7\n",
      "Data columns (total 2 columns):\n",
      " #   Column   Non-Null Count  Dtype \n",
      "---  ------   --------------  ----- \n",
      " 0   dataset  8 non-null      object\n",
      " 1   summary  8 non-null      object\n",
      "dtypes: object(2)\n",
      "memory usage: 256.0+ bytes\n"
     ]
    }
   ],
   "source": [
    "df_2014_neg = pd.DataFrame(list(zip(dataset, summary)),\n",
    "                            columns = ['dataset', 'summary'])\n",
    "df_2014_neg.info()"
   ]
  },
  {
   "cell_type": "code",
   "execution_count": 122,
   "id": "c9811a57",
   "metadata": {},
   "outputs": [
    {
     "data": {
      "text/html": [
       "<div>\n",
       "<style scoped>\n",
       "    .dataframe tbody tr th:only-of-type {\n",
       "        vertical-align: middle;\n",
       "    }\n",
       "\n",
       "    .dataframe tbody tr th {\n",
       "        vertical-align: top;\n",
       "    }\n",
       "\n",
       "    .dataframe thead th {\n",
       "        text-align: right;\n",
       "    }\n",
       "</style>\n",
       "<table border=\"1\" class=\"dataframe\">\n",
       "  <thead>\n",
       "    <tr style=\"text-align: right;\">\n",
       "      <th></th>\n",
       "      <th>dataset</th>\n",
       "      <th>summary</th>\n",
       "    </tr>\n",
       "  </thead>\n",
       "  <tbody>\n",
       "    <tr>\n",
       "      <th>0</th>\n",
       "      <td>2014_01_negitive</td>\n",
       "      <td>The sentences express various opinions and exp...</td>\n",
       "    </tr>\n",
       "    <tr>\n",
       "      <th>1</th>\n",
       "      <td>2014_02_negitive</td>\n",
       "      <td>The text discusses various opinions and experi...</td>\n",
       "    </tr>\n",
       "    <tr>\n",
       "      <th>2</th>\n",
       "      <td>2014_03_negitive</td>\n",
       "      <td>The text discusses the controversy surrounding...</td>\n",
       "    </tr>\n",
       "    <tr>\n",
       "      <th>3</th>\n",
       "      <td>2014_04_negitive</td>\n",
       "      <td>The sentences discuss various sentiments about...</td>\n",
       "    </tr>\n",
       "    <tr>\n",
       "      <th>4</th>\n",
       "      <td>2014_05_negitive</td>\n",
       "      <td>The text discusses various opinions and experi...</td>\n",
       "    </tr>\n",
       "    <tr>\n",
       "      <th>5</th>\n",
       "      <td>2014_06_negitive</td>\n",
       "      <td>The text discusses various public reactions an...</td>\n",
       "    </tr>\n",
       "    <tr>\n",
       "      <th>6</th>\n",
       "      <td>2014_07_negitive</td>\n",
       "      <td>The text discusses various experiences and opi...</td>\n",
       "    </tr>\n",
       "    <tr>\n",
       "      <th>7</th>\n",
       "      <td>2014_08_negitive</td>\n",
       "      <td>The text discusses various experiences and opi...</td>\n",
       "    </tr>\n",
       "  </tbody>\n",
       "</table>\n",
       "</div>"
      ],
      "text/plain": [
       "            dataset                                            summary\n",
       "0  2014_01_negitive  The sentences express various opinions and exp...\n",
       "1  2014_02_negitive  The text discusses various opinions and experi...\n",
       "2  2014_03_negitive  The text discusses the controversy surrounding...\n",
       "3  2014_04_negitive  The sentences discuss various sentiments about...\n",
       "4  2014_05_negitive  The text discusses various opinions and experi...\n",
       "5  2014_06_negitive  The text discusses various public reactions an...\n",
       "6  2014_07_negitive  The text discusses various experiences and opi...\n",
       "7  2014_08_negitive  The text discusses various experiences and opi..."
      ]
     },
     "execution_count": 122,
     "metadata": {},
     "output_type": "execute_result"
    }
   ],
   "source": [
    "df_2014_neg.tail(14)"
   ]
  },
  {
   "cell_type": "code",
   "execution_count": 123,
   "id": "cd10153f",
   "metadata": {},
   "outputs": [
    {
     "data": {
      "text/plain": [
       "<OpenAIObject chat.completion id=chatcmpl-AUdGBOcyLL01x8v0xWvkgLIUvWouE at 0x26c2d0e1f90> JSON: {\n",
       "  \"choices\": [\n",
       "    {\n",
       "      \"finish_reason\": \"stop\",\n",
       "      \"index\": 0,\n",
       "      \"logprobs\": null,\n",
       "      \"message\": {\n",
       "        \"content\": \"The text discusses various experiences and opinions about vaccinations, including personal pain and discomfort after receiving vaccines, criticism of vaccine availability in certain regions, and disparities in vaccine development for diseases affecting different populations. It highlights frustrations with mandatory vaccinations and the perceived ineffectiveness of some vaccines, especially in relation to diseases like Ebola and the flu.\",\n",
       "        \"refusal\": null,\n",
       "        \"role\": \"assistant\"\n",
       "      }\n",
       "    }\n",
       "  ],\n",
       "  \"created\": 1731864119,\n",
       "  \"id\": \"chatcmpl-AUdGBOcyLL01x8v0xWvkgLIUvWouE\",\n",
       "  \"model\": \"gpt-4o-mini-2024-07-18\",\n",
       "  \"object\": \"chat.completion\",\n",
       "  \"system_fingerprint\": \"fp_9b78b61c52\",\n",
       "  \"usage\": {\n",
       "    \"completion_tokens\": 65,\n",
       "    \"completion_tokens_details\": {\n",
       "      \"accepted_prediction_tokens\": 0,\n",
       "      \"audio_tokens\": 0,\n",
       "      \"reasoning_tokens\": 0,\n",
       "      \"rejected_prediction_tokens\": 0\n",
       "    },\n",
       "    \"prompt_tokens\": 13894,\n",
       "    \"prompt_tokens_details\": {\n",
       "      \"audio_tokens\": 0,\n",
       "      \"cached_tokens\": 0\n",
       "    },\n",
       "    \"total_tokens\": 13959\n",
       "  }\n",
       "}"
      ]
     },
     "execution_count": 123,
     "metadata": {},
     "output_type": "execute_result"
    }
   ],
   "source": [
    "response"
   ]
  },
  {
   "cell_type": "markdown",
   "id": "1a0c859d",
   "metadata": {},
   "source": [
    "## September"
   ]
  },
  {
   "cell_type": "code",
   "execution_count": 124,
   "id": "46970275",
   "metadata": {
    "scrolled": true,
    "tags": []
   },
   "outputs": [
    {
     "name": "stdout",
     "output_type": "stream",
     "text": [
      "<class 'pandas.core.frame.DataFrame'>\n",
      "RangeIndex: 1917 entries, 0 to 1916\n",
      "Data columns (total 53 columns):\n",
      " #   Column                  Non-Null Count  Dtype  \n",
      "---  ------                  --------------  -----  \n",
      " 0   index                   1917 non-null   int64  \n",
      " 1   LocationCode            1917 non-null   object \n",
      " 2   LocationName            1917 non-null   object \n",
      " 3   StatesCode              1917 non-null   object \n",
      " 4   ...4                    1917 non-null   int64  \n",
      " 5   id                      1917 non-null   float64\n",
      " 6   text                    1917 non-null   object \n",
      " 7   label                   1917 non-null   object \n",
      " 8   in_reply_to_status_id   120 non-null    float64\n",
      " 9   in_reply_to_user_id     129 non-null    float64\n",
      " 10  quoted_user_id          0 non-null      float64\n",
      " 11  quoted_status_id        0 non-null      float64\n",
      " 12  retweeted_user_id       389 non-null    float64\n",
      " 13  retweeted_status_id     389 non-null    float64\n",
      " 14  created_at              1917 non-null   object \n",
      " 15  entities.user_mentions  584 non-null    object \n",
      " 16  user.id                 1917 non-null   int64  \n",
      " 17  user.screen_name        1917 non-null   object \n",
      " 18  user.name               1917 non-null   object \n",
      " 19  user.description        1682 non-null   object \n",
      " 20  user.timezone           0 non-null      float64\n",
      " 21  user.location           1888 non-null   object \n",
      " 22  user.num_followers      1917 non-null   int64  \n",
      " 23  user.num_following      1917 non-null   int64  \n",
      " 24  user.created_at         1917 non-null   object \n",
      " 25  user.statuses_count     1917 non-null   int64  \n",
      " 26  user.is_verified        1917 non-null   bool   \n",
      " 27  lang                    1917 non-null   object \n",
      " 28  token_count             1917 non-null   int64  \n",
      " 29  is_retweet              1917 non-null   bool   \n",
      " 30  has_quote               1917 non-null   bool   \n",
      " 31  is_reply                1917 non-null   bool   \n",
      " 32  contains_keywords       1917 non-null   bool   \n",
      " 33  longitude               1917 non-null   float64\n",
      " 34  latitude                1917 non-null   float64\n",
      " 35  country_code            1917 non-null   object \n",
      " 36  geoname_id              1811 non-null   float64\n",
      " 37  location_type           1917 non-null   object \n",
      " 38  geo_type                1917 non-null   int64  \n",
      " 39  region                  1917 non-null   object \n",
      " 40  subregion               1917 non-null   object \n",
      " 41  num_quotes              1917 non-null   int64  \n",
      " 42  num_replies             1917 non-null   int64  \n",
      " 43  num_retweets            1917 non-null   int64  \n",
      " 44  sent_gpt                1917 non-null   object \n",
      " 45  gpt_sent_presence       1917 non-null   int64  \n",
      " 46  cleaned_text_lem        1917 non-null   object \n",
      " 47  cleaned_text            1917 non-null   object \n",
      " 48  month                   1917 non-null   int64  \n",
      " 49  year                    1917 non-null   int64  \n",
      " 50  week                    1917 non-null   int64  \n",
      " 51  year_month              1917 non-null   object \n",
      " 52  year_week               1917 non-null   object \n",
      "dtypes: bool(5), float64(11), int64(15), object(22)\n",
      "memory usage: 728.4+ KB\n"
     ]
    }
   ],
   "source": [
    "# Get monthly data\n",
    "df_2014_09_neg = pd.read_csv('../data/local/df_neg_2014-09.csv').reset_index()\n",
    "df_2014_09_neg.info()"
   ]
  },
  {
   "cell_type": "markdown",
   "id": "6d6d95b1",
   "metadata": {},
   "source": [
    "### Representative sample based on week and location"
   ]
  },
  {
   "cell_type": "code",
   "execution_count": 125,
   "id": "1c64358d",
   "metadata": {},
   "outputs": [
    {
     "data": {
      "text/html": [
       "<div>\n",
       "<style scoped>\n",
       "    .dataframe tbody tr th:only-of-type {\n",
       "        vertical-align: middle;\n",
       "    }\n",
       "\n",
       "    .dataframe tbody tr th {\n",
       "        vertical-align: top;\n",
       "    }\n",
       "\n",
       "    .dataframe thead th {\n",
       "        text-align: right;\n",
       "    }\n",
       "</style>\n",
       "<table border=\"1\" class=\"dataframe\">\n",
       "  <thead>\n",
       "    <tr style=\"text-align: right;\">\n",
       "      <th></th>\n",
       "      <th>year_week</th>\n",
       "      <th>LocationName</th>\n",
       "      <th>group_size</th>\n",
       "      <th>proportion</th>\n",
       "    </tr>\n",
       "  </thead>\n",
       "  <tbody>\n",
       "    <tr>\n",
       "      <th>0</th>\n",
       "      <td>2014-w35</td>\n",
       "      <td>Alagoas</td>\n",
       "      <td>1</td>\n",
       "      <td>0.000522</td>\n",
       "    </tr>\n",
       "    <tr>\n",
       "      <th>1</th>\n",
       "      <td>2014-w35</td>\n",
       "      <td>Amazonas</td>\n",
       "      <td>2</td>\n",
       "      <td>0.001043</td>\n",
       "    </tr>\n",
       "    <tr>\n",
       "      <th>2</th>\n",
       "      <td>2014-w35</td>\n",
       "      <td>Bahia</td>\n",
       "      <td>4</td>\n",
       "      <td>0.002087</td>\n",
       "    </tr>\n",
       "    <tr>\n",
       "      <th>3</th>\n",
       "      <td>2014-w35</td>\n",
       "      <td>Ceara</td>\n",
       "      <td>5</td>\n",
       "      <td>0.002608</td>\n",
       "    </tr>\n",
       "    <tr>\n",
       "      <th>4</th>\n",
       "      <td>2014-w35</td>\n",
       "      <td>Espirito Santo</td>\n",
       "      <td>3</td>\n",
       "      <td>0.001565</td>\n",
       "    </tr>\n",
       "    <tr>\n",
       "      <th>...</th>\n",
       "      <td>...</td>\n",
       "      <td>...</td>\n",
       "      <td>...</td>\n",
       "      <td>...</td>\n",
       "    </tr>\n",
       "    <tr>\n",
       "      <th>100</th>\n",
       "      <td>2014-w39</td>\n",
       "      <td>Pernambuco</td>\n",
       "      <td>7</td>\n",
       "      <td>0.003652</td>\n",
       "    </tr>\n",
       "    <tr>\n",
       "      <th>101</th>\n",
       "      <td>2014-w39</td>\n",
       "      <td>Rio Grande Do Sul</td>\n",
       "      <td>50</td>\n",
       "      <td>0.026082</td>\n",
       "    </tr>\n",
       "    <tr>\n",
       "      <th>102</th>\n",
       "      <td>2014-w39</td>\n",
       "      <td>Santa Catarina</td>\n",
       "      <td>9</td>\n",
       "      <td>0.004695</td>\n",
       "    </tr>\n",
       "    <tr>\n",
       "      <th>103</th>\n",
       "      <td>2014-w39</td>\n",
       "      <td>Sao Paulo</td>\n",
       "      <td>46</td>\n",
       "      <td>0.023996</td>\n",
       "    </tr>\n",
       "    <tr>\n",
       "      <th>104</th>\n",
       "      <td>2014-w39</td>\n",
       "      <td>Tocantins</td>\n",
       "      <td>1</td>\n",
       "      <td>0.000522</td>\n",
       "    </tr>\n",
       "  </tbody>\n",
       "</table>\n",
       "<p>105 rows × 4 columns</p>\n",
       "</div>"
      ],
      "text/plain": [
       "    year_week       LocationName  group_size  proportion\n",
       "0    2014-w35            Alagoas           1    0.000522\n",
       "1    2014-w35           Amazonas           2    0.001043\n",
       "2    2014-w35              Bahia           4    0.002087\n",
       "3    2014-w35              Ceara           5    0.002608\n",
       "4    2014-w35     Espirito Santo           3    0.001565\n",
       "..        ...                ...         ...         ...\n",
       "100  2014-w39         Pernambuco           7    0.003652\n",
       "101  2014-w39  Rio Grande Do Sul          50    0.026082\n",
       "102  2014-w39     Santa Catarina           9    0.004695\n",
       "103  2014-w39          Sao Paulo          46    0.023996\n",
       "104  2014-w39          Tocantins           1    0.000522\n",
       "\n",
       "[105 rows x 4 columns]"
      ]
     },
     "execution_count": 125,
     "metadata": {},
     "output_type": "execute_result"
    }
   ],
   "source": [
    "# Step 1: Calculate the size of each group (year_week, LocationName)\n",
    "group_sizes = df_2014_09_neg.groupby(['year_week', 'LocationName']).size().reset_index(name='group_size')\n",
    "\n",
    "# Step 2: Calculate the proportion of each group in the dataset\n",
    "total_rows = len(df_2014_09_neg)\n",
    "group_sizes['proportion'] = group_sizes['group_size'] / total_rows\n",
    "group_sizes"
   ]
  },
  {
   "cell_type": "code",
   "execution_count": 126,
   "id": "0f70bf42",
   "metadata": {},
   "outputs": [
    {
     "data": {
      "text/html": [
       "<div>\n",
       "<style scoped>\n",
       "    .dataframe tbody tr th:only-of-type {\n",
       "        vertical-align: middle;\n",
       "    }\n",
       "\n",
       "    .dataframe tbody tr th {\n",
       "        vertical-align: top;\n",
       "    }\n",
       "\n",
       "    .dataframe thead th {\n",
       "        text-align: right;\n",
       "    }\n",
       "</style>\n",
       "<table border=\"1\" class=\"dataframe\">\n",
       "  <thead>\n",
       "    <tr style=\"text-align: right;\">\n",
       "      <th></th>\n",
       "      <th>year_week</th>\n",
       "      <th>LocationName</th>\n",
       "      <th>group_size</th>\n",
       "      <th>proportion</th>\n",
       "      <th>sample_size</th>\n",
       "    </tr>\n",
       "  </thead>\n",
       "  <tbody>\n",
       "    <tr>\n",
       "      <th>0</th>\n",
       "      <td>2014-w35</td>\n",
       "      <td>Alagoas</td>\n",
       "      <td>1</td>\n",
       "      <td>0.000522</td>\n",
       "      <td>1</td>\n",
       "    </tr>\n",
       "    <tr>\n",
       "      <th>1</th>\n",
       "      <td>2014-w35</td>\n",
       "      <td>Amazonas</td>\n",
       "      <td>2</td>\n",
       "      <td>0.001043</td>\n",
       "      <td>2</td>\n",
       "    </tr>\n",
       "    <tr>\n",
       "      <th>2</th>\n",
       "      <td>2014-w35</td>\n",
       "      <td>Bahia</td>\n",
       "      <td>4</td>\n",
       "      <td>0.002087</td>\n",
       "      <td>5</td>\n",
       "    </tr>\n",
       "    <tr>\n",
       "      <th>3</th>\n",
       "      <td>2014-w35</td>\n",
       "      <td>Ceara</td>\n",
       "      <td>5</td>\n",
       "      <td>0.002608</td>\n",
       "      <td>6</td>\n",
       "    </tr>\n",
       "    <tr>\n",
       "      <th>4</th>\n",
       "      <td>2014-w35</td>\n",
       "      <td>Espirito Santo</td>\n",
       "      <td>3</td>\n",
       "      <td>0.001565</td>\n",
       "      <td>3</td>\n",
       "    </tr>\n",
       "    <tr>\n",
       "      <th>...</th>\n",
       "      <td>...</td>\n",
       "      <td>...</td>\n",
       "      <td>...</td>\n",
       "      <td>...</td>\n",
       "      <td>...</td>\n",
       "    </tr>\n",
       "    <tr>\n",
       "      <th>100</th>\n",
       "      <td>2014-w39</td>\n",
       "      <td>Pernambuco</td>\n",
       "      <td>7</td>\n",
       "      <td>0.003652</td>\n",
       "      <td>8</td>\n",
       "    </tr>\n",
       "    <tr>\n",
       "      <th>101</th>\n",
       "      <td>2014-w39</td>\n",
       "      <td>Rio Grande Do Sul</td>\n",
       "      <td>50</td>\n",
       "      <td>0.026082</td>\n",
       "      <td>63</td>\n",
       "    </tr>\n",
       "    <tr>\n",
       "      <th>102</th>\n",
       "      <td>2014-w39</td>\n",
       "      <td>Santa Catarina</td>\n",
       "      <td>9</td>\n",
       "      <td>0.004695</td>\n",
       "      <td>11</td>\n",
       "    </tr>\n",
       "    <tr>\n",
       "      <th>103</th>\n",
       "      <td>2014-w39</td>\n",
       "      <td>Sao Paulo</td>\n",
       "      <td>46</td>\n",
       "      <td>0.023996</td>\n",
       "      <td>58</td>\n",
       "    </tr>\n",
       "    <tr>\n",
       "      <th>104</th>\n",
       "      <td>2014-w39</td>\n",
       "      <td>Tocantins</td>\n",
       "      <td>1</td>\n",
       "      <td>0.000522</td>\n",
       "      <td>1</td>\n",
       "    </tr>\n",
       "  </tbody>\n",
       "</table>\n",
       "<p>105 rows × 5 columns</p>\n",
       "</div>"
      ],
      "text/plain": [
       "    year_week       LocationName  group_size  proportion  sample_size\n",
       "0    2014-w35            Alagoas           1    0.000522            1\n",
       "1    2014-w35           Amazonas           2    0.001043            2\n",
       "2    2014-w35              Bahia           4    0.002087            5\n",
       "3    2014-w35              Ceara           5    0.002608            6\n",
       "4    2014-w35     Espirito Santo           3    0.001565            3\n",
       "..        ...                ...         ...         ...          ...\n",
       "100  2014-w39         Pernambuco           7    0.003652            8\n",
       "101  2014-w39  Rio Grande Do Sul          50    0.026082           63\n",
       "102  2014-w39     Santa Catarina           9    0.004695           11\n",
       "103  2014-w39          Sao Paulo          46    0.023996           58\n",
       "104  2014-w39          Tocantins           1    0.000522            1\n",
       "\n",
       "[105 rows x 5 columns]"
      ]
     },
     "execution_count": 126,
     "metadata": {},
     "output_type": "execute_result"
    }
   ],
   "source": [
    "# Step 3: Define the target sample size\n",
    "target_sample_size = 2450\n",
    "\n",
    "# Step 4: Calculate the sample size for each group (based on its proportion)\n",
    "group_sizes['sample_size'] = np.floor(group_sizes['proportion'] * target_sample_size).astype(int)\n",
    "group_sizes"
   ]
  },
  {
   "cell_type": "code",
   "execution_count": 127,
   "id": "1fbb0b3e",
   "metadata": {},
   "outputs": [],
   "source": [
    "# Step 5: Merge this sample size information back to the original DataFrame\n",
    "df_2014_09_neg_sample_size = pd.merge(df_2014_09_neg, group_sizes[['year_week', 'LocationName', 'sample_size']], \n",
    "                               on=['year_week', 'LocationName'], how='left')"
   ]
  },
  {
   "cell_type": "code",
   "execution_count": 128,
   "id": "e62cb3ac",
   "metadata": {},
   "outputs": [
    {
     "name": "stdout",
     "output_type": "stream",
     "text": [
      "Sampled 1917 rows.\n"
     ]
    }
   ],
   "source": [
    "# Step 6: Perform the stratified sampling\n",
    "#df_2014_09_neg_sample = df_2014_09_neg_sample_size.groupby(['year_week', 'LocationName']).apply(\n",
    " #   lambda group: group.sample(n=group['sample_size'].iloc[0], random_state=42)\n",
    "#).reset_index(drop=True)\n",
    "df_2014_09_neg_sample = df_2014_09_neg\n",
    "# Step 7: Check the result\n",
    "print(f\"Sampled {len(df_2014_09_neg_sample)} rows.\")\n"
   ]
  },
  {
   "cell_type": "code",
   "execution_count": 129,
   "id": "f94fe9d7",
   "metadata": {},
   "outputs": [],
   "source": [
    "text_gpt_2014_09_neg = '\\n'.join(df_2014_09_neg_sample['text'].astype(str))"
   ]
  },
  {
   "cell_type": "markdown",
   "id": "b7904a7f",
   "metadata": {},
   "source": [
    "### Prompts and loops"
   ]
  },
  {
   "cell_type": "code",
   "execution_count": 130,
   "id": "71bbca85",
   "metadata": {},
   "outputs": [],
   "source": [
    "prompt_9 = prompt_raw.replace('TWEETS', text_gpt_2014_09_neg)"
   ]
  },
  {
   "cell_type": "code",
   "execution_count": 131,
   "id": "b7ae259f",
   "metadata": {
    "scrolled": false
   },
   "outputs": [],
   "source": [
    "response = openai.ChatCompletion.create(\n",
    "    model=\"gpt-4o-mini\",  \n",
    "    messages = [\n",
    "        {\"role\": \"user\", \"content\": prompt_9}\n",
    "    ],\n",
    "    max_tokens=400,  # Maximum number of tokens in the response\n",
    "    temperature=0.7  # Controls the randomness of the output\n",
    ")"
   ]
  },
  {
   "cell_type": "code",
   "execution_count": 132,
   "id": "8653eccf",
   "metadata": {},
   "outputs": [
    {
     "data": {
      "text/plain": [
       "\"Several reports highlight serious adverse reactions to the HPV vaccine, with multiple young girls experiencing paralysis and hospitalization following vaccination. In particular, three adolescents in Bertioga have been reported to have lost movement in their legs, raising concerns about the vaccine's safety. Additionally, there are alarming reports of at least 15 child fatalities linked to a measles vaccination campaign in Syria, attributed to human error. The situation has sparked widespread fear and skepticism regarding the safety and efficacy of various vaccines.\""
      ]
     },
     "execution_count": 132,
     "metadata": {},
     "output_type": "execute_result"
    }
   ],
   "source": [
    "response.choices[0].message.content"
   ]
  },
  {
   "cell_type": "code",
   "execution_count": 133,
   "id": "6be7b347",
   "metadata": {},
   "outputs": [],
   "source": [
    "#summary = []\n",
    "#dataset = []"
   ]
  },
  {
   "cell_type": "code",
   "execution_count": 134,
   "id": "550a921f",
   "metadata": {},
   "outputs": [],
   "source": [
    "dataset.append(\"2014_09_negative\")"
   ]
  },
  {
   "cell_type": "code",
   "execution_count": 135,
   "id": "83240506",
   "metadata": {},
   "outputs": [],
   "source": [
    "summary.append(response.choices[0].message.content)"
   ]
  },
  {
   "cell_type": "code",
   "execution_count": 136,
   "id": "0c75735b",
   "metadata": {
    "tags": []
   },
   "outputs": [
    {
     "name": "stdout",
     "output_type": "stream",
     "text": [
      "<class 'pandas.core.frame.DataFrame'>\n",
      "RangeIndex: 9 entries, 0 to 8\n",
      "Data columns (total 2 columns):\n",
      " #   Column   Non-Null Count  Dtype \n",
      "---  ------   --------------  ----- \n",
      " 0   dataset  9 non-null      object\n",
      " 1   summary  9 non-null      object\n",
      "dtypes: object(2)\n",
      "memory usage: 272.0+ bytes\n"
     ]
    }
   ],
   "source": [
    "df_2014_neg = pd.DataFrame(list(zip(dataset, summary)),\n",
    "                            columns = ['dataset', 'summary'])\n",
    "df_2014_neg.info()"
   ]
  },
  {
   "cell_type": "code",
   "execution_count": 137,
   "id": "fa955f73",
   "metadata": {},
   "outputs": [
    {
     "data": {
      "text/html": [
       "<div>\n",
       "<style scoped>\n",
       "    .dataframe tbody tr th:only-of-type {\n",
       "        vertical-align: middle;\n",
       "    }\n",
       "\n",
       "    .dataframe tbody tr th {\n",
       "        vertical-align: top;\n",
       "    }\n",
       "\n",
       "    .dataframe thead th {\n",
       "        text-align: right;\n",
       "    }\n",
       "</style>\n",
       "<table border=\"1\" class=\"dataframe\">\n",
       "  <thead>\n",
       "    <tr style=\"text-align: right;\">\n",
       "      <th></th>\n",
       "      <th>dataset</th>\n",
       "      <th>summary</th>\n",
       "    </tr>\n",
       "  </thead>\n",
       "  <tbody>\n",
       "    <tr>\n",
       "      <th>0</th>\n",
       "      <td>2014_01_negitive</td>\n",
       "      <td>The sentences express various opinions and exp...</td>\n",
       "    </tr>\n",
       "    <tr>\n",
       "      <th>1</th>\n",
       "      <td>2014_02_negitive</td>\n",
       "      <td>The text discusses various opinions and experi...</td>\n",
       "    </tr>\n",
       "    <tr>\n",
       "      <th>2</th>\n",
       "      <td>2014_03_negitive</td>\n",
       "      <td>The text discusses the controversy surrounding...</td>\n",
       "    </tr>\n",
       "    <tr>\n",
       "      <th>3</th>\n",
       "      <td>2014_04_negitive</td>\n",
       "      <td>The sentences discuss various sentiments about...</td>\n",
       "    </tr>\n",
       "    <tr>\n",
       "      <th>4</th>\n",
       "      <td>2014_05_negitive</td>\n",
       "      <td>The text discusses various opinions and experi...</td>\n",
       "    </tr>\n",
       "    <tr>\n",
       "      <th>5</th>\n",
       "      <td>2014_06_negitive</td>\n",
       "      <td>The text discusses various public reactions an...</td>\n",
       "    </tr>\n",
       "    <tr>\n",
       "      <th>6</th>\n",
       "      <td>2014_07_negitive</td>\n",
       "      <td>The text discusses various experiences and opi...</td>\n",
       "    </tr>\n",
       "    <tr>\n",
       "      <th>7</th>\n",
       "      <td>2014_08_negitive</td>\n",
       "      <td>The text discusses various experiences and opi...</td>\n",
       "    </tr>\n",
       "    <tr>\n",
       "      <th>8</th>\n",
       "      <td>2014_09_negitive</td>\n",
       "      <td>Several reports highlight serious adverse reac...</td>\n",
       "    </tr>\n",
       "  </tbody>\n",
       "</table>\n",
       "</div>"
      ],
      "text/plain": [
       "            dataset                                            summary\n",
       "0  2014_01_negitive  The sentences express various opinions and exp...\n",
       "1  2014_02_negitive  The text discusses various opinions and experi...\n",
       "2  2014_03_negitive  The text discusses the controversy surrounding...\n",
       "3  2014_04_negitive  The sentences discuss various sentiments about...\n",
       "4  2014_05_negitive  The text discusses various opinions and experi...\n",
       "5  2014_06_negitive  The text discusses various public reactions an...\n",
       "6  2014_07_negitive  The text discusses various experiences and opi...\n",
       "7  2014_08_negitive  The text discusses various experiences and opi...\n",
       "8  2014_09_negitive  Several reports highlight serious adverse reac..."
      ]
     },
     "execution_count": 137,
     "metadata": {},
     "output_type": "execute_result"
    }
   ],
   "source": [
    "df_2014_neg.tail(14)"
   ]
  },
  {
   "cell_type": "code",
   "execution_count": 138,
   "id": "4c204870",
   "metadata": {},
   "outputs": [
    {
     "data": {
      "text/plain": [
       "<OpenAIObject chat.completion id=chatcmpl-AUdGT5yMfaES5doqFMLwAxKF6iwDq at 0x26c2d15c9f0> JSON: {\n",
       "  \"choices\": [\n",
       "    {\n",
       "      \"finish_reason\": \"stop\",\n",
       "      \"index\": 0,\n",
       "      \"logprobs\": null,\n",
       "      \"message\": {\n",
       "        \"content\": \"Several reports highlight serious adverse reactions to the HPV vaccine, with multiple young girls experiencing paralysis and hospitalization following vaccination. In particular, three adolescents in Bertioga have been reported to have lost movement in their legs, raising concerns about the vaccine's safety. Additionally, there are alarming reports of at least 15 child fatalities linked to a measles vaccination campaign in Syria, attributed to human error. The situation has sparked widespread fear and skepticism regarding the safety and efficacy of various vaccines.\",\n",
       "        \"refusal\": null,\n",
       "        \"role\": \"assistant\"\n",
       "      }\n",
       "    }\n",
       "  ],\n",
       "  \"created\": 1731864137,\n",
       "  \"id\": \"chatcmpl-AUdGT5yMfaES5doqFMLwAxKF6iwDq\",\n",
       "  \"model\": \"gpt-4o-mini-2024-07-18\",\n",
       "  \"object\": \"chat.completion\",\n",
       "  \"system_fingerprint\": \"fp_f8dd36be86\",\n",
       "  \"usage\": {\n",
       "    \"completion_tokens\": 95,\n",
       "    \"completion_tokens_details\": {\n",
       "      \"accepted_prediction_tokens\": 0,\n",
       "      \"audio_tokens\": 0,\n",
       "      \"reasoning_tokens\": 0,\n",
       "      \"rejected_prediction_tokens\": 0\n",
       "    },\n",
       "    \"prompt_tokens\": 40465,\n",
       "    \"prompt_tokens_details\": {\n",
       "      \"audio_tokens\": 0,\n",
       "      \"cached_tokens\": 0\n",
       "    },\n",
       "    \"total_tokens\": 40560\n",
       "  }\n",
       "}"
      ]
     },
     "execution_count": 138,
     "metadata": {},
     "output_type": "execute_result"
    }
   ],
   "source": [
    "response"
   ]
  },
  {
   "cell_type": "markdown",
   "id": "43f969b1",
   "metadata": {},
   "source": [
    "## October"
   ]
  },
  {
   "cell_type": "code",
   "execution_count": 139,
   "id": "28cedc2b",
   "metadata": {
    "scrolled": true,
    "tags": []
   },
   "outputs": [
    {
     "name": "stdout",
     "output_type": "stream",
     "text": [
      "<class 'pandas.core.frame.DataFrame'>\n",
      "RangeIndex: 3360 entries, 0 to 3359\n",
      "Data columns (total 53 columns):\n",
      " #   Column                  Non-Null Count  Dtype  \n",
      "---  ------                  --------------  -----  \n",
      " 0   index                   3360 non-null   int64  \n",
      " 1   LocationCode            3360 non-null   object \n",
      " 2   LocationName            3360 non-null   object \n",
      " 3   StatesCode              3360 non-null   object \n",
      " 4   ...4                    3360 non-null   int64  \n",
      " 5   id                      3360 non-null   float64\n",
      " 6   text                    3360 non-null   object \n",
      " 7   label                   3360 non-null   object \n",
      " 8   in_reply_to_status_id   251 non-null    float64\n",
      " 9   in_reply_to_user_id     265 non-null    float64\n",
      " 10  quoted_user_id          0 non-null      float64\n",
      " 11  quoted_status_id        0 non-null      float64\n",
      " 12  retweeted_user_id       1768 non-null   float64\n",
      " 13  retweeted_status_id     1768 non-null   float64\n",
      " 14  created_at              3360 non-null   object \n",
      " 15  entities.user_mentions  2136 non-null   object \n",
      " 16  user.id                 3360 non-null   int64  \n",
      " 17  user.screen_name        3360 non-null   object \n",
      " 18  user.name               3359 non-null   object \n",
      " 19  user.description        2883 non-null   object \n",
      " 20  user.timezone           0 non-null      float64\n",
      " 21  user.location           3328 non-null   object \n",
      " 22  user.num_followers      3360 non-null   int64  \n",
      " 23  user.num_following      3360 non-null   int64  \n",
      " 24  user.created_at         3360 non-null   object \n",
      " 25  user.statuses_count     3360 non-null   int64  \n",
      " 26  user.is_verified        3360 non-null   bool   \n",
      " 27  lang                    3360 non-null   object \n",
      " 28  token_count             3360 non-null   int64  \n",
      " 29  is_retweet              3360 non-null   bool   \n",
      " 30  has_quote               3360 non-null   bool   \n",
      " 31  is_reply                3360 non-null   bool   \n",
      " 32  contains_keywords       3360 non-null   bool   \n",
      " 33  longitude               3360 non-null   float64\n",
      " 34  latitude                3360 non-null   float64\n",
      " 35  country_code            3360 non-null   object \n",
      " 36  geoname_id              3183 non-null   float64\n",
      " 37  location_type           3360 non-null   object \n",
      " 38  geo_type                3360 non-null   int64  \n",
      " 39  region                  3360 non-null   object \n",
      " 40  subregion               3360 non-null   object \n",
      " 41  num_quotes              3360 non-null   int64  \n",
      " 42  num_replies             3360 non-null   int64  \n",
      " 43  num_retweets            3360 non-null   int64  \n",
      " 44  sent_gpt                3360 non-null   object \n",
      " 45  gpt_sent_presence       3360 non-null   int64  \n",
      " 46  cleaned_text_lem        3360 non-null   object \n",
      " 47  cleaned_text            3360 non-null   object \n",
      " 48  month                   3360 non-null   int64  \n",
      " 49  year                    3360 non-null   int64  \n",
      " 50  week                    3360 non-null   int64  \n",
      " 51  year_month              3360 non-null   object \n",
      " 52  year_week               3360 non-null   object \n",
      "dtypes: bool(5), float64(11), int64(15), object(22)\n",
      "memory usage: 1.2+ MB\n"
     ]
    }
   ],
   "source": [
    "# Get monthly data\n",
    "df_2014_10_neg = pd.read_csv('../data/local/df_neg_2014-10.csv').reset_index()\n",
    "df_2014_10_neg.info()"
   ]
  },
  {
   "cell_type": "markdown",
   "id": "616f674a",
   "metadata": {},
   "source": [
    "### Representative sample based on week and location"
   ]
  },
  {
   "cell_type": "code",
   "execution_count": 140,
   "id": "9cb193cd",
   "metadata": {},
   "outputs": [
    {
     "data": {
      "text/html": [
       "<div>\n",
       "<style scoped>\n",
       "    .dataframe tbody tr th:only-of-type {\n",
       "        vertical-align: middle;\n",
       "    }\n",
       "\n",
       "    .dataframe tbody tr th {\n",
       "        vertical-align: top;\n",
       "    }\n",
       "\n",
       "    .dataframe thead th {\n",
       "        text-align: right;\n",
       "    }\n",
       "</style>\n",
       "<table border=\"1\" class=\"dataframe\">\n",
       "  <thead>\n",
       "    <tr style=\"text-align: right;\">\n",
       "      <th></th>\n",
       "      <th>year_week</th>\n",
       "      <th>LocationName</th>\n",
       "      <th>group_size</th>\n",
       "      <th>proportion</th>\n",
       "    </tr>\n",
       "  </thead>\n",
       "  <tbody>\n",
       "    <tr>\n",
       "      <th>0</th>\n",
       "      <td>2014-w40</td>\n",
       "      <td>Acre</td>\n",
       "      <td>1</td>\n",
       "      <td>0.000298</td>\n",
       "    </tr>\n",
       "    <tr>\n",
       "      <th>1</th>\n",
       "      <td>2014-w40</td>\n",
       "      <td>Alagoas</td>\n",
       "      <td>5</td>\n",
       "      <td>0.001488</td>\n",
       "    </tr>\n",
       "    <tr>\n",
       "      <th>2</th>\n",
       "      <td>2014-w40</td>\n",
       "      <td>Amapa</td>\n",
       "      <td>6</td>\n",
       "      <td>0.001786</td>\n",
       "    </tr>\n",
       "    <tr>\n",
       "      <th>3</th>\n",
       "      <td>2014-w40</td>\n",
       "      <td>Amazonas</td>\n",
       "      <td>3</td>\n",
       "      <td>0.000893</td>\n",
       "    </tr>\n",
       "    <tr>\n",
       "      <th>4</th>\n",
       "      <td>2014-w40</td>\n",
       "      <td>Bahia</td>\n",
       "      <td>16</td>\n",
       "      <td>0.004762</td>\n",
       "    </tr>\n",
       "    <tr>\n",
       "      <th>...</th>\n",
       "      <td>...</td>\n",
       "      <td>...</td>\n",
       "      <td>...</td>\n",
       "      <td>...</td>\n",
       "    </tr>\n",
       "    <tr>\n",
       "      <th>102</th>\n",
       "      <td>2014-w44</td>\n",
       "      <td>Parana</td>\n",
       "      <td>4</td>\n",
       "      <td>0.001190</td>\n",
       "    </tr>\n",
       "    <tr>\n",
       "      <th>103</th>\n",
       "      <td>2014-w44</td>\n",
       "      <td>Pernambuco</td>\n",
       "      <td>3</td>\n",
       "      <td>0.000893</td>\n",
       "    </tr>\n",
       "    <tr>\n",
       "      <th>104</th>\n",
       "      <td>2014-w44</td>\n",
       "      <td>Rio Grande Do Sul</td>\n",
       "      <td>8</td>\n",
       "      <td>0.002381</td>\n",
       "    </tr>\n",
       "    <tr>\n",
       "      <th>105</th>\n",
       "      <td>2014-w44</td>\n",
       "      <td>Sao Paulo</td>\n",
       "      <td>13</td>\n",
       "      <td>0.003869</td>\n",
       "    </tr>\n",
       "    <tr>\n",
       "      <th>106</th>\n",
       "      <td>2014-w44</td>\n",
       "      <td>Tocantins</td>\n",
       "      <td>1</td>\n",
       "      <td>0.000298</td>\n",
       "    </tr>\n",
       "  </tbody>\n",
       "</table>\n",
       "<p>107 rows × 4 columns</p>\n",
       "</div>"
      ],
      "text/plain": [
       "    year_week       LocationName  group_size  proportion\n",
       "0    2014-w40               Acre           1    0.000298\n",
       "1    2014-w40            Alagoas           5    0.001488\n",
       "2    2014-w40              Amapa           6    0.001786\n",
       "3    2014-w40           Amazonas           3    0.000893\n",
       "4    2014-w40              Bahia          16    0.004762\n",
       "..        ...                ...         ...         ...\n",
       "102  2014-w44             Parana           4    0.001190\n",
       "103  2014-w44         Pernambuco           3    0.000893\n",
       "104  2014-w44  Rio Grande Do Sul           8    0.002381\n",
       "105  2014-w44          Sao Paulo          13    0.003869\n",
       "106  2014-w44          Tocantins           1    0.000298\n",
       "\n",
       "[107 rows x 4 columns]"
      ]
     },
     "execution_count": 140,
     "metadata": {},
     "output_type": "execute_result"
    }
   ],
   "source": [
    "# Step 1: Calculate the size of each group (year_week, LocationName)\n",
    "group_sizes = df_2014_10_neg.groupby(['year_week', 'LocationName']).size().reset_index(name='group_size')\n",
    "\n",
    "# Step 2: Calculate the proportion of each group in the dataset\n",
    "total_rows = len(df_2014_10_neg)\n",
    "group_sizes['proportion'] = group_sizes['group_size'] / total_rows\n",
    "group_sizes"
   ]
  },
  {
   "cell_type": "code",
   "execution_count": 141,
   "id": "610efcf6",
   "metadata": {},
   "outputs": [
    {
     "data": {
      "text/html": [
       "<div>\n",
       "<style scoped>\n",
       "    .dataframe tbody tr th:only-of-type {\n",
       "        vertical-align: middle;\n",
       "    }\n",
       "\n",
       "    .dataframe tbody tr th {\n",
       "        vertical-align: top;\n",
       "    }\n",
       "\n",
       "    .dataframe thead th {\n",
       "        text-align: right;\n",
       "    }\n",
       "</style>\n",
       "<table border=\"1\" class=\"dataframe\">\n",
       "  <thead>\n",
       "    <tr style=\"text-align: right;\">\n",
       "      <th></th>\n",
       "      <th>year_week</th>\n",
       "      <th>LocationName</th>\n",
       "      <th>group_size</th>\n",
       "      <th>proportion</th>\n",
       "      <th>sample_size</th>\n",
       "    </tr>\n",
       "  </thead>\n",
       "  <tbody>\n",
       "    <tr>\n",
       "      <th>0</th>\n",
       "      <td>2014-w40</td>\n",
       "      <td>Acre</td>\n",
       "      <td>1</td>\n",
       "      <td>0.000298</td>\n",
       "      <td>0</td>\n",
       "    </tr>\n",
       "    <tr>\n",
       "      <th>1</th>\n",
       "      <td>2014-w40</td>\n",
       "      <td>Alagoas</td>\n",
       "      <td>5</td>\n",
       "      <td>0.001488</td>\n",
       "      <td>3</td>\n",
       "    </tr>\n",
       "    <tr>\n",
       "      <th>2</th>\n",
       "      <td>2014-w40</td>\n",
       "      <td>Amapa</td>\n",
       "      <td>6</td>\n",
       "      <td>0.001786</td>\n",
       "      <td>4</td>\n",
       "    </tr>\n",
       "    <tr>\n",
       "      <th>3</th>\n",
       "      <td>2014-w40</td>\n",
       "      <td>Amazonas</td>\n",
       "      <td>3</td>\n",
       "      <td>0.000893</td>\n",
       "      <td>2</td>\n",
       "    </tr>\n",
       "    <tr>\n",
       "      <th>4</th>\n",
       "      <td>2014-w40</td>\n",
       "      <td>Bahia</td>\n",
       "      <td>16</td>\n",
       "      <td>0.004762</td>\n",
       "      <td>11</td>\n",
       "    </tr>\n",
       "    <tr>\n",
       "      <th>...</th>\n",
       "      <td>...</td>\n",
       "      <td>...</td>\n",
       "      <td>...</td>\n",
       "      <td>...</td>\n",
       "      <td>...</td>\n",
       "    </tr>\n",
       "    <tr>\n",
       "      <th>102</th>\n",
       "      <td>2014-w44</td>\n",
       "      <td>Parana</td>\n",
       "      <td>4</td>\n",
       "      <td>0.001190</td>\n",
       "      <td>2</td>\n",
       "    </tr>\n",
       "    <tr>\n",
       "      <th>103</th>\n",
       "      <td>2014-w44</td>\n",
       "      <td>Pernambuco</td>\n",
       "      <td>3</td>\n",
       "      <td>0.000893</td>\n",
       "      <td>2</td>\n",
       "    </tr>\n",
       "    <tr>\n",
       "      <th>104</th>\n",
       "      <td>2014-w44</td>\n",
       "      <td>Rio Grande Do Sul</td>\n",
       "      <td>8</td>\n",
       "      <td>0.002381</td>\n",
       "      <td>5</td>\n",
       "    </tr>\n",
       "    <tr>\n",
       "      <th>105</th>\n",
       "      <td>2014-w44</td>\n",
       "      <td>Sao Paulo</td>\n",
       "      <td>13</td>\n",
       "      <td>0.003869</td>\n",
       "      <td>9</td>\n",
       "    </tr>\n",
       "    <tr>\n",
       "      <th>106</th>\n",
       "      <td>2014-w44</td>\n",
       "      <td>Tocantins</td>\n",
       "      <td>1</td>\n",
       "      <td>0.000298</td>\n",
       "      <td>0</td>\n",
       "    </tr>\n",
       "  </tbody>\n",
       "</table>\n",
       "<p>107 rows × 5 columns</p>\n",
       "</div>"
      ],
      "text/plain": [
       "    year_week       LocationName  group_size  proportion  sample_size\n",
       "0    2014-w40               Acre           1    0.000298            0\n",
       "1    2014-w40            Alagoas           5    0.001488            3\n",
       "2    2014-w40              Amapa           6    0.001786            4\n",
       "3    2014-w40           Amazonas           3    0.000893            2\n",
       "4    2014-w40              Bahia          16    0.004762           11\n",
       "..        ...                ...         ...         ...          ...\n",
       "102  2014-w44             Parana           4    0.001190            2\n",
       "103  2014-w44         Pernambuco           3    0.000893            2\n",
       "104  2014-w44  Rio Grande Do Sul           8    0.002381            5\n",
       "105  2014-w44          Sao Paulo          13    0.003869            9\n",
       "106  2014-w44          Tocantins           1    0.000298            0\n",
       "\n",
       "[107 rows x 5 columns]"
      ]
     },
     "execution_count": 141,
     "metadata": {},
     "output_type": "execute_result"
    }
   ],
   "source": [
    "# Step 3: Define the target sample size\n",
    "target_sample_size = 2450\n",
    "\n",
    "# Step 4: Calculate the sample size for each group (based on its proportion)\n",
    "group_sizes['sample_size'] = np.floor(group_sizes['proportion'] * target_sample_size).astype(int)\n",
    "group_sizes"
   ]
  },
  {
   "cell_type": "code",
   "execution_count": 142,
   "id": "361d2734",
   "metadata": {},
   "outputs": [],
   "source": [
    "# Step 5: Merge this sample size information back to the original DataFrame\n",
    "df_2014_10_neg_sample_size = pd.merge(df_2014_10_neg, group_sizes[['year_week', 'LocationName', 'sample_size']], \n",
    "                               on=['year_week', 'LocationName'], how='left')"
   ]
  },
  {
   "cell_type": "code",
   "execution_count": 143,
   "id": "cd34d6e4",
   "metadata": {},
   "outputs": [
    {
     "name": "stdout",
     "output_type": "stream",
     "text": [
      "Sampled 3360 rows.\n"
     ]
    }
   ],
   "source": [
    "# Step 6: Perform the stratified sampling\n",
    "#df_2014_10_neg_sample = df_2014_10_neg_sample_size.groupby(['year_week', 'LocationName']).apply(\n",
    "#    lambda group: group.sample(n=group['sample_size'].iloc[0], random_state=42)\n",
    "#).reset_index(drop=True)\n",
    "df_2014_10_neg_sample = df_2014_10_neg\n",
    "# Step 7: Check the result\n",
    "print(f\"Sampled {len(df_2014_10_neg_sample)} rows.\")\n"
   ]
  },
  {
   "cell_type": "code",
   "execution_count": 144,
   "id": "853aa7a6",
   "metadata": {},
   "outputs": [],
   "source": [
    "text_gpt_2014_10_neg = '\\n'.join(df_2014_10_neg_sample['text'].astype(str))"
   ]
  },
  {
   "cell_type": "markdown",
   "id": "0e857dd6",
   "metadata": {},
   "source": [
    "### Prompts and loops"
   ]
  },
  {
   "cell_type": "code",
   "execution_count": 145,
   "id": "997a28ad",
   "metadata": {},
   "outputs": [],
   "source": [
    "prompt_10 = prompt_raw.replace('TWEETS', text_gpt_2014_10_neg)"
   ]
  },
  {
   "cell_type": "code",
   "execution_count": 146,
   "id": "0ad6cb21",
   "metadata": {
    "scrolled": false
   },
   "outputs": [],
   "source": [
    "response = openai.ChatCompletion.create(\n",
    "    model=\"gpt-4o-mini\",  \n",
    "    messages = [\n",
    "        {\"role\": \"user\", \"content\": prompt_10}\n",
    "    ],\n",
    "    max_tokens=400,  # Maximum number of tokens in the response\n",
    "    temperature=0.7  # Controls the randomness of the output\n",
    ")"
   ]
  },
  {
   "cell_type": "code",
   "execution_count": 147,
   "id": "f98d14d4",
   "metadata": {},
   "outputs": [
    {
     "data": {
      "text/plain": [
       "\"The sentences discuss the controversy surrounding Aécio Neves' administration in Minas Gerais, particularly the alleged use of public health funds to purchase vaccines for horses, which some claim were misclassified as health expenditures. This has led to significant public outrage and ridicule, with many questioning the prioritization of animal health over human health. The debate has sparked comparisons to broader issues in Brazilian politics, highlighting concerns over corruption and mismanagement in the health sector.\""
      ]
     },
     "execution_count": 147,
     "metadata": {},
     "output_type": "execute_result"
    }
   ],
   "source": [
    "response.choices[0].message.content"
   ]
  },
  {
   "cell_type": "code",
   "execution_count": 148,
   "id": "148185bf",
   "metadata": {},
   "outputs": [],
   "source": [
    "#summary = []\n",
    "#dataset = []"
   ]
  },
  {
   "cell_type": "code",
   "execution_count": 149,
   "id": "91999070",
   "metadata": {},
   "outputs": [],
   "source": [
    "dataset.append(\"2014_10_negative\")"
   ]
  },
  {
   "cell_type": "code",
   "execution_count": 150,
   "id": "ca0c8fcc",
   "metadata": {},
   "outputs": [],
   "source": [
    "summary.append(response.choices[0].message.content)"
   ]
  },
  {
   "cell_type": "code",
   "execution_count": 151,
   "id": "75de78c6",
   "metadata": {
    "tags": []
   },
   "outputs": [
    {
     "name": "stdout",
     "output_type": "stream",
     "text": [
      "<class 'pandas.core.frame.DataFrame'>\n",
      "RangeIndex: 10 entries, 0 to 9\n",
      "Data columns (total 2 columns):\n",
      " #   Column   Non-Null Count  Dtype \n",
      "---  ------   --------------  ----- \n",
      " 0   dataset  10 non-null     object\n",
      " 1   summary  10 non-null     object\n",
      "dtypes: object(2)\n",
      "memory usage: 288.0+ bytes\n"
     ]
    }
   ],
   "source": [
    "df_2014_neg = pd.DataFrame(list(zip(dataset, summary)),\n",
    "                            columns = ['dataset', 'summary'])\n",
    "df_2014_neg.info()"
   ]
  },
  {
   "cell_type": "code",
   "execution_count": 152,
   "id": "33f398cf",
   "metadata": {},
   "outputs": [
    {
     "data": {
      "text/html": [
       "<div>\n",
       "<style scoped>\n",
       "    .dataframe tbody tr th:only-of-type {\n",
       "        vertical-align: middle;\n",
       "    }\n",
       "\n",
       "    .dataframe tbody tr th {\n",
       "        vertical-align: top;\n",
       "    }\n",
       "\n",
       "    .dataframe thead th {\n",
       "        text-align: right;\n",
       "    }\n",
       "</style>\n",
       "<table border=\"1\" class=\"dataframe\">\n",
       "  <thead>\n",
       "    <tr style=\"text-align: right;\">\n",
       "      <th></th>\n",
       "      <th>dataset</th>\n",
       "      <th>summary</th>\n",
       "    </tr>\n",
       "  </thead>\n",
       "  <tbody>\n",
       "    <tr>\n",
       "      <th>0</th>\n",
       "      <td>2014_01_negitive</td>\n",
       "      <td>The sentences express various opinions and exp...</td>\n",
       "    </tr>\n",
       "    <tr>\n",
       "      <th>1</th>\n",
       "      <td>2014_02_negitive</td>\n",
       "      <td>The text discusses various opinions and experi...</td>\n",
       "    </tr>\n",
       "    <tr>\n",
       "      <th>2</th>\n",
       "      <td>2014_03_negitive</td>\n",
       "      <td>The text discusses the controversy surrounding...</td>\n",
       "    </tr>\n",
       "    <tr>\n",
       "      <th>3</th>\n",
       "      <td>2014_04_negitive</td>\n",
       "      <td>The sentences discuss various sentiments about...</td>\n",
       "    </tr>\n",
       "    <tr>\n",
       "      <th>4</th>\n",
       "      <td>2014_05_negitive</td>\n",
       "      <td>The text discusses various opinions and experi...</td>\n",
       "    </tr>\n",
       "    <tr>\n",
       "      <th>5</th>\n",
       "      <td>2014_06_negitive</td>\n",
       "      <td>The text discusses various public reactions an...</td>\n",
       "    </tr>\n",
       "    <tr>\n",
       "      <th>6</th>\n",
       "      <td>2014_07_negitive</td>\n",
       "      <td>The text discusses various experiences and opi...</td>\n",
       "    </tr>\n",
       "    <tr>\n",
       "      <th>7</th>\n",
       "      <td>2014_08_negitive</td>\n",
       "      <td>The text discusses various experiences and opi...</td>\n",
       "    </tr>\n",
       "    <tr>\n",
       "      <th>8</th>\n",
       "      <td>2014_09_negitive</td>\n",
       "      <td>Several reports highlight serious adverse reac...</td>\n",
       "    </tr>\n",
       "    <tr>\n",
       "      <th>9</th>\n",
       "      <td>2014_10_negitive</td>\n",
       "      <td>The sentences discuss the controversy surround...</td>\n",
       "    </tr>\n",
       "  </tbody>\n",
       "</table>\n",
       "</div>"
      ],
      "text/plain": [
       "            dataset                                            summary\n",
       "0  2014_01_negitive  The sentences express various opinions and exp...\n",
       "1  2014_02_negitive  The text discusses various opinions and experi...\n",
       "2  2014_03_negitive  The text discusses the controversy surrounding...\n",
       "3  2014_04_negitive  The sentences discuss various sentiments about...\n",
       "4  2014_05_negitive  The text discusses various opinions and experi...\n",
       "5  2014_06_negitive  The text discusses various public reactions an...\n",
       "6  2014_07_negitive  The text discusses various experiences and opi...\n",
       "7  2014_08_negitive  The text discusses various experiences and opi...\n",
       "8  2014_09_negitive  Several reports highlight serious adverse reac...\n",
       "9  2014_10_negitive  The sentences discuss the controversy surround..."
      ]
     },
     "execution_count": 152,
     "metadata": {},
     "output_type": "execute_result"
    }
   ],
   "source": [
    "df_2014_neg.tail(14)"
   ]
  },
  {
   "cell_type": "code",
   "execution_count": 153,
   "id": "c9aa4469",
   "metadata": {},
   "outputs": [
    {
     "data": {
      "text/plain": [
       "<OpenAIObject chat.completion id=chatcmpl-AUdGZHfzAoYfmRRV2pHBlUxlCOVBq at 0x26c2d370360> JSON: {\n",
       "  \"choices\": [\n",
       "    {\n",
       "      \"finish_reason\": \"stop\",\n",
       "      \"index\": 0,\n",
       "      \"logprobs\": null,\n",
       "      \"message\": {\n",
       "        \"content\": \"The sentences discuss the controversy surrounding A\\u00e9cio Neves' administration in Minas Gerais, particularly the alleged use of public health funds to purchase vaccines for horses, which some claim were misclassified as health expenditures. This has led to significant public outrage and ridicule, with many questioning the prioritization of animal health over human health. The debate has sparked comparisons to broader issues in Brazilian politics, highlighting concerns over corruption and mismanagement in the health sector.\",\n",
       "        \"refusal\": null,\n",
       "        \"role\": \"assistant\"\n",
       "      }\n",
       "    }\n",
       "  ],\n",
       "  \"created\": 1731864143,\n",
       "  \"id\": \"chatcmpl-AUdGZHfzAoYfmRRV2pHBlUxlCOVBq\",\n",
       "  \"model\": \"gpt-4o-mini-2024-07-18\",\n",
       "  \"object\": \"chat.completion\",\n",
       "  \"system_fingerprint\": \"fp_9b78b61c52\",\n",
       "  \"usage\": {\n",
       "    \"completion_tokens\": 88,\n",
       "    \"completion_tokens_details\": {\n",
       "      \"accepted_prediction_tokens\": 0,\n",
       "      \"audio_tokens\": 0,\n",
       "      \"reasoning_tokens\": 0,\n",
       "      \"rejected_prediction_tokens\": 0\n",
       "    },\n",
       "    \"prompt_tokens\": 88994,\n",
       "    \"prompt_tokens_details\": {\n",
       "      \"audio_tokens\": 0,\n",
       "      \"cached_tokens\": 0\n",
       "    },\n",
       "    \"total_tokens\": 89082\n",
       "  }\n",
       "}"
      ]
     },
     "execution_count": 153,
     "metadata": {},
     "output_type": "execute_result"
    }
   ],
   "source": [
    "response"
   ]
  },
  {
   "cell_type": "markdown",
   "id": "d476f7a3",
   "metadata": {},
   "source": [
    "## November"
   ]
  },
  {
   "cell_type": "code",
   "execution_count": 154,
   "id": "63dc91c7",
   "metadata": {
    "scrolled": true,
    "tags": []
   },
   "outputs": [
    {
     "name": "stdout",
     "output_type": "stream",
     "text": [
      "<class 'pandas.core.frame.DataFrame'>\n",
      "RangeIndex: 863 entries, 0 to 862\n",
      "Data columns (total 53 columns):\n",
      " #   Column                  Non-Null Count  Dtype  \n",
      "---  ------                  --------------  -----  \n",
      " 0   index                   863 non-null    int64  \n",
      " 1   LocationCode            863 non-null    object \n",
      " 2   LocationName            863 non-null    object \n",
      " 3   StatesCode              863 non-null    object \n",
      " 4   ...4                    863 non-null    int64  \n",
      " 5   id                      863 non-null    float64\n",
      " 6   text                    863 non-null    object \n",
      " 7   label                   863 non-null    object \n",
      " 8   in_reply_to_status_id   63 non-null     float64\n",
      " 9   in_reply_to_user_id     70 non-null     float64\n",
      " 10  quoted_user_id          0 non-null      float64\n",
      " 11  quoted_status_id        0 non-null      float64\n",
      " 12  retweeted_user_id       182 non-null    float64\n",
      " 13  retweeted_status_id     182 non-null    float64\n",
      " 14  created_at              863 non-null    object \n",
      " 15  entities.user_mentions  291 non-null    object \n",
      " 16  user.id                 863 non-null    int64  \n",
      " 17  user.screen_name        863 non-null    object \n",
      " 18  user.name               863 non-null    object \n",
      " 19  user.description        746 non-null    object \n",
      " 20  user.timezone           0 non-null      float64\n",
      " 21  user.location           852 non-null    object \n",
      " 22  user.num_followers      863 non-null    int64  \n",
      " 23  user.num_following      863 non-null    int64  \n",
      " 24  user.created_at         863 non-null    object \n",
      " 25  user.statuses_count     863 non-null    int64  \n",
      " 26  user.is_verified        863 non-null    bool   \n",
      " 27  lang                    863 non-null    object \n",
      " 28  token_count             863 non-null    int64  \n",
      " 29  is_retweet              863 non-null    bool   \n",
      " 30  has_quote               863 non-null    bool   \n",
      " 31  is_reply                863 non-null    bool   \n",
      " 32  contains_keywords       863 non-null    bool   \n",
      " 33  longitude               863 non-null    float64\n",
      " 34  latitude                863 non-null    float64\n",
      " 35  country_code            863 non-null    object \n",
      " 36  geoname_id              810 non-null    float64\n",
      " 37  location_type           863 non-null    object \n",
      " 38  geo_type                863 non-null    int64  \n",
      " 39  region                  863 non-null    object \n",
      " 40  subregion               863 non-null    object \n",
      " 41  num_quotes              863 non-null    int64  \n",
      " 42  num_replies             863 non-null    int64  \n",
      " 43  num_retweets            863 non-null    int64  \n",
      " 44  sent_gpt                863 non-null    object \n",
      " 45  gpt_sent_presence       863 non-null    int64  \n",
      " 46  cleaned_text_lem        863 non-null    object \n",
      " 47  cleaned_text            863 non-null    object \n",
      " 48  month                   863 non-null    int64  \n",
      " 49  year                    863 non-null    int64  \n",
      " 50  week                    863 non-null    int64  \n",
      " 51  year_month              863 non-null    object \n",
      " 52  year_week               863 non-null    object \n",
      "dtypes: bool(5), float64(11), int64(15), object(22)\n",
      "memory usage: 328.0+ KB\n"
     ]
    }
   ],
   "source": [
    "# Get monthly data\n",
    "df_2014_11_neg = pd.read_csv('../data/local/df_neg_2014-11.csv').reset_index()\n",
    "df_2014_11_neg.info()"
   ]
  },
  {
   "cell_type": "markdown",
   "id": "e44ca951",
   "metadata": {},
   "source": [
    "### Representative sample based on week and location"
   ]
  },
  {
   "cell_type": "code",
   "execution_count": 155,
   "id": "58f0a8ff",
   "metadata": {},
   "outputs": [
    {
     "data": {
      "text/html": [
       "<div>\n",
       "<style scoped>\n",
       "    .dataframe tbody tr th:only-of-type {\n",
       "        vertical-align: middle;\n",
       "    }\n",
       "\n",
       "    .dataframe tbody tr th {\n",
       "        vertical-align: top;\n",
       "    }\n",
       "\n",
       "    .dataframe thead th {\n",
       "        text-align: right;\n",
       "    }\n",
       "</style>\n",
       "<table border=\"1\" class=\"dataframe\">\n",
       "  <thead>\n",
       "    <tr style=\"text-align: right;\">\n",
       "      <th></th>\n",
       "      <th>year_week</th>\n",
       "      <th>LocationName</th>\n",
       "      <th>group_size</th>\n",
       "      <th>proportion</th>\n",
       "    </tr>\n",
       "  </thead>\n",
       "  <tbody>\n",
       "    <tr>\n",
       "      <th>0</th>\n",
       "      <td>2014-w44</td>\n",
       "      <td>Acre</td>\n",
       "      <td>1</td>\n",
       "      <td>0.001159</td>\n",
       "    </tr>\n",
       "    <tr>\n",
       "      <th>1</th>\n",
       "      <td>2014-w44</td>\n",
       "      <td>Amazonas</td>\n",
       "      <td>2</td>\n",
       "      <td>0.002317</td>\n",
       "    </tr>\n",
       "    <tr>\n",
       "      <th>2</th>\n",
       "      <td>2014-w44</td>\n",
       "      <td>Bahia</td>\n",
       "      <td>6</td>\n",
       "      <td>0.006952</td>\n",
       "    </tr>\n",
       "    <tr>\n",
       "      <th>3</th>\n",
       "      <td>2014-w44</td>\n",
       "      <td>Ceara</td>\n",
       "      <td>9</td>\n",
       "      <td>0.010429</td>\n",
       "    </tr>\n",
       "    <tr>\n",
       "      <th>4</th>\n",
       "      <td>2014-w44</td>\n",
       "      <td>Distrito Federal</td>\n",
       "      <td>4</td>\n",
       "      <td>0.004635</td>\n",
       "    </tr>\n",
       "    <tr>\n",
       "      <th>...</th>\n",
       "      <td>...</td>\n",
       "      <td>...</td>\n",
       "      <td>...</td>\n",
       "      <td>...</td>\n",
       "    </tr>\n",
       "    <tr>\n",
       "      <th>92</th>\n",
       "      <td>2014-w48</td>\n",
       "      <td>Pernambuco</td>\n",
       "      <td>8</td>\n",
       "      <td>0.009270</td>\n",
       "    </tr>\n",
       "    <tr>\n",
       "      <th>93</th>\n",
       "      <td>2014-w48</td>\n",
       "      <td>Rio Grande Do Sul</td>\n",
       "      <td>9</td>\n",
       "      <td>0.010429</td>\n",
       "    </tr>\n",
       "    <tr>\n",
       "      <th>94</th>\n",
       "      <td>2014-w48</td>\n",
       "      <td>Santa Catarina</td>\n",
       "      <td>4</td>\n",
       "      <td>0.004635</td>\n",
       "    </tr>\n",
       "    <tr>\n",
       "      <th>95</th>\n",
       "      <td>2014-w48</td>\n",
       "      <td>Sao Paulo</td>\n",
       "      <td>22</td>\n",
       "      <td>0.025492</td>\n",
       "    </tr>\n",
       "    <tr>\n",
       "      <th>96</th>\n",
       "      <td>2014-w48</td>\n",
       "      <td>Sergipe</td>\n",
       "      <td>1</td>\n",
       "      <td>0.001159</td>\n",
       "    </tr>\n",
       "  </tbody>\n",
       "</table>\n",
       "<p>97 rows × 4 columns</p>\n",
       "</div>"
      ],
      "text/plain": [
       "   year_week       LocationName  group_size  proportion\n",
       "0   2014-w44               Acre           1    0.001159\n",
       "1   2014-w44           Amazonas           2    0.002317\n",
       "2   2014-w44              Bahia           6    0.006952\n",
       "3   2014-w44              Ceara           9    0.010429\n",
       "4   2014-w44   Distrito Federal           4    0.004635\n",
       "..       ...                ...         ...         ...\n",
       "92  2014-w48         Pernambuco           8    0.009270\n",
       "93  2014-w48  Rio Grande Do Sul           9    0.010429\n",
       "94  2014-w48     Santa Catarina           4    0.004635\n",
       "95  2014-w48          Sao Paulo          22    0.025492\n",
       "96  2014-w48            Sergipe           1    0.001159\n",
       "\n",
       "[97 rows x 4 columns]"
      ]
     },
     "execution_count": 155,
     "metadata": {},
     "output_type": "execute_result"
    }
   ],
   "source": [
    "# Step 1: Calculate the size of each group (year_week, LocationName)\n",
    "group_sizes = df_2014_11_neg.groupby(['year_week', 'LocationName']).size().reset_index(name='group_size')\n",
    "\n",
    "# Step 2: Calculate the proportion of each group in the dataset\n",
    "total_rows = len(df_2014_11_neg)\n",
    "group_sizes['proportion'] = group_sizes['group_size'] / total_rows\n",
    "group_sizes"
   ]
  },
  {
   "cell_type": "code",
   "execution_count": 156,
   "id": "52c7e839",
   "metadata": {},
   "outputs": [
    {
     "data": {
      "text/html": [
       "<div>\n",
       "<style scoped>\n",
       "    .dataframe tbody tr th:only-of-type {\n",
       "        vertical-align: middle;\n",
       "    }\n",
       "\n",
       "    .dataframe tbody tr th {\n",
       "        vertical-align: top;\n",
       "    }\n",
       "\n",
       "    .dataframe thead th {\n",
       "        text-align: right;\n",
       "    }\n",
       "</style>\n",
       "<table border=\"1\" class=\"dataframe\">\n",
       "  <thead>\n",
       "    <tr style=\"text-align: right;\">\n",
       "      <th></th>\n",
       "      <th>year_week</th>\n",
       "      <th>LocationName</th>\n",
       "      <th>group_size</th>\n",
       "      <th>proportion</th>\n",
       "      <th>sample_size</th>\n",
       "    </tr>\n",
       "  </thead>\n",
       "  <tbody>\n",
       "    <tr>\n",
       "      <th>0</th>\n",
       "      <td>2014-w44</td>\n",
       "      <td>Acre</td>\n",
       "      <td>1</td>\n",
       "      <td>0.001159</td>\n",
       "      <td>2</td>\n",
       "    </tr>\n",
       "    <tr>\n",
       "      <th>1</th>\n",
       "      <td>2014-w44</td>\n",
       "      <td>Amazonas</td>\n",
       "      <td>2</td>\n",
       "      <td>0.002317</td>\n",
       "      <td>5</td>\n",
       "    </tr>\n",
       "    <tr>\n",
       "      <th>2</th>\n",
       "      <td>2014-w44</td>\n",
       "      <td>Bahia</td>\n",
       "      <td>6</td>\n",
       "      <td>0.006952</td>\n",
       "      <td>17</td>\n",
       "    </tr>\n",
       "    <tr>\n",
       "      <th>3</th>\n",
       "      <td>2014-w44</td>\n",
       "      <td>Ceara</td>\n",
       "      <td>9</td>\n",
       "      <td>0.010429</td>\n",
       "      <td>25</td>\n",
       "    </tr>\n",
       "    <tr>\n",
       "      <th>4</th>\n",
       "      <td>2014-w44</td>\n",
       "      <td>Distrito Federal</td>\n",
       "      <td>4</td>\n",
       "      <td>0.004635</td>\n",
       "      <td>11</td>\n",
       "    </tr>\n",
       "    <tr>\n",
       "      <th>...</th>\n",
       "      <td>...</td>\n",
       "      <td>...</td>\n",
       "      <td>...</td>\n",
       "      <td>...</td>\n",
       "      <td>...</td>\n",
       "    </tr>\n",
       "    <tr>\n",
       "      <th>92</th>\n",
       "      <td>2014-w48</td>\n",
       "      <td>Pernambuco</td>\n",
       "      <td>8</td>\n",
       "      <td>0.009270</td>\n",
       "      <td>22</td>\n",
       "    </tr>\n",
       "    <tr>\n",
       "      <th>93</th>\n",
       "      <td>2014-w48</td>\n",
       "      <td>Rio Grande Do Sul</td>\n",
       "      <td>9</td>\n",
       "      <td>0.010429</td>\n",
       "      <td>25</td>\n",
       "    </tr>\n",
       "    <tr>\n",
       "      <th>94</th>\n",
       "      <td>2014-w48</td>\n",
       "      <td>Santa Catarina</td>\n",
       "      <td>4</td>\n",
       "      <td>0.004635</td>\n",
       "      <td>11</td>\n",
       "    </tr>\n",
       "    <tr>\n",
       "      <th>95</th>\n",
       "      <td>2014-w48</td>\n",
       "      <td>Sao Paulo</td>\n",
       "      <td>22</td>\n",
       "      <td>0.025492</td>\n",
       "      <td>62</td>\n",
       "    </tr>\n",
       "    <tr>\n",
       "      <th>96</th>\n",
       "      <td>2014-w48</td>\n",
       "      <td>Sergipe</td>\n",
       "      <td>1</td>\n",
       "      <td>0.001159</td>\n",
       "      <td>2</td>\n",
       "    </tr>\n",
       "  </tbody>\n",
       "</table>\n",
       "<p>97 rows × 5 columns</p>\n",
       "</div>"
      ],
      "text/plain": [
       "   year_week       LocationName  group_size  proportion  sample_size\n",
       "0   2014-w44               Acre           1    0.001159            2\n",
       "1   2014-w44           Amazonas           2    0.002317            5\n",
       "2   2014-w44              Bahia           6    0.006952           17\n",
       "3   2014-w44              Ceara           9    0.010429           25\n",
       "4   2014-w44   Distrito Federal           4    0.004635           11\n",
       "..       ...                ...         ...         ...          ...\n",
       "92  2014-w48         Pernambuco           8    0.009270           22\n",
       "93  2014-w48  Rio Grande Do Sul           9    0.010429           25\n",
       "94  2014-w48     Santa Catarina           4    0.004635           11\n",
       "95  2014-w48          Sao Paulo          22    0.025492           62\n",
       "96  2014-w48            Sergipe           1    0.001159            2\n",
       "\n",
       "[97 rows x 5 columns]"
      ]
     },
     "execution_count": 156,
     "metadata": {},
     "output_type": "execute_result"
    }
   ],
   "source": [
    "# Step 3: Define the target sample size\n",
    "target_sample_size = 2450\n",
    "\n",
    "# Step 4: Calculate the sample size for each group (based on its proportion)\n",
    "group_sizes['sample_size'] = np.floor(group_sizes['proportion'] * target_sample_size).astype(int)\n",
    "group_sizes"
   ]
  },
  {
   "cell_type": "code",
   "execution_count": 157,
   "id": "47bfacf4",
   "metadata": {},
   "outputs": [],
   "source": [
    "# Step 5: Merge this sample size information back to the original DataFrame\n",
    "df_2014_11_neg_sample_size = pd.merge(df_2014_11_neg, group_sizes[['year_week', 'LocationName', 'sample_size']], \n",
    "                               on=['year_week', 'LocationName'], how='left')"
   ]
  },
  {
   "cell_type": "code",
   "execution_count": 158,
   "id": "3127c68e",
   "metadata": {},
   "outputs": [
    {
     "name": "stdout",
     "output_type": "stream",
     "text": [
      "Sampled 863 rows.\n"
     ]
    }
   ],
   "source": [
    "# Step 6: Perform the stratified sampling\n",
    "#df_2014_11_neg_sample = df_2014_11_neg_sample_size.groupby(['year_week', 'LocationName']).apply(\n",
    " #   lambda group: group.sample(n=group['sample_size'].iloc[0], random_state=42)\n",
    "#).reset_index(drop=True)\n",
    "df_2014_11_neg_sample = df_2014_11_neg\n",
    "# Step 7: Check the result\n",
    "print(f\"Sampled {len(df_2014_11_neg_sample)} rows.\")\n"
   ]
  },
  {
   "cell_type": "code",
   "execution_count": 159,
   "id": "a5fc3ad1",
   "metadata": {},
   "outputs": [],
   "source": [
    "text_gpt_2014_11_neg = '\\n'.join(df_2014_11_neg_sample['text'].astype(str))"
   ]
  },
  {
   "cell_type": "markdown",
   "id": "8df94c41",
   "metadata": {},
   "source": [
    "### Prompts and loops"
   ]
  },
  {
   "cell_type": "code",
   "execution_count": 160,
   "id": "b2c43f66",
   "metadata": {},
   "outputs": [],
   "source": [
    "prompt_11 = prompt_raw.replace('TWEETS', text_gpt_2014_11_neg)"
   ]
  },
  {
   "cell_type": "code",
   "execution_count": 161,
   "id": "87bbf147",
   "metadata": {
    "scrolled": false
   },
   "outputs": [],
   "source": [
    "response = openai.ChatCompletion.create(\n",
    "    model=\"gpt-4o-mini\",  \n",
    "    messages = [\n",
    "        {\"role\": \"user\", \"content\": prompt_11}\n",
    "    ],\n",
    "    max_tokens=400,  # Maximum number of tokens in the response\n",
    "    temperature=0.7  # Controls the randomness of the output\n",
    ")"
   ]
  },
  {
   "cell_type": "code",
   "execution_count": 162,
   "id": "99d409e9",
   "metadata": {},
   "outputs": [
    {
     "data": {
      "text/plain": [
       "'The text discusses various aspects of vaccination, including the importance of keeping vaccinations up to date for children, the risks associated with certain vaccines for children with allergies (especially to milk), the low uptake of the HPV vaccine among girls, and reactions to the measles vaccine leading to its suspension in Amazonas. It also mentions criticism from the WHO regarding the lack of investment in vaccines for diseases like Ebola.'"
      ]
     },
     "execution_count": 162,
     "metadata": {},
     "output_type": "execute_result"
    }
   ],
   "source": [
    "response.choices[0].message.content"
   ]
  },
  {
   "cell_type": "code",
   "execution_count": 163,
   "id": "c1cb7d55",
   "metadata": {},
   "outputs": [],
   "source": [
    "#summary = []\n",
    "#dataset = []"
   ]
  },
  {
   "cell_type": "code",
   "execution_count": 164,
   "id": "0b5f7bbc",
   "metadata": {},
   "outputs": [],
   "source": [
    "dataset.append(\"2014_11_negative\")"
   ]
  },
  {
   "cell_type": "code",
   "execution_count": 165,
   "id": "25b7e5ff",
   "metadata": {},
   "outputs": [],
   "source": [
    "summary.append(response.choices[0].message.content)"
   ]
  },
  {
   "cell_type": "code",
   "execution_count": 166,
   "id": "10f2f273",
   "metadata": {
    "tags": []
   },
   "outputs": [
    {
     "name": "stdout",
     "output_type": "stream",
     "text": [
      "<class 'pandas.core.frame.DataFrame'>\n",
      "RangeIndex: 11 entries, 0 to 10\n",
      "Data columns (total 2 columns):\n",
      " #   Column   Non-Null Count  Dtype \n",
      "---  ------   --------------  ----- \n",
      " 0   dataset  11 non-null     object\n",
      " 1   summary  11 non-null     object\n",
      "dtypes: object(2)\n",
      "memory usage: 304.0+ bytes\n"
     ]
    }
   ],
   "source": [
    "df_2014_neg = pd.DataFrame(list(zip(dataset, summary)),\n",
    "                            columns = ['dataset', 'summary'])\n",
    "df_2014_neg.info()"
   ]
  },
  {
   "cell_type": "code",
   "execution_count": 167,
   "id": "89ced529",
   "metadata": {},
   "outputs": [
    {
     "data": {
      "text/html": [
       "<div>\n",
       "<style scoped>\n",
       "    .dataframe tbody tr th:only-of-type {\n",
       "        vertical-align: middle;\n",
       "    }\n",
       "\n",
       "    .dataframe tbody tr th {\n",
       "        vertical-align: top;\n",
       "    }\n",
       "\n",
       "    .dataframe thead th {\n",
       "        text-align: right;\n",
       "    }\n",
       "</style>\n",
       "<table border=\"1\" class=\"dataframe\">\n",
       "  <thead>\n",
       "    <tr style=\"text-align: right;\">\n",
       "      <th></th>\n",
       "      <th>dataset</th>\n",
       "      <th>summary</th>\n",
       "    </tr>\n",
       "  </thead>\n",
       "  <tbody>\n",
       "    <tr>\n",
       "      <th>0</th>\n",
       "      <td>2014_01_negitive</td>\n",
       "      <td>The sentences express various opinions and exp...</td>\n",
       "    </tr>\n",
       "    <tr>\n",
       "      <th>1</th>\n",
       "      <td>2014_02_negitive</td>\n",
       "      <td>The text discusses various opinions and experi...</td>\n",
       "    </tr>\n",
       "    <tr>\n",
       "      <th>2</th>\n",
       "      <td>2014_03_negitive</td>\n",
       "      <td>The text discusses the controversy surrounding...</td>\n",
       "    </tr>\n",
       "    <tr>\n",
       "      <th>3</th>\n",
       "      <td>2014_04_negitive</td>\n",
       "      <td>The sentences discuss various sentiments about...</td>\n",
       "    </tr>\n",
       "    <tr>\n",
       "      <th>4</th>\n",
       "      <td>2014_05_negitive</td>\n",
       "      <td>The text discusses various opinions and experi...</td>\n",
       "    </tr>\n",
       "    <tr>\n",
       "      <th>5</th>\n",
       "      <td>2014_06_negitive</td>\n",
       "      <td>The text discusses various public reactions an...</td>\n",
       "    </tr>\n",
       "    <tr>\n",
       "      <th>6</th>\n",
       "      <td>2014_07_negitive</td>\n",
       "      <td>The text discusses various experiences and opi...</td>\n",
       "    </tr>\n",
       "    <tr>\n",
       "      <th>7</th>\n",
       "      <td>2014_08_negitive</td>\n",
       "      <td>The text discusses various experiences and opi...</td>\n",
       "    </tr>\n",
       "    <tr>\n",
       "      <th>8</th>\n",
       "      <td>2014_09_negitive</td>\n",
       "      <td>Several reports highlight serious adverse reac...</td>\n",
       "    </tr>\n",
       "    <tr>\n",
       "      <th>9</th>\n",
       "      <td>2014_10_negitive</td>\n",
       "      <td>The sentences discuss the controversy surround...</td>\n",
       "    </tr>\n",
       "    <tr>\n",
       "      <th>10</th>\n",
       "      <td>2014_11_negitive</td>\n",
       "      <td>The text discusses various aspects of vaccinat...</td>\n",
       "    </tr>\n",
       "  </tbody>\n",
       "</table>\n",
       "</div>"
      ],
      "text/plain": [
       "             dataset                                            summary\n",
       "0   2014_01_negitive  The sentences express various opinions and exp...\n",
       "1   2014_02_negitive  The text discusses various opinions and experi...\n",
       "2   2014_03_negitive  The text discusses the controversy surrounding...\n",
       "3   2014_04_negitive  The sentences discuss various sentiments about...\n",
       "4   2014_05_negitive  The text discusses various opinions and experi...\n",
       "5   2014_06_negitive  The text discusses various public reactions an...\n",
       "6   2014_07_negitive  The text discusses various experiences and opi...\n",
       "7   2014_08_negitive  The text discusses various experiences and opi...\n",
       "8   2014_09_negitive  Several reports highlight serious adverse reac...\n",
       "9   2014_10_negitive  The sentences discuss the controversy surround...\n",
       "10  2014_11_negitive  The text discusses various aspects of vaccinat..."
      ]
     },
     "execution_count": 167,
     "metadata": {},
     "output_type": "execute_result"
    }
   ],
   "source": [
    "df_2014_neg.tail(14)"
   ]
  },
  {
   "cell_type": "code",
   "execution_count": 168,
   "id": "952c4bca",
   "metadata": {},
   "outputs": [
    {
     "data": {
      "text/plain": [
       "<OpenAIObject chat.completion id=chatcmpl-AUdGlE8I84Wk8pLqY7ImauiKVbyXv at 0x26c2d3cadb0> JSON: {\n",
       "  \"choices\": [\n",
       "    {\n",
       "      \"finish_reason\": \"stop\",\n",
       "      \"index\": 0,\n",
       "      \"logprobs\": null,\n",
       "      \"message\": {\n",
       "        \"content\": \"The text discusses various aspects of vaccination, including the importance of keeping vaccinations up to date for children, the risks associated with certain vaccines for children with allergies (especially to milk), the low uptake of the HPV vaccine among girls, and reactions to the measles vaccine leading to its suspension in Amazonas. It also mentions criticism from the WHO regarding the lack of investment in vaccines for diseases like Ebola.\",\n",
       "        \"refusal\": null,\n",
       "        \"role\": \"assistant\"\n",
       "      }\n",
       "    }\n",
       "  ],\n",
       "  \"created\": 1731864155,\n",
       "  \"id\": \"chatcmpl-AUdGlE8I84Wk8pLqY7ImauiKVbyXv\",\n",
       "  \"model\": \"gpt-4o-mini-2024-07-18\",\n",
       "  \"object\": \"chat.completion\",\n",
       "  \"system_fingerprint\": \"fp_0ba0d124f1\",\n",
       "  \"usage\": {\n",
       "    \"completion_tokens\": 78,\n",
       "    \"completion_tokens_details\": {\n",
       "      \"accepted_prediction_tokens\": 0,\n",
       "      \"audio_tokens\": 0,\n",
       "      \"reasoning_tokens\": 0,\n",
       "      \"rejected_prediction_tokens\": 0\n",
       "    },\n",
       "    \"prompt_tokens\": 19850,\n",
       "    \"prompt_tokens_details\": {\n",
       "      \"audio_tokens\": 0,\n",
       "      \"cached_tokens\": 0\n",
       "    },\n",
       "    \"total_tokens\": 19928\n",
       "  }\n",
       "}"
      ]
     },
     "execution_count": 168,
     "metadata": {},
     "output_type": "execute_result"
    }
   ],
   "source": [
    "response"
   ]
  },
  {
   "cell_type": "markdown",
   "id": "46613a39",
   "metadata": {},
   "source": [
    "## December"
   ]
  },
  {
   "cell_type": "code",
   "execution_count": 169,
   "id": "3f6bde3b",
   "metadata": {
    "scrolled": true,
    "tags": []
   },
   "outputs": [
    {
     "name": "stdout",
     "output_type": "stream",
     "text": [
      "<class 'pandas.core.frame.DataFrame'>\n",
      "RangeIndex: 466 entries, 0 to 465\n",
      "Data columns (total 53 columns):\n",
      " #   Column                  Non-Null Count  Dtype  \n",
      "---  ------                  --------------  -----  \n",
      " 0   index                   466 non-null    int64  \n",
      " 1   LocationCode            466 non-null    object \n",
      " 2   LocationName            466 non-null    object \n",
      " 3   StatesCode              466 non-null    object \n",
      " 4   ...4                    466 non-null    int64  \n",
      " 5   id                      466 non-null    float64\n",
      " 6   text                    466 non-null    object \n",
      " 7   label                   466 non-null    object \n",
      " 8   in_reply_to_status_id   56 non-null     float64\n",
      " 9   in_reply_to_user_id     58 non-null     float64\n",
      " 10  quoted_user_id          0 non-null      float64\n",
      " 11  quoted_status_id        0 non-null      float64\n",
      " 12  retweeted_user_id       72 non-null     float64\n",
      " 13  retweeted_status_id     72 non-null     float64\n",
      " 14  created_at              466 non-null    object \n",
      " 15  entities.user_mentions  141 non-null    object \n",
      " 16  user.id                 466 non-null    int64  \n",
      " 17  user.screen_name        466 non-null    object \n",
      " 18  user.name               466 non-null    object \n",
      " 19  user.description        416 non-null    object \n",
      " 20  user.timezone           0 non-null      float64\n",
      " 21  user.location           458 non-null    object \n",
      " 22  user.num_followers      466 non-null    int64  \n",
      " 23  user.num_following      466 non-null    int64  \n",
      " 24  user.created_at         466 non-null    object \n",
      " 25  user.statuses_count     466 non-null    int64  \n",
      " 26  user.is_verified        466 non-null    bool   \n",
      " 27  lang                    466 non-null    object \n",
      " 28  token_count             466 non-null    int64  \n",
      " 29  is_retweet              466 non-null    bool   \n",
      " 30  has_quote               466 non-null    bool   \n",
      " 31  is_reply                466 non-null    bool   \n",
      " 32  contains_keywords       466 non-null    bool   \n",
      " 33  longitude               466 non-null    float64\n",
      " 34  latitude                466 non-null    float64\n",
      " 35  country_code            466 non-null    object \n",
      " 36  geoname_id              413 non-null    float64\n",
      " 37  location_type           466 non-null    object \n",
      " 38  geo_type                466 non-null    int64  \n",
      " 39  region                  466 non-null    object \n",
      " 40  subregion               466 non-null    object \n",
      " 41  num_quotes              466 non-null    int64  \n",
      " 42  num_replies             466 non-null    int64  \n",
      " 43  num_retweets            466 non-null    int64  \n",
      " 44  sent_gpt                466 non-null    object \n",
      " 45  gpt_sent_presence       466 non-null    int64  \n",
      " 46  cleaned_text_lem        466 non-null    object \n",
      " 47  cleaned_text            466 non-null    object \n",
      " 48  month                   466 non-null    int64  \n",
      " 49  year                    466 non-null    int64  \n",
      " 50  week                    466 non-null    int64  \n",
      " 51  year_month              466 non-null    object \n",
      " 52  year_week               466 non-null    object \n",
      "dtypes: bool(5), float64(11), int64(15), object(22)\n",
      "memory usage: 177.2+ KB\n"
     ]
    }
   ],
   "source": [
    "# Get monthly data\n",
    "df_2014_12_neg = pd.read_csv('../data/local/df_neg_2014-12.csv').reset_index()\n",
    "df_2014_12_neg.info()"
   ]
  },
  {
   "cell_type": "markdown",
   "id": "4658d918",
   "metadata": {},
   "source": [
    "### Representative sample based on week and location"
   ]
  },
  {
   "cell_type": "code",
   "execution_count": 170,
   "id": "fcdbb1e9",
   "metadata": {},
   "outputs": [
    {
     "data": {
      "text/html": [
       "<div>\n",
       "<style scoped>\n",
       "    .dataframe tbody tr th:only-of-type {\n",
       "        vertical-align: middle;\n",
       "    }\n",
       "\n",
       "    .dataframe tbody tr th {\n",
       "        vertical-align: top;\n",
       "    }\n",
       "\n",
       "    .dataframe thead th {\n",
       "        text-align: right;\n",
       "    }\n",
       "</style>\n",
       "<table border=\"1\" class=\"dataframe\">\n",
       "  <thead>\n",
       "    <tr style=\"text-align: right;\">\n",
       "      <th></th>\n",
       "      <th>year_week</th>\n",
       "      <th>LocationName</th>\n",
       "      <th>group_size</th>\n",
       "      <th>proportion</th>\n",
       "    </tr>\n",
       "  </thead>\n",
       "  <tbody>\n",
       "    <tr>\n",
       "      <th>0</th>\n",
       "      <td>2014-w48</td>\n",
       "      <td>Bahia</td>\n",
       "      <td>3</td>\n",
       "      <td>0.006438</td>\n",
       "    </tr>\n",
       "    <tr>\n",
       "      <th>1</th>\n",
       "      <td>2014-w48</td>\n",
       "      <td>Ceara</td>\n",
       "      <td>2</td>\n",
       "      <td>0.004292</td>\n",
       "    </tr>\n",
       "    <tr>\n",
       "      <th>2</th>\n",
       "      <td>2014-w48</td>\n",
       "      <td>Goias</td>\n",
       "      <td>2</td>\n",
       "      <td>0.004292</td>\n",
       "    </tr>\n",
       "    <tr>\n",
       "      <th>3</th>\n",
       "      <td>2014-w48</td>\n",
       "      <td>Mato Grosso</td>\n",
       "      <td>1</td>\n",
       "      <td>0.002146</td>\n",
       "    </tr>\n",
       "    <tr>\n",
       "      <th>4</th>\n",
       "      <td>2014-w48</td>\n",
       "      <td>Mato Grosso Do Sul</td>\n",
       "      <td>3</td>\n",
       "      <td>0.006438</td>\n",
       "    </tr>\n",
       "    <tr>\n",
       "      <th>...</th>\n",
       "      <td>...</td>\n",
       "      <td>...</td>\n",
       "      <td>...</td>\n",
       "      <td>...</td>\n",
       "    </tr>\n",
       "    <tr>\n",
       "      <th>83</th>\n",
       "      <td>2014-w52</td>\n",
       "      <td>Sao Paulo</td>\n",
       "      <td>17</td>\n",
       "      <td>0.036481</td>\n",
       "    </tr>\n",
       "    <tr>\n",
       "      <th>84</th>\n",
       "      <td>2014-w52</td>\n",
       "      <td>Sergipe</td>\n",
       "      <td>1</td>\n",
       "      <td>0.002146</td>\n",
       "    </tr>\n",
       "    <tr>\n",
       "      <th>85</th>\n",
       "      <td>2014-w53</td>\n",
       "      <td>Bahia</td>\n",
       "      <td>1</td>\n",
       "      <td>0.002146</td>\n",
       "    </tr>\n",
       "    <tr>\n",
       "      <th>86</th>\n",
       "      <td>2014-w53</td>\n",
       "      <td>Minas Gerais</td>\n",
       "      <td>1</td>\n",
       "      <td>0.002146</td>\n",
       "    </tr>\n",
       "    <tr>\n",
       "      <th>87</th>\n",
       "      <td>2014-w53</td>\n",
       "      <td>Parana</td>\n",
       "      <td>1</td>\n",
       "      <td>0.002146</td>\n",
       "    </tr>\n",
       "  </tbody>\n",
       "</table>\n",
       "<p>88 rows × 4 columns</p>\n",
       "</div>"
      ],
      "text/plain": [
       "   year_week        LocationName  group_size  proportion\n",
       "0   2014-w48               Bahia           3    0.006438\n",
       "1   2014-w48               Ceara           2    0.004292\n",
       "2   2014-w48               Goias           2    0.004292\n",
       "3   2014-w48         Mato Grosso           1    0.002146\n",
       "4   2014-w48  Mato Grosso Do Sul           3    0.006438\n",
       "..       ...                 ...         ...         ...\n",
       "83  2014-w52           Sao Paulo          17    0.036481\n",
       "84  2014-w52             Sergipe           1    0.002146\n",
       "85  2014-w53               Bahia           1    0.002146\n",
       "86  2014-w53        Minas Gerais           1    0.002146\n",
       "87  2014-w53              Parana           1    0.002146\n",
       "\n",
       "[88 rows x 4 columns]"
      ]
     },
     "execution_count": 170,
     "metadata": {},
     "output_type": "execute_result"
    }
   ],
   "source": [
    "# Step 1: Calculate the size of each group (year_week, LocationName)\n",
    "group_sizes = df_2014_12_neg.groupby(['year_week', 'LocationName']).size().reset_index(name='group_size')\n",
    "\n",
    "# Step 2: Calculate the proportion of each group in the dataset\n",
    "total_rows = len(df_2014_12_neg)\n",
    "group_sizes['proportion'] = group_sizes['group_size'] / total_rows\n",
    "group_sizes"
   ]
  },
  {
   "cell_type": "code",
   "execution_count": 171,
   "id": "bbf24049",
   "metadata": {},
   "outputs": [
    {
     "data": {
      "text/html": [
       "<div>\n",
       "<style scoped>\n",
       "    .dataframe tbody tr th:only-of-type {\n",
       "        vertical-align: middle;\n",
       "    }\n",
       "\n",
       "    .dataframe tbody tr th {\n",
       "        vertical-align: top;\n",
       "    }\n",
       "\n",
       "    .dataframe thead th {\n",
       "        text-align: right;\n",
       "    }\n",
       "</style>\n",
       "<table border=\"1\" class=\"dataframe\">\n",
       "  <thead>\n",
       "    <tr style=\"text-align: right;\">\n",
       "      <th></th>\n",
       "      <th>year_week</th>\n",
       "      <th>LocationName</th>\n",
       "      <th>group_size</th>\n",
       "      <th>proportion</th>\n",
       "      <th>sample_size</th>\n",
       "    </tr>\n",
       "  </thead>\n",
       "  <tbody>\n",
       "    <tr>\n",
       "      <th>0</th>\n",
       "      <td>2014-w48</td>\n",
       "      <td>Bahia</td>\n",
       "      <td>3</td>\n",
       "      <td>0.006438</td>\n",
       "      <td>15</td>\n",
       "    </tr>\n",
       "    <tr>\n",
       "      <th>1</th>\n",
       "      <td>2014-w48</td>\n",
       "      <td>Ceara</td>\n",
       "      <td>2</td>\n",
       "      <td>0.004292</td>\n",
       "      <td>10</td>\n",
       "    </tr>\n",
       "    <tr>\n",
       "      <th>2</th>\n",
       "      <td>2014-w48</td>\n",
       "      <td>Goias</td>\n",
       "      <td>2</td>\n",
       "      <td>0.004292</td>\n",
       "      <td>10</td>\n",
       "    </tr>\n",
       "    <tr>\n",
       "      <th>3</th>\n",
       "      <td>2014-w48</td>\n",
       "      <td>Mato Grosso</td>\n",
       "      <td>1</td>\n",
       "      <td>0.002146</td>\n",
       "      <td>5</td>\n",
       "    </tr>\n",
       "    <tr>\n",
       "      <th>4</th>\n",
       "      <td>2014-w48</td>\n",
       "      <td>Mato Grosso Do Sul</td>\n",
       "      <td>3</td>\n",
       "      <td>0.006438</td>\n",
       "      <td>15</td>\n",
       "    </tr>\n",
       "    <tr>\n",
       "      <th>...</th>\n",
       "      <td>...</td>\n",
       "      <td>...</td>\n",
       "      <td>...</td>\n",
       "      <td>...</td>\n",
       "      <td>...</td>\n",
       "    </tr>\n",
       "    <tr>\n",
       "      <th>83</th>\n",
       "      <td>2014-w52</td>\n",
       "      <td>Sao Paulo</td>\n",
       "      <td>17</td>\n",
       "      <td>0.036481</td>\n",
       "      <td>89</td>\n",
       "    </tr>\n",
       "    <tr>\n",
       "      <th>84</th>\n",
       "      <td>2014-w52</td>\n",
       "      <td>Sergipe</td>\n",
       "      <td>1</td>\n",
       "      <td>0.002146</td>\n",
       "      <td>5</td>\n",
       "    </tr>\n",
       "    <tr>\n",
       "      <th>85</th>\n",
       "      <td>2014-w53</td>\n",
       "      <td>Bahia</td>\n",
       "      <td>1</td>\n",
       "      <td>0.002146</td>\n",
       "      <td>5</td>\n",
       "    </tr>\n",
       "    <tr>\n",
       "      <th>86</th>\n",
       "      <td>2014-w53</td>\n",
       "      <td>Minas Gerais</td>\n",
       "      <td>1</td>\n",
       "      <td>0.002146</td>\n",
       "      <td>5</td>\n",
       "    </tr>\n",
       "    <tr>\n",
       "      <th>87</th>\n",
       "      <td>2014-w53</td>\n",
       "      <td>Parana</td>\n",
       "      <td>1</td>\n",
       "      <td>0.002146</td>\n",
       "      <td>5</td>\n",
       "    </tr>\n",
       "  </tbody>\n",
       "</table>\n",
       "<p>88 rows × 5 columns</p>\n",
       "</div>"
      ],
      "text/plain": [
       "   year_week        LocationName  group_size  proportion  sample_size\n",
       "0   2014-w48               Bahia           3    0.006438           15\n",
       "1   2014-w48               Ceara           2    0.004292           10\n",
       "2   2014-w48               Goias           2    0.004292           10\n",
       "3   2014-w48         Mato Grosso           1    0.002146            5\n",
       "4   2014-w48  Mato Grosso Do Sul           3    0.006438           15\n",
       "..       ...                 ...         ...         ...          ...\n",
       "83  2014-w52           Sao Paulo          17    0.036481           89\n",
       "84  2014-w52             Sergipe           1    0.002146            5\n",
       "85  2014-w53               Bahia           1    0.002146            5\n",
       "86  2014-w53        Minas Gerais           1    0.002146            5\n",
       "87  2014-w53              Parana           1    0.002146            5\n",
       "\n",
       "[88 rows x 5 columns]"
      ]
     },
     "execution_count": 171,
     "metadata": {},
     "output_type": "execute_result"
    }
   ],
   "source": [
    "# Step 3: Define the target sample size\n",
    "target_sample_size = 2450\n",
    "\n",
    "# Step 4: Calculate the sample size for each group (based on its proportion)\n",
    "group_sizes['sample_size'] = np.floor(group_sizes['proportion'] * target_sample_size).astype(int)\n",
    "group_sizes"
   ]
  },
  {
   "cell_type": "code",
   "execution_count": 172,
   "id": "c207c408",
   "metadata": {},
   "outputs": [],
   "source": [
    "# Step 5: Merge this sample size information back to the original DataFrame\n",
    "df_2014_12_neg_sample_size = pd.merge(df_2014_12_neg, group_sizes[['year_week', 'LocationName', 'sample_size']], \n",
    "                               on=['year_week', 'LocationName'], how='left')"
   ]
  },
  {
   "cell_type": "code",
   "execution_count": 173,
   "id": "66d74acb",
   "metadata": {},
   "outputs": [
    {
     "name": "stdout",
     "output_type": "stream",
     "text": [
      "Sampled 466 rows.\n"
     ]
    }
   ],
   "source": [
    "# Step 6: Perform the stratified sampling\n",
    "#df_2014_12_neg_sample = df_2014_12_neg_sample_size.groupby(['year_week', 'LocationName']).apply(\n",
    " #   lambda group: group.sample(n=group['sample_size'].iloc[0], random_state=42)\n",
    "#).reset_index(drop=True)\n",
    "df_2014_12_neg_sample = df_2014_12_neg\n",
    "# Step 7: Check the result\n",
    "print(f\"Sampled {len(df_2014_12_neg_sample)} rows.\")\n"
   ]
  },
  {
   "cell_type": "code",
   "execution_count": 174,
   "id": "b23befcc",
   "metadata": {},
   "outputs": [],
   "source": [
    "text_gpt_2014_12_neg = '\\n'.join(df_2014_12_neg_sample['text'].astype(str))"
   ]
  },
  {
   "cell_type": "markdown",
   "id": "d3650c4b",
   "metadata": {},
   "source": [
    "### Prompts and loops"
   ]
  },
  {
   "cell_type": "code",
   "execution_count": 175,
   "id": "791b4fd6",
   "metadata": {},
   "outputs": [],
   "source": [
    "prompt_12 = prompt_raw.replace('TWEETS', text_gpt_2014_12_neg)"
   ]
  },
  {
   "cell_type": "code",
   "execution_count": 176,
   "id": "def2b9de",
   "metadata": {
    "scrolled": false
   },
   "outputs": [],
   "source": [
    "response = openai.ChatCompletion.create(\n",
    "    model=\"gpt-4o-mini\",  \n",
    "    messages = [\n",
    "        {\"role\": \"user\", \"content\": prompt_12}\n",
    "    ],\n",
    "    max_tokens=400,  # Maximum number of tokens in the response\n",
    "    temperature=0.7  # Controls the randomness of the output\n",
    ")"
   ]
  },
  {
   "cell_type": "code",
   "execution_count": 177,
   "id": "eb10f5ec",
   "metadata": {},
   "outputs": [
    {
     "data": {
      "text/plain": [
       "\"The text discusses various opinions and reactions to vaccinations, highlighting concerns about pain, side effects, and the effectiveness of vaccines. It also addresses issues of public health, vaccination campaigns' failures, and societal attitudes toward vaccines, including resistance from some groups. The underlying themes include fear of needles, personal discomfort, and the broader implications of vaccination in society.\""
      ]
     },
     "execution_count": 177,
     "metadata": {},
     "output_type": "execute_result"
    }
   ],
   "source": [
    "response.choices[0].message.content"
   ]
  },
  {
   "cell_type": "code",
   "execution_count": 178,
   "id": "82e7aa4c",
   "metadata": {},
   "outputs": [],
   "source": [
    "#summary = []\n",
    "#dataset = []"
   ]
  },
  {
   "cell_type": "code",
   "execution_count": 179,
   "id": "2a9d076b",
   "metadata": {},
   "outputs": [],
   "source": [
    "dataset.append(\"2014_12_negative\")"
   ]
  },
  {
   "cell_type": "code",
   "execution_count": 180,
   "id": "8a057dbe",
   "metadata": {},
   "outputs": [],
   "source": [
    "summary.append(response.choices[0].message.content)"
   ]
  },
  {
   "cell_type": "code",
   "execution_count": 181,
   "id": "3bb6bfbd",
   "metadata": {
    "tags": []
   },
   "outputs": [
    {
     "name": "stdout",
     "output_type": "stream",
     "text": [
      "<class 'pandas.core.frame.DataFrame'>\n",
      "RangeIndex: 12 entries, 0 to 11\n",
      "Data columns (total 2 columns):\n",
      " #   Column   Non-Null Count  Dtype \n",
      "---  ------   --------------  ----- \n",
      " 0   dataset  12 non-null     object\n",
      " 1   summary  12 non-null     object\n",
      "dtypes: object(2)\n",
      "memory usage: 320.0+ bytes\n"
     ]
    }
   ],
   "source": [
    "df_2014_neg = pd.DataFrame(list(zip(dataset, summary)),\n",
    "                            columns = ['dataset', 'summary'])\n",
    "df_2014_neg.info()"
   ]
  },
  {
   "cell_type": "code",
   "execution_count": 186,
   "id": "893bd100",
   "metadata": {},
   "outputs": [
    {
     "data": {
      "text/html": [
       "<div>\n",
       "<style scoped>\n",
       "    .dataframe tbody tr th:only-of-type {\n",
       "        vertical-align: middle;\n",
       "    }\n",
       "\n",
       "    .dataframe tbody tr th {\n",
       "        vertical-align: top;\n",
       "    }\n",
       "\n",
       "    .dataframe thead th {\n",
       "        text-align: right;\n",
       "    }\n",
       "</style>\n",
       "<table border=\"1\" class=\"dataframe\">\n",
       "  <thead>\n",
       "    <tr style=\"text-align: right;\">\n",
       "      <th></th>\n",
       "      <th>dataset</th>\n",
       "      <th>summary</th>\n",
       "    </tr>\n",
       "  </thead>\n",
       "  <tbody>\n",
       "    <tr>\n",
       "      <th>0</th>\n",
       "      <td>2014_01_negative</td>\n",
       "      <td>The sentences express various opinions and exp...</td>\n",
       "    </tr>\n",
       "    <tr>\n",
       "      <th>1</th>\n",
       "      <td>2014_02_negative</td>\n",
       "      <td>The text discusses various opinions and experi...</td>\n",
       "    </tr>\n",
       "    <tr>\n",
       "      <th>2</th>\n",
       "      <td>2014_03_negative</td>\n",
       "      <td>The text discusses the controversy surrounding...</td>\n",
       "    </tr>\n",
       "    <tr>\n",
       "      <th>3</th>\n",
       "      <td>2014_04_negative</td>\n",
       "      <td>The sentences discuss various sentiments about...</td>\n",
       "    </tr>\n",
       "    <tr>\n",
       "      <th>4</th>\n",
       "      <td>2014_05_negative</td>\n",
       "      <td>The text discusses various opinions and experi...</td>\n",
       "    </tr>\n",
       "    <tr>\n",
       "      <th>5</th>\n",
       "      <td>2014_06_negative</td>\n",
       "      <td>The text discusses various public reactions an...</td>\n",
       "    </tr>\n",
       "    <tr>\n",
       "      <th>6</th>\n",
       "      <td>2014_07_negative</td>\n",
       "      <td>The text discusses various experiences and opi...</td>\n",
       "    </tr>\n",
       "    <tr>\n",
       "      <th>7</th>\n",
       "      <td>2014_08_negative</td>\n",
       "      <td>The text discusses various experiences and opi...</td>\n",
       "    </tr>\n",
       "    <tr>\n",
       "      <th>8</th>\n",
       "      <td>2014_09_negative</td>\n",
       "      <td>Several reports highlight serious adverse reac...</td>\n",
       "    </tr>\n",
       "    <tr>\n",
       "      <th>9</th>\n",
       "      <td>2014_10_negative</td>\n",
       "      <td>The sentences discuss the controversy surround...</td>\n",
       "    </tr>\n",
       "    <tr>\n",
       "      <th>10</th>\n",
       "      <td>2014_11_negative</td>\n",
       "      <td>The text discusses various aspects of vaccinat...</td>\n",
       "    </tr>\n",
       "    <tr>\n",
       "      <th>11</th>\n",
       "      <td>2014_12_negative</td>\n",
       "      <td>The text discusses various opinions and reacti...</td>\n",
       "    </tr>\n",
       "  </tbody>\n",
       "</table>\n",
       "</div>"
      ],
      "text/plain": [
       "             dataset                                            summary\n",
       "0   2014_01_negative  The sentences express various opinions and exp...\n",
       "1   2014_02_negative  The text discusses various opinions and experi...\n",
       "2   2014_03_negative  The text discusses the controversy surrounding...\n",
       "3   2014_04_negative  The sentences discuss various sentiments about...\n",
       "4   2014_05_negative  The text discusses various opinions and experi...\n",
       "5   2014_06_negative  The text discusses various public reactions an...\n",
       "6   2014_07_negative  The text discusses various experiences and opi...\n",
       "7   2014_08_negative  The text discusses various experiences and opi...\n",
       "8   2014_09_negative  Several reports highlight serious adverse reac...\n",
       "9   2014_10_negative  The sentences discuss the controversy surround...\n",
       "10  2014_11_negative  The text discusses various aspects of vaccinat...\n",
       "11  2014_12_negative  The text discusses various opinions and reacti..."
      ]
     },
     "execution_count": 186,
     "metadata": {},
     "output_type": "execute_result"
    }
   ],
   "source": [
    "df_2014_neg.tail(14)"
   ]
  },
  {
   "cell_type": "code",
   "execution_count": 183,
   "id": "20bf36e0",
   "metadata": {},
   "outputs": [
    {
     "data": {
      "text/plain": [
       "<OpenAIObject chat.completion id=chatcmpl-AUdGod4TbTLsEHQrAfuvAhAINUhla at 0x26c2d3d10e0> JSON: {\n",
       "  \"choices\": [\n",
       "    {\n",
       "      \"finish_reason\": \"stop\",\n",
       "      \"index\": 0,\n",
       "      \"logprobs\": null,\n",
       "      \"message\": {\n",
       "        \"content\": \"The text discusses various opinions and reactions to vaccinations, highlighting concerns about pain, side effects, and the effectiveness of vaccines. It also addresses issues of public health, vaccination campaigns' failures, and societal attitudes toward vaccines, including resistance from some groups. The underlying themes include fear of needles, personal discomfort, and the broader implications of vaccination in society.\",\n",
       "        \"refusal\": null,\n",
       "        \"role\": \"assistant\"\n",
       "      }\n",
       "    }\n",
       "  ],\n",
       "  \"created\": 1731864158,\n",
       "  \"id\": \"chatcmpl-AUdGod4TbTLsEHQrAfuvAhAINUhla\",\n",
       "  \"model\": \"gpt-4o-mini-2024-07-18\",\n",
       "  \"object\": \"chat.completion\",\n",
       "  \"system_fingerprint\": \"fp_0ba0d124f1\",\n",
       "  \"usage\": {\n",
       "    \"completion_tokens\": 69,\n",
       "    \"completion_tokens_details\": {\n",
       "      \"accepted_prediction_tokens\": 0,\n",
       "      \"audio_tokens\": 0,\n",
       "      \"reasoning_tokens\": 0,\n",
       "      \"rejected_prediction_tokens\": 0\n",
       "    },\n",
       "    \"prompt_tokens\": 10207,\n",
       "    \"prompt_tokens_details\": {\n",
       "      \"audio_tokens\": 0,\n",
       "      \"cached_tokens\": 0\n",
       "    },\n",
       "    \"total_tokens\": 10276\n",
       "  }\n",
       "}"
      ]
     },
     "execution_count": 183,
     "metadata": {},
     "output_type": "execute_result"
    }
   ],
   "source": [
    "response"
   ]
  },
  {
   "cell_type": "markdown",
   "id": "4b2eea35",
   "metadata": {},
   "source": [
    "## All 2014 negative"
   ]
  },
  {
   "cell_type": "code",
   "execution_count": 185,
   "id": "07a22a8a",
   "metadata": {},
   "outputs": [],
   "source": [
    "#df_2014_neg['dataset'] = df_2014_neg['dataset'].str.replace('negitive','negative')"
   ]
  },
  {
   "cell_type": "code",
   "execution_count": 187,
   "id": "76b26dc9",
   "metadata": {},
   "outputs": [],
   "source": [
    "df_2014_neg.to_csv('../data/summary_2014_negative_tweets.csv')"
   ]
  }
 ],
 "metadata": {
  "kernelspec": {
   "display_name": "Python 3 (ipykernel)",
   "language": "python",
   "name": "python3"
  },
  "language_info": {
   "codemirror_mode": {
    "name": "ipython",
    "version": 3
   },
   "file_extension": ".py",
   "mimetype": "text/x-python",
   "name": "python",
   "nbconvert_exporter": "python",
   "pygments_lexer": "ipython3",
   "version": "3.9.12"
  }
 },
 "nbformat": 4,
 "nbformat_minor": 5
}
