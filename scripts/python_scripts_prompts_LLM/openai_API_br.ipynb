{
 "cells": [
  {
   "cell_type": "markdown",
   "id": "e90b7c28",
   "metadata": {},
   "source": [
    "# Import libraries and data"
   ]
  },
  {
   "cell_type": "code",
   "execution_count": 1,
   "id": "433219e8-8f66-4be5-a3b8-e39fca644032",
   "metadata": {
    "tags": []
   },
   "outputs": [],
   "source": [
    "import os\n",
    "import openai\n",
    "import pandas as pd\n",
    "import numpy as np\n",
    "import openpyxl\n",
    "import chardet"
   ]
  },
  {
   "cell_type": "code",
   "execution_count": 2,
   "id": "2c68f056-74fe-4f29-9daf-6bdef5cc0701",
   "metadata": {},
   "outputs": [],
   "source": [
    "# Get OpenAI API secret key\n",
    "open_ai_key = open('../data/local/openai_key.txt', 'r').read()\n",
    "openai.api_key = open_ai_key\n",
    "#openai.Model.list()"
   ]
  },
  {
   "cell_type": "code",
   "execution_count": 3,
   "id": "81541320-fa96-4a0b-b650-0173598db2e1",
   "metadata": {
    "scrolled": true,
    "tags": []
   },
   "outputs": [
    {
     "name": "stdout",
     "output_type": "stream",
     "text": [
      "<class 'pandas.core.frame.DataFrame'>\n",
      "RangeIndex: 849 entries, 0 to 848\n",
      "Data columns (total 9 columns):\n",
      " #   Column     Non-Null Count  Dtype  \n",
      "---  ------     --------------  -----  \n",
      " 0   text       849 non-null    object \n",
      " 1   positive   849 non-null    int64  \n",
      " 2   neutral    849 non-null    int64  \n",
      " 3   negative   849 non-null    int64  \n",
      " 4   total      849 non-null    int64  \n",
      " 5   neg_per    849 non-null    float64\n",
      " 6   pos_per    849 non-null    float64\n",
      " 7   neu_per    849 non-null    float64\n",
      " 8   agreement  849 non-null    int64  \n",
      "dtypes: float64(3), int64(5), object(1)\n",
      "memory usage: 59.8+ KB\n"
     ]
    }
   ],
   "source": [
    "# Get annotated tweets\n",
    "with open('../data/local/paho_tweets_filtered.csv', 'rb') as f:\n",
    "    result = chardet.detect(f.read())  # or readline if the file is large\n",
    "\n",
    "\n",
    "paho = pd.read_csv('../data/local/paho_tweets_filtered.csv', encoding=result['encoding']).reset_index().iloc[:, 2:]\n",
    "\n",
    "paho.info()"
   ]
  },
  {
   "cell_type": "code",
   "execution_count": 4,
   "id": "9f1d28e9-17f1-4f54-8a3d-51f4838ff9af",
   "metadata": {},
   "outputs": [
    {
     "data": {
      "text/plain": [
       "849"
      ]
     },
     "execution_count": 4,
     "metadata": {},
     "output_type": "execute_result"
    }
   ],
   "source": [
    "paho.shape[0]"
   ]
  },
  {
   "cell_type": "markdown",
   "id": "92d7e0ea",
   "metadata": {},
   "source": [
    "# Using sample to test prompt"
   ]
  },
  {
   "cell_type": "code",
   "execution_count": 5,
   "id": "00889b5f",
   "metadata": {},
   "outputs": [],
   "source": [
    "# Prompt for GPT\n",
    "prompt_raw_1 = \"Qual é a atitude do autor em relação às vacinas expresso pelo usuário do texto do tweet delimitado por crases triplos? \\\n",
    "Use uma das seguintes palavras: neutro, negativo, positivo. Inclua uma explicação para a seleção do sentimento. \\\n",
    "```{TEXTO_DO_TWEET_AQUI}```\""
   ]
  },
  {
   "cell_type": "code",
   "execution_count": 6,
   "id": "bbe518e2",
   "metadata": {},
   "outputs": [],
   "source": [
    "# Prompt for GPT\n",
    "prompt_raw_2 = \"Qual é a atitude do autor em relação às vacinas expresso pelo usuário do texto do tweet delimitado por crases triplos? \\\n",
    "Use uma das seguintes palavras: neutro, negativo, positivo. Inclua uma explicação para a seleção do sentimento. \\\n",
    "\\\n",
    "Exemplos de sentimento positivo: \\\n",
    "* Por favor não se esqueçam de tomar a vacina! \\\n",
    "* Vacina contra o câncer da pele é testada com sucesso. \\\n",
    "\\\n",
    "Examplos de sentimento neutro: \\\n",
    "* Fui tomar vacina ontem. \\\n",
    "* A nova campanha de vacinação contra a gripe começou hoje. \\\n",
    "\\\n",
    "Examplos de sentimento negativo: \\\n",
    "* Tomei vacina contra a gripe e meu braço ta doendo. \\\n",
    "* Estudo mostra efeitos colaterais sérios da nova vacina contra a gripe. \\\n",
    "\\\n",
    "```{TEXTO_DO_TWEET_AQUI}```\""
   ]
  },
  {
   "cell_type": "code",
   "execution_count": 7,
   "id": "04317462",
   "metadata": {},
   "outputs": [],
   "source": [
    "# Prompt for GPT\n",
    "prompt_raw_3 = \"Give me the sentiment regarding vaccination expressed by the user of the tweet text delimited by triple backticks. \\\n",
    "Use one of the following words: neutral, negative, positive. Include an explanation for the selection of the sentiment. \\\n",
    "```{TWEET_TEXT_HERE}```\""
   ]
  },
  {
   "cell_type": "code",
   "execution_count": 8,
   "id": "a315bbd9",
   "metadata": {},
   "outputs": [
    {
     "data": {
      "text/plain": [
       "849"
      ]
     },
     "execution_count": 8,
     "metadata": {},
     "output_type": "execute_result"
    }
   ],
   "source": [
    "len(paho.index)"
   ]
  },
  {
   "cell_type": "code",
   "execution_count": 9,
   "id": "c15b8328",
   "metadata": {},
   "outputs": [
    {
     "data": {
      "text/plain": [
       "'\"@<user>: Governo inclui no #SUS nova vacina contra coqueluche para grávidas e recém-nascidos: <url>'"
      ]
     },
     "execution_count": 9,
     "metadata": {},
     "output_type": "execute_result"
    }
   ],
   "source": [
    "paho.iloc[0,0]"
   ]
  },
  {
   "cell_type": "code",
   "execution_count": 10,
   "id": "fe47a29f",
   "metadata": {},
   "outputs": [],
   "source": [
    "id_gpt = []\n",
    "sent_gpt = []\n",
    "text = []"
   ]
  },
  {
   "cell_type": "code",
   "execution_count": 14,
   "id": "8f62bf0b",
   "metadata": {},
   "outputs": [
    {
     "name": "stdout",
     "output_type": "stream",
     "text": [
      "588\n",
      "589\n",
      "590\n",
      "591\n",
      "592\n",
      "593\n",
      "594\n",
      "595\n",
      "596\n",
      "597\n",
      "598\n",
      "599\n",
      "600\n",
      "601\n",
      "602\n",
      "603\n",
      "604\n",
      "605\n",
      "606\n",
      "607\n",
      "608\n",
      "609\n",
      "610\n",
      "611\n",
      "612\n",
      "613\n",
      "614\n",
      "615\n",
      "616\n",
      "617\n",
      "618\n",
      "619\n",
      "620\n",
      "621\n",
      "622\n",
      "623\n",
      "624\n",
      "625\n",
      "626\n",
      "627\n",
      "628\n",
      "629\n",
      "630\n",
      "631\n",
      "632\n",
      "633\n",
      "634\n",
      "635\n",
      "636\n",
      "637\n",
      "638\n",
      "639\n",
      "640\n",
      "641\n",
      "642\n",
      "643\n",
      "644\n",
      "645\n",
      "646\n",
      "647\n",
      "648\n",
      "649\n",
      "650\n",
      "651\n",
      "652\n",
      "653\n",
      "654\n",
      "655\n",
      "656\n",
      "657\n",
      "658\n",
      "659\n",
      "660\n",
      "661\n",
      "662\n",
      "663\n",
      "664\n",
      "665\n",
      "666\n",
      "667\n",
      "668\n",
      "669\n",
      "670\n",
      "671\n",
      "672\n",
      "673\n",
      "674\n",
      "675\n",
      "676\n",
      "677\n",
      "678\n",
      "679\n",
      "680\n",
      "681\n",
      "682\n",
      "683\n",
      "684\n",
      "685\n",
      "686\n",
      "687\n",
      "688\n",
      "689\n",
      "690\n",
      "691\n",
      "692\n",
      "693\n",
      "694\n",
      "695\n",
      "696\n",
      "697\n",
      "698\n",
      "699\n",
      "700\n",
      "701\n",
      "702\n",
      "703\n",
      "704\n",
      "705\n",
      "706\n",
      "707\n",
      "708\n",
      "709\n",
      "710\n",
      "711\n",
      "712\n",
      "713\n",
      "714\n",
      "715\n",
      "716\n",
      "717\n",
      "718\n",
      "719\n",
      "720\n",
      "721\n",
      "722\n",
      "723\n",
      "724\n",
      "725\n",
      "726\n",
      "727\n",
      "728\n",
      "729\n",
      "730\n",
      "731\n",
      "732\n",
      "733\n",
      "734\n",
      "735\n",
      "736\n",
      "737\n",
      "738\n",
      "739\n",
      "740\n",
      "741\n",
      "742\n",
      "743\n",
      "744\n",
      "745\n",
      "746\n",
      "747\n",
      "748\n",
      "749\n",
      "750\n",
      "751\n",
      "752\n",
      "753\n",
      "754\n",
      "755\n",
      "756\n",
      "757\n",
      "758\n",
      "759\n",
      "760\n",
      "761\n",
      "762\n",
      "763\n",
      "764\n",
      "765\n",
      "766\n",
      "767\n",
      "768\n",
      "769\n",
      "770\n",
      "771\n",
      "772\n",
      "773\n",
      "774\n",
      "775\n",
      "776\n",
      "777\n",
      "778\n",
      "779\n",
      "780\n",
      "781\n",
      "782\n",
      "783\n",
      "784\n",
      "785\n",
      "786\n",
      "787\n",
      "788\n",
      "789\n",
      "790\n",
      "791\n",
      "792\n",
      "793\n",
      "794\n",
      "795\n",
      "796\n",
      "797\n",
      "798\n",
      "799\n",
      "800\n",
      "801\n",
      "802\n",
      "803\n",
      "804\n",
      "805\n",
      "806\n",
      "807\n",
      "808\n",
      "809\n",
      "810\n",
      "811\n",
      "812\n",
      "813\n",
      "814\n",
      "815\n",
      "816\n",
      "817\n",
      "818\n",
      "819\n",
      "820\n",
      "821\n",
      "822\n",
      "823\n",
      "824\n",
      "825\n",
      "826\n",
      "827\n",
      "828\n",
      "829\n",
      "830\n",
      "831\n",
      "832\n",
      "833\n",
      "834\n",
      "835\n",
      "836\n",
      "837\n",
      "838\n",
      "839\n",
      "840\n",
      "841\n",
      "842\n",
      "843\n",
      "844\n",
      "845\n",
      "846\n",
      "847\n"
     ]
    }
   ],
   "source": [
    "for i in range(588, len(paho.index)-1):\n",
    "    prompt_i = prompt_raw_3.replace('TWEET_TEXT_HERE', paho.iloc[i,0])\n",
    "    response = openai.ChatCompletion.create(\n",
    "      #model=\"text-davinci-003\",\n",
    "      model = \"gpt-4\",\n",
    "      messages=[{\"role\": \"user\", \"content\": prompt_i}],\n",
    "      temperature=0.8,\n",
    "      #max_tokens=256,\n",
    "      top_p=1,\n",
    "      frequency_penalty=0,\n",
    "      presence_penalty=0\n",
    "    )\n",
    "    print(i)\n",
    "    text.append(paho.iloc[i,0])\n",
    "    sent_gpt.append(response.choices[0].message.content)"
   ]
  },
  {
   "cell_type": "code",
   "execution_count": 63,
   "id": "52c9278a",
   "metadata": {
    "scrolled": true
   },
   "outputs": [],
   "source": [
    "for i in range(0, 422):\n",
    "    prompt_i = prompt_raw_2.replace('TEXTO_DO_TWEET_AQUI', paho.iloc[i,0])\n",
    "    response = openai.Completion.create(\n",
    "      model=\"text-davinci-003\",\n",
    "      prompt=prompt_i,\n",
    "      temperature=0.8,\n",
    "      max_tokens=256,\n",
    "      top_p=1,\n",
    "      frequency_penalty=0,\n",
    "      presence_penalty=0\n",
    "    )\n",
    "    text.append(paho.iloc[i,0])\n",
    "    sent_gpt.append(response.choices[0].text)"
   ]
  },
  {
   "cell_type": "code",
   "execution_count": 15,
   "id": "b80e1e4e",
   "metadata": {
    "tags": []
   },
   "outputs": [
    {
     "name": "stdout",
     "output_type": "stream",
     "text": [
      "<class 'pandas.core.frame.DataFrame'>\n",
      "RangeIndex: 848 entries, 0 to 847\n",
      "Data columns (total 2 columns):\n",
      " #   Column         Non-Null Count  Dtype \n",
      "---  ------         --------------  ----- \n",
      " 0   text           848 non-null    object\n",
      " 1   sentiment_gpt  848 non-null    object\n",
      "dtypes: object(2)\n",
      "memory usage: 13.4+ KB\n"
     ]
    }
   ],
   "source": [
    "df_gpt_total = pd.DataFrame(list(zip(text, sent_gpt)),\n",
    "                            columns = ['text', 'sentiment_gpt'])\n",
    "df_gpt_total.info()"
   ]
  },
  {
   "cell_type": "code",
   "execution_count": 16,
   "id": "8f5c1cea",
   "metadata": {},
   "outputs": [],
   "source": [
    "df_gpt_total['prompt'] = 3"
   ]
  },
  {
   "cell_type": "code",
   "execution_count": 17,
   "id": "965e63a2",
   "metadata": {},
   "outputs": [],
   "source": [
    "df_gpt_total['model'] = \"GPT4\""
   ]
  },
  {
   "cell_type": "code",
   "execution_count": null,
   "id": "de211f05",
   "metadata": {},
   "outputs": [],
   "source": [
    "df_gpt_total.tail(10)"
   ]
  },
  {
   "cell_type": "code",
   "execution_count": 18,
   "id": "9a901463",
   "metadata": {},
   "outputs": [
    {
     "data": {
      "text/plain": [
       "848"
      ]
     },
     "execution_count": 18,
     "metadata": {},
     "output_type": "execute_result"
    }
   ],
   "source": [
    "len(df_gpt_total)"
   ]
  },
  {
   "cell_type": "code",
   "execution_count": 19,
   "id": "3c7ce791",
   "metadata": {},
   "outputs": [],
   "source": [
    "df_gpt_total_all = df_gpt_total"
   ]
  },
  {
   "cell_type": "code",
   "execution_count": 37,
   "id": "f921c6f6",
   "metadata": {},
   "outputs": [],
   "source": [
    "#df_gpt_total_all = df_gpt_total_all.append(df_gpt_total)"
   ]
  },
  {
   "cell_type": "code",
   "execution_count": 20,
   "id": "5bd6677b",
   "metadata": {},
   "outputs": [
    {
     "data": {
      "text/plain": [
       "848"
      ]
     },
     "execution_count": 20,
     "metadata": {},
     "output_type": "execute_result"
    }
   ],
   "source": [
    "len(df_gpt_total_all)"
   ]
  },
  {
   "cell_type": "code",
   "execution_count": null,
   "id": "1eb834c3",
   "metadata": {},
   "outputs": [],
   "source": [
    "df_gpt_total_all.tail()"
   ]
  },
  {
   "cell_type": "code",
   "execution_count": 21,
   "id": "420096e4",
   "metadata": {},
   "outputs": [],
   "source": [
    "df_gpt_total_all.to_csv('../data/local/gpt_sentiment_paho_prompt3_gpt4.csv')"
   ]
  },
  {
   "cell_type": "markdown",
   "id": "91665254",
   "metadata": {},
   "source": [
    "# Using three categories for vaccine sentiment"
   ]
  },
  {
   "cell_type": "code",
   "execution_count": 10,
   "id": "d9865707-b6c8-4dcc-bf88-1736bb13310a",
   "metadata": {},
   "outputs": [],
   "source": [
    "# Prompt for GPT\n",
    "prompt_raw = \"Give me the sentiment regarding vaccination expressed by the user in the tweet text delimited by triple backticks. \\\n",
    "Use one of the following words: neutral, negative, positive. \\\n",
    "```{TWEET_TEXT_HERE}```\""
   ]
  },
  {
   "cell_type": "code",
   "execution_count": 5,
   "id": "8ce27066-8efb-4903-81ea-0d3d4b5c1e86",
   "metadata": {},
   "outputs": [],
   "source": [
    "#prompt_i = prompt_raw.replace('TWEET_TEXT_HERE', tweets.iloc[0,1])"
   ]
  },
  {
   "cell_type": "code",
   "execution_count": 11,
   "id": "c026094b-57da-48e7-a465-5810644f8fe7",
   "metadata": {},
   "outputs": [
    {
     "data": {
      "text/plain": [
       "4786"
      ]
     },
     "execution_count": 11,
     "metadata": {},
     "output_type": "execute_result"
    }
   ],
   "source": [
    "len(tweets.index)"
   ]
  },
  {
   "cell_type": "code",
   "execution_count": 12,
   "id": "c23b36d9-0f9a-42fe-a366-8df1434a585b",
   "metadata": {},
   "outputs": [
    {
     "data": {
      "text/plain": [
       "<bound method DataFrame.info of      index                                               text  neutral  \\\n",
       "0        0  \"#Shingrix Vaccine Against Shingles Remains In...        3   \n",
       "1        1  \"...French scientist Louis Pasteur coined the ...        3   \n",
       "2        2  \"...due to potentially unexplained illnesses.\"...        2   \n",
       "3        3  \"...on average, it takes 10.7 years to develop...        3   \n",
       "4        4  \"..only 29 percent of the teens its members in...        3   \n",
       "..     ...                                                ...      ...   \n",
       "96      96  #COVID19 vaccine could be delivered in mailabl...        4   \n",
       "97      97  #COVID19Vaccine in 1 month? CSIR pins hope on ...        4   \n",
       "98      98  #COVID19dz Ignorance at the utmost level as co...        1   \n",
       "99      99  #CRO Vaccine Market in Austria to 2021 Market ...        3   \n",
       "100    100  #California has just implemented one of the #s...        3   \n",
       "\n",
       "     negative  positive  total  \n",
       "0           0         0      3  \n",
       "1           0         0      3  \n",
       "2           1         7     10  \n",
       "3           0         0      3  \n",
       "4           0         0      3  \n",
       "..        ...       ...    ...  \n",
       "96          1         5     10  \n",
       "97          0         7     11  \n",
       "98          1         9     11  \n",
       "99          0         0      3  \n",
       "100         0         0      3  \n",
       "\n",
       "[101 rows x 6 columns]>"
      ]
     },
     "execution_count": 12,
     "metadata": {},
     "output_type": "execute_result"
    }
   ],
   "source": [
    "test = tweets.iloc[:101, :]\n",
    "test.info"
   ]
  },
  {
   "cell_type": "code",
   "execution_count": 7,
   "id": "986b9ea8-c64d-4e27-ba53-1f57c3b53d21",
   "metadata": {},
   "outputs": [],
   "source": [
    "tweets1 = tweets.iloc[0:306,:]\n",
    "tweets2 = tweets.iloc[306:601,:]\n",
    "tweets3 = tweets.iloc[601:901, :]\n",
    "tweets4 = tweets.iloc[901:1201, :]\n"
   ]
  },
  {
   "cell_type": "code",
   "execution_count": 14,
   "id": "c487242a-2b6e-4b45-90a4-150efed6e32f",
   "metadata": {},
   "outputs": [
    {
     "data": {
      "text/plain": [
       "'\"...French scientist Louis Pasteur coined the term “vaccination” in honour of Jenner’s work (vacca being the Latin for cow)\" - TIL! 🐮💉 <url>'"
      ]
     },
     "execution_count": 14,
     "metadata": {},
     "output_type": "execute_result"
    }
   ],
   "source": [
    "test.iloc[1,1]"
   ]
  },
  {
   "cell_type": "code",
   "execution_count": 68,
   "id": "ecfc3a3b-514a-43f9-9a1a-3506358cc2cc",
   "metadata": {},
   "outputs": [],
   "source": [
    "id_gpt = []\n",
    "sent_gpt = []"
   ]
  },
  {
   "cell_type": "code",
   "execution_count": 69,
   "id": "80ade1ff-1238-4ab3-a151-3a2df1163a1b",
   "metadata": {},
   "outputs": [],
   "source": [
    "for i in range(0,4785):\n",
    "    prompt_i = prompt_raw.replace('TWEET_TEXT_HERE', tweets.iloc[i,1])\n",
    "    response = openai.Completion.create(\n",
    "      model=\"text-davinci-003\",\n",
    "      prompt=prompt_i,\n",
    "      temperature=0.8,\n",
    "      max_tokens=256,\n",
    "      top_p=1,\n",
    "      frequency_penalty=0,\n",
    "      presence_penalty=0\n",
    "    )\n",
    "    id_gpt.append(tweets.iloc[i,0])\n",
    "    sent_gpt.append(response.choices[0].text)"
   ]
  },
  {
   "cell_type": "code",
   "execution_count": 38,
   "id": "2c9a278c",
   "metadata": {},
   "outputs": [],
   "source": [
    "run = np.array([1])"
   ]
  },
  {
   "cell_type": "code",
   "execution_count": 70,
   "id": "a251c314-a165-4a19-8bc0-06f04c2d7feb",
   "metadata": {
    "tags": []
   },
   "outputs": [
    {
     "name": "stdout",
     "output_type": "stream",
     "text": [
      "<class 'pandas.core.frame.DataFrame'>\n",
      "RangeIndex: 4785 entries, 0 to 4784\n",
      "Data columns (total 2 columns):\n",
      " #   Column         Non-Null Count  Dtype \n",
      "---  ------         --------------  ----- \n",
      " 0   id_gpt         4785 non-null   int64 \n",
      " 1   sentiment_gpt  4785 non-null   object\n",
      "dtypes: int64(1), object(1)\n",
      "memory usage: 74.9+ KB\n"
     ]
    }
   ],
   "source": [
    "df_gpt_total = pd.DataFrame(list(zip(id_gpt, sent_gpt)),\n",
    "                            columns = ['id_gpt', 'sentiment_gpt'])\n",
    "df_gpt_total.info()"
   ]
  },
  {
   "cell_type": "code",
   "execution_count": 71,
   "id": "ef24fe3d",
   "metadata": {},
   "outputs": [],
   "source": [
    "df_gpt_total['run'] = 3"
   ]
  },
  {
   "cell_type": "code",
   "execution_count": 72,
   "id": "9386b878-5de3-49d7-b055-a88cea4c6d4b",
   "metadata": {},
   "outputs": [
    {
     "data": {
      "text/html": [
       "<div>\n",
       "<style scoped>\n",
       "    .dataframe tbody tr th:only-of-type {\n",
       "        vertical-align: middle;\n",
       "    }\n",
       "\n",
       "    .dataframe tbody tr th {\n",
       "        vertical-align: top;\n",
       "    }\n",
       "\n",
       "    .dataframe thead th {\n",
       "        text-align: right;\n",
       "    }\n",
       "</style>\n",
       "<table border=\"1\" class=\"dataframe\">\n",
       "  <thead>\n",
       "    <tr style=\"text-align: right;\">\n",
       "      <th></th>\n",
       "      <th>id_gpt</th>\n",
       "      <th>sentiment_gpt</th>\n",
       "      <th>run</th>\n",
       "    </tr>\n",
       "  </thead>\n",
       "  <tbody>\n",
       "    <tr>\n",
       "      <th>4780</th>\n",
       "      <td>4780</td>\n",
       "      <td>\\n\\nNegative</td>\n",
       "      <td>3</td>\n",
       "    </tr>\n",
       "    <tr>\n",
       "      <th>4781</th>\n",
       "      <td>4781</td>\n",
       "      <td>\\n\\npositive</td>\n",
       "      <td>3</td>\n",
       "    </tr>\n",
       "    <tr>\n",
       "      <th>4782</th>\n",
       "      <td>4782</td>\n",
       "      <td>\\n\\nneutral</td>\n",
       "      <td>3</td>\n",
       "    </tr>\n",
       "    <tr>\n",
       "      <th>4783</th>\n",
       "      <td>4783</td>\n",
       "      <td>\\n\\npositive</td>\n",
       "      <td>3</td>\n",
       "    </tr>\n",
       "    <tr>\n",
       "      <th>4784</th>\n",
       "      <td>4784</td>\n",
       "      <td>\\n\\nNeutral</td>\n",
       "      <td>3</td>\n",
       "    </tr>\n",
       "  </tbody>\n",
       "</table>\n",
       "</div>"
      ],
      "text/plain": [
       "      id_gpt sentiment_gpt  run\n",
       "4780    4780  \\n\\nNegative    3\n",
       "4781    4781  \\n\\npositive    3\n",
       "4782    4782   \\n\\nneutral    3\n",
       "4783    4783  \\n\\npositive    3\n",
       "4784    4784   \\n\\nNeutral    3"
      ]
     },
     "execution_count": 72,
     "metadata": {},
     "output_type": "execute_result"
    }
   ],
   "source": [
    "df_gpt_total.tail()"
   ]
  },
  {
   "cell_type": "code",
   "execution_count": 59,
   "id": "d7b69a10",
   "metadata": {},
   "outputs": [
    {
     "name": "stderr",
     "output_type": "stream",
     "text": [
      "C:\\Users\\lespinosa\\AppData\\Local\\Temp\\ipykernel_23560\\3678373193.py:1: FutureWarning: The frame.append method is deprecated and will be removed from pandas in a future version. Use pandas.concat instead.\n",
      "  df_gpt_total_all = df_gpt_total.append(df_gpt_total2)\n"
     ]
    }
   ],
   "source": [
    "#df_gpt_total_all = df_gpt_total.append(df_gpt_total2)"
   ]
  },
  {
   "cell_type": "code",
   "execution_count": 73,
   "id": "ba4e26f3-b7f2-4813-b50a-cb7905e0abe5",
   "metadata": {},
   "outputs": [],
   "source": [
    "df_gpt_total.to_excel('../data/local/gpt_sentiment_mturk_v4.xlsx')\n"
   ]
  },
  {
   "cell_type": "markdown",
   "id": "f618d0e5",
   "metadata": {},
   "source": [
    "# Using two categories for vaccine sentiment"
   ]
  },
  {
   "cell_type": "code",
   "execution_count": 6,
   "id": "ae054d6a",
   "metadata": {},
   "outputs": [
    {
     "data": {
      "text/html": [
       "<div>\n",
       "<style scoped>\n",
       "    .dataframe tbody tr th:only-of-type {\n",
       "        vertical-align: middle;\n",
       "    }\n",
       "\n",
       "    .dataframe tbody tr th {\n",
       "        vertical-align: top;\n",
       "    }\n",
       "\n",
       "    .dataframe thead th {\n",
       "        text-align: right;\n",
       "    }\n",
       "</style>\n",
       "<table border=\"1\" class=\"dataframe\">\n",
       "  <thead>\n",
       "    <tr style=\"text-align: right;\">\n",
       "      <th></th>\n",
       "      <th>index</th>\n",
       "      <th>id</th>\n",
       "      <th>text</th>\n",
       "      <th>label_tag</th>\n",
       "    </tr>\n",
       "  </thead>\n",
       "  <tbody>\n",
       "    <tr>\n",
       "      <th>18</th>\n",
       "      <td>18</td>\n",
       "      <td>1235574994924490752</td>\n",
       "      <td>@user @user I saw #VaxxedII yesterday and I ha...</td>\n",
       "      <td>negative</td>\n",
       "    </tr>\n",
       "    <tr>\n",
       "      <th>22</th>\n",
       "      <td>22</td>\n",
       "      <td>1236451808412909568</td>\n",
       "      <td>Dear anti-vaxxers. If you are legitimately wor...</td>\n",
       "      <td>positive</td>\n",
       "    </tr>\n",
       "    <tr>\n",
       "      <th>26</th>\n",
       "      <td>26</td>\n",
       "      <td>1237492335430250496</td>\n",
       "      <td>@user @user thank you for the vaccine LOL #Wel...</td>\n",
       "      <td>positive</td>\n",
       "    </tr>\n",
       "    <tr>\n",
       "      <th>28</th>\n",
       "      <td>28</td>\n",
       "      <td>1237894709306986496</td>\n",
       "      <td>Remember polio? Killed a lot of people. Vaccin...</td>\n",
       "      <td>positive</td>\n",
       "    </tr>\n",
       "    <tr>\n",
       "      <th>38</th>\n",
       "      <td>38</td>\n",
       "      <td>1239077015250030592</td>\n",
       "      <td>You be ready to pay what this Coronavirus vacc...</td>\n",
       "      <td>negative</td>\n",
       "    </tr>\n",
       "  </tbody>\n",
       "</table>\n",
       "</div>"
      ],
      "text/plain": [
       "    index                   id  \\\n",
       "18     18  1235574994924490752   \n",
       "22     22  1236451808412909568   \n",
       "26     26  1237492335430250496   \n",
       "28     28  1237894709306986496   \n",
       "38     38  1239077015250030592   \n",
       "\n",
       "                                                 text label_tag  \n",
       "18  @user @user I saw #VaxxedII yesterday and I ha...  negative  \n",
       "22  Dear anti-vaxxers. If you are legitimately wor...  positive  \n",
       "26  @user @user thank you for the vaccine LOL #Wel...  positive  \n",
       "28  Remember polio? Killed a lot of people. Vaccin...  positive  \n",
       "38  You be ready to pay what this Coronavirus vacc...  negative  "
      ]
     },
     "execution_count": 6,
     "metadata": {},
     "output_type": "execute_result"
    }
   ],
   "source": [
    "tweets_pos_neg = tweets[tweets['label_tag'].isin(['positive', 'negative'])]\n",
    "tweets_pos_neg.head()"
   ]
  },
  {
   "cell_type": "code",
   "execution_count": 39,
   "id": "00b76182-73e4-45c0-aa71-efa35591b01c",
   "metadata": {},
   "outputs": [
    {
     "data": {
      "text/html": [
       "<div>\n",
       "<style scoped>\n",
       "    .dataframe tbody tr th:only-of-type {\n",
       "        vertical-align: middle;\n",
       "    }\n",
       "\n",
       "    .dataframe tbody tr th {\n",
       "        vertical-align: top;\n",
       "    }\n",
       "\n",
       "    .dataframe thead th {\n",
       "        text-align: right;\n",
       "    }\n",
       "</style>\n",
       "<table border=\"1\" class=\"dataframe\">\n",
       "  <thead>\n",
       "    <tr style=\"text-align: right;\">\n",
       "      <th></th>\n",
       "      <th>index</th>\n",
       "      <th>id</th>\n",
       "      <th>text</th>\n",
       "      <th>label_tag</th>\n",
       "    </tr>\n",
       "  </thead>\n",
       "  <tbody>\n",
       "    <tr>\n",
       "      <th>1</th>\n",
       "      <td>1</td>\n",
       "      <td>1008751928568840192</td>\n",
       "      <td>Great news to see. Hopefully, folks who disput...</td>\n",
       "      <td>positive</td>\n",
       "    </tr>\n",
       "    <tr>\n",
       "      <th>2</th>\n",
       "      <td>2</td>\n",
       "      <td>1008751948957351936</td>\n",
       "      <td>The global community must invest in further re...</td>\n",
       "      <td>positive</td>\n",
       "    </tr>\n",
       "    <tr>\n",
       "      <th>3</th>\n",
       "      <td>3</td>\n",
       "      <td>1008752099222523904</td>\n",
       "      <td>HPV vaccine has almost wiped out infections in...</td>\n",
       "      <td>positive</td>\n",
       "    </tr>\n",
       "    <tr>\n",
       "      <th>4</th>\n",
       "      <td>4</td>\n",
       "      <td>1010156916553736192</td>\n",
       "      <td>So I can catch this shit too and need treatmen...</td>\n",
       "      <td>negative</td>\n",
       "    </tr>\n",
       "    <tr>\n",
       "      <th>5</th>\n",
       "      <td>5</td>\n",
       "      <td>1010157450618601472</td>\n",
       "      <td>Could a #vaccine for #type-1 diabetes be on th...</td>\n",
       "      <td>positive</td>\n",
       "    </tr>\n",
       "  </tbody>\n",
       "</table>\n",
       "</div>"
      ],
      "text/plain": [
       "   index                   id  \\\n",
       "1      1  1008751928568840192   \n",
       "2      2  1008751948957351936   \n",
       "3      3  1008752099222523904   \n",
       "4      4  1010156916553736192   \n",
       "5      5  1010157450618601472   \n",
       "\n",
       "                                                text label_tag  \n",
       "1  Great news to see. Hopefully, folks who disput...  positive  \n",
       "2  The global community must invest in further re...  positive  \n",
       "3  HPV vaccine has almost wiped out infections in...  positive  \n",
       "4  So I can catch this shit too and need treatmen...  negative  \n",
       "5  Could a #vaccine for #type-1 diabetes be on th...  positive  "
      ]
     },
     "execution_count": 39,
     "metadata": {},
     "output_type": "execute_result"
    }
   ],
   "source": [
    "tweets_new_pos_neg = tweets_new[tweets_new['label_tag'].isin(['positive', 'negative'])]\n",
    "tweets_new_pos_neg.head()"
   ]
  },
  {
   "cell_type": "code",
   "execution_count": 42,
   "id": "14e6c624",
   "metadata": {},
   "outputs": [],
   "source": [
    "prompt_raw_pos_neg = \"Please give me the sentiment regarding vaccination in the following tweet: \\\n",
    "\"TWEET_TEXT_HERE\\\"\\nUse one of the following words: negative, positive\""
   ]
  },
  {
   "cell_type": "code",
   "execution_count": 40,
   "id": "b15c9420",
   "metadata": {},
   "outputs": [
    {
     "data": {
      "text/plain": [
       "128"
      ]
     },
     "execution_count": 40,
     "metadata": {},
     "output_type": "execute_result"
    }
   ],
   "source": [
    "len(tweets_new_pos_neg.index)"
   ]
  },
  {
   "cell_type": "code",
   "execution_count": 9,
   "id": "2f726abb",
   "metadata": {},
   "outputs": [
    {
     "data": {
      "text/html": [
       "<div>\n",
       "<style scoped>\n",
       "    .dataframe tbody tr th:only-of-type {\n",
       "        vertical-align: middle;\n",
       "    }\n",
       "\n",
       "    .dataframe tbody tr th {\n",
       "        vertical-align: top;\n",
       "    }\n",
       "\n",
       "    .dataframe thead th {\n",
       "        text-align: right;\n",
       "    }\n",
       "</style>\n",
       "<table border=\"1\" class=\"dataframe\">\n",
       "  <thead>\n",
       "    <tr style=\"text-align: right;\">\n",
       "      <th></th>\n",
       "      <th>index</th>\n",
       "      <th>id</th>\n",
       "      <th>text</th>\n",
       "      <th>label_tag</th>\n",
       "    </tr>\n",
       "  </thead>\n",
       "  <tbody>\n",
       "    <tr>\n",
       "      <th>18</th>\n",
       "      <td>18</td>\n",
       "      <td>1235574994924490752</td>\n",
       "      <td>@user @user I saw #VaxxedII yesterday and I ha...</td>\n",
       "      <td>negative</td>\n",
       "    </tr>\n",
       "    <tr>\n",
       "      <th>22</th>\n",
       "      <td>22</td>\n",
       "      <td>1236451808412909568</td>\n",
       "      <td>Dear anti-vaxxers. If you are legitimately wor...</td>\n",
       "      <td>positive</td>\n",
       "    </tr>\n",
       "  </tbody>\n",
       "</table>\n",
       "</div>"
      ],
      "text/plain": [
       "    index                   id  \\\n",
       "18     18  1235574994924490752   \n",
       "22     22  1236451808412909568   \n",
       "\n",
       "                                                 text label_tag  \n",
       "18  @user @user I saw #VaxxedII yesterday and I ha...  negative  \n",
       "22  Dear anti-vaxxers. If you are legitimately wor...  positive  "
      ]
     },
     "execution_count": 9,
     "metadata": {},
     "output_type": "execute_result"
    }
   ],
   "source": [
    "test = tweets_pos_neg.iloc[0:2, :]\n",
    "test"
   ]
  },
  {
   "cell_type": "code",
   "execution_count": 7,
   "id": "2bcdc70c",
   "metadata": {},
   "outputs": [],
   "source": [
    "tweets_pos_neg1 = tweets_pos_neg.iloc[0:306,:]\n",
    "tweets_pos_neg2 = tweets_pos_neg.iloc[306:601,:]\n",
    "tweets_pos_neg3 = tweets_pos_neg.iloc[601:901, :]\n",
    "tweets_pos_neg4 = tweets_pos_neg.iloc[901:1201, :]\n"
   ]
  },
  {
   "cell_type": "code",
   "execution_count": 103,
   "id": "cfa78bf9",
   "metadata": {},
   "outputs": [],
   "source": [
    "tweets_pos_neg4 = tweets_pos_neg.iloc[901:1201, :]"
   ]
  },
  {
   "cell_type": "code",
   "execution_count": 43,
   "id": "80b65b5e",
   "metadata": {},
   "outputs": [],
   "source": [
    "id_gpt_two = []\n",
    "sent_gpt_two = []"
   ]
  },
  {
   "cell_type": "code",
   "execution_count": 44,
   "id": "48395218",
   "metadata": {},
   "outputs": [],
   "source": [
    "for i in range(0,128):\n",
    "    prompt_two_i = prompt_raw_pos_neg.replace('TWEET_TEXT_HERE', tweets_new_pos_neg.iloc[i,2])\n",
    "    response_two = openai.Completion.create(\n",
    "      model=\"text-davinci-003\",\n",
    "      prompt=prompt_two_i,\n",
    "      temperature=0.7,\n",
    "      max_tokens=256,\n",
    "      top_p=1,\n",
    "      frequency_penalty=0,\n",
    "      presence_penalty=0\n",
    "    )\n",
    "    id_gpt_two.append(tweets_new_pos_neg.iloc[i,0])\n",
    "    sent_gpt_two.append(response_two.choices[0].text)"
   ]
  },
  {
   "cell_type": "code",
   "execution_count": 17,
   "id": "69cfbfaf",
   "metadata": {},
   "outputs": [],
   "source": [
    "prompt_two_1339 = prompt_raw_pos_neg.replace('TWEET_TEXT_HERE', tweets_pos_neg.iloc[1339,2])\n",
    "response_two = openai.Completion.create(\n",
    "      model=\"text-davinci-003\",\n",
    "      prompt=prompt_two_1339,\n",
    "      temperature=0.7,\n",
    "      max_tokens=256,\n",
    "      top_p=1,\n",
    "      frequency_penalty=0,\n",
    "      presence_penalty=0\n",
    "    )\n",
    "id_gpt_two.append(tweets_pos_neg.iloc[1339,0])\n",
    "sent_gpt_two.append(response_two.choices[0].text)"
   ]
  },
  {
   "cell_type": "code",
   "execution_count": 46,
   "id": "bcee3e9d",
   "metadata": {
    "tags": []
   },
   "outputs": [
    {
     "name": "stdout",
     "output_type": "stream",
     "text": [
      "<class 'pandas.core.frame.DataFrame'>\n",
      "RangeIndex: 128 entries, 0 to 127\n",
      "Data columns (total 2 columns):\n",
      " #   Column             Non-Null Count  Dtype \n",
      "---  ------             --------------  ----- \n",
      " 0   id_gpt_two         128 non-null    int64 \n",
      " 1   sentiment_gpt_two  128 non-null    object\n",
      "dtypes: int64(1), object(1)\n",
      "memory usage: 2.1+ KB\n"
     ]
    }
   ],
   "source": [
    "df_two_gpt_total = pd.DataFrame(list(zip(id_gpt_two, sent_gpt_two)),\n",
    "                            columns = ['id_gpt_two', 'sentiment_gpt_two'])\n",
    "df_two_gpt_total.info()"
   ]
  },
  {
   "cell_type": "code",
   "execution_count": 47,
   "id": "c0dd6a82",
   "metadata": {},
   "outputs": [
    {
     "data": {
      "text/html": [
       "<div>\n",
       "<style scoped>\n",
       "    .dataframe tbody tr th:only-of-type {\n",
       "        vertical-align: middle;\n",
       "    }\n",
       "\n",
       "    .dataframe tbody tr th {\n",
       "        vertical-align: top;\n",
       "    }\n",
       "\n",
       "    .dataframe thead th {\n",
       "        text-align: right;\n",
       "    }\n",
       "</style>\n",
       "<table border=\"1\" class=\"dataframe\">\n",
       "  <thead>\n",
       "    <tr style=\"text-align: right;\">\n",
       "      <th></th>\n",
       "      <th>id_gpt_two</th>\n",
       "      <th>sentiment_gpt_two</th>\n",
       "    </tr>\n",
       "  </thead>\n",
       "  <tbody>\n",
       "    <tr>\n",
       "      <th>123</th>\n",
       "      <td>179</td>\n",
       "      <td>, or neutral\\n\\nPositive</td>\n",
       "    </tr>\n",
       "    <tr>\n",
       "      <th>124</th>\n",
       "      <td>180</td>\n",
       "      <td>, or neutral\\n\\nPositive</td>\n",
       "    </tr>\n",
       "    <tr>\n",
       "      <th>125</th>\n",
       "      <td>181</td>\n",
       "      <td>, or neutral\\n\\nNegative</td>\n",
       "    </tr>\n",
       "    <tr>\n",
       "      <th>126</th>\n",
       "      <td>182</td>\n",
       "      <td>, or neutral\\n\\nPositive</td>\n",
       "    </tr>\n",
       "    <tr>\n",
       "      <th>127</th>\n",
       "      <td>184</td>\n",
       "      <td>\\n\\nNegative</td>\n",
       "    </tr>\n",
       "  </tbody>\n",
       "</table>\n",
       "</div>"
      ],
      "text/plain": [
       "     id_gpt_two         sentiment_gpt_two\n",
       "123         179  , or neutral\\n\\nPositive\n",
       "124         180  , or neutral\\n\\nPositive\n",
       "125         181  , or neutral\\n\\nNegative\n",
       "126         182  , or neutral\\n\\nPositive\n",
       "127         184              \\n\\nNegative"
      ]
     },
     "execution_count": 47,
     "metadata": {},
     "output_type": "execute_result"
    }
   ],
   "source": [
    "df_two_gpt_total.tail()"
   ]
  },
  {
   "cell_type": "code",
   "execution_count": 108,
   "id": "304fbd5d",
   "metadata": {},
   "outputs": [],
   "source": [
    "id_gpt13 = id_gpt\n",
    "sent_gpt13 = sent_gpt\n",
    "df_gpt_total13 = df_gpt_total"
   ]
  },
  {
   "cell_type": "code",
   "execution_count": 25,
   "id": "73353eb4",
   "metadata": {},
   "outputs": [
    {
     "name": "stdout",
     "output_type": "stream",
     "text": [
      "<class 'pandas.core.series.Series'>\n"
     ]
    }
   ],
   "source": [
    "#df_gpt_total1.to_csv('../data/local/gpt_sentiment1.csv')\n",
    "df_gpt_total1['sentiment_gpt2'] = df_gpt_total1['sentiment_gpt'].to_string()\n",
    "print(type(df_gpt_total1['sentiment_gpt2']))"
   ]
  },
  {
   "cell_type": "code",
   "execution_count": 30,
   "id": "9c8d28fe",
   "metadata": {},
   "outputs": [],
   "source": [
    "#sent_gpt1.to_csv('../data/local/gpt_sentiment1_only.csv')"
   ]
  },
  {
   "cell_type": "code",
   "execution_count": 48,
   "id": "d3eda4c7",
   "metadata": {},
   "outputs": [],
   "source": [
    "df_two_gpt_total.to_excel('../data/local/gpt_sentiment_new_pos_neg.xlsx')\n"
   ]
  }
 ],
 "metadata": {
  "kernelspec": {
   "display_name": "Python 3 (ipykernel)",
   "language": "python",
   "name": "python3"
  },
  "language_info": {
   "codemirror_mode": {
    "name": "ipython",
    "version": 3
   },
   "file_extension": ".py",
   "mimetype": "text/x-python",
   "name": "python",
   "nbconvert_exporter": "python",
   "pygments_lexer": "ipython3",
   "version": "3.9.12"
  }
 },
 "nbformat": 4,
 "nbformat_minor": 5
}
